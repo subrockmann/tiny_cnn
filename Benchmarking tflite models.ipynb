{
 "cells": [
  {
   "attachments": {},
   "cell_type": "markdown",
   "metadata": {},
   "source": [
    "# Benchmarking tflite models  \n",
    "\n",
    "This notebook requires the native benchmark binary for linux that you can get from this page:  \n",
    " [https://www.tensorflow.org/lite/performance/measurement](https://www.tensorflow.org/lite/performance/measurement)  \n",
    "\n",
    " This binary must be placed into the \"benchmarking folder\".\n",
    "\n",
    " This notebook must be run under LINUX!\n",
    "\n",
    " TensorFlow Lite benchmark tools currently measure and calculate statistics for the following important performance metrics:\n",
    "\n",
    "- Initialization time\n",
    "- Inference time of warmup state\n",
    "- Inference time of steady state\n",
    "- Memory usage during initialization time\n",
    "- Overall memory usage"
   ]
  },
  {
   "cell_type": "code",
   "execution_count": 1,
   "metadata": {},
   "outputs": [],
   "source": [
    "import os, sys, math, datetime\n",
    "import pathlib\n",
    "from pathlib import Path\n",
    "\n",
    "# import workbench.config.config\n",
    "from workbench.config.config import initialize\n",
    "from workbench.utils.utils import create_filepaths"
   ]
  },
  {
   "cell_type": "code",
   "execution_count": 2,
   "metadata": {},
   "outputs": [],
   "source": [
    "import re\n",
    "from matplotlib import pyplot as plt\n",
    "#import plotly.express as px\n",
    "import pandas as pd\n",
    "\n",
    "\n",
    "# enable plotly in VS Studio Code\n",
    "#import plotly.io as pio\n",
    "#pio.renderers.default = \"notebook_connected\"\n",
    "#pio.renderers.default = \"plotly_mimetype+notebook\"\n",
    "\n",
    "import wandb"
   ]
  },
  {
   "cell_type": "code",
   "execution_count": 3,
   "metadata": {},
   "outputs": [],
   "source": [
    "# Configure pandas to show all columns & rows\n",
    "pd.set_option('display.max_columns', None)\n",
    "#pd.set_option('display.max_rows', None)\n",
    "pd.set_option('display.max_colwidth', None)"
   ]
  },
  {
   "cell_type": "code",
   "execution_count": 4,
   "metadata": {},
   "outputs": [],
   "source": [
    "models_dir = initialize()"
   ]
  },
  {
   "cell_type": "code",
   "execution_count": 5,
   "metadata": {},
   "outputs": [
    {
     "name": "stdout",
     "output_type": "stream",
     "text": [
      "i:\\tinyml\\tiny_cnn\\models\n"
     ]
    }
   ],
   "source": [
    "global model_name\n",
    "#model_name = \"efficientNetB0_1_96_c1_o3_keras\"\n",
    "#model_name = \"mobilenetv2_0.1_96_c1_o3_l1\"\n",
    "#model_name = \"mobilenetv1_0.1_96_c3_o3_l2\"\n",
    "model_name = \"shufflenetv2tiny_0.1_96_c3_o3_f4l1024\"\n",
    "\n",
    "models_path, models_summary_path, models_image_path, models_layer_df_path, models_tf_path, models_tflite_path, models_tflite_opt_path = create_filepaths(model_name)"
   ]
  },
  {
   "cell_type": "code",
   "execution_count": 6,
   "metadata": {},
   "outputs": [
    {
     "data": {
      "text/plain": [
       "WindowsPath('i:/tinyml/tiny_cnn/models/shufflenetv2tiny_0.1_96_c3_o3_f4l1024/shufflenetv2tiny_0.1_96_c3_o3_f4l1024_benchmark.txt')"
      ]
     },
     "execution_count": 6,
     "metadata": {},
     "output_type": "execute_result"
    }
   ],
   "source": [
    "models_benchmark_path = models_dir.joinpath(model_name, f\"{model_name}_benchmark.txt\")\n",
    "models_benchmark_path"
   ]
  },
  {
   "attachments": {},
   "cell_type": "markdown",
   "metadata": {},
   "source": [
    "# Helper functions"
   ]
  },
  {
   "cell_type": "code",
   "execution_count": 7,
   "metadata": {},
   "outputs": [],
   "source": [
    "def clean_model_summary(filepath): \n",
    "\n",
    "    if not models_benchmark_path.is_file():\n",
    "        print(f\"This file does not exist: {models_benchmark_path}\")\n",
    "        return None\n",
    "\n",
    "    else:\n",
    "        clean_lines = []\n",
    "        # Parse the MLTK model summary to grab important metrics   \n",
    "        with open(filepath, \"r\", encoding=\"latin-1\") as f:\n",
    "            lines = f.readlines() # list containing lines of file\n",
    "            for line in lines:\n",
    "                line = line.strip() # remove leading/trailing white spaces\n",
    "                if len(line)> 0:\n",
    "                    \n",
    "                    clean_lines.append(line)\n",
    "                else:\n",
    "                    pass\n",
    "            #columns = [] # To store column names\n",
    "        return clean_lines"
   ]
  },
  {
   "cell_type": "code",
   "execution_count": 8,
   "metadata": {},
   "outputs": [],
   "source": [
    "def clean_column_names(df):\n",
    "    cols = df.columns\n",
    "\n",
    "    clean_cols = []\n",
    "    for col in cols:\n",
    "        col = col.strip()\n",
    "        col = col.replace(\"[\" , \"\")\n",
    "        col = col.replace(\"]\" , \"\")   \n",
    "        clean_cols.append(col)\n",
    "        \n",
    "    return clean_cols"
   ]
  },
  {
   "cell_type": "code",
   "execution_count": 9,
   "metadata": {},
   "outputs": [],
   "source": [
    "def string_percent_to_float(x):\n",
    "    x = str(x).strip(\"%\")\n",
    "    return float(x)"
   ]
  },
  {
   "cell_type": "code",
   "execution_count": 10,
   "metadata": {},
   "outputs": [],
   "source": [
    "def remove_tabs(text):\n",
    "    \"\"\"removes tabs from a list of strings\n",
    "\n",
    "    Args:\n",
    "        text (list(str)): list of strings that contains tabs\n",
    "\n",
    "    Returns:\n",
    "        list(str): list of strings without tabs\n",
    "    \"\"\"\n",
    "    split_text= []\n",
    "    for l in text:\n",
    "        split_text.append((l.split(\"\\t\")))\n",
    "        \n",
    "    return split_text"
   ]
  },
  {
   "attachments": {},
   "cell_type": "markdown",
   "metadata": {},
   "source": [
    "# Parsing the model file"
   ]
  },
  {
   "attachments": {},
   "cell_type": "markdown",
   "metadata": {},
   "source": [
    "if models_benchmark_path.is_file():\n",
    "    "
   ]
  },
  {
   "cell_type": "code",
   "execution_count": 11,
   "metadata": {},
   "outputs": [],
   "source": [
    "# if models_benchmark_path.is_file():\n",
    "#     lines = clean_model_summary(models_benchmark_path)\n",
    "# else:\n",
    "#     raise Exception\n",
    "#     print(f\"This file does not exist: {models_benchmark_path}\")"
   ]
  },
  {
   "cell_type": "code",
   "execution_count": 12,
   "metadata": {},
   "outputs": [
    {
     "data": {
      "text/plain": [
       "['STARTING!',\n",
       " 'Log parameter values verbosely: [0]',\n",
       " 'Num threads: [1]',\n",
       " 'Graph: [/mnt/i/tinyml/tiny_cnn/models/shufflenetv2tiny_0.1_96_c3_o3_f4l1024/shufflenetv2tiny_0.1_96_c3_o3_f4l1024_INT8.tflite]',\n",
       " 'Enable op profiling: [1]',\n",
       " '#threads used for CPU inference: [1]',\n",
       " 'Loaded model /mnt/i/tinyml/tiny_cnn/models/shufflenetv2tiny_0.1_96_c3_o3_f4l1024/shufflenetv2tiny_0.1_96_c3_o3_f4l1024_INT8.tflite',\n",
       " 'The input model file size (MB): 0.26636',\n",
       " 'Initialized session in 164.461ms.',\n",
       " 'Running benchmark for at least 1 iterations and at least 0.5 seconds but terminate if exceeding 150 seconds.',\n",
       " 'count=1167 first=12212 curr=465 min=357 max=12212 avg=426.317 std=356',\n",
       " 'Running benchmark for at least 50 iterations and at least 1 seconds but terminate if exceeding 150 seconds.',\n",
       " 'count=1563 first=480 curr=583 min=384 max=4892 avg=550.678 std=289',\n",
       " 'Inference timings in us: Init: 164461, First inference: 12212, Warmup (avg): 426.317, Inference (avg): 550.678',\n",
       " 'Note: as the benchmark tool itself affects memory footprint, the following is only APPROXIMATE to the actual memory footprint of the model at runtime. Take the information at your discretion.',\n",
       " 'Memory footprint delta from the start of the tool (MB): init=4.33594 overall=5.08594',\n",
       " 'Profiling Info for Benchmark Initialization:',\n",
       " '============================== Run Order ==============================',\n",
       " '[node type]\\t  [first]\\t [avg ms]\\t     [%]\\t  [cdf%]\\t  [mem KB]\\t[times called]\\t[Name]',\n",
       " 'ModifyGraphWithDelegate\\t    8.256\\t    8.256\\t 98.426%\\t 98.426%\\t  1096.000\\t        1\\tModifyGraphWithDelegate/0',\n",
       " 'AllocateTensors\\t    0.132\\t    0.132\\t  1.574%\\t100.000%\\t     0.000\\t        1\\tAllocateTensors/0',\n",
       " '============================== Top by Computation Time ==============================',\n",
       " '[node type]\\t  [first]\\t [avg ms]\\t     [%]\\t  [cdf%]\\t  [mem KB]\\t[times called]\\t[Name]',\n",
       " 'ModifyGraphWithDelegate\\t    8.256\\t    8.256\\t 98.426%\\t 98.426%\\t  1096.000\\t        1\\tModifyGraphWithDelegate/0',\n",
       " 'AllocateTensors\\t    0.132\\t    0.132\\t  1.574%\\t100.000%\\t     0.000\\t        1\\tAllocateTensors/0',\n",
       " 'Number of nodes executed: 2',\n",
       " '============================== Summary by node type ==============================',\n",
       " '[Node type]\\t  [count]\\t  [avg ms]\\t    [avg %]\\t    [cdf %]\\t  [mem KB]\\t[times called]',\n",
       " 'ModifyGraphWithDelegate\\t        1\\t     8.256\\t    98.426%\\t    98.426%\\t  1096.000\\t        1',\n",
       " 'AllocateTensors\\t        1\\t     0.132\\t     1.574%\\t   100.000%\\t     0.000\\t        1',\n",
       " 'Timings (microseconds): count=1 curr=8388',\n",
       " 'Memory (bytes): count=0',\n",
       " '2 nodes observed',\n",
       " 'Operator-wise Profiling Info for Regular Benchmark Runs:',\n",
       " '============================== Run Order ==============================',\n",
       " '[node type]\\t  [first]\\t [avg ms]\\t     [%]\\t  [cdf%]\\t  [mem KB]\\t[times called]\\t[Name]',\n",
       " 'QUANTIZE\\t    0.000\\t    0.001\\t  0.190%\\t  0.190%\\t     0.000\\t        1\\t[StatefulPartitionedCall:0]:138',\n",
       " 'SOFTMAX\\t    0.001\\t    0.001\\t  0.243%\\t  0.433%\\t     0.000\\t        1\\t[StatefulPartitionedCall:01]:137',\n",
       " 'Fully Connected (NC, QS8) GEMM\\t    0.001\\t    0.001\\t  0.127%\\t  0.560%\\t     0.000\\t        1\\tDelegate/Fully Connected (NC, QS8) GEMM:2',\n",
       " 'Global Average Pooling (NWC, QS8)\\t    0.001\\t    0.001\\t  0.325%\\t  0.885%\\t     0.000\\t        1\\tDelegate/Global Average Pooling (NWC, QS8):1',\n",
       " 'RESHAPE\\t    0.001\\t    0.001\\t  0.126%\\t  1.011%\\t     0.000\\t        1\\t[shufflenetv2tiny/tf.reshape_31/Reshape]:133',\n",
       " 'RESHAPE\\t    0.001\\t    0.001\\t  0.137%\\t  1.148%\\t     0.000\\t        1\\t[shufflenetv2tiny/tf.reshape_30/Reshape]:131',\n",
       " 'RESHAPE\\t    0.000\\t    0.001\\t  0.133%\\t  1.281%\\t     0.000\\t        1\\t[shufflenetv2tiny/tf.reshape_29/Reshape]:125',\n",
       " 'RESHAPE\\t    0.000\\t    0.001\\t  0.149%\\t  1.429%\\t     0.000\\t        1\\t[shufflenetv2tiny/tf.reshape_28/Reshape]:123',\n",
       " 'RESHAPE\\t    0.001\\t    0.001\\t  0.132%\\t  1.562%\\t     0.000\\t        1\\t[shufflenetv2tiny/tf.reshape_27/Reshape]:117',\n",
       " 'RESHAPE\\t    0.001\\t    0.001\\t  0.142%\\t  1.703%\\t     0.000\\t        1\\t[shufflenetv2tiny/tf.reshape_26/Reshape]:115',\n",
       " 'RESHAPE\\t    0.000\\t    0.001\\t  0.127%\\t  1.830%\\t     0.000\\t        1\\t[shufflenetv2tiny/tf.reshape_25/Reshape]:109',\n",
       " 'RESHAPE\\t    0.001\\t    0.001\\t  0.144%\\t  1.975%\\t     0.000\\t        1\\t[shufflenetv2tiny/tf.reshape_24/Reshape]:107',\n",
       " 'RESHAPE\\t    0.001\\t    0.001\\t  0.132%\\t  2.107%\\t     0.000\\t        1\\t[shufflenetv2tiny/tf.reshape_23/Reshape]:100',\n",
       " 'RESHAPE\\t    0.000\\t    0.001\\t  0.144%\\t  2.251%\\t     0.000\\t        1\\t[shufflenetv2tiny/tf.reshape_22/Reshape]:98',\n",
       " 'RESHAPE\\t    0.000\\t    0.001\\t  0.133%\\t  2.385%\\t     0.000\\t        1\\t[shufflenetv2tiny/tf.reshape_21/Reshape]:92',\n",
       " 'RESHAPE\\t    0.001\\t    0.001\\t  0.139%\\t  2.523%\\t     0.000\\t        1\\t[shufflenetv2tiny/tf.reshape_20/Reshape]:90',\n",
       " 'RESHAPE\\t    0.000\\t    0.001\\t  0.139%\\t  2.663%\\t     0.000\\t        1\\t[shufflenetv2tiny/tf.reshape_19/Reshape]:84',\n",
       " 'RESHAPE\\t    0.001\\t    0.001\\t  0.142%\\t  2.805%\\t     0.000\\t        1\\t[shufflenetv2tiny/tf.reshape_18/Reshape]:82',\n",
       " 'RESHAPE\\t    0.001\\t    0.001\\t  0.159%\\t  2.964%\\t     0.000\\t        1\\t[shufflenetv2tiny/tf.reshape_17/Reshape]:76',\n",
       " 'RESHAPE\\t    0.000\\t    0.001\\t  0.156%\\t  3.120%\\t     0.000\\t        1\\t[shufflenetv2tiny/tf.reshape_16/Reshape]:74',\n",
       " 'RESHAPE\\t    0.000\\t    0.001\\t  0.135%\\t  3.255%\\t     0.000\\t        1\\t[shufflenetv2tiny/tf.reshape_15/Reshape]:68',\n",
       " 'RESHAPE\\t    0.001\\t    0.001\\t  0.138%\\t  3.393%\\t     0.000\\t        1\\t[shufflenetv2tiny/tf.reshape_14/Reshape]:66',\n",
       " 'QUANTIZE\\t    0.110\\t    0.125\\t 30.023%\\t 33.416%\\t     0.000\\t        1\\t[tfl.quantize]:0',\n",
       " 'Convolution (NHWC, QC8) IGEMM\\t    0.047\\t    0.056\\t 13.441%\\t 46.857%\\t     0.000\\t        1\\tDelegate/Convolution (NHWC, QC8) IGEMM:0',\n",
       " 'Max Pooling (NHWC, S8)\\t    0.005\\t    0.006\\t  1.372%\\t 48.229%\\t     0.000\\t        1\\tDelegate/Max Pooling (NHWC, S8):1',\n",
       " 'Convolution (NHWC, QC8) GEMM\\t    0.007\\t    0.004\\t  2.649%\\t 50.878%\\t     0.000\\t        3\\tDelegate/Convolution (NHWC, QC8) GEMM:2',\n",
       " 'Convolution (NHWC, QC8) DWConv\\t    0.003\\t    0.002\\t  1.420%\\t 52.298%\\t     0.000\\t        3\\tDelegate/Convolution (NHWC, QC8) DWConv:3',\n",
       " 'Convolution (NHWC, QC8) GEMM\\t    0.002\\t    0.001\\t  1.029%\\t 53.327%\\t     0.000\\t        3\\tDelegate/Convolution (NHWC, QC8) GEMM:4',\n",
       " 'Convolution (NHWC, QC8) DWConv\\t    0.004\\t    0.004\\t  1.025%\\t 54.352%\\t     0.000\\t        1\\tDelegate/Convolution (NHWC, QC8) DWConv:5',\n",
       " 'Convolution (NHWC, QC8) GEMM\\t    0.002\\t    0.003\\t  0.642%\\t 54.994%\\t     0.000\\t        1\\tDelegate/Convolution (NHWC, QC8) GEMM:6',\n",
       " 'Copy (NC, X8)\\t    0.002\\t    0.002\\t  0.393%\\t 55.388%\\t     0.000\\t        1\\tDelegate/Copy (NC, X8):7',\n",
       " 'RESHAPE\\t    0.001\\t    0.001\\t  0.165%\\t 55.552%\\t     0.000\\t        1\\t[shufflenetv2tiny/tf.reshape/Reshape]:9',\n",
       " 'Transpose (ND, X8)\\t    0.005\\t    0.003\\t 12.252%\\t 67.805%\\t     0.000\\t       16\\tDelegate/Transpose (ND, X8):0',\n",
       " 'RESHAPE\\t    0.001\\t    0.001\\t  0.142%\\t 67.946%\\t     0.000\\t        1\\t[shufflenetv2tiny/tf.reshape_1/Reshape]:11',\n",
       " 'Copy (NC, X8)\\t    0.001\\t    0.001\\t  1.801%\\t 69.747%\\t     0.000\\t       13\\tDelegate/Copy (NC, X8):0',\n",
       " 'Convolution (NHWC, QC8) GEMM\\t    0.002\\t    0.002\\t  4.849%\\t 74.597%\\t     0.000\\t       13\\tDelegate/Convolution (NHWC, QC8) GEMM:1',\n",
       " 'Convolution (NHWC, QC8) DWConv\\t    0.004\\t    0.002\\t  6.864%\\t 81.461%\\t     0.000\\t       13\\tDelegate/Convolution (NHWC, QC8) DWConv:2',\n",
       " 'Convolution (NHWC, QC8) GEMM\\t    0.002\\t    0.002\\t  5.286%\\t 86.746%\\t     0.000\\t       13\\tDelegate/Convolution (NHWC, QC8) GEMM:3',\n",
       " 'Copy (NC, X8)\\t    0.001\\t    0.001\\t  2.022%\\t 88.768%\\t     0.000\\t       13\\tDelegate/Copy (NC, X8):4',\n",
       " 'RESHAPE\\t    0.000\\t    0.001\\t  0.134%\\t 88.903%\\t     0.000\\t        1\\t[shufflenetv2tiny/tf.reshape_2/Reshape]:17',\n",
       " 'RESHAPE\\t    0.001\\t    0.001\\t  0.158%\\t 89.060%\\t     0.000\\t        1\\t[shufflenetv2tiny/tf.reshape_3/Reshape]:19',\n",
       " 'RESHAPE\\t    0.001\\t    0.001\\t  0.137%\\t 89.197%\\t     0.000\\t        1\\t[shufflenetv2tiny/tf.reshape_4/Reshape]:25',\n",
       " 'RESHAPE\\t    0.000\\t    0.001\\t  0.130%\\t 89.327%\\t     0.000\\t        1\\t[shufflenetv2tiny/tf.reshape_5/Reshape]:27',\n",
       " 'RESHAPE\\t    0.000\\t    0.001\\t  0.143%\\t 89.470%\\t     0.000\\t        1\\t[shufflenetv2tiny/tf.reshape_6/Reshape]:33',\n",
       " 'RESHAPE\\t    0.001\\t    0.001\\t  0.139%\\t 89.609%\\t     0.000\\t        1\\t[shufflenetv2tiny/tf.reshape_7/Reshape]:35',\n",
       " 'Convolution (NHWC, QC8) GEMM\\t    0.004\\t    0.012\\t  8.694%\\t 98.303%\\t     0.000\\t        3\\tDelegate/Convolution (NHWC, QC8) GEMM:0',\n",
       " 'Convolution (NHWC, QC8) DWConv\\t    0.001\\t    0.001\\t  0.686%\\t 98.989%\\t     0.000\\t        2\\tDelegate/Convolution (NHWC, QC8) DWConv:1',\n",
       " 'Copy (NC, X8)\\t    0.000\\t    0.000\\t  0.115%\\t 99.104%\\t     0.000\\t        2\\tDelegate/Copy (NC, X8):5',\n",
       " 'RESHAPE\\t    0.001\\t    0.001\\t  0.158%\\t 99.262%\\t     0.000\\t        1\\t[shufflenetv2tiny/tf.reshape_8/Reshape]:42',\n",
       " 'RESHAPE\\t    0.000\\t    0.001\\t  0.145%\\t 99.406%\\t     0.000\\t        1\\t[shufflenetv2tiny/tf.reshape_9/Reshape]:44',\n",
       " 'RESHAPE\\t    0.000\\t    0.001\\t  0.138%\\t 99.545%\\t     0.000\\t        1\\t[shufflenetv2tiny/tf.reshape_13/Reshape]:60',\n",
       " 'RESHAPE\\t    0.000\\t    0.001\\t  0.179%\\t 99.723%\\t     0.000\\t        1\\t[shufflenetv2tiny/tf.reshape_12/Reshape]:58',\n",
       " 'RESHAPE\\t    0.000\\t    0.001\\t  0.136%\\t 99.859%\\t     0.000\\t        1\\t[shufflenetv2tiny/tf.reshape_10/Reshape]:50',\n",
       " 'RESHAPE\\t    0.001\\t    0.001\\t  0.141%\\t100.000%\\t     0.000\\t        1\\t[shufflenetv2tiny/tf.reshape_11/Reshape]:52',\n",
       " '============================== Top by Computation Time ==============================',\n",
       " '[node type]\\t  [first]\\t [avg ms]\\t     [%]\\t  [cdf%]\\t  [mem KB]\\t[times called]\\t[Name]',\n",
       " 'QUANTIZE\\t    0.110\\t    0.125\\t 30.023%\\t 30.023%\\t     0.000\\t        1\\t[tfl.quantize]:0',\n",
       " 'Convolution (NHWC, QC8) IGEMM\\t    0.047\\t    0.056\\t 13.441%\\t 43.464%\\t     0.000\\t        1\\tDelegate/Convolution (NHWC, QC8) IGEMM:0',\n",
       " 'Convolution (NHWC, QC8) GEMM\\t    0.004\\t    0.012\\t  8.694%\\t 52.158%\\t     0.000\\t        3\\tDelegate/Convolution (NHWC, QC8) GEMM:0',\n",
       " 'Max Pooling (NHWC, S8)\\t    0.005\\t    0.006\\t  1.372%\\t 53.530%\\t     0.000\\t        1\\tDelegate/Max Pooling (NHWC, S8):1',\n",
       " 'Convolution (NHWC, QC8) DWConv\\t    0.004\\t    0.004\\t  1.025%\\t 54.555%\\t     0.000\\t        1\\tDelegate/Convolution (NHWC, QC8) DWConv:5',\n",
       " 'Convolution (NHWC, QC8) GEMM\\t    0.007\\t    0.004\\t  2.649%\\t 57.204%\\t     0.000\\t        3\\tDelegate/Convolution (NHWC, QC8) GEMM:2',\n",
       " 'Transpose (ND, X8)\\t    0.005\\t    0.003\\t 12.252%\\t 69.456%\\t     0.000\\t       16\\tDelegate/Transpose (ND, X8):0',\n",
       " 'Convolution (NHWC, QC8) GEMM\\t    0.002\\t    0.003\\t  0.642%\\t 70.098%\\t     0.000\\t        1\\tDelegate/Convolution (NHWC, QC8) GEMM:6',\n",
       " 'Convolution (NHWC, QC8) DWConv\\t    0.004\\t    0.002\\t  6.864%\\t 76.962%\\t     0.000\\t       13\\tDelegate/Convolution (NHWC, QC8) DWConv:2',\n",
       " 'Convolution (NHWC, QC8) DWConv\\t    0.003\\t    0.002\\t  1.420%\\t 78.382%\\t     0.000\\t        3\\tDelegate/Convolution (NHWC, QC8) DWConv:3',\n",
       " 'Number of nodes executed: 54',\n",
       " '============================== Summary by node type ==============================',\n",
       " '[Node type]\\t  [count]\\t  [avg ms]\\t    [avg %]\\t    [cdf %]\\t  [mem KB]\\t[times called]',\n",
       " 'QUANTIZE\\t        2\\t     0.124\\t    32.208%\\t    32.208%\\t     0.000\\t        2',\n",
       " 'Convolution (NHWC, QC8) GEMM\\t        6\\t     0.094\\t    24.416%\\t    56.623%\\t     0.000\\t       36',\n",
       " 'Convolution (NHWC, QC8) IGEMM\\t        1\\t     0.055\\t    14.286%\\t    70.909%\\t     0.000\\t        1',\n",
       " 'Transpose (ND, X8)\\t        1\\t     0.050\\t    12.987%\\t    83.896%\\t     0.000\\t       16',\n",
       " 'Convolution (NHWC, QC8) DWConv\\t        4\\t     0.039\\t    10.130%\\t    94.026%\\t     0.000\\t       19',\n",
       " 'Copy (NC, X8)\\t        4\\t     0.016\\t     4.156%\\t    98.182%\\t     0.000\\t       29',\n",
       " 'Max Pooling (NHWC, S8)\\t        1\\t     0.005\\t     1.299%\\t    99.481%\\t     0.000\\t        1',\n",
       " 'SOFTMAX\\t        1\\t     0.001\\t     0.260%\\t    99.740%\\t     0.000\\t        1',\n",
       " 'Global Average Pooling (NWC, QS8)\\t        1\\t     0.001\\t     0.260%\\t   100.000%\\t     0.000\\t        1',\n",
       " 'RESHAPE\\t       32\\t     0.000\\t     0.000%\\t   100.000%\\t     0.000\\t       32',\n",
       " 'Fully Connected (NC, QS8) GEMM\\t        1\\t     0.000\\t     0.000%\\t   100.000%\\t     0.000\\t        1',\n",
       " 'Timings (microseconds): count=1563 first=345 curr=450 min=274 max=4279 avg=415.571 std=251',\n",
       " 'Memory (bytes): count=0',\n",
       " '54 nodes observed']"
      ]
     },
     "execution_count": 12,
     "metadata": {},
     "output_type": "execute_result"
    }
   ],
   "source": [
    "lines = clean_model_summary(models_benchmark_path)\n",
    "lines"
   ]
  },
  {
   "cell_type": "code",
   "execution_count": 59,
   "metadata": {},
   "outputs": [],
   "source": [
    "def get_profiling_lines(lines):\n",
    "    #print(lines)\n",
    "    # find section split\n",
    "    for i, line in enumerate(lines):\n",
    "        #print(f\"{i} : {line}\")\n",
    "    #if line.str.contains('= Run Order ='):\n",
    "        if \"Operator-wise Profiling \" in line:\n",
    "            split_line = i\n",
    "            print(f\"Splitting text at line {split_line}\")\n",
    "            model_profiling = lines[:split_line]\n",
    "            operator_profiling = lines[split_line+1:]\n",
    "\n",
    "        else:\n",
    "            pass\n",
    "    if i==0:     \n",
    "        print(\"WARNING: Could not find the text: 'Operator-wise Profiling Info for Regular Benchmark Runs:'\")\n",
    "        return (None, None)\n",
    "    else:\n",
    "        return model_profiling, operator_profiling\n"
   ]
  },
  {
   "cell_type": "code",
   "execution_count": 61,
   "metadata": {},
   "outputs": [
    {
     "name": "stdout",
     "output_type": "stream",
     "text": [
      "Splitting text at line 33\n"
     ]
    }
   ],
   "source": [
    "model_profiling, operator_profiling = get_profiling_lines(lines)"
   ]
  },
  {
   "cell_type": "code",
   "execution_count": 62,
   "metadata": {},
   "outputs": [
    {
     "data": {
      "text/plain": [
       "['STARTING!',\n",
       " 'Log parameter values verbosely: [0]',\n",
       " 'Num threads: [1]',\n",
       " 'Graph: [/mnt/i/tinyml/tiny_cnn/models/shufflenetv2tiny_0.1_96_c3_o3_f4l1024/shufflenetv2tiny_0.1_96_c3_o3_f4l1024_INT8.tflite]',\n",
       " 'Enable op profiling: [1]',\n",
       " '#threads used for CPU inference: [1]',\n",
       " 'Loaded model /mnt/i/tinyml/tiny_cnn/models/shufflenetv2tiny_0.1_96_c3_o3_f4l1024/shufflenetv2tiny_0.1_96_c3_o3_f4l1024_INT8.tflite',\n",
       " 'The input model file size (MB): 0.26636',\n",
       " 'Initialized session in 164.461ms.',\n",
       " 'Running benchmark for at least 1 iterations and at least 0.5 seconds but terminate if exceeding 150 seconds.',\n",
       " 'count=1167 first=12212 curr=465 min=357 max=12212 avg=426.317 std=356',\n",
       " 'Running benchmark for at least 50 iterations and at least 1 seconds but terminate if exceeding 150 seconds.',\n",
       " 'count=1563 first=480 curr=583 min=384 max=4892 avg=550.678 std=289',\n",
       " 'Inference timings in us: Init: 164461, First inference: 12212, Warmup (avg): 426.317, Inference (avg): 550.678',\n",
       " 'Note: as the benchmark tool itself affects memory footprint, the following is only APPROXIMATE to the actual memory footprint of the model at runtime. Take the information at your discretion.',\n",
       " 'Memory footprint delta from the start of the tool (MB): init=4.33594 overall=5.08594',\n",
       " 'Profiling Info for Benchmark Initialization:',\n",
       " '============================== Run Order ==============================',\n",
       " '[node type]\\t  [first]\\t [avg ms]\\t     [%]\\t  [cdf%]\\t  [mem KB]\\t[times called]\\t[Name]',\n",
       " 'ModifyGraphWithDelegate\\t    8.256\\t    8.256\\t 98.426%\\t 98.426%\\t  1096.000\\t        1\\tModifyGraphWithDelegate/0',\n",
       " 'AllocateTensors\\t    0.132\\t    0.132\\t  1.574%\\t100.000%\\t     0.000\\t        1\\tAllocateTensors/0',\n",
       " '============================== Top by Computation Time ==============================',\n",
       " '[node type]\\t  [first]\\t [avg ms]\\t     [%]\\t  [cdf%]\\t  [mem KB]\\t[times called]\\t[Name]',\n",
       " 'ModifyGraphWithDelegate\\t    8.256\\t    8.256\\t 98.426%\\t 98.426%\\t  1096.000\\t        1\\tModifyGraphWithDelegate/0',\n",
       " 'AllocateTensors\\t    0.132\\t    0.132\\t  1.574%\\t100.000%\\t     0.000\\t        1\\tAllocateTensors/0',\n",
       " 'Number of nodes executed: 2',\n",
       " '============================== Summary by node type ==============================',\n",
       " '[Node type]\\t  [count]\\t  [avg ms]\\t    [avg %]\\t    [cdf %]\\t  [mem KB]\\t[times called]',\n",
       " 'ModifyGraphWithDelegate\\t        1\\t     8.256\\t    98.426%\\t    98.426%\\t  1096.000\\t        1',\n",
       " 'AllocateTensors\\t        1\\t     0.132\\t     1.574%\\t   100.000%\\t     0.000\\t        1',\n",
       " 'Timings (microseconds): count=1 curr=8388',\n",
       " 'Memory (bytes): count=0',\n",
       " '2 nodes observed']"
      ]
     },
     "execution_count": 62,
     "metadata": {},
     "output_type": "execute_result"
    }
   ],
   "source": [
    "model_profiling"
   ]
  },
  {
   "cell_type": "code",
   "execution_count": 15,
   "metadata": {},
   "outputs": [
    {
     "name": "stdout",
     "output_type": "stream",
     "text": [
      "33\n"
     ]
    }
   ],
   "source": [
    "# i=0\n",
    "# for i, line in enumerate(lines):\n",
    "#     #if line.str.contains('= Run Order ='):\n",
    "#     if \"Operator-wise Profiling \" in line:\n",
    "#         split_line = i\n",
    "#     else:\n",
    "#         pass\n",
    "# print(split_line)"
   ]
  },
  {
   "cell_type": "code",
   "execution_count": 16,
   "metadata": {},
   "outputs": [],
   "source": [
    "#lines[lines_dict[\"run_order\"]]"
   ]
  },
  {
   "cell_type": "code",
   "execution_count": 63,
   "metadata": {},
   "outputs": [],
   "source": [
    "# model_profiling = lines[:split_line]\n",
    "# model_profiling"
   ]
  },
  {
   "cell_type": "code",
   "execution_count": 96,
   "metadata": {},
   "outputs": [],
   "source": [
    "def get_index_of_model_profiling_lines(lines):\n",
    "    model_lines_dict = {}\n",
    "    for i, line in enumerate(model_profiling):\n",
    "        if \"= Run Order =\" in line:\n",
    "            model_lines_dict[\"run_order\"] = i\n",
    "        elif \"= Top by Computation Time =\" in line:\n",
    "            model_lines_dict[\"top_by_computation_time\"] = i\n",
    "        elif \"The input model file size\" in line:\n",
    "            model_lines_dict[\"model_file_size\"] = i\n",
    "        elif \"Initialized session in\" in line:\n",
    "            model_lines_dict[\"initialization_ms\"] = i\n",
    "        elif \"Inference timings in us:\" in line:\n",
    "            model_lines_dict[\"inference_timings\"] = i\n",
    "\n",
    "    #print(model_lines_dict)\n",
    "    return model_lines_dict\n"
   ]
  },
  {
   "cell_type": "code",
   "execution_count": 97,
   "metadata": {},
   "outputs": [],
   "source": [
    "model_lines_dict = get_index_of_model_profiling_lines(model_profiling)"
   ]
  },
  {
   "cell_type": "code",
   "execution_count": 98,
   "metadata": {},
   "outputs": [],
   "source": [
    "# model_lines_dict = {}\n",
    "# for i, line in enumerate(model_profiling):\n",
    "#     if \"= Run Order =\" in line:\n",
    "#         model_lines_dict[\"run_order\"] = i\n",
    "#     elif \"= Top by Computation Time =\" in line:\n",
    "#         model_lines_dict[\"top_by_computation_time\"] = i\n",
    "#     elif \"The input model file size\" in line:\n",
    "#         model_lines_dict[\"model_file_size\"] = i\n",
    "#     elif \"Initialized session in\" in line:\n",
    "#         model_lines_dict[\"initialization_ms\"] = i\n",
    "#     elif \"Inference timings in us:\" in line:\n",
    "#         model_lines_dict[\"inference_timings\"] = i\n",
    "\n",
    "# model_lines_dict"
   ]
  },
  {
   "cell_type": "code",
   "execution_count": 99,
   "metadata": {},
   "outputs": [],
   "source": [
    "def get_model_profiling_stats(model_profiling):\n",
    "    model_lines_dict = get_index_of_model_profiling_lines(model_profiling)\n",
    "\n",
    "    model_stats = {}\n",
    "\n",
    "    # extract model size\n",
    "    model_size_string = model_profiling[model_lines_dict[\"model_file_size\"]]\n",
    "    model_size_string\n",
    "    model_size= float(model_size_string.split(\":\")[-1].strip())\n",
    "    model_stats[\"model_size_MB\"] = model_size\n",
    "\n",
    "    # extract inference times\n",
    "    inference_string = model_profiling[model_lines_dict[\"inference_timings\"]]\n",
    "    #print(inference_string)\n",
    "    inference_strings = inference_string.split(\",\")\n",
    "    for item in inference_strings:\n",
    "        item_time = item.split()[-1]\n",
    "        #print(item_time)\n",
    "\n",
    "    model_stats[\"init_us\"] = int(inference_strings[0].split()[-1].strip())\n",
    "    model_stats[\"first_inference_us\"] = int(inference_strings[1].split()[-1].strip())\n",
    "    model_stats[\"warmup_avg_us\"] = float(inference_strings[2].split()[-1].strip())\n",
    "    model_stats[\"inference_avg_us\"] = float(inference_strings[3].split()[-1].strip())\n",
    "\n",
    "    # model initialization timings\n",
    "    init_string = model_profiling[model_lines_dict[\"initialization_ms\"]]\n",
    "    model_stats[\"initialization_ms\"] = float(init_string.split()[-1].replace(\"ms.\",\"\"))\n",
    "\n",
    "\n",
    "    # initialization run order\n",
    "    init_run_order = model_profiling[model_lines_dict[\"run_order\"]: model_lines_dict[\"top_by_computation_time\"]]\n",
    "    init_run_order = remove_tabs(init_run_order)\n",
    "\n",
    "    model_stats[\"modify_graph_with_delegate_ms_first\"] = float(init_run_order[2][1].strip())\n",
    "    model_stats[\"modify_graph_with_delegate_ms_avg\"] = float(init_run_order[2][2].strip())\n",
    "    model_stats[\"modify_graph_with_delegate_ms_%\"] = float(init_run_order[2][3].strip().replace(\"%\", \"\"))\n",
    "    model_stats[\"modify_graph_with_delegate_mem_KB\"] = float(init_run_order[2][5].strip())\n",
    "\n",
    "    model_stats[\"allocate_tensors_ms_first\"] = float(init_run_order[3][1].strip())\n",
    "    model_stats[\"allocate_tensors_ms_avg\"] = float(init_run_order[3][2].strip())\n",
    "    model_stats[\"allocate_tensors_ms_%\"] = float(init_run_order[3][3].strip().replace(\"%\", \"\"))\n",
    "\n",
    "    return model_stats"
   ]
  },
  {
   "cell_type": "code",
   "execution_count": 100,
   "metadata": {},
   "outputs": [
    {
     "data": {
      "text/plain": [
       "{'model_size_MB': 0.26636,\n",
       " 'init_us': 164461,\n",
       " 'first_inference_us': 12212,\n",
       " 'warmup_avg_us': 426.317,\n",
       " 'inference_avg_us': 550.678,\n",
       " 'initialization_ms': 164.461,\n",
       " 'modify_graph_with_delegate_ms_first': 8.256,\n",
       " 'modify_graph_with_delegate_ms_avg': 8.256,\n",
       " 'modify_graph_with_delegate_ms_%': 98.426,\n",
       " 'modify_graph_with_delegate_mem_KB': 1096.0,\n",
       " 'allocate_tensors_ms_first': 0.132,\n",
       " 'allocate_tensors_ms_avg': 0.132,\n",
       " 'allocate_tensors_ms_%': 1.574}"
      ]
     },
     "execution_count": 100,
     "metadata": {},
     "output_type": "execute_result"
    }
   ],
   "source": [
    "model_stats = get_model_profiling_stats(model_profiling)\n",
    "model_stats"
   ]
  },
  {
   "cell_type": "code",
   "execution_count": 82,
   "metadata": {},
   "outputs": [
    {
     "data": {
      "text/plain": [
       "['ModifyGraphWithDelegate',\n",
       " '    8.256',\n",
       " '    8.256',\n",
       " ' 98.426%',\n",
       " ' 98.426%',\n",
       " '  1096.000',\n",
       " '        1',\n",
       " 'ModifyGraphWithDelegate/0']"
      ]
     },
     "execution_count": 82,
     "metadata": {},
     "output_type": "execute_result"
    }
   ],
   "source": [
    "# init_run_order = model_profiling[model_lines_dict[\"run_order\"]: model_lines_dict[\"top_by_computation_time\"]]\n",
    "# init_run_order = remove_tabs(init_run_order)\n",
    "# init_run_order[2]"
   ]
  },
  {
   "cell_type": "code",
   "execution_count": 101,
   "metadata": {},
   "outputs": [],
   "source": [
    "# model_stats ={}\n",
    "# model_stats[\"modify_graph_with_delegate_ms_first\"] = float(init_run_order[2][1].strip())\n",
    "# model_stats[\"modify_graph_with_delegate_ms_avg\"] = float(init_run_order[2][2].strip())\n",
    "# model_stats[\"modify_graph_with_delegate_ms_%\"] = float(init_run_order[2][3].strip().replace(\"%\", \"\"))\n",
    "# model_stats[\"modify_graph_with_delegate_mem_KB\"] = float(init_run_order[2][5].strip())\n",
    "\n",
    "# model_stats[\"allocate_tensors_ms_first\"] = float(init_run_order[3][1].strip())\n",
    "# model_stats[\"allocate_tensors_ms_avg\"] = float(init_run_order[3][2].strip())\n",
    "# model_stats[\"allocate_tensors_ms_%\"] = float(init_run_order[3][3].strip().replace(\"%\", \"\"))\n",
    "\n",
    "# model_stats"
   ]
  },
  {
   "cell_type": "code",
   "execution_count": 74,
   "metadata": {},
   "outputs": [
    {
     "data": {
      "text/plain": [
       "164.461"
      ]
     },
     "execution_count": 74,
     "metadata": {},
     "output_type": "execute_result"
    }
   ],
   "source": [
    "# init_string = model_profiling[model_lines_dict[\"initialization_ms\"]]\n",
    "# init_string\n",
    "# float(init_string.split()[-1].replace(\"ms.\",\"\"))"
   ]
  },
  {
   "cell_type": "code",
   "execution_count": 20,
   "metadata": {},
   "outputs": [],
   "source": [
    "# model_stats = {}\n",
    "\n",
    "# # extract model size\n",
    "# model_size_string = model_profiling[model_lines_dict[\"model_file_size\"]]\n",
    "# model_size_string\n",
    "# model_size= float(model_size_string.split(\":\")[-1].strip())\n",
    "# model_stats[\"model_size_MB\"] = model_size"
   ]
  },
  {
   "cell_type": "code",
   "execution_count": 69,
   "metadata": {},
   "outputs": [],
   "source": [
    "# inference_string = model_profiling[model_lines_dict[\"inference_timings\"]]\n",
    "# print(inference_string)\n",
    "# inference_strings = inference_string.split(\",\")\n",
    "# for item in inference_strings:\n",
    "#     item_time = item.split()[-1]\n",
    "#     print(item_time)\n",
    "\n",
    "# model_stats[\"init_us\"] = int(inference_strings[0].split()[-1].strip())\n",
    "# model_stats[\"first_inference_us\"] = int(inference_strings[1].split()[-1].strip())\n",
    "# model_stats[\"warmup_avg_us\"] = float(inference_strings[2].split()[-1].strip())\n",
    "# model_stats[\"inference_avg_us\"] = float(inference_strings[3].split()[-1].strip())\n",
    "\n",
    "\n",
    "# model_stats"
   ]
  },
  {
   "attachments": {},
   "cell_type": "markdown",
   "metadata": {},
   "source": [
    "# Operator profiling"
   ]
  },
  {
   "cell_type": "code",
   "execution_count": 22,
   "metadata": {},
   "outputs": [
    {
     "data": {
      "text/plain": [
       "['============================== Run Order ==============================',\n",
       " '[node type]\\t  [first]\\t [avg ms]\\t     [%]\\t  [cdf%]\\t  [mem KB]\\t[times called]\\t[Name]',\n",
       " 'QUANTIZE\\t    0.000\\t    0.001\\t  0.190%\\t  0.190%\\t     0.000\\t        1\\t[StatefulPartitionedCall:0]:138',\n",
       " 'SOFTMAX\\t    0.001\\t    0.001\\t  0.243%\\t  0.433%\\t     0.000\\t        1\\t[StatefulPartitionedCall:01]:137',\n",
       " 'Fully Connected (NC, QS8) GEMM\\t    0.001\\t    0.001\\t  0.127%\\t  0.560%\\t     0.000\\t        1\\tDelegate/Fully Connected (NC, QS8) GEMM:2',\n",
       " 'Global Average Pooling (NWC, QS8)\\t    0.001\\t    0.001\\t  0.325%\\t  0.885%\\t     0.000\\t        1\\tDelegate/Global Average Pooling (NWC, QS8):1',\n",
       " 'RESHAPE\\t    0.001\\t    0.001\\t  0.126%\\t  1.011%\\t     0.000\\t        1\\t[shufflenetv2tiny/tf.reshape_31/Reshape]:133',\n",
       " 'RESHAPE\\t    0.001\\t    0.001\\t  0.137%\\t  1.148%\\t     0.000\\t        1\\t[shufflenetv2tiny/tf.reshape_30/Reshape]:131',\n",
       " 'RESHAPE\\t    0.000\\t    0.001\\t  0.133%\\t  1.281%\\t     0.000\\t        1\\t[shufflenetv2tiny/tf.reshape_29/Reshape]:125',\n",
       " 'RESHAPE\\t    0.000\\t    0.001\\t  0.149%\\t  1.429%\\t     0.000\\t        1\\t[shufflenetv2tiny/tf.reshape_28/Reshape]:123',\n",
       " 'RESHAPE\\t    0.001\\t    0.001\\t  0.132%\\t  1.562%\\t     0.000\\t        1\\t[shufflenetv2tiny/tf.reshape_27/Reshape]:117',\n",
       " 'RESHAPE\\t    0.001\\t    0.001\\t  0.142%\\t  1.703%\\t     0.000\\t        1\\t[shufflenetv2tiny/tf.reshape_26/Reshape]:115',\n",
       " 'RESHAPE\\t    0.000\\t    0.001\\t  0.127%\\t  1.830%\\t     0.000\\t        1\\t[shufflenetv2tiny/tf.reshape_25/Reshape]:109',\n",
       " 'RESHAPE\\t    0.001\\t    0.001\\t  0.144%\\t  1.975%\\t     0.000\\t        1\\t[shufflenetv2tiny/tf.reshape_24/Reshape]:107',\n",
       " 'RESHAPE\\t    0.001\\t    0.001\\t  0.132%\\t  2.107%\\t     0.000\\t        1\\t[shufflenetv2tiny/tf.reshape_23/Reshape]:100',\n",
       " 'RESHAPE\\t    0.000\\t    0.001\\t  0.144%\\t  2.251%\\t     0.000\\t        1\\t[shufflenetv2tiny/tf.reshape_22/Reshape]:98',\n",
       " 'RESHAPE\\t    0.000\\t    0.001\\t  0.133%\\t  2.385%\\t     0.000\\t        1\\t[shufflenetv2tiny/tf.reshape_21/Reshape]:92',\n",
       " 'RESHAPE\\t    0.001\\t    0.001\\t  0.139%\\t  2.523%\\t     0.000\\t        1\\t[shufflenetv2tiny/tf.reshape_20/Reshape]:90',\n",
       " 'RESHAPE\\t    0.000\\t    0.001\\t  0.139%\\t  2.663%\\t     0.000\\t        1\\t[shufflenetv2tiny/tf.reshape_19/Reshape]:84',\n",
       " 'RESHAPE\\t    0.001\\t    0.001\\t  0.142%\\t  2.805%\\t     0.000\\t        1\\t[shufflenetv2tiny/tf.reshape_18/Reshape]:82',\n",
       " 'RESHAPE\\t    0.001\\t    0.001\\t  0.159%\\t  2.964%\\t     0.000\\t        1\\t[shufflenetv2tiny/tf.reshape_17/Reshape]:76',\n",
       " 'RESHAPE\\t    0.000\\t    0.001\\t  0.156%\\t  3.120%\\t     0.000\\t        1\\t[shufflenetv2tiny/tf.reshape_16/Reshape]:74',\n",
       " 'RESHAPE\\t    0.000\\t    0.001\\t  0.135%\\t  3.255%\\t     0.000\\t        1\\t[shufflenetv2tiny/tf.reshape_15/Reshape]:68',\n",
       " 'RESHAPE\\t    0.001\\t    0.001\\t  0.138%\\t  3.393%\\t     0.000\\t        1\\t[shufflenetv2tiny/tf.reshape_14/Reshape]:66',\n",
       " 'QUANTIZE\\t    0.110\\t    0.125\\t 30.023%\\t 33.416%\\t     0.000\\t        1\\t[tfl.quantize]:0',\n",
       " 'Convolution (NHWC, QC8) IGEMM\\t    0.047\\t    0.056\\t 13.441%\\t 46.857%\\t     0.000\\t        1\\tDelegate/Convolution (NHWC, QC8) IGEMM:0',\n",
       " 'Max Pooling (NHWC, S8)\\t    0.005\\t    0.006\\t  1.372%\\t 48.229%\\t     0.000\\t        1\\tDelegate/Max Pooling (NHWC, S8):1',\n",
       " 'Convolution (NHWC, QC8) GEMM\\t    0.007\\t    0.004\\t  2.649%\\t 50.878%\\t     0.000\\t        3\\tDelegate/Convolution (NHWC, QC8) GEMM:2',\n",
       " 'Convolution (NHWC, QC8) DWConv\\t    0.003\\t    0.002\\t  1.420%\\t 52.298%\\t     0.000\\t        3\\tDelegate/Convolution (NHWC, QC8) DWConv:3',\n",
       " 'Convolution (NHWC, QC8) GEMM\\t    0.002\\t    0.001\\t  1.029%\\t 53.327%\\t     0.000\\t        3\\tDelegate/Convolution (NHWC, QC8) GEMM:4',\n",
       " 'Convolution (NHWC, QC8) DWConv\\t    0.004\\t    0.004\\t  1.025%\\t 54.352%\\t     0.000\\t        1\\tDelegate/Convolution (NHWC, QC8) DWConv:5',\n",
       " 'Convolution (NHWC, QC8) GEMM\\t    0.002\\t    0.003\\t  0.642%\\t 54.994%\\t     0.000\\t        1\\tDelegate/Convolution (NHWC, QC8) GEMM:6',\n",
       " 'Copy (NC, X8)\\t    0.002\\t    0.002\\t  0.393%\\t 55.388%\\t     0.000\\t        1\\tDelegate/Copy (NC, X8):7',\n",
       " 'RESHAPE\\t    0.001\\t    0.001\\t  0.165%\\t 55.552%\\t     0.000\\t        1\\t[shufflenetv2tiny/tf.reshape/Reshape]:9',\n",
       " 'Transpose (ND, X8)\\t    0.005\\t    0.003\\t 12.252%\\t 67.805%\\t     0.000\\t       16\\tDelegate/Transpose (ND, X8):0',\n",
       " 'RESHAPE\\t    0.001\\t    0.001\\t  0.142%\\t 67.946%\\t     0.000\\t        1\\t[shufflenetv2tiny/tf.reshape_1/Reshape]:11',\n",
       " 'Copy (NC, X8)\\t    0.001\\t    0.001\\t  1.801%\\t 69.747%\\t     0.000\\t       13\\tDelegate/Copy (NC, X8):0',\n",
       " 'Convolution (NHWC, QC8) GEMM\\t    0.002\\t    0.002\\t  4.849%\\t 74.597%\\t     0.000\\t       13\\tDelegate/Convolution (NHWC, QC8) GEMM:1',\n",
       " 'Convolution (NHWC, QC8) DWConv\\t    0.004\\t    0.002\\t  6.864%\\t 81.461%\\t     0.000\\t       13\\tDelegate/Convolution (NHWC, QC8) DWConv:2',\n",
       " 'Convolution (NHWC, QC8) GEMM\\t    0.002\\t    0.002\\t  5.286%\\t 86.746%\\t     0.000\\t       13\\tDelegate/Convolution (NHWC, QC8) GEMM:3',\n",
       " 'Copy (NC, X8)\\t    0.001\\t    0.001\\t  2.022%\\t 88.768%\\t     0.000\\t       13\\tDelegate/Copy (NC, X8):4',\n",
       " 'RESHAPE\\t    0.000\\t    0.001\\t  0.134%\\t 88.903%\\t     0.000\\t        1\\t[shufflenetv2tiny/tf.reshape_2/Reshape]:17',\n",
       " 'RESHAPE\\t    0.001\\t    0.001\\t  0.158%\\t 89.060%\\t     0.000\\t        1\\t[shufflenetv2tiny/tf.reshape_3/Reshape]:19',\n",
       " 'RESHAPE\\t    0.001\\t    0.001\\t  0.137%\\t 89.197%\\t     0.000\\t        1\\t[shufflenetv2tiny/tf.reshape_4/Reshape]:25',\n",
       " 'RESHAPE\\t    0.000\\t    0.001\\t  0.130%\\t 89.327%\\t     0.000\\t        1\\t[shufflenetv2tiny/tf.reshape_5/Reshape]:27',\n",
       " 'RESHAPE\\t    0.000\\t    0.001\\t  0.143%\\t 89.470%\\t     0.000\\t        1\\t[shufflenetv2tiny/tf.reshape_6/Reshape]:33',\n",
       " 'RESHAPE\\t    0.001\\t    0.001\\t  0.139%\\t 89.609%\\t     0.000\\t        1\\t[shufflenetv2tiny/tf.reshape_7/Reshape]:35',\n",
       " 'Convolution (NHWC, QC8) GEMM\\t    0.004\\t    0.012\\t  8.694%\\t 98.303%\\t     0.000\\t        3\\tDelegate/Convolution (NHWC, QC8) GEMM:0',\n",
       " 'Convolution (NHWC, QC8) DWConv\\t    0.001\\t    0.001\\t  0.686%\\t 98.989%\\t     0.000\\t        2\\tDelegate/Convolution (NHWC, QC8) DWConv:1',\n",
       " 'Copy (NC, X8)\\t    0.000\\t    0.000\\t  0.115%\\t 99.104%\\t     0.000\\t        2\\tDelegate/Copy (NC, X8):5',\n",
       " 'RESHAPE\\t    0.001\\t    0.001\\t  0.158%\\t 99.262%\\t     0.000\\t        1\\t[shufflenetv2tiny/tf.reshape_8/Reshape]:42',\n",
       " 'RESHAPE\\t    0.000\\t    0.001\\t  0.145%\\t 99.406%\\t     0.000\\t        1\\t[shufflenetv2tiny/tf.reshape_9/Reshape]:44',\n",
       " 'RESHAPE\\t    0.000\\t    0.001\\t  0.138%\\t 99.545%\\t     0.000\\t        1\\t[shufflenetv2tiny/tf.reshape_13/Reshape]:60',\n",
       " 'RESHAPE\\t    0.000\\t    0.001\\t  0.179%\\t 99.723%\\t     0.000\\t        1\\t[shufflenetv2tiny/tf.reshape_12/Reshape]:58',\n",
       " 'RESHAPE\\t    0.000\\t    0.001\\t  0.136%\\t 99.859%\\t     0.000\\t        1\\t[shufflenetv2tiny/tf.reshape_10/Reshape]:50',\n",
       " 'RESHAPE\\t    0.001\\t    0.001\\t  0.141%\\t100.000%\\t     0.000\\t        1\\t[shufflenetv2tiny/tf.reshape_11/Reshape]:52',\n",
       " '============================== Top by Computation Time ==============================',\n",
       " '[node type]\\t  [first]\\t [avg ms]\\t     [%]\\t  [cdf%]\\t  [mem KB]\\t[times called]\\t[Name]',\n",
       " 'QUANTIZE\\t    0.110\\t    0.125\\t 30.023%\\t 30.023%\\t     0.000\\t        1\\t[tfl.quantize]:0',\n",
       " 'Convolution (NHWC, QC8) IGEMM\\t    0.047\\t    0.056\\t 13.441%\\t 43.464%\\t     0.000\\t        1\\tDelegate/Convolution (NHWC, QC8) IGEMM:0',\n",
       " 'Convolution (NHWC, QC8) GEMM\\t    0.004\\t    0.012\\t  8.694%\\t 52.158%\\t     0.000\\t        3\\tDelegate/Convolution (NHWC, QC8) GEMM:0',\n",
       " 'Max Pooling (NHWC, S8)\\t    0.005\\t    0.006\\t  1.372%\\t 53.530%\\t     0.000\\t        1\\tDelegate/Max Pooling (NHWC, S8):1',\n",
       " 'Convolution (NHWC, QC8) DWConv\\t    0.004\\t    0.004\\t  1.025%\\t 54.555%\\t     0.000\\t        1\\tDelegate/Convolution (NHWC, QC8) DWConv:5',\n",
       " 'Convolution (NHWC, QC8) GEMM\\t    0.007\\t    0.004\\t  2.649%\\t 57.204%\\t     0.000\\t        3\\tDelegate/Convolution (NHWC, QC8) GEMM:2',\n",
       " 'Transpose (ND, X8)\\t    0.005\\t    0.003\\t 12.252%\\t 69.456%\\t     0.000\\t       16\\tDelegate/Transpose (ND, X8):0',\n",
       " 'Convolution (NHWC, QC8) GEMM\\t    0.002\\t    0.003\\t  0.642%\\t 70.098%\\t     0.000\\t        1\\tDelegate/Convolution (NHWC, QC8) GEMM:6',\n",
       " 'Convolution (NHWC, QC8) DWConv\\t    0.004\\t    0.002\\t  6.864%\\t 76.962%\\t     0.000\\t       13\\tDelegate/Convolution (NHWC, QC8) DWConv:2',\n",
       " 'Convolution (NHWC, QC8) DWConv\\t    0.003\\t    0.002\\t  1.420%\\t 78.382%\\t     0.000\\t        3\\tDelegate/Convolution (NHWC, QC8) DWConv:3',\n",
       " 'Number of nodes executed: 54',\n",
       " '============================== Summary by node type ==============================',\n",
       " '[Node type]\\t  [count]\\t  [avg ms]\\t    [avg %]\\t    [cdf %]\\t  [mem KB]\\t[times called]',\n",
       " 'QUANTIZE\\t        2\\t     0.124\\t    32.208%\\t    32.208%\\t     0.000\\t        2',\n",
       " 'Convolution (NHWC, QC8) GEMM\\t        6\\t     0.094\\t    24.416%\\t    56.623%\\t     0.000\\t       36',\n",
       " 'Convolution (NHWC, QC8) IGEMM\\t        1\\t     0.055\\t    14.286%\\t    70.909%\\t     0.000\\t        1',\n",
       " 'Transpose (ND, X8)\\t        1\\t     0.050\\t    12.987%\\t    83.896%\\t     0.000\\t       16',\n",
       " 'Convolution (NHWC, QC8) DWConv\\t        4\\t     0.039\\t    10.130%\\t    94.026%\\t     0.000\\t       19',\n",
       " 'Copy (NC, X8)\\t        4\\t     0.016\\t     4.156%\\t    98.182%\\t     0.000\\t       29',\n",
       " 'Max Pooling (NHWC, S8)\\t        1\\t     0.005\\t     1.299%\\t    99.481%\\t     0.000\\t        1',\n",
       " 'SOFTMAX\\t        1\\t     0.001\\t     0.260%\\t    99.740%\\t     0.000\\t        1',\n",
       " 'Global Average Pooling (NWC, QS8)\\t        1\\t     0.001\\t     0.260%\\t   100.000%\\t     0.000\\t        1',\n",
       " 'RESHAPE\\t       32\\t     0.000\\t     0.000%\\t   100.000%\\t     0.000\\t       32',\n",
       " 'Fully Connected (NC, QS8) GEMM\\t        1\\t     0.000\\t     0.000%\\t   100.000%\\t     0.000\\t        1',\n",
       " 'Timings (microseconds): count=1563 first=345 curr=450 min=274 max=4279 avg=415.571 std=251',\n",
       " 'Memory (bytes): count=0',\n",
       " '54 nodes observed']"
      ]
     },
     "execution_count": 22,
     "metadata": {},
     "output_type": "execute_result"
    }
   ],
   "source": [
    "operator_profiling = lines[split_line+1:]\n",
    "operator_profiling"
   ]
  },
  {
   "cell_type": "code",
   "execution_count": 23,
   "metadata": {},
   "outputs": [
    {
     "data": {
      "text/plain": [
       "{'run_order': 0, 'top_by_computation_time': 56, 'summary_by_node_type': 69}"
      ]
     },
     "execution_count": 23,
     "metadata": {},
     "output_type": "execute_result"
    }
   ],
   "source": [
    "operator_lines_dict = {}\n",
    "for i, line in enumerate(operator_profiling):\n",
    "    #if line.str.contains('= Run Order ='):\n",
    "    if \"= Run Order =\" in line:\n",
    "        operator_lines_dict[\"run_order\"] = i\n",
    "    elif \"= Top by Computation Time =\" in line:\n",
    "        operator_lines_dict[\"top_by_computation_time\"] = i\n",
    "    elif \"= Summary by node type =\" in line:\n",
    "        operator_lines_dict[\"summary_by_node_type\"] = i\n",
    "\n",
    "operator_lines_dict"
   ]
  },
  {
   "cell_type": "code",
   "execution_count": 24,
   "metadata": {},
   "outputs": [],
   "source": [
    "def get_operator_df(text, name=\"\"):\n",
    "    df = pd.DataFrame(text)\n",
    "    df.rename(columns=df.iloc[0, :], inplace=True) \n",
    "    df.drop(df.index[0], inplace=True)\n",
    "    df.columns = clean_column_names(df)\n",
    "    try:\n",
    "        df[\"%\"] = df[\"%\"].apply(string_percent_to_float)\n",
    "    except:\n",
    "        df[\"avg %\"] = df[\"avg %\"].apply(string_percent_to_float)\n",
    "    try:\n",
    "        df[\"cdf%\"] = df[\"cdf%\"].apply(string_percent_to_float)\n",
    "    except:\n",
    "        df[\"cdf %\"] = df[\"cdf %\"].apply(string_percent_to_float)\n",
    "    df[\"first\"] = df[\"first\"].map(float)\n",
    "    df[\"avg ms\"] = df[\"avg ms\"].map(float)\n",
    "    df[\"mem KB\"] = df[\"mem KB\"].map(float)\n",
    "    df[\"times called\"] = df[\"times called\"].map(int)#\n",
    "    df.Name = name\n",
    "\n",
    "    return df"
   ]
  },
  {
   "cell_type": "code",
   "execution_count": 25,
   "metadata": {},
   "outputs": [],
   "source": [
    "def get_node_df(text, name=\"\"):\n",
    "    df = pd.DataFrame(text)\n",
    "    df.rename(columns=df.iloc[0, :], inplace=True) \n",
    "    df.drop(df.index[0], inplace=True)\n",
    "    df.columns = clean_column_names(df)\n",
    "    df[\"avg %\"] = df[\"avg %\"].apply(string_percent_to_float)\n",
    "    df[\"cdf %\"] = df[\"cdf %\"].apply(string_percent_to_float)\n",
    "    df[\"avg ms\"] = df[\"avg ms\"].map(float)\n",
    "    df[\"mem KB\"] = df[\"mem KB\"].map(float)\n",
    "    df[\"times called\"] = df[\"times called\"].map(int)\n",
    "    df[\"count\"] = df[\"count\"].map(int)\n",
    "    df.Name = name\n",
    "\n",
    "    return df"
   ]
  },
  {
   "cell_type": "code",
   "execution_count": 26,
   "metadata": {},
   "outputs": [
    {
     "data": {
      "text/plain": [
       "[['[Node type]',\n",
       "  '  [count]',\n",
       "  '  [avg ms]',\n",
       "  '    [avg %]',\n",
       "  '    [cdf %]',\n",
       "  '  [mem KB]',\n",
       "  '[times called]'],\n",
       " ['QUANTIZE',\n",
       "  '        2',\n",
       "  '     0.124',\n",
       "  '    32.208%',\n",
       "  '    32.208%',\n",
       "  '     0.000',\n",
       "  '        2'],\n",
       " ['Convolution (NHWC, QC8) GEMM',\n",
       "  '        6',\n",
       "  '     0.094',\n",
       "  '    24.416%',\n",
       "  '    56.623%',\n",
       "  '     0.000',\n",
       "  '       36'],\n",
       " ['Convolution (NHWC, QC8) IGEMM',\n",
       "  '        1',\n",
       "  '     0.055',\n",
       "  '    14.286%',\n",
       "  '    70.909%',\n",
       "  '     0.000',\n",
       "  '        1'],\n",
       " ['Transpose (ND, X8)',\n",
       "  '        1',\n",
       "  '     0.050',\n",
       "  '    12.987%',\n",
       "  '    83.896%',\n",
       "  '     0.000',\n",
       "  '       16'],\n",
       " ['Convolution (NHWC, QC8) DWConv',\n",
       "  '        4',\n",
       "  '     0.039',\n",
       "  '    10.130%',\n",
       "  '    94.026%',\n",
       "  '     0.000',\n",
       "  '       19'],\n",
       " ['Copy (NC, X8)',\n",
       "  '        4',\n",
       "  '     0.016',\n",
       "  '     4.156%',\n",
       "  '    98.182%',\n",
       "  '     0.000',\n",
       "  '       29'],\n",
       " ['Max Pooling (NHWC, S8)',\n",
       "  '        1',\n",
       "  '     0.005',\n",
       "  '     1.299%',\n",
       "  '    99.481%',\n",
       "  '     0.000',\n",
       "  '        1'],\n",
       " ['SOFTMAX',\n",
       "  '        1',\n",
       "  '     0.001',\n",
       "  '     0.260%',\n",
       "  '    99.740%',\n",
       "  '     0.000',\n",
       "  '        1'],\n",
       " ['Global Average Pooling (NWC, QS8)',\n",
       "  '        1',\n",
       "  '     0.001',\n",
       "  '     0.260%',\n",
       "  '   100.000%',\n",
       "  '     0.000',\n",
       "  '        1'],\n",
       " ['RESHAPE',\n",
       "  '       32',\n",
       "  '     0.000',\n",
       "  '     0.000%',\n",
       "  '   100.000%',\n",
       "  '     0.000',\n",
       "  '       32'],\n",
       " ['Fully Connected (NC, QS8) GEMM',\n",
       "  '        1',\n",
       "  '     0.000',\n",
       "  '     0.000%',\n",
       "  '   100.000%',\n",
       "  '     0.000',\n",
       "  '        1']]"
      ]
     },
     "execution_count": 26,
     "metadata": {},
     "output_type": "execute_result"
    }
   ],
   "source": [
    "summary_by_node_type = operator_profiling[operator_lines_dict[\"summary_by_node_type\"] +1:-3]\n",
    "summary_by_node_type = remove_tabs(summary_by_node_type)\n",
    "summary_by_node_type"
   ]
  },
  {
   "cell_type": "code",
   "execution_count": 27,
   "metadata": {},
   "outputs": [
    {
     "data": {
      "text/html": [
       "<div>\n",
       "<style scoped>\n",
       "    .dataframe tbody tr th:only-of-type {\n",
       "        vertical-align: middle;\n",
       "    }\n",
       "\n",
       "    .dataframe tbody tr th {\n",
       "        vertical-align: top;\n",
       "    }\n",
       "\n",
       "    .dataframe thead th {\n",
       "        text-align: right;\n",
       "    }\n",
       "</style>\n",
       "<table border=\"1\" class=\"dataframe\">\n",
       "  <thead>\n",
       "    <tr style=\"text-align: right;\">\n",
       "      <th></th>\n",
       "      <th>Node type</th>\n",
       "      <th>count</th>\n",
       "      <th>avg ms</th>\n",
       "      <th>avg %</th>\n",
       "      <th>cdf %</th>\n",
       "      <th>mem KB</th>\n",
       "      <th>times called</th>\n",
       "    </tr>\n",
       "  </thead>\n",
       "  <tbody>\n",
       "    <tr>\n",
       "      <th>1</th>\n",
       "      <td>QUANTIZE</td>\n",
       "      <td>2</td>\n",
       "      <td>0.124</td>\n",
       "      <td>32.208</td>\n",
       "      <td>32.208</td>\n",
       "      <td>0.0</td>\n",
       "      <td>2</td>\n",
       "    </tr>\n",
       "    <tr>\n",
       "      <th>2</th>\n",
       "      <td>Convolution (NHWC, QC8) GEMM</td>\n",
       "      <td>6</td>\n",
       "      <td>0.094</td>\n",
       "      <td>24.416</td>\n",
       "      <td>56.623</td>\n",
       "      <td>0.0</td>\n",
       "      <td>36</td>\n",
       "    </tr>\n",
       "    <tr>\n",
       "      <th>3</th>\n",
       "      <td>Convolution (NHWC, QC8) IGEMM</td>\n",
       "      <td>1</td>\n",
       "      <td>0.055</td>\n",
       "      <td>14.286</td>\n",
       "      <td>70.909</td>\n",
       "      <td>0.0</td>\n",
       "      <td>1</td>\n",
       "    </tr>\n",
       "    <tr>\n",
       "      <th>4</th>\n",
       "      <td>Transpose (ND, X8)</td>\n",
       "      <td>1</td>\n",
       "      <td>0.050</td>\n",
       "      <td>12.987</td>\n",
       "      <td>83.896</td>\n",
       "      <td>0.0</td>\n",
       "      <td>16</td>\n",
       "    </tr>\n",
       "    <tr>\n",
       "      <th>5</th>\n",
       "      <td>Convolution (NHWC, QC8) DWConv</td>\n",
       "      <td>4</td>\n",
       "      <td>0.039</td>\n",
       "      <td>10.130</td>\n",
       "      <td>94.026</td>\n",
       "      <td>0.0</td>\n",
       "      <td>19</td>\n",
       "    </tr>\n",
       "    <tr>\n",
       "      <th>6</th>\n",
       "      <td>Copy (NC, X8)</td>\n",
       "      <td>4</td>\n",
       "      <td>0.016</td>\n",
       "      <td>4.156</td>\n",
       "      <td>98.182</td>\n",
       "      <td>0.0</td>\n",
       "      <td>29</td>\n",
       "    </tr>\n",
       "    <tr>\n",
       "      <th>7</th>\n",
       "      <td>Max Pooling (NHWC, S8)</td>\n",
       "      <td>1</td>\n",
       "      <td>0.005</td>\n",
       "      <td>1.299</td>\n",
       "      <td>99.481</td>\n",
       "      <td>0.0</td>\n",
       "      <td>1</td>\n",
       "    </tr>\n",
       "    <tr>\n",
       "      <th>8</th>\n",
       "      <td>SOFTMAX</td>\n",
       "      <td>1</td>\n",
       "      <td>0.001</td>\n",
       "      <td>0.260</td>\n",
       "      <td>99.740</td>\n",
       "      <td>0.0</td>\n",
       "      <td>1</td>\n",
       "    </tr>\n",
       "    <tr>\n",
       "      <th>9</th>\n",
       "      <td>Global Average Pooling (NWC, QS8)</td>\n",
       "      <td>1</td>\n",
       "      <td>0.001</td>\n",
       "      <td>0.260</td>\n",
       "      <td>100.000</td>\n",
       "      <td>0.0</td>\n",
       "      <td>1</td>\n",
       "    </tr>\n",
       "    <tr>\n",
       "      <th>10</th>\n",
       "      <td>RESHAPE</td>\n",
       "      <td>32</td>\n",
       "      <td>0.000</td>\n",
       "      <td>0.000</td>\n",
       "      <td>100.000</td>\n",
       "      <td>0.0</td>\n",
       "      <td>32</td>\n",
       "    </tr>\n",
       "    <tr>\n",
       "      <th>11</th>\n",
       "      <td>Fully Connected (NC, QS8) GEMM</td>\n",
       "      <td>1</td>\n",
       "      <td>0.000</td>\n",
       "      <td>0.000</td>\n",
       "      <td>100.000</td>\n",
       "      <td>0.0</td>\n",
       "      <td>1</td>\n",
       "    </tr>\n",
       "  </tbody>\n",
       "</table>\n",
       "</div>"
      ],
      "text/plain": [
       "                            Node type  count  avg ms   avg %    cdf %  mem KB  \\\n",
       "1                            QUANTIZE      2   0.124  32.208   32.208     0.0   \n",
       "2        Convolution (NHWC, QC8) GEMM      6   0.094  24.416   56.623     0.0   \n",
       "3       Convolution (NHWC, QC8) IGEMM      1   0.055  14.286   70.909     0.0   \n",
       "4                  Transpose (ND, X8)      1   0.050  12.987   83.896     0.0   \n",
       "5      Convolution (NHWC, QC8) DWConv      4   0.039  10.130   94.026     0.0   \n",
       "6                       Copy (NC, X8)      4   0.016   4.156   98.182     0.0   \n",
       "7              Max Pooling (NHWC, S8)      1   0.005   1.299   99.481     0.0   \n",
       "8                             SOFTMAX      1   0.001   0.260   99.740     0.0   \n",
       "9   Global Average Pooling (NWC, QS8)      1   0.001   0.260  100.000     0.0   \n",
       "10                            RESHAPE     32   0.000   0.000  100.000     0.0   \n",
       "11     Fully Connected (NC, QS8) GEMM      1   0.000   0.000  100.000     0.0   \n",
       "\n",
       "    times called  \n",
       "1              2  \n",
       "2             36  \n",
       "3              1  \n",
       "4             16  \n",
       "5             19  \n",
       "6             29  \n",
       "7              1  \n",
       "8              1  \n",
       "9              1  \n",
       "10            32  \n",
       "11             1  "
      ]
     },
     "execution_count": 27,
     "metadata": {},
     "output_type": "execute_result"
    }
   ],
   "source": [
    "summary_by_node_type_df = get_node_df(summary_by_node_type, name=f\"Summary by node type - {model_name}\")\n",
    "summary_by_node_type_df"
   ]
  },
  {
   "cell_type": "code",
   "execution_count": 28,
   "metadata": {},
   "outputs": [
    {
     "data": {
      "text/plain": [
       "'Summary by node type - shufflenetv2tiny_0.1_96_c3_o3_f4l1024'"
      ]
     },
     "execution_count": 28,
     "metadata": {},
     "output_type": "execute_result"
    }
   ],
   "source": [
    "summary_by_node_type_df.Name"
   ]
  },
  {
   "cell_type": "code",
   "execution_count": 29,
   "metadata": {},
   "outputs": [
    {
     "data": {
      "text/plain": [
       "<bound method DataFrame.info of                             Node type  count  avg ms   avg %    cdf %  mem KB  \\\n",
       "1                            QUANTIZE      2   0.124  32.208   32.208     0.0   \n",
       "2        Convolution (NHWC, QC8) GEMM      6   0.094  24.416   56.623     0.0   \n",
       "3       Convolution (NHWC, QC8) IGEMM      1   0.055  14.286   70.909     0.0   \n",
       "4                  Transpose (ND, X8)      1   0.050  12.987   83.896     0.0   \n",
       "5      Convolution (NHWC, QC8) DWConv      4   0.039  10.130   94.026     0.0   \n",
       "6                       Copy (NC, X8)      4   0.016   4.156   98.182     0.0   \n",
       "7              Max Pooling (NHWC, S8)      1   0.005   1.299   99.481     0.0   \n",
       "8                             SOFTMAX      1   0.001   0.260   99.740     0.0   \n",
       "9   Global Average Pooling (NWC, QS8)      1   0.001   0.260  100.000     0.0   \n",
       "10                            RESHAPE     32   0.000   0.000  100.000     0.0   \n",
       "11     Fully Connected (NC, QS8) GEMM      1   0.000   0.000  100.000     0.0   \n",
       "\n",
       "    times called  \n",
       "1              2  \n",
       "2             36  \n",
       "3              1  \n",
       "4             16  \n",
       "5             19  \n",
       "6             29  \n",
       "7              1  \n",
       "8              1  \n",
       "9              1  \n",
       "10            32  \n",
       "11             1  >"
      ]
     },
     "execution_count": 29,
     "metadata": {},
     "output_type": "execute_result"
    }
   ],
   "source": [
    "summary_by_node_type_df.info"
   ]
  },
  {
   "cell_type": "code",
   "execution_count": 30,
   "metadata": {},
   "outputs": [
    {
     "data": {
      "text/plain": [
       "[['[node type]',\n",
       "  '  [first]',\n",
       "  ' [avg ms]',\n",
       "  '     [%]',\n",
       "  '  [cdf%]',\n",
       "  '  [mem KB]',\n",
       "  '[times called]',\n",
       "  '[Name]'],\n",
       " ['QUANTIZE',\n",
       "  '    0.110',\n",
       "  '    0.125',\n",
       "  ' 30.023%',\n",
       "  ' 30.023%',\n",
       "  '     0.000',\n",
       "  '        1',\n",
       "  '[tfl.quantize]:0'],\n",
       " ['Convolution (NHWC, QC8) IGEMM',\n",
       "  '    0.047',\n",
       "  '    0.056',\n",
       "  ' 13.441%',\n",
       "  ' 43.464%',\n",
       "  '     0.000',\n",
       "  '        1',\n",
       "  'Delegate/Convolution (NHWC, QC8) IGEMM:0'],\n",
       " ['Convolution (NHWC, QC8) GEMM',\n",
       "  '    0.004',\n",
       "  '    0.012',\n",
       "  '  8.694%',\n",
       "  ' 52.158%',\n",
       "  '     0.000',\n",
       "  '        3',\n",
       "  'Delegate/Convolution (NHWC, QC8) GEMM:0'],\n",
       " ['Max Pooling (NHWC, S8)',\n",
       "  '    0.005',\n",
       "  '    0.006',\n",
       "  '  1.372%',\n",
       "  ' 53.530%',\n",
       "  '     0.000',\n",
       "  '        1',\n",
       "  'Delegate/Max Pooling (NHWC, S8):1'],\n",
       " ['Convolution (NHWC, QC8) DWConv',\n",
       "  '    0.004',\n",
       "  '    0.004',\n",
       "  '  1.025%',\n",
       "  ' 54.555%',\n",
       "  '     0.000',\n",
       "  '        1',\n",
       "  'Delegate/Convolution (NHWC, QC8) DWConv:5'],\n",
       " ['Convolution (NHWC, QC8) GEMM',\n",
       "  '    0.007',\n",
       "  '    0.004',\n",
       "  '  2.649%',\n",
       "  ' 57.204%',\n",
       "  '     0.000',\n",
       "  '        3',\n",
       "  'Delegate/Convolution (NHWC, QC8) GEMM:2'],\n",
       " ['Transpose (ND, X8)',\n",
       "  '    0.005',\n",
       "  '    0.003',\n",
       "  ' 12.252%',\n",
       "  ' 69.456%',\n",
       "  '     0.000',\n",
       "  '       16',\n",
       "  'Delegate/Transpose (ND, X8):0'],\n",
       " ['Convolution (NHWC, QC8) GEMM',\n",
       "  '    0.002',\n",
       "  '    0.003',\n",
       "  '  0.642%',\n",
       "  ' 70.098%',\n",
       "  '     0.000',\n",
       "  '        1',\n",
       "  'Delegate/Convolution (NHWC, QC8) GEMM:6'],\n",
       " ['Convolution (NHWC, QC8) DWConv',\n",
       "  '    0.004',\n",
       "  '    0.002',\n",
       "  '  6.864%',\n",
       "  ' 76.962%',\n",
       "  '     0.000',\n",
       "  '       13',\n",
       "  'Delegate/Convolution (NHWC, QC8) DWConv:2'],\n",
       " ['Convolution (NHWC, QC8) DWConv',\n",
       "  '    0.003',\n",
       "  '    0.002',\n",
       "  '  1.420%',\n",
       "  ' 78.382%',\n",
       "  '     0.000',\n",
       "  '        3',\n",
       "  'Delegate/Convolution (NHWC, QC8) DWConv:3']]"
      ]
     },
     "execution_count": 30,
     "metadata": {},
     "output_type": "execute_result"
    }
   ],
   "source": [
    "top_by_comp_time = operator_profiling[operator_lines_dict[\"top_by_computation_time\"] +1: operator_lines_dict[\"summary_by_node_type\"]-1]\n",
    "top_by_comp_time = remove_tabs(top_by_comp_time)\n",
    "top_by_comp_time"
   ]
  },
  {
   "cell_type": "code",
   "execution_count": 31,
   "metadata": {},
   "outputs": [
    {
     "data": {
      "text/html": [
       "<div>\n",
       "<style scoped>\n",
       "    .dataframe tbody tr th:only-of-type {\n",
       "        vertical-align: middle;\n",
       "    }\n",
       "\n",
       "    .dataframe tbody tr th {\n",
       "        vertical-align: top;\n",
       "    }\n",
       "\n",
       "    .dataframe thead th {\n",
       "        text-align: right;\n",
       "    }\n",
       "</style>\n",
       "<table border=\"1\" class=\"dataframe\">\n",
       "  <thead>\n",
       "    <tr style=\"text-align: right;\">\n",
       "      <th></th>\n",
       "      <th>node type</th>\n",
       "      <th>first</th>\n",
       "      <th>avg ms</th>\n",
       "      <th>%</th>\n",
       "      <th>cdf%</th>\n",
       "      <th>mem KB</th>\n",
       "      <th>times called</th>\n",
       "      <th>Name</th>\n",
       "    </tr>\n",
       "  </thead>\n",
       "  <tbody>\n",
       "    <tr>\n",
       "      <th>1</th>\n",
       "      <td>QUANTIZE</td>\n",
       "      <td>0.110</td>\n",
       "      <td>0.125</td>\n",
       "      <td>30.023</td>\n",
       "      <td>30.023</td>\n",
       "      <td>0.0</td>\n",
       "      <td>1</td>\n",
       "      <td>Top by compute time - shufflenetv2tiny_0.1_96_c3_o3_f4l1024</td>\n",
       "    </tr>\n",
       "    <tr>\n",
       "      <th>2</th>\n",
       "      <td>Convolution (NHWC, QC8) IGEMM</td>\n",
       "      <td>0.047</td>\n",
       "      <td>0.056</td>\n",
       "      <td>13.441</td>\n",
       "      <td>43.464</td>\n",
       "      <td>0.0</td>\n",
       "      <td>1</td>\n",
       "      <td>Top by compute time - shufflenetv2tiny_0.1_96_c3_o3_f4l1024</td>\n",
       "    </tr>\n",
       "    <tr>\n",
       "      <th>3</th>\n",
       "      <td>Convolution (NHWC, QC8) GEMM</td>\n",
       "      <td>0.004</td>\n",
       "      <td>0.012</td>\n",
       "      <td>8.694</td>\n",
       "      <td>52.158</td>\n",
       "      <td>0.0</td>\n",
       "      <td>3</td>\n",
       "      <td>Top by compute time - shufflenetv2tiny_0.1_96_c3_o3_f4l1024</td>\n",
       "    </tr>\n",
       "    <tr>\n",
       "      <th>4</th>\n",
       "      <td>Max Pooling (NHWC, S8)</td>\n",
       "      <td>0.005</td>\n",
       "      <td>0.006</td>\n",
       "      <td>1.372</td>\n",
       "      <td>53.530</td>\n",
       "      <td>0.0</td>\n",
       "      <td>1</td>\n",
       "      <td>Top by compute time - shufflenetv2tiny_0.1_96_c3_o3_f4l1024</td>\n",
       "    </tr>\n",
       "    <tr>\n",
       "      <th>5</th>\n",
       "      <td>Convolution (NHWC, QC8) DWConv</td>\n",
       "      <td>0.004</td>\n",
       "      <td>0.004</td>\n",
       "      <td>1.025</td>\n",
       "      <td>54.555</td>\n",
       "      <td>0.0</td>\n",
       "      <td>1</td>\n",
       "      <td>Top by compute time - shufflenetv2tiny_0.1_96_c3_o3_f4l1024</td>\n",
       "    </tr>\n",
       "    <tr>\n",
       "      <th>6</th>\n",
       "      <td>Convolution (NHWC, QC8) GEMM</td>\n",
       "      <td>0.007</td>\n",
       "      <td>0.004</td>\n",
       "      <td>2.649</td>\n",
       "      <td>57.204</td>\n",
       "      <td>0.0</td>\n",
       "      <td>3</td>\n",
       "      <td>Top by compute time - shufflenetv2tiny_0.1_96_c3_o3_f4l1024</td>\n",
       "    </tr>\n",
       "    <tr>\n",
       "      <th>7</th>\n",
       "      <td>Transpose (ND, X8)</td>\n",
       "      <td>0.005</td>\n",
       "      <td>0.003</td>\n",
       "      <td>12.252</td>\n",
       "      <td>69.456</td>\n",
       "      <td>0.0</td>\n",
       "      <td>16</td>\n",
       "      <td>Top by compute time - shufflenetv2tiny_0.1_96_c3_o3_f4l1024</td>\n",
       "    </tr>\n",
       "    <tr>\n",
       "      <th>8</th>\n",
       "      <td>Convolution (NHWC, QC8) GEMM</td>\n",
       "      <td>0.002</td>\n",
       "      <td>0.003</td>\n",
       "      <td>0.642</td>\n",
       "      <td>70.098</td>\n",
       "      <td>0.0</td>\n",
       "      <td>1</td>\n",
       "      <td>Top by compute time - shufflenetv2tiny_0.1_96_c3_o3_f4l1024</td>\n",
       "    </tr>\n",
       "    <tr>\n",
       "      <th>9</th>\n",
       "      <td>Convolution (NHWC, QC8) DWConv</td>\n",
       "      <td>0.004</td>\n",
       "      <td>0.002</td>\n",
       "      <td>6.864</td>\n",
       "      <td>76.962</td>\n",
       "      <td>0.0</td>\n",
       "      <td>13</td>\n",
       "      <td>Top by compute time - shufflenetv2tiny_0.1_96_c3_o3_f4l1024</td>\n",
       "    </tr>\n",
       "    <tr>\n",
       "      <th>10</th>\n",
       "      <td>Convolution (NHWC, QC8) DWConv</td>\n",
       "      <td>0.003</td>\n",
       "      <td>0.002</td>\n",
       "      <td>1.420</td>\n",
       "      <td>78.382</td>\n",
       "      <td>0.0</td>\n",
       "      <td>3</td>\n",
       "      <td>Top by compute time - shufflenetv2tiny_0.1_96_c3_o3_f4l1024</td>\n",
       "    </tr>\n",
       "  </tbody>\n",
       "</table>\n",
       "</div>"
      ],
      "text/plain": [
       "                         node type  first  avg ms       %    cdf%  mem KB  \\\n",
       "1                         QUANTIZE  0.110   0.125  30.023  30.023     0.0   \n",
       "2    Convolution (NHWC, QC8) IGEMM  0.047   0.056  13.441  43.464     0.0   \n",
       "3     Convolution (NHWC, QC8) GEMM  0.004   0.012   8.694  52.158     0.0   \n",
       "4           Max Pooling (NHWC, S8)  0.005   0.006   1.372  53.530     0.0   \n",
       "5   Convolution (NHWC, QC8) DWConv  0.004   0.004   1.025  54.555     0.0   \n",
       "6     Convolution (NHWC, QC8) GEMM  0.007   0.004   2.649  57.204     0.0   \n",
       "7               Transpose (ND, X8)  0.005   0.003  12.252  69.456     0.0   \n",
       "8     Convolution (NHWC, QC8) GEMM  0.002   0.003   0.642  70.098     0.0   \n",
       "9   Convolution (NHWC, QC8) DWConv  0.004   0.002   6.864  76.962     0.0   \n",
       "10  Convolution (NHWC, QC8) DWConv  0.003   0.002   1.420  78.382     0.0   \n",
       "\n",
       "    times called                                                         Name  \n",
       "1              1  Top by compute time - shufflenetv2tiny_0.1_96_c3_o3_f4l1024  \n",
       "2              1  Top by compute time - shufflenetv2tiny_0.1_96_c3_o3_f4l1024  \n",
       "3              3  Top by compute time - shufflenetv2tiny_0.1_96_c3_o3_f4l1024  \n",
       "4              1  Top by compute time - shufflenetv2tiny_0.1_96_c3_o3_f4l1024  \n",
       "5              1  Top by compute time - shufflenetv2tiny_0.1_96_c3_o3_f4l1024  \n",
       "6              3  Top by compute time - shufflenetv2tiny_0.1_96_c3_o3_f4l1024  \n",
       "7             16  Top by compute time - shufflenetv2tiny_0.1_96_c3_o3_f4l1024  \n",
       "8              1  Top by compute time - shufflenetv2tiny_0.1_96_c3_o3_f4l1024  \n",
       "9             13  Top by compute time - shufflenetv2tiny_0.1_96_c3_o3_f4l1024  \n",
       "10             3  Top by compute time - shufflenetv2tiny_0.1_96_c3_o3_f4l1024  "
      ]
     },
     "execution_count": 31,
     "metadata": {},
     "output_type": "execute_result"
    }
   ],
   "source": [
    "df_operator_top_by_comp_time = get_operator_df(top_by_comp_time, name=f\"Top by compute time - {model_name}\")\n",
    "df_operator_top_by_comp_time"
   ]
  },
  {
   "cell_type": "code",
   "execution_count": 32,
   "metadata": {},
   "outputs": [],
   "source": [
    "run_order = operator_profiling[operator_lines_dict[\"run_order\"] +1: operator_lines_dict[\"top_by_computation_time\"]]\n",
    "run_order = remove_tabs(run_order)\n",
    "#run_order"
   ]
  },
  {
   "cell_type": "code",
   "execution_count": 33,
   "metadata": {},
   "outputs": [
    {
     "data": {
      "text/html": [
       "<div>\n",
       "<style scoped>\n",
       "    .dataframe tbody tr th:only-of-type {\n",
       "        vertical-align: middle;\n",
       "    }\n",
       "\n",
       "    .dataframe tbody tr th {\n",
       "        vertical-align: top;\n",
       "    }\n",
       "\n",
       "    .dataframe thead th {\n",
       "        text-align: right;\n",
       "    }\n",
       "</style>\n",
       "<table border=\"1\" class=\"dataframe\">\n",
       "  <thead>\n",
       "    <tr style=\"text-align: right;\">\n",
       "      <th></th>\n",
       "      <th>node type</th>\n",
       "      <th>first</th>\n",
       "      <th>avg ms</th>\n",
       "      <th>%</th>\n",
       "      <th>cdf%</th>\n",
       "      <th>mem KB</th>\n",
       "      <th>times called</th>\n",
       "      <th>Name</th>\n",
       "    </tr>\n",
       "  </thead>\n",
       "  <tbody>\n",
       "    <tr>\n",
       "      <th>1</th>\n",
       "      <td>QUANTIZE</td>\n",
       "      <td>0.000</td>\n",
       "      <td>0.001</td>\n",
       "      <td>0.190</td>\n",
       "      <td>0.190</td>\n",
       "      <td>0.0</td>\n",
       "      <td>1</td>\n",
       "      <td>Run order - shufflenetv2tiny_0.1_96_c3_o3_f4l1024</td>\n",
       "    </tr>\n",
       "    <tr>\n",
       "      <th>2</th>\n",
       "      <td>SOFTMAX</td>\n",
       "      <td>0.001</td>\n",
       "      <td>0.001</td>\n",
       "      <td>0.243</td>\n",
       "      <td>0.433</td>\n",
       "      <td>0.0</td>\n",
       "      <td>1</td>\n",
       "      <td>Run order - shufflenetv2tiny_0.1_96_c3_o3_f4l1024</td>\n",
       "    </tr>\n",
       "    <tr>\n",
       "      <th>3</th>\n",
       "      <td>Fully Connected (NC, QS8) GEMM</td>\n",
       "      <td>0.001</td>\n",
       "      <td>0.001</td>\n",
       "      <td>0.127</td>\n",
       "      <td>0.560</td>\n",
       "      <td>0.0</td>\n",
       "      <td>1</td>\n",
       "      <td>Run order - shufflenetv2tiny_0.1_96_c3_o3_f4l1024</td>\n",
       "    </tr>\n",
       "    <tr>\n",
       "      <th>4</th>\n",
       "      <td>Global Average Pooling (NWC, QS8)</td>\n",
       "      <td>0.001</td>\n",
       "      <td>0.001</td>\n",
       "      <td>0.325</td>\n",
       "      <td>0.885</td>\n",
       "      <td>0.0</td>\n",
       "      <td>1</td>\n",
       "      <td>Run order - shufflenetv2tiny_0.1_96_c3_o3_f4l1024</td>\n",
       "    </tr>\n",
       "    <tr>\n",
       "      <th>5</th>\n",
       "      <td>RESHAPE</td>\n",
       "      <td>0.001</td>\n",
       "      <td>0.001</td>\n",
       "      <td>0.126</td>\n",
       "      <td>1.011</td>\n",
       "      <td>0.0</td>\n",
       "      <td>1</td>\n",
       "      <td>Run order - shufflenetv2tiny_0.1_96_c3_o3_f4l1024</td>\n",
       "    </tr>\n",
       "    <tr>\n",
       "      <th>6</th>\n",
       "      <td>RESHAPE</td>\n",
       "      <td>0.001</td>\n",
       "      <td>0.001</td>\n",
       "      <td>0.137</td>\n",
       "      <td>1.148</td>\n",
       "      <td>0.0</td>\n",
       "      <td>1</td>\n",
       "      <td>Run order - shufflenetv2tiny_0.1_96_c3_o3_f4l1024</td>\n",
       "    </tr>\n",
       "    <tr>\n",
       "      <th>7</th>\n",
       "      <td>RESHAPE</td>\n",
       "      <td>0.000</td>\n",
       "      <td>0.001</td>\n",
       "      <td>0.133</td>\n",
       "      <td>1.281</td>\n",
       "      <td>0.0</td>\n",
       "      <td>1</td>\n",
       "      <td>Run order - shufflenetv2tiny_0.1_96_c3_o3_f4l1024</td>\n",
       "    </tr>\n",
       "    <tr>\n",
       "      <th>8</th>\n",
       "      <td>RESHAPE</td>\n",
       "      <td>0.000</td>\n",
       "      <td>0.001</td>\n",
       "      <td>0.149</td>\n",
       "      <td>1.429</td>\n",
       "      <td>0.0</td>\n",
       "      <td>1</td>\n",
       "      <td>Run order - shufflenetv2tiny_0.1_96_c3_o3_f4l1024</td>\n",
       "    </tr>\n",
       "    <tr>\n",
       "      <th>9</th>\n",
       "      <td>RESHAPE</td>\n",
       "      <td>0.001</td>\n",
       "      <td>0.001</td>\n",
       "      <td>0.132</td>\n",
       "      <td>1.562</td>\n",
       "      <td>0.0</td>\n",
       "      <td>1</td>\n",
       "      <td>Run order - shufflenetv2tiny_0.1_96_c3_o3_f4l1024</td>\n",
       "    </tr>\n",
       "    <tr>\n",
       "      <th>10</th>\n",
       "      <td>RESHAPE</td>\n",
       "      <td>0.001</td>\n",
       "      <td>0.001</td>\n",
       "      <td>0.142</td>\n",
       "      <td>1.703</td>\n",
       "      <td>0.0</td>\n",
       "      <td>1</td>\n",
       "      <td>Run order - shufflenetv2tiny_0.1_96_c3_o3_f4l1024</td>\n",
       "    </tr>\n",
       "    <tr>\n",
       "      <th>11</th>\n",
       "      <td>RESHAPE</td>\n",
       "      <td>0.000</td>\n",
       "      <td>0.001</td>\n",
       "      <td>0.127</td>\n",
       "      <td>1.830</td>\n",
       "      <td>0.0</td>\n",
       "      <td>1</td>\n",
       "      <td>Run order - shufflenetv2tiny_0.1_96_c3_o3_f4l1024</td>\n",
       "    </tr>\n",
       "    <tr>\n",
       "      <th>12</th>\n",
       "      <td>RESHAPE</td>\n",
       "      <td>0.001</td>\n",
       "      <td>0.001</td>\n",
       "      <td>0.144</td>\n",
       "      <td>1.975</td>\n",
       "      <td>0.0</td>\n",
       "      <td>1</td>\n",
       "      <td>Run order - shufflenetv2tiny_0.1_96_c3_o3_f4l1024</td>\n",
       "    </tr>\n",
       "    <tr>\n",
       "      <th>13</th>\n",
       "      <td>RESHAPE</td>\n",
       "      <td>0.001</td>\n",
       "      <td>0.001</td>\n",
       "      <td>0.132</td>\n",
       "      <td>2.107</td>\n",
       "      <td>0.0</td>\n",
       "      <td>1</td>\n",
       "      <td>Run order - shufflenetv2tiny_0.1_96_c3_o3_f4l1024</td>\n",
       "    </tr>\n",
       "    <tr>\n",
       "      <th>14</th>\n",
       "      <td>RESHAPE</td>\n",
       "      <td>0.000</td>\n",
       "      <td>0.001</td>\n",
       "      <td>0.144</td>\n",
       "      <td>2.251</td>\n",
       "      <td>0.0</td>\n",
       "      <td>1</td>\n",
       "      <td>Run order - shufflenetv2tiny_0.1_96_c3_o3_f4l1024</td>\n",
       "    </tr>\n",
       "    <tr>\n",
       "      <th>15</th>\n",
       "      <td>RESHAPE</td>\n",
       "      <td>0.000</td>\n",
       "      <td>0.001</td>\n",
       "      <td>0.133</td>\n",
       "      <td>2.385</td>\n",
       "      <td>0.0</td>\n",
       "      <td>1</td>\n",
       "      <td>Run order - shufflenetv2tiny_0.1_96_c3_o3_f4l1024</td>\n",
       "    </tr>\n",
       "    <tr>\n",
       "      <th>16</th>\n",
       "      <td>RESHAPE</td>\n",
       "      <td>0.001</td>\n",
       "      <td>0.001</td>\n",
       "      <td>0.139</td>\n",
       "      <td>2.523</td>\n",
       "      <td>0.0</td>\n",
       "      <td>1</td>\n",
       "      <td>Run order - shufflenetv2tiny_0.1_96_c3_o3_f4l1024</td>\n",
       "    </tr>\n",
       "    <tr>\n",
       "      <th>17</th>\n",
       "      <td>RESHAPE</td>\n",
       "      <td>0.000</td>\n",
       "      <td>0.001</td>\n",
       "      <td>0.139</td>\n",
       "      <td>2.663</td>\n",
       "      <td>0.0</td>\n",
       "      <td>1</td>\n",
       "      <td>Run order - shufflenetv2tiny_0.1_96_c3_o3_f4l1024</td>\n",
       "    </tr>\n",
       "    <tr>\n",
       "      <th>18</th>\n",
       "      <td>RESHAPE</td>\n",
       "      <td>0.001</td>\n",
       "      <td>0.001</td>\n",
       "      <td>0.142</td>\n",
       "      <td>2.805</td>\n",
       "      <td>0.0</td>\n",
       "      <td>1</td>\n",
       "      <td>Run order - shufflenetv2tiny_0.1_96_c3_o3_f4l1024</td>\n",
       "    </tr>\n",
       "    <tr>\n",
       "      <th>19</th>\n",
       "      <td>RESHAPE</td>\n",
       "      <td>0.001</td>\n",
       "      <td>0.001</td>\n",
       "      <td>0.159</td>\n",
       "      <td>2.964</td>\n",
       "      <td>0.0</td>\n",
       "      <td>1</td>\n",
       "      <td>Run order - shufflenetv2tiny_0.1_96_c3_o3_f4l1024</td>\n",
       "    </tr>\n",
       "    <tr>\n",
       "      <th>20</th>\n",
       "      <td>RESHAPE</td>\n",
       "      <td>0.000</td>\n",
       "      <td>0.001</td>\n",
       "      <td>0.156</td>\n",
       "      <td>3.120</td>\n",
       "      <td>0.0</td>\n",
       "      <td>1</td>\n",
       "      <td>Run order - shufflenetv2tiny_0.1_96_c3_o3_f4l1024</td>\n",
       "    </tr>\n",
       "  </tbody>\n",
       "</table>\n",
       "</div>"
      ],
      "text/plain": [
       "                            node type  first  avg ms      %   cdf%  mem KB  \\\n",
       "1                            QUANTIZE  0.000   0.001  0.190  0.190     0.0   \n",
       "2                             SOFTMAX  0.001   0.001  0.243  0.433     0.0   \n",
       "3      Fully Connected (NC, QS8) GEMM  0.001   0.001  0.127  0.560     0.0   \n",
       "4   Global Average Pooling (NWC, QS8)  0.001   0.001  0.325  0.885     0.0   \n",
       "5                             RESHAPE  0.001   0.001  0.126  1.011     0.0   \n",
       "6                             RESHAPE  0.001   0.001  0.137  1.148     0.0   \n",
       "7                             RESHAPE  0.000   0.001  0.133  1.281     0.0   \n",
       "8                             RESHAPE  0.000   0.001  0.149  1.429     0.0   \n",
       "9                             RESHAPE  0.001   0.001  0.132  1.562     0.0   \n",
       "10                            RESHAPE  0.001   0.001  0.142  1.703     0.0   \n",
       "11                            RESHAPE  0.000   0.001  0.127  1.830     0.0   \n",
       "12                            RESHAPE  0.001   0.001  0.144  1.975     0.0   \n",
       "13                            RESHAPE  0.001   0.001  0.132  2.107     0.0   \n",
       "14                            RESHAPE  0.000   0.001  0.144  2.251     0.0   \n",
       "15                            RESHAPE  0.000   0.001  0.133  2.385     0.0   \n",
       "16                            RESHAPE  0.001   0.001  0.139  2.523     0.0   \n",
       "17                            RESHAPE  0.000   0.001  0.139  2.663     0.0   \n",
       "18                            RESHAPE  0.001   0.001  0.142  2.805     0.0   \n",
       "19                            RESHAPE  0.001   0.001  0.159  2.964     0.0   \n",
       "20                            RESHAPE  0.000   0.001  0.156  3.120     0.0   \n",
       "\n",
       "    times called                                               Name  \n",
       "1              1  Run order - shufflenetv2tiny_0.1_96_c3_o3_f4l1024  \n",
       "2              1  Run order - shufflenetv2tiny_0.1_96_c3_o3_f4l1024  \n",
       "3              1  Run order - shufflenetv2tiny_0.1_96_c3_o3_f4l1024  \n",
       "4              1  Run order - shufflenetv2tiny_0.1_96_c3_o3_f4l1024  \n",
       "5              1  Run order - shufflenetv2tiny_0.1_96_c3_o3_f4l1024  \n",
       "6              1  Run order - shufflenetv2tiny_0.1_96_c3_o3_f4l1024  \n",
       "7              1  Run order - shufflenetv2tiny_0.1_96_c3_o3_f4l1024  \n",
       "8              1  Run order - shufflenetv2tiny_0.1_96_c3_o3_f4l1024  \n",
       "9              1  Run order - shufflenetv2tiny_0.1_96_c3_o3_f4l1024  \n",
       "10             1  Run order - shufflenetv2tiny_0.1_96_c3_o3_f4l1024  \n",
       "11             1  Run order - shufflenetv2tiny_0.1_96_c3_o3_f4l1024  \n",
       "12             1  Run order - shufflenetv2tiny_0.1_96_c3_o3_f4l1024  \n",
       "13             1  Run order - shufflenetv2tiny_0.1_96_c3_o3_f4l1024  \n",
       "14             1  Run order - shufflenetv2tiny_0.1_96_c3_o3_f4l1024  \n",
       "15             1  Run order - shufflenetv2tiny_0.1_96_c3_o3_f4l1024  \n",
       "16             1  Run order - shufflenetv2tiny_0.1_96_c3_o3_f4l1024  \n",
       "17             1  Run order - shufflenetv2tiny_0.1_96_c3_o3_f4l1024  \n",
       "18             1  Run order - shufflenetv2tiny_0.1_96_c3_o3_f4l1024  \n",
       "19             1  Run order - shufflenetv2tiny_0.1_96_c3_o3_f4l1024  \n",
       "20             1  Run order - shufflenetv2tiny_0.1_96_c3_o3_f4l1024  "
      ]
     },
     "execution_count": 33,
     "metadata": {},
     "output_type": "execute_result"
    }
   ],
   "source": [
    "df_operator_run_order = get_operator_df(run_order, name= f\"Run order - {model_name}\")\n",
    "#df_operator_run_order.style.set_properties(**{'text-align': 'left'})\n",
    "df_operator_run_order.head(20)"
   ]
  },
  {
   "cell_type": "code",
   "execution_count": 34,
   "metadata": {},
   "outputs": [
    {
     "name": "stdout",
     "output_type": "stream",
     "text": [
      "<class 'pandas.core.frame.DataFrame'>\n",
      "RangeIndex: 54 entries, 1 to 54\n",
      "Data columns (total 8 columns):\n",
      " #   Column        Non-Null Count  Dtype  \n",
      "---  ------        --------------  -----  \n",
      " 0   node type     54 non-null     object \n",
      " 1   first         54 non-null     float64\n",
      " 2   avg ms        54 non-null     float64\n",
      " 3   %             54 non-null     float64\n",
      " 4   cdf%          54 non-null     float64\n",
      " 5   mem KB        54 non-null     float64\n",
      " 6   times called  54 non-null     int64  \n",
      " 7   Name          54 non-null     object \n",
      "dtypes: float64(5), int64(1), object(2)\n",
      "memory usage: 3.5+ KB\n"
     ]
    }
   ],
   "source": [
    "df_operator_run_order.info()"
   ]
  },
  {
   "cell_type": "code",
   "execution_count": null,
   "metadata": {},
   "outputs": [],
   "source": [
    "\n"
   ]
  },
  {
   "attachments": {},
   "cell_type": "markdown",
   "metadata": {},
   "source": [
    "# Peak memory usage"
   ]
  },
  {
   "cell_type": "code",
   "execution_count": 35,
   "metadata": {},
   "outputs": [
    {
     "data": {
      "text/plain": [
       "WindowsPath('i:/tinyml/tiny_cnn/models/shufflenetv2tiny_0.1_96_c3_o3_f4l1024/shufflenetv2tiny_0.1_96_c3_o3_f4l1024_peak_memory')"
      ]
     },
     "execution_count": 35,
     "metadata": {},
     "output_type": "execute_result"
    }
   ],
   "source": [
    "models_peak_memory_path = models_dir.joinpath(model_name, f\"{model_name}_peak_memory\")\n",
    "models_peak_memory_path"
   ]
  },
  {
   "cell_type": "code",
   "execution_count": 36,
   "metadata": {},
   "outputs": [],
   "source": [
    "# ! ./benchmarking/linux_x86-64_benchmark_model \\\n",
    "#     --graph=$models_tflite_path \\\n",
    "#     --num_threads=1 \\\n",
    "#     --enable_op_profiling=true \\\n",
    "#     | tee $models_benchmark_path"
   ]
  },
  {
   "cell_type": "code",
   "execution_count": 37,
   "metadata": {},
   "outputs": [
    {
     "data": {
      "text/plain": [
       "WindowsPath('i:/tinyml/tiny_cnn/models/shufflenetv2tiny_0.1_96_c3_o3_f4l1024/shufflenetv2tiny_0.1_96_c3_o3_f4l1024_INT8.tflite')"
      ]
     },
     "execution_count": 37,
     "metadata": {},
     "output_type": "execute_result"
    }
   ],
   "source": [
    "models_tflite_opt_path"
   ]
  },
  {
   "cell_type": "markdown",
   "metadata": {},
   "source": []
  },
  {
   "cell_type": "code",
   "execution_count": null,
   "metadata": {},
   "outputs": [],
   "source": []
  },
  {
   "cell_type": "code",
   "execution_count": 38,
   "metadata": {},
   "outputs": [],
   "source": [
    "# ! python i:\\\\tinyml\\\\tflite-tools\\\\tflite_tools.py \\\n",
    "#     -i $models_tflite_opt_path \\\n",
    "#     --csv $models_peak_memory_path \n",
    " "
   ]
  },
  {
   "cell_type": "code",
   "execution_count": 39,
   "metadata": {},
   "outputs": [
    {
     "name": "stderr",
     "output_type": "stream",
     "text": [
      "Traceback (most recent call last):\n",
      "  File \"i:\\tinyml\\tflite-tools\\tflite_tools.py\", line 49, in <module>\n",
      "    main()\n",
      "  File \"i:\\tinyml\\tflite-tools\\tflite_tools.py\", line 23, in main\n",
      "    model = TFLiteModel.load_from_file(args.input_path)\n",
      "  File \"i:\\tinyml\\tflite-tools\\tflite_tools\\tflite_model.py\", line 119, in load_from_file\n",
      "    return cls(bytearray(f.read()))\n",
      "  File \"i:\\tinyml\\tflite-tools\\tflite_tools\\tflite_model.py\", line 114, in __init__\n",
      "    self._build_graph()\n",
      "  File \"i:\\tinyml\\tflite-tools\\tflite_tools\\tflite_model.py\", line 174, in _build_graph\n",
      "    assert op.OutputsLength() <= 1\n",
      "AssertionError\n"
     ]
    }
   ],
   "source": [
    "! python i:\\tinyml\\tflite-tools\\tflite_tools.py -i $models_tflite_opt_path --csv $models_peak_memory_path"
   ]
  },
  {
   "cell_type": "code",
   "execution_count": 40,
   "metadata": {},
   "outputs": [],
   "source": [
    "%%capture peak_memory_str\n",
    "\n",
    "! python i:\\tinyml\\tflite-tools\\tflite_tools.py -i $models_tflite_opt_path"
   ]
  },
  {
   "cell_type": "code",
   "execution_count": 41,
   "metadata": {},
   "outputs": [
    {
     "data": {
      "text/plain": [
       "['']"
      ]
     },
     "execution_count": 41,
     "metadata": {},
     "output_type": "execute_result"
    }
   ],
   "source": [
    "x = peak_memory_str.stdout\n",
    "peak_memory_lines = x.split(\"\\n\")\n",
    "peak_memory_lines"
   ]
  },
  {
   "cell_type": "code",
   "execution_count": 42,
   "metadata": {},
   "outputs": [
    {
     "data": {
      "text/plain": [
       "{}"
      ]
     },
     "execution_count": 42,
     "metadata": {},
     "output_type": "execute_result"
    }
   ],
   "source": [
    "peak_mem_lines_dict = {}\n",
    "for i, line in enumerate(peak_memory_lines):\n",
    "    #if line.str.contains('= Run Order ='):\n",
    "    if \"|  Id | \" in line:\n",
    "        peak_mem_lines_dict[\"header\"] = i\n",
    "    elif \"Current peak memory usage:\" in line:\n",
    "        peak_mem_lines_dict[\"peak_memory\"] = i\n",
    "    elif \"Operator execution schedule:\" in line:\n",
    "        peak_mem_lines_dict[\"operator_schedule\"] = i\n",
    "\n",
    "peak_mem_lines_dict"
   ]
  },
  {
   "cell_type": "code",
   "execution_count": 43,
   "metadata": {},
   "outputs": [
    {
     "ename": "KeyError",
     "evalue": "'operator_schedule'",
     "output_type": "error",
     "traceback": [
      "\u001b[1;31m---------------------------------------------------------------------------\u001b[0m",
      "\u001b[1;31mKeyError\u001b[0m                                  Traceback (most recent call last)",
      "Cell \u001b[1;32mIn [43], line 1\u001b[0m\n\u001b[1;32m----> 1\u001b[0m operator_schedule \u001b[39m=\u001b[39m peak_memory_lines[peak_mem_lines_dict[\u001b[39m\"\u001b[39;49m\u001b[39moperator_schedule\u001b[39;49m\u001b[39m\"\u001b[39;49m]: peak_mem_lines_dict[\u001b[39m\"\u001b[39m\u001b[39mpeak_memory\u001b[39m\u001b[39m\"\u001b[39m]]\n\u001b[0;32m      2\u001b[0m operator_schedule\n",
      "\u001b[1;31mKeyError\u001b[0m: 'operator_schedule'"
     ]
    }
   ],
   "source": [
    "operator_schedule = peak_memory_lines[peak_mem_lines_dict[\"operator_schedule\"]: peak_mem_lines_dict[\"peak_memory\"]]\n",
    "operator_schedule"
   ]
  },
  {
   "cell_type": "code",
   "execution_count": null,
   "metadata": {},
   "outputs": [],
   "source": [
    "operator_lines =[]\n",
    "for line in operator_schedule:\n",
    "    if line.startswith(\"|\"):\n",
    "        operator_lines.append(line.strip(\"|\"))\n",
    "#operator_lines\n",
    "\n",
    "operator_data =[]\n",
    "for row in operator_lines:\n",
    "    operator_data_dict = {}\n",
    "    data =row.split(\"|\")\n",
    "    #print(data)\n",
    "    operator_data_dict[\"operator\"] = data[0].strip()\n",
    "    operator_data_dict[\"tensor_ids_in_memory\"] = data[1].strip()\n",
    "    operator_data_dict[\"peak_memory_kb\"] = data[2].strip().replace(\",\", \"\")\n",
    "    operator_data.append(operator_data_dict)\n",
    "\n",
    "operator_data"
   ]
  },
  {
   "cell_type": "code",
   "execution_count": null,
   "metadata": {},
   "outputs": [],
   "source": [
    "peak_memory_df = pd.DataFrame.from_dict(operator_data)\n",
    "peak_memory_df = peak_memory_df.drop([0])\n",
    "peak_memory_df[\"peak_memory_kb\"] = peak_memory_df[\"peak_memory_kb\"].map(float)/1000.0\n",
    "peak_memory_df.Name = f\"Peak memory - {model_name}\"\n",
    "peak_memory_df"
   ]
  },
  {
   "cell_type": "code",
   "execution_count": null,
   "metadata": {},
   "outputs": [],
   "source": [
    "models_peak_memory_df_path = models_dir.joinpath(model_name, \"peak_memory_df\")\n",
    "models_peak_memory_df_path"
   ]
  },
  {
   "cell_type": "code",
   "execution_count": null,
   "metadata": {},
   "outputs": [],
   "source": [
    "peak_memory_df.to_pickle(models_peak_memory_df_path)"
   ]
  },
  {
   "cell_type": "code",
   "execution_count": null,
   "metadata": {},
   "outputs": [],
   "source": [
    "peak_memory_df[\"peak_memory_kb\"].max()"
   ]
  },
  {
   "cell_type": "code",
   "execution_count": null,
   "metadata": {},
   "outputs": [],
   "source": [
    "tensor_information = peak_memory_lines[:peak_mem_lines_dict[\"operator_schedule\"]]\n",
    "tensor_information"
   ]
  },
  {
   "cell_type": "code",
   "execution_count": null,
   "metadata": {},
   "outputs": [],
   "source": [
    "data_lines =[]\n",
    "for line in tensor_information:\n",
    "    if line.startswith(\"|\"):\n",
    "        data_lines.append(line.strip(\"|\"))\n",
    "#data_lines\n",
    "\n",
    "split_data =[]\n",
    "for row in data_lines:\n",
    "    line_dict = {}\n",
    "    data =row.split(\"|\")\n",
    "    #print(data)\n",
    "    line_dict[\"tensor_id\"] = data[0].strip()\n",
    "    line_dict[\"tensor\"] = data[1].strip()\n",
    "    line_dict[\"shape\"] = data[2].strip()\n",
    "    line_dict[\"size_in_RAM_kb\"] = data[3].strip().replace(\",\", \"\")\n",
    "    split_data.append(line_dict)\n",
    "\n",
    "split_data\n"
   ]
  },
  {
   "cell_type": "code",
   "execution_count": null,
   "metadata": {},
   "outputs": [],
   "source": [
    "tensor_df = pd.DataFrame.from_dict(split_data)\n",
    "tensor_df = tensor_df.drop([0])\n",
    "tensor_df[\"size_in_RAM_kb\"] = tensor_df[\"size_in_RAM_kb\"].map(float)/1000.0\n",
    "tensor_df.Name = f\"Tensor information - {model_name}\"\n",
    "tensor_df"
   ]
  },
  {
   "cell_type": "code",
   "execution_count": null,
   "metadata": {},
   "outputs": [],
   "source": [
    "tensor_df.Name"
   ]
  },
  {
   "cell_type": "code",
   "execution_count": null,
   "metadata": {},
   "outputs": [],
   "source": [
    "tensor_info_df_path = models_dir.joinpath(model_name, \"tensor_info_df\")\n",
    "tensor_info_df_path"
   ]
  },
  {
   "cell_type": "code",
   "execution_count": null,
   "metadata": {},
   "outputs": [],
   "source": [
    "tensor_df.to_pickle(tensor_info_df_path)"
   ]
  },
  {
   "attachments": {},
   "cell_type": "markdown",
   "metadata": {},
   "source": [
    "## Parse peak memory"
   ]
  },
  {
   "cell_type": "code",
   "execution_count": null,
   "metadata": {},
   "outputs": [],
   "source": [
    "peak_memory_line = peak_memory_lines[peak_mem_lines_dict[\"peak_memory\"]]\n",
    "peak_memory_line"
   ]
  },
  {
   "cell_type": "code",
   "execution_count": null,
   "metadata": {},
   "outputs": [],
   "source": [
    "peak_memory_kb = float(peak_memory_line.split(\":\")[-1].strip().split()[0].replace(\",\", \".\") )\n",
    "peak_memory_kb"
   ]
  },
  {
   "cell_type": "code",
   "execution_count": null,
   "metadata": {},
   "outputs": [],
   "source": [
    "model_stats[\"peak_memory_kb\"] = peak_memory_kb"
   ]
  },
  {
   "cell_type": "code",
   "execution_count": null,
   "metadata": {},
   "outputs": [],
   "source": [
    "model_stats"
   ]
  },
  {
   "attachments": {},
   "cell_type": "markdown",
   "metadata": {},
   "source": [
    "# Logging to wandb"
   ]
  },
  {
   "cell_type": "code",
   "execution_count": null,
   "metadata": {},
   "outputs": [],
   "source": [
    "# Generate run ids\n",
    "id = wandb.util.generate_id()\n",
    "\n",
    "PROJECT = model_name.split(\"_\")[0]\n",
    "\n",
    "run = wandb.init(\n",
    "        # Set the project where this run will be logged\n",
    "        project=PROJECT, \n",
    "        name = model_name,\n",
    "        id = id, \n",
    "        resume=\"allow\",\n",
    "        sync_tensorboard=True\n",
    "        )\n",
    "# Specify the configuration variables\n",
    "config = wandb.config\n",
    "config.architecture = model_name\n",
    "\n",
    "# # Create a table\n",
    "operator_top_by_time_table = wandb.Table(dataframe=df_operator_top_by_comp_time)\n",
    "# operator_top_by_time_artifact = wandb.Artifact(name=f'{model_name}_operator_top_by_time', type='dataframe')\n",
    "# operator_top_by_time_artifact.add(operator_top_by_time_table, \"Profiling operators - top by time\")\n",
    "# run.log_artifact(operator_top_by_time_artifact)\n",
    "\n",
    "summary_by_node_type_table = wandb.Table(dataframe=summary_by_node_type_df)\n",
    "# summary_by_node_type_artifact = wandb.Artifact(name=f'{model_name}_summary_by_node_type', type='dataframe')\n",
    "# summary_by_node_type_artifact.add(summary_by_node_type_table, \"Node type summary\")\n",
    "# run.log_artifact(summary_by_node_type_artifact)\n",
    "\n",
    "operator_run_order_table = wandb.Table(dataframe=df_operator_run_order)\n",
    "# operator_run_order_artifact = wandb.Artifact(name=f'{model_name}_operator_run_order', type='dataframe')\n",
    "# operator_run_order_artifact.add(operator_run_order_table, \"Run order\")\n",
    "# run.log_artifact(operator_run_order_artifact)\n",
    "\n",
    "\n",
    "run.log({\"Profiling operators - top by time\": operator_top_by_time_table})\n",
    "run.log({\"Node type summary\" : summary_by_node_type_table})\n",
    "run.log({\"Run order\" : operator_run_order_table})\n",
    "# run.log({\"Chart_table\": table})\n",
    "\n",
    "# table = wandb.Table(columns = [\"plotly_figure\"])\n",
    "\n",
    "# # Create path for Plotly figure\n",
    "# path_to_plotly_html = \"./plotly_figure.html\"\n",
    "\n",
    "# # Write Plotly figure to HTML\n",
    "# fig.write_html(path_to_plotly_html, auto_play = False) # Setting auto_play to False prevents animated Plotly charts from playing in the table automatically\n",
    "\n",
    "# # Add Plotly figure as HTML file into Table\n",
    "# table.add_data(wandb.Html(path_to_plotly_html))\n",
    "\n",
    "# # Log Table\n",
    "# run.log({\"Chart_table\": table})\n",
    "\n",
    "wandb.log(model_stats)\n",
    "\n",
    "# #wandb.log({\"Peak activations chart\": fig})\n",
    "\n",
    "wandb.finish()"
   ]
  },
  {
   "cell_type": "code",
   "execution_count": null,
   "metadata": {},
   "outputs": [],
   "source": []
  }
 ],
 "metadata": {
  "kernelspec": {
   "display_name": "tiny_cnn_6",
   "language": "python",
   "name": "python3"
  },
  "language_info": {
   "codemirror_mode": {
    "name": "ipython",
    "version": 3
   },
   "file_extension": ".py",
   "mimetype": "text/x-python",
   "name": "python",
   "nbconvert_exporter": "python",
   "pygments_lexer": "ipython3",
   "version": "3.10.6"
  },
  "orig_nbformat": 4,
  "vscode": {
   "interpreter": {
    "hash": "0faa6c31b20b8f809b81d6d7d22a84ccd9f354666f54133d1793fa4c65539801"
   }
  }
 },
 "nbformat": 4,
 "nbformat_minor": 2
}
