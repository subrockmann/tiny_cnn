{
 "cells": [
  {
   "attachments": {},
   "cell_type": "markdown",
   "metadata": {},
   "source": [
    "# Benchmarking on STM32-Cube.ai\n",
    "\n"
   ]
  },
  {
   "cell_type": "code",
   "execution_count": 479,
   "metadata": {},
   "outputs": [
    {
     "name": "stdout",
     "output_type": "stream",
     "text": [
      "The autoreload extension is already loaded. To reload it, use:\n",
      "  %reload_ext autoreload\n"
     ]
    }
   ],
   "source": [
    "import os, sys, math, datetime\n",
    "import pathlib\n",
    "from pathlib import Path\n",
    "\n",
    "import re\n",
    "from matplotlib import pyplot as plt\n",
    "#import plotly.express as px\n",
    "import pandas as pd\n",
    "import numpy as np\n",
    "\n",
    "# import workbench.config.config\n",
    "from workbench.config.config import initialize\n",
    "from workbench.utils.utils import create_filepaths\n",
    "from workbench.wandb import wandb_model_DB, get_model_DB_run_id_from_architecture, get_architecture_from_model_DB_run_id\n",
    "\n",
    "import wandb\n",
    "%load_ext autoreload"
   ]
  },
  {
   "cell_type": "code",
   "execution_count": 480,
   "metadata": {},
   "outputs": [],
   "source": [
    "# Configure pandas to show all columns & rows\n",
    "pd.set_option('display.max_columns', None)\n",
    "#pd.set_option('display.max_rows', None)\n",
    "pd.set_option('display.max_colwidth', None)"
   ]
  },
  {
   "cell_type": "code",
   "execution_count": 481,
   "metadata": {},
   "outputs": [],
   "source": [
    "models_dir = initialize()"
   ]
  },
  {
   "cell_type": "code",
   "execution_count": 482,
   "metadata": {
    "tags": [
     "parameters"
    ]
   },
   "outputs": [
    {
     "name": "stdout",
     "output_type": "stream",
     "text": [
      "c:\\tiny_mlc\\tiny_cnn\\models\n"
     ]
    }
   ],
   "source": [
    "automated = False\n",
    "\n",
    "global model_name\n",
    "\n",
    "#model_name = \"mobilenetv3smallNSQ_0.25_96_c3_o2_se4l128.MV3\"\n",
    "model_name = \"mobilenext_0.25_96_c3_o2_i1\"\n",
    "\n",
    "\n",
    "\n",
    "models_path, models_summary_path, models_image_path, models_layer_df_path, models_tf_path, models_tflite_path, models_tflite_opt_path = create_filepaths(model_name)"
   ]
  },
  {
   "cell_type": "code",
   "execution_count": 483,
   "metadata": {},
   "outputs": [
    {
     "data": {
      "text/plain": [
       "WindowsPath('c:/tiny_mlc/tiny_cnn/models/mobilenext_0.25_96_c3_o2_i1/mobilenext_0.25_96_c3_o2_i1_stm32_benchmark')"
      ]
     },
     "execution_count": 483,
     "metadata": {},
     "output_type": "execute_result"
    }
   ],
   "source": [
    "models_stm32_benchmark_path = models_dir.joinpath(model_name, f\"{model_name}_stm32_benchmark\")\n",
    "models_stm32_benchmark_path"
   ]
  },
  {
   "cell_type": "code",
   "execution_count": 484,
   "metadata": {},
   "outputs": [],
   "source": [
    "#! C:/Users/Susanne/STM32Cube/Repository/Packs/STMicroelectronics/X-CUBE-AI/8.0.0/Utilities/windows/stm32tflm $models_tflite_path"
   ]
  },
  {
   "cell_type": "code",
   "execution_count": 485,
   "metadata": {},
   "outputs": [],
   "source": [
    "#! C:/Users/Susanne/STM32Cube/Repository/Packs/STMicroelectronics/X-CUBE-AI/8.0.0/Utilities/windows/stm32tfl.exe"
   ]
  },
  {
   "cell_type": "code",
   "execution_count": 486,
   "metadata": {},
   "outputs": [],
   "source": [
    "#! C:/Users/Susanne/STM32Cube/Repository/Packs/STMicroelectronics/X-CUBE-AI/8.0.0/Utilities/windows/stm32ai "
   ]
  },
  {
   "cell_type": "code",
   "execution_count": 487,
   "metadata": {},
   "outputs": [],
   "source": [
    "#! C:/Users/Susanne/STM32Cube/Repository/Packs/STMicroelectronics/X-CUBE-AI/8.0.0/Utilities/windows/stm32ai validate --name network -m $models_tflite_path --type tflite --compression none --verbosity 1 --workspace C:\\Users\\Susanne\\AppData\\Local\\Temp\\mxAI_workspace1067734059012002168110269332871471 --output $models_stm32_benchmark_path --allocate-inputs --allocate-outputs --mode stm32 --desc 115200 --with-report"
   ]
  },
  {
   "attachments": {},
   "cell_type": "markdown",
   "metadata": {},
   "source": [
    "# Helper functions"
   ]
  },
  {
   "cell_type": "code",
   "execution_count": 488,
   "metadata": {},
   "outputs": [],
   "source": [
    "def clean_model_summary(filepath): \n",
    "\n",
    "    if not filepath.is_file():\n",
    "        print(f\"This file does not exist: {filepath}\")\n",
    "        return None\n",
    "\n",
    "    else:\n",
    "        clean_lines = []\n",
    "        # Parse the MLTK model summary to grab important metrics   \n",
    "        with open(filepath, \"r\", encoding=\"latin-1\") as f:\n",
    "            lines = f.readlines() # list containing lines of file\n",
    "            for line in lines:\n",
    "                line = line.strip() # remove leading/trailing white spaces\n",
    "                if len(line)> 0:\n",
    "                    \n",
    "                    clean_lines.append(line)\n",
    "                else:\n",
    "                    pass\n",
    "            #columns = [] # To store column names\n",
    "        return clean_lines"
   ]
  },
  {
   "cell_type": "code",
   "execution_count": 489,
   "metadata": {},
   "outputs": [],
   "source": [
    "def clean_column_names(df):\n",
    "    cols = df.columns\n",
    "\n",
    "    clean_cols = []\n",
    "    for col in cols:\n",
    "        col = col.strip()\n",
    "        col = col.replace(\"[\" , \"\")\n",
    "        col = col.replace(\"]\" , \"\")   \n",
    "        clean_cols.append(col)\n",
    "        \n",
    "    return clean_cols"
   ]
  },
  {
   "cell_type": "code",
   "execution_count": 490,
   "metadata": {},
   "outputs": [],
   "source": [
    "def string_percent_to_float(x):\n",
    "    x = str(x).strip(\"%\")\n",
    "    return float(x)"
   ]
  },
  {
   "cell_type": "code",
   "execution_count": 491,
   "metadata": {},
   "outputs": [],
   "source": [
    "def remove_tabs(text):\n",
    "    \"\"\"removes tabs from a list of strings\n",
    "\n",
    "    Args:\n",
    "        text (list(str)): list of strings that contains tabs\n",
    "\n",
    "    Returns:\n",
    "        list(str): list of strings without tabs\n",
    "    \"\"\"\n",
    "    split_text= []\n",
    "    for l in text:\n",
    "        split_text.append((l.split(\"\\t\")))\n",
    "        \n",
    "    return split_text"
   ]
  },
  {
   "attachments": {},
   "cell_type": "markdown",
   "metadata": {},
   "source": [
    "# Parsing the model file"
   ]
  },
  {
   "cell_type": "code",
   "execution_count": 492,
   "metadata": {},
   "outputs": [
    {
     "data": {
      "text/plain": [
       "WindowsPath('c:/tiny_mlc/tiny_cnn/models/mobilenext_0.25_96_c3_o2_i1/network_output/network_validate_report_INT8.txt')"
      ]
     },
     "execution_count": 492,
     "metadata": {},
     "output_type": "execute_result"
    }
   ],
   "source": [
    "models_stm32_benchmark_file = models_dir.joinpath(model_name, \"network_output\", \"network_validate_report.txt\")\n",
    "models_stm32_benchmark_file\n",
    "models_stm32_benchmark_file_INT8 = models_dir.joinpath(model_name, \"network_output\", \"network_validate_report_INT8.txt\")\n",
    "models_stm32_benchmark_file_INT8"
   ]
  },
  {
   "cell_type": "code",
   "execution_count": 493,
   "metadata": {},
   "outputs": [],
   "source": [
    "def clean_benchmark_file(filepath): \n",
    "\n",
    "    if not filepath.is_file():\n",
    "        print(f\"This file does not exist: {filepath}\")\n",
    "        return None\n",
    "\n",
    "    else:\n",
    "        clean_lines = []\n",
    "        # Parse the MLTK model summary to grab important metrics   \n",
    "        with open(filepath, \"r\", encoding=\"latin-1\") as f:\n",
    "            lines = f.readlines() # list containing lines of file\n",
    "            for line in lines:\n",
    "                #line = line.strip() # remove leading/trailing white spaces\n",
    "                if len(line)> 0:\n",
    "                    \n",
    "                    clean_lines.append(line)\n",
    "                else:\n",
    "                    pass\n",
    "            #columns = [] # To store column names\n",
    "        return clean_lines"
   ]
  },
  {
   "cell_type": "code",
   "execution_count": 494,
   "metadata": {},
   "outputs": [],
   "source": [
    "#! explorer $models_path"
   ]
  },
  {
   "cell_type": "code",
   "execution_count": 495,
   "metadata": {},
   "outputs": [],
   "source": [
    "! code $models_stm32_benchmark_file"
   ]
  },
  {
   "cell_type": "code",
   "execution_count": 496,
   "metadata": {},
   "outputs": [],
   "source": [
    "! code $models_stm32_benchmark_file_INT8"
   ]
  },
  {
   "cell_type": "code",
   "execution_count": 497,
   "metadata": {},
   "outputs": [],
   "source": [
    "clean_lines = clean_benchmark_file(models_stm32_benchmark_file_INT8)\n",
    "#clean_lines"
   ]
  },
  {
   "cell_type": "code",
   "execution_count": 498,
   "metadata": {},
   "outputs": [],
   "source": [
    "def get_index_of_benchmark_lines(lines):\n",
    "    model_lines_dict = {}\n",
    "    for i, line in enumerate(lines):\n",
    "        if \"model name            :\" in line:\n",
    "            model_lines_dict[\"model_name\"] = i\n",
    "        elif \"m_id   layer (type,original)\" in line:\n",
    "            model_lines_dict[\"m_id\"] = i\n",
    "\n",
    "        elif \"model/c-model:\" in line:\n",
    "            model_lines_dict[\"model/c-model\"]=i\n",
    "            \n",
    "        elif \"activations size\" in line:\n",
    "            model_lines_dict[\"activations_size\"] = i\n",
    "        elif \"weights size\" in line:\n",
    "            model_lines_dict[\"weights_size\"] = i\n",
    "        elif \"macc                  :\" in line:\n",
    "            model_lines_dict[\"macc\"] = i\n",
    "        elif \"duration        :\" in line:\n",
    "            model_lines_dict[\"duration\"] = i\n",
    "        elif \"cycles/MACC     :\" in line:\n",
    "            model_lines_dict[\"cycles/MACC\"] = i\n",
    "        elif \"counter         :\" in line:\n",
    "            model_lines_dict[\"counter\"] = i\n",
    "\n",
    "        elif \"C-Arrays\" in line:\n",
    "            model_lines_dict[\"c-arrays\"] = i\n",
    "        elif \"C-Layers\" in line:\n",
    "            model_lines_dict[\"c-layers\"] = i\n",
    "        elif \"Inference time per node\" in line:\n",
    "            model_lines_dict[\"inference_times\"] = i\n",
    "\n",
    "        elif \"Statistic per tensor\" in line:\n",
    "            model_lines_dict[\"statistics\"] = i\n",
    "        elif \"Number of operations per c-layer\" in line:\n",
    "            model_lines_dict[\"number_of_operations\"] = i\n",
    "        elif \"Number of operation types\" in line:\n",
    "            model_lines_dict[\"number_of_operation_types\"] = i\n",
    "        elif \"Complexity report\" in line:\n",
    "            model_lines_dict[\"complexity_report\"] = i\n",
    "        elif \"Evaluation report \" in line:\n",
    "            model_lines_dict[\"evaluation_report\"] = i\n",
    "    #print(model_lines_dict)\n",
    "    return model_lines_dict\n"
   ]
  },
  {
   "cell_type": "code",
   "execution_count": 499,
   "metadata": {},
   "outputs": [
    {
     "data": {
      "text/plain": [
       "{'m_id': 33,\n",
       " 'model/c-model': 267,\n",
       " 'model_name': 273,\n",
       " 'activations_size': 277,\n",
       " 'weights_size': 278,\n",
       " 'macc': 279,\n",
       " 'c-arrays': 283,\n",
       " 'c-layers': 676,\n",
       " 'duration': 1358,\n",
       " 'cycles/MACC': 1360,\n",
       " 'counter': 1361,\n",
       " 'inference_times': 1366,\n",
       " 'statistics': 1500,\n",
       " 'number_of_operations': 1532,\n",
       " 'number_of_operation_types': 1665,\n",
       " 'complexity_report': 1675,\n",
       " 'evaluation_report': 1772}"
      ]
     },
     "execution_count": 499,
     "metadata": {},
     "output_type": "execute_result"
    }
   ],
   "source": [
    "model_lines_dict = get_index_of_benchmark_lines(clean_lines)\n",
    "model_lines_dict"
   ]
  },
  {
   "cell_type": "code",
   "execution_count": 500,
   "metadata": {},
   "outputs": [
    {
     "data": {
      "text/plain": [
       "'mobilenext_0_25_96_c3_o2_i1_int8'"
      ]
     },
     "execution_count": 500,
     "metadata": {},
     "output_type": "execute_result"
    }
   ],
   "source": [
    "# model_name\n",
    "name_line = clean_lines[model_lines_dict[\"model_name\"]]\n",
    "name = name_line.split(\":\")[1].split()[0].strip()\n",
    "name"
   ]
  },
  {
   "cell_type": "code",
   "execution_count": 501,
   "metadata": {},
   "outputs": [],
   "source": [
    "suffix=\"\"\n",
    "inference_stats = {}\n"
   ]
  },
  {
   "cell_type": "code",
   "execution_count": 502,
   "metadata": {},
   "outputs": [],
   "source": [
    "if \"int8\" in name:\n",
    "    suffix = \"_INT8\""
   ]
  },
  {
   "cell_type": "code",
   "execution_count": 503,
   "metadata": {},
   "outputs": [
    {
     "data": {
      "text/plain": [
       "224888"
      ]
     },
     "execution_count": 503,
     "metadata": {},
     "output_type": "execute_result"
    }
   ],
   "source": [
    "# weights_size\n",
    "activations_line = clean_lines[model_lines_dict[\"activations_size\"]]\n",
    "activations = int(activations_line.split(\":\")[1].split()[0].strip())\n",
    "inference_stats[f\"stm32_activations_b{suffix}\"]= activations\n",
    "activations"
   ]
  },
  {
   "cell_type": "code",
   "execution_count": 504,
   "metadata": {},
   "outputs": [
    {
     "data": {
      "text/plain": [
       "159224"
      ]
     },
     "execution_count": 504,
     "metadata": {},
     "output_type": "execute_result"
    }
   ],
   "source": [
    "# weights_size\n",
    "weights_line = clean_lines[model_lines_dict[\"weights_size\"]]\n",
    "weights = int(weights_line.split(\":\")[1].split()[0].strip())\n",
    "inference_stats[f\"stm32_weights_b{suffix}\"]= weights\n",
    "weights"
   ]
  },
  {
   "cell_type": "code",
   "execution_count": 505,
   "metadata": {},
   "outputs": [
    {
     "data": {
      "text/plain": [
       "17002419"
      ]
     },
     "execution_count": 505,
     "metadata": {},
     "output_type": "execute_result"
    }
   ],
   "source": [
    "# MACC\n",
    "macc_line = clean_lines[model_lines_dict[\"macc\"]]\n",
    "macc = int(macc_line.split(\":\")[1].strip())\n",
    "inference_stats[f\"stm32_macc_b{suffix}\"]= macc\n",
    "macc"
   ]
  },
  {
   "cell_type": "code",
   "execution_count": 506,
   "metadata": {},
   "outputs": [],
   "source": [
    "# cycles/MACC\n",
    "\n",
    "try:\n",
    "    cycles_line = clean_lines[model_lines_dict[\"cycles/MACC\"]]\n",
    "    cycles_line = cycles_line.split(\":\")[1].strip()\n",
    "    cycles = float(cycles_line)\n",
    "    inference_stats[f\"stm32_cycles_per_macc_b{suffix}\"]= cycles\n",
    "    cycles\n",
    "except:\n",
    "    print(\"cylces/MACC not reported\")"
   ]
  },
  {
   "cell_type": "code",
   "execution_count": 507,
   "metadata": {},
   "outputs": [
    {
     "data": {
      "text/plain": [
       "274.197"
      ]
     },
     "execution_count": 507,
     "metadata": {},
     "output_type": "execute_result"
    }
   ],
   "source": [
    "# inference time\n",
    "duration_line = clean_lines[model_lines_dict[\"duration\"]]\n",
    "duration_line = duration_line.split(\":\")[1].strip().split()[0].replace(\"ms\", \"\")# .map(float)\n",
    "duration = float(duration_line)\n",
    "inference_stats[f\"stm32_inference_ms{suffix}\"]= duration\n",
    "duration"
   ]
  },
  {
   "cell_type": "code",
   "execution_count": 508,
   "metadata": {},
   "outputs": [
    {
     "data": {
      "text/plain": [
       "{'stm32_activations_b_INT8': 224888,\n",
       " 'stm32_weights_b_INT8': 159224,\n",
       " 'stm32_macc_b_INT8': 17002419,\n",
       " 'stm32_cycles_per_macc_b_INT8': 3.48,\n",
       " 'stm32_inference_ms_INT8': 274.197}"
      ]
     },
     "execution_count": 508,
     "metadata": {},
     "output_type": "execute_result"
    }
   ],
   "source": [
    "inference_stats"
   ]
  },
  {
   "cell_type": "code",
   "execution_count": 509,
   "metadata": {},
   "outputs": [
    {
     "data": {
      "text/plain": [
       "['m_id   layer (type,original)                        oshape                  param/size             macc               connected to   | c_size         c_macc              c_type                               \\n',\n",
       " '------ -------------------------------------------- ----------------------- --------------- ----------- -------------------------- --- -------------- ------------------- ------------------------------------ \\n',\n",
       " '0      serving_default_input_10 (Input, )           [b:1,h:96,w:96,c:3]                                                              | +40(+100.0%)   +248,835(+100.0%)   pad_oi8/conv2d_oi8[0, 1]             \\n',\n",
       " '       conv2d_0 (Conv2D, DEPTHWISE_CONV_2D)         [b:1,h:96,w:96,c:3]     30/39               248,835   serving_default_input_10   | -39(-100.0%)   -248,835(-100.0%)   \\n',\n",
       " '       nl_0_nl (Nonlinearity, DEPTHWISE_CONV_2D)    [b:1,h:96,w:96,c:3]                          27,648                   conv2d_0   |                -27,648(-100.0%)    \\n',\n",
       " '------ -------------------------------------------- ----------------------- --------------- ----------- -------------------------- --- -------------- ------------------- ------------------------------------ \\n',\n",
       " '1      conv2d_1 (Conv2D, CONV_2D)                   [b:1,h:96,w:96,c:8]     32/56               221,192                    nl_0_nl   |                                    conv2d_oi8[2]                        \\n',\n",
       " '------ -------------------------------------------- ----------------------- --------------- ----------- -------------------------- --- -------------- ------------------- ------------------------------------ \\n',\n",
       " '2      conv2d_2 (Conv2D, CONV_2D)                   [b:1,h:96,w:96,c:24]    216/288           1,769,496                   conv2d_1   |                                    conv2d_oi8[3]                        \\n',\n",
       " '       nl_2_nl (Nonlinearity, CONV_2D)              [b:1,h:96,w:96,c:24]                        221,184                   conv2d_2   |                -221,184(-100.0%)   \\n',\n",
       " '------ -------------------------------------------- ----------------------- --------------- ----------- -------------------------- --- -------------- ------------------- ------------------------------------ \\n',\n",
       " '3      conv2d_3 (Conv2D, DEPTHWISE_CONV_2D)         [b:1,h:47,w:47,c:24]    240/312             477,168                    nl_2_nl   |                                    conv2d_oi8[4]                        \\n',\n",
       " '------ -------------------------------------------- ----------------------- --------------- ----------- -------------------------- --- -------------- ------------------- ------------------------------------ \\n',\n",
       " '4      conv2d_4 (Conv2D, DEPTHWISE_CONV_2D)         [b:1,h:47,w:47,c:24]    240/312             477,168                   conv2d_3   |                                    pad_oi8/conv2d_oi8[5, 6]             \\n',\n",
       " '       nl_4_nl (Nonlinearity, DEPTHWISE_CONV_2D)    [b:1,h:47,w:47,c:24]                         53,016                   conv2d_4   |                -53,016(-100.0%)    \\n',\n",
       " '------ -------------------------------------------- ----------------------- --------------- ----------- -------------------------- --- -------------- ------------------- ------------------------------------ \\n',\n",
       " '5      conv2d_5 (Conv2D, CONV_2D)                   [b:1,h:47,w:47,c:8]     200/224             424,136                    nl_4_nl   |                                    conv2d_oi8[7]                        \\n',\n",
       " '------ -------------------------------------------- ----------------------- --------------- ----------- -------------------------- --- -------------- ------------------- ------------------------------------ \\n',\n",
       " '6      conv2d_6 (Conv2D, CONV_2D)                   [b:1,h:47,w:47,c:40]    360/480             706,920                   conv2d_5   |                                    conv2d_oi8[8]                        \\n',\n",
       " '       nl_6_nl (Nonlinearity, CONV_2D)              [b:1,h:47,w:47,c:40]                         88,360                   conv2d_6   |                -88,360(-100.0%)    \\n',\n",
       " '------ -------------------------------------------- ----------------------- --------------- ----------- -------------------------- --- -------------- ------------------- ------------------------------------ \\n',\n",
       " '7      conv2d_7 (Conv2D, DEPTHWISE_CONV_2D)         [b:1,h:47,w:47,c:40]    400/520             795,280                    nl_6_nl   |                                    pad_oi8/conv2d_oi8[9, 10]            \\n',\n",
       " '------ -------------------------------------------- ----------------------- --------------- ----------- -------------------------- --- -------------- ------------------- ------------------------------------ \\n',\n",
       " '8      conv2d_8 (Conv2D, DEPTHWISE_CONV_2D)         [b:1,h:47,w:47,c:40]    400/520             795,280                   conv2d_7   |                                    pad_oi8/conv2d_oi8[11, 12]           \\n',\n",
       " '       nl_8_nl (Nonlinearity, DEPTHWISE_CONV_2D)    [b:1,h:47,w:47,c:40]                         88,360                   conv2d_8   |                -88,360(-100.0%)    \\n',\n",
       " '------ -------------------------------------------- ----------------------- --------------- ----------- -------------------------- --- -------------- ------------------- ------------------------------------ \\n',\n",
       " '9      conv2d_9 (Conv2D, CONV_2D)                   [b:1,h:47,w:47,c:8]     328/352             706,888                    nl_8_nl   |                                    conv2d_oi8[13]                       \\n',\n",
       " '------ -------------------------------------------- ----------------------- --------------- ----------- -------------------------- --- -------------- ------------------- ------------------------------------ \\n',\n",
       " '10     conv2d_10 (Conv2D, CONV_2D)                  [b:1,h:47,w:47,c:48]    432/576             848,304                   conv2d_9   |                                    conv2d_oi8[14]                       \\n',\n",
       " '       nl_10_nl (Nonlinearity, CONV_2D)             [b:1,h:47,w:47,c:48]                        106,032                  conv2d_10   |                -106,032(-100.0%)   \\n',\n",
       " '------ -------------------------------------------- ----------------------- --------------- ----------- -------------------------- --- -------------- ------------------- ------------------------------------ \\n',\n",
       " '11     conv2d_11 (Conv2D, DEPTHWISE_CONV_2D)        [b:1,h:23,w:23,c:48]    480/624             228,576                   nl_10_nl   |                                    conv2d_oi8[15]                       \\n',\n",
       " '------ -------------------------------------------- ----------------------- --------------- ----------- -------------------------- --- -------------- ------------------- ------------------------------------ \\n',\n",
       " '12     conv2d_12 (Conv2D, DEPTHWISE_CONV_2D)        [b:1,h:23,w:23,c:48]    480/624             228,576                  conv2d_11   |                                    pad_oi8/conv2d_oi8[16, 17]           \\n',\n",
       " '       nl_12_nl (Nonlinearity, DEPTHWISE_CONV_2D)   [b:1,h:23,w:23,c:48]                         25,392                  conv2d_12   |                -25,392(-100.0%)    \\n',\n",
       " '------ -------------------------------------------- ----------------------- --------------- ----------- -------------------------- --- -------------- ------------------- ------------------------------------ \\n',\n",
       " '13     conv2d_13 (Conv2D, CONV_2D)                  [b:1,h:23,w:23,c:8]     392/416             203,144                   nl_12_nl   |                                    conv2d_oi8[18]                       \\n',\n",
       " '------ -------------------------------------------- ----------------------- --------------- ----------- -------------------------- --- -------------- ------------------- ------------------------------------ \\n',\n",
       " '14     conv2d_14 (Conv2D, CONV_2D)                  [b:1,h:23,w:23,c:48]    432/576             203,184                  conv2d_13   |                +50,784(+25.0%)     conv2d_oi8[19]                       \\n',\n",
       " '       nl_14_nl (Nonlinearity, CONV_2D)             [b:1,h:23,w:23,c:48]                         25,392                  conv2d_14   |                -25,392(-100.0%)    \\n',\n",
       " '------ -------------------------------------------- ----------------------- --------------- ----------- -------------------------- --- -------------- ------------------- ------------------------------------ \\n',\n",
       " '15     conv2d_15 (Conv2D, DEPTHWISE_CONV_2D)        [b:1,h:23,w:23,c:48]    480/624             228,576                   nl_14_nl   |                                    pad_oi8/conv2d_oi8[20, 21]           \\n',\n",
       " '------ -------------------------------------------- ----------------------- --------------- ----------- -------------------------- --- -------------- ------------------- ------------------------------------ \\n',\n",
       " '16     eltwise_16 (Eltwise, ADD)                    [b:1,h:23,w:23,c:48]                         25,392                  conv2d_15   |                                    eltwise_integer_oi8[22]              \\n',\n",
       " '                                                                                                                         conv2d_11   | \\n',\n",
       " '------ -------------------------------------------- ----------------------- --------------- ----------- -------------------------- --- -------------- ------------------- ------------------------------------ \\n',\n",
       " '17     conv2d_17 (Conv2D, DEPTHWISE_CONV_2D)        [b:1,h:23,w:23,c:48]    480/624             228,576                 eltwise_16   |                                    pad_oi8/conv2d_oi8[23, 24]           \\n',\n",
       " '       nl_17_nl (Nonlinearity, DEPTHWISE_CONV_2D)   [b:1,h:23,w:23,c:48]                         25,392                  conv2d_17   |                -25,392(-100.0%)    \\n',\n",
       " '------ -------------------------------------------- ----------------------- --------------- ----------- -------------------------- --- -------------- ------------------- ------------------------------------ \\n',\n",
       " '18     conv2d_18 (Conv2D, CONV_2D)                  [b:1,h:23,w:23,c:8]     392/416             203,144                   nl_17_nl   |                                    conv2d_oi8[25]                       \\n',\n",
       " '------ -------------------------------------------- ----------------------- --------------- ----------- -------------------------- --- -------------- ------------------- ------------------------------------ \\n',\n",
       " '19     conv2d_19 (Conv2D, CONV_2D)                  [b:1,h:23,w:23,c:48]    432/576             203,184                  conv2d_18   |                +50,784(+25.0%)     conv2d_oi8[26]                       \\n',\n",
       " '       nl_19_nl (Nonlinearity, CONV_2D)             [b:1,h:23,w:23,c:48]                         25,392                  conv2d_19   |                -25,392(-100.0%)    \\n',\n",
       " '------ -------------------------------------------- ----------------------- --------------- ----------- -------------------------- --- -------------- ------------------- ------------------------------------ \\n',\n",
       " '20     conv2d_20 (Conv2D, DEPTHWISE_CONV_2D)        [b:1,h:23,w:23,c:48]    480/624             228,576                   nl_19_nl   |                                    pad_oi8/conv2d_oi8[27, 28]           \\n',\n",
       " '------ -------------------------------------------- ----------------------- --------------- ----------- -------------------------- --- -------------- ------------------- ------------------------------------ \\n',\n",
       " '21     eltwise_21 (Eltwise, ADD)                    [b:1,h:23,w:23,c:48]                         25,392                  conv2d_20   |                                    eltwise_integer_oi8[29]              \\n',\n",
       " '                                                                                                                        eltwise_16   | \\n',\n",
       " '------ -------------------------------------------- ----------------------- --------------- ----------- -------------------------- --- -------------- ------------------- ------------------------------------ \\n',\n",
       " '22     conv2d_22 (Conv2D, DEPTHWISE_CONV_2D)        [b:1,h:23,w:23,c:48]    480/624             228,576                 eltwise_21   |                                    pad_oi8/conv2d_oi8[30, 31]           \\n',\n",
       " '       nl_22_nl (Nonlinearity, DEPTHWISE_CONV_2D)   [b:1,h:23,w:23,c:48]                         25,392                  conv2d_22   |                -25,392(-100.0%)    \\n',\n",
       " '------ -------------------------------------------- ----------------------- --------------- ----------- -------------------------- --- -------------- ------------------- ------------------------------------ \\n',\n",
       " '23     conv2d_23 (Conv2D, CONV_2D)                  [b:1,h:23,w:23,c:8]     392/416             203,144                   nl_22_nl   |                                    conv2d_oi8[32]                       \\n',\n",
       " '------ -------------------------------------------- ----------------------- --------------- ----------- -------------------------- --- -------------- ------------------- ------------------------------------ \\n',\n",
       " '24     conv2d_24 (Conv2D, CONV_2D)                  [b:1,h:23,w:23,c:72]    648/864             304,776                  conv2d_23   |                +76,176(+25.0%)     conv2d_oi8[33]                       \\n',\n",
       " '       nl_24_nl (Nonlinearity, CONV_2D)             [b:1,h:23,w:23,c:72]                         38,088                  conv2d_24   |                -38,088(-100.0%)    \\n',\n",
       " '------ -------------------------------------------- ----------------------- --------------- ----------- -------------------------- --- -------------- ------------------- ------------------------------------ \\n',\n",
       " '25     conv2d_25 (Conv2D, DEPTHWISE_CONV_2D)        [b:1,h:11,w:11,c:72]    720/936              78,480                   nl_24_nl   |                                    conv2d_oi8[34]                       \\n',\n",
       " '------ -------------------------------------------- ----------------------- --------------- ----------- -------------------------- --- -------------- ------------------- ------------------------------------ \\n',\n",
       " '26     conv2d_26 (Conv2D, DEPTHWISE_CONV_2D)        [b:1,h:11,w:11,c:72]    720/936              78,480                  conv2d_25   |                +17,424(+22.2%)     pad_oi8/conv2d_oi8[35, 36]           \\n',\n",
       " '       nl_26_nl (Nonlinearity, DEPTHWISE_CONV_2D)   [b:1,h:11,w:11,c:72]                          8,712                  conv2d_26   |                -8,712(-100.0%)     \\n',\n",
       " '------ -------------------------------------------- ----------------------- --------------- ----------- -------------------------- --- -------------- ------------------- ------------------------------------ \\n',\n",
       " '27     conv2d_27 (Conv2D, CONV_2D)                  [b:1,h:11,w:11,c:16]    1,168/1,216         139,408                   nl_26_nl   |                                    conv2d_oi8[37]                       \\n',\n",
       " '------ -------------------------------------------- ----------------------- --------------- ----------- -------------------------- --- -------------- ------------------- ------------------------------------ \\n',\n",
       " '28     conv2d_28 (Conv2D, CONV_2D)                  [b:1,h:11,w:11,c:72]    1,224/1,440         139,464                  conv2d_27   |                +17,424(+12.5%)     conv2d_oi8[38]                       \\n',\n",
       " '       nl_28_nl (Nonlinearity, CONV_2D)             [b:1,h:11,w:11,c:72]                          8,712                  conv2d_28   |                -8,712(-100.0%)     \\n',\n",
       " '------ -------------------------------------------- ----------------------- --------------- ----------- -------------------------- --- -------------- ------------------- ------------------------------------ \\n',\n",
       " '29     conv2d_29 (Conv2D, DEPTHWISE_CONV_2D)        [b:1,h:11,w:11,c:72]    720/936              78,480                   nl_28_nl   |                                    pad_oi8/conv2d_oi8[39, 40]           \\n',\n",
       " '------ -------------------------------------------- ----------------------- --------------- ----------- -------------------------- --- -------------- ------------------- ------------------------------------ \\n',\n",
       " '30     eltwise_30 (Eltwise, ADD)                    [b:1,h:11,w:11,c:72]                          8,712                  conv2d_29   |                                    eltwise_integer_oi8[41]              \\n',\n",
       " '                                                                                                                         conv2d_25   | \\n',\n",
       " '------ -------------------------------------------- ----------------------- --------------- ----------- -------------------------- --- -------------- ------------------- ------------------------------------ \\n',\n",
       " '31     conv2d_31 (Conv2D, DEPTHWISE_CONV_2D)        [b:1,h:11,w:11,c:72]    720/936              78,480                 eltwise_30   |                +17,424(+22.2%)     pad_oi8/conv2d_oi8[42, 43]           \\n',\n",
       " '       nl_31_nl (Nonlinearity, DEPTHWISE_CONV_2D)   [b:1,h:11,w:11,c:72]                          8,712                  conv2d_31   |                -8,712(-100.0%)     \\n',\n",
       " '------ -------------------------------------------- ----------------------- --------------- ----------- -------------------------- --- -------------- ------------------- ------------------------------------ \\n',\n",
       " '32     conv2d_32 (Conv2D, CONV_2D)                  [b:1,h:11,w:11,c:16]    1,168/1,216         139,408                   nl_31_nl   |                                    conv2d_oi8[44]                       \\n',\n",
       " '------ -------------------------------------------- ----------------------- --------------- ----------- -------------------------- --- -------------- ------------------- ------------------------------------ \\n',\n",
       " '33     conv2d_33 (Conv2D, CONV_2D)                  [b:1,h:11,w:11,c:72]    1,224/1,440         139,464                  conv2d_32   |                +17,424(+12.5%)     conv2d_oi8[45]                       \\n',\n",
       " '       nl_33_nl (Nonlinearity, CONV_2D)             [b:1,h:11,w:11,c:72]                          8,712                  conv2d_33   |                -8,712(-100.0%)     \\n',\n",
       " '------ -------------------------------------------- ----------------------- --------------- ----------- -------------------------- --- -------------- ------------------- ------------------------------------ \\n',\n",
       " '34     conv2d_34 (Conv2D, DEPTHWISE_CONV_2D)        [b:1,h:11,w:11,c:72]    720/936              78,480                   nl_33_nl   |                                    pad_oi8/conv2d_oi8[46, 47]           \\n',\n",
       " '------ -------------------------------------------- ----------------------- --------------- ----------- -------------------------- --- -------------- ------------------- ------------------------------------ \\n',\n",
       " '35     eltwise_35 (Eltwise, ADD)                    [b:1,h:11,w:11,c:72]                          8,712                  conv2d_34   |                                    eltwise_integer_oi8[48]              \\n',\n",
       " '                                                                                                                        eltwise_30   | \\n',\n",
       " '------ -------------------------------------------- ----------------------- --------------- ----------- -------------------------- --- -------------- ------------------- ------------------------------------ \\n',\n",
       " '36     conv2d_36 (Conv2D, DEPTHWISE_CONV_2D)        [b:1,h:11,w:11,c:72]    720/936              78,480                 eltwise_35   |                +17,424(+22.2%)     pad_oi8/conv2d_oi8[49, 50]           \\n',\n",
       " '       nl_36_nl (Nonlinearity, DEPTHWISE_CONV_2D)   [b:1,h:11,w:11,c:72]                          8,712                  conv2d_36   |                -8,712(-100.0%)     \\n',\n",
       " '------ -------------------------------------------- ----------------------- --------------- ----------- -------------------------- --- -------------- ------------------- ------------------------------------ \\n',\n",
       " '37     conv2d_37 (Conv2D, CONV_2D)                  [b:1,h:11,w:11,c:16]    1,168/1,216         139,408                   nl_36_nl   |                                    conv2d_oi8[51]                       \\n',\n",
       " '------ -------------------------------------------- ----------------------- --------------- ----------- -------------------------- --- -------------- ------------------- ------------------------------------ \\n',\n",
       " '38     conv2d_38 (Conv2D, CONV_2D)                  [b:1,h:11,w:11,c:96]    1,632/1,920         185,952                  conv2d_37   |                +23,232(+12.5%)     conv2d_oi8[52]                       \\n',\n",
       " '       nl_38_nl (Nonlinearity, CONV_2D)             [b:1,h:11,w:11,c:96]                         11,616                  conv2d_38   |                -11,616(-100.0%)    \\n',\n",
       " '------ -------------------------------------------- ----------------------- --------------- ----------- -------------------------- --- -------------- ------------------- ------------------------------------ \\n',\n",
       " '39     conv2d_39 (Conv2D, DEPTHWISE_CONV_2D)        [b:1,h:11,w:11,c:96]    960/1,248           104,640                   nl_38_nl   |                                    pad_oi8/conv2d_oi8[53, 54]           \\n',\n",
       " '------ -------------------------------------------- ----------------------- --------------- ----------- -------------------------- --- -------------- ------------------- ------------------------------------ \\n',\n",
       " '40     conv2d_40 (Conv2D, DEPTHWISE_CONV_2D)        [b:1,h:11,w:11,c:96]    960/1,248           104,640                  conv2d_39   |                +23,232(+22.2%)     pad_oi8/conv2d_oi8[55, 56]           \\n',\n",
       " '       nl_40_nl (Nonlinearity, DEPTHWISE_CONV_2D)   [b:1,h:11,w:11,c:96]                         11,616                  conv2d_40   |                -11,616(-100.0%)    \\n',\n",
       " '------ -------------------------------------------- ----------------------- --------------- ----------- -------------------------- --- -------------- ------------------- ------------------------------------ \\n',\n",
       " '41     conv2d_41 (Conv2D, CONV_2D)                  [b:1,h:11,w:11,c:16]    1,552/1,600         185,872                   nl_40_nl   |                                    conv2d_oi8[57]                       \\n',\n",
       " '------ -------------------------------------------- ----------------------- --------------- ----------- -------------------------- --- -------------- ------------------- ------------------------------------ \\n',\n",
       " '42     conv2d_42 (Conv2D, CONV_2D)                  [b:1,h:11,w:11,c:96]    1,632/1,920         185,952                  conv2d_41   |                +23,232(+12.5%)     conv2d_oi8[58]                       \\n',\n",
       " '       nl_42_nl (Nonlinearity, CONV_2D)             [b:1,h:11,w:11,c:96]                         11,616                  conv2d_42   |                -11,616(-100.0%)    \\n',\n",
       " '------ -------------------------------------------- ----------------------- --------------- ----------- -------------------------- --- -------------- ------------------- ------------------------------------ \\n',\n",
       " '43     conv2d_43 (Conv2D, DEPTHWISE_CONV_2D)        [b:1,h:11,w:11,c:96]    960/1,248           104,640                   nl_42_nl   |                                    pad_oi8/conv2d_oi8[59, 60]           \\n',\n",
       " '------ -------------------------------------------- ----------------------- --------------- ----------- -------------------------- --- -------------- ------------------- ------------------------------------ \\n',\n",
       " '44     eltwise_44 (Eltwise, ADD)                    [b:1,h:11,w:11,c:96]                         11,616                  conv2d_43   |                                    eltwise_integer_oi8[61]              \\n',\n",
       " '                                                                                                                         conv2d_39   | \\n',\n",
       " '------ -------------------------------------------- ----------------------- --------------- ----------- -------------------------- --- -------------- ------------------- ------------------------------------ \\n',\n",
       " '45     conv2d_45 (Conv2D, DEPTHWISE_CONV_2D)        [b:1,h:11,w:11,c:96]    960/1,248           104,640                 eltwise_44   |                +23,232(+22.2%)     pad_oi8/conv2d_oi8[62, 63]           \\n',\n",
       " '       nl_45_nl (Nonlinearity, DEPTHWISE_CONV_2D)   [b:1,h:11,w:11,c:96]                         11,616                  conv2d_45   |                -11,616(-100.0%)    \\n',\n",
       " '------ -------------------------------------------- ----------------------- --------------- ----------- -------------------------- --- -------------- ------------------- ------------------------------------ \\n',\n",
       " '46     conv2d_46 (Conv2D, CONV_2D)                  [b:1,h:11,w:11,c:16]    1,552/1,600         185,872                   nl_45_nl   |                                    conv2d_oi8[64]                       \\n',\n",
       " '------ -------------------------------------------- ----------------------- --------------- ----------- -------------------------- --- -------------- ------------------- ------------------------------------ \\n',\n",
       " '47     conv2d_47 (Conv2D, CONV_2D)                  [b:1,h:11,w:11,c:96]    1,632/1,920         185,952                  conv2d_46   |                +23,232(+12.5%)     conv2d_oi8[65]                       \\n',\n",
       " '       nl_47_nl (Nonlinearity, CONV_2D)             [b:1,h:11,w:11,c:96]                         11,616                  conv2d_47   |                -11,616(-100.0%)    \\n',\n",
       " '------ -------------------------------------------- ----------------------- --------------- ----------- -------------------------- --- -------------- ------------------- ------------------------------------ \\n',\n",
       " '48     conv2d_48 (Conv2D, DEPTHWISE_CONV_2D)        [b:1,h:11,w:11,c:96]    960/1,248           104,640                   nl_47_nl   |                                    pad_oi8/conv2d_oi8[66, 67]           \\n',\n",
       " '------ -------------------------------------------- ----------------------- --------------- ----------- -------------------------- --- -------------- ------------------- ------------------------------------ \\n',\n",
       " '49     eltwise_49 (Eltwise, ADD)                    [b:1,h:11,w:11,c:96]                         11,616                  conv2d_48   |                                    eltwise_integer_oi8[68]              \\n',\n",
       " '                                                                                                                        eltwise_44   | \\n',\n",
       " '------ -------------------------------------------- ----------------------- --------------- ----------- -------------------------- --- -------------- ------------------- ------------------------------------ \\n',\n",
       " '50     conv2d_50 (Conv2D, DEPTHWISE_CONV_2D)        [b:1,h:11,w:11,c:96]    960/1,248           104,640                 eltwise_49   |                +23,232(+22.2%)     pad_oi8/conv2d_oi8[69, 70]           \\n',\n",
       " '       nl_50_nl (Nonlinearity, DEPTHWISE_CONV_2D)   [b:1,h:11,w:11,c:96]                         11,616                  conv2d_50   |                -11,616(-100.0%)    \\n',\n",
       " '------ -------------------------------------------- ----------------------- --------------- ----------- -------------------------- --- -------------- ------------------- ------------------------------------ \\n',\n",
       " '51     conv2d_51 (Conv2D, CONV_2D)                  [b:1,h:11,w:11,c:16]    1,552/1,600         185,872                   nl_50_nl   |                                    conv2d_oi8[71]                       \\n',\n",
       " '------ -------------------------------------------- ----------------------- --------------- ----------- -------------------------- --- -------------- ------------------- ------------------------------------ \\n',\n",
       " '52     conv2d_52 (Conv2D, CONV_2D)                  [b:1,h:11,w:11,c:96]    1,632/1,920         185,952                  conv2d_51   |                +23,232(+12.5%)     conv2d_oi8[72]                       \\n',\n",
       " '       nl_52_nl (Nonlinearity, CONV_2D)             [b:1,h:11,w:11,c:96]                         11,616                  conv2d_52   |                -11,616(-100.0%)    \\n',\n",
       " '------ -------------------------------------------- ----------------------- --------------- ----------- -------------------------- --- -------------- ------------------- ------------------------------------ \\n',\n",
       " '53     conv2d_53 (Conv2D, DEPTHWISE_CONV_2D)        [b:1,h:11,w:11,c:96]    960/1,248           104,640                   nl_52_nl   |                                    pad_oi8/conv2d_oi8[73, 74]           \\n',\n",
       " '------ -------------------------------------------- ----------------------- --------------- ----------- -------------------------- --- -------------- ------------------- ------------------------------------ \\n',\n",
       " '54     eltwise_54 (Eltwise, ADD)                    [b:1,h:11,w:11,c:96]                         11,616                  conv2d_53   |                                    eltwise_integer_oi8[75]              \\n',\n",
       " '                                                                                                                        eltwise_49   | \\n',\n",
       " '------ -------------------------------------------- ----------------------- --------------- ----------- -------------------------- --- -------------- ------------------- ------------------------------------ \\n',\n",
       " '55     conv2d_55 (Conv2D, DEPTHWISE_CONV_2D)        [b:1,h:11,w:11,c:96]    960/1,248           104,640                 eltwise_54   |                +23,232(+22.2%)     pad_oi8/conv2d_oi8[76, 77]           \\n',\n",
       " '       nl_55_nl (Nonlinearity, DEPTHWISE_CONV_2D)   [b:1,h:11,w:11,c:96]                         11,616                  conv2d_55   |                -11,616(-100.0%)    \\n',\n",
       " '------ -------------------------------------------- ----------------------- --------------- ----------- -------------------------- --- -------------- ------------------- ------------------------------------ \\n',\n",
       " '56     conv2d_56 (Conv2D, CONV_2D)                  [b:1,h:11,w:11,c:16]    1,552/1,600         185,872                   nl_55_nl   |                                    conv2d_oi8[78]                       \\n',\n",
       " '------ -------------------------------------------- ----------------------- --------------- ----------- -------------------------- --- -------------- ------------------- ------------------------------------ \\n',\n",
       " '57     conv2d_57 (Conv2D, CONV_2D)                  [b:1,h:11,w:11,c:144]   2,448/2,880         278,928                  conv2d_56   |                +34,848(+12.5%)     conv2d_oi8[79]                       \\n',\n",
       " '       nl_57_nl (Nonlinearity, CONV_2D)             [b:1,h:11,w:11,c:144]                        17,424                  conv2d_57   |                -17,424(-100.0%)    \\n',\n",
       " '------ -------------------------------------------- ----------------------- --------------- ----------- -------------------------- --- -------------- ------------------- ------------------------------------ \\n',\n",
       " '58     conv2d_58 (Conv2D, DEPTHWISE_CONV_2D)        [b:1,h:5,w:5,c:144]     1,440/1,872          32,544                   nl_57_nl   |                                    conv2d_oi8[80]                       \\n',\n",
       " '------ -------------------------------------------- ----------------------- --------------- ----------- -------------------------- --- -------------- ------------------- ------------------------------------ \\n',\n",
       " '59     conv2d_59 (Conv2D, DEPTHWISE_CONV_2D)        [b:1,h:5,w:5,c:144]     1,440/1,872          32,544                  conv2d_58   |                +7,200(+22.1%)      pad_oi8/conv2d_oi8[81, 82]           \\n',\n",
       " '       nl_59_nl (Nonlinearity, DEPTHWISE_CONV_2D)   [b:1,h:5,w:5,c:144]                           3,600                  conv2d_59   |                -3,600(-100.0%)     \\n',\n",
       " '------ -------------------------------------------- ----------------------- --------------- ----------- -------------------------- --- -------------- ------------------- ------------------------------------ \\n',\n",
       " '60     conv2d_60 (Conv2D, CONV_2D)                  [b:1,h:5,w:5,c:24]      3,480/3,552          86,424                   nl_59_nl   |                                    conv2d_oi8[83]                       \\n',\n",
       " '------ -------------------------------------------- ----------------------- --------------- ----------- -------------------------- --- -------------- ------------------- ------------------------------------ \\n',\n",
       " '61     conv2d_61 (Conv2D, CONV_2D)                  [b:1,h:5,w:5,c:144]     3,600/4,032          86,544                  conv2d_60   |                +7,200(+8.3%)       conv2d_oi8[84]                       \\n',\n",
       " '       nl_61_nl (Nonlinearity, CONV_2D)             [b:1,h:5,w:5,c:144]                           3,600                  conv2d_61   |                -3,600(-100.0%)     \\n',\n",
       " '------ -------------------------------------------- ----------------------- --------------- ----------- -------------------------- --- -------------- ------------------- ------------------------------------ \\n',\n",
       " '62     conv2d_62 (Conv2D, DEPTHWISE_CONV_2D)        [b:1,h:5,w:5,c:144]     1,440/1,872          32,544                   nl_61_nl   |                                    pad_oi8/conv2d_oi8[85, 86]           \\n',\n",
       " '------ -------------------------------------------- ----------------------- --------------- ----------- -------------------------- --- -------------- ------------------- ------------------------------------ \\n',\n",
       " '63     eltwise_63 (Eltwise, ADD)                    [b:1,h:5,w:5,c:144]                           3,600                  conv2d_62   |                                    eltwise_integer_oi8[87]              \\n',\n",
       " '                                                                                                                         conv2d_58   | \\n',\n",
       " '------ -------------------------------------------- ----------------------- --------------- ----------- -------------------------- --- -------------- ------------------- ------------------------------------ \\n',\n",
       " '64     conv2d_64 (Conv2D, DEPTHWISE_CONV_2D)        [b:1,h:5,w:5,c:144]     1,440/1,872          32,544                 eltwise_63   |                +7,200(+22.1%)      pad_oi8/conv2d_oi8[88, 89]           \\n',\n",
       " '       nl_64_nl (Nonlinearity, DEPTHWISE_CONV_2D)   [b:1,h:5,w:5,c:144]                           3,600                  conv2d_64   |                -3,600(-100.0%)     \\n',\n",
       " '------ -------------------------------------------- ----------------------- --------------- ----------- -------------------------- --- -------------- ------------------- ------------------------------------ \\n',\n",
       " '65     conv2d_65 (Conv2D, CONV_2D)                  [b:1,h:5,w:5,c:24]      3,480/3,552          86,424                   nl_64_nl   |                                    conv2d_oi8[90]                       \\n',\n",
       " '------ -------------------------------------------- ----------------------- --------------- ----------- -------------------------- --- -------------- ------------------- ------------------------------------ \\n',\n",
       " '66     conv2d_66 (Conv2D, CONV_2D)                  [b:1,h:5,w:5,c:144]     3,600/4,032          86,544                  conv2d_65   |                +7,200(+8.3%)       conv2d_oi8[91]                       \\n',\n",
       " '       nl_66_nl (Nonlinearity, CONV_2D)             [b:1,h:5,w:5,c:144]                           3,600                  conv2d_66   |                -3,600(-100.0%)     \\n',\n",
       " '------ -------------------------------------------- ----------------------- --------------- ----------- -------------------------- --- -------------- ------------------- ------------------------------------ \\n',\n",
       " '67     conv2d_67 (Conv2D, DEPTHWISE_CONV_2D)        [b:1,h:5,w:5,c:144]     1,440/1,872          32,544                   nl_66_nl   |                                    pad_oi8/conv2d_oi8[92, 93]           \\n',\n",
       " '------ -------------------------------------------- ----------------------- --------------- ----------- -------------------------- --- -------------- ------------------- ------------------------------------ \\n',\n",
       " '68     eltwise_68 (Eltwise, ADD)                    [b:1,h:5,w:5,c:144]                           3,600                  conv2d_67   |                                    eltwise_integer_oi8[94]              \\n',\n",
       " '                                                                                                                        eltwise_63   | \\n',\n",
       " '------ -------------------------------------------- ----------------------- --------------- ----------- -------------------------- --- -------------- ------------------- ------------------------------------ \\n',\n",
       " '69     conv2d_69 (Conv2D, DEPTHWISE_CONV_2D)        [b:1,h:5,w:5,c:144]     1,440/1,872          32,544                 eltwise_68   |                +7,200(+22.1%)      pad_oi8/conv2d_oi8[95, 96]           \\n',\n",
       " '       nl_69_nl (Nonlinearity, DEPTHWISE_CONV_2D)   [b:1,h:5,w:5,c:144]                           3,600                  conv2d_69   |                -3,600(-100.0%)     \\n',\n",
       " '------ -------------------------------------------- ----------------------- --------------- ----------- -------------------------- --- -------------- ------------------- ------------------------------------ \\n',\n",
       " '70     conv2d_70 (Conv2D, CONV_2D)                  [b:1,h:5,w:5,c:24]      3,480/3,552          86,424                   nl_69_nl   |                                    conv2d_oi8[97]                       \\n',\n",
       " '------ -------------------------------------------- ----------------------- --------------- ----------- -------------------------- --- -------------- ------------------- ------------------------------------ \\n',\n",
       " '71     conv2d_71 (Conv2D, CONV_2D)                  [b:1,h:5,w:5,c:144]     3,600/4,032          86,544                  conv2d_70   |                +7,200(+8.3%)       conv2d_oi8[98]                       \\n',\n",
       " '       nl_71_nl (Nonlinearity, CONV_2D)             [b:1,h:5,w:5,c:144]                           3,600                  conv2d_71   |                -3,600(-100.0%)     \\n',\n",
       " '------ -------------------------------------------- ----------------------- --------------- ----------- -------------------------- --- -------------- ------------------- ------------------------------------ \\n',\n",
       " '72     conv2d_72 (Conv2D, DEPTHWISE_CONV_2D)        [b:1,h:5,w:5,c:144]     1,440/1,872          32,544                   nl_71_nl   |                                    pad_oi8/conv2d_oi8[99, 100]          \\n',\n",
       " '------ -------------------------------------------- ----------------------- --------------- ----------- -------------------------- --- -------------- ------------------- ------------------------------------ \\n',\n",
       " '73     eltwise_73 (Eltwise, ADD)                    [b:1,h:5,w:5,c:144]                           3,600                  conv2d_72   |                                    eltwise_integer_oi8[101]             \\n',\n",
       " '                                                                                                                        eltwise_68   | \\n',\n",
       " '------ -------------------------------------------- ----------------------- --------------- ----------- -------------------------- --- -------------- ------------------- ------------------------------------ \\n',\n",
       " '74     conv2d_74 (Conv2D, DEPTHWISE_CONV_2D)        [b:1,h:5,w:5,c:144]     1,440/1,872          32,544                 eltwise_73   |                +7,200(+22.1%)      pad_oi8/conv2d_oi8[102, 103]         \\n',\n",
       " '       nl_74_nl (Nonlinearity, DEPTHWISE_CONV_2D)   [b:1,h:5,w:5,c:144]                           3,600                  conv2d_74   |                -3,600(-100.0%)     \\n',\n",
       " '------ -------------------------------------------- ----------------------- --------------- ----------- -------------------------- --- -------------- ------------------- ------------------------------------ \\n',\n",
       " '75     conv2d_75 (Conv2D, CONV_2D)                  [b:1,h:5,w:5,c:24]      3,480/3,552          86,424                   nl_74_nl   |                                    conv2d_oi8[104]                      \\n',\n",
       " '------ -------------------------------------------- ----------------------- --------------- ----------- -------------------------- --- -------------- ------------------- ------------------------------------ \\n',\n",
       " '76     conv2d_76 (Conv2D, CONV_2D)                  [b:1,h:5,w:5,c:240]     6,000/6,720         144,240                  conv2d_75   |                +12,000(+8.3%)      conv2d_oi8[105]                      \\n',\n",
       " '       nl_76_nl (Nonlinearity, CONV_2D)             [b:1,h:5,w:5,c:240]                           6,000                  conv2d_76   |                -6,000(-100.0%)     \\n',\n",
       " '------ -------------------------------------------- ----------------------- --------------- ----------- -------------------------- --- -------------- ------------------- ------------------------------------ \\n',\n",
       " '77     conv2d_77 (Conv2D, DEPTHWISE_CONV_2D)        [b:1,h:5,w:5,c:240]     2,400/3,120          54,240                   nl_76_nl   |                                    pad_oi8/conv2d_oi8[106, 107]         \\n',\n",
       " '------ -------------------------------------------- ----------------------- --------------- ----------- -------------------------- --- -------------- ------------------- ------------------------------------ \\n',\n",
       " '78     conv2d_78 (Conv2D, DEPTHWISE_CONV_2D)        [b:1,h:5,w:5,c:240]     2,400/3,120          54,240                  conv2d_77   |                +12,000(+22.1%)     pad_oi8/conv2d_oi8[108, 109]         \\n',\n",
       " '       nl_78_nl (Nonlinearity, DEPTHWISE_CONV_2D)   [b:1,h:5,w:5,c:240]                           6,000                  conv2d_78   |                -6,000(-100.0%)     \\n',\n",
       " '------ -------------------------------------------- ----------------------- --------------- ----------- -------------------------- --- -------------- ------------------- ------------------------------------ \\n',\n",
       " '79     conv2d_79 (Conv2D, CONV_2D)                  [b:1,h:5,w:5,c:40]      9,640/9,760         240,040                   nl_78_nl   |                                    conv2d_oi8[110]                      \\n',\n",
       " '------ -------------------------------------------- ----------------------- --------------- ----------- -------------------------- --- -------------- ------------------- ------------------------------------ \\n',\n",
       " '80     conv2d_80 (Conv2D, CONV_2D)                  [b:1,h:5,w:5,c:240]     9,840/10,560        240,240                  conv2d_79   |                +12,000(+5.0%)      conv2d_oi8[111]                      \\n',\n",
       " '       nl_80_nl (Nonlinearity, CONV_2D)             [b:1,h:5,w:5,c:240]                           6,000                  conv2d_80   |                -6,000(-100.0%)     \\n',\n",
       " '------ -------------------------------------------- ----------------------- --------------- ----------- -------------------------- --- -------------- ------------------- ------------------------------------ \\n',\n",
       " '81     conv2d_81 (Conv2D, DEPTHWISE_CONV_2D)        [b:1,h:5,w:5,c:240]     2,400/3,120          54,240                   nl_80_nl   |                                    pad_oi8/conv2d_oi8[112, 113]         \\n',\n",
       " '------ -------------------------------------------- ----------------------- --------------- ----------- -------------------------- --- -------------- ------------------- ------------------------------------ \\n',\n",
       " '82     eltwise_82 (Eltwise, ADD)                    [b:1,h:5,w:5,c:240]                           6,000                  conv2d_81   |                                    eltwise_integer_oi8[114]             \\n',\n",
       " '                                                                                                                         conv2d_77   | \\n',\n",
       " '------ -------------------------------------------- ----------------------- --------------- ----------- -------------------------- --- -------------- ------------------- ------------------------------------ \\n',\n",
       " '83     conv2d_83 (Conv2D, DEPTHWISE_CONV_2D)        [b:1,h:5,w:5,c:240]     2,400/3,120          54,240                 eltwise_82   |                +12,000(+22.1%)     pad_oi8/conv2d_oi8[115, 116]         \\n',\n",
       " '       nl_83_nl (Nonlinearity, DEPTHWISE_CONV_2D)   [b:1,h:5,w:5,c:240]                           6,000                  conv2d_83   |                -6,000(-100.0%)     \\n',\n",
       " '------ -------------------------------------------- ----------------------- --------------- ----------- -------------------------- --- -------------- ------------------- ------------------------------------ \\n',\n",
       " '84     conv2d_84 (Conv2D, CONV_2D)                  [b:1,h:5,w:5,c:40]      9,640/9,760         240,040                   nl_83_nl   |                                    conv2d_oi8[117]                      \\n',\n",
       " '------ -------------------------------------------- ----------------------- --------------- ----------- -------------------------- --- -------------- ------------------- ------------------------------------ \\n',\n",
       " '85     conv2d_85 (Conv2D, CONV_2D)                  [b:1,h:5,w:5,c:320]     13,120/14,080       320,320                  conv2d_84   |                +16,000(+5.0%)      conv2d_oi8[118]                      \\n',\n",
       " '       nl_85_nl (Nonlinearity, CONV_2D)             [b:1,h:5,w:5,c:320]                           8,000                  conv2d_85   |                -8,000(-100.0%)     \\n',\n",
       " '------ -------------------------------------------- ----------------------- --------------- ----------- -------------------------- --- -------------- ------------------- ------------------------------------ \\n',\n",
       " '86     conv2d_86 (Conv2D, DEPTHWISE_CONV_2D)        [b:1,h:5,w:5,c:320]     3,200/4,160          72,320                   nl_85_nl   |                                    pad_oi8/conv2d_oi8[119, 120]         \\n',\n",
       " '------ -------------------------------------------- ----------------------- --------------- ----------- -------------------------- --- -------------- ------------------- ------------------------------------ \\n',\n",
       " '87     pool_87 (Pool, MEAN)                         [b:1,h:1,w:1,c:320]                           8,000                  conv2d_86   |                                    pool_oi8[121]                        \\n',\n",
       " '------ -------------------------------------------- ----------------------- --------------- ----------- -------------------------- --- -------------- ------------------- ------------------------------------ \\n',\n",
       " '88     reshape_88 (Reshape, RESHAPE)                [b:1,c:320]                                                            pool_87   |                                    \\n',\n",
       " '------ -------------------------------------------- ----------------------- --------------- ----------- -------------------------- --- -------------- ------------------- ------------------------------------ \\n',\n",
       " '89     dense_89 (Dense, FULLY_CONNECTED)            [b:1,c:2]               640/640                 640                 reshape_88   | +8(+1.2%)      +6(+0.9%)           dense_oi8/converter_of32[122, 123]   \\n',\n",
       " '------ -------------------------------------------- ----------------------- --------------- ----------- -------------------------- --- -------------- ------------------- ------------------------------------ \\n',\n",
       " '90     nl_90 (Nonlinearity, SOFTMAX)                [b:1,c:2]                                        30                   dense_89   |                +4(+13.3%)          nl_of32/converter_oi8[o][124, 125]   \\n',\n",
       " '------ -------------------------------------------- ----------------------- --------------- ----------- -------------------------- --- -------------- ------------------- ------------------------------------ \\n']"
      ]
     },
     "execution_count": 509,
     "metadata": {},
     "output_type": "execute_result"
    }
   ],
   "source": [
    "m_id_lines = clean_lines[model_lines_dict[\"m_id\"]: model_lines_dict[\"model/c-model\"]]\n",
    "m_id_lines"
   ]
  },
  {
   "cell_type": "code",
   "execution_count": 510,
   "metadata": {},
   "outputs": [
    {
     "data": {
      "text/plain": [
       "[0, 7, 52, 76, 135, 150, 170, None]"
      ]
     },
     "execution_count": 510,
     "metadata": {},
     "output_type": "execute_result"
    }
   ],
   "source": [
    "# get inidices for splitting the dataframe\n",
    "name_indices =[0]\n",
    "name_indices.append(m_id_lines[0].find(\"layer (type,original)\"))\n",
    "name_indices.append(m_id_lines[0].find(\"oshape\"))\n",
    "name_indices.append(m_id_lines[0].find(\"param/size\"))\n",
    "name_indices.append(m_id_lines[0].find(\"c_size\"))\n",
    "name_indices.append(m_id_lines[0].find(\"c_macc\"))\n",
    "name_indices.append(m_id_lines[0].find(\"c_type\"))\n",
    "name_indices.append(None)\n",
    "name_indices"
   ]
  },
  {
   "cell_type": "code",
   "execution_count": 511,
   "metadata": {},
   "outputs": [],
   "source": [
    "# split_indices = [0]\n",
    "# parts = m_id_lines[1].split(\" \")\n",
    "# print(parts)\n",
    "# position = 0\n",
    "\n",
    "# for part in parts:\n",
    "#     position = position + len(part)\n",
    "#     split_indices.append(position)\n",
    "# split_indices.append(None)\n",
    "# split_indices"
   ]
  },
  {
   "cell_type": "code",
   "execution_count": null,
   "metadata": {},
   "outputs": [],
   "source": []
  },
  {
   "cell_type": "code",
   "execution_count": 512,
   "metadata": {},
   "outputs": [],
   "source": [
    "#m_id_df.columns"
   ]
  },
  {
   "cell_type": "code",
   "execution_count": 513,
   "metadata": {},
   "outputs": [],
   "source": [
    "# params_split_df = pd.DataFrame()\n",
    "# params_split_df[\"text\"] = m_id_df[\"param/size           macc               connected to   |\"].str.strip()#.replace(\"|\", \"\", inplace=True)#.split(\" \",expand=True)\n",
    "# params_split_df[\"text\"] = params_split_df[\"text\"].str.replace(\"\\|\", \"\")\n",
    "# params_split_df[\"connected_to\"] = params_split_df[\"text\"].str.split().str[-1]\n",
    "# params_split_df[\"macc\"] = params_split_df[\"text\"].str.split().str[-2]\n",
    "# params_split_df[\"params_size\"] = params_split_df[\"text\"].str.split().str[-3]\n",
    "# params_split_df[\"params\"] = params_split_df[\"params_size\"].str.split(\"/\").str[0]\n",
    "# params_split_df[\"size\"] = params_split_df[\"params_size\"].str.split(\"/\").str[1]\n",
    "# params_split_df.head()"
   ]
  },
  {
   "cell_type": "code",
   "execution_count": 517,
   "metadata": {},
   "outputs": [
    {
     "data": {
      "text/html": [
       "<div>\n",
       "<style scoped>\n",
       "    .dataframe tbody tr th:only-of-type {\n",
       "        vertical-align: middle;\n",
       "    }\n",
       "\n",
       "    .dataframe tbody tr th {\n",
       "        vertical-align: top;\n",
       "    }\n",
       "\n",
       "    .dataframe thead th {\n",
       "        text-align: right;\n",
       "    }\n",
       "</style>\n",
       "<table border=\"1\" class=\"dataframe\">\n",
       "  <thead>\n",
       "    <tr style=\"text-align: right;\">\n",
       "      <th></th>\n",
       "      <th>m_id</th>\n",
       "      <th>layer (type,original)</th>\n",
       "      <th>oshape</th>\n",
       "      <th>param/size             macc               connected to   |</th>\n",
       "      <th>c_size</th>\n",
       "      <th>c_macc</th>\n",
       "      <th>c_type</th>\n",
       "    </tr>\n",
       "  </thead>\n",
       "  <tbody>\n",
       "    <tr>\n",
       "      <th>1</th>\n",
       "      <td>0</td>\n",
       "      <td>serving_default_input_10 (Input, )</td>\n",
       "      <td>[b:1,h:96,w:96,c:3]</td>\n",
       "      <td>|</td>\n",
       "      <td>+40(+100.0%)</td>\n",
       "      <td>+248,835(+100.0%)</td>\n",
       "      <td>pad_oi8/conv2d_oi8[0, 1]</td>\n",
       "    </tr>\n",
       "    <tr>\n",
       "      <th>2</th>\n",
       "      <td>0</td>\n",
       "      <td>conv2d_0 (Conv2D, DEPTHWISE_CONV_2D)</td>\n",
       "      <td>[b:1,h:96,w:96,c:3]</td>\n",
       "      <td>30/39               248,835   serving_default_input_10   |</td>\n",
       "      <td>-39(-100.0%)</td>\n",
       "      <td>-248,835(-100.0%)</td>\n",
       "      <td></td>\n",
       "    </tr>\n",
       "    <tr>\n",
       "      <th>3</th>\n",
       "      <td>0</td>\n",
       "      <td>nl_0_nl (Nonlinearity, DEPTHWISE_CONV_2D)</td>\n",
       "      <td>[b:1,h:96,w:96,c:3]</td>\n",
       "      <td>27,648                   conv2d_0   |</td>\n",
       "      <td></td>\n",
       "      <td>-27,648(-100.0%)</td>\n",
       "      <td></td>\n",
       "    </tr>\n",
       "    <tr>\n",
       "      <th>4</th>\n",
       "      <td>1</td>\n",
       "      <td>conv2d_1 (Conv2D, CONV_2D)</td>\n",
       "      <td>[b:1,h:96,w:96,c:8]</td>\n",
       "      <td>32/56               221,192                    nl_0_nl   |</td>\n",
       "      <td></td>\n",
       "      <td></td>\n",
       "      <td>conv2d_oi8[2]</td>\n",
       "    </tr>\n",
       "    <tr>\n",
       "      <th>5</th>\n",
       "      <td>2</td>\n",
       "      <td>conv2d_2 (Conv2D, CONV_2D)</td>\n",
       "      <td>[b:1,h:96,w:96,c:24]</td>\n",
       "      <td>216/288           1,769,496                   conv2d_1   |</td>\n",
       "      <td></td>\n",
       "      <td></td>\n",
       "      <td>conv2d_oi8[3]</td>\n",
       "    </tr>\n",
       "  </tbody>\n",
       "</table>\n",
       "</div>"
      ],
      "text/plain": [
       "0 m_id                      layer (type,original)                oshape  \\\n",
       "1    0         serving_default_input_10 (Input, )   [b:1,h:96,w:96,c:3]   \n",
       "2    0       conv2d_0 (Conv2D, DEPTHWISE_CONV_2D)   [b:1,h:96,w:96,c:3]   \n",
       "3    0  nl_0_nl (Nonlinearity, DEPTHWISE_CONV_2D)   [b:1,h:96,w:96,c:3]   \n",
       "4    1                 conv2d_1 (Conv2D, CONV_2D)   [b:1,h:96,w:96,c:8]   \n",
       "5    2                 conv2d_2 (Conv2D, CONV_2D)  [b:1,h:96,w:96,c:24]   \n",
       "\n",
       "0  param/size             macc               connected to   |        c_size  \\\n",
       "1                                                           |  +40(+100.0%)   \n",
       "2  30/39               248,835   serving_default_input_10   |  -39(-100.0%)   \n",
       "3                       27,648                   conv2d_0   |                 \n",
       "4  32/56               221,192                    nl_0_nl   |                 \n",
       "5  216/288           1,769,496                   conv2d_1   |                 \n",
       "\n",
       "0             c_macc                    c_type  \n",
       "1  +248,835(+100.0%)  pad_oi8/conv2d_oi8[0, 1]  \n",
       "2  -248,835(-100.0%)                            \n",
       "3   -27,648(-100.0%)                            \n",
       "4                                conv2d_oi8[2]  \n",
       "5                                conv2d_oi8[3]  "
      ]
     },
     "execution_count": 517,
     "metadata": {},
     "output_type": "execute_result"
    }
   ],
   "source": [
    "suffix\n",
    "\n",
    "# m_indices = [0, 7, 64, 87, 105, 114, 157, 160, 181, 200, None]\n",
    "# m_indices_INT8 = [0, 6, 68, 113, 129, 139,  211, 227, 247, None]\n",
    "\n",
    "# # if suffix ==\"_INT8\":\n",
    "# #     m_indices = m_indices_INT8\n",
    "\n",
    "m_indices = name_indices\n",
    "\n",
    "split_list =[]\n",
    "for line in m_id_lines[0 :-3]:\n",
    "    if \"---\" in line:\n",
    "        pass\n",
    "    else:\n",
    "        split_list.append([line[m_indices[i]:m_indices[i+1]].strip() for i in range(len(m_indices)-1)])\n",
    "#split_list\n",
    "\n",
    "m_id_df = pd.DataFrame(split_list)\n",
    "col_names = m_id_df.iloc[0]\n",
    "m_id_df = m_id_df[1:]\n",
    "m_id_df.columns = col_names\n",
    "\n",
    "m_id_df[\"m_id\"] = m_id_df[\"m_id\"].str.strip()\n",
    "m_id_df[\"m_id\"].loc[m_id_df[\"m_id\"]==\"\"] = np.NAN\n",
    "m_id_df[\"m_id\"] = m_id_df[\"m_id\"].fillna(method=\"ffill\")\n",
    "m_id_df.head()\n"
   ]
  },
  {
   "cell_type": "code",
   "execution_count": 518,
   "metadata": {},
   "outputs": [
    {
     "data": {
      "text/plain": [
       "Index(['m_id', 'layer (type,original)', 'oshape',\n",
       "       'param/size             macc               connected to   |', 'c_size',\n",
       "       'c_macc', 'c_type'],\n",
       "      dtype='object', name=0)"
      ]
     },
     "execution_count": 518,
     "metadata": {},
     "output_type": "execute_result"
    }
   ],
   "source": [
    "m_id_df.columns"
   ]
  },
  {
   "cell_type": "code",
   "execution_count": null,
   "metadata": {},
   "outputs": [],
   "source": [
    "\n",
    "\n",
    "# split middle part\n",
    "params_split_df = pd.DataFrame()\n",
    "params_split_df"
   ]
  },
  {
   "cell_type": "code",
   "execution_count": null,
   "metadata": {},
   "outputs": [],
   "source": [
    "params_split_df[\"text\"] = m_id_df[\"param/size           macc               connected to   |\"].str.strip()#.replace(\"|\", \"\", inplace=True)#.split(\" \",expand=True)\n",
    "params_split_df[\"text\"] = m_id_df[\"param/size             macc               connected to   |\"].str.strip()\n",
    "\n",
    "params_split_df[\"text\"] = params_split_df[\"text\"].str.replace(\"\\|\", \"\")\n",
    "params_split_df[\"connected_to\"] = params_split_df[\"text\"].str.split().str[-1]\n",
    "params_split_df[\"macc\"] = params_split_df[\"text\"].str.split().str[-2]\n",
    "params_split_df[\"params_size\"] = params_split_df[\"text\"].str.split().str[-3]\n",
    "params_split_df[\"params\"] = params_split_df[\"params_size\"].str.split(\"/\").str[0]\n",
    "params_split_df[\"size\"] = params_split_df[\"params_size\"].str.split(\"/\").str[1]\n",
    "params_split_df.head()\n",
    "\n",
    "\n",
    "m_id_df[\"macc\"] = params_split_df[\"macc\"]\n",
    "m_id_df[\"params\"] = params_split_df[\"params\"]\n",
    "m_id_df[\"size\"] = params_split_df[\"size\"]\n",
    "m_id_df[\"connected_to\"] = params_split_df[\"connected_to\"]\n",
    "m_id_df.drop([\"param/size           macc               connected to   |\"], axis=1, inplace=True)\n",
    "\n",
    "# clean up macc\n",
    "m_id_df[\"macc\"].loc[m_id_df[\"macc\"]==\"\"] = np.NAN\n",
    "m_id_df[\"macc\"] = m_id_df[\"macc\"].str.replace(\",\", \"\")\n",
    "m_id_df[\"macc\"].fillna(0, inplace=True)\n",
    "m_id_df[\"macc\"] = m_id_df[\"macc\"].astype(int)\n",
    "\n",
    "m_id_df.drop(m_id_df[m_id_df[\"layer (type,original)\"]==\"\"].index, inplace=True)\n",
    "\n",
    "# split layer name\n",
    "layer_split_df = m_id_df[\"layer (type,original)\"].str.split(\" \\(\", expand=True)\n",
    "layer_split_df[1] = layer_split_df[1].str.replace(\"\\)\", \"\")\n",
    "#layer_split_df.head()\n",
    "\n",
    "m_id_df[\"layer_name\"] = layer_split_df[0]\n",
    "m_id_df[\"type\"] = layer_split_df[1]\n",
    "\n",
    "m_id_df[\"params\"] = m_id_df[\"params\"].str.replace(\",\", \"\")\n",
    "m_id_df[\"size\"] = m_id_df[\"size\"].str.replace(\",\", \"\")\n",
    "m_id_df[\"params\"].fillna(0, inplace=True)\n",
    "m_id_df[\"size\"].fillna(0, inplace=True)\n",
    "m_id_df[\"params\"] = m_id_df[\"params\"].astype(int)\n",
    "m_id_df[\"size\"] = m_id_df[\"size\"].astype(int)\n",
    "m_id_df.reset_index(inplace=True, drop=False)\n",
    "\n",
    "m_id_df.head()"
   ]
  },
  {
   "cell_type": "code",
   "execution_count": null,
   "metadata": {},
   "outputs": [],
   "source": [
    "mask = m_id_df[\"m_id\"].duplicated()\n",
    "s1 = '.' + m_id_df[mask].groupby('m_id').cumcount().add(1).astype(str)\n",
    "m_id_df.loc[mask, 'm_id'] += s1\n",
    "#m_id_df[\"m_id\"] = m_id_df[\"m_id\"].astype(float)\n",
    "m_id_df.head()\n"
   ]
  },
  {
   "cell_type": "code",
   "execution_count": null,
   "metadata": {},
   "outputs": [],
   "source": [
    "#m_id_df.drop(m_id_df[m_id_df[\"layer (type,original)\"]==\"\"].index, inplace=True)"
   ]
  },
  {
   "cell_type": "code",
   "execution_count": null,
   "metadata": {},
   "outputs": [],
   "source": [
    "m_id_df.info()"
   ]
  },
  {
   "cell_type": "code",
   "execution_count": null,
   "metadata": {},
   "outputs": [],
   "source": [
    "#m_id_df.to_csv(\"m_id_df.csv\")"
   ]
  },
  {
   "cell_type": "code",
   "execution_count": null,
   "metadata": {},
   "outputs": [],
   "source": [
    "# m_id_df_slimm = m_id_df.copy()\n",
    "# m_id_df_slimm.drop(m_id_df_slimm[m_id_df_slimm.type==\"Input, \"].index, inplace=True)\n",
    "# m_id_df_slimm.drop(m_id_df_slimm[m_id_df_slimm.type==\"Placeholder, \"].index, inplace=True)\n",
    "# m_id_df_slimm.drop(m_id_df_slimm[m_id_df_slimm.type==\"Pad, PAD\"].index, inplace=True)\n",
    "# m_id_df_slimm.drop(m_id_df_slimm[m_id_df_slimm.type==\"\"].index, inplace=True)\n",
    "# m_id_df_slimm.drop(m_id_df_slimm[m_id_df_slimm.type==\"Nonlinearity, HARD_SWISH\"].index, inplace=True)\n",
    "# m_id_df_slimm.drop(m_id_df_slimm[m_id_df_slimm.type==\"Nonlinearity, DEPTHWISE_CONV_2D\"].index, inplace=True)\n",
    "# m_id_df_slimm.dropna(subset=[\"type\"], inplace=True)\n",
    "# m_id_df_slimm.drop(m_id_df_slimm[m_id_df_slimm.type==\"Nonlinearity, CONV_2D\"].index, inplace=True)\n",
    "# #m_id_df_slimm.drop(m_id_df_slimm[m_id_df_slimm.type is None].index, inplace=True)\n",
    "# m_id_df_slimm.reset_index(inplace=True)\n",
    "\n",
    "# m_id_df_slimm.index +=1\n",
    "# m_id_df_slimm"
   ]
  },
  {
   "attachments": {},
   "cell_type": "markdown",
   "metadata": {},
   "source": [
    "# Getting inference times per layer"
   ]
  },
  {
   "cell_type": "code",
   "execution_count": null,
   "metadata": {},
   "outputs": [],
   "source": [
    "inference_lines = clean_lines[model_lines_dict[\"inference_times\"]: model_lines_dict[\"statistics\"]]\n",
    "inference_lines"
   ]
  },
  {
   "cell_type": "code",
   "execution_count": null,
   "metadata": {},
   "outputs": [],
   "source": [
    "def string_percent_to_float(x):\n",
    "    x = str(x).strip(\"%\")\n",
    "    return float(x)"
   ]
  },
  {
   "cell_type": "code",
   "execution_count": null,
   "metadata": {},
   "outputs": [],
   "source": [
    "indices = [0, 8, 15,36,49, 60,79, None]\n",
    "split_list =[]\n",
    "for line in inference_lines[2 :-3]:\n",
    "    if \"---\" in line:\n",
    "        pass\n",
    "    else:\n",
    "        split_list.append([line[indices[i]:indices[i+1]].strip() for i in range(len(indices)-1)])\n",
    "\n",
    "inference_df = pd.DataFrame(split_list)\n",
    "col_names = inference_df.iloc[0]\n",
    "inference_df = inference_df[1:]\n",
    "inference_df.columns = col_names\n",
    "inference_df[\"c_id\"] = inference_df[\"c_id\"].str.strip()\n",
    "inference_df[\"dur (ms)\"] = inference_df[\"dur (ms)\"].astype(float)\n",
    "inference_df[\"%\"] = inference_df[\"%\"].apply(string_percent_to_float)\n",
    "inference_df[\"counters\"] = inference_df[\"counters\"].str.replace(\"[\", \"\")\n",
    "inference_df[\"counters\"] = inference_df[\"counters\"].str.replace(\"]\", \"\")\n",
    "inference_df[\"counters\"] = inference_df[\"counters\"].str.replace(\",\", \"\").astype(int)\n",
    "inference_df.rename(columns={\"name\": \"node_name\", \"type\": \"node_type\"}, errors=\"raise\", inplace=True)\n",
    "#print(col_names)\n",
    "inference_df"
   ]
  },
  {
   "cell_type": "code",
   "execution_count": null,
   "metadata": {},
   "outputs": [],
   "source": [
    "inference_df.info()"
   ]
  },
  {
   "cell_type": "code",
   "execution_count": null,
   "metadata": {},
   "outputs": [],
   "source": [
    "#inference_df.to_csv(\"inference_df.csv\")"
   ]
  },
  {
   "cell_type": "code",
   "execution_count": null,
   "metadata": {},
   "outputs": [],
   "source": [
    "merged_df = pd.merge(inference_df,m_id_df,on='m_id', how=\"outer\")#inference_df.join(m_id_df_slimm, on=\"m_id\", how=\"left\")\n",
    "merged_df#.head(20)"
   ]
  },
  {
   "cell_type": "code",
   "execution_count": null,
   "metadata": {},
   "outputs": [],
   "source": [
    "# merged_df.drop(merged_df[merged_df.type==\"Nonlinearity, HARD_SWISH\"].index, inplace=True)\n",
    "# merged_df.drop(merged_df[merged_df.type==\"Nonlinearity, DEPTHWISE_CONV_2D\"].index, inplace=True)\n",
    "\n",
    "# merged_df.drop(merged_df[merged_df.type==\"Nonlinearity, CONV_2D\"].index, inplace=True)\n",
    "# merged_df.drop(merged_df[merged_df.type==\"Eltwise, MINIMUM\"].index, inplace=True)\n",
    "\n",
    "# merged_df.drop(merged_df[merged_df.type==\"Nonlinearity, RELU\"].index, inplace=True)\n",
    "# #merged_df.drop(merged_df[merged_df[\"layer (type,original)\"==\"Nonlinearity, RELU\"].index, inplace=True)\n",
    "# merged_df.dropna(subset=[\"layer (type,original)\"], inplace=True)\n",
    "# merged_df.dropna(subset=[\"c_id\"], inplace=True)\n",
    "# merged_df[\"type\"].fillna(\"\", inplace=True)\n",
    "# merged_df.drop_duplicates(subset=[\"layer (type,original)\"], keep=\"first\", inplace=True)\n",
    "# #merged_df.drop(\"index\", axis=1, inplace=True)\n",
    "# merged_df.reset_index(inplace=True, drop=False)\n",
    "# merged_df.rename(columns={\"index\": \"_index\"}, errors=\"raise\", inplace=True)\n"
   ]
  },
  {
   "cell_type": "code",
   "execution_count": null,
   "metadata": {},
   "outputs": [],
   "source": [
    "merged_df.columns"
   ]
  },
  {
   "cell_type": "code",
   "execution_count": null,
   "metadata": {},
   "outputs": [],
   "source": [
    "merged_df.isnull().sum()"
   ]
  },
  {
   "cell_type": "code",
   "execution_count": null,
   "metadata": {},
   "outputs": [],
   "source": [
    "merged_df[\"m_id\"] =  merged_df[\"m_id\"].astype(float)\n",
    "merged_df.sort_values(\"m_id\", inplace=True)\n",
    "merged_df.reset_index(inplace=True, drop=True)\n",
    "#merged_df.fillna(0, inplace=True)\n",
    "merged_df.head()"
   ]
  },
  {
   "cell_type": "code",
   "execution_count": null,
   "metadata": {},
   "outputs": [],
   "source": [
    "# combined_df = m_id_df_slimm.copy()\n",
    "# combined_df[\"c_type\"] = inference_df[\"type\"]\n",
    "# combined_df[\"dur (ms)\"] = inference_df[\"dur (ms)\"]\n",
    "# combined_df[\"counters\"] = inference_df[\"counters\"]\n",
    "# combined_df[\"node_name\"] = inference_df[\"node_name\"]\n",
    "# combined_df"
   ]
  },
  {
   "cell_type": "code",
   "execution_count": null,
   "metadata": {},
   "outputs": [],
   "source": [
    "#combined_df[[\"m_id\", \"layer_name\", \"type_x\", \"type_y\", \"dur (ms)\"]]"
   ]
  },
  {
   "cell_type": "code",
   "execution_count": null,
   "metadata": {},
   "outputs": [],
   "source": [
    "#inference_df[\"c_id\"].unique()"
   ]
  },
  {
   "cell_type": "code",
   "execution_count": null,
   "metadata": {},
   "outputs": [],
   "source": [
    "inference_stats"
   ]
  },
  {
   "attachments": {},
   "cell_type": "markdown",
   "metadata": {},
   "source": [
    "# Logging to wandb"
   ]
  },
  {
   "cell_type": "code",
   "execution_count": null,
   "metadata": {},
   "outputs": [],
   "source": [
    "# Generate run ids\n",
    "#id = wandb.wandb.sdk.lib.runid.generate_id()\n",
    "\n",
    "id = get_model_DB_run_id_from_architecture(model_name)\n",
    "PROJECT = \"model_DB\"\n",
    "\n",
    "run = wandb.init(\n",
    "        # Set the project where this run will be logged\n",
    "        project=PROJECT, \n",
    "        id = id, \n",
    "        resume=\"allow\",\n",
    "        )\n",
    "\n",
    "\n",
    "# # Create a table\n",
    "stm32_inference_df_table = wandb.Table(dataframe=inference_df)\n",
    "stm32_int8_table = wandb.Table(dataframe= merged_df)\n",
    "\n",
    "run.log({\"stm32_inference_times_int8\": stm32_inference_df_table})\n",
    "run.log({\"stm32_inference_int8\": stm32_int8_table})\n",
    "\n",
    "run.log(inference_stats)\n",
    "\n",
    "\n",
    "\n",
    "wandb.finish()"
   ]
  },
  {
   "cell_type": "code",
   "execution_count": null,
   "metadata": {},
   "outputs": [],
   "source": []
  }
 ],
 "metadata": {
  "kernelspec": {
   "display_name": "tiny_cnn_5",
   "language": "python",
   "name": "python3"
  },
  "language_info": {
   "codemirror_mode": {
    "name": "ipython",
    "version": 3
   },
   "file_extension": ".py",
   "mimetype": "text/x-python",
   "name": "python",
   "nbconvert_exporter": "python",
   "pygments_lexer": "ipython3",
   "version": "3.10.6"
  },
  "orig_nbformat": 4,
  "vscode": {
   "interpreter": {
    "hash": "4b362e3f7439b35b0bc0fa2e0c3a5b3cc0154c779cd4216b658aa3553d61d067"
   }
  }
 },
 "nbformat": 4,
 "nbformat_minor": 2
}
