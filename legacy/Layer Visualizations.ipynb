{
 "cells": [
  {
   "attachments": {},
   "cell_type": "markdown",
   "metadata": {},
   "source": [
    "# Layer Visualizations\n",
    "This notebook contains code to parse a saved TensorFlow model file and generate a pandas dataframe that contains information about all the layers."
   ]
  },
  {
   "cell_type": "code",
   "execution_count": 1,
   "metadata": {},
   "outputs": [],
   "source": [
    "import pandas as pd\n",
    "import numpy as np\n",
    "import re\n",
    "from matplotlib import pyplot as plt\n",
    "import plotly.express as px\n",
    "from pathlib import Path\n",
    "\n",
    "# enable plotly in VS Studio Code\n",
    "import plotly.io as pio\n",
    "#pio.renderers.default = \"notebook_connected\"\n",
    "pio.renderers.default = \"plotly_mimetype+notebook\"\n",
    "\n",
    "import wandb\n",
    "from wandb.keras import WandbMetricsLogger, WandbModelCheckpoint\n",
    "\n",
    "from workbench.utils.utils import create_filepaths, parse_model_name, append_dict_to_csv\n",
    "from workbench.config.config import initialize\n",
    "from workbench.tflite_benchmarking import get_profiling_stats_cpu, get_profiling_dataframes_cpu\n",
    "from workbench.tflite_profiling import get_peak_memory_df, get_tensor_details_df"
   ]
  },
  {
   "cell_type": "code",
   "execution_count": 2,
   "metadata": {},
   "outputs": [],
   "source": [
    "# Configure pandas to show all columns & rows\n",
    "pd.set_option('display.max_columns', None)\n",
    "#pd.set_option('display.max_rows', None)"
   ]
  },
  {
   "cell_type": "code",
   "execution_count": 3,
   "metadata": {
    "tags": [
     "parameters"
    ]
   },
   "outputs": [],
   "source": [
    "#model_name = \"shufflenetv2tiny_0.1_96_c3_o3_f4l1024\"\n",
    "model_name = \"mobilenetv1_0.1_96_c3_o3_l2\"\n",
    "#model_name = \"efficientNetB0_0.1_96_c3_o3_keras\""
   ]
  },
  {
   "cell_type": "code",
   "execution_count": 4,
   "metadata": {},
   "outputs": [],
   "source": [
    "model_dict = {}"
   ]
  },
  {
   "cell_type": "code",
   "execution_count": 5,
   "metadata": {},
   "outputs": [
    {
     "data": {
      "text/plain": [
       "('mobilenetv1', '0.1', '96', 'c3', 'o3', 'l2')"
      ]
     },
     "execution_count": 5,
     "metadata": {},
     "output_type": "execute_result"
    }
   ],
   "source": [
    "parse_model_name(model_name)"
   ]
  },
  {
   "cell_type": "code",
   "execution_count": 6,
   "metadata": {},
   "outputs": [],
   "source": [
    "models_dir = initialize()"
   ]
  },
  {
   "cell_type": "code",
   "execution_count": 7,
   "metadata": {},
   "outputs": [
    {
     "name": "stdout",
     "output_type": "stream",
     "text": [
      "i:\\tinyml\\tiny_cnn\\models\n"
     ]
    }
   ],
   "source": [
    "models_path, models_summary_path, models_image_path, models_layer_df_path, models_tf_path, models_tflite_path, models_tflite_opt_path = create_filepaths(model_name)"
   ]
  },
  {
   "cell_type": "markdown",
   "metadata": {},
   "source": []
  },
  {
   "cell_type": "code",
   "execution_count": 8,
   "metadata": {},
   "outputs": [],
   "source": [
    "tflite_benchmark_cpu_path = models_dir.joinpath(model_name, f\"{model_name}_benchmark.txt\")"
   ]
  },
  {
   "cell_type": "code",
   "execution_count": 9,
   "metadata": {},
   "outputs": [
    {
     "data": {
      "text/plain": [
       "{'model_size_MB': 0.07144,\n",
       " 'init_us': 154788,\n",
       " 'first_inference_us': 2826,\n",
       " 'warmup_avg_us': 677.976,\n",
       " 'inference_avg_us': 674.613,\n",
       " 'initialization_ms': 154.788,\n",
       " 'modify_graph_with_delegate_ms_first': 0.083,\n",
       " 'modify_graph_with_delegate_ms_avg': 0.083,\n",
       " 'modify_graph_with_delegate_ms_%': 64.341,\n",
       " 'modify_graph_with_delegate_mem_KB': 0.0,\n",
       " 'allocate_tensors_ms_first': 0.046,\n",
       " 'allocate_tensors_ms_avg': 0.046,\n",
       " 'allocate_tensors_ms_%': 35.659}"
      ]
     },
     "execution_count": 9,
     "metadata": {},
     "output_type": "execute_result"
    }
   ],
   "source": [
    "tflite_model_stats_cpu = get_profiling_stats_cpu(tflite_benchmark_cpu_path)\n",
    "tflite_model_stats_cpu"
   ]
  },
  {
   "cell_type": "code",
   "execution_count": 10,
   "metadata": {},
   "outputs": [],
   "source": [
    "operator_run_order_df, operator_by_comp_time_df, summary_node_type_df = get_profiling_dataframes_cpu(tflite_benchmark_cpu_path, model_name)"
   ]
  },
  {
   "cell_type": "code",
   "execution_count": 11,
   "metadata": {},
   "outputs": [
    {
     "data": {
      "text/html": [
       "<div>\n",
       "<style scoped>\n",
       "    .dataframe tbody tr th:only-of-type {\n",
       "        vertical-align: middle;\n",
       "    }\n",
       "\n",
       "    .dataframe tbody tr th {\n",
       "        vertical-align: top;\n",
       "    }\n",
       "\n",
       "    .dataframe thead th {\n",
       "        text-align: right;\n",
       "    }\n",
       "</style>\n",
       "<table border=\"1\" class=\"dataframe\">\n",
       "  <thead>\n",
       "    <tr style=\"text-align: right;\">\n",
       "      <th></th>\n",
       "      <th>node type</th>\n",
       "      <th>first</th>\n",
       "      <th>avg ms</th>\n",
       "      <th>%</th>\n",
       "      <th>cdf%</th>\n",
       "      <th>mem KB</th>\n",
       "      <th>times called</th>\n",
       "      <th>Name</th>\n",
       "    </tr>\n",
       "  </thead>\n",
       "  <tbody>\n",
       "    <tr>\n",
       "      <th>1</th>\n",
       "      <td>QUANTIZE</td>\n",
       "      <td>0.104</td>\n",
       "      <td>0.105</td>\n",
       "      <td>15.945</td>\n",
       "      <td>15.945</td>\n",
       "      <td>0.0</td>\n",
       "      <td>1</td>\n",
       "      <td>[tfl.quantize]:0</td>\n",
       "    </tr>\n",
       "    <tr>\n",
       "      <th>2</th>\n",
       "      <td>CONV_2D</td>\n",
       "      <td>0.094</td>\n",
       "      <td>0.091</td>\n",
       "      <td>13.832</td>\n",
       "      <td>29.777</td>\n",
       "      <td>0.0</td>\n",
       "      <td>1</td>\n",
       "      <td>[mobilenetv1/re_lu/Relu;mobilenetv1/batch_norm...</td>\n",
       "    </tr>\n",
       "    <tr>\n",
       "      <th>3</th>\n",
       "      <td>DEPTHWISE_CONV_2D</td>\n",
       "      <td>0.108</td>\n",
       "      <td>0.115</td>\n",
       "      <td>17.609</td>\n",
       "      <td>47.386</td>\n",
       "      <td>0.0</td>\n",
       "      <td>1</td>\n",
       "      <td>[mobilenetv1/re_lu_1/Relu;mobilenetv1/batch_no...</td>\n",
       "    </tr>\n",
       "    <tr>\n",
       "      <th>4</th>\n",
       "      <td>CONV_2D</td>\n",
       "      <td>0.043</td>\n",
       "      <td>0.045</td>\n",
       "      <td>6.925</td>\n",
       "      <td>54.312</td>\n",
       "      <td>0.0</td>\n",
       "      <td>1</td>\n",
       "      <td>[mobilenetv1/re_lu_2/Relu;mobilenetv1/batch_no...</td>\n",
       "    </tr>\n",
       "    <tr>\n",
       "      <th>5</th>\n",
       "      <td>DEPTHWISE_CONV_2D</td>\n",
       "      <td>0.046</td>\n",
       "      <td>0.050</td>\n",
       "      <td>7.618</td>\n",
       "      <td>61.929</td>\n",
       "      <td>0.0</td>\n",
       "      <td>1</td>\n",
       "      <td>[mobilenetv1/re_lu_3/Relu;mobilenetv1/batch_no...</td>\n",
       "    </tr>\n",
       "    <tr>\n",
       "      <th>6</th>\n",
       "      <td>CONV_2D</td>\n",
       "      <td>0.015</td>\n",
       "      <td>0.017</td>\n",
       "      <td>2.559</td>\n",
       "      <td>64.488</td>\n",
       "      <td>0.0</td>\n",
       "      <td>1</td>\n",
       "      <td>[mobilenetv1/re_lu_4/Relu;mobilenetv1/batch_no...</td>\n",
       "    </tr>\n",
       "    <tr>\n",
       "      <th>7</th>\n",
       "      <td>DEPTHWISE_CONV_2D</td>\n",
       "      <td>0.046</td>\n",
       "      <td>0.050</td>\n",
       "      <td>7.589</td>\n",
       "      <td>72.077</td>\n",
       "      <td>0.0</td>\n",
       "      <td>1</td>\n",
       "      <td>[mobilenetv1/re_lu_5/Relu;mobilenetv1/batch_no...</td>\n",
       "    </tr>\n",
       "    <tr>\n",
       "      <th>8</th>\n",
       "      <td>CONV_2D</td>\n",
       "      <td>0.017</td>\n",
       "      <td>0.018</td>\n",
       "      <td>2.728</td>\n",
       "      <td>74.805</td>\n",
       "      <td>0.0</td>\n",
       "      <td>1</td>\n",
       "      <td>[mobilenetv1/re_lu_6/Relu;mobilenetv1/batch_no...</td>\n",
       "    </tr>\n",
       "    <tr>\n",
       "      <th>9</th>\n",
       "      <td>DEPTHWISE_CONV_2D</td>\n",
       "      <td>0.019</td>\n",
       "      <td>0.020</td>\n",
       "      <td>3.001</td>\n",
       "      <td>77.807</td>\n",
       "      <td>0.0</td>\n",
       "      <td>1</td>\n",
       "      <td>[mobilenetv1/re_lu_7/Relu;mobilenetv1/batch_no...</td>\n",
       "    </tr>\n",
       "    <tr>\n",
       "      <th>10</th>\n",
       "      <td>CONV_2D</td>\n",
       "      <td>0.007</td>\n",
       "      <td>0.008</td>\n",
       "      <td>1.189</td>\n",
       "      <td>78.996</td>\n",
       "      <td>0.0</td>\n",
       "      <td>1</td>\n",
       "      <td>[mobilenetv1/re_lu_8/Relu;mobilenetv1/batch_no...</td>\n",
       "    </tr>\n",
       "    <tr>\n",
       "      <th>11</th>\n",
       "      <td>DEPTHWISE_CONV_2D</td>\n",
       "      <td>0.028</td>\n",
       "      <td>0.030</td>\n",
       "      <td>4.590</td>\n",
       "      <td>83.586</td>\n",
       "      <td>0.0</td>\n",
       "      <td>1</td>\n",
       "      <td>[mobilenetv1/re_lu_9/Relu;mobilenetv1/batch_no...</td>\n",
       "    </tr>\n",
       "    <tr>\n",
       "      <th>12</th>\n",
       "      <td>CONV_2D</td>\n",
       "      <td>0.010</td>\n",
       "      <td>0.010</td>\n",
       "      <td>1.580</td>\n",
       "      <td>85.166</td>\n",
       "      <td>0.0</td>\n",
       "      <td>1</td>\n",
       "      <td>[mobilenetv1/re_lu_10/Relu;mobilenetv1/batch_n...</td>\n",
       "    </tr>\n",
       "    <tr>\n",
       "      <th>13</th>\n",
       "      <td>DEPTHWISE_CONV_2D</td>\n",
       "      <td>0.008</td>\n",
       "      <td>0.008</td>\n",
       "      <td>1.282</td>\n",
       "      <td>86.448</td>\n",
       "      <td>0.0</td>\n",
       "      <td>1</td>\n",
       "      <td>[mobilenetv1/re_lu_11/Relu;mobilenetv1/batch_n...</td>\n",
       "    </tr>\n",
       "    <tr>\n",
       "      <th>14</th>\n",
       "      <td>CONV_2D</td>\n",
       "      <td>0.005</td>\n",
       "      <td>0.006</td>\n",
       "      <td>0.883</td>\n",
       "      <td>87.331</td>\n",
       "      <td>0.0</td>\n",
       "      <td>1</td>\n",
       "      <td>[mobilenetv1/re_lu_12/Relu;mobilenetv1/batch_n...</td>\n",
       "    </tr>\n",
       "    <tr>\n",
       "      <th>15</th>\n",
       "      <td>DEPTHWISE_CONV_2D</td>\n",
       "      <td>0.014</td>\n",
       "      <td>0.015</td>\n",
       "      <td>2.249</td>\n",
       "      <td>89.580</td>\n",
       "      <td>0.0</td>\n",
       "      <td>1</td>\n",
       "      <td>[mobilenetv1/re_lu_13/Relu;mobilenetv1/batch_n...</td>\n",
       "    </tr>\n",
       "    <tr>\n",
       "      <th>16</th>\n",
       "      <td>CONV_2D</td>\n",
       "      <td>0.007</td>\n",
       "      <td>0.008</td>\n",
       "      <td>1.204</td>\n",
       "      <td>90.784</td>\n",
       "      <td>0.0</td>\n",
       "      <td>1</td>\n",
       "      <td>[mobilenetv1/re_lu_14/Relu;mobilenetv1/batch_n...</td>\n",
       "    </tr>\n",
       "    <tr>\n",
       "      <th>17</th>\n",
       "      <td>DEPTHWISE_CONV_2D</td>\n",
       "      <td>0.014</td>\n",
       "      <td>0.015</td>\n",
       "      <td>2.227</td>\n",
       "      <td>93.011</td>\n",
       "      <td>0.0</td>\n",
       "      <td>1</td>\n",
       "      <td>[mobilenetv1/re_lu_15/Relu;mobilenetv1/batch_n...</td>\n",
       "    </tr>\n",
       "    <tr>\n",
       "      <th>18</th>\n",
       "      <td>CONV_2D</td>\n",
       "      <td>0.008</td>\n",
       "      <td>0.008</td>\n",
       "      <td>1.189</td>\n",
       "      <td>94.201</td>\n",
       "      <td>0.0</td>\n",
       "      <td>1</td>\n",
       "      <td>[mobilenetv1/re_lu_16/Relu;mobilenetv1/batch_n...</td>\n",
       "    </tr>\n",
       "    <tr>\n",
       "      <th>19</th>\n",
       "      <td>DEPTHWISE_CONV_2D</td>\n",
       "      <td>0.004</td>\n",
       "      <td>0.005</td>\n",
       "      <td>0.693</td>\n",
       "      <td>94.893</td>\n",
       "      <td>0.0</td>\n",
       "      <td>1</td>\n",
       "      <td>[mobilenetv1/re_lu_17/Relu;mobilenetv1/batch_n...</td>\n",
       "    </tr>\n",
       "    <tr>\n",
       "      <th>20</th>\n",
       "      <td>CONV_2D</td>\n",
       "      <td>0.006</td>\n",
       "      <td>0.007</td>\n",
       "      <td>1.038</td>\n",
       "      <td>95.932</td>\n",
       "      <td>0.0</td>\n",
       "      <td>1</td>\n",
       "      <td>[mobilenetv1/re_lu_18/Relu;mobilenetv1/batch_n...</td>\n",
       "    </tr>\n",
       "    <tr>\n",
       "      <th>21</th>\n",
       "      <td>DEPTHWISE_CONV_2D</td>\n",
       "      <td>0.007</td>\n",
       "      <td>0.007</td>\n",
       "      <td>1.127</td>\n",
       "      <td>97.058</td>\n",
       "      <td>0.0</td>\n",
       "      <td>1</td>\n",
       "      <td>[mobilenetv1/re_lu_19/Relu;mobilenetv1/batch_n...</td>\n",
       "    </tr>\n",
       "    <tr>\n",
       "      <th>22</th>\n",
       "      <td>CONV_2D</td>\n",
       "      <td>0.010</td>\n",
       "      <td>0.010</td>\n",
       "      <td>1.594</td>\n",
       "      <td>98.652</td>\n",
       "      <td>0.0</td>\n",
       "      <td>1</td>\n",
       "      <td>[mobilenetv1/re_lu_20/Relu;mobilenetv1/batch_n...</td>\n",
       "    </tr>\n",
       "    <tr>\n",
       "      <th>23</th>\n",
       "      <td>MEAN</td>\n",
       "      <td>0.002</td>\n",
       "      <td>0.002</td>\n",
       "      <td>0.335</td>\n",
       "      <td>98.988</td>\n",
       "      <td>0.0</td>\n",
       "      <td>1</td>\n",
       "      <td>[mobilenetv1/global_average_pooling2d/Mean]:22</td>\n",
       "    </tr>\n",
       "    <tr>\n",
       "      <th>24</th>\n",
       "      <td>CONV_2D</td>\n",
       "      <td>0.001</td>\n",
       "      <td>0.002</td>\n",
       "      <td>0.229</td>\n",
       "      <td>99.216</td>\n",
       "      <td>0.0</td>\n",
       "      <td>1</td>\n",
       "      <td>[mobilenetv1/conv2d_11/BiasAdd;mobilenetv1/con...</td>\n",
       "    </tr>\n",
       "    <tr>\n",
       "      <th>25</th>\n",
       "      <td>SHAPE</td>\n",
       "      <td>0.000</td>\n",
       "      <td>0.001</td>\n",
       "      <td>0.080</td>\n",
       "      <td>99.296</td>\n",
       "      <td>0.0</td>\n",
       "      <td>1</td>\n",
       "      <td>[mobilenetv1/reshape/Shape]:24</td>\n",
       "    </tr>\n",
       "    <tr>\n",
       "      <th>26</th>\n",
       "      <td>STRIDED_SLICE</td>\n",
       "      <td>0.001</td>\n",
       "      <td>0.001</td>\n",
       "      <td>0.175</td>\n",
       "      <td>99.472</td>\n",
       "      <td>0.0</td>\n",
       "      <td>1</td>\n",
       "      <td>[mobilenetv1/reshape/strided_slice]:25</td>\n",
       "    </tr>\n",
       "    <tr>\n",
       "      <th>27</th>\n",
       "      <td>PACK</td>\n",
       "      <td>0.001</td>\n",
       "      <td>0.001</td>\n",
       "      <td>0.168</td>\n",
       "      <td>99.639</td>\n",
       "      <td>0.0</td>\n",
       "      <td>1</td>\n",
       "      <td>[mobilenetv1/reshape/Reshape/shape]:26</td>\n",
       "    </tr>\n",
       "    <tr>\n",
       "      <th>28</th>\n",
       "      <td>RESHAPE</td>\n",
       "      <td>0.001</td>\n",
       "      <td>0.001</td>\n",
       "      <td>0.120</td>\n",
       "      <td>99.759</td>\n",
       "      <td>0.0</td>\n",
       "      <td>1</td>\n",
       "      <td>[mobilenetv1/reshape/Reshape]:27</td>\n",
       "    </tr>\n",
       "    <tr>\n",
       "      <th>29</th>\n",
       "      <td>SOFTMAX</td>\n",
       "      <td>0.001</td>\n",
       "      <td>0.001</td>\n",
       "      <td>0.134</td>\n",
       "      <td>99.893</td>\n",
       "      <td>0.0</td>\n",
       "      <td>1</td>\n",
       "      <td>[StatefulPartitionedCall:01]:28</td>\n",
       "    </tr>\n",
       "    <tr>\n",
       "      <th>30</th>\n",
       "      <td>QUANTIZE</td>\n",
       "      <td>0.001</td>\n",
       "      <td>0.001</td>\n",
       "      <td>0.107</td>\n",
       "      <td>100.000</td>\n",
       "      <td>0.0</td>\n",
       "      <td>1</td>\n",
       "      <td>[StatefulPartitionedCall:0]:29</td>\n",
       "    </tr>\n",
       "  </tbody>\n",
       "</table>\n",
       "</div>"
      ],
      "text/plain": [
       "            node type  first  avg ms       %     cdf%  mem KB  times called  \\\n",
       "1            QUANTIZE  0.104   0.105  15.945   15.945     0.0             1   \n",
       "2             CONV_2D  0.094   0.091  13.832   29.777     0.0             1   \n",
       "3   DEPTHWISE_CONV_2D  0.108   0.115  17.609   47.386     0.0             1   \n",
       "4             CONV_2D  0.043   0.045   6.925   54.312     0.0             1   \n",
       "5   DEPTHWISE_CONV_2D  0.046   0.050   7.618   61.929     0.0             1   \n",
       "6             CONV_2D  0.015   0.017   2.559   64.488     0.0             1   \n",
       "7   DEPTHWISE_CONV_2D  0.046   0.050   7.589   72.077     0.0             1   \n",
       "8             CONV_2D  0.017   0.018   2.728   74.805     0.0             1   \n",
       "9   DEPTHWISE_CONV_2D  0.019   0.020   3.001   77.807     0.0             1   \n",
       "10            CONV_2D  0.007   0.008   1.189   78.996     0.0             1   \n",
       "11  DEPTHWISE_CONV_2D  0.028   0.030   4.590   83.586     0.0             1   \n",
       "12            CONV_2D  0.010   0.010   1.580   85.166     0.0             1   \n",
       "13  DEPTHWISE_CONV_2D  0.008   0.008   1.282   86.448     0.0             1   \n",
       "14            CONV_2D  0.005   0.006   0.883   87.331     0.0             1   \n",
       "15  DEPTHWISE_CONV_2D  0.014   0.015   2.249   89.580     0.0             1   \n",
       "16            CONV_2D  0.007   0.008   1.204   90.784     0.0             1   \n",
       "17  DEPTHWISE_CONV_2D  0.014   0.015   2.227   93.011     0.0             1   \n",
       "18            CONV_2D  0.008   0.008   1.189   94.201     0.0             1   \n",
       "19  DEPTHWISE_CONV_2D  0.004   0.005   0.693   94.893     0.0             1   \n",
       "20            CONV_2D  0.006   0.007   1.038   95.932     0.0             1   \n",
       "21  DEPTHWISE_CONV_2D  0.007   0.007   1.127   97.058     0.0             1   \n",
       "22            CONV_2D  0.010   0.010   1.594   98.652     0.0             1   \n",
       "23               MEAN  0.002   0.002   0.335   98.988     0.0             1   \n",
       "24            CONV_2D  0.001   0.002   0.229   99.216     0.0             1   \n",
       "25              SHAPE  0.000   0.001   0.080   99.296     0.0             1   \n",
       "26      STRIDED_SLICE  0.001   0.001   0.175   99.472     0.0             1   \n",
       "27               PACK  0.001   0.001   0.168   99.639     0.0             1   \n",
       "28            RESHAPE  0.001   0.001   0.120   99.759     0.0             1   \n",
       "29            SOFTMAX  0.001   0.001   0.134   99.893     0.0             1   \n",
       "30           QUANTIZE  0.001   0.001   0.107  100.000     0.0             1   \n",
       "\n",
       "                                                 Name  \n",
       "1                                    [tfl.quantize]:0  \n",
       "2   [mobilenetv1/re_lu/Relu;mobilenetv1/batch_norm...  \n",
       "3   [mobilenetv1/re_lu_1/Relu;mobilenetv1/batch_no...  \n",
       "4   [mobilenetv1/re_lu_2/Relu;mobilenetv1/batch_no...  \n",
       "5   [mobilenetv1/re_lu_3/Relu;mobilenetv1/batch_no...  \n",
       "6   [mobilenetv1/re_lu_4/Relu;mobilenetv1/batch_no...  \n",
       "7   [mobilenetv1/re_lu_5/Relu;mobilenetv1/batch_no...  \n",
       "8   [mobilenetv1/re_lu_6/Relu;mobilenetv1/batch_no...  \n",
       "9   [mobilenetv1/re_lu_7/Relu;mobilenetv1/batch_no...  \n",
       "10  [mobilenetv1/re_lu_8/Relu;mobilenetv1/batch_no...  \n",
       "11  [mobilenetv1/re_lu_9/Relu;mobilenetv1/batch_no...  \n",
       "12  [mobilenetv1/re_lu_10/Relu;mobilenetv1/batch_n...  \n",
       "13  [mobilenetv1/re_lu_11/Relu;mobilenetv1/batch_n...  \n",
       "14  [mobilenetv1/re_lu_12/Relu;mobilenetv1/batch_n...  \n",
       "15  [mobilenetv1/re_lu_13/Relu;mobilenetv1/batch_n...  \n",
       "16  [mobilenetv1/re_lu_14/Relu;mobilenetv1/batch_n...  \n",
       "17  [mobilenetv1/re_lu_15/Relu;mobilenetv1/batch_n...  \n",
       "18  [mobilenetv1/re_lu_16/Relu;mobilenetv1/batch_n...  \n",
       "19  [mobilenetv1/re_lu_17/Relu;mobilenetv1/batch_n...  \n",
       "20  [mobilenetv1/re_lu_18/Relu;mobilenetv1/batch_n...  \n",
       "21  [mobilenetv1/re_lu_19/Relu;mobilenetv1/batch_n...  \n",
       "22  [mobilenetv1/re_lu_20/Relu;mobilenetv1/batch_n...  \n",
       "23     [mobilenetv1/global_average_pooling2d/Mean]:22  \n",
       "24  [mobilenetv1/conv2d_11/BiasAdd;mobilenetv1/con...  \n",
       "25                     [mobilenetv1/reshape/Shape]:24  \n",
       "26             [mobilenetv1/reshape/strided_slice]:25  \n",
       "27             [mobilenetv1/reshape/Reshape/shape]:26  \n",
       "28                   [mobilenetv1/reshape/Reshape]:27  \n",
       "29                    [StatefulPartitionedCall:01]:28  \n",
       "30                     [StatefulPartitionedCall:0]:29  "
      ]
     },
     "execution_count": 11,
     "metadata": {},
     "output_type": "execute_result"
    }
   ],
   "source": [
    "operator_run_order_df"
   ]
  },
  {
   "cell_type": "code",
   "execution_count": 12,
   "metadata": {},
   "outputs": [
    {
     "data": {
      "text/html": [
       "<div>\n",
       "<style scoped>\n",
       "    .dataframe tbody tr th:only-of-type {\n",
       "        vertical-align: middle;\n",
       "    }\n",
       "\n",
       "    .dataframe tbody tr th {\n",
       "        vertical-align: top;\n",
       "    }\n",
       "\n",
       "    .dataframe thead th {\n",
       "        text-align: right;\n",
       "    }\n",
       "</style>\n",
       "<table border=\"1\" class=\"dataframe\">\n",
       "  <thead>\n",
       "    <tr style=\"text-align: right;\">\n",
       "      <th></th>\n",
       "      <th>node type</th>\n",
       "      <th>first</th>\n",
       "      <th>avg ms</th>\n",
       "      <th>%</th>\n",
       "      <th>cdf%</th>\n",
       "      <th>mem KB</th>\n",
       "      <th>times called</th>\n",
       "      <th>Name</th>\n",
       "    </tr>\n",
       "  </thead>\n",
       "  <tbody>\n",
       "    <tr>\n",
       "      <th>1</th>\n",
       "      <td>DEPTHWISE_CONV_2D</td>\n",
       "      <td>0.108</td>\n",
       "      <td>0.115</td>\n",
       "      <td>17.609</td>\n",
       "      <td>17.609</td>\n",
       "      <td>0.0</td>\n",
       "      <td>1</td>\n",
       "      <td>[mobilenetv1/re_lu_1/Relu;mobilenetv1/batch_no...</td>\n",
       "    </tr>\n",
       "    <tr>\n",
       "      <th>2</th>\n",
       "      <td>QUANTIZE</td>\n",
       "      <td>0.104</td>\n",
       "      <td>0.105</td>\n",
       "      <td>15.945</td>\n",
       "      <td>33.554</td>\n",
       "      <td>0.0</td>\n",
       "      <td>1</td>\n",
       "      <td>[tfl.quantize]:0</td>\n",
       "    </tr>\n",
       "    <tr>\n",
       "      <th>3</th>\n",
       "      <td>CONV_2D</td>\n",
       "      <td>0.094</td>\n",
       "      <td>0.091</td>\n",
       "      <td>13.832</td>\n",
       "      <td>47.386</td>\n",
       "      <td>0.0</td>\n",
       "      <td>1</td>\n",
       "      <td>[mobilenetv1/re_lu/Relu;mobilenetv1/batch_norm...</td>\n",
       "    </tr>\n",
       "    <tr>\n",
       "      <th>4</th>\n",
       "      <td>DEPTHWISE_CONV_2D</td>\n",
       "      <td>0.046</td>\n",
       "      <td>0.050</td>\n",
       "      <td>7.618</td>\n",
       "      <td>55.004</td>\n",
       "      <td>0.0</td>\n",
       "      <td>1</td>\n",
       "      <td>[mobilenetv1/re_lu_3/Relu;mobilenetv1/batch_no...</td>\n",
       "    </tr>\n",
       "    <tr>\n",
       "      <th>5</th>\n",
       "      <td>DEPTHWISE_CONV_2D</td>\n",
       "      <td>0.046</td>\n",
       "      <td>0.050</td>\n",
       "      <td>7.589</td>\n",
       "      <td>62.593</td>\n",
       "      <td>0.0</td>\n",
       "      <td>1</td>\n",
       "      <td>[mobilenetv1/re_lu_5/Relu;mobilenetv1/batch_no...</td>\n",
       "    </tr>\n",
       "    <tr>\n",
       "      <th>6</th>\n",
       "      <td>CONV_2D</td>\n",
       "      <td>0.043</td>\n",
       "      <td>0.045</td>\n",
       "      <td>6.925</td>\n",
       "      <td>69.518</td>\n",
       "      <td>0.0</td>\n",
       "      <td>1</td>\n",
       "      <td>[mobilenetv1/re_lu_2/Relu;mobilenetv1/batch_no...</td>\n",
       "    </tr>\n",
       "    <tr>\n",
       "      <th>7</th>\n",
       "      <td>DEPTHWISE_CONV_2D</td>\n",
       "      <td>0.028</td>\n",
       "      <td>0.030</td>\n",
       "      <td>4.590</td>\n",
       "      <td>74.108</td>\n",
       "      <td>0.0</td>\n",
       "      <td>1</td>\n",
       "      <td>[mobilenetv1/re_lu_9/Relu;mobilenetv1/batch_no...</td>\n",
       "    </tr>\n",
       "    <tr>\n",
       "      <th>8</th>\n",
       "      <td>DEPTHWISE_CONV_2D</td>\n",
       "      <td>0.019</td>\n",
       "      <td>0.020</td>\n",
       "      <td>3.001</td>\n",
       "      <td>77.109</td>\n",
       "      <td>0.0</td>\n",
       "      <td>1</td>\n",
       "      <td>[mobilenetv1/re_lu_7/Relu;mobilenetv1/batch_no...</td>\n",
       "    </tr>\n",
       "    <tr>\n",
       "      <th>9</th>\n",
       "      <td>CONV_2D</td>\n",
       "      <td>0.017</td>\n",
       "      <td>0.018</td>\n",
       "      <td>2.728</td>\n",
       "      <td>79.838</td>\n",
       "      <td>0.0</td>\n",
       "      <td>1</td>\n",
       "      <td>[mobilenetv1/re_lu_6/Relu;mobilenetv1/batch_no...</td>\n",
       "    </tr>\n",
       "    <tr>\n",
       "      <th>10</th>\n",
       "      <td>CONV_2D</td>\n",
       "      <td>0.015</td>\n",
       "      <td>0.017</td>\n",
       "      <td>2.559</td>\n",
       "      <td>82.396</td>\n",
       "      <td>0.0</td>\n",
       "      <td>1</td>\n",
       "      <td>[mobilenetv1/re_lu_4/Relu;mobilenetv1/batch_no...</td>\n",
       "    </tr>\n",
       "  </tbody>\n",
       "</table>\n",
       "</div>"
      ],
      "text/plain": [
       "            node type  first  avg ms       %    cdf%  mem KB  times called  \\\n",
       "1   DEPTHWISE_CONV_2D  0.108   0.115  17.609  17.609     0.0             1   \n",
       "2            QUANTIZE  0.104   0.105  15.945  33.554     0.0             1   \n",
       "3             CONV_2D  0.094   0.091  13.832  47.386     0.0             1   \n",
       "4   DEPTHWISE_CONV_2D  0.046   0.050   7.618  55.004     0.0             1   \n",
       "5   DEPTHWISE_CONV_2D  0.046   0.050   7.589  62.593     0.0             1   \n",
       "6             CONV_2D  0.043   0.045   6.925  69.518     0.0             1   \n",
       "7   DEPTHWISE_CONV_2D  0.028   0.030   4.590  74.108     0.0             1   \n",
       "8   DEPTHWISE_CONV_2D  0.019   0.020   3.001  77.109     0.0             1   \n",
       "9             CONV_2D  0.017   0.018   2.728  79.838     0.0             1   \n",
       "10            CONV_2D  0.015   0.017   2.559  82.396     0.0             1   \n",
       "\n",
       "                                                 Name  \n",
       "1   [mobilenetv1/re_lu_1/Relu;mobilenetv1/batch_no...  \n",
       "2                                    [tfl.quantize]:0  \n",
       "3   [mobilenetv1/re_lu/Relu;mobilenetv1/batch_norm...  \n",
       "4   [mobilenetv1/re_lu_3/Relu;mobilenetv1/batch_no...  \n",
       "5   [mobilenetv1/re_lu_5/Relu;mobilenetv1/batch_no...  \n",
       "6   [mobilenetv1/re_lu_2/Relu;mobilenetv1/batch_no...  \n",
       "7   [mobilenetv1/re_lu_9/Relu;mobilenetv1/batch_no...  \n",
       "8   [mobilenetv1/re_lu_7/Relu;mobilenetv1/batch_no...  \n",
       "9   [mobilenetv1/re_lu_6/Relu;mobilenetv1/batch_no...  \n",
       "10  [mobilenetv1/re_lu_4/Relu;mobilenetv1/batch_no...  "
      ]
     },
     "execution_count": 12,
     "metadata": {},
     "output_type": "execute_result"
    }
   ],
   "source": [
    "operator_by_comp_time_df"
   ]
  },
  {
   "cell_type": "code",
   "execution_count": 13,
   "metadata": {},
   "outputs": [
    {
     "data": {
      "text/html": [
       "<div>\n",
       "<style scoped>\n",
       "    .dataframe tbody tr th:only-of-type {\n",
       "        vertical-align: middle;\n",
       "    }\n",
       "\n",
       "    .dataframe tbody tr th {\n",
       "        vertical-align: top;\n",
       "    }\n",
       "\n",
       "    .dataframe thead th {\n",
       "        text-align: right;\n",
       "    }\n",
       "</style>\n",
       "<table border=\"1\" class=\"dataframe\">\n",
       "  <thead>\n",
       "    <tr style=\"text-align: right;\">\n",
       "      <th></th>\n",
       "      <th>Node type</th>\n",
       "      <th>count</th>\n",
       "      <th>avg ms</th>\n",
       "      <th>avg %</th>\n",
       "      <th>cdf %</th>\n",
       "      <th>mem KB</th>\n",
       "      <th>times called</th>\n",
       "    </tr>\n",
       "  </thead>\n",
       "  <tbody>\n",
       "    <tr>\n",
       "      <th>1</th>\n",
       "      <td>DEPTHWISE_CONV_2D</td>\n",
       "      <td>10</td>\n",
       "      <td>0.309</td>\n",
       "      <td>48.433</td>\n",
       "      <td>48.433</td>\n",
       "      <td>0.0</td>\n",
       "      <td>10</td>\n",
       "    </tr>\n",
       "    <tr>\n",
       "      <th>2</th>\n",
       "      <td>CONV_2D</td>\n",
       "      <td>12</td>\n",
       "      <td>0.221</td>\n",
       "      <td>34.639</td>\n",
       "      <td>83.072</td>\n",
       "      <td>0.0</td>\n",
       "      <td>12</td>\n",
       "    </tr>\n",
       "    <tr>\n",
       "      <th>3</th>\n",
       "      <td>QUANTIZE</td>\n",
       "      <td>2</td>\n",
       "      <td>0.104</td>\n",
       "      <td>16.301</td>\n",
       "      <td>99.373</td>\n",
       "      <td>0.0</td>\n",
       "      <td>2</td>\n",
       "    </tr>\n",
       "    <tr>\n",
       "      <th>4</th>\n",
       "      <td>MEAN</td>\n",
       "      <td>1</td>\n",
       "      <td>0.002</td>\n",
       "      <td>0.313</td>\n",
       "      <td>99.687</td>\n",
       "      <td>0.0</td>\n",
       "      <td>1</td>\n",
       "    </tr>\n",
       "    <tr>\n",
       "      <th>5</th>\n",
       "      <td>STRIDED_SLICE</td>\n",
       "      <td>1</td>\n",
       "      <td>0.001</td>\n",
       "      <td>0.157</td>\n",
       "      <td>99.843</td>\n",
       "      <td>0.0</td>\n",
       "      <td>1</td>\n",
       "    </tr>\n",
       "    <tr>\n",
       "      <th>6</th>\n",
       "      <td>PACK</td>\n",
       "      <td>1</td>\n",
       "      <td>0.001</td>\n",
       "      <td>0.157</td>\n",
       "      <td>100.000</td>\n",
       "      <td>0.0</td>\n",
       "      <td>1</td>\n",
       "    </tr>\n",
       "    <tr>\n",
       "      <th>7</th>\n",
       "      <td>SOFTMAX</td>\n",
       "      <td>1</td>\n",
       "      <td>0.000</td>\n",
       "      <td>0.000</td>\n",
       "      <td>100.000</td>\n",
       "      <td>0.0</td>\n",
       "      <td>1</td>\n",
       "    </tr>\n",
       "    <tr>\n",
       "      <th>8</th>\n",
       "      <td>SHAPE</td>\n",
       "      <td>1</td>\n",
       "      <td>0.000</td>\n",
       "      <td>0.000</td>\n",
       "      <td>100.000</td>\n",
       "      <td>0.0</td>\n",
       "      <td>1</td>\n",
       "    </tr>\n",
       "    <tr>\n",
       "      <th>9</th>\n",
       "      <td>RESHAPE</td>\n",
       "      <td>1</td>\n",
       "      <td>0.000</td>\n",
       "      <td>0.000</td>\n",
       "      <td>100.000</td>\n",
       "      <td>0.0</td>\n",
       "      <td>1</td>\n",
       "    </tr>\n",
       "  </tbody>\n",
       "</table>\n",
       "</div>"
      ],
      "text/plain": [
       "           Node type  count  avg ms   avg %    cdf %  mem KB  times called\n",
       "1  DEPTHWISE_CONV_2D     10   0.309  48.433   48.433     0.0            10\n",
       "2            CONV_2D     12   0.221  34.639   83.072     0.0            12\n",
       "3           QUANTIZE      2   0.104  16.301   99.373     0.0             2\n",
       "4               MEAN      1   0.002   0.313   99.687     0.0             1\n",
       "5      STRIDED_SLICE      1   0.001   0.157   99.843     0.0             1\n",
       "6               PACK      1   0.001   0.157  100.000     0.0             1\n",
       "7            SOFTMAX      1   0.000   0.000  100.000     0.0             1\n",
       "8              SHAPE      1   0.000   0.000  100.000     0.0             1\n",
       "9            RESHAPE      1   0.000   0.000  100.000     0.0             1"
      ]
     },
     "execution_count": 13,
     "metadata": {},
     "output_type": "execute_result"
    }
   ],
   "source": [
    "summary_node_type_df"
   ]
  },
  {
   "attachments": {},
   "cell_type": "markdown",
   "metadata": {},
   "source": [
    "# Read model layers file"
   ]
  },
  {
   "cell_type": "code",
   "execution_count": null,
   "metadata": {},
   "outputs": [],
   "source": [
    "filepath = models_dir.joinpath(f\"{model_name}/{model_name}_layers.pkl\")\n",
    "\n",
    "#filepath = f\"i:/tinyml/tiny_cnn/models/{model_name}/{model_name}_layers.pkl\"\n"
   ]
  },
  {
   "cell_type": "code",
   "execution_count": null,
   "metadata": {},
   "outputs": [],
   "source": [
    "try:\n",
    "    df = pd.read_pickle(filepath)\n",
    "except:\n",
    "    print(f\"Try reading the file as csv\")\n",
    "    df = pd.read_csv(filepath)"
   ]
  },
  {
   "cell_type": "code",
   "execution_count": null,
   "metadata": {},
   "outputs": [],
   "source": [
    "df.columns"
   ]
  },
  {
   "cell_type": "code",
   "execution_count": null,
   "metadata": {},
   "outputs": [],
   "source": [
    "df.head(10)"
   ]
  },
  {
   "cell_type": "markdown",
   "metadata": {},
   "source": [
    "## Helper functions"
   ]
  },
  {
   "cell_type": "code",
   "execution_count": null,
   "metadata": {},
   "outputs": [],
   "source": [
    "def split_tuples(x):\n",
    "    x = str(x).strip(\"()\")\n",
    "    x = x.split(\",\")\n",
    "    return x"
   ]
  },
  {
   "cell_type": "code",
   "execution_count": null,
   "metadata": {},
   "outputs": [],
   "source": [
    "def return_batch_size(x):\n",
    "    x = str(x).strip(\"()\")\n",
    "    split_strings = x.split(\",\")\n",
    "    #print(split_strings)\n",
    "    return split_strings[0].strip()"
   ]
  },
  {
   "cell_type": "code",
   "execution_count": null,
   "metadata": {},
   "outputs": [],
   "source": [
    "def return_input_height(x):\n",
    "    #image_size=(img_height, img_width),\n",
    "\n",
    "    x = str(x).strip(\"()\")\n",
    "    split_strings = x.split(\",\")\n",
    "    if len(split_strings) in [3,4]:\n",
    "        return split_strings[1].strip()\n",
    "    else:\n",
    "        return \"None\"\n"
   ]
  },
  {
   "cell_type": "code",
   "execution_count": null,
   "metadata": {},
   "outputs": [],
   "source": [
    "def return_input_width(x):\n",
    "    #image_size=(img_height, img_width),\n",
    "\n",
    "    x = str(x).strip(\"()\")\n",
    "    split_strings = x.split(\",\")\n",
    "    if len(split_strings) in [4]:\n",
    "        return split_strings[2].strip()\n",
    "    else:\n",
    "        return \"None\"\n"
   ]
  },
  {
   "cell_type": "code",
   "execution_count": null,
   "metadata": {},
   "outputs": [],
   "source": [
    "def return_channels(x):\n",
    "    x = str(x).strip(\"()\")\n",
    "    split_strings = x.split(\",\")\n",
    "    #print(split_strings)\n",
    "\n",
    "    return split_strings[-1].strip()"
   ]
  },
  {
   "cell_type": "code",
   "execution_count": null,
   "metadata": {},
   "outputs": [],
   "source": [
    "def split_shape_columns(df, colum_name):\n",
    "    df[colum_name] = df[colum_name].map(str)\n",
    "    df[colum_name] = df[colum_name].str.strip(\"[]\").replace('\\)\\,', ')*', regex=True)\n",
    "    df_cols = df[colum_name].str.split(\"*\", expand=True)\n",
    "    prefix = colum_name.split(\"_\")[0]\n",
    "    df_cols.columns = [f\"{prefix}_{x+1}\" for x in df_cols.columns]\n",
    "    return df_cols"
   ]
  },
  {
   "cell_type": "code",
   "execution_count": null,
   "metadata": {},
   "outputs": [],
   "source": [
    "# df[\"input_shape\"].unique()"
   ]
  },
  {
   "cell_type": "code",
   "execution_count": null,
   "metadata": {},
   "outputs": [],
   "source": [
    "# split_df = df[\"input_shape\"].map(str)\n",
    "# split_df.unique"
   ]
  },
  {
   "cell_type": "markdown",
   "metadata": {},
   "source": [
    "# Input shapes & activations"
   ]
  },
  {
   "cell_type": "code",
   "execution_count": null,
   "metadata": {},
   "outputs": [],
   "source": [
    "df_input = split_shape_columns(df, \"input_shape\")\n",
    "no_input_cols = len(df_input.columns)\n",
    "for input in range(1,no_input_cols+1):\n",
    "    df_input[f\"b_i_{input}\"]= df_input[f\"input_{input}\"].apply(return_batch_size)\n",
    "    df_input[f\"h_i_{input}\"] = df_input[f\"input_{input}\"].apply(return_input_height)\n",
    "    df_input[f\"w_i_{input}\"] = df_input[f\"input_{input}\"].apply(return_input_width)\n",
    "    df_input[f\"c_i_{input}\"] = df_input[f\"input_{input}\"].apply(return_channels)\n",
    "\n",
    "\n",
    "input_cols = df_input.columns.to_list()\n",
    "\n",
    "#df_input[\"w_i_2\"].replace('None', np.nan, inplace=True)\n",
    "df_input[\"b_i_1\"].replace('None', np.nan, inplace=True)\n",
    "df_input[\"w_i_1\"].replace('None', np.nan, inplace=True)\n",
    "df_input[\"h_i_1\"].replace('None', np.nan, inplace=True)\n",
    "df_input[\"c_i_1\"].replace('None', np.nan, inplace=True)\n",
    "\n",
    "if \"b_i_2\" in input_cols:\n",
    "    df_input[\"b_i_2\"] = df_input[\"b_i_2\"].str.replace(\"\\(\", \"\")\n",
    "    df_input[\"b_i_2\"].replace('None', np.nan, inplace=True)\n",
    "    df_input[\"w_i_2\"].replace('None', np.nan, inplace=True)\n",
    "    df_input[\"h_i_2\"].replace('None', np.nan, inplace=True)\n",
    "    df_input[\"c_i_2\"].replace('None', np.nan, inplace=True)\n",
    "df_input.fillna(1, inplace=True)\n",
    "\n",
    "# cast to int\n",
    "df_input[\"w_i_1\"] = df_input[\"w_i_1\"].map(int)\n",
    "df_input[\"h_i_1\"] = df_input[\"h_i_1\"].map(int)\n",
    "df_input[\"b_i_1\"] = df_input[\"b_i_1\"].map(int)\n",
    "df_input[\"c_i_1\"] = df_input[\"c_i_1\"].map(int)\n",
    "\n",
    "if \"b_i_2\" in input_cols:\n",
    "    df_input[\"b_i_2\"] = df_input[\"b_i_2\"].map(int)\n",
    "    df_input[\"w_i_2\"] = df_input[\"w_i_2\"].map(int)\n",
    "    df_input[\"h_i_2\"] = df_input[\"h_i_2\"].map(int)\n",
    "    df_input[\"c_i_2\"] = df_input[\"c_i_2\"].map(int)"
   ]
  },
  {
   "cell_type": "code",
   "execution_count": null,
   "metadata": {},
   "outputs": [],
   "source": [
    "# df_input = split_shape_columns(df, \"input_shape\")\n",
    "# df_input"
   ]
  },
  {
   "cell_type": "code",
   "execution_count": null,
   "metadata": {},
   "outputs": [],
   "source": [
    "# #df[\"input_shape\"][0] =(None, None, None, None)\n",
    "# df[\"input_shape\"] = df[\"input_shape\"].map(str)\n",
    "# df[\"input_shape\"] = df[\"input_shape\"].str.strip(\"[]\").replace('\\)\\,', ')*', regex=True)\n",
    "# df_input = df[\"input_shape\"].str.split(\"*\", expand=True)\n",
    "# df_input.columns =[f\"input_{x+1}\" for x in df_input.columns]\n",
    "# no_input_cols = len(df_input.columns)\n",
    "# print(no_input_cols)\n",
    "# df_input\n"
   ]
  },
  {
   "cell_type": "code",
   "execution_count": null,
   "metadata": {},
   "outputs": [],
   "source": [
    "#df_input[\"input_1_split\"] = df_input[\"input_1\"].apply(split_tuples)"
   ]
  },
  {
   "cell_type": "code",
   "execution_count": null,
   "metadata": {},
   "outputs": [],
   "source": [
    "# no_input_cols = len(df_input.columns)"
   ]
  },
  {
   "cell_type": "code",
   "execution_count": null,
   "metadata": {},
   "outputs": [],
   "source": [
    "# for input in range(1,no_input_cols+1):\n",
    "#     df_input[f\"b_i_{input}\"]= df_input[f\"input_{input}\"].apply(return_batch_size)\n",
    "#     df_input[f\"h_i_{input}\"] = df_input[f\"input_{input}\"].apply(return_input_height)\n",
    "#     df_input[f\"w_i_{input}\"] = df_input[f\"input_{input}\"].apply(return_input_width)\n",
    "#     df_input[f\"c_i_{input}\"] = df_input[f\"input_{input}\"].apply(return_channels)\n",
    "\n",
    "# df_input"
   ]
  },
  {
   "cell_type": "code",
   "execution_count": null,
   "metadata": {},
   "outputs": [],
   "source": [
    "# input_cols = df_input.columns.to_list()\n"
   ]
  },
  {
   "cell_type": "code",
   "execution_count": null,
   "metadata": {},
   "outputs": [],
   "source": [
    "# #df_input[\"w_i_2\"].replace('None', np.nan, inplace=True)\n",
    "# df_input[\"b_i_1\"].replace('None', np.nan, inplace=True)\n",
    "# df_input[\"w_i_1\"].replace('None', np.nan, inplace=True)\n",
    "# df_input[\"h_i_1\"].replace('None', np.nan, inplace=True)\n",
    "# df_input[\"c_i_1\"].replace('None', np.nan, inplace=True)\n",
    "\n",
    "# if \"b_i_2\" in input_cols:\n",
    "#     df_input[\"b_i_2\"] = df_input[\"b_i_2\"].str.replace(\"\\(\", \"\")\n",
    "#     df_input[\"b_i_2\"].replace('None', np.nan, inplace=True)\n",
    "#     df_input[\"w_i_2\"].replace('None', np.nan, inplace=True)\n",
    "#     df_input[\"h_i_2\"].replace('None', np.nan, inplace=True)\n",
    "#     df_input[\"c_i_2\"].replace('None', np.nan, inplace=True)\n",
    "# df_input.fillna(1, inplace=True)\n"
   ]
  },
  {
   "cell_type": "code",
   "execution_count": null,
   "metadata": {},
   "outputs": [],
   "source": [
    "# df_input"
   ]
  },
  {
   "cell_type": "code",
   "execution_count": null,
   "metadata": {},
   "outputs": [],
   "source": [
    "#df_input.c_i_1.value_counts()"
   ]
  },
  {
   "cell_type": "code",
   "execution_count": null,
   "metadata": {},
   "outputs": [],
   "source": [
    "\n",
    "# df_input[\"w_i_1\"] = df_input[\"w_i_1\"].map(int)\n",
    "# df_input[\"h_i_1\"] = df_input[\"h_i_1\"].map(int)\n",
    "# df_input[\"b_i_1\"] = df_input[\"b_i_1\"].map(int)\n",
    "# df_input[\"c_i_1\"] = df_input[\"c_i_1\"].map(int)\n",
    "\n",
    "# if \"b_i_2\" in input_cols:\n",
    "#     df_input[\"b_i_2\"] = df_input[\"b_i_2\"].map(int)\n",
    "#     df_input[\"w_i_2\"] = df_input[\"w_i_2\"].map(int)\n",
    "#     df_input[\"h_i_2\"] = df_input[\"h_i_2\"].map(int)\n",
    "#     df_input[\"c_i_2\"] = df_input[\"c_i_2\"].map(int)"
   ]
  },
  {
   "cell_type": "code",
   "execution_count": null,
   "metadata": {},
   "outputs": [],
   "source": [
    "\n",
    "# df_input[\"b_i_1\"] = df_input[\"b_i_1\"].map(int)\n",
    "# df_input[\"w_i_1\"] = df_input[\"w_i_1\"].map(int)\n",
    "# df_input[\"h_i_1\"] = df_input[\"h_i_1\"].map(int)\n",
    "# df_input[\"c_i_1\"] = df_input[\"c_i_1\"].map(int)\n",
    "\n",
    "# df_input[\"b_i_2\"] = df_input[\"b_i_2\"].map(int)\n",
    "# df_input[\"w_i_2\"] = df_input[\"w_i_2\"].map(int)\n",
    "# df_input[\"h_i_2\"] = df_input[\"h_i_2\"].map(int)\n",
    "# df_input[\"c_i_2\"] = df_input[\"c_i_2\"].map(int)"
   ]
  },
  {
   "cell_type": "code",
   "execution_count": null,
   "metadata": {},
   "outputs": [],
   "source": [
    "#df_input"
   ]
  },
  {
   "cell_type": "markdown",
   "metadata": {},
   "source": [
    "# Output shape and activations"
   ]
  },
  {
   "cell_type": "code",
   "execution_count": null,
   "metadata": {},
   "outputs": [],
   "source": [
    "df_output =split_shape_columns(df, \"output_shape\") # TODO: This split does not work for EfficientNet\n",
    "no_output_cols = len(df_output.columns)\n",
    "# split output dimensions\n",
    "for output in range(1,no_output_cols+1):\n",
    "    df_output[f\"b_o_{output}\"]= df_output[f\"output_{output}\"].apply(return_batch_size)\n",
    "    df_output[f\"h_o_{output}\"] = df_output[f\"output_{output}\"].apply(return_input_height)\n",
    "    df_output[f\"w_o_{output}\"] = df_output[f\"output_{output}\"].apply(return_input_width)\n",
    "    df_output[f\"c_o_{output}\"] = df_output[f\"output_{output}\"].apply(return_channels)\n",
    "\n",
    "# fill NaN with 1 for mulitplication\n",
    "df_output[\"b_o_1\"].replace('None', np.nan, inplace=True)\n",
    "df_output[\"w_o_1\"].replace('None', np.nan, inplace=True)\n",
    "df_output[\"h_o_1\"].replace('None', np.nan, inplace=True)\n",
    "df_output[\"c_o_1\"].replace('None', np.nan, inplace=True)\n",
    "df_output.fillna(1, inplace=True)\n",
    "\n",
    "df_output[\"w_o_1\"] = df_output[\"w_o_1\"].map(int)\n",
    "df_output[\"h_o_1\"] = df_output[\"h_o_1\"].map(int)\n",
    "df_output[\"b_o_1\"] = df_output[\"b_o_1\"].map(int)\n",
    "df_output[\"c_o_1\"] = df_output[\"c_o_1\"].map(int)"
   ]
  },
  {
   "cell_type": "code",
   "execution_count": null,
   "metadata": {},
   "outputs": [],
   "source": [
    "# df_output = split_shape_columns(df, \"output_shape\")\n",
    "# df_output"
   ]
  },
  {
   "cell_type": "code",
   "execution_count": null,
   "metadata": {},
   "outputs": [],
   "source": [
    "# no_output_cols = len(df_output.columns)\n",
    "# no_output_cols"
   ]
  },
  {
   "cell_type": "code",
   "execution_count": null,
   "metadata": {},
   "outputs": [],
   "source": [
    "# for output in range(1,no_output_cols+1):\n",
    "#     df_output[f\"b_o_{output}\"]= df_output[f\"output_{output}\"].apply(return_batch_size)\n",
    "#     df_output[f\"h_o_{output}\"] = df_output[f\"output_{output}\"].apply(return_input_height)\n",
    "#     df_output[f\"w_o_{output}\"] = df_output[f\"output_{output}\"].apply(return_input_width)\n",
    "#     df_output[f\"c_o_{output}\"] = df_output[f\"output_{output}\"].apply(return_channels)\n",
    "\n",
    "# df_output"
   ]
  },
  {
   "cell_type": "code",
   "execution_count": null,
   "metadata": {},
   "outputs": [],
   "source": [
    "# df_output[\"b_o_1\"].replace('None', np.nan, inplace=True)\n",
    "# df_output[\"w_o_1\"].replace('None', np.nan, inplace=True)\n",
    "# df_output[\"h_o_1\"].replace('None', np.nan, inplace=True)\n",
    "# df_output[\"c_o_1\"].replace('None', np.nan, inplace=True)\n",
    "# df_output.fillna(1, inplace=True)"
   ]
  },
  {
   "cell_type": "code",
   "execution_count": null,
   "metadata": {},
   "outputs": [],
   "source": [
    "# df_output[\"w_o_1\"] = df_output[\"w_o_1\"].map(int)\n",
    "# df_output[\"h_o_1\"] = df_output[\"h_o_1\"].map(int)\n",
    "# df_output[\"b_o_1\"] = df_output[\"b_o_1\"].map(int)\n",
    "# df_output[\"c_o_1\"] = df_output[\"c_o_1\"].map(int)"
   ]
  },
  {
   "attachments": {},
   "cell_type": "markdown",
   "metadata": {},
   "source": [
    "# Feature Engineering"
   ]
  },
  {
   "cell_type": "code",
   "execution_count": null,
   "metadata": {},
   "outputs": [],
   "source": [
    "def get_unique_values_without_nan(df,col_name):\n",
    "    \"\"\"Retrieve list of unique column values, excluding nan\n",
    "\n",
    "    Args:\n",
    "        df (pd.DataFrame): pandas dataframe that contains the required column\n",
    "        col_name (string): name of a column in the pandas dataframe\n",
    "\n",
    "    Returns:\n",
    "        list: list of extracted unique values of the specified column\n",
    "    \"\"\"\n",
    "    try:\n",
    "        value_list = df[col_name].unique().tolist()\n",
    "        # exclude nan\n",
    "        value_list = [item for item in value_list if str(item) != 'nan']\n",
    "        return value_list\n",
    "    except:\n",
    "        print(f\"WARNING: Colum name {col_name} is not in this dataframe!\")\n",
    "\n",
    "        return []"
   ]
  },
  {
   "cell_type": "code",
   "execution_count": null,
   "metadata": {},
   "outputs": [],
   "source": [
    "df = df.join(df_input)"
   ]
  },
  {
   "cell_type": "code",
   "execution_count": null,
   "metadata": {},
   "outputs": [],
   "source": [
    "df = df.join(df_output)"
   ]
  },
  {
   "cell_type": "code",
   "execution_count": null,
   "metadata": {},
   "outputs": [],
   "source": [
    "name_code =\"i_2\""
   ]
  },
  {
   "cell_type": "code",
   "execution_count": null,
   "metadata": {},
   "outputs": [],
   "source": [
    "def calculate_activations(x, name_code):\n",
    "    h_i = int(x[f\"h_{name_code}\"])\n",
    "    w_i = int(x[f\"w_{name_code}\"])\n",
    "    c_i = int(x[f\"c_{name_code}\"])\n",
    "    out = h_i * w_i * c_i\n",
    "    if out >1:\n",
    "        return out\n",
    "    else:\n",
    "        return 0"
   ]
  },
  {
   "cell_type": "code",
   "execution_count": null,
   "metadata": {},
   "outputs": [],
   "source": [
    "df[\"#i_1_activations\"] = df.apply(calculate_activations, name_code= \"i_1\", axis=1)#df_input[\"h_i_1\"] * df_input[\"w_i_1\"] * df_input[\"c_i_1\"]\n",
    "df[\"#o_1_activations\"] = df.apply(calculate_activations, name_code= \"o_1\", axis=1)#  df_output[\"h_o_1\"] * df_output[\"w_o_1\"] * df_output[\"c_o_1\"]"
   ]
  },
  {
   "cell_type": "code",
   "execution_count": null,
   "metadata": {},
   "outputs": [],
   "source": [
    "if \"b_i_2\" in input_cols:\n",
    "    df[\"#i_2_activations\"] = df.apply(calculate_activations, name_code=\"i_2\", axis=1)"
   ]
  },
  {
   "cell_type": "code",
   "execution_count": null,
   "metadata": {},
   "outputs": [],
   "source": [
    "df[\"#i_2_activations\"].value_counts()"
   ]
  },
  {
   "cell_type": "code",
   "execution_count": null,
   "metadata": {},
   "outputs": [],
   "source": [
    "if \"#i_2_activations\" in df.columns:\n",
    "    df[\"peak_activations\"] = df[\"#i_1_activations\"] + df[\"#i_2_activations\"] + df[\"#o_1_activations\"]\n",
    "else:\n",
    "    df[\"peak_activations\"] = df[\"#i_1_activations\"]  + df[\"#o_1_activations\"]    "
   ]
  },
  {
   "cell_type": "code",
   "execution_count": null,
   "metadata": {},
   "outputs": [],
   "source": [
    "unique_values = get_unique_values_without_nan(df, \"input_node_2\")\n",
    "unique_values"
   ]
  },
  {
   "cell_type": "code",
   "execution_count": null,
   "metadata": {},
   "outputs": [],
   "source": [
    "# fill activations from start node to end node\n",
    "\n",
    "for item in unique_values:\n",
    "    first_idx = df.loc[df[\"name\"] == item].index[0]\n",
    "    last_idx = df.loc[df[\"input_node_2\"] == item].index[0]\n",
    "\n",
    "    activations = df[\"#i_2_activations\"][last_idx]\n",
    "\n",
    "    # fill the corresponding rows with the extracted information\n",
    "    df.loc[first_idx: last_idx, \"#i_2_activations\"] = activations\n",
    "print(df[first_idx: last_idx+1])"
   ]
  },
  {
   "cell_type": "code",
   "execution_count": null,
   "metadata": {},
   "outputs": [],
   "source": [
    "df.columns"
   ]
  },
  {
   "cell_type": "code",
   "execution_count": null,
   "metadata": {},
   "outputs": [],
   "source": [
    "df[\"total_params\"] = df[\"params\"].cumsum()\n",
    "df[\"total_MACs\"] = df[\"MACS\"].cumsum()\n",
    "df[\"total_OPS\"] = df[\"OPS\"].cumsum()"
   ]
  },
  {
   "cell_type": "code",
   "execution_count": null,
   "metadata": {},
   "outputs": [],
   "source": [
    "# df[\"total_params\"].max()\n",
    "# df[\"peak_activations\"].argmax()"
   ]
  },
  {
   "cell_type": "code",
   "execution_count": null,
   "metadata": {},
   "outputs": [],
   "source": [
    "model_dict[\"model_name\"] = model_name\n",
    "model_dict[\"total_params\"] = df[\"total_params\"].max()\n",
    "model_dict[\"total_MACs\"] = df[\"total_MACs\"].max()\n",
    "model_dict[\"total OPS\"] = df[\"total_OPS\"].max()\n",
    "model_dict[\"peak_activations\"] = df[\"peak_activations\"].max()\n",
    "model_dict[\"index_peak_activations\"] = df[\"peak_activations\"].argmax()"
   ]
  },
  {
   "cell_type": "code",
   "execution_count": null,
   "metadata": {},
   "outputs": [],
   "source": [
    "model_dict"
   ]
  },
  {
   "cell_type": "code",
   "execution_count": null,
   "metadata": {},
   "outputs": [],
   "source": [
    "csv_file_name = \"model_metrics.csv\"\n",
    "csv_path = Path.cwd().joinpath(csv_file_name)\n",
    "append_dict_to_csv(csv_path, model_dict)"
   ]
  },
  {
   "cell_type": "code",
   "execution_count": null,
   "metadata": {},
   "outputs": [],
   "source": [
    "# file path for the cleaned dataframe\n",
    "df_filepath = models_dir.joinpath(f\"{model_name}/{model_name}.pkl\")"
   ]
  },
  {
   "cell_type": "code",
   "execution_count": null,
   "metadata": {},
   "outputs": [],
   "source": [
    "df.to_pickle(df_filepath)"
   ]
  },
  {
   "cell_type": "code",
   "execution_count": null,
   "metadata": {},
   "outputs": [],
   "source": [
    "df.columns"
   ]
  },
  {
   "cell_type": "code",
   "execution_count": null,
   "metadata": {},
   "outputs": [],
   "source": [
    "df.head(12)"
   ]
  },
  {
   "cell_type": "code",
   "execution_count": null,
   "metadata": {},
   "outputs": [],
   "source": [
    "df[\"input_shape\"].unique()"
   ]
  },
  {
   "attachments": {},
   "cell_type": "markdown",
   "metadata": {},
   "source": [
    "## Working with Activations"
   ]
  },
  {
   "cell_type": "code",
   "execution_count": null,
   "metadata": {},
   "outputs": [],
   "source": [
    "# unique_values = get_unique_values_without_nan(df, \"input_node_0\")\n",
    "# unique_values"
   ]
  },
  {
   "cell_type": "code",
   "execution_count": null,
   "metadata": {},
   "outputs": [],
   "source": [
    "\n",
    "# # fill activations from start node to end node\n",
    "\n",
    "# for item in unique_values:\n",
    "#     first_idx = df.loc[df[\"name\"] == item].index[0]\n",
    "#     last_idx = df.loc[df[\"input_node_0\"] == item].index[0]\n",
    "\n",
    "#     activations = df[\"#i_2_activations\"][last_idx]\n",
    "\n",
    "#     # fill the corresponding rows with the extracted information\n",
    "#     df.loc[first_idx: last_idx, \"#i_2_activations\"] = activations\n",
    "#     #print(df[first_idx: last_idx+1])"
   ]
  },
  {
   "cell_type": "code",
   "execution_count": null,
   "metadata": {},
   "outputs": [],
   "source": [
    "# df.columns"
   ]
  },
  {
   "cell_type": "code",
   "execution_count": null,
   "metadata": {},
   "outputs": [],
   "source": [
    "# activation_cols = [\"index\", \"name\", \"input_shape\", \"input_node_1\", \"#i_1_activations\" , \"input_node_0\", \"#i_2_activations\", \"input_shape\", \"input_node_type_1\", \"input_node_type_0\"]\n",
    "# df_activations = df[activation_cols].copy()\n",
    "# df_activations.head(20)"
   ]
  },
  {
   "cell_type": "code",
   "execution_count": null,
   "metadata": {},
   "outputs": [],
   "source": [
    "# # fill activations from start node to end node\n",
    "\n",
    "# for item in second_inputs:\n",
    "#     first_idx = df_activations.loc[df_activations[\"name\"] == item].index[0]\n",
    "#     last_idx = df_activations.loc[df_activations[\"input_node_0\"] == item].index[0]\n",
    "\n",
    "#     activations = df_activations[\"#i_2_activations\"][last_idx]\n",
    "#     df_activations.loc[first_idx: last_idx, \"#i_2_activations\"] = activations\n",
    "#     #print(df_activations[first_idx: last_idx+1])\n",
    "    \n",
    "\n",
    "    "
   ]
  },
  {
   "cell_type": "code",
   "execution_count": null,
   "metadata": {},
   "outputs": [],
   "source": [
    "#input_name = \"block_4_project_BN\""
   ]
  },
  {
   "cell_type": "code",
   "execution_count": null,
   "metadata": {},
   "outputs": [],
   "source": [
    "# first_idx = df.loc[df[\"name\"] == input_name].index[0]\n",
    "# last_idx = df.loc[df[\"input_node_2\"] == input_name].index[0]\n",
    "# last_idx"
   ]
  },
  {
   "cell_type": "code",
   "execution_count": null,
   "metadata": {},
   "outputs": [],
   "source": [
    "df[first_idx: last_idx+1]"
   ]
  },
  {
   "cell_type": "code",
   "execution_count": null,
   "metadata": {},
   "outputs": [],
   "source": []
  },
  {
   "cell_type": "code",
   "execution_count": null,
   "metadata": {},
   "outputs": [],
   "source": [
    "# df_activations.loc[last_idx]"
   ]
  },
  {
   "cell_type": "code",
   "execution_count": null,
   "metadata": {},
   "outputs": [],
   "source": [
    "# activations = df_activations[\"#i_2_activations\"][last_idx]\n",
    "# activations"
   ]
  },
  {
   "cell_type": "code",
   "execution_count": null,
   "metadata": {},
   "outputs": [],
   "source": [
    "# df_activations.loc[first_idx: last_idx, \"#i_2_activations\"] = activations\n",
    "# df_activations.head(30)"
   ]
  },
  {
   "attachments": {},
   "cell_type": "markdown",
   "metadata": {},
   "source": [
    "## Save cleaned dataframe"
   ]
  },
  {
   "cell_type": "code",
   "execution_count": null,
   "metadata": {},
   "outputs": [],
   "source": [
    "clean_df_filepath = models_dir.joinpath(f\"{model_name}/{model_name}_layers_clean.pkl\")\n",
    "\n",
    "#filepath = f\"i:/tinyml/tiny_cnn/models/{model_name}/{model_name}_layers.pkl\"\n",
    "df.to_pickle(clean_df_filepath)"
   ]
  },
  {
   "attachments": {},
   "cell_type": "markdown",
   "metadata": {},
   "source": [
    "# Load tflite model data"
   ]
  },
  {
   "cell_type": "code",
   "execution_count": 14,
   "metadata": {},
   "outputs": [],
   "source": [
    "#models_peak_memory_path = models_dir.joinpath(model_name, f\"{model_name}_peak_memory\")\n",
    "model_peak_memory_schedule = models_dir.joinpath(model_name, f\"{model_name}_peak_memory\", \"execution_schedule_info.csv\")\n",
    "peak_memory_tensor_details = models_dir.joinpath(model_name, f\"{model_name}_peak_memory\", \"tensor_details.csv\")"
   ]
  },
  {
   "cell_type": "code",
   "execution_count": 15,
   "metadata": {},
   "outputs": [
    {
     "name": "stdout",
     "output_type": "stream",
     "text": [
      "Reading in i:\\tinyml\\tiny_cnn\\models\\mobilenetv1_0.1_96_c3_o3_l2\\mobilenetv1_0.1_96_c3_o3_l2_peak_memory\\execution_schedule_info.csv\n",
      "Cleaning up the dataframe.\n"
     ]
    },
    {
     "data": {
      "text/html": [
       "<div>\n",
       "<style scoped>\n",
       "    .dataframe tbody tr th:only-of-type {\n",
       "        vertical-align: middle;\n",
       "    }\n",
       "\n",
       "    .dataframe tbody tr th {\n",
       "        vertical-align: top;\n",
       "    }\n",
       "\n",
       "    .dataframe thead th {\n",
       "        text-align: right;\n",
       "    }\n",
       "</style>\n",
       "<table border=\"1\" class=\"dataframe\">\n",
       "  <thead>\n",
       "    <tr style=\"text-align: right;\">\n",
       "      <th></th>\n",
       "      <th>name</th>\n",
       "      <th>tensor_IDs</th>\n",
       "      <th>RAM_b</th>\n",
       "      <th>operator</th>\n",
       "    </tr>\n",
       "  </thead>\n",
       "  <tbody>\n",
       "    <tr>\n",
       "      <th>0</th>\n",
       "      <td>tfl.quantize</td>\n",
       "      <td>(0, 49)</td>\n",
       "      <td>55296</td>\n",
       "      <td>tfl.quantize</td>\n",
       "    </tr>\n",
       "    <tr>\n",
       "      <th>1</th>\n",
       "      <td>conv2d</td>\n",
       "      <td>(49, 50)</td>\n",
       "      <td>34560</td>\n",
       "      <td>mobilenetv1/re_lu/Relu;mobilenetv1/batch_norma...</td>\n",
       "    </tr>\n",
       "    <tr>\n",
       "      <th>2</th>\n",
       "      <td>conv2d_11</td>\n",
       "      <td>(50, 51)</td>\n",
       "      <td>13824</td>\n",
       "      <td>mobilenetv1/re_lu_1/Relu;mobilenetv1/batch_nor...</td>\n",
       "    </tr>\n",
       "    <tr>\n",
       "      <th>3</th>\n",
       "      <td>conv2d_1</td>\n",
       "      <td>(51, 52)</td>\n",
       "      <td>20736</td>\n",
       "      <td>mobilenetv1/re_lu_2/Relu;mobilenetv1/batch_nor...</td>\n",
       "    </tr>\n",
       "    <tr>\n",
       "      <th>4</th>\n",
       "      <td>depthwise_conv2d_1</td>\n",
       "      <td>(52, 53)</td>\n",
       "      <td>17280</td>\n",
       "      <td>mobilenetv1/re_lu_3/Relu;mobilenetv1/batch_nor...</td>\n",
       "    </tr>\n",
       "    <tr>\n",
       "      <th>5</th>\n",
       "      <td>conv2d_2</td>\n",
       "      <td>(53, 54)</td>\n",
       "      <td>10368</td>\n",
       "      <td>mobilenetv1/re_lu_4/Relu;mobilenetv1/batch_nor...</td>\n",
       "    </tr>\n",
       "    <tr>\n",
       "      <th>6</th>\n",
       "      <td>depthwise_conv2d_3</td>\n",
       "      <td>(54, 55)</td>\n",
       "      <td>13824</td>\n",
       "      <td>mobilenetv1/re_lu_5/Relu;mobilenetv1/batch_nor...</td>\n",
       "    </tr>\n",
       "    <tr>\n",
       "      <th>7</th>\n",
       "      <td>conv2d_3</td>\n",
       "      <td>(55, 56)</td>\n",
       "      <td>13824</td>\n",
       "      <td>mobilenetv1/re_lu_6/Relu;mobilenetv1/batch_nor...</td>\n",
       "    </tr>\n",
       "    <tr>\n",
       "      <th>8</th>\n",
       "      <td>depthwise_conv2d_3</td>\n",
       "      <td>(56, 57)</td>\n",
       "      <td>8640</td>\n",
       "      <td>mobilenetv1/re_lu_7/Relu;mobilenetv1/batch_nor...</td>\n",
       "    </tr>\n",
       "    <tr>\n",
       "      <th>9</th>\n",
       "      <td>conv2d_4</td>\n",
       "      <td>(57, 58)</td>\n",
       "      <td>5328</td>\n",
       "      <td>mobilenetv1/re_lu_8/Relu;mobilenetv1/batch_nor...</td>\n",
       "    </tr>\n",
       "    <tr>\n",
       "      <th>10</th>\n",
       "      <td>depthwise_conv2d_5</td>\n",
       "      <td>(58, 59)</td>\n",
       "      <td>7200</td>\n",
       "      <td>mobilenetv1/re_lu_9/Relu;mobilenetv1/batch_nor...</td>\n",
       "    </tr>\n",
       "    <tr>\n",
       "      <th>11</th>\n",
       "      <td>conv2d_5</td>\n",
       "      <td>(59, 60)</td>\n",
       "      <td>7200</td>\n",
       "      <td>mobilenetv1/re_lu_10/Relu;mobilenetv1/batch_no...</td>\n",
       "    </tr>\n",
       "    <tr>\n",
       "      <th>12</th>\n",
       "      <td>depthwise_conv2d_5</td>\n",
       "      <td>(60, 61)</td>\n",
       "      <td>4500</td>\n",
       "      <td>mobilenetv1/re_lu_11/Relu;mobilenetv1/batch_no...</td>\n",
       "    </tr>\n",
       "    <tr>\n",
       "      <th>13</th>\n",
       "      <td>conv2d_6</td>\n",
       "      <td>(61, 62)</td>\n",
       "      <td>2736</td>\n",
       "      <td>mobilenetv1/re_lu_12/Relu;mobilenetv1/batch_no...</td>\n",
       "    </tr>\n",
       "    <tr>\n",
       "      <th>14</th>\n",
       "      <td>depthwise_conv2d_8</td>\n",
       "      <td>(62, 63)</td>\n",
       "      <td>3672</td>\n",
       "      <td>mobilenetv1/re_lu_13/Relu;mobilenetv1/batch_no...</td>\n",
       "    </tr>\n",
       "    <tr>\n",
       "      <th>15</th>\n",
       "      <td>conv2d_7</td>\n",
       "      <td>(63, 64)</td>\n",
       "      <td>3672</td>\n",
       "      <td>mobilenetv1/re_lu_14/Relu;mobilenetv1/batch_no...</td>\n",
       "    </tr>\n",
       "    <tr>\n",
       "      <th>16</th>\n",
       "      <td>depthwise_conv2d_8</td>\n",
       "      <td>(64, 65)</td>\n",
       "      <td>3672</td>\n",
       "      <td>mobilenetv1/re_lu_15/Relu;mobilenetv1/batch_no...</td>\n",
       "    </tr>\n",
       "    <tr>\n",
       "      <th>17</th>\n",
       "      <td>conv2d_8</td>\n",
       "      <td>(65, 66)</td>\n",
       "      <td>3672</td>\n",
       "      <td>mobilenetv1/re_lu_16/Relu;mobilenetv1/batch_no...</td>\n",
       "    </tr>\n",
       "    <tr>\n",
       "      <th>18</th>\n",
       "      <td>depthwise_conv2d_8</td>\n",
       "      <td>(66, 67)</td>\n",
       "      <td>2295</td>\n",
       "      <td>mobilenetv1/re_lu_17/Relu;mobilenetv1/batch_no...</td>\n",
       "    </tr>\n",
       "    <tr>\n",
       "      <th>19</th>\n",
       "      <td>conv2d_9</td>\n",
       "      <td>(68, 67)</td>\n",
       "      <td>1377</td>\n",
       "      <td>mobilenetv1/re_lu_18/Relu;mobilenetv1/batch_no...</td>\n",
       "    </tr>\n",
       "    <tr>\n",
       "      <th>20</th>\n",
       "      <td>conv2d_10</td>\n",
       "      <td>(68, 69)</td>\n",
       "      <td>1836</td>\n",
       "      <td>mobilenetv1/re_lu_19/Relu;mobilenetv1/batch_no...</td>\n",
       "    </tr>\n",
       "    <tr>\n",
       "      <th>21</th>\n",
       "      <td>conv2d_10</td>\n",
       "      <td>(69, 70)</td>\n",
       "      <td>1836</td>\n",
       "      <td>mobilenetv1/re_lu_20/Relu;mobilenetv1/batch_no...</td>\n",
       "    </tr>\n",
       "    <tr>\n",
       "      <th>22</th>\n",
       "      <td>global_average_pooling2d</td>\n",
       "      <td>(70, 71)</td>\n",
       "      <td>1020</td>\n",
       "      <td>mobilenetv1/global_average_pooling2d/Mean</td>\n",
       "    </tr>\n",
       "    <tr>\n",
       "      <th>23</th>\n",
       "      <td>conv2d_11</td>\n",
       "      <td>(71, 72)</td>\n",
       "      <td>105</td>\n",
       "      <td>mobilenetv1/conv2d_11/BiasAdd;mobilenetv1/conv...</td>\n",
       "    </tr>\n",
       "    <tr>\n",
       "      <th>24</th>\n",
       "      <td>reshape</td>\n",
       "      <td>(72, 73)</td>\n",
       "      <td>19</td>\n",
       "      <td>mobilenetv1/reshape/Shape</td>\n",
       "    </tr>\n",
       "    <tr>\n",
       "      <th>25</th>\n",
       "      <td>reshape</td>\n",
       "      <td>(72, 73, 74)</td>\n",
       "      <td>23</td>\n",
       "      <td>mobilenetv1/reshape/strided_slice</td>\n",
       "    </tr>\n",
       "    <tr>\n",
       "      <th>26</th>\n",
       "      <td>reshape</td>\n",
       "      <td>(72, 75, 74)</td>\n",
       "      <td>15</td>\n",
       "      <td>mobilenetv1/reshape/Reshape/shape</td>\n",
       "    </tr>\n",
       "    <tr>\n",
       "      <th>27</th>\n",
       "      <td>reshape</td>\n",
       "      <td>(72, 75, 76)</td>\n",
       "      <td>14</td>\n",
       "      <td>mobilenetv1/reshape/Reshape</td>\n",
       "    </tr>\n",
       "    <tr>\n",
       "      <th>28</th>\n",
       "      <td>StatefulPartitionedCall:01</td>\n",
       "      <td>(76, 77)</td>\n",
       "      <td>6</td>\n",
       "      <td>StatefulPartitionedCall:01</td>\n",
       "    </tr>\n",
       "    <tr>\n",
       "      <th>29</th>\n",
       "      <td>StatefulPartitionedCall:0</td>\n",
       "      <td>(77, 78)</td>\n",
       "      <td>6</td>\n",
       "      <td>StatefulPartitionedCall:0</td>\n",
       "    </tr>\n",
       "  </tbody>\n",
       "</table>\n",
       "</div>"
      ],
      "text/plain": [
       "                          name    tensor_IDs  RAM_b  \\\n",
       "0                 tfl.quantize       (0, 49)  55296   \n",
       "1                       conv2d      (49, 50)  34560   \n",
       "2                    conv2d_11      (50, 51)  13824   \n",
       "3                     conv2d_1      (51, 52)  20736   \n",
       "4           depthwise_conv2d_1      (52, 53)  17280   \n",
       "5                     conv2d_2      (53, 54)  10368   \n",
       "6           depthwise_conv2d_3      (54, 55)  13824   \n",
       "7                     conv2d_3      (55, 56)  13824   \n",
       "8           depthwise_conv2d_3      (56, 57)   8640   \n",
       "9                     conv2d_4      (57, 58)   5328   \n",
       "10          depthwise_conv2d_5      (58, 59)   7200   \n",
       "11                    conv2d_5      (59, 60)   7200   \n",
       "12          depthwise_conv2d_5      (60, 61)   4500   \n",
       "13                    conv2d_6      (61, 62)   2736   \n",
       "14          depthwise_conv2d_8      (62, 63)   3672   \n",
       "15                    conv2d_7      (63, 64)   3672   \n",
       "16          depthwise_conv2d_8      (64, 65)   3672   \n",
       "17                    conv2d_8      (65, 66)   3672   \n",
       "18          depthwise_conv2d_8      (66, 67)   2295   \n",
       "19                    conv2d_9      (68, 67)   1377   \n",
       "20                   conv2d_10      (68, 69)   1836   \n",
       "21                   conv2d_10      (69, 70)   1836   \n",
       "22    global_average_pooling2d      (70, 71)   1020   \n",
       "23                   conv2d_11      (71, 72)    105   \n",
       "24                     reshape      (72, 73)     19   \n",
       "25                     reshape  (72, 73, 74)     23   \n",
       "26                     reshape  (72, 75, 74)     15   \n",
       "27                     reshape  (72, 75, 76)     14   \n",
       "28  StatefulPartitionedCall:01      (76, 77)      6   \n",
       "29   StatefulPartitionedCall:0      (77, 78)      6   \n",
       "\n",
       "                                             operator  \n",
       "0                                        tfl.quantize  \n",
       "1   mobilenetv1/re_lu/Relu;mobilenetv1/batch_norma...  \n",
       "2   mobilenetv1/re_lu_1/Relu;mobilenetv1/batch_nor...  \n",
       "3   mobilenetv1/re_lu_2/Relu;mobilenetv1/batch_nor...  \n",
       "4   mobilenetv1/re_lu_3/Relu;mobilenetv1/batch_nor...  \n",
       "5   mobilenetv1/re_lu_4/Relu;mobilenetv1/batch_nor...  \n",
       "6   mobilenetv1/re_lu_5/Relu;mobilenetv1/batch_nor...  \n",
       "7   mobilenetv1/re_lu_6/Relu;mobilenetv1/batch_nor...  \n",
       "8   mobilenetv1/re_lu_7/Relu;mobilenetv1/batch_nor...  \n",
       "9   mobilenetv1/re_lu_8/Relu;mobilenetv1/batch_nor...  \n",
       "10  mobilenetv1/re_lu_9/Relu;mobilenetv1/batch_nor...  \n",
       "11  mobilenetv1/re_lu_10/Relu;mobilenetv1/batch_no...  \n",
       "12  mobilenetv1/re_lu_11/Relu;mobilenetv1/batch_no...  \n",
       "13  mobilenetv1/re_lu_12/Relu;mobilenetv1/batch_no...  \n",
       "14  mobilenetv1/re_lu_13/Relu;mobilenetv1/batch_no...  \n",
       "15  mobilenetv1/re_lu_14/Relu;mobilenetv1/batch_no...  \n",
       "16  mobilenetv1/re_lu_15/Relu;mobilenetv1/batch_no...  \n",
       "17  mobilenetv1/re_lu_16/Relu;mobilenetv1/batch_no...  \n",
       "18  mobilenetv1/re_lu_17/Relu;mobilenetv1/batch_no...  \n",
       "19  mobilenetv1/re_lu_18/Relu;mobilenetv1/batch_no...  \n",
       "20  mobilenetv1/re_lu_19/Relu;mobilenetv1/batch_no...  \n",
       "21  mobilenetv1/re_lu_20/Relu;mobilenetv1/batch_no...  \n",
       "22          mobilenetv1/global_average_pooling2d/Mean  \n",
       "23  mobilenetv1/conv2d_11/BiasAdd;mobilenetv1/conv...  \n",
       "24                          mobilenetv1/reshape/Shape  \n",
       "25                  mobilenetv1/reshape/strided_slice  \n",
       "26                  mobilenetv1/reshape/Reshape/shape  \n",
       "27                        mobilenetv1/reshape/Reshape  \n",
       "28                         StatefulPartitionedCall:01  \n",
       "29                          StatefulPartitionedCall:0  "
      ]
     },
     "execution_count": 15,
     "metadata": {},
     "output_type": "execute_result"
    }
   ],
   "source": [
    "peak_memory_df = get_peak_memory_df(model_peak_memory_schedule)\n",
    "peak_memory_df"
   ]
  },
  {
   "cell_type": "code",
   "execution_count": 16,
   "metadata": {},
   "outputs": [
    {
     "data": {
      "text/plain": [
       "WindowsPath('i:/tinyml/tiny_cnn/models/mobilenetv1_0.1_96_c3_o3_l2/tensor_info_df')"
      ]
     },
     "execution_count": 16,
     "metadata": {},
     "output_type": "execute_result"
    }
   ],
   "source": [
    "# Get dataframes from benchmarking tflite model \n",
    "models_peak_memory_df_path = models_dir.joinpath(model_name, \"peak_memory_df\")\n",
    "models_peak_memory_df_path\n",
    "\n",
    "tensor_info_df_path = models_dir.joinpath(model_name, \"tensor_info_df\")\n",
    "tensor_info_df_path"
   ]
  },
  {
   "cell_type": "code",
   "execution_count": 17,
   "metadata": {},
   "outputs": [
    {
     "name": "stdout",
     "output_type": "stream",
     "text": [
      "Reading in i:\\tinyml\\tiny_cnn\\models\\mobilenetv1_0.1_96_c3_o3_l2\\mobilenetv1_0.1_96_c3_o3_l2_peak_memory\\tensor_details.csv\n",
      "Cleaning up the dataframe.\n"
     ]
    },
    {
     "data": {
      "text/html": [
       "<div>\n",
       "<style scoped>\n",
       "    .dataframe tbody tr th:only-of-type {\n",
       "        vertical-align: middle;\n",
       "    }\n",
       "\n",
       "    .dataframe tbody tr th {\n",
       "        vertical-align: top;\n",
       "    }\n",
       "\n",
       "    .dataframe thead th {\n",
       "        text-align: right;\n",
       "    }\n",
       "</style>\n",
       "<table border=\"1\" class=\"dataframe\">\n",
       "  <thead>\n",
       "    <tr style=\"text-align: right;\">\n",
       "      <th></th>\n",
       "      <th>id</th>\n",
       "      <th>name</th>\n",
       "      <th>shape</th>\n",
       "      <th>size_b</th>\n",
       "      <th>name_long</th>\n",
       "    </tr>\n",
       "  </thead>\n",
       "  <tbody>\n",
       "    <tr>\n",
       "      <th>0</th>\n",
       "      <td>0</td>\n",
       "      <td>serving_default_input_1:0</td>\n",
       "      <td>(1, 96, 96, 3)</td>\n",
       "      <td>27648</td>\n",
       "      <td>serving_default_input_1:0</td>\n",
       "    </tr>\n",
       "    <tr>\n",
       "      <th>1</th>\n",
       "      <td>49</td>\n",
       "      <td>tfl.quantize</td>\n",
       "      <td>(1, 96, 96, 3)</td>\n",
       "      <td>27648</td>\n",
       "      <td>tfl.quantize</td>\n",
       "    </tr>\n",
       "    <tr>\n",
       "      <th>2</th>\n",
       "      <td>50</td>\n",
       "      <td>mobilenetv1/conv2d/Conv2D1</td>\n",
       "      <td>(1, 48, 48, 3)</td>\n",
       "      <td>6912</td>\n",
       "      <td>mobilenetv1/re_lu/Relu;mobilenetv1/batch_norma...</td>\n",
       "    </tr>\n",
       "    <tr>\n",
       "      <th>3</th>\n",
       "      <td>51</td>\n",
       "      <td>mobilenetv1/conv2d_11/Conv2D1</td>\n",
       "      <td>(1, 48, 48, 3)</td>\n",
       "      <td>6912</td>\n",
       "      <td>mobilenetv1/re_lu_1/Relu;mobilenetv1/batch_nor...</td>\n",
       "    </tr>\n",
       "    <tr>\n",
       "      <th>4</th>\n",
       "      <td>52</td>\n",
       "      <td>mobilenetv1/conv2d_1/Conv2D1</td>\n",
       "      <td>(1, 48, 48, 6)</td>\n",
       "      <td>13824</td>\n",
       "      <td>mobilenetv1/re_lu_2/Relu;mobilenetv1/batch_nor...</td>\n",
       "    </tr>\n",
       "    <tr>\n",
       "      <th>5</th>\n",
       "      <td>53</td>\n",
       "      <td>mobilenetv1/depthwise_conv2d_1/BiasAdd1</td>\n",
       "      <td>(1, 24, 24, 6)</td>\n",
       "      <td>3456</td>\n",
       "      <td>mobilenetv1/re_lu_3/Relu;mobilenetv1/batch_nor...</td>\n",
       "    </tr>\n",
       "    <tr>\n",
       "      <th>6</th>\n",
       "      <td>54</td>\n",
       "      <td>mobilenetv1/conv2d_2/Conv2D1</td>\n",
       "      <td>(1, 24, 24, 12)</td>\n",
       "      <td>6912</td>\n",
       "      <td>mobilenetv1/re_lu_4/Relu;mobilenetv1/batch_nor...</td>\n",
       "    </tr>\n",
       "    <tr>\n",
       "      <th>7</th>\n",
       "      <td>55</td>\n",
       "      <td>mobilenetv1/depthwise_conv2d_3/depthwise1</td>\n",
       "      <td>(1, 24, 24, 12)</td>\n",
       "      <td>6912</td>\n",
       "      <td>mobilenetv1/re_lu_5/Relu;mobilenetv1/batch_nor...</td>\n",
       "    </tr>\n",
       "    <tr>\n",
       "      <th>8</th>\n",
       "      <td>56</td>\n",
       "      <td>mobilenetv1/conv2d_3/Conv2D1</td>\n",
       "      <td>(1, 24, 24, 12)</td>\n",
       "      <td>6912</td>\n",
       "      <td>mobilenetv1/re_lu_6/Relu;mobilenetv1/batch_nor...</td>\n",
       "    </tr>\n",
       "    <tr>\n",
       "      <th>9</th>\n",
       "      <td>57</td>\n",
       "      <td>mobilenetv1/depthwise_conv2d_3/BiasAdd1</td>\n",
       "      <td>(1, 12, 12, 12)</td>\n",
       "      <td>1728</td>\n",
       "      <td>mobilenetv1/re_lu_7/Relu;mobilenetv1/batch_nor...</td>\n",
       "    </tr>\n",
       "    <tr>\n",
       "      <th>10</th>\n",
       "      <td>58</td>\n",
       "      <td>mobilenetv1/conv2d_4/Conv2D1</td>\n",
       "      <td>(1, 12, 12, 25)</td>\n",
       "      <td>3600</td>\n",
       "      <td>mobilenetv1/re_lu_8/Relu;mobilenetv1/batch_nor...</td>\n",
       "    </tr>\n",
       "    <tr>\n",
       "      <th>11</th>\n",
       "      <td>59</td>\n",
       "      <td>mobilenetv1/depthwise_conv2d_5/depthwise1</td>\n",
       "      <td>(1, 12, 12, 25)</td>\n",
       "      <td>3600</td>\n",
       "      <td>mobilenetv1/re_lu_9/Relu;mobilenetv1/batch_nor...</td>\n",
       "    </tr>\n",
       "    <tr>\n",
       "      <th>12</th>\n",
       "      <td>60</td>\n",
       "      <td>mobilenetv1/conv2d_5/Conv2D1</td>\n",
       "      <td>(1, 12, 12, 25)</td>\n",
       "      <td>3600</td>\n",
       "      <td>mobilenetv1/re_lu_10/Relu;mobilenetv1/batch_no...</td>\n",
       "    </tr>\n",
       "    <tr>\n",
       "      <th>13</th>\n",
       "      <td>61</td>\n",
       "      <td>mobilenetv1/depthwise_conv2d_5/BiasAdd1</td>\n",
       "      <td>(1, 6, 6, 25)</td>\n",
       "      <td>900</td>\n",
       "      <td>mobilenetv1/re_lu_11/Relu;mobilenetv1/batch_no...</td>\n",
       "    </tr>\n",
       "    <tr>\n",
       "      <th>14</th>\n",
       "      <td>62</td>\n",
       "      <td>mobilenetv1/conv2d_6/Conv2D1</td>\n",
       "      <td>(1, 6, 6, 51)</td>\n",
       "      <td>1836</td>\n",
       "      <td>mobilenetv1/re_lu_12/Relu;mobilenetv1/batch_no...</td>\n",
       "    </tr>\n",
       "    <tr>\n",
       "      <th>15</th>\n",
       "      <td>63</td>\n",
       "      <td>mobilenetv1/depthwise_conv2d_8/depthwise1</td>\n",
       "      <td>(1, 6, 6, 51)</td>\n",
       "      <td>1836</td>\n",
       "      <td>mobilenetv1/re_lu_13/Relu;mobilenetv1/batch_no...</td>\n",
       "    </tr>\n",
       "    <tr>\n",
       "      <th>16</th>\n",
       "      <td>64</td>\n",
       "      <td>mobilenetv1/conv2d_7/Conv2D1</td>\n",
       "      <td>(1, 6, 6, 51)</td>\n",
       "      <td>1836</td>\n",
       "      <td>mobilenetv1/re_lu_14/Relu;mobilenetv1/batch_no...</td>\n",
       "    </tr>\n",
       "    <tr>\n",
       "      <th>17</th>\n",
       "      <td>65</td>\n",
       "      <td>mobilenetv1/depthwise_conv2d_8/depthwise1</td>\n",
       "      <td>(1, 6, 6, 51)</td>\n",
       "      <td>1836</td>\n",
       "      <td>mobilenetv1/re_lu_15/Relu;mobilenetv1/batch_no...</td>\n",
       "    </tr>\n",
       "    <tr>\n",
       "      <th>18</th>\n",
       "      <td>66</td>\n",
       "      <td>mobilenetv1/conv2d_8/Conv2D1</td>\n",
       "      <td>(1, 6, 6, 51)</td>\n",
       "      <td>1836</td>\n",
       "      <td>mobilenetv1/re_lu_16/Relu;mobilenetv1/batch_no...</td>\n",
       "    </tr>\n",
       "    <tr>\n",
       "      <th>19</th>\n",
       "      <td>67</td>\n",
       "      <td>mobilenetv1/depthwise_conv2d_8/BiasAdd1</td>\n",
       "      <td>(1, 3, 3, 51)</td>\n",
       "      <td>459</td>\n",
       "      <td>mobilenetv1/re_lu_17/Relu;mobilenetv1/batch_no...</td>\n",
       "    </tr>\n",
       "    <tr>\n",
       "      <th>20</th>\n",
       "      <td>68</td>\n",
       "      <td>mobilenetv1/conv2d_9/Conv2D1</td>\n",
       "      <td>(1, 3, 3, 102)</td>\n",
       "      <td>918</td>\n",
       "      <td>mobilenetv1/re_lu_18/Relu;mobilenetv1/batch_no...</td>\n",
       "    </tr>\n",
       "    <tr>\n",
       "      <th>21</th>\n",
       "      <td>69</td>\n",
       "      <td>mobilenetv1/conv2d_10/Conv2D1</td>\n",
       "      <td>(1, 3, 3, 102)</td>\n",
       "      <td>918</td>\n",
       "      <td>mobilenetv1/re_lu_19/Relu;mobilenetv1/batch_no...</td>\n",
       "    </tr>\n",
       "    <tr>\n",
       "      <th>22</th>\n",
       "      <td>70</td>\n",
       "      <td>mobilenetv1/conv2d_10/Conv2D</td>\n",
       "      <td>(1, 3, 3, 102)</td>\n",
       "      <td>918</td>\n",
       "      <td>mobilenetv1/re_lu_20/Relu;mobilenetv1/batch_no...</td>\n",
       "    </tr>\n",
       "    <tr>\n",
       "      <th>23</th>\n",
       "      <td>71</td>\n",
       "      <td>mobilenetv1/global_average_pooling2d/Mean</td>\n",
       "      <td>(1, 1, 1, 102)</td>\n",
       "      <td>102</td>\n",
       "      <td>global_average_pooling2d</td>\n",
       "    </tr>\n",
       "    <tr>\n",
       "      <th>24</th>\n",
       "      <td>72</td>\n",
       "      <td>mobilenetv1/conv2d_11/BiasAdd/ReadVariableOp</td>\n",
       "      <td>(1, 1, 1, 3)</td>\n",
       "      <td>3</td>\n",
       "      <td>mobilenetv1/conv2d_11/BiasAdd;mobilenetv1/conv...</td>\n",
       "    </tr>\n",
       "    <tr>\n",
       "      <th>25</th>\n",
       "      <td>73</td>\n",
       "      <td>mobilenetv1/reshape/Shape</td>\n",
       "      <td>(4)</td>\n",
       "      <td>16</td>\n",
       "      <td>reshape</td>\n",
       "    </tr>\n",
       "    <tr>\n",
       "      <th>26</th>\n",
       "      <td>74</td>\n",
       "      <td>mobilenetv1/reshape/strided_slice</td>\n",
       "      <td>(0)</td>\n",
       "      <td>4</td>\n",
       "      <td>reshape</td>\n",
       "    </tr>\n",
       "    <tr>\n",
       "      <th>27</th>\n",
       "      <td>75</td>\n",
       "      <td>mobilenetv1/reshape/Reshape/shape</td>\n",
       "      <td>(2)</td>\n",
       "      <td>8</td>\n",
       "      <td>reshape</td>\n",
       "    </tr>\n",
       "    <tr>\n",
       "      <th>28</th>\n",
       "      <td>76</td>\n",
       "      <td>mobilenetv1/reshape/Reshape</td>\n",
       "      <td>(1, 3)</td>\n",
       "      <td>3</td>\n",
       "      <td>reshape</td>\n",
       "    </tr>\n",
       "    <tr>\n",
       "      <th>29</th>\n",
       "      <td>77</td>\n",
       "      <td>StatefulPartitionedCall:01</td>\n",
       "      <td>(1, 3)</td>\n",
       "      <td>3</td>\n",
       "      <td>StatefulPartitionedCall:01</td>\n",
       "    </tr>\n",
       "    <tr>\n",
       "      <th>30</th>\n",
       "      <td>78</td>\n",
       "      <td>StatefulPartitionedCall:0</td>\n",
       "      <td>(1, 3)</td>\n",
       "      <td>3</td>\n",
       "      <td>StatefulPartitionedCall:0</td>\n",
       "    </tr>\n",
       "  </tbody>\n",
       "</table>\n",
       "</div>"
      ],
      "text/plain": [
       "    id                                          name            shape  size_b  \\\n",
       "0    0                     serving_default_input_1:0   (1, 96, 96, 3)   27648   \n",
       "1   49                                  tfl.quantize   (1, 96, 96, 3)   27648   \n",
       "2   50                    mobilenetv1/conv2d/Conv2D1   (1, 48, 48, 3)    6912   \n",
       "3   51                 mobilenetv1/conv2d_11/Conv2D1   (1, 48, 48, 3)    6912   \n",
       "4   52                  mobilenetv1/conv2d_1/Conv2D1   (1, 48, 48, 6)   13824   \n",
       "5   53       mobilenetv1/depthwise_conv2d_1/BiasAdd1   (1, 24, 24, 6)    3456   \n",
       "6   54                  mobilenetv1/conv2d_2/Conv2D1  (1, 24, 24, 12)    6912   \n",
       "7   55     mobilenetv1/depthwise_conv2d_3/depthwise1  (1, 24, 24, 12)    6912   \n",
       "8   56                  mobilenetv1/conv2d_3/Conv2D1  (1, 24, 24, 12)    6912   \n",
       "9   57       mobilenetv1/depthwise_conv2d_3/BiasAdd1  (1, 12, 12, 12)    1728   \n",
       "10  58                  mobilenetv1/conv2d_4/Conv2D1  (1, 12, 12, 25)    3600   \n",
       "11  59     mobilenetv1/depthwise_conv2d_5/depthwise1  (1, 12, 12, 25)    3600   \n",
       "12  60                  mobilenetv1/conv2d_5/Conv2D1  (1, 12, 12, 25)    3600   \n",
       "13  61       mobilenetv1/depthwise_conv2d_5/BiasAdd1    (1, 6, 6, 25)     900   \n",
       "14  62                  mobilenetv1/conv2d_6/Conv2D1    (1, 6, 6, 51)    1836   \n",
       "15  63     mobilenetv1/depthwise_conv2d_8/depthwise1    (1, 6, 6, 51)    1836   \n",
       "16  64                  mobilenetv1/conv2d_7/Conv2D1    (1, 6, 6, 51)    1836   \n",
       "17  65     mobilenetv1/depthwise_conv2d_8/depthwise1    (1, 6, 6, 51)    1836   \n",
       "18  66                  mobilenetv1/conv2d_8/Conv2D1    (1, 6, 6, 51)    1836   \n",
       "19  67       mobilenetv1/depthwise_conv2d_8/BiasAdd1    (1, 3, 3, 51)     459   \n",
       "20  68                  mobilenetv1/conv2d_9/Conv2D1   (1, 3, 3, 102)     918   \n",
       "21  69                 mobilenetv1/conv2d_10/Conv2D1   (1, 3, 3, 102)     918   \n",
       "22  70                  mobilenetv1/conv2d_10/Conv2D   (1, 3, 3, 102)     918   \n",
       "23  71     mobilenetv1/global_average_pooling2d/Mean   (1, 1, 1, 102)     102   \n",
       "24  72  mobilenetv1/conv2d_11/BiasAdd/ReadVariableOp     (1, 1, 1, 3)       3   \n",
       "25  73                     mobilenetv1/reshape/Shape              (4)      16   \n",
       "26  74             mobilenetv1/reshape/strided_slice              (0)       4   \n",
       "27  75             mobilenetv1/reshape/Reshape/shape              (2)       8   \n",
       "28  76                   mobilenetv1/reshape/Reshape           (1, 3)       3   \n",
       "29  77                    StatefulPartitionedCall:01           (1, 3)       3   \n",
       "30  78                     StatefulPartitionedCall:0           (1, 3)       3   \n",
       "\n",
       "                                            name_long  \n",
       "0                           serving_default_input_1:0  \n",
       "1                                        tfl.quantize  \n",
       "2   mobilenetv1/re_lu/Relu;mobilenetv1/batch_norma...  \n",
       "3   mobilenetv1/re_lu_1/Relu;mobilenetv1/batch_nor...  \n",
       "4   mobilenetv1/re_lu_2/Relu;mobilenetv1/batch_nor...  \n",
       "5   mobilenetv1/re_lu_3/Relu;mobilenetv1/batch_nor...  \n",
       "6   mobilenetv1/re_lu_4/Relu;mobilenetv1/batch_nor...  \n",
       "7   mobilenetv1/re_lu_5/Relu;mobilenetv1/batch_nor...  \n",
       "8   mobilenetv1/re_lu_6/Relu;mobilenetv1/batch_nor...  \n",
       "9   mobilenetv1/re_lu_7/Relu;mobilenetv1/batch_nor...  \n",
       "10  mobilenetv1/re_lu_8/Relu;mobilenetv1/batch_nor...  \n",
       "11  mobilenetv1/re_lu_9/Relu;mobilenetv1/batch_nor...  \n",
       "12  mobilenetv1/re_lu_10/Relu;mobilenetv1/batch_no...  \n",
       "13  mobilenetv1/re_lu_11/Relu;mobilenetv1/batch_no...  \n",
       "14  mobilenetv1/re_lu_12/Relu;mobilenetv1/batch_no...  \n",
       "15  mobilenetv1/re_lu_13/Relu;mobilenetv1/batch_no...  \n",
       "16  mobilenetv1/re_lu_14/Relu;mobilenetv1/batch_no...  \n",
       "17  mobilenetv1/re_lu_15/Relu;mobilenetv1/batch_no...  \n",
       "18  mobilenetv1/re_lu_16/Relu;mobilenetv1/batch_no...  \n",
       "19  mobilenetv1/re_lu_17/Relu;mobilenetv1/batch_no...  \n",
       "20  mobilenetv1/re_lu_18/Relu;mobilenetv1/batch_no...  \n",
       "21  mobilenetv1/re_lu_19/Relu;mobilenetv1/batch_no...  \n",
       "22  mobilenetv1/re_lu_20/Relu;mobilenetv1/batch_no...  \n",
       "23                           global_average_pooling2d  \n",
       "24  mobilenetv1/conv2d_11/BiasAdd;mobilenetv1/conv...  \n",
       "25                                            reshape  \n",
       "26                                            reshape  \n",
       "27                                            reshape  \n",
       "28                                            reshape  \n",
       "29                         StatefulPartitionedCall:01  \n",
       "30                          StatefulPartitionedCall:0  "
      ]
     },
     "execution_count": 17,
     "metadata": {},
     "output_type": "execute_result"
    }
   ],
   "source": [
    "tensor_df = get_tensor_details_df(peak_memory_tensor_details)\n",
    "tensor_df"
   ]
  },
  {
   "cell_type": "code",
   "execution_count": null,
   "metadata": {},
   "outputs": [],
   "source": [
    "# if tensor_info_df_path.is_file:\n",
    "#     tensor_info_df = pd.read_pickle(tensor_info_df_path)\n",
    "#     tensor_info_df\n",
    "# else:\n",
    "#     print(f\"This file does not exist: {tensor_info_df_path}\")"
   ]
  },
  {
   "cell_type": "code",
   "execution_count": null,
   "metadata": {},
   "outputs": [],
   "source": [
    "# peak_memory_df = pd.read_pickle(models_peak_memory_df_path)\n",
    "# peak_memory_df"
   ]
  },
  {
   "attachments": {},
   "cell_type": "markdown",
   "metadata": {},
   "source": [
    "# Visualizations"
   ]
  },
  {
   "cell_type": "code",
   "execution_count": null,
   "metadata": {},
   "outputs": [],
   "source": [
    "# fig = px.bar(df, x=\"name\", y= [\"#i_1_activations\",\"#i_2_activations\", \"#o_1_activations\"], text_auto=\".2s\",\n",
    "# width=1400, height=500,\n",
    "#     title=f\"Peak activations per layer - {model_name}\")\n",
    "# fig.add_hline(y=256000, line_width=3, line_dash=\"dash\", line_color=\"orange\", annotation_text=\"256 kB MCU constraint\", \n",
    "#               annotation_position=\"bottom right\")\n",
    "# fig.update_layout(yaxis_range=[0,300000])\n",
    "# #fig.update_layout(showlegend=True)\n",
    "# fig.show()"
   ]
  },
  {
   "cell_type": "code",
   "execution_count": 32,
   "metadata": {},
   "outputs": [
    {
     "data": {
      "application/vnd.plotly.v1+json": {
       "config": {
        "plotlyServerURL": "https://plot.ly"
       },
       "data": [
        {
         "alignmentgroup": "True",
         "hovertemplate": "variable=RAM_b<br>operator=%{x}<br>value=%{y}<extra></extra>",
         "legendgroup": "RAM_b",
         "marker": {
          "color": "#636efa",
          "pattern": {
           "shape": ""
          }
         },
         "name": "RAM_b",
         "offsetgroup": "RAM_b",
         "orientation": "v",
         "showlegend": true,
         "textposition": "auto",
         "texttemplate": "%{y:.2s}",
         "type": "bar",
         "width": 1,
         "x": [
          "tfl.quantize",
          "mobilenetv1/re_lu/Relu;mobilenetv1/batch_normalization/FusedBatchNormV3;mobilenetv1/conv2d/BiasAdd/ReadVariableOp;mobilenetv1/conv2d/BiasAdd;mobilenetv1/conv2d_11/Conv2D;mobilenetv1/conv2d/Conv2D1",
          "mobilenetv1/re_lu_1/Relu;mobilenetv1/batch_normalization_1/FusedBatchNormV3;mobilenetv1/depthwise_conv2d/depthwise;mobilenetv1/depthwise_conv2d/BiasAdd/ReadVariableOp;mobilenetv1/depthwise_conv2d/BiasAdd;mobilenetv1/conv2d_11/Conv2D1",
          "mobilenetv1/re_lu_2/Relu;mobilenetv1/batch_normalization_2/FusedBatchNormV3;mobilenetv1/conv2d_1/BiasAdd/ReadVariableOp;mobilenetv1/conv2d_1/BiasAdd;mobilenetv1/depthwise_conv2d_1/depthwise;mobilenetv1/conv2d_1/Conv2D1",
          "mobilenetv1/re_lu_3/Relu;mobilenetv1/batch_normalization_3/FusedBatchNormV3;mobilenetv1/depthwise_conv2d_1/depthwise;mobilenetv1/depthwise_conv2d_1/BiasAdd/ReadVariableOp;mobilenetv1/depthwise_conv2d_1/BiasAdd1",
          "mobilenetv1/re_lu_4/Relu;mobilenetv1/batch_normalization_4/FusedBatchNormV3;mobilenetv1/conv2d_2/BiasAdd/ReadVariableOp;mobilenetv1/conv2d_2/BiasAdd;mobilenetv1/depthwise_conv2d_3/depthwise;mobilenetv1/conv2d_2/Conv2D1",
          "mobilenetv1/re_lu_5/Relu;mobilenetv1/batch_normalization_5/FusedBatchNormV3;mobilenetv1/depthwise_conv2d_2/depthwise;mobilenetv1/depthwise_conv2d_2/BiasAdd/ReadVariableOp;mobilenetv1/depthwise_conv2d_2/BiasAdd;mobilenetv1/depthwise_conv2d_3/depthwise1",
          "mobilenetv1/re_lu_6/Relu;mobilenetv1/batch_normalization_6/FusedBatchNormV3;mobilenetv1/conv2d_3/BiasAdd/ReadVariableOp;mobilenetv1/conv2d_3/BiasAdd;mobilenetv1/depthwise_conv2d_3/depthwise;mobilenetv1/conv2d_3/Conv2D1",
          "mobilenetv1/re_lu_7/Relu;mobilenetv1/batch_normalization_7/FusedBatchNormV3;mobilenetv1/depthwise_conv2d_3/depthwise;mobilenetv1/depthwise_conv2d_3/BiasAdd/ReadVariableOp;mobilenetv1/depthwise_conv2d_3/BiasAdd1",
          "mobilenetv1/re_lu_8/Relu;mobilenetv1/batch_normalization_8/FusedBatchNormV3;mobilenetv1/conv2d_4/BiasAdd/ReadVariableOp;mobilenetv1/conv2d_4/BiasAdd;mobilenetv1/depthwise_conv2d_5/depthwise;mobilenetv1/conv2d_4/Conv2D1",
          "mobilenetv1/re_lu_9/Relu;mobilenetv1/batch_normalization_9/FusedBatchNormV3;mobilenetv1/depthwise_conv2d_4/depthwise;mobilenetv1/depthwise_conv2d_4/BiasAdd/ReadVariableOp;mobilenetv1/depthwise_conv2d_4/BiasAdd;mobilenetv1/depthwise_conv2d_5/depthwise1",
          "mobilenetv1/re_lu_10/Relu;mobilenetv1/batch_normalization_10/FusedBatchNormV3;mobilenetv1/conv2d_5/BiasAdd/ReadVariableOp;mobilenetv1/conv2d_5/BiasAdd;mobilenetv1/depthwise_conv2d_5/depthwise;mobilenetv1/conv2d_5/Conv2D1",
          "mobilenetv1/re_lu_11/Relu;mobilenetv1/batch_normalization_11/FusedBatchNormV3;mobilenetv1/depthwise_conv2d_5/depthwise;mobilenetv1/depthwise_conv2d_5/BiasAdd/ReadVariableOp;mobilenetv1/depthwise_conv2d_5/BiasAdd1",
          "mobilenetv1/re_lu_12/Relu;mobilenetv1/batch_normalization_12/FusedBatchNormV3;mobilenetv1/conv2d_6/BiasAdd/ReadVariableOp;mobilenetv1/conv2d_6/BiasAdd;mobilenetv1/depthwise_conv2d_8/depthwise;mobilenetv1/conv2d_6/Conv2D1",
          "mobilenetv1/re_lu_13/Relu;mobilenetv1/batch_normalization_13/FusedBatchNormV3;mobilenetv1/depthwise_conv2d_6/depthwise;mobilenetv1/depthwise_conv2d_6/BiasAdd/ReadVariableOp;mobilenetv1/depthwise_conv2d_6/BiasAdd;mobilenetv1/depthwise_conv2d_8/depthwise1",
          "mobilenetv1/re_lu_14/Relu;mobilenetv1/batch_normalization_14/FusedBatchNormV3;mobilenetv1/conv2d_7/BiasAdd/ReadVariableOp;mobilenetv1/conv2d_7/BiasAdd;mobilenetv1/depthwise_conv2d_8/depthwise;mobilenetv1/conv2d_7/Conv2D1",
          "mobilenetv1/re_lu_15/Relu;mobilenetv1/batch_normalization_15/FusedBatchNormV3;mobilenetv1/depthwise_conv2d_7/depthwise;mobilenetv1/depthwise_conv2d_7/BiasAdd/ReadVariableOp;mobilenetv1/depthwise_conv2d_7/BiasAdd;mobilenetv1/depthwise_conv2d_8/depthwise1",
          "mobilenetv1/re_lu_16/Relu;mobilenetv1/batch_normalization_16/FusedBatchNormV3;mobilenetv1/conv2d_8/BiasAdd/ReadVariableOp;mobilenetv1/conv2d_8/BiasAdd;mobilenetv1/depthwise_conv2d_8/depthwise;mobilenetv1/conv2d_8/Conv2D1",
          "mobilenetv1/re_lu_17/Relu;mobilenetv1/batch_normalization_17/FusedBatchNormV3;mobilenetv1/depthwise_conv2d_8/depthwise;mobilenetv1/depthwise_conv2d_8/BiasAdd/ReadVariableOp;mobilenetv1/depthwise_conv2d_8/BiasAdd1",
          "mobilenetv1/re_lu_18/Relu;mobilenetv1/batch_normalization_18/FusedBatchNormV3;mobilenetv1/conv2d_9/BiasAdd/ReadVariableOp;mobilenetv1/conv2d_9/BiasAdd;mobilenetv1/conv2d_10/Conv2D;mobilenetv1/conv2d_9/Conv2D1",
          "mobilenetv1/re_lu_19/Relu;mobilenetv1/batch_normalization_19/FusedBatchNormV3;mobilenetv1/depthwise_conv2d_9/depthwise;mobilenetv1/depthwise_conv2d_9/BiasAdd/ReadVariableOp;mobilenetv1/depthwise_conv2d_9/BiasAdd;mobilenetv1/conv2d_10/Conv2D1",
          "mobilenetv1/re_lu_20/Relu;mobilenetv1/batch_normalization_20/FusedBatchNormV3;mobilenetv1/conv2d_10/BiasAdd/ReadVariableOp;mobilenetv1/conv2d_10/BiasAdd;mobilenetv1/conv2d_10/Conv2D",
          "mobilenetv1/global_average_pooling2d/Mean",
          "mobilenetv1/conv2d_11/BiasAdd;mobilenetv1/conv2d_11/Conv2D;mobilenetv1/conv2d_11/BiasAdd/ReadVariableOp",
          "mobilenetv1/reshape/Shape",
          "mobilenetv1/reshape/strided_slice",
          "mobilenetv1/reshape/Reshape/shape",
          "mobilenetv1/reshape/Reshape",
          "StatefulPartitionedCall:01",
          "StatefulPartitionedCall:0"
         ],
         "xaxis": "x",
         "y": [
          55296,
          34560,
          13824,
          20736,
          17280,
          10368,
          13824,
          13824,
          8640,
          5328,
          7200,
          7200,
          4500,
          2736,
          3672,
          3672,
          3672,
          3672,
          2295,
          1377,
          1836,
          1836,
          1020,
          105,
          19,
          23,
          15,
          14,
          6,
          6
         ],
         "yaxis": "y"
        }
       ],
       "layout": {
        "annotations": [
         {
          "showarrow": false,
          "text": "55296 B peak activation",
          "x": 0.5,
          "xanchor": "center",
          "xref": "x domain",
          "y": 55296,
          "yanchor": "bottom",
          "yref": "y"
         }
        ],
        "barmode": "relative",
        "height": 600,
        "legend": {
         "title": {
          "text": "variable"
         },
         "tracegroupgap": 0
        },
        "shapes": [
         {
          "line": {
           "color": "red",
           "dash": "dash",
           "width": 3
          },
          "type": "line",
          "x0": 0,
          "x1": 1,
          "xref": "x domain",
          "y0": 55296,
          "y1": 55296,
          "yref": "y"
         }
        ],
        "showlegend": true,
        "template": {
         "data": {
          "bar": [
           {
            "error_x": {
             "color": "#2a3f5f"
            },
            "error_y": {
             "color": "#2a3f5f"
            },
            "marker": {
             "line": {
              "color": "#E5ECF6",
              "width": 0.5
             },
             "pattern": {
              "fillmode": "overlay",
              "size": 10,
              "solidity": 0.2
             }
            },
            "type": "bar"
           }
          ],
          "barpolar": [
           {
            "marker": {
             "line": {
              "color": "#E5ECF6",
              "width": 0.5
             },
             "pattern": {
              "fillmode": "overlay",
              "size": 10,
              "solidity": 0.2
             }
            },
            "type": "barpolar"
           }
          ],
          "carpet": [
           {
            "aaxis": {
             "endlinecolor": "#2a3f5f",
             "gridcolor": "white",
             "linecolor": "white",
             "minorgridcolor": "white",
             "startlinecolor": "#2a3f5f"
            },
            "baxis": {
             "endlinecolor": "#2a3f5f",
             "gridcolor": "white",
             "linecolor": "white",
             "minorgridcolor": "white",
             "startlinecolor": "#2a3f5f"
            },
            "type": "carpet"
           }
          ],
          "choropleth": [
           {
            "colorbar": {
             "outlinewidth": 0,
             "ticks": ""
            },
            "type": "choropleth"
           }
          ],
          "contour": [
           {
            "colorbar": {
             "outlinewidth": 0,
             "ticks": ""
            },
            "colorscale": [
             [
              0,
              "#0d0887"
             ],
             [
              0.1111111111111111,
              "#46039f"
             ],
             [
              0.2222222222222222,
              "#7201a8"
             ],
             [
              0.3333333333333333,
              "#9c179e"
             ],
             [
              0.4444444444444444,
              "#bd3786"
             ],
             [
              0.5555555555555556,
              "#d8576b"
             ],
             [
              0.6666666666666666,
              "#ed7953"
             ],
             [
              0.7777777777777778,
              "#fb9f3a"
             ],
             [
              0.8888888888888888,
              "#fdca26"
             ],
             [
              1,
              "#f0f921"
             ]
            ],
            "type": "contour"
           }
          ],
          "contourcarpet": [
           {
            "colorbar": {
             "outlinewidth": 0,
             "ticks": ""
            },
            "type": "contourcarpet"
           }
          ],
          "heatmap": [
           {
            "colorbar": {
             "outlinewidth": 0,
             "ticks": ""
            },
            "colorscale": [
             [
              0,
              "#0d0887"
             ],
             [
              0.1111111111111111,
              "#46039f"
             ],
             [
              0.2222222222222222,
              "#7201a8"
             ],
             [
              0.3333333333333333,
              "#9c179e"
             ],
             [
              0.4444444444444444,
              "#bd3786"
             ],
             [
              0.5555555555555556,
              "#d8576b"
             ],
             [
              0.6666666666666666,
              "#ed7953"
             ],
             [
              0.7777777777777778,
              "#fb9f3a"
             ],
             [
              0.8888888888888888,
              "#fdca26"
             ],
             [
              1,
              "#f0f921"
             ]
            ],
            "type": "heatmap"
           }
          ],
          "heatmapgl": [
           {
            "colorbar": {
             "outlinewidth": 0,
             "ticks": ""
            },
            "colorscale": [
             [
              0,
              "#0d0887"
             ],
             [
              0.1111111111111111,
              "#46039f"
             ],
             [
              0.2222222222222222,
              "#7201a8"
             ],
             [
              0.3333333333333333,
              "#9c179e"
             ],
             [
              0.4444444444444444,
              "#bd3786"
             ],
             [
              0.5555555555555556,
              "#d8576b"
             ],
             [
              0.6666666666666666,
              "#ed7953"
             ],
             [
              0.7777777777777778,
              "#fb9f3a"
             ],
             [
              0.8888888888888888,
              "#fdca26"
             ],
             [
              1,
              "#f0f921"
             ]
            ],
            "type": "heatmapgl"
           }
          ],
          "histogram": [
           {
            "marker": {
             "pattern": {
              "fillmode": "overlay",
              "size": 10,
              "solidity": 0.2
             }
            },
            "type": "histogram"
           }
          ],
          "histogram2d": [
           {
            "colorbar": {
             "outlinewidth": 0,
             "ticks": ""
            },
            "colorscale": [
             [
              0,
              "#0d0887"
             ],
             [
              0.1111111111111111,
              "#46039f"
             ],
             [
              0.2222222222222222,
              "#7201a8"
             ],
             [
              0.3333333333333333,
              "#9c179e"
             ],
             [
              0.4444444444444444,
              "#bd3786"
             ],
             [
              0.5555555555555556,
              "#d8576b"
             ],
             [
              0.6666666666666666,
              "#ed7953"
             ],
             [
              0.7777777777777778,
              "#fb9f3a"
             ],
             [
              0.8888888888888888,
              "#fdca26"
             ],
             [
              1,
              "#f0f921"
             ]
            ],
            "type": "histogram2d"
           }
          ],
          "histogram2dcontour": [
           {
            "colorbar": {
             "outlinewidth": 0,
             "ticks": ""
            },
            "colorscale": [
             [
              0,
              "#0d0887"
             ],
             [
              0.1111111111111111,
              "#46039f"
             ],
             [
              0.2222222222222222,
              "#7201a8"
             ],
             [
              0.3333333333333333,
              "#9c179e"
             ],
             [
              0.4444444444444444,
              "#bd3786"
             ],
             [
              0.5555555555555556,
              "#d8576b"
             ],
             [
              0.6666666666666666,
              "#ed7953"
             ],
             [
              0.7777777777777778,
              "#fb9f3a"
             ],
             [
              0.8888888888888888,
              "#fdca26"
             ],
             [
              1,
              "#f0f921"
             ]
            ],
            "type": "histogram2dcontour"
           }
          ],
          "mesh3d": [
           {
            "colorbar": {
             "outlinewidth": 0,
             "ticks": ""
            },
            "type": "mesh3d"
           }
          ],
          "parcoords": [
           {
            "line": {
             "colorbar": {
              "outlinewidth": 0,
              "ticks": ""
             }
            },
            "type": "parcoords"
           }
          ],
          "pie": [
           {
            "automargin": true,
            "type": "pie"
           }
          ],
          "scatter": [
           {
            "fillpattern": {
             "fillmode": "overlay",
             "size": 10,
             "solidity": 0.2
            },
            "type": "scatter"
           }
          ],
          "scatter3d": [
           {
            "line": {
             "colorbar": {
              "outlinewidth": 0,
              "ticks": ""
             }
            },
            "marker": {
             "colorbar": {
              "outlinewidth": 0,
              "ticks": ""
             }
            },
            "type": "scatter3d"
           }
          ],
          "scattercarpet": [
           {
            "marker": {
             "colorbar": {
              "outlinewidth": 0,
              "ticks": ""
             }
            },
            "type": "scattercarpet"
           }
          ],
          "scattergeo": [
           {
            "marker": {
             "colorbar": {
              "outlinewidth": 0,
              "ticks": ""
             }
            },
            "type": "scattergeo"
           }
          ],
          "scattergl": [
           {
            "marker": {
             "colorbar": {
              "outlinewidth": 0,
              "ticks": ""
             }
            },
            "type": "scattergl"
           }
          ],
          "scattermapbox": [
           {
            "marker": {
             "colorbar": {
              "outlinewidth": 0,
              "ticks": ""
             }
            },
            "type": "scattermapbox"
           }
          ],
          "scatterpolar": [
           {
            "marker": {
             "colorbar": {
              "outlinewidth": 0,
              "ticks": ""
             }
            },
            "type": "scatterpolar"
           }
          ],
          "scatterpolargl": [
           {
            "marker": {
             "colorbar": {
              "outlinewidth": 0,
              "ticks": ""
             }
            },
            "type": "scatterpolargl"
           }
          ],
          "scatterternary": [
           {
            "marker": {
             "colorbar": {
              "outlinewidth": 0,
              "ticks": ""
             }
            },
            "type": "scatterternary"
           }
          ],
          "surface": [
           {
            "colorbar": {
             "outlinewidth": 0,
             "ticks": ""
            },
            "colorscale": [
             [
              0,
              "#0d0887"
             ],
             [
              0.1111111111111111,
              "#46039f"
             ],
             [
              0.2222222222222222,
              "#7201a8"
             ],
             [
              0.3333333333333333,
              "#9c179e"
             ],
             [
              0.4444444444444444,
              "#bd3786"
             ],
             [
              0.5555555555555556,
              "#d8576b"
             ],
             [
              0.6666666666666666,
              "#ed7953"
             ],
             [
              0.7777777777777778,
              "#fb9f3a"
             ],
             [
              0.8888888888888888,
              "#fdca26"
             ],
             [
              1,
              "#f0f921"
             ]
            ],
            "type": "surface"
           }
          ],
          "table": [
           {
            "cells": {
             "fill": {
              "color": "#EBF0F8"
             },
             "line": {
              "color": "white"
             }
            },
            "header": {
             "fill": {
              "color": "#C8D4E3"
             },
             "line": {
              "color": "white"
             }
            },
            "type": "table"
           }
          ]
         },
         "layout": {
          "annotationdefaults": {
           "arrowcolor": "#2a3f5f",
           "arrowhead": 0,
           "arrowwidth": 1
          },
          "autotypenumbers": "strict",
          "coloraxis": {
           "colorbar": {
            "outlinewidth": 0,
            "ticks": ""
           }
          },
          "colorscale": {
           "diverging": [
            [
             0,
             "#8e0152"
            ],
            [
             0.1,
             "#c51b7d"
            ],
            [
             0.2,
             "#de77ae"
            ],
            [
             0.3,
             "#f1b6da"
            ],
            [
             0.4,
             "#fde0ef"
            ],
            [
             0.5,
             "#f7f7f7"
            ],
            [
             0.6,
             "#e6f5d0"
            ],
            [
             0.7,
             "#b8e186"
            ],
            [
             0.8,
             "#7fbc41"
            ],
            [
             0.9,
             "#4d9221"
            ],
            [
             1,
             "#276419"
            ]
           ],
           "sequential": [
            [
             0,
             "#0d0887"
            ],
            [
             0.1111111111111111,
             "#46039f"
            ],
            [
             0.2222222222222222,
             "#7201a8"
            ],
            [
             0.3333333333333333,
             "#9c179e"
            ],
            [
             0.4444444444444444,
             "#bd3786"
            ],
            [
             0.5555555555555556,
             "#d8576b"
            ],
            [
             0.6666666666666666,
             "#ed7953"
            ],
            [
             0.7777777777777778,
             "#fb9f3a"
            ],
            [
             0.8888888888888888,
             "#fdca26"
            ],
            [
             1,
             "#f0f921"
            ]
           ],
           "sequentialminus": [
            [
             0,
             "#0d0887"
            ],
            [
             0.1111111111111111,
             "#46039f"
            ],
            [
             0.2222222222222222,
             "#7201a8"
            ],
            [
             0.3333333333333333,
             "#9c179e"
            ],
            [
             0.4444444444444444,
             "#bd3786"
            ],
            [
             0.5555555555555556,
             "#d8576b"
            ],
            [
             0.6666666666666666,
             "#ed7953"
            ],
            [
             0.7777777777777778,
             "#fb9f3a"
            ],
            [
             0.8888888888888888,
             "#fdca26"
            ],
            [
             1,
             "#f0f921"
            ]
           ]
          },
          "colorway": [
           "#636efa",
           "#EF553B",
           "#00cc96",
           "#ab63fa",
           "#FFA15A",
           "#19d3f3",
           "#FF6692",
           "#B6E880",
           "#FF97FF",
           "#FECB52"
          ],
          "font": {
           "color": "#2a3f5f"
          },
          "geo": {
           "bgcolor": "white",
           "lakecolor": "white",
           "landcolor": "#E5ECF6",
           "showlakes": true,
           "showland": true,
           "subunitcolor": "white"
          },
          "hoverlabel": {
           "align": "left"
          },
          "hovermode": "closest",
          "mapbox": {
           "style": "light"
          },
          "paper_bgcolor": "white",
          "plot_bgcolor": "#E5ECF6",
          "polar": {
           "angularaxis": {
            "gridcolor": "white",
            "linecolor": "white",
            "ticks": ""
           },
           "bgcolor": "#E5ECF6",
           "radialaxis": {
            "gridcolor": "white",
            "linecolor": "white",
            "ticks": ""
           }
          },
          "scene": {
           "xaxis": {
            "backgroundcolor": "#E5ECF6",
            "gridcolor": "white",
            "gridwidth": 2,
            "linecolor": "white",
            "showbackground": true,
            "ticks": "",
            "zerolinecolor": "white"
           },
           "yaxis": {
            "backgroundcolor": "#E5ECF6",
            "gridcolor": "white",
            "gridwidth": 2,
            "linecolor": "white",
            "showbackground": true,
            "ticks": "",
            "zerolinecolor": "white"
           },
           "zaxis": {
            "backgroundcolor": "#E5ECF6",
            "gridcolor": "white",
            "gridwidth": 2,
            "linecolor": "white",
            "showbackground": true,
            "ticks": "",
            "zerolinecolor": "white"
           }
          },
          "shapedefaults": {
           "line": {
            "color": "#2a3f5f"
           }
          },
          "ternary": {
           "aaxis": {
            "gridcolor": "white",
            "linecolor": "white",
            "ticks": ""
           },
           "baxis": {
            "gridcolor": "white",
            "linecolor": "white",
            "ticks": ""
           },
           "bgcolor": "#E5ECF6",
           "caxis": {
            "gridcolor": "white",
            "linecolor": "white",
            "ticks": ""
           }
          },
          "title": {
           "x": 0.05
          },
          "xaxis": {
           "automargin": true,
           "gridcolor": "white",
           "linecolor": "white",
           "ticks": "",
           "title": {
            "standoff": 15
           },
           "zerolinecolor": "white",
           "zerolinewidth": 2
          },
          "yaxis": {
           "automargin": true,
           "gridcolor": "white",
           "linecolor": "white",
           "ticks": "",
           "title": {
            "standoff": 15
           },
           "zerolinecolor": "white",
           "zerolinewidth": 2
          }
         }
        },
        "title": {
         "text": "Peak activations per layer - tflite mobilenetv1_0.1_96_c3_o3_l2"
        },
        "width": 1400,
        "xaxis": {
         "anchor": "y",
         "domain": [
          0,
          1
         ],
         "title": {
          "text": "operator"
         }
        },
        "yaxis": {
         "anchor": "x",
         "domain": [
          0,
          1
         ],
         "title": {
          "text": "value"
         }
        }
       }
      },
      "text/html": [
       "<div>                            <div id=\"2ed7344c-c6cf-496e-81db-86888ce1db0b\" class=\"plotly-graph-div\" style=\"height:600px; width:1400px;\"></div>            <script type=\"text/javascript\">                require([\"plotly\"], function(Plotly) {                    window.PLOTLYENV=window.PLOTLYENV || {};                                    if (document.getElementById(\"2ed7344c-c6cf-496e-81db-86888ce1db0b\")) {                    Plotly.newPlot(                        \"2ed7344c-c6cf-496e-81db-86888ce1db0b\",                        [{\"alignmentgroup\":\"True\",\"hovertemplate\":\"variable=RAM_b<br>operator=%{x}<br>value=%{y}<extra></extra>\",\"legendgroup\":\"RAM_b\",\"marker\":{\"color\":\"#636efa\",\"pattern\":{\"shape\":\"\"}},\"name\":\"RAM_b\",\"offsetgroup\":\"RAM_b\",\"orientation\":\"v\",\"showlegend\":true,\"textposition\":\"auto\",\"texttemplate\":\"%{y:.2s}\",\"x\":[\"tfl.quantize\",\"mobilenetv1/re_lu/Relu;mobilenetv1/batch_normalization/FusedBatchNormV3;mobilenetv1/conv2d/BiasAdd/ReadVariableOp;mobilenetv1/conv2d/BiasAdd;mobilenetv1/conv2d_11/Conv2D;mobilenetv1/conv2d/Conv2D1\",\"mobilenetv1/re_lu_1/Relu;mobilenetv1/batch_normalization_1/FusedBatchNormV3;mobilenetv1/depthwise_conv2d/depthwise;mobilenetv1/depthwise_conv2d/BiasAdd/ReadVariableOp;mobilenetv1/depthwise_conv2d/BiasAdd;mobilenetv1/conv2d_11/Conv2D1\",\"mobilenetv1/re_lu_2/Relu;mobilenetv1/batch_normalization_2/FusedBatchNormV3;mobilenetv1/conv2d_1/BiasAdd/ReadVariableOp;mobilenetv1/conv2d_1/BiasAdd;mobilenetv1/depthwise_conv2d_1/depthwise;mobilenetv1/conv2d_1/Conv2D1\",\"mobilenetv1/re_lu_3/Relu;mobilenetv1/batch_normalization_3/FusedBatchNormV3;mobilenetv1/depthwise_conv2d_1/depthwise;mobilenetv1/depthwise_conv2d_1/BiasAdd/ReadVariableOp;mobilenetv1/depthwise_conv2d_1/BiasAdd1\",\"mobilenetv1/re_lu_4/Relu;mobilenetv1/batch_normalization_4/FusedBatchNormV3;mobilenetv1/conv2d_2/BiasAdd/ReadVariableOp;mobilenetv1/conv2d_2/BiasAdd;mobilenetv1/depthwise_conv2d_3/depthwise;mobilenetv1/conv2d_2/Conv2D1\",\"mobilenetv1/re_lu_5/Relu;mobilenetv1/batch_normalization_5/FusedBatchNormV3;mobilenetv1/depthwise_conv2d_2/depthwise;mobilenetv1/depthwise_conv2d_2/BiasAdd/ReadVariableOp;mobilenetv1/depthwise_conv2d_2/BiasAdd;mobilenetv1/depthwise_conv2d_3/depthwise1\",\"mobilenetv1/re_lu_6/Relu;mobilenetv1/batch_normalization_6/FusedBatchNormV3;mobilenetv1/conv2d_3/BiasAdd/ReadVariableOp;mobilenetv1/conv2d_3/BiasAdd;mobilenetv1/depthwise_conv2d_3/depthwise;mobilenetv1/conv2d_3/Conv2D1\",\"mobilenetv1/re_lu_7/Relu;mobilenetv1/batch_normalization_7/FusedBatchNormV3;mobilenetv1/depthwise_conv2d_3/depthwise;mobilenetv1/depthwise_conv2d_3/BiasAdd/ReadVariableOp;mobilenetv1/depthwise_conv2d_3/BiasAdd1\",\"mobilenetv1/re_lu_8/Relu;mobilenetv1/batch_normalization_8/FusedBatchNormV3;mobilenetv1/conv2d_4/BiasAdd/ReadVariableOp;mobilenetv1/conv2d_4/BiasAdd;mobilenetv1/depthwise_conv2d_5/depthwise;mobilenetv1/conv2d_4/Conv2D1\",\"mobilenetv1/re_lu_9/Relu;mobilenetv1/batch_normalization_9/FusedBatchNormV3;mobilenetv1/depthwise_conv2d_4/depthwise;mobilenetv1/depthwise_conv2d_4/BiasAdd/ReadVariableOp;mobilenetv1/depthwise_conv2d_4/BiasAdd;mobilenetv1/depthwise_conv2d_5/depthwise1\",\"mobilenetv1/re_lu_10/Relu;mobilenetv1/batch_normalization_10/FusedBatchNormV3;mobilenetv1/conv2d_5/BiasAdd/ReadVariableOp;mobilenetv1/conv2d_5/BiasAdd;mobilenetv1/depthwise_conv2d_5/depthwise;mobilenetv1/conv2d_5/Conv2D1\",\"mobilenetv1/re_lu_11/Relu;mobilenetv1/batch_normalization_11/FusedBatchNormV3;mobilenetv1/depthwise_conv2d_5/depthwise;mobilenetv1/depthwise_conv2d_5/BiasAdd/ReadVariableOp;mobilenetv1/depthwise_conv2d_5/BiasAdd1\",\"mobilenetv1/re_lu_12/Relu;mobilenetv1/batch_normalization_12/FusedBatchNormV3;mobilenetv1/conv2d_6/BiasAdd/ReadVariableOp;mobilenetv1/conv2d_6/BiasAdd;mobilenetv1/depthwise_conv2d_8/depthwise;mobilenetv1/conv2d_6/Conv2D1\",\"mobilenetv1/re_lu_13/Relu;mobilenetv1/batch_normalization_13/FusedBatchNormV3;mobilenetv1/depthwise_conv2d_6/depthwise;mobilenetv1/depthwise_conv2d_6/BiasAdd/ReadVariableOp;mobilenetv1/depthwise_conv2d_6/BiasAdd;mobilenetv1/depthwise_conv2d_8/depthwise1\",\"mobilenetv1/re_lu_14/Relu;mobilenetv1/batch_normalization_14/FusedBatchNormV3;mobilenetv1/conv2d_7/BiasAdd/ReadVariableOp;mobilenetv1/conv2d_7/BiasAdd;mobilenetv1/depthwise_conv2d_8/depthwise;mobilenetv1/conv2d_7/Conv2D1\",\"mobilenetv1/re_lu_15/Relu;mobilenetv1/batch_normalization_15/FusedBatchNormV3;mobilenetv1/depthwise_conv2d_7/depthwise;mobilenetv1/depthwise_conv2d_7/BiasAdd/ReadVariableOp;mobilenetv1/depthwise_conv2d_7/BiasAdd;mobilenetv1/depthwise_conv2d_8/depthwise1\",\"mobilenetv1/re_lu_16/Relu;mobilenetv1/batch_normalization_16/FusedBatchNormV3;mobilenetv1/conv2d_8/BiasAdd/ReadVariableOp;mobilenetv1/conv2d_8/BiasAdd;mobilenetv1/depthwise_conv2d_8/depthwise;mobilenetv1/conv2d_8/Conv2D1\",\"mobilenetv1/re_lu_17/Relu;mobilenetv1/batch_normalization_17/FusedBatchNormV3;mobilenetv1/depthwise_conv2d_8/depthwise;mobilenetv1/depthwise_conv2d_8/BiasAdd/ReadVariableOp;mobilenetv1/depthwise_conv2d_8/BiasAdd1\",\"mobilenetv1/re_lu_18/Relu;mobilenetv1/batch_normalization_18/FusedBatchNormV3;mobilenetv1/conv2d_9/BiasAdd/ReadVariableOp;mobilenetv1/conv2d_9/BiasAdd;mobilenetv1/conv2d_10/Conv2D;mobilenetv1/conv2d_9/Conv2D1\",\"mobilenetv1/re_lu_19/Relu;mobilenetv1/batch_normalization_19/FusedBatchNormV3;mobilenetv1/depthwise_conv2d_9/depthwise;mobilenetv1/depthwise_conv2d_9/BiasAdd/ReadVariableOp;mobilenetv1/depthwise_conv2d_9/BiasAdd;mobilenetv1/conv2d_10/Conv2D1\",\"mobilenetv1/re_lu_20/Relu;mobilenetv1/batch_normalization_20/FusedBatchNormV3;mobilenetv1/conv2d_10/BiasAdd/ReadVariableOp;mobilenetv1/conv2d_10/BiasAdd;mobilenetv1/conv2d_10/Conv2D\",\"mobilenetv1/global_average_pooling2d/Mean\",\"mobilenetv1/conv2d_11/BiasAdd;mobilenetv1/conv2d_11/Conv2D;mobilenetv1/conv2d_11/BiasAdd/ReadVariableOp\",\"mobilenetv1/reshape/Shape\",\"mobilenetv1/reshape/strided_slice\",\"mobilenetv1/reshape/Reshape/shape\",\"mobilenetv1/reshape/Reshape\",\"StatefulPartitionedCall:01\",\"StatefulPartitionedCall:0\"],\"xaxis\":\"x\",\"y\":[55296,34560,13824,20736,17280,10368,13824,13824,8640,5328,7200,7200,4500,2736,3672,3672,3672,3672,2295,1377,1836,1836,1020,105,19,23,15,14,6,6],\"yaxis\":\"y\",\"type\":\"bar\",\"width\":1}],                        {\"template\":{\"data\":{\"histogram2dcontour\":[{\"type\":\"histogram2dcontour\",\"colorbar\":{\"outlinewidth\":0,\"ticks\":\"\"},\"colorscale\":[[0.0,\"#0d0887\"],[0.1111111111111111,\"#46039f\"],[0.2222222222222222,\"#7201a8\"],[0.3333333333333333,\"#9c179e\"],[0.4444444444444444,\"#bd3786\"],[0.5555555555555556,\"#d8576b\"],[0.6666666666666666,\"#ed7953\"],[0.7777777777777778,\"#fb9f3a\"],[0.8888888888888888,\"#fdca26\"],[1.0,\"#f0f921\"]]}],\"choropleth\":[{\"type\":\"choropleth\",\"colorbar\":{\"outlinewidth\":0,\"ticks\":\"\"}}],\"histogram2d\":[{\"type\":\"histogram2d\",\"colorbar\":{\"outlinewidth\":0,\"ticks\":\"\"},\"colorscale\":[[0.0,\"#0d0887\"],[0.1111111111111111,\"#46039f\"],[0.2222222222222222,\"#7201a8\"],[0.3333333333333333,\"#9c179e\"],[0.4444444444444444,\"#bd3786\"],[0.5555555555555556,\"#d8576b\"],[0.6666666666666666,\"#ed7953\"],[0.7777777777777778,\"#fb9f3a\"],[0.8888888888888888,\"#fdca26\"],[1.0,\"#f0f921\"]]}],\"heatmap\":[{\"type\":\"heatmap\",\"colorbar\":{\"outlinewidth\":0,\"ticks\":\"\"},\"colorscale\":[[0.0,\"#0d0887\"],[0.1111111111111111,\"#46039f\"],[0.2222222222222222,\"#7201a8\"],[0.3333333333333333,\"#9c179e\"],[0.4444444444444444,\"#bd3786\"],[0.5555555555555556,\"#d8576b\"],[0.6666666666666666,\"#ed7953\"],[0.7777777777777778,\"#fb9f3a\"],[0.8888888888888888,\"#fdca26\"],[1.0,\"#f0f921\"]]}],\"heatmapgl\":[{\"type\":\"heatmapgl\",\"colorbar\":{\"outlinewidth\":0,\"ticks\":\"\"},\"colorscale\":[[0.0,\"#0d0887\"],[0.1111111111111111,\"#46039f\"],[0.2222222222222222,\"#7201a8\"],[0.3333333333333333,\"#9c179e\"],[0.4444444444444444,\"#bd3786\"],[0.5555555555555556,\"#d8576b\"],[0.6666666666666666,\"#ed7953\"],[0.7777777777777778,\"#fb9f3a\"],[0.8888888888888888,\"#fdca26\"],[1.0,\"#f0f921\"]]}],\"contourcarpet\":[{\"type\":\"contourcarpet\",\"colorbar\":{\"outlinewidth\":0,\"ticks\":\"\"}}],\"contour\":[{\"type\":\"contour\",\"colorbar\":{\"outlinewidth\":0,\"ticks\":\"\"},\"colorscale\":[[0.0,\"#0d0887\"],[0.1111111111111111,\"#46039f\"],[0.2222222222222222,\"#7201a8\"],[0.3333333333333333,\"#9c179e\"],[0.4444444444444444,\"#bd3786\"],[0.5555555555555556,\"#d8576b\"],[0.6666666666666666,\"#ed7953\"],[0.7777777777777778,\"#fb9f3a\"],[0.8888888888888888,\"#fdca26\"],[1.0,\"#f0f921\"]]}],\"surface\":[{\"type\":\"surface\",\"colorbar\":{\"outlinewidth\":0,\"ticks\":\"\"},\"colorscale\":[[0.0,\"#0d0887\"],[0.1111111111111111,\"#46039f\"],[0.2222222222222222,\"#7201a8\"],[0.3333333333333333,\"#9c179e\"],[0.4444444444444444,\"#bd3786\"],[0.5555555555555556,\"#d8576b\"],[0.6666666666666666,\"#ed7953\"],[0.7777777777777778,\"#fb9f3a\"],[0.8888888888888888,\"#fdca26\"],[1.0,\"#f0f921\"]]}],\"mesh3d\":[{\"type\":\"mesh3d\",\"colorbar\":{\"outlinewidth\":0,\"ticks\":\"\"}}],\"scatter\":[{\"fillpattern\":{\"fillmode\":\"overlay\",\"size\":10,\"solidity\":0.2},\"type\":\"scatter\"}],\"parcoords\":[{\"type\":\"parcoords\",\"line\":{\"colorbar\":{\"outlinewidth\":0,\"ticks\":\"\"}}}],\"scatterpolargl\":[{\"type\":\"scatterpolargl\",\"marker\":{\"colorbar\":{\"outlinewidth\":0,\"ticks\":\"\"}}}],\"bar\":[{\"error_x\":{\"color\":\"#2a3f5f\"},\"error_y\":{\"color\":\"#2a3f5f\"},\"marker\":{\"line\":{\"color\":\"#E5ECF6\",\"width\":0.5},\"pattern\":{\"fillmode\":\"overlay\",\"size\":10,\"solidity\":0.2}},\"type\":\"bar\"}],\"scattergeo\":[{\"type\":\"scattergeo\",\"marker\":{\"colorbar\":{\"outlinewidth\":0,\"ticks\":\"\"}}}],\"scatterpolar\":[{\"type\":\"scatterpolar\",\"marker\":{\"colorbar\":{\"outlinewidth\":0,\"ticks\":\"\"}}}],\"histogram\":[{\"marker\":{\"pattern\":{\"fillmode\":\"overlay\",\"size\":10,\"solidity\":0.2}},\"type\":\"histogram\"}],\"scattergl\":[{\"type\":\"scattergl\",\"marker\":{\"colorbar\":{\"outlinewidth\":0,\"ticks\":\"\"}}}],\"scatter3d\":[{\"type\":\"scatter3d\",\"line\":{\"colorbar\":{\"outlinewidth\":0,\"ticks\":\"\"}},\"marker\":{\"colorbar\":{\"outlinewidth\":0,\"ticks\":\"\"}}}],\"scattermapbox\":[{\"type\":\"scattermapbox\",\"marker\":{\"colorbar\":{\"outlinewidth\":0,\"ticks\":\"\"}}}],\"scatterternary\":[{\"type\":\"scatterternary\",\"marker\":{\"colorbar\":{\"outlinewidth\":0,\"ticks\":\"\"}}}],\"scattercarpet\":[{\"type\":\"scattercarpet\",\"marker\":{\"colorbar\":{\"outlinewidth\":0,\"ticks\":\"\"}}}],\"carpet\":[{\"aaxis\":{\"endlinecolor\":\"#2a3f5f\",\"gridcolor\":\"white\",\"linecolor\":\"white\",\"minorgridcolor\":\"white\",\"startlinecolor\":\"#2a3f5f\"},\"baxis\":{\"endlinecolor\":\"#2a3f5f\",\"gridcolor\":\"white\",\"linecolor\":\"white\",\"minorgridcolor\":\"white\",\"startlinecolor\":\"#2a3f5f\"},\"type\":\"carpet\"}],\"table\":[{\"cells\":{\"fill\":{\"color\":\"#EBF0F8\"},\"line\":{\"color\":\"white\"}},\"header\":{\"fill\":{\"color\":\"#C8D4E3\"},\"line\":{\"color\":\"white\"}},\"type\":\"table\"}],\"barpolar\":[{\"marker\":{\"line\":{\"color\":\"#E5ECF6\",\"width\":0.5},\"pattern\":{\"fillmode\":\"overlay\",\"size\":10,\"solidity\":0.2}},\"type\":\"barpolar\"}],\"pie\":[{\"automargin\":true,\"type\":\"pie\"}]},\"layout\":{\"autotypenumbers\":\"strict\",\"colorway\":[\"#636efa\",\"#EF553B\",\"#00cc96\",\"#ab63fa\",\"#FFA15A\",\"#19d3f3\",\"#FF6692\",\"#B6E880\",\"#FF97FF\",\"#FECB52\"],\"font\":{\"color\":\"#2a3f5f\"},\"hovermode\":\"closest\",\"hoverlabel\":{\"align\":\"left\"},\"paper_bgcolor\":\"white\",\"plot_bgcolor\":\"#E5ECF6\",\"polar\":{\"bgcolor\":\"#E5ECF6\",\"angularaxis\":{\"gridcolor\":\"white\",\"linecolor\":\"white\",\"ticks\":\"\"},\"radialaxis\":{\"gridcolor\":\"white\",\"linecolor\":\"white\",\"ticks\":\"\"}},\"ternary\":{\"bgcolor\":\"#E5ECF6\",\"aaxis\":{\"gridcolor\":\"white\",\"linecolor\":\"white\",\"ticks\":\"\"},\"baxis\":{\"gridcolor\":\"white\",\"linecolor\":\"white\",\"ticks\":\"\"},\"caxis\":{\"gridcolor\":\"white\",\"linecolor\":\"white\",\"ticks\":\"\"}},\"coloraxis\":{\"colorbar\":{\"outlinewidth\":0,\"ticks\":\"\"}},\"colorscale\":{\"sequential\":[[0.0,\"#0d0887\"],[0.1111111111111111,\"#46039f\"],[0.2222222222222222,\"#7201a8\"],[0.3333333333333333,\"#9c179e\"],[0.4444444444444444,\"#bd3786\"],[0.5555555555555556,\"#d8576b\"],[0.6666666666666666,\"#ed7953\"],[0.7777777777777778,\"#fb9f3a\"],[0.8888888888888888,\"#fdca26\"],[1.0,\"#f0f921\"]],\"sequentialminus\":[[0.0,\"#0d0887\"],[0.1111111111111111,\"#46039f\"],[0.2222222222222222,\"#7201a8\"],[0.3333333333333333,\"#9c179e\"],[0.4444444444444444,\"#bd3786\"],[0.5555555555555556,\"#d8576b\"],[0.6666666666666666,\"#ed7953\"],[0.7777777777777778,\"#fb9f3a\"],[0.8888888888888888,\"#fdca26\"],[1.0,\"#f0f921\"]],\"diverging\":[[0,\"#8e0152\"],[0.1,\"#c51b7d\"],[0.2,\"#de77ae\"],[0.3,\"#f1b6da\"],[0.4,\"#fde0ef\"],[0.5,\"#f7f7f7\"],[0.6,\"#e6f5d0\"],[0.7,\"#b8e186\"],[0.8,\"#7fbc41\"],[0.9,\"#4d9221\"],[1,\"#276419\"]]},\"xaxis\":{\"gridcolor\":\"white\",\"linecolor\":\"white\",\"ticks\":\"\",\"title\":{\"standoff\":15},\"zerolinecolor\":\"white\",\"automargin\":true,\"zerolinewidth\":2},\"yaxis\":{\"gridcolor\":\"white\",\"linecolor\":\"white\",\"ticks\":\"\",\"title\":{\"standoff\":15},\"zerolinecolor\":\"white\",\"automargin\":true,\"zerolinewidth\":2},\"scene\":{\"xaxis\":{\"backgroundcolor\":\"#E5ECF6\",\"gridcolor\":\"white\",\"linecolor\":\"white\",\"showbackground\":true,\"ticks\":\"\",\"zerolinecolor\":\"white\",\"gridwidth\":2},\"yaxis\":{\"backgroundcolor\":\"#E5ECF6\",\"gridcolor\":\"white\",\"linecolor\":\"white\",\"showbackground\":true,\"ticks\":\"\",\"zerolinecolor\":\"white\",\"gridwidth\":2},\"zaxis\":{\"backgroundcolor\":\"#E5ECF6\",\"gridcolor\":\"white\",\"linecolor\":\"white\",\"showbackground\":true,\"ticks\":\"\",\"zerolinecolor\":\"white\",\"gridwidth\":2}},\"shapedefaults\":{\"line\":{\"color\":\"#2a3f5f\"}},\"annotationdefaults\":{\"arrowcolor\":\"#2a3f5f\",\"arrowhead\":0,\"arrowwidth\":1},\"geo\":{\"bgcolor\":\"white\",\"landcolor\":\"#E5ECF6\",\"subunitcolor\":\"white\",\"showland\":true,\"showlakes\":true,\"lakecolor\":\"white\"},\"title\":{\"x\":0.05},\"mapbox\":{\"style\":\"light\"}}},\"xaxis\":{\"anchor\":\"y\",\"domain\":[0.0,1.0],\"title\":{\"text\":\"operator\"}},\"yaxis\":{\"anchor\":\"x\",\"domain\":[0.0,1.0],\"title\":{\"text\":\"value\"}},\"legend\":{\"title\":{\"text\":\"variable\"},\"tracegroupgap\":0},\"title\":{\"text\":\"Peak activations per layer - tflite mobilenetv1_0.1_96_c3_o3_l2\"},\"barmode\":\"relative\",\"height\":600,\"width\":1400,\"shapes\":[{\"line\":{\"color\":\"red\",\"dash\":\"dash\",\"width\":3},\"type\":\"line\",\"x0\":0,\"x1\":1,\"xref\":\"x domain\",\"y0\":55296,\"y1\":55296,\"yref\":\"y\"}],\"annotations\":[{\"showarrow\":false,\"text\":\"55296 B peak activation\",\"x\":0.5,\"xanchor\":\"center\",\"xref\":\"x domain\",\"y\":55296.0,\"yanchor\":\"bottom\",\"yref\":\"y\"}],\"showlegend\":true},                        {\"responsive\": true}                    ).then(function(){\n",
       "                            \n",
       "var gd = document.getElementById('2ed7344c-c6cf-496e-81db-86888ce1db0b');\n",
       "var x = new MutationObserver(function (mutations, observer) {{\n",
       "        var display = window.getComputedStyle(gd).display;\n",
       "        if (!display || display === 'none') {{\n",
       "            console.log([gd, 'removed!']);\n",
       "            Plotly.purge(gd);\n",
       "            observer.disconnect();\n",
       "        }}\n",
       "}});\n",
       "\n",
       "// Listen for the removal of the full notebook cells\n",
       "var notebookContainer = gd.closest('#notebook-container');\n",
       "if (notebookContainer) {{\n",
       "    x.observe(notebookContainer, {childList: true});\n",
       "}}\n",
       "\n",
       "// Listen for the clearing of the current output cell\n",
       "var outputEl = gd.closest('.output');\n",
       "if (outputEl) {{\n",
       "    x.observe(outputEl, {childList: true});\n",
       "}}\n",
       "\n",
       "                        })                };                });            </script>        </div>"
      ]
     },
     "metadata": {},
     "output_type": "display_data"
    }
   ],
   "source": [
    "peak_mem_fig = px.bar(peak_memory_df, x=\"operator\", y= [\"RAM_b\"], text_auto=\".2s\",\n",
    "width=1400, height=600,\n",
    "    title=f\"Peak activations per layer - tflite {model_name}\")\n",
    "# tflite_fig.add_hline(y=256, line_width=3, line_dash=\"dash\", line_color=\"orange\", annotation_text=\"256 kB MCU constraint\", \n",
    "#               annotation_position=\"bottom right\")\n",
    "peak_memory = peak_memory_df[\"RAM_b\"].max()\n",
    "peak_mem_fig.add_hline(y=peak_memory, line_width=3, line_dash=\"dash\", line_color=\"red\", annotation_text=f\"{peak_memory} B peak activation\", \n",
    "               annotation_position=\"top\")\n",
    "# tflite_fig.update_layout(yaxis_range=[0,300])\n",
    "peak_mem_fig.update_traces(width=1)\n",
    "peak_mem_fig.update_layout(showlegend=True)\n",
    "peak_mem_fig.show()"
   ]
  },
  {
   "cell_type": "code",
   "execution_count": 18,
   "metadata": {},
   "outputs": [
    {
     "ename": "ValueError",
     "evalue": "All arguments should have the same length. The length of argument `y` is 1, whereas the length of  previously-processed arguments ['operator'] is 30",
     "output_type": "error",
     "traceback": [
      "\u001b[1;31m---------------------------------------------------------------------------\u001b[0m",
      "\u001b[1;31mValueError\u001b[0m                                Traceback (most recent call last)",
      "Cell \u001b[1;32mIn [18], line 1\u001b[0m\n\u001b[1;32m----> 1\u001b[0m tflite_fig \u001b[39m=\u001b[39m px\u001b[39m.\u001b[39;49mbar(peak_memory_df, x\u001b[39m=\u001b[39;49m\u001b[39m\"\u001b[39;49m\u001b[39moperator\u001b[39;49m\u001b[39m\"\u001b[39;49m, y\u001b[39m=\u001b[39;49m [\u001b[39m\"\u001b[39;49m\u001b[39mpeak_memory_kb\u001b[39;49m\u001b[39m\"\u001b[39;49m], text_auto\u001b[39m=\u001b[39;49m\u001b[39m\"\u001b[39;49m\u001b[39m.2s\u001b[39;49m\u001b[39m\"\u001b[39;49m,\n\u001b[0;32m      2\u001b[0m width\u001b[39m=\u001b[39;49m\u001b[39m1400\u001b[39;49m, height\u001b[39m=\u001b[39;49m\u001b[39m600\u001b[39;49m,\n\u001b[0;32m      3\u001b[0m     title\u001b[39m=\u001b[39;49m\u001b[39mf\u001b[39;49m\u001b[39m\"\u001b[39;49m\u001b[39mPeak activations per layer - tflite \u001b[39;49m\u001b[39m{\u001b[39;49;00mmodel_name\u001b[39m}\u001b[39;49;00m\u001b[39m\"\u001b[39;49m)\n\u001b[0;32m      4\u001b[0m tflite_fig\u001b[39m.\u001b[39madd_hline(y\u001b[39m=\u001b[39m\u001b[39m256\u001b[39m, line_width\u001b[39m=\u001b[39m\u001b[39m3\u001b[39m, line_dash\u001b[39m=\u001b[39m\u001b[39m\"\u001b[39m\u001b[39mdash\u001b[39m\u001b[39m\"\u001b[39m, line_color\u001b[39m=\u001b[39m\u001b[39m\"\u001b[39m\u001b[39morange\u001b[39m\u001b[39m\"\u001b[39m, annotation_text\u001b[39m=\u001b[39m\u001b[39m\"\u001b[39m\u001b[39m256 kB MCU constraint\u001b[39m\u001b[39m\"\u001b[39m, \n\u001b[0;32m      5\u001b[0m               annotation_position\u001b[39m=\u001b[39m\u001b[39m\"\u001b[39m\u001b[39mbottom right\u001b[39m\u001b[39m\"\u001b[39m)\n\u001b[0;32m      6\u001b[0m peak_memory \u001b[39m=\u001b[39m peak_memory_df[\u001b[39m\"\u001b[39m\u001b[39mpeak_memory_kb\u001b[39m\u001b[39m\"\u001b[39m]\u001b[39m.\u001b[39mmax()\n",
      "File \u001b[1;32md:\\Miniconda\\envs\\tiny_cnn_6\\lib\\site-packages\\plotly\\express\\_chart_types.py:373\u001b[0m, in \u001b[0;36mbar\u001b[1;34m(data_frame, x, y, color, pattern_shape, facet_row, facet_col, facet_col_wrap, facet_row_spacing, facet_col_spacing, hover_name, hover_data, custom_data, text, base, error_x, error_x_minus, error_y, error_y_minus, animation_frame, animation_group, category_orders, labels, color_discrete_sequence, color_discrete_map, color_continuous_scale, pattern_shape_sequence, pattern_shape_map, range_color, color_continuous_midpoint, opacity, orientation, barmode, log_x, log_y, range_x, range_y, text_auto, title, template, width, height)\u001b[0m\n\u001b[0;32m    325\u001b[0m \u001b[39mdef\u001b[39;00m \u001b[39mbar\u001b[39m(\n\u001b[0;32m    326\u001b[0m     data_frame\u001b[39m=\u001b[39m\u001b[39mNone\u001b[39;00m,\n\u001b[0;32m    327\u001b[0m     x\u001b[39m=\u001b[39m\u001b[39mNone\u001b[39;00m,\n\u001b[1;32m   (...)\u001b[0m\n\u001b[0;32m    367\u001b[0m     height\u001b[39m=\u001b[39m\u001b[39mNone\u001b[39;00m,\n\u001b[0;32m    368\u001b[0m ) \u001b[39m-\u001b[39m\u001b[39m>\u001b[39m go\u001b[39m.\u001b[39mFigure:\n\u001b[0;32m    369\u001b[0m     \u001b[39m\"\"\"\u001b[39;00m\n\u001b[0;32m    370\u001b[0m \u001b[39m    In a bar plot, each row of `data_frame` is represented as a rectangular\u001b[39;00m\n\u001b[0;32m    371\u001b[0m \u001b[39m    mark.\u001b[39;00m\n\u001b[0;32m    372\u001b[0m \u001b[39m    \"\"\"\u001b[39;00m\n\u001b[1;32m--> 373\u001b[0m     \u001b[39mreturn\u001b[39;00m make_figure(\n\u001b[0;32m    374\u001b[0m         args\u001b[39m=\u001b[39;49m\u001b[39mlocals\u001b[39;49m(),\n\u001b[0;32m    375\u001b[0m         constructor\u001b[39m=\u001b[39;49mgo\u001b[39m.\u001b[39;49mBar,\n\u001b[0;32m    376\u001b[0m         trace_patch\u001b[39m=\u001b[39;49m\u001b[39mdict\u001b[39;49m(textposition\u001b[39m=\u001b[39;49m\u001b[39m\"\u001b[39;49m\u001b[39mauto\u001b[39;49m\u001b[39m\"\u001b[39;49m),\n\u001b[0;32m    377\u001b[0m         layout_patch\u001b[39m=\u001b[39;49m\u001b[39mdict\u001b[39;49m(barmode\u001b[39m=\u001b[39;49mbarmode),\n\u001b[0;32m    378\u001b[0m     )\n",
      "File \u001b[1;32md:\\Miniconda\\envs\\tiny_cnn_6\\lib\\site-packages\\plotly\\express\\_core.py:1990\u001b[0m, in \u001b[0;36mmake_figure\u001b[1;34m(args, constructor, trace_patch, layout_patch)\u001b[0m\n\u001b[0;32m   1987\u001b[0m layout_patch \u001b[39m=\u001b[39m layout_patch \u001b[39mor\u001b[39;00m {}\n\u001b[0;32m   1988\u001b[0m apply_default_cascade(args)\n\u001b[1;32m-> 1990\u001b[0m args \u001b[39m=\u001b[39m build_dataframe(args, constructor)\n\u001b[0;32m   1991\u001b[0m \u001b[39mif\u001b[39;00m constructor \u001b[39min\u001b[39;00m [go\u001b[39m.\u001b[39mTreemap, go\u001b[39m.\u001b[39mSunburst, go\u001b[39m.\u001b[39mIcicle] \u001b[39mand\u001b[39;00m args[\u001b[39m\"\u001b[39m\u001b[39mpath\u001b[39m\u001b[39m\"\u001b[39m] \u001b[39mis\u001b[39;00m \u001b[39mnot\u001b[39;00m \u001b[39mNone\u001b[39;00m:\n\u001b[0;32m   1992\u001b[0m     args \u001b[39m=\u001b[39m process_dataframe_hierarchy(args)\n",
      "File \u001b[1;32md:\\Miniconda\\envs\\tiny_cnn_6\\lib\\site-packages\\plotly\\express\\_core.py:1405\u001b[0m, in \u001b[0;36mbuild_dataframe\u001b[1;34m(args, constructor)\u001b[0m\n\u001b[0;32m   1402\u001b[0m     args[\u001b[39m\"\u001b[39m\u001b[39mcolor\u001b[39m\u001b[39m\"\u001b[39m] \u001b[39m=\u001b[39m \u001b[39mNone\u001b[39;00m\n\u001b[0;32m   1403\u001b[0m \u001b[39m# now that things have been prepped, we do the systematic rewriting of `args`\u001b[39;00m\n\u001b[1;32m-> 1405\u001b[0m df_output, wide_id_vars \u001b[39m=\u001b[39m process_args_into_dataframe(\n\u001b[0;32m   1406\u001b[0m     args, wide_mode, var_name, value_name\n\u001b[0;32m   1407\u001b[0m )\n\u001b[0;32m   1409\u001b[0m \u001b[39m# now that `df_output` exists and `args` contains only references, we complete\u001b[39;00m\n\u001b[0;32m   1410\u001b[0m \u001b[39m# the special-case and wide-mode handling by further rewriting args and/or mutating\u001b[39;00m\n\u001b[0;32m   1411\u001b[0m \u001b[39m# df_output\u001b[39;00m\n\u001b[0;32m   1413\u001b[0m count_name \u001b[39m=\u001b[39m _escape_col_name(df_output, \u001b[39m\"\u001b[39m\u001b[39mcount\u001b[39m\u001b[39m\"\u001b[39m, [var_name, value_name])\n",
      "File \u001b[1;32md:\\Miniconda\\envs\\tiny_cnn_6\\lib\\site-packages\\plotly\\express\\_core.py:1245\u001b[0m, in \u001b[0;36mprocess_args_into_dataframe\u001b[1;34m(args, wide_mode, var_name, value_name)\u001b[0m\n\u001b[0;32m   1242\u001b[0m         col_name \u001b[39m=\u001b[39m _check_name_not_reserved(field, reserved_names)\n\u001b[0;32m   1244\u001b[0m     \u001b[39mif\u001b[39;00m length \u001b[39mand\u001b[39;00m \u001b[39mlen\u001b[39m(argument) \u001b[39m!=\u001b[39m length:\n\u001b[1;32m-> 1245\u001b[0m         \u001b[39mraise\u001b[39;00m \u001b[39mValueError\u001b[39;00m(\n\u001b[0;32m   1246\u001b[0m             \u001b[39m\"\u001b[39m\u001b[39mAll arguments should have the same length. \u001b[39m\u001b[39m\"\u001b[39m\n\u001b[0;32m   1247\u001b[0m             \u001b[39m\"\u001b[39m\u001b[39mThe length of argument `\u001b[39m\u001b[39m%s\u001b[39;00m\u001b[39m` is \u001b[39m\u001b[39m%d\u001b[39;00m\u001b[39m, whereas the \u001b[39m\u001b[39m\"\u001b[39m\n\u001b[0;32m   1248\u001b[0m             \u001b[39m\"\u001b[39m\u001b[39mlength of  previously-processed arguments \u001b[39m\u001b[39m%s\u001b[39;00m\u001b[39m is \u001b[39m\u001b[39m%d\u001b[39;00m\u001b[39m\"\u001b[39m\n\u001b[0;32m   1249\u001b[0m             \u001b[39m%\u001b[39m (field, \u001b[39mlen\u001b[39m(argument), \u001b[39mstr\u001b[39m(\u001b[39mlist\u001b[39m(df_output\u001b[39m.\u001b[39mcolumns)), length)\n\u001b[0;32m   1250\u001b[0m         )\n\u001b[0;32m   1251\u001b[0m     df_output[\u001b[39mstr\u001b[39m(col_name)] \u001b[39m=\u001b[39m to_unindexed_series(argument)\n\u001b[0;32m   1253\u001b[0m \u001b[39m# Finally, update argument with column name now that column exists\u001b[39;00m\n",
      "\u001b[1;31mValueError\u001b[0m: All arguments should have the same length. The length of argument `y` is 1, whereas the length of  previously-processed arguments ['operator'] is 30"
     ]
    }
   ],
   "source": [
    "# tflite_fig = px.bar(peak_memory_df, x=\"operator\", y= [\"peak_memory_kb\"], text_auto=\".2s\",\n",
    "# width=1400, height=600,\n",
    "#     title=f\"Peak activations per layer - tflite {model_name}\")\n",
    "# tflite_fig.add_hline(y=256, line_width=3, line_dash=\"dash\", line_color=\"orange\", annotation_text=\"256 kB MCU constraint\", \n",
    "#               annotation_position=\"bottom right\")\n",
    "# peak_memory = peak_memory_df[\"peak_memory_kb\"].max()\n",
    "# tflite_fig.add_hline(y=peak_memory, line_width=3, line_dash=\"dash\", line_color=\"red\", annotation_text=f\"{peak_memory} kB peak activation\", \n",
    "#               annotation_position=\"top\")\n",
    "# tflite_fig.update_layout(yaxis_range=[0,300])\n",
    "# #tflite_fig.update_layout(showlegend=True)\n",
    "# tflite_fig.show()"
   ]
  },
  {
   "cell_type": "code",
   "execution_count": null,
   "metadata": {},
   "outputs": [],
   "source": [
    "fig6 = px.bar(df, x=\"name\", y= \"MACS\",\n",
    "    title=f\"MACs per layer - {model_name}\")\n",
    "#fig.add_hline(y=256000, line_width=3, line_dash=\"dash\", line_color=\"orange\", annotation_text=\"256 kB MCU constraint\", \n",
    "#              annotation_position=\"bottom right\")\n",
    "#fig.update_layout(showlegend=True)\n",
    "fig6.show()"
   ]
  },
  {
   "cell_type": "code",
   "execution_count": null,
   "metadata": {},
   "outputs": [],
   "source": [
    "fig2 = px.bar(df, x=\"name\", y= \"h_i_1\", text_auto=\".2s\",\n",
    "    title=f\"Input height per layer - {model_name}\")\n",
    "#fig2.add_hline(y=256000, line_width=3, line_dash=\"dash\", line_color=\"orange\")\n",
    "#fig2.update_yaxes(autorange=\"reversed\")\n",
    "#fig2.update_yaxes(rangemode=\"tozero\")\n",
    "fig2.show()"
   ]
  },
  {
   "cell_type": "code",
   "execution_count": null,
   "metadata": {},
   "outputs": [],
   "source": [
    "fig3 = px.bar(df, x=\"name\", y= \"c_i_1\", text_auto=\".2s\",\n",
    "    title=f\"Channels per layer - {model_name}\")\n",
    "#fig2.add_hline(y=256000, line_width=3, line_dash=\"dash\", line_color=\"orange\")\n",
    "#fig3.update_yaxes(autorange=\"reversed\")\n",
    "#fig3.update_yaxes(rangemode=\"tozero\")\n",
    "# fig3.update_yaxes(\n",
    "#     range=(0, 1280),\n",
    "#     constrain='domain'\n",
    "# )\n",
    "fig3.show()"
   ]
  },
  {
   "cell_type": "code",
   "execution_count": null,
   "metadata": {},
   "outputs": [],
   "source": [
    "fig4 = px.line(df, x=\"name\", y= \"total_params\",\n",
    "    title=f\"Cumulative parameters per layer - {model_name}\")\n",
    "#fig.add_hline(y=256000, line_width=3, line_dash=\"dash\", line_color=\"orange\", annotation_text=\"256 kB MCU constraint\", \n",
    "#              annotation_position=\"bottom right\")\n",
    "#fig.update_layout(showlegend=True)\n",
    "fig4.show()"
   ]
  },
  {
   "cell_type": "code",
   "execution_count": null,
   "metadata": {},
   "outputs": [],
   "source": [
    "fig5 = px.line(df, x=\"name\", y= \"total_MACs\",\n",
    "    title=f\"Cumulative MACs per layer - {model_name}\")\n",
    "#fig.add_hline(y=256000, line_width=3, line_dash=\"dash\", line_color=\"orange\", annotation_text=\"256 kB MCU constraint\", \n",
    "#              annotation_position=\"bottom right\")\n",
    "#fig.update_layout(showlegend=True)\n",
    "fig5.show()"
   ]
  },
  {
   "cell_type": "code",
   "execution_count": null,
   "metadata": {},
   "outputs": [],
   "source": [
    "# # Generate run ids\n",
    "# id = wandb.util.generate_id()\n",
    "\n",
    "# PROJECT = model_name.split(\"_\")[0]\n",
    "\n",
    "# run = wandb.init(\n",
    "#         # Set the project where this run will be logged\n",
    "#         project=PROJECT, \n",
    "#         name = model_name,\n",
    "#         id = id, \n",
    "#         resume=\"allow\",\n",
    "#         sync_tensorboard=True\n",
    "#         )\n",
    "# # Specify the configuration variables\n",
    "# config = wandb.config\n",
    "\n",
    "# #config.batch_size = BATCH_SIZE\n",
    "# #config.dropout =DROPOUT\n",
    "# #config.learn_rate = LR\n",
    "# #config.momentum = MOMENTUM\n",
    "# #config.decay = 1e-6\n",
    "# #config.epochs = EPOCHS\n",
    "# #config.classes = classes\n",
    "# config.id = id\n",
    "# config.architecture = model_name\n",
    "\n",
    "# # Create a table\n",
    "# table = wandb.Table(columns = [\"plotly_figure\"])\n",
    "\n",
    "# # Create path for Plotly figure\n",
    "# path_to_plotly_html = \"./plotly_figure.html\"\n",
    "\n",
    "# # Write Plotly figure to HTML\n",
    "# fig.write_html(path_to_plotly_html, auto_play = False) # Setting auto_play to False prevents animated Plotly charts from playing in the table automatically\n",
    "\n",
    "# # Add Plotly figure as HTML file into Table\n",
    "# table.add_data(wandb.Html(path_to_plotly_html))\n",
    "\n",
    "# # Log Table\n",
    "# run.log({\"Chart_table\": table})\n",
    "\n",
    "# #wandb.log({\"Peak activations chart\": fig})\n",
    "\n",
    "# wandb.finish()"
   ]
  },
  {
   "cell_type": "code",
   "execution_count": null,
   "metadata": {},
   "outputs": [],
   "source": []
  }
 ],
 "metadata": {
  "kernelspec": {
   "display_name": "tiny_cnn_6",
   "language": "python",
   "name": "python3"
  },
  "language_info": {
   "codemirror_mode": {
    "name": "ipython",
    "version": 3
   },
   "file_extension": ".py",
   "mimetype": "text/x-python",
   "name": "python",
   "nbconvert_exporter": "python",
   "pygments_lexer": "ipython3",
   "version": "3.10.6"
  },
  "toc": {
   "base_numbering": 1,
   "nav_menu": {},
   "number_sections": true,
   "sideBar": true,
   "skip_h1_title": false,
   "title_cell": "Table of Contents",
   "title_sidebar": "Contents",
   "toc_cell": false,
   "toc_position": {},
   "toc_section_display": true,
   "toc_window_display": false
  },
  "vscode": {
   "interpreter": {
    "hash": "0faa6c31b20b8f809b81d6d7d22a84ccd9f354666f54133d1793fa4c65539801"
   }
  }
 },
 "nbformat": 4,
 "nbformat_minor": 2
}
