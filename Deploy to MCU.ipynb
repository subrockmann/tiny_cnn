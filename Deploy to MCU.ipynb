{
 "cells": [
  {
   "cell_type": "code",
   "execution_count": 1,
   "metadata": {},
   "outputs": [],
   "source": [
    "import os, sys, math, datetime\n",
    "import pathlib\n",
    "from pathlib import Path\n",
    "\n",
    "# import workbench.config.config'\n",
    "from workbench.config.config import initialize\n",
    "from workbench.utils.utils import create_filepaths"
   ]
  },
  {
   "cell_type": "code",
   "execution_count": 2,
   "metadata": {},
   "outputs": [],
   "source": [
    "models_dir = initialize()"
   ]
  },
  {
   "cell_type": "code",
   "execution_count": 3,
   "metadata": {},
   "outputs": [
    {
     "name": "stdout",
     "output_type": "stream",
     "text": [
      "i:\\tinyml\\tiny_cnn\\models\n"
     ]
    }
   ],
   "source": [
    "global model_name\n",
    "\n",
    "model_name = \"shufflenetv2tiny_0.1_96_c3_o3_f4l1024\"\n",
    "#model_name = \"shufflenetv2tiny_0.1_96_c3_o3_f4l1024\"\n",
    "\n",
    "models_path, models_summary_path, models_image_path, models_layer_df_path, models_tf_path, models_tflite_path, models_tflite_opt_path = create_filepaths(model_name)"
   ]
  },
  {
   "cell_type": "code",
   "execution_count": 4,
   "metadata": {},
   "outputs": [
    {
     "data": {
      "text/plain": [
       "WindowsPath('i:/tinyml/tiny_cnn/models/shufflenetv2tiny_0.1_96_c3_o3_f4l1024/shufflenetv2tiny_0.1_96_c3_o3_f4l1024_INT8.tflite')"
      ]
     },
     "execution_count": 4,
     "metadata": {},
     "output_type": "execute_result"
    }
   ],
   "source": [
    "models_tflite_opt_path"
   ]
  },
  {
   "attachments": {},
   "cell_type": "markdown",
   "metadata": {},
   "source": [
    "# Finding the tensor arena size"
   ]
  },
  {
   "cell_type": "code",
   "execution_count": 5,
   "metadata": {},
   "outputs": [],
   "source": [
    "#./build/find-arena-size some-tflite-file.tflite"
   ]
  },
  {
   "cell_type": "code",
   "execution_count": 6,
   "metadata": {},
   "outputs": [],
   "source": [
    "#! i:\\\\tinyml\\\\tflite-find-arena-size\\\\build\\\\find-arena-size $models_tflite_opt_path \n"
   ]
  },
  {
   "attachments": {},
   "cell_type": "markdown",
   "metadata": {},
   "source": [
    "# Generate .cc and .h files"
   ]
  },
  {
   "cell_type": "code",
   "execution_count": 7,
   "metadata": {},
   "outputs": [],
   "source": [
    "# Copyright 2021 The TensorFlow Authors. All Rights Reserved.\n",
    "#\n",
    "# Licensed under the Apache License, Version 2.0 (the \"License\");\n",
    "# you may not use this file except in compliance with the License.\n",
    "# You may obtain a copy of the License at\n",
    "#\n",
    "#     http://www.apache.org/licenses/LICENSE-2.0\n",
    "#\n",
    "# Unless required by applicable law or agreed to in writing, software\n",
    "# distributed under the License is distributed on an \"AS IS\" BASIS,\n",
    "# WITHOUT WARRANTIES OR CONDITIONS OF ANY KIND, either express or implied.\n",
    "# See the License for the specific language governing permissions and\n",
    "# limitations under the License.\n",
    "# ==============================================================================\n",
    "\"\"\"Library for converting .tflite, .bmp and .wav files to cc arrays.\"\"\"\n",
    "\n",
    "from __future__ import absolute_import\n",
    "from __future__ import division\n",
    "from __future__ import print_function\n",
    "\n",
    "import argparse\n",
    "import os\n",
    "import struct\n",
    "#import wave\n",
    "\n",
    "from PIL import Image\n",
    "\n",
    "\n",
    "def generate_file(out_fname, array_name, array_type, array_contents, size):\n",
    "  \"\"\"Write an array of values to a CC or header file.\"\"\"\n",
    "  os.makedirs(os.path.dirname(out_fname), exist_ok=True)\n",
    "  if (str(out_fname).endswith('.cc') or str(out_fname).endswith('.cpp')):\n",
    "    out_cc_file = open(out_fname, 'w')\n",
    "    #out_cc_file.write('#include <cstdint>\\n\\n')\n",
    "    # out_cc_file.write('#include \"{}\"\\n\\n'.format(\n",
    "    #     str(out_fname).split('genfiles/')[-1].replace('.cc', '.h')))\n",
    "    out_cc_file.write('#include \"model.h\"\\n\\n')\n",
    "    out_cc_file.write('const unsigned int {}_len = {};\\n'.format(\n",
    "        array_name, str(size)))\n",
    "    \n",
    "    # add modelname to file\n",
    "    out_cc_file.write('const unsigned char model_name[] = \"{}\";\\n\\n'.format(model_name))\n",
    "    \n",
    "    out_cc_file.write('alignas(16) const {} {}[] = {{'.format(\n",
    "        array_type, array_name))\n",
    "    out_cc_file.write(array_contents)\n",
    "    out_cc_file.write('};\\n')\n",
    "    out_cc_file.close()\n",
    "  elif str(out_fname).endswith('.h'):\n",
    "    out_hdr_file = open(out_fname, 'w')\n",
    "    #out_hdr_file.write('#include <cstdint>\\n\\n')\n",
    "    out_hdr_file.write(\n",
    "        'extern const unsigned int {}_len;\\n'.format(array_name))\n",
    "    out_hdr_file.write('extern const {} {}[];\\n'.format(\n",
    "        array_type, array_name))\n",
    "    \n",
    "    # add model name to file\n",
    "    out_hdr_file.write(\n",
    "        'const unsigned char model_name[];')\n",
    "    \n",
    "    out_hdr_file.close()\n",
    "  else:\n",
    "    raise ValueError('generated file must be end with .cc, .cpp or .h')\n",
    "\n",
    "\n",
    "def generate_array(input_fname):\n",
    "  \"\"\"Return array size and array of data from the input file.\"\"\"\n",
    "  if str(input_fname).endswith('.tflite'):\n",
    "    with open(input_fname, 'rb') as input_file:\n",
    "      out_string = ''\n",
    "      byte = input_file.read(1)\n",
    "      size = 0\n",
    "      while byte:\n",
    "        out_string += '0x' + byte.hex() + ','\n",
    "        byte = input_file.read(1)\n",
    "        size += 1\n",
    "      return [size, out_string]\n",
    "  elif str(input_fname).endswith('.bmp'):\n",
    "    img = Image.open(input_fname, mode='r')\n",
    "    image_bytes = img.tobytes()\n",
    "    out_string = ''\n",
    "    for byte in image_bytes:\n",
    "      out_string += hex(byte) + ','\n",
    "    return [len(image_bytes), out_string]\n",
    "#   elif input_fname.endswith('.wav'):\n",
    "#     wav_file = wave.open(input_fname, mode='r')\n",
    "#     num_channels = wav_file.getnchannels()\n",
    "#     n_frames = wav_file.getnframes()\n",
    "#     frames = wav_file.readframes(n_frames)\n",
    "#     samples = struct.unpack('<%dh' % (num_channels * n_frames), frames)\n",
    "#     out_string = ','.join(map(str, samples))\n",
    "#     wav_file.close()\n",
    "#     return [wav_file.getnframes(), out_string]\n",
    "  elif str(input_fname).endswith('.csv'):\n",
    "    with open(input_fname, 'r') as input_file:\n",
    "      # Assume one array per csv file.\n",
    "      elements = input_file.readline()\n",
    "      return [len(elements.split(',')), elements]\n",
    "  else:\n",
    "    raise ValueError('input file must be .tflite, .bmp, .wav or .csv')\n",
    "\n",
    "\n",
    "def get_array_name(input_fname):\n",
    "  # Normalize potential relative path to remove additional dot.\n",
    "  abs_fname = os.path.abspath(input_fname)\n",
    "  base_array_name = 'g_' + abs_fname.split('.')[-2].split('/')[-1]\n",
    "  if str(input_fname).endswith('.tflite'):\n",
    "    #return [base_array_name + '_model_data', 'unsigned char']\n",
    "    return ['g_model', 'unsigned char']\n",
    "  elif str(input_fname).endswith('.bmp'):\n",
    "    return [base_array_name + '_image_data', 'unsigned char']\n",
    "#   elif input_fname.endswith('.wav'):\n",
    "#     return [base_array_name + '_audio_data', 'int16_t']\n",
    "  elif str(input_fname).endswith('_int32.csv'):\n",
    "    return [base_array_name + '_test_data', 'int32_t']\n",
    "  elif str(input_fname).endswith('_int16.csv'):\n",
    "    return [base_array_name + '_test_data', 'int16_t']\n",
    "  elif str(input_fname).endswith('_int8.csv'):\n",
    "    return [base_array_name + '_test_data', 'int8_t']\n",
    "  elif str(input_fname).endswith('_float.csv'):\n",
    "    return [base_array_name + '_test_data', 'float']\n",
    "\n",
    "\n",
    "def main():\n",
    "  \"\"\"Create cc sources with c arrays with data from each .tflite or .bmp.\"\"\"\n",
    "  parser = argparse.ArgumentParser()\n",
    "  parser.add_argument(\n",
    "      'output',\n",
    "      help='base directory for all outputs or a cc or header to generate.')\n",
    "  parser.add_argument(\n",
    "      'inputs',\n",
    "      nargs='+',\n",
    "      help='input wav, bmp or tflite files to convert. '\n",
    "      'If output is a cc or header only one input may be specified.')\n",
    "  args = parser.parse_args()\n",
    "\n",
    "  if args.output.endswith('.cc') or args.output.endswith('.h'):\n",
    "    assert len(args.inputs) == 1\n",
    "    size, cc_array = generate_array(args.inputs[0])\n",
    "    generated_array_name, array_type = get_array_name(args.inputs[0])\n",
    "    generate_file(args.output, generated_array_name, array_type, cc_array,\n",
    "                  size)\n",
    "  else:\n",
    "    # Deduplicate inputs to prevent duplicate generated files (ODR issue).\n",
    "    for input_file in list(dict.fromkeys(args.inputs)):\n",
    "      output_base_fname = os.path.join(args.output,\n",
    "                                       os.path.splitext(input_file)[0])\n",
    "      if input_file.endswith('.tflite'):\n",
    "        output_base_fname = output_base_fname + '_model_data'\n",
    "      elif input_file.endswith('.bmp'):\n",
    "        output_base_fname = output_base_fname + '_image_data'\n",
    "      elif input_file.endswith('.wav'):\n",
    "        output_base_fname = output_base_fname + '_audio_data'\n",
    "      elif input_file.endswith('.csv'):\n",
    "        output_base_fname = output_base_fname + '_test_data'\n",
    "      else:\n",
    "        raise ValueError('input file must be .tflite, .bmp, .wav or .csv')\n",
    "\n",
    "      output_cc_fname = output_base_fname + '.cc'\n",
    "      # Print output cc filename for Make to include it in the build.\n",
    "      print(output_cc_fname)\n",
    "      output_hdr_fname = output_base_fname + '.h'\n",
    "      size, cc_array = generate_array(input_file)\n",
    "      generated_array_name, array_type = get_array_name(input_file)\n",
    "      generate_file(output_cc_fname, generated_array_name, array_type,\n",
    "                    cc_array, size)\n",
    "      generate_file(output_hdr_fname, generated_array_name, array_type,\n",
    "                    cc_array, size)\n",
    "\n",
    "\n",
    "# if __name__ == '__main__':\n",
    "#   main()\n",
    "\n",
    "def create_c_files(input_fname, out_fname):\n",
    "    #   if args.output.endswith('.cc') or args.output.endswith('.h'):\n",
    "    # assert len(args.inputs) == 1\n",
    "    size, cc_array = generate_array(input_fname)\n",
    "    generated_array_name, array_type = get_array_name(input_fname)\n",
    "    generate_file(out_fname, generated_array_name, array_type, cc_array,\n",
    "                  size)"
   ]
  },
  {
   "cell_type": "code",
   "execution_count": 8,
   "metadata": {},
   "outputs": [],
   "source": [
    "models_h_path = models_dir.joinpath(model_name, \"model.h\")\n",
    "models_c_path = models_dir.joinpath(model_name, \"model.cpp\")"
   ]
  },
  {
   "cell_type": "code",
   "execution_count": 9,
   "metadata": {},
   "outputs": [],
   "source": [
    "create_c_files(models_tflite_opt_path, models_h_path)\n",
    "create_c_files(models_tflite_opt_path, models_c_path)\n"
   ]
  },
  {
   "cell_type": "code",
   "execution_count": 10,
   "metadata": {},
   "outputs": [],
   "source": [
    "# TODO: change code to also build .cpp files for Arduino"
   ]
  },
  {
   "cell_type": "code",
   "execution_count": 11,
   "metadata": {},
   "outputs": [
    {
     "data": {
      "text/plain": [
       "'i:\\\\tinyml\\\\tiny_cnn\\\\models\\\\shufflenetv2tiny_0.1_96_c3_o3_f4l1024\\\\model.h'"
      ]
     },
     "execution_count": 11,
     "metadata": {},
     "output_type": "execute_result"
    }
   ],
   "source": [
    "str(models_h_path)"
   ]
  },
  {
   "cell_type": "code",
   "execution_count": 12,
   "metadata": {},
   "outputs": [
    {
     "data": {
      "text/plain": [
       "True"
      ]
     },
     "execution_count": 12,
     "metadata": {},
     "output_type": "execute_result"
    }
   ],
   "source": [
    "models_h_path.is_file()"
   ]
  },
  {
   "attachments": {},
   "cell_type": "markdown",
   "metadata": {},
   "source": [
    "# Open files in VS code"
   ]
  },
  {
   "cell_type": "code",
   "execution_count": 13,
   "metadata": {},
   "outputs": [],
   "source": [
    "! explorer $models_path "
   ]
  },
  {
   "cell_type": "code",
   "execution_count": 14,
   "metadata": {},
   "outputs": [],
   "source": [
    "! explorer $models_h_path\n",
    "! explorer $models_c_path"
   ]
  },
  {
   "cell_type": "code",
   "execution_count": null,
   "metadata": {},
   "outputs": [],
   "source": []
  }
 ],
 "metadata": {
  "kernelspec": {
   "display_name": "tiny_cnn_5",
   "language": "python",
   "name": "python3"
  },
  "language_info": {
   "codemirror_mode": {
    "name": "ipython",
    "version": 3
   },
   "file_extension": ".py",
   "mimetype": "text/x-python",
   "name": "python",
   "nbconvert_exporter": "python",
   "pygments_lexer": "ipython3",
   "version": "3.10.6"
  },
  "orig_nbformat": 4,
  "vscode": {
   "interpreter": {
    "hash": "4b362e3f7439b35b0bc0fa2e0c3a5b3cc0154c779cd4216b658aa3553d61d067"
   }
  }
 },
 "nbformat": 4,
 "nbformat_minor": 2
}
