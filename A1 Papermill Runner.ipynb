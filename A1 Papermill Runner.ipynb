{
 "cells": [
  {
   "cell_type": "code",
   "execution_count": 1,
   "metadata": {},
   "outputs": [],
   "source": [
    "import papermill as pm\n",
    "import os\n",
    "\n",
    "from workbench.config.config import initialize\n",
    "from workbench.utils.utils import parse_model_name, create_model_name\n",
    "%load_ext autoreload"
   ]
  },
  {
   "cell_type": "code",
   "execution_count": 2,
   "metadata": {},
   "outputs": [],
   "source": [
    "models_dir = initialize()"
   ]
  },
  {
   "cell_type": "code",
   "execution_count": 3,
   "metadata": {},
   "outputs": [],
   "source": [
    "base_model_name = \"shufflenet_v1\"\n",
    "variation_code = \"000\"\n",
    "#architecture = base_model_name+ \"_\" + variation_code\n",
    "architecture = base_model_name"
   ]
  },
  {
   "cell_type": "code",
   "execution_count": 4,
   "metadata": {},
   "outputs": [
    {
     "data": {
      "text/plain": [
       "'shufflenet_v1'"
      ]
     },
     "execution_count": 4,
     "metadata": {},
     "output_type": "execute_result"
    }
   ],
   "source": [
    "base_model_name"
   ]
  },
  {
   "cell_type": "code",
   "execution_count": 5,
   "metadata": {},
   "outputs": [],
   "source": [
    "# %%capture model_names\n",
    "\n",
    "# for img_res in [96]:\n",
    "#     for channels in [3]:\n",
    "#         for classes in [2]:\n",
    "#             for alpha in [ 0.25, 0.35, 0.5, 1]:#, 0.35, 0.5, 1]: #, 0.1,0.2,0.25]:  , 0.25,0.3,0.5\n",
    "#                 for groups in [1,2,3,4, 8]: #8c\n",
    "#                     input_shape = (img_res, img_res, channels)\n",
    "#                     #variation_code = \"l\"+str(loop_depth)\n",
    "#                     variation_code = \"g\"+str(groups)\n",
    "#                     model_name = create_model_name(base_model_name=base_model_name, alpha=alpha,input_shape=input_shape, classes=classes,variation_code=variation_code)\n",
    "#                     print(model_name)\n",
    "#                     pm.execute_notebook(\n",
    "#                         input_path=\"01 Model Factory.ipynb\",\n",
    "#                         output_path=f\"./artifact_notebooks/{model_name}.ipynb\",\n",
    "#                         parameters={\"alpha\": alpha,\n",
    "#                         \"classes\" : classes,\n",
    "#                         \"channels\" : channels,\n",
    "#                         \"img_res\" : img_res,\n",
    "#                         \"architecture\": architecture,\n",
    "#                         #\"loop_depth\": loop_depth,\n",
    "#                         \"groups\" : groups,\n",
    "#                         \"automated\" : True\n",
    "#                         }\n",
    "#                     )\n"
   ]
  },
  {
   "cell_type": "code",
   "execution_count": 6,
   "metadata": {},
   "outputs": [],
   "source": [
    "# analyze_names = model_names.stdout\n",
    "# analyze_names"
   ]
  },
  {
   "attachments": {},
   "cell_type": "markdown",
   "metadata": {},
   "source": [
    "# Creating Layer Analytics for Interesting Models "
   ]
  },
  {
   "cell_type": "code",
   "execution_count": 7,
   "metadata": {},
   "outputs": [],
   "source": [
    "# loop_depth = 4\n",
    "# resolution = 96\n",
    "# channels = 1\n",
    "# model_names= [\n",
    "#     f\"mobilenetv1_0.1_{resolution}_c{channels}_o3_l{loop_depth}\",\n",
    "#     f\"mobilenetv1_0.2_{resolution}_c{channels}_o3_l{loop_depth}\",\n",
    "#     f\"mobilenetv1_0.25_{resolution}_c{channels}_o3_l{loop_depth}\",\n",
    "#     f\"mobilenetv1_0.3_{resolution}_c{channels}_o3_l{loop_depth}\",\n",
    "#     f\"mobilenetv1_0.5_{resolution}_c{channels}_o3_l{loop_depth}\"\n",
    "# ]\n"
   ]
  },
  {
   "cell_type": "code",
   "execution_count": 8,
   "metadata": {},
   "outputs": [],
   "source": [
    "# model_names = [\"efficientNetB0_0.1_96_c3_o3_keras\"]"
   ]
  },
  {
   "cell_type": "code",
   "execution_count": 9,
   "metadata": {},
   "outputs": [
    {
     "data": {
      "text/plain": [
       "['mobilenetv2_0.25_96_c3_o2_t1l1024.MV1',\n",
       " 'mobilenetv2_0.25_96_c3_o2_t2l1024.MV1',\n",
       " 'mobilenetv2_0.25_96_c3_o2_t3l1024.MV1']"
      ]
     },
     "execution_count": 9,
     "metadata": {},
     "output_type": "execute_result"
    }
   ],
   "source": [
    "model_names = []\n",
    "with open(\"analyzer_list.txt\", \"r\") as file:\n",
    "    lines = file.readlines()\n",
    "    for line in lines:\n",
    "        if len(line) < 2:\n",
    "            pass\n",
    "        else:\n",
    "            model_names.append(line.strip())\n",
    "\n",
    "model_names"
   ]
  },
  {
   "cell_type": "code",
   "execution_count": 10,
   "metadata": {},
   "outputs": [
    {
     "name": "stdout",
     "output_type": "stream",
     "text": [
      "mobilenetv2_0.25_96_c3_o2_t1l1024.MV1\n"
     ]
    },
    {
     "data": {
      "application/vnd.jupyter.widget-view+json": {
       "model_id": "b032c39b2f794055b518288370587a2a",
       "version_major": 2,
       "version_minor": 0
      },
      "text/plain": [
       "Executing:   0%|          | 0/45 [00:00<?, ?cell/s]"
      ]
     },
     "metadata": {},
     "output_type": "display_data"
    },
    {
     "name": "stdout",
     "output_type": "stream",
     "text": [
      "mobilenetv2_0.25_96_c3_o2_t2l1024.MV1\n"
     ]
    },
    {
     "data": {
      "application/vnd.jupyter.widget-view+json": {
       "model_id": "0777e3142c924c73bffb9f98a3fc82f8",
       "version_major": 2,
       "version_minor": 0
      },
      "text/plain": [
       "Executing:   0%|          | 0/45 [00:00<?, ?cell/s]"
      ]
     },
     "metadata": {},
     "output_type": "display_data"
    },
    {
     "name": "stdout",
     "output_type": "stream",
     "text": [
      "mobilenetv2_0.25_96_c3_o2_t3l1024.MV1\n"
     ]
    },
    {
     "data": {
      "application/vnd.jupyter.widget-view+json": {
       "model_id": "a425f35377394099a2152b35d506082c",
       "version_major": 2,
       "version_minor": 0
      },
      "text/plain": [
       "Executing:   0%|          | 0/45 [00:00<?, ?cell/s]"
      ]
     },
     "metadata": {},
     "output_type": "display_data"
    }
   ],
   "source": [
    "for model_name in model_names:\n",
    "    print(model_name)\n",
    "    pm.execute_notebook(\n",
    "        input_path=\"02 TensorFlow Layer Analyzer.ipynb\",\n",
    "        output_path=f\"./artifact_notebooks/TensorFlow Layer Analyzer {model_name}.ipynb\",\n",
    "        parameters={\"model_name\" : model_name,\n",
    "                    \"automated\" : True\n",
    "        }\n",
    "    ) "
   ]
  },
  {
   "cell_type": "code",
   "execution_count": 11,
   "metadata": {},
   "outputs": [],
   "source": [
    "# model_names = ['shufflenetv2tiny_0.1_96_c3_o2_f16l1024',\n",
    "#  'shufflenetv2tiny_0.1_96_c3_o2_f8l64']"
   ]
  },
  {
   "cell_type": "code",
   "execution_count": 12,
   "metadata": {},
   "outputs": [
    {
     "name": "stdout",
     "output_type": "stream",
     "text": [
      "mobilenetv2_0.25_96_c3_o2_t1l1024.MV1\n"
     ]
    },
    {
     "data": {
      "application/vnd.jupyter.widget-view+json": {
       "model_id": "f95f872ccd024312b47698c031be393a",
       "version_major": 2,
       "version_minor": 0
      },
      "text/plain": [
       "Executing:   0%|          | 0/57 [00:00<?, ?cell/s]"
      ]
     },
     "metadata": {},
     "output_type": "display_data"
    },
    {
     "name": "stdout",
     "output_type": "stream",
     "text": [
      "mobilenetv2_0.25_96_c3_o2_t2l1024.MV1\n"
     ]
    },
    {
     "data": {
      "application/vnd.jupyter.widget-view+json": {
       "model_id": "648abd7a2cd84e02bc9707f12864f4fe",
       "version_major": 2,
       "version_minor": 0
      },
      "text/plain": [
       "Executing:   0%|          | 0/57 [00:00<?, ?cell/s]"
      ]
     },
     "metadata": {},
     "output_type": "display_data"
    },
    {
     "name": "stdout",
     "output_type": "stream",
     "text": [
      "mobilenetv2_0.25_96_c3_o2_t3l1024.MV1\n"
     ]
    },
    {
     "data": {
      "application/vnd.jupyter.widget-view+json": {
       "model_id": "39cd4dda56934e32906137178722ddd8",
       "version_major": 2,
       "version_minor": 0
      },
      "text/plain": [
       "Executing:   0%|          | 0/57 [00:00<?, ?cell/s]"
      ]
     },
     "metadata": {},
     "output_type": "display_data"
    }
   ],
   "source": [
    "for model_name in model_names:\n",
    "    print(model_name)\n",
    "    pm.execute_notebook(\n",
    "        input_path=\"03 Model Analyzer.ipynb\",\n",
    "        output_path=f\"./artifact_notebooks/Model Analyzer {model_name}.ipynb\",\n",
    "        parameters={\"model_name\" : model_name,\n",
    "                    \"automated\" : True\n",
    "        }\n",
    "    ) "
   ]
  },
  {
   "cell_type": "code",
   "execution_count": 13,
   "metadata": {},
   "outputs": [
    {
     "name": "stdout",
     "output_type": "stream",
     "text": [
      "mobilenetv2_0.25_96_c3_o2_t1l1024.MV1\n"
     ]
    },
    {
     "data": {
      "application/vnd.jupyter.widget-view+json": {
       "model_id": "7cf7f3d8c1644212bb6335b672813465",
       "version_major": 2,
       "version_minor": 0
      },
      "text/plain": [
       "Executing:   0%|          | 0/19 [00:00<?, ?cell/s]"
      ]
     },
     "metadata": {},
     "output_type": "display_data"
    },
    {
     "name": "stdout",
     "output_type": "stream",
     "text": [
      "mobilenetv2_0.25_96_c3_o2_t2l1024.MV1\n"
     ]
    },
    {
     "data": {
      "application/vnd.jupyter.widget-view+json": {
       "model_id": "702760005b994cdbb8f388c0d2bf3867",
       "version_major": 2,
       "version_minor": 0
      },
      "text/plain": [
       "Executing:   0%|          | 0/19 [00:00<?, ?cell/s]"
      ]
     },
     "metadata": {},
     "output_type": "display_data"
    },
    {
     "name": "stdout",
     "output_type": "stream",
     "text": [
      "mobilenetv2_0.25_96_c3_o2_t3l1024.MV1\n"
     ]
    },
    {
     "data": {
      "application/vnd.jupyter.widget-view+json": {
       "model_id": "2c51a361bf4740f188035aa0b6f1312b",
       "version_major": 2,
       "version_minor": 0
      },
      "text/plain": [
       "Executing:   0%|          | 0/19 [00:00<?, ?cell/s]"
      ]
     },
     "metadata": {},
     "output_type": "display_data"
    }
   ],
   "source": [
    "for model_name in model_names:\n",
    "    print(model_name)\n",
    "    pm.execute_notebook(\n",
    "        input_path=\"04 Deploy to MCU.ipynb\",\n",
    "        output_path=f\"./artifact_notebooks/Deploy to MCU {model_name}.ipynb\",\n",
    "        parameters={\"model_name\" : model_name,\n",
    "                    \"automated\" : True                    \n",
    "        }\n",
    "    ) "
   ]
  }
 ],
 "metadata": {
  "kernelspec": {
   "display_name": "tiny_cnn_6",
   "language": "python",
   "name": "python3"
  },
  "language_info": {
   "codemirror_mode": {
    "name": "ipython",
    "version": 3
   },
   "file_extension": ".py",
   "mimetype": "text/x-python",
   "name": "python",
   "nbconvert_exporter": "python",
   "pygments_lexer": "ipython3",
   "version": "3.10.6"
  },
  "orig_nbformat": 4,
  "vscode": {
   "interpreter": {
    "hash": "0faa6c31b20b8f809b81d6d7d22a84ccd9f354666f54133d1793fa4c65539801"
   }
  }
 },
 "nbformat": 4,
 "nbformat_minor": 2
}
