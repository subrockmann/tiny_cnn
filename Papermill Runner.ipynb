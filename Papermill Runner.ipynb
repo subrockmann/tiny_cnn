{
 "cells": [
  {
   "cell_type": "code",
   "execution_count": 28,
   "metadata": {},
   "outputs": [],
   "source": [
    "import papermill as pm\n",
    "import os\n",
    "\n",
    "from workbench.config.config import initialize\n",
    "from workbench.utils.utils import parse_model_name, create_model_name"
   ]
  },
  {
   "cell_type": "code",
   "execution_count": 29,
   "metadata": {},
   "outputs": [],
   "source": [
    "models_dir = initialize()"
   ]
  },
  {
   "cell_type": "code",
   "execution_count": 30,
   "metadata": {},
   "outputs": [],
   "source": [
    "base_model_name = \"mobilenetv1\"\n",
    "variation_code = \"000\""
   ]
  },
  {
   "cell_type": "code",
   "execution_count": 33,
   "metadata": {},
   "outputs": [
    {
     "name": "stdout",
     "output_type": "stream",
     "text": [
      "mobilenetv1_1_224_c3_o3_000\n"
     ]
    },
    {
     "data": {
      "application/vnd.jupyter.widget-view+json": {
       "model_id": "676e7d49278240f395db13f8af4a9d61",
       "version_major": 2,
       "version_minor": 0
      },
      "text/plain": [
       "Executing:   0%|          | 0/52 [00:00<?, ?cell/s]"
      ]
     },
     "metadata": {},
     "output_type": "display_data"
    }
   ],
   "source": [
    "for img_res in [224]:\n",
    "    for channels in [3]:\n",
    "        for classes in [3]:\n",
    "            for alpha in [1]:\n",
    "                input_shape = (img_res, img_res, channels)\n",
    "                model_name = create_model_name(base_model_name=base_model_name, alpha=alpha,input_shape=input_shape, classes=classes,variation_code=variation_code)\n",
    "                print(model_name)\n",
    "                pm.execute_notebook(\n",
    "                    input_path=\"Model Factory.ipynb\",\n",
    "                    output_path=f\"./artifact_notebooks/{model_name}.ipynb\",\n",
    "                    parameters={\"alpha\": alpha,\n",
    "                    \"classes\" : classes,\n",
    "                    \"channels\" : channels,\n",
    "                    \"img_res\" : img_res\n",
    "                    }\n",
    "                )\n"
   ]
  },
  {
   "cell_type": "code",
   "execution_count": 32,
   "metadata": {},
   "outputs": [
    {
     "data": {
      "text/plain": [
       "WindowsPath('i:/tinyml/tiny_cnn/models')"
      ]
     },
     "execution_count": 32,
     "metadata": {},
     "output_type": "execute_result"
    }
   ],
   "source": [
    "models_dir"
   ]
  },
  {
   "cell_type": "markdown",
   "metadata": {},
   "source": [
    "# Creating Layer Analytics for Interesting Models "
   ]
  },
  {
   "cell_type": "code",
   "execution_count": 37,
   "metadata": {},
   "outputs": [],
   "source": [
    "model_names= [\n",
    "    \"mobilenetv1_0.05_96_c3_o3_000\",\n",
    "    \"mobilenetv1_0.1_96_c3_o3_000\",\n",
    "    \"mobilenetv1_0.2_96_c3_o3_000\",\n",
    "    \"mobilenetv1_0.05_96_c1_o3_000\",\n",
    "    \"mobilenetv1_0.1_96_c1_o3_000\",\n",
    "    \"mobilenetv1_0.2_96_c1_o3_000\",\n",
    "    \"mobilenetv1_0.25_96_c1_o3_000\"\n",
    "]\n"
   ]
  },
  {
   "cell_type": "code",
   "execution_count": 38,
   "metadata": {},
   "outputs": [
    {
     "name": "stdout",
     "output_type": "stream",
     "text": [
      "mobilenetv1_0.05_96_c3_o3_000\n"
     ]
    },
    {
     "data": {
      "application/vnd.jupyter.widget-view+json": {
       "model_id": "8f7f445e2ff347f98694c619a1609b63",
       "version_major": 2,
       "version_minor": 0
      },
      "text/plain": [
       "Executing:   0%|          | 0/35 [00:00<?, ?cell/s]"
      ]
     },
     "metadata": {},
     "output_type": "display_data"
    },
    {
     "name": "stdout",
     "output_type": "stream",
     "text": [
      "mobilenetv1_0.1_96_c3_o3_000\n"
     ]
    },
    {
     "data": {
      "application/vnd.jupyter.widget-view+json": {
       "model_id": "2afc96667a6b4ea19d88005161f24d20",
       "version_major": 2,
       "version_minor": 0
      },
      "text/plain": [
       "Executing:   0%|          | 0/35 [00:00<?, ?cell/s]"
      ]
     },
     "metadata": {},
     "output_type": "display_data"
    },
    {
     "name": "stdout",
     "output_type": "stream",
     "text": [
      "mobilenetv1_0.2_96_c3_o3_000\n"
     ]
    },
    {
     "data": {
      "application/vnd.jupyter.widget-view+json": {
       "model_id": "f42c59c782df4ad2855f0dc399c8b0ce",
       "version_major": 2,
       "version_minor": 0
      },
      "text/plain": [
       "Executing:   0%|          | 0/35 [00:00<?, ?cell/s]"
      ]
     },
     "metadata": {},
     "output_type": "display_data"
    },
    {
     "name": "stdout",
     "output_type": "stream",
     "text": [
      "mobilenetv1_0.05_96_c1_o3_000\n"
     ]
    },
    {
     "data": {
      "application/vnd.jupyter.widget-view+json": {
       "model_id": "6b7a1b84478e467eb506ebe70e7f0c6f",
       "version_major": 2,
       "version_minor": 0
      },
      "text/plain": [
       "Executing:   0%|          | 0/35 [00:00<?, ?cell/s]"
      ]
     },
     "metadata": {},
     "output_type": "display_data"
    },
    {
     "name": "stdout",
     "output_type": "stream",
     "text": [
      "mobilenetv1_0.1_96_c1_o3_000\n"
     ]
    },
    {
     "data": {
      "application/vnd.jupyter.widget-view+json": {
       "model_id": "cbcfdf8eeac34ab595b56fbddf9103b9",
       "version_major": 2,
       "version_minor": 0
      },
      "text/plain": [
       "Executing:   0%|          | 0/35 [00:00<?, ?cell/s]"
      ]
     },
     "metadata": {},
     "output_type": "display_data"
    },
    {
     "name": "stdout",
     "output_type": "stream",
     "text": [
      "mobilenetv1_0.2_96_c1_o3_000\n"
     ]
    },
    {
     "data": {
      "application/vnd.jupyter.widget-view+json": {
       "model_id": "17c33eda67fc49aea12f68e4dba14136",
       "version_major": 2,
       "version_minor": 0
      },
      "text/plain": [
       "Executing:   0%|          | 0/35 [00:00<?, ?cell/s]"
      ]
     },
     "metadata": {},
     "output_type": "display_data"
    },
    {
     "name": "stdout",
     "output_type": "stream",
     "text": [
      "mobilenetv1_0.25_96_c1_o3_000\n"
     ]
    },
    {
     "data": {
      "application/vnd.jupyter.widget-view+json": {
       "model_id": "c3d6e62d74934788ac98767ef56a550b",
       "version_major": 2,
       "version_minor": 0
      },
      "text/plain": [
       "Executing:   0%|          | 0/35 [00:00<?, ?cell/s]"
      ]
     },
     "metadata": {},
     "output_type": "display_data"
    }
   ],
   "source": [
    "for model_name in model_names:\n",
    "    print(model_name)\n",
    "    pm.execute_notebook(\n",
    "        input_path=\"Layer Analytics.ipynb\",\n",
    "        output_path=f\"./artifact_notebooks/Layer Analytics{model_name}.ipynb\",\n",
    "        parameters={\"model_name\" : model_name\n",
    "        }\n",
    "    ) "
   ]
  },
  {
   "cell_type": "code",
   "execution_count": null,
   "metadata": {},
   "outputs": [],
   "source": []
  }
 ],
 "metadata": {
  "kernelspec": {
   "display_name": "Python 3.10.6 ('tiny_cnn_2')",
   "language": "python",
   "name": "python3"
  },
  "language_info": {
   "codemirror_mode": {
    "name": "ipython",
    "version": 3
   },
   "file_extension": ".py",
   "mimetype": "text/x-python",
   "name": "python",
   "nbconvert_exporter": "python",
   "pygments_lexer": "ipython3",
   "version": "3.10.6"
  },
  "orig_nbformat": 4,
  "vscode": {
   "interpreter": {
    "hash": "2a5cca28df3cd0ba47059fe6cd9a53ab574e90cbce762dd1f162648074df9bc3"
   }
  }
 },
 "nbformat": 4,
 "nbformat_minor": 2
}
