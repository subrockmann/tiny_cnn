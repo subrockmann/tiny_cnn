{
 "cells": [
  {
   "cell_type": "code",
   "execution_count": null,
   "metadata": {},
   "outputs": [],
   "source": [
    "import papermill as pm\n",
    "import os\n",
    "\n",
    "from workbench.config.config import initialize\n",
    "from workbench.utils.utils import parse_model_name, create_model_name"
   ]
  },
  {
   "cell_type": "code",
   "execution_count": null,
   "metadata": {},
   "outputs": [],
   "source": [
    "models_dir = initialize()"
   ]
  },
  {
   "cell_type": "code",
   "execution_count": null,
   "metadata": {},
   "outputs": [],
   "source": [
    "base_model_name = \"mobilenetv1\"\n",
    "variation_code = \"000\""
   ]
  },
  {
   "cell_type": "code",
   "execution_count": null,
   "metadata": {},
   "outputs": [],
   "source": [
    "for input_shape in [(224,224,1), (224,224,3), (128,128,1), (128,128,3)]:\n",
    "    for classes in [3]:\n",
    "        for alpha in [1, 0.5, 0.35, 0.25, 0.2, 0.1, 0.05]:\n",
    "            model_name = create_model_name(base_model_name=base_model_name, alpha=alpha,input_shape=input_shape, classes=classes,variation_code=variation_code)\n",
    "            print(model_name)\n",
    "            pm.execute_notebook(\n",
    "                input_path=\"Model Factory.ipynb\",\n",
    "                output_path=f\"./artifact_notebooks/{model_name}.ipynb\",\n",
    "                parameters={\"alpha\": alpha,\n",
    "                \"classes\" : classes#,\n",
    "                #\"input_shape\" : input_shape\n",
    "                 }\n",
    "            )\n"
   ]
  },
  {
   "cell_type": "code",
   "execution_count": null,
   "metadata": {},
   "outputs": [],
   "source": [
    "models_dir"
   ]
  },
  {
   "cell_type": "code",
   "execution_count": null,
   "metadata": {},
   "outputs": [],
   "source": []
  }
 ],
 "metadata": {
  "kernelspec": {
   "display_name": "Python 3.10.6 ('tiny_cnn_2')",
   "language": "python",
   "name": "python3"
  },
  "language_info": {
   "codemirror_mode": {
    "name": "ipython",
    "version": 3
   },
   "file_extension": ".py",
   "mimetype": "text/x-python",
   "name": "python",
   "nbconvert_exporter": "python",
   "pygments_lexer": "ipython3",
   "version": "3.10.6"
  },
  "orig_nbformat": 4,
  "vscode": {
   "interpreter": {
    "hash": "2a5cca28df3cd0ba47059fe6cd9a53ab574e90cbce762dd1f162648074df9bc3"
   }
  }
 },
 "nbformat": 4,
 "nbformat_minor": 2
}
