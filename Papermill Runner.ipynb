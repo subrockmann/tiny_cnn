{
 "cells": [
  {
   "cell_type": "code",
   "execution_count": 1,
   "metadata": {},
   "outputs": [],
   "source": [
    "import papermill as pm\n",
    "import os\n",
    "\n",
    "from workbench.config.config import initialize\n",
    "from workbench.utils.utils import parse_model_name, create_model_name\n",
    "%load_ext autoreload"
   ]
  },
  {
   "cell_type": "code",
   "execution_count": 2,
   "metadata": {},
   "outputs": [],
   "source": [
    "models_dir = initialize()"
   ]
  },
  {
   "cell_type": "code",
   "execution_count": 3,
   "metadata": {},
   "outputs": [],
   "source": [
    "base_model_name = \"shufflenet_v1\"\n",
    "variation_code = \"000\"\n",
    "#architecture = base_model_name+ \"_\" + variation_code\n",
    "architecture = base_model_name"
   ]
  },
  {
   "cell_type": "code",
   "execution_count": 4,
   "metadata": {},
   "outputs": [
    {
     "data": {
      "text/plain": [
       "'shufflenet_v1'"
      ]
     },
     "execution_count": 4,
     "metadata": {},
     "output_type": "execute_result"
    }
   ],
   "source": [
    "base_model_name"
   ]
  },
  {
   "cell_type": "code",
   "execution_count": 5,
   "metadata": {},
   "outputs": [],
   "source": [
    "# %%capture model_names\n",
    "\n",
    "# for img_res in [96]:\n",
    "#     for channels in [3]:\n",
    "#         for classes in [2]:\n",
    "#             for alpha in [ 0.25, 0.35, 0.5, 1]:#, 0.35, 0.5, 1]: #, 0.1,0.2,0.25]:  , 0.25,0.3,0.5\n",
    "#                 for groups in [1,2,3,4, 8]: #8c\n",
    "#                     input_shape = (img_res, img_res, channels)\n",
    "#                     #variation_code = \"l\"+str(loop_depth)\n",
    "#                     variation_code = \"g\"+str(groups)\n",
    "#                     model_name = create_model_name(base_model_name=base_model_name, alpha=alpha,input_shape=input_shape, classes=classes,variation_code=variation_code)\n",
    "#                     print(model_name)\n",
    "#                     pm.execute_notebook(\n",
    "#                         input_path=\"Model Factory.ipynb\",\n",
    "#                         output_path=f\"./artifact_notebooks/{model_name}.ipynb\",\n",
    "#                         parameters={\"alpha\": alpha,\n",
    "#                         \"classes\" : classes,\n",
    "#                         \"channels\" : channels,\n",
    "#                         \"img_res\" : img_res,\n",
    "#                         \"architecture\": architecture,\n",
    "#                         #\"loop_depth\": loop_depth,\n",
    "#                         \"groups\" : groups,\n",
    "#                         \"automated\" : True\n",
    "#                         }\n",
    "#                     )\n"
   ]
  },
  {
   "cell_type": "code",
   "execution_count": 6,
   "metadata": {},
   "outputs": [],
   "source": [
    "# analyze_names = model_names.stdout\n",
    "# analyze_names"
   ]
  },
  {
   "cell_type": "markdown",
   "metadata": {},
   "source": [
    "# Creating Layer Analytics for Interesting Models "
   ]
  },
  {
   "cell_type": "code",
   "execution_count": 7,
   "metadata": {},
   "outputs": [],
   "source": [
    "# loop_depth = 4\n",
    "# resolution = 96\n",
    "# channels = 1\n",
    "# model_names= [\n",
    "#     f\"mobilenetv1_0.1_{resolution}_c{channels}_o3_l{loop_depth}\",\n",
    "#     f\"mobilenetv1_0.2_{resolution}_c{channels}_o3_l{loop_depth}\",\n",
    "#     f\"mobilenetv1_0.25_{resolution}_c{channels}_o3_l{loop_depth}\",\n",
    "#     f\"mobilenetv1_0.3_{resolution}_c{channels}_o3_l{loop_depth}\",\n",
    "#     f\"mobilenetv1_0.5_{resolution}_c{channels}_o3_l{loop_depth}\"\n",
    "# ]\n"
   ]
  },
  {
   "cell_type": "code",
   "execution_count": 8,
   "metadata": {},
   "outputs": [],
   "source": [
    "# model_names = [\"efficientNetB0_0.1_96_c3_o3_keras\"]"
   ]
  },
  {
   "cell_type": "code",
   "execution_count": 9,
   "metadata": {},
   "outputs": [
    {
     "data": {
      "text/plain": [
       "['mobilenetv3small_1_224_c3_o2_000', 'MobilenetV3small_1_224_c3_o2_keras']"
      ]
     },
     "execution_count": 9,
     "metadata": {},
     "output_type": "execute_result"
    }
   ],
   "source": [
    "model_names = []\n",
    "with open(\"analyzer_list.txt\", \"r\") as file:\n",
    "    lines = file.readlines()\n",
    "    for line in lines:\n",
    "        if len(line) < 2:\n",
    "            pass\n",
    "        else:\n",
    "            model_names.append(line.strip())\n",
    "\n",
    "model_names"
   ]
  },
  {
   "cell_type": "code",
   "execution_count": 10,
   "metadata": {},
   "outputs": [
    {
     "name": "stdout",
     "output_type": "stream",
     "text": [
      "mobilenetv3small_1_224_c3_o2_000\n"
     ]
    },
    {
     "data": {
      "application/vnd.jupyter.widget-view+json": {
       "model_id": "ed1b012b06d54181a9b9e42c39d8070a",
       "version_major": 2,
       "version_minor": 0
      },
      "text/plain": [
       "Executing:   0%|          | 0/45 [00:00<?, ?cell/s]"
      ]
     },
     "metadata": {},
     "output_type": "display_data"
    },
    {
     "ename": "OSError",
     "evalue": "[Errno 22] Invalid argument: './artifact_notebooks/TensorFlow Layer Analyzer mobilenetv3small_1_224_c3_o2_000.ipynb'",
     "output_type": "error",
     "traceback": [
      "\u001b[1;31m---------------------------------------------------------------------------\u001b[0m",
      "\u001b[1;31mOSError\u001b[0m                                   Traceback (most recent call last)",
      "Cell \u001b[1;32mIn [10], line 3\u001b[0m\n\u001b[0;32m      1\u001b[0m \u001b[39mfor\u001b[39;00m model_name \u001b[39min\u001b[39;00m model_names:\n\u001b[0;32m      2\u001b[0m     \u001b[39mprint\u001b[39m(model_name)\n\u001b[1;32m----> 3\u001b[0m     pm\u001b[39m.\u001b[39;49mexecute_notebook(\n\u001b[0;32m      4\u001b[0m         input_path\u001b[39m=\u001b[39;49m\u001b[39m\"\u001b[39;49m\u001b[39mTensorFlow Layer Analyzer.ipynb\u001b[39;49m\u001b[39m\"\u001b[39;49m,\n\u001b[0;32m      5\u001b[0m         output_path\u001b[39m=\u001b[39;49m\u001b[39mf\u001b[39;49m\u001b[39m\"\u001b[39;49m\u001b[39m./artifact_notebooks/TensorFlow Layer Analyzer \u001b[39;49m\u001b[39m{\u001b[39;49;00mmodel_name\u001b[39m}\u001b[39;49;00m\u001b[39m.ipynb\u001b[39;49m\u001b[39m\"\u001b[39;49m,\n\u001b[0;32m      6\u001b[0m         parameters\u001b[39m=\u001b[39;49m{\u001b[39m\"\u001b[39;49m\u001b[39mmodel_name\u001b[39;49m\u001b[39m\"\u001b[39;49m : model_name,\n\u001b[0;32m      7\u001b[0m                     \u001b[39m\"\u001b[39;49m\u001b[39mautomated\u001b[39;49m\u001b[39m\"\u001b[39;49m : \u001b[39mTrue\u001b[39;49;00m\n\u001b[0;32m      8\u001b[0m         }\n\u001b[0;32m      9\u001b[0m     )\n",
      "File \u001b[1;32md:\\Miniconda\\envs\\tiny_cnn_6\\lib\\site-packages\\papermill\\execute.py:113\u001b[0m, in \u001b[0;36mexecute_notebook\u001b[1;34m(input_path, output_path, parameters, engine_name, request_save_on_cell_execute, prepare_only, kernel_name, language, progress_bar, log_output, stdout_file, stderr_file, start_timeout, report_mode, cwd, **engine_kwargs)\u001b[0m\n\u001b[0;32m    111\u001b[0m \u001b[39m# Execute the Notebook in `cwd` if it is set\u001b[39;00m\n\u001b[0;32m    112\u001b[0m \u001b[39mwith\u001b[39;00m chdir(cwd):\n\u001b[1;32m--> 113\u001b[0m     nb \u001b[39m=\u001b[39m papermill_engines\u001b[39m.\u001b[39mexecute_notebook_with_engine(\n\u001b[0;32m    114\u001b[0m         engine_name,\n\u001b[0;32m    115\u001b[0m         nb,\n\u001b[0;32m    116\u001b[0m         input_path\u001b[39m=\u001b[39minput_path,\n\u001b[0;32m    117\u001b[0m         output_path\u001b[39m=\u001b[39moutput_path \u001b[39mif\u001b[39;00m request_save_on_cell_execute \u001b[39melse\u001b[39;00m \u001b[39mNone\u001b[39;00m,\n\u001b[0;32m    118\u001b[0m         kernel_name\u001b[39m=\u001b[39mkernel_name,\n\u001b[0;32m    119\u001b[0m         progress_bar\u001b[39m=\u001b[39mprogress_bar,\n\u001b[0;32m    120\u001b[0m         log_output\u001b[39m=\u001b[39mlog_output,\n\u001b[0;32m    121\u001b[0m         start_timeout\u001b[39m=\u001b[39mstart_timeout,\n\u001b[0;32m    122\u001b[0m         stdout_file\u001b[39m=\u001b[39mstdout_file,\n\u001b[0;32m    123\u001b[0m         stderr_file\u001b[39m=\u001b[39mstderr_file,\n\u001b[0;32m    124\u001b[0m         \u001b[39m*\u001b[39m\u001b[39m*\u001b[39mengine_kwargs\n\u001b[0;32m    125\u001b[0m     )\n\u001b[0;32m    127\u001b[0m \u001b[39m# Check for errors first (it saves on error before raising)\u001b[39;00m\n\u001b[0;32m    128\u001b[0m raise_for_execution_errors(nb, output_path)\n",
      "File \u001b[1;32md:\\Miniconda\\envs\\tiny_cnn_6\\lib\\site-packages\\papermill\\engines.py:49\u001b[0m, in \u001b[0;36mPapermillEngines.execute_notebook_with_engine\u001b[1;34m(self, engine_name, nb, kernel_name, **kwargs)\u001b[0m\n\u001b[0;32m     47\u001b[0m \u001b[39mdef\u001b[39;00m \u001b[39mexecute_notebook_with_engine\u001b[39m(\u001b[39mself\u001b[39m, engine_name, nb, kernel_name, \u001b[39m*\u001b[39m\u001b[39m*\u001b[39mkwargs):\n\u001b[0;32m     48\u001b[0m     \u001b[39m\"\"\"Fetch a named engine and execute the nb object against it.\"\"\"\u001b[39;00m\n\u001b[1;32m---> 49\u001b[0m     \u001b[39mreturn\u001b[39;00m \u001b[39mself\u001b[39m\u001b[39m.\u001b[39mget_engine(engine_name)\u001b[39m.\u001b[39mexecute_notebook(nb, kernel_name, \u001b[39m*\u001b[39m\u001b[39m*\u001b[39mkwargs)\n",
      "File \u001b[1;32md:\\Miniconda\\envs\\tiny_cnn_6\\lib\\site-packages\\papermill\\engines.py:365\u001b[0m, in \u001b[0;36mEngine.execute_notebook\u001b[1;34m(cls, nb, kernel_name, output_path, progress_bar, log_output, autosave_cell_every, **kwargs)\u001b[0m\n\u001b[0;32m    349\u001b[0m \u001b[39m\"\"\"\u001b[39;00m\n\u001b[0;32m    350\u001b[0m \u001b[39mA wrapper to handle notebook execution tasks.\u001b[39;00m\n\u001b[0;32m    351\u001b[0m \n\u001b[1;32m   (...)\u001b[0m\n\u001b[0;32m    355\u001b[0m \u001b[39miterating and executing the cell contents.\u001b[39;00m\n\u001b[0;32m    356\u001b[0m \u001b[39m\"\"\"\u001b[39;00m\n\u001b[0;32m    357\u001b[0m nb_man \u001b[39m=\u001b[39m NotebookExecutionManager(\n\u001b[0;32m    358\u001b[0m     nb,\n\u001b[0;32m    359\u001b[0m     output_path\u001b[39m=\u001b[39moutput_path,\n\u001b[1;32m   (...)\u001b[0m\n\u001b[0;32m    362\u001b[0m     autosave_cell_every\u001b[39m=\u001b[39mautosave_cell_every,\n\u001b[0;32m    363\u001b[0m )\n\u001b[1;32m--> 365\u001b[0m nb_man\u001b[39m.\u001b[39;49mnotebook_start()\n\u001b[0;32m    366\u001b[0m \u001b[39mtry\u001b[39;00m:\n\u001b[0;32m    367\u001b[0m     \u001b[39mcls\u001b[39m\u001b[39m.\u001b[39mexecute_managed_notebook(nb_man, kernel_name, log_output\u001b[39m=\u001b[39mlog_output, \u001b[39m*\u001b[39m\u001b[39m*\u001b[39mkwargs)\n",
      "File \u001b[1;32md:\\Miniconda\\envs\\tiny_cnn_6\\lib\\site-packages\\papermill\\engines.py:77\u001b[0m, in \u001b[0;36mcatch_nb_assignment.<locals>.wrapper\u001b[1;34m(self, *args, **kwargs)\u001b[0m\n\u001b[0;32m     74\u001b[0m \u001b[39mif\u001b[39;00m nb:\n\u001b[0;32m     75\u001b[0m     \u001b[39m# Reassign if executing notebook object was replaced\u001b[39;00m\n\u001b[0;32m     76\u001b[0m     \u001b[39mself\u001b[39m\u001b[39m.\u001b[39mnb \u001b[39m=\u001b[39m nb\n\u001b[1;32m---> 77\u001b[0m \u001b[39mreturn\u001b[39;00m func(\u001b[39mself\u001b[39m, \u001b[39m*\u001b[39margs, \u001b[39m*\u001b[39m\u001b[39m*\u001b[39mkwargs)\n",
      "File \u001b[1;32md:\\Miniconda\\envs\\tiny_cnn_6\\lib\\site-packages\\papermill\\engines.py:206\u001b[0m, in \u001b[0;36mNotebookExecutionManager.notebook_start\u001b[1;34m(self, **kwargs)\u001b[0m\n\u001b[0;32m    203\u001b[0m     \u001b[39mif\u001b[39;00m cell\u001b[39m.\u001b[39mget(\u001b[39m\"\u001b[39m\u001b[39mcell_type\u001b[39m\u001b[39m\"\u001b[39m) \u001b[39m==\u001b[39m \u001b[39m\"\u001b[39m\u001b[39mcode\u001b[39m\u001b[39m\"\u001b[39m:\n\u001b[0;32m    204\u001b[0m         cell\u001b[39m.\u001b[39moutputs \u001b[39m=\u001b[39m []\n\u001b[1;32m--> 206\u001b[0m \u001b[39mself\u001b[39;49m\u001b[39m.\u001b[39;49msave()\n",
      "File \u001b[1;32md:\\Miniconda\\envs\\tiny_cnn_6\\lib\\site-packages\\papermill\\engines.py:77\u001b[0m, in \u001b[0;36mcatch_nb_assignment.<locals>.wrapper\u001b[1;34m(self, *args, **kwargs)\u001b[0m\n\u001b[0;32m     74\u001b[0m \u001b[39mif\u001b[39;00m nb:\n\u001b[0;32m     75\u001b[0m     \u001b[39m# Reassign if executing notebook object was replaced\u001b[39;00m\n\u001b[0;32m     76\u001b[0m     \u001b[39mself\u001b[39m\u001b[39m.\u001b[39mnb \u001b[39m=\u001b[39m nb\n\u001b[1;32m---> 77\u001b[0m \u001b[39mreturn\u001b[39;00m func(\u001b[39mself\u001b[39m, \u001b[39m*\u001b[39margs, \u001b[39m*\u001b[39m\u001b[39m*\u001b[39mkwargs)\n",
      "File \u001b[1;32md:\\Miniconda\\envs\\tiny_cnn_6\\lib\\site-packages\\papermill\\engines.py:147\u001b[0m, in \u001b[0;36mNotebookExecutionManager.save\u001b[1;34m(self, **kwargs)\u001b[0m\n\u001b[0;32m    134\u001b[0m \u001b[39m\"\"\"\u001b[39;00m\n\u001b[0;32m    135\u001b[0m \u001b[39mSaves the wrapped notebook state.\u001b[39;00m\n\u001b[0;32m    136\u001b[0m \n\u001b[1;32m   (...)\u001b[0m\n\u001b[0;32m    144\u001b[0m \u001b[39ma 5 hour cell execution to capture output messages in the notebook.\u001b[39;00m\n\u001b[0;32m    145\u001b[0m \u001b[39m\"\"\"\u001b[39;00m\n\u001b[0;32m    146\u001b[0m \u001b[39mif\u001b[39;00m \u001b[39mself\u001b[39m\u001b[39m.\u001b[39moutput_path:\n\u001b[1;32m--> 147\u001b[0m     write_ipynb(\u001b[39mself\u001b[39;49m\u001b[39m.\u001b[39;49mnb, \u001b[39mself\u001b[39;49m\u001b[39m.\u001b[39;49moutput_path)\n\u001b[0;32m    148\u001b[0m \u001b[39mself\u001b[39m\u001b[39m.\u001b[39mlast_save_time \u001b[39m=\u001b[39m \u001b[39mself\u001b[39m\u001b[39m.\u001b[39mnow()\n",
      "File \u001b[1;32md:\\Miniconda\\envs\\tiny_cnn_6\\lib\\site-packages\\papermill\\iorw.py:499\u001b[0m, in \u001b[0;36mwrite_ipynb\u001b[1;34m(nb, path)\u001b[0m\n\u001b[0;32m    493\u001b[0m \u001b[39mdef\u001b[39;00m \u001b[39mwrite_ipynb\u001b[39m(nb, path):\n\u001b[0;32m    494\u001b[0m     \u001b[39m\"\"\"Saves a notebook object to the specified path.\u001b[39;00m\n\u001b[0;32m    495\u001b[0m \u001b[39m    Args:\u001b[39;00m\n\u001b[0;32m    496\u001b[0m \u001b[39m        nb_node (nbformat.NotebookNode): Notebook object to save.\u001b[39;00m\n\u001b[0;32m    497\u001b[0m \u001b[39m        notebook_path (str): Path to save the notebook object to.\u001b[39;00m\n\u001b[0;32m    498\u001b[0m \u001b[39m    \"\"\"\u001b[39;00m\n\u001b[1;32m--> 499\u001b[0m     papermill_io\u001b[39m.\u001b[39;49mwrite(nbformat\u001b[39m.\u001b[39;49mwrites(nb), path)\n",
      "File \u001b[1;32md:\\Miniconda\\envs\\tiny_cnn_6\\lib\\site-packages\\papermill\\iorw.py:106\u001b[0m, in \u001b[0;36mPapermillIO.write\u001b[1;34m(self, buf, path, extensions)\u001b[0m\n\u001b[0;32m    105\u001b[0m \u001b[39mdef\u001b[39;00m \u001b[39mwrite\u001b[39m(\u001b[39mself\u001b[39m, buf, path, extensions\u001b[39m=\u001b[39m[\u001b[39m'\u001b[39m\u001b[39m.ipynb\u001b[39m\u001b[39m'\u001b[39m, \u001b[39m'\u001b[39m\u001b[39m.json\u001b[39m\u001b[39m'\u001b[39m]):\n\u001b[1;32m--> 106\u001b[0m     \u001b[39mreturn\u001b[39;00m \u001b[39mself\u001b[39;49m\u001b[39m.\u001b[39;49mget_handler(path, extensions)\u001b[39m.\u001b[39;49mwrite(buf, path)\n",
      "File \u001b[1;32md:\\Miniconda\\envs\\tiny_cnn_6\\lib\\site-packages\\papermill\\iorw.py:227\u001b[0m, in \u001b[0;36mLocalHandler.write\u001b[1;34m(self, buf, path)\u001b[0m\n\u001b[0;32m    225\u001b[0m \u001b[39mif\u001b[39;00m dirname \u001b[39mand\u001b[39;00m \u001b[39mnot\u001b[39;00m os\u001b[39m.\u001b[39mpath\u001b[39m.\u001b[39mexists(dirname):\n\u001b[0;32m    226\u001b[0m     \u001b[39mraise\u001b[39;00m \u001b[39mFileNotFoundError\u001b[39;00m(\u001b[39m\"\u001b[39m\u001b[39moutput folder \u001b[39m\u001b[39m{}\u001b[39;00m\u001b[39m doesn\u001b[39m\u001b[39m'\u001b[39m\u001b[39mt exist.\u001b[39m\u001b[39m\"\u001b[39m\u001b[39m.\u001b[39mformat(dirname))\n\u001b[1;32m--> 227\u001b[0m \u001b[39mwith\u001b[39;00m io\u001b[39m.\u001b[39;49mopen(path, \u001b[39m'\u001b[39;49m\u001b[39mw\u001b[39;49m\u001b[39m'\u001b[39;49m, encoding\u001b[39m=\u001b[39;49m\u001b[39m\"\u001b[39;49m\u001b[39mutf-8\u001b[39;49m\u001b[39m\"\u001b[39;49m) \u001b[39mas\u001b[39;00m f:\n\u001b[0;32m    228\u001b[0m     f\u001b[39m.\u001b[39mwrite(buf)\n",
      "\u001b[1;31mOSError\u001b[0m: [Errno 22] Invalid argument: './artifact_notebooks/TensorFlow Layer Analyzer mobilenetv3small_1_224_c3_o2_000.ipynb'"
     ]
    }
   ],
   "source": [
    "for model_name in model_names:\n",
    "    print(model_name)\n",
    "    pm.execute_notebook(\n",
    "        input_path=\"TensorFlow Layer Analyzer.ipynb\",\n",
    "        output_path=f\"./artifact_notebooks/TensorFlow Layer Analyzer {model_name}.ipynb\",\n",
    "        parameters={\"model_name\" : model_name,\n",
    "                    \"automated\" : True\n",
    "        }\n",
    "    ) "
   ]
  },
  {
   "cell_type": "code",
   "execution_count": null,
   "metadata": {},
   "outputs": [
    {
     "name": "stdout",
     "output_type": "stream",
     "text": [
      "mobilenetv2_0.25_96_c3_o2_t5l512.MV1\n"
     ]
    },
    {
     "data": {
      "application/vnd.jupyter.widget-view+json": {
       "model_id": "6a6b0de08f40475b9ed25f89684a97f9",
       "version_major": 2,
       "version_minor": 0
      },
      "text/plain": [
       "Executing:   0%|          | 0/56 [00:00<?, ?cell/s]"
      ]
     },
     "metadata": {},
     "output_type": "display_data"
    },
    {
     "name": "stdout",
     "output_type": "stream",
     "text": [
      "mobilenetv2_0.25_96_c3_o2_t4l512.MV1\n"
     ]
    },
    {
     "data": {
      "application/vnd.jupyter.widget-view+json": {
       "model_id": "d7026789cf234b9c941bd836bcedd8da",
       "version_major": 2,
       "version_minor": 0
      },
      "text/plain": [
       "Executing:   0%|          | 0/56 [00:00<?, ?cell/s]"
      ]
     },
     "metadata": {},
     "output_type": "display_data"
    },
    {
     "name": "stdout",
     "output_type": "stream",
     "text": [
      "mobilenetv2_0.25_96_c3_o2_t4l256.MV1\n"
     ]
    },
    {
     "data": {
      "application/vnd.jupyter.widget-view+json": {
       "model_id": "bda3f5b9ddc34e26a86fc0df6b74a40f",
       "version_major": 2,
       "version_minor": 0
      },
      "text/plain": [
       "Executing:   0%|          | 0/56 [00:00<?, ?cell/s]"
      ]
     },
     "metadata": {},
     "output_type": "display_data"
    },
    {
     "name": "stdout",
     "output_type": "stream",
     "text": [
      "mobilenetv2_0.2_96_c3_o2_t4l128.MV1\n"
     ]
    },
    {
     "data": {
      "application/vnd.jupyter.widget-view+json": {
       "model_id": "faa7285723964cfebf55924ddcb4b4fa",
       "version_major": 2,
       "version_minor": 0
      },
      "text/plain": [
       "Executing:   0%|          | 0/56 [00:00<?, ?cell/s]"
      ]
     },
     "metadata": {},
     "output_type": "display_data"
    },
    {
     "name": "stdout",
     "output_type": "stream",
     "text": [
      "mobilenetv2_0.2_96_c3_o2_t4l256.MV1\n"
     ]
    },
    {
     "data": {
      "application/vnd.jupyter.widget-view+json": {
       "model_id": "3d8b4be81550428da95a00e7dfaa594c",
       "version_major": 2,
       "version_minor": 0
      },
      "text/plain": [
       "Executing:   0%|          | 0/56 [00:00<?, ?cell/s]"
      ]
     },
     "metadata": {},
     "output_type": "display_data"
    },
    {
     "name": "stdout",
     "output_type": "stream",
     "text": [
      "mobilenetv2_0.2_96_c3_o2_t4l512.MV1\n"
     ]
    },
    {
     "data": {
      "application/vnd.jupyter.widget-view+json": {
       "model_id": "71b03208d606477a8bb27e2a839c7c21",
       "version_major": 2,
       "version_minor": 0
      },
      "text/plain": [
       "Executing:   0%|          | 0/56 [00:00<?, ?cell/s]"
      ]
     },
     "metadata": {},
     "output_type": "display_data"
    },
    {
     "name": "stdout",
     "output_type": "stream",
     "text": [
      "mobilenetv2_0.2_96_c3_o2_t4l1024.MV1\n"
     ]
    },
    {
     "data": {
      "application/vnd.jupyter.widget-view+json": {
       "model_id": "86587f97116a4e44a89b1e254c6533fa",
       "version_major": 2,
       "version_minor": 0
      },
      "text/plain": [
       "Executing:   0%|          | 0/56 [00:00<?, ?cell/s]"
      ]
     },
     "metadata": {},
     "output_type": "display_data"
    },
    {
     "name": "stdout",
     "output_type": "stream",
     "text": [
      "mobilenetv2_0.2_96_c3_o2_t3l1024.MV1\n"
     ]
    },
    {
     "data": {
      "application/vnd.jupyter.widget-view+json": {
       "model_id": "8bcff04ce7c34ec496ab34c6d89a4e56",
       "version_major": 2,
       "version_minor": 0
      },
      "text/plain": [
       "Executing:   0%|          | 0/56 [00:00<?, ?cell/s]"
      ]
     },
     "metadata": {},
     "output_type": "display_data"
    },
    {
     "name": "stdout",
     "output_type": "stream",
     "text": [
      "mobilenetv2_0.2_96_c3_o2_t3l512.MV1\n"
     ]
    },
    {
     "data": {
      "application/vnd.jupyter.widget-view+json": {
       "model_id": "5a38461e2c48451194026a4df7eef190",
       "version_major": 2,
       "version_minor": 0
      },
      "text/plain": [
       "Executing:   0%|          | 0/56 [00:00<?, ?cell/s]"
      ]
     },
     "metadata": {},
     "output_type": "display_data"
    },
    {
     "name": "stdout",
     "output_type": "stream",
     "text": [
      "mobilenetv2_0.2_96_c3_o2_t3l256.MV1\n"
     ]
    },
    {
     "data": {
      "application/vnd.jupyter.widget-view+json": {
       "model_id": "4861aeb6fdd44384a3f08e7463146d68",
       "version_major": 2,
       "version_minor": 0
      },
      "text/plain": [
       "Executing:   0%|          | 0/56 [00:00<?, ?cell/s]"
      ]
     },
     "metadata": {},
     "output_type": "display_data"
    },
    {
     "name": "stdout",
     "output_type": "stream",
     "text": [
      "mobilenetv2_0.2_96_c3_o2_t3l128.MV1\n"
     ]
    },
    {
     "data": {
      "application/vnd.jupyter.widget-view+json": {
       "model_id": "f7dc4f9c5c12474a956eba629a356f5f",
       "version_major": 2,
       "version_minor": 0
      },
      "text/plain": [
       "Executing:   0%|          | 0/56 [00:00<?, ?cell/s]"
      ]
     },
     "metadata": {},
     "output_type": "display_data"
    },
    {
     "name": "stdout",
     "output_type": "stream",
     "text": [
      "mobilenetv2_0.2_96_c3_o2_t6l64.MV1\n"
     ]
    },
    {
     "data": {
      "application/vnd.jupyter.widget-view+json": {
       "model_id": "4a954eeb774744559861cfb3d4cd1091",
       "version_major": 2,
       "version_minor": 0
      },
      "text/plain": [
       "Executing:   0%|          | 0/56 [00:00<?, ?cell/s]"
      ]
     },
     "metadata": {},
     "output_type": "display_data"
    },
    {
     "name": "stdout",
     "output_type": "stream",
     "text": [
      "mobilenetv2_0.2_96_c3_o2_t5l64.MV1\n"
     ]
    },
    {
     "data": {
      "application/vnd.jupyter.widget-view+json": {
       "model_id": "b77f565e2b494214877491be6f897421",
       "version_major": 2,
       "version_minor": 0
      },
      "text/plain": [
       "Executing:   0%|          | 0/56 [00:00<?, ?cell/s]"
      ]
     },
     "metadata": {},
     "output_type": "display_data"
    },
    {
     "name": "stdout",
     "output_type": "stream",
     "text": [
      "mobilenetv2_0.2_96_c3_o2_t4l64.MV1\n"
     ]
    },
    {
     "data": {
      "application/vnd.jupyter.widget-view+json": {
       "model_id": "775d5655805442e09ec76fba21c5f3ce",
       "version_major": 2,
       "version_minor": 0
      },
      "text/plain": [
       "Executing:   0%|          | 0/56 [00:00<?, ?cell/s]"
      ]
     },
     "metadata": {},
     "output_type": "display_data"
    },
    {
     "name": "stdout",
     "output_type": "stream",
     "text": [
      "mobilenetv2_0.2_96_c3_o2_t3l64.MV1\n"
     ]
    },
    {
     "data": {
      "application/vnd.jupyter.widget-view+json": {
       "model_id": "fe7c8dd74ad245ec9d4f79302a0c6192",
       "version_major": 2,
       "version_minor": 0
      },
      "text/plain": [
       "Executing:   0%|          | 0/56 [00:00<?, ?cell/s]"
      ]
     },
     "metadata": {},
     "output_type": "display_data"
    },
    {
     "name": "stdout",
     "output_type": "stream",
     "text": [
      "mobilenetv2_0.2_96_c3_o2_t2l64.MV1\n"
     ]
    },
    {
     "data": {
      "application/vnd.jupyter.widget-view+json": {
       "model_id": "7b09f4fdf200463ca2c42ce548cec64e",
       "version_major": 2,
       "version_minor": 0
      },
      "text/plain": [
       "Executing:   0%|          | 0/56 [00:00<?, ?cell/s]"
      ]
     },
     "metadata": {},
     "output_type": "display_data"
    },
    {
     "name": "stdout",
     "output_type": "stream",
     "text": [
      "mobilenetv2_0.2_96_c3_o2_t1l64.MV1\n"
     ]
    },
    {
     "data": {
      "application/vnd.jupyter.widget-view+json": {
       "model_id": "b3ea14f202ec43c8b3b2c208dd6a0878",
       "version_major": 2,
       "version_minor": 0
      },
      "text/plain": [
       "Executing:   0%|          | 0/56 [00:00<?, ?cell/s]"
      ]
     },
     "metadata": {},
     "output_type": "display_data"
    },
    {
     "name": "stdout",
     "output_type": "stream",
     "text": [
      "mobilenetv2_0.25_96_c3_o2_t6l64.MV1\n"
     ]
    },
    {
     "data": {
      "application/vnd.jupyter.widget-view+json": {
       "model_id": "901fe19015114ec1bcc57192b9a2bc74",
       "version_major": 2,
       "version_minor": 0
      },
      "text/plain": [
       "Executing:   0%|          | 0/56 [00:00<?, ?cell/s]"
      ]
     },
     "metadata": {},
     "output_type": "display_data"
    },
    {
     "name": "stdout",
     "output_type": "stream",
     "text": [
      "mobilenetv2_0.25_96_c3_o2_t5l64.MV1\n"
     ]
    },
    {
     "data": {
      "application/vnd.jupyter.widget-view+json": {
       "model_id": "b97eba8d025c46c6b2720c27b7fb7e68",
       "version_major": 2,
       "version_minor": 0
      },
      "text/plain": [
       "Executing:   0%|          | 0/56 [00:00<?, ?cell/s]"
      ]
     },
     "metadata": {},
     "output_type": "display_data"
    },
    {
     "name": "stdout",
     "output_type": "stream",
     "text": [
      "mobilenetv2_0.25_96_c3_o2_t4l64.MV1\n"
     ]
    },
    {
     "data": {
      "application/vnd.jupyter.widget-view+json": {
       "model_id": "bb29ecdb1251451f8041e41cfee60d6b",
       "version_major": 2,
       "version_minor": 0
      },
      "text/plain": [
       "Executing:   0%|          | 0/56 [00:00<?, ?cell/s]"
      ]
     },
     "metadata": {},
     "output_type": "display_data"
    },
    {
     "name": "stdout",
     "output_type": "stream",
     "text": [
      "mobilenetv2_0.25_96_c3_o2_t3l64.MV1\n"
     ]
    },
    {
     "data": {
      "application/vnd.jupyter.widget-view+json": {
       "model_id": "79b9bd4fd54846ffaf7877833cb674c5",
       "version_major": 2,
       "version_minor": 0
      },
      "text/plain": [
       "Executing:   0%|          | 0/56 [00:00<?, ?cell/s]"
      ]
     },
     "metadata": {},
     "output_type": "display_data"
    },
    {
     "name": "stdout",
     "output_type": "stream",
     "text": [
      "mobilenetv2_0.25_96_c3_o2_t2l64.MV1\n"
     ]
    },
    {
     "data": {
      "application/vnd.jupyter.widget-view+json": {
       "model_id": "cf0671bc70cf4d7390ca49139330d16f",
       "version_major": 2,
       "version_minor": 0
      },
      "text/plain": [
       "Executing:   0%|          | 0/56 [00:00<?, ?cell/s]"
      ]
     },
     "metadata": {},
     "output_type": "display_data"
    },
    {
     "name": "stdout",
     "output_type": "stream",
     "text": [
      "mobilenetv2_0.25_96_c3_o2_t1l64.MV1\n"
     ]
    },
    {
     "data": {
      "application/vnd.jupyter.widget-view+json": {
       "model_id": "a7b7fa28d61442cda7fa9f4f547f4404",
       "version_major": 2,
       "version_minor": 0
      },
      "text/plain": [
       "Executing:   0%|          | 0/56 [00:00<?, ?cell/s]"
      ]
     },
     "metadata": {},
     "output_type": "display_data"
    }
   ],
   "source": [
    "for model_name in model_names:\n",
    "    print(model_name)\n",
    "    pm.execute_notebook(\n",
    "        input_path=\"Model Analyzer.ipynb\",\n",
    "        output_path=f\"./artifact_notebooks/Model Analyzer {model_name}.ipynb\",\n",
    "        parameters={\"model_name\" : model_name,\n",
    "                    \"automated\" : True\n",
    "        }\n",
    "    ) "
   ]
  },
  {
   "cell_type": "code",
   "execution_count": null,
   "metadata": {},
   "outputs": [],
   "source": [
    "# for model_name in model_names:\n",
    "#     print(model_name)\n",
    "#     pm.execute_notebook(\n",
    "#         input_path=\"Layer Visualizations.ipynb\",\n",
    "#         output_path=f\"./artifact_notebooks/Layer Visualizations {model_name}.ipynb\",\n",
    "#         parameters={\"model_name\" : model_name\n",
    "#         }\n",
    "#     ) "
   ]
  },
  {
   "cell_type": "code",
   "execution_count": null,
   "metadata": {},
   "outputs": [],
   "source": [
    "# for model_name in model_names:\n",
    "#     print(model_name)\n",
    "#     pm.execute_notebook(\n",
    "#         input_path=\"Experiment Workbench.ipynb\",\n",
    "#         output_path=f\"./artifact_notebooks/Experiment Workbench {model_name}.ipynb\",\n",
    "#         parameters={\"model_name\" : model_name\n",
    "#         }\n",
    "#     ) "
   ]
  },
  {
   "cell_type": "code",
   "execution_count": null,
   "metadata": {},
   "outputs": [],
   "source": []
  }
 ],
 "metadata": {
  "kernelspec": {
   "display_name": "tiny_cnn_6",
   "language": "python",
   "name": "python3"
  },
  "language_info": {
   "codemirror_mode": {
    "name": "ipython",
    "version": 3
   },
   "file_extension": ".py",
   "mimetype": "text/x-python",
   "name": "python",
   "nbconvert_exporter": "python",
   "pygments_lexer": "ipython3",
   "version": "3.10.6"
  },
  "orig_nbformat": 4,
  "vscode": {
   "interpreter": {
    "hash": "0faa6c31b20b8f809b81d6d7d22a84ccd9f354666f54133d1793fa4c65539801"
   }
  }
 },
 "nbformat": 4,
 "nbformat_minor": 2
}
