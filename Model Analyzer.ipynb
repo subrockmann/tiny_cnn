{
 "cells": [
  {
   "cell_type": "code",
   "execution_count": 1,
   "metadata": {},
   "outputs": [],
   "source": [
    "import os, sys, math, datetime\n",
    "import pathlib\n",
    "from pathlib import Path\n",
    "import numpy as np\n",
    "import pandas as pd\n",
    "import random\n",
    "from matplotlib import pyplot as plt\n",
    "import PIL\n",
    "import PIL.Image\n",
    "import seaborn as sns\n",
    "\n",
    "import tensorflow as tf\n",
    "# import tensorflow_datasets as tfds\n",
    "from tensorflow import keras\n",
    "# from tensorflow.keras.layers import Input, Dense, Flatten, Conv2D,DepthwiseConv2D, MaxPooling2D, AvgPool2D, GlobalAveragePooling2D, BatchNormalization, Concatenate\n",
    "# from tensorflow.keras.layers import ReLU\n",
    "# from tensorflow.keras.models import Model\n",
    "# from tensorflow.keras.callbacks import ModelCheckpoint, EarlyStopping, LearningRateScheduler\n",
    " \n",
    "# Import the necessary MLTK APIs\n",
    "from mltk.core import view_model, summarize_model, profile_model\n",
    "\n",
    "# import workbench.config.config\n",
    "from workbench.config.config import initialize\n",
    "from workbench.utils.utils import create_filepaths, get_file_size\n",
    "from workbench.utils.utils import parse_model_name, parse_mltk_model_summary\n",
    "from workbench.data.data import get_lemon_quality_dataset\n",
    "from workbench.tflite_profiling import get_peak_memory_df, get_tensor_details_df\n",
    "\n",
    "#from dotenv import load_dotenv\n",
    "import wandb\n",
    "from wandb.keras import WandbMetricsLogger, WandbModelCheckpoint\n",
    "#import deeplake\n",
    "\n",
    "%load_ext autoreload\n",
    "\n"
   ]
  },
  {
   "cell_type": "code",
   "execution_count": 2,
   "metadata": {},
   "outputs": [],
   "source": [
    "%reload_ext autoreload\n",
    "%autoreload"
   ]
  },
  {
   "cell_type": "code",
   "execution_count": 3,
   "metadata": {},
   "outputs": [],
   "source": [
    "models_dir = initialize()"
   ]
  },
  {
   "cell_type": "code",
   "execution_count": 4,
   "metadata": {},
   "outputs": [],
   "source": [
    "global model_name\n",
    "#model_name = \"efficientNetB0_1_96_c3_o3_keras\"\n",
    "#model_name = \"shufflenetv2tinys_0.2_96_c3_o3_f4l1024\"\n",
    "#model_name = \"mobilenetv2_1_224_c3_o3_l5\"\n",
    "model_name = \"mobilenetv2_1_224_c3_o3_keras\"\n",
    "#model_name = \"shufflenetv2tiny_0.1_96_c3_o3_f4l1024\"\n",
    "#model_name = \"MobilenetV3small_1_96_c3_o3_keras\"#, \"MobilenetV3large_1_224_c3_o3_keras\"# ,\n"
   ]
  },
  {
   "cell_type": "code",
   "execution_count": 5,
   "metadata": {},
   "outputs": [],
   "source": [
    "base_model_name, alpha, resolution, channels, classes, variation = model_name.split(\"_\")\n",
    "alpha = float(alpha)\n",
    "resolution = int(resolution)\n",
    "classes = int(classes.strip(\"o\"))\n",
    "channels = int(channels.strip(\"c\"))\n",
    "PROJECT = \"model_DB\"\n",
    "\n",
    "# just needed for INT 8 quantization:\n",
    "BATCH_SIZE = 32\n",
    "shuffle_seed = 1"
   ]
  },
  {
   "cell_type": "code",
   "execution_count": 6,
   "metadata": {},
   "outputs": [
    {
     "name": "stdout",
     "output_type": "stream",
     "text": [
      "i:\\tinyml\\tiny_cnn\\models\n"
     ]
    }
   ],
   "source": [
    "models_path, models_summary_path, models_image_path, models_layer_df_path, models_tf_path, models_tflite_path, models_tflite_opt_path = create_filepaths(model_name)"
   ]
  },
  {
   "cell_type": "code",
   "execution_count": 7,
   "metadata": {},
   "outputs": [],
   "source": [
    "model = keras.models.load_model(models_tf_path)"
   ]
  },
  {
   "cell_type": "code",
   "execution_count": 8,
   "metadata": {},
   "outputs": [],
   "source": [
    "# view_model(model, tflite=True, build=True)"
   ]
  },
  {
   "attachments": {},
   "cell_type": "markdown",
   "metadata": {},
   "source": [
    "# Parse model parameters from MLTK summary"
   ]
  },
  {
   "cell_type": "code",
   "execution_count": 9,
   "metadata": {},
   "outputs": [],
   "source": [
    "total_params, trainable_params, non_trainable_params, MACs, FLOPs = parse_mltk_model_summary(models_summary_path)        "
   ]
  },
  {
   "cell_type": "code",
   "execution_count": 10,
   "metadata": {},
   "outputs": [],
   "source": [
    "mltk_model_stats = {}"
   ]
  },
  {
   "cell_type": "code",
   "execution_count": 11,
   "metadata": {},
   "outputs": [],
   "source": [
    "mltk_model_stats[\"MACs\"] = MACs\n",
    "mltk_model_stats[\"FLOPs\"] = FLOPs\n",
    "mltk_model_stats[\"total_params\"] = total_params\n",
    "mltk_model_stats[\"trainable_params\"] = trainable_params\n",
    "mltk_model_stats[\"non_trainable_params\"] = non_trainable_params"
   ]
  },
  {
   "attachments": {},
   "cell_type": "markdown",
   "metadata": {},
   "source": [
    "# Creating tflite Models"
   ]
  },
  {
   "cell_type": "code",
   "execution_count": 12,
   "metadata": {},
   "outputs": [
    {
     "name": "stderr",
     "output_type": "stream",
     "text": [
      "WARNING:absl:Found untraced functions such as _jit_compiled_convolution_op, _jit_compiled_convolution_op, _jit_compiled_convolution_op, _jit_compiled_convolution_op, _jit_compiled_convolution_op while saving (showing 5 of 52). These functions will not be directly callable after loading.\n"
     ]
    },
    {
     "name": "stdout",
     "output_type": "stream",
     "text": [
      "INFO:tensorflow:Assets written to: C:\\Users\\Susanne\\AppData\\Local\\Temp\\tmpm53ud36z\\assets\n"
     ]
    },
    {
     "name": "stderr",
     "output_type": "stream",
     "text": [
      "INFO:tensorflow:Assets written to: C:\\Users\\Susanne\\AppData\\Local\\Temp\\tmpm53ud36z\\assets\n"
     ]
    }
   ],
   "source": [
    "# Convert the model to the TensorFlow Lite format without quantization\n",
    "converter = tf.lite.TFLiteConverter.from_keras_model(model)\n",
    "#converter = tf.lite.TFLiteConverter.from_saved_model(models_path)\n",
    "tflite_model = converter.convert()\n"
   ]
  },
  {
   "cell_type": "code",
   "execution_count": 13,
   "metadata": {},
   "outputs": [],
   "source": [
    "# Save the model.\n",
    "with open(models_tflite_path, \"wb\") as f:\n",
    "    f.write(tflite_model)"
   ]
  },
  {
   "cell_type": "code",
   "execution_count": 14,
   "metadata": {},
   "outputs": [
    {
     "name": "stdout",
     "output_type": "stream",
     "text": [
      "File size in bytes is 9523096\n",
      "File size in kilobytes is 9299.8984375\n",
      "File size in bytes is 8826380\n",
      "File size in kilobytes is 8619.51171875\n"
     ]
    }
   ],
   "source": [
    "mltk_model_stats[\"model_size_kb\"] = get_file_size(models_tf_path)\n",
    "mltk_model_stats[\"tflite_model_size_kb\"] = get_file_size(models_tflite_path)"
   ]
  },
  {
   "attachments": {},
   "cell_type": "markdown",
   "metadata": {},
   "source": [
    "# tflite with INT8 quantization"
   ]
  },
  {
   "cell_type": "code",
   "execution_count": 15,
   "metadata": {},
   "outputs": [
    {
     "data": {
      "text/plain": [
       "True"
      ]
     },
     "execution_count": 15,
     "metadata": {},
     "output_type": "execute_result"
    }
   ],
   "source": [
    "dataset_path = Path.cwd().joinpath(\"datasets\", \"lemon_dataset\")\n",
    "dataset_path.exists()"
   ]
  },
  {
   "cell_type": "code",
   "execution_count": 16,
   "metadata": {},
   "outputs": [
    {
     "name": "stdout",
     "output_type": "stream",
     "text": [
      "Color mode: rgb\n",
      "Preparing training dataset...\n",
      "Found 2021 files belonging to 3 classes.\n",
      "Preparing validation dataset...\n",
      "Found 252 files belonging to 3 classes.\n",
      "Preparing test dataset...\n",
      "Found 255 files belonging to 3 classes.\n",
      "Class names: ['bad_quality', 'empty_background', 'good_quality']\n",
      "Train: (TensorSpec(shape=(None, 224, 224, 3), dtype=tf.float32, name=None), TensorSpec(shape=(None,), dtype=tf.int32, name=None))\n",
      "Normalize: True\n"
     ]
    }
   ],
   "source": [
    "train_ds, val_ds, test_ds, labels = get_lemon_quality_dataset(dataset_path, resolution, resolution, BATCH_SIZE, channels)"
   ]
  },
  {
   "cell_type": "code",
   "execution_count": 17,
   "metadata": {},
   "outputs": [
    {
     "name": "stderr",
     "output_type": "stream",
     "text": [
      "WARNING:absl:Found untraced functions such as _jit_compiled_convolution_op, _jit_compiled_convolution_op, _jit_compiled_convolution_op, _jit_compiled_convolution_op, _jit_compiled_convolution_op while saving (showing 5 of 52). These functions will not be directly callable after loading.\n"
     ]
    },
    {
     "name": "stdout",
     "output_type": "stream",
     "text": [
      "INFO:tensorflow:Assets written to: C:\\Users\\Susanne\\AppData\\Local\\Temp\\tmp4u5xansv\\assets\n"
     ]
    },
    {
     "name": "stderr",
     "output_type": "stream",
     "text": [
      "INFO:tensorflow:Assets written to: C:\\Users\\Susanne\\AppData\\Local\\Temp\\tmp4u5xansv\\assets\n",
      "d:\\Miniconda\\envs\\tiny_cnn_6\\lib\\site-packages\\tensorflow\\lite\\python\\convert.py:766: UserWarning: Statistics for quantized inputs were expected, but not specified; continuing anyway.\n",
      "  warnings.warn(\"Statistics for quantized inputs were expected, but not \"\n"
     ]
    },
    {
     "data": {
      "text/plain": [
       "WindowsPath('i:/tinyml/tiny_cnn/models/mobilenetv2_1_224_c3_o3_keras/mobilenetv2_1_224_c3_o3_keras_INT8.tflite')"
      ]
     },
     "execution_count": 17,
     "metadata": {},
     "output_type": "execute_result"
    }
   ],
   "source": [
    "repr_ds = test_ds.unbatch()\n",
    "\n",
    "def representative_data_gen():\n",
    "  for i_value, o_value in repr_ds.batch(1).take(48):\n",
    "    yield [i_value]\n",
    "    \n",
    "converter_opt = tf.lite.TFLiteConverter.from_keras_model(model)\n",
    "\n",
    "# set the optimization flag\n",
    "converter_opt.optimizations = [tf.lite.Optimize.DEFAULT]\n",
    "# enforce integer only quantization\n",
    "converter_opt.target_spec.supported_ops = [tf.lite.OpsSet.TFLITE_BUILTINS_INT8]\n",
    "converter_opt.inference_input_type = tf.uint8\n",
    "converter_opt.inference_output_type = tf.uint8\n",
    "\n",
    "# provide a representative dataset for quantization\n",
    "converter_opt.representative_dataset = representative_data_gen\n",
    "\n",
    "tflite_model_opt = converter_opt.convert()\n",
    "\n",
    "# Save the model.\n",
    "with open(models_tflite_opt_path, 'wb') as f:\n",
    "  f.write(tflite_model_opt)\n",
    "models_tflite_opt_path"
   ]
  },
  {
   "cell_type": "code",
   "execution_count": 18,
   "metadata": {},
   "outputs": [
    {
     "name": "stdout",
     "output_type": "stream",
     "text": [
      "File size in bytes is 2665256\n",
      "File size in kilobytes is 2602.7890625\n"
     ]
    }
   ],
   "source": [
    "mltk_model_stats[\"tflite_model_INT8_size_kb\"] = get_file_size(models_tflite_opt_path)"
   ]
  },
  {
   "cell_type": "code",
   "execution_count": 19,
   "metadata": {},
   "outputs": [
    {
     "name": "stdout",
     "output_type": "stream",
     "text": [
      "File size in bytes is 8826380\n",
      "File size in kilobytes is 8619.51171875\n"
     ]
    }
   ],
   "source": [
    "mltk_model_stats[\"tflite_model_size_kb\"] = get_file_size(models_tflite_path)"
   ]
  },
  {
   "attachments": {},
   "cell_type": "markdown",
   "metadata": {},
   "source": [
    "# Profiling tflite models with MLTK profiler"
   ]
  },
  {
   "cell_type": "code",
   "execution_count": 20,
   "metadata": {},
   "outputs": [],
   "source": [
    "mltk_model_stats[\"arhcitecture\"] = model_name\n",
    "mltk_model_stats[\"alpha\"] = alpha\n",
    "mltk_model_stats[\"img_res\"] = resolution\n",
    "mltk_model_stats[\"classes\"] = classes\n",
    "mltk_model_stats[\"channels\"] = channels\n",
    "mltk_model_stats[\"variation\"] = variation"
   ]
  },
  {
   "cell_type": "code",
   "execution_count": 21,
   "metadata": {},
   "outputs": [
    {
     "name": "stdout",
     "output_type": "stream",
     "text": [
      "Profiling model in simulator ...\n",
      "Using Tensorflow-Lite Micro version: b13b48c (2022-06-08)\n",
      "Searching for optimal runtime memory size ...\n",
      "Determined optimal runtime memory size to be 9871728\n"
     ]
    }
   ],
   "source": [
    "# MLTK profile model reads the mode from a path!\n",
    "\n",
    "profiling_results = profile_model(str(models_tflite_path), accelerator=None, build=None)"
   ]
  },
  {
   "cell_type": "code",
   "execution_count": 22,
   "metadata": {},
   "outputs": [],
   "source": [
    "mltk_model_stats[\"opt_RAM_mltk\"] = int(input(\"Please copy the optimal runtime memory size from above: \\n\"))"
   ]
  },
  {
   "cell_type": "code",
   "execution_count": 23,
   "metadata": {},
   "outputs": [],
   "source": [
    "profiling_results.get_summary(exclude_null=False, full_summary=True)\n",
    "model_profile = profiling_results.to_dict()"
   ]
  },
  {
   "cell_type": "code",
   "execution_count": 24,
   "metadata": {},
   "outputs": [],
   "source": [
    "mltk_model_stats[\"flash_model_size_b_mltk\"] = model_profile[\"summary\"][\"tflite_size\"]\n",
    "mltk_model_stats[\"RAM_runtime_memory_size_b_mltk\"] = model_profile[\"summary\"][\"runtime_memory_size\"]\n",
    "mltk_model_stats[\"OPS_mltk\"] = model_profile[\"summary\"][\"ops\"]\n",
    "mltk_model_stats[\"macs_mltk\"] = model_profile[\"summary\"][\"macs\"]\n",
    "mltk_model_stats[\"n_unsupported_layers_mltk\"] = model_profile[\"summary\"][\"n_unsupported_layers\"]\n",
    "mltk_model_stats[\"energy_mltk\"] = model_profile[\"summary\"][\"energy\"]"
   ]
  },
  {
   "cell_type": "code",
   "execution_count": 25,
   "metadata": {},
   "outputs": [
    {
     "data": {
      "text/html": [
       "<div>\n",
       "<style scoped>\n",
       "    .dataframe tbody tr th:only-of-type {\n",
       "        vertical-align: middle;\n",
       "    }\n",
       "\n",
       "    .dataframe tbody tr th {\n",
       "        vertical-align: top;\n",
       "    }\n",
       "\n",
       "    .dataframe thead th {\n",
       "        text-align: right;\n",
       "    }\n",
       "</style>\n",
       "<table border=\"1\" class=\"dataframe\">\n",
       "  <thead>\n",
       "    <tr style=\"text-align: right;\">\n",
       "      <th></th>\n",
       "      <th>index</th>\n",
       "      <th>opcode</th>\n",
       "      <th>name</th>\n",
       "      <th>ops</th>\n",
       "      <th>macs</th>\n",
       "      <th>cpu_cycles</th>\n",
       "      <th>energy</th>\n",
       "      <th>input_shape</th>\n",
       "      <th>output_shape</th>\n",
       "      <th>options</th>\n",
       "    </tr>\n",
       "  </thead>\n",
       "  <tbody>\n",
       "    <tr>\n",
       "      <th>0</th>\n",
       "      <td>0</td>\n",
       "      <td>conv_2d</td>\n",
       "      <td>0: conv_2d</td>\n",
       "      <td>22880256</td>\n",
       "      <td>10838016</td>\n",
       "      <td>1.352801e+08</td>\n",
       "      <td>2.802536e-02</td>\n",
       "      <td>1x224x224x3,32x3x3x3,32</td>\n",
       "      <td>1x112x112x32</td>\n",
       "      <td>Padding:same stride:2x2 activation:relu6</td>\n",
       "    </tr>\n",
       "    <tr>\n",
       "      <th>1</th>\n",
       "      <td>1</td>\n",
       "      <td>depthwise_conv_2d</td>\n",
       "      <td>1: depthwise_conv_2d</td>\n",
       "      <td>8429568</td>\n",
       "      <td>3612672</td>\n",
       "      <td>1.429125e+07</td>\n",
       "      <td>2.795809e-03</td>\n",
       "      <td>1x112x112x32,1x3x3x32,32</td>\n",
       "      <td>1x112x112x32</td>\n",
       "      <td>Multiplier:1 padding:same stride:1x1 activatio...</td>\n",
       "    </tr>\n",
       "    <tr>\n",
       "      <th>2</th>\n",
       "      <td>2</td>\n",
       "      <td>conv_2d</td>\n",
       "      <td>2: conv_2d</td>\n",
       "      <td>13045760</td>\n",
       "      <td>6422528</td>\n",
       "      <td>1.957062e+07</td>\n",
       "      <td>3.881317e-03</td>\n",
       "      <td>1x112x112x32,16x1x1x32,16</td>\n",
       "      <td>1x112x112x16</td>\n",
       "      <td>Padding:same stride:1x1 activation:none</td>\n",
       "    </tr>\n",
       "    <tr>\n",
       "      <th>3</th>\n",
       "      <td>3</td>\n",
       "      <td>conv_2d</td>\n",
       "      <td>3: conv_2d</td>\n",
       "      <td>42147840</td>\n",
       "      <td>19267584</td>\n",
       "      <td>4.246512e+07</td>\n",
       "      <td>8.768505e-03</td>\n",
       "      <td>1x112x112x16,96x1x1x16,96</td>\n",
       "      <td>1x112x112x96</td>\n",
       "      <td>Padding:same stride:1x1 activation:relu6</td>\n",
       "    </tr>\n",
       "    <tr>\n",
       "      <th>4</th>\n",
       "      <td>4</td>\n",
       "      <td>pad</td>\n",
       "      <td>4: pad</td>\n",
       "      <td>7354944</td>\n",
       "      <td>0</td>\n",
       "      <td>2.119680e+06</td>\n",
       "      <td>4.140765e-04</td>\n",
       "      <td>1x112x112x96,4x2</td>\n",
       "      <td>1x113x113x96</td>\n",
       "      <td>Type=padoptions</td>\n",
       "    </tr>\n",
       "    <tr>\n",
       "      <th>...</th>\n",
       "      <td>...</td>\n",
       "      <td>...</td>\n",
       "      <td>...</td>\n",
       "      <td>...</td>\n",
       "      <td>...</td>\n",
       "      <td>...</td>\n",
       "      <td>...</td>\n",
       "      <td>...</td>\n",
       "      <td>...</td>\n",
       "      <td>...</td>\n",
       "    </tr>\n",
       "    <tr>\n",
       "      <th>64</th>\n",
       "      <td>64</td>\n",
       "      <td>conv_2d</td>\n",
       "      <td>64: conv_2d</td>\n",
       "      <td>30121280</td>\n",
       "      <td>15052800</td>\n",
       "      <td>9.250128e+06</td>\n",
       "      <td>1.780007e-03</td>\n",
       "      <td>1x7x7x960,320x1x1x960,320</td>\n",
       "      <td>1x7x7x320</td>\n",
       "      <td>Padding:same stride:1x1 activation:none</td>\n",
       "    </tr>\n",
       "    <tr>\n",
       "      <th>65</th>\n",
       "      <td>65</td>\n",
       "      <td>conv_2d</td>\n",
       "      <td>65: conv_2d</td>\n",
       "      <td>40328960</td>\n",
       "      <td>20070400</td>\n",
       "      <td>9.680279e+06</td>\n",
       "      <td>1.818942e-03</td>\n",
       "      <td>1x7x7x320,1280x1x1x320,1280</td>\n",
       "      <td>1x7x7x1280</td>\n",
       "      <td>Padding:valid stride:1x1 activation:relu6</td>\n",
       "    </tr>\n",
       "    <tr>\n",
       "      <th>66</th>\n",
       "      <td>66</td>\n",
       "      <td>mean</td>\n",
       "      <td>66: mean</td>\n",
       "      <td>0</td>\n",
       "      <td>0</td>\n",
       "      <td>1.732734e+06</td>\n",
       "      <td>1.093961e-05</td>\n",
       "      <td>1x7x7x1280,2</td>\n",
       "      <td>1x1280</td>\n",
       "      <td>Type=reduceroptions</td>\n",
       "    </tr>\n",
       "    <tr>\n",
       "      <th>67</th>\n",
       "      <td>67</td>\n",
       "      <td>fully_connected</td>\n",
       "      <td>67: fully_connected</td>\n",
       "      <td>7680</td>\n",
       "      <td>3840</td>\n",
       "      <td>1.286945e+04</td>\n",
       "      <td>7.112388e-08</td>\n",
       "      <td>1x1280,3x1280</td>\n",
       "      <td>1x3</td>\n",
       "      <td>Activation:none</td>\n",
       "    </tr>\n",
       "    <tr>\n",
       "      <th>68</th>\n",
       "      <td>68</td>\n",
       "      <td>softmax</td>\n",
       "      <td>68: softmax</td>\n",
       "      <td>15</td>\n",
       "      <td>0</td>\n",
       "      <td>3.838418e+03</td>\n",
       "      <td>1.652612e-08</td>\n",
       "      <td>1x3</td>\n",
       "      <td>1x3</td>\n",
       "      <td>Type=softmaxoptions</td>\n",
       "    </tr>\n",
       "  </tbody>\n",
       "</table>\n",
       "<p>69 rows × 10 columns</p>\n",
       "</div>"
      ],
      "text/plain": [
       "    index             opcode                  name       ops      macs  \\\n",
       "0       0            conv_2d            0: conv_2d  22880256  10838016   \n",
       "1       1  depthwise_conv_2d  1: depthwise_conv_2d   8429568   3612672   \n",
       "2       2            conv_2d            2: conv_2d  13045760   6422528   \n",
       "3       3            conv_2d            3: conv_2d  42147840  19267584   \n",
       "4       4                pad                4: pad   7354944         0   \n",
       "..    ...                ...                   ...       ...       ...   \n",
       "64     64            conv_2d           64: conv_2d  30121280  15052800   \n",
       "65     65            conv_2d           65: conv_2d  40328960  20070400   \n",
       "66     66               mean              66: mean         0         0   \n",
       "67     67    fully_connected   67: fully_connected      7680      3840   \n",
       "68     68            softmax           68: softmax        15         0   \n",
       "\n",
       "      cpu_cycles        energy                  input_shape  output_shape  \\\n",
       "0   1.352801e+08  2.802536e-02      1x224x224x3,32x3x3x3,32  1x112x112x32   \n",
       "1   1.429125e+07  2.795809e-03     1x112x112x32,1x3x3x32,32  1x112x112x32   \n",
       "2   1.957062e+07  3.881317e-03    1x112x112x32,16x1x1x32,16  1x112x112x16   \n",
       "3   4.246512e+07  8.768505e-03    1x112x112x16,96x1x1x16,96  1x112x112x96   \n",
       "4   2.119680e+06  4.140765e-04             1x112x112x96,4x2  1x113x113x96   \n",
       "..           ...           ...                          ...           ...   \n",
       "64  9.250128e+06  1.780007e-03    1x7x7x960,320x1x1x960,320     1x7x7x320   \n",
       "65  9.680279e+06  1.818942e-03  1x7x7x320,1280x1x1x320,1280    1x7x7x1280   \n",
       "66  1.732734e+06  1.093961e-05                 1x7x7x1280,2        1x1280   \n",
       "67  1.286945e+04  7.112388e-08                1x1280,3x1280           1x3   \n",
       "68  3.838418e+03  1.652612e-08                          1x3           1x3   \n",
       "\n",
       "                                              options  \n",
       "0            Padding:same stride:2x2 activation:relu6  \n",
       "1   Multiplier:1 padding:same stride:1x1 activatio...  \n",
       "2             Padding:same stride:1x1 activation:none  \n",
       "3            Padding:same stride:1x1 activation:relu6  \n",
       "4                                     Type=padoptions  \n",
       "..                                                ...  \n",
       "64            Padding:same stride:1x1 activation:none  \n",
       "65          Padding:valid stride:1x1 activation:relu6  \n",
       "66                                Type=reduceroptions  \n",
       "67                                    Activation:none  \n",
       "68                                Type=softmaxoptions  \n",
       "\n",
       "[69 rows x 10 columns]"
      ]
     },
     "execution_count": 25,
     "metadata": {},
     "output_type": "execute_result"
    }
   ],
   "source": [
    "layers_df = pd.DataFrame.from_dict(model_profile[\"layers\"])\n",
    "layers_df[\"name\"] = layers_df[\"index\"].map(str) + \": \" + layers_df[\"opcode\"]\n",
    "layers_df.insert(2,\"name\" , layers_df.pop(\"name\"))\n",
    "layers_df"
   ]
  },
  {
   "cell_type": "code",
   "execution_count": 26,
   "metadata": {},
   "outputs": [],
   "source": [
    "layers_df_path = pathlib.Path.joinpath(models_dir, \"layer_df_mltk.pkl\")\n",
    "layers_df.to_pickle(layers_df_path)"
   ]
  },
  {
   "cell_type": "code",
   "execution_count": 27,
   "metadata": {},
   "outputs": [
    {
     "data": {
      "text/plain": [
       "{'MACs': '299.498 M',\n",
       " 'FLOPs': '611.424 M',\n",
       " 'total_params': 2261827,\n",
       " 'trainable_params': 2227715,\n",
       " 'non_trainable_params': 34112,\n",
       " 'model_size_kb': 9299.8984375,\n",
       " 'tflite_model_size_kb': 8619.51171875,\n",
       " 'tflite_model_INT8_size_kb': 2602.7890625,\n",
       " 'arhcitecture': 'mobilenetv2_1_224_c3_o3_keras',\n",
       " 'alpha': 1.0,\n",
       " 'img_res': 224,\n",
       " 'classes': 3,\n",
       " 'channels': 3,\n",
       " 'variation': 'keras',\n",
       " 'opt_RAM_mltk': 9871728,\n",
       " 'flash_model_size_b_mltk': 8826380,\n",
       " 'RAM_runtime_memory_size_b_mltk': 9867620,\n",
       " 'OPS_mltk': 630010831,\n",
       " 'macs_mltk': 299498112,\n",
       " 'n_unsupported_layers_mltk': 0,\n",
       " 'energy_mltk': 0.16587933429054402}"
      ]
     },
     "execution_count": 27,
     "metadata": {},
     "output_type": "execute_result"
    }
   ],
   "source": [
    "mltk_model_stats"
   ]
  },
  {
   "cell_type": "code",
   "execution_count": 28,
   "metadata": {},
   "outputs": [
    {
     "name": "stdout",
     "output_type": "stream",
     "text": [
      "Profiling model in simulator ...\n",
      "Using Tensorflow-Lite Micro version: b13b48c (2022-06-08)\n",
      "Searching for optimal runtime memory size ...\n",
      "Determined optimal runtime memory size to be 2583008\n"
     ]
    }
   ],
   "source": [
    "# %%capture optimal_runtime_INT\n",
    "profiling_results_INT8 = profile_model(str(models_tflite_opt_path), accelerator=None, build=False)"
   ]
  },
  {
   "cell_type": "code",
   "execution_count": 29,
   "metadata": {},
   "outputs": [],
   "source": [
    "mltk_model_stats[\"opt_RAM_INT8_mltk\"] = int(input(\"Please copy the optimal runtime memory size from above: \\n\"))"
   ]
  },
  {
   "cell_type": "code",
   "execution_count": 30,
   "metadata": {},
   "outputs": [],
   "source": [
    "# from contextlib import redirect_stdout\n",
    "\n",
    "# with open(\"runtime.txt\", \"w\", encoding='utf-8') as f:\n",
    "#     with redirect_stdout(f):\n",
    "#         print(profile_model(str(models_tflite_opt_path), accelerator=None, build=False))"
   ]
  },
  {
   "cell_type": "code",
   "execution_count": 31,
   "metadata": {},
   "outputs": [
    {
     "data": {
      "text/plain": [
       "OrderedDict([('name', 'mobilenetv2_1_224_c3_o3_keras_INT8'),\n",
       "             ('accelerator', 'None'),\n",
       "             ('input_shape', '1x224x224x3'),\n",
       "             ('input_dtype', 'uint8'),\n",
       "             ('output_shape', '1x3'),\n",
       "             ('output_dtype', 'uint8'),\n",
       "             ('tflite_size', 2665256),\n",
       "             ('runtime_memory_size', 2578268),\n",
       "             ('ops', 630612955),\n",
       "             ('macs', 299498112),\n",
       "             ('n_layers', 71),\n",
       "             ('n_unsupported_layers', 0),\n",
       "             ('cpu_cycles', 841613341.2978516),\n",
       "             ('cpu_utilization', 0.0),\n",
       "             ('cpu_clock_rate', 78000000),\n",
       "             ('energy', 0.16612927192850435),\n",
       "             ('j_per_op', 2.6344094362683106e-10),\n",
       "             ('j_per_mac', 5.546922176541278e-10)])"
      ]
     },
     "execution_count": 31,
     "metadata": {},
     "output_type": "execute_result"
    }
   ],
   "source": [
    "profiling_results_INT8.get_summary()"
   ]
  },
  {
   "cell_type": "code",
   "execution_count": 32,
   "metadata": {},
   "outputs": [],
   "source": [
    "model_profile_INT8 = profiling_results_INT8.to_dict()\n"
   ]
  },
  {
   "cell_type": "code",
   "execution_count": 33,
   "metadata": {},
   "outputs": [],
   "source": [
    "mltk_model_stats[\"flash_model_size_b__INT8_mltk\"] = model_profile_INT8[\"summary\"][\"tflite_size\"]\n",
    "mltk_model_stats[\"RAM_runtime_memory_size_b_INT8_mltk\"] = model_profile_INT8[\"summary\"][\"runtime_memory_size\"]\n",
    "mltk_model_stats[\"OPS_INT8_mltk\"] = model_profile_INT8[\"summary\"][\"ops\"]\n",
    "mltk_model_stats[\"macs_INT8_mltk\"] = model_profile_INT8[\"summary\"][\"macs\"]\n",
    "mltk_model_stats[\"n_unsupported_layers_INT8_mltk\"] = model_profile_INT8[\"summary\"][\"n_unsupported_layers\"]\n",
    "mltk_model_stats[\"energy_INT8_mltk\"] = model_profile_INT8[\"summary\"][\"energy\"]"
   ]
  },
  {
   "cell_type": "code",
   "execution_count": 34,
   "metadata": {},
   "outputs": [
    {
     "data": {
      "text/plain": [
       "{'MACs': '299.498 M',\n",
       " 'FLOPs': '611.424 M',\n",
       " 'total_params': 2261827,\n",
       " 'trainable_params': 2227715,\n",
       " 'non_trainable_params': 34112,\n",
       " 'model_size_kb': 9299.8984375,\n",
       " 'tflite_model_size_kb': 8619.51171875,\n",
       " 'tflite_model_INT8_size_kb': 2602.7890625,\n",
       " 'arhcitecture': 'mobilenetv2_1_224_c3_o3_keras',\n",
       " 'alpha': 1.0,\n",
       " 'img_res': 224,\n",
       " 'classes': 3,\n",
       " 'channels': 3,\n",
       " 'variation': 'keras',\n",
       " 'opt_RAM_mltk': 9871728,\n",
       " 'flash_model_size_b_mltk': 8826380,\n",
       " 'RAM_runtime_memory_size_b_mltk': 9867620,\n",
       " 'OPS_mltk': 630010831,\n",
       " 'macs_mltk': 299498112,\n",
       " 'n_unsupported_layers_mltk': 0,\n",
       " 'energy_mltk': 0.16587933429054402,\n",
       " 'opt_RAM_INT8_mltk': 2583008,\n",
       " 'flash_model_size_b__INT8_mltk': 2665256,\n",
       " 'RAM_runtime_memory_size_b_INT8_mltk': 2578268,\n",
       " 'OPS_INT8_mltk': 630612955,\n",
       " 'macs_INT8_mltk': 299498112,\n",
       " 'n_unsupported_layers_INT8_mltk': 0,\n",
       " 'energy_INT8_mltk': 0.16612927192850435}"
      ]
     },
     "execution_count": 34,
     "metadata": {},
     "output_type": "execute_result"
    }
   ],
   "source": [
    "mltk_model_stats"
   ]
  },
  {
   "cell_type": "code",
   "execution_count": 35,
   "metadata": {},
   "outputs": [
    {
     "data": {
      "text/html": [
       "<div>\n",
       "<style scoped>\n",
       "    .dataframe tbody tr th:only-of-type {\n",
       "        vertical-align: middle;\n",
       "    }\n",
       "\n",
       "    .dataframe tbody tr th {\n",
       "        vertical-align: top;\n",
       "    }\n",
       "\n",
       "    .dataframe thead th {\n",
       "        text-align: right;\n",
       "    }\n",
       "</style>\n",
       "<table border=\"1\" class=\"dataframe\">\n",
       "  <thead>\n",
       "    <tr style=\"text-align: right;\">\n",
       "      <th></th>\n",
       "      <th>index</th>\n",
       "      <th>opcode</th>\n",
       "      <th>name</th>\n",
       "      <th>ops</th>\n",
       "      <th>macs</th>\n",
       "      <th>cpu_cycles</th>\n",
       "      <th>energy</th>\n",
       "      <th>input_shape</th>\n",
       "      <th>output_shape</th>\n",
       "      <th>options</th>\n",
       "    </tr>\n",
       "  </thead>\n",
       "  <tbody>\n",
       "    <tr>\n",
       "      <th>0</th>\n",
       "      <td>0</td>\n",
       "      <td>quantize</td>\n",
       "      <td>0: quantize</td>\n",
       "      <td>602112</td>\n",
       "      <td>0</td>\n",
       "      <td>1.283454e+06</td>\n",
       "      <td>2.495152e-04</td>\n",
       "      <td>1x224x224x3</td>\n",
       "      <td>1x224x224x3</td>\n",
       "      <td>Type=none</td>\n",
       "    </tr>\n",
       "    <tr>\n",
       "      <th>1</th>\n",
       "      <td>1</td>\n",
       "      <td>conv_2d</td>\n",
       "      <td>1: conv_2d</td>\n",
       "      <td>22880256</td>\n",
       "      <td>10838016</td>\n",
       "      <td>1.352801e+08</td>\n",
       "      <td>2.802536e-02</td>\n",
       "      <td>1x224x224x3,32x3x3x3,32</td>\n",
       "      <td>1x112x112x32</td>\n",
       "      <td>Padding:same stride:2x2 activation:relu6</td>\n",
       "    </tr>\n",
       "    <tr>\n",
       "      <th>2</th>\n",
       "      <td>2</td>\n",
       "      <td>depthwise_conv_2d</td>\n",
       "      <td>2: depthwise_conv_2d</td>\n",
       "      <td>8429568</td>\n",
       "      <td>3612672</td>\n",
       "      <td>1.429125e+07</td>\n",
       "      <td>2.795809e-03</td>\n",
       "      <td>1x112x112x32,1x3x3x32,32</td>\n",
       "      <td>1x112x112x32</td>\n",
       "      <td>Multiplier:1 padding:same stride:1x1 activatio...</td>\n",
       "    </tr>\n",
       "    <tr>\n",
       "      <th>3</th>\n",
       "      <td>3</td>\n",
       "      <td>conv_2d</td>\n",
       "      <td>3: conv_2d</td>\n",
       "      <td>13045760</td>\n",
       "      <td>6422528</td>\n",
       "      <td>1.957062e+07</td>\n",
       "      <td>3.881317e-03</td>\n",
       "      <td>1x112x112x32,16x1x1x32,16</td>\n",
       "      <td>1x112x112x16</td>\n",
       "      <td>Padding:same stride:1x1 activation:none</td>\n",
       "    </tr>\n",
       "    <tr>\n",
       "      <th>4</th>\n",
       "      <td>4</td>\n",
       "      <td>conv_2d</td>\n",
       "      <td>4: conv_2d</td>\n",
       "      <td>42147840</td>\n",
       "      <td>19267584</td>\n",
       "      <td>4.246512e+07</td>\n",
       "      <td>8.768505e-03</td>\n",
       "      <td>1x112x112x16,96x1x1x16,96</td>\n",
       "      <td>1x112x112x96</td>\n",
       "      <td>Padding:same stride:1x1 activation:relu6</td>\n",
       "    </tr>\n",
       "    <tr>\n",
       "      <th>...</th>\n",
       "      <td>...</td>\n",
       "      <td>...</td>\n",
       "      <td>...</td>\n",
       "      <td>...</td>\n",
       "      <td>...</td>\n",
       "      <td>...</td>\n",
       "      <td>...</td>\n",
       "      <td>...</td>\n",
       "      <td>...</td>\n",
       "      <td>...</td>\n",
       "    </tr>\n",
       "    <tr>\n",
       "      <th>66</th>\n",
       "      <td>66</td>\n",
       "      <td>conv_2d</td>\n",
       "      <td>66: conv_2d</td>\n",
       "      <td>40328960</td>\n",
       "      <td>20070400</td>\n",
       "      <td>9.680279e+06</td>\n",
       "      <td>1.818942e-03</td>\n",
       "      <td>1x7x7x320,1280x1x1x320,1280</td>\n",
       "      <td>1x7x7x1280</td>\n",
       "      <td>Padding:valid stride:1x1 activation:relu6</td>\n",
       "    </tr>\n",
       "    <tr>\n",
       "      <th>67</th>\n",
       "      <td>67</td>\n",
       "      <td>mean</td>\n",
       "      <td>67: mean</td>\n",
       "      <td>0</td>\n",
       "      <td>0</td>\n",
       "      <td>1.732734e+06</td>\n",
       "      <td>1.093961e-05</td>\n",
       "      <td>1x7x7x1280,2</td>\n",
       "      <td>1x1280</td>\n",
       "      <td>Type=reduceroptions</td>\n",
       "    </tr>\n",
       "    <tr>\n",
       "      <th>68</th>\n",
       "      <td>68</td>\n",
       "      <td>fully_connected</td>\n",
       "      <td>68: fully_connected</td>\n",
       "      <td>7680</td>\n",
       "      <td>3840</td>\n",
       "      <td>1.286945e+04</td>\n",
       "      <td>7.112388e-08</td>\n",
       "      <td>1x1280,3x1280</td>\n",
       "      <td>1x3</td>\n",
       "      <td>Activation:none</td>\n",
       "    </tr>\n",
       "    <tr>\n",
       "      <th>69</th>\n",
       "      <td>69</td>\n",
       "      <td>softmax</td>\n",
       "      <td>69: softmax</td>\n",
       "      <td>15</td>\n",
       "      <td>0</td>\n",
       "      <td>3.838418e+03</td>\n",
       "      <td>1.652612e-08</td>\n",
       "      <td>1x3</td>\n",
       "      <td>1x3</td>\n",
       "      <td>Type=softmaxoptions</td>\n",
       "    </tr>\n",
       "    <tr>\n",
       "      <th>70</th>\n",
       "      <td>70</td>\n",
       "      <td>quantize</td>\n",
       "      <td>70: quantize</td>\n",
       "      <td>12</td>\n",
       "      <td>0</td>\n",
       "      <td>1.189855e+04</td>\n",
       "      <td>4.224086e-07</td>\n",
       "      <td>1x3</td>\n",
       "      <td>1x3</td>\n",
       "      <td>Type=none</td>\n",
       "    </tr>\n",
       "  </tbody>\n",
       "</table>\n",
       "<p>71 rows × 10 columns</p>\n",
       "</div>"
      ],
      "text/plain": [
       "    index             opcode                  name       ops      macs  \\\n",
       "0       0           quantize           0: quantize    602112         0   \n",
       "1       1            conv_2d            1: conv_2d  22880256  10838016   \n",
       "2       2  depthwise_conv_2d  2: depthwise_conv_2d   8429568   3612672   \n",
       "3       3            conv_2d            3: conv_2d  13045760   6422528   \n",
       "4       4            conv_2d            4: conv_2d  42147840  19267584   \n",
       "..    ...                ...                   ...       ...       ...   \n",
       "66     66            conv_2d           66: conv_2d  40328960  20070400   \n",
       "67     67               mean              67: mean         0         0   \n",
       "68     68    fully_connected   68: fully_connected      7680      3840   \n",
       "69     69            softmax           69: softmax        15         0   \n",
       "70     70           quantize          70: quantize        12         0   \n",
       "\n",
       "      cpu_cycles        energy                  input_shape  output_shape  \\\n",
       "0   1.283454e+06  2.495152e-04                  1x224x224x3   1x224x224x3   \n",
       "1   1.352801e+08  2.802536e-02      1x224x224x3,32x3x3x3,32  1x112x112x32   \n",
       "2   1.429125e+07  2.795809e-03     1x112x112x32,1x3x3x32,32  1x112x112x32   \n",
       "3   1.957062e+07  3.881317e-03    1x112x112x32,16x1x1x32,16  1x112x112x16   \n",
       "4   4.246512e+07  8.768505e-03    1x112x112x16,96x1x1x16,96  1x112x112x96   \n",
       "..           ...           ...                          ...           ...   \n",
       "66  9.680279e+06  1.818942e-03  1x7x7x320,1280x1x1x320,1280    1x7x7x1280   \n",
       "67  1.732734e+06  1.093961e-05                 1x7x7x1280,2        1x1280   \n",
       "68  1.286945e+04  7.112388e-08                1x1280,3x1280           1x3   \n",
       "69  3.838418e+03  1.652612e-08                          1x3           1x3   \n",
       "70  1.189855e+04  4.224086e-07                          1x3           1x3   \n",
       "\n",
       "                                              options  \n",
       "0                                           Type=none  \n",
       "1            Padding:same stride:2x2 activation:relu6  \n",
       "2   Multiplier:1 padding:same stride:1x1 activatio...  \n",
       "3             Padding:same stride:1x1 activation:none  \n",
       "4            Padding:same stride:1x1 activation:relu6  \n",
       "..                                                ...  \n",
       "66          Padding:valid stride:1x1 activation:relu6  \n",
       "67                                Type=reduceroptions  \n",
       "68                                    Activation:none  \n",
       "69                                Type=softmaxoptions  \n",
       "70                                          Type=none  \n",
       "\n",
       "[71 rows x 10 columns]"
      ]
     },
     "execution_count": 35,
     "metadata": {},
     "output_type": "execute_result"
    }
   ],
   "source": [
    "layers_INT8_df = pd.DataFrame.from_dict(model_profile_INT8[\"layers\"])\n",
    "layers_INT8_df[\"name\"] = layers_INT8_df[\"index\"].map(str) + \": \" + layers_INT8_df[\"opcode\"]\n",
    "layers_INT8_df.insert(2,\"name\" , layers_INT8_df.pop(\"name\"))\n",
    "layers_INT8_df"
   ]
  },
  {
   "cell_type": "code",
   "execution_count": 36,
   "metadata": {},
   "outputs": [],
   "source": [
    "layers_df_INT8_path = pathlib.Path.joinpath(models_dir, \"layer_df_INT8_mltk.pkl\")\n",
    "layers_INT8_df.to_pickle(layers_df_INT8_path)"
   ]
  },
  {
   "cell_type": "code",
   "execution_count": 37,
   "metadata": {},
   "outputs": [],
   "source": [
    "#layers_INT8_df.info()"
   ]
  },
  {
   "attachments": {},
   "cell_type": "markdown",
   "metadata": {},
   "source": [
    "# Getting peak memory infos"
   ]
  },
  {
   "cell_type": "code",
   "execution_count": 38,
   "metadata": {},
   "outputs": [],
   "source": [
    "models_peak_memory_path = models_dir.joinpath(model_name, f\"{model_name}_peak_memory\")"
   ]
  },
  {
   "cell_type": "code",
   "execution_count": 39,
   "metadata": {},
   "outputs": [
    {
     "name": "stdout",
     "output_type": "stream",
     "text": [
      "Writing model analysis to i:\\tinyml\\tiny_cnn\\models\\mobilenetv2_1_224_c3_o3_keras\\mobilenetv2_1_224_c3_o3_keras_peak_memory in CSV format\n"
     ]
    }
   ],
   "source": [
    "! python i:\\tinyml\\tflite-tools\\tflite_tools.py -i $models_tflite_opt_path --csv $models_peak_memory_path\n",
    "! explorer $models_peak_memory_path"
   ]
  },
  {
   "cell_type": "code",
   "execution_count": 40,
   "metadata": {},
   "outputs": [],
   "source": [
    "model_peak_memory_schedule = models_dir.joinpath(model_name, f\"{model_name}_peak_memory\", \"execution_schedule_info.csv\")\n",
    "peak_memory_tensor_details = models_dir.joinpath(model_name, f\"{model_name}_peak_memory\", \"tensor_details.csv\")"
   ]
  },
  {
   "cell_type": "code",
   "execution_count": 41,
   "metadata": {},
   "outputs": [
    {
     "name": "stdout",
     "output_type": "stream",
     "text": [
      "Reading in i:\\tinyml\\tiny_cnn\\models\\mobilenetv2_1_224_c3_o3_keras\\mobilenetv2_1_224_c3_o3_keras_peak_memory\\execution_schedule_info.csv\n",
      "Cleaning up the dataframe.\n"
     ]
    },
    {
     "data": {
      "text/html": [
       "<div>\n",
       "<style scoped>\n",
       "    .dataframe tbody tr th:only-of-type {\n",
       "        vertical-align: middle;\n",
       "    }\n",
       "\n",
       "    .dataframe tbody tr th {\n",
       "        vertical-align: top;\n",
       "    }\n",
       "\n",
       "    .dataframe thead th {\n",
       "        text-align: right;\n",
       "    }\n",
       "</style>\n",
       "<table border=\"1\" class=\"dataframe\">\n",
       "  <thead>\n",
       "    <tr style=\"text-align: right;\">\n",
       "      <th></th>\n",
       "      <th>name</th>\n",
       "      <th>tensor_IDs</th>\n",
       "      <th>RAM_b</th>\n",
       "      <th>operator</th>\n",
       "      <th>index</th>\n",
       "    </tr>\n",
       "  </thead>\n",
       "  <tbody>\n",
       "    <tr>\n",
       "      <th>0</th>\n",
       "      <td>tfl.quantize</td>\n",
       "      <td>(0, 108)</td>\n",
       "      <td>301056</td>\n",
       "      <td>tfl.quantize</td>\n",
       "      <td>0</td>\n",
       "    </tr>\n",
       "    <tr>\n",
       "      <th>1</th>\n",
       "      <td>Conv1</td>\n",
       "      <td>(108, 109)</td>\n",
       "      <td>551936</td>\n",
       "      <td>mobilenetv2_1.00_224/Conv1_relu/Relu6;mobilene...</td>\n",
       "      <td>1</td>\n",
       "    </tr>\n",
       "    <tr>\n",
       "      <th>2</th>\n",
       "      <td>block_5_project_BN</td>\n",
       "      <td>(109, 110)</td>\n",
       "      <td>802816</td>\n",
       "      <td>mobilenetv2_1.00_224/expanded_conv_depthwise_r...</td>\n",
       "      <td>2</td>\n",
       "    </tr>\n",
       "    <tr>\n",
       "      <th>3</th>\n",
       "      <td>expanded_conv_project</td>\n",
       "      <td>(110, 111)</td>\n",
       "      <td>602112</td>\n",
       "      <td>mobilenetv2_1.00_224/expanded_conv_project_BN/...</td>\n",
       "      <td>3</td>\n",
       "    </tr>\n",
       "    <tr>\n",
       "      <th>4</th>\n",
       "      <td>block_1_expand</td>\n",
       "      <td>(111, 112)</td>\n",
       "      <td>1404928</td>\n",
       "      <td>mobilenetv2_1.00_224/block_1_expand_relu/Relu6...</td>\n",
       "      <td>4</td>\n",
       "    </tr>\n",
       "    <tr>\n",
       "      <th>5</th>\n",
       "      <td>block_1_pad</td>\n",
       "      <td>(112, 113)</td>\n",
       "      <td>2430048</td>\n",
       "      <td>mobilenetv2_1.00_224/block_1_pad/Pad</td>\n",
       "      <td>5</td>\n",
       "    </tr>\n",
       "    <tr>\n",
       "      <th>6</th>\n",
       "      <td>block_12_project_BN</td>\n",
       "      <td>(113, 114)</td>\n",
       "      <td>1526880</td>\n",
       "      <td>mobilenetv2_1.00_224/block_1_depthwise_relu/Re...</td>\n",
       "      <td>6</td>\n",
       "    </tr>\n",
       "    <tr>\n",
       "      <th>7</th>\n",
       "      <td>block_1_project</td>\n",
       "      <td>(114, 115)</td>\n",
       "      <td>376320</td>\n",
       "      <td>mobilenetv2_1.00_224/block_1_project_BN/FusedB...</td>\n",
       "      <td>7</td>\n",
       "    </tr>\n",
       "    <tr>\n",
       "      <th>8</th>\n",
       "      <td>block_2_expand</td>\n",
       "      <td>(115, 116)</td>\n",
       "      <td>526848</td>\n",
       "      <td>mobilenetv2_1.00_224/block_2_expand_relu/Relu6...</td>\n",
       "      <td>8</td>\n",
       "    </tr>\n",
       "    <tr>\n",
       "      <th>9</th>\n",
       "      <td>block_3_depthwise_BN</td>\n",
       "      <td>(115, 116, 117)</td>\n",
       "      <td>978432</td>\n",
       "      <td>mobilenetv2_1.00_224/block_2_depthwise_relu/Re...</td>\n",
       "      <td>9</td>\n",
       "    </tr>\n",
       "  </tbody>\n",
       "</table>\n",
       "</div>"
      ],
      "text/plain": [
       "                    name       tensor_IDs    RAM_b  \\\n",
       "0           tfl.quantize         (0, 108)   301056   \n",
       "1                  Conv1       (108, 109)   551936   \n",
       "2     block_5_project_BN       (109, 110)   802816   \n",
       "3  expanded_conv_project       (110, 111)   602112   \n",
       "4         block_1_expand       (111, 112)  1404928   \n",
       "5            block_1_pad       (112, 113)  2430048   \n",
       "6    block_12_project_BN       (113, 114)  1526880   \n",
       "7        block_1_project       (114, 115)   376320   \n",
       "8         block_2_expand       (115, 116)   526848   \n",
       "9   block_3_depthwise_BN  (115, 116, 117)   978432   \n",
       "\n",
       "                                            operator  index  \n",
       "0                                       tfl.quantize      0  \n",
       "1  mobilenetv2_1.00_224/Conv1_relu/Relu6;mobilene...      1  \n",
       "2  mobilenetv2_1.00_224/expanded_conv_depthwise_r...      2  \n",
       "3  mobilenetv2_1.00_224/expanded_conv_project_BN/...      3  \n",
       "4  mobilenetv2_1.00_224/block_1_expand_relu/Relu6...      4  \n",
       "5               mobilenetv2_1.00_224/block_1_pad/Pad      5  \n",
       "6  mobilenetv2_1.00_224/block_1_depthwise_relu/Re...      6  \n",
       "7  mobilenetv2_1.00_224/block_1_project_BN/FusedB...      7  \n",
       "8  mobilenetv2_1.00_224/block_2_expand_relu/Relu6...      8  \n",
       "9  mobilenetv2_1.00_224/block_2_depthwise_relu/Re...      9  "
      ]
     },
     "execution_count": 41,
     "metadata": {},
     "output_type": "execute_result"
    }
   ],
   "source": [
    "peak_memory_df = get_peak_memory_df(model_peak_memory_schedule)\n",
    "peak_memory_df.head(10)"
   ]
  },
  {
   "cell_type": "code",
   "execution_count": 42,
   "metadata": {},
   "outputs": [
    {
     "data": {
      "text/plain": [
       "2430048"
      ]
     },
     "execution_count": 42,
     "metadata": {},
     "output_type": "execute_result"
    }
   ],
   "source": [
    "peak_memory = peak_memory_df[\"RAM_b\"].max()\n",
    "peak_memory"
   ]
  },
  {
   "cell_type": "code",
   "execution_count": 43,
   "metadata": {},
   "outputs": [],
   "source": [
    "mltk_model_stats[\"peak_memory_b\"] = peak_memory"
   ]
  },
  {
   "cell_type": "code",
   "execution_count": 44,
   "metadata": {},
   "outputs": [
    {
     "data": {
      "text/plain": [
       "5"
      ]
     },
     "execution_count": 44,
     "metadata": {},
     "output_type": "execute_result"
    }
   ],
   "source": [
    "peak_memory_df[\"RAM_b\"].argmax()"
   ]
  },
  {
   "cell_type": "code",
   "execution_count": 45,
   "metadata": {},
   "outputs": [
    {
     "name": "stdout",
     "output_type": "stream",
     "text": [
      "Reading in i:\\tinyml\\tiny_cnn\\models\\mobilenetv2_1_224_c3_o3_keras\\mobilenetv2_1_224_c3_o3_keras_peak_memory\\tensor_details.csv\n",
      "Cleaning up the dataframe.\n"
     ]
    },
    {
     "data": {
      "text/html": [
       "<div>\n",
       "<style scoped>\n",
       "    .dataframe tbody tr th:only-of-type {\n",
       "        vertical-align: middle;\n",
       "    }\n",
       "\n",
       "    .dataframe tbody tr th {\n",
       "        vertical-align: top;\n",
       "    }\n",
       "\n",
       "    .dataframe thead th {\n",
       "        text-align: right;\n",
       "    }\n",
       "</style>\n",
       "<table border=\"1\" class=\"dataframe\">\n",
       "  <thead>\n",
       "    <tr style=\"text-align: right;\">\n",
       "      <th></th>\n",
       "      <th>id</th>\n",
       "      <th>name</th>\n",
       "      <th>shape</th>\n",
       "      <th>size_b</th>\n",
       "      <th>name_long</th>\n",
       "    </tr>\n",
       "  </thead>\n",
       "  <tbody>\n",
       "    <tr>\n",
       "      <th>0</th>\n",
       "      <td>0</td>\n",
       "      <td>serving_default_input_1:0</td>\n",
       "      <td>(1, 224, 224, 3)</td>\n",
       "      <td>150528</td>\n",
       "      <td>serving_default_input_1:0</td>\n",
       "    </tr>\n",
       "    <tr>\n",
       "      <th>1</th>\n",
       "      <td>108</td>\n",
       "      <td>tfl.quantize</td>\n",
       "      <td>(1, 224, 224, 3)</td>\n",
       "      <td>150528</td>\n",
       "      <td>tfl.quantize</td>\n",
       "    </tr>\n",
       "    <tr>\n",
       "      <th>2</th>\n",
       "      <td>109</td>\n",
       "      <td>mobilenetv2_1.00_224/Conv1/Conv2D</td>\n",
       "      <td>(1, 112, 112, 32)</td>\n",
       "      <td>401408</td>\n",
       "      <td>mobilenetv2_1.00_224/Conv1_relu/Relu6;mobilene...</td>\n",
       "    </tr>\n",
       "    <tr>\n",
       "      <th>3</th>\n",
       "      <td>110</td>\n",
       "      <td>mobilenetv2_1.00_224/block_5_project_BN/FusedB...</td>\n",
       "      <td>(1, 112, 112, 32)</td>\n",
       "      <td>401408</td>\n",
       "      <td>mobilenetv2_1.00_224/expanded_conv_depthwise_r...</td>\n",
       "    </tr>\n",
       "    <tr>\n",
       "      <th>4</th>\n",
       "      <td>111</td>\n",
       "      <td>mobilenetv2_1.00_224/expanded_conv_project/Conv2D</td>\n",
       "      <td>(1, 112, 112, 16)</td>\n",
       "      <td>200704</td>\n",
       "      <td>mobilenetv2_1.00_224/expanded_conv_project_BN/...</td>\n",
       "    </tr>\n",
       "    <tr>\n",
       "      <th>...</th>\n",
       "      <td>...</td>\n",
       "      <td>...</td>\n",
       "      <td>...</td>\n",
       "      <td>...</td>\n",
       "      <td>...</td>\n",
       "    </tr>\n",
       "    <tr>\n",
       "      <th>67</th>\n",
       "      <td>174</td>\n",
       "      <td>mobilenetv2_1.00_224/Conv_1/Conv2D</td>\n",
       "      <td>(1, 7, 7, 1280)</td>\n",
       "      <td>62720</td>\n",
       "      <td>mobilenetv2_1.00_224/out_relu/Relu6;mobilenetv...</td>\n",
       "    </tr>\n",
       "    <tr>\n",
       "      <th>68</th>\n",
       "      <td>175</td>\n",
       "      <td>mobilenetv2_1.00_224/global_average_pooling2d/...</td>\n",
       "      <td>(1, 1280)</td>\n",
       "      <td>1280</td>\n",
       "      <td>global_average_pooling2d</td>\n",
       "    </tr>\n",
       "    <tr>\n",
       "      <th>69</th>\n",
       "      <td>176</td>\n",
       "      <td>mobilenetv2_1.00_224/predictions/BiasAdd</td>\n",
       "      <td>(1, 3)</td>\n",
       "      <td>3</td>\n",
       "      <td>mobilenetv2_1.00_224/predictions/MatMul;mobile...</td>\n",
       "    </tr>\n",
       "    <tr>\n",
       "      <th>70</th>\n",
       "      <td>177</td>\n",
       "      <td>StatefulPartitionedCall:01</td>\n",
       "      <td>(1, 3)</td>\n",
       "      <td>3</td>\n",
       "      <td>StatefulPartitionedCall:01</td>\n",
       "    </tr>\n",
       "    <tr>\n",
       "      <th>71</th>\n",
       "      <td>178</td>\n",
       "      <td>StatefulPartitionedCall:0</td>\n",
       "      <td>(1, 3)</td>\n",
       "      <td>3</td>\n",
       "      <td>StatefulPartitionedCall:0</td>\n",
       "    </tr>\n",
       "  </tbody>\n",
       "</table>\n",
       "<p>72 rows × 5 columns</p>\n",
       "</div>"
      ],
      "text/plain": [
       "     id                                               name              shape  \\\n",
       "0     0                          serving_default_input_1:0   (1, 224, 224, 3)   \n",
       "1   108                                       tfl.quantize   (1, 224, 224, 3)   \n",
       "2   109                  mobilenetv2_1.00_224/Conv1/Conv2D  (1, 112, 112, 32)   \n",
       "3   110  mobilenetv2_1.00_224/block_5_project_BN/FusedB...  (1, 112, 112, 32)   \n",
       "4   111  mobilenetv2_1.00_224/expanded_conv_project/Conv2D  (1, 112, 112, 16)   \n",
       "..  ...                                                ...                ...   \n",
       "67  174                 mobilenetv2_1.00_224/Conv_1/Conv2D    (1, 7, 7, 1280)   \n",
       "68  175  mobilenetv2_1.00_224/global_average_pooling2d/...          (1, 1280)   \n",
       "69  176           mobilenetv2_1.00_224/predictions/BiasAdd             (1, 3)   \n",
       "70  177                         StatefulPartitionedCall:01             (1, 3)   \n",
       "71  178                          StatefulPartitionedCall:0             (1, 3)   \n",
       "\n",
       "    size_b                                          name_long  \n",
       "0   150528                          serving_default_input_1:0  \n",
       "1   150528                                       tfl.quantize  \n",
       "2   401408  mobilenetv2_1.00_224/Conv1_relu/Relu6;mobilene...  \n",
       "3   401408  mobilenetv2_1.00_224/expanded_conv_depthwise_r...  \n",
       "4   200704  mobilenetv2_1.00_224/expanded_conv_project_BN/...  \n",
       "..     ...                                                ...  \n",
       "67   62720  mobilenetv2_1.00_224/out_relu/Relu6;mobilenetv...  \n",
       "68    1280                           global_average_pooling2d  \n",
       "69       3  mobilenetv2_1.00_224/predictions/MatMul;mobile...  \n",
       "70       3                         StatefulPartitionedCall:01  \n",
       "71       3                          StatefulPartitionedCall:0  \n",
       "\n",
       "[72 rows x 5 columns]"
      ]
     },
     "execution_count": 45,
     "metadata": {},
     "output_type": "execute_result"
    }
   ],
   "source": [
    "tensor_df = get_tensor_details_df(peak_memory_tensor_details)\n",
    "tensor_df"
   ]
  },
  {
   "attachments": {},
   "cell_type": "markdown",
   "metadata": {},
   "source": [
    "# Logging to Weights & Biases"
   ]
  },
  {
   "cell_type": "code",
   "execution_count": 46,
   "metadata": {},
   "outputs": [
    {
     "name": "stderr",
     "output_type": "stream",
     "text": [
      "ERROR:wandb.jupyter:Failed to detect the name of this notebook, you can set it manually with the WANDB_NOTEBOOK_NAME environment variable to enable code saving.\n",
      "\u001b[34m\u001b[1mwandb\u001b[0m: Currently logged in as: \u001b[33msusbrock\u001b[0m. Use \u001b[1m`wandb login --relogin`\u001b[0m to force relogin\n"
     ]
    },
    {
     "data": {
      "text/html": [
       "Tracking run with wandb version 0.13.9"
      ],
      "text/plain": [
       "<IPython.core.display.HTML object>"
      ]
     },
     "metadata": {},
     "output_type": "display_data"
    },
    {
     "data": {
      "text/html": [
       "Run data is saved locally in <code>i:\\tinyml\\tiny_cnn\\wandb\\run-20230129_202146-r1p3x6ay</code>"
      ],
      "text/plain": [
       "<IPython.core.display.HTML object>"
      ]
     },
     "metadata": {},
     "output_type": "display_data"
    },
    {
     "data": {
      "text/html": [
       "Syncing run <strong><a href=\"https://wandb.ai/susbrock/model_DB/runs/r1p3x6ay\" target=\"_blank\">dancing-dumpling-10</a></strong> to <a href=\"https://wandb.ai/susbrock/model_DB\" target=\"_blank\">Weights & Biases</a> (<a href=\"https://wandb.me/run\" target=\"_blank\">docs</a>)<br/>"
      ],
      "text/plain": [
       "<IPython.core.display.HTML object>"
      ]
     },
     "metadata": {},
     "output_type": "display_data"
    },
    {
     "data": {
      "text/html": [
       " View project at <a href=\"https://wandb.ai/susbrock/model_DB\" target=\"_blank\">https://wandb.ai/susbrock/model_DB</a>"
      ],
      "text/plain": [
       "<IPython.core.display.HTML object>"
      ]
     },
     "metadata": {},
     "output_type": "display_data"
    },
    {
     "data": {
      "text/html": [
       " View run at <a href=\"https://wandb.ai/susbrock/model_DB/runs/r1p3x6ay\" target=\"_blank\">https://wandb.ai/susbrock/model_DB/runs/r1p3x6ay</a>"
      ],
      "text/plain": [
       "<IPython.core.display.HTML object>"
      ]
     },
     "metadata": {},
     "output_type": "display_data"
    },
    {
     "data": {
      "text/html": [
       "Waiting for W&B process to finish... <strong style=\"color:green\">(success).</strong>"
      ],
      "text/plain": [
       "<IPython.core.display.HTML object>"
      ]
     },
     "metadata": {},
     "output_type": "display_data"
    },
    {
     "data": {
      "text/html": [
       " View run <strong style=\"color:#cdcd00\">dancing-dumpling-10</strong> at: <a href=\"https://wandb.ai/susbrock/model_DB/runs/r1p3x6ay\" target=\"_blank\">https://wandb.ai/susbrock/model_DB/runs/r1p3x6ay</a><br/>Synced 6 W&B file(s), 4 media file(s), 4 artifact file(s) and 2 other file(s)"
      ],
      "text/plain": [
       "<IPython.core.display.HTML object>"
      ]
     },
     "metadata": {},
     "output_type": "display_data"
    },
    {
     "data": {
      "text/html": [
       "Find logs at: <code>.\\wandb\\run-20230129_202146-r1p3x6ay\\logs</code>"
      ],
      "text/plain": [
       "<IPython.core.display.HTML object>"
      ]
     },
     "metadata": {},
     "output_type": "display_data"
    }
   ],
   "source": [
    "api = wandb.Api()\n",
    "\n",
    "# Generate run ids\n",
    "run_id = wandb.util.generate_id()\n",
    "\n",
    "wandb.init(\n",
    "    project=PROJECT,\n",
    "    entity=\"susbrock\",\n",
    "    id=run_id,\n",
    "    resume=True)\n",
    "config = wandb.config\n",
    "config.id = run_id\n",
    "config.update(mltk_model_stats)\n",
    "\n",
    "\n",
    "layers_df_wandb = wandb.Table(dataframe=layers_df)\n",
    "wandb.log({\"tflite_layers_mltk\" : layers_df_wandb})\n",
    "layers_INT8_df_wandb = wandb.Table(dataframe=layers_INT8_df)\n",
    "wandb.log({\"tflite_INt8_layers_mltk\" : layers_INT8_df_wandb})\n",
    "\n",
    "peak_memory_df_wandb = wandb.Table(dataframe=peak_memory_df)\n",
    "wandb.log({\"peak_memory\" : peak_memory_df_wandb})\n",
    "\n",
    "tensor_df_wandb = wandb.Table(dataframe=tensor_df)\n",
    "wandb.log({\"tensor_info\" : tensor_df_wandb})\n",
    "\n",
    "\n",
    "\n",
    "wandb.log({\"tflite_INt8_layers_plt\" : wandb.plot.bar(layers_INT8_df_wandb, \"index\", \"macs\", title=model_name)})\n",
    "\n",
    "wandb.finish()\n",
    "\n"
   ]
  },
  {
   "cell_type": "code",
   "execution_count": null,
   "metadata": {},
   "outputs": [],
   "source": []
  }
 ],
 "metadata": {
  "kernelspec": {
   "display_name": "tiny_cnn_6",
   "language": "python",
   "name": "python3"
  },
  "language_info": {
   "codemirror_mode": {
    "name": "ipython",
    "version": 3
   },
   "file_extension": ".py",
   "mimetype": "text/x-python",
   "name": "python",
   "nbconvert_exporter": "python",
   "pygments_lexer": "ipython3",
   "version": "3.10.6"
  },
  "orig_nbformat": 4,
  "vscode": {
   "interpreter": {
    "hash": "0faa6c31b20b8f809b81d6d7d22a84ccd9f354666f54133d1793fa4c65539801"
   }
  }
 },
 "nbformat": 4,
 "nbformat_minor": 2
}
