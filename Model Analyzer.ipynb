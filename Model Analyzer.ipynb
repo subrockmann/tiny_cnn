{
 "cells": [
  {
   "cell_type": "code",
   "execution_count": 1,
   "metadata": {},
   "outputs": [],
   "source": [
    "import os, sys, math, datetime\n",
    "import pathlib\n",
    "from pathlib import Path\n",
    "import numpy as np\n",
    "import pandas as pd\n",
    "import random\n",
    "from matplotlib import pyplot as plt\n",
    "import PIL\n",
    "import PIL.Image\n",
    "import seaborn as sns\n",
    "\n",
    "import tensorflow as tf\n",
    "# import tensorflow_datasets as tfds\n",
    "from tensorflow import keras\n",
    "# from tensorflow.keras.layers import Input, Dense, Flatten, Conv2D,DepthwiseConv2D, MaxPooling2D, AvgPool2D, GlobalAveragePooling2D, BatchNormalization, Concatenate\n",
    "# from tensorflow.keras.layers import ReLU\n",
    "# from tensorflow.keras.models import Model\n",
    "# from tensorflow.keras.callbacks import ModelCheckpoint, EarlyStopping, LearningRateScheduler\n",
    " \n",
    "# Import the necessary MLTK APIs\n",
    "from mltk.core import view_model, summarize_model, profile_model\n",
    "\n",
    "# import workbench.config.config\n",
    "from workbench.config.config import initialize\n",
    "from workbench.utils.utils import create_filepaths\n",
    "from workbench.utils.utils import parse_model_name\n",
    "from workbench.data.data import get_lemon_quality_dataset\n",
    "\n",
    "#from dotenv import load_dotenv\n",
    "import wandb\n",
    "from wandb.keras import WandbMetricsLogger, WandbModelCheckpoint\n",
    "#import deeplake\n",
    "\n",
    "%load_ext autoreload\n",
    "\n"
   ]
  },
  {
   "cell_type": "code",
   "execution_count": 2,
   "metadata": {},
   "outputs": [],
   "source": [
    "#%reload_ext autoreload\n",
    "%autoreload"
   ]
  },
  {
   "cell_type": "code",
   "execution_count": 3,
   "metadata": {},
   "outputs": [],
   "source": [
    "models_dir = initialize()"
   ]
  },
  {
   "cell_type": "code",
   "execution_count": 4,
   "metadata": {},
   "outputs": [],
   "source": [
    "global model_name\n",
    "#model_name = \"efficientNetB0_1_96_c3_o3_keras\"\n",
    "#model_name = \"shufflenetv2tinys_0.2_96_c3_o3_f4l1024\"\n",
    "model_name = \"mobilenetv2_0.1_96_c3_o3_keras\"\n",
    "#model_name = \"shufflenetv2tiny_0.1_96_c3_o3_f4l1024\"\n",
    "#model_name = \"MobilenetV3small_1_96_c3_o3_keras\"#, \"MobilenetV3large_1_224_c3_o3_keras\"# ,\n"
   ]
  },
  {
   "cell_type": "code",
   "execution_count": 5,
   "metadata": {},
   "outputs": [],
   "source": [
    "base_model_name, alpha, resolution, channels, classes, variation = model_name.split(\"_\")\n",
    "alpha = float(alpha)\n",
    "resolution = int(resolution)\n",
    "classes = int(classes.strip(\"o\"))\n",
    "channels = int(channels.strip(\"c\"))\n",
    "PROJECT = \"model_DB\"\n",
    "\n",
    "# just needed for INT 8 quantization:\n",
    "BATCH_SIZE = 32\n",
    "shuffle_seed = 1"
   ]
  },
  {
   "cell_type": "code",
   "execution_count": 6,
   "metadata": {},
   "outputs": [
    {
     "name": "stdout",
     "output_type": "stream",
     "text": [
      "i:\\tinyml\\tiny_cnn\\models\n"
     ]
    }
   ],
   "source": [
    "models_path, models_summary_path, models_image_path, models_layer_df_path, models_tf_path, models_tflite_path, models_tflite_opt_path = create_filepaths(model_name)"
   ]
  },
  {
   "cell_type": "code",
   "execution_count": 7,
   "metadata": {},
   "outputs": [],
   "source": [
    "model = keras.models.load_model(models_tf_path)"
   ]
  },
  {
   "cell_type": "code",
   "execution_count": 8,
   "metadata": {},
   "outputs": [],
   "source": [
    "# view_model(model, tflite=True, build=True)"
   ]
  },
  {
   "attachments": {},
   "cell_type": "markdown",
   "metadata": {},
   "source": [
    "# Creating tflite Models"
   ]
  },
  {
   "cell_type": "code",
   "execution_count": 9,
   "metadata": {},
   "outputs": [
    {
     "name": "stderr",
     "output_type": "stream",
     "text": [
      "WARNING:absl:Found untraced functions such as _jit_compiled_convolution_op, _jit_compiled_convolution_op, _jit_compiled_convolution_op, _jit_compiled_convolution_op, _jit_compiled_convolution_op while saving (showing 5 of 52). These functions will not be directly callable after loading.\n"
     ]
    },
    {
     "name": "stdout",
     "output_type": "stream",
     "text": [
      "INFO:tensorflow:Assets written to: C:\\Users\\Susanne\\AppData\\Local\\Temp\\tmppd7rd8ja\\assets\n"
     ]
    },
    {
     "name": "stderr",
     "output_type": "stream",
     "text": [
      "INFO:tensorflow:Assets written to: C:\\Users\\Susanne\\AppData\\Local\\Temp\\tmppd7rd8ja\\assets\n"
     ]
    }
   ],
   "source": [
    "# Convert the model to the TensorFlow Lite format without quantization\n",
    "converter = tf.lite.TFLiteConverter.from_keras_model(model)\n",
    "#converter = tf.lite.TFLiteConverter.from_saved_model(models_path)\n",
    "tflite_model = converter.convert()\n"
   ]
  },
  {
   "cell_type": "code",
   "execution_count": 10,
   "metadata": {},
   "outputs": [],
   "source": [
    "# Save the model.\n",
    "with open(models_tflite_path, \"wb\") as f:\n",
    "    f.write(tflite_model)"
   ]
  },
  {
   "attachments": {},
   "cell_type": "markdown",
   "metadata": {},
   "source": [
    "# tflite with INT8 quantization"
   ]
  },
  {
   "cell_type": "code",
   "execution_count": 11,
   "metadata": {},
   "outputs": [
    {
     "data": {
      "text/plain": [
       "True"
      ]
     },
     "execution_count": 11,
     "metadata": {},
     "output_type": "execute_result"
    }
   ],
   "source": [
    "dataset_path = Path.cwd().joinpath(\"datasets\", \"lemon_dataset\")\n",
    "dataset_path.exists()"
   ]
  },
  {
   "cell_type": "code",
   "execution_count": 12,
   "metadata": {},
   "outputs": [
    {
     "name": "stdout",
     "output_type": "stream",
     "text": [
      "Color mode: rgb\n",
      "Preparing training dataset...\n",
      "Found 2021 files belonging to 3 classes.\n",
      "Preparing validation dataset...\n",
      "Found 252 files belonging to 3 classes.\n",
      "Preparing test dataset...\n",
      "Found 255 files belonging to 3 classes.\n",
      "Class names: ['bad_quality', 'empty_background', 'good_quality']\n",
      "Train: (TensorSpec(shape=(None, 96, 96, 3), dtype=tf.float32, name=None), TensorSpec(shape=(None,), dtype=tf.int32, name=None))\n",
      "Normalize: True\n"
     ]
    }
   ],
   "source": [
    "train_ds, val_ds, test_ds, labels = get_lemon_quality_dataset(dataset_path, resolution, resolution, BATCH_SIZE, channels)"
   ]
  },
  {
   "cell_type": "code",
   "execution_count": 13,
   "metadata": {},
   "outputs": [
    {
     "name": "stderr",
     "output_type": "stream",
     "text": [
      "WARNING:absl:Found untraced functions such as _jit_compiled_convolution_op, _jit_compiled_convolution_op, _jit_compiled_convolution_op, _jit_compiled_convolution_op, _jit_compiled_convolution_op while saving (showing 5 of 52). These functions will not be directly callable after loading.\n"
     ]
    },
    {
     "name": "stdout",
     "output_type": "stream",
     "text": [
      "INFO:tensorflow:Assets written to: C:\\Users\\Susanne\\AppData\\Local\\Temp\\tmpw59rzgex\\assets\n"
     ]
    },
    {
     "name": "stderr",
     "output_type": "stream",
     "text": [
      "INFO:tensorflow:Assets written to: C:\\Users\\Susanne\\AppData\\Local\\Temp\\tmpw59rzgex\\assets\n",
      "d:\\Miniconda\\envs\\tiny_cnn_6\\lib\\site-packages\\tensorflow\\lite\\python\\convert.py:766: UserWarning: Statistics for quantized inputs were expected, but not specified; continuing anyway.\n",
      "  warnings.warn(\"Statistics for quantized inputs were expected, but not \"\n"
     ]
    },
    {
     "data": {
      "text/plain": [
       "WindowsPath('i:/tinyml/tiny_cnn/models/mobilenetv2_0.1_96_c3_o3_keras/mobilenetv2_0.1_96_c3_o3_keras_INT8.tflite')"
      ]
     },
     "execution_count": 13,
     "metadata": {},
     "output_type": "execute_result"
    }
   ],
   "source": [
    "repr_ds = test_ds.unbatch()\n",
    "\n",
    "def representative_data_gen():\n",
    "  for i_value, o_value in repr_ds.batch(1).take(48):\n",
    "    yield [i_value]\n",
    "    \n",
    "converter_opt = tf.lite.TFLiteConverter.from_keras_model(model)\n",
    "\n",
    "# set the optimization flag\n",
    "converter_opt.optimizations = [tf.lite.Optimize.DEFAULT]\n",
    "# enforce integer only quantization\n",
    "converter_opt.target_spec.supported_ops = [tf.lite.OpsSet.TFLITE_BUILTINS_INT8]\n",
    "converter_opt.inference_input_type = tf.uint8\n",
    "converter_opt.inference_output_type = tf.uint8\n",
    "\n",
    "# provide a representative dataset for quantization\n",
    "converter_opt.representative_dataset = representative_data_gen\n",
    "\n",
    "tflite_model_opt = converter_opt.convert()\n",
    "\n",
    "# Save the model.\n",
    "with open(models_tflite_opt_path, 'wb') as f:\n",
    "  f.write(tflite_model_opt)\n",
    "models_tflite_opt_path"
   ]
  },
  {
   "attachments": {},
   "cell_type": "markdown",
   "metadata": {},
   "source": [
    "# Profiling tflite models with MLTK profiler"
   ]
  },
  {
   "cell_type": "code",
   "execution_count": 14,
   "metadata": {},
   "outputs": [],
   "source": [
    "mltk_model_stats = {}"
   ]
  },
  {
   "cell_type": "code",
   "execution_count": 15,
   "metadata": {},
   "outputs": [],
   "source": [
    "mltk_model_stats[\"arhcitecture\"] = model_name\n",
    "mltk_model_stats[\"alpha\"] = alpha\n",
    "mltk_model_stats[\"img_res\"] = resolution\n",
    "mltk_model_stats[\"classes\"] = classes\n",
    "mltk_model_stats[\"channels\"] = channels\n",
    "mltk_model_stats[\"variation\"] = variation\n"
   ]
  },
  {
   "cell_type": "code",
   "execution_count": 16,
   "metadata": {},
   "outputs": [
    {
     "name": "stdout",
     "output_type": "stream",
     "text": [
      "Profiling model in simulator ...\n",
      "Using Tensorflow-Lite Micro version: b13b48c (2022-06-08)\n",
      "Searching for optimal runtime memory size ...\n",
      "Determined optimal runtime memory size to be 947328\n"
     ]
    }
   ],
   "source": [
    "# MLTK profile model reads the mode from a path!\n",
    "\n",
    "profiling_results = profile_model(str(models_tflite_path), accelerator=None, build=None)"
   ]
  },
  {
   "cell_type": "code",
   "execution_count": 17,
   "metadata": {},
   "outputs": [],
   "source": [
    "mltk_model_stats[\"opt_RAM_mltk\"] = int(input(\"Please copy the optimal runtime memory size from above: \\n\"))"
   ]
  },
  {
   "cell_type": "code",
   "execution_count": 18,
   "metadata": {},
   "outputs": [],
   "source": [
    "profiling_results.get_summary(exclude_null=False, full_summary=True)\n",
    "model_profile = profiling_results.to_dict()"
   ]
  },
  {
   "cell_type": "code",
   "execution_count": 19,
   "metadata": {},
   "outputs": [],
   "source": [
    "mltk_model_stats[\"flash_model_size_b_mltk\"] = model_profile[\"summary\"][\"tflite_size\"]\n",
    "mltk_model_stats[\"RAM_runtime_memory_size_b_mltk\"] = model_profile[\"summary\"][\"runtime_memory_size\"]\n",
    "mltk_model_stats[\"OPS_mltk\"] = model_profile[\"summary\"][\"ops\"]\n",
    "mltk_model_stats[\"macs_mltk\"] = model_profile[\"summary\"][\"macs\"]\n",
    "mltk_model_stats[\"n_unsupported_layers_mltk\"] = model_profile[\"summary\"][\"n_unsupported_layers\"]\n",
    "mltk_model_stats[\"energy_mltk\"] = model_profile[\"summary\"][\"energy\"]"
   ]
  },
  {
   "cell_type": "code",
   "execution_count": 20,
   "metadata": {},
   "outputs": [
    {
     "data": {
      "text/html": [
       "<div>\n",
       "<style scoped>\n",
       "    .dataframe tbody tr th:only-of-type {\n",
       "        vertical-align: middle;\n",
       "    }\n",
       "\n",
       "    .dataframe tbody tr th {\n",
       "        vertical-align: top;\n",
       "    }\n",
       "\n",
       "    .dataframe thead th {\n",
       "        text-align: right;\n",
       "    }\n",
       "</style>\n",
       "<table border=\"1\" class=\"dataframe\">\n",
       "  <thead>\n",
       "    <tr style=\"text-align: right;\">\n",
       "      <th></th>\n",
       "      <th>index</th>\n",
       "      <th>opcode</th>\n",
       "      <th>name</th>\n",
       "      <th>ops</th>\n",
       "      <th>macs</th>\n",
       "      <th>cpu_cycles</th>\n",
       "      <th>energy</th>\n",
       "      <th>input_shape</th>\n",
       "      <th>output_shape</th>\n",
       "      <th>options</th>\n",
       "    </tr>\n",
       "  </thead>\n",
       "  <tbody>\n",
       "    <tr>\n",
       "      <th>0</th>\n",
       "      <td>0</td>\n",
       "      <td>conv_2d</td>\n",
       "      <td>0: conv_2d</td>\n",
       "      <td>1050624</td>\n",
       "      <td>497664</td>\n",
       "      <td>4.600492e+06</td>\n",
       "      <td>8.359018e-04</td>\n",
       "      <td>1x96x96x3,8x3x3x3,8</td>\n",
       "      <td>1x48x48x8</td>\n",
       "      <td>Padding:same stride:2x2 activation:relu6</td>\n",
       "    </tr>\n",
       "    <tr>\n",
       "      <th>1</th>\n",
       "      <td>1</td>\n",
       "      <td>depthwise_conv_2d</td>\n",
       "      <td>1: depthwise_conv_2d</td>\n",
       "      <td>387072</td>\n",
       "      <td>165888</td>\n",
       "      <td>2.522040e+06</td>\n",
       "      <td>4.679793e-04</td>\n",
       "      <td>1x48x48x8,1x3x3x8,8</td>\n",
       "      <td>1x48x48x8</td>\n",
       "      <td>Multiplier:1 padding:same stride:1x1 activatio...</td>\n",
       "    </tr>\n",
       "    <tr>\n",
       "      <th>2</th>\n",
       "      <td>2</td>\n",
       "      <td>conv_2d</td>\n",
       "      <td>2: conv_2d</td>\n",
       "      <td>313344</td>\n",
       "      <td>147456</td>\n",
       "      <td>1.678246e+06</td>\n",
       "      <td>2.639363e-04</td>\n",
       "      <td>1x48x48x8,8x1x1x8,8</td>\n",
       "      <td>1x48x48x8</td>\n",
       "      <td>Padding:same stride:1x1 activation:none</td>\n",
       "    </tr>\n",
       "    <tr>\n",
       "      <th>3</th>\n",
       "      <td>3</td>\n",
       "      <td>add</td>\n",
       "      <td>3: add</td>\n",
       "      <td>18432</td>\n",
       "      <td>0</td>\n",
       "      <td>1.550003e+06</td>\n",
       "      <td>3.223873e-04</td>\n",
       "      <td>1x48x48x8,1x48x48x8</td>\n",
       "      <td>1x48x48x8</td>\n",
       "      <td>Activation:none</td>\n",
       "    </tr>\n",
       "    <tr>\n",
       "      <th>4</th>\n",
       "      <td>4</td>\n",
       "      <td>conv_2d</td>\n",
       "      <td>4: conv_2d</td>\n",
       "      <td>2101248</td>\n",
       "      <td>884736</td>\n",
       "      <td>1.073103e+07</td>\n",
       "      <td>2.051086e-03</td>\n",
       "      <td>1x48x48x8,48x1x1x8,48</td>\n",
       "      <td>1x48x48x48</td>\n",
       "      <td>Padding:same stride:1x1 activation:relu6</td>\n",
       "    </tr>\n",
       "    <tr>\n",
       "      <th>...</th>\n",
       "      <td>...</td>\n",
       "      <td>...</td>\n",
       "      <td>...</td>\n",
       "      <td>...</td>\n",
       "      <td>...</td>\n",
       "      <td>...</td>\n",
       "      <td>...</td>\n",
       "      <td>...</td>\n",
       "      <td>...</td>\n",
       "      <td>...</td>\n",
       "    </tr>\n",
       "    <tr>\n",
       "      <th>65</th>\n",
       "      <td>65</td>\n",
       "      <td>conv_2d</td>\n",
       "      <td>65: conv_2d</td>\n",
       "      <td>55584</td>\n",
       "      <td>27648</td>\n",
       "      <td>9.964514e+04</td>\n",
       "      <td>3.828835e-05</td>\n",
       "      <td>1x3x3x96,32x1x1x96,32</td>\n",
       "      <td>1x3x3x32</td>\n",
       "      <td>Padding:same stride:1x1 activation:none</td>\n",
       "    </tr>\n",
       "    <tr>\n",
       "      <th>66</th>\n",
       "      <td>66</td>\n",
       "      <td>conv_2d</td>\n",
       "      <td>66: conv_2d</td>\n",
       "      <td>771840</td>\n",
       "      <td>368640</td>\n",
       "      <td>1.500693e+06</td>\n",
       "      <td>7.942666e-05</td>\n",
       "      <td>1x3x3x32,1280x1x1x32,1280</td>\n",
       "      <td>1x3x3x1280</td>\n",
       "      <td>Padding:valid stride:1x1 activation:relu6</td>\n",
       "    </tr>\n",
       "    <tr>\n",
       "      <th>67</th>\n",
       "      <td>67</td>\n",
       "      <td>mean</td>\n",
       "      <td>67: mean</td>\n",
       "      <td>0</td>\n",
       "      <td>0</td>\n",
       "      <td>1.732734e+06</td>\n",
       "      <td>1.093961e-05</td>\n",
       "      <td>1x3x3x1280,2</td>\n",
       "      <td>1x1280</td>\n",
       "      <td>Type=reduceroptions</td>\n",
       "    </tr>\n",
       "    <tr>\n",
       "      <th>68</th>\n",
       "      <td>68</td>\n",
       "      <td>fully_connected</td>\n",
       "      <td>68: fully_connected</td>\n",
       "      <td>7680</td>\n",
       "      <td>3840</td>\n",
       "      <td>1.286945e+04</td>\n",
       "      <td>7.112388e-08</td>\n",
       "      <td>1x1280,3x1280</td>\n",
       "      <td>1x3</td>\n",
       "      <td>Activation:none</td>\n",
       "    </tr>\n",
       "    <tr>\n",
       "      <th>69</th>\n",
       "      <td>69</td>\n",
       "      <td>softmax</td>\n",
       "      <td>69: softmax</td>\n",
       "      <td>15</td>\n",
       "      <td>0</td>\n",
       "      <td>3.838418e+03</td>\n",
       "      <td>1.652612e-08</td>\n",
       "      <td>1x3</td>\n",
       "      <td>1x3</td>\n",
       "      <td>Type=softmaxoptions</td>\n",
       "    </tr>\n",
       "  </tbody>\n",
       "</table>\n",
       "<p>70 rows × 10 columns</p>\n",
       "</div>"
      ],
      "text/plain": [
       "    index             opcode                  name      ops    macs  \\\n",
       "0       0            conv_2d            0: conv_2d  1050624  497664   \n",
       "1       1  depthwise_conv_2d  1: depthwise_conv_2d   387072  165888   \n",
       "2       2            conv_2d            2: conv_2d   313344  147456   \n",
       "3       3                add                3: add    18432       0   \n",
       "4       4            conv_2d            4: conv_2d  2101248  884736   \n",
       "..    ...                ...                   ...      ...     ...   \n",
       "65     65            conv_2d           65: conv_2d    55584   27648   \n",
       "66     66            conv_2d           66: conv_2d   771840  368640   \n",
       "67     67               mean              67: mean        0       0   \n",
       "68     68    fully_connected   68: fully_connected     7680    3840   \n",
       "69     69            softmax           69: softmax       15       0   \n",
       "\n",
       "      cpu_cycles        energy                input_shape output_shape  \\\n",
       "0   4.600492e+06  8.359018e-04        1x96x96x3,8x3x3x3,8    1x48x48x8   \n",
       "1   2.522040e+06  4.679793e-04        1x48x48x8,1x3x3x8,8    1x48x48x8   \n",
       "2   1.678246e+06  2.639363e-04        1x48x48x8,8x1x1x8,8    1x48x48x8   \n",
       "3   1.550003e+06  3.223873e-04        1x48x48x8,1x48x48x8    1x48x48x8   \n",
       "4   1.073103e+07  2.051086e-03      1x48x48x8,48x1x1x8,48   1x48x48x48   \n",
       "..           ...           ...                        ...          ...   \n",
       "65  9.964514e+04  3.828835e-05      1x3x3x96,32x1x1x96,32     1x3x3x32   \n",
       "66  1.500693e+06  7.942666e-05  1x3x3x32,1280x1x1x32,1280   1x3x3x1280   \n",
       "67  1.732734e+06  1.093961e-05               1x3x3x1280,2       1x1280   \n",
       "68  1.286945e+04  7.112388e-08              1x1280,3x1280          1x3   \n",
       "69  3.838418e+03  1.652612e-08                        1x3          1x3   \n",
       "\n",
       "                                              options  \n",
       "0            Padding:same stride:2x2 activation:relu6  \n",
       "1   Multiplier:1 padding:same stride:1x1 activatio...  \n",
       "2             Padding:same stride:1x1 activation:none  \n",
       "3                                     Activation:none  \n",
       "4            Padding:same stride:1x1 activation:relu6  \n",
       "..                                                ...  \n",
       "65            Padding:same stride:1x1 activation:none  \n",
       "66          Padding:valid stride:1x1 activation:relu6  \n",
       "67                                Type=reduceroptions  \n",
       "68                                    Activation:none  \n",
       "69                                Type=softmaxoptions  \n",
       "\n",
       "[70 rows x 10 columns]"
      ]
     },
     "execution_count": 20,
     "metadata": {},
     "output_type": "execute_result"
    }
   ],
   "source": [
    "layers_df = pd.DataFrame.from_dict(model_profile[\"layers\"])\n",
    "layers_df[\"name\"] = layers_df[\"index\"].map(str) + \": \" + layers_df[\"opcode\"]\n",
    "layers_df.insert(2,\"name\" , layers_df.pop(\"name\"))\n",
    "layers_df"
   ]
  },
  {
   "cell_type": "code",
   "execution_count": 21,
   "metadata": {},
   "outputs": [],
   "source": [
    "layers_df_path = pathlib.Path.joinpath(models_dir, \"layer_df_mltk.pkl\")\n",
    "layers_df.to_pickle(layers_df_path)"
   ]
  },
  {
   "cell_type": "code",
   "execution_count": 22,
   "metadata": {},
   "outputs": [
    {
     "data": {
      "text/plain": [
       "{'arhcitecture': 'mobilenetv2_0.1_96_c3_o3_keras',\n",
       " 'alpha': 0.1,\n",
       " 'img_res': 96,\n",
       " 'classes': 3,\n",
       " 'channels': 3,\n",
       " 'variation': 'keras',\n",
       " 'opt_RAM_mltk': 947328,\n",
       " 'flash_model_size_b_mltk': 370932,\n",
       " 'RAM_runtime_memory_size_b_mltk': 943260,\n",
       " 'OPS_mltk': 11391327,\n",
       " 'macs_mltk': 4665408,\n",
       " 'n_unsupported_layers_mltk': 0,\n",
       " 'energy_mltk': 0.008759774869950832}"
      ]
     },
     "execution_count": 22,
     "metadata": {},
     "output_type": "execute_result"
    }
   ],
   "source": [
    "mltk_model_stats"
   ]
  },
  {
   "cell_type": "code",
   "execution_count": 23,
   "metadata": {},
   "outputs": [
    {
     "name": "stdout",
     "output_type": "stream",
     "text": [
      "Profiling model in simulator ...\n",
      "Using Tensorflow-Lite Micro version: b13b48c (2022-06-08)\n",
      "Searching for optimal runtime memory size ...\n",
      "Determined optimal runtime memory size to be 271360\n"
     ]
    }
   ],
   "source": [
    "# %%capture optimal_runtime_INT\n",
    "profiling_results_INT8 = profile_model(str(models_tflite_opt_path), accelerator=None, build=False)"
   ]
  },
  {
   "cell_type": "code",
   "execution_count": 24,
   "metadata": {},
   "outputs": [],
   "source": [
    "mltk_model_stats[\"opt_RAM_INT8_mltk\"] = int(input(\"Please copy the optimal runtime memory size from above: \\n\"))"
   ]
  },
  {
   "cell_type": "code",
   "execution_count": 25,
   "metadata": {},
   "outputs": [],
   "source": [
    "# from contextlib import redirect_stdout\n",
    "\n",
    "# with open(\"runtime.txt\", \"w\", encoding='utf-8') as f:\n",
    "#     with redirect_stdout(f):\n",
    "#         print(profile_model(str(models_tflite_opt_path), accelerator=None, build=False))"
   ]
  },
  {
   "cell_type": "code",
   "execution_count": 26,
   "metadata": {},
   "outputs": [
    {
     "data": {
      "text/plain": [
       "OrderedDict([('name', 'mobilenetv2_0.1_96_c3_o3_keras_INT8'),\n",
       "             ('accelerator', 'None'),\n",
       "             ('input_shape', '1x96x96x3'),\n",
       "             ('input_dtype', 'uint8'),\n",
       "             ('output_shape', '1x3'),\n",
       "             ('output_dtype', 'uint8'),\n",
       "             ('tflite_size', 220776),\n",
       "             ('runtime_memory_size', 266576),\n",
       "             ('ops', 11501931),\n",
       "             ('macs', 4665408),\n",
       "             ('n_layers', 72),\n",
       "             ('n_unsupported_layers', 0),\n",
       "             ('cpu_cycles', 51560335.30175781),\n",
       "             ('cpu_utilization', 0.0),\n",
       "             ('cpu_clock_rate', 78000000),\n",
       "             ('energy', 0.008959035986997321),\n",
       "             ('j_per_op', 7.789158174394648e-10),\n",
       "             ('j_per_mac', 1.920311361192273e-09)])"
      ]
     },
     "execution_count": 26,
     "metadata": {},
     "output_type": "execute_result"
    }
   ],
   "source": [
    "profiling_results_INT8.get_summary()"
   ]
  },
  {
   "cell_type": "code",
   "execution_count": 27,
   "metadata": {},
   "outputs": [],
   "source": [
    "model_profile_INT8 = profiling_results_INT8.to_dict()\n"
   ]
  },
  {
   "cell_type": "code",
   "execution_count": 28,
   "metadata": {},
   "outputs": [],
   "source": [
    "mltk_model_stats[\"flash_model_size_b__INT8_mltk\"] = model_profile_INT8[\"summary\"][\"tflite_size\"]\n",
    "mltk_model_stats[\"RAM_runtime_memory_size_b_INT8_mltk\"] = model_profile_INT8[\"summary\"][\"runtime_memory_size\"]\n",
    "mltk_model_stats[\"OPS_INT8_mltk\"] = model_profile_INT8[\"summary\"][\"ops\"]\n",
    "mltk_model_stats[\"macs_INT8_mltk\"] = model_profile_INT8[\"summary\"][\"macs\"]\n",
    "mltk_model_stats[\"n_unsupported_layers_INT8_mltk\"] = model_profile_INT8[\"summary\"][\"n_unsupported_layers\"]\n",
    "mltk_model_stats[\"energy_INT8_mltk\"] = model_profile_INT8[\"summary\"][\"energy\"]"
   ]
  },
  {
   "cell_type": "code",
   "execution_count": 29,
   "metadata": {},
   "outputs": [
    {
     "data": {
      "text/plain": [
       "{'arhcitecture': 'mobilenetv2_0.1_96_c3_o3_keras',\n",
       " 'alpha': 0.1,\n",
       " 'img_res': 96,\n",
       " 'classes': 3,\n",
       " 'channels': 3,\n",
       " 'variation': 'keras',\n",
       " 'opt_RAM_mltk': 947328,\n",
       " 'flash_model_size_b_mltk': 370932,\n",
       " 'RAM_runtime_memory_size_b_mltk': 943260,\n",
       " 'OPS_mltk': 11391327,\n",
       " 'macs_mltk': 4665408,\n",
       " 'n_unsupported_layers_mltk': 0,\n",
       " 'energy_mltk': 0.008759774869950832,\n",
       " 'opt_RAM_INT8_mltk': 271360,\n",
       " 'flash_model_size_b__INT8_mltk': 220776,\n",
       " 'RAM_runtime_memory_size_b_INT8_mltk': 266576,\n",
       " 'OPS_INT8_mltk': 11501931,\n",
       " 'macs_INT8_mltk': 4665408,\n",
       " 'n_unsupported_layers_INT8_mltk': 0,\n",
       " 'energy_INT8_mltk': 0.008959035986997321}"
      ]
     },
     "execution_count": 29,
     "metadata": {},
     "output_type": "execute_result"
    }
   ],
   "source": [
    "mltk_model_stats"
   ]
  },
  {
   "cell_type": "code",
   "execution_count": 30,
   "metadata": {},
   "outputs": [
    {
     "data": {
      "text/html": [
       "<div>\n",
       "<style scoped>\n",
       "    .dataframe tbody tr th:only-of-type {\n",
       "        vertical-align: middle;\n",
       "    }\n",
       "\n",
       "    .dataframe tbody tr th {\n",
       "        vertical-align: top;\n",
       "    }\n",
       "\n",
       "    .dataframe thead th {\n",
       "        text-align: right;\n",
       "    }\n",
       "</style>\n",
       "<table border=\"1\" class=\"dataframe\">\n",
       "  <thead>\n",
       "    <tr style=\"text-align: right;\">\n",
       "      <th></th>\n",
       "      <th>index</th>\n",
       "      <th>opcode</th>\n",
       "      <th>name</th>\n",
       "      <th>ops</th>\n",
       "      <th>macs</th>\n",
       "      <th>cpu_cycles</th>\n",
       "      <th>energy</th>\n",
       "      <th>input_shape</th>\n",
       "      <th>output_shape</th>\n",
       "      <th>options</th>\n",
       "    </tr>\n",
       "  </thead>\n",
       "  <tbody>\n",
       "    <tr>\n",
       "      <th>0</th>\n",
       "      <td>0</td>\n",
       "      <td>quantize</td>\n",
       "      <td>0: quantize</td>\n",
       "      <td>110592</td>\n",
       "      <td>0</td>\n",
       "      <td>9.957829e+05</td>\n",
       "      <td>1.988387e-04</td>\n",
       "      <td>1x96x96x3</td>\n",
       "      <td>1x96x96x3</td>\n",
       "      <td>Type=none</td>\n",
       "    </tr>\n",
       "    <tr>\n",
       "      <th>1</th>\n",
       "      <td>1</td>\n",
       "      <td>conv_2d</td>\n",
       "      <td>1: conv_2d</td>\n",
       "      <td>1050624</td>\n",
       "      <td>497664</td>\n",
       "      <td>4.600492e+06</td>\n",
       "      <td>8.359018e-04</td>\n",
       "      <td>1x96x96x3,8x3x3x3,8</td>\n",
       "      <td>1x48x48x8</td>\n",
       "      <td>Padding:same stride:2x2 activation:relu6</td>\n",
       "    </tr>\n",
       "    <tr>\n",
       "      <th>2</th>\n",
       "      <td>2</td>\n",
       "      <td>depthwise_conv_2d</td>\n",
       "      <td>2: depthwise_conv_2d</td>\n",
       "      <td>387072</td>\n",
       "      <td>165888</td>\n",
       "      <td>2.522040e+06</td>\n",
       "      <td>4.679793e-04</td>\n",
       "      <td>1x48x48x8,1x3x3x8,8</td>\n",
       "      <td>1x48x48x8</td>\n",
       "      <td>Multiplier:1 padding:same stride:1x1 activatio...</td>\n",
       "    </tr>\n",
       "    <tr>\n",
       "      <th>3</th>\n",
       "      <td>3</td>\n",
       "      <td>conv_2d</td>\n",
       "      <td>3: conv_2d</td>\n",
       "      <td>313344</td>\n",
       "      <td>147456</td>\n",
       "      <td>1.678246e+06</td>\n",
       "      <td>2.639363e-04</td>\n",
       "      <td>1x48x48x8,8x1x1x8,8</td>\n",
       "      <td>1x48x48x8</td>\n",
       "      <td>Padding:same stride:1x1 activation:none</td>\n",
       "    </tr>\n",
       "    <tr>\n",
       "      <th>4</th>\n",
       "      <td>4</td>\n",
       "      <td>add</td>\n",
       "      <td>4: add</td>\n",
       "      <td>18432</td>\n",
       "      <td>0</td>\n",
       "      <td>1.550003e+06</td>\n",
       "      <td>3.223873e-04</td>\n",
       "      <td>1x48x48x8,1x48x48x8</td>\n",
       "      <td>1x48x48x8</td>\n",
       "      <td>Activation:none</td>\n",
       "    </tr>\n",
       "    <tr>\n",
       "      <th>...</th>\n",
       "      <td>...</td>\n",
       "      <td>...</td>\n",
       "      <td>...</td>\n",
       "      <td>...</td>\n",
       "      <td>...</td>\n",
       "      <td>...</td>\n",
       "      <td>...</td>\n",
       "      <td>...</td>\n",
       "      <td>...</td>\n",
       "      <td>...</td>\n",
       "    </tr>\n",
       "    <tr>\n",
       "      <th>67</th>\n",
       "      <td>67</td>\n",
       "      <td>conv_2d</td>\n",
       "      <td>67: conv_2d</td>\n",
       "      <td>771840</td>\n",
       "      <td>368640</td>\n",
       "      <td>1.500693e+06</td>\n",
       "      <td>7.942666e-05</td>\n",
       "      <td>1x3x3x32,1280x1x1x32,1280</td>\n",
       "      <td>1x3x3x1280</td>\n",
       "      <td>Padding:valid stride:1x1 activation:relu6</td>\n",
       "    </tr>\n",
       "    <tr>\n",
       "      <th>68</th>\n",
       "      <td>68</td>\n",
       "      <td>mean</td>\n",
       "      <td>68: mean</td>\n",
       "      <td>0</td>\n",
       "      <td>0</td>\n",
       "      <td>1.732734e+06</td>\n",
       "      <td>1.093961e-05</td>\n",
       "      <td>1x3x3x1280,2</td>\n",
       "      <td>1x1280</td>\n",
       "      <td>Type=reduceroptions</td>\n",
       "    </tr>\n",
       "    <tr>\n",
       "      <th>69</th>\n",
       "      <td>69</td>\n",
       "      <td>fully_connected</td>\n",
       "      <td>69: fully_connected</td>\n",
       "      <td>7680</td>\n",
       "      <td>3840</td>\n",
       "      <td>1.286945e+04</td>\n",
       "      <td>7.112388e-08</td>\n",
       "      <td>1x1280,3x1280</td>\n",
       "      <td>1x3</td>\n",
       "      <td>Activation:none</td>\n",
       "    </tr>\n",
       "    <tr>\n",
       "      <th>70</th>\n",
       "      <td>70</td>\n",
       "      <td>softmax</td>\n",
       "      <td>70: softmax</td>\n",
       "      <td>15</td>\n",
       "      <td>0</td>\n",
       "      <td>3.838418e+03</td>\n",
       "      <td>1.652612e-08</td>\n",
       "      <td>1x3</td>\n",
       "      <td>1x3</td>\n",
       "      <td>Type=softmaxoptions</td>\n",
       "    </tr>\n",
       "    <tr>\n",
       "      <th>71</th>\n",
       "      <td>71</td>\n",
       "      <td>quantize</td>\n",
       "      <td>71: quantize</td>\n",
       "      <td>12</td>\n",
       "      <td>0</td>\n",
       "      <td>1.189855e+04</td>\n",
       "      <td>4.224086e-07</td>\n",
       "      <td>1x3</td>\n",
       "      <td>1x3</td>\n",
       "      <td>Type=none</td>\n",
       "    </tr>\n",
       "  </tbody>\n",
       "</table>\n",
       "<p>72 rows × 10 columns</p>\n",
       "</div>"
      ],
      "text/plain": [
       "    index             opcode                  name      ops    macs  \\\n",
       "0       0           quantize           0: quantize   110592       0   \n",
       "1       1            conv_2d            1: conv_2d  1050624  497664   \n",
       "2       2  depthwise_conv_2d  2: depthwise_conv_2d   387072  165888   \n",
       "3       3            conv_2d            3: conv_2d   313344  147456   \n",
       "4       4                add                4: add    18432       0   \n",
       "..    ...                ...                   ...      ...     ...   \n",
       "67     67            conv_2d           67: conv_2d   771840  368640   \n",
       "68     68               mean              68: mean        0       0   \n",
       "69     69    fully_connected   69: fully_connected     7680    3840   \n",
       "70     70            softmax           70: softmax       15       0   \n",
       "71     71           quantize          71: quantize       12       0   \n",
       "\n",
       "      cpu_cycles        energy                input_shape output_shape  \\\n",
       "0   9.957829e+05  1.988387e-04                  1x96x96x3    1x96x96x3   \n",
       "1   4.600492e+06  8.359018e-04        1x96x96x3,8x3x3x3,8    1x48x48x8   \n",
       "2   2.522040e+06  4.679793e-04        1x48x48x8,1x3x3x8,8    1x48x48x8   \n",
       "3   1.678246e+06  2.639363e-04        1x48x48x8,8x1x1x8,8    1x48x48x8   \n",
       "4   1.550003e+06  3.223873e-04        1x48x48x8,1x48x48x8    1x48x48x8   \n",
       "..           ...           ...                        ...          ...   \n",
       "67  1.500693e+06  7.942666e-05  1x3x3x32,1280x1x1x32,1280   1x3x3x1280   \n",
       "68  1.732734e+06  1.093961e-05               1x3x3x1280,2       1x1280   \n",
       "69  1.286945e+04  7.112388e-08              1x1280,3x1280          1x3   \n",
       "70  3.838418e+03  1.652612e-08                        1x3          1x3   \n",
       "71  1.189855e+04  4.224086e-07                        1x3          1x3   \n",
       "\n",
       "                                              options  \n",
       "0                                           Type=none  \n",
       "1            Padding:same stride:2x2 activation:relu6  \n",
       "2   Multiplier:1 padding:same stride:1x1 activatio...  \n",
       "3             Padding:same stride:1x1 activation:none  \n",
       "4                                     Activation:none  \n",
       "..                                                ...  \n",
       "67          Padding:valid stride:1x1 activation:relu6  \n",
       "68                                Type=reduceroptions  \n",
       "69                                    Activation:none  \n",
       "70                                Type=softmaxoptions  \n",
       "71                                          Type=none  \n",
       "\n",
       "[72 rows x 10 columns]"
      ]
     },
     "execution_count": 30,
     "metadata": {},
     "output_type": "execute_result"
    }
   ],
   "source": [
    "layers_INT8_df = pd.DataFrame.from_dict(model_profile_INT8[\"layers\"])\n",
    "layers_INT8_df[\"name\"] = layers_INT8_df[\"index\"].map(str) + \": \" + layers_INT8_df[\"opcode\"]\n",
    "layers_INT8_df.insert(2,\"name\" , layers_INT8_df.pop(\"name\"))\n",
    "layers_INT8_df"
   ]
  },
  {
   "cell_type": "code",
   "execution_count": 31,
   "metadata": {},
   "outputs": [],
   "source": [
    "layers_df_INT8_path = pathlib.Path.joinpath(models_dir, \"layer_df_INT8_mltk.pkl\")\n",
    "layers_INT8_df.to_pickle(layers_df_INT8_path)"
   ]
  },
  {
   "cell_type": "code",
   "execution_count": 32,
   "metadata": {},
   "outputs": [],
   "source": [
    "#layers_INT8_df.info()"
   ]
  },
  {
   "cell_type": "code",
   "execution_count": 33,
   "metadata": {},
   "outputs": [
    {
     "name": "stderr",
     "output_type": "stream",
     "text": [
      "ERROR:wandb.jupyter:Failed to detect the name of this notebook, you can set it manually with the WANDB_NOTEBOOK_NAME environment variable to enable code saving.\n",
      "\u001b[34m\u001b[1mwandb\u001b[0m: Currently logged in as: \u001b[33msusbrock\u001b[0m. Use \u001b[1m`wandb login --relogin`\u001b[0m to force relogin\n"
     ]
    },
    {
     "data": {
      "text/html": [
       "Tracking run with wandb version 0.13.9"
      ],
      "text/plain": [
       "<IPython.core.display.HTML object>"
      ]
     },
     "metadata": {},
     "output_type": "display_data"
    },
    {
     "data": {
      "text/html": [
       "Run data is saved locally in <code>i:\\tinyml\\tiny_cnn\\wandb\\run-20230129_085711-08bnhx63</code>"
      ],
      "text/plain": [
       "<IPython.core.display.HTML object>"
      ]
     },
     "metadata": {},
     "output_type": "display_data"
    },
    {
     "data": {
      "text/html": [
       "Syncing run <strong><a href=\"https://wandb.ai/susbrock/model_DB/runs/08bnhx63\" target=\"_blank\">vivid-noodles-1</a></strong> to <a href=\"https://wandb.ai/susbrock/model_DB\" target=\"_blank\">Weights & Biases</a> (<a href=\"https://wandb.me/run\" target=\"_blank\">docs</a>)<br/>"
      ],
      "text/plain": [
       "<IPython.core.display.HTML object>"
      ]
     },
     "metadata": {},
     "output_type": "display_data"
    },
    {
     "data": {
      "text/html": [
       " View project at <a href=\"https://wandb.ai/susbrock/model_DB\" target=\"_blank\">https://wandb.ai/susbrock/model_DB</a>"
      ],
      "text/plain": [
       "<IPython.core.display.HTML object>"
      ]
     },
     "metadata": {},
     "output_type": "display_data"
    },
    {
     "data": {
      "text/html": [
       " View run at <a href=\"https://wandb.ai/susbrock/model_DB/runs/08bnhx63\" target=\"_blank\">https://wandb.ai/susbrock/model_DB/runs/08bnhx63</a>"
      ],
      "text/plain": [
       "<IPython.core.display.HTML object>"
      ]
     },
     "metadata": {},
     "output_type": "display_data"
    },
    {
     "data": {
      "text/html": [
       "Waiting for W&B process to finish... <strong style=\"color:green\">(success).</strong>"
      ],
      "text/plain": [
       "<IPython.core.display.HTML object>"
      ]
     },
     "metadata": {},
     "output_type": "display_data"
    },
    {
     "data": {
      "application/vnd.jupyter.widget-view+json": {
       "model_id": "98aace2c54db4ae0a96f0d1e016431bd",
       "version_major": 2,
       "version_minor": 0
      },
      "text/plain": [
       "VBox(children=(Label(value='1.861 MB of 15.080 MB uploaded (0.000 MB deduped)\\r'), FloatProgress(value=0.12337…"
      ]
     },
     "metadata": {},
     "output_type": "display_data"
    },
    {
     "data": {
      "text/html": [
       " View run <strong style=\"color:#cdcd00\">vivid-noodles-1</strong> at: <a href=\"https://wandb.ai/susbrock/model_DB/runs/08bnhx63\" target=\"_blank\">https://wandb.ai/susbrock/model_DB/runs/08bnhx63</a><br/>Synced 6 W&B file(s), 0 media file(s), 0 artifact file(s) and 1 other file(s)"
      ],
      "text/plain": [
       "<IPython.core.display.HTML object>"
      ]
     },
     "metadata": {},
     "output_type": "display_data"
    },
    {
     "data": {
      "text/html": [
       "Find logs at: <code>.\\wandb\\run-20230129_085711-08bnhx63\\logs</code>"
      ],
      "text/plain": [
       "<IPython.core.display.HTML object>"
      ]
     },
     "metadata": {},
     "output_type": "display_data"
    }
   ],
   "source": [
    "api = wandb.Api()\n",
    "\n",
    "# Generate run ids\n",
    "run_id = wandb.util.generate_id()\n",
    "\n",
    "wandb.init(\n",
    "    project=PROJECT,\n",
    "    entity=\"susbrock\",\n",
    "    id=run_id,\n",
    "    resume=True)\n",
    "config = wandb.config\n",
    "config.id = run_id\n",
    "config.update(mltk_model_stats)\n",
    "\n",
    "wandb.finish()\n",
    "\n"
   ]
  }
 ],
 "metadata": {
  "kernelspec": {
   "display_name": "tiny_cnn_6",
   "language": "python",
   "name": "python3"
  },
  "language_info": {
   "codemirror_mode": {
    "name": "ipython",
    "version": 3
   },
   "file_extension": ".py",
   "mimetype": "text/x-python",
   "name": "python",
   "nbconvert_exporter": "python",
   "pygments_lexer": "ipython3",
   "version": "3.10.6"
  },
  "orig_nbformat": 4,
  "vscode": {
   "interpreter": {
    "hash": "0faa6c31b20b8f809b81d6d7d22a84ccd9f354666f54133d1793fa4c65539801"
   }
  }
 },
 "nbformat": 4,
 "nbformat_minor": 2
}
