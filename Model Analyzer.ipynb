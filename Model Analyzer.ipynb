{
 "cells": [
  {
   "cell_type": "code",
   "execution_count": 48,
   "metadata": {},
   "outputs": [
    {
     "name": "stdout",
     "output_type": "stream",
     "text": [
      "The autoreload extension is already loaded. To reload it, use:\n",
      "  %reload_ext autoreload\n"
     ]
    }
   ],
   "source": [
    "import os, sys, math, datetime\n",
    "import pathlib\n",
    "from pathlib import Path\n",
    "import numpy as np\n",
    "import pandas as pd\n",
    "import random\n",
    "from matplotlib import pyplot as plt\n",
    "import PIL\n",
    "import PIL.Image\n",
    "import seaborn as sns\n",
    "\n",
    "import tensorflow as tf\n",
    "# import tensorflow_datasets as tfds\n",
    "from tensorflow import keras\n",
    "# from tensorflow.keras.layers import Input, Dense, Flatten, Conv2D,DepthwiseConv2D, MaxPooling2D, AvgPool2D, GlobalAveragePooling2D, BatchNormalization, Concatenate\n",
    "# from tensorflow.keras.layers import ReLU\n",
    "# from tensorflow.keras.models import Model\n",
    "# from tensorflow.keras.callbacks import ModelCheckpoint, EarlyStopping, LearningRateScheduler\n",
    " \n",
    "# Import the necessary MLTK APIs\n",
    "from mltk.core import view_model, summarize_model, profile_model\n",
    "\n",
    "# import workbench.config.config\n",
    "from workbench.config.config import initialize\n",
    "from workbench.utils.utils import create_filepaths, get_file_size\n",
    "from workbench.utils.utils import parse_model_name, parse_mltk_model_summary\n",
    "from workbench.data.data import get_lemon_quality_dataset\n",
    "from workbench.tflite_profiling import get_peak_memory_df, get_tensor_details_df\n",
    "from workbench.tensorflow import get_layer_details_df\n",
    "\n",
    "#from dotenv import load_dotenv\n",
    "import wandb\n",
    "from wandb.keras import WandbMetricsLogger, WandbModelCheckpoint\n",
    "#import deeplake\n",
    "\n",
    "%load_ext autoreload\n",
    "\n"
   ]
  },
  {
   "cell_type": "code",
   "execution_count": 49,
   "metadata": {},
   "outputs": [],
   "source": [
    "%reload_ext autoreload\n",
    "%autoreload"
   ]
  },
  {
   "cell_type": "code",
   "execution_count": 50,
   "metadata": {},
   "outputs": [],
   "source": [
    "models_dir = initialize()"
   ]
  },
  {
   "cell_type": "code",
   "execution_count": 51,
   "metadata": {
    "tags": [
     "parameters"
    ]
   },
   "outputs": [],
   "source": [
    "automated = False\n",
    "\n",
    "global model_name\n",
    "\n",
    "model_name = \"mobilenetv2_0.25_96_c3_o2_t5l512.MV1\"\n",
    "\n"
   ]
  },
  {
   "cell_type": "code",
   "execution_count": 52,
   "metadata": {},
   "outputs": [],
   "source": [
    "base_model_name, alpha, resolution, channels, classes, variation = model_name.split(\"_\")\n",
    "alpha = float(alpha)\n",
    "resolution = int(resolution)\n",
    "classes = int(classes.strip(\"o\"))\n",
    "channels = int(channels.strip(\"c\"))\n",
    "PROJECT = \"model_DB\"\n",
    "\n",
    "# just needed for INT 8 quantization:\n",
    "BATCH_SIZE = 32\n",
    "shuffle_seed = 1"
   ]
  },
  {
   "cell_type": "code",
   "execution_count": 53,
   "metadata": {},
   "outputs": [
    {
     "name": "stdout",
     "output_type": "stream",
     "text": [
      "i:\\tinyml\\tiny_cnn\\models\n"
     ]
    }
   ],
   "source": [
    "models_path, models_summary_path, models_image_path, models_layer_df_path, models_tf_path, models_tflite_path, models_tflite_opt_path = create_filepaths(model_name)"
   ]
  },
  {
   "cell_type": "code",
   "execution_count": 54,
   "metadata": {},
   "outputs": [],
   "source": [
    "model = keras.models.load_model(models_tf_path)"
   ]
  },
  {
   "cell_type": "code",
   "execution_count": 55,
   "metadata": {},
   "outputs": [],
   "source": [
    "# view_model(model, tflite=True, build=True)"
   ]
  },
  {
   "attachments": {},
   "cell_type": "markdown",
   "metadata": {},
   "source": [
    "# Parse model parameters from MLTK summary"
   ]
  },
  {
   "cell_type": "code",
   "execution_count": 56,
   "metadata": {},
   "outputs": [],
   "source": [
    "total_params, trainable_params, non_trainable_params, MACs, FLOPs = parse_mltk_model_summary(models_summary_path)        "
   ]
  },
  {
   "cell_type": "code",
   "execution_count": 57,
   "metadata": {},
   "outputs": [],
   "source": [
    "mltk_model_stats = {}"
   ]
  },
  {
   "cell_type": "code",
   "execution_count": 58,
   "metadata": {},
   "outputs": [],
   "source": [
    "mltk_model_stats[\"MACs\"] = MACs\n",
    "mltk_model_stats[\"FLOPs\"] = FLOPs\n",
    "mltk_model_stats[\"total_params\"] = total_params\n",
    "mltk_model_stats[\"trainable_params\"] = trainable_params\n",
    "mltk_model_stats[\"non_trainable_params\"] = non_trainable_params"
   ]
  },
  {
   "attachments": {},
   "cell_type": "markdown",
   "metadata": {},
   "source": [
    "# Creating tflite Models"
   ]
  },
  {
   "cell_type": "code",
   "execution_count": 59,
   "metadata": {},
   "outputs": [
    {
     "name": "stderr",
     "output_type": "stream",
     "text": [
      "WARNING:absl:Found untraced functions such as _jit_compiled_convolution_op, _jit_compiled_convolution_op, _jit_compiled_convolution_op, _jit_compiled_convolution_op, _jit_compiled_convolution_op while saving (showing 5 of 52). These functions will not be directly callable after loading.\n"
     ]
    },
    {
     "name": "stdout",
     "output_type": "stream",
     "text": [
      "INFO:tensorflow:Assets written to: C:\\Users\\Susanne\\AppData\\Local\\Temp\\tmp1r4sr_tp\\assets\n"
     ]
    }
   ],
   "source": [
    "# Convert the model to the TensorFlow Lite format without quantization\n",
    "converter = tf.lite.TFLiteConverter.from_keras_model(model)\n",
    "#converter = tf.lite.TFLiteConverter.from_saved_model(models_path)\n",
    "tflite_model = converter.convert()\n"
   ]
  },
  {
   "cell_type": "code",
   "execution_count": 60,
   "metadata": {},
   "outputs": [],
   "source": [
    "# Save the model.\n",
    "with open(models_tflite_path, \"wb\") as f:\n",
    "    f.write(tflite_model)"
   ]
  },
  {
   "cell_type": "code",
   "execution_count": 61,
   "metadata": {},
   "outputs": [
    {
     "name": "stdout",
     "output_type": "stream",
     "text": [
      "File size in bytes is 1109320\n",
      "File size in kilobytes is 1083.3203125\n",
      "File size in bytes is 614960\n",
      "File size in kilobytes is 600.546875\n"
     ]
    }
   ],
   "source": [
    "mltk_model_stats[\"model_size_kb\"] = get_file_size(models_tf_path)\n",
    "mltk_model_stats[\"tflite_model_size_kb\"] = get_file_size(models_tflite_path)"
   ]
  },
  {
   "attachments": {},
   "cell_type": "markdown",
   "metadata": {},
   "source": [
    "# tflite with INT8 quantization"
   ]
  },
  {
   "cell_type": "code",
   "execution_count": 62,
   "metadata": {},
   "outputs": [
    {
     "data": {
      "text/plain": [
       "True"
      ]
     },
     "execution_count": 62,
     "metadata": {},
     "output_type": "execute_result"
    }
   ],
   "source": [
    "dataset_path = Path.cwd().joinpath(\"datasets\", \"lemon_dataset\")\n",
    "dataset_path.exists()"
   ]
  },
  {
   "cell_type": "code",
   "execution_count": 63,
   "metadata": {},
   "outputs": [
    {
     "name": "stdout",
     "output_type": "stream",
     "text": [
      "Color mode: rgb\n",
      "Preparing training dataset...\n",
      "Found 2021 files belonging to 3 classes.\n",
      "Preparing validation dataset...\n",
      "Found 252 files belonging to 3 classes.\n",
      "Preparing test dataset...\n",
      "Found 255 files belonging to 3 classes.\n",
      "Class names: ['bad_quality', 'empty_background', 'good_quality']\n",
      "Train: (TensorSpec(shape=(None, 96, 96, 3), dtype=tf.float32, name=None), TensorSpec(shape=(None,), dtype=tf.int32, name=None))\n",
      "Normalize: True\n"
     ]
    }
   ],
   "source": [
    "train_ds, val_ds, test_ds, labels = get_lemon_quality_dataset(dataset_path, resolution, resolution, BATCH_SIZE, channels)"
   ]
  },
  {
   "cell_type": "code",
   "execution_count": 64,
   "metadata": {},
   "outputs": [
    {
     "name": "stderr",
     "output_type": "stream",
     "text": [
      "WARNING:absl:Found untraced functions such as _jit_compiled_convolution_op, _jit_compiled_convolution_op, _jit_compiled_convolution_op, _jit_compiled_convolution_op, _jit_compiled_convolution_op while saving (showing 5 of 52). These functions will not be directly callable after loading.\n"
     ]
    },
    {
     "name": "stdout",
     "output_type": "stream",
     "text": [
      "INFO:tensorflow:Assets written to: C:\\Users\\Susanne\\AppData\\Local\\Temp\\tmp_ey_3jv7\\assets\n"
     ]
    },
    {
     "name": "stderr",
     "output_type": "stream",
     "text": [
      "d:\\Miniconda\\envs\\tiny_cnn_6\\lib\\site-packages\\tensorflow\\lite\\python\\convert.py:766: UserWarning: Statistics for quantized inputs were expected, but not specified; continuing anyway.\n",
      "  warnings.warn(\"Statistics for quantized inputs were expected, but not \"\n"
     ]
    },
    {
     "data": {
      "text/plain": [
       "WindowsPath('i:/tinyml/tiny_cnn/models/mobilenetv2_0.25_96_c3_o2_t5l512.MV1/mobilenetv2_0.25_96_c3_o2_t5l512.MV1_INT8.tflite')"
      ]
     },
     "execution_count": 64,
     "metadata": {},
     "output_type": "execute_result"
    }
   ],
   "source": [
    "repr_ds = test_ds.unbatch()\n",
    "\n",
    "def representative_data_gen():\n",
    "  for i_value, o_value in repr_ds.batch(1).take(48):\n",
    "    yield [i_value]\n",
    "    \n",
    "converter_opt = tf.lite.TFLiteConverter.from_keras_model(model)\n",
    "\n",
    "# set the optimization flag\n",
    "converter_opt.optimizations = [tf.lite.Optimize.DEFAULT]\n",
    "# enforce integer only quantization\n",
    "converter_opt.target_spec.supported_ops = [tf.lite.OpsSet.TFLITE_BUILTINS_INT8]\n",
    "converter_opt.inference_input_type = tf.uint8\n",
    "converter_opt.inference_output_type = tf.uint8\n",
    "\n",
    "# provide a representative dataset for quantization\n",
    "converter_opt.representative_dataset = representative_data_gen\n",
    "\n",
    "tflite_model_opt = converter_opt.convert()\n",
    "\n",
    "# Save the model.\n",
    "with open(models_tflite_opt_path, 'wb') as f:\n",
    "  f.write(tflite_model_opt)\n",
    "models_tflite_opt_path"
   ]
  },
  {
   "cell_type": "code",
   "execution_count": 65,
   "metadata": {},
   "outputs": [
    {
     "name": "stdout",
     "output_type": "stream",
     "text": [
      "File size in bytes is 283112\n",
      "File size in kilobytes is 276.4765625\n"
     ]
    }
   ],
   "source": [
    "mltk_model_stats[\"tflite_model_INT8_size_kb\"] = get_file_size(models_tflite_opt_path)"
   ]
  },
  {
   "cell_type": "code",
   "execution_count": 66,
   "metadata": {},
   "outputs": [
    {
     "name": "stdout",
     "output_type": "stream",
     "text": [
      "File size in bytes is 614960\n",
      "File size in kilobytes is 600.546875\n"
     ]
    }
   ],
   "source": [
    "mltk_model_stats[\"tflite_model_size_kb\"] = get_file_size(models_tflite_path)"
   ]
  },
  {
   "attachments": {},
   "cell_type": "markdown",
   "metadata": {},
   "source": [
    "# Profiling tflite models with MLTK profiler"
   ]
  },
  {
   "cell_type": "code",
   "execution_count": 67,
   "metadata": {},
   "outputs": [],
   "source": [
    "mltk_model_stats[\"architecture\"] = model_name\n",
    "mltk_model_stats[\"alpha\"] = alpha\n",
    "mltk_model_stats[\"img_res\"] = resolution\n",
    "mltk_model_stats[\"classes\"] = classes\n",
    "mltk_model_stats[\"channels\"] = channels\n",
    "mltk_model_stats[\"variation\"] = variation"
   ]
  },
  {
   "cell_type": "code",
   "execution_count": 68,
   "metadata": {},
   "outputs": [
    {
     "name": "stdout",
     "output_type": "stream",
     "text": [
      "Profiling model in simulator ...\n",
      "Using Tensorflow-Lite Micro version: b13b48c (2022-06-08)\n",
      "Searching for optimal runtime memory size ...\n",
      "Determined optimal runtime memory size to be 275968\n"
     ]
    }
   ],
   "source": [
    "# MLTK profile model reads the mode from a path!\n",
    "\n",
    "profiling_results = profile_model(str(models_tflite_path), accelerator=None, build=None)"
   ]
  },
  {
   "cell_type": "code",
   "execution_count": 69,
   "metadata": {},
   "outputs": [],
   "source": [
    "if automated == False:\n",
    "    mltk_model_stats[\"opt_RAM_mltk\"] = int(input(\"Please copy the optimal runtime memory size from above: \\n\"))"
   ]
  },
  {
   "cell_type": "code",
   "execution_count": 70,
   "metadata": {},
   "outputs": [],
   "source": [
    "profiling_results.get_summary(exclude_null=False, full_summary=True)\n",
    "model_profile = profiling_results.to_dict()"
   ]
  },
  {
   "cell_type": "code",
   "execution_count": 71,
   "metadata": {},
   "outputs": [],
   "source": [
    "mltk_model_stats[\"flash_model_size_b_mltk\"] = model_profile[\"summary\"][\"tflite_size\"]\n",
    "mltk_model_stats[\"RAM_runtime_memory_size_b_mltk\"] = model_profile[\"summary\"][\"runtime_memory_size\"]\n",
    "mltk_model_stats[\"OPS_mltk\"] = model_profile[\"summary\"][\"ops\"]\n",
    "mltk_model_stats[\"macs_mltk\"] = model_profile[\"summary\"][\"macs\"]\n",
    "mltk_model_stats[\"n_unsupported_layers_mltk\"] = model_profile[\"summary\"][\"n_unsupported_layers\"]\n",
    "mltk_model_stats[\"energy_mltk\"] = model_profile[\"summary\"][\"energy\"]"
   ]
  },
  {
   "cell_type": "code",
   "execution_count": 72,
   "metadata": {},
   "outputs": [
    {
     "data": {
      "text/html": [
       "<div>\n",
       "<style scoped>\n",
       "    .dataframe tbody tr th:only-of-type {\n",
       "        vertical-align: middle;\n",
       "    }\n",
       "\n",
       "    .dataframe tbody tr th {\n",
       "        vertical-align: top;\n",
       "    }\n",
       "\n",
       "    .dataframe thead th {\n",
       "        text-align: right;\n",
       "    }\n",
       "</style>\n",
       "<table border=\"1\" class=\"dataframe\">\n",
       "  <thead>\n",
       "    <tr style=\"text-align: right;\">\n",
       "      <th></th>\n",
       "      <th>index</th>\n",
       "      <th>opcode</th>\n",
       "      <th>name</th>\n",
       "      <th>ops</th>\n",
       "      <th>macs</th>\n",
       "      <th>cpu_cycles</th>\n",
       "      <th>energy</th>\n",
       "      <th>input_shape</th>\n",
       "      <th>output_shape</th>\n",
       "      <th>options</th>\n",
       "    </tr>\n",
       "  </thead>\n",
       "  <tbody>\n",
       "    <tr>\n",
       "      <th>0</th>\n",
       "      <td>0</td>\n",
       "      <td>conv_2d</td>\n",
       "      <td>0: conv_2d</td>\n",
       "      <td>1050624</td>\n",
       "      <td>497664</td>\n",
       "      <td>4.600492e+06</td>\n",
       "      <td>8.359018e-04</td>\n",
       "      <td>1x96x96x3,8x3x3x3,8</td>\n",
       "      <td>1x48x48x8</td>\n",
       "      <td>Padding:same stride:2x2 activation:relu6</td>\n",
       "    </tr>\n",
       "    <tr>\n",
       "      <th>1</th>\n",
       "      <td>1</td>\n",
       "      <td>depthwise_conv_2d</td>\n",
       "      <td>1: depthwise_conv_2d</td>\n",
       "      <td>387072</td>\n",
       "      <td>165888</td>\n",
       "      <td>2.522040e+06</td>\n",
       "      <td>4.679793e-04</td>\n",
       "      <td>1x48x48x8,1x3x3x8,8</td>\n",
       "      <td>1x48x48x8</td>\n",
       "      <td>Multiplier:1 padding:same stride:1x1 activatio...</td>\n",
       "    </tr>\n",
       "    <tr>\n",
       "      <th>2</th>\n",
       "      <td>2</td>\n",
       "      <td>conv_2d</td>\n",
       "      <td>2: conv_2d</td>\n",
       "      <td>156672</td>\n",
       "      <td>73728</td>\n",
       "      <td>8.374511e+05</td>\n",
       "      <td>1.130917e-04</td>\n",
       "      <td>1x48x48x8,4x1x1x8,4</td>\n",
       "      <td>1x48x48x4</td>\n",
       "      <td>Padding:same stride:1x1 activation:none</td>\n",
       "    </tr>\n",
       "    <tr>\n",
       "      <th>3</th>\n",
       "      <td>3</td>\n",
       "      <td>conv_2d</td>\n",
       "      <td>3: conv_2d</td>\n",
       "      <td>506880</td>\n",
       "      <td>184320</td>\n",
       "      <td>3.653150e+06</td>\n",
       "      <td>6.590034e-04</td>\n",
       "      <td>1x48x48x4,20x1x1x4,20</td>\n",
       "      <td>1x48x48x20</td>\n",
       "      <td>Padding:valid stride:1x1 activation:relu6</td>\n",
       "    </tr>\n",
       "    <tr>\n",
       "      <th>4</th>\n",
       "      <td>4</td>\n",
       "      <td>depthwise_conv_2d</td>\n",
       "      <td>4: depthwise_conv_2d</td>\n",
       "      <td>241920</td>\n",
       "      <td>103680</td>\n",
       "      <td>1.232783e+06</td>\n",
       "      <td>2.410759e-04</td>\n",
       "      <td>1x48x48x20,1x3x3x20,20</td>\n",
       "      <td>1x24x24x20</td>\n",
       "      <td>Multiplier:1 padding:same stride:2x2 activatio...</td>\n",
       "    </tr>\n",
       "    <tr>\n",
       "      <th>...</th>\n",
       "      <td>...</td>\n",
       "      <td>...</td>\n",
       "      <td>...</td>\n",
       "      <td>...</td>\n",
       "      <td>...</td>\n",
       "      <td>...</td>\n",
       "      <td>...</td>\n",
       "      <td>...</td>\n",
       "      <td>...</td>\n",
       "      <td>...</td>\n",
       "    </tr>\n",
       "    <tr>\n",
       "      <th>61</th>\n",
       "      <td>61</td>\n",
       "      <td>conv_2d</td>\n",
       "      <td>61: conv_2d</td>\n",
       "      <td>751104</td>\n",
       "      <td>368640</td>\n",
       "      <td>1.252006e+06</td>\n",
       "      <td>8.976863e-05</td>\n",
       "      <td>1x3x3x80,512x1x1x80,512</td>\n",
       "      <td>1x3x3x512</td>\n",
       "      <td>Padding:same stride:1x1 activation:relu6</td>\n",
       "    </tr>\n",
       "    <tr>\n",
       "      <th>62</th>\n",
       "      <td>62</td>\n",
       "      <td>average_pool_2d</td>\n",
       "      <td>62: average_pool_2d</td>\n",
       "      <td>5120</td>\n",
       "      <td>0</td>\n",
       "      <td>4.083712e+04</td>\n",
       "      <td>2.230688e-07</td>\n",
       "      <td>1x3x3x512</td>\n",
       "      <td>1x1x1x512</td>\n",
       "      <td>Padding:valid stride:1x1 filter:3x3 activation...</td>\n",
       "    </tr>\n",
       "    <tr>\n",
       "      <th>63</th>\n",
       "      <td>63</td>\n",
       "      <td>reshape</td>\n",
       "      <td>63: reshape</td>\n",
       "      <td>0</td>\n",
       "      <td>0</td>\n",
       "      <td>2.421972e+02</td>\n",
       "      <td>4.810657e-19</td>\n",
       "      <td>1x1x1x512,2</td>\n",
       "      <td>1x512</td>\n",
       "      <td>Type=none</td>\n",
       "    </tr>\n",
       "    <tr>\n",
       "      <th>64</th>\n",
       "      <td>64</td>\n",
       "      <td>fully_connected</td>\n",
       "      <td>64: fully_connected</td>\n",
       "      <td>2048</td>\n",
       "      <td>1024</td>\n",
       "      <td>2.805793e+03</td>\n",
       "      <td>1.749769e-08</td>\n",
       "      <td>1x512,2x512</td>\n",
       "      <td>1x2</td>\n",
       "      <td>Activation:none</td>\n",
       "    </tr>\n",
       "    <tr>\n",
       "      <th>65</th>\n",
       "      <td>65</td>\n",
       "      <td>softmax</td>\n",
       "      <td>65: softmax</td>\n",
       "      <td>10</td>\n",
       "      <td>0</td>\n",
       "      <td>3.838418e+03</td>\n",
       "      <td>1.652612e-08</td>\n",
       "      <td>1x2</td>\n",
       "      <td>1x2</td>\n",
       "      <td>Type=softmaxoptions</td>\n",
       "    </tr>\n",
       "  </tbody>\n",
       "</table>\n",
       "<p>66 rows × 10 columns</p>\n",
       "</div>"
      ],
      "text/plain": [
       "    index             opcode                  name      ops    macs  \\\n",
       "0       0            conv_2d            0: conv_2d  1050624  497664   \n",
       "1       1  depthwise_conv_2d  1: depthwise_conv_2d   387072  165888   \n",
       "2       2            conv_2d            2: conv_2d   156672   73728   \n",
       "3       3            conv_2d            3: conv_2d   506880  184320   \n",
       "4       4  depthwise_conv_2d  4: depthwise_conv_2d   241920  103680   \n",
       "..    ...                ...                   ...      ...     ...   \n",
       "61     61            conv_2d           61: conv_2d   751104  368640   \n",
       "62     62    average_pool_2d   62: average_pool_2d     5120       0   \n",
       "63     63            reshape           63: reshape        0       0   \n",
       "64     64    fully_connected   64: fully_connected     2048    1024   \n",
       "65     65            softmax           65: softmax       10       0   \n",
       "\n",
       "      cpu_cycles        energy              input_shape output_shape  \\\n",
       "0   4.600492e+06  8.359018e-04      1x96x96x3,8x3x3x3,8    1x48x48x8   \n",
       "1   2.522040e+06  4.679793e-04      1x48x48x8,1x3x3x8,8    1x48x48x8   \n",
       "2   8.374511e+05  1.130917e-04      1x48x48x8,4x1x1x8,4    1x48x48x4   \n",
       "3   3.653150e+06  6.590034e-04    1x48x48x4,20x1x1x4,20   1x48x48x20   \n",
       "4   1.232783e+06  2.410759e-04   1x48x48x20,1x3x3x20,20   1x24x24x20   \n",
       "..           ...           ...                      ...          ...   \n",
       "61  1.252006e+06  8.976863e-05  1x3x3x80,512x1x1x80,512    1x3x3x512   \n",
       "62  4.083712e+04  2.230688e-07                1x3x3x512    1x1x1x512   \n",
       "63  2.421972e+02  4.810657e-19              1x1x1x512,2        1x512   \n",
       "64  2.805793e+03  1.749769e-08              1x512,2x512          1x2   \n",
       "65  3.838418e+03  1.652612e-08                      1x2          1x2   \n",
       "\n",
       "                                              options  \n",
       "0            Padding:same stride:2x2 activation:relu6  \n",
       "1   Multiplier:1 padding:same stride:1x1 activatio...  \n",
       "2             Padding:same stride:1x1 activation:none  \n",
       "3           Padding:valid stride:1x1 activation:relu6  \n",
       "4   Multiplier:1 padding:same stride:2x2 activatio...  \n",
       "..                                                ...  \n",
       "61           Padding:same stride:1x1 activation:relu6  \n",
       "62  Padding:valid stride:1x1 filter:3x3 activation...  \n",
       "63                                          Type=none  \n",
       "64                                    Activation:none  \n",
       "65                                Type=softmaxoptions  \n",
       "\n",
       "[66 rows x 10 columns]"
      ]
     },
     "execution_count": 72,
     "metadata": {},
     "output_type": "execute_result"
    }
   ],
   "source": [
    "layers_df = pd.DataFrame.from_dict(model_profile[\"layers\"])\n",
    "layers_df[\"name\"] = layers_df[\"index\"].map(str) + \": \" + layers_df[\"opcode\"]\n",
    "layers_df.insert(2,\"name\" , layers_df.pop(\"name\"))\n",
    "layers_df"
   ]
  },
  {
   "cell_type": "code",
   "execution_count": 73,
   "metadata": {},
   "outputs": [],
   "source": [
    "layers_df_path = pathlib.Path.joinpath(models_dir, \"layer_df_mltk.pkl\")\n",
    "layers_df.to_pickle(layers_df_path)"
   ]
  },
  {
   "cell_type": "code",
   "execution_count": 74,
   "metadata": {},
   "outputs": [
    {
     "data": {
      "text/plain": [
       "{'MACs': '4.071 M',\n",
       " 'FLOPs': '8.641 M',\n",
       " 'total_params': 160382,\n",
       " 'trainable_params': 152654,\n",
       " 'non_trainable_params': 7728,\n",
       " 'model_size_kb': 1083.3203125,\n",
       " 'tflite_model_size_kb': 600.546875,\n",
       " 'tflite_model_INT8_size_kb': 276.4765625,\n",
       " 'architecture': 'mobilenetv2_0.25_96_c3_o2_t5l512.MV1',\n",
       " 'alpha': 0.25,\n",
       " 'img_res': 96,\n",
       " 'classes': 2,\n",
       " 'channels': 3,\n",
       " 'variation': 't5l512.MV1',\n",
       " 'opt_RAM_mltk': 275968,\n",
       " 'flash_model_size_b_mltk': 614960,\n",
       " 'RAM_runtime_memory_size_b_mltk': 272032,\n",
       " 'OPS_mltk': 8909690,\n",
       " 'macs_mltk': 4071184,\n",
       " 'n_unsupported_layers_mltk': 0,\n",
       " 'energy_mltk': 0.005182527872689136}"
      ]
     },
     "execution_count": 74,
     "metadata": {},
     "output_type": "execute_result"
    }
   ],
   "source": [
    "mltk_model_stats"
   ]
  },
  {
   "cell_type": "code",
   "execution_count": 75,
   "metadata": {},
   "outputs": [
    {
     "name": "stdout",
     "output_type": "stream",
     "text": [
      "Profiling model in simulator ...\n",
      "Using Tensorflow-Lite Micro version: b13b48c (2022-06-08)\n",
      "Searching for optimal runtime memory size ...\n",
      "Determined optimal runtime memory size to be 104960\n"
     ]
    }
   ],
   "source": [
    "# %%capture optimal_runtime_INT\n",
    "profiling_results_INT8 = profile_model(str(models_tflite_opt_path), accelerator=None, build=False)"
   ]
  },
  {
   "cell_type": "code",
   "execution_count": 76,
   "metadata": {},
   "outputs": [],
   "source": [
    "if automated == False:    \n",
    "    mltk_model_stats[\"opt_RAM_INT8_mltk\"] = int(input(\"Please copy the optimal runtime memory size from above: \\n\"))"
   ]
  },
  {
   "cell_type": "code",
   "execution_count": 77,
   "metadata": {},
   "outputs": [],
   "source": [
    "# from contextlib import redirect_stdout\n",
    "\n",
    "# with open(\"runtime.txt\", \"w\", encoding='utf-8') as f:\n",
    "#     with redirect_stdout(f):\n",
    "#         print(profile_model(str(models_tflite_opt_path), accelerator=None, build=False))"
   ]
  },
  {
   "cell_type": "code",
   "execution_count": 78,
   "metadata": {},
   "outputs": [
    {
     "data": {
      "text/plain": [
       "OrderedDict([('name', 'mobilenetv2_0.25_96_c3_o2_t5l512.MV1_INT8'),\n",
       "             ('accelerator', 'None'),\n",
       "             ('input_shape', '1x96x96x3'),\n",
       "             ('input_dtype', 'uint8'),\n",
       "             ('output_shape', '1x2'),\n",
       "             ('output_dtype', 'uint8'),\n",
       "             ('tflite_size', 283112),\n",
       "             ('runtime_memory_size', 100364),\n",
       "             ('ops', 9020290),\n",
       "             ('macs', 4071184),\n",
       "             ('n_layers', 68),\n",
       "             ('n_unsupported_layers', 0),\n",
       "             ('cpu_cycles', 34937859.87586975),\n",
       "             ('cpu_utilization', 0.0),\n",
       "             ('cpu_clock_rate', 78000000),\n",
       "             ('energy', 0.005381788989735626),\n",
       "             ('j_per_op', 5.966314818853525e-10),\n",
       "             ('j_per_mac', 1.3219223178651779e-09)])"
      ]
     },
     "execution_count": 78,
     "metadata": {},
     "output_type": "execute_result"
    }
   ],
   "source": [
    "profiling_results_INT8.get_summary()"
   ]
  },
  {
   "cell_type": "code",
   "execution_count": 79,
   "metadata": {},
   "outputs": [],
   "source": [
    "model_profile_INT8 = profiling_results_INT8.to_dict()\n"
   ]
  },
  {
   "cell_type": "code",
   "execution_count": 80,
   "metadata": {},
   "outputs": [],
   "source": [
    "mltk_model_stats[\"flash_model_size_b__INT8_mltk\"] = model_profile_INT8[\"summary\"][\"tflite_size\"]\n",
    "mltk_model_stats[\"RAM_runtime_memory_size_b_INT8_mltk\"] = model_profile_INT8[\"summary\"][\"runtime_memory_size\"]\n",
    "mltk_model_stats[\"OPS_INT8_mltk\"] = model_profile_INT8[\"summary\"][\"ops\"]\n",
    "mltk_model_stats[\"macs_INT8_mltk\"] = model_profile_INT8[\"summary\"][\"macs\"]\n",
    "mltk_model_stats[\"n_unsupported_layers_INT8_mltk\"] = model_profile_INT8[\"summary\"][\"n_unsupported_layers\"]\n",
    "mltk_model_stats[\"energy_INT8_mltk\"] = model_profile_INT8[\"summary\"][\"energy\"]"
   ]
  },
  {
   "cell_type": "code",
   "execution_count": 81,
   "metadata": {},
   "outputs": [
    {
     "data": {
      "text/plain": [
       "{'MACs': '4.071 M',\n",
       " 'FLOPs': '8.641 M',\n",
       " 'total_params': 160382,\n",
       " 'trainable_params': 152654,\n",
       " 'non_trainable_params': 7728,\n",
       " 'model_size_kb': 1083.3203125,\n",
       " 'tflite_model_size_kb': 600.546875,\n",
       " 'tflite_model_INT8_size_kb': 276.4765625,\n",
       " 'architecture': 'mobilenetv2_0.25_96_c3_o2_t5l512.MV1',\n",
       " 'alpha': 0.25,\n",
       " 'img_res': 96,\n",
       " 'classes': 2,\n",
       " 'channels': 3,\n",
       " 'variation': 't5l512.MV1',\n",
       " 'opt_RAM_mltk': 275968,\n",
       " 'flash_model_size_b_mltk': 614960,\n",
       " 'RAM_runtime_memory_size_b_mltk': 272032,\n",
       " 'OPS_mltk': 8909690,\n",
       " 'macs_mltk': 4071184,\n",
       " 'n_unsupported_layers_mltk': 0,\n",
       " 'energy_mltk': 0.005182527872689136,\n",
       " 'opt_RAM_INT8_mltk': 104960,\n",
       " 'flash_model_size_b__INT8_mltk': 283112,\n",
       " 'RAM_runtime_memory_size_b_INT8_mltk': 100364,\n",
       " 'OPS_INT8_mltk': 9020290,\n",
       " 'macs_INT8_mltk': 4071184,\n",
       " 'n_unsupported_layers_INT8_mltk': 0,\n",
       " 'energy_INT8_mltk': 0.005381788989735626}"
      ]
     },
     "execution_count": 81,
     "metadata": {},
     "output_type": "execute_result"
    }
   ],
   "source": [
    "mltk_model_stats"
   ]
  },
  {
   "cell_type": "code",
   "execution_count": 82,
   "metadata": {},
   "outputs": [
    {
     "data": {
      "text/html": [
       "<div>\n",
       "<style scoped>\n",
       "    .dataframe tbody tr th:only-of-type {\n",
       "        vertical-align: middle;\n",
       "    }\n",
       "\n",
       "    .dataframe tbody tr th {\n",
       "        vertical-align: top;\n",
       "    }\n",
       "\n",
       "    .dataframe thead th {\n",
       "        text-align: right;\n",
       "    }\n",
       "</style>\n",
       "<table border=\"1\" class=\"dataframe\">\n",
       "  <thead>\n",
       "    <tr style=\"text-align: right;\">\n",
       "      <th></th>\n",
       "      <th>index</th>\n",
       "      <th>opcode</th>\n",
       "      <th>name</th>\n",
       "      <th>ops</th>\n",
       "      <th>macs</th>\n",
       "      <th>cpu_cycles</th>\n",
       "      <th>energy</th>\n",
       "      <th>input_shape</th>\n",
       "      <th>output_shape</th>\n",
       "      <th>options</th>\n",
       "    </tr>\n",
       "  </thead>\n",
       "  <tbody>\n",
       "    <tr>\n",
       "      <th>0</th>\n",
       "      <td>0</td>\n",
       "      <td>quantize</td>\n",
       "      <td>0: quantize</td>\n",
       "      <td>110592</td>\n",
       "      <td>0</td>\n",
       "      <td>9.957829e+05</td>\n",
       "      <td>1.988387e-04</td>\n",
       "      <td>1x96x96x3</td>\n",
       "      <td>1x96x96x3</td>\n",
       "      <td>Type=none</td>\n",
       "    </tr>\n",
       "    <tr>\n",
       "      <th>1</th>\n",
       "      <td>1</td>\n",
       "      <td>conv_2d</td>\n",
       "      <td>1: conv_2d</td>\n",
       "      <td>1050624</td>\n",
       "      <td>497664</td>\n",
       "      <td>4.600492e+06</td>\n",
       "      <td>8.359018e-04</td>\n",
       "      <td>1x96x96x3,8x3x3x3,8</td>\n",
       "      <td>1x48x48x8</td>\n",
       "      <td>Padding:same stride:2x2 activation:relu6</td>\n",
       "    </tr>\n",
       "    <tr>\n",
       "      <th>2</th>\n",
       "      <td>2</td>\n",
       "      <td>depthwise_conv_2d</td>\n",
       "      <td>2: depthwise_conv_2d</td>\n",
       "      <td>387072</td>\n",
       "      <td>165888</td>\n",
       "      <td>2.522040e+06</td>\n",
       "      <td>4.679793e-04</td>\n",
       "      <td>1x48x48x8,1x3x3x8,8</td>\n",
       "      <td>1x48x48x8</td>\n",
       "      <td>Multiplier:1 padding:same stride:1x1 activatio...</td>\n",
       "    </tr>\n",
       "    <tr>\n",
       "      <th>3</th>\n",
       "      <td>3</td>\n",
       "      <td>conv_2d</td>\n",
       "      <td>3: conv_2d</td>\n",
       "      <td>156672</td>\n",
       "      <td>73728</td>\n",
       "      <td>8.374511e+05</td>\n",
       "      <td>1.130917e-04</td>\n",
       "      <td>1x48x48x8,4x1x1x8,4</td>\n",
       "      <td>1x48x48x4</td>\n",
       "      <td>Padding:same stride:1x1 activation:none</td>\n",
       "    </tr>\n",
       "    <tr>\n",
       "      <th>4</th>\n",
       "      <td>4</td>\n",
       "      <td>conv_2d</td>\n",
       "      <td>4: conv_2d</td>\n",
       "      <td>506880</td>\n",
       "      <td>184320</td>\n",
       "      <td>3.653150e+06</td>\n",
       "      <td>6.590034e-04</td>\n",
       "      <td>1x48x48x4,20x1x1x4,20</td>\n",
       "      <td>1x48x48x20</td>\n",
       "      <td>Padding:valid stride:1x1 activation:relu6</td>\n",
       "    </tr>\n",
       "    <tr>\n",
       "      <th>...</th>\n",
       "      <td>...</td>\n",
       "      <td>...</td>\n",
       "      <td>...</td>\n",
       "      <td>...</td>\n",
       "      <td>...</td>\n",
       "      <td>...</td>\n",
       "      <td>...</td>\n",
       "      <td>...</td>\n",
       "      <td>...</td>\n",
       "      <td>...</td>\n",
       "    </tr>\n",
       "    <tr>\n",
       "      <th>63</th>\n",
       "      <td>63</td>\n",
       "      <td>average_pool_2d</td>\n",
       "      <td>63: average_pool_2d</td>\n",
       "      <td>5120</td>\n",
       "      <td>0</td>\n",
       "      <td>4.083712e+04</td>\n",
       "      <td>2.230688e-07</td>\n",
       "      <td>1x3x3x512</td>\n",
       "      <td>1x1x1x512</td>\n",
       "      <td>Padding:valid stride:1x1 filter:3x3 activation...</td>\n",
       "    </tr>\n",
       "    <tr>\n",
       "      <th>64</th>\n",
       "      <td>64</td>\n",
       "      <td>reshape</td>\n",
       "      <td>64: reshape</td>\n",
       "      <td>0</td>\n",
       "      <td>0</td>\n",
       "      <td>2.421972e+02</td>\n",
       "      <td>4.810657e-19</td>\n",
       "      <td>1x1x1x512,2</td>\n",
       "      <td>1x512</td>\n",
       "      <td>Type=none</td>\n",
       "    </tr>\n",
       "    <tr>\n",
       "      <th>65</th>\n",
       "      <td>65</td>\n",
       "      <td>fully_connected</td>\n",
       "      <td>65: fully_connected</td>\n",
       "      <td>2048</td>\n",
       "      <td>1024</td>\n",
       "      <td>2.805793e+03</td>\n",
       "      <td>1.749769e-08</td>\n",
       "      <td>1x512,2x512</td>\n",
       "      <td>1x2</td>\n",
       "      <td>Activation:none</td>\n",
       "    </tr>\n",
       "    <tr>\n",
       "      <th>66</th>\n",
       "      <td>66</td>\n",
       "      <td>softmax</td>\n",
       "      <td>66: softmax</td>\n",
       "      <td>10</td>\n",
       "      <td>0</td>\n",
       "      <td>3.838418e+03</td>\n",
       "      <td>1.652612e-08</td>\n",
       "      <td>1x2</td>\n",
       "      <td>1x2</td>\n",
       "      <td>Type=softmaxoptions</td>\n",
       "    </tr>\n",
       "    <tr>\n",
       "      <th>67</th>\n",
       "      <td>67</td>\n",
       "      <td>quantize</td>\n",
       "      <td>67: quantize</td>\n",
       "      <td>8</td>\n",
       "      <td>0</td>\n",
       "      <td>1.189855e+04</td>\n",
       "      <td>4.224086e-07</td>\n",
       "      <td>1x2</td>\n",
       "      <td>1x2</td>\n",
       "      <td>Type=none</td>\n",
       "    </tr>\n",
       "  </tbody>\n",
       "</table>\n",
       "<p>68 rows × 10 columns</p>\n",
       "</div>"
      ],
      "text/plain": [
       "    index             opcode                  name      ops    macs  \\\n",
       "0       0           quantize           0: quantize   110592       0   \n",
       "1       1            conv_2d            1: conv_2d  1050624  497664   \n",
       "2       2  depthwise_conv_2d  2: depthwise_conv_2d   387072  165888   \n",
       "3       3            conv_2d            3: conv_2d   156672   73728   \n",
       "4       4            conv_2d            4: conv_2d   506880  184320   \n",
       "..    ...                ...                   ...      ...     ...   \n",
       "63     63    average_pool_2d   63: average_pool_2d     5120       0   \n",
       "64     64            reshape           64: reshape        0       0   \n",
       "65     65    fully_connected   65: fully_connected     2048    1024   \n",
       "66     66            softmax           66: softmax       10       0   \n",
       "67     67           quantize          67: quantize        8       0   \n",
       "\n",
       "      cpu_cycles        energy            input_shape output_shape  \\\n",
       "0   9.957829e+05  1.988387e-04              1x96x96x3    1x96x96x3   \n",
       "1   4.600492e+06  8.359018e-04    1x96x96x3,8x3x3x3,8    1x48x48x8   \n",
       "2   2.522040e+06  4.679793e-04    1x48x48x8,1x3x3x8,8    1x48x48x8   \n",
       "3   8.374511e+05  1.130917e-04    1x48x48x8,4x1x1x8,4    1x48x48x4   \n",
       "4   3.653150e+06  6.590034e-04  1x48x48x4,20x1x1x4,20   1x48x48x20   \n",
       "..           ...           ...                    ...          ...   \n",
       "63  4.083712e+04  2.230688e-07              1x3x3x512    1x1x1x512   \n",
       "64  2.421972e+02  4.810657e-19            1x1x1x512,2        1x512   \n",
       "65  2.805793e+03  1.749769e-08            1x512,2x512          1x2   \n",
       "66  3.838418e+03  1.652612e-08                    1x2          1x2   \n",
       "67  1.189855e+04  4.224086e-07                    1x2          1x2   \n",
       "\n",
       "                                              options  \n",
       "0                                           Type=none  \n",
       "1            Padding:same stride:2x2 activation:relu6  \n",
       "2   Multiplier:1 padding:same stride:1x1 activatio...  \n",
       "3             Padding:same stride:1x1 activation:none  \n",
       "4           Padding:valid stride:1x1 activation:relu6  \n",
       "..                                                ...  \n",
       "63  Padding:valid stride:1x1 filter:3x3 activation...  \n",
       "64                                          Type=none  \n",
       "65                                    Activation:none  \n",
       "66                                Type=softmaxoptions  \n",
       "67                                          Type=none  \n",
       "\n",
       "[68 rows x 10 columns]"
      ]
     },
     "execution_count": 82,
     "metadata": {},
     "output_type": "execute_result"
    }
   ],
   "source": [
    "layers_INT8_df = pd.DataFrame.from_dict(model_profile_INT8[\"layers\"])\n",
    "layers_INT8_df[\"name\"] = layers_INT8_df[\"index\"].map(str) + \": \" + layers_INT8_df[\"opcode\"]\n",
    "layers_INT8_df.insert(2,\"name\" , layers_INT8_df.pop(\"name\"))\n",
    "layers_INT8_df"
   ]
  },
  {
   "cell_type": "code",
   "execution_count": 83,
   "metadata": {},
   "outputs": [],
   "source": [
    "layers_df_INT8_path = pathlib.Path.joinpath(models_dir, \"layer_df_INT8_mltk.pkl\")\n",
    "layers_INT8_df.to_pickle(layers_df_INT8_path)"
   ]
  },
  {
   "cell_type": "code",
   "execution_count": 84,
   "metadata": {},
   "outputs": [],
   "source": [
    "#layers_INT8_df.info()"
   ]
  },
  {
   "attachments": {},
   "cell_type": "markdown",
   "metadata": {},
   "source": [
    "# Getting peak memory infos"
   ]
  },
  {
   "cell_type": "code",
   "execution_count": 85,
   "metadata": {},
   "outputs": [],
   "source": [
    "models_peak_memory_path = models_dir.joinpath(model_name, f\"{model_name}_peak_memory\")"
   ]
  },
  {
   "cell_type": "code",
   "execution_count": 86,
   "metadata": {},
   "outputs": [
    {
     "name": "stdout",
     "output_type": "stream",
     "text": [
      "Writing model analysis to i:\\tinyml\\tiny_cnn\\models\\mobilenetv2_0.25_96_c3_o2_t5l512.MV1\\mobilenetv2_0.25_96_c3_o2_t5l512.MV1_peak_memory in CSV format\n"
     ]
    }
   ],
   "source": [
    "! python i:\\tinyml\\tflite-tools\\tflite_tools.py -i $models_tflite_opt_path --csv $models_peak_memory_path\n",
    "#! explorer $models_peak_memory_path"
   ]
  },
  {
   "cell_type": "code",
   "execution_count": 87,
   "metadata": {},
   "outputs": [],
   "source": [
    "model_peak_memory_schedule = models_dir.joinpath(model_name, f\"{model_name}_peak_memory\", \"execution_schedule_info.csv\")\n",
    "peak_memory_tensor_details = models_dir.joinpath(model_name, f\"{model_name}_peak_memory\", \"tensor_details.csv\")"
   ]
  },
  {
   "cell_type": "code",
   "execution_count": 88,
   "metadata": {},
   "outputs": [
    {
     "name": "stdout",
     "output_type": "stream",
     "text": [
      "Reading in i:\\tinyml\\tiny_cnn\\models\\mobilenetv2_0.25_96_c3_o2_t5l512.MV1\\mobilenetv2_0.25_96_c3_o2_t5l512.MV1_peak_memory\\execution_schedule_info.csv\n",
      "Cleaning up the dataframe.\n"
     ]
    },
    {
     "data": {
      "text/html": [
       "<div>\n",
       "<style scoped>\n",
       "    .dataframe tbody tr th:only-of-type {\n",
       "        vertical-align: middle;\n",
       "    }\n",
       "\n",
       "    .dataframe tbody tr th {\n",
       "        vertical-align: top;\n",
       "    }\n",
       "\n",
       "    .dataframe thead th {\n",
       "        text-align: right;\n",
       "    }\n",
       "</style>\n",
       "<table border=\"1\" class=\"dataframe\">\n",
       "  <thead>\n",
       "    <tr style=\"text-align: right;\">\n",
       "      <th></th>\n",
       "      <th>name</th>\n",
       "      <th>tensor_IDs</th>\n",
       "      <th>RAM_b</th>\n",
       "      <th>operator</th>\n",
       "      <th>index</th>\n",
       "    </tr>\n",
       "  </thead>\n",
       "  <tbody>\n",
       "    <tr>\n",
       "      <th>0</th>\n",
       "      <td>tfl.quantize</td>\n",
       "      <td>(0, 107)</td>\n",
       "      <td>55296</td>\n",
       "      <td>tfl.quantize</td>\n",
       "      <td>0</td>\n",
       "    </tr>\n",
       "    <tr>\n",
       "      <th>1</th>\n",
       "      <td>conv2d_84</td>\n",
       "      <td>(107, 108)</td>\n",
       "      <td>46080</td>\n",
       "      <td>mobilenetv2/conv1_relu/Relu6;mobilenetv2/conv1...</td>\n",
       "      <td>1</td>\n",
       "    </tr>\n",
       "    <tr>\n",
       "      <th>2</th>\n",
       "      <td>block_5_compress_bn</td>\n",
       "      <td>(108, 109)</td>\n",
       "      <td>36864</td>\n",
       "      <td>mobilenetv2/block_0_dw_relu/Relu6;mobilenetv2/...</td>\n",
       "      <td>2</td>\n",
       "    </tr>\n",
       "    <tr>\n",
       "      <th>3</th>\n",
       "      <td>block_0_compress</td>\n",
       "      <td>(109, 110)</td>\n",
       "      <td>27648</td>\n",
       "      <td>mobilenetv2/block_0_compress_bn/FusedBatchNorm...</td>\n",
       "      <td>3</td>\n",
       "    </tr>\n",
       "    <tr>\n",
       "      <th>4</th>\n",
       "      <td>block_1_expand</td>\n",
       "      <td>(110, 111)</td>\n",
       "      <td>55296</td>\n",
       "      <td>mobilenetv2/block_1_expand_relu/Relu6;mobilene...</td>\n",
       "      <td>4</td>\n",
       "    </tr>\n",
       "    <tr>\n",
       "      <th>5</th>\n",
       "      <td>block_1_dw_conv</td>\n",
       "      <td>(111, 112)</td>\n",
       "      <td>57600</td>\n",
       "      <td>mobilenetv2/block_1_dw_relu/Relu6;mobilenetv2/...</td>\n",
       "      <td>5</td>\n",
       "    </tr>\n",
       "    <tr>\n",
       "      <th>6</th>\n",
       "      <td>block_1_compress</td>\n",
       "      <td>(112, 113)</td>\n",
       "      <td>14976</td>\n",
       "      <td>mobilenetv2/block_1_compress_bn/FusedBatchNorm...</td>\n",
       "      <td>6</td>\n",
       "    </tr>\n",
       "    <tr>\n",
       "      <th>7</th>\n",
       "      <td>block_2_expand</td>\n",
       "      <td>(113, 114)</td>\n",
       "      <td>20736</td>\n",
       "      <td>mobilenetv2/block_2_expand_relu/Relu6;mobilene...</td>\n",
       "      <td>7</td>\n",
       "    </tr>\n",
       "    <tr>\n",
       "      <th>8</th>\n",
       "      <td>block_3_dw_bn</td>\n",
       "      <td>(113, 114, 115)</td>\n",
       "      <td>38016</td>\n",
       "      <td>mobilenetv2/block_2_dw_relu/Relu6;mobilenetv2/...</td>\n",
       "      <td>8</td>\n",
       "    </tr>\n",
       "    <tr>\n",
       "      <th>9</th>\n",
       "      <td>block_2_compress</td>\n",
       "      <td>(113, 115, 116)</td>\n",
       "      <td>24192</td>\n",
       "      <td>mobilenetv2/block_2_compress_bn/FusedBatchNorm...</td>\n",
       "      <td>9</td>\n",
       "    </tr>\n",
       "  </tbody>\n",
       "</table>\n",
       "</div>"
      ],
      "text/plain": [
       "                  name       tensor_IDs  RAM_b  \\\n",
       "0         tfl.quantize         (0, 107)  55296   \n",
       "1            conv2d_84       (107, 108)  46080   \n",
       "2  block_5_compress_bn       (108, 109)  36864   \n",
       "3     block_0_compress       (109, 110)  27648   \n",
       "4       block_1_expand       (110, 111)  55296   \n",
       "5      block_1_dw_conv       (111, 112)  57600   \n",
       "6     block_1_compress       (112, 113)  14976   \n",
       "7       block_2_expand       (113, 114)  20736   \n",
       "8        block_3_dw_bn  (113, 114, 115)  38016   \n",
       "9     block_2_compress  (113, 115, 116)  24192   \n",
       "\n",
       "                                            operator  index  \n",
       "0                                       tfl.quantize      0  \n",
       "1  mobilenetv2/conv1_relu/Relu6;mobilenetv2/conv1...      1  \n",
       "2  mobilenetv2/block_0_dw_relu/Relu6;mobilenetv2/...      2  \n",
       "3  mobilenetv2/block_0_compress_bn/FusedBatchNorm...      3  \n",
       "4  mobilenetv2/block_1_expand_relu/Relu6;mobilene...      4  \n",
       "5  mobilenetv2/block_1_dw_relu/Relu6;mobilenetv2/...      5  \n",
       "6  mobilenetv2/block_1_compress_bn/FusedBatchNorm...      6  \n",
       "7  mobilenetv2/block_2_expand_relu/Relu6;mobilene...      7  \n",
       "8  mobilenetv2/block_2_dw_relu/Relu6;mobilenetv2/...      8  \n",
       "9  mobilenetv2/block_2_compress_bn/FusedBatchNorm...      9  "
      ]
     },
     "execution_count": 88,
     "metadata": {},
     "output_type": "execute_result"
    }
   ],
   "source": [
    "peak_memory_df = get_peak_memory_df(model_peak_memory_schedule)\n",
    "peak_memory_df.head(10)"
   ]
  },
  {
   "cell_type": "code",
   "execution_count": 89,
   "metadata": {},
   "outputs": [
    {
     "data": {
      "text/plain": [
       "57600"
      ]
     },
     "execution_count": 89,
     "metadata": {},
     "output_type": "execute_result"
    }
   ],
   "source": [
    "peak_memory = peak_memory_df[\"RAM_b\"].max()\n",
    "peak_memory"
   ]
  },
  {
   "cell_type": "code",
   "execution_count": 90,
   "metadata": {},
   "outputs": [],
   "source": [
    "mltk_model_stats[\"peak_memory_b\"] = peak_memory"
   ]
  },
  {
   "cell_type": "code",
   "execution_count": 91,
   "metadata": {},
   "outputs": [
    {
     "data": {
      "text/plain": [
       "5"
      ]
     },
     "execution_count": 91,
     "metadata": {},
     "output_type": "execute_result"
    }
   ],
   "source": [
    "peak_memory_df[\"RAM_b\"].argmax()"
   ]
  },
  {
   "cell_type": "code",
   "execution_count": 92,
   "metadata": {},
   "outputs": [
    {
     "name": "stdout",
     "output_type": "stream",
     "text": [
      "Reading in i:\\tinyml\\tiny_cnn\\models\\mobilenetv2_0.25_96_c3_o2_t5l512.MV1\\mobilenetv2_0.25_96_c3_o2_t5l512.MV1_peak_memory\\tensor_details.csv\n",
      "Cleaning up the dataframe.\n"
     ]
    },
    {
     "data": {
      "text/html": [
       "<div>\n",
       "<style scoped>\n",
       "    .dataframe tbody tr th:only-of-type {\n",
       "        vertical-align: middle;\n",
       "    }\n",
       "\n",
       "    .dataframe tbody tr th {\n",
       "        vertical-align: top;\n",
       "    }\n",
       "\n",
       "    .dataframe thead th {\n",
       "        text-align: right;\n",
       "    }\n",
       "</style>\n",
       "<table border=\"1\" class=\"dataframe\">\n",
       "  <thead>\n",
       "    <tr style=\"text-align: right;\">\n",
       "      <th></th>\n",
       "      <th>id</th>\n",
       "      <th>name</th>\n",
       "      <th>shape</th>\n",
       "      <th>size_b</th>\n",
       "      <th>name_long</th>\n",
       "    </tr>\n",
       "  </thead>\n",
       "  <tbody>\n",
       "    <tr>\n",
       "      <th>0</th>\n",
       "      <td>0</td>\n",
       "      <td>input_1</td>\n",
       "      <td>(1, 96, 96, 3)</td>\n",
       "      <td>27648</td>\n",
       "      <td>input_1</td>\n",
       "    </tr>\n",
       "    <tr>\n",
       "      <th>1</th>\n",
       "      <td>107</td>\n",
       "      <td>tfl.quantize</td>\n",
       "      <td>(1, 96, 96, 3)</td>\n",
       "      <td>27648</td>\n",
       "      <td>tfl.quantize</td>\n",
       "    </tr>\n",
       "    <tr>\n",
       "      <th>2</th>\n",
       "      <td>108</td>\n",
       "      <td>mobilenetv2/conv2d_84/Conv2D</td>\n",
       "      <td>(1, 48, 48, 8)</td>\n",
       "      <td>18432</td>\n",
       "      <td>mobilenetv2/conv1_relu/Relu6;mobilenetv2/conv1...</td>\n",
       "    </tr>\n",
       "    <tr>\n",
       "      <th>3</th>\n",
       "      <td>109</td>\n",
       "      <td>mobilenetv2/block_5_compress_bn/FusedBatchNormV3</td>\n",
       "      <td>(1, 48, 48, 8)</td>\n",
       "      <td>18432</td>\n",
       "      <td>mobilenetv2/block_0_dw_relu/Relu6;mobilenetv2/...</td>\n",
       "    </tr>\n",
       "    <tr>\n",
       "      <th>4</th>\n",
       "      <td>110</td>\n",
       "      <td>mobilenetv2/block_0_compress/Conv2D</td>\n",
       "      <td>(1, 48, 48, 4)</td>\n",
       "      <td>9216</td>\n",
       "      <td>mobilenetv2/block_0_compress_bn/FusedBatchNorm...</td>\n",
       "    </tr>\n",
       "    <tr>\n",
       "      <th>...</th>\n",
       "      <td>...</td>\n",
       "      <td>...</td>\n",
       "      <td>...</td>\n",
       "      <td>...</td>\n",
       "      <td>...</td>\n",
       "    </tr>\n",
       "    <tr>\n",
       "      <th>64</th>\n",
       "      <td>170</td>\n",
       "      <td>mobilenetv2/average_pooling2d/AvgPool</td>\n",
       "      <td>(1, 1, 1, 512)</td>\n",
       "      <td>512</td>\n",
       "      <td>average_pooling2d</td>\n",
       "    </tr>\n",
       "    <tr>\n",
       "      <th>65</th>\n",
       "      <td>171</td>\n",
       "      <td>mobilenetv2/flatten/Reshape</td>\n",
       "      <td>(1, 512)</td>\n",
       "      <td>512</td>\n",
       "      <td>flatten</td>\n",
       "    </tr>\n",
       "    <tr>\n",
       "      <th>66</th>\n",
       "      <td>172</td>\n",
       "      <td>mobilenetv2/dense/BiasAdd</td>\n",
       "      <td>(1, 2)</td>\n",
       "      <td>2</td>\n",
       "      <td>mobilenetv2/dense/MatMul;mobilenetv2/dense/Bia...</td>\n",
       "    </tr>\n",
       "    <tr>\n",
       "      <th>67</th>\n",
       "      <td>173</td>\n",
       "      <td>Identity1</td>\n",
       "      <td>(1, 2)</td>\n",
       "      <td>2</td>\n",
       "      <td>Identity1</td>\n",
       "    </tr>\n",
       "    <tr>\n",
       "      <th>68</th>\n",
       "      <td>174</td>\n",
       "      <td>Identity</td>\n",
       "      <td>(1, 2)</td>\n",
       "      <td>2</td>\n",
       "      <td>Identity</td>\n",
       "    </tr>\n",
       "  </tbody>\n",
       "</table>\n",
       "<p>69 rows × 5 columns</p>\n",
       "</div>"
      ],
      "text/plain": [
       "     id                                              name           shape  \\\n",
       "0     0                                           input_1  (1, 96, 96, 3)   \n",
       "1   107                                      tfl.quantize  (1, 96, 96, 3)   \n",
       "2   108                      mobilenetv2/conv2d_84/Conv2D  (1, 48, 48, 8)   \n",
       "3   109  mobilenetv2/block_5_compress_bn/FusedBatchNormV3  (1, 48, 48, 8)   \n",
       "4   110               mobilenetv2/block_0_compress/Conv2D  (1, 48, 48, 4)   \n",
       "..  ...                                               ...             ...   \n",
       "64  170             mobilenetv2/average_pooling2d/AvgPool  (1, 1, 1, 512)   \n",
       "65  171                       mobilenetv2/flatten/Reshape        (1, 512)   \n",
       "66  172                         mobilenetv2/dense/BiasAdd          (1, 2)   \n",
       "67  173                                         Identity1          (1, 2)   \n",
       "68  174                                          Identity          (1, 2)   \n",
       "\n",
       "    size_b                                          name_long  \n",
       "0    27648                                            input_1  \n",
       "1    27648                                       tfl.quantize  \n",
       "2    18432  mobilenetv2/conv1_relu/Relu6;mobilenetv2/conv1...  \n",
       "3    18432  mobilenetv2/block_0_dw_relu/Relu6;mobilenetv2/...  \n",
       "4     9216  mobilenetv2/block_0_compress_bn/FusedBatchNorm...  \n",
       "..     ...                                                ...  \n",
       "64     512                                  average_pooling2d  \n",
       "65     512                                            flatten  \n",
       "66       2  mobilenetv2/dense/MatMul;mobilenetv2/dense/Bia...  \n",
       "67       2                                          Identity1  \n",
       "68       2                                           Identity  \n",
       "\n",
       "[69 rows x 5 columns]"
      ]
     },
     "execution_count": 92,
     "metadata": {},
     "output_type": "execute_result"
    }
   ],
   "source": [
    "tensor_df = get_tensor_details_df(peak_memory_tensor_details)\n",
    "tensor_df"
   ]
  },
  {
   "attachments": {},
   "cell_type": "markdown",
   "metadata": {},
   "source": [
    "# Layer Analytics from TensorFlow Model"
   ]
  },
  {
   "cell_type": "code",
   "execution_count": 93,
   "metadata": {},
   "outputs": [
    {
     "name": "stdout",
     "output_type": "stream",
     "text": [
      "Reading in i:\\tinyml\\tiny_cnn\\models\\mobilenetv2_0.25_96_c3_o2_t5l512.MV1\\mobilenetv2_0.25_96_c3_o2_t5l512.MV1_layers.csv\n"
     ]
    }
   ],
   "source": [
    "layer_details_csv_exists = True\n",
    "try:\n",
    "    layer_details_df = get_layer_details_df(models_layer_df_path)\n",
    "    layer_details_df\n",
    "except:\n",
    "    layer_details_csv_exists = False"
   ]
  },
  {
   "attachments": {},
   "cell_type": "markdown",
   "metadata": {},
   "source": [
    "# Logging to Weights & Biases"
   ]
  },
  {
   "cell_type": "code",
   "execution_count": 94,
   "metadata": {},
   "outputs": [
    {
     "data": {
      "text/html": [
       "wandb version 0.13.10 is available!  To upgrade, please run:\n",
       " $ pip install wandb --upgrade"
      ],
      "text/plain": [
       "<IPython.core.display.HTML object>"
      ]
     },
     "metadata": {},
     "output_type": "display_data"
    },
    {
     "data": {
      "text/html": [
       "Tracking run with wandb version 0.13.9"
      ],
      "text/plain": [
       "<IPython.core.display.HTML object>"
      ]
     },
     "metadata": {},
     "output_type": "display_data"
    },
    {
     "data": {
      "text/html": [
       "Run data is saved locally in <code>i:\\tinyml\\tiny_cnn\\wandb\\run-20230226_175210-lb7bgmez</code>"
      ],
      "text/plain": [
       "<IPython.core.display.HTML object>"
      ]
     },
     "metadata": {},
     "output_type": "display_data"
    },
    {
     "data": {
      "text/html": [
       "Syncing run <strong><a href=\"https://wandb.ai/susbrock/model_DB/runs/lb7bgmez\" target=\"_blank\">mobilenetv2_0.25_96_c3_o2_t5l512.MV1</a></strong> to <a href=\"https://wandb.ai/susbrock/model_DB\" target=\"_blank\">Weights & Biases</a> (<a href=\"https://wandb.me/run\" target=\"_blank\">docs</a>)<br/>"
      ],
      "text/plain": [
       "<IPython.core.display.HTML object>"
      ]
     },
     "metadata": {},
     "output_type": "display_data"
    },
    {
     "data": {
      "text/html": [
       " View project at <a href=\"https://wandb.ai/susbrock/model_DB\" target=\"_blank\">https://wandb.ai/susbrock/model_DB</a>"
      ],
      "text/plain": [
       "<IPython.core.display.HTML object>"
      ]
     },
     "metadata": {},
     "output_type": "display_data"
    },
    {
     "data": {
      "text/html": [
       " View run at <a href=\"https://wandb.ai/susbrock/model_DB/runs/lb7bgmez\" target=\"_blank\">https://wandb.ai/susbrock/model_DB/runs/lb7bgmez</a>"
      ],
      "text/plain": [
       "<IPython.core.display.HTML object>"
      ]
     },
     "metadata": {},
     "output_type": "display_data"
    },
    {
     "data": {
      "text/html": [
       "Waiting for W&B process to finish... <strong style=\"color:green\">(success).</strong>"
      ],
      "text/plain": [
       "<IPython.core.display.HTML object>"
      ]
     },
     "metadata": {},
     "output_type": "display_data"
    },
    {
     "data": {
      "text/html": [
       " View run <strong style=\"color:#cdcd00\">mobilenetv2_0.25_96_c3_o2_t5l512.MV1</strong> at: <a href=\"https://wandb.ai/susbrock/model_DB/runs/lb7bgmez\" target=\"_blank\">https://wandb.ai/susbrock/model_DB/runs/lb7bgmez</a><br/>Synced 6 W&B file(s), 5 media file(s), 5 artifact file(s) and 1 other file(s)"
      ],
      "text/plain": [
       "<IPython.core.display.HTML object>"
      ]
     },
     "metadata": {},
     "output_type": "display_data"
    },
    {
     "data": {
      "text/html": [
       "Find logs at: <code>.\\wandb\\run-20230226_175210-lb7bgmez\\logs</code>"
      ],
      "text/plain": [
       "<IPython.core.display.HTML object>"
      ]
     },
     "metadata": {},
     "output_type": "display_data"
    }
   ],
   "source": [
    "api = wandb.Api()\n",
    "\n",
    "# Generate run ids\n",
    "run_id = wandb.sdk.lib.runid.generate_id()\n",
    "\n",
    "wandb.init(\n",
    "    project=PROJECT,\n",
    "    entity=\"susbrock\",\n",
    "    name = model_name,\n",
    "    id=run_id,\n",
    "    #resume=True\n",
    "    )\n",
    "\n",
    "config = wandb.config\n",
    "config.id = run_id\n",
    "config.update(mltk_model_stats)\n",
    "\n",
    "\n",
    "layers_df_wandb = wandb.Table(dataframe=layers_df)\n",
    "wandb.log({\"tflite_layers_mltk\" : layers_df_wandb})\n",
    "layers_INT8_df_wandb = wandb.Table(dataframe=layers_INT8_df)\n",
    "wandb.log({\"tflite_INt8_layers_mltk\" : layers_INT8_df_wandb})\n",
    "\n",
    "peak_memory_df_wandb = wandb.Table(dataframe=peak_memory_df)\n",
    "wandb.log({\"peak_memory\" : peak_memory_df_wandb})\n",
    "\n",
    "tensor_df_wandb = wandb.Table(dataframe=tensor_df)\n",
    "wandb.log({\"tensor_info\" : tensor_df_wandb})\n",
    "\n",
    "if layer_details_csv_exists:\n",
    "    layer_details_df_wandb = wandb.Table(dataframe=layer_details_df)\n",
    "    wandb.log({\"tensorflow_layer_details\" : layer_details_df_wandb})\n",
    "else:\n",
    "    pass\n",
    "\n",
    "\n",
    "wandb.log({\"tflite_INt8_layers_plt\" : wandb.plot.bar(layers_INT8_df_wandb, \"index\", \"macs\", title=model_name)})\n",
    "\n",
    "wandb.finish()\n",
    "\n"
   ]
  },
  {
   "cell_type": "code",
   "execution_count": null,
   "metadata": {},
   "outputs": [],
   "source": []
  }
 ],
 "metadata": {
  "kernelspec": {
   "display_name": "tiny_cnn_6",
   "language": "python",
   "name": "python3"
  },
  "language_info": {
   "codemirror_mode": {
    "name": "ipython",
    "version": 3
   },
   "file_extension": ".py",
   "mimetype": "text/x-python",
   "name": "python",
   "nbconvert_exporter": "python",
   "pygments_lexer": "ipython3",
   "version": "3.10.6"
  },
  "orig_nbformat": 4,
  "vscode": {
   "interpreter": {
    "hash": "0faa6c31b20b8f809b81d6d7d22a84ccd9f354666f54133d1793fa4c65539801"
   }
  }
 },
 "nbformat": 4,
 "nbformat_minor": 2
}
