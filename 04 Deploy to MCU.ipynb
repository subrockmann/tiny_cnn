{
 "cells": [
  {
   "cell_type": "code",
   "execution_count": 1,
   "metadata": {},
   "outputs": [],
   "source": [
    "import os, sys, math, datetime\n",
    "import pathlib\n",
    "from pathlib import Path\n",
    "import wandb\n",
    "\n",
    "# import workbench.config.config'\n",
    "from workbench.config.config import initialize\n",
    "from workbench.utils.utils import create_filepaths\n",
    "from workbench.wandb import wandb_model_DB, get_model_DB_run_id_from_architecture, get_architecture_from_model_DB_run_id"
   ]
  },
  {
   "cell_type": "code",
   "execution_count": 2,
   "metadata": {},
   "outputs": [],
   "source": [
    "models_dir = initialize()"
   ]
  },
  {
   "cell_type": "code",
   "execution_count": 3,
   "metadata": {},
   "outputs": [],
   "source": [
    "# # get the list of recently created models\n",
    "# model_names = []\n",
    "# with open(\"analyzer_list.txt\", \"r\") as file:\n",
    "#     lines = file.readlines()\n",
    "#     for line in lines:\n",
    "#         if len(line) < 2:\n",
    "#             pass\n",
    "#         else:\n",
    "#             model_names.append(line.strip())\n",
    "\n",
    "# model_names"
   ]
  },
  {
   "cell_type": "code",
   "execution_count": 4,
   "metadata": {
    "tags": [
     "parameters"
    ]
   },
   "outputs": [
    {
     "name": "stdout",
     "output_type": "stream",
     "text": [
      "c:\\tiny_mlc\\tiny_cnn\\models\n"
     ]
    }
   ],
   "source": [
    "global model_name\n",
    "automated = False\n",
    "\n",
    "#model_name = \"mobilenetv1_0.35_96_c3_o2_l5ll256.MV1\"\n",
    "model_name = \"mobilenetv1vww_0.25_96_c3_o2_000\"\n",
    "\n",
    "\n",
    "models_path, models_summary_path, models_image_path, models_layer_df_path, models_tf_path, models_tflite_path, models_tflite_opt_path = create_filepaths(model_name)"
   ]
  },
  {
   "cell_type": "code",
   "execution_count": 5,
   "metadata": {},
   "outputs": [
    {
     "data": {
      "text/plain": [
       "WindowsPath('c:/tiny_mlc/tiny_cnn/models/mobilenetv1vww_0.25_96_c3_o2_000/mobilenetv1vww_0.25_96_c3_o2_000_INT8.tflite')"
      ]
     },
     "execution_count": 5,
     "metadata": {},
     "output_type": "execute_result"
    }
   ],
   "source": [
    "models_tflite_opt_path"
   ]
  },
  {
   "attachments": {},
   "cell_type": "markdown",
   "metadata": {},
   "source": [
    "# Generate .cc and .h files"
   ]
  },
  {
   "cell_type": "code",
   "execution_count": 6,
   "metadata": {},
   "outputs": [],
   "source": [
    "# Copyright 2021 The TensorFlow Authors. All Rights Reserved.\n",
    "#\n",
    "# Licensed under the Apache License, Version 2.0 (the \"License\");\n",
    "# you may not use this file except in compliance with the License.\n",
    "# You may obtain a copy of the License at\n",
    "#\n",
    "#     http://www.apache.org/licenses/LICENSE-2.0\n",
    "#\n",
    "# Unless required by applicable law or agreed to in writing, software\n",
    "# distributed under the License is distributed on an \"AS IS\" BASIS,\n",
    "# WITHOUT WARRANTIES OR CONDITIONS OF ANY KIND, either express or implied.\n",
    "# See the License for the specific language governing permissions and\n",
    "# limitations under the License.\n",
    "# ==============================================================================\n",
    "\"\"\"Library for converting .tflite, .bmp and .wav files to cc arrays.\"\"\"\n",
    "\n",
    "from __future__ import absolute_import\n",
    "from __future__ import division\n",
    "from __future__ import print_function\n",
    "\n",
    "import argparse\n",
    "import os\n",
    "import struct\n",
    "#import wave\n",
    "\n",
    "from PIL import Image\n",
    "\n",
    "\n",
    "def generate_file(out_fname, array_name, array_type, array_contents, size):\n",
    "  \"\"\"Write an array of values to a CC or header file.\"\"\"\n",
    "  os.makedirs(os.path.dirname(out_fname), exist_ok=True)\n",
    "  if (str(out_fname).endswith('.cc') or str(out_fname).endswith('.cpp')):\n",
    "    out_cc_file = open(out_fname, 'w')\n",
    "    #out_cc_file.write('#include <cstdint>\\n\\n')\n",
    "    # out_cc_file.write('#include \"{}\"\\n\\n'.format(\n",
    "    #     str(out_fname).split('genfiles/')[-1].replace('.cc', '.h')))\n",
    "    out_cc_file.write('#include \"model.h\"\\n\\n')\n",
    "    out_cc_file.write('const unsigned int {}_len = {};\\n'.format(\n",
    "        array_name, str(size)))\n",
    "    \n",
    "    # add modelname to file\n",
    "    out_cc_file.write('// const unsigned char model_name[] = \"{}\";\\n\\n'.format(model_name))\n",
    "    \n",
    "    out_cc_file.write('alignas(16) const {} {}[] = {{'.format(\n",
    "        array_type, array_name))\n",
    "    out_cc_file.write(array_contents)\n",
    "    out_cc_file.write('};\\n')\n",
    "    out_cc_file.close()\n",
    "  elif str(out_fname).endswith('.h'):\n",
    "    out_hdr_file = open(out_fname, 'w')\n",
    "    #out_hdr_file.write('#include <cstdint>\\n\\n')\n",
    "    # out_hdr_file.write('extern const unsigned int {}_len;\\n'.format(array_name))\n",
    "    out_hdr_file.write('extern const {} {}[];\\n'.format(\n",
    "        array_type, array_name))\n",
    "    \n",
    "    # add model name to file\n",
    "    out_hdr_file.write(\n",
    "        '// extern const unsigned char model_name[];')\n",
    "    \n",
    "    out_hdr_file.close()\n",
    "  else:\n",
    "    raise ValueError('generated file must be end with .cc, .cpp or .h')\n",
    "\n",
    "\n",
    "def generate_array(input_fname):\n",
    "  \"\"\"Return array size and array of data from the input file.\"\"\"\n",
    "  if str(input_fname).endswith('.tflite'):\n",
    "    with open(input_fname, 'rb') as input_file:\n",
    "      out_string = ''\n",
    "      byte = input_file.read(1)\n",
    "      size = 0\n",
    "      while byte:\n",
    "        out_string += '0x' + byte.hex() + ','\n",
    "        byte = input_file.read(1)\n",
    "        size += 1\n",
    "      return [size, out_string]\n",
    "  elif str(input_fname).endswith('.bmp'):\n",
    "    img = Image.open(input_fname, mode='r')\n",
    "    image_bytes = img.tobytes()\n",
    "    out_string = ''\n",
    "    for byte in image_bytes:\n",
    "      out_string += hex(byte) + ','\n",
    "    return [len(image_bytes), out_string]\n",
    "#   elif input_fname.endswith('.wav'):\n",
    "#     wav_file = wave.open(input_fname, mode='r')\n",
    "#     num_channels = wav_file.getnchannels()\n",
    "#     n_frames = wav_file.getnframes()\n",
    "#     frames = wav_file.readframes(n_frames)\n",
    "#     samples = struct.unpack('<%dh' % (num_channels * n_frames), frames)\n",
    "#     out_string = ','.join(map(str, samples))\n",
    "#     wav_file.close()\n",
    "#     return [wav_file.getnframes(), out_string]\n",
    "  elif str(input_fname).endswith('.csv'):\n",
    "    with open(input_fname, 'r') as input_file:\n",
    "      # Assume one array per csv file.\n",
    "      elements = input_file.readline()\n",
    "      return [len(elements.split(',')), elements]\n",
    "  else:\n",
    "    raise ValueError('input file must be .tflite, .bmp, .wav or .csv')\n",
    "\n",
    "\n",
    "def get_array_name(input_fname):\n",
    "  # Normalize potential relative path to remove additional dot.\n",
    "  abs_fname = os.path.abspath(input_fname)\n",
    "  base_array_name = 'g_' + abs_fname.split('.')[-2].split('/')[-1]\n",
    "  if str(input_fname).endswith('.tflite'):\n",
    "    #return [base_array_name + '_model_data', 'unsigned char']\n",
    "    return ['g_model', 'unsigned char']\n",
    "  elif str(input_fname).endswith('.bmp'):\n",
    "    return [base_array_name + '_image_data', 'unsigned char']\n",
    "#   elif input_fname.endswith('.wav'):\n",
    "#     return [base_array_name + '_audio_data', 'int16_t']\n",
    "  elif str(input_fname).endswith('_int32.csv'):\n",
    "    return [base_array_name + '_test_data', 'int32_t']\n",
    "  elif str(input_fname).endswith('_int16.csv'):\n",
    "    return [base_array_name + '_test_data', 'int16_t']\n",
    "  elif str(input_fname).endswith('_int8.csv'):\n",
    "    return [base_array_name + '_test_data', 'int8_t']\n",
    "  elif str(input_fname).endswith('_float.csv'):\n",
    "    return [base_array_name + '_test_data', 'float']\n",
    "\n",
    "\n",
    "def main():\n",
    "  \"\"\"Create cc sources with c arrays with data from each .tflite or .bmp.\"\"\"\n",
    "  parser = argparse.ArgumentParser()\n",
    "  parser.add_argument(\n",
    "      'output',\n",
    "      help='base directory for all outputs or a cc or header to generate.')\n",
    "  parser.add_argument(\n",
    "      'inputs',\n",
    "      nargs='+',\n",
    "      help='input wav, bmp or tflite files to convert. '\n",
    "      'If output is a cc or header only one input may be specified.')\n",
    "  args = parser.parse_args()\n",
    "\n",
    "  if args.output.endswith('.cc') or args.output.endswith('.h'):\n",
    "    assert len(args.inputs) == 1\n",
    "    size, cc_array = generate_array(args.inputs[0])\n",
    "    generated_array_name, array_type = get_array_name(args.inputs[0])\n",
    "    generate_file(args.output, generated_array_name, array_type, cc_array,\n",
    "                  size)\n",
    "  else:\n",
    "    # Deduplicate inputs to prevent duplicate generated files (ODR issue).\n",
    "    for input_file in list(dict.fromkeys(args.inputs)):\n",
    "      output_base_fname = os.path.join(args.output,\n",
    "                                       os.path.splitext(input_file)[0])\n",
    "      if input_file.endswith('.tflite'):\n",
    "        output_base_fname = output_base_fname + '_model_data'\n",
    "      elif input_file.endswith('.bmp'):\n",
    "        output_base_fname = output_base_fname + '_image_data'\n",
    "      elif input_file.endswith('.wav'):\n",
    "        output_base_fname = output_base_fname + '_audio_data'\n",
    "      elif input_file.endswith('.csv'):\n",
    "        output_base_fname = output_base_fname + '_test_data'\n",
    "      else:\n",
    "        raise ValueError('input file must be .tflite, .bmp, .wav or .csv')\n",
    "\n",
    "      output_cc_fname = output_base_fname + '.cc'\n",
    "      # Print output cc filename for Make to include it in the build.\n",
    "      print(output_cc_fname)\n",
    "      output_hdr_fname = output_base_fname + '.h'\n",
    "      size, cc_array = generate_array(input_file)\n",
    "      generated_array_name, array_type = get_array_name(input_file)\n",
    "      generate_file(output_cc_fname, generated_array_name, array_type,\n",
    "                    cc_array, size)\n",
    "      generate_file(output_hdr_fname, generated_array_name, array_type,\n",
    "                    cc_array, size)\n",
    "\n",
    "\n",
    "# if __name__ == '__main__':\n",
    "#   main()\n",
    "\n",
    "def create_c_files(input_fname, out_fname):\n",
    "    #   if args.output.endswith('.cc') or args.output.endswith('.h'):\n",
    "    # assert len(args.inputs) == 1\n",
    "    size, cc_array = generate_array(input_fname)\n",
    "    generated_array_name, array_type = get_array_name(input_fname)\n",
    "    generate_file(out_fname, generated_array_name, array_type, cc_array,\n",
    "                  size)\n",
    "    return size"
   ]
  },
  {
   "cell_type": "code",
   "execution_count": 7,
   "metadata": {},
   "outputs": [],
   "source": [
    "models_h_path = models_dir.joinpath(model_name, \"model.h\")\n",
    "models_c_path = models_dir.joinpath(model_name, \"model.cpp\")"
   ]
  },
  {
   "cell_type": "code",
   "execution_count": 8,
   "metadata": {},
   "outputs": [
    {
     "name": "stdout",
     "output_type": "stream",
     "text": [
      "300832\n"
     ]
    }
   ],
   "source": [
    "create_c_files(models_tflite_opt_path, models_h_path)\n",
    "create_c_files(models_tflite_opt_path, models_c_path)\n",
    "\n",
    "size, output_string = generate_array(models_tflite_opt_path)\n",
    "print(size)\n"
   ]
  },
  {
   "attachments": {},
   "cell_type": "markdown",
   "metadata": {},
   "source": [
    "# Log c-array size to Weights & Biases\n"
   ]
  },
  {
   "cell_type": "code",
   "execution_count": 9,
   "metadata": {},
   "outputs": [
    {
     "data": {
      "text/plain": [
       "'ejrgwblg'"
      ]
     },
     "execution_count": 9,
     "metadata": {},
     "output_type": "execute_result"
    }
   ],
   "source": [
    "id = get_model_DB_run_id_from_architecture(model_name)\n",
    "id"
   ]
  },
  {
   "cell_type": "code",
   "execution_count": 10,
   "metadata": {},
   "outputs": [
    {
     "name": "stderr",
     "output_type": "stream",
     "text": [
      "Failed to detect the name of this notebook, you can set it manually with the WANDB_NOTEBOOK_NAME environment variable to enable code saving.\n",
      "\u001b[34m\u001b[1mwandb\u001b[0m: Currently logged in as: \u001b[33msusbrock\u001b[0m. Use \u001b[1m`wandb login --relogin`\u001b[0m to force relogin\n"
     ]
    },
    {
     "data": {
      "text/html": [
       "wandb version 0.15.2 is available!  To upgrade, please run:\n",
       " $ pip install wandb --upgrade"
      ],
      "text/plain": [
       "<IPython.core.display.HTML object>"
      ]
     },
     "metadata": {},
     "output_type": "display_data"
    },
    {
     "data": {
      "text/html": [
       "Tracking run with wandb version 0.13.9"
      ],
      "text/plain": [
       "<IPython.core.display.HTML object>"
      ]
     },
     "metadata": {},
     "output_type": "display_data"
    },
    {
     "data": {
      "text/html": [
       "Run data is saved locally in <code>c:\\tiny_mlc\\tiny_cnn\\wandb\\run-20230511_122416-ejrgwblg</code>"
      ],
      "text/plain": [
       "<IPython.core.display.HTML object>"
      ]
     },
     "metadata": {},
     "output_type": "display_data"
    },
    {
     "data": {
      "text/html": [
       "Resuming run <strong><a href=\"https://wandb.ai/susbrock/model_DB/runs/ejrgwblg\" target=\"_blank\">mobilenetv1vww_0.25_96_c3_o2_000</a></strong> to <a href=\"https://wandb.ai/susbrock/model_DB\" target=\"_blank\">Weights & Biases</a> (<a href=\"https://wandb.me/run\" target=\"_blank\">docs</a>)<br/>"
      ],
      "text/plain": [
       "<IPython.core.display.HTML object>"
      ]
     },
     "metadata": {},
     "output_type": "display_data"
    },
    {
     "data": {
      "text/html": [
       " View project at <a href=\"https://wandb.ai/susbrock/model_DB\" target=\"_blank\">https://wandb.ai/susbrock/model_DB</a>"
      ],
      "text/plain": [
       "<IPython.core.display.HTML object>"
      ]
     },
     "metadata": {},
     "output_type": "display_data"
    },
    {
     "data": {
      "text/html": [
       " View run at <a href=\"https://wandb.ai/susbrock/model_DB/runs/ejrgwblg\" target=\"_blank\">https://wandb.ai/susbrock/model_DB/runs/ejrgwblg</a>"
      ],
      "text/plain": [
       "<IPython.core.display.HTML object>"
      ]
     },
     "metadata": {},
     "output_type": "display_data"
    },
    {
     "data": {
      "text/html": [
       "Waiting for W&B process to finish... <strong style=\"color:green\">(success).</strong>"
      ],
      "text/plain": [
       "<IPython.core.display.HTML object>"
      ]
     },
     "metadata": {},
     "output_type": "display_data"
    },
    {
     "data": {
      "application/vnd.jupyter.widget-view+json": {
       "model_id": "cd43231a2fd44c2b98647cd4b1351b40",
       "version_major": 2,
       "version_minor": 0
      },
      "text/plain": [
       "VBox(children=(Label(value='0.000 MB of 0.009 MB uploaded (0.000 MB deduped)\\r'), FloatProgress(value=0.0, max…"
      ]
     },
     "metadata": {},
     "output_type": "display_data"
    },
    {
     "data": {
      "text/html": [
       "<style>\n",
       "    table.wandb td:nth-child(1) { padding: 0 10px; text-align: left ; width: auto;} td:nth-child(2) {text-align: left ; width: 100%}\n",
       "    .wandb-row { display: flex; flex-direction: row; flex-wrap: wrap; justify-content: flex-start; width: 100% }\n",
       "    .wandb-col { display: flex; flex-direction: column; flex-basis: 100%; flex: 1; padding: 10px; }\n",
       "    </style>\n",
       "<div class=\"wandb-row\"><div class=\"wandb-col\"><h3>Run history:</h3><br/><table class=\"wandb\"><tr><td>c_array_b</td><td>▁</td></tr></table><br/></div><div class=\"wandb-col\"><h3>Run summary:</h3><br/><table class=\"wandb\"><tr><td>allocate_tensors_ms_%</td><td>0.197</td></tr><tr><td>allocate_tensors_ms_avg</td><td>0.037</td></tr><tr><td>allocate_tensors_ms_first</td><td>0.037</td></tr><tr><td>arena_size</td><td>329008</td></tr><tr><td>c_array_b</td><td>300832</td></tr><tr><td>first_inference_us</td><td>10533</td></tr><tr><td>inference_avg_us</td><td>610.042</td></tr><tr><td>init_us</td><td>311626</td></tr><tr><td>initialization_ms</td><td>311.626</td></tr><tr><td>model_size_MB</td><td>0.30083</td></tr><tr><td>modify_graph_with_delegate_mem_KB</td><td>1100</td></tr><tr><td>modify_graph_with_delegate_ms_%</td><td>99.803</td></tr><tr><td>modify_graph_with_delegate_ms_avg</td><td>18.722</td></tr><tr><td>modify_graph_with_delegate_ms_first</td><td>18.722</td></tr><tr><td>stm32_RAM_b_INT8</td><td>58740</td></tr><tr><td>stm32_activations_b_INT8</td><td>41152</td></tr><tr><td>stm32_cycles_per_macc_b_INT8</td><td>1.89</td></tr><tr><td>stm32_flash_b_INT8</td><td>289369</td></tr><tr><td>stm32_inference_ms_INT8</td><td>66.36</td></tr><tr><td>stm32_macc_b_INT8</td><td>7590360</td></tr><tr><td>stm32_weights_b_INT8</td><td>219064</td></tr><tr><td>test_accuracy</td><td>0.85387</td></tr><tr><td>warmup_avg_us</td><td>589.386</td></tr></table><br/></div></div>"
      ],
      "text/plain": [
       "<IPython.core.display.HTML object>"
      ]
     },
     "metadata": {},
     "output_type": "display_data"
    },
    {
     "data": {
      "text/html": [
       " View run <strong style=\"color:#cdcd00\">mobilenetv1vww_0.25_96_c3_o2_000</strong> at: <a href=\"https://wandb.ai/susbrock/model_DB/runs/ejrgwblg\" target=\"_blank\">https://wandb.ai/susbrock/model_DB/runs/ejrgwblg</a><br/>Synced 2 W&B file(s), 0 media file(s), 0 artifact file(s) and 1 other file(s)"
      ],
      "text/plain": [
       "<IPython.core.display.HTML object>"
      ]
     },
     "metadata": {},
     "output_type": "display_data"
    },
    {
     "data": {
      "text/html": [
       "Find logs at: <code>.\\wandb\\run-20230511_122416-ejrgwblg\\logs</code>"
      ],
      "text/plain": [
       "<IPython.core.display.HTML object>"
      ]
     },
     "metadata": {},
     "output_type": "display_data"
    }
   ],
   "source": [
    "PROJECT = \"model_DB\"\n",
    "\n",
    "run = wandb.init(\n",
    "        # Set the project where this run will be logged\n",
    "        project=PROJECT, \n",
    "        id = id, \n",
    "        resume=\"allow\",\n",
    "        )\n",
    "\n",
    "\n",
    "run.log({\"c_array_b\" : size})\n",
    "\n",
    "\n",
    "\n",
    "wandb.finish()"
   ]
  },
  {
   "cell_type": "code",
   "execution_count": 11,
   "metadata": {},
   "outputs": [],
   "source": [
    "# TODO: change code to also build .cpp files for Arduino"
   ]
  },
  {
   "cell_type": "code",
   "execution_count": 12,
   "metadata": {},
   "outputs": [
    {
     "data": {
      "text/plain": [
       "'c:\\\\tiny_mlc\\\\tiny_cnn\\\\models\\\\mobilenetv1vww_0.25_96_c3_o2_000\\\\model.h'"
      ]
     },
     "execution_count": 12,
     "metadata": {},
     "output_type": "execute_result"
    }
   ],
   "source": [
    "str(models_h_path)"
   ]
  },
  {
   "cell_type": "code",
   "execution_count": 13,
   "metadata": {},
   "outputs": [
    {
     "data": {
      "text/plain": [
       "True"
      ]
     },
     "execution_count": 13,
     "metadata": {},
     "output_type": "execute_result"
    }
   ],
   "source": [
    "models_h_path.is_file()"
   ]
  },
  {
   "attachments": {},
   "cell_type": "markdown",
   "metadata": {},
   "source": [
    "# Open files in VS code"
   ]
  },
  {
   "cell_type": "code",
   "execution_count": 14,
   "metadata": {},
   "outputs": [],
   "source": [
    "if not automated:\n",
    "    ! explorer $models_path\n",
    "    ! explorer $models_h_path\n",
    "    ! explorer $models_c_path"
   ]
  },
  {
   "cell_type": "code",
   "execution_count": 15,
   "metadata": {},
   "outputs": [],
   "source": [
    "with open(\"deployment_list.txt\", \"a\") as f:\n",
    "    f.write(f\"{model_name}\\n\")"
   ]
  }
 ],
 "metadata": {
  "kernelspec": {
   "display_name": "tiny_cnn_6",
   "language": "python",
   "name": "python3"
  },
  "language_info": {
   "codemirror_mode": {
    "name": "ipython",
    "version": 3
   },
   "file_extension": ".py",
   "mimetype": "text/x-python",
   "name": "python",
   "nbconvert_exporter": "python",
   "pygments_lexer": "ipython3",
   "version": "3.10.6"
  },
  "orig_nbformat": 4,
  "vscode": {
   "interpreter": {
    "hash": "0faa6c31b20b8f809b81d6d7d22a84ccd9f354666f54133d1793fa4c65539801"
   }
  }
 },
 "nbformat": 4,
 "nbformat_minor": 2
}
