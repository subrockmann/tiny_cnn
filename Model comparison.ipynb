{
 "cells": [
  {
   "cell_type": "code",
   "execution_count": 48,
   "metadata": {},
   "outputs": [
    {
     "name": "stdout",
     "output_type": "stream",
     "text": [
      "The autoreload extension is already loaded. To reload it, use:\n",
      "  %reload_ext autoreload\n"
     ]
    }
   ],
   "source": [
    "import pandas as pd \n",
    "import json\n",
    "import seaborn as sns\n",
    "import plotly.express as px\n",
    "import plotly.graph_objects as go\n",
    "from plotly.subplots import make_subplots\n",
    "#from plotly.offline import iplot\n",
    "\n",
    "# enable plotly in VS Studio Code\n",
    "import plotly.io as pio\n",
    "pio.renderers.default = \"plotly_mimetype+notebook\"\n",
    "\n",
    "import wandb\n",
    "\n",
    "from workbench.wandb import wandb_model_DB, get_wandb_table_as_df, make_clickable, color_state\n",
    "\n",
    "%load_ext autoreload"
   ]
  },
  {
   "cell_type": "code",
   "execution_count": 47,
   "metadata": {},
   "outputs": [],
   "source": [
    "%reload_ext autoreload\n",
    "%autoreload"
   ]
  },
  {
   "cell_type": "code",
   "execution_count": 3,
   "metadata": {},
   "outputs": [],
   "source": [
    "# Configure pandas to show all columns & rows\n",
    "pd.set_option('display.max_columns', None)\n",
    "#pd.set_option('display.max_rows', None)"
   ]
  },
  {
   "cell_type": "code",
   "execution_count": 9,
   "metadata": {},
   "outputs": [
    {
     "data": {
      "text/html": [
       "<style type=\"text/css\">\n",
       "#T_f9a2b_row0_col2, #T_f9a2b_row1_col2, #T_f9a2b_row2_col2, #T_f9a2b_row3_col2, #T_f9a2b_row4_col2, #T_f9a2b_row5_col2, #T_f9a2b_row6_col2, #T_f9a2b_row7_col2, #T_f9a2b_row8_col2, #T_f9a2b_row9_col2 {\n",
       "  background-color: green;\n",
       "}\n",
       "</style>\n",
       "<table id=\"T_f9a2b\">\n",
       "  <thead>\n",
       "    <tr>\n",
       "      <th class=\"blank level0\" >&nbsp;</th>\n",
       "      <th id=\"T_f9a2b_level0_col0\" class=\"col_heading level0 col0\" >id</th>\n",
       "      <th id=\"T_f9a2b_level0_col1\" class=\"col_heading level0 col1\" >run_name</th>\n",
       "      <th id=\"T_f9a2b_level0_col2\" class=\"col_heading level0 col2\" >state</th>\n",
       "      <th id=\"T_f9a2b_level0_col3\" class=\"col_heading level0 col3\" >MACs</th>\n",
       "      <th id=\"T_f9a2b_level0_col4\" class=\"col_heading level0 col4\" >url</th>\n",
       "      <th id=\"T_f9a2b_level0_col5\" class=\"col_heading level0 col5\" >architecture</th>\n",
       "      <th id=\"T_f9a2b_level0_col6\" class=\"col_heading level0 col6\" >FLOPs</th>\n",
       "      <th id=\"T_f9a2b_level0_col7\" class=\"col_heading level0 col7\" >alpha</th>\n",
       "      <th id=\"T_f9a2b_level0_col8\" class=\"col_heading level0 col8\" >classes</th>\n",
       "      <th id=\"T_f9a2b_level0_col9\" class=\"col_heading level0 col9\" >img_res</th>\n",
       "      <th id=\"T_f9a2b_level0_col10\" class=\"col_heading level0 col10\" >OPS_mltk</th>\n",
       "      <th id=\"T_f9a2b_level0_col11\" class=\"col_heading level0 col11\" >channels</th>\n",
       "      <th id=\"T_f9a2b_level0_col12\" class=\"col_heading level0 col12\" >macs_mltk</th>\n",
       "      <th id=\"T_f9a2b_level0_col13\" class=\"col_heading level0 col13\" >variation</th>\n",
       "      <th id=\"T_f9a2b_level0_col14\" class=\"col_heading level0 col14\" >energy_mltk</th>\n",
       "      <th id=\"T_f9a2b_level0_col15\" class=\"col_heading level0 col15\" >total_params</th>\n",
       "      <th id=\"T_f9a2b_level0_col16\" class=\"col_heading level0 col16\" >OPS_INT8_mltk</th>\n",
       "      <th id=\"T_f9a2b_level0_col17\" class=\"col_heading level0 col17\" >model_size_kb</th>\n",
       "      <th id=\"T_f9a2b_level0_col18\" class=\"col_heading level0 col18\" >peak_memory_b</th>\n",
       "      <th id=\"T_f9a2b_level0_col19\" class=\"col_heading level0 col19\" >macs_INT8_mltk</th>\n",
       "      <th id=\"T_f9a2b_level0_col20\" class=\"col_heading level0 col20\" >energy_INT8_mltk</th>\n",
       "      <th id=\"T_f9a2b_level0_col21\" class=\"col_heading level0 col21\" >trainable_params</th>\n",
       "      <th id=\"T_f9a2b_level0_col22\" class=\"col_heading level0 col22\" >non_trainable_params</th>\n",
       "      <th id=\"T_f9a2b_level0_col23\" class=\"col_heading level0 col23\" >tflite_model_size_kb</th>\n",
       "      <th id=\"T_f9a2b_level0_col24\" class=\"col_heading level0 col24\" >flash_model_size_b_mltk</th>\n",
       "      <th id=\"T_f9a2b_level0_col25\" class=\"col_heading level0 col25\" >n_unsupported_layers_mltk</th>\n",
       "      <th id=\"T_f9a2b_level0_col26\" class=\"col_heading level0 col26\" >tflite_model_INT8_size_kb</th>\n",
       "      <th id=\"T_f9a2b_level0_col27\" class=\"col_heading level0 col27\" >flash_model_size_b__INT8_mltk</th>\n",
       "      <th id=\"T_f9a2b_level0_col28\" class=\"col_heading level0 col28\" >RAM_runtime_memory_size_b_mltk</th>\n",
       "      <th id=\"T_f9a2b_level0_col29\" class=\"col_heading level0 col29\" >n_unsupported_layers_INT8_mltk</th>\n",
       "      <th id=\"T_f9a2b_level0_col30\" class=\"col_heading level0 col30\" >RAM_runtime_memory_size_b_INT8_mltk</th>\n",
       "      <th id=\"T_f9a2b_level0_col31\" class=\"col_heading level0 col31\" >tags</th>\n",
       "      <th id=\"T_f9a2b_level0_col32\" class=\"col_heading level0 col32\" >created_at</th>\n",
       "      <th id=\"T_f9a2b_level0_col33\" class=\"col_heading level0 col33\" >path</th>\n",
       "      <th id=\"T_f9a2b_level0_col34\" class=\"col_heading level0 col34\" >notes</th>\n",
       "    </tr>\n",
       "  </thead>\n",
       "  <tbody>\n",
       "    <tr>\n",
       "      <th id=\"T_f9a2b_level0_row0\" class=\"row_heading level0 row0\" >0</th>\n",
       "      <td id=\"T_f9a2b_row0_col0\" class=\"data row0 col0\" >nan</td>\n",
       "      <td id=\"T_f9a2b_row0_col1\" class=\"data row0 col1\" >sparkling-fire-31</td>\n",
       "      <td id=\"T_f9a2b_row0_col2\" class=\"data row0 col2\" >finished</td>\n",
       "      <td id=\"T_f9a2b_row0_col3\" class=\"data row0 col3\" >nan</td>\n",
       "      <td id=\"T_f9a2b_row0_col4\" class=\"data row0 col4\" ><a target=\"_blank\" href=\"https://wandb.ai/susbrock/model_DB/runs/92w36f62\">https://wandb.ai/susbrock/model_DB/runs/92w36f62</a></td>\n",
       "      <td id=\"T_f9a2b_row0_col5\" class=\"data row0 col5\" >nan</td>\n",
       "      <td id=\"T_f9a2b_row0_col6\" class=\"data row0 col6\" >nan</td>\n",
       "      <td id=\"T_f9a2b_row0_col7\" class=\"data row0 col7\" >nan</td>\n",
       "      <td id=\"T_f9a2b_row0_col8\" class=\"data row0 col8\" >nan</td>\n",
       "      <td id=\"T_f9a2b_row0_col9\" class=\"data row0 col9\" >nan</td>\n",
       "      <td id=\"T_f9a2b_row0_col10\" class=\"data row0 col10\" >nan</td>\n",
       "      <td id=\"T_f9a2b_row0_col11\" class=\"data row0 col11\" >nan</td>\n",
       "      <td id=\"T_f9a2b_row0_col12\" class=\"data row0 col12\" >nan</td>\n",
       "      <td id=\"T_f9a2b_row0_col13\" class=\"data row0 col13\" >nan</td>\n",
       "      <td id=\"T_f9a2b_row0_col14\" class=\"data row0 col14\" >nan</td>\n",
       "      <td id=\"T_f9a2b_row0_col15\" class=\"data row0 col15\" >nan</td>\n",
       "      <td id=\"T_f9a2b_row0_col16\" class=\"data row0 col16\" >nan</td>\n",
       "      <td id=\"T_f9a2b_row0_col17\" class=\"data row0 col17\" >nan</td>\n",
       "      <td id=\"T_f9a2b_row0_col18\" class=\"data row0 col18\" >nan</td>\n",
       "      <td id=\"T_f9a2b_row0_col19\" class=\"data row0 col19\" >nan</td>\n",
       "      <td id=\"T_f9a2b_row0_col20\" class=\"data row0 col20\" >nan</td>\n",
       "      <td id=\"T_f9a2b_row0_col21\" class=\"data row0 col21\" >nan</td>\n",
       "      <td id=\"T_f9a2b_row0_col22\" class=\"data row0 col22\" >nan</td>\n",
       "      <td id=\"T_f9a2b_row0_col23\" class=\"data row0 col23\" >nan</td>\n",
       "      <td id=\"T_f9a2b_row0_col24\" class=\"data row0 col24\" >nan</td>\n",
       "      <td id=\"T_f9a2b_row0_col25\" class=\"data row0 col25\" >nan</td>\n",
       "      <td id=\"T_f9a2b_row0_col26\" class=\"data row0 col26\" >nan</td>\n",
       "      <td id=\"T_f9a2b_row0_col27\" class=\"data row0 col27\" >nan</td>\n",
       "      <td id=\"T_f9a2b_row0_col28\" class=\"data row0 col28\" >nan</td>\n",
       "      <td id=\"T_f9a2b_row0_col29\" class=\"data row0 col29\" >nan</td>\n",
       "      <td id=\"T_f9a2b_row0_col30\" class=\"data row0 col30\" >nan</td>\n",
       "      <td id=\"T_f9a2b_row0_col31\" class=\"data row0 col31\" >[]</td>\n",
       "      <td id=\"T_f9a2b_row0_col32\" class=\"data row0 col32\" >2023-02-11T08:40:13</td>\n",
       "      <td id=\"T_f9a2b_row0_col33\" class=\"data row0 col33\" >['susbrock', 'model_DB', '92w36f62']</td>\n",
       "      <td id=\"T_f9a2b_row0_col34\" class=\"data row0 col34\" >None</td>\n",
       "    </tr>\n",
       "    <tr>\n",
       "      <th id=\"T_f9a2b_level0_row1\" class=\"row_heading level0 row1\" >1</th>\n",
       "      <td id=\"T_f9a2b_row1_col0\" class=\"data row1 col0\" >4vjie1qp</td>\n",
       "      <td id=\"T_f9a2b_row1_col1\" class=\"data row1 col1\" >mobilenetv2_0.5_96_c3_o2_l5</td>\n",
       "      <td id=\"T_f9a2b_row1_col2\" class=\"data row1 col2\" >finished</td>\n",
       "      <td id=\"T_f9a2b_row1_col3\" class=\"data row1 col3\" >16.125 M</td>\n",
       "      <td id=\"T_f9a2b_row1_col4\" class=\"data row1 col4\" ><a target=\"_blank\" href=\"https://wandb.ai/susbrock/model_DB/runs/4vjie1qp\">https://wandb.ai/susbrock/model_DB/runs/4vjie1qp</a></td>\n",
       "      <td id=\"T_f9a2b_row1_col5\" class=\"data row1 col5\" >mobilenetv2_0.5_96_c3_o2_l5</td>\n",
       "      <td id=\"T_f9a2b_row1_col6\" class=\"data row1 col6\" >33.404 M</td>\n",
       "      <td id=\"T_f9a2b_row1_col7\" class=\"data row1 col7\" >0.500000</td>\n",
       "      <td id=\"T_f9a2b_row1_col8\" class=\"data row1 col8\" >2.000000</td>\n",
       "      <td id=\"T_f9a2b_row1_col9\" class=\"data row1 col9\" >96.000000</td>\n",
       "      <td id=\"T_f9a2b_row1_col10\" class=\"data row1 col10\" >34022684.000000</td>\n",
       "      <td id=\"T_f9a2b_row1_col11\" class=\"data row1 col11\" >3.000000</td>\n",
       "      <td id=\"T_f9a2b_row1_col12\" class=\"data row1 col12\" >16125376.000000</td>\n",
       "      <td id=\"T_f9a2b_row1_col13\" class=\"data row1 col13\" >l5</td>\n",
       "      <td id=\"T_f9a2b_row1_col14\" class=\"data row1 col14\" >0.014656</td>\n",
       "      <td id=\"T_f9a2b_row1_col15\" class=\"data row1 col15\" >705346.000000</td>\n",
       "      <td id=\"T_f9a2b_row1_col16\" class=\"data row1 col16\" >34133284.000000</td>\n",
       "      <td id=\"T_f9a2b_row1_col17\" class=\"data row1 col17\" >3218.109375</td>\n",
       "      <td id=\"T_f9a2b_row1_col18\" class=\"data row1 col18\" >138240.000000</td>\n",
       "      <td id=\"T_f9a2b_row1_col19\" class=\"data row1 col19\" >16125376.000000</td>\n",
       "      <td id=\"T_f9a2b_row1_col20\" class=\"data row1 col20\" >0.014855</td>\n",
       "      <td id=\"T_f9a2b_row1_col21\" class=\"data row1 col21\" >687010.000000</td>\n",
       "      <td id=\"T_f9a2b_row1_col22\" class=\"data row1 col22\" >18336.000000</td>\n",
       "      <td id=\"T_f9a2b_row1_col23\" class=\"data row1 col23\" >2653.425781</td>\n",
       "      <td id=\"T_f9a2b_row1_col24\" class=\"data row1 col24\" >2717108.000000</td>\n",
       "      <td id=\"T_f9a2b_row1_col25\" class=\"data row1 col25\" >0.000000</td>\n",
       "      <td id=\"T_f9a2b_row1_col26\" class=\"data row1 col26\" >918.789062</td>\n",
       "      <td id=\"T_f9a2b_row1_col27\" class=\"data row1 col27\" >940840.000000</td>\n",
       "      <td id=\"T_f9a2b_row1_col28\" class=\"data row1 col28\" >637264.000000</td>\n",
       "      <td id=\"T_f9a2b_row1_col29\" class=\"data row1 col29\" >0.000000</td>\n",
       "      <td id=\"T_f9a2b_row1_col30\" class=\"data row1 col30\" >224216.000000</td>\n",
       "      <td id=\"T_f9a2b_row1_col31\" class=\"data row1 col31\" >[]</td>\n",
       "      <td id=\"T_f9a2b_row1_col32\" class=\"data row1 col32\" >2023-02-10T20:40:36</td>\n",
       "      <td id=\"T_f9a2b_row1_col33\" class=\"data row1 col33\" >['susbrock', 'model_DB', '4vjie1qp']</td>\n",
       "      <td id=\"T_f9a2b_row1_col34\" class=\"data row1 col34\" >None</td>\n",
       "    </tr>\n",
       "    <tr>\n",
       "      <th id=\"T_f9a2b_level0_row2\" class=\"row_heading level0 row2\" >2</th>\n",
       "      <td id=\"T_f9a2b_row2_col0\" class=\"data row2 col0\" >muldcf5s</td>\n",
       "      <td id=\"T_f9a2b_row2_col1\" class=\"data row2 col1\" >mobilenetv2_0.35_96_c3_o2_l5</td>\n",
       "      <td id=\"T_f9a2b_row2_col2\" class=\"data row2 col2\" >finished</td>\n",
       "      <td id=\"T_f9a2b_row2_col3\" class=\"data row2 col3\" >9.009 M</td>\n",
       "      <td id=\"T_f9a2b_row2_col4\" class=\"data row2 col4\" ><a target=\"_blank\" href=\"https://wandb.ai/susbrock/model_DB/runs/muldcf5s\">https://wandb.ai/susbrock/model_DB/runs/muldcf5s</a></td>\n",
       "      <td id=\"T_f9a2b_row2_col5\" class=\"data row2 col5\" >mobilenetv2_0.35_96_c3_o2_l5</td>\n",
       "      <td id=\"T_f9a2b_row2_col6\" class=\"data row2 col6\" >18.841 M</td>\n",
       "      <td id=\"T_f9a2b_row2_col7\" class=\"data row2 col7\" >0.350000</td>\n",
       "      <td id=\"T_f9a2b_row2_col8\" class=\"data row2 col8\" >2.000000</td>\n",
       "      <td id=\"T_f9a2b_row2_col9\" class=\"data row2 col9\" >96.000000</td>\n",
       "      <td id=\"T_f9a2b_row2_col10\" class=\"data row2 col10\" >19280558.000000</td>\n",
       "      <td id=\"T_f9a2b_row2_col11\" class=\"data row2 col11\" >3.000000</td>\n",
       "      <td id=\"T_f9a2b_row2_col12\" class=\"data row2 col12\" >9008662.000000</td>\n",
       "      <td id=\"T_f9a2b_row2_col13\" class=\"data row2 col13\" >l5</td>\n",
       "      <td id=\"T_f9a2b_row2_col14\" class=\"data row2 col14\" >0.009435</td>\n",
       "      <td id=\"T_f9a2b_row2_col15\" class=\"data row2 col15\" >402934.000000</td>\n",
       "      <td id=\"T_f9a2b_row2_col16\" class=\"data row2 col16\" >19391158.000000</td>\n",
       "      <td id=\"T_f9a2b_row2_col17\" class=\"data row2 col17\" >2037.148438</td>\n",
       "      <td id=\"T_f9a2b_row2_col18\" class=\"data row2 col18\" >86400.000000</td>\n",
       "      <td id=\"T_f9a2b_row2_col19\" class=\"data row2 col19\" >9008662.000000</td>\n",
       "      <td id=\"T_f9a2b_row2_col20\" class=\"data row2 col20\" >0.009635</td>\n",
       "      <td id=\"T_f9a2b_row2_col21\" class=\"data row2 col21\" >389452.000000</td>\n",
       "      <td id=\"T_f9a2b_row2_col22\" class=\"data row2 col22\" >13482.000000</td>\n",
       "      <td id=\"T_f9a2b_row2_col23\" class=\"data row2 col23\" >1508.500000</td>\n",
       "      <td id=\"T_f9a2b_row2_col24\" class=\"data row2 col24\" >1544704.000000</td>\n",
       "      <td id=\"T_f9a2b_row2_col25\" class=\"data row2 col25\" >0.000000</td>\n",
       "      <td id=\"T_f9a2b_row2_col26\" class=\"data row2 col26\" >574.335938</td>\n",
       "      <td id=\"T_f9a2b_row2_col27\" class=\"data row2 col27\" >588120.000000</td>\n",
       "      <td id=\"T_f9a2b_row2_col28\" class=\"data row2 col28\" >410936.000000</td>\n",
       "      <td id=\"T_f9a2b_row2_col29\" class=\"data row2 col29\" >0.000000</td>\n",
       "      <td id=\"T_f9a2b_row2_col30\" class=\"data row2 col30\" >153104.000000</td>\n",
       "      <td id=\"T_f9a2b_row2_col31\" class=\"data row2 col31\" >[]</td>\n",
       "      <td id=\"T_f9a2b_row2_col32\" class=\"data row2 col32\" >2023-02-10T20:38:34</td>\n",
       "      <td id=\"T_f9a2b_row2_col33\" class=\"data row2 col33\" >['susbrock', 'model_DB', 'muldcf5s']</td>\n",
       "      <td id=\"T_f9a2b_row2_col34\" class=\"data row2 col34\" >None</td>\n",
       "    </tr>\n",
       "    <tr>\n",
       "      <th id=\"T_f9a2b_level0_row3\" class=\"row_heading level0 row3\" >3</th>\n",
       "      <td id=\"T_f9a2b_row3_col0\" class=\"data row3 col0\" >to56zsaq</td>\n",
       "      <td id=\"T_f9a2b_row3_col1\" class=\"data row3 col1\" >mobilenetv2_0.25_96_c3_o2_l5</td>\n",
       "      <td id=\"T_f9a2b_row3_col2\" class=\"data row3 col2\" >finished</td>\n",
       "      <td id=\"T_f9a2b_row3_col3\" class=\"data row3 col3\" >5.219 M</td>\n",
       "      <td id=\"T_f9a2b_row3_col4\" class=\"data row3 col4\" ><a target=\"_blank\" href=\"https://wandb.ai/susbrock/model_DB/runs/to56zsaq\">https://wandb.ai/susbrock/model_DB/runs/to56zsaq</a></td>\n",
       "      <td id=\"T_f9a2b_row3_col5\" class=\"data row3 col5\" >mobilenetv2_0.25_96_c3_o2_l5</td>\n",
       "      <td id=\"T_f9a2b_row3_col6\" class=\"data row3 col6\" >11.025 M</td>\n",
       "      <td id=\"T_f9a2b_row3_col7\" class=\"data row3 col7\" >0.250000</td>\n",
       "      <td id=\"T_f9a2b_row3_col8\" class=\"data row3 col8\" >2.000000</td>\n",
       "      <td id=\"T_f9a2b_row3_col9\" class=\"data row3 col9\" >96.000000</td>\n",
       "      <td id=\"T_f9a2b_row3_col10\" class=\"data row3 col10\" >11340308.000000</td>\n",
       "      <td id=\"T_f9a2b_row3_col11\" class=\"data row3 col11\" >3.000000</td>\n",
       "      <td id=\"T_f9a2b_row3_col12\" class=\"data row3 col12\" >5218528.000000</td>\n",
       "      <td id=\"T_f9a2b_row3_col13\" class=\"data row3 col13\" >l5</td>\n",
       "      <td id=\"T_f9a2b_row3_col14\" class=\"data row3 col14\" >0.006065</td>\n",
       "      <td id=\"T_f9a2b_row3_col15\" class=\"data row3 col15\" >249322.000000</td>\n",
       "      <td id=\"T_f9a2b_row3_col16\" class=\"data row3 col16\" >11450908.000000</td>\n",
       "      <td id=\"T_f9a2b_row3_col17\" class=\"data row3 col17\" >1434.203125</td>\n",
       "      <td id=\"T_f9a2b_row3_col18\" class=\"data row3 col18\" >69120.000000</td>\n",
       "      <td id=\"T_f9a2b_row3_col19\" class=\"data row3 col19\" >5218528.000000</td>\n",
       "      <td id=\"T_f9a2b_row3_col20\" class=\"data row3 col20\" >0.006264</td>\n",
       "      <td id=\"T_f9a2b_row3_col21\" class=\"data row3 col21\" >238874.000000</td>\n",
       "      <td id=\"T_f9a2b_row3_col22\" class=\"data row3 col22\" >10448.000000</td>\n",
       "      <td id=\"T_f9a2b_row3_col23\" class=\"data row3 col23\" >930.808594</td>\n",
       "      <td id=\"T_f9a2b_row3_col24\" class=\"data row3 col24\" >953148.000000</td>\n",
       "      <td id=\"T_f9a2b_row3_col25\" class=\"data row3 col25\" >0.000000</td>\n",
       "      <td id=\"T_f9a2b_row3_col26\" class=\"data row3 col26\" >393.523438</td>\n",
       "      <td id=\"T_f9a2b_row3_col27\" class=\"data row3 col27\" >402968.000000</td>\n",
       "      <td id=\"T_f9a2b_row3_col28\" class=\"data row3 col28\" >329296.000000</td>\n",
       "      <td id=\"T_f9a2b_row3_col29\" class=\"data row3 col29\" >0.000000</td>\n",
       "      <td id=\"T_f9a2b_row3_col30\" class=\"data row3 col30\" >127824.000000</td>\n",
       "      <td id=\"T_f9a2b_row3_col31\" class=\"data row3 col31\" >[]</td>\n",
       "      <td id=\"T_f9a2b_row3_col32\" class=\"data row3 col32\" >2023-02-10T20:36:28</td>\n",
       "      <td id=\"T_f9a2b_row3_col33\" class=\"data row3 col33\" >['susbrock', 'model_DB', 'to56zsaq']</td>\n",
       "      <td id=\"T_f9a2b_row3_col34\" class=\"data row3 col34\" >None</td>\n",
       "    </tr>\n",
       "    <tr>\n",
       "      <th id=\"T_f9a2b_level0_row4\" class=\"row_heading level0 row4\" >4</th>\n",
       "      <td id=\"T_f9a2b_row4_col0\" class=\"data row4 col0\" >27bt3quc</td>\n",
       "      <td id=\"T_f9a2b_row4_col1\" class=\"data row4 col1\" >mobilenetv2_1_96_c3_o2_l5</td>\n",
       "      <td id=\"T_f9a2b_row4_col2\" class=\"data row4 col2\" >finished</td>\n",
       "      <td id=\"T_f9a2b_row4_col3\" class=\"data row4 col3\" >55.012 M</td>\n",
       "      <td id=\"T_f9a2b_row4_col4\" class=\"data row4 col4\" ><a target=\"_blank\" href=\"https://wandb.ai/susbrock/model_DB/runs/27bt3quc\">https://wandb.ai/susbrock/model_DB/runs/27bt3quc</a></td>\n",
       "      <td id=\"T_f9a2b_row4_col5\" class=\"data row4 col5\" >mobilenetv2_1_96_c3_o2_l5</td>\n",
       "      <td id=\"T_f9a2b_row4_col6\" class=\"data row4 col6\" >112.306 M</td>\n",
       "      <td id=\"T_f9a2b_row4_col7\" class=\"data row4 col7\" >1.000000</td>\n",
       "      <td id=\"T_f9a2b_row4_col8\" class=\"data row4 col8\" >2.000000</td>\n",
       "      <td id=\"T_f9a2b_row4_col9\" class=\"data row4 col9\" >96.000000</td>\n",
       "      <td id=\"T_f9a2b_row4_col10\" class=\"data row4 col10\" >113532716.000000</td>\n",
       "      <td id=\"T_f9a2b_row4_col11\" class=\"data row4 col11\" >3.000000</td>\n",
       "      <td id=\"T_f9a2b_row4_col12\" class=\"data row4 col12\" >55011712.000000</td>\n",
       "      <td id=\"T_f9a2b_row4_col13\" class=\"data row4 col13\" >l5</td>\n",
       "      <td id=\"T_f9a2b_row4_col14\" class=\"data row4 col14\" >0.040875</td>\n",
       "      <td id=\"T_f9a2b_row4_col15\" class=\"data row4 col15\" >2260546.000000</td>\n",
       "      <td id=\"T_f9a2b_row4_col16\" class=\"data row4 col16\" >113643316.000000</td>\n",
       "      <td id=\"T_f9a2b_row4_col17\" class=\"data row4 col17\" >9293.617188</td>\n",
       "      <td id=\"T_f9a2b_row4_col18\" class=\"data row4 col18\" >276480.000000</td>\n",
       "      <td id=\"T_f9a2b_row4_col19\" class=\"data row4 col19\" >55011712.000000</td>\n",
       "      <td id=\"T_f9a2b_row4_col20\" class=\"data row4 col20\" >0.041074</td>\n",
       "      <td id=\"T_f9a2b_row4_col21\" class=\"data row4 col21\" >2226434.000000</td>\n",
       "      <td id=\"T_f9a2b_row4_col22\" class=\"data row4 col22\" >34112.000000</td>\n",
       "      <td id=\"T_f9a2b_row4_col23\" class=\"data row4 col23\" >8610.972656</td>\n",
       "      <td id=\"T_f9a2b_row4_col24\" class=\"data row4 col24\" >8817636.000000</td>\n",
       "      <td id=\"T_f9a2b_row4_col25\" class=\"data row4 col25\" >0.000000</td>\n",
       "      <td id=\"T_f9a2b_row4_col26\" class=\"data row4 col26\" >2597.398438</td>\n",
       "      <td id=\"T_f9a2b_row4_col27\" class=\"data row4 col27\" >2659736.000000</td>\n",
       "      <td id=\"T_f9a2b_row4_col28\" class=\"data row4 col28\" >1253440.000000</td>\n",
       "      <td id=\"T_f9a2b_row4_col29\" class=\"data row4 col29\" >0.000000</td>\n",
       "      <td id=\"T_f9a2b_row4_col30\" class=\"data row4 col30\" >426456.000000</td>\n",
       "      <td id=\"T_f9a2b_row4_col31\" class=\"data row4 col31\" >[]</td>\n",
       "      <td id=\"T_f9a2b_row4_col32\" class=\"data row4 col32\" >2023-02-10T20:33:30</td>\n",
       "      <td id=\"T_f9a2b_row4_col33\" class=\"data row4 col33\" >['susbrock', 'model_DB', '27bt3quc']</td>\n",
       "      <td id=\"T_f9a2b_row4_col34\" class=\"data row4 col34\" >None</td>\n",
       "    </tr>\n",
       "    <tr>\n",
       "      <th id=\"T_f9a2b_level0_row5\" class=\"row_heading level0 row5\" >5</th>\n",
       "      <td id=\"T_f9a2b_row5_col0\" class=\"data row5 col0\" >jprxgrm2</td>\n",
       "      <td id=\"T_f9a2b_row5_col1\" class=\"data row5 col1\" >mobilenetv2_1_96_c3_o2_keras</td>\n",
       "      <td id=\"T_f9a2b_row5_col2\" class=\"data row5 col2\" >finished</td>\n",
       "      <td id=\"T_f9a2b_row5_col3\" class=\"data row5 col3\" >55.012 M</td>\n",
       "      <td id=\"T_f9a2b_row5_col4\" class=\"data row5 col4\" ><a target=\"_blank\" href=\"https://wandb.ai/susbrock/model_DB/runs/jprxgrm2\">https://wandb.ai/susbrock/model_DB/runs/jprxgrm2</a></td>\n",
       "      <td id=\"T_f9a2b_row5_col5\" class=\"data row5 col5\" >mobilenetv2_1_96_c3_o2_keras</td>\n",
       "      <td id=\"T_f9a2b_row5_col6\" class=\"data row5 col6\" >112.306 M</td>\n",
       "      <td id=\"T_f9a2b_row5_col7\" class=\"data row5 col7\" >1.000000</td>\n",
       "      <td id=\"T_f9a2b_row5_col8\" class=\"data row5 col8\" >2.000000</td>\n",
       "      <td id=\"T_f9a2b_row5_col9\" class=\"data row5 col9\" >96.000000</td>\n",
       "      <td id=\"T_f9a2b_row5_col10\" class=\"data row5 col10\" >115819722.000000</td>\n",
       "      <td id=\"T_f9a2b_row5_col11\" class=\"data row5 col11\" >3.000000</td>\n",
       "      <td id=\"T_f9a2b_row5_col12\" class=\"data row5 col12\" >55011712.000000</td>\n",
       "      <td id=\"T_f9a2b_row5_col13\" class=\"data row5 col13\" >keras</td>\n",
       "      <td id=\"T_f9a2b_row5_col14\" class=\"data row5 col14\" >0.041934</td>\n",
       "      <td id=\"T_f9a2b_row5_col15\" class=\"data row5 col15\" >2260546.000000</td>\n",
       "      <td id=\"T_f9a2b_row5_col16\" class=\"data row5 col16\" >115930322.000000</td>\n",
       "      <td id=\"T_f9a2b_row5_col17\" class=\"data row5 col17\" >9294.898438</td>\n",
       "      <td id=\"T_f9a2b_row5_col18\" class=\"data row5 col18\" >451680.000000</td>\n",
       "      <td id=\"T_f9a2b_row5_col19\" class=\"data row5 col19\" >55011712.000000</td>\n",
       "      <td id=\"T_f9a2b_row5_col20\" class=\"data row5 col20\" >0.042133</td>\n",
       "      <td id=\"T_f9a2b_row5_col21\" class=\"data row5 col21\" >2226434.000000</td>\n",
       "      <td id=\"T_f9a2b_row5_col22\" class=\"data row5 col22\" >34112.000000</td>\n",
       "      <td id=\"T_f9a2b_row5_col23\" class=\"data row5 col23\" >8614.164062</td>\n",
       "      <td id=\"T_f9a2b_row5_col24\" class=\"data row5 col24\" >8820904.000000</td>\n",
       "      <td id=\"T_f9a2b_row5_col25\" class=\"data row5 col25\" >0.000000</td>\n",
       "      <td id=\"T_f9a2b_row5_col26\" class=\"data row5 col26\" >2601.117188</td>\n",
       "      <td id=\"T_f9a2b_row5_col27\" class=\"data row5 col27\" >2663544.000000</td>\n",
       "      <td id=\"T_f9a2b_row5_col28\" class=\"data row5 col28\" >1954148.000000</td>\n",
       "      <td id=\"T_f9a2b_row5_col29\" class=\"data row5 col29\" >0.000000</td>\n",
       "      <td id=\"T_f9a2b_row5_col30\" class=\"data row5 col30\" >599932.000000</td>\n",
       "      <td id=\"T_f9a2b_row5_col31\" class=\"data row5 col31\" >[]</td>\n",
       "      <td id=\"T_f9a2b_row5_col32\" class=\"data row5 col32\" >2023-02-10T19:55:37</td>\n",
       "      <td id=\"T_f9a2b_row5_col33\" class=\"data row5 col33\" >['susbrock', 'model_DB', 'jprxgrm2']</td>\n",
       "      <td id=\"T_f9a2b_row5_col34\" class=\"data row5 col34\" >None</td>\n",
       "    </tr>\n",
       "    <tr>\n",
       "      <th id=\"T_f9a2b_level0_row6\" class=\"row_heading level0 row6\" >6</th>\n",
       "      <td id=\"T_f9a2b_row6_col0\" class=\"data row6 col0\" >cmubsmv7</td>\n",
       "      <td id=\"T_f9a2b_row6_col1\" class=\"data row6 col1\" >mobilenetv2_0.5_96_c3_o2_keras</td>\n",
       "      <td id=\"T_f9a2b_row6_col2\" class=\"data row6 col2\" >finished</td>\n",
       "      <td id=\"T_f9a2b_row6_col3\" class=\"data row6 col3\" >17.608 M</td>\n",
       "      <td id=\"T_f9a2b_row6_col4\" class=\"data row6 col4\" ><a target=\"_blank\" href=\"https://wandb.ai/susbrock/model_DB/runs/cmubsmv7\">https://wandb.ai/susbrock/model_DB/runs/cmubsmv7</a></td>\n",
       "      <td id=\"T_f9a2b_row6_col5\" class=\"data row6 col5\" >mobilenetv2_0.5_96_c3_o2_keras</td>\n",
       "      <td id=\"T_f9a2b_row6_col6\" class=\"data row6 col6\" >36.461 M</td>\n",
       "      <td id=\"T_f9a2b_row6_col7\" class=\"data row6 col7\" >0.500000</td>\n",
       "      <td id=\"T_f9a2b_row6_col8\" class=\"data row6 col8\" >2.000000</td>\n",
       "      <td id=\"T_f9a2b_row6_col9\" class=\"data row6 col9\" >96.000000</td>\n",
       "      <td id=\"T_f9a2b_row6_col10\" class=\"data row6 col10\" >38363130.000000</td>\n",
       "      <td id=\"T_f9a2b_row6_col11\" class=\"data row6 col11\" >3.000000</td>\n",
       "      <td id=\"T_f9a2b_row6_col12\" class=\"data row6 col12\" >17608000.000000</td>\n",
       "      <td id=\"T_f9a2b_row6_col13\" class=\"data row6 col13\" >keras</td>\n",
       "      <td id=\"T_f9a2b_row6_col14\" class=\"data row6 col14\" >0.016754</td>\n",
       "      <td id=\"T_f9a2b_row6_col15\" class=\"data row6 col15\" >708786.000000</td>\n",
       "      <td id=\"T_f9a2b_row6_col16\" class=\"data row6 col16\" >38473730.000000</td>\n",
       "      <td id=\"T_f9a2b_row6_col17\" class=\"data row6 col17\" >3233.562500</td>\n",
       "      <td id=\"T_f9a2b_row6_col18\" class=\"data row6 col18\" >225840.000000</td>\n",
       "      <td id=\"T_f9a2b_row6_col19\" class=\"data row6 col19\" >17608000.000000</td>\n",
       "      <td id=\"T_f9a2b_row6_col20\" class=\"data row6 col20\" >0.016954</td>\n",
       "      <td id=\"T_f9a2b_row6_col21\" class=\"data row6 col21\" >690242.000000</td>\n",
       "      <td id=\"T_f9a2b_row6_col22\" class=\"data row6 col22\" >18544.000000</td>\n",
       "      <td id=\"T_f9a2b_row6_col23\" class=\"data row6 col23\" >2667.957031</td>\n",
       "      <td id=\"T_f9a2b_row6_col24\" class=\"data row6 col24\" >2731988.000000</td>\n",
       "      <td id=\"T_f9a2b_row6_col25\" class=\"data row6 col25\" >0.000000</td>\n",
       "      <td id=\"T_f9a2b_row6_col26\" class=\"data row6 col26\" >927.664062</td>\n",
       "      <td id=\"T_f9a2b_row6_col27\" class=\"data row6 col27\" >949928.000000</td>\n",
       "      <td id=\"T_f9a2b_row6_col28\" class=\"data row6 col28\" >988556.000000</td>\n",
       "      <td id=\"T_f9a2b_row6_col29\" class=\"data row6 col29\" >0.000000</td>\n",
       "      <td id=\"T_f9a2b_row6_col30\" class=\"data row6 col30\" >311804.000000</td>\n",
       "      <td id=\"T_f9a2b_row6_col31\" class=\"data row6 col31\" >[]</td>\n",
       "      <td id=\"T_f9a2b_row6_col32\" class=\"data row6 col32\" >2023-02-10T19:53:10</td>\n",
       "      <td id=\"T_f9a2b_row6_col33\" class=\"data row6 col33\" >['susbrock', 'model_DB', 'cmubsmv7']</td>\n",
       "      <td id=\"T_f9a2b_row6_col34\" class=\"data row6 col34\" >None</td>\n",
       "    </tr>\n",
       "    <tr>\n",
       "      <th id=\"T_f9a2b_level0_row7\" class=\"row_heading level0 row7\" >7</th>\n",
       "      <td id=\"T_f9a2b_row7_col0\" class=\"data row7 col0\" >rul7t9oi</td>\n",
       "      <td id=\"T_f9a2b_row7_col1\" class=\"data row7 col1\" >mobilenetv2_0.35_96_c3_o2_keras</td>\n",
       "      <td id=\"T_f9a2b_row7_col2\" class=\"data row7 col2\" >finished</td>\n",
       "      <td id=\"T_f9a2b_row7_col3\" class=\"data row7 col3\" >10.657 M</td>\n",
       "      <td id=\"T_f9a2b_row7_col4\" class=\"data row7 col4\" ><a target=\"_blank\" href=\"https://wandb.ai/susbrock/model_DB/runs/rul7t9oi\">https://wandb.ai/susbrock/model_DB/runs/rul7t9oi</a></td>\n",
       "      <td id=\"T_f9a2b_row7_col5\" class=\"data row7 col5\" >mobilenetv2_0.35_96_c3_o2_keras</td>\n",
       "      <td id=\"T_f9a2b_row7_col6\" class=\"data row7 col6\" >22.292 M</td>\n",
       "      <td id=\"T_f9a2b_row7_col7\" class=\"data row7 col7\" >0.350000</td>\n",
       "      <td id=\"T_f9a2b_row7_col8\" class=\"data row7 col8\" >2.000000</td>\n",
       "      <td id=\"T_f9a2b_row7_col9\" class=\"data row7 col9\" >96.000000</td>\n",
       "      <td id=\"T_f9a2b_row7_col10\" class=\"data row7 col10\" >23843250.000000</td>\n",
       "      <td id=\"T_f9a2b_row7_col11\" class=\"data row7 col11\" >3.000000</td>\n",
       "      <td id=\"T_f9a2b_row7_col12\" class=\"data row7 col12\" >10656688.000000</td>\n",
       "      <td id=\"T_f9a2b_row7_col13\" class=\"data row7 col13\" >keras</td>\n",
       "      <td id=\"T_f9a2b_row7_col14\" class=\"data row7 col14\" >0.011755</td>\n",
       "      <td id=\"T_f9a2b_row7_col15\" class=\"data row7 col15\" >412770.000000</td>\n",
       "      <td id=\"T_f9a2b_row7_col16\" class=\"data row7 col16\" >23953850.000000</td>\n",
       "      <td id=\"T_f9a2b_row7_col17\" class=\"data row7 col17\" >2075.148438</td>\n",
       "      <td id=\"T_f9a2b_row7_col18\" class=\"data row7 col18\" >225840.000000</td>\n",
       "      <td id=\"T_f9a2b_row7_col19\" class=\"data row7 col19\" >10656688.000000</td>\n",
       "      <td id=\"T_f9a2b_row7_col20\" class=\"data row7 col20\" >0.011954</td>\n",
       "      <td id=\"T_f9a2b_row7_col21\" class=\"data row7 col21\" >398690.000000</td>\n",
       "      <td id=\"T_f9a2b_row7_col22\" class=\"data row7 col22\" >14080.000000</td>\n",
       "      <td id=\"T_f9a2b_row7_col23\" class=\"data row7 col23\" >1545.218750</td>\n",
       "      <td id=\"T_f9a2b_row7_col24\" class=\"data row7 col24\" >1582304.000000</td>\n",
       "      <td id=\"T_f9a2b_row7_col25\" class=\"data row7 col25\" >0.000000</td>\n",
       "      <td id=\"T_f9a2b_row7_col26\" class=\"data row7 col26\" >593.578125</td>\n",
       "      <td id=\"T_f9a2b_row7_col27\" class=\"data row7 col27\" >607824.000000</td>\n",
       "      <td id=\"T_f9a2b_row7_col28\" class=\"data row7 col28\" >970624.000000</td>\n",
       "      <td id=\"T_f9a2b_row7_col29\" class=\"data row7 col29\" >0.000000</td>\n",
       "      <td id=\"T_f9a2b_row7_col30\" class=\"data row7 col30\" >293884.000000</td>\n",
       "      <td id=\"T_f9a2b_row7_col31\" class=\"data row7 col31\" >[]</td>\n",
       "      <td id=\"T_f9a2b_row7_col32\" class=\"data row7 col32\" >2023-02-10T19:50:59</td>\n",
       "      <td id=\"T_f9a2b_row7_col33\" class=\"data row7 col33\" >['susbrock', 'model_DB', 'rul7t9oi']</td>\n",
       "      <td id=\"T_f9a2b_row7_col34\" class=\"data row7 col34\" >None</td>\n",
       "    </tr>\n",
       "    <tr>\n",
       "      <th id=\"T_f9a2b_level0_row8\" class=\"row_heading level0 row8\" >8</th>\n",
       "      <td id=\"T_f9a2b_row8_col0\" class=\"data row8 col0\" >upj2bfr1</td>\n",
       "      <td id=\"T_f9a2b_row8_col1\" class=\"data row8 col1\" >mobilenetv2_0.25_96_c3_o2_keras</td>\n",
       "      <td id=\"T_f9a2b_row8_col2\" class=\"data row8 col2\" >finished</td>\n",
       "      <td id=\"T_f9a2b_row8_col3\" class=\"data row8 col3\" >6.600 M</td>\n",
       "      <td id=\"T_f9a2b_row8_col4\" class=\"data row8 col4\" ><a target=\"_blank\" href=\"https://wandb.ai/susbrock/model_DB/runs/upj2bfr1\">https://wandb.ai/susbrock/model_DB/runs/upj2bfr1</a></td>\n",
       "      <td id=\"T_f9a2b_row8_col5\" class=\"data row8 col5\" >mobilenetv2_0.25_96_c3_o2_keras</td>\n",
       "      <td id=\"T_f9a2b_row8_col6\" class=\"data row8 col6\" >13.991 M</td>\n",
       "      <td id=\"T_f9a2b_row8_col7\" class=\"data row8 col7\" >0.250000</td>\n",
       "      <td id=\"T_f9a2b_row8_col8\" class=\"data row8 col8\" >2.000000</td>\n",
       "      <td id=\"T_f9a2b_row8_col9\" class=\"data row8 col9\" >96.000000</td>\n",
       "      <td id=\"T_f9a2b_row8_col10\" class=\"data row8 col10\" >15372306.000000</td>\n",
       "      <td id=\"T_f9a2b_row8_col11\" class=\"data row8 col11\" >3.000000</td>\n",
       "      <td id=\"T_f9a2b_row8_col12\" class=\"data row8 col12\" >6600352.000000</td>\n",
       "      <td id=\"T_f9a2b_row8_col13\" class=\"data row8 col13\" >keras</td>\n",
       "      <td id=\"T_f9a2b_row8_col14\" class=\"data row8 col14\" >0.009196</td>\n",
       "      <td id=\"T_f9a2b_row8_col15\" class=\"data row8 col15\" >251330.000000</td>\n",
       "      <td id=\"T_f9a2b_row8_col16\" class=\"data row8 col16\" >15482906.000000</td>\n",
       "      <td id=\"T_f9a2b_row8_col17\" class=\"data row8 col17\" >1447.601562</td>\n",
       "      <td id=\"T_f9a2b_row8_col18\" class=\"data row8 col18\" >225840.000000</td>\n",
       "      <td id=\"T_f9a2b_row8_col19\" class=\"data row8 col19\" >6600352.000000</td>\n",
       "      <td id=\"T_f9a2b_row8_col20\" class=\"data row8 col20\" >0.009395</td>\n",
       "      <td id=\"T_f9a2b_row8_col21\" class=\"data row8 col21\" >240674.000000</td>\n",
       "      <td id=\"T_f9a2b_row8_col22\" class=\"data row8 col22\" >10656.000000</td>\n",
       "      <td id=\"T_f9a2b_row8_col23\" class=\"data row8 col23\" >939.945312</td>\n",
       "      <td id=\"T_f9a2b_row8_col24\" class=\"data row8 col24\" >962504.000000</td>\n",
       "      <td id=\"T_f9a2b_row8_col25\" class=\"data row8 col25\" >0.000000</td>\n",
       "      <td id=\"T_f9a2b_row8_col26\" class=\"data row8 col26\" >401.351562</td>\n",
       "      <td id=\"T_f9a2b_row8_col27\" class=\"data row8 col27\" >410984.000000</td>\n",
       "      <td id=\"T_f9a2b_row8_col28\" class=\"data row8 col28\" >957036.000000</td>\n",
       "      <td id=\"T_f9a2b_row8_col29\" class=\"data row8 col29\" >0.000000</td>\n",
       "      <td id=\"T_f9a2b_row8_col30\" class=\"data row8 col30\" >280272.000000</td>\n",
       "      <td id=\"T_f9a2b_row8_col31\" class=\"data row8 col31\" >[]</td>\n",
       "      <td id=\"T_f9a2b_row8_col32\" class=\"data row8 col32\" >2023-02-10T19:48:47</td>\n",
       "      <td id=\"T_f9a2b_row8_col33\" class=\"data row8 col33\" >['susbrock', 'model_DB', 'upj2bfr1']</td>\n",
       "      <td id=\"T_f9a2b_row8_col34\" class=\"data row8 col34\" >None</td>\n",
       "    </tr>\n",
       "    <tr>\n",
       "      <th id=\"T_f9a2b_level0_row9\" class=\"row_heading level0 row9\" >9</th>\n",
       "      <td id=\"T_f9a2b_row9_col0\" class=\"data row9 col0\" >du0odk9c</td>\n",
       "      <td id=\"T_f9a2b_row9_col1\" class=\"data row9 col1\" >mobilenetv1_1_96_c3_o2_l5</td>\n",
       "      <td id=\"T_f9a2b_row9_col2\" class=\"data row9 col2\" >finished</td>\n",
       "      <td id=\"T_f9a2b_row9_col3\" class=\"data row9 col3\" >104.276 M</td>\n",
       "      <td id=\"T_f9a2b_row9_col4\" class=\"data row9 col4\" ><a target=\"_blank\" href=\"https://wandb.ai/susbrock/model_DB/runs/du0odk9c\">https://wandb.ai/susbrock/model_DB/runs/du0odk9c</a></td>\n",
       "      <td id=\"T_f9a2b_row9_col5\" class=\"data row9 col5\" >mobilenetv1_1_96_c3_o2_l5</td>\n",
       "      <td id=\"T_f9a2b_row9_col6\" class=\"data row9 col6\" >211.332 M</td>\n",
       "      <td id=\"T_f9a2b_row9_col7\" class=\"data row9 col7\" >1.000000</td>\n",
       "      <td id=\"T_f9a2b_row9_col8\" class=\"data row9 col8\" >2.000000</td>\n",
       "      <td id=\"T_f9a2b_row9_col9\" class=\"data row9 col9\" >96.000000</td>\n",
       "      <td id=\"T_f9a2b_row9_col10\" class=\"data row9 col10\" >211331596.000000</td>\n",
       "      <td id=\"T_f9a2b_row9_col11\" class=\"data row9 col11\" >3.000000</td>\n",
       "      <td id=\"T_f9a2b_row9_col12\" class=\"data row9 col12\" >104276480.000000</td>\n",
       "      <td id=\"T_f9a2b_row9_col13\" class=\"data row9 col13\" >l5</td>\n",
       "      <td id=\"T_f9a2b_row9_col14\" class=\"data row9 col14\" >0.038143</td>\n",
       "      <td id=\"T_f9a2b_row9_col15\" class=\"data row9 col15\" >3241858.000000</td>\n",
       "      <td id=\"T_f9a2b_row9_col16\" class=\"data row9 col16\" >211442196.000000</td>\n",
       "      <td id=\"T_f9a2b_row9_col17\" class=\"data row9 col17\" >12921.484375</td>\n",
       "      <td id=\"T_f9a2b_row9_col18\" class=\"data row9 col18\" >221184.000000</td>\n",
       "      <td id=\"T_f9a2b_row9_col19\" class=\"data row9 col19\" >104276480.000000</td>\n",
       "      <td id=\"T_f9a2b_row9_col20\" class=\"data row9 col20\" >0.038342</td>\n",
       "      <td id=\"T_f9a2b_row9_col21\" class=\"data row9 col21\" >3219970.000000</td>\n",
       "      <td id=\"T_f9a2b_row9_col22\" class=\"data row9 col22\" >21888.000000</td>\n",
       "      <td id=\"T_f9a2b_row9_col23\" class=\"data row9 col23\" >12477.226562</td>\n",
       "      <td id=\"T_f9a2b_row9_col24\" class=\"data row9 col24\" >12776680.000000</td>\n",
       "      <td id=\"T_f9a2b_row9_col25\" class=\"data row9 col25\" >0.000000</td>\n",
       "      <td id=\"T_f9a2b_row9_col26\" class=\"data row9 col26\" >3401.656250</td>\n",
       "      <td id=\"T_f9a2b_row9_col27\" class=\"data row9 col27\" >3483296.000000</td>\n",
       "      <td id=\"T_f9a2b_row9_col28\" class=\"data row9 col28\" >978132.000000</td>\n",
       "      <td id=\"T_f9a2b_row9_col29\" class=\"data row9 col29\" >0.000000</td>\n",
       "      <td id=\"T_f9a2b_row9_col30\" class=\"data row9 col30\" >315076.000000</td>\n",
       "      <td id=\"T_f9a2b_row9_col31\" class=\"data row9 col31\" >[]</td>\n",
       "      <td id=\"T_f9a2b_row9_col32\" class=\"data row9 col32\" >2023-02-05T21:14:22</td>\n",
       "      <td id=\"T_f9a2b_row9_col33\" class=\"data row9 col33\" >['susbrock', 'model_DB', 'du0odk9c']</td>\n",
       "      <td id=\"T_f9a2b_row9_col34\" class=\"data row9 col34\" >None</td>\n",
       "    </tr>\n",
       "  </tbody>\n",
       "</table>\n"
      ],
      "text/plain": [
       "<pandas.io.formats.style.Styler at 0x26e411234c0>"
      ]
     },
     "execution_count": 9,
     "metadata": {},
     "output_type": "execute_result"
    }
   ],
   "source": [
    "df  = wandb_model_DB()\n",
    "df.head(10).style.format({'url': make_clickable}).applymap(color_state, subset=[\"state\"])"
   ]
  },
  {
   "cell_type": "code",
   "execution_count": 14,
   "metadata": {},
   "outputs": [],
   "source": [
    "architecture = \"mobilenetv2_0.5_96_c3_o2_l5\""
   ]
  },
  {
   "cell_type": "code",
   "execution_count": 116,
   "metadata": {},
   "outputs": [],
   "source": [
    "mbnv2 = [\"mobilenetv2_0.25_96_c3_o2_l5\",\n",
    "        \"mobilenetv2_0.35_96_c3_o2_l5\",\n",
    "        \"mobilenetv2_0.5_96_c3_o2_l5\",\n",
    "        \"mobilenetv2_1_96_c3_o2_l5\",\n",
    "         ]"
   ]
  },
  {
   "cell_type": "code",
   "execution_count": 118,
   "metadata": {},
   "outputs": [
    {
     "name": "stderr",
     "output_type": "stream",
     "text": [
      "C:\\Users\\Susanne\\AppData\\Local\\Temp\\ipykernel_13512\\3431866003.py:2: SettingWithCopyWarning:\n",
      "\n",
      "\n",
      "A value is trying to be set on a copy of a slice from a DataFrame\n",
      "\n",
      "See the caveats in the documentation: https://pandas.pydata.org/pandas-docs/stable/user_guide/indexing.html#returning-a-view-versus-a-copy\n",
      "\n"
     ]
    },
    {
     "data": {
      "text/html": [
       "<div>\n",
       "<style scoped>\n",
       "    .dataframe tbody tr th:only-of-type {\n",
       "        vertical-align: middle;\n",
       "    }\n",
       "\n",
       "    .dataframe tbody tr th {\n",
       "        vertical-align: top;\n",
       "    }\n",
       "\n",
       "    .dataframe thead th {\n",
       "        text-align: right;\n",
       "    }\n",
       "</style>\n",
       "<table border=\"1\" class=\"dataframe\">\n",
       "  <thead>\n",
       "    <tr style=\"text-align: right;\">\n",
       "      <th></th>\n",
       "      <th>id</th>\n",
       "      <th>run_name</th>\n",
       "      <th>state</th>\n",
       "      <th>MACs</th>\n",
       "      <th>url</th>\n",
       "      <th>architecture</th>\n",
       "      <th>FLOPs</th>\n",
       "      <th>alpha</th>\n",
       "      <th>classes</th>\n",
       "      <th>img_res</th>\n",
       "      <th>OPS_mltk</th>\n",
       "      <th>channels</th>\n",
       "      <th>macs_mltk</th>\n",
       "      <th>variation</th>\n",
       "      <th>energy_mltk</th>\n",
       "      <th>total_params</th>\n",
       "      <th>OPS_INT8_mltk</th>\n",
       "      <th>model_size_kb</th>\n",
       "      <th>peak_memory_b</th>\n",
       "      <th>macs_INT8_mltk</th>\n",
       "      <th>energy_INT8_mltk</th>\n",
       "      <th>trainable_params</th>\n",
       "      <th>non_trainable_params</th>\n",
       "      <th>tflite_model_size_kb</th>\n",
       "      <th>flash_model_size_b_mltk</th>\n",
       "      <th>n_unsupported_layers_mltk</th>\n",
       "      <th>tflite_model_INT8_size_kb</th>\n",
       "      <th>flash_model_size_b__INT8_mltk</th>\n",
       "      <th>RAM_runtime_memory_size_b_mltk</th>\n",
       "      <th>n_unsupported_layers_INT8_mltk</th>\n",
       "      <th>RAM_runtime_memory_size_b_INT8_mltk</th>\n",
       "      <th>tags</th>\n",
       "      <th>created_at</th>\n",
       "      <th>path</th>\n",
       "      <th>notes</th>\n",
       "    </tr>\n",
       "  </thead>\n",
       "  <tbody>\n",
       "    <tr>\n",
       "      <th>3</th>\n",
       "      <td>to56zsaq</td>\n",
       "      <td>mobilenetv2_0.25_96_c3_o2_l5</td>\n",
       "      <td>finished</td>\n",
       "      <td>5.219 M</td>\n",
       "      <td>https://wandb.ai/susbrock/model_DB/runs/to56zsaq</td>\n",
       "      <td>mobilenetv2_0.25_96_c3_o2_l5</td>\n",
       "      <td>11.025 M</td>\n",
       "      <td>0.25</td>\n",
       "      <td>2.0</td>\n",
       "      <td>96.0</td>\n",
       "      <td>11340308.0</td>\n",
       "      <td>3.0</td>\n",
       "      <td>5218528.0</td>\n",
       "      <td>l5</td>\n",
       "      <td>0.006065</td>\n",
       "      <td>249322.0</td>\n",
       "      <td>11450908.0</td>\n",
       "      <td>1434.203125</td>\n",
       "      <td>69120.0</td>\n",
       "      <td>5218528.0</td>\n",
       "      <td>0.006264</td>\n",
       "      <td>238874.0</td>\n",
       "      <td>10448.0</td>\n",
       "      <td>930.808594</td>\n",
       "      <td>953148.0</td>\n",
       "      <td>0.0</td>\n",
       "      <td>393.523438</td>\n",
       "      <td>402968.0</td>\n",
       "      <td>329296.0</td>\n",
       "      <td>0.0</td>\n",
       "      <td>127824.0</td>\n",
       "      <td>[]</td>\n",
       "      <td>2023-02-10T20:36:28</td>\n",
       "      <td>[susbrock, model_DB, to56zsaq]</td>\n",
       "      <td>None</td>\n",
       "    </tr>\n",
       "    <tr>\n",
       "      <th>2</th>\n",
       "      <td>muldcf5s</td>\n",
       "      <td>mobilenetv2_0.35_96_c3_o2_l5</td>\n",
       "      <td>finished</td>\n",
       "      <td>9.009 M</td>\n",
       "      <td>https://wandb.ai/susbrock/model_DB/runs/muldcf5s</td>\n",
       "      <td>mobilenetv2_0.35_96_c3_o2_l5</td>\n",
       "      <td>18.841 M</td>\n",
       "      <td>0.35</td>\n",
       "      <td>2.0</td>\n",
       "      <td>96.0</td>\n",
       "      <td>19280558.0</td>\n",
       "      <td>3.0</td>\n",
       "      <td>9008662.0</td>\n",
       "      <td>l5</td>\n",
       "      <td>0.009435</td>\n",
       "      <td>402934.0</td>\n",
       "      <td>19391158.0</td>\n",
       "      <td>2037.148438</td>\n",
       "      <td>86400.0</td>\n",
       "      <td>9008662.0</td>\n",
       "      <td>0.009635</td>\n",
       "      <td>389452.0</td>\n",
       "      <td>13482.0</td>\n",
       "      <td>1508.500000</td>\n",
       "      <td>1544704.0</td>\n",
       "      <td>0.0</td>\n",
       "      <td>574.335938</td>\n",
       "      <td>588120.0</td>\n",
       "      <td>410936.0</td>\n",
       "      <td>0.0</td>\n",
       "      <td>153104.0</td>\n",
       "      <td>[]</td>\n",
       "      <td>2023-02-10T20:38:34</td>\n",
       "      <td>[susbrock, model_DB, muldcf5s]</td>\n",
       "      <td>None</td>\n",
       "    </tr>\n",
       "    <tr>\n",
       "      <th>1</th>\n",
       "      <td>4vjie1qp</td>\n",
       "      <td>mobilenetv2_0.5_96_c3_o2_l5</td>\n",
       "      <td>finished</td>\n",
       "      <td>16.125 M</td>\n",
       "      <td>https://wandb.ai/susbrock/model_DB/runs/4vjie1qp</td>\n",
       "      <td>mobilenetv2_0.5_96_c3_o2_l5</td>\n",
       "      <td>33.404 M</td>\n",
       "      <td>0.50</td>\n",
       "      <td>2.0</td>\n",
       "      <td>96.0</td>\n",
       "      <td>34022684.0</td>\n",
       "      <td>3.0</td>\n",
       "      <td>16125376.0</td>\n",
       "      <td>l5</td>\n",
       "      <td>0.014656</td>\n",
       "      <td>705346.0</td>\n",
       "      <td>34133284.0</td>\n",
       "      <td>3218.109375</td>\n",
       "      <td>138240.0</td>\n",
       "      <td>16125376.0</td>\n",
       "      <td>0.014855</td>\n",
       "      <td>687010.0</td>\n",
       "      <td>18336.0</td>\n",
       "      <td>2653.425781</td>\n",
       "      <td>2717108.0</td>\n",
       "      <td>0.0</td>\n",
       "      <td>918.789062</td>\n",
       "      <td>940840.0</td>\n",
       "      <td>637264.0</td>\n",
       "      <td>0.0</td>\n",
       "      <td>224216.0</td>\n",
       "      <td>[]</td>\n",
       "      <td>2023-02-10T20:40:36</td>\n",
       "      <td>[susbrock, model_DB, 4vjie1qp]</td>\n",
       "      <td>None</td>\n",
       "    </tr>\n",
       "    <tr>\n",
       "      <th>4</th>\n",
       "      <td>27bt3quc</td>\n",
       "      <td>mobilenetv2_1_96_c3_o2_l5</td>\n",
       "      <td>finished</td>\n",
       "      <td>55.012 M</td>\n",
       "      <td>https://wandb.ai/susbrock/model_DB/runs/27bt3quc</td>\n",
       "      <td>mobilenetv2_1_96_c3_o2_l5</td>\n",
       "      <td>112.306 M</td>\n",
       "      <td>1.00</td>\n",
       "      <td>2.0</td>\n",
       "      <td>96.0</td>\n",
       "      <td>113532716.0</td>\n",
       "      <td>3.0</td>\n",
       "      <td>55011712.0</td>\n",
       "      <td>l5</td>\n",
       "      <td>0.040875</td>\n",
       "      <td>2260546.0</td>\n",
       "      <td>113643316.0</td>\n",
       "      <td>9293.617188</td>\n",
       "      <td>276480.0</td>\n",
       "      <td>55011712.0</td>\n",
       "      <td>0.041074</td>\n",
       "      <td>2226434.0</td>\n",
       "      <td>34112.0</td>\n",
       "      <td>8610.972656</td>\n",
       "      <td>8817636.0</td>\n",
       "      <td>0.0</td>\n",
       "      <td>2597.398438</td>\n",
       "      <td>2659736.0</td>\n",
       "      <td>1253440.0</td>\n",
       "      <td>0.0</td>\n",
       "      <td>426456.0</td>\n",
       "      <td>[]</td>\n",
       "      <td>2023-02-10T20:33:30</td>\n",
       "      <td>[susbrock, model_DB, 27bt3quc]</td>\n",
       "      <td>None</td>\n",
       "    </tr>\n",
       "  </tbody>\n",
       "</table>\n",
       "</div>"
      ],
      "text/plain": [
       "         id                      run_name     state      MACs  \\\n",
       "3  to56zsaq  mobilenetv2_0.25_96_c3_o2_l5  finished   5.219 M   \n",
       "2  muldcf5s  mobilenetv2_0.35_96_c3_o2_l5  finished   9.009 M   \n",
       "1  4vjie1qp   mobilenetv2_0.5_96_c3_o2_l5  finished  16.125 M   \n",
       "4  27bt3quc     mobilenetv2_1_96_c3_o2_l5  finished  55.012 M   \n",
       "\n",
       "                                                url  \\\n",
       "3  https://wandb.ai/susbrock/model_DB/runs/to56zsaq   \n",
       "2  https://wandb.ai/susbrock/model_DB/runs/muldcf5s   \n",
       "1  https://wandb.ai/susbrock/model_DB/runs/4vjie1qp   \n",
       "4  https://wandb.ai/susbrock/model_DB/runs/27bt3quc   \n",
       "\n",
       "                   architecture      FLOPs  alpha  classes  img_res  \\\n",
       "3  mobilenetv2_0.25_96_c3_o2_l5   11.025 M   0.25      2.0     96.0   \n",
       "2  mobilenetv2_0.35_96_c3_o2_l5   18.841 M   0.35      2.0     96.0   \n",
       "1   mobilenetv2_0.5_96_c3_o2_l5   33.404 M   0.50      2.0     96.0   \n",
       "4     mobilenetv2_1_96_c3_o2_l5  112.306 M   1.00      2.0     96.0   \n",
       "\n",
       "      OPS_mltk  channels   macs_mltk variation  energy_mltk  total_params  \\\n",
       "3   11340308.0       3.0   5218528.0        l5     0.006065      249322.0   \n",
       "2   19280558.0       3.0   9008662.0        l5     0.009435      402934.0   \n",
       "1   34022684.0       3.0  16125376.0        l5     0.014656      705346.0   \n",
       "4  113532716.0       3.0  55011712.0        l5     0.040875     2260546.0   \n",
       "\n",
       "   OPS_INT8_mltk  model_size_kb  peak_memory_b  macs_INT8_mltk  \\\n",
       "3     11450908.0    1434.203125        69120.0       5218528.0   \n",
       "2     19391158.0    2037.148438        86400.0       9008662.0   \n",
       "1     34133284.0    3218.109375       138240.0      16125376.0   \n",
       "4    113643316.0    9293.617188       276480.0      55011712.0   \n",
       "\n",
       "   energy_INT8_mltk  trainable_params  non_trainable_params  \\\n",
       "3          0.006264          238874.0               10448.0   \n",
       "2          0.009635          389452.0               13482.0   \n",
       "1          0.014855          687010.0               18336.0   \n",
       "4          0.041074         2226434.0               34112.0   \n",
       "\n",
       "   tflite_model_size_kb  flash_model_size_b_mltk  n_unsupported_layers_mltk  \\\n",
       "3            930.808594                 953148.0                        0.0   \n",
       "2           1508.500000                1544704.0                        0.0   \n",
       "1           2653.425781                2717108.0                        0.0   \n",
       "4           8610.972656                8817636.0                        0.0   \n",
       "\n",
       "   tflite_model_INT8_size_kb  flash_model_size_b__INT8_mltk  \\\n",
       "3                 393.523438                       402968.0   \n",
       "2                 574.335938                       588120.0   \n",
       "1                 918.789062                       940840.0   \n",
       "4                2597.398438                      2659736.0   \n",
       "\n",
       "   RAM_runtime_memory_size_b_mltk  n_unsupported_layers_INT8_mltk  \\\n",
       "3                        329296.0                             0.0   \n",
       "2                        410936.0                             0.0   \n",
       "1                        637264.0                             0.0   \n",
       "4                       1253440.0                             0.0   \n",
       "\n",
       "   RAM_runtime_memory_size_b_INT8_mltk tags           created_at  \\\n",
       "3                             127824.0   []  2023-02-10T20:36:28   \n",
       "2                             153104.0   []  2023-02-10T20:38:34   \n",
       "1                             224216.0   []  2023-02-10T20:40:36   \n",
       "4                             426456.0   []  2023-02-10T20:33:30   \n",
       "\n",
       "                             path notes  \n",
       "3  [susbrock, model_DB, to56zsaq]  None  \n",
       "2  [susbrock, model_DB, muldcf5s]  None  \n",
       "1  [susbrock, model_DB, 4vjie1qp]  None  \n",
       "4  [susbrock, model_DB, 27bt3quc]  None  "
      ]
     },
     "execution_count": 118,
     "metadata": {},
     "output_type": "execute_result"
    }
   ],
   "source": [
    "mbnv2_df = df.query(\"architecture in @mbnv2\")\n",
    "mbnv2_df.sort_values(by=\"alpha\", ascending=True, inplace=True)\n",
    "mbnv2_df"
   ]
  },
  {
   "cell_type": "code",
   "execution_count": 135,
   "metadata": {},
   "outputs": [
    {
     "name": "stderr",
     "output_type": "stream",
     "text": [
      "C:\\Users\\Susanne\\AppData\\Local\\Temp\\ipykernel_13512\\3639608590.py:1: SettingWithCopyWarning:\n",
      "\n",
      "\n",
      "A value is trying to be set on a copy of a slice from a DataFrame.\n",
      "Try using .loc[row_indexer,col_indexer] = value instead\n",
      "\n",
      "See the caveats in the documentation: https://pandas.pydata.org/pandas-docs/stable/user_guide/indexing.html#returning-a-view-versus-a-copy\n",
      "\n"
     ]
    },
    {
     "data": {
      "application/vnd.plotly.v1+json": {
       "config": {
        "plotlyServerURL": "https://plot.ly"
       },
       "data": [
        {
         "hovertemplate": "alpha=0.25<br>parameters=%{x}<br>MACs=%{y}<br>tflite_model_INT8_size_kb=%{marker.size}<extra></extra>",
         "legendgroup": "0.25",
         "marker": {
          "color": "#636efa",
          "size": [
           393.5234375
          ],
          "sizemode": "area",
          "sizeref": 6.49349609375,
          "symbol": "circle"
         },
         "mode": "markers",
         "name": "0.25",
         "orientation": "v",
         "showlegend": true,
         "type": "scatter",
         "x": [
          249322
         ],
         "xaxis": "x",
         "y": [
          5218528
         ],
         "yaxis": "y"
        },
        {
         "hovertemplate": "alpha=0.35<br>parameters=%{x}<br>MACs=%{y}<br>tflite_model_INT8_size_kb=%{marker.size}<extra></extra>",
         "legendgroup": "0.35",
         "marker": {
          "color": "#EF553B",
          "size": [
           574.3359375
          ],
          "sizemode": "area",
          "sizeref": 6.49349609375,
          "symbol": "circle"
         },
         "mode": "markers",
         "name": "0.35",
         "orientation": "v",
         "showlegend": true,
         "type": "scatter",
         "x": [
          402934
         ],
         "xaxis": "x",
         "y": [
          9008662
         ],
         "yaxis": "y"
        },
        {
         "hovertemplate": "alpha=0.5<br>parameters=%{x}<br>MACs=%{y}<br>tflite_model_INT8_size_kb=%{marker.size}<extra></extra>",
         "legendgroup": "0.5",
         "marker": {
          "color": "#00cc96",
          "size": [
           918.7890625
          ],
          "sizemode": "area",
          "sizeref": 6.49349609375,
          "symbol": "circle"
         },
         "mode": "markers",
         "name": "0.5",
         "orientation": "v",
         "showlegend": true,
         "type": "scatter",
         "x": [
          705346
         ],
         "xaxis": "x",
         "y": [
          16125376
         ],
         "yaxis": "y"
        },
        {
         "hovertemplate": "alpha=1.0<br>parameters=%{x}<br>MACs=%{y}<br>tflite_model_INT8_size_kb=%{marker.size}<extra></extra>",
         "legendgroup": "1.0",
         "marker": {
          "color": "#ab63fa",
          "size": [
           2597.3984375
          ],
          "sizemode": "area",
          "sizeref": 6.49349609375,
          "symbol": "circle"
         },
         "mode": "markers",
         "name": "1.0",
         "orientation": "v",
         "showlegend": true,
         "type": "scatter",
         "x": [
          2260546
         ],
         "xaxis": "x",
         "y": [
          55011712
         ],
         "yaxis": "y"
        }
       ],
       "layout": {
        "height": 400,
        "legend": {
         "itemsizing": "constant",
         "title": {
          "text": "alpha"
         },
         "tracegroupgap": 0
        },
        "showlegend": true,
        "template": {
         "data": {
          "bar": [
           {
            "error_x": {
             "color": "#2a3f5f"
            },
            "error_y": {
             "color": "#2a3f5f"
            },
            "marker": {
             "line": {
              "color": "#E5ECF6",
              "width": 0.5
             },
             "pattern": {
              "fillmode": "overlay",
              "size": 10,
              "solidity": 0.2
             }
            },
            "type": "bar"
           }
          ],
          "barpolar": [
           {
            "marker": {
             "line": {
              "color": "#E5ECF6",
              "width": 0.5
             },
             "pattern": {
              "fillmode": "overlay",
              "size": 10,
              "solidity": 0.2
             }
            },
            "type": "barpolar"
           }
          ],
          "carpet": [
           {
            "aaxis": {
             "endlinecolor": "#2a3f5f",
             "gridcolor": "white",
             "linecolor": "white",
             "minorgridcolor": "white",
             "startlinecolor": "#2a3f5f"
            },
            "baxis": {
             "endlinecolor": "#2a3f5f",
             "gridcolor": "white",
             "linecolor": "white",
             "minorgridcolor": "white",
             "startlinecolor": "#2a3f5f"
            },
            "type": "carpet"
           }
          ],
          "choropleth": [
           {
            "colorbar": {
             "outlinewidth": 0,
             "ticks": ""
            },
            "type": "choropleth"
           }
          ],
          "contour": [
           {
            "colorbar": {
             "outlinewidth": 0,
             "ticks": ""
            },
            "colorscale": [
             [
              0,
              "#0d0887"
             ],
             [
              0.1111111111111111,
              "#46039f"
             ],
             [
              0.2222222222222222,
              "#7201a8"
             ],
             [
              0.3333333333333333,
              "#9c179e"
             ],
             [
              0.4444444444444444,
              "#bd3786"
             ],
             [
              0.5555555555555556,
              "#d8576b"
             ],
             [
              0.6666666666666666,
              "#ed7953"
             ],
             [
              0.7777777777777778,
              "#fb9f3a"
             ],
             [
              0.8888888888888888,
              "#fdca26"
             ],
             [
              1,
              "#f0f921"
             ]
            ],
            "type": "contour"
           }
          ],
          "contourcarpet": [
           {
            "colorbar": {
             "outlinewidth": 0,
             "ticks": ""
            },
            "type": "contourcarpet"
           }
          ],
          "heatmap": [
           {
            "colorbar": {
             "outlinewidth": 0,
             "ticks": ""
            },
            "colorscale": [
             [
              0,
              "#0d0887"
             ],
             [
              0.1111111111111111,
              "#46039f"
             ],
             [
              0.2222222222222222,
              "#7201a8"
             ],
             [
              0.3333333333333333,
              "#9c179e"
             ],
             [
              0.4444444444444444,
              "#bd3786"
             ],
             [
              0.5555555555555556,
              "#d8576b"
             ],
             [
              0.6666666666666666,
              "#ed7953"
             ],
             [
              0.7777777777777778,
              "#fb9f3a"
             ],
             [
              0.8888888888888888,
              "#fdca26"
             ],
             [
              1,
              "#f0f921"
             ]
            ],
            "type": "heatmap"
           }
          ],
          "heatmapgl": [
           {
            "colorbar": {
             "outlinewidth": 0,
             "ticks": ""
            },
            "colorscale": [
             [
              0,
              "#0d0887"
             ],
             [
              0.1111111111111111,
              "#46039f"
             ],
             [
              0.2222222222222222,
              "#7201a8"
             ],
             [
              0.3333333333333333,
              "#9c179e"
             ],
             [
              0.4444444444444444,
              "#bd3786"
             ],
             [
              0.5555555555555556,
              "#d8576b"
             ],
             [
              0.6666666666666666,
              "#ed7953"
             ],
             [
              0.7777777777777778,
              "#fb9f3a"
             ],
             [
              0.8888888888888888,
              "#fdca26"
             ],
             [
              1,
              "#f0f921"
             ]
            ],
            "type": "heatmapgl"
           }
          ],
          "histogram": [
           {
            "marker": {
             "pattern": {
              "fillmode": "overlay",
              "size": 10,
              "solidity": 0.2
             }
            },
            "type": "histogram"
           }
          ],
          "histogram2d": [
           {
            "colorbar": {
             "outlinewidth": 0,
             "ticks": ""
            },
            "colorscale": [
             [
              0,
              "#0d0887"
             ],
             [
              0.1111111111111111,
              "#46039f"
             ],
             [
              0.2222222222222222,
              "#7201a8"
             ],
             [
              0.3333333333333333,
              "#9c179e"
             ],
             [
              0.4444444444444444,
              "#bd3786"
             ],
             [
              0.5555555555555556,
              "#d8576b"
             ],
             [
              0.6666666666666666,
              "#ed7953"
             ],
             [
              0.7777777777777778,
              "#fb9f3a"
             ],
             [
              0.8888888888888888,
              "#fdca26"
             ],
             [
              1,
              "#f0f921"
             ]
            ],
            "type": "histogram2d"
           }
          ],
          "histogram2dcontour": [
           {
            "colorbar": {
             "outlinewidth": 0,
             "ticks": ""
            },
            "colorscale": [
             [
              0,
              "#0d0887"
             ],
             [
              0.1111111111111111,
              "#46039f"
             ],
             [
              0.2222222222222222,
              "#7201a8"
             ],
             [
              0.3333333333333333,
              "#9c179e"
             ],
             [
              0.4444444444444444,
              "#bd3786"
             ],
             [
              0.5555555555555556,
              "#d8576b"
             ],
             [
              0.6666666666666666,
              "#ed7953"
             ],
             [
              0.7777777777777778,
              "#fb9f3a"
             ],
             [
              0.8888888888888888,
              "#fdca26"
             ],
             [
              1,
              "#f0f921"
             ]
            ],
            "type": "histogram2dcontour"
           }
          ],
          "mesh3d": [
           {
            "colorbar": {
             "outlinewidth": 0,
             "ticks": ""
            },
            "type": "mesh3d"
           }
          ],
          "parcoords": [
           {
            "line": {
             "colorbar": {
              "outlinewidth": 0,
              "ticks": ""
             }
            },
            "type": "parcoords"
           }
          ],
          "pie": [
           {
            "automargin": true,
            "type": "pie"
           }
          ],
          "scatter": [
           {
            "fillpattern": {
             "fillmode": "overlay",
             "size": 10,
             "solidity": 0.2
            },
            "type": "scatter"
           }
          ],
          "scatter3d": [
           {
            "line": {
             "colorbar": {
              "outlinewidth": 0,
              "ticks": ""
             }
            },
            "marker": {
             "colorbar": {
              "outlinewidth": 0,
              "ticks": ""
             }
            },
            "type": "scatter3d"
           }
          ],
          "scattercarpet": [
           {
            "marker": {
             "colorbar": {
              "outlinewidth": 0,
              "ticks": ""
             }
            },
            "type": "scattercarpet"
           }
          ],
          "scattergeo": [
           {
            "marker": {
             "colorbar": {
              "outlinewidth": 0,
              "ticks": ""
             }
            },
            "type": "scattergeo"
           }
          ],
          "scattergl": [
           {
            "marker": {
             "colorbar": {
              "outlinewidth": 0,
              "ticks": ""
             }
            },
            "type": "scattergl"
           }
          ],
          "scattermapbox": [
           {
            "marker": {
             "colorbar": {
              "outlinewidth": 0,
              "ticks": ""
             }
            },
            "type": "scattermapbox"
           }
          ],
          "scatterpolar": [
           {
            "marker": {
             "colorbar": {
              "outlinewidth": 0,
              "ticks": ""
             }
            },
            "type": "scatterpolar"
           }
          ],
          "scatterpolargl": [
           {
            "marker": {
             "colorbar": {
              "outlinewidth": 0,
              "ticks": ""
             }
            },
            "type": "scatterpolargl"
           }
          ],
          "scatterternary": [
           {
            "marker": {
             "colorbar": {
              "outlinewidth": 0,
              "ticks": ""
             }
            },
            "type": "scatterternary"
           }
          ],
          "surface": [
           {
            "colorbar": {
             "outlinewidth": 0,
             "ticks": ""
            },
            "colorscale": [
             [
              0,
              "#0d0887"
             ],
             [
              0.1111111111111111,
              "#46039f"
             ],
             [
              0.2222222222222222,
              "#7201a8"
             ],
             [
              0.3333333333333333,
              "#9c179e"
             ],
             [
              0.4444444444444444,
              "#bd3786"
             ],
             [
              0.5555555555555556,
              "#d8576b"
             ],
             [
              0.6666666666666666,
              "#ed7953"
             ],
             [
              0.7777777777777778,
              "#fb9f3a"
             ],
             [
              0.8888888888888888,
              "#fdca26"
             ],
             [
              1,
              "#f0f921"
             ]
            ],
            "type": "surface"
           }
          ],
          "table": [
           {
            "cells": {
             "fill": {
              "color": "#EBF0F8"
             },
             "line": {
              "color": "white"
             }
            },
            "header": {
             "fill": {
              "color": "#C8D4E3"
             },
             "line": {
              "color": "white"
             }
            },
            "type": "table"
           }
          ]
         },
         "layout": {
          "annotationdefaults": {
           "arrowcolor": "#2a3f5f",
           "arrowhead": 0,
           "arrowwidth": 1
          },
          "autotypenumbers": "strict",
          "coloraxis": {
           "colorbar": {
            "outlinewidth": 0,
            "ticks": ""
           }
          },
          "colorscale": {
           "diverging": [
            [
             0,
             "#8e0152"
            ],
            [
             0.1,
             "#c51b7d"
            ],
            [
             0.2,
             "#de77ae"
            ],
            [
             0.3,
             "#f1b6da"
            ],
            [
             0.4,
             "#fde0ef"
            ],
            [
             0.5,
             "#f7f7f7"
            ],
            [
             0.6,
             "#e6f5d0"
            ],
            [
             0.7,
             "#b8e186"
            ],
            [
             0.8,
             "#7fbc41"
            ],
            [
             0.9,
             "#4d9221"
            ],
            [
             1,
             "#276419"
            ]
           ],
           "sequential": [
            [
             0,
             "#0d0887"
            ],
            [
             0.1111111111111111,
             "#46039f"
            ],
            [
             0.2222222222222222,
             "#7201a8"
            ],
            [
             0.3333333333333333,
             "#9c179e"
            ],
            [
             0.4444444444444444,
             "#bd3786"
            ],
            [
             0.5555555555555556,
             "#d8576b"
            ],
            [
             0.6666666666666666,
             "#ed7953"
            ],
            [
             0.7777777777777778,
             "#fb9f3a"
            ],
            [
             0.8888888888888888,
             "#fdca26"
            ],
            [
             1,
             "#f0f921"
            ]
           ],
           "sequentialminus": [
            [
             0,
             "#0d0887"
            ],
            [
             0.1111111111111111,
             "#46039f"
            ],
            [
             0.2222222222222222,
             "#7201a8"
            ],
            [
             0.3333333333333333,
             "#9c179e"
            ],
            [
             0.4444444444444444,
             "#bd3786"
            ],
            [
             0.5555555555555556,
             "#d8576b"
            ],
            [
             0.6666666666666666,
             "#ed7953"
            ],
            [
             0.7777777777777778,
             "#fb9f3a"
            ],
            [
             0.8888888888888888,
             "#fdca26"
            ],
            [
             1,
             "#f0f921"
            ]
           ]
          },
          "colorway": [
           "#636efa",
           "#EF553B",
           "#00cc96",
           "#ab63fa",
           "#FFA15A",
           "#19d3f3",
           "#FF6692",
           "#B6E880",
           "#FF97FF",
           "#FECB52"
          ],
          "font": {
           "color": "#2a3f5f"
          },
          "geo": {
           "bgcolor": "white",
           "lakecolor": "white",
           "landcolor": "#E5ECF6",
           "showlakes": true,
           "showland": true,
           "subunitcolor": "white"
          },
          "hoverlabel": {
           "align": "left"
          },
          "hovermode": "closest",
          "mapbox": {
           "style": "light"
          },
          "paper_bgcolor": "white",
          "plot_bgcolor": "#E5ECF6",
          "polar": {
           "angularaxis": {
            "gridcolor": "white",
            "linecolor": "white",
            "ticks": ""
           },
           "bgcolor": "#E5ECF6",
           "radialaxis": {
            "gridcolor": "white",
            "linecolor": "white",
            "ticks": ""
           }
          },
          "scene": {
           "xaxis": {
            "backgroundcolor": "#E5ECF6",
            "gridcolor": "white",
            "gridwidth": 2,
            "linecolor": "white",
            "showbackground": true,
            "ticks": "",
            "zerolinecolor": "white"
           },
           "yaxis": {
            "backgroundcolor": "#E5ECF6",
            "gridcolor": "white",
            "gridwidth": 2,
            "linecolor": "white",
            "showbackground": true,
            "ticks": "",
            "zerolinecolor": "white"
           },
           "zaxis": {
            "backgroundcolor": "#E5ECF6",
            "gridcolor": "white",
            "gridwidth": 2,
            "linecolor": "white",
            "showbackground": true,
            "ticks": "",
            "zerolinecolor": "white"
           }
          },
          "shapedefaults": {
           "line": {
            "color": "#2a3f5f"
           }
          },
          "ternary": {
           "aaxis": {
            "gridcolor": "white",
            "linecolor": "white",
            "ticks": ""
           },
           "baxis": {
            "gridcolor": "white",
            "linecolor": "white",
            "ticks": ""
           },
           "bgcolor": "#E5ECF6",
           "caxis": {
            "gridcolor": "white",
            "linecolor": "white",
            "ticks": ""
           }
          },
          "title": {
           "x": 0.05
          },
          "xaxis": {
           "automargin": true,
           "gridcolor": "white",
           "linecolor": "white",
           "ticks": "",
           "title": {
            "standoff": 15
           },
           "zerolinecolor": "white",
           "zerolinewidth": 2
          },
          "yaxis": {
           "automargin": true,
           "gridcolor": "white",
           "linecolor": "white",
           "ticks": "",
           "title": {
            "standoff": 15
           },
           "zerolinecolor": "white",
           "zerolinewidth": 2
          }
         }
        },
        "title": {
         "text": "MACs vs. total parameters"
        },
        "width": 500,
        "xaxis": {
         "anchor": "y",
         "domain": [
          0,
          1
         ],
         "title": {
          "text": "parameters"
         }
        },
        "yaxis": {
         "anchor": "x",
         "domain": [
          0,
          1
         ],
         "title": {
          "text": "MACs"
         }
        }
       }
      },
      "text/html": [
       "<div>                            <div id=\"6b6e09cd-b193-4732-8bc8-31312802415f\" class=\"plotly-graph-div\" style=\"height:400px; width:500px;\"></div>            <script type=\"text/javascript\">                require([\"plotly\"], function(Plotly) {                    window.PLOTLYENV=window.PLOTLYENV || {};                                    if (document.getElementById(\"6b6e09cd-b193-4732-8bc8-31312802415f\")) {                    Plotly.newPlot(                        \"6b6e09cd-b193-4732-8bc8-31312802415f\",                        [{\"hovertemplate\":\"alpha=0.25<br>parameters=%{x}<br>MACs=%{y}<br>tflite_model_INT8_size_kb=%{marker.size}<extra></extra>\",\"legendgroup\":\"0.25\",\"marker\":{\"color\":\"#636efa\",\"size\":[393.5234375],\"sizemode\":\"area\",\"sizeref\":6.49349609375,\"symbol\":\"circle\"},\"mode\":\"markers\",\"name\":\"0.25\",\"orientation\":\"v\",\"showlegend\":true,\"x\":[249322.0],\"xaxis\":\"x\",\"y\":[5218528.0],\"yaxis\":\"y\",\"type\":\"scatter\"},{\"hovertemplate\":\"alpha=0.35<br>parameters=%{x}<br>MACs=%{y}<br>tflite_model_INT8_size_kb=%{marker.size}<extra></extra>\",\"legendgroup\":\"0.35\",\"marker\":{\"color\":\"#EF553B\",\"size\":[574.3359375],\"sizemode\":\"area\",\"sizeref\":6.49349609375,\"symbol\":\"circle\"},\"mode\":\"markers\",\"name\":\"0.35\",\"orientation\":\"v\",\"showlegend\":true,\"x\":[402934.0],\"xaxis\":\"x\",\"y\":[9008662.0],\"yaxis\":\"y\",\"type\":\"scatter\"},{\"hovertemplate\":\"alpha=0.5<br>parameters=%{x}<br>MACs=%{y}<br>tflite_model_INT8_size_kb=%{marker.size}<extra></extra>\",\"legendgroup\":\"0.5\",\"marker\":{\"color\":\"#00cc96\",\"size\":[918.7890625],\"sizemode\":\"area\",\"sizeref\":6.49349609375,\"symbol\":\"circle\"},\"mode\":\"markers\",\"name\":\"0.5\",\"orientation\":\"v\",\"showlegend\":true,\"x\":[705346.0],\"xaxis\":\"x\",\"y\":[16125376.0],\"yaxis\":\"y\",\"type\":\"scatter\"},{\"hovertemplate\":\"alpha=1.0<br>parameters=%{x}<br>MACs=%{y}<br>tflite_model_INT8_size_kb=%{marker.size}<extra></extra>\",\"legendgroup\":\"1.0\",\"marker\":{\"color\":\"#ab63fa\",\"size\":[2597.3984375],\"sizemode\":\"area\",\"sizeref\":6.49349609375,\"symbol\":\"circle\"},\"mode\":\"markers\",\"name\":\"1.0\",\"orientation\":\"v\",\"showlegend\":true,\"x\":[2260546.0],\"xaxis\":\"x\",\"y\":[55011712.0],\"yaxis\":\"y\",\"type\":\"scatter\"}],                        {\"template\":{\"data\":{\"histogram2dcontour\":[{\"type\":\"histogram2dcontour\",\"colorbar\":{\"outlinewidth\":0,\"ticks\":\"\"},\"colorscale\":[[0.0,\"#0d0887\"],[0.1111111111111111,\"#46039f\"],[0.2222222222222222,\"#7201a8\"],[0.3333333333333333,\"#9c179e\"],[0.4444444444444444,\"#bd3786\"],[0.5555555555555556,\"#d8576b\"],[0.6666666666666666,\"#ed7953\"],[0.7777777777777778,\"#fb9f3a\"],[0.8888888888888888,\"#fdca26\"],[1.0,\"#f0f921\"]]}],\"choropleth\":[{\"type\":\"choropleth\",\"colorbar\":{\"outlinewidth\":0,\"ticks\":\"\"}}],\"histogram2d\":[{\"type\":\"histogram2d\",\"colorbar\":{\"outlinewidth\":0,\"ticks\":\"\"},\"colorscale\":[[0.0,\"#0d0887\"],[0.1111111111111111,\"#46039f\"],[0.2222222222222222,\"#7201a8\"],[0.3333333333333333,\"#9c179e\"],[0.4444444444444444,\"#bd3786\"],[0.5555555555555556,\"#d8576b\"],[0.6666666666666666,\"#ed7953\"],[0.7777777777777778,\"#fb9f3a\"],[0.8888888888888888,\"#fdca26\"],[1.0,\"#f0f921\"]]}],\"heatmap\":[{\"type\":\"heatmap\",\"colorbar\":{\"outlinewidth\":0,\"ticks\":\"\"},\"colorscale\":[[0.0,\"#0d0887\"],[0.1111111111111111,\"#46039f\"],[0.2222222222222222,\"#7201a8\"],[0.3333333333333333,\"#9c179e\"],[0.4444444444444444,\"#bd3786\"],[0.5555555555555556,\"#d8576b\"],[0.6666666666666666,\"#ed7953\"],[0.7777777777777778,\"#fb9f3a\"],[0.8888888888888888,\"#fdca26\"],[1.0,\"#f0f921\"]]}],\"heatmapgl\":[{\"type\":\"heatmapgl\",\"colorbar\":{\"outlinewidth\":0,\"ticks\":\"\"},\"colorscale\":[[0.0,\"#0d0887\"],[0.1111111111111111,\"#46039f\"],[0.2222222222222222,\"#7201a8\"],[0.3333333333333333,\"#9c179e\"],[0.4444444444444444,\"#bd3786\"],[0.5555555555555556,\"#d8576b\"],[0.6666666666666666,\"#ed7953\"],[0.7777777777777778,\"#fb9f3a\"],[0.8888888888888888,\"#fdca26\"],[1.0,\"#f0f921\"]]}],\"contourcarpet\":[{\"type\":\"contourcarpet\",\"colorbar\":{\"outlinewidth\":0,\"ticks\":\"\"}}],\"contour\":[{\"type\":\"contour\",\"colorbar\":{\"outlinewidth\":0,\"ticks\":\"\"},\"colorscale\":[[0.0,\"#0d0887\"],[0.1111111111111111,\"#46039f\"],[0.2222222222222222,\"#7201a8\"],[0.3333333333333333,\"#9c179e\"],[0.4444444444444444,\"#bd3786\"],[0.5555555555555556,\"#d8576b\"],[0.6666666666666666,\"#ed7953\"],[0.7777777777777778,\"#fb9f3a\"],[0.8888888888888888,\"#fdca26\"],[1.0,\"#f0f921\"]]}],\"surface\":[{\"type\":\"surface\",\"colorbar\":{\"outlinewidth\":0,\"ticks\":\"\"},\"colorscale\":[[0.0,\"#0d0887\"],[0.1111111111111111,\"#46039f\"],[0.2222222222222222,\"#7201a8\"],[0.3333333333333333,\"#9c179e\"],[0.4444444444444444,\"#bd3786\"],[0.5555555555555556,\"#d8576b\"],[0.6666666666666666,\"#ed7953\"],[0.7777777777777778,\"#fb9f3a\"],[0.8888888888888888,\"#fdca26\"],[1.0,\"#f0f921\"]]}],\"mesh3d\":[{\"type\":\"mesh3d\",\"colorbar\":{\"outlinewidth\":0,\"ticks\":\"\"}}],\"scatter\":[{\"fillpattern\":{\"fillmode\":\"overlay\",\"size\":10,\"solidity\":0.2},\"type\":\"scatter\"}],\"parcoords\":[{\"type\":\"parcoords\",\"line\":{\"colorbar\":{\"outlinewidth\":0,\"ticks\":\"\"}}}],\"scatterpolargl\":[{\"type\":\"scatterpolargl\",\"marker\":{\"colorbar\":{\"outlinewidth\":0,\"ticks\":\"\"}}}],\"bar\":[{\"error_x\":{\"color\":\"#2a3f5f\"},\"error_y\":{\"color\":\"#2a3f5f\"},\"marker\":{\"line\":{\"color\":\"#E5ECF6\",\"width\":0.5},\"pattern\":{\"fillmode\":\"overlay\",\"size\":10,\"solidity\":0.2}},\"type\":\"bar\"}],\"scattergeo\":[{\"type\":\"scattergeo\",\"marker\":{\"colorbar\":{\"outlinewidth\":0,\"ticks\":\"\"}}}],\"scatterpolar\":[{\"type\":\"scatterpolar\",\"marker\":{\"colorbar\":{\"outlinewidth\":0,\"ticks\":\"\"}}}],\"histogram\":[{\"marker\":{\"pattern\":{\"fillmode\":\"overlay\",\"size\":10,\"solidity\":0.2}},\"type\":\"histogram\"}],\"scattergl\":[{\"type\":\"scattergl\",\"marker\":{\"colorbar\":{\"outlinewidth\":0,\"ticks\":\"\"}}}],\"scatter3d\":[{\"type\":\"scatter3d\",\"line\":{\"colorbar\":{\"outlinewidth\":0,\"ticks\":\"\"}},\"marker\":{\"colorbar\":{\"outlinewidth\":0,\"ticks\":\"\"}}}],\"scattermapbox\":[{\"type\":\"scattermapbox\",\"marker\":{\"colorbar\":{\"outlinewidth\":0,\"ticks\":\"\"}}}],\"scatterternary\":[{\"type\":\"scatterternary\",\"marker\":{\"colorbar\":{\"outlinewidth\":0,\"ticks\":\"\"}}}],\"scattercarpet\":[{\"type\":\"scattercarpet\",\"marker\":{\"colorbar\":{\"outlinewidth\":0,\"ticks\":\"\"}}}],\"carpet\":[{\"aaxis\":{\"endlinecolor\":\"#2a3f5f\",\"gridcolor\":\"white\",\"linecolor\":\"white\",\"minorgridcolor\":\"white\",\"startlinecolor\":\"#2a3f5f\"},\"baxis\":{\"endlinecolor\":\"#2a3f5f\",\"gridcolor\":\"white\",\"linecolor\":\"white\",\"minorgridcolor\":\"white\",\"startlinecolor\":\"#2a3f5f\"},\"type\":\"carpet\"}],\"table\":[{\"cells\":{\"fill\":{\"color\":\"#EBF0F8\"},\"line\":{\"color\":\"white\"}},\"header\":{\"fill\":{\"color\":\"#C8D4E3\"},\"line\":{\"color\":\"white\"}},\"type\":\"table\"}],\"barpolar\":[{\"marker\":{\"line\":{\"color\":\"#E5ECF6\",\"width\":0.5},\"pattern\":{\"fillmode\":\"overlay\",\"size\":10,\"solidity\":0.2}},\"type\":\"barpolar\"}],\"pie\":[{\"automargin\":true,\"type\":\"pie\"}]},\"layout\":{\"autotypenumbers\":\"strict\",\"colorway\":[\"#636efa\",\"#EF553B\",\"#00cc96\",\"#ab63fa\",\"#FFA15A\",\"#19d3f3\",\"#FF6692\",\"#B6E880\",\"#FF97FF\",\"#FECB52\"],\"font\":{\"color\":\"#2a3f5f\"},\"hovermode\":\"closest\",\"hoverlabel\":{\"align\":\"left\"},\"paper_bgcolor\":\"white\",\"plot_bgcolor\":\"#E5ECF6\",\"polar\":{\"bgcolor\":\"#E5ECF6\",\"angularaxis\":{\"gridcolor\":\"white\",\"linecolor\":\"white\",\"ticks\":\"\"},\"radialaxis\":{\"gridcolor\":\"white\",\"linecolor\":\"white\",\"ticks\":\"\"}},\"ternary\":{\"bgcolor\":\"#E5ECF6\",\"aaxis\":{\"gridcolor\":\"white\",\"linecolor\":\"white\",\"ticks\":\"\"},\"baxis\":{\"gridcolor\":\"white\",\"linecolor\":\"white\",\"ticks\":\"\"},\"caxis\":{\"gridcolor\":\"white\",\"linecolor\":\"white\",\"ticks\":\"\"}},\"coloraxis\":{\"colorbar\":{\"outlinewidth\":0,\"ticks\":\"\"}},\"colorscale\":{\"sequential\":[[0.0,\"#0d0887\"],[0.1111111111111111,\"#46039f\"],[0.2222222222222222,\"#7201a8\"],[0.3333333333333333,\"#9c179e\"],[0.4444444444444444,\"#bd3786\"],[0.5555555555555556,\"#d8576b\"],[0.6666666666666666,\"#ed7953\"],[0.7777777777777778,\"#fb9f3a\"],[0.8888888888888888,\"#fdca26\"],[1.0,\"#f0f921\"]],\"sequentialminus\":[[0.0,\"#0d0887\"],[0.1111111111111111,\"#46039f\"],[0.2222222222222222,\"#7201a8\"],[0.3333333333333333,\"#9c179e\"],[0.4444444444444444,\"#bd3786\"],[0.5555555555555556,\"#d8576b\"],[0.6666666666666666,\"#ed7953\"],[0.7777777777777778,\"#fb9f3a\"],[0.8888888888888888,\"#fdca26\"],[1.0,\"#f0f921\"]],\"diverging\":[[0,\"#8e0152\"],[0.1,\"#c51b7d\"],[0.2,\"#de77ae\"],[0.3,\"#f1b6da\"],[0.4,\"#fde0ef\"],[0.5,\"#f7f7f7\"],[0.6,\"#e6f5d0\"],[0.7,\"#b8e186\"],[0.8,\"#7fbc41\"],[0.9,\"#4d9221\"],[1,\"#276419\"]]},\"xaxis\":{\"gridcolor\":\"white\",\"linecolor\":\"white\",\"ticks\":\"\",\"title\":{\"standoff\":15},\"zerolinecolor\":\"white\",\"automargin\":true,\"zerolinewidth\":2},\"yaxis\":{\"gridcolor\":\"white\",\"linecolor\":\"white\",\"ticks\":\"\",\"title\":{\"standoff\":15},\"zerolinecolor\":\"white\",\"automargin\":true,\"zerolinewidth\":2},\"scene\":{\"xaxis\":{\"backgroundcolor\":\"#E5ECF6\",\"gridcolor\":\"white\",\"linecolor\":\"white\",\"showbackground\":true,\"ticks\":\"\",\"zerolinecolor\":\"white\",\"gridwidth\":2},\"yaxis\":{\"backgroundcolor\":\"#E5ECF6\",\"gridcolor\":\"white\",\"linecolor\":\"white\",\"showbackground\":true,\"ticks\":\"\",\"zerolinecolor\":\"white\",\"gridwidth\":2},\"zaxis\":{\"backgroundcolor\":\"#E5ECF6\",\"gridcolor\":\"white\",\"linecolor\":\"white\",\"showbackground\":true,\"ticks\":\"\",\"zerolinecolor\":\"white\",\"gridwidth\":2}},\"shapedefaults\":{\"line\":{\"color\":\"#2a3f5f\"}},\"annotationdefaults\":{\"arrowcolor\":\"#2a3f5f\",\"arrowhead\":0,\"arrowwidth\":1},\"geo\":{\"bgcolor\":\"white\",\"landcolor\":\"#E5ECF6\",\"subunitcolor\":\"white\",\"showland\":true,\"showlakes\":true,\"lakecolor\":\"white\"},\"title\":{\"x\":0.05},\"mapbox\":{\"style\":\"light\"}}},\"xaxis\":{\"anchor\":\"y\",\"domain\":[0.0,1.0],\"title\":{\"text\":\"parameters\"}},\"yaxis\":{\"anchor\":\"x\",\"domain\":[0.0,1.0],\"title\":{\"text\":\"MACs\"}},\"legend\":{\"title\":{\"text\":\"alpha\"},\"tracegroupgap\":0,\"itemsizing\":\"constant\"},\"title\":{\"text\":\"MACs vs. total parameters\"},\"showlegend\":true,\"width\":500,\"height\":400},                        {\"responsive\": true}                    ).then(function(){\n",
       "                            \n",
       "var gd = document.getElementById('6b6e09cd-b193-4732-8bc8-31312802415f');\n",
       "var x = new MutationObserver(function (mutations, observer) {{\n",
       "        var display = window.getComputedStyle(gd).display;\n",
       "        if (!display || display === 'none') {{\n",
       "            console.log([gd, 'removed!']);\n",
       "            Plotly.purge(gd);\n",
       "            observer.disconnect();\n",
       "        }}\n",
       "}});\n",
       "\n",
       "// Listen for the removal of the full notebook cells\n",
       "var notebookContainer = gd.closest('#notebook-container');\n",
       "if (notebookContainer) {{\n",
       "    x.observe(notebookContainer, {childList: true});\n",
       "}}\n",
       "\n",
       "// Listen for the clearing of the current output cell\n",
       "var outputEl = gd.closest('.output');\n",
       "if (outputEl) {{\n",
       "    x.observe(outputEl, {childList: true});\n",
       "}}\n",
       "\n",
       "                        })                };                });            </script>        </div>"
      ]
     },
     "metadata": {},
     "output_type": "display_data"
    }
   ],
   "source": [
    "mbnv2_df[\"alpha\"] = mbnv2_df[\"alpha\"].astype(str)\n",
    "macs_params_fig = px.scatter(\n",
    "    mbnv2_df,\n",
    "    x=\"total_params\",\n",
    "    y=\"macs_mltk\",\n",
    "    color=\"alpha\",\n",
    "    size=\"tflite_model_INT8_size_kb\",\n",
    "    labels={\"total_params\": \"parameters\", \"macs_mltk\": \"MACs\"},\n",
    "    title=f\"MACs vs. total parameters\",\n",
    ")\n",
    "\n",
    "macs_params_fig.update_layout(showlegend=True, width=500, height=400)\n",
    "\n",
    "macs_params_fig.show()"
   ]
  },
  {
   "cell_type": "code",
   "execution_count": 136,
   "metadata": {},
   "outputs": [
    {
     "data": {
      "application/vnd.plotly.v1+json": {
       "config": {
        "plotlyServerURL": "https://plot.ly"
       },
       "data": [
        {
         "hovertemplate": "alpha=0.25<br>parameters=%{x}<br>FLOPs=%{y}<br>tflite_model_INT8_size_kb=%{marker.size}<extra></extra>",
         "legendgroup": "0.25",
         "marker": {
          "color": "#636efa",
          "size": [
           393.5234375
          ],
          "sizemode": "area",
          "sizeref": 6.49349609375,
          "symbol": "circle"
         },
         "mode": "markers",
         "name": "0.25",
         "orientation": "v",
         "showlegend": true,
         "type": "scatter",
         "x": [
          249322
         ],
         "xaxis": "x",
         "y": [
          11450908
         ],
         "yaxis": "y"
        },
        {
         "hovertemplate": "alpha=0.35<br>parameters=%{x}<br>FLOPs=%{y}<br>tflite_model_INT8_size_kb=%{marker.size}<extra></extra>",
         "legendgroup": "0.35",
         "marker": {
          "color": "#EF553B",
          "size": [
           574.3359375
          ],
          "sizemode": "area",
          "sizeref": 6.49349609375,
          "symbol": "circle"
         },
         "mode": "markers",
         "name": "0.35",
         "orientation": "v",
         "showlegend": true,
         "type": "scatter",
         "x": [
          402934
         ],
         "xaxis": "x",
         "y": [
          19391158
         ],
         "yaxis": "y"
        },
        {
         "hovertemplate": "alpha=0.5<br>parameters=%{x}<br>FLOPs=%{y}<br>tflite_model_INT8_size_kb=%{marker.size}<extra></extra>",
         "legendgroup": "0.5",
         "marker": {
          "color": "#00cc96",
          "size": [
           918.7890625
          ],
          "sizemode": "area",
          "sizeref": 6.49349609375,
          "symbol": "circle"
         },
         "mode": "markers",
         "name": "0.5",
         "orientation": "v",
         "showlegend": true,
         "type": "scatter",
         "x": [
          705346
         ],
         "xaxis": "x",
         "y": [
          34133284
         ],
         "yaxis": "y"
        },
        {
         "hovertemplate": "alpha=1.0<br>parameters=%{x}<br>FLOPs=%{y}<br>tflite_model_INT8_size_kb=%{marker.size}<extra></extra>",
         "legendgroup": "1.0",
         "marker": {
          "color": "#ab63fa",
          "size": [
           2597.3984375
          ],
          "sizemode": "area",
          "sizeref": 6.49349609375,
          "symbol": "circle"
         },
         "mode": "markers",
         "name": "1.0",
         "orientation": "v",
         "showlegend": true,
         "type": "scatter",
         "x": [
          2260546
         ],
         "xaxis": "x",
         "y": [
          113643316
         ],
         "yaxis": "y"
        }
       ],
       "layout": {
        "height": 400,
        "legend": {
         "itemsizing": "constant",
         "title": {
          "text": "alpha"
         },
         "tracegroupgap": 0
        },
        "showlegend": true,
        "template": {
         "data": {
          "bar": [
           {
            "error_x": {
             "color": "#2a3f5f"
            },
            "error_y": {
             "color": "#2a3f5f"
            },
            "marker": {
             "line": {
              "color": "#E5ECF6",
              "width": 0.5
             },
             "pattern": {
              "fillmode": "overlay",
              "size": 10,
              "solidity": 0.2
             }
            },
            "type": "bar"
           }
          ],
          "barpolar": [
           {
            "marker": {
             "line": {
              "color": "#E5ECF6",
              "width": 0.5
             },
             "pattern": {
              "fillmode": "overlay",
              "size": 10,
              "solidity": 0.2
             }
            },
            "type": "barpolar"
           }
          ],
          "carpet": [
           {
            "aaxis": {
             "endlinecolor": "#2a3f5f",
             "gridcolor": "white",
             "linecolor": "white",
             "minorgridcolor": "white",
             "startlinecolor": "#2a3f5f"
            },
            "baxis": {
             "endlinecolor": "#2a3f5f",
             "gridcolor": "white",
             "linecolor": "white",
             "minorgridcolor": "white",
             "startlinecolor": "#2a3f5f"
            },
            "type": "carpet"
           }
          ],
          "choropleth": [
           {
            "colorbar": {
             "outlinewidth": 0,
             "ticks": ""
            },
            "type": "choropleth"
           }
          ],
          "contour": [
           {
            "colorbar": {
             "outlinewidth": 0,
             "ticks": ""
            },
            "colorscale": [
             [
              0,
              "#0d0887"
             ],
             [
              0.1111111111111111,
              "#46039f"
             ],
             [
              0.2222222222222222,
              "#7201a8"
             ],
             [
              0.3333333333333333,
              "#9c179e"
             ],
             [
              0.4444444444444444,
              "#bd3786"
             ],
             [
              0.5555555555555556,
              "#d8576b"
             ],
             [
              0.6666666666666666,
              "#ed7953"
             ],
             [
              0.7777777777777778,
              "#fb9f3a"
             ],
             [
              0.8888888888888888,
              "#fdca26"
             ],
             [
              1,
              "#f0f921"
             ]
            ],
            "type": "contour"
           }
          ],
          "contourcarpet": [
           {
            "colorbar": {
             "outlinewidth": 0,
             "ticks": ""
            },
            "type": "contourcarpet"
           }
          ],
          "heatmap": [
           {
            "colorbar": {
             "outlinewidth": 0,
             "ticks": ""
            },
            "colorscale": [
             [
              0,
              "#0d0887"
             ],
             [
              0.1111111111111111,
              "#46039f"
             ],
             [
              0.2222222222222222,
              "#7201a8"
             ],
             [
              0.3333333333333333,
              "#9c179e"
             ],
             [
              0.4444444444444444,
              "#bd3786"
             ],
             [
              0.5555555555555556,
              "#d8576b"
             ],
             [
              0.6666666666666666,
              "#ed7953"
             ],
             [
              0.7777777777777778,
              "#fb9f3a"
             ],
             [
              0.8888888888888888,
              "#fdca26"
             ],
             [
              1,
              "#f0f921"
             ]
            ],
            "type": "heatmap"
           }
          ],
          "heatmapgl": [
           {
            "colorbar": {
             "outlinewidth": 0,
             "ticks": ""
            },
            "colorscale": [
             [
              0,
              "#0d0887"
             ],
             [
              0.1111111111111111,
              "#46039f"
             ],
             [
              0.2222222222222222,
              "#7201a8"
             ],
             [
              0.3333333333333333,
              "#9c179e"
             ],
             [
              0.4444444444444444,
              "#bd3786"
             ],
             [
              0.5555555555555556,
              "#d8576b"
             ],
             [
              0.6666666666666666,
              "#ed7953"
             ],
             [
              0.7777777777777778,
              "#fb9f3a"
             ],
             [
              0.8888888888888888,
              "#fdca26"
             ],
             [
              1,
              "#f0f921"
             ]
            ],
            "type": "heatmapgl"
           }
          ],
          "histogram": [
           {
            "marker": {
             "pattern": {
              "fillmode": "overlay",
              "size": 10,
              "solidity": 0.2
             }
            },
            "type": "histogram"
           }
          ],
          "histogram2d": [
           {
            "colorbar": {
             "outlinewidth": 0,
             "ticks": ""
            },
            "colorscale": [
             [
              0,
              "#0d0887"
             ],
             [
              0.1111111111111111,
              "#46039f"
             ],
             [
              0.2222222222222222,
              "#7201a8"
             ],
             [
              0.3333333333333333,
              "#9c179e"
             ],
             [
              0.4444444444444444,
              "#bd3786"
             ],
             [
              0.5555555555555556,
              "#d8576b"
             ],
             [
              0.6666666666666666,
              "#ed7953"
             ],
             [
              0.7777777777777778,
              "#fb9f3a"
             ],
             [
              0.8888888888888888,
              "#fdca26"
             ],
             [
              1,
              "#f0f921"
             ]
            ],
            "type": "histogram2d"
           }
          ],
          "histogram2dcontour": [
           {
            "colorbar": {
             "outlinewidth": 0,
             "ticks": ""
            },
            "colorscale": [
             [
              0,
              "#0d0887"
             ],
             [
              0.1111111111111111,
              "#46039f"
             ],
             [
              0.2222222222222222,
              "#7201a8"
             ],
             [
              0.3333333333333333,
              "#9c179e"
             ],
             [
              0.4444444444444444,
              "#bd3786"
             ],
             [
              0.5555555555555556,
              "#d8576b"
             ],
             [
              0.6666666666666666,
              "#ed7953"
             ],
             [
              0.7777777777777778,
              "#fb9f3a"
             ],
             [
              0.8888888888888888,
              "#fdca26"
             ],
             [
              1,
              "#f0f921"
             ]
            ],
            "type": "histogram2dcontour"
           }
          ],
          "mesh3d": [
           {
            "colorbar": {
             "outlinewidth": 0,
             "ticks": ""
            },
            "type": "mesh3d"
           }
          ],
          "parcoords": [
           {
            "line": {
             "colorbar": {
              "outlinewidth": 0,
              "ticks": ""
             }
            },
            "type": "parcoords"
           }
          ],
          "pie": [
           {
            "automargin": true,
            "type": "pie"
           }
          ],
          "scatter": [
           {
            "fillpattern": {
             "fillmode": "overlay",
             "size": 10,
             "solidity": 0.2
            },
            "type": "scatter"
           }
          ],
          "scatter3d": [
           {
            "line": {
             "colorbar": {
              "outlinewidth": 0,
              "ticks": ""
             }
            },
            "marker": {
             "colorbar": {
              "outlinewidth": 0,
              "ticks": ""
             }
            },
            "type": "scatter3d"
           }
          ],
          "scattercarpet": [
           {
            "marker": {
             "colorbar": {
              "outlinewidth": 0,
              "ticks": ""
             }
            },
            "type": "scattercarpet"
           }
          ],
          "scattergeo": [
           {
            "marker": {
             "colorbar": {
              "outlinewidth": 0,
              "ticks": ""
             }
            },
            "type": "scattergeo"
           }
          ],
          "scattergl": [
           {
            "marker": {
             "colorbar": {
              "outlinewidth": 0,
              "ticks": ""
             }
            },
            "type": "scattergl"
           }
          ],
          "scattermapbox": [
           {
            "marker": {
             "colorbar": {
              "outlinewidth": 0,
              "ticks": ""
             }
            },
            "type": "scattermapbox"
           }
          ],
          "scatterpolar": [
           {
            "marker": {
             "colorbar": {
              "outlinewidth": 0,
              "ticks": ""
             }
            },
            "type": "scatterpolar"
           }
          ],
          "scatterpolargl": [
           {
            "marker": {
             "colorbar": {
              "outlinewidth": 0,
              "ticks": ""
             }
            },
            "type": "scatterpolargl"
           }
          ],
          "scatterternary": [
           {
            "marker": {
             "colorbar": {
              "outlinewidth": 0,
              "ticks": ""
             }
            },
            "type": "scatterternary"
           }
          ],
          "surface": [
           {
            "colorbar": {
             "outlinewidth": 0,
             "ticks": ""
            },
            "colorscale": [
             [
              0,
              "#0d0887"
             ],
             [
              0.1111111111111111,
              "#46039f"
             ],
             [
              0.2222222222222222,
              "#7201a8"
             ],
             [
              0.3333333333333333,
              "#9c179e"
             ],
             [
              0.4444444444444444,
              "#bd3786"
             ],
             [
              0.5555555555555556,
              "#d8576b"
             ],
             [
              0.6666666666666666,
              "#ed7953"
             ],
             [
              0.7777777777777778,
              "#fb9f3a"
             ],
             [
              0.8888888888888888,
              "#fdca26"
             ],
             [
              1,
              "#f0f921"
             ]
            ],
            "type": "surface"
           }
          ],
          "table": [
           {
            "cells": {
             "fill": {
              "color": "#EBF0F8"
             },
             "line": {
              "color": "white"
             }
            },
            "header": {
             "fill": {
              "color": "#C8D4E3"
             },
             "line": {
              "color": "white"
             }
            },
            "type": "table"
           }
          ]
         },
         "layout": {
          "annotationdefaults": {
           "arrowcolor": "#2a3f5f",
           "arrowhead": 0,
           "arrowwidth": 1
          },
          "autotypenumbers": "strict",
          "coloraxis": {
           "colorbar": {
            "outlinewidth": 0,
            "ticks": ""
           }
          },
          "colorscale": {
           "diverging": [
            [
             0,
             "#8e0152"
            ],
            [
             0.1,
             "#c51b7d"
            ],
            [
             0.2,
             "#de77ae"
            ],
            [
             0.3,
             "#f1b6da"
            ],
            [
             0.4,
             "#fde0ef"
            ],
            [
             0.5,
             "#f7f7f7"
            ],
            [
             0.6,
             "#e6f5d0"
            ],
            [
             0.7,
             "#b8e186"
            ],
            [
             0.8,
             "#7fbc41"
            ],
            [
             0.9,
             "#4d9221"
            ],
            [
             1,
             "#276419"
            ]
           ],
           "sequential": [
            [
             0,
             "#0d0887"
            ],
            [
             0.1111111111111111,
             "#46039f"
            ],
            [
             0.2222222222222222,
             "#7201a8"
            ],
            [
             0.3333333333333333,
             "#9c179e"
            ],
            [
             0.4444444444444444,
             "#bd3786"
            ],
            [
             0.5555555555555556,
             "#d8576b"
            ],
            [
             0.6666666666666666,
             "#ed7953"
            ],
            [
             0.7777777777777778,
             "#fb9f3a"
            ],
            [
             0.8888888888888888,
             "#fdca26"
            ],
            [
             1,
             "#f0f921"
            ]
           ],
           "sequentialminus": [
            [
             0,
             "#0d0887"
            ],
            [
             0.1111111111111111,
             "#46039f"
            ],
            [
             0.2222222222222222,
             "#7201a8"
            ],
            [
             0.3333333333333333,
             "#9c179e"
            ],
            [
             0.4444444444444444,
             "#bd3786"
            ],
            [
             0.5555555555555556,
             "#d8576b"
            ],
            [
             0.6666666666666666,
             "#ed7953"
            ],
            [
             0.7777777777777778,
             "#fb9f3a"
            ],
            [
             0.8888888888888888,
             "#fdca26"
            ],
            [
             1,
             "#f0f921"
            ]
           ]
          },
          "colorway": [
           "#636efa",
           "#EF553B",
           "#00cc96",
           "#ab63fa",
           "#FFA15A",
           "#19d3f3",
           "#FF6692",
           "#B6E880",
           "#FF97FF",
           "#FECB52"
          ],
          "font": {
           "color": "#2a3f5f"
          },
          "geo": {
           "bgcolor": "white",
           "lakecolor": "white",
           "landcolor": "#E5ECF6",
           "showlakes": true,
           "showland": true,
           "subunitcolor": "white"
          },
          "hoverlabel": {
           "align": "left"
          },
          "hovermode": "closest",
          "mapbox": {
           "style": "light"
          },
          "paper_bgcolor": "white",
          "plot_bgcolor": "#E5ECF6",
          "polar": {
           "angularaxis": {
            "gridcolor": "white",
            "linecolor": "white",
            "ticks": ""
           },
           "bgcolor": "#E5ECF6",
           "radialaxis": {
            "gridcolor": "white",
            "linecolor": "white",
            "ticks": ""
           }
          },
          "scene": {
           "xaxis": {
            "backgroundcolor": "#E5ECF6",
            "gridcolor": "white",
            "gridwidth": 2,
            "linecolor": "white",
            "showbackground": true,
            "ticks": "",
            "zerolinecolor": "white"
           },
           "yaxis": {
            "backgroundcolor": "#E5ECF6",
            "gridcolor": "white",
            "gridwidth": 2,
            "linecolor": "white",
            "showbackground": true,
            "ticks": "",
            "zerolinecolor": "white"
           },
           "zaxis": {
            "backgroundcolor": "#E5ECF6",
            "gridcolor": "white",
            "gridwidth": 2,
            "linecolor": "white",
            "showbackground": true,
            "ticks": "",
            "zerolinecolor": "white"
           }
          },
          "shapedefaults": {
           "line": {
            "color": "#2a3f5f"
           }
          },
          "ternary": {
           "aaxis": {
            "gridcolor": "white",
            "linecolor": "white",
            "ticks": ""
           },
           "baxis": {
            "gridcolor": "white",
            "linecolor": "white",
            "ticks": ""
           },
           "bgcolor": "#E5ECF6",
           "caxis": {
            "gridcolor": "white",
            "linecolor": "white",
            "ticks": ""
           }
          },
          "title": {
           "x": 0.05
          },
          "xaxis": {
           "automargin": true,
           "gridcolor": "white",
           "linecolor": "white",
           "ticks": "",
           "title": {
            "standoff": 15
           },
           "zerolinecolor": "white",
           "zerolinewidth": 2
          },
          "yaxis": {
           "automargin": true,
           "gridcolor": "white",
           "linecolor": "white",
           "ticks": "",
           "title": {
            "standoff": 15
           },
           "zerolinecolor": "white",
           "zerolinewidth": 2
          }
         }
        },
        "title": {
         "text": "FLOPs vs. total parameters"
        },
        "width": 500,
        "xaxis": {
         "anchor": "y",
         "domain": [
          0,
          1
         ],
         "title": {
          "text": "parameters"
         }
        },
        "yaxis": {
         "anchor": "x",
         "domain": [
          0,
          1
         ],
         "title": {
          "text": "FLOPs"
         }
        }
       }
      },
      "text/html": [
       "<div>                            <div id=\"91c950c0-bf33-4cbc-9f2f-b0dbf9ba1a3b\" class=\"plotly-graph-div\" style=\"height:400px; width:500px;\"></div>            <script type=\"text/javascript\">                require([\"plotly\"], function(Plotly) {                    window.PLOTLYENV=window.PLOTLYENV || {};                                    if (document.getElementById(\"91c950c0-bf33-4cbc-9f2f-b0dbf9ba1a3b\")) {                    Plotly.newPlot(                        \"91c950c0-bf33-4cbc-9f2f-b0dbf9ba1a3b\",                        [{\"hovertemplate\":\"alpha=0.25<br>parameters=%{x}<br>FLOPs=%{y}<br>tflite_model_INT8_size_kb=%{marker.size}<extra></extra>\",\"legendgroup\":\"0.25\",\"marker\":{\"color\":\"#636efa\",\"size\":[393.5234375],\"sizemode\":\"area\",\"sizeref\":6.49349609375,\"symbol\":\"circle\"},\"mode\":\"markers\",\"name\":\"0.25\",\"orientation\":\"v\",\"showlegend\":true,\"x\":[249322.0],\"xaxis\":\"x\",\"y\":[11450908.0],\"yaxis\":\"y\",\"type\":\"scatter\"},{\"hovertemplate\":\"alpha=0.35<br>parameters=%{x}<br>FLOPs=%{y}<br>tflite_model_INT8_size_kb=%{marker.size}<extra></extra>\",\"legendgroup\":\"0.35\",\"marker\":{\"color\":\"#EF553B\",\"size\":[574.3359375],\"sizemode\":\"area\",\"sizeref\":6.49349609375,\"symbol\":\"circle\"},\"mode\":\"markers\",\"name\":\"0.35\",\"orientation\":\"v\",\"showlegend\":true,\"x\":[402934.0],\"xaxis\":\"x\",\"y\":[19391158.0],\"yaxis\":\"y\",\"type\":\"scatter\"},{\"hovertemplate\":\"alpha=0.5<br>parameters=%{x}<br>FLOPs=%{y}<br>tflite_model_INT8_size_kb=%{marker.size}<extra></extra>\",\"legendgroup\":\"0.5\",\"marker\":{\"color\":\"#00cc96\",\"size\":[918.7890625],\"sizemode\":\"area\",\"sizeref\":6.49349609375,\"symbol\":\"circle\"},\"mode\":\"markers\",\"name\":\"0.5\",\"orientation\":\"v\",\"showlegend\":true,\"x\":[705346.0],\"xaxis\":\"x\",\"y\":[34133284.0],\"yaxis\":\"y\",\"type\":\"scatter\"},{\"hovertemplate\":\"alpha=1.0<br>parameters=%{x}<br>FLOPs=%{y}<br>tflite_model_INT8_size_kb=%{marker.size}<extra></extra>\",\"legendgroup\":\"1.0\",\"marker\":{\"color\":\"#ab63fa\",\"size\":[2597.3984375],\"sizemode\":\"area\",\"sizeref\":6.49349609375,\"symbol\":\"circle\"},\"mode\":\"markers\",\"name\":\"1.0\",\"orientation\":\"v\",\"showlegend\":true,\"x\":[2260546.0],\"xaxis\":\"x\",\"y\":[113643316.0],\"yaxis\":\"y\",\"type\":\"scatter\"}],                        {\"template\":{\"data\":{\"histogram2dcontour\":[{\"type\":\"histogram2dcontour\",\"colorbar\":{\"outlinewidth\":0,\"ticks\":\"\"},\"colorscale\":[[0.0,\"#0d0887\"],[0.1111111111111111,\"#46039f\"],[0.2222222222222222,\"#7201a8\"],[0.3333333333333333,\"#9c179e\"],[0.4444444444444444,\"#bd3786\"],[0.5555555555555556,\"#d8576b\"],[0.6666666666666666,\"#ed7953\"],[0.7777777777777778,\"#fb9f3a\"],[0.8888888888888888,\"#fdca26\"],[1.0,\"#f0f921\"]]}],\"choropleth\":[{\"type\":\"choropleth\",\"colorbar\":{\"outlinewidth\":0,\"ticks\":\"\"}}],\"histogram2d\":[{\"type\":\"histogram2d\",\"colorbar\":{\"outlinewidth\":0,\"ticks\":\"\"},\"colorscale\":[[0.0,\"#0d0887\"],[0.1111111111111111,\"#46039f\"],[0.2222222222222222,\"#7201a8\"],[0.3333333333333333,\"#9c179e\"],[0.4444444444444444,\"#bd3786\"],[0.5555555555555556,\"#d8576b\"],[0.6666666666666666,\"#ed7953\"],[0.7777777777777778,\"#fb9f3a\"],[0.8888888888888888,\"#fdca26\"],[1.0,\"#f0f921\"]]}],\"heatmap\":[{\"type\":\"heatmap\",\"colorbar\":{\"outlinewidth\":0,\"ticks\":\"\"},\"colorscale\":[[0.0,\"#0d0887\"],[0.1111111111111111,\"#46039f\"],[0.2222222222222222,\"#7201a8\"],[0.3333333333333333,\"#9c179e\"],[0.4444444444444444,\"#bd3786\"],[0.5555555555555556,\"#d8576b\"],[0.6666666666666666,\"#ed7953\"],[0.7777777777777778,\"#fb9f3a\"],[0.8888888888888888,\"#fdca26\"],[1.0,\"#f0f921\"]]}],\"heatmapgl\":[{\"type\":\"heatmapgl\",\"colorbar\":{\"outlinewidth\":0,\"ticks\":\"\"},\"colorscale\":[[0.0,\"#0d0887\"],[0.1111111111111111,\"#46039f\"],[0.2222222222222222,\"#7201a8\"],[0.3333333333333333,\"#9c179e\"],[0.4444444444444444,\"#bd3786\"],[0.5555555555555556,\"#d8576b\"],[0.6666666666666666,\"#ed7953\"],[0.7777777777777778,\"#fb9f3a\"],[0.8888888888888888,\"#fdca26\"],[1.0,\"#f0f921\"]]}],\"contourcarpet\":[{\"type\":\"contourcarpet\",\"colorbar\":{\"outlinewidth\":0,\"ticks\":\"\"}}],\"contour\":[{\"type\":\"contour\",\"colorbar\":{\"outlinewidth\":0,\"ticks\":\"\"},\"colorscale\":[[0.0,\"#0d0887\"],[0.1111111111111111,\"#46039f\"],[0.2222222222222222,\"#7201a8\"],[0.3333333333333333,\"#9c179e\"],[0.4444444444444444,\"#bd3786\"],[0.5555555555555556,\"#d8576b\"],[0.6666666666666666,\"#ed7953\"],[0.7777777777777778,\"#fb9f3a\"],[0.8888888888888888,\"#fdca26\"],[1.0,\"#f0f921\"]]}],\"surface\":[{\"type\":\"surface\",\"colorbar\":{\"outlinewidth\":0,\"ticks\":\"\"},\"colorscale\":[[0.0,\"#0d0887\"],[0.1111111111111111,\"#46039f\"],[0.2222222222222222,\"#7201a8\"],[0.3333333333333333,\"#9c179e\"],[0.4444444444444444,\"#bd3786\"],[0.5555555555555556,\"#d8576b\"],[0.6666666666666666,\"#ed7953\"],[0.7777777777777778,\"#fb9f3a\"],[0.8888888888888888,\"#fdca26\"],[1.0,\"#f0f921\"]]}],\"mesh3d\":[{\"type\":\"mesh3d\",\"colorbar\":{\"outlinewidth\":0,\"ticks\":\"\"}}],\"scatter\":[{\"fillpattern\":{\"fillmode\":\"overlay\",\"size\":10,\"solidity\":0.2},\"type\":\"scatter\"}],\"parcoords\":[{\"type\":\"parcoords\",\"line\":{\"colorbar\":{\"outlinewidth\":0,\"ticks\":\"\"}}}],\"scatterpolargl\":[{\"type\":\"scatterpolargl\",\"marker\":{\"colorbar\":{\"outlinewidth\":0,\"ticks\":\"\"}}}],\"bar\":[{\"error_x\":{\"color\":\"#2a3f5f\"},\"error_y\":{\"color\":\"#2a3f5f\"},\"marker\":{\"line\":{\"color\":\"#E5ECF6\",\"width\":0.5},\"pattern\":{\"fillmode\":\"overlay\",\"size\":10,\"solidity\":0.2}},\"type\":\"bar\"}],\"scattergeo\":[{\"type\":\"scattergeo\",\"marker\":{\"colorbar\":{\"outlinewidth\":0,\"ticks\":\"\"}}}],\"scatterpolar\":[{\"type\":\"scatterpolar\",\"marker\":{\"colorbar\":{\"outlinewidth\":0,\"ticks\":\"\"}}}],\"histogram\":[{\"marker\":{\"pattern\":{\"fillmode\":\"overlay\",\"size\":10,\"solidity\":0.2}},\"type\":\"histogram\"}],\"scattergl\":[{\"type\":\"scattergl\",\"marker\":{\"colorbar\":{\"outlinewidth\":0,\"ticks\":\"\"}}}],\"scatter3d\":[{\"type\":\"scatter3d\",\"line\":{\"colorbar\":{\"outlinewidth\":0,\"ticks\":\"\"}},\"marker\":{\"colorbar\":{\"outlinewidth\":0,\"ticks\":\"\"}}}],\"scattermapbox\":[{\"type\":\"scattermapbox\",\"marker\":{\"colorbar\":{\"outlinewidth\":0,\"ticks\":\"\"}}}],\"scatterternary\":[{\"type\":\"scatterternary\",\"marker\":{\"colorbar\":{\"outlinewidth\":0,\"ticks\":\"\"}}}],\"scattercarpet\":[{\"type\":\"scattercarpet\",\"marker\":{\"colorbar\":{\"outlinewidth\":0,\"ticks\":\"\"}}}],\"carpet\":[{\"aaxis\":{\"endlinecolor\":\"#2a3f5f\",\"gridcolor\":\"white\",\"linecolor\":\"white\",\"minorgridcolor\":\"white\",\"startlinecolor\":\"#2a3f5f\"},\"baxis\":{\"endlinecolor\":\"#2a3f5f\",\"gridcolor\":\"white\",\"linecolor\":\"white\",\"minorgridcolor\":\"white\",\"startlinecolor\":\"#2a3f5f\"},\"type\":\"carpet\"}],\"table\":[{\"cells\":{\"fill\":{\"color\":\"#EBF0F8\"},\"line\":{\"color\":\"white\"}},\"header\":{\"fill\":{\"color\":\"#C8D4E3\"},\"line\":{\"color\":\"white\"}},\"type\":\"table\"}],\"barpolar\":[{\"marker\":{\"line\":{\"color\":\"#E5ECF6\",\"width\":0.5},\"pattern\":{\"fillmode\":\"overlay\",\"size\":10,\"solidity\":0.2}},\"type\":\"barpolar\"}],\"pie\":[{\"automargin\":true,\"type\":\"pie\"}]},\"layout\":{\"autotypenumbers\":\"strict\",\"colorway\":[\"#636efa\",\"#EF553B\",\"#00cc96\",\"#ab63fa\",\"#FFA15A\",\"#19d3f3\",\"#FF6692\",\"#B6E880\",\"#FF97FF\",\"#FECB52\"],\"font\":{\"color\":\"#2a3f5f\"},\"hovermode\":\"closest\",\"hoverlabel\":{\"align\":\"left\"},\"paper_bgcolor\":\"white\",\"plot_bgcolor\":\"#E5ECF6\",\"polar\":{\"bgcolor\":\"#E5ECF6\",\"angularaxis\":{\"gridcolor\":\"white\",\"linecolor\":\"white\",\"ticks\":\"\"},\"radialaxis\":{\"gridcolor\":\"white\",\"linecolor\":\"white\",\"ticks\":\"\"}},\"ternary\":{\"bgcolor\":\"#E5ECF6\",\"aaxis\":{\"gridcolor\":\"white\",\"linecolor\":\"white\",\"ticks\":\"\"},\"baxis\":{\"gridcolor\":\"white\",\"linecolor\":\"white\",\"ticks\":\"\"},\"caxis\":{\"gridcolor\":\"white\",\"linecolor\":\"white\",\"ticks\":\"\"}},\"coloraxis\":{\"colorbar\":{\"outlinewidth\":0,\"ticks\":\"\"}},\"colorscale\":{\"sequential\":[[0.0,\"#0d0887\"],[0.1111111111111111,\"#46039f\"],[0.2222222222222222,\"#7201a8\"],[0.3333333333333333,\"#9c179e\"],[0.4444444444444444,\"#bd3786\"],[0.5555555555555556,\"#d8576b\"],[0.6666666666666666,\"#ed7953\"],[0.7777777777777778,\"#fb9f3a\"],[0.8888888888888888,\"#fdca26\"],[1.0,\"#f0f921\"]],\"sequentialminus\":[[0.0,\"#0d0887\"],[0.1111111111111111,\"#46039f\"],[0.2222222222222222,\"#7201a8\"],[0.3333333333333333,\"#9c179e\"],[0.4444444444444444,\"#bd3786\"],[0.5555555555555556,\"#d8576b\"],[0.6666666666666666,\"#ed7953\"],[0.7777777777777778,\"#fb9f3a\"],[0.8888888888888888,\"#fdca26\"],[1.0,\"#f0f921\"]],\"diverging\":[[0,\"#8e0152\"],[0.1,\"#c51b7d\"],[0.2,\"#de77ae\"],[0.3,\"#f1b6da\"],[0.4,\"#fde0ef\"],[0.5,\"#f7f7f7\"],[0.6,\"#e6f5d0\"],[0.7,\"#b8e186\"],[0.8,\"#7fbc41\"],[0.9,\"#4d9221\"],[1,\"#276419\"]]},\"xaxis\":{\"gridcolor\":\"white\",\"linecolor\":\"white\",\"ticks\":\"\",\"title\":{\"standoff\":15},\"zerolinecolor\":\"white\",\"automargin\":true,\"zerolinewidth\":2},\"yaxis\":{\"gridcolor\":\"white\",\"linecolor\":\"white\",\"ticks\":\"\",\"title\":{\"standoff\":15},\"zerolinecolor\":\"white\",\"automargin\":true,\"zerolinewidth\":2},\"scene\":{\"xaxis\":{\"backgroundcolor\":\"#E5ECF6\",\"gridcolor\":\"white\",\"linecolor\":\"white\",\"showbackground\":true,\"ticks\":\"\",\"zerolinecolor\":\"white\",\"gridwidth\":2},\"yaxis\":{\"backgroundcolor\":\"#E5ECF6\",\"gridcolor\":\"white\",\"linecolor\":\"white\",\"showbackground\":true,\"ticks\":\"\",\"zerolinecolor\":\"white\",\"gridwidth\":2},\"zaxis\":{\"backgroundcolor\":\"#E5ECF6\",\"gridcolor\":\"white\",\"linecolor\":\"white\",\"showbackground\":true,\"ticks\":\"\",\"zerolinecolor\":\"white\",\"gridwidth\":2}},\"shapedefaults\":{\"line\":{\"color\":\"#2a3f5f\"}},\"annotationdefaults\":{\"arrowcolor\":\"#2a3f5f\",\"arrowhead\":0,\"arrowwidth\":1},\"geo\":{\"bgcolor\":\"white\",\"landcolor\":\"#E5ECF6\",\"subunitcolor\":\"white\",\"showland\":true,\"showlakes\":true,\"lakecolor\":\"white\"},\"title\":{\"x\":0.05},\"mapbox\":{\"style\":\"light\"}}},\"xaxis\":{\"anchor\":\"y\",\"domain\":[0.0,1.0],\"title\":{\"text\":\"parameters\"}},\"yaxis\":{\"anchor\":\"x\",\"domain\":[0.0,1.0],\"title\":{\"text\":\"FLOPs\"}},\"legend\":{\"title\":{\"text\":\"alpha\"},\"tracegroupgap\":0,\"itemsizing\":\"constant\"},\"title\":{\"text\":\"FLOPs vs. total parameters\"},\"showlegend\":true,\"width\":500,\"height\":400},                        {\"responsive\": true}                    ).then(function(){\n",
       "                            \n",
       "var gd = document.getElementById('91c950c0-bf33-4cbc-9f2f-b0dbf9ba1a3b');\n",
       "var x = new MutationObserver(function (mutations, observer) {{\n",
       "        var display = window.getComputedStyle(gd).display;\n",
       "        if (!display || display === 'none') {{\n",
       "            console.log([gd, 'removed!']);\n",
       "            Plotly.purge(gd);\n",
       "            observer.disconnect();\n",
       "        }}\n",
       "}});\n",
       "\n",
       "// Listen for the removal of the full notebook cells\n",
       "var notebookContainer = gd.closest('#notebook-container');\n",
       "if (notebookContainer) {{\n",
       "    x.observe(notebookContainer, {childList: true});\n",
       "}}\n",
       "\n",
       "// Listen for the clearing of the current output cell\n",
       "var outputEl = gd.closest('.output');\n",
       "if (outputEl) {{\n",
       "    x.observe(outputEl, {childList: true});\n",
       "}}\n",
       "\n",
       "                        })                };                });            </script>        </div>"
      ]
     },
     "metadata": {},
     "output_type": "display_data"
    }
   ],
   "source": [
    "flops_params_fig = px.scatter(\n",
    "    mbnv2_df,\n",
    "    x=\"total_params\",\n",
    "    y=\"OPS_INT8_mltk\",\n",
    "    color=\"alpha\",\n",
    "    size=\"tflite_model_INT8_size_kb\",\n",
    "    labels={\"total_params\": \"parameters\", \"OPS_INT8_mltk\": \"FLOPs\"},\n",
    "    title=f\"FLOPs vs. total parameters\",\n",
    ")\n",
    "flops_params_fig.update_layout(showlegend=True, width=500, height=400)\n",
    "\n",
    "flops_params_fig.show()"
   ]
  },
  {
   "cell_type": "code",
   "execution_count": 141,
   "metadata": {},
   "outputs": [
    {
     "data": {
      "application/vnd.plotly.v1+json": {
       "config": {
        "plotlyServerURL": "https://plot.ly"
       },
       "data": [
        {
         "alignmentgroup": "True",
         "hovertemplate": "alpha=%{x}<br>tflite_model_INT8_size_kb=%{y}<extra></extra>",
         "legendgroup": "",
         "marker": {
          "color": "#636efa",
          "pattern": {
           "shape": ""
          }
         },
         "name": "",
         "offsetgroup": "",
         "orientation": "v",
         "showlegend": false,
         "textposition": "auto",
         "texttemplate": "%{y:.2s}",
         "type": "bar",
         "width": 1,
         "x": [
          "0.25",
          "0.35",
          "0.5",
          "1.0"
         ],
         "xaxis": "x",
         "y": [
          393.5234375,
          574.3359375,
          918.7890625,
          2597.3984375
         ],
         "yaxis": "y"
        }
       ],
       "layout": {
        "annotations": [
         {
          "showarrow": false,
          "text": "256 kB MCU constraint",
          "x": 1,
          "xanchor": "right",
          "xref": "x domain",
          "y": 256,
          "yanchor": "top",
          "yref": "y"
         }
        ],
        "barmode": "relative",
        "height": 600,
        "legend": {
         "tracegroupgap": 0
        },
        "shapes": [
         {
          "line": {
           "color": "orange",
           "dash": "dash",
           "width": 3
          },
          "type": "line",
          "x0": 0,
          "x1": 1,
          "xref": "x domain",
          "y0": 256,
          "y1": 256,
          "yref": "y"
         }
        ],
        "showlegend": true,
        "template": {
         "data": {
          "bar": [
           {
            "error_x": {
             "color": "#2a3f5f"
            },
            "error_y": {
             "color": "#2a3f5f"
            },
            "marker": {
             "line": {
              "color": "#E5ECF6",
              "width": 0.5
             },
             "pattern": {
              "fillmode": "overlay",
              "size": 10,
              "solidity": 0.2
             }
            },
            "type": "bar"
           }
          ],
          "barpolar": [
           {
            "marker": {
             "line": {
              "color": "#E5ECF6",
              "width": 0.5
             },
             "pattern": {
              "fillmode": "overlay",
              "size": 10,
              "solidity": 0.2
             }
            },
            "type": "barpolar"
           }
          ],
          "carpet": [
           {
            "aaxis": {
             "endlinecolor": "#2a3f5f",
             "gridcolor": "white",
             "linecolor": "white",
             "minorgridcolor": "white",
             "startlinecolor": "#2a3f5f"
            },
            "baxis": {
             "endlinecolor": "#2a3f5f",
             "gridcolor": "white",
             "linecolor": "white",
             "minorgridcolor": "white",
             "startlinecolor": "#2a3f5f"
            },
            "type": "carpet"
           }
          ],
          "choropleth": [
           {
            "colorbar": {
             "outlinewidth": 0,
             "ticks": ""
            },
            "type": "choropleth"
           }
          ],
          "contour": [
           {
            "colorbar": {
             "outlinewidth": 0,
             "ticks": ""
            },
            "colorscale": [
             [
              0,
              "#0d0887"
             ],
             [
              0.1111111111111111,
              "#46039f"
             ],
             [
              0.2222222222222222,
              "#7201a8"
             ],
             [
              0.3333333333333333,
              "#9c179e"
             ],
             [
              0.4444444444444444,
              "#bd3786"
             ],
             [
              0.5555555555555556,
              "#d8576b"
             ],
             [
              0.6666666666666666,
              "#ed7953"
             ],
             [
              0.7777777777777778,
              "#fb9f3a"
             ],
             [
              0.8888888888888888,
              "#fdca26"
             ],
             [
              1,
              "#f0f921"
             ]
            ],
            "type": "contour"
           }
          ],
          "contourcarpet": [
           {
            "colorbar": {
             "outlinewidth": 0,
             "ticks": ""
            },
            "type": "contourcarpet"
           }
          ],
          "heatmap": [
           {
            "colorbar": {
             "outlinewidth": 0,
             "ticks": ""
            },
            "colorscale": [
             [
              0,
              "#0d0887"
             ],
             [
              0.1111111111111111,
              "#46039f"
             ],
             [
              0.2222222222222222,
              "#7201a8"
             ],
             [
              0.3333333333333333,
              "#9c179e"
             ],
             [
              0.4444444444444444,
              "#bd3786"
             ],
             [
              0.5555555555555556,
              "#d8576b"
             ],
             [
              0.6666666666666666,
              "#ed7953"
             ],
             [
              0.7777777777777778,
              "#fb9f3a"
             ],
             [
              0.8888888888888888,
              "#fdca26"
             ],
             [
              1,
              "#f0f921"
             ]
            ],
            "type": "heatmap"
           }
          ],
          "heatmapgl": [
           {
            "colorbar": {
             "outlinewidth": 0,
             "ticks": ""
            },
            "colorscale": [
             [
              0,
              "#0d0887"
             ],
             [
              0.1111111111111111,
              "#46039f"
             ],
             [
              0.2222222222222222,
              "#7201a8"
             ],
             [
              0.3333333333333333,
              "#9c179e"
             ],
             [
              0.4444444444444444,
              "#bd3786"
             ],
             [
              0.5555555555555556,
              "#d8576b"
             ],
             [
              0.6666666666666666,
              "#ed7953"
             ],
             [
              0.7777777777777778,
              "#fb9f3a"
             ],
             [
              0.8888888888888888,
              "#fdca26"
             ],
             [
              1,
              "#f0f921"
             ]
            ],
            "type": "heatmapgl"
           }
          ],
          "histogram": [
           {
            "marker": {
             "pattern": {
              "fillmode": "overlay",
              "size": 10,
              "solidity": 0.2
             }
            },
            "type": "histogram"
           }
          ],
          "histogram2d": [
           {
            "colorbar": {
             "outlinewidth": 0,
             "ticks": ""
            },
            "colorscale": [
             [
              0,
              "#0d0887"
             ],
             [
              0.1111111111111111,
              "#46039f"
             ],
             [
              0.2222222222222222,
              "#7201a8"
             ],
             [
              0.3333333333333333,
              "#9c179e"
             ],
             [
              0.4444444444444444,
              "#bd3786"
             ],
             [
              0.5555555555555556,
              "#d8576b"
             ],
             [
              0.6666666666666666,
              "#ed7953"
             ],
             [
              0.7777777777777778,
              "#fb9f3a"
             ],
             [
              0.8888888888888888,
              "#fdca26"
             ],
             [
              1,
              "#f0f921"
             ]
            ],
            "type": "histogram2d"
           }
          ],
          "histogram2dcontour": [
           {
            "colorbar": {
             "outlinewidth": 0,
             "ticks": ""
            },
            "colorscale": [
             [
              0,
              "#0d0887"
             ],
             [
              0.1111111111111111,
              "#46039f"
             ],
             [
              0.2222222222222222,
              "#7201a8"
             ],
             [
              0.3333333333333333,
              "#9c179e"
             ],
             [
              0.4444444444444444,
              "#bd3786"
             ],
             [
              0.5555555555555556,
              "#d8576b"
             ],
             [
              0.6666666666666666,
              "#ed7953"
             ],
             [
              0.7777777777777778,
              "#fb9f3a"
             ],
             [
              0.8888888888888888,
              "#fdca26"
             ],
             [
              1,
              "#f0f921"
             ]
            ],
            "type": "histogram2dcontour"
           }
          ],
          "mesh3d": [
           {
            "colorbar": {
             "outlinewidth": 0,
             "ticks": ""
            },
            "type": "mesh3d"
           }
          ],
          "parcoords": [
           {
            "line": {
             "colorbar": {
              "outlinewidth": 0,
              "ticks": ""
             }
            },
            "type": "parcoords"
           }
          ],
          "pie": [
           {
            "automargin": true,
            "type": "pie"
           }
          ],
          "scatter": [
           {
            "fillpattern": {
             "fillmode": "overlay",
             "size": 10,
             "solidity": 0.2
            },
            "type": "scatter"
           }
          ],
          "scatter3d": [
           {
            "line": {
             "colorbar": {
              "outlinewidth": 0,
              "ticks": ""
             }
            },
            "marker": {
             "colorbar": {
              "outlinewidth": 0,
              "ticks": ""
             }
            },
            "type": "scatter3d"
           }
          ],
          "scattercarpet": [
           {
            "marker": {
             "colorbar": {
              "outlinewidth": 0,
              "ticks": ""
             }
            },
            "type": "scattercarpet"
           }
          ],
          "scattergeo": [
           {
            "marker": {
             "colorbar": {
              "outlinewidth": 0,
              "ticks": ""
             }
            },
            "type": "scattergeo"
           }
          ],
          "scattergl": [
           {
            "marker": {
             "colorbar": {
              "outlinewidth": 0,
              "ticks": ""
             }
            },
            "type": "scattergl"
           }
          ],
          "scattermapbox": [
           {
            "marker": {
             "colorbar": {
              "outlinewidth": 0,
              "ticks": ""
             }
            },
            "type": "scattermapbox"
           }
          ],
          "scatterpolar": [
           {
            "marker": {
             "colorbar": {
              "outlinewidth": 0,
              "ticks": ""
             }
            },
            "type": "scatterpolar"
           }
          ],
          "scatterpolargl": [
           {
            "marker": {
             "colorbar": {
              "outlinewidth": 0,
              "ticks": ""
             }
            },
            "type": "scatterpolargl"
           }
          ],
          "scatterternary": [
           {
            "marker": {
             "colorbar": {
              "outlinewidth": 0,
              "ticks": ""
             }
            },
            "type": "scatterternary"
           }
          ],
          "surface": [
           {
            "colorbar": {
             "outlinewidth": 0,
             "ticks": ""
            },
            "colorscale": [
             [
              0,
              "#0d0887"
             ],
             [
              0.1111111111111111,
              "#46039f"
             ],
             [
              0.2222222222222222,
              "#7201a8"
             ],
             [
              0.3333333333333333,
              "#9c179e"
             ],
             [
              0.4444444444444444,
              "#bd3786"
             ],
             [
              0.5555555555555556,
              "#d8576b"
             ],
             [
              0.6666666666666666,
              "#ed7953"
             ],
             [
              0.7777777777777778,
              "#fb9f3a"
             ],
             [
              0.8888888888888888,
              "#fdca26"
             ],
             [
              1,
              "#f0f921"
             ]
            ],
            "type": "surface"
           }
          ],
          "table": [
           {
            "cells": {
             "fill": {
              "color": "#EBF0F8"
             },
             "line": {
              "color": "white"
             }
            },
            "header": {
             "fill": {
              "color": "#C8D4E3"
             },
             "line": {
              "color": "white"
             }
            },
            "type": "table"
           }
          ]
         },
         "layout": {
          "annotationdefaults": {
           "arrowcolor": "#2a3f5f",
           "arrowhead": 0,
           "arrowwidth": 1
          },
          "autotypenumbers": "strict",
          "coloraxis": {
           "colorbar": {
            "outlinewidth": 0,
            "ticks": ""
           }
          },
          "colorscale": {
           "diverging": [
            [
             0,
             "#8e0152"
            ],
            [
             0.1,
             "#c51b7d"
            ],
            [
             0.2,
             "#de77ae"
            ],
            [
             0.3,
             "#f1b6da"
            ],
            [
             0.4,
             "#fde0ef"
            ],
            [
             0.5,
             "#f7f7f7"
            ],
            [
             0.6,
             "#e6f5d0"
            ],
            [
             0.7,
             "#b8e186"
            ],
            [
             0.8,
             "#7fbc41"
            ],
            [
             0.9,
             "#4d9221"
            ],
            [
             1,
             "#276419"
            ]
           ],
           "sequential": [
            [
             0,
             "#0d0887"
            ],
            [
             0.1111111111111111,
             "#46039f"
            ],
            [
             0.2222222222222222,
             "#7201a8"
            ],
            [
             0.3333333333333333,
             "#9c179e"
            ],
            [
             0.4444444444444444,
             "#bd3786"
            ],
            [
             0.5555555555555556,
             "#d8576b"
            ],
            [
             0.6666666666666666,
             "#ed7953"
            ],
            [
             0.7777777777777778,
             "#fb9f3a"
            ],
            [
             0.8888888888888888,
             "#fdca26"
            ],
            [
             1,
             "#f0f921"
            ]
           ],
           "sequentialminus": [
            [
             0,
             "#0d0887"
            ],
            [
             0.1111111111111111,
             "#46039f"
            ],
            [
             0.2222222222222222,
             "#7201a8"
            ],
            [
             0.3333333333333333,
             "#9c179e"
            ],
            [
             0.4444444444444444,
             "#bd3786"
            ],
            [
             0.5555555555555556,
             "#d8576b"
            ],
            [
             0.6666666666666666,
             "#ed7953"
            ],
            [
             0.7777777777777778,
             "#fb9f3a"
            ],
            [
             0.8888888888888888,
             "#fdca26"
            ],
            [
             1,
             "#f0f921"
            ]
           ]
          },
          "colorway": [
           "#636efa",
           "#EF553B",
           "#00cc96",
           "#ab63fa",
           "#FFA15A",
           "#19d3f3",
           "#FF6692",
           "#B6E880",
           "#FF97FF",
           "#FECB52"
          ],
          "font": {
           "color": "#2a3f5f"
          },
          "geo": {
           "bgcolor": "white",
           "lakecolor": "white",
           "landcolor": "#E5ECF6",
           "showlakes": true,
           "showland": true,
           "subunitcolor": "white"
          },
          "hoverlabel": {
           "align": "left"
          },
          "hovermode": "closest",
          "mapbox": {
           "style": "light"
          },
          "paper_bgcolor": "white",
          "plot_bgcolor": "#E5ECF6",
          "polar": {
           "angularaxis": {
            "gridcolor": "white",
            "linecolor": "white",
            "ticks": ""
           },
           "bgcolor": "#E5ECF6",
           "radialaxis": {
            "gridcolor": "white",
            "linecolor": "white",
            "ticks": ""
           }
          },
          "scene": {
           "xaxis": {
            "backgroundcolor": "#E5ECF6",
            "gridcolor": "white",
            "gridwidth": 2,
            "linecolor": "white",
            "showbackground": true,
            "ticks": "",
            "zerolinecolor": "white"
           },
           "yaxis": {
            "backgroundcolor": "#E5ECF6",
            "gridcolor": "white",
            "gridwidth": 2,
            "linecolor": "white",
            "showbackground": true,
            "ticks": "",
            "zerolinecolor": "white"
           },
           "zaxis": {
            "backgroundcolor": "#E5ECF6",
            "gridcolor": "white",
            "gridwidth": 2,
            "linecolor": "white",
            "showbackground": true,
            "ticks": "",
            "zerolinecolor": "white"
           }
          },
          "shapedefaults": {
           "line": {
            "color": "#2a3f5f"
           }
          },
          "ternary": {
           "aaxis": {
            "gridcolor": "white",
            "linecolor": "white",
            "ticks": ""
           },
           "baxis": {
            "gridcolor": "white",
            "linecolor": "white",
            "ticks": ""
           },
           "bgcolor": "#E5ECF6",
           "caxis": {
            "gridcolor": "white",
            "linecolor": "white",
            "ticks": ""
           }
          },
          "title": {
           "x": 0.05
          },
          "xaxis": {
           "automargin": true,
           "gridcolor": "white",
           "linecolor": "white",
           "ticks": "",
           "title": {
            "standoff": 15
           },
           "zerolinecolor": "white",
           "zerolinewidth": 2
          },
          "yaxis": {
           "automargin": true,
           "gridcolor": "white",
           "linecolor": "white",
           "ticks": "",
           "title": {
            "standoff": 15
           },
           "zerolinecolor": "white",
           "zerolinewidth": 2
          }
         }
        },
        "title": {
         "text": "Model size"
        },
        "width": 1200,
        "xaxis": {
         "anchor": "y",
         "domain": [
          0,
          1
         ],
         "title": {
          "text": "alpha"
         }
        },
        "yaxis": {
         "anchor": "x",
         "domain": [
          0,
          1
         ],
         "title": {
          "text": "tflite_model_INT8_size_kb"
         }
        }
       }
      },
      "text/html": [
       "<div>                            <div id=\"c130c91b-535b-42f4-8548-ffcf34949c80\" class=\"plotly-graph-div\" style=\"height:600px; width:1200px;\"></div>            <script type=\"text/javascript\">                require([\"plotly\"], function(Plotly) {                    window.PLOTLYENV=window.PLOTLYENV || {};                                    if (document.getElementById(\"c130c91b-535b-42f4-8548-ffcf34949c80\")) {                    Plotly.newPlot(                        \"c130c91b-535b-42f4-8548-ffcf34949c80\",                        [{\"alignmentgroup\":\"True\",\"hovertemplate\":\"alpha=%{x}<br>tflite_model_INT8_size_kb=%{y}<extra></extra>\",\"legendgroup\":\"\",\"marker\":{\"color\":\"#636efa\",\"pattern\":{\"shape\":\"\"}},\"name\":\"\",\"offsetgroup\":\"\",\"orientation\":\"v\",\"showlegend\":false,\"textposition\":\"auto\",\"texttemplate\":\"%{y:.2s}\",\"x\":[\"0.25\",\"0.35\",\"0.5\",\"1.0\"],\"xaxis\":\"x\",\"y\":[393.5234375,574.3359375,918.7890625,2597.3984375],\"yaxis\":\"y\",\"type\":\"bar\",\"width\":1}],                        {\"template\":{\"data\":{\"histogram2dcontour\":[{\"type\":\"histogram2dcontour\",\"colorbar\":{\"outlinewidth\":0,\"ticks\":\"\"},\"colorscale\":[[0.0,\"#0d0887\"],[0.1111111111111111,\"#46039f\"],[0.2222222222222222,\"#7201a8\"],[0.3333333333333333,\"#9c179e\"],[0.4444444444444444,\"#bd3786\"],[0.5555555555555556,\"#d8576b\"],[0.6666666666666666,\"#ed7953\"],[0.7777777777777778,\"#fb9f3a\"],[0.8888888888888888,\"#fdca26\"],[1.0,\"#f0f921\"]]}],\"choropleth\":[{\"type\":\"choropleth\",\"colorbar\":{\"outlinewidth\":0,\"ticks\":\"\"}}],\"histogram2d\":[{\"type\":\"histogram2d\",\"colorbar\":{\"outlinewidth\":0,\"ticks\":\"\"},\"colorscale\":[[0.0,\"#0d0887\"],[0.1111111111111111,\"#46039f\"],[0.2222222222222222,\"#7201a8\"],[0.3333333333333333,\"#9c179e\"],[0.4444444444444444,\"#bd3786\"],[0.5555555555555556,\"#d8576b\"],[0.6666666666666666,\"#ed7953\"],[0.7777777777777778,\"#fb9f3a\"],[0.8888888888888888,\"#fdca26\"],[1.0,\"#f0f921\"]]}],\"heatmap\":[{\"type\":\"heatmap\",\"colorbar\":{\"outlinewidth\":0,\"ticks\":\"\"},\"colorscale\":[[0.0,\"#0d0887\"],[0.1111111111111111,\"#46039f\"],[0.2222222222222222,\"#7201a8\"],[0.3333333333333333,\"#9c179e\"],[0.4444444444444444,\"#bd3786\"],[0.5555555555555556,\"#d8576b\"],[0.6666666666666666,\"#ed7953\"],[0.7777777777777778,\"#fb9f3a\"],[0.8888888888888888,\"#fdca26\"],[1.0,\"#f0f921\"]]}],\"heatmapgl\":[{\"type\":\"heatmapgl\",\"colorbar\":{\"outlinewidth\":0,\"ticks\":\"\"},\"colorscale\":[[0.0,\"#0d0887\"],[0.1111111111111111,\"#46039f\"],[0.2222222222222222,\"#7201a8\"],[0.3333333333333333,\"#9c179e\"],[0.4444444444444444,\"#bd3786\"],[0.5555555555555556,\"#d8576b\"],[0.6666666666666666,\"#ed7953\"],[0.7777777777777778,\"#fb9f3a\"],[0.8888888888888888,\"#fdca26\"],[1.0,\"#f0f921\"]]}],\"contourcarpet\":[{\"type\":\"contourcarpet\",\"colorbar\":{\"outlinewidth\":0,\"ticks\":\"\"}}],\"contour\":[{\"type\":\"contour\",\"colorbar\":{\"outlinewidth\":0,\"ticks\":\"\"},\"colorscale\":[[0.0,\"#0d0887\"],[0.1111111111111111,\"#46039f\"],[0.2222222222222222,\"#7201a8\"],[0.3333333333333333,\"#9c179e\"],[0.4444444444444444,\"#bd3786\"],[0.5555555555555556,\"#d8576b\"],[0.6666666666666666,\"#ed7953\"],[0.7777777777777778,\"#fb9f3a\"],[0.8888888888888888,\"#fdca26\"],[1.0,\"#f0f921\"]]}],\"surface\":[{\"type\":\"surface\",\"colorbar\":{\"outlinewidth\":0,\"ticks\":\"\"},\"colorscale\":[[0.0,\"#0d0887\"],[0.1111111111111111,\"#46039f\"],[0.2222222222222222,\"#7201a8\"],[0.3333333333333333,\"#9c179e\"],[0.4444444444444444,\"#bd3786\"],[0.5555555555555556,\"#d8576b\"],[0.6666666666666666,\"#ed7953\"],[0.7777777777777778,\"#fb9f3a\"],[0.8888888888888888,\"#fdca26\"],[1.0,\"#f0f921\"]]}],\"mesh3d\":[{\"type\":\"mesh3d\",\"colorbar\":{\"outlinewidth\":0,\"ticks\":\"\"}}],\"scatter\":[{\"fillpattern\":{\"fillmode\":\"overlay\",\"size\":10,\"solidity\":0.2},\"type\":\"scatter\"}],\"parcoords\":[{\"type\":\"parcoords\",\"line\":{\"colorbar\":{\"outlinewidth\":0,\"ticks\":\"\"}}}],\"scatterpolargl\":[{\"type\":\"scatterpolargl\",\"marker\":{\"colorbar\":{\"outlinewidth\":0,\"ticks\":\"\"}}}],\"bar\":[{\"error_x\":{\"color\":\"#2a3f5f\"},\"error_y\":{\"color\":\"#2a3f5f\"},\"marker\":{\"line\":{\"color\":\"#E5ECF6\",\"width\":0.5},\"pattern\":{\"fillmode\":\"overlay\",\"size\":10,\"solidity\":0.2}},\"type\":\"bar\"}],\"scattergeo\":[{\"type\":\"scattergeo\",\"marker\":{\"colorbar\":{\"outlinewidth\":0,\"ticks\":\"\"}}}],\"scatterpolar\":[{\"type\":\"scatterpolar\",\"marker\":{\"colorbar\":{\"outlinewidth\":0,\"ticks\":\"\"}}}],\"histogram\":[{\"marker\":{\"pattern\":{\"fillmode\":\"overlay\",\"size\":10,\"solidity\":0.2}},\"type\":\"histogram\"}],\"scattergl\":[{\"type\":\"scattergl\",\"marker\":{\"colorbar\":{\"outlinewidth\":0,\"ticks\":\"\"}}}],\"scatter3d\":[{\"type\":\"scatter3d\",\"line\":{\"colorbar\":{\"outlinewidth\":0,\"ticks\":\"\"}},\"marker\":{\"colorbar\":{\"outlinewidth\":0,\"ticks\":\"\"}}}],\"scattermapbox\":[{\"type\":\"scattermapbox\",\"marker\":{\"colorbar\":{\"outlinewidth\":0,\"ticks\":\"\"}}}],\"scatterternary\":[{\"type\":\"scatterternary\",\"marker\":{\"colorbar\":{\"outlinewidth\":0,\"ticks\":\"\"}}}],\"scattercarpet\":[{\"type\":\"scattercarpet\",\"marker\":{\"colorbar\":{\"outlinewidth\":0,\"ticks\":\"\"}}}],\"carpet\":[{\"aaxis\":{\"endlinecolor\":\"#2a3f5f\",\"gridcolor\":\"white\",\"linecolor\":\"white\",\"minorgridcolor\":\"white\",\"startlinecolor\":\"#2a3f5f\"},\"baxis\":{\"endlinecolor\":\"#2a3f5f\",\"gridcolor\":\"white\",\"linecolor\":\"white\",\"minorgridcolor\":\"white\",\"startlinecolor\":\"#2a3f5f\"},\"type\":\"carpet\"}],\"table\":[{\"cells\":{\"fill\":{\"color\":\"#EBF0F8\"},\"line\":{\"color\":\"white\"}},\"header\":{\"fill\":{\"color\":\"#C8D4E3\"},\"line\":{\"color\":\"white\"}},\"type\":\"table\"}],\"barpolar\":[{\"marker\":{\"line\":{\"color\":\"#E5ECF6\",\"width\":0.5},\"pattern\":{\"fillmode\":\"overlay\",\"size\":10,\"solidity\":0.2}},\"type\":\"barpolar\"}],\"pie\":[{\"automargin\":true,\"type\":\"pie\"}]},\"layout\":{\"autotypenumbers\":\"strict\",\"colorway\":[\"#636efa\",\"#EF553B\",\"#00cc96\",\"#ab63fa\",\"#FFA15A\",\"#19d3f3\",\"#FF6692\",\"#B6E880\",\"#FF97FF\",\"#FECB52\"],\"font\":{\"color\":\"#2a3f5f\"},\"hovermode\":\"closest\",\"hoverlabel\":{\"align\":\"left\"},\"paper_bgcolor\":\"white\",\"plot_bgcolor\":\"#E5ECF6\",\"polar\":{\"bgcolor\":\"#E5ECF6\",\"angularaxis\":{\"gridcolor\":\"white\",\"linecolor\":\"white\",\"ticks\":\"\"},\"radialaxis\":{\"gridcolor\":\"white\",\"linecolor\":\"white\",\"ticks\":\"\"}},\"ternary\":{\"bgcolor\":\"#E5ECF6\",\"aaxis\":{\"gridcolor\":\"white\",\"linecolor\":\"white\",\"ticks\":\"\"},\"baxis\":{\"gridcolor\":\"white\",\"linecolor\":\"white\",\"ticks\":\"\"},\"caxis\":{\"gridcolor\":\"white\",\"linecolor\":\"white\",\"ticks\":\"\"}},\"coloraxis\":{\"colorbar\":{\"outlinewidth\":0,\"ticks\":\"\"}},\"colorscale\":{\"sequential\":[[0.0,\"#0d0887\"],[0.1111111111111111,\"#46039f\"],[0.2222222222222222,\"#7201a8\"],[0.3333333333333333,\"#9c179e\"],[0.4444444444444444,\"#bd3786\"],[0.5555555555555556,\"#d8576b\"],[0.6666666666666666,\"#ed7953\"],[0.7777777777777778,\"#fb9f3a\"],[0.8888888888888888,\"#fdca26\"],[1.0,\"#f0f921\"]],\"sequentialminus\":[[0.0,\"#0d0887\"],[0.1111111111111111,\"#46039f\"],[0.2222222222222222,\"#7201a8\"],[0.3333333333333333,\"#9c179e\"],[0.4444444444444444,\"#bd3786\"],[0.5555555555555556,\"#d8576b\"],[0.6666666666666666,\"#ed7953\"],[0.7777777777777778,\"#fb9f3a\"],[0.8888888888888888,\"#fdca26\"],[1.0,\"#f0f921\"]],\"diverging\":[[0,\"#8e0152\"],[0.1,\"#c51b7d\"],[0.2,\"#de77ae\"],[0.3,\"#f1b6da\"],[0.4,\"#fde0ef\"],[0.5,\"#f7f7f7\"],[0.6,\"#e6f5d0\"],[0.7,\"#b8e186\"],[0.8,\"#7fbc41\"],[0.9,\"#4d9221\"],[1,\"#276419\"]]},\"xaxis\":{\"gridcolor\":\"white\",\"linecolor\":\"white\",\"ticks\":\"\",\"title\":{\"standoff\":15},\"zerolinecolor\":\"white\",\"automargin\":true,\"zerolinewidth\":2},\"yaxis\":{\"gridcolor\":\"white\",\"linecolor\":\"white\",\"ticks\":\"\",\"title\":{\"standoff\":15},\"zerolinecolor\":\"white\",\"automargin\":true,\"zerolinewidth\":2},\"scene\":{\"xaxis\":{\"backgroundcolor\":\"#E5ECF6\",\"gridcolor\":\"white\",\"linecolor\":\"white\",\"showbackground\":true,\"ticks\":\"\",\"zerolinecolor\":\"white\",\"gridwidth\":2},\"yaxis\":{\"backgroundcolor\":\"#E5ECF6\",\"gridcolor\":\"white\",\"linecolor\":\"white\",\"showbackground\":true,\"ticks\":\"\",\"zerolinecolor\":\"white\",\"gridwidth\":2},\"zaxis\":{\"backgroundcolor\":\"#E5ECF6\",\"gridcolor\":\"white\",\"linecolor\":\"white\",\"showbackground\":true,\"ticks\":\"\",\"zerolinecolor\":\"white\",\"gridwidth\":2}},\"shapedefaults\":{\"line\":{\"color\":\"#2a3f5f\"}},\"annotationdefaults\":{\"arrowcolor\":\"#2a3f5f\",\"arrowhead\":0,\"arrowwidth\":1},\"geo\":{\"bgcolor\":\"white\",\"landcolor\":\"#E5ECF6\",\"subunitcolor\":\"white\",\"showland\":true,\"showlakes\":true,\"lakecolor\":\"white\"},\"title\":{\"x\":0.05},\"mapbox\":{\"style\":\"light\"}}},\"xaxis\":{\"anchor\":\"y\",\"domain\":[0.0,1.0],\"title\":{\"text\":\"alpha\"}},\"yaxis\":{\"anchor\":\"x\",\"domain\":[0.0,1.0],\"title\":{\"text\":\"tflite_model_INT8_size_kb\"}},\"legend\":{\"tracegroupgap\":0},\"title\":{\"text\":\"Model size\"},\"barmode\":\"relative\",\"height\":600,\"width\":1200,\"shapes\":[{\"line\":{\"color\":\"orange\",\"dash\":\"dash\",\"width\":3},\"type\":\"line\",\"x0\":0,\"x1\":1,\"xref\":\"x domain\",\"y0\":256,\"y1\":256,\"yref\":\"y\"}],\"annotations\":[{\"showarrow\":false,\"text\":\"256 kB MCU constraint\",\"x\":1,\"xanchor\":\"right\",\"xref\":\"x domain\",\"y\":256,\"yanchor\":\"top\",\"yref\":\"y\"}],\"showlegend\":true},                        {\"responsive\": true}                    ).then(function(){\n",
       "                            \n",
       "var gd = document.getElementById('c130c91b-535b-42f4-8548-ffcf34949c80');\n",
       "var x = new MutationObserver(function (mutations, observer) {{\n",
       "        var display = window.getComputedStyle(gd).display;\n",
       "        if (!display || display === 'none') {{\n",
       "            console.log([gd, 'removed!']);\n",
       "            Plotly.purge(gd);\n",
       "            observer.disconnect();\n",
       "        }}\n",
       "}});\n",
       "\n",
       "// Listen for the removal of the full notebook cells\n",
       "var notebookContainer = gd.closest('#notebook-container');\n",
       "if (notebookContainer) {{\n",
       "    x.observe(notebookContainer, {childList: true});\n",
       "}}\n",
       "\n",
       "// Listen for the clearing of the current output cell\n",
       "var outputEl = gd.closest('.output');\n",
       "if (outputEl) {{\n",
       "    x.observe(outputEl, {childList: true});\n",
       "}}\n",
       "\n",
       "                        })                };                });            </script>        </div>"
      ]
     },
     "metadata": {},
     "output_type": "display_data"
    }
   ],
   "source": [
    "size_fig = px.bar(mbnv2_df, x=\"alpha\", y= \"tflite_model_INT8_size_kb\",\n",
    "                  text_auto=\".2s\",\n",
    "                  labels={\"name\" : \"layer\",\n",
    "                          \"macs\" : \"MACs\"},\n",
    "                     width=1200, height=600,\n",
    "    title=f\"Model size\")\n",
    "size_fig.add_hline(y=256, line_width=3, line_dash=\"dash\", line_color=\"orange\", annotation_text=\"256 kB MCU constraint\", \n",
    "            annotation_position=\"bottom right\")\n",
    "#peak_memory = peak_memory_df[\"RAM_b\"].max()\n",
    "#peak_mem_fig.add_hline(y=peak_memory, line_width=3, line_dash=\"dash\", line_color=\"red\", annotation_text=f\"{peak_memory} B peak activation\", \n",
    "#               annotation_position=\"top\")\n",
    "# tflite_fig.update_layout(yaxis_range=[0,300])\n",
    "size_fig.update_traces(width=1)\n",
    "size_fig.update_layout(showlegend=True)\n",
    "\n",
    "size_fig.show()"
   ]
  },
  {
   "cell_type": "code",
   "execution_count": 158,
   "metadata": {},
   "outputs": [
    {
     "data": {
      "application/vnd.plotly.v1+json": {
       "config": {
        "plotlyServerURL": "https://plot.ly"
       },
       "data": [
        {
         "name": "model size in kB",
         "type": "bar",
         "x": [
          "0.25",
          "0.35",
          "0.5",
          "1.0"
         ],
         "xaxis": "x",
         "y": [
          393.5234375,
          574.3359375,
          918.7890625,
          2597.3984375
         ],
         "yaxis": "y"
        },
        {
         "name": "peak memory in B",
         "type": "bar",
         "x": [
          "0.25",
          "0.35",
          "0.5",
          "1.0"
         ],
         "xaxis": "x",
         "y": [
          69120,
          86400,
          138240,
          276480
         ],
         "yaxis": "y2"
        }
       ],
       "layout": {
        "bargap": 0.15,
        "bargroupgap": 0.1,
        "barmode": "group",
        "template": {
         "data": {
          "bar": [
           {
            "error_x": {
             "color": "#2a3f5f"
            },
            "error_y": {
             "color": "#2a3f5f"
            },
            "marker": {
             "line": {
              "color": "#E5ECF6",
              "width": 0.5
             },
             "pattern": {
              "fillmode": "overlay",
              "size": 10,
              "solidity": 0.2
             }
            },
            "type": "bar"
           }
          ],
          "barpolar": [
           {
            "marker": {
             "line": {
              "color": "#E5ECF6",
              "width": 0.5
             },
             "pattern": {
              "fillmode": "overlay",
              "size": 10,
              "solidity": 0.2
             }
            },
            "type": "barpolar"
           }
          ],
          "carpet": [
           {
            "aaxis": {
             "endlinecolor": "#2a3f5f",
             "gridcolor": "white",
             "linecolor": "white",
             "minorgridcolor": "white",
             "startlinecolor": "#2a3f5f"
            },
            "baxis": {
             "endlinecolor": "#2a3f5f",
             "gridcolor": "white",
             "linecolor": "white",
             "minorgridcolor": "white",
             "startlinecolor": "#2a3f5f"
            },
            "type": "carpet"
           }
          ],
          "choropleth": [
           {
            "colorbar": {
             "outlinewidth": 0,
             "ticks": ""
            },
            "type": "choropleth"
           }
          ],
          "contour": [
           {
            "colorbar": {
             "outlinewidth": 0,
             "ticks": ""
            },
            "colorscale": [
             [
              0,
              "#0d0887"
             ],
             [
              0.1111111111111111,
              "#46039f"
             ],
             [
              0.2222222222222222,
              "#7201a8"
             ],
             [
              0.3333333333333333,
              "#9c179e"
             ],
             [
              0.4444444444444444,
              "#bd3786"
             ],
             [
              0.5555555555555556,
              "#d8576b"
             ],
             [
              0.6666666666666666,
              "#ed7953"
             ],
             [
              0.7777777777777778,
              "#fb9f3a"
             ],
             [
              0.8888888888888888,
              "#fdca26"
             ],
             [
              1,
              "#f0f921"
             ]
            ],
            "type": "contour"
           }
          ],
          "contourcarpet": [
           {
            "colorbar": {
             "outlinewidth": 0,
             "ticks": ""
            },
            "type": "contourcarpet"
           }
          ],
          "heatmap": [
           {
            "colorbar": {
             "outlinewidth": 0,
             "ticks": ""
            },
            "colorscale": [
             [
              0,
              "#0d0887"
             ],
             [
              0.1111111111111111,
              "#46039f"
             ],
             [
              0.2222222222222222,
              "#7201a8"
             ],
             [
              0.3333333333333333,
              "#9c179e"
             ],
             [
              0.4444444444444444,
              "#bd3786"
             ],
             [
              0.5555555555555556,
              "#d8576b"
             ],
             [
              0.6666666666666666,
              "#ed7953"
             ],
             [
              0.7777777777777778,
              "#fb9f3a"
             ],
             [
              0.8888888888888888,
              "#fdca26"
             ],
             [
              1,
              "#f0f921"
             ]
            ],
            "type": "heatmap"
           }
          ],
          "heatmapgl": [
           {
            "colorbar": {
             "outlinewidth": 0,
             "ticks": ""
            },
            "colorscale": [
             [
              0,
              "#0d0887"
             ],
             [
              0.1111111111111111,
              "#46039f"
             ],
             [
              0.2222222222222222,
              "#7201a8"
             ],
             [
              0.3333333333333333,
              "#9c179e"
             ],
             [
              0.4444444444444444,
              "#bd3786"
             ],
             [
              0.5555555555555556,
              "#d8576b"
             ],
             [
              0.6666666666666666,
              "#ed7953"
             ],
             [
              0.7777777777777778,
              "#fb9f3a"
             ],
             [
              0.8888888888888888,
              "#fdca26"
             ],
             [
              1,
              "#f0f921"
             ]
            ],
            "type": "heatmapgl"
           }
          ],
          "histogram": [
           {
            "marker": {
             "pattern": {
              "fillmode": "overlay",
              "size": 10,
              "solidity": 0.2
             }
            },
            "type": "histogram"
           }
          ],
          "histogram2d": [
           {
            "colorbar": {
             "outlinewidth": 0,
             "ticks": ""
            },
            "colorscale": [
             [
              0,
              "#0d0887"
             ],
             [
              0.1111111111111111,
              "#46039f"
             ],
             [
              0.2222222222222222,
              "#7201a8"
             ],
             [
              0.3333333333333333,
              "#9c179e"
             ],
             [
              0.4444444444444444,
              "#bd3786"
             ],
             [
              0.5555555555555556,
              "#d8576b"
             ],
             [
              0.6666666666666666,
              "#ed7953"
             ],
             [
              0.7777777777777778,
              "#fb9f3a"
             ],
             [
              0.8888888888888888,
              "#fdca26"
             ],
             [
              1,
              "#f0f921"
             ]
            ],
            "type": "histogram2d"
           }
          ],
          "histogram2dcontour": [
           {
            "colorbar": {
             "outlinewidth": 0,
             "ticks": ""
            },
            "colorscale": [
             [
              0,
              "#0d0887"
             ],
             [
              0.1111111111111111,
              "#46039f"
             ],
             [
              0.2222222222222222,
              "#7201a8"
             ],
             [
              0.3333333333333333,
              "#9c179e"
             ],
             [
              0.4444444444444444,
              "#bd3786"
             ],
             [
              0.5555555555555556,
              "#d8576b"
             ],
             [
              0.6666666666666666,
              "#ed7953"
             ],
             [
              0.7777777777777778,
              "#fb9f3a"
             ],
             [
              0.8888888888888888,
              "#fdca26"
             ],
             [
              1,
              "#f0f921"
             ]
            ],
            "type": "histogram2dcontour"
           }
          ],
          "mesh3d": [
           {
            "colorbar": {
             "outlinewidth": 0,
             "ticks": ""
            },
            "type": "mesh3d"
           }
          ],
          "parcoords": [
           {
            "line": {
             "colorbar": {
              "outlinewidth": 0,
              "ticks": ""
             }
            },
            "type": "parcoords"
           }
          ],
          "pie": [
           {
            "automargin": true,
            "type": "pie"
           }
          ],
          "scatter": [
           {
            "fillpattern": {
             "fillmode": "overlay",
             "size": 10,
             "solidity": 0.2
            },
            "type": "scatter"
           }
          ],
          "scatter3d": [
           {
            "line": {
             "colorbar": {
              "outlinewidth": 0,
              "ticks": ""
             }
            },
            "marker": {
             "colorbar": {
              "outlinewidth": 0,
              "ticks": ""
             }
            },
            "type": "scatter3d"
           }
          ],
          "scattercarpet": [
           {
            "marker": {
             "colorbar": {
              "outlinewidth": 0,
              "ticks": ""
             }
            },
            "type": "scattercarpet"
           }
          ],
          "scattergeo": [
           {
            "marker": {
             "colorbar": {
              "outlinewidth": 0,
              "ticks": ""
             }
            },
            "type": "scattergeo"
           }
          ],
          "scattergl": [
           {
            "marker": {
             "colorbar": {
              "outlinewidth": 0,
              "ticks": ""
             }
            },
            "type": "scattergl"
           }
          ],
          "scattermapbox": [
           {
            "marker": {
             "colorbar": {
              "outlinewidth": 0,
              "ticks": ""
             }
            },
            "type": "scattermapbox"
           }
          ],
          "scatterpolar": [
           {
            "marker": {
             "colorbar": {
              "outlinewidth": 0,
              "ticks": ""
             }
            },
            "type": "scatterpolar"
           }
          ],
          "scatterpolargl": [
           {
            "marker": {
             "colorbar": {
              "outlinewidth": 0,
              "ticks": ""
             }
            },
            "type": "scatterpolargl"
           }
          ],
          "scatterternary": [
           {
            "marker": {
             "colorbar": {
              "outlinewidth": 0,
              "ticks": ""
             }
            },
            "type": "scatterternary"
           }
          ],
          "surface": [
           {
            "colorbar": {
             "outlinewidth": 0,
             "ticks": ""
            },
            "colorscale": [
             [
              0,
              "#0d0887"
             ],
             [
              0.1111111111111111,
              "#46039f"
             ],
             [
              0.2222222222222222,
              "#7201a8"
             ],
             [
              0.3333333333333333,
              "#9c179e"
             ],
             [
              0.4444444444444444,
              "#bd3786"
             ],
             [
              0.5555555555555556,
              "#d8576b"
             ],
             [
              0.6666666666666666,
              "#ed7953"
             ],
             [
              0.7777777777777778,
              "#fb9f3a"
             ],
             [
              0.8888888888888888,
              "#fdca26"
             ],
             [
              1,
              "#f0f921"
             ]
            ],
            "type": "surface"
           }
          ],
          "table": [
           {
            "cells": {
             "fill": {
              "color": "#EBF0F8"
             },
             "line": {
              "color": "white"
             }
            },
            "header": {
             "fill": {
              "color": "#C8D4E3"
             },
             "line": {
              "color": "white"
             }
            },
            "type": "table"
           }
          ]
         },
         "layout": {
          "annotationdefaults": {
           "arrowcolor": "#2a3f5f",
           "arrowhead": 0,
           "arrowwidth": 1
          },
          "autotypenumbers": "strict",
          "coloraxis": {
           "colorbar": {
            "outlinewidth": 0,
            "ticks": ""
           }
          },
          "colorscale": {
           "diverging": [
            [
             0,
             "#8e0152"
            ],
            [
             0.1,
             "#c51b7d"
            ],
            [
             0.2,
             "#de77ae"
            ],
            [
             0.3,
             "#f1b6da"
            ],
            [
             0.4,
             "#fde0ef"
            ],
            [
             0.5,
             "#f7f7f7"
            ],
            [
             0.6,
             "#e6f5d0"
            ],
            [
             0.7,
             "#b8e186"
            ],
            [
             0.8,
             "#7fbc41"
            ],
            [
             0.9,
             "#4d9221"
            ],
            [
             1,
             "#276419"
            ]
           ],
           "sequential": [
            [
             0,
             "#0d0887"
            ],
            [
             0.1111111111111111,
             "#46039f"
            ],
            [
             0.2222222222222222,
             "#7201a8"
            ],
            [
             0.3333333333333333,
             "#9c179e"
            ],
            [
             0.4444444444444444,
             "#bd3786"
            ],
            [
             0.5555555555555556,
             "#d8576b"
            ],
            [
             0.6666666666666666,
             "#ed7953"
            ],
            [
             0.7777777777777778,
             "#fb9f3a"
            ],
            [
             0.8888888888888888,
             "#fdca26"
            ],
            [
             1,
             "#f0f921"
            ]
           ],
           "sequentialminus": [
            [
             0,
             "#0d0887"
            ],
            [
             0.1111111111111111,
             "#46039f"
            ],
            [
             0.2222222222222222,
             "#7201a8"
            ],
            [
             0.3333333333333333,
             "#9c179e"
            ],
            [
             0.4444444444444444,
             "#bd3786"
            ],
            [
             0.5555555555555556,
             "#d8576b"
            ],
            [
             0.6666666666666666,
             "#ed7953"
            ],
            [
             0.7777777777777778,
             "#fb9f3a"
            ],
            [
             0.8888888888888888,
             "#fdca26"
            ],
            [
             1,
             "#f0f921"
            ]
           ]
          },
          "colorway": [
           "#636efa",
           "#EF553B",
           "#00cc96",
           "#ab63fa",
           "#FFA15A",
           "#19d3f3",
           "#FF6692",
           "#B6E880",
           "#FF97FF",
           "#FECB52"
          ],
          "font": {
           "color": "#2a3f5f"
          },
          "geo": {
           "bgcolor": "white",
           "lakecolor": "white",
           "landcolor": "#E5ECF6",
           "showlakes": true,
           "showland": true,
           "subunitcolor": "white"
          },
          "hoverlabel": {
           "align": "left"
          },
          "hovermode": "closest",
          "mapbox": {
           "style": "light"
          },
          "paper_bgcolor": "white",
          "plot_bgcolor": "#E5ECF6",
          "polar": {
           "angularaxis": {
            "gridcolor": "white",
            "linecolor": "white",
            "ticks": ""
           },
           "bgcolor": "#E5ECF6",
           "radialaxis": {
            "gridcolor": "white",
            "linecolor": "white",
            "ticks": ""
           }
          },
          "scene": {
           "xaxis": {
            "backgroundcolor": "#E5ECF6",
            "gridcolor": "white",
            "gridwidth": 2,
            "linecolor": "white",
            "showbackground": true,
            "ticks": "",
            "zerolinecolor": "white"
           },
           "yaxis": {
            "backgroundcolor": "#E5ECF6",
            "gridcolor": "white",
            "gridwidth": 2,
            "linecolor": "white",
            "showbackground": true,
            "ticks": "",
            "zerolinecolor": "white"
           },
           "zaxis": {
            "backgroundcolor": "#E5ECF6",
            "gridcolor": "white",
            "gridwidth": 2,
            "linecolor": "white",
            "showbackground": true,
            "ticks": "",
            "zerolinecolor": "white"
           }
          },
          "shapedefaults": {
           "line": {
            "color": "#2a3f5f"
           }
          },
          "ternary": {
           "aaxis": {
            "gridcolor": "white",
            "linecolor": "white",
            "ticks": ""
           },
           "baxis": {
            "gridcolor": "white",
            "linecolor": "white",
            "ticks": ""
           },
           "bgcolor": "#E5ECF6",
           "caxis": {
            "gridcolor": "white",
            "linecolor": "white",
            "ticks": ""
           }
          },
          "title": {
           "x": 0.05
          },
          "xaxis": {
           "automargin": true,
           "gridcolor": "white",
           "linecolor": "white",
           "ticks": "",
           "title": {
            "standoff": 15
           },
           "zerolinecolor": "white",
           "zerolinewidth": 2
          },
          "yaxis": {
           "automargin": true,
           "gridcolor": "white",
           "linecolor": "white",
           "ticks": "",
           "title": {
            "standoff": 15
           },
           "zerolinecolor": "white",
           "zerolinewidth": 2
          }
         }
        },
        "title": {
         "text": "Double Y Axis Example"
        },
        "xaxis": {
         "anchor": "y",
         "domain": [
          0,
          0.94
         ],
         "title": {
          "text": "xaxis title"
         }
        },
        "yaxis": {
         "anchor": "x",
         "domain": [
          0,
          1
         ],
         "title": {
          "text": "<b>primary</b> yaxis title"
         }
        },
        "yaxis2": {
         "anchor": "x",
         "overlaying": "y",
         "side": "right",
         "title": {
          "text": "<b>secondary</b> yaxis title"
         }
        }
       }
      },
      "text/html": [
       "<div>                            <div id=\"950ddd8a-1cd0-48ac-a4f9-d0694900bbeb\" class=\"plotly-graph-div\" style=\"height:525px; width:100%;\"></div>            <script type=\"text/javascript\">                require([\"plotly\"], function(Plotly) {                    window.PLOTLYENV=window.PLOTLYENV || {};                                    if (document.getElementById(\"950ddd8a-1cd0-48ac-a4f9-d0694900bbeb\")) {                    Plotly.newPlot(                        \"950ddd8a-1cd0-48ac-a4f9-d0694900bbeb\",                        [{\"name\":\"model size in kB\",\"x\":[\"0.25\",\"0.35\",\"0.5\",\"1.0\"],\"y\":[393.5234375,574.3359375,918.7890625,2597.3984375],\"type\":\"bar\",\"xaxis\":\"x\",\"yaxis\":\"y\"},{\"name\":\"peak memory in B\",\"x\":[\"0.25\",\"0.35\",\"0.5\",\"1.0\"],\"y\":[69120.0,86400.0,138240.0,276480.0],\"type\":\"bar\",\"xaxis\":\"x\",\"yaxis\":\"y2\"}],                        {\"template\":{\"data\":{\"histogram2dcontour\":[{\"type\":\"histogram2dcontour\",\"colorbar\":{\"outlinewidth\":0,\"ticks\":\"\"},\"colorscale\":[[0.0,\"#0d0887\"],[0.1111111111111111,\"#46039f\"],[0.2222222222222222,\"#7201a8\"],[0.3333333333333333,\"#9c179e\"],[0.4444444444444444,\"#bd3786\"],[0.5555555555555556,\"#d8576b\"],[0.6666666666666666,\"#ed7953\"],[0.7777777777777778,\"#fb9f3a\"],[0.8888888888888888,\"#fdca26\"],[1.0,\"#f0f921\"]]}],\"choropleth\":[{\"type\":\"choropleth\",\"colorbar\":{\"outlinewidth\":0,\"ticks\":\"\"}}],\"histogram2d\":[{\"type\":\"histogram2d\",\"colorbar\":{\"outlinewidth\":0,\"ticks\":\"\"},\"colorscale\":[[0.0,\"#0d0887\"],[0.1111111111111111,\"#46039f\"],[0.2222222222222222,\"#7201a8\"],[0.3333333333333333,\"#9c179e\"],[0.4444444444444444,\"#bd3786\"],[0.5555555555555556,\"#d8576b\"],[0.6666666666666666,\"#ed7953\"],[0.7777777777777778,\"#fb9f3a\"],[0.8888888888888888,\"#fdca26\"],[1.0,\"#f0f921\"]]}],\"heatmap\":[{\"type\":\"heatmap\",\"colorbar\":{\"outlinewidth\":0,\"ticks\":\"\"},\"colorscale\":[[0.0,\"#0d0887\"],[0.1111111111111111,\"#46039f\"],[0.2222222222222222,\"#7201a8\"],[0.3333333333333333,\"#9c179e\"],[0.4444444444444444,\"#bd3786\"],[0.5555555555555556,\"#d8576b\"],[0.6666666666666666,\"#ed7953\"],[0.7777777777777778,\"#fb9f3a\"],[0.8888888888888888,\"#fdca26\"],[1.0,\"#f0f921\"]]}],\"heatmapgl\":[{\"type\":\"heatmapgl\",\"colorbar\":{\"outlinewidth\":0,\"ticks\":\"\"},\"colorscale\":[[0.0,\"#0d0887\"],[0.1111111111111111,\"#46039f\"],[0.2222222222222222,\"#7201a8\"],[0.3333333333333333,\"#9c179e\"],[0.4444444444444444,\"#bd3786\"],[0.5555555555555556,\"#d8576b\"],[0.6666666666666666,\"#ed7953\"],[0.7777777777777778,\"#fb9f3a\"],[0.8888888888888888,\"#fdca26\"],[1.0,\"#f0f921\"]]}],\"contourcarpet\":[{\"type\":\"contourcarpet\",\"colorbar\":{\"outlinewidth\":0,\"ticks\":\"\"}}],\"contour\":[{\"type\":\"contour\",\"colorbar\":{\"outlinewidth\":0,\"ticks\":\"\"},\"colorscale\":[[0.0,\"#0d0887\"],[0.1111111111111111,\"#46039f\"],[0.2222222222222222,\"#7201a8\"],[0.3333333333333333,\"#9c179e\"],[0.4444444444444444,\"#bd3786\"],[0.5555555555555556,\"#d8576b\"],[0.6666666666666666,\"#ed7953\"],[0.7777777777777778,\"#fb9f3a\"],[0.8888888888888888,\"#fdca26\"],[1.0,\"#f0f921\"]]}],\"surface\":[{\"type\":\"surface\",\"colorbar\":{\"outlinewidth\":0,\"ticks\":\"\"},\"colorscale\":[[0.0,\"#0d0887\"],[0.1111111111111111,\"#46039f\"],[0.2222222222222222,\"#7201a8\"],[0.3333333333333333,\"#9c179e\"],[0.4444444444444444,\"#bd3786\"],[0.5555555555555556,\"#d8576b\"],[0.6666666666666666,\"#ed7953\"],[0.7777777777777778,\"#fb9f3a\"],[0.8888888888888888,\"#fdca26\"],[1.0,\"#f0f921\"]]}],\"mesh3d\":[{\"type\":\"mesh3d\",\"colorbar\":{\"outlinewidth\":0,\"ticks\":\"\"}}],\"scatter\":[{\"fillpattern\":{\"fillmode\":\"overlay\",\"size\":10,\"solidity\":0.2},\"type\":\"scatter\"}],\"parcoords\":[{\"type\":\"parcoords\",\"line\":{\"colorbar\":{\"outlinewidth\":0,\"ticks\":\"\"}}}],\"scatterpolargl\":[{\"type\":\"scatterpolargl\",\"marker\":{\"colorbar\":{\"outlinewidth\":0,\"ticks\":\"\"}}}],\"bar\":[{\"error_x\":{\"color\":\"#2a3f5f\"},\"error_y\":{\"color\":\"#2a3f5f\"},\"marker\":{\"line\":{\"color\":\"#E5ECF6\",\"width\":0.5},\"pattern\":{\"fillmode\":\"overlay\",\"size\":10,\"solidity\":0.2}},\"type\":\"bar\"}],\"scattergeo\":[{\"type\":\"scattergeo\",\"marker\":{\"colorbar\":{\"outlinewidth\":0,\"ticks\":\"\"}}}],\"scatterpolar\":[{\"type\":\"scatterpolar\",\"marker\":{\"colorbar\":{\"outlinewidth\":0,\"ticks\":\"\"}}}],\"histogram\":[{\"marker\":{\"pattern\":{\"fillmode\":\"overlay\",\"size\":10,\"solidity\":0.2}},\"type\":\"histogram\"}],\"scattergl\":[{\"type\":\"scattergl\",\"marker\":{\"colorbar\":{\"outlinewidth\":0,\"ticks\":\"\"}}}],\"scatter3d\":[{\"type\":\"scatter3d\",\"line\":{\"colorbar\":{\"outlinewidth\":0,\"ticks\":\"\"}},\"marker\":{\"colorbar\":{\"outlinewidth\":0,\"ticks\":\"\"}}}],\"scattermapbox\":[{\"type\":\"scattermapbox\",\"marker\":{\"colorbar\":{\"outlinewidth\":0,\"ticks\":\"\"}}}],\"scatterternary\":[{\"type\":\"scatterternary\",\"marker\":{\"colorbar\":{\"outlinewidth\":0,\"ticks\":\"\"}}}],\"scattercarpet\":[{\"type\":\"scattercarpet\",\"marker\":{\"colorbar\":{\"outlinewidth\":0,\"ticks\":\"\"}}}],\"carpet\":[{\"aaxis\":{\"endlinecolor\":\"#2a3f5f\",\"gridcolor\":\"white\",\"linecolor\":\"white\",\"minorgridcolor\":\"white\",\"startlinecolor\":\"#2a3f5f\"},\"baxis\":{\"endlinecolor\":\"#2a3f5f\",\"gridcolor\":\"white\",\"linecolor\":\"white\",\"minorgridcolor\":\"white\",\"startlinecolor\":\"#2a3f5f\"},\"type\":\"carpet\"}],\"table\":[{\"cells\":{\"fill\":{\"color\":\"#EBF0F8\"},\"line\":{\"color\":\"white\"}},\"header\":{\"fill\":{\"color\":\"#C8D4E3\"},\"line\":{\"color\":\"white\"}},\"type\":\"table\"}],\"barpolar\":[{\"marker\":{\"line\":{\"color\":\"#E5ECF6\",\"width\":0.5},\"pattern\":{\"fillmode\":\"overlay\",\"size\":10,\"solidity\":0.2}},\"type\":\"barpolar\"}],\"pie\":[{\"automargin\":true,\"type\":\"pie\"}]},\"layout\":{\"autotypenumbers\":\"strict\",\"colorway\":[\"#636efa\",\"#EF553B\",\"#00cc96\",\"#ab63fa\",\"#FFA15A\",\"#19d3f3\",\"#FF6692\",\"#B6E880\",\"#FF97FF\",\"#FECB52\"],\"font\":{\"color\":\"#2a3f5f\"},\"hovermode\":\"closest\",\"hoverlabel\":{\"align\":\"left\"},\"paper_bgcolor\":\"white\",\"plot_bgcolor\":\"#E5ECF6\",\"polar\":{\"bgcolor\":\"#E5ECF6\",\"angularaxis\":{\"gridcolor\":\"white\",\"linecolor\":\"white\",\"ticks\":\"\"},\"radialaxis\":{\"gridcolor\":\"white\",\"linecolor\":\"white\",\"ticks\":\"\"}},\"ternary\":{\"bgcolor\":\"#E5ECF6\",\"aaxis\":{\"gridcolor\":\"white\",\"linecolor\":\"white\",\"ticks\":\"\"},\"baxis\":{\"gridcolor\":\"white\",\"linecolor\":\"white\",\"ticks\":\"\"},\"caxis\":{\"gridcolor\":\"white\",\"linecolor\":\"white\",\"ticks\":\"\"}},\"coloraxis\":{\"colorbar\":{\"outlinewidth\":0,\"ticks\":\"\"}},\"colorscale\":{\"sequential\":[[0.0,\"#0d0887\"],[0.1111111111111111,\"#46039f\"],[0.2222222222222222,\"#7201a8\"],[0.3333333333333333,\"#9c179e\"],[0.4444444444444444,\"#bd3786\"],[0.5555555555555556,\"#d8576b\"],[0.6666666666666666,\"#ed7953\"],[0.7777777777777778,\"#fb9f3a\"],[0.8888888888888888,\"#fdca26\"],[1.0,\"#f0f921\"]],\"sequentialminus\":[[0.0,\"#0d0887\"],[0.1111111111111111,\"#46039f\"],[0.2222222222222222,\"#7201a8\"],[0.3333333333333333,\"#9c179e\"],[0.4444444444444444,\"#bd3786\"],[0.5555555555555556,\"#d8576b\"],[0.6666666666666666,\"#ed7953\"],[0.7777777777777778,\"#fb9f3a\"],[0.8888888888888888,\"#fdca26\"],[1.0,\"#f0f921\"]],\"diverging\":[[0,\"#8e0152\"],[0.1,\"#c51b7d\"],[0.2,\"#de77ae\"],[0.3,\"#f1b6da\"],[0.4,\"#fde0ef\"],[0.5,\"#f7f7f7\"],[0.6,\"#e6f5d0\"],[0.7,\"#b8e186\"],[0.8,\"#7fbc41\"],[0.9,\"#4d9221\"],[1,\"#276419\"]]},\"xaxis\":{\"gridcolor\":\"white\",\"linecolor\":\"white\",\"ticks\":\"\",\"title\":{\"standoff\":15},\"zerolinecolor\":\"white\",\"automargin\":true,\"zerolinewidth\":2},\"yaxis\":{\"gridcolor\":\"white\",\"linecolor\":\"white\",\"ticks\":\"\",\"title\":{\"standoff\":15},\"zerolinecolor\":\"white\",\"automargin\":true,\"zerolinewidth\":2},\"scene\":{\"xaxis\":{\"backgroundcolor\":\"#E5ECF6\",\"gridcolor\":\"white\",\"linecolor\":\"white\",\"showbackground\":true,\"ticks\":\"\",\"zerolinecolor\":\"white\",\"gridwidth\":2},\"yaxis\":{\"backgroundcolor\":\"#E5ECF6\",\"gridcolor\":\"white\",\"linecolor\":\"white\",\"showbackground\":true,\"ticks\":\"\",\"zerolinecolor\":\"white\",\"gridwidth\":2},\"zaxis\":{\"backgroundcolor\":\"#E5ECF6\",\"gridcolor\":\"white\",\"linecolor\":\"white\",\"showbackground\":true,\"ticks\":\"\",\"zerolinecolor\":\"white\",\"gridwidth\":2}},\"shapedefaults\":{\"line\":{\"color\":\"#2a3f5f\"}},\"annotationdefaults\":{\"arrowcolor\":\"#2a3f5f\",\"arrowhead\":0,\"arrowwidth\":1},\"geo\":{\"bgcolor\":\"white\",\"landcolor\":\"#E5ECF6\",\"subunitcolor\":\"white\",\"showland\":true,\"showlakes\":true,\"lakecolor\":\"white\"},\"title\":{\"x\":0.05},\"mapbox\":{\"style\":\"light\"}}},\"xaxis\":{\"anchor\":\"y\",\"domain\":[0.0,0.94],\"title\":{\"text\":\"xaxis title\"}},\"yaxis\":{\"anchor\":\"x\",\"domain\":[0.0,1.0],\"title\":{\"text\":\"<b>primary</b> yaxis title\"}},\"yaxis2\":{\"anchor\":\"x\",\"overlaying\":\"y\",\"side\":\"right\",\"title\":{\"text\":\"<b>secondary</b> yaxis title\"}},\"title\":{\"text\":\"Double Y Axis Example\"},\"barmode\":\"group\",\"bargap\":0.15,\"bargroupgap\":0.1},                        {\"responsive\": true}                    ).then(function(){\n",
       "                            \n",
       "var gd = document.getElementById('950ddd8a-1cd0-48ac-a4f9-d0694900bbeb');\n",
       "var x = new MutationObserver(function (mutations, observer) {{\n",
       "        var display = window.getComputedStyle(gd).display;\n",
       "        if (!display || display === 'none') {{\n",
       "            console.log([gd, 'removed!']);\n",
       "            Plotly.purge(gd);\n",
       "            observer.disconnect();\n",
       "        }}\n",
       "}});\n",
       "\n",
       "// Listen for the removal of the full notebook cells\n",
       "var notebookContainer = gd.closest('#notebook-container');\n",
       "if (notebookContainer) {{\n",
       "    x.observe(notebookContainer, {childList: true});\n",
       "}}\n",
       "\n",
       "// Listen for the clearing of the current output cell\n",
       "var outputEl = gd.closest('.output');\n",
       "if (outputEl) {{\n",
       "    x.observe(outputEl, {childList: true});\n",
       "}}\n",
       "\n",
       "                        })                };                });            </script>        </div>"
      ]
     },
     "metadata": {},
     "output_type": "display_data"
    }
   ],
   "source": [
    "# Create figure with secondary y-axis\n",
    "fig = make_subplots(specs=[[{\"secondary_y\": True}]])\n",
    "#fig = go.Figure()#specs=[[{\"secondary_y\": True}]])\n",
    "# Add traces\n",
    "fig.add_trace(go.Bar(x = mbnv2_df[\"alpha\"],\n",
    "                                   y = mbnv2_df[\"tflite_model_INT8_size_kb\"],#, mbnv2_df[\"peak_memory_b\"]], \n",
    "                                   name= \"model size in kB\"\n",
    "                                   ),\n",
    "                                   col=1,\n",
    "                                   row=1,\n",
    "                                   secondary_y=False)\n",
    "\n",
    "fig.add_trace(go.Bar(x = mbnv2_df[\"alpha\"],\n",
    "                                   y = mbnv2_df[\"peak_memory_b\"], \n",
    "                                   name= \"peak memory in B\"\n",
    "                                   ),\n",
    "                                   col=1,\n",
    "                                   row=1,\n",
    "                                   secondary_y=True)\n",
    "\n",
    "\n",
    "\n",
    "# fig.add_trace(\n",
    "#     go.Scatter(x=[2, 3, 4], y=[4, 5, 6], name=\"yaxis2 data\"),\n",
    "#     secondary_y=True,\n",
    "# )\n",
    "\n",
    "# Add figure title\n",
    "fig.update_layout(\n",
    "    title_text=\"Double Y Axis Example\"\n",
    ")\n",
    "\n",
    "# Set x-axis title\n",
    "fig.update_xaxes(title_text=\"xaxis title\")\n",
    "\n",
    "# Set y-axes titles\n",
    "fig.update_yaxes(title_text=\"<b>primary</b> yaxis title\", secondary_y=False)\n",
    "fig.update_yaxes(title_text=\"<b>secondary</b> yaxis title\", secondary_y=True)\n",
    "fig.update_layout(barmode=\"group\",\n",
    "                  bargap=0.15, # gap between bars of adjacent location coordinates.\n",
    "                    bargroupgap=0.1 # gap between bars of the same location coordinate.)\n",
    ")\n",
    "fig.show()"
   ]
  },
  {
   "attachments": {},
   "cell_type": "markdown",
   "metadata": {},
   "source": [
    "wandb.log({\"my_chart\": wandb.Html(plotly.io.to_html(fig)})"
   ]
  },
  {
   "cell_type": "code",
   "execution_count": 38,
   "metadata": {},
   "outputs": [
    {
     "data": {
      "text/plain": [
       "'4vjie1qp'"
      ]
     },
     "execution_count": 38,
     "metadata": {},
     "output_type": "execute_result"
    }
   ],
   "source": [
    "run_id = df.query(f\"architecture=='{architecture}'\")[\"id\"].values[0]\n",
    "run_id"
   ]
  },
  {
   "cell_type": "code",
   "execution_count": 39,
   "metadata": {},
   "outputs": [],
   "source": [
    "def get_run_id_from_architecture(architecture):\n",
    "\n",
    "    run_id = df.query(f\"architecture=='{architecture}'\")[\"id\"].values[0]\n",
    "    return run_id"
   ]
  },
  {
   "cell_type": "code",
   "execution_count": 5,
   "metadata": {},
   "outputs": [],
   "source": [
    "ENTITY = \"susbrock\"\n",
    "PROJECT =\"model_DB\"\n",
    "run_id = \"27bt3quc\"\n",
    "table_name = \"tflite_layers_mltk\""
   ]
  },
  {
   "cell_type": "code",
   "execution_count": 99,
   "metadata": {},
   "outputs": [],
   "source": [
    "architecture_1 = \"mobilenetv2_0.25_96_c3_o2_l5\"\n",
    "run_id_1 = get_run_id_from_architecture(architecture_1)\n",
    "architecture_2 = \"mobilenetv2_0.25_96_c3_o2_keras\"\n",
    "run_id_2 = get_run_id_from_architecture(architecture_2)"
   ]
  },
  {
   "cell_type": "code",
   "execution_count": 100,
   "metadata": {},
   "outputs": [
    {
     "data": {
      "text/plain": [
       "'upj2bfr1'"
      ]
     },
     "execution_count": 100,
     "metadata": {},
     "output_type": "execute_result"
    }
   ],
   "source": [
    "run_id_2"
   ]
  },
  {
   "cell_type": "code",
   "execution_count": 101,
   "metadata": {},
   "outputs": [
    {
     "name": "stderr",
     "output_type": "stream",
     "text": [
      "\u001b[34m\u001b[1mwandb\u001b[0m:   1 of 1 files downloaded.  \n"
     ]
    },
    {
     "data": {
      "text/html": [
       "<div>\n",
       "<style scoped>\n",
       "    .dataframe tbody tr th:only-of-type {\n",
       "        vertical-align: middle;\n",
       "    }\n",
       "\n",
       "    .dataframe tbody tr th {\n",
       "        vertical-align: top;\n",
       "    }\n",
       "\n",
       "    .dataframe thead th {\n",
       "        text-align: right;\n",
       "    }\n",
       "</style>\n",
       "<table border=\"1\" class=\"dataframe\">\n",
       "  <thead>\n",
       "    <tr style=\"text-align: right;\">\n",
       "      <th></th>\n",
       "      <th>index</th>\n",
       "      <th>opcode</th>\n",
       "      <th>name</th>\n",
       "      <th>ops</th>\n",
       "      <th>macs</th>\n",
       "      <th>cpu_cycles</th>\n",
       "      <th>energy</th>\n",
       "      <th>input_shape</th>\n",
       "      <th>output_shape</th>\n",
       "      <th>options</th>\n",
       "    </tr>\n",
       "  </thead>\n",
       "  <tbody>\n",
       "    <tr>\n",
       "      <th>0</th>\n",
       "      <td>0</td>\n",
       "      <td>conv_2d</td>\n",
       "      <td>0: conv_2d</td>\n",
       "      <td>1050624</td>\n",
       "      <td>497664</td>\n",
       "      <td>4.600492e+06</td>\n",
       "      <td>8.359018e-04</td>\n",
       "      <td>1x96x96x3,8x3x3x3,8</td>\n",
       "      <td>1x48x48x8</td>\n",
       "      <td>Padding:same stride:2x2 activation:relu6</td>\n",
       "    </tr>\n",
       "    <tr>\n",
       "      <th>1</th>\n",
       "      <td>1</td>\n",
       "      <td>depthwise_conv_2d</td>\n",
       "      <td>1: depthwise_conv_2d</td>\n",
       "      <td>387072</td>\n",
       "      <td>165888</td>\n",
       "      <td>2.522040e+06</td>\n",
       "      <td>4.679793e-04</td>\n",
       "      <td>1x48x48x8,1x3x3x8,8</td>\n",
       "      <td>1x48x48x8</td>\n",
       "      <td>Multiplier:1 padding:same stride:1x1 activatio...</td>\n",
       "    </tr>\n",
       "    <tr>\n",
       "      <th>2</th>\n",
       "      <td>2</td>\n",
       "      <td>conv_2d</td>\n",
       "      <td>2: conv_2d</td>\n",
       "      <td>156672</td>\n",
       "      <td>73728</td>\n",
       "      <td>8.374511e+05</td>\n",
       "      <td>1.130917e-04</td>\n",
       "      <td>1x48x48x8,4x1x1x8,4</td>\n",
       "      <td>1x48x48x4</td>\n",
       "      <td>Padding:same stride:1x1 activation:none</td>\n",
       "    </tr>\n",
       "    <tr>\n",
       "      <th>3</th>\n",
       "      <td>3</td>\n",
       "      <td>conv_2d</td>\n",
       "      <td>3: conv_2d</td>\n",
       "      <td>608256</td>\n",
       "      <td>221184</td>\n",
       "      <td>4.586929e+06</td>\n",
       "      <td>8.325017e-04</td>\n",
       "      <td>1x48x48x4,24x1x1x4,24</td>\n",
       "      <td>1x48x48x24</td>\n",
       "      <td>Padding:valid stride:1x1 activation:relu6</td>\n",
       "    </tr>\n",
       "    <tr>\n",
       "      <th>4</th>\n",
       "      <td>4</td>\n",
       "      <td>depthwise_conv_2d</td>\n",
       "      <td>4: depthwise_conv_2d</td>\n",
       "      <td>290304</td>\n",
       "      <td>124416</td>\n",
       "      <td>1.528548e+06</td>\n",
       "      <td>2.944311e-04</td>\n",
       "      <td>1x48x48x24,1x3x3x24,24</td>\n",
       "      <td>1x24x24x24</td>\n",
       "      <td>Multiplier:1 padding:same stride:2x2 activatio...</td>\n",
       "    </tr>\n",
       "    <tr>\n",
       "      <th>...</th>\n",
       "      <td>...</td>\n",
       "      <td>...</td>\n",
       "      <td>...</td>\n",
       "      <td>...</td>\n",
       "      <td>...</td>\n",
       "      <td>...</td>\n",
       "      <td>...</td>\n",
       "      <td>...</td>\n",
       "      <td>...</td>\n",
       "      <td>...</td>\n",
       "    </tr>\n",
       "    <tr>\n",
       "      <th>64</th>\n",
       "      <td>64</td>\n",
       "      <td>shape</td>\n",
       "      <td>64: shape</td>\n",
       "      <td>0</td>\n",
       "      <td>0</td>\n",
       "      <td>0.000000e+00</td>\n",
       "      <td>0.000000e+00</td>\n",
       "      <td>1x1x1x2</td>\n",
       "      <td>4</td>\n",
       "      <td>Type=shapeoptions</td>\n",
       "    </tr>\n",
       "    <tr>\n",
       "      <th>65</th>\n",
       "      <td>65</td>\n",
       "      <td>strided_slice</td>\n",
       "      <td>65: strided_slice</td>\n",
       "      <td>0</td>\n",
       "      <td>0</td>\n",
       "      <td>0.000000e+00</td>\n",
       "      <td>0.000000e+00</td>\n",
       "      <td>4,1,1,1</td>\n",
       "      <td></td>\n",
       "      <td>Type=stridedsliceoptions</td>\n",
       "    </tr>\n",
       "    <tr>\n",
       "      <th>66</th>\n",
       "      <td>66</td>\n",
       "      <td>pack</td>\n",
       "      <td>66: pack</td>\n",
       "      <td>0</td>\n",
       "      <td>0</td>\n",
       "      <td>0.000000e+00</td>\n",
       "      <td>0.000000e+00</td>\n",
       "      <td>,</td>\n",
       "      <td>2</td>\n",
       "      <td>Type=packoptions</td>\n",
       "    </tr>\n",
       "    <tr>\n",
       "      <th>67</th>\n",
       "      <td>67</td>\n",
       "      <td>reshape</td>\n",
       "      <td>67: reshape</td>\n",
       "      <td>0</td>\n",
       "      <td>0</td>\n",
       "      <td>2.648949e+02</td>\n",
       "      <td>4.810657e-19</td>\n",
       "      <td>1x1x1x2,2</td>\n",
       "      <td>1x2</td>\n",
       "      <td>Type=none</td>\n",
       "    </tr>\n",
       "    <tr>\n",
       "      <th>68</th>\n",
       "      <td>68</td>\n",
       "      <td>softmax</td>\n",
       "      <td>68: softmax</td>\n",
       "      <td>10</td>\n",
       "      <td>0</td>\n",
       "      <td>3.838418e+03</td>\n",
       "      <td>1.652612e-08</td>\n",
       "      <td>1x2</td>\n",
       "      <td>1x2</td>\n",
       "      <td>Type=softmaxoptions</td>\n",
       "    </tr>\n",
       "  </tbody>\n",
       "</table>\n",
       "<p>69 rows × 10 columns</p>\n",
       "</div>"
      ],
      "text/plain": [
       "    index             opcode                  name      ops    macs  \\\n",
       "0       0            conv_2d            0: conv_2d  1050624  497664   \n",
       "1       1  depthwise_conv_2d  1: depthwise_conv_2d   387072  165888   \n",
       "2       2            conv_2d            2: conv_2d   156672   73728   \n",
       "3       3            conv_2d            3: conv_2d   608256  221184   \n",
       "4       4  depthwise_conv_2d  4: depthwise_conv_2d   290304  124416   \n",
       "..    ...                ...                   ...      ...     ...   \n",
       "64     64              shape             64: shape        0       0   \n",
       "65     65      strided_slice     65: strided_slice        0       0   \n",
       "66     66               pack              66: pack        0       0   \n",
       "67     67            reshape           67: reshape        0       0   \n",
       "68     68            softmax           68: softmax       10       0   \n",
       "\n",
       "      cpu_cycles        energy             input_shape output_shape  \\\n",
       "0   4.600492e+06  8.359018e-04     1x96x96x3,8x3x3x3,8    1x48x48x8   \n",
       "1   2.522040e+06  4.679793e-04     1x48x48x8,1x3x3x8,8    1x48x48x8   \n",
       "2   8.374511e+05  1.130917e-04     1x48x48x8,4x1x1x8,4    1x48x48x4   \n",
       "3   4.586929e+06  8.325017e-04   1x48x48x4,24x1x1x4,24   1x48x48x24   \n",
       "4   1.528548e+06  2.944311e-04  1x48x48x24,1x3x3x24,24   1x24x24x24   \n",
       "..           ...           ...                     ...          ...   \n",
       "64  0.000000e+00  0.000000e+00                 1x1x1x2            4   \n",
       "65  0.000000e+00  0.000000e+00                 4,1,1,1                \n",
       "66  0.000000e+00  0.000000e+00                       ,            2   \n",
       "67  2.648949e+02  4.810657e-19               1x1x1x2,2          1x2   \n",
       "68  3.838418e+03  1.652612e-08                     1x2          1x2   \n",
       "\n",
       "                                              options  \n",
       "0            Padding:same stride:2x2 activation:relu6  \n",
       "1   Multiplier:1 padding:same stride:1x1 activatio...  \n",
       "2             Padding:same stride:1x1 activation:none  \n",
       "3           Padding:valid stride:1x1 activation:relu6  \n",
       "4   Multiplier:1 padding:same stride:2x2 activatio...  \n",
       "..                                                ...  \n",
       "64                                  Type=shapeoptions  \n",
       "65                           Type=stridedsliceoptions  \n",
       "66                                   Type=packoptions  \n",
       "67                                          Type=none  \n",
       "68                                Type=softmaxoptions  \n",
       "\n",
       "[69 rows x 10 columns]"
      ]
     },
     "execution_count": 101,
     "metadata": {},
     "output_type": "execute_result"
    }
   ],
   "source": [
    "df_me = get_wandb_table_as_df(run_id_1, table_name)\n",
    "df_me"
   ]
  },
  {
   "cell_type": "code",
   "execution_count": 102,
   "metadata": {},
   "outputs": [
    {
     "name": "stderr",
     "output_type": "stream",
     "text": [
      "\u001b[34m\u001b[1mwandb\u001b[0m:   1 of 1 files downloaded.  \n"
     ]
    },
    {
     "data": {
      "text/html": [
       "<div>\n",
       "<style scoped>\n",
       "    .dataframe tbody tr th:only-of-type {\n",
       "        vertical-align: middle;\n",
       "    }\n",
       "\n",
       "    .dataframe tbody tr th {\n",
       "        vertical-align: top;\n",
       "    }\n",
       "\n",
       "    .dataframe thead th {\n",
       "        text-align: right;\n",
       "    }\n",
       "</style>\n",
       "<table border=\"1\" class=\"dataframe\">\n",
       "  <thead>\n",
       "    <tr style=\"text-align: right;\">\n",
       "      <th></th>\n",
       "      <th>index</th>\n",
       "      <th>opcode</th>\n",
       "      <th>name</th>\n",
       "      <th>ops</th>\n",
       "      <th>macs</th>\n",
       "      <th>cpu_cycles</th>\n",
       "      <th>energy</th>\n",
       "      <th>input_shape</th>\n",
       "      <th>output_shape</th>\n",
       "      <th>options</th>\n",
       "    </tr>\n",
       "  </thead>\n",
       "  <tbody>\n",
       "    <tr>\n",
       "      <th>0</th>\n",
       "      <td>0</td>\n",
       "      <td>conv_2d</td>\n",
       "      <td>0: conv_2d</td>\n",
       "      <td>1050624</td>\n",
       "      <td>497664</td>\n",
       "      <td>4.600492e+06</td>\n",
       "      <td>8.359018e-04</td>\n",
       "      <td>1x96x96x3,8x3x3x3,8</td>\n",
       "      <td>1x48x48x8</td>\n",
       "      <td>Padding:same stride:2x2 activation:relu6</td>\n",
       "    </tr>\n",
       "    <tr>\n",
       "      <th>1</th>\n",
       "      <td>1</td>\n",
       "      <td>depthwise_conv_2d</td>\n",
       "      <td>1: depthwise_conv_2d</td>\n",
       "      <td>387072</td>\n",
       "      <td>165888</td>\n",
       "      <td>2.522040e+06</td>\n",
       "      <td>4.679793e-04</td>\n",
       "      <td>1x48x48x8,1x3x3x8,8</td>\n",
       "      <td>1x48x48x8</td>\n",
       "      <td>Multiplier:1 padding:same stride:1x1 activatio...</td>\n",
       "    </tr>\n",
       "    <tr>\n",
       "      <th>2</th>\n",
       "      <td>2</td>\n",
       "      <td>conv_2d</td>\n",
       "      <td>2: conv_2d</td>\n",
       "      <td>313344</td>\n",
       "      <td>147456</td>\n",
       "      <td>1.678246e+06</td>\n",
       "      <td>2.639363e-04</td>\n",
       "      <td>1x48x48x8,8x1x1x8,8</td>\n",
       "      <td>1x48x48x8</td>\n",
       "      <td>Padding:same stride:1x1 activation:none</td>\n",
       "    </tr>\n",
       "    <tr>\n",
       "      <th>3</th>\n",
       "      <td>3</td>\n",
       "      <td>add</td>\n",
       "      <td>3: add</td>\n",
       "      <td>18432</td>\n",
       "      <td>0</td>\n",
       "      <td>1.550003e+06</td>\n",
       "      <td>3.223873e-04</td>\n",
       "      <td>1x48x48x8,1x48x48x8</td>\n",
       "      <td>1x48x48x8</td>\n",
       "      <td>Activation:none</td>\n",
       "    </tr>\n",
       "    <tr>\n",
       "      <th>4</th>\n",
       "      <td>4</td>\n",
       "      <td>conv_2d</td>\n",
       "      <td>4: conv_2d</td>\n",
       "      <td>2101248</td>\n",
       "      <td>884736</td>\n",
       "      <td>1.073103e+07</td>\n",
       "      <td>2.051086e-03</td>\n",
       "      <td>1x48x48x8,48x1x1x8,48</td>\n",
       "      <td>1x48x48x48</td>\n",
       "      <td>Padding:same stride:1x1 activation:relu6</td>\n",
       "    </tr>\n",
       "    <tr>\n",
       "      <th>...</th>\n",
       "      <td>...</td>\n",
       "      <td>...</td>\n",
       "      <td>...</td>\n",
       "      <td>...</td>\n",
       "      <td>...</td>\n",
       "      <td>...</td>\n",
       "      <td>...</td>\n",
       "      <td>...</td>\n",
       "      <td>...</td>\n",
       "      <td>...</td>\n",
       "    </tr>\n",
       "    <tr>\n",
       "      <th>65</th>\n",
       "      <td>65</td>\n",
       "      <td>conv_2d</td>\n",
       "      <td>65: conv_2d</td>\n",
       "      <td>346320</td>\n",
       "      <td>172800</td>\n",
       "      <td>5.318955e+05</td>\n",
       "      <td>3.990740e-05</td>\n",
       "      <td>1x3x3x240,80x1x1x240,80</td>\n",
       "      <td>1x3x3x80</td>\n",
       "      <td>Padding:same stride:1x1 activation:none</td>\n",
       "    </tr>\n",
       "    <tr>\n",
       "      <th>66</th>\n",
       "      <td>66</td>\n",
       "      <td>conv_2d</td>\n",
       "      <td>66: conv_2d</td>\n",
       "      <td>1877760</td>\n",
       "      <td>921600</td>\n",
       "      <td>2.453712e+06</td>\n",
       "      <td>1.284148e-04</td>\n",
       "      <td>1x3x3x80,1280x1x1x80,1280</td>\n",
       "      <td>1x3x3x1280</td>\n",
       "      <td>Padding:valid stride:1x1 activation:relu6</td>\n",
       "    </tr>\n",
       "    <tr>\n",
       "      <th>67</th>\n",
       "      <td>67</td>\n",
       "      <td>mean</td>\n",
       "      <td>67: mean</td>\n",
       "      <td>0</td>\n",
       "      <td>0</td>\n",
       "      <td>1.732734e+06</td>\n",
       "      <td>1.093961e-05</td>\n",
       "      <td>1x3x3x1280,2</td>\n",
       "      <td>1x1280</td>\n",
       "      <td>Type=reduceroptions</td>\n",
       "    </tr>\n",
       "    <tr>\n",
       "      <th>68</th>\n",
       "      <td>68</td>\n",
       "      <td>fully_connected</td>\n",
       "      <td>68: fully_connected</td>\n",
       "      <td>5120</td>\n",
       "      <td>2560</td>\n",
       "      <td>6.068549e+03</td>\n",
       "      <td>2.212307e-08</td>\n",
       "      <td>1x1280,2x1280</td>\n",
       "      <td>1x2</td>\n",
       "      <td>Activation:none</td>\n",
       "    </tr>\n",
       "    <tr>\n",
       "      <th>69</th>\n",
       "      <td>69</td>\n",
       "      <td>softmax</td>\n",
       "      <td>69: softmax</td>\n",
       "      <td>10</td>\n",
       "      <td>0</td>\n",
       "      <td>3.838418e+03</td>\n",
       "      <td>1.652612e-08</td>\n",
       "      <td>1x2</td>\n",
       "      <td>1x2</td>\n",
       "      <td>Type=softmaxoptions</td>\n",
       "    </tr>\n",
       "  </tbody>\n",
       "</table>\n",
       "<p>70 rows × 10 columns</p>\n",
       "</div>"
      ],
      "text/plain": [
       "    index             opcode                  name      ops    macs  \\\n",
       "0       0            conv_2d            0: conv_2d  1050624  497664   \n",
       "1       1  depthwise_conv_2d  1: depthwise_conv_2d   387072  165888   \n",
       "2       2            conv_2d            2: conv_2d   313344  147456   \n",
       "3       3                add                3: add    18432       0   \n",
       "4       4            conv_2d            4: conv_2d  2101248  884736   \n",
       "..    ...                ...                   ...      ...     ...   \n",
       "65     65            conv_2d           65: conv_2d   346320  172800   \n",
       "66     66            conv_2d           66: conv_2d  1877760  921600   \n",
       "67     67               mean              67: mean        0       0   \n",
       "68     68    fully_connected   68: fully_connected     5120    2560   \n",
       "69     69            softmax           69: softmax       10       0   \n",
       "\n",
       "      cpu_cycles        energy                input_shape output_shape  \\\n",
       "0   4.600492e+06  8.359018e-04        1x96x96x3,8x3x3x3,8    1x48x48x8   \n",
       "1   2.522040e+06  4.679793e-04        1x48x48x8,1x3x3x8,8    1x48x48x8   \n",
       "2   1.678246e+06  2.639363e-04        1x48x48x8,8x1x1x8,8    1x48x48x8   \n",
       "3   1.550003e+06  3.223873e-04        1x48x48x8,1x48x48x8    1x48x48x8   \n",
       "4   1.073103e+07  2.051086e-03      1x48x48x8,48x1x1x8,48   1x48x48x48   \n",
       "..           ...           ...                        ...          ...   \n",
       "65  5.318955e+05  3.990740e-05    1x3x3x240,80x1x1x240,80     1x3x3x80   \n",
       "66  2.453712e+06  1.284148e-04  1x3x3x80,1280x1x1x80,1280   1x3x3x1280   \n",
       "67  1.732734e+06  1.093961e-05               1x3x3x1280,2       1x1280   \n",
       "68  6.068549e+03  2.212307e-08              1x1280,2x1280          1x2   \n",
       "69  3.838418e+03  1.652612e-08                        1x2          1x2   \n",
       "\n",
       "                                              options  \n",
       "0            Padding:same stride:2x2 activation:relu6  \n",
       "1   Multiplier:1 padding:same stride:1x1 activatio...  \n",
       "2             Padding:same stride:1x1 activation:none  \n",
       "3                                     Activation:none  \n",
       "4            Padding:same stride:1x1 activation:relu6  \n",
       "..                                                ...  \n",
       "65            Padding:same stride:1x1 activation:none  \n",
       "66          Padding:valid stride:1x1 activation:relu6  \n",
       "67                                Type=reduceroptions  \n",
       "68                                    Activation:none  \n",
       "69                                Type=softmaxoptions  \n",
       "\n",
       "[70 rows x 10 columns]"
      ]
     },
     "execution_count": 102,
     "metadata": {},
     "output_type": "execute_result"
    }
   ],
   "source": [
    "df_keras = get_wandb_table_as_df(run_id_2, table_name)\n",
    "df_keras"
   ]
  },
  {
   "cell_type": "code",
   "execution_count": 115,
   "metadata": {},
   "outputs": [
    {
     "data": {
      "application/vnd.plotly.v1+json": {
       "config": {
        "plotlyServerURL": "https://plot.ly"
       },
       "data": [
        {
         "alignmentgroup": "True",
         "hovertemplate": "layer=%{x}<br>MACs=%{y}<extra></extra>",
         "legendgroup": "",
         "marker": {
          "color": "#636efa",
          "pattern": {
           "shape": ""
          }
         },
         "name": "",
         "offsetgroup": "",
         "orientation": "v",
         "showlegend": false,
         "textposition": "auto",
         "texttemplate": "%{y:.2s}",
         "type": "bar",
         "width": 1,
         "x": [
          "0: conv_2d",
          "1: depthwise_conv_2d",
          "2: conv_2d",
          "3: conv_2d",
          "4: depthwise_conv_2d",
          "5: conv_2d",
          "6: conv_2d",
          "7: depthwise_conv_2d",
          "8: conv_2d",
          "9: add",
          "10: conv_2d",
          "11: depthwise_conv_2d",
          "12: conv_2d",
          "13: conv_2d",
          "14: depthwise_conv_2d",
          "15: conv_2d",
          "16: add",
          "17: conv_2d",
          "18: depthwise_conv_2d",
          "19: conv_2d",
          "20: add",
          "21: conv_2d",
          "22: depthwise_conv_2d",
          "23: conv_2d",
          "24: conv_2d",
          "25: depthwise_conv_2d",
          "26: conv_2d",
          "27: add",
          "28: conv_2d",
          "29: depthwise_conv_2d",
          "30: conv_2d",
          "31: add",
          "32: conv_2d",
          "33: depthwise_conv_2d",
          "34: conv_2d",
          "35: add",
          "36: conv_2d",
          "37: depthwise_conv_2d",
          "38: conv_2d",
          "39: conv_2d",
          "40: depthwise_conv_2d",
          "41: conv_2d",
          "42: add",
          "43: conv_2d",
          "44: depthwise_conv_2d",
          "45: conv_2d",
          "46: add",
          "47: conv_2d",
          "48: depthwise_conv_2d",
          "49: conv_2d",
          "50: conv_2d",
          "51: depthwise_conv_2d",
          "52: conv_2d",
          "53: add",
          "54: conv_2d",
          "55: depthwise_conv_2d",
          "56: conv_2d",
          "57: add",
          "58: conv_2d",
          "59: depthwise_conv_2d",
          "60: conv_2d",
          "61: conv_2d",
          "62: mean",
          "63: conv_2d",
          "64: shape",
          "65: strided_slice",
          "66: pack",
          "67: reshape",
          "68: softmax"
         ],
         "xaxis": "x",
         "y": [
          497664,
          165888,
          73728,
          221184,
          124416,
          82944,
          124416,
          186624,
          124416,
          0,
          124416,
          46656,
          41472,
          55296,
          62208,
          55296,
          0,
          55296,
          62208,
          55296,
          0,
          55296,
          15552,
          27648,
          55296,
          31104,
          55296,
          0,
          55296,
          31104,
          55296,
          0,
          55296,
          31104,
          55296,
          0,
          55296,
          31104,
          82944,
          124416,
          46656,
          124416,
          0,
          124416,
          46656,
          124416,
          0,
          124416,
          11664,
          51840,
          86400,
          19440,
          86400,
          0,
          86400,
          19440,
          86400,
          0,
          86400,
          19440,
          172800,
          921600,
          0,
          2560,
          0,
          0,
          0,
          0,
          0
         ],
         "yaxis": "y"
        }
       ],
       "layout": {
        "barmode": "relative",
        "height": 600,
        "legend": {
         "tracegroupgap": 0
        },
        "showlegend": false,
        "template": {
         "data": {
          "bar": [
           {
            "error_x": {
             "color": "#2a3f5f"
            },
            "error_y": {
             "color": "#2a3f5f"
            },
            "marker": {
             "line": {
              "color": "#E5ECF6",
              "width": 0.5
             },
             "pattern": {
              "fillmode": "overlay",
              "size": 10,
              "solidity": 0.2
             }
            },
            "type": "bar"
           }
          ],
          "barpolar": [
           {
            "marker": {
             "line": {
              "color": "#E5ECF6",
              "width": 0.5
             },
             "pattern": {
              "fillmode": "overlay",
              "size": 10,
              "solidity": 0.2
             }
            },
            "type": "barpolar"
           }
          ],
          "carpet": [
           {
            "aaxis": {
             "endlinecolor": "#2a3f5f",
             "gridcolor": "white",
             "linecolor": "white",
             "minorgridcolor": "white",
             "startlinecolor": "#2a3f5f"
            },
            "baxis": {
             "endlinecolor": "#2a3f5f",
             "gridcolor": "white",
             "linecolor": "white",
             "minorgridcolor": "white",
             "startlinecolor": "#2a3f5f"
            },
            "type": "carpet"
           }
          ],
          "choropleth": [
           {
            "colorbar": {
             "outlinewidth": 0,
             "ticks": ""
            },
            "type": "choropleth"
           }
          ],
          "contour": [
           {
            "colorbar": {
             "outlinewidth": 0,
             "ticks": ""
            },
            "colorscale": [
             [
              0,
              "#0d0887"
             ],
             [
              0.1111111111111111,
              "#46039f"
             ],
             [
              0.2222222222222222,
              "#7201a8"
             ],
             [
              0.3333333333333333,
              "#9c179e"
             ],
             [
              0.4444444444444444,
              "#bd3786"
             ],
             [
              0.5555555555555556,
              "#d8576b"
             ],
             [
              0.6666666666666666,
              "#ed7953"
             ],
             [
              0.7777777777777778,
              "#fb9f3a"
             ],
             [
              0.8888888888888888,
              "#fdca26"
             ],
             [
              1,
              "#f0f921"
             ]
            ],
            "type": "contour"
           }
          ],
          "contourcarpet": [
           {
            "colorbar": {
             "outlinewidth": 0,
             "ticks": ""
            },
            "type": "contourcarpet"
           }
          ],
          "heatmap": [
           {
            "colorbar": {
             "outlinewidth": 0,
             "ticks": ""
            },
            "colorscale": [
             [
              0,
              "#0d0887"
             ],
             [
              0.1111111111111111,
              "#46039f"
             ],
             [
              0.2222222222222222,
              "#7201a8"
             ],
             [
              0.3333333333333333,
              "#9c179e"
             ],
             [
              0.4444444444444444,
              "#bd3786"
             ],
             [
              0.5555555555555556,
              "#d8576b"
             ],
             [
              0.6666666666666666,
              "#ed7953"
             ],
             [
              0.7777777777777778,
              "#fb9f3a"
             ],
             [
              0.8888888888888888,
              "#fdca26"
             ],
             [
              1,
              "#f0f921"
             ]
            ],
            "type": "heatmap"
           }
          ],
          "heatmapgl": [
           {
            "colorbar": {
             "outlinewidth": 0,
             "ticks": ""
            },
            "colorscale": [
             [
              0,
              "#0d0887"
             ],
             [
              0.1111111111111111,
              "#46039f"
             ],
             [
              0.2222222222222222,
              "#7201a8"
             ],
             [
              0.3333333333333333,
              "#9c179e"
             ],
             [
              0.4444444444444444,
              "#bd3786"
             ],
             [
              0.5555555555555556,
              "#d8576b"
             ],
             [
              0.6666666666666666,
              "#ed7953"
             ],
             [
              0.7777777777777778,
              "#fb9f3a"
             ],
             [
              0.8888888888888888,
              "#fdca26"
             ],
             [
              1,
              "#f0f921"
             ]
            ],
            "type": "heatmapgl"
           }
          ],
          "histogram": [
           {
            "marker": {
             "pattern": {
              "fillmode": "overlay",
              "size": 10,
              "solidity": 0.2
             }
            },
            "type": "histogram"
           }
          ],
          "histogram2d": [
           {
            "colorbar": {
             "outlinewidth": 0,
             "ticks": ""
            },
            "colorscale": [
             [
              0,
              "#0d0887"
             ],
             [
              0.1111111111111111,
              "#46039f"
             ],
             [
              0.2222222222222222,
              "#7201a8"
             ],
             [
              0.3333333333333333,
              "#9c179e"
             ],
             [
              0.4444444444444444,
              "#bd3786"
             ],
             [
              0.5555555555555556,
              "#d8576b"
             ],
             [
              0.6666666666666666,
              "#ed7953"
             ],
             [
              0.7777777777777778,
              "#fb9f3a"
             ],
             [
              0.8888888888888888,
              "#fdca26"
             ],
             [
              1,
              "#f0f921"
             ]
            ],
            "type": "histogram2d"
           }
          ],
          "histogram2dcontour": [
           {
            "colorbar": {
             "outlinewidth": 0,
             "ticks": ""
            },
            "colorscale": [
             [
              0,
              "#0d0887"
             ],
             [
              0.1111111111111111,
              "#46039f"
             ],
             [
              0.2222222222222222,
              "#7201a8"
             ],
             [
              0.3333333333333333,
              "#9c179e"
             ],
             [
              0.4444444444444444,
              "#bd3786"
             ],
             [
              0.5555555555555556,
              "#d8576b"
             ],
             [
              0.6666666666666666,
              "#ed7953"
             ],
             [
              0.7777777777777778,
              "#fb9f3a"
             ],
             [
              0.8888888888888888,
              "#fdca26"
             ],
             [
              1,
              "#f0f921"
             ]
            ],
            "type": "histogram2dcontour"
           }
          ],
          "mesh3d": [
           {
            "colorbar": {
             "outlinewidth": 0,
             "ticks": ""
            },
            "type": "mesh3d"
           }
          ],
          "parcoords": [
           {
            "line": {
             "colorbar": {
              "outlinewidth": 0,
              "ticks": ""
             }
            },
            "type": "parcoords"
           }
          ],
          "pie": [
           {
            "automargin": true,
            "type": "pie"
           }
          ],
          "scatter": [
           {
            "fillpattern": {
             "fillmode": "overlay",
             "size": 10,
             "solidity": 0.2
            },
            "type": "scatter"
           }
          ],
          "scatter3d": [
           {
            "line": {
             "colorbar": {
              "outlinewidth": 0,
              "ticks": ""
             }
            },
            "marker": {
             "colorbar": {
              "outlinewidth": 0,
              "ticks": ""
             }
            },
            "type": "scatter3d"
           }
          ],
          "scattercarpet": [
           {
            "marker": {
             "colorbar": {
              "outlinewidth": 0,
              "ticks": ""
             }
            },
            "type": "scattercarpet"
           }
          ],
          "scattergeo": [
           {
            "marker": {
             "colorbar": {
              "outlinewidth": 0,
              "ticks": ""
             }
            },
            "type": "scattergeo"
           }
          ],
          "scattergl": [
           {
            "marker": {
             "colorbar": {
              "outlinewidth": 0,
              "ticks": ""
             }
            },
            "type": "scattergl"
           }
          ],
          "scattermapbox": [
           {
            "marker": {
             "colorbar": {
              "outlinewidth": 0,
              "ticks": ""
             }
            },
            "type": "scattermapbox"
           }
          ],
          "scatterpolar": [
           {
            "marker": {
             "colorbar": {
              "outlinewidth": 0,
              "ticks": ""
             }
            },
            "type": "scatterpolar"
           }
          ],
          "scatterpolargl": [
           {
            "marker": {
             "colorbar": {
              "outlinewidth": 0,
              "ticks": ""
             }
            },
            "type": "scatterpolargl"
           }
          ],
          "scatterternary": [
           {
            "marker": {
             "colorbar": {
              "outlinewidth": 0,
              "ticks": ""
             }
            },
            "type": "scatterternary"
           }
          ],
          "surface": [
           {
            "colorbar": {
             "outlinewidth": 0,
             "ticks": ""
            },
            "colorscale": [
             [
              0,
              "#0d0887"
             ],
             [
              0.1111111111111111,
              "#46039f"
             ],
             [
              0.2222222222222222,
              "#7201a8"
             ],
             [
              0.3333333333333333,
              "#9c179e"
             ],
             [
              0.4444444444444444,
              "#bd3786"
             ],
             [
              0.5555555555555556,
              "#d8576b"
             ],
             [
              0.6666666666666666,
              "#ed7953"
             ],
             [
              0.7777777777777778,
              "#fb9f3a"
             ],
             [
              0.8888888888888888,
              "#fdca26"
             ],
             [
              1,
              "#f0f921"
             ]
            ],
            "type": "surface"
           }
          ],
          "table": [
           {
            "cells": {
             "fill": {
              "color": "#EBF0F8"
             },
             "line": {
              "color": "white"
             }
            },
            "header": {
             "fill": {
              "color": "#C8D4E3"
             },
             "line": {
              "color": "white"
             }
            },
            "type": "table"
           }
          ]
         },
         "layout": {
          "annotationdefaults": {
           "arrowcolor": "#2a3f5f",
           "arrowhead": 0,
           "arrowwidth": 1
          },
          "autotypenumbers": "strict",
          "coloraxis": {
           "colorbar": {
            "outlinewidth": 0,
            "ticks": ""
           }
          },
          "colorscale": {
           "diverging": [
            [
             0,
             "#8e0152"
            ],
            [
             0.1,
             "#c51b7d"
            ],
            [
             0.2,
             "#de77ae"
            ],
            [
             0.3,
             "#f1b6da"
            ],
            [
             0.4,
             "#fde0ef"
            ],
            [
             0.5,
             "#f7f7f7"
            ],
            [
             0.6,
             "#e6f5d0"
            ],
            [
             0.7,
             "#b8e186"
            ],
            [
             0.8,
             "#7fbc41"
            ],
            [
             0.9,
             "#4d9221"
            ],
            [
             1,
             "#276419"
            ]
           ],
           "sequential": [
            [
             0,
             "#0d0887"
            ],
            [
             0.1111111111111111,
             "#46039f"
            ],
            [
             0.2222222222222222,
             "#7201a8"
            ],
            [
             0.3333333333333333,
             "#9c179e"
            ],
            [
             0.4444444444444444,
             "#bd3786"
            ],
            [
             0.5555555555555556,
             "#d8576b"
            ],
            [
             0.6666666666666666,
             "#ed7953"
            ],
            [
             0.7777777777777778,
             "#fb9f3a"
            ],
            [
             0.8888888888888888,
             "#fdca26"
            ],
            [
             1,
             "#f0f921"
            ]
           ],
           "sequentialminus": [
            [
             0,
             "#0d0887"
            ],
            [
             0.1111111111111111,
             "#46039f"
            ],
            [
             0.2222222222222222,
             "#7201a8"
            ],
            [
             0.3333333333333333,
             "#9c179e"
            ],
            [
             0.4444444444444444,
             "#bd3786"
            ],
            [
             0.5555555555555556,
             "#d8576b"
            ],
            [
             0.6666666666666666,
             "#ed7953"
            ],
            [
             0.7777777777777778,
             "#fb9f3a"
            ],
            [
             0.8888888888888888,
             "#fdca26"
            ],
            [
             1,
             "#f0f921"
            ]
           ]
          },
          "colorway": [
           "#636efa",
           "#EF553B",
           "#00cc96",
           "#ab63fa",
           "#FFA15A",
           "#19d3f3",
           "#FF6692",
           "#B6E880",
           "#FF97FF",
           "#FECB52"
          ],
          "font": {
           "color": "#2a3f5f"
          },
          "geo": {
           "bgcolor": "white",
           "lakecolor": "white",
           "landcolor": "#E5ECF6",
           "showlakes": true,
           "showland": true,
           "subunitcolor": "white"
          },
          "hoverlabel": {
           "align": "left"
          },
          "hovermode": "closest",
          "mapbox": {
           "style": "light"
          },
          "paper_bgcolor": "white",
          "plot_bgcolor": "#E5ECF6",
          "polar": {
           "angularaxis": {
            "gridcolor": "white",
            "linecolor": "white",
            "ticks": ""
           },
           "bgcolor": "#E5ECF6",
           "radialaxis": {
            "gridcolor": "white",
            "linecolor": "white",
            "ticks": ""
           }
          },
          "scene": {
           "xaxis": {
            "backgroundcolor": "#E5ECF6",
            "gridcolor": "white",
            "gridwidth": 2,
            "linecolor": "white",
            "showbackground": true,
            "ticks": "",
            "zerolinecolor": "white"
           },
           "yaxis": {
            "backgroundcolor": "#E5ECF6",
            "gridcolor": "white",
            "gridwidth": 2,
            "linecolor": "white",
            "showbackground": true,
            "ticks": "",
            "zerolinecolor": "white"
           },
           "zaxis": {
            "backgroundcolor": "#E5ECF6",
            "gridcolor": "white",
            "gridwidth": 2,
            "linecolor": "white",
            "showbackground": true,
            "ticks": "",
            "zerolinecolor": "white"
           }
          },
          "shapedefaults": {
           "line": {
            "color": "#2a3f5f"
           }
          },
          "ternary": {
           "aaxis": {
            "gridcolor": "white",
            "linecolor": "white",
            "ticks": ""
           },
           "baxis": {
            "gridcolor": "white",
            "linecolor": "white",
            "ticks": ""
           },
           "bgcolor": "#E5ECF6",
           "caxis": {
            "gridcolor": "white",
            "linecolor": "white",
            "ticks": ""
           }
          },
          "title": {
           "x": 0.05
          },
          "xaxis": {
           "automargin": true,
           "gridcolor": "white",
           "linecolor": "white",
           "ticks": "",
           "title": {
            "standoff": 15
           },
           "zerolinecolor": "white",
           "zerolinewidth": 2
          },
          "yaxis": {
           "automargin": true,
           "gridcolor": "white",
           "linecolor": "white",
           "ticks": "",
           "title": {
            "standoff": 15
           },
           "zerolinecolor": "white",
           "zerolinewidth": 2
          }
         }
        },
        "title": {
         "text": "MACs per layer - tflite mobilenetv2_0.25_96_c3_o2_l5"
        },
        "width": 1200,
        "xaxis": {
         "anchor": "y",
         "domain": [
          0,
          1
         ],
         "title": {
          "text": "layer"
         }
        },
        "yaxis": {
         "anchor": "x",
         "domain": [
          0,
          1
         ],
         "title": {
          "text": "MACs"
         }
        }
       }
      },
      "text/html": [
       "<div>                            <div id=\"e0d65d5f-03b9-4565-851e-f61c8be9229a\" class=\"plotly-graph-div\" style=\"height:600px; width:1200px;\"></div>            <script type=\"text/javascript\">                require([\"plotly\"], function(Plotly) {                    window.PLOTLYENV=window.PLOTLYENV || {};                                    if (document.getElementById(\"e0d65d5f-03b9-4565-851e-f61c8be9229a\")) {                    Plotly.newPlot(                        \"e0d65d5f-03b9-4565-851e-f61c8be9229a\",                        [{\"alignmentgroup\":\"True\",\"hovertemplate\":\"layer=%{x}<br>MACs=%{y}<extra></extra>\",\"legendgroup\":\"\",\"marker\":{\"color\":\"#636efa\",\"pattern\":{\"shape\":\"\"}},\"name\":\"\",\"offsetgroup\":\"\",\"orientation\":\"v\",\"showlegend\":false,\"textposition\":\"auto\",\"texttemplate\":\"%{y:.2s}\",\"x\":[\"0: conv_2d\",\"1: depthwise_conv_2d\",\"2: conv_2d\",\"3: conv_2d\",\"4: depthwise_conv_2d\",\"5: conv_2d\",\"6: conv_2d\",\"7: depthwise_conv_2d\",\"8: conv_2d\",\"9: add\",\"10: conv_2d\",\"11: depthwise_conv_2d\",\"12: conv_2d\",\"13: conv_2d\",\"14: depthwise_conv_2d\",\"15: conv_2d\",\"16: add\",\"17: conv_2d\",\"18: depthwise_conv_2d\",\"19: conv_2d\",\"20: add\",\"21: conv_2d\",\"22: depthwise_conv_2d\",\"23: conv_2d\",\"24: conv_2d\",\"25: depthwise_conv_2d\",\"26: conv_2d\",\"27: add\",\"28: conv_2d\",\"29: depthwise_conv_2d\",\"30: conv_2d\",\"31: add\",\"32: conv_2d\",\"33: depthwise_conv_2d\",\"34: conv_2d\",\"35: add\",\"36: conv_2d\",\"37: depthwise_conv_2d\",\"38: conv_2d\",\"39: conv_2d\",\"40: depthwise_conv_2d\",\"41: conv_2d\",\"42: add\",\"43: conv_2d\",\"44: depthwise_conv_2d\",\"45: conv_2d\",\"46: add\",\"47: conv_2d\",\"48: depthwise_conv_2d\",\"49: conv_2d\",\"50: conv_2d\",\"51: depthwise_conv_2d\",\"52: conv_2d\",\"53: add\",\"54: conv_2d\",\"55: depthwise_conv_2d\",\"56: conv_2d\",\"57: add\",\"58: conv_2d\",\"59: depthwise_conv_2d\",\"60: conv_2d\",\"61: conv_2d\",\"62: mean\",\"63: conv_2d\",\"64: shape\",\"65: strided_slice\",\"66: pack\",\"67: reshape\",\"68: softmax\"],\"xaxis\":\"x\",\"y\":[497664,165888,73728,221184,124416,82944,124416,186624,124416,0,124416,46656,41472,55296,62208,55296,0,55296,62208,55296,0,55296,15552,27648,55296,31104,55296,0,55296,31104,55296,0,55296,31104,55296,0,55296,31104,82944,124416,46656,124416,0,124416,46656,124416,0,124416,11664,51840,86400,19440,86400,0,86400,19440,86400,0,86400,19440,172800,921600,0,2560,0,0,0,0,0],\"yaxis\":\"y\",\"type\":\"bar\",\"width\":1}],                        {\"template\":{\"data\":{\"histogram2dcontour\":[{\"type\":\"histogram2dcontour\",\"colorbar\":{\"outlinewidth\":0,\"ticks\":\"\"},\"colorscale\":[[0.0,\"#0d0887\"],[0.1111111111111111,\"#46039f\"],[0.2222222222222222,\"#7201a8\"],[0.3333333333333333,\"#9c179e\"],[0.4444444444444444,\"#bd3786\"],[0.5555555555555556,\"#d8576b\"],[0.6666666666666666,\"#ed7953\"],[0.7777777777777778,\"#fb9f3a\"],[0.8888888888888888,\"#fdca26\"],[1.0,\"#f0f921\"]]}],\"choropleth\":[{\"type\":\"choropleth\",\"colorbar\":{\"outlinewidth\":0,\"ticks\":\"\"}}],\"histogram2d\":[{\"type\":\"histogram2d\",\"colorbar\":{\"outlinewidth\":0,\"ticks\":\"\"},\"colorscale\":[[0.0,\"#0d0887\"],[0.1111111111111111,\"#46039f\"],[0.2222222222222222,\"#7201a8\"],[0.3333333333333333,\"#9c179e\"],[0.4444444444444444,\"#bd3786\"],[0.5555555555555556,\"#d8576b\"],[0.6666666666666666,\"#ed7953\"],[0.7777777777777778,\"#fb9f3a\"],[0.8888888888888888,\"#fdca26\"],[1.0,\"#f0f921\"]]}],\"heatmap\":[{\"type\":\"heatmap\",\"colorbar\":{\"outlinewidth\":0,\"ticks\":\"\"},\"colorscale\":[[0.0,\"#0d0887\"],[0.1111111111111111,\"#46039f\"],[0.2222222222222222,\"#7201a8\"],[0.3333333333333333,\"#9c179e\"],[0.4444444444444444,\"#bd3786\"],[0.5555555555555556,\"#d8576b\"],[0.6666666666666666,\"#ed7953\"],[0.7777777777777778,\"#fb9f3a\"],[0.8888888888888888,\"#fdca26\"],[1.0,\"#f0f921\"]]}],\"heatmapgl\":[{\"type\":\"heatmapgl\",\"colorbar\":{\"outlinewidth\":0,\"ticks\":\"\"},\"colorscale\":[[0.0,\"#0d0887\"],[0.1111111111111111,\"#46039f\"],[0.2222222222222222,\"#7201a8\"],[0.3333333333333333,\"#9c179e\"],[0.4444444444444444,\"#bd3786\"],[0.5555555555555556,\"#d8576b\"],[0.6666666666666666,\"#ed7953\"],[0.7777777777777778,\"#fb9f3a\"],[0.8888888888888888,\"#fdca26\"],[1.0,\"#f0f921\"]]}],\"contourcarpet\":[{\"type\":\"contourcarpet\",\"colorbar\":{\"outlinewidth\":0,\"ticks\":\"\"}}],\"contour\":[{\"type\":\"contour\",\"colorbar\":{\"outlinewidth\":0,\"ticks\":\"\"},\"colorscale\":[[0.0,\"#0d0887\"],[0.1111111111111111,\"#46039f\"],[0.2222222222222222,\"#7201a8\"],[0.3333333333333333,\"#9c179e\"],[0.4444444444444444,\"#bd3786\"],[0.5555555555555556,\"#d8576b\"],[0.6666666666666666,\"#ed7953\"],[0.7777777777777778,\"#fb9f3a\"],[0.8888888888888888,\"#fdca26\"],[1.0,\"#f0f921\"]]}],\"surface\":[{\"type\":\"surface\",\"colorbar\":{\"outlinewidth\":0,\"ticks\":\"\"},\"colorscale\":[[0.0,\"#0d0887\"],[0.1111111111111111,\"#46039f\"],[0.2222222222222222,\"#7201a8\"],[0.3333333333333333,\"#9c179e\"],[0.4444444444444444,\"#bd3786\"],[0.5555555555555556,\"#d8576b\"],[0.6666666666666666,\"#ed7953\"],[0.7777777777777778,\"#fb9f3a\"],[0.8888888888888888,\"#fdca26\"],[1.0,\"#f0f921\"]]}],\"mesh3d\":[{\"type\":\"mesh3d\",\"colorbar\":{\"outlinewidth\":0,\"ticks\":\"\"}}],\"scatter\":[{\"fillpattern\":{\"fillmode\":\"overlay\",\"size\":10,\"solidity\":0.2},\"type\":\"scatter\"}],\"parcoords\":[{\"type\":\"parcoords\",\"line\":{\"colorbar\":{\"outlinewidth\":0,\"ticks\":\"\"}}}],\"scatterpolargl\":[{\"type\":\"scatterpolargl\",\"marker\":{\"colorbar\":{\"outlinewidth\":0,\"ticks\":\"\"}}}],\"bar\":[{\"error_x\":{\"color\":\"#2a3f5f\"},\"error_y\":{\"color\":\"#2a3f5f\"},\"marker\":{\"line\":{\"color\":\"#E5ECF6\",\"width\":0.5},\"pattern\":{\"fillmode\":\"overlay\",\"size\":10,\"solidity\":0.2}},\"type\":\"bar\"}],\"scattergeo\":[{\"type\":\"scattergeo\",\"marker\":{\"colorbar\":{\"outlinewidth\":0,\"ticks\":\"\"}}}],\"scatterpolar\":[{\"type\":\"scatterpolar\",\"marker\":{\"colorbar\":{\"outlinewidth\":0,\"ticks\":\"\"}}}],\"histogram\":[{\"marker\":{\"pattern\":{\"fillmode\":\"overlay\",\"size\":10,\"solidity\":0.2}},\"type\":\"histogram\"}],\"scattergl\":[{\"type\":\"scattergl\",\"marker\":{\"colorbar\":{\"outlinewidth\":0,\"ticks\":\"\"}}}],\"scatter3d\":[{\"type\":\"scatter3d\",\"line\":{\"colorbar\":{\"outlinewidth\":0,\"ticks\":\"\"}},\"marker\":{\"colorbar\":{\"outlinewidth\":0,\"ticks\":\"\"}}}],\"scattermapbox\":[{\"type\":\"scattermapbox\",\"marker\":{\"colorbar\":{\"outlinewidth\":0,\"ticks\":\"\"}}}],\"scatterternary\":[{\"type\":\"scatterternary\",\"marker\":{\"colorbar\":{\"outlinewidth\":0,\"ticks\":\"\"}}}],\"scattercarpet\":[{\"type\":\"scattercarpet\",\"marker\":{\"colorbar\":{\"outlinewidth\":0,\"ticks\":\"\"}}}],\"carpet\":[{\"aaxis\":{\"endlinecolor\":\"#2a3f5f\",\"gridcolor\":\"white\",\"linecolor\":\"white\",\"minorgridcolor\":\"white\",\"startlinecolor\":\"#2a3f5f\"},\"baxis\":{\"endlinecolor\":\"#2a3f5f\",\"gridcolor\":\"white\",\"linecolor\":\"white\",\"minorgridcolor\":\"white\",\"startlinecolor\":\"#2a3f5f\"},\"type\":\"carpet\"}],\"table\":[{\"cells\":{\"fill\":{\"color\":\"#EBF0F8\"},\"line\":{\"color\":\"white\"}},\"header\":{\"fill\":{\"color\":\"#C8D4E3\"},\"line\":{\"color\":\"white\"}},\"type\":\"table\"}],\"barpolar\":[{\"marker\":{\"line\":{\"color\":\"#E5ECF6\",\"width\":0.5},\"pattern\":{\"fillmode\":\"overlay\",\"size\":10,\"solidity\":0.2}},\"type\":\"barpolar\"}],\"pie\":[{\"automargin\":true,\"type\":\"pie\"}]},\"layout\":{\"autotypenumbers\":\"strict\",\"colorway\":[\"#636efa\",\"#EF553B\",\"#00cc96\",\"#ab63fa\",\"#FFA15A\",\"#19d3f3\",\"#FF6692\",\"#B6E880\",\"#FF97FF\",\"#FECB52\"],\"font\":{\"color\":\"#2a3f5f\"},\"hovermode\":\"closest\",\"hoverlabel\":{\"align\":\"left\"},\"paper_bgcolor\":\"white\",\"plot_bgcolor\":\"#E5ECF6\",\"polar\":{\"bgcolor\":\"#E5ECF6\",\"angularaxis\":{\"gridcolor\":\"white\",\"linecolor\":\"white\",\"ticks\":\"\"},\"radialaxis\":{\"gridcolor\":\"white\",\"linecolor\":\"white\",\"ticks\":\"\"}},\"ternary\":{\"bgcolor\":\"#E5ECF6\",\"aaxis\":{\"gridcolor\":\"white\",\"linecolor\":\"white\",\"ticks\":\"\"},\"baxis\":{\"gridcolor\":\"white\",\"linecolor\":\"white\",\"ticks\":\"\"},\"caxis\":{\"gridcolor\":\"white\",\"linecolor\":\"white\",\"ticks\":\"\"}},\"coloraxis\":{\"colorbar\":{\"outlinewidth\":0,\"ticks\":\"\"}},\"colorscale\":{\"sequential\":[[0.0,\"#0d0887\"],[0.1111111111111111,\"#46039f\"],[0.2222222222222222,\"#7201a8\"],[0.3333333333333333,\"#9c179e\"],[0.4444444444444444,\"#bd3786\"],[0.5555555555555556,\"#d8576b\"],[0.6666666666666666,\"#ed7953\"],[0.7777777777777778,\"#fb9f3a\"],[0.8888888888888888,\"#fdca26\"],[1.0,\"#f0f921\"]],\"sequentialminus\":[[0.0,\"#0d0887\"],[0.1111111111111111,\"#46039f\"],[0.2222222222222222,\"#7201a8\"],[0.3333333333333333,\"#9c179e\"],[0.4444444444444444,\"#bd3786\"],[0.5555555555555556,\"#d8576b\"],[0.6666666666666666,\"#ed7953\"],[0.7777777777777778,\"#fb9f3a\"],[0.8888888888888888,\"#fdca26\"],[1.0,\"#f0f921\"]],\"diverging\":[[0,\"#8e0152\"],[0.1,\"#c51b7d\"],[0.2,\"#de77ae\"],[0.3,\"#f1b6da\"],[0.4,\"#fde0ef\"],[0.5,\"#f7f7f7\"],[0.6,\"#e6f5d0\"],[0.7,\"#b8e186\"],[0.8,\"#7fbc41\"],[0.9,\"#4d9221\"],[1,\"#276419\"]]},\"xaxis\":{\"gridcolor\":\"white\",\"linecolor\":\"white\",\"ticks\":\"\",\"title\":{\"standoff\":15},\"zerolinecolor\":\"white\",\"automargin\":true,\"zerolinewidth\":2},\"yaxis\":{\"gridcolor\":\"white\",\"linecolor\":\"white\",\"ticks\":\"\",\"title\":{\"standoff\":15},\"zerolinecolor\":\"white\",\"automargin\":true,\"zerolinewidth\":2},\"scene\":{\"xaxis\":{\"backgroundcolor\":\"#E5ECF6\",\"gridcolor\":\"white\",\"linecolor\":\"white\",\"showbackground\":true,\"ticks\":\"\",\"zerolinecolor\":\"white\",\"gridwidth\":2},\"yaxis\":{\"backgroundcolor\":\"#E5ECF6\",\"gridcolor\":\"white\",\"linecolor\":\"white\",\"showbackground\":true,\"ticks\":\"\",\"zerolinecolor\":\"white\",\"gridwidth\":2},\"zaxis\":{\"backgroundcolor\":\"#E5ECF6\",\"gridcolor\":\"white\",\"linecolor\":\"white\",\"showbackground\":true,\"ticks\":\"\",\"zerolinecolor\":\"white\",\"gridwidth\":2}},\"shapedefaults\":{\"line\":{\"color\":\"#2a3f5f\"}},\"annotationdefaults\":{\"arrowcolor\":\"#2a3f5f\",\"arrowhead\":0,\"arrowwidth\":1},\"geo\":{\"bgcolor\":\"white\",\"landcolor\":\"#E5ECF6\",\"subunitcolor\":\"white\",\"showland\":true,\"showlakes\":true,\"lakecolor\":\"white\"},\"title\":{\"x\":0.05},\"mapbox\":{\"style\":\"light\"}}},\"xaxis\":{\"anchor\":\"y\",\"domain\":[0.0,1.0],\"title\":{\"text\":\"layer\"}},\"yaxis\":{\"anchor\":\"x\",\"domain\":[0.0,1.0],\"title\":{\"text\":\"MACs\"}},\"legend\":{\"tracegroupgap\":0},\"title\":{\"text\":\"MACs per layer - tflite mobilenetv2_0.25_96_c3_o2_l5\"},\"barmode\":\"relative\",\"height\":600,\"width\":1200,\"showlegend\":false},                        {\"responsive\": true}                    ).then(function(){\n",
       "                            \n",
       "var gd = document.getElementById('e0d65d5f-03b9-4565-851e-f61c8be9229a');\n",
       "var x = new MutationObserver(function (mutations, observer) {{\n",
       "        var display = window.getComputedStyle(gd).display;\n",
       "        if (!display || display === 'none') {{\n",
       "            console.log([gd, 'removed!']);\n",
       "            Plotly.purge(gd);\n",
       "            observer.disconnect();\n",
       "        }}\n",
       "}});\n",
       "\n",
       "// Listen for the removal of the full notebook cells\n",
       "var notebookContainer = gd.closest('#notebook-container');\n",
       "if (notebookContainer) {{\n",
       "    x.observe(notebookContainer, {childList: true});\n",
       "}}\n",
       "\n",
       "// Listen for the clearing of the current output cell\n",
       "var outputEl = gd.closest('.output');\n",
       "if (outputEl) {{\n",
       "    x.observe(outputEl, {childList: true});\n",
       "}}\n",
       "\n",
       "                        })                };                });            </script>        </div>"
      ]
     },
     "metadata": {},
     "output_type": "display_data"
    }
   ],
   "source": [
    "macs_fig = px.bar(df_me, x=\"name\", y= \"macs\",\n",
    "                  text_auto=\".2s\",\n",
    "                  labels={\"name\" : \"layer\",\n",
    "                          \"macs\" : \"MACs\"},\n",
    "                     width=1200, height=600,\n",
    "    title=f\"MACs per layer - tflite {architecture_1}\")\n",
    "# tflite_fig.add_hline(y=256, line_width=3, line_dash=\"dash\", line_color=\"orange\", annotation_text=\"256 kB MCU constraint\", \n",
    "#               annotation_position=\"bottom right\")\n",
    "#peak_memory = peak_memory_df[\"RAM_b\"].max()\n",
    "#peak_mem_fig.add_hline(y=peak_memory, line_width=3, line_dash=\"dash\", line_color=\"red\", annotation_text=f\"{peak_memory} B peak activation\", \n",
    "#               annotation_position=\"top\")\n",
    "# tflite_fig.update_layout(yaxis_range=[0,300])\n",
    "macs_fig.update_traces(width=1)\n",
    "macs_fig.update_layout(showlegend=False)\n",
    "\n",
    "macs_fig.show()"
   ]
  },
  {
   "cell_type": "code",
   "execution_count": 111,
   "metadata": {},
   "outputs": [
    {
     "data": {
      "application/vnd.plotly.v1+json": {
       "config": {
        "plotlyServerURL": "https://plot.ly"
       },
       "data": [
        {
         "name": "mobilenetv2_0.25_96_c3_o2_l5",
         "type": "bar",
         "x": [
          0,
          1,
          2,
          3,
          4,
          5,
          6,
          7,
          8,
          9,
          10,
          11,
          12,
          13,
          14,
          15,
          16,
          17,
          18,
          19,
          20,
          21,
          22,
          23,
          24,
          25,
          26,
          27,
          28,
          29,
          30,
          31,
          32,
          33,
          34,
          35,
          36,
          37,
          38,
          39,
          40,
          41,
          42,
          43,
          44,
          45,
          46,
          47,
          48,
          49,
          50,
          51,
          52,
          53,
          54,
          55,
          56,
          57,
          58,
          59,
          60,
          61,
          62,
          63,
          64,
          65,
          66,
          67,
          68
         ],
         "y": [
          497664,
          165888,
          73728,
          221184,
          124416,
          82944,
          124416,
          186624,
          124416,
          0,
          124416,
          46656,
          41472,
          55296,
          62208,
          55296,
          0,
          55296,
          62208,
          55296,
          0,
          55296,
          15552,
          27648,
          55296,
          31104,
          55296,
          0,
          55296,
          31104,
          55296,
          0,
          55296,
          31104,
          55296,
          0,
          55296,
          31104,
          82944,
          124416,
          46656,
          124416,
          0,
          124416,
          46656,
          124416,
          0,
          124416,
          11664,
          51840,
          86400,
          19440,
          86400,
          0,
          86400,
          19440,
          86400,
          0,
          86400,
          19440,
          172800,
          921600,
          0,
          2560,
          0,
          0,
          0,
          0,
          0
         ]
        },
        {
         "name": "mobilenetv2_0.25_96_c3_o2_keras",
         "type": "bar",
         "x": [
          0,
          1,
          2,
          3,
          4,
          5,
          6,
          7,
          8,
          9,
          10,
          11,
          12,
          13,
          14,
          15,
          16,
          17,
          18,
          19,
          20,
          21,
          22,
          23,
          24,
          25,
          26,
          27,
          28,
          29,
          30,
          31,
          32,
          33,
          34,
          35,
          36,
          37,
          38,
          39,
          40,
          41,
          42,
          43,
          44,
          45,
          46,
          47,
          48,
          49,
          50,
          51,
          52,
          53,
          54,
          55,
          56,
          57,
          58,
          59,
          60,
          61,
          62,
          63,
          64,
          65,
          66,
          67,
          68,
          69
         ],
         "y": [
          497664,
          165888,
          147456,
          0,
          884736,
          0,
          248832,
          221184,
          221184,
          248832,
          221184,
          0,
          221184,
          0,
          62208,
          55296,
          55296,
          62208,
          55296,
          0,
          55296,
          62208,
          55296,
          0,
          55296,
          0,
          15552,
          27648,
          55296,
          31104,
          55296,
          0,
          55296,
          31104,
          55296,
          0,
          55296,
          31104,
          55296,
          0,
          55296,
          31104,
          82944,
          124416,
          46656,
          124416,
          0,
          124416,
          46656,
          124416,
          0,
          124416,
          0,
          11664,
          51840,
          86400,
          19440,
          86400,
          0,
          86400,
          19440,
          86400,
          0,
          86400,
          19440,
          172800,
          921600,
          0,
          2560,
          0
         ]
        }
       ],
       "layout": {
        "template": {
         "data": {
          "bar": [
           {
            "error_x": {
             "color": "#2a3f5f"
            },
            "error_y": {
             "color": "#2a3f5f"
            },
            "marker": {
             "line": {
              "color": "#E5ECF6",
              "width": 0.5
             },
             "pattern": {
              "fillmode": "overlay",
              "size": 10,
              "solidity": 0.2
             }
            },
            "type": "bar"
           }
          ],
          "barpolar": [
           {
            "marker": {
             "line": {
              "color": "#E5ECF6",
              "width": 0.5
             },
             "pattern": {
              "fillmode": "overlay",
              "size": 10,
              "solidity": 0.2
             }
            },
            "type": "barpolar"
           }
          ],
          "carpet": [
           {
            "aaxis": {
             "endlinecolor": "#2a3f5f",
             "gridcolor": "white",
             "linecolor": "white",
             "minorgridcolor": "white",
             "startlinecolor": "#2a3f5f"
            },
            "baxis": {
             "endlinecolor": "#2a3f5f",
             "gridcolor": "white",
             "linecolor": "white",
             "minorgridcolor": "white",
             "startlinecolor": "#2a3f5f"
            },
            "type": "carpet"
           }
          ],
          "choropleth": [
           {
            "colorbar": {
             "outlinewidth": 0,
             "ticks": ""
            },
            "type": "choropleth"
           }
          ],
          "contour": [
           {
            "colorbar": {
             "outlinewidth": 0,
             "ticks": ""
            },
            "colorscale": [
             [
              0,
              "#0d0887"
             ],
             [
              0.1111111111111111,
              "#46039f"
             ],
             [
              0.2222222222222222,
              "#7201a8"
             ],
             [
              0.3333333333333333,
              "#9c179e"
             ],
             [
              0.4444444444444444,
              "#bd3786"
             ],
             [
              0.5555555555555556,
              "#d8576b"
             ],
             [
              0.6666666666666666,
              "#ed7953"
             ],
             [
              0.7777777777777778,
              "#fb9f3a"
             ],
             [
              0.8888888888888888,
              "#fdca26"
             ],
             [
              1,
              "#f0f921"
             ]
            ],
            "type": "contour"
           }
          ],
          "contourcarpet": [
           {
            "colorbar": {
             "outlinewidth": 0,
             "ticks": ""
            },
            "type": "contourcarpet"
           }
          ],
          "heatmap": [
           {
            "colorbar": {
             "outlinewidth": 0,
             "ticks": ""
            },
            "colorscale": [
             [
              0,
              "#0d0887"
             ],
             [
              0.1111111111111111,
              "#46039f"
             ],
             [
              0.2222222222222222,
              "#7201a8"
             ],
             [
              0.3333333333333333,
              "#9c179e"
             ],
             [
              0.4444444444444444,
              "#bd3786"
             ],
             [
              0.5555555555555556,
              "#d8576b"
             ],
             [
              0.6666666666666666,
              "#ed7953"
             ],
             [
              0.7777777777777778,
              "#fb9f3a"
             ],
             [
              0.8888888888888888,
              "#fdca26"
             ],
             [
              1,
              "#f0f921"
             ]
            ],
            "type": "heatmap"
           }
          ],
          "heatmapgl": [
           {
            "colorbar": {
             "outlinewidth": 0,
             "ticks": ""
            },
            "colorscale": [
             [
              0,
              "#0d0887"
             ],
             [
              0.1111111111111111,
              "#46039f"
             ],
             [
              0.2222222222222222,
              "#7201a8"
             ],
             [
              0.3333333333333333,
              "#9c179e"
             ],
             [
              0.4444444444444444,
              "#bd3786"
             ],
             [
              0.5555555555555556,
              "#d8576b"
             ],
             [
              0.6666666666666666,
              "#ed7953"
             ],
             [
              0.7777777777777778,
              "#fb9f3a"
             ],
             [
              0.8888888888888888,
              "#fdca26"
             ],
             [
              1,
              "#f0f921"
             ]
            ],
            "type": "heatmapgl"
           }
          ],
          "histogram": [
           {
            "marker": {
             "pattern": {
              "fillmode": "overlay",
              "size": 10,
              "solidity": 0.2
             }
            },
            "type": "histogram"
           }
          ],
          "histogram2d": [
           {
            "colorbar": {
             "outlinewidth": 0,
             "ticks": ""
            },
            "colorscale": [
             [
              0,
              "#0d0887"
             ],
             [
              0.1111111111111111,
              "#46039f"
             ],
             [
              0.2222222222222222,
              "#7201a8"
             ],
             [
              0.3333333333333333,
              "#9c179e"
             ],
             [
              0.4444444444444444,
              "#bd3786"
             ],
             [
              0.5555555555555556,
              "#d8576b"
             ],
             [
              0.6666666666666666,
              "#ed7953"
             ],
             [
              0.7777777777777778,
              "#fb9f3a"
             ],
             [
              0.8888888888888888,
              "#fdca26"
             ],
             [
              1,
              "#f0f921"
             ]
            ],
            "type": "histogram2d"
           }
          ],
          "histogram2dcontour": [
           {
            "colorbar": {
             "outlinewidth": 0,
             "ticks": ""
            },
            "colorscale": [
             [
              0,
              "#0d0887"
             ],
             [
              0.1111111111111111,
              "#46039f"
             ],
             [
              0.2222222222222222,
              "#7201a8"
             ],
             [
              0.3333333333333333,
              "#9c179e"
             ],
             [
              0.4444444444444444,
              "#bd3786"
             ],
             [
              0.5555555555555556,
              "#d8576b"
             ],
             [
              0.6666666666666666,
              "#ed7953"
             ],
             [
              0.7777777777777778,
              "#fb9f3a"
             ],
             [
              0.8888888888888888,
              "#fdca26"
             ],
             [
              1,
              "#f0f921"
             ]
            ],
            "type": "histogram2dcontour"
           }
          ],
          "mesh3d": [
           {
            "colorbar": {
             "outlinewidth": 0,
             "ticks": ""
            },
            "type": "mesh3d"
           }
          ],
          "parcoords": [
           {
            "line": {
             "colorbar": {
              "outlinewidth": 0,
              "ticks": ""
             }
            },
            "type": "parcoords"
           }
          ],
          "pie": [
           {
            "automargin": true,
            "type": "pie"
           }
          ],
          "scatter": [
           {
            "fillpattern": {
             "fillmode": "overlay",
             "size": 10,
             "solidity": 0.2
            },
            "type": "scatter"
           }
          ],
          "scatter3d": [
           {
            "line": {
             "colorbar": {
              "outlinewidth": 0,
              "ticks": ""
             }
            },
            "marker": {
             "colorbar": {
              "outlinewidth": 0,
              "ticks": ""
             }
            },
            "type": "scatter3d"
           }
          ],
          "scattercarpet": [
           {
            "marker": {
             "colorbar": {
              "outlinewidth": 0,
              "ticks": ""
             }
            },
            "type": "scattercarpet"
           }
          ],
          "scattergeo": [
           {
            "marker": {
             "colorbar": {
              "outlinewidth": 0,
              "ticks": ""
             }
            },
            "type": "scattergeo"
           }
          ],
          "scattergl": [
           {
            "marker": {
             "colorbar": {
              "outlinewidth": 0,
              "ticks": ""
             }
            },
            "type": "scattergl"
           }
          ],
          "scattermapbox": [
           {
            "marker": {
             "colorbar": {
              "outlinewidth": 0,
              "ticks": ""
             }
            },
            "type": "scattermapbox"
           }
          ],
          "scatterpolar": [
           {
            "marker": {
             "colorbar": {
              "outlinewidth": 0,
              "ticks": ""
             }
            },
            "type": "scatterpolar"
           }
          ],
          "scatterpolargl": [
           {
            "marker": {
             "colorbar": {
              "outlinewidth": 0,
              "ticks": ""
             }
            },
            "type": "scatterpolargl"
           }
          ],
          "scatterternary": [
           {
            "marker": {
             "colorbar": {
              "outlinewidth": 0,
              "ticks": ""
             }
            },
            "type": "scatterternary"
           }
          ],
          "surface": [
           {
            "colorbar": {
             "outlinewidth": 0,
             "ticks": ""
            },
            "colorscale": [
             [
              0,
              "#0d0887"
             ],
             [
              0.1111111111111111,
              "#46039f"
             ],
             [
              0.2222222222222222,
              "#7201a8"
             ],
             [
              0.3333333333333333,
              "#9c179e"
             ],
             [
              0.4444444444444444,
              "#bd3786"
             ],
             [
              0.5555555555555556,
              "#d8576b"
             ],
             [
              0.6666666666666666,
              "#ed7953"
             ],
             [
              0.7777777777777778,
              "#fb9f3a"
             ],
             [
              0.8888888888888888,
              "#fdca26"
             ],
             [
              1,
              "#f0f921"
             ]
            ],
            "type": "surface"
           }
          ],
          "table": [
           {
            "cells": {
             "fill": {
              "color": "#EBF0F8"
             },
             "line": {
              "color": "white"
             }
            },
            "header": {
             "fill": {
              "color": "#C8D4E3"
             },
             "line": {
              "color": "white"
             }
            },
            "type": "table"
           }
          ]
         },
         "layout": {
          "annotationdefaults": {
           "arrowcolor": "#2a3f5f",
           "arrowhead": 0,
           "arrowwidth": 1
          },
          "autotypenumbers": "strict",
          "coloraxis": {
           "colorbar": {
            "outlinewidth": 0,
            "ticks": ""
           }
          },
          "colorscale": {
           "diverging": [
            [
             0,
             "#8e0152"
            ],
            [
             0.1,
             "#c51b7d"
            ],
            [
             0.2,
             "#de77ae"
            ],
            [
             0.3,
             "#f1b6da"
            ],
            [
             0.4,
             "#fde0ef"
            ],
            [
             0.5,
             "#f7f7f7"
            ],
            [
             0.6,
             "#e6f5d0"
            ],
            [
             0.7,
             "#b8e186"
            ],
            [
             0.8,
             "#7fbc41"
            ],
            [
             0.9,
             "#4d9221"
            ],
            [
             1,
             "#276419"
            ]
           ],
           "sequential": [
            [
             0,
             "#0d0887"
            ],
            [
             0.1111111111111111,
             "#46039f"
            ],
            [
             0.2222222222222222,
             "#7201a8"
            ],
            [
             0.3333333333333333,
             "#9c179e"
            ],
            [
             0.4444444444444444,
             "#bd3786"
            ],
            [
             0.5555555555555556,
             "#d8576b"
            ],
            [
             0.6666666666666666,
             "#ed7953"
            ],
            [
             0.7777777777777778,
             "#fb9f3a"
            ],
            [
             0.8888888888888888,
             "#fdca26"
            ],
            [
             1,
             "#f0f921"
            ]
           ],
           "sequentialminus": [
            [
             0,
             "#0d0887"
            ],
            [
             0.1111111111111111,
             "#46039f"
            ],
            [
             0.2222222222222222,
             "#7201a8"
            ],
            [
             0.3333333333333333,
             "#9c179e"
            ],
            [
             0.4444444444444444,
             "#bd3786"
            ],
            [
             0.5555555555555556,
             "#d8576b"
            ],
            [
             0.6666666666666666,
             "#ed7953"
            ],
            [
             0.7777777777777778,
             "#fb9f3a"
            ],
            [
             0.8888888888888888,
             "#fdca26"
            ],
            [
             1,
             "#f0f921"
            ]
           ]
          },
          "colorway": [
           "#636efa",
           "#EF553B",
           "#00cc96",
           "#ab63fa",
           "#FFA15A",
           "#19d3f3",
           "#FF6692",
           "#B6E880",
           "#FF97FF",
           "#FECB52"
          ],
          "font": {
           "color": "#2a3f5f"
          },
          "geo": {
           "bgcolor": "white",
           "lakecolor": "white",
           "landcolor": "#E5ECF6",
           "showlakes": true,
           "showland": true,
           "subunitcolor": "white"
          },
          "hoverlabel": {
           "align": "left"
          },
          "hovermode": "closest",
          "mapbox": {
           "style": "light"
          },
          "paper_bgcolor": "white",
          "plot_bgcolor": "#E5ECF6",
          "polar": {
           "angularaxis": {
            "gridcolor": "white",
            "linecolor": "white",
            "ticks": ""
           },
           "bgcolor": "#E5ECF6",
           "radialaxis": {
            "gridcolor": "white",
            "linecolor": "white",
            "ticks": ""
           }
          },
          "scene": {
           "xaxis": {
            "backgroundcolor": "#E5ECF6",
            "gridcolor": "white",
            "gridwidth": 2,
            "linecolor": "white",
            "showbackground": true,
            "ticks": "",
            "zerolinecolor": "white"
           },
           "yaxis": {
            "backgroundcolor": "#E5ECF6",
            "gridcolor": "white",
            "gridwidth": 2,
            "linecolor": "white",
            "showbackground": true,
            "ticks": "",
            "zerolinecolor": "white"
           },
           "zaxis": {
            "backgroundcolor": "#E5ECF6",
            "gridcolor": "white",
            "gridwidth": 2,
            "linecolor": "white",
            "showbackground": true,
            "ticks": "",
            "zerolinecolor": "white"
           }
          },
          "shapedefaults": {
           "line": {
            "color": "#2a3f5f"
           }
          },
          "ternary": {
           "aaxis": {
            "gridcolor": "white",
            "linecolor": "white",
            "ticks": ""
           },
           "baxis": {
            "gridcolor": "white",
            "linecolor": "white",
            "ticks": ""
           },
           "bgcolor": "#E5ECF6",
           "caxis": {
            "gridcolor": "white",
            "linecolor": "white",
            "ticks": ""
           }
          },
          "title": {
           "x": 0.05
          },
          "xaxis": {
           "automargin": true,
           "gridcolor": "white",
           "linecolor": "white",
           "ticks": "",
           "title": {
            "standoff": 15
           },
           "zerolinecolor": "white",
           "zerolinewidth": 2
          },
          "yaxis": {
           "automargin": true,
           "gridcolor": "white",
           "linecolor": "white",
           "ticks": "",
           "title": {
            "standoff": 15
           },
           "zerolinecolor": "white",
           "zerolinewidth": 2
          }
         }
        },
        "title": {
         "text": "MACs per layer"
        }
       }
      },
      "text/html": [
       "<div>                            <div id=\"88458237-085e-4e31-b60d-7005d36ed151\" class=\"plotly-graph-div\" style=\"height:525px; width:100%;\"></div>            <script type=\"text/javascript\">                require([\"plotly\"], function(Plotly) {                    window.PLOTLYENV=window.PLOTLYENV || {};                                    if (document.getElementById(\"88458237-085e-4e31-b60d-7005d36ed151\")) {                    Plotly.newPlot(                        \"88458237-085e-4e31-b60d-7005d36ed151\",                        [{\"name\":\"mobilenetv2_0.25_96_c3_o2_l5\",\"x\":[0,1,2,3,4,5,6,7,8,9,10,11,12,13,14,15,16,17,18,19,20,21,22,23,24,25,26,27,28,29,30,31,32,33,34,35,36,37,38,39,40,41,42,43,44,45,46,47,48,49,50,51,52,53,54,55,56,57,58,59,60,61,62,63,64,65,66,67,68],\"y\":[497664,165888,73728,221184,124416,82944,124416,186624,124416,0,124416,46656,41472,55296,62208,55296,0,55296,62208,55296,0,55296,15552,27648,55296,31104,55296,0,55296,31104,55296,0,55296,31104,55296,0,55296,31104,82944,124416,46656,124416,0,124416,46656,124416,0,124416,11664,51840,86400,19440,86400,0,86400,19440,86400,0,86400,19440,172800,921600,0,2560,0,0,0,0,0],\"type\":\"bar\"},{\"name\":\"mobilenetv2_0.25_96_c3_o2_keras\",\"x\":[0,1,2,3,4,5,6,7,8,9,10,11,12,13,14,15,16,17,18,19,20,21,22,23,24,25,26,27,28,29,30,31,32,33,34,35,36,37,38,39,40,41,42,43,44,45,46,47,48,49,50,51,52,53,54,55,56,57,58,59,60,61,62,63,64,65,66,67,68,69],\"y\":[497664,165888,147456,0,884736,0,248832,221184,221184,248832,221184,0,221184,0,62208,55296,55296,62208,55296,0,55296,62208,55296,0,55296,0,15552,27648,55296,31104,55296,0,55296,31104,55296,0,55296,31104,55296,0,55296,31104,82944,124416,46656,124416,0,124416,46656,124416,0,124416,0,11664,51840,86400,19440,86400,0,86400,19440,86400,0,86400,19440,172800,921600,0,2560,0],\"type\":\"bar\"}],                        {\"template\":{\"data\":{\"histogram2dcontour\":[{\"type\":\"histogram2dcontour\",\"colorbar\":{\"outlinewidth\":0,\"ticks\":\"\"},\"colorscale\":[[0.0,\"#0d0887\"],[0.1111111111111111,\"#46039f\"],[0.2222222222222222,\"#7201a8\"],[0.3333333333333333,\"#9c179e\"],[0.4444444444444444,\"#bd3786\"],[0.5555555555555556,\"#d8576b\"],[0.6666666666666666,\"#ed7953\"],[0.7777777777777778,\"#fb9f3a\"],[0.8888888888888888,\"#fdca26\"],[1.0,\"#f0f921\"]]}],\"choropleth\":[{\"type\":\"choropleth\",\"colorbar\":{\"outlinewidth\":0,\"ticks\":\"\"}}],\"histogram2d\":[{\"type\":\"histogram2d\",\"colorbar\":{\"outlinewidth\":0,\"ticks\":\"\"},\"colorscale\":[[0.0,\"#0d0887\"],[0.1111111111111111,\"#46039f\"],[0.2222222222222222,\"#7201a8\"],[0.3333333333333333,\"#9c179e\"],[0.4444444444444444,\"#bd3786\"],[0.5555555555555556,\"#d8576b\"],[0.6666666666666666,\"#ed7953\"],[0.7777777777777778,\"#fb9f3a\"],[0.8888888888888888,\"#fdca26\"],[1.0,\"#f0f921\"]]}],\"heatmap\":[{\"type\":\"heatmap\",\"colorbar\":{\"outlinewidth\":0,\"ticks\":\"\"},\"colorscale\":[[0.0,\"#0d0887\"],[0.1111111111111111,\"#46039f\"],[0.2222222222222222,\"#7201a8\"],[0.3333333333333333,\"#9c179e\"],[0.4444444444444444,\"#bd3786\"],[0.5555555555555556,\"#d8576b\"],[0.6666666666666666,\"#ed7953\"],[0.7777777777777778,\"#fb9f3a\"],[0.8888888888888888,\"#fdca26\"],[1.0,\"#f0f921\"]]}],\"heatmapgl\":[{\"type\":\"heatmapgl\",\"colorbar\":{\"outlinewidth\":0,\"ticks\":\"\"},\"colorscale\":[[0.0,\"#0d0887\"],[0.1111111111111111,\"#46039f\"],[0.2222222222222222,\"#7201a8\"],[0.3333333333333333,\"#9c179e\"],[0.4444444444444444,\"#bd3786\"],[0.5555555555555556,\"#d8576b\"],[0.6666666666666666,\"#ed7953\"],[0.7777777777777778,\"#fb9f3a\"],[0.8888888888888888,\"#fdca26\"],[1.0,\"#f0f921\"]]}],\"contourcarpet\":[{\"type\":\"contourcarpet\",\"colorbar\":{\"outlinewidth\":0,\"ticks\":\"\"}}],\"contour\":[{\"type\":\"contour\",\"colorbar\":{\"outlinewidth\":0,\"ticks\":\"\"},\"colorscale\":[[0.0,\"#0d0887\"],[0.1111111111111111,\"#46039f\"],[0.2222222222222222,\"#7201a8\"],[0.3333333333333333,\"#9c179e\"],[0.4444444444444444,\"#bd3786\"],[0.5555555555555556,\"#d8576b\"],[0.6666666666666666,\"#ed7953\"],[0.7777777777777778,\"#fb9f3a\"],[0.8888888888888888,\"#fdca26\"],[1.0,\"#f0f921\"]]}],\"surface\":[{\"type\":\"surface\",\"colorbar\":{\"outlinewidth\":0,\"ticks\":\"\"},\"colorscale\":[[0.0,\"#0d0887\"],[0.1111111111111111,\"#46039f\"],[0.2222222222222222,\"#7201a8\"],[0.3333333333333333,\"#9c179e\"],[0.4444444444444444,\"#bd3786\"],[0.5555555555555556,\"#d8576b\"],[0.6666666666666666,\"#ed7953\"],[0.7777777777777778,\"#fb9f3a\"],[0.8888888888888888,\"#fdca26\"],[1.0,\"#f0f921\"]]}],\"mesh3d\":[{\"type\":\"mesh3d\",\"colorbar\":{\"outlinewidth\":0,\"ticks\":\"\"}}],\"scatter\":[{\"fillpattern\":{\"fillmode\":\"overlay\",\"size\":10,\"solidity\":0.2},\"type\":\"scatter\"}],\"parcoords\":[{\"type\":\"parcoords\",\"line\":{\"colorbar\":{\"outlinewidth\":0,\"ticks\":\"\"}}}],\"scatterpolargl\":[{\"type\":\"scatterpolargl\",\"marker\":{\"colorbar\":{\"outlinewidth\":0,\"ticks\":\"\"}}}],\"bar\":[{\"error_x\":{\"color\":\"#2a3f5f\"},\"error_y\":{\"color\":\"#2a3f5f\"},\"marker\":{\"line\":{\"color\":\"#E5ECF6\",\"width\":0.5},\"pattern\":{\"fillmode\":\"overlay\",\"size\":10,\"solidity\":0.2}},\"type\":\"bar\"}],\"scattergeo\":[{\"type\":\"scattergeo\",\"marker\":{\"colorbar\":{\"outlinewidth\":0,\"ticks\":\"\"}}}],\"scatterpolar\":[{\"type\":\"scatterpolar\",\"marker\":{\"colorbar\":{\"outlinewidth\":0,\"ticks\":\"\"}}}],\"histogram\":[{\"marker\":{\"pattern\":{\"fillmode\":\"overlay\",\"size\":10,\"solidity\":0.2}},\"type\":\"histogram\"}],\"scattergl\":[{\"type\":\"scattergl\",\"marker\":{\"colorbar\":{\"outlinewidth\":0,\"ticks\":\"\"}}}],\"scatter3d\":[{\"type\":\"scatter3d\",\"line\":{\"colorbar\":{\"outlinewidth\":0,\"ticks\":\"\"}},\"marker\":{\"colorbar\":{\"outlinewidth\":0,\"ticks\":\"\"}}}],\"scattermapbox\":[{\"type\":\"scattermapbox\",\"marker\":{\"colorbar\":{\"outlinewidth\":0,\"ticks\":\"\"}}}],\"scatterternary\":[{\"type\":\"scatterternary\",\"marker\":{\"colorbar\":{\"outlinewidth\":0,\"ticks\":\"\"}}}],\"scattercarpet\":[{\"type\":\"scattercarpet\",\"marker\":{\"colorbar\":{\"outlinewidth\":0,\"ticks\":\"\"}}}],\"carpet\":[{\"aaxis\":{\"endlinecolor\":\"#2a3f5f\",\"gridcolor\":\"white\",\"linecolor\":\"white\",\"minorgridcolor\":\"white\",\"startlinecolor\":\"#2a3f5f\"},\"baxis\":{\"endlinecolor\":\"#2a3f5f\",\"gridcolor\":\"white\",\"linecolor\":\"white\",\"minorgridcolor\":\"white\",\"startlinecolor\":\"#2a3f5f\"},\"type\":\"carpet\"}],\"table\":[{\"cells\":{\"fill\":{\"color\":\"#EBF0F8\"},\"line\":{\"color\":\"white\"}},\"header\":{\"fill\":{\"color\":\"#C8D4E3\"},\"line\":{\"color\":\"white\"}},\"type\":\"table\"}],\"barpolar\":[{\"marker\":{\"line\":{\"color\":\"#E5ECF6\",\"width\":0.5},\"pattern\":{\"fillmode\":\"overlay\",\"size\":10,\"solidity\":0.2}},\"type\":\"barpolar\"}],\"pie\":[{\"automargin\":true,\"type\":\"pie\"}]},\"layout\":{\"autotypenumbers\":\"strict\",\"colorway\":[\"#636efa\",\"#EF553B\",\"#00cc96\",\"#ab63fa\",\"#FFA15A\",\"#19d3f3\",\"#FF6692\",\"#B6E880\",\"#FF97FF\",\"#FECB52\"],\"font\":{\"color\":\"#2a3f5f\"},\"hovermode\":\"closest\",\"hoverlabel\":{\"align\":\"left\"},\"paper_bgcolor\":\"white\",\"plot_bgcolor\":\"#E5ECF6\",\"polar\":{\"bgcolor\":\"#E5ECF6\",\"angularaxis\":{\"gridcolor\":\"white\",\"linecolor\":\"white\",\"ticks\":\"\"},\"radialaxis\":{\"gridcolor\":\"white\",\"linecolor\":\"white\",\"ticks\":\"\"}},\"ternary\":{\"bgcolor\":\"#E5ECF6\",\"aaxis\":{\"gridcolor\":\"white\",\"linecolor\":\"white\",\"ticks\":\"\"},\"baxis\":{\"gridcolor\":\"white\",\"linecolor\":\"white\",\"ticks\":\"\"},\"caxis\":{\"gridcolor\":\"white\",\"linecolor\":\"white\",\"ticks\":\"\"}},\"coloraxis\":{\"colorbar\":{\"outlinewidth\":0,\"ticks\":\"\"}},\"colorscale\":{\"sequential\":[[0.0,\"#0d0887\"],[0.1111111111111111,\"#46039f\"],[0.2222222222222222,\"#7201a8\"],[0.3333333333333333,\"#9c179e\"],[0.4444444444444444,\"#bd3786\"],[0.5555555555555556,\"#d8576b\"],[0.6666666666666666,\"#ed7953\"],[0.7777777777777778,\"#fb9f3a\"],[0.8888888888888888,\"#fdca26\"],[1.0,\"#f0f921\"]],\"sequentialminus\":[[0.0,\"#0d0887\"],[0.1111111111111111,\"#46039f\"],[0.2222222222222222,\"#7201a8\"],[0.3333333333333333,\"#9c179e\"],[0.4444444444444444,\"#bd3786\"],[0.5555555555555556,\"#d8576b\"],[0.6666666666666666,\"#ed7953\"],[0.7777777777777778,\"#fb9f3a\"],[0.8888888888888888,\"#fdca26\"],[1.0,\"#f0f921\"]],\"diverging\":[[0,\"#8e0152\"],[0.1,\"#c51b7d\"],[0.2,\"#de77ae\"],[0.3,\"#f1b6da\"],[0.4,\"#fde0ef\"],[0.5,\"#f7f7f7\"],[0.6,\"#e6f5d0\"],[0.7,\"#b8e186\"],[0.8,\"#7fbc41\"],[0.9,\"#4d9221\"],[1,\"#276419\"]]},\"xaxis\":{\"gridcolor\":\"white\",\"linecolor\":\"white\",\"ticks\":\"\",\"title\":{\"standoff\":15},\"zerolinecolor\":\"white\",\"automargin\":true,\"zerolinewidth\":2},\"yaxis\":{\"gridcolor\":\"white\",\"linecolor\":\"white\",\"ticks\":\"\",\"title\":{\"standoff\":15},\"zerolinecolor\":\"white\",\"automargin\":true,\"zerolinewidth\":2},\"scene\":{\"xaxis\":{\"backgroundcolor\":\"#E5ECF6\",\"gridcolor\":\"white\",\"linecolor\":\"white\",\"showbackground\":true,\"ticks\":\"\",\"zerolinecolor\":\"white\",\"gridwidth\":2},\"yaxis\":{\"backgroundcolor\":\"#E5ECF6\",\"gridcolor\":\"white\",\"linecolor\":\"white\",\"showbackground\":true,\"ticks\":\"\",\"zerolinecolor\":\"white\",\"gridwidth\":2},\"zaxis\":{\"backgroundcolor\":\"#E5ECF6\",\"gridcolor\":\"white\",\"linecolor\":\"white\",\"showbackground\":true,\"ticks\":\"\",\"zerolinecolor\":\"white\",\"gridwidth\":2}},\"shapedefaults\":{\"line\":{\"color\":\"#2a3f5f\"}},\"annotationdefaults\":{\"arrowcolor\":\"#2a3f5f\",\"arrowhead\":0,\"arrowwidth\":1},\"geo\":{\"bgcolor\":\"white\",\"landcolor\":\"#E5ECF6\",\"subunitcolor\":\"white\",\"showland\":true,\"showlakes\":true,\"lakecolor\":\"white\"},\"title\":{\"x\":0.05},\"mapbox\":{\"style\":\"light\"}}},\"title\":{\"text\":\"MACs per layer\"}},                        {\"responsive\": true}                    ).then(function(){\n",
       "                            \n",
       "var gd = document.getElementById('88458237-085e-4e31-b60d-7005d36ed151');\n",
       "var x = new MutationObserver(function (mutations, observer) {{\n",
       "        var display = window.getComputedStyle(gd).display;\n",
       "        if (!display || display === 'none') {{\n",
       "            console.log([gd, 'removed!']);\n",
       "            Plotly.purge(gd);\n",
       "            observer.disconnect();\n",
       "        }}\n",
       "}});\n",
       "\n",
       "// Listen for the removal of the full notebook cells\n",
       "var notebookContainer = gd.closest('#notebook-container');\n",
       "if (notebookContainer) {{\n",
       "    x.observe(notebookContainer, {childList: true});\n",
       "}}\n",
       "\n",
       "// Listen for the clearing of the current output cell\n",
       "var outputEl = gd.closest('.output');\n",
       "if (outputEl) {{\n",
       "    x.observe(outputEl, {childList: true});\n",
       "}}\n",
       "\n",
       "                        })                };                });            </script>        </div>"
      ]
     },
     "metadata": {},
     "output_type": "display_data"
    }
   ],
   "source": [
    "\n",
    "\n",
    "# dict for the dataframes and their names\n",
    "dfs = {architecture_1 : df_me, architecture_2 : df_keras}\n",
    "\n",
    "# plot the data\n",
    "#fig = go.Figure(layout=dict(title=dict(text=\"MACs per layer\")))\n",
    "fig = go.Figure(layout_title_text=\"MACs per layer\")\n",
    "#fig = make_subplots(rows=2, cols=1, start_cell=\"bottom-left\")\n",
    "\n",
    "for i in dfs:\n",
    "    fig = fig.add_trace(go.Bar(x = dfs[i][\"index\"],\n",
    "                                   y = dfs[i][\"macs\"], \n",
    "                                   name = i))\n",
    "fig.show()"
   ]
  },
  {
   "cell_type": "code",
   "execution_count": 105,
   "metadata": {},
   "outputs": [
    {
     "data": {
      "application/vnd.plotly.v1+json": {
       "config": {
        "plotlyServerURL": "https://plot.ly"
       },
       "data": [
        {
         "name": "mobilenetv2_0.25_96_c3_o2_l5",
         "text": [
          497664,
          165888,
          73728,
          221184,
          124416,
          82944,
          124416,
          186624,
          124416,
          0,
          124416,
          46656,
          41472,
          55296,
          62208,
          55296,
          0,
          55296,
          62208,
          55296,
          0,
          55296,
          15552,
          27648,
          55296,
          31104,
          55296,
          0,
          55296,
          31104,
          55296,
          0,
          55296,
          31104,
          55296,
          0,
          55296,
          31104,
          82944,
          124416,
          46656,
          124416,
          0,
          124416,
          46656,
          124416,
          0,
          124416,
          11664,
          51840,
          86400,
          19440,
          86400,
          0,
          86400,
          19440,
          86400,
          0,
          86400,
          19440,
          172800,
          921600,
          0,
          2560,
          0,
          0,
          0,
          0,
          0
         ],
         "textposition": "auto",
         "type": "bar",
         "x": [
          "0: conv_2d",
          "1: depthwise_conv_2d",
          "2: conv_2d",
          "3: conv_2d",
          "4: depthwise_conv_2d",
          "5: conv_2d",
          "6: conv_2d",
          "7: depthwise_conv_2d",
          "8: conv_2d",
          "9: add",
          "10: conv_2d",
          "11: depthwise_conv_2d",
          "12: conv_2d",
          "13: conv_2d",
          "14: depthwise_conv_2d",
          "15: conv_2d",
          "16: add",
          "17: conv_2d",
          "18: depthwise_conv_2d",
          "19: conv_2d",
          "20: add",
          "21: conv_2d",
          "22: depthwise_conv_2d",
          "23: conv_2d",
          "24: conv_2d",
          "25: depthwise_conv_2d",
          "26: conv_2d",
          "27: add",
          "28: conv_2d",
          "29: depthwise_conv_2d",
          "30: conv_2d",
          "31: add",
          "32: conv_2d",
          "33: depthwise_conv_2d",
          "34: conv_2d",
          "35: add",
          "36: conv_2d",
          "37: depthwise_conv_2d",
          "38: conv_2d",
          "39: conv_2d",
          "40: depthwise_conv_2d",
          "41: conv_2d",
          "42: add",
          "43: conv_2d",
          "44: depthwise_conv_2d",
          "45: conv_2d",
          "46: add",
          "47: conv_2d",
          "48: depthwise_conv_2d",
          "49: conv_2d",
          "50: conv_2d",
          "51: depthwise_conv_2d",
          "52: conv_2d",
          "53: add",
          "54: conv_2d",
          "55: depthwise_conv_2d",
          "56: conv_2d",
          "57: add",
          "58: conv_2d",
          "59: depthwise_conv_2d",
          "60: conv_2d",
          "61: conv_2d",
          "62: mean",
          "63: conv_2d",
          "64: shape",
          "65: strided_slice",
          "66: pack",
          "67: reshape",
          "68: softmax"
         ],
         "xaxis": "x",
         "y": [
          497664,
          165888,
          73728,
          221184,
          124416,
          82944,
          124416,
          186624,
          124416,
          0,
          124416,
          46656,
          41472,
          55296,
          62208,
          55296,
          0,
          55296,
          62208,
          55296,
          0,
          55296,
          15552,
          27648,
          55296,
          31104,
          55296,
          0,
          55296,
          31104,
          55296,
          0,
          55296,
          31104,
          55296,
          0,
          55296,
          31104,
          82944,
          124416,
          46656,
          124416,
          0,
          124416,
          46656,
          124416,
          0,
          124416,
          11664,
          51840,
          86400,
          19440,
          86400,
          0,
          86400,
          19440,
          86400,
          0,
          86400,
          19440,
          172800,
          921600,
          0,
          2560,
          0,
          0,
          0,
          0,
          0
         ],
         "yaxis": "y"
        },
        {
         "name": "mobilenetv2_0.25_96_c3_o2_keras",
         "type": "bar",
         "x": [
          "0: conv_2d",
          "1: depthwise_conv_2d",
          "2: conv_2d",
          "3: add",
          "4: conv_2d",
          "5: pad",
          "6: depthwise_conv_2d",
          "7: conv_2d",
          "8: conv_2d",
          "9: depthwise_conv_2d",
          "10: conv_2d",
          "11: add",
          "12: conv_2d",
          "13: pad",
          "14: depthwise_conv_2d",
          "15: conv_2d",
          "16: conv_2d",
          "17: depthwise_conv_2d",
          "18: conv_2d",
          "19: add",
          "20: conv_2d",
          "21: depthwise_conv_2d",
          "22: conv_2d",
          "23: add",
          "24: conv_2d",
          "25: pad",
          "26: depthwise_conv_2d",
          "27: conv_2d",
          "28: conv_2d",
          "29: depthwise_conv_2d",
          "30: conv_2d",
          "31: add",
          "32: conv_2d",
          "33: depthwise_conv_2d",
          "34: conv_2d",
          "35: add",
          "36: conv_2d",
          "37: depthwise_conv_2d",
          "38: conv_2d",
          "39: add",
          "40: conv_2d",
          "41: depthwise_conv_2d",
          "42: conv_2d",
          "43: conv_2d",
          "44: depthwise_conv_2d",
          "45: conv_2d",
          "46: add",
          "47: conv_2d",
          "48: depthwise_conv_2d",
          "49: conv_2d",
          "50: add",
          "51: conv_2d",
          "52: pad",
          "53: depthwise_conv_2d",
          "54: conv_2d",
          "55: conv_2d",
          "56: depthwise_conv_2d",
          "57: conv_2d",
          "58: add",
          "59: conv_2d",
          "60: depthwise_conv_2d",
          "61: conv_2d",
          "62: add",
          "63: conv_2d",
          "64: depthwise_conv_2d",
          "65: conv_2d",
          "66: conv_2d",
          "67: mean",
          "68: fully_connected",
          "69: softmax"
         ],
         "xaxis": "x2",
         "y": [
          497664,
          165888,
          147456,
          0,
          884736,
          0,
          248832,
          221184,
          221184,
          248832,
          221184,
          0,
          221184,
          0,
          62208,
          55296,
          55296,
          62208,
          55296,
          0,
          55296,
          62208,
          55296,
          0,
          55296,
          0,
          15552,
          27648,
          55296,
          31104,
          55296,
          0,
          55296,
          31104,
          55296,
          0,
          55296,
          31104,
          55296,
          0,
          55296,
          31104,
          82944,
          124416,
          46656,
          124416,
          0,
          124416,
          46656,
          124416,
          0,
          124416,
          0,
          11664,
          51840,
          86400,
          19440,
          86400,
          0,
          86400,
          19440,
          86400,
          0,
          86400,
          19440,
          172800,
          921600,
          0,
          2560,
          0
         ],
         "yaxis": "y2"
        }
       ],
       "layout": {
        "annotations": [
         {
          "font": {
           "size": 16
          },
          "showarrow": false,
          "text": "mobilenetv2_0.25_96_c3_o2_l5",
          "x": 0.5,
          "xanchor": "center",
          "xref": "paper",
          "y": 0.35,
          "yanchor": "bottom",
          "yref": "paper"
         },
         {
          "font": {
           "size": 16
          },
          "showarrow": false,
          "text": "mobilenetv2_0.25_96_c3_o2_keras",
          "x": 0.5,
          "xanchor": "center",
          "xref": "paper",
          "y": 0.9999999999999999,
          "yanchor": "bottom",
          "yref": "paper"
         }
        ],
        "height": 1000,
        "legend": {
         "title": {
          "text": "architecture"
         },
         "x": 0,
         "y": 1
        },
        "showlegend": false,
        "template": {
         "data": {
          "bar": [
           {
            "error_x": {
             "color": "#2a3f5f"
            },
            "error_y": {
             "color": "#2a3f5f"
            },
            "marker": {
             "line": {
              "color": "#E5ECF6",
              "width": 0.5
             },
             "pattern": {
              "fillmode": "overlay",
              "size": 10,
              "solidity": 0.2
             }
            },
            "type": "bar"
           }
          ],
          "barpolar": [
           {
            "marker": {
             "line": {
              "color": "#E5ECF6",
              "width": 0.5
             },
             "pattern": {
              "fillmode": "overlay",
              "size": 10,
              "solidity": 0.2
             }
            },
            "type": "barpolar"
           }
          ],
          "carpet": [
           {
            "aaxis": {
             "endlinecolor": "#2a3f5f",
             "gridcolor": "white",
             "linecolor": "white",
             "minorgridcolor": "white",
             "startlinecolor": "#2a3f5f"
            },
            "baxis": {
             "endlinecolor": "#2a3f5f",
             "gridcolor": "white",
             "linecolor": "white",
             "minorgridcolor": "white",
             "startlinecolor": "#2a3f5f"
            },
            "type": "carpet"
           }
          ],
          "choropleth": [
           {
            "colorbar": {
             "outlinewidth": 0,
             "ticks": ""
            },
            "type": "choropleth"
           }
          ],
          "contour": [
           {
            "colorbar": {
             "outlinewidth": 0,
             "ticks": ""
            },
            "colorscale": [
             [
              0,
              "#0d0887"
             ],
             [
              0.1111111111111111,
              "#46039f"
             ],
             [
              0.2222222222222222,
              "#7201a8"
             ],
             [
              0.3333333333333333,
              "#9c179e"
             ],
             [
              0.4444444444444444,
              "#bd3786"
             ],
             [
              0.5555555555555556,
              "#d8576b"
             ],
             [
              0.6666666666666666,
              "#ed7953"
             ],
             [
              0.7777777777777778,
              "#fb9f3a"
             ],
             [
              0.8888888888888888,
              "#fdca26"
             ],
             [
              1,
              "#f0f921"
             ]
            ],
            "type": "contour"
           }
          ],
          "contourcarpet": [
           {
            "colorbar": {
             "outlinewidth": 0,
             "ticks": ""
            },
            "type": "contourcarpet"
           }
          ],
          "heatmap": [
           {
            "colorbar": {
             "outlinewidth": 0,
             "ticks": ""
            },
            "colorscale": [
             [
              0,
              "#0d0887"
             ],
             [
              0.1111111111111111,
              "#46039f"
             ],
             [
              0.2222222222222222,
              "#7201a8"
             ],
             [
              0.3333333333333333,
              "#9c179e"
             ],
             [
              0.4444444444444444,
              "#bd3786"
             ],
             [
              0.5555555555555556,
              "#d8576b"
             ],
             [
              0.6666666666666666,
              "#ed7953"
             ],
             [
              0.7777777777777778,
              "#fb9f3a"
             ],
             [
              0.8888888888888888,
              "#fdca26"
             ],
             [
              1,
              "#f0f921"
             ]
            ],
            "type": "heatmap"
           }
          ],
          "heatmapgl": [
           {
            "colorbar": {
             "outlinewidth": 0,
             "ticks": ""
            },
            "colorscale": [
             [
              0,
              "#0d0887"
             ],
             [
              0.1111111111111111,
              "#46039f"
             ],
             [
              0.2222222222222222,
              "#7201a8"
             ],
             [
              0.3333333333333333,
              "#9c179e"
             ],
             [
              0.4444444444444444,
              "#bd3786"
             ],
             [
              0.5555555555555556,
              "#d8576b"
             ],
             [
              0.6666666666666666,
              "#ed7953"
             ],
             [
              0.7777777777777778,
              "#fb9f3a"
             ],
             [
              0.8888888888888888,
              "#fdca26"
             ],
             [
              1,
              "#f0f921"
             ]
            ],
            "type": "heatmapgl"
           }
          ],
          "histogram": [
           {
            "marker": {
             "pattern": {
              "fillmode": "overlay",
              "size": 10,
              "solidity": 0.2
             }
            },
            "type": "histogram"
           }
          ],
          "histogram2d": [
           {
            "colorbar": {
             "outlinewidth": 0,
             "ticks": ""
            },
            "colorscale": [
             [
              0,
              "#0d0887"
             ],
             [
              0.1111111111111111,
              "#46039f"
             ],
             [
              0.2222222222222222,
              "#7201a8"
             ],
             [
              0.3333333333333333,
              "#9c179e"
             ],
             [
              0.4444444444444444,
              "#bd3786"
             ],
             [
              0.5555555555555556,
              "#d8576b"
             ],
             [
              0.6666666666666666,
              "#ed7953"
             ],
             [
              0.7777777777777778,
              "#fb9f3a"
             ],
             [
              0.8888888888888888,
              "#fdca26"
             ],
             [
              1,
              "#f0f921"
             ]
            ],
            "type": "histogram2d"
           }
          ],
          "histogram2dcontour": [
           {
            "colorbar": {
             "outlinewidth": 0,
             "ticks": ""
            },
            "colorscale": [
             [
              0,
              "#0d0887"
             ],
             [
              0.1111111111111111,
              "#46039f"
             ],
             [
              0.2222222222222222,
              "#7201a8"
             ],
             [
              0.3333333333333333,
              "#9c179e"
             ],
             [
              0.4444444444444444,
              "#bd3786"
             ],
             [
              0.5555555555555556,
              "#d8576b"
             ],
             [
              0.6666666666666666,
              "#ed7953"
             ],
             [
              0.7777777777777778,
              "#fb9f3a"
             ],
             [
              0.8888888888888888,
              "#fdca26"
             ],
             [
              1,
              "#f0f921"
             ]
            ],
            "type": "histogram2dcontour"
           }
          ],
          "mesh3d": [
           {
            "colorbar": {
             "outlinewidth": 0,
             "ticks": ""
            },
            "type": "mesh3d"
           }
          ],
          "parcoords": [
           {
            "line": {
             "colorbar": {
              "outlinewidth": 0,
              "ticks": ""
             }
            },
            "type": "parcoords"
           }
          ],
          "pie": [
           {
            "automargin": true,
            "type": "pie"
           }
          ],
          "scatter": [
           {
            "fillpattern": {
             "fillmode": "overlay",
             "size": 10,
             "solidity": 0.2
            },
            "type": "scatter"
           }
          ],
          "scatter3d": [
           {
            "line": {
             "colorbar": {
              "outlinewidth": 0,
              "ticks": ""
             }
            },
            "marker": {
             "colorbar": {
              "outlinewidth": 0,
              "ticks": ""
             }
            },
            "type": "scatter3d"
           }
          ],
          "scattercarpet": [
           {
            "marker": {
             "colorbar": {
              "outlinewidth": 0,
              "ticks": ""
             }
            },
            "type": "scattercarpet"
           }
          ],
          "scattergeo": [
           {
            "marker": {
             "colorbar": {
              "outlinewidth": 0,
              "ticks": ""
             }
            },
            "type": "scattergeo"
           }
          ],
          "scattergl": [
           {
            "marker": {
             "colorbar": {
              "outlinewidth": 0,
              "ticks": ""
             }
            },
            "type": "scattergl"
           }
          ],
          "scattermapbox": [
           {
            "marker": {
             "colorbar": {
              "outlinewidth": 0,
              "ticks": ""
             }
            },
            "type": "scattermapbox"
           }
          ],
          "scatterpolar": [
           {
            "marker": {
             "colorbar": {
              "outlinewidth": 0,
              "ticks": ""
             }
            },
            "type": "scatterpolar"
           }
          ],
          "scatterpolargl": [
           {
            "marker": {
             "colorbar": {
              "outlinewidth": 0,
              "ticks": ""
             }
            },
            "type": "scatterpolargl"
           }
          ],
          "scatterternary": [
           {
            "marker": {
             "colorbar": {
              "outlinewidth": 0,
              "ticks": ""
             }
            },
            "type": "scatterternary"
           }
          ],
          "surface": [
           {
            "colorbar": {
             "outlinewidth": 0,
             "ticks": ""
            },
            "colorscale": [
             [
              0,
              "#0d0887"
             ],
             [
              0.1111111111111111,
              "#46039f"
             ],
             [
              0.2222222222222222,
              "#7201a8"
             ],
             [
              0.3333333333333333,
              "#9c179e"
             ],
             [
              0.4444444444444444,
              "#bd3786"
             ],
             [
              0.5555555555555556,
              "#d8576b"
             ],
             [
              0.6666666666666666,
              "#ed7953"
             ],
             [
              0.7777777777777778,
              "#fb9f3a"
             ],
             [
              0.8888888888888888,
              "#fdca26"
             ],
             [
              1,
              "#f0f921"
             ]
            ],
            "type": "surface"
           }
          ],
          "table": [
           {
            "cells": {
             "fill": {
              "color": "#EBF0F8"
             },
             "line": {
              "color": "white"
             }
            },
            "header": {
             "fill": {
              "color": "#C8D4E3"
             },
             "line": {
              "color": "white"
             }
            },
            "type": "table"
           }
          ]
         },
         "layout": {
          "annotationdefaults": {
           "arrowcolor": "#2a3f5f",
           "arrowhead": 0,
           "arrowwidth": 1
          },
          "autotypenumbers": "strict",
          "coloraxis": {
           "colorbar": {
            "outlinewidth": 0,
            "ticks": ""
           }
          },
          "colorscale": {
           "diverging": [
            [
             0,
             "#8e0152"
            ],
            [
             0.1,
             "#c51b7d"
            ],
            [
             0.2,
             "#de77ae"
            ],
            [
             0.3,
             "#f1b6da"
            ],
            [
             0.4,
             "#fde0ef"
            ],
            [
             0.5,
             "#f7f7f7"
            ],
            [
             0.6,
             "#e6f5d0"
            ],
            [
             0.7,
             "#b8e186"
            ],
            [
             0.8,
             "#7fbc41"
            ],
            [
             0.9,
             "#4d9221"
            ],
            [
             1,
             "#276419"
            ]
           ],
           "sequential": [
            [
             0,
             "#0d0887"
            ],
            [
             0.1111111111111111,
             "#46039f"
            ],
            [
             0.2222222222222222,
             "#7201a8"
            ],
            [
             0.3333333333333333,
             "#9c179e"
            ],
            [
             0.4444444444444444,
             "#bd3786"
            ],
            [
             0.5555555555555556,
             "#d8576b"
            ],
            [
             0.6666666666666666,
             "#ed7953"
            ],
            [
             0.7777777777777778,
             "#fb9f3a"
            ],
            [
             0.8888888888888888,
             "#fdca26"
            ],
            [
             1,
             "#f0f921"
            ]
           ],
           "sequentialminus": [
            [
             0,
             "#0d0887"
            ],
            [
             0.1111111111111111,
             "#46039f"
            ],
            [
             0.2222222222222222,
             "#7201a8"
            ],
            [
             0.3333333333333333,
             "#9c179e"
            ],
            [
             0.4444444444444444,
             "#bd3786"
            ],
            [
             0.5555555555555556,
             "#d8576b"
            ],
            [
             0.6666666666666666,
             "#ed7953"
            ],
            [
             0.7777777777777778,
             "#fb9f3a"
            ],
            [
             0.8888888888888888,
             "#fdca26"
            ],
            [
             1,
             "#f0f921"
            ]
           ]
          },
          "colorway": [
           "#636efa",
           "#EF553B",
           "#00cc96",
           "#ab63fa",
           "#FFA15A",
           "#19d3f3",
           "#FF6692",
           "#B6E880",
           "#FF97FF",
           "#FECB52"
          ],
          "font": {
           "color": "#2a3f5f"
          },
          "geo": {
           "bgcolor": "white",
           "lakecolor": "white",
           "landcolor": "#E5ECF6",
           "showlakes": true,
           "showland": true,
           "subunitcolor": "white"
          },
          "hoverlabel": {
           "align": "left"
          },
          "hovermode": "closest",
          "mapbox": {
           "style": "light"
          },
          "paper_bgcolor": "white",
          "plot_bgcolor": "#E5ECF6",
          "polar": {
           "angularaxis": {
            "gridcolor": "white",
            "linecolor": "white",
            "ticks": ""
           },
           "bgcolor": "#E5ECF6",
           "radialaxis": {
            "gridcolor": "white",
            "linecolor": "white",
            "ticks": ""
           }
          },
          "scene": {
           "xaxis": {
            "backgroundcolor": "#E5ECF6",
            "gridcolor": "white",
            "gridwidth": 2,
            "linecolor": "white",
            "showbackground": true,
            "ticks": "",
            "zerolinecolor": "white"
           },
           "yaxis": {
            "backgroundcolor": "#E5ECF6",
            "gridcolor": "white",
            "gridwidth": 2,
            "linecolor": "white",
            "showbackground": true,
            "ticks": "",
            "zerolinecolor": "white"
           },
           "zaxis": {
            "backgroundcolor": "#E5ECF6",
            "gridcolor": "white",
            "gridwidth": 2,
            "linecolor": "white",
            "showbackground": true,
            "ticks": "",
            "zerolinecolor": "white"
           }
          },
          "shapedefaults": {
           "line": {
            "color": "#2a3f5f"
           }
          },
          "ternary": {
           "aaxis": {
            "gridcolor": "white",
            "linecolor": "white",
            "ticks": ""
           },
           "baxis": {
            "gridcolor": "white",
            "linecolor": "white",
            "ticks": ""
           },
           "bgcolor": "#E5ECF6",
           "caxis": {
            "gridcolor": "white",
            "linecolor": "white",
            "ticks": ""
           }
          },
          "title": {
           "x": 0.05
          },
          "xaxis": {
           "automargin": true,
           "gridcolor": "white",
           "linecolor": "white",
           "ticks": "",
           "title": {
            "standoff": 15
           },
           "zerolinecolor": "white",
           "zerolinewidth": 2
          },
          "yaxis": {
           "automargin": true,
           "gridcolor": "white",
           "linecolor": "white",
           "ticks": "",
           "title": {
            "standoff": 15
           },
           "zerolinecolor": "white",
           "zerolinewidth": 2
          }
         }
        },
        "title": {
         "text": "MACs per layer - tflite"
        },
        "width": 1200,
        "xaxis": {
         "anchor": "y",
         "domain": [
          0,
          1
         ],
         "title": {
          "text": "layer name"
         }
        },
        "xaxis2": {
         "anchor": "y2",
         "domain": [
          0,
          1
         ]
        },
        "yaxis": {
         "anchor": "x",
         "domain": [
          0,
          0.35
         ],
         "title": {
          "text": "MACs"
         }
        },
        "yaxis2": {
         "anchor": "x2",
         "domain": [
          0.6499999999999999,
          0.9999999999999999
         ]
        }
       }
      },
      "text/html": [
       "<div>                            <div id=\"80a8f7fb-d154-48d9-9635-45d4c014b774\" class=\"plotly-graph-div\" style=\"height:1000px; width:1200px;\"></div>            <script type=\"text/javascript\">                require([\"plotly\"], function(Plotly) {                    window.PLOTLYENV=window.PLOTLYENV || {};                                    if (document.getElementById(\"80a8f7fb-d154-48d9-9635-45d4c014b774\")) {                    Plotly.newPlot(                        \"80a8f7fb-d154-48d9-9635-45d4c014b774\",                        [{\"name\":\"mobilenetv2_0.25_96_c3_o2_l5\",\"text\":[497664.0,165888.0,73728.0,221184.0,124416.0,82944.0,124416.0,186624.0,124416.0,0.0,124416.0,46656.0,41472.0,55296.0,62208.0,55296.0,0.0,55296.0,62208.0,55296.0,0.0,55296.0,15552.0,27648.0,55296.0,31104.0,55296.0,0.0,55296.0,31104.0,55296.0,0.0,55296.0,31104.0,55296.0,0.0,55296.0,31104.0,82944.0,124416.0,46656.0,124416.0,0.0,124416.0,46656.0,124416.0,0.0,124416.0,11664.0,51840.0,86400.0,19440.0,86400.0,0.0,86400.0,19440.0,86400.0,0.0,86400.0,19440.0,172800.0,921600.0,0.0,2560.0,0.0,0.0,0.0,0.0,0.0],\"textposition\":\"auto\",\"x\":[\"0: conv_2d\",\"1: depthwise_conv_2d\",\"2: conv_2d\",\"3: conv_2d\",\"4: depthwise_conv_2d\",\"5: conv_2d\",\"6: conv_2d\",\"7: depthwise_conv_2d\",\"8: conv_2d\",\"9: add\",\"10: conv_2d\",\"11: depthwise_conv_2d\",\"12: conv_2d\",\"13: conv_2d\",\"14: depthwise_conv_2d\",\"15: conv_2d\",\"16: add\",\"17: conv_2d\",\"18: depthwise_conv_2d\",\"19: conv_2d\",\"20: add\",\"21: conv_2d\",\"22: depthwise_conv_2d\",\"23: conv_2d\",\"24: conv_2d\",\"25: depthwise_conv_2d\",\"26: conv_2d\",\"27: add\",\"28: conv_2d\",\"29: depthwise_conv_2d\",\"30: conv_2d\",\"31: add\",\"32: conv_2d\",\"33: depthwise_conv_2d\",\"34: conv_2d\",\"35: add\",\"36: conv_2d\",\"37: depthwise_conv_2d\",\"38: conv_2d\",\"39: conv_2d\",\"40: depthwise_conv_2d\",\"41: conv_2d\",\"42: add\",\"43: conv_2d\",\"44: depthwise_conv_2d\",\"45: conv_2d\",\"46: add\",\"47: conv_2d\",\"48: depthwise_conv_2d\",\"49: conv_2d\",\"50: conv_2d\",\"51: depthwise_conv_2d\",\"52: conv_2d\",\"53: add\",\"54: conv_2d\",\"55: depthwise_conv_2d\",\"56: conv_2d\",\"57: add\",\"58: conv_2d\",\"59: depthwise_conv_2d\",\"60: conv_2d\",\"61: conv_2d\",\"62: mean\",\"63: conv_2d\",\"64: shape\",\"65: strided_slice\",\"66: pack\",\"67: reshape\",\"68: softmax\"],\"y\":[497664,165888,73728,221184,124416,82944,124416,186624,124416,0,124416,46656,41472,55296,62208,55296,0,55296,62208,55296,0,55296,15552,27648,55296,31104,55296,0,55296,31104,55296,0,55296,31104,55296,0,55296,31104,82944,124416,46656,124416,0,124416,46656,124416,0,124416,11664,51840,86400,19440,86400,0,86400,19440,86400,0,86400,19440,172800,921600,0,2560,0,0,0,0,0],\"type\":\"bar\",\"xaxis\":\"x\",\"yaxis\":\"y\"},{\"name\":\"mobilenetv2_0.25_96_c3_o2_keras\",\"x\":[\"0: conv_2d\",\"1: depthwise_conv_2d\",\"2: conv_2d\",\"3: add\",\"4: conv_2d\",\"5: pad\",\"6: depthwise_conv_2d\",\"7: conv_2d\",\"8: conv_2d\",\"9: depthwise_conv_2d\",\"10: conv_2d\",\"11: add\",\"12: conv_2d\",\"13: pad\",\"14: depthwise_conv_2d\",\"15: conv_2d\",\"16: conv_2d\",\"17: depthwise_conv_2d\",\"18: conv_2d\",\"19: add\",\"20: conv_2d\",\"21: depthwise_conv_2d\",\"22: conv_2d\",\"23: add\",\"24: conv_2d\",\"25: pad\",\"26: depthwise_conv_2d\",\"27: conv_2d\",\"28: conv_2d\",\"29: depthwise_conv_2d\",\"30: conv_2d\",\"31: add\",\"32: conv_2d\",\"33: depthwise_conv_2d\",\"34: conv_2d\",\"35: add\",\"36: conv_2d\",\"37: depthwise_conv_2d\",\"38: conv_2d\",\"39: add\",\"40: conv_2d\",\"41: depthwise_conv_2d\",\"42: conv_2d\",\"43: conv_2d\",\"44: depthwise_conv_2d\",\"45: conv_2d\",\"46: add\",\"47: conv_2d\",\"48: depthwise_conv_2d\",\"49: conv_2d\",\"50: add\",\"51: conv_2d\",\"52: pad\",\"53: depthwise_conv_2d\",\"54: conv_2d\",\"55: conv_2d\",\"56: depthwise_conv_2d\",\"57: conv_2d\",\"58: add\",\"59: conv_2d\",\"60: depthwise_conv_2d\",\"61: conv_2d\",\"62: add\",\"63: conv_2d\",\"64: depthwise_conv_2d\",\"65: conv_2d\",\"66: conv_2d\",\"67: mean\",\"68: fully_connected\",\"69: softmax\"],\"y\":[497664,165888,147456,0,884736,0,248832,221184,221184,248832,221184,0,221184,0,62208,55296,55296,62208,55296,0,55296,62208,55296,0,55296,0,15552,27648,55296,31104,55296,0,55296,31104,55296,0,55296,31104,55296,0,55296,31104,82944,124416,46656,124416,0,124416,46656,124416,0,124416,0,11664,51840,86400,19440,86400,0,86400,19440,86400,0,86400,19440,172800,921600,0,2560,0],\"type\":\"bar\",\"xaxis\":\"x2\",\"yaxis\":\"y2\"}],                        {\"template\":{\"data\":{\"histogram2dcontour\":[{\"type\":\"histogram2dcontour\",\"colorbar\":{\"outlinewidth\":0,\"ticks\":\"\"},\"colorscale\":[[0.0,\"#0d0887\"],[0.1111111111111111,\"#46039f\"],[0.2222222222222222,\"#7201a8\"],[0.3333333333333333,\"#9c179e\"],[0.4444444444444444,\"#bd3786\"],[0.5555555555555556,\"#d8576b\"],[0.6666666666666666,\"#ed7953\"],[0.7777777777777778,\"#fb9f3a\"],[0.8888888888888888,\"#fdca26\"],[1.0,\"#f0f921\"]]}],\"choropleth\":[{\"type\":\"choropleth\",\"colorbar\":{\"outlinewidth\":0,\"ticks\":\"\"}}],\"histogram2d\":[{\"type\":\"histogram2d\",\"colorbar\":{\"outlinewidth\":0,\"ticks\":\"\"},\"colorscale\":[[0.0,\"#0d0887\"],[0.1111111111111111,\"#46039f\"],[0.2222222222222222,\"#7201a8\"],[0.3333333333333333,\"#9c179e\"],[0.4444444444444444,\"#bd3786\"],[0.5555555555555556,\"#d8576b\"],[0.6666666666666666,\"#ed7953\"],[0.7777777777777778,\"#fb9f3a\"],[0.8888888888888888,\"#fdca26\"],[1.0,\"#f0f921\"]]}],\"heatmap\":[{\"type\":\"heatmap\",\"colorbar\":{\"outlinewidth\":0,\"ticks\":\"\"},\"colorscale\":[[0.0,\"#0d0887\"],[0.1111111111111111,\"#46039f\"],[0.2222222222222222,\"#7201a8\"],[0.3333333333333333,\"#9c179e\"],[0.4444444444444444,\"#bd3786\"],[0.5555555555555556,\"#d8576b\"],[0.6666666666666666,\"#ed7953\"],[0.7777777777777778,\"#fb9f3a\"],[0.8888888888888888,\"#fdca26\"],[1.0,\"#f0f921\"]]}],\"heatmapgl\":[{\"type\":\"heatmapgl\",\"colorbar\":{\"outlinewidth\":0,\"ticks\":\"\"},\"colorscale\":[[0.0,\"#0d0887\"],[0.1111111111111111,\"#46039f\"],[0.2222222222222222,\"#7201a8\"],[0.3333333333333333,\"#9c179e\"],[0.4444444444444444,\"#bd3786\"],[0.5555555555555556,\"#d8576b\"],[0.6666666666666666,\"#ed7953\"],[0.7777777777777778,\"#fb9f3a\"],[0.8888888888888888,\"#fdca26\"],[1.0,\"#f0f921\"]]}],\"contourcarpet\":[{\"type\":\"contourcarpet\",\"colorbar\":{\"outlinewidth\":0,\"ticks\":\"\"}}],\"contour\":[{\"type\":\"contour\",\"colorbar\":{\"outlinewidth\":0,\"ticks\":\"\"},\"colorscale\":[[0.0,\"#0d0887\"],[0.1111111111111111,\"#46039f\"],[0.2222222222222222,\"#7201a8\"],[0.3333333333333333,\"#9c179e\"],[0.4444444444444444,\"#bd3786\"],[0.5555555555555556,\"#d8576b\"],[0.6666666666666666,\"#ed7953\"],[0.7777777777777778,\"#fb9f3a\"],[0.8888888888888888,\"#fdca26\"],[1.0,\"#f0f921\"]]}],\"surface\":[{\"type\":\"surface\",\"colorbar\":{\"outlinewidth\":0,\"ticks\":\"\"},\"colorscale\":[[0.0,\"#0d0887\"],[0.1111111111111111,\"#46039f\"],[0.2222222222222222,\"#7201a8\"],[0.3333333333333333,\"#9c179e\"],[0.4444444444444444,\"#bd3786\"],[0.5555555555555556,\"#d8576b\"],[0.6666666666666666,\"#ed7953\"],[0.7777777777777778,\"#fb9f3a\"],[0.8888888888888888,\"#fdca26\"],[1.0,\"#f0f921\"]]}],\"mesh3d\":[{\"type\":\"mesh3d\",\"colorbar\":{\"outlinewidth\":0,\"ticks\":\"\"}}],\"scatter\":[{\"fillpattern\":{\"fillmode\":\"overlay\",\"size\":10,\"solidity\":0.2},\"type\":\"scatter\"}],\"parcoords\":[{\"type\":\"parcoords\",\"line\":{\"colorbar\":{\"outlinewidth\":0,\"ticks\":\"\"}}}],\"scatterpolargl\":[{\"type\":\"scatterpolargl\",\"marker\":{\"colorbar\":{\"outlinewidth\":0,\"ticks\":\"\"}}}],\"bar\":[{\"error_x\":{\"color\":\"#2a3f5f\"},\"error_y\":{\"color\":\"#2a3f5f\"},\"marker\":{\"line\":{\"color\":\"#E5ECF6\",\"width\":0.5},\"pattern\":{\"fillmode\":\"overlay\",\"size\":10,\"solidity\":0.2}},\"type\":\"bar\"}],\"scattergeo\":[{\"type\":\"scattergeo\",\"marker\":{\"colorbar\":{\"outlinewidth\":0,\"ticks\":\"\"}}}],\"scatterpolar\":[{\"type\":\"scatterpolar\",\"marker\":{\"colorbar\":{\"outlinewidth\":0,\"ticks\":\"\"}}}],\"histogram\":[{\"marker\":{\"pattern\":{\"fillmode\":\"overlay\",\"size\":10,\"solidity\":0.2}},\"type\":\"histogram\"}],\"scattergl\":[{\"type\":\"scattergl\",\"marker\":{\"colorbar\":{\"outlinewidth\":0,\"ticks\":\"\"}}}],\"scatter3d\":[{\"type\":\"scatter3d\",\"line\":{\"colorbar\":{\"outlinewidth\":0,\"ticks\":\"\"}},\"marker\":{\"colorbar\":{\"outlinewidth\":0,\"ticks\":\"\"}}}],\"scattermapbox\":[{\"type\":\"scattermapbox\",\"marker\":{\"colorbar\":{\"outlinewidth\":0,\"ticks\":\"\"}}}],\"scatterternary\":[{\"type\":\"scatterternary\",\"marker\":{\"colorbar\":{\"outlinewidth\":0,\"ticks\":\"\"}}}],\"scattercarpet\":[{\"type\":\"scattercarpet\",\"marker\":{\"colorbar\":{\"outlinewidth\":0,\"ticks\":\"\"}}}],\"carpet\":[{\"aaxis\":{\"endlinecolor\":\"#2a3f5f\",\"gridcolor\":\"white\",\"linecolor\":\"white\",\"minorgridcolor\":\"white\",\"startlinecolor\":\"#2a3f5f\"},\"baxis\":{\"endlinecolor\":\"#2a3f5f\",\"gridcolor\":\"white\",\"linecolor\":\"white\",\"minorgridcolor\":\"white\",\"startlinecolor\":\"#2a3f5f\"},\"type\":\"carpet\"}],\"table\":[{\"cells\":{\"fill\":{\"color\":\"#EBF0F8\"},\"line\":{\"color\":\"white\"}},\"header\":{\"fill\":{\"color\":\"#C8D4E3\"},\"line\":{\"color\":\"white\"}},\"type\":\"table\"}],\"barpolar\":[{\"marker\":{\"line\":{\"color\":\"#E5ECF6\",\"width\":0.5},\"pattern\":{\"fillmode\":\"overlay\",\"size\":10,\"solidity\":0.2}},\"type\":\"barpolar\"}],\"pie\":[{\"automargin\":true,\"type\":\"pie\"}]},\"layout\":{\"autotypenumbers\":\"strict\",\"colorway\":[\"#636efa\",\"#EF553B\",\"#00cc96\",\"#ab63fa\",\"#FFA15A\",\"#19d3f3\",\"#FF6692\",\"#B6E880\",\"#FF97FF\",\"#FECB52\"],\"font\":{\"color\":\"#2a3f5f\"},\"hovermode\":\"closest\",\"hoverlabel\":{\"align\":\"left\"},\"paper_bgcolor\":\"white\",\"plot_bgcolor\":\"#E5ECF6\",\"polar\":{\"bgcolor\":\"#E5ECF6\",\"angularaxis\":{\"gridcolor\":\"white\",\"linecolor\":\"white\",\"ticks\":\"\"},\"radialaxis\":{\"gridcolor\":\"white\",\"linecolor\":\"white\",\"ticks\":\"\"}},\"ternary\":{\"bgcolor\":\"#E5ECF6\",\"aaxis\":{\"gridcolor\":\"white\",\"linecolor\":\"white\",\"ticks\":\"\"},\"baxis\":{\"gridcolor\":\"white\",\"linecolor\":\"white\",\"ticks\":\"\"},\"caxis\":{\"gridcolor\":\"white\",\"linecolor\":\"white\",\"ticks\":\"\"}},\"coloraxis\":{\"colorbar\":{\"outlinewidth\":0,\"ticks\":\"\"}},\"colorscale\":{\"sequential\":[[0.0,\"#0d0887\"],[0.1111111111111111,\"#46039f\"],[0.2222222222222222,\"#7201a8\"],[0.3333333333333333,\"#9c179e\"],[0.4444444444444444,\"#bd3786\"],[0.5555555555555556,\"#d8576b\"],[0.6666666666666666,\"#ed7953\"],[0.7777777777777778,\"#fb9f3a\"],[0.8888888888888888,\"#fdca26\"],[1.0,\"#f0f921\"]],\"sequentialminus\":[[0.0,\"#0d0887\"],[0.1111111111111111,\"#46039f\"],[0.2222222222222222,\"#7201a8\"],[0.3333333333333333,\"#9c179e\"],[0.4444444444444444,\"#bd3786\"],[0.5555555555555556,\"#d8576b\"],[0.6666666666666666,\"#ed7953\"],[0.7777777777777778,\"#fb9f3a\"],[0.8888888888888888,\"#fdca26\"],[1.0,\"#f0f921\"]],\"diverging\":[[0,\"#8e0152\"],[0.1,\"#c51b7d\"],[0.2,\"#de77ae\"],[0.3,\"#f1b6da\"],[0.4,\"#fde0ef\"],[0.5,\"#f7f7f7\"],[0.6,\"#e6f5d0\"],[0.7,\"#b8e186\"],[0.8,\"#7fbc41\"],[0.9,\"#4d9221\"],[1,\"#276419\"]]},\"xaxis\":{\"gridcolor\":\"white\",\"linecolor\":\"white\",\"ticks\":\"\",\"title\":{\"standoff\":15},\"zerolinecolor\":\"white\",\"automargin\":true,\"zerolinewidth\":2},\"yaxis\":{\"gridcolor\":\"white\",\"linecolor\":\"white\",\"ticks\":\"\",\"title\":{\"standoff\":15},\"zerolinecolor\":\"white\",\"automargin\":true,\"zerolinewidth\":2},\"scene\":{\"xaxis\":{\"backgroundcolor\":\"#E5ECF6\",\"gridcolor\":\"white\",\"linecolor\":\"white\",\"showbackground\":true,\"ticks\":\"\",\"zerolinecolor\":\"white\",\"gridwidth\":2},\"yaxis\":{\"backgroundcolor\":\"#E5ECF6\",\"gridcolor\":\"white\",\"linecolor\":\"white\",\"showbackground\":true,\"ticks\":\"\",\"zerolinecolor\":\"white\",\"gridwidth\":2},\"zaxis\":{\"backgroundcolor\":\"#E5ECF6\",\"gridcolor\":\"white\",\"linecolor\":\"white\",\"showbackground\":true,\"ticks\":\"\",\"zerolinecolor\":\"white\",\"gridwidth\":2}},\"shapedefaults\":{\"line\":{\"color\":\"#2a3f5f\"}},\"annotationdefaults\":{\"arrowcolor\":\"#2a3f5f\",\"arrowhead\":0,\"arrowwidth\":1},\"geo\":{\"bgcolor\":\"white\",\"landcolor\":\"#E5ECF6\",\"subunitcolor\":\"white\",\"showland\":true,\"showlakes\":true,\"lakecolor\":\"white\"},\"title\":{\"x\":0.05},\"mapbox\":{\"style\":\"light\"}}},\"xaxis\":{\"anchor\":\"y\",\"domain\":[0.0,1.0],\"title\":{\"text\":\"layer name\"}},\"yaxis\":{\"anchor\":\"x\",\"domain\":[0.0,0.35],\"title\":{\"text\":\"MACs\"}},\"xaxis2\":{\"anchor\":\"y2\",\"domain\":[0.0,1.0]},\"yaxis2\":{\"anchor\":\"x2\",\"domain\":[0.6499999999999999,0.9999999999999999]},\"annotations\":[{\"font\":{\"size\":16},\"showarrow\":false,\"text\":\"mobilenetv2_0.25_96_c3_o2_l5\",\"x\":0.5,\"xanchor\":\"center\",\"xref\":\"paper\",\"y\":0.35,\"yanchor\":\"bottom\",\"yref\":\"paper\"},{\"font\":{\"size\":16},\"showarrow\":false,\"text\":\"mobilenetv2_0.25_96_c3_o2_keras\",\"x\":0.5,\"xanchor\":\"center\",\"xref\":\"paper\",\"y\":0.9999999999999999,\"yanchor\":\"bottom\",\"yref\":\"paper\"}],\"legend\":{\"title\":{\"text\":\"architecture\"},\"x\":0,\"y\":1.0},\"height\":1000,\"width\":1200,\"title\":{\"text\":\"MACs per layer - tflite\"},\"showlegend\":false},                        {\"responsive\": true}                    ).then(function(){\n",
       "                            \n",
       "var gd = document.getElementById('80a8f7fb-d154-48d9-9635-45d4c014b774');\n",
       "var x = new MutationObserver(function (mutations, observer) {{\n",
       "        var display = window.getComputedStyle(gd).display;\n",
       "        if (!display || display === 'none') {{\n",
       "            console.log([gd, 'removed!']);\n",
       "            Plotly.purge(gd);\n",
       "            observer.disconnect();\n",
       "        }}\n",
       "}});\n",
       "\n",
       "// Listen for the removal of the full notebook cells\n",
       "var notebookContainer = gd.closest('#notebook-container');\n",
       "if (notebookContainer) {{\n",
       "    x.observe(notebookContainer, {childList: true});\n",
       "}}\n",
       "\n",
       "// Listen for the clearing of the current output cell\n",
       "var outputEl = gd.closest('.output');\n",
       "if (outputEl) {{\n",
       "    x.observe(outputEl, {childList: true});\n",
       "}}\n",
       "\n",
       "                        })                };                });            </script>        </div>"
      ]
     },
     "metadata": {},
     "output_type": "display_data"
    }
   ],
   "source": [
    "fig = make_subplots(rows=2, cols=1, start_cell=\"bottom-left\", column_widths=[1400],row_heights=[0.5, 0.5], vertical_spacing=0.3,\n",
    "                    subplot_titles=[architecture_1, architecture_2])\n",
    "fig = fig.add_trace(go.Bar(x = df_me[\"name\"],\n",
    "                                   y = df_me[\"macs\"], \n",
    "                                   name = architecture_1,\n",
    "                                   \n",
    "                                   text=df_me[\"macs\"],\n",
    "                                   textposition='auto'),\n",
    "                                   row=1, col=1)\n",
    "fig = fig.add_trace(go.Bar(x = df_keras[\"name\"],\n",
    "                                   y = df_keras[\"macs\"], \n",
    "                                   name = architecture_2),\n",
    "                                   row=2, col=1)\n",
    "\n",
    "fig.update_layout(\n",
    "    height = 1000,\n",
    "    width = 1200,\n",
    "    title=\"MACs per layer - tflite\",\n",
    "    xaxis_title=\"layer name\",\n",
    "    yaxis_title=\"MACs\",\n",
    "    legend_title=\"architecture\",\n",
    "    # font=dict(\n",
    "    #     family=\"Courier New, monospace\",\n",
    "    #     size=18,\n",
    "    #     color=\"RebeccaPurple\"\n",
    "    # )\n",
    "    legend=dict(\n",
    "    x=0,\n",
    "    y=1.0\n",
    "    )\n",
    ")\n",
    "\n",
    "\n",
    "fig.update_layout(showlegend=False)\n",
    "fig.show()"
   ]
  },
  {
   "cell_type": "code",
   "execution_count": null,
   "metadata": {},
   "outputs": [],
   "source": []
  }
 ],
 "metadata": {
  "kernelspec": {
   "display_name": "tiny_cnn_6",
   "language": "python",
   "name": "python3"
  },
  "language_info": {
   "codemirror_mode": {
    "name": "ipython",
    "version": 3
   },
   "file_extension": ".py",
   "mimetype": "text/x-python",
   "name": "python",
   "nbconvert_exporter": "python",
   "pygments_lexer": "ipython3",
   "version": "3.10.6"
  },
  "orig_nbformat": 4,
  "vscode": {
   "interpreter": {
    "hash": "0faa6c31b20b8f809b81d6d7d22a84ccd9f354666f54133d1793fa4c65539801"
   }
  }
 },
 "nbformat": 4,
 "nbformat_minor": 2
}
