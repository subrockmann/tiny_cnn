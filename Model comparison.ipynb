{
 "cells": [
  {
   "cell_type": "code",
   "execution_count": 105,
   "metadata": {},
   "outputs": [
    {
     "name": "stdout",
     "output_type": "stream",
     "text": [
      "The autoreload extension is already loaded. To reload it, use:\n",
      "  %reload_ext autoreload\n"
     ]
    }
   ],
   "source": [
    "from pathlib import Path\n",
    "import numpy as np\n",
    "import pandas as pd \n",
    "import json\n",
    "import seaborn as sns\n",
    "import plotly.express as px\n",
    "import plotly.graph_objects as go\n",
    "from plotly.subplots import make_subplots\n",
    "#from plotly.offline import iplot\n",
    "\n",
    "# enable plotly in VS Studio Code\n",
    "import plotly.io as pio\n",
    "pio.renderers.default = \"plotly_mimetype+notebook\" \n",
    "\n",
    "from workbench.wandb import wandb_model_DB, make_clickable, color_state, get_architecture_from_model_DB_run_id, get_model_DB_run_id_from_architecture\n",
    "\n",
    "import wandb\n",
    "\n",
    "\n",
    "\n",
    "%load_ext autoreload"
   ]
  },
  {
   "cell_type": "code",
   "execution_count": 106,
   "metadata": {},
   "outputs": [],
   "source": [
    "%reload_ext autoreload\n",
    "%autoreload"
   ]
  },
  {
   "cell_type": "code",
   "execution_count": 107,
   "metadata": {},
   "outputs": [],
   "source": [
    "# Configure pandas to show all columns & rows\n",
    "pd.set_option('display.max_columns', None)\n",
    "pd.set_option('display.max_rows', None)"
   ]
  },
  {
   "cell_type": "code",
   "execution_count": 108,
   "metadata": {},
   "outputs": [],
   "source": [
    "df  = wandb_model_DB()\n"
   ]
  },
  {
   "cell_type": "code",
   "execution_count": 109,
   "metadata": {},
   "outputs": [
    {
     "data": {
      "text/html": [
       "<style type=\"text/css\">\n",
       "#T_0c14a_row0_col2, #T_0c14a_row1_col2, #T_0c14a_row2_col2, #T_0c14a_row3_col2, #T_0c14a_row4_col2, #T_0c14a_row5_col2, #T_0c14a_row6_col2, #T_0c14a_row7_col2, #T_0c14a_row8_col2, #T_0c14a_row9_col2, #T_0c14a_row10_col2, #T_0c14a_row11_col2, #T_0c14a_row12_col2, #T_0c14a_row13_col2, #T_0c14a_row14_col2, #T_0c14a_row15_col2, #T_0c14a_row16_col2, #T_0c14a_row17_col2, #T_0c14a_row18_col2, #T_0c14a_row19_col2, #T_0c14a_row20_col2, #T_0c14a_row21_col2, #T_0c14a_row22_col2, #T_0c14a_row23_col2, #T_0c14a_row24_col2, #T_0c14a_row25_col2, #T_0c14a_row26_col2, #T_0c14a_row27_col2, #T_0c14a_row28_col2, #T_0c14a_row29_col2, #T_0c14a_row30_col2, #T_0c14a_row31_col2, #T_0c14a_row32_col2, #T_0c14a_row33_col2, #T_0c14a_row34_col2, #T_0c14a_row35_col2, #T_0c14a_row36_col2, #T_0c14a_row37_col2, #T_0c14a_row38_col2, #T_0c14a_row39_col2, #T_0c14a_row40_col2, #T_0c14a_row41_col2, #T_0c14a_row42_col2, #T_0c14a_row43_col2, #T_0c14a_row44_col2, #T_0c14a_row45_col2, #T_0c14a_row46_col2, #T_0c14a_row47_col2, #T_0c14a_row48_col2, #T_0c14a_row49_col2, #T_0c14a_row50_col2, #T_0c14a_row51_col2, #T_0c14a_row52_col2, #T_0c14a_row53_col2, #T_0c14a_row54_col2, #T_0c14a_row55_col2, #T_0c14a_row56_col2, #T_0c14a_row57_col2, #T_0c14a_row58_col2, #T_0c14a_row59_col2, #T_0c14a_row60_col2, #T_0c14a_row61_col2, #T_0c14a_row62_col2, #T_0c14a_row63_col2, #T_0c14a_row64_col2, #T_0c14a_row65_col2, #T_0c14a_row66_col2, #T_0c14a_row67_col2, #T_0c14a_row68_col2, #T_0c14a_row69_col2, #T_0c14a_row70_col2, #T_0c14a_row71_col2, #T_0c14a_row72_col2, #T_0c14a_row73_col2, #T_0c14a_row74_col2, #T_0c14a_row75_col2, #T_0c14a_row76_col2, #T_0c14a_row77_col2, #T_0c14a_row78_col2, #T_0c14a_row79_col2 {\n",
       "  background-color: green;\n",
       "}\n",
       "</style>\n",
       "<table id=\"T_0c14a\">\n",
       "  <thead>\n",
       "    <tr>\n",
       "      <th class=\"blank level0\" >&nbsp;</th>\n",
       "      <th id=\"T_0c14a_level0_col0\" class=\"col_heading level0 col0\" >id</th>\n",
       "      <th id=\"T_0c14a_level0_col1\" class=\"col_heading level0 col1\" >run_name</th>\n",
       "      <th id=\"T_0c14a_level0_col2\" class=\"col_heading level0 col2\" >state</th>\n",
       "      <th id=\"T_0c14a_level0_col3\" class=\"col_heading level0 col3\" >MACs</th>\n",
       "      <th id=\"T_0c14a_level0_col4\" class=\"col_heading level0 col4\" >url</th>\n",
       "      <th id=\"T_0c14a_level0_col5\" class=\"col_heading level0 col5\" >architecture</th>\n",
       "      <th id=\"T_0c14a_level0_col6\" class=\"col_heading level0 col6\" >FLOPs</th>\n",
       "      <th id=\"T_0c14a_level0_col7\" class=\"col_heading level0 col7\" >alpha</th>\n",
       "      <th id=\"T_0c14a_level0_col8\" class=\"col_heading level0 col8\" >classes</th>\n",
       "      <th id=\"T_0c14a_level0_col9\" class=\"col_heading level0 col9\" >img_res</th>\n",
       "      <th id=\"T_0c14a_level0_col10\" class=\"col_heading level0 col10\" >OPS_mltk</th>\n",
       "      <th id=\"T_0c14a_level0_col11\" class=\"col_heading level0 col11\" >channels</th>\n",
       "      <th id=\"T_0c14a_level0_col12\" class=\"col_heading level0 col12\" >macs_mltk</th>\n",
       "      <th id=\"T_0c14a_level0_col13\" class=\"col_heading level0 col13\" >variation</th>\n",
       "      <th id=\"T_0c14a_level0_col14\" class=\"col_heading level0 col14\" >energy_mltk</th>\n",
       "      <th id=\"T_0c14a_level0_col15\" class=\"col_heading level0 col15\" >total_params</th>\n",
       "      <th id=\"T_0c14a_level0_col16\" class=\"col_heading level0 col16\" >OPS_INT8_mltk</th>\n",
       "      <th id=\"T_0c14a_level0_col17\" class=\"col_heading level0 col17\" >model_size_kb</th>\n",
       "      <th id=\"T_0c14a_level0_col18\" class=\"col_heading level0 col18\" >peak_memory_b</th>\n",
       "      <th id=\"T_0c14a_level0_col19\" class=\"col_heading level0 col19\" >macs_INT8_mltk</th>\n",
       "      <th id=\"T_0c14a_level0_col20\" class=\"col_heading level0 col20\" >energy_INT8_mltk</th>\n",
       "      <th id=\"T_0c14a_level0_col21\" class=\"col_heading level0 col21\" >trainable_params</th>\n",
       "      <th id=\"T_0c14a_level0_col22\" class=\"col_heading level0 col22\" >non_trainable_params</th>\n",
       "      <th id=\"T_0c14a_level0_col23\" class=\"col_heading level0 col23\" >tflite_model_size_kb</th>\n",
       "      <th id=\"T_0c14a_level0_col24\" class=\"col_heading level0 col24\" >flash_model_size_b_mltk</th>\n",
       "      <th id=\"T_0c14a_level0_col25\" class=\"col_heading level0 col25\" >n_unsupported_layers_mltk</th>\n",
       "      <th id=\"T_0c14a_level0_col26\" class=\"col_heading level0 col26\" >tflite_model_INT8_size_kb</th>\n",
       "      <th id=\"T_0c14a_level0_col27\" class=\"col_heading level0 col27\" >flash_model_size_b__INT8_mltk</th>\n",
       "      <th id=\"T_0c14a_level0_col28\" class=\"col_heading level0 col28\" >RAM_runtime_memory_size_b_mltk</th>\n",
       "      <th id=\"T_0c14a_level0_col29\" class=\"col_heading level0 col29\" >n_unsupported_layers_INT8_mltk</th>\n",
       "      <th id=\"T_0c14a_level0_col30\" class=\"col_heading level0 col30\" >RAM_runtime_memory_size_b_INT8_mltk</th>\n",
       "      <th id=\"T_0c14a_level0_col31\" class=\"col_heading level0 col31\" >tags</th>\n",
       "      <th id=\"T_0c14a_level0_col32\" class=\"col_heading level0 col32\" >created_at</th>\n",
       "      <th id=\"T_0c14a_level0_col33\" class=\"col_heading level0 col33\" >path</th>\n",
       "      <th id=\"T_0c14a_level0_col34\" class=\"col_heading level0 col34\" >notes</th>\n",
       "      <th id=\"T_0c14a_level0_col35\" class=\"col_heading level0 col35\" >test_accuracy</th>\n",
       "      <th id=\"T_0c14a_level0_col36\" class=\"col_heading level0 col36\" >peak_memory_kb</th>\n",
       "      <th id=\"T_0c14a_level0_col37\" class=\"col_heading level0 col37\" >flash_model_size_kb_INT8_mltk</th>\n",
       "      <th id=\"T_0c14a_level0_col38\" class=\"col_heading level0 col38\" >RAM_runtime_memory_size_kb_INT8_mltk</th>\n",
       "    </tr>\n",
       "  </thead>\n",
       "  <tbody>\n",
       "    <tr>\n",
       "      <th id=\"T_0c14a_level0_row0\" class=\"row_heading level0 row0\" >0</th>\n",
       "      <td id=\"T_0c14a_row0_col0\" class=\"data row0 col0\" >fgxqsgfd</td>\n",
       "      <td id=\"T_0c14a_row0_col1\" class=\"data row0 col1\" >mobilenetv2_0.25_96_c3_o2_t5l512.MV1</td>\n",
       "      <td id=\"T_0c14a_row0_col2\" class=\"data row0 col2\" >finished</td>\n",
       "      <td id=\"T_0c14a_row0_col3\" class=\"data row0 col3\" >4.071 M</td>\n",
       "      <td id=\"T_0c14a_row0_col4\" class=\"data row0 col4\" ><a target=\"_blank\" href=\"https://wandb.ai/susbrock/model_DB/runs/fgxqsgfd\">https://wandb.ai/susbrock/model_DB/runs/fgxqsgfd</a></td>\n",
       "      <td id=\"T_0c14a_row0_col5\" class=\"data row0 col5\" >mobilenetv2_0.25_96_c3_o2_t5l512.MV1</td>\n",
       "      <td id=\"T_0c14a_row0_col6\" class=\"data row0 col6\" >8.641 M</td>\n",
       "      <td id=\"T_0c14a_row0_col7\" class=\"data row0 col7\" >0.25</td>\n",
       "      <td id=\"T_0c14a_row0_col8\" class=\"data row0 col8\" >2</td>\n",
       "      <td id=\"T_0c14a_row0_col9\" class=\"data row0 col9\" >96</td>\n",
       "      <td id=\"T_0c14a_row0_col10\" class=\"data row0 col10\" >8909690</td>\n",
       "      <td id=\"T_0c14a_row0_col11\" class=\"data row0 col11\" >3</td>\n",
       "      <td id=\"T_0c14a_row0_col12\" class=\"data row0 col12\" >4071184</td>\n",
       "      <td id=\"T_0c14a_row0_col13\" class=\"data row0 col13\" >t5l512.MV1</td>\n",
       "      <td id=\"T_0c14a_row0_col14\" class=\"data row0 col14\" >0.005183</td>\n",
       "      <td id=\"T_0c14a_row0_col15\" class=\"data row0 col15\" >160382</td>\n",
       "      <td id=\"T_0c14a_row0_col16\" class=\"data row0 col16\" >9020290</td>\n",
       "      <td id=\"T_0c14a_row0_col17\" class=\"data row0 col17\" >1083.320312</td>\n",
       "      <td id=\"T_0c14a_row0_col18\" class=\"data row0 col18\" >57600.000000</td>\n",
       "      <td id=\"T_0c14a_row0_col19\" class=\"data row0 col19\" >4071184</td>\n",
       "      <td id=\"T_0c14a_row0_col20\" class=\"data row0 col20\" >0.005382</td>\n",
       "      <td id=\"T_0c14a_row0_col21\" class=\"data row0 col21\" >152654</td>\n",
       "      <td id=\"T_0c14a_row0_col22\" class=\"data row0 col22\" >7728</td>\n",
       "      <td id=\"T_0c14a_row0_col23\" class=\"data row0 col23\" >599.960938</td>\n",
       "      <td id=\"T_0c14a_row0_col24\" class=\"data row0 col24\" >614360</td>\n",
       "      <td id=\"T_0c14a_row0_col25\" class=\"data row0 col25\" >0</td>\n",
       "      <td id=\"T_0c14a_row0_col26\" class=\"data row0 col26\" >275.531250</td>\n",
       "      <td id=\"T_0c14a_row0_col27\" class=\"data row0 col27\" >282144</td>\n",
       "      <td id=\"T_0c14a_row0_col28\" class=\"data row0 col28\" >272032</td>\n",
       "      <td id=\"T_0c14a_row0_col29\" class=\"data row0 col29\" >0</td>\n",
       "      <td id=\"T_0c14a_row0_col30\" class=\"data row0 col30\" >100364</td>\n",
       "      <td id=\"T_0c14a_row0_col31\" class=\"data row0 col31\" >[]</td>\n",
       "      <td id=\"T_0c14a_row0_col32\" class=\"data row0 col32\" >2023-02-26T13:15:12</td>\n",
       "      <td id=\"T_0c14a_row0_col33\" class=\"data row0 col33\" >['susbrock', 'model_DB', 'fgxqsgfd']</td>\n",
       "      <td id=\"T_0c14a_row0_col34\" class=\"data row0 col34\" >None</td>\n",
       "      <td id=\"T_0c14a_row0_col35\" class=\"data row0 col35\" >0.000000</td>\n",
       "      <td id=\"T_0c14a_row0_col36\" class=\"data row0 col36\" >56.250000</td>\n",
       "      <td id=\"T_0c14a_row0_col37\" class=\"data row0 col37\" >275.531250</td>\n",
       "      <td id=\"T_0c14a_row0_col38\" class=\"data row0 col38\" >98.011719</td>\n",
       "    </tr>\n",
       "    <tr>\n",
       "      <th id=\"T_0c14a_level0_row1\" class=\"row_heading level0 row1\" >1</th>\n",
       "      <td id=\"T_0c14a_row1_col0\" class=\"data row1 col0\" >vzkjx8vd</td>\n",
       "      <td id=\"T_0c14a_row1_col1\" class=\"data row1 col1\" >mobilenetv2_0.25_96_c3_o2_t5l256.MV1</td>\n",
       "      <td id=\"T_0c14a_row1_col2\" class=\"data row1 col2\" >finished</td>\n",
       "      <td id=\"T_0c14a_row1_col3\" class=\"data row1 col3\" >3.886 M</td>\n",
       "      <td id=\"T_0c14a_row1_col4\" class=\"data row1 col4\" ><a target=\"_blank\" href=\"https://wandb.ai/susbrock/model_DB/runs/vzkjx8vd\">https://wandb.ai/susbrock/model_DB/runs/vzkjx8vd</a></td>\n",
       "      <td id=\"T_0c14a_row1_col5\" class=\"data row1 col5\" >mobilenetv2_0.25_96_c3_o2_t5l256.MV1</td>\n",
       "      <td id=\"T_0c14a_row1_col6\" class=\"data row1 col6\" >8.265 M</td>\n",
       "      <td id=\"T_0c14a_row1_col7\" class=\"data row1 col7\" >0.25</td>\n",
       "      <td id=\"T_0c14a_row1_col8\" class=\"data row1 col8\" >2</td>\n",
       "      <td id=\"T_0c14a_row1_col9\" class=\"data row1 col9\" >96</td>\n",
       "      <td id=\"T_0c14a_row1_col10\" class=\"data row1 col10\" >8530554</td>\n",
       "      <td id=\"T_0c14a_row1_col11\" class=\"data row1 col11\" >3</td>\n",
       "      <td id=\"T_0c14a_row1_col12\" class=\"data row1 col12\" >3886352</td>\n",
       "      <td id=\"T_0c14a_row1_col13\" class=\"data row1 col13\" >t5l256.MV1</td>\n",
       "      <td id=\"T_0c14a_row1_col14\" class=\"data row1 col14\" >0.005193</td>\n",
       "      <td id=\"T_0c14a_row1_col15\" class=\"data row1 col15\" >138366</td>\n",
       "      <td id=\"T_0c14a_row1_col16\" class=\"data row1 col16\" >8641154</td>\n",
       "      <td id=\"T_0c14a_row1_col17\" class=\"data row1 col17\" >997.320312</td>\n",
       "      <td id=\"T_0c14a_row1_col18\" class=\"data row1 col18\" >57600.000000</td>\n",
       "      <td id=\"T_0c14a_row1_col19\" class=\"data row1 col19\" >3886352</td>\n",
       "      <td id=\"T_0c14a_row1_col20\" class=\"data row1 col20\" >0.005392</td>\n",
       "      <td id=\"T_0c14a_row1_col21\" class=\"data row1 col21\" >131150</td>\n",
       "      <td id=\"T_0c14a_row1_col22\" class=\"data row1 col22\" >7216</td>\n",
       "      <td id=\"T_0c14a_row1_col23\" class=\"data row1 col23\" >516.960938</td>\n",
       "      <td id=\"T_0c14a_row1_col24\" class=\"data row1 col24\" >529368</td>\n",
       "      <td id=\"T_0c14a_row1_col25\" class=\"data row1 col25\" >0</td>\n",
       "      <td id=\"T_0c14a_row1_col26\" class=\"data row1 col26\" >248.031250</td>\n",
       "      <td id=\"T_0c14a_row1_col27\" class=\"data row1 col27\" >253984</td>\n",
       "      <td id=\"T_0c14a_row1_col28\" class=\"data row1 col28\" >269984</td>\n",
       "      <td id=\"T_0c14a_row1_col29\" class=\"data row1 col29\" >0</td>\n",
       "      <td id=\"T_0c14a_row1_col30\" class=\"data row1 col30\" >98316</td>\n",
       "      <td id=\"T_0c14a_row1_col31\" class=\"data row1 col31\" >[]</td>\n",
       "      <td id=\"T_0c14a_row1_col32\" class=\"data row1 col32\" >2023-02-26T13:13:09</td>\n",
       "      <td id=\"T_0c14a_row1_col33\" class=\"data row1 col33\" >['susbrock', 'model_DB', 'vzkjx8vd']</td>\n",
       "      <td id=\"T_0c14a_row1_col34\" class=\"data row1 col34\" >None</td>\n",
       "      <td id=\"T_0c14a_row1_col35\" class=\"data row1 col35\" >0.000000</td>\n",
       "      <td id=\"T_0c14a_row1_col36\" class=\"data row1 col36\" >56.250000</td>\n",
       "      <td id=\"T_0c14a_row1_col37\" class=\"data row1 col37\" >248.031250</td>\n",
       "      <td id=\"T_0c14a_row1_col38\" class=\"data row1 col38\" >96.011719</td>\n",
       "    </tr>\n",
       "    <tr>\n",
       "      <th id=\"T_0c14a_level0_row2\" class=\"row_heading level0 row2\" >2</th>\n",
       "      <td id=\"T_0c14a_row2_col0\" class=\"data row2 col0\" >aj5kvuh0</td>\n",
       "      <td id=\"T_0c14a_row2_col1\" class=\"data row2 col1\" >mobilenetv2_0.25_96_c3_o2_t5l128.MV1</td>\n",
       "      <td id=\"T_0c14a_row2_col2\" class=\"data row2 col2\" >finished</td>\n",
       "      <td id=\"T_0c14a_row2_col3\" class=\"data row2 col3\" >3.794 M</td>\n",
       "      <td id=\"T_0c14a_row2_col4\" class=\"data row2 col4\" ><a target=\"_blank\" href=\"https://wandb.ai/susbrock/model_DB/runs/aj5kvuh0\">https://wandb.ai/susbrock/model_DB/runs/aj5kvuh0</a></td>\n",
       "      <td id=\"T_0c14a_row2_col5\" class=\"data row2 col5\" >mobilenetv2_0.25_96_c3_o2_t5l128.MV1</td>\n",
       "      <td id=\"T_0c14a_row2_col6\" class=\"data row2 col6\" >8.076 M</td>\n",
       "      <td id=\"T_0c14a_row2_col7\" class=\"data row2 col7\" >0.25</td>\n",
       "      <td id=\"T_0c14a_row2_col8\" class=\"data row2 col8\" >2</td>\n",
       "      <td id=\"T_0c14a_row2_col9\" class=\"data row2 col9\" >96</td>\n",
       "      <td id=\"T_0c14a_row2_col10\" class=\"data row2 col10\" >8340986</td>\n",
       "      <td id=\"T_0c14a_row2_col11\" class=\"data row2 col11\" >3</td>\n",
       "      <td id=\"T_0c14a_row2_col12\" class=\"data row2 col12\" >3793936</td>\n",
       "      <td id=\"T_0c14a_row2_col13\" class=\"data row2 col13\" >t5l128.MV1</td>\n",
       "      <td id=\"T_0c14a_row2_col14\" class=\"data row2 col14\" >0.005131</td>\n",
       "      <td id=\"T_0c14a_row2_col15\" class=\"data row2 col15\" >127358</td>\n",
       "      <td id=\"T_0c14a_row2_col16\" class=\"data row2 col16\" >8451586</td>\n",
       "      <td id=\"T_0c14a_row2_col17\" class=\"data row2 col17\" >955.242188</td>\n",
       "      <td id=\"T_0c14a_row2_col18\" class=\"data row2 col18\" >57600.000000</td>\n",
       "      <td id=\"T_0c14a_row2_col19\" class=\"data row2 col19\" >3793936</td>\n",
       "      <td id=\"T_0c14a_row2_col20\" class=\"data row2 col20\" >0.005330</td>\n",
       "      <td id=\"T_0c14a_row2_col21\" class=\"data row2 col21\" >120398</td>\n",
       "      <td id=\"T_0c14a_row2_col22\" class=\"data row2 col22\" >6960</td>\n",
       "      <td id=\"T_0c14a_row2_col23\" class=\"data row2 col23\" >475.460938</td>\n",
       "      <td id=\"T_0c14a_row2_col24\" class=\"data row2 col24\" >486872</td>\n",
       "      <td id=\"T_0c14a_row2_col25\" class=\"data row2 col25\" >0</td>\n",
       "      <td id=\"T_0c14a_row2_col26\" class=\"data row2 col26\" >234.281250</td>\n",
       "      <td id=\"T_0c14a_row2_col27\" class=\"data row2 col27\" >239904</td>\n",
       "      <td id=\"T_0c14a_row2_col28\" class=\"data row2 col28\" >268960</td>\n",
       "      <td id=\"T_0c14a_row2_col29\" class=\"data row2 col29\" >0</td>\n",
       "      <td id=\"T_0c14a_row2_col30\" class=\"data row2 col30\" >97292</td>\n",
       "      <td id=\"T_0c14a_row2_col31\" class=\"data row2 col31\" >[]</td>\n",
       "      <td id=\"T_0c14a_row2_col32\" class=\"data row2 col32\" >2023-02-26T13:11:08</td>\n",
       "      <td id=\"T_0c14a_row2_col33\" class=\"data row2 col33\" >['susbrock', 'model_DB', 'aj5kvuh0']</td>\n",
       "      <td id=\"T_0c14a_row2_col34\" class=\"data row2 col34\" >None</td>\n",
       "      <td id=\"T_0c14a_row2_col35\" class=\"data row2 col35\" >0.832163</td>\n",
       "      <td id=\"T_0c14a_row2_col36\" class=\"data row2 col36\" >56.250000</td>\n",
       "      <td id=\"T_0c14a_row2_col37\" class=\"data row2 col37\" >234.281250</td>\n",
       "      <td id=\"T_0c14a_row2_col38\" class=\"data row2 col38\" >95.011719</td>\n",
       "    </tr>\n",
       "    <tr>\n",
       "      <th id=\"T_0c14a_level0_row3\" class=\"row_heading level0 row3\" >3</th>\n",
       "      <td id=\"T_0c14a_row3_col0\" class=\"data row3 col0\" >exjgrqit</td>\n",
       "      <td id=\"T_0c14a_row3_col1\" class=\"data row3 col1\" >mobilenetv2_0.25_96_c3_o2_t6l128.MV1</td>\n",
       "      <td id=\"T_0c14a_row3_col2\" class=\"data row3 col2\" >finished</td>\n",
       "      <td id=\"T_0c14a_row3_col3\" class=\"data row3 col3\" >4.387 M</td>\n",
       "      <td id=\"T_0c14a_row3_col4\" class=\"data row3 col4\" ><a target=\"_blank\" href=\"https://wandb.ai/susbrock/model_DB/runs/exjgrqit\">https://wandb.ai/susbrock/model_DB/runs/exjgrqit</a></td>\n",
       "      <td id=\"T_0c14a_row3_col5\" class=\"data row3 col5\" >mobilenetv2_0.25_96_c3_o2_t6l128.MV1</td>\n",
       "      <td id=\"T_0c14a_row3_col6\" class=\"data row3 col6\" >9.342 M</td>\n",
       "      <td id=\"T_0c14a_row3_col7\" class=\"data row3 col7\" >0.25</td>\n",
       "      <td id=\"T_0c14a_row3_col8\" class=\"data row3 col8\" >2</td>\n",
       "      <td id=\"T_0c14a_row3_col9\" class=\"data row3 col9\" >96</td>\n",
       "      <td id=\"T_0c14a_row3_col10\" class=\"data row3 col10\" >9646994</td>\n",
       "      <td id=\"T_0c14a_row3_col11\" class=\"data row3 col11\" >3</td>\n",
       "      <td id=\"T_0c14a_row3_col12\" class=\"data row3 col12\" >4386784</td>\n",
       "      <td id=\"T_0c14a_row3_col13\" class=\"data row3 col13\" >t6l128.MV1</td>\n",
       "      <td id=\"T_0c14a_row3_col14\" class=\"data row3 col14\" >0.005924</td>\n",
       "      <td id=\"T_0c14a_row3_col15\" class=\"data row3 col15\" >150250</td>\n",
       "      <td id=\"T_0c14a_row3_col16\" class=\"data row3 col16\" >9757594</td>\n",
       "      <td id=\"T_0c14a_row3_col17\" class=\"data row3 col17\" >1044.640625</td>\n",
       "      <td id=\"T_0c14a_row3_col18\" class=\"data row3 col18\" >69120.000000</td>\n",
       "      <td id=\"T_0c14a_row3_col19\" class=\"data row3 col19\" >4386784</td>\n",
       "      <td id=\"T_0c14a_row3_col20\" class=\"data row3 col20\" >0.006123</td>\n",
       "      <td id=\"T_0c14a_row3_col21\" class=\"data row3 col21\" >142106</td>\n",
       "      <td id=\"T_0c14a_row3_col22\" class=\"data row3 col22\" >8144</td>\n",
       "      <td id=\"T_0c14a_row3_col23\" class=\"data row3 col23\" >556.328125</td>\n",
       "      <td id=\"T_0c14a_row3_col24\" class=\"data row3 col24\" >569680</td>\n",
       "      <td id=\"T_0c14a_row3_col25\" class=\"data row3 col25\" >0</td>\n",
       "      <td id=\"T_0c14a_row3_col26\" class=\"data row3 col26\" >268.726562</td>\n",
       "      <td id=\"T_0c14a_row3_col27\" class=\"data row3 col27\" >275176</td>\n",
       "      <td id=\"T_0c14a_row3_col28\" class=\"data row3 col28\" >319764</td>\n",
       "      <td id=\"T_0c14a_row3_col29\" class=\"data row3 col29\" >0</td>\n",
       "      <td id=\"T_0c14a_row3_col30\" class=\"data row3 col30\" >113556</td>\n",
       "      <td id=\"T_0c14a_row3_col31\" class=\"data row3 col31\" >[]</td>\n",
       "      <td id=\"T_0c14a_row3_col32\" class=\"data row3 col32\" >2023-02-26T13:09:03</td>\n",
       "      <td id=\"T_0c14a_row3_col33\" class=\"data row3 col33\" >['susbrock', 'model_DB', 'exjgrqit']</td>\n",
       "      <td id=\"T_0c14a_row3_col34\" class=\"data row3 col34\" >None</td>\n",
       "      <td id=\"T_0c14a_row3_col35\" class=\"data row3 col35\" >0.000000</td>\n",
       "      <td id=\"T_0c14a_row3_col36\" class=\"data row3 col36\" >67.500000</td>\n",
       "      <td id=\"T_0c14a_row3_col37\" class=\"data row3 col37\" >268.726562</td>\n",
       "      <td id=\"T_0c14a_row3_col38\" class=\"data row3 col38\" >110.894531</td>\n",
       "    </tr>\n",
       "    <tr>\n",
       "      <th id=\"T_0c14a_level0_row4\" class=\"row_heading level0 row4\" >4</th>\n",
       "      <td id=\"T_0c14a_row4_col0\" class=\"data row4 col0\" >dl8ye13s</td>\n",
       "      <td id=\"T_0c14a_row4_col1\" class=\"data row4 col1\" >mobilenetv2_0.25_96_c3_o2_t6l256.MV1</td>\n",
       "      <td id=\"T_0c14a_row4_col2\" class=\"data row4 col2\" >finished</td>\n",
       "      <td id=\"T_0c14a_row4_col3\" class=\"data row4 col3\" >4.479 M</td>\n",
       "      <td id=\"T_0c14a_row4_col4\" class=\"data row4 col4\" ><a target=\"_blank\" href=\"https://wandb.ai/susbrock/model_DB/runs/dl8ye13s\">https://wandb.ai/susbrock/model_DB/runs/dl8ye13s</a></td>\n",
       "      <td id=\"T_0c14a_row4_col5\" class=\"data row4 col5\" >mobilenetv2_0.25_96_c3_o2_t6l256.MV1</td>\n",
       "      <td id=\"T_0c14a_row4_col6\" class=\"data row4 col6\" >9.530 M</td>\n",
       "      <td id=\"T_0c14a_row4_col7\" class=\"data row4 col7\" >0.25</td>\n",
       "      <td id=\"T_0c14a_row4_col8\" class=\"data row4 col8\" >2</td>\n",
       "      <td id=\"T_0c14a_row4_col9\" class=\"data row4 col9\" >96</td>\n",
       "      <td id=\"T_0c14a_row4_col10\" class=\"data row4 col10\" >9836562</td>\n",
       "      <td id=\"T_0c14a_row4_col11\" class=\"data row4 col11\" >3</td>\n",
       "      <td id=\"T_0c14a_row4_col12\" class=\"data row4 col12\" >4479200</td>\n",
       "      <td id=\"T_0c14a_row4_col13\" class=\"data row4 col13\" >t6l256.MV1</td>\n",
       "      <td id=\"T_0c14a_row4_col14\" class=\"data row4 col14\" >0.005986</td>\n",
       "      <td id=\"T_0c14a_row4_col15\" class=\"data row4 col15\" >161258</td>\n",
       "      <td id=\"T_0c14a_row4_col16\" class=\"data row4 col16\" >9947162</td>\n",
       "      <td id=\"T_0c14a_row4_col17\" class=\"data row4 col17\" >1086.718750</td>\n",
       "      <td id=\"T_0c14a_row4_col18\" class=\"data row4 col18\" >69120.000000</td>\n",
       "      <td id=\"T_0c14a_row4_col19\" class=\"data row4 col19\" >4479200</td>\n",
       "      <td id=\"T_0c14a_row4_col20\" class=\"data row4 col20\" >0.006185</td>\n",
       "      <td id=\"T_0c14a_row4_col21\" class=\"data row4 col21\" >152858</td>\n",
       "      <td id=\"T_0c14a_row4_col22\" class=\"data row4 col22\" >8400</td>\n",
       "      <td id=\"T_0c14a_row4_col23\" class=\"data row4 col23\" >597.828125</td>\n",
       "      <td id=\"T_0c14a_row4_col24\" class=\"data row4 col24\" >612176</td>\n",
       "      <td id=\"T_0c14a_row4_col25\" class=\"data row4 col25\" >0</td>\n",
       "      <td id=\"T_0c14a_row4_col26\" class=\"data row4 col26\" >282.476562</td>\n",
       "      <td id=\"T_0c14a_row4_col27\" class=\"data row4 col27\" >289256</td>\n",
       "      <td id=\"T_0c14a_row4_col28\" class=\"data row4 col28\" >320788</td>\n",
       "      <td id=\"T_0c14a_row4_col29\" class=\"data row4 col29\" >0</td>\n",
       "      <td id=\"T_0c14a_row4_col30\" class=\"data row4 col30\" >114580</td>\n",
       "      <td id=\"T_0c14a_row4_col31\" class=\"data row4 col31\" >[]</td>\n",
       "      <td id=\"T_0c14a_row4_col32\" class=\"data row4 col32\" >2023-02-26T13:06:58</td>\n",
       "      <td id=\"T_0c14a_row4_col33\" class=\"data row4 col33\" >['susbrock', 'model_DB', 'dl8ye13s']</td>\n",
       "      <td id=\"T_0c14a_row4_col34\" class=\"data row4 col34\" >None</td>\n",
       "      <td id=\"T_0c14a_row4_col35\" class=\"data row4 col35\" >0.000000</td>\n",
       "      <td id=\"T_0c14a_row4_col36\" class=\"data row4 col36\" >67.500000</td>\n",
       "      <td id=\"T_0c14a_row4_col37\" class=\"data row4 col37\" >282.476562</td>\n",
       "      <td id=\"T_0c14a_row4_col38\" class=\"data row4 col38\" >111.894531</td>\n",
       "    </tr>\n",
       "    <tr>\n",
       "      <th id=\"T_0c14a_level0_row5\" class=\"row_heading level0 row5\" >5</th>\n",
       "      <td id=\"T_0c14a_row5_col0\" class=\"data row5 col0\" >dburdcfy</td>\n",
       "      <td id=\"T_0c14a_row5_col1\" class=\"data row5 col1\" >mobilenetv2_0.25_96_c3_o2_t6l512.MV1</td>\n",
       "      <td id=\"T_0c14a_row5_col2\" class=\"data row5 col2\" >finished</td>\n",
       "      <td id=\"T_0c14a_row5_col3\" class=\"data row5 col3\" >4.664 M</td>\n",
       "      <td id=\"T_0c14a_row5_col4\" class=\"data row5 col4\" ><a target=\"_blank\" href=\"https://wandb.ai/susbrock/model_DB/runs/dburdcfy\">https://wandb.ai/susbrock/model_DB/runs/dburdcfy</a></td>\n",
       "      <td id=\"T_0c14a_row5_col5\" class=\"data row5 col5\" >mobilenetv2_0.25_96_c3_o2_t6l512.MV1</td>\n",
       "      <td id=\"T_0c14a_row5_col6\" class=\"data row5 col6\" >9.907 M</td>\n",
       "      <td id=\"T_0c14a_row5_col7\" class=\"data row5 col7\" >0.25</td>\n",
       "      <td id=\"T_0c14a_row5_col8\" class=\"data row5 col8\" >2</td>\n",
       "      <td id=\"T_0c14a_row5_col9\" class=\"data row5 col9\" >96</td>\n",
       "      <td id=\"T_0c14a_row5_col10\" class=\"data row5 col10\" >10215698</td>\n",
       "      <td id=\"T_0c14a_row5_col11\" class=\"data row5 col11\" >3</td>\n",
       "      <td id=\"T_0c14a_row5_col12\" class=\"data row5 col12\" >4664032</td>\n",
       "      <td id=\"T_0c14a_row5_col13\" class=\"data row5 col13\" >t6l512.MV1</td>\n",
       "      <td id=\"T_0c14a_row5_col14\" class=\"data row5 col14\" >0.005975</td>\n",
       "      <td id=\"T_0c14a_row5_col15\" class=\"data row5 col15\" >183274</td>\n",
       "      <td id=\"T_0c14a_row5_col16\" class=\"data row5 col16\" >10326298</td>\n",
       "      <td id=\"T_0c14a_row5_col17\" class=\"data row5 col17\" >1172.718750</td>\n",
       "      <td id=\"T_0c14a_row5_col18\" class=\"data row5 col18\" >69120.000000</td>\n",
       "      <td id=\"T_0c14a_row5_col19\" class=\"data row5 col19\" >4664032</td>\n",
       "      <td id=\"T_0c14a_row5_col20\" class=\"data row5 col20\" >0.006175</td>\n",
       "      <td id=\"T_0c14a_row5_col21\" class=\"data row5 col21\" >174362</td>\n",
       "      <td id=\"T_0c14a_row5_col22\" class=\"data row5 col22\" >8912</td>\n",
       "      <td id=\"T_0c14a_row5_col23\" class=\"data row5 col23\" >680.828125</td>\n",
       "      <td id=\"T_0c14a_row5_col24\" class=\"data row5 col24\" >697168</td>\n",
       "      <td id=\"T_0c14a_row5_col25\" class=\"data row5 col25\" >0</td>\n",
       "      <td id=\"T_0c14a_row5_col26\" class=\"data row5 col26\" >309.976562</td>\n",
       "      <td id=\"T_0c14a_row5_col27\" class=\"data row5 col27\" >317416</td>\n",
       "      <td id=\"T_0c14a_row5_col28\" class=\"data row5 col28\" >322836</td>\n",
       "      <td id=\"T_0c14a_row5_col29\" class=\"data row5 col29\" >0</td>\n",
       "      <td id=\"T_0c14a_row5_col30\" class=\"data row5 col30\" >116628</td>\n",
       "      <td id=\"T_0c14a_row5_col31\" class=\"data row5 col31\" >[]</td>\n",
       "      <td id=\"T_0c14a_row5_col32\" class=\"data row5 col32\" >2023-02-26T13:04:54</td>\n",
       "      <td id=\"T_0c14a_row5_col33\" class=\"data row5 col33\" >['susbrock', 'model_DB', 'dburdcfy']</td>\n",
       "      <td id=\"T_0c14a_row5_col34\" class=\"data row5 col34\" >None</td>\n",
       "      <td id=\"T_0c14a_row5_col35\" class=\"data row5 col35\" >0.836906</td>\n",
       "      <td id=\"T_0c14a_row5_col36\" class=\"data row5 col36\" >67.500000</td>\n",
       "      <td id=\"T_0c14a_row5_col37\" class=\"data row5 col37\" >309.976562</td>\n",
       "      <td id=\"T_0c14a_row5_col38\" class=\"data row5 col38\" >113.894531</td>\n",
       "    </tr>\n",
       "    <tr>\n",
       "      <th id=\"T_0c14a_level0_row6\" class=\"row_heading level0 row6\" >6</th>\n",
       "      <td id=\"T_0c14a_row6_col0\" class=\"data row6 col0\" >z7yhusdp</td>\n",
       "      <td id=\"T_0c14a_row6_col1\" class=\"data row6 col1\" >mobilenetv2_0.2_96_c3_o2_t6l512.MV1</td>\n",
       "      <td id=\"T_0c14a_row6_col2\" class=\"data row6 col2\" >finished</td>\n",
       "      <td id=\"T_0c14a_row6_col3\" class=\"data row6 col3\" >3.192 M</td>\n",
       "      <td id=\"T_0c14a_row6_col4\" class=\"data row6 col4\" ><a target=\"_blank\" href=\"https://wandb.ai/susbrock/model_DB/runs/z7yhusdp\">https://wandb.ai/susbrock/model_DB/runs/z7yhusdp</a></td>\n",
       "      <td id=\"T_0c14a_row6_col5\" class=\"data row6 col5\" >mobilenetv2_0.2_96_c3_o2_t6l512.MV1</td>\n",
       "      <td id=\"T_0c14a_row6_col6\" class=\"data row6 col6\" >6.833 M</td>\n",
       "      <td id=\"T_0c14a_row6_col7\" class=\"data row6 col7\" >0.2</td>\n",
       "      <td id=\"T_0c14a_row6_col8\" class=\"data row6 col8\" >2</td>\n",
       "      <td id=\"T_0c14a_row6_col9\" class=\"data row6 col9\" >96</td>\n",
       "      <td id=\"T_0c14a_row6_col10\" class=\"data row6 col10\" >7070072</td>\n",
       "      <td id=\"T_0c14a_row6_col11\" class=\"data row6 col11\" >3</td>\n",
       "      <td id=\"T_0c14a_row6_col12\" class=\"data row6 col12\" >3192010</td>\n",
       "      <td id=\"T_0c14a_row6_col13\" class=\"data row6 col13\" >t6l512.MV1</td>\n",
       "      <td id=\"T_0c14a_row6_col14\" class=\"data row6 col14\" >0.004611</td>\n",
       "      <td id=\"T_0c14a_row6_col15\" class=\"data row6 col15\" >127826</td>\n",
       "      <td id=\"T_0c14a_row6_col16\" class=\"data row6 col16\" >7180672</td>\n",
       "      <td id=\"T_0c14a_row6_col17\" class=\"data row6 col17\" >955.523438</td>\n",
       "      <td id=\"T_0c14a_row6_col18\" class=\"data row6 col18\" >55296.000000</td>\n",
       "      <td id=\"T_0c14a_row6_col19\" class=\"data row6 col19\" >3192010</td>\n",
       "      <td id=\"T_0c14a_row6_col20\" class=\"data row6 col20\" >0.004811</td>\n",
       "      <td id=\"T_0c14a_row6_col21\" class=\"data row6 col21\" >120662</td>\n",
       "      <td id=\"T_0c14a_row6_col22\" class=\"data row6 col22\" >7164</td>\n",
       "      <td id=\"T_0c14a_row6_col23\" class=\"data row6 col23\" >477.406250</td>\n",
       "      <td id=\"T_0c14a_row6_col24\" class=\"data row6 col24\" >488864</td>\n",
       "      <td id=\"T_0c14a_row6_col25\" class=\"data row6 col25\" >0</td>\n",
       "      <td id=\"T_0c14a_row6_col26\" class=\"data row6 col26\" >238.085938</td>\n",
       "      <td id=\"T_0c14a_row6_col27\" class=\"data row6 col27\" >243800</td>\n",
       "      <td id=\"T_0c14a_row6_col28\" class=\"data row6 col28\" >246908</td>\n",
       "      <td id=\"T_0c14a_row6_col29\" class=\"data row6 col29\" >0</td>\n",
       "      <td id=\"T_0c14a_row6_col30\" class=\"data row6 col30\" >95600</td>\n",
       "      <td id=\"T_0c14a_row6_col31\" class=\"data row6 col31\" >[]</td>\n",
       "      <td id=\"T_0c14a_row6_col32\" class=\"data row6 col32\" >2023-02-26T13:01:50</td>\n",
       "      <td id=\"T_0c14a_row6_col33\" class=\"data row6 col33\" >['susbrock', 'model_DB', 'z7yhusdp']</td>\n",
       "      <td id=\"T_0c14a_row6_col34\" class=\"data row6 col34\" >None</td>\n",
       "      <td id=\"T_0c14a_row6_col35\" class=\"data row6 col35\" >0.000000</td>\n",
       "      <td id=\"T_0c14a_row6_col36\" class=\"data row6 col36\" >54.000000</td>\n",
       "      <td id=\"T_0c14a_row6_col37\" class=\"data row6 col37\" >238.085938</td>\n",
       "      <td id=\"T_0c14a_row6_col38\" class=\"data row6 col38\" >93.359375</td>\n",
       "    </tr>\n",
       "    <tr>\n",
       "      <th id=\"T_0c14a_level0_row7\" class=\"row_heading level0 row7\" >7</th>\n",
       "      <td id=\"T_0c14a_row7_col0\" class=\"data row7 col0\" >azckjhgk</td>\n",
       "      <td id=\"T_0c14a_row7_col1\" class=\"data row7 col1\" >mobilenetv2_0.2_96_c3_o2_t6l256.MV1</td>\n",
       "      <td id=\"T_0c14a_row7_col2\" class=\"data row7 col2\" >finished</td>\n",
       "      <td id=\"T_0c14a_row7_col3\" class=\"data row7 col3\" >3.044 M</td>\n",
       "      <td id=\"T_0c14a_row7_col4\" class=\"data row7 col4\" ><a target=\"_blank\" href=\"https://wandb.ai/susbrock/model_DB/runs/azckjhgk\">https://wandb.ai/susbrock/model_DB/runs/azckjhgk</a></td>\n",
       "      <td id=\"T_0c14a_row7_col5\" class=\"data row7 col5\" >mobilenetv2_0.2_96_c3_o2_t6l256.MV1</td>\n",
       "      <td id=\"T_0c14a_row7_col6\" class=\"data row7 col6\" >6.530 M</td>\n",
       "      <td id=\"T_0c14a_row7_col7\" class=\"data row7 col7\" >0.2</td>\n",
       "      <td id=\"T_0c14a_row7_col8\" class=\"data row7 col8\" >2</td>\n",
       "      <td id=\"T_0c14a_row7_col9\" class=\"data row7 col9\" >96</td>\n",
       "      <td id=\"T_0c14a_row7_col10\" class=\"data row7 col10\" >6764664</td>\n",
       "      <td id=\"T_0c14a_row7_col11\" class=\"data row7 col11\" >3</td>\n",
       "      <td id=\"T_0c14a_row7_col12\" class=\"data row7 col12\" >3044042</td>\n",
       "      <td id=\"T_0c14a_row7_col13\" class=\"data row7 col13\" >t6l256.MV1</td>\n",
       "      <td id=\"T_0c14a_row7_col14\" class=\"data row7 col14\" >0.004566</td>\n",
       "      <td id=\"T_0c14a_row7_col15\" class=\"data row7 col15\" >109906</td>\n",
       "      <td id=\"T_0c14a_row7_col16\" class=\"data row7 col16\" >6875264</td>\n",
       "      <td id=\"T_0c14a_row7_col17\" class=\"data row7 col17\" >885.523438</td>\n",
       "      <td id=\"T_0c14a_row7_col18\" class=\"data row7 col18\" >55296.000000</td>\n",
       "      <td id=\"T_0c14a_row7_col19\" class=\"data row7 col19\" >3044042</td>\n",
       "      <td id=\"T_0c14a_row7_col20\" class=\"data row7 col20\" >0.004765</td>\n",
       "      <td id=\"T_0c14a_row7_col21\" class=\"data row7 col21\" >103254</td>\n",
       "      <td id=\"T_0c14a_row7_col22\" class=\"data row7 col22\" >6652</td>\n",
       "      <td id=\"T_0c14a_row7_col23\" class=\"data row7 col23\" >410.406250</td>\n",
       "      <td id=\"T_0c14a_row7_col24\" class=\"data row7 col24\" >420256</td>\n",
       "      <td id=\"T_0c14a_row7_col25\" class=\"data row7 col25\" >0</td>\n",
       "      <td id=\"T_0c14a_row7_col26\" class=\"data row7 col26\" >214.585938</td>\n",
       "      <td id=\"T_0c14a_row7_col27\" class=\"data row7 col27\" >219736</td>\n",
       "      <td id=\"T_0c14a_row7_col28\" class=\"data row7 col28\" >244860</td>\n",
       "      <td id=\"T_0c14a_row7_col29\" class=\"data row7 col29\" >0</td>\n",
       "      <td id=\"T_0c14a_row7_col30\" class=\"data row7 col30\" >93552</td>\n",
       "      <td id=\"T_0c14a_row7_col31\" class=\"data row7 col31\" >[]</td>\n",
       "      <td id=\"T_0c14a_row7_col32\" class=\"data row7 col32\" >2023-02-26T12:59:17</td>\n",
       "      <td id=\"T_0c14a_row7_col33\" class=\"data row7 col33\" >['susbrock', 'model_DB', 'azckjhgk']</td>\n",
       "      <td id=\"T_0c14a_row7_col34\" class=\"data row7 col34\" >None</td>\n",
       "      <td id=\"T_0c14a_row7_col35\" class=\"data row7 col35\" >0.815744</td>\n",
       "      <td id=\"T_0c14a_row7_col36\" class=\"data row7 col36\" >54.000000</td>\n",
       "      <td id=\"T_0c14a_row7_col37\" class=\"data row7 col37\" >214.585938</td>\n",
       "      <td id=\"T_0c14a_row7_col38\" class=\"data row7 col38\" >91.359375</td>\n",
       "    </tr>\n",
       "    <tr>\n",
       "      <th id=\"T_0c14a_level0_row8\" class=\"row_heading level0 row8\" >8</th>\n",
       "      <td id=\"T_0c14a_row8_col0\" class=\"data row8 col0\" >zamf1d7m</td>\n",
       "      <td id=\"T_0c14a_row8_col1\" class=\"data row8 col1\" >mobilenetv2_0.2_96_c3_o2_t6l128.MV1</td>\n",
       "      <td id=\"T_0c14a_row8_col2\" class=\"data row8 col2\" >finished</td>\n",
       "      <td id=\"T_0c14a_row8_col3\" class=\"data row8 col3\" >2.970 M</td>\n",
       "      <td id=\"T_0c14a_row8_col4\" class=\"data row8 col4\" ><a target=\"_blank\" href=\"https://wandb.ai/susbrock/model_DB/runs/zamf1d7m\">https://wandb.ai/susbrock/model_DB/runs/zamf1d7m</a></td>\n",
       "      <td id=\"T_0c14a_row8_col5\" class=\"data row8 col5\" >mobilenetv2_0.2_96_c3_o2_t6l128.MV1</td>\n",
       "      <td id=\"T_0c14a_row8_col6\" class=\"data row8 col6\" >6.378 M</td>\n",
       "      <td id=\"T_0c14a_row8_col7\" class=\"data row8 col7\" >0.2</td>\n",
       "      <td id=\"T_0c14a_row8_col8\" class=\"data row8 col8\" >2</td>\n",
       "      <td id=\"T_0c14a_row8_col9\" class=\"data row8 col9\" >96</td>\n",
       "      <td id=\"T_0c14a_row8_col10\" class=\"data row8 col10\" >6611960</td>\n",
       "      <td id=\"T_0c14a_row8_col11\" class=\"data row8 col11\" >3</td>\n",
       "      <td id=\"T_0c14a_row8_col12\" class=\"data row8 col12\" >2970058</td>\n",
       "      <td id=\"T_0c14a_row8_col13\" class=\"data row8 col13\" >t6l128.MV1</td>\n",
       "      <td id=\"T_0c14a_row8_col14\" class=\"data row8 col14\" >0.004538</td>\n",
       "      <td id=\"T_0c14a_row8_col15\" class=\"data row8 col15\" >100946</td>\n",
       "      <td id=\"T_0c14a_row8_col16\" class=\"data row8 col16\" >6722560</td>\n",
       "      <td id=\"T_0c14a_row8_col17\" class=\"data row8 col17\" >851.445312</td>\n",
       "      <td id=\"T_0c14a_row8_col18\" class=\"data row8 col18\" >55296.000000</td>\n",
       "      <td id=\"T_0c14a_row8_col19\" class=\"data row8 col19\" >2970058</td>\n",
       "      <td id=\"T_0c14a_row8_col20\" class=\"data row8 col20\" >0.004737</td>\n",
       "      <td id=\"T_0c14a_row8_col21\" class=\"data row8 col21\" >94550</td>\n",
       "      <td id=\"T_0c14a_row8_col22\" class=\"data row8 col22\" >6396</td>\n",
       "      <td id=\"T_0c14a_row8_col23\" class=\"data row8 col23\" >376.906250</td>\n",
       "      <td id=\"T_0c14a_row8_col24\" class=\"data row8 col24\" >385952</td>\n",
       "      <td id=\"T_0c14a_row8_col25\" class=\"data row8 col25\" >0</td>\n",
       "      <td id=\"T_0c14a_row8_col26\" class=\"data row8 col26\" >202.835938</td>\n",
       "      <td id=\"T_0c14a_row8_col27\" class=\"data row8 col27\" >207704</td>\n",
       "      <td id=\"T_0c14a_row8_col28\" class=\"data row8 col28\" >243836</td>\n",
       "      <td id=\"T_0c14a_row8_col29\" class=\"data row8 col29\" >0</td>\n",
       "      <td id=\"T_0c14a_row8_col30\" class=\"data row8 col30\" >92528</td>\n",
       "      <td id=\"T_0c14a_row8_col31\" class=\"data row8 col31\" >[]</td>\n",
       "      <td id=\"T_0c14a_row8_col32\" class=\"data row8 col32\" >2023-02-26T12:55:56</td>\n",
       "      <td id=\"T_0c14a_row8_col33\" class=\"data row8 col33\" >['susbrock', 'model_DB', 'zamf1d7m']</td>\n",
       "      <td id=\"T_0c14a_row8_col34\" class=\"data row8 col34\" >None</td>\n",
       "      <td id=\"T_0c14a_row8_col35\" class=\"data row8 col35\" >0.814301</td>\n",
       "      <td id=\"T_0c14a_row8_col36\" class=\"data row8 col36\" >54.000000</td>\n",
       "      <td id=\"T_0c14a_row8_col37\" class=\"data row8 col37\" >202.835938</td>\n",
       "      <td id=\"T_0c14a_row8_col38\" class=\"data row8 col38\" >90.359375</td>\n",
       "    </tr>\n",
       "    <tr>\n",
       "      <th id=\"T_0c14a_level0_row9\" class=\"row_heading level0 row9\" >9</th>\n",
       "      <td id=\"T_0c14a_row9_col0\" class=\"data row9 col0\" >f6keiwns</td>\n",
       "      <td id=\"T_0c14a_row9_col1\" class=\"data row9 col1\" >mobilenetv1_0.1_96_c3_o2_l2.MV1</td>\n",
       "      <td id=\"T_0c14a_row9_col2\" class=\"data row9 col2\" >finished</td>\n",
       "      <td id=\"T_0c14a_row9_col3\" class=\"data row9 col3\" >1.117 M</td>\n",
       "      <td id=\"T_0c14a_row9_col4\" class=\"data row9 col4\" ><a target=\"_blank\" href=\"https://wandb.ai/susbrock/model_DB/runs/f6keiwns\">https://wandb.ai/susbrock/model_DB/runs/f6keiwns</a></td>\n",
       "      <td id=\"T_0c14a_row9_col5\" class=\"data row9 col5\" >mobilenetv1_0.1_96_c3_o2_l2.MV1</td>\n",
       "      <td id=\"T_0c14a_row9_col6\" class=\"data row9 col6\" >2.467 M</td>\n",
       "      <td id=\"T_0c14a_row9_col7\" class=\"data row9 col7\" >0.1</td>\n",
       "      <td id=\"T_0c14a_row9_col8\" class=\"data row9 col8\" >2</td>\n",
       "      <td id=\"T_0c14a_row9_col9\" class=\"data row9 col9\" >96</td>\n",
       "      <td id=\"T_0c14a_row9_col10\" class=\"data row9 col10\" >2467123</td>\n",
       "      <td id=\"T_0c14a_row9_col11\" class=\"data row9 col11\" >3</td>\n",
       "      <td id=\"T_0c14a_row9_col12\" class=\"data row9 col12\" >1116555</td>\n",
       "      <td id=\"T_0c14a_row9_col13\" class=\"data row9 col13\" >l2.MV1</td>\n",
       "      <td id=\"T_0c14a_row9_col14\" class=\"data row9 col14\" >0.001475</td>\n",
       "      <td id=\"T_0c14a_row9_col15\" class=\"data row9 col15\" >30461</td>\n",
       "      <td id=\"T_0c14a_row9_col16\" class=\"data row9 col16\" >2577723</td>\n",
       "      <td id=\"T_0c14a_row9_col17\" class=\"data row9 col17\" >321.664062</td>\n",
       "      <td id=\"T_0c14a_row9_col18\" class=\"data row9 col18\" >55296.000000</td>\n",
       "      <td id=\"T_0c14a_row9_col19\" class=\"data row9 col19\" >1116555</td>\n",
       "      <td id=\"T_0c14a_row9_col20\" class=\"data row9 col20\" >0.001675</td>\n",
       "      <td id=\"T_0c14a_row9_col21\" class=\"data row9 col21\" >28905</td>\n",
       "      <td id=\"T_0c14a_row9_col22\" class=\"data row9 col22\" >1556</td>\n",
       "      <td id=\"T_0c14a_row9_col23\" class=\"data row9 col23\" >119.562500</td>\n",
       "      <td id=\"T_0c14a_row9_col24\" class=\"data row9 col24\" >122432</td>\n",
       "      <td id=\"T_0c14a_row9_col25\" class=\"data row9 col25\" >0</td>\n",
       "      <td id=\"T_0c14a_row9_col26\" class=\"data row9 col26\" >64.015625</td>\n",
       "      <td id=\"T_0c14a_row9_col27\" class=\"data row9 col27\" >65552</td>\n",
       "      <td id=\"T_0c14a_row9_col28\" class=\"data row9 col28\" >149096</td>\n",
       "      <td id=\"T_0c14a_row9_col29\" class=\"data row9 col29\" >0</td>\n",
       "      <td id=\"T_0c14a_row9_col30\" class=\"data row9 col30\" >66700</td>\n",
       "      <td id=\"T_0c14a_row9_col31\" class=\"data row9 col31\" >[]</td>\n",
       "      <td id=\"T_0c14a_row9_col32\" class=\"data row9 col32\" >2023-02-26T12:52:37</td>\n",
       "      <td id=\"T_0c14a_row9_col33\" class=\"data row9 col33\" >['susbrock', 'model_DB', 'f6keiwns']</td>\n",
       "      <td id=\"T_0c14a_row9_col34\" class=\"data row9 col34\" >None</td>\n",
       "      <td id=\"T_0c14a_row9_col35\" class=\"data row9 col35\" >0.805984</td>\n",
       "      <td id=\"T_0c14a_row9_col36\" class=\"data row9 col36\" >54.000000</td>\n",
       "      <td id=\"T_0c14a_row9_col37\" class=\"data row9 col37\" >64.015625</td>\n",
       "      <td id=\"T_0c14a_row9_col38\" class=\"data row9 col38\" >65.136719</td>\n",
       "    </tr>\n",
       "    <tr>\n",
       "      <th id=\"T_0c14a_level0_row10\" class=\"row_heading level0 row10\" >10</th>\n",
       "      <td id=\"T_0c14a_row10_col0\" class=\"data row10 col0\" >vza09c9w</td>\n",
       "      <td id=\"T_0c14a_row10_col1\" class=\"data row10 col1\" >mobilenetv2_0.2_96_c3_o2_t5l128.MV1</td>\n",
       "      <td id=\"T_0c14a_row10_col2\" class=\"data row10 col2\" >finished</td>\n",
       "      <td id=\"T_0c14a_row10_col3\" class=\"data row10 col3\" >2.607 M</td>\n",
       "      <td id=\"T_0c14a_row10_col4\" class=\"data row10 col4\" ><a target=\"_blank\" href=\"https://wandb.ai/susbrock/model_DB/runs/vza09c9w\">https://wandb.ai/susbrock/model_DB/runs/vza09c9w</a></td>\n",
       "      <td id=\"T_0c14a_row10_col5\" class=\"data row10 col5\" >mobilenetv2_0.2_96_c3_o2_t5l128.MV1</td>\n",
       "      <td id=\"T_0c14a_row10_col6\" class=\"data row10 col6\" >5.593 M</td>\n",
       "      <td id=\"T_0c14a_row10_col7\" class=\"data row10 col7\" >0.2</td>\n",
       "      <td id=\"T_0c14a_row10_col8\" class=\"data row10 col8\" >2</td>\n",
       "      <td id=\"T_0c14a_row10_col9\" class=\"data row10 col9\" >96</td>\n",
       "      <td id=\"T_0c14a_row10_col10\" class=\"data row10 col10\" >5797901</td>\n",
       "      <td id=\"T_0c14a_row10_col11\" class=\"data row10 col11\" >3</td>\n",
       "      <td id=\"T_0c14a_row10_col12\" class=\"data row10 col12\" >2607187</td>\n",
       "      <td id=\"T_0c14a_row10_col13\" class=\"data row10 col13\" >t5l128.MV1</td>\n",
       "      <td id=\"T_0c14a_row10_col14\" class=\"data row10 col14\" >0.004352</td>\n",
       "      <td id=\"T_0c14a_row10_col15\" class=\"data row10 col15\" >85874</td>\n",
       "      <td id=\"T_0c14a_row10_col16\" class=\"data row10 col16\" >5908501</td>\n",
       "      <td id=\"T_0c14a_row10_col17\" class=\"data row10 col17\" >791.953125</td>\n",
       "      <td id=\"T_0c14a_row10_col18\" class=\"data row10 col18\" >55296.000000</td>\n",
       "      <td id=\"T_0c14a_row10_col19\" class=\"data row10 col19\" >2607187</td>\n",
       "      <td id=\"T_0c14a_row10_col20\" class=\"data row10 col20\" >0.004552</td>\n",
       "      <td id=\"T_0c14a_row10_col21\" class=\"data row10 col21\" >80398</td>\n",
       "      <td id=\"T_0c14a_row10_col22\" class=\"data row10 col22\" >5476</td>\n",
       "      <td id=\"T_0c14a_row10_col23\" class=\"data row10 col23\" >324.921875</td>\n",
       "      <td id=\"T_0c14a_row10_col24\" class=\"data row10 col24\" >332720</td>\n",
       "      <td id=\"T_0c14a_row10_col25\" class=\"data row10 col25\" >0</td>\n",
       "      <td id=\"T_0c14a_row10_col26\" class=\"data row10 col26\" >178.851562</td>\n",
       "      <td id=\"T_0c14a_row10_col27\" class=\"data row10 col27\" >183144</td>\n",
       "      <td id=\"T_0c14a_row10_col28\" class=\"data row10 col28\" >217084</td>\n",
       "      <td id=\"T_0c14a_row10_col29\" class=\"data row10 col29\" >0</td>\n",
       "      <td id=\"T_0c14a_row10_col30\" class=\"data row10 col30\" >88932</td>\n",
       "      <td id=\"T_0c14a_row10_col31\" class=\"data row10 col31\" >[]</td>\n",
       "      <td id=\"T_0c14a_row10_col32\" class=\"data row10 col32\" >2023-02-25T20:31:08</td>\n",
       "      <td id=\"T_0c14a_row10_col33\" class=\"data row10 col33\" >['susbrock', 'model_DB', 'vza09c9w']</td>\n",
       "      <td id=\"T_0c14a_row10_col34\" class=\"data row10 col34\" >None</td>\n",
       "      <td id=\"T_0c14a_row10_col35\" class=\"data row10 col35\" >0.000000</td>\n",
       "      <td id=\"T_0c14a_row10_col36\" class=\"data row10 col36\" >54.000000</td>\n",
       "      <td id=\"T_0c14a_row10_col37\" class=\"data row10 col37\" >178.851562</td>\n",
       "      <td id=\"T_0c14a_row10_col38\" class=\"data row10 col38\" >86.847656</td>\n",
       "    </tr>\n",
       "    <tr>\n",
       "      <th id=\"T_0c14a_level0_row11\" class=\"row_heading level0 row11\" >11</th>\n",
       "      <td id=\"T_0c14a_row11_col0\" class=\"data row11 col0\" >ugmcfb7n</td>\n",
       "      <td id=\"T_0c14a_row11_col1\" class=\"data row11 col1\" >mobilenetv2_0.2_96_c3_o2_t5l256.MV1</td>\n",
       "      <td id=\"T_0c14a_row11_col2\" class=\"data row11 col2\" >finished</td>\n",
       "      <td id=\"T_0c14a_row11_col3\" class=\"data row11 col3\" >2.681 M</td>\n",
       "      <td id=\"T_0c14a_row11_col4\" class=\"data row11 col4\" ><a target=\"_blank\" href=\"https://wandb.ai/susbrock/model_DB/runs/ugmcfb7n\">https://wandb.ai/susbrock/model_DB/runs/ugmcfb7n</a></td>\n",
       "      <td id=\"T_0c14a_row11_col5\" class=\"data row11 col5\" >mobilenetv2_0.2_96_c3_o2_t5l256.MV1</td>\n",
       "      <td id=\"T_0c14a_row11_col6\" class=\"data row11 col6\" >5.745 M</td>\n",
       "      <td id=\"T_0c14a_row11_col7\" class=\"data row11 col7\" >0.2</td>\n",
       "      <td id=\"T_0c14a_row11_col8\" class=\"data row11 col8\" >2</td>\n",
       "      <td id=\"T_0c14a_row11_col9\" class=\"data row11 col9\" >96</td>\n",
       "      <td id=\"T_0c14a_row11_col10\" class=\"data row11 col10\" >5950605</td>\n",
       "      <td id=\"T_0c14a_row11_col11\" class=\"data row11 col11\" >3</td>\n",
       "      <td id=\"T_0c14a_row11_col12\" class=\"data row11 col12\" >2681171</td>\n",
       "      <td id=\"T_0c14a_row11_col13\" class=\"data row11 col13\" >t5l256.MV1</td>\n",
       "      <td id=\"T_0c14a_row11_col14\" class=\"data row11 col14\" >0.004381</td>\n",
       "      <td id=\"T_0c14a_row11_col15\" class=\"data row11 col15\" >94834</td>\n",
       "      <td id=\"T_0c14a_row11_col16\" class=\"data row11 col16\" >6061205</td>\n",
       "      <td id=\"T_0c14a_row11_col17\" class=\"data row11 col17\" >827.976562</td>\n",
       "      <td id=\"T_0c14a_row11_col18\" class=\"data row11 col18\" >55296.000000</td>\n",
       "      <td id=\"T_0c14a_row11_col19\" class=\"data row11 col19\" >2681171</td>\n",
       "      <td id=\"T_0c14a_row11_col20\" class=\"data row11 col20\" >0.004580</td>\n",
       "      <td id=\"T_0c14a_row11_col21\" class=\"data row11 col21\" >89102</td>\n",
       "      <td id=\"T_0c14a_row11_col22\" class=\"data row11 col22\" >5732</td>\n",
       "      <td id=\"T_0c14a_row11_col23\" class=\"data row11 col23\" >358.421875</td>\n",
       "      <td id=\"T_0c14a_row11_col24\" class=\"data row11 col24\" >367024</td>\n",
       "      <td id=\"T_0c14a_row11_col25\" class=\"data row11 col25\" >0</td>\n",
       "      <td id=\"T_0c14a_row11_col26\" class=\"data row11 col26\" >190.601562</td>\n",
       "      <td id=\"T_0c14a_row11_col27\" class=\"data row11 col27\" >195176</td>\n",
       "      <td id=\"T_0c14a_row11_col28\" class=\"data row11 col28\" >218108</td>\n",
       "      <td id=\"T_0c14a_row11_col29\" class=\"data row11 col29\" >0</td>\n",
       "      <td id=\"T_0c14a_row11_col30\" class=\"data row11 col30\" >89956</td>\n",
       "      <td id=\"T_0c14a_row11_col31\" class=\"data row11 col31\" >[]</td>\n",
       "      <td id=\"T_0c14a_row11_col32\" class=\"data row11 col32\" >2023-02-25T20:28:58</td>\n",
       "      <td id=\"T_0c14a_row11_col33\" class=\"data row11 col33\" >['susbrock', 'model_DB', 'ugmcfb7n']</td>\n",
       "      <td id=\"T_0c14a_row11_col34\" class=\"data row11 col34\" >None</td>\n",
       "      <td id=\"T_0c14a_row11_col35\" class=\"data row11 col35\" >0.000000</td>\n",
       "      <td id=\"T_0c14a_row11_col36\" class=\"data row11 col36\" >54.000000</td>\n",
       "      <td id=\"T_0c14a_row11_col37\" class=\"data row11 col37\" >190.601562</td>\n",
       "      <td id=\"T_0c14a_row11_col38\" class=\"data row11 col38\" >87.847656</td>\n",
       "    </tr>\n",
       "    <tr>\n",
       "      <th id=\"T_0c14a_level0_row12\" class=\"row_heading level0 row12\" >12</th>\n",
       "      <td id=\"T_0c14a_row12_col0\" class=\"data row12 col0\" >plnel4j1</td>\n",
       "      <td id=\"T_0c14a_row12_col1\" class=\"data row12 col1\" >mobilenetv2_0.2_96_c3_o2_t5l512.MV1</td>\n",
       "      <td id=\"T_0c14a_row12_col2\" class=\"data row12 col2\" >finished</td>\n",
       "      <td id=\"T_0c14a_row12_col3\" class=\"data row12 col3\" >2.829 M</td>\n",
       "      <td id=\"T_0c14a_row12_col4\" class=\"data row12 col4\" ><a target=\"_blank\" href=\"https://wandb.ai/susbrock/model_DB/runs/plnel4j1\">https://wandb.ai/susbrock/model_DB/runs/plnel4j1</a></td>\n",
       "      <td id=\"T_0c14a_row12_col5\" class=\"data row12 col5\" >mobilenetv2_0.2_96_c3_o2_t5l512.MV1</td>\n",
       "      <td id=\"T_0c14a_row12_col6\" class=\"data row12 col6\" >6.048 M</td>\n",
       "      <td id=\"T_0c14a_row12_col7\" class=\"data row12 col7\" >0.2</td>\n",
       "      <td id=\"T_0c14a_row12_col8\" class=\"data row12 col8\" >2</td>\n",
       "      <td id=\"T_0c14a_row12_col9\" class=\"data row12 col9\" >96</td>\n",
       "      <td id=\"T_0c14a_row12_col10\" class=\"data row12 col10\" >6256013</td>\n",
       "      <td id=\"T_0c14a_row12_col11\" class=\"data row12 col11\" >3</td>\n",
       "      <td id=\"T_0c14a_row12_col12\" class=\"data row12 col12\" >2829139</td>\n",
       "      <td id=\"T_0c14a_row12_col13\" class=\"data row12 col13\" >t5l512.MV1</td>\n",
       "      <td id=\"T_0c14a_row12_col14\" class=\"data row12 col14\" >0.004426</td>\n",
       "      <td id=\"T_0c14a_row12_col15\" class=\"data row12 col15\" >112754</td>\n",
       "      <td id=\"T_0c14a_row12_col16\" class=\"data row12 col16\" >6366613</td>\n",
       "      <td id=\"T_0c14a_row12_col17\" class=\"data row12 col17\" >898.031250</td>\n",
       "      <td id=\"T_0c14a_row12_col18\" class=\"data row12 col18\" >55296.000000</td>\n",
       "      <td id=\"T_0c14a_row12_col19\" class=\"data row12 col19\" >2829139</td>\n",
       "      <td id=\"T_0c14a_row12_col20\" class=\"data row12 col20\" >0.004626</td>\n",
       "      <td id=\"T_0c14a_row12_col21\" class=\"data row12 col21\" >106510</td>\n",
       "      <td id=\"T_0c14a_row12_col22\" class=\"data row12 col22\" >6244</td>\n",
       "      <td id=\"T_0c14a_row12_col23\" class=\"data row12 col23\" >425.421875</td>\n",
       "      <td id=\"T_0c14a_row12_col24\" class=\"data row12 col24\" >435632</td>\n",
       "      <td id=\"T_0c14a_row12_col25\" class=\"data row12 col25\" >0</td>\n",
       "      <td id=\"T_0c14a_row12_col26\" class=\"data row12 col26\" >214.101562</td>\n",
       "      <td id=\"T_0c14a_row12_col27\" class=\"data row12 col27\" >219240</td>\n",
       "      <td id=\"T_0c14a_row12_col28\" class=\"data row12 col28\" >220156</td>\n",
       "      <td id=\"T_0c14a_row12_col29\" class=\"data row12 col29\" >0</td>\n",
       "      <td id=\"T_0c14a_row12_col30\" class=\"data row12 col30\" >92004</td>\n",
       "      <td id=\"T_0c14a_row12_col31\" class=\"data row12 col31\" >[]</td>\n",
       "      <td id=\"T_0c14a_row12_col32\" class=\"data row12 col32\" >2023-02-25T20:26:48</td>\n",
       "      <td id=\"T_0c14a_row12_col33\" class=\"data row12 col33\" >['susbrock', 'model_DB', 'plnel4j1']</td>\n",
       "      <td id=\"T_0c14a_row12_col34\" class=\"data row12 col34\" >None</td>\n",
       "      <td id=\"T_0c14a_row12_col35\" class=\"data row12 col35\" >0.000000</td>\n",
       "      <td id=\"T_0c14a_row12_col36\" class=\"data row12 col36\" >54.000000</td>\n",
       "      <td id=\"T_0c14a_row12_col37\" class=\"data row12 col37\" >214.101562</td>\n",
       "      <td id=\"T_0c14a_row12_col38\" class=\"data row12 col38\" >89.847656</td>\n",
       "    </tr>\n",
       "    <tr>\n",
       "      <th id=\"T_0c14a_level0_row13\" class=\"row_heading level0 row13\" >13</th>\n",
       "      <td id=\"T_0c14a_row13_col0\" class=\"data row13 col0\" >961nygg8</td>\n",
       "      <td id=\"T_0c14a_row13_col1\" class=\"data row13 col1\" >mobilenetv2_0.2_96_c3_o2_t5l1024.MV1</td>\n",
       "      <td id=\"T_0c14a_row13_col2\" class=\"data row13 col2\" >finished</td>\n",
       "      <td id=\"T_0c14a_row13_col3\" class=\"data row13 col3\" >3.125 M</td>\n",
       "      <td id=\"T_0c14a_row13_col4\" class=\"data row13 col4\" ><a target=\"_blank\" href=\"https://wandb.ai/susbrock/model_DB/runs/961nygg8\">https://wandb.ai/susbrock/model_DB/runs/961nygg8</a></td>\n",
       "      <td id=\"T_0c14a_row13_col5\" class=\"data row13 col5\" >mobilenetv2_0.2_96_c3_o2_t5l1024.MV1</td>\n",
       "      <td id=\"T_0c14a_row13_col6\" class=\"data row13 col6\" >6.654 M</td>\n",
       "      <td id=\"T_0c14a_row13_col7\" class=\"data row13 col7\" >0.2</td>\n",
       "      <td id=\"T_0c14a_row13_col8\" class=\"data row13 col8\" >2</td>\n",
       "      <td id=\"T_0c14a_row13_col9\" class=\"data row13 col9\" >96</td>\n",
       "      <td id=\"T_0c14a_row13_col10\" class=\"data row13 col10\" >6866829</td>\n",
       "      <td id=\"T_0c14a_row13_col11\" class=\"data row13 col11\" >3</td>\n",
       "      <td id=\"T_0c14a_row13_col12\" class=\"data row13 col12\" >3125075</td>\n",
       "      <td id=\"T_0c14a_row13_col13\" class=\"data row13 col13\" >t5l1024.MV1</td>\n",
       "      <td id=\"T_0c14a_row13_col14\" class=\"data row13 col14\" >0.004417</td>\n",
       "      <td id=\"T_0c14a_row13_col15\" class=\"data row13 col15\" >148594</td>\n",
       "      <td id=\"T_0c14a_row13_col16\" class=\"data row13 col16\" >6977429</td>\n",
       "      <td id=\"T_0c14a_row13_col17\" class=\"data row13 col17\" >1038.031250</td>\n",
       "      <td id=\"T_0c14a_row13_col18\" class=\"data row13 col18\" >55296.000000</td>\n",
       "      <td id=\"T_0c14a_row13_col19\" class=\"data row13 col19\" >3125075</td>\n",
       "      <td id=\"T_0c14a_row13_col20\" class=\"data row13 col20\" >0.004616</td>\n",
       "      <td id=\"T_0c14a_row13_col21\" class=\"data row13 col21\" >141326</td>\n",
       "      <td id=\"T_0c14a_row13_col22\" class=\"data row13 col22\" >7268</td>\n",
       "      <td id=\"T_0c14a_row13_col23\" class=\"data row13 col23\" >559.421875</td>\n",
       "      <td id=\"T_0c14a_row13_col24\" class=\"data row13 col24\" >572848</td>\n",
       "      <td id=\"T_0c14a_row13_col25\" class=\"data row13 col25\" >0</td>\n",
       "      <td id=\"T_0c14a_row13_col26\" class=\"data row13 col26\" >261.101562</td>\n",
       "      <td id=\"T_0c14a_row13_col27\" class=\"data row13 col27\" >267368</td>\n",
       "      <td id=\"T_0c14a_row13_col28\" class=\"data row13 col28\" >224252</td>\n",
       "      <td id=\"T_0c14a_row13_col29\" class=\"data row13 col29\" >0</td>\n",
       "      <td id=\"T_0c14a_row13_col30\" class=\"data row13 col30\" >96100</td>\n",
       "      <td id=\"T_0c14a_row13_col31\" class=\"data row13 col31\" >[]</td>\n",
       "      <td id=\"T_0c14a_row13_col32\" class=\"data row13 col32\" >2023-02-25T20:21:50</td>\n",
       "      <td id=\"T_0c14a_row13_col33\" class=\"data row13 col33\" >['susbrock', 'model_DB', '961nygg8']</td>\n",
       "      <td id=\"T_0c14a_row13_col34\" class=\"data row13 col34\" >None</td>\n",
       "      <td id=\"T_0c14a_row13_col35\" class=\"data row13 col35\" >0.000000</td>\n",
       "      <td id=\"T_0c14a_row13_col36\" class=\"data row13 col36\" >54.000000</td>\n",
       "      <td id=\"T_0c14a_row13_col37\" class=\"data row13 col37\" >261.101562</td>\n",
       "      <td id=\"T_0c14a_row13_col38\" class=\"data row13 col38\" >93.847656</td>\n",
       "    </tr>\n",
       "    <tr>\n",
       "      <th id=\"T_0c14a_level0_row14\" class=\"row_heading level0 row14\" >14</th>\n",
       "      <td id=\"T_0c14a_row14_col0\" class=\"data row14 col0\" >9sv5r00v</td>\n",
       "      <td id=\"T_0c14a_row14_col1\" class=\"data row14 col1\" >mobilenetv2_0.2_96_c3_o2_t6l1024.MV1</td>\n",
       "      <td id=\"T_0c14a_row14_col2\" class=\"data row14 col2\" >finished</td>\n",
       "      <td id=\"T_0c14a_row14_col3\" class=\"data row14 col3\" >3.488 M</td>\n",
       "      <td id=\"T_0c14a_row14_col4\" class=\"data row14 col4\" ><a target=\"_blank\" href=\"https://wandb.ai/susbrock/model_DB/runs/9sv5r00v\">https://wandb.ai/susbrock/model_DB/runs/9sv5r00v</a></td>\n",
       "      <td id=\"T_0c14a_row14_col5\" class=\"data row14 col5\" >mobilenetv2_0.2_96_c3_o2_t6l1024.MV1</td>\n",
       "      <td id=\"T_0c14a_row14_col6\" class=\"data row14 col6\" >7.439 M</td>\n",
       "      <td id=\"T_0c14a_row14_col7\" class=\"data row14 col7\" >0.2</td>\n",
       "      <td id=\"T_0c14a_row14_col8\" class=\"data row14 col8\" >2</td>\n",
       "      <td id=\"T_0c14a_row14_col9\" class=\"data row14 col9\" >96</td>\n",
       "      <td id=\"T_0c14a_row14_col10\" class=\"data row14 col10\" >7680888</td>\n",
       "      <td id=\"T_0c14a_row14_col11\" class=\"data row14 col11\" >3</td>\n",
       "      <td id=\"T_0c14a_row14_col12\" class=\"data row14 col12\" >3487946</td>\n",
       "      <td id=\"T_0c14a_row14_col13\" class=\"data row14 col13\" >t6l1024.MV1</td>\n",
       "      <td id=\"T_0c14a_row14_col14\" class=\"data row14 col14\" >0.004602</td>\n",
       "      <td id=\"T_0c14a_row14_col15\" class=\"data row14 col15\" >163666</td>\n",
       "      <td id=\"T_0c14a_row14_col16\" class=\"data row14 col16\" >7791488</td>\n",
       "      <td id=\"T_0c14a_row14_col17\" class=\"data row14 col17\" >1095.523438</td>\n",
       "      <td id=\"T_0c14a_row14_col18\" class=\"data row14 col18\" >55296.000000</td>\n",
       "      <td id=\"T_0c14a_row14_col19\" class=\"data row14 col19\" >3487946</td>\n",
       "      <td id=\"T_0c14a_row14_col20\" class=\"data row14 col20\" >0.004801</td>\n",
       "      <td id=\"T_0c14a_row14_col21\" class=\"data row14 col21\" >155478</td>\n",
       "      <td id=\"T_0c14a_row14_col22\" class=\"data row14 col22\" >8188</td>\n",
       "      <td id=\"T_0c14a_row14_col23\" class=\"data row14 col23\" >611.406250</td>\n",
       "      <td id=\"T_0c14a_row14_col24\" class=\"data row14 col24\" >626080</td>\n",
       "      <td id=\"T_0c14a_row14_col25\" class=\"data row14 col25\" >0</td>\n",
       "      <td id=\"T_0c14a_row14_col26\" class=\"data row14 col26\" >285.085938</td>\n",
       "      <td id=\"T_0c14a_row14_col27\" class=\"data row14 col27\" >291928</td>\n",
       "      <td id=\"T_0c14a_row14_col28\" class=\"data row14 col28\" >251004</td>\n",
       "      <td id=\"T_0c14a_row14_col29\" class=\"data row14 col29\" >0</td>\n",
       "      <td id=\"T_0c14a_row14_col30\" class=\"data row14 col30\" >99696</td>\n",
       "      <td id=\"T_0c14a_row14_col31\" class=\"data row14 col31\" >[]</td>\n",
       "      <td id=\"T_0c14a_row14_col32\" class=\"data row14 col32\" >2023-02-25T20:18:54</td>\n",
       "      <td id=\"T_0c14a_row14_col33\" class=\"data row14 col33\" >['susbrock', 'model_DB', '9sv5r00v']</td>\n",
       "      <td id=\"T_0c14a_row14_col34\" class=\"data row14 col34\" >None</td>\n",
       "      <td id=\"T_0c14a_row14_col35\" class=\"data row14 col35\" >0.000000</td>\n",
       "      <td id=\"T_0c14a_row14_col36\" class=\"data row14 col36\" >54.000000</td>\n",
       "      <td id=\"T_0c14a_row14_col37\" class=\"data row14 col37\" >285.085938</td>\n",
       "      <td id=\"T_0c14a_row14_col38\" class=\"data row14 col38\" >97.359375</td>\n",
       "    </tr>\n",
       "    <tr>\n",
       "      <th id=\"T_0c14a_level0_row15\" class=\"row_heading level0 row15\" >15</th>\n",
       "      <td id=\"T_0c14a_row15_col0\" class=\"data row15 col0\" >bifxqx73</td>\n",
       "      <td id=\"T_0c14a_row15_col1\" class=\"data row15 col1\" >mobilenetv2_0.1_96_c3_o2_t6l512.MV1</td>\n",
       "      <td id=\"T_0c14a_row15_col2\" class=\"data row15 col2\" >finished</td>\n",
       "      <td id=\"T_0c14a_row15_col3\" class=\"data row15 col3\" >1.469 M</td>\n",
       "      <td id=\"T_0c14a_row15_col4\" class=\"data row15 col4\" ><a target=\"_blank\" href=\"https://wandb.ai/susbrock/model_DB/runs/bifxqx73\">https://wandb.ai/susbrock/model_DB/runs/bifxqx73</a></td>\n",
       "      <td id=\"T_0c14a_row15_col5\" class=\"data row15 col5\" >mobilenetv2_0.1_96_c3_o2_t6l512.MV1</td>\n",
       "      <td id=\"T_0c14a_row15_col6\" class=\"data row15 col6\" >3.189 M</td>\n",
       "      <td id=\"T_0c14a_row15_col7\" class=\"data row15 col7\" >0.1</td>\n",
       "      <td id=\"T_0c14a_row15_col8\" class=\"data row15 col8\" >2</td>\n",
       "      <td id=\"T_0c14a_row15_col9\" class=\"data row15 col9\" >96</td>\n",
       "      <td id=\"T_0c14a_row15_col10\" class=\"data row15 col10\" >3317828</td>\n",
       "      <td id=\"T_0c14a_row15_col11\" class=\"data row15 col11\" >3</td>\n",
       "      <td id=\"T_0c14a_row15_col12\" class=\"data row15 col12\" >1469446</td>\n",
       "      <td id=\"T_0c14a_row15_col13\" class=\"data row15 col13\" >t6l512.MV1</td>\n",
       "      <td id=\"T_0c14a_row15_col14\" class=\"data row15 col14\" >0.003274</td>\n",
       "      <td id=\"T_0c14a_row15_col15\" class=\"data row15 col15\" >48310</td>\n",
       "      <td id=\"T_0c14a_row15_col16\" class=\"data row15 col16\" >3428428</td>\n",
       "      <td id=\"T_0c14a_row15_col17\" class=\"data row15 col17\" >644.851562</td>\n",
       "      <td id=\"T_0c14a_row15_col18\" class=\"data row15 col18\" >55296.000000</td>\n",
       "      <td id=\"T_0c14a_row15_col19\" class=\"data row15 col19\" >1469446</td>\n",
       "      <td id=\"T_0c14a_row15_col20\" class=\"data row15 col20\" >0.003473</td>\n",
       "      <td id=\"T_0c14a_row15_col21\" class=\"data row15 col21\" >44252</td>\n",
       "      <td id=\"T_0c14a_row15_col22\" class=\"data row15 col22\" >4058</td>\n",
       "      <td id=\"T_0c14a_row15_col23\" class=\"data row15 col23\" >189.789062</td>\n",
       "      <td id=\"T_0c14a_row15_col24\" class=\"data row15 col24\" >194344</td>\n",
       "      <td id=\"T_0c14a_row15_col25\" class=\"data row15 col25\" >0</td>\n",
       "      <td id=\"T_0c14a_row15_col26\" class=\"data row15 col26\" >128.921875</td>\n",
       "      <td id=\"T_0c14a_row15_col27\" class=\"data row15 col27\" >132016</td>\n",
       "      <td id=\"T_0c14a_row15_col28\" class=\"data row15 col28\" >211592</td>\n",
       "      <td id=\"T_0c14a_row15_col29\" class=\"data row15 col29\" >0</td>\n",
       "      <td id=\"T_0c14a_row15_col30\" class=\"data row15 col30\" >83404</td>\n",
       "      <td id=\"T_0c14a_row15_col31\" class=\"data row15 col31\" >[]</td>\n",
       "      <td id=\"T_0c14a_row15_col32\" class=\"data row15 col32\" >2023-02-25T10:52:42</td>\n",
       "      <td id=\"T_0c14a_row15_col33\" class=\"data row15 col33\" >['susbrock', 'model_DB', 'bifxqx73']</td>\n",
       "      <td id=\"T_0c14a_row15_col34\" class=\"data row15 col34\" >None</td>\n",
       "      <td id=\"T_0c14a_row15_col35\" class=\"data row15 col35\" >0.000000</td>\n",
       "      <td id=\"T_0c14a_row15_col36\" class=\"data row15 col36\" >54.000000</td>\n",
       "      <td id=\"T_0c14a_row15_col37\" class=\"data row15 col37\" >128.921875</td>\n",
       "      <td id=\"T_0c14a_row15_col38\" class=\"data row15 col38\" >81.449219</td>\n",
       "    </tr>\n",
       "    <tr>\n",
       "      <th id=\"T_0c14a_level0_row16\" class=\"row_heading level0 row16\" >16</th>\n",
       "      <td id=\"T_0c14a_row16_col0\" class=\"data row16 col0\" >22bzuzhv</td>\n",
       "      <td id=\"T_0c14a_row16_col1\" class=\"data row16 col1\" >mobilenetv2_0.1_96_c3_o2_t6l256.MV1</td>\n",
       "      <td id=\"T_0c14a_row16_col2\" class=\"data row16 col2\" >finished</td>\n",
       "      <td id=\"T_0c14a_row16_col3\" class=\"data row16 col3\" >1.395 M</td>\n",
       "      <td id=\"T_0c14a_row16_col4\" class=\"data row16 col4\" ><a target=\"_blank\" href=\"https://wandb.ai/susbrock/model_DB/runs/22bzuzhv\">https://wandb.ai/susbrock/model_DB/runs/22bzuzhv</a></td>\n",
       "      <td id=\"T_0c14a_row16_col5\" class=\"data row16 col5\" >mobilenetv2_0.1_96_c3_o2_t6l256.MV1</td>\n",
       "      <td id=\"T_0c14a_row16_col6\" class=\"data row16 col6\" >3.033 M</td>\n",
       "      <td id=\"T_0c14a_row16_col7\" class=\"data row16 col7\" >0.1</td>\n",
       "      <td id=\"T_0c14a_row16_col8\" class=\"data row16 col8\" >2</td>\n",
       "      <td id=\"T_0c14a_row16_col9\" class=\"data row16 col9\" >96</td>\n",
       "      <td id=\"T_0c14a_row16_col10\" class=\"data row16 col10\" >3159876</td>\n",
       "      <td id=\"T_0c14a_row16_col11\" class=\"data row16 col11\" >3</td>\n",
       "      <td id=\"T_0c14a_row16_col12\" class=\"data row16 col12\" >1395206</td>\n",
       "      <td id=\"T_0c14a_row16_col13\" class=\"data row16 col13\" >t6l256.MV1</td>\n",
       "      <td id=\"T_0c14a_row16_col14\" class=\"data row16 col14\" >0.003230</td>\n",
       "      <td id=\"T_0c14a_row16_col15\" class=\"data row16 col15\" >38582</td>\n",
       "      <td id=\"T_0c14a_row16_col16\" class=\"data row16 col16\" >3270476</td>\n",
       "      <td id=\"T_0c14a_row16_col17\" class=\"data row16 col17\" >606.851562</td>\n",
       "      <td id=\"T_0c14a_row16_col18\" class=\"data row16 col18\" >55296.000000</td>\n",
       "      <td id=\"T_0c14a_row16_col19\" class=\"data row16 col19\" >1395206</td>\n",
       "      <td id=\"T_0c14a_row16_col20\" class=\"data row16 col20\" >0.003429</td>\n",
       "      <td id=\"T_0c14a_row16_col21\" class=\"data row16 col21\" >35036</td>\n",
       "      <td id=\"T_0c14a_row16_col22\" class=\"data row16 col22\" >3546</td>\n",
       "      <td id=\"T_0c14a_row16_col23\" class=\"data row16 col23\" >154.789062</td>\n",
       "      <td id=\"T_0c14a_row16_col24\" class=\"data row16 col24\" >158504</td>\n",
       "      <td id=\"T_0c14a_row16_col25\" class=\"data row16 col25\" >0</td>\n",
       "      <td id=\"T_0c14a_row16_col26\" class=\"data row16 col26\" >113.421875</td>\n",
       "      <td id=\"T_0c14a_row16_col27\" class=\"data row16 col27\" >116144</td>\n",
       "      <td id=\"T_0c14a_row16_col28\" class=\"data row16 col28\" >209544</td>\n",
       "      <td id=\"T_0c14a_row16_col29\" class=\"data row16 col29\" >0</td>\n",
       "      <td id=\"T_0c14a_row16_col30\" class=\"data row16 col30\" >81356</td>\n",
       "      <td id=\"T_0c14a_row16_col31\" class=\"data row16 col31\" >[]</td>\n",
       "      <td id=\"T_0c14a_row16_col32\" class=\"data row16 col32\" >2023-02-25T10:50:17</td>\n",
       "      <td id=\"T_0c14a_row16_col33\" class=\"data row16 col33\" >['susbrock', 'model_DB', '22bzuzhv']</td>\n",
       "      <td id=\"T_0c14a_row16_col34\" class=\"data row16 col34\" >None</td>\n",
       "      <td id=\"T_0c14a_row16_col35\" class=\"data row16 col35\" >0.000000</td>\n",
       "      <td id=\"T_0c14a_row16_col36\" class=\"data row16 col36\" >54.000000</td>\n",
       "      <td id=\"T_0c14a_row16_col37\" class=\"data row16 col37\" >113.421875</td>\n",
       "      <td id=\"T_0c14a_row16_col38\" class=\"data row16 col38\" >79.449219</td>\n",
       "    </tr>\n",
       "    <tr>\n",
       "      <th id=\"T_0c14a_level0_row17\" class=\"row_heading level0 row17\" >17</th>\n",
       "      <td id=\"T_0c14a_row17_col0\" class=\"data row17 col0\" >eitbmrqm</td>\n",
       "      <td id=\"T_0c14a_row17_col1\" class=\"data row17 col1\" >mobilenetv2_0.1_96_c3_o2_t6l128.MV1</td>\n",
       "      <td id=\"T_0c14a_row17_col2\" class=\"data row17 col2\" >finished</td>\n",
       "      <td id=\"T_0c14a_row17_col3\" class=\"data row17 col3\" >1.358 M</td>\n",
       "      <td id=\"T_0c14a_row17_col4\" class=\"data row17 col4\" ><a target=\"_blank\" href=\"https://wandb.ai/susbrock/model_DB/runs/eitbmrqm\">https://wandb.ai/susbrock/model_DB/runs/eitbmrqm</a></td>\n",
       "      <td id=\"T_0c14a_row17_col5\" class=\"data row17 col5\" >mobilenetv2_0.1_96_c3_o2_t6l128.MV1</td>\n",
       "      <td id=\"T_0c14a_row17_col6\" class=\"data row17 col6\" >2.955 M</td>\n",
       "      <td id=\"T_0c14a_row17_col7\" class=\"data row17 col7\" >0.1</td>\n",
       "      <td id=\"T_0c14a_row17_col8\" class=\"data row17 col8\" >2</td>\n",
       "      <td id=\"T_0c14a_row17_col9\" class=\"data row17 col9\" >96</td>\n",
       "      <td id=\"T_0c14a_row17_col10\" class=\"data row17 col10\" >3080900</td>\n",
       "      <td id=\"T_0c14a_row17_col11\" class=\"data row17 col11\" >3</td>\n",
       "      <td id=\"T_0c14a_row17_col12\" class=\"data row17 col12\" >1358086</td>\n",
       "      <td id=\"T_0c14a_row17_col13\" class=\"data row17 col13\" >t6l128.MV1</td>\n",
       "      <td id=\"T_0c14a_row17_col14\" class=\"data row17 col14\" >0.003230</td>\n",
       "      <td id=\"T_0c14a_row17_col15\" class=\"data row17 col15\" >33718</td>\n",
       "      <td id=\"T_0c14a_row17_col16\" class=\"data row17 col16\" >3191500</td>\n",
       "      <td id=\"T_0c14a_row17_col17\" class=\"data row17 col17\" >588.773438</td>\n",
       "      <td id=\"T_0c14a_row17_col18\" class=\"data row17 col18\" >55296.000000</td>\n",
       "      <td id=\"T_0c14a_row17_col19\" class=\"data row17 col19\" >1358086</td>\n",
       "      <td id=\"T_0c14a_row17_col20\" class=\"data row17 col20\" >0.003429</td>\n",
       "      <td id=\"T_0c14a_row17_col21\" class=\"data row17 col21\" >30428</td>\n",
       "      <td id=\"T_0c14a_row17_col22\" class=\"data row17 col22\" >3290</td>\n",
       "      <td id=\"T_0c14a_row17_col23\" class=\"data row17 col23\" >137.289062</td>\n",
       "      <td id=\"T_0c14a_row17_col24\" class=\"data row17 col24\" >140584</td>\n",
       "      <td id=\"T_0c14a_row17_col25\" class=\"data row17 col25\" >0</td>\n",
       "      <td id=\"T_0c14a_row17_col26\" class=\"data row17 col26\" >105.671875</td>\n",
       "      <td id=\"T_0c14a_row17_col27\" class=\"data row17 col27\" >108208</td>\n",
       "      <td id=\"T_0c14a_row17_col28\" class=\"data row17 col28\" >208520</td>\n",
       "      <td id=\"T_0c14a_row17_col29\" class=\"data row17 col29\" >0</td>\n",
       "      <td id=\"T_0c14a_row17_col30\" class=\"data row17 col30\" >80332</td>\n",
       "      <td id=\"T_0c14a_row17_col31\" class=\"data row17 col31\" >[]</td>\n",
       "      <td id=\"T_0c14a_row17_col32\" class=\"data row17 col32\" >2023-02-25T10:47:42</td>\n",
       "      <td id=\"T_0c14a_row17_col33\" class=\"data row17 col33\" >['susbrock', 'model_DB', 'eitbmrqm']</td>\n",
       "      <td id=\"T_0c14a_row17_col34\" class=\"data row17 col34\" >None</td>\n",
       "      <td id=\"T_0c14a_row17_col35\" class=\"data row17 col35\" >0.000000</td>\n",
       "      <td id=\"T_0c14a_row17_col36\" class=\"data row17 col36\" >54.000000</td>\n",
       "      <td id=\"T_0c14a_row17_col37\" class=\"data row17 col37\" >105.671875</td>\n",
       "      <td id=\"T_0c14a_row17_col38\" class=\"data row17 col38\" >78.449219</td>\n",
       "    </tr>\n",
       "    <tr>\n",
       "      <th id=\"T_0c14a_level0_row18\" class=\"row_heading level0 row18\" >18</th>\n",
       "      <td id=\"T_0c14a_row18_col0\" class=\"data row18 col0\" >d4e7lbhl</td>\n",
       "      <td id=\"T_0c14a_row18_col1\" class=\"data row18 col1\" >mobilenetv2_0.1_96_c3_o2_t1l1024.MV1</td>\n",
       "      <td id=\"T_0c14a_row18_col2\" class=\"data row18 col2\" >finished</td>\n",
       "      <td id=\"T_0c14a_row18_col3\" class=\"data row18 col3\" >1.085 M</td>\n",
       "      <td id=\"T_0c14a_row18_col4\" class=\"data row18 col4\" ><a target=\"_blank\" href=\"https://wandb.ai/susbrock/model_DB/runs/d4e7lbhl\">https://wandb.ai/susbrock/model_DB/runs/d4e7lbhl</a></td>\n",
       "      <td id=\"T_0c14a_row18_col5\" class=\"data row18 col5\" >mobilenetv2_0.1_96_c3_o2_t1l1024.MV1</td>\n",
       "      <td id=\"T_0c14a_row18_col6\" class=\"data row18 col6\" >2.303 M</td>\n",
       "      <td id=\"T_0c14a_row18_col7\" class=\"data row18 col7\" >0.1</td>\n",
       "      <td id=\"T_0c14a_row18_col8\" class=\"data row18 col8\" >2</td>\n",
       "      <td id=\"T_0c14a_row18_col9\" class=\"data row18 col9\" >96</td>\n",
       "      <td id=\"T_0c14a_row18_col10\" class=\"data row18 col10\" >2370987</td>\n",
       "      <td id=\"T_0c14a_row18_col11\" class=\"data row18 col11\" >3</td>\n",
       "      <td id=\"T_0c14a_row18_col12\" class=\"data row18 col12\" >1085441</td>\n",
       "      <td id=\"T_0c14a_row18_col13\" class=\"data row18 col13\" >t1l1024.MV1</td>\n",
       "      <td id=\"T_0c14a_row18_col14\" class=\"data row18 col14\" >0.002816</td>\n",
       "      <td id=\"T_0c14a_row18_col15\" class=\"data row18 col15\" >44506</td>\n",
       "      <td id=\"T_0c14a_row18_col16\" class=\"data row18 col16\" >2481587</td>\n",
       "      <td id=\"T_0c14a_row18_col17\" class=\"data row18 col17\" >629.351562</td>\n",
       "      <td id=\"T_0c14a_row18_col18\" class=\"data row18 col18\" >55296.000000</td>\n",
       "      <td id=\"T_0c14a_row18_col19\" class=\"data row18 col19\" >1085441</td>\n",
       "      <td id=\"T_0c14a_row18_col20\" class=\"data row18 col20\" >0.003015</td>\n",
       "      <td id=\"T_0c14a_row18_col21\" class=\"data row18 col21\" >41684</td>\n",
       "      <td id=\"T_0c14a_row18_col22\" class=\"data row18 col22\" >2822</td>\n",
       "      <td id=\"T_0c14a_row18_col23\" class=\"data row18 col23\" >185.238281</td>\n",
       "      <td id=\"T_0c14a_row18_col24\" class=\"data row18 col24\" >189684</td>\n",
       "      <td id=\"T_0c14a_row18_col25\" class=\"data row18 col25\" >0</td>\n",
       "      <td id=\"T_0c14a_row18_col26\" class=\"data row18 col26\" >114.570312</td>\n",
       "      <td id=\"T_0c14a_row18_col27\" class=\"data row18 col27\" >117320</td>\n",
       "      <td id=\"T_0c14a_row18_col28\" class=\"data row18 col28\" >206788</td>\n",
       "      <td id=\"T_0c14a_row18_col29\" class=\"data row18 col29\" >0</td>\n",
       "      <td id=\"T_0c14a_row18_col30\" class=\"data row18 col30\" >78772</td>\n",
       "      <td id=\"T_0c14a_row18_col31\" class=\"data row18 col31\" >[]</td>\n",
       "      <td id=\"T_0c14a_row18_col32\" class=\"data row18 col32\" >2023-02-25T10:45:12</td>\n",
       "      <td id=\"T_0c14a_row18_col33\" class=\"data row18 col33\" >['susbrock', 'model_DB', 'd4e7lbhl']</td>\n",
       "      <td id=\"T_0c14a_row18_col34\" class=\"data row18 col34\" >None</td>\n",
       "      <td id=\"T_0c14a_row18_col35\" class=\"data row18 col35\" >0.748791</td>\n",
       "      <td id=\"T_0c14a_row18_col36\" class=\"data row18 col36\" >54.000000</td>\n",
       "      <td id=\"T_0c14a_row18_col37\" class=\"data row18 col37\" >114.570312</td>\n",
       "      <td id=\"T_0c14a_row18_col38\" class=\"data row18 col38\" >76.925781</td>\n",
       "    </tr>\n",
       "    <tr>\n",
       "      <th id=\"T_0c14a_level0_row19\" class=\"row_heading level0 row19\" >19</th>\n",
       "      <td id=\"T_0c14a_row19_col0\" class=\"data row19 col0\" >yqbs8c2d</td>\n",
       "      <td id=\"T_0c14a_row19_col1\" class=\"data row19 col1\" >mobilenetv2_0.1_96_c3_o2_t2l1024.MV1</td>\n",
       "      <td id=\"T_0c14a_row19_col2\" class=\"data row19 col2\" >finished</td>\n",
       "      <td id=\"T_0c14a_row19_col3\" class=\"data row19 col3\" >1.192 M</td>\n",
       "      <td id=\"T_0c14a_row19_col4\" class=\"data row19 col4\" ><a target=\"_blank\" href=\"https://wandb.ai/susbrock/model_DB/runs/yqbs8c2d\">https://wandb.ai/susbrock/model_DB/runs/yqbs8c2d</a></td>\n",
       "      <td id=\"T_0c14a_row19_col5\" class=\"data row19 col5\" >mobilenetv2_0.1_96_c3_o2_t2l1024.MV1</td>\n",
       "      <td id=\"T_0c14a_row19_col6\" class=\"data row19 col6\" >2.543 M</td>\n",
       "      <td id=\"T_0c14a_row19_col7\" class=\"data row19 col7\" >0.1</td>\n",
       "      <td id=\"T_0c14a_row19_col8\" class=\"data row19 col8\" >2</td>\n",
       "      <td id=\"T_0c14a_row19_col9\" class=\"data row19 col9\" >96</td>\n",
       "      <td id=\"T_0c14a_row19_col10\" class=\"data row19 col10\" >2623536</td>\n",
       "      <td id=\"T_0c14a_row19_col11\" class=\"data row19 col11\" >3</td>\n",
       "      <td id=\"T_0c14a_row19_col12\" class=\"data row19 col12\" >1191938</td>\n",
       "      <td id=\"T_0c14a_row19_col13\" class=\"data row19 col13\" >t2l1024.MV1</td>\n",
       "      <td id=\"T_0c14a_row19_col14\" class=\"data row19 col14\" >0.002853</td>\n",
       "      <td id=\"T_0c14a_row19_col15\" class=\"data row19 col15\" >49158</td>\n",
       "      <td id=\"T_0c14a_row19_col16\" class=\"data row19 col16\" >2734136</td>\n",
       "      <td id=\"T_0c14a_row19_col17\" class=\"data row19 col17\" >649.351562</td>\n",
       "      <td id=\"T_0c14a_row19_col18\" class=\"data row19 col18\" >55296.000000</td>\n",
       "      <td id=\"T_0c14a_row19_col19\" class=\"data row19 col19\" >1191938</td>\n",
       "      <td id=\"T_0c14a_row19_col20\" class=\"data row19 col20\" >0.003052</td>\n",
       "      <td id=\"T_0c14a_row19_col21\" class=\"data row19 col21\" >45884</td>\n",
       "      <td id=\"T_0c14a_row19_col22\" class=\"data row19 col22\" >3274</td>\n",
       "      <td id=\"T_0c14a_row19_col23\" class=\"data row19 col23\" >200.511719</td>\n",
       "      <td id=\"T_0c14a_row19_col24\" class=\"data row19 col24\" >205324</td>\n",
       "      <td id=\"T_0c14a_row19_col25\" class=\"data row19 col25\" >0</td>\n",
       "      <td id=\"T_0c14a_row19_col26\" class=\"data row19 col26\" >123.593750</td>\n",
       "      <td id=\"T_0c14a_row19_col27\" class=\"data row19 col27\" >126560</td>\n",
       "      <td id=\"T_0c14a_row19_col28\" class=\"data row19 col28\" >208544</td>\n",
       "      <td id=\"T_0c14a_row19_col29\" class=\"data row19 col29\" >0</td>\n",
       "      <td id=\"T_0c14a_row19_col30\" class=\"data row19 col30\" >80332</td>\n",
       "      <td id=\"T_0c14a_row19_col31\" class=\"data row19 col31\" >[]</td>\n",
       "      <td id=\"T_0c14a_row19_col32\" class=\"data row19 col32\" >2023-02-25T10:42:52</td>\n",
       "      <td id=\"T_0c14a_row19_col33\" class=\"data row19 col33\" >['susbrock', 'model_DB', 'yqbs8c2d']</td>\n",
       "      <td id=\"T_0c14a_row19_col34\" class=\"data row19 col34\" >None</td>\n",
       "      <td id=\"T_0c14a_row19_col35\" class=\"data row19 col35\" >0.763021</td>\n",
       "      <td id=\"T_0c14a_row19_col36\" class=\"data row19 col36\" >54.000000</td>\n",
       "      <td id=\"T_0c14a_row19_col37\" class=\"data row19 col37\" >123.593750</td>\n",
       "      <td id=\"T_0c14a_row19_col38\" class=\"data row19 col38\" >78.449219</td>\n",
       "    </tr>\n",
       "    <tr>\n",
       "      <th id=\"T_0c14a_level0_row20\" class=\"row_heading level0 row20\" >20</th>\n",
       "      <td id=\"T_0c14a_row20_col0\" class=\"data row20 col0\" >f8jsvkj6</td>\n",
       "      <td id=\"T_0c14a_row20_col1\" class=\"data row20 col1\" >mobilenetv2_0.1_96_c3_o2_t3l1024.MV1</td>\n",
       "      <td id=\"T_0c14a_row20_col2\" class=\"data row20 col2\" >finished</td>\n",
       "      <td id=\"T_0c14a_row20_col3\" class=\"data row20 col3\" >1.298 M</td>\n",
       "      <td id=\"T_0c14a_row20_col4\" class=\"data row20 col4\" ><a target=\"_blank\" href=\"https://wandb.ai/susbrock/model_DB/runs/f8jsvkj6\">https://wandb.ai/susbrock/model_DB/runs/f8jsvkj6</a></td>\n",
       "      <td id=\"T_0c14a_row20_col5\" class=\"data row20 col5\" >mobilenetv2_0.1_96_c3_o2_t3l1024.MV1</td>\n",
       "      <td id=\"T_0c14a_row20_col6\" class=\"data row20 col6\" >2.782 M</td>\n",
       "      <td id=\"T_0c14a_row20_col7\" class=\"data row20 col7\" >0.1</td>\n",
       "      <td id=\"T_0c14a_row20_col8\" class=\"data row20 col8\" >2</td>\n",
       "      <td id=\"T_0c14a_row20_col9\" class=\"data row20 col9\" >96</td>\n",
       "      <td id=\"T_0c14a_row20_col10\" class=\"data row20 col10\" >2876085</td>\n",
       "      <td id=\"T_0c14a_row20_col11\" class=\"data row20 col11\" >3</td>\n",
       "      <td id=\"T_0c14a_row20_col12\" class=\"data row20 col12\" >1298435</td>\n",
       "      <td id=\"T_0c14a_row20_col13\" class=\"data row20 col13\" >t3l1024.MV1</td>\n",
       "      <td id=\"T_0c14a_row20_col14\" class=\"data row20 col14\" >0.002935</td>\n",
       "      <td id=\"T_0c14a_row20_col15\" class=\"data row20 col15\" >53810</td>\n",
       "      <td id=\"T_0c14a_row20_col16\" class=\"data row20 col16\" >2986685</td>\n",
       "      <td id=\"T_0c14a_row20_col17\" class=\"data row20 col17\" >666.367188</td>\n",
       "      <td id=\"T_0c14a_row20_col18\" class=\"data row20 col18\" >55296.000000</td>\n",
       "      <td id=\"T_0c14a_row20_col19\" class=\"data row20 col19\" >1298435</td>\n",
       "      <td id=\"T_0c14a_row20_col20\" class=\"data row20 col20\" >0.003134</td>\n",
       "      <td id=\"T_0c14a_row20_col21\" class=\"data row20 col21\" >50084</td>\n",
       "      <td id=\"T_0c14a_row20_col22\" class=\"data row20 col22\" >3726</td>\n",
       "      <td id=\"T_0c14a_row20_col23\" class=\"data row20 col23\" >215.406250</td>\n",
       "      <td id=\"T_0c14a_row20_col24\" class=\"data row20 col24\" >220576</td>\n",
       "      <td id=\"T_0c14a_row20_col25\" class=\"data row20 col25\" >0</td>\n",
       "      <td id=\"T_0c14a_row20_col26\" class=\"data row20 col26\" >132.890625</td>\n",
       "      <td id=\"T_0c14a_row20_col27\" class=\"data row20 col27\" >136080</td>\n",
       "      <td id=\"T_0c14a_row20_col28\" class=\"data row20 col28\" >210464</td>\n",
       "      <td id=\"T_0c14a_row20_col29\" class=\"data row20 col29\" >0</td>\n",
       "      <td id=\"T_0c14a_row20_col30\" class=\"data row20 col30\" >82356</td>\n",
       "      <td id=\"T_0c14a_row20_col31\" class=\"data row20 col31\" >[]</td>\n",
       "      <td id=\"T_0c14a_row20_col32\" class=\"data row20 col32\" >2023-02-25T10:40:40</td>\n",
       "      <td id=\"T_0c14a_row20_col33\" class=\"data row20 col33\" >['susbrock', 'model_DB', 'f8jsvkj6']</td>\n",
       "      <td id=\"T_0c14a_row20_col34\" class=\"data row20 col34\" >None</td>\n",
       "      <td id=\"T_0c14a_row20_col35\" class=\"data row20 col35\" >0.000000</td>\n",
       "      <td id=\"T_0c14a_row20_col36\" class=\"data row20 col36\" >54.000000</td>\n",
       "      <td id=\"T_0c14a_row20_col37\" class=\"data row20 col37\" >132.890625</td>\n",
       "      <td id=\"T_0c14a_row20_col38\" class=\"data row20 col38\" >80.425781</td>\n",
       "    </tr>\n",
       "    <tr>\n",
       "      <th id=\"T_0c14a_level0_row21\" class=\"row_heading level0 row21\" >21</th>\n",
       "      <td id=\"T_0c14a_row21_col0\" class=\"data row21 col0\" >6oq96cks</td>\n",
       "      <td id=\"T_0c14a_row21_col1\" class=\"data row21 col1\" >mobilenetv2_0.1_96_c3_o2_t4l1024.MV1</td>\n",
       "      <td id=\"T_0c14a_row21_col2\" class=\"data row21 col2\" >finished</td>\n",
       "      <td id=\"T_0c14a_row21_col3\" class=\"data row21 col3\" >1.405 M</td>\n",
       "      <td id=\"T_0c14a_row21_col4\" class=\"data row21 col4\" ><a target=\"_blank\" href=\"https://wandb.ai/susbrock/model_DB/runs/6oq96cks\">https://wandb.ai/susbrock/model_DB/runs/6oq96cks</a></td>\n",
       "      <td id=\"T_0c14a_row21_col5\" class=\"data row21 col5\" >mobilenetv2_0.1_96_c3_o2_t4l1024.MV1</td>\n",
       "      <td id=\"T_0c14a_row21_col6\" class=\"data row21 col6\" >3.021 M</td>\n",
       "      <td id=\"T_0c14a_row21_col7\" class=\"data row21 col7\" >0.1</td>\n",
       "      <td id=\"T_0c14a_row21_col8\" class=\"data row21 col8\" >2</td>\n",
       "      <td id=\"T_0c14a_row21_col9\" class=\"data row21 col9\" >96</td>\n",
       "      <td id=\"T_0c14a_row21_col10\" class=\"data row21 col10\" >3128634</td>\n",
       "      <td id=\"T_0c14a_row21_col11\" class=\"data row21 col11\" >3</td>\n",
       "      <td id=\"T_0c14a_row21_col12\" class=\"data row21 col12\" >1404932</td>\n",
       "      <td id=\"T_0c14a_row21_col13\" class=\"data row21 col13\" >t4l1024.MV1</td>\n",
       "      <td id=\"T_0c14a_row21_col14\" class=\"data row21 col14\" >0.003029</td>\n",
       "      <td id=\"T_0c14a_row21_col15\" class=\"data row21 col15\" >58462</td>\n",
       "      <td id=\"T_0c14a_row21_col16\" class=\"data row21 col16\" >3239234</td>\n",
       "      <td id=\"T_0c14a_row21_col17\" class=\"data row21 col17\" >684.351562</td>\n",
       "      <td id=\"T_0c14a_row21_col18\" class=\"data row21 col18\" >55296.000000</td>\n",
       "      <td id=\"T_0c14a_row21_col19\" class=\"data row21 col19\" >1404932</td>\n",
       "      <td id=\"T_0c14a_row21_col20\" class=\"data row21 col20\" >0.003228</td>\n",
       "      <td id=\"T_0c14a_row21_col21\" class=\"data row21 col21\" >54284</td>\n",
       "      <td id=\"T_0c14a_row21_col22\" class=\"data row21 col22\" >4178</td>\n",
       "      <td id=\"T_0c14a_row21_col23\" class=\"data row21 col23\" >230.234375</td>\n",
       "      <td id=\"T_0c14a_row21_col24\" class=\"data row21 col24\" >235760</td>\n",
       "      <td id=\"T_0c14a_row21_col25\" class=\"data row21 col25\" >0</td>\n",
       "      <td id=\"T_0c14a_row21_col26\" class=\"data row21 col26\" >141.710938</td>\n",
       "      <td id=\"T_0c14a_row21_col27\" class=\"data row21 col27\" >145112</td>\n",
       "      <td id=\"T_0c14a_row21_col28\" class=\"data row21 col28\" >211848</td>\n",
       "      <td id=\"T_0c14a_row21_col29\" class=\"data row21 col29\" >0</td>\n",
       "      <td id=\"T_0c14a_row21_col30\" class=\"data row21 col30\" >83688</td>\n",
       "      <td id=\"T_0c14a_row21_col31\" class=\"data row21 col31\" >[]</td>\n",
       "      <td id=\"T_0c14a_row21_col32\" class=\"data row21 col32\" >2023-02-25T10:38:38</td>\n",
       "      <td id=\"T_0c14a_row21_col33\" class=\"data row21 col33\" >['susbrock', 'model_DB', '6oq96cks']</td>\n",
       "      <td id=\"T_0c14a_row21_col34\" class=\"data row21 col34\" >None</td>\n",
       "      <td id=\"T_0c14a_row21_col35\" class=\"data row21 col35\" >0.000000</td>\n",
       "      <td id=\"T_0c14a_row21_col36\" class=\"data row21 col36\" >54.000000</td>\n",
       "      <td id=\"T_0c14a_row21_col37\" class=\"data row21 col37\" >141.710938</td>\n",
       "      <td id=\"T_0c14a_row21_col38\" class=\"data row21 col38\" >81.726562</td>\n",
       "    </tr>\n",
       "    <tr>\n",
       "      <th id=\"T_0c14a_level0_row22\" class=\"row_heading level0 row22\" >22</th>\n",
       "      <td id=\"T_0c14a_row22_col0\" class=\"data row22 col0\" >2vtocbic</td>\n",
       "      <td id=\"T_0c14a_row22_col1\" class=\"data row22 col1\" >mobilenetv2_0.1_96_c3_o2_t5l1024.MV1</td>\n",
       "      <td id=\"T_0c14a_row22_col2\" class=\"data row22 col2\" >finished</td>\n",
       "      <td id=\"T_0c14a_row22_col3\" class=\"data row22 col3\" >1.511 M</td>\n",
       "      <td id=\"T_0c14a_row22_col4\" class=\"data row22 col4\" ><a target=\"_blank\" href=\"https://wandb.ai/susbrock/model_DB/runs/2vtocbic\">https://wandb.ai/susbrock/model_DB/runs/2vtocbic</a></td>\n",
       "      <td id=\"T_0c14a_row22_col5\" class=\"data row22 col5\" >mobilenetv2_0.1_96_c3_o2_t5l1024.MV1</td>\n",
       "      <td id=\"T_0c14a_row22_col6\" class=\"data row22 col6\" >3.261 M</td>\n",
       "      <td id=\"T_0c14a_row22_col7\" class=\"data row22 col7\" >0.1</td>\n",
       "      <td id=\"T_0c14a_row22_col8\" class=\"data row22 col8\" >2</td>\n",
       "      <td id=\"T_0c14a_row22_col9\" class=\"data row22 col9\" >96</td>\n",
       "      <td id=\"T_0c14a_row22_col10\" class=\"data row22 col10\" >3381183</td>\n",
       "      <td id=\"T_0c14a_row22_col11\" class=\"data row22 col11\" >3</td>\n",
       "      <td id=\"T_0c14a_row22_col12\" class=\"data row22 col12\" >1511429</td>\n",
       "      <td id=\"T_0c14a_row22_col13\" class=\"data row22 col13\" >t5l1024.MV1</td>\n",
       "      <td id=\"T_0c14a_row22_col14\" class=\"data row22 col14\" >0.003114</td>\n",
       "      <td id=\"T_0c14a_row22_col15\" class=\"data row22 col15\" >63114</td>\n",
       "      <td id=\"T_0c14a_row22_col16\" class=\"data row22 col16\" >3491783</td>\n",
       "      <td id=\"T_0c14a_row22_col17\" class=\"data row22 col17\" >703.601562</td>\n",
       "      <td id=\"T_0c14a_row22_col18\" class=\"data row22 col18\" >55296.000000</td>\n",
       "      <td id=\"T_0c14a_row22_col19\" class=\"data row22 col19\" >1511429</td>\n",
       "      <td id=\"T_0c14a_row22_col20\" class=\"data row22 col20\" >0.003314</td>\n",
       "      <td id=\"T_0c14a_row22_col21\" class=\"data row22 col21\" >58484</td>\n",
       "      <td id=\"T_0c14a_row22_col22\" class=\"data row22 col22\" >4630</td>\n",
       "      <td id=\"T_0c14a_row22_col23\" class=\"data row22 col23\" >245.085938</td>\n",
       "      <td id=\"T_0c14a_row22_col24\" class=\"data row22 col24\" >250968</td>\n",
       "      <td id=\"T_0c14a_row22_col25\" class=\"data row22 col25\" >0</td>\n",
       "      <td id=\"T_0c14a_row22_col26\" class=\"data row22 col26\" >150.882812</td>\n",
       "      <td id=\"T_0c14a_row22_col27\" class=\"data row22 col27\" >154504</td>\n",
       "      <td id=\"T_0c14a_row22_col28\" class=\"data row22 col28\" >214140</td>\n",
       "      <td id=\"T_0c14a_row22_col29\" class=\"data row22 col29\" >0</td>\n",
       "      <td id=\"T_0c14a_row22_col30\" class=\"data row22 col30\" >85940</td>\n",
       "      <td id=\"T_0c14a_row22_col31\" class=\"data row22 col31\" >[]</td>\n",
       "      <td id=\"T_0c14a_row22_col32\" class=\"data row22 col32\" >2023-02-25T10:36:19</td>\n",
       "      <td id=\"T_0c14a_row22_col33\" class=\"data row22 col33\" >['susbrock', 'model_DB', '2vtocbic']</td>\n",
       "      <td id=\"T_0c14a_row22_col34\" class=\"data row22 col34\" >None</td>\n",
       "      <td id=\"T_0c14a_row22_col35\" class=\"data row22 col35\" >0.000000</td>\n",
       "      <td id=\"T_0c14a_row22_col36\" class=\"data row22 col36\" >54.000000</td>\n",
       "      <td id=\"T_0c14a_row22_col37\" class=\"data row22 col37\" >150.882812</td>\n",
       "      <td id=\"T_0c14a_row22_col38\" class=\"data row22 col38\" >83.925781</td>\n",
       "    </tr>\n",
       "    <tr>\n",
       "      <th id=\"T_0c14a_level0_row23\" class=\"row_heading level0 row23\" >23</th>\n",
       "      <td id=\"T_0c14a_row23_col0\" class=\"data row23 col0\" >l2ngjsr1</td>\n",
       "      <td id=\"T_0c14a_row23_col1\" class=\"data row23 col1\" >mobilenetv2_0.1_96_c3_o2_t6l1024.MV1</td>\n",
       "      <td id=\"T_0c14a_row23_col2\" class=\"data row23 col2\" >finished</td>\n",
       "      <td id=\"T_0c14a_row23_col3\" class=\"data row23 col3\" >1.618 M</td>\n",
       "      <td id=\"T_0c14a_row23_col4\" class=\"data row23 col4\" ><a target=\"_blank\" href=\"https://wandb.ai/susbrock/model_DB/runs/l2ngjsr1\">https://wandb.ai/susbrock/model_DB/runs/l2ngjsr1</a></td>\n",
       "      <td id=\"T_0c14a_row23_col5\" class=\"data row23 col5\" >mobilenetv2_0.1_96_c3_o2_t6l1024.MV1</td>\n",
       "      <td id=\"T_0c14a_row23_col6\" class=\"data row23 col6\" >3.500 M</td>\n",
       "      <td id=\"T_0c14a_row23_col7\" class=\"data row23 col7\" >0.1</td>\n",
       "      <td id=\"T_0c14a_row23_col8\" class=\"data row23 col8\" >2</td>\n",
       "      <td id=\"T_0c14a_row23_col9\" class=\"data row23 col9\" >96</td>\n",
       "      <td id=\"T_0c14a_row23_col10\" class=\"data row23 col10\" >3633732</td>\n",
       "      <td id=\"T_0c14a_row23_col11\" class=\"data row23 col11\" >3</td>\n",
       "      <td id=\"T_0c14a_row23_col12\" class=\"data row23 col12\" >1617926</td>\n",
       "      <td id=\"T_0c14a_row23_col13\" class=\"data row23 col13\" >t6l1024.MV1</td>\n",
       "      <td id=\"T_0c14a_row23_col14\" class=\"data row23 col14\" >0.003311</td>\n",
       "      <td id=\"T_0c14a_row23_col15\" class=\"data row23 col15\" >67766</td>\n",
       "      <td id=\"T_0c14a_row23_col16\" class=\"data row23 col16\" >3744332</td>\n",
       "      <td id=\"T_0c14a_row23_col17\" class=\"data row23 col17\" >720.851562</td>\n",
       "      <td id=\"T_0c14a_row23_col18\" class=\"data row23 col18\" >55296.000000</td>\n",
       "      <td id=\"T_0c14a_row23_col19\" class=\"data row23 col19\" >1617926</td>\n",
       "      <td id=\"T_0c14a_row23_col20\" class=\"data row23 col20\" >0.003511</td>\n",
       "      <td id=\"T_0c14a_row23_col21\" class=\"data row23 col21\" >62684</td>\n",
       "      <td id=\"T_0c14a_row23_col22\" class=\"data row23 col22\" >5082</td>\n",
       "      <td id=\"T_0c14a_row23_col23\" class=\"data row23 col23\" >259.789062</td>\n",
       "      <td id=\"T_0c14a_row23_col24\" class=\"data row23 col24\" >266024</td>\n",
       "      <td id=\"T_0c14a_row23_col25\" class=\"data row23 col25\" >0</td>\n",
       "      <td id=\"T_0c14a_row23_col26\" class=\"data row23 col26\" >159.921875</td>\n",
       "      <td id=\"T_0c14a_row23_col27\" class=\"data row23 col27\" >163760</td>\n",
       "      <td id=\"T_0c14a_row23_col28\" class=\"data row23 col28\" >215688</td>\n",
       "      <td id=\"T_0c14a_row23_col29\" class=\"data row23 col29\" >0</td>\n",
       "      <td id=\"T_0c14a_row23_col30\" class=\"data row23 col30\" >87500</td>\n",
       "      <td id=\"T_0c14a_row23_col31\" class=\"data row23 col31\" >[]</td>\n",
       "      <td id=\"T_0c14a_row23_col32\" class=\"data row23 col32\" >2023-02-25T10:34:05</td>\n",
       "      <td id=\"T_0c14a_row23_col33\" class=\"data row23 col33\" >['susbrock', 'model_DB', 'l2ngjsr1']</td>\n",
       "      <td id=\"T_0c14a_row23_col34\" class=\"data row23 col34\" >None</td>\n",
       "      <td id=\"T_0c14a_row23_col35\" class=\"data row23 col35\" >0.000000</td>\n",
       "      <td id=\"T_0c14a_row23_col36\" class=\"data row23 col36\" >54.000000</td>\n",
       "      <td id=\"T_0c14a_row23_col37\" class=\"data row23 col37\" >159.921875</td>\n",
       "      <td id=\"T_0c14a_row23_col38\" class=\"data row23 col38\" >85.449219</td>\n",
       "    </tr>\n",
       "    <tr>\n",
       "      <th id=\"T_0c14a_level0_row24\" class=\"row_heading level0 row24\" >24</th>\n",
       "      <td id=\"T_0c14a_row24_col0\" class=\"data row24 col0\" >t22m9r3i</td>\n",
       "      <td id=\"T_0c14a_row24_col1\" class=\"data row24 col1\" >mobilenetv2_0.25_96_c3_o2_t1l1024.MV1</td>\n",
       "      <td id=\"T_0c14a_row24_col2\" class=\"data row24 col2\" >finished</td>\n",
       "      <td id=\"T_0c14a_row24_col3\" class=\"data row24 col3\" >2.069 M</td>\n",
       "      <td id=\"T_0c14a_row24_col4\" class=\"data row24 col4\" ><a target=\"_blank\" href=\"https://wandb.ai/susbrock/model_DB/runs/t22m9r3i\">https://wandb.ai/susbrock/model_DB/runs/t22m9r3i</a></td>\n",
       "      <td id=\"T_0c14a_row24_col5\" class=\"data row24 col5\" >mobilenetv2_0.25_96_c3_o2_t1l1024.MV1</td>\n",
       "      <td id=\"T_0c14a_row24_col6\" class=\"data row24 col6\" >4.331 M</td>\n",
       "      <td id=\"T_0c14a_row24_col7\" class=\"data row24 col7\" >0.25</td>\n",
       "      <td id=\"T_0c14a_row24_col8\" class=\"data row24 col8\" >2</td>\n",
       "      <td id=\"T_0c14a_row24_col9\" class=\"data row24 col9\" >96</td>\n",
       "      <td id=\"T_0c14a_row24_col10\" class=\"data row24 col10\" >4443930</td>\n",
       "      <td id=\"T_0c14a_row24_col11\" class=\"data row24 col11\" >3</td>\n",
       "      <td id=\"T_0c14a_row24_col12\" class=\"data row24 col12\" >2069456</td>\n",
       "      <td id=\"T_0c14a_row24_col13\" class=\"data row24 col13\" >t1l1024.MV1</td>\n",
       "      <td id=\"T_0c14a_row24_col14\" class=\"data row24 col14\" >0.003132</td>\n",
       "      <td id=\"T_0c14a_row24_col15\" class=\"data row24 col15\" >112846</td>\n",
       "      <td id=\"T_0c14a_row24_col16\" class=\"data row24 col16\" >4554530</td>\n",
       "      <td id=\"T_0c14a_row24_col17\" class=\"data row24 col17\" >898.109375</td>\n",
       "      <td id=\"T_0c14a_row24_col18\" class=\"data row24 col18\" >55296.000000</td>\n",
       "      <td id=\"T_0c14a_row24_col19\" class=\"data row24 col19\" >2069456</td>\n",
       "      <td id=\"T_0c14a_row24_col20\" class=\"data row24 col20\" >0.003331</td>\n",
       "      <td id=\"T_0c14a_row24_col21\" class=\"data row24 col21\" >108830</td>\n",
       "      <td id=\"T_0c14a_row24_col22\" class=\"data row24 col22\" >4016</td>\n",
       "      <td id=\"T_0c14a_row24_col23\" class=\"data row24 col23\" >443.136719</td>\n",
       "      <td id=\"T_0c14a_row24_col24\" class=\"data row24 col24\" >453772</td>\n",
       "      <td id=\"T_0c14a_row24_col25\" class=\"data row24 col25\" >0</td>\n",
       "      <td id=\"T_0c14a_row24_col26\" class=\"data row24 col26\" >193.132812</td>\n",
       "      <td id=\"T_0c14a_row24_col27\" class=\"data row24 col27\" >197768</td>\n",
       "      <td id=\"T_0c14a_row24_col28\" class=\"data row24 col28\" >211024</td>\n",
       "      <td id=\"T_0c14a_row24_col29\" class=\"data row24 col29\" >0</td>\n",
       "      <td id=\"T_0c14a_row24_col30\" class=\"data row24 col30\" >82828</td>\n",
       "      <td id=\"T_0c14a_row24_col31\" class=\"data row24 col31\" >[]</td>\n",
       "      <td id=\"T_0c14a_row24_col32\" class=\"data row24 col32\" >2023-02-25T10:31:52</td>\n",
       "      <td id=\"T_0c14a_row24_col33\" class=\"data row24 col33\" >['susbrock', 'model_DB', 't22m9r3i']</td>\n",
       "      <td id=\"T_0c14a_row24_col34\" class=\"data row24 col34\" >None</td>\n",
       "      <td id=\"T_0c14a_row24_col35\" class=\"data row24 col35\" >0.000000</td>\n",
       "      <td id=\"T_0c14a_row24_col36\" class=\"data row24 col36\" >54.000000</td>\n",
       "      <td id=\"T_0c14a_row24_col37\" class=\"data row24 col37\" >193.132812</td>\n",
       "      <td id=\"T_0c14a_row24_col38\" class=\"data row24 col38\" >80.886719</td>\n",
       "    </tr>\n",
       "    <tr>\n",
       "      <th id=\"T_0c14a_level0_row25\" class=\"row_heading level0 row25\" >25</th>\n",
       "      <td id=\"T_0c14a_row25_col0\" class=\"data row25 col0\" >e1r62enc</td>\n",
       "      <td id=\"T_0c14a_row25_col1\" class=\"data row25 col1\" >mobilenetv2_0.25_96_c3_o2_t2l1024.MV1</td>\n",
       "      <td id=\"T_0c14a_row25_col2\" class=\"data row25 col2\" >finished</td>\n",
       "      <td id=\"T_0c14a_row25_col3\" class=\"data row25 col3\" >2.662 M</td>\n",
       "      <td id=\"T_0c14a_row25_col4\" class=\"data row25 col4\" ><a target=\"_blank\" href=\"https://wandb.ai/susbrock/model_DB/runs/e1r62enc\">https://wandb.ai/susbrock/model_DB/runs/e1r62enc</a></td>\n",
       "      <td id=\"T_0c14a_row25_col5\" class=\"data row25 col5\" >mobilenetv2_0.25_96_c3_o2_t2l1024.MV1</td>\n",
       "      <td id=\"T_0c14a_row25_col6\" class=\"data row25 col6\" >5.597 M</td>\n",
       "      <td id=\"T_0c14a_row25_col7\" class=\"data row25 col7\" >0.25</td>\n",
       "      <td id=\"T_0c14a_row25_col8\" class=\"data row25 col8\" >2</td>\n",
       "      <td id=\"T_0c14a_row25_col9\" class=\"data row25 col9\" >96</td>\n",
       "      <td id=\"T_0c14a_row25_col10\" class=\"data row25 col10\" >5749938</td>\n",
       "      <td id=\"T_0c14a_row25_col11\" class=\"data row25 col11\" >3</td>\n",
       "      <td id=\"T_0c14a_row25_col12\" class=\"data row25 col12\" >2662304</td>\n",
       "      <td id=\"T_0c14a_row25_col13\" class=\"data row25 col13\" >t2l1024.MV1</td>\n",
       "      <td id=\"T_0c14a_row25_col14\" class=\"data row25 col14\" >0.003514</td>\n",
       "      <td id=\"T_0c14a_row25_col15\" class=\"data row25 col15\" >135738</td>\n",
       "      <td id=\"T_0c14a_row25_col16\" class=\"data row25 col16\" >5860538</td>\n",
       "      <td id=\"T_0c14a_row25_col17\" class=\"data row25 col17\" >986.328125</td>\n",
       "      <td id=\"T_0c14a_row25_col18\" class=\"data row25 col18\" >55296.000000</td>\n",
       "      <td id=\"T_0c14a_row25_col19\" class=\"data row25 col19\" >2662304</td>\n",
       "      <td id=\"T_0c14a_row25_col20\" class=\"data row25 col20\" >0.003713</td>\n",
       "      <td id=\"T_0c14a_row25_col21\" class=\"data row25 col21\" >130538</td>\n",
       "      <td id=\"T_0c14a_row25_col22\" class=\"data row25 col22\" >5200</td>\n",
       "      <td id=\"T_0c14a_row25_col23\" class=\"data row25 col23\" >524.222656</td>\n",
       "      <td id=\"T_0c14a_row25_col24\" class=\"data row25 col24\" >536804</td>\n",
       "      <td id=\"T_0c14a_row25_col25\" class=\"data row25 col25\" >0</td>\n",
       "      <td id=\"T_0c14a_row25_col26\" class=\"data row25 col26\" >227.539062</td>\n",
       "      <td id=\"T_0c14a_row25_col27\" class=\"data row25 col27\" >233000</td>\n",
       "      <td id=\"T_0c14a_row25_col28\" class=\"data row25 col28\" >215724</td>\n",
       "      <td id=\"T_0c14a_row25_col29\" class=\"data row25 col29\" >0</td>\n",
       "      <td id=\"T_0c14a_row25_col30\" class=\"data row25 col30\" >87572</td>\n",
       "      <td id=\"T_0c14a_row25_col31\" class=\"data row25 col31\" >[]</td>\n",
       "      <td id=\"T_0c14a_row25_col32\" class=\"data row25 col32\" >2023-02-25T10:29:29</td>\n",
       "      <td id=\"T_0c14a_row25_col33\" class=\"data row25 col33\" >['susbrock', 'model_DB', 'e1r62enc']</td>\n",
       "      <td id=\"T_0c14a_row25_col34\" class=\"data row25 col34\" >None</td>\n",
       "      <td id=\"T_0c14a_row25_col35\" class=\"data row25 col35\" >0.000000</td>\n",
       "      <td id=\"T_0c14a_row25_col36\" class=\"data row25 col36\" >54.000000</td>\n",
       "      <td id=\"T_0c14a_row25_col37\" class=\"data row25 col37\" >227.539062</td>\n",
       "      <td id=\"T_0c14a_row25_col38\" class=\"data row25 col38\" >85.519531</td>\n",
       "    </tr>\n",
       "    <tr>\n",
       "      <th id=\"T_0c14a_level0_row26\" class=\"row_heading level0 row26\" >26</th>\n",
       "      <td id=\"T_0c14a_row26_col0\" class=\"data row26 col0\" >j5k2r496</td>\n",
       "      <td id=\"T_0c14a_row26_col1\" class=\"data row26 col1\" >mobilenetv2_0.25_96_c3_o2_t3l1024.MV1</td>\n",
       "      <td id=\"T_0c14a_row26_col2\" class=\"data row26 col2\" >finished</td>\n",
       "      <td id=\"T_0c14a_row26_col3\" class=\"data row26 col3\" >3.255 M</td>\n",
       "      <td id=\"T_0c14a_row26_col4\" class=\"data row26 col4\" ><a target=\"_blank\" href=\"https://wandb.ai/susbrock/model_DB/runs/j5k2r496\">https://wandb.ai/susbrock/model_DB/runs/j5k2r496</a></td>\n",
       "      <td id=\"T_0c14a_row26_col5\" class=\"data row26 col5\" >mobilenetv2_0.25_96_c3_o2_t3l1024.MV1</td>\n",
       "      <td id=\"T_0c14a_row26_col6\" class=\"data row26 col6\" >6.863 M</td>\n",
       "      <td id=\"T_0c14a_row26_col7\" class=\"data row26 col7\" >0.25</td>\n",
       "      <td id=\"T_0c14a_row26_col8\" class=\"data row26 col8\" >2</td>\n",
       "      <td id=\"T_0c14a_row26_col9\" class=\"data row26 col9\" >96</td>\n",
       "      <td id=\"T_0c14a_row26_col10\" class=\"data row26 col10\" >7055946</td>\n",
       "      <td id=\"T_0c14a_row26_col11\" class=\"data row26 col11\" >3</td>\n",
       "      <td id=\"T_0c14a_row26_col12\" class=\"data row26 col12\" >3255152</td>\n",
       "      <td id=\"T_0c14a_row26_col13\" class=\"data row26 col13\" >t3l1024.MV1</td>\n",
       "      <td id=\"T_0c14a_row26_col14\" class=\"data row26 col14\" >0.004082</td>\n",
       "      <td id=\"T_0c14a_row26_col15\" class=\"data row26 col15\" >158630</td>\n",
       "      <td id=\"T_0c14a_row26_col16\" class=\"data row26 col16\" >7166546</td>\n",
       "      <td id=\"T_0c14a_row26_col17\" class=\"data row26 col17\" >1077.437500</td>\n",
       "      <td id=\"T_0c14a_row26_col18\" class=\"data row26 col18\" >55296.000000</td>\n",
       "      <td id=\"T_0c14a_row26_col19\" class=\"data row26 col19\" >3255152</td>\n",
       "      <td id=\"T_0c14a_row26_col20\" class=\"data row26 col20\" >0.004282</td>\n",
       "      <td id=\"T_0c14a_row26_col21\" class=\"data row26 col21\" >152246</td>\n",
       "      <td id=\"T_0c14a_row26_col22\" class=\"data row26 col22\" >6384</td>\n",
       "      <td id=\"T_0c14a_row26_col23\" class=\"data row26 col23\" >605.226562</td>\n",
       "      <td id=\"T_0c14a_row26_col24\" class=\"data row26 col24\" >619752</td>\n",
       "      <td id=\"T_0c14a_row26_col25\" class=\"data row26 col25\" >0</td>\n",
       "      <td id=\"T_0c14a_row26_col26\" class=\"data row26 col26\" >262.187500</td>\n",
       "      <td id=\"T_0c14a_row26_col27\" class=\"data row26 col27\" >268480</td>\n",
       "      <td id=\"T_0c14a_row26_col28\" class=\"data row26 col28\" >220564</td>\n",
       "      <td id=\"T_0c14a_row26_col29\" class=\"data row26 col29\" >0</td>\n",
       "      <td id=\"T_0c14a_row26_col30\" class=\"data row26 col30\" >92300</td>\n",
       "      <td id=\"T_0c14a_row26_col31\" class=\"data row26 col31\" >[]</td>\n",
       "      <td id=\"T_0c14a_row26_col32\" class=\"data row26 col32\" >2023-02-25T10:27:21</td>\n",
       "      <td id=\"T_0c14a_row26_col33\" class=\"data row26 col33\" >['susbrock', 'model_DB', 'j5k2r496']</td>\n",
       "      <td id=\"T_0c14a_row26_col34\" class=\"data row26 col34\" >None</td>\n",
       "      <td id=\"T_0c14a_row26_col35\" class=\"data row26 col35\" >0.000000</td>\n",
       "      <td id=\"T_0c14a_row26_col36\" class=\"data row26 col36\" >54.000000</td>\n",
       "      <td id=\"T_0c14a_row26_col37\" class=\"data row26 col37\" >262.187500</td>\n",
       "      <td id=\"T_0c14a_row26_col38\" class=\"data row26 col38\" >90.136719</td>\n",
       "    </tr>\n",
       "    <tr>\n",
       "      <th id=\"T_0c14a_level0_row27\" class=\"row_heading level0 row27\" >27</th>\n",
       "      <td id=\"T_0c14a_row27_col0\" class=\"data row27 col0\" >ehy9uori</td>\n",
       "      <td id=\"T_0c14a_row27_col1\" class=\"data row27 col1\" >mobilenetv2_0.25_96_c3_o2_t4l1024.MV1</td>\n",
       "      <td id=\"T_0c14a_row27_col2\" class=\"data row27 col2\" >finished</td>\n",
       "      <td id=\"T_0c14a_row27_col3\" class=\"data row27 col3\" >3.848 M</td>\n",
       "      <td id=\"T_0c14a_row27_col4\" class=\"data row27 col4\" ><a target=\"_blank\" href=\"https://wandb.ai/susbrock/model_DB/runs/ehy9uori\">https://wandb.ai/susbrock/model_DB/runs/ehy9uori</a></td>\n",
       "      <td id=\"T_0c14a_row27_col5\" class=\"data row27 col5\" >mobilenetv2_0.25_96_c3_o2_t4l1024.MV1</td>\n",
       "      <td id=\"T_0c14a_row27_col6\" class=\"data row27 col6\" >8.129 M</td>\n",
       "      <td id=\"T_0c14a_row27_col7\" class=\"data row27 col7\" >0.25</td>\n",
       "      <td id=\"T_0c14a_row27_col8\" class=\"data row27 col8\" >2</td>\n",
       "      <td id=\"T_0c14a_row27_col9\" class=\"data row27 col9\" >96</td>\n",
       "      <td id=\"T_0c14a_row27_col10\" class=\"data row27 col10\" >8361954</td>\n",
       "      <td id=\"T_0c14a_row27_col11\" class=\"data row27 col11\" >3</td>\n",
       "      <td id=\"T_0c14a_row27_col12\" class=\"data row27 col12\" >3848000</td>\n",
       "      <td id=\"T_0c14a_row27_col13\" class=\"data row27 col13\" >t4l1024.MV1</td>\n",
       "      <td id=\"T_0c14a_row27_col14\" class=\"data row27 col14\" >0.004609</td>\n",
       "      <td id=\"T_0c14a_row27_col15\" class=\"data row27 col15\" >181522</td>\n",
       "      <td id=\"T_0c14a_row27_col16\" class=\"data row27 col16\" >8472554</td>\n",
       "      <td id=\"T_0c14a_row27_col17\" class=\"data row27 col17\" >1166.500000</td>\n",
       "      <td id=\"T_0c14a_row27_col18\" class=\"data row27 col18\" >55296.000000</td>\n",
       "      <td id=\"T_0c14a_row27_col19\" class=\"data row27 col19\" >3848000</td>\n",
       "      <td id=\"T_0c14a_row27_col20\" class=\"data row27 col20\" >0.004808</td>\n",
       "      <td id=\"T_0c14a_row27_col21\" class=\"data row27 col21\" >173954</td>\n",
       "      <td id=\"T_0c14a_row27_col22\" class=\"data row27 col22\" >7568</td>\n",
       "      <td id=\"T_0c14a_row27_col23\" class=\"data row27 col23\" >685.628906</td>\n",
       "      <td id=\"T_0c14a_row27_col24\" class=\"data row27 col24\" >702084</td>\n",
       "      <td id=\"T_0c14a_row27_col25\" class=\"data row27 col25\" >0</td>\n",
       "      <td id=\"T_0c14a_row27_col26\" class=\"data row27 col26\" >296.390625</td>\n",
       "      <td id=\"T_0c14a_row27_col27\" class=\"data row27 col27\" >303504</td>\n",
       "      <td id=\"T_0c14a_row27_col28\" class=\"data row27 col28\" >225312</td>\n",
       "      <td id=\"T_0c14a_row27_col29\" class=\"data row27 col29\" >0</td>\n",
       "      <td id=\"T_0c14a_row27_col30\" class=\"data row27 col30\" >97044</td>\n",
       "      <td id=\"T_0c14a_row27_col31\" class=\"data row27 col31\" >[]</td>\n",
       "      <td id=\"T_0c14a_row27_col32\" class=\"data row27 col32\" >2023-02-25T10:25:12</td>\n",
       "      <td id=\"T_0c14a_row27_col33\" class=\"data row27 col33\" >['susbrock', 'model_DB', 'ehy9uori']</td>\n",
       "      <td id=\"T_0c14a_row27_col34\" class=\"data row27 col34\" >None</td>\n",
       "      <td id=\"T_0c14a_row27_col35\" class=\"data row27 col35\" >0.833440</td>\n",
       "      <td id=\"T_0c14a_row27_col36\" class=\"data row27 col36\" >54.000000</td>\n",
       "      <td id=\"T_0c14a_row27_col37\" class=\"data row27 col37\" >296.390625</td>\n",
       "      <td id=\"T_0c14a_row27_col38\" class=\"data row27 col38\" >94.769531</td>\n",
       "    </tr>\n",
       "    <tr>\n",
       "      <th id=\"T_0c14a_level0_row28\" class=\"row_heading level0 row28\" >28</th>\n",
       "      <td id=\"T_0c14a_row28_col0\" class=\"data row28 col0\" >xj8l17dl</td>\n",
       "      <td id=\"T_0c14a_row28_col1\" class=\"data row28 col1\" >mobilenetv2_0.25_96_c3_o2_t5l1024.MV1</td>\n",
       "      <td id=\"T_0c14a_row28_col2\" class=\"data row28 col2\" >finished</td>\n",
       "      <td id=\"T_0c14a_row28_col3\" class=\"data row28 col3\" >4.441 M</td>\n",
       "      <td id=\"T_0c14a_row28_col4\" class=\"data row28 col4\" ><a target=\"_blank\" href=\"https://wandb.ai/susbrock/model_DB/runs/xj8l17dl\">https://wandb.ai/susbrock/model_DB/runs/xj8l17dl</a></td>\n",
       "      <td id=\"T_0c14a_row28_col5\" class=\"data row28 col5\" >mobilenetv2_0.25_96_c3_o2_t5l1024.MV1</td>\n",
       "      <td id=\"T_0c14a_row28_col6\" class=\"data row28 col6\" >9.395 M</td>\n",
       "      <td id=\"T_0c14a_row28_col7\" class=\"data row28 col7\" >0.25</td>\n",
       "      <td id=\"T_0c14a_row28_col8\" class=\"data row28 col8\" >2</td>\n",
       "      <td id=\"T_0c14a_row28_col9\" class=\"data row28 col9\" >96</td>\n",
       "      <td id=\"T_0c14a_row28_col10\" class=\"data row28 col10\" >9667962</td>\n",
       "      <td id=\"T_0c14a_row28_col11\" class=\"data row28 col11\" >3</td>\n",
       "      <td id=\"T_0c14a_row28_col12\" class=\"data row28 col12\" >4440848</td>\n",
       "      <td id=\"T_0c14a_row28_col13\" class=\"data row28 col13\" >t5l1024.MV1</td>\n",
       "      <td id=\"T_0c14a_row28_col14\" class=\"data row28 col14\" >0.005193</td>\n",
       "      <td id=\"T_0c14a_row28_col15\" class=\"data row28 col15\" >204414</td>\n",
       "      <td id=\"T_0c14a_row28_col16\" class=\"data row28 col16\" >9778562</td>\n",
       "      <td id=\"T_0c14a_row28_col17\" class=\"data row28 col17\" >1255.320312</td>\n",
       "      <td id=\"T_0c14a_row28_col18\" class=\"data row28 col18\" >57600.000000</td>\n",
       "      <td id=\"T_0c14a_row28_col19\" class=\"data row28 col19\" >4440848</td>\n",
       "      <td id=\"T_0c14a_row28_col20\" class=\"data row28 col20\" >0.005392</td>\n",
       "      <td id=\"T_0c14a_row28_col21\" class=\"data row28 col21\" >195662</td>\n",
       "      <td id=\"T_0c14a_row28_col22\" class=\"data row28 col22\" >8752</td>\n",
       "      <td id=\"T_0c14a_row28_col23\" class=\"data row28 col23\" >765.960938</td>\n",
       "      <td id=\"T_0c14a_row28_col24\" class=\"data row28 col24\" >784344</td>\n",
       "      <td id=\"T_0c14a_row28_col25\" class=\"data row28 col25\" >0</td>\n",
       "      <td id=\"T_0c14a_row28_col26\" class=\"data row28 col26\" >330.531250</td>\n",
       "      <td id=\"T_0c14a_row28_col27\" class=\"data row28 col27\" >338464</td>\n",
       "      <td id=\"T_0c14a_row28_col28\" class=\"data row28 col28\" >276128</td>\n",
       "      <td id=\"T_0c14a_row28_col29\" class=\"data row28 col29\" >0</td>\n",
       "      <td id=\"T_0c14a_row28_col30\" class=\"data row28 col30\" >104460</td>\n",
       "      <td id=\"T_0c14a_row28_col31\" class=\"data row28 col31\" >[]</td>\n",
       "      <td id=\"T_0c14a_row28_col32\" class=\"data row28 col32\" >2023-02-25T10:21:52</td>\n",
       "      <td id=\"T_0c14a_row28_col33\" class=\"data row28 col33\" >['susbrock', 'model_DB', 'xj8l17dl']</td>\n",
       "      <td id=\"T_0c14a_row28_col34\" class=\"data row28 col34\" >None</td>\n",
       "      <td id=\"T_0c14a_row28_col35\" class=\"data row28 col35\" >0.833531</td>\n",
       "      <td id=\"T_0c14a_row28_col36\" class=\"data row28 col36\" >56.250000</td>\n",
       "      <td id=\"T_0c14a_row28_col37\" class=\"data row28 col37\" >330.531250</td>\n",
       "      <td id=\"T_0c14a_row28_col38\" class=\"data row28 col38\" >102.011719</td>\n",
       "    </tr>\n",
       "    <tr>\n",
       "      <th id=\"T_0c14a_level0_row29\" class=\"row_heading level0 row29\" >29</th>\n",
       "      <td id=\"T_0c14a_row29_col0\" class=\"data row29 col0\" >1em4zkri</td>\n",
       "      <td id=\"T_0c14a_row29_col1\" class=\"data row29 col1\" >mobilenetv2_0.25_96_c3_o2_t6l1024.MV1</td>\n",
       "      <td id=\"T_0c14a_row29_col2\" class=\"data row29 col2\" >finished</td>\n",
       "      <td id=\"T_0c14a_row29_col3\" class=\"data row29 col3\" >5.034 M</td>\n",
       "      <td id=\"T_0c14a_row29_col4\" class=\"data row29 col4\" ><a target=\"_blank\" href=\"https://wandb.ai/susbrock/model_DB/runs/1em4zkri\">https://wandb.ai/susbrock/model_DB/runs/1em4zkri</a></td>\n",
       "      <td id=\"T_0c14a_row29_col5\" class=\"data row29 col5\" >mobilenetv2_0.25_96_c3_o2_t6l1024.MV1</td>\n",
       "      <td id=\"T_0c14a_row29_col6\" class=\"data row29 col6\" >10.661 M</td>\n",
       "      <td id=\"T_0c14a_row29_col7\" class=\"data row29 col7\" >0.25</td>\n",
       "      <td id=\"T_0c14a_row29_col8\" class=\"data row29 col8\" >2</td>\n",
       "      <td id=\"T_0c14a_row29_col9\" class=\"data row29 col9\" >96</td>\n",
       "      <td id=\"T_0c14a_row29_col10\" class=\"data row29 col10\" >10973970</td>\n",
       "      <td id=\"T_0c14a_row29_col11\" class=\"data row29 col11\" >3</td>\n",
       "      <td id=\"T_0c14a_row29_col12\" class=\"data row29 col12\" >5033696</td>\n",
       "      <td id=\"T_0c14a_row29_col13\" class=\"data row29 col13\" >t6l1024.MV1</td>\n",
       "      <td id=\"T_0c14a_row29_col14\" class=\"data row29 col14\" >0.005986</td>\n",
       "      <td id=\"T_0c14a_row29_col15\" class=\"data row29 col15\" >227306</td>\n",
       "      <td id=\"T_0c14a_row29_col16\" class=\"data row29 col16\" >11084570</td>\n",
       "      <td id=\"T_0c14a_row29_col17\" class=\"data row29 col17\" >1344.718750</td>\n",
       "      <td id=\"T_0c14a_row29_col18\" class=\"data row29 col18\" >69120.000000</td>\n",
       "      <td id=\"T_0c14a_row29_col19\" class=\"data row29 col19\" >5033696</td>\n",
       "      <td id=\"T_0c14a_row29_col20\" class=\"data row29 col20\" >0.006185</td>\n",
       "      <td id=\"T_0c14a_row29_col21\" class=\"data row29 col21\" >217370</td>\n",
       "      <td id=\"T_0c14a_row29_col22\" class=\"data row29 col22\" >9936</td>\n",
       "      <td id=\"T_0c14a_row29_col23\" class=\"data row29 col23\" >846.828125</td>\n",
       "      <td id=\"T_0c14a_row29_col24\" class=\"data row29 col24\" >867152</td>\n",
       "      <td id=\"T_0c14a_row29_col25\" class=\"data row29 col25\" >0</td>\n",
       "      <td id=\"T_0c14a_row29_col26\" class=\"data row29 col26\" >364.976562</td>\n",
       "      <td id=\"T_0c14a_row29_col27\" class=\"data row29 col27\" >373736</td>\n",
       "      <td id=\"T_0c14a_row29_col28\" class=\"data row29 col28\" >326932</td>\n",
       "      <td id=\"T_0c14a_row29_col29\" class=\"data row29 col29\" >0</td>\n",
       "      <td id=\"T_0c14a_row29_col30\" class=\"data row29 col30\" >120724</td>\n",
       "      <td id=\"T_0c14a_row29_col31\" class=\"data row29 col31\" >[]</td>\n",
       "      <td id=\"T_0c14a_row29_col32\" class=\"data row29 col32\" >2023-02-25T10:01:49</td>\n",
       "      <td id=\"T_0c14a_row29_col33\" class=\"data row29 col33\" >['susbrock', 'model_DB', '1em4zkri']</td>\n",
       "      <td id=\"T_0c14a_row29_col34\" class=\"data row29 col34\" >None</td>\n",
       "      <td id=\"T_0c14a_row29_col35\" class=\"data row29 col35\" >0.000000</td>\n",
       "      <td id=\"T_0c14a_row29_col36\" class=\"data row29 col36\" >67.500000</td>\n",
       "      <td id=\"T_0c14a_row29_col37\" class=\"data row29 col37\" >364.976562</td>\n",
       "      <td id=\"T_0c14a_row29_col38\" class=\"data row29 col38\" >117.894531</td>\n",
       "    </tr>\n",
       "    <tr>\n",
       "      <th id=\"T_0c14a_level0_row30\" class=\"row_heading level0 row30\" >30</th>\n",
       "      <td id=\"T_0c14a_row30_col0\" class=\"data row30 col0\" >lp7d1fbn</td>\n",
       "      <td id=\"T_0c14a_row30_col1\" class=\"data row30 col1\" >mobilenetv2_0.25_96_c3_o2_t6l1024.GAP</td>\n",
       "      <td id=\"T_0c14a_row30_col2\" class=\"data row30 col2\" >finished</td>\n",
       "      <td id=\"T_0c14a_row30_col3\" class=\"data row30 col3\" >5.034 M</td>\n",
       "      <td id=\"T_0c14a_row30_col4\" class=\"data row30 col4\" ><a target=\"_blank\" href=\"https://wandb.ai/susbrock/model_DB/runs/lp7d1fbn\">https://wandb.ai/susbrock/model_DB/runs/lp7d1fbn</a></td>\n",
       "      <td id=\"T_0c14a_row30_col5\" class=\"data row30 col5\" >mobilenetv2_0.25_96_c3_o2_t6l1024.GAP</td>\n",
       "      <td id=\"T_0c14a_row30_col6\" class=\"data row30 col6\" >10.651 M</td>\n",
       "      <td id=\"T_0c14a_row30_col7\" class=\"data row30 col7\" >0.25</td>\n",
       "      <td id=\"T_0c14a_row30_col8\" class=\"data row30 col8\" >2</td>\n",
       "      <td id=\"T_0c14a_row30_col9\" class=\"data row30 col9\" >96</td>\n",
       "      <td id=\"T_0c14a_row30_col10\" class=\"data row30 col10\" >10963732</td>\n",
       "      <td id=\"T_0c14a_row30_col11\" class=\"data row30 col11\" >3</td>\n",
       "      <td id=\"T_0c14a_row30_col12\" class=\"data row30 col12\" >5033696</td>\n",
       "      <td id=\"T_0c14a_row30_col13\" class=\"data row30 col13\" >t6l1024.GAP</td>\n",
       "      <td id=\"T_0c14a_row30_col14\" class=\"data row30 col14\" >0.006018</td>\n",
       "      <td id=\"T_0c14a_row30_col15\" class=\"data row30 col15\" >227306</td>\n",
       "      <td id=\"T_0c14a_row30_col16\" class=\"data row30 col16\" >11074332</td>\n",
       "      <td id=\"T_0c14a_row30_col17\" class=\"data row30 col17\" >1348.234375</td>\n",
       "      <td id=\"T_0c14a_row30_col18\" class=\"data row30 col18\" >69120.000000</td>\n",
       "      <td id=\"T_0c14a_row30_col19\" class=\"data row30 col19\" >5033696</td>\n",
       "      <td id=\"T_0c14a_row30_col20\" class=\"data row30 col20\" >0.006217</td>\n",
       "      <td id=\"T_0c14a_row30_col21\" class=\"data row30 col21\" >217370</td>\n",
       "      <td id=\"T_0c14a_row30_col22\" class=\"data row30 col22\" >9936</td>\n",
       "      <td id=\"T_0c14a_row30_col23\" class=\"data row30 col23\" >847.136719</td>\n",
       "      <td id=\"T_0c14a_row30_col24\" class=\"data row30 col24\" >867468</td>\n",
       "      <td id=\"T_0c14a_row30_col25\" class=\"data row30 col25\" >0</td>\n",
       "      <td id=\"T_0c14a_row30_col26\" class=\"data row30 col26\" >365.335938</td>\n",
       "      <td id=\"T_0c14a_row30_col27\" class=\"data row30 col27\" >374104</td>\n",
       "      <td id=\"T_0c14a_row30_col28\" class=\"data row30 col28\" >327020</td>\n",
       "      <td id=\"T_0c14a_row30_col29\" class=\"data row30 col29\" >0</td>\n",
       "      <td id=\"T_0c14a_row30_col30\" class=\"data row30 col30\" >120812</td>\n",
       "      <td id=\"T_0c14a_row30_col31\" class=\"data row30 col31\" >[]</td>\n",
       "      <td id=\"T_0c14a_row30_col32\" class=\"data row30 col32\" >2023-02-25T09:51:46</td>\n",
       "      <td id=\"T_0c14a_row30_col33\" class=\"data row30 col33\" >['susbrock', 'model_DB', 'lp7d1fbn']</td>\n",
       "      <td id=\"T_0c14a_row30_col34\" class=\"data row30 col34\" >None</td>\n",
       "      <td id=\"T_0c14a_row30_col35\" class=\"data row30 col35\" >0.000000</td>\n",
       "      <td id=\"T_0c14a_row30_col36\" class=\"data row30 col36\" >67.500000</td>\n",
       "      <td id=\"T_0c14a_row30_col37\" class=\"data row30 col37\" >365.335938</td>\n",
       "      <td id=\"T_0c14a_row30_col38\" class=\"data row30 col38\" >117.980469</td>\n",
       "    </tr>\n",
       "    <tr>\n",
       "      <th id=\"T_0c14a_level0_row31\" class=\"row_heading level0 row31\" >31</th>\n",
       "      <td id=\"T_0c14a_row31_col0\" class=\"data row31 col0\" >gmoxau9c</td>\n",
       "      <td id=\"T_0c14a_row31_col1\" class=\"data row31 col1\" >MobilenetV3small_0.1_96_c3_o2_keras</td>\n",
       "      <td id=\"T_0c14a_row31_col2\" class=\"data row31 col2\" >finished</td>\n",
       "      <td id=\"T_0c14a_row31_col3\" class=\"data row31 col3\" >2.096 M</td>\n",
       "      <td id=\"T_0c14a_row31_col4\" class=\"data row31 col4\" ><a target=\"_blank\" href=\"https://wandb.ai/susbrock/model_DB/runs/gmoxau9c\">https://wandb.ai/susbrock/model_DB/runs/gmoxau9c</a></td>\n",
       "      <td id=\"T_0c14a_row31_col5\" class=\"data row31 col5\" >MobilenetV3small_0.1_96_c3_o2_keras</td>\n",
       "      <td id=\"T_0c14a_row31_col6\" class=\"data row31 col6\" >4.492 M</td>\n",
       "      <td id=\"T_0c14a_row31_col7\" class=\"data row31 col7\" >0.1</td>\n",
       "      <td id=\"T_0c14a_row31_col8\" class=\"data row31 col8\" >2</td>\n",
       "      <td id=\"T_0c14a_row31_col9\" class=\"data row31 col9\" >96</td>\n",
       "      <td id=\"T_0c14a_row31_col10\" class=\"data row31 col10\" >4873292</td>\n",
       "      <td id=\"T_0c14a_row31_col11\" class=\"data row31 col11\" >3</td>\n",
       "      <td id=\"T_0c14a_row31_col12\" class=\"data row31 col12\" >2096432</td>\n",
       "      <td id=\"T_0c14a_row31_col13\" class=\"data row31 col13\" >keras</td>\n",
       "      <td id=\"T_0c14a_row31_col14\" class=\"data row31 col14\" >0.004603</td>\n",
       "      <td id=\"T_0c14a_row31_col15\" class=\"data row31 col15\" >146714</td>\n",
       "      <td id=\"T_0c14a_row31_col16\" class=\"data row31 col16\" >4983892</td>\n",
       "      <td id=\"T_0c14a_row31_col17\" class=\"data row31 col17\" >1233.375000</td>\n",
       "      <td id=\"T_0c14a_row31_col18\" class=\"data row31 col18\" >75280.000000</td>\n",
       "      <td id=\"T_0c14a_row31_col19\" class=\"data row31 col19\" >2096432</td>\n",
       "      <td id=\"T_0c14a_row31_col20\" class=\"data row31 col20\" >0.004802</td>\n",
       "      <td id=\"T_0c14a_row31_col21\" class=\"data row31 col21\" >144282</td>\n",
       "      <td id=\"T_0c14a_row31_col22\" class=\"data row31 col22\" >2432</td>\n",
       "      <td id=\"T_0c14a_row31_col23\" class=\"data row31 col23\" >601.660156</td>\n",
       "      <td id=\"T_0c14a_row31_col24\" class=\"data row31 col24\" >616100</td>\n",
       "      <td id=\"T_0c14a_row31_col25\" class=\"data row31 col25\" >0</td>\n",
       "      <td id=\"T_0c14a_row31_col26\" class=\"data row31 col26\" >269.265625</td>\n",
       "      <td id=\"T_0c14a_row31_col27\" class=\"data row31 col27\" >275728</td>\n",
       "      <td id=\"T_0c14a_row31_col28\" class=\"data row31 col28\" >338668</td>\n",
       "      <td id=\"T_0c14a_row31_col29\" class=\"data row31 col29\" >0</td>\n",
       "      <td id=\"T_0c14a_row31_col30\" class=\"data row31 col30\" >113628</td>\n",
       "      <td id=\"T_0c14a_row31_col31\" class=\"data row31 col31\" >[]</td>\n",
       "      <td id=\"T_0c14a_row31_col32\" class=\"data row31 col32\" >2023-02-25T08:52:13</td>\n",
       "      <td id=\"T_0c14a_row31_col33\" class=\"data row31 col33\" >['susbrock', 'model_DB', 'gmoxau9c']</td>\n",
       "      <td id=\"T_0c14a_row31_col34\" class=\"data row31 col34\" >None</td>\n",
       "      <td id=\"T_0c14a_row31_col35\" class=\"data row31 col35\" >0.836906</td>\n",
       "      <td id=\"T_0c14a_row31_col36\" class=\"data row31 col36\" >73.515625</td>\n",
       "      <td id=\"T_0c14a_row31_col37\" class=\"data row31 col37\" >269.265625</td>\n",
       "      <td id=\"T_0c14a_row31_col38\" class=\"data row31 col38\" >110.964844</td>\n",
       "    </tr>\n",
       "    <tr>\n",
       "      <th id=\"T_0c14a_level0_row32\" class=\"row_heading level0 row32\" >32</th>\n",
       "      <td id=\"T_0c14a_row32_col0\" class=\"data row32 col0\" >ndi1k023</td>\n",
       "      <td id=\"T_0c14a_row32_col1\" class=\"data row32 col1\" >efficientNetB0_0.05_96_c3_o2_keras</td>\n",
       "      <td id=\"T_0c14a_row32_col2\" class=\"data row32 col2\" >finished</td>\n",
       "      <td id=\"T_0c14a_row32_col3\" class=\"data row32 col3\" >71.143 M</td>\n",
       "      <td id=\"T_0c14a_row32_col4\" class=\"data row32 col4\" ><a target=\"_blank\" href=\"https://wandb.ai/susbrock/model_DB/runs/ndi1k023\">https://wandb.ai/susbrock/model_DB/runs/ndi1k023</a></td>\n",
       "      <td id=\"T_0c14a_row32_col5\" class=\"data row32 col5\" >efficientNetB0_0.05_96_c3_o2_keras</td>\n",
       "      <td id=\"T_0c14a_row32_col6\" class=\"data row32 col6\" >145.020 M</td>\n",
       "      <td id=\"T_0c14a_row32_col7\" class=\"data row32 col7\" >0.05</td>\n",
       "      <td id=\"T_0c14a_row32_col8\" class=\"data row32 col8\" >2</td>\n",
       "      <td id=\"T_0c14a_row32_col9\" class=\"data row32 col9\" >96</td>\n",
       "      <td id=\"T_0c14a_row32_col10\" class=\"data row32 col10\" >147907060</td>\n",
       "      <td id=\"T_0c14a_row32_col11\" class=\"data row32 col11\" >3</td>\n",
       "      <td id=\"T_0c14a_row32_col12\" class=\"data row32 col12\" >71143392</td>\n",
       "      <td id=\"T_0c14a_row32_col13\" class=\"data row32 col13\" >keras</td>\n",
       "      <td id=\"T_0c14a_row32_col14\" class=\"data row32 col14\" >0.059232</td>\n",
       "      <td id=\"T_0c14a_row32_col15\" class=\"data row32 col15\" >4052133</td>\n",
       "      <td id=\"T_0c14a_row32_col16\" class=\"data row32 col16\" >148017660</td>\n",
       "      <td id=\"T_0c14a_row32_col17\" class=\"data row32 col17\" >16458.867188</td>\n",
       "      <td id=\"T_0c14a_row32_col18\" class=\"data row32 col18\" >663552.000000</td>\n",
       "      <td id=\"T_0c14a_row32_col19\" class=\"data row32 col19\" >71143392</td>\n",
       "      <td id=\"T_0c14a_row32_col20\" class=\"data row32 col20\" >0.059431</td>\n",
       "      <td id=\"T_0c14a_row32_col21\" class=\"data row32 col21\" >4010110</td>\n",
       "      <td id=\"T_0c14a_row32_col22\" class=\"data row32 col22\" >42023</td>\n",
       "      <td id=\"T_0c14a_row32_col23\" class=\"data row32 col23\" >15561.902344</td>\n",
       "      <td id=\"T_0c14a_row32_col24\" class=\"data row32 col24\" >15935388</td>\n",
       "      <td id=\"T_0c14a_row32_col25\" class=\"data row32 col25\" >0</td>\n",
       "      <td id=\"T_0c14a_row32_col26\" class=\"data row32 col26\" >4694.734375</td>\n",
       "      <td id=\"T_0c14a_row32_col27\" class=\"data row32 col27\" >4807408</td>\n",
       "      <td id=\"T_0c14a_row32_col28\" class=\"data row32 col28\" >2967684</td>\n",
       "      <td id=\"T_0c14a_row32_col29\" class=\"data row32 col29\" >0</td>\n",
       "      <td id=\"T_0c14a_row32_col30\" class=\"data row32 col30\" >950128</td>\n",
       "      <td id=\"T_0c14a_row32_col31\" class=\"data row32 col31\" >[]</td>\n",
       "      <td id=\"T_0c14a_row32_col32\" class=\"data row32 col32\" >2023-02-24T08:01:16</td>\n",
       "      <td id=\"T_0c14a_row32_col33\" class=\"data row32 col33\" >['susbrock', 'model_DB', 'ndi1k023']</td>\n",
       "      <td id=\"T_0c14a_row32_col34\" class=\"data row32 col34\" >None</td>\n",
       "      <td id=\"T_0c14a_row32_col35\" class=\"data row32 col35\" >0.872936</td>\n",
       "      <td id=\"T_0c14a_row32_col36\" class=\"data row32 col36\" >648.000000</td>\n",
       "      <td id=\"T_0c14a_row32_col37\" class=\"data row32 col37\" >4694.734375</td>\n",
       "      <td id=\"T_0c14a_row32_col38\" class=\"data row32 col38\" >927.859375</td>\n",
       "    </tr>\n",
       "    <tr>\n",
       "      <th id=\"T_0c14a_level0_row33\" class=\"row_heading level0 row33\" >33</th>\n",
       "      <td id=\"T_0c14a_row33_col0\" class=\"data row33 col0\" >lum2673e</td>\n",
       "      <td id=\"T_0c14a_row33_col1\" class=\"data row33 col1\" >mobilenetv1_0.1_224_c3_o2_l5.GAP</td>\n",
       "      <td id=\"T_0c14a_row33_col2\" class=\"data row33 col2\" >finished</td>\n",
       "      <td id=\"T_0c14a_row33_col3\" class=\"data row33 col3\" >7.877 M</td>\n",
       "      <td id=\"T_0c14a_row33_col4\" class=\"data row33 col4\" ><a target=\"_blank\" href=\"https://wandb.ai/susbrock/model_DB/runs/lum2673e\">https://wandb.ai/susbrock/model_DB/runs/lum2673e</a></td>\n",
       "      <td id=\"T_0c14a_row33_col5\" class=\"data row33 col5\" >mobilenetv1_0.1_224_c3_o2_l5.GAP</td>\n",
       "      <td id=\"T_0c14a_row33_col6\" class=\"data row33 col6\" >17.203 M</td>\n",
       "      <td id=\"T_0c14a_row33_col7\" class=\"data row33 col7\" >0.1</td>\n",
       "      <td id=\"T_0c14a_row33_col8\" class=\"data row33 col8\" >2</td>\n",
       "      <td id=\"T_0c14a_row33_col9\" class=\"data row33 col9\" >224</td>\n",
       "      <td id=\"T_0c14a_row33_col10\" class=\"data row33 col10\" >17203193</td>\n",
       "      <td id=\"T_0c14a_row33_col11\" class=\"data row33 col11\" >3</td>\n",
       "      <td id=\"T_0c14a_row33_col12\" class=\"data row33 col12\" >7877395</td>\n",
       "      <td id=\"T_0c14a_row33_col13\" class=\"data row33 col13\" >l5.GAP</td>\n",
       "      <td id=\"T_0c14a_row33_col14\" class=\"data row33 col14\" >0.017652</td>\n",
       "      <td id=\"T_0c14a_row33_col15\" class=\"data row33 col15\" >41171</td>\n",
       "      <td id=\"T_0c14a_row33_col16\" class=\"data row33 col16\" >17805313</td>\n",
       "      <td id=\"T_0c14a_row33_col17\" class=\"data row33 col17\" >418.878906</td>\n",
       "      <td id=\"T_0c14a_row33_col18\" class=\"data row33 col18\" >301056.000000</td>\n",
       "      <td id=\"T_0c14a_row33_col19\" class=\"data row33 col19\" >7877395</td>\n",
       "      <td id=\"T_0c14a_row33_col20\" class=\"data row33 col20\" >0.017902</td>\n",
       "      <td id=\"T_0c14a_row33_col21\" class=\"data row33 col21\" >39003</td>\n",
       "      <td id=\"T_0c14a_row33_col22\" class=\"data row33 col22\" >2168</td>\n",
       "      <td id=\"T_0c14a_row33_col23\" class=\"data row33 col23\" >159.527344</td>\n",
       "      <td id=\"T_0c14a_row33_col24\" class=\"data row33 col24\" >163356</td>\n",
       "      <td id=\"T_0c14a_row33_col25\" class=\"data row33 col25\" >0</td>\n",
       "      <td id=\"T_0c14a_row33_col26\" class=\"data row33 col26\" >85.500000</td>\n",
       "      <td id=\"T_0c14a_row33_col27\" class=\"data row33 col27\" >87552</td>\n",
       "      <td id=\"T_0c14a_row33_col28\" class=\"data row33 col28\" >767088</td>\n",
       "      <td id=\"T_0c14a_row33_col29\" class=\"data row33 col29\" >0</td>\n",
       "      <td id=\"T_0c14a_row33_col30\" class=\"data row33 col30\" >316080</td>\n",
       "      <td id=\"T_0c14a_row33_col31\" class=\"data row33 col31\" >[]</td>\n",
       "      <td id=\"T_0c14a_row33_col32\" class=\"data row33 col32\" >2023-02-22T20:34:10</td>\n",
       "      <td id=\"T_0c14a_row33_col33\" class=\"data row33 col33\" >['susbrock', 'model_DB', 'lum2673e']</td>\n",
       "      <td id=\"T_0c14a_row33_col34\" class=\"data row33 col34\" >None</td>\n",
       "      <td id=\"T_0c14a_row33_col35\" class=\"data row33 col35\" >0.000000</td>\n",
       "      <td id=\"T_0c14a_row33_col36\" class=\"data row33 col36\" >294.000000</td>\n",
       "      <td id=\"T_0c14a_row33_col37\" class=\"data row33 col37\" >85.500000</td>\n",
       "      <td id=\"T_0c14a_row33_col38\" class=\"data row33 col38\" >308.671875</td>\n",
       "    </tr>\n",
       "    <tr>\n",
       "      <th id=\"T_0c14a_level0_row34\" class=\"row_heading level0 row34\" >34</th>\n",
       "      <td id=\"T_0c14a_row34_col0\" class=\"data row34 col0\" >9s1mqwqn</td>\n",
       "      <td id=\"T_0c14a_row34_col1\" class=\"data row34 col1\" >mobilenetv1_0.1_224_c3_o2_l5.MV1</td>\n",
       "      <td id=\"T_0c14a_row34_col2\" class=\"data row34 col2\" >finished</td>\n",
       "      <td id=\"T_0c14a_row34_col3\" class=\"data row34 col3\" >7.877 M</td>\n",
       "      <td id=\"T_0c14a_row34_col4\" class=\"data row34 col4\" ><a target=\"_blank\" href=\"https://wandb.ai/susbrock/model_DB/runs/9s1mqwqn\">https://wandb.ai/susbrock/model_DB/runs/9s1mqwqn</a></td>\n",
       "      <td id=\"T_0c14a_row34_col5\" class=\"data row34 col5\" >mobilenetv1_0.1_224_c3_o2_l5.MV1</td>\n",
       "      <td id=\"T_0c14a_row34_col6\" class=\"data row34 col6\" >17.208 M</td>\n",
       "      <td id=\"T_0c14a_row34_col7\" class=\"data row34 col7\" >0.1</td>\n",
       "      <td id=\"T_0c14a_row34_col8\" class=\"data row34 col8\" >2</td>\n",
       "      <td id=\"T_0c14a_row34_col9\" class=\"data row34 col9\" >224</td>\n",
       "      <td id=\"T_0c14a_row34_col10\" class=\"data row34 col10\" >17208291</td>\n",
       "      <td id=\"T_0c14a_row34_col11\" class=\"data row34 col11\" >3</td>\n",
       "      <td id=\"T_0c14a_row34_col12\" class=\"data row34 col12\" >7877395</td>\n",
       "      <td id=\"T_0c14a_row34_col13\" class=\"data row34 col13\" >l5.MV1</td>\n",
       "      <td id=\"T_0c14a_row34_col14\" class=\"data row34 col14\" >0.017608</td>\n",
       "      <td id=\"T_0c14a_row34_col15\" class=\"data row34 col15\" >41171</td>\n",
       "      <td id=\"T_0c14a_row34_col16\" class=\"data row34 col16\" >17810411</td>\n",
       "      <td id=\"T_0c14a_row34_col17\" class=\"data row34 col17\" >416.707031</td>\n",
       "      <td id=\"T_0c14a_row34_col18\" class=\"data row34 col18\" >301056.000000</td>\n",
       "      <td id=\"T_0c14a_row34_col19\" class=\"data row34 col19\" >7877395</td>\n",
       "      <td id=\"T_0c14a_row34_col20\" class=\"data row34 col20\" >0.017858</td>\n",
       "      <td id=\"T_0c14a_row34_col21\" class=\"data row34 col21\" >39003</td>\n",
       "      <td id=\"T_0c14a_row34_col22\" class=\"data row34 col22\" >2168</td>\n",
       "      <td id=\"T_0c14a_row34_col23\" class=\"data row34 col23\" >159.207031</td>\n",
       "      <td id=\"T_0c14a_row34_col24\" class=\"data row34 col24\" >163028</td>\n",
       "      <td id=\"T_0c14a_row34_col25\" class=\"data row34 col25\" >0</td>\n",
       "      <td id=\"T_0c14a_row34_col26\" class=\"data row34 col26\" >85.132812</td>\n",
       "      <td id=\"T_0c14a_row34_col27\" class=\"data row34 col27\" >87176</td>\n",
       "      <td id=\"T_0c14a_row34_col28\" class=\"data row34 col28\" >767000</td>\n",
       "      <td id=\"T_0c14a_row34_col29\" class=\"data row34 col29\" >0</td>\n",
       "      <td id=\"T_0c14a_row34_col30\" class=\"data row34 col30\" >315996</td>\n",
       "      <td id=\"T_0c14a_row34_col31\" class=\"data row34 col31\" >[]</td>\n",
       "      <td id=\"T_0c14a_row34_col32\" class=\"data row34 col32\" >2023-02-22T20:28:52</td>\n",
       "      <td id=\"T_0c14a_row34_col33\" class=\"data row34 col33\" >['susbrock', 'model_DB', '9s1mqwqn']</td>\n",
       "      <td id=\"T_0c14a_row34_col34\" class=\"data row34 col34\" >None</td>\n",
       "      <td id=\"T_0c14a_row34_col35\" class=\"data row34 col35\" >0.000000</td>\n",
       "      <td id=\"T_0c14a_row34_col36\" class=\"data row34 col36\" >294.000000</td>\n",
       "      <td id=\"T_0c14a_row34_col37\" class=\"data row34 col37\" >85.132812</td>\n",
       "      <td id=\"T_0c14a_row34_col38\" class=\"data row34 col38\" >308.589844</td>\n",
       "    </tr>\n",
       "    <tr>\n",
       "      <th id=\"T_0c14a_level0_row35\" class=\"row_heading level0 row35\" >35</th>\n",
       "      <td id=\"T_0c14a_row35_col0\" class=\"data row35 col0\" >t3imun41</td>\n",
       "      <td id=\"T_0c14a_row35_col1\" class=\"data row35 col1\" >mobilenetv1_0.1_96_c3_o2_l5.MV1</td>\n",
       "      <td id=\"T_0c14a_row35_col2\" class=\"data row35 col2\" >finished</td>\n",
       "      <td id=\"T_0c14a_row35_col3\" class=\"data row35 col3\" >1.447 M</td>\n",
       "      <td id=\"T_0c14a_row35_col4\" class=\"data row35 col4\" ><a target=\"_blank\" href=\"https://wandb.ai/susbrock/model_DB/runs/t3imun41\">https://wandb.ai/susbrock/model_DB/runs/t3imun41</a></td>\n",
       "      <td id=\"T_0c14a_row35_col5\" class=\"data row35 col5\" >mobilenetv1_0.1_96_c3_o2_l5.MV1</td>\n",
       "      <td id=\"T_0c14a_row35_col6\" class=\"data row35 col6\" >3.161 M</td>\n",
       "      <td id=\"T_0c14a_row35_col7\" class=\"data row35 col7\" >0.1</td>\n",
       "      <td id=\"T_0c14a_row35_col8\" class=\"data row35 col8\" >2</td>\n",
       "      <td id=\"T_0c14a_row35_col9\" class=\"data row35 col9\" >96</td>\n",
       "      <td id=\"T_0c14a_row35_col10\" class=\"data row35 col10\" >3161131</td>\n",
       "      <td id=\"T_0c14a_row35_col11\" class=\"data row35 col11\" >3</td>\n",
       "      <td id=\"T_0c14a_row35_col12\" class=\"data row35 col12\" >1447035</td>\n",
       "      <td id=\"T_0c14a_row35_col13\" class=\"data row35 col13\" >l5.MV1</td>\n",
       "      <td id=\"T_0c14a_row35_col14\" class=\"data row35 col14\" >0.001656</td>\n",
       "      <td id=\"T_0c14a_row35_col15\" class=\"data row35 col15\" >41171</td>\n",
       "      <td id=\"T_0c14a_row35_col16\" class=\"data row35 col16\" >3271731</td>\n",
       "      <td id=\"T_0c14a_row35_col17\" class=\"data row35 col17\" >416.699219</td>\n",
       "      <td id=\"T_0c14a_row35_col18\" class=\"data row35 col18\" >55296.000000</td>\n",
       "      <td id=\"T_0c14a_row35_col19\" class=\"data row35 col19\" >1447035</td>\n",
       "      <td id=\"T_0c14a_row35_col20\" class=\"data row35 col20\" >0.001855</td>\n",
       "      <td id=\"T_0c14a_row35_col21\" class=\"data row35 col21\" >39003</td>\n",
       "      <td id=\"T_0c14a_row35_col22\" class=\"data row35 col22\" >2168</td>\n",
       "      <td id=\"T_0c14a_row35_col23\" class=\"data row35 col23\" >159.207031</td>\n",
       "      <td id=\"T_0c14a_row35_col24\" class=\"data row35 col24\" >163028</td>\n",
       "      <td id=\"T_0c14a_row35_col25\" class=\"data row35 col25\" >0</td>\n",
       "      <td id=\"T_0c14a_row35_col26\" class=\"data row35 col26\" >85.132812</td>\n",
       "      <td id=\"T_0c14a_row35_col27\" class=\"data row35 col27\" >87176</td>\n",
       "      <td id=\"T_0c14a_row35_col28\" class=\"data row35 col28\" >152600</td>\n",
       "      <td id=\"T_0c14a_row35_col29\" class=\"data row35 col29\" >0</td>\n",
       "      <td id=\"T_0c14a_row35_col30\" class=\"data row35 col30\" >70236</td>\n",
       "      <td id=\"T_0c14a_row35_col31\" class=\"data row35 col31\" >[]</td>\n",
       "      <td id=\"T_0c14a_row35_col32\" class=\"data row35 col32\" >2023-02-22T19:53:41</td>\n",
       "      <td id=\"T_0c14a_row35_col33\" class=\"data row35 col33\" >['susbrock', 'model_DB', 't3imun41']</td>\n",
       "      <td id=\"T_0c14a_row35_col34\" class=\"data row35 col34\" >None</td>\n",
       "      <td id=\"T_0c14a_row35_col35\" class=\"data row35 col35\" >0.799872</td>\n",
       "      <td id=\"T_0c14a_row35_col36\" class=\"data row35 col36\" >54.000000</td>\n",
       "      <td id=\"T_0c14a_row35_col37\" class=\"data row35 col37\" >85.132812</td>\n",
       "      <td id=\"T_0c14a_row35_col38\" class=\"data row35 col38\" >68.589844</td>\n",
       "    </tr>\n",
       "    <tr>\n",
       "      <th id=\"T_0c14a_level0_row36\" class=\"row_heading level0 row36\" >36</th>\n",
       "      <td id=\"T_0c14a_row36_col0\" class=\"data row36 col0\" >84h2pyub</td>\n",
       "      <td id=\"T_0c14a_row36_col1\" class=\"data row36 col1\" >MobilenetV3small_1_96_c3_o3_keras</td>\n",
       "      <td id=\"T_0c14a_row36_col2\" class=\"data row36 col2\" >finished</td>\n",
       "      <td id=\"T_0c14a_row36_col3\" class=\"data row36 col3\" >11.050 M</td>\n",
       "      <td id=\"T_0c14a_row36_col4\" class=\"data row36 col4\" ><a target=\"_blank\" href=\"https://wandb.ai/susbrock/model_DB/runs/84h2pyub\">https://wandb.ai/susbrock/model_DB/runs/84h2pyub</a></td>\n",
       "      <td id=\"T_0c14a_row36_col5\" class=\"data row36 col5\" >MobilenetV3small_1_96_c3_o3_keras</td>\n",
       "      <td id=\"T_0c14a_row36_col6\" class=\"data row36 col6\" >22.788 M</td>\n",
       "      <td id=\"T_0c14a_row36_col7\" class=\"data row36 col7\" >1.0</td>\n",
       "      <td id=\"T_0c14a_row36_col8\" class=\"data row36 col8\" >3</td>\n",
       "      <td id=\"T_0c14a_row36_col9\" class=\"data row36 col9\" >96</td>\n",
       "      <td id=\"T_0c14a_row36_col10\" class=\"data row36 col10\" >23377426</td>\n",
       "      <td id=\"T_0c14a_row36_col11\" class=\"data row36 col11\" >3</td>\n",
       "      <td id=\"T_0c14a_row36_col12\" class=\"data row36 col12\" >11050432</td>\n",
       "      <td id=\"T_0c14a_row36_col13\" class=\"data row36 col13\" >keras</td>\n",
       "      <td id=\"T_0c14a_row36_col14\" class=\"data row36 col14\" >0.010763</td>\n",
       "      <td id=\"T_0c14a_row36_col15\" class=\"data row36 col15\" >1533043</td>\n",
       "      <td id=\"T_0c14a_row36_col16\" class=\"data row36 col16\" >23488030</td>\n",
       "      <td id=\"T_0c14a_row36_col17\" class=\"data row36 col17\" >6650.437500</td>\n",
       "      <td id=\"T_0c14a_row36_col18\" class=\"data row36 col18\" >86472.000000</td>\n",
       "      <td id=\"T_0c14a_row36_col19\" class=\"data row36 col19\" >11050432</td>\n",
       "      <td id=\"T_0c14a_row36_col20\" class=\"data row36 col20\" >0.010962</td>\n",
       "      <td id=\"T_0c14a_row36_col21\" class=\"data row36 col21\" >1520931</td>\n",
       "      <td id=\"T_0c14a_row36_col22\" class=\"data row36 col22\" >12112</td>\n",
       "      <td id=\"T_0c14a_row36_col23\" class=\"data row36 col23\" >5944.945312</td>\n",
       "      <td id=\"T_0c14a_row36_col24\" class=\"data row36 col24\" >6087624</td>\n",
       "      <td id=\"T_0c14a_row36_col25\" class=\"data row36 col25\" >0</td>\n",
       "      <td id=\"T_0c14a_row36_col26\" class=\"data row36 col26\" >1780.882812</td>\n",
       "      <td id=\"T_0c14a_row36_col27\" class=\"data row36 col27\" >1823624</td>\n",
       "      <td id=\"T_0c14a_row36_col28\" class=\"data row36 col28\" >440736</td>\n",
       "      <td id=\"T_0c14a_row36_col29\" class=\"data row36 col29\" >0</td>\n",
       "      <td id=\"T_0c14a_row36_col30\" class=\"data row36 col30\" >182024</td>\n",
       "      <td id=\"T_0c14a_row36_col31\" class=\"data row36 col31\" >[]</td>\n",
       "      <td id=\"T_0c14a_row36_col32\" class=\"data row36 col32\" >2023-02-20T20:34:53</td>\n",
       "      <td id=\"T_0c14a_row36_col33\" class=\"data row36 col33\" >['susbrock', 'model_DB', '84h2pyub']</td>\n",
       "      <td id=\"T_0c14a_row36_col34\" class=\"data row36 col34\" >None</td>\n",
       "      <td id=\"T_0c14a_row36_col35\" class=\"data row36 col35\" >0.000000</td>\n",
       "      <td id=\"T_0c14a_row36_col36\" class=\"data row36 col36\" >84.445312</td>\n",
       "      <td id=\"T_0c14a_row36_col37\" class=\"data row36 col37\" >1780.882812</td>\n",
       "      <td id=\"T_0c14a_row36_col38\" class=\"data row36 col38\" >177.757812</td>\n",
       "    </tr>\n",
       "    <tr>\n",
       "      <th id=\"T_0c14a_level0_row37\" class=\"row_heading level0 row37\" >37</th>\n",
       "      <td id=\"T_0c14a_row37_col0\" class=\"data row37 col0\" >zmlnt7qa</td>\n",
       "      <td id=\"T_0c14a_row37_col1\" class=\"data row37 col1\" >shufflenetv2tiny_0.05_96_c3_o2_f24l128</td>\n",
       "      <td id=\"T_0c14a_row37_col2\" class=\"data row37 col2\" >finished</td>\n",
       "      <td id=\"T_0c14a_row37_col3\" class=\"data row37 col3\" >1.900 M</td>\n",
       "      <td id=\"T_0c14a_row37_col4\" class=\"data row37 col4\" ><a target=\"_blank\" href=\"https://wandb.ai/susbrock/model_DB/runs/zmlnt7qa\">https://wandb.ai/susbrock/model_DB/runs/zmlnt7qa</a></td>\n",
       "      <td id=\"T_0c14a_row37_col5\" class=\"data row37 col5\" >shufflenetv2tiny_0.05_96_c3_o2_f24l128</td>\n",
       "      <td id=\"T_0c14a_row37_col6\" class=\"data row37 col6\" >4.073 M</td>\n",
       "      <td id=\"T_0c14a_row37_col7\" class=\"data row37 col7\" >0.05</td>\n",
       "      <td id=\"T_0c14a_row37_col8\" class=\"data row37 col8\" >2</td>\n",
       "      <td id=\"T_0c14a_row37_col9\" class=\"data row37 col9\" >96</td>\n",
       "      <td id=\"T_0c14a_row37_col10\" class=\"data row37 col10\" >4160826</td>\n",
       "      <td id=\"T_0c14a_row37_col11\" class=\"data row37 col11\" >3</td>\n",
       "      <td id=\"T_0c14a_row37_col12\" class=\"data row37 col12\" >1899760</td>\n",
       "      <td id=\"T_0c14a_row37_col13\" class=\"data row37 col13\" >f24l128</td>\n",
       "      <td id=\"T_0c14a_row37_col14\" class=\"data row37 col14\" >0.003729</td>\n",
       "      <td id=\"T_0c14a_row37_col15\" class=\"data row37 col15\" >20802</td>\n",
       "      <td id=\"T_0c14a_row37_col16\" class=\"data row37 col16\" >4271426</td>\n",
       "      <td id=\"T_0c14a_row37_col17\" class=\"data row37 col17\" >786.578125</td>\n",
       "      <td id=\"T_0c14a_row37_col18\" class=\"data row37 col18\" >80664.000000</td>\n",
       "      <td id=\"T_0c14a_row37_col19\" class=\"data row37 col19\" >1899760</td>\n",
       "      <td id=\"T_0c14a_row37_col20\" class=\"data row37 col20\" >0.003928</td>\n",
       "      <td id=\"T_0c14a_row37_col21\" class=\"data row37 col21\" >19254</td>\n",
       "      <td id=\"T_0c14a_row37_col22\" class=\"data row37 col22\" >1548</td>\n",
       "      <td id=\"T_0c14a_row37_col23\" class=\"data row37 col23\" >135.328125</td>\n",
       "      <td id=\"T_0c14a_row37_col24\" class=\"data row37 col24\" >138576</td>\n",
       "      <td id=\"T_0c14a_row37_col25\" class=\"data row37 col25\" >0</td>\n",
       "      <td id=\"T_0c14a_row37_col26\" class=\"data row37 col26\" >119.015625</td>\n",
       "      <td id=\"T_0c14a_row37_col27\" class=\"data row37 col27\" >121872</td>\n",
       "      <td id=\"T_0c14a_row37_col28\" class=\"data row37 col28\" >357736</td>\n",
       "      <td id=\"T_0c14a_row37_col29\" class=\"data row37 col29\" >0</td>\n",
       "      <td id=\"T_0c14a_row37_col30\" class=\"data row37 col30\" >117296</td>\n",
       "      <td id=\"T_0c14a_row37_col31\" class=\"data row37 col31\" >[]</td>\n",
       "      <td id=\"T_0c14a_row37_col32\" class=\"data row37 col32\" >2023-02-20T19:14:20</td>\n",
       "      <td id=\"T_0c14a_row37_col33\" class=\"data row37 col33\" >['susbrock', 'model_DB', 'zmlnt7qa']</td>\n",
       "      <td id=\"T_0c14a_row37_col34\" class=\"data row37 col34\" >None</td>\n",
       "      <td id=\"T_0c14a_row37_col35\" class=\"data row37 col35\" >0.771231</td>\n",
       "      <td id=\"T_0c14a_row37_col36\" class=\"data row37 col36\" >78.773438</td>\n",
       "      <td id=\"T_0c14a_row37_col37\" class=\"data row37 col37\" >119.015625</td>\n",
       "      <td id=\"T_0c14a_row37_col38\" class=\"data row37 col38\" >114.546875</td>\n",
       "    </tr>\n",
       "    <tr>\n",
       "      <th id=\"T_0c14a_level0_row38\" class=\"row_heading level0 row38\" >38</th>\n",
       "      <td id=\"T_0c14a_row38_col0\" class=\"data row38 col0\" >287svej7</td>\n",
       "      <td id=\"T_0c14a_row38_col1\" class=\"data row38 col1\" >shufflenetv2tiny_0.1_96_c3_o2_f24l128</td>\n",
       "      <td id=\"T_0c14a_row38_col2\" class=\"data row38 col2\" >finished</td>\n",
       "      <td id=\"T_0c14a_row38_col3\" class=\"data row38 col3\" >2.741 M</td>\n",
       "      <td id=\"T_0c14a_row38_col4\" class=\"data row38 col4\" ><a target=\"_blank\" href=\"https://wandb.ai/susbrock/model_DB/runs/287svej7\">https://wandb.ai/susbrock/model_DB/runs/287svej7</a></td>\n",
       "      <td id=\"T_0c14a_row38_col5\" class=\"data row38 col5\" >shufflenetv2tiny_0.1_96_c3_o2_f24l128</td>\n",
       "      <td id=\"T_0c14a_row38_col6\" class=\"data row38 col6\" >5.799 M</td>\n",
       "      <td id=\"T_0c14a_row38_col7\" class=\"data row38 col7\" >0.1</td>\n",
       "      <td id=\"T_0c14a_row38_col8\" class=\"data row38 col8\" >2</td>\n",
       "      <td id=\"T_0c14a_row38_col9\" class=\"data row38 col9\" >96</td>\n",
       "      <td id=\"T_0c14a_row38_col10\" class=\"data row38 col10\" >5916690</td>\n",
       "      <td id=\"T_0c14a_row38_col11\" class=\"data row38 col11\" >3</td>\n",
       "      <td id=\"T_0c14a_row38_col12\" class=\"data row38 col12\" >2741080</td>\n",
       "      <td id=\"T_0c14a_row38_col13\" class=\"data row38 col13\" >f24l128</td>\n",
       "      <td id=\"T_0c14a_row38_col14\" class=\"data row38 col14\" >0.003817</td>\n",
       "      <td id=\"T_0c14a_row38_col15\" class=\"data row38 col15\" >56058</td>\n",
       "      <td id=\"T_0c14a_row38_col16\" class=\"data row38 col16\" >6027290</td>\n",
       "      <td id=\"T_0c14a_row38_col17\" class=\"data row38 col17\" >927.585938</td>\n",
       "      <td id=\"T_0c14a_row38_col18\" class=\"data row38 col18\" >80664.000000</td>\n",
       "      <td id=\"T_0c14a_row38_col19\" class=\"data row38 col19\" >2741080</td>\n",
       "      <td id=\"T_0c14a_row38_col20\" class=\"data row38 col20\" >0.004017</td>\n",
       "      <td id=\"T_0c14a_row38_col21\" class=\"data row38 col21\" >53058</td>\n",
       "      <td id=\"T_0c14a_row38_col22\" class=\"data row38 col22\" >3000</td>\n",
       "      <td id=\"T_0c14a_row38_col23\" class=\"data row38 col23\" >261.941406</td>\n",
       "      <td id=\"T_0c14a_row38_col24\" class=\"data row38 col24\" >268228</td>\n",
       "      <td id=\"T_0c14a_row38_col25\" class=\"data row38 col25\" >0</td>\n",
       "      <td id=\"T_0c14a_row38_col26\" class=\"data row38 col26\" >167.859375</td>\n",
       "      <td id=\"T_0c14a_row38_col27\" class=\"data row38 col27\" >171888</td>\n",
       "      <td id=\"T_0c14a_row38_col28\" class=\"data row38 col28\" >363356</td>\n",
       "      <td id=\"T_0c14a_row38_col29\" class=\"data row38 col29\" >0</td>\n",
       "      <td id=\"T_0c14a_row38_col30\" class=\"data row38 col30\" >122944</td>\n",
       "      <td id=\"T_0c14a_row38_col31\" class=\"data row38 col31\" >[]</td>\n",
       "      <td id=\"T_0c14a_row38_col32\" class=\"data row38 col32\" >2023-02-20T19:05:05</td>\n",
       "      <td id=\"T_0c14a_row38_col33\" class=\"data row38 col33\" >['susbrock', 'model_DB', '287svej7']</td>\n",
       "      <td id=\"T_0c14a_row38_col34\" class=\"data row38 col34\" >None</td>\n",
       "      <td id=\"T_0c14a_row38_col35\" class=\"data row38 col35\" >0.833531</td>\n",
       "      <td id=\"T_0c14a_row38_col36\" class=\"data row38 col36\" >78.773438</td>\n",
       "      <td id=\"T_0c14a_row38_col37\" class=\"data row38 col37\" >167.859375</td>\n",
       "      <td id=\"T_0c14a_row38_col38\" class=\"data row38 col38\" >120.062500</td>\n",
       "    </tr>\n",
       "    <tr>\n",
       "      <th id=\"T_0c14a_level0_row39\" class=\"row_heading level0 row39\" >39</th>\n",
       "      <td id=\"T_0c14a_row39_col0\" class=\"data row39 col0\" >l9yu765d</td>\n",
       "      <td id=\"T_0c14a_row39_col1\" class=\"data row39 col1\" >shufflenetv2tiny_0.25_96_c3_o2_f24l128</td>\n",
       "      <td id=\"T_0c14a_row39_col2\" class=\"data row39 col2\" >finished</td>\n",
       "      <td id=\"T_0c14a_row39_col3\" class=\"data row39 col3\" >6.961 M</td>\n",
       "      <td id=\"T_0c14a_row39_col4\" class=\"data row39 col4\" ><a target=\"_blank\" href=\"https://wandb.ai/susbrock/model_DB/runs/l9yu765d\">https://wandb.ai/susbrock/model_DB/runs/l9yu765d</a></td>\n",
       "      <td id=\"T_0c14a_row39_col5\" class=\"data row39 col5\" >shufflenetv2tiny_0.25_96_c3_o2_f24l128</td>\n",
       "      <td id=\"T_0c14a_row39_col6\" class=\"data row39 col6\" >14.355 M</td>\n",
       "      <td id=\"T_0c14a_row39_col7\" class=\"data row39 col7\" >0.25</td>\n",
       "      <td id=\"T_0c14a_row39_col8\" class=\"data row39 col8\" >2</td>\n",
       "      <td id=\"T_0c14a_row39_col9\" class=\"data row39 col9\" >96</td>\n",
       "      <td id=\"T_0c14a_row39_col10\" class=\"data row39 col10\" >14552658</td>\n",
       "      <td id=\"T_0c14a_row39_col11\" class=\"data row39 col11\" >3</td>\n",
       "      <td id=\"T_0c14a_row39_col12\" class=\"data row39 col12\" >6961432</td>\n",
       "      <td id=\"T_0c14a_row39_col13\" class=\"data row39 col13\" >f24l128</td>\n",
       "      <td id=\"T_0c14a_row39_col14\" class=\"data row39 col14\" >0.004929</td>\n",
       "      <td id=\"T_0c14a_row39_col15\" class=\"data row39 col15\" >227162</td>\n",
       "      <td id=\"T_0c14a_row39_col16\" class=\"data row39 col16\" >14663258</td>\n",
       "      <td id=\"T_0c14a_row39_col17\" class=\"data row39 col17\" >1593.992188</td>\n",
       "      <td id=\"T_0c14a_row39_col18\" class=\"data row39 col18\" >80664.000000</td>\n",
       "      <td id=\"T_0c14a_row39_col19\" class=\"data row39 col19\" >6961432</td>\n",
       "      <td id=\"T_0c14a_row39_col20\" class=\"data row39 col20\" >0.005128</td>\n",
       "      <td id=\"T_0c14a_row39_col21\" class=\"data row39 col21\" >220290</td>\n",
       "      <td id=\"T_0c14a_row39_col22\" class=\"data row39 col22\" >6872</td>\n",
       "      <td id=\"T_0c14a_row39_col23\" class=\"data row39 col23\" >900.687500</td>\n",
       "      <td id=\"T_0c14a_row39_col24\" class=\"data row39 col24\" >922304</td>\n",
       "      <td id=\"T_0c14a_row39_col25\" class=\"data row39 col25\" >0</td>\n",
       "      <td id=\"T_0c14a_row39_col26\" class=\"data row39 col26\" >373.265625</td>\n",
       "      <td id=\"T_0c14a_row39_col27\" class=\"data row39 col27\" >382224</td>\n",
       "      <td id=\"T_0c14a_row39_col28\" class=\"data row39 col28\" >378820</td>\n",
       "      <td id=\"T_0c14a_row39_col29\" class=\"data row39 col29\" >0</td>\n",
       "      <td id=\"T_0c14a_row39_col30\" class=\"data row39 col30\" >138420</td>\n",
       "      <td id=\"T_0c14a_row39_col31\" class=\"data row39 col31\" >[]</td>\n",
       "      <td id=\"T_0c14a_row39_col32\" class=\"data row39 col32\" >2023-02-20T19:01:34</td>\n",
       "      <td id=\"T_0c14a_row39_col33\" class=\"data row39 col33\" >['susbrock', 'model_DB', 'l9yu765d']</td>\n",
       "      <td id=\"T_0c14a_row39_col34\" class=\"data row39 col34\" >None</td>\n",
       "      <td id=\"T_0c14a_row39_col35\" class=\"data row39 col35\" >0.851865</td>\n",
       "      <td id=\"T_0c14a_row39_col36\" class=\"data row39 col36\" >78.773438</td>\n",
       "      <td id=\"T_0c14a_row39_col37\" class=\"data row39 col37\" >373.265625</td>\n",
       "      <td id=\"T_0c14a_row39_col38\" class=\"data row39 col38\" >135.175781</td>\n",
       "    </tr>\n",
       "    <tr>\n",
       "      <th id=\"T_0c14a_level0_row40\" class=\"row_heading level0 row40\" >40</th>\n",
       "      <td id=\"T_0c14a_row40_col0\" class=\"data row40 col0\" >r7tncy00</td>\n",
       "      <td id=\"T_0c14a_row40_col1\" class=\"data row40 col1\" >shufflenetv2tiny_0.25_96_c3_o2_f24l512</td>\n",
       "      <td id=\"T_0c14a_row40_col2\" class=\"data row40 col2\" >finished</td>\n",
       "      <td id=\"T_0c14a_row40_col3\" class=\"data row40 col3\" >7.736 M</td>\n",
       "      <td id=\"T_0c14a_row40_col4\" class=\"data row40 col4\" ><a target=\"_blank\" href=\"https://wandb.ai/susbrock/model_DB/runs/r7tncy00\">https://wandb.ai/susbrock/model_DB/runs/r7tncy00</a></td>\n",
       "      <td id=\"T_0c14a_row40_col5\" class=\"data row40 col5\" >shufflenetv2tiny_0.25_96_c3_o2_f24l512</td>\n",
       "      <td id=\"T_0c14a_row40_col6\" class=\"data row40 col6\" >15.905 M</td>\n",
       "      <td id=\"T_0c14a_row40_col7\" class=\"data row40 col7\" >0.25</td>\n",
       "      <td id=\"T_0c14a_row40_col8\" class=\"data row40 col8\" >2</td>\n",
       "      <td id=\"T_0c14a_row40_col9\" class=\"data row40 col9\" >96</td>\n",
       "      <td id=\"T_0c14a_row40_col10\" class=\"data row40 col10\" >16105938</td>\n",
       "      <td id=\"T_0c14a_row40_col11\" class=\"data row40 col11\" >3</td>\n",
       "      <td id=\"T_0c14a_row40_col12\" class=\"data row40 col12\" >7736344</td>\n",
       "      <td id=\"T_0c14a_row40_col13\" class=\"data row40 col13\" >f24l512</td>\n",
       "      <td id=\"T_0c14a_row40_col14\" class=\"data row40 col14\" >0.005283</td>\n",
       "      <td id=\"T_0c14a_row40_col15\" class=\"data row40 col15\" >313946</td>\n",
       "      <td id=\"T_0c14a_row40_col16\" class=\"data row40 col16\" >16216538</td>\n",
       "      <td id=\"T_0c14a_row40_col17\" class=\"data row40 col17\" >1933.992188</td>\n",
       "      <td id=\"T_0c14a_row40_col18\" class=\"data row40 col18\" >80664.000000</td>\n",
       "      <td id=\"T_0c14a_row40_col19\" class=\"data row40 col19\" >7736344</td>\n",
       "      <td id=\"T_0c14a_row40_col20\" class=\"data row40 col20\" >0.005482</td>\n",
       "      <td id=\"T_0c14a_row40_col21\" class=\"data row40 col21\" >307074</td>\n",
       "      <td id=\"T_0c14a_row40_col22\" class=\"data row40 col22\" >6872</td>\n",
       "      <td id=\"T_0c14a_row40_col23\" class=\"data row40 col23\" >1241.187500</td>\n",
       "      <td id=\"T_0c14a_row40_col24\" class=\"data row40 col24\" >1270976</td>\n",
       "      <td id=\"T_0c14a_row40_col25\" class=\"data row40 col25\" >0</td>\n",
       "      <td id=\"T_0c14a_row40_col26\" class=\"data row40 col26\" >468.515625</td>\n",
       "      <td id=\"T_0c14a_row40_col27\" class=\"data row40 col27\" >479760</td>\n",
       "      <td id=\"T_0c14a_row40_col28\" class=\"data row40 col28\" >381892</td>\n",
       "      <td id=\"T_0c14a_row40_col29\" class=\"data row40 col29\" >0</td>\n",
       "      <td id=\"T_0c14a_row40_col30\" class=\"data row40 col30\" >141492</td>\n",
       "      <td id=\"T_0c14a_row40_col31\" class=\"data row40 col31\" >[]</td>\n",
       "      <td id=\"T_0c14a_row40_col32\" class=\"data row40 col32\" >2023-02-19T14:17:41</td>\n",
       "      <td id=\"T_0c14a_row40_col33\" class=\"data row40 col33\" >['susbrock', 'model_DB', 'r7tncy00']</td>\n",
       "      <td id=\"T_0c14a_row40_col34\" class=\"data row40 col34\" >None</td>\n",
       "      <td id=\"T_0c14a_row40_col35\" class=\"data row40 col35\" >0.851136</td>\n",
       "      <td id=\"T_0c14a_row40_col36\" class=\"data row40 col36\" >78.773438</td>\n",
       "      <td id=\"T_0c14a_row40_col37\" class=\"data row40 col37\" >468.515625</td>\n",
       "      <td id=\"T_0c14a_row40_col38\" class=\"data row40 col38\" >138.175781</td>\n",
       "    </tr>\n",
       "    <tr>\n",
       "      <th id=\"T_0c14a_level0_row41\" class=\"row_heading level0 row41\" >41</th>\n",
       "      <td id=\"T_0c14a_row41_col0\" class=\"data row41 col0\" >x4xe6px9</td>\n",
       "      <td id=\"T_0c14a_row41_col1\" class=\"data row41 col1\" >shufflenetv2tiny_0.05_96_c3_o2_f24l1024</td>\n",
       "      <td id=\"T_0c14a_row41_col2\" class=\"data row41 col2\" >finished</td>\n",
       "      <td id=\"T_0c14a_row41_col3\" class=\"data row41 col3\" >2.289 M</td>\n",
       "      <td id=\"T_0c14a_row41_col4\" class=\"data row41 col4\" ><a target=\"_blank\" href=\"https://wandb.ai/susbrock/model_DB/runs/x4xe6px9\">https://wandb.ai/susbrock/model_DB/runs/x4xe6px9</a></td>\n",
       "      <td id=\"T_0c14a_row41_col5\" class=\"data row41 col5\" >shufflenetv2tiny_0.05_96_c3_o2_f24l1024</td>\n",
       "      <td id=\"T_0c14a_row41_col6\" class=\"data row41 col6\" >4.851 M</td>\n",
       "      <td id=\"T_0c14a_row41_col7\" class=\"data row41 col7\" >0.05</td>\n",
       "      <td id=\"T_0c14a_row41_col8\" class=\"data row41 col8\" >2</td>\n",
       "      <td id=\"T_0c14a_row41_col9\" class=\"data row41 col9\" >96</td>\n",
       "      <td id=\"T_0c14a_row41_col10\" class=\"data row41 col10\" >4946618</td>\n",
       "      <td id=\"T_0c14a_row41_col11\" class=\"data row41 col11\" >3</td>\n",
       "      <td id=\"T_0c14a_row41_col12\" class=\"data row41 col12\" >2288624</td>\n",
       "      <td id=\"T_0c14a_row41_col13\" class=\"data row41 col13\" >f24l1024</td>\n",
       "      <td id=\"T_0c14a_row41_col14\" class=\"data row41 col14\" >0.003780</td>\n",
       "      <td id=\"T_0c14a_row41_col15\" class=\"data row41 col15\" >65602</td>\n",
       "      <td id=\"T_0c14a_row41_col16\" class=\"data row41 col16\" >5057218</td>\n",
       "      <td id=\"T_0c14a_row41_col17\" class=\"data row41 col17\" >962.578125</td>\n",
       "      <td id=\"T_0c14a_row41_col18\" class=\"data row41 col18\" >80664.000000</td>\n",
       "      <td id=\"T_0c14a_row41_col19\" class=\"data row41 col19\" >2288624</td>\n",
       "      <td id=\"T_0c14a_row41_col20\" class=\"data row41 col20\" >0.003979</td>\n",
       "      <td id=\"T_0c14a_row41_col21\" class=\"data row41 col21\" >64054</td>\n",
       "      <td id=\"T_0c14a_row41_col22\" class=\"data row41 col22\" >1548</td>\n",
       "      <td id=\"T_0c14a_row41_col23\" class=\"data row41 col23\" >313.828125</td>\n",
       "      <td id=\"T_0c14a_row41_col24\" class=\"data row41 col24\" >321360</td>\n",
       "      <td id=\"T_0c14a_row41_col25\" class=\"data row41 col25\" >0</td>\n",
       "      <td id=\"T_0c14a_row41_col26\" class=\"data row41 col26\" >187.265625</td>\n",
       "      <td id=\"T_0c14a_row41_col27\" class=\"data row41 col27\" >191760</td>\n",
       "      <td id=\"T_0c14a_row41_col28\" class=\"data row41 col28\" >364904</td>\n",
       "      <td id=\"T_0c14a_row41_col29\" class=\"data row41 col29\" >0</td>\n",
       "      <td id=\"T_0c14a_row41_col30\" class=\"data row41 col30\" >124464</td>\n",
       "      <td id=\"T_0c14a_row41_col31\" class=\"data row41 col31\" >[]</td>\n",
       "      <td id=\"T_0c14a_row41_col32\" class=\"data row41 col32\" >2023-02-19T14:15:09</td>\n",
       "      <td id=\"T_0c14a_row41_col33\" class=\"data row41 col33\" >['susbrock', 'model_DB', 'x4xe6px9']</td>\n",
       "      <td id=\"T_0c14a_row41_col34\" class=\"data row41 col34\" >None</td>\n",
       "      <td id=\"T_0c14a_row41_col35\" class=\"data row41 col35\" >0.000000</td>\n",
       "      <td id=\"T_0c14a_row41_col36\" class=\"data row41 col36\" >78.773438</td>\n",
       "      <td id=\"T_0c14a_row41_col37\" class=\"data row41 col37\" >187.265625</td>\n",
       "      <td id=\"T_0c14a_row41_col38\" class=\"data row41 col38\" >121.546875</td>\n",
       "    </tr>\n",
       "    <tr>\n",
       "      <th id=\"T_0c14a_level0_row42\" class=\"row_heading level0 row42\" >42</th>\n",
       "      <td id=\"T_0c14a_row42_col0\" class=\"data row42 col0\" >d1jdmubc</td>\n",
       "      <td id=\"T_0c14a_row42_col1\" class=\"data row42 col1\" >shufflenetv2tiny_0.1_96_c3_o2_f24l1024</td>\n",
       "      <td id=\"T_0c14a_row42_col2\" class=\"data row42 col2\" >finished</td>\n",
       "      <td id=\"T_0c14a_row42_col3\" class=\"data row42 col3\" >3.517 M</td>\n",
       "      <td id=\"T_0c14a_row42_col4\" class=\"data row42 col4\" ><a target=\"_blank\" href=\"https://wandb.ai/susbrock/model_DB/runs/d1jdmubc\">https://wandb.ai/susbrock/model_DB/runs/d1jdmubc</a></td>\n",
       "      <td id=\"T_0c14a_row42_col5\" class=\"data row42 col5\" >shufflenetv2tiny_0.1_96_c3_o2_f24l1024</td>\n",
       "      <td id=\"T_0c14a_row42_col6\" class=\"data row42 col6\" >7.351 M</td>\n",
       "      <td id=\"T_0c14a_row42_col7\" class=\"data row42 col7\" >0.1</td>\n",
       "      <td id=\"T_0c14a_row42_col8\" class=\"data row42 col8\" >2</td>\n",
       "      <td id=\"T_0c14a_row42_col9\" class=\"data row42 col9\" >96</td>\n",
       "      <td id=\"T_0c14a_row42_col10\" class=\"data row42 col10\" >7476626</td>\n",
       "      <td id=\"T_0c14a_row42_col11\" class=\"data row42 col11\" >3</td>\n",
       "      <td id=\"T_0c14a_row42_col12\" class=\"data row42 col12\" >3517016</td>\n",
       "      <td id=\"T_0c14a_row42_col13\" class=\"data row42 col13\" >f24l1024</td>\n",
       "      <td id=\"T_0c14a_row42_col14\" class=\"data row42 col14\" >0.003940</td>\n",
       "      <td id=\"T_0c14a_row42_col15\" class=\"data row42 col15\" >143866</td>\n",
       "      <td id=\"T_0c14a_row42_col16\" class=\"data row42 col16\" >7587226</td>\n",
       "      <td id=\"T_0c14a_row42_col17\" class=\"data row42 col17\" >1271.585938</td>\n",
       "      <td id=\"T_0c14a_row42_col18\" class=\"data row42 col18\" >80664.000000</td>\n",
       "      <td id=\"T_0c14a_row42_col19\" class=\"data row42 col19\" >3517016</td>\n",
       "      <td id=\"T_0c14a_row42_col20\" class=\"data row42 col20\" >0.004139</td>\n",
       "      <td id=\"T_0c14a_row42_col21\" class=\"data row42 col21\" >140866</td>\n",
       "      <td id=\"T_0c14a_row42_col22\" class=\"data row42 col22\" >3000</td>\n",
       "      <td id=\"T_0c14a_row42_col23\" class=\"data row42 col23\" >608.441406</td>\n",
       "      <td id=\"T_0c14a_row42_col24\" class=\"data row42 col24\" >623044</td>\n",
       "      <td id=\"T_0c14a_row42_col25\" class=\"data row42 col25\" >0</td>\n",
       "      <td id=\"T_0c14a_row42_col26\" class=\"data row42 col26\" >278.109375</td>\n",
       "      <td id=\"T_0c14a_row42_col27\" class=\"data row42 col27\" >284784</td>\n",
       "      <td id=\"T_0c14a_row42_col28\" class=\"data row42 col28\" >370524</td>\n",
       "      <td id=\"T_0c14a_row42_col29\" class=\"data row42 col29\" >0</td>\n",
       "      <td id=\"T_0c14a_row42_col30\" class=\"data row42 col30\" >130112</td>\n",
       "      <td id=\"T_0c14a_row42_col31\" class=\"data row42 col31\" >[]</td>\n",
       "      <td id=\"T_0c14a_row42_col32\" class=\"data row42 col32\" >2023-02-19T14:12:31</td>\n",
       "      <td id=\"T_0c14a_row42_col33\" class=\"data row42 col33\" >['susbrock', 'model_DB', 'd1jdmubc']</td>\n",
       "      <td id=\"T_0c14a_row42_col34\" class=\"data row42 col34\" >None</td>\n",
       "      <td id=\"T_0c14a_row42_col35\" class=\"data row42 col35\" >0.828697</td>\n",
       "      <td id=\"T_0c14a_row42_col36\" class=\"data row42 col36\" >78.773438</td>\n",
       "      <td id=\"T_0c14a_row42_col37\" class=\"data row42 col37\" >278.109375</td>\n",
       "      <td id=\"T_0c14a_row42_col38\" class=\"data row42 col38\" >127.062500</td>\n",
       "    </tr>\n",
       "    <tr>\n",
       "      <th id=\"T_0c14a_level0_row43\" class=\"row_heading level0 row43\" >43</th>\n",
       "      <td id=\"T_0c14a_row43_col0\" class=\"data row43 col0\" >e0bbs9ge</td>\n",
       "      <td id=\"T_0c14a_row43_col1\" class=\"data row43 col1\" >shufflenetv2tiny_0.2_96_c3_o2_f24l1024</td>\n",
       "      <td id=\"T_0c14a_row43_col2\" class=\"data row43 col2\" >finished</td>\n",
       "      <td id=\"T_0c14a_row43_col3\" class=\"data row43 col3\" >7.187 M</td>\n",
       "      <td id=\"T_0c14a_row43_col4\" class=\"data row43 col4\" ><a target=\"_blank\" href=\"https://wandb.ai/susbrock/model_DB/runs/e0bbs9ge\">https://wandb.ai/susbrock/model_DB/runs/e0bbs9ge</a></td>\n",
       "      <td id=\"T_0c14a_row43_col5\" class=\"data row43 col5\" >shufflenetv2tiny_0.2_96_c3_o2_f24l1024</td>\n",
       "      <td id=\"T_0c14a_row43_col6\" class=\"data row43 col6\" >14.777 M</td>\n",
       "      <td id=\"T_0c14a_row43_col7\" class=\"data row43 col7\" >0.2</td>\n",
       "      <td id=\"T_0c14a_row43_col8\" class=\"data row43 col8\" >2</td>\n",
       "      <td id=\"T_0c14a_row43_col9\" class=\"data row43 col9\" >96</td>\n",
       "      <td id=\"T_0c14a_row43_col10\" class=\"data row43 col10\" >14962754</td>\n",
       "      <td id=\"T_0c14a_row43_col11\" class=\"data row43 col11\" >3</td>\n",
       "      <td id=\"T_0c14a_row43_col12\" class=\"data row43 col12\" >7186856</td>\n",
       "      <td id=\"T_0c14a_row43_col13\" class=\"data row43 col13\" >f24l1024</td>\n",
       "      <td id=\"T_0c14a_row43_col14\" class=\"data row43 col14\" >0.005244</td>\n",
       "      <td id=\"T_0c14a_row43_col15\" class=\"data row43 col15\" >347698</td>\n",
       "      <td id=\"T_0c14a_row43_col16\" class=\"data row43 col16\" >15073354</td>\n",
       "      <td id=\"T_0c14a_row43_col17\" class=\"data row43 col17\" >2066.468750</td>\n",
       "      <td id=\"T_0c14a_row43_col18\" class=\"data row43 col18\" >80664.000000</td>\n",
       "      <td id=\"T_0c14a_row43_col19\" class=\"data row43 col19\" >7186856</td>\n",
       "      <td id=\"T_0c14a_row43_col20\" class=\"data row43 col20\" >0.005443</td>\n",
       "      <td id=\"T_0c14a_row43_col21\" class=\"data row43 col21\" >341794</td>\n",
       "      <td id=\"T_0c14a_row43_col22\" class=\"data row43 col22\" >5904</td>\n",
       "      <td id=\"T_0c14a_row43_col23\" class=\"data row43 col23\" >1382.375000</td>\n",
       "      <td id=\"T_0c14a_row43_col24\" class=\"data row43 col24\" >1415552</td>\n",
       "      <td id=\"T_0c14a_row43_col25\" class=\"data row43 col25\" >0</td>\n",
       "      <td id=\"T_0c14a_row43_col26\" class=\"data row43 col26\" >505.921875</td>\n",
       "      <td id=\"T_0c14a_row43_col27\" class=\"data row43 col27\" >518064</td>\n",
       "      <td id=\"T_0c14a_row43_col28\" class=\"data row43 col28\" >382160</td>\n",
       "      <td id=\"T_0c14a_row43_col29\" class=\"data row43 col29\" >0</td>\n",
       "      <td id=\"T_0c14a_row43_col30\" class=\"data row43 col30\" >141748</td>\n",
       "      <td id=\"T_0c14a_row43_col31\" class=\"data row43 col31\" >[]</td>\n",
       "      <td id=\"T_0c14a_row43_col32\" class=\"data row43 col32\" >2023-02-19T14:09:48</td>\n",
       "      <td id=\"T_0c14a_row43_col33\" class=\"data row43 col33\" >['susbrock', 'model_DB', 'e0bbs9ge']</td>\n",
       "      <td id=\"T_0c14a_row43_col34\" class=\"data row43 col34\" >None</td>\n",
       "      <td id=\"T_0c14a_row43_col35\" class=\"data row43 col35\" >0.000000</td>\n",
       "      <td id=\"T_0c14a_row43_col36\" class=\"data row43 col36\" >78.773438</td>\n",
       "      <td id=\"T_0c14a_row43_col37\" class=\"data row43 col37\" >505.921875</td>\n",
       "      <td id=\"T_0c14a_row43_col38\" class=\"data row43 col38\" >138.425781</td>\n",
       "    </tr>\n",
       "    <tr>\n",
       "      <th id=\"T_0c14a_level0_row44\" class=\"row_heading level0 row44\" >44</th>\n",
       "      <td id=\"T_0c14a_row44_col0\" class=\"data row44 col0\" >1hl3dr3g</td>\n",
       "      <td id=\"T_0c14a_row44_col1\" class=\"data row44 col1\" >shufflenetv2tiny_0.25_96_c3_o2_f24l1024</td>\n",
       "      <td id=\"T_0c14a_row44_col2\" class=\"data row44 col2\" >finished</td>\n",
       "      <td id=\"T_0c14a_row44_col3\" class=\"data row44 col3\" >8.770 M</td>\n",
       "      <td id=\"T_0c14a_row44_col4\" class=\"data row44 col4\" ><a target=\"_blank\" href=\"https://wandb.ai/susbrock/model_DB/runs/1hl3dr3g\">https://wandb.ai/susbrock/model_DB/runs/1hl3dr3g</a></td>\n",
       "      <td id=\"T_0c14a_row44_col5\" class=\"data row44 col5\" >shufflenetv2tiny_0.25_96_c3_o2_f24l1024</td>\n",
       "      <td id=\"T_0c14a_row44_col6\" class=\"data row44 col6\" >17.971 M</td>\n",
       "      <td id=\"T_0c14a_row44_col7\" class=\"data row44 col7\" >0.25</td>\n",
       "      <td id=\"T_0c14a_row44_col8\" class=\"data row44 col8\" >2</td>\n",
       "      <td id=\"T_0c14a_row44_col9\" class=\"data row44 col9\" >96</td>\n",
       "      <td id=\"T_0c14a_row44_col10\" class=\"data row44 col10\" >18176978</td>\n",
       "      <td id=\"T_0c14a_row44_col11\" class=\"data row44 col11\" >3</td>\n",
       "      <td id=\"T_0c14a_row44_col12\" class=\"data row44 col12\" >8769560</td>\n",
       "      <td id=\"T_0c14a_row44_col13\" class=\"data row44 col13\" >f24l1024</td>\n",
       "      <td id=\"T_0c14a_row44_col14\" class=\"data row44 col14\" >0.005623</td>\n",
       "      <td id=\"T_0c14a_row44_col15\" class=\"data row44 col15\" >429658</td>\n",
       "      <td id=\"T_0c14a_row44_col16\" class=\"data row44 col16\" >18287578</td>\n",
       "      <td id=\"T_0c14a_row44_col17\" class=\"data row44 col17\" >2385.992188</td>\n",
       "      <td id=\"T_0c14a_row44_col18\" class=\"data row44 col18\" >80664.000000</td>\n",
       "      <td id=\"T_0c14a_row44_col19\" class=\"data row44 col19\" >8769560</td>\n",
       "      <td id=\"T_0c14a_row44_col20\" class=\"data row44 col20\" >0.005822</td>\n",
       "      <td id=\"T_0c14a_row44_col21\" class=\"data row44 col21\" >422786</td>\n",
       "      <td id=\"T_0c14a_row44_col22\" class=\"data row44 col22\" >6872</td>\n",
       "      <td id=\"T_0c14a_row44_col23\" class=\"data row44 col23\" >1695.187500</td>\n",
       "      <td id=\"T_0c14a_row44_col24\" class=\"data row44 col24\" >1735872</td>\n",
       "      <td id=\"T_0c14a_row44_col25\" class=\"data row44 col25\" >0</td>\n",
       "      <td id=\"T_0c14a_row44_col26\" class=\"data row44 col26\" >595.515625</td>\n",
       "      <td id=\"T_0c14a_row44_col27\" class=\"data row44 col27\" >609808</td>\n",
       "      <td id=\"T_0c14a_row44_col28\" class=\"data row44 col28\" >385988</td>\n",
       "      <td id=\"T_0c14a_row44_col29\" class=\"data row44 col29\" >0</td>\n",
       "      <td id=\"T_0c14a_row44_col30\" class=\"data row44 col30\" >145588</td>\n",
       "      <td id=\"T_0c14a_row44_col31\" class=\"data row44 col31\" >[]</td>\n",
       "      <td id=\"T_0c14a_row44_col32\" class=\"data row44 col32\" >2023-02-19T14:07:23</td>\n",
       "      <td id=\"T_0c14a_row44_col33\" class=\"data row44 col33\" >['susbrock', 'model_DB', '1hl3dr3g']</td>\n",
       "      <td id=\"T_0c14a_row44_col34\" class=\"data row44 col34\" >None</td>\n",
       "      <td id=\"T_0c14a_row44_col35\" class=\"data row44 col35\" >0.812825</td>\n",
       "      <td id=\"T_0c14a_row44_col36\" class=\"data row44 col36\" >78.773438</td>\n",
       "      <td id=\"T_0c14a_row44_col37\" class=\"data row44 col37\" >595.515625</td>\n",
       "      <td id=\"T_0c14a_row44_col38\" class=\"data row44 col38\" >142.175781</td>\n",
       "    </tr>\n",
       "    <tr>\n",
       "      <th id=\"T_0c14a_level0_row45\" class=\"row_heading level0 row45\" >45</th>\n",
       "      <td id=\"T_0c14a_row45_col0\" class=\"data row45 col0\" >0qwur26s</td>\n",
       "      <td id=\"T_0c14a_row45_col1\" class=\"data row45 col1\" >shufflenetv2tiny_0.35_96_c3_o2_f24l1024</td>\n",
       "      <td id=\"T_0c14a_row45_col2\" class=\"data row45 col2\" >finished</td>\n",
       "      <td id=\"T_0c14a_row45_col3\" class=\"data row45 col3\" >12.474 M</td>\n",
       "      <td id=\"T_0c14a_row45_col4\" class=\"data row45 col4\" ><a target=\"_blank\" href=\"https://wandb.ai/susbrock/model_DB/runs/0qwur26s\">https://wandb.ai/susbrock/model_DB/runs/0qwur26s</a></td>\n",
       "      <td id=\"T_0c14a_row45_col5\" class=\"data row45 col5\" >shufflenetv2tiny_0.35_96_c3_o2_f24l1024</td>\n",
       "      <td id=\"T_0c14a_row45_col6\" class=\"data row45 col6\" >25.438 M</td>\n",
       "      <td id=\"T_0c14a_row45_col7\" class=\"data row45 col7\" >0.35</td>\n",
       "      <td id=\"T_0c14a_row45_col8\" class=\"data row45 col8\" >2</td>\n",
       "      <td id=\"T_0c14a_row45_col9\" class=\"data row45 col9\" >96</td>\n",
       "      <td id=\"T_0c14a_row45_col10\" class=\"data row45 col10\" >25683698</td>\n",
       "      <td id=\"T_0c14a_row45_col11\" class=\"data row45 col11\" >3</td>\n",
       "      <td id=\"T_0c14a_row45_col12\" class=\"data row45 col12\" >12474104</td>\n",
       "      <td id=\"T_0c14a_row45_col13\" class=\"data row45 col13\" >f24l1024</td>\n",
       "      <td id=\"T_0c14a_row45_col14\" class=\"data row45 col14\" >0.007399</td>\n",
       "      <td id=\"T_0c14a_row45_col15\" class=\"data row45 col15\" >614602</td>\n",
       "      <td id=\"T_0c14a_row45_col16\" class=\"data row45 col16\" >25794298</td>\n",
       "      <td id=\"T_0c14a_row45_col17\" class=\"data row45 col17\" >3112.046875</td>\n",
       "      <td id=\"T_0c14a_row45_col18\" class=\"data row45 col18\" >80664.000000</td>\n",
       "      <td id=\"T_0c14a_row45_col19\" class=\"data row45 col19\" >12474104</td>\n",
       "      <td id=\"T_0c14a_row45_col20\" class=\"data row45 col20\" >0.007598</td>\n",
       "      <td id=\"T_0c14a_row45_col21\" class=\"data row45 col21\" >605794</td>\n",
       "      <td id=\"T_0c14a_row45_col22\" class=\"data row45 col22\" >8808</td>\n",
       "      <td id=\"T_0c14a_row45_col23\" class=\"data row45 col23\" >2402.718750</td>\n",
       "      <td id=\"T_0c14a_row45_col24\" class=\"data row45 col24\" >2460384</td>\n",
       "      <td id=\"T_0c14a_row45_col25\" class=\"data row45 col25\" >0</td>\n",
       "      <td id=\"T_0c14a_row45_col26\" class=\"data row45 col26\" >795.250000</td>\n",
       "      <td id=\"T_0c14a_row45_col27\" class=\"data row45 col27\" >814336</td>\n",
       "      <td id=\"T_0c14a_row45_col28\" class=\"data row45 col28\" >393796</td>\n",
       "      <td id=\"T_0c14a_row45_col29\" class=\"data row45 col29\" >0</td>\n",
       "      <td id=\"T_0c14a_row45_col30\" class=\"data row45 col30\" >153396</td>\n",
       "      <td id=\"T_0c14a_row45_col31\" class=\"data row45 col31\" >[]</td>\n",
       "      <td id=\"T_0c14a_row45_col32\" class=\"data row45 col32\" >2023-02-19T14:04:58</td>\n",
       "      <td id=\"T_0c14a_row45_col33\" class=\"data row45 col33\" >['susbrock', 'model_DB', '0qwur26s']</td>\n",
       "      <td id=\"T_0c14a_row45_col34\" class=\"data row45 col34\" >None</td>\n",
       "      <td id=\"T_0c14a_row45_col35\" class=\"data row45 col35\" >0.000000</td>\n",
       "      <td id=\"T_0c14a_row45_col36\" class=\"data row45 col36\" >78.773438</td>\n",
       "      <td id=\"T_0c14a_row45_col37\" class=\"data row45 col37\" >795.250000</td>\n",
       "      <td id=\"T_0c14a_row45_col38\" class=\"data row45 col38\" >149.800781</td>\n",
       "    </tr>\n",
       "    <tr>\n",
       "      <th id=\"T_0c14a_level0_row46\" class=\"row_heading level0 row46\" >46</th>\n",
       "      <td id=\"T_0c14a_row46_col0\" class=\"data row46 col0\" >fbfsftzr</td>\n",
       "      <td id=\"T_0c14a_row46_col1\" class=\"data row46 col1\" >shufflenetv2tiny_0.5_96_c3_o2_f24l1024</td>\n",
       "      <td id=\"T_0c14a_row46_col2\" class=\"data row46 col2\" >finished</td>\n",
       "      <td id=\"T_0c14a_row46_col3\" class=\"data row46 col3\" >19.379 M</td>\n",
       "      <td id=\"T_0c14a_row46_col4\" class=\"data row46 col4\" ><a target=\"_blank\" href=\"https://wandb.ai/susbrock/model_DB/runs/fbfsftzr\">https://wandb.ai/susbrock/model_DB/runs/fbfsftzr</a></td>\n",
       "      <td id=\"T_0c14a_row46_col5\" class=\"data row46 col5\" >shufflenetv2tiny_0.5_96_c3_o2_f24l1024</td>\n",
       "      <td id=\"T_0c14a_row46_col6\" class=\"data row46 col6\" >39.334 M</td>\n",
       "      <td id=\"T_0c14a_row46_col7\" class=\"data row46 col7\" >0.5</td>\n",
       "      <td id=\"T_0c14a_row46_col8\" class=\"data row46 col8\" >2</td>\n",
       "      <td id=\"T_0c14a_row46_col9\" class=\"data row46 col9\" >96</td>\n",
       "      <td id=\"T_0c14a_row46_col10\" class=\"data row46 col10\" >39639458</td>\n",
       "      <td id=\"T_0c14a_row46_col11\" class=\"data row46 col11\" >3</td>\n",
       "      <td id=\"T_0c14a_row46_col12\" class=\"data row46 col12\" >19378760</td>\n",
       "      <td id=\"T_0c14a_row46_col13\" class=\"data row46 col13\" >f24l1024</td>\n",
       "      <td id=\"T_0c14a_row46_col14\" class=\"data row46 col14\" >0.010395</td>\n",
       "      <td id=\"T_0c14a_row46_col15\" class=\"data row46 col15\" >944578</td>\n",
       "      <td id=\"T_0c14a_row46_col16\" class=\"data row46 col16\" >39750058</td>\n",
       "      <td id=\"T_0c14a_row46_col17\" class=\"data row46 col17\" >4402.812500</td>\n",
       "      <td id=\"T_0c14a_row46_col18\" class=\"data row46 col18\" >80664.000000</td>\n",
       "      <td id=\"T_0c14a_row46_col19\" class=\"data row46 col19\" >19378760</td>\n",
       "      <td id=\"T_0c14a_row46_col20\" class=\"data row46 col20\" >0.010594</td>\n",
       "      <td id=\"T_0c14a_row46_col21\" class=\"data row46 col21\" >932866</td>\n",
       "      <td id=\"T_0c14a_row46_col22\" class=\"data row46 col22\" >11712</td>\n",
       "      <td id=\"T_0c14a_row46_col23\" class=\"data row46 col23\" >3669.328125</td>\n",
       "      <td id=\"T_0c14a_row46_col24\" class=\"data row46 col24\" >3757392</td>\n",
       "      <td id=\"T_0c14a_row46_col25\" class=\"data row46 col25\" >0</td>\n",
       "      <td id=\"T_0c14a_row46_col26\" class=\"data row46 col26\" >1146.179688</td>\n",
       "      <td id=\"T_0c14a_row46_col27\" class=\"data row46 col27\" >1173688</td>\n",
       "      <td id=\"T_0c14a_row46_col28\" class=\"data row46 col28\" >405444</td>\n",
       "      <td id=\"T_0c14a_row46_col29\" class=\"data row46 col29\" >0</td>\n",
       "      <td id=\"T_0c14a_row46_col30\" class=\"data row46 col30\" >164916</td>\n",
       "      <td id=\"T_0c14a_row46_col31\" class=\"data row46 col31\" >[]</td>\n",
       "      <td id=\"T_0c14a_row46_col32\" class=\"data row46 col32\" >2023-02-19T14:02:04</td>\n",
       "      <td id=\"T_0c14a_row46_col33\" class=\"data row46 col33\" >['susbrock', 'model_DB', 'fbfsftzr']</td>\n",
       "      <td id=\"T_0c14a_row46_col34\" class=\"data row46 col34\" >None</td>\n",
       "      <td id=\"T_0c14a_row46_col35\" class=\"data row46 col35\" >0.000000</td>\n",
       "      <td id=\"T_0c14a_row46_col36\" class=\"data row46 col36\" >78.773438</td>\n",
       "      <td id=\"T_0c14a_row46_col37\" class=\"data row46 col37\" >1146.179688</td>\n",
       "      <td id=\"T_0c14a_row46_col38\" class=\"data row46 col38\" >161.050781</td>\n",
       "    </tr>\n",
       "    <tr>\n",
       "      <th id=\"T_0c14a_level0_row47\" class=\"row_heading level0 row47\" >47</th>\n",
       "      <td id=\"T_0c14a_row47_col0\" class=\"data row47 col0\" >i3pqszjz</td>\n",
       "      <td id=\"T_0c14a_row47_col1\" class=\"data row47 col1\" >shufflenetv2_0.5_96_c3_o2_000</td>\n",
       "      <td id=\"T_0c14a_row47_col2\" class=\"data row47 col2\" >finished</td>\n",
       "      <td id=\"T_0c14a_row47_col3\" class=\"data row47 col3\" >19.379 M</td>\n",
       "      <td id=\"T_0c14a_row47_col4\" class=\"data row47 col4\" ><a target=\"_blank\" href=\"https://wandb.ai/susbrock/model_DB/runs/i3pqszjz\">https://wandb.ai/susbrock/model_DB/runs/i3pqszjz</a></td>\n",
       "      <td id=\"T_0c14a_row47_col5\" class=\"data row47 col5\" >shufflenetv2_0.5_96_c3_o2_000</td>\n",
       "      <td id=\"T_0c14a_row47_col6\" class=\"data row47 col6\" >39.334 M</td>\n",
       "      <td id=\"T_0c14a_row47_col7\" class=\"data row47 col7\" >0.5</td>\n",
       "      <td id=\"T_0c14a_row47_col8\" class=\"data row47 col8\" >2</td>\n",
       "      <td id=\"T_0c14a_row47_col9\" class=\"data row47 col9\" >96</td>\n",
       "      <td id=\"T_0c14a_row47_col10\" class=\"data row47 col10\" >39639458</td>\n",
       "      <td id=\"T_0c14a_row47_col11\" class=\"data row47 col11\" >3</td>\n",
       "      <td id=\"T_0c14a_row47_col12\" class=\"data row47 col12\" >19378760</td>\n",
       "      <td id=\"T_0c14a_row47_col13\" class=\"data row47 col13\" >000</td>\n",
       "      <td id=\"T_0c14a_row47_col14\" class=\"data row47 col14\" >0.010395</td>\n",
       "      <td id=\"T_0c14a_row47_col15\" class=\"data row47 col15\" >944578</td>\n",
       "      <td id=\"T_0c14a_row47_col16\" class=\"data row47 col16\" >39750058</td>\n",
       "      <td id=\"T_0c14a_row47_col17\" class=\"data row47 col17\" >4402.812500</td>\n",
       "      <td id=\"T_0c14a_row47_col18\" class=\"data row47 col18\" >80664.000000</td>\n",
       "      <td id=\"T_0c14a_row47_col19\" class=\"data row47 col19\" >19378760</td>\n",
       "      <td id=\"T_0c14a_row47_col20\" class=\"data row47 col20\" >0.010594</td>\n",
       "      <td id=\"T_0c14a_row47_col21\" class=\"data row47 col21\" >932866</td>\n",
       "      <td id=\"T_0c14a_row47_col22\" class=\"data row47 col22\" >11712</td>\n",
       "      <td id=\"T_0c14a_row47_col23\" class=\"data row47 col23\" >3667.230469</td>\n",
       "      <td id=\"T_0c14a_row47_col24\" class=\"data row47 col24\" >3755244</td>\n",
       "      <td id=\"T_0c14a_row47_col25\" class=\"data row47 col25\" >0</td>\n",
       "      <td id=\"T_0c14a_row47_col26\" class=\"data row47 col26\" >1144.125000</td>\n",
       "      <td id=\"T_0c14a_row47_col27\" class=\"data row47 col27\" >1171584</td>\n",
       "      <td id=\"T_0c14a_row47_col28\" class=\"data row47 col28\" >405444</td>\n",
       "      <td id=\"T_0c14a_row47_col29\" class=\"data row47 col29\" >0</td>\n",
       "      <td id=\"T_0c14a_row47_col30\" class=\"data row47 col30\" >164916</td>\n",
       "      <td id=\"T_0c14a_row47_col31\" class=\"data row47 col31\" >[]</td>\n",
       "      <td id=\"T_0c14a_row47_col32\" class=\"data row47 col32\" >2023-02-19T09:51:06</td>\n",
       "      <td id=\"T_0c14a_row47_col33\" class=\"data row47 col33\" >['susbrock', 'model_DB', 'i3pqszjz']</td>\n",
       "      <td id=\"T_0c14a_row47_col34\" class=\"data row47 col34\" >None</td>\n",
       "      <td id=\"T_0c14a_row47_col35\" class=\"data row47 col35\" >0.000000</td>\n",
       "      <td id=\"T_0c14a_row47_col36\" class=\"data row47 col36\" >78.773438</td>\n",
       "      <td id=\"T_0c14a_row47_col37\" class=\"data row47 col37\" >1144.125000</td>\n",
       "      <td id=\"T_0c14a_row47_col38\" class=\"data row47 col38\" >161.050781</td>\n",
       "    </tr>\n",
       "    <tr>\n",
       "      <th id=\"T_0c14a_level0_row48\" class=\"row_heading level0 row48\" >48</th>\n",
       "      <td id=\"T_0c14a_row48_col0\" class=\"data row48 col0\" >5h5jqmtk</td>\n",
       "      <td id=\"T_0c14a_row48_col1\" class=\"data row48 col1\" >shufflenetv2_1_96_c3_o2_000</td>\n",
       "      <td id=\"T_0c14a_row48_col2\" class=\"data row48 col2\" >finished</td>\n",
       "      <td id=\"T_0c14a_row48_col3\" class=\"data row48 col3\" >89.056 M</td>\n",
       "      <td id=\"T_0c14a_row48_col4\" class=\"data row48 col4\" ><a target=\"_blank\" href=\"https://wandb.ai/susbrock/model_DB/runs/5h5jqmtk\">https://wandb.ai/susbrock/model_DB/runs/5h5jqmtk</a></td>\n",
       "      <td id=\"T_0c14a_row48_col5\" class=\"data row48 col5\" >shufflenetv2_1_96_c3_o2_000</td>\n",
       "      <td id=\"T_0c14a_row48_col6\" class=\"data row48 col6\" >179.178 M</td>\n",
       "      <td id=\"T_0c14a_row48_col7\" class=\"data row48 col7\" >1.0</td>\n",
       "      <td id=\"T_0c14a_row48_col8\" class=\"data row48 col8\" >2</td>\n",
       "      <td id=\"T_0c14a_row48_col9\" class=\"data row48 col9\" >96</td>\n",
       "      <td id=\"T_0c14a_row48_col10\" class=\"data row48 col10\" >179824178</td>\n",
       "      <td id=\"T_0c14a_row48_col11\" class=\"data row48 col11\" >3</td>\n",
       "      <td id=\"T_0c14a_row48_col12\" class=\"data row48 col12\" >89056184</td>\n",
       "      <td id=\"T_0c14a_row48_col13\" class=\"data row48 col13\" >000</td>\n",
       "      <td id=\"T_0c14a_row48_col14\" class=\"data row48 col14\" >0.040263</td>\n",
       "      <td id=\"T_0c14a_row48_col15\" class=\"data row48 col15\" >4005802</td>\n",
       "      <td id=\"T_0c14a_row48_col16\" class=\"data row48 col16\" >179934778</td>\n",
       "      <td id=\"T_0c14a_row48_col17\" class=\"data row48 col17\" >16341.867188</td>\n",
       "      <td id=\"T_0c14a_row48_col18\" class=\"data row48 col18\" >nan</td>\n",
       "      <td id=\"T_0c14a_row48_col19\" class=\"data row48 col19\" >89056184</td>\n",
       "      <td id=\"T_0c14a_row48_col20\" class=\"data row48 col20\" >0.040463</td>\n",
       "      <td id=\"T_0c14a_row48_col21\" class=\"data row48 col21\" >3977634</td>\n",
       "      <td id=\"T_0c14a_row48_col22\" class=\"data row48 col22\" >28168</td>\n",
       "      <td id=\"T_0c14a_row48_col23\" class=\"data row48 col23\" >15496.539062</td>\n",
       "      <td id=\"T_0c14a_row48_col24\" class=\"data row48 col24\" >15868456</td>\n",
       "      <td id=\"T_0c14a_row48_col25\" class=\"data row48 col25\" >0</td>\n",
       "      <td id=\"T_0c14a_row48_col26\" class=\"data row48 col26\" >4295.039062</td>\n",
       "      <td id=\"T_0c14a_row48_col27\" class=\"data row48 col27\" >4398120</td>\n",
       "      <td id=\"T_0c14a_row48_col28\" class=\"data row48 col28\" >534548</td>\n",
       "      <td id=\"T_0c14a_row48_col29\" class=\"data row48 col29\" >0</td>\n",
       "      <td id=\"T_0c14a_row48_col30\" class=\"data row48 col30\" >246020</td>\n",
       "      <td id=\"T_0c14a_row48_col31\" class=\"data row48 col31\" >[]</td>\n",
       "      <td id=\"T_0c14a_row48_col32\" class=\"data row48 col32\" >2023-02-19T09:42:42</td>\n",
       "      <td id=\"T_0c14a_row48_col33\" class=\"data row48 col33\" >['susbrock', 'model_DB', '5h5jqmtk']</td>\n",
       "      <td id=\"T_0c14a_row48_col34\" class=\"data row48 col34\" >tf.split()</td>\n",
       "      <td id=\"T_0c14a_row48_col35\" class=\"data row48 col35\" >0.000000</td>\n",
       "      <td id=\"T_0c14a_row48_col36\" class=\"data row48 col36\" >nan</td>\n",
       "      <td id=\"T_0c14a_row48_col37\" class=\"data row48 col37\" >4295.039062</td>\n",
       "      <td id=\"T_0c14a_row48_col38\" class=\"data row48 col38\" >240.253906</td>\n",
       "    </tr>\n",
       "    <tr>\n",
       "      <th id=\"T_0c14a_level0_row49\" class=\"row_heading level0 row49\" >49</th>\n",
       "      <td id=\"T_0c14a_row49_col0\" class=\"data row49 col0\" >r5s38gxe</td>\n",
       "      <td id=\"T_0c14a_row49_col1\" class=\"data row49 col1\" >shufflenetv2_1_96_c3_o2_nosplit</td>\n",
       "      <td id=\"T_0c14a_row49_col2\" class=\"data row49 col2\" >finished</td>\n",
       "      <td id=\"T_0c14a_row49_col3\" class=\"data row49 col3\" >89.056 M</td>\n",
       "      <td id=\"T_0c14a_row49_col4\" class=\"data row49 col4\" ><a target=\"_blank\" href=\"https://wandb.ai/susbrock/model_DB/runs/r5s38gxe\">https://wandb.ai/susbrock/model_DB/runs/r5s38gxe</a></td>\n",
       "      <td id=\"T_0c14a_row49_col5\" class=\"data row49 col5\" >shufflenetv2_1_96_c3_o2_nosplit</td>\n",
       "      <td id=\"T_0c14a_row49_col6\" class=\"data row49 col6\" >179.178 M</td>\n",
       "      <td id=\"T_0c14a_row49_col7\" class=\"data row49 col7\" >1.0</td>\n",
       "      <td id=\"T_0c14a_row49_col8\" class=\"data row49 col8\" >2</td>\n",
       "      <td id=\"T_0c14a_row49_col9\" class=\"data row49 col9\" >96</td>\n",
       "      <td id=\"T_0c14a_row49_col10\" class=\"data row49 col10\" >179824178</td>\n",
       "      <td id=\"T_0c14a_row49_col11\" class=\"data row49 col11\" >3</td>\n",
       "      <td id=\"T_0c14a_row49_col12\" class=\"data row49 col12\" >89056184</td>\n",
       "      <td id=\"T_0c14a_row49_col13\" class=\"data row49 col13\" >nosplit</td>\n",
       "      <td id=\"T_0c14a_row49_col14\" class=\"data row49 col14\" >0.040263</td>\n",
       "      <td id=\"T_0c14a_row49_col15\" class=\"data row49 col15\" >4005802</td>\n",
       "      <td id=\"T_0c14a_row49_col16\" class=\"data row49 col16\" >179934778</td>\n",
       "      <td id=\"T_0c14a_row49_col17\" class=\"data row49 col17\" >16364.179688</td>\n",
       "      <td id=\"T_0c14a_row49_col18\" class=\"data row49 col18\" >100224.000000</td>\n",
       "      <td id=\"T_0c14a_row49_col19\" class=\"data row49 col19\" >89056184</td>\n",
       "      <td id=\"T_0c14a_row49_col20\" class=\"data row49 col20\" >0.040463</td>\n",
       "      <td id=\"T_0c14a_row49_col21\" class=\"data row49 col21\" >3977634</td>\n",
       "      <td id=\"T_0c14a_row49_col22\" class=\"data row49 col22\" >28168</td>\n",
       "      <td id=\"T_0c14a_row49_col23\" class=\"data row49 col23\" >15498.433594</td>\n",
       "      <td id=\"T_0c14a_row49_col24\" class=\"data row49 col24\" >15870396</td>\n",
       "      <td id=\"T_0c14a_row49_col25\" class=\"data row49 col25\" >0</td>\n",
       "      <td id=\"T_0c14a_row49_col26\" class=\"data row49 col26\" >4296.164062</td>\n",
       "      <td id=\"T_0c14a_row49_col27\" class=\"data row49 col27\" >4399272</td>\n",
       "      <td id=\"T_0c14a_row49_col28\" class=\"data row49 col28\" >563268</td>\n",
       "      <td id=\"T_0c14a_row49_col29\" class=\"data row49 col29\" >0</td>\n",
       "      <td id=\"T_0c14a_row49_col30\" class=\"data row49 col30\" >253620</td>\n",
       "      <td id=\"T_0c14a_row49_col31\" class=\"data row49 col31\" >[]</td>\n",
       "      <td id=\"T_0c14a_row49_col32\" class=\"data row49 col32\" >2023-02-19T09:29:03</td>\n",
       "      <td id=\"T_0c14a_row49_col33\" class=\"data row49 col33\" >['susbrock', 'model_DB', 'r5s38gxe']</td>\n",
       "      <td id=\"T_0c14a_row49_col34\" class=\"data row49 col34\" >None</td>\n",
       "      <td id=\"T_0c14a_row49_col35\" class=\"data row49 col35\" >0.000000</td>\n",
       "      <td id=\"T_0c14a_row49_col36\" class=\"data row49 col36\" >97.875000</td>\n",
       "      <td id=\"T_0c14a_row49_col37\" class=\"data row49 col37\" >4296.164062</td>\n",
       "      <td id=\"T_0c14a_row49_col38\" class=\"data row49 col38\" >247.675781</td>\n",
       "    </tr>\n",
       "    <tr>\n",
       "      <th id=\"T_0c14a_level0_row50\" class=\"row_heading level0 row50\" >50</th>\n",
       "      <td id=\"T_0c14a_row50_col0\" class=\"data row50 col0\" >zhmiturf</td>\n",
       "      <td id=\"T_0c14a_row50_col1\" class=\"data row50 col1\" >mnasnet_1_96_c3_o2_keras</td>\n",
       "      <td id=\"T_0c14a_row50_col2\" class=\"data row50 col2\" >finished</td>\n",
       "      <td id=\"T_0c14a_row50_col3\" class=\"data row50 col3\" >49.649 M</td>\n",
       "      <td id=\"T_0c14a_row50_col4\" class=\"data row50 col4\" ><a target=\"_blank\" href=\"https://wandb.ai/susbrock/model_DB/runs/zhmiturf\">https://wandb.ai/susbrock/model_DB/runs/zhmiturf</a></td>\n",
       "      <td id=\"T_0c14a_row50_col5\" class=\"data row50 col5\" >mnasnet_1_96_c3_o2_keras</td>\n",
       "      <td id=\"T_0c14a_row50_col6\" class=\"data row50 col6\" >104.940 M</td>\n",
       "      <td id=\"T_0c14a_row50_col7\" class=\"data row50 col7\" >1.0</td>\n",
       "      <td id=\"T_0c14a_row50_col8\" class=\"data row50 col8\" >2</td>\n",
       "      <td id=\"T_0c14a_row50_col9\" class=\"data row50 col9\" >96</td>\n",
       "      <td id=\"T_0c14a_row50_col10\" class=\"data row50 col10\" >215129021</td>\n",
       "      <td id=\"T_0c14a_row50_col11\" class=\"data row50 col11\" >3</td>\n",
       "      <td id=\"T_0c14a_row50_col12\" class=\"data row50 col12\" >103265824</td>\n",
       "      <td id=\"T_0c14a_row50_col13\" class=\"data row50 col13\" >keras</td>\n",
       "      <td id=\"T_0c14a_row50_col14\" class=\"data row50 col14\" >0.086874</td>\n",
       "      <td id=\"T_0c14a_row50_col15\" class=\"data row50 col15\" >4269716</td>\n",
       "      <td id=\"T_0c14a_row50_col16\" class=\"data row50 col16\" >215277629</td>\n",
       "      <td id=\"T_0c14a_row50_col17\" class=\"data row50 col17\" >18749.273438</td>\n",
       "      <td id=\"T_0c14a_row50_col18\" class=\"data row50 col18\" >204352.000000</td>\n",
       "      <td id=\"T_0c14a_row50_col19\" class=\"data row50 col19\" >103265824</td>\n",
       "      <td id=\"T_0c14a_row50_col20\" class=\"data row50 col20\" >0.087141</td>\n",
       "      <td id=\"T_0c14a_row50_col21\" class=\"data row50 col21\" >4232978</td>\n",
       "      <td id=\"T_0c14a_row50_col22\" class=\"data row50 col22\" >36738</td>\n",
       "      <td id=\"T_0c14a_row50_col23\" class=\"data row50 col23\" >16580.343750</td>\n",
       "      <td id=\"T_0c14a_row50_col24\" class=\"data row50 col24\" >16978272</td>\n",
       "      <td id=\"T_0c14a_row50_col25\" class=\"data row50 col25\" >0</td>\n",
       "      <td id=\"T_0c14a_row50_col26\" class=\"data row50 col26\" >5150.984375</td>\n",
       "      <td id=\"T_0c14a_row50_col27\" class=\"data row50 col27\" >5274608</td>\n",
       "      <td id=\"T_0c14a_row50_col28\" class=\"data row50 col28\" >1195500</td>\n",
       "      <td id=\"T_0c14a_row50_col29\" class=\"data row50 col29\" >0</td>\n",
       "      <td id=\"T_0c14a_row50_col30\" class=\"data row50 col30\" >569764</td>\n",
       "      <td id=\"T_0c14a_row50_col31\" class=\"data row50 col31\" >[]</td>\n",
       "      <td id=\"T_0c14a_row50_col32\" class=\"data row50 col32\" >2023-02-19T08:39:21</td>\n",
       "      <td id=\"T_0c14a_row50_col33\" class=\"data row50 col33\" >['susbrock', 'model_DB', 'zhmiturf']</td>\n",
       "      <td id=\"T_0c14a_row50_col34\" class=\"data row50 col34\" >None</td>\n",
       "      <td id=\"T_0c14a_row50_col35\" class=\"data row50 col35\" >0.000000</td>\n",
       "      <td id=\"T_0c14a_row50_col36\" class=\"data row50 col36\" >199.562500</td>\n",
       "      <td id=\"T_0c14a_row50_col37\" class=\"data row50 col37\" >5150.984375</td>\n",
       "      <td id=\"T_0c14a_row50_col38\" class=\"data row50 col38\" >556.410156</td>\n",
       "    </tr>\n",
       "    <tr>\n",
       "      <th id=\"T_0c14a_level0_row51\" class=\"row_heading level0 row51\" >51</th>\n",
       "      <td id=\"T_0c14a_row51_col0\" class=\"data row51 col0\" >nprqo2x8</td>\n",
       "      <td id=\"T_0c14a_row51_col1\" class=\"data row51 col1\" >shufflenetv1_0.25_96_c3_o2_g1</td>\n",
       "      <td id=\"T_0c14a_row51_col2\" class=\"data row51 col2\" >finished</td>\n",
       "      <td id=\"T_0c14a_row51_col3\" class=\"data row51 col3\" >3.185 M</td>\n",
       "      <td id=\"T_0c14a_row51_col4\" class=\"data row51 col4\" ><a target=\"_blank\" href=\"https://wandb.ai/susbrock/model_DB/runs/nprqo2x8\">https://wandb.ai/susbrock/model_DB/runs/nprqo2x8</a></td>\n",
       "      <td id=\"T_0c14a_row51_col5\" class=\"data row51 col5\" >shufflenetv1_0.25_96_c3_o2_g1</td>\n",
       "      <td id=\"T_0c14a_row51_col6\" class=\"data row51 col6\" >6.953 M</td>\n",
       "      <td id=\"T_0c14a_row51_col7\" class=\"data row51 col7\" >0.25</td>\n",
       "      <td id=\"T_0c14a_row51_col8\" class=\"data row51 col8\" >2</td>\n",
       "      <td id=\"T_0c14a_row51_col9\" class=\"data row51 col9\" >96</td>\n",
       "      <td id=\"T_0c14a_row51_col10\" class=\"data row51 col10\" >6877486</td>\n",
       "      <td id=\"T_0c14a_row51_col11\" class=\"data row51 col11\" >3</td>\n",
       "      <td id=\"T_0c14a_row51_col12\" class=\"data row51 col12\" >3184560</td>\n",
       "      <td id=\"T_0c14a_row51_col13\" class=\"data row51 col13\" >g1</td>\n",
       "      <td id=\"T_0c14a_row51_col14\" class=\"data row51 col14\" >0.003824</td>\n",
       "      <td id=\"T_0c14a_row51_col15\" class=\"data row51 col15\" >71030</td>\n",
       "      <td id=\"T_0c14a_row51_col16\" class=\"data row51 col16\" >6988086</td>\n",
       "      <td id=\"T_0c14a_row51_col17\" class=\"data row51 col17\" >917.039062</td>\n",
       "      <td id=\"T_0c14a_row51_col18\" class=\"data row51 col18\" >82944.000000</td>\n",
       "      <td id=\"T_0c14a_row51_col19\" class=\"data row51 col19\" >3184560</td>\n",
       "      <td id=\"T_0c14a_row51_col20\" class=\"data row51 col20\" >0.004023</td>\n",
       "      <td id=\"T_0c14a_row51_col21\" class=\"data row51 col21\" >67358</td>\n",
       "      <td id=\"T_0c14a_row51_col22\" class=\"data row51 col22\" >3672</td>\n",
       "      <td id=\"T_0c14a_row51_col23\" class=\"data row51 col23\" >301.367188</td>\n",
       "      <td id=\"T_0c14a_row51_col24\" class=\"data row51 col24\" >308600</td>\n",
       "      <td id=\"T_0c14a_row51_col25\" class=\"data row51 col25\" >0</td>\n",
       "      <td id=\"T_0c14a_row51_col26\" class=\"data row51 col26\" >175.171875</td>\n",
       "      <td id=\"T_0c14a_row51_col27\" class=\"data row51 col27\" >179376</td>\n",
       "      <td id=\"T_0c14a_row51_col28\" class=\"data row51 col28\" >370068</td>\n",
       "      <td id=\"T_0c14a_row51_col29\" class=\"data row51 col29\" >0</td>\n",
       "      <td id=\"T_0c14a_row51_col30\" class=\"data row51 col30\" >122304</td>\n",
       "      <td id=\"T_0c14a_row51_col31\" class=\"data row51 col31\" >[]</td>\n",
       "      <td id=\"T_0c14a_row51_col32\" class=\"data row51 col32\" >2023-02-19T07:47:47</td>\n",
       "      <td id=\"T_0c14a_row51_col33\" class=\"data row51 col33\" >['susbrock', 'model_DB', 'nprqo2x8']</td>\n",
       "      <td id=\"T_0c14a_row51_col34\" class=\"data row51 col34\" >None</td>\n",
       "      <td id=\"T_0c14a_row51_col35\" class=\"data row51 col35\" >0.850771</td>\n",
       "      <td id=\"T_0c14a_row51_col36\" class=\"data row51 col36\" >81.000000</td>\n",
       "      <td id=\"T_0c14a_row51_col37\" class=\"data row51 col37\" >175.171875</td>\n",
       "      <td id=\"T_0c14a_row51_col38\" class=\"data row51 col38\" >119.437500</td>\n",
       "    </tr>\n",
       "    <tr>\n",
       "      <th id=\"T_0c14a_level0_row52\" class=\"row_heading level0 row52\" >52</th>\n",
       "      <td id=\"T_0c14a_row52_col0\" class=\"data row52 col0\" >2ghwgc4i</td>\n",
       "      <td id=\"T_0c14a_row52_col1\" class=\"data row52 col1\" >shufflenetv1_0.25_96_c3_o2_g8</td>\n",
       "      <td id=\"T_0c14a_row52_col2\" class=\"data row52 col2\" >finished</td>\n",
       "      <td id=\"T_0c14a_row52_col3\" class=\"data row52 col3\" >12.639 M</td>\n",
       "      <td id=\"T_0c14a_row52_col4\" class=\"data row52 col4\" ><a target=\"_blank\" href=\"https://wandb.ai/susbrock/model_DB/runs/2ghwgc4i\">https://wandb.ai/susbrock/model_DB/runs/2ghwgc4i</a></td>\n",
       "      <td id=\"T_0c14a_row52_col5\" class=\"data row52 col5\" >shufflenetv1_0.25_96_c3_o2_g8</td>\n",
       "      <td id=\"T_0c14a_row52_col6\" class=\"data row52 col6\" >26.299 M</td>\n",
       "      <td id=\"T_0c14a_row52_col7\" class=\"data row52 col7\" >0.25</td>\n",
       "      <td id=\"T_0c14a_row52_col8\" class=\"data row52 col8\" >2</td>\n",
       "      <td id=\"T_0c14a_row52_col9\" class=\"data row52 col9\" >96</td>\n",
       "      <td id=\"T_0c14a_row52_col10\" class=\"data row52 col10\" >26098666</td>\n",
       "      <td id=\"T_0c14a_row52_col11\" class=\"data row52 col11\" >3</td>\n",
       "      <td id=\"T_0c14a_row52_col12\" class=\"data row52 col12\" >12639360</td>\n",
       "      <td id=\"T_0c14a_row52_col13\" class=\"data row52 col13\" >g8</td>\n",
       "      <td id=\"T_0c14a_row52_col14\" class=\"data row52 col14\" >0.007699</td>\n",
       "      <td id=\"T_0c14a_row52_col15\" class=\"data row52 col15\" >85226</td>\n",
       "      <td id=\"T_0c14a_row52_col16\" class=\"data row52 col16\" >26209266</td>\n",
       "      <td id=\"T_0c14a_row52_col17\" class=\"data row52 col17\" >975.148438</td>\n",
       "      <td id=\"T_0c14a_row52_col18\" class=\"data row52 col18\" >82944.000000</td>\n",
       "      <td id=\"T_0c14a_row52_col19\" class=\"data row52 col19\" >12639360</td>\n",
       "      <td id=\"T_0c14a_row52_col20\" class=\"data row52 col20\" >0.007898</td>\n",
       "      <td id=\"T_0c14a_row52_col21\" class=\"data row52 col21\" >75434</td>\n",
       "      <td id=\"T_0c14a_row52_col22\" class=\"data row52 col22\" >9792</td>\n",
       "      <td id=\"T_0c14a_row52_col23\" class=\"data row52 col23\" >297.472656</td>\n",
       "      <td id=\"T_0c14a_row52_col24\" class=\"data row52 col24\" >304612</td>\n",
       "      <td id=\"T_0c14a_row52_col25\" class=\"data row52 col25\" >0</td>\n",
       "      <td id=\"T_0c14a_row52_col26\" class=\"data row52 col26\" >246.375000</td>\n",
       "      <td id=\"T_0c14a_row52_col27\" class=\"data row52 col27\" >252288</td>\n",
       "      <td id=\"T_0c14a_row52_col28\" class=\"data row52 col28\" >394028</td>\n",
       "      <td id=\"T_0c14a_row52_col29\" class=\"data row52 col29\" >0</td>\n",
       "      <td id=\"T_0c14a_row52_col30\" class=\"data row52 col30\" >146172</td>\n",
       "      <td id=\"T_0c14a_row52_col31\" class=\"data row52 col31\" >[]</td>\n",
       "      <td id=\"T_0c14a_row52_col32\" class=\"data row52 col32\" >2023-02-19T07:44:18</td>\n",
       "      <td id=\"T_0c14a_row52_col33\" class=\"data row52 col33\" >['susbrock', 'model_DB', '2ghwgc4i']</td>\n",
       "      <td id=\"T_0c14a_row52_col34\" class=\"data row52 col34\" >None</td>\n",
       "      <td id=\"T_0c14a_row52_col35\" class=\"data row52 col35\" >0.838913</td>\n",
       "      <td id=\"T_0c14a_row52_col36\" class=\"data row52 col36\" >81.000000</td>\n",
       "      <td id=\"T_0c14a_row52_col37\" class=\"data row52 col37\" >246.375000</td>\n",
       "      <td id=\"T_0c14a_row52_col38\" class=\"data row52 col38\" >142.746094</td>\n",
       "    </tr>\n",
       "    <tr>\n",
       "      <th id=\"T_0c14a_level0_row53\" class=\"row_heading level0 row53\" >53</th>\n",
       "      <td id=\"T_0c14a_row53_col0\" class=\"data row53 col0\" >sd3qtst4</td>\n",
       "      <td id=\"T_0c14a_row53_col1\" class=\"data row53 col1\" >mobilenetv1_0.1_96_c3_o2_l5.GAP</td>\n",
       "      <td id=\"T_0c14a_row53_col2\" class=\"data row53 col2\" >finished</td>\n",
       "      <td id=\"T_0c14a_row53_col3\" class=\"data row53 col3\" >1.447 M</td>\n",
       "      <td id=\"T_0c14a_row53_col4\" class=\"data row53 col4\" ><a target=\"_blank\" href=\"https://wandb.ai/susbrock/model_DB/runs/sd3qtst4\">https://wandb.ai/susbrock/model_DB/runs/sd3qtst4</a></td>\n",
       "      <td id=\"T_0c14a_row53_col5\" class=\"data row53 col5\" >mobilenetv1_0.1_96_c3_o2_l5.GAP</td>\n",
       "      <td id=\"T_0c14a_row53_col6\" class=\"data row53 col6\" >3.160 M</td>\n",
       "      <td id=\"T_0c14a_row53_col7\" class=\"data row53 col7\" >0.1</td>\n",
       "      <td id=\"T_0c14a_row53_col8\" class=\"data row53 col8\" >2</td>\n",
       "      <td id=\"T_0c14a_row53_col9\" class=\"data row53 col9\" >96</td>\n",
       "      <td id=\"T_0c14a_row53_col10\" class=\"data row53 col10\" >3160113</td>\n",
       "      <td id=\"T_0c14a_row53_col11\" class=\"data row53 col11\" >3</td>\n",
       "      <td id=\"T_0c14a_row53_col12\" class=\"data row53 col12\" >1447035</td>\n",
       "      <td id=\"T_0c14a_row53_col13\" class=\"data row53 col13\" >l5.GAP</td>\n",
       "      <td id=\"T_0c14a_row53_col14\" class=\"data row53 col14\" >0.001695</td>\n",
       "      <td id=\"T_0c14a_row53_col15\" class=\"data row53 col15\" >41171</td>\n",
       "      <td id=\"T_0c14a_row53_col16\" class=\"data row53 col16\" >3270713</td>\n",
       "      <td id=\"T_0c14a_row53_col17\" class=\"data row53 col17\" >418.722656</td>\n",
       "      <td id=\"T_0c14a_row53_col18\" class=\"data row53 col18\" >55296.000000</td>\n",
       "      <td id=\"T_0c14a_row53_col19\" class=\"data row53 col19\" >1447035</td>\n",
       "      <td id=\"T_0c14a_row53_col20\" class=\"data row53 col20\" >0.001895</td>\n",
       "      <td id=\"T_0c14a_row53_col21\" class=\"data row53 col21\" >39003</td>\n",
       "      <td id=\"T_0c14a_row53_col22\" class=\"data row53 col22\" >2168</td>\n",
       "      <td id=\"T_0c14a_row53_col23\" class=\"data row53 col23\" >159.320312</td>\n",
       "      <td id=\"T_0c14a_row53_col24\" class=\"data row53 col24\" >163144</td>\n",
       "      <td id=\"T_0c14a_row53_col25\" class=\"data row53 col25\" >0</td>\n",
       "      <td id=\"T_0c14a_row53_col26\" class=\"data row53 col26\" >85.281250</td>\n",
       "      <td id=\"T_0c14a_row53_col27\" class=\"data row53 col27\" >87328</td>\n",
       "      <td id=\"T_0c14a_row53_col28\" class=\"data row53 col28\" >152688</td>\n",
       "      <td id=\"T_0c14a_row53_col29\" class=\"data row53 col29\" >0</td>\n",
       "      <td id=\"T_0c14a_row53_col30\" class=\"data row53 col30\" >70320</td>\n",
       "      <td id=\"T_0c14a_row53_col31\" class=\"data row53 col31\" >[]</td>\n",
       "      <td id=\"T_0c14a_row53_col32\" class=\"data row53 col32\" >2023-02-18T10:08:46</td>\n",
       "      <td id=\"T_0c14a_row53_col33\" class=\"data row53 col33\" >['susbrock', 'model_DB', 'sd3qtst4']</td>\n",
       "      <td id=\"T_0c14a_row53_col34\" class=\"data row53 col34\" >None</td>\n",
       "      <td id=\"T_0c14a_row53_col35\" class=\"data row53 col35\" >0.801879</td>\n",
       "      <td id=\"T_0c14a_row53_col36\" class=\"data row53 col36\" >54.000000</td>\n",
       "      <td id=\"T_0c14a_row53_col37\" class=\"data row53 col37\" >85.281250</td>\n",
       "      <td id=\"T_0c14a_row53_col38\" class=\"data row53 col38\" >68.671875</td>\n",
       "    </tr>\n",
       "    <tr>\n",
       "      <th id=\"T_0c14a_level0_row54\" class=\"row_heading level0 row54\" >54</th>\n",
       "      <td id=\"T_0c14a_row54_col0\" class=\"data row54 col0\" >pvvr30bp</td>\n",
       "      <td id=\"T_0c14a_row54_col1\" class=\"data row54 col1\" >mobilenetv1vvw_0.25_96_c3_o2_vvw</td>\n",
       "      <td id=\"T_0c14a_row54_col2\" class=\"data row54 col2\" >finished</td>\n",
       "      <td id=\"T_0c14a_row54_col3\" class=\"data row54 col3\" >7.490 M</td>\n",
       "      <td id=\"T_0c14a_row54_col4\" class=\"data row54 col4\" ><a target=\"_blank\" href=\"https://wandb.ai/susbrock/model_DB/runs/pvvr30bp\">https://wandb.ai/susbrock/model_DB/runs/pvvr30bp</a></td>\n",
       "      <td id=\"T_0c14a_row54_col5\" class=\"data row54 col5\" >mobilenetv1vvw_0.25_96_c3_o2_vvw</td>\n",
       "      <td id=\"T_0c14a_row54_col6\" class=\"data row54 col6\" >15.677 M</td>\n",
       "      <td id=\"T_0c14a_row54_col7\" class=\"data row54 col7\" >0.25</td>\n",
       "      <td id=\"T_0c14a_row54_col8\" class=\"data row54 col8\" >2</td>\n",
       "      <td id=\"T_0c14a_row54_col9\" class=\"data row54 col9\" >96</td>\n",
       "      <td id=\"T_0c14a_row54_col10\" class=\"data row54 col10\" >15676554</td>\n",
       "      <td id=\"T_0c14a_row54_col11\" class=\"data row54 col11\" >3</td>\n",
       "      <td id=\"T_0c14a_row54_col12\" class=\"data row54 col12\" >7489664</td>\n",
       "      <td id=\"T_0c14a_row54_col13\" class=\"data row54 col13\" >vvw</td>\n",
       "      <td id=\"T_0c14a_row54_col14\" class=\"data row54 col14\" >0.005933</td>\n",
       "      <td id=\"T_0c14a_row54_col15\" class=\"data row54 col15\" >221794</td>\n",
       "      <td id=\"T_0c14a_row54_col16\" class=\"data row54 col16\" >15787154</td>\n",
       "      <td id=\"T_0c14a_row54_col17\" class=\"data row54 col17\" >1121.812500</td>\n",
       "      <td id=\"T_0c14a_row54_col18\" class=\"data row54 col18\" >55296.000000</td>\n",
       "      <td id=\"T_0c14a_row54_col19\" class=\"data row54 col19\" >7489664</td>\n",
       "      <td id=\"T_0c14a_row54_col20\" class=\"data row54 col20\" >0.006132</td>\n",
       "      <td id=\"T_0c14a_row54_col21\" class=\"data row54 col21\" >216322</td>\n",
       "      <td id=\"T_0c14a_row54_col22\" class=\"data row54 col22\" >5472</td>\n",
       "      <td id=\"T_0c14a_row54_col23\" class=\"data row54 col23\" >834.285156</td>\n",
       "      <td id=\"T_0c14a_row54_col24\" class=\"data row54 col24\" >854308</td>\n",
       "      <td id=\"T_0c14a_row54_col25\" class=\"data row54 col25\" >0</td>\n",
       "      <td id=\"T_0c14a_row54_col26\" class=\"data row54 col26\" >294.046875</td>\n",
       "      <td id=\"T_0c14a_row54_col27\" class=\"data row54 col27\" >301104</td>\n",
       "      <td id=\"T_0c14a_row54_col28\" class=\"data row54 col28\" >322200</td>\n",
       "      <td id=\"T_0c14a_row54_col29\" class=\"data row54 col29\" >0</td>\n",
       "      <td id=\"T_0c14a_row54_col30\" class=\"data row54 col30\" >101512</td>\n",
       "      <td id=\"T_0c14a_row54_col31\" class=\"data row54 col31\" >[]</td>\n",
       "      <td id=\"T_0c14a_row54_col32\" class=\"data row54 col32\" >2023-02-16T18:45:18</td>\n",
       "      <td id=\"T_0c14a_row54_col33\" class=\"data row54 col33\" >['susbrock', 'model_DB', 'pvvr30bp']</td>\n",
       "      <td id=\"T_0c14a_row54_col34\" class=\"data row54 col34\" >None</td>\n",
       "      <td id=\"T_0c14a_row54_col35\" class=\"data row54 col35\" >0.000000</td>\n",
       "      <td id=\"T_0c14a_row54_col36\" class=\"data row54 col36\" >54.000000</td>\n",
       "      <td id=\"T_0c14a_row54_col37\" class=\"data row54 col37\" >294.046875</td>\n",
       "      <td id=\"T_0c14a_row54_col38\" class=\"data row54 col38\" >99.132812</td>\n",
       "    </tr>\n",
       "    <tr>\n",
       "      <th id=\"T_0c14a_level0_row55\" class=\"row_heading level0 row55\" >55</th>\n",
       "      <td id=\"T_0c14a_row55_col0\" class=\"data row55 col0\" >r7tokmwg</td>\n",
       "      <td id=\"T_0c14a_row55_col1\" class=\"data row55 col1\" >mobilenetv2_0.1_96_c3_o2_l5</td>\n",
       "      <td id=\"T_0c14a_row55_col2\" class=\"data row55 col2\" >finished</td>\n",
       "      <td id=\"T_0c14a_row55_col3\" class=\"data row55 col3\" >1.692 M</td>\n",
       "      <td id=\"T_0c14a_row55_col4\" class=\"data row55 col4\" ><a target=\"_blank\" href=\"https://wandb.ai/susbrock/model_DB/runs/r7tokmwg\">https://wandb.ai/susbrock/model_DB/runs/r7tokmwg</a></td>\n",
       "      <td id=\"T_0c14a_row55_col5\" class=\"data row55 col5\" >mobilenetv2_0.1_96_c3_o2_l5</td>\n",
       "      <td id=\"T_0c14a_row55_col6\" class=\"data row55 col6\" >3.643 M</td>\n",
       "      <td id=\"T_0c14a_row55_col7\" class=\"data row55 col7\" >0.1</td>\n",
       "      <td id=\"T_0c14a_row55_col8\" class=\"data row55 col8\" >2</td>\n",
       "      <td id=\"T_0c14a_row55_col9\" class=\"data row55 col9\" >96</td>\n",
       "      <td id=\"T_0c14a_row55_col10\" class=\"data row55 col10\" >3778886</td>\n",
       "      <td id=\"T_0c14a_row55_col11\" class=\"data row55 col11\" >3</td>\n",
       "      <td id=\"T_0c14a_row55_col12\" class=\"data row55 col12\" >1692166</td>\n",
       "      <td id=\"T_0c14a_row55_col13\" class=\"data row55 col13\" >l5</td>\n",
       "      <td id=\"T_0c14a_row55_col14\" class=\"data row55 col14\" >0.003322</td>\n",
       "      <td id=\"T_0c14a_row55_col15\" class=\"data row55 col15\" >77494</td>\n",
       "      <td id=\"T_0c14a_row55_col16\" class=\"data row55 col16\" >3889486</td>\n",
       "      <td id=\"T_0c14a_row55_col17\" class=\"data row55 col17\" >760.898438</td>\n",
       "      <td id=\"T_0c14a_row55_col18\" class=\"data row55 col18\" >55296.000000</td>\n",
       "      <td id=\"T_0c14a_row55_col19\" class=\"data row55 col19\" >1692166</td>\n",
       "      <td id=\"T_0c14a_row55_col20\" class=\"data row55 col20\" >0.003521</td>\n",
       "      <td id=\"T_0c14a_row55_col21\" class=\"data row55 col21\" >71900</td>\n",
       "      <td id=\"T_0c14a_row55_col22\" class=\"data row55 col22\" >5594</td>\n",
       "      <td id=\"T_0c14a_row55_col23\" class=\"data row55 col23\" >295.679688</td>\n",
       "      <td id=\"T_0c14a_row55_col24\" class=\"data row55 col24\" >302776</td>\n",
       "      <td id=\"T_0c14a_row55_col25\" class=\"data row55 col25\" >0</td>\n",
       "      <td id=\"T_0c14a_row55_col26\" class=\"data row55 col26\" >176.492188</td>\n",
       "      <td id=\"T_0c14a_row55_col27\" class=\"data row55 col27\" >180728</td>\n",
       "      <td id=\"T_0c14a_row55_col28\" class=\"data row55 col28\" >218192</td>\n",
       "      <td id=\"T_0c14a_row55_col29\" class=\"data row55 col29\" >0</td>\n",
       "      <td id=\"T_0c14a_row55_col30\" class=\"data row55 col30\" >108936</td>\n",
       "      <td id=\"T_0c14a_row55_col31\" class=\"data row55 col31\" >[]</td>\n",
       "      <td id=\"T_0c14a_row55_col32\" class=\"data row55 col32\" >2023-02-11T21:12:26</td>\n",
       "      <td id=\"T_0c14a_row55_col33\" class=\"data row55 col33\" >['susbrock', 'model_DB', 'r7tokmwg']</td>\n",
       "      <td id=\"T_0c14a_row55_col34\" class=\"data row55 col34\" >None</td>\n",
       "      <td id=\"T_0c14a_row55_col35\" class=\"data row55 col35\" >0.000000</td>\n",
       "      <td id=\"T_0c14a_row55_col36\" class=\"data row55 col36\" >54.000000</td>\n",
       "      <td id=\"T_0c14a_row55_col37\" class=\"data row55 col37\" >176.492188</td>\n",
       "      <td id=\"T_0c14a_row55_col38\" class=\"data row55 col38\" >106.382812</td>\n",
       "    </tr>\n",
       "    <tr>\n",
       "      <th id=\"T_0c14a_level0_row56\" class=\"row_heading level0 row56\" >56</th>\n",
       "      <td id=\"T_0c14a_row56_col0\" class=\"data row56 col0\" >8i2yq4ji</td>\n",
       "      <td id=\"T_0c14a_row56_col1\" class=\"data row56 col1\" >mobilenetv2_0.2_96_c3_o2_l5</td>\n",
       "      <td id=\"T_0c14a_row56_col2\" class=\"data row56 col2\" >finished</td>\n",
       "      <td id=\"T_0c14a_row56_col3\" class=\"data row56 col3\" >3.636 M</td>\n",
       "      <td id=\"T_0c14a_row56_col4\" class=\"data row56 col4\" ><a target=\"_blank\" href=\"https://wandb.ai/susbrock/model_DB/runs/8i2yq4ji\">https://wandb.ai/susbrock/model_DB/runs/8i2yq4ji</a></td>\n",
       "      <td id=\"T_0c14a_row56_col5\" class=\"data row56 col5\" >mobilenetv2_0.2_96_c3_o2_l5</td>\n",
       "      <td id=\"T_0c14a_row56_col6\" class=\"data row56 col6\" >7.729 M</td>\n",
       "      <td id=\"T_0c14a_row56_col7\" class=\"data row56 col7\" >0.2</td>\n",
       "      <td id=\"T_0c14a_row56_col8\" class=\"data row56 col8\" >2</td>\n",
       "      <td id=\"T_0c14a_row56_col9\" class=\"data row56 col9\" >96</td>\n",
       "      <td id=\"T_0c14a_row56_col10\" class=\"data row56 col10\" >7973498</td>\n",
       "      <td id=\"T_0c14a_row56_col11\" class=\"data row56 col11\" >3</td>\n",
       "      <td id=\"T_0c14a_row56_col12\" class=\"data row56 col12\" >3635914</td>\n",
       "      <td id=\"T_0c14a_row56_col13\" class=\"data row56 col13\" >l5</td>\n",
       "      <td id=\"T_0c14a_row56_col14\" class=\"data row56 col14\" >0.004632</td>\n",
       "      <td id=\"T_0c14a_row56_col15\" class=\"data row56 col15\" >181586</td>\n",
       "      <td id=\"T_0c14a_row56_col16\" class=\"data row56 col16\" >8084098</td>\n",
       "      <td id=\"T_0c14a_row56_col17\" class=\"data row56 col17\" >1167.500000</td>\n",
       "      <td id=\"T_0c14a_row56_col18\" class=\"data row56 col18\" >55296.000000</td>\n",
       "      <td id=\"T_0c14a_row56_col19\" class=\"data row56 col19\" >3635914</td>\n",
       "      <td id=\"T_0c14a_row56_col20\" class=\"data row56 col20\" >0.004831</td>\n",
       "      <td id=\"T_0c14a_row56_col21\" class=\"data row56 col21\" >172886</td>\n",
       "      <td id=\"T_0c14a_row56_col22\" class=\"data row56 col22\" >8700</td>\n",
       "      <td id=\"T_0c14a_row56_col23\" class=\"data row56 col23\" >679.386719</td>\n",
       "      <td id=\"T_0c14a_row56_col24\" class=\"data row56 col24\" >695692</td>\n",
       "      <td id=\"T_0c14a_row56_col25\" class=\"data row56 col25\" >0</td>\n",
       "      <td id=\"T_0c14a_row56_col26\" class=\"data row56 col26\" >309.632812</td>\n",
       "      <td id=\"T_0c14a_row56_col27\" class=\"data row56 col27\" >317064</td>\n",
       "      <td id=\"T_0c14a_row56_col28\" class=\"data row56 col28\" >253368</td>\n",
       "      <td id=\"T_0c14a_row56_col29\" class=\"data row56 col29\" >0</td>\n",
       "      <td id=\"T_0c14a_row56_col30\" class=\"data row56 col30\" >121132</td>\n",
       "      <td id=\"T_0c14a_row56_col31\" class=\"data row56 col31\" >[]</td>\n",
       "      <td id=\"T_0c14a_row56_col32\" class=\"data row56 col32\" >2023-02-11T21:09:23</td>\n",
       "      <td id=\"T_0c14a_row56_col33\" class=\"data row56 col33\" >['susbrock', 'model_DB', '8i2yq4ji']</td>\n",
       "      <td id=\"T_0c14a_row56_col34\" class=\"data row56 col34\" >None</td>\n",
       "      <td id=\"T_0c14a_row56_col35\" class=\"data row56 col35\" >0.000000</td>\n",
       "      <td id=\"T_0c14a_row56_col36\" class=\"data row56 col36\" >54.000000</td>\n",
       "      <td id=\"T_0c14a_row56_col37\" class=\"data row56 col37\" >309.632812</td>\n",
       "      <td id=\"T_0c14a_row56_col38\" class=\"data row56 col38\" >118.292969</td>\n",
       "    </tr>\n",
       "    <tr>\n",
       "      <th id=\"T_0c14a_level0_row57\" class=\"row_heading level0 row57\" >57</th>\n",
       "      <td id=\"T_0c14a_row57_col0\" class=\"data row57 col0\" >4vjie1qp</td>\n",
       "      <td id=\"T_0c14a_row57_col1\" class=\"data row57 col1\" >mobilenetv2_0.5_96_c3_o2_l5</td>\n",
       "      <td id=\"T_0c14a_row57_col2\" class=\"data row57 col2\" >finished</td>\n",
       "      <td id=\"T_0c14a_row57_col3\" class=\"data row57 col3\" >16.125 M</td>\n",
       "      <td id=\"T_0c14a_row57_col4\" class=\"data row57 col4\" ><a target=\"_blank\" href=\"https://wandb.ai/susbrock/model_DB/runs/4vjie1qp\">https://wandb.ai/susbrock/model_DB/runs/4vjie1qp</a></td>\n",
       "      <td id=\"T_0c14a_row57_col5\" class=\"data row57 col5\" >mobilenetv2_0.5_96_c3_o2_l5</td>\n",
       "      <td id=\"T_0c14a_row57_col6\" class=\"data row57 col6\" >33.404 M</td>\n",
       "      <td id=\"T_0c14a_row57_col7\" class=\"data row57 col7\" >0.5</td>\n",
       "      <td id=\"T_0c14a_row57_col8\" class=\"data row57 col8\" >2</td>\n",
       "      <td id=\"T_0c14a_row57_col9\" class=\"data row57 col9\" >96</td>\n",
       "      <td id=\"T_0c14a_row57_col10\" class=\"data row57 col10\" >34022684</td>\n",
       "      <td id=\"T_0c14a_row57_col11\" class=\"data row57 col11\" >3</td>\n",
       "      <td id=\"T_0c14a_row57_col12\" class=\"data row57 col12\" >16125376</td>\n",
       "      <td id=\"T_0c14a_row57_col13\" class=\"data row57 col13\" >l5</td>\n",
       "      <td id=\"T_0c14a_row57_col14\" class=\"data row57 col14\" >0.014656</td>\n",
       "      <td id=\"T_0c14a_row57_col15\" class=\"data row57 col15\" >705346</td>\n",
       "      <td id=\"T_0c14a_row57_col16\" class=\"data row57 col16\" >34133284</td>\n",
       "      <td id=\"T_0c14a_row57_col17\" class=\"data row57 col17\" >3218.109375</td>\n",
       "      <td id=\"T_0c14a_row57_col18\" class=\"data row57 col18\" >138240.000000</td>\n",
       "      <td id=\"T_0c14a_row57_col19\" class=\"data row57 col19\" >16125376</td>\n",
       "      <td id=\"T_0c14a_row57_col20\" class=\"data row57 col20\" >0.014855</td>\n",
       "      <td id=\"T_0c14a_row57_col21\" class=\"data row57 col21\" >687010</td>\n",
       "      <td id=\"T_0c14a_row57_col22\" class=\"data row57 col22\" >18336</td>\n",
       "      <td id=\"T_0c14a_row57_col23\" class=\"data row57 col23\" >2653.425781</td>\n",
       "      <td id=\"T_0c14a_row57_col24\" class=\"data row57 col24\" >2717108</td>\n",
       "      <td id=\"T_0c14a_row57_col25\" class=\"data row57 col25\" >0</td>\n",
       "      <td id=\"T_0c14a_row57_col26\" class=\"data row57 col26\" >918.789062</td>\n",
       "      <td id=\"T_0c14a_row57_col27\" class=\"data row57 col27\" >940840</td>\n",
       "      <td id=\"T_0c14a_row57_col28\" class=\"data row57 col28\" >637264</td>\n",
       "      <td id=\"T_0c14a_row57_col29\" class=\"data row57 col29\" >0</td>\n",
       "      <td id=\"T_0c14a_row57_col30\" class=\"data row57 col30\" >224216</td>\n",
       "      <td id=\"T_0c14a_row57_col31\" class=\"data row57 col31\" >[]</td>\n",
       "      <td id=\"T_0c14a_row57_col32\" class=\"data row57 col32\" >2023-02-10T20:40:36</td>\n",
       "      <td id=\"T_0c14a_row57_col33\" class=\"data row57 col33\" >['susbrock', 'model_DB', '4vjie1qp']</td>\n",
       "      <td id=\"T_0c14a_row57_col34\" class=\"data row57 col34\" >None</td>\n",
       "      <td id=\"T_0c14a_row57_col35\" class=\"data row57 col35\" >0.000000</td>\n",
       "      <td id=\"T_0c14a_row57_col36\" class=\"data row57 col36\" >135.000000</td>\n",
       "      <td id=\"T_0c14a_row57_col37\" class=\"data row57 col37\" >918.789062</td>\n",
       "      <td id=\"T_0c14a_row57_col38\" class=\"data row57 col38\" >218.960938</td>\n",
       "    </tr>\n",
       "    <tr>\n",
       "      <th id=\"T_0c14a_level0_row58\" class=\"row_heading level0 row58\" >58</th>\n",
       "      <td id=\"T_0c14a_row58_col0\" class=\"data row58 col0\" >muldcf5s</td>\n",
       "      <td id=\"T_0c14a_row58_col1\" class=\"data row58 col1\" >mobilenetv2_0.35_96_c3_o2_l5</td>\n",
       "      <td id=\"T_0c14a_row58_col2\" class=\"data row58 col2\" >finished</td>\n",
       "      <td id=\"T_0c14a_row58_col3\" class=\"data row58 col3\" >9.009 M</td>\n",
       "      <td id=\"T_0c14a_row58_col4\" class=\"data row58 col4\" ><a target=\"_blank\" href=\"https://wandb.ai/susbrock/model_DB/runs/muldcf5s\">https://wandb.ai/susbrock/model_DB/runs/muldcf5s</a></td>\n",
       "      <td id=\"T_0c14a_row58_col5\" class=\"data row58 col5\" >mobilenetv2_0.35_96_c3_o2_l5</td>\n",
       "      <td id=\"T_0c14a_row58_col6\" class=\"data row58 col6\" >18.841 M</td>\n",
       "      <td id=\"T_0c14a_row58_col7\" class=\"data row58 col7\" >0.35</td>\n",
       "      <td id=\"T_0c14a_row58_col8\" class=\"data row58 col8\" >2</td>\n",
       "      <td id=\"T_0c14a_row58_col9\" class=\"data row58 col9\" >96</td>\n",
       "      <td id=\"T_0c14a_row58_col10\" class=\"data row58 col10\" >19280558</td>\n",
       "      <td id=\"T_0c14a_row58_col11\" class=\"data row58 col11\" >3</td>\n",
       "      <td id=\"T_0c14a_row58_col12\" class=\"data row58 col12\" >9008662</td>\n",
       "      <td id=\"T_0c14a_row58_col13\" class=\"data row58 col13\" >l5</td>\n",
       "      <td id=\"T_0c14a_row58_col14\" class=\"data row58 col14\" >0.009435</td>\n",
       "      <td id=\"T_0c14a_row58_col15\" class=\"data row58 col15\" >402934</td>\n",
       "      <td id=\"T_0c14a_row58_col16\" class=\"data row58 col16\" >19391158</td>\n",
       "      <td id=\"T_0c14a_row58_col17\" class=\"data row58 col17\" >2037.148438</td>\n",
       "      <td id=\"T_0c14a_row58_col18\" class=\"data row58 col18\" >86400.000000</td>\n",
       "      <td id=\"T_0c14a_row58_col19\" class=\"data row58 col19\" >9008662</td>\n",
       "      <td id=\"T_0c14a_row58_col20\" class=\"data row58 col20\" >0.009635</td>\n",
       "      <td id=\"T_0c14a_row58_col21\" class=\"data row58 col21\" >389452</td>\n",
       "      <td id=\"T_0c14a_row58_col22\" class=\"data row58 col22\" >13482</td>\n",
       "      <td id=\"T_0c14a_row58_col23\" class=\"data row58 col23\" >1508.500000</td>\n",
       "      <td id=\"T_0c14a_row58_col24\" class=\"data row58 col24\" >1544704</td>\n",
       "      <td id=\"T_0c14a_row58_col25\" class=\"data row58 col25\" >0</td>\n",
       "      <td id=\"T_0c14a_row58_col26\" class=\"data row58 col26\" >574.335938</td>\n",
       "      <td id=\"T_0c14a_row58_col27\" class=\"data row58 col27\" >588120</td>\n",
       "      <td id=\"T_0c14a_row58_col28\" class=\"data row58 col28\" >410936</td>\n",
       "      <td id=\"T_0c14a_row58_col29\" class=\"data row58 col29\" >0</td>\n",
       "      <td id=\"T_0c14a_row58_col30\" class=\"data row58 col30\" >153104</td>\n",
       "      <td id=\"T_0c14a_row58_col31\" class=\"data row58 col31\" >[]</td>\n",
       "      <td id=\"T_0c14a_row58_col32\" class=\"data row58 col32\" >2023-02-10T20:38:34</td>\n",
       "      <td id=\"T_0c14a_row58_col33\" class=\"data row58 col33\" >['susbrock', 'model_DB', 'muldcf5s']</td>\n",
       "      <td id=\"T_0c14a_row58_col34\" class=\"data row58 col34\" >None</td>\n",
       "      <td id=\"T_0c14a_row58_col35\" class=\"data row58 col35\" >0.000000</td>\n",
       "      <td id=\"T_0c14a_row58_col36\" class=\"data row58 col36\" >84.375000</td>\n",
       "      <td id=\"T_0c14a_row58_col37\" class=\"data row58 col37\" >574.335938</td>\n",
       "      <td id=\"T_0c14a_row58_col38\" class=\"data row58 col38\" >149.515625</td>\n",
       "    </tr>\n",
       "    <tr>\n",
       "      <th id=\"T_0c14a_level0_row59\" class=\"row_heading level0 row59\" >59</th>\n",
       "      <td id=\"T_0c14a_row59_col0\" class=\"data row59 col0\" >to56zsaq</td>\n",
       "      <td id=\"T_0c14a_row59_col1\" class=\"data row59 col1\" >mobilenetv2_0.25_96_c3_o2_l5</td>\n",
       "      <td id=\"T_0c14a_row59_col2\" class=\"data row59 col2\" >finished</td>\n",
       "      <td id=\"T_0c14a_row59_col3\" class=\"data row59 col3\" >5.219 M</td>\n",
       "      <td id=\"T_0c14a_row59_col4\" class=\"data row59 col4\" ><a target=\"_blank\" href=\"https://wandb.ai/susbrock/model_DB/runs/to56zsaq\">https://wandb.ai/susbrock/model_DB/runs/to56zsaq</a></td>\n",
       "      <td id=\"T_0c14a_row59_col5\" class=\"data row59 col5\" >mobilenetv2_0.25_96_c3_o2_l5</td>\n",
       "      <td id=\"T_0c14a_row59_col6\" class=\"data row59 col6\" >11.025 M</td>\n",
       "      <td id=\"T_0c14a_row59_col7\" class=\"data row59 col7\" >0.25</td>\n",
       "      <td id=\"T_0c14a_row59_col8\" class=\"data row59 col8\" >2</td>\n",
       "      <td id=\"T_0c14a_row59_col9\" class=\"data row59 col9\" >96</td>\n",
       "      <td id=\"T_0c14a_row59_col10\" class=\"data row59 col10\" >11340308</td>\n",
       "      <td id=\"T_0c14a_row59_col11\" class=\"data row59 col11\" >3</td>\n",
       "      <td id=\"T_0c14a_row59_col12\" class=\"data row59 col12\" >5218528</td>\n",
       "      <td id=\"T_0c14a_row59_col13\" class=\"data row59 col13\" >l5</td>\n",
       "      <td id=\"T_0c14a_row59_col14\" class=\"data row59 col14\" >0.006065</td>\n",
       "      <td id=\"T_0c14a_row59_col15\" class=\"data row59 col15\" >249322</td>\n",
       "      <td id=\"T_0c14a_row59_col16\" class=\"data row59 col16\" >11450908</td>\n",
       "      <td id=\"T_0c14a_row59_col17\" class=\"data row59 col17\" >1434.203125</td>\n",
       "      <td id=\"T_0c14a_row59_col18\" class=\"data row59 col18\" >69120.000000</td>\n",
       "      <td id=\"T_0c14a_row59_col19\" class=\"data row59 col19\" >5218528</td>\n",
       "      <td id=\"T_0c14a_row59_col20\" class=\"data row59 col20\" >0.006264</td>\n",
       "      <td id=\"T_0c14a_row59_col21\" class=\"data row59 col21\" >238874</td>\n",
       "      <td id=\"T_0c14a_row59_col22\" class=\"data row59 col22\" >10448</td>\n",
       "      <td id=\"T_0c14a_row59_col23\" class=\"data row59 col23\" >930.808594</td>\n",
       "      <td id=\"T_0c14a_row59_col24\" class=\"data row59 col24\" >953148</td>\n",
       "      <td id=\"T_0c14a_row59_col25\" class=\"data row59 col25\" >0</td>\n",
       "      <td id=\"T_0c14a_row59_col26\" class=\"data row59 col26\" >393.523438</td>\n",
       "      <td id=\"T_0c14a_row59_col27\" class=\"data row59 col27\" >402968</td>\n",
       "      <td id=\"T_0c14a_row59_col28\" class=\"data row59 col28\" >329296</td>\n",
       "      <td id=\"T_0c14a_row59_col29\" class=\"data row59 col29\" >0</td>\n",
       "      <td id=\"T_0c14a_row59_col30\" class=\"data row59 col30\" >127824</td>\n",
       "      <td id=\"T_0c14a_row59_col31\" class=\"data row59 col31\" >[]</td>\n",
       "      <td id=\"T_0c14a_row59_col32\" class=\"data row59 col32\" >2023-02-10T20:36:28</td>\n",
       "      <td id=\"T_0c14a_row59_col33\" class=\"data row59 col33\" >['susbrock', 'model_DB', 'to56zsaq']</td>\n",
       "      <td id=\"T_0c14a_row59_col34\" class=\"data row59 col34\" >None</td>\n",
       "      <td id=\"T_0c14a_row59_col35\" class=\"data row59 col35\" >0.000000</td>\n",
       "      <td id=\"T_0c14a_row59_col36\" class=\"data row59 col36\" >67.500000</td>\n",
       "      <td id=\"T_0c14a_row59_col37\" class=\"data row59 col37\" >393.523438</td>\n",
       "      <td id=\"T_0c14a_row59_col38\" class=\"data row59 col38\" >124.828125</td>\n",
       "    </tr>\n",
       "    <tr>\n",
       "      <th id=\"T_0c14a_level0_row60\" class=\"row_heading level0 row60\" >60</th>\n",
       "      <td id=\"T_0c14a_row60_col0\" class=\"data row60 col0\" >27bt3quc</td>\n",
       "      <td id=\"T_0c14a_row60_col1\" class=\"data row60 col1\" >mobilenetv2_1_96_c3_o2_l5</td>\n",
       "      <td id=\"T_0c14a_row60_col2\" class=\"data row60 col2\" >finished</td>\n",
       "      <td id=\"T_0c14a_row60_col3\" class=\"data row60 col3\" >55.012 M</td>\n",
       "      <td id=\"T_0c14a_row60_col4\" class=\"data row60 col4\" ><a target=\"_blank\" href=\"https://wandb.ai/susbrock/model_DB/runs/27bt3quc\">https://wandb.ai/susbrock/model_DB/runs/27bt3quc</a></td>\n",
       "      <td id=\"T_0c14a_row60_col5\" class=\"data row60 col5\" >mobilenetv2_1_96_c3_o2_l5</td>\n",
       "      <td id=\"T_0c14a_row60_col6\" class=\"data row60 col6\" >112.306 M</td>\n",
       "      <td id=\"T_0c14a_row60_col7\" class=\"data row60 col7\" >1.0</td>\n",
       "      <td id=\"T_0c14a_row60_col8\" class=\"data row60 col8\" >2</td>\n",
       "      <td id=\"T_0c14a_row60_col9\" class=\"data row60 col9\" >96</td>\n",
       "      <td id=\"T_0c14a_row60_col10\" class=\"data row60 col10\" >113532716</td>\n",
       "      <td id=\"T_0c14a_row60_col11\" class=\"data row60 col11\" >3</td>\n",
       "      <td id=\"T_0c14a_row60_col12\" class=\"data row60 col12\" >55011712</td>\n",
       "      <td id=\"T_0c14a_row60_col13\" class=\"data row60 col13\" >l5</td>\n",
       "      <td id=\"T_0c14a_row60_col14\" class=\"data row60 col14\" >0.040875</td>\n",
       "      <td id=\"T_0c14a_row60_col15\" class=\"data row60 col15\" >2260546</td>\n",
       "      <td id=\"T_0c14a_row60_col16\" class=\"data row60 col16\" >113643316</td>\n",
       "      <td id=\"T_0c14a_row60_col17\" class=\"data row60 col17\" >9293.617188</td>\n",
       "      <td id=\"T_0c14a_row60_col18\" class=\"data row60 col18\" >276480.000000</td>\n",
       "      <td id=\"T_0c14a_row60_col19\" class=\"data row60 col19\" >55011712</td>\n",
       "      <td id=\"T_0c14a_row60_col20\" class=\"data row60 col20\" >0.041074</td>\n",
       "      <td id=\"T_0c14a_row60_col21\" class=\"data row60 col21\" >2226434</td>\n",
       "      <td id=\"T_0c14a_row60_col22\" class=\"data row60 col22\" >34112</td>\n",
       "      <td id=\"T_0c14a_row60_col23\" class=\"data row60 col23\" >8610.972656</td>\n",
       "      <td id=\"T_0c14a_row60_col24\" class=\"data row60 col24\" >8817636</td>\n",
       "      <td id=\"T_0c14a_row60_col25\" class=\"data row60 col25\" >0</td>\n",
       "      <td id=\"T_0c14a_row60_col26\" class=\"data row60 col26\" >2597.398438</td>\n",
       "      <td id=\"T_0c14a_row60_col27\" class=\"data row60 col27\" >2659736</td>\n",
       "      <td id=\"T_0c14a_row60_col28\" class=\"data row60 col28\" >1253440</td>\n",
       "      <td id=\"T_0c14a_row60_col29\" class=\"data row60 col29\" >0</td>\n",
       "      <td id=\"T_0c14a_row60_col30\" class=\"data row60 col30\" >426456</td>\n",
       "      <td id=\"T_0c14a_row60_col31\" class=\"data row60 col31\" >[]</td>\n",
       "      <td id=\"T_0c14a_row60_col32\" class=\"data row60 col32\" >2023-02-10T20:33:30</td>\n",
       "      <td id=\"T_0c14a_row60_col33\" class=\"data row60 col33\" >['susbrock', 'model_DB', '27bt3quc']</td>\n",
       "      <td id=\"T_0c14a_row60_col34\" class=\"data row60 col34\" >None</td>\n",
       "      <td id=\"T_0c14a_row60_col35\" class=\"data row60 col35\" >0.000000</td>\n",
       "      <td id=\"T_0c14a_row60_col36\" class=\"data row60 col36\" >270.000000</td>\n",
       "      <td id=\"T_0c14a_row60_col37\" class=\"data row60 col37\" >2597.398438</td>\n",
       "      <td id=\"T_0c14a_row60_col38\" class=\"data row60 col38\" >416.460938</td>\n",
       "    </tr>\n",
       "    <tr>\n",
       "      <th id=\"T_0c14a_level0_row61\" class=\"row_heading level0 row61\" >61</th>\n",
       "      <td id=\"T_0c14a_row61_col0\" class=\"data row61 col0\" >jprxgrm2</td>\n",
       "      <td id=\"T_0c14a_row61_col1\" class=\"data row61 col1\" >mobilenetv2_1_96_c3_o2_keras</td>\n",
       "      <td id=\"T_0c14a_row61_col2\" class=\"data row61 col2\" >finished</td>\n",
       "      <td id=\"T_0c14a_row61_col3\" class=\"data row61 col3\" >55.012 M</td>\n",
       "      <td id=\"T_0c14a_row61_col4\" class=\"data row61 col4\" ><a target=\"_blank\" href=\"https://wandb.ai/susbrock/model_DB/runs/jprxgrm2\">https://wandb.ai/susbrock/model_DB/runs/jprxgrm2</a></td>\n",
       "      <td id=\"T_0c14a_row61_col5\" class=\"data row61 col5\" >mobilenetv2_1_96_c3_o2_keras</td>\n",
       "      <td id=\"T_0c14a_row61_col6\" class=\"data row61 col6\" >112.306 M</td>\n",
       "      <td id=\"T_0c14a_row61_col7\" class=\"data row61 col7\" >1.0</td>\n",
       "      <td id=\"T_0c14a_row61_col8\" class=\"data row61 col8\" >2</td>\n",
       "      <td id=\"T_0c14a_row61_col9\" class=\"data row61 col9\" >96</td>\n",
       "      <td id=\"T_0c14a_row61_col10\" class=\"data row61 col10\" >115819722</td>\n",
       "      <td id=\"T_0c14a_row61_col11\" class=\"data row61 col11\" >3</td>\n",
       "      <td id=\"T_0c14a_row61_col12\" class=\"data row61 col12\" >55011712</td>\n",
       "      <td id=\"T_0c14a_row61_col13\" class=\"data row61 col13\" >keras</td>\n",
       "      <td id=\"T_0c14a_row61_col14\" class=\"data row61 col14\" >0.041934</td>\n",
       "      <td id=\"T_0c14a_row61_col15\" class=\"data row61 col15\" >2260546</td>\n",
       "      <td id=\"T_0c14a_row61_col16\" class=\"data row61 col16\" >115930322</td>\n",
       "      <td id=\"T_0c14a_row61_col17\" class=\"data row61 col17\" >9294.898438</td>\n",
       "      <td id=\"T_0c14a_row61_col18\" class=\"data row61 col18\" >451680.000000</td>\n",
       "      <td id=\"T_0c14a_row61_col19\" class=\"data row61 col19\" >55011712</td>\n",
       "      <td id=\"T_0c14a_row61_col20\" class=\"data row61 col20\" >0.042133</td>\n",
       "      <td id=\"T_0c14a_row61_col21\" class=\"data row61 col21\" >2226434</td>\n",
       "      <td id=\"T_0c14a_row61_col22\" class=\"data row61 col22\" >34112</td>\n",
       "      <td id=\"T_0c14a_row61_col23\" class=\"data row61 col23\" >8614.164062</td>\n",
       "      <td id=\"T_0c14a_row61_col24\" class=\"data row61 col24\" >8820904</td>\n",
       "      <td id=\"T_0c14a_row61_col25\" class=\"data row61 col25\" >0</td>\n",
       "      <td id=\"T_0c14a_row61_col26\" class=\"data row61 col26\" >2601.117188</td>\n",
       "      <td id=\"T_0c14a_row61_col27\" class=\"data row61 col27\" >2663544</td>\n",
       "      <td id=\"T_0c14a_row61_col28\" class=\"data row61 col28\" >1954148</td>\n",
       "      <td id=\"T_0c14a_row61_col29\" class=\"data row61 col29\" >0</td>\n",
       "      <td id=\"T_0c14a_row61_col30\" class=\"data row61 col30\" >599932</td>\n",
       "      <td id=\"T_0c14a_row61_col31\" class=\"data row61 col31\" >[]</td>\n",
       "      <td id=\"T_0c14a_row61_col32\" class=\"data row61 col32\" >2023-02-10T19:55:37</td>\n",
       "      <td id=\"T_0c14a_row61_col33\" class=\"data row61 col33\" >['susbrock', 'model_DB', 'jprxgrm2']</td>\n",
       "      <td id=\"T_0c14a_row61_col34\" class=\"data row61 col34\" >None</td>\n",
       "      <td id=\"T_0c14a_row61_col35\" class=\"data row61 col35\" >0.000000</td>\n",
       "      <td id=\"T_0c14a_row61_col36\" class=\"data row61 col36\" >441.093750</td>\n",
       "      <td id=\"T_0c14a_row61_col37\" class=\"data row61 col37\" >2601.117188</td>\n",
       "      <td id=\"T_0c14a_row61_col38\" class=\"data row61 col38\" >585.871094</td>\n",
       "    </tr>\n",
       "    <tr>\n",
       "      <th id=\"T_0c14a_level0_row62\" class=\"row_heading level0 row62\" >62</th>\n",
       "      <td id=\"T_0c14a_row62_col0\" class=\"data row62 col0\" >cmubsmv7</td>\n",
       "      <td id=\"T_0c14a_row62_col1\" class=\"data row62 col1\" >mobilenetv2_0.5_96_c3_o2_keras</td>\n",
       "      <td id=\"T_0c14a_row62_col2\" class=\"data row62 col2\" >finished</td>\n",
       "      <td id=\"T_0c14a_row62_col3\" class=\"data row62 col3\" >17.608 M</td>\n",
       "      <td id=\"T_0c14a_row62_col4\" class=\"data row62 col4\" ><a target=\"_blank\" href=\"https://wandb.ai/susbrock/model_DB/runs/cmubsmv7\">https://wandb.ai/susbrock/model_DB/runs/cmubsmv7</a></td>\n",
       "      <td id=\"T_0c14a_row62_col5\" class=\"data row62 col5\" >mobilenetv2_0.5_96_c3_o2_keras</td>\n",
       "      <td id=\"T_0c14a_row62_col6\" class=\"data row62 col6\" >36.461 M</td>\n",
       "      <td id=\"T_0c14a_row62_col7\" class=\"data row62 col7\" >0.5</td>\n",
       "      <td id=\"T_0c14a_row62_col8\" class=\"data row62 col8\" >2</td>\n",
       "      <td id=\"T_0c14a_row62_col9\" class=\"data row62 col9\" >96</td>\n",
       "      <td id=\"T_0c14a_row62_col10\" class=\"data row62 col10\" >38363130</td>\n",
       "      <td id=\"T_0c14a_row62_col11\" class=\"data row62 col11\" >3</td>\n",
       "      <td id=\"T_0c14a_row62_col12\" class=\"data row62 col12\" >17608000</td>\n",
       "      <td id=\"T_0c14a_row62_col13\" class=\"data row62 col13\" >keras</td>\n",
       "      <td id=\"T_0c14a_row62_col14\" class=\"data row62 col14\" >0.016754</td>\n",
       "      <td id=\"T_0c14a_row62_col15\" class=\"data row62 col15\" >708786</td>\n",
       "      <td id=\"T_0c14a_row62_col16\" class=\"data row62 col16\" >38473730</td>\n",
       "      <td id=\"T_0c14a_row62_col17\" class=\"data row62 col17\" >3233.562500</td>\n",
       "      <td id=\"T_0c14a_row62_col18\" class=\"data row62 col18\" >225840.000000</td>\n",
       "      <td id=\"T_0c14a_row62_col19\" class=\"data row62 col19\" >17608000</td>\n",
       "      <td id=\"T_0c14a_row62_col20\" class=\"data row62 col20\" >0.016954</td>\n",
       "      <td id=\"T_0c14a_row62_col21\" class=\"data row62 col21\" >690242</td>\n",
       "      <td id=\"T_0c14a_row62_col22\" class=\"data row62 col22\" >18544</td>\n",
       "      <td id=\"T_0c14a_row62_col23\" class=\"data row62 col23\" >2667.957031</td>\n",
       "      <td id=\"T_0c14a_row62_col24\" class=\"data row62 col24\" >2731988</td>\n",
       "      <td id=\"T_0c14a_row62_col25\" class=\"data row62 col25\" >0</td>\n",
       "      <td id=\"T_0c14a_row62_col26\" class=\"data row62 col26\" >927.664062</td>\n",
       "      <td id=\"T_0c14a_row62_col27\" class=\"data row62 col27\" >949928</td>\n",
       "      <td id=\"T_0c14a_row62_col28\" class=\"data row62 col28\" >988556</td>\n",
       "      <td id=\"T_0c14a_row62_col29\" class=\"data row62 col29\" >0</td>\n",
       "      <td id=\"T_0c14a_row62_col30\" class=\"data row62 col30\" >311804</td>\n",
       "      <td id=\"T_0c14a_row62_col31\" class=\"data row62 col31\" >[]</td>\n",
       "      <td id=\"T_0c14a_row62_col32\" class=\"data row62 col32\" >2023-02-10T19:53:10</td>\n",
       "      <td id=\"T_0c14a_row62_col33\" class=\"data row62 col33\" >['susbrock', 'model_DB', 'cmubsmv7']</td>\n",
       "      <td id=\"T_0c14a_row62_col34\" class=\"data row62 col34\" >None</td>\n",
       "      <td id=\"T_0c14a_row62_col35\" class=\"data row62 col35\" >0.000000</td>\n",
       "      <td id=\"T_0c14a_row62_col36\" class=\"data row62 col36\" >220.546875</td>\n",
       "      <td id=\"T_0c14a_row62_col37\" class=\"data row62 col37\" >927.664062</td>\n",
       "      <td id=\"T_0c14a_row62_col38\" class=\"data row62 col38\" >304.496094</td>\n",
       "    </tr>\n",
       "    <tr>\n",
       "      <th id=\"T_0c14a_level0_row63\" class=\"row_heading level0 row63\" >63</th>\n",
       "      <td id=\"T_0c14a_row63_col0\" class=\"data row63 col0\" >rul7t9oi</td>\n",
       "      <td id=\"T_0c14a_row63_col1\" class=\"data row63 col1\" >mobilenetv2_0.35_96_c3_o2_keras</td>\n",
       "      <td id=\"T_0c14a_row63_col2\" class=\"data row63 col2\" >finished</td>\n",
       "      <td id=\"T_0c14a_row63_col3\" class=\"data row63 col3\" >10.657 M</td>\n",
       "      <td id=\"T_0c14a_row63_col4\" class=\"data row63 col4\" ><a target=\"_blank\" href=\"https://wandb.ai/susbrock/model_DB/runs/rul7t9oi\">https://wandb.ai/susbrock/model_DB/runs/rul7t9oi</a></td>\n",
       "      <td id=\"T_0c14a_row63_col5\" class=\"data row63 col5\" >mobilenetv2_0.35_96_c3_o2_keras</td>\n",
       "      <td id=\"T_0c14a_row63_col6\" class=\"data row63 col6\" >22.292 M</td>\n",
       "      <td id=\"T_0c14a_row63_col7\" class=\"data row63 col7\" >0.35</td>\n",
       "      <td id=\"T_0c14a_row63_col8\" class=\"data row63 col8\" >2</td>\n",
       "      <td id=\"T_0c14a_row63_col9\" class=\"data row63 col9\" >96</td>\n",
       "      <td id=\"T_0c14a_row63_col10\" class=\"data row63 col10\" >23843250</td>\n",
       "      <td id=\"T_0c14a_row63_col11\" class=\"data row63 col11\" >3</td>\n",
       "      <td id=\"T_0c14a_row63_col12\" class=\"data row63 col12\" >10656688</td>\n",
       "      <td id=\"T_0c14a_row63_col13\" class=\"data row63 col13\" >keras</td>\n",
       "      <td id=\"T_0c14a_row63_col14\" class=\"data row63 col14\" >0.011755</td>\n",
       "      <td id=\"T_0c14a_row63_col15\" class=\"data row63 col15\" >412770</td>\n",
       "      <td id=\"T_0c14a_row63_col16\" class=\"data row63 col16\" >23953850</td>\n",
       "      <td id=\"T_0c14a_row63_col17\" class=\"data row63 col17\" >2075.148438</td>\n",
       "      <td id=\"T_0c14a_row63_col18\" class=\"data row63 col18\" >225840.000000</td>\n",
       "      <td id=\"T_0c14a_row63_col19\" class=\"data row63 col19\" >10656688</td>\n",
       "      <td id=\"T_0c14a_row63_col20\" class=\"data row63 col20\" >0.011954</td>\n",
       "      <td id=\"T_0c14a_row63_col21\" class=\"data row63 col21\" >398690</td>\n",
       "      <td id=\"T_0c14a_row63_col22\" class=\"data row63 col22\" >14080</td>\n",
       "      <td id=\"T_0c14a_row63_col23\" class=\"data row63 col23\" >1545.218750</td>\n",
       "      <td id=\"T_0c14a_row63_col24\" class=\"data row63 col24\" >1582304</td>\n",
       "      <td id=\"T_0c14a_row63_col25\" class=\"data row63 col25\" >0</td>\n",
       "      <td id=\"T_0c14a_row63_col26\" class=\"data row63 col26\" >593.578125</td>\n",
       "      <td id=\"T_0c14a_row63_col27\" class=\"data row63 col27\" >607824</td>\n",
       "      <td id=\"T_0c14a_row63_col28\" class=\"data row63 col28\" >970624</td>\n",
       "      <td id=\"T_0c14a_row63_col29\" class=\"data row63 col29\" >0</td>\n",
       "      <td id=\"T_0c14a_row63_col30\" class=\"data row63 col30\" >293884</td>\n",
       "      <td id=\"T_0c14a_row63_col31\" class=\"data row63 col31\" >[]</td>\n",
       "      <td id=\"T_0c14a_row63_col32\" class=\"data row63 col32\" >2023-02-10T19:50:59</td>\n",
       "      <td id=\"T_0c14a_row63_col33\" class=\"data row63 col33\" >['susbrock', 'model_DB', 'rul7t9oi']</td>\n",
       "      <td id=\"T_0c14a_row63_col34\" class=\"data row63 col34\" >None</td>\n",
       "      <td id=\"T_0c14a_row63_col35\" class=\"data row63 col35\" >0.000000</td>\n",
       "      <td id=\"T_0c14a_row63_col36\" class=\"data row63 col36\" >220.546875</td>\n",
       "      <td id=\"T_0c14a_row63_col37\" class=\"data row63 col37\" >593.578125</td>\n",
       "      <td id=\"T_0c14a_row63_col38\" class=\"data row63 col38\" >286.996094</td>\n",
       "    </tr>\n",
       "    <tr>\n",
       "      <th id=\"T_0c14a_level0_row64\" class=\"row_heading level0 row64\" >64</th>\n",
       "      <td id=\"T_0c14a_row64_col0\" class=\"data row64 col0\" >upj2bfr1</td>\n",
       "      <td id=\"T_0c14a_row64_col1\" class=\"data row64 col1\" >mobilenetv2_0.25_96_c3_o2_keras</td>\n",
       "      <td id=\"T_0c14a_row64_col2\" class=\"data row64 col2\" >finished</td>\n",
       "      <td id=\"T_0c14a_row64_col3\" class=\"data row64 col3\" >6.600 M</td>\n",
       "      <td id=\"T_0c14a_row64_col4\" class=\"data row64 col4\" ><a target=\"_blank\" href=\"https://wandb.ai/susbrock/model_DB/runs/upj2bfr1\">https://wandb.ai/susbrock/model_DB/runs/upj2bfr1</a></td>\n",
       "      <td id=\"T_0c14a_row64_col5\" class=\"data row64 col5\" >mobilenetv2_0.25_96_c3_o2_keras</td>\n",
       "      <td id=\"T_0c14a_row64_col6\" class=\"data row64 col6\" >13.991 M</td>\n",
       "      <td id=\"T_0c14a_row64_col7\" class=\"data row64 col7\" >0.25</td>\n",
       "      <td id=\"T_0c14a_row64_col8\" class=\"data row64 col8\" >2</td>\n",
       "      <td id=\"T_0c14a_row64_col9\" class=\"data row64 col9\" >96</td>\n",
       "      <td id=\"T_0c14a_row64_col10\" class=\"data row64 col10\" >15372306</td>\n",
       "      <td id=\"T_0c14a_row64_col11\" class=\"data row64 col11\" >3</td>\n",
       "      <td id=\"T_0c14a_row64_col12\" class=\"data row64 col12\" >6600352</td>\n",
       "      <td id=\"T_0c14a_row64_col13\" class=\"data row64 col13\" >keras</td>\n",
       "      <td id=\"T_0c14a_row64_col14\" class=\"data row64 col14\" >0.009196</td>\n",
       "      <td id=\"T_0c14a_row64_col15\" class=\"data row64 col15\" >251330</td>\n",
       "      <td id=\"T_0c14a_row64_col16\" class=\"data row64 col16\" >15482906</td>\n",
       "      <td id=\"T_0c14a_row64_col17\" class=\"data row64 col17\" >1447.601562</td>\n",
       "      <td id=\"T_0c14a_row64_col18\" class=\"data row64 col18\" >225840.000000</td>\n",
       "      <td id=\"T_0c14a_row64_col19\" class=\"data row64 col19\" >6600352</td>\n",
       "      <td id=\"T_0c14a_row64_col20\" class=\"data row64 col20\" >0.009395</td>\n",
       "      <td id=\"T_0c14a_row64_col21\" class=\"data row64 col21\" >240674</td>\n",
       "      <td id=\"T_0c14a_row64_col22\" class=\"data row64 col22\" >10656</td>\n",
       "      <td id=\"T_0c14a_row64_col23\" class=\"data row64 col23\" >939.945312</td>\n",
       "      <td id=\"T_0c14a_row64_col24\" class=\"data row64 col24\" >962504</td>\n",
       "      <td id=\"T_0c14a_row64_col25\" class=\"data row64 col25\" >0</td>\n",
       "      <td id=\"T_0c14a_row64_col26\" class=\"data row64 col26\" >401.351562</td>\n",
       "      <td id=\"T_0c14a_row64_col27\" class=\"data row64 col27\" >410984</td>\n",
       "      <td id=\"T_0c14a_row64_col28\" class=\"data row64 col28\" >957036</td>\n",
       "      <td id=\"T_0c14a_row64_col29\" class=\"data row64 col29\" >0</td>\n",
       "      <td id=\"T_0c14a_row64_col30\" class=\"data row64 col30\" >280272</td>\n",
       "      <td id=\"T_0c14a_row64_col31\" class=\"data row64 col31\" >[]</td>\n",
       "      <td id=\"T_0c14a_row64_col32\" class=\"data row64 col32\" >2023-02-10T19:48:47</td>\n",
       "      <td id=\"T_0c14a_row64_col33\" class=\"data row64 col33\" >['susbrock', 'model_DB', 'upj2bfr1']</td>\n",
       "      <td id=\"T_0c14a_row64_col34\" class=\"data row64 col34\" >None</td>\n",
       "      <td id=\"T_0c14a_row64_col35\" class=\"data row64 col35\" >0.000000</td>\n",
       "      <td id=\"T_0c14a_row64_col36\" class=\"data row64 col36\" >220.546875</td>\n",
       "      <td id=\"T_0c14a_row64_col37\" class=\"data row64 col37\" >401.351562</td>\n",
       "      <td id=\"T_0c14a_row64_col38\" class=\"data row64 col38\" >273.703125</td>\n",
       "    </tr>\n",
       "    <tr>\n",
       "      <th id=\"T_0c14a_level0_row65\" class=\"row_heading level0 row65\" >65</th>\n",
       "      <td id=\"T_0c14a_row65_col0\" class=\"data row65 col0\" >du0odk9c</td>\n",
       "      <td id=\"T_0c14a_row65_col1\" class=\"data row65 col1\" >mobilenetv1_1_96_c3_o2_l5</td>\n",
       "      <td id=\"T_0c14a_row65_col2\" class=\"data row65 col2\" >finished</td>\n",
       "      <td id=\"T_0c14a_row65_col3\" class=\"data row65 col3\" >104.276 M</td>\n",
       "      <td id=\"T_0c14a_row65_col4\" class=\"data row65 col4\" ><a target=\"_blank\" href=\"https://wandb.ai/susbrock/model_DB/runs/du0odk9c\">https://wandb.ai/susbrock/model_DB/runs/du0odk9c</a></td>\n",
       "      <td id=\"T_0c14a_row65_col5\" class=\"data row65 col5\" >mobilenetv1_1_96_c3_o2_l5</td>\n",
       "      <td id=\"T_0c14a_row65_col6\" class=\"data row65 col6\" >211.332 M</td>\n",
       "      <td id=\"T_0c14a_row65_col7\" class=\"data row65 col7\" >1.0</td>\n",
       "      <td id=\"T_0c14a_row65_col8\" class=\"data row65 col8\" >2</td>\n",
       "      <td id=\"T_0c14a_row65_col9\" class=\"data row65 col9\" >96</td>\n",
       "      <td id=\"T_0c14a_row65_col10\" class=\"data row65 col10\" >211331596</td>\n",
       "      <td id=\"T_0c14a_row65_col11\" class=\"data row65 col11\" >3</td>\n",
       "      <td id=\"T_0c14a_row65_col12\" class=\"data row65 col12\" >104276480</td>\n",
       "      <td id=\"T_0c14a_row65_col13\" class=\"data row65 col13\" >l5</td>\n",
       "      <td id=\"T_0c14a_row65_col14\" class=\"data row65 col14\" >0.038143</td>\n",
       "      <td id=\"T_0c14a_row65_col15\" class=\"data row65 col15\" >3241858</td>\n",
       "      <td id=\"T_0c14a_row65_col16\" class=\"data row65 col16\" >211442196</td>\n",
       "      <td id=\"T_0c14a_row65_col17\" class=\"data row65 col17\" >12921.484375</td>\n",
       "      <td id=\"T_0c14a_row65_col18\" class=\"data row65 col18\" >221184.000000</td>\n",
       "      <td id=\"T_0c14a_row65_col19\" class=\"data row65 col19\" >104276480</td>\n",
       "      <td id=\"T_0c14a_row65_col20\" class=\"data row65 col20\" >0.038342</td>\n",
       "      <td id=\"T_0c14a_row65_col21\" class=\"data row65 col21\" >3219970</td>\n",
       "      <td id=\"T_0c14a_row65_col22\" class=\"data row65 col22\" >21888</td>\n",
       "      <td id=\"T_0c14a_row65_col23\" class=\"data row65 col23\" >12477.226562</td>\n",
       "      <td id=\"T_0c14a_row65_col24\" class=\"data row65 col24\" >12776680</td>\n",
       "      <td id=\"T_0c14a_row65_col25\" class=\"data row65 col25\" >0</td>\n",
       "      <td id=\"T_0c14a_row65_col26\" class=\"data row65 col26\" >3401.656250</td>\n",
       "      <td id=\"T_0c14a_row65_col27\" class=\"data row65 col27\" >3483296</td>\n",
       "      <td id=\"T_0c14a_row65_col28\" class=\"data row65 col28\" >978132</td>\n",
       "      <td id=\"T_0c14a_row65_col29\" class=\"data row65 col29\" >0</td>\n",
       "      <td id=\"T_0c14a_row65_col30\" class=\"data row65 col30\" >315076</td>\n",
       "      <td id=\"T_0c14a_row65_col31\" class=\"data row65 col31\" >[]</td>\n",
       "      <td id=\"T_0c14a_row65_col32\" class=\"data row65 col32\" >2023-02-05T21:14:22</td>\n",
       "      <td id=\"T_0c14a_row65_col33\" class=\"data row65 col33\" >['susbrock', 'model_DB', 'du0odk9c']</td>\n",
       "      <td id=\"T_0c14a_row65_col34\" class=\"data row65 col34\" >None</td>\n",
       "      <td id=\"T_0c14a_row65_col35\" class=\"data row65 col35\" >0.000000</td>\n",
       "      <td id=\"T_0c14a_row65_col36\" class=\"data row65 col36\" >216.000000</td>\n",
       "      <td id=\"T_0c14a_row65_col37\" class=\"data row65 col37\" >3401.656250</td>\n",
       "      <td id=\"T_0c14a_row65_col38\" class=\"data row65 col38\" >307.691406</td>\n",
       "    </tr>\n",
       "    <tr>\n",
       "      <th id=\"T_0c14a_level0_row66\" class=\"row_heading level0 row66\" >66</th>\n",
       "      <td id=\"T_0c14a_row66_col0\" class=\"data row66 col0\" >y0pb3qam</td>\n",
       "      <td id=\"T_0c14a_row66_col1\" class=\"data row66 col1\" >mobilenetv1_1_96_c3_o2_l4</td>\n",
       "      <td id=\"T_0c14a_row66_col2\" class=\"data row66 col2\" >finished</td>\n",
       "      <td id=\"T_0c14a_row66_col3\" class=\"data row66 col3\" >94.673 M</td>\n",
       "      <td id=\"T_0c14a_row66_col4\" class=\"data row66 col4\" ><a target=\"_blank\" href=\"https://wandb.ai/susbrock/model_DB/runs/y0pb3qam\">https://wandb.ai/susbrock/model_DB/runs/y0pb3qam</a></td>\n",
       "      <td id=\"T_0c14a_row66_col5\" class=\"data row66 col5\" >mobilenetv1_1_96_c3_o2_l4</td>\n",
       "      <td id=\"T_0c14a_row66_col6\" class=\"data row66 col6\" >192.015 M</td>\n",
       "      <td id=\"T_0c14a_row66_col7\" class=\"data row66 col7\" >1.0</td>\n",
       "      <td id=\"T_0c14a_row66_col8\" class=\"data row66 col8\" >2</td>\n",
       "      <td id=\"T_0c14a_row66_col9\" class=\"data row66 col9\" >96</td>\n",
       "      <td id=\"T_0c14a_row66_col10\" class=\"data row66 col10\" >192014860</td>\n",
       "      <td id=\"T_0c14a_row66_col11\" class=\"data row66 col11\" >3</td>\n",
       "      <td id=\"T_0c14a_row66_col12\" class=\"data row66 col12\" >94673408</td>\n",
       "      <td id=\"T_0c14a_row66_col13\" class=\"data row66 col13\" >l4</td>\n",
       "      <td id=\"T_0c14a_row66_col14\" class=\"data row66 col14\" >0.036472</td>\n",
       "      <td id=\"T_0c14a_row66_col15\" class=\"data row66 col15\" >2969986</td>\n",
       "      <td id=\"T_0c14a_row66_col16\" class=\"data row66 col16\" >192125460</td>\n",
       "      <td id=\"T_0c14a_row66_col17\" class=\"data row66 col17\" >11842.484375</td>\n",
       "      <td id=\"T_0c14a_row66_col18\" class=\"data row66 col18\" >221184.000000</td>\n",
       "      <td id=\"T_0c14a_row66_col19\" class=\"data row66 col19\" >94673408</td>\n",
       "      <td id=\"T_0c14a_row66_col20\" class=\"data row66 col20\" >0.036671</td>\n",
       "      <td id=\"T_0c14a_row66_col21\" class=\"data row66 col21\" >2950146</td>\n",
       "      <td id=\"T_0c14a_row66_col22\" class=\"data row66 col22\" >19840</td>\n",
       "      <td id=\"T_0c14a_row66_col23\" class=\"data row66 col23\" >11433.972656</td>\n",
       "      <td id=\"T_0c14a_row66_col24\" class=\"data row66 col24\" >11708388</td>\n",
       "      <td id=\"T_0c14a_row66_col25\" class=\"data row66 col25\" >0</td>\n",
       "      <td id=\"T_0c14a_row66_col26\" class=\"data row66 col26\" >3115.492188</td>\n",
       "      <td id=\"T_0c14a_row66_col27\" class=\"data row66 col27\" >3190264</td>\n",
       "      <td id=\"T_0c14a_row66_col28\" class=\"data row66 col28\" >969540</td>\n",
       "      <td id=\"T_0c14a_row66_col29\" class=\"data row66 col29\" >0</td>\n",
       "      <td id=\"T_0c14a_row66_col30\" class=\"data row66 col30\" >306512</td>\n",
       "      <td id=\"T_0c14a_row66_col31\" class=\"data row66 col31\" >[]</td>\n",
       "      <td id=\"T_0c14a_row66_col32\" class=\"data row66 col32\" >2023-02-05T21:12:48</td>\n",
       "      <td id=\"T_0c14a_row66_col33\" class=\"data row66 col33\" >['susbrock', 'model_DB', 'y0pb3qam']</td>\n",
       "      <td id=\"T_0c14a_row66_col34\" class=\"data row66 col34\" >None</td>\n",
       "      <td id=\"T_0c14a_row66_col35\" class=\"data row66 col35\" >0.000000</td>\n",
       "      <td id=\"T_0c14a_row66_col36\" class=\"data row66 col36\" >216.000000</td>\n",
       "      <td id=\"T_0c14a_row66_col37\" class=\"data row66 col37\" >3115.492188</td>\n",
       "      <td id=\"T_0c14a_row66_col38\" class=\"data row66 col38\" >299.328125</td>\n",
       "    </tr>\n",
       "    <tr>\n",
       "      <th id=\"T_0c14a_level0_row67\" class=\"row_heading level0 row67\" >67</th>\n",
       "      <td id=\"T_0c14a_row67_col0\" class=\"data row67 col0\" >407blxzt</td>\n",
       "      <td id=\"T_0c14a_row67_col1\" class=\"data row67 col1\" >mobilenetv1_1_96_c3_o2_l3</td>\n",
       "      <td id=\"T_0c14a_row67_col2\" class=\"data row67 col2\" >finished</td>\n",
       "      <td id=\"T_0c14a_row67_col3\" class=\"data row67 col3\" >85.070 M</td>\n",
       "      <td id=\"T_0c14a_row67_col4\" class=\"data row67 col4\" ><a target=\"_blank\" href=\"https://wandb.ai/susbrock/model_DB/runs/407blxzt\">https://wandb.ai/susbrock/model_DB/runs/407blxzt</a></td>\n",
       "      <td id=\"T_0c14a_row67_col5\" class=\"data row67 col5\" >mobilenetv1_1_96_c3_o2_l3</td>\n",
       "      <td id=\"T_0c14a_row67_col6\" class=\"data row67 col6\" >172.698 M</td>\n",
       "      <td id=\"T_0c14a_row67_col7\" class=\"data row67 col7\" >1.0</td>\n",
       "      <td id=\"T_0c14a_row67_col8\" class=\"data row67 col8\" >2</td>\n",
       "      <td id=\"T_0c14a_row67_col9\" class=\"data row67 col9\" >96</td>\n",
       "      <td id=\"T_0c14a_row67_col10\" class=\"data row67 col10\" >172698124</td>\n",
       "      <td id=\"T_0c14a_row67_col11\" class=\"data row67 col11\" >3</td>\n",
       "      <td id=\"T_0c14a_row67_col12\" class=\"data row67 col12\" >85070336</td>\n",
       "      <td id=\"T_0c14a_row67_col13\" class=\"data row67 col13\" >l3</td>\n",
       "      <td id=\"T_0c14a_row67_col14\" class=\"data row67 col14\" >0.034801</td>\n",
       "      <td id=\"T_0c14a_row67_col15\" class=\"data row67 col15\" >2698114</td>\n",
       "      <td id=\"T_0c14a_row67_col16\" class=\"data row67 col16\" >172808724</td>\n",
       "      <td id=\"T_0c14a_row67_col17\" class=\"data row67 col17\" >10761.812500</td>\n",
       "      <td id=\"T_0c14a_row67_col18\" class=\"data row67 col18\" >221184.000000</td>\n",
       "      <td id=\"T_0c14a_row67_col19\" class=\"data row67 col19\" >85070336</td>\n",
       "      <td id=\"T_0c14a_row67_col20\" class=\"data row67 col20\" >0.035000</td>\n",
       "      <td id=\"T_0c14a_row67_col21\" class=\"data row67 col21\" >2680322</td>\n",
       "      <td id=\"T_0c14a_row67_col22\" class=\"data row67 col22\" >17792</td>\n",
       "      <td id=\"T_0c14a_row67_col23\" class=\"data row67 col23\" >10390.718750</td>\n",
       "      <td id=\"T_0c14a_row67_col24\" class=\"data row67 col24\" >10640096</td>\n",
       "      <td id=\"T_0c14a_row67_col25\" class=\"data row67 col25\" >0</td>\n",
       "      <td id=\"T_0c14a_row67_col26\" class=\"data row67 col26\" >2829.335938</td>\n",
       "      <td id=\"T_0c14a_row67_col27\" class=\"data row67 col27\" >2897240</td>\n",
       "      <td id=\"T_0c14a_row67_col28\" class=\"data row67 col28\" >961076</td>\n",
       "      <td id=\"T_0c14a_row67_col29\" class=\"data row67 col29\" >0</td>\n",
       "      <td id=\"T_0c14a_row67_col30\" class=\"data row67 col30\" >297948</td>\n",
       "      <td id=\"T_0c14a_row67_col31\" class=\"data row67 col31\" >[]</td>\n",
       "      <td id=\"T_0c14a_row67_col32\" class=\"data row67 col32\" >2023-02-05T21:11:17</td>\n",
       "      <td id=\"T_0c14a_row67_col33\" class=\"data row67 col33\" >['susbrock', 'model_DB', '407blxzt']</td>\n",
       "      <td id=\"T_0c14a_row67_col34\" class=\"data row67 col34\" >None</td>\n",
       "      <td id=\"T_0c14a_row67_col35\" class=\"data row67 col35\" >0.000000</td>\n",
       "      <td id=\"T_0c14a_row67_col36\" class=\"data row67 col36\" >216.000000</td>\n",
       "      <td id=\"T_0c14a_row67_col37\" class=\"data row67 col37\" >2829.335938</td>\n",
       "      <td id=\"T_0c14a_row67_col38\" class=\"data row67 col38\" >290.964844</td>\n",
       "    </tr>\n",
       "    <tr>\n",
       "      <th id=\"T_0c14a_level0_row68\" class=\"row_heading level0 row68\" >68</th>\n",
       "      <td id=\"T_0c14a_row68_col0\" class=\"data row68 col0\" >hf4jz04b</td>\n",
       "      <td id=\"T_0c14a_row68_col1\" class=\"data row68 col1\" >mobilenetv1_1_96_c3_o2_l2</td>\n",
       "      <td id=\"T_0c14a_row68_col2\" class=\"data row68 col2\" >finished</td>\n",
       "      <td id=\"T_0c14a_row68_col3\" class=\"data row68 col3\" >75.467 M</td>\n",
       "      <td id=\"T_0c14a_row68_col4\" class=\"data row68 col4\" ><a target=\"_blank\" href=\"https://wandb.ai/susbrock/model_DB/runs/hf4jz04b\">https://wandb.ai/susbrock/model_DB/runs/hf4jz04b</a></td>\n",
       "      <td id=\"T_0c14a_row68_col5\" class=\"data row68 col5\" >mobilenetv1_1_96_c3_o2_l2</td>\n",
       "      <td id=\"T_0c14a_row68_col6\" class=\"data row68 col6\" >153.381 M</td>\n",
       "      <td id=\"T_0c14a_row68_col7\" class=\"data row68 col7\" >1.0</td>\n",
       "      <td id=\"T_0c14a_row68_col8\" class=\"data row68 col8\" >2</td>\n",
       "      <td id=\"T_0c14a_row68_col9\" class=\"data row68 col9\" >96</td>\n",
       "      <td id=\"T_0c14a_row68_col10\" class=\"data row68 col10\" >153381388</td>\n",
       "      <td id=\"T_0c14a_row68_col11\" class=\"data row68 col11\" >3</td>\n",
       "      <td id=\"T_0c14a_row68_col12\" class=\"data row68 col12\" >75467264</td>\n",
       "      <td id=\"T_0c14a_row68_col13\" class=\"data row68 col13\" >l2</td>\n",
       "      <td id=\"T_0c14a_row68_col14\" class=\"data row68 col14\" >0.033130</td>\n",
       "      <td id=\"T_0c14a_row68_col15\" class=\"data row68 col15\" >2426242</td>\n",
       "      <td id=\"T_0c14a_row68_col16\" class=\"data row68 col16\" >153491988</td>\n",
       "      <td id=\"T_0c14a_row68_col17\" class=\"data row68 col17\" >9683.015625</td>\n",
       "      <td id=\"T_0c14a_row68_col18\" class=\"data row68 col18\" >221184.000000</td>\n",
       "      <td id=\"T_0c14a_row68_col19\" class=\"data row68 col19\" >75467264</td>\n",
       "      <td id=\"T_0c14a_row68_col20\" class=\"data row68 col20\" >0.033329</td>\n",
       "      <td id=\"T_0c14a_row68_col21\" class=\"data row68 col21\" >2410498</td>\n",
       "      <td id=\"T_0c14a_row68_col22\" class=\"data row68 col22\" >15744</td>\n",
       "      <td id=\"T_0c14a_row68_col23\" class=\"data row68 col23\" >9347.464844</td>\n",
       "      <td id=\"T_0c14a_row68_col24\" class=\"data row68 col24\" >9571804</td>\n",
       "      <td id=\"T_0c14a_row68_col25\" class=\"data row68 col25\" >0</td>\n",
       "      <td id=\"T_0c14a_row68_col26\" class=\"data row68 col26\" >2543.195312</td>\n",
       "      <td id=\"T_0c14a_row68_col27\" class=\"data row68 col27\" >2604232</td>\n",
       "      <td id=\"T_0c14a_row68_col28\" class=\"data row68 col28\" >952484</td>\n",
       "      <td id=\"T_0c14a_row68_col29\" class=\"data row68 col29\" >0</td>\n",
       "      <td id=\"T_0c14a_row68_col30\" class=\"data row68 col30\" >289384</td>\n",
       "      <td id=\"T_0c14a_row68_col31\" class=\"data row68 col31\" >[]</td>\n",
       "      <td id=\"T_0c14a_row68_col32\" class=\"data row68 col32\" >2023-02-05T21:09:39</td>\n",
       "      <td id=\"T_0c14a_row68_col33\" class=\"data row68 col33\" >['susbrock', 'model_DB', 'hf4jz04b']</td>\n",
       "      <td id=\"T_0c14a_row68_col34\" class=\"data row68 col34\" >None</td>\n",
       "      <td id=\"T_0c14a_row68_col35\" class=\"data row68 col35\" >0.000000</td>\n",
       "      <td id=\"T_0c14a_row68_col36\" class=\"data row68 col36\" >216.000000</td>\n",
       "      <td id=\"T_0c14a_row68_col37\" class=\"data row68 col37\" >2543.195312</td>\n",
       "      <td id=\"T_0c14a_row68_col38\" class=\"data row68 col38\" >282.601562</td>\n",
       "    </tr>\n",
       "    <tr>\n",
       "      <th id=\"T_0c14a_level0_row69\" class=\"row_heading level0 row69\" >69</th>\n",
       "      <td id=\"T_0c14a_row69_col0\" class=\"data row69 col0\" >sx9lbvdk</td>\n",
       "      <td id=\"T_0c14a_row69_col1\" class=\"data row69 col1\" >mobilenetv1_1_96_c3_o2_l1</td>\n",
       "      <td id=\"T_0c14a_row69_col2\" class=\"data row69 col2\" >finished</td>\n",
       "      <td id=\"T_0c14a_row69_col3\" class=\"data row69 col3\" >65.864 M</td>\n",
       "      <td id=\"T_0c14a_row69_col4\" class=\"data row69 col4\" ><a target=\"_blank\" href=\"https://wandb.ai/susbrock/model_DB/runs/sx9lbvdk\">https://wandb.ai/susbrock/model_DB/runs/sx9lbvdk</a></td>\n",
       "      <td id=\"T_0c14a_row69_col5\" class=\"data row69 col5\" >mobilenetv1_1_96_c3_o2_l1</td>\n",
       "      <td id=\"T_0c14a_row69_col6\" class=\"data row69 col6\" >134.065 M</td>\n",
       "      <td id=\"T_0c14a_row69_col7\" class=\"data row69 col7\" >1.0</td>\n",
       "      <td id=\"T_0c14a_row69_col8\" class=\"data row69 col8\" >2</td>\n",
       "      <td id=\"T_0c14a_row69_col9\" class=\"data row69 col9\" >96</td>\n",
       "      <td id=\"T_0c14a_row69_col10\" class=\"data row69 col10\" >134064652</td>\n",
       "      <td id=\"T_0c14a_row69_col11\" class=\"data row69 col11\" >3</td>\n",
       "      <td id=\"T_0c14a_row69_col12\" class=\"data row69 col12\" >65864192</td>\n",
       "      <td id=\"T_0c14a_row69_col13\" class=\"data row69 col13\" >l1</td>\n",
       "      <td id=\"T_0c14a_row69_col14\" class=\"data row69 col14\" >0.031458</td>\n",
       "      <td id=\"T_0c14a_row69_col15\" class=\"data row69 col15\" >2154370</td>\n",
       "      <td id=\"T_0c14a_row69_col16\" class=\"data row69 col16\" >134175252</td>\n",
       "      <td id=\"T_0c14a_row69_col17\" class=\"data row69 col17\" >8621.843750</td>\n",
       "      <td id=\"T_0c14a_row69_col18\" class=\"data row69 col18\" >221184.000000</td>\n",
       "      <td id=\"T_0c14a_row69_col19\" class=\"data row69 col19\" >65864192</td>\n",
       "      <td id=\"T_0c14a_row69_col20\" class=\"data row69 col20\" >0.031658</td>\n",
       "      <td id=\"T_0c14a_row69_col21\" class=\"data row69 col21\" >2140674</td>\n",
       "      <td id=\"T_0c14a_row69_col22\" class=\"data row69 col22\" >13696</td>\n",
       "      <td id=\"T_0c14a_row69_col23\" class=\"data row69 col23\" >8304.214844</td>\n",
       "      <td id=\"T_0c14a_row69_col24\" class=\"data row69 col24\" >8503516</td>\n",
       "      <td id=\"T_0c14a_row69_col25\" class=\"data row69 col25\" >0</td>\n",
       "      <td id=\"T_0c14a_row69_col26\" class=\"data row69 col26\" >2257.054688</td>\n",
       "      <td id=\"T_0c14a_row69_col27\" class=\"data row69 col27\" >2311224</td>\n",
       "      <td id=\"T_0c14a_row69_col28\" class=\"data row69 col28\" >944020</td>\n",
       "      <td id=\"T_0c14a_row69_col29\" class=\"data row69 col29\" >0</td>\n",
       "      <td id=\"T_0c14a_row69_col30\" class=\"data row69 col30\" >280820</td>\n",
       "      <td id=\"T_0c14a_row69_col31\" class=\"data row69 col31\" >[]</td>\n",
       "      <td id=\"T_0c14a_row69_col32\" class=\"data row69 col32\" >2023-02-05T21:08:12</td>\n",
       "      <td id=\"T_0c14a_row69_col33\" class=\"data row69 col33\" >['susbrock', 'model_DB', 'sx9lbvdk']</td>\n",
       "      <td id=\"T_0c14a_row69_col34\" class=\"data row69 col34\" >None</td>\n",
       "      <td id=\"T_0c14a_row69_col35\" class=\"data row69 col35\" >0.000000</td>\n",
       "      <td id=\"T_0c14a_row69_col36\" class=\"data row69 col36\" >216.000000</td>\n",
       "      <td id=\"T_0c14a_row69_col37\" class=\"data row69 col37\" >2257.054688</td>\n",
       "      <td id=\"T_0c14a_row69_col38\" class=\"data row69 col38\" >274.238281</td>\n",
       "    </tr>\n",
       "    <tr>\n",
       "      <th id=\"T_0c14a_level0_row70\" class=\"row_heading level0 row70\" >70</th>\n",
       "      <td id=\"T_0c14a_row70_col0\" class=\"data row70 col0\" >dufa0261</td>\n",
       "      <td id=\"T_0c14a_row70_col1\" class=\"data row70 col1\" >mobilenetv1_0.35_96_c3_o2_l5</td>\n",
       "      <td id=\"T_0c14a_row70_col2\" class=\"data row70 col2\" >finished</td>\n",
       "      <td id=\"T_0c14a_row70_col3\" class=\"data row70 col3\" >13.796 M</td>\n",
       "      <td id=\"T_0c14a_row70_col4\" class=\"data row70 col4\" ><a target=\"_blank\" href=\"https://wandb.ai/susbrock/model_DB/runs/dufa0261\">https://wandb.ai/susbrock/model_DB/runs/dufa0261</a></td>\n",
       "      <td id=\"T_0c14a_row70_col5\" class=\"data row70 col5\" >mobilenetv1_0.35_96_c3_o2_l5</td>\n",
       "      <td id=\"T_0c14a_row70_col6\" class=\"data row70 col6\" >28.552 M</td>\n",
       "      <td id=\"T_0c14a_row70_col7\" class=\"data row70 col7\" >0.35</td>\n",
       "      <td id=\"T_0c14a_row70_col8\" class=\"data row70 col8\" >2</td>\n",
       "      <td id=\"T_0c14a_row70_col9\" class=\"data row70 col9\" >96</td>\n",
       "      <td id=\"T_0c14a_row70_col10\" class=\"data row70 col10\" >28552369</td>\n",
       "      <td id=\"T_0c14a_row70_col11\" class=\"data row70 col11\" >3</td>\n",
       "      <td id=\"T_0c14a_row70_col12\" class=\"data row70 col12\" >13795835</td>\n",
       "      <td id=\"T_0c14a_row70_col13\" class=\"data row70 col13\" >l5</td>\n",
       "      <td id=\"T_0c14a_row70_col14\" class=\"data row70 col14\" >0.010341</td>\n",
       "      <td id=\"T_0c14a_row70_col15\" class=\"data row70 col15\" >419059</td>\n",
       "      <td id=\"T_0c14a_row70_col16\" class=\"data row70 col16\" >28662969</td>\n",
       "      <td id=\"T_0c14a_row70_col17\" class=\"data row70 col17\" >1901.125000</td>\n",
       "      <td id=\"T_0c14a_row70_col18\" class=\"data row70 col18\" >76032.000000</td>\n",
       "      <td id=\"T_0c14a_row70_col19\" class=\"data row70 col19\" >13795835</td>\n",
       "      <td id=\"T_0c14a_row70_col20\" class=\"data row70 col20\" >0.010541</td>\n",
       "      <td id=\"T_0c14a_row70_col21\" class=\"data row70 col21\" >411419</td>\n",
       "      <td id=\"T_0c14a_row70_col22\" class=\"data row70 col22\" >7640</td>\n",
       "      <td id=\"T_0c14a_row70_col23\" class=\"data row70 col23\" >1584.679688</td>\n",
       "      <td id=\"T_0c14a_row70_col24\" class=\"data row70 col24\" >1622712</td>\n",
       "      <td id=\"T_0c14a_row70_col25\" class=\"data row70 col25\" >0</td>\n",
       "      <td id=\"T_0c14a_row70_col26\" class=\"data row70 col26\" >507.757812</td>\n",
       "      <td id=\"T_0c14a_row70_col27\" class=\"data row70 col27\" >519944</td>\n",
       "      <td id=\"T_0c14a_row70_col28\" class=\"data row70 col28\" >442196</td>\n",
       "      <td id=\"T_0c14a_row70_col29\" class=\"data row70 col29\" >0</td>\n",
       "      <td id=\"T_0c14a_row70_col30\" class=\"data row70 col30\" >138644</td>\n",
       "      <td id=\"T_0c14a_row70_col31\" class=\"data row70 col31\" >[]</td>\n",
       "      <td id=\"T_0c14a_row70_col32\" class=\"data row70 col32\" >2023-02-05T21:06:49</td>\n",
       "      <td id=\"T_0c14a_row70_col33\" class=\"data row70 col33\" >['susbrock', 'model_DB', 'dufa0261']</td>\n",
       "      <td id=\"T_0c14a_row70_col34\" class=\"data row70 col34\" >None</td>\n",
       "      <td id=\"T_0c14a_row70_col35\" class=\"data row70 col35\" >0.000000</td>\n",
       "      <td id=\"T_0c14a_row70_col36\" class=\"data row70 col36\" >74.250000</td>\n",
       "      <td id=\"T_0c14a_row70_col37\" class=\"data row70 col37\" >507.757812</td>\n",
       "      <td id=\"T_0c14a_row70_col38\" class=\"data row70 col38\" >135.394531</td>\n",
       "    </tr>\n",
       "    <tr>\n",
       "      <th id=\"T_0c14a_level0_row71\" class=\"row_heading level0 row71\" >71</th>\n",
       "      <td id=\"T_0c14a_row71_col0\" class=\"data row71 col0\" >24hh17gw</td>\n",
       "      <td id=\"T_0c14a_row71_col1\" class=\"data row71 col1\" >mobilenetv1_0.35_96_c3_o2_l4</td>\n",
       "      <td id=\"T_0c14a_row71_col2\" class=\"data row71 col2\" >finished</td>\n",
       "      <td id=\"T_0c14a_row71_col3\" class=\"data row71 col3\" >12.584 M</td>\n",
       "      <td id=\"T_0c14a_row71_col4\" class=\"data row71 col4\" ><a target=\"_blank\" href=\"https://wandb.ai/susbrock/model_DB/runs/24hh17gw\">https://wandb.ai/susbrock/model_DB/runs/24hh17gw</a></td>\n",
       "      <td id=\"T_0c14a_row71_col5\" class=\"data row71 col5\" >mobilenetv1_0.35_96_c3_o2_l4</td>\n",
       "      <td id=\"T_0c14a_row71_col6\" class=\"data row71 col6\" >26.091 M</td>\n",
       "      <td id=\"T_0c14a_row71_col7\" class=\"data row71 col7\" >0.35</td>\n",
       "      <td id=\"T_0c14a_row71_col8\" class=\"data row71 col8\" >2</td>\n",
       "      <td id=\"T_0c14a_row71_col9\" class=\"data row71 col9\" >96</td>\n",
       "      <td id=\"T_0c14a_row71_col10\" class=\"data row71 col10\" >26090761</td>\n",
       "      <td id=\"T_0c14a_row71_col11\" class=\"data row71 col11\" >3</td>\n",
       "      <td id=\"T_0c14a_row71_col12\" class=\"data row71 col12\" >12584363</td>\n",
       "      <td id=\"T_0c14a_row71_col13\" class=\"data row71 col13\" >l4</td>\n",
       "      <td id=\"T_0c14a_row71_col14\" class=\"data row71 col14\" >0.009756</td>\n",
       "      <td id=\"T_0c14a_row71_col15\" class=\"data row71 col15\" >383617</td>\n",
       "      <td id=\"T_0c14a_row71_col16\" class=\"data row71 col16\" >26201361</td>\n",
       "      <td id=\"T_0c14a_row71_col17\" class=\"data row71 col17\" >1745.343750</td>\n",
       "      <td id=\"T_0c14a_row71_col18\" class=\"data row71 col18\" >76032.000000</td>\n",
       "      <td id=\"T_0c14a_row71_col19\" class=\"data row71 col19\" >12584363</td>\n",
       "      <td id=\"T_0c14a_row71_col20\" class=\"data row71 col20\" >0.009955</td>\n",
       "      <td id=\"T_0c14a_row71_col21\" class=\"data row71 col21\" >376693</td>\n",
       "      <td id=\"T_0c14a_row71_col22\" class=\"data row71 col22\" >6924</td>\n",
       "      <td id=\"T_0c14a_row71_col23\" class=\"data row71 col23\" >1451.972656</td>\n",
       "      <td id=\"T_0c14a_row71_col24\" class=\"data row71 col24\" >1486820</td>\n",
       "      <td id=\"T_0c14a_row71_col25\" class=\"data row71 col25\" >0</td>\n",
       "      <td id=\"T_0c14a_row71_col26\" class=\"data row71 col26\" >464.843750</td>\n",
       "      <td id=\"T_0c14a_row71_col27\" class=\"data row71 col27\" >476000</td>\n",
       "      <td id=\"T_0c14a_row71_col28\" class=\"data row71 col28\" >438980</td>\n",
       "      <td id=\"T_0c14a_row71_col29\" class=\"data row71 col29\" >0</td>\n",
       "      <td id=\"T_0c14a_row71_col30\" class=\"data row71 col30\" >135332</td>\n",
       "      <td id=\"T_0c14a_row71_col31\" class=\"data row71 col31\" >[]</td>\n",
       "      <td id=\"T_0c14a_row71_col32\" class=\"data row71 col32\" >2023-02-05T21:05:20</td>\n",
       "      <td id=\"T_0c14a_row71_col33\" class=\"data row71 col33\" >['susbrock', 'model_DB', '24hh17gw']</td>\n",
       "      <td id=\"T_0c14a_row71_col34\" class=\"data row71 col34\" >None</td>\n",
       "      <td id=\"T_0c14a_row71_col35\" class=\"data row71 col35\" >0.000000</td>\n",
       "      <td id=\"T_0c14a_row71_col36\" class=\"data row71 col36\" >74.250000</td>\n",
       "      <td id=\"T_0c14a_row71_col37\" class=\"data row71 col37\" >464.843750</td>\n",
       "      <td id=\"T_0c14a_row71_col38\" class=\"data row71 col38\" >132.160156</td>\n",
       "    </tr>\n",
       "    <tr>\n",
       "      <th id=\"T_0c14a_level0_row72\" class=\"row_heading level0 row72\" >72</th>\n",
       "      <td id=\"T_0c14a_row72_col0\" class=\"data row72 col0\" >w77speon</td>\n",
       "      <td id=\"T_0c14a_row72_col1\" class=\"data row72 col1\" >mobilenetv1_0.35_96_c3_o2_l3</td>\n",
       "      <td id=\"T_0c14a_row72_col2\" class=\"data row72 col2\" >finished</td>\n",
       "      <td id=\"T_0c14a_row72_col3\" class=\"data row72 col3\" >11.373 M</td>\n",
       "      <td id=\"T_0c14a_row72_col4\" class=\"data row72 col4\" ><a target=\"_blank\" href=\"https://wandb.ai/susbrock/model_DB/runs/w77speon\">https://wandb.ai/susbrock/model_DB/runs/w77speon</a></td>\n",
       "      <td id=\"T_0c14a_row72_col5\" class=\"data row72 col5\" >mobilenetv1_0.35_96_c3_o2_l3</td>\n",
       "      <td id=\"T_0c14a_row72_col6\" class=\"data row72 col6\" >23.629 M</td>\n",
       "      <td id=\"T_0c14a_row72_col7\" class=\"data row72 col7\" >0.35</td>\n",
       "      <td id=\"T_0c14a_row72_col8\" class=\"data row72 col8\" >2</td>\n",
       "      <td id=\"T_0c14a_row72_col9\" class=\"data row72 col9\" >96</td>\n",
       "      <td id=\"T_0c14a_row72_col10\" class=\"data row72 col10\" >23629153</td>\n",
       "      <td id=\"T_0c14a_row72_col11\" class=\"data row72 col11\" >3</td>\n",
       "      <td id=\"T_0c14a_row72_col12\" class=\"data row72 col12\" >11372891</td>\n",
       "      <td id=\"T_0c14a_row72_col13\" class=\"data row72 col13\" >l3</td>\n",
       "      <td id=\"T_0c14a_row72_col14\" class=\"data row72 col14\" >0.009170</td>\n",
       "      <td id=\"T_0c14a_row72_col15\" class=\"data row72 col15\" >348175</td>\n",
       "      <td id=\"T_0c14a_row72_col16\" class=\"data row72 col16\" >23739753</td>\n",
       "      <td id=\"T_0c14a_row72_col17\" class=\"data row72 col17\" >1585.906250</td>\n",
       "      <td id=\"T_0c14a_row72_col18\" class=\"data row72 col18\" >76032.000000</td>\n",
       "      <td id=\"T_0c14a_row72_col19\" class=\"data row72 col19\" >11372891</td>\n",
       "      <td id=\"T_0c14a_row72_col20\" class=\"data row72 col20\" >0.009369</td>\n",
       "      <td id=\"T_0c14a_row72_col21\" class=\"data row72 col21\" >341967</td>\n",
       "      <td id=\"T_0c14a_row72_col22\" class=\"data row72 col22\" >6208</td>\n",
       "      <td id=\"T_0c14a_row72_col23\" class=\"data row72 col23\" >1319.265625</td>\n",
       "      <td id=\"T_0c14a_row72_col24\" class=\"data row72 col24\" >1350928</td>\n",
       "      <td id=\"T_0c14a_row72_col25\" class=\"data row72 col25\" >0</td>\n",
       "      <td id=\"T_0c14a_row72_col26\" class=\"data row72 col26\" >421.937500</td>\n",
       "      <td id=\"T_0c14a_row72_col27\" class=\"data row72 col27\" >432064</td>\n",
       "      <td id=\"T_0c14a_row72_col28\" class=\"data row72 col28\" >435764</td>\n",
       "      <td id=\"T_0c14a_row72_col29\" class=\"data row72 col29\" >0</td>\n",
       "      <td id=\"T_0c14a_row72_col30\" class=\"data row72 col30\" >132148</td>\n",
       "      <td id=\"T_0c14a_row72_col31\" class=\"data row72 col31\" >[]</td>\n",
       "      <td id=\"T_0c14a_row72_col32\" class=\"data row72 col32\" >2023-02-05T21:03:54</td>\n",
       "      <td id=\"T_0c14a_row72_col33\" class=\"data row72 col33\" >['susbrock', 'model_DB', 'w77speon']</td>\n",
       "      <td id=\"T_0c14a_row72_col34\" class=\"data row72 col34\" >None</td>\n",
       "      <td id=\"T_0c14a_row72_col35\" class=\"data row72 col35\" >0.000000</td>\n",
       "      <td id=\"T_0c14a_row72_col36\" class=\"data row72 col36\" >74.250000</td>\n",
       "      <td id=\"T_0c14a_row72_col37\" class=\"data row72 col37\" >421.937500</td>\n",
       "      <td id=\"T_0c14a_row72_col38\" class=\"data row72 col38\" >129.050781</td>\n",
       "    </tr>\n",
       "    <tr>\n",
       "      <th id=\"T_0c14a_level0_row73\" class=\"row_heading level0 row73\" >73</th>\n",
       "      <td id=\"T_0c14a_row73_col0\" class=\"data row73 col0\" >hv72fne6</td>\n",
       "      <td id=\"T_0c14a_row73_col1\" class=\"data row73 col1\" >mobilenetv1_0.35_96_c3_o2_l2</td>\n",
       "      <td id=\"T_0c14a_row73_col2\" class=\"data row73 col2\" >finished</td>\n",
       "      <td id=\"T_0c14a_row73_col3\" class=\"data row73 col3\" >10.161 M</td>\n",
       "      <td id=\"T_0c14a_row73_col4\" class=\"data row73 col4\" ><a target=\"_blank\" href=\"https://wandb.ai/susbrock/model_DB/runs/hv72fne6\">https://wandb.ai/susbrock/model_DB/runs/hv72fne6</a></td>\n",
       "      <td id=\"T_0c14a_row73_col5\" class=\"data row73 col5\" >mobilenetv1_0.35_96_c3_o2_l2</td>\n",
       "      <td id=\"T_0c14a_row73_col6\" class=\"data row73 col6\" >21.168 M</td>\n",
       "      <td id=\"T_0c14a_row73_col7\" class=\"data row73 col7\" >0.35</td>\n",
       "      <td id=\"T_0c14a_row73_col8\" class=\"data row73 col8\" >2</td>\n",
       "      <td id=\"T_0c14a_row73_col9\" class=\"data row73 col9\" >96</td>\n",
       "      <td id=\"T_0c14a_row73_col10\" class=\"data row73 col10\" >21167545</td>\n",
       "      <td id=\"T_0c14a_row73_col11\" class=\"data row73 col11\" >3</td>\n",
       "      <td id=\"T_0c14a_row73_col12\" class=\"data row73 col12\" >10161419</td>\n",
       "      <td id=\"T_0c14a_row73_col13\" class=\"data row73 col13\" >l2</td>\n",
       "      <td id=\"T_0c14a_row73_col14\" class=\"data row73 col14\" >0.008584</td>\n",
       "      <td id=\"T_0c14a_row73_col15\" class=\"data row73 col15\" >312733</td>\n",
       "      <td id=\"T_0c14a_row73_col16\" class=\"data row73 col16\" >21278145</td>\n",
       "      <td id=\"T_0c14a_row73_col17\" class=\"data row73 col17\" >1430.019531</td>\n",
       "      <td id=\"T_0c14a_row73_col18\" class=\"data row73 col18\" >76032.000000</td>\n",
       "      <td id=\"T_0c14a_row73_col19\" class=\"data row73 col19\" >10161419</td>\n",
       "      <td id=\"T_0c14a_row73_col20\" class=\"data row73 col20\" >0.008784</td>\n",
       "      <td id=\"T_0c14a_row73_col21\" class=\"data row73 col21\" >307241</td>\n",
       "      <td id=\"T_0c14a_row73_col22\" class=\"data row73 col22\" >5492</td>\n",
       "      <td id=\"T_0c14a_row73_col23\" class=\"data row73 col23\" >1186.558594</td>\n",
       "      <td id=\"T_0c14a_row73_col24\" class=\"data row73 col24\" >1215036</td>\n",
       "      <td id=\"T_0c14a_row73_col25\" class=\"data row73 col25\" >0</td>\n",
       "      <td id=\"T_0c14a_row73_col26\" class=\"data row73 col26\" >379.031250</td>\n",
       "      <td id=\"T_0c14a_row73_col27\" class=\"data row73 col27\" >388128</td>\n",
       "      <td id=\"T_0c14a_row73_col28\" class=\"data row73 col28\" >432548</td>\n",
       "      <td id=\"T_0c14a_row73_col29\" class=\"data row73 col29\" >0</td>\n",
       "      <td id=\"T_0c14a_row73_col30\" class=\"data row73 col30\" >128836</td>\n",
       "      <td id=\"T_0c14a_row73_col31\" class=\"data row73 col31\" >[]</td>\n",
       "      <td id=\"T_0c14a_row73_col32\" class=\"data row73 col32\" >2023-02-05T21:02:31</td>\n",
       "      <td id=\"T_0c14a_row73_col33\" class=\"data row73 col33\" >['susbrock', 'model_DB', 'hv72fne6']</td>\n",
       "      <td id=\"T_0c14a_row73_col34\" class=\"data row73 col34\" >None</td>\n",
       "      <td id=\"T_0c14a_row73_col35\" class=\"data row73 col35\" >0.000000</td>\n",
       "      <td id=\"T_0c14a_row73_col36\" class=\"data row73 col36\" >74.250000</td>\n",
       "      <td id=\"T_0c14a_row73_col37\" class=\"data row73 col37\" >379.031250</td>\n",
       "      <td id=\"T_0c14a_row73_col38\" class=\"data row73 col38\" >125.816406</td>\n",
       "    </tr>\n",
       "    <tr>\n",
       "      <th id=\"T_0c14a_level0_row74\" class=\"row_heading level0 row74\" >74</th>\n",
       "      <td id=\"T_0c14a_row74_col0\" class=\"data row74 col0\" >pnq7ad7c</td>\n",
       "      <td id=\"T_0c14a_row74_col1\" class=\"data row74 col1\" >mobilenetv1_0.35_96_c3_o2_l1</td>\n",
       "      <td id=\"T_0c14a_row74_col2\" class=\"data row74 col2\" >finished</td>\n",
       "      <td id=\"T_0c14a_row74_col3\" class=\"data row74 col3\" >8.950 M</td>\n",
       "      <td id=\"T_0c14a_row74_col4\" class=\"data row74 col4\" ><a target=\"_blank\" href=\"https://wandb.ai/susbrock/model_DB/runs/pnq7ad7c\">https://wandb.ai/susbrock/model_DB/runs/pnq7ad7c</a></td>\n",
       "      <td id=\"T_0c14a_row74_col5\" class=\"data row74 col5\" >mobilenetv1_0.35_96_c3_o2_l1</td>\n",
       "      <td id=\"T_0c14a_row74_col6\" class=\"data row74 col6\" >18.706 M</td>\n",
       "      <td id=\"T_0c14a_row74_col7\" class=\"data row74 col7\" >0.35</td>\n",
       "      <td id=\"T_0c14a_row74_col8\" class=\"data row74 col8\" >2</td>\n",
       "      <td id=\"T_0c14a_row74_col9\" class=\"data row74 col9\" >96</td>\n",
       "      <td id=\"T_0c14a_row74_col10\" class=\"data row74 col10\" >18705937</td>\n",
       "      <td id=\"T_0c14a_row74_col11\" class=\"data row74 col11\" >3</td>\n",
       "      <td id=\"T_0c14a_row74_col12\" class=\"data row74 col12\" >8949947</td>\n",
       "      <td id=\"T_0c14a_row74_col13\" class=\"data row74 col13\" >l1</td>\n",
       "      <td id=\"T_0c14a_row74_col14\" class=\"data row74 col14\" >0.007999</td>\n",
       "      <td id=\"T_0c14a_row74_col15\" class=\"data row74 col15\" >277291</td>\n",
       "      <td id=\"T_0c14a_row74_col16\" class=\"data row74 col16\" >18816537</td>\n",
       "      <td id=\"T_0c14a_row74_col17\" class=\"data row74 col17\" >1291.246094</td>\n",
       "      <td id=\"T_0c14a_row74_col18\" class=\"data row74 col18\" >76032.000000</td>\n",
       "      <td id=\"T_0c14a_row74_col19\" class=\"data row74 col19\" >8949947</td>\n",
       "      <td id=\"T_0c14a_row74_col20\" class=\"data row74 col20\" >0.008198</td>\n",
       "      <td id=\"T_0c14a_row74_col21\" class=\"data row74 col21\" >272515</td>\n",
       "      <td id=\"T_0c14a_row74_col22\" class=\"data row74 col22\" >4776</td>\n",
       "      <td id=\"T_0c14a_row74_col23\" class=\"data row74 col23\" >1053.855469</td>\n",
       "      <td id=\"T_0c14a_row74_col24\" class=\"data row74 col24\" >1079148</td>\n",
       "      <td id=\"T_0c14a_row74_col25\" class=\"data row74 col25\" >0</td>\n",
       "      <td id=\"T_0c14a_row74_col26\" class=\"data row74 col26\" >336.125000</td>\n",
       "      <td id=\"T_0c14a_row74_col27\" class=\"data row74 col27\" >344192</td>\n",
       "      <td id=\"T_0c14a_row74_col28\" class=\"data row74 col28\" >429332</td>\n",
       "      <td id=\"T_0c14a_row74_col29\" class=\"data row74 col29\" >0</td>\n",
       "      <td id=\"T_0c14a_row74_col30\" class=\"data row74 col30\" >125652</td>\n",
       "      <td id=\"T_0c14a_row74_col31\" class=\"data row74 col31\" >[]</td>\n",
       "      <td id=\"T_0c14a_row74_col32\" class=\"data row74 col32\" >2023-02-05T21:01:06</td>\n",
       "      <td id=\"T_0c14a_row74_col33\" class=\"data row74 col33\" >['susbrock', 'model_DB', 'pnq7ad7c']</td>\n",
       "      <td id=\"T_0c14a_row74_col34\" class=\"data row74 col34\" >None</td>\n",
       "      <td id=\"T_0c14a_row74_col35\" class=\"data row74 col35\" >0.000000</td>\n",
       "      <td id=\"T_0c14a_row74_col36\" class=\"data row74 col36\" >74.250000</td>\n",
       "      <td id=\"T_0c14a_row74_col37\" class=\"data row74 col37\" >336.125000</td>\n",
       "      <td id=\"T_0c14a_row74_col38\" class=\"data row74 col38\" >122.707031</td>\n",
       "    </tr>\n",
       "    <tr>\n",
       "      <th id=\"T_0c14a_level0_row75\" class=\"row_heading level0 row75\" >75</th>\n",
       "      <td id=\"T_0c14a_row75_col0\" class=\"data row75 col0\" >i4nnlhl8</td>\n",
       "      <td id=\"T_0c14a_row75_col1\" class=\"data row75 col1\" >mobilenetv1_0.25_96_c3_o2_l5</td>\n",
       "      <td id=\"T_0c14a_row75_col2\" class=\"data row75 col2\" >finished</td>\n",
       "      <td id=\"T_0c14a_row75_col3\" class=\"data row75 col3\" >7.490 M</td>\n",
       "      <td id=\"T_0c14a_row75_col4\" class=\"data row75 col4\" ><a target=\"_blank\" href=\"https://wandb.ai/susbrock/model_DB/runs/i4nnlhl8\">https://wandb.ai/susbrock/model_DB/runs/i4nnlhl8</a></td>\n",
       "      <td id=\"T_0c14a_row75_col5\" class=\"data row75 col5\" >mobilenetv1_0.25_96_c3_o2_l5</td>\n",
       "      <td id=\"T_0c14a_row75_col6\" class=\"data row75 col6\" >15.674 M</td>\n",
       "      <td id=\"T_0c14a_row75_col7\" class=\"data row75 col7\" >0.25</td>\n",
       "      <td id=\"T_0c14a_row75_col8\" class=\"data row75 col8\" >2</td>\n",
       "      <td id=\"T_0c14a_row75_col9\" class=\"data row75 col9\" >96</td>\n",
       "      <td id=\"T_0c14a_row75_col10\" class=\"data row75 col10\" >15673996</td>\n",
       "      <td id=\"T_0c14a_row75_col11\" class=\"data row75 col11\" >3</td>\n",
       "      <td id=\"T_0c14a_row75_col12\" class=\"data row75 col12\" >7489664</td>\n",
       "      <td id=\"T_0c14a_row75_col13\" class=\"data row75 col13\" >l5</td>\n",
       "      <td id=\"T_0c14a_row75_col14\" class=\"data row75 col14\" >0.005974</td>\n",
       "      <td id=\"T_0c14a_row75_col15\" class=\"data row75 col15\" >221794</td>\n",
       "      <td id=\"T_0c14a_row75_col16\" class=\"data row75 col16\" >15784596</td>\n",
       "      <td id=\"T_0c14a_row75_col17\" class=\"data row75 col17\" >1123.593750</td>\n",
       "      <td id=\"T_0c14a_row75_col18\" class=\"data row75 col18\" >55296.000000</td>\n",
       "      <td id=\"T_0c14a_row75_col19\" class=\"data row75 col19\" >7489664</td>\n",
       "      <td id=\"T_0c14a_row75_col20\" class=\"data row75 col20\" >0.006173</td>\n",
       "      <td id=\"T_0c14a_row75_col21\" class=\"data row75 col21\" >216322</td>\n",
       "      <td id=\"T_0c14a_row75_col22\" class=\"data row75 col22\" >5472</td>\n",
       "      <td id=\"T_0c14a_row75_col23\" class=\"data row75 col23\" >834.507812</td>\n",
       "      <td id=\"T_0c14a_row75_col24\" class=\"data row75 col24\" >854536</td>\n",
       "      <td id=\"T_0c14a_row75_col25\" class=\"data row75 col25\" >0</td>\n",
       "      <td id=\"T_0c14a_row75_col26\" class=\"data row75 col26\" >294.171875</td>\n",
       "      <td id=\"T_0c14a_row75_col27\" class=\"data row75 col27\" >301232</td>\n",
       "      <td id=\"T_0c14a_row75_col28\" class=\"data row75 col28\" >322644</td>\n",
       "      <td id=\"T_0c14a_row75_col29\" class=\"data row75 col29\" >0</td>\n",
       "      <td id=\"T_0c14a_row75_col30\" class=\"data row75 col30\" >101956</td>\n",
       "      <td id=\"T_0c14a_row75_col31\" class=\"data row75 col31\" >[]</td>\n",
       "      <td id=\"T_0c14a_row75_col32\" class=\"data row75 col32\" >2023-02-05T20:59:40</td>\n",
       "      <td id=\"T_0c14a_row75_col33\" class=\"data row75 col33\" >['susbrock', 'model_DB', 'i4nnlhl8']</td>\n",
       "      <td id=\"T_0c14a_row75_col34\" class=\"data row75 col34\" >None</td>\n",
       "      <td id=\"T_0c14a_row75_col35\" class=\"data row75 col35\" >0.000000</td>\n",
       "      <td id=\"T_0c14a_row75_col36\" class=\"data row75 col36\" >54.000000</td>\n",
       "      <td id=\"T_0c14a_row75_col37\" class=\"data row75 col37\" >294.171875</td>\n",
       "      <td id=\"T_0c14a_row75_col38\" class=\"data row75 col38\" >99.566406</td>\n",
       "    </tr>\n",
       "    <tr>\n",
       "      <th id=\"T_0c14a_level0_row76\" class=\"row_heading level0 row76\" >76</th>\n",
       "      <td id=\"T_0c14a_row76_col0\" class=\"data row76 col0\" >ylfo6y2p</td>\n",
       "      <td id=\"T_0c14a_row76_col1\" class=\"data row76 col1\" >mobilenetv1_0.25_96_c3_o2_l4</td>\n",
       "      <td id=\"T_0c14a_row76_col2\" class=\"data row76 col2\" >finished</td>\n",
       "      <td id=\"T_0c14a_row76_col3\" class=\"data row76 col3\" >6.858 M</td>\n",
       "      <td id=\"T_0c14a_row76_col4\" class=\"data row76 col4\" ><a target=\"_blank\" href=\"https://wandb.ai/susbrock/model_DB/runs/ylfo6y2p\">https://wandb.ai/susbrock/model_DB/runs/ylfo6y2p</a></td>\n",
       "      <td id=\"T_0c14a_row76_col5\" class=\"data row76 col5\" >mobilenetv1_0.25_96_c3_o2_l4</td>\n",
       "      <td id=\"T_0c14a_row76_col6\" class=\"data row76 col6\" >14.384 M</td>\n",
       "      <td id=\"T_0c14a_row76_col7\" class=\"data row76 col7\" >0.25</td>\n",
       "      <td id=\"T_0c14a_row76_col8\" class=\"data row76 col8\" >2</td>\n",
       "      <td id=\"T_0c14a_row76_col9\" class=\"data row76 col9\" >96</td>\n",
       "      <td id=\"T_0c14a_row76_col10\" class=\"data row76 col10\" >14383756</td>\n",
       "      <td id=\"T_0c14a_row76_col11\" class=\"data row76 col11\" >3</td>\n",
       "      <td id=\"T_0c14a_row76_col12\" class=\"data row76 col12\" >6858368</td>\n",
       "      <td id=\"T_0c14a_row76_col13\" class=\"data row76 col13\" >l4</td>\n",
       "      <td id=\"T_0c14a_row76_col14\" class=\"data row76 col14\" >0.005664</td>\n",
       "      <td id=\"T_0c14a_row76_col15\" class=\"data row76 col15\" >202978</td>\n",
       "      <td id=\"T_0c14a_row76_col16\" class=\"data row76 col16\" >14494356</td>\n",
       "      <td id=\"T_0c14a_row76_col17\" class=\"data row76 col17\" >1034.257812</td>\n",
       "      <td id=\"T_0c14a_row76_col18\" class=\"data row76 col18\" >55296.000000</td>\n",
       "      <td id=\"T_0c14a_row76_col19\" class=\"data row76 col19\" >6858368</td>\n",
       "      <td id=\"T_0c14a_row76_col20\" class=\"data row76 col20\" >0.005863</td>\n",
       "      <td id=\"T_0c14a_row76_col21\" class=\"data row76 col21\" >198018</td>\n",
       "      <td id=\"T_0c14a_row76_col22\" class=\"data row76 col22\" >4960</td>\n",
       "      <td id=\"T_0c14a_row76_col23\" class=\"data row76 col23\" >764.753906</td>\n",
       "      <td id=\"T_0c14a_row76_col24\" class=\"data row76 col24\" >783108</td>\n",
       "      <td id=\"T_0c14a_row76_col25\" class=\"data row76 col25\" >0</td>\n",
       "      <td id=\"T_0c14a_row76_col26\" class=\"data row76 col26\" >269.382812</td>\n",
       "      <td id=\"T_0c14a_row76_col27\" class=\"data row76 col27\" >275848</td>\n",
       "      <td id=\"T_0c14a_row76_col28\" class=\"data row76 col28\" >320196</td>\n",
       "      <td id=\"T_0c14a_row76_col29\" class=\"data row76 col29\" >0</td>\n",
       "      <td id=\"T_0c14a_row76_col30\" class=\"data row76 col30\" >99536</td>\n",
       "      <td id=\"T_0c14a_row76_col31\" class=\"data row76 col31\" >[]</td>\n",
       "      <td id=\"T_0c14a_row76_col32\" class=\"data row76 col32\" >2023-02-05T20:58:11</td>\n",
       "      <td id=\"T_0c14a_row76_col33\" class=\"data row76 col33\" >['susbrock', 'model_DB', 'ylfo6y2p']</td>\n",
       "      <td id=\"T_0c14a_row76_col34\" class=\"data row76 col34\" >None</td>\n",
       "      <td id=\"T_0c14a_row76_col35\" class=\"data row76 col35\" >0.000000</td>\n",
       "      <td id=\"T_0c14a_row76_col36\" class=\"data row76 col36\" >54.000000</td>\n",
       "      <td id=\"T_0c14a_row76_col37\" class=\"data row76 col37\" >269.382812</td>\n",
       "      <td id=\"T_0c14a_row76_col38\" class=\"data row76 col38\" >97.203125</td>\n",
       "    </tr>\n",
       "    <tr>\n",
       "      <th id=\"T_0c14a_level0_row77\" class=\"row_heading level0 row77\" >77</th>\n",
       "      <td id=\"T_0c14a_row77_col0\" class=\"data row77 col0\" >e21czk6m</td>\n",
       "      <td id=\"T_0c14a_row77_col1\" class=\"data row77 col1\" >mobilenetv1_0.25_96_c3_o2_l3</td>\n",
       "      <td id=\"T_0c14a_row77_col2\" class=\"data row77 col2\" >finished</td>\n",
       "      <td id=\"T_0c14a_row77_col3\" class=\"data row77 col3\" >6.227 M</td>\n",
       "      <td id=\"T_0c14a_row77_col4\" class=\"data row77 col4\" ><a target=\"_blank\" href=\"https://wandb.ai/susbrock/model_DB/runs/e21czk6m\">https://wandb.ai/susbrock/model_DB/runs/e21czk6m</a></td>\n",
       "      <td id=\"T_0c14a_row77_col5\" class=\"data row77 col5\" >mobilenetv1_0.25_96_c3_o2_l3</td>\n",
       "      <td id=\"T_0c14a_row77_col6\" class=\"data row77 col6\" >13.094 M</td>\n",
       "      <td id=\"T_0c14a_row77_col7\" class=\"data row77 col7\" >0.25</td>\n",
       "      <td id=\"T_0c14a_row77_col8\" class=\"data row77 col8\" >2</td>\n",
       "      <td id=\"T_0c14a_row77_col9\" class=\"data row77 col9\" >96</td>\n",
       "      <td id=\"T_0c14a_row77_col10\" class=\"data row77 col10\" >13093516</td>\n",
       "      <td id=\"T_0c14a_row77_col11\" class=\"data row77 col11\" >3</td>\n",
       "      <td id=\"T_0c14a_row77_col12\" class=\"data row77 col12\" >6227072</td>\n",
       "      <td id=\"T_0c14a_row77_col13\" class=\"data row77 col13\" >l3</td>\n",
       "      <td id=\"T_0c14a_row77_col14\" class=\"data row77 col14\" >0.005353</td>\n",
       "      <td id=\"T_0c14a_row77_col15\" class=\"data row77 col15\" >184162</td>\n",
       "      <td id=\"T_0c14a_row77_col16\" class=\"data row77 col16\" >13204116</td>\n",
       "      <td id=\"T_0c14a_row77_col17\" class=\"data row77 col17\" >941.195312</td>\n",
       "      <td id=\"T_0c14a_row77_col18\" class=\"data row77 col18\" >55296.000000</td>\n",
       "      <td id=\"T_0c14a_row77_col19\" class=\"data row77 col19\" >6227072</td>\n",
       "      <td id=\"T_0c14a_row77_col20\" class=\"data row77 col20\" >0.005552</td>\n",
       "      <td id=\"T_0c14a_row77_col21\" class=\"data row77 col21\" >179714</td>\n",
       "      <td id=\"T_0c14a_row77_col22\" class=\"data row77 col22\" >4448</td>\n",
       "      <td id=\"T_0c14a_row77_col23\" class=\"data row77 col23\" >695.000000</td>\n",
       "      <td id=\"T_0c14a_row77_col24\" class=\"data row77 col24\" >711680</td>\n",
       "      <td id=\"T_0c14a_row77_col25\" class=\"data row77 col25\" >0</td>\n",
       "      <td id=\"T_0c14a_row77_col26\" class=\"data row77 col26\" >244.601562</td>\n",
       "      <td id=\"T_0c14a_row77_col27\" class=\"data row77 col27\" >250472</td>\n",
       "      <td id=\"T_0c14a_row77_col28\" class=\"data row77 col28\" >317876</td>\n",
       "      <td id=\"T_0c14a_row77_col29\" class=\"data row77 col29\" >0</td>\n",
       "      <td id=\"T_0c14a_row77_col30\" class=\"data row77 col30\" >97116</td>\n",
       "      <td id=\"T_0c14a_row77_col31\" class=\"data row77 col31\" >[]</td>\n",
       "      <td id=\"T_0c14a_row77_col32\" class=\"data row77 col32\" >2023-02-05T20:56:41</td>\n",
       "      <td id=\"T_0c14a_row77_col33\" class=\"data row77 col33\" >['susbrock', 'model_DB', 'e21czk6m']</td>\n",
       "      <td id=\"T_0c14a_row77_col34\" class=\"data row77 col34\" >None</td>\n",
       "      <td id=\"T_0c14a_row77_col35\" class=\"data row77 col35\" >0.825778</td>\n",
       "      <td id=\"T_0c14a_row77_col36\" class=\"data row77 col36\" >54.000000</td>\n",
       "      <td id=\"T_0c14a_row77_col37\" class=\"data row77 col37\" >244.601562</td>\n",
       "      <td id=\"T_0c14a_row77_col38\" class=\"data row77 col38\" >94.839844</td>\n",
       "    </tr>\n",
       "    <tr>\n",
       "      <th id=\"T_0c14a_level0_row78\" class=\"row_heading level0 row78\" >78</th>\n",
       "      <td id=\"T_0c14a_row78_col0\" class=\"data row78 col0\" >b8s1tewx</td>\n",
       "      <td id=\"T_0c14a_row78_col1\" class=\"data row78 col1\" >mobilenetv1_0.25_96_c3_o2_l2</td>\n",
       "      <td id=\"T_0c14a_row78_col2\" class=\"data row78 col2\" >finished</td>\n",
       "      <td id=\"T_0c14a_row78_col3\" class=\"data row78 col3\" >5.596 M</td>\n",
       "      <td id=\"T_0c14a_row78_col4\" class=\"data row78 col4\" ><a target=\"_blank\" href=\"https://wandb.ai/susbrock/model_DB/runs/b8s1tewx\">https://wandb.ai/susbrock/model_DB/runs/b8s1tewx</a></td>\n",
       "      <td id=\"T_0c14a_row78_col5\" class=\"data row78 col5\" >mobilenetv1_0.25_96_c3_o2_l2</td>\n",
       "      <td id=\"T_0c14a_row78_col6\" class=\"data row78 col6\" >11.803 M</td>\n",
       "      <td id=\"T_0c14a_row78_col7\" class=\"data row78 col7\" >0.25</td>\n",
       "      <td id=\"T_0c14a_row78_col8\" class=\"data row78 col8\" >2</td>\n",
       "      <td id=\"T_0c14a_row78_col9\" class=\"data row78 col9\" >96</td>\n",
       "      <td id=\"T_0c14a_row78_col10\" class=\"data row78 col10\" >11803276</td>\n",
       "      <td id=\"T_0c14a_row78_col11\" class=\"data row78 col11\" >3</td>\n",
       "      <td id=\"T_0c14a_row78_col12\" class=\"data row78 col12\" >5595776</td>\n",
       "      <td id=\"T_0c14a_row78_col13\" class=\"data row78 col13\" >l2</td>\n",
       "      <td id=\"T_0c14a_row78_col14\" class=\"data row78 col14\" >0.005042</td>\n",
       "      <td id=\"T_0c14a_row78_col15\" class=\"data row78 col15\" >165346</td>\n",
       "      <td id=\"T_0c14a_row78_col16\" class=\"data row78 col16\" >11913876</td>\n",
       "      <td id=\"T_0c14a_row78_col17\" class=\"data row78 col17\" >850.914062</td>\n",
       "      <td id=\"T_0c14a_row78_col18\" class=\"data row78 col18\" >55296.000000</td>\n",
       "      <td id=\"T_0c14a_row78_col19\" class=\"data row78 col19\" >5595776</td>\n",
       "      <td id=\"T_0c14a_row78_col20\" class=\"data row78 col20\" >0.005242</td>\n",
       "      <td id=\"T_0c14a_row78_col21\" class=\"data row78 col21\" >161410</td>\n",
       "      <td id=\"T_0c14a_row78_col22\" class=\"data row78 col22\" >3936</td>\n",
       "      <td id=\"T_0c14a_row78_col23\" class=\"data row78 col23\" >625.246094</td>\n",
       "      <td id=\"T_0c14a_row78_col24\" class=\"data row78 col24\" >640252</td>\n",
       "      <td id=\"T_0c14a_row78_col25\" class=\"data row78 col25\" >0</td>\n",
       "      <td id=\"T_0c14a_row78_col26\" class=\"data row78 col26\" >219.835938</td>\n",
       "      <td id=\"T_0c14a_row78_col27\" class=\"data row78 col27\" >225112</td>\n",
       "      <td id=\"T_0c14a_row78_col28\" class=\"data row78 col28\" >315428</td>\n",
       "      <td id=\"T_0c14a_row78_col29\" class=\"data row78 col29\" >0</td>\n",
       "      <td id=\"T_0c14a_row78_col30\" class=\"data row78 col30\" >94696</td>\n",
       "      <td id=\"T_0c14a_row78_col31\" class=\"data row78 col31\" >[]</td>\n",
       "      <td id=\"T_0c14a_row78_col32\" class=\"data row78 col32\" >2023-02-05T20:55:13</td>\n",
       "      <td id=\"T_0c14a_row78_col33\" class=\"data row78 col33\" >['susbrock', 'model_DB', 'b8s1tewx']</td>\n",
       "      <td id=\"T_0c14a_row78_col34\" class=\"data row78 col34\" >None</td>\n",
       "      <td id=\"T_0c14a_row78_col35\" class=\"data row78 col35\" >0.000000</td>\n",
       "      <td id=\"T_0c14a_row78_col36\" class=\"data row78 col36\" >54.000000</td>\n",
       "      <td id=\"T_0c14a_row78_col37\" class=\"data row78 col37\" >219.835938</td>\n",
       "      <td id=\"T_0c14a_row78_col38\" class=\"data row78 col38\" >92.476562</td>\n",
       "    </tr>\n",
       "    <tr>\n",
       "      <th id=\"T_0c14a_level0_row79\" class=\"row_heading level0 row79\" >79</th>\n",
       "      <td id=\"T_0c14a_row79_col0\" class=\"data row79 col0\" >ftt6trut</td>\n",
       "      <td id=\"T_0c14a_row79_col1\" class=\"data row79 col1\" >mobilenetv1_0.25_96_c3_o2_l1</td>\n",
       "      <td id=\"T_0c14a_row79_col2\" class=\"data row79 col2\" >finished</td>\n",
       "      <td id=\"T_0c14a_row79_col3\" class=\"data row79 col3\" >4.964 M</td>\n",
       "      <td id=\"T_0c14a_row79_col4\" class=\"data row79 col4\" ><a target=\"_blank\" href=\"https://wandb.ai/susbrock/model_DB/runs/ftt6trut\">https://wandb.ai/susbrock/model_DB/runs/ftt6trut</a></td>\n",
       "      <td id=\"T_0c14a_row79_col5\" class=\"data row79 col5\" >mobilenetv1_0.25_96_c3_o2_l1</td>\n",
       "      <td id=\"T_0c14a_row79_col6\" class=\"data row79 col6\" >10.513 M</td>\n",
       "      <td id=\"T_0c14a_row79_col7\" class=\"data row79 col7\" >0.25</td>\n",
       "      <td id=\"T_0c14a_row79_col8\" class=\"data row79 col8\" >2</td>\n",
       "      <td id=\"T_0c14a_row79_col9\" class=\"data row79 col9\" >96</td>\n",
       "      <td id=\"T_0c14a_row79_col10\" class=\"data row79 col10\" >10513036</td>\n",
       "      <td id=\"T_0c14a_row79_col11\" class=\"data row79 col11\" >3</td>\n",
       "      <td id=\"T_0c14a_row79_col12\" class=\"data row79 col12\" >4964480</td>\n",
       "      <td id=\"T_0c14a_row79_col13\" class=\"data row79 col13\" >l1</td>\n",
       "      <td id=\"T_0c14a_row79_col14\" class=\"data row79 col14\" >0.004732</td>\n",
       "      <td id=\"T_0c14a_row79_col15\" class=\"data row79 col15\" >146530</td>\n",
       "      <td id=\"T_0c14a_row79_col16\" class=\"data row79 col16\" >10623636</td>\n",
       "      <td id=\"T_0c14a_row79_col17\" class=\"data row79 col17\" >778.328125</td>\n",
       "      <td id=\"T_0c14a_row79_col18\" class=\"data row79 col18\" >55296.000000</td>\n",
       "      <td id=\"T_0c14a_row79_col19\" class=\"data row79 col19\" >4964480</td>\n",
       "      <td id=\"T_0c14a_row79_col20\" class=\"data row79 col20\" >0.004931</td>\n",
       "      <td id=\"T_0c14a_row79_col21\" class=\"data row79 col21\" >143106</td>\n",
       "      <td id=\"T_0c14a_row79_col22\" class=\"data row79 col22\" >3424</td>\n",
       "      <td id=\"T_0c14a_row79_col23\" class=\"data row79 col23\" >555.496094</td>\n",
       "      <td id=\"T_0c14a_row79_col24\" class=\"data row79 col24\" >568828</td>\n",
       "      <td id=\"T_0c14a_row79_col25\" class=\"data row79 col25\" >0</td>\n",
       "      <td id=\"T_0c14a_row79_col26\" class=\"data row79 col26\" >195.070312</td>\n",
       "      <td id=\"T_0c14a_row79_col27\" class=\"data row79 col27\" >199752</td>\n",
       "      <td id=\"T_0c14a_row79_col28\" class=\"data row79 col28\" >313108</td>\n",
       "      <td id=\"T_0c14a_row79_col29\" class=\"data row79 col29\" >0</td>\n",
       "      <td id=\"T_0c14a_row79_col30\" class=\"data row79 col30\" >92276</td>\n",
       "      <td id=\"T_0c14a_row79_col31\" class=\"data row79 col31\" >[]</td>\n",
       "      <td id=\"T_0c14a_row79_col32\" class=\"data row79 col32\" >2023-02-05T20:53:36</td>\n",
       "      <td id=\"T_0c14a_row79_col33\" class=\"data row79 col33\" >['susbrock', 'model_DB', 'ftt6trut']</td>\n",
       "      <td id=\"T_0c14a_row79_col34\" class=\"data row79 col34\" >None</td>\n",
       "      <td id=\"T_0c14a_row79_col35\" class=\"data row79 col35\" >0.000000</td>\n",
       "      <td id=\"T_0c14a_row79_col36\" class=\"data row79 col36\" >54.000000</td>\n",
       "      <td id=\"T_0c14a_row79_col37\" class=\"data row79 col37\" >195.070312</td>\n",
       "      <td id=\"T_0c14a_row79_col38\" class=\"data row79 col38\" >90.113281</td>\n",
       "    </tr>\n",
       "  </tbody>\n",
       "</table>\n"
      ],
      "text/plain": [
       "<pandas.io.formats.style.Styler at 0x28060f17340>"
      ]
     },
     "execution_count": 109,
     "metadata": {},
     "output_type": "execute_result"
    }
   ],
   "source": [
    "df[\"peak_memory_kb\"] = df[\"peak_memory_b\"]/1024.0\n",
    "df[\"flash_model_size_kb_INT8_mltk\"] = df[\"flash_model_size_b__INT8_mltk\"]/1024.0\n",
    "df[\"RAM_runtime_memory_size_kb_INT8_mltk\"] = df[\"RAM_runtime_memory_size_b_INT8_mltk\"]/1024.0\n",
    "df[\"alpha\"] = df[\"alpha\"].astype(str)\n",
    "df.test_accuracy.fillna(0, inplace=True)\n",
    "df['test_accuracy'] = df['test_accuracy'].replace(\"NaN\", 0)\n",
    "df.style.format({'url': make_clickable}).applymap(color_state, subset=[\"state\"])"
   ]
  },
  {
   "cell_type": "code",
   "execution_count": 36,
   "metadata": {},
   "outputs": [
    {
     "data": {
      "text/plain": [
       "<bound method IndexOpsMixin.value_counts of 0     0.000000\n",
       "1     0.000000\n",
       "2     0.832163\n",
       "3     0.000000\n",
       "4     0.000000\n",
       "5     0.836906\n",
       "6     0.000000\n",
       "7     0.815744\n",
       "8     0.814301\n",
       "9     0.805984\n",
       "10    0.000000\n",
       "11    0.000000\n",
       "12    0.000000\n",
       "13    0.000000\n",
       "14    0.000000\n",
       "15    0.000000\n",
       "16    0.000000\n",
       "17    0.000000\n",
       "18    0.748791\n",
       "19    0.763021\n",
       "20    0.000000\n",
       "21    0.000000\n",
       "22    0.000000\n",
       "23    0.000000\n",
       "24    0.000000\n",
       "25    0.000000\n",
       "26    0.000000\n",
       "27    0.833440\n",
       "28    0.833531\n",
       "29    0.000000\n",
       "30    0.000000\n",
       "31    0.836906\n",
       "32    0.872936\n",
       "33    0.000000\n",
       "34    0.000000\n",
       "35    0.799872\n",
       "36    0.000000\n",
       "37    0.771231\n",
       "38    0.833531\n",
       "39    0.851865\n",
       "40    0.851136\n",
       "41    0.000000\n",
       "42    0.828697\n",
       "43    0.000000\n",
       "44    0.812825\n",
       "45    0.000000\n",
       "46    0.000000\n",
       "47    0.000000\n",
       "48    0.000000\n",
       "49    0.000000\n",
       "50    0.000000\n",
       "51    0.850771\n",
       "52    0.838913\n",
       "53    0.801879\n",
       "54    0.000000\n",
       "55    0.000000\n",
       "56    0.000000\n",
       "57    0.000000\n",
       "58    0.000000\n",
       "59    0.000000\n",
       "60    0.000000\n",
       "61    0.000000\n",
       "62    0.000000\n",
       "63    0.000000\n",
       "64    0.000000\n",
       "65    0.000000\n",
       "66    0.000000\n",
       "67    0.000000\n",
       "68    0.000000\n",
       "69    0.000000\n",
       "70    0.000000\n",
       "71    0.000000\n",
       "72    0.000000\n",
       "73    0.000000\n",
       "74    0.000000\n",
       "75    0.000000\n",
       "76    0.000000\n",
       "77    0.825778\n",
       "78    0.000000\n",
       "79    0.000000\n",
       "Name: test_accuracy, dtype: float64>"
      ]
     },
     "execution_count": 36,
     "metadata": {},
     "output_type": "execute_result"
    }
   ],
   "source": [
    "df.test_accuracy.value_counts"
   ]
  },
  {
   "cell_type": "code",
   "execution_count": 110,
   "metadata": {},
   "outputs": [
    {
     "data": {
      "text/plain": [
       "Index(['id', 'run_name', 'state', 'MACs', 'url', 'architecture', 'FLOPs',\n",
       "       'alpha', 'classes', 'img_res', 'OPS_mltk', 'channels', 'macs_mltk',\n",
       "       'variation', 'energy_mltk', 'total_params', 'OPS_INT8_mltk',\n",
       "       'model_size_kb', 'peak_memory_b', 'macs_INT8_mltk', 'energy_INT8_mltk',\n",
       "       'trainable_params', 'non_trainable_params', 'tflite_model_size_kb',\n",
       "       'flash_model_size_b_mltk', 'n_unsupported_layers_mltk',\n",
       "       'tflite_model_INT8_size_kb', 'flash_model_size_b__INT8_mltk',\n",
       "       'RAM_runtime_memory_size_b_mltk', 'n_unsupported_layers_INT8_mltk',\n",
       "       'RAM_runtime_memory_size_b_INT8_mltk', 'tags', 'created_at', 'path',\n",
       "       'notes', 'test_accuracy', 'peak_memory_kb',\n",
       "       'flash_model_size_kb_INT8_mltk',\n",
       "       'RAM_runtime_memory_size_kb_INT8_mltk'],\n",
       "      dtype='object')"
      ]
     },
     "execution_count": 110,
     "metadata": {},
     "output_type": "execute_result"
    }
   ],
   "source": [
    "df.columns"
   ]
  },
  {
   "cell_type": "code",
   "execution_count": 111,
   "metadata": {},
   "outputs": [
    {
     "data": {
      "text/plain": [
       "mobilenetv2_0.25_96_c3_o2_t5l512.MV1       1\n",
       "mobilenetv2_0.25_96_c3_o2_t5l256.MV1       1\n",
       "mobilenetv2_0.35_96_c3_o2_l5               1\n",
       "mobilenetv2_0.5_96_c3_o2_l5                1\n",
       "mobilenetv2_0.2_96_c3_o2_l5                1\n",
       "mobilenetv2_0.1_96_c3_o2_l5                1\n",
       "mobilenetv1vvw_0.25_96_c3_o2_vvw           1\n",
       "mobilenetv1_0.1_96_c3_o2_l5.GAP            1\n",
       "shufflenetv1_0.25_96_c3_o2_g8              1\n",
       "shufflenetv1_0.25_96_c3_o2_g1              1\n",
       "mnasnet_1_96_c3_o2_keras                   1\n",
       "shufflenetv2_1_96_c3_o2_nosplit            1\n",
       "shufflenetv2_1_96_c3_o2_000                1\n",
       "shufflenetv2_0.5_96_c3_o2_000              1\n",
       "shufflenetv2tiny_0.5_96_c3_o2_f24l1024     1\n",
       "shufflenetv2tiny_0.35_96_c3_o2_f24l1024    1\n",
       "shufflenetv2tiny_0.25_96_c3_o2_f24l1024    1\n",
       "shufflenetv2tiny_0.2_96_c3_o2_f24l1024     1\n",
       "shufflenetv2tiny_0.1_96_c3_o2_f24l1024     1\n",
       "mobilenetv2_0.25_96_c3_o2_l5               1\n",
       "mobilenetv2_1_96_c3_o2_l5                  1\n",
       "mobilenetv2_1_96_c3_o2_keras               1\n",
       "mobilenetv1_0.35_96_c3_o2_l4               1\n",
       "mobilenetv1_0.25_96_c3_o2_l2               1\n",
       "mobilenetv1_0.25_96_c3_o2_l3               1\n",
       "mobilenetv1_0.25_96_c3_o2_l4               1\n",
       "mobilenetv1_0.25_96_c3_o2_l5               1\n",
       "mobilenetv1_0.35_96_c3_o2_l1               1\n",
       "mobilenetv1_0.35_96_c3_o2_l2               1\n",
       "mobilenetv1_0.35_96_c3_o2_l3               1\n",
       "mobilenetv1_0.35_96_c3_o2_l5               1\n",
       "mobilenetv2_0.5_96_c3_o2_keras             1\n",
       "mobilenetv1_1_96_c3_o2_l1                  1\n",
       "mobilenetv1_1_96_c3_o2_l2                  1\n",
       "mobilenetv1_1_96_c3_o2_l3                  1\n",
       "mobilenetv1_1_96_c3_o2_l4                  1\n",
       "mobilenetv1_1_96_c3_o2_l5                  1\n",
       "mobilenetv2_0.25_96_c3_o2_keras            1\n",
       "mobilenetv2_0.35_96_c3_o2_keras            1\n",
       "shufflenetv2tiny_0.05_96_c3_o2_f24l1024    1\n",
       "shufflenetv2tiny_0.25_96_c3_o2_f24l512     1\n",
       "shufflenetv2tiny_0.25_96_c3_o2_f24l128     1\n",
       "mobilenetv2_0.2_96_c3_o2_t5l128.MV1        1\n",
       "mobilenetv2_0.1_96_c3_o2_t6l128.MV1        1\n",
       "mobilenetv2_0.1_96_c3_o2_t6l256.MV1        1\n",
       "mobilenetv2_0.1_96_c3_o2_t6l512.MV1        1\n",
       "mobilenetv2_0.2_96_c3_o2_t6l1024.MV1       1\n",
       "mobilenetv2_0.2_96_c3_o2_t5l1024.MV1       1\n",
       "mobilenetv2_0.2_96_c3_o2_t5l512.MV1        1\n",
       "mobilenetv2_0.2_96_c3_o2_t5l256.MV1        1\n",
       "mobilenetv1_0.1_96_c3_o2_l2.MV1            1\n",
       "mobilenetv2_0.1_96_c3_o2_t2l1024.MV1       1\n",
       "mobilenetv2_0.2_96_c3_o2_t6l128.MV1        1\n",
       "mobilenetv2_0.2_96_c3_o2_t6l256.MV1        1\n",
       "mobilenetv2_0.2_96_c3_o2_t6l512.MV1        1\n",
       "mobilenetv2_0.25_96_c3_o2_t6l512.MV1       1\n",
       "mobilenetv2_0.25_96_c3_o2_t6l256.MV1       1\n",
       "mobilenetv2_0.25_96_c3_o2_t6l128.MV1       1\n",
       "mobilenetv2_0.25_96_c3_o2_t5l128.MV1       1\n",
       "mobilenetv2_0.1_96_c3_o2_t1l1024.MV1       1\n",
       "mobilenetv2_0.1_96_c3_o2_t3l1024.MV1       1\n",
       "shufflenetv2tiny_0.1_96_c3_o2_f24l128      1\n",
       "mobilenetv2_0.25_96_c3_o2_t6l1024.GAP      1\n",
       "shufflenetv2tiny_0.05_96_c3_o2_f24l128     1\n",
       "MobilenetV3small_1_96_c3_o3_keras          1\n",
       "mobilenetv1_0.1_96_c3_o2_l5.MV1            1\n",
       "mobilenetv1_0.1_224_c3_o2_l5.MV1           1\n",
       "mobilenetv1_0.1_224_c3_o2_l5.GAP           1\n",
       "efficientNetB0_0.05_96_c3_o2_keras         1\n",
       "MobilenetV3small_0.1_96_c3_o2_keras        1\n",
       "mobilenetv2_0.25_96_c3_o2_t6l1024.MV1      1\n",
       "mobilenetv2_0.1_96_c3_o2_t4l1024.MV1       1\n",
       "mobilenetv2_0.25_96_c3_o2_t5l1024.MV1      1\n",
       "mobilenetv2_0.25_96_c3_o2_t4l1024.MV1      1\n",
       "mobilenetv2_0.25_96_c3_o2_t3l1024.MV1      1\n",
       "mobilenetv2_0.25_96_c3_o2_t2l1024.MV1      1\n",
       "mobilenetv2_0.25_96_c3_o2_t1l1024.MV1      1\n",
       "mobilenetv2_0.1_96_c3_o2_t6l1024.MV1       1\n",
       "mobilenetv2_0.1_96_c3_o2_t5l1024.MV1       1\n",
       "mobilenetv1_0.25_96_c3_o2_l1               1\n",
       "Name: architecture, dtype: int64"
      ]
     },
     "execution_count": 111,
     "metadata": {},
     "output_type": "execute_result"
    }
   ],
   "source": [
    "# check for redundant models in the model_DB\n",
    "df[\"architecture\"].value_counts()"
   ]
  },
  {
   "attachments": {},
   "cell_type": "markdown",
   "metadata": {},
   "source": [
    "# Helper functions"
   ]
  },
  {
   "cell_type": "code",
   "execution_count": 112,
   "metadata": {},
   "outputs": [],
   "source": [
    "# def get_model_DB_run_id_from_architecture(architecture):\n",
    "#     df  = wandb_model_DB()\n",
    "\n",
    "#     run_id = df.query(f\"architecture=='{architecture}'\")[\"id\"].values[0]\n",
    "#     return run_id"
   ]
  },
  {
   "cell_type": "code",
   "execution_count": 113,
   "metadata": {},
   "outputs": [
    {
     "data": {
      "text/plain": [
       "'ndi1k023'"
      ]
     },
     "execution_count": 113,
     "metadata": {},
     "output_type": "execute_result"
    }
   ],
   "source": [
    "id = get_model_DB_run_id_from_architecture(\"efficientNetB0_0.05_96_c3_o2_keras\")\n",
    "id"
   ]
  },
  {
   "cell_type": "code",
   "execution_count": 114,
   "metadata": {},
   "outputs": [],
   "source": [
    "# get_architecture_from_model_DB_run_iddef (run_id):\n",
    "#     # get model name from run_id\n",
    "#     df  = wandb_model_DB()\n",
    "#     model_name = df.query(f\"id=='{run_id}'\")['architecture'].values[0]\n",
    "#     return model_name"
   ]
  },
  {
   "cell_type": "code",
   "execution_count": 115,
   "metadata": {},
   "outputs": [
    {
     "data": {
      "text/plain": [
       "'efficientNetB0_0.05_96_c3_o2_keras'"
      ]
     },
     "execution_count": 115,
     "metadata": {},
     "output_type": "execute_result"
    }
   ],
   "source": [
    "myname = get_architecture_from_model_DB_run_id(id)\n",
    "myname"
   ]
  },
  {
   "cell_type": "code",
   "execution_count": 116,
   "metadata": {},
   "outputs": [
    {
     "data": {
      "text/plain": [
       "True"
      ]
     },
     "execution_count": 116,
     "metadata": {},
     "output_type": "execute_result"
    }
   ],
   "source": [
    "training_csv_path = Path.cwd().joinpath(\"model_DB_visual_wake_words.csv\")\n",
    "training_csv_path.is_file()\n",
    "# df = pd.read_csv(training_csv_path)\n",
    "# df"
   ]
  },
  {
   "attachments": {},
   "cell_type": "markdown",
   "metadata": {},
   "source": [
    "# Plotting functions"
   ]
  },
  {
   "cell_type": "code",
   "execution_count": 45,
   "metadata": {},
   "outputs": [],
   "source": [
    "def get_model_family_df(model_family):\n",
    "\n",
    "    \n",
    "    model_list = df[[\"architecture\"]].query(f\"architecture.str.contains('{model_family}', na=False)\").copy()\n",
    "    model_list = model_list[\"architecture\"].tolist()\n",
    "    #print(model_list)\n",
    "    family_df = df.query(\"architecture in @model_list\").copy()\n",
    "    family_df.sort_values(by=\"alpha\", ascending=True, inplace=True)\n",
    "    print(f\"Number of models: {len(family_df)}\")\n",
    "    \n",
    "    return family_df"
   ]
  },
  {
   "cell_type": "code",
   "execution_count": 56,
   "metadata": {},
   "outputs": [],
   "source": [
    "def memory_fig(df_long):\n",
    "\n",
    "    peak_memory_limit = 87\n",
    "    flash_memory_limit = 250\n",
    "    fig = px.bar(df_long, x=\"architecture\", color=\"size\",\n",
    "                y='value',\n",
    "                labels={\"architecture\": \"model architecture\",\n",
    "                            #\"size\": \"size\",\n",
    "                            #\"value\": \"kB\"\n",
    "                            },\n",
    "                title=\"Peak memory, RAM size & flash size\",\n",
    "                barmode='group',\n",
    "                #hover_data=['architecture', 'size'],\n",
    "                height=600\n",
    "                )\n",
    "    fig.add_hline(y=peak_memory_limit, line_width=2, line_dash=\"dash\", line_color=\"orange\", annotation_text=f\"{peak_memory_limit} KB peak activation\", \n",
    "                annotation_position=\"top left\")\n",
    "    fig.add_hline(y=flash_memory_limit, line_width=2, line_dash=\"dash\", line_color=\"blue\", annotation_text=f\"{flash_memory_limit} KB flash memory\", \n",
    "                annotation_position=\"top right\")\n",
    "    fig.show()\n",
    "    return fig"
   ]
  },
  {
   "cell_type": "code",
   "execution_count": 59,
   "metadata": {},
   "outputs": [],
   "source": [
    "def create_size_df_long(df):\n",
    "    size_df = df[[\"architecture\", \n",
    "             \"peak_memory_kb\", \n",
    "             \"RAM_runtime_memory_size_kb_INT8_mltk\",\n",
    "             \"flash_model_size_kb_INT8_mltk\",\n",
    "             \"tflite_model_INT8_size_kb\"\n",
    "             ]].copy()\n",
    "    df_long = pd.melt(size_df, id_vars=[\"architecture\"], var_name= \"size\", value_name=\"value\").sort_values(by=[\"architecture\",\"size\"])\n",
    "    return df_long"
   ]
  },
  {
   "attachments": {},
   "cell_type": "markdown",
   "metadata": {},
   "source": [
    "# MobileNetv V1 Analysis"
   ]
  },
  {
   "cell_type": "code",
   "execution_count": 44,
   "metadata": {},
   "outputs": [],
   "source": [
    "# mobilenetv1_list = df[[\"architecture\"]].query(\"architecture.str.contains('mobilenetv1', na=False)\").copy()\n",
    "# mobilenetv1_list = mobilenetv1_list[\"architecture\"].tolist()\n",
    "# mobilenetv1_list"
   ]
  },
  {
   "cell_type": "code",
   "execution_count": 104,
   "metadata": {},
   "outputs": [
    {
     "name": "stdout",
     "output_type": "stream",
     "text": [
      "Number of models: 21\n"
     ]
    },
    {
     "data": {
      "text/html": [
       "<div>\n",
       "<style scoped>\n",
       "    .dataframe tbody tr th:only-of-type {\n",
       "        vertical-align: middle;\n",
       "    }\n",
       "\n",
       "    .dataframe tbody tr th {\n",
       "        vertical-align: top;\n",
       "    }\n",
       "\n",
       "    .dataframe thead th {\n",
       "        text-align: right;\n",
       "    }\n",
       "</style>\n",
       "<table border=\"1\" class=\"dataframe\">\n",
       "  <thead>\n",
       "    <tr style=\"text-align: right;\">\n",
       "      <th></th>\n",
       "      <th>id</th>\n",
       "      <th>run_name</th>\n",
       "      <th>state</th>\n",
       "      <th>MACs</th>\n",
       "      <th>url</th>\n",
       "      <th>architecture</th>\n",
       "      <th>FLOPs</th>\n",
       "      <th>alpha</th>\n",
       "      <th>classes</th>\n",
       "      <th>img_res</th>\n",
       "      <th>OPS_mltk</th>\n",
       "      <th>channels</th>\n",
       "      <th>macs_mltk</th>\n",
       "      <th>variation</th>\n",
       "      <th>energy_mltk</th>\n",
       "      <th>total_params</th>\n",
       "      <th>OPS_INT8_mltk</th>\n",
       "      <th>model_size_kb</th>\n",
       "      <th>peak_memory_b</th>\n",
       "      <th>macs_INT8_mltk</th>\n",
       "      <th>energy_INT8_mltk</th>\n",
       "      <th>trainable_params</th>\n",
       "      <th>non_trainable_params</th>\n",
       "      <th>tflite_model_size_kb</th>\n",
       "      <th>flash_model_size_b_mltk</th>\n",
       "      <th>n_unsupported_layers_mltk</th>\n",
       "      <th>tflite_model_INT8_size_kb</th>\n",
       "      <th>flash_model_size_b__INT8_mltk</th>\n",
       "      <th>RAM_runtime_memory_size_b_mltk</th>\n",
       "      <th>n_unsupported_layers_INT8_mltk</th>\n",
       "      <th>RAM_runtime_memory_size_b_INT8_mltk</th>\n",
       "      <th>tags</th>\n",
       "      <th>created_at</th>\n",
       "      <th>path</th>\n",
       "      <th>notes</th>\n",
       "      <th>test_accuracy</th>\n",
       "      <th>peak_memory_kb</th>\n",
       "      <th>flash_model_size_kb_INT8_mltk</th>\n",
       "      <th>RAM_runtime_memory_size_kb_INT8_mltk</th>\n",
       "    </tr>\n",
       "  </thead>\n",
       "  <tbody>\n",
       "    <tr>\n",
       "      <th>9</th>\n",
       "      <td>f6keiwns</td>\n",
       "      <td>mobilenetv1_0.1_96_c3_o2_l2.MV1</td>\n",
       "      <td>finished</td>\n",
       "      <td>1.117 M</td>\n",
       "      <td>https://wandb.ai/susbrock/model_DB/runs/f6keiwns</td>\n",
       "      <td>mobilenetv1_0.1_96_c3_o2_l2.MV1</td>\n",
       "      <td>2.467 M</td>\n",
       "      <td>0.1</td>\n",
       "      <td>2</td>\n",
       "      <td>96</td>\n",
       "      <td>2467123</td>\n",
       "      <td>3</td>\n",
       "      <td>1116555</td>\n",
       "      <td>l2.MV1</td>\n",
       "      <td>0.001475</td>\n",
       "      <td>30461</td>\n",
       "      <td>2577723</td>\n",
       "      <td>321.664062</td>\n",
       "      <td>55296.0</td>\n",
       "      <td>1116555</td>\n",
       "      <td>0.001675</td>\n",
       "      <td>28905</td>\n",
       "      <td>1556</td>\n",
       "      <td>119.562500</td>\n",
       "      <td>122432</td>\n",
       "      <td>0</td>\n",
       "      <td>64.015625</td>\n",
       "      <td>65552</td>\n",
       "      <td>149096</td>\n",
       "      <td>0</td>\n",
       "      <td>66700</td>\n",
       "      <td>[]</td>\n",
       "      <td>2023-02-26T12:52:37</td>\n",
       "      <td>[susbrock, model_DB, f6keiwns]</td>\n",
       "      <td>None</td>\n",
       "      <td>0.805984</td>\n",
       "      <td>54.0</td>\n",
       "      <td>64.015625</td>\n",
       "      <td>65.136719</td>\n",
       "    </tr>\n",
       "    <tr>\n",
       "      <th>33</th>\n",
       "      <td>lum2673e</td>\n",
       "      <td>mobilenetv1_0.1_224_c3_o2_l5.GAP</td>\n",
       "      <td>finished</td>\n",
       "      <td>7.877 M</td>\n",
       "      <td>https://wandb.ai/susbrock/model_DB/runs/lum2673e</td>\n",
       "      <td>mobilenetv1_0.1_224_c3_o2_l5.GAP</td>\n",
       "      <td>17.203 M</td>\n",
       "      <td>0.1</td>\n",
       "      <td>2</td>\n",
       "      <td>224</td>\n",
       "      <td>17203193</td>\n",
       "      <td>3</td>\n",
       "      <td>7877395</td>\n",
       "      <td>l5.GAP</td>\n",
       "      <td>0.017652</td>\n",
       "      <td>41171</td>\n",
       "      <td>17805313</td>\n",
       "      <td>418.878906</td>\n",
       "      <td>301056.0</td>\n",
       "      <td>7877395</td>\n",
       "      <td>0.017902</td>\n",
       "      <td>39003</td>\n",
       "      <td>2168</td>\n",
       "      <td>159.527344</td>\n",
       "      <td>163356</td>\n",
       "      <td>0</td>\n",
       "      <td>85.500000</td>\n",
       "      <td>87552</td>\n",
       "      <td>767088</td>\n",
       "      <td>0</td>\n",
       "      <td>316080</td>\n",
       "      <td>[]</td>\n",
       "      <td>2023-02-22T20:34:10</td>\n",
       "      <td>[susbrock, model_DB, lum2673e]</td>\n",
       "      <td>None</td>\n",
       "      <td>0.000000</td>\n",
       "      <td>294.0</td>\n",
       "      <td>85.500000</td>\n",
       "      <td>308.671875</td>\n",
       "    </tr>\n",
       "    <tr>\n",
       "      <th>34</th>\n",
       "      <td>9s1mqwqn</td>\n",
       "      <td>mobilenetv1_0.1_224_c3_o2_l5.MV1</td>\n",
       "      <td>finished</td>\n",
       "      <td>7.877 M</td>\n",
       "      <td>https://wandb.ai/susbrock/model_DB/runs/9s1mqwqn</td>\n",
       "      <td>mobilenetv1_0.1_224_c3_o2_l5.MV1</td>\n",
       "      <td>17.208 M</td>\n",
       "      <td>0.1</td>\n",
       "      <td>2</td>\n",
       "      <td>224</td>\n",
       "      <td>17208291</td>\n",
       "      <td>3</td>\n",
       "      <td>7877395</td>\n",
       "      <td>l5.MV1</td>\n",
       "      <td>0.017608</td>\n",
       "      <td>41171</td>\n",
       "      <td>17810411</td>\n",
       "      <td>416.707031</td>\n",
       "      <td>301056.0</td>\n",
       "      <td>7877395</td>\n",
       "      <td>0.017858</td>\n",
       "      <td>39003</td>\n",
       "      <td>2168</td>\n",
       "      <td>159.207031</td>\n",
       "      <td>163028</td>\n",
       "      <td>0</td>\n",
       "      <td>85.132812</td>\n",
       "      <td>87176</td>\n",
       "      <td>767000</td>\n",
       "      <td>0</td>\n",
       "      <td>315996</td>\n",
       "      <td>[]</td>\n",
       "      <td>2023-02-22T20:28:52</td>\n",
       "      <td>[susbrock, model_DB, 9s1mqwqn]</td>\n",
       "      <td>None</td>\n",
       "      <td>0.000000</td>\n",
       "      <td>294.0</td>\n",
       "      <td>85.132812</td>\n",
       "      <td>308.589844</td>\n",
       "    </tr>\n",
       "    <tr>\n",
       "      <th>35</th>\n",
       "      <td>t3imun41</td>\n",
       "      <td>mobilenetv1_0.1_96_c3_o2_l5.MV1</td>\n",
       "      <td>finished</td>\n",
       "      <td>1.447 M</td>\n",
       "      <td>https://wandb.ai/susbrock/model_DB/runs/t3imun41</td>\n",
       "      <td>mobilenetv1_0.1_96_c3_o2_l5.MV1</td>\n",
       "      <td>3.161 M</td>\n",
       "      <td>0.1</td>\n",
       "      <td>2</td>\n",
       "      <td>96</td>\n",
       "      <td>3161131</td>\n",
       "      <td>3</td>\n",
       "      <td>1447035</td>\n",
       "      <td>l5.MV1</td>\n",
       "      <td>0.001656</td>\n",
       "      <td>41171</td>\n",
       "      <td>3271731</td>\n",
       "      <td>416.699219</td>\n",
       "      <td>55296.0</td>\n",
       "      <td>1447035</td>\n",
       "      <td>0.001855</td>\n",
       "      <td>39003</td>\n",
       "      <td>2168</td>\n",
       "      <td>159.207031</td>\n",
       "      <td>163028</td>\n",
       "      <td>0</td>\n",
       "      <td>85.132812</td>\n",
       "      <td>87176</td>\n",
       "      <td>152600</td>\n",
       "      <td>0</td>\n",
       "      <td>70236</td>\n",
       "      <td>[]</td>\n",
       "      <td>2023-02-22T19:53:41</td>\n",
       "      <td>[susbrock, model_DB, t3imun41]</td>\n",
       "      <td>None</td>\n",
       "      <td>0.799872</td>\n",
       "      <td>54.0</td>\n",
       "      <td>85.132812</td>\n",
       "      <td>68.589844</td>\n",
       "    </tr>\n",
       "    <tr>\n",
       "      <th>53</th>\n",
       "      <td>sd3qtst4</td>\n",
       "      <td>mobilenetv1_0.1_96_c3_o2_l5.GAP</td>\n",
       "      <td>finished</td>\n",
       "      <td>1.447 M</td>\n",
       "      <td>https://wandb.ai/susbrock/model_DB/runs/sd3qtst4</td>\n",
       "      <td>mobilenetv1_0.1_96_c3_o2_l5.GAP</td>\n",
       "      <td>3.160 M</td>\n",
       "      <td>0.1</td>\n",
       "      <td>2</td>\n",
       "      <td>96</td>\n",
       "      <td>3160113</td>\n",
       "      <td>3</td>\n",
       "      <td>1447035</td>\n",
       "      <td>l5.GAP</td>\n",
       "      <td>0.001695</td>\n",
       "      <td>41171</td>\n",
       "      <td>3270713</td>\n",
       "      <td>418.722656</td>\n",
       "      <td>55296.0</td>\n",
       "      <td>1447035</td>\n",
       "      <td>0.001895</td>\n",
       "      <td>39003</td>\n",
       "      <td>2168</td>\n",
       "      <td>159.320312</td>\n",
       "      <td>163144</td>\n",
       "      <td>0</td>\n",
       "      <td>85.281250</td>\n",
       "      <td>87328</td>\n",
       "      <td>152688</td>\n",
       "      <td>0</td>\n",
       "      <td>70320</td>\n",
       "      <td>[]</td>\n",
       "      <td>2023-02-18T10:08:46</td>\n",
       "      <td>[susbrock, model_DB, sd3qtst4]</td>\n",
       "      <td>None</td>\n",
       "      <td>0.801879</td>\n",
       "      <td>54.0</td>\n",
       "      <td>85.281250</td>\n",
       "      <td>68.671875</td>\n",
       "    </tr>\n",
       "  </tbody>\n",
       "</table>\n",
       "</div>"
      ],
      "text/plain": [
       "          id                          run_name     state     MACs  \\\n",
       "9   f6keiwns   mobilenetv1_0.1_96_c3_o2_l2.MV1  finished  1.117 M   \n",
       "33  lum2673e  mobilenetv1_0.1_224_c3_o2_l5.GAP  finished  7.877 M   \n",
       "34  9s1mqwqn  mobilenetv1_0.1_224_c3_o2_l5.MV1  finished  7.877 M   \n",
       "35  t3imun41   mobilenetv1_0.1_96_c3_o2_l5.MV1  finished  1.447 M   \n",
       "53  sd3qtst4   mobilenetv1_0.1_96_c3_o2_l5.GAP  finished  1.447 M   \n",
       "\n",
       "                                                 url  \\\n",
       "9   https://wandb.ai/susbrock/model_DB/runs/f6keiwns   \n",
       "33  https://wandb.ai/susbrock/model_DB/runs/lum2673e   \n",
       "34  https://wandb.ai/susbrock/model_DB/runs/9s1mqwqn   \n",
       "35  https://wandb.ai/susbrock/model_DB/runs/t3imun41   \n",
       "53  https://wandb.ai/susbrock/model_DB/runs/sd3qtst4   \n",
       "\n",
       "                        architecture     FLOPs alpha  classes  img_res  \\\n",
       "9    mobilenetv1_0.1_96_c3_o2_l2.MV1   2.467 M   0.1        2       96   \n",
       "33  mobilenetv1_0.1_224_c3_o2_l5.GAP  17.203 M   0.1        2      224   \n",
       "34  mobilenetv1_0.1_224_c3_o2_l5.MV1  17.208 M   0.1        2      224   \n",
       "35   mobilenetv1_0.1_96_c3_o2_l5.MV1   3.161 M   0.1        2       96   \n",
       "53   mobilenetv1_0.1_96_c3_o2_l5.GAP   3.160 M   0.1        2       96   \n",
       "\n",
       "    OPS_mltk  channels  macs_mltk variation  energy_mltk  total_params  \\\n",
       "9    2467123         3    1116555    l2.MV1     0.001475         30461   \n",
       "33  17203193         3    7877395    l5.GAP     0.017652         41171   \n",
       "34  17208291         3    7877395    l5.MV1     0.017608         41171   \n",
       "35   3161131         3    1447035    l5.MV1     0.001656         41171   \n",
       "53   3160113         3    1447035    l5.GAP     0.001695         41171   \n",
       "\n",
       "    OPS_INT8_mltk  model_size_kb  peak_memory_b  macs_INT8_mltk  \\\n",
       "9         2577723     321.664062        55296.0         1116555   \n",
       "33       17805313     418.878906       301056.0         7877395   \n",
       "34       17810411     416.707031       301056.0         7877395   \n",
       "35        3271731     416.699219        55296.0         1447035   \n",
       "53        3270713     418.722656        55296.0         1447035   \n",
       "\n",
       "    energy_INT8_mltk  trainable_params  non_trainable_params  \\\n",
       "9           0.001675             28905                  1556   \n",
       "33          0.017902             39003                  2168   \n",
       "34          0.017858             39003                  2168   \n",
       "35          0.001855             39003                  2168   \n",
       "53          0.001895             39003                  2168   \n",
       "\n",
       "    tflite_model_size_kb  flash_model_size_b_mltk  n_unsupported_layers_mltk  \\\n",
       "9             119.562500                   122432                          0   \n",
       "33            159.527344                   163356                          0   \n",
       "34            159.207031                   163028                          0   \n",
       "35            159.207031                   163028                          0   \n",
       "53            159.320312                   163144                          0   \n",
       "\n",
       "    tflite_model_INT8_size_kb  flash_model_size_b__INT8_mltk  \\\n",
       "9                   64.015625                          65552   \n",
       "33                  85.500000                          87552   \n",
       "34                  85.132812                          87176   \n",
       "35                  85.132812                          87176   \n",
       "53                  85.281250                          87328   \n",
       "\n",
       "    RAM_runtime_memory_size_b_mltk  n_unsupported_layers_INT8_mltk  \\\n",
       "9                           149096                               0   \n",
       "33                          767088                               0   \n",
       "34                          767000                               0   \n",
       "35                          152600                               0   \n",
       "53                          152688                               0   \n",
       "\n",
       "    RAM_runtime_memory_size_b_INT8_mltk tags           created_at  \\\n",
       "9                                 66700   []  2023-02-26T12:52:37   \n",
       "33                               316080   []  2023-02-22T20:34:10   \n",
       "34                               315996   []  2023-02-22T20:28:52   \n",
       "35                                70236   []  2023-02-22T19:53:41   \n",
       "53                                70320   []  2023-02-18T10:08:46   \n",
       "\n",
       "                              path notes  test_accuracy  peak_memory_kb  \\\n",
       "9   [susbrock, model_DB, f6keiwns]  None       0.805984            54.0   \n",
       "33  [susbrock, model_DB, lum2673e]  None       0.000000           294.0   \n",
       "34  [susbrock, model_DB, 9s1mqwqn]  None       0.000000           294.0   \n",
       "35  [susbrock, model_DB, t3imun41]  None       0.799872            54.0   \n",
       "53  [susbrock, model_DB, sd3qtst4]  None       0.801879            54.0   \n",
       "\n",
       "    flash_model_size_kb_INT8_mltk  RAM_runtime_memory_size_kb_INT8_mltk  \n",
       "9                       64.015625                             65.136719  \n",
       "33                      85.500000                            308.671875  \n",
       "34                      85.132812                            308.589844  \n",
       "35                      85.132812                             68.589844  \n",
       "53                      85.281250                             68.671875  "
      ]
     },
     "execution_count": 104,
     "metadata": {},
     "output_type": "execute_result"
    }
   ],
   "source": [
    "mbnv1_df = get_model_family_df(\"mobilenetv1\")\n",
    "mbnv1_df.head()"
   ]
  },
  {
   "cell_type": "code",
   "execution_count": 65,
   "metadata": {},
   "outputs": [
    {
     "data": {
      "application/vnd.plotly.v1+json": {
       "config": {
        "plotlyServerURL": "https://plot.ly"
       },
       "data": [
        {
         "alignmentgroup": "True",
         "hovertemplate": "size=RAM_runtime_memory_size_kb_INT8_mltk<br>model architecture=%{x}<br>value=%{y}<extra></extra>",
         "legendgroup": "RAM_runtime_memory_size_kb_INT8_mltk",
         "marker": {
          "color": "#636efa",
          "pattern": {
           "shape": ""
          }
         },
         "name": "RAM_runtime_memory_size_kb_INT8_mltk",
         "offsetgroup": "RAM_runtime_memory_size_kb_INT8_mltk",
         "orientation": "v",
         "showlegend": true,
         "textposition": "auto",
         "type": "bar",
         "x": [
          "mobilenetv1_0.1_224_c3_o2_l5.GAP",
          "mobilenetv1_0.1_224_c3_o2_l5.MV1",
          "mobilenetv1_0.1_96_c3_o2_l2.MV1",
          "mobilenetv1_0.1_96_c3_o2_l5.GAP",
          "mobilenetv1_0.1_96_c3_o2_l5.MV1",
          "mobilenetv1_0.25_96_c3_o2_l1",
          "mobilenetv1_0.25_96_c3_o2_l2",
          "mobilenetv1_0.25_96_c3_o2_l3",
          "mobilenetv1_0.25_96_c3_o2_l4",
          "mobilenetv1_0.25_96_c3_o2_l5",
          "mobilenetv1_0.35_96_c3_o2_l1",
          "mobilenetv1_0.35_96_c3_o2_l2",
          "mobilenetv1_0.35_96_c3_o2_l3",
          "mobilenetv1_0.35_96_c3_o2_l4",
          "mobilenetv1_0.35_96_c3_o2_l5",
          "mobilenetv1_1_96_c3_o2_l1",
          "mobilenetv1_1_96_c3_o2_l2",
          "mobilenetv1_1_96_c3_o2_l3",
          "mobilenetv1_1_96_c3_o2_l4",
          "mobilenetv1_1_96_c3_o2_l5",
          "mobilenetv1vvw_0.25_96_c3_o2_vvw"
         ],
         "xaxis": "x",
         "y": [
          308.671875,
          308.58984375,
          65.13671875,
          68.671875,
          68.58984375,
          90.11328125,
          92.4765625,
          94.83984375,
          97.203125,
          99.56640625,
          122.70703125,
          125.81640625,
          129.05078125,
          132.16015625,
          135.39453125,
          274.23828125,
          282.6015625,
          290.96484375,
          299.328125,
          307.69140625,
          99.1328125
         ],
         "yaxis": "y"
        },
        {
         "alignmentgroup": "True",
         "hovertemplate": "size=flash_model_size_kb_INT8_mltk<br>model architecture=%{x}<br>value=%{y}<extra></extra>",
         "legendgroup": "flash_model_size_kb_INT8_mltk",
         "marker": {
          "color": "#EF553B",
          "pattern": {
           "shape": ""
          }
         },
         "name": "flash_model_size_kb_INT8_mltk",
         "offsetgroup": "flash_model_size_kb_INT8_mltk",
         "orientation": "v",
         "showlegend": true,
         "textposition": "auto",
         "type": "bar",
         "x": [
          "mobilenetv1_0.1_224_c3_o2_l5.GAP",
          "mobilenetv1_0.1_224_c3_o2_l5.MV1",
          "mobilenetv1_0.1_96_c3_o2_l2.MV1",
          "mobilenetv1_0.1_96_c3_o2_l5.GAP",
          "mobilenetv1_0.1_96_c3_o2_l5.MV1",
          "mobilenetv1_0.25_96_c3_o2_l1",
          "mobilenetv1_0.25_96_c3_o2_l2",
          "mobilenetv1_0.25_96_c3_o2_l3",
          "mobilenetv1_0.25_96_c3_o2_l4",
          "mobilenetv1_0.25_96_c3_o2_l5",
          "mobilenetv1_0.35_96_c3_o2_l1",
          "mobilenetv1_0.35_96_c3_o2_l2",
          "mobilenetv1_0.35_96_c3_o2_l3",
          "mobilenetv1_0.35_96_c3_o2_l4",
          "mobilenetv1_0.35_96_c3_o2_l5",
          "mobilenetv1_1_96_c3_o2_l1",
          "mobilenetv1_1_96_c3_o2_l2",
          "mobilenetv1_1_96_c3_o2_l3",
          "mobilenetv1_1_96_c3_o2_l4",
          "mobilenetv1_1_96_c3_o2_l5",
          "mobilenetv1vvw_0.25_96_c3_o2_vvw"
         ],
         "xaxis": "x",
         "y": [
          85.5,
          85.1328125,
          64.015625,
          85.28125,
          85.1328125,
          195.0703125,
          219.8359375,
          244.6015625,
          269.3828125,
          294.171875,
          336.125,
          379.03125,
          421.9375,
          464.84375,
          507.7578125,
          2257.0546875,
          2543.1953125,
          2829.3359375,
          3115.4921875,
          3401.65625,
          294.046875
         ],
         "yaxis": "y"
        },
        {
         "alignmentgroup": "True",
         "hovertemplate": "size=peak_memory_kb<br>model architecture=%{x}<br>value=%{y}<extra></extra>",
         "legendgroup": "peak_memory_kb",
         "marker": {
          "color": "#00cc96",
          "pattern": {
           "shape": ""
          }
         },
         "name": "peak_memory_kb",
         "offsetgroup": "peak_memory_kb",
         "orientation": "v",
         "showlegend": true,
         "textposition": "auto",
         "type": "bar",
         "x": [
          "mobilenetv1_0.1_224_c3_o2_l5.GAP",
          "mobilenetv1_0.1_224_c3_o2_l5.MV1",
          "mobilenetv1_0.1_96_c3_o2_l2.MV1",
          "mobilenetv1_0.1_96_c3_o2_l5.GAP",
          "mobilenetv1_0.1_96_c3_o2_l5.MV1",
          "mobilenetv1_0.25_96_c3_o2_l1",
          "mobilenetv1_0.25_96_c3_o2_l2",
          "mobilenetv1_0.25_96_c3_o2_l3",
          "mobilenetv1_0.25_96_c3_o2_l4",
          "mobilenetv1_0.25_96_c3_o2_l5",
          "mobilenetv1_0.35_96_c3_o2_l1",
          "mobilenetv1_0.35_96_c3_o2_l2",
          "mobilenetv1_0.35_96_c3_o2_l3",
          "mobilenetv1_0.35_96_c3_o2_l4",
          "mobilenetv1_0.35_96_c3_o2_l5",
          "mobilenetv1_1_96_c3_o2_l1",
          "mobilenetv1_1_96_c3_o2_l2",
          "mobilenetv1_1_96_c3_o2_l3",
          "mobilenetv1_1_96_c3_o2_l4",
          "mobilenetv1_1_96_c3_o2_l5",
          "mobilenetv1vvw_0.25_96_c3_o2_vvw"
         ],
         "xaxis": "x",
         "y": [
          294,
          294,
          54,
          54,
          54,
          54,
          54,
          54,
          54,
          54,
          74.25,
          74.25,
          74.25,
          74.25,
          74.25,
          216,
          216,
          216,
          216,
          216,
          54
         ],
         "yaxis": "y"
        },
        {
         "alignmentgroup": "True",
         "hovertemplate": "size=tflite_model_INT8_size_kb<br>model architecture=%{x}<br>value=%{y}<extra></extra>",
         "legendgroup": "tflite_model_INT8_size_kb",
         "marker": {
          "color": "#ab63fa",
          "pattern": {
           "shape": ""
          }
         },
         "name": "tflite_model_INT8_size_kb",
         "offsetgroup": "tflite_model_INT8_size_kb",
         "orientation": "v",
         "showlegend": true,
         "textposition": "auto",
         "type": "bar",
         "x": [
          "mobilenetv1_0.1_224_c3_o2_l5.GAP",
          "mobilenetv1_0.1_224_c3_o2_l5.MV1",
          "mobilenetv1_0.1_96_c3_o2_l2.MV1",
          "mobilenetv1_0.1_96_c3_o2_l5.GAP",
          "mobilenetv1_0.1_96_c3_o2_l5.MV1",
          "mobilenetv1_0.25_96_c3_o2_l1",
          "mobilenetv1_0.25_96_c3_o2_l2",
          "mobilenetv1_0.25_96_c3_o2_l3",
          "mobilenetv1_0.25_96_c3_o2_l4",
          "mobilenetv1_0.25_96_c3_o2_l5",
          "mobilenetv1_0.35_96_c3_o2_l1",
          "mobilenetv1_0.35_96_c3_o2_l2",
          "mobilenetv1_0.35_96_c3_o2_l3",
          "mobilenetv1_0.35_96_c3_o2_l4",
          "mobilenetv1_0.35_96_c3_o2_l5",
          "mobilenetv1_1_96_c3_o2_l1",
          "mobilenetv1_1_96_c3_o2_l2",
          "mobilenetv1_1_96_c3_o2_l3",
          "mobilenetv1_1_96_c3_o2_l4",
          "mobilenetv1_1_96_c3_o2_l5",
          "mobilenetv1vvw_0.25_96_c3_o2_vvw"
         ],
         "xaxis": "x",
         "y": [
          85.5,
          85.1328125,
          64.015625,
          85.28125,
          85.1328125,
          195.0703125,
          219.8359375,
          244.6015625,
          269.3828125,
          294.171875,
          336.125,
          379.03125,
          421.9375,
          464.84375,
          507.7578125,
          2257.0546875,
          2543.1953125,
          2829.3359375,
          3115.4921875,
          3401.65625,
          294.046875
         ],
         "yaxis": "y"
        }
       ],
       "layout": {
        "annotations": [
         {
          "showarrow": false,
          "text": "87 KB peak activation",
          "x": 0,
          "xanchor": "left",
          "xref": "x domain",
          "y": 87,
          "yanchor": "bottom",
          "yref": "y"
         },
         {
          "showarrow": false,
          "text": "250 KB flash memory",
          "x": 1,
          "xanchor": "right",
          "xref": "x domain",
          "y": 250,
          "yanchor": "bottom",
          "yref": "y"
         }
        ],
        "barmode": "group",
        "height": 600,
        "legend": {
         "title": {
          "text": "size"
         },
         "tracegroupgap": 0
        },
        "shapes": [
         {
          "line": {
           "color": "orange",
           "dash": "dash",
           "width": 2
          },
          "type": "line",
          "x0": 0,
          "x1": 1,
          "xref": "x domain",
          "y0": 87,
          "y1": 87,
          "yref": "y"
         },
         {
          "line": {
           "color": "blue",
           "dash": "dash",
           "width": 2
          },
          "type": "line",
          "x0": 0,
          "x1": 1,
          "xref": "x domain",
          "y0": 250,
          "y1": 250,
          "yref": "y"
         }
        ],
        "template": {
         "data": {
          "bar": [
           {
            "error_x": {
             "color": "#2a3f5f"
            },
            "error_y": {
             "color": "#2a3f5f"
            },
            "marker": {
             "line": {
              "color": "#E5ECF6",
              "width": 0.5
             },
             "pattern": {
              "fillmode": "overlay",
              "size": 10,
              "solidity": 0.2
             }
            },
            "type": "bar"
           }
          ],
          "barpolar": [
           {
            "marker": {
             "line": {
              "color": "#E5ECF6",
              "width": 0.5
             },
             "pattern": {
              "fillmode": "overlay",
              "size": 10,
              "solidity": 0.2
             }
            },
            "type": "barpolar"
           }
          ],
          "carpet": [
           {
            "aaxis": {
             "endlinecolor": "#2a3f5f",
             "gridcolor": "white",
             "linecolor": "white",
             "minorgridcolor": "white",
             "startlinecolor": "#2a3f5f"
            },
            "baxis": {
             "endlinecolor": "#2a3f5f",
             "gridcolor": "white",
             "linecolor": "white",
             "minorgridcolor": "white",
             "startlinecolor": "#2a3f5f"
            },
            "type": "carpet"
           }
          ],
          "choropleth": [
           {
            "colorbar": {
             "outlinewidth": 0,
             "ticks": ""
            },
            "type": "choropleth"
           }
          ],
          "contour": [
           {
            "colorbar": {
             "outlinewidth": 0,
             "ticks": ""
            },
            "colorscale": [
             [
              0,
              "#0d0887"
             ],
             [
              0.1111111111111111,
              "#46039f"
             ],
             [
              0.2222222222222222,
              "#7201a8"
             ],
             [
              0.3333333333333333,
              "#9c179e"
             ],
             [
              0.4444444444444444,
              "#bd3786"
             ],
             [
              0.5555555555555556,
              "#d8576b"
             ],
             [
              0.6666666666666666,
              "#ed7953"
             ],
             [
              0.7777777777777778,
              "#fb9f3a"
             ],
             [
              0.8888888888888888,
              "#fdca26"
             ],
             [
              1,
              "#f0f921"
             ]
            ],
            "type": "contour"
           }
          ],
          "contourcarpet": [
           {
            "colorbar": {
             "outlinewidth": 0,
             "ticks": ""
            },
            "type": "contourcarpet"
           }
          ],
          "heatmap": [
           {
            "colorbar": {
             "outlinewidth": 0,
             "ticks": ""
            },
            "colorscale": [
             [
              0,
              "#0d0887"
             ],
             [
              0.1111111111111111,
              "#46039f"
             ],
             [
              0.2222222222222222,
              "#7201a8"
             ],
             [
              0.3333333333333333,
              "#9c179e"
             ],
             [
              0.4444444444444444,
              "#bd3786"
             ],
             [
              0.5555555555555556,
              "#d8576b"
             ],
             [
              0.6666666666666666,
              "#ed7953"
             ],
             [
              0.7777777777777778,
              "#fb9f3a"
             ],
             [
              0.8888888888888888,
              "#fdca26"
             ],
             [
              1,
              "#f0f921"
             ]
            ],
            "type": "heatmap"
           }
          ],
          "heatmapgl": [
           {
            "colorbar": {
             "outlinewidth": 0,
             "ticks": ""
            },
            "colorscale": [
             [
              0,
              "#0d0887"
             ],
             [
              0.1111111111111111,
              "#46039f"
             ],
             [
              0.2222222222222222,
              "#7201a8"
             ],
             [
              0.3333333333333333,
              "#9c179e"
             ],
             [
              0.4444444444444444,
              "#bd3786"
             ],
             [
              0.5555555555555556,
              "#d8576b"
             ],
             [
              0.6666666666666666,
              "#ed7953"
             ],
             [
              0.7777777777777778,
              "#fb9f3a"
             ],
             [
              0.8888888888888888,
              "#fdca26"
             ],
             [
              1,
              "#f0f921"
             ]
            ],
            "type": "heatmapgl"
           }
          ],
          "histogram": [
           {
            "marker": {
             "pattern": {
              "fillmode": "overlay",
              "size": 10,
              "solidity": 0.2
             }
            },
            "type": "histogram"
           }
          ],
          "histogram2d": [
           {
            "colorbar": {
             "outlinewidth": 0,
             "ticks": ""
            },
            "colorscale": [
             [
              0,
              "#0d0887"
             ],
             [
              0.1111111111111111,
              "#46039f"
             ],
             [
              0.2222222222222222,
              "#7201a8"
             ],
             [
              0.3333333333333333,
              "#9c179e"
             ],
             [
              0.4444444444444444,
              "#bd3786"
             ],
             [
              0.5555555555555556,
              "#d8576b"
             ],
             [
              0.6666666666666666,
              "#ed7953"
             ],
             [
              0.7777777777777778,
              "#fb9f3a"
             ],
             [
              0.8888888888888888,
              "#fdca26"
             ],
             [
              1,
              "#f0f921"
             ]
            ],
            "type": "histogram2d"
           }
          ],
          "histogram2dcontour": [
           {
            "colorbar": {
             "outlinewidth": 0,
             "ticks": ""
            },
            "colorscale": [
             [
              0,
              "#0d0887"
             ],
             [
              0.1111111111111111,
              "#46039f"
             ],
             [
              0.2222222222222222,
              "#7201a8"
             ],
             [
              0.3333333333333333,
              "#9c179e"
             ],
             [
              0.4444444444444444,
              "#bd3786"
             ],
             [
              0.5555555555555556,
              "#d8576b"
             ],
             [
              0.6666666666666666,
              "#ed7953"
             ],
             [
              0.7777777777777778,
              "#fb9f3a"
             ],
             [
              0.8888888888888888,
              "#fdca26"
             ],
             [
              1,
              "#f0f921"
             ]
            ],
            "type": "histogram2dcontour"
           }
          ],
          "mesh3d": [
           {
            "colorbar": {
             "outlinewidth": 0,
             "ticks": ""
            },
            "type": "mesh3d"
           }
          ],
          "parcoords": [
           {
            "line": {
             "colorbar": {
              "outlinewidth": 0,
              "ticks": ""
             }
            },
            "type": "parcoords"
           }
          ],
          "pie": [
           {
            "automargin": true,
            "type": "pie"
           }
          ],
          "scatter": [
           {
            "fillpattern": {
             "fillmode": "overlay",
             "size": 10,
             "solidity": 0.2
            },
            "type": "scatter"
           }
          ],
          "scatter3d": [
           {
            "line": {
             "colorbar": {
              "outlinewidth": 0,
              "ticks": ""
             }
            },
            "marker": {
             "colorbar": {
              "outlinewidth": 0,
              "ticks": ""
             }
            },
            "type": "scatter3d"
           }
          ],
          "scattercarpet": [
           {
            "marker": {
             "colorbar": {
              "outlinewidth": 0,
              "ticks": ""
             }
            },
            "type": "scattercarpet"
           }
          ],
          "scattergeo": [
           {
            "marker": {
             "colorbar": {
              "outlinewidth": 0,
              "ticks": ""
             }
            },
            "type": "scattergeo"
           }
          ],
          "scattergl": [
           {
            "marker": {
             "colorbar": {
              "outlinewidth": 0,
              "ticks": ""
             }
            },
            "type": "scattergl"
           }
          ],
          "scattermapbox": [
           {
            "marker": {
             "colorbar": {
              "outlinewidth": 0,
              "ticks": ""
             }
            },
            "type": "scattermapbox"
           }
          ],
          "scatterpolar": [
           {
            "marker": {
             "colorbar": {
              "outlinewidth": 0,
              "ticks": ""
             }
            },
            "type": "scatterpolar"
           }
          ],
          "scatterpolargl": [
           {
            "marker": {
             "colorbar": {
              "outlinewidth": 0,
              "ticks": ""
             }
            },
            "type": "scatterpolargl"
           }
          ],
          "scatterternary": [
           {
            "marker": {
             "colorbar": {
              "outlinewidth": 0,
              "ticks": ""
             }
            },
            "type": "scatterternary"
           }
          ],
          "surface": [
           {
            "colorbar": {
             "outlinewidth": 0,
             "ticks": ""
            },
            "colorscale": [
             [
              0,
              "#0d0887"
             ],
             [
              0.1111111111111111,
              "#46039f"
             ],
             [
              0.2222222222222222,
              "#7201a8"
             ],
             [
              0.3333333333333333,
              "#9c179e"
             ],
             [
              0.4444444444444444,
              "#bd3786"
             ],
             [
              0.5555555555555556,
              "#d8576b"
             ],
             [
              0.6666666666666666,
              "#ed7953"
             ],
             [
              0.7777777777777778,
              "#fb9f3a"
             ],
             [
              0.8888888888888888,
              "#fdca26"
             ],
             [
              1,
              "#f0f921"
             ]
            ],
            "type": "surface"
           }
          ],
          "table": [
           {
            "cells": {
             "fill": {
              "color": "#EBF0F8"
             },
             "line": {
              "color": "white"
             }
            },
            "header": {
             "fill": {
              "color": "#C8D4E3"
             },
             "line": {
              "color": "white"
             }
            },
            "type": "table"
           }
          ]
         },
         "layout": {
          "annotationdefaults": {
           "arrowcolor": "#2a3f5f",
           "arrowhead": 0,
           "arrowwidth": 1
          },
          "autotypenumbers": "strict",
          "coloraxis": {
           "colorbar": {
            "outlinewidth": 0,
            "ticks": ""
           }
          },
          "colorscale": {
           "diverging": [
            [
             0,
             "#8e0152"
            ],
            [
             0.1,
             "#c51b7d"
            ],
            [
             0.2,
             "#de77ae"
            ],
            [
             0.3,
             "#f1b6da"
            ],
            [
             0.4,
             "#fde0ef"
            ],
            [
             0.5,
             "#f7f7f7"
            ],
            [
             0.6,
             "#e6f5d0"
            ],
            [
             0.7,
             "#b8e186"
            ],
            [
             0.8,
             "#7fbc41"
            ],
            [
             0.9,
             "#4d9221"
            ],
            [
             1,
             "#276419"
            ]
           ],
           "sequential": [
            [
             0,
             "#0d0887"
            ],
            [
             0.1111111111111111,
             "#46039f"
            ],
            [
             0.2222222222222222,
             "#7201a8"
            ],
            [
             0.3333333333333333,
             "#9c179e"
            ],
            [
             0.4444444444444444,
             "#bd3786"
            ],
            [
             0.5555555555555556,
             "#d8576b"
            ],
            [
             0.6666666666666666,
             "#ed7953"
            ],
            [
             0.7777777777777778,
             "#fb9f3a"
            ],
            [
             0.8888888888888888,
             "#fdca26"
            ],
            [
             1,
             "#f0f921"
            ]
           ],
           "sequentialminus": [
            [
             0,
             "#0d0887"
            ],
            [
             0.1111111111111111,
             "#46039f"
            ],
            [
             0.2222222222222222,
             "#7201a8"
            ],
            [
             0.3333333333333333,
             "#9c179e"
            ],
            [
             0.4444444444444444,
             "#bd3786"
            ],
            [
             0.5555555555555556,
             "#d8576b"
            ],
            [
             0.6666666666666666,
             "#ed7953"
            ],
            [
             0.7777777777777778,
             "#fb9f3a"
            ],
            [
             0.8888888888888888,
             "#fdca26"
            ],
            [
             1,
             "#f0f921"
            ]
           ]
          },
          "colorway": [
           "#636efa",
           "#EF553B",
           "#00cc96",
           "#ab63fa",
           "#FFA15A",
           "#19d3f3",
           "#FF6692",
           "#B6E880",
           "#FF97FF",
           "#FECB52"
          ],
          "font": {
           "color": "#2a3f5f"
          },
          "geo": {
           "bgcolor": "white",
           "lakecolor": "white",
           "landcolor": "#E5ECF6",
           "showlakes": true,
           "showland": true,
           "subunitcolor": "white"
          },
          "hoverlabel": {
           "align": "left"
          },
          "hovermode": "closest",
          "mapbox": {
           "style": "light"
          },
          "paper_bgcolor": "white",
          "plot_bgcolor": "#E5ECF6",
          "polar": {
           "angularaxis": {
            "gridcolor": "white",
            "linecolor": "white",
            "ticks": ""
           },
           "bgcolor": "#E5ECF6",
           "radialaxis": {
            "gridcolor": "white",
            "linecolor": "white",
            "ticks": ""
           }
          },
          "scene": {
           "xaxis": {
            "backgroundcolor": "#E5ECF6",
            "gridcolor": "white",
            "gridwidth": 2,
            "linecolor": "white",
            "showbackground": true,
            "ticks": "",
            "zerolinecolor": "white"
           },
           "yaxis": {
            "backgroundcolor": "#E5ECF6",
            "gridcolor": "white",
            "gridwidth": 2,
            "linecolor": "white",
            "showbackground": true,
            "ticks": "",
            "zerolinecolor": "white"
           },
           "zaxis": {
            "backgroundcolor": "#E5ECF6",
            "gridcolor": "white",
            "gridwidth": 2,
            "linecolor": "white",
            "showbackground": true,
            "ticks": "",
            "zerolinecolor": "white"
           }
          },
          "shapedefaults": {
           "line": {
            "color": "#2a3f5f"
           }
          },
          "ternary": {
           "aaxis": {
            "gridcolor": "white",
            "linecolor": "white",
            "ticks": ""
           },
           "baxis": {
            "gridcolor": "white",
            "linecolor": "white",
            "ticks": ""
           },
           "bgcolor": "#E5ECF6",
           "caxis": {
            "gridcolor": "white",
            "linecolor": "white",
            "ticks": ""
           }
          },
          "title": {
           "x": 0.05
          },
          "xaxis": {
           "automargin": true,
           "gridcolor": "white",
           "linecolor": "white",
           "ticks": "",
           "title": {
            "standoff": 15
           },
           "zerolinecolor": "white",
           "zerolinewidth": 2
          },
          "yaxis": {
           "automargin": true,
           "gridcolor": "white",
           "linecolor": "white",
           "ticks": "",
           "title": {
            "standoff": 15
           },
           "zerolinecolor": "white",
           "zerolinewidth": 2
          }
         }
        },
        "title": {
         "text": "Peak memory, RAM size & flash size"
        },
        "xaxis": {
         "anchor": "y",
         "domain": [
          0,
          1
         ],
         "title": {
          "text": "model architecture"
         }
        },
        "yaxis": {
         "anchor": "x",
         "domain": [
          0,
          1
         ],
         "title": {
          "text": "value"
         }
        }
       }
      },
      "text/html": [
       "<div>                            <div id=\"fb55ae73-748d-4bcc-8359-6227f088bf9b\" class=\"plotly-graph-div\" style=\"height:600px; width:100%;\"></div>            <script type=\"text/javascript\">                require([\"plotly\"], function(Plotly) {                    window.PLOTLYENV=window.PLOTLYENV || {};                                    if (document.getElementById(\"fb55ae73-748d-4bcc-8359-6227f088bf9b\")) {                    Plotly.newPlot(                        \"fb55ae73-748d-4bcc-8359-6227f088bf9b\",                        [{\"alignmentgroup\":\"True\",\"hovertemplate\":\"size=RAM_runtime_memory_size_kb_INT8_mltk<br>model architecture=%{x}<br>value=%{y}<extra></extra>\",\"legendgroup\":\"RAM_runtime_memory_size_kb_INT8_mltk\",\"marker\":{\"color\":\"#636efa\",\"pattern\":{\"shape\":\"\"}},\"name\":\"RAM_runtime_memory_size_kb_INT8_mltk\",\"offsetgroup\":\"RAM_runtime_memory_size_kb_INT8_mltk\",\"orientation\":\"v\",\"showlegend\":true,\"textposition\":\"auto\",\"x\":[\"mobilenetv1_0.1_224_c3_o2_l5.GAP\",\"mobilenetv1_0.1_224_c3_o2_l5.MV1\",\"mobilenetv1_0.1_96_c3_o2_l2.MV1\",\"mobilenetv1_0.1_96_c3_o2_l5.GAP\",\"mobilenetv1_0.1_96_c3_o2_l5.MV1\",\"mobilenetv1_0.25_96_c3_o2_l1\",\"mobilenetv1_0.25_96_c3_o2_l2\",\"mobilenetv1_0.25_96_c3_o2_l3\",\"mobilenetv1_0.25_96_c3_o2_l4\",\"mobilenetv1_0.25_96_c3_o2_l5\",\"mobilenetv1_0.35_96_c3_o2_l1\",\"mobilenetv1_0.35_96_c3_o2_l2\",\"mobilenetv1_0.35_96_c3_o2_l3\",\"mobilenetv1_0.35_96_c3_o2_l4\",\"mobilenetv1_0.35_96_c3_o2_l5\",\"mobilenetv1_1_96_c3_o2_l1\",\"mobilenetv1_1_96_c3_o2_l2\",\"mobilenetv1_1_96_c3_o2_l3\",\"mobilenetv1_1_96_c3_o2_l4\",\"mobilenetv1_1_96_c3_o2_l5\",\"mobilenetv1vvw_0.25_96_c3_o2_vvw\"],\"xaxis\":\"x\",\"y\":[308.671875,308.58984375,65.13671875,68.671875,68.58984375,90.11328125,92.4765625,94.83984375,97.203125,99.56640625,122.70703125,125.81640625,129.05078125,132.16015625,135.39453125,274.23828125,282.6015625,290.96484375,299.328125,307.69140625,99.1328125],\"yaxis\":\"y\",\"type\":\"bar\"},{\"alignmentgroup\":\"True\",\"hovertemplate\":\"size=flash_model_size_kb_INT8_mltk<br>model architecture=%{x}<br>value=%{y}<extra></extra>\",\"legendgroup\":\"flash_model_size_kb_INT8_mltk\",\"marker\":{\"color\":\"#EF553B\",\"pattern\":{\"shape\":\"\"}},\"name\":\"flash_model_size_kb_INT8_mltk\",\"offsetgroup\":\"flash_model_size_kb_INT8_mltk\",\"orientation\":\"v\",\"showlegend\":true,\"textposition\":\"auto\",\"x\":[\"mobilenetv1_0.1_224_c3_o2_l5.GAP\",\"mobilenetv1_0.1_224_c3_o2_l5.MV1\",\"mobilenetv1_0.1_96_c3_o2_l2.MV1\",\"mobilenetv1_0.1_96_c3_o2_l5.GAP\",\"mobilenetv1_0.1_96_c3_o2_l5.MV1\",\"mobilenetv1_0.25_96_c3_o2_l1\",\"mobilenetv1_0.25_96_c3_o2_l2\",\"mobilenetv1_0.25_96_c3_o2_l3\",\"mobilenetv1_0.25_96_c3_o2_l4\",\"mobilenetv1_0.25_96_c3_o2_l5\",\"mobilenetv1_0.35_96_c3_o2_l1\",\"mobilenetv1_0.35_96_c3_o2_l2\",\"mobilenetv1_0.35_96_c3_o2_l3\",\"mobilenetv1_0.35_96_c3_o2_l4\",\"mobilenetv1_0.35_96_c3_o2_l5\",\"mobilenetv1_1_96_c3_o2_l1\",\"mobilenetv1_1_96_c3_o2_l2\",\"mobilenetv1_1_96_c3_o2_l3\",\"mobilenetv1_1_96_c3_o2_l4\",\"mobilenetv1_1_96_c3_o2_l5\",\"mobilenetv1vvw_0.25_96_c3_o2_vvw\"],\"xaxis\":\"x\",\"y\":[85.5,85.1328125,64.015625,85.28125,85.1328125,195.0703125,219.8359375,244.6015625,269.3828125,294.171875,336.125,379.03125,421.9375,464.84375,507.7578125,2257.0546875,2543.1953125,2829.3359375,3115.4921875,3401.65625,294.046875],\"yaxis\":\"y\",\"type\":\"bar\"},{\"alignmentgroup\":\"True\",\"hovertemplate\":\"size=peak_memory_kb<br>model architecture=%{x}<br>value=%{y}<extra></extra>\",\"legendgroup\":\"peak_memory_kb\",\"marker\":{\"color\":\"#00cc96\",\"pattern\":{\"shape\":\"\"}},\"name\":\"peak_memory_kb\",\"offsetgroup\":\"peak_memory_kb\",\"orientation\":\"v\",\"showlegend\":true,\"textposition\":\"auto\",\"x\":[\"mobilenetv1_0.1_224_c3_o2_l5.GAP\",\"mobilenetv1_0.1_224_c3_o2_l5.MV1\",\"mobilenetv1_0.1_96_c3_o2_l2.MV1\",\"mobilenetv1_0.1_96_c3_o2_l5.GAP\",\"mobilenetv1_0.1_96_c3_o2_l5.MV1\",\"mobilenetv1_0.25_96_c3_o2_l1\",\"mobilenetv1_0.25_96_c3_o2_l2\",\"mobilenetv1_0.25_96_c3_o2_l3\",\"mobilenetv1_0.25_96_c3_o2_l4\",\"mobilenetv1_0.25_96_c3_o2_l5\",\"mobilenetv1_0.35_96_c3_o2_l1\",\"mobilenetv1_0.35_96_c3_o2_l2\",\"mobilenetv1_0.35_96_c3_o2_l3\",\"mobilenetv1_0.35_96_c3_o2_l4\",\"mobilenetv1_0.35_96_c3_o2_l5\",\"mobilenetv1_1_96_c3_o2_l1\",\"mobilenetv1_1_96_c3_o2_l2\",\"mobilenetv1_1_96_c3_o2_l3\",\"mobilenetv1_1_96_c3_o2_l4\",\"mobilenetv1_1_96_c3_o2_l5\",\"mobilenetv1vvw_0.25_96_c3_o2_vvw\"],\"xaxis\":\"x\",\"y\":[294.0,294.0,54.0,54.0,54.0,54.0,54.0,54.0,54.0,54.0,74.25,74.25,74.25,74.25,74.25,216.0,216.0,216.0,216.0,216.0,54.0],\"yaxis\":\"y\",\"type\":\"bar\"},{\"alignmentgroup\":\"True\",\"hovertemplate\":\"size=tflite_model_INT8_size_kb<br>model architecture=%{x}<br>value=%{y}<extra></extra>\",\"legendgroup\":\"tflite_model_INT8_size_kb\",\"marker\":{\"color\":\"#ab63fa\",\"pattern\":{\"shape\":\"\"}},\"name\":\"tflite_model_INT8_size_kb\",\"offsetgroup\":\"tflite_model_INT8_size_kb\",\"orientation\":\"v\",\"showlegend\":true,\"textposition\":\"auto\",\"x\":[\"mobilenetv1_0.1_224_c3_o2_l5.GAP\",\"mobilenetv1_0.1_224_c3_o2_l5.MV1\",\"mobilenetv1_0.1_96_c3_o2_l2.MV1\",\"mobilenetv1_0.1_96_c3_o2_l5.GAP\",\"mobilenetv1_0.1_96_c3_o2_l5.MV1\",\"mobilenetv1_0.25_96_c3_o2_l1\",\"mobilenetv1_0.25_96_c3_o2_l2\",\"mobilenetv1_0.25_96_c3_o2_l3\",\"mobilenetv1_0.25_96_c3_o2_l4\",\"mobilenetv1_0.25_96_c3_o2_l5\",\"mobilenetv1_0.35_96_c3_o2_l1\",\"mobilenetv1_0.35_96_c3_o2_l2\",\"mobilenetv1_0.35_96_c3_o2_l3\",\"mobilenetv1_0.35_96_c3_o2_l4\",\"mobilenetv1_0.35_96_c3_o2_l5\",\"mobilenetv1_1_96_c3_o2_l1\",\"mobilenetv1_1_96_c3_o2_l2\",\"mobilenetv1_1_96_c3_o2_l3\",\"mobilenetv1_1_96_c3_o2_l4\",\"mobilenetv1_1_96_c3_o2_l5\",\"mobilenetv1vvw_0.25_96_c3_o2_vvw\"],\"xaxis\":\"x\",\"y\":[85.5,85.1328125,64.015625,85.28125,85.1328125,195.0703125,219.8359375,244.6015625,269.3828125,294.171875,336.125,379.03125,421.9375,464.84375,507.7578125,2257.0546875,2543.1953125,2829.3359375,3115.4921875,3401.65625,294.046875],\"yaxis\":\"y\",\"type\":\"bar\"}],                        {\"template\":{\"data\":{\"histogram2dcontour\":[{\"type\":\"histogram2dcontour\",\"colorbar\":{\"outlinewidth\":0,\"ticks\":\"\"},\"colorscale\":[[0.0,\"#0d0887\"],[0.1111111111111111,\"#46039f\"],[0.2222222222222222,\"#7201a8\"],[0.3333333333333333,\"#9c179e\"],[0.4444444444444444,\"#bd3786\"],[0.5555555555555556,\"#d8576b\"],[0.6666666666666666,\"#ed7953\"],[0.7777777777777778,\"#fb9f3a\"],[0.8888888888888888,\"#fdca26\"],[1.0,\"#f0f921\"]]}],\"choropleth\":[{\"type\":\"choropleth\",\"colorbar\":{\"outlinewidth\":0,\"ticks\":\"\"}}],\"histogram2d\":[{\"type\":\"histogram2d\",\"colorbar\":{\"outlinewidth\":0,\"ticks\":\"\"},\"colorscale\":[[0.0,\"#0d0887\"],[0.1111111111111111,\"#46039f\"],[0.2222222222222222,\"#7201a8\"],[0.3333333333333333,\"#9c179e\"],[0.4444444444444444,\"#bd3786\"],[0.5555555555555556,\"#d8576b\"],[0.6666666666666666,\"#ed7953\"],[0.7777777777777778,\"#fb9f3a\"],[0.8888888888888888,\"#fdca26\"],[1.0,\"#f0f921\"]]}],\"heatmap\":[{\"type\":\"heatmap\",\"colorbar\":{\"outlinewidth\":0,\"ticks\":\"\"},\"colorscale\":[[0.0,\"#0d0887\"],[0.1111111111111111,\"#46039f\"],[0.2222222222222222,\"#7201a8\"],[0.3333333333333333,\"#9c179e\"],[0.4444444444444444,\"#bd3786\"],[0.5555555555555556,\"#d8576b\"],[0.6666666666666666,\"#ed7953\"],[0.7777777777777778,\"#fb9f3a\"],[0.8888888888888888,\"#fdca26\"],[1.0,\"#f0f921\"]]}],\"heatmapgl\":[{\"type\":\"heatmapgl\",\"colorbar\":{\"outlinewidth\":0,\"ticks\":\"\"},\"colorscale\":[[0.0,\"#0d0887\"],[0.1111111111111111,\"#46039f\"],[0.2222222222222222,\"#7201a8\"],[0.3333333333333333,\"#9c179e\"],[0.4444444444444444,\"#bd3786\"],[0.5555555555555556,\"#d8576b\"],[0.6666666666666666,\"#ed7953\"],[0.7777777777777778,\"#fb9f3a\"],[0.8888888888888888,\"#fdca26\"],[1.0,\"#f0f921\"]]}],\"contourcarpet\":[{\"type\":\"contourcarpet\",\"colorbar\":{\"outlinewidth\":0,\"ticks\":\"\"}}],\"contour\":[{\"type\":\"contour\",\"colorbar\":{\"outlinewidth\":0,\"ticks\":\"\"},\"colorscale\":[[0.0,\"#0d0887\"],[0.1111111111111111,\"#46039f\"],[0.2222222222222222,\"#7201a8\"],[0.3333333333333333,\"#9c179e\"],[0.4444444444444444,\"#bd3786\"],[0.5555555555555556,\"#d8576b\"],[0.6666666666666666,\"#ed7953\"],[0.7777777777777778,\"#fb9f3a\"],[0.8888888888888888,\"#fdca26\"],[1.0,\"#f0f921\"]]}],\"surface\":[{\"type\":\"surface\",\"colorbar\":{\"outlinewidth\":0,\"ticks\":\"\"},\"colorscale\":[[0.0,\"#0d0887\"],[0.1111111111111111,\"#46039f\"],[0.2222222222222222,\"#7201a8\"],[0.3333333333333333,\"#9c179e\"],[0.4444444444444444,\"#bd3786\"],[0.5555555555555556,\"#d8576b\"],[0.6666666666666666,\"#ed7953\"],[0.7777777777777778,\"#fb9f3a\"],[0.8888888888888888,\"#fdca26\"],[1.0,\"#f0f921\"]]}],\"mesh3d\":[{\"type\":\"mesh3d\",\"colorbar\":{\"outlinewidth\":0,\"ticks\":\"\"}}],\"scatter\":[{\"fillpattern\":{\"fillmode\":\"overlay\",\"size\":10,\"solidity\":0.2},\"type\":\"scatter\"}],\"parcoords\":[{\"type\":\"parcoords\",\"line\":{\"colorbar\":{\"outlinewidth\":0,\"ticks\":\"\"}}}],\"scatterpolargl\":[{\"type\":\"scatterpolargl\",\"marker\":{\"colorbar\":{\"outlinewidth\":0,\"ticks\":\"\"}}}],\"bar\":[{\"error_x\":{\"color\":\"#2a3f5f\"},\"error_y\":{\"color\":\"#2a3f5f\"},\"marker\":{\"line\":{\"color\":\"#E5ECF6\",\"width\":0.5},\"pattern\":{\"fillmode\":\"overlay\",\"size\":10,\"solidity\":0.2}},\"type\":\"bar\"}],\"scattergeo\":[{\"type\":\"scattergeo\",\"marker\":{\"colorbar\":{\"outlinewidth\":0,\"ticks\":\"\"}}}],\"scatterpolar\":[{\"type\":\"scatterpolar\",\"marker\":{\"colorbar\":{\"outlinewidth\":0,\"ticks\":\"\"}}}],\"histogram\":[{\"marker\":{\"pattern\":{\"fillmode\":\"overlay\",\"size\":10,\"solidity\":0.2}},\"type\":\"histogram\"}],\"scattergl\":[{\"type\":\"scattergl\",\"marker\":{\"colorbar\":{\"outlinewidth\":0,\"ticks\":\"\"}}}],\"scatter3d\":[{\"type\":\"scatter3d\",\"line\":{\"colorbar\":{\"outlinewidth\":0,\"ticks\":\"\"}},\"marker\":{\"colorbar\":{\"outlinewidth\":0,\"ticks\":\"\"}}}],\"scattermapbox\":[{\"type\":\"scattermapbox\",\"marker\":{\"colorbar\":{\"outlinewidth\":0,\"ticks\":\"\"}}}],\"scatterternary\":[{\"type\":\"scatterternary\",\"marker\":{\"colorbar\":{\"outlinewidth\":0,\"ticks\":\"\"}}}],\"scattercarpet\":[{\"type\":\"scattercarpet\",\"marker\":{\"colorbar\":{\"outlinewidth\":0,\"ticks\":\"\"}}}],\"carpet\":[{\"aaxis\":{\"endlinecolor\":\"#2a3f5f\",\"gridcolor\":\"white\",\"linecolor\":\"white\",\"minorgridcolor\":\"white\",\"startlinecolor\":\"#2a3f5f\"},\"baxis\":{\"endlinecolor\":\"#2a3f5f\",\"gridcolor\":\"white\",\"linecolor\":\"white\",\"minorgridcolor\":\"white\",\"startlinecolor\":\"#2a3f5f\"},\"type\":\"carpet\"}],\"table\":[{\"cells\":{\"fill\":{\"color\":\"#EBF0F8\"},\"line\":{\"color\":\"white\"}},\"header\":{\"fill\":{\"color\":\"#C8D4E3\"},\"line\":{\"color\":\"white\"}},\"type\":\"table\"}],\"barpolar\":[{\"marker\":{\"line\":{\"color\":\"#E5ECF6\",\"width\":0.5},\"pattern\":{\"fillmode\":\"overlay\",\"size\":10,\"solidity\":0.2}},\"type\":\"barpolar\"}],\"pie\":[{\"automargin\":true,\"type\":\"pie\"}]},\"layout\":{\"autotypenumbers\":\"strict\",\"colorway\":[\"#636efa\",\"#EF553B\",\"#00cc96\",\"#ab63fa\",\"#FFA15A\",\"#19d3f3\",\"#FF6692\",\"#B6E880\",\"#FF97FF\",\"#FECB52\"],\"font\":{\"color\":\"#2a3f5f\"},\"hovermode\":\"closest\",\"hoverlabel\":{\"align\":\"left\"},\"paper_bgcolor\":\"white\",\"plot_bgcolor\":\"#E5ECF6\",\"polar\":{\"bgcolor\":\"#E5ECF6\",\"angularaxis\":{\"gridcolor\":\"white\",\"linecolor\":\"white\",\"ticks\":\"\"},\"radialaxis\":{\"gridcolor\":\"white\",\"linecolor\":\"white\",\"ticks\":\"\"}},\"ternary\":{\"bgcolor\":\"#E5ECF6\",\"aaxis\":{\"gridcolor\":\"white\",\"linecolor\":\"white\",\"ticks\":\"\"},\"baxis\":{\"gridcolor\":\"white\",\"linecolor\":\"white\",\"ticks\":\"\"},\"caxis\":{\"gridcolor\":\"white\",\"linecolor\":\"white\",\"ticks\":\"\"}},\"coloraxis\":{\"colorbar\":{\"outlinewidth\":0,\"ticks\":\"\"}},\"colorscale\":{\"sequential\":[[0.0,\"#0d0887\"],[0.1111111111111111,\"#46039f\"],[0.2222222222222222,\"#7201a8\"],[0.3333333333333333,\"#9c179e\"],[0.4444444444444444,\"#bd3786\"],[0.5555555555555556,\"#d8576b\"],[0.6666666666666666,\"#ed7953\"],[0.7777777777777778,\"#fb9f3a\"],[0.8888888888888888,\"#fdca26\"],[1.0,\"#f0f921\"]],\"sequentialminus\":[[0.0,\"#0d0887\"],[0.1111111111111111,\"#46039f\"],[0.2222222222222222,\"#7201a8\"],[0.3333333333333333,\"#9c179e\"],[0.4444444444444444,\"#bd3786\"],[0.5555555555555556,\"#d8576b\"],[0.6666666666666666,\"#ed7953\"],[0.7777777777777778,\"#fb9f3a\"],[0.8888888888888888,\"#fdca26\"],[1.0,\"#f0f921\"]],\"diverging\":[[0,\"#8e0152\"],[0.1,\"#c51b7d\"],[0.2,\"#de77ae\"],[0.3,\"#f1b6da\"],[0.4,\"#fde0ef\"],[0.5,\"#f7f7f7\"],[0.6,\"#e6f5d0\"],[0.7,\"#b8e186\"],[0.8,\"#7fbc41\"],[0.9,\"#4d9221\"],[1,\"#276419\"]]},\"xaxis\":{\"gridcolor\":\"white\",\"linecolor\":\"white\",\"ticks\":\"\",\"title\":{\"standoff\":15},\"zerolinecolor\":\"white\",\"automargin\":true,\"zerolinewidth\":2},\"yaxis\":{\"gridcolor\":\"white\",\"linecolor\":\"white\",\"ticks\":\"\",\"title\":{\"standoff\":15},\"zerolinecolor\":\"white\",\"automargin\":true,\"zerolinewidth\":2},\"scene\":{\"xaxis\":{\"backgroundcolor\":\"#E5ECF6\",\"gridcolor\":\"white\",\"linecolor\":\"white\",\"showbackground\":true,\"ticks\":\"\",\"zerolinecolor\":\"white\",\"gridwidth\":2},\"yaxis\":{\"backgroundcolor\":\"#E5ECF6\",\"gridcolor\":\"white\",\"linecolor\":\"white\",\"showbackground\":true,\"ticks\":\"\",\"zerolinecolor\":\"white\",\"gridwidth\":2},\"zaxis\":{\"backgroundcolor\":\"#E5ECF6\",\"gridcolor\":\"white\",\"linecolor\":\"white\",\"showbackground\":true,\"ticks\":\"\",\"zerolinecolor\":\"white\",\"gridwidth\":2}},\"shapedefaults\":{\"line\":{\"color\":\"#2a3f5f\"}},\"annotationdefaults\":{\"arrowcolor\":\"#2a3f5f\",\"arrowhead\":0,\"arrowwidth\":1},\"geo\":{\"bgcolor\":\"white\",\"landcolor\":\"#E5ECF6\",\"subunitcolor\":\"white\",\"showland\":true,\"showlakes\":true,\"lakecolor\":\"white\"},\"title\":{\"x\":0.05},\"mapbox\":{\"style\":\"light\"}}},\"xaxis\":{\"anchor\":\"y\",\"domain\":[0.0,1.0],\"title\":{\"text\":\"model architecture\"}},\"yaxis\":{\"anchor\":\"x\",\"domain\":[0.0,1.0],\"title\":{\"text\":\"value\"}},\"legend\":{\"title\":{\"text\":\"size\"},\"tracegroupgap\":0},\"title\":{\"text\":\"Peak memory, RAM size & flash size\"},\"barmode\":\"group\",\"height\":600,\"shapes\":[{\"line\":{\"color\":\"orange\",\"dash\":\"dash\",\"width\":2},\"type\":\"line\",\"x0\":0,\"x1\":1,\"xref\":\"x domain\",\"y0\":87,\"y1\":87,\"yref\":\"y\"},{\"line\":{\"color\":\"blue\",\"dash\":\"dash\",\"width\":2},\"type\":\"line\",\"x0\":0,\"x1\":1,\"xref\":\"x domain\",\"y0\":250,\"y1\":250,\"yref\":\"y\"}],\"annotations\":[{\"showarrow\":false,\"text\":\"87 KB peak activation\",\"x\":0,\"xanchor\":\"left\",\"xref\":\"x domain\",\"y\":87,\"yanchor\":\"bottom\",\"yref\":\"y\"},{\"showarrow\":false,\"text\":\"250 KB flash memory\",\"x\":1,\"xanchor\":\"right\",\"xref\":\"x domain\",\"y\":250,\"yanchor\":\"bottom\",\"yref\":\"y\"}]},                        {\"responsive\": true}                    ).then(function(){\n",
       "                            \n",
       "var gd = document.getElementById('fb55ae73-748d-4bcc-8359-6227f088bf9b');\n",
       "var x = new MutationObserver(function (mutations, observer) {{\n",
       "        var display = window.getComputedStyle(gd).display;\n",
       "        if (!display || display === 'none') {{\n",
       "            console.log([gd, 'removed!']);\n",
       "            Plotly.purge(gd);\n",
       "            observer.disconnect();\n",
       "        }}\n",
       "}});\n",
       "\n",
       "// Listen for the removal of the full notebook cells\n",
       "var notebookContainer = gd.closest('#notebook-container');\n",
       "if (notebookContainer) {{\n",
       "    x.observe(notebookContainer, {childList: true});\n",
       "}}\n",
       "\n",
       "// Listen for the clearing of the current output cell\n",
       "var outputEl = gd.closest('.output');\n",
       "if (outputEl) {{\n",
       "    x.observe(outputEl, {childList: true});\n",
       "}}\n",
       "\n",
       "                        })                };                });            </script>        </div>"
      ]
     },
     "metadata": {},
     "output_type": "display_data"
    }
   ],
   "source": [
    "mbnv1_size_df_long = create_size_df_long(mbnv1_df)\n",
    "mbnv1_memory_fig = memory_fig(mbnv1_size_df_long)"
   ]
  },
  {
   "attachments": {},
   "cell_type": "markdown",
   "metadata": {},
   "source": [
    "# MobileNet V2 Analysis"
   ]
  },
  {
   "cell_type": "code",
   "execution_count": 103,
   "metadata": {},
   "outputs": [
    {
     "name": "stdout",
     "output_type": "stream",
     "text": [
      "Number of models: 40\n"
     ]
    },
    {
     "data": {
      "text/html": [
       "<div>\n",
       "<style scoped>\n",
       "    .dataframe tbody tr th:only-of-type {\n",
       "        vertical-align: middle;\n",
       "    }\n",
       "\n",
       "    .dataframe tbody tr th {\n",
       "        vertical-align: top;\n",
       "    }\n",
       "\n",
       "    .dataframe thead th {\n",
       "        text-align: right;\n",
       "    }\n",
       "</style>\n",
       "<table border=\"1\" class=\"dataframe\">\n",
       "  <thead>\n",
       "    <tr style=\"text-align: right;\">\n",
       "      <th></th>\n",
       "      <th>id</th>\n",
       "      <th>run_name</th>\n",
       "      <th>state</th>\n",
       "      <th>MACs</th>\n",
       "      <th>url</th>\n",
       "      <th>architecture</th>\n",
       "      <th>FLOPs</th>\n",
       "      <th>alpha</th>\n",
       "      <th>classes</th>\n",
       "      <th>img_res</th>\n",
       "      <th>OPS_mltk</th>\n",
       "      <th>channels</th>\n",
       "      <th>macs_mltk</th>\n",
       "      <th>variation</th>\n",
       "      <th>energy_mltk</th>\n",
       "      <th>total_params</th>\n",
       "      <th>OPS_INT8_mltk</th>\n",
       "      <th>model_size_kb</th>\n",
       "      <th>peak_memory_b</th>\n",
       "      <th>macs_INT8_mltk</th>\n",
       "      <th>energy_INT8_mltk</th>\n",
       "      <th>trainable_params</th>\n",
       "      <th>non_trainable_params</th>\n",
       "      <th>tflite_model_size_kb</th>\n",
       "      <th>flash_model_size_b_mltk</th>\n",
       "      <th>n_unsupported_layers_mltk</th>\n",
       "      <th>tflite_model_INT8_size_kb</th>\n",
       "      <th>flash_model_size_b__INT8_mltk</th>\n",
       "      <th>RAM_runtime_memory_size_b_mltk</th>\n",
       "      <th>n_unsupported_layers_INT8_mltk</th>\n",
       "      <th>RAM_runtime_memory_size_b_INT8_mltk</th>\n",
       "      <th>tags</th>\n",
       "      <th>created_at</th>\n",
       "      <th>path</th>\n",
       "      <th>notes</th>\n",
       "      <th>test_accuracy</th>\n",
       "      <th>peak_memory_kb</th>\n",
       "      <th>flash_model_size_kb_INT8_mltk</th>\n",
       "      <th>RAM_runtime_memory_size_kb_INT8_mltk</th>\n",
       "    </tr>\n",
       "  </thead>\n",
       "  <tbody>\n",
       "    <tr>\n",
       "      <th>20</th>\n",
       "      <td>f8jsvkj6</td>\n",
       "      <td>mobilenetv2_0.1_96_c3_o2_t3l1024.MV1</td>\n",
       "      <td>finished</td>\n",
       "      <td>1.298 M</td>\n",
       "      <td>https://wandb.ai/susbrock/model_DB/runs/f8jsvkj6</td>\n",
       "      <td>mobilenetv2_0.1_96_c3_o2_t3l1024.MV1</td>\n",
       "      <td>2.782 M</td>\n",
       "      <td>0.1</td>\n",
       "      <td>2</td>\n",
       "      <td>96</td>\n",
       "      <td>2876085</td>\n",
       "      <td>3</td>\n",
       "      <td>1298435</td>\n",
       "      <td>t3l1024.MV1</td>\n",
       "      <td>0.002935</td>\n",
       "      <td>53810</td>\n",
       "      <td>2986685</td>\n",
       "      <td>666.367188</td>\n",
       "      <td>55296.0</td>\n",
       "      <td>1298435</td>\n",
       "      <td>0.003134</td>\n",
       "      <td>50084</td>\n",
       "      <td>3726</td>\n",
       "      <td>215.406250</td>\n",
       "      <td>220576</td>\n",
       "      <td>0</td>\n",
       "      <td>132.890625</td>\n",
       "      <td>136080</td>\n",
       "      <td>210464</td>\n",
       "      <td>0</td>\n",
       "      <td>82356</td>\n",
       "      <td>[]</td>\n",
       "      <td>2023-02-25T10:40:40</td>\n",
       "      <td>[susbrock, model_DB, f8jsvkj6]</td>\n",
       "      <td>None</td>\n",
       "      <td>0.0</td>\n",
       "      <td>54.0</td>\n",
       "      <td>132.890625</td>\n",
       "      <td>80.425781</td>\n",
       "    </tr>\n",
       "    <tr>\n",
       "      <th>23</th>\n",
       "      <td>l2ngjsr1</td>\n",
       "      <td>mobilenetv2_0.1_96_c3_o2_t6l1024.MV1</td>\n",
       "      <td>finished</td>\n",
       "      <td>1.618 M</td>\n",
       "      <td>https://wandb.ai/susbrock/model_DB/runs/l2ngjsr1</td>\n",
       "      <td>mobilenetv2_0.1_96_c3_o2_t6l1024.MV1</td>\n",
       "      <td>3.500 M</td>\n",
       "      <td>0.1</td>\n",
       "      <td>2</td>\n",
       "      <td>96</td>\n",
       "      <td>3633732</td>\n",
       "      <td>3</td>\n",
       "      <td>1617926</td>\n",
       "      <td>t6l1024.MV1</td>\n",
       "      <td>0.003311</td>\n",
       "      <td>67766</td>\n",
       "      <td>3744332</td>\n",
       "      <td>720.851562</td>\n",
       "      <td>55296.0</td>\n",
       "      <td>1617926</td>\n",
       "      <td>0.003511</td>\n",
       "      <td>62684</td>\n",
       "      <td>5082</td>\n",
       "      <td>259.789062</td>\n",
       "      <td>266024</td>\n",
       "      <td>0</td>\n",
       "      <td>159.921875</td>\n",
       "      <td>163760</td>\n",
       "      <td>215688</td>\n",
       "      <td>0</td>\n",
       "      <td>87500</td>\n",
       "      <td>[]</td>\n",
       "      <td>2023-02-25T10:34:05</td>\n",
       "      <td>[susbrock, model_DB, l2ngjsr1]</td>\n",
       "      <td>None</td>\n",
       "      <td>0.0</td>\n",
       "      <td>54.0</td>\n",
       "      <td>159.921875</td>\n",
       "      <td>85.449219</td>\n",
       "    </tr>\n",
       "    <tr>\n",
       "      <th>22</th>\n",
       "      <td>2vtocbic</td>\n",
       "      <td>mobilenetv2_0.1_96_c3_o2_t5l1024.MV1</td>\n",
       "      <td>finished</td>\n",
       "      <td>1.511 M</td>\n",
       "      <td>https://wandb.ai/susbrock/model_DB/runs/2vtocbic</td>\n",
       "      <td>mobilenetv2_0.1_96_c3_o2_t5l1024.MV1</td>\n",
       "      <td>3.261 M</td>\n",
       "      <td>0.1</td>\n",
       "      <td>2</td>\n",
       "      <td>96</td>\n",
       "      <td>3381183</td>\n",
       "      <td>3</td>\n",
       "      <td>1511429</td>\n",
       "      <td>t5l1024.MV1</td>\n",
       "      <td>0.003114</td>\n",
       "      <td>63114</td>\n",
       "      <td>3491783</td>\n",
       "      <td>703.601562</td>\n",
       "      <td>55296.0</td>\n",
       "      <td>1511429</td>\n",
       "      <td>0.003314</td>\n",
       "      <td>58484</td>\n",
       "      <td>4630</td>\n",
       "      <td>245.085938</td>\n",
       "      <td>250968</td>\n",
       "      <td>0</td>\n",
       "      <td>150.882812</td>\n",
       "      <td>154504</td>\n",
       "      <td>214140</td>\n",
       "      <td>0</td>\n",
       "      <td>85940</td>\n",
       "      <td>[]</td>\n",
       "      <td>2023-02-25T10:36:19</td>\n",
       "      <td>[susbrock, model_DB, 2vtocbic]</td>\n",
       "      <td>None</td>\n",
       "      <td>0.0</td>\n",
       "      <td>54.0</td>\n",
       "      <td>150.882812</td>\n",
       "      <td>83.925781</td>\n",
       "    </tr>\n",
       "    <tr>\n",
       "      <th>55</th>\n",
       "      <td>r7tokmwg</td>\n",
       "      <td>mobilenetv2_0.1_96_c3_o2_l5</td>\n",
       "      <td>finished</td>\n",
       "      <td>1.692 M</td>\n",
       "      <td>https://wandb.ai/susbrock/model_DB/runs/r7tokmwg</td>\n",
       "      <td>mobilenetv2_0.1_96_c3_o2_l5</td>\n",
       "      <td>3.643 M</td>\n",
       "      <td>0.1</td>\n",
       "      <td>2</td>\n",
       "      <td>96</td>\n",
       "      <td>3778886</td>\n",
       "      <td>3</td>\n",
       "      <td>1692166</td>\n",
       "      <td>l5</td>\n",
       "      <td>0.003322</td>\n",
       "      <td>77494</td>\n",
       "      <td>3889486</td>\n",
       "      <td>760.898438</td>\n",
       "      <td>55296.0</td>\n",
       "      <td>1692166</td>\n",
       "      <td>0.003521</td>\n",
       "      <td>71900</td>\n",
       "      <td>5594</td>\n",
       "      <td>295.679688</td>\n",
       "      <td>302776</td>\n",
       "      <td>0</td>\n",
       "      <td>176.492188</td>\n",
       "      <td>180728</td>\n",
       "      <td>218192</td>\n",
       "      <td>0</td>\n",
       "      <td>108936</td>\n",
       "      <td>[]</td>\n",
       "      <td>2023-02-11T21:12:26</td>\n",
       "      <td>[susbrock, model_DB, r7tokmwg]</td>\n",
       "      <td>None</td>\n",
       "      <td>0.0</td>\n",
       "      <td>54.0</td>\n",
       "      <td>176.492188</td>\n",
       "      <td>106.382812</td>\n",
       "    </tr>\n",
       "    <tr>\n",
       "      <th>21</th>\n",
       "      <td>6oq96cks</td>\n",
       "      <td>mobilenetv2_0.1_96_c3_o2_t4l1024.MV1</td>\n",
       "      <td>finished</td>\n",
       "      <td>1.405 M</td>\n",
       "      <td>https://wandb.ai/susbrock/model_DB/runs/6oq96cks</td>\n",
       "      <td>mobilenetv2_0.1_96_c3_o2_t4l1024.MV1</td>\n",
       "      <td>3.021 M</td>\n",
       "      <td>0.1</td>\n",
       "      <td>2</td>\n",
       "      <td>96</td>\n",
       "      <td>3128634</td>\n",
       "      <td>3</td>\n",
       "      <td>1404932</td>\n",
       "      <td>t4l1024.MV1</td>\n",
       "      <td>0.003029</td>\n",
       "      <td>58462</td>\n",
       "      <td>3239234</td>\n",
       "      <td>684.351562</td>\n",
       "      <td>55296.0</td>\n",
       "      <td>1404932</td>\n",
       "      <td>0.003228</td>\n",
       "      <td>54284</td>\n",
       "      <td>4178</td>\n",
       "      <td>230.234375</td>\n",
       "      <td>235760</td>\n",
       "      <td>0</td>\n",
       "      <td>141.710938</td>\n",
       "      <td>145112</td>\n",
       "      <td>211848</td>\n",
       "      <td>0</td>\n",
       "      <td>83688</td>\n",
       "      <td>[]</td>\n",
       "      <td>2023-02-25T10:38:38</td>\n",
       "      <td>[susbrock, model_DB, 6oq96cks]</td>\n",
       "      <td>None</td>\n",
       "      <td>0.0</td>\n",
       "      <td>54.0</td>\n",
       "      <td>141.710938</td>\n",
       "      <td>81.726562</td>\n",
       "    </tr>\n",
       "  </tbody>\n",
       "</table>\n",
       "</div>"
      ],
      "text/plain": [
       "          id                              run_name     state     MACs  \\\n",
       "20  f8jsvkj6  mobilenetv2_0.1_96_c3_o2_t3l1024.MV1  finished  1.298 M   \n",
       "23  l2ngjsr1  mobilenetv2_0.1_96_c3_o2_t6l1024.MV1  finished  1.618 M   \n",
       "22  2vtocbic  mobilenetv2_0.1_96_c3_o2_t5l1024.MV1  finished  1.511 M   \n",
       "55  r7tokmwg           mobilenetv2_0.1_96_c3_o2_l5  finished  1.692 M   \n",
       "21  6oq96cks  mobilenetv2_0.1_96_c3_o2_t4l1024.MV1  finished  1.405 M   \n",
       "\n",
       "                                                 url  \\\n",
       "20  https://wandb.ai/susbrock/model_DB/runs/f8jsvkj6   \n",
       "23  https://wandb.ai/susbrock/model_DB/runs/l2ngjsr1   \n",
       "22  https://wandb.ai/susbrock/model_DB/runs/2vtocbic   \n",
       "55  https://wandb.ai/susbrock/model_DB/runs/r7tokmwg   \n",
       "21  https://wandb.ai/susbrock/model_DB/runs/6oq96cks   \n",
       "\n",
       "                            architecture    FLOPs alpha  classes  img_res  \\\n",
       "20  mobilenetv2_0.1_96_c3_o2_t3l1024.MV1  2.782 M   0.1        2       96   \n",
       "23  mobilenetv2_0.1_96_c3_o2_t6l1024.MV1  3.500 M   0.1        2       96   \n",
       "22  mobilenetv2_0.1_96_c3_o2_t5l1024.MV1  3.261 M   0.1        2       96   \n",
       "55           mobilenetv2_0.1_96_c3_o2_l5  3.643 M   0.1        2       96   \n",
       "21  mobilenetv2_0.1_96_c3_o2_t4l1024.MV1  3.021 M   0.1        2       96   \n",
       "\n",
       "    OPS_mltk  channels  macs_mltk    variation  energy_mltk  total_params  \\\n",
       "20   2876085         3    1298435  t3l1024.MV1     0.002935         53810   \n",
       "23   3633732         3    1617926  t6l1024.MV1     0.003311         67766   \n",
       "22   3381183         3    1511429  t5l1024.MV1     0.003114         63114   \n",
       "55   3778886         3    1692166           l5     0.003322         77494   \n",
       "21   3128634         3    1404932  t4l1024.MV1     0.003029         58462   \n",
       "\n",
       "    OPS_INT8_mltk  model_size_kb  peak_memory_b  macs_INT8_mltk  \\\n",
       "20        2986685     666.367188        55296.0         1298435   \n",
       "23        3744332     720.851562        55296.0         1617926   \n",
       "22        3491783     703.601562        55296.0         1511429   \n",
       "55        3889486     760.898438        55296.0         1692166   \n",
       "21        3239234     684.351562        55296.0         1404932   \n",
       "\n",
       "    energy_INT8_mltk  trainable_params  non_trainable_params  \\\n",
       "20          0.003134             50084                  3726   \n",
       "23          0.003511             62684                  5082   \n",
       "22          0.003314             58484                  4630   \n",
       "55          0.003521             71900                  5594   \n",
       "21          0.003228             54284                  4178   \n",
       "\n",
       "    tflite_model_size_kb  flash_model_size_b_mltk  n_unsupported_layers_mltk  \\\n",
       "20            215.406250                   220576                          0   \n",
       "23            259.789062                   266024                          0   \n",
       "22            245.085938                   250968                          0   \n",
       "55            295.679688                   302776                          0   \n",
       "21            230.234375                   235760                          0   \n",
       "\n",
       "    tflite_model_INT8_size_kb  flash_model_size_b__INT8_mltk  \\\n",
       "20                 132.890625                         136080   \n",
       "23                 159.921875                         163760   \n",
       "22                 150.882812                         154504   \n",
       "55                 176.492188                         180728   \n",
       "21                 141.710938                         145112   \n",
       "\n",
       "    RAM_runtime_memory_size_b_mltk  n_unsupported_layers_INT8_mltk  \\\n",
       "20                          210464                               0   \n",
       "23                          215688                               0   \n",
       "22                          214140                               0   \n",
       "55                          218192                               0   \n",
       "21                          211848                               0   \n",
       "\n",
       "    RAM_runtime_memory_size_b_INT8_mltk tags           created_at  \\\n",
       "20                                82356   []  2023-02-25T10:40:40   \n",
       "23                                87500   []  2023-02-25T10:34:05   \n",
       "22                                85940   []  2023-02-25T10:36:19   \n",
       "55                               108936   []  2023-02-11T21:12:26   \n",
       "21                                83688   []  2023-02-25T10:38:38   \n",
       "\n",
       "                              path notes  test_accuracy  peak_memory_kb  \\\n",
       "20  [susbrock, model_DB, f8jsvkj6]  None            0.0            54.0   \n",
       "23  [susbrock, model_DB, l2ngjsr1]  None            0.0            54.0   \n",
       "22  [susbrock, model_DB, 2vtocbic]  None            0.0            54.0   \n",
       "55  [susbrock, model_DB, r7tokmwg]  None            0.0            54.0   \n",
       "21  [susbrock, model_DB, 6oq96cks]  None            0.0            54.0   \n",
       "\n",
       "    flash_model_size_kb_INT8_mltk  RAM_runtime_memory_size_kb_INT8_mltk  \n",
       "20                     132.890625                             80.425781  \n",
       "23                     159.921875                             85.449219  \n",
       "22                     150.882812                             83.925781  \n",
       "55                     176.492188                            106.382812  \n",
       "21                     141.710938                             81.726562  "
      ]
     },
     "execution_count": 103,
     "metadata": {},
     "output_type": "execute_result"
    }
   ],
   "source": [
    "mbnv2_df = get_model_family_df(\"mobilenetv2\")\n",
    "mbnv2_df.head()"
   ]
  },
  {
   "cell_type": "code",
   "execution_count": 68,
   "metadata": {},
   "outputs": [
    {
     "data": {
      "application/vnd.plotly.v1+json": {
       "config": {
        "plotlyServerURL": "https://plot.ly"
       },
       "data": [
        {
         "customdata": [
          [
           "mobilenetv2_0.1_96_c3_o2_t3l1024.MV1",
           "0.1",
           53810
          ],
          [
           "mobilenetv2_0.1_96_c3_o2_t6l1024.MV1",
           "0.1",
           67766
          ],
          [
           "mobilenetv2_0.1_96_c3_o2_t5l1024.MV1",
           "0.1",
           63114
          ],
          [
           "mobilenetv2_0.1_96_c3_o2_l5",
           "0.1",
           77494
          ],
          [
           "mobilenetv2_0.1_96_c3_o2_t4l1024.MV1",
           "0.1",
           58462
          ],
          [
           "mobilenetv2_0.1_96_c3_o2_t2l1024.MV1",
           "0.1",
           49158
          ],
          [
           "mobilenetv2_0.1_96_c3_o2_t1l1024.MV1",
           "0.1",
           44506
          ],
          [
           "mobilenetv2_0.1_96_c3_o2_t6l128.MV1",
           "0.1",
           33718
          ],
          [
           "mobilenetv2_0.1_96_c3_o2_t6l256.MV1",
           "0.1",
           38582
          ],
          [
           "mobilenetv2_0.1_96_c3_o2_t6l512.MV1",
           "0.1",
           48310
          ]
         ],
         "hovertemplate": "alpha=%{customdata[1]}<br>MACs=%{x}<br>INT8 model size in kB=%{y}<br>parameters=%{customdata[2]}<br>run_name=%{customdata[0]}<extra></extra>",
         "legendgroup": "0.1",
         "marker": {
          "color": "#636efa",
          "size": [
           53810,
           67766,
           63114,
           77494,
           58462,
           49158,
           44506,
           33718,
           38582,
           48310
          ],
          "sizemode": "area",
          "sizeref": 5651.365,
          "symbol": "circle"
         },
         "mode": "markers",
         "name": "0.1",
         "orientation": "v",
         "showlegend": true,
         "type": "scatter",
         "x": [
          1298435,
          1617926,
          1511429,
          1692166,
          1404932,
          1191938,
          1085441,
          1358086,
          1395206,
          1469446
         ],
         "xaxis": "x",
         "y": [
          132.890625,
          159.921875,
          150.8828125,
          176.4921875,
          141.7109375,
          123.59375,
          114.5703125,
          105.671875,
          113.421875,
          128.921875
         ],
         "yaxis": "y"
        },
        {
         "customdata": [
          [
           "mobilenetv2_0.2_96_c3_o2_t6l1024.MV1",
           "0.2",
           163666
          ],
          [
           "mobilenetv2_0.2_96_c3_o2_t5l1024.MV1",
           "0.2",
           148594
          ],
          [
           "mobilenetv2_0.2_96_c3_o2_t5l256.MV1",
           "0.2",
           94834
          ],
          [
           "mobilenetv2_0.2_96_c3_o2_t5l128.MV1",
           "0.2",
           85874
          ],
          [
           "mobilenetv2_0.2_96_c3_o2_t6l128.MV1",
           "0.2",
           100946
          ],
          [
           "mobilenetv2_0.2_96_c3_o2_t6l256.MV1",
           "0.2",
           109906
          ],
          [
           "mobilenetv2_0.2_96_c3_o2_t6l512.MV1",
           "0.2",
           127826
          ],
          [
           "mobilenetv2_0.2_96_c3_o2_l5",
           "0.2",
           181586
          ],
          [
           "mobilenetv2_0.2_96_c3_o2_t5l512.MV1",
           "0.2",
           112754
          ]
         ],
         "hovertemplate": "alpha=%{customdata[1]}<br>MACs=%{x}<br>INT8 model size in kB=%{y}<br>parameters=%{customdata[2]}<br>run_name=%{customdata[0]}<extra></extra>",
         "legendgroup": "0.2",
         "marker": {
          "color": "#EF553B",
          "size": [
           163666,
           148594,
           94834,
           85874,
           100946,
           109906,
           127826,
           181586,
           112754
          ],
          "sizemode": "area",
          "sizeref": 5651.365,
          "symbol": "circle"
         },
         "mode": "markers",
         "name": "0.2",
         "orientation": "v",
         "showlegend": true,
         "type": "scatter",
         "x": [
          3487946,
          3125075,
          2681171,
          2607187,
          2970058,
          3044042,
          3192010,
          3635914,
          2829139
         ],
         "xaxis": "x",
         "y": [
          285.0859375,
          261.1015625,
          190.6015625,
          178.8515625,
          202.8359375,
          214.5859375,
          238.0859375,
          309.6328125,
          214.1015625
         ],
         "yaxis": "y"
        },
        {
         "customdata": [
          [
           "mobilenetv2_0.25_96_c3_o2_t4l1024.MV1",
           "0.25",
           181522
          ],
          [
           "mobilenetv2_0.25_96_c3_o2_t6l1024.MV1",
           "0.25",
           227306
          ],
          [
           "mobilenetv2_0.25_96_c3_o2_t5l1024.MV1",
           "0.25",
           204414
          ],
          [
           "mobilenetv2_0.25_96_c3_o2_t6l1024.GAP",
           "0.25",
           227306
          ],
          [
           "mobilenetv2_0.25_96_c3_o2_l5",
           "0.25",
           249322
          ],
          [
           "mobilenetv2_0.25_96_c3_o2_t3l1024.MV1",
           "0.25",
           158630
          ],
          [
           "mobilenetv2_0.25_96_c3_o2_t5l512.MV1",
           "0.25",
           160382
          ],
          [
           "mobilenetv2_0.25_96_c3_o2_t1l1024.MV1",
           "0.25",
           112846
          ],
          [
           "mobilenetv2_0.25_96_c3_o2_t6l512.MV1",
           "0.25",
           183274
          ],
          [
           "mobilenetv2_0.25_96_c3_o2_t6l256.MV1",
           "0.25",
           161258
          ],
          [
           "mobilenetv2_0.25_96_c3_o2_t6l128.MV1",
           "0.25",
           150250
          ],
          [
           "mobilenetv2_0.25_96_c3_o2_t5l128.MV1",
           "0.25",
           127358
          ],
          [
           "mobilenetv2_0.25_96_c3_o2_t5l256.MV1",
           "0.25",
           138366
          ],
          [
           "mobilenetv2_0.25_96_c3_o2_t2l1024.MV1",
           "0.25",
           135738
          ],
          [
           "mobilenetv2_0.25_96_c3_o2_keras",
           "0.25",
           251330
          ]
         ],
         "hovertemplate": "alpha=%{customdata[1]}<br>MACs=%{x}<br>INT8 model size in kB=%{y}<br>parameters=%{customdata[2]}<br>run_name=%{customdata[0]}<extra></extra>",
         "legendgroup": "0.25",
         "marker": {
          "color": "#00cc96",
          "size": [
           181522,
           227306,
           204414,
           227306,
           249322,
           158630,
           160382,
           112846,
           183274,
           161258,
           150250,
           127358,
           138366,
           135738,
           251330
          ],
          "sizemode": "area",
          "sizeref": 5651.365,
          "symbol": "circle"
         },
         "mode": "markers",
         "name": "0.25",
         "orientation": "v",
         "showlegend": true,
         "type": "scatter",
         "x": [
          3848000,
          5033696,
          4440848,
          5033696,
          5218528,
          3255152,
          4071184,
          2069456,
          4664032,
          4479200,
          4386784,
          3793936,
          3886352,
          2662304,
          6600352
         ],
         "xaxis": "x",
         "y": [
          296.390625,
          364.9765625,
          330.53125,
          365.3359375,
          393.5234375,
          262.1875,
          275.53125,
          193.1328125,
          309.9765625,
          282.4765625,
          268.7265625,
          234.28125,
          248.03125,
          227.5390625,
          401.3515625
         ],
         "yaxis": "y"
        },
        {
         "customdata": [
          [
           "mobilenetv2_0.35_96_c3_o2_keras",
           "0.35",
           412770
          ],
          [
           "mobilenetv2_0.35_96_c3_o2_l5",
           "0.35",
           402934
          ]
         ],
         "hovertemplate": "alpha=%{customdata[1]}<br>MACs=%{x}<br>INT8 model size in kB=%{y}<br>parameters=%{customdata[2]}<br>run_name=%{customdata[0]}<extra></extra>",
         "legendgroup": "0.35",
         "marker": {
          "color": "#ab63fa",
          "size": [
           412770,
           402934
          ],
          "sizemode": "area",
          "sizeref": 5651.365,
          "symbol": "circle"
         },
         "mode": "markers",
         "name": "0.35",
         "orientation": "v",
         "showlegend": true,
         "type": "scatter",
         "x": [
          10656688,
          9008662
         ],
         "xaxis": "x",
         "y": [
          593.578125,
          574.3359375
         ],
         "yaxis": "y"
        },
        {
         "customdata": [
          [
           "mobilenetv2_0.5_96_c3_o2_l5",
           "0.5",
           705346
          ],
          [
           "mobilenetv2_0.5_96_c3_o2_keras",
           "0.5",
           708786
          ]
         ],
         "hovertemplate": "alpha=%{customdata[1]}<br>MACs=%{x}<br>INT8 model size in kB=%{y}<br>parameters=%{customdata[2]}<br>run_name=%{customdata[0]}<extra></extra>",
         "legendgroup": "0.5",
         "marker": {
          "color": "#FFA15A",
          "size": [
           705346,
           708786
          ],
          "sizemode": "area",
          "sizeref": 5651.365,
          "symbol": "circle"
         },
         "mode": "markers",
         "name": "0.5",
         "orientation": "v",
         "showlegend": true,
         "type": "scatter",
         "x": [
          16125376,
          17608000
         ],
         "xaxis": "x",
         "y": [
          918.7890625,
          927.6640625
         ],
         "yaxis": "y"
        },
        {
         "customdata": [
          [
           "mobilenetv2_1_96_c3_o2_l5",
           "1.0",
           2260546
          ],
          [
           "mobilenetv2_1_96_c3_o2_keras",
           "1.0",
           2260546
          ]
         ],
         "hovertemplate": "alpha=%{customdata[1]}<br>MACs=%{x}<br>INT8 model size in kB=%{y}<br>parameters=%{customdata[2]}<br>run_name=%{customdata[0]}<extra></extra>",
         "legendgroup": "1.0",
         "marker": {
          "color": "#19d3f3",
          "size": [
           2260546,
           2260546
          ],
          "sizemode": "area",
          "sizeref": 5651.365,
          "symbol": "circle"
         },
         "mode": "markers",
         "name": "1.0",
         "orientation": "v",
         "showlegend": true,
         "type": "scatter",
         "x": [
          55011712,
          55011712
         ],
         "xaxis": "x",
         "y": [
          2597.3984375,
          2601.1171875
         ],
         "yaxis": "y"
        }
       ],
       "layout": {
        "height": 400,
        "legend": {
         "itemsizing": "constant",
         "title": {
          "text": "alpha"
         },
         "tracegroupgap": 0
        },
        "showlegend": true,
        "template": {
         "data": {
          "bar": [
           {
            "error_x": {
             "color": "#2a3f5f"
            },
            "error_y": {
             "color": "#2a3f5f"
            },
            "marker": {
             "line": {
              "color": "#E5ECF6",
              "width": 0.5
             },
             "pattern": {
              "fillmode": "overlay",
              "size": 10,
              "solidity": 0.2
             }
            },
            "type": "bar"
           }
          ],
          "barpolar": [
           {
            "marker": {
             "line": {
              "color": "#E5ECF6",
              "width": 0.5
             },
             "pattern": {
              "fillmode": "overlay",
              "size": 10,
              "solidity": 0.2
             }
            },
            "type": "barpolar"
           }
          ],
          "carpet": [
           {
            "aaxis": {
             "endlinecolor": "#2a3f5f",
             "gridcolor": "white",
             "linecolor": "white",
             "minorgridcolor": "white",
             "startlinecolor": "#2a3f5f"
            },
            "baxis": {
             "endlinecolor": "#2a3f5f",
             "gridcolor": "white",
             "linecolor": "white",
             "minorgridcolor": "white",
             "startlinecolor": "#2a3f5f"
            },
            "type": "carpet"
           }
          ],
          "choropleth": [
           {
            "colorbar": {
             "outlinewidth": 0,
             "ticks": ""
            },
            "type": "choropleth"
           }
          ],
          "contour": [
           {
            "colorbar": {
             "outlinewidth": 0,
             "ticks": ""
            },
            "colorscale": [
             [
              0,
              "#0d0887"
             ],
             [
              0.1111111111111111,
              "#46039f"
             ],
             [
              0.2222222222222222,
              "#7201a8"
             ],
             [
              0.3333333333333333,
              "#9c179e"
             ],
             [
              0.4444444444444444,
              "#bd3786"
             ],
             [
              0.5555555555555556,
              "#d8576b"
             ],
             [
              0.6666666666666666,
              "#ed7953"
             ],
             [
              0.7777777777777778,
              "#fb9f3a"
             ],
             [
              0.8888888888888888,
              "#fdca26"
             ],
             [
              1,
              "#f0f921"
             ]
            ],
            "type": "contour"
           }
          ],
          "contourcarpet": [
           {
            "colorbar": {
             "outlinewidth": 0,
             "ticks": ""
            },
            "type": "contourcarpet"
           }
          ],
          "heatmap": [
           {
            "colorbar": {
             "outlinewidth": 0,
             "ticks": ""
            },
            "colorscale": [
             [
              0,
              "#0d0887"
             ],
             [
              0.1111111111111111,
              "#46039f"
             ],
             [
              0.2222222222222222,
              "#7201a8"
             ],
             [
              0.3333333333333333,
              "#9c179e"
             ],
             [
              0.4444444444444444,
              "#bd3786"
             ],
             [
              0.5555555555555556,
              "#d8576b"
             ],
             [
              0.6666666666666666,
              "#ed7953"
             ],
             [
              0.7777777777777778,
              "#fb9f3a"
             ],
             [
              0.8888888888888888,
              "#fdca26"
             ],
             [
              1,
              "#f0f921"
             ]
            ],
            "type": "heatmap"
           }
          ],
          "heatmapgl": [
           {
            "colorbar": {
             "outlinewidth": 0,
             "ticks": ""
            },
            "colorscale": [
             [
              0,
              "#0d0887"
             ],
             [
              0.1111111111111111,
              "#46039f"
             ],
             [
              0.2222222222222222,
              "#7201a8"
             ],
             [
              0.3333333333333333,
              "#9c179e"
             ],
             [
              0.4444444444444444,
              "#bd3786"
             ],
             [
              0.5555555555555556,
              "#d8576b"
             ],
             [
              0.6666666666666666,
              "#ed7953"
             ],
             [
              0.7777777777777778,
              "#fb9f3a"
             ],
             [
              0.8888888888888888,
              "#fdca26"
             ],
             [
              1,
              "#f0f921"
             ]
            ],
            "type": "heatmapgl"
           }
          ],
          "histogram": [
           {
            "marker": {
             "pattern": {
              "fillmode": "overlay",
              "size": 10,
              "solidity": 0.2
             }
            },
            "type": "histogram"
           }
          ],
          "histogram2d": [
           {
            "colorbar": {
             "outlinewidth": 0,
             "ticks": ""
            },
            "colorscale": [
             [
              0,
              "#0d0887"
             ],
             [
              0.1111111111111111,
              "#46039f"
             ],
             [
              0.2222222222222222,
              "#7201a8"
             ],
             [
              0.3333333333333333,
              "#9c179e"
             ],
             [
              0.4444444444444444,
              "#bd3786"
             ],
             [
              0.5555555555555556,
              "#d8576b"
             ],
             [
              0.6666666666666666,
              "#ed7953"
             ],
             [
              0.7777777777777778,
              "#fb9f3a"
             ],
             [
              0.8888888888888888,
              "#fdca26"
             ],
             [
              1,
              "#f0f921"
             ]
            ],
            "type": "histogram2d"
           }
          ],
          "histogram2dcontour": [
           {
            "colorbar": {
             "outlinewidth": 0,
             "ticks": ""
            },
            "colorscale": [
             [
              0,
              "#0d0887"
             ],
             [
              0.1111111111111111,
              "#46039f"
             ],
             [
              0.2222222222222222,
              "#7201a8"
             ],
             [
              0.3333333333333333,
              "#9c179e"
             ],
             [
              0.4444444444444444,
              "#bd3786"
             ],
             [
              0.5555555555555556,
              "#d8576b"
             ],
             [
              0.6666666666666666,
              "#ed7953"
             ],
             [
              0.7777777777777778,
              "#fb9f3a"
             ],
             [
              0.8888888888888888,
              "#fdca26"
             ],
             [
              1,
              "#f0f921"
             ]
            ],
            "type": "histogram2dcontour"
           }
          ],
          "mesh3d": [
           {
            "colorbar": {
             "outlinewidth": 0,
             "ticks": ""
            },
            "type": "mesh3d"
           }
          ],
          "parcoords": [
           {
            "line": {
             "colorbar": {
              "outlinewidth": 0,
              "ticks": ""
             }
            },
            "type": "parcoords"
           }
          ],
          "pie": [
           {
            "automargin": true,
            "type": "pie"
           }
          ],
          "scatter": [
           {
            "fillpattern": {
             "fillmode": "overlay",
             "size": 10,
             "solidity": 0.2
            },
            "type": "scatter"
           }
          ],
          "scatter3d": [
           {
            "line": {
             "colorbar": {
              "outlinewidth": 0,
              "ticks": ""
             }
            },
            "marker": {
             "colorbar": {
              "outlinewidth": 0,
              "ticks": ""
             }
            },
            "type": "scatter3d"
           }
          ],
          "scattercarpet": [
           {
            "marker": {
             "colorbar": {
              "outlinewidth": 0,
              "ticks": ""
             }
            },
            "type": "scattercarpet"
           }
          ],
          "scattergeo": [
           {
            "marker": {
             "colorbar": {
              "outlinewidth": 0,
              "ticks": ""
             }
            },
            "type": "scattergeo"
           }
          ],
          "scattergl": [
           {
            "marker": {
             "colorbar": {
              "outlinewidth": 0,
              "ticks": ""
             }
            },
            "type": "scattergl"
           }
          ],
          "scattermapbox": [
           {
            "marker": {
             "colorbar": {
              "outlinewidth": 0,
              "ticks": ""
             }
            },
            "type": "scattermapbox"
           }
          ],
          "scatterpolar": [
           {
            "marker": {
             "colorbar": {
              "outlinewidth": 0,
              "ticks": ""
             }
            },
            "type": "scatterpolar"
           }
          ],
          "scatterpolargl": [
           {
            "marker": {
             "colorbar": {
              "outlinewidth": 0,
              "ticks": ""
             }
            },
            "type": "scatterpolargl"
           }
          ],
          "scatterternary": [
           {
            "marker": {
             "colorbar": {
              "outlinewidth": 0,
              "ticks": ""
             }
            },
            "type": "scatterternary"
           }
          ],
          "surface": [
           {
            "colorbar": {
             "outlinewidth": 0,
             "ticks": ""
            },
            "colorscale": [
             [
              0,
              "#0d0887"
             ],
             [
              0.1111111111111111,
              "#46039f"
             ],
             [
              0.2222222222222222,
              "#7201a8"
             ],
             [
              0.3333333333333333,
              "#9c179e"
             ],
             [
              0.4444444444444444,
              "#bd3786"
             ],
             [
              0.5555555555555556,
              "#d8576b"
             ],
             [
              0.6666666666666666,
              "#ed7953"
             ],
             [
              0.7777777777777778,
              "#fb9f3a"
             ],
             [
              0.8888888888888888,
              "#fdca26"
             ],
             [
              1,
              "#f0f921"
             ]
            ],
            "type": "surface"
           }
          ],
          "table": [
           {
            "cells": {
             "fill": {
              "color": "#EBF0F8"
             },
             "line": {
              "color": "white"
             }
            },
            "header": {
             "fill": {
              "color": "#C8D4E3"
             },
             "line": {
              "color": "white"
             }
            },
            "type": "table"
           }
          ]
         },
         "layout": {
          "annotationdefaults": {
           "arrowcolor": "#2a3f5f",
           "arrowhead": 0,
           "arrowwidth": 1
          },
          "autotypenumbers": "strict",
          "coloraxis": {
           "colorbar": {
            "outlinewidth": 0,
            "ticks": ""
           }
          },
          "colorscale": {
           "diverging": [
            [
             0,
             "#8e0152"
            ],
            [
             0.1,
             "#c51b7d"
            ],
            [
             0.2,
             "#de77ae"
            ],
            [
             0.3,
             "#f1b6da"
            ],
            [
             0.4,
             "#fde0ef"
            ],
            [
             0.5,
             "#f7f7f7"
            ],
            [
             0.6,
             "#e6f5d0"
            ],
            [
             0.7,
             "#b8e186"
            ],
            [
             0.8,
             "#7fbc41"
            ],
            [
             0.9,
             "#4d9221"
            ],
            [
             1,
             "#276419"
            ]
           ],
           "sequential": [
            [
             0,
             "#0d0887"
            ],
            [
             0.1111111111111111,
             "#46039f"
            ],
            [
             0.2222222222222222,
             "#7201a8"
            ],
            [
             0.3333333333333333,
             "#9c179e"
            ],
            [
             0.4444444444444444,
             "#bd3786"
            ],
            [
             0.5555555555555556,
             "#d8576b"
            ],
            [
             0.6666666666666666,
             "#ed7953"
            ],
            [
             0.7777777777777778,
             "#fb9f3a"
            ],
            [
             0.8888888888888888,
             "#fdca26"
            ],
            [
             1,
             "#f0f921"
            ]
           ],
           "sequentialminus": [
            [
             0,
             "#0d0887"
            ],
            [
             0.1111111111111111,
             "#46039f"
            ],
            [
             0.2222222222222222,
             "#7201a8"
            ],
            [
             0.3333333333333333,
             "#9c179e"
            ],
            [
             0.4444444444444444,
             "#bd3786"
            ],
            [
             0.5555555555555556,
             "#d8576b"
            ],
            [
             0.6666666666666666,
             "#ed7953"
            ],
            [
             0.7777777777777778,
             "#fb9f3a"
            ],
            [
             0.8888888888888888,
             "#fdca26"
            ],
            [
             1,
             "#f0f921"
            ]
           ]
          },
          "colorway": [
           "#636efa",
           "#EF553B",
           "#00cc96",
           "#ab63fa",
           "#FFA15A",
           "#19d3f3",
           "#FF6692",
           "#B6E880",
           "#FF97FF",
           "#FECB52"
          ],
          "font": {
           "color": "#2a3f5f"
          },
          "geo": {
           "bgcolor": "white",
           "lakecolor": "white",
           "landcolor": "#E5ECF6",
           "showlakes": true,
           "showland": true,
           "subunitcolor": "white"
          },
          "hoverlabel": {
           "align": "left"
          },
          "hovermode": "closest",
          "mapbox": {
           "style": "light"
          },
          "paper_bgcolor": "white",
          "plot_bgcolor": "#E5ECF6",
          "polar": {
           "angularaxis": {
            "gridcolor": "white",
            "linecolor": "white",
            "ticks": ""
           },
           "bgcolor": "#E5ECF6",
           "radialaxis": {
            "gridcolor": "white",
            "linecolor": "white",
            "ticks": ""
           }
          },
          "scene": {
           "xaxis": {
            "backgroundcolor": "#E5ECF6",
            "gridcolor": "white",
            "gridwidth": 2,
            "linecolor": "white",
            "showbackground": true,
            "ticks": "",
            "zerolinecolor": "white"
           },
           "yaxis": {
            "backgroundcolor": "#E5ECF6",
            "gridcolor": "white",
            "gridwidth": 2,
            "linecolor": "white",
            "showbackground": true,
            "ticks": "",
            "zerolinecolor": "white"
           },
           "zaxis": {
            "backgroundcolor": "#E5ECF6",
            "gridcolor": "white",
            "gridwidth": 2,
            "linecolor": "white",
            "showbackground": true,
            "ticks": "",
            "zerolinecolor": "white"
           }
          },
          "shapedefaults": {
           "line": {
            "color": "#2a3f5f"
           }
          },
          "ternary": {
           "aaxis": {
            "gridcolor": "white",
            "linecolor": "white",
            "ticks": ""
           },
           "baxis": {
            "gridcolor": "white",
            "linecolor": "white",
            "ticks": ""
           },
           "bgcolor": "#E5ECF6",
           "caxis": {
            "gridcolor": "white",
            "linecolor": "white",
            "ticks": ""
           }
          },
          "title": {
           "x": 0.05
          },
          "xaxis": {
           "automargin": true,
           "gridcolor": "white",
           "linecolor": "white",
           "ticks": "",
           "title": {
            "standoff": 15
           },
           "zerolinecolor": "white",
           "zerolinewidth": 2
          },
          "yaxis": {
           "automargin": true,
           "gridcolor": "white",
           "linecolor": "white",
           "ticks": "",
           "title": {
            "standoff": 15
           },
           "zerolinecolor": "white",
           "zerolinewidth": 2
          }
         }
        },
        "title": {
         "text": "INT8 model size vs. MACs"
        },
        "width": 500,
        "xaxis": {
         "anchor": "y",
         "domain": [
          0,
          1
         ],
         "title": {
          "text": "MACs"
         }
        },
        "yaxis": {
         "anchor": "x",
         "domain": [
          0,
          1
         ],
         "title": {
          "text": "INT8 model size in kB"
         }
        }
       }
      },
      "text/html": [
       "<div>                            <div id=\"5fb4a4f1-babc-45ef-9a98-875b8ddb684f\" class=\"plotly-graph-div\" style=\"height:400px; width:500px;\"></div>            <script type=\"text/javascript\">                require([\"plotly\"], function(Plotly) {                    window.PLOTLYENV=window.PLOTLYENV || {};                                    if (document.getElementById(\"5fb4a4f1-babc-45ef-9a98-875b8ddb684f\")) {                    Plotly.newPlot(                        \"5fb4a4f1-babc-45ef-9a98-875b8ddb684f\",                        [{\"customdata\":[[\"mobilenetv2_0.1_96_c3_o2_t3l1024.MV1\",\"0.1\",53810],[\"mobilenetv2_0.1_96_c3_o2_t6l1024.MV1\",\"0.1\",67766],[\"mobilenetv2_0.1_96_c3_o2_t5l1024.MV1\",\"0.1\",63114],[\"mobilenetv2_0.1_96_c3_o2_l5\",\"0.1\",77494],[\"mobilenetv2_0.1_96_c3_o2_t4l1024.MV1\",\"0.1\",58462],[\"mobilenetv2_0.1_96_c3_o2_t2l1024.MV1\",\"0.1\",49158],[\"mobilenetv2_0.1_96_c3_o2_t1l1024.MV1\",\"0.1\",44506],[\"mobilenetv2_0.1_96_c3_o2_t6l128.MV1\",\"0.1\",33718],[\"mobilenetv2_0.1_96_c3_o2_t6l256.MV1\",\"0.1\",38582],[\"mobilenetv2_0.1_96_c3_o2_t6l512.MV1\",\"0.1\",48310]],\"hovertemplate\":\"alpha=%{customdata[1]}<br>MACs=%{x}<br>INT8 model size in kB=%{y}<br>parameters=%{customdata[2]}<br>run_name=%{customdata[0]}<extra></extra>\",\"legendgroup\":\"0.1\",\"marker\":{\"color\":\"#636efa\",\"size\":[53810,67766,63114,77494,58462,49158,44506,33718,38582,48310],\"sizemode\":\"area\",\"sizeref\":5651.365,\"symbol\":\"circle\"},\"mode\":\"markers\",\"name\":\"0.1\",\"orientation\":\"v\",\"showlegend\":true,\"x\":[1298435,1617926,1511429,1692166,1404932,1191938,1085441,1358086,1395206,1469446],\"xaxis\":\"x\",\"y\":[132.890625,159.921875,150.8828125,176.4921875,141.7109375,123.59375,114.5703125,105.671875,113.421875,128.921875],\"yaxis\":\"y\",\"type\":\"scatter\"},{\"customdata\":[[\"mobilenetv2_0.2_96_c3_o2_t6l1024.MV1\",\"0.2\",163666],[\"mobilenetv2_0.2_96_c3_o2_t5l1024.MV1\",\"0.2\",148594],[\"mobilenetv2_0.2_96_c3_o2_t5l256.MV1\",\"0.2\",94834],[\"mobilenetv2_0.2_96_c3_o2_t5l128.MV1\",\"0.2\",85874],[\"mobilenetv2_0.2_96_c3_o2_t6l128.MV1\",\"0.2\",100946],[\"mobilenetv2_0.2_96_c3_o2_t6l256.MV1\",\"0.2\",109906],[\"mobilenetv2_0.2_96_c3_o2_t6l512.MV1\",\"0.2\",127826],[\"mobilenetv2_0.2_96_c3_o2_l5\",\"0.2\",181586],[\"mobilenetv2_0.2_96_c3_o2_t5l512.MV1\",\"0.2\",112754]],\"hovertemplate\":\"alpha=%{customdata[1]}<br>MACs=%{x}<br>INT8 model size in kB=%{y}<br>parameters=%{customdata[2]}<br>run_name=%{customdata[0]}<extra></extra>\",\"legendgroup\":\"0.2\",\"marker\":{\"color\":\"#EF553B\",\"size\":[163666,148594,94834,85874,100946,109906,127826,181586,112754],\"sizemode\":\"area\",\"sizeref\":5651.365,\"symbol\":\"circle\"},\"mode\":\"markers\",\"name\":\"0.2\",\"orientation\":\"v\",\"showlegend\":true,\"x\":[3487946,3125075,2681171,2607187,2970058,3044042,3192010,3635914,2829139],\"xaxis\":\"x\",\"y\":[285.0859375,261.1015625,190.6015625,178.8515625,202.8359375,214.5859375,238.0859375,309.6328125,214.1015625],\"yaxis\":\"y\",\"type\":\"scatter\"},{\"customdata\":[[\"mobilenetv2_0.25_96_c3_o2_t4l1024.MV1\",\"0.25\",181522],[\"mobilenetv2_0.25_96_c3_o2_t6l1024.MV1\",\"0.25\",227306],[\"mobilenetv2_0.25_96_c3_o2_t5l1024.MV1\",\"0.25\",204414],[\"mobilenetv2_0.25_96_c3_o2_t6l1024.GAP\",\"0.25\",227306],[\"mobilenetv2_0.25_96_c3_o2_l5\",\"0.25\",249322],[\"mobilenetv2_0.25_96_c3_o2_t3l1024.MV1\",\"0.25\",158630],[\"mobilenetv2_0.25_96_c3_o2_t5l512.MV1\",\"0.25\",160382],[\"mobilenetv2_0.25_96_c3_o2_t1l1024.MV1\",\"0.25\",112846],[\"mobilenetv2_0.25_96_c3_o2_t6l512.MV1\",\"0.25\",183274],[\"mobilenetv2_0.25_96_c3_o2_t6l256.MV1\",\"0.25\",161258],[\"mobilenetv2_0.25_96_c3_o2_t6l128.MV1\",\"0.25\",150250],[\"mobilenetv2_0.25_96_c3_o2_t5l128.MV1\",\"0.25\",127358],[\"mobilenetv2_0.25_96_c3_o2_t5l256.MV1\",\"0.25\",138366],[\"mobilenetv2_0.25_96_c3_o2_t2l1024.MV1\",\"0.25\",135738],[\"mobilenetv2_0.25_96_c3_o2_keras\",\"0.25\",251330]],\"hovertemplate\":\"alpha=%{customdata[1]}<br>MACs=%{x}<br>INT8 model size in kB=%{y}<br>parameters=%{customdata[2]}<br>run_name=%{customdata[0]}<extra></extra>\",\"legendgroup\":\"0.25\",\"marker\":{\"color\":\"#00cc96\",\"size\":[181522,227306,204414,227306,249322,158630,160382,112846,183274,161258,150250,127358,138366,135738,251330],\"sizemode\":\"area\",\"sizeref\":5651.365,\"symbol\":\"circle\"},\"mode\":\"markers\",\"name\":\"0.25\",\"orientation\":\"v\",\"showlegend\":true,\"x\":[3848000,5033696,4440848,5033696,5218528,3255152,4071184,2069456,4664032,4479200,4386784,3793936,3886352,2662304,6600352],\"xaxis\":\"x\",\"y\":[296.390625,364.9765625,330.53125,365.3359375,393.5234375,262.1875,275.53125,193.1328125,309.9765625,282.4765625,268.7265625,234.28125,248.03125,227.5390625,401.3515625],\"yaxis\":\"y\",\"type\":\"scatter\"},{\"customdata\":[[\"mobilenetv2_0.35_96_c3_o2_keras\",\"0.35\",412770],[\"mobilenetv2_0.35_96_c3_o2_l5\",\"0.35\",402934]],\"hovertemplate\":\"alpha=%{customdata[1]}<br>MACs=%{x}<br>INT8 model size in kB=%{y}<br>parameters=%{customdata[2]}<br>run_name=%{customdata[0]}<extra></extra>\",\"legendgroup\":\"0.35\",\"marker\":{\"color\":\"#ab63fa\",\"size\":[412770,402934],\"sizemode\":\"area\",\"sizeref\":5651.365,\"symbol\":\"circle\"},\"mode\":\"markers\",\"name\":\"0.35\",\"orientation\":\"v\",\"showlegend\":true,\"x\":[10656688,9008662],\"xaxis\":\"x\",\"y\":[593.578125,574.3359375],\"yaxis\":\"y\",\"type\":\"scatter\"},{\"customdata\":[[\"mobilenetv2_0.5_96_c3_o2_l5\",\"0.5\",705346],[\"mobilenetv2_0.5_96_c3_o2_keras\",\"0.5\",708786]],\"hovertemplate\":\"alpha=%{customdata[1]}<br>MACs=%{x}<br>INT8 model size in kB=%{y}<br>parameters=%{customdata[2]}<br>run_name=%{customdata[0]}<extra></extra>\",\"legendgroup\":\"0.5\",\"marker\":{\"color\":\"#FFA15A\",\"size\":[705346,708786],\"sizemode\":\"area\",\"sizeref\":5651.365,\"symbol\":\"circle\"},\"mode\":\"markers\",\"name\":\"0.5\",\"orientation\":\"v\",\"showlegend\":true,\"x\":[16125376,17608000],\"xaxis\":\"x\",\"y\":[918.7890625,927.6640625],\"yaxis\":\"y\",\"type\":\"scatter\"},{\"customdata\":[[\"mobilenetv2_1_96_c3_o2_l5\",\"1.0\",2260546],[\"mobilenetv2_1_96_c3_o2_keras\",\"1.0\",2260546]],\"hovertemplate\":\"alpha=%{customdata[1]}<br>MACs=%{x}<br>INT8 model size in kB=%{y}<br>parameters=%{customdata[2]}<br>run_name=%{customdata[0]}<extra></extra>\",\"legendgroup\":\"1.0\",\"marker\":{\"color\":\"#19d3f3\",\"size\":[2260546,2260546],\"sizemode\":\"area\",\"sizeref\":5651.365,\"symbol\":\"circle\"},\"mode\":\"markers\",\"name\":\"1.0\",\"orientation\":\"v\",\"showlegend\":true,\"x\":[55011712,55011712],\"xaxis\":\"x\",\"y\":[2597.3984375,2601.1171875],\"yaxis\":\"y\",\"type\":\"scatter\"}],                        {\"template\":{\"data\":{\"histogram2dcontour\":[{\"type\":\"histogram2dcontour\",\"colorbar\":{\"outlinewidth\":0,\"ticks\":\"\"},\"colorscale\":[[0.0,\"#0d0887\"],[0.1111111111111111,\"#46039f\"],[0.2222222222222222,\"#7201a8\"],[0.3333333333333333,\"#9c179e\"],[0.4444444444444444,\"#bd3786\"],[0.5555555555555556,\"#d8576b\"],[0.6666666666666666,\"#ed7953\"],[0.7777777777777778,\"#fb9f3a\"],[0.8888888888888888,\"#fdca26\"],[1.0,\"#f0f921\"]]}],\"choropleth\":[{\"type\":\"choropleth\",\"colorbar\":{\"outlinewidth\":0,\"ticks\":\"\"}}],\"histogram2d\":[{\"type\":\"histogram2d\",\"colorbar\":{\"outlinewidth\":0,\"ticks\":\"\"},\"colorscale\":[[0.0,\"#0d0887\"],[0.1111111111111111,\"#46039f\"],[0.2222222222222222,\"#7201a8\"],[0.3333333333333333,\"#9c179e\"],[0.4444444444444444,\"#bd3786\"],[0.5555555555555556,\"#d8576b\"],[0.6666666666666666,\"#ed7953\"],[0.7777777777777778,\"#fb9f3a\"],[0.8888888888888888,\"#fdca26\"],[1.0,\"#f0f921\"]]}],\"heatmap\":[{\"type\":\"heatmap\",\"colorbar\":{\"outlinewidth\":0,\"ticks\":\"\"},\"colorscale\":[[0.0,\"#0d0887\"],[0.1111111111111111,\"#46039f\"],[0.2222222222222222,\"#7201a8\"],[0.3333333333333333,\"#9c179e\"],[0.4444444444444444,\"#bd3786\"],[0.5555555555555556,\"#d8576b\"],[0.6666666666666666,\"#ed7953\"],[0.7777777777777778,\"#fb9f3a\"],[0.8888888888888888,\"#fdca26\"],[1.0,\"#f0f921\"]]}],\"heatmapgl\":[{\"type\":\"heatmapgl\",\"colorbar\":{\"outlinewidth\":0,\"ticks\":\"\"},\"colorscale\":[[0.0,\"#0d0887\"],[0.1111111111111111,\"#46039f\"],[0.2222222222222222,\"#7201a8\"],[0.3333333333333333,\"#9c179e\"],[0.4444444444444444,\"#bd3786\"],[0.5555555555555556,\"#d8576b\"],[0.6666666666666666,\"#ed7953\"],[0.7777777777777778,\"#fb9f3a\"],[0.8888888888888888,\"#fdca26\"],[1.0,\"#f0f921\"]]}],\"contourcarpet\":[{\"type\":\"contourcarpet\",\"colorbar\":{\"outlinewidth\":0,\"ticks\":\"\"}}],\"contour\":[{\"type\":\"contour\",\"colorbar\":{\"outlinewidth\":0,\"ticks\":\"\"},\"colorscale\":[[0.0,\"#0d0887\"],[0.1111111111111111,\"#46039f\"],[0.2222222222222222,\"#7201a8\"],[0.3333333333333333,\"#9c179e\"],[0.4444444444444444,\"#bd3786\"],[0.5555555555555556,\"#d8576b\"],[0.6666666666666666,\"#ed7953\"],[0.7777777777777778,\"#fb9f3a\"],[0.8888888888888888,\"#fdca26\"],[1.0,\"#f0f921\"]]}],\"surface\":[{\"type\":\"surface\",\"colorbar\":{\"outlinewidth\":0,\"ticks\":\"\"},\"colorscale\":[[0.0,\"#0d0887\"],[0.1111111111111111,\"#46039f\"],[0.2222222222222222,\"#7201a8\"],[0.3333333333333333,\"#9c179e\"],[0.4444444444444444,\"#bd3786\"],[0.5555555555555556,\"#d8576b\"],[0.6666666666666666,\"#ed7953\"],[0.7777777777777778,\"#fb9f3a\"],[0.8888888888888888,\"#fdca26\"],[1.0,\"#f0f921\"]]}],\"mesh3d\":[{\"type\":\"mesh3d\",\"colorbar\":{\"outlinewidth\":0,\"ticks\":\"\"}}],\"scatter\":[{\"fillpattern\":{\"fillmode\":\"overlay\",\"size\":10,\"solidity\":0.2},\"type\":\"scatter\"}],\"parcoords\":[{\"type\":\"parcoords\",\"line\":{\"colorbar\":{\"outlinewidth\":0,\"ticks\":\"\"}}}],\"scatterpolargl\":[{\"type\":\"scatterpolargl\",\"marker\":{\"colorbar\":{\"outlinewidth\":0,\"ticks\":\"\"}}}],\"bar\":[{\"error_x\":{\"color\":\"#2a3f5f\"},\"error_y\":{\"color\":\"#2a3f5f\"},\"marker\":{\"line\":{\"color\":\"#E5ECF6\",\"width\":0.5},\"pattern\":{\"fillmode\":\"overlay\",\"size\":10,\"solidity\":0.2}},\"type\":\"bar\"}],\"scattergeo\":[{\"type\":\"scattergeo\",\"marker\":{\"colorbar\":{\"outlinewidth\":0,\"ticks\":\"\"}}}],\"scatterpolar\":[{\"type\":\"scatterpolar\",\"marker\":{\"colorbar\":{\"outlinewidth\":0,\"ticks\":\"\"}}}],\"histogram\":[{\"marker\":{\"pattern\":{\"fillmode\":\"overlay\",\"size\":10,\"solidity\":0.2}},\"type\":\"histogram\"}],\"scattergl\":[{\"type\":\"scattergl\",\"marker\":{\"colorbar\":{\"outlinewidth\":0,\"ticks\":\"\"}}}],\"scatter3d\":[{\"type\":\"scatter3d\",\"line\":{\"colorbar\":{\"outlinewidth\":0,\"ticks\":\"\"}},\"marker\":{\"colorbar\":{\"outlinewidth\":0,\"ticks\":\"\"}}}],\"scattermapbox\":[{\"type\":\"scattermapbox\",\"marker\":{\"colorbar\":{\"outlinewidth\":0,\"ticks\":\"\"}}}],\"scatterternary\":[{\"type\":\"scatterternary\",\"marker\":{\"colorbar\":{\"outlinewidth\":0,\"ticks\":\"\"}}}],\"scattercarpet\":[{\"type\":\"scattercarpet\",\"marker\":{\"colorbar\":{\"outlinewidth\":0,\"ticks\":\"\"}}}],\"carpet\":[{\"aaxis\":{\"endlinecolor\":\"#2a3f5f\",\"gridcolor\":\"white\",\"linecolor\":\"white\",\"minorgridcolor\":\"white\",\"startlinecolor\":\"#2a3f5f\"},\"baxis\":{\"endlinecolor\":\"#2a3f5f\",\"gridcolor\":\"white\",\"linecolor\":\"white\",\"minorgridcolor\":\"white\",\"startlinecolor\":\"#2a3f5f\"},\"type\":\"carpet\"}],\"table\":[{\"cells\":{\"fill\":{\"color\":\"#EBF0F8\"},\"line\":{\"color\":\"white\"}},\"header\":{\"fill\":{\"color\":\"#C8D4E3\"},\"line\":{\"color\":\"white\"}},\"type\":\"table\"}],\"barpolar\":[{\"marker\":{\"line\":{\"color\":\"#E5ECF6\",\"width\":0.5},\"pattern\":{\"fillmode\":\"overlay\",\"size\":10,\"solidity\":0.2}},\"type\":\"barpolar\"}],\"pie\":[{\"automargin\":true,\"type\":\"pie\"}]},\"layout\":{\"autotypenumbers\":\"strict\",\"colorway\":[\"#636efa\",\"#EF553B\",\"#00cc96\",\"#ab63fa\",\"#FFA15A\",\"#19d3f3\",\"#FF6692\",\"#B6E880\",\"#FF97FF\",\"#FECB52\"],\"font\":{\"color\":\"#2a3f5f\"},\"hovermode\":\"closest\",\"hoverlabel\":{\"align\":\"left\"},\"paper_bgcolor\":\"white\",\"plot_bgcolor\":\"#E5ECF6\",\"polar\":{\"bgcolor\":\"#E5ECF6\",\"angularaxis\":{\"gridcolor\":\"white\",\"linecolor\":\"white\",\"ticks\":\"\"},\"radialaxis\":{\"gridcolor\":\"white\",\"linecolor\":\"white\",\"ticks\":\"\"}},\"ternary\":{\"bgcolor\":\"#E5ECF6\",\"aaxis\":{\"gridcolor\":\"white\",\"linecolor\":\"white\",\"ticks\":\"\"},\"baxis\":{\"gridcolor\":\"white\",\"linecolor\":\"white\",\"ticks\":\"\"},\"caxis\":{\"gridcolor\":\"white\",\"linecolor\":\"white\",\"ticks\":\"\"}},\"coloraxis\":{\"colorbar\":{\"outlinewidth\":0,\"ticks\":\"\"}},\"colorscale\":{\"sequential\":[[0.0,\"#0d0887\"],[0.1111111111111111,\"#46039f\"],[0.2222222222222222,\"#7201a8\"],[0.3333333333333333,\"#9c179e\"],[0.4444444444444444,\"#bd3786\"],[0.5555555555555556,\"#d8576b\"],[0.6666666666666666,\"#ed7953\"],[0.7777777777777778,\"#fb9f3a\"],[0.8888888888888888,\"#fdca26\"],[1.0,\"#f0f921\"]],\"sequentialminus\":[[0.0,\"#0d0887\"],[0.1111111111111111,\"#46039f\"],[0.2222222222222222,\"#7201a8\"],[0.3333333333333333,\"#9c179e\"],[0.4444444444444444,\"#bd3786\"],[0.5555555555555556,\"#d8576b\"],[0.6666666666666666,\"#ed7953\"],[0.7777777777777778,\"#fb9f3a\"],[0.8888888888888888,\"#fdca26\"],[1.0,\"#f0f921\"]],\"diverging\":[[0,\"#8e0152\"],[0.1,\"#c51b7d\"],[0.2,\"#de77ae\"],[0.3,\"#f1b6da\"],[0.4,\"#fde0ef\"],[0.5,\"#f7f7f7\"],[0.6,\"#e6f5d0\"],[0.7,\"#b8e186\"],[0.8,\"#7fbc41\"],[0.9,\"#4d9221\"],[1,\"#276419\"]]},\"xaxis\":{\"gridcolor\":\"white\",\"linecolor\":\"white\",\"ticks\":\"\",\"title\":{\"standoff\":15},\"zerolinecolor\":\"white\",\"automargin\":true,\"zerolinewidth\":2},\"yaxis\":{\"gridcolor\":\"white\",\"linecolor\":\"white\",\"ticks\":\"\",\"title\":{\"standoff\":15},\"zerolinecolor\":\"white\",\"automargin\":true,\"zerolinewidth\":2},\"scene\":{\"xaxis\":{\"backgroundcolor\":\"#E5ECF6\",\"gridcolor\":\"white\",\"linecolor\":\"white\",\"showbackground\":true,\"ticks\":\"\",\"zerolinecolor\":\"white\",\"gridwidth\":2},\"yaxis\":{\"backgroundcolor\":\"#E5ECF6\",\"gridcolor\":\"white\",\"linecolor\":\"white\",\"showbackground\":true,\"ticks\":\"\",\"zerolinecolor\":\"white\",\"gridwidth\":2},\"zaxis\":{\"backgroundcolor\":\"#E5ECF6\",\"gridcolor\":\"white\",\"linecolor\":\"white\",\"showbackground\":true,\"ticks\":\"\",\"zerolinecolor\":\"white\",\"gridwidth\":2}},\"shapedefaults\":{\"line\":{\"color\":\"#2a3f5f\"}},\"annotationdefaults\":{\"arrowcolor\":\"#2a3f5f\",\"arrowhead\":0,\"arrowwidth\":1},\"geo\":{\"bgcolor\":\"white\",\"landcolor\":\"#E5ECF6\",\"subunitcolor\":\"white\",\"showland\":true,\"showlakes\":true,\"lakecolor\":\"white\"},\"title\":{\"x\":0.05},\"mapbox\":{\"style\":\"light\"}}},\"xaxis\":{\"anchor\":\"y\",\"domain\":[0.0,1.0],\"title\":{\"text\":\"MACs\"}},\"yaxis\":{\"anchor\":\"x\",\"domain\":[0.0,1.0],\"title\":{\"text\":\"INT8 model size in kB\"}},\"legend\":{\"title\":{\"text\":\"alpha\"},\"tracegroupgap\":0,\"itemsizing\":\"constant\"},\"title\":{\"text\":\"INT8 model size vs. MACs\"},\"showlegend\":true,\"width\":500,\"height\":400},                        {\"responsive\": true}                    ).then(function(){\n",
       "                            \n",
       "var gd = document.getElementById('5fb4a4f1-babc-45ef-9a98-875b8ddb684f');\n",
       "var x = new MutationObserver(function (mutations, observer) {{\n",
       "        var display = window.getComputedStyle(gd).display;\n",
       "        if (!display || display === 'none') {{\n",
       "            console.log([gd, 'removed!']);\n",
       "            Plotly.purge(gd);\n",
       "            observer.disconnect();\n",
       "        }}\n",
       "}});\n",
       "\n",
       "// Listen for the removal of the full notebook cells\n",
       "var notebookContainer = gd.closest('#notebook-container');\n",
       "if (notebookContainer) {{\n",
       "    x.observe(notebookContainer, {childList: true});\n",
       "}}\n",
       "\n",
       "// Listen for the clearing of the current output cell\n",
       "var outputEl = gd.closest('.output');\n",
       "if (outputEl) {{\n",
       "    x.observe(outputEl, {childList: true});\n",
       "}}\n",
       "\n",
       "                        })                };                });            </script>        </div>"
      ]
     },
     "metadata": {},
     "output_type": "display_data"
    }
   ],
   "source": [
    "\n",
    "macs_params_fig = px.scatter(\n",
    "    mbnv2_df,\n",
    "    x=\"macs_mltk\",\n",
    "    y=\"tflite_model_INT8_size_kb\",\n",
    "    color=\"alpha\",\n",
    "    size=\"total_params\",\n",
    "    hover_data=[\"run_name\",\"alpha\", \"macs_mltk\", \"total_params\"],\n",
    "    labels={\"macs_mltk\": \"MACs\", \n",
    "            \"tflite_model_INT8_size_kb\" : \"INT8 model size in kB\",\n",
    "            \"total_params\": \"parameters\"},\n",
    "    title=f\"INT8 model size vs. MACs\",\n",
    ")\n",
    "\n",
    "macs_params_fig.update_layout(showlegend=True, width=500, height=400)\n",
    "\n",
    "macs_params_fig.show()"
   ]
  },
  {
   "cell_type": "code",
   "execution_count": 69,
   "metadata": {},
   "outputs": [],
   "source": [
    "def params_macs_alpha_fig(df, model_name):\n",
    "    df[\"alpha\"] = df[\"alpha\"].astype(str)\n",
    "    fig = px.scatter(\n",
    "        df,\n",
    "        x=\"total_params\",\n",
    "        y=\"macs_mltk\",\n",
    "        color=\"alpha\",\n",
    "        hover_data=[\"run_name\",\"alpha\", \"macs_mltk\", \"total_params\"],\n",
    "        size=\"tflite_model_INT8_size_kb\",\n",
    "        labels={\"total_params\": \"parameters\", \n",
    "                \"macs_mltk\": \"MACs\",\n",
    "                \"run_name\": \"model name\"},\n",
    "        title=f\"MACs vs. total parameters - {model_name}\",\n",
    "    )\n",
    "    fig.add_hline(y=60000000, line_width=2, line_dash=\"dash\", line_color=\"red\", annotation_text=f\"60M MACs\", \n",
    "               annotation_position=\"top\")\n",
    "    fig.update_layout(showlegend=True, width=1200, height=400)\n",
    "    \n",
    "    fig.show()\n",
    "    return fig\n"
   ]
  },
  {
   "cell_type": "code",
   "execution_count": 70,
   "metadata": {},
   "outputs": [
    {
     "data": {
      "application/vnd.plotly.v1+json": {
       "config": {
        "plotlyServerURL": "https://plot.ly"
       },
       "data": [
        {
         "customdata": [
          [
           "mobilenetv2_0.1_96_c3_o2_t3l1024.MV1",
           "0.1"
          ],
          [
           "mobilenetv2_0.1_96_c3_o2_t6l1024.MV1",
           "0.1"
          ],
          [
           "mobilenetv2_0.1_96_c3_o2_t5l1024.MV1",
           "0.1"
          ],
          [
           "mobilenetv2_0.1_96_c3_o2_l5",
           "0.1"
          ],
          [
           "mobilenetv2_0.1_96_c3_o2_t4l1024.MV1",
           "0.1"
          ],
          [
           "mobilenetv2_0.1_96_c3_o2_t2l1024.MV1",
           "0.1"
          ],
          [
           "mobilenetv2_0.1_96_c3_o2_t1l1024.MV1",
           "0.1"
          ],
          [
           "mobilenetv2_0.1_96_c3_o2_t6l128.MV1",
           "0.1"
          ],
          [
           "mobilenetv2_0.1_96_c3_o2_t6l256.MV1",
           "0.1"
          ],
          [
           "mobilenetv2_0.1_96_c3_o2_t6l512.MV1",
           "0.1"
          ]
         ],
         "hovertemplate": "alpha=%{customdata[1]}<br>parameters=%{x}<br>MACs=%{y}<br>tflite_model_INT8_size_kb=%{marker.size}<br>model name=%{customdata[0]}<extra></extra>",
         "legendgroup": "0.1",
         "marker": {
          "color": "#636efa",
          "size": [
           132.890625,
           159.921875,
           150.8828125,
           176.4921875,
           141.7109375,
           123.59375,
           114.5703125,
           105.671875,
           113.421875,
           128.921875
          ],
          "sizemode": "area",
          "sizeref": 6.50279296875,
          "symbol": "circle"
         },
         "mode": "markers",
         "name": "0.1",
         "orientation": "v",
         "showlegend": true,
         "type": "scatter",
         "x": [
          53810,
          67766,
          63114,
          77494,
          58462,
          49158,
          44506,
          33718,
          38582,
          48310
         ],
         "xaxis": "x",
         "y": [
          1298435,
          1617926,
          1511429,
          1692166,
          1404932,
          1191938,
          1085441,
          1358086,
          1395206,
          1469446
         ],
         "yaxis": "y"
        },
        {
         "customdata": [
          [
           "mobilenetv2_0.2_96_c3_o2_t6l1024.MV1",
           "0.2"
          ],
          [
           "mobilenetv2_0.2_96_c3_o2_t5l1024.MV1",
           "0.2"
          ],
          [
           "mobilenetv2_0.2_96_c3_o2_t5l256.MV1",
           "0.2"
          ],
          [
           "mobilenetv2_0.2_96_c3_o2_t5l128.MV1",
           "0.2"
          ],
          [
           "mobilenetv2_0.2_96_c3_o2_t6l128.MV1",
           "0.2"
          ],
          [
           "mobilenetv2_0.2_96_c3_o2_t6l256.MV1",
           "0.2"
          ],
          [
           "mobilenetv2_0.2_96_c3_o2_t6l512.MV1",
           "0.2"
          ],
          [
           "mobilenetv2_0.2_96_c3_o2_l5",
           "0.2"
          ],
          [
           "mobilenetv2_0.2_96_c3_o2_t5l512.MV1",
           "0.2"
          ]
         ],
         "hovertemplate": "alpha=%{customdata[1]}<br>parameters=%{x}<br>MACs=%{y}<br>tflite_model_INT8_size_kb=%{marker.size}<br>model name=%{customdata[0]}<extra></extra>",
         "legendgroup": "0.2",
         "marker": {
          "color": "#EF553B",
          "size": [
           285.0859375,
           261.1015625,
           190.6015625,
           178.8515625,
           202.8359375,
           214.5859375,
           238.0859375,
           309.6328125,
           214.1015625
          ],
          "sizemode": "area",
          "sizeref": 6.50279296875,
          "symbol": "circle"
         },
         "mode": "markers",
         "name": "0.2",
         "orientation": "v",
         "showlegend": true,
         "type": "scatter",
         "x": [
          163666,
          148594,
          94834,
          85874,
          100946,
          109906,
          127826,
          181586,
          112754
         ],
         "xaxis": "x",
         "y": [
          3487946,
          3125075,
          2681171,
          2607187,
          2970058,
          3044042,
          3192010,
          3635914,
          2829139
         ],
         "yaxis": "y"
        },
        {
         "customdata": [
          [
           "mobilenetv2_0.25_96_c3_o2_t4l1024.MV1",
           "0.25"
          ],
          [
           "mobilenetv2_0.25_96_c3_o2_t6l1024.MV1",
           "0.25"
          ],
          [
           "mobilenetv2_0.25_96_c3_o2_t5l1024.MV1",
           "0.25"
          ],
          [
           "mobilenetv2_0.25_96_c3_o2_t6l1024.GAP",
           "0.25"
          ],
          [
           "mobilenetv2_0.25_96_c3_o2_l5",
           "0.25"
          ],
          [
           "mobilenetv2_0.25_96_c3_o2_t3l1024.MV1",
           "0.25"
          ],
          [
           "mobilenetv2_0.25_96_c3_o2_t5l512.MV1",
           "0.25"
          ],
          [
           "mobilenetv2_0.25_96_c3_o2_t1l1024.MV1",
           "0.25"
          ],
          [
           "mobilenetv2_0.25_96_c3_o2_t6l512.MV1",
           "0.25"
          ],
          [
           "mobilenetv2_0.25_96_c3_o2_t6l256.MV1",
           "0.25"
          ],
          [
           "mobilenetv2_0.25_96_c3_o2_t6l128.MV1",
           "0.25"
          ],
          [
           "mobilenetv2_0.25_96_c3_o2_t5l128.MV1",
           "0.25"
          ],
          [
           "mobilenetv2_0.25_96_c3_o2_t5l256.MV1",
           "0.25"
          ],
          [
           "mobilenetv2_0.25_96_c3_o2_t2l1024.MV1",
           "0.25"
          ],
          [
           "mobilenetv2_0.25_96_c3_o2_keras",
           "0.25"
          ]
         ],
         "hovertemplate": "alpha=%{customdata[1]}<br>parameters=%{x}<br>MACs=%{y}<br>tflite_model_INT8_size_kb=%{marker.size}<br>model name=%{customdata[0]}<extra></extra>",
         "legendgroup": "0.25",
         "marker": {
          "color": "#00cc96",
          "size": [
           296.390625,
           364.9765625,
           330.53125,
           365.3359375,
           393.5234375,
           262.1875,
           275.53125,
           193.1328125,
           309.9765625,
           282.4765625,
           268.7265625,
           234.28125,
           248.03125,
           227.5390625,
           401.3515625
          ],
          "sizemode": "area",
          "sizeref": 6.50279296875,
          "symbol": "circle"
         },
         "mode": "markers",
         "name": "0.25",
         "orientation": "v",
         "showlegend": true,
         "type": "scatter",
         "x": [
          181522,
          227306,
          204414,
          227306,
          249322,
          158630,
          160382,
          112846,
          183274,
          161258,
          150250,
          127358,
          138366,
          135738,
          251330
         ],
         "xaxis": "x",
         "y": [
          3848000,
          5033696,
          4440848,
          5033696,
          5218528,
          3255152,
          4071184,
          2069456,
          4664032,
          4479200,
          4386784,
          3793936,
          3886352,
          2662304,
          6600352
         ],
         "yaxis": "y"
        },
        {
         "customdata": [
          [
           "mobilenetv2_0.35_96_c3_o2_keras",
           "0.35"
          ],
          [
           "mobilenetv2_0.35_96_c3_o2_l5",
           "0.35"
          ]
         ],
         "hovertemplate": "alpha=%{customdata[1]}<br>parameters=%{x}<br>MACs=%{y}<br>tflite_model_INT8_size_kb=%{marker.size}<br>model name=%{customdata[0]}<extra></extra>",
         "legendgroup": "0.35",
         "marker": {
          "color": "#ab63fa",
          "size": [
           593.578125,
           574.3359375
          ],
          "sizemode": "area",
          "sizeref": 6.50279296875,
          "symbol": "circle"
         },
         "mode": "markers",
         "name": "0.35",
         "orientation": "v",
         "showlegend": true,
         "type": "scatter",
         "x": [
          412770,
          402934
         ],
         "xaxis": "x",
         "y": [
          10656688,
          9008662
         ],
         "yaxis": "y"
        },
        {
         "customdata": [
          [
           "mobilenetv2_0.5_96_c3_o2_l5",
           "0.5"
          ],
          [
           "mobilenetv2_0.5_96_c3_o2_keras",
           "0.5"
          ]
         ],
         "hovertemplate": "alpha=%{customdata[1]}<br>parameters=%{x}<br>MACs=%{y}<br>tflite_model_INT8_size_kb=%{marker.size}<br>model name=%{customdata[0]}<extra></extra>",
         "legendgroup": "0.5",
         "marker": {
          "color": "#FFA15A",
          "size": [
           918.7890625,
           927.6640625
          ],
          "sizemode": "area",
          "sizeref": 6.50279296875,
          "symbol": "circle"
         },
         "mode": "markers",
         "name": "0.5",
         "orientation": "v",
         "showlegend": true,
         "type": "scatter",
         "x": [
          705346,
          708786
         ],
         "xaxis": "x",
         "y": [
          16125376,
          17608000
         ],
         "yaxis": "y"
        },
        {
         "customdata": [
          [
           "mobilenetv2_1_96_c3_o2_l5",
           "1.0"
          ],
          [
           "mobilenetv2_1_96_c3_o2_keras",
           "1.0"
          ]
         ],
         "hovertemplate": "alpha=%{customdata[1]}<br>parameters=%{x}<br>MACs=%{y}<br>tflite_model_INT8_size_kb=%{marker.size}<br>model name=%{customdata[0]}<extra></extra>",
         "legendgroup": "1.0",
         "marker": {
          "color": "#19d3f3",
          "size": [
           2597.3984375,
           2601.1171875
          ],
          "sizemode": "area",
          "sizeref": 6.50279296875,
          "symbol": "circle"
         },
         "mode": "markers",
         "name": "1.0",
         "orientation": "v",
         "showlegend": true,
         "type": "scatter",
         "x": [
          2260546,
          2260546
         ],
         "xaxis": "x",
         "y": [
          55011712,
          55011712
         ],
         "yaxis": "y"
        }
       ],
       "layout": {
        "annotations": [
         {
          "showarrow": false,
          "text": "60M MACs",
          "x": 0.5,
          "xanchor": "center",
          "xref": "x domain",
          "y": 60000000,
          "yanchor": "bottom",
          "yref": "y"
         }
        ],
        "height": 400,
        "legend": {
         "itemsizing": "constant",
         "title": {
          "text": "alpha"
         },
         "tracegroupgap": 0
        },
        "shapes": [
         {
          "line": {
           "color": "red",
           "dash": "dash",
           "width": 2
          },
          "type": "line",
          "x0": 0,
          "x1": 1,
          "xref": "x domain",
          "y0": 60000000,
          "y1": 60000000,
          "yref": "y"
         }
        ],
        "showlegend": true,
        "template": {
         "data": {
          "bar": [
           {
            "error_x": {
             "color": "#2a3f5f"
            },
            "error_y": {
             "color": "#2a3f5f"
            },
            "marker": {
             "line": {
              "color": "#E5ECF6",
              "width": 0.5
             },
             "pattern": {
              "fillmode": "overlay",
              "size": 10,
              "solidity": 0.2
             }
            },
            "type": "bar"
           }
          ],
          "barpolar": [
           {
            "marker": {
             "line": {
              "color": "#E5ECF6",
              "width": 0.5
             },
             "pattern": {
              "fillmode": "overlay",
              "size": 10,
              "solidity": 0.2
             }
            },
            "type": "barpolar"
           }
          ],
          "carpet": [
           {
            "aaxis": {
             "endlinecolor": "#2a3f5f",
             "gridcolor": "white",
             "linecolor": "white",
             "minorgridcolor": "white",
             "startlinecolor": "#2a3f5f"
            },
            "baxis": {
             "endlinecolor": "#2a3f5f",
             "gridcolor": "white",
             "linecolor": "white",
             "minorgridcolor": "white",
             "startlinecolor": "#2a3f5f"
            },
            "type": "carpet"
           }
          ],
          "choropleth": [
           {
            "colorbar": {
             "outlinewidth": 0,
             "ticks": ""
            },
            "type": "choropleth"
           }
          ],
          "contour": [
           {
            "colorbar": {
             "outlinewidth": 0,
             "ticks": ""
            },
            "colorscale": [
             [
              0,
              "#0d0887"
             ],
             [
              0.1111111111111111,
              "#46039f"
             ],
             [
              0.2222222222222222,
              "#7201a8"
             ],
             [
              0.3333333333333333,
              "#9c179e"
             ],
             [
              0.4444444444444444,
              "#bd3786"
             ],
             [
              0.5555555555555556,
              "#d8576b"
             ],
             [
              0.6666666666666666,
              "#ed7953"
             ],
             [
              0.7777777777777778,
              "#fb9f3a"
             ],
             [
              0.8888888888888888,
              "#fdca26"
             ],
             [
              1,
              "#f0f921"
             ]
            ],
            "type": "contour"
           }
          ],
          "contourcarpet": [
           {
            "colorbar": {
             "outlinewidth": 0,
             "ticks": ""
            },
            "type": "contourcarpet"
           }
          ],
          "heatmap": [
           {
            "colorbar": {
             "outlinewidth": 0,
             "ticks": ""
            },
            "colorscale": [
             [
              0,
              "#0d0887"
             ],
             [
              0.1111111111111111,
              "#46039f"
             ],
             [
              0.2222222222222222,
              "#7201a8"
             ],
             [
              0.3333333333333333,
              "#9c179e"
             ],
             [
              0.4444444444444444,
              "#bd3786"
             ],
             [
              0.5555555555555556,
              "#d8576b"
             ],
             [
              0.6666666666666666,
              "#ed7953"
             ],
             [
              0.7777777777777778,
              "#fb9f3a"
             ],
             [
              0.8888888888888888,
              "#fdca26"
             ],
             [
              1,
              "#f0f921"
             ]
            ],
            "type": "heatmap"
           }
          ],
          "heatmapgl": [
           {
            "colorbar": {
             "outlinewidth": 0,
             "ticks": ""
            },
            "colorscale": [
             [
              0,
              "#0d0887"
             ],
             [
              0.1111111111111111,
              "#46039f"
             ],
             [
              0.2222222222222222,
              "#7201a8"
             ],
             [
              0.3333333333333333,
              "#9c179e"
             ],
             [
              0.4444444444444444,
              "#bd3786"
             ],
             [
              0.5555555555555556,
              "#d8576b"
             ],
             [
              0.6666666666666666,
              "#ed7953"
             ],
             [
              0.7777777777777778,
              "#fb9f3a"
             ],
             [
              0.8888888888888888,
              "#fdca26"
             ],
             [
              1,
              "#f0f921"
             ]
            ],
            "type": "heatmapgl"
           }
          ],
          "histogram": [
           {
            "marker": {
             "pattern": {
              "fillmode": "overlay",
              "size": 10,
              "solidity": 0.2
             }
            },
            "type": "histogram"
           }
          ],
          "histogram2d": [
           {
            "colorbar": {
             "outlinewidth": 0,
             "ticks": ""
            },
            "colorscale": [
             [
              0,
              "#0d0887"
             ],
             [
              0.1111111111111111,
              "#46039f"
             ],
             [
              0.2222222222222222,
              "#7201a8"
             ],
             [
              0.3333333333333333,
              "#9c179e"
             ],
             [
              0.4444444444444444,
              "#bd3786"
             ],
             [
              0.5555555555555556,
              "#d8576b"
             ],
             [
              0.6666666666666666,
              "#ed7953"
             ],
             [
              0.7777777777777778,
              "#fb9f3a"
             ],
             [
              0.8888888888888888,
              "#fdca26"
             ],
             [
              1,
              "#f0f921"
             ]
            ],
            "type": "histogram2d"
           }
          ],
          "histogram2dcontour": [
           {
            "colorbar": {
             "outlinewidth": 0,
             "ticks": ""
            },
            "colorscale": [
             [
              0,
              "#0d0887"
             ],
             [
              0.1111111111111111,
              "#46039f"
             ],
             [
              0.2222222222222222,
              "#7201a8"
             ],
             [
              0.3333333333333333,
              "#9c179e"
             ],
             [
              0.4444444444444444,
              "#bd3786"
             ],
             [
              0.5555555555555556,
              "#d8576b"
             ],
             [
              0.6666666666666666,
              "#ed7953"
             ],
             [
              0.7777777777777778,
              "#fb9f3a"
             ],
             [
              0.8888888888888888,
              "#fdca26"
             ],
             [
              1,
              "#f0f921"
             ]
            ],
            "type": "histogram2dcontour"
           }
          ],
          "mesh3d": [
           {
            "colorbar": {
             "outlinewidth": 0,
             "ticks": ""
            },
            "type": "mesh3d"
           }
          ],
          "parcoords": [
           {
            "line": {
             "colorbar": {
              "outlinewidth": 0,
              "ticks": ""
             }
            },
            "type": "parcoords"
           }
          ],
          "pie": [
           {
            "automargin": true,
            "type": "pie"
           }
          ],
          "scatter": [
           {
            "fillpattern": {
             "fillmode": "overlay",
             "size": 10,
             "solidity": 0.2
            },
            "type": "scatter"
           }
          ],
          "scatter3d": [
           {
            "line": {
             "colorbar": {
              "outlinewidth": 0,
              "ticks": ""
             }
            },
            "marker": {
             "colorbar": {
              "outlinewidth": 0,
              "ticks": ""
             }
            },
            "type": "scatter3d"
           }
          ],
          "scattercarpet": [
           {
            "marker": {
             "colorbar": {
              "outlinewidth": 0,
              "ticks": ""
             }
            },
            "type": "scattercarpet"
           }
          ],
          "scattergeo": [
           {
            "marker": {
             "colorbar": {
              "outlinewidth": 0,
              "ticks": ""
             }
            },
            "type": "scattergeo"
           }
          ],
          "scattergl": [
           {
            "marker": {
             "colorbar": {
              "outlinewidth": 0,
              "ticks": ""
             }
            },
            "type": "scattergl"
           }
          ],
          "scattermapbox": [
           {
            "marker": {
             "colorbar": {
              "outlinewidth": 0,
              "ticks": ""
             }
            },
            "type": "scattermapbox"
           }
          ],
          "scatterpolar": [
           {
            "marker": {
             "colorbar": {
              "outlinewidth": 0,
              "ticks": ""
             }
            },
            "type": "scatterpolar"
           }
          ],
          "scatterpolargl": [
           {
            "marker": {
             "colorbar": {
              "outlinewidth": 0,
              "ticks": ""
             }
            },
            "type": "scatterpolargl"
           }
          ],
          "scatterternary": [
           {
            "marker": {
             "colorbar": {
              "outlinewidth": 0,
              "ticks": ""
             }
            },
            "type": "scatterternary"
           }
          ],
          "surface": [
           {
            "colorbar": {
             "outlinewidth": 0,
             "ticks": ""
            },
            "colorscale": [
             [
              0,
              "#0d0887"
             ],
             [
              0.1111111111111111,
              "#46039f"
             ],
             [
              0.2222222222222222,
              "#7201a8"
             ],
             [
              0.3333333333333333,
              "#9c179e"
             ],
             [
              0.4444444444444444,
              "#bd3786"
             ],
             [
              0.5555555555555556,
              "#d8576b"
             ],
             [
              0.6666666666666666,
              "#ed7953"
             ],
             [
              0.7777777777777778,
              "#fb9f3a"
             ],
             [
              0.8888888888888888,
              "#fdca26"
             ],
             [
              1,
              "#f0f921"
             ]
            ],
            "type": "surface"
           }
          ],
          "table": [
           {
            "cells": {
             "fill": {
              "color": "#EBF0F8"
             },
             "line": {
              "color": "white"
             }
            },
            "header": {
             "fill": {
              "color": "#C8D4E3"
             },
             "line": {
              "color": "white"
             }
            },
            "type": "table"
           }
          ]
         },
         "layout": {
          "annotationdefaults": {
           "arrowcolor": "#2a3f5f",
           "arrowhead": 0,
           "arrowwidth": 1
          },
          "autotypenumbers": "strict",
          "coloraxis": {
           "colorbar": {
            "outlinewidth": 0,
            "ticks": ""
           }
          },
          "colorscale": {
           "diverging": [
            [
             0,
             "#8e0152"
            ],
            [
             0.1,
             "#c51b7d"
            ],
            [
             0.2,
             "#de77ae"
            ],
            [
             0.3,
             "#f1b6da"
            ],
            [
             0.4,
             "#fde0ef"
            ],
            [
             0.5,
             "#f7f7f7"
            ],
            [
             0.6,
             "#e6f5d0"
            ],
            [
             0.7,
             "#b8e186"
            ],
            [
             0.8,
             "#7fbc41"
            ],
            [
             0.9,
             "#4d9221"
            ],
            [
             1,
             "#276419"
            ]
           ],
           "sequential": [
            [
             0,
             "#0d0887"
            ],
            [
             0.1111111111111111,
             "#46039f"
            ],
            [
             0.2222222222222222,
             "#7201a8"
            ],
            [
             0.3333333333333333,
             "#9c179e"
            ],
            [
             0.4444444444444444,
             "#bd3786"
            ],
            [
             0.5555555555555556,
             "#d8576b"
            ],
            [
             0.6666666666666666,
             "#ed7953"
            ],
            [
             0.7777777777777778,
             "#fb9f3a"
            ],
            [
             0.8888888888888888,
             "#fdca26"
            ],
            [
             1,
             "#f0f921"
            ]
           ],
           "sequentialminus": [
            [
             0,
             "#0d0887"
            ],
            [
             0.1111111111111111,
             "#46039f"
            ],
            [
             0.2222222222222222,
             "#7201a8"
            ],
            [
             0.3333333333333333,
             "#9c179e"
            ],
            [
             0.4444444444444444,
             "#bd3786"
            ],
            [
             0.5555555555555556,
             "#d8576b"
            ],
            [
             0.6666666666666666,
             "#ed7953"
            ],
            [
             0.7777777777777778,
             "#fb9f3a"
            ],
            [
             0.8888888888888888,
             "#fdca26"
            ],
            [
             1,
             "#f0f921"
            ]
           ]
          },
          "colorway": [
           "#636efa",
           "#EF553B",
           "#00cc96",
           "#ab63fa",
           "#FFA15A",
           "#19d3f3",
           "#FF6692",
           "#B6E880",
           "#FF97FF",
           "#FECB52"
          ],
          "font": {
           "color": "#2a3f5f"
          },
          "geo": {
           "bgcolor": "white",
           "lakecolor": "white",
           "landcolor": "#E5ECF6",
           "showlakes": true,
           "showland": true,
           "subunitcolor": "white"
          },
          "hoverlabel": {
           "align": "left"
          },
          "hovermode": "closest",
          "mapbox": {
           "style": "light"
          },
          "paper_bgcolor": "white",
          "plot_bgcolor": "#E5ECF6",
          "polar": {
           "angularaxis": {
            "gridcolor": "white",
            "linecolor": "white",
            "ticks": ""
           },
           "bgcolor": "#E5ECF6",
           "radialaxis": {
            "gridcolor": "white",
            "linecolor": "white",
            "ticks": ""
           }
          },
          "scene": {
           "xaxis": {
            "backgroundcolor": "#E5ECF6",
            "gridcolor": "white",
            "gridwidth": 2,
            "linecolor": "white",
            "showbackground": true,
            "ticks": "",
            "zerolinecolor": "white"
           },
           "yaxis": {
            "backgroundcolor": "#E5ECF6",
            "gridcolor": "white",
            "gridwidth": 2,
            "linecolor": "white",
            "showbackground": true,
            "ticks": "",
            "zerolinecolor": "white"
           },
           "zaxis": {
            "backgroundcolor": "#E5ECF6",
            "gridcolor": "white",
            "gridwidth": 2,
            "linecolor": "white",
            "showbackground": true,
            "ticks": "",
            "zerolinecolor": "white"
           }
          },
          "shapedefaults": {
           "line": {
            "color": "#2a3f5f"
           }
          },
          "ternary": {
           "aaxis": {
            "gridcolor": "white",
            "linecolor": "white",
            "ticks": ""
           },
           "baxis": {
            "gridcolor": "white",
            "linecolor": "white",
            "ticks": ""
           },
           "bgcolor": "#E5ECF6",
           "caxis": {
            "gridcolor": "white",
            "linecolor": "white",
            "ticks": ""
           }
          },
          "title": {
           "x": 0.05
          },
          "xaxis": {
           "automargin": true,
           "gridcolor": "white",
           "linecolor": "white",
           "ticks": "",
           "title": {
            "standoff": 15
           },
           "zerolinecolor": "white",
           "zerolinewidth": 2
          },
          "yaxis": {
           "automargin": true,
           "gridcolor": "white",
           "linecolor": "white",
           "ticks": "",
           "title": {
            "standoff": 15
           },
           "zerolinecolor": "white",
           "zerolinewidth": 2
          }
         }
        },
        "title": {
         "text": "MACs vs. total parameters - MobileNet V2"
        },
        "width": 1200,
        "xaxis": {
         "anchor": "y",
         "domain": [
          0,
          1
         ],
         "title": {
          "text": "parameters"
         }
        },
        "yaxis": {
         "anchor": "x",
         "domain": [
          0,
          1
         ],
         "title": {
          "text": "MACs"
         }
        }
       }
      },
      "text/html": [
       "<div>                            <div id=\"46ef2022-d271-4c11-b025-e7a2a3554e79\" class=\"plotly-graph-div\" style=\"height:400px; width:1200px;\"></div>            <script type=\"text/javascript\">                require([\"plotly\"], function(Plotly) {                    window.PLOTLYENV=window.PLOTLYENV || {};                                    if (document.getElementById(\"46ef2022-d271-4c11-b025-e7a2a3554e79\")) {                    Plotly.newPlot(                        \"46ef2022-d271-4c11-b025-e7a2a3554e79\",                        [{\"customdata\":[[\"mobilenetv2_0.1_96_c3_o2_t3l1024.MV1\",\"0.1\"],[\"mobilenetv2_0.1_96_c3_o2_t6l1024.MV1\",\"0.1\"],[\"mobilenetv2_0.1_96_c3_o2_t5l1024.MV1\",\"0.1\"],[\"mobilenetv2_0.1_96_c3_o2_l5\",\"0.1\"],[\"mobilenetv2_0.1_96_c3_o2_t4l1024.MV1\",\"0.1\"],[\"mobilenetv2_0.1_96_c3_o2_t2l1024.MV1\",\"0.1\"],[\"mobilenetv2_0.1_96_c3_o2_t1l1024.MV1\",\"0.1\"],[\"mobilenetv2_0.1_96_c3_o2_t6l128.MV1\",\"0.1\"],[\"mobilenetv2_0.1_96_c3_o2_t6l256.MV1\",\"0.1\"],[\"mobilenetv2_0.1_96_c3_o2_t6l512.MV1\",\"0.1\"]],\"hovertemplate\":\"alpha=%{customdata[1]}<br>parameters=%{x}<br>MACs=%{y}<br>tflite_model_INT8_size_kb=%{marker.size}<br>model name=%{customdata[0]}<extra></extra>\",\"legendgroup\":\"0.1\",\"marker\":{\"color\":\"#636efa\",\"size\":[132.890625,159.921875,150.8828125,176.4921875,141.7109375,123.59375,114.5703125,105.671875,113.421875,128.921875],\"sizemode\":\"area\",\"sizeref\":6.50279296875,\"symbol\":\"circle\"},\"mode\":\"markers\",\"name\":\"0.1\",\"orientation\":\"v\",\"showlegend\":true,\"x\":[53810,67766,63114,77494,58462,49158,44506,33718,38582,48310],\"xaxis\":\"x\",\"y\":[1298435,1617926,1511429,1692166,1404932,1191938,1085441,1358086,1395206,1469446],\"yaxis\":\"y\",\"type\":\"scatter\"},{\"customdata\":[[\"mobilenetv2_0.2_96_c3_o2_t6l1024.MV1\",\"0.2\"],[\"mobilenetv2_0.2_96_c3_o2_t5l1024.MV1\",\"0.2\"],[\"mobilenetv2_0.2_96_c3_o2_t5l256.MV1\",\"0.2\"],[\"mobilenetv2_0.2_96_c3_o2_t5l128.MV1\",\"0.2\"],[\"mobilenetv2_0.2_96_c3_o2_t6l128.MV1\",\"0.2\"],[\"mobilenetv2_0.2_96_c3_o2_t6l256.MV1\",\"0.2\"],[\"mobilenetv2_0.2_96_c3_o2_t6l512.MV1\",\"0.2\"],[\"mobilenetv2_0.2_96_c3_o2_l5\",\"0.2\"],[\"mobilenetv2_0.2_96_c3_o2_t5l512.MV1\",\"0.2\"]],\"hovertemplate\":\"alpha=%{customdata[1]}<br>parameters=%{x}<br>MACs=%{y}<br>tflite_model_INT8_size_kb=%{marker.size}<br>model name=%{customdata[0]}<extra></extra>\",\"legendgroup\":\"0.2\",\"marker\":{\"color\":\"#EF553B\",\"size\":[285.0859375,261.1015625,190.6015625,178.8515625,202.8359375,214.5859375,238.0859375,309.6328125,214.1015625],\"sizemode\":\"area\",\"sizeref\":6.50279296875,\"symbol\":\"circle\"},\"mode\":\"markers\",\"name\":\"0.2\",\"orientation\":\"v\",\"showlegend\":true,\"x\":[163666,148594,94834,85874,100946,109906,127826,181586,112754],\"xaxis\":\"x\",\"y\":[3487946,3125075,2681171,2607187,2970058,3044042,3192010,3635914,2829139],\"yaxis\":\"y\",\"type\":\"scatter\"},{\"customdata\":[[\"mobilenetv2_0.25_96_c3_o2_t4l1024.MV1\",\"0.25\"],[\"mobilenetv2_0.25_96_c3_o2_t6l1024.MV1\",\"0.25\"],[\"mobilenetv2_0.25_96_c3_o2_t5l1024.MV1\",\"0.25\"],[\"mobilenetv2_0.25_96_c3_o2_t6l1024.GAP\",\"0.25\"],[\"mobilenetv2_0.25_96_c3_o2_l5\",\"0.25\"],[\"mobilenetv2_0.25_96_c3_o2_t3l1024.MV1\",\"0.25\"],[\"mobilenetv2_0.25_96_c3_o2_t5l512.MV1\",\"0.25\"],[\"mobilenetv2_0.25_96_c3_o2_t1l1024.MV1\",\"0.25\"],[\"mobilenetv2_0.25_96_c3_o2_t6l512.MV1\",\"0.25\"],[\"mobilenetv2_0.25_96_c3_o2_t6l256.MV1\",\"0.25\"],[\"mobilenetv2_0.25_96_c3_o2_t6l128.MV1\",\"0.25\"],[\"mobilenetv2_0.25_96_c3_o2_t5l128.MV1\",\"0.25\"],[\"mobilenetv2_0.25_96_c3_o2_t5l256.MV1\",\"0.25\"],[\"mobilenetv2_0.25_96_c3_o2_t2l1024.MV1\",\"0.25\"],[\"mobilenetv2_0.25_96_c3_o2_keras\",\"0.25\"]],\"hovertemplate\":\"alpha=%{customdata[1]}<br>parameters=%{x}<br>MACs=%{y}<br>tflite_model_INT8_size_kb=%{marker.size}<br>model name=%{customdata[0]}<extra></extra>\",\"legendgroup\":\"0.25\",\"marker\":{\"color\":\"#00cc96\",\"size\":[296.390625,364.9765625,330.53125,365.3359375,393.5234375,262.1875,275.53125,193.1328125,309.9765625,282.4765625,268.7265625,234.28125,248.03125,227.5390625,401.3515625],\"sizemode\":\"area\",\"sizeref\":6.50279296875,\"symbol\":\"circle\"},\"mode\":\"markers\",\"name\":\"0.25\",\"orientation\":\"v\",\"showlegend\":true,\"x\":[181522,227306,204414,227306,249322,158630,160382,112846,183274,161258,150250,127358,138366,135738,251330],\"xaxis\":\"x\",\"y\":[3848000,5033696,4440848,5033696,5218528,3255152,4071184,2069456,4664032,4479200,4386784,3793936,3886352,2662304,6600352],\"yaxis\":\"y\",\"type\":\"scatter\"},{\"customdata\":[[\"mobilenetv2_0.35_96_c3_o2_keras\",\"0.35\"],[\"mobilenetv2_0.35_96_c3_o2_l5\",\"0.35\"]],\"hovertemplate\":\"alpha=%{customdata[1]}<br>parameters=%{x}<br>MACs=%{y}<br>tflite_model_INT8_size_kb=%{marker.size}<br>model name=%{customdata[0]}<extra></extra>\",\"legendgroup\":\"0.35\",\"marker\":{\"color\":\"#ab63fa\",\"size\":[593.578125,574.3359375],\"sizemode\":\"area\",\"sizeref\":6.50279296875,\"symbol\":\"circle\"},\"mode\":\"markers\",\"name\":\"0.35\",\"orientation\":\"v\",\"showlegend\":true,\"x\":[412770,402934],\"xaxis\":\"x\",\"y\":[10656688,9008662],\"yaxis\":\"y\",\"type\":\"scatter\"},{\"customdata\":[[\"mobilenetv2_0.5_96_c3_o2_l5\",\"0.5\"],[\"mobilenetv2_0.5_96_c3_o2_keras\",\"0.5\"]],\"hovertemplate\":\"alpha=%{customdata[1]}<br>parameters=%{x}<br>MACs=%{y}<br>tflite_model_INT8_size_kb=%{marker.size}<br>model name=%{customdata[0]}<extra></extra>\",\"legendgroup\":\"0.5\",\"marker\":{\"color\":\"#FFA15A\",\"size\":[918.7890625,927.6640625],\"sizemode\":\"area\",\"sizeref\":6.50279296875,\"symbol\":\"circle\"},\"mode\":\"markers\",\"name\":\"0.5\",\"orientation\":\"v\",\"showlegend\":true,\"x\":[705346,708786],\"xaxis\":\"x\",\"y\":[16125376,17608000],\"yaxis\":\"y\",\"type\":\"scatter\"},{\"customdata\":[[\"mobilenetv2_1_96_c3_o2_l5\",\"1.0\"],[\"mobilenetv2_1_96_c3_o2_keras\",\"1.0\"]],\"hovertemplate\":\"alpha=%{customdata[1]}<br>parameters=%{x}<br>MACs=%{y}<br>tflite_model_INT8_size_kb=%{marker.size}<br>model name=%{customdata[0]}<extra></extra>\",\"legendgroup\":\"1.0\",\"marker\":{\"color\":\"#19d3f3\",\"size\":[2597.3984375,2601.1171875],\"sizemode\":\"area\",\"sizeref\":6.50279296875,\"symbol\":\"circle\"},\"mode\":\"markers\",\"name\":\"1.0\",\"orientation\":\"v\",\"showlegend\":true,\"x\":[2260546,2260546],\"xaxis\":\"x\",\"y\":[55011712,55011712],\"yaxis\":\"y\",\"type\":\"scatter\"}],                        {\"template\":{\"data\":{\"histogram2dcontour\":[{\"type\":\"histogram2dcontour\",\"colorbar\":{\"outlinewidth\":0,\"ticks\":\"\"},\"colorscale\":[[0.0,\"#0d0887\"],[0.1111111111111111,\"#46039f\"],[0.2222222222222222,\"#7201a8\"],[0.3333333333333333,\"#9c179e\"],[0.4444444444444444,\"#bd3786\"],[0.5555555555555556,\"#d8576b\"],[0.6666666666666666,\"#ed7953\"],[0.7777777777777778,\"#fb9f3a\"],[0.8888888888888888,\"#fdca26\"],[1.0,\"#f0f921\"]]}],\"choropleth\":[{\"type\":\"choropleth\",\"colorbar\":{\"outlinewidth\":0,\"ticks\":\"\"}}],\"histogram2d\":[{\"type\":\"histogram2d\",\"colorbar\":{\"outlinewidth\":0,\"ticks\":\"\"},\"colorscale\":[[0.0,\"#0d0887\"],[0.1111111111111111,\"#46039f\"],[0.2222222222222222,\"#7201a8\"],[0.3333333333333333,\"#9c179e\"],[0.4444444444444444,\"#bd3786\"],[0.5555555555555556,\"#d8576b\"],[0.6666666666666666,\"#ed7953\"],[0.7777777777777778,\"#fb9f3a\"],[0.8888888888888888,\"#fdca26\"],[1.0,\"#f0f921\"]]}],\"heatmap\":[{\"type\":\"heatmap\",\"colorbar\":{\"outlinewidth\":0,\"ticks\":\"\"},\"colorscale\":[[0.0,\"#0d0887\"],[0.1111111111111111,\"#46039f\"],[0.2222222222222222,\"#7201a8\"],[0.3333333333333333,\"#9c179e\"],[0.4444444444444444,\"#bd3786\"],[0.5555555555555556,\"#d8576b\"],[0.6666666666666666,\"#ed7953\"],[0.7777777777777778,\"#fb9f3a\"],[0.8888888888888888,\"#fdca26\"],[1.0,\"#f0f921\"]]}],\"heatmapgl\":[{\"type\":\"heatmapgl\",\"colorbar\":{\"outlinewidth\":0,\"ticks\":\"\"},\"colorscale\":[[0.0,\"#0d0887\"],[0.1111111111111111,\"#46039f\"],[0.2222222222222222,\"#7201a8\"],[0.3333333333333333,\"#9c179e\"],[0.4444444444444444,\"#bd3786\"],[0.5555555555555556,\"#d8576b\"],[0.6666666666666666,\"#ed7953\"],[0.7777777777777778,\"#fb9f3a\"],[0.8888888888888888,\"#fdca26\"],[1.0,\"#f0f921\"]]}],\"contourcarpet\":[{\"type\":\"contourcarpet\",\"colorbar\":{\"outlinewidth\":0,\"ticks\":\"\"}}],\"contour\":[{\"type\":\"contour\",\"colorbar\":{\"outlinewidth\":0,\"ticks\":\"\"},\"colorscale\":[[0.0,\"#0d0887\"],[0.1111111111111111,\"#46039f\"],[0.2222222222222222,\"#7201a8\"],[0.3333333333333333,\"#9c179e\"],[0.4444444444444444,\"#bd3786\"],[0.5555555555555556,\"#d8576b\"],[0.6666666666666666,\"#ed7953\"],[0.7777777777777778,\"#fb9f3a\"],[0.8888888888888888,\"#fdca26\"],[1.0,\"#f0f921\"]]}],\"surface\":[{\"type\":\"surface\",\"colorbar\":{\"outlinewidth\":0,\"ticks\":\"\"},\"colorscale\":[[0.0,\"#0d0887\"],[0.1111111111111111,\"#46039f\"],[0.2222222222222222,\"#7201a8\"],[0.3333333333333333,\"#9c179e\"],[0.4444444444444444,\"#bd3786\"],[0.5555555555555556,\"#d8576b\"],[0.6666666666666666,\"#ed7953\"],[0.7777777777777778,\"#fb9f3a\"],[0.8888888888888888,\"#fdca26\"],[1.0,\"#f0f921\"]]}],\"mesh3d\":[{\"type\":\"mesh3d\",\"colorbar\":{\"outlinewidth\":0,\"ticks\":\"\"}}],\"scatter\":[{\"fillpattern\":{\"fillmode\":\"overlay\",\"size\":10,\"solidity\":0.2},\"type\":\"scatter\"}],\"parcoords\":[{\"type\":\"parcoords\",\"line\":{\"colorbar\":{\"outlinewidth\":0,\"ticks\":\"\"}}}],\"scatterpolargl\":[{\"type\":\"scatterpolargl\",\"marker\":{\"colorbar\":{\"outlinewidth\":0,\"ticks\":\"\"}}}],\"bar\":[{\"error_x\":{\"color\":\"#2a3f5f\"},\"error_y\":{\"color\":\"#2a3f5f\"},\"marker\":{\"line\":{\"color\":\"#E5ECF6\",\"width\":0.5},\"pattern\":{\"fillmode\":\"overlay\",\"size\":10,\"solidity\":0.2}},\"type\":\"bar\"}],\"scattergeo\":[{\"type\":\"scattergeo\",\"marker\":{\"colorbar\":{\"outlinewidth\":0,\"ticks\":\"\"}}}],\"scatterpolar\":[{\"type\":\"scatterpolar\",\"marker\":{\"colorbar\":{\"outlinewidth\":0,\"ticks\":\"\"}}}],\"histogram\":[{\"marker\":{\"pattern\":{\"fillmode\":\"overlay\",\"size\":10,\"solidity\":0.2}},\"type\":\"histogram\"}],\"scattergl\":[{\"type\":\"scattergl\",\"marker\":{\"colorbar\":{\"outlinewidth\":0,\"ticks\":\"\"}}}],\"scatter3d\":[{\"type\":\"scatter3d\",\"line\":{\"colorbar\":{\"outlinewidth\":0,\"ticks\":\"\"}},\"marker\":{\"colorbar\":{\"outlinewidth\":0,\"ticks\":\"\"}}}],\"scattermapbox\":[{\"type\":\"scattermapbox\",\"marker\":{\"colorbar\":{\"outlinewidth\":0,\"ticks\":\"\"}}}],\"scatterternary\":[{\"type\":\"scatterternary\",\"marker\":{\"colorbar\":{\"outlinewidth\":0,\"ticks\":\"\"}}}],\"scattercarpet\":[{\"type\":\"scattercarpet\",\"marker\":{\"colorbar\":{\"outlinewidth\":0,\"ticks\":\"\"}}}],\"carpet\":[{\"aaxis\":{\"endlinecolor\":\"#2a3f5f\",\"gridcolor\":\"white\",\"linecolor\":\"white\",\"minorgridcolor\":\"white\",\"startlinecolor\":\"#2a3f5f\"},\"baxis\":{\"endlinecolor\":\"#2a3f5f\",\"gridcolor\":\"white\",\"linecolor\":\"white\",\"minorgridcolor\":\"white\",\"startlinecolor\":\"#2a3f5f\"},\"type\":\"carpet\"}],\"table\":[{\"cells\":{\"fill\":{\"color\":\"#EBF0F8\"},\"line\":{\"color\":\"white\"}},\"header\":{\"fill\":{\"color\":\"#C8D4E3\"},\"line\":{\"color\":\"white\"}},\"type\":\"table\"}],\"barpolar\":[{\"marker\":{\"line\":{\"color\":\"#E5ECF6\",\"width\":0.5},\"pattern\":{\"fillmode\":\"overlay\",\"size\":10,\"solidity\":0.2}},\"type\":\"barpolar\"}],\"pie\":[{\"automargin\":true,\"type\":\"pie\"}]},\"layout\":{\"autotypenumbers\":\"strict\",\"colorway\":[\"#636efa\",\"#EF553B\",\"#00cc96\",\"#ab63fa\",\"#FFA15A\",\"#19d3f3\",\"#FF6692\",\"#B6E880\",\"#FF97FF\",\"#FECB52\"],\"font\":{\"color\":\"#2a3f5f\"},\"hovermode\":\"closest\",\"hoverlabel\":{\"align\":\"left\"},\"paper_bgcolor\":\"white\",\"plot_bgcolor\":\"#E5ECF6\",\"polar\":{\"bgcolor\":\"#E5ECF6\",\"angularaxis\":{\"gridcolor\":\"white\",\"linecolor\":\"white\",\"ticks\":\"\"},\"radialaxis\":{\"gridcolor\":\"white\",\"linecolor\":\"white\",\"ticks\":\"\"}},\"ternary\":{\"bgcolor\":\"#E5ECF6\",\"aaxis\":{\"gridcolor\":\"white\",\"linecolor\":\"white\",\"ticks\":\"\"},\"baxis\":{\"gridcolor\":\"white\",\"linecolor\":\"white\",\"ticks\":\"\"},\"caxis\":{\"gridcolor\":\"white\",\"linecolor\":\"white\",\"ticks\":\"\"}},\"coloraxis\":{\"colorbar\":{\"outlinewidth\":0,\"ticks\":\"\"}},\"colorscale\":{\"sequential\":[[0.0,\"#0d0887\"],[0.1111111111111111,\"#46039f\"],[0.2222222222222222,\"#7201a8\"],[0.3333333333333333,\"#9c179e\"],[0.4444444444444444,\"#bd3786\"],[0.5555555555555556,\"#d8576b\"],[0.6666666666666666,\"#ed7953\"],[0.7777777777777778,\"#fb9f3a\"],[0.8888888888888888,\"#fdca26\"],[1.0,\"#f0f921\"]],\"sequentialminus\":[[0.0,\"#0d0887\"],[0.1111111111111111,\"#46039f\"],[0.2222222222222222,\"#7201a8\"],[0.3333333333333333,\"#9c179e\"],[0.4444444444444444,\"#bd3786\"],[0.5555555555555556,\"#d8576b\"],[0.6666666666666666,\"#ed7953\"],[0.7777777777777778,\"#fb9f3a\"],[0.8888888888888888,\"#fdca26\"],[1.0,\"#f0f921\"]],\"diverging\":[[0,\"#8e0152\"],[0.1,\"#c51b7d\"],[0.2,\"#de77ae\"],[0.3,\"#f1b6da\"],[0.4,\"#fde0ef\"],[0.5,\"#f7f7f7\"],[0.6,\"#e6f5d0\"],[0.7,\"#b8e186\"],[0.8,\"#7fbc41\"],[0.9,\"#4d9221\"],[1,\"#276419\"]]},\"xaxis\":{\"gridcolor\":\"white\",\"linecolor\":\"white\",\"ticks\":\"\",\"title\":{\"standoff\":15},\"zerolinecolor\":\"white\",\"automargin\":true,\"zerolinewidth\":2},\"yaxis\":{\"gridcolor\":\"white\",\"linecolor\":\"white\",\"ticks\":\"\",\"title\":{\"standoff\":15},\"zerolinecolor\":\"white\",\"automargin\":true,\"zerolinewidth\":2},\"scene\":{\"xaxis\":{\"backgroundcolor\":\"#E5ECF6\",\"gridcolor\":\"white\",\"linecolor\":\"white\",\"showbackground\":true,\"ticks\":\"\",\"zerolinecolor\":\"white\",\"gridwidth\":2},\"yaxis\":{\"backgroundcolor\":\"#E5ECF6\",\"gridcolor\":\"white\",\"linecolor\":\"white\",\"showbackground\":true,\"ticks\":\"\",\"zerolinecolor\":\"white\",\"gridwidth\":2},\"zaxis\":{\"backgroundcolor\":\"#E5ECF6\",\"gridcolor\":\"white\",\"linecolor\":\"white\",\"showbackground\":true,\"ticks\":\"\",\"zerolinecolor\":\"white\",\"gridwidth\":2}},\"shapedefaults\":{\"line\":{\"color\":\"#2a3f5f\"}},\"annotationdefaults\":{\"arrowcolor\":\"#2a3f5f\",\"arrowhead\":0,\"arrowwidth\":1},\"geo\":{\"bgcolor\":\"white\",\"landcolor\":\"#E5ECF6\",\"subunitcolor\":\"white\",\"showland\":true,\"showlakes\":true,\"lakecolor\":\"white\"},\"title\":{\"x\":0.05},\"mapbox\":{\"style\":\"light\"}}},\"xaxis\":{\"anchor\":\"y\",\"domain\":[0.0,1.0],\"title\":{\"text\":\"parameters\"}},\"yaxis\":{\"anchor\":\"x\",\"domain\":[0.0,1.0],\"title\":{\"text\":\"MACs\"}},\"legend\":{\"title\":{\"text\":\"alpha\"},\"tracegroupgap\":0,\"itemsizing\":\"constant\"},\"title\":{\"text\":\"MACs vs. total parameters - MobileNet V2\"},\"shapes\":[{\"line\":{\"color\":\"red\",\"dash\":\"dash\",\"width\":2},\"type\":\"line\",\"x0\":0,\"x1\":1,\"xref\":\"x domain\",\"y0\":60000000,\"y1\":60000000,\"yref\":\"y\"}],\"annotations\":[{\"showarrow\":false,\"text\":\"60M MACs\",\"x\":0.5,\"xanchor\":\"center\",\"xref\":\"x domain\",\"y\":60000000.0,\"yanchor\":\"bottom\",\"yref\":\"y\"}],\"showlegend\":true,\"width\":1200,\"height\":400},                        {\"responsive\": true}                    ).then(function(){\n",
       "                            \n",
       "var gd = document.getElementById('46ef2022-d271-4c11-b025-e7a2a3554e79');\n",
       "var x = new MutationObserver(function (mutations, observer) {{\n",
       "        var display = window.getComputedStyle(gd).display;\n",
       "        if (!display || display === 'none') {{\n",
       "            console.log([gd, 'removed!']);\n",
       "            Plotly.purge(gd);\n",
       "            observer.disconnect();\n",
       "        }}\n",
       "}});\n",
       "\n",
       "// Listen for the removal of the full notebook cells\n",
       "var notebookContainer = gd.closest('#notebook-container');\n",
       "if (notebookContainer) {{\n",
       "    x.observe(notebookContainer, {childList: true});\n",
       "}}\n",
       "\n",
       "// Listen for the clearing of the current output cell\n",
       "var outputEl = gd.closest('.output');\n",
       "if (outputEl) {{\n",
       "    x.observe(outputEl, {childList: true});\n",
       "}}\n",
       "\n",
       "                        })                };                });            </script>        </div>"
      ]
     },
     "metadata": {},
     "output_type": "display_data"
    }
   ],
   "source": [
    "mbnv2_fig = params_macs_alpha_fig(mbnv2_df, \"MobileNet V2\")"
   ]
  },
  {
   "cell_type": "code",
   "execution_count": 94,
   "metadata": {},
   "outputs": [
    {
     "data": {
      "application/vnd.plotly.v1+json": {
       "config": {
        "plotlyServerURL": "https://plot.ly"
       },
       "data": [
        {
         "customdata": [
          [
           "mobilenetv2_0.1_96_c3_o2_t3l1024.MV1",
           "0.1",
           1298435
          ],
          [
           "mobilenetv2_0.1_96_c3_o2_t6l1024.MV1",
           "0.1",
           1617926
          ],
          [
           "mobilenetv2_0.1_96_c3_o2_t5l1024.MV1",
           "0.1",
           1511429
          ],
          [
           "mobilenetv2_0.1_96_c3_o2_l5",
           "0.1",
           1692166
          ],
          [
           "mobilenetv2_0.1_96_c3_o2_t4l1024.MV1",
           "0.1",
           1404932
          ],
          [
           "mobilenetv2_0.1_96_c3_o2_t2l1024.MV1",
           "0.1",
           1191938
          ],
          [
           "mobilenetv2_0.1_96_c3_o2_t1l1024.MV1",
           "0.1",
           1085441
          ],
          [
           "mobilenetv2_0.1_96_c3_o2_t6l128.MV1",
           "0.1",
           1358086
          ],
          [
           "mobilenetv2_0.1_96_c3_o2_t6l256.MV1",
           "0.1",
           1395206
          ],
          [
           "mobilenetv2_0.1_96_c3_o2_t6l512.MV1",
           "0.1",
           1469446
          ]
         ],
         "hovertemplate": "alpha=%{customdata[1]}<br>parameters=%{x}<br>FLOPs=%{y}<br>tflite_model_INT8_size_kb=%{marker.size}<br>run_name=%{customdata[0]}<br>macs_mltk=%{customdata[2]}<extra></extra>",
         "legendgroup": "0.1",
         "marker": {
          "color": "#636efa",
          "size": [
           132.890625,
           159.921875,
           150.8828125,
           176.4921875,
           141.7109375,
           123.59375,
           114.5703125,
           105.671875,
           113.421875,
           128.921875
          ],
          "sizemode": "area",
          "sizeref": 6.50279296875,
          "symbol": "circle"
         },
         "mode": "markers",
         "name": "0.1",
         "orientation": "v",
         "showlegend": true,
         "type": "scatter",
         "x": [
          53810,
          67766,
          63114,
          77494,
          58462,
          49158,
          44506,
          33718,
          38582,
          48310
         ],
         "xaxis": "x",
         "y": [
          2986685,
          3744332,
          3491783,
          3889486,
          3239234,
          2734136,
          2481587,
          3191500,
          3270476,
          3428428
         ],
         "yaxis": "y"
        },
        {
         "customdata": [
          [
           "mobilenetv2_0.2_96_c3_o2_t6l1024.MV1",
           "0.2",
           3487946
          ],
          [
           "mobilenetv2_0.2_96_c3_o2_t5l1024.MV1",
           "0.2",
           3125075
          ],
          [
           "mobilenetv2_0.2_96_c3_o2_t5l256.MV1",
           "0.2",
           2681171
          ],
          [
           "mobilenetv2_0.2_96_c3_o2_t5l128.MV1",
           "0.2",
           2607187
          ],
          [
           "mobilenetv2_0.2_96_c3_o2_t6l128.MV1",
           "0.2",
           2970058
          ],
          [
           "mobilenetv2_0.2_96_c3_o2_t6l256.MV1",
           "0.2",
           3044042
          ],
          [
           "mobilenetv2_0.2_96_c3_o2_t6l512.MV1",
           "0.2",
           3192010
          ],
          [
           "mobilenetv2_0.2_96_c3_o2_l5",
           "0.2",
           3635914
          ],
          [
           "mobilenetv2_0.2_96_c3_o2_t5l512.MV1",
           "0.2",
           2829139
          ]
         ],
         "hovertemplate": "alpha=%{customdata[1]}<br>parameters=%{x}<br>FLOPs=%{y}<br>tflite_model_INT8_size_kb=%{marker.size}<br>run_name=%{customdata[0]}<br>macs_mltk=%{customdata[2]}<extra></extra>",
         "legendgroup": "0.2",
         "marker": {
          "color": "#EF553B",
          "size": [
           285.0859375,
           261.1015625,
           190.6015625,
           178.8515625,
           202.8359375,
           214.5859375,
           238.0859375,
           309.6328125,
           214.1015625
          ],
          "sizemode": "area",
          "sizeref": 6.50279296875,
          "symbol": "circle"
         },
         "mode": "markers",
         "name": "0.2",
         "orientation": "v",
         "showlegend": true,
         "type": "scatter",
         "x": [
          163666,
          148594,
          94834,
          85874,
          100946,
          109906,
          127826,
          181586,
          112754
         ],
         "xaxis": "x",
         "y": [
          7791488,
          6977429,
          6061205,
          5908501,
          6722560,
          6875264,
          7180672,
          8084098,
          6366613
         ],
         "yaxis": "y"
        },
        {
         "customdata": [
          [
           "mobilenetv2_0.25_96_c3_o2_t4l1024.MV1",
           "0.25",
           3848000
          ],
          [
           "mobilenetv2_0.25_96_c3_o2_t6l1024.MV1",
           "0.25",
           5033696
          ],
          [
           "mobilenetv2_0.25_96_c3_o2_t5l1024.MV1",
           "0.25",
           4440848
          ],
          [
           "mobilenetv2_0.25_96_c3_o2_t6l1024.GAP",
           "0.25",
           5033696
          ],
          [
           "mobilenetv2_0.25_96_c3_o2_l5",
           "0.25",
           5218528
          ],
          [
           "mobilenetv2_0.25_96_c3_o2_t3l1024.MV1",
           "0.25",
           3255152
          ],
          [
           "mobilenetv2_0.25_96_c3_o2_t5l512.MV1",
           "0.25",
           4071184
          ],
          [
           "mobilenetv2_0.25_96_c3_o2_t1l1024.MV1",
           "0.25",
           2069456
          ],
          [
           "mobilenetv2_0.25_96_c3_o2_t6l512.MV1",
           "0.25",
           4664032
          ],
          [
           "mobilenetv2_0.25_96_c3_o2_t6l256.MV1",
           "0.25",
           4479200
          ],
          [
           "mobilenetv2_0.25_96_c3_o2_t6l128.MV1",
           "0.25",
           4386784
          ],
          [
           "mobilenetv2_0.25_96_c3_o2_t5l128.MV1",
           "0.25",
           3793936
          ],
          [
           "mobilenetv2_0.25_96_c3_o2_t5l256.MV1",
           "0.25",
           3886352
          ],
          [
           "mobilenetv2_0.25_96_c3_o2_t2l1024.MV1",
           "0.25",
           2662304
          ],
          [
           "mobilenetv2_0.25_96_c3_o2_keras",
           "0.25",
           6600352
          ]
         ],
         "hovertemplate": "alpha=%{customdata[1]}<br>parameters=%{x}<br>FLOPs=%{y}<br>tflite_model_INT8_size_kb=%{marker.size}<br>run_name=%{customdata[0]}<br>macs_mltk=%{customdata[2]}<extra></extra>",
         "legendgroup": "0.25",
         "marker": {
          "color": "#00cc96",
          "size": [
           296.390625,
           364.9765625,
           330.53125,
           365.3359375,
           393.5234375,
           262.1875,
           275.53125,
           193.1328125,
           309.9765625,
           282.4765625,
           268.7265625,
           234.28125,
           248.03125,
           227.5390625,
           401.3515625
          ],
          "sizemode": "area",
          "sizeref": 6.50279296875,
          "symbol": "circle"
         },
         "mode": "markers",
         "name": "0.25",
         "orientation": "v",
         "showlegend": true,
         "type": "scatter",
         "x": [
          181522,
          227306,
          204414,
          227306,
          249322,
          158630,
          160382,
          112846,
          183274,
          161258,
          150250,
          127358,
          138366,
          135738,
          251330
         ],
         "xaxis": "x",
         "y": [
          8472554,
          11084570,
          9778562,
          11074332,
          11450908,
          7166546,
          9020290,
          4554530,
          10326298,
          9947162,
          9757594,
          8451586,
          8641154,
          5860538,
          15482906
         ],
         "yaxis": "y"
        },
        {
         "customdata": [
          [
           "mobilenetv2_0.35_96_c3_o2_keras",
           "0.35",
           10656688
          ],
          [
           "mobilenetv2_0.35_96_c3_o2_l5",
           "0.35",
           9008662
          ]
         ],
         "hovertemplate": "alpha=%{customdata[1]}<br>parameters=%{x}<br>FLOPs=%{y}<br>tflite_model_INT8_size_kb=%{marker.size}<br>run_name=%{customdata[0]}<br>macs_mltk=%{customdata[2]}<extra></extra>",
         "legendgroup": "0.35",
         "marker": {
          "color": "#ab63fa",
          "size": [
           593.578125,
           574.3359375
          ],
          "sizemode": "area",
          "sizeref": 6.50279296875,
          "symbol": "circle"
         },
         "mode": "markers",
         "name": "0.35",
         "orientation": "v",
         "showlegend": true,
         "type": "scatter",
         "x": [
          412770,
          402934
         ],
         "xaxis": "x",
         "y": [
          23953850,
          19391158
         ],
         "yaxis": "y"
        },
        {
         "customdata": [
          [
           "mobilenetv2_0.5_96_c3_o2_l5",
           "0.5",
           16125376
          ],
          [
           "mobilenetv2_0.5_96_c3_o2_keras",
           "0.5",
           17608000
          ]
         ],
         "hovertemplate": "alpha=%{customdata[1]}<br>parameters=%{x}<br>FLOPs=%{y}<br>tflite_model_INT8_size_kb=%{marker.size}<br>run_name=%{customdata[0]}<br>macs_mltk=%{customdata[2]}<extra></extra>",
         "legendgroup": "0.5",
         "marker": {
          "color": "#FFA15A",
          "size": [
           918.7890625,
           927.6640625
          ],
          "sizemode": "area",
          "sizeref": 6.50279296875,
          "symbol": "circle"
         },
         "mode": "markers",
         "name": "0.5",
         "orientation": "v",
         "showlegend": true,
         "type": "scatter",
         "x": [
          705346,
          708786
         ],
         "xaxis": "x",
         "y": [
          34133284,
          38473730
         ],
         "yaxis": "y"
        },
        {
         "customdata": [
          [
           "mobilenetv2_1_96_c3_o2_l5",
           "1.0",
           55011712
          ],
          [
           "mobilenetv2_1_96_c3_o2_keras",
           "1.0",
           55011712
          ]
         ],
         "hovertemplate": "alpha=%{customdata[1]}<br>parameters=%{x}<br>FLOPs=%{y}<br>tflite_model_INT8_size_kb=%{marker.size}<br>run_name=%{customdata[0]}<br>macs_mltk=%{customdata[2]}<extra></extra>",
         "legendgroup": "1.0",
         "marker": {
          "color": "#19d3f3",
          "size": [
           2597.3984375,
           2601.1171875
          ],
          "sizemode": "area",
          "sizeref": 6.50279296875,
          "symbol": "circle"
         },
         "mode": "markers",
         "name": "1.0",
         "orientation": "v",
         "showlegend": true,
         "type": "scatter",
         "x": [
          2260546,
          2260546
         ],
         "xaxis": "x",
         "y": [
          113643316,
          115930322
         ],
         "yaxis": "y"
        }
       ],
       "layout": {
        "height": 400,
        "legend": {
         "itemsizing": "constant",
         "title": {
          "text": "alpha"
         },
         "tracegroupgap": 0
        },
        "showlegend": true,
        "template": {
         "data": {
          "bar": [
           {
            "error_x": {
             "color": "#2a3f5f"
            },
            "error_y": {
             "color": "#2a3f5f"
            },
            "marker": {
             "line": {
              "color": "#E5ECF6",
              "width": 0.5
             },
             "pattern": {
              "fillmode": "overlay",
              "size": 10,
              "solidity": 0.2
             }
            },
            "type": "bar"
           }
          ],
          "barpolar": [
           {
            "marker": {
             "line": {
              "color": "#E5ECF6",
              "width": 0.5
             },
             "pattern": {
              "fillmode": "overlay",
              "size": 10,
              "solidity": 0.2
             }
            },
            "type": "barpolar"
           }
          ],
          "carpet": [
           {
            "aaxis": {
             "endlinecolor": "#2a3f5f",
             "gridcolor": "white",
             "linecolor": "white",
             "minorgridcolor": "white",
             "startlinecolor": "#2a3f5f"
            },
            "baxis": {
             "endlinecolor": "#2a3f5f",
             "gridcolor": "white",
             "linecolor": "white",
             "minorgridcolor": "white",
             "startlinecolor": "#2a3f5f"
            },
            "type": "carpet"
           }
          ],
          "choropleth": [
           {
            "colorbar": {
             "outlinewidth": 0,
             "ticks": ""
            },
            "type": "choropleth"
           }
          ],
          "contour": [
           {
            "colorbar": {
             "outlinewidth": 0,
             "ticks": ""
            },
            "colorscale": [
             [
              0,
              "#0d0887"
             ],
             [
              0.1111111111111111,
              "#46039f"
             ],
             [
              0.2222222222222222,
              "#7201a8"
             ],
             [
              0.3333333333333333,
              "#9c179e"
             ],
             [
              0.4444444444444444,
              "#bd3786"
             ],
             [
              0.5555555555555556,
              "#d8576b"
             ],
             [
              0.6666666666666666,
              "#ed7953"
             ],
             [
              0.7777777777777778,
              "#fb9f3a"
             ],
             [
              0.8888888888888888,
              "#fdca26"
             ],
             [
              1,
              "#f0f921"
             ]
            ],
            "type": "contour"
           }
          ],
          "contourcarpet": [
           {
            "colorbar": {
             "outlinewidth": 0,
             "ticks": ""
            },
            "type": "contourcarpet"
           }
          ],
          "heatmap": [
           {
            "colorbar": {
             "outlinewidth": 0,
             "ticks": ""
            },
            "colorscale": [
             [
              0,
              "#0d0887"
             ],
             [
              0.1111111111111111,
              "#46039f"
             ],
             [
              0.2222222222222222,
              "#7201a8"
             ],
             [
              0.3333333333333333,
              "#9c179e"
             ],
             [
              0.4444444444444444,
              "#bd3786"
             ],
             [
              0.5555555555555556,
              "#d8576b"
             ],
             [
              0.6666666666666666,
              "#ed7953"
             ],
             [
              0.7777777777777778,
              "#fb9f3a"
             ],
             [
              0.8888888888888888,
              "#fdca26"
             ],
             [
              1,
              "#f0f921"
             ]
            ],
            "type": "heatmap"
           }
          ],
          "heatmapgl": [
           {
            "colorbar": {
             "outlinewidth": 0,
             "ticks": ""
            },
            "colorscale": [
             [
              0,
              "#0d0887"
             ],
             [
              0.1111111111111111,
              "#46039f"
             ],
             [
              0.2222222222222222,
              "#7201a8"
             ],
             [
              0.3333333333333333,
              "#9c179e"
             ],
             [
              0.4444444444444444,
              "#bd3786"
             ],
             [
              0.5555555555555556,
              "#d8576b"
             ],
             [
              0.6666666666666666,
              "#ed7953"
             ],
             [
              0.7777777777777778,
              "#fb9f3a"
             ],
             [
              0.8888888888888888,
              "#fdca26"
             ],
             [
              1,
              "#f0f921"
             ]
            ],
            "type": "heatmapgl"
           }
          ],
          "histogram": [
           {
            "marker": {
             "pattern": {
              "fillmode": "overlay",
              "size": 10,
              "solidity": 0.2
             }
            },
            "type": "histogram"
           }
          ],
          "histogram2d": [
           {
            "colorbar": {
             "outlinewidth": 0,
             "ticks": ""
            },
            "colorscale": [
             [
              0,
              "#0d0887"
             ],
             [
              0.1111111111111111,
              "#46039f"
             ],
             [
              0.2222222222222222,
              "#7201a8"
             ],
             [
              0.3333333333333333,
              "#9c179e"
             ],
             [
              0.4444444444444444,
              "#bd3786"
             ],
             [
              0.5555555555555556,
              "#d8576b"
             ],
             [
              0.6666666666666666,
              "#ed7953"
             ],
             [
              0.7777777777777778,
              "#fb9f3a"
             ],
             [
              0.8888888888888888,
              "#fdca26"
             ],
             [
              1,
              "#f0f921"
             ]
            ],
            "type": "histogram2d"
           }
          ],
          "histogram2dcontour": [
           {
            "colorbar": {
             "outlinewidth": 0,
             "ticks": ""
            },
            "colorscale": [
             [
              0,
              "#0d0887"
             ],
             [
              0.1111111111111111,
              "#46039f"
             ],
             [
              0.2222222222222222,
              "#7201a8"
             ],
             [
              0.3333333333333333,
              "#9c179e"
             ],
             [
              0.4444444444444444,
              "#bd3786"
             ],
             [
              0.5555555555555556,
              "#d8576b"
             ],
             [
              0.6666666666666666,
              "#ed7953"
             ],
             [
              0.7777777777777778,
              "#fb9f3a"
             ],
             [
              0.8888888888888888,
              "#fdca26"
             ],
             [
              1,
              "#f0f921"
             ]
            ],
            "type": "histogram2dcontour"
           }
          ],
          "mesh3d": [
           {
            "colorbar": {
             "outlinewidth": 0,
             "ticks": ""
            },
            "type": "mesh3d"
           }
          ],
          "parcoords": [
           {
            "line": {
             "colorbar": {
              "outlinewidth": 0,
              "ticks": ""
             }
            },
            "type": "parcoords"
           }
          ],
          "pie": [
           {
            "automargin": true,
            "type": "pie"
           }
          ],
          "scatter": [
           {
            "fillpattern": {
             "fillmode": "overlay",
             "size": 10,
             "solidity": 0.2
            },
            "type": "scatter"
           }
          ],
          "scatter3d": [
           {
            "line": {
             "colorbar": {
              "outlinewidth": 0,
              "ticks": ""
             }
            },
            "marker": {
             "colorbar": {
              "outlinewidth": 0,
              "ticks": ""
             }
            },
            "type": "scatter3d"
           }
          ],
          "scattercarpet": [
           {
            "marker": {
             "colorbar": {
              "outlinewidth": 0,
              "ticks": ""
             }
            },
            "type": "scattercarpet"
           }
          ],
          "scattergeo": [
           {
            "marker": {
             "colorbar": {
              "outlinewidth": 0,
              "ticks": ""
             }
            },
            "type": "scattergeo"
           }
          ],
          "scattergl": [
           {
            "marker": {
             "colorbar": {
              "outlinewidth": 0,
              "ticks": ""
             }
            },
            "type": "scattergl"
           }
          ],
          "scattermapbox": [
           {
            "marker": {
             "colorbar": {
              "outlinewidth": 0,
              "ticks": ""
             }
            },
            "type": "scattermapbox"
           }
          ],
          "scatterpolar": [
           {
            "marker": {
             "colorbar": {
              "outlinewidth": 0,
              "ticks": ""
             }
            },
            "type": "scatterpolar"
           }
          ],
          "scatterpolargl": [
           {
            "marker": {
             "colorbar": {
              "outlinewidth": 0,
              "ticks": ""
             }
            },
            "type": "scatterpolargl"
           }
          ],
          "scatterternary": [
           {
            "marker": {
             "colorbar": {
              "outlinewidth": 0,
              "ticks": ""
             }
            },
            "type": "scatterternary"
           }
          ],
          "surface": [
           {
            "colorbar": {
             "outlinewidth": 0,
             "ticks": ""
            },
            "colorscale": [
             [
              0,
              "#0d0887"
             ],
             [
              0.1111111111111111,
              "#46039f"
             ],
             [
              0.2222222222222222,
              "#7201a8"
             ],
             [
              0.3333333333333333,
              "#9c179e"
             ],
             [
              0.4444444444444444,
              "#bd3786"
             ],
             [
              0.5555555555555556,
              "#d8576b"
             ],
             [
              0.6666666666666666,
              "#ed7953"
             ],
             [
              0.7777777777777778,
              "#fb9f3a"
             ],
             [
              0.8888888888888888,
              "#fdca26"
             ],
             [
              1,
              "#f0f921"
             ]
            ],
            "type": "surface"
           }
          ],
          "table": [
           {
            "cells": {
             "fill": {
              "color": "#EBF0F8"
             },
             "line": {
              "color": "white"
             }
            },
            "header": {
             "fill": {
              "color": "#C8D4E3"
             },
             "line": {
              "color": "white"
             }
            },
            "type": "table"
           }
          ]
         },
         "layout": {
          "annotationdefaults": {
           "arrowcolor": "#2a3f5f",
           "arrowhead": 0,
           "arrowwidth": 1
          },
          "autotypenumbers": "strict",
          "coloraxis": {
           "colorbar": {
            "outlinewidth": 0,
            "ticks": ""
           }
          },
          "colorscale": {
           "diverging": [
            [
             0,
             "#8e0152"
            ],
            [
             0.1,
             "#c51b7d"
            ],
            [
             0.2,
             "#de77ae"
            ],
            [
             0.3,
             "#f1b6da"
            ],
            [
             0.4,
             "#fde0ef"
            ],
            [
             0.5,
             "#f7f7f7"
            ],
            [
             0.6,
             "#e6f5d0"
            ],
            [
             0.7,
             "#b8e186"
            ],
            [
             0.8,
             "#7fbc41"
            ],
            [
             0.9,
             "#4d9221"
            ],
            [
             1,
             "#276419"
            ]
           ],
           "sequential": [
            [
             0,
             "#0d0887"
            ],
            [
             0.1111111111111111,
             "#46039f"
            ],
            [
             0.2222222222222222,
             "#7201a8"
            ],
            [
             0.3333333333333333,
             "#9c179e"
            ],
            [
             0.4444444444444444,
             "#bd3786"
            ],
            [
             0.5555555555555556,
             "#d8576b"
            ],
            [
             0.6666666666666666,
             "#ed7953"
            ],
            [
             0.7777777777777778,
             "#fb9f3a"
            ],
            [
             0.8888888888888888,
             "#fdca26"
            ],
            [
             1,
             "#f0f921"
            ]
           ],
           "sequentialminus": [
            [
             0,
             "#0d0887"
            ],
            [
             0.1111111111111111,
             "#46039f"
            ],
            [
             0.2222222222222222,
             "#7201a8"
            ],
            [
             0.3333333333333333,
             "#9c179e"
            ],
            [
             0.4444444444444444,
             "#bd3786"
            ],
            [
             0.5555555555555556,
             "#d8576b"
            ],
            [
             0.6666666666666666,
             "#ed7953"
            ],
            [
             0.7777777777777778,
             "#fb9f3a"
            ],
            [
             0.8888888888888888,
             "#fdca26"
            ],
            [
             1,
             "#f0f921"
            ]
           ]
          },
          "colorway": [
           "#636efa",
           "#EF553B",
           "#00cc96",
           "#ab63fa",
           "#FFA15A",
           "#19d3f3",
           "#FF6692",
           "#B6E880",
           "#FF97FF",
           "#FECB52"
          ],
          "font": {
           "color": "#2a3f5f"
          },
          "geo": {
           "bgcolor": "white",
           "lakecolor": "white",
           "landcolor": "#E5ECF6",
           "showlakes": true,
           "showland": true,
           "subunitcolor": "white"
          },
          "hoverlabel": {
           "align": "left"
          },
          "hovermode": "closest",
          "mapbox": {
           "style": "light"
          },
          "paper_bgcolor": "white",
          "plot_bgcolor": "#E5ECF6",
          "polar": {
           "angularaxis": {
            "gridcolor": "white",
            "linecolor": "white",
            "ticks": ""
           },
           "bgcolor": "#E5ECF6",
           "radialaxis": {
            "gridcolor": "white",
            "linecolor": "white",
            "ticks": ""
           }
          },
          "scene": {
           "xaxis": {
            "backgroundcolor": "#E5ECF6",
            "gridcolor": "white",
            "gridwidth": 2,
            "linecolor": "white",
            "showbackground": true,
            "ticks": "",
            "zerolinecolor": "white"
           },
           "yaxis": {
            "backgroundcolor": "#E5ECF6",
            "gridcolor": "white",
            "gridwidth": 2,
            "linecolor": "white",
            "showbackground": true,
            "ticks": "",
            "zerolinecolor": "white"
           },
           "zaxis": {
            "backgroundcolor": "#E5ECF6",
            "gridcolor": "white",
            "gridwidth": 2,
            "linecolor": "white",
            "showbackground": true,
            "ticks": "",
            "zerolinecolor": "white"
           }
          },
          "shapedefaults": {
           "line": {
            "color": "#2a3f5f"
           }
          },
          "ternary": {
           "aaxis": {
            "gridcolor": "white",
            "linecolor": "white",
            "ticks": ""
           },
           "baxis": {
            "gridcolor": "white",
            "linecolor": "white",
            "ticks": ""
           },
           "bgcolor": "#E5ECF6",
           "caxis": {
            "gridcolor": "white",
            "linecolor": "white",
            "ticks": ""
           }
          },
          "title": {
           "x": 0.05
          },
          "xaxis": {
           "automargin": true,
           "gridcolor": "white",
           "linecolor": "white",
           "ticks": "",
           "title": {
            "standoff": 15
           },
           "zerolinecolor": "white",
           "zerolinewidth": 2
          },
          "yaxis": {
           "automargin": true,
           "gridcolor": "white",
           "linecolor": "white",
           "ticks": "",
           "title": {
            "standoff": 15
           },
           "zerolinecolor": "white",
           "zerolinewidth": 2
          }
         }
        },
        "title": {
         "text": "FLOPs vs. total parameters"
        },
        "width": 500,
        "xaxis": {
         "anchor": "y",
         "domain": [
          0,
          1
         ],
         "title": {
          "text": "parameters"
         }
        },
        "yaxis": {
         "anchor": "x",
         "domain": [
          0,
          1
         ],
         "title": {
          "text": "FLOPs"
         }
        }
       }
      },
      "text/html": [
       "<div>                            <div id=\"d24649cf-9d48-4f89-8453-987df9345584\" class=\"plotly-graph-div\" style=\"height:400px; width:500px;\"></div>            <script type=\"text/javascript\">                require([\"plotly\"], function(Plotly) {                    window.PLOTLYENV=window.PLOTLYENV || {};                                    if (document.getElementById(\"d24649cf-9d48-4f89-8453-987df9345584\")) {                    Plotly.newPlot(                        \"d24649cf-9d48-4f89-8453-987df9345584\",                        [{\"customdata\":[[\"mobilenetv2_0.1_96_c3_o2_t3l1024.MV1\",\"0.1\",1298435],[\"mobilenetv2_0.1_96_c3_o2_t6l1024.MV1\",\"0.1\",1617926],[\"mobilenetv2_0.1_96_c3_o2_t5l1024.MV1\",\"0.1\",1511429],[\"mobilenetv2_0.1_96_c3_o2_l5\",\"0.1\",1692166],[\"mobilenetv2_0.1_96_c3_o2_t4l1024.MV1\",\"0.1\",1404932],[\"mobilenetv2_0.1_96_c3_o2_t2l1024.MV1\",\"0.1\",1191938],[\"mobilenetv2_0.1_96_c3_o2_t1l1024.MV1\",\"0.1\",1085441],[\"mobilenetv2_0.1_96_c3_o2_t6l128.MV1\",\"0.1\",1358086],[\"mobilenetv2_0.1_96_c3_o2_t6l256.MV1\",\"0.1\",1395206],[\"mobilenetv2_0.1_96_c3_o2_t6l512.MV1\",\"0.1\",1469446]],\"hovertemplate\":\"alpha=%{customdata[1]}<br>parameters=%{x}<br>FLOPs=%{y}<br>tflite_model_INT8_size_kb=%{marker.size}<br>run_name=%{customdata[0]}<br>macs_mltk=%{customdata[2]}<extra></extra>\",\"legendgroup\":\"0.1\",\"marker\":{\"color\":\"#636efa\",\"size\":[132.890625,159.921875,150.8828125,176.4921875,141.7109375,123.59375,114.5703125,105.671875,113.421875,128.921875],\"sizemode\":\"area\",\"sizeref\":6.50279296875,\"symbol\":\"circle\"},\"mode\":\"markers\",\"name\":\"0.1\",\"orientation\":\"v\",\"showlegend\":true,\"x\":[53810,67766,63114,77494,58462,49158,44506,33718,38582,48310],\"xaxis\":\"x\",\"y\":[2986685,3744332,3491783,3889486,3239234,2734136,2481587,3191500,3270476,3428428],\"yaxis\":\"y\",\"type\":\"scatter\"},{\"customdata\":[[\"mobilenetv2_0.2_96_c3_o2_t6l1024.MV1\",\"0.2\",3487946],[\"mobilenetv2_0.2_96_c3_o2_t5l1024.MV1\",\"0.2\",3125075],[\"mobilenetv2_0.2_96_c3_o2_t5l256.MV1\",\"0.2\",2681171],[\"mobilenetv2_0.2_96_c3_o2_t5l128.MV1\",\"0.2\",2607187],[\"mobilenetv2_0.2_96_c3_o2_t6l128.MV1\",\"0.2\",2970058],[\"mobilenetv2_0.2_96_c3_o2_t6l256.MV1\",\"0.2\",3044042],[\"mobilenetv2_0.2_96_c3_o2_t6l512.MV1\",\"0.2\",3192010],[\"mobilenetv2_0.2_96_c3_o2_l5\",\"0.2\",3635914],[\"mobilenetv2_0.2_96_c3_o2_t5l512.MV1\",\"0.2\",2829139]],\"hovertemplate\":\"alpha=%{customdata[1]}<br>parameters=%{x}<br>FLOPs=%{y}<br>tflite_model_INT8_size_kb=%{marker.size}<br>run_name=%{customdata[0]}<br>macs_mltk=%{customdata[2]}<extra></extra>\",\"legendgroup\":\"0.2\",\"marker\":{\"color\":\"#EF553B\",\"size\":[285.0859375,261.1015625,190.6015625,178.8515625,202.8359375,214.5859375,238.0859375,309.6328125,214.1015625],\"sizemode\":\"area\",\"sizeref\":6.50279296875,\"symbol\":\"circle\"},\"mode\":\"markers\",\"name\":\"0.2\",\"orientation\":\"v\",\"showlegend\":true,\"x\":[163666,148594,94834,85874,100946,109906,127826,181586,112754],\"xaxis\":\"x\",\"y\":[7791488,6977429,6061205,5908501,6722560,6875264,7180672,8084098,6366613],\"yaxis\":\"y\",\"type\":\"scatter\"},{\"customdata\":[[\"mobilenetv2_0.25_96_c3_o2_t4l1024.MV1\",\"0.25\",3848000],[\"mobilenetv2_0.25_96_c3_o2_t6l1024.MV1\",\"0.25\",5033696],[\"mobilenetv2_0.25_96_c3_o2_t5l1024.MV1\",\"0.25\",4440848],[\"mobilenetv2_0.25_96_c3_o2_t6l1024.GAP\",\"0.25\",5033696],[\"mobilenetv2_0.25_96_c3_o2_l5\",\"0.25\",5218528],[\"mobilenetv2_0.25_96_c3_o2_t3l1024.MV1\",\"0.25\",3255152],[\"mobilenetv2_0.25_96_c3_o2_t5l512.MV1\",\"0.25\",4071184],[\"mobilenetv2_0.25_96_c3_o2_t1l1024.MV1\",\"0.25\",2069456],[\"mobilenetv2_0.25_96_c3_o2_t6l512.MV1\",\"0.25\",4664032],[\"mobilenetv2_0.25_96_c3_o2_t6l256.MV1\",\"0.25\",4479200],[\"mobilenetv2_0.25_96_c3_o2_t6l128.MV1\",\"0.25\",4386784],[\"mobilenetv2_0.25_96_c3_o2_t5l128.MV1\",\"0.25\",3793936],[\"mobilenetv2_0.25_96_c3_o2_t5l256.MV1\",\"0.25\",3886352],[\"mobilenetv2_0.25_96_c3_o2_t2l1024.MV1\",\"0.25\",2662304],[\"mobilenetv2_0.25_96_c3_o2_keras\",\"0.25\",6600352]],\"hovertemplate\":\"alpha=%{customdata[1]}<br>parameters=%{x}<br>FLOPs=%{y}<br>tflite_model_INT8_size_kb=%{marker.size}<br>run_name=%{customdata[0]}<br>macs_mltk=%{customdata[2]}<extra></extra>\",\"legendgroup\":\"0.25\",\"marker\":{\"color\":\"#00cc96\",\"size\":[296.390625,364.9765625,330.53125,365.3359375,393.5234375,262.1875,275.53125,193.1328125,309.9765625,282.4765625,268.7265625,234.28125,248.03125,227.5390625,401.3515625],\"sizemode\":\"area\",\"sizeref\":6.50279296875,\"symbol\":\"circle\"},\"mode\":\"markers\",\"name\":\"0.25\",\"orientation\":\"v\",\"showlegend\":true,\"x\":[181522,227306,204414,227306,249322,158630,160382,112846,183274,161258,150250,127358,138366,135738,251330],\"xaxis\":\"x\",\"y\":[8472554,11084570,9778562,11074332,11450908,7166546,9020290,4554530,10326298,9947162,9757594,8451586,8641154,5860538,15482906],\"yaxis\":\"y\",\"type\":\"scatter\"},{\"customdata\":[[\"mobilenetv2_0.35_96_c3_o2_keras\",\"0.35\",10656688],[\"mobilenetv2_0.35_96_c3_o2_l5\",\"0.35\",9008662]],\"hovertemplate\":\"alpha=%{customdata[1]}<br>parameters=%{x}<br>FLOPs=%{y}<br>tflite_model_INT8_size_kb=%{marker.size}<br>run_name=%{customdata[0]}<br>macs_mltk=%{customdata[2]}<extra></extra>\",\"legendgroup\":\"0.35\",\"marker\":{\"color\":\"#ab63fa\",\"size\":[593.578125,574.3359375],\"sizemode\":\"area\",\"sizeref\":6.50279296875,\"symbol\":\"circle\"},\"mode\":\"markers\",\"name\":\"0.35\",\"orientation\":\"v\",\"showlegend\":true,\"x\":[412770,402934],\"xaxis\":\"x\",\"y\":[23953850,19391158],\"yaxis\":\"y\",\"type\":\"scatter\"},{\"customdata\":[[\"mobilenetv2_0.5_96_c3_o2_l5\",\"0.5\",16125376],[\"mobilenetv2_0.5_96_c3_o2_keras\",\"0.5\",17608000]],\"hovertemplate\":\"alpha=%{customdata[1]}<br>parameters=%{x}<br>FLOPs=%{y}<br>tflite_model_INT8_size_kb=%{marker.size}<br>run_name=%{customdata[0]}<br>macs_mltk=%{customdata[2]}<extra></extra>\",\"legendgroup\":\"0.5\",\"marker\":{\"color\":\"#FFA15A\",\"size\":[918.7890625,927.6640625],\"sizemode\":\"area\",\"sizeref\":6.50279296875,\"symbol\":\"circle\"},\"mode\":\"markers\",\"name\":\"0.5\",\"orientation\":\"v\",\"showlegend\":true,\"x\":[705346,708786],\"xaxis\":\"x\",\"y\":[34133284,38473730],\"yaxis\":\"y\",\"type\":\"scatter\"},{\"customdata\":[[\"mobilenetv2_1_96_c3_o2_l5\",\"1.0\",55011712],[\"mobilenetv2_1_96_c3_o2_keras\",\"1.0\",55011712]],\"hovertemplate\":\"alpha=%{customdata[1]}<br>parameters=%{x}<br>FLOPs=%{y}<br>tflite_model_INT8_size_kb=%{marker.size}<br>run_name=%{customdata[0]}<br>macs_mltk=%{customdata[2]}<extra></extra>\",\"legendgroup\":\"1.0\",\"marker\":{\"color\":\"#19d3f3\",\"size\":[2597.3984375,2601.1171875],\"sizemode\":\"area\",\"sizeref\":6.50279296875,\"symbol\":\"circle\"},\"mode\":\"markers\",\"name\":\"1.0\",\"orientation\":\"v\",\"showlegend\":true,\"x\":[2260546,2260546],\"xaxis\":\"x\",\"y\":[113643316,115930322],\"yaxis\":\"y\",\"type\":\"scatter\"}],                        {\"template\":{\"data\":{\"histogram2dcontour\":[{\"type\":\"histogram2dcontour\",\"colorbar\":{\"outlinewidth\":0,\"ticks\":\"\"},\"colorscale\":[[0.0,\"#0d0887\"],[0.1111111111111111,\"#46039f\"],[0.2222222222222222,\"#7201a8\"],[0.3333333333333333,\"#9c179e\"],[0.4444444444444444,\"#bd3786\"],[0.5555555555555556,\"#d8576b\"],[0.6666666666666666,\"#ed7953\"],[0.7777777777777778,\"#fb9f3a\"],[0.8888888888888888,\"#fdca26\"],[1.0,\"#f0f921\"]]}],\"choropleth\":[{\"type\":\"choropleth\",\"colorbar\":{\"outlinewidth\":0,\"ticks\":\"\"}}],\"histogram2d\":[{\"type\":\"histogram2d\",\"colorbar\":{\"outlinewidth\":0,\"ticks\":\"\"},\"colorscale\":[[0.0,\"#0d0887\"],[0.1111111111111111,\"#46039f\"],[0.2222222222222222,\"#7201a8\"],[0.3333333333333333,\"#9c179e\"],[0.4444444444444444,\"#bd3786\"],[0.5555555555555556,\"#d8576b\"],[0.6666666666666666,\"#ed7953\"],[0.7777777777777778,\"#fb9f3a\"],[0.8888888888888888,\"#fdca26\"],[1.0,\"#f0f921\"]]}],\"heatmap\":[{\"type\":\"heatmap\",\"colorbar\":{\"outlinewidth\":0,\"ticks\":\"\"},\"colorscale\":[[0.0,\"#0d0887\"],[0.1111111111111111,\"#46039f\"],[0.2222222222222222,\"#7201a8\"],[0.3333333333333333,\"#9c179e\"],[0.4444444444444444,\"#bd3786\"],[0.5555555555555556,\"#d8576b\"],[0.6666666666666666,\"#ed7953\"],[0.7777777777777778,\"#fb9f3a\"],[0.8888888888888888,\"#fdca26\"],[1.0,\"#f0f921\"]]}],\"heatmapgl\":[{\"type\":\"heatmapgl\",\"colorbar\":{\"outlinewidth\":0,\"ticks\":\"\"},\"colorscale\":[[0.0,\"#0d0887\"],[0.1111111111111111,\"#46039f\"],[0.2222222222222222,\"#7201a8\"],[0.3333333333333333,\"#9c179e\"],[0.4444444444444444,\"#bd3786\"],[0.5555555555555556,\"#d8576b\"],[0.6666666666666666,\"#ed7953\"],[0.7777777777777778,\"#fb9f3a\"],[0.8888888888888888,\"#fdca26\"],[1.0,\"#f0f921\"]]}],\"contourcarpet\":[{\"type\":\"contourcarpet\",\"colorbar\":{\"outlinewidth\":0,\"ticks\":\"\"}}],\"contour\":[{\"type\":\"contour\",\"colorbar\":{\"outlinewidth\":0,\"ticks\":\"\"},\"colorscale\":[[0.0,\"#0d0887\"],[0.1111111111111111,\"#46039f\"],[0.2222222222222222,\"#7201a8\"],[0.3333333333333333,\"#9c179e\"],[0.4444444444444444,\"#bd3786\"],[0.5555555555555556,\"#d8576b\"],[0.6666666666666666,\"#ed7953\"],[0.7777777777777778,\"#fb9f3a\"],[0.8888888888888888,\"#fdca26\"],[1.0,\"#f0f921\"]]}],\"surface\":[{\"type\":\"surface\",\"colorbar\":{\"outlinewidth\":0,\"ticks\":\"\"},\"colorscale\":[[0.0,\"#0d0887\"],[0.1111111111111111,\"#46039f\"],[0.2222222222222222,\"#7201a8\"],[0.3333333333333333,\"#9c179e\"],[0.4444444444444444,\"#bd3786\"],[0.5555555555555556,\"#d8576b\"],[0.6666666666666666,\"#ed7953\"],[0.7777777777777778,\"#fb9f3a\"],[0.8888888888888888,\"#fdca26\"],[1.0,\"#f0f921\"]]}],\"mesh3d\":[{\"type\":\"mesh3d\",\"colorbar\":{\"outlinewidth\":0,\"ticks\":\"\"}}],\"scatter\":[{\"fillpattern\":{\"fillmode\":\"overlay\",\"size\":10,\"solidity\":0.2},\"type\":\"scatter\"}],\"parcoords\":[{\"type\":\"parcoords\",\"line\":{\"colorbar\":{\"outlinewidth\":0,\"ticks\":\"\"}}}],\"scatterpolargl\":[{\"type\":\"scatterpolargl\",\"marker\":{\"colorbar\":{\"outlinewidth\":0,\"ticks\":\"\"}}}],\"bar\":[{\"error_x\":{\"color\":\"#2a3f5f\"},\"error_y\":{\"color\":\"#2a3f5f\"},\"marker\":{\"line\":{\"color\":\"#E5ECF6\",\"width\":0.5},\"pattern\":{\"fillmode\":\"overlay\",\"size\":10,\"solidity\":0.2}},\"type\":\"bar\"}],\"scattergeo\":[{\"type\":\"scattergeo\",\"marker\":{\"colorbar\":{\"outlinewidth\":0,\"ticks\":\"\"}}}],\"scatterpolar\":[{\"type\":\"scatterpolar\",\"marker\":{\"colorbar\":{\"outlinewidth\":0,\"ticks\":\"\"}}}],\"histogram\":[{\"marker\":{\"pattern\":{\"fillmode\":\"overlay\",\"size\":10,\"solidity\":0.2}},\"type\":\"histogram\"}],\"scattergl\":[{\"type\":\"scattergl\",\"marker\":{\"colorbar\":{\"outlinewidth\":0,\"ticks\":\"\"}}}],\"scatter3d\":[{\"type\":\"scatter3d\",\"line\":{\"colorbar\":{\"outlinewidth\":0,\"ticks\":\"\"}},\"marker\":{\"colorbar\":{\"outlinewidth\":0,\"ticks\":\"\"}}}],\"scattermapbox\":[{\"type\":\"scattermapbox\",\"marker\":{\"colorbar\":{\"outlinewidth\":0,\"ticks\":\"\"}}}],\"scatterternary\":[{\"type\":\"scatterternary\",\"marker\":{\"colorbar\":{\"outlinewidth\":0,\"ticks\":\"\"}}}],\"scattercarpet\":[{\"type\":\"scattercarpet\",\"marker\":{\"colorbar\":{\"outlinewidth\":0,\"ticks\":\"\"}}}],\"carpet\":[{\"aaxis\":{\"endlinecolor\":\"#2a3f5f\",\"gridcolor\":\"white\",\"linecolor\":\"white\",\"minorgridcolor\":\"white\",\"startlinecolor\":\"#2a3f5f\"},\"baxis\":{\"endlinecolor\":\"#2a3f5f\",\"gridcolor\":\"white\",\"linecolor\":\"white\",\"minorgridcolor\":\"white\",\"startlinecolor\":\"#2a3f5f\"},\"type\":\"carpet\"}],\"table\":[{\"cells\":{\"fill\":{\"color\":\"#EBF0F8\"},\"line\":{\"color\":\"white\"}},\"header\":{\"fill\":{\"color\":\"#C8D4E3\"},\"line\":{\"color\":\"white\"}},\"type\":\"table\"}],\"barpolar\":[{\"marker\":{\"line\":{\"color\":\"#E5ECF6\",\"width\":0.5},\"pattern\":{\"fillmode\":\"overlay\",\"size\":10,\"solidity\":0.2}},\"type\":\"barpolar\"}],\"pie\":[{\"automargin\":true,\"type\":\"pie\"}]},\"layout\":{\"autotypenumbers\":\"strict\",\"colorway\":[\"#636efa\",\"#EF553B\",\"#00cc96\",\"#ab63fa\",\"#FFA15A\",\"#19d3f3\",\"#FF6692\",\"#B6E880\",\"#FF97FF\",\"#FECB52\"],\"font\":{\"color\":\"#2a3f5f\"},\"hovermode\":\"closest\",\"hoverlabel\":{\"align\":\"left\"},\"paper_bgcolor\":\"white\",\"plot_bgcolor\":\"#E5ECF6\",\"polar\":{\"bgcolor\":\"#E5ECF6\",\"angularaxis\":{\"gridcolor\":\"white\",\"linecolor\":\"white\",\"ticks\":\"\"},\"radialaxis\":{\"gridcolor\":\"white\",\"linecolor\":\"white\",\"ticks\":\"\"}},\"ternary\":{\"bgcolor\":\"#E5ECF6\",\"aaxis\":{\"gridcolor\":\"white\",\"linecolor\":\"white\",\"ticks\":\"\"},\"baxis\":{\"gridcolor\":\"white\",\"linecolor\":\"white\",\"ticks\":\"\"},\"caxis\":{\"gridcolor\":\"white\",\"linecolor\":\"white\",\"ticks\":\"\"}},\"coloraxis\":{\"colorbar\":{\"outlinewidth\":0,\"ticks\":\"\"}},\"colorscale\":{\"sequential\":[[0.0,\"#0d0887\"],[0.1111111111111111,\"#46039f\"],[0.2222222222222222,\"#7201a8\"],[0.3333333333333333,\"#9c179e\"],[0.4444444444444444,\"#bd3786\"],[0.5555555555555556,\"#d8576b\"],[0.6666666666666666,\"#ed7953\"],[0.7777777777777778,\"#fb9f3a\"],[0.8888888888888888,\"#fdca26\"],[1.0,\"#f0f921\"]],\"sequentialminus\":[[0.0,\"#0d0887\"],[0.1111111111111111,\"#46039f\"],[0.2222222222222222,\"#7201a8\"],[0.3333333333333333,\"#9c179e\"],[0.4444444444444444,\"#bd3786\"],[0.5555555555555556,\"#d8576b\"],[0.6666666666666666,\"#ed7953\"],[0.7777777777777778,\"#fb9f3a\"],[0.8888888888888888,\"#fdca26\"],[1.0,\"#f0f921\"]],\"diverging\":[[0,\"#8e0152\"],[0.1,\"#c51b7d\"],[0.2,\"#de77ae\"],[0.3,\"#f1b6da\"],[0.4,\"#fde0ef\"],[0.5,\"#f7f7f7\"],[0.6,\"#e6f5d0\"],[0.7,\"#b8e186\"],[0.8,\"#7fbc41\"],[0.9,\"#4d9221\"],[1,\"#276419\"]]},\"xaxis\":{\"gridcolor\":\"white\",\"linecolor\":\"white\",\"ticks\":\"\",\"title\":{\"standoff\":15},\"zerolinecolor\":\"white\",\"automargin\":true,\"zerolinewidth\":2},\"yaxis\":{\"gridcolor\":\"white\",\"linecolor\":\"white\",\"ticks\":\"\",\"title\":{\"standoff\":15},\"zerolinecolor\":\"white\",\"automargin\":true,\"zerolinewidth\":2},\"scene\":{\"xaxis\":{\"backgroundcolor\":\"#E5ECF6\",\"gridcolor\":\"white\",\"linecolor\":\"white\",\"showbackground\":true,\"ticks\":\"\",\"zerolinecolor\":\"white\",\"gridwidth\":2},\"yaxis\":{\"backgroundcolor\":\"#E5ECF6\",\"gridcolor\":\"white\",\"linecolor\":\"white\",\"showbackground\":true,\"ticks\":\"\",\"zerolinecolor\":\"white\",\"gridwidth\":2},\"zaxis\":{\"backgroundcolor\":\"#E5ECF6\",\"gridcolor\":\"white\",\"linecolor\":\"white\",\"showbackground\":true,\"ticks\":\"\",\"zerolinecolor\":\"white\",\"gridwidth\":2}},\"shapedefaults\":{\"line\":{\"color\":\"#2a3f5f\"}},\"annotationdefaults\":{\"arrowcolor\":\"#2a3f5f\",\"arrowhead\":0,\"arrowwidth\":1},\"geo\":{\"bgcolor\":\"white\",\"landcolor\":\"#E5ECF6\",\"subunitcolor\":\"white\",\"showland\":true,\"showlakes\":true,\"lakecolor\":\"white\"},\"title\":{\"x\":0.05},\"mapbox\":{\"style\":\"light\"}}},\"xaxis\":{\"anchor\":\"y\",\"domain\":[0.0,1.0],\"title\":{\"text\":\"parameters\"}},\"yaxis\":{\"anchor\":\"x\",\"domain\":[0.0,1.0],\"title\":{\"text\":\"FLOPs\"}},\"legend\":{\"title\":{\"text\":\"alpha\"},\"tracegroupgap\":0,\"itemsizing\":\"constant\"},\"title\":{\"text\":\"FLOPs vs. total parameters\"},\"showlegend\":true,\"width\":500,\"height\":400},                        {\"responsive\": true}                    ).then(function(){\n",
       "                            \n",
       "var gd = document.getElementById('d24649cf-9d48-4f89-8453-987df9345584');\n",
       "var x = new MutationObserver(function (mutations, observer) {{\n",
       "        var display = window.getComputedStyle(gd).display;\n",
       "        if (!display || display === 'none') {{\n",
       "            console.log([gd, 'removed!']);\n",
       "            Plotly.purge(gd);\n",
       "            observer.disconnect();\n",
       "        }}\n",
       "}});\n",
       "\n",
       "// Listen for the removal of the full notebook cells\n",
       "var notebookContainer = gd.closest('#notebook-container');\n",
       "if (notebookContainer) {{\n",
       "    x.observe(notebookContainer, {childList: true});\n",
       "}}\n",
       "\n",
       "// Listen for the clearing of the current output cell\n",
       "var outputEl = gd.closest('.output');\n",
       "if (outputEl) {{\n",
       "    x.observe(outputEl, {childList: true});\n",
       "}}\n",
       "\n",
       "                        })                };                });            </script>        </div>"
      ]
     },
     "metadata": {},
     "output_type": "display_data"
    }
   ],
   "source": [
    "flops_params_fig = px.scatter(\n",
    "    mbnv2_df,\n",
    "    x=\"total_params\",\n",
    "    y=\"OPS_INT8_mltk\",\n",
    "    color=\"alpha\",\n",
    "    size=\"tflite_model_INT8_size_kb\",\n",
    "    hover_data=[\"run_name\",\"alpha\", \"macs_mltk\", \"total_params\"],\n",
    "    labels={\"total_params\": \"parameters\", \"OPS_INT8_mltk\": \"FLOPs\"},\n",
    "    title=f\"FLOPs vs. total parameters\",\n",
    ")\n",
    "flops_params_fig.update_layout(showlegend=True, width=500, height=400)\n",
    "\n",
    "flops_params_fig.show()"
   ]
  },
  {
   "cell_type": "code",
   "execution_count": 73,
   "metadata": {},
   "outputs": [],
   "source": [
    "# df[\"peak_memory_kb\"] = df[\"peak_memory_b\"]/1024.0\n",
    "# df[\"flash_model_size_kb_INT8_mltk\"] = df[\"flash_model_size_b__INT8_mltk\"]/1024.0\n",
    "# df[\"RAM_runtime_memory_size_kb_INT8_mltk\"] = df[\"RAM_runtime_memory_size_b_INT8_mltk\"]/1024.0"
   ]
  },
  {
   "cell_type": "code",
   "execution_count": 74,
   "metadata": {},
   "outputs": [
    {
     "data": {
      "application/vnd.plotly.v1+json": {
       "config": {
        "plotlyServerURL": "https://plot.ly"
       },
       "data": [
        {
         "alignmentgroup": "True",
         "hovertemplate": "size=RAM_runtime_memory_size_kb_INT8_mltk<br>model architecture=%{x}<br>value=%{y}<extra></extra>",
         "legendgroup": "RAM_runtime_memory_size_kb_INT8_mltk",
         "marker": {
          "color": "#636efa",
          "pattern": {
           "shape": ""
          }
         },
         "name": "RAM_runtime_memory_size_kb_INT8_mltk",
         "offsetgroup": "RAM_runtime_memory_size_kb_INT8_mltk",
         "orientation": "v",
         "showlegend": true,
         "textposition": "auto",
         "type": "bar",
         "x": [
          "mobilenetv2_0.1_96_c3_o2_l5",
          "mobilenetv2_0.1_96_c3_o2_t1l1024.MV1",
          "mobilenetv2_0.1_96_c3_o2_t2l1024.MV1",
          "mobilenetv2_0.1_96_c3_o2_t3l1024.MV1",
          "mobilenetv2_0.1_96_c3_o2_t4l1024.MV1",
          "mobilenetv2_0.1_96_c3_o2_t5l1024.MV1",
          "mobilenetv2_0.1_96_c3_o2_t6l1024.MV1",
          "mobilenetv2_0.1_96_c3_o2_t6l128.MV1",
          "mobilenetv2_0.1_96_c3_o2_t6l256.MV1",
          "mobilenetv2_0.1_96_c3_o2_t6l512.MV1",
          "mobilenetv2_0.25_96_c3_o2_keras",
          "mobilenetv2_0.25_96_c3_o2_l5",
          "mobilenetv2_0.25_96_c3_o2_t1l1024.MV1",
          "mobilenetv2_0.25_96_c3_o2_t2l1024.MV1",
          "mobilenetv2_0.25_96_c3_o2_t3l1024.MV1",
          "mobilenetv2_0.25_96_c3_o2_t4l1024.MV1",
          "mobilenetv2_0.25_96_c3_o2_t5l1024.MV1",
          "mobilenetv2_0.25_96_c3_o2_t5l128.MV1",
          "mobilenetv2_0.25_96_c3_o2_t5l256.MV1",
          "mobilenetv2_0.25_96_c3_o2_t5l512.MV1",
          "mobilenetv2_0.25_96_c3_o2_t6l1024.GAP",
          "mobilenetv2_0.25_96_c3_o2_t6l1024.MV1",
          "mobilenetv2_0.25_96_c3_o2_t6l128.MV1",
          "mobilenetv2_0.25_96_c3_o2_t6l256.MV1",
          "mobilenetv2_0.25_96_c3_o2_t6l512.MV1",
          "mobilenetv2_0.2_96_c3_o2_l5",
          "mobilenetv2_0.2_96_c3_o2_t5l1024.MV1",
          "mobilenetv2_0.2_96_c3_o2_t5l128.MV1",
          "mobilenetv2_0.2_96_c3_o2_t5l256.MV1",
          "mobilenetv2_0.2_96_c3_o2_t5l512.MV1",
          "mobilenetv2_0.2_96_c3_o2_t6l1024.MV1",
          "mobilenetv2_0.2_96_c3_o2_t6l128.MV1",
          "mobilenetv2_0.2_96_c3_o2_t6l256.MV1",
          "mobilenetv2_0.2_96_c3_o2_t6l512.MV1",
          "mobilenetv2_0.35_96_c3_o2_keras",
          "mobilenetv2_0.35_96_c3_o2_l5",
          "mobilenetv2_0.5_96_c3_o2_keras",
          "mobilenetv2_0.5_96_c3_o2_l5",
          "mobilenetv2_1_96_c3_o2_keras",
          "mobilenetv2_1_96_c3_o2_l5"
         ],
         "xaxis": "x",
         "y": [
          106.3828125,
          76.92578125,
          78.44921875,
          80.42578125,
          81.7265625,
          83.92578125,
          85.44921875,
          78.44921875,
          79.44921875,
          81.44921875,
          273.703125,
          124.828125,
          80.88671875,
          85.51953125,
          90.13671875,
          94.76953125,
          102.01171875,
          95.01171875,
          96.01171875,
          98.01171875,
          117.98046875,
          117.89453125,
          110.89453125,
          111.89453125,
          113.89453125,
          118.29296875,
          93.84765625,
          86.84765625,
          87.84765625,
          89.84765625,
          97.359375,
          90.359375,
          91.359375,
          93.359375,
          286.99609375,
          149.515625,
          304.49609375,
          218.9609375,
          585.87109375,
          416.4609375
         ],
         "yaxis": "y"
        },
        {
         "alignmentgroup": "True",
         "hovertemplate": "size=flash_model_size_kb_INT8_mltk<br>model architecture=%{x}<br>value=%{y}<extra></extra>",
         "legendgroup": "flash_model_size_kb_INT8_mltk",
         "marker": {
          "color": "#EF553B",
          "pattern": {
           "shape": ""
          }
         },
         "name": "flash_model_size_kb_INT8_mltk",
         "offsetgroup": "flash_model_size_kb_INT8_mltk",
         "orientation": "v",
         "showlegend": true,
         "textposition": "auto",
         "type": "bar",
         "x": [
          "mobilenetv2_0.1_96_c3_o2_l5",
          "mobilenetv2_0.1_96_c3_o2_t1l1024.MV1",
          "mobilenetv2_0.1_96_c3_o2_t2l1024.MV1",
          "mobilenetv2_0.1_96_c3_o2_t3l1024.MV1",
          "mobilenetv2_0.1_96_c3_o2_t4l1024.MV1",
          "mobilenetv2_0.1_96_c3_o2_t5l1024.MV1",
          "mobilenetv2_0.1_96_c3_o2_t6l1024.MV1",
          "mobilenetv2_0.1_96_c3_o2_t6l128.MV1",
          "mobilenetv2_0.1_96_c3_o2_t6l256.MV1",
          "mobilenetv2_0.1_96_c3_o2_t6l512.MV1",
          "mobilenetv2_0.25_96_c3_o2_keras",
          "mobilenetv2_0.25_96_c3_o2_l5",
          "mobilenetv2_0.25_96_c3_o2_t1l1024.MV1",
          "mobilenetv2_0.25_96_c3_o2_t2l1024.MV1",
          "mobilenetv2_0.25_96_c3_o2_t3l1024.MV1",
          "mobilenetv2_0.25_96_c3_o2_t4l1024.MV1",
          "mobilenetv2_0.25_96_c3_o2_t5l1024.MV1",
          "mobilenetv2_0.25_96_c3_o2_t5l128.MV1",
          "mobilenetv2_0.25_96_c3_o2_t5l256.MV1",
          "mobilenetv2_0.25_96_c3_o2_t5l512.MV1",
          "mobilenetv2_0.25_96_c3_o2_t6l1024.GAP",
          "mobilenetv2_0.25_96_c3_o2_t6l1024.MV1",
          "mobilenetv2_0.25_96_c3_o2_t6l128.MV1",
          "mobilenetv2_0.25_96_c3_o2_t6l256.MV1",
          "mobilenetv2_0.25_96_c3_o2_t6l512.MV1",
          "mobilenetv2_0.2_96_c3_o2_l5",
          "mobilenetv2_0.2_96_c3_o2_t5l1024.MV1",
          "mobilenetv2_0.2_96_c3_o2_t5l128.MV1",
          "mobilenetv2_0.2_96_c3_o2_t5l256.MV1",
          "mobilenetv2_0.2_96_c3_o2_t5l512.MV1",
          "mobilenetv2_0.2_96_c3_o2_t6l1024.MV1",
          "mobilenetv2_0.2_96_c3_o2_t6l128.MV1",
          "mobilenetv2_0.2_96_c3_o2_t6l256.MV1",
          "mobilenetv2_0.2_96_c3_o2_t6l512.MV1",
          "mobilenetv2_0.35_96_c3_o2_keras",
          "mobilenetv2_0.35_96_c3_o2_l5",
          "mobilenetv2_0.5_96_c3_o2_keras",
          "mobilenetv2_0.5_96_c3_o2_l5",
          "mobilenetv2_1_96_c3_o2_keras",
          "mobilenetv2_1_96_c3_o2_l5"
         ],
         "xaxis": "x",
         "y": [
          176.4921875,
          114.5703125,
          123.59375,
          132.890625,
          141.7109375,
          150.8828125,
          159.921875,
          105.671875,
          113.421875,
          128.921875,
          401.3515625,
          393.5234375,
          193.1328125,
          227.5390625,
          262.1875,
          296.390625,
          330.53125,
          234.28125,
          248.03125,
          275.53125,
          365.3359375,
          364.9765625,
          268.7265625,
          282.4765625,
          309.9765625,
          309.6328125,
          261.1015625,
          178.8515625,
          190.6015625,
          214.1015625,
          285.0859375,
          202.8359375,
          214.5859375,
          238.0859375,
          593.578125,
          574.3359375,
          927.6640625,
          918.7890625,
          2601.1171875,
          2597.3984375
         ],
         "yaxis": "y"
        },
        {
         "alignmentgroup": "True",
         "hovertemplate": "size=peak_memory_kb<br>model architecture=%{x}<br>value=%{y}<extra></extra>",
         "legendgroup": "peak_memory_kb",
         "marker": {
          "color": "#00cc96",
          "pattern": {
           "shape": ""
          }
         },
         "name": "peak_memory_kb",
         "offsetgroup": "peak_memory_kb",
         "orientation": "v",
         "showlegend": true,
         "textposition": "auto",
         "type": "bar",
         "x": [
          "mobilenetv2_0.1_96_c3_o2_l5",
          "mobilenetv2_0.1_96_c3_o2_t1l1024.MV1",
          "mobilenetv2_0.1_96_c3_o2_t2l1024.MV1",
          "mobilenetv2_0.1_96_c3_o2_t3l1024.MV1",
          "mobilenetv2_0.1_96_c3_o2_t4l1024.MV1",
          "mobilenetv2_0.1_96_c3_o2_t5l1024.MV1",
          "mobilenetv2_0.1_96_c3_o2_t6l1024.MV1",
          "mobilenetv2_0.1_96_c3_o2_t6l128.MV1",
          "mobilenetv2_0.1_96_c3_o2_t6l256.MV1",
          "mobilenetv2_0.1_96_c3_o2_t6l512.MV1",
          "mobilenetv2_0.25_96_c3_o2_keras",
          "mobilenetv2_0.25_96_c3_o2_l5",
          "mobilenetv2_0.25_96_c3_o2_t1l1024.MV1",
          "mobilenetv2_0.25_96_c3_o2_t2l1024.MV1",
          "mobilenetv2_0.25_96_c3_o2_t3l1024.MV1",
          "mobilenetv2_0.25_96_c3_o2_t4l1024.MV1",
          "mobilenetv2_0.25_96_c3_o2_t5l1024.MV1",
          "mobilenetv2_0.25_96_c3_o2_t5l128.MV1",
          "mobilenetv2_0.25_96_c3_o2_t5l256.MV1",
          "mobilenetv2_0.25_96_c3_o2_t5l512.MV1",
          "mobilenetv2_0.25_96_c3_o2_t6l1024.GAP",
          "mobilenetv2_0.25_96_c3_o2_t6l1024.MV1",
          "mobilenetv2_0.25_96_c3_o2_t6l128.MV1",
          "mobilenetv2_0.25_96_c3_o2_t6l256.MV1",
          "mobilenetv2_0.25_96_c3_o2_t6l512.MV1",
          "mobilenetv2_0.2_96_c3_o2_l5",
          "mobilenetv2_0.2_96_c3_o2_t5l1024.MV1",
          "mobilenetv2_0.2_96_c3_o2_t5l128.MV1",
          "mobilenetv2_0.2_96_c3_o2_t5l256.MV1",
          "mobilenetv2_0.2_96_c3_o2_t5l512.MV1",
          "mobilenetv2_0.2_96_c3_o2_t6l1024.MV1",
          "mobilenetv2_0.2_96_c3_o2_t6l128.MV1",
          "mobilenetv2_0.2_96_c3_o2_t6l256.MV1",
          "mobilenetv2_0.2_96_c3_o2_t6l512.MV1",
          "mobilenetv2_0.35_96_c3_o2_keras",
          "mobilenetv2_0.35_96_c3_o2_l5",
          "mobilenetv2_0.5_96_c3_o2_keras",
          "mobilenetv2_0.5_96_c3_o2_l5",
          "mobilenetv2_1_96_c3_o2_keras",
          "mobilenetv2_1_96_c3_o2_l5"
         ],
         "xaxis": "x",
         "y": [
          54,
          54,
          54,
          54,
          54,
          54,
          54,
          54,
          54,
          54,
          220.546875,
          67.5,
          54,
          54,
          54,
          54,
          56.25,
          56.25,
          56.25,
          56.25,
          67.5,
          67.5,
          67.5,
          67.5,
          67.5,
          54,
          54,
          54,
          54,
          54,
          54,
          54,
          54,
          54,
          220.546875,
          84.375,
          220.546875,
          135,
          441.09375,
          270
         ],
         "yaxis": "y"
        },
        {
         "alignmentgroup": "True",
         "hovertemplate": "size=tflite_model_INT8_size_kb<br>model architecture=%{x}<br>value=%{y}<extra></extra>",
         "legendgroup": "tflite_model_INT8_size_kb",
         "marker": {
          "color": "#ab63fa",
          "pattern": {
           "shape": ""
          }
         },
         "name": "tflite_model_INT8_size_kb",
         "offsetgroup": "tflite_model_INT8_size_kb",
         "orientation": "v",
         "showlegend": true,
         "textposition": "auto",
         "type": "bar",
         "x": [
          "mobilenetv2_0.1_96_c3_o2_l5",
          "mobilenetv2_0.1_96_c3_o2_t1l1024.MV1",
          "mobilenetv2_0.1_96_c3_o2_t2l1024.MV1",
          "mobilenetv2_0.1_96_c3_o2_t3l1024.MV1",
          "mobilenetv2_0.1_96_c3_o2_t4l1024.MV1",
          "mobilenetv2_0.1_96_c3_o2_t5l1024.MV1",
          "mobilenetv2_0.1_96_c3_o2_t6l1024.MV1",
          "mobilenetv2_0.1_96_c3_o2_t6l128.MV1",
          "mobilenetv2_0.1_96_c3_o2_t6l256.MV1",
          "mobilenetv2_0.1_96_c3_o2_t6l512.MV1",
          "mobilenetv2_0.25_96_c3_o2_keras",
          "mobilenetv2_0.25_96_c3_o2_l5",
          "mobilenetv2_0.25_96_c3_o2_t1l1024.MV1",
          "mobilenetv2_0.25_96_c3_o2_t2l1024.MV1",
          "mobilenetv2_0.25_96_c3_o2_t3l1024.MV1",
          "mobilenetv2_0.25_96_c3_o2_t4l1024.MV1",
          "mobilenetv2_0.25_96_c3_o2_t5l1024.MV1",
          "mobilenetv2_0.25_96_c3_o2_t5l128.MV1",
          "mobilenetv2_0.25_96_c3_o2_t5l256.MV1",
          "mobilenetv2_0.25_96_c3_o2_t5l512.MV1",
          "mobilenetv2_0.25_96_c3_o2_t6l1024.GAP",
          "mobilenetv2_0.25_96_c3_o2_t6l1024.MV1",
          "mobilenetv2_0.25_96_c3_o2_t6l128.MV1",
          "mobilenetv2_0.25_96_c3_o2_t6l256.MV1",
          "mobilenetv2_0.25_96_c3_o2_t6l512.MV1",
          "mobilenetv2_0.2_96_c3_o2_l5",
          "mobilenetv2_0.2_96_c3_o2_t5l1024.MV1",
          "mobilenetv2_0.2_96_c3_o2_t5l128.MV1",
          "mobilenetv2_0.2_96_c3_o2_t5l256.MV1",
          "mobilenetv2_0.2_96_c3_o2_t5l512.MV1",
          "mobilenetv2_0.2_96_c3_o2_t6l1024.MV1",
          "mobilenetv2_0.2_96_c3_o2_t6l128.MV1",
          "mobilenetv2_0.2_96_c3_o2_t6l256.MV1",
          "mobilenetv2_0.2_96_c3_o2_t6l512.MV1",
          "mobilenetv2_0.35_96_c3_o2_keras",
          "mobilenetv2_0.35_96_c3_o2_l5",
          "mobilenetv2_0.5_96_c3_o2_keras",
          "mobilenetv2_0.5_96_c3_o2_l5",
          "mobilenetv2_1_96_c3_o2_keras",
          "mobilenetv2_1_96_c3_o2_l5"
         ],
         "xaxis": "x",
         "y": [
          176.4921875,
          114.5703125,
          123.59375,
          132.890625,
          141.7109375,
          150.8828125,
          159.921875,
          105.671875,
          113.421875,
          128.921875,
          401.3515625,
          393.5234375,
          193.1328125,
          227.5390625,
          262.1875,
          296.390625,
          330.53125,
          234.28125,
          248.03125,
          275.53125,
          365.3359375,
          364.9765625,
          268.7265625,
          282.4765625,
          309.9765625,
          309.6328125,
          261.1015625,
          178.8515625,
          190.6015625,
          214.1015625,
          285.0859375,
          202.8359375,
          214.5859375,
          238.0859375,
          593.578125,
          574.3359375,
          927.6640625,
          918.7890625,
          2601.1171875,
          2597.3984375
         ],
         "yaxis": "y"
        }
       ],
       "layout": {
        "annotations": [
         {
          "showarrow": false,
          "text": "87 KB peak activation",
          "x": 0,
          "xanchor": "left",
          "xref": "x domain",
          "y": 87,
          "yanchor": "bottom",
          "yref": "y"
         },
         {
          "showarrow": false,
          "text": "250 KB flash memory",
          "x": 1,
          "xanchor": "right",
          "xref": "x domain",
          "y": 250,
          "yanchor": "bottom",
          "yref": "y"
         }
        ],
        "barmode": "group",
        "height": 600,
        "legend": {
         "title": {
          "text": "size"
         },
         "tracegroupgap": 0
        },
        "shapes": [
         {
          "line": {
           "color": "orange",
           "dash": "dash",
           "width": 2
          },
          "type": "line",
          "x0": 0,
          "x1": 1,
          "xref": "x domain",
          "y0": 87,
          "y1": 87,
          "yref": "y"
         },
         {
          "line": {
           "color": "blue",
           "dash": "dash",
           "width": 2
          },
          "type": "line",
          "x0": 0,
          "x1": 1,
          "xref": "x domain",
          "y0": 250,
          "y1": 250,
          "yref": "y"
         }
        ],
        "template": {
         "data": {
          "bar": [
           {
            "error_x": {
             "color": "#2a3f5f"
            },
            "error_y": {
             "color": "#2a3f5f"
            },
            "marker": {
             "line": {
              "color": "#E5ECF6",
              "width": 0.5
             },
             "pattern": {
              "fillmode": "overlay",
              "size": 10,
              "solidity": 0.2
             }
            },
            "type": "bar"
           }
          ],
          "barpolar": [
           {
            "marker": {
             "line": {
              "color": "#E5ECF6",
              "width": 0.5
             },
             "pattern": {
              "fillmode": "overlay",
              "size": 10,
              "solidity": 0.2
             }
            },
            "type": "barpolar"
           }
          ],
          "carpet": [
           {
            "aaxis": {
             "endlinecolor": "#2a3f5f",
             "gridcolor": "white",
             "linecolor": "white",
             "minorgridcolor": "white",
             "startlinecolor": "#2a3f5f"
            },
            "baxis": {
             "endlinecolor": "#2a3f5f",
             "gridcolor": "white",
             "linecolor": "white",
             "minorgridcolor": "white",
             "startlinecolor": "#2a3f5f"
            },
            "type": "carpet"
           }
          ],
          "choropleth": [
           {
            "colorbar": {
             "outlinewidth": 0,
             "ticks": ""
            },
            "type": "choropleth"
           }
          ],
          "contour": [
           {
            "colorbar": {
             "outlinewidth": 0,
             "ticks": ""
            },
            "colorscale": [
             [
              0,
              "#0d0887"
             ],
             [
              0.1111111111111111,
              "#46039f"
             ],
             [
              0.2222222222222222,
              "#7201a8"
             ],
             [
              0.3333333333333333,
              "#9c179e"
             ],
             [
              0.4444444444444444,
              "#bd3786"
             ],
             [
              0.5555555555555556,
              "#d8576b"
             ],
             [
              0.6666666666666666,
              "#ed7953"
             ],
             [
              0.7777777777777778,
              "#fb9f3a"
             ],
             [
              0.8888888888888888,
              "#fdca26"
             ],
             [
              1,
              "#f0f921"
             ]
            ],
            "type": "contour"
           }
          ],
          "contourcarpet": [
           {
            "colorbar": {
             "outlinewidth": 0,
             "ticks": ""
            },
            "type": "contourcarpet"
           }
          ],
          "heatmap": [
           {
            "colorbar": {
             "outlinewidth": 0,
             "ticks": ""
            },
            "colorscale": [
             [
              0,
              "#0d0887"
             ],
             [
              0.1111111111111111,
              "#46039f"
             ],
             [
              0.2222222222222222,
              "#7201a8"
             ],
             [
              0.3333333333333333,
              "#9c179e"
             ],
             [
              0.4444444444444444,
              "#bd3786"
             ],
             [
              0.5555555555555556,
              "#d8576b"
             ],
             [
              0.6666666666666666,
              "#ed7953"
             ],
             [
              0.7777777777777778,
              "#fb9f3a"
             ],
             [
              0.8888888888888888,
              "#fdca26"
             ],
             [
              1,
              "#f0f921"
             ]
            ],
            "type": "heatmap"
           }
          ],
          "heatmapgl": [
           {
            "colorbar": {
             "outlinewidth": 0,
             "ticks": ""
            },
            "colorscale": [
             [
              0,
              "#0d0887"
             ],
             [
              0.1111111111111111,
              "#46039f"
             ],
             [
              0.2222222222222222,
              "#7201a8"
             ],
             [
              0.3333333333333333,
              "#9c179e"
             ],
             [
              0.4444444444444444,
              "#bd3786"
             ],
             [
              0.5555555555555556,
              "#d8576b"
             ],
             [
              0.6666666666666666,
              "#ed7953"
             ],
             [
              0.7777777777777778,
              "#fb9f3a"
             ],
             [
              0.8888888888888888,
              "#fdca26"
             ],
             [
              1,
              "#f0f921"
             ]
            ],
            "type": "heatmapgl"
           }
          ],
          "histogram": [
           {
            "marker": {
             "pattern": {
              "fillmode": "overlay",
              "size": 10,
              "solidity": 0.2
             }
            },
            "type": "histogram"
           }
          ],
          "histogram2d": [
           {
            "colorbar": {
             "outlinewidth": 0,
             "ticks": ""
            },
            "colorscale": [
             [
              0,
              "#0d0887"
             ],
             [
              0.1111111111111111,
              "#46039f"
             ],
             [
              0.2222222222222222,
              "#7201a8"
             ],
             [
              0.3333333333333333,
              "#9c179e"
             ],
             [
              0.4444444444444444,
              "#bd3786"
             ],
             [
              0.5555555555555556,
              "#d8576b"
             ],
             [
              0.6666666666666666,
              "#ed7953"
             ],
             [
              0.7777777777777778,
              "#fb9f3a"
             ],
             [
              0.8888888888888888,
              "#fdca26"
             ],
             [
              1,
              "#f0f921"
             ]
            ],
            "type": "histogram2d"
           }
          ],
          "histogram2dcontour": [
           {
            "colorbar": {
             "outlinewidth": 0,
             "ticks": ""
            },
            "colorscale": [
             [
              0,
              "#0d0887"
             ],
             [
              0.1111111111111111,
              "#46039f"
             ],
             [
              0.2222222222222222,
              "#7201a8"
             ],
             [
              0.3333333333333333,
              "#9c179e"
             ],
             [
              0.4444444444444444,
              "#bd3786"
             ],
             [
              0.5555555555555556,
              "#d8576b"
             ],
             [
              0.6666666666666666,
              "#ed7953"
             ],
             [
              0.7777777777777778,
              "#fb9f3a"
             ],
             [
              0.8888888888888888,
              "#fdca26"
             ],
             [
              1,
              "#f0f921"
             ]
            ],
            "type": "histogram2dcontour"
           }
          ],
          "mesh3d": [
           {
            "colorbar": {
             "outlinewidth": 0,
             "ticks": ""
            },
            "type": "mesh3d"
           }
          ],
          "parcoords": [
           {
            "line": {
             "colorbar": {
              "outlinewidth": 0,
              "ticks": ""
             }
            },
            "type": "parcoords"
           }
          ],
          "pie": [
           {
            "automargin": true,
            "type": "pie"
           }
          ],
          "scatter": [
           {
            "fillpattern": {
             "fillmode": "overlay",
             "size": 10,
             "solidity": 0.2
            },
            "type": "scatter"
           }
          ],
          "scatter3d": [
           {
            "line": {
             "colorbar": {
              "outlinewidth": 0,
              "ticks": ""
             }
            },
            "marker": {
             "colorbar": {
              "outlinewidth": 0,
              "ticks": ""
             }
            },
            "type": "scatter3d"
           }
          ],
          "scattercarpet": [
           {
            "marker": {
             "colorbar": {
              "outlinewidth": 0,
              "ticks": ""
             }
            },
            "type": "scattercarpet"
           }
          ],
          "scattergeo": [
           {
            "marker": {
             "colorbar": {
              "outlinewidth": 0,
              "ticks": ""
             }
            },
            "type": "scattergeo"
           }
          ],
          "scattergl": [
           {
            "marker": {
             "colorbar": {
              "outlinewidth": 0,
              "ticks": ""
             }
            },
            "type": "scattergl"
           }
          ],
          "scattermapbox": [
           {
            "marker": {
             "colorbar": {
              "outlinewidth": 0,
              "ticks": ""
             }
            },
            "type": "scattermapbox"
           }
          ],
          "scatterpolar": [
           {
            "marker": {
             "colorbar": {
              "outlinewidth": 0,
              "ticks": ""
             }
            },
            "type": "scatterpolar"
           }
          ],
          "scatterpolargl": [
           {
            "marker": {
             "colorbar": {
              "outlinewidth": 0,
              "ticks": ""
             }
            },
            "type": "scatterpolargl"
           }
          ],
          "scatterternary": [
           {
            "marker": {
             "colorbar": {
              "outlinewidth": 0,
              "ticks": ""
             }
            },
            "type": "scatterternary"
           }
          ],
          "surface": [
           {
            "colorbar": {
             "outlinewidth": 0,
             "ticks": ""
            },
            "colorscale": [
             [
              0,
              "#0d0887"
             ],
             [
              0.1111111111111111,
              "#46039f"
             ],
             [
              0.2222222222222222,
              "#7201a8"
             ],
             [
              0.3333333333333333,
              "#9c179e"
             ],
             [
              0.4444444444444444,
              "#bd3786"
             ],
             [
              0.5555555555555556,
              "#d8576b"
             ],
             [
              0.6666666666666666,
              "#ed7953"
             ],
             [
              0.7777777777777778,
              "#fb9f3a"
             ],
             [
              0.8888888888888888,
              "#fdca26"
             ],
             [
              1,
              "#f0f921"
             ]
            ],
            "type": "surface"
           }
          ],
          "table": [
           {
            "cells": {
             "fill": {
              "color": "#EBF0F8"
             },
             "line": {
              "color": "white"
             }
            },
            "header": {
             "fill": {
              "color": "#C8D4E3"
             },
             "line": {
              "color": "white"
             }
            },
            "type": "table"
           }
          ]
         },
         "layout": {
          "annotationdefaults": {
           "arrowcolor": "#2a3f5f",
           "arrowhead": 0,
           "arrowwidth": 1
          },
          "autotypenumbers": "strict",
          "coloraxis": {
           "colorbar": {
            "outlinewidth": 0,
            "ticks": ""
           }
          },
          "colorscale": {
           "diverging": [
            [
             0,
             "#8e0152"
            ],
            [
             0.1,
             "#c51b7d"
            ],
            [
             0.2,
             "#de77ae"
            ],
            [
             0.3,
             "#f1b6da"
            ],
            [
             0.4,
             "#fde0ef"
            ],
            [
             0.5,
             "#f7f7f7"
            ],
            [
             0.6,
             "#e6f5d0"
            ],
            [
             0.7,
             "#b8e186"
            ],
            [
             0.8,
             "#7fbc41"
            ],
            [
             0.9,
             "#4d9221"
            ],
            [
             1,
             "#276419"
            ]
           ],
           "sequential": [
            [
             0,
             "#0d0887"
            ],
            [
             0.1111111111111111,
             "#46039f"
            ],
            [
             0.2222222222222222,
             "#7201a8"
            ],
            [
             0.3333333333333333,
             "#9c179e"
            ],
            [
             0.4444444444444444,
             "#bd3786"
            ],
            [
             0.5555555555555556,
             "#d8576b"
            ],
            [
             0.6666666666666666,
             "#ed7953"
            ],
            [
             0.7777777777777778,
             "#fb9f3a"
            ],
            [
             0.8888888888888888,
             "#fdca26"
            ],
            [
             1,
             "#f0f921"
            ]
           ],
           "sequentialminus": [
            [
             0,
             "#0d0887"
            ],
            [
             0.1111111111111111,
             "#46039f"
            ],
            [
             0.2222222222222222,
             "#7201a8"
            ],
            [
             0.3333333333333333,
             "#9c179e"
            ],
            [
             0.4444444444444444,
             "#bd3786"
            ],
            [
             0.5555555555555556,
             "#d8576b"
            ],
            [
             0.6666666666666666,
             "#ed7953"
            ],
            [
             0.7777777777777778,
             "#fb9f3a"
            ],
            [
             0.8888888888888888,
             "#fdca26"
            ],
            [
             1,
             "#f0f921"
            ]
           ]
          },
          "colorway": [
           "#636efa",
           "#EF553B",
           "#00cc96",
           "#ab63fa",
           "#FFA15A",
           "#19d3f3",
           "#FF6692",
           "#B6E880",
           "#FF97FF",
           "#FECB52"
          ],
          "font": {
           "color": "#2a3f5f"
          },
          "geo": {
           "bgcolor": "white",
           "lakecolor": "white",
           "landcolor": "#E5ECF6",
           "showlakes": true,
           "showland": true,
           "subunitcolor": "white"
          },
          "hoverlabel": {
           "align": "left"
          },
          "hovermode": "closest",
          "mapbox": {
           "style": "light"
          },
          "paper_bgcolor": "white",
          "plot_bgcolor": "#E5ECF6",
          "polar": {
           "angularaxis": {
            "gridcolor": "white",
            "linecolor": "white",
            "ticks": ""
           },
           "bgcolor": "#E5ECF6",
           "radialaxis": {
            "gridcolor": "white",
            "linecolor": "white",
            "ticks": ""
           }
          },
          "scene": {
           "xaxis": {
            "backgroundcolor": "#E5ECF6",
            "gridcolor": "white",
            "gridwidth": 2,
            "linecolor": "white",
            "showbackground": true,
            "ticks": "",
            "zerolinecolor": "white"
           },
           "yaxis": {
            "backgroundcolor": "#E5ECF6",
            "gridcolor": "white",
            "gridwidth": 2,
            "linecolor": "white",
            "showbackground": true,
            "ticks": "",
            "zerolinecolor": "white"
           },
           "zaxis": {
            "backgroundcolor": "#E5ECF6",
            "gridcolor": "white",
            "gridwidth": 2,
            "linecolor": "white",
            "showbackground": true,
            "ticks": "",
            "zerolinecolor": "white"
           }
          },
          "shapedefaults": {
           "line": {
            "color": "#2a3f5f"
           }
          },
          "ternary": {
           "aaxis": {
            "gridcolor": "white",
            "linecolor": "white",
            "ticks": ""
           },
           "baxis": {
            "gridcolor": "white",
            "linecolor": "white",
            "ticks": ""
           },
           "bgcolor": "#E5ECF6",
           "caxis": {
            "gridcolor": "white",
            "linecolor": "white",
            "ticks": ""
           }
          },
          "title": {
           "x": 0.05
          },
          "xaxis": {
           "automargin": true,
           "gridcolor": "white",
           "linecolor": "white",
           "ticks": "",
           "title": {
            "standoff": 15
           },
           "zerolinecolor": "white",
           "zerolinewidth": 2
          },
          "yaxis": {
           "automargin": true,
           "gridcolor": "white",
           "linecolor": "white",
           "ticks": "",
           "title": {
            "standoff": 15
           },
           "zerolinecolor": "white",
           "zerolinewidth": 2
          }
         }
        },
        "title": {
         "text": "Peak memory, RAM size & flash size"
        },
        "xaxis": {
         "anchor": "y",
         "domain": [
          0,
          1
         ],
         "title": {
          "text": "model architecture"
         }
        },
        "yaxis": {
         "anchor": "x",
         "domain": [
          0,
          1
         ],
         "title": {
          "text": "value"
         }
        }
       }
      },
      "text/html": [
       "<div>                            <div id=\"707e292f-22ab-4b70-94d3-b4cab073e847\" class=\"plotly-graph-div\" style=\"height:600px; width:100%;\"></div>            <script type=\"text/javascript\">                require([\"plotly\"], function(Plotly) {                    window.PLOTLYENV=window.PLOTLYENV || {};                                    if (document.getElementById(\"707e292f-22ab-4b70-94d3-b4cab073e847\")) {                    Plotly.newPlot(                        \"707e292f-22ab-4b70-94d3-b4cab073e847\",                        [{\"alignmentgroup\":\"True\",\"hovertemplate\":\"size=RAM_runtime_memory_size_kb_INT8_mltk<br>model architecture=%{x}<br>value=%{y}<extra></extra>\",\"legendgroup\":\"RAM_runtime_memory_size_kb_INT8_mltk\",\"marker\":{\"color\":\"#636efa\",\"pattern\":{\"shape\":\"\"}},\"name\":\"RAM_runtime_memory_size_kb_INT8_mltk\",\"offsetgroup\":\"RAM_runtime_memory_size_kb_INT8_mltk\",\"orientation\":\"v\",\"showlegend\":true,\"textposition\":\"auto\",\"x\":[\"mobilenetv2_0.1_96_c3_o2_l5\",\"mobilenetv2_0.1_96_c3_o2_t1l1024.MV1\",\"mobilenetv2_0.1_96_c3_o2_t2l1024.MV1\",\"mobilenetv2_0.1_96_c3_o2_t3l1024.MV1\",\"mobilenetv2_0.1_96_c3_o2_t4l1024.MV1\",\"mobilenetv2_0.1_96_c3_o2_t5l1024.MV1\",\"mobilenetv2_0.1_96_c3_o2_t6l1024.MV1\",\"mobilenetv2_0.1_96_c3_o2_t6l128.MV1\",\"mobilenetv2_0.1_96_c3_o2_t6l256.MV1\",\"mobilenetv2_0.1_96_c3_o2_t6l512.MV1\",\"mobilenetv2_0.25_96_c3_o2_keras\",\"mobilenetv2_0.25_96_c3_o2_l5\",\"mobilenetv2_0.25_96_c3_o2_t1l1024.MV1\",\"mobilenetv2_0.25_96_c3_o2_t2l1024.MV1\",\"mobilenetv2_0.25_96_c3_o2_t3l1024.MV1\",\"mobilenetv2_0.25_96_c3_o2_t4l1024.MV1\",\"mobilenetv2_0.25_96_c3_o2_t5l1024.MV1\",\"mobilenetv2_0.25_96_c3_o2_t5l128.MV1\",\"mobilenetv2_0.25_96_c3_o2_t5l256.MV1\",\"mobilenetv2_0.25_96_c3_o2_t5l512.MV1\",\"mobilenetv2_0.25_96_c3_o2_t6l1024.GAP\",\"mobilenetv2_0.25_96_c3_o2_t6l1024.MV1\",\"mobilenetv2_0.25_96_c3_o2_t6l128.MV1\",\"mobilenetv2_0.25_96_c3_o2_t6l256.MV1\",\"mobilenetv2_0.25_96_c3_o2_t6l512.MV1\",\"mobilenetv2_0.2_96_c3_o2_l5\",\"mobilenetv2_0.2_96_c3_o2_t5l1024.MV1\",\"mobilenetv2_0.2_96_c3_o2_t5l128.MV1\",\"mobilenetv2_0.2_96_c3_o2_t5l256.MV1\",\"mobilenetv2_0.2_96_c3_o2_t5l512.MV1\",\"mobilenetv2_0.2_96_c3_o2_t6l1024.MV1\",\"mobilenetv2_0.2_96_c3_o2_t6l128.MV1\",\"mobilenetv2_0.2_96_c3_o2_t6l256.MV1\",\"mobilenetv2_0.2_96_c3_o2_t6l512.MV1\",\"mobilenetv2_0.35_96_c3_o2_keras\",\"mobilenetv2_0.35_96_c3_o2_l5\",\"mobilenetv2_0.5_96_c3_o2_keras\",\"mobilenetv2_0.5_96_c3_o2_l5\",\"mobilenetv2_1_96_c3_o2_keras\",\"mobilenetv2_1_96_c3_o2_l5\"],\"xaxis\":\"x\",\"y\":[106.3828125,76.92578125,78.44921875,80.42578125,81.7265625,83.92578125,85.44921875,78.44921875,79.44921875,81.44921875,273.703125,124.828125,80.88671875,85.51953125,90.13671875,94.76953125,102.01171875,95.01171875,96.01171875,98.01171875,117.98046875,117.89453125,110.89453125,111.89453125,113.89453125,118.29296875,93.84765625,86.84765625,87.84765625,89.84765625,97.359375,90.359375,91.359375,93.359375,286.99609375,149.515625,304.49609375,218.9609375,585.87109375,416.4609375],\"yaxis\":\"y\",\"type\":\"bar\"},{\"alignmentgroup\":\"True\",\"hovertemplate\":\"size=flash_model_size_kb_INT8_mltk<br>model architecture=%{x}<br>value=%{y}<extra></extra>\",\"legendgroup\":\"flash_model_size_kb_INT8_mltk\",\"marker\":{\"color\":\"#EF553B\",\"pattern\":{\"shape\":\"\"}},\"name\":\"flash_model_size_kb_INT8_mltk\",\"offsetgroup\":\"flash_model_size_kb_INT8_mltk\",\"orientation\":\"v\",\"showlegend\":true,\"textposition\":\"auto\",\"x\":[\"mobilenetv2_0.1_96_c3_o2_l5\",\"mobilenetv2_0.1_96_c3_o2_t1l1024.MV1\",\"mobilenetv2_0.1_96_c3_o2_t2l1024.MV1\",\"mobilenetv2_0.1_96_c3_o2_t3l1024.MV1\",\"mobilenetv2_0.1_96_c3_o2_t4l1024.MV1\",\"mobilenetv2_0.1_96_c3_o2_t5l1024.MV1\",\"mobilenetv2_0.1_96_c3_o2_t6l1024.MV1\",\"mobilenetv2_0.1_96_c3_o2_t6l128.MV1\",\"mobilenetv2_0.1_96_c3_o2_t6l256.MV1\",\"mobilenetv2_0.1_96_c3_o2_t6l512.MV1\",\"mobilenetv2_0.25_96_c3_o2_keras\",\"mobilenetv2_0.25_96_c3_o2_l5\",\"mobilenetv2_0.25_96_c3_o2_t1l1024.MV1\",\"mobilenetv2_0.25_96_c3_o2_t2l1024.MV1\",\"mobilenetv2_0.25_96_c3_o2_t3l1024.MV1\",\"mobilenetv2_0.25_96_c3_o2_t4l1024.MV1\",\"mobilenetv2_0.25_96_c3_o2_t5l1024.MV1\",\"mobilenetv2_0.25_96_c3_o2_t5l128.MV1\",\"mobilenetv2_0.25_96_c3_o2_t5l256.MV1\",\"mobilenetv2_0.25_96_c3_o2_t5l512.MV1\",\"mobilenetv2_0.25_96_c3_o2_t6l1024.GAP\",\"mobilenetv2_0.25_96_c3_o2_t6l1024.MV1\",\"mobilenetv2_0.25_96_c3_o2_t6l128.MV1\",\"mobilenetv2_0.25_96_c3_o2_t6l256.MV1\",\"mobilenetv2_0.25_96_c3_o2_t6l512.MV1\",\"mobilenetv2_0.2_96_c3_o2_l5\",\"mobilenetv2_0.2_96_c3_o2_t5l1024.MV1\",\"mobilenetv2_0.2_96_c3_o2_t5l128.MV1\",\"mobilenetv2_0.2_96_c3_o2_t5l256.MV1\",\"mobilenetv2_0.2_96_c3_o2_t5l512.MV1\",\"mobilenetv2_0.2_96_c3_o2_t6l1024.MV1\",\"mobilenetv2_0.2_96_c3_o2_t6l128.MV1\",\"mobilenetv2_0.2_96_c3_o2_t6l256.MV1\",\"mobilenetv2_0.2_96_c3_o2_t6l512.MV1\",\"mobilenetv2_0.35_96_c3_o2_keras\",\"mobilenetv2_0.35_96_c3_o2_l5\",\"mobilenetv2_0.5_96_c3_o2_keras\",\"mobilenetv2_0.5_96_c3_o2_l5\",\"mobilenetv2_1_96_c3_o2_keras\",\"mobilenetv2_1_96_c3_o2_l5\"],\"xaxis\":\"x\",\"y\":[176.4921875,114.5703125,123.59375,132.890625,141.7109375,150.8828125,159.921875,105.671875,113.421875,128.921875,401.3515625,393.5234375,193.1328125,227.5390625,262.1875,296.390625,330.53125,234.28125,248.03125,275.53125,365.3359375,364.9765625,268.7265625,282.4765625,309.9765625,309.6328125,261.1015625,178.8515625,190.6015625,214.1015625,285.0859375,202.8359375,214.5859375,238.0859375,593.578125,574.3359375,927.6640625,918.7890625,2601.1171875,2597.3984375],\"yaxis\":\"y\",\"type\":\"bar\"},{\"alignmentgroup\":\"True\",\"hovertemplate\":\"size=peak_memory_kb<br>model architecture=%{x}<br>value=%{y}<extra></extra>\",\"legendgroup\":\"peak_memory_kb\",\"marker\":{\"color\":\"#00cc96\",\"pattern\":{\"shape\":\"\"}},\"name\":\"peak_memory_kb\",\"offsetgroup\":\"peak_memory_kb\",\"orientation\":\"v\",\"showlegend\":true,\"textposition\":\"auto\",\"x\":[\"mobilenetv2_0.1_96_c3_o2_l5\",\"mobilenetv2_0.1_96_c3_o2_t1l1024.MV1\",\"mobilenetv2_0.1_96_c3_o2_t2l1024.MV1\",\"mobilenetv2_0.1_96_c3_o2_t3l1024.MV1\",\"mobilenetv2_0.1_96_c3_o2_t4l1024.MV1\",\"mobilenetv2_0.1_96_c3_o2_t5l1024.MV1\",\"mobilenetv2_0.1_96_c3_o2_t6l1024.MV1\",\"mobilenetv2_0.1_96_c3_o2_t6l128.MV1\",\"mobilenetv2_0.1_96_c3_o2_t6l256.MV1\",\"mobilenetv2_0.1_96_c3_o2_t6l512.MV1\",\"mobilenetv2_0.25_96_c3_o2_keras\",\"mobilenetv2_0.25_96_c3_o2_l5\",\"mobilenetv2_0.25_96_c3_o2_t1l1024.MV1\",\"mobilenetv2_0.25_96_c3_o2_t2l1024.MV1\",\"mobilenetv2_0.25_96_c3_o2_t3l1024.MV1\",\"mobilenetv2_0.25_96_c3_o2_t4l1024.MV1\",\"mobilenetv2_0.25_96_c3_o2_t5l1024.MV1\",\"mobilenetv2_0.25_96_c3_o2_t5l128.MV1\",\"mobilenetv2_0.25_96_c3_o2_t5l256.MV1\",\"mobilenetv2_0.25_96_c3_o2_t5l512.MV1\",\"mobilenetv2_0.25_96_c3_o2_t6l1024.GAP\",\"mobilenetv2_0.25_96_c3_o2_t6l1024.MV1\",\"mobilenetv2_0.25_96_c3_o2_t6l128.MV1\",\"mobilenetv2_0.25_96_c3_o2_t6l256.MV1\",\"mobilenetv2_0.25_96_c3_o2_t6l512.MV1\",\"mobilenetv2_0.2_96_c3_o2_l5\",\"mobilenetv2_0.2_96_c3_o2_t5l1024.MV1\",\"mobilenetv2_0.2_96_c3_o2_t5l128.MV1\",\"mobilenetv2_0.2_96_c3_o2_t5l256.MV1\",\"mobilenetv2_0.2_96_c3_o2_t5l512.MV1\",\"mobilenetv2_0.2_96_c3_o2_t6l1024.MV1\",\"mobilenetv2_0.2_96_c3_o2_t6l128.MV1\",\"mobilenetv2_0.2_96_c3_o2_t6l256.MV1\",\"mobilenetv2_0.2_96_c3_o2_t6l512.MV1\",\"mobilenetv2_0.35_96_c3_o2_keras\",\"mobilenetv2_0.35_96_c3_o2_l5\",\"mobilenetv2_0.5_96_c3_o2_keras\",\"mobilenetv2_0.5_96_c3_o2_l5\",\"mobilenetv2_1_96_c3_o2_keras\",\"mobilenetv2_1_96_c3_o2_l5\"],\"xaxis\":\"x\",\"y\":[54.0,54.0,54.0,54.0,54.0,54.0,54.0,54.0,54.0,54.0,220.546875,67.5,54.0,54.0,54.0,54.0,56.25,56.25,56.25,56.25,67.5,67.5,67.5,67.5,67.5,54.0,54.0,54.0,54.0,54.0,54.0,54.0,54.0,54.0,220.546875,84.375,220.546875,135.0,441.09375,270.0],\"yaxis\":\"y\",\"type\":\"bar\"},{\"alignmentgroup\":\"True\",\"hovertemplate\":\"size=tflite_model_INT8_size_kb<br>model architecture=%{x}<br>value=%{y}<extra></extra>\",\"legendgroup\":\"tflite_model_INT8_size_kb\",\"marker\":{\"color\":\"#ab63fa\",\"pattern\":{\"shape\":\"\"}},\"name\":\"tflite_model_INT8_size_kb\",\"offsetgroup\":\"tflite_model_INT8_size_kb\",\"orientation\":\"v\",\"showlegend\":true,\"textposition\":\"auto\",\"x\":[\"mobilenetv2_0.1_96_c3_o2_l5\",\"mobilenetv2_0.1_96_c3_o2_t1l1024.MV1\",\"mobilenetv2_0.1_96_c3_o2_t2l1024.MV1\",\"mobilenetv2_0.1_96_c3_o2_t3l1024.MV1\",\"mobilenetv2_0.1_96_c3_o2_t4l1024.MV1\",\"mobilenetv2_0.1_96_c3_o2_t5l1024.MV1\",\"mobilenetv2_0.1_96_c3_o2_t6l1024.MV1\",\"mobilenetv2_0.1_96_c3_o2_t6l128.MV1\",\"mobilenetv2_0.1_96_c3_o2_t6l256.MV1\",\"mobilenetv2_0.1_96_c3_o2_t6l512.MV1\",\"mobilenetv2_0.25_96_c3_o2_keras\",\"mobilenetv2_0.25_96_c3_o2_l5\",\"mobilenetv2_0.25_96_c3_o2_t1l1024.MV1\",\"mobilenetv2_0.25_96_c3_o2_t2l1024.MV1\",\"mobilenetv2_0.25_96_c3_o2_t3l1024.MV1\",\"mobilenetv2_0.25_96_c3_o2_t4l1024.MV1\",\"mobilenetv2_0.25_96_c3_o2_t5l1024.MV1\",\"mobilenetv2_0.25_96_c3_o2_t5l128.MV1\",\"mobilenetv2_0.25_96_c3_o2_t5l256.MV1\",\"mobilenetv2_0.25_96_c3_o2_t5l512.MV1\",\"mobilenetv2_0.25_96_c3_o2_t6l1024.GAP\",\"mobilenetv2_0.25_96_c3_o2_t6l1024.MV1\",\"mobilenetv2_0.25_96_c3_o2_t6l128.MV1\",\"mobilenetv2_0.25_96_c3_o2_t6l256.MV1\",\"mobilenetv2_0.25_96_c3_o2_t6l512.MV1\",\"mobilenetv2_0.2_96_c3_o2_l5\",\"mobilenetv2_0.2_96_c3_o2_t5l1024.MV1\",\"mobilenetv2_0.2_96_c3_o2_t5l128.MV1\",\"mobilenetv2_0.2_96_c3_o2_t5l256.MV1\",\"mobilenetv2_0.2_96_c3_o2_t5l512.MV1\",\"mobilenetv2_0.2_96_c3_o2_t6l1024.MV1\",\"mobilenetv2_0.2_96_c3_o2_t6l128.MV1\",\"mobilenetv2_0.2_96_c3_o2_t6l256.MV1\",\"mobilenetv2_0.2_96_c3_o2_t6l512.MV1\",\"mobilenetv2_0.35_96_c3_o2_keras\",\"mobilenetv2_0.35_96_c3_o2_l5\",\"mobilenetv2_0.5_96_c3_o2_keras\",\"mobilenetv2_0.5_96_c3_o2_l5\",\"mobilenetv2_1_96_c3_o2_keras\",\"mobilenetv2_1_96_c3_o2_l5\"],\"xaxis\":\"x\",\"y\":[176.4921875,114.5703125,123.59375,132.890625,141.7109375,150.8828125,159.921875,105.671875,113.421875,128.921875,401.3515625,393.5234375,193.1328125,227.5390625,262.1875,296.390625,330.53125,234.28125,248.03125,275.53125,365.3359375,364.9765625,268.7265625,282.4765625,309.9765625,309.6328125,261.1015625,178.8515625,190.6015625,214.1015625,285.0859375,202.8359375,214.5859375,238.0859375,593.578125,574.3359375,927.6640625,918.7890625,2601.1171875,2597.3984375],\"yaxis\":\"y\",\"type\":\"bar\"}],                        {\"template\":{\"data\":{\"histogram2dcontour\":[{\"type\":\"histogram2dcontour\",\"colorbar\":{\"outlinewidth\":0,\"ticks\":\"\"},\"colorscale\":[[0.0,\"#0d0887\"],[0.1111111111111111,\"#46039f\"],[0.2222222222222222,\"#7201a8\"],[0.3333333333333333,\"#9c179e\"],[0.4444444444444444,\"#bd3786\"],[0.5555555555555556,\"#d8576b\"],[0.6666666666666666,\"#ed7953\"],[0.7777777777777778,\"#fb9f3a\"],[0.8888888888888888,\"#fdca26\"],[1.0,\"#f0f921\"]]}],\"choropleth\":[{\"type\":\"choropleth\",\"colorbar\":{\"outlinewidth\":0,\"ticks\":\"\"}}],\"histogram2d\":[{\"type\":\"histogram2d\",\"colorbar\":{\"outlinewidth\":0,\"ticks\":\"\"},\"colorscale\":[[0.0,\"#0d0887\"],[0.1111111111111111,\"#46039f\"],[0.2222222222222222,\"#7201a8\"],[0.3333333333333333,\"#9c179e\"],[0.4444444444444444,\"#bd3786\"],[0.5555555555555556,\"#d8576b\"],[0.6666666666666666,\"#ed7953\"],[0.7777777777777778,\"#fb9f3a\"],[0.8888888888888888,\"#fdca26\"],[1.0,\"#f0f921\"]]}],\"heatmap\":[{\"type\":\"heatmap\",\"colorbar\":{\"outlinewidth\":0,\"ticks\":\"\"},\"colorscale\":[[0.0,\"#0d0887\"],[0.1111111111111111,\"#46039f\"],[0.2222222222222222,\"#7201a8\"],[0.3333333333333333,\"#9c179e\"],[0.4444444444444444,\"#bd3786\"],[0.5555555555555556,\"#d8576b\"],[0.6666666666666666,\"#ed7953\"],[0.7777777777777778,\"#fb9f3a\"],[0.8888888888888888,\"#fdca26\"],[1.0,\"#f0f921\"]]}],\"heatmapgl\":[{\"type\":\"heatmapgl\",\"colorbar\":{\"outlinewidth\":0,\"ticks\":\"\"},\"colorscale\":[[0.0,\"#0d0887\"],[0.1111111111111111,\"#46039f\"],[0.2222222222222222,\"#7201a8\"],[0.3333333333333333,\"#9c179e\"],[0.4444444444444444,\"#bd3786\"],[0.5555555555555556,\"#d8576b\"],[0.6666666666666666,\"#ed7953\"],[0.7777777777777778,\"#fb9f3a\"],[0.8888888888888888,\"#fdca26\"],[1.0,\"#f0f921\"]]}],\"contourcarpet\":[{\"type\":\"contourcarpet\",\"colorbar\":{\"outlinewidth\":0,\"ticks\":\"\"}}],\"contour\":[{\"type\":\"contour\",\"colorbar\":{\"outlinewidth\":0,\"ticks\":\"\"},\"colorscale\":[[0.0,\"#0d0887\"],[0.1111111111111111,\"#46039f\"],[0.2222222222222222,\"#7201a8\"],[0.3333333333333333,\"#9c179e\"],[0.4444444444444444,\"#bd3786\"],[0.5555555555555556,\"#d8576b\"],[0.6666666666666666,\"#ed7953\"],[0.7777777777777778,\"#fb9f3a\"],[0.8888888888888888,\"#fdca26\"],[1.0,\"#f0f921\"]]}],\"surface\":[{\"type\":\"surface\",\"colorbar\":{\"outlinewidth\":0,\"ticks\":\"\"},\"colorscale\":[[0.0,\"#0d0887\"],[0.1111111111111111,\"#46039f\"],[0.2222222222222222,\"#7201a8\"],[0.3333333333333333,\"#9c179e\"],[0.4444444444444444,\"#bd3786\"],[0.5555555555555556,\"#d8576b\"],[0.6666666666666666,\"#ed7953\"],[0.7777777777777778,\"#fb9f3a\"],[0.8888888888888888,\"#fdca26\"],[1.0,\"#f0f921\"]]}],\"mesh3d\":[{\"type\":\"mesh3d\",\"colorbar\":{\"outlinewidth\":0,\"ticks\":\"\"}}],\"scatter\":[{\"fillpattern\":{\"fillmode\":\"overlay\",\"size\":10,\"solidity\":0.2},\"type\":\"scatter\"}],\"parcoords\":[{\"type\":\"parcoords\",\"line\":{\"colorbar\":{\"outlinewidth\":0,\"ticks\":\"\"}}}],\"scatterpolargl\":[{\"type\":\"scatterpolargl\",\"marker\":{\"colorbar\":{\"outlinewidth\":0,\"ticks\":\"\"}}}],\"bar\":[{\"error_x\":{\"color\":\"#2a3f5f\"},\"error_y\":{\"color\":\"#2a3f5f\"},\"marker\":{\"line\":{\"color\":\"#E5ECF6\",\"width\":0.5},\"pattern\":{\"fillmode\":\"overlay\",\"size\":10,\"solidity\":0.2}},\"type\":\"bar\"}],\"scattergeo\":[{\"type\":\"scattergeo\",\"marker\":{\"colorbar\":{\"outlinewidth\":0,\"ticks\":\"\"}}}],\"scatterpolar\":[{\"type\":\"scatterpolar\",\"marker\":{\"colorbar\":{\"outlinewidth\":0,\"ticks\":\"\"}}}],\"histogram\":[{\"marker\":{\"pattern\":{\"fillmode\":\"overlay\",\"size\":10,\"solidity\":0.2}},\"type\":\"histogram\"}],\"scattergl\":[{\"type\":\"scattergl\",\"marker\":{\"colorbar\":{\"outlinewidth\":0,\"ticks\":\"\"}}}],\"scatter3d\":[{\"type\":\"scatter3d\",\"line\":{\"colorbar\":{\"outlinewidth\":0,\"ticks\":\"\"}},\"marker\":{\"colorbar\":{\"outlinewidth\":0,\"ticks\":\"\"}}}],\"scattermapbox\":[{\"type\":\"scattermapbox\",\"marker\":{\"colorbar\":{\"outlinewidth\":0,\"ticks\":\"\"}}}],\"scatterternary\":[{\"type\":\"scatterternary\",\"marker\":{\"colorbar\":{\"outlinewidth\":0,\"ticks\":\"\"}}}],\"scattercarpet\":[{\"type\":\"scattercarpet\",\"marker\":{\"colorbar\":{\"outlinewidth\":0,\"ticks\":\"\"}}}],\"carpet\":[{\"aaxis\":{\"endlinecolor\":\"#2a3f5f\",\"gridcolor\":\"white\",\"linecolor\":\"white\",\"minorgridcolor\":\"white\",\"startlinecolor\":\"#2a3f5f\"},\"baxis\":{\"endlinecolor\":\"#2a3f5f\",\"gridcolor\":\"white\",\"linecolor\":\"white\",\"minorgridcolor\":\"white\",\"startlinecolor\":\"#2a3f5f\"},\"type\":\"carpet\"}],\"table\":[{\"cells\":{\"fill\":{\"color\":\"#EBF0F8\"},\"line\":{\"color\":\"white\"}},\"header\":{\"fill\":{\"color\":\"#C8D4E3\"},\"line\":{\"color\":\"white\"}},\"type\":\"table\"}],\"barpolar\":[{\"marker\":{\"line\":{\"color\":\"#E5ECF6\",\"width\":0.5},\"pattern\":{\"fillmode\":\"overlay\",\"size\":10,\"solidity\":0.2}},\"type\":\"barpolar\"}],\"pie\":[{\"automargin\":true,\"type\":\"pie\"}]},\"layout\":{\"autotypenumbers\":\"strict\",\"colorway\":[\"#636efa\",\"#EF553B\",\"#00cc96\",\"#ab63fa\",\"#FFA15A\",\"#19d3f3\",\"#FF6692\",\"#B6E880\",\"#FF97FF\",\"#FECB52\"],\"font\":{\"color\":\"#2a3f5f\"},\"hovermode\":\"closest\",\"hoverlabel\":{\"align\":\"left\"},\"paper_bgcolor\":\"white\",\"plot_bgcolor\":\"#E5ECF6\",\"polar\":{\"bgcolor\":\"#E5ECF6\",\"angularaxis\":{\"gridcolor\":\"white\",\"linecolor\":\"white\",\"ticks\":\"\"},\"radialaxis\":{\"gridcolor\":\"white\",\"linecolor\":\"white\",\"ticks\":\"\"}},\"ternary\":{\"bgcolor\":\"#E5ECF6\",\"aaxis\":{\"gridcolor\":\"white\",\"linecolor\":\"white\",\"ticks\":\"\"},\"baxis\":{\"gridcolor\":\"white\",\"linecolor\":\"white\",\"ticks\":\"\"},\"caxis\":{\"gridcolor\":\"white\",\"linecolor\":\"white\",\"ticks\":\"\"}},\"coloraxis\":{\"colorbar\":{\"outlinewidth\":0,\"ticks\":\"\"}},\"colorscale\":{\"sequential\":[[0.0,\"#0d0887\"],[0.1111111111111111,\"#46039f\"],[0.2222222222222222,\"#7201a8\"],[0.3333333333333333,\"#9c179e\"],[0.4444444444444444,\"#bd3786\"],[0.5555555555555556,\"#d8576b\"],[0.6666666666666666,\"#ed7953\"],[0.7777777777777778,\"#fb9f3a\"],[0.8888888888888888,\"#fdca26\"],[1.0,\"#f0f921\"]],\"sequentialminus\":[[0.0,\"#0d0887\"],[0.1111111111111111,\"#46039f\"],[0.2222222222222222,\"#7201a8\"],[0.3333333333333333,\"#9c179e\"],[0.4444444444444444,\"#bd3786\"],[0.5555555555555556,\"#d8576b\"],[0.6666666666666666,\"#ed7953\"],[0.7777777777777778,\"#fb9f3a\"],[0.8888888888888888,\"#fdca26\"],[1.0,\"#f0f921\"]],\"diverging\":[[0,\"#8e0152\"],[0.1,\"#c51b7d\"],[0.2,\"#de77ae\"],[0.3,\"#f1b6da\"],[0.4,\"#fde0ef\"],[0.5,\"#f7f7f7\"],[0.6,\"#e6f5d0\"],[0.7,\"#b8e186\"],[0.8,\"#7fbc41\"],[0.9,\"#4d9221\"],[1,\"#276419\"]]},\"xaxis\":{\"gridcolor\":\"white\",\"linecolor\":\"white\",\"ticks\":\"\",\"title\":{\"standoff\":15},\"zerolinecolor\":\"white\",\"automargin\":true,\"zerolinewidth\":2},\"yaxis\":{\"gridcolor\":\"white\",\"linecolor\":\"white\",\"ticks\":\"\",\"title\":{\"standoff\":15},\"zerolinecolor\":\"white\",\"automargin\":true,\"zerolinewidth\":2},\"scene\":{\"xaxis\":{\"backgroundcolor\":\"#E5ECF6\",\"gridcolor\":\"white\",\"linecolor\":\"white\",\"showbackground\":true,\"ticks\":\"\",\"zerolinecolor\":\"white\",\"gridwidth\":2},\"yaxis\":{\"backgroundcolor\":\"#E5ECF6\",\"gridcolor\":\"white\",\"linecolor\":\"white\",\"showbackground\":true,\"ticks\":\"\",\"zerolinecolor\":\"white\",\"gridwidth\":2},\"zaxis\":{\"backgroundcolor\":\"#E5ECF6\",\"gridcolor\":\"white\",\"linecolor\":\"white\",\"showbackground\":true,\"ticks\":\"\",\"zerolinecolor\":\"white\",\"gridwidth\":2}},\"shapedefaults\":{\"line\":{\"color\":\"#2a3f5f\"}},\"annotationdefaults\":{\"arrowcolor\":\"#2a3f5f\",\"arrowhead\":0,\"arrowwidth\":1},\"geo\":{\"bgcolor\":\"white\",\"landcolor\":\"#E5ECF6\",\"subunitcolor\":\"white\",\"showland\":true,\"showlakes\":true,\"lakecolor\":\"white\"},\"title\":{\"x\":0.05},\"mapbox\":{\"style\":\"light\"}}},\"xaxis\":{\"anchor\":\"y\",\"domain\":[0.0,1.0],\"title\":{\"text\":\"model architecture\"}},\"yaxis\":{\"anchor\":\"x\",\"domain\":[0.0,1.0],\"title\":{\"text\":\"value\"}},\"legend\":{\"title\":{\"text\":\"size\"},\"tracegroupgap\":0},\"title\":{\"text\":\"Peak memory, RAM size & flash size\"},\"barmode\":\"group\",\"height\":600,\"shapes\":[{\"line\":{\"color\":\"orange\",\"dash\":\"dash\",\"width\":2},\"type\":\"line\",\"x0\":0,\"x1\":1,\"xref\":\"x domain\",\"y0\":87,\"y1\":87,\"yref\":\"y\"},{\"line\":{\"color\":\"blue\",\"dash\":\"dash\",\"width\":2},\"type\":\"line\",\"x0\":0,\"x1\":1,\"xref\":\"x domain\",\"y0\":250,\"y1\":250,\"yref\":\"y\"}],\"annotations\":[{\"showarrow\":false,\"text\":\"87 KB peak activation\",\"x\":0,\"xanchor\":\"left\",\"xref\":\"x domain\",\"y\":87,\"yanchor\":\"bottom\",\"yref\":\"y\"},{\"showarrow\":false,\"text\":\"250 KB flash memory\",\"x\":1,\"xanchor\":\"right\",\"xref\":\"x domain\",\"y\":250,\"yanchor\":\"bottom\",\"yref\":\"y\"}]},                        {\"responsive\": true}                    ).then(function(){\n",
       "                            \n",
       "var gd = document.getElementById('707e292f-22ab-4b70-94d3-b4cab073e847');\n",
       "var x = new MutationObserver(function (mutations, observer) {{\n",
       "        var display = window.getComputedStyle(gd).display;\n",
       "        if (!display || display === 'none') {{\n",
       "            console.log([gd, 'removed!']);\n",
       "            Plotly.purge(gd);\n",
       "            observer.disconnect();\n",
       "        }}\n",
       "}});\n",
       "\n",
       "// Listen for the removal of the full notebook cells\n",
       "var notebookContainer = gd.closest('#notebook-container');\n",
       "if (notebookContainer) {{\n",
       "    x.observe(notebookContainer, {childList: true});\n",
       "}}\n",
       "\n",
       "// Listen for the clearing of the current output cell\n",
       "var outputEl = gd.closest('.output');\n",
       "if (outputEl) {{\n",
       "    x.observe(outputEl, {childList: true});\n",
       "}}\n",
       "\n",
       "                        })                };                });            </script>        </div>"
      ]
     },
     "metadata": {},
     "output_type": "display_data"
    }
   ],
   "source": [
    "mbnv2_size_df_long = create_size_df_long(mbnv2_df)\n",
    "mobilenetv2_mem_fig = memory_fig(mbnv2_size_df_long)"
   ]
  },
  {
   "attachments": {},
   "cell_type": "markdown",
   "metadata": {},
   "source": [
    "# Plotting construction zone"
   ]
  },
  {
   "cell_type": "code",
   "execution_count": null,
   "metadata": {},
   "outputs": [],
   "source": [
    "# size_fig = px.bar(mbnv2_df, x=\"alpha\", y= [\"peak_memory_kb\",\n",
    "#                                            \"RAM_runtime_memory_size_kb_INT8_mltk\",\n",
    "#                                            \"flash_model_size_kb_INT8_mltk\",\n",
    "#                                            \"tflite_model_INT8_size_kb\"], \n",
    "#                   text_auto=\".2s\",\n",
    "#                   labels={\"name\" : \"layer\",\n",
    "#                           \"macs\" : \"MACs\"},\n",
    "#                      width=1200, height=600,\n",
    "#     title=f\"Model size\")\n",
    "# size_fig.add_hline(y=256, line_width=3, line_dash=\"dash\", line_color=\"orange\", annotation_text=\"256 kB MCU constraint\", \n",
    "#             annotation_position=\"bottom right\")\n",
    "# #peak_memory = peak_memory_df[\"RAM_b\"].max()\n",
    "# #peak_mem_fig.add_hline(y=peak_memory, line_width=3, line_dash=\"dash\", line_color=\"red\", annotation_text=f\"{peak_memory} B peak activation\", \n",
    "# #               annotation_position=\"top\")\n",
    "# # tflite_fig.update_layout(yaxis_range=[0,300])\n",
    "# size_fig.update_traces(width=1)\n",
    "# size_fig.update_layout(showlegend=True)\n",
    "\n",
    "# size_fig.show()"
   ]
  },
  {
   "cell_type": "code",
   "execution_count": null,
   "metadata": {},
   "outputs": [],
   "source": [
    "# # Create figure with secondary y-axis\n",
    "# fig = make_subplots(specs=[[{\"secondary_y\": True}]])\n",
    "# #fig = go.Figure()#specs=[[{\"secondary_y\": True}]])\n",
    "# # Add traces\n",
    "# fig.add_trace(go.Bar(x = mbnv2_df[\"alpha\"],\n",
    "#                                    y = mbnv2_df[\"tflite_model_INT8_size_kb\"],#, mbnv2_df[\"peak_memory_b\"]], \n",
    "#                                    name= \"model size in kB\"\n",
    "#                                    ),\n",
    "#                                    col=1,\n",
    "#                                    row=1,\n",
    "#                                    secondary_y=False)\n",
    "\n",
    "# fig.add_trace(go.Bar(x = mbnv2_df[\"alpha\"],\n",
    "#                                    y = mbnv2_df[\"peak_memory_b\"], \n",
    "#                                    name= \"peak memory in B\"\n",
    "#                                    ),\n",
    "#                                    col=1,\n",
    "#                                    row=1,\n",
    "#                                    secondary_y=True)\n",
    "\n",
    "\n",
    "\n",
    "# # fig.add_trace(\n",
    "# #     go.Scatter(x=[2, 3, 4], y=[4, 5, 6], name=\"yaxis2 data\"),\n",
    "# #     secondary_y=True,\n",
    "# # )\n",
    "\n",
    "# # Add figure title\n",
    "# fig.update_layout(\n",
    "#     title_text=\"Double Y Axis Example\"\n",
    "# )\n",
    "\n",
    "# # Set x-axis title\n",
    "# fig.update_xaxes(title_text=\"xaxis title\")\n",
    "\n",
    "# # Set y-axes titles\n",
    "# fig.update_yaxes(title_text=\"<b>primary</b> yaxis title\", secondary_y=False)\n",
    "# fig.update_yaxes(title_text=\"<b>secondary</b> yaxis title\", secondary_y=True)\n",
    "# fig.update_layout(barmode=\"group\",\n",
    "#                   bargap=0.15, # gap between bars of adjacent location coordinates.\n",
    "#                     bargroupgap=0.1 # gap between bars of the same location coordinate.)\n",
    "# )\n",
    "# fig.show()"
   ]
  },
  {
   "attachments": {},
   "cell_type": "markdown",
   "metadata": {},
   "source": [
    "wandb.log({\"my_chart\": wandb.Html(plotly.io.to_html(fig)})"
   ]
  },
  {
   "attachments": {},
   "cell_type": "markdown",
   "metadata": {},
   "source": [
    "# ShuffleNet V2 tiny Analysis"
   ]
  },
  {
   "cell_type": "code",
   "execution_count": 85,
   "metadata": {},
   "outputs": [
    {
     "data": {
      "text/plain": [
       "['shufflenetv2tiny_0.05_96_c3_o2_f24l128',\n",
       " 'shufflenetv2tiny_0.1_96_c3_o2_f24l128',\n",
       " 'shufflenetv2tiny_0.25_96_c3_o2_f24l128',\n",
       " 'shufflenetv2tiny_0.25_96_c3_o2_f24l512',\n",
       " 'shufflenetv2tiny_0.05_96_c3_o2_f24l1024',\n",
       " 'shufflenetv2tiny_0.1_96_c3_o2_f24l1024',\n",
       " 'shufflenetv2tiny_0.2_96_c3_o2_f24l1024',\n",
       " 'shufflenetv2tiny_0.25_96_c3_o2_f24l1024',\n",
       " 'shufflenetv2tiny_0.35_96_c3_o2_f24l1024',\n",
       " 'shufflenetv2tiny_0.5_96_c3_o2_f24l1024']"
      ]
     },
     "execution_count": 85,
     "metadata": {},
     "output_type": "execute_result"
    }
   ],
   "source": [
    "shufflenetv2tiny_list = df[[\"architecture\"]].query(\"architecture.str.contains('shufflenetv2tiny')\").copy()\n",
    "shufflenetv2tiny_list = shufflenetv2tiny_list[\"architecture\"].tolist()\n",
    "shufflenetv2tiny_list"
   ]
  },
  {
   "cell_type": "code",
   "execution_count": 87,
   "metadata": {},
   "outputs": [
    {
     "name": "stdout",
     "output_type": "stream",
     "text": [
      "Number of models: 10\n"
     ]
    },
    {
     "data": {
      "text/html": [
       "<div>\n",
       "<style scoped>\n",
       "    .dataframe tbody tr th:only-of-type {\n",
       "        vertical-align: middle;\n",
       "    }\n",
       "\n",
       "    .dataframe tbody tr th {\n",
       "        vertical-align: top;\n",
       "    }\n",
       "\n",
       "    .dataframe thead th {\n",
       "        text-align: right;\n",
       "    }\n",
       "</style>\n",
       "<table border=\"1\" class=\"dataframe\">\n",
       "  <thead>\n",
       "    <tr style=\"text-align: right;\">\n",
       "      <th></th>\n",
       "      <th>id</th>\n",
       "      <th>run_name</th>\n",
       "      <th>state</th>\n",
       "      <th>MACs</th>\n",
       "      <th>url</th>\n",
       "      <th>architecture</th>\n",
       "      <th>FLOPs</th>\n",
       "      <th>alpha</th>\n",
       "      <th>classes</th>\n",
       "      <th>img_res</th>\n",
       "      <th>OPS_mltk</th>\n",
       "      <th>channels</th>\n",
       "      <th>macs_mltk</th>\n",
       "      <th>variation</th>\n",
       "      <th>energy_mltk</th>\n",
       "      <th>total_params</th>\n",
       "      <th>OPS_INT8_mltk</th>\n",
       "      <th>model_size_kb</th>\n",
       "      <th>peak_memory_b</th>\n",
       "      <th>macs_INT8_mltk</th>\n",
       "      <th>energy_INT8_mltk</th>\n",
       "      <th>trainable_params</th>\n",
       "      <th>non_trainable_params</th>\n",
       "      <th>tflite_model_size_kb</th>\n",
       "      <th>flash_model_size_b_mltk</th>\n",
       "      <th>n_unsupported_layers_mltk</th>\n",
       "      <th>tflite_model_INT8_size_kb</th>\n",
       "      <th>flash_model_size_b__INT8_mltk</th>\n",
       "      <th>RAM_runtime_memory_size_b_mltk</th>\n",
       "      <th>n_unsupported_layers_INT8_mltk</th>\n",
       "      <th>RAM_runtime_memory_size_b_INT8_mltk</th>\n",
       "      <th>tags</th>\n",
       "      <th>created_at</th>\n",
       "      <th>path</th>\n",
       "      <th>notes</th>\n",
       "      <th>test_accuracy</th>\n",
       "      <th>peak_memory_kb</th>\n",
       "      <th>flash_model_size_kb_INT8_mltk</th>\n",
       "      <th>RAM_runtime_memory_size_kb_INT8_mltk</th>\n",
       "    </tr>\n",
       "  </thead>\n",
       "  <tbody>\n",
       "    <tr>\n",
       "      <th>37</th>\n",
       "      <td>zmlnt7qa</td>\n",
       "      <td>shufflenetv2tiny_0.05_96_c3_o2_f24l128</td>\n",
       "      <td>finished</td>\n",
       "      <td>1.900 M</td>\n",
       "      <td>https://wandb.ai/susbrock/model_DB/runs/zmlnt7qa</td>\n",
       "      <td>shufflenetv2tiny_0.05_96_c3_o2_f24l128</td>\n",
       "      <td>4.073 M</td>\n",
       "      <td>0.05</td>\n",
       "      <td>2</td>\n",
       "      <td>96</td>\n",
       "      <td>4160826</td>\n",
       "      <td>3</td>\n",
       "      <td>1899760</td>\n",
       "      <td>f24l128</td>\n",
       "      <td>0.003729</td>\n",
       "      <td>20802</td>\n",
       "      <td>4271426</td>\n",
       "      <td>786.578125</td>\n",
       "      <td>80664.0</td>\n",
       "      <td>1899760</td>\n",
       "      <td>0.003928</td>\n",
       "      <td>19254</td>\n",
       "      <td>1548</td>\n",
       "      <td>135.328125</td>\n",
       "      <td>138576</td>\n",
       "      <td>0</td>\n",
       "      <td>119.015625</td>\n",
       "      <td>121872</td>\n",
       "      <td>357736</td>\n",
       "      <td>0</td>\n",
       "      <td>117296</td>\n",
       "      <td>[]</td>\n",
       "      <td>2023-02-20T19:14:20</td>\n",
       "      <td>[susbrock, model_DB, zmlnt7qa]</td>\n",
       "      <td>None</td>\n",
       "      <td>0.771231</td>\n",
       "      <td>78.773438</td>\n",
       "      <td>119.015625</td>\n",
       "      <td>114.546875</td>\n",
       "    </tr>\n",
       "    <tr>\n",
       "      <th>41</th>\n",
       "      <td>x4xe6px9</td>\n",
       "      <td>shufflenetv2tiny_0.05_96_c3_o2_f24l1024</td>\n",
       "      <td>finished</td>\n",
       "      <td>2.289 M</td>\n",
       "      <td>https://wandb.ai/susbrock/model_DB/runs/x4xe6px9</td>\n",
       "      <td>shufflenetv2tiny_0.05_96_c3_o2_f24l1024</td>\n",
       "      <td>4.851 M</td>\n",
       "      <td>0.05</td>\n",
       "      <td>2</td>\n",
       "      <td>96</td>\n",
       "      <td>4946618</td>\n",
       "      <td>3</td>\n",
       "      <td>2288624</td>\n",
       "      <td>f24l1024</td>\n",
       "      <td>0.003780</td>\n",
       "      <td>65602</td>\n",
       "      <td>5057218</td>\n",
       "      <td>962.578125</td>\n",
       "      <td>80664.0</td>\n",
       "      <td>2288624</td>\n",
       "      <td>0.003979</td>\n",
       "      <td>64054</td>\n",
       "      <td>1548</td>\n",
       "      <td>313.828125</td>\n",
       "      <td>321360</td>\n",
       "      <td>0</td>\n",
       "      <td>187.265625</td>\n",
       "      <td>191760</td>\n",
       "      <td>364904</td>\n",
       "      <td>0</td>\n",
       "      <td>124464</td>\n",
       "      <td>[]</td>\n",
       "      <td>2023-02-19T14:15:09</td>\n",
       "      <td>[susbrock, model_DB, x4xe6px9]</td>\n",
       "      <td>None</td>\n",
       "      <td>0.000000</td>\n",
       "      <td>78.773438</td>\n",
       "      <td>187.265625</td>\n",
       "      <td>121.546875</td>\n",
       "    </tr>\n",
       "    <tr>\n",
       "      <th>38</th>\n",
       "      <td>287svej7</td>\n",
       "      <td>shufflenetv2tiny_0.1_96_c3_o2_f24l128</td>\n",
       "      <td>finished</td>\n",
       "      <td>2.741 M</td>\n",
       "      <td>https://wandb.ai/susbrock/model_DB/runs/287svej7</td>\n",
       "      <td>shufflenetv2tiny_0.1_96_c3_o2_f24l128</td>\n",
       "      <td>5.799 M</td>\n",
       "      <td>0.1</td>\n",
       "      <td>2</td>\n",
       "      <td>96</td>\n",
       "      <td>5916690</td>\n",
       "      <td>3</td>\n",
       "      <td>2741080</td>\n",
       "      <td>f24l128</td>\n",
       "      <td>0.003817</td>\n",
       "      <td>56058</td>\n",
       "      <td>6027290</td>\n",
       "      <td>927.585938</td>\n",
       "      <td>80664.0</td>\n",
       "      <td>2741080</td>\n",
       "      <td>0.004017</td>\n",
       "      <td>53058</td>\n",
       "      <td>3000</td>\n",
       "      <td>261.941406</td>\n",
       "      <td>268228</td>\n",
       "      <td>0</td>\n",
       "      <td>167.859375</td>\n",
       "      <td>171888</td>\n",
       "      <td>363356</td>\n",
       "      <td>0</td>\n",
       "      <td>122944</td>\n",
       "      <td>[]</td>\n",
       "      <td>2023-02-20T19:05:05</td>\n",
       "      <td>[susbrock, model_DB, 287svej7]</td>\n",
       "      <td>None</td>\n",
       "      <td>0.833531</td>\n",
       "      <td>78.773438</td>\n",
       "      <td>167.859375</td>\n",
       "      <td>120.062500</td>\n",
       "    </tr>\n",
       "    <tr>\n",
       "      <th>42</th>\n",
       "      <td>d1jdmubc</td>\n",
       "      <td>shufflenetv2tiny_0.1_96_c3_o2_f24l1024</td>\n",
       "      <td>finished</td>\n",
       "      <td>3.517 M</td>\n",
       "      <td>https://wandb.ai/susbrock/model_DB/runs/d1jdmubc</td>\n",
       "      <td>shufflenetv2tiny_0.1_96_c3_o2_f24l1024</td>\n",
       "      <td>7.351 M</td>\n",
       "      <td>0.1</td>\n",
       "      <td>2</td>\n",
       "      <td>96</td>\n",
       "      <td>7476626</td>\n",
       "      <td>3</td>\n",
       "      <td>3517016</td>\n",
       "      <td>f24l1024</td>\n",
       "      <td>0.003940</td>\n",
       "      <td>143866</td>\n",
       "      <td>7587226</td>\n",
       "      <td>1271.585938</td>\n",
       "      <td>80664.0</td>\n",
       "      <td>3517016</td>\n",
       "      <td>0.004139</td>\n",
       "      <td>140866</td>\n",
       "      <td>3000</td>\n",
       "      <td>608.441406</td>\n",
       "      <td>623044</td>\n",
       "      <td>0</td>\n",
       "      <td>278.109375</td>\n",
       "      <td>284784</td>\n",
       "      <td>370524</td>\n",
       "      <td>0</td>\n",
       "      <td>130112</td>\n",
       "      <td>[]</td>\n",
       "      <td>2023-02-19T14:12:31</td>\n",
       "      <td>[susbrock, model_DB, d1jdmubc]</td>\n",
       "      <td>None</td>\n",
       "      <td>0.828697</td>\n",
       "      <td>78.773438</td>\n",
       "      <td>278.109375</td>\n",
       "      <td>127.062500</td>\n",
       "    </tr>\n",
       "    <tr>\n",
       "      <th>43</th>\n",
       "      <td>e0bbs9ge</td>\n",
       "      <td>shufflenetv2tiny_0.2_96_c3_o2_f24l1024</td>\n",
       "      <td>finished</td>\n",
       "      <td>7.187 M</td>\n",
       "      <td>https://wandb.ai/susbrock/model_DB/runs/e0bbs9ge</td>\n",
       "      <td>shufflenetv2tiny_0.2_96_c3_o2_f24l1024</td>\n",
       "      <td>14.777 M</td>\n",
       "      <td>0.2</td>\n",
       "      <td>2</td>\n",
       "      <td>96</td>\n",
       "      <td>14962754</td>\n",
       "      <td>3</td>\n",
       "      <td>7186856</td>\n",
       "      <td>f24l1024</td>\n",
       "      <td>0.005244</td>\n",
       "      <td>347698</td>\n",
       "      <td>15073354</td>\n",
       "      <td>2066.468750</td>\n",
       "      <td>80664.0</td>\n",
       "      <td>7186856</td>\n",
       "      <td>0.005443</td>\n",
       "      <td>341794</td>\n",
       "      <td>5904</td>\n",
       "      <td>1382.375000</td>\n",
       "      <td>1415552</td>\n",
       "      <td>0</td>\n",
       "      <td>505.921875</td>\n",
       "      <td>518064</td>\n",
       "      <td>382160</td>\n",
       "      <td>0</td>\n",
       "      <td>141748</td>\n",
       "      <td>[]</td>\n",
       "      <td>2023-02-19T14:09:48</td>\n",
       "      <td>[susbrock, model_DB, e0bbs9ge]</td>\n",
       "      <td>None</td>\n",
       "      <td>0.000000</td>\n",
       "      <td>78.773438</td>\n",
       "      <td>505.921875</td>\n",
       "      <td>138.425781</td>\n",
       "    </tr>\n",
       "    <tr>\n",
       "      <th>39</th>\n",
       "      <td>l9yu765d</td>\n",
       "      <td>shufflenetv2tiny_0.25_96_c3_o2_f24l128</td>\n",
       "      <td>finished</td>\n",
       "      <td>6.961 M</td>\n",
       "      <td>https://wandb.ai/susbrock/model_DB/runs/l9yu765d</td>\n",
       "      <td>shufflenetv2tiny_0.25_96_c3_o2_f24l128</td>\n",
       "      <td>14.355 M</td>\n",
       "      <td>0.25</td>\n",
       "      <td>2</td>\n",
       "      <td>96</td>\n",
       "      <td>14552658</td>\n",
       "      <td>3</td>\n",
       "      <td>6961432</td>\n",
       "      <td>f24l128</td>\n",
       "      <td>0.004929</td>\n",
       "      <td>227162</td>\n",
       "      <td>14663258</td>\n",
       "      <td>1593.992188</td>\n",
       "      <td>80664.0</td>\n",
       "      <td>6961432</td>\n",
       "      <td>0.005128</td>\n",
       "      <td>220290</td>\n",
       "      <td>6872</td>\n",
       "      <td>900.687500</td>\n",
       "      <td>922304</td>\n",
       "      <td>0</td>\n",
       "      <td>373.265625</td>\n",
       "      <td>382224</td>\n",
       "      <td>378820</td>\n",
       "      <td>0</td>\n",
       "      <td>138420</td>\n",
       "      <td>[]</td>\n",
       "      <td>2023-02-20T19:01:34</td>\n",
       "      <td>[susbrock, model_DB, l9yu765d]</td>\n",
       "      <td>None</td>\n",
       "      <td>0.851865</td>\n",
       "      <td>78.773438</td>\n",
       "      <td>373.265625</td>\n",
       "      <td>135.175781</td>\n",
       "    </tr>\n",
       "    <tr>\n",
       "      <th>40</th>\n",
       "      <td>r7tncy00</td>\n",
       "      <td>shufflenetv2tiny_0.25_96_c3_o2_f24l512</td>\n",
       "      <td>finished</td>\n",
       "      <td>7.736 M</td>\n",
       "      <td>https://wandb.ai/susbrock/model_DB/runs/r7tncy00</td>\n",
       "      <td>shufflenetv2tiny_0.25_96_c3_o2_f24l512</td>\n",
       "      <td>15.905 M</td>\n",
       "      <td>0.25</td>\n",
       "      <td>2</td>\n",
       "      <td>96</td>\n",
       "      <td>16105938</td>\n",
       "      <td>3</td>\n",
       "      <td>7736344</td>\n",
       "      <td>f24l512</td>\n",
       "      <td>0.005283</td>\n",
       "      <td>313946</td>\n",
       "      <td>16216538</td>\n",
       "      <td>1933.992188</td>\n",
       "      <td>80664.0</td>\n",
       "      <td>7736344</td>\n",
       "      <td>0.005482</td>\n",
       "      <td>307074</td>\n",
       "      <td>6872</td>\n",
       "      <td>1241.187500</td>\n",
       "      <td>1270976</td>\n",
       "      <td>0</td>\n",
       "      <td>468.515625</td>\n",
       "      <td>479760</td>\n",
       "      <td>381892</td>\n",
       "      <td>0</td>\n",
       "      <td>141492</td>\n",
       "      <td>[]</td>\n",
       "      <td>2023-02-19T14:17:41</td>\n",
       "      <td>[susbrock, model_DB, r7tncy00]</td>\n",
       "      <td>None</td>\n",
       "      <td>0.851136</td>\n",
       "      <td>78.773438</td>\n",
       "      <td>468.515625</td>\n",
       "      <td>138.175781</td>\n",
       "    </tr>\n",
       "    <tr>\n",
       "      <th>44</th>\n",
       "      <td>1hl3dr3g</td>\n",
       "      <td>shufflenetv2tiny_0.25_96_c3_o2_f24l1024</td>\n",
       "      <td>finished</td>\n",
       "      <td>8.770 M</td>\n",
       "      <td>https://wandb.ai/susbrock/model_DB/runs/1hl3dr3g</td>\n",
       "      <td>shufflenetv2tiny_0.25_96_c3_o2_f24l1024</td>\n",
       "      <td>17.971 M</td>\n",
       "      <td>0.25</td>\n",
       "      <td>2</td>\n",
       "      <td>96</td>\n",
       "      <td>18176978</td>\n",
       "      <td>3</td>\n",
       "      <td>8769560</td>\n",
       "      <td>f24l1024</td>\n",
       "      <td>0.005623</td>\n",
       "      <td>429658</td>\n",
       "      <td>18287578</td>\n",
       "      <td>2385.992188</td>\n",
       "      <td>80664.0</td>\n",
       "      <td>8769560</td>\n",
       "      <td>0.005822</td>\n",
       "      <td>422786</td>\n",
       "      <td>6872</td>\n",
       "      <td>1695.187500</td>\n",
       "      <td>1735872</td>\n",
       "      <td>0</td>\n",
       "      <td>595.515625</td>\n",
       "      <td>609808</td>\n",
       "      <td>385988</td>\n",
       "      <td>0</td>\n",
       "      <td>145588</td>\n",
       "      <td>[]</td>\n",
       "      <td>2023-02-19T14:07:23</td>\n",
       "      <td>[susbrock, model_DB, 1hl3dr3g]</td>\n",
       "      <td>None</td>\n",
       "      <td>0.812825</td>\n",
       "      <td>78.773438</td>\n",
       "      <td>595.515625</td>\n",
       "      <td>142.175781</td>\n",
       "    </tr>\n",
       "    <tr>\n",
       "      <th>45</th>\n",
       "      <td>0qwur26s</td>\n",
       "      <td>shufflenetv2tiny_0.35_96_c3_o2_f24l1024</td>\n",
       "      <td>finished</td>\n",
       "      <td>12.474 M</td>\n",
       "      <td>https://wandb.ai/susbrock/model_DB/runs/0qwur26s</td>\n",
       "      <td>shufflenetv2tiny_0.35_96_c3_o2_f24l1024</td>\n",
       "      <td>25.438 M</td>\n",
       "      <td>0.35</td>\n",
       "      <td>2</td>\n",
       "      <td>96</td>\n",
       "      <td>25683698</td>\n",
       "      <td>3</td>\n",
       "      <td>12474104</td>\n",
       "      <td>f24l1024</td>\n",
       "      <td>0.007399</td>\n",
       "      <td>614602</td>\n",
       "      <td>25794298</td>\n",
       "      <td>3112.046875</td>\n",
       "      <td>80664.0</td>\n",
       "      <td>12474104</td>\n",
       "      <td>0.007598</td>\n",
       "      <td>605794</td>\n",
       "      <td>8808</td>\n",
       "      <td>2402.718750</td>\n",
       "      <td>2460384</td>\n",
       "      <td>0</td>\n",
       "      <td>795.250000</td>\n",
       "      <td>814336</td>\n",
       "      <td>393796</td>\n",
       "      <td>0</td>\n",
       "      <td>153396</td>\n",
       "      <td>[]</td>\n",
       "      <td>2023-02-19T14:04:58</td>\n",
       "      <td>[susbrock, model_DB, 0qwur26s]</td>\n",
       "      <td>None</td>\n",
       "      <td>0.000000</td>\n",
       "      <td>78.773438</td>\n",
       "      <td>795.250000</td>\n",
       "      <td>149.800781</td>\n",
       "    </tr>\n",
       "    <tr>\n",
       "      <th>46</th>\n",
       "      <td>fbfsftzr</td>\n",
       "      <td>shufflenetv2tiny_0.5_96_c3_o2_f24l1024</td>\n",
       "      <td>finished</td>\n",
       "      <td>19.379 M</td>\n",
       "      <td>https://wandb.ai/susbrock/model_DB/runs/fbfsftzr</td>\n",
       "      <td>shufflenetv2tiny_0.5_96_c3_o2_f24l1024</td>\n",
       "      <td>39.334 M</td>\n",
       "      <td>0.5</td>\n",
       "      <td>2</td>\n",
       "      <td>96</td>\n",
       "      <td>39639458</td>\n",
       "      <td>3</td>\n",
       "      <td>19378760</td>\n",
       "      <td>f24l1024</td>\n",
       "      <td>0.010395</td>\n",
       "      <td>944578</td>\n",
       "      <td>39750058</td>\n",
       "      <td>4402.812500</td>\n",
       "      <td>80664.0</td>\n",
       "      <td>19378760</td>\n",
       "      <td>0.010594</td>\n",
       "      <td>932866</td>\n",
       "      <td>11712</td>\n",
       "      <td>3669.328125</td>\n",
       "      <td>3757392</td>\n",
       "      <td>0</td>\n",
       "      <td>1146.179688</td>\n",
       "      <td>1173688</td>\n",
       "      <td>405444</td>\n",
       "      <td>0</td>\n",
       "      <td>164916</td>\n",
       "      <td>[]</td>\n",
       "      <td>2023-02-19T14:02:04</td>\n",
       "      <td>[susbrock, model_DB, fbfsftzr]</td>\n",
       "      <td>None</td>\n",
       "      <td>0.000000</td>\n",
       "      <td>78.773438</td>\n",
       "      <td>1146.179688</td>\n",
       "      <td>161.050781</td>\n",
       "    </tr>\n",
       "  </tbody>\n",
       "</table>\n",
       "</div>"
      ],
      "text/plain": [
       "          id                                 run_name     state      MACs  \\\n",
       "37  zmlnt7qa   shufflenetv2tiny_0.05_96_c3_o2_f24l128  finished   1.900 M   \n",
       "41  x4xe6px9  shufflenetv2tiny_0.05_96_c3_o2_f24l1024  finished   2.289 M   \n",
       "38  287svej7    shufflenetv2tiny_0.1_96_c3_o2_f24l128  finished   2.741 M   \n",
       "42  d1jdmubc   shufflenetv2tiny_0.1_96_c3_o2_f24l1024  finished   3.517 M   \n",
       "43  e0bbs9ge   shufflenetv2tiny_0.2_96_c3_o2_f24l1024  finished   7.187 M   \n",
       "39  l9yu765d   shufflenetv2tiny_0.25_96_c3_o2_f24l128  finished   6.961 M   \n",
       "40  r7tncy00   shufflenetv2tiny_0.25_96_c3_o2_f24l512  finished   7.736 M   \n",
       "44  1hl3dr3g  shufflenetv2tiny_0.25_96_c3_o2_f24l1024  finished   8.770 M   \n",
       "45  0qwur26s  shufflenetv2tiny_0.35_96_c3_o2_f24l1024  finished  12.474 M   \n",
       "46  fbfsftzr   shufflenetv2tiny_0.5_96_c3_o2_f24l1024  finished  19.379 M   \n",
       "\n",
       "                                                 url  \\\n",
       "37  https://wandb.ai/susbrock/model_DB/runs/zmlnt7qa   \n",
       "41  https://wandb.ai/susbrock/model_DB/runs/x4xe6px9   \n",
       "38  https://wandb.ai/susbrock/model_DB/runs/287svej7   \n",
       "42  https://wandb.ai/susbrock/model_DB/runs/d1jdmubc   \n",
       "43  https://wandb.ai/susbrock/model_DB/runs/e0bbs9ge   \n",
       "39  https://wandb.ai/susbrock/model_DB/runs/l9yu765d   \n",
       "40  https://wandb.ai/susbrock/model_DB/runs/r7tncy00   \n",
       "44  https://wandb.ai/susbrock/model_DB/runs/1hl3dr3g   \n",
       "45  https://wandb.ai/susbrock/model_DB/runs/0qwur26s   \n",
       "46  https://wandb.ai/susbrock/model_DB/runs/fbfsftzr   \n",
       "\n",
       "                               architecture     FLOPs alpha  classes  img_res  \\\n",
       "37   shufflenetv2tiny_0.05_96_c3_o2_f24l128   4.073 M  0.05        2       96   \n",
       "41  shufflenetv2tiny_0.05_96_c3_o2_f24l1024   4.851 M  0.05        2       96   \n",
       "38    shufflenetv2tiny_0.1_96_c3_o2_f24l128   5.799 M   0.1        2       96   \n",
       "42   shufflenetv2tiny_0.1_96_c3_o2_f24l1024   7.351 M   0.1        2       96   \n",
       "43   shufflenetv2tiny_0.2_96_c3_o2_f24l1024  14.777 M   0.2        2       96   \n",
       "39   shufflenetv2tiny_0.25_96_c3_o2_f24l128  14.355 M  0.25        2       96   \n",
       "40   shufflenetv2tiny_0.25_96_c3_o2_f24l512  15.905 M  0.25        2       96   \n",
       "44  shufflenetv2tiny_0.25_96_c3_o2_f24l1024  17.971 M  0.25        2       96   \n",
       "45  shufflenetv2tiny_0.35_96_c3_o2_f24l1024  25.438 M  0.35        2       96   \n",
       "46   shufflenetv2tiny_0.5_96_c3_o2_f24l1024  39.334 M   0.5        2       96   \n",
       "\n",
       "    OPS_mltk  channels  macs_mltk variation  energy_mltk  total_params  \\\n",
       "37   4160826         3    1899760   f24l128     0.003729         20802   \n",
       "41   4946618         3    2288624  f24l1024     0.003780         65602   \n",
       "38   5916690         3    2741080   f24l128     0.003817         56058   \n",
       "42   7476626         3    3517016  f24l1024     0.003940        143866   \n",
       "43  14962754         3    7186856  f24l1024     0.005244        347698   \n",
       "39  14552658         3    6961432   f24l128     0.004929        227162   \n",
       "40  16105938         3    7736344   f24l512     0.005283        313946   \n",
       "44  18176978         3    8769560  f24l1024     0.005623        429658   \n",
       "45  25683698         3   12474104  f24l1024     0.007399        614602   \n",
       "46  39639458         3   19378760  f24l1024     0.010395        944578   \n",
       "\n",
       "    OPS_INT8_mltk  model_size_kb  peak_memory_b  macs_INT8_mltk  \\\n",
       "37        4271426     786.578125        80664.0         1899760   \n",
       "41        5057218     962.578125        80664.0         2288624   \n",
       "38        6027290     927.585938        80664.0         2741080   \n",
       "42        7587226    1271.585938        80664.0         3517016   \n",
       "43       15073354    2066.468750        80664.0         7186856   \n",
       "39       14663258    1593.992188        80664.0         6961432   \n",
       "40       16216538    1933.992188        80664.0         7736344   \n",
       "44       18287578    2385.992188        80664.0         8769560   \n",
       "45       25794298    3112.046875        80664.0        12474104   \n",
       "46       39750058    4402.812500        80664.0        19378760   \n",
       "\n",
       "    energy_INT8_mltk  trainable_params  non_trainable_params  \\\n",
       "37          0.003928             19254                  1548   \n",
       "41          0.003979             64054                  1548   \n",
       "38          0.004017             53058                  3000   \n",
       "42          0.004139            140866                  3000   \n",
       "43          0.005443            341794                  5904   \n",
       "39          0.005128            220290                  6872   \n",
       "40          0.005482            307074                  6872   \n",
       "44          0.005822            422786                  6872   \n",
       "45          0.007598            605794                  8808   \n",
       "46          0.010594            932866                 11712   \n",
       "\n",
       "    tflite_model_size_kb  flash_model_size_b_mltk  n_unsupported_layers_mltk  \\\n",
       "37            135.328125                   138576                          0   \n",
       "41            313.828125                   321360                          0   \n",
       "38            261.941406                   268228                          0   \n",
       "42            608.441406                   623044                          0   \n",
       "43           1382.375000                  1415552                          0   \n",
       "39            900.687500                   922304                          0   \n",
       "40           1241.187500                  1270976                          0   \n",
       "44           1695.187500                  1735872                          0   \n",
       "45           2402.718750                  2460384                          0   \n",
       "46           3669.328125                  3757392                          0   \n",
       "\n",
       "    tflite_model_INT8_size_kb  flash_model_size_b__INT8_mltk  \\\n",
       "37                 119.015625                         121872   \n",
       "41                 187.265625                         191760   \n",
       "38                 167.859375                         171888   \n",
       "42                 278.109375                         284784   \n",
       "43                 505.921875                         518064   \n",
       "39                 373.265625                         382224   \n",
       "40                 468.515625                         479760   \n",
       "44                 595.515625                         609808   \n",
       "45                 795.250000                         814336   \n",
       "46                1146.179688                        1173688   \n",
       "\n",
       "    RAM_runtime_memory_size_b_mltk  n_unsupported_layers_INT8_mltk  \\\n",
       "37                          357736                               0   \n",
       "41                          364904                               0   \n",
       "38                          363356                               0   \n",
       "42                          370524                               0   \n",
       "43                          382160                               0   \n",
       "39                          378820                               0   \n",
       "40                          381892                               0   \n",
       "44                          385988                               0   \n",
       "45                          393796                               0   \n",
       "46                          405444                               0   \n",
       "\n",
       "    RAM_runtime_memory_size_b_INT8_mltk tags           created_at  \\\n",
       "37                               117296   []  2023-02-20T19:14:20   \n",
       "41                               124464   []  2023-02-19T14:15:09   \n",
       "38                               122944   []  2023-02-20T19:05:05   \n",
       "42                               130112   []  2023-02-19T14:12:31   \n",
       "43                               141748   []  2023-02-19T14:09:48   \n",
       "39                               138420   []  2023-02-20T19:01:34   \n",
       "40                               141492   []  2023-02-19T14:17:41   \n",
       "44                               145588   []  2023-02-19T14:07:23   \n",
       "45                               153396   []  2023-02-19T14:04:58   \n",
       "46                               164916   []  2023-02-19T14:02:04   \n",
       "\n",
       "                              path notes  test_accuracy  peak_memory_kb  \\\n",
       "37  [susbrock, model_DB, zmlnt7qa]  None       0.771231       78.773438   \n",
       "41  [susbrock, model_DB, x4xe6px9]  None       0.000000       78.773438   \n",
       "38  [susbrock, model_DB, 287svej7]  None       0.833531       78.773438   \n",
       "42  [susbrock, model_DB, d1jdmubc]  None       0.828697       78.773438   \n",
       "43  [susbrock, model_DB, e0bbs9ge]  None       0.000000       78.773438   \n",
       "39  [susbrock, model_DB, l9yu765d]  None       0.851865       78.773438   \n",
       "40  [susbrock, model_DB, r7tncy00]  None       0.851136       78.773438   \n",
       "44  [susbrock, model_DB, 1hl3dr3g]  None       0.812825       78.773438   \n",
       "45  [susbrock, model_DB, 0qwur26s]  None       0.000000       78.773438   \n",
       "46  [susbrock, model_DB, fbfsftzr]  None       0.000000       78.773438   \n",
       "\n",
       "    flash_model_size_kb_INT8_mltk  RAM_runtime_memory_size_kb_INT8_mltk  \n",
       "37                     119.015625                            114.546875  \n",
       "41                     187.265625                            121.546875  \n",
       "38                     167.859375                            120.062500  \n",
       "42                     278.109375                            127.062500  \n",
       "43                     505.921875                            138.425781  \n",
       "39                     373.265625                            135.175781  \n",
       "40                     468.515625                            138.175781  \n",
       "44                     595.515625                            142.175781  \n",
       "45                     795.250000                            149.800781  \n",
       "46                    1146.179688                            161.050781  "
      ]
     },
     "execution_count": 87,
     "metadata": {},
     "output_type": "execute_result"
    }
   ],
   "source": [
    "shufflev2tiny_df = get_model_family_df(\"shufflenetv2tiny\")\n",
    "shufflev2tiny_df"
   ]
  },
  {
   "cell_type": "code",
   "execution_count": 88,
   "metadata": {},
   "outputs": [
    {
     "data": {
      "application/vnd.plotly.v1+json": {
       "config": {
        "plotlyServerURL": "https://plot.ly"
       },
       "data": [
        {
         "alignmentgroup": "True",
         "hovertemplate": "size=RAM_runtime_memory_size_kb_INT8_mltk<br>model architecture=%{x}<br>value=%{y}<extra></extra>",
         "legendgroup": "RAM_runtime_memory_size_kb_INT8_mltk",
         "marker": {
          "color": "#636efa",
          "pattern": {
           "shape": ""
          }
         },
         "name": "RAM_runtime_memory_size_kb_INT8_mltk",
         "offsetgroup": "RAM_runtime_memory_size_kb_INT8_mltk",
         "orientation": "v",
         "showlegend": true,
         "textposition": "auto",
         "type": "bar",
         "x": [
          "shufflenetv2tiny_0.05_96_c3_o2_f24l1024",
          "shufflenetv2tiny_0.05_96_c3_o2_f24l128",
          "shufflenetv2tiny_0.1_96_c3_o2_f24l1024",
          "shufflenetv2tiny_0.1_96_c3_o2_f24l128",
          "shufflenetv2tiny_0.25_96_c3_o2_f24l1024",
          "shufflenetv2tiny_0.25_96_c3_o2_f24l128",
          "shufflenetv2tiny_0.25_96_c3_o2_f24l512",
          "shufflenetv2tiny_0.2_96_c3_o2_f24l1024",
          "shufflenetv2tiny_0.35_96_c3_o2_f24l1024",
          "shufflenetv2tiny_0.5_96_c3_o2_f24l1024"
         ],
         "xaxis": "x",
         "y": [
          121.546875,
          114.546875,
          127.0625,
          120.0625,
          142.17578125,
          135.17578125,
          138.17578125,
          138.42578125,
          149.80078125,
          161.05078125
         ],
         "yaxis": "y"
        },
        {
         "alignmentgroup": "True",
         "hovertemplate": "size=flash_model_size_kb_INT8_mltk<br>model architecture=%{x}<br>value=%{y}<extra></extra>",
         "legendgroup": "flash_model_size_kb_INT8_mltk",
         "marker": {
          "color": "#EF553B",
          "pattern": {
           "shape": ""
          }
         },
         "name": "flash_model_size_kb_INT8_mltk",
         "offsetgroup": "flash_model_size_kb_INT8_mltk",
         "orientation": "v",
         "showlegend": true,
         "textposition": "auto",
         "type": "bar",
         "x": [
          "shufflenetv2tiny_0.05_96_c3_o2_f24l1024",
          "shufflenetv2tiny_0.05_96_c3_o2_f24l128",
          "shufflenetv2tiny_0.1_96_c3_o2_f24l1024",
          "shufflenetv2tiny_0.1_96_c3_o2_f24l128",
          "shufflenetv2tiny_0.25_96_c3_o2_f24l1024",
          "shufflenetv2tiny_0.25_96_c3_o2_f24l128",
          "shufflenetv2tiny_0.25_96_c3_o2_f24l512",
          "shufflenetv2tiny_0.2_96_c3_o2_f24l1024",
          "shufflenetv2tiny_0.35_96_c3_o2_f24l1024",
          "shufflenetv2tiny_0.5_96_c3_o2_f24l1024"
         ],
         "xaxis": "x",
         "y": [
          187.265625,
          119.015625,
          278.109375,
          167.859375,
          595.515625,
          373.265625,
          468.515625,
          505.921875,
          795.25,
          1146.1796875
         ],
         "yaxis": "y"
        },
        {
         "alignmentgroup": "True",
         "hovertemplate": "size=peak_memory_kb<br>model architecture=%{x}<br>value=%{y}<extra></extra>",
         "legendgroup": "peak_memory_kb",
         "marker": {
          "color": "#00cc96",
          "pattern": {
           "shape": ""
          }
         },
         "name": "peak_memory_kb",
         "offsetgroup": "peak_memory_kb",
         "orientation": "v",
         "showlegend": true,
         "textposition": "auto",
         "type": "bar",
         "x": [
          "shufflenetv2tiny_0.05_96_c3_o2_f24l1024",
          "shufflenetv2tiny_0.05_96_c3_o2_f24l128",
          "shufflenetv2tiny_0.1_96_c3_o2_f24l1024",
          "shufflenetv2tiny_0.1_96_c3_o2_f24l128",
          "shufflenetv2tiny_0.25_96_c3_o2_f24l1024",
          "shufflenetv2tiny_0.25_96_c3_o2_f24l128",
          "shufflenetv2tiny_0.25_96_c3_o2_f24l512",
          "shufflenetv2tiny_0.2_96_c3_o2_f24l1024",
          "shufflenetv2tiny_0.35_96_c3_o2_f24l1024",
          "shufflenetv2tiny_0.5_96_c3_o2_f24l1024"
         ],
         "xaxis": "x",
         "y": [
          78.7734375,
          78.7734375,
          78.7734375,
          78.7734375,
          78.7734375,
          78.7734375,
          78.7734375,
          78.7734375,
          78.7734375,
          78.7734375
         ],
         "yaxis": "y"
        },
        {
         "alignmentgroup": "True",
         "hovertemplate": "size=tflite_model_INT8_size_kb<br>model architecture=%{x}<br>value=%{y}<extra></extra>",
         "legendgroup": "tflite_model_INT8_size_kb",
         "marker": {
          "color": "#ab63fa",
          "pattern": {
           "shape": ""
          }
         },
         "name": "tflite_model_INT8_size_kb",
         "offsetgroup": "tflite_model_INT8_size_kb",
         "orientation": "v",
         "showlegend": true,
         "textposition": "auto",
         "type": "bar",
         "x": [
          "shufflenetv2tiny_0.05_96_c3_o2_f24l1024",
          "shufflenetv2tiny_0.05_96_c3_o2_f24l128",
          "shufflenetv2tiny_0.1_96_c3_o2_f24l1024",
          "shufflenetv2tiny_0.1_96_c3_o2_f24l128",
          "shufflenetv2tiny_0.25_96_c3_o2_f24l1024",
          "shufflenetv2tiny_0.25_96_c3_o2_f24l128",
          "shufflenetv2tiny_0.25_96_c3_o2_f24l512",
          "shufflenetv2tiny_0.2_96_c3_o2_f24l1024",
          "shufflenetv2tiny_0.35_96_c3_o2_f24l1024",
          "shufflenetv2tiny_0.5_96_c3_o2_f24l1024"
         ],
         "xaxis": "x",
         "y": [
          187.265625,
          119.015625,
          278.109375,
          167.859375,
          595.515625,
          373.265625,
          468.515625,
          505.921875,
          795.25,
          1146.1796875
         ],
         "yaxis": "y"
        }
       ],
       "layout": {
        "annotations": [
         {
          "showarrow": false,
          "text": "87 KB peak activation",
          "x": 0,
          "xanchor": "left",
          "xref": "x domain",
          "y": 87,
          "yanchor": "bottom",
          "yref": "y"
         },
         {
          "showarrow": false,
          "text": "250 KB flash memory",
          "x": 1,
          "xanchor": "right",
          "xref": "x domain",
          "y": 250,
          "yanchor": "bottom",
          "yref": "y"
         }
        ],
        "barmode": "group",
        "height": 600,
        "legend": {
         "title": {
          "text": "size"
         },
         "tracegroupgap": 0
        },
        "shapes": [
         {
          "line": {
           "color": "orange",
           "dash": "dash",
           "width": 2
          },
          "type": "line",
          "x0": 0,
          "x1": 1,
          "xref": "x domain",
          "y0": 87,
          "y1": 87,
          "yref": "y"
         },
         {
          "line": {
           "color": "blue",
           "dash": "dash",
           "width": 2
          },
          "type": "line",
          "x0": 0,
          "x1": 1,
          "xref": "x domain",
          "y0": 250,
          "y1": 250,
          "yref": "y"
         }
        ],
        "template": {
         "data": {
          "bar": [
           {
            "error_x": {
             "color": "#2a3f5f"
            },
            "error_y": {
             "color": "#2a3f5f"
            },
            "marker": {
             "line": {
              "color": "#E5ECF6",
              "width": 0.5
             },
             "pattern": {
              "fillmode": "overlay",
              "size": 10,
              "solidity": 0.2
             }
            },
            "type": "bar"
           }
          ],
          "barpolar": [
           {
            "marker": {
             "line": {
              "color": "#E5ECF6",
              "width": 0.5
             },
             "pattern": {
              "fillmode": "overlay",
              "size": 10,
              "solidity": 0.2
             }
            },
            "type": "barpolar"
           }
          ],
          "carpet": [
           {
            "aaxis": {
             "endlinecolor": "#2a3f5f",
             "gridcolor": "white",
             "linecolor": "white",
             "minorgridcolor": "white",
             "startlinecolor": "#2a3f5f"
            },
            "baxis": {
             "endlinecolor": "#2a3f5f",
             "gridcolor": "white",
             "linecolor": "white",
             "minorgridcolor": "white",
             "startlinecolor": "#2a3f5f"
            },
            "type": "carpet"
           }
          ],
          "choropleth": [
           {
            "colorbar": {
             "outlinewidth": 0,
             "ticks": ""
            },
            "type": "choropleth"
           }
          ],
          "contour": [
           {
            "colorbar": {
             "outlinewidth": 0,
             "ticks": ""
            },
            "colorscale": [
             [
              0,
              "#0d0887"
             ],
             [
              0.1111111111111111,
              "#46039f"
             ],
             [
              0.2222222222222222,
              "#7201a8"
             ],
             [
              0.3333333333333333,
              "#9c179e"
             ],
             [
              0.4444444444444444,
              "#bd3786"
             ],
             [
              0.5555555555555556,
              "#d8576b"
             ],
             [
              0.6666666666666666,
              "#ed7953"
             ],
             [
              0.7777777777777778,
              "#fb9f3a"
             ],
             [
              0.8888888888888888,
              "#fdca26"
             ],
             [
              1,
              "#f0f921"
             ]
            ],
            "type": "contour"
           }
          ],
          "contourcarpet": [
           {
            "colorbar": {
             "outlinewidth": 0,
             "ticks": ""
            },
            "type": "contourcarpet"
           }
          ],
          "heatmap": [
           {
            "colorbar": {
             "outlinewidth": 0,
             "ticks": ""
            },
            "colorscale": [
             [
              0,
              "#0d0887"
             ],
             [
              0.1111111111111111,
              "#46039f"
             ],
             [
              0.2222222222222222,
              "#7201a8"
             ],
             [
              0.3333333333333333,
              "#9c179e"
             ],
             [
              0.4444444444444444,
              "#bd3786"
             ],
             [
              0.5555555555555556,
              "#d8576b"
             ],
             [
              0.6666666666666666,
              "#ed7953"
             ],
             [
              0.7777777777777778,
              "#fb9f3a"
             ],
             [
              0.8888888888888888,
              "#fdca26"
             ],
             [
              1,
              "#f0f921"
             ]
            ],
            "type": "heatmap"
           }
          ],
          "heatmapgl": [
           {
            "colorbar": {
             "outlinewidth": 0,
             "ticks": ""
            },
            "colorscale": [
             [
              0,
              "#0d0887"
             ],
             [
              0.1111111111111111,
              "#46039f"
             ],
             [
              0.2222222222222222,
              "#7201a8"
             ],
             [
              0.3333333333333333,
              "#9c179e"
             ],
             [
              0.4444444444444444,
              "#bd3786"
             ],
             [
              0.5555555555555556,
              "#d8576b"
             ],
             [
              0.6666666666666666,
              "#ed7953"
             ],
             [
              0.7777777777777778,
              "#fb9f3a"
             ],
             [
              0.8888888888888888,
              "#fdca26"
             ],
             [
              1,
              "#f0f921"
             ]
            ],
            "type": "heatmapgl"
           }
          ],
          "histogram": [
           {
            "marker": {
             "pattern": {
              "fillmode": "overlay",
              "size": 10,
              "solidity": 0.2
             }
            },
            "type": "histogram"
           }
          ],
          "histogram2d": [
           {
            "colorbar": {
             "outlinewidth": 0,
             "ticks": ""
            },
            "colorscale": [
             [
              0,
              "#0d0887"
             ],
             [
              0.1111111111111111,
              "#46039f"
             ],
             [
              0.2222222222222222,
              "#7201a8"
             ],
             [
              0.3333333333333333,
              "#9c179e"
             ],
             [
              0.4444444444444444,
              "#bd3786"
             ],
             [
              0.5555555555555556,
              "#d8576b"
             ],
             [
              0.6666666666666666,
              "#ed7953"
             ],
             [
              0.7777777777777778,
              "#fb9f3a"
             ],
             [
              0.8888888888888888,
              "#fdca26"
             ],
             [
              1,
              "#f0f921"
             ]
            ],
            "type": "histogram2d"
           }
          ],
          "histogram2dcontour": [
           {
            "colorbar": {
             "outlinewidth": 0,
             "ticks": ""
            },
            "colorscale": [
             [
              0,
              "#0d0887"
             ],
             [
              0.1111111111111111,
              "#46039f"
             ],
             [
              0.2222222222222222,
              "#7201a8"
             ],
             [
              0.3333333333333333,
              "#9c179e"
             ],
             [
              0.4444444444444444,
              "#bd3786"
             ],
             [
              0.5555555555555556,
              "#d8576b"
             ],
             [
              0.6666666666666666,
              "#ed7953"
             ],
             [
              0.7777777777777778,
              "#fb9f3a"
             ],
             [
              0.8888888888888888,
              "#fdca26"
             ],
             [
              1,
              "#f0f921"
             ]
            ],
            "type": "histogram2dcontour"
           }
          ],
          "mesh3d": [
           {
            "colorbar": {
             "outlinewidth": 0,
             "ticks": ""
            },
            "type": "mesh3d"
           }
          ],
          "parcoords": [
           {
            "line": {
             "colorbar": {
              "outlinewidth": 0,
              "ticks": ""
             }
            },
            "type": "parcoords"
           }
          ],
          "pie": [
           {
            "automargin": true,
            "type": "pie"
           }
          ],
          "scatter": [
           {
            "fillpattern": {
             "fillmode": "overlay",
             "size": 10,
             "solidity": 0.2
            },
            "type": "scatter"
           }
          ],
          "scatter3d": [
           {
            "line": {
             "colorbar": {
              "outlinewidth": 0,
              "ticks": ""
             }
            },
            "marker": {
             "colorbar": {
              "outlinewidth": 0,
              "ticks": ""
             }
            },
            "type": "scatter3d"
           }
          ],
          "scattercarpet": [
           {
            "marker": {
             "colorbar": {
              "outlinewidth": 0,
              "ticks": ""
             }
            },
            "type": "scattercarpet"
           }
          ],
          "scattergeo": [
           {
            "marker": {
             "colorbar": {
              "outlinewidth": 0,
              "ticks": ""
             }
            },
            "type": "scattergeo"
           }
          ],
          "scattergl": [
           {
            "marker": {
             "colorbar": {
              "outlinewidth": 0,
              "ticks": ""
             }
            },
            "type": "scattergl"
           }
          ],
          "scattermapbox": [
           {
            "marker": {
             "colorbar": {
              "outlinewidth": 0,
              "ticks": ""
             }
            },
            "type": "scattermapbox"
           }
          ],
          "scatterpolar": [
           {
            "marker": {
             "colorbar": {
              "outlinewidth": 0,
              "ticks": ""
             }
            },
            "type": "scatterpolar"
           }
          ],
          "scatterpolargl": [
           {
            "marker": {
             "colorbar": {
              "outlinewidth": 0,
              "ticks": ""
             }
            },
            "type": "scatterpolargl"
           }
          ],
          "scatterternary": [
           {
            "marker": {
             "colorbar": {
              "outlinewidth": 0,
              "ticks": ""
             }
            },
            "type": "scatterternary"
           }
          ],
          "surface": [
           {
            "colorbar": {
             "outlinewidth": 0,
             "ticks": ""
            },
            "colorscale": [
             [
              0,
              "#0d0887"
             ],
             [
              0.1111111111111111,
              "#46039f"
             ],
             [
              0.2222222222222222,
              "#7201a8"
             ],
             [
              0.3333333333333333,
              "#9c179e"
             ],
             [
              0.4444444444444444,
              "#bd3786"
             ],
             [
              0.5555555555555556,
              "#d8576b"
             ],
             [
              0.6666666666666666,
              "#ed7953"
             ],
             [
              0.7777777777777778,
              "#fb9f3a"
             ],
             [
              0.8888888888888888,
              "#fdca26"
             ],
             [
              1,
              "#f0f921"
             ]
            ],
            "type": "surface"
           }
          ],
          "table": [
           {
            "cells": {
             "fill": {
              "color": "#EBF0F8"
             },
             "line": {
              "color": "white"
             }
            },
            "header": {
             "fill": {
              "color": "#C8D4E3"
             },
             "line": {
              "color": "white"
             }
            },
            "type": "table"
           }
          ]
         },
         "layout": {
          "annotationdefaults": {
           "arrowcolor": "#2a3f5f",
           "arrowhead": 0,
           "arrowwidth": 1
          },
          "autotypenumbers": "strict",
          "coloraxis": {
           "colorbar": {
            "outlinewidth": 0,
            "ticks": ""
           }
          },
          "colorscale": {
           "diverging": [
            [
             0,
             "#8e0152"
            ],
            [
             0.1,
             "#c51b7d"
            ],
            [
             0.2,
             "#de77ae"
            ],
            [
             0.3,
             "#f1b6da"
            ],
            [
             0.4,
             "#fde0ef"
            ],
            [
             0.5,
             "#f7f7f7"
            ],
            [
             0.6,
             "#e6f5d0"
            ],
            [
             0.7,
             "#b8e186"
            ],
            [
             0.8,
             "#7fbc41"
            ],
            [
             0.9,
             "#4d9221"
            ],
            [
             1,
             "#276419"
            ]
           ],
           "sequential": [
            [
             0,
             "#0d0887"
            ],
            [
             0.1111111111111111,
             "#46039f"
            ],
            [
             0.2222222222222222,
             "#7201a8"
            ],
            [
             0.3333333333333333,
             "#9c179e"
            ],
            [
             0.4444444444444444,
             "#bd3786"
            ],
            [
             0.5555555555555556,
             "#d8576b"
            ],
            [
             0.6666666666666666,
             "#ed7953"
            ],
            [
             0.7777777777777778,
             "#fb9f3a"
            ],
            [
             0.8888888888888888,
             "#fdca26"
            ],
            [
             1,
             "#f0f921"
            ]
           ],
           "sequentialminus": [
            [
             0,
             "#0d0887"
            ],
            [
             0.1111111111111111,
             "#46039f"
            ],
            [
             0.2222222222222222,
             "#7201a8"
            ],
            [
             0.3333333333333333,
             "#9c179e"
            ],
            [
             0.4444444444444444,
             "#bd3786"
            ],
            [
             0.5555555555555556,
             "#d8576b"
            ],
            [
             0.6666666666666666,
             "#ed7953"
            ],
            [
             0.7777777777777778,
             "#fb9f3a"
            ],
            [
             0.8888888888888888,
             "#fdca26"
            ],
            [
             1,
             "#f0f921"
            ]
           ]
          },
          "colorway": [
           "#636efa",
           "#EF553B",
           "#00cc96",
           "#ab63fa",
           "#FFA15A",
           "#19d3f3",
           "#FF6692",
           "#B6E880",
           "#FF97FF",
           "#FECB52"
          ],
          "font": {
           "color": "#2a3f5f"
          },
          "geo": {
           "bgcolor": "white",
           "lakecolor": "white",
           "landcolor": "#E5ECF6",
           "showlakes": true,
           "showland": true,
           "subunitcolor": "white"
          },
          "hoverlabel": {
           "align": "left"
          },
          "hovermode": "closest",
          "mapbox": {
           "style": "light"
          },
          "paper_bgcolor": "white",
          "plot_bgcolor": "#E5ECF6",
          "polar": {
           "angularaxis": {
            "gridcolor": "white",
            "linecolor": "white",
            "ticks": ""
           },
           "bgcolor": "#E5ECF6",
           "radialaxis": {
            "gridcolor": "white",
            "linecolor": "white",
            "ticks": ""
           }
          },
          "scene": {
           "xaxis": {
            "backgroundcolor": "#E5ECF6",
            "gridcolor": "white",
            "gridwidth": 2,
            "linecolor": "white",
            "showbackground": true,
            "ticks": "",
            "zerolinecolor": "white"
           },
           "yaxis": {
            "backgroundcolor": "#E5ECF6",
            "gridcolor": "white",
            "gridwidth": 2,
            "linecolor": "white",
            "showbackground": true,
            "ticks": "",
            "zerolinecolor": "white"
           },
           "zaxis": {
            "backgroundcolor": "#E5ECF6",
            "gridcolor": "white",
            "gridwidth": 2,
            "linecolor": "white",
            "showbackground": true,
            "ticks": "",
            "zerolinecolor": "white"
           }
          },
          "shapedefaults": {
           "line": {
            "color": "#2a3f5f"
           }
          },
          "ternary": {
           "aaxis": {
            "gridcolor": "white",
            "linecolor": "white",
            "ticks": ""
           },
           "baxis": {
            "gridcolor": "white",
            "linecolor": "white",
            "ticks": ""
           },
           "bgcolor": "#E5ECF6",
           "caxis": {
            "gridcolor": "white",
            "linecolor": "white",
            "ticks": ""
           }
          },
          "title": {
           "x": 0.05
          },
          "xaxis": {
           "automargin": true,
           "gridcolor": "white",
           "linecolor": "white",
           "ticks": "",
           "title": {
            "standoff": 15
           },
           "zerolinecolor": "white",
           "zerolinewidth": 2
          },
          "yaxis": {
           "automargin": true,
           "gridcolor": "white",
           "linecolor": "white",
           "ticks": "",
           "title": {
            "standoff": 15
           },
           "zerolinecolor": "white",
           "zerolinewidth": 2
          }
         }
        },
        "title": {
         "text": "Peak memory, RAM size & flash size"
        },
        "xaxis": {
         "anchor": "y",
         "domain": [
          0,
          1
         ],
         "title": {
          "text": "model architecture"
         }
        },
        "yaxis": {
         "anchor": "x",
         "domain": [
          0,
          1
         ],
         "title": {
          "text": "value"
         }
        }
       }
      },
      "text/html": [
       "<div>                            <div id=\"520b3224-f286-45df-9ce2-a6a76b61db88\" class=\"plotly-graph-div\" style=\"height:600px; width:100%;\"></div>            <script type=\"text/javascript\">                require([\"plotly\"], function(Plotly) {                    window.PLOTLYENV=window.PLOTLYENV || {};                                    if (document.getElementById(\"520b3224-f286-45df-9ce2-a6a76b61db88\")) {                    Plotly.newPlot(                        \"520b3224-f286-45df-9ce2-a6a76b61db88\",                        [{\"alignmentgroup\":\"True\",\"hovertemplate\":\"size=RAM_runtime_memory_size_kb_INT8_mltk<br>model architecture=%{x}<br>value=%{y}<extra></extra>\",\"legendgroup\":\"RAM_runtime_memory_size_kb_INT8_mltk\",\"marker\":{\"color\":\"#636efa\",\"pattern\":{\"shape\":\"\"}},\"name\":\"RAM_runtime_memory_size_kb_INT8_mltk\",\"offsetgroup\":\"RAM_runtime_memory_size_kb_INT8_mltk\",\"orientation\":\"v\",\"showlegend\":true,\"textposition\":\"auto\",\"x\":[\"shufflenetv2tiny_0.05_96_c3_o2_f24l1024\",\"shufflenetv2tiny_0.05_96_c3_o2_f24l128\",\"shufflenetv2tiny_0.1_96_c3_o2_f24l1024\",\"shufflenetv2tiny_0.1_96_c3_o2_f24l128\",\"shufflenetv2tiny_0.25_96_c3_o2_f24l1024\",\"shufflenetv2tiny_0.25_96_c3_o2_f24l128\",\"shufflenetv2tiny_0.25_96_c3_o2_f24l512\",\"shufflenetv2tiny_0.2_96_c3_o2_f24l1024\",\"shufflenetv2tiny_0.35_96_c3_o2_f24l1024\",\"shufflenetv2tiny_0.5_96_c3_o2_f24l1024\"],\"xaxis\":\"x\",\"y\":[121.546875,114.546875,127.0625,120.0625,142.17578125,135.17578125,138.17578125,138.42578125,149.80078125,161.05078125],\"yaxis\":\"y\",\"type\":\"bar\"},{\"alignmentgroup\":\"True\",\"hovertemplate\":\"size=flash_model_size_kb_INT8_mltk<br>model architecture=%{x}<br>value=%{y}<extra></extra>\",\"legendgroup\":\"flash_model_size_kb_INT8_mltk\",\"marker\":{\"color\":\"#EF553B\",\"pattern\":{\"shape\":\"\"}},\"name\":\"flash_model_size_kb_INT8_mltk\",\"offsetgroup\":\"flash_model_size_kb_INT8_mltk\",\"orientation\":\"v\",\"showlegend\":true,\"textposition\":\"auto\",\"x\":[\"shufflenetv2tiny_0.05_96_c3_o2_f24l1024\",\"shufflenetv2tiny_0.05_96_c3_o2_f24l128\",\"shufflenetv2tiny_0.1_96_c3_o2_f24l1024\",\"shufflenetv2tiny_0.1_96_c3_o2_f24l128\",\"shufflenetv2tiny_0.25_96_c3_o2_f24l1024\",\"shufflenetv2tiny_0.25_96_c3_o2_f24l128\",\"shufflenetv2tiny_0.25_96_c3_o2_f24l512\",\"shufflenetv2tiny_0.2_96_c3_o2_f24l1024\",\"shufflenetv2tiny_0.35_96_c3_o2_f24l1024\",\"shufflenetv2tiny_0.5_96_c3_o2_f24l1024\"],\"xaxis\":\"x\",\"y\":[187.265625,119.015625,278.109375,167.859375,595.515625,373.265625,468.515625,505.921875,795.25,1146.1796875],\"yaxis\":\"y\",\"type\":\"bar\"},{\"alignmentgroup\":\"True\",\"hovertemplate\":\"size=peak_memory_kb<br>model architecture=%{x}<br>value=%{y}<extra></extra>\",\"legendgroup\":\"peak_memory_kb\",\"marker\":{\"color\":\"#00cc96\",\"pattern\":{\"shape\":\"\"}},\"name\":\"peak_memory_kb\",\"offsetgroup\":\"peak_memory_kb\",\"orientation\":\"v\",\"showlegend\":true,\"textposition\":\"auto\",\"x\":[\"shufflenetv2tiny_0.05_96_c3_o2_f24l1024\",\"shufflenetv2tiny_0.05_96_c3_o2_f24l128\",\"shufflenetv2tiny_0.1_96_c3_o2_f24l1024\",\"shufflenetv2tiny_0.1_96_c3_o2_f24l128\",\"shufflenetv2tiny_0.25_96_c3_o2_f24l1024\",\"shufflenetv2tiny_0.25_96_c3_o2_f24l128\",\"shufflenetv2tiny_0.25_96_c3_o2_f24l512\",\"shufflenetv2tiny_0.2_96_c3_o2_f24l1024\",\"shufflenetv2tiny_0.35_96_c3_o2_f24l1024\",\"shufflenetv2tiny_0.5_96_c3_o2_f24l1024\"],\"xaxis\":\"x\",\"y\":[78.7734375,78.7734375,78.7734375,78.7734375,78.7734375,78.7734375,78.7734375,78.7734375,78.7734375,78.7734375],\"yaxis\":\"y\",\"type\":\"bar\"},{\"alignmentgroup\":\"True\",\"hovertemplate\":\"size=tflite_model_INT8_size_kb<br>model architecture=%{x}<br>value=%{y}<extra></extra>\",\"legendgroup\":\"tflite_model_INT8_size_kb\",\"marker\":{\"color\":\"#ab63fa\",\"pattern\":{\"shape\":\"\"}},\"name\":\"tflite_model_INT8_size_kb\",\"offsetgroup\":\"tflite_model_INT8_size_kb\",\"orientation\":\"v\",\"showlegend\":true,\"textposition\":\"auto\",\"x\":[\"shufflenetv2tiny_0.05_96_c3_o2_f24l1024\",\"shufflenetv2tiny_0.05_96_c3_o2_f24l128\",\"shufflenetv2tiny_0.1_96_c3_o2_f24l1024\",\"shufflenetv2tiny_0.1_96_c3_o2_f24l128\",\"shufflenetv2tiny_0.25_96_c3_o2_f24l1024\",\"shufflenetv2tiny_0.25_96_c3_o2_f24l128\",\"shufflenetv2tiny_0.25_96_c3_o2_f24l512\",\"shufflenetv2tiny_0.2_96_c3_o2_f24l1024\",\"shufflenetv2tiny_0.35_96_c3_o2_f24l1024\",\"shufflenetv2tiny_0.5_96_c3_o2_f24l1024\"],\"xaxis\":\"x\",\"y\":[187.265625,119.015625,278.109375,167.859375,595.515625,373.265625,468.515625,505.921875,795.25,1146.1796875],\"yaxis\":\"y\",\"type\":\"bar\"}],                        {\"template\":{\"data\":{\"histogram2dcontour\":[{\"type\":\"histogram2dcontour\",\"colorbar\":{\"outlinewidth\":0,\"ticks\":\"\"},\"colorscale\":[[0.0,\"#0d0887\"],[0.1111111111111111,\"#46039f\"],[0.2222222222222222,\"#7201a8\"],[0.3333333333333333,\"#9c179e\"],[0.4444444444444444,\"#bd3786\"],[0.5555555555555556,\"#d8576b\"],[0.6666666666666666,\"#ed7953\"],[0.7777777777777778,\"#fb9f3a\"],[0.8888888888888888,\"#fdca26\"],[1.0,\"#f0f921\"]]}],\"choropleth\":[{\"type\":\"choropleth\",\"colorbar\":{\"outlinewidth\":0,\"ticks\":\"\"}}],\"histogram2d\":[{\"type\":\"histogram2d\",\"colorbar\":{\"outlinewidth\":0,\"ticks\":\"\"},\"colorscale\":[[0.0,\"#0d0887\"],[0.1111111111111111,\"#46039f\"],[0.2222222222222222,\"#7201a8\"],[0.3333333333333333,\"#9c179e\"],[0.4444444444444444,\"#bd3786\"],[0.5555555555555556,\"#d8576b\"],[0.6666666666666666,\"#ed7953\"],[0.7777777777777778,\"#fb9f3a\"],[0.8888888888888888,\"#fdca26\"],[1.0,\"#f0f921\"]]}],\"heatmap\":[{\"type\":\"heatmap\",\"colorbar\":{\"outlinewidth\":0,\"ticks\":\"\"},\"colorscale\":[[0.0,\"#0d0887\"],[0.1111111111111111,\"#46039f\"],[0.2222222222222222,\"#7201a8\"],[0.3333333333333333,\"#9c179e\"],[0.4444444444444444,\"#bd3786\"],[0.5555555555555556,\"#d8576b\"],[0.6666666666666666,\"#ed7953\"],[0.7777777777777778,\"#fb9f3a\"],[0.8888888888888888,\"#fdca26\"],[1.0,\"#f0f921\"]]}],\"heatmapgl\":[{\"type\":\"heatmapgl\",\"colorbar\":{\"outlinewidth\":0,\"ticks\":\"\"},\"colorscale\":[[0.0,\"#0d0887\"],[0.1111111111111111,\"#46039f\"],[0.2222222222222222,\"#7201a8\"],[0.3333333333333333,\"#9c179e\"],[0.4444444444444444,\"#bd3786\"],[0.5555555555555556,\"#d8576b\"],[0.6666666666666666,\"#ed7953\"],[0.7777777777777778,\"#fb9f3a\"],[0.8888888888888888,\"#fdca26\"],[1.0,\"#f0f921\"]]}],\"contourcarpet\":[{\"type\":\"contourcarpet\",\"colorbar\":{\"outlinewidth\":0,\"ticks\":\"\"}}],\"contour\":[{\"type\":\"contour\",\"colorbar\":{\"outlinewidth\":0,\"ticks\":\"\"},\"colorscale\":[[0.0,\"#0d0887\"],[0.1111111111111111,\"#46039f\"],[0.2222222222222222,\"#7201a8\"],[0.3333333333333333,\"#9c179e\"],[0.4444444444444444,\"#bd3786\"],[0.5555555555555556,\"#d8576b\"],[0.6666666666666666,\"#ed7953\"],[0.7777777777777778,\"#fb9f3a\"],[0.8888888888888888,\"#fdca26\"],[1.0,\"#f0f921\"]]}],\"surface\":[{\"type\":\"surface\",\"colorbar\":{\"outlinewidth\":0,\"ticks\":\"\"},\"colorscale\":[[0.0,\"#0d0887\"],[0.1111111111111111,\"#46039f\"],[0.2222222222222222,\"#7201a8\"],[0.3333333333333333,\"#9c179e\"],[0.4444444444444444,\"#bd3786\"],[0.5555555555555556,\"#d8576b\"],[0.6666666666666666,\"#ed7953\"],[0.7777777777777778,\"#fb9f3a\"],[0.8888888888888888,\"#fdca26\"],[1.0,\"#f0f921\"]]}],\"mesh3d\":[{\"type\":\"mesh3d\",\"colorbar\":{\"outlinewidth\":0,\"ticks\":\"\"}}],\"scatter\":[{\"fillpattern\":{\"fillmode\":\"overlay\",\"size\":10,\"solidity\":0.2},\"type\":\"scatter\"}],\"parcoords\":[{\"type\":\"parcoords\",\"line\":{\"colorbar\":{\"outlinewidth\":0,\"ticks\":\"\"}}}],\"scatterpolargl\":[{\"type\":\"scatterpolargl\",\"marker\":{\"colorbar\":{\"outlinewidth\":0,\"ticks\":\"\"}}}],\"bar\":[{\"error_x\":{\"color\":\"#2a3f5f\"},\"error_y\":{\"color\":\"#2a3f5f\"},\"marker\":{\"line\":{\"color\":\"#E5ECF6\",\"width\":0.5},\"pattern\":{\"fillmode\":\"overlay\",\"size\":10,\"solidity\":0.2}},\"type\":\"bar\"}],\"scattergeo\":[{\"type\":\"scattergeo\",\"marker\":{\"colorbar\":{\"outlinewidth\":0,\"ticks\":\"\"}}}],\"scatterpolar\":[{\"type\":\"scatterpolar\",\"marker\":{\"colorbar\":{\"outlinewidth\":0,\"ticks\":\"\"}}}],\"histogram\":[{\"marker\":{\"pattern\":{\"fillmode\":\"overlay\",\"size\":10,\"solidity\":0.2}},\"type\":\"histogram\"}],\"scattergl\":[{\"type\":\"scattergl\",\"marker\":{\"colorbar\":{\"outlinewidth\":0,\"ticks\":\"\"}}}],\"scatter3d\":[{\"type\":\"scatter3d\",\"line\":{\"colorbar\":{\"outlinewidth\":0,\"ticks\":\"\"}},\"marker\":{\"colorbar\":{\"outlinewidth\":0,\"ticks\":\"\"}}}],\"scattermapbox\":[{\"type\":\"scattermapbox\",\"marker\":{\"colorbar\":{\"outlinewidth\":0,\"ticks\":\"\"}}}],\"scatterternary\":[{\"type\":\"scatterternary\",\"marker\":{\"colorbar\":{\"outlinewidth\":0,\"ticks\":\"\"}}}],\"scattercarpet\":[{\"type\":\"scattercarpet\",\"marker\":{\"colorbar\":{\"outlinewidth\":0,\"ticks\":\"\"}}}],\"carpet\":[{\"aaxis\":{\"endlinecolor\":\"#2a3f5f\",\"gridcolor\":\"white\",\"linecolor\":\"white\",\"minorgridcolor\":\"white\",\"startlinecolor\":\"#2a3f5f\"},\"baxis\":{\"endlinecolor\":\"#2a3f5f\",\"gridcolor\":\"white\",\"linecolor\":\"white\",\"minorgridcolor\":\"white\",\"startlinecolor\":\"#2a3f5f\"},\"type\":\"carpet\"}],\"table\":[{\"cells\":{\"fill\":{\"color\":\"#EBF0F8\"},\"line\":{\"color\":\"white\"}},\"header\":{\"fill\":{\"color\":\"#C8D4E3\"},\"line\":{\"color\":\"white\"}},\"type\":\"table\"}],\"barpolar\":[{\"marker\":{\"line\":{\"color\":\"#E5ECF6\",\"width\":0.5},\"pattern\":{\"fillmode\":\"overlay\",\"size\":10,\"solidity\":0.2}},\"type\":\"barpolar\"}],\"pie\":[{\"automargin\":true,\"type\":\"pie\"}]},\"layout\":{\"autotypenumbers\":\"strict\",\"colorway\":[\"#636efa\",\"#EF553B\",\"#00cc96\",\"#ab63fa\",\"#FFA15A\",\"#19d3f3\",\"#FF6692\",\"#B6E880\",\"#FF97FF\",\"#FECB52\"],\"font\":{\"color\":\"#2a3f5f\"},\"hovermode\":\"closest\",\"hoverlabel\":{\"align\":\"left\"},\"paper_bgcolor\":\"white\",\"plot_bgcolor\":\"#E5ECF6\",\"polar\":{\"bgcolor\":\"#E5ECF6\",\"angularaxis\":{\"gridcolor\":\"white\",\"linecolor\":\"white\",\"ticks\":\"\"},\"radialaxis\":{\"gridcolor\":\"white\",\"linecolor\":\"white\",\"ticks\":\"\"}},\"ternary\":{\"bgcolor\":\"#E5ECF6\",\"aaxis\":{\"gridcolor\":\"white\",\"linecolor\":\"white\",\"ticks\":\"\"},\"baxis\":{\"gridcolor\":\"white\",\"linecolor\":\"white\",\"ticks\":\"\"},\"caxis\":{\"gridcolor\":\"white\",\"linecolor\":\"white\",\"ticks\":\"\"}},\"coloraxis\":{\"colorbar\":{\"outlinewidth\":0,\"ticks\":\"\"}},\"colorscale\":{\"sequential\":[[0.0,\"#0d0887\"],[0.1111111111111111,\"#46039f\"],[0.2222222222222222,\"#7201a8\"],[0.3333333333333333,\"#9c179e\"],[0.4444444444444444,\"#bd3786\"],[0.5555555555555556,\"#d8576b\"],[0.6666666666666666,\"#ed7953\"],[0.7777777777777778,\"#fb9f3a\"],[0.8888888888888888,\"#fdca26\"],[1.0,\"#f0f921\"]],\"sequentialminus\":[[0.0,\"#0d0887\"],[0.1111111111111111,\"#46039f\"],[0.2222222222222222,\"#7201a8\"],[0.3333333333333333,\"#9c179e\"],[0.4444444444444444,\"#bd3786\"],[0.5555555555555556,\"#d8576b\"],[0.6666666666666666,\"#ed7953\"],[0.7777777777777778,\"#fb9f3a\"],[0.8888888888888888,\"#fdca26\"],[1.0,\"#f0f921\"]],\"diverging\":[[0,\"#8e0152\"],[0.1,\"#c51b7d\"],[0.2,\"#de77ae\"],[0.3,\"#f1b6da\"],[0.4,\"#fde0ef\"],[0.5,\"#f7f7f7\"],[0.6,\"#e6f5d0\"],[0.7,\"#b8e186\"],[0.8,\"#7fbc41\"],[0.9,\"#4d9221\"],[1,\"#276419\"]]},\"xaxis\":{\"gridcolor\":\"white\",\"linecolor\":\"white\",\"ticks\":\"\",\"title\":{\"standoff\":15},\"zerolinecolor\":\"white\",\"automargin\":true,\"zerolinewidth\":2},\"yaxis\":{\"gridcolor\":\"white\",\"linecolor\":\"white\",\"ticks\":\"\",\"title\":{\"standoff\":15},\"zerolinecolor\":\"white\",\"automargin\":true,\"zerolinewidth\":2},\"scene\":{\"xaxis\":{\"backgroundcolor\":\"#E5ECF6\",\"gridcolor\":\"white\",\"linecolor\":\"white\",\"showbackground\":true,\"ticks\":\"\",\"zerolinecolor\":\"white\",\"gridwidth\":2},\"yaxis\":{\"backgroundcolor\":\"#E5ECF6\",\"gridcolor\":\"white\",\"linecolor\":\"white\",\"showbackground\":true,\"ticks\":\"\",\"zerolinecolor\":\"white\",\"gridwidth\":2},\"zaxis\":{\"backgroundcolor\":\"#E5ECF6\",\"gridcolor\":\"white\",\"linecolor\":\"white\",\"showbackground\":true,\"ticks\":\"\",\"zerolinecolor\":\"white\",\"gridwidth\":2}},\"shapedefaults\":{\"line\":{\"color\":\"#2a3f5f\"}},\"annotationdefaults\":{\"arrowcolor\":\"#2a3f5f\",\"arrowhead\":0,\"arrowwidth\":1},\"geo\":{\"bgcolor\":\"white\",\"landcolor\":\"#E5ECF6\",\"subunitcolor\":\"white\",\"showland\":true,\"showlakes\":true,\"lakecolor\":\"white\"},\"title\":{\"x\":0.05},\"mapbox\":{\"style\":\"light\"}}},\"xaxis\":{\"anchor\":\"y\",\"domain\":[0.0,1.0],\"title\":{\"text\":\"model architecture\"}},\"yaxis\":{\"anchor\":\"x\",\"domain\":[0.0,1.0],\"title\":{\"text\":\"value\"}},\"legend\":{\"title\":{\"text\":\"size\"},\"tracegroupgap\":0},\"title\":{\"text\":\"Peak memory, RAM size & flash size\"},\"barmode\":\"group\",\"height\":600,\"shapes\":[{\"line\":{\"color\":\"orange\",\"dash\":\"dash\",\"width\":2},\"type\":\"line\",\"x0\":0,\"x1\":1,\"xref\":\"x domain\",\"y0\":87,\"y1\":87,\"yref\":\"y\"},{\"line\":{\"color\":\"blue\",\"dash\":\"dash\",\"width\":2},\"type\":\"line\",\"x0\":0,\"x1\":1,\"xref\":\"x domain\",\"y0\":250,\"y1\":250,\"yref\":\"y\"}],\"annotations\":[{\"showarrow\":false,\"text\":\"87 KB peak activation\",\"x\":0,\"xanchor\":\"left\",\"xref\":\"x domain\",\"y\":87,\"yanchor\":\"bottom\",\"yref\":\"y\"},{\"showarrow\":false,\"text\":\"250 KB flash memory\",\"x\":1,\"xanchor\":\"right\",\"xref\":\"x domain\",\"y\":250,\"yanchor\":\"bottom\",\"yref\":\"y\"}]},                        {\"responsive\": true}                    ).then(function(){\n",
       "                            \n",
       "var gd = document.getElementById('520b3224-f286-45df-9ce2-a6a76b61db88');\n",
       "var x = new MutationObserver(function (mutations, observer) {{\n",
       "        var display = window.getComputedStyle(gd).display;\n",
       "        if (!display || display === 'none') {{\n",
       "            console.log([gd, 'removed!']);\n",
       "            Plotly.purge(gd);\n",
       "            observer.disconnect();\n",
       "        }}\n",
       "}});\n",
       "\n",
       "// Listen for the removal of the full notebook cells\n",
       "var notebookContainer = gd.closest('#notebook-container');\n",
       "if (notebookContainer) {{\n",
       "    x.observe(notebookContainer, {childList: true});\n",
       "}}\n",
       "\n",
       "// Listen for the clearing of the current output cell\n",
       "var outputEl = gd.closest('.output');\n",
       "if (outputEl) {{\n",
       "    x.observe(outputEl, {childList: true});\n",
       "}}\n",
       "\n",
       "                        })                };                });            </script>        </div>"
      ]
     },
     "metadata": {},
     "output_type": "display_data"
    }
   ],
   "source": [
    "shufflev2tiny_df_long = create_size_df_long(shufflev2tiny_df)\n",
    "shufflev2tiny_mem_fig = memory_fig(shufflev2tiny_df_long)"
   ]
  },
  {
   "cell_type": "code",
   "execution_count": 101,
   "metadata": {},
   "outputs": [
    {
     "data": {
      "application/vnd.plotly.v1+json": {
       "config": {
        "plotlyServerURL": "https://plot.ly"
       },
       "data": [
        {
         "customdata": [
          [
           "shufflenetv2tiny_0.05_96_c3_o2_f24l128",
           "0.05",
           1899760,
           20802,
           78.7734375
          ],
          [
           "shufflenetv2tiny_0.05_96_c3_o2_f24l1024",
           "0.05",
           2288624,
           65602,
           78.7734375
          ]
         ],
         "hovertemplate": "alpha=%{customdata[1]}<br>MACs=%{x}<br>test_accuracy=%{y}<br>run_name=%{customdata[0]}<br>macs_mltk=%{customdata[2]}<br>total_params=%{customdata[3]}<br>peak_memory_kb=%{customdata[4]}<extra></extra>",
         "legendgroup": "0.05",
         "marker": {
          "color": "#636efa",
          "symbol": "circle"
         },
         "mode": "markers",
         "name": "0.05",
         "orientation": "v",
         "showlegend": true,
         "type": "scatter",
         "x": [
          "1.900 M",
          "2.289 M"
         ],
         "xaxis": "x",
         "y": [
          0.7712305188179016,
          0
         ],
         "yaxis": "y"
        },
        {
         "customdata": [
          [
           "shufflenetv2tiny_0.1_96_c3_o2_f24l128",
           "0.1",
           2741080,
           56058,
           78.7734375
          ],
          [
           "shufflenetv2tiny_0.1_96_c3_o2_f24l1024",
           "0.1",
           3517016,
           143866,
           78.7734375
          ]
         ],
         "hovertemplate": "alpha=%{customdata[1]}<br>MACs=%{x}<br>test_accuracy=%{y}<br>run_name=%{customdata[0]}<br>macs_mltk=%{customdata[2]}<br>total_params=%{customdata[3]}<br>peak_memory_kb=%{customdata[4]}<extra></extra>",
         "legendgroup": "0.1",
         "marker": {
          "color": "#EF553B",
          "symbol": "circle"
         },
         "mode": "markers",
         "name": "0.1",
         "orientation": "v",
         "showlegend": true,
         "type": "scatter",
         "x": [
          "2.741 M",
          "3.517 M"
         ],
         "xaxis": "x",
         "y": [
          0.8335309624671936,
          0.8286965489387512
         ],
         "yaxis": "y"
        },
        {
         "customdata": [
          [
           "shufflenetv2tiny_0.2_96_c3_o2_f24l1024",
           "0.2",
           7186856,
           347698,
           78.7734375
          ]
         ],
         "hovertemplate": "alpha=%{customdata[1]}<br>MACs=%{x}<br>test_accuracy=%{y}<br>run_name=%{customdata[0]}<br>macs_mltk=%{customdata[2]}<br>total_params=%{customdata[3]}<br>peak_memory_kb=%{customdata[4]}<extra></extra>",
         "legendgroup": "0.2",
         "marker": {
          "color": "#00cc96",
          "symbol": "circle"
         },
         "mode": "markers",
         "name": "0.2",
         "orientation": "v",
         "showlegend": true,
         "type": "scatter",
         "x": [
          "7.187 M"
         ],
         "xaxis": "x",
         "y": [
          0
         ],
         "yaxis": "y"
        },
        {
         "customdata": [
          [
           "shufflenetv2tiny_0.25_96_c3_o2_f24l128",
           "0.25",
           6961432,
           227162,
           78.7734375
          ],
          [
           "shufflenetv2tiny_0.25_96_c3_o2_f24l512",
           "0.25",
           7736344,
           313946,
           78.7734375
          ],
          [
           "shufflenetv2tiny_0.25_96_c3_o2_f24l1024",
           "0.25",
           8769560,
           429658,
           78.7734375
          ]
         ],
         "hovertemplate": "alpha=%{customdata[1]}<br>MACs=%{x}<br>test_accuracy=%{y}<br>run_name=%{customdata[0]}<br>macs_mltk=%{customdata[2]}<br>total_params=%{customdata[3]}<br>peak_memory_kb=%{customdata[4]}<extra></extra>",
         "legendgroup": "0.25",
         "marker": {
          "color": "#ab63fa",
          "symbol": "circle"
         },
         "mode": "markers",
         "name": "0.25",
         "orientation": "v",
         "showlegend": true,
         "type": "scatter",
         "x": [
          "6.961 M",
          "7.736 M",
          "8.770 M"
         ],
         "xaxis": "x",
         "y": [
          0.8518653512001038,
          0.8511356115341187,
          0.8128249645233154
         ],
         "yaxis": "y"
        },
        {
         "customdata": [
          [
           "shufflenetv2tiny_0.35_96_c3_o2_f24l1024",
           "0.35",
           12474104,
           614602,
           78.7734375
          ]
         ],
         "hovertemplate": "alpha=%{customdata[1]}<br>MACs=%{x}<br>test_accuracy=%{y}<br>run_name=%{customdata[0]}<br>macs_mltk=%{customdata[2]}<br>total_params=%{customdata[3]}<br>peak_memory_kb=%{customdata[4]}<extra></extra>",
         "legendgroup": "0.35",
         "marker": {
          "color": "#FFA15A",
          "symbol": "circle"
         },
         "mode": "markers",
         "name": "0.35",
         "orientation": "v",
         "showlegend": true,
         "type": "scatter",
         "x": [
          "12.474 M"
         ],
         "xaxis": "x",
         "y": [
          0
         ],
         "yaxis": "y"
        },
        {
         "customdata": [
          [
           "shufflenetv2tiny_0.5_96_c3_o2_f24l1024",
           "0.5",
           19378760,
           944578,
           78.7734375
          ]
         ],
         "hovertemplate": "alpha=%{customdata[1]}<br>MACs=%{x}<br>test_accuracy=%{y}<br>run_name=%{customdata[0]}<br>macs_mltk=%{customdata[2]}<br>total_params=%{customdata[3]}<br>peak_memory_kb=%{customdata[4]}<extra></extra>",
         "legendgroup": "0.5",
         "marker": {
          "color": "#19d3f3",
          "symbol": "circle"
         },
         "mode": "markers",
         "name": "0.5",
         "orientation": "v",
         "showlegend": true,
         "type": "scatter",
         "x": [
          "19.379 M"
         ],
         "xaxis": "x",
         "y": [
          0
         ],
         "yaxis": "y"
        }
       ],
       "layout": {
        "height": 400,
        "legend": {
         "title": {
          "text": "alpha"
         },
         "tracegroupgap": 0
        },
        "showlegend": true,
        "template": {
         "data": {
          "bar": [
           {
            "error_x": {
             "color": "#2a3f5f"
            },
            "error_y": {
             "color": "#2a3f5f"
            },
            "marker": {
             "line": {
              "color": "#E5ECF6",
              "width": 0.5
             },
             "pattern": {
              "fillmode": "overlay",
              "size": 10,
              "solidity": 0.2
             }
            },
            "type": "bar"
           }
          ],
          "barpolar": [
           {
            "marker": {
             "line": {
              "color": "#E5ECF6",
              "width": 0.5
             },
             "pattern": {
              "fillmode": "overlay",
              "size": 10,
              "solidity": 0.2
             }
            },
            "type": "barpolar"
           }
          ],
          "carpet": [
           {
            "aaxis": {
             "endlinecolor": "#2a3f5f",
             "gridcolor": "white",
             "linecolor": "white",
             "minorgridcolor": "white",
             "startlinecolor": "#2a3f5f"
            },
            "baxis": {
             "endlinecolor": "#2a3f5f",
             "gridcolor": "white",
             "linecolor": "white",
             "minorgridcolor": "white",
             "startlinecolor": "#2a3f5f"
            },
            "type": "carpet"
           }
          ],
          "choropleth": [
           {
            "colorbar": {
             "outlinewidth": 0,
             "ticks": ""
            },
            "type": "choropleth"
           }
          ],
          "contour": [
           {
            "colorbar": {
             "outlinewidth": 0,
             "ticks": ""
            },
            "colorscale": [
             [
              0,
              "#0d0887"
             ],
             [
              0.1111111111111111,
              "#46039f"
             ],
             [
              0.2222222222222222,
              "#7201a8"
             ],
             [
              0.3333333333333333,
              "#9c179e"
             ],
             [
              0.4444444444444444,
              "#bd3786"
             ],
             [
              0.5555555555555556,
              "#d8576b"
             ],
             [
              0.6666666666666666,
              "#ed7953"
             ],
             [
              0.7777777777777778,
              "#fb9f3a"
             ],
             [
              0.8888888888888888,
              "#fdca26"
             ],
             [
              1,
              "#f0f921"
             ]
            ],
            "type": "contour"
           }
          ],
          "contourcarpet": [
           {
            "colorbar": {
             "outlinewidth": 0,
             "ticks": ""
            },
            "type": "contourcarpet"
           }
          ],
          "heatmap": [
           {
            "colorbar": {
             "outlinewidth": 0,
             "ticks": ""
            },
            "colorscale": [
             [
              0,
              "#0d0887"
             ],
             [
              0.1111111111111111,
              "#46039f"
             ],
             [
              0.2222222222222222,
              "#7201a8"
             ],
             [
              0.3333333333333333,
              "#9c179e"
             ],
             [
              0.4444444444444444,
              "#bd3786"
             ],
             [
              0.5555555555555556,
              "#d8576b"
             ],
             [
              0.6666666666666666,
              "#ed7953"
             ],
             [
              0.7777777777777778,
              "#fb9f3a"
             ],
             [
              0.8888888888888888,
              "#fdca26"
             ],
             [
              1,
              "#f0f921"
             ]
            ],
            "type": "heatmap"
           }
          ],
          "heatmapgl": [
           {
            "colorbar": {
             "outlinewidth": 0,
             "ticks": ""
            },
            "colorscale": [
             [
              0,
              "#0d0887"
             ],
             [
              0.1111111111111111,
              "#46039f"
             ],
             [
              0.2222222222222222,
              "#7201a8"
             ],
             [
              0.3333333333333333,
              "#9c179e"
             ],
             [
              0.4444444444444444,
              "#bd3786"
             ],
             [
              0.5555555555555556,
              "#d8576b"
             ],
             [
              0.6666666666666666,
              "#ed7953"
             ],
             [
              0.7777777777777778,
              "#fb9f3a"
             ],
             [
              0.8888888888888888,
              "#fdca26"
             ],
             [
              1,
              "#f0f921"
             ]
            ],
            "type": "heatmapgl"
           }
          ],
          "histogram": [
           {
            "marker": {
             "pattern": {
              "fillmode": "overlay",
              "size": 10,
              "solidity": 0.2
             }
            },
            "type": "histogram"
           }
          ],
          "histogram2d": [
           {
            "colorbar": {
             "outlinewidth": 0,
             "ticks": ""
            },
            "colorscale": [
             [
              0,
              "#0d0887"
             ],
             [
              0.1111111111111111,
              "#46039f"
             ],
             [
              0.2222222222222222,
              "#7201a8"
             ],
             [
              0.3333333333333333,
              "#9c179e"
             ],
             [
              0.4444444444444444,
              "#bd3786"
             ],
             [
              0.5555555555555556,
              "#d8576b"
             ],
             [
              0.6666666666666666,
              "#ed7953"
             ],
             [
              0.7777777777777778,
              "#fb9f3a"
             ],
             [
              0.8888888888888888,
              "#fdca26"
             ],
             [
              1,
              "#f0f921"
             ]
            ],
            "type": "histogram2d"
           }
          ],
          "histogram2dcontour": [
           {
            "colorbar": {
             "outlinewidth": 0,
             "ticks": ""
            },
            "colorscale": [
             [
              0,
              "#0d0887"
             ],
             [
              0.1111111111111111,
              "#46039f"
             ],
             [
              0.2222222222222222,
              "#7201a8"
             ],
             [
              0.3333333333333333,
              "#9c179e"
             ],
             [
              0.4444444444444444,
              "#bd3786"
             ],
             [
              0.5555555555555556,
              "#d8576b"
             ],
             [
              0.6666666666666666,
              "#ed7953"
             ],
             [
              0.7777777777777778,
              "#fb9f3a"
             ],
             [
              0.8888888888888888,
              "#fdca26"
             ],
             [
              1,
              "#f0f921"
             ]
            ],
            "type": "histogram2dcontour"
           }
          ],
          "mesh3d": [
           {
            "colorbar": {
             "outlinewidth": 0,
             "ticks": ""
            },
            "type": "mesh3d"
           }
          ],
          "parcoords": [
           {
            "line": {
             "colorbar": {
              "outlinewidth": 0,
              "ticks": ""
             }
            },
            "type": "parcoords"
           }
          ],
          "pie": [
           {
            "automargin": true,
            "type": "pie"
           }
          ],
          "scatter": [
           {
            "fillpattern": {
             "fillmode": "overlay",
             "size": 10,
             "solidity": 0.2
            },
            "type": "scatter"
           }
          ],
          "scatter3d": [
           {
            "line": {
             "colorbar": {
              "outlinewidth": 0,
              "ticks": ""
             }
            },
            "marker": {
             "colorbar": {
              "outlinewidth": 0,
              "ticks": ""
             }
            },
            "type": "scatter3d"
           }
          ],
          "scattercarpet": [
           {
            "marker": {
             "colorbar": {
              "outlinewidth": 0,
              "ticks": ""
             }
            },
            "type": "scattercarpet"
           }
          ],
          "scattergeo": [
           {
            "marker": {
             "colorbar": {
              "outlinewidth": 0,
              "ticks": ""
             }
            },
            "type": "scattergeo"
           }
          ],
          "scattergl": [
           {
            "marker": {
             "colorbar": {
              "outlinewidth": 0,
              "ticks": ""
             }
            },
            "type": "scattergl"
           }
          ],
          "scattermapbox": [
           {
            "marker": {
             "colorbar": {
              "outlinewidth": 0,
              "ticks": ""
             }
            },
            "type": "scattermapbox"
           }
          ],
          "scatterpolar": [
           {
            "marker": {
             "colorbar": {
              "outlinewidth": 0,
              "ticks": ""
             }
            },
            "type": "scatterpolar"
           }
          ],
          "scatterpolargl": [
           {
            "marker": {
             "colorbar": {
              "outlinewidth": 0,
              "ticks": ""
             }
            },
            "type": "scatterpolargl"
           }
          ],
          "scatterternary": [
           {
            "marker": {
             "colorbar": {
              "outlinewidth": 0,
              "ticks": ""
             }
            },
            "type": "scatterternary"
           }
          ],
          "surface": [
           {
            "colorbar": {
             "outlinewidth": 0,
             "ticks": ""
            },
            "colorscale": [
             [
              0,
              "#0d0887"
             ],
             [
              0.1111111111111111,
              "#46039f"
             ],
             [
              0.2222222222222222,
              "#7201a8"
             ],
             [
              0.3333333333333333,
              "#9c179e"
             ],
             [
              0.4444444444444444,
              "#bd3786"
             ],
             [
              0.5555555555555556,
              "#d8576b"
             ],
             [
              0.6666666666666666,
              "#ed7953"
             ],
             [
              0.7777777777777778,
              "#fb9f3a"
             ],
             [
              0.8888888888888888,
              "#fdca26"
             ],
             [
              1,
              "#f0f921"
             ]
            ],
            "type": "surface"
           }
          ],
          "table": [
           {
            "cells": {
             "fill": {
              "color": "#EBF0F8"
             },
             "line": {
              "color": "white"
             }
            },
            "header": {
             "fill": {
              "color": "#C8D4E3"
             },
             "line": {
              "color": "white"
             }
            },
            "type": "table"
           }
          ]
         },
         "layout": {
          "annotationdefaults": {
           "arrowcolor": "#2a3f5f",
           "arrowhead": 0,
           "arrowwidth": 1
          },
          "autotypenumbers": "strict",
          "coloraxis": {
           "colorbar": {
            "outlinewidth": 0,
            "ticks": ""
           }
          },
          "colorscale": {
           "diverging": [
            [
             0,
             "#8e0152"
            ],
            [
             0.1,
             "#c51b7d"
            ],
            [
             0.2,
             "#de77ae"
            ],
            [
             0.3,
             "#f1b6da"
            ],
            [
             0.4,
             "#fde0ef"
            ],
            [
             0.5,
             "#f7f7f7"
            ],
            [
             0.6,
             "#e6f5d0"
            ],
            [
             0.7,
             "#b8e186"
            ],
            [
             0.8,
             "#7fbc41"
            ],
            [
             0.9,
             "#4d9221"
            ],
            [
             1,
             "#276419"
            ]
           ],
           "sequential": [
            [
             0,
             "#0d0887"
            ],
            [
             0.1111111111111111,
             "#46039f"
            ],
            [
             0.2222222222222222,
             "#7201a8"
            ],
            [
             0.3333333333333333,
             "#9c179e"
            ],
            [
             0.4444444444444444,
             "#bd3786"
            ],
            [
             0.5555555555555556,
             "#d8576b"
            ],
            [
             0.6666666666666666,
             "#ed7953"
            ],
            [
             0.7777777777777778,
             "#fb9f3a"
            ],
            [
             0.8888888888888888,
             "#fdca26"
            ],
            [
             1,
             "#f0f921"
            ]
           ],
           "sequentialminus": [
            [
             0,
             "#0d0887"
            ],
            [
             0.1111111111111111,
             "#46039f"
            ],
            [
             0.2222222222222222,
             "#7201a8"
            ],
            [
             0.3333333333333333,
             "#9c179e"
            ],
            [
             0.4444444444444444,
             "#bd3786"
            ],
            [
             0.5555555555555556,
             "#d8576b"
            ],
            [
             0.6666666666666666,
             "#ed7953"
            ],
            [
             0.7777777777777778,
             "#fb9f3a"
            ],
            [
             0.8888888888888888,
             "#fdca26"
            ],
            [
             1,
             "#f0f921"
            ]
           ]
          },
          "colorway": [
           "#636efa",
           "#EF553B",
           "#00cc96",
           "#ab63fa",
           "#FFA15A",
           "#19d3f3",
           "#FF6692",
           "#B6E880",
           "#FF97FF",
           "#FECB52"
          ],
          "font": {
           "color": "#2a3f5f"
          },
          "geo": {
           "bgcolor": "white",
           "lakecolor": "white",
           "landcolor": "#E5ECF6",
           "showlakes": true,
           "showland": true,
           "subunitcolor": "white"
          },
          "hoverlabel": {
           "align": "left"
          },
          "hovermode": "closest",
          "mapbox": {
           "style": "light"
          },
          "paper_bgcolor": "white",
          "plot_bgcolor": "#E5ECF6",
          "polar": {
           "angularaxis": {
            "gridcolor": "white",
            "linecolor": "white",
            "ticks": ""
           },
           "bgcolor": "#E5ECF6",
           "radialaxis": {
            "gridcolor": "white",
            "linecolor": "white",
            "ticks": ""
           }
          },
          "scene": {
           "xaxis": {
            "backgroundcolor": "#E5ECF6",
            "gridcolor": "white",
            "gridwidth": 2,
            "linecolor": "white",
            "showbackground": true,
            "ticks": "",
            "zerolinecolor": "white"
           },
           "yaxis": {
            "backgroundcolor": "#E5ECF6",
            "gridcolor": "white",
            "gridwidth": 2,
            "linecolor": "white",
            "showbackground": true,
            "ticks": "",
            "zerolinecolor": "white"
           },
           "zaxis": {
            "backgroundcolor": "#E5ECF6",
            "gridcolor": "white",
            "gridwidth": 2,
            "linecolor": "white",
            "showbackground": true,
            "ticks": "",
            "zerolinecolor": "white"
           }
          },
          "shapedefaults": {
           "line": {
            "color": "#2a3f5f"
           }
          },
          "ternary": {
           "aaxis": {
            "gridcolor": "white",
            "linecolor": "white",
            "ticks": ""
           },
           "baxis": {
            "gridcolor": "white",
            "linecolor": "white",
            "ticks": ""
           },
           "bgcolor": "#E5ECF6",
           "caxis": {
            "gridcolor": "white",
            "linecolor": "white",
            "ticks": ""
           }
          },
          "title": {
           "x": 0.05
          },
          "xaxis": {
           "automargin": true,
           "gridcolor": "white",
           "linecolor": "white",
           "ticks": "",
           "title": {
            "standoff": 15
           },
           "zerolinecolor": "white",
           "zerolinewidth": 2
          },
          "yaxis": {
           "automargin": true,
           "gridcolor": "white",
           "linecolor": "white",
           "ticks": "",
           "title": {
            "standoff": 15
           },
           "zerolinecolor": "white",
           "zerolinewidth": 2
          }
         }
        },
        "title": {
         "text": "Accuracy vs. MACs - ShuffleNetV2Tiny"
        },
        "width": 1200,
        "xaxis": {
         "anchor": "y",
         "domain": [
          0,
          1
         ],
         "title": {
          "text": "MACs"
         }
        },
        "yaxis": {
         "anchor": "x",
         "domain": [
          0,
          1
         ],
         "title": {
          "text": "test_accuracy"
         }
        }
       }
      },
      "text/html": [
       "<div>                            <div id=\"72bdb02a-2ed7-4b62-bbae-3414d9782f7b\" class=\"plotly-graph-div\" style=\"height:400px; width:1200px;\"></div>            <script type=\"text/javascript\">                require([\"plotly\"], function(Plotly) {                    window.PLOTLYENV=window.PLOTLYENV || {};                                    if (document.getElementById(\"72bdb02a-2ed7-4b62-bbae-3414d9782f7b\")) {                    Plotly.newPlot(                        \"72bdb02a-2ed7-4b62-bbae-3414d9782f7b\",                        [{\"customdata\":[[\"shufflenetv2tiny_0.05_96_c3_o2_f24l128\",\"0.05\",1899760,20802,78.7734375],[\"shufflenetv2tiny_0.05_96_c3_o2_f24l1024\",\"0.05\",2288624,65602,78.7734375]],\"hovertemplate\":\"alpha=%{customdata[1]}<br>MACs=%{x}<br>test_accuracy=%{y}<br>run_name=%{customdata[0]}<br>macs_mltk=%{customdata[2]}<br>total_params=%{customdata[3]}<br>peak_memory_kb=%{customdata[4]}<extra></extra>\",\"legendgroup\":\"0.05\",\"marker\":{\"color\":\"#636efa\",\"symbol\":\"circle\"},\"mode\":\"markers\",\"name\":\"0.05\",\"orientation\":\"v\",\"showlegend\":true,\"x\":[\"1.900 M\",\"2.289 M\"],\"xaxis\":\"x\",\"y\":[0.7712305188179016,0.0],\"yaxis\":\"y\",\"type\":\"scatter\"},{\"customdata\":[[\"shufflenetv2tiny_0.1_96_c3_o2_f24l128\",\"0.1\",2741080,56058,78.7734375],[\"shufflenetv2tiny_0.1_96_c3_o2_f24l1024\",\"0.1\",3517016,143866,78.7734375]],\"hovertemplate\":\"alpha=%{customdata[1]}<br>MACs=%{x}<br>test_accuracy=%{y}<br>run_name=%{customdata[0]}<br>macs_mltk=%{customdata[2]}<br>total_params=%{customdata[3]}<br>peak_memory_kb=%{customdata[4]}<extra></extra>\",\"legendgroup\":\"0.1\",\"marker\":{\"color\":\"#EF553B\",\"symbol\":\"circle\"},\"mode\":\"markers\",\"name\":\"0.1\",\"orientation\":\"v\",\"showlegend\":true,\"x\":[\"2.741 M\",\"3.517 M\"],\"xaxis\":\"x\",\"y\":[0.8335309624671936,0.8286965489387512],\"yaxis\":\"y\",\"type\":\"scatter\"},{\"customdata\":[[\"shufflenetv2tiny_0.2_96_c3_o2_f24l1024\",\"0.2\",7186856,347698,78.7734375]],\"hovertemplate\":\"alpha=%{customdata[1]}<br>MACs=%{x}<br>test_accuracy=%{y}<br>run_name=%{customdata[0]}<br>macs_mltk=%{customdata[2]}<br>total_params=%{customdata[3]}<br>peak_memory_kb=%{customdata[4]}<extra></extra>\",\"legendgroup\":\"0.2\",\"marker\":{\"color\":\"#00cc96\",\"symbol\":\"circle\"},\"mode\":\"markers\",\"name\":\"0.2\",\"orientation\":\"v\",\"showlegend\":true,\"x\":[\"7.187 M\"],\"xaxis\":\"x\",\"y\":[0.0],\"yaxis\":\"y\",\"type\":\"scatter\"},{\"customdata\":[[\"shufflenetv2tiny_0.25_96_c3_o2_f24l128\",\"0.25\",6961432,227162,78.7734375],[\"shufflenetv2tiny_0.25_96_c3_o2_f24l512\",\"0.25\",7736344,313946,78.7734375],[\"shufflenetv2tiny_0.25_96_c3_o2_f24l1024\",\"0.25\",8769560,429658,78.7734375]],\"hovertemplate\":\"alpha=%{customdata[1]}<br>MACs=%{x}<br>test_accuracy=%{y}<br>run_name=%{customdata[0]}<br>macs_mltk=%{customdata[2]}<br>total_params=%{customdata[3]}<br>peak_memory_kb=%{customdata[4]}<extra></extra>\",\"legendgroup\":\"0.25\",\"marker\":{\"color\":\"#ab63fa\",\"symbol\":\"circle\"},\"mode\":\"markers\",\"name\":\"0.25\",\"orientation\":\"v\",\"showlegend\":true,\"x\":[\"6.961 M\",\"7.736 M\",\"8.770 M\"],\"xaxis\":\"x\",\"y\":[0.8518653512001038,0.8511356115341187,0.8128249645233154],\"yaxis\":\"y\",\"type\":\"scatter\"},{\"customdata\":[[\"shufflenetv2tiny_0.35_96_c3_o2_f24l1024\",\"0.35\",12474104,614602,78.7734375]],\"hovertemplate\":\"alpha=%{customdata[1]}<br>MACs=%{x}<br>test_accuracy=%{y}<br>run_name=%{customdata[0]}<br>macs_mltk=%{customdata[2]}<br>total_params=%{customdata[3]}<br>peak_memory_kb=%{customdata[4]}<extra></extra>\",\"legendgroup\":\"0.35\",\"marker\":{\"color\":\"#FFA15A\",\"symbol\":\"circle\"},\"mode\":\"markers\",\"name\":\"0.35\",\"orientation\":\"v\",\"showlegend\":true,\"x\":[\"12.474 M\"],\"xaxis\":\"x\",\"y\":[0.0],\"yaxis\":\"y\",\"type\":\"scatter\"},{\"customdata\":[[\"shufflenetv2tiny_0.5_96_c3_o2_f24l1024\",\"0.5\",19378760,944578,78.7734375]],\"hovertemplate\":\"alpha=%{customdata[1]}<br>MACs=%{x}<br>test_accuracy=%{y}<br>run_name=%{customdata[0]}<br>macs_mltk=%{customdata[2]}<br>total_params=%{customdata[3]}<br>peak_memory_kb=%{customdata[4]}<extra></extra>\",\"legendgroup\":\"0.5\",\"marker\":{\"color\":\"#19d3f3\",\"symbol\":\"circle\"},\"mode\":\"markers\",\"name\":\"0.5\",\"orientation\":\"v\",\"showlegend\":true,\"x\":[\"19.379 M\"],\"xaxis\":\"x\",\"y\":[0.0],\"yaxis\":\"y\",\"type\":\"scatter\"}],                        {\"template\":{\"data\":{\"histogram2dcontour\":[{\"type\":\"histogram2dcontour\",\"colorbar\":{\"outlinewidth\":0,\"ticks\":\"\"},\"colorscale\":[[0.0,\"#0d0887\"],[0.1111111111111111,\"#46039f\"],[0.2222222222222222,\"#7201a8\"],[0.3333333333333333,\"#9c179e\"],[0.4444444444444444,\"#bd3786\"],[0.5555555555555556,\"#d8576b\"],[0.6666666666666666,\"#ed7953\"],[0.7777777777777778,\"#fb9f3a\"],[0.8888888888888888,\"#fdca26\"],[1.0,\"#f0f921\"]]}],\"choropleth\":[{\"type\":\"choropleth\",\"colorbar\":{\"outlinewidth\":0,\"ticks\":\"\"}}],\"histogram2d\":[{\"type\":\"histogram2d\",\"colorbar\":{\"outlinewidth\":0,\"ticks\":\"\"},\"colorscale\":[[0.0,\"#0d0887\"],[0.1111111111111111,\"#46039f\"],[0.2222222222222222,\"#7201a8\"],[0.3333333333333333,\"#9c179e\"],[0.4444444444444444,\"#bd3786\"],[0.5555555555555556,\"#d8576b\"],[0.6666666666666666,\"#ed7953\"],[0.7777777777777778,\"#fb9f3a\"],[0.8888888888888888,\"#fdca26\"],[1.0,\"#f0f921\"]]}],\"heatmap\":[{\"type\":\"heatmap\",\"colorbar\":{\"outlinewidth\":0,\"ticks\":\"\"},\"colorscale\":[[0.0,\"#0d0887\"],[0.1111111111111111,\"#46039f\"],[0.2222222222222222,\"#7201a8\"],[0.3333333333333333,\"#9c179e\"],[0.4444444444444444,\"#bd3786\"],[0.5555555555555556,\"#d8576b\"],[0.6666666666666666,\"#ed7953\"],[0.7777777777777778,\"#fb9f3a\"],[0.8888888888888888,\"#fdca26\"],[1.0,\"#f0f921\"]]}],\"heatmapgl\":[{\"type\":\"heatmapgl\",\"colorbar\":{\"outlinewidth\":0,\"ticks\":\"\"},\"colorscale\":[[0.0,\"#0d0887\"],[0.1111111111111111,\"#46039f\"],[0.2222222222222222,\"#7201a8\"],[0.3333333333333333,\"#9c179e\"],[0.4444444444444444,\"#bd3786\"],[0.5555555555555556,\"#d8576b\"],[0.6666666666666666,\"#ed7953\"],[0.7777777777777778,\"#fb9f3a\"],[0.8888888888888888,\"#fdca26\"],[1.0,\"#f0f921\"]]}],\"contourcarpet\":[{\"type\":\"contourcarpet\",\"colorbar\":{\"outlinewidth\":0,\"ticks\":\"\"}}],\"contour\":[{\"type\":\"contour\",\"colorbar\":{\"outlinewidth\":0,\"ticks\":\"\"},\"colorscale\":[[0.0,\"#0d0887\"],[0.1111111111111111,\"#46039f\"],[0.2222222222222222,\"#7201a8\"],[0.3333333333333333,\"#9c179e\"],[0.4444444444444444,\"#bd3786\"],[0.5555555555555556,\"#d8576b\"],[0.6666666666666666,\"#ed7953\"],[0.7777777777777778,\"#fb9f3a\"],[0.8888888888888888,\"#fdca26\"],[1.0,\"#f0f921\"]]}],\"surface\":[{\"type\":\"surface\",\"colorbar\":{\"outlinewidth\":0,\"ticks\":\"\"},\"colorscale\":[[0.0,\"#0d0887\"],[0.1111111111111111,\"#46039f\"],[0.2222222222222222,\"#7201a8\"],[0.3333333333333333,\"#9c179e\"],[0.4444444444444444,\"#bd3786\"],[0.5555555555555556,\"#d8576b\"],[0.6666666666666666,\"#ed7953\"],[0.7777777777777778,\"#fb9f3a\"],[0.8888888888888888,\"#fdca26\"],[1.0,\"#f0f921\"]]}],\"mesh3d\":[{\"type\":\"mesh3d\",\"colorbar\":{\"outlinewidth\":0,\"ticks\":\"\"}}],\"scatter\":[{\"fillpattern\":{\"fillmode\":\"overlay\",\"size\":10,\"solidity\":0.2},\"type\":\"scatter\"}],\"parcoords\":[{\"type\":\"parcoords\",\"line\":{\"colorbar\":{\"outlinewidth\":0,\"ticks\":\"\"}}}],\"scatterpolargl\":[{\"type\":\"scatterpolargl\",\"marker\":{\"colorbar\":{\"outlinewidth\":0,\"ticks\":\"\"}}}],\"bar\":[{\"error_x\":{\"color\":\"#2a3f5f\"},\"error_y\":{\"color\":\"#2a3f5f\"},\"marker\":{\"line\":{\"color\":\"#E5ECF6\",\"width\":0.5},\"pattern\":{\"fillmode\":\"overlay\",\"size\":10,\"solidity\":0.2}},\"type\":\"bar\"}],\"scattergeo\":[{\"type\":\"scattergeo\",\"marker\":{\"colorbar\":{\"outlinewidth\":0,\"ticks\":\"\"}}}],\"scatterpolar\":[{\"type\":\"scatterpolar\",\"marker\":{\"colorbar\":{\"outlinewidth\":0,\"ticks\":\"\"}}}],\"histogram\":[{\"marker\":{\"pattern\":{\"fillmode\":\"overlay\",\"size\":10,\"solidity\":0.2}},\"type\":\"histogram\"}],\"scattergl\":[{\"type\":\"scattergl\",\"marker\":{\"colorbar\":{\"outlinewidth\":0,\"ticks\":\"\"}}}],\"scatter3d\":[{\"type\":\"scatter3d\",\"line\":{\"colorbar\":{\"outlinewidth\":0,\"ticks\":\"\"}},\"marker\":{\"colorbar\":{\"outlinewidth\":0,\"ticks\":\"\"}}}],\"scattermapbox\":[{\"type\":\"scattermapbox\",\"marker\":{\"colorbar\":{\"outlinewidth\":0,\"ticks\":\"\"}}}],\"scatterternary\":[{\"type\":\"scatterternary\",\"marker\":{\"colorbar\":{\"outlinewidth\":0,\"ticks\":\"\"}}}],\"scattercarpet\":[{\"type\":\"scattercarpet\",\"marker\":{\"colorbar\":{\"outlinewidth\":0,\"ticks\":\"\"}}}],\"carpet\":[{\"aaxis\":{\"endlinecolor\":\"#2a3f5f\",\"gridcolor\":\"white\",\"linecolor\":\"white\",\"minorgridcolor\":\"white\",\"startlinecolor\":\"#2a3f5f\"},\"baxis\":{\"endlinecolor\":\"#2a3f5f\",\"gridcolor\":\"white\",\"linecolor\":\"white\",\"minorgridcolor\":\"white\",\"startlinecolor\":\"#2a3f5f\"},\"type\":\"carpet\"}],\"table\":[{\"cells\":{\"fill\":{\"color\":\"#EBF0F8\"},\"line\":{\"color\":\"white\"}},\"header\":{\"fill\":{\"color\":\"#C8D4E3\"},\"line\":{\"color\":\"white\"}},\"type\":\"table\"}],\"barpolar\":[{\"marker\":{\"line\":{\"color\":\"#E5ECF6\",\"width\":0.5},\"pattern\":{\"fillmode\":\"overlay\",\"size\":10,\"solidity\":0.2}},\"type\":\"barpolar\"}],\"pie\":[{\"automargin\":true,\"type\":\"pie\"}]},\"layout\":{\"autotypenumbers\":\"strict\",\"colorway\":[\"#636efa\",\"#EF553B\",\"#00cc96\",\"#ab63fa\",\"#FFA15A\",\"#19d3f3\",\"#FF6692\",\"#B6E880\",\"#FF97FF\",\"#FECB52\"],\"font\":{\"color\":\"#2a3f5f\"},\"hovermode\":\"closest\",\"hoverlabel\":{\"align\":\"left\"},\"paper_bgcolor\":\"white\",\"plot_bgcolor\":\"#E5ECF6\",\"polar\":{\"bgcolor\":\"#E5ECF6\",\"angularaxis\":{\"gridcolor\":\"white\",\"linecolor\":\"white\",\"ticks\":\"\"},\"radialaxis\":{\"gridcolor\":\"white\",\"linecolor\":\"white\",\"ticks\":\"\"}},\"ternary\":{\"bgcolor\":\"#E5ECF6\",\"aaxis\":{\"gridcolor\":\"white\",\"linecolor\":\"white\",\"ticks\":\"\"},\"baxis\":{\"gridcolor\":\"white\",\"linecolor\":\"white\",\"ticks\":\"\"},\"caxis\":{\"gridcolor\":\"white\",\"linecolor\":\"white\",\"ticks\":\"\"}},\"coloraxis\":{\"colorbar\":{\"outlinewidth\":0,\"ticks\":\"\"}},\"colorscale\":{\"sequential\":[[0.0,\"#0d0887\"],[0.1111111111111111,\"#46039f\"],[0.2222222222222222,\"#7201a8\"],[0.3333333333333333,\"#9c179e\"],[0.4444444444444444,\"#bd3786\"],[0.5555555555555556,\"#d8576b\"],[0.6666666666666666,\"#ed7953\"],[0.7777777777777778,\"#fb9f3a\"],[0.8888888888888888,\"#fdca26\"],[1.0,\"#f0f921\"]],\"sequentialminus\":[[0.0,\"#0d0887\"],[0.1111111111111111,\"#46039f\"],[0.2222222222222222,\"#7201a8\"],[0.3333333333333333,\"#9c179e\"],[0.4444444444444444,\"#bd3786\"],[0.5555555555555556,\"#d8576b\"],[0.6666666666666666,\"#ed7953\"],[0.7777777777777778,\"#fb9f3a\"],[0.8888888888888888,\"#fdca26\"],[1.0,\"#f0f921\"]],\"diverging\":[[0,\"#8e0152\"],[0.1,\"#c51b7d\"],[0.2,\"#de77ae\"],[0.3,\"#f1b6da\"],[0.4,\"#fde0ef\"],[0.5,\"#f7f7f7\"],[0.6,\"#e6f5d0\"],[0.7,\"#b8e186\"],[0.8,\"#7fbc41\"],[0.9,\"#4d9221\"],[1,\"#276419\"]]},\"xaxis\":{\"gridcolor\":\"white\",\"linecolor\":\"white\",\"ticks\":\"\",\"title\":{\"standoff\":15},\"zerolinecolor\":\"white\",\"automargin\":true,\"zerolinewidth\":2},\"yaxis\":{\"gridcolor\":\"white\",\"linecolor\":\"white\",\"ticks\":\"\",\"title\":{\"standoff\":15},\"zerolinecolor\":\"white\",\"automargin\":true,\"zerolinewidth\":2},\"scene\":{\"xaxis\":{\"backgroundcolor\":\"#E5ECF6\",\"gridcolor\":\"white\",\"linecolor\":\"white\",\"showbackground\":true,\"ticks\":\"\",\"zerolinecolor\":\"white\",\"gridwidth\":2},\"yaxis\":{\"backgroundcolor\":\"#E5ECF6\",\"gridcolor\":\"white\",\"linecolor\":\"white\",\"showbackground\":true,\"ticks\":\"\",\"zerolinecolor\":\"white\",\"gridwidth\":2},\"zaxis\":{\"backgroundcolor\":\"#E5ECF6\",\"gridcolor\":\"white\",\"linecolor\":\"white\",\"showbackground\":true,\"ticks\":\"\",\"zerolinecolor\":\"white\",\"gridwidth\":2}},\"shapedefaults\":{\"line\":{\"color\":\"#2a3f5f\"}},\"annotationdefaults\":{\"arrowcolor\":\"#2a3f5f\",\"arrowhead\":0,\"arrowwidth\":1},\"geo\":{\"bgcolor\":\"white\",\"landcolor\":\"#E5ECF6\",\"subunitcolor\":\"white\",\"showland\":true,\"showlakes\":true,\"lakecolor\":\"white\"},\"title\":{\"x\":0.05},\"mapbox\":{\"style\":\"light\"}}},\"xaxis\":{\"anchor\":\"y\",\"domain\":[0.0,1.0],\"title\":{\"text\":\"MACs\"}},\"yaxis\":{\"anchor\":\"x\",\"domain\":[0.0,1.0],\"title\":{\"text\":\"test_accuracy\"}},\"legend\":{\"title\":{\"text\":\"alpha\"},\"tracegroupgap\":0},\"title\":{\"text\":\"Accuracy vs. MACs - ShuffleNetV2Tiny\"},\"showlegend\":true,\"width\":1200,\"height\":400},                        {\"responsive\": true}                    ).then(function(){\n",
       "                            \n",
       "var gd = document.getElementById('72bdb02a-2ed7-4b62-bbae-3414d9782f7b');\n",
       "var x = new MutationObserver(function (mutations, observer) {{\n",
       "        var display = window.getComputedStyle(gd).display;\n",
       "        if (!display || display === 'none') {{\n",
       "            console.log([gd, 'removed!']);\n",
       "            Plotly.purge(gd);\n",
       "            observer.disconnect();\n",
       "        }}\n",
       "}});\n",
       "\n",
       "// Listen for the removal of the full notebook cells\n",
       "var notebookContainer = gd.closest('#notebook-container');\n",
       "if (notebookContainer) {{\n",
       "    x.observe(notebookContainer, {childList: true});\n",
       "}}\n",
       "\n",
       "// Listen for the clearing of the current output cell\n",
       "var outputEl = gd.closest('.output');\n",
       "if (outputEl) {{\n",
       "    x.observe(outputEl, {childList: true});\n",
       "}}\n",
       "\n",
       "                        })                };                });            </script>        </div>"
      ]
     },
     "metadata": {},
     "output_type": "display_data"
    }
   ],
   "source": [
    "### TODO: Clean up accuracy plots\n",
    "macs_accuracy_fig = px.scatter(\n",
    "    shufflev2tiny_df,\n",
    "    x=\"MACs\",\n",
    "    y=\"test_accuracy\",\n",
    "    color=\"alpha\",\n",
    "    hover_data=[\"run_name\",\"alpha\", \"macs_mltk\", \"total_params\", \"peak_memory_kb\"],\n",
    "    #size=\"tflite_model_INT8_size_kb\",\n",
    "    #labels={\"total_params\": \"parameters\", \"OPS_INT8_mltk\": \"FLOPs\"},\n",
    "    title=f\"Accuracy vs. MACs - ShuffleNetV2Tiny\",\n",
    ")\n",
    "macs_accuracy_fig.update_layout(showlegend=True, width=1200, height=400)\n",
    "\n",
    "macs_accuracy_fig.show()"
   ]
  },
  {
   "cell_type": "code",
   "execution_count": 102,
   "metadata": {},
   "outputs": [
    {
     "data": {
      "application/vnd.plotly.v1+json": {
       "config": {
        "plotlyServerURL": "https://plot.ly"
       },
       "data": [
        {
         "customdata": [
          [
           "mobilenetv2_0.1_96_c3_o2_t3l1024.MV1",
           "0.1",
           1298435,
           53810,
           54
          ],
          [
           "mobilenetv2_0.1_96_c3_o2_t6l1024.MV1",
           "0.1",
           1617926,
           67766,
           54
          ],
          [
           "mobilenetv2_0.1_96_c3_o2_t5l1024.MV1",
           "0.1",
           1511429,
           63114,
           54
          ],
          [
           "mobilenetv2_0.1_96_c3_o2_l5",
           "0.1",
           1692166,
           77494,
           54
          ],
          [
           "mobilenetv2_0.1_96_c3_o2_t4l1024.MV1",
           "0.1",
           1404932,
           58462,
           54
          ],
          [
           "mobilenetv2_0.1_96_c3_o2_t2l1024.MV1",
           "0.1",
           1191938,
           49158,
           54
          ],
          [
           "mobilenetv2_0.1_96_c3_o2_t1l1024.MV1",
           "0.1",
           1085441,
           44506,
           54
          ],
          [
           "mobilenetv2_0.1_96_c3_o2_t6l128.MV1",
           "0.1",
           1358086,
           33718,
           54
          ],
          [
           "mobilenetv2_0.1_96_c3_o2_t6l256.MV1",
           "0.1",
           1395206,
           38582,
           54
          ],
          [
           "mobilenetv2_0.1_96_c3_o2_t6l512.MV1",
           "0.1",
           1469446,
           48310,
           54
          ]
         ],
         "hovertemplate": "alpha=%{customdata[1]}<br>MACs=%{x}<br>test_accuracy=%{y}<br>run_name=%{customdata[0]}<br>macs_mltk=%{customdata[2]}<br>total_params=%{customdata[3]}<br>peak_memory_kb=%{customdata[4]}<extra></extra>",
         "legendgroup": "0.1",
         "marker": {
          "color": "#636efa",
          "symbol": "circle"
         },
         "mode": "markers",
         "name": "0.1",
         "orientation": "v",
         "showlegend": true,
         "type": "scatter",
         "x": [
          "1.298 M",
          "1.618 M",
          "1.511 M",
          "1.692 M",
          "1.405 M",
          "1.192 M",
          "1.085 M",
          "1.358 M",
          "1.395 M",
          "1.469 M"
         ],
         "xaxis": "x",
         "y": [
          0,
          0,
          0,
          0,
          0,
          0.7630210518836975,
          0.7487913966178894,
          0,
          0,
          0
         ],
         "yaxis": "y"
        },
        {
         "customdata": [
          [
           "mobilenetv2_0.2_96_c3_o2_t6l1024.MV1",
           "0.2",
           3487946,
           163666,
           54
          ],
          [
           "mobilenetv2_0.2_96_c3_o2_t5l1024.MV1",
           "0.2",
           3125075,
           148594,
           54
          ],
          [
           "mobilenetv2_0.2_96_c3_o2_t5l256.MV1",
           "0.2",
           2681171,
           94834,
           54
          ],
          [
           "mobilenetv2_0.2_96_c3_o2_t5l128.MV1",
           "0.2",
           2607187,
           85874,
           54
          ],
          [
           "mobilenetv2_0.2_96_c3_o2_t6l128.MV1",
           "0.2",
           2970058,
           100946,
           54
          ],
          [
           "mobilenetv2_0.2_96_c3_o2_t6l256.MV1",
           "0.2",
           3044042,
           109906,
           54
          ],
          [
           "mobilenetv2_0.2_96_c3_o2_t6l512.MV1",
           "0.2",
           3192010,
           127826,
           54
          ],
          [
           "mobilenetv2_0.2_96_c3_o2_l5",
           "0.2",
           3635914,
           181586,
           54
          ],
          [
           "mobilenetv2_0.2_96_c3_o2_t5l512.MV1",
           "0.2",
           2829139,
           112754,
           54
          ]
         ],
         "hovertemplate": "alpha=%{customdata[1]}<br>MACs=%{x}<br>test_accuracy=%{y}<br>run_name=%{customdata[0]}<br>macs_mltk=%{customdata[2]}<br>total_params=%{customdata[3]}<br>peak_memory_kb=%{customdata[4]}<extra></extra>",
         "legendgroup": "0.2",
         "marker": {
          "color": "#EF553B",
          "symbol": "circle"
         },
         "mode": "markers",
         "name": "0.2",
         "orientation": "v",
         "showlegend": true,
         "type": "scatter",
         "x": [
          "3.488 M",
          "3.125 M",
          "2.681 M",
          "2.607 M",
          "2.970 M",
          "3.044 M",
          "3.192 M",
          "3.636 M",
          "2.829 M"
         ],
         "xaxis": "x",
         "y": [
          0,
          0,
          0,
          0,
          0.8143013715744019,
          0.8157438635826111,
          0,
          0,
          0
         ],
         "yaxis": "y"
        },
        {
         "customdata": [
          [
           "mobilenetv2_0.25_96_c3_o2_t4l1024.MV1",
           "0.25",
           3848000,
           181522,
           54
          ],
          [
           "mobilenetv2_0.25_96_c3_o2_t6l1024.MV1",
           "0.25",
           5033696,
           227306,
           67.5
          ],
          [
           "mobilenetv2_0.25_96_c3_o2_t5l1024.MV1",
           "0.25",
           4440848,
           204414,
           56.25
          ],
          [
           "mobilenetv2_0.25_96_c3_o2_t6l1024.GAP",
           "0.25",
           5033696,
           227306,
           67.5
          ],
          [
           "mobilenetv2_0.25_96_c3_o2_l5",
           "0.25",
           5218528,
           249322,
           67.5
          ],
          [
           "mobilenetv2_0.25_96_c3_o2_t3l1024.MV1",
           "0.25",
           3255152,
           158630,
           54
          ],
          [
           "mobilenetv2_0.25_96_c3_o2_t5l512.MV1",
           "0.25",
           4071184,
           160382,
           56.25
          ],
          [
           "mobilenetv2_0.25_96_c3_o2_t1l1024.MV1",
           "0.25",
           2069456,
           112846,
           54
          ],
          [
           "mobilenetv2_0.25_96_c3_o2_t6l512.MV1",
           "0.25",
           4664032,
           183274,
           67.5
          ],
          [
           "mobilenetv2_0.25_96_c3_o2_t6l256.MV1",
           "0.25",
           4479200,
           161258,
           67.5
          ],
          [
           "mobilenetv2_0.25_96_c3_o2_t6l128.MV1",
           "0.25",
           4386784,
           150250,
           67.5
          ],
          [
           "mobilenetv2_0.25_96_c3_o2_t5l128.MV1",
           "0.25",
           3793936,
           127358,
           56.25
          ],
          [
           "mobilenetv2_0.25_96_c3_o2_t5l256.MV1",
           "0.25",
           3886352,
           138366,
           56.25
          ],
          [
           "mobilenetv2_0.25_96_c3_o2_t2l1024.MV1",
           "0.25",
           2662304,
           135738,
           54
          ],
          [
           "mobilenetv2_0.25_96_c3_o2_keras",
           "0.25",
           6600352,
           251330,
           220.546875
          ]
         ],
         "hovertemplate": "alpha=%{customdata[1]}<br>MACs=%{x}<br>test_accuracy=%{y}<br>run_name=%{customdata[0]}<br>macs_mltk=%{customdata[2]}<br>total_params=%{customdata[3]}<br>peak_memory_kb=%{customdata[4]}<extra></extra>",
         "legendgroup": "0.25",
         "marker": {
          "color": "#00cc96",
          "symbol": "circle"
         },
         "mode": "markers",
         "name": "0.25",
         "orientation": "v",
         "showlegend": true,
         "type": "scatter",
         "x": [
          "3.848 M",
          "5.034 M",
          "4.441 M",
          "5.034 M",
          "5.219 M",
          "3.255 M",
          "4.071 M",
          "2.069 M",
          "4.664 M",
          "4.479 M",
          "4.387 M",
          "3.794 M",
          "3.886 M",
          "2.662 M",
          "6.600 M"
         ],
         "xaxis": "x",
         "y": [
          0.8334397673606873,
          0,
          0.8335309624671936,
          0,
          0,
          0,
          0,
          0,
          0.8369059562683105,
          0,
          0,
          0.8321627378463745,
          0,
          0,
          0
         ],
         "yaxis": "y"
        },
        {
         "customdata": [
          [
           "mobilenetv2_0.35_96_c3_o2_keras",
           "0.35",
           10656688,
           412770,
           220.546875
          ],
          [
           "mobilenetv2_0.35_96_c3_o2_l5",
           "0.35",
           9008662,
           402934,
           84.375
          ]
         ],
         "hovertemplate": "alpha=%{customdata[1]}<br>MACs=%{x}<br>test_accuracy=%{y}<br>run_name=%{customdata[0]}<br>macs_mltk=%{customdata[2]}<br>total_params=%{customdata[3]}<br>peak_memory_kb=%{customdata[4]}<extra></extra>",
         "legendgroup": "0.35",
         "marker": {
          "color": "#ab63fa",
          "symbol": "circle"
         },
         "mode": "markers",
         "name": "0.35",
         "orientation": "v",
         "showlegend": true,
         "type": "scatter",
         "x": [
          "10.657 M",
          "9.009 M"
         ],
         "xaxis": "x",
         "y": [
          0,
          0
         ],
         "yaxis": "y"
        },
        {
         "customdata": [
          [
           "mobilenetv2_0.5_96_c3_o2_l5",
           "0.5",
           16125376,
           705346,
           135
          ],
          [
           "mobilenetv2_0.5_96_c3_o2_keras",
           "0.5",
           17608000,
           708786,
           220.546875
          ]
         ],
         "hovertemplate": "alpha=%{customdata[1]}<br>MACs=%{x}<br>test_accuracy=%{y}<br>run_name=%{customdata[0]}<br>macs_mltk=%{customdata[2]}<br>total_params=%{customdata[3]}<br>peak_memory_kb=%{customdata[4]}<extra></extra>",
         "legendgroup": "0.5",
         "marker": {
          "color": "#FFA15A",
          "symbol": "circle"
         },
         "mode": "markers",
         "name": "0.5",
         "orientation": "v",
         "showlegend": true,
         "type": "scatter",
         "x": [
          "16.125 M",
          "17.608 M"
         ],
         "xaxis": "x",
         "y": [
          0,
          0
         ],
         "yaxis": "y"
        },
        {
         "customdata": [
          [
           "mobilenetv2_1_96_c3_o2_l5",
           "1.0",
           55011712,
           2260546,
           270
          ],
          [
           "mobilenetv2_1_96_c3_o2_keras",
           "1.0",
           55011712,
           2260546,
           441.09375
          ]
         ],
         "hovertemplate": "alpha=%{customdata[1]}<br>MACs=%{x}<br>test_accuracy=%{y}<br>run_name=%{customdata[0]}<br>macs_mltk=%{customdata[2]}<br>total_params=%{customdata[3]}<br>peak_memory_kb=%{customdata[4]}<extra></extra>",
         "legendgroup": "1.0",
         "marker": {
          "color": "#19d3f3",
          "symbol": "circle"
         },
         "mode": "markers",
         "name": "1.0",
         "orientation": "v",
         "showlegend": true,
         "type": "scatter",
         "x": [
          "55.012 M",
          "55.012 M"
         ],
         "xaxis": "x",
         "y": [
          0,
          0
         ],
         "yaxis": "y"
        }
       ],
       "layout": {
        "height": 400,
        "legend": {
         "title": {
          "text": "alpha"
         },
         "tracegroupgap": 0
        },
        "showlegend": true,
        "template": {
         "data": {
          "bar": [
           {
            "error_x": {
             "color": "#2a3f5f"
            },
            "error_y": {
             "color": "#2a3f5f"
            },
            "marker": {
             "line": {
              "color": "#E5ECF6",
              "width": 0.5
             },
             "pattern": {
              "fillmode": "overlay",
              "size": 10,
              "solidity": 0.2
             }
            },
            "type": "bar"
           }
          ],
          "barpolar": [
           {
            "marker": {
             "line": {
              "color": "#E5ECF6",
              "width": 0.5
             },
             "pattern": {
              "fillmode": "overlay",
              "size": 10,
              "solidity": 0.2
             }
            },
            "type": "barpolar"
           }
          ],
          "carpet": [
           {
            "aaxis": {
             "endlinecolor": "#2a3f5f",
             "gridcolor": "white",
             "linecolor": "white",
             "minorgridcolor": "white",
             "startlinecolor": "#2a3f5f"
            },
            "baxis": {
             "endlinecolor": "#2a3f5f",
             "gridcolor": "white",
             "linecolor": "white",
             "minorgridcolor": "white",
             "startlinecolor": "#2a3f5f"
            },
            "type": "carpet"
           }
          ],
          "choropleth": [
           {
            "colorbar": {
             "outlinewidth": 0,
             "ticks": ""
            },
            "type": "choropleth"
           }
          ],
          "contour": [
           {
            "colorbar": {
             "outlinewidth": 0,
             "ticks": ""
            },
            "colorscale": [
             [
              0,
              "#0d0887"
             ],
             [
              0.1111111111111111,
              "#46039f"
             ],
             [
              0.2222222222222222,
              "#7201a8"
             ],
             [
              0.3333333333333333,
              "#9c179e"
             ],
             [
              0.4444444444444444,
              "#bd3786"
             ],
             [
              0.5555555555555556,
              "#d8576b"
             ],
             [
              0.6666666666666666,
              "#ed7953"
             ],
             [
              0.7777777777777778,
              "#fb9f3a"
             ],
             [
              0.8888888888888888,
              "#fdca26"
             ],
             [
              1,
              "#f0f921"
             ]
            ],
            "type": "contour"
           }
          ],
          "contourcarpet": [
           {
            "colorbar": {
             "outlinewidth": 0,
             "ticks": ""
            },
            "type": "contourcarpet"
           }
          ],
          "heatmap": [
           {
            "colorbar": {
             "outlinewidth": 0,
             "ticks": ""
            },
            "colorscale": [
             [
              0,
              "#0d0887"
             ],
             [
              0.1111111111111111,
              "#46039f"
             ],
             [
              0.2222222222222222,
              "#7201a8"
             ],
             [
              0.3333333333333333,
              "#9c179e"
             ],
             [
              0.4444444444444444,
              "#bd3786"
             ],
             [
              0.5555555555555556,
              "#d8576b"
             ],
             [
              0.6666666666666666,
              "#ed7953"
             ],
             [
              0.7777777777777778,
              "#fb9f3a"
             ],
             [
              0.8888888888888888,
              "#fdca26"
             ],
             [
              1,
              "#f0f921"
             ]
            ],
            "type": "heatmap"
           }
          ],
          "heatmapgl": [
           {
            "colorbar": {
             "outlinewidth": 0,
             "ticks": ""
            },
            "colorscale": [
             [
              0,
              "#0d0887"
             ],
             [
              0.1111111111111111,
              "#46039f"
             ],
             [
              0.2222222222222222,
              "#7201a8"
             ],
             [
              0.3333333333333333,
              "#9c179e"
             ],
             [
              0.4444444444444444,
              "#bd3786"
             ],
             [
              0.5555555555555556,
              "#d8576b"
             ],
             [
              0.6666666666666666,
              "#ed7953"
             ],
             [
              0.7777777777777778,
              "#fb9f3a"
             ],
             [
              0.8888888888888888,
              "#fdca26"
             ],
             [
              1,
              "#f0f921"
             ]
            ],
            "type": "heatmapgl"
           }
          ],
          "histogram": [
           {
            "marker": {
             "pattern": {
              "fillmode": "overlay",
              "size": 10,
              "solidity": 0.2
             }
            },
            "type": "histogram"
           }
          ],
          "histogram2d": [
           {
            "colorbar": {
             "outlinewidth": 0,
             "ticks": ""
            },
            "colorscale": [
             [
              0,
              "#0d0887"
             ],
             [
              0.1111111111111111,
              "#46039f"
             ],
             [
              0.2222222222222222,
              "#7201a8"
             ],
             [
              0.3333333333333333,
              "#9c179e"
             ],
             [
              0.4444444444444444,
              "#bd3786"
             ],
             [
              0.5555555555555556,
              "#d8576b"
             ],
             [
              0.6666666666666666,
              "#ed7953"
             ],
             [
              0.7777777777777778,
              "#fb9f3a"
             ],
             [
              0.8888888888888888,
              "#fdca26"
             ],
             [
              1,
              "#f0f921"
             ]
            ],
            "type": "histogram2d"
           }
          ],
          "histogram2dcontour": [
           {
            "colorbar": {
             "outlinewidth": 0,
             "ticks": ""
            },
            "colorscale": [
             [
              0,
              "#0d0887"
             ],
             [
              0.1111111111111111,
              "#46039f"
             ],
             [
              0.2222222222222222,
              "#7201a8"
             ],
             [
              0.3333333333333333,
              "#9c179e"
             ],
             [
              0.4444444444444444,
              "#bd3786"
             ],
             [
              0.5555555555555556,
              "#d8576b"
             ],
             [
              0.6666666666666666,
              "#ed7953"
             ],
             [
              0.7777777777777778,
              "#fb9f3a"
             ],
             [
              0.8888888888888888,
              "#fdca26"
             ],
             [
              1,
              "#f0f921"
             ]
            ],
            "type": "histogram2dcontour"
           }
          ],
          "mesh3d": [
           {
            "colorbar": {
             "outlinewidth": 0,
             "ticks": ""
            },
            "type": "mesh3d"
           }
          ],
          "parcoords": [
           {
            "line": {
             "colorbar": {
              "outlinewidth": 0,
              "ticks": ""
             }
            },
            "type": "parcoords"
           }
          ],
          "pie": [
           {
            "automargin": true,
            "type": "pie"
           }
          ],
          "scatter": [
           {
            "fillpattern": {
             "fillmode": "overlay",
             "size": 10,
             "solidity": 0.2
            },
            "type": "scatter"
           }
          ],
          "scatter3d": [
           {
            "line": {
             "colorbar": {
              "outlinewidth": 0,
              "ticks": ""
             }
            },
            "marker": {
             "colorbar": {
              "outlinewidth": 0,
              "ticks": ""
             }
            },
            "type": "scatter3d"
           }
          ],
          "scattercarpet": [
           {
            "marker": {
             "colorbar": {
              "outlinewidth": 0,
              "ticks": ""
             }
            },
            "type": "scattercarpet"
           }
          ],
          "scattergeo": [
           {
            "marker": {
             "colorbar": {
              "outlinewidth": 0,
              "ticks": ""
             }
            },
            "type": "scattergeo"
           }
          ],
          "scattergl": [
           {
            "marker": {
             "colorbar": {
              "outlinewidth": 0,
              "ticks": ""
             }
            },
            "type": "scattergl"
           }
          ],
          "scattermapbox": [
           {
            "marker": {
             "colorbar": {
              "outlinewidth": 0,
              "ticks": ""
             }
            },
            "type": "scattermapbox"
           }
          ],
          "scatterpolar": [
           {
            "marker": {
             "colorbar": {
              "outlinewidth": 0,
              "ticks": ""
             }
            },
            "type": "scatterpolar"
           }
          ],
          "scatterpolargl": [
           {
            "marker": {
             "colorbar": {
              "outlinewidth": 0,
              "ticks": ""
             }
            },
            "type": "scatterpolargl"
           }
          ],
          "scatterternary": [
           {
            "marker": {
             "colorbar": {
              "outlinewidth": 0,
              "ticks": ""
             }
            },
            "type": "scatterternary"
           }
          ],
          "surface": [
           {
            "colorbar": {
             "outlinewidth": 0,
             "ticks": ""
            },
            "colorscale": [
             [
              0,
              "#0d0887"
             ],
             [
              0.1111111111111111,
              "#46039f"
             ],
             [
              0.2222222222222222,
              "#7201a8"
             ],
             [
              0.3333333333333333,
              "#9c179e"
             ],
             [
              0.4444444444444444,
              "#bd3786"
             ],
             [
              0.5555555555555556,
              "#d8576b"
             ],
             [
              0.6666666666666666,
              "#ed7953"
             ],
             [
              0.7777777777777778,
              "#fb9f3a"
             ],
             [
              0.8888888888888888,
              "#fdca26"
             ],
             [
              1,
              "#f0f921"
             ]
            ],
            "type": "surface"
           }
          ],
          "table": [
           {
            "cells": {
             "fill": {
              "color": "#EBF0F8"
             },
             "line": {
              "color": "white"
             }
            },
            "header": {
             "fill": {
              "color": "#C8D4E3"
             },
             "line": {
              "color": "white"
             }
            },
            "type": "table"
           }
          ]
         },
         "layout": {
          "annotationdefaults": {
           "arrowcolor": "#2a3f5f",
           "arrowhead": 0,
           "arrowwidth": 1
          },
          "autotypenumbers": "strict",
          "coloraxis": {
           "colorbar": {
            "outlinewidth": 0,
            "ticks": ""
           }
          },
          "colorscale": {
           "diverging": [
            [
             0,
             "#8e0152"
            ],
            [
             0.1,
             "#c51b7d"
            ],
            [
             0.2,
             "#de77ae"
            ],
            [
             0.3,
             "#f1b6da"
            ],
            [
             0.4,
             "#fde0ef"
            ],
            [
             0.5,
             "#f7f7f7"
            ],
            [
             0.6,
             "#e6f5d0"
            ],
            [
             0.7,
             "#b8e186"
            ],
            [
             0.8,
             "#7fbc41"
            ],
            [
             0.9,
             "#4d9221"
            ],
            [
             1,
             "#276419"
            ]
           ],
           "sequential": [
            [
             0,
             "#0d0887"
            ],
            [
             0.1111111111111111,
             "#46039f"
            ],
            [
             0.2222222222222222,
             "#7201a8"
            ],
            [
             0.3333333333333333,
             "#9c179e"
            ],
            [
             0.4444444444444444,
             "#bd3786"
            ],
            [
             0.5555555555555556,
             "#d8576b"
            ],
            [
             0.6666666666666666,
             "#ed7953"
            ],
            [
             0.7777777777777778,
             "#fb9f3a"
            ],
            [
             0.8888888888888888,
             "#fdca26"
            ],
            [
             1,
             "#f0f921"
            ]
           ],
           "sequentialminus": [
            [
             0,
             "#0d0887"
            ],
            [
             0.1111111111111111,
             "#46039f"
            ],
            [
             0.2222222222222222,
             "#7201a8"
            ],
            [
             0.3333333333333333,
             "#9c179e"
            ],
            [
             0.4444444444444444,
             "#bd3786"
            ],
            [
             0.5555555555555556,
             "#d8576b"
            ],
            [
             0.6666666666666666,
             "#ed7953"
            ],
            [
             0.7777777777777778,
             "#fb9f3a"
            ],
            [
             0.8888888888888888,
             "#fdca26"
            ],
            [
             1,
             "#f0f921"
            ]
           ]
          },
          "colorway": [
           "#636efa",
           "#EF553B",
           "#00cc96",
           "#ab63fa",
           "#FFA15A",
           "#19d3f3",
           "#FF6692",
           "#B6E880",
           "#FF97FF",
           "#FECB52"
          ],
          "font": {
           "color": "#2a3f5f"
          },
          "geo": {
           "bgcolor": "white",
           "lakecolor": "white",
           "landcolor": "#E5ECF6",
           "showlakes": true,
           "showland": true,
           "subunitcolor": "white"
          },
          "hoverlabel": {
           "align": "left"
          },
          "hovermode": "closest",
          "mapbox": {
           "style": "light"
          },
          "paper_bgcolor": "white",
          "plot_bgcolor": "#E5ECF6",
          "polar": {
           "angularaxis": {
            "gridcolor": "white",
            "linecolor": "white",
            "ticks": ""
           },
           "bgcolor": "#E5ECF6",
           "radialaxis": {
            "gridcolor": "white",
            "linecolor": "white",
            "ticks": ""
           }
          },
          "scene": {
           "xaxis": {
            "backgroundcolor": "#E5ECF6",
            "gridcolor": "white",
            "gridwidth": 2,
            "linecolor": "white",
            "showbackground": true,
            "ticks": "",
            "zerolinecolor": "white"
           },
           "yaxis": {
            "backgroundcolor": "#E5ECF6",
            "gridcolor": "white",
            "gridwidth": 2,
            "linecolor": "white",
            "showbackground": true,
            "ticks": "",
            "zerolinecolor": "white"
           },
           "zaxis": {
            "backgroundcolor": "#E5ECF6",
            "gridcolor": "white",
            "gridwidth": 2,
            "linecolor": "white",
            "showbackground": true,
            "ticks": "",
            "zerolinecolor": "white"
           }
          },
          "shapedefaults": {
           "line": {
            "color": "#2a3f5f"
           }
          },
          "ternary": {
           "aaxis": {
            "gridcolor": "white",
            "linecolor": "white",
            "ticks": ""
           },
           "baxis": {
            "gridcolor": "white",
            "linecolor": "white",
            "ticks": ""
           },
           "bgcolor": "#E5ECF6",
           "caxis": {
            "gridcolor": "white",
            "linecolor": "white",
            "ticks": ""
           }
          },
          "title": {
           "x": 0.05
          },
          "xaxis": {
           "automargin": true,
           "gridcolor": "white",
           "linecolor": "white",
           "ticks": "",
           "title": {
            "standoff": 15
           },
           "zerolinecolor": "white",
           "zerolinewidth": 2
          },
          "yaxis": {
           "automargin": true,
           "gridcolor": "white",
           "linecolor": "white",
           "ticks": "",
           "title": {
            "standoff": 15
           },
           "zerolinecolor": "white",
           "zerolinewidth": 2
          }
         }
        },
        "title": {
         "text": "Accuracy vs. MACs"
        },
        "width": 1200,
        "xaxis": {
         "anchor": "y",
         "domain": [
          0,
          1
         ],
         "title": {
          "text": "MACs"
         }
        },
        "yaxis": {
         "anchor": "x",
         "domain": [
          0,
          1
         ],
         "title": {
          "text": "test_accuracy"
         }
        }
       }
      },
      "text/html": [
       "<div>                            <div id=\"91e2e979-7f4f-419b-8f82-795a37e7a9f6\" class=\"plotly-graph-div\" style=\"height:400px; width:1200px;\"></div>            <script type=\"text/javascript\">                require([\"plotly\"], function(Plotly) {                    window.PLOTLYENV=window.PLOTLYENV || {};                                    if (document.getElementById(\"91e2e979-7f4f-419b-8f82-795a37e7a9f6\")) {                    Plotly.newPlot(                        \"91e2e979-7f4f-419b-8f82-795a37e7a9f6\",                        [{\"customdata\":[[\"mobilenetv2_0.1_96_c3_o2_t3l1024.MV1\",\"0.1\",1298435,53810,54.0],[\"mobilenetv2_0.1_96_c3_o2_t6l1024.MV1\",\"0.1\",1617926,67766,54.0],[\"mobilenetv2_0.1_96_c3_o2_t5l1024.MV1\",\"0.1\",1511429,63114,54.0],[\"mobilenetv2_0.1_96_c3_o2_l5\",\"0.1\",1692166,77494,54.0],[\"mobilenetv2_0.1_96_c3_o2_t4l1024.MV1\",\"0.1\",1404932,58462,54.0],[\"mobilenetv2_0.1_96_c3_o2_t2l1024.MV1\",\"0.1\",1191938,49158,54.0],[\"mobilenetv2_0.1_96_c3_o2_t1l1024.MV1\",\"0.1\",1085441,44506,54.0],[\"mobilenetv2_0.1_96_c3_o2_t6l128.MV1\",\"0.1\",1358086,33718,54.0],[\"mobilenetv2_0.1_96_c3_o2_t6l256.MV1\",\"0.1\",1395206,38582,54.0],[\"mobilenetv2_0.1_96_c3_o2_t6l512.MV1\",\"0.1\",1469446,48310,54.0]],\"hovertemplate\":\"alpha=%{customdata[1]}<br>MACs=%{x}<br>test_accuracy=%{y}<br>run_name=%{customdata[0]}<br>macs_mltk=%{customdata[2]}<br>total_params=%{customdata[3]}<br>peak_memory_kb=%{customdata[4]}<extra></extra>\",\"legendgroup\":\"0.1\",\"marker\":{\"color\":\"#636efa\",\"symbol\":\"circle\"},\"mode\":\"markers\",\"name\":\"0.1\",\"orientation\":\"v\",\"showlegend\":true,\"x\":[\"1.298 M\",\"1.618 M\",\"1.511 M\",\"1.692 M\",\"1.405 M\",\"1.192 M\",\"1.085 M\",\"1.358 M\",\"1.395 M\",\"1.469 M\"],\"xaxis\":\"x\",\"y\":[0.0,0.0,0.0,0.0,0.0,0.7630210518836975,0.7487913966178894,0.0,0.0,0.0],\"yaxis\":\"y\",\"type\":\"scatter\"},{\"customdata\":[[\"mobilenetv2_0.2_96_c3_o2_t6l1024.MV1\",\"0.2\",3487946,163666,54.0],[\"mobilenetv2_0.2_96_c3_o2_t5l1024.MV1\",\"0.2\",3125075,148594,54.0],[\"mobilenetv2_0.2_96_c3_o2_t5l256.MV1\",\"0.2\",2681171,94834,54.0],[\"mobilenetv2_0.2_96_c3_o2_t5l128.MV1\",\"0.2\",2607187,85874,54.0],[\"mobilenetv2_0.2_96_c3_o2_t6l128.MV1\",\"0.2\",2970058,100946,54.0],[\"mobilenetv2_0.2_96_c3_o2_t6l256.MV1\",\"0.2\",3044042,109906,54.0],[\"mobilenetv2_0.2_96_c3_o2_t6l512.MV1\",\"0.2\",3192010,127826,54.0],[\"mobilenetv2_0.2_96_c3_o2_l5\",\"0.2\",3635914,181586,54.0],[\"mobilenetv2_0.2_96_c3_o2_t5l512.MV1\",\"0.2\",2829139,112754,54.0]],\"hovertemplate\":\"alpha=%{customdata[1]}<br>MACs=%{x}<br>test_accuracy=%{y}<br>run_name=%{customdata[0]}<br>macs_mltk=%{customdata[2]}<br>total_params=%{customdata[3]}<br>peak_memory_kb=%{customdata[4]}<extra></extra>\",\"legendgroup\":\"0.2\",\"marker\":{\"color\":\"#EF553B\",\"symbol\":\"circle\"},\"mode\":\"markers\",\"name\":\"0.2\",\"orientation\":\"v\",\"showlegend\":true,\"x\":[\"3.488 M\",\"3.125 M\",\"2.681 M\",\"2.607 M\",\"2.970 M\",\"3.044 M\",\"3.192 M\",\"3.636 M\",\"2.829 M\"],\"xaxis\":\"x\",\"y\":[0.0,0.0,0.0,0.0,0.8143013715744019,0.8157438635826111,0.0,0.0,0.0],\"yaxis\":\"y\",\"type\":\"scatter\"},{\"customdata\":[[\"mobilenetv2_0.25_96_c3_o2_t4l1024.MV1\",\"0.25\",3848000,181522,54.0],[\"mobilenetv2_0.25_96_c3_o2_t6l1024.MV1\",\"0.25\",5033696,227306,67.5],[\"mobilenetv2_0.25_96_c3_o2_t5l1024.MV1\",\"0.25\",4440848,204414,56.25],[\"mobilenetv2_0.25_96_c3_o2_t6l1024.GAP\",\"0.25\",5033696,227306,67.5],[\"mobilenetv2_0.25_96_c3_o2_l5\",\"0.25\",5218528,249322,67.5],[\"mobilenetv2_0.25_96_c3_o2_t3l1024.MV1\",\"0.25\",3255152,158630,54.0],[\"mobilenetv2_0.25_96_c3_o2_t5l512.MV1\",\"0.25\",4071184,160382,56.25],[\"mobilenetv2_0.25_96_c3_o2_t1l1024.MV1\",\"0.25\",2069456,112846,54.0],[\"mobilenetv2_0.25_96_c3_o2_t6l512.MV1\",\"0.25\",4664032,183274,67.5],[\"mobilenetv2_0.25_96_c3_o2_t6l256.MV1\",\"0.25\",4479200,161258,67.5],[\"mobilenetv2_0.25_96_c3_o2_t6l128.MV1\",\"0.25\",4386784,150250,67.5],[\"mobilenetv2_0.25_96_c3_o2_t5l128.MV1\",\"0.25\",3793936,127358,56.25],[\"mobilenetv2_0.25_96_c3_o2_t5l256.MV1\",\"0.25\",3886352,138366,56.25],[\"mobilenetv2_0.25_96_c3_o2_t2l1024.MV1\",\"0.25\",2662304,135738,54.0],[\"mobilenetv2_0.25_96_c3_o2_keras\",\"0.25\",6600352,251330,220.546875]],\"hovertemplate\":\"alpha=%{customdata[1]}<br>MACs=%{x}<br>test_accuracy=%{y}<br>run_name=%{customdata[0]}<br>macs_mltk=%{customdata[2]}<br>total_params=%{customdata[3]}<br>peak_memory_kb=%{customdata[4]}<extra></extra>\",\"legendgroup\":\"0.25\",\"marker\":{\"color\":\"#00cc96\",\"symbol\":\"circle\"},\"mode\":\"markers\",\"name\":\"0.25\",\"orientation\":\"v\",\"showlegend\":true,\"x\":[\"3.848 M\",\"5.034 M\",\"4.441 M\",\"5.034 M\",\"5.219 M\",\"3.255 M\",\"4.071 M\",\"2.069 M\",\"4.664 M\",\"4.479 M\",\"4.387 M\",\"3.794 M\",\"3.886 M\",\"2.662 M\",\"6.600 M\"],\"xaxis\":\"x\",\"y\":[0.8334397673606873,0.0,0.8335309624671936,0.0,0.0,0.0,0.0,0.0,0.8369059562683105,0.0,0.0,0.8321627378463745,0.0,0.0,0.0],\"yaxis\":\"y\",\"type\":\"scatter\"},{\"customdata\":[[\"mobilenetv2_0.35_96_c3_o2_keras\",\"0.35\",10656688,412770,220.546875],[\"mobilenetv2_0.35_96_c3_o2_l5\",\"0.35\",9008662,402934,84.375]],\"hovertemplate\":\"alpha=%{customdata[1]}<br>MACs=%{x}<br>test_accuracy=%{y}<br>run_name=%{customdata[0]}<br>macs_mltk=%{customdata[2]}<br>total_params=%{customdata[3]}<br>peak_memory_kb=%{customdata[4]}<extra></extra>\",\"legendgroup\":\"0.35\",\"marker\":{\"color\":\"#ab63fa\",\"symbol\":\"circle\"},\"mode\":\"markers\",\"name\":\"0.35\",\"orientation\":\"v\",\"showlegend\":true,\"x\":[\"10.657 M\",\"9.009 M\"],\"xaxis\":\"x\",\"y\":[0.0,0.0],\"yaxis\":\"y\",\"type\":\"scatter\"},{\"customdata\":[[\"mobilenetv2_0.5_96_c3_o2_l5\",\"0.5\",16125376,705346,135.0],[\"mobilenetv2_0.5_96_c3_o2_keras\",\"0.5\",17608000,708786,220.546875]],\"hovertemplate\":\"alpha=%{customdata[1]}<br>MACs=%{x}<br>test_accuracy=%{y}<br>run_name=%{customdata[0]}<br>macs_mltk=%{customdata[2]}<br>total_params=%{customdata[3]}<br>peak_memory_kb=%{customdata[4]}<extra></extra>\",\"legendgroup\":\"0.5\",\"marker\":{\"color\":\"#FFA15A\",\"symbol\":\"circle\"},\"mode\":\"markers\",\"name\":\"0.5\",\"orientation\":\"v\",\"showlegend\":true,\"x\":[\"16.125 M\",\"17.608 M\"],\"xaxis\":\"x\",\"y\":[0.0,0.0],\"yaxis\":\"y\",\"type\":\"scatter\"},{\"customdata\":[[\"mobilenetv2_1_96_c3_o2_l5\",\"1.0\",55011712,2260546,270.0],[\"mobilenetv2_1_96_c3_o2_keras\",\"1.0\",55011712,2260546,441.09375]],\"hovertemplate\":\"alpha=%{customdata[1]}<br>MACs=%{x}<br>test_accuracy=%{y}<br>run_name=%{customdata[0]}<br>macs_mltk=%{customdata[2]}<br>total_params=%{customdata[3]}<br>peak_memory_kb=%{customdata[4]}<extra></extra>\",\"legendgroup\":\"1.0\",\"marker\":{\"color\":\"#19d3f3\",\"symbol\":\"circle\"},\"mode\":\"markers\",\"name\":\"1.0\",\"orientation\":\"v\",\"showlegend\":true,\"x\":[\"55.012 M\",\"55.012 M\"],\"xaxis\":\"x\",\"y\":[0.0,0.0],\"yaxis\":\"y\",\"type\":\"scatter\"}],                        {\"template\":{\"data\":{\"histogram2dcontour\":[{\"type\":\"histogram2dcontour\",\"colorbar\":{\"outlinewidth\":0,\"ticks\":\"\"},\"colorscale\":[[0.0,\"#0d0887\"],[0.1111111111111111,\"#46039f\"],[0.2222222222222222,\"#7201a8\"],[0.3333333333333333,\"#9c179e\"],[0.4444444444444444,\"#bd3786\"],[0.5555555555555556,\"#d8576b\"],[0.6666666666666666,\"#ed7953\"],[0.7777777777777778,\"#fb9f3a\"],[0.8888888888888888,\"#fdca26\"],[1.0,\"#f0f921\"]]}],\"choropleth\":[{\"type\":\"choropleth\",\"colorbar\":{\"outlinewidth\":0,\"ticks\":\"\"}}],\"histogram2d\":[{\"type\":\"histogram2d\",\"colorbar\":{\"outlinewidth\":0,\"ticks\":\"\"},\"colorscale\":[[0.0,\"#0d0887\"],[0.1111111111111111,\"#46039f\"],[0.2222222222222222,\"#7201a8\"],[0.3333333333333333,\"#9c179e\"],[0.4444444444444444,\"#bd3786\"],[0.5555555555555556,\"#d8576b\"],[0.6666666666666666,\"#ed7953\"],[0.7777777777777778,\"#fb9f3a\"],[0.8888888888888888,\"#fdca26\"],[1.0,\"#f0f921\"]]}],\"heatmap\":[{\"type\":\"heatmap\",\"colorbar\":{\"outlinewidth\":0,\"ticks\":\"\"},\"colorscale\":[[0.0,\"#0d0887\"],[0.1111111111111111,\"#46039f\"],[0.2222222222222222,\"#7201a8\"],[0.3333333333333333,\"#9c179e\"],[0.4444444444444444,\"#bd3786\"],[0.5555555555555556,\"#d8576b\"],[0.6666666666666666,\"#ed7953\"],[0.7777777777777778,\"#fb9f3a\"],[0.8888888888888888,\"#fdca26\"],[1.0,\"#f0f921\"]]}],\"heatmapgl\":[{\"type\":\"heatmapgl\",\"colorbar\":{\"outlinewidth\":0,\"ticks\":\"\"},\"colorscale\":[[0.0,\"#0d0887\"],[0.1111111111111111,\"#46039f\"],[0.2222222222222222,\"#7201a8\"],[0.3333333333333333,\"#9c179e\"],[0.4444444444444444,\"#bd3786\"],[0.5555555555555556,\"#d8576b\"],[0.6666666666666666,\"#ed7953\"],[0.7777777777777778,\"#fb9f3a\"],[0.8888888888888888,\"#fdca26\"],[1.0,\"#f0f921\"]]}],\"contourcarpet\":[{\"type\":\"contourcarpet\",\"colorbar\":{\"outlinewidth\":0,\"ticks\":\"\"}}],\"contour\":[{\"type\":\"contour\",\"colorbar\":{\"outlinewidth\":0,\"ticks\":\"\"},\"colorscale\":[[0.0,\"#0d0887\"],[0.1111111111111111,\"#46039f\"],[0.2222222222222222,\"#7201a8\"],[0.3333333333333333,\"#9c179e\"],[0.4444444444444444,\"#bd3786\"],[0.5555555555555556,\"#d8576b\"],[0.6666666666666666,\"#ed7953\"],[0.7777777777777778,\"#fb9f3a\"],[0.8888888888888888,\"#fdca26\"],[1.0,\"#f0f921\"]]}],\"surface\":[{\"type\":\"surface\",\"colorbar\":{\"outlinewidth\":0,\"ticks\":\"\"},\"colorscale\":[[0.0,\"#0d0887\"],[0.1111111111111111,\"#46039f\"],[0.2222222222222222,\"#7201a8\"],[0.3333333333333333,\"#9c179e\"],[0.4444444444444444,\"#bd3786\"],[0.5555555555555556,\"#d8576b\"],[0.6666666666666666,\"#ed7953\"],[0.7777777777777778,\"#fb9f3a\"],[0.8888888888888888,\"#fdca26\"],[1.0,\"#f0f921\"]]}],\"mesh3d\":[{\"type\":\"mesh3d\",\"colorbar\":{\"outlinewidth\":0,\"ticks\":\"\"}}],\"scatter\":[{\"fillpattern\":{\"fillmode\":\"overlay\",\"size\":10,\"solidity\":0.2},\"type\":\"scatter\"}],\"parcoords\":[{\"type\":\"parcoords\",\"line\":{\"colorbar\":{\"outlinewidth\":0,\"ticks\":\"\"}}}],\"scatterpolargl\":[{\"type\":\"scatterpolargl\",\"marker\":{\"colorbar\":{\"outlinewidth\":0,\"ticks\":\"\"}}}],\"bar\":[{\"error_x\":{\"color\":\"#2a3f5f\"},\"error_y\":{\"color\":\"#2a3f5f\"},\"marker\":{\"line\":{\"color\":\"#E5ECF6\",\"width\":0.5},\"pattern\":{\"fillmode\":\"overlay\",\"size\":10,\"solidity\":0.2}},\"type\":\"bar\"}],\"scattergeo\":[{\"type\":\"scattergeo\",\"marker\":{\"colorbar\":{\"outlinewidth\":0,\"ticks\":\"\"}}}],\"scatterpolar\":[{\"type\":\"scatterpolar\",\"marker\":{\"colorbar\":{\"outlinewidth\":0,\"ticks\":\"\"}}}],\"histogram\":[{\"marker\":{\"pattern\":{\"fillmode\":\"overlay\",\"size\":10,\"solidity\":0.2}},\"type\":\"histogram\"}],\"scattergl\":[{\"type\":\"scattergl\",\"marker\":{\"colorbar\":{\"outlinewidth\":0,\"ticks\":\"\"}}}],\"scatter3d\":[{\"type\":\"scatter3d\",\"line\":{\"colorbar\":{\"outlinewidth\":0,\"ticks\":\"\"}},\"marker\":{\"colorbar\":{\"outlinewidth\":0,\"ticks\":\"\"}}}],\"scattermapbox\":[{\"type\":\"scattermapbox\",\"marker\":{\"colorbar\":{\"outlinewidth\":0,\"ticks\":\"\"}}}],\"scatterternary\":[{\"type\":\"scatterternary\",\"marker\":{\"colorbar\":{\"outlinewidth\":0,\"ticks\":\"\"}}}],\"scattercarpet\":[{\"type\":\"scattercarpet\",\"marker\":{\"colorbar\":{\"outlinewidth\":0,\"ticks\":\"\"}}}],\"carpet\":[{\"aaxis\":{\"endlinecolor\":\"#2a3f5f\",\"gridcolor\":\"white\",\"linecolor\":\"white\",\"minorgridcolor\":\"white\",\"startlinecolor\":\"#2a3f5f\"},\"baxis\":{\"endlinecolor\":\"#2a3f5f\",\"gridcolor\":\"white\",\"linecolor\":\"white\",\"minorgridcolor\":\"white\",\"startlinecolor\":\"#2a3f5f\"},\"type\":\"carpet\"}],\"table\":[{\"cells\":{\"fill\":{\"color\":\"#EBF0F8\"},\"line\":{\"color\":\"white\"}},\"header\":{\"fill\":{\"color\":\"#C8D4E3\"},\"line\":{\"color\":\"white\"}},\"type\":\"table\"}],\"barpolar\":[{\"marker\":{\"line\":{\"color\":\"#E5ECF6\",\"width\":0.5},\"pattern\":{\"fillmode\":\"overlay\",\"size\":10,\"solidity\":0.2}},\"type\":\"barpolar\"}],\"pie\":[{\"automargin\":true,\"type\":\"pie\"}]},\"layout\":{\"autotypenumbers\":\"strict\",\"colorway\":[\"#636efa\",\"#EF553B\",\"#00cc96\",\"#ab63fa\",\"#FFA15A\",\"#19d3f3\",\"#FF6692\",\"#B6E880\",\"#FF97FF\",\"#FECB52\"],\"font\":{\"color\":\"#2a3f5f\"},\"hovermode\":\"closest\",\"hoverlabel\":{\"align\":\"left\"},\"paper_bgcolor\":\"white\",\"plot_bgcolor\":\"#E5ECF6\",\"polar\":{\"bgcolor\":\"#E5ECF6\",\"angularaxis\":{\"gridcolor\":\"white\",\"linecolor\":\"white\",\"ticks\":\"\"},\"radialaxis\":{\"gridcolor\":\"white\",\"linecolor\":\"white\",\"ticks\":\"\"}},\"ternary\":{\"bgcolor\":\"#E5ECF6\",\"aaxis\":{\"gridcolor\":\"white\",\"linecolor\":\"white\",\"ticks\":\"\"},\"baxis\":{\"gridcolor\":\"white\",\"linecolor\":\"white\",\"ticks\":\"\"},\"caxis\":{\"gridcolor\":\"white\",\"linecolor\":\"white\",\"ticks\":\"\"}},\"coloraxis\":{\"colorbar\":{\"outlinewidth\":0,\"ticks\":\"\"}},\"colorscale\":{\"sequential\":[[0.0,\"#0d0887\"],[0.1111111111111111,\"#46039f\"],[0.2222222222222222,\"#7201a8\"],[0.3333333333333333,\"#9c179e\"],[0.4444444444444444,\"#bd3786\"],[0.5555555555555556,\"#d8576b\"],[0.6666666666666666,\"#ed7953\"],[0.7777777777777778,\"#fb9f3a\"],[0.8888888888888888,\"#fdca26\"],[1.0,\"#f0f921\"]],\"sequentialminus\":[[0.0,\"#0d0887\"],[0.1111111111111111,\"#46039f\"],[0.2222222222222222,\"#7201a8\"],[0.3333333333333333,\"#9c179e\"],[0.4444444444444444,\"#bd3786\"],[0.5555555555555556,\"#d8576b\"],[0.6666666666666666,\"#ed7953\"],[0.7777777777777778,\"#fb9f3a\"],[0.8888888888888888,\"#fdca26\"],[1.0,\"#f0f921\"]],\"diverging\":[[0,\"#8e0152\"],[0.1,\"#c51b7d\"],[0.2,\"#de77ae\"],[0.3,\"#f1b6da\"],[0.4,\"#fde0ef\"],[0.5,\"#f7f7f7\"],[0.6,\"#e6f5d0\"],[0.7,\"#b8e186\"],[0.8,\"#7fbc41\"],[0.9,\"#4d9221\"],[1,\"#276419\"]]},\"xaxis\":{\"gridcolor\":\"white\",\"linecolor\":\"white\",\"ticks\":\"\",\"title\":{\"standoff\":15},\"zerolinecolor\":\"white\",\"automargin\":true,\"zerolinewidth\":2},\"yaxis\":{\"gridcolor\":\"white\",\"linecolor\":\"white\",\"ticks\":\"\",\"title\":{\"standoff\":15},\"zerolinecolor\":\"white\",\"automargin\":true,\"zerolinewidth\":2},\"scene\":{\"xaxis\":{\"backgroundcolor\":\"#E5ECF6\",\"gridcolor\":\"white\",\"linecolor\":\"white\",\"showbackground\":true,\"ticks\":\"\",\"zerolinecolor\":\"white\",\"gridwidth\":2},\"yaxis\":{\"backgroundcolor\":\"#E5ECF6\",\"gridcolor\":\"white\",\"linecolor\":\"white\",\"showbackground\":true,\"ticks\":\"\",\"zerolinecolor\":\"white\",\"gridwidth\":2},\"zaxis\":{\"backgroundcolor\":\"#E5ECF6\",\"gridcolor\":\"white\",\"linecolor\":\"white\",\"showbackground\":true,\"ticks\":\"\",\"zerolinecolor\":\"white\",\"gridwidth\":2}},\"shapedefaults\":{\"line\":{\"color\":\"#2a3f5f\"}},\"annotationdefaults\":{\"arrowcolor\":\"#2a3f5f\",\"arrowhead\":0,\"arrowwidth\":1},\"geo\":{\"bgcolor\":\"white\",\"landcolor\":\"#E5ECF6\",\"subunitcolor\":\"white\",\"showland\":true,\"showlakes\":true,\"lakecolor\":\"white\"},\"title\":{\"x\":0.05},\"mapbox\":{\"style\":\"light\"}}},\"xaxis\":{\"anchor\":\"y\",\"domain\":[0.0,1.0],\"title\":{\"text\":\"MACs\"}},\"yaxis\":{\"anchor\":\"x\",\"domain\":[0.0,1.0],\"title\":{\"text\":\"test_accuracy\"}},\"legend\":{\"title\":{\"text\":\"alpha\"},\"tracegroupgap\":0},\"title\":{\"text\":\"Accuracy vs. MACs\"},\"showlegend\":true,\"width\":1200,\"height\":400},                        {\"responsive\": true}                    ).then(function(){\n",
       "                            \n",
       "var gd = document.getElementById('91e2e979-7f4f-419b-8f82-795a37e7a9f6');\n",
       "var x = new MutationObserver(function (mutations, observer) {{\n",
       "        var display = window.getComputedStyle(gd).display;\n",
       "        if (!display || display === 'none') {{\n",
       "            console.log([gd, 'removed!']);\n",
       "            Plotly.purge(gd);\n",
       "            observer.disconnect();\n",
       "        }}\n",
       "}});\n",
       "\n",
       "// Listen for the removal of the full notebook cells\n",
       "var notebookContainer = gd.closest('#notebook-container');\n",
       "if (notebookContainer) {{\n",
       "    x.observe(notebookContainer, {childList: true});\n",
       "}}\n",
       "\n",
       "// Listen for the clearing of the current output cell\n",
       "var outputEl = gd.closest('.output');\n",
       "if (outputEl) {{\n",
       "    x.observe(outputEl, {childList: true});\n",
       "}}\n",
       "\n",
       "                        })                };                });            </script>        </div>"
      ]
     },
     "metadata": {},
     "output_type": "display_data"
    }
   ],
   "source": [
    "### TODO: Clean up accuracy plots\n",
    "macs_accuracy_fig = px.scatter(\n",
    "    mbnv2_df,\n",
    "    x=\"MACs\",\n",
    "    y=\"test_accuracy\",\n",
    "    color=\"alpha\",\n",
    "    hover_data=[\"run_name\",\"alpha\", \"macs_mltk\", \"total_params\", \"peak_memory_kb\"],\n",
    "    #size=\"tflite_model_INT8_size_kb\",\n",
    "    #labels={\"total_params\": \"parameters\", \"OPS_INT8_mltk\": \"FLOPs\"},\n",
    "    title=f\"Accuracy vs. MACs\",\n",
    ")\n",
    "macs_accuracy_fig.update_layout(showlegend=True, width=1200, height=400)\n",
    "\n",
    "macs_accuracy_fig.show()"
   ]
  },
  {
   "attachments": {},
   "cell_type": "markdown",
   "metadata": {},
   "source": [
    "# Analysis of single architectures"
   ]
  },
  {
   "cell_type": "code",
   "execution_count": 75,
   "metadata": {},
   "outputs": [],
   "source": [
    "architecture = \"mobilenetv1_0.1_96_c3_o2_l2.MV1\""
   ]
  },
  {
   "cell_type": "code",
   "execution_count": 76,
   "metadata": {},
   "outputs": [
    {
     "data": {
      "text/plain": [
       "'f6keiwns'"
      ]
     },
     "execution_count": 76,
     "metadata": {},
     "output_type": "execute_result"
    }
   ],
   "source": [
    "run_id =  get_model_DB_run_id_from_architecture(architecture)\n",
    "run_id"
   ]
  },
  {
   "cell_type": "code",
   "execution_count": 77,
   "metadata": {},
   "outputs": [
    {
     "data": {
      "text/plain": [
       "'mobilenetv1_0.1_96_c3_o2_l2.MV1'"
      ]
     },
     "execution_count": 77,
     "metadata": {},
     "output_type": "execute_result"
    }
   ],
   "source": [
    "# get model name from run_id\n",
    "model_name = df.query(f\"id=='{run_id}'\")['architecture'].values[0]\n",
    "model_name"
   ]
  },
  {
   "attachments": {},
   "cell_type": "markdown",
   "metadata": {},
   "source": [
    "# Comparison of two models"
   ]
  },
  {
   "cell_type": "code",
   "execution_count": 78,
   "metadata": {},
   "outputs": [],
   "source": [
    "architecture_1 = \"mobilenetv2_0.25_96_c3_o2_l5\"\n",
    "run_id_1 = get_model_DB_run_id_from_architecture(architecture_1)\n",
    "architecture_2 = \"mobilenetv2_0.25_96_c3_o2_keras\"\n",
    "run_id_2 = get_model_DB_run_id_from_architecture(architecture_2)"
   ]
  },
  {
   "cell_type": "code",
   "execution_count": 79,
   "metadata": {},
   "outputs": [
    {
     "data": {
      "text/plain": [
       "'upj2bfr1'"
      ]
     },
     "execution_count": 79,
     "metadata": {},
     "output_type": "execute_result"
    }
   ],
   "source": [
    "run_id_2"
   ]
  },
  {
   "cell_type": "code",
   "execution_count": 80,
   "metadata": {},
   "outputs": [],
   "source": [
    "ENTITY = \"susbrock\"\n",
    "PROJECT =\"model_DB\"\n",
    "#run_id = \"27bt3quc\"\n",
    "table_name = \"tflite_layers_mltk\""
   ]
  },
  {
   "cell_type": "code",
   "execution_count": 81,
   "metadata": {},
   "outputs": [
    {
     "ename": "NameError",
     "evalue": "name 'get_wandb_table_as_df' is not defined",
     "output_type": "error",
     "traceback": [
      "\u001b[1;31m---------------------------------------------------------------------------\u001b[0m",
      "\u001b[1;31mNameError\u001b[0m                                 Traceback (most recent call last)",
      "Cell \u001b[1;32mIn [81], line 1\u001b[0m\n\u001b[1;32m----> 1\u001b[0m df_me \u001b[39m=\u001b[39m get_wandb_table_as_df(run_id_1, table_name)\n\u001b[0;32m      2\u001b[0m df_me\u001b[39m.\u001b[39mhead()\n",
      "\u001b[1;31mNameError\u001b[0m: name 'get_wandb_table_as_df' is not defined"
     ]
    }
   ],
   "source": [
    "df_me = get_wandb_table_as_df(run_id_1, table_name)\n",
    "df_me.head()"
   ]
  },
  {
   "cell_type": "code",
   "execution_count": null,
   "metadata": {},
   "outputs": [],
   "source": [
    "df_keras = get_wandb_table_as_df(run_id_2, table_name)\n",
    "df_keras.head()"
   ]
  },
  {
   "cell_type": "code",
   "execution_count": null,
   "metadata": {},
   "outputs": [],
   "source": [
    "macs_fig = px.bar(df_me, x=\"name\", y= \"macs\",\n",
    "                  text_auto=\".2s\",\n",
    "                  labels={\"name\" : \"layer\",\n",
    "                          \"macs\" : \"MACs\"},\n",
    "                     width=1200, height=600,\n",
    "    title=f\"MACs per layer - tflite {architecture_1}\")\n",
    "# tflite_fig.add_hline(y=256, line_width=3, line_dash=\"dash\", line_color=\"orange\", annotation_text=\"256 kB MCU constraint\", \n",
    "#               annotation_position=\"bottom right\")\n",
    "#peak_memory = peak_memory_df[\"RAM_b\"].max()\n",
    "#peak_mem_fig.add_hline(y=peak_memory, line_width=3, line_dash=\"dash\", line_color=\"red\", annotation_text=f\"{peak_memory} B peak activation\", \n",
    "#               annotation_position=\"top\")\n",
    "# tflite_fig.update_layout(yaxis_range=[0,300])\n",
    "macs_fig.update_traces(width=1)\n",
    "macs_fig.update_layout(showlegend=False)\n",
    "\n",
    "macs_fig.show()"
   ]
  },
  {
   "cell_type": "code",
   "execution_count": null,
   "metadata": {},
   "outputs": [],
   "source": [
    "\n",
    "\n",
    "# dict for the dataframes and their names\n",
    "dfs = {architecture_1 : df_me, architecture_2 : df_keras}\n",
    "\n",
    "# plot the data\n",
    "#fig = go.Figure(layout=dict(title=dict(text=\"MACs per layer\")))\n",
    "fig = go.Figure(layout_title_text=\"MACs per layer\")\n",
    "#fig = make_subplots(rows=2, cols=1, start_cell=\"bottom-left\")\n",
    "\n",
    "for i in dfs:\n",
    "    fig = fig.add_trace(go.Bar(x = dfs[i][\"index\"],\n",
    "                                   y = dfs[i][\"macs\"], \n",
    "                                   name = i))\n",
    "fig.show()"
   ]
  },
  {
   "cell_type": "code",
   "execution_count": null,
   "metadata": {},
   "outputs": [],
   "source": [
    "shufflenetv1_df = df.query(\"architecture in @shufflenetv1_list\").copy()\n",
    "shufflenetv1_df.sort_values(by=\"alpha\", ascending=True, inplace=True)\n",
    "shufflenetv1_df"
   ]
  },
  {
   "cell_type": "code",
   "execution_count": null,
   "metadata": {},
   "outputs": [],
   "source": [
    "#run_name = \"shufflenetv1_0.2_96_c3_o2_g3\""
   ]
  },
  {
   "cell_type": "code",
   "execution_count": null,
   "metadata": {},
   "outputs": [],
   "source": [
    "# for shufflenet v1 \n",
    "def extract_groups_from_name(architecture_name):\n",
    "\n",
    "    groups = int(architecture_name.split(\"_\")[-1].replace(\"g\", \"\"))\n",
    "    return groups"
   ]
  },
  {
   "cell_type": "code",
   "execution_count": null,
   "metadata": {},
   "outputs": [],
   "source": [
    "shufflenetv1_df[\"groups\"] = shufflenetv1_df[\"architecture\"].apply(extract_groups_from_name)\n",
    "shufflenetv1_df"
   ]
  },
  {
   "cell_type": "code",
   "execution_count": null,
   "metadata": {},
   "outputs": [],
   "source": [
    "def params_macs_alpha_groups_fig(df,model_name):\n",
    "    df[\"alpha\"] = df[\"alpha\"].astype(str)\n",
    "    df[\"groups\"] = df[\"groups\"].astype(str)\n",
    "    fig = px.scatter(\n",
    "        df,\n",
    "        x=\"total_params\",\n",
    "        y=\"macs_mltk\",\n",
    "        color=\"groups\",\n",
    "        hover_data=[\"alpha\",\"groups\", \"macs_mltk\", \"total_params\"],\n",
    "        symbol= df[\"alpha\"],\n",
    "        #size=\"tflite_model_INT8_size_kb\",\n",
    "        labels={\"total_params\": \"parameters\", \"macs_mltk\": \"MACs\"},\n",
    "        title=f\"MACs vs. total parameters - {model_name}\",\n",
    "    )\n",
    "    fig.add_hline(y=60000000, line_width=3, line_dash=\"dash\", line_color=\"red\", annotation_text=f\"60M MACs\", \n",
    "               annotation_position=\"top\")\n",
    "    fig.update_layout(showlegend=True, width=500, height=400)\n",
    "    \n",
    "    fig.show()\n",
    "    return fig"
   ]
  },
  {
   "cell_type": "code",
   "execution_count": null,
   "metadata": {},
   "outputs": [],
   "source": [
    "shufflev1_fig2 = params_macs_alpha_groups_fig(shufflenetv1_df, \"ShuffleNet V1\")"
   ]
  },
  {
   "cell_type": "code",
   "execution_count": null,
   "metadata": {},
   "outputs": [],
   "source": [
    "shufflev1_size_df = shufflenetv1_df[[\"architecture\", \n",
    "             \"peak_memory_kb\", \n",
    "             \"RAM_runtime_memory_size_kb_INT8_mltk\",\n",
    "             \"flash_model_size_kb_INT8_mltk\",\n",
    "             \"tflite_model_INT8_size_kb\"\n",
    "             ]].copy()"
   ]
  },
  {
   "cell_type": "code",
   "execution_count": 82,
   "metadata": {},
   "outputs": [
    {
     "ename": "NameError",
     "evalue": "name 'df_me' is not defined",
     "output_type": "error",
     "traceback": [
      "\u001b[1;31m---------------------------------------------------------------------------\u001b[0m",
      "\u001b[1;31mNameError\u001b[0m                                 Traceback (most recent call last)",
      "Cell \u001b[1;32mIn [82], line 3\u001b[0m\n\u001b[0;32m      1\u001b[0m fig \u001b[39m=\u001b[39m make_subplots(rows\u001b[39m=\u001b[39m\u001b[39m2\u001b[39m, cols\u001b[39m=\u001b[39m\u001b[39m1\u001b[39m, start_cell\u001b[39m=\u001b[39m\u001b[39m\"\u001b[39m\u001b[39mbottom-left\u001b[39m\u001b[39m\"\u001b[39m, column_widths\u001b[39m=\u001b[39m[\u001b[39m1400\u001b[39m],row_heights\u001b[39m=\u001b[39m[\u001b[39m0.5\u001b[39m, \u001b[39m0.5\u001b[39m], vertical_spacing\u001b[39m=\u001b[39m\u001b[39m0.3\u001b[39m,\n\u001b[0;32m      2\u001b[0m                     subplot_titles\u001b[39m=\u001b[39m[architecture_1, architecture_2])\n\u001b[1;32m----> 3\u001b[0m fig \u001b[39m=\u001b[39m fig\u001b[39m.\u001b[39madd_trace(go\u001b[39m.\u001b[39mBar(x \u001b[39m=\u001b[39m df_me[\u001b[39m\"\u001b[39m\u001b[39mname\u001b[39m\u001b[39m\"\u001b[39m],\n\u001b[0;32m      4\u001b[0m                                    y \u001b[39m=\u001b[39m df_me[\u001b[39m\"\u001b[39m\u001b[39mmacs\u001b[39m\u001b[39m\"\u001b[39m], \n\u001b[0;32m      5\u001b[0m                                    name \u001b[39m=\u001b[39m architecture_1,\n\u001b[0;32m      6\u001b[0m                                    \n\u001b[0;32m      7\u001b[0m                                    text\u001b[39m=\u001b[39mdf_me[\u001b[39m\"\u001b[39m\u001b[39mmacs\u001b[39m\u001b[39m\"\u001b[39m],\n\u001b[0;32m      8\u001b[0m                                    textposition\u001b[39m=\u001b[39m\u001b[39m'\u001b[39m\u001b[39mauto\u001b[39m\u001b[39m'\u001b[39m),\n\u001b[0;32m      9\u001b[0m                                    row\u001b[39m=\u001b[39m\u001b[39m1\u001b[39m, col\u001b[39m=\u001b[39m\u001b[39m1\u001b[39m)\n\u001b[0;32m     10\u001b[0m fig \u001b[39m=\u001b[39m fig\u001b[39m.\u001b[39madd_trace(go\u001b[39m.\u001b[39mBar(x \u001b[39m=\u001b[39m df_keras[\u001b[39m\"\u001b[39m\u001b[39mname\u001b[39m\u001b[39m\"\u001b[39m],\n\u001b[0;32m     11\u001b[0m                                    y \u001b[39m=\u001b[39m df_keras[\u001b[39m\"\u001b[39m\u001b[39mmacs\u001b[39m\u001b[39m\"\u001b[39m], \n\u001b[0;32m     12\u001b[0m                                    name \u001b[39m=\u001b[39m architecture_2),\n\u001b[0;32m     13\u001b[0m                                    row\u001b[39m=\u001b[39m\u001b[39m2\u001b[39m, col\u001b[39m=\u001b[39m\u001b[39m1\u001b[39m)\n\u001b[0;32m     15\u001b[0m fig\u001b[39m.\u001b[39mupdate_layout(\n\u001b[0;32m     16\u001b[0m     height \u001b[39m=\u001b[39m \u001b[39m1000\u001b[39m,\n\u001b[0;32m     17\u001b[0m     width \u001b[39m=\u001b[39m \u001b[39m1200\u001b[39m,\n\u001b[1;32m   (...)\u001b[0m\n\u001b[0;32m     30\u001b[0m     )\n\u001b[0;32m     31\u001b[0m )\n",
      "\u001b[1;31mNameError\u001b[0m: name 'df_me' is not defined"
     ]
    }
   ],
   "source": [
    "# fig = make_subplots(rows=2, cols=1, start_cell=\"bottom-left\", column_widths=[1400],row_heights=[0.5, 0.5], vertical_spacing=0.3,\n",
    "#                     subplot_titles=[architecture_1, architecture_2])\n",
    "# fig = fig.add_trace(go.Bar(x = df_me[\"name\"],\n",
    "#                                    y = df_me[\"macs\"], \n",
    "#                                    name = architecture_1,\n",
    "                                   \n",
    "#                                    text=df_me[\"macs\"],\n",
    "#                                    textposition='auto'),\n",
    "#                                    row=1, col=1)\n",
    "# fig = fig.add_trace(go.Bar(x = df_keras[\"name\"],\n",
    "#                                    y = df_keras[\"macs\"], \n",
    "#                                    name = architecture_2),\n",
    "#                                    row=2, col=1)\n",
    "\n",
    "# fig.update_layout(\n",
    "#     height = 1000,\n",
    "#     width = 1200,\n",
    "#     title=\"MACs per layer - tflite\",\n",
    "#     xaxis_title=\"layer name\",\n",
    "#     yaxis_title=\"MACs\",\n",
    "#     legend_title=\"architecture\",\n",
    "#     # font=dict(\n",
    "#     #     family=\"Courier New, monospace\",\n",
    "#     #     size=18,\n",
    "#     #     color=\"RebeccaPurple\"\n",
    "#     # )\n",
    "#     legend=dict(\n",
    "#     x=0,\n",
    "#     y=1.0\n",
    "#     )\n",
    "# )\n",
    "\n",
    "\n",
    "# fig.update_layout(showlegend=False)\n",
    "# fig.show()"
   ]
  },
  {
   "cell_type": "code",
   "execution_count": null,
   "metadata": {},
   "outputs": [],
   "source": [
    "ENTITY = \"susbrock\"\n",
    "PROJECT = \"model_DB\"\n",
    "run_id_3 = \"fbfsftzr\"\n",
    "table_name =\"Runorder\"\n",
    "\n",
    "api = wandb.Api()\n",
    "artifact = api.artifact(f'{ENTITY}/{PROJECT}/run-{run_id}-{table_name}:latest')\n",
    "artifact_dir = artifact.download()"
   ]
  },
  {
   "cell_type": "code",
   "execution_count": null,
   "metadata": {},
   "outputs": [],
   "source": [
    "def get_wandb_node_type_summary_df(run_id):\n",
    "    table_name = \"Nodetypesummary\"\n",
    "    api = wandb.Api()\n",
    "    artifact = api.artifact(f'{ENTITY}/{PROJECT}/run-{run_id}-{table_name}:latest')\n",
    "    artifact_dir = artifact.download()\n",
    "    table_path = Path(artifact_dir).joinpath(\"Node type summary.table.json\")\n",
    "    #print(f\"filepath {table_path}\")\n",
    "\n",
    "    with open(table_path) as file:\n",
    "        json_dict = json.load(file)\n",
    "        #print(json_dict)\n",
    "    df = pd.DataFrame(json_dict[\"data\"], columns=json_dict[\"columns\"])\n",
    "\n",
    "    return df"
   ]
  },
  {
   "cell_type": "code",
   "execution_count": null,
   "metadata": {},
   "outputs": [],
   "source": [
    "node_type_summary_df = get_wandb_node_type_summary_df(run_id)\n",
    "node_type_summary_df"
   ]
  },
  {
   "cell_type": "code",
   "execution_count": null,
   "metadata": {},
   "outputs": [],
   "source": [
    "peak_memory_df = get_wandb_table_as_df(run_id_3, \"peak_memory\")\n",
    "peak_memory_df.head()"
   ]
  },
  {
   "cell_type": "code",
   "execution_count": null,
   "metadata": {},
   "outputs": [],
   "source": [
    "RAM_df = peak_memory_df[[\"index\", \"name\", \"RAM_b\"]]\n",
    "RAM_df.head()"
   ]
  },
  {
   "cell_type": "code",
   "execution_count": null,
   "metadata": {},
   "outputs": [],
   "source": [
    "tensor_df = get_wandb_table_as_df(run_id_3, \"tensor_info\")\n",
    "tensor_df.drop(0, axis=0, inplace=True)\n",
    "tensor_df.reset_index(inplace=True)\n",
    "tensor_df.head()"
   ]
  },
  {
   "cell_type": "code",
   "execution_count": null,
   "metadata": {},
   "outputs": [],
   "source": [
    "size_df = tensor_df[[\"index\", \"name\", \"size_b\"]]\n",
    "size_df.head()"
   ]
  },
  {
   "cell_type": "code",
   "execution_count": null,
   "metadata": {},
   "outputs": [],
   "source": [
    "INT8_layers_df = get_wandb_table_as_df(run_id_3, \"tflite_INt8_layers_mltk\")\n",
    "INT8_layers_df.head()"
   ]
  },
  {
   "cell_type": "code",
   "execution_count": null,
   "metadata": {},
   "outputs": [],
   "source": [
    "macs_df = INT8_layers_df[[\"index\", \"name\", \"ops\", \"macs\"]]\n",
    "macs_df.head()"
   ]
  },
  {
   "cell_type": "code",
   "execution_count": null,
   "metadata": {},
   "outputs": [],
   "source": [
    "def get_wandb_run_order_df(run_id):\n",
    "    table_name = \"Runorder\"\n",
    "    api = wandb.Api()\n",
    "    artifact = api.artifact(f'{ENTITY}/{PROJECT}/run-{run_id}-{table_name}:latest')\n",
    "    artifact_dir = artifact.download()\n",
    "    table_path = Path(artifact_dir).joinpath(\"Run order.table.json\")\n",
    "    #print(f\"filepath {table_path}\")\n",
    "\n",
    "    with open(table_path) as file:\n",
    "        json_dict = json.load(file)\n",
    "        #print(json_dict)\n",
    "    df = pd.DataFrame(json_dict[\"data\"], columns=json_dict[\"columns\"])\n",
    "\n",
    "    return df"
   ]
  },
  {
   "cell_type": "code",
   "execution_count": null,
   "metadata": {},
   "outputs": [],
   "source": [
    "run_order_df = get_wandb_run_order_df(run_id_3)\n",
    "run_order_df.reset_index(inplace=True)\n",
    "run_order_df.head()"
   ]
  },
  {
   "cell_type": "code",
   "execution_count": null,
   "metadata": {},
   "outputs": [],
   "source": [
    "time_df = run_order_df[[\"index\", \"node type\", \"first\", \"avg ms\", \"%\"]]\n",
    "time_df.head()"
   ]
  },
  {
   "cell_type": "code",
   "execution_count": null,
   "metadata": {},
   "outputs": [],
   "source": [
    "combined_df = time_df.join(macs_df, on=\"index\", rsuffix=\"_time\")\n",
    "combined_df = combined_df.join(RAM_df, on=\"index\", rsuffix=\"_RAM\" )\n",
    "combined_df = combined_df.join(size_df, on=\"index\", rsuffix=\"_size\")\n",
    "combined_df.head()"
   ]
  },
  {
   "cell_type": "code",
   "execution_count": null,
   "metadata": {},
   "outputs": [],
   "source": [
    "combined_df[\"time_%\"] = (combined_df['avg ms'] / combined_df['avg ms'].sum()) * 100\n",
    "combined_df[\"RAM_%\"] = (combined_df['RAM_b'] / combined_df['RAM_b'].sum()) * 100\n",
    "combined_df[\"size_%\"] = (combined_df['size_b'] / combined_df['size_b'].sum()) * 100\n",
    "combined_df[\"ops_%\"] = (combined_df['ops'] / combined_df['ops'].sum()) * 100\n",
    "combined_df"
   ]
  },
  {
   "cell_type": "code",
   "execution_count": null,
   "metadata": {},
   "outputs": [],
   "source": [
    "### TODO: add parameters per layer\n",
    "### TODO: create a function for this fig\n",
    "\n",
    "trace1 = go.Bar(\n",
    "    x=combined_df[\"name\"],\n",
    "    y=combined_df[\"time_%\"],\n",
    "    name=\"time %\",\n",
    "    marker=dict(\n",
    "        color='grey'\n",
    "               )\n",
    ")\n",
    "trace2 = go.Scatter(\n",
    "    x=combined_df[\"name\"],\n",
    "    y=combined_df['RAM_%'],\n",
    "    name='RAM %',\n",
    "    #yaxis='y2',\n",
    "    marker_symbol='star',\n",
    "    marker_color=\"black\",\n",
    "    mode=\"markers+text\",\n",
    "    #text = \"Columns and elements to be displayed\"\n",
    "\n",
    ")\n",
    "\n",
    "trace3 = go.Scatter(\n",
    "    x=combined_df[\"name\"],\n",
    "    y=combined_df['ops_%'],\n",
    "    name='ops %',\n",
    "    #yaxis='y2',\n",
    "    marker_symbol='circle',\n",
    "    marker_color=\"blue\",\n",
    "    mode=\"markers+text\",\n",
    "    #text = \"Columns and elements to be displayed\"\n",
    "\n",
    ")\n",
    "\n",
    "trace4 = go.Scatter(\n",
    "    x=combined_df[\"name\"],\n",
    "    y=combined_df['size_%'],\n",
    "    name='size %',\n",
    "    #yaxis='y2',\n",
    "    marker_symbol='cross', \n",
    "    marker_color=\"orange\",\n",
    "    mode=\"markers+text\",\n",
    "    #text = \"Columns and elements to be displayed\"\n",
    "\n",
    ")\n",
    "\n",
    "fig= make_subplots()\n",
    "#fig = make_subplots(specs=[[{\"secondary_y\": True}]])\n",
    "fig.add_trace(trace1)\n",
    "#fig.add_trace(trace2,secondary_y=True)\n",
    "fig.add_trace(trace2)\n",
    "fig.add_trace(trace3)\n",
    "fig.add_trace(trace4)\n",
    "fig['layout'].update(height = 600, width = 1200, title =\"Percentage per layer based on complete model - shufflenetv2tiny_0.5_96_c3_o2_f24l1024\",xaxis=dict(\n",
    "      tickangle=-90\n",
    "    ))\n",
    "fig.show()"
   ]
  },
  {
   "cell_type": "code",
   "execution_count": null,
   "metadata": {},
   "outputs": [],
   "source": [
    "fig = px.bar(combined_df, x=combined_df['index'], y=combined_df['avg ms'])\n",
    "fig.add_scatter(x=combined_df[\"index\"], y=combined_df[\"RAM_b\"])\n",
    "fig.show()"
   ]
  },
  {
   "cell_type": "code",
   "execution_count": null,
   "metadata": {},
   "outputs": [],
   "source": [
    "trace1 = go.Bar(\n",
    "    x=combined_df[\"index\"],\n",
    "    y=combined_df[\"avg ms\"],\n",
    "    name=\"avg ms\",\n",
    "    marker=dict(\n",
    "        color='rgb(34,163,192)'\n",
    "               )\n",
    ")\n",
    "trace2 = go.Scatter(\n",
    "    x=combined_df[\"index\"],\n",
    "    y=combined_df['RAM_b'],\n",
    "    name='RAM',\n",
    "    yaxis='y2',\n",
    "    marker_symbol='circle',\n",
    "    mode=\"markers+text\",\n",
    "    #text = \"Columns and elements to be displayed\"\n",
    "\n",
    ")\n",
    "\n",
    "fig = make_subplots(specs=[[{\"secondary_y\": True}]])\n",
    "fig.add_trace(trace1)\n",
    "fig.add_trace(trace2,secondary_y=True)\n",
    "fig['layout'].update(height = 600, width = 1200, title =\"Test\",xaxis=dict(\n",
    "      tickangle=-90\n",
    "    ))\n",
    "fig.show()"
   ]
  },
  {
   "cell_type": "code",
   "execution_count": null,
   "metadata": {},
   "outputs": [],
   "source": [
    "\n",
    "# dict for the dataframes and their names\n",
    "dfs = {architecture_1 : run_order_df}\n",
    "\n",
    "\n",
    "fig = go.Figure(layout_title_text=\"average runtime in micro seconds per layer\")\n",
    "#fig = make_subplots(rows=2, cols=1, start_cell=\"bottom-left\")\n",
    "\n",
    "for i in dfs:\n",
    "    fig = fig.add_trace(go.Bar(x = dfs[i][\"index\"],\n",
    "                                   y = dfs[i][\"avg ms\"], \n",
    "                                   name = i,\n",
    "                                   hoverinfo=\"all\"\n",
    "                                   #hoverinfo=dfs[i][\"Name\"]\n",
    "                                   )\n",
    "                                   )\n",
    "            \n",
    "fig.show()"
   ]
  },
  {
   "cell_type": "code",
   "execution_count": null,
   "metadata": {},
   "outputs": [],
   "source": []
  }
 ],
 "metadata": {
  "kernelspec": {
   "display_name": "tiny_cnn_6",
   "language": "python",
   "name": "python3"
  },
  "language_info": {
   "codemirror_mode": {
    "name": "ipython",
    "version": 3
   },
   "file_extension": ".py",
   "mimetype": "text/x-python",
   "name": "python",
   "nbconvert_exporter": "python",
   "pygments_lexer": "ipython3",
   "version": "3.10.6"
  },
  "orig_nbformat": 4,
  "vscode": {
   "interpreter": {
    "hash": "0faa6c31b20b8f809b81d6d7d22a84ccd9f354666f54133d1793fa4c65539801"
   }
  }
 },
 "nbformat": 4,
 "nbformat_minor": 2
}
