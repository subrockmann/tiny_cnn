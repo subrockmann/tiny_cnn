{
 "cells": [
  {
   "cell_type": "code",
   "execution_count": 62,
   "metadata": {},
   "outputs": [
    {
     "name": "stdout",
     "output_type": "stream",
     "text": [
      "The autoreload extension is already loaded. To reload it, use:\n",
      "  %reload_ext autoreload\n"
     ]
    }
   ],
   "source": [
    "import pandas as pd \n",
    "import json\n",
    "from pathlib import Path\n",
    "\n",
    "import plotly.express as px\n",
    "import plotly.graph_objects as go\n",
    "from plotly.subplots import make_subplots\n",
    "#from plotly.offline import iplot\n",
    "\n",
    "# enable plotly in VS Studio Code\n",
    "import plotly.io as pio\n",
    "pio.renderers.default = \"plotly_mimetype+notebook\" \n",
    "\n",
    "# import workbench.config.config\n",
    "from workbench.config.config import initialize\n",
    "from workbench.utils.utils import create_filepaths\n",
    "from workbench.wandb import wandb_model_DB, get_model_DB_run_id_from_architecture, get_architecture_from_model_DB_run_id, get_wandb_table_as_df\n",
    "\n",
    "import wandb\n",
    "%load_ext autoreload\n",
    "\n"
   ]
  },
  {
   "cell_type": "code",
   "execution_count": 11,
   "metadata": {},
   "outputs": [],
   "source": [
    "%reload_ext autoreload\n",
    "%autoreload"
   ]
  },
  {
   "cell_type": "code",
   "execution_count": 3,
   "metadata": {},
   "outputs": [],
   "source": [
    "# Configure pandas to show all columns & rows\n",
    "pd.set_option('display.max_columns', None)\n",
    "#pd.set_option('display.max_rows', None)\n",
    "pd.set_option('display.max_colwidth', None)"
   ]
  },
  {
   "cell_type": "code",
   "execution_count": 4,
   "metadata": {},
   "outputs": [],
   "source": [
    "models_dir = initialize()"
   ]
  },
  {
   "cell_type": "code",
   "execution_count": 66,
   "metadata": {},
   "outputs": [
    {
     "name": "stdout",
     "output_type": "stream",
     "text": [
      "c:\\tiny_mlc\\tiny_cnn\\models\n"
     ]
    }
   ],
   "source": [
    "automated = False\n",
    "\n",
    "global model_name\n",
    "\n",
    "#model_name = \"mobilenetv3smallNSQ_0.25_96_c3_o2_se4l128.MV3\"\n",
    "model_name = \"mobilenetv1vvw_0.25_96_c3_o2_vvw\"\n",
    "\n",
    "\n",
    "\n",
    "models_path, models_summary_path, models_image_path, models_layer_df_path, models_tf_path, models_tflite_path, models_tflite_opt_path = create_filepaths(model_name)"
   ]
  },
  {
   "cell_type": "code",
   "execution_count": 67,
   "metadata": {},
   "outputs": [
    {
     "data": {
      "text/plain": [
       "WindowsPath('c:/tiny_mlc/tiny_cnn/models/mobilenetv1vvw_0.25_96_c3_o2_vvw/network_output/network_validate_report_INT8.txt')"
      ]
     },
     "execution_count": 67,
     "metadata": {},
     "output_type": "execute_result"
    }
   ],
   "source": [
    "models_stm32_benchmark_file = models_dir.joinpath(model_name, \"network_output\", \"network_validate_report.txt\")\n",
    "models_stm32_benchmark_file\n",
    "models_stm32_benchmark_file_INT8 = models_dir.joinpath(model_name, \"network_output\", \"network_validate_report_INT8.txt\")\n",
    "models_stm32_benchmark_file_INT8"
   ]
  },
  {
   "attachments": {},
   "cell_type": "markdown",
   "metadata": {},
   "source": [
    "# Helper functions"
   ]
  },
  {
   "cell_type": "code",
   "execution_count": 68,
   "metadata": {},
   "outputs": [],
   "source": [
    "def string_percent_to_float(x):\n",
    "    x = str(x).strip(\"%\")\n",
    "    return float(x)"
   ]
  },
  {
   "cell_type": "code",
   "execution_count": 69,
   "metadata": {},
   "outputs": [
    {
     "data": {
      "text/plain": [
       "'l679i489'"
      ]
     },
     "execution_count": 69,
     "metadata": {},
     "output_type": "execute_result"
    }
   ],
   "source": [
    "id = get_model_DB_run_id_from_architecture(model_name)\n",
    "id"
   ]
  },
  {
   "cell_type": "code",
   "execution_count": 70,
   "metadata": {},
   "outputs": [],
   "source": [
    "ENTITY = \"susbrock\"\n",
    "PROJECT =\"model_DB\"\n",
    "\n",
    "table_name = \"stm32_inference_int8\""
   ]
  },
  {
   "cell_type": "code",
   "execution_count": 71,
   "metadata": {},
   "outputs": [
    {
     "name": "stderr",
     "output_type": "stream",
     "text": [
      "\u001b[34m\u001b[1mwandb\u001b[0m:   1 of 1 files downloaded.  \n"
     ]
    },
    {
     "name": "stdout",
     "output_type": "stream",
     "text": [
      "filepath .\\artifacts\\run-l679i489-stm32_inference_int8-v0/stm32_inference_int8.table.json\n"
     ]
    },
    {
     "data": {
      "text/html": [
       "<div>\n",
       "<style scoped>\n",
       "    .dataframe tbody tr th:only-of-type {\n",
       "        vertical-align: middle;\n",
       "    }\n",
       "\n",
       "    .dataframe tbody tr th {\n",
       "        vertical-align: top;\n",
       "    }\n",
       "\n",
       "    .dataframe thead th {\n",
       "        text-align: right;\n",
       "    }\n",
       "</style>\n",
       "<table border=\"1\" class=\"dataframe\">\n",
       "  <thead>\n",
       "    <tr style=\"text-align: right;\">\n",
       "      <th></th>\n",
       "      <th>c_id</th>\n",
       "      <th>m_id</th>\n",
       "      <th>node_type</th>\n",
       "      <th>dur (ms)</th>\n",
       "      <th>%</th>\n",
       "      <th>counters</th>\n",
       "      <th>node_name</th>\n",
       "      <th>index</th>\n",
       "      <th>layer (type,original)</th>\n",
       "      <th>oshape</th>\n",
       "      <th>c_size</th>\n",
       "      <th>c_macc</th>\n",
       "      <th>c_type</th>\n",
       "      <th>macc</th>\n",
       "      <th>params</th>\n",
       "      <th>size</th>\n",
       "      <th>connected_to</th>\n",
       "      <th>layer_name</th>\n",
       "      <th>type</th>\n",
       "    </tr>\n",
       "  </thead>\n",
       "  <tbody>\n",
       "    <tr>\n",
       "      <th>0</th>\n",
       "      <td>0</td>\n",
       "      <td>0.0</td>\n",
       "      <td>NL (0x107)</td>\n",
       "      <td>0.291</td>\n",
       "      <td>0.4</td>\n",
       "      <td>62794.0</td>\n",
       "      <td>ai_node_0</td>\n",
       "      <td>1</td>\n",
       "      <td>serving_default_input_10 (Input, )</td>\n",
       "      <td>[b:1,h:96,w:96,c:3]</td>\n",
       "      <td></td>\n",
       "      <td>+55,296(+100.0%)</td>\n",
       "      <td>converter_oi8[0]</td>\n",
       "      <td>0</td>\n",
       "      <td>0</td>\n",
       "      <td>0</td>\n",
       "      <td>None</td>\n",
       "      <td>serving_default_input_10</td>\n",
       "      <td>Input,</td>\n",
       "    </tr>\n",
       "    <tr>\n",
       "      <th>1</th>\n",
       "      <td>None</td>\n",
       "      <td>0.1</td>\n",
       "      <td>None</td>\n",
       "      <td>NaN</td>\n",
       "      <td>NaN</td>\n",
       "      <td>NaN</td>\n",
       "      <td>None</td>\n",
       "      <td>2</td>\n",
       "      <td>conversion_0 (Conversion, QUANTIZE)</td>\n",
       "      <td>[b:1,h:96,w:96,c:3]</td>\n",
       "      <td></td>\n",
       "      <td>-55,296(-100.0%)</td>\n",
       "      <td></td>\n",
       "      <td>55296</td>\n",
       "      <td>0</td>\n",
       "      <td>0</td>\n",
       "      <td>serving_default_input_10</td>\n",
       "      <td>conversion_0</td>\n",
       "      <td>Conversion, QUANTIZE</td>\n",
       "    </tr>\n",
       "    <tr>\n",
       "      <th>2</th>\n",
       "      <td>1</td>\n",
       "      <td>1.0</td>\n",
       "      <td>Conv2dPool (0x109)</td>\n",
       "      <td>7.416</td>\n",
       "      <td>11.2</td>\n",
       "      <td>1601784.0</td>\n",
       "      <td>ai_node_1</td>\n",
       "      <td>3</td>\n",
       "      <td>conv2d_1 (Conv2D, CONV_2D)</td>\n",
       "      <td>[b:1,h:48,w:48,c:8]</td>\n",
       "      <td></td>\n",
       "      <td></td>\n",
       "      <td>optimized_conv2d_oi8[1]</td>\n",
       "      <td>497672</td>\n",
       "      <td>224</td>\n",
       "      <td>248</td>\n",
       "      <td>conversion_0</td>\n",
       "      <td>conv2d_1</td>\n",
       "      <td>Conv2D, CONV_2D</td>\n",
       "    </tr>\n",
       "    <tr>\n",
       "      <th>3</th>\n",
       "      <td>None</td>\n",
       "      <td>1.1</td>\n",
       "      <td>None</td>\n",
       "      <td>NaN</td>\n",
       "      <td>NaN</td>\n",
       "      <td>NaN</td>\n",
       "      <td>None</td>\n",
       "      <td>4</td>\n",
       "      <td>nl_1_nl (Nonlinearity, CONV_2D)</td>\n",
       "      <td>[b:1,h:48,w:48,c:8]</td>\n",
       "      <td></td>\n",
       "      <td>-18,432(-100.0%)</td>\n",
       "      <td></td>\n",
       "      <td>18432</td>\n",
       "      <td>0</td>\n",
       "      <td>0</td>\n",
       "      <td>conv2d_1</td>\n",
       "      <td>nl_1_nl</td>\n",
       "      <td>Nonlinearity, CONV_2D</td>\n",
       "    </tr>\n",
       "    <tr>\n",
       "      <th>4</th>\n",
       "      <td>2</td>\n",
       "      <td>2.0</td>\n",
       "      <td>Pad (0x116)</td>\n",
       "      <td>0.071</td>\n",
       "      <td>0.1</td>\n",
       "      <td>15426.0</td>\n",
       "      <td>ai_node_2</td>\n",
       "      <td>5</td>\n",
       "      <td>conv2d_2 (Conv2D, DEPTHWISE_CONV_2D)</td>\n",
       "      <td>[b:1,h:48,w:48,c:8]</td>\n",
       "      <td></td>\n",
       "      <td></td>\n",
       "      <td>pad_oi8/conv2d_oi8[2, 3]</td>\n",
       "      <td>165896</td>\n",
       "      <td>80</td>\n",
       "      <td>104</td>\n",
       "      <td>nl_1_nl</td>\n",
       "      <td>conv2d_2</td>\n",
       "      <td>Conv2D, DEPTHWISE_CONV_2D</td>\n",
       "    </tr>\n",
       "    <tr>\n",
       "      <th>...</th>\n",
       "      <td>...</td>\n",
       "      <td>...</td>\n",
       "      <td>...</td>\n",
       "      <td>...</td>\n",
       "      <td>...</td>\n",
       "      <td>...</td>\n",
       "      <td>...</td>\n",
       "      <td>...</td>\n",
       "      <td>...</td>\n",
       "      <td>...</td>\n",
       "      <td>...</td>\n",
       "      <td>...</td>\n",
       "      <td>...</td>\n",
       "      <td>...</td>\n",
       "      <td>...</td>\n",
       "      <td>...</td>\n",
       "      <td>...</td>\n",
       "      <td>...</td>\n",
       "      <td>...</td>\n",
       "    </tr>\n",
       "    <tr>\n",
       "      <th>70</th>\n",
       "      <td>None</td>\n",
       "      <td>29.0</td>\n",
       "      <td>None</td>\n",
       "      <td>NaN</td>\n",
       "      <td>NaN</td>\n",
       "      <td>NaN</td>\n",
       "      <td>None</td>\n",
       "      <td>58</td>\n",
       "      <td>reshape_29 (Reshape, RESHAPE)</td>\n",
       "      <td>[b:1,c:256]</td>\n",
       "      <td></td>\n",
       "      <td></td>\n",
       "      <td></td>\n",
       "      <td>0</td>\n",
       "      <td>0</td>\n",
       "      <td>0</td>\n",
       "      <td>pool_28</td>\n",
       "      <td>reshape_29</td>\n",
       "      <td>Reshape, RESHAPE</td>\n",
       "    </tr>\n",
       "    <tr>\n",
       "      <th>71</th>\n",
       "      <td>43</td>\n",
       "      <td>30.0</td>\n",
       "      <td>NL (0x107)</td>\n",
       "      <td>0.001</td>\n",
       "      <td>0.0</td>\n",
       "      <td>309.0</td>\n",
       "      <td>ai_node_43</td>\n",
       "      <td>59</td>\n",
       "      <td>dense_30 (Dense, FULLY_CONNECTED)</td>\n",
       "      <td>[b:1,c:2]</td>\n",
       "      <td>+8(+1.6%)</td>\n",
       "      <td>+6(+1.2%)</td>\n",
       "      <td>dense_oi8/converter_of32[42, 43]</td>\n",
       "      <td>512</td>\n",
       "      <td>512</td>\n",
       "      <td>512</td>\n",
       "      <td>reshape_29</td>\n",
       "      <td>dense_30</td>\n",
       "      <td>Dense, FULLY_CONNECTED</td>\n",
       "    </tr>\n",
       "    <tr>\n",
       "      <th>72</th>\n",
       "      <td>42</td>\n",
       "      <td>30.0</td>\n",
       "      <td>Dense (0x104)</td>\n",
       "      <td>0.015</td>\n",
       "      <td>0.0</td>\n",
       "      <td>3264.0</td>\n",
       "      <td>ai_node_42</td>\n",
       "      <td>59</td>\n",
       "      <td>dense_30 (Dense, FULLY_CONNECTED)</td>\n",
       "      <td>[b:1,c:2]</td>\n",
       "      <td>+8(+1.6%)</td>\n",
       "      <td>+6(+1.2%)</td>\n",
       "      <td>dense_oi8/converter_of32[42, 43]</td>\n",
       "      <td>512</td>\n",
       "      <td>512</td>\n",
       "      <td>512</td>\n",
       "      <td>reshape_29</td>\n",
       "      <td>dense_30</td>\n",
       "      <td>Dense, FULLY_CONNECTED</td>\n",
       "    </tr>\n",
       "    <tr>\n",
       "      <th>73</th>\n",
       "      <td>44</td>\n",
       "      <td>31.0</td>\n",
       "      <td>NL (0x107)</td>\n",
       "      <td>0.004</td>\n",
       "      <td>0.0</td>\n",
       "      <td>771.0</td>\n",
       "      <td>ai_node_44</td>\n",
       "      <td>60</td>\n",
       "      <td>nl_31 (Nonlinearity, SOFTMAX)</td>\n",
       "      <td>[b:1,c:2]</td>\n",
       "      <td></td>\n",
       "      <td>+4(+13.3%)</td>\n",
       "      <td>nl_of32/converter_ou8[o][44, 45]</td>\n",
       "      <td>30</td>\n",
       "      <td>0</td>\n",
       "      <td>0</td>\n",
       "      <td>dense_30</td>\n",
       "      <td>nl_31</td>\n",
       "      <td>Nonlinearity, SOFTMAX</td>\n",
       "    </tr>\n",
       "    <tr>\n",
       "      <th>74</th>\n",
       "      <td>45</td>\n",
       "      <td>31.0</td>\n",
       "      <td>NL (0x107)</td>\n",
       "      <td>0.002</td>\n",
       "      <td>0.0</td>\n",
       "      <td>538.0</td>\n",
       "      <td>ai_node_45</td>\n",
       "      <td>60</td>\n",
       "      <td>nl_31 (Nonlinearity, SOFTMAX)</td>\n",
       "      <td>[b:1,c:2]</td>\n",
       "      <td></td>\n",
       "      <td>+4(+13.3%)</td>\n",
       "      <td>nl_of32/converter_ou8[o][44, 45]</td>\n",
       "      <td>30</td>\n",
       "      <td>0</td>\n",
       "      <td>0</td>\n",
       "      <td>dense_30</td>\n",
       "      <td>nl_31</td>\n",
       "      <td>Nonlinearity, SOFTMAX</td>\n",
       "    </tr>\n",
       "  </tbody>\n",
       "</table>\n",
       "<p>75 rows × 19 columns</p>\n",
       "</div>"
      ],
      "text/plain": [
       "    c_id  m_id           node_type  dur (ms)     %   counters   node_name  \\\n",
       "0      0   0.0          NL (0x107)     0.291   0.4    62794.0   ai_node_0   \n",
       "1   None   0.1                None       NaN   NaN        NaN        None   \n",
       "2      1   1.0  Conv2dPool (0x109)     7.416  11.2  1601784.0   ai_node_1   \n",
       "3   None   1.1                None       NaN   NaN        NaN        None   \n",
       "4      2   2.0         Pad (0x116)     0.071   0.1    15426.0   ai_node_2   \n",
       "..   ...   ...                 ...       ...   ...        ...         ...   \n",
       "70  None  29.0                None       NaN   NaN        NaN        None   \n",
       "71    43  30.0          NL (0x107)     0.001   0.0      309.0  ai_node_43   \n",
       "72    42  30.0       Dense (0x104)     0.015   0.0     3264.0  ai_node_42   \n",
       "73    44  31.0          NL (0x107)     0.004   0.0      771.0  ai_node_44   \n",
       "74    45  31.0          NL (0x107)     0.002   0.0      538.0  ai_node_45   \n",
       "\n",
       "    index                 layer (type,original)               oshape  \\\n",
       "0       1    serving_default_input_10 (Input, )  [b:1,h:96,w:96,c:3]   \n",
       "1       2   conversion_0 (Conversion, QUANTIZE)  [b:1,h:96,w:96,c:3]   \n",
       "2       3            conv2d_1 (Conv2D, CONV_2D)  [b:1,h:48,w:48,c:8]   \n",
       "3       4       nl_1_nl (Nonlinearity, CONV_2D)  [b:1,h:48,w:48,c:8]   \n",
       "4       5  conv2d_2 (Conv2D, DEPTHWISE_CONV_2D)  [b:1,h:48,w:48,c:8]   \n",
       "..    ...                                   ...                  ...   \n",
       "70     58         reshape_29 (Reshape, RESHAPE)          [b:1,c:256]   \n",
       "71     59     dense_30 (Dense, FULLY_CONNECTED)            [b:1,c:2]   \n",
       "72     59     dense_30 (Dense, FULLY_CONNECTED)            [b:1,c:2]   \n",
       "73     60         nl_31 (Nonlinearity, SOFTMAX)            [b:1,c:2]   \n",
       "74     60         nl_31 (Nonlinearity, SOFTMAX)            [b:1,c:2]   \n",
       "\n",
       "       c_size            c_macc                            c_type    macc  \\\n",
       "0              +55,296(+100.0%)                  converter_oi8[0]       0   \n",
       "1              -55,296(-100.0%)                                     55296   \n",
       "2                                         optimized_conv2d_oi8[1]  497672   \n",
       "3              -18,432(-100.0%)                                     18432   \n",
       "4                                        pad_oi8/conv2d_oi8[2, 3]  165896   \n",
       "..        ...               ...                               ...     ...   \n",
       "70                                                                      0   \n",
       "71  +8(+1.6%)         +6(+1.2%)  dense_oi8/converter_of32[42, 43]     512   \n",
       "72  +8(+1.6%)         +6(+1.2%)  dense_oi8/converter_of32[42, 43]     512   \n",
       "73                   +4(+13.3%)  nl_of32/converter_ou8[o][44, 45]      30   \n",
       "74                   +4(+13.3%)  nl_of32/converter_ou8[o][44, 45]      30   \n",
       "\n",
       "    params  size              connected_to                layer_name  \\\n",
       "0        0     0                      None  serving_default_input_10   \n",
       "1        0     0  serving_default_input_10              conversion_0   \n",
       "2      224   248              conversion_0                  conv2d_1   \n",
       "3        0     0                  conv2d_1                   nl_1_nl   \n",
       "4       80   104                   nl_1_nl                  conv2d_2   \n",
       "..     ...   ...                       ...                       ...   \n",
       "70       0     0                   pool_28                reshape_29   \n",
       "71     512   512                reshape_29                  dense_30   \n",
       "72     512   512                reshape_29                  dense_30   \n",
       "73       0     0                  dense_30                     nl_31   \n",
       "74       0     0                  dense_30                     nl_31   \n",
       "\n",
       "                         type  \n",
       "0                     Input,   \n",
       "1        Conversion, QUANTIZE  \n",
       "2             Conv2D, CONV_2D  \n",
       "3       Nonlinearity, CONV_2D  \n",
       "4   Conv2D, DEPTHWISE_CONV_2D  \n",
       "..                        ...  \n",
       "70           Reshape, RESHAPE  \n",
       "71     Dense, FULLY_CONNECTED  \n",
       "72     Dense, FULLY_CONNECTED  \n",
       "73      Nonlinearity, SOFTMAX  \n",
       "74      Nonlinearity, SOFTMAX  \n",
       "\n",
       "[75 rows x 19 columns]"
      ]
     },
     "execution_count": 71,
     "metadata": {},
     "output_type": "execute_result"
    }
   ],
   "source": [
    "df = get_wandb_table_as_df(id, table_name, entity=ENTITY, project=PROJECT)\n",
    "df"
   ]
  },
  {
   "cell_type": "code",
   "execution_count": 72,
   "metadata": {},
   "outputs": [
    {
     "data": {
      "text/html": [
       "<div>\n",
       "<style scoped>\n",
       "    .dataframe tbody tr th:only-of-type {\n",
       "        vertical-align: middle;\n",
       "    }\n",
       "\n",
       "    .dataframe tbody tr th {\n",
       "        vertical-align: top;\n",
       "    }\n",
       "\n",
       "    .dataframe thead th {\n",
       "        text-align: right;\n",
       "    }\n",
       "</style>\n",
       "<table border=\"1\" class=\"dataframe\">\n",
       "  <thead>\n",
       "    <tr style=\"text-align: right;\">\n",
       "      <th></th>\n",
       "      <th>c_id</th>\n",
       "      <th>m_id</th>\n",
       "      <th>node_type</th>\n",
       "      <th>dur (ms)</th>\n",
       "      <th>%</th>\n",
       "      <th>counters</th>\n",
       "      <th>node_name</th>\n",
       "      <th>index</th>\n",
       "      <th>layer (type,original)</th>\n",
       "      <th>oshape</th>\n",
       "      <th>c_size</th>\n",
       "      <th>c_macc</th>\n",
       "      <th>c_type</th>\n",
       "      <th>macc</th>\n",
       "      <th>params</th>\n",
       "      <th>size</th>\n",
       "      <th>connected_to</th>\n",
       "      <th>layer_name</th>\n",
       "      <th>type</th>\n",
       "      <th>macs_per_ms</th>\n",
       "    </tr>\n",
       "  </thead>\n",
       "  <tbody>\n",
       "    <tr>\n",
       "      <th>0</th>\n",
       "      <td>0</td>\n",
       "      <td>0.0</td>\n",
       "      <td>NL (0x107)</td>\n",
       "      <td>0.291</td>\n",
       "      <td>0.4</td>\n",
       "      <td>62794.0</td>\n",
       "      <td>ai_node_0</td>\n",
       "      <td>1</td>\n",
       "      <td>serving_default_input_10 (Input, )</td>\n",
       "      <td>[b:1,h:96,w:96,c:3]</td>\n",
       "      <td></td>\n",
       "      <td>+55,296(+100.0%)</td>\n",
       "      <td>converter_oi8[0]</td>\n",
       "      <td>0</td>\n",
       "      <td>0</td>\n",
       "      <td>0</td>\n",
       "      <td>None</td>\n",
       "      <td>serving_default_input_10</td>\n",
       "      <td>Input,</td>\n",
       "      <td>0.000000e+00</td>\n",
       "    </tr>\n",
       "    <tr>\n",
       "      <th>1</th>\n",
       "      <td>None</td>\n",
       "      <td>0.1</td>\n",
       "      <td>None</td>\n",
       "      <td>NaN</td>\n",
       "      <td>NaN</td>\n",
       "      <td>NaN</td>\n",
       "      <td>None</td>\n",
       "      <td>2</td>\n",
       "      <td>conversion_0 (Conversion, QUANTIZE)</td>\n",
       "      <td>[b:1,h:96,w:96,c:3]</td>\n",
       "      <td></td>\n",
       "      <td>-55,296(-100.0%)</td>\n",
       "      <td></td>\n",
       "      <td>55296</td>\n",
       "      <td>0</td>\n",
       "      <td>0</td>\n",
       "      <td>serving_default_input_10</td>\n",
       "      <td>conversion_0</td>\n",
       "      <td>Conversion, QUANTIZE</td>\n",
       "      <td>NaN</td>\n",
       "    </tr>\n",
       "    <tr>\n",
       "      <th>2</th>\n",
       "      <td>1</td>\n",
       "      <td>1.0</td>\n",
       "      <td>Conv2dPool (0x109)</td>\n",
       "      <td>7.416</td>\n",
       "      <td>11.2</td>\n",
       "      <td>1601784.0</td>\n",
       "      <td>ai_node_1</td>\n",
       "      <td>3</td>\n",
       "      <td>conv2d_1 (Conv2D, CONV_2D)</td>\n",
       "      <td>[b:1,h:48,w:48,c:8]</td>\n",
       "      <td></td>\n",
       "      <td></td>\n",
       "      <td>optimized_conv2d_oi8[1]</td>\n",
       "      <td>497672</td>\n",
       "      <td>224</td>\n",
       "      <td>248</td>\n",
       "      <td>conversion_0</td>\n",
       "      <td>conv2d_1</td>\n",
       "      <td>Conv2D, CONV_2D</td>\n",
       "      <td>6.710787e+04</td>\n",
       "    </tr>\n",
       "    <tr>\n",
       "      <th>3</th>\n",
       "      <td>None</td>\n",
       "      <td>1.1</td>\n",
       "      <td>None</td>\n",
       "      <td>NaN</td>\n",
       "      <td>NaN</td>\n",
       "      <td>NaN</td>\n",
       "      <td>None</td>\n",
       "      <td>4</td>\n",
       "      <td>nl_1_nl (Nonlinearity, CONV_2D)</td>\n",
       "      <td>[b:1,h:48,w:48,c:8]</td>\n",
       "      <td></td>\n",
       "      <td>-18,432(-100.0%)</td>\n",
       "      <td></td>\n",
       "      <td>18432</td>\n",
       "      <td>0</td>\n",
       "      <td>0</td>\n",
       "      <td>conv2d_1</td>\n",
       "      <td>nl_1_nl</td>\n",
       "      <td>Nonlinearity, CONV_2D</td>\n",
       "      <td>NaN</td>\n",
       "    </tr>\n",
       "    <tr>\n",
       "      <th>4</th>\n",
       "      <td>2</td>\n",
       "      <td>2.0</td>\n",
       "      <td>Pad (0x116)</td>\n",
       "      <td>0.071</td>\n",
       "      <td>0.1</td>\n",
       "      <td>15426.0</td>\n",
       "      <td>ai_node_2</td>\n",
       "      <td>5</td>\n",
       "      <td>conv2d_2 (Conv2D, DEPTHWISE_CONV_2D)</td>\n",
       "      <td>[b:1,h:48,w:48,c:8]</td>\n",
       "      <td></td>\n",
       "      <td></td>\n",
       "      <td>pad_oi8/conv2d_oi8[2, 3]</td>\n",
       "      <td>165896</td>\n",
       "      <td>80</td>\n",
       "      <td>104</td>\n",
       "      <td>nl_1_nl</td>\n",
       "      <td>conv2d_2</td>\n",
       "      <td>Conv2D, DEPTHWISE_CONV_2D</td>\n",
       "      <td>2.336563e+06</td>\n",
       "    </tr>\n",
       "    <tr>\n",
       "      <th>...</th>\n",
       "      <td>...</td>\n",
       "      <td>...</td>\n",
       "      <td>...</td>\n",
       "      <td>...</td>\n",
       "      <td>...</td>\n",
       "      <td>...</td>\n",
       "      <td>...</td>\n",
       "      <td>...</td>\n",
       "      <td>...</td>\n",
       "      <td>...</td>\n",
       "      <td>...</td>\n",
       "      <td>...</td>\n",
       "      <td>...</td>\n",
       "      <td>...</td>\n",
       "      <td>...</td>\n",
       "      <td>...</td>\n",
       "      <td>...</td>\n",
       "      <td>...</td>\n",
       "      <td>...</td>\n",
       "      <td>...</td>\n",
       "    </tr>\n",
       "    <tr>\n",
       "      <th>70</th>\n",
       "      <td>None</td>\n",
       "      <td>29.0</td>\n",
       "      <td>None</td>\n",
       "      <td>NaN</td>\n",
       "      <td>NaN</td>\n",
       "      <td>NaN</td>\n",
       "      <td>None</td>\n",
       "      <td>58</td>\n",
       "      <td>reshape_29 (Reshape, RESHAPE)</td>\n",
       "      <td>[b:1,c:256]</td>\n",
       "      <td></td>\n",
       "      <td></td>\n",
       "      <td></td>\n",
       "      <td>0</td>\n",
       "      <td>0</td>\n",
       "      <td>0</td>\n",
       "      <td>pool_28</td>\n",
       "      <td>reshape_29</td>\n",
       "      <td>Reshape, RESHAPE</td>\n",
       "      <td>NaN</td>\n",
       "    </tr>\n",
       "    <tr>\n",
       "      <th>71</th>\n",
       "      <td>43</td>\n",
       "      <td>30.0</td>\n",
       "      <td>NL (0x107)</td>\n",
       "      <td>0.001</td>\n",
       "      <td>0.0</td>\n",
       "      <td>309.0</td>\n",
       "      <td>ai_node_43</td>\n",
       "      <td>59</td>\n",
       "      <td>dense_30 (Dense, FULLY_CONNECTED)</td>\n",
       "      <td>[b:1,c:2]</td>\n",
       "      <td>+8(+1.6%)</td>\n",
       "      <td>+6(+1.2%)</td>\n",
       "      <td>dense_oi8/converter_of32[42, 43]</td>\n",
       "      <td>512</td>\n",
       "      <td>512</td>\n",
       "      <td>512</td>\n",
       "      <td>reshape_29</td>\n",
       "      <td>dense_30</td>\n",
       "      <td>Dense, FULLY_CONNECTED</td>\n",
       "      <td>5.120000e+05</td>\n",
       "    </tr>\n",
       "    <tr>\n",
       "      <th>72</th>\n",
       "      <td>42</td>\n",
       "      <td>30.0</td>\n",
       "      <td>Dense (0x104)</td>\n",
       "      <td>0.015</td>\n",
       "      <td>0.0</td>\n",
       "      <td>3264.0</td>\n",
       "      <td>ai_node_42</td>\n",
       "      <td>59</td>\n",
       "      <td>dense_30 (Dense, FULLY_CONNECTED)</td>\n",
       "      <td>[b:1,c:2]</td>\n",
       "      <td>+8(+1.6%)</td>\n",
       "      <td>+6(+1.2%)</td>\n",
       "      <td>dense_oi8/converter_of32[42, 43]</td>\n",
       "      <td>512</td>\n",
       "      <td>512</td>\n",
       "      <td>512</td>\n",
       "      <td>reshape_29</td>\n",
       "      <td>dense_30</td>\n",
       "      <td>Dense, FULLY_CONNECTED</td>\n",
       "      <td>3.413333e+04</td>\n",
       "    </tr>\n",
       "    <tr>\n",
       "      <th>73</th>\n",
       "      <td>44</td>\n",
       "      <td>31.0</td>\n",
       "      <td>NL (0x107)</td>\n",
       "      <td>0.004</td>\n",
       "      <td>0.0</td>\n",
       "      <td>771.0</td>\n",
       "      <td>ai_node_44</td>\n",
       "      <td>60</td>\n",
       "      <td>nl_31 (Nonlinearity, SOFTMAX)</td>\n",
       "      <td>[b:1,c:2]</td>\n",
       "      <td></td>\n",
       "      <td>+4(+13.3%)</td>\n",
       "      <td>nl_of32/converter_ou8[o][44, 45]</td>\n",
       "      <td>30</td>\n",
       "      <td>0</td>\n",
       "      <td>0</td>\n",
       "      <td>dense_30</td>\n",
       "      <td>nl_31</td>\n",
       "      <td>Nonlinearity, SOFTMAX</td>\n",
       "      <td>7.500000e+03</td>\n",
       "    </tr>\n",
       "    <tr>\n",
       "      <th>74</th>\n",
       "      <td>45</td>\n",
       "      <td>31.0</td>\n",
       "      <td>NL (0x107)</td>\n",
       "      <td>0.002</td>\n",
       "      <td>0.0</td>\n",
       "      <td>538.0</td>\n",
       "      <td>ai_node_45</td>\n",
       "      <td>60</td>\n",
       "      <td>nl_31 (Nonlinearity, SOFTMAX)</td>\n",
       "      <td>[b:1,c:2]</td>\n",
       "      <td></td>\n",
       "      <td>+4(+13.3%)</td>\n",
       "      <td>nl_of32/converter_ou8[o][44, 45]</td>\n",
       "      <td>30</td>\n",
       "      <td>0</td>\n",
       "      <td>0</td>\n",
       "      <td>dense_30</td>\n",
       "      <td>nl_31</td>\n",
       "      <td>Nonlinearity, SOFTMAX</td>\n",
       "      <td>1.500000e+04</td>\n",
       "    </tr>\n",
       "  </tbody>\n",
       "</table>\n",
       "<p>75 rows × 20 columns</p>\n",
       "</div>"
      ],
      "text/plain": [
       "    c_id  m_id           node_type  dur (ms)     %   counters   node_name  \\\n",
       "0      0   0.0          NL (0x107)     0.291   0.4    62794.0   ai_node_0   \n",
       "1   None   0.1                None       NaN   NaN        NaN        None   \n",
       "2      1   1.0  Conv2dPool (0x109)     7.416  11.2  1601784.0   ai_node_1   \n",
       "3   None   1.1                None       NaN   NaN        NaN        None   \n",
       "4      2   2.0         Pad (0x116)     0.071   0.1    15426.0   ai_node_2   \n",
       "..   ...   ...                 ...       ...   ...        ...         ...   \n",
       "70  None  29.0                None       NaN   NaN        NaN        None   \n",
       "71    43  30.0          NL (0x107)     0.001   0.0      309.0  ai_node_43   \n",
       "72    42  30.0       Dense (0x104)     0.015   0.0     3264.0  ai_node_42   \n",
       "73    44  31.0          NL (0x107)     0.004   0.0      771.0  ai_node_44   \n",
       "74    45  31.0          NL (0x107)     0.002   0.0      538.0  ai_node_45   \n",
       "\n",
       "    index                 layer (type,original)               oshape  \\\n",
       "0       1    serving_default_input_10 (Input, )  [b:1,h:96,w:96,c:3]   \n",
       "1       2   conversion_0 (Conversion, QUANTIZE)  [b:1,h:96,w:96,c:3]   \n",
       "2       3            conv2d_1 (Conv2D, CONV_2D)  [b:1,h:48,w:48,c:8]   \n",
       "3       4       nl_1_nl (Nonlinearity, CONV_2D)  [b:1,h:48,w:48,c:8]   \n",
       "4       5  conv2d_2 (Conv2D, DEPTHWISE_CONV_2D)  [b:1,h:48,w:48,c:8]   \n",
       "..    ...                                   ...                  ...   \n",
       "70     58         reshape_29 (Reshape, RESHAPE)          [b:1,c:256]   \n",
       "71     59     dense_30 (Dense, FULLY_CONNECTED)            [b:1,c:2]   \n",
       "72     59     dense_30 (Dense, FULLY_CONNECTED)            [b:1,c:2]   \n",
       "73     60         nl_31 (Nonlinearity, SOFTMAX)            [b:1,c:2]   \n",
       "74     60         nl_31 (Nonlinearity, SOFTMAX)            [b:1,c:2]   \n",
       "\n",
       "       c_size            c_macc                            c_type    macc  \\\n",
       "0              +55,296(+100.0%)                  converter_oi8[0]       0   \n",
       "1              -55,296(-100.0%)                                     55296   \n",
       "2                                         optimized_conv2d_oi8[1]  497672   \n",
       "3              -18,432(-100.0%)                                     18432   \n",
       "4                                        pad_oi8/conv2d_oi8[2, 3]  165896   \n",
       "..        ...               ...                               ...     ...   \n",
       "70                                                                      0   \n",
       "71  +8(+1.6%)         +6(+1.2%)  dense_oi8/converter_of32[42, 43]     512   \n",
       "72  +8(+1.6%)         +6(+1.2%)  dense_oi8/converter_of32[42, 43]     512   \n",
       "73                   +4(+13.3%)  nl_of32/converter_ou8[o][44, 45]      30   \n",
       "74                   +4(+13.3%)  nl_of32/converter_ou8[o][44, 45]      30   \n",
       "\n",
       "    params  size              connected_to                layer_name  \\\n",
       "0        0     0                      None  serving_default_input_10   \n",
       "1        0     0  serving_default_input_10              conversion_0   \n",
       "2      224   248              conversion_0                  conv2d_1   \n",
       "3        0     0                  conv2d_1                   nl_1_nl   \n",
       "4       80   104                   nl_1_nl                  conv2d_2   \n",
       "..     ...   ...                       ...                       ...   \n",
       "70       0     0                   pool_28                reshape_29   \n",
       "71     512   512                reshape_29                  dense_30   \n",
       "72     512   512                reshape_29                  dense_30   \n",
       "73       0     0                  dense_30                     nl_31   \n",
       "74       0     0                  dense_30                     nl_31   \n",
       "\n",
       "                         type   macs_per_ms  \n",
       "0                     Input,   0.000000e+00  \n",
       "1        Conversion, QUANTIZE           NaN  \n",
       "2             Conv2D, CONV_2D  6.710787e+04  \n",
       "3       Nonlinearity, CONV_2D           NaN  \n",
       "4   Conv2D, DEPTHWISE_CONV_2D  2.336563e+06  \n",
       "..                        ...           ...  \n",
       "70           Reshape, RESHAPE           NaN  \n",
       "71     Dense, FULLY_CONNECTED  5.120000e+05  \n",
       "72     Dense, FULLY_CONNECTED  3.413333e+04  \n",
       "73      Nonlinearity, SOFTMAX  7.500000e+03  \n",
       "74      Nonlinearity, SOFTMAX  1.500000e+04  \n",
       "\n",
       "[75 rows x 20 columns]"
      ]
     },
     "execution_count": 72,
     "metadata": {},
     "output_type": "execute_result"
    }
   ],
   "source": [
    "df[\"macs_per_ms\"]= df[\"macc\"]/ df[\"dur (ms)\"]\n",
    "df"
   ]
  },
  {
   "cell_type": "code",
   "execution_count": 73,
   "metadata": {},
   "outputs": [
    {
     "name": "stderr",
     "output_type": "stream",
     "text": [
      "C:\\Users\\Susanne\\AppData\\Local\\Temp\\ipykernel_23812\\2232791523.py:1: FutureWarning:\n",
      "\n",
      "The default value of numeric_only in DataFrameGroupBy.sum is deprecated. In a future version, numeric_only will default to False. Either specify numeric_only or select only columns which should be valid for the function.\n",
      "\n"
     ]
    },
    {
     "data": {
      "text/html": [
       "<div>\n",
       "<style scoped>\n",
       "    .dataframe tbody tr th:only-of-type {\n",
       "        vertical-align: middle;\n",
       "    }\n",
       "\n",
       "    .dataframe tbody tr th {\n",
       "        vertical-align: top;\n",
       "    }\n",
       "\n",
       "    .dataframe thead th {\n",
       "        text-align: right;\n",
       "    }\n",
       "</style>\n",
       "<table border=\"1\" class=\"dataframe\">\n",
       "  <thead>\n",
       "    <tr style=\"text-align: right;\">\n",
       "      <th></th>\n",
       "      <th>m_id</th>\n",
       "      <th>dur (ms)</th>\n",
       "      <th>%</th>\n",
       "      <th>counters</th>\n",
       "      <th>index</th>\n",
       "      <th>macc</th>\n",
       "      <th>params</th>\n",
       "      <th>size</th>\n",
       "      <th>macs_per_ms</th>\n",
       "    </tr>\n",
       "    <tr>\n",
       "      <th>type</th>\n",
       "      <th></th>\n",
       "      <th></th>\n",
       "      <th></th>\n",
       "      <th></th>\n",
       "      <th></th>\n",
       "      <th></th>\n",
       "      <th></th>\n",
       "      <th></th>\n",
       "      <th></th>\n",
       "    </tr>\n",
       "  </thead>\n",
       "  <tbody>\n",
       "    <tr>\n",
       "      <th>Conv2D, CONV_2D</th>\n",
       "      <td>196.0</td>\n",
       "      <td>47.382</td>\n",
       "      <td>71.3</td>\n",
       "      <td>10233870.0</td>\n",
       "      <td>406</td>\n",
       "      <td>6692312</td>\n",
       "      <td>197936</td>\n",
       "      <td>202424</td>\n",
       "      <td>2.112592e+06</td>\n",
       "    </tr>\n",
       "    <tr>\n",
       "      <th>Conv2D, DEPTHWISE_CONV_2D</th>\n",
       "      <td>364.0</td>\n",
       "      <td>18.483</td>\n",
       "      <td>28.0</td>\n",
       "      <td>3993064.0</td>\n",
       "      <td>754</td>\n",
       "      <td>1599152</td>\n",
       "      <td>24800</td>\n",
       "      <td>32240</td>\n",
       "      <td>2.177871e+07</td>\n",
       "    </tr>\n",
       "    <tr>\n",
       "      <th>Conversion, QUANTIZE</th>\n",
       "      <td>0.1</td>\n",
       "      <td>0.000</td>\n",
       "      <td>0.0</td>\n",
       "      <td>0.0</td>\n",
       "      <td>2</td>\n",
       "      <td>55296</td>\n",
       "      <td>0</td>\n",
       "      <td>0</td>\n",
       "      <td>0.000000e+00</td>\n",
       "    </tr>\n",
       "    <tr>\n",
       "      <th>Dense, FULLY_CONNECTED</th>\n",
       "      <td>60.0</td>\n",
       "      <td>0.016</td>\n",
       "      <td>0.0</td>\n",
       "      <td>3573.0</td>\n",
       "      <td>118</td>\n",
       "      <td>1024</td>\n",
       "      <td>1024</td>\n",
       "      <td>1024</td>\n",
       "      <td>5.461333e+05</td>\n",
       "    </tr>\n",
       "    <tr>\n",
       "      <th>Input,</th>\n",
       "      <td>0.0</td>\n",
       "      <td>0.291</td>\n",
       "      <td>0.4</td>\n",
       "      <td>62794.0</td>\n",
       "      <td>1</td>\n",
       "      <td>0</td>\n",
       "      <td>0</td>\n",
       "      <td>0</td>\n",
       "      <td>0.000000e+00</td>\n",
       "    </tr>\n",
       "    <tr>\n",
       "      <th>Nonlinearity, CONV_2D</th>\n",
       "      <td>197.4</td>\n",
       "      <td>0.000</td>\n",
       "      <td>0.0</td>\n",
       "      <td>0.0</td>\n",
       "      <td>420</td>\n",
       "      <td>142848</td>\n",
       "      <td>0</td>\n",
       "      <td>0</td>\n",
       "      <td>0.000000e+00</td>\n",
       "    </tr>\n",
       "    <tr>\n",
       "      <th>Nonlinearity, DEPTHWISE_CONV_2D</th>\n",
       "      <td>183.3</td>\n",
       "      <td>0.000</td>\n",
       "      <td>0.0</td>\n",
       "      <td>0.0</td>\n",
       "      <td>390</td>\n",
       "      <td>88704</td>\n",
       "      <td>0</td>\n",
       "      <td>0</td>\n",
       "      <td>0.000000e+00</td>\n",
       "    </tr>\n",
       "    <tr>\n",
       "      <th>Nonlinearity, SOFTMAX</th>\n",
       "      <td>62.0</td>\n",
       "      <td>0.006</td>\n",
       "      <td>0.0</td>\n",
       "      <td>1309.0</td>\n",
       "      <td>120</td>\n",
       "      <td>60</td>\n",
       "      <td>0</td>\n",
       "      <td>0</td>\n",
       "      <td>2.250000e+04</td>\n",
       "    </tr>\n",
       "    <tr>\n",
       "      <th>Pool, AVERAGE_POOL_2D</th>\n",
       "      <td>28.0</td>\n",
       "      <td>0.181</td>\n",
       "      <td>0.3</td>\n",
       "      <td>39124.0</td>\n",
       "      <td>57</td>\n",
       "      <td>2304</td>\n",
       "      <td>0</td>\n",
       "      <td>0</td>\n",
       "      <td>1.272928e+04</td>\n",
       "    </tr>\n",
       "    <tr>\n",
       "      <th>Reshape, RESHAPE</th>\n",
       "      <td>29.0</td>\n",
       "      <td>0.000</td>\n",
       "      <td>0.0</td>\n",
       "      <td>0.0</td>\n",
       "      <td>58</td>\n",
       "      <td>0</td>\n",
       "      <td>0</td>\n",
       "      <td>0</td>\n",
       "      <td>0.000000e+00</td>\n",
       "    </tr>\n",
       "  </tbody>\n",
       "</table>\n",
       "</div>"
      ],
      "text/plain": [
       "                                  m_id  dur (ms)     %    counters  index  \\\n",
       "type                                                                        \n",
       "Conv2D, CONV_2D                  196.0    47.382  71.3  10233870.0    406   \n",
       "Conv2D, DEPTHWISE_CONV_2D        364.0    18.483  28.0   3993064.0    754   \n",
       "Conversion, QUANTIZE               0.1     0.000   0.0         0.0      2   \n",
       "Dense, FULLY_CONNECTED            60.0     0.016   0.0      3573.0    118   \n",
       "Input,                             0.0     0.291   0.4     62794.0      1   \n",
       "Nonlinearity, CONV_2D            197.4     0.000   0.0         0.0    420   \n",
       "Nonlinearity, DEPTHWISE_CONV_2D  183.3     0.000   0.0         0.0    390   \n",
       "Nonlinearity, SOFTMAX             62.0     0.006   0.0      1309.0    120   \n",
       "Pool, AVERAGE_POOL_2D             28.0     0.181   0.3     39124.0     57   \n",
       "Reshape, RESHAPE                  29.0     0.000   0.0         0.0     58   \n",
       "\n",
       "                                    macc  params    size   macs_per_ms  \n",
       "type                                                                    \n",
       "Conv2D, CONV_2D                  6692312  197936  202424  2.112592e+06  \n",
       "Conv2D, DEPTHWISE_CONV_2D        1599152   24800   32240  2.177871e+07  \n",
       "Conversion, QUANTIZE               55296       0       0  0.000000e+00  \n",
       "Dense, FULLY_CONNECTED              1024    1024    1024  5.461333e+05  \n",
       "Input,                                 0       0       0  0.000000e+00  \n",
       "Nonlinearity, CONV_2D             142848       0       0  0.000000e+00  \n",
       "Nonlinearity, DEPTHWISE_CONV_2D    88704       0       0  0.000000e+00  \n",
       "Nonlinearity, SOFTMAX                 60       0       0  2.250000e+04  \n",
       "Pool, AVERAGE_POOL_2D               2304       0       0  1.272928e+04  \n",
       "Reshape, RESHAPE                       0       0       0  0.000000e+00  "
      ]
     },
     "execution_count": 73,
     "metadata": {},
     "output_type": "execute_result"
    }
   ],
   "source": [
    "summary_df = df.groupby(\"type\").aggregate(\"sum\")\n",
    "summary_df"
   ]
  },
  {
   "cell_type": "code",
   "execution_count": 84,
   "metadata": {},
   "outputs": [
    {
     "data": {
      "text/html": [
       "<div>\n",
       "<style scoped>\n",
       "    .dataframe tbody tr th:only-of-type {\n",
       "        vertical-align: middle;\n",
       "    }\n",
       "\n",
       "    .dataframe tbody tr th {\n",
       "        vertical-align: top;\n",
       "    }\n",
       "\n",
       "    .dataframe thead th {\n",
       "        text-align: right;\n",
       "    }\n",
       "</style>\n",
       "<table border=\"1\" class=\"dataframe\">\n",
       "  <thead>\n",
       "    <tr style=\"text-align: right;\">\n",
       "      <th></th>\n",
       "      <th>m_id</th>\n",
       "      <th>dur (ms)</th>\n",
       "      <th>%</th>\n",
       "      <th>counters</th>\n",
       "      <th>index</th>\n",
       "      <th>macc</th>\n",
       "      <th>params</th>\n",
       "      <th>size</th>\n",
       "      <th>macs_per_ms</th>\n",
       "      <th>macc %</th>\n",
       "      <th>params %</th>\n",
       "      <th>duration %</th>\n",
       "      <th>throughput</th>\n",
       "    </tr>\n",
       "    <tr>\n",
       "      <th>type</th>\n",
       "      <th></th>\n",
       "      <th></th>\n",
       "      <th></th>\n",
       "      <th></th>\n",
       "      <th></th>\n",
       "      <th></th>\n",
       "      <th></th>\n",
       "      <th></th>\n",
       "      <th></th>\n",
       "      <th></th>\n",
       "      <th></th>\n",
       "      <th></th>\n",
       "      <th></th>\n",
       "    </tr>\n",
       "  </thead>\n",
       "  <tbody>\n",
       "    <tr>\n",
       "      <th>Conv2D, CONV_2D</th>\n",
       "      <td>196.0</td>\n",
       "      <td>47.382</td>\n",
       "      <td>71.3</td>\n",
       "      <td>10233870.0</td>\n",
       "      <td>406</td>\n",
       "      <td>6692312</td>\n",
       "      <td>197936</td>\n",
       "      <td>202424</td>\n",
       "      <td>2.112592e+06</td>\n",
       "      <td>77.983523</td>\n",
       "      <td>88.459063</td>\n",
       "      <td>71.402523</td>\n",
       "      <td>1.412417e+05</td>\n",
       "    </tr>\n",
       "    <tr>\n",
       "      <th>Conv2D, DEPTHWISE_CONV_2D</th>\n",
       "      <td>364.0</td>\n",
       "      <td>18.483</td>\n",
       "      <td>28.0</td>\n",
       "      <td>3993064.0</td>\n",
       "      <td>754</td>\n",
       "      <td>1599152</td>\n",
       "      <td>24800</td>\n",
       "      <td>32240</td>\n",
       "      <td>2.177871e+07</td>\n",
       "      <td>18.634443</td>\n",
       "      <td>11.083304</td>\n",
       "      <td>27.853042</td>\n",
       "      <td>8.652015e+04</td>\n",
       "    </tr>\n",
       "    <tr>\n",
       "      <th>Conversion, QUANTIZE</th>\n",
       "      <td>0.1</td>\n",
       "      <td>0.000</td>\n",
       "      <td>0.0</td>\n",
       "      <td>0.0</td>\n",
       "      <td>2</td>\n",
       "      <td>55296</td>\n",
       "      <td>0</td>\n",
       "      <td>0</td>\n",
       "      <td>0.000000e+00</td>\n",
       "      <td>0.644348</td>\n",
       "      <td>0.000000</td>\n",
       "      <td>0.000000</td>\n",
       "      <td>inf</td>\n",
       "    </tr>\n",
       "    <tr>\n",
       "      <th>Dense, FULLY_CONNECTED</th>\n",
       "      <td>60.0</td>\n",
       "      <td>0.016</td>\n",
       "      <td>0.0</td>\n",
       "      <td>3573.0</td>\n",
       "      <td>118</td>\n",
       "      <td>1024</td>\n",
       "      <td>1024</td>\n",
       "      <td>1024</td>\n",
       "      <td>5.461333e+05</td>\n",
       "      <td>0.011932</td>\n",
       "      <td>0.457633</td>\n",
       "      <td>0.024111</td>\n",
       "      <td>6.400000e+04</td>\n",
       "    </tr>\n",
       "    <tr>\n",
       "      <th>Input,</th>\n",
       "      <td>0.0</td>\n",
       "      <td>0.291</td>\n",
       "      <td>0.4</td>\n",
       "      <td>62794.0</td>\n",
       "      <td>1</td>\n",
       "      <td>0</td>\n",
       "      <td>0</td>\n",
       "      <td>0</td>\n",
       "      <td>0.000000e+00</td>\n",
       "      <td>0.000000</td>\n",
       "      <td>0.000000</td>\n",
       "      <td>0.438524</td>\n",
       "      <td>0.000000e+00</td>\n",
       "    </tr>\n",
       "    <tr>\n",
       "      <th>Nonlinearity, CONV_2D</th>\n",
       "      <td>197.4</td>\n",
       "      <td>0.000</td>\n",
       "      <td>0.0</td>\n",
       "      <td>0.0</td>\n",
       "      <td>420</td>\n",
       "      <td>142848</td>\n",
       "      <td>0</td>\n",
       "      <td>0</td>\n",
       "      <td>0.000000e+00</td>\n",
       "      <td>1.664565</td>\n",
       "      <td>0.000000</td>\n",
       "      <td>0.000000</td>\n",
       "      <td>inf</td>\n",
       "    </tr>\n",
       "    <tr>\n",
       "      <th>Nonlinearity, DEPTHWISE_CONV_2D</th>\n",
       "      <td>183.3</td>\n",
       "      <td>0.000</td>\n",
       "      <td>0.0</td>\n",
       "      <td>0.0</td>\n",
       "      <td>390</td>\n",
       "      <td>88704</td>\n",
       "      <td>0</td>\n",
       "      <td>0</td>\n",
       "      <td>0.000000e+00</td>\n",
       "      <td>1.033641</td>\n",
       "      <td>0.000000</td>\n",
       "      <td>0.000000</td>\n",
       "      <td>inf</td>\n",
       "    </tr>\n",
       "    <tr>\n",
       "      <th>Nonlinearity, SOFTMAX</th>\n",
       "      <td>62.0</td>\n",
       "      <td>0.006</td>\n",
       "      <td>0.0</td>\n",
       "      <td>1309.0</td>\n",
       "      <td>120</td>\n",
       "      <td>60</td>\n",
       "      <td>0</td>\n",
       "      <td>0</td>\n",
       "      <td>2.250000e+04</td>\n",
       "      <td>0.000699</td>\n",
       "      <td>0.000000</td>\n",
       "      <td>0.009042</td>\n",
       "      <td>1.000000e+04</td>\n",
       "    </tr>\n",
       "    <tr>\n",
       "      <th>Pool, AVERAGE_POOL_2D</th>\n",
       "      <td>28.0</td>\n",
       "      <td>0.181</td>\n",
       "      <td>0.3</td>\n",
       "      <td>39124.0</td>\n",
       "      <td>57</td>\n",
       "      <td>2304</td>\n",
       "      <td>0</td>\n",
       "      <td>0</td>\n",
       "      <td>1.272928e+04</td>\n",
       "      <td>0.026848</td>\n",
       "      <td>0.000000</td>\n",
       "      <td>0.272759</td>\n",
       "      <td>1.272928e+04</td>\n",
       "    </tr>\n",
       "    <tr>\n",
       "      <th>Reshape, RESHAPE</th>\n",
       "      <td>29.0</td>\n",
       "      <td>0.000</td>\n",
       "      <td>0.0</td>\n",
       "      <td>0.0</td>\n",
       "      <td>58</td>\n",
       "      <td>0</td>\n",
       "      <td>0</td>\n",
       "      <td>0</td>\n",
       "      <td>0.000000e+00</td>\n",
       "      <td>0.000000</td>\n",
       "      <td>0.000000</td>\n",
       "      <td>0.000000</td>\n",
       "      <td>NaN</td>\n",
       "    </tr>\n",
       "  </tbody>\n",
       "</table>\n",
       "</div>"
      ],
      "text/plain": [
       "                                  m_id  dur (ms)     %    counters  index  \\\n",
       "type                                                                        \n",
       "Conv2D, CONV_2D                  196.0    47.382  71.3  10233870.0    406   \n",
       "Conv2D, DEPTHWISE_CONV_2D        364.0    18.483  28.0   3993064.0    754   \n",
       "Conversion, QUANTIZE               0.1     0.000   0.0         0.0      2   \n",
       "Dense, FULLY_CONNECTED            60.0     0.016   0.0      3573.0    118   \n",
       "Input,                             0.0     0.291   0.4     62794.0      1   \n",
       "Nonlinearity, CONV_2D            197.4     0.000   0.0         0.0    420   \n",
       "Nonlinearity, DEPTHWISE_CONV_2D  183.3     0.000   0.0         0.0    390   \n",
       "Nonlinearity, SOFTMAX             62.0     0.006   0.0      1309.0    120   \n",
       "Pool, AVERAGE_POOL_2D             28.0     0.181   0.3     39124.0     57   \n",
       "Reshape, RESHAPE                  29.0     0.000   0.0         0.0     58   \n",
       "\n",
       "                                    macc  params    size   macs_per_ms  \\\n",
       "type                                                                     \n",
       "Conv2D, CONV_2D                  6692312  197936  202424  2.112592e+06   \n",
       "Conv2D, DEPTHWISE_CONV_2D        1599152   24800   32240  2.177871e+07   \n",
       "Conversion, QUANTIZE               55296       0       0  0.000000e+00   \n",
       "Dense, FULLY_CONNECTED              1024    1024    1024  5.461333e+05   \n",
       "Input,                                 0       0       0  0.000000e+00   \n",
       "Nonlinearity, CONV_2D             142848       0       0  0.000000e+00   \n",
       "Nonlinearity, DEPTHWISE_CONV_2D    88704       0       0  0.000000e+00   \n",
       "Nonlinearity, SOFTMAX                 60       0       0  2.250000e+04   \n",
       "Pool, AVERAGE_POOL_2D               2304       0       0  1.272928e+04   \n",
       "Reshape, RESHAPE                       0       0       0  0.000000e+00   \n",
       "\n",
       "                                    macc %   params %  duration %  \\\n",
       "type                                                                \n",
       "Conv2D, CONV_2D                  77.983523  88.459063   71.402523   \n",
       "Conv2D, DEPTHWISE_CONV_2D        18.634443  11.083304   27.853042   \n",
       "Conversion, QUANTIZE              0.644348   0.000000    0.000000   \n",
       "Dense, FULLY_CONNECTED            0.011932   0.457633    0.024111   \n",
       "Input,                            0.000000   0.000000    0.438524   \n",
       "Nonlinearity, CONV_2D             1.664565   0.000000    0.000000   \n",
       "Nonlinearity, DEPTHWISE_CONV_2D   1.033641   0.000000    0.000000   \n",
       "Nonlinearity, SOFTMAX             0.000699   0.000000    0.009042   \n",
       "Pool, AVERAGE_POOL_2D             0.026848   0.000000    0.272759   \n",
       "Reshape, RESHAPE                  0.000000   0.000000    0.000000   \n",
       "\n",
       "                                   throughput  \n",
       "type                                           \n",
       "Conv2D, CONV_2D                  1.412417e+05  \n",
       "Conv2D, DEPTHWISE_CONV_2D        8.652015e+04  \n",
       "Conversion, QUANTIZE                      inf  \n",
       "Dense, FULLY_CONNECTED           6.400000e+04  \n",
       "Input,                           0.000000e+00  \n",
       "Nonlinearity, CONV_2D                     inf  \n",
       "Nonlinearity, DEPTHWISE_CONV_2D           inf  \n",
       "Nonlinearity, SOFTMAX            1.000000e+04  \n",
       "Pool, AVERAGE_POOL_2D            1.272928e+04  \n",
       "Reshape, RESHAPE                          NaN  "
      ]
     },
     "execution_count": 84,
     "metadata": {},
     "output_type": "execute_result"
    }
   ],
   "source": [
    "summary_df[\"macc %\"] = (summary_df['macc'] / summary_df['macc'].sum()) * 100\n",
    "summary_df[\"params %\"] = (summary_df['params'] / summary_df['params'].sum()) * 100\n",
    "summary_df[\"duration %\"] = (summary_df['dur (ms)'] / summary_df['dur (ms)'].sum()) * 100\n",
    "summary_df[\"throughput\"] = (summary_df['macc'] / summary_df['dur (ms)']) \n",
    "summary_df"
   ]
  },
  {
   "cell_type": "code",
   "execution_count": 74,
   "metadata": {},
   "outputs": [
    {
     "data": {
      "text/plain": [
       "66.35900000000001"
      ]
     },
     "execution_count": 74,
     "metadata": {},
     "output_type": "execute_result"
    }
   ],
   "source": [
    "duration = df[\"dur (ms)\"].sum()\n",
    "duration"
   ]
  },
  {
   "cell_type": "code",
   "execution_count": 75,
   "metadata": {},
   "outputs": [
    {
     "data": {
      "text/plain": [
       "100.0"
      ]
     },
     "execution_count": 75,
     "metadata": {},
     "output_type": "execute_result"
    }
   ],
   "source": [
    "percentage = df[\"%\"].sum()\n",
    "percentage"
   ]
  },
  {
   "cell_type": "code",
   "execution_count": 76,
   "metadata": {},
   "outputs": [
    {
     "data": {
      "text/plain": [
       "223760"
      ]
     },
     "execution_count": 76,
     "metadata": {},
     "output_type": "execute_result"
    }
   ],
   "source": [
    "params = df[\"params\"].sum()\n",
    "params"
   ]
  },
  {
   "attachments": {},
   "cell_type": "markdown",
   "metadata": {},
   "source": [
    "# Visualizations"
   ]
  },
  {
   "cell_type": "code",
   "execution_count": 77,
   "metadata": {},
   "outputs": [],
   "source": [
    "def create_long_df(df):\n",
    "    long_df = df[[\"_index\", \n",
    "             \"dur (ms)\", \n",
    "             \"macc\",\n",
    "             #\"params\",\n",
    "             #\"size\"\n",
    "             ]].copy()\n",
    "    long_df = pd.melt(long_df, id_vars=[\"_index\"], var_name= \"layer index\", value_name=\"value\").sort_values(by=[\"_index\"])\n",
    "    return long_df"
   ]
  },
  {
   "cell_type": "code",
   "execution_count": 78,
   "metadata": {},
   "outputs": [
    {
     "ename": "KeyError",
     "evalue": "\"['_index'] not in index\"",
     "output_type": "error",
     "traceback": [
      "\u001b[1;31m---------------------------------------------------------------------------\u001b[0m",
      "\u001b[1;31mKeyError\u001b[0m                                  Traceback (most recent call last)",
      "\u001b[1;32mc:\\tiny_mlc\\tiny_cnn\\MCU Inference Analysis.ipynb Cell 19\u001b[0m in \u001b[0;36m1\n\u001b[1;32m----> <a href='vscode-notebook-cell:/c%3A/tiny_mlc/tiny_cnn/MCU%20Inference%20Analysis.ipynb#X30sZmlsZQ%3D%3D?line=0'>1</a>\u001b[0m long_df \u001b[39m=\u001b[39m create_long_df(df)\n\u001b[0;32m      <a href='vscode-notebook-cell:/c%3A/tiny_mlc/tiny_cnn/MCU%20Inference%20Analysis.ipynb#X30sZmlsZQ%3D%3D?line=1'>2</a>\u001b[0m long_df\n",
      "\u001b[1;32mc:\\tiny_mlc\\tiny_cnn\\MCU Inference Analysis.ipynb Cell 19\u001b[0m in \u001b[0;36m2\n\u001b[0;32m      <a href='vscode-notebook-cell:/c%3A/tiny_mlc/tiny_cnn/MCU%20Inference%20Analysis.ipynb#X30sZmlsZQ%3D%3D?line=0'>1</a>\u001b[0m \u001b[39mdef\u001b[39;00m \u001b[39mcreate_long_df\u001b[39m(df):\n\u001b[1;32m----> <a href='vscode-notebook-cell:/c%3A/tiny_mlc/tiny_cnn/MCU%20Inference%20Analysis.ipynb#X30sZmlsZQ%3D%3D?line=1'>2</a>\u001b[0m     long_df \u001b[39m=\u001b[39m df[[\u001b[39m\"\u001b[39;49m\u001b[39m_index\u001b[39;49m\u001b[39m\"\u001b[39;49m, \n\u001b[0;32m      <a href='vscode-notebook-cell:/c%3A/tiny_mlc/tiny_cnn/MCU%20Inference%20Analysis.ipynb#X30sZmlsZQ%3D%3D?line=2'>3</a>\u001b[0m              \u001b[39m\"\u001b[39;49m\u001b[39mdur (ms)\u001b[39;49m\u001b[39m\"\u001b[39;49m, \n\u001b[0;32m      <a href='vscode-notebook-cell:/c%3A/tiny_mlc/tiny_cnn/MCU%20Inference%20Analysis.ipynb#X30sZmlsZQ%3D%3D?line=3'>4</a>\u001b[0m              \u001b[39m\"\u001b[39;49m\u001b[39mmacc\u001b[39;49m\u001b[39m\"\u001b[39;49m,\n\u001b[0;32m      <a href='vscode-notebook-cell:/c%3A/tiny_mlc/tiny_cnn/MCU%20Inference%20Analysis.ipynb#X30sZmlsZQ%3D%3D?line=4'>5</a>\u001b[0m              \u001b[39m#\"params\",\u001b[39;49;00m\n\u001b[0;32m      <a href='vscode-notebook-cell:/c%3A/tiny_mlc/tiny_cnn/MCU%20Inference%20Analysis.ipynb#X30sZmlsZQ%3D%3D?line=5'>6</a>\u001b[0m              \u001b[39m#\"size\"\u001b[39;49;00m\n\u001b[0;32m      <a href='vscode-notebook-cell:/c%3A/tiny_mlc/tiny_cnn/MCU%20Inference%20Analysis.ipynb#X30sZmlsZQ%3D%3D?line=6'>7</a>\u001b[0m              ]]\u001b[39m.\u001b[39mcopy()\n\u001b[0;32m      <a href='vscode-notebook-cell:/c%3A/tiny_mlc/tiny_cnn/MCU%20Inference%20Analysis.ipynb#X30sZmlsZQ%3D%3D?line=7'>8</a>\u001b[0m     long_df \u001b[39m=\u001b[39m pd\u001b[39m.\u001b[39mmelt(long_df, id_vars\u001b[39m=\u001b[39m[\u001b[39m\"\u001b[39m\u001b[39m_index\u001b[39m\u001b[39m\"\u001b[39m], var_name\u001b[39m=\u001b[39m \u001b[39m\"\u001b[39m\u001b[39mlayer index\u001b[39m\u001b[39m\"\u001b[39m, value_name\u001b[39m=\u001b[39m\u001b[39m\"\u001b[39m\u001b[39mvalue\u001b[39m\u001b[39m\"\u001b[39m)\u001b[39m.\u001b[39msort_values(by\u001b[39m=\u001b[39m[\u001b[39m\"\u001b[39m\u001b[39m_index\u001b[39m\u001b[39m\"\u001b[39m])\n\u001b[0;32m      <a href='vscode-notebook-cell:/c%3A/tiny_mlc/tiny_cnn/MCU%20Inference%20Analysis.ipynb#X30sZmlsZQ%3D%3D?line=8'>9</a>\u001b[0m     \u001b[39mreturn\u001b[39;00m long_df\n",
      "File \u001b[1;32md:\\Miniconda\\envs\\tiny_cnn_6\\lib\\site-packages\\pandas\\core\\frame.py:3810\u001b[0m, in \u001b[0;36mDataFrame.__getitem__\u001b[1;34m(self, key)\u001b[0m\n\u001b[0;32m   3808\u001b[0m     \u001b[39mif\u001b[39;00m is_iterator(key):\n\u001b[0;32m   3809\u001b[0m         key \u001b[39m=\u001b[39m \u001b[39mlist\u001b[39m(key)\n\u001b[1;32m-> 3810\u001b[0m     indexer \u001b[39m=\u001b[39m \u001b[39mself\u001b[39;49m\u001b[39m.\u001b[39;49mcolumns\u001b[39m.\u001b[39;49m_get_indexer_strict(key, \u001b[39m\"\u001b[39;49m\u001b[39mcolumns\u001b[39;49m\u001b[39m\"\u001b[39;49m)[\u001b[39m1\u001b[39m]\n\u001b[0;32m   3812\u001b[0m \u001b[39m# take() does not accept boolean indexers\u001b[39;00m\n\u001b[0;32m   3813\u001b[0m \u001b[39mif\u001b[39;00m \u001b[39mgetattr\u001b[39m(indexer, \u001b[39m\"\u001b[39m\u001b[39mdtype\u001b[39m\u001b[39m\"\u001b[39m, \u001b[39mNone\u001b[39;00m) \u001b[39m==\u001b[39m \u001b[39mbool\u001b[39m:\n",
      "File \u001b[1;32md:\\Miniconda\\envs\\tiny_cnn_6\\lib\\site-packages\\pandas\\core\\indexes\\base.py:6111\u001b[0m, in \u001b[0;36mIndex._get_indexer_strict\u001b[1;34m(self, key, axis_name)\u001b[0m\n\u001b[0;32m   6108\u001b[0m \u001b[39melse\u001b[39;00m:\n\u001b[0;32m   6109\u001b[0m     keyarr, indexer, new_indexer \u001b[39m=\u001b[39m \u001b[39mself\u001b[39m\u001b[39m.\u001b[39m_reindex_non_unique(keyarr)\n\u001b[1;32m-> 6111\u001b[0m \u001b[39mself\u001b[39;49m\u001b[39m.\u001b[39;49m_raise_if_missing(keyarr, indexer, axis_name)\n\u001b[0;32m   6113\u001b[0m keyarr \u001b[39m=\u001b[39m \u001b[39mself\u001b[39m\u001b[39m.\u001b[39mtake(indexer)\n\u001b[0;32m   6114\u001b[0m \u001b[39mif\u001b[39;00m \u001b[39misinstance\u001b[39m(key, Index):\n\u001b[0;32m   6115\u001b[0m     \u001b[39m# GH 42790 - Preserve name from an Index\u001b[39;00m\n",
      "File \u001b[1;32md:\\Miniconda\\envs\\tiny_cnn_6\\lib\\site-packages\\pandas\\core\\indexes\\base.py:6174\u001b[0m, in \u001b[0;36mIndex._raise_if_missing\u001b[1;34m(self, key, indexer, axis_name)\u001b[0m\n\u001b[0;32m   6171\u001b[0m     \u001b[39mraise\u001b[39;00m \u001b[39mKeyError\u001b[39;00m(\u001b[39mf\u001b[39m\u001b[39m\"\u001b[39m\u001b[39mNone of [\u001b[39m\u001b[39m{\u001b[39;00mkey\u001b[39m}\u001b[39;00m\u001b[39m] are in the [\u001b[39m\u001b[39m{\u001b[39;00maxis_name\u001b[39m}\u001b[39;00m\u001b[39m]\u001b[39m\u001b[39m\"\u001b[39m)\n\u001b[0;32m   6173\u001b[0m not_found \u001b[39m=\u001b[39m \u001b[39mlist\u001b[39m(ensure_index(key)[missing_mask\u001b[39m.\u001b[39mnonzero()[\u001b[39m0\u001b[39m]]\u001b[39m.\u001b[39munique())\n\u001b[1;32m-> 6174\u001b[0m \u001b[39mraise\u001b[39;00m \u001b[39mKeyError\u001b[39;00m(\u001b[39mf\u001b[39m\u001b[39m\"\u001b[39m\u001b[39m{\u001b[39;00mnot_found\u001b[39m}\u001b[39;00m\u001b[39m not in index\u001b[39m\u001b[39m\"\u001b[39m)\n",
      "\u001b[1;31mKeyError\u001b[0m: \"['_index'] not in index\""
     ]
    }
   ],
   "source": [
    "long_df = create_long_df(df)\n",
    "long_df"
   ]
  },
  {
   "cell_type": "code",
   "execution_count": null,
   "metadata": {},
   "outputs": [],
   "source": [
    "def dur_macc_fig(df_long):\n",
    "\n",
    "    #peak_memory_limit = 87\n",
    "    #flash_memory_limit = 250\n",
    "    fig = px.bar(df_long, \n",
    "                 x=\"_index\", \n",
    "                 #color=\"size\",\n",
    "                 y='value',\n",
    "                labels={\"_index\": \"layer_index\",\n",
    "                            #\"size\": \"size\",\n",
    "                            #\"value\": \"kB\"\n",
    "                            },\n",
    "                title=\"Peak memory, RAM size & flash size\",\n",
    "                barmode='group',\n",
    "                #hover_data=['architecture', 'size'],\n",
    "                height=600\n",
    "                )\n",
    "    # fig.add_hline(y=peak_memory_limit, line_width=2, line_dash=\"dash\", line_color=\"orange\", annotation_text=f\"{peak_memory_limit} KB peak activation\", \n",
    "    #             annotation_position=\"top left\")\n",
    "    # fig.add_hline(y=flash_memory_limit, line_width=2, line_dash=\"dash\", line_color=\"blue\", annotation_text=f\"{flash_memory_limit} KB flash memory\", \n",
    "    #             annotation_position=\"top right\")\n",
    "    fig.show()\n",
    "    return fig"
   ]
  },
  {
   "cell_type": "code",
   "execution_count": null,
   "metadata": {},
   "outputs": [
    {
     "data": {
      "application/vnd.plotly.v1+json": {
       "config": {
        "plotlyServerURL": "https://plot.ly"
       },
       "data": [
        {
         "alignmentgroup": "True",
         "hovertemplate": "layer_index=%{x}<br>value=%{y}<extra></extra>",
         "legendgroup": "",
         "marker": {
          "color": "#636efa",
          "pattern": {
           "shape": ""
          }
         },
         "name": "",
         "offsetgroup": "",
         "orientation": "v",
         "showlegend": false,
         "textposition": "auto",
         "type": "bar",
         "x": [
          0,
          0,
          1,
          1,
          2,
          2,
          3,
          3,
          4,
          4,
          5,
          5,
          6,
          6,
          8,
          8,
          9,
          9,
          10,
          10,
          11,
          11,
          12,
          12,
          13,
          13,
          15,
          15,
          16,
          16,
          17,
          17,
          18,
          18,
          19,
          19,
          21,
          21,
          22,
          22,
          23,
          23,
          24,
          24,
          26,
          26,
          27,
          27,
          28,
          28,
          29,
          29,
          30,
          30,
          32,
          32,
          33,
          33,
          34,
          34,
          35,
          35,
          37,
          37,
          38,
          38,
          39,
          39,
          40,
          40,
          41,
          41,
          42,
          42,
          44,
          44,
          45,
          45,
          46,
          46,
          47,
          47,
          49,
          49,
          50,
          50,
          51,
          51,
          52,
          52,
          53,
          53,
          54,
          54,
          56,
          56,
          57,
          57,
          58,
          58,
          59,
          59,
          61,
          61,
          62,
          62,
          63,
          63,
          64,
          64,
          65,
          65,
          66,
          66,
          68,
          68,
          69,
          69,
          70,
          70,
          71,
          71,
          73,
          73,
          74,
          74,
          75,
          75,
          76,
          76,
          77,
          77,
          78,
          78,
          80,
          80,
          81,
          81,
          82,
          82,
          83,
          83,
          85,
          85,
          86,
          86,
          87,
          87,
          88,
          88,
          89,
          89,
          91,
          91,
          92,
          92,
          93,
          93,
          94,
          94,
          96,
          96,
          97,
          97,
          98,
          98,
          99,
          99,
          100,
          100,
          101,
          101,
          103,
          103,
          104,
          104,
          105,
          105,
          106,
          106,
          108,
          108,
          109,
          109,
          110,
          110,
          111,
          111,
          112,
          112,
          113,
          113,
          115,
          115,
          116,
          116,
          117,
          117,
          118,
          118
         ],
         "xaxis": "x",
         "y": [
          12.699,
          0,
          1.233,
          0,
          6.23,
          0,
          1.045,
          0,
          1.607,
          36864,
          589840,
          4.956,
          0.13,
          331792,
          294920,
          2.437,
          737320,
          11.017,
          190480,
          3.882,
          169288,
          1.072,
          1.911,
          135456,
          0.053,
          152384,
          0.845,
          135432,
          0.848,
          4232,
          135456,
          1.915,
          16928,
          0.558,
          16928,
          2.854,
          0.724,
          16928,
          80032,
          1.519,
          0.113,
          3200,
          0.542,
          3200,
          3200,
          0.142,
          0.354,
          51216,
          1.388,
          153696,
          0.32,
          9600,
          1.616,
          9600,
          9600,
          0.409,
          4.466,
          240096,
          9600,
          0.321,
          9600,
          1.617,
          9600,
          0.41,
          153616,
          0.822,
          0.324,
          1600,
          153696,
          1.389,
          9600,
          0.32,
          9600,
          1.616,
          9600,
          0.409,
          4.481,
          240096,
          0.321,
          9600,
          1.618,
          9600,
          9600,
          0.412,
          0.841,
          153616,
          1600,
          0.324,
          0.699,
          76848,
          0.165,
          4800,
          4800,
          0.81,
          0.208,
          4800,
          120048,
          2.467,
          4800,
          0.165,
          4800,
          0.81,
          0.209,
          4800,
          76816,
          0.454,
          0.324,
          1600,
          76848,
          0.698,
          4800,
          0.165,
          4800,
          0.81,
          4800,
          0.208,
          120048,
          2.468,
          0.165,
          4800,
          4800,
          0.81,
          4800,
          0.208,
          0.454,
          76816,
          0.324,
          1600,
          1.387,
          153696,
          9600,
          0.32,
          1.616,
          9600,
          9600,
          0.409,
          21696,
          0.545,
          864,
          0.037,
          0.15,
          864,
          0.044,
          864,
          0.191,
          20760,
          31248,
          0.563,
          0.051,
          1296,
          1296,
          0.222,
          0.062,
          1296,
          32544,
          0.835,
          0.051,
          1296,
          1296,
          0.222,
          1296,
          0.062,
          31128,
          0.255,
          0.048,
          216,
          31248,
          0.561,
          1296,
          0.051,
          1296,
          0.222,
          0.062,
          1296,
          32544,
          0.839,
          1296,
          0.051,
          1296,
          0.222,
          1296,
          0.062,
          31128,
          0.253,
          216,
          0.048,
          124992,
          2.212,
          0.177,
          5184,
          5184,
          0.875,
          5184,
          0.224,
          5184,
          0.515,
          73856,
          1.891,
          0.02,
          258
         ],
         "yaxis": "y"
        }
       ],
       "layout": {
        "barmode": "group",
        "height": 600,
        "legend": {
         "tracegroupgap": 0
        },
        "template": {
         "data": {
          "bar": [
           {
            "error_x": {
             "color": "#2a3f5f"
            },
            "error_y": {
             "color": "#2a3f5f"
            },
            "marker": {
             "line": {
              "color": "#E5ECF6",
              "width": 0.5
             },
             "pattern": {
              "fillmode": "overlay",
              "size": 10,
              "solidity": 0.2
             }
            },
            "type": "bar"
           }
          ],
          "barpolar": [
           {
            "marker": {
             "line": {
              "color": "#E5ECF6",
              "width": 0.5
             },
             "pattern": {
              "fillmode": "overlay",
              "size": 10,
              "solidity": 0.2
             }
            },
            "type": "barpolar"
           }
          ],
          "carpet": [
           {
            "aaxis": {
             "endlinecolor": "#2a3f5f",
             "gridcolor": "white",
             "linecolor": "white",
             "minorgridcolor": "white",
             "startlinecolor": "#2a3f5f"
            },
            "baxis": {
             "endlinecolor": "#2a3f5f",
             "gridcolor": "white",
             "linecolor": "white",
             "minorgridcolor": "white",
             "startlinecolor": "#2a3f5f"
            },
            "type": "carpet"
           }
          ],
          "choropleth": [
           {
            "colorbar": {
             "outlinewidth": 0,
             "ticks": ""
            },
            "type": "choropleth"
           }
          ],
          "contour": [
           {
            "colorbar": {
             "outlinewidth": 0,
             "ticks": ""
            },
            "colorscale": [
             [
              0,
              "#0d0887"
             ],
             [
              0.1111111111111111,
              "#46039f"
             ],
             [
              0.2222222222222222,
              "#7201a8"
             ],
             [
              0.3333333333333333,
              "#9c179e"
             ],
             [
              0.4444444444444444,
              "#bd3786"
             ],
             [
              0.5555555555555556,
              "#d8576b"
             ],
             [
              0.6666666666666666,
              "#ed7953"
             ],
             [
              0.7777777777777778,
              "#fb9f3a"
             ],
             [
              0.8888888888888888,
              "#fdca26"
             ],
             [
              1,
              "#f0f921"
             ]
            ],
            "type": "contour"
           }
          ],
          "contourcarpet": [
           {
            "colorbar": {
             "outlinewidth": 0,
             "ticks": ""
            },
            "type": "contourcarpet"
           }
          ],
          "heatmap": [
           {
            "colorbar": {
             "outlinewidth": 0,
             "ticks": ""
            },
            "colorscale": [
             [
              0,
              "#0d0887"
             ],
             [
              0.1111111111111111,
              "#46039f"
             ],
             [
              0.2222222222222222,
              "#7201a8"
             ],
             [
              0.3333333333333333,
              "#9c179e"
             ],
             [
              0.4444444444444444,
              "#bd3786"
             ],
             [
              0.5555555555555556,
              "#d8576b"
             ],
             [
              0.6666666666666666,
              "#ed7953"
             ],
             [
              0.7777777777777778,
              "#fb9f3a"
             ],
             [
              0.8888888888888888,
              "#fdca26"
             ],
             [
              1,
              "#f0f921"
             ]
            ],
            "type": "heatmap"
           }
          ],
          "heatmapgl": [
           {
            "colorbar": {
             "outlinewidth": 0,
             "ticks": ""
            },
            "colorscale": [
             [
              0,
              "#0d0887"
             ],
             [
              0.1111111111111111,
              "#46039f"
             ],
             [
              0.2222222222222222,
              "#7201a8"
             ],
             [
              0.3333333333333333,
              "#9c179e"
             ],
             [
              0.4444444444444444,
              "#bd3786"
             ],
             [
              0.5555555555555556,
              "#d8576b"
             ],
             [
              0.6666666666666666,
              "#ed7953"
             ],
             [
              0.7777777777777778,
              "#fb9f3a"
             ],
             [
              0.8888888888888888,
              "#fdca26"
             ],
             [
              1,
              "#f0f921"
             ]
            ],
            "type": "heatmapgl"
           }
          ],
          "histogram": [
           {
            "marker": {
             "pattern": {
              "fillmode": "overlay",
              "size": 10,
              "solidity": 0.2
             }
            },
            "type": "histogram"
           }
          ],
          "histogram2d": [
           {
            "colorbar": {
             "outlinewidth": 0,
             "ticks": ""
            },
            "colorscale": [
             [
              0,
              "#0d0887"
             ],
             [
              0.1111111111111111,
              "#46039f"
             ],
             [
              0.2222222222222222,
              "#7201a8"
             ],
             [
              0.3333333333333333,
              "#9c179e"
             ],
             [
              0.4444444444444444,
              "#bd3786"
             ],
             [
              0.5555555555555556,
              "#d8576b"
             ],
             [
              0.6666666666666666,
              "#ed7953"
             ],
             [
              0.7777777777777778,
              "#fb9f3a"
             ],
             [
              0.8888888888888888,
              "#fdca26"
             ],
             [
              1,
              "#f0f921"
             ]
            ],
            "type": "histogram2d"
           }
          ],
          "histogram2dcontour": [
           {
            "colorbar": {
             "outlinewidth": 0,
             "ticks": ""
            },
            "colorscale": [
             [
              0,
              "#0d0887"
             ],
             [
              0.1111111111111111,
              "#46039f"
             ],
             [
              0.2222222222222222,
              "#7201a8"
             ],
             [
              0.3333333333333333,
              "#9c179e"
             ],
             [
              0.4444444444444444,
              "#bd3786"
             ],
             [
              0.5555555555555556,
              "#d8576b"
             ],
             [
              0.6666666666666666,
              "#ed7953"
             ],
             [
              0.7777777777777778,
              "#fb9f3a"
             ],
             [
              0.8888888888888888,
              "#fdca26"
             ],
             [
              1,
              "#f0f921"
             ]
            ],
            "type": "histogram2dcontour"
           }
          ],
          "mesh3d": [
           {
            "colorbar": {
             "outlinewidth": 0,
             "ticks": ""
            },
            "type": "mesh3d"
           }
          ],
          "parcoords": [
           {
            "line": {
             "colorbar": {
              "outlinewidth": 0,
              "ticks": ""
             }
            },
            "type": "parcoords"
           }
          ],
          "pie": [
           {
            "automargin": true,
            "type": "pie"
           }
          ],
          "scatter": [
           {
            "fillpattern": {
             "fillmode": "overlay",
             "size": 10,
             "solidity": 0.2
            },
            "type": "scatter"
           }
          ],
          "scatter3d": [
           {
            "line": {
             "colorbar": {
              "outlinewidth": 0,
              "ticks": ""
             }
            },
            "marker": {
             "colorbar": {
              "outlinewidth": 0,
              "ticks": ""
             }
            },
            "type": "scatter3d"
           }
          ],
          "scattercarpet": [
           {
            "marker": {
             "colorbar": {
              "outlinewidth": 0,
              "ticks": ""
             }
            },
            "type": "scattercarpet"
           }
          ],
          "scattergeo": [
           {
            "marker": {
             "colorbar": {
              "outlinewidth": 0,
              "ticks": ""
             }
            },
            "type": "scattergeo"
           }
          ],
          "scattergl": [
           {
            "marker": {
             "colorbar": {
              "outlinewidth": 0,
              "ticks": ""
             }
            },
            "type": "scattergl"
           }
          ],
          "scattermapbox": [
           {
            "marker": {
             "colorbar": {
              "outlinewidth": 0,
              "ticks": ""
             }
            },
            "type": "scattermapbox"
           }
          ],
          "scatterpolar": [
           {
            "marker": {
             "colorbar": {
              "outlinewidth": 0,
              "ticks": ""
             }
            },
            "type": "scatterpolar"
           }
          ],
          "scatterpolargl": [
           {
            "marker": {
             "colorbar": {
              "outlinewidth": 0,
              "ticks": ""
             }
            },
            "type": "scatterpolargl"
           }
          ],
          "scatterternary": [
           {
            "marker": {
             "colorbar": {
              "outlinewidth": 0,
              "ticks": ""
             }
            },
            "type": "scatterternary"
           }
          ],
          "surface": [
           {
            "colorbar": {
             "outlinewidth": 0,
             "ticks": ""
            },
            "colorscale": [
             [
              0,
              "#0d0887"
             ],
             [
              0.1111111111111111,
              "#46039f"
             ],
             [
              0.2222222222222222,
              "#7201a8"
             ],
             [
              0.3333333333333333,
              "#9c179e"
             ],
             [
              0.4444444444444444,
              "#bd3786"
             ],
             [
              0.5555555555555556,
              "#d8576b"
             ],
             [
              0.6666666666666666,
              "#ed7953"
             ],
             [
              0.7777777777777778,
              "#fb9f3a"
             ],
             [
              0.8888888888888888,
              "#fdca26"
             ],
             [
              1,
              "#f0f921"
             ]
            ],
            "type": "surface"
           }
          ],
          "table": [
           {
            "cells": {
             "fill": {
              "color": "#EBF0F8"
             },
             "line": {
              "color": "white"
             }
            },
            "header": {
             "fill": {
              "color": "#C8D4E3"
             },
             "line": {
              "color": "white"
             }
            },
            "type": "table"
           }
          ]
         },
         "layout": {
          "annotationdefaults": {
           "arrowcolor": "#2a3f5f",
           "arrowhead": 0,
           "arrowwidth": 1
          },
          "autotypenumbers": "strict",
          "coloraxis": {
           "colorbar": {
            "outlinewidth": 0,
            "ticks": ""
           }
          },
          "colorscale": {
           "diverging": [
            [
             0,
             "#8e0152"
            ],
            [
             0.1,
             "#c51b7d"
            ],
            [
             0.2,
             "#de77ae"
            ],
            [
             0.3,
             "#f1b6da"
            ],
            [
             0.4,
             "#fde0ef"
            ],
            [
             0.5,
             "#f7f7f7"
            ],
            [
             0.6,
             "#e6f5d0"
            ],
            [
             0.7,
             "#b8e186"
            ],
            [
             0.8,
             "#7fbc41"
            ],
            [
             0.9,
             "#4d9221"
            ],
            [
             1,
             "#276419"
            ]
           ],
           "sequential": [
            [
             0,
             "#0d0887"
            ],
            [
             0.1111111111111111,
             "#46039f"
            ],
            [
             0.2222222222222222,
             "#7201a8"
            ],
            [
             0.3333333333333333,
             "#9c179e"
            ],
            [
             0.4444444444444444,
             "#bd3786"
            ],
            [
             0.5555555555555556,
             "#d8576b"
            ],
            [
             0.6666666666666666,
             "#ed7953"
            ],
            [
             0.7777777777777778,
             "#fb9f3a"
            ],
            [
             0.8888888888888888,
             "#fdca26"
            ],
            [
             1,
             "#f0f921"
            ]
           ],
           "sequentialminus": [
            [
             0,
             "#0d0887"
            ],
            [
             0.1111111111111111,
             "#46039f"
            ],
            [
             0.2222222222222222,
             "#7201a8"
            ],
            [
             0.3333333333333333,
             "#9c179e"
            ],
            [
             0.4444444444444444,
             "#bd3786"
            ],
            [
             0.5555555555555556,
             "#d8576b"
            ],
            [
             0.6666666666666666,
             "#ed7953"
            ],
            [
             0.7777777777777778,
             "#fb9f3a"
            ],
            [
             0.8888888888888888,
             "#fdca26"
            ],
            [
             1,
             "#f0f921"
            ]
           ]
          },
          "colorway": [
           "#636efa",
           "#EF553B",
           "#00cc96",
           "#ab63fa",
           "#FFA15A",
           "#19d3f3",
           "#FF6692",
           "#B6E880",
           "#FF97FF",
           "#FECB52"
          ],
          "font": {
           "color": "#2a3f5f"
          },
          "geo": {
           "bgcolor": "white",
           "lakecolor": "white",
           "landcolor": "#E5ECF6",
           "showlakes": true,
           "showland": true,
           "subunitcolor": "white"
          },
          "hoverlabel": {
           "align": "left"
          },
          "hovermode": "closest",
          "mapbox": {
           "style": "light"
          },
          "paper_bgcolor": "white",
          "plot_bgcolor": "#E5ECF6",
          "polar": {
           "angularaxis": {
            "gridcolor": "white",
            "linecolor": "white",
            "ticks": ""
           },
           "bgcolor": "#E5ECF6",
           "radialaxis": {
            "gridcolor": "white",
            "linecolor": "white",
            "ticks": ""
           }
          },
          "scene": {
           "xaxis": {
            "backgroundcolor": "#E5ECF6",
            "gridcolor": "white",
            "gridwidth": 2,
            "linecolor": "white",
            "showbackground": true,
            "ticks": "",
            "zerolinecolor": "white"
           },
           "yaxis": {
            "backgroundcolor": "#E5ECF6",
            "gridcolor": "white",
            "gridwidth": 2,
            "linecolor": "white",
            "showbackground": true,
            "ticks": "",
            "zerolinecolor": "white"
           },
           "zaxis": {
            "backgroundcolor": "#E5ECF6",
            "gridcolor": "white",
            "gridwidth": 2,
            "linecolor": "white",
            "showbackground": true,
            "ticks": "",
            "zerolinecolor": "white"
           }
          },
          "shapedefaults": {
           "line": {
            "color": "#2a3f5f"
           }
          },
          "ternary": {
           "aaxis": {
            "gridcolor": "white",
            "linecolor": "white",
            "ticks": ""
           },
           "baxis": {
            "gridcolor": "white",
            "linecolor": "white",
            "ticks": ""
           },
           "bgcolor": "#E5ECF6",
           "caxis": {
            "gridcolor": "white",
            "linecolor": "white",
            "ticks": ""
           }
          },
          "title": {
           "x": 0.05
          },
          "xaxis": {
           "automargin": true,
           "gridcolor": "white",
           "linecolor": "white",
           "ticks": "",
           "title": {
            "standoff": 15
           },
           "zerolinecolor": "white",
           "zerolinewidth": 2
          },
          "yaxis": {
           "automargin": true,
           "gridcolor": "white",
           "linecolor": "white",
           "ticks": "",
           "title": {
            "standoff": 15
           },
           "zerolinecolor": "white",
           "zerolinewidth": 2
          }
         }
        },
        "title": {
         "text": "Peak memory, RAM size & flash size"
        },
        "xaxis": {
         "anchor": "y",
         "domain": [
          0,
          1
         ],
         "title": {
          "text": "layer_index"
         }
        },
        "yaxis": {
         "anchor": "x",
         "domain": [
          0,
          1
         ],
         "title": {
          "text": "value"
         }
        }
       }
      },
      "text/html": [
       "<div>                            <div id=\"8006b34d-273f-4ee4-a687-b80973fdbb00\" class=\"plotly-graph-div\" style=\"height:600px; width:100%;\"></div>            <script type=\"text/javascript\">                require([\"plotly\"], function(Plotly) {                    window.PLOTLYENV=window.PLOTLYENV || {};                                    if (document.getElementById(\"8006b34d-273f-4ee4-a687-b80973fdbb00\")) {                    Plotly.newPlot(                        \"8006b34d-273f-4ee4-a687-b80973fdbb00\",                        [{\"alignmentgroup\":\"True\",\"hovertemplate\":\"layer_index=%{x}<br>value=%{y}<extra></extra>\",\"legendgroup\":\"\",\"marker\":{\"color\":\"#636efa\",\"pattern\":{\"shape\":\"\"}},\"name\":\"\",\"offsetgroup\":\"\",\"orientation\":\"v\",\"showlegend\":false,\"textposition\":\"auto\",\"x\":[0,0,1,1,2,2,3,3,4,4,5,5,6,6,8,8,9,9,10,10,11,11,12,12,13,13,15,15,16,16,17,17,18,18,19,19,21,21,22,22,23,23,24,24,26,26,27,27,28,28,29,29,30,30,32,32,33,33,34,34,35,35,37,37,38,38,39,39,40,40,41,41,42,42,44,44,45,45,46,46,47,47,49,49,50,50,51,51,52,52,53,53,54,54,56,56,57,57,58,58,59,59,61,61,62,62,63,63,64,64,65,65,66,66,68,68,69,69,70,70,71,71,73,73,74,74,75,75,76,76,77,77,78,78,80,80,81,81,82,82,83,83,85,85,86,86,87,87,88,88,89,89,91,91,92,92,93,93,94,94,96,96,97,97,98,98,99,99,100,100,101,101,103,103,104,104,105,105,106,106,108,108,109,109,110,110,111,111,112,112,113,113,115,115,116,116,117,117,118,118],\"xaxis\":\"x\",\"y\":[12.699,0.0,1.233,0.0,6.23,0.0,1.045,0.0,1.607,36864.0,589840.0,4.956,0.13,331792.0,294920.0,2.437,737320.0,11.017,190480.0,3.882,169288.0,1.072,1.911,135456.0,0.053,152384.0,0.845,135432.0,0.848,4232.0,135456.0,1.915,16928.0,0.558,16928.0,2.854,0.724,16928.0,80032.0,1.519,0.113,3200.0,0.542,3200.0,3200.0,0.142,0.354,51216.0,1.388,153696.0,0.32,9600.0,1.616,9600.0,9600.0,0.409,4.466,240096.0,9600.0,0.321,9600.0,1.617,9600.0,0.41,153616.0,0.822,0.324,1600.0,153696.0,1.389,9600.0,0.32,9600.0,1.616,9600.0,0.409,4.481,240096.0,0.321,9600.0,1.618,9600.0,9600.0,0.412,0.841,153616.0,1600.0,0.324,0.699,76848.0,0.165,4800.0,4800.0,0.81,0.208,4800.0,120048.0,2.467,4800.0,0.165,4800.0,0.81,0.209,4800.0,76816.0,0.454,0.324,1600.0,76848.0,0.698,4800.0,0.165,4800.0,0.81,4800.0,0.208,120048.0,2.468,0.165,4800.0,4800.0,0.81,4800.0,0.208,0.454,76816.0,0.324,1600.0,1.387,153696.0,9600.0,0.32,1.616,9600.0,9600.0,0.409,21696.0,0.545,864.0,0.037,0.15,864.0,0.044,864.0,0.191,20760.0,31248.0,0.563,0.051,1296.0,1296.0,0.222,0.062,1296.0,32544.0,0.835,0.051,1296.0,1296.0,0.222,1296.0,0.062,31128.0,0.255,0.048,216.0,31248.0,0.561,1296.0,0.051,1296.0,0.222,0.062,1296.0,32544.0,0.839,1296.0,0.051,1296.0,0.222,1296.0,0.062,31128.0,0.253,216.0,0.048,124992.0,2.212,0.177,5184.0,5184.0,0.875,5184.0,0.224,5184.0,0.515,73856.0,1.891,0.02,258.0],\"yaxis\":\"y\",\"type\":\"bar\"}],                        {\"template\":{\"data\":{\"histogram2dcontour\":[{\"type\":\"histogram2dcontour\",\"colorbar\":{\"outlinewidth\":0,\"ticks\":\"\"},\"colorscale\":[[0.0,\"#0d0887\"],[0.1111111111111111,\"#46039f\"],[0.2222222222222222,\"#7201a8\"],[0.3333333333333333,\"#9c179e\"],[0.4444444444444444,\"#bd3786\"],[0.5555555555555556,\"#d8576b\"],[0.6666666666666666,\"#ed7953\"],[0.7777777777777778,\"#fb9f3a\"],[0.8888888888888888,\"#fdca26\"],[1.0,\"#f0f921\"]]}],\"choropleth\":[{\"type\":\"choropleth\",\"colorbar\":{\"outlinewidth\":0,\"ticks\":\"\"}}],\"histogram2d\":[{\"type\":\"histogram2d\",\"colorbar\":{\"outlinewidth\":0,\"ticks\":\"\"},\"colorscale\":[[0.0,\"#0d0887\"],[0.1111111111111111,\"#46039f\"],[0.2222222222222222,\"#7201a8\"],[0.3333333333333333,\"#9c179e\"],[0.4444444444444444,\"#bd3786\"],[0.5555555555555556,\"#d8576b\"],[0.6666666666666666,\"#ed7953\"],[0.7777777777777778,\"#fb9f3a\"],[0.8888888888888888,\"#fdca26\"],[1.0,\"#f0f921\"]]}],\"heatmap\":[{\"type\":\"heatmap\",\"colorbar\":{\"outlinewidth\":0,\"ticks\":\"\"},\"colorscale\":[[0.0,\"#0d0887\"],[0.1111111111111111,\"#46039f\"],[0.2222222222222222,\"#7201a8\"],[0.3333333333333333,\"#9c179e\"],[0.4444444444444444,\"#bd3786\"],[0.5555555555555556,\"#d8576b\"],[0.6666666666666666,\"#ed7953\"],[0.7777777777777778,\"#fb9f3a\"],[0.8888888888888888,\"#fdca26\"],[1.0,\"#f0f921\"]]}],\"heatmapgl\":[{\"type\":\"heatmapgl\",\"colorbar\":{\"outlinewidth\":0,\"ticks\":\"\"},\"colorscale\":[[0.0,\"#0d0887\"],[0.1111111111111111,\"#46039f\"],[0.2222222222222222,\"#7201a8\"],[0.3333333333333333,\"#9c179e\"],[0.4444444444444444,\"#bd3786\"],[0.5555555555555556,\"#d8576b\"],[0.6666666666666666,\"#ed7953\"],[0.7777777777777778,\"#fb9f3a\"],[0.8888888888888888,\"#fdca26\"],[1.0,\"#f0f921\"]]}],\"contourcarpet\":[{\"type\":\"contourcarpet\",\"colorbar\":{\"outlinewidth\":0,\"ticks\":\"\"}}],\"contour\":[{\"type\":\"contour\",\"colorbar\":{\"outlinewidth\":0,\"ticks\":\"\"},\"colorscale\":[[0.0,\"#0d0887\"],[0.1111111111111111,\"#46039f\"],[0.2222222222222222,\"#7201a8\"],[0.3333333333333333,\"#9c179e\"],[0.4444444444444444,\"#bd3786\"],[0.5555555555555556,\"#d8576b\"],[0.6666666666666666,\"#ed7953\"],[0.7777777777777778,\"#fb9f3a\"],[0.8888888888888888,\"#fdca26\"],[1.0,\"#f0f921\"]]}],\"surface\":[{\"type\":\"surface\",\"colorbar\":{\"outlinewidth\":0,\"ticks\":\"\"},\"colorscale\":[[0.0,\"#0d0887\"],[0.1111111111111111,\"#46039f\"],[0.2222222222222222,\"#7201a8\"],[0.3333333333333333,\"#9c179e\"],[0.4444444444444444,\"#bd3786\"],[0.5555555555555556,\"#d8576b\"],[0.6666666666666666,\"#ed7953\"],[0.7777777777777778,\"#fb9f3a\"],[0.8888888888888888,\"#fdca26\"],[1.0,\"#f0f921\"]]}],\"mesh3d\":[{\"type\":\"mesh3d\",\"colorbar\":{\"outlinewidth\":0,\"ticks\":\"\"}}],\"scatter\":[{\"fillpattern\":{\"fillmode\":\"overlay\",\"size\":10,\"solidity\":0.2},\"type\":\"scatter\"}],\"parcoords\":[{\"type\":\"parcoords\",\"line\":{\"colorbar\":{\"outlinewidth\":0,\"ticks\":\"\"}}}],\"scatterpolargl\":[{\"type\":\"scatterpolargl\",\"marker\":{\"colorbar\":{\"outlinewidth\":0,\"ticks\":\"\"}}}],\"bar\":[{\"error_x\":{\"color\":\"#2a3f5f\"},\"error_y\":{\"color\":\"#2a3f5f\"},\"marker\":{\"line\":{\"color\":\"#E5ECF6\",\"width\":0.5},\"pattern\":{\"fillmode\":\"overlay\",\"size\":10,\"solidity\":0.2}},\"type\":\"bar\"}],\"scattergeo\":[{\"type\":\"scattergeo\",\"marker\":{\"colorbar\":{\"outlinewidth\":0,\"ticks\":\"\"}}}],\"scatterpolar\":[{\"type\":\"scatterpolar\",\"marker\":{\"colorbar\":{\"outlinewidth\":0,\"ticks\":\"\"}}}],\"histogram\":[{\"marker\":{\"pattern\":{\"fillmode\":\"overlay\",\"size\":10,\"solidity\":0.2}},\"type\":\"histogram\"}],\"scattergl\":[{\"type\":\"scattergl\",\"marker\":{\"colorbar\":{\"outlinewidth\":0,\"ticks\":\"\"}}}],\"scatter3d\":[{\"type\":\"scatter3d\",\"line\":{\"colorbar\":{\"outlinewidth\":0,\"ticks\":\"\"}},\"marker\":{\"colorbar\":{\"outlinewidth\":0,\"ticks\":\"\"}}}],\"scattermapbox\":[{\"type\":\"scattermapbox\",\"marker\":{\"colorbar\":{\"outlinewidth\":0,\"ticks\":\"\"}}}],\"scatterternary\":[{\"type\":\"scatterternary\",\"marker\":{\"colorbar\":{\"outlinewidth\":0,\"ticks\":\"\"}}}],\"scattercarpet\":[{\"type\":\"scattercarpet\",\"marker\":{\"colorbar\":{\"outlinewidth\":0,\"ticks\":\"\"}}}],\"carpet\":[{\"aaxis\":{\"endlinecolor\":\"#2a3f5f\",\"gridcolor\":\"white\",\"linecolor\":\"white\",\"minorgridcolor\":\"white\",\"startlinecolor\":\"#2a3f5f\"},\"baxis\":{\"endlinecolor\":\"#2a3f5f\",\"gridcolor\":\"white\",\"linecolor\":\"white\",\"minorgridcolor\":\"white\",\"startlinecolor\":\"#2a3f5f\"},\"type\":\"carpet\"}],\"table\":[{\"cells\":{\"fill\":{\"color\":\"#EBF0F8\"},\"line\":{\"color\":\"white\"}},\"header\":{\"fill\":{\"color\":\"#C8D4E3\"},\"line\":{\"color\":\"white\"}},\"type\":\"table\"}],\"barpolar\":[{\"marker\":{\"line\":{\"color\":\"#E5ECF6\",\"width\":0.5},\"pattern\":{\"fillmode\":\"overlay\",\"size\":10,\"solidity\":0.2}},\"type\":\"barpolar\"}],\"pie\":[{\"automargin\":true,\"type\":\"pie\"}]},\"layout\":{\"autotypenumbers\":\"strict\",\"colorway\":[\"#636efa\",\"#EF553B\",\"#00cc96\",\"#ab63fa\",\"#FFA15A\",\"#19d3f3\",\"#FF6692\",\"#B6E880\",\"#FF97FF\",\"#FECB52\"],\"font\":{\"color\":\"#2a3f5f\"},\"hovermode\":\"closest\",\"hoverlabel\":{\"align\":\"left\"},\"paper_bgcolor\":\"white\",\"plot_bgcolor\":\"#E5ECF6\",\"polar\":{\"bgcolor\":\"#E5ECF6\",\"angularaxis\":{\"gridcolor\":\"white\",\"linecolor\":\"white\",\"ticks\":\"\"},\"radialaxis\":{\"gridcolor\":\"white\",\"linecolor\":\"white\",\"ticks\":\"\"}},\"ternary\":{\"bgcolor\":\"#E5ECF6\",\"aaxis\":{\"gridcolor\":\"white\",\"linecolor\":\"white\",\"ticks\":\"\"},\"baxis\":{\"gridcolor\":\"white\",\"linecolor\":\"white\",\"ticks\":\"\"},\"caxis\":{\"gridcolor\":\"white\",\"linecolor\":\"white\",\"ticks\":\"\"}},\"coloraxis\":{\"colorbar\":{\"outlinewidth\":0,\"ticks\":\"\"}},\"colorscale\":{\"sequential\":[[0.0,\"#0d0887\"],[0.1111111111111111,\"#46039f\"],[0.2222222222222222,\"#7201a8\"],[0.3333333333333333,\"#9c179e\"],[0.4444444444444444,\"#bd3786\"],[0.5555555555555556,\"#d8576b\"],[0.6666666666666666,\"#ed7953\"],[0.7777777777777778,\"#fb9f3a\"],[0.8888888888888888,\"#fdca26\"],[1.0,\"#f0f921\"]],\"sequentialminus\":[[0.0,\"#0d0887\"],[0.1111111111111111,\"#46039f\"],[0.2222222222222222,\"#7201a8\"],[0.3333333333333333,\"#9c179e\"],[0.4444444444444444,\"#bd3786\"],[0.5555555555555556,\"#d8576b\"],[0.6666666666666666,\"#ed7953\"],[0.7777777777777778,\"#fb9f3a\"],[0.8888888888888888,\"#fdca26\"],[1.0,\"#f0f921\"]],\"diverging\":[[0,\"#8e0152\"],[0.1,\"#c51b7d\"],[0.2,\"#de77ae\"],[0.3,\"#f1b6da\"],[0.4,\"#fde0ef\"],[0.5,\"#f7f7f7\"],[0.6,\"#e6f5d0\"],[0.7,\"#b8e186\"],[0.8,\"#7fbc41\"],[0.9,\"#4d9221\"],[1,\"#276419\"]]},\"xaxis\":{\"gridcolor\":\"white\",\"linecolor\":\"white\",\"ticks\":\"\",\"title\":{\"standoff\":15},\"zerolinecolor\":\"white\",\"automargin\":true,\"zerolinewidth\":2},\"yaxis\":{\"gridcolor\":\"white\",\"linecolor\":\"white\",\"ticks\":\"\",\"title\":{\"standoff\":15},\"zerolinecolor\":\"white\",\"automargin\":true,\"zerolinewidth\":2},\"scene\":{\"xaxis\":{\"backgroundcolor\":\"#E5ECF6\",\"gridcolor\":\"white\",\"linecolor\":\"white\",\"showbackground\":true,\"ticks\":\"\",\"zerolinecolor\":\"white\",\"gridwidth\":2},\"yaxis\":{\"backgroundcolor\":\"#E5ECF6\",\"gridcolor\":\"white\",\"linecolor\":\"white\",\"showbackground\":true,\"ticks\":\"\",\"zerolinecolor\":\"white\",\"gridwidth\":2},\"zaxis\":{\"backgroundcolor\":\"#E5ECF6\",\"gridcolor\":\"white\",\"linecolor\":\"white\",\"showbackground\":true,\"ticks\":\"\",\"zerolinecolor\":\"white\",\"gridwidth\":2}},\"shapedefaults\":{\"line\":{\"color\":\"#2a3f5f\"}},\"annotationdefaults\":{\"arrowcolor\":\"#2a3f5f\",\"arrowhead\":0,\"arrowwidth\":1},\"geo\":{\"bgcolor\":\"white\",\"landcolor\":\"#E5ECF6\",\"subunitcolor\":\"white\",\"showland\":true,\"showlakes\":true,\"lakecolor\":\"white\"},\"title\":{\"x\":0.05},\"mapbox\":{\"style\":\"light\"}}},\"xaxis\":{\"anchor\":\"y\",\"domain\":[0.0,1.0],\"title\":{\"text\":\"layer_index\"}},\"yaxis\":{\"anchor\":\"x\",\"domain\":[0.0,1.0],\"title\":{\"text\":\"value\"}},\"legend\":{\"tracegroupgap\":0},\"title\":{\"text\":\"Peak memory, RAM size & flash size\"},\"barmode\":\"group\",\"height\":600},                        {\"responsive\": true}                    ).then(function(){\n",
       "                            \n",
       "var gd = document.getElementById('8006b34d-273f-4ee4-a687-b80973fdbb00');\n",
       "var x = new MutationObserver(function (mutations, observer) {{\n",
       "        var display = window.getComputedStyle(gd).display;\n",
       "        if (!display || display === 'none') {{\n",
       "            console.log([gd, 'removed!']);\n",
       "            Plotly.purge(gd);\n",
       "            observer.disconnect();\n",
       "        }}\n",
       "}});\n",
       "\n",
       "// Listen for the removal of the full notebook cells\n",
       "var notebookContainer = gd.closest('#notebook-container');\n",
       "if (notebookContainer) {{\n",
       "    x.observe(notebookContainer, {childList: true});\n",
       "}}\n",
       "\n",
       "// Listen for the clearing of the current output cell\n",
       "var outputEl = gd.closest('.output');\n",
       "if (outputEl) {{\n",
       "    x.observe(outputEl, {childList: true});\n",
       "}}\n",
       "\n",
       "                        })                };                });            </script>        </div>"
      ]
     },
     "metadata": {},
     "output_type": "display_data"
    }
   ],
   "source": [
    "dur_macc = dur_macc_fig(long_df)"
   ]
  },
  {
   "cell_type": "code",
   "execution_count": null,
   "metadata": {},
   "outputs": [],
   "source": [
    "def plot_metrics_per_layer(architecture, metric):\n",
    "    # #architecture_1 = \"mobilenetv2_0.25_96_c3_o2_l5\"\n",
    "    # run_id = get_model_DB_run_id_from_architecture(architecture)\n",
    "    # df = get_wandb_table_as_df(run_id, \"tflite_layers_mltk\")\n",
    "    metrics_fig = px.bar(df, x=\"_index\", y= metric,\n",
    "                    text_auto=\".2s\",\n",
    "                    labels={\"_index\" : \"layer index\",\n",
    "                            \"dur (ms)\" : \"duration in ms\"},\n",
    "                    width=1200, height=600,\n",
    "                    hover_data=[\"node_type\", \"macc\", \"layer_name\", \"params\", \"size\"],\n",
    "                    title=f\"{metric} per layer - tflite {architecture}\")\n",
    "    metrics_fig.update_traces(width=1)\n",
    "    metrics_fig.update_layout(showlegend=False)\n",
    "\n",
    "    metrics_fig.show()\n",
    "    return  metrics_fig\n"
   ]
  },
  {
   "cell_type": "code",
   "execution_count": null,
   "metadata": {},
   "outputs": [
    {
     "data": {
      "application/vnd.plotly.v1+json": {
       "config": {
        "plotlyServerURL": "https://plot.ly"
       },
       "data": [
        {
         "alignmentgroup": "True",
         "customdata": [
          [
           "Conv2dPool (0x109)",
           0,
           "serving_default_input_20",
           0,
           0
          ],
          [
           "EltwiseInt (0x114)",
           0,
           "mobilenetv3smallNSQ_tf_math_multiply_18_Mul_y",
           1,
           1
          ],
          [
           "EltwiseInt (0x114)",
           0,
           "mobilenetv3smallNSQ_tf_math_add_18_Add_y",
           1,
           1
          ],
          [
           "EltwiseInt (0x114)",
           0,
           "mobilenetv3smallNSQ_tf_clip_by_value_18_clip_by_value_Minimum",
           1,
           1
          ],
          [
           "EltwiseInt (0x114)",
           36864,
           "eltwise_5",
           0,
           0
          ],
          [
           "Conv2D (0x103)",
           589840,
           "conv2d_6",
           272,
           320
          ],
          [
           "Pad (0x116)",
           331792,
           "conv2d_7",
           160,
           208
          ],
          [
           "Conv2D (0x103)",
           294920,
           "conv2d_8",
           136,
           160
          ],
          [
           "Conv2D (0x103)",
           737320,
           "conv2d_9",
           360,
           480
          ],
          [
           "Conv2D (0x103)",
           190480,
           "conv2d_10",
           400,
           520
          ],
          [
           "Conv2D (0x103)",
           169288,
           "conv2d_11",
           328,
           352
          ],
          [
           "Conv2D (0x103)",
           135456,
           "conv2d_12",
           288,
           384
          ],
          [
           "Pad (0x116)",
           152384,
           "conv2d_13",
           320,
           416
          ],
          [
           "Conv2D (0x103)",
           135432,
           "conv2d_14",
           264,
           288
          ],
          [
           "EltwiseInt (0x114)",
           4232,
           "eltwise_15",
           0,
           0
          ],
          [
           "Conv2D (0x103)",
           135456,
           "conv2d_16",
           288,
           384
          ],
          [
           "EltwiseInt (0x114)",
           16928,
           "eltwise_17",
           0,
           0
          ],
          [
           "EltwiseInt (0x114)",
           16928,
           "eltwise_18",
           0,
           0
          ],
          [
           "EltwiseInt (0x114)",
           16928,
           "eltwise_21",
           0,
           0
          ],
          [
           "Conv2D (0x103)",
           80032,
           "conv2d_22",
           832,
           928
          ],
          [
           "EltwiseInt (0x114)",
           3200,
           "eltwise_23",
           0,
           0
          ],
          [
           "EltwiseInt (0x114)",
           3200,
           "eltwise_24",
           0,
           0
          ],
          [
           "EltwiseInt (0x114)",
           3200,
           "eltwise_27",
           0,
           0
          ],
          [
           "Conv2D (0x103)",
           51216,
           "conv2d_28",
           528,
           576
          ],
          [
           "Conv2D (0x103)",
           153696,
           "conv2d_29",
           1632,
           1920
          ],
          [
           "EltwiseInt (0x114)",
           9600,
           "eltwise_30",
           0,
           0
          ],
          [
           "EltwiseInt (0x114)",
           9600,
           "eltwise_31",
           0,
           0
          ],
          [
           "EltwiseInt (0x114)",
           9600,
           "eltwise_34",
           0,
           0
          ],
          [
           "Conv2D (0x103)",
           240096,
           "conv2d_35",
           2496,
           2784
          ],
          [
           "EltwiseInt (0x114)",
           9600,
           "eltwise_36",
           0,
           0
          ],
          [
           "EltwiseInt (0x114)",
           9600,
           "eltwise_37",
           0,
           0
          ],
          [
           "EltwiseInt (0x114)",
           9600,
           "eltwise_40",
           0,
           0
          ],
          [
           "Conv2D (0x103)",
           153616,
           "conv2d_41",
           1552,
           1600
          ],
          [
           "EltwiseInt (0x114)",
           1600,
           "eltwise_42",
           0,
           0
          ],
          [
           "Conv2D (0x103)",
           153696,
           "conv2d_43",
           1632,
           1920
          ],
          [
           "EltwiseInt (0x114)",
           9600,
           "eltwise_44",
           0,
           0
          ],
          [
           "EltwiseInt (0x114)",
           9600,
           "eltwise_45",
           0,
           0
          ],
          [
           "EltwiseInt (0x114)",
           9600,
           "eltwise_48",
           0,
           0
          ],
          [
           "Conv2D (0x103)",
           240096,
           "conv2d_49",
           2496,
           2784
          ],
          [
           "EltwiseInt (0x114)",
           9600,
           "eltwise_50",
           0,
           0
          ],
          [
           "EltwiseInt (0x114)",
           9600,
           "eltwise_51",
           0,
           0
          ],
          [
           "EltwiseInt (0x114)",
           9600,
           "eltwise_54",
           0,
           0
          ],
          [
           "Conv2D (0x103)",
           153616,
           "conv2d_55",
           1552,
           1600
          ],
          [
           "EltwiseInt (0x114)",
           1600,
           "eltwise_56",
           0,
           0
          ],
          [
           "Conv2D (0x103)",
           76848,
           "conv2d_57",
           816,
           960
          ],
          [
           "EltwiseInt (0x114)",
           4800,
           "eltwise_58",
           0,
           0
          ],
          [
           "EltwiseInt (0x114)",
           4800,
           "eltwise_59",
           0,
           0
          ],
          [
           "EltwiseInt (0x114)",
           4800,
           "eltwise_62",
           0,
           0
          ],
          [
           "Conv2D (0x103)",
           120048,
           "conv2d_63",
           1248,
           1392
          ],
          [
           "EltwiseInt (0x114)",
           4800,
           "eltwise_64",
           0,
           0
          ],
          [
           "EltwiseInt (0x114)",
           4800,
           "eltwise_65",
           0,
           0
          ],
          [
           "EltwiseInt (0x114)",
           4800,
           "eltwise_68",
           0,
           0
          ],
          [
           "Conv2D (0x103)",
           76816,
           "conv2d_69",
           784,
           832
          ],
          [
           "EltwiseInt (0x114)",
           1600,
           "eltwise_70",
           0,
           0
          ],
          [
           "Conv2D (0x103)",
           76848,
           "conv2d_71",
           816,
           960
          ],
          [
           "EltwiseInt (0x114)",
           4800,
           "eltwise_72",
           0,
           0
          ],
          [
           "EltwiseInt (0x114)",
           4800,
           "eltwise_73",
           0,
           0
          ],
          [
           "EltwiseInt (0x114)",
           4800,
           "eltwise_76",
           0,
           0
          ],
          [
           "Conv2D (0x103)",
           120048,
           "conv2d_77",
           1248,
           1392
          ],
          [
           "EltwiseInt (0x114)",
           4800,
           "eltwise_78",
           0,
           0
          ],
          [
           "EltwiseInt (0x114)",
           4800,
           "eltwise_79",
           0,
           0
          ],
          [
           "EltwiseInt (0x114)",
           4800,
           "eltwise_82",
           0,
           0
          ],
          [
           "Conv2D (0x103)",
           76816,
           "conv2d_83",
           784,
           832
          ],
          [
           "EltwiseInt (0x114)",
           1600,
           "eltwise_84",
           0,
           0
          ],
          [
           "Conv2D (0x103)",
           153696,
           "conv2d_85",
           1632,
           1920
          ],
          [
           "EltwiseInt (0x114)",
           9600,
           "eltwise_86",
           0,
           0
          ],
          [
           "EltwiseInt (0x114)",
           9600,
           "eltwise_87",
           0,
           0
          ],
          [
           "EltwiseInt (0x114)",
           9600,
           "eltwise_90",
           0,
           0
          ],
          [
           "Conv2D (0x103)",
           21696,
           "conv2d_91",
           2496,
           2784
          ],
          [
           "EltwiseInt (0x114)",
           864,
           "eltwise_92",
           0,
           0
          ],
          [
           "EltwiseInt (0x114)",
           864,
           "eltwise_93",
           0,
           0
          ],
          [
           "EltwiseInt (0x114)",
           864,
           "eltwise_96",
           0,
           0
          ],
          [
           "Conv2D (0x103)",
           20760,
           "conv2d_97",
           2328,
           2400
          ],
          [
           "Conv2D (0x103)",
           31248,
           "conv2d_98",
           3600,
           4032
          ],
          [
           "EltwiseInt (0x114)",
           1296,
           "eltwise_99",
           0,
           0
          ],
          [
           "EltwiseInt (0x114)",
           1296,
           "eltwise_100",
           0,
           0
          ],
          [
           "EltwiseInt (0x114)",
           1296,
           "eltwise_103",
           0,
           0
          ],
          [
           "Conv2D (0x103)",
           32544,
           "conv2d_104",
           3744,
           4176
          ],
          [
           "EltwiseInt (0x114)",
           1296,
           "eltwise_105",
           0,
           0
          ],
          [
           "EltwiseInt (0x114)",
           1296,
           "eltwise_106",
           0,
           0
          ],
          [
           "EltwiseInt (0x114)",
           1296,
           "eltwise_109",
           0,
           0
          ],
          [
           "Conv2D (0x103)",
           31128,
           "conv2d_110",
           3480,
           3552
          ],
          [
           "EltwiseInt (0x114)",
           216,
           "eltwise_111",
           0,
           0
          ],
          [
           "Conv2D (0x103)",
           31248,
           "conv2d_112",
           3600,
           4032
          ],
          [
           "EltwiseInt (0x114)",
           1296,
           "eltwise_113",
           0,
           0
          ],
          [
           "EltwiseInt (0x114)",
           1296,
           "eltwise_114",
           0,
           0
          ],
          [
           "EltwiseInt (0x114)",
           1296,
           "eltwise_117",
           0,
           0
          ],
          [
           "Conv2D (0x103)",
           32544,
           "conv2d_118",
           3744,
           4176
          ],
          [
           "EltwiseInt (0x114)",
           1296,
           "eltwise_119",
           0,
           0
          ],
          [
           "EltwiseInt (0x114)",
           1296,
           "eltwise_120",
           0,
           0
          ],
          [
           "EltwiseInt (0x114)",
           1296,
           "eltwise_123",
           0,
           0
          ],
          [
           "Conv2D (0x103)",
           31128,
           "conv2d_124",
           3480,
           3552
          ],
          [
           "EltwiseInt (0x114)",
           216,
           "eltwise_125",
           0,
           0
          ],
          [
           "Conv2D (0x103)",
           124992,
           "conv2d_126",
           14400,
           16128
          ],
          [
           "EltwiseInt (0x114)",
           5184,
           "eltwise_127",
           0,
           0
          ],
          [
           "EltwiseInt (0x114)",
           5184,
           "eltwise_128",
           0,
           0
          ],
          [
           "EltwiseInt (0x114)",
           5184,
           "eltwise_131",
           0,
           0
          ],
          [
           "Pool (0x10b)",
           5184,
           "pool_132",
           0,
           0
          ],
          [
           "Conv2D (0x103)",
           73856,
           "conv2d_133",
           73856,
           74240
          ],
          [
           "Conv2D (0x103)",
           258,
           "conv2d_134",
           258,
           264
          ]
         ],
         "hovertemplate": "layer index=%{x}<br>duration in ms=%{y}<br>node_type=%{customdata[0]}<br>macc=%{customdata[1]}<br>layer_name=%{customdata[2]}<br>params=%{customdata[3]}<br>size=%{customdata[4]}<extra></extra>",
         "legendgroup": "",
         "marker": {
          "color": "#636efa",
          "pattern": {
           "shape": ""
          }
         },
         "name": "",
         "offsetgroup": "",
         "orientation": "v",
         "showlegend": false,
         "textposition": "auto",
         "texttemplate": "%{y:.2s}",
         "type": "bar",
         "width": 1,
         "x": [
          0,
          1,
          2,
          3,
          4,
          5,
          6,
          8,
          9,
          10,
          11,
          12,
          13,
          15,
          16,
          17,
          18,
          19,
          21,
          22,
          23,
          24,
          26,
          27,
          28,
          29,
          30,
          32,
          33,
          34,
          35,
          37,
          38,
          39,
          40,
          41,
          42,
          44,
          45,
          46,
          47,
          49,
          50,
          51,
          52,
          53,
          54,
          56,
          57,
          58,
          59,
          61,
          62,
          63,
          64,
          65,
          66,
          68,
          69,
          70,
          71,
          73,
          74,
          75,
          76,
          77,
          78,
          80,
          81,
          82,
          83,
          85,
          86,
          87,
          88,
          89,
          91,
          92,
          93,
          94,
          96,
          97,
          98,
          99,
          100,
          101,
          103,
          104,
          105,
          106,
          108,
          109,
          110,
          111,
          112,
          113,
          115,
          116,
          117,
          118
         ],
         "xaxis": "x",
         "y": [
          12.699,
          1.233,
          6.23,
          1.045,
          1.607,
          4.956,
          0.13,
          2.437,
          11.017,
          3.882,
          1.072,
          1.911,
          0.053,
          0.845,
          0.848,
          1.915,
          0.558,
          2.854,
          0.724,
          1.519,
          0.113,
          0.542,
          0.142,
          0.354,
          1.388,
          0.32,
          1.616,
          0.409,
          4.466,
          0.321,
          1.617,
          0.41,
          0.822,
          0.324,
          1.389,
          0.32,
          1.616,
          0.409,
          4.481,
          0.321,
          1.618,
          0.412,
          0.841,
          0.324,
          0.699,
          0.165,
          0.81,
          0.208,
          2.467,
          0.165,
          0.81,
          0.209,
          0.454,
          0.324,
          0.698,
          0.165,
          0.81,
          0.208,
          2.468,
          0.165,
          0.81,
          0.208,
          0.454,
          0.324,
          1.387,
          0.32,
          1.616,
          0.409,
          0.545,
          0.037,
          0.15,
          0.044,
          0.191,
          0.563,
          0.051,
          0.222,
          0.062,
          0.835,
          0.051,
          0.222,
          0.062,
          0.255,
          0.048,
          0.561,
          0.051,
          0.222,
          0.062,
          0.839,
          0.051,
          0.222,
          0.062,
          0.253,
          0.048,
          2.212,
          0.177,
          0.875,
          0.224,
          0.515,
          1.891,
          0.02
         ],
         "yaxis": "y"
        }
       ],
       "layout": {
        "barmode": "relative",
        "height": 600,
        "legend": {
         "tracegroupgap": 0
        },
        "showlegend": false,
        "template": {
         "data": {
          "bar": [
           {
            "error_x": {
             "color": "#2a3f5f"
            },
            "error_y": {
             "color": "#2a3f5f"
            },
            "marker": {
             "line": {
              "color": "#E5ECF6",
              "width": 0.5
             },
             "pattern": {
              "fillmode": "overlay",
              "size": 10,
              "solidity": 0.2
             }
            },
            "type": "bar"
           }
          ],
          "barpolar": [
           {
            "marker": {
             "line": {
              "color": "#E5ECF6",
              "width": 0.5
             },
             "pattern": {
              "fillmode": "overlay",
              "size": 10,
              "solidity": 0.2
             }
            },
            "type": "barpolar"
           }
          ],
          "carpet": [
           {
            "aaxis": {
             "endlinecolor": "#2a3f5f",
             "gridcolor": "white",
             "linecolor": "white",
             "minorgridcolor": "white",
             "startlinecolor": "#2a3f5f"
            },
            "baxis": {
             "endlinecolor": "#2a3f5f",
             "gridcolor": "white",
             "linecolor": "white",
             "minorgridcolor": "white",
             "startlinecolor": "#2a3f5f"
            },
            "type": "carpet"
           }
          ],
          "choropleth": [
           {
            "colorbar": {
             "outlinewidth": 0,
             "ticks": ""
            },
            "type": "choropleth"
           }
          ],
          "contour": [
           {
            "colorbar": {
             "outlinewidth": 0,
             "ticks": ""
            },
            "colorscale": [
             [
              0,
              "#0d0887"
             ],
             [
              0.1111111111111111,
              "#46039f"
             ],
             [
              0.2222222222222222,
              "#7201a8"
             ],
             [
              0.3333333333333333,
              "#9c179e"
             ],
             [
              0.4444444444444444,
              "#bd3786"
             ],
             [
              0.5555555555555556,
              "#d8576b"
             ],
             [
              0.6666666666666666,
              "#ed7953"
             ],
             [
              0.7777777777777778,
              "#fb9f3a"
             ],
             [
              0.8888888888888888,
              "#fdca26"
             ],
             [
              1,
              "#f0f921"
             ]
            ],
            "type": "contour"
           }
          ],
          "contourcarpet": [
           {
            "colorbar": {
             "outlinewidth": 0,
             "ticks": ""
            },
            "type": "contourcarpet"
           }
          ],
          "heatmap": [
           {
            "colorbar": {
             "outlinewidth": 0,
             "ticks": ""
            },
            "colorscale": [
             [
              0,
              "#0d0887"
             ],
             [
              0.1111111111111111,
              "#46039f"
             ],
             [
              0.2222222222222222,
              "#7201a8"
             ],
             [
              0.3333333333333333,
              "#9c179e"
             ],
             [
              0.4444444444444444,
              "#bd3786"
             ],
             [
              0.5555555555555556,
              "#d8576b"
             ],
             [
              0.6666666666666666,
              "#ed7953"
             ],
             [
              0.7777777777777778,
              "#fb9f3a"
             ],
             [
              0.8888888888888888,
              "#fdca26"
             ],
             [
              1,
              "#f0f921"
             ]
            ],
            "type": "heatmap"
           }
          ],
          "heatmapgl": [
           {
            "colorbar": {
             "outlinewidth": 0,
             "ticks": ""
            },
            "colorscale": [
             [
              0,
              "#0d0887"
             ],
             [
              0.1111111111111111,
              "#46039f"
             ],
             [
              0.2222222222222222,
              "#7201a8"
             ],
             [
              0.3333333333333333,
              "#9c179e"
             ],
             [
              0.4444444444444444,
              "#bd3786"
             ],
             [
              0.5555555555555556,
              "#d8576b"
             ],
             [
              0.6666666666666666,
              "#ed7953"
             ],
             [
              0.7777777777777778,
              "#fb9f3a"
             ],
             [
              0.8888888888888888,
              "#fdca26"
             ],
             [
              1,
              "#f0f921"
             ]
            ],
            "type": "heatmapgl"
           }
          ],
          "histogram": [
           {
            "marker": {
             "pattern": {
              "fillmode": "overlay",
              "size": 10,
              "solidity": 0.2
             }
            },
            "type": "histogram"
           }
          ],
          "histogram2d": [
           {
            "colorbar": {
             "outlinewidth": 0,
             "ticks": ""
            },
            "colorscale": [
             [
              0,
              "#0d0887"
             ],
             [
              0.1111111111111111,
              "#46039f"
             ],
             [
              0.2222222222222222,
              "#7201a8"
             ],
             [
              0.3333333333333333,
              "#9c179e"
             ],
             [
              0.4444444444444444,
              "#bd3786"
             ],
             [
              0.5555555555555556,
              "#d8576b"
             ],
             [
              0.6666666666666666,
              "#ed7953"
             ],
             [
              0.7777777777777778,
              "#fb9f3a"
             ],
             [
              0.8888888888888888,
              "#fdca26"
             ],
             [
              1,
              "#f0f921"
             ]
            ],
            "type": "histogram2d"
           }
          ],
          "histogram2dcontour": [
           {
            "colorbar": {
             "outlinewidth": 0,
             "ticks": ""
            },
            "colorscale": [
             [
              0,
              "#0d0887"
             ],
             [
              0.1111111111111111,
              "#46039f"
             ],
             [
              0.2222222222222222,
              "#7201a8"
             ],
             [
              0.3333333333333333,
              "#9c179e"
             ],
             [
              0.4444444444444444,
              "#bd3786"
             ],
             [
              0.5555555555555556,
              "#d8576b"
             ],
             [
              0.6666666666666666,
              "#ed7953"
             ],
             [
              0.7777777777777778,
              "#fb9f3a"
             ],
             [
              0.8888888888888888,
              "#fdca26"
             ],
             [
              1,
              "#f0f921"
             ]
            ],
            "type": "histogram2dcontour"
           }
          ],
          "mesh3d": [
           {
            "colorbar": {
             "outlinewidth": 0,
             "ticks": ""
            },
            "type": "mesh3d"
           }
          ],
          "parcoords": [
           {
            "line": {
             "colorbar": {
              "outlinewidth": 0,
              "ticks": ""
             }
            },
            "type": "parcoords"
           }
          ],
          "pie": [
           {
            "automargin": true,
            "type": "pie"
           }
          ],
          "scatter": [
           {
            "fillpattern": {
             "fillmode": "overlay",
             "size": 10,
             "solidity": 0.2
            },
            "type": "scatter"
           }
          ],
          "scatter3d": [
           {
            "line": {
             "colorbar": {
              "outlinewidth": 0,
              "ticks": ""
             }
            },
            "marker": {
             "colorbar": {
              "outlinewidth": 0,
              "ticks": ""
             }
            },
            "type": "scatter3d"
           }
          ],
          "scattercarpet": [
           {
            "marker": {
             "colorbar": {
              "outlinewidth": 0,
              "ticks": ""
             }
            },
            "type": "scattercarpet"
           }
          ],
          "scattergeo": [
           {
            "marker": {
             "colorbar": {
              "outlinewidth": 0,
              "ticks": ""
             }
            },
            "type": "scattergeo"
           }
          ],
          "scattergl": [
           {
            "marker": {
             "colorbar": {
              "outlinewidth": 0,
              "ticks": ""
             }
            },
            "type": "scattergl"
           }
          ],
          "scattermapbox": [
           {
            "marker": {
             "colorbar": {
              "outlinewidth": 0,
              "ticks": ""
             }
            },
            "type": "scattermapbox"
           }
          ],
          "scatterpolar": [
           {
            "marker": {
             "colorbar": {
              "outlinewidth": 0,
              "ticks": ""
             }
            },
            "type": "scatterpolar"
           }
          ],
          "scatterpolargl": [
           {
            "marker": {
             "colorbar": {
              "outlinewidth": 0,
              "ticks": ""
             }
            },
            "type": "scatterpolargl"
           }
          ],
          "scatterternary": [
           {
            "marker": {
             "colorbar": {
              "outlinewidth": 0,
              "ticks": ""
             }
            },
            "type": "scatterternary"
           }
          ],
          "surface": [
           {
            "colorbar": {
             "outlinewidth": 0,
             "ticks": ""
            },
            "colorscale": [
             [
              0,
              "#0d0887"
             ],
             [
              0.1111111111111111,
              "#46039f"
             ],
             [
              0.2222222222222222,
              "#7201a8"
             ],
             [
              0.3333333333333333,
              "#9c179e"
             ],
             [
              0.4444444444444444,
              "#bd3786"
             ],
             [
              0.5555555555555556,
              "#d8576b"
             ],
             [
              0.6666666666666666,
              "#ed7953"
             ],
             [
              0.7777777777777778,
              "#fb9f3a"
             ],
             [
              0.8888888888888888,
              "#fdca26"
             ],
             [
              1,
              "#f0f921"
             ]
            ],
            "type": "surface"
           }
          ],
          "table": [
           {
            "cells": {
             "fill": {
              "color": "#EBF0F8"
             },
             "line": {
              "color": "white"
             }
            },
            "header": {
             "fill": {
              "color": "#C8D4E3"
             },
             "line": {
              "color": "white"
             }
            },
            "type": "table"
           }
          ]
         },
         "layout": {
          "annotationdefaults": {
           "arrowcolor": "#2a3f5f",
           "arrowhead": 0,
           "arrowwidth": 1
          },
          "autotypenumbers": "strict",
          "coloraxis": {
           "colorbar": {
            "outlinewidth": 0,
            "ticks": ""
           }
          },
          "colorscale": {
           "diverging": [
            [
             0,
             "#8e0152"
            ],
            [
             0.1,
             "#c51b7d"
            ],
            [
             0.2,
             "#de77ae"
            ],
            [
             0.3,
             "#f1b6da"
            ],
            [
             0.4,
             "#fde0ef"
            ],
            [
             0.5,
             "#f7f7f7"
            ],
            [
             0.6,
             "#e6f5d0"
            ],
            [
             0.7,
             "#b8e186"
            ],
            [
             0.8,
             "#7fbc41"
            ],
            [
             0.9,
             "#4d9221"
            ],
            [
             1,
             "#276419"
            ]
           ],
           "sequential": [
            [
             0,
             "#0d0887"
            ],
            [
             0.1111111111111111,
             "#46039f"
            ],
            [
             0.2222222222222222,
             "#7201a8"
            ],
            [
             0.3333333333333333,
             "#9c179e"
            ],
            [
             0.4444444444444444,
             "#bd3786"
            ],
            [
             0.5555555555555556,
             "#d8576b"
            ],
            [
             0.6666666666666666,
             "#ed7953"
            ],
            [
             0.7777777777777778,
             "#fb9f3a"
            ],
            [
             0.8888888888888888,
             "#fdca26"
            ],
            [
             1,
             "#f0f921"
            ]
           ],
           "sequentialminus": [
            [
             0,
             "#0d0887"
            ],
            [
             0.1111111111111111,
             "#46039f"
            ],
            [
             0.2222222222222222,
             "#7201a8"
            ],
            [
             0.3333333333333333,
             "#9c179e"
            ],
            [
             0.4444444444444444,
             "#bd3786"
            ],
            [
             0.5555555555555556,
             "#d8576b"
            ],
            [
             0.6666666666666666,
             "#ed7953"
            ],
            [
             0.7777777777777778,
             "#fb9f3a"
            ],
            [
             0.8888888888888888,
             "#fdca26"
            ],
            [
             1,
             "#f0f921"
            ]
           ]
          },
          "colorway": [
           "#636efa",
           "#EF553B",
           "#00cc96",
           "#ab63fa",
           "#FFA15A",
           "#19d3f3",
           "#FF6692",
           "#B6E880",
           "#FF97FF",
           "#FECB52"
          ],
          "font": {
           "color": "#2a3f5f"
          },
          "geo": {
           "bgcolor": "white",
           "lakecolor": "white",
           "landcolor": "#E5ECF6",
           "showlakes": true,
           "showland": true,
           "subunitcolor": "white"
          },
          "hoverlabel": {
           "align": "left"
          },
          "hovermode": "closest",
          "mapbox": {
           "style": "light"
          },
          "paper_bgcolor": "white",
          "plot_bgcolor": "#E5ECF6",
          "polar": {
           "angularaxis": {
            "gridcolor": "white",
            "linecolor": "white",
            "ticks": ""
           },
           "bgcolor": "#E5ECF6",
           "radialaxis": {
            "gridcolor": "white",
            "linecolor": "white",
            "ticks": ""
           }
          },
          "scene": {
           "xaxis": {
            "backgroundcolor": "#E5ECF6",
            "gridcolor": "white",
            "gridwidth": 2,
            "linecolor": "white",
            "showbackground": true,
            "ticks": "",
            "zerolinecolor": "white"
           },
           "yaxis": {
            "backgroundcolor": "#E5ECF6",
            "gridcolor": "white",
            "gridwidth": 2,
            "linecolor": "white",
            "showbackground": true,
            "ticks": "",
            "zerolinecolor": "white"
           },
           "zaxis": {
            "backgroundcolor": "#E5ECF6",
            "gridcolor": "white",
            "gridwidth": 2,
            "linecolor": "white",
            "showbackground": true,
            "ticks": "",
            "zerolinecolor": "white"
           }
          },
          "shapedefaults": {
           "line": {
            "color": "#2a3f5f"
           }
          },
          "ternary": {
           "aaxis": {
            "gridcolor": "white",
            "linecolor": "white",
            "ticks": ""
           },
           "baxis": {
            "gridcolor": "white",
            "linecolor": "white",
            "ticks": ""
           },
           "bgcolor": "#E5ECF6",
           "caxis": {
            "gridcolor": "white",
            "linecolor": "white",
            "ticks": ""
           }
          },
          "title": {
           "x": 0.05
          },
          "xaxis": {
           "automargin": true,
           "gridcolor": "white",
           "linecolor": "white",
           "ticks": "",
           "title": {
            "standoff": 15
           },
           "zerolinecolor": "white",
           "zerolinewidth": 2
          },
          "yaxis": {
           "automargin": true,
           "gridcolor": "white",
           "linecolor": "white",
           "ticks": "",
           "title": {
            "standoff": 15
           },
           "zerolinecolor": "white",
           "zerolinewidth": 2
          }
         }
        },
        "title": {
         "text": "dur (ms) per layer - tflite mobilenetv3smallNSQ_0.25_96_c3_o2_se4l128.MV3"
        },
        "width": 1200,
        "xaxis": {
         "anchor": "y",
         "domain": [
          0,
          1
         ],
         "title": {
          "text": "layer index"
         }
        },
        "yaxis": {
         "anchor": "x",
         "domain": [
          0,
          1
         ],
         "title": {
          "text": "duration in ms"
         }
        }
       }
      },
      "text/html": [
       "<div>                            <div id=\"cade130f-27e1-43fe-b1c4-65fee4914634\" class=\"plotly-graph-div\" style=\"height:600px; width:1200px;\"></div>            <script type=\"text/javascript\">                require([\"plotly\"], function(Plotly) {                    window.PLOTLYENV=window.PLOTLYENV || {};                                    if (document.getElementById(\"cade130f-27e1-43fe-b1c4-65fee4914634\")) {                    Plotly.newPlot(                        \"cade130f-27e1-43fe-b1c4-65fee4914634\",                        [{\"alignmentgroup\":\"True\",\"customdata\":[[\"Conv2dPool (0x109)\",0.0,\"serving_default_input_20\",0.0,0.0],[\"EltwiseInt (0x114)\",0.0,\"mobilenetv3smallNSQ_tf_math_multiply_18_Mul_y\",1.0,1.0],[\"EltwiseInt (0x114)\",0.0,\"mobilenetv3smallNSQ_tf_math_add_18_Add_y\",1.0,1.0],[\"EltwiseInt (0x114)\",0.0,\"mobilenetv3smallNSQ_tf_clip_by_value_18_clip_by_value_Minimum\",1.0,1.0],[\"EltwiseInt (0x114)\",36864.0,\"eltwise_5\",0.0,0.0],[\"Conv2D (0x103)\",589840.0,\"conv2d_6\",272.0,320.0],[\"Pad (0x116)\",331792.0,\"conv2d_7\",160.0,208.0],[\"Conv2D (0x103)\",294920.0,\"conv2d_8\",136.0,160.0],[\"Conv2D (0x103)\",737320.0,\"conv2d_9\",360.0,480.0],[\"Conv2D (0x103)\",190480.0,\"conv2d_10\",400.0,520.0],[\"Conv2D (0x103)\",169288.0,\"conv2d_11\",328.0,352.0],[\"Conv2D (0x103)\",135456.0,\"conv2d_12\",288.0,384.0],[\"Pad (0x116)\",152384.0,\"conv2d_13\",320.0,416.0],[\"Conv2D (0x103)\",135432.0,\"conv2d_14\",264.0,288.0],[\"EltwiseInt (0x114)\",4232.0,\"eltwise_15\",0.0,0.0],[\"Conv2D (0x103)\",135456.0,\"conv2d_16\",288.0,384.0],[\"EltwiseInt (0x114)\",16928.0,\"eltwise_17\",0.0,0.0],[\"EltwiseInt (0x114)\",16928.0,\"eltwise_18\",0.0,0.0],[\"EltwiseInt (0x114)\",16928.0,\"eltwise_21\",0.0,0.0],[\"Conv2D (0x103)\",80032.0,\"conv2d_22\",832.0,928.0],[\"EltwiseInt (0x114)\",3200.0,\"eltwise_23\",0.0,0.0],[\"EltwiseInt (0x114)\",3200.0,\"eltwise_24\",0.0,0.0],[\"EltwiseInt (0x114)\",3200.0,\"eltwise_27\",0.0,0.0],[\"Conv2D (0x103)\",51216.0,\"conv2d_28\",528.0,576.0],[\"Conv2D (0x103)\",153696.0,\"conv2d_29\",1632.0,1920.0],[\"EltwiseInt (0x114)\",9600.0,\"eltwise_30\",0.0,0.0],[\"EltwiseInt (0x114)\",9600.0,\"eltwise_31\",0.0,0.0],[\"EltwiseInt (0x114)\",9600.0,\"eltwise_34\",0.0,0.0],[\"Conv2D (0x103)\",240096.0,\"conv2d_35\",2496.0,2784.0],[\"EltwiseInt (0x114)\",9600.0,\"eltwise_36\",0.0,0.0],[\"EltwiseInt (0x114)\",9600.0,\"eltwise_37\",0.0,0.0],[\"EltwiseInt (0x114)\",9600.0,\"eltwise_40\",0.0,0.0],[\"Conv2D (0x103)\",153616.0,\"conv2d_41\",1552.0,1600.0],[\"EltwiseInt (0x114)\",1600.0,\"eltwise_42\",0.0,0.0],[\"Conv2D (0x103)\",153696.0,\"conv2d_43\",1632.0,1920.0],[\"EltwiseInt (0x114)\",9600.0,\"eltwise_44\",0.0,0.0],[\"EltwiseInt (0x114)\",9600.0,\"eltwise_45\",0.0,0.0],[\"EltwiseInt (0x114)\",9600.0,\"eltwise_48\",0.0,0.0],[\"Conv2D (0x103)\",240096.0,\"conv2d_49\",2496.0,2784.0],[\"EltwiseInt (0x114)\",9600.0,\"eltwise_50\",0.0,0.0],[\"EltwiseInt (0x114)\",9600.0,\"eltwise_51\",0.0,0.0],[\"EltwiseInt (0x114)\",9600.0,\"eltwise_54\",0.0,0.0],[\"Conv2D (0x103)\",153616.0,\"conv2d_55\",1552.0,1600.0],[\"EltwiseInt (0x114)\",1600.0,\"eltwise_56\",0.0,0.0],[\"Conv2D (0x103)\",76848.0,\"conv2d_57\",816.0,960.0],[\"EltwiseInt (0x114)\",4800.0,\"eltwise_58\",0.0,0.0],[\"EltwiseInt (0x114)\",4800.0,\"eltwise_59\",0.0,0.0],[\"EltwiseInt (0x114)\",4800.0,\"eltwise_62\",0.0,0.0],[\"Conv2D (0x103)\",120048.0,\"conv2d_63\",1248.0,1392.0],[\"EltwiseInt (0x114)\",4800.0,\"eltwise_64\",0.0,0.0],[\"EltwiseInt (0x114)\",4800.0,\"eltwise_65\",0.0,0.0],[\"EltwiseInt (0x114)\",4800.0,\"eltwise_68\",0.0,0.0],[\"Conv2D (0x103)\",76816.0,\"conv2d_69\",784.0,832.0],[\"EltwiseInt (0x114)\",1600.0,\"eltwise_70\",0.0,0.0],[\"Conv2D (0x103)\",76848.0,\"conv2d_71\",816.0,960.0],[\"EltwiseInt (0x114)\",4800.0,\"eltwise_72\",0.0,0.0],[\"EltwiseInt (0x114)\",4800.0,\"eltwise_73\",0.0,0.0],[\"EltwiseInt (0x114)\",4800.0,\"eltwise_76\",0.0,0.0],[\"Conv2D (0x103)\",120048.0,\"conv2d_77\",1248.0,1392.0],[\"EltwiseInt (0x114)\",4800.0,\"eltwise_78\",0.0,0.0],[\"EltwiseInt (0x114)\",4800.0,\"eltwise_79\",0.0,0.0],[\"EltwiseInt (0x114)\",4800.0,\"eltwise_82\",0.0,0.0],[\"Conv2D (0x103)\",76816.0,\"conv2d_83\",784.0,832.0],[\"EltwiseInt (0x114)\",1600.0,\"eltwise_84\",0.0,0.0],[\"Conv2D (0x103)\",153696.0,\"conv2d_85\",1632.0,1920.0],[\"EltwiseInt (0x114)\",9600.0,\"eltwise_86\",0.0,0.0],[\"EltwiseInt (0x114)\",9600.0,\"eltwise_87\",0.0,0.0],[\"EltwiseInt (0x114)\",9600.0,\"eltwise_90\",0.0,0.0],[\"Conv2D (0x103)\",21696.0,\"conv2d_91\",2496.0,2784.0],[\"EltwiseInt (0x114)\",864.0,\"eltwise_92\",0.0,0.0],[\"EltwiseInt (0x114)\",864.0,\"eltwise_93\",0.0,0.0],[\"EltwiseInt (0x114)\",864.0,\"eltwise_96\",0.0,0.0],[\"Conv2D (0x103)\",20760.0,\"conv2d_97\",2328.0,2400.0],[\"Conv2D (0x103)\",31248.0,\"conv2d_98\",3600.0,4032.0],[\"EltwiseInt (0x114)\",1296.0,\"eltwise_99\",0.0,0.0],[\"EltwiseInt (0x114)\",1296.0,\"eltwise_100\",0.0,0.0],[\"EltwiseInt (0x114)\",1296.0,\"eltwise_103\",0.0,0.0],[\"Conv2D (0x103)\",32544.0,\"conv2d_104\",3744.0,4176.0],[\"EltwiseInt (0x114)\",1296.0,\"eltwise_105\",0.0,0.0],[\"EltwiseInt (0x114)\",1296.0,\"eltwise_106\",0.0,0.0],[\"EltwiseInt (0x114)\",1296.0,\"eltwise_109\",0.0,0.0],[\"Conv2D (0x103)\",31128.0,\"conv2d_110\",3480.0,3552.0],[\"EltwiseInt (0x114)\",216.0,\"eltwise_111\",0.0,0.0],[\"Conv2D (0x103)\",31248.0,\"conv2d_112\",3600.0,4032.0],[\"EltwiseInt (0x114)\",1296.0,\"eltwise_113\",0.0,0.0],[\"EltwiseInt (0x114)\",1296.0,\"eltwise_114\",0.0,0.0],[\"EltwiseInt (0x114)\",1296.0,\"eltwise_117\",0.0,0.0],[\"Conv2D (0x103)\",32544.0,\"conv2d_118\",3744.0,4176.0],[\"EltwiseInt (0x114)\",1296.0,\"eltwise_119\",0.0,0.0],[\"EltwiseInt (0x114)\",1296.0,\"eltwise_120\",0.0,0.0],[\"EltwiseInt (0x114)\",1296.0,\"eltwise_123\",0.0,0.0],[\"Conv2D (0x103)\",31128.0,\"conv2d_124\",3480.0,3552.0],[\"EltwiseInt (0x114)\",216.0,\"eltwise_125\",0.0,0.0],[\"Conv2D (0x103)\",124992.0,\"conv2d_126\",14400.0,16128.0],[\"EltwiseInt (0x114)\",5184.0,\"eltwise_127\",0.0,0.0],[\"EltwiseInt (0x114)\",5184.0,\"eltwise_128\",0.0,0.0],[\"EltwiseInt (0x114)\",5184.0,\"eltwise_131\",0.0,0.0],[\"Pool (0x10b)\",5184.0,\"pool_132\",0.0,0.0],[\"Conv2D (0x103)\",73856.0,\"conv2d_133\",73856.0,74240.0],[\"Conv2D (0x103)\",258.0,\"conv2d_134\",258.0,264.0]],\"hovertemplate\":\"layer index=%{x}<br>duration in ms=%{y}<br>node_type=%{customdata[0]}<br>macc=%{customdata[1]}<br>layer_name=%{customdata[2]}<br>params=%{customdata[3]}<br>size=%{customdata[4]}<extra></extra>\",\"legendgroup\":\"\",\"marker\":{\"color\":\"#636efa\",\"pattern\":{\"shape\":\"\"}},\"name\":\"\",\"offsetgroup\":\"\",\"orientation\":\"v\",\"showlegend\":false,\"textposition\":\"auto\",\"texttemplate\":\"%{y:.2s}\",\"x\":[0,1,2,3,4,5,6,8,9,10,11,12,13,15,16,17,18,19,21,22,23,24,26,27,28,29,30,32,33,34,35,37,38,39,40,41,42,44,45,46,47,49,50,51,52,53,54,56,57,58,59,61,62,63,64,65,66,68,69,70,71,73,74,75,76,77,78,80,81,82,83,85,86,87,88,89,91,92,93,94,96,97,98,99,100,101,103,104,105,106,108,109,110,111,112,113,115,116,117,118],\"xaxis\":\"x\",\"y\":[12.699,1.233,6.23,1.045,1.607,4.956,0.13,2.437,11.017,3.882,1.072,1.911,0.053,0.845,0.848,1.915,0.558,2.854,0.724,1.519,0.113,0.542,0.142,0.354,1.388,0.32,1.616,0.409,4.466,0.321,1.617,0.41,0.822,0.324,1.389,0.32,1.616,0.409,4.481,0.321,1.618,0.412,0.841,0.324,0.699,0.165,0.81,0.208,2.467,0.165,0.81,0.209,0.454,0.324,0.698,0.165,0.81,0.208,2.468,0.165,0.81,0.208,0.454,0.324,1.387,0.32,1.616,0.409,0.545,0.037,0.15,0.044,0.191,0.563,0.051,0.222,0.062,0.835,0.051,0.222,0.062,0.255,0.048,0.561,0.051,0.222,0.062,0.839,0.051,0.222,0.062,0.253,0.048,2.212,0.177,0.875,0.224,0.515,1.891,0.02],\"yaxis\":\"y\",\"type\":\"bar\",\"width\":1}],                        {\"template\":{\"data\":{\"histogram2dcontour\":[{\"type\":\"histogram2dcontour\",\"colorbar\":{\"outlinewidth\":0,\"ticks\":\"\"},\"colorscale\":[[0.0,\"#0d0887\"],[0.1111111111111111,\"#46039f\"],[0.2222222222222222,\"#7201a8\"],[0.3333333333333333,\"#9c179e\"],[0.4444444444444444,\"#bd3786\"],[0.5555555555555556,\"#d8576b\"],[0.6666666666666666,\"#ed7953\"],[0.7777777777777778,\"#fb9f3a\"],[0.8888888888888888,\"#fdca26\"],[1.0,\"#f0f921\"]]}],\"choropleth\":[{\"type\":\"choropleth\",\"colorbar\":{\"outlinewidth\":0,\"ticks\":\"\"}}],\"histogram2d\":[{\"type\":\"histogram2d\",\"colorbar\":{\"outlinewidth\":0,\"ticks\":\"\"},\"colorscale\":[[0.0,\"#0d0887\"],[0.1111111111111111,\"#46039f\"],[0.2222222222222222,\"#7201a8\"],[0.3333333333333333,\"#9c179e\"],[0.4444444444444444,\"#bd3786\"],[0.5555555555555556,\"#d8576b\"],[0.6666666666666666,\"#ed7953\"],[0.7777777777777778,\"#fb9f3a\"],[0.8888888888888888,\"#fdca26\"],[1.0,\"#f0f921\"]]}],\"heatmap\":[{\"type\":\"heatmap\",\"colorbar\":{\"outlinewidth\":0,\"ticks\":\"\"},\"colorscale\":[[0.0,\"#0d0887\"],[0.1111111111111111,\"#46039f\"],[0.2222222222222222,\"#7201a8\"],[0.3333333333333333,\"#9c179e\"],[0.4444444444444444,\"#bd3786\"],[0.5555555555555556,\"#d8576b\"],[0.6666666666666666,\"#ed7953\"],[0.7777777777777778,\"#fb9f3a\"],[0.8888888888888888,\"#fdca26\"],[1.0,\"#f0f921\"]]}],\"heatmapgl\":[{\"type\":\"heatmapgl\",\"colorbar\":{\"outlinewidth\":0,\"ticks\":\"\"},\"colorscale\":[[0.0,\"#0d0887\"],[0.1111111111111111,\"#46039f\"],[0.2222222222222222,\"#7201a8\"],[0.3333333333333333,\"#9c179e\"],[0.4444444444444444,\"#bd3786\"],[0.5555555555555556,\"#d8576b\"],[0.6666666666666666,\"#ed7953\"],[0.7777777777777778,\"#fb9f3a\"],[0.8888888888888888,\"#fdca26\"],[1.0,\"#f0f921\"]]}],\"contourcarpet\":[{\"type\":\"contourcarpet\",\"colorbar\":{\"outlinewidth\":0,\"ticks\":\"\"}}],\"contour\":[{\"type\":\"contour\",\"colorbar\":{\"outlinewidth\":0,\"ticks\":\"\"},\"colorscale\":[[0.0,\"#0d0887\"],[0.1111111111111111,\"#46039f\"],[0.2222222222222222,\"#7201a8\"],[0.3333333333333333,\"#9c179e\"],[0.4444444444444444,\"#bd3786\"],[0.5555555555555556,\"#d8576b\"],[0.6666666666666666,\"#ed7953\"],[0.7777777777777778,\"#fb9f3a\"],[0.8888888888888888,\"#fdca26\"],[1.0,\"#f0f921\"]]}],\"surface\":[{\"type\":\"surface\",\"colorbar\":{\"outlinewidth\":0,\"ticks\":\"\"},\"colorscale\":[[0.0,\"#0d0887\"],[0.1111111111111111,\"#46039f\"],[0.2222222222222222,\"#7201a8\"],[0.3333333333333333,\"#9c179e\"],[0.4444444444444444,\"#bd3786\"],[0.5555555555555556,\"#d8576b\"],[0.6666666666666666,\"#ed7953\"],[0.7777777777777778,\"#fb9f3a\"],[0.8888888888888888,\"#fdca26\"],[1.0,\"#f0f921\"]]}],\"mesh3d\":[{\"type\":\"mesh3d\",\"colorbar\":{\"outlinewidth\":0,\"ticks\":\"\"}}],\"scatter\":[{\"fillpattern\":{\"fillmode\":\"overlay\",\"size\":10,\"solidity\":0.2},\"type\":\"scatter\"}],\"parcoords\":[{\"type\":\"parcoords\",\"line\":{\"colorbar\":{\"outlinewidth\":0,\"ticks\":\"\"}}}],\"scatterpolargl\":[{\"type\":\"scatterpolargl\",\"marker\":{\"colorbar\":{\"outlinewidth\":0,\"ticks\":\"\"}}}],\"bar\":[{\"error_x\":{\"color\":\"#2a3f5f\"},\"error_y\":{\"color\":\"#2a3f5f\"},\"marker\":{\"line\":{\"color\":\"#E5ECF6\",\"width\":0.5},\"pattern\":{\"fillmode\":\"overlay\",\"size\":10,\"solidity\":0.2}},\"type\":\"bar\"}],\"scattergeo\":[{\"type\":\"scattergeo\",\"marker\":{\"colorbar\":{\"outlinewidth\":0,\"ticks\":\"\"}}}],\"scatterpolar\":[{\"type\":\"scatterpolar\",\"marker\":{\"colorbar\":{\"outlinewidth\":0,\"ticks\":\"\"}}}],\"histogram\":[{\"marker\":{\"pattern\":{\"fillmode\":\"overlay\",\"size\":10,\"solidity\":0.2}},\"type\":\"histogram\"}],\"scattergl\":[{\"type\":\"scattergl\",\"marker\":{\"colorbar\":{\"outlinewidth\":0,\"ticks\":\"\"}}}],\"scatter3d\":[{\"type\":\"scatter3d\",\"line\":{\"colorbar\":{\"outlinewidth\":0,\"ticks\":\"\"}},\"marker\":{\"colorbar\":{\"outlinewidth\":0,\"ticks\":\"\"}}}],\"scattermapbox\":[{\"type\":\"scattermapbox\",\"marker\":{\"colorbar\":{\"outlinewidth\":0,\"ticks\":\"\"}}}],\"scatterternary\":[{\"type\":\"scatterternary\",\"marker\":{\"colorbar\":{\"outlinewidth\":0,\"ticks\":\"\"}}}],\"scattercarpet\":[{\"type\":\"scattercarpet\",\"marker\":{\"colorbar\":{\"outlinewidth\":0,\"ticks\":\"\"}}}],\"carpet\":[{\"aaxis\":{\"endlinecolor\":\"#2a3f5f\",\"gridcolor\":\"white\",\"linecolor\":\"white\",\"minorgridcolor\":\"white\",\"startlinecolor\":\"#2a3f5f\"},\"baxis\":{\"endlinecolor\":\"#2a3f5f\",\"gridcolor\":\"white\",\"linecolor\":\"white\",\"minorgridcolor\":\"white\",\"startlinecolor\":\"#2a3f5f\"},\"type\":\"carpet\"}],\"table\":[{\"cells\":{\"fill\":{\"color\":\"#EBF0F8\"},\"line\":{\"color\":\"white\"}},\"header\":{\"fill\":{\"color\":\"#C8D4E3\"},\"line\":{\"color\":\"white\"}},\"type\":\"table\"}],\"barpolar\":[{\"marker\":{\"line\":{\"color\":\"#E5ECF6\",\"width\":0.5},\"pattern\":{\"fillmode\":\"overlay\",\"size\":10,\"solidity\":0.2}},\"type\":\"barpolar\"}],\"pie\":[{\"automargin\":true,\"type\":\"pie\"}]},\"layout\":{\"autotypenumbers\":\"strict\",\"colorway\":[\"#636efa\",\"#EF553B\",\"#00cc96\",\"#ab63fa\",\"#FFA15A\",\"#19d3f3\",\"#FF6692\",\"#B6E880\",\"#FF97FF\",\"#FECB52\"],\"font\":{\"color\":\"#2a3f5f\"},\"hovermode\":\"closest\",\"hoverlabel\":{\"align\":\"left\"},\"paper_bgcolor\":\"white\",\"plot_bgcolor\":\"#E5ECF6\",\"polar\":{\"bgcolor\":\"#E5ECF6\",\"angularaxis\":{\"gridcolor\":\"white\",\"linecolor\":\"white\",\"ticks\":\"\"},\"radialaxis\":{\"gridcolor\":\"white\",\"linecolor\":\"white\",\"ticks\":\"\"}},\"ternary\":{\"bgcolor\":\"#E5ECF6\",\"aaxis\":{\"gridcolor\":\"white\",\"linecolor\":\"white\",\"ticks\":\"\"},\"baxis\":{\"gridcolor\":\"white\",\"linecolor\":\"white\",\"ticks\":\"\"},\"caxis\":{\"gridcolor\":\"white\",\"linecolor\":\"white\",\"ticks\":\"\"}},\"coloraxis\":{\"colorbar\":{\"outlinewidth\":0,\"ticks\":\"\"}},\"colorscale\":{\"sequential\":[[0.0,\"#0d0887\"],[0.1111111111111111,\"#46039f\"],[0.2222222222222222,\"#7201a8\"],[0.3333333333333333,\"#9c179e\"],[0.4444444444444444,\"#bd3786\"],[0.5555555555555556,\"#d8576b\"],[0.6666666666666666,\"#ed7953\"],[0.7777777777777778,\"#fb9f3a\"],[0.8888888888888888,\"#fdca26\"],[1.0,\"#f0f921\"]],\"sequentialminus\":[[0.0,\"#0d0887\"],[0.1111111111111111,\"#46039f\"],[0.2222222222222222,\"#7201a8\"],[0.3333333333333333,\"#9c179e\"],[0.4444444444444444,\"#bd3786\"],[0.5555555555555556,\"#d8576b\"],[0.6666666666666666,\"#ed7953\"],[0.7777777777777778,\"#fb9f3a\"],[0.8888888888888888,\"#fdca26\"],[1.0,\"#f0f921\"]],\"diverging\":[[0,\"#8e0152\"],[0.1,\"#c51b7d\"],[0.2,\"#de77ae\"],[0.3,\"#f1b6da\"],[0.4,\"#fde0ef\"],[0.5,\"#f7f7f7\"],[0.6,\"#e6f5d0\"],[0.7,\"#b8e186\"],[0.8,\"#7fbc41\"],[0.9,\"#4d9221\"],[1,\"#276419\"]]},\"xaxis\":{\"gridcolor\":\"white\",\"linecolor\":\"white\",\"ticks\":\"\",\"title\":{\"standoff\":15},\"zerolinecolor\":\"white\",\"automargin\":true,\"zerolinewidth\":2},\"yaxis\":{\"gridcolor\":\"white\",\"linecolor\":\"white\",\"ticks\":\"\",\"title\":{\"standoff\":15},\"zerolinecolor\":\"white\",\"automargin\":true,\"zerolinewidth\":2},\"scene\":{\"xaxis\":{\"backgroundcolor\":\"#E5ECF6\",\"gridcolor\":\"white\",\"linecolor\":\"white\",\"showbackground\":true,\"ticks\":\"\",\"zerolinecolor\":\"white\",\"gridwidth\":2},\"yaxis\":{\"backgroundcolor\":\"#E5ECF6\",\"gridcolor\":\"white\",\"linecolor\":\"white\",\"showbackground\":true,\"ticks\":\"\",\"zerolinecolor\":\"white\",\"gridwidth\":2},\"zaxis\":{\"backgroundcolor\":\"#E5ECF6\",\"gridcolor\":\"white\",\"linecolor\":\"white\",\"showbackground\":true,\"ticks\":\"\",\"zerolinecolor\":\"white\",\"gridwidth\":2}},\"shapedefaults\":{\"line\":{\"color\":\"#2a3f5f\"}},\"annotationdefaults\":{\"arrowcolor\":\"#2a3f5f\",\"arrowhead\":0,\"arrowwidth\":1},\"geo\":{\"bgcolor\":\"white\",\"landcolor\":\"#E5ECF6\",\"subunitcolor\":\"white\",\"showland\":true,\"showlakes\":true,\"lakecolor\":\"white\"},\"title\":{\"x\":0.05},\"mapbox\":{\"style\":\"light\"}}},\"xaxis\":{\"anchor\":\"y\",\"domain\":[0.0,1.0],\"title\":{\"text\":\"layer index\"}},\"yaxis\":{\"anchor\":\"x\",\"domain\":[0.0,1.0],\"title\":{\"text\":\"duration in ms\"}},\"legend\":{\"tracegroupgap\":0},\"title\":{\"text\":\"dur (ms) per layer - tflite mobilenetv3smallNSQ_0.25_96_c3_o2_se4l128.MV3\"},\"barmode\":\"relative\",\"height\":600,\"width\":1200,\"showlegend\":false},                        {\"responsive\": true}                    ).then(function(){\n",
       "                            \n",
       "var gd = document.getElementById('cade130f-27e1-43fe-b1c4-65fee4914634');\n",
       "var x = new MutationObserver(function (mutations, observer) {{\n",
       "        var display = window.getComputedStyle(gd).display;\n",
       "        if (!display || display === 'none') {{\n",
       "            console.log([gd, 'removed!']);\n",
       "            Plotly.purge(gd);\n",
       "            observer.disconnect();\n",
       "        }}\n",
       "}});\n",
       "\n",
       "// Listen for the removal of the full notebook cells\n",
       "var notebookContainer = gd.closest('#notebook-container');\n",
       "if (notebookContainer) {{\n",
       "    x.observe(notebookContainer, {childList: true});\n",
       "}}\n",
       "\n",
       "// Listen for the clearing of the current output cell\n",
       "var outputEl = gd.closest('.output');\n",
       "if (outputEl) {{\n",
       "    x.observe(outputEl, {childList: true});\n",
       "}}\n",
       "\n",
       "                        })                };                });            </script>        </div>"
      ]
     },
     "metadata": {},
     "output_type": "display_data"
    }
   ],
   "source": [
    "duration_fig = plot_metrics_per_layer(model_name, \"dur (ms)\")"
   ]
  },
  {
   "cell_type": "code",
   "execution_count": 79,
   "metadata": {},
   "outputs": [],
   "source": [
    "def get_wandb_run_order_df(run_id):\n",
    "    table_name = \"Runorder\"\n",
    "    api = wandb.Api()\n",
    "    artifact = api.artifact(f'{ENTITY}/{PROJECT}/run-{run_id}-{table_name}:latest')\n",
    "    artifact_dir = artifact.download()\n",
    "    table_path = Path(artifact_dir).joinpath(\"Run order.table.json\")\n",
    "    #print(f\"filepath {table_path}\")\n",
    "\n",
    "    with open(table_path) as file:\n",
    "        json_dict = json.load(file)\n",
    "        #print(json_dict)\n",
    "    df = pd.DataFrame(json_dict[\"data\"], columns=json_dict[\"columns\"])\n",
    "\n",
    "    return df"
   ]
  },
  {
   "cell_type": "code",
   "execution_count": 80,
   "metadata": {},
   "outputs": [
    {
     "name": "stderr",
     "output_type": "stream",
     "text": [
      "\u001b[34m\u001b[1mwandb\u001b[0m:   1 of 1 files downloaded.  \n"
     ]
    },
    {
     "data": {
      "text/html": [
       "<div>\n",
       "<style scoped>\n",
       "    .dataframe tbody tr th:only-of-type {\n",
       "        vertical-align: middle;\n",
       "    }\n",
       "\n",
       "    .dataframe tbody tr th {\n",
       "        vertical-align: top;\n",
       "    }\n",
       "\n",
       "    .dataframe thead th {\n",
       "        text-align: right;\n",
       "    }\n",
       "</style>\n",
       "<table border=\"1\" class=\"dataframe\">\n",
       "  <thead>\n",
       "    <tr style=\"text-align: right;\">\n",
       "      <th></th>\n",
       "      <th>node type</th>\n",
       "      <th>first</th>\n",
       "      <th>avg ms</th>\n",
       "      <th>%</th>\n",
       "      <th>cdf%</th>\n",
       "      <th>mem KB</th>\n",
       "      <th>times called</th>\n",
       "      <th>Name</th>\n",
       "    </tr>\n",
       "  </thead>\n",
       "  <tbody>\n",
       "    <tr>\n",
       "      <th>0</th>\n",
       "      <td>QUANTIZE</td>\n",
       "      <td>0.114</td>\n",
       "      <td>0.103</td>\n",
       "      <td>21.787</td>\n",
       "      <td>21.787</td>\n",
       "      <td>0.0</td>\n",
       "      <td>1</td>\n",
       "      <td>[tfl.quantize]:0</td>\n",
       "    </tr>\n",
       "    <tr>\n",
       "      <th>1</th>\n",
       "      <td>Convolution (NHWC, QC8) IGEMM</td>\n",
       "      <td>0.044</td>\n",
       "      <td>0.047</td>\n",
       "      <td>9.826</td>\n",
       "      <td>31.613</td>\n",
       "      <td>0.0</td>\n",
       "      <td>1</td>\n",
       "      <td>Delegate/Convolution (NHWC, QC8) IGEMM:0</td>\n",
       "    </tr>\n",
       "    <tr>\n",
       "      <th>2</th>\n",
       "      <td>Convolution (NHWC, QC8) DWConv</td>\n",
       "      <td>0.032</td>\n",
       "      <td>0.037</td>\n",
       "      <td>7.700</td>\n",
       "      <td>39.313</td>\n",
       "      <td>0.0</td>\n",
       "      <td>1</td>\n",
       "      <td>Delegate/Convolution (NHWC, QC8) DWConv:1</td>\n",
       "    </tr>\n",
       "    <tr>\n",
       "      <th>3</th>\n",
       "      <td>Convolution (NHWC, QC8) GEMM</td>\n",
       "      <td>0.024</td>\n",
       "      <td>0.027</td>\n",
       "      <td>5.698</td>\n",
       "      <td>45.011</td>\n",
       "      <td>0.0</td>\n",
       "      <td>1</td>\n",
       "      <td>Delegate/Convolution (NHWC, QC8) GEMM:2</td>\n",
       "    </tr>\n",
       "    <tr>\n",
       "      <th>4</th>\n",
       "      <td>Convolution (NHWC, QC8) DWConv</td>\n",
       "      <td>0.013</td>\n",
       "      <td>0.015</td>\n",
       "      <td>3.129</td>\n",
       "      <td>48.140</td>\n",
       "      <td>0.0</td>\n",
       "      <td>1</td>\n",
       "      <td>Delegate/Convolution (NHWC, QC8) DWConv:3</td>\n",
       "    </tr>\n",
       "    <tr>\n",
       "      <th>5</th>\n",
       "      <td>Convolution (NHWC, QC8) GEMM</td>\n",
       "      <td>0.013</td>\n",
       "      <td>0.015</td>\n",
       "      <td>3.075</td>\n",
       "      <td>51.216</td>\n",
       "      <td>0.0</td>\n",
       "      <td>1</td>\n",
       "      <td>Delegate/Convolution (NHWC, QC8) GEMM:4</td>\n",
       "    </tr>\n",
       "    <tr>\n",
       "      <th>6</th>\n",
       "      <td>Convolution (NHWC, QC8) DWConv</td>\n",
       "      <td>0.024</td>\n",
       "      <td>0.026</td>\n",
       "      <td>5.554</td>\n",
       "      <td>56.769</td>\n",
       "      <td>0.0</td>\n",
       "      <td>1</td>\n",
       "      <td>Delegate/Convolution (NHWC, QC8) DWConv:5</td>\n",
       "    </tr>\n",
       "    <tr>\n",
       "      <th>7</th>\n",
       "      <td>Convolution (NHWC, QC8) GEMM</td>\n",
       "      <td>0.019</td>\n",
       "      <td>0.021</td>\n",
       "      <td>4.515</td>\n",
       "      <td>61.284</td>\n",
       "      <td>0.0</td>\n",
       "      <td>1</td>\n",
       "      <td>Delegate/Convolution (NHWC, QC8) GEMM:6</td>\n",
       "    </tr>\n",
       "    <tr>\n",
       "      <th>8</th>\n",
       "      <td>Convolution (NHWC, QC8) DWConv</td>\n",
       "      <td>0.006</td>\n",
       "      <td>0.007</td>\n",
       "      <td>1.434</td>\n",
       "      <td>62.719</td>\n",
       "      <td>0.0</td>\n",
       "      <td>1</td>\n",
       "      <td>Delegate/Convolution (NHWC, QC8) DWConv:7</td>\n",
       "    </tr>\n",
       "    <tr>\n",
       "      <th>9</th>\n",
       "      <td>Convolution (NHWC, QC8) GEMM</td>\n",
       "      <td>0.009</td>\n",
       "      <td>0.010</td>\n",
       "      <td>2.161</td>\n",
       "      <td>64.880</td>\n",
       "      <td>0.0</td>\n",
       "      <td>1</td>\n",
       "      <td>Delegate/Convolution (NHWC, QC8) GEMM:8</td>\n",
       "    </tr>\n",
       "    <tr>\n",
       "      <th>10</th>\n",
       "      <td>Convolution (NHWC, QC8) DWConv</td>\n",
       "      <td>0.011</td>\n",
       "      <td>0.012</td>\n",
       "      <td>2.614</td>\n",
       "      <td>67.493</td>\n",
       "      <td>0.0</td>\n",
       "      <td>1</td>\n",
       "      <td>Delegate/Convolution (NHWC, QC8) DWConv:9</td>\n",
       "    </tr>\n",
       "    <tr>\n",
       "      <th>11</th>\n",
       "      <td>Convolution (NHWC, QC8) GEMM</td>\n",
       "      <td>0.014</td>\n",
       "      <td>0.016</td>\n",
       "      <td>3.375</td>\n",
       "      <td>70.868</td>\n",
       "      <td>0.0</td>\n",
       "      <td>1</td>\n",
       "      <td>Delegate/Convolution (NHWC, QC8) GEMM:10</td>\n",
       "    </tr>\n",
       "    <tr>\n",
       "      <th>12</th>\n",
       "      <td>Convolution (NHWC, QC8) DWConv</td>\n",
       "      <td>0.003</td>\n",
       "      <td>0.003</td>\n",
       "      <td>0.700</td>\n",
       "      <td>71.568</td>\n",
       "      <td>0.0</td>\n",
       "      <td>1</td>\n",
       "      <td>Delegate/Convolution (NHWC, QC8) DWConv:11</td>\n",
       "    </tr>\n",
       "    <tr>\n",
       "      <th>13</th>\n",
       "      <td>Convolution (NHWC, QC8) GEMM</td>\n",
       "      <td>0.007</td>\n",
       "      <td>0.008</td>\n",
       "      <td>1.674</td>\n",
       "      <td>73.242</td>\n",
       "      <td>0.0</td>\n",
       "      <td>1</td>\n",
       "      <td>Delegate/Convolution (NHWC, QC8) GEMM:12</td>\n",
       "    </tr>\n",
       "    <tr>\n",
       "      <th>14</th>\n",
       "      <td>Convolution (NHWC, QC8) DWConv</td>\n",
       "      <td>0.005</td>\n",
       "      <td>0.006</td>\n",
       "      <td>1.256</td>\n",
       "      <td>74.498</td>\n",
       "      <td>0.0</td>\n",
       "      <td>1</td>\n",
       "      <td>Delegate/Convolution (NHWC, QC8) DWConv:13</td>\n",
       "    </tr>\n",
       "    <tr>\n",
       "      <th>15</th>\n",
       "      <td>Convolution (NHWC, QC8) GEMM</td>\n",
       "      <td>0.012</td>\n",
       "      <td>0.014</td>\n",
       "      <td>2.873</td>\n",
       "      <td>77.371</td>\n",
       "      <td>0.0</td>\n",
       "      <td>1</td>\n",
       "      <td>Delegate/Convolution (NHWC, QC8) GEMM:14</td>\n",
       "    </tr>\n",
       "    <tr>\n",
       "      <th>16</th>\n",
       "      <td>Convolution (NHWC, QC8) DWConv</td>\n",
       "      <td>0.005</td>\n",
       "      <td>0.006</td>\n",
       "      <td>1.253</td>\n",
       "      <td>78.624</td>\n",
       "      <td>0.0</td>\n",
       "      <td>1</td>\n",
       "      <td>Delegate/Convolution (NHWC, QC8) DWConv:15</td>\n",
       "    </tr>\n",
       "    <tr>\n",
       "      <th>17</th>\n",
       "      <td>Convolution (NHWC, QC8) GEMM</td>\n",
       "      <td>0.013</td>\n",
       "      <td>0.014</td>\n",
       "      <td>2.881</td>\n",
       "      <td>81.505</td>\n",
       "      <td>0.0</td>\n",
       "      <td>1</td>\n",
       "      <td>Delegate/Convolution (NHWC, QC8) GEMM:16</td>\n",
       "    </tr>\n",
       "    <tr>\n",
       "      <th>18</th>\n",
       "      <td>Convolution (NHWC, QC8) DWConv</td>\n",
       "      <td>0.005</td>\n",
       "      <td>0.006</td>\n",
       "      <td>1.267</td>\n",
       "      <td>82.772</td>\n",
       "      <td>0.0</td>\n",
       "      <td>1</td>\n",
       "      <td>Delegate/Convolution (NHWC, QC8) DWConv:17</td>\n",
       "    </tr>\n",
       "    <tr>\n",
       "      <th>19</th>\n",
       "      <td>Convolution (NHWC, QC8) GEMM</td>\n",
       "      <td>0.012</td>\n",
       "      <td>0.014</td>\n",
       "      <td>2.849</td>\n",
       "      <td>85.621</td>\n",
       "      <td>0.0</td>\n",
       "      <td>1</td>\n",
       "      <td>Delegate/Convolution (NHWC, QC8) GEMM:18</td>\n",
       "    </tr>\n",
       "    <tr>\n",
       "      <th>20</th>\n",
       "      <td>Convolution (NHWC, QC8) DWConv</td>\n",
       "      <td>0.005</td>\n",
       "      <td>0.006</td>\n",
       "      <td>1.262</td>\n",
       "      <td>86.883</td>\n",
       "      <td>0.0</td>\n",
       "      <td>1</td>\n",
       "      <td>Delegate/Convolution (NHWC, QC8) DWConv:19</td>\n",
       "    </tr>\n",
       "    <tr>\n",
       "      <th>21</th>\n",
       "      <td>Convolution (NHWC, QC8) GEMM</td>\n",
       "      <td>0.012</td>\n",
       "      <td>0.013</td>\n",
       "      <td>2.832</td>\n",
       "      <td>89.715</td>\n",
       "      <td>0.0</td>\n",
       "      <td>1</td>\n",
       "      <td>Delegate/Convolution (NHWC, QC8) GEMM:20</td>\n",
       "    </tr>\n",
       "    <tr>\n",
       "      <th>22</th>\n",
       "      <td>Convolution (NHWC, QC8) DWConv</td>\n",
       "      <td>0.006</td>\n",
       "      <td>0.006</td>\n",
       "      <td>1.265</td>\n",
       "      <td>90.979</td>\n",
       "      <td>0.0</td>\n",
       "      <td>1</td>\n",
       "      <td>Delegate/Convolution (NHWC, QC8) DWConv:21</td>\n",
       "    </tr>\n",
       "    <tr>\n",
       "      <th>23</th>\n",
       "      <td>Convolution (NHWC, QC8) GEMM</td>\n",
       "      <td>0.012</td>\n",
       "      <td>0.013</td>\n",
       "      <td>2.824</td>\n",
       "      <td>93.803</td>\n",
       "      <td>0.0</td>\n",
       "      <td>1</td>\n",
       "      <td>Delegate/Convolution (NHWC, QC8) GEMM:22</td>\n",
       "    </tr>\n",
       "    <tr>\n",
       "      <th>24</th>\n",
       "      <td>Convolution (NHWC, QC8) DWConv</td>\n",
       "      <td>0.001</td>\n",
       "      <td>0.001</td>\n",
       "      <td>0.311</td>\n",
       "      <td>94.114</td>\n",
       "      <td>0.0</td>\n",
       "      <td>1</td>\n",
       "      <td>Delegate/Convolution (NHWC, QC8) DWConv:23</td>\n",
       "    </tr>\n",
       "    <tr>\n",
       "      <th>25</th>\n",
       "      <td>Convolution (NHWC, QC8) GEMM</td>\n",
       "      <td>0.007</td>\n",
       "      <td>0.007</td>\n",
       "      <td>1.520</td>\n",
       "      <td>95.634</td>\n",
       "      <td>0.0</td>\n",
       "      <td>1</td>\n",
       "      <td>Delegate/Convolution (NHWC, QC8) GEMM:24</td>\n",
       "    </tr>\n",
       "    <tr>\n",
       "      <th>26</th>\n",
       "      <td>Convolution (NHWC, QC8) DWConv</td>\n",
       "      <td>0.003</td>\n",
       "      <td>0.003</td>\n",
       "      <td>0.678</td>\n",
       "      <td>96.313</td>\n",
       "      <td>0.0</td>\n",
       "      <td>1</td>\n",
       "      <td>Delegate/Convolution (NHWC, QC8) DWConv:25</td>\n",
       "    </tr>\n",
       "    <tr>\n",
       "      <th>27</th>\n",
       "      <td>Convolution (NHWC, QC8) GEMM</td>\n",
       "      <td>0.012</td>\n",
       "      <td>0.013</td>\n",
       "      <td>2.786</td>\n",
       "      <td>99.098</td>\n",
       "      <td>0.0</td>\n",
       "      <td>1</td>\n",
       "      <td>Delegate/Convolution (NHWC, QC8) GEMM:26</td>\n",
       "    </tr>\n",
       "    <tr>\n",
       "      <th>28</th>\n",
       "      <td>AVERAGE_POOL_2D</td>\n",
       "      <td>0.003</td>\n",
       "      <td>0.002</td>\n",
       "      <td>0.469</td>\n",
       "      <td>99.567</td>\n",
       "      <td>0.0</td>\n",
       "      <td>1</td>\n",
       "      <td>[mobilenetv1vvw/average_pooling2d/AvgPool]:28</td>\n",
       "    </tr>\n",
       "    <tr>\n",
       "      <th>29</th>\n",
       "      <td>RESHAPE</td>\n",
       "      <td>0.001</td>\n",
       "      <td>0.001</td>\n",
       "      <td>0.133</td>\n",
       "      <td>99.700</td>\n",
       "      <td>0.0</td>\n",
       "      <td>1</td>\n",
       "      <td>[mobilenetv1vvw/flatten/Reshape]:29</td>\n",
       "    </tr>\n",
       "    <tr>\n",
       "      <th>30</th>\n",
       "      <td>Fully Connected (NC, QS8) GEMM</td>\n",
       "      <td>0.000</td>\n",
       "      <td>0.000</td>\n",
       "      <td>0.006</td>\n",
       "      <td>99.706</td>\n",
       "      <td>0.0</td>\n",
       "      <td>1</td>\n",
       "      <td>Delegate/Fully Connected (NC, QS8) GEMM:0</td>\n",
       "    </tr>\n",
       "    <tr>\n",
       "      <th>31</th>\n",
       "      <td>SOFTMAX</td>\n",
       "      <td>0.001</td>\n",
       "      <td>0.001</td>\n",
       "      <td>0.155</td>\n",
       "      <td>99.861</td>\n",
       "      <td>0.0</td>\n",
       "      <td>1</td>\n",
       "      <td>[StatefulPartitionedCall:01]:31</td>\n",
       "    </tr>\n",
       "    <tr>\n",
       "      <th>32</th>\n",
       "      <td>QUANTIZE</td>\n",
       "      <td>0.001</td>\n",
       "      <td>0.001</td>\n",
       "      <td>0.139</td>\n",
       "      <td>100.000</td>\n",
       "      <td>0.0</td>\n",
       "      <td>1</td>\n",
       "      <td>[StatefulPartitionedCall:0]:32</td>\n",
       "    </tr>\n",
       "  </tbody>\n",
       "</table>\n",
       "</div>"
      ],
      "text/plain": [
       "                         node type  first  avg ms       %     cdf%  mem KB  \\\n",
       "0                         QUANTIZE  0.114   0.103  21.787   21.787     0.0   \n",
       "1    Convolution (NHWC, QC8) IGEMM  0.044   0.047   9.826   31.613     0.0   \n",
       "2   Convolution (NHWC, QC8) DWConv  0.032   0.037   7.700   39.313     0.0   \n",
       "3     Convolution (NHWC, QC8) GEMM  0.024   0.027   5.698   45.011     0.0   \n",
       "4   Convolution (NHWC, QC8) DWConv  0.013   0.015   3.129   48.140     0.0   \n",
       "5     Convolution (NHWC, QC8) GEMM  0.013   0.015   3.075   51.216     0.0   \n",
       "6   Convolution (NHWC, QC8) DWConv  0.024   0.026   5.554   56.769     0.0   \n",
       "7     Convolution (NHWC, QC8) GEMM  0.019   0.021   4.515   61.284     0.0   \n",
       "8   Convolution (NHWC, QC8) DWConv  0.006   0.007   1.434   62.719     0.0   \n",
       "9     Convolution (NHWC, QC8) GEMM  0.009   0.010   2.161   64.880     0.0   \n",
       "10  Convolution (NHWC, QC8) DWConv  0.011   0.012   2.614   67.493     0.0   \n",
       "11    Convolution (NHWC, QC8) GEMM  0.014   0.016   3.375   70.868     0.0   \n",
       "12  Convolution (NHWC, QC8) DWConv  0.003   0.003   0.700   71.568     0.0   \n",
       "13    Convolution (NHWC, QC8) GEMM  0.007   0.008   1.674   73.242     0.0   \n",
       "14  Convolution (NHWC, QC8) DWConv  0.005   0.006   1.256   74.498     0.0   \n",
       "15    Convolution (NHWC, QC8) GEMM  0.012   0.014   2.873   77.371     0.0   \n",
       "16  Convolution (NHWC, QC8) DWConv  0.005   0.006   1.253   78.624     0.0   \n",
       "17    Convolution (NHWC, QC8) GEMM  0.013   0.014   2.881   81.505     0.0   \n",
       "18  Convolution (NHWC, QC8) DWConv  0.005   0.006   1.267   82.772     0.0   \n",
       "19    Convolution (NHWC, QC8) GEMM  0.012   0.014   2.849   85.621     0.0   \n",
       "20  Convolution (NHWC, QC8) DWConv  0.005   0.006   1.262   86.883     0.0   \n",
       "21    Convolution (NHWC, QC8) GEMM  0.012   0.013   2.832   89.715     0.0   \n",
       "22  Convolution (NHWC, QC8) DWConv  0.006   0.006   1.265   90.979     0.0   \n",
       "23    Convolution (NHWC, QC8) GEMM  0.012   0.013   2.824   93.803     0.0   \n",
       "24  Convolution (NHWC, QC8) DWConv  0.001   0.001   0.311   94.114     0.0   \n",
       "25    Convolution (NHWC, QC8) GEMM  0.007   0.007   1.520   95.634     0.0   \n",
       "26  Convolution (NHWC, QC8) DWConv  0.003   0.003   0.678   96.313     0.0   \n",
       "27    Convolution (NHWC, QC8) GEMM  0.012   0.013   2.786   99.098     0.0   \n",
       "28                 AVERAGE_POOL_2D  0.003   0.002   0.469   99.567     0.0   \n",
       "29                         RESHAPE  0.001   0.001   0.133   99.700     0.0   \n",
       "30  Fully Connected (NC, QS8) GEMM  0.000   0.000   0.006   99.706     0.0   \n",
       "31                         SOFTMAX  0.001   0.001   0.155   99.861     0.0   \n",
       "32                        QUANTIZE  0.001   0.001   0.139  100.000     0.0   \n",
       "\n",
       "    times called                                           Name  \n",
       "0              1                               [tfl.quantize]:0  \n",
       "1              1       Delegate/Convolution (NHWC, QC8) IGEMM:0  \n",
       "2              1      Delegate/Convolution (NHWC, QC8) DWConv:1  \n",
       "3              1        Delegate/Convolution (NHWC, QC8) GEMM:2  \n",
       "4              1      Delegate/Convolution (NHWC, QC8) DWConv:3  \n",
       "5              1        Delegate/Convolution (NHWC, QC8) GEMM:4  \n",
       "6              1      Delegate/Convolution (NHWC, QC8) DWConv:5  \n",
       "7              1        Delegate/Convolution (NHWC, QC8) GEMM:6  \n",
       "8              1      Delegate/Convolution (NHWC, QC8) DWConv:7  \n",
       "9              1        Delegate/Convolution (NHWC, QC8) GEMM:8  \n",
       "10             1      Delegate/Convolution (NHWC, QC8) DWConv:9  \n",
       "11             1       Delegate/Convolution (NHWC, QC8) GEMM:10  \n",
       "12             1     Delegate/Convolution (NHWC, QC8) DWConv:11  \n",
       "13             1       Delegate/Convolution (NHWC, QC8) GEMM:12  \n",
       "14             1     Delegate/Convolution (NHWC, QC8) DWConv:13  \n",
       "15             1       Delegate/Convolution (NHWC, QC8) GEMM:14  \n",
       "16             1     Delegate/Convolution (NHWC, QC8) DWConv:15  \n",
       "17             1       Delegate/Convolution (NHWC, QC8) GEMM:16  \n",
       "18             1     Delegate/Convolution (NHWC, QC8) DWConv:17  \n",
       "19             1       Delegate/Convolution (NHWC, QC8) GEMM:18  \n",
       "20             1     Delegate/Convolution (NHWC, QC8) DWConv:19  \n",
       "21             1       Delegate/Convolution (NHWC, QC8) GEMM:20  \n",
       "22             1     Delegate/Convolution (NHWC, QC8) DWConv:21  \n",
       "23             1       Delegate/Convolution (NHWC, QC8) GEMM:22  \n",
       "24             1     Delegate/Convolution (NHWC, QC8) DWConv:23  \n",
       "25             1       Delegate/Convolution (NHWC, QC8) GEMM:24  \n",
       "26             1     Delegate/Convolution (NHWC, QC8) DWConv:25  \n",
       "27             1       Delegate/Convolution (NHWC, QC8) GEMM:26  \n",
       "28             1  [mobilenetv1vvw/average_pooling2d/AvgPool]:28  \n",
       "29             1            [mobilenetv1vvw/flatten/Reshape]:29  \n",
       "30             1      Delegate/Fully Connected (NC, QS8) GEMM:0  \n",
       "31             1                [StatefulPartitionedCall:01]:31  \n",
       "32             1                 [StatefulPartitionedCall:0]:32  "
      ]
     },
     "execution_count": 80,
     "metadata": {},
     "output_type": "execute_result"
    }
   ],
   "source": [
    "run_df = get_wandb_run_order_df(id)\n",
    "run_df"
   ]
  },
  {
   "cell_type": "code",
   "execution_count": 81,
   "metadata": {},
   "outputs": [
    {
     "name": "stderr",
     "output_type": "stream",
     "text": [
      "\u001b[34m\u001b[1mwandb\u001b[0m:   1 of 1 files downloaded.  \n"
     ]
    },
    {
     "name": "stdout",
     "output_type": "stream",
     "text": [
      "filepath .\\artifacts\\run-l679i489-tflite_INt8_layers_mltk-v0/tflite_INt8_layers_mltk.table.json\n"
     ]
    },
    {
     "data": {
      "text/html": [
       "<div>\n",
       "<style scoped>\n",
       "    .dataframe tbody tr th:only-of-type {\n",
       "        vertical-align: middle;\n",
       "    }\n",
       "\n",
       "    .dataframe tbody tr th {\n",
       "        vertical-align: top;\n",
       "    }\n",
       "\n",
       "    .dataframe thead th {\n",
       "        text-align: right;\n",
       "    }\n",
       "</style>\n",
       "<table border=\"1\" class=\"dataframe\">\n",
       "  <thead>\n",
       "    <tr style=\"text-align: right;\">\n",
       "      <th></th>\n",
       "      <th>index</th>\n",
       "      <th>opcode</th>\n",
       "      <th>name</th>\n",
       "      <th>ops</th>\n",
       "      <th>macs</th>\n",
       "      <th>cpu_cycles</th>\n",
       "      <th>energy</th>\n",
       "      <th>input_shape</th>\n",
       "      <th>output_shape</th>\n",
       "      <th>options</th>\n",
       "    </tr>\n",
       "  </thead>\n",
       "  <tbody>\n",
       "    <tr>\n",
       "      <th>0</th>\n",
       "      <td>0</td>\n",
       "      <td>quantize</td>\n",
       "      <td>0: quantize</td>\n",
       "      <td>110592</td>\n",
       "      <td>0</td>\n",
       "      <td>9.957829e+05</td>\n",
       "      <td>1.988387e-04</td>\n",
       "      <td>1x96x96x3</td>\n",
       "      <td>1x96x96x3</td>\n",
       "      <td>Type=none</td>\n",
       "    </tr>\n",
       "    <tr>\n",
       "      <th>1</th>\n",
       "      <td>1</td>\n",
       "      <td>conv_2d</td>\n",
       "      <td>1: conv_2d</td>\n",
       "      <td>1050624</td>\n",
       "      <td>497664</td>\n",
       "      <td>4.600492e+06</td>\n",
       "      <td>8.359018e-04</td>\n",
       "      <td>1x96x96x3,8x3x3x3,8</td>\n",
       "      <td>1x48x48x8</td>\n",
       "      <td>Padding:same stride:2x2 activation:relu</td>\n",
       "    </tr>\n",
       "    <tr>\n",
       "      <th>2</th>\n",
       "      <td>2</td>\n",
       "      <td>depthwise_conv_2d</td>\n",
       "      <td>2: depthwise_conv_2d</td>\n",
       "      <td>387072</td>\n",
       "      <td>165888</td>\n",
       "      <td>2.522040e+06</td>\n",
       "      <td>4.679793e-04</td>\n",
       "      <td>1x48x48x8,1x3x3x8,8</td>\n",
       "      <td>1x48x48x8</td>\n",
       "      <td>Multiplier:1 padding:same stride:1x1 activation:relu</td>\n",
       "    </tr>\n",
       "    <tr>\n",
       "      <th>3</th>\n",
       "      <td>3</td>\n",
       "      <td>conv_2d</td>\n",
       "      <td>3: conv_2d</td>\n",
       "      <td>700416</td>\n",
       "      <td>294912</td>\n",
       "      <td>3.560665e+06</td>\n",
       "      <td>6.482228e-04</td>\n",
       "      <td>1x48x48x8,16x1x1x8,16</td>\n",
       "      <td>1x48x48x16</td>\n",
       "      <td>Padding:same stride:1x1 activation:relu</td>\n",
       "    </tr>\n",
       "    <tr>\n",
       "      <th>4</th>\n",
       "      <td>4</td>\n",
       "      <td>depthwise_conv_2d</td>\n",
       "      <td>4: depthwise_conv_2d</td>\n",
       "      <td>193536</td>\n",
       "      <td>82944</td>\n",
       "      <td>1.036370e+06</td>\n",
       "      <td>2.085251e-04</td>\n",
       "      <td>1x48x48x16,1x3x3x16,16</td>\n",
       "      <td>1x24x24x16</td>\n",
       "      <td>Multiplier:1 padding:same stride:2x2 activation:relu</td>\n",
       "    </tr>\n",
       "    <tr>\n",
       "      <th>5</th>\n",
       "      <td>5</td>\n",
       "      <td>conv_2d</td>\n",
       "      <td>5: conv_2d</td>\n",
       "      <td>645120</td>\n",
       "      <td>294912</td>\n",
       "      <td>1.691265e+06</td>\n",
       "      <td>2.639363e-04</td>\n",
       "      <td>1x24x24x16,32x1x1x16,32</td>\n",
       "      <td>1x24x24x32</td>\n",
       "      <td>Padding:same stride:1x1 activation:relu</td>\n",
       "    </tr>\n",
       "    <tr>\n",
       "      <th>6</th>\n",
       "      <td>6</td>\n",
       "      <td>depthwise_conv_2d</td>\n",
       "      <td>6: depthwise_conv_2d</td>\n",
       "      <td>387072</td>\n",
       "      <td>165888</td>\n",
       "      <td>2.052064e+06</td>\n",
       "      <td>3.942758e-04</td>\n",
       "      <td>1x24x24x32,1x3x3x32,32</td>\n",
       "      <td>1x24x24x32</td>\n",
       "      <td>Multiplier:1 padding:same stride:1x1 activation:relu</td>\n",
       "    </tr>\n",
       "    <tr>\n",
       "      <th>7</th>\n",
       "      <td>7</td>\n",
       "      <td>conv_2d</td>\n",
       "      <td>7: conv_2d</td>\n",
       "      <td>1234944</td>\n",
       "      <td>589824</td>\n",
       "      <td>2.210628e+06</td>\n",
       "      <td>3.351090e-04</td>\n",
       "      <td>1x24x24x32,32x1x1x32,32</td>\n",
       "      <td>1x24x24x32</td>\n",
       "      <td>Padding:same stride:1x1 activation:relu</td>\n",
       "    </tr>\n",
       "    <tr>\n",
       "      <th>8</th>\n",
       "      <td>8</td>\n",
       "      <td>depthwise_conv_2d</td>\n",
       "      <td>8: depthwise_conv_2d</td>\n",
       "      <td>96768</td>\n",
       "      <td>41472</td>\n",
       "      <td>5.061695e+05</td>\n",
       "      <td>9.911860e-05</td>\n",
       "      <td>1x24x24x32,1x3x3x32,32</td>\n",
       "      <td>1x12x12x32</td>\n",
       "      <td>Multiplier:1 padding:same stride:2x2 activation:relu</td>\n",
       "    </tr>\n",
       "    <tr>\n",
       "      <th>9</th>\n",
       "      <td>9</td>\n",
       "      <td>conv_2d</td>\n",
       "      <td>9: conv_2d</td>\n",
       "      <td>617472</td>\n",
       "      <td>294912</td>\n",
       "      <td>1.101254e+06</td>\n",
       "      <td>1.183100e-04</td>\n",
       "      <td>1x12x12x32,64x1x1x32,64</td>\n",
       "      <td>1x12x12x64</td>\n",
       "      <td>Padding:same stride:1x1 activation:relu</td>\n",
       "    </tr>\n",
       "    <tr>\n",
       "      <th>10</th>\n",
       "      <td>10</td>\n",
       "      <td>depthwise_conv_2d</td>\n",
       "      <td>10: depthwise_conv_2d</td>\n",
       "      <td>193536</td>\n",
       "      <td>82944</td>\n",
       "      <td>9.851138e+05</td>\n",
       "      <td>1.941313e-04</td>\n",
       "      <td>1x12x12x64,1x3x3x64,64</td>\n",
       "      <td>1x12x12x64</td>\n",
       "      <td>Multiplier:1 padding:same stride:1x1 activation:relu</td>\n",
       "    </tr>\n",
       "    <tr>\n",
       "      <th>11</th>\n",
       "      <td>11</td>\n",
       "      <td>conv_2d</td>\n",
       "      <td>11: conv_2d</td>\n",
       "      <td>1207296</td>\n",
       "      <td>589824</td>\n",
       "      <td>1.763316e+06</td>\n",
       "      <td>2.639363e-04</td>\n",
       "      <td>1x12x12x64,64x1x1x64,64</td>\n",
       "      <td>1x12x12x64</td>\n",
       "      <td>Padding:same stride:1x1 activation:relu</td>\n",
       "    </tr>\n",
       "    <tr>\n",
       "      <th>12</th>\n",
       "      <td>12</td>\n",
       "      <td>depthwise_conv_2d</td>\n",
       "      <td>12: depthwise_conv_2d</td>\n",
       "      <td>48384</td>\n",
       "      <td>20736</td>\n",
       "      <td>2.322299e+05</td>\n",
       "      <td>3.853521e-05</td>\n",
       "      <td>1x12x12x64,1x3x3x64,64</td>\n",
       "      <td>1x6x6x64</td>\n",
       "      <td>Multiplier:1 padding:same stride:2x2 activation:relu</td>\n",
       "    </tr>\n",
       "    <tr>\n",
       "      <th>13</th>\n",
       "      <td>13</td>\n",
       "      <td>conv_2d</td>\n",
       "      <td>13: conv_2d</td>\n",
       "      <td>603648</td>\n",
       "      <td>294912</td>\n",
       "      <td>8.608509e+05</td>\n",
       "      <td>1.130917e-04</td>\n",
       "      <td>1x6x6x64,128x1x1x64,128</td>\n",
       "      <td>1x6x6x128</td>\n",
       "      <td>Padding:same stride:1x1 activation:relu</td>\n",
       "    </tr>\n",
       "    <tr>\n",
       "      <th>14</th>\n",
       "      <td>14</td>\n",
       "      <td>depthwise_conv_2d</td>\n",
       "      <td>14: depthwise_conv_2d</td>\n",
       "      <td>96768</td>\n",
       "      <td>41472</td>\n",
       "      <td>4.655290e+05</td>\n",
       "      <td>5.872922e-05</td>\n",
       "      <td>1x6x6x128,1x3x3x128,128</td>\n",
       "      <td>1x6x6x128</td>\n",
       "      <td>Multiplier:1 padding:same stride:1x1 activation:relu</td>\n",
       "    </tr>\n",
       "    <tr>\n",
       "      <th>15</th>\n",
       "      <td>15</td>\n",
       "      <td>conv_2d</td>\n",
       "      <td>15: conv_2d</td>\n",
       "      <td>1193472</td>\n",
       "      <td>589824</td>\n",
       "      <td>1.626447e+06</td>\n",
       "      <td>2.518922e-04</td>\n",
       "      <td>1x6x6x128,128x1x1x128,128</td>\n",
       "      <td>1x6x6x128</td>\n",
       "      <td>Padding:same stride:1x1 activation:relu</td>\n",
       "    </tr>\n",
       "    <tr>\n",
       "      <th>16</th>\n",
       "      <td>16</td>\n",
       "      <td>depthwise_conv_2d</td>\n",
       "      <td>16: depthwise_conv_2d</td>\n",
       "      <td>96768</td>\n",
       "      <td>41472</td>\n",
       "      <td>4.655290e+05</td>\n",
       "      <td>5.872922e-05</td>\n",
       "      <td>1x6x6x128,1x3x3x128,128</td>\n",
       "      <td>1x6x6x128</td>\n",
       "      <td>Multiplier:1 padding:same stride:1x1 activation:relu</td>\n",
       "    </tr>\n",
       "    <tr>\n",
       "      <th>17</th>\n",
       "      <td>17</td>\n",
       "      <td>conv_2d</td>\n",
       "      <td>17: conv_2d</td>\n",
       "      <td>1193472</td>\n",
       "      <td>589824</td>\n",
       "      <td>1.626447e+06</td>\n",
       "      <td>2.518922e-04</td>\n",
       "      <td>1x6x6x128,128x1x1x128,128</td>\n",
       "      <td>1x6x6x128</td>\n",
       "      <td>Padding:same stride:1x1 activation:relu</td>\n",
       "    </tr>\n",
       "    <tr>\n",
       "      <th>18</th>\n",
       "      <td>18</td>\n",
       "      <td>depthwise_conv_2d</td>\n",
       "      <td>18: depthwise_conv_2d</td>\n",
       "      <td>96768</td>\n",
       "      <td>41472</td>\n",
       "      <td>4.655290e+05</td>\n",
       "      <td>5.872922e-05</td>\n",
       "      <td>1x6x6x128,1x3x3x128,128</td>\n",
       "      <td>1x6x6x128</td>\n",
       "      <td>Multiplier:1 padding:same stride:1x1 activation:relu</td>\n",
       "    </tr>\n",
       "    <tr>\n",
       "      <th>19</th>\n",
       "      <td>19</td>\n",
       "      <td>conv_2d</td>\n",
       "      <td>19: conv_2d</td>\n",
       "      <td>1193472</td>\n",
       "      <td>589824</td>\n",
       "      <td>1.626447e+06</td>\n",
       "      <td>2.518922e-04</td>\n",
       "      <td>1x6x6x128,128x1x1x128,128</td>\n",
       "      <td>1x6x6x128</td>\n",
       "      <td>Padding:same stride:1x1 activation:relu</td>\n",
       "    </tr>\n",
       "    <tr>\n",
       "      <th>20</th>\n",
       "      <td>20</td>\n",
       "      <td>depthwise_conv_2d</td>\n",
       "      <td>20: depthwise_conv_2d</td>\n",
       "      <td>96768</td>\n",
       "      <td>41472</td>\n",
       "      <td>4.655290e+05</td>\n",
       "      <td>5.872922e-05</td>\n",
       "      <td>1x6x6x128,1x3x3x128,128</td>\n",
       "      <td>1x6x6x128</td>\n",
       "      <td>Multiplier:1 padding:same stride:1x1 activation:relu</td>\n",
       "    </tr>\n",
       "    <tr>\n",
       "      <th>21</th>\n",
       "      <td>21</td>\n",
       "      <td>conv_2d</td>\n",
       "      <td>21: conv_2d</td>\n",
       "      <td>1193472</td>\n",
       "      <td>589824</td>\n",
       "      <td>1.626447e+06</td>\n",
       "      <td>2.518922e-04</td>\n",
       "      <td>1x6x6x128,128x1x1x128,128</td>\n",
       "      <td>1x6x6x128</td>\n",
       "      <td>Padding:same stride:1x1 activation:relu</td>\n",
       "    </tr>\n",
       "    <tr>\n",
       "      <th>22</th>\n",
       "      <td>22</td>\n",
       "      <td>depthwise_conv_2d</td>\n",
       "      <td>22: depthwise_conv_2d</td>\n",
       "      <td>96768</td>\n",
       "      <td>41472</td>\n",
       "      <td>4.655290e+05</td>\n",
       "      <td>5.872922e-05</td>\n",
       "      <td>1x6x6x128,1x3x3x128,128</td>\n",
       "      <td>1x6x6x128</td>\n",
       "      <td>Multiplier:1 padding:same stride:1x1 activation:relu</td>\n",
       "    </tr>\n",
       "    <tr>\n",
       "      <th>23</th>\n",
       "      <td>23</td>\n",
       "      <td>conv_2d</td>\n",
       "      <td>23: conv_2d</td>\n",
       "      <td>1193472</td>\n",
       "      <td>589824</td>\n",
       "      <td>1.626447e+06</td>\n",
       "      <td>2.518922e-04</td>\n",
       "      <td>1x6x6x128,128x1x1x128,128</td>\n",
       "      <td>1x6x6x128</td>\n",
       "      <td>Padding:same stride:1x1 activation:relu</td>\n",
       "    </tr>\n",
       "    <tr>\n",
       "      <th>24</th>\n",
       "      <td>24</td>\n",
       "      <td>depthwise_conv_2d</td>\n",
       "      <td>24: depthwise_conv_2d</td>\n",
       "      <td>24192</td>\n",
       "      <td>10368</td>\n",
       "      <td>1.056405e+05</td>\n",
       "      <td>9.035570e-06</td>\n",
       "      <td>1x6x6x128,1x3x3x128,128</td>\n",
       "      <td>1x3x3x128</td>\n",
       "      <td>Multiplier:1 padding:same stride:2x2 activation:relu</td>\n",
       "    </tr>\n",
       "    <tr>\n",
       "      <th>25</th>\n",
       "      <td>25</td>\n",
       "      <td>conv_2d</td>\n",
       "      <td>25: conv_2d</td>\n",
       "      <td>596736</td>\n",
       "      <td>294912</td>\n",
       "      <td>9.859565e+05</td>\n",
       "      <td>1.115355e-04</td>\n",
       "      <td>1x3x3x128,256x1x1x128,256</td>\n",
       "      <td>1x3x3x256</td>\n",
       "      <td>Padding:same stride:1x1 activation:relu</td>\n",
       "    </tr>\n",
       "    <tr>\n",
       "      <th>26</th>\n",
       "      <td>26</td>\n",
       "      <td>depthwise_conv_2d</td>\n",
       "      <td>26: depthwise_conv_2d</td>\n",
       "      <td>48384</td>\n",
       "      <td>20736</td>\n",
       "      <td>2.104060e+05</td>\n",
       "      <td>1.642689e-05</td>\n",
       "      <td>1x3x3x256,1x3x3x256,256</td>\n",
       "      <td>1x3x3x256</td>\n",
       "      <td>Multiplier:1 padding:same stride:1x1 activation:relu</td>\n",
       "    </tr>\n",
       "    <tr>\n",
       "      <th>27</th>\n",
       "      <td>27</td>\n",
       "      <td>conv_2d</td>\n",
       "      <td>27: conv_2d</td>\n",
       "      <td>1186560</td>\n",
       "      <td>589824</td>\n",
       "      <td>1.871943e+06</td>\n",
       "      <td>2.617312e-04</td>\n",
       "      <td>1x3x3x256,256x1x1x256,256</td>\n",
       "      <td>1x3x3x256</td>\n",
       "      <td>Padding:same stride:1x1 activation:relu</td>\n",
       "    </tr>\n",
       "    <tr>\n",
       "      <th>28</th>\n",
       "      <td>28</td>\n",
       "      <td>average_pool_2d</td>\n",
       "      <td>28: average_pool_2d</td>\n",
       "      <td>2560</td>\n",
       "      <td>0</td>\n",
       "      <td>2.150976e+04</td>\n",
       "      <td>1.809607e-07</td>\n",
       "      <td>1x3x3x256</td>\n",
       "      <td>1x1x1x256</td>\n",
       "      <td>Padding:valid stride:3x3 filter:3x3 activation:none</td>\n",
       "    </tr>\n",
       "    <tr>\n",
       "      <th>29</th>\n",
       "      <td>29</td>\n",
       "      <td>reshape</td>\n",
       "      <td>29: reshape</td>\n",
       "      <td>0</td>\n",
       "      <td>0</td>\n",
       "      <td>2.647868e+02</td>\n",
       "      <td>4.810657e-19</td>\n",
       "      <td>1x1x1x256,2</td>\n",
       "      <td>1x256</td>\n",
       "      <td>Type=none</td>\n",
       "    </tr>\n",
       "    <tr>\n",
       "      <th>30</th>\n",
       "      <td>30</td>\n",
       "      <td>fully_connected</td>\n",
       "      <td>30: fully_connected</td>\n",
       "      <td>1024</td>\n",
       "      <td>512</td>\n",
       "      <td>1.808407e+03</td>\n",
       "      <td>1.749769e-08</td>\n",
       "      <td>1x256,2x256</td>\n",
       "      <td>1x2</td>\n",
       "      <td>Activation:none</td>\n",
       "    </tr>\n",
       "    <tr>\n",
       "      <th>31</th>\n",
       "      <td>31</td>\n",
       "      <td>softmax</td>\n",
       "      <td>31: softmax</td>\n",
       "      <td>10</td>\n",
       "      <td>0</td>\n",
       "      <td>3.838418e+03</td>\n",
       "      <td>1.652612e-08</td>\n",
       "      <td>1x2</td>\n",
       "      <td>1x2</td>\n",
       "      <td>Type=softmaxoptions</td>\n",
       "    </tr>\n",
       "    <tr>\n",
       "      <th>32</th>\n",
       "      <td>32</td>\n",
       "      <td>quantize</td>\n",
       "      <td>32: quantize</td>\n",
       "      <td>8</td>\n",
       "      <td>0</td>\n",
       "      <td>1.189855e+04</td>\n",
       "      <td>4.224086e-07</td>\n",
       "      <td>1x2</td>\n",
       "      <td>1x2</td>\n",
       "      <td>Type=none</td>\n",
       "    </tr>\n",
       "  </tbody>\n",
       "</table>\n",
       "</div>"
      ],
      "text/plain": [
       "    index             opcode                   name      ops    macs  \\\n",
       "0       0           quantize            0: quantize   110592       0   \n",
       "1       1            conv_2d             1: conv_2d  1050624  497664   \n",
       "2       2  depthwise_conv_2d   2: depthwise_conv_2d   387072  165888   \n",
       "3       3            conv_2d             3: conv_2d   700416  294912   \n",
       "4       4  depthwise_conv_2d   4: depthwise_conv_2d   193536   82944   \n",
       "5       5            conv_2d             5: conv_2d   645120  294912   \n",
       "6       6  depthwise_conv_2d   6: depthwise_conv_2d   387072  165888   \n",
       "7       7            conv_2d             7: conv_2d  1234944  589824   \n",
       "8       8  depthwise_conv_2d   8: depthwise_conv_2d    96768   41472   \n",
       "9       9            conv_2d             9: conv_2d   617472  294912   \n",
       "10     10  depthwise_conv_2d  10: depthwise_conv_2d   193536   82944   \n",
       "11     11            conv_2d            11: conv_2d  1207296  589824   \n",
       "12     12  depthwise_conv_2d  12: depthwise_conv_2d    48384   20736   \n",
       "13     13            conv_2d            13: conv_2d   603648  294912   \n",
       "14     14  depthwise_conv_2d  14: depthwise_conv_2d    96768   41472   \n",
       "15     15            conv_2d            15: conv_2d  1193472  589824   \n",
       "16     16  depthwise_conv_2d  16: depthwise_conv_2d    96768   41472   \n",
       "17     17            conv_2d            17: conv_2d  1193472  589824   \n",
       "18     18  depthwise_conv_2d  18: depthwise_conv_2d    96768   41472   \n",
       "19     19            conv_2d            19: conv_2d  1193472  589824   \n",
       "20     20  depthwise_conv_2d  20: depthwise_conv_2d    96768   41472   \n",
       "21     21            conv_2d            21: conv_2d  1193472  589824   \n",
       "22     22  depthwise_conv_2d  22: depthwise_conv_2d    96768   41472   \n",
       "23     23            conv_2d            23: conv_2d  1193472  589824   \n",
       "24     24  depthwise_conv_2d  24: depthwise_conv_2d    24192   10368   \n",
       "25     25            conv_2d            25: conv_2d   596736  294912   \n",
       "26     26  depthwise_conv_2d  26: depthwise_conv_2d    48384   20736   \n",
       "27     27            conv_2d            27: conv_2d  1186560  589824   \n",
       "28     28    average_pool_2d    28: average_pool_2d     2560       0   \n",
       "29     29            reshape            29: reshape        0       0   \n",
       "30     30    fully_connected    30: fully_connected     1024     512   \n",
       "31     31            softmax            31: softmax       10       0   \n",
       "32     32           quantize           32: quantize        8       0   \n",
       "\n",
       "      cpu_cycles        energy                input_shape output_shape  \\\n",
       "0   9.957829e+05  1.988387e-04                  1x96x96x3    1x96x96x3   \n",
       "1   4.600492e+06  8.359018e-04        1x96x96x3,8x3x3x3,8    1x48x48x8   \n",
       "2   2.522040e+06  4.679793e-04        1x48x48x8,1x3x3x8,8    1x48x48x8   \n",
       "3   3.560665e+06  6.482228e-04      1x48x48x8,16x1x1x8,16   1x48x48x16   \n",
       "4   1.036370e+06  2.085251e-04     1x48x48x16,1x3x3x16,16   1x24x24x16   \n",
       "5   1.691265e+06  2.639363e-04    1x24x24x16,32x1x1x16,32   1x24x24x32   \n",
       "6   2.052064e+06  3.942758e-04     1x24x24x32,1x3x3x32,32   1x24x24x32   \n",
       "7   2.210628e+06  3.351090e-04    1x24x24x32,32x1x1x32,32   1x24x24x32   \n",
       "8   5.061695e+05  9.911860e-05     1x24x24x32,1x3x3x32,32   1x12x12x32   \n",
       "9   1.101254e+06  1.183100e-04    1x12x12x32,64x1x1x32,64   1x12x12x64   \n",
       "10  9.851138e+05  1.941313e-04     1x12x12x64,1x3x3x64,64   1x12x12x64   \n",
       "11  1.763316e+06  2.639363e-04    1x12x12x64,64x1x1x64,64   1x12x12x64   \n",
       "12  2.322299e+05  3.853521e-05     1x12x12x64,1x3x3x64,64     1x6x6x64   \n",
       "13  8.608509e+05  1.130917e-04    1x6x6x64,128x1x1x64,128    1x6x6x128   \n",
       "14  4.655290e+05  5.872922e-05    1x6x6x128,1x3x3x128,128    1x6x6x128   \n",
       "15  1.626447e+06  2.518922e-04  1x6x6x128,128x1x1x128,128    1x6x6x128   \n",
       "16  4.655290e+05  5.872922e-05    1x6x6x128,1x3x3x128,128    1x6x6x128   \n",
       "17  1.626447e+06  2.518922e-04  1x6x6x128,128x1x1x128,128    1x6x6x128   \n",
       "18  4.655290e+05  5.872922e-05    1x6x6x128,1x3x3x128,128    1x6x6x128   \n",
       "19  1.626447e+06  2.518922e-04  1x6x6x128,128x1x1x128,128    1x6x6x128   \n",
       "20  4.655290e+05  5.872922e-05    1x6x6x128,1x3x3x128,128    1x6x6x128   \n",
       "21  1.626447e+06  2.518922e-04  1x6x6x128,128x1x1x128,128    1x6x6x128   \n",
       "22  4.655290e+05  5.872922e-05    1x6x6x128,1x3x3x128,128    1x6x6x128   \n",
       "23  1.626447e+06  2.518922e-04  1x6x6x128,128x1x1x128,128    1x6x6x128   \n",
       "24  1.056405e+05  9.035570e-06    1x6x6x128,1x3x3x128,128    1x3x3x128   \n",
       "25  9.859565e+05  1.115355e-04  1x3x3x128,256x1x1x128,256    1x3x3x256   \n",
       "26  2.104060e+05  1.642689e-05    1x3x3x256,1x3x3x256,256    1x3x3x256   \n",
       "27  1.871943e+06  2.617312e-04  1x3x3x256,256x1x1x256,256    1x3x3x256   \n",
       "28  2.150976e+04  1.809607e-07                  1x3x3x256    1x1x1x256   \n",
       "29  2.647868e+02  4.810657e-19                1x1x1x256,2        1x256   \n",
       "30  1.808407e+03  1.749769e-08                1x256,2x256          1x2   \n",
       "31  3.838418e+03  1.652612e-08                        1x2          1x2   \n",
       "32  1.189855e+04  4.224086e-07                        1x2          1x2   \n",
       "\n",
       "                                                 options  \n",
       "0                                              Type=none  \n",
       "1                Padding:same stride:2x2 activation:relu  \n",
       "2   Multiplier:1 padding:same stride:1x1 activation:relu  \n",
       "3                Padding:same stride:1x1 activation:relu  \n",
       "4   Multiplier:1 padding:same stride:2x2 activation:relu  \n",
       "5                Padding:same stride:1x1 activation:relu  \n",
       "6   Multiplier:1 padding:same stride:1x1 activation:relu  \n",
       "7                Padding:same stride:1x1 activation:relu  \n",
       "8   Multiplier:1 padding:same stride:2x2 activation:relu  \n",
       "9                Padding:same stride:1x1 activation:relu  \n",
       "10  Multiplier:1 padding:same stride:1x1 activation:relu  \n",
       "11               Padding:same stride:1x1 activation:relu  \n",
       "12  Multiplier:1 padding:same stride:2x2 activation:relu  \n",
       "13               Padding:same stride:1x1 activation:relu  \n",
       "14  Multiplier:1 padding:same stride:1x1 activation:relu  \n",
       "15               Padding:same stride:1x1 activation:relu  \n",
       "16  Multiplier:1 padding:same stride:1x1 activation:relu  \n",
       "17               Padding:same stride:1x1 activation:relu  \n",
       "18  Multiplier:1 padding:same stride:1x1 activation:relu  \n",
       "19               Padding:same stride:1x1 activation:relu  \n",
       "20  Multiplier:1 padding:same stride:1x1 activation:relu  \n",
       "21               Padding:same stride:1x1 activation:relu  \n",
       "22  Multiplier:1 padding:same stride:1x1 activation:relu  \n",
       "23               Padding:same stride:1x1 activation:relu  \n",
       "24  Multiplier:1 padding:same stride:2x2 activation:relu  \n",
       "25               Padding:same stride:1x1 activation:relu  \n",
       "26  Multiplier:1 padding:same stride:1x1 activation:relu  \n",
       "27               Padding:same stride:1x1 activation:relu  \n",
       "28   Padding:valid stride:3x3 filter:3x3 activation:none  \n",
       "29                                             Type=none  \n",
       "30                                       Activation:none  \n",
       "31                                   Type=softmaxoptions  \n",
       "32                                             Type=none  "
      ]
     },
     "execution_count": 81,
     "metadata": {},
     "output_type": "execute_result"
    }
   ],
   "source": [
    "mltk_df = get_wandb_table_as_df(id, \"tflite_INt8_layers_mltk\")\n",
    "mltk_df"
   ]
  },
  {
   "cell_type": "code",
   "execution_count": null,
   "metadata": {},
   "outputs": [],
   "source": []
  },
  {
   "cell_type": "code",
   "execution_count": null,
   "metadata": {},
   "outputs": [],
   "source": []
  }
 ],
 "metadata": {
  "kernelspec": {
   "display_name": "tiny_cnn_6",
   "language": "python",
   "name": "python3"
  },
  "language_info": {
   "codemirror_mode": {
    "name": "ipython",
    "version": 3
   },
   "file_extension": ".py",
   "mimetype": "text/x-python",
   "name": "python",
   "nbconvert_exporter": "python",
   "pygments_lexer": "ipython3",
   "version": "3.10.6"
  },
  "orig_nbformat": 4
 },
 "nbformat": 4,
 "nbformat_minor": 2
}
