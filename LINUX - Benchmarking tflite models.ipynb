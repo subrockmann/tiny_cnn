{
 "cells": [
  {
   "attachments": {},
   "cell_type": "markdown",
   "metadata": {},
   "source": [
    "# Benchmarking tflite models  \n",
    "\n",
    "This notebook requires the native benchmark binary for linux that you can get from this page:  \n",
    " [https://www.tensorflow.org/lite/performance/measurement](https://www.tensorflow.org/lite/performance/measurement)  \n",
    "\n",
    " This binary must be placed into the \"benchmarking folder\".\n",
    "\n",
    " This notebook must be run under LINUX!\n",
    "\n",
    " TensorFlow Lite benchmark tools currently measure and calculate statistics for the following important performance metrics:\n",
    "\n",
    "- Initialization time\n",
    "- Inference time of warmup state\n",
    "- Inference time of steady state\n",
    "- Memory usage during initialization time\n",
    "- Overall memory usage"
   ]
  },
  {
   "cell_type": "code",
   "execution_count": 29,
   "metadata": {},
   "outputs": [],
   "source": [
    "import os, sys, math, datetime\n",
    "import pathlib\n",
    "from pathlib import Path\n",
    "\n",
    "# import workbench.config.config\n",
    "from workbench.config.config import initialize\n",
    "from workbench.utils.utils import create_filepaths\n",
    "from workbench.wandb import wandb_model_DB, get_model_DB_run_id_from_architecture, get_architecture_from_model_DB_run_id\n",
    "\n",
    "import wandb"
   ]
  },
  {
   "cell_type": "code",
   "execution_count": 5,
   "metadata": {},
   "outputs": [],
   "source": [
    "import re\n",
    "from matplotlib import pyplot as plt\n",
    "#import plotly.express as px\n",
    "import pandas as pd\n",
    "\n",
    "\n",
    "# enable plotly in VS Studio Code\n",
    "#import plotly.io as pio\n",
    "#pio.renderers.default = \"notebook_connected\"\n",
    "#pio.renderers.default = \"plotly_mimetype+notebook\"\n",
    "\n",
    "import wandb"
   ]
  },
  {
   "cell_type": "code",
   "execution_count": 6,
   "metadata": {},
   "outputs": [],
   "source": [
    "# Configure pandas to show all columns & rows\n",
    "pd.set_option('display.max_columns', None)\n",
    "#pd.set_option('display.max_rows', None)\n",
    "pd.set_option('display.max_colwidth', None)"
   ]
  },
  {
   "cell_type": "code",
   "execution_count": 7,
   "metadata": {},
   "outputs": [],
   "source": [
    "models_dir = initialize()"
   ]
  },
  {
   "cell_type": "code",
   "execution_count": 8,
   "metadata": {
    "tags": [
     "parameters"
    ]
   },
   "outputs": [],
   "source": [
    "automated = False\n",
    "\n",
    "global model_name\n",
    "#model_name = \"efficientNetB0_1_96_c1_o3_keras\"\n",
    "model_name = \"mobilenetv2_0.5_96_c3_o2_l5\"\n",
    "model_name = \"mobilenetv2_0.25_96_c3_o2_t5l512.MV1\"\n"
   ]
  },
  {
   "cell_type": "code",
   "execution_count": 9,
   "metadata": {},
   "outputs": [
    {
     "name": "stdout",
     "output_type": "stream",
     "text": [
      "/mnt/i/tinyml/tiny_cnn/models\n"
     ]
    }
   ],
   "source": [
    "\n",
    "models_path, models_summary_path, models_image_path, models_layer_df_path, models_tf_path, models_tflite_path, models_tflite_opt_path = create_filepaths(model_name)"
   ]
  },
  {
   "cell_type": "code",
   "execution_count": 10,
   "metadata": {},
   "outputs": [
    {
     "data": {
      "text/plain": [
       "PosixPath('/mnt/i/tinyml/tiny_cnn/models/mobilenetv2_0.25_96_c3_o2_t5l512.MV1/mobilenetv2_0.25_96_c3_o2_t5l512.MV1_benchmark.txt')"
      ]
     },
     "execution_count": 10,
     "metadata": {},
     "output_type": "execute_result"
    }
   ],
   "source": [
    "models_benchmark_path = models_dir.joinpath(model_name, f\"{model_name}_benchmark.txt\")\n",
    "models_benchmark_path"
   ]
  },
  {
   "cell_type": "code",
   "execution_count": 11,
   "metadata": {},
   "outputs": [
    {
     "data": {
      "text/plain": [
       "'/mnt/i/tinyml/tiny_cnn/models/mobilenetv2_0.25_96_c3_o2_t5l512.MV1/mobilenetv2_0.25_96_c3_o2_t5l512.MV1_INT8.tflite'"
      ]
     },
     "execution_count": 11,
     "metadata": {},
     "output_type": "execute_result"
    }
   ],
   "source": [
    "models_tflite_opt_path.as_posix()"
   ]
  },
  {
   "attachments": {},
   "cell_type": "markdown",
   "metadata": {},
   "source": [
    "# Benchmarking for tflite - non quantized"
   ]
  },
  {
   "cell_type": "code",
   "execution_count": 12,
   "metadata": {},
   "outputs": [],
   "source": [
    "# ! ./benchmarking/linux_x86-64_benchmark_model \\\n",
    "#     --graph=$models_tflite_path \\\n",
    "#     --num_threads=1 \\\n",
    "#     --enable_op_profiling=true \\\n",
    "#     | tee $models_benchmark_path"
   ]
  },
  {
   "attachments": {},
   "cell_type": "markdown",
   "metadata": {},
   "source": [
    "# Benchmarking for quantized .tflite file"
   ]
  },
  {
   "cell_type": "code",
   "execution_count": 16,
   "metadata": {},
   "outputs": [
    {
     "name": "stdout",
     "output_type": "stream",
     "text": [
      "STARTING!\n",
      "Log parameter values verbosely: [0]\n",
      "Num threads: [1]\n",
      "Graph: [/mnt/i/tinyml/tiny_cnn/models/mobilenetv2_0.5_96_c3_o2_l5/mobilenetv2_0.5_96_c3_o2_l5_INT8.tflite]\n",
      "Enable op profiling: [1]\n",
      "#threads used for CPU inference: [1]\n",
      "ERROR: Could not open '/mnt/i/tinyml/tiny_cnn/models/mobilenetv2_0.5_96_c3_o2_l5/mobilenetv2_0.5_96_c3_o2_l5_INT8.tflite'.\n",
      "ERROR: The model allocation is null/empty\n",
      "Failed to load model /mnt/i/tinyml/tiny_cnn/models/mobilenetv2_0.5_96_c3_o2_l5/mobilenetv2_0.5_96_c3_o2_l5_INT8.tflite\n",
      "Benchmarking failed.\n"
     ]
    }
   ],
   "source": [
    "! ./benchmarking/linux_x86-64_benchmark_model \\\n",
    "    --graph=$models_tflite_opt_path \\\n",
    "    --num_threads=1 \\\n",
    "    --enable_op_profiling=true \\\n",
    "    | tee $models_benchmark_path"
   ]
  },
  {
   "cell_type": "code",
   "execution_count": 18,
   "metadata": {},
   "outputs": [],
   "source": [
    "if automated == False:\n",
    "    ! code $models_benchmark_path"
   ]
  },
  {
   "attachments": {},
   "cell_type": "markdown",
   "metadata": {},
   "source": [
    "# Finding the tensor arena size"
   ]
  },
  {
   "cell_type": "code",
   "execution_count": 16,
   "metadata": {},
   "outputs": [
    {
     "name": "stderr",
     "output_type": "stream",
     "text": [
      "UsageError: Line magic function `%capture` not found (But cell magic `%%capture` exists, did you mean that instead?).\n"
     ]
    }
   ],
   "source": [
    "%%capture arena_size\n",
    "! /mnt/i/tinyml/tflite-find-arena-size/build/find-arena-size $models_tflite_path\n"
   ]
  },
  {
   "cell_type": "code",
   "execution_count": null,
   "metadata": {},
   "outputs": [],
   "source": [
    "# %%capture optimal_runtime_INT"
   ]
  },
  {
   "cell_type": "code",
   "execution_count": 24,
   "metadata": {},
   "outputs": [
    {
     "data": {
      "text/plain": [
       "str"
      ]
     },
     "execution_count": 24,
     "metadata": {},
     "output_type": "execute_result"
    }
   ],
   "source": [
    "arena_size_raw = arena_size.stdout.strip()\n",
    "type(arena_size_raw)"
   ]
  },
  {
   "cell_type": "code",
   "execution_count": 26,
   "metadata": {},
   "outputs": [
    {
     "data": {
      "text/plain": [
       "285664"
      ]
     },
     "execution_count": 26,
     "metadata": {},
     "output_type": "execute_result"
    }
   ],
   "source": [
    "import ast\n",
    "arena_size_dict = ast.literal_eval(arena_size_raw)\n",
    "arena_size = arena_size_dict[\"arena_size\"]\n",
    "arena_size"
   ]
  },
  {
   "cell_type": "code",
   "execution_count": 30,
   "metadata": {},
   "outputs": [
    {
     "data": {
      "text/plain": [
       "'fgxqsgfd'"
      ]
     },
     "execution_count": 30,
     "metadata": {},
     "output_type": "execute_result"
    }
   ],
   "source": [
    "id = get_model_DB_run_id_from_architecture(model_name)\n",
    "id"
   ]
  },
  {
   "cell_type": "code",
   "execution_count": 32,
   "metadata": {},
   "outputs": [
    {
     "data": {
      "text/html": [
       "Finishing last run (ID:fgxqsgfd) before initializing another..."
      ],
      "text/plain": [
       "<IPython.core.display.HTML object>"
      ]
     },
     "metadata": {},
     "output_type": "display_data"
    },
    {
     "data": {
      "text/html": [
       "Waiting for W&B process to finish... <strong style=\"color:green\">(success).</strong>"
      ],
      "text/plain": [
       "<IPython.core.display.HTML object>"
      ]
     },
     "metadata": {},
     "output_type": "display_data"
    },
    {
     "data": {
      "text/html": [
       "<style>\n",
       "    table.wandb td:nth-child(1) { padding: 0 10px; text-align: left ; width: auto;} td:nth-child(2) {text-align: left ; width: 100%}\n",
       "    .wandb-row { display: flex; flex-direction: row; flex-wrap: wrap; justify-content: flex-start; width: 100% }\n",
       "    .wandb-col { display: flex; flex-direction: column; flex-basis: 100%; flex: 1; padding: 10px; }\n",
       "    </style>\n",
       "<div class=\"wandb-row\"><div class=\"wandb-col\"><h3>Run summary:</h3><br/><table class=\"wandb\"><tr><td>allocate_tensors_ms_%</td><td>0.835</td></tr><tr><td>allocate_tensors_ms_avg</td><td>0.08</td></tr><tr><td>allocate_tensors_ms_first</td><td>0.08</td></tr><tr><td>first_inference_us</td><td>5536</td></tr><tr><td>inference_avg_us</td><td>734.681</td></tr><tr><td>init_us</td><td>212645</td></tr><tr><td>initialization_ms</td><td>212.645</td></tr><tr><td>model_size_MB</td><td>0.28214</td></tr><tr><td>modify_graph_with_delegate_mem_KB</td><td>1160</td></tr><tr><td>modify_graph_with_delegate_ms_%</td><td>99.165</td></tr><tr><td>modify_graph_with_delegate_ms_avg</td><td>9.505</td></tr><tr><td>modify_graph_with_delegate_ms_first</td><td>9.505</td></tr><tr><td>warmup_avg_us</td><td>749.422</td></tr></table><br/></div></div>"
      ],
      "text/plain": [
       "<IPython.core.display.HTML object>"
      ]
     },
     "metadata": {},
     "output_type": "display_data"
    },
    {
     "data": {
      "text/html": [
       " View run <strong style=\"color:#cdcd00\">mobilenetv2_0.25_96_c3_o2_t5l512.MV1</strong> at: <a href=\"https://wandb.ai/susbrock/model_DB/runs/fgxqsgfd\" target=\"_blank\">https://wandb.ai/susbrock/model_DB/runs/fgxqsgfd</a><br/>Synced 2 W&B file(s), 0 media file(s), 0 artifact file(s) and 1 other file(s)"
      ],
      "text/plain": [
       "<IPython.core.display.HTML object>"
      ]
     },
     "metadata": {},
     "output_type": "display_data"
    },
    {
     "data": {
      "text/html": [
       "Find logs at: <code>./wandb/run-20230226_173009-fgxqsgfd/logs</code>"
      ],
      "text/plain": [
       "<IPython.core.display.HTML object>"
      ]
     },
     "metadata": {},
     "output_type": "display_data"
    },
    {
     "data": {
      "text/html": [
       "Successfully finished last run (ID:fgxqsgfd). Initializing new run:<br/>"
      ],
      "text/plain": [
       "<IPython.core.display.HTML object>"
      ]
     },
     "metadata": {},
     "output_type": "display_data"
    },
    {
     "data": {
      "text/html": [
       "wandb version 0.13.10 is available!  To upgrade, please run:\n",
       " $ pip install wandb --upgrade"
      ],
      "text/plain": [
       "<IPython.core.display.HTML object>"
      ]
     },
     "metadata": {},
     "output_type": "display_data"
    },
    {
     "data": {
      "text/html": [
       "Tracking run with wandb version 0.13.9"
      ],
      "text/plain": [
       "<IPython.core.display.HTML object>"
      ]
     },
     "metadata": {},
     "output_type": "display_data"
    },
    {
     "data": {
      "text/html": [
       "Run data is saved locally in <code>/mnt/i/tinyml/tiny_cnn/wandb/run-20230226_173040-fgxqsgfd</code>"
      ],
      "text/plain": [
       "<IPython.core.display.HTML object>"
      ]
     },
     "metadata": {},
     "output_type": "display_data"
    },
    {
     "data": {
      "text/html": [
       "Resuming run <strong><a href=\"https://wandb.ai/susbrock/model_DB/runs/fgxqsgfd\" target=\"_blank\">mobilenetv2_0.25_96_c3_o2_t5l512.MV1</a></strong> to <a href=\"https://wandb.ai/susbrock/model_DB\" target=\"_blank\">Weights & Biases</a> (<a href=\"https://wandb.me/run\" target=\"_blank\">docs</a>)<br/>"
      ],
      "text/plain": [
       "<IPython.core.display.HTML object>"
      ]
     },
     "metadata": {},
     "output_type": "display_data"
    },
    {
     "data": {
      "text/html": [
       " View project at <a href=\"https://wandb.ai/susbrock/model_DB\" target=\"_blank\">https://wandb.ai/susbrock/model_DB</a>"
      ],
      "text/plain": [
       "<IPython.core.display.HTML object>"
      ]
     },
     "metadata": {},
     "output_type": "display_data"
    },
    {
     "data": {
      "text/html": [
       " View run at <a href=\"https://wandb.ai/susbrock/model_DB/runs/fgxqsgfd\" target=\"_blank\">https://wandb.ai/susbrock/model_DB/runs/fgxqsgfd</a>"
      ],
      "text/plain": [
       "<IPython.core.display.HTML object>"
      ]
     },
     "metadata": {},
     "output_type": "display_data"
    },
    {
     "data": {
      "text/html": [
       "Waiting for W&B process to finish... <strong style=\"color:green\">(success).</strong>"
      ],
      "text/plain": [
       "<IPython.core.display.HTML object>"
      ]
     },
     "metadata": {},
     "output_type": "display_data"
    },
    {
     "data": {
      "text/html": [
       "<style>\n",
       "    table.wandb td:nth-child(1) { padding: 0 10px; text-align: left ; width: auto;} td:nth-child(2) {text-align: left ; width: 100%}\n",
       "    .wandb-row { display: flex; flex-direction: row; flex-wrap: wrap; justify-content: flex-start; width: 100% }\n",
       "    .wandb-col { display: flex; flex-direction: column; flex-basis: 100%; flex: 1; padding: 10px; }\n",
       "    </style>\n",
       "<div class=\"wandb-row\"><div class=\"wandb-col\"><h3>Run history:</h3><br/><table class=\"wandb\"><tr><td>arena_size</td><td>▁</td></tr></table><br/></div><div class=\"wandb-col\"><h3>Run summary:</h3><br/><table class=\"wandb\"><tr><td>allocate_tensors_ms_%</td><td>0.835</td></tr><tr><td>allocate_tensors_ms_avg</td><td>0.08</td></tr><tr><td>allocate_tensors_ms_first</td><td>0.08</td></tr><tr><td>arena_size</td><td>285664</td></tr><tr><td>first_inference_us</td><td>5536</td></tr><tr><td>inference_avg_us</td><td>734.681</td></tr><tr><td>init_us</td><td>212645</td></tr><tr><td>initialization_ms</td><td>212.645</td></tr><tr><td>model_size_MB</td><td>0.28214</td></tr><tr><td>modify_graph_with_delegate_mem_KB</td><td>1160</td></tr><tr><td>modify_graph_with_delegate_ms_%</td><td>99.165</td></tr><tr><td>modify_graph_with_delegate_ms_avg</td><td>9.505</td></tr><tr><td>modify_graph_with_delegate_ms_first</td><td>9.505</td></tr><tr><td>warmup_avg_us</td><td>749.422</td></tr></table><br/></div></div>"
      ],
      "text/plain": [
       "<IPython.core.display.HTML object>"
      ]
     },
     "metadata": {},
     "output_type": "display_data"
    },
    {
     "data": {
      "text/html": [
       " View run <strong style=\"color:#cdcd00\">mobilenetv2_0.25_96_c3_o2_t5l512.MV1</strong> at: <a href=\"https://wandb.ai/susbrock/model_DB/runs/fgxqsgfd\" target=\"_blank\">https://wandb.ai/susbrock/model_DB/runs/fgxqsgfd</a><br/>Synced 2 W&B file(s), 0 media file(s), 0 artifact file(s) and 0 other file(s)"
      ],
      "text/plain": [
       "<IPython.core.display.HTML object>"
      ]
     },
     "metadata": {},
     "output_type": "display_data"
    },
    {
     "data": {
      "text/html": [
       "Find logs at: <code>./wandb/run-20230226_173040-fgxqsgfd/logs</code>"
      ],
      "text/plain": [
       "<IPython.core.display.HTML object>"
      ]
     },
     "metadata": {},
     "output_type": "display_data"
    }
   ],
   "source": [
    "PROJECT = \"model_DB\"\n",
    "\n",
    "run = wandb.init(\n",
    "        # Set the project where this run will be logged\n",
    "        project=PROJECT, \n",
    "        id = id, \n",
    "        resume=\"allow\",\n",
    "        )\n",
    "\n",
    "run.log({\"arena_size\" : arena_size})\n",
    "\n",
    "wandb.finish()"
   ]
  },
  {
   "cell_type": "code",
   "execution_count": null,
   "metadata": {},
   "outputs": [],
   "source": [
    "# from contextlib import redirect_stdout\n",
    "\n",
    "# with open(\"runtime.txt\", \"w\", encoding='utf-8') as f:\n",
    "#     with redirect_stdout(f):\n",
    "#         print(profile_model(str(models_tflite_opt_path), accelerator=None, build=False))"
   ]
  }
 ],
 "metadata": {
  "kernelspec": {
   "display_name": "tiny",
   "language": "python",
   "name": "python3"
  },
  "language_info": {
   "codemirror_mode": {
    "name": "ipython",
    "version": 3
   },
   "file_extension": ".py",
   "mimetype": "text/x-python",
   "name": "python",
   "nbconvert_exporter": "python",
   "pygments_lexer": "ipython3",
   "version": "3.10.4"
  },
  "orig_nbformat": 4,
  "vscode": {
   "interpreter": {
    "hash": "610b608ea6ab854c78a07c7a006889119f2004c494d86c2ace00f80de941b7fd"
   }
  }
 },
 "nbformat": 4,
 "nbformat_minor": 2
}
