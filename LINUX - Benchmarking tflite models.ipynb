{
 "cells": [
  {
   "attachments": {},
   "cell_type": "markdown",
   "metadata": {},
   "source": [
    "# Benchmarking tflite models  \n",
    "\n",
    "This notebook requires the native benchmark binary for linux that you can get from this page:  \n",
    " [https://www.tensorflow.org/lite/performance/measurement](https://www.tensorflow.org/lite/performance/measurement)  \n",
    "\n",
    " This binary must be placed into the \"benchmarking folder\".\n",
    "\n",
    " This notebook must be run under LINUX!\n",
    "\n",
    " TensorFlow Lite benchmark tools currently measure and calculate statistics for the following important performance metrics:\n",
    "\n",
    "- Initialization time\n",
    "- Inference time of warmup state\n",
    "- Inference time of steady state\n",
    "- Memory usage during initialization time\n",
    "- Overall memory usage"
   ]
  },
  {
   "cell_type": "code",
   "execution_count": 37,
   "metadata": {},
   "outputs": [],
   "source": [
    "import os, sys, math, datetime\n",
    "import pathlib\n",
    "from pathlib import Path\n",
    "\n",
    "# import workbench.config.config\n",
    "from workbench.config.config import initialize\n",
    "from workbench.utils.utils import create_filepaths"
   ]
  },
  {
   "cell_type": "code",
   "execution_count": 38,
   "metadata": {},
   "outputs": [],
   "source": [
    "import re\n",
    "from matplotlib import pyplot as plt\n",
    "#import plotly.express as px\n",
    "import pandas as pd\n",
    "\n",
    "\n",
    "# enable plotly in VS Studio Code\n",
    "#import plotly.io as pio\n",
    "#pio.renderers.default = \"notebook_connected\"\n",
    "#pio.renderers.default = \"plotly_mimetype+notebook\"\n",
    "\n",
    "import wandb"
   ]
  },
  {
   "cell_type": "code",
   "execution_count": 39,
   "metadata": {},
   "outputs": [],
   "source": [
    "# Configure pandas to show all columns & rows\n",
    "pd.set_option('display.max_columns', None)\n",
    "#pd.set_option('display.max_rows', None)\n",
    "pd.set_option('display.max_colwidth', None)"
   ]
  },
  {
   "cell_type": "code",
   "execution_count": 40,
   "metadata": {},
   "outputs": [],
   "source": [
    "models_dir = initialize()"
   ]
  },
  {
   "cell_type": "code",
   "execution_count": 41,
   "metadata": {
    "tags": [
     "parameters"
    ]
   },
   "outputs": [],
   "source": [
    "automated = False\n",
    "\n",
    "global model_name\n",
    "#model_name = \"efficientNetB0_1_96_c1_o3_keras\"\n",
    "model_name = \"mobilenetv1vvw_0.25_96_c3_o2_vvw\"\n",
    "#model_name = \"mobilenetv2_0.35_96_c3_o3_l5\"\n",
    "#model_name = \"shufflenetv1_1_96_c3_o3_000\"\n",
    "#model_name = \"mobilenetv2_0.35_96_c3_o3_keras\"\n",
    "#model_name= \"shufflenetv2tiny_0.1_96_c3_o3_f4l1024\"\n"
   ]
  },
  {
   "cell_type": "code",
   "execution_count": 42,
   "metadata": {},
   "outputs": [
    {
     "name": "stdout",
     "output_type": "stream",
     "text": [
      "/mnt/i/tinyml/tiny_cnn/models\n"
     ]
    }
   ],
   "source": [
    "\n",
    "models_path, models_summary_path, models_image_path, models_layer_df_path, models_tf_path, models_tflite_path, models_tflite_opt_path = create_filepaths(model_name)"
   ]
  },
  {
   "cell_type": "code",
   "execution_count": 43,
   "metadata": {},
   "outputs": [
    {
     "data": {
      "text/plain": [
       "PosixPath('/mnt/i/tinyml/tiny_cnn/models/mobilenetv1vvw_0.25_96_c3_o2_vvw/mobilenetv1vvw_0.25_96_c3_o2_vvw_benchmark.txt')"
      ]
     },
     "execution_count": 43,
     "metadata": {},
     "output_type": "execute_result"
    }
   ],
   "source": [
    "models_benchmark_path = models_dir.joinpath(model_name, f\"{model_name}_benchmark.txt\")\n",
    "models_benchmark_path"
   ]
  },
  {
   "cell_type": "code",
   "execution_count": 44,
   "metadata": {},
   "outputs": [
    {
     "data": {
      "text/plain": [
       "'/mnt/i/tinyml/tiny_cnn/models/mobilenetv1vvw_0.25_96_c3_o2_vvw/mobilenetv1vvw_0.25_96_c3_o2_vvw_INT8.tflite'"
      ]
     },
     "execution_count": 44,
     "metadata": {},
     "output_type": "execute_result"
    }
   ],
   "source": [
    "models_tflite_opt_path.as_posix()"
   ]
  },
  {
   "attachments": {},
   "cell_type": "markdown",
   "metadata": {},
   "source": [
    "# Benchmarking for tflite - non quantized"
   ]
  },
  {
   "cell_type": "code",
   "execution_count": 45,
   "metadata": {},
   "outputs": [],
   "source": [
    "# ! ./benchmarking/linux_x86-64_benchmark_model \\\n",
    "#     --graph=$models_tflite_path \\\n",
    "#     --num_threads=1 \\\n",
    "#     --enable_op_profiling=true \\\n",
    "#     | tee $models_benchmark_path"
   ]
  },
  {
   "attachments": {},
   "cell_type": "markdown",
   "metadata": {},
   "source": [
    "# Benchmarking for quantized .tflite file"
   ]
  },
  {
   "cell_type": "code",
   "execution_count": 46,
   "metadata": {},
   "outputs": [
    {
     "name": "stdout",
     "output_type": "stream",
     "text": [
      "STARTING!\n",
      "Log parameter values verbosely: [0]\n",
      "Num threads: [1]\n",
      "Graph: [/mnt/i/tinyml/tiny_cnn/models/mobilenetv1vvw_0.25_96_c3_o2_vvw/mobilenetv1vvw_0.25_96_c3_o2_vvw_INT8.tflite]\n",
      "Enable op profiling: [1]\n",
      "#threads used for CPU inference: [1]\n",
      "Loaded model /mnt/i/tinyml/tiny_cnn/models/mobilenetv1vvw_0.25_96_c3_o2_vvw/mobilenetv1vvw_0.25_96_c3_o2_vvw_INT8.tflite\n",
      "INFO: Created TensorFlow Lite XNNPACK delegate for CPU.\n",
      "The input model file size (MB): 0.31412\n",
      "Initialized session in 125.159ms.\n",
      "Running benchmark for at least 1 iterations and at least 0.5 seconds but terminate if exceeding 150 seconds.\n",
      "count=1021 first=3965 curr=441 min=432 max=3965 avg=487.728 std=127\n",
      "\n",
      "Running benchmark for at least 50 iterations and at least 1 seconds but terminate if exceeding 150 seconds.\n",
      "count=1812 first=495 curr=601 min=440 max=1032 avg=531.127 std=86\n",
      "\n",
      "Inference timings in us: Init: 125159, First inference: 3965, Warmup (avg): 487.728, Inference (avg): 531.127\n",
      "Note: as the benchmark tool itself affects memory footprint, the following is only APPROXIMATE to the actual memory footprint of the model at runtime. Take the information at your discretion.\n",
      "Memory footprint delta from the start of the tool (MB): init=3.875 overall=4.14844\n",
      "Profiling Info for Benchmark Initialization:\n",
      "============================== Run Order ==============================\n",
      "\t                             [node type]\t  [first]\t [avg ms]\t     [%]\t  [cdf%]\t  [mem KB]\t[times called]\t[Name]\n",
      "\t                 ModifyGraphWithDelegate\t    5.441\t    5.441\t 99.524%\t 99.524%\t  1132.000\t        1\tModifyGraphWithDelegate/0\n",
      "\t                         AllocateTensors\t    0.026\t    0.026\t  0.476%\t100.000%\t     0.000\t        1\tAllocateTensors/0\n",
      "\n",
      "============================== Top by Computation Time ==============================\n",
      "\t                             [node type]\t  [first]\t [avg ms]\t     [%]\t  [cdf%]\t  [mem KB]\t[times called]\t[Name]\n",
      "\t                 ModifyGraphWithDelegate\t    5.441\t    5.441\t 99.524%\t 99.524%\t  1132.000\t        1\tModifyGraphWithDelegate/0\n",
      "\t                         AllocateTensors\t    0.026\t    0.026\t  0.476%\t100.000%\t     0.000\t        1\tAllocateTensors/0\n",
      "\n",
      "Number of nodes executed: 2\n",
      "============================== Summary by node type ==============================\n",
      "\t                             [Node type]\t  [count]\t  [avg ms]\t    [avg %]\t    [cdf %]\t  [mem KB]\t[times called]\n",
      "\t                 ModifyGraphWithDelegate\t        1\t     5.441\t    99.524%\t    99.524%\t  1132.000\t        1\n",
      "\t                         AllocateTensors\t        1\t     0.026\t     0.476%\t   100.000%\t     0.000\t        1\n",
      "\n",
      "Timings (microseconds): count=1 curr=5467\n",
      "Memory (bytes): count=0\n",
      "2 nodes observed\n",
      "\n",
      "\n",
      "\n",
      "Operator-wise Profiling Info for Regular Benchmark Runs:\n",
      "============================== Run Order ==============================\n",
      "\t                             [node type]\t  [first]\t [avg ms]\t     [%]\t  [cdf%]\t  [mem KB]\t[times called]\t[Name]\n",
      "\t                                QUANTIZE\t    0.104\t    0.109\t 21.810%\t 21.810%\t     0.000\t        1\t[tfl.quantize]:0\n",
      "\t           Convolution (NHWC, QC8) IGEMM\t    0.043\t    0.049\t  9.744%\t 31.554%\t     0.000\t        1\tDelegate/Convolution (NHWC, QC8) IGEMM:0\n",
      "\t          Convolution (NHWC, QC8) DWConv\t    0.032\t    0.038\t  7.632%\t 39.185%\t     0.000\t        1\tDelegate/Convolution (NHWC, QC8) DWConv:1\n",
      "\t            Convolution (NHWC, QC8) GEMM\t    0.024\t    0.028\t  5.641%\t 44.826%\t     0.000\t        1\tDelegate/Convolution (NHWC, QC8) GEMM:2\n",
      "\t          Convolution (NHWC, QC8) DWConv\t    0.013\t    0.016\t  3.113%\t 47.939%\t     0.000\t        1\tDelegate/Convolution (NHWC, QC8) DWConv:3\n",
      "\t            Convolution (NHWC, QC8) GEMM\t    0.023\t    0.016\t  3.094%\t 51.033%\t     0.000\t        1\tDelegate/Convolution (NHWC, QC8) GEMM:4\n",
      "\t          Convolution (NHWC, QC8) DWConv\t    0.024\t    0.028\t  5.576%\t 56.609%\t     0.000\t        1\tDelegate/Convolution (NHWC, QC8) DWConv:5\n",
      "\t            Convolution (NHWC, QC8) GEMM\t    0.019\t    0.023\t  4.521%\t 61.131%\t     0.000\t        1\tDelegate/Convolution (NHWC, QC8) GEMM:6\n",
      "\t          Convolution (NHWC, QC8) DWConv\t    0.006\t    0.007\t  1.434%\t 62.564%\t     0.000\t        1\tDelegate/Convolution (NHWC, QC8) DWConv:7\n",
      "\t            Convolution (NHWC, QC8) GEMM\t    0.009\t    0.011\t  2.144%\t 64.708%\t     0.000\t        1\tDelegate/Convolution (NHWC, QC8) GEMM:8\n",
      "\t          Convolution (NHWC, QC8) DWConv\t    0.011\t    0.013\t  2.669%\t 67.377%\t     0.000\t        1\tDelegate/Convolution (NHWC, QC8) DWConv:9\n",
      "\t            Convolution (NHWC, QC8) GEMM\t    0.014\t    0.017\t  3.378%\t 70.756%\t     0.000\t        1\tDelegate/Convolution (NHWC, QC8) GEMM:10\n",
      "\t          Convolution (NHWC, QC8) DWConv\t    0.003\t    0.004\t  0.704%\t 71.460%\t     0.000\t        1\tDelegate/Convolution (NHWC, QC8) DWConv:11\n",
      "\t            Convolution (NHWC, QC8) GEMM\t    0.007\t    0.009\t  1.699%\t 73.159%\t     0.000\t        1\tDelegate/Convolution (NHWC, QC8) GEMM:12\n",
      "\t          Convolution (NHWC, QC8) DWConv\t    0.005\t    0.006\t  1.280%\t 74.439%\t     0.000\t        1\tDelegate/Convolution (NHWC, QC8) DWConv:13\n",
      "\t            Convolution (NHWC, QC8) GEMM\t    0.012\t    0.014\t  2.866%\t 77.304%\t     0.000\t        1\tDelegate/Convolution (NHWC, QC8) GEMM:14\n",
      "\t          Convolution (NHWC, QC8) DWConv\t    0.006\t    0.006\t  1.275%\t 78.579%\t     0.000\t        1\tDelegate/Convolution (NHWC, QC8) DWConv:15\n",
      "\t            Convolution (NHWC, QC8) GEMM\t    0.012\t    0.014\t  2.887%\t 81.466%\t     0.000\t        1\tDelegate/Convolution (NHWC, QC8) GEMM:16\n",
      "\t          Convolution (NHWC, QC8) DWConv\t    0.005\t    0.006\t  1.267%\t 82.732%\t     0.000\t        1\tDelegate/Convolution (NHWC, QC8) DWConv:17\n",
      "\t            Convolution (NHWC, QC8) GEMM\t    0.012\t    0.014\t  2.881%\t 85.613%\t     0.000\t        1\tDelegate/Convolution (NHWC, QC8) GEMM:18\n",
      "\t          Convolution (NHWC, QC8) DWConv\t    0.005\t    0.006\t  1.277%\t 86.891%\t     0.000\t        1\tDelegate/Convolution (NHWC, QC8) DWConv:19\n",
      "\t            Convolution (NHWC, QC8) GEMM\t    0.023\t    0.014\t  2.851%\t 89.742%\t     0.000\t        1\tDelegate/Convolution (NHWC, QC8) GEMM:20\n",
      "\t          Convolution (NHWC, QC8) DWConv\t    0.006\t    0.006\t  1.263%\t 91.005%\t     0.000\t        1\tDelegate/Convolution (NHWC, QC8) DWConv:21\n",
      "\t            Convolution (NHWC, QC8) GEMM\t    0.012\t    0.014\t  2.873%\t 93.878%\t     0.000\t        1\tDelegate/Convolution (NHWC, QC8) GEMM:22\n",
      "\t          Convolution (NHWC, QC8) DWConv\t    0.001\t    0.002\t  0.323%\t 94.201%\t     0.000\t        1\tDelegate/Convolution (NHWC, QC8) DWConv:23\n",
      "\t            Convolution (NHWC, QC8) GEMM\t    0.007\t    0.008\t  1.508%\t 95.709%\t     0.000\t        1\tDelegate/Convolution (NHWC, QC8) GEMM:24\n",
      "\t          Convolution (NHWC, QC8) DWConv\t    0.003\t    0.003\t  0.687%\t 96.396%\t     0.000\t        1\tDelegate/Convolution (NHWC, QC8) DWConv:25\n",
      "\t            Convolution (NHWC, QC8) GEMM\t    0.013\t    0.014\t  2.717%\t 99.112%\t     0.000\t        1\tDelegate/Convolution (NHWC, QC8) GEMM:26\n",
      "\t                         AVERAGE_POOL_2D\t    0.002\t    0.002\t  0.468%\t 99.580%\t     0.000\t        1\t[mobilenetv1vvw/average_pooling2d/AvgPool]:28\n",
      "\t                                 RESHAPE\t    0.001\t    0.001\t  0.115%\t 99.695%\t     0.000\t        1\t[mobilenetv1vvw/flatten/Reshape]:29\n",
      "\t          Fully Connected (NC, QS8) GEMM\t    0.000\t    0.000\t  0.004%\t 99.700%\t     0.000\t        1\tDelegate/Fully Connected (NC, QS8) GEMM:0\n",
      "\t                                 SOFTMAX\t    0.001\t    0.001\t  0.156%\t 99.856%\t     0.000\t        1\t[StatefulPartitionedCall:01]:31\n",
      "\t                                QUANTIZE\t    0.001\t    0.001\t  0.144%\t100.000%\t     0.000\t        1\t[StatefulPartitionedCall:0]:32\n",
      "\n",
      "============================== Top by Computation Time ==============================\n",
      "\t                             [node type]\t  [first]\t [avg ms]\t     [%]\t  [cdf%]\t  [mem KB]\t[times called]\t[Name]\n",
      "\t                                QUANTIZE\t    0.104\t    0.109\t 21.810%\t 21.810%\t     0.000\t        1\t[tfl.quantize]:0\n",
      "\t           Convolution (NHWC, QC8) IGEMM\t    0.043\t    0.049\t  9.744%\t 31.554%\t     0.000\t        1\tDelegate/Convolution (NHWC, QC8) IGEMM:0\n",
      "\t          Convolution (NHWC, QC8) DWConv\t    0.032\t    0.038\t  7.632%\t 39.185%\t     0.000\t        1\tDelegate/Convolution (NHWC, QC8) DWConv:1\n",
      "\t            Convolution (NHWC, QC8) GEMM\t    0.024\t    0.028\t  5.641%\t 44.826%\t     0.000\t        1\tDelegate/Convolution (NHWC, QC8) GEMM:2\n",
      "\t          Convolution (NHWC, QC8) DWConv\t    0.024\t    0.028\t  5.576%\t 50.402%\t     0.000\t        1\tDelegate/Convolution (NHWC, QC8) DWConv:5\n",
      "\t            Convolution (NHWC, QC8) GEMM\t    0.019\t    0.023\t  4.521%\t 54.924%\t     0.000\t        1\tDelegate/Convolution (NHWC, QC8) GEMM:6\n",
      "\t            Convolution (NHWC, QC8) GEMM\t    0.014\t    0.017\t  3.378%\t 58.302%\t     0.000\t        1\tDelegate/Convolution (NHWC, QC8) GEMM:10\n",
      "\t          Convolution (NHWC, QC8) DWConv\t    0.013\t    0.016\t  3.113%\t 61.415%\t     0.000\t        1\tDelegate/Convolution (NHWC, QC8) DWConv:3\n",
      "\t            Convolution (NHWC, QC8) GEMM\t    0.023\t    0.016\t  3.094%\t 64.509%\t     0.000\t        1\tDelegate/Convolution (NHWC, QC8) GEMM:4\n",
      "\t            Convolution (NHWC, QC8) GEMM\t    0.012\t    0.014\t  2.887%\t 67.396%\t     0.000\t        1\tDelegate/Convolution (NHWC, QC8) GEMM:16\n",
      "\n",
      "Number of nodes executed: 33\n",
      "============================== Summary by node type ==============================\n",
      "\t                             [Node type]\t  [count]\t  [avg ms]\t    [avg %]\t    [cdf %]\t  [mem KB]\t[times called]\n",
      "\t            Convolution (NHWC, QC8) GEMM\t       13\t     0.189\t    38.969%\t    38.969%\t     0.000\t       13\n",
      "\t          Convolution (NHWC, QC8) DWConv\t       13\t     0.137\t    28.247%\t    67.216%\t     0.000\t       13\n",
      "\t                                QUANTIZE\t        2\t     0.109\t    22.474%\t    89.691%\t     0.000\t        2\n",
      "\t           Convolution (NHWC, QC8) IGEMM\t        1\t     0.048\t     9.897%\t    99.588%\t     0.000\t        1\n",
      "\t                         AVERAGE_POOL_2D\t        1\t     0.002\t     0.412%\t   100.000%\t     0.000\t        1\n",
      "\t                                 SOFTMAX\t        1\t     0.000\t     0.000%\t   100.000%\t     0.000\t        1\n",
      "\t                                 RESHAPE\t        1\t     0.000\t     0.000%\t   100.000%\t     0.000\t        1\n",
      "\t          Fully Connected (NC, QS8) GEMM\t        1\t     0.000\t     0.000%\t   100.000%\t     0.000\t        1\n",
      "\n",
      "Timings (microseconds): count=1812 first=459 curr=567 min=413 max=985 avg=501.965 std=84\n",
      "Memory (bytes): count=0\n",
      "33 nodes observed\n",
      "\n",
      "\n",
      "\n"
     ]
    }
   ],
   "source": [
    "! ./benchmarking/linux_x86-64_benchmark_model \\\n",
    "    --graph=$models_tflite_opt_path \\\n",
    "    --num_threads=1 \\\n",
    "    --enable_op_profiling=true \\\n",
    "    | tee $models_benchmark_path"
   ]
  },
  {
   "cell_type": "code",
   "execution_count": 47,
   "metadata": {},
   "outputs": [],
   "source": [
    "if automated == False:\n",
    "    ! code $models_benchmark_path"
   ]
  },
  {
   "attachments": {},
   "cell_type": "markdown",
   "metadata": {},
   "source": [
    "# Finding the tensor arena size"
   ]
  },
  {
   "cell_type": "code",
   "execution_count": 48,
   "metadata": {},
   "outputs": [],
   "source": [
    "# ! pwd"
   ]
  },
  {
   "cell_type": "code",
   "execution_count": 49,
   "metadata": {},
   "outputs": [],
   "source": [
    "# ! /mnt/i/tinyml"
   ]
  },
  {
   "cell_type": "code",
   "execution_count": 50,
   "metadata": {},
   "outputs": [],
   "source": [
    "# ! /mnt/i/tinyml/tflite-find-arena-size/build/find-arena-size $models_tflite_opt_path\n"
   ]
  },
  {
   "cell_type": "code",
   "execution_count": null,
   "metadata": {},
   "outputs": [],
   "source": []
  }
 ],
 "metadata": {
  "kernelspec": {
   "display_name": "tiny",
   "language": "python",
   "name": "python3"
  },
  "language_info": {
   "codemirror_mode": {
    "name": "ipython",
    "version": 3
   },
   "file_extension": ".py",
   "mimetype": "text/x-python",
   "name": "python",
   "nbconvert_exporter": "python",
   "pygments_lexer": "ipython3",
   "version": "3.10.4"
  },
  "orig_nbformat": 4,
  "vscode": {
   "interpreter": {
    "hash": "610b608ea6ab854c78a07c7a006889119f2004c494d86c2ace00f80de941b7fd"
   }
  }
 },
 "nbformat": 4,
 "nbformat_minor": 2
}
