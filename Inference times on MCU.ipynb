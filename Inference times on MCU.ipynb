{
 "cells": [
  {
   "cell_type": "code",
   "execution_count": 27,
   "id": "3c9f7d22-5862-4ab8-a500-a4f6a0073c8f",
   "metadata": {},
   "outputs": [],
   "source": [
    "import numpy as np\n",
    "import pandas as pd\n",
    "import time\n",
    "\n",
    "import serial\n",
    "import serial.tools.list_ports\n",
    "\n",
    "from pathlib import Path\n",
    "\n",
    "# import workbench.config.config'\n",
    "from workbench.config.config import initialize\n",
    "from workbench.utils.utils import create_filepaths"
   ]
  },
  {
   "cell_type": "code",
   "execution_count": 28,
   "id": "5da974a8-99cd-447d-b27a-9b5c4dea6c2f",
   "metadata": {},
   "outputs": [
    {
     "data": {
      "text/plain": [
       "[<serial.tools.list_ports_common.ListPortInfo at 0x2913eab5510>]"
      ]
     },
     "execution_count": 28,
     "metadata": {},
     "output_type": "execute_result"
    }
   ],
   "source": [
    "ports = serial.tools.list_ports.comports()\n",
    "ports"
   ]
  },
  {
   "cell_type": "code",
   "execution_count": 29,
   "id": "41c47645",
   "metadata": {},
   "outputs": [
    {
     "data": {
      "text/plain": [
       "['Microsoft']"
      ]
     },
     "execution_count": 29,
     "metadata": {},
     "output_type": "execute_result"
    }
   ],
   "source": [
    "[port.manufacturer for port in ports]"
   ]
  },
  {
   "cell_type": "code",
   "execution_count": 31,
   "id": "dccfde12",
   "metadata": {},
   "outputs": [],
   "source": [
    "port = ports[0].device"
   ]
  },
  {
   "cell_type": "code",
   "execution_count": 32,
   "id": "879cffcd",
   "metadata": {},
   "outputs": [],
   "source": [
    "# Open port\n",
    "arduino = serial.Serial(port, baudrate=115200, timeout=1)"
   ]
  },
  {
   "cell_type": "code",
   "execution_count": 33,
   "id": "6c8a4445",
   "metadata": {},
   "outputs": [],
   "source": [
    "def handshake_arduino(\n",
    "    arduino, sleep_time=1, print_handshake_message=False, handshake_code=000\n",
    "):\n",
    "    \"\"\"Make sure connection is established by sending\n",
    "    and receiving bytes.\"\"\"\n",
    "    # Close and reopen\n",
    "    arduino.close()\n",
    "    arduino.open()\n",
    "\n",
    "    # Chill out while everything gets set\n",
    "    time.sleep(sleep_time)\n",
    "\n",
    "    # Set a long timeout to complete handshake\n",
    "    timeout = arduino.timeout\n",
    "    arduino.timeout = 2\n",
    "\n",
    "    # Read and discard everything that may be in the input buffer\n",
    "    _ = arduino.read_all()\n",
    "\n",
    "    # Send request to Arduino\n",
    "    arduino.write(bytes([handshake_code]))\n",
    "\n",
    "    # Read in what Arduino sent\n",
    "    handshake_message = arduino.read_until()\n",
    "\n",
    "    # Send and receive request again\n",
    "    arduino.write(bytes([handshake_code]))\n",
    "    handshake_message = arduino.read_until()\n",
    "\n",
    "    # Print the handshake message, if desired\n",
    "    if print_handshake_message:\n",
    "        print(\"Handshake message: \" + handshake_message.decode())\n",
    "\n",
    "    # Reset the timeout\n",
    "    arduino.timeout = timeout\n"
   ]
  },
  {
   "cell_type": "code",
   "execution_count": 34,
   "id": "5d07025b",
   "metadata": {},
   "outputs": [
    {
     "name": "stdout",
     "output_type": "stream",
     "text": [
      "Handshake message: Start\n",
      "\n"
     ]
    }
   ],
   "source": [
    "# Call the handshake function\n",
    "handshake_arduino(arduino, print_handshake_message=True)"
   ]
  },
  {
   "cell_type": "code",
   "execution_count": 35,
   "id": "63c5dae5",
   "metadata": {},
   "outputs": [],
   "source": [
    "def parse_raw(raw):\n",
    "    \"\"\"Parse bytes output from Arduino.\"\"\"\n",
    "    raw = raw.decode()\n",
    "    if raw[-1] != \"\\n\":\n",
    "        raise ValueError(\n",
    "            \"Input must end with newline, otherwise message is incomplete.\"\n",
    "        )\n",
    "\n",
    "    line = raw.rstrip()\n",
    "\n",
    "    return line"
   ]
  },
  {
   "attachments": {},
   "cell_type": "markdown",
   "id": "a5eec078",
   "metadata": {},
   "source": [
    "It is important to always close the ports when they are not used!"
   ]
  },
  {
   "cell_type": "code",
   "execution_count": 38,
   "id": "838ec548",
   "metadata": {},
   "outputs": [],
   "source": [
    "def get_arduino_lines(n_data = 1000, port=\"COM3\"):\n",
    "    arduino = serial.Serial(port, baudrate=115200, timeout=1)\n",
    "\n",
    "    handshake_arduino(arduino, print_handshake_message=True)\n",
    "    \n",
    "    # arduino.close()\n",
    "    # arduino.open()\n",
    "\n",
    "    lines =[]\n",
    "    i = 0\n",
    "\n",
    "    while i < n_data:\n",
    "        try:\n",
    "            raw = arduino.read_until()\n",
    "            raw = parse_raw(raw)\n",
    "            lines.append(raw)\n",
    "            i +=1\n",
    "        except:\n",
    "            \"Print\"\n",
    "    arduino.close()\n",
    "\n",
    "    return lines"
   ]
  },
  {
   "cell_type": "code",
   "execution_count": 45,
   "id": "0403a618",
   "metadata": {},
   "outputs": [],
   "source": [
    "arduino.close()"
   ]
  },
  {
   "cell_type": "code",
   "execution_count": 46,
   "id": "47932f55",
   "metadata": {},
   "outputs": [
    {
     "name": "stdout",
     "output_type": "stream",
     "text": [
      "Handshake message: Inference time \n",
      "\n"
     ]
    }
   ],
   "source": [
    "scan_lines = get_arduino_lines()"
   ]
  },
  {
   "attachments": {},
   "cell_type": "markdown",
   "id": "c05bbdb4",
   "metadata": {},
   "source": [
    "# Cleanup the received data"
   ]
  },
  {
   "cell_type": "code",
   "execution_count": 119,
   "id": "c137c659",
   "metadata": {},
   "outputs": [],
   "source": [
    "def create_MCU_inference_df(lines):\n",
    "    clean_lines = []\n",
    "    for line in lines:\n",
    "        clean_lines.append(str(line).replace(\"lu\", \"\"))#.replace(\").\", \"\"))\n",
    "\n",
    "    #clean_lines\n",
    "    lines_df = pd.DataFrame(clean_lines)\n",
    "\n",
    "    split_df = lines_df[0].str.split(\",\",expand=True)\n",
    "    # setting first row as headers\n",
    "    split_df.columns = split_df.iloc[0]\n",
    "    split_df = split_df[1:]\n",
    "    split_df.columns = [c.strip('\"') for c in split_df.columns.values.tolist()]\n",
    "\n",
    "    # data cleaning\n",
    "    split_df = split_df[split_df['Ticks'] != '\"Ticks\"']\n",
    "    split_df = split_df.fillna(0)\n",
    "    split_df[\"Ticks\"] = split_df[\"Ticks\"].astype(int)\n",
    "    split_df[\"ms\"] = split_df[\"Ticks\"]/ 1000.0\n",
    "\n",
    "    # finding start and end of each inference\n",
    "    # each inference starts and ends with quantization of the input or output tensor\n",
    "    split_df[\"next_Tag\"] = split_df[\"Tag\"].shift()\n",
    "    split_df[\"prev_Tag\"] = split_df[\"Tag\"].shift(-1)\n",
    "    split_df[\"start\"] = (split_df[\"next_Tag\"] == split_df[\"Tag\"])\n",
    "    split_df[\"end\"] = (split_df[\"prev_Tag\"] == split_df[\"Tag\"])\n",
    "\n",
    "    # create markers for the different inference cycles\n",
    "    inference = []\n",
    "    i =1 \n",
    "    for row in split_df['start']:\n",
    "        if row == True:\n",
    "            inference.append(f\"inference_{i}\")\n",
    "            i = i+1\n",
    "        else:\n",
    "            inference.append(None)\n",
    "\n",
    "    split_df['inference'] = inference\n",
    "    split_df['inference'].fillna(method=\"ffill\", inplace=True)\n",
    "    \n",
    "    split_df.drop([\"start\", \"end\",\"next_Tag\", \"prev_Tag\"], axis=1, inplace=True)\n",
    "\n",
    "    return split_df\n",
    "\n",
    "    \n"
   ]
  },
  {
   "cell_type": "code",
   "execution_count": 120,
   "id": "0540b606",
   "metadata": {},
   "outputs": [
    {
     "data": {
      "text/html": [
       "<div>\n",
       "<style scoped>\n",
       "    .dataframe tbody tr th:only-of-type {\n",
       "        vertical-align: middle;\n",
       "    }\n",
       "\n",
       "    .dataframe tbody tr th {\n",
       "        vertical-align: top;\n",
       "    }\n",
       "\n",
       "    .dataframe thead th {\n",
       "        text-align: right;\n",
       "    }\n",
       "</style>\n",
       "<table border=\"1\" class=\"dataframe\">\n",
       "  <thead>\n",
       "    <tr style=\"text-align: right;\">\n",
       "      <th></th>\n",
       "      <th>Event</th>\n",
       "      <th>Tag</th>\n",
       "      <th>Ticks</th>\n",
       "      <th>ms</th>\n",
       "      <th>inference</th>\n",
       "    </tr>\n",
       "  </thead>\n",
       "  <tbody>\n",
       "    <tr>\n",
       "      <th>1</th>\n",
       "      <td>0</td>\n",
       "      <td>QUANTIZE</td>\n",
       "      <td>5785</td>\n",
       "      <td>5.785</td>\n",
       "      <td>None</td>\n",
       "    </tr>\n",
       "    <tr>\n",
       "      <th>2</th>\n",
       "      <td>1</td>\n",
       "      <td>CONV_2D</td>\n",
       "      <td>69562</td>\n",
       "      <td>69.562</td>\n",
       "      <td>None</td>\n",
       "    </tr>\n",
       "    <tr>\n",
       "      <th>3</th>\n",
       "      <td>2</td>\n",
       "      <td>MAX_POOL_2D</td>\n",
       "      <td>6821</td>\n",
       "      <td>6.821</td>\n",
       "      <td>None</td>\n",
       "    </tr>\n",
       "    <tr>\n",
       "      <th>4</th>\n",
       "      <td>3</td>\n",
       "      <td>CONV_2D</td>\n",
       "      <td>8157</td>\n",
       "      <td>8.157</td>\n",
       "      <td>None</td>\n",
       "    </tr>\n",
       "    <tr>\n",
       "      <th>5</th>\n",
       "      <td>4</td>\n",
       "      <td>DEPTHWISE_CONV_2D</td>\n",
       "      <td>1356</td>\n",
       "      <td>1.356</td>\n",
       "      <td>None</td>\n",
       "    </tr>\n",
       "    <tr>\n",
       "      <th>...</th>\n",
       "      <td>...</td>\n",
       "      <td>...</td>\n",
       "      <td>...</td>\n",
       "      <td>...</td>\n",
       "      <td>...</td>\n",
       "    </tr>\n",
       "    <tr>\n",
       "      <th>995</th>\n",
       "      <td>19</td>\n",
       "      <td>CONV_2D</td>\n",
       "      <td>2175</td>\n",
       "      <td>2.175</td>\n",
       "      <td>inference_6</td>\n",
       "    </tr>\n",
       "    <tr>\n",
       "      <th>996</th>\n",
       "      <td>20</td>\n",
       "      <td>DEPTHWISE_CONV_2D</td>\n",
       "      <td>1789</td>\n",
       "      <td>1.789</td>\n",
       "      <td>inference_6</td>\n",
       "    </tr>\n",
       "    <tr>\n",
       "      <th>997</th>\n",
       "      <td>21</td>\n",
       "      <td>CONV_2D</td>\n",
       "      <td>2175</td>\n",
       "      <td>2.175</td>\n",
       "      <td>inference_6</td>\n",
       "    </tr>\n",
       "    <tr>\n",
       "      <th>998</th>\n",
       "      <td>22</td>\n",
       "      <td>CONCATENATION</td>\n",
       "      <td>108</td>\n",
       "      <td>0.108</td>\n",
       "      <td>inference_6</td>\n",
       "    </tr>\n",
       "    <tr>\n",
       "      <th>999</th>\n",
       "      <td>23</td>\n",
       "      <td>RESHAPE</td>\n",
       "      <td>31</td>\n",
       "      <td>0.031</td>\n",
       "      <td>inference_6</td>\n",
       "    </tr>\n",
       "  </tbody>\n",
       "</table>\n",
       "<p>998 rows × 5 columns</p>\n",
       "</div>"
      ],
      "text/plain": [
       "    Event                Tag  Ticks      ms    inference\n",
       "1       0           QUANTIZE   5785   5.785         None\n",
       "2       1            CONV_2D  69562  69.562         None\n",
       "3       2        MAX_POOL_2D   6821   6.821         None\n",
       "4       3            CONV_2D   8157   8.157         None\n",
       "5       4  DEPTHWISE_CONV_2D   1356   1.356         None\n",
       "..    ...                ...    ...     ...          ...\n",
       "995    19            CONV_2D   2175   2.175  inference_6\n",
       "996    20  DEPTHWISE_CONV_2D   1789   1.789  inference_6\n",
       "997    21            CONV_2D   2175   2.175  inference_6\n",
       "998    22      CONCATENATION    108   0.108  inference_6\n",
       "999    23            RESHAPE     31   0.031  inference_6\n",
       "\n",
       "[998 rows x 5 columns]"
      ]
     },
     "execution_count": 120,
     "metadata": {},
     "output_type": "execute_result"
    }
   ],
   "source": [
    "inference_df = create_MCU_inference_df(scan_lines)\n",
    "inference_df"
   ]
  },
  {
   "cell_type": "code",
   "execution_count": 122,
   "id": "af3be453",
   "metadata": {},
   "outputs": [
    {
     "data": {
      "text/html": [
       "<div>\n",
       "<style scoped>\n",
       "    .dataframe tbody tr th:only-of-type {\n",
       "        vertical-align: middle;\n",
       "    }\n",
       "\n",
       "    .dataframe tbody tr th {\n",
       "        vertical-align: top;\n",
       "    }\n",
       "\n",
       "    .dataframe thead th {\n",
       "        text-align: right;\n",
       "    }\n",
       "</style>\n",
       "<table border=\"1\" class=\"dataframe\">\n",
       "  <thead>\n",
       "    <tr style=\"text-align: right;\">\n",
       "      <th></th>\n",
       "      <th>Event</th>\n",
       "      <th>Tag</th>\n",
       "      <th>Ticks</th>\n",
       "      <th>ms</th>\n",
       "      <th>inference</th>\n",
       "    </tr>\n",
       "  </thead>\n",
       "  <tbody>\n",
       "    <tr>\n",
       "      <th>140</th>\n",
       "      <td>139</td>\n",
       "      <td>QUANTIZE</td>\n",
       "      <td>5885</td>\n",
       "      <td>5.885</td>\n",
       "      <td>inference_1</td>\n",
       "    </tr>\n",
       "    <tr>\n",
       "      <th>141</th>\n",
       "      <td>140</td>\n",
       "      <td>CONV_2D</td>\n",
       "      <td>70083</td>\n",
       "      <td>70.083</td>\n",
       "      <td>inference_1</td>\n",
       "    </tr>\n",
       "    <tr>\n",
       "      <th>142</th>\n",
       "      <td>141</td>\n",
       "      <td>MAX_POOL_2D</td>\n",
       "      <td>6915</td>\n",
       "      <td>6.915</td>\n",
       "      <td>inference_1</td>\n",
       "    </tr>\n",
       "    <tr>\n",
       "      <th>143</th>\n",
       "      <td>142</td>\n",
       "      <td>CONV_2D</td>\n",
       "      <td>8293</td>\n",
       "      <td>8.293</td>\n",
       "      <td>inference_1</td>\n",
       "    </tr>\n",
       "    <tr>\n",
       "      <th>144</th>\n",
       "      <td>143</td>\n",
       "      <td>DEPTHWISE_CONV_2D</td>\n",
       "      <td>1372</td>\n",
       "      <td>1.372</td>\n",
       "      <td>inference_1</td>\n",
       "    </tr>\n",
       "    <tr>\n",
       "      <th>...</th>\n",
       "      <td>...</td>\n",
       "      <td>...</td>\n",
       "      <td>...</td>\n",
       "      <td>...</td>\n",
       "      <td>...</td>\n",
       "    </tr>\n",
       "    <tr>\n",
       "      <th>274</th>\n",
       "      <td>273</td>\n",
       "      <td>CONV_2D</td>\n",
       "      <td>61694</td>\n",
       "      <td>61.694</td>\n",
       "      <td>inference_1</td>\n",
       "    </tr>\n",
       "    <tr>\n",
       "      <th>275</th>\n",
       "      <td>274</td>\n",
       "      <td>MEAN</td>\n",
       "      <td>48612</td>\n",
       "      <td>48.612</td>\n",
       "      <td>inference_1</td>\n",
       "    </tr>\n",
       "    <tr>\n",
       "      <th>276</th>\n",
       "      <td>275</td>\n",
       "      <td>FULLY_CONNECTED</td>\n",
       "      <td>302</td>\n",
       "      <td>0.302</td>\n",
       "      <td>inference_1</td>\n",
       "    </tr>\n",
       "    <tr>\n",
       "      <th>277</th>\n",
       "      <td>276</td>\n",
       "      <td>SOFTMAX</td>\n",
       "      <td>55</td>\n",
       "      <td>0.055</td>\n",
       "      <td>inference_1</td>\n",
       "    </tr>\n",
       "    <tr>\n",
       "      <th>278</th>\n",
       "      <td>277</td>\n",
       "      <td>QUANTIZE</td>\n",
       "      <td>16</td>\n",
       "      <td>0.016</td>\n",
       "      <td>inference_1</td>\n",
       "    </tr>\n",
       "  </tbody>\n",
       "</table>\n",
       "<p>139 rows × 5 columns</p>\n",
       "</div>"
      ],
      "text/plain": [
       "    Event                Tag  Ticks      ms    inference\n",
       "140   139           QUANTIZE   5885   5.885  inference_1\n",
       "141   140            CONV_2D  70083  70.083  inference_1\n",
       "142   141        MAX_POOL_2D   6915   6.915  inference_1\n",
       "143   142            CONV_2D   8293   8.293  inference_1\n",
       "144   143  DEPTHWISE_CONV_2D   1372   1.372  inference_1\n",
       "..    ...                ...    ...     ...          ...\n",
       "274   273            CONV_2D  61694  61.694  inference_1\n",
       "275   274               MEAN  48612  48.612  inference_1\n",
       "276   275    FULLY_CONNECTED    302   0.302  inference_1\n",
       "277   276            SOFTMAX     55   0.055  inference_1\n",
       "278   277           QUANTIZE     16   0.016  inference_1\n",
       "\n",
       "[139 rows x 5 columns]"
      ]
     },
     "execution_count": 122,
     "metadata": {},
     "output_type": "execute_result"
    }
   ],
   "source": [
    "inference_1_df = inference_df[inference_df[\"inference\"]== \"inference_1\"]\n",
    "inference_1_df"
   ]
  },
  {
   "cell_type": "code",
   "execution_count": 123,
   "id": "feec1f56",
   "metadata": {},
   "outputs": [
    {
     "data": {
      "text/plain": [
       "363.009"
      ]
     },
     "execution_count": 123,
     "metadata": {},
     "output_type": "execute_result"
    }
   ],
   "source": [
    "inference_time = inference_1_df[\"ms\"].sum()\n",
    "inference_time"
   ]
  },
  {
   "cell_type": "code",
   "execution_count": null,
   "id": "fa447b29",
   "metadata": {},
   "outputs": [],
   "source": []
  }
 ],
 "metadata": {
  "kernelspec": {
   "display_name": "tiny_cnn_6",
   "language": "python",
   "name": "python3"
  },
  "language_info": {
   "codemirror_mode": {
    "name": "ipython",
    "version": 3
   },
   "file_extension": ".py",
   "mimetype": "text/x-python",
   "name": "python",
   "nbconvert_exporter": "python",
   "pygments_lexer": "ipython3",
   "version": "3.10.6"
  },
  "vscode": {
   "interpreter": {
    "hash": "0faa6c31b20b8f809b81d6d7d22a84ccd9f354666f54133d1793fa4c65539801"
   }
  }
 },
 "nbformat": 4,
 "nbformat_minor": 5
}
