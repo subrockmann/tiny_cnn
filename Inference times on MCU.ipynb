{
 "cells": [
  {
   "cell_type": "code",
   "execution_count": 1,
   "id": "3c9f7d22-5862-4ab8-a500-a4f6a0073c8f",
   "metadata": {},
   "outputs": [],
   "source": [
    "import numpy as np\n",
    "import pandas as pd\n",
    "import time\n",
    "\n",
    "import serial\n",
    "import serial.tools.list_ports\n",
    "\n",
    "from pathlib import Path\n",
    "\n",
    "# import workbench.config.config'\n",
    "from workbench.config.config import initialize\n",
    "from workbench.utils.utils import create_filepaths"
   ]
  },
  {
   "attachments": {},
   "cell_type": "markdown",
   "id": "3af72d8c",
   "metadata": {},
   "source": [
    "# Setting up file paths"
   ]
  },
  {
   "cell_type": "code",
   "execution_count": 4,
   "id": "6a9153e1",
   "metadata": {},
   "outputs": [],
   "source": [
    "models_dir = initialize()"
   ]
  },
  {
   "cell_type": "code",
   "execution_count": 5,
   "id": "31af5588",
   "metadata": {},
   "outputs": [],
   "source": [
    "model_name = \"shufflenetv2tiny_0.05_96_c3_o2_f24l1024\""
   ]
  },
  {
   "cell_type": "code",
   "execution_count": 6,
   "id": "7f39d28f",
   "metadata": {},
   "outputs": [
    {
     "name": "stdout",
     "output_type": "stream",
     "text": [
      "i:\\tinyml\\tiny_cnn\\models\n"
     ]
    }
   ],
   "source": [
    "models_path, models_summary_path, models_image_path, models_layer_df_path, models_tf_path, models_tflite_path, models_tflite_opt_path = create_filepaths(model_name)"
   ]
  },
  {
   "cell_type": "code",
   "execution_count": 7,
   "id": "4fdc43f0",
   "metadata": {},
   "outputs": [],
   "source": [
    "# create path to cpp files\n",
    "arduino_csv_path = models_path.joinpath(\"arduino_inference.csv\")\n",
    "model_cpp_path = models_path.joinpath(\"model.cpp\")\n",
    "model_header_path = models_path.joinpath(\"model.h\")\n",
    "\n"
   ]
  },
  {
   "cell_type": "code",
   "execution_count": 8,
   "id": "5c0bc178",
   "metadata": {},
   "outputs": [
    {
     "data": {
      "text/plain": [
       "['mobilenetv1_0.1_96_c3_o2_l2.MV1']"
      ]
     },
     "execution_count": 8,
     "metadata": {},
     "output_type": "execute_result"
    }
   ],
   "source": [
    "# get the list of recently created models\n",
    "model_names = []\n",
    "with open(\"deployment_list.txt\", \"r\") as file:\n",
    "    lines = file.readlines()\n",
    "    for line in lines:\n",
    "        if len(line) < 2:\n",
    "            pass\n",
    "        else:\n",
    "            model_names.append(line.strip())\n",
    "\n",
    "model_names"
   ]
  },
  {
   "cell_type": "code",
   "execution_count": 9,
   "id": "a0483fee",
   "metadata": {},
   "outputs": [],
   "source": [
    "model_name = 'mobilenetv1_0.1_96_c3_o2_l2.MV1'"
   ]
  },
  {
   "cell_type": "code",
   "execution_count": 10,
   "id": "911325fa",
   "metadata": {},
   "outputs": [],
   "source": [
    "models_h_path = models_dir.joinpath(model_name, \"model.h\")\n",
    "models_c_path = models_dir.joinpath(model_name, \"model.cpp\")"
   ]
  },
  {
   "cell_type": "code",
   "execution_count": null,
   "id": "8b66b5fb",
   "metadata": {},
   "outputs": [],
   "source": []
  },
  {
   "attachments": {},
   "cell_type": "markdown",
   "id": "5bcbec02",
   "metadata": {},
   "source": [
    "# Preparation for compilation on Arduino"
   ]
  },
  {
   "cell_type": "code",
   "execution_count": 11,
   "id": "7b5f0634",
   "metadata": {},
   "outputs": [],
   "source": [
    "# copy model files to cpp project\n",
    "# TODO"
   ]
  },
  {
   "attachments": {},
   "cell_type": "markdown",
   "id": "a620ca1f",
   "metadata": {},
   "source": [
    "# Compile the project and upload it to Arduino"
   ]
  },
  {
   "cell_type": "code",
   "execution_count": 12,
   "id": "eaf390bf",
   "metadata": {},
   "outputs": [
    {
     "name": "stderr",
     "output_type": "stream",
     "text": [
      "Der Befehl \"arduino-cli\" ist entweder falsch geschrieben oder\n",
      "konnte nicht gefunden werden.\n"
     ]
    }
   ],
   "source": [
    "!arduino-cli compile --fqbn arduino:mbed_nano:nano33ble deployment/model_test -v"
   ]
  },
  {
   "cell_type": "code",
   "execution_count": null,
   "id": "a575a0df",
   "metadata": {},
   "outputs": [],
   "source": [
    "!arduino-cli upload -p COM4 --fqbn arduino:mbed_nano:nano33ble deployment/model_test"
   ]
  },
  {
   "attachments": {},
   "cell_type": "markdown",
   "id": "11c53ef4",
   "metadata": {},
   "source": [
    "# Working with Arduino"
   ]
  },
  {
   "cell_type": "code",
   "execution_count": 59,
   "id": "5da974a8-99cd-447d-b27a-9b5c4dea6c2f",
   "metadata": {},
   "outputs": [
    {
     "data": {
      "text/plain": [
       "[<serial.tools.list_ports_common.ListPortInfo at 0x2216964acb0>]"
      ]
     },
     "execution_count": 59,
     "metadata": {},
     "output_type": "execute_result"
    }
   ],
   "source": [
    "ports = serial.tools.list_ports.comports()\n",
    "ports"
   ]
  },
  {
   "cell_type": "code",
   "execution_count": 60,
   "id": "41c47645",
   "metadata": {},
   "outputs": [
    {
     "data": {
      "text/plain": [
       "['Microsoft']"
      ]
     },
     "execution_count": 60,
     "metadata": {},
     "output_type": "execute_result"
    }
   ],
   "source": [
    "[port.manufacturer for port in ports]"
   ]
  },
  {
   "cell_type": "code",
   "execution_count": 61,
   "id": "dccfde12",
   "metadata": {},
   "outputs": [],
   "source": [
    "port = ports[0].device"
   ]
  },
  {
   "cell_type": "code",
   "execution_count": 62,
   "id": "879cffcd",
   "metadata": {},
   "outputs": [],
   "source": [
    "# Open port\n",
    "arduino = serial.Serial(port, baudrate=115200, timeout=1)"
   ]
  },
  {
   "cell_type": "code",
   "execution_count": 63,
   "id": "afc88b96",
   "metadata": {},
   "outputs": [],
   "source": [
    "arduino.close()"
   ]
  },
  {
   "cell_type": "code",
   "execution_count": 64,
   "id": "6c8a4445",
   "metadata": {},
   "outputs": [],
   "source": [
    "def handshake_arduino(\n",
    "    arduino, sleep_time=1, print_handshake_message=False, handshake_code=000\n",
    "):\n",
    "    \"\"\"Make sure connection is established by sending\n",
    "    and receiving bytes.\"\"\"\n",
    "    # Close and reopen\n",
    "    arduino.close()\n",
    "    arduino.open()\n",
    "\n",
    "    # Chill out while everything gets set\n",
    "    time.sleep(sleep_time)\n",
    "\n",
    "    # Set a long timeout to complete handshake\n",
    "    timeout = arduino.timeout\n",
    "    arduino.timeout = 2\n",
    "\n",
    "    # Read and discard everything that may be in the input buffer\n",
    "    _ = arduino.read_all()\n",
    "\n",
    "    # Send request to Arduino\n",
    "    arduino.write(bytes([handshake_code]))\n",
    "\n",
    "    # Read in what Arduino sent\n",
    "    handshake_message = arduino.read_until()\n",
    "\n",
    "    # Send and receive request again\n",
    "    arduino.write(bytes([handshake_code]))\n",
    "    handshake_message = arduino.read_until()\n",
    "\n",
    "    # Print the handshake message, if desired\n",
    "    if print_handshake_message:\n",
    "        print(\"Handshake message: \" + handshake_message.decode())\n",
    "\n",
    "    # Reset the timeout\n",
    "    arduino.timeout = timeout\n"
   ]
  },
  {
   "cell_type": "code",
   "execution_count": 65,
   "id": "5d07025b",
   "metadata": {},
   "outputs": [
    {
     "name": "stdout",
     "output_type": "stream",
     "text": [
      "Handshake message: \n"
     ]
    }
   ],
   "source": [
    "# Call the handshake function\n",
    "handshake_arduino(arduino, print_handshake_message=True)"
   ]
  },
  {
   "cell_type": "code",
   "execution_count": 66,
   "id": "63c5dae5",
   "metadata": {},
   "outputs": [],
   "source": [
    "def parse_raw(raw):\n",
    "    \"\"\"Parse bytes output from Arduino.\"\"\"\n",
    "    raw = raw.decode()\n",
    "    if raw[-1] != \"\\n\":\n",
    "        raise ValueError(\n",
    "            \"Input must end with newline, otherwise message is incomplete.\"\n",
    "        )\n",
    "\n",
    "    line = raw.rstrip()\n",
    "\n",
    "    return line"
   ]
  },
  {
   "attachments": {},
   "cell_type": "markdown",
   "id": "a5eec078",
   "metadata": {},
   "source": [
    "It is important to always close the ports when they are not used!"
   ]
  },
  {
   "cell_type": "code",
   "execution_count": 67,
   "id": "838ec548",
   "metadata": {},
   "outputs": [],
   "source": [
    "def get_arduino_lines(n_data = 1000, port=\"COM3\"):\n",
    "    arduino = serial.Serial(port, baudrate=115200, timeout=1)\n",
    "\n",
    "    handshake_arduino(arduino, print_handshake_message=True)\n",
    "    \n",
    "    # arduino.close()\n",
    "    # arduino.open()\n",
    "\n",
    "    lines =[]\n",
    "    i = 0\n",
    "\n",
    "    while i < n_data:\n",
    "        try:\n",
    "            raw = arduino.read_until()\n",
    "            raw = parse_raw(raw)\n",
    "            print(raw)\n",
    "            lines.append(raw)\n",
    "            i +=1\n",
    "        except:\n",
    "            \"Print\"\n",
    "    arduino.close()\n",
    "\n",
    "    return lines"
   ]
  },
  {
   "cell_type": "code",
   "execution_count": 68,
   "id": "0403a618",
   "metadata": {},
   "outputs": [],
   "source": [
    "arduino.close()"
   ]
  },
  {
   "cell_type": "code",
   "execution_count": 69,
   "id": "47932f55",
   "metadata": {},
   "outputs": [
    {
     "name": "stdout",
     "output_type": "stream",
     "text": [
      "Handshake message: \n"
     ]
    }
   ],
   "source": [
    "scan_lines = get_arduino_lines(port=port)"
   ]
  },
  {
   "attachments": {},
   "cell_type": "markdown",
   "id": "c05bbdb4",
   "metadata": {},
   "source": [
    "# Cleanup the received data"
   ]
  },
  {
   "cell_type": "code",
   "execution_count": null,
   "id": "c137c659",
   "metadata": {},
   "outputs": [],
   "source": [
    "def create_MCU_inference_df(lines):\n",
    "    clean_lines = []\n",
    "    for line in lines:\n",
    "        clean_lines.append(str(line).replace(\"lu\", \"\"))#.replace(\").\", \"\"))\n",
    "\n",
    "    #clean_lines\n",
    "    lines_df = pd.DataFrame(clean_lines)\n",
    "\n",
    "    split_df = lines_df[0].str.split(\",\",expand=True)\n",
    "    split_df.dropna(inplace=True)\n",
    "    # setting first row as headers\n",
    "    split_df.columns = split_df.iloc[0]\n",
    "    split_df = split_df[1:]\n",
    "    split_df.columns = [c.strip('\"') for c in split_df.columns.values.tolist()]\n",
    "\n",
    "    # data cleaning\n",
    "    split_df = split_df[split_df['Ticks'] != '\"Ticks\"']\n",
    "    split_df = split_df.fillna(0)\n",
    "    split_df[\"Ticks\"] = split_df[\"Ticks\"].astype(int)\n",
    "    split_df[\"ms\"] = split_df[\"Ticks\"]/ 1000.0\n",
    "\n",
    "    # finding start and end of each inference\n",
    "    # each inference starts and ends with quantization of the input or output tensor\n",
    "    split_df[\"next_Tag\"] = split_df[\"Tag\"].shift()\n",
    "    split_df[\"prev_Tag\"] = split_df[\"Tag\"].shift(-1)\n",
    "    split_df[\"start\"] = (split_df[\"next_Tag\"] == split_df[\"Tag\"])\n",
    "    split_df[\"end\"] = (split_df[\"prev_Tag\"] == split_df[\"Tag\"])\n",
    "\n",
    "    # create markers for the different inference cycles\n",
    "    inference = []\n",
    "    i =1 \n",
    "    for row in split_df['start']:\n",
    "        if row == True:\n",
    "            inference.append(f\"inference_{i}\")\n",
    "            i = i+1\n",
    "        else:\n",
    "            inference.append(None)\n",
    "\n",
    "    split_df['inference'] = inference\n",
    "    split_df['inference'].fillna(method=\"ffill\", inplace=True)\n",
    "    \n",
    "    split_df.drop([\"start\", \"end\",\"next_Tag\", \"prev_Tag\"], axis=1, inplace=True)\n",
    "\n",
    "    return split_df\n",
    "\n",
    "    \n"
   ]
  },
  {
   "cell_type": "code",
   "execution_count": null,
   "id": "0540b606",
   "metadata": {},
   "outputs": [
    {
     "data": {
      "text/html": [
       "<div>\n",
       "<style scoped>\n",
       "    .dataframe tbody tr th:only-of-type {\n",
       "        vertical-align: middle;\n",
       "    }\n",
       "\n",
       "    .dataframe tbody tr th {\n",
       "        vertical-align: top;\n",
       "    }\n",
       "\n",
       "    .dataframe thead th {\n",
       "        text-align: right;\n",
       "    }\n",
       "</style>\n",
       "<table border=\"1\" class=\"dataframe\">\n",
       "  <thead>\n",
       "    <tr style=\"text-align: right;\">\n",
       "      <th></th>\n",
       "      <th>Event</th>\n",
       "      <th>Tag</th>\n",
       "      <th>Ticks</th>\n",
       "      <th>ms</th>\n",
       "      <th>inference</th>\n",
       "    </tr>\n",
       "  </thead>\n",
       "  <tbody>\n",
       "    <tr>\n",
       "      <th>2</th>\n",
       "      <td>0</td>\n",
       "      <td>RESHAPE</td>\n",
       "      <td>23</td>\n",
       "      <td>0.023</td>\n",
       "      <td>None</td>\n",
       "    </tr>\n",
       "    <tr>\n",
       "      <th>3</th>\n",
       "      <td>1</td>\n",
       "      <td>TRANSPOSE</td>\n",
       "      <td>719</td>\n",
       "      <td>0.719</td>\n",
       "      <td>None</td>\n",
       "    </tr>\n",
       "    <tr>\n",
       "      <th>4</th>\n",
       "      <td>2</td>\n",
       "      <td>RESHAPE</td>\n",
       "      <td>23</td>\n",
       "      <td>0.023</td>\n",
       "      <td>None</td>\n",
       "    </tr>\n",
       "    <tr>\n",
       "      <th>5</th>\n",
       "      <td>3</td>\n",
       "      <td>SPLIT</td>\n",
       "      <td>155</td>\n",
       "      <td>0.155</td>\n",
       "      <td>None</td>\n",
       "    </tr>\n",
       "    <tr>\n",
       "      <th>6</th>\n",
       "      <td>4</td>\n",
       "      <td>CONV_2D</td>\n",
       "      <td>1686</td>\n",
       "      <td>1.686</td>\n",
       "      <td>None</td>\n",
       "    </tr>\n",
       "    <tr>\n",
       "      <th>...</th>\n",
       "      <td>...</td>\n",
       "      <td>...</td>\n",
       "      <td>...</td>\n",
       "      <td>...</td>\n",
       "      <td>...</td>\n",
       "    </tr>\n",
       "    <tr>\n",
       "      <th>995</th>\n",
       "      <td>19</td>\n",
       "      <td>SPLIT</td>\n",
       "      <td>166</td>\n",
       "      <td>0.166</td>\n",
       "      <td>inference_6</td>\n",
       "    </tr>\n",
       "    <tr>\n",
       "      <th>996</th>\n",
       "      <td>20</td>\n",
       "      <td>CONV_2D</td>\n",
       "      <td>1674</td>\n",
       "      <td>1.674</td>\n",
       "      <td>inference_6</td>\n",
       "    </tr>\n",
       "    <tr>\n",
       "      <th>997</th>\n",
       "      <td>21</td>\n",
       "      <td>DEPTHWISE_CONV_2D</td>\n",
       "      <td>821</td>\n",
       "      <td>0.821</td>\n",
       "      <td>inference_6</td>\n",
       "    </tr>\n",
       "    <tr>\n",
       "      <th>998</th>\n",
       "      <td>22</td>\n",
       "      <td>CONV_2D</td>\n",
       "      <td>1685</td>\n",
       "      <td>1.685</td>\n",
       "      <td>inference_6</td>\n",
       "    </tr>\n",
       "    <tr>\n",
       "      <th>999</th>\n",
       "      <td>23</td>\n",
       "      <td>CONCATENATION</td>\n",
       "      <td>52</td>\n",
       "      <td>0.052</td>\n",
       "      <td>inference_6</td>\n",
       "    </tr>\n",
       "  </tbody>\n",
       "</table>\n",
       "<p>986 rows × 5 columns</p>\n",
       "</div>"
      ],
      "text/plain": [
       "    Event                Tag  Ticks     ms    inference\n",
       "2       0            RESHAPE     23  0.023         None\n",
       "3       1          TRANSPOSE    719  0.719         None\n",
       "4       2            RESHAPE     23  0.023         None\n",
       "5       3              SPLIT    155  0.155         None\n",
       "6       4            CONV_2D   1686  1.686         None\n",
       "..    ...                ...    ...    ...          ...\n",
       "995    19              SPLIT    166  0.166  inference_6\n",
       "996    20            CONV_2D   1674  1.674  inference_6\n",
       "997    21  DEPTHWISE_CONV_2D    821  0.821  inference_6\n",
       "998    22            CONV_2D   1685  1.685  inference_6\n",
       "999    23      CONCATENATION     52  0.052  inference_6\n",
       "\n",
       "[986 rows x 5 columns]"
      ]
     },
     "execution_count": 41,
     "metadata": {},
     "output_type": "execute_result"
    }
   ],
   "source": [
    "inference_df = create_MCU_inference_df(scan_lines)\n",
    "inference_df"
   ]
  },
  {
   "cell_type": "code",
   "execution_count": null,
   "id": "af3be453",
   "metadata": {},
   "outputs": [
    {
     "data": {
      "text/html": [
       "<div>\n",
       "<style scoped>\n",
       "    .dataframe tbody tr th:only-of-type {\n",
       "        vertical-align: middle;\n",
       "    }\n",
       "\n",
       "    .dataframe tbody tr th {\n",
       "        vertical-align: top;\n",
       "    }\n",
       "\n",
       "    .dataframe thead th {\n",
       "        text-align: right;\n",
       "    }\n",
       "</style>\n",
       "<table border=\"1\" class=\"dataframe\">\n",
       "  <thead>\n",
       "    <tr style=\"text-align: right;\">\n",
       "      <th></th>\n",
       "      <th>index</th>\n",
       "      <th>Event</th>\n",
       "      <th>Tag</th>\n",
       "      <th>Ticks</th>\n",
       "      <th>ms</th>\n",
       "      <th>inference</th>\n",
       "    </tr>\n",
       "  </thead>\n",
       "  <tbody>\n",
       "    <tr>\n",
       "      <th>0</th>\n",
       "      <td>0</td>\n",
       "      <td>32</td>\n",
       "      <td>QUANTIZE</td>\n",
       "      <td>5750</td>\n",
       "      <td>5.750</td>\n",
       "      <td>inference_1</td>\n",
       "    </tr>\n",
       "    <tr>\n",
       "      <th>1</th>\n",
       "      <td>1</td>\n",
       "      <td>33</td>\n",
       "      <td>CONV_2D</td>\n",
       "      <td>70147</td>\n",
       "      <td>70.147</td>\n",
       "      <td>inference_1</td>\n",
       "    </tr>\n",
       "    <tr>\n",
       "      <th>2</th>\n",
       "      <td>2</td>\n",
       "      <td>34</td>\n",
       "      <td>MAX_POOL_2D</td>\n",
       "      <td>6495</td>\n",
       "      <td>6.495</td>\n",
       "      <td>inference_1</td>\n",
       "    </tr>\n",
       "    <tr>\n",
       "      <th>3</th>\n",
       "      <td>3</td>\n",
       "      <td>35</td>\n",
       "      <td>CONV_2D</td>\n",
       "      <td>8309</td>\n",
       "      <td>8.309</td>\n",
       "      <td>inference_1</td>\n",
       "    </tr>\n",
       "    <tr>\n",
       "      <th>4</th>\n",
       "      <td>4</td>\n",
       "      <td>36</td>\n",
       "      <td>DEPTHWISE_CONV_2D</td>\n",
       "      <td>1399</td>\n",
       "      <td>1.399</td>\n",
       "      <td>inference_1</td>\n",
       "    </tr>\n",
       "    <tr>\n",
       "      <th>...</th>\n",
       "      <td>...</td>\n",
       "      <td>...</td>\n",
       "      <td>...</td>\n",
       "      <td>...</td>\n",
       "      <td>...</td>\n",
       "      <td>...</td>\n",
       "    </tr>\n",
       "    <tr>\n",
       "      <th>166</th>\n",
       "      <td>166</td>\n",
       "      <td>27</td>\n",
       "      <td>CONV_2D</td>\n",
       "      <td>61690</td>\n",
       "      <td>61.690</td>\n",
       "      <td>inference_1</td>\n",
       "    </tr>\n",
       "    <tr>\n",
       "      <th>167</th>\n",
       "      <td>167</td>\n",
       "      <td>28</td>\n",
       "      <td>MEAN</td>\n",
       "      <td>48517</td>\n",
       "      <td>48.517</td>\n",
       "      <td>inference_1</td>\n",
       "    </tr>\n",
       "    <tr>\n",
       "      <th>168</th>\n",
       "      <td>168</td>\n",
       "      <td>29</td>\n",
       "      <td>FULLY_CONNECTED</td>\n",
       "      <td>277</td>\n",
       "      <td>0.277</td>\n",
       "      <td>inference_1</td>\n",
       "    </tr>\n",
       "    <tr>\n",
       "      <th>169</th>\n",
       "      <td>169</td>\n",
       "      <td>30</td>\n",
       "      <td>SOFTMAX</td>\n",
       "      <td>55</td>\n",
       "      <td>0.055</td>\n",
       "      <td>inference_1</td>\n",
       "    </tr>\n",
       "    <tr>\n",
       "      <th>170</th>\n",
       "      <td>170</td>\n",
       "      <td>31</td>\n",
       "      <td>QUANTIZE</td>\n",
       "      <td>16</td>\n",
       "      <td>0.016</td>\n",
       "      <td>inference_1</td>\n",
       "    </tr>\n",
       "  </tbody>\n",
       "</table>\n",
       "<p>171 rows × 6 columns</p>\n",
       "</div>"
      ],
      "text/plain": [
       "     index Event                Tag  Ticks      ms    inference\n",
       "0        0    32           QUANTIZE   5750   5.750  inference_1\n",
       "1        1    33            CONV_2D  70147  70.147  inference_1\n",
       "2        2    34        MAX_POOL_2D   6495   6.495  inference_1\n",
       "3        3    35            CONV_2D   8309   8.309  inference_1\n",
       "4        4    36  DEPTHWISE_CONV_2D   1399   1.399  inference_1\n",
       "..     ...   ...                ...    ...     ...          ...\n",
       "166    166    27            CONV_2D  61690  61.690  inference_1\n",
       "167    167    28               MEAN  48517  48.517  inference_1\n",
       "168    168    29    FULLY_CONNECTED    277   0.277  inference_1\n",
       "169    169    30            SOFTMAX     55   0.055  inference_1\n",
       "170    170    31           QUANTIZE     16   0.016  inference_1\n",
       "\n",
       "[171 rows x 6 columns]"
      ]
     },
     "execution_count": 48,
     "metadata": {},
     "output_type": "execute_result"
    }
   ],
   "source": [
    "inference_1_df = inference_df[inference_df[\"inference\"]== \"inference_1\"]\n",
    "inference_1_df.reset_index(inplace=True,drop=True)\n",
    "inference_1_df.reset_index(inplace=True)\n",
    "inference_1_df"
   ]
  },
  {
   "cell_type": "code",
   "execution_count": null,
   "id": "feec1f56",
   "metadata": {},
   "outputs": [
    {
     "data": {
      "text/plain": [
       "489.67500000000007"
      ]
     },
     "execution_count": 43,
     "metadata": {},
     "output_type": "execute_result"
    }
   ],
   "source": [
    "inference_1_time = inference_1_df[\"ms\"].sum()\n",
    "inference_1_time"
   ]
  },
  {
   "cell_type": "code",
   "execution_count": null,
   "id": "fa447b29",
   "metadata": {},
   "outputs": [
    {
     "data": {
      "text/html": [
       "<div>\n",
       "<style scoped>\n",
       "    .dataframe tbody tr th:only-of-type {\n",
       "        vertical-align: middle;\n",
       "    }\n",
       "\n",
       "    .dataframe tbody tr th {\n",
       "        vertical-align: top;\n",
       "    }\n",
       "\n",
       "    .dataframe thead th {\n",
       "        text-align: right;\n",
       "    }\n",
       "</style>\n",
       "<table border=\"1\" class=\"dataframe\">\n",
       "  <thead>\n",
       "    <tr style=\"text-align: right;\">\n",
       "      <th></th>\n",
       "      <th>Event</th>\n",
       "      <th>Tag</th>\n",
       "      <th>Ticks</th>\n",
       "      <th>ms</th>\n",
       "      <th>inference</th>\n",
       "    </tr>\n",
       "  </thead>\n",
       "  <tbody>\n",
       "    <tr>\n",
       "      <th>243</th>\n",
       "      <td>32</td>\n",
       "      <td>QUANTIZE</td>\n",
       "      <td>5750</td>\n",
       "      <td>5.750</td>\n",
       "      <td>inference_2</td>\n",
       "    </tr>\n",
       "    <tr>\n",
       "      <th>244</th>\n",
       "      <td>33</td>\n",
       "      <td>CONV_2D</td>\n",
       "      <td>70147</td>\n",
       "      <td>70.147</td>\n",
       "      <td>inference_2</td>\n",
       "    </tr>\n",
       "    <tr>\n",
       "      <th>245</th>\n",
       "      <td>34</td>\n",
       "      <td>MAX_POOL_2D</td>\n",
       "      <td>6495</td>\n",
       "      <td>6.495</td>\n",
       "      <td>inference_2</td>\n",
       "    </tr>\n",
       "    <tr>\n",
       "      <th>246</th>\n",
       "      <td>35</td>\n",
       "      <td>CONV_2D</td>\n",
       "      <td>8309</td>\n",
       "      <td>8.309</td>\n",
       "      <td>inference_2</td>\n",
       "    </tr>\n",
       "    <tr>\n",
       "      <th>247</th>\n",
       "      <td>36</td>\n",
       "      <td>DEPTHWISE_CONV_2D</td>\n",
       "      <td>1399</td>\n",
       "      <td>1.399</td>\n",
       "      <td>inference_2</td>\n",
       "    </tr>\n",
       "    <tr>\n",
       "      <th>...</th>\n",
       "      <td>...</td>\n",
       "      <td>...</td>\n",
       "      <td>...</td>\n",
       "      <td>...</td>\n",
       "      <td>...</td>\n",
       "    </tr>\n",
       "    <tr>\n",
       "      <th>377</th>\n",
       "      <td>166</td>\n",
       "      <td>CONV_2D</td>\n",
       "      <td>61697</td>\n",
       "      <td>61.697</td>\n",
       "      <td>inference_2</td>\n",
       "    </tr>\n",
       "    <tr>\n",
       "      <th>378</th>\n",
       "      <td>167</td>\n",
       "      <td>MEAN</td>\n",
       "      <td>48500</td>\n",
       "      <td>48.500</td>\n",
       "      <td>inference_2</td>\n",
       "    </tr>\n",
       "    <tr>\n",
       "      <th>379</th>\n",
       "      <td>168</td>\n",
       "      <td>FULLY_CONNECTED</td>\n",
       "      <td>287</td>\n",
       "      <td>0.287</td>\n",
       "      <td>inference_2</td>\n",
       "    </tr>\n",
       "    <tr>\n",
       "      <th>380</th>\n",
       "      <td>169</td>\n",
       "      <td>SOFTMAX</td>\n",
       "      <td>55</td>\n",
       "      <td>0.055</td>\n",
       "      <td>inference_2</td>\n",
       "    </tr>\n",
       "    <tr>\n",
       "      <th>381</th>\n",
       "      <td>170</td>\n",
       "      <td>QUANTIZE</td>\n",
       "      <td>16</td>\n",
       "      <td>0.016</td>\n",
       "      <td>inference_2</td>\n",
       "    </tr>\n",
       "  </tbody>\n",
       "</table>\n",
       "<p>139 rows × 5 columns</p>\n",
       "</div>"
      ],
      "text/plain": [
       "    Event                Tag  Ticks      ms    inference\n",
       "243    32           QUANTIZE   5750   5.750  inference_2\n",
       "244    33            CONV_2D  70147  70.147  inference_2\n",
       "245    34        MAX_POOL_2D   6495   6.495  inference_2\n",
       "246    35            CONV_2D   8309   8.309  inference_2\n",
       "247    36  DEPTHWISE_CONV_2D   1399   1.399  inference_2\n",
       "..    ...                ...    ...     ...          ...\n",
       "377   166            CONV_2D  61697  61.697  inference_2\n",
       "378   167               MEAN  48500  48.500  inference_2\n",
       "379   168    FULLY_CONNECTED    287   0.287  inference_2\n",
       "380   169            SOFTMAX     55   0.055  inference_2\n",
       "381   170           QUANTIZE     16   0.016  inference_2\n",
       "\n",
       "[139 rows x 5 columns]"
      ]
     },
     "execution_count": 44,
     "metadata": {},
     "output_type": "execute_result"
    }
   ],
   "source": [
    "inference_2_df = inference_df[inference_df[\"inference\"]== \"inference_2\"]\n",
    "inference_2_df"
   ]
  },
  {
   "cell_type": "code",
   "execution_count": null,
   "id": "d3eb7989",
   "metadata": {},
   "outputs": [
    {
     "data": {
      "text/plain": [
       "362.855"
      ]
     },
     "execution_count": 45,
     "metadata": {},
     "output_type": "execute_result"
    }
   ],
   "source": [
    "inference_2_time = inference_2_df[\"ms\"].sum()\n",
    "inference_2_time"
   ]
  },
  {
   "cell_type": "code",
   "execution_count": null,
   "id": "4667323d",
   "metadata": {},
   "outputs": [],
   "source": []
  }
 ],
 "metadata": {
  "kernelspec": {
   "display_name": "tiny_cnn_6",
   "language": "python",
   "name": "python3"
  },
  "language_info": {
   "codemirror_mode": {
    "name": "ipython",
    "version": 3
   },
   "file_extension": ".py",
   "mimetype": "text/x-python",
   "name": "python",
   "nbconvert_exporter": "python",
   "pygments_lexer": "ipython3",
   "version": "3.10.6"
  },
  "vscode": {
   "interpreter": {
    "hash": "0faa6c31b20b8f809b81d6d7d22a84ccd9f354666f54133d1793fa4c65539801"
   }
  }
 },
 "nbformat": 4,
 "nbformat_minor": 5
}
