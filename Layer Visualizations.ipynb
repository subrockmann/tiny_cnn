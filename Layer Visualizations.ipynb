{
 "cells": [
  {
   "attachments": {},
   "cell_type": "markdown",
   "metadata": {},
   "source": [
    "# Layer Visualizations\n",
    "This notebook contains code to parse a saved TensorFlow model file and generate a pandas dataframe that contains information about all the layers."
   ]
  },
  {
   "cell_type": "code",
   "execution_count": 1,
   "metadata": {},
   "outputs": [],
   "source": [
    "import pandas as pd\n",
    "import numpy as np\n",
    "import re\n",
    "from matplotlib import pyplot as plt\n",
    "import plotly.express as px\n",
    "from pathlib import Path\n",
    "\n",
    "# enable plotly in VS Studio Code\n",
    "import plotly.io as pio\n",
    "#pio.renderers.default = \"notebook_connected\"\n",
    "pio.renderers.default = \"plotly_mimetype+notebook\"\n",
    "\n",
    "import wandb\n",
    "from wandb.keras import WandbMetricsLogger, WandbModelCheckpoint\n",
    "\n",
    "from workbench.utils.utils import create_filepaths, parse_model_name, append_dict_to_csv\n",
    "from workbench.config.config import initialize\n"
   ]
  },
  {
   "cell_type": "code",
   "execution_count": 2,
   "metadata": {},
   "outputs": [],
   "source": [
    "# Configure pandas to show all columns & rows\n",
    "pd.set_option('display.max_columns', None)\n",
    "#pd.set_option('display.max_rows', None)"
   ]
  },
  {
   "cell_type": "code",
   "execution_count": 3,
   "metadata": {
    "tags": [
     "parameters"
    ]
   },
   "outputs": [],
   "source": [
    "model_name = \"shufflenetv1_1_96_c3_o3_000\"\n",
    "#model_name = \"mobilenetv2_0.1_96_c3_o3_keras\"\n",
    "#model_name = \"efficientNetB0_0.1_96_c3_o3_keras\""
   ]
  },
  {
   "cell_type": "code",
   "execution_count": 4,
   "metadata": {},
   "outputs": [],
   "source": [
    "model_dict = {}"
   ]
  },
  {
   "cell_type": "code",
   "execution_count": 5,
   "metadata": {},
   "outputs": [
    {
     "data": {
      "text/plain": [
       "('shufflenetv1', '1', '96', 'c3', 'o3', '000')"
      ]
     },
     "execution_count": 5,
     "metadata": {},
     "output_type": "execute_result"
    }
   ],
   "source": [
    "parse_model_name(model_name)"
   ]
  },
  {
   "cell_type": "code",
   "execution_count": 6,
   "metadata": {},
   "outputs": [],
   "source": [
    "models_dir = initialize()"
   ]
  },
  {
   "cell_type": "code",
   "execution_count": 7,
   "metadata": {},
   "outputs": [
    {
     "name": "stdout",
     "output_type": "stream",
     "text": [
      "i:\\tinyml\\tiny_cnn\\models\n"
     ]
    }
   ],
   "source": [
    "models_path, models_summary_path, models_image_path, models_layer_df_path, models_tf_path, models_tflite_path, models_tflite_opt_path = create_filepaths(model_name)"
   ]
  },
  {
   "cell_type": "code",
   "execution_count": 8,
   "metadata": {},
   "outputs": [],
   "source": [
    "filepath = models_dir.joinpath(f\"{model_name}/{model_name}_layers.pkl\")\n",
    "\n",
    "#filepath = f\"i:/tinyml/tiny_cnn/models/{model_name}/{model_name}_layers.pkl\"\n",
    "df = pd.read_pickle(filepath)"
   ]
  },
  {
   "cell_type": "code",
   "execution_count": 9,
   "metadata": {},
   "outputs": [],
   "source": [
    "df_filepath = models_dir.joinpath(f\"{model_name}/{model_name}.pkl\")"
   ]
  },
  {
   "cell_type": "code",
   "execution_count": 10,
   "metadata": {},
   "outputs": [
    {
     "data": {
      "text/plain": [
       "Index(['index', 'name', 'layer_type', 'input_shape', 'input', 'input_node_1',\n",
       "       'output_shape', 'dtype', 'params', 'variables', 'weights_shape',\n",
       "       'weights_name', 'weights_dtype', '#_activations', 'OPS', 'MACS',\n",
       "       'filters', 'trainable', 'kernel_size', 'strides', 'padding',\n",
       "       'dilation_rate', 'groups', 'activation', 'use_bias', 'data_format',\n",
       "       'input_node_type_1', 'input_node_2', 'input_node_type_2'],\n",
       "      dtype='object')"
      ]
     },
     "execution_count": 10,
     "metadata": {},
     "output_type": "execute_result"
    }
   ],
   "source": [
    "df.columns"
   ]
  },
  {
   "cell_type": "code",
   "execution_count": 11,
   "metadata": {},
   "outputs": [
    {
     "data": {
      "text/html": [
       "<div>\n",
       "<style scoped>\n",
       "    .dataframe tbody tr th:only-of-type {\n",
       "        vertical-align: middle;\n",
       "    }\n",
       "\n",
       "    .dataframe tbody tr th {\n",
       "        vertical-align: top;\n",
       "    }\n",
       "\n",
       "    .dataframe thead th {\n",
       "        text-align: right;\n",
       "    }\n",
       "</style>\n",
       "<table border=\"1\" class=\"dataframe\">\n",
       "  <thead>\n",
       "    <tr style=\"text-align: right;\">\n",
       "      <th></th>\n",
       "      <th>index</th>\n",
       "      <th>name</th>\n",
       "      <th>layer_type</th>\n",
       "      <th>input_shape</th>\n",
       "      <th>input</th>\n",
       "      <th>input_node_1</th>\n",
       "      <th>output_shape</th>\n",
       "      <th>dtype</th>\n",
       "      <th>params</th>\n",
       "      <th>variables</th>\n",
       "      <th>weights_shape</th>\n",
       "      <th>weights_name</th>\n",
       "      <th>weights_dtype</th>\n",
       "      <th>#_activations</th>\n",
       "      <th>OPS</th>\n",
       "      <th>MACS</th>\n",
       "      <th>filters</th>\n",
       "      <th>trainable</th>\n",
       "      <th>kernel_size</th>\n",
       "      <th>strides</th>\n",
       "      <th>padding</th>\n",
       "      <th>dilation_rate</th>\n",
       "      <th>groups</th>\n",
       "      <th>activation</th>\n",
       "      <th>use_bias</th>\n",
       "      <th>data_format</th>\n",
       "      <th>input_node_type_1</th>\n",
       "      <th>input_node_2</th>\n",
       "      <th>input_node_type_2</th>\n",
       "    </tr>\n",
       "  </thead>\n",
       "  <tbody>\n",
       "    <tr>\n",
       "      <th>0</th>\n",
       "      <td>0</td>\n",
       "      <td>input_2</td>\n",
       "      <td>&lt;class 'keras.engine.input_layer.InputLayer'&gt;</td>\n",
       "      <td>[(None, 96, 96, 3)]</td>\n",
       "      <td>KerasTensor(type_spec=TensorSpec(shape=(None, ...</td>\n",
       "      <td>input_2</td>\n",
       "      <td>[(None, 96, 96, 3)]</td>\n",
       "      <td>float32</td>\n",
       "      <td>0</td>\n",
       "      <td>0</td>\n",
       "      <td>0</td>\n",
       "      <td>0</td>\n",
       "      <td>0</td>\n",
       "      <td>0.0</td>\n",
       "      <td>0</td>\n",
       "      <td>0</td>\n",
       "      <td>0</td>\n",
       "      <td>0</td>\n",
       "      <td>0</td>\n",
       "      <td>0</td>\n",
       "      <td>0</td>\n",
       "      <td>0</td>\n",
       "      <td>0</td>\n",
       "      <td>0</td>\n",
       "      <td>0</td>\n",
       "      <td>0</td>\n",
       "      <td>NaN</td>\n",
       "      <td>NaN</td>\n",
       "      <td>NaN</td>\n",
       "    </tr>\n",
       "    <tr>\n",
       "      <th>1</th>\n",
       "      <td>1</td>\n",
       "      <td>conv2d_33</td>\n",
       "      <td>&lt;class 'keras.layers.convolutional.conv2d.Conv...</td>\n",
       "      <td>(None, 96, 96, 3)</td>\n",
       "      <td>KerasTensor(type_spec=TensorSpec(shape=(None, ...</td>\n",
       "      <td>input_2</td>\n",
       "      <td>(None, 48, 48, 24)</td>\n",
       "      <td>float32</td>\n",
       "      <td>672</td>\n",
       "      <td>2</td>\n",
       "      <td>(3, 3, 3, 24)</td>\n",
       "      <td>conv2d_33/kernel:0</td>\n",
       "      <td>&lt;dtype: 'float32'&gt;</td>\n",
       "      <td>NaN</td>\n",
       "      <td>3041280</td>\n",
       "      <td>1492992</td>\n",
       "      <td>24</td>\n",
       "      <td>True</td>\n",
       "      <td>(3, 3)</td>\n",
       "      <td>(2, 2)</td>\n",
       "      <td>same</td>\n",
       "      <td>(1, 1)</td>\n",
       "      <td>1</td>\n",
       "      <td>linear</td>\n",
       "      <td>True</td>\n",
       "      <td>channels_last</td>\n",
       "      <td>NaN</td>\n",
       "      <td>NaN</td>\n",
       "      <td>NaN</td>\n",
       "    </tr>\n",
       "    <tr>\n",
       "      <th>2</th>\n",
       "      <td>2</td>\n",
       "      <td>batch_normalization_49</td>\n",
       "      <td>&lt;class 'keras.layers.normalization.batch_norma...</td>\n",
       "      <td>(None, 48, 48, 24)</td>\n",
       "      <td>KerasTensor(type_spec=TensorSpec(shape=(None, ...</td>\n",
       "      <td>conv2d_33/BiasAdd:0</td>\n",
       "      <td>(None, 48, 48, 24)</td>\n",
       "      <td>float32</td>\n",
       "      <td>96</td>\n",
       "      <td>4</td>\n",
       "      <td>(24)</td>\n",
       "      <td>batch_normalization_49/gamma:0</td>\n",
       "      <td>&lt;dtype: 'float32'&gt;</td>\n",
       "      <td>NaN</td>\n",
       "      <td>0</td>\n",
       "      <td>0</td>\n",
       "      <td>0</td>\n",
       "      <td>0</td>\n",
       "      <td>0</td>\n",
       "      <td>0</td>\n",
       "      <td>0</td>\n",
       "      <td>0</td>\n",
       "      <td>0</td>\n",
       "      <td>0</td>\n",
       "      <td>0</td>\n",
       "      <td>0</td>\n",
       "      <td>NaN</td>\n",
       "      <td>NaN</td>\n",
       "      <td>NaN</td>\n",
       "    </tr>\n",
       "    <tr>\n",
       "      <th>3</th>\n",
       "      <td>3</td>\n",
       "      <td>re_lu_33</td>\n",
       "      <td>&lt;class 'keras.layers.activation.relu.ReLU'&gt;</td>\n",
       "      <td>(None, 48, 48, 24)</td>\n",
       "      <td>KerasTensor(type_spec=TensorSpec(shape=(None, ...</td>\n",
       "      <td>batch_normalization_49/FusedBatchNormV3:0</td>\n",
       "      <td>(None, 48, 48, 24)</td>\n",
       "      <td>float32</td>\n",
       "      <td>0</td>\n",
       "      <td>0</td>\n",
       "      <td>0</td>\n",
       "      <td>0</td>\n",
       "      <td>0</td>\n",
       "      <td>0.0</td>\n",
       "      <td>0</td>\n",
       "      <td>0</td>\n",
       "      <td>0</td>\n",
       "      <td>0</td>\n",
       "      <td>0</td>\n",
       "      <td>0</td>\n",
       "      <td>0</td>\n",
       "      <td>0</td>\n",
       "      <td>0</td>\n",
       "      <td>0</td>\n",
       "      <td>0</td>\n",
       "      <td>0</td>\n",
       "      <td>NaN</td>\n",
       "      <td>NaN</td>\n",
       "      <td>NaN</td>\n",
       "    </tr>\n",
       "    <tr>\n",
       "      <th>4</th>\n",
       "      <td>4</td>\n",
       "      <td>max_pooling2d_1</td>\n",
       "      <td>&lt;class 'keras.layers.pooling.max_pooling2d.Max...</td>\n",
       "      <td>(None, 48, 48, 24)</td>\n",
       "      <td>KerasTensor(type_spec=TensorSpec(shape=(None, ...</td>\n",
       "      <td>re_lu_33/Relu:0</td>\n",
       "      <td>(None, 24, 24, 24)</td>\n",
       "      <td>float32</td>\n",
       "      <td>0</td>\n",
       "      <td>0</td>\n",
       "      <td>0</td>\n",
       "      <td>0</td>\n",
       "      <td>0</td>\n",
       "      <td>0.0</td>\n",
       "      <td>0</td>\n",
       "      <td>0</td>\n",
       "      <td>0</td>\n",
       "      <td>0</td>\n",
       "      <td>0</td>\n",
       "      <td>0</td>\n",
       "      <td>0</td>\n",
       "      <td>0</td>\n",
       "      <td>0</td>\n",
       "      <td>0</td>\n",
       "      <td>0</td>\n",
       "      <td>0</td>\n",
       "      <td>NaN</td>\n",
       "      <td>NaN</td>\n",
       "      <td>NaN</td>\n",
       "    </tr>\n",
       "    <tr>\n",
       "      <th>5</th>\n",
       "      <td>5</td>\n",
       "      <td>conv2d_34</td>\n",
       "      <td>&lt;class 'keras.layers.convolutional.conv2d.Conv...</td>\n",
       "      <td>(None, 24, 24, 24)</td>\n",
       "      <td>KerasTensor(type_spec=TensorSpec(shape=(None, ...</td>\n",
       "      <td>max_pooling2d_1/MaxPool:0</td>\n",
       "      <td>(None, 24, 24, 50)</td>\n",
       "      <td>float32</td>\n",
       "      <td>650</td>\n",
       "      <td>2</td>\n",
       "      <td>(1, 1, 12, 50)</td>\n",
       "      <td>conv2d_34/kernel:0</td>\n",
       "      <td>&lt;dtype: 'float32'&gt;</td>\n",
       "      <td>NaN</td>\n",
       "      <td>1411200</td>\n",
       "      <td>691200</td>\n",
       "      <td>50</td>\n",
       "      <td>True</td>\n",
       "      <td>(1, 1)</td>\n",
       "      <td>(1, 1)</td>\n",
       "      <td>same</td>\n",
       "      <td>(1, 1)</td>\n",
       "      <td>2</td>\n",
       "      <td>linear</td>\n",
       "      <td>True</td>\n",
       "      <td>channels_last</td>\n",
       "      <td>NaN</td>\n",
       "      <td>NaN</td>\n",
       "      <td>NaN</td>\n",
       "    </tr>\n",
       "    <tr>\n",
       "      <th>6</th>\n",
       "      <td>6</td>\n",
       "      <td>batch_normalization_50</td>\n",
       "      <td>&lt;class 'keras.layers.normalization.batch_norma...</td>\n",
       "      <td>(None, 24, 24, 50)</td>\n",
       "      <td>KerasTensor(type_spec=TensorSpec(shape=(None, ...</td>\n",
       "      <td>conv2d_34/BiasAdd:0</td>\n",
       "      <td>(None, 24, 24, 50)</td>\n",
       "      <td>float32</td>\n",
       "      <td>200</td>\n",
       "      <td>4</td>\n",
       "      <td>(50)</td>\n",
       "      <td>batch_normalization_50/gamma:0</td>\n",
       "      <td>&lt;dtype: 'float32'&gt;</td>\n",
       "      <td>NaN</td>\n",
       "      <td>0</td>\n",
       "      <td>0</td>\n",
       "      <td>0</td>\n",
       "      <td>0</td>\n",
       "      <td>0</td>\n",
       "      <td>0</td>\n",
       "      <td>0</td>\n",
       "      <td>0</td>\n",
       "      <td>0</td>\n",
       "      <td>0</td>\n",
       "      <td>0</td>\n",
       "      <td>0</td>\n",
       "      <td>NaN</td>\n",
       "      <td>NaN</td>\n",
       "      <td>NaN</td>\n",
       "    </tr>\n",
       "    <tr>\n",
       "      <th>7</th>\n",
       "      <td>7</td>\n",
       "      <td>re_lu_34</td>\n",
       "      <td>&lt;class 'keras.layers.activation.relu.ReLU'&gt;</td>\n",
       "      <td>(None, 24, 24, 50)</td>\n",
       "      <td>KerasTensor(type_spec=TensorSpec(shape=(None, ...</td>\n",
       "      <td>batch_normalization_50/FusedBatchNormV3:0</td>\n",
       "      <td>(None, 24, 24, 50)</td>\n",
       "      <td>float32</td>\n",
       "      <td>0</td>\n",
       "      <td>0</td>\n",
       "      <td>0</td>\n",
       "      <td>0</td>\n",
       "      <td>0</td>\n",
       "      <td>0.0</td>\n",
       "      <td>0</td>\n",
       "      <td>0</td>\n",
       "      <td>0</td>\n",
       "      <td>0</td>\n",
       "      <td>0</td>\n",
       "      <td>0</td>\n",
       "      <td>0</td>\n",
       "      <td>0</td>\n",
       "      <td>0</td>\n",
       "      <td>0</td>\n",
       "      <td>0</td>\n",
       "      <td>0</td>\n",
       "      <td>NaN</td>\n",
       "      <td>NaN</td>\n",
       "      <td>NaN</td>\n",
       "    </tr>\n",
       "    <tr>\n",
       "      <th>8</th>\n",
       "      <td>8</td>\n",
       "      <td>reshape_32</td>\n",
       "      <td>&lt;class 'keras.layers.reshaping.reshape.Reshape'&gt;</td>\n",
       "      <td>(None, 24, 24, 50)</td>\n",
       "      <td>KerasTensor(type_spec=TensorSpec(shape=(None, ...</td>\n",
       "      <td>re_lu_34/Relu:0</td>\n",
       "      <td>(None, 24, 24, 25, 2)</td>\n",
       "      <td>float32</td>\n",
       "      <td>0</td>\n",
       "      <td>0</td>\n",
       "      <td>0</td>\n",
       "      <td>0</td>\n",
       "      <td>0</td>\n",
       "      <td>0.0</td>\n",
       "      <td>0</td>\n",
       "      <td>0</td>\n",
       "      <td>0</td>\n",
       "      <td>0</td>\n",
       "      <td>0</td>\n",
       "      <td>0</td>\n",
       "      <td>0</td>\n",
       "      <td>0</td>\n",
       "      <td>0</td>\n",
       "      <td>0</td>\n",
       "      <td>0</td>\n",
       "      <td>0</td>\n",
       "      <td>NaN</td>\n",
       "      <td>NaN</td>\n",
       "      <td>NaN</td>\n",
       "    </tr>\n",
       "    <tr>\n",
       "      <th>9</th>\n",
       "      <td>9</td>\n",
       "      <td>permute_16</td>\n",
       "      <td>&lt;class 'keras.layers.reshaping.permute.Permute'&gt;</td>\n",
       "      <td>(None, 24, 24, 25, 2)</td>\n",
       "      <td>KerasTensor(type_spec=TensorSpec(shape=(None, ...</td>\n",
       "      <td>reshape_32/Reshape:0</td>\n",
       "      <td>(None, 24, 24, 2, 25)</td>\n",
       "      <td>float32</td>\n",
       "      <td>0</td>\n",
       "      <td>0</td>\n",
       "      <td>0</td>\n",
       "      <td>0</td>\n",
       "      <td>0</td>\n",
       "      <td>0.0</td>\n",
       "      <td>0</td>\n",
       "      <td>0</td>\n",
       "      <td>0</td>\n",
       "      <td>0</td>\n",
       "      <td>0</td>\n",
       "      <td>0</td>\n",
       "      <td>0</td>\n",
       "      <td>0</td>\n",
       "      <td>0</td>\n",
       "      <td>0</td>\n",
       "      <td>0</td>\n",
       "      <td>0</td>\n",
       "      <td>NaN</td>\n",
       "      <td>NaN</td>\n",
       "      <td>NaN</td>\n",
       "    </tr>\n",
       "  </tbody>\n",
       "</table>\n",
       "</div>"
      ],
      "text/plain": [
       "   index                    name  \\\n",
       "0      0                 input_2   \n",
       "1      1               conv2d_33   \n",
       "2      2  batch_normalization_49   \n",
       "3      3                re_lu_33   \n",
       "4      4         max_pooling2d_1   \n",
       "5      5               conv2d_34   \n",
       "6      6  batch_normalization_50   \n",
       "7      7                re_lu_34   \n",
       "8      8              reshape_32   \n",
       "9      9              permute_16   \n",
       "\n",
       "                                          layer_type            input_shape  \\\n",
       "0      <class 'keras.engine.input_layer.InputLayer'>    [(None, 96, 96, 3)]   \n",
       "1  <class 'keras.layers.convolutional.conv2d.Conv...      (None, 96, 96, 3)   \n",
       "2  <class 'keras.layers.normalization.batch_norma...     (None, 48, 48, 24)   \n",
       "3        <class 'keras.layers.activation.relu.ReLU'>     (None, 48, 48, 24)   \n",
       "4  <class 'keras.layers.pooling.max_pooling2d.Max...     (None, 48, 48, 24)   \n",
       "5  <class 'keras.layers.convolutional.conv2d.Conv...     (None, 24, 24, 24)   \n",
       "6  <class 'keras.layers.normalization.batch_norma...     (None, 24, 24, 50)   \n",
       "7        <class 'keras.layers.activation.relu.ReLU'>     (None, 24, 24, 50)   \n",
       "8   <class 'keras.layers.reshaping.reshape.Reshape'>     (None, 24, 24, 50)   \n",
       "9   <class 'keras.layers.reshaping.permute.Permute'>  (None, 24, 24, 25, 2)   \n",
       "\n",
       "                                               input  \\\n",
       "0  KerasTensor(type_spec=TensorSpec(shape=(None, ...   \n",
       "1  KerasTensor(type_spec=TensorSpec(shape=(None, ...   \n",
       "2  KerasTensor(type_spec=TensorSpec(shape=(None, ...   \n",
       "3  KerasTensor(type_spec=TensorSpec(shape=(None, ...   \n",
       "4  KerasTensor(type_spec=TensorSpec(shape=(None, ...   \n",
       "5  KerasTensor(type_spec=TensorSpec(shape=(None, ...   \n",
       "6  KerasTensor(type_spec=TensorSpec(shape=(None, ...   \n",
       "7  KerasTensor(type_spec=TensorSpec(shape=(None, ...   \n",
       "8  KerasTensor(type_spec=TensorSpec(shape=(None, ...   \n",
       "9  KerasTensor(type_spec=TensorSpec(shape=(None, ...   \n",
       "\n",
       "                                input_node_1           output_shape    dtype  \\\n",
       "0                                    input_2    [(None, 96, 96, 3)]  float32   \n",
       "1                                    input_2     (None, 48, 48, 24)  float32   \n",
       "2                        conv2d_33/BiasAdd:0     (None, 48, 48, 24)  float32   \n",
       "3  batch_normalization_49/FusedBatchNormV3:0     (None, 48, 48, 24)  float32   \n",
       "4                            re_lu_33/Relu:0     (None, 24, 24, 24)  float32   \n",
       "5                  max_pooling2d_1/MaxPool:0     (None, 24, 24, 50)  float32   \n",
       "6                        conv2d_34/BiasAdd:0     (None, 24, 24, 50)  float32   \n",
       "7  batch_normalization_50/FusedBatchNormV3:0     (None, 24, 24, 50)  float32   \n",
       "8                            re_lu_34/Relu:0  (None, 24, 24, 25, 2)  float32   \n",
       "9                       reshape_32/Reshape:0  (None, 24, 24, 2, 25)  float32   \n",
       "\n",
       "   params  variables   weights_shape                    weights_name  \\\n",
       "0       0          0               0                               0   \n",
       "1     672          2   (3, 3, 3, 24)              conv2d_33/kernel:0   \n",
       "2      96          4            (24)  batch_normalization_49/gamma:0   \n",
       "3       0          0               0                               0   \n",
       "4       0          0               0                               0   \n",
       "5     650          2  (1, 1, 12, 50)              conv2d_34/kernel:0   \n",
       "6     200          4            (50)  batch_normalization_50/gamma:0   \n",
       "7       0          0               0                               0   \n",
       "8       0          0               0                               0   \n",
       "9       0          0               0                               0   \n",
       "\n",
       "        weights_dtype  #_activations      OPS     MACS  filters trainable  \\\n",
       "0                   0            0.0        0        0        0         0   \n",
       "1  <dtype: 'float32'>            NaN  3041280  1492992       24      True   \n",
       "2  <dtype: 'float32'>            NaN        0        0        0         0   \n",
       "3                   0            0.0        0        0        0         0   \n",
       "4                   0            0.0        0        0        0         0   \n",
       "5  <dtype: 'float32'>            NaN  1411200   691200       50      True   \n",
       "6  <dtype: 'float32'>            NaN        0        0        0         0   \n",
       "7                   0            0.0        0        0        0         0   \n",
       "8                   0            0.0        0        0        0         0   \n",
       "9                   0            0.0        0        0        0         0   \n",
       "\n",
       "  kernel_size strides padding dilation_rate  groups activation use_bias  \\\n",
       "0           0       0       0             0       0          0        0   \n",
       "1      (3, 3)  (2, 2)    same        (1, 1)       1     linear     True   \n",
       "2           0       0       0             0       0          0        0   \n",
       "3           0       0       0             0       0          0        0   \n",
       "4           0       0       0             0       0          0        0   \n",
       "5      (1, 1)  (1, 1)    same        (1, 1)       2     linear     True   \n",
       "6           0       0       0             0       0          0        0   \n",
       "7           0       0       0             0       0          0        0   \n",
       "8           0       0       0             0       0          0        0   \n",
       "9           0       0       0             0       0          0        0   \n",
       "\n",
       "     data_format input_node_type_1 input_node_2 input_node_type_2  \n",
       "0              0               NaN          NaN               NaN  \n",
       "1  channels_last               NaN          NaN               NaN  \n",
       "2              0               NaN          NaN               NaN  \n",
       "3              0               NaN          NaN               NaN  \n",
       "4              0               NaN          NaN               NaN  \n",
       "5  channels_last               NaN          NaN               NaN  \n",
       "6              0               NaN          NaN               NaN  \n",
       "7              0               NaN          NaN               NaN  \n",
       "8              0               NaN          NaN               NaN  \n",
       "9              0               NaN          NaN               NaN  "
      ]
     },
     "execution_count": 11,
     "metadata": {},
     "output_type": "execute_result"
    }
   ],
   "source": [
    "df.head(10)"
   ]
  },
  {
   "cell_type": "markdown",
   "metadata": {},
   "source": [
    "## Helper functions"
   ]
  },
  {
   "cell_type": "code",
   "execution_count": 12,
   "metadata": {},
   "outputs": [],
   "source": [
    "def split_tuples(x):\n",
    "    x = str(x).strip(\"()\")\n",
    "    x = x.split(\",\")\n",
    "    return x"
   ]
  },
  {
   "cell_type": "code",
   "execution_count": 13,
   "metadata": {},
   "outputs": [],
   "source": [
    "def return_batch_size(x):\n",
    "    x = str(x).strip(\"()\")\n",
    "    split_strings = x.split(\",\")\n",
    "    #print(split_strings)\n",
    "    return split_strings[0].strip()"
   ]
  },
  {
   "cell_type": "code",
   "execution_count": 14,
   "metadata": {},
   "outputs": [],
   "source": [
    "def return_input_height(x):\n",
    "    #image_size=(img_height, img_width),\n",
    "\n",
    "    x = str(x).strip(\"()\")\n",
    "    split_strings = x.split(\",\")\n",
    "    if len(split_strings) in [3,4]:\n",
    "        return split_strings[1].strip()\n",
    "    else:\n",
    "        return \"None\"\n"
   ]
  },
  {
   "cell_type": "code",
   "execution_count": 15,
   "metadata": {},
   "outputs": [],
   "source": [
    "def return_input_width(x):\n",
    "    #image_size=(img_height, img_width),\n",
    "\n",
    "    x = str(x).strip(\"()\")\n",
    "    split_strings = x.split(\",\")\n",
    "    if len(split_strings) in [4]:\n",
    "        return split_strings[2].strip()\n",
    "    else:\n",
    "        return \"None\"\n"
   ]
  },
  {
   "cell_type": "code",
   "execution_count": 16,
   "metadata": {},
   "outputs": [],
   "source": [
    "def return_channels(x):\n",
    "    x = str(x).strip(\"()\")\n",
    "    split_strings = x.split(\",\")\n",
    "    #print(split_strings)\n",
    "\n",
    "    return split_strings[-1].strip()"
   ]
  },
  {
   "cell_type": "code",
   "execution_count": 17,
   "metadata": {},
   "outputs": [],
   "source": [
    "def split_shape_columns(df, colum_name):\n",
    "    df[colum_name] = df[colum_name].map(str)\n",
    "    df[colum_name] = df[colum_name].str.strip(\"[]\").replace('\\)\\,', ')*', regex=True)\n",
    "    df_cols = df[colum_name].str.split(\"*\", expand=True)\n",
    "    prefix = colum_name.split(\"_\")[0]\n",
    "    df_cols.columns = [f\"{prefix}_{x+1}\" for x in df_cols.columns]\n",
    "    return df_cols"
   ]
  },
  {
   "cell_type": "code",
   "execution_count": 18,
   "metadata": {},
   "outputs": [],
   "source": [
    "# df[\"input_shape\"].unique()"
   ]
  },
  {
   "cell_type": "code",
   "execution_count": 19,
   "metadata": {},
   "outputs": [],
   "source": [
    "# split_df = df[\"input_shape\"].map(str)\n",
    "# split_df.unique"
   ]
  },
  {
   "cell_type": "markdown",
   "metadata": {},
   "source": [
    "# Input shapes & activations"
   ]
  },
  {
   "cell_type": "code",
   "execution_count": 20,
   "metadata": {},
   "outputs": [
    {
     "name": "stderr",
     "output_type": "stream",
     "text": [
      "C:\\Users\\Susanne\\AppData\\Local\\Temp\\ipykernel_10012\\1746192384.py:19: FutureWarning:\n",
      "\n",
      "The default value of regex will change from True to False in a future version.\n",
      "\n"
     ]
    }
   ],
   "source": [
    "df_input = split_shape_columns(df, \"input_shape\")\n",
    "no_input_cols = len(df_input.columns)\n",
    "for input in range(1,no_input_cols+1):\n",
    "    df_input[f\"b_i_{input}\"]= df_input[f\"input_{input}\"].apply(return_batch_size)\n",
    "    df_input[f\"h_i_{input}\"] = df_input[f\"input_{input}\"].apply(return_input_height)\n",
    "    df_input[f\"w_i_{input}\"] = df_input[f\"input_{input}\"].apply(return_input_width)\n",
    "    df_input[f\"c_i_{input}\"] = df_input[f\"input_{input}\"].apply(return_channels)\n",
    "\n",
    "\n",
    "input_cols = df_input.columns.to_list()\n",
    "\n",
    "#df_input[\"w_i_2\"].replace('None', np.nan, inplace=True)\n",
    "df_input[\"b_i_1\"].replace('None', np.nan, inplace=True)\n",
    "df_input[\"w_i_1\"].replace('None', np.nan, inplace=True)\n",
    "df_input[\"h_i_1\"].replace('None', np.nan, inplace=True)\n",
    "df_input[\"c_i_1\"].replace('None', np.nan, inplace=True)\n",
    "\n",
    "if \"b_i_2\" in input_cols:\n",
    "    df_input[\"b_i_2\"] = df_input[\"b_i_2\"].str.replace(\"\\(\", \"\")\n",
    "    df_input[\"b_i_2\"].replace('None', np.nan, inplace=True)\n",
    "    df_input[\"w_i_2\"].replace('None', np.nan, inplace=True)\n",
    "    df_input[\"h_i_2\"].replace('None', np.nan, inplace=True)\n",
    "    df_input[\"c_i_2\"].replace('None', np.nan, inplace=True)\n",
    "df_input.fillna(1, inplace=True)\n",
    "\n",
    "# cast to int\n",
    "df_input[\"w_i_1\"] = df_input[\"w_i_1\"].map(int)\n",
    "df_input[\"h_i_1\"] = df_input[\"h_i_1\"].map(int)\n",
    "df_input[\"b_i_1\"] = df_input[\"b_i_1\"].map(int)\n",
    "df_input[\"c_i_1\"] = df_input[\"c_i_1\"].map(int)\n",
    "\n",
    "if \"b_i_2\" in input_cols:\n",
    "    df_input[\"b_i_2\"] = df_input[\"b_i_2\"].map(int)\n",
    "    df_input[\"w_i_2\"] = df_input[\"w_i_2\"].map(int)\n",
    "    df_input[\"h_i_2\"] = df_input[\"h_i_2\"].map(int)\n",
    "    df_input[\"c_i_2\"] = df_input[\"c_i_2\"].map(int)"
   ]
  },
  {
   "cell_type": "code",
   "execution_count": 21,
   "metadata": {},
   "outputs": [],
   "source": [
    "# df_input = split_shape_columns(df, \"input_shape\")\n",
    "# df_input"
   ]
  },
  {
   "cell_type": "code",
   "execution_count": 22,
   "metadata": {},
   "outputs": [],
   "source": [
    "# #df[\"input_shape\"][0] =(None, None, None, None)\n",
    "# df[\"input_shape\"] = df[\"input_shape\"].map(str)\n",
    "# df[\"input_shape\"] = df[\"input_shape\"].str.strip(\"[]\").replace('\\)\\,', ')*', regex=True)\n",
    "# df_input = df[\"input_shape\"].str.split(\"*\", expand=True)\n",
    "# df_input.columns =[f\"input_{x+1}\" for x in df_input.columns]\n",
    "# no_input_cols = len(df_input.columns)\n",
    "# print(no_input_cols)\n",
    "# df_input\n"
   ]
  },
  {
   "cell_type": "code",
   "execution_count": 23,
   "metadata": {},
   "outputs": [],
   "source": [
    "#df_input[\"input_1_split\"] = df_input[\"input_1\"].apply(split_tuples)"
   ]
  },
  {
   "cell_type": "code",
   "execution_count": 24,
   "metadata": {},
   "outputs": [],
   "source": [
    "# no_input_cols = len(df_input.columns)"
   ]
  },
  {
   "cell_type": "code",
   "execution_count": 25,
   "metadata": {},
   "outputs": [],
   "source": [
    "# for input in range(1,no_input_cols+1):\n",
    "#     df_input[f\"b_i_{input}\"]= df_input[f\"input_{input}\"].apply(return_batch_size)\n",
    "#     df_input[f\"h_i_{input}\"] = df_input[f\"input_{input}\"].apply(return_input_height)\n",
    "#     df_input[f\"w_i_{input}\"] = df_input[f\"input_{input}\"].apply(return_input_width)\n",
    "#     df_input[f\"c_i_{input}\"] = df_input[f\"input_{input}\"].apply(return_channels)\n",
    "\n",
    "# df_input"
   ]
  },
  {
   "cell_type": "code",
   "execution_count": 26,
   "metadata": {},
   "outputs": [],
   "source": [
    "# input_cols = df_input.columns.to_list()\n"
   ]
  },
  {
   "cell_type": "code",
   "execution_count": 27,
   "metadata": {},
   "outputs": [],
   "source": [
    "# #df_input[\"w_i_2\"].replace('None', np.nan, inplace=True)\n",
    "# df_input[\"b_i_1\"].replace('None', np.nan, inplace=True)\n",
    "# df_input[\"w_i_1\"].replace('None', np.nan, inplace=True)\n",
    "# df_input[\"h_i_1\"].replace('None', np.nan, inplace=True)\n",
    "# df_input[\"c_i_1\"].replace('None', np.nan, inplace=True)\n",
    "\n",
    "# if \"b_i_2\" in input_cols:\n",
    "#     df_input[\"b_i_2\"] = df_input[\"b_i_2\"].str.replace(\"\\(\", \"\")\n",
    "#     df_input[\"b_i_2\"].replace('None', np.nan, inplace=True)\n",
    "#     df_input[\"w_i_2\"].replace('None', np.nan, inplace=True)\n",
    "#     df_input[\"h_i_2\"].replace('None', np.nan, inplace=True)\n",
    "#     df_input[\"c_i_2\"].replace('None', np.nan, inplace=True)\n",
    "# df_input.fillna(1, inplace=True)\n"
   ]
  },
  {
   "cell_type": "code",
   "execution_count": 28,
   "metadata": {},
   "outputs": [],
   "source": [
    "# df_input"
   ]
  },
  {
   "cell_type": "code",
   "execution_count": 29,
   "metadata": {},
   "outputs": [],
   "source": [
    "#df_input.c_i_1.value_counts()"
   ]
  },
  {
   "cell_type": "code",
   "execution_count": 30,
   "metadata": {},
   "outputs": [],
   "source": [
    "\n",
    "# df_input[\"w_i_1\"] = df_input[\"w_i_1\"].map(int)\n",
    "# df_input[\"h_i_1\"] = df_input[\"h_i_1\"].map(int)\n",
    "# df_input[\"b_i_1\"] = df_input[\"b_i_1\"].map(int)\n",
    "# df_input[\"c_i_1\"] = df_input[\"c_i_1\"].map(int)\n",
    "\n",
    "# if \"b_i_2\" in input_cols:\n",
    "#     df_input[\"b_i_2\"] = df_input[\"b_i_2\"].map(int)\n",
    "#     df_input[\"w_i_2\"] = df_input[\"w_i_2\"].map(int)\n",
    "#     df_input[\"h_i_2\"] = df_input[\"h_i_2\"].map(int)\n",
    "#     df_input[\"c_i_2\"] = df_input[\"c_i_2\"].map(int)"
   ]
  },
  {
   "cell_type": "code",
   "execution_count": 31,
   "metadata": {},
   "outputs": [],
   "source": [
    "\n",
    "# df_input[\"b_i_1\"] = df_input[\"b_i_1\"].map(int)\n",
    "# df_input[\"w_i_1\"] = df_input[\"w_i_1\"].map(int)\n",
    "# df_input[\"h_i_1\"] = df_input[\"h_i_1\"].map(int)\n",
    "# df_input[\"c_i_1\"] = df_input[\"c_i_1\"].map(int)\n",
    "\n",
    "# df_input[\"b_i_2\"] = df_input[\"b_i_2\"].map(int)\n",
    "# df_input[\"w_i_2\"] = df_input[\"w_i_2\"].map(int)\n",
    "# df_input[\"h_i_2\"] = df_input[\"h_i_2\"].map(int)\n",
    "# df_input[\"c_i_2\"] = df_input[\"c_i_2\"].map(int)"
   ]
  },
  {
   "cell_type": "code",
   "execution_count": 32,
   "metadata": {},
   "outputs": [],
   "source": [
    "#df_input"
   ]
  },
  {
   "cell_type": "markdown",
   "metadata": {},
   "source": [
    "# Output shape and activations"
   ]
  },
  {
   "cell_type": "code",
   "execution_count": 33,
   "metadata": {},
   "outputs": [],
   "source": [
    "df_output =split_shape_columns(df, \"output_shape\") # TODO: This split does not work for EfficientNet\n",
    "no_output_cols = len(df_output.columns)\n",
    "# split output dimensions\n",
    "for output in range(1,no_output_cols+1):\n",
    "    df_output[f\"b_o_{output}\"]= df_output[f\"output_{output}\"].apply(return_batch_size)\n",
    "    df_output[f\"h_o_{output}\"] = df_output[f\"output_{output}\"].apply(return_input_height)\n",
    "    df_output[f\"w_o_{output}\"] = df_output[f\"output_{output}\"].apply(return_input_width)\n",
    "    df_output[f\"c_o_{output}\"] = df_output[f\"output_{output}\"].apply(return_channels)\n",
    "\n",
    "# fill NaN with 1 for mulitplication\n",
    "df_output[\"b_o_1\"].replace('None', np.nan, inplace=True)\n",
    "df_output[\"w_o_1\"].replace('None', np.nan, inplace=True)\n",
    "df_output[\"h_o_1\"].replace('None', np.nan, inplace=True)\n",
    "df_output[\"c_o_1\"].replace('None', np.nan, inplace=True)\n",
    "df_output.fillna(1, inplace=True)\n",
    "\n",
    "df_output[\"w_o_1\"] = df_output[\"w_o_1\"].map(int)\n",
    "df_output[\"h_o_1\"] = df_output[\"h_o_1\"].map(int)\n",
    "df_output[\"b_o_1\"] = df_output[\"b_o_1\"].map(int)\n",
    "df_output[\"c_o_1\"] = df_output[\"c_o_1\"].map(int)"
   ]
  },
  {
   "cell_type": "code",
   "execution_count": 34,
   "metadata": {},
   "outputs": [],
   "source": [
    "# df_output = split_shape_columns(df, \"output_shape\")\n",
    "# df_output"
   ]
  },
  {
   "cell_type": "code",
   "execution_count": 35,
   "metadata": {},
   "outputs": [],
   "source": [
    "# no_output_cols = len(df_output.columns)\n",
    "# no_output_cols"
   ]
  },
  {
   "cell_type": "code",
   "execution_count": 36,
   "metadata": {},
   "outputs": [],
   "source": [
    "# for output in range(1,no_output_cols+1):\n",
    "#     df_output[f\"b_o_{output}\"]= df_output[f\"output_{output}\"].apply(return_batch_size)\n",
    "#     df_output[f\"h_o_{output}\"] = df_output[f\"output_{output}\"].apply(return_input_height)\n",
    "#     df_output[f\"w_o_{output}\"] = df_output[f\"output_{output}\"].apply(return_input_width)\n",
    "#     df_output[f\"c_o_{output}\"] = df_output[f\"output_{output}\"].apply(return_channels)\n",
    "\n",
    "# df_output"
   ]
  },
  {
   "cell_type": "code",
   "execution_count": 37,
   "metadata": {},
   "outputs": [],
   "source": [
    "# df_output[\"b_o_1\"].replace('None', np.nan, inplace=True)\n",
    "# df_output[\"w_o_1\"].replace('None', np.nan, inplace=True)\n",
    "# df_output[\"h_o_1\"].replace('None', np.nan, inplace=True)\n",
    "# df_output[\"c_o_1\"].replace('None', np.nan, inplace=True)\n",
    "# df_output.fillna(1, inplace=True)"
   ]
  },
  {
   "cell_type": "code",
   "execution_count": 38,
   "metadata": {},
   "outputs": [],
   "source": [
    "# df_output[\"w_o_1\"] = df_output[\"w_o_1\"].map(int)\n",
    "# df_output[\"h_o_1\"] = df_output[\"h_o_1\"].map(int)\n",
    "# df_output[\"b_o_1\"] = df_output[\"b_o_1\"].map(int)\n",
    "# df_output[\"c_o_1\"] = df_output[\"c_o_1\"].map(int)"
   ]
  },
  {
   "attachments": {},
   "cell_type": "markdown",
   "metadata": {},
   "source": [
    "# Feature Engineering"
   ]
  },
  {
   "cell_type": "code",
   "execution_count": 39,
   "metadata": {},
   "outputs": [],
   "source": [
    "def get_unique_values_without_nan(df,col_name):\n",
    "    \"\"\"Retrieve list of unique column values, excluding nan\n",
    "\n",
    "    Args:\n",
    "        df (pd.DataFrame): pandas dataframe that contains the required column\n",
    "        col_name (string): name of a column in the pandas dataframe\n",
    "\n",
    "    Returns:\n",
    "        list: list of extracted unique values of the specified column\n",
    "    \"\"\"\n",
    "    try:\n",
    "        value_list = df[col_name].unique().tolist()\n",
    "        # exclude nan\n",
    "        value_list = [item for item in value_list if str(item) != 'nan']\n",
    "        return value_list\n",
    "    except:\n",
    "        print(f\"WARNING: Colum name {col_name} is not in this dataframe!\")\n",
    "\n",
    "        return []"
   ]
  },
  {
   "cell_type": "code",
   "execution_count": 40,
   "metadata": {},
   "outputs": [],
   "source": [
    "df = df.join(df_input)"
   ]
  },
  {
   "cell_type": "code",
   "execution_count": 41,
   "metadata": {},
   "outputs": [],
   "source": [
    "df = df.join(df_output)"
   ]
  },
  {
   "cell_type": "code",
   "execution_count": 42,
   "metadata": {},
   "outputs": [],
   "source": [
    "name_code =\"i_2\""
   ]
  },
  {
   "cell_type": "code",
   "execution_count": 43,
   "metadata": {},
   "outputs": [],
   "source": [
    "def calculate_activations(x, name_code):\n",
    "    h_i = int(x[f\"h_{name_code}\"])\n",
    "    w_i = int(x[f\"w_{name_code}\"])\n",
    "    c_i = int(x[f\"c_{name_code}\"])\n",
    "    out = h_i * w_i * c_i\n",
    "    if out >1:\n",
    "        return out\n",
    "    else:\n",
    "        return 0"
   ]
  },
  {
   "cell_type": "code",
   "execution_count": 44,
   "metadata": {},
   "outputs": [],
   "source": [
    "df[\"#i_1_activations\"] = df.apply(calculate_activations, name_code= \"i_1\", axis=1)#df_input[\"h_i_1\"] * df_input[\"w_i_1\"] * df_input[\"c_i_1\"]\n",
    "df[\"#o_1_activations\"] = df.apply(calculate_activations, name_code= \"o_1\", axis=1)#  df_output[\"h_o_1\"] * df_output[\"w_o_1\"] * df_output[\"c_o_1\"]"
   ]
  },
  {
   "cell_type": "code",
   "execution_count": 45,
   "metadata": {},
   "outputs": [],
   "source": [
    "if \"b_i_2\" in input_cols:\n",
    "    df[\"#i_2_activations\"] = df.apply(calculate_activations, name_code=\"i_2\", axis=1)"
   ]
  },
  {
   "cell_type": "code",
   "execution_count": 46,
   "metadata": {},
   "outputs": [
    {
     "data": {
      "text/plain": [
       "0        186\n",
       "14400      7\n",
       "7200       4\n",
       "28800      3\n",
       "3456       1\n",
       "3600       1\n",
       "Name: #i_2_activations, dtype: int64"
      ]
     },
     "execution_count": 46,
     "metadata": {},
     "output_type": "execute_result"
    }
   ],
   "source": [
    "df[\"#i_2_activations\"].value_counts()"
   ]
  },
  {
   "cell_type": "code",
   "execution_count": 47,
   "metadata": {},
   "outputs": [],
   "source": [
    "if \"#i_2_activations\" in df.columns:\n",
    "    df[\"peak_activations\"] = df[\"#i_1_activations\"] + df[\"#i_2_activations\"] + df[\"#o_1_activations\"]\n",
    "else:\n",
    "    df[\"peak_activations\"] = df[\"#i_1_activations\"]  + df[\"#o_1_activations\"]    "
   ]
  },
  {
   "cell_type": "code",
   "execution_count": 48,
   "metadata": {},
   "outputs": [
    {
     "data": {
      "text/plain": [
       "['average_pooling2d_3',\n",
       " 're_lu_35',\n",
       " 're_lu_37',\n",
       " 're_lu_39',\n",
       " 'average_pooling2d_4',\n",
       " 're_lu_43',\n",
       " 're_lu_45',\n",
       " 're_lu_47',\n",
       " 're_lu_49',\n",
       " 're_lu_51',\n",
       " 're_lu_53',\n",
       " 're_lu_55',\n",
       " 'average_pooling2d_5',\n",
       " 're_lu_59',\n",
       " 're_lu_61',\n",
       " 're_lu_63']"
      ]
     },
     "execution_count": 48,
     "metadata": {},
     "output_type": "execute_result"
    }
   ],
   "source": [
    "unique_values = get_unique_values_without_nan(df, \"input_node_2\")\n",
    "unique_values"
   ]
  },
  {
   "cell_type": "code",
   "execution_count": 49,
   "metadata": {},
   "outputs": [
    {
     "name": "stdout",
     "output_type": "stream",
     "text": [
      "     index                    name  \\\n",
      "187    187                re_lu_63   \n",
      "188    188               conv2d_64   \n",
      "189    189  batch_normalization_95   \n",
      "190    190                re_lu_64   \n",
      "191    191              reshape_62   \n",
      "192    192              permute_31   \n",
      "193    193              reshape_63   \n",
      "194    194     depthwise_conv2d_31   \n",
      "195    195  batch_normalization_96   \n",
      "196    196               conv2d_65   \n",
      "197    197  batch_normalization_97   \n",
      "198    198                  add_25   \n",
      "\n",
      "                                            layer_type  \\\n",
      "187        <class 'keras.layers.activation.relu.ReLU'>   \n",
      "188  <class 'keras.layers.convolutional.conv2d.Conv...   \n",
      "189  <class 'keras.layers.normalization.batch_norma...   \n",
      "190        <class 'keras.layers.activation.relu.ReLU'>   \n",
      "191   <class 'keras.layers.reshaping.reshape.Reshape'>   \n",
      "192   <class 'keras.layers.reshaping.permute.Permute'>   \n",
      "193   <class 'keras.layers.reshaping.reshape.Reshape'>   \n",
      "194  <class 'keras.layers.convolutional.depthwise_c...   \n",
      "195  <class 'keras.layers.normalization.batch_norma...   \n",
      "196  <class 'keras.layers.convolutional.conv2d.Conv...   \n",
      "197  <class 'keras.layers.normalization.batch_norma...   \n",
      "198             <class 'keras.layers.merging.add.Add'>   \n",
      "\n",
      "                              input_shape  \\\n",
      "187                     (None, 3, 3, 800)   \n",
      "188                     (None, 3, 3, 800)   \n",
      "189                     (None, 3, 3, 200)   \n",
      "190                     (None, 3, 3, 200)   \n",
      "191                     (None, 3, 3, 200)   \n",
      "192                  (None, 3, 3, 100, 2)   \n",
      "193                  (None, 3, 3, 2, 100)   \n",
      "194                     (None, 3, 3, 200)   \n",
      "195                     (None, 3, 3, 200)   \n",
      "196                     (None, 3, 3, 200)   \n",
      "197                     (None, 3, 3, 800)   \n",
      "198  (None, 3, 3, 800)* (None, 3, 3, 800)   \n",
      "\n",
      "                                                 input  \\\n",
      "187  KerasTensor(type_spec=TensorSpec(shape=(None, ...   \n",
      "188  KerasTensor(type_spec=TensorSpec(shape=(None, ...   \n",
      "189  KerasTensor(type_spec=TensorSpec(shape=(None, ...   \n",
      "190  KerasTensor(type_spec=TensorSpec(shape=(None, ...   \n",
      "191  KerasTensor(type_spec=TensorSpec(shape=(None, ...   \n",
      "192  KerasTensor(type_spec=TensorSpec(shape=(None, ...   \n",
      "193  KerasTensor(type_spec=TensorSpec(shape=(None, ...   \n",
      "194  KerasTensor(type_spec=TensorSpec(shape=(None, ...   \n",
      "195  KerasTensor(type_spec=TensorSpec(shape=(None, ...   \n",
      "196  KerasTensor(type_spec=TensorSpec(shape=(None, ...   \n",
      "197  KerasTensor(type_spec=TensorSpec(shape=(None, ...   \n",
      "198  [KerasTensor(type_spec=TensorSpec(shape=(None,...   \n",
      "\n",
      "                                  input_node_1          output_shape    dtype  \\\n",
      "187                               add_24/add:0     (None, 3, 3, 800)  float32   \n",
      "188                            re_lu_63/Relu:0     (None, 3, 3, 200)  float32   \n",
      "189                        conv2d_64/BiasAdd:0     (None, 3, 3, 200)  float32   \n",
      "190  batch_normalization_95/FusedBatchNormV3:0     (None, 3, 3, 200)  float32   \n",
      "191                            re_lu_64/Relu:0  (None, 3, 3, 100, 2)  float32   \n",
      "192                       reshape_62/Reshape:0  (None, 3, 3, 2, 100)  float32   \n",
      "193                     permute_31/transpose:0     (None, 3, 3, 200)  float32   \n",
      "194                       reshape_63/Reshape:0     (None, 3, 3, 200)  float32   \n",
      "195              depthwise_conv2d_31/BiasAdd:0     (None, 3, 3, 200)  float32   \n",
      "196  batch_normalization_96/FusedBatchNormV3:0     (None, 3, 3, 800)  float32   \n",
      "197                        conv2d_65/BiasAdd:0     (None, 3, 3, 800)  float32   \n",
      "198                     batch_normalization_97     (None, 3, 3, 800)  float32   \n",
      "\n",
      "     params  variables     weights_shape  \\\n",
      "187       0          0                 0   \n",
      "188   80200          2  (1, 1, 400, 200)   \n",
      "189     800          4             (200)   \n",
      "190       0          0                 0   \n",
      "191       0          0                 0   \n",
      "192       0          0                 0   \n",
      "193       0          0                 0   \n",
      "194    2000          2    (3, 3, 200, 1)   \n",
      "195     800          4             (200)   \n",
      "196   80800          2  (1, 1, 100, 800)   \n",
      "197    3200          4             (800)   \n",
      "198       0          0                 0   \n",
      "\n",
      "                               weights_name       weights_dtype  \\\n",
      "187                                       0                   0   \n",
      "188                      conv2d_64/kernel:0  <dtype: 'float32'>   \n",
      "189          batch_normalization_95/gamma:0  <dtype: 'float32'>   \n",
      "190                                       0                   0   \n",
      "191                                       0                   0   \n",
      "192                                       0                   0   \n",
      "193                                       0                   0   \n",
      "194  depthwise_conv2d_31/depthwise_kernel:0  <dtype: 'float32'>   \n",
      "195          batch_normalization_96/gamma:0  <dtype: 'float32'>   \n",
      "196                      conv2d_65/kernel:0  <dtype: 'float32'>   \n",
      "197          batch_normalization_97/gamma:0  <dtype: 'float32'>   \n",
      "198                                       0                   0   \n",
      "\n",
      "     #_activations      OPS     MACS  filters trainable kernel_size strides  \\\n",
      "187            0.0        0        0        0         0           0       0   \n",
      "188            NaN  2881800  1440000      200      True      (1, 1)  (1, 1)   \n",
      "189            NaN        0        0        0         0           0       0   \n",
      "190            0.0        0        0        0         0           0       0   \n",
      "191            0.0        0        0        0         0           0       0   \n",
      "192            0.0        0        0        0         0           0       0   \n",
      "193            0.0        0        0        0         0           0       0   \n",
      "194            NaN    34200    16200        0      True      (3, 3)  (1, 1)   \n",
      "195            NaN        0        0        0         0           0       0   \n",
      "196            NaN  2887200  1440000      800      True      (1, 1)  (1, 1)   \n",
      "197            NaN        0        0        0         0           0       0   \n",
      "198            0.0        0        0        0         0           0       0   \n",
      "\n",
      "    padding dilation_rate  groups activation use_bias    data_format  \\\n",
      "187       0             0       0          0        0              0   \n",
      "188    same        (1, 1)       2     linear     True  channels_last   \n",
      "189       0             0       0          0        0              0   \n",
      "190       0             0       0          0        0              0   \n",
      "191       0             0       0          0        0              0   \n",
      "192       0             0       0          0        0              0   \n",
      "193       0             0       0          0        0              0   \n",
      "194    same        (1, 1)       1     linear     True  channels_last   \n",
      "195       0             0       0          0        0              0   \n",
      "196    same        (1, 1)       2     linear     True  channels_last   \n",
      "197       0             0       0          0        0              0   \n",
      "198       0             0       0          0        0              0   \n",
      "\n",
      "      input_node_type_1 input_node_2 input_node_type_2               input_1  \\\n",
      "187                 NaN          NaN               NaN     (None, 3, 3, 800)   \n",
      "188                 NaN          NaN               NaN     (None, 3, 3, 800)   \n",
      "189                 NaN          NaN               NaN     (None, 3, 3, 200)   \n",
      "190                 NaN          NaN               NaN     (None, 3, 3, 200)   \n",
      "191                 NaN          NaN               NaN     (None, 3, 3, 200)   \n",
      "192                 NaN          NaN               NaN  (None, 3, 3, 100, 2)   \n",
      "193                 NaN          NaN               NaN  (None, 3, 3, 2, 100)   \n",
      "194                 NaN          NaN               NaN     (None, 3, 3, 200)   \n",
      "195                 NaN          NaN               NaN     (None, 3, 3, 200)   \n",
      "196                 NaN          NaN               NaN     (None, 3, 3, 200)   \n",
      "197                 NaN          NaN               NaN     (None, 3, 3, 800)   \n",
      "198  FusedBatchNormV3:0     re_lu_63            Relu:0     (None, 3, 3, 800)   \n",
      "\n",
      "                input_2  b_i_1  h_i_1  w_i_1  c_i_1  b_i_2  h_i_2  w_i_2  \\\n",
      "187                   1      1      3      3    800      1      1      1   \n",
      "188                   1      1      3      3    800      1      1      1   \n",
      "189                   1      1      3      3    200      1      1      1   \n",
      "190                   1      1      3      3    200      1      1      1   \n",
      "191                   1      1      3      3    200      1      1      1   \n",
      "192                   1      1      1      1      2      1      1      1   \n",
      "193                   1      1      1      1    100      1      1      1   \n",
      "194                   1      1      3      3    200      1      1      1   \n",
      "195                   1      1      3      3    200      1      1      1   \n",
      "196                   1      1      3      3    200      1      1      1   \n",
      "197                   1      1      3      3    800      1      1      1   \n",
      "198   (None, 3, 3, 800)      1      3      3    800      1      3      3   \n",
      "\n",
      "     c_i_2              output_1  b_o_1  h_o_1  w_o_1  c_o_1  \\\n",
      "187      1     (None, 3, 3, 800)      1      3      3    800   \n",
      "188      1     (None, 3, 3, 200)      1      3      3    200   \n",
      "189      1     (None, 3, 3, 200)      1      3      3    200   \n",
      "190      1     (None, 3, 3, 200)      1      3      3    200   \n",
      "191      1  (None, 3, 3, 100, 2)      1      1      1      2   \n",
      "192      1  (None, 3, 3, 2, 100)      1      1      1    100   \n",
      "193      1     (None, 3, 3, 200)      1      3      3    200   \n",
      "194      1     (None, 3, 3, 200)      1      3      3    200   \n",
      "195      1     (None, 3, 3, 200)      1      3      3    200   \n",
      "196      1     (None, 3, 3, 800)      1      3      3    800   \n",
      "197      1     (None, 3, 3, 800)      1      3      3    800   \n",
      "198    800     (None, 3, 3, 800)      1      3      3    800   \n",
      "\n",
      "     #i_1_activations  #o_1_activations  #i_2_activations  peak_activations  \n",
      "187              7200              7200              7200             14400  \n",
      "188              7200              1800              7200              9000  \n",
      "189              1800              1800              7200              3600  \n",
      "190              1800              1800              7200              3600  \n",
      "191              1800                 2              7200              1802  \n",
      "192                 2               100              7200               102  \n",
      "193               100              1800              7200              1900  \n",
      "194              1800              1800              7200              3600  \n",
      "195              1800              1800              7200              3600  \n",
      "196              1800              7200              7200              9000  \n",
      "197              7200              7200              7200             14400  \n",
      "198              7200              7200              7200             21600  \n"
     ]
    }
   ],
   "source": [
    "# fill activations from start node to end node\n",
    "\n",
    "for item in unique_values:\n",
    "    first_idx = df.loc[df[\"name\"] == item].index[0]\n",
    "    last_idx = df.loc[df[\"input_node_2\"] == item].index[0]\n",
    "\n",
    "    activations = df[\"#i_2_activations\"][last_idx]\n",
    "\n",
    "    # fill the corresponding rows with the extracted information\n",
    "    df.loc[first_idx: last_idx, \"#i_2_activations\"] = activations\n",
    "print(df[first_idx: last_idx+1])"
   ]
  },
  {
   "cell_type": "code",
   "execution_count": 50,
   "metadata": {},
   "outputs": [
    {
     "data": {
      "text/plain": [
       "Index(['index', 'name', 'layer_type', 'input_shape', 'input', 'input_node_1',\n",
       "       'output_shape', 'dtype', 'params', 'variables', 'weights_shape',\n",
       "       'weights_name', 'weights_dtype', '#_activations', 'OPS', 'MACS',\n",
       "       'filters', 'trainable', 'kernel_size', 'strides', 'padding',\n",
       "       'dilation_rate', 'groups', 'activation', 'use_bias', 'data_format',\n",
       "       'input_node_type_1', 'input_node_2', 'input_node_type_2', 'input_1',\n",
       "       'input_2', 'b_i_1', 'h_i_1', 'w_i_1', 'c_i_1', 'b_i_2', 'h_i_2',\n",
       "       'w_i_2', 'c_i_2', 'output_1', 'b_o_1', 'h_o_1', 'w_o_1', 'c_o_1',\n",
       "       '#i_1_activations', '#o_1_activations', '#i_2_activations',\n",
       "       'peak_activations'],\n",
       "      dtype='object')"
      ]
     },
     "execution_count": 50,
     "metadata": {},
     "output_type": "execute_result"
    }
   ],
   "source": [
    "df.columns"
   ]
  },
  {
   "cell_type": "code",
   "execution_count": 51,
   "metadata": {},
   "outputs": [],
   "source": [
    "df[\"total_params\"] = df[\"params\"].cumsum()\n",
    "df[\"total_MACs\"] = df[\"MACS\"].cumsum()\n",
    "df[\"total_OPS\"] = df[\"OPS\"].cumsum()"
   ]
  },
  {
   "cell_type": "code",
   "execution_count": 52,
   "metadata": {},
   "outputs": [],
   "source": [
    "# df[\"total_params\"].max()\n",
    "# df[\"peak_activations\"].argmax()"
   ]
  },
  {
   "cell_type": "code",
   "execution_count": 53,
   "metadata": {},
   "outputs": [],
   "source": [
    "model_dict[\"model_name\"] = model_name\n",
    "model_dict[\"total_params\"] = df[\"total_params\"].max()\n",
    "model_dict[\"total_MACs\"] = df[\"total_MACs\"].max()\n",
    "model_dict[\"total OPS\"] = df[\"total_OPS\"].max()\n",
    "model_dict[\"peak_activations\"] = df[\"peak_activations\"].max()\n",
    "model_dict[\"index_peak_activations\"] = df[\"peak_activations\"].argmax()"
   ]
  },
  {
   "cell_type": "code",
   "execution_count": 54,
   "metadata": {},
   "outputs": [
    {
     "data": {
      "text/plain": [
       "{'model_name': 'shufflenetv1_1_96_c3_o3_000',\n",
       " 'total_params': 965251,\n",
       " 'total_MACs': 48674592,\n",
       " 'total OPS': 97816824,\n",
       " 'peak_activations': 110592,\n",
       " 'index_peak_activations': 2}"
      ]
     },
     "execution_count": 54,
     "metadata": {},
     "output_type": "execute_result"
    }
   ],
   "source": [
    "model_dict"
   ]
  },
  {
   "cell_type": "code",
   "execution_count": 55,
   "metadata": {},
   "outputs": [],
   "source": [
    "csv_file_name = \"model_metrics.csv\"\n",
    "csv_path = Path.cwd().joinpath(csv_file_name)\n",
    "append_dict_to_csv(csv_path, model_dict)"
   ]
  },
  {
   "cell_type": "code",
   "execution_count": 56,
   "metadata": {},
   "outputs": [],
   "source": [
    "df.to_pickle(df_filepath)"
   ]
  },
  {
   "cell_type": "code",
   "execution_count": 57,
   "metadata": {},
   "outputs": [
    {
     "data": {
      "text/plain": [
       "Index(['index', 'name', 'layer_type', 'input_shape', 'input', 'input_node_1',\n",
       "       'output_shape', 'dtype', 'params', 'variables', 'weights_shape',\n",
       "       'weights_name', 'weights_dtype', '#_activations', 'OPS', 'MACS',\n",
       "       'filters', 'trainable', 'kernel_size', 'strides', 'padding',\n",
       "       'dilation_rate', 'groups', 'activation', 'use_bias', 'data_format',\n",
       "       'input_node_type_1', 'input_node_2', 'input_node_type_2', 'input_1',\n",
       "       'input_2', 'b_i_1', 'h_i_1', 'w_i_1', 'c_i_1', 'b_i_2', 'h_i_2',\n",
       "       'w_i_2', 'c_i_2', 'output_1', 'b_o_1', 'h_o_1', 'w_o_1', 'c_o_1',\n",
       "       '#i_1_activations', '#o_1_activations', '#i_2_activations',\n",
       "       'peak_activations', 'total_params', 'total_MACs', 'total_OPS'],\n",
       "      dtype='object')"
      ]
     },
     "execution_count": 57,
     "metadata": {},
     "output_type": "execute_result"
    }
   ],
   "source": [
    "df.columns"
   ]
  },
  {
   "cell_type": "code",
   "execution_count": 58,
   "metadata": {},
   "outputs": [
    {
     "data": {
      "text/html": [
       "<div>\n",
       "<style scoped>\n",
       "    .dataframe tbody tr th:only-of-type {\n",
       "        vertical-align: middle;\n",
       "    }\n",
       "\n",
       "    .dataframe tbody tr th {\n",
       "        vertical-align: top;\n",
       "    }\n",
       "\n",
       "    .dataframe thead th {\n",
       "        text-align: right;\n",
       "    }\n",
       "</style>\n",
       "<table border=\"1\" class=\"dataframe\">\n",
       "  <thead>\n",
       "    <tr style=\"text-align: right;\">\n",
       "      <th></th>\n",
       "      <th>index</th>\n",
       "      <th>name</th>\n",
       "      <th>layer_type</th>\n",
       "      <th>input_shape</th>\n",
       "      <th>input</th>\n",
       "      <th>input_node_1</th>\n",
       "      <th>output_shape</th>\n",
       "      <th>dtype</th>\n",
       "      <th>params</th>\n",
       "      <th>variables</th>\n",
       "      <th>weights_shape</th>\n",
       "      <th>weights_name</th>\n",
       "      <th>weights_dtype</th>\n",
       "      <th>#_activations</th>\n",
       "      <th>OPS</th>\n",
       "      <th>MACS</th>\n",
       "      <th>filters</th>\n",
       "      <th>trainable</th>\n",
       "      <th>kernel_size</th>\n",
       "      <th>strides</th>\n",
       "      <th>padding</th>\n",
       "      <th>dilation_rate</th>\n",
       "      <th>groups</th>\n",
       "      <th>activation</th>\n",
       "      <th>use_bias</th>\n",
       "      <th>data_format</th>\n",
       "      <th>input_node_type_1</th>\n",
       "      <th>input_node_2</th>\n",
       "      <th>input_node_type_2</th>\n",
       "      <th>input_1</th>\n",
       "      <th>input_2</th>\n",
       "      <th>b_i_1</th>\n",
       "      <th>h_i_1</th>\n",
       "      <th>w_i_1</th>\n",
       "      <th>c_i_1</th>\n",
       "      <th>b_i_2</th>\n",
       "      <th>h_i_2</th>\n",
       "      <th>w_i_2</th>\n",
       "      <th>c_i_2</th>\n",
       "      <th>output_1</th>\n",
       "      <th>b_o_1</th>\n",
       "      <th>h_o_1</th>\n",
       "      <th>w_o_1</th>\n",
       "      <th>c_o_1</th>\n",
       "      <th>#i_1_activations</th>\n",
       "      <th>#o_1_activations</th>\n",
       "      <th>#i_2_activations</th>\n",
       "      <th>peak_activations</th>\n",
       "      <th>total_params</th>\n",
       "      <th>total_MACs</th>\n",
       "      <th>total_OPS</th>\n",
       "    </tr>\n",
       "  </thead>\n",
       "  <tbody>\n",
       "    <tr>\n",
       "      <th>0</th>\n",
       "      <td>0</td>\n",
       "      <td>input_2</td>\n",
       "      <td>&lt;class 'keras.engine.input_layer.InputLayer'&gt;</td>\n",
       "      <td>(None, 96, 96, 3)</td>\n",
       "      <td>KerasTensor(type_spec=TensorSpec(shape=(None, ...</td>\n",
       "      <td>input_2</td>\n",
       "      <td>(None, 96, 96, 3)</td>\n",
       "      <td>float32</td>\n",
       "      <td>0</td>\n",
       "      <td>0</td>\n",
       "      <td>0</td>\n",
       "      <td>0</td>\n",
       "      <td>0</td>\n",
       "      <td>0.0</td>\n",
       "      <td>0</td>\n",
       "      <td>0</td>\n",
       "      <td>0</td>\n",
       "      <td>0</td>\n",
       "      <td>0</td>\n",
       "      <td>0</td>\n",
       "      <td>0</td>\n",
       "      <td>0</td>\n",
       "      <td>0</td>\n",
       "      <td>0</td>\n",
       "      <td>0</td>\n",
       "      <td>0</td>\n",
       "      <td>NaN</td>\n",
       "      <td>NaN</td>\n",
       "      <td>NaN</td>\n",
       "      <td>(None, 96, 96, 3)</td>\n",
       "      <td>1</td>\n",
       "      <td>1</td>\n",
       "      <td>96</td>\n",
       "      <td>96</td>\n",
       "      <td>3</td>\n",
       "      <td>1</td>\n",
       "      <td>1</td>\n",
       "      <td>1</td>\n",
       "      <td>1</td>\n",
       "      <td>(None, 96, 96, 3)</td>\n",
       "      <td>1</td>\n",
       "      <td>96</td>\n",
       "      <td>96</td>\n",
       "      <td>3</td>\n",
       "      <td>27648</td>\n",
       "      <td>27648</td>\n",
       "      <td>0</td>\n",
       "      <td>55296</td>\n",
       "      <td>0</td>\n",
       "      <td>0</td>\n",
       "      <td>0</td>\n",
       "    </tr>\n",
       "    <tr>\n",
       "      <th>1</th>\n",
       "      <td>1</td>\n",
       "      <td>conv2d_33</td>\n",
       "      <td>&lt;class 'keras.layers.convolutional.conv2d.Conv...</td>\n",
       "      <td>(None, 96, 96, 3)</td>\n",
       "      <td>KerasTensor(type_spec=TensorSpec(shape=(None, ...</td>\n",
       "      <td>input_2</td>\n",
       "      <td>(None, 48, 48, 24)</td>\n",
       "      <td>float32</td>\n",
       "      <td>672</td>\n",
       "      <td>2</td>\n",
       "      <td>(3, 3, 3, 24)</td>\n",
       "      <td>conv2d_33/kernel:0</td>\n",
       "      <td>&lt;dtype: 'float32'&gt;</td>\n",
       "      <td>NaN</td>\n",
       "      <td>3041280</td>\n",
       "      <td>1492992</td>\n",
       "      <td>24</td>\n",
       "      <td>True</td>\n",
       "      <td>(3, 3)</td>\n",
       "      <td>(2, 2)</td>\n",
       "      <td>same</td>\n",
       "      <td>(1, 1)</td>\n",
       "      <td>1</td>\n",
       "      <td>linear</td>\n",
       "      <td>True</td>\n",
       "      <td>channels_last</td>\n",
       "      <td>NaN</td>\n",
       "      <td>NaN</td>\n",
       "      <td>NaN</td>\n",
       "      <td>(None, 96, 96, 3)</td>\n",
       "      <td>1</td>\n",
       "      <td>1</td>\n",
       "      <td>96</td>\n",
       "      <td>96</td>\n",
       "      <td>3</td>\n",
       "      <td>1</td>\n",
       "      <td>1</td>\n",
       "      <td>1</td>\n",
       "      <td>1</td>\n",
       "      <td>(None, 48, 48, 24)</td>\n",
       "      <td>1</td>\n",
       "      <td>48</td>\n",
       "      <td>48</td>\n",
       "      <td>24</td>\n",
       "      <td>27648</td>\n",
       "      <td>55296</td>\n",
       "      <td>0</td>\n",
       "      <td>82944</td>\n",
       "      <td>672</td>\n",
       "      <td>1492992</td>\n",
       "      <td>3041280</td>\n",
       "    </tr>\n",
       "    <tr>\n",
       "      <th>2</th>\n",
       "      <td>2</td>\n",
       "      <td>batch_normalization_49</td>\n",
       "      <td>&lt;class 'keras.layers.normalization.batch_norma...</td>\n",
       "      <td>(None, 48, 48, 24)</td>\n",
       "      <td>KerasTensor(type_spec=TensorSpec(shape=(None, ...</td>\n",
       "      <td>conv2d_33/BiasAdd:0</td>\n",
       "      <td>(None, 48, 48, 24)</td>\n",
       "      <td>float32</td>\n",
       "      <td>96</td>\n",
       "      <td>4</td>\n",
       "      <td>(24)</td>\n",
       "      <td>batch_normalization_49/gamma:0</td>\n",
       "      <td>&lt;dtype: 'float32'&gt;</td>\n",
       "      <td>NaN</td>\n",
       "      <td>0</td>\n",
       "      <td>0</td>\n",
       "      <td>0</td>\n",
       "      <td>0</td>\n",
       "      <td>0</td>\n",
       "      <td>0</td>\n",
       "      <td>0</td>\n",
       "      <td>0</td>\n",
       "      <td>0</td>\n",
       "      <td>0</td>\n",
       "      <td>0</td>\n",
       "      <td>0</td>\n",
       "      <td>NaN</td>\n",
       "      <td>NaN</td>\n",
       "      <td>NaN</td>\n",
       "      <td>(None, 48, 48, 24)</td>\n",
       "      <td>1</td>\n",
       "      <td>1</td>\n",
       "      <td>48</td>\n",
       "      <td>48</td>\n",
       "      <td>24</td>\n",
       "      <td>1</td>\n",
       "      <td>1</td>\n",
       "      <td>1</td>\n",
       "      <td>1</td>\n",
       "      <td>(None, 48, 48, 24)</td>\n",
       "      <td>1</td>\n",
       "      <td>48</td>\n",
       "      <td>48</td>\n",
       "      <td>24</td>\n",
       "      <td>55296</td>\n",
       "      <td>55296</td>\n",
       "      <td>0</td>\n",
       "      <td>110592</td>\n",
       "      <td>768</td>\n",
       "      <td>1492992</td>\n",
       "      <td>3041280</td>\n",
       "    </tr>\n",
       "    <tr>\n",
       "      <th>3</th>\n",
       "      <td>3</td>\n",
       "      <td>re_lu_33</td>\n",
       "      <td>&lt;class 'keras.layers.activation.relu.ReLU'&gt;</td>\n",
       "      <td>(None, 48, 48, 24)</td>\n",
       "      <td>KerasTensor(type_spec=TensorSpec(shape=(None, ...</td>\n",
       "      <td>batch_normalization_49/FusedBatchNormV3:0</td>\n",
       "      <td>(None, 48, 48, 24)</td>\n",
       "      <td>float32</td>\n",
       "      <td>0</td>\n",
       "      <td>0</td>\n",
       "      <td>0</td>\n",
       "      <td>0</td>\n",
       "      <td>0</td>\n",
       "      <td>0.0</td>\n",
       "      <td>0</td>\n",
       "      <td>0</td>\n",
       "      <td>0</td>\n",
       "      <td>0</td>\n",
       "      <td>0</td>\n",
       "      <td>0</td>\n",
       "      <td>0</td>\n",
       "      <td>0</td>\n",
       "      <td>0</td>\n",
       "      <td>0</td>\n",
       "      <td>0</td>\n",
       "      <td>0</td>\n",
       "      <td>NaN</td>\n",
       "      <td>NaN</td>\n",
       "      <td>NaN</td>\n",
       "      <td>(None, 48, 48, 24)</td>\n",
       "      <td>1</td>\n",
       "      <td>1</td>\n",
       "      <td>48</td>\n",
       "      <td>48</td>\n",
       "      <td>24</td>\n",
       "      <td>1</td>\n",
       "      <td>1</td>\n",
       "      <td>1</td>\n",
       "      <td>1</td>\n",
       "      <td>(None, 48, 48, 24)</td>\n",
       "      <td>1</td>\n",
       "      <td>48</td>\n",
       "      <td>48</td>\n",
       "      <td>24</td>\n",
       "      <td>55296</td>\n",
       "      <td>55296</td>\n",
       "      <td>0</td>\n",
       "      <td>110592</td>\n",
       "      <td>768</td>\n",
       "      <td>1492992</td>\n",
       "      <td>3041280</td>\n",
       "    </tr>\n",
       "    <tr>\n",
       "      <th>4</th>\n",
       "      <td>4</td>\n",
       "      <td>max_pooling2d_1</td>\n",
       "      <td>&lt;class 'keras.layers.pooling.max_pooling2d.Max...</td>\n",
       "      <td>(None, 48, 48, 24)</td>\n",
       "      <td>KerasTensor(type_spec=TensorSpec(shape=(None, ...</td>\n",
       "      <td>re_lu_33/Relu:0</td>\n",
       "      <td>(None, 24, 24, 24)</td>\n",
       "      <td>float32</td>\n",
       "      <td>0</td>\n",
       "      <td>0</td>\n",
       "      <td>0</td>\n",
       "      <td>0</td>\n",
       "      <td>0</td>\n",
       "      <td>0.0</td>\n",
       "      <td>0</td>\n",
       "      <td>0</td>\n",
       "      <td>0</td>\n",
       "      <td>0</td>\n",
       "      <td>0</td>\n",
       "      <td>0</td>\n",
       "      <td>0</td>\n",
       "      <td>0</td>\n",
       "      <td>0</td>\n",
       "      <td>0</td>\n",
       "      <td>0</td>\n",
       "      <td>0</td>\n",
       "      <td>NaN</td>\n",
       "      <td>NaN</td>\n",
       "      <td>NaN</td>\n",
       "      <td>(None, 48, 48, 24)</td>\n",
       "      <td>1</td>\n",
       "      <td>1</td>\n",
       "      <td>48</td>\n",
       "      <td>48</td>\n",
       "      <td>24</td>\n",
       "      <td>1</td>\n",
       "      <td>1</td>\n",
       "      <td>1</td>\n",
       "      <td>1</td>\n",
       "      <td>(None, 24, 24, 24)</td>\n",
       "      <td>1</td>\n",
       "      <td>24</td>\n",
       "      <td>24</td>\n",
       "      <td>24</td>\n",
       "      <td>55296</td>\n",
       "      <td>13824</td>\n",
       "      <td>0</td>\n",
       "      <td>69120</td>\n",
       "      <td>768</td>\n",
       "      <td>1492992</td>\n",
       "      <td>3041280</td>\n",
       "    </tr>\n",
       "    <tr>\n",
       "      <th>5</th>\n",
       "      <td>5</td>\n",
       "      <td>conv2d_34</td>\n",
       "      <td>&lt;class 'keras.layers.convolutional.conv2d.Conv...</td>\n",
       "      <td>(None, 24, 24, 24)</td>\n",
       "      <td>KerasTensor(type_spec=TensorSpec(shape=(None, ...</td>\n",
       "      <td>max_pooling2d_1/MaxPool:0</td>\n",
       "      <td>(None, 24, 24, 50)</td>\n",
       "      <td>float32</td>\n",
       "      <td>650</td>\n",
       "      <td>2</td>\n",
       "      <td>(1, 1, 12, 50)</td>\n",
       "      <td>conv2d_34/kernel:0</td>\n",
       "      <td>&lt;dtype: 'float32'&gt;</td>\n",
       "      <td>NaN</td>\n",
       "      <td>1411200</td>\n",
       "      <td>691200</td>\n",
       "      <td>50</td>\n",
       "      <td>True</td>\n",
       "      <td>(1, 1)</td>\n",
       "      <td>(1, 1)</td>\n",
       "      <td>same</td>\n",
       "      <td>(1, 1)</td>\n",
       "      <td>2</td>\n",
       "      <td>linear</td>\n",
       "      <td>True</td>\n",
       "      <td>channels_last</td>\n",
       "      <td>NaN</td>\n",
       "      <td>NaN</td>\n",
       "      <td>NaN</td>\n",
       "      <td>(None, 24, 24, 24)</td>\n",
       "      <td>1</td>\n",
       "      <td>1</td>\n",
       "      <td>24</td>\n",
       "      <td>24</td>\n",
       "      <td>24</td>\n",
       "      <td>1</td>\n",
       "      <td>1</td>\n",
       "      <td>1</td>\n",
       "      <td>1</td>\n",
       "      <td>(None, 24, 24, 50)</td>\n",
       "      <td>1</td>\n",
       "      <td>24</td>\n",
       "      <td>24</td>\n",
       "      <td>50</td>\n",
       "      <td>13824</td>\n",
       "      <td>28800</td>\n",
       "      <td>0</td>\n",
       "      <td>42624</td>\n",
       "      <td>1418</td>\n",
       "      <td>2184192</td>\n",
       "      <td>4452480</td>\n",
       "    </tr>\n",
       "    <tr>\n",
       "      <th>6</th>\n",
       "      <td>6</td>\n",
       "      <td>batch_normalization_50</td>\n",
       "      <td>&lt;class 'keras.layers.normalization.batch_norma...</td>\n",
       "      <td>(None, 24, 24, 50)</td>\n",
       "      <td>KerasTensor(type_spec=TensorSpec(shape=(None, ...</td>\n",
       "      <td>conv2d_34/BiasAdd:0</td>\n",
       "      <td>(None, 24, 24, 50)</td>\n",
       "      <td>float32</td>\n",
       "      <td>200</td>\n",
       "      <td>4</td>\n",
       "      <td>(50)</td>\n",
       "      <td>batch_normalization_50/gamma:0</td>\n",
       "      <td>&lt;dtype: 'float32'&gt;</td>\n",
       "      <td>NaN</td>\n",
       "      <td>0</td>\n",
       "      <td>0</td>\n",
       "      <td>0</td>\n",
       "      <td>0</td>\n",
       "      <td>0</td>\n",
       "      <td>0</td>\n",
       "      <td>0</td>\n",
       "      <td>0</td>\n",
       "      <td>0</td>\n",
       "      <td>0</td>\n",
       "      <td>0</td>\n",
       "      <td>0</td>\n",
       "      <td>NaN</td>\n",
       "      <td>NaN</td>\n",
       "      <td>NaN</td>\n",
       "      <td>(None, 24, 24, 50)</td>\n",
       "      <td>1</td>\n",
       "      <td>1</td>\n",
       "      <td>24</td>\n",
       "      <td>24</td>\n",
       "      <td>50</td>\n",
       "      <td>1</td>\n",
       "      <td>1</td>\n",
       "      <td>1</td>\n",
       "      <td>1</td>\n",
       "      <td>(None, 24, 24, 50)</td>\n",
       "      <td>1</td>\n",
       "      <td>24</td>\n",
       "      <td>24</td>\n",
       "      <td>50</td>\n",
       "      <td>28800</td>\n",
       "      <td>28800</td>\n",
       "      <td>0</td>\n",
       "      <td>57600</td>\n",
       "      <td>1618</td>\n",
       "      <td>2184192</td>\n",
       "      <td>4452480</td>\n",
       "    </tr>\n",
       "    <tr>\n",
       "      <th>7</th>\n",
       "      <td>7</td>\n",
       "      <td>re_lu_34</td>\n",
       "      <td>&lt;class 'keras.layers.activation.relu.ReLU'&gt;</td>\n",
       "      <td>(None, 24, 24, 50)</td>\n",
       "      <td>KerasTensor(type_spec=TensorSpec(shape=(None, ...</td>\n",
       "      <td>batch_normalization_50/FusedBatchNormV3:0</td>\n",
       "      <td>(None, 24, 24, 50)</td>\n",
       "      <td>float32</td>\n",
       "      <td>0</td>\n",
       "      <td>0</td>\n",
       "      <td>0</td>\n",
       "      <td>0</td>\n",
       "      <td>0</td>\n",
       "      <td>0.0</td>\n",
       "      <td>0</td>\n",
       "      <td>0</td>\n",
       "      <td>0</td>\n",
       "      <td>0</td>\n",
       "      <td>0</td>\n",
       "      <td>0</td>\n",
       "      <td>0</td>\n",
       "      <td>0</td>\n",
       "      <td>0</td>\n",
       "      <td>0</td>\n",
       "      <td>0</td>\n",
       "      <td>0</td>\n",
       "      <td>NaN</td>\n",
       "      <td>NaN</td>\n",
       "      <td>NaN</td>\n",
       "      <td>(None, 24, 24, 50)</td>\n",
       "      <td>1</td>\n",
       "      <td>1</td>\n",
       "      <td>24</td>\n",
       "      <td>24</td>\n",
       "      <td>50</td>\n",
       "      <td>1</td>\n",
       "      <td>1</td>\n",
       "      <td>1</td>\n",
       "      <td>1</td>\n",
       "      <td>(None, 24, 24, 50)</td>\n",
       "      <td>1</td>\n",
       "      <td>24</td>\n",
       "      <td>24</td>\n",
       "      <td>50</td>\n",
       "      <td>28800</td>\n",
       "      <td>28800</td>\n",
       "      <td>0</td>\n",
       "      <td>57600</td>\n",
       "      <td>1618</td>\n",
       "      <td>2184192</td>\n",
       "      <td>4452480</td>\n",
       "    </tr>\n",
       "    <tr>\n",
       "      <th>8</th>\n",
       "      <td>8</td>\n",
       "      <td>reshape_32</td>\n",
       "      <td>&lt;class 'keras.layers.reshaping.reshape.Reshape'&gt;</td>\n",
       "      <td>(None, 24, 24, 50)</td>\n",
       "      <td>KerasTensor(type_spec=TensorSpec(shape=(None, ...</td>\n",
       "      <td>re_lu_34/Relu:0</td>\n",
       "      <td>(None, 24, 24, 25, 2)</td>\n",
       "      <td>float32</td>\n",
       "      <td>0</td>\n",
       "      <td>0</td>\n",
       "      <td>0</td>\n",
       "      <td>0</td>\n",
       "      <td>0</td>\n",
       "      <td>0.0</td>\n",
       "      <td>0</td>\n",
       "      <td>0</td>\n",
       "      <td>0</td>\n",
       "      <td>0</td>\n",
       "      <td>0</td>\n",
       "      <td>0</td>\n",
       "      <td>0</td>\n",
       "      <td>0</td>\n",
       "      <td>0</td>\n",
       "      <td>0</td>\n",
       "      <td>0</td>\n",
       "      <td>0</td>\n",
       "      <td>NaN</td>\n",
       "      <td>NaN</td>\n",
       "      <td>NaN</td>\n",
       "      <td>(None, 24, 24, 50)</td>\n",
       "      <td>1</td>\n",
       "      <td>1</td>\n",
       "      <td>24</td>\n",
       "      <td>24</td>\n",
       "      <td>50</td>\n",
       "      <td>1</td>\n",
       "      <td>1</td>\n",
       "      <td>1</td>\n",
       "      <td>1</td>\n",
       "      <td>(None, 24, 24, 25, 2)</td>\n",
       "      <td>1</td>\n",
       "      <td>1</td>\n",
       "      <td>1</td>\n",
       "      <td>2</td>\n",
       "      <td>28800</td>\n",
       "      <td>2</td>\n",
       "      <td>0</td>\n",
       "      <td>28802</td>\n",
       "      <td>1618</td>\n",
       "      <td>2184192</td>\n",
       "      <td>4452480</td>\n",
       "    </tr>\n",
       "    <tr>\n",
       "      <th>9</th>\n",
       "      <td>9</td>\n",
       "      <td>permute_16</td>\n",
       "      <td>&lt;class 'keras.layers.reshaping.permute.Permute'&gt;</td>\n",
       "      <td>(None, 24, 24, 25, 2)</td>\n",
       "      <td>KerasTensor(type_spec=TensorSpec(shape=(None, ...</td>\n",
       "      <td>reshape_32/Reshape:0</td>\n",
       "      <td>(None, 24, 24, 2, 25)</td>\n",
       "      <td>float32</td>\n",
       "      <td>0</td>\n",
       "      <td>0</td>\n",
       "      <td>0</td>\n",
       "      <td>0</td>\n",
       "      <td>0</td>\n",
       "      <td>0.0</td>\n",
       "      <td>0</td>\n",
       "      <td>0</td>\n",
       "      <td>0</td>\n",
       "      <td>0</td>\n",
       "      <td>0</td>\n",
       "      <td>0</td>\n",
       "      <td>0</td>\n",
       "      <td>0</td>\n",
       "      <td>0</td>\n",
       "      <td>0</td>\n",
       "      <td>0</td>\n",
       "      <td>0</td>\n",
       "      <td>NaN</td>\n",
       "      <td>NaN</td>\n",
       "      <td>NaN</td>\n",
       "      <td>(None, 24, 24, 25, 2)</td>\n",
       "      <td>1</td>\n",
       "      <td>1</td>\n",
       "      <td>1</td>\n",
       "      <td>1</td>\n",
       "      <td>2</td>\n",
       "      <td>1</td>\n",
       "      <td>1</td>\n",
       "      <td>1</td>\n",
       "      <td>1</td>\n",
       "      <td>(None, 24, 24, 2, 25)</td>\n",
       "      <td>1</td>\n",
       "      <td>1</td>\n",
       "      <td>1</td>\n",
       "      <td>25</td>\n",
       "      <td>2</td>\n",
       "      <td>25</td>\n",
       "      <td>0</td>\n",
       "      <td>27</td>\n",
       "      <td>1618</td>\n",
       "      <td>2184192</td>\n",
       "      <td>4452480</td>\n",
       "    </tr>\n",
       "    <tr>\n",
       "      <th>10</th>\n",
       "      <td>10</td>\n",
       "      <td>reshape_33</td>\n",
       "      <td>&lt;class 'keras.layers.reshaping.reshape.Reshape'&gt;</td>\n",
       "      <td>(None, 24, 24, 2, 25)</td>\n",
       "      <td>KerasTensor(type_spec=TensorSpec(shape=(None, ...</td>\n",
       "      <td>permute_16/transpose:0</td>\n",
       "      <td>(None, 24, 24, 50)</td>\n",
       "      <td>float32</td>\n",
       "      <td>0</td>\n",
       "      <td>0</td>\n",
       "      <td>0</td>\n",
       "      <td>0</td>\n",
       "      <td>0</td>\n",
       "      <td>0.0</td>\n",
       "      <td>0</td>\n",
       "      <td>0</td>\n",
       "      <td>0</td>\n",
       "      <td>0</td>\n",
       "      <td>0</td>\n",
       "      <td>0</td>\n",
       "      <td>0</td>\n",
       "      <td>0</td>\n",
       "      <td>0</td>\n",
       "      <td>0</td>\n",
       "      <td>0</td>\n",
       "      <td>0</td>\n",
       "      <td>NaN</td>\n",
       "      <td>NaN</td>\n",
       "      <td>NaN</td>\n",
       "      <td>(None, 24, 24, 2, 25)</td>\n",
       "      <td>1</td>\n",
       "      <td>1</td>\n",
       "      <td>1</td>\n",
       "      <td>1</td>\n",
       "      <td>25</td>\n",
       "      <td>1</td>\n",
       "      <td>1</td>\n",
       "      <td>1</td>\n",
       "      <td>1</td>\n",
       "      <td>(None, 24, 24, 50)</td>\n",
       "      <td>1</td>\n",
       "      <td>24</td>\n",
       "      <td>24</td>\n",
       "      <td>50</td>\n",
       "      <td>25</td>\n",
       "      <td>28800</td>\n",
       "      <td>0</td>\n",
       "      <td>28825</td>\n",
       "      <td>1618</td>\n",
       "      <td>2184192</td>\n",
       "      <td>4452480</td>\n",
       "    </tr>\n",
       "    <tr>\n",
       "      <th>11</th>\n",
       "      <td>11</td>\n",
       "      <td>depthwise_conv2d_16</td>\n",
       "      <td>&lt;class 'keras.layers.convolutional.depthwise_c...</td>\n",
       "      <td>(None, 24, 24, 50)</td>\n",
       "      <td>KerasTensor(type_spec=TensorSpec(shape=(None, ...</td>\n",
       "      <td>reshape_33/Reshape:0</td>\n",
       "      <td>(None, 12, 12, 50)</td>\n",
       "      <td>float32</td>\n",
       "      <td>500</td>\n",
       "      <td>2</td>\n",
       "      <td>(3, 3, 50, 1)</td>\n",
       "      <td>depthwise_conv2d_16/depthwise_kernel:0</td>\n",
       "      <td>&lt;dtype: 'float32'&gt;</td>\n",
       "      <td>NaN</td>\n",
       "      <td>136800</td>\n",
       "      <td>64800</td>\n",
       "      <td>0</td>\n",
       "      <td>True</td>\n",
       "      <td>(3, 3)</td>\n",
       "      <td>(2, 2)</td>\n",
       "      <td>same</td>\n",
       "      <td>(1, 1)</td>\n",
       "      <td>1</td>\n",
       "      <td>linear</td>\n",
       "      <td>True</td>\n",
       "      <td>channels_last</td>\n",
       "      <td>NaN</td>\n",
       "      <td>NaN</td>\n",
       "      <td>NaN</td>\n",
       "      <td>(None, 24, 24, 50)</td>\n",
       "      <td>1</td>\n",
       "      <td>1</td>\n",
       "      <td>24</td>\n",
       "      <td>24</td>\n",
       "      <td>50</td>\n",
       "      <td>1</td>\n",
       "      <td>1</td>\n",
       "      <td>1</td>\n",
       "      <td>1</td>\n",
       "      <td>(None, 12, 12, 50)</td>\n",
       "      <td>1</td>\n",
       "      <td>12</td>\n",
       "      <td>12</td>\n",
       "      <td>50</td>\n",
       "      <td>28800</td>\n",
       "      <td>7200</td>\n",
       "      <td>0</td>\n",
       "      <td>36000</td>\n",
       "      <td>2118</td>\n",
       "      <td>2248992</td>\n",
       "      <td>4589280</td>\n",
       "    </tr>\n",
       "  </tbody>\n",
       "</table>\n",
       "</div>"
      ],
      "text/plain": [
       "    index                    name  \\\n",
       "0       0                 input_2   \n",
       "1       1               conv2d_33   \n",
       "2       2  batch_normalization_49   \n",
       "3       3                re_lu_33   \n",
       "4       4         max_pooling2d_1   \n",
       "5       5               conv2d_34   \n",
       "6       6  batch_normalization_50   \n",
       "7       7                re_lu_34   \n",
       "8       8              reshape_32   \n",
       "9       9              permute_16   \n",
       "10     10              reshape_33   \n",
       "11     11     depthwise_conv2d_16   \n",
       "\n",
       "                                           layer_type            input_shape  \\\n",
       "0       <class 'keras.engine.input_layer.InputLayer'>      (None, 96, 96, 3)   \n",
       "1   <class 'keras.layers.convolutional.conv2d.Conv...      (None, 96, 96, 3)   \n",
       "2   <class 'keras.layers.normalization.batch_norma...     (None, 48, 48, 24)   \n",
       "3         <class 'keras.layers.activation.relu.ReLU'>     (None, 48, 48, 24)   \n",
       "4   <class 'keras.layers.pooling.max_pooling2d.Max...     (None, 48, 48, 24)   \n",
       "5   <class 'keras.layers.convolutional.conv2d.Conv...     (None, 24, 24, 24)   \n",
       "6   <class 'keras.layers.normalization.batch_norma...     (None, 24, 24, 50)   \n",
       "7         <class 'keras.layers.activation.relu.ReLU'>     (None, 24, 24, 50)   \n",
       "8    <class 'keras.layers.reshaping.reshape.Reshape'>     (None, 24, 24, 50)   \n",
       "9    <class 'keras.layers.reshaping.permute.Permute'>  (None, 24, 24, 25, 2)   \n",
       "10   <class 'keras.layers.reshaping.reshape.Reshape'>  (None, 24, 24, 2, 25)   \n",
       "11  <class 'keras.layers.convolutional.depthwise_c...     (None, 24, 24, 50)   \n",
       "\n",
       "                                                input  \\\n",
       "0   KerasTensor(type_spec=TensorSpec(shape=(None, ...   \n",
       "1   KerasTensor(type_spec=TensorSpec(shape=(None, ...   \n",
       "2   KerasTensor(type_spec=TensorSpec(shape=(None, ...   \n",
       "3   KerasTensor(type_spec=TensorSpec(shape=(None, ...   \n",
       "4   KerasTensor(type_spec=TensorSpec(shape=(None, ...   \n",
       "5   KerasTensor(type_spec=TensorSpec(shape=(None, ...   \n",
       "6   KerasTensor(type_spec=TensorSpec(shape=(None, ...   \n",
       "7   KerasTensor(type_spec=TensorSpec(shape=(None, ...   \n",
       "8   KerasTensor(type_spec=TensorSpec(shape=(None, ...   \n",
       "9   KerasTensor(type_spec=TensorSpec(shape=(None, ...   \n",
       "10  KerasTensor(type_spec=TensorSpec(shape=(None, ...   \n",
       "11  KerasTensor(type_spec=TensorSpec(shape=(None, ...   \n",
       "\n",
       "                                 input_node_1           output_shape    dtype  \\\n",
       "0                                     input_2      (None, 96, 96, 3)  float32   \n",
       "1                                     input_2     (None, 48, 48, 24)  float32   \n",
       "2                         conv2d_33/BiasAdd:0     (None, 48, 48, 24)  float32   \n",
       "3   batch_normalization_49/FusedBatchNormV3:0     (None, 48, 48, 24)  float32   \n",
       "4                             re_lu_33/Relu:0     (None, 24, 24, 24)  float32   \n",
       "5                   max_pooling2d_1/MaxPool:0     (None, 24, 24, 50)  float32   \n",
       "6                         conv2d_34/BiasAdd:0     (None, 24, 24, 50)  float32   \n",
       "7   batch_normalization_50/FusedBatchNormV3:0     (None, 24, 24, 50)  float32   \n",
       "8                             re_lu_34/Relu:0  (None, 24, 24, 25, 2)  float32   \n",
       "9                        reshape_32/Reshape:0  (None, 24, 24, 2, 25)  float32   \n",
       "10                     permute_16/transpose:0     (None, 24, 24, 50)  float32   \n",
       "11                       reshape_33/Reshape:0     (None, 12, 12, 50)  float32   \n",
       "\n",
       "    params  variables   weights_shape                            weights_name  \\\n",
       "0        0          0               0                                       0   \n",
       "1      672          2   (3, 3, 3, 24)                      conv2d_33/kernel:0   \n",
       "2       96          4            (24)          batch_normalization_49/gamma:0   \n",
       "3        0          0               0                                       0   \n",
       "4        0          0               0                                       0   \n",
       "5      650          2  (1, 1, 12, 50)                      conv2d_34/kernel:0   \n",
       "6      200          4            (50)          batch_normalization_50/gamma:0   \n",
       "7        0          0               0                                       0   \n",
       "8        0          0               0                                       0   \n",
       "9        0          0               0                                       0   \n",
       "10       0          0               0                                       0   \n",
       "11     500          2   (3, 3, 50, 1)  depthwise_conv2d_16/depthwise_kernel:0   \n",
       "\n",
       "         weights_dtype  #_activations      OPS     MACS  filters trainable  \\\n",
       "0                    0            0.0        0        0        0         0   \n",
       "1   <dtype: 'float32'>            NaN  3041280  1492992       24      True   \n",
       "2   <dtype: 'float32'>            NaN        0        0        0         0   \n",
       "3                    0            0.0        0        0        0         0   \n",
       "4                    0            0.0        0        0        0         0   \n",
       "5   <dtype: 'float32'>            NaN  1411200   691200       50      True   \n",
       "6   <dtype: 'float32'>            NaN        0        0        0         0   \n",
       "7                    0            0.0        0        0        0         0   \n",
       "8                    0            0.0        0        0        0         0   \n",
       "9                    0            0.0        0        0        0         0   \n",
       "10                   0            0.0        0        0        0         0   \n",
       "11  <dtype: 'float32'>            NaN   136800    64800        0      True   \n",
       "\n",
       "   kernel_size strides padding dilation_rate  groups activation use_bias  \\\n",
       "0            0       0       0             0       0          0        0   \n",
       "1       (3, 3)  (2, 2)    same        (1, 1)       1     linear     True   \n",
       "2            0       0       0             0       0          0        0   \n",
       "3            0       0       0             0       0          0        0   \n",
       "4            0       0       0             0       0          0        0   \n",
       "5       (1, 1)  (1, 1)    same        (1, 1)       2     linear     True   \n",
       "6            0       0       0             0       0          0        0   \n",
       "7            0       0       0             0       0          0        0   \n",
       "8            0       0       0             0       0          0        0   \n",
       "9            0       0       0             0       0          0        0   \n",
       "10           0       0       0             0       0          0        0   \n",
       "11      (3, 3)  (2, 2)    same        (1, 1)       1     linear     True   \n",
       "\n",
       "      data_format input_node_type_1 input_node_2 input_node_type_2  \\\n",
       "0               0               NaN          NaN               NaN   \n",
       "1   channels_last               NaN          NaN               NaN   \n",
       "2               0               NaN          NaN               NaN   \n",
       "3               0               NaN          NaN               NaN   \n",
       "4               0               NaN          NaN               NaN   \n",
       "5   channels_last               NaN          NaN               NaN   \n",
       "6               0               NaN          NaN               NaN   \n",
       "7               0               NaN          NaN               NaN   \n",
       "8               0               NaN          NaN               NaN   \n",
       "9               0               NaN          NaN               NaN   \n",
       "10              0               NaN          NaN               NaN   \n",
       "11  channels_last               NaN          NaN               NaN   \n",
       "\n",
       "                  input_1 input_2  b_i_1  h_i_1  w_i_1  c_i_1  b_i_2  h_i_2  \\\n",
       "0       (None, 96, 96, 3)       1      1     96     96      3      1      1   \n",
       "1       (None, 96, 96, 3)       1      1     96     96      3      1      1   \n",
       "2      (None, 48, 48, 24)       1      1     48     48     24      1      1   \n",
       "3      (None, 48, 48, 24)       1      1     48     48     24      1      1   \n",
       "4      (None, 48, 48, 24)       1      1     48     48     24      1      1   \n",
       "5      (None, 24, 24, 24)       1      1     24     24     24      1      1   \n",
       "6      (None, 24, 24, 50)       1      1     24     24     50      1      1   \n",
       "7      (None, 24, 24, 50)       1      1     24     24     50      1      1   \n",
       "8      (None, 24, 24, 50)       1      1     24     24     50      1      1   \n",
       "9   (None, 24, 24, 25, 2)       1      1      1      1      2      1      1   \n",
       "10  (None, 24, 24, 2, 25)       1      1      1      1     25      1      1   \n",
       "11     (None, 24, 24, 50)       1      1     24     24     50      1      1   \n",
       "\n",
       "    w_i_2  c_i_2               output_1  b_o_1  h_o_1  w_o_1  c_o_1  \\\n",
       "0       1      1      (None, 96, 96, 3)      1     96     96      3   \n",
       "1       1      1     (None, 48, 48, 24)      1     48     48     24   \n",
       "2       1      1     (None, 48, 48, 24)      1     48     48     24   \n",
       "3       1      1     (None, 48, 48, 24)      1     48     48     24   \n",
       "4       1      1     (None, 24, 24, 24)      1     24     24     24   \n",
       "5       1      1     (None, 24, 24, 50)      1     24     24     50   \n",
       "6       1      1     (None, 24, 24, 50)      1     24     24     50   \n",
       "7       1      1     (None, 24, 24, 50)      1     24     24     50   \n",
       "8       1      1  (None, 24, 24, 25, 2)      1      1      1      2   \n",
       "9       1      1  (None, 24, 24, 2, 25)      1      1      1     25   \n",
       "10      1      1     (None, 24, 24, 50)      1     24     24     50   \n",
       "11      1      1     (None, 12, 12, 50)      1     12     12     50   \n",
       "\n",
       "    #i_1_activations  #o_1_activations  #i_2_activations  peak_activations  \\\n",
       "0              27648             27648                 0             55296   \n",
       "1              27648             55296                 0             82944   \n",
       "2              55296             55296                 0            110592   \n",
       "3              55296             55296                 0            110592   \n",
       "4              55296             13824                 0             69120   \n",
       "5              13824             28800                 0             42624   \n",
       "6              28800             28800                 0             57600   \n",
       "7              28800             28800                 0             57600   \n",
       "8              28800                 2                 0             28802   \n",
       "9                  2                25                 0                27   \n",
       "10                25             28800                 0             28825   \n",
       "11             28800              7200                 0             36000   \n",
       "\n",
       "    total_params  total_MACs  total_OPS  \n",
       "0              0           0          0  \n",
       "1            672     1492992    3041280  \n",
       "2            768     1492992    3041280  \n",
       "3            768     1492992    3041280  \n",
       "4            768     1492992    3041280  \n",
       "5           1418     2184192    4452480  \n",
       "6           1618     2184192    4452480  \n",
       "7           1618     2184192    4452480  \n",
       "8           1618     2184192    4452480  \n",
       "9           1618     2184192    4452480  \n",
       "10          1618     2184192    4452480  \n",
       "11          2118     2248992    4589280  "
      ]
     },
     "execution_count": 58,
     "metadata": {},
     "output_type": "execute_result"
    }
   ],
   "source": [
    "df.head(12)"
   ]
  },
  {
   "cell_type": "code",
   "execution_count": 59,
   "metadata": {},
   "outputs": [
    {
     "data": {
      "text/plain": [
       "array(['(None, 96, 96, 3)', '(None, 48, 48, 24)', '(None, 24, 24, 24)',\n",
       "       '(None, 24, 24, 50)', '(None, 24, 24, 25, 2)',\n",
       "       '(None, 24, 24, 2, 25)', '(None, 12, 12, 50)',\n",
       "       '(None, 12, 12, 176)', '(None, 12, 12, 176)* (None, 12, 12, 24)',\n",
       "       '(None, 12, 12, 200)', '(None, 12, 12, 25, 2)',\n",
       "       '(None, 12, 12, 2, 25)',\n",
       "       '(None, 12, 12, 200)* (None, 12, 12, 200)', '(None, 12, 12, 100)',\n",
       "       '(None, 12, 12, 50, 2)', '(None, 12, 12, 2, 50)',\n",
       "       '(None, 6, 6, 100)', '(None, 6, 6, 200)',\n",
       "       '(None, 6, 6, 200)* (None, 6, 6, 200)', '(None, 6, 6, 400)',\n",
       "       '(None, 6, 6, 50, 2)', '(None, 6, 6, 2, 50)',\n",
       "       '(None, 6, 6, 400)* (None, 6, 6, 400)', '(None, 6, 6, 100, 2)',\n",
       "       '(None, 6, 6, 2, 100)', '(None, 3, 3, 200)', '(None, 3, 3, 400)',\n",
       "       '(None, 3, 3, 400)* (None, 3, 3, 400)', '(None, 3, 3, 800)',\n",
       "       '(None, 3, 3, 100, 2)', '(None, 3, 3, 2, 100)',\n",
       "       '(None, 3, 3, 800)* (None, 3, 3, 800)', '(None, 800)'],\n",
       "      dtype=object)"
      ]
     },
     "execution_count": 59,
     "metadata": {},
     "output_type": "execute_result"
    }
   ],
   "source": [
    "df[\"input_shape\"].unique()"
   ]
  },
  {
   "attachments": {},
   "cell_type": "markdown",
   "metadata": {},
   "source": [
    "# Working with Activations"
   ]
  },
  {
   "cell_type": "code",
   "execution_count": 60,
   "metadata": {},
   "outputs": [],
   "source": [
    "# unique_values = get_unique_values_without_nan(df, \"input_node_0\")\n",
    "# unique_values"
   ]
  },
  {
   "cell_type": "code",
   "execution_count": 61,
   "metadata": {},
   "outputs": [],
   "source": [
    "\n",
    "# # fill activations from start node to end node\n",
    "\n",
    "# for item in unique_values:\n",
    "#     first_idx = df.loc[df[\"name\"] == item].index[0]\n",
    "#     last_idx = df.loc[df[\"input_node_0\"] == item].index[0]\n",
    "\n",
    "#     activations = df[\"#i_2_activations\"][last_idx]\n",
    "\n",
    "#     # fill the corresponding rows with the extracted information\n",
    "#     df.loc[first_idx: last_idx, \"#i_2_activations\"] = activations\n",
    "#     #print(df[first_idx: last_idx+1])"
   ]
  },
  {
   "cell_type": "code",
   "execution_count": 62,
   "metadata": {},
   "outputs": [],
   "source": [
    "# df.columns"
   ]
  },
  {
   "cell_type": "code",
   "execution_count": 63,
   "metadata": {},
   "outputs": [],
   "source": [
    "# activation_cols = [\"index\", \"name\", \"input_shape\", \"input_node_1\", \"#i_1_activations\" , \"input_node_0\", \"#i_2_activations\", \"input_shape\", \"input_node_type_1\", \"input_node_type_0\"]\n",
    "# df_activations = df[activation_cols].copy()\n",
    "# df_activations.head(20)"
   ]
  },
  {
   "cell_type": "code",
   "execution_count": 64,
   "metadata": {},
   "outputs": [],
   "source": [
    "# # fill activations from start node to end node\n",
    "\n",
    "# for item in second_inputs:\n",
    "#     first_idx = df_activations.loc[df_activations[\"name\"] == item].index[0]\n",
    "#     last_idx = df_activations.loc[df_activations[\"input_node_0\"] == item].index[0]\n",
    "\n",
    "#     activations = df_activations[\"#i_2_activations\"][last_idx]\n",
    "#     df_activations.loc[first_idx: last_idx, \"#i_2_activations\"] = activations\n",
    "#     #print(df_activations[first_idx: last_idx+1])\n",
    "    \n",
    "\n",
    "    "
   ]
  },
  {
   "cell_type": "code",
   "execution_count": 65,
   "metadata": {},
   "outputs": [],
   "source": [
    "#input_name = \"block_4_project_BN\""
   ]
  },
  {
   "cell_type": "code",
   "execution_count": 67,
   "metadata": {},
   "outputs": [],
   "source": [
    "# first_idx = df.loc[df[\"name\"] == input_name].index[0]\n",
    "# last_idx = df.loc[df[\"input_node_2\"] == input_name].index[0]\n",
    "# last_idx"
   ]
  },
  {
   "cell_type": "code",
   "execution_count": 68,
   "metadata": {},
   "outputs": [
    {
     "data": {
      "text/html": [
       "<div>\n",
       "<style scoped>\n",
       "    .dataframe tbody tr th:only-of-type {\n",
       "        vertical-align: middle;\n",
       "    }\n",
       "\n",
       "    .dataframe tbody tr th {\n",
       "        vertical-align: top;\n",
       "    }\n",
       "\n",
       "    .dataframe thead th {\n",
       "        text-align: right;\n",
       "    }\n",
       "</style>\n",
       "<table border=\"1\" class=\"dataframe\">\n",
       "  <thead>\n",
       "    <tr style=\"text-align: right;\">\n",
       "      <th></th>\n",
       "      <th>index</th>\n",
       "      <th>name</th>\n",
       "      <th>layer_type</th>\n",
       "      <th>input_shape</th>\n",
       "      <th>input</th>\n",
       "      <th>input_node_1</th>\n",
       "      <th>output_shape</th>\n",
       "      <th>dtype</th>\n",
       "      <th>params</th>\n",
       "      <th>variables</th>\n",
       "      <th>weights_shape</th>\n",
       "      <th>weights_name</th>\n",
       "      <th>weights_dtype</th>\n",
       "      <th>#_activations</th>\n",
       "      <th>OPS</th>\n",
       "      <th>MACS</th>\n",
       "      <th>filters</th>\n",
       "      <th>trainable</th>\n",
       "      <th>kernel_size</th>\n",
       "      <th>strides</th>\n",
       "      <th>padding</th>\n",
       "      <th>dilation_rate</th>\n",
       "      <th>groups</th>\n",
       "      <th>activation</th>\n",
       "      <th>use_bias</th>\n",
       "      <th>data_format</th>\n",
       "      <th>input_node_type_1</th>\n",
       "      <th>input_node_2</th>\n",
       "      <th>input_node_type_2</th>\n",
       "      <th>input_1</th>\n",
       "      <th>input_2</th>\n",
       "      <th>b_i_1</th>\n",
       "      <th>h_i_1</th>\n",
       "      <th>w_i_1</th>\n",
       "      <th>c_i_1</th>\n",
       "      <th>b_i_2</th>\n",
       "      <th>h_i_2</th>\n",
       "      <th>w_i_2</th>\n",
       "      <th>c_i_2</th>\n",
       "      <th>output_1</th>\n",
       "      <th>b_o_1</th>\n",
       "      <th>h_o_1</th>\n",
       "      <th>w_o_1</th>\n",
       "      <th>c_o_1</th>\n",
       "      <th>#i_1_activations</th>\n",
       "      <th>#o_1_activations</th>\n",
       "      <th>#i_2_activations</th>\n",
       "      <th>peak_activations</th>\n",
       "      <th>total_params</th>\n",
       "      <th>total_MACs</th>\n",
       "      <th>total_OPS</th>\n",
       "    </tr>\n",
       "  </thead>\n",
       "  <tbody>\n",
       "    <tr>\n",
       "      <th>187</th>\n",
       "      <td>187</td>\n",
       "      <td>re_lu_63</td>\n",
       "      <td>&lt;class 'keras.layers.activation.relu.ReLU'&gt;</td>\n",
       "      <td>(None, 3, 3, 800)</td>\n",
       "      <td>KerasTensor(type_spec=TensorSpec(shape=(None, ...</td>\n",
       "      <td>add_24/add:0</td>\n",
       "      <td>(None, 3, 3, 800)</td>\n",
       "      <td>float32</td>\n",
       "      <td>0</td>\n",
       "      <td>0</td>\n",
       "      <td>0</td>\n",
       "      <td>0</td>\n",
       "      <td>0</td>\n",
       "      <td>0.0</td>\n",
       "      <td>0</td>\n",
       "      <td>0</td>\n",
       "      <td>0</td>\n",
       "      <td>0</td>\n",
       "      <td>0</td>\n",
       "      <td>0</td>\n",
       "      <td>0</td>\n",
       "      <td>0</td>\n",
       "      <td>0</td>\n",
       "      <td>0</td>\n",
       "      <td>0</td>\n",
       "      <td>0</td>\n",
       "      <td>NaN</td>\n",
       "      <td>NaN</td>\n",
       "      <td>NaN</td>\n",
       "      <td>(None, 3, 3, 800)</td>\n",
       "      <td>1</td>\n",
       "      <td>1</td>\n",
       "      <td>3</td>\n",
       "      <td>3</td>\n",
       "      <td>800</td>\n",
       "      <td>1</td>\n",
       "      <td>1</td>\n",
       "      <td>1</td>\n",
       "      <td>1</td>\n",
       "      <td>(None, 3, 3, 800)</td>\n",
       "      <td>1</td>\n",
       "      <td>3</td>\n",
       "      <td>3</td>\n",
       "      <td>800</td>\n",
       "      <td>7200</td>\n",
       "      <td>7200</td>\n",
       "      <td>7200</td>\n",
       "      <td>14400</td>\n",
       "      <td>795048</td>\n",
       "      <td>45778392</td>\n",
       "      <td>92013624</td>\n",
       "    </tr>\n",
       "    <tr>\n",
       "      <th>188</th>\n",
       "      <td>188</td>\n",
       "      <td>conv2d_64</td>\n",
       "      <td>&lt;class 'keras.layers.convolutional.conv2d.Conv...</td>\n",
       "      <td>(None, 3, 3, 800)</td>\n",
       "      <td>KerasTensor(type_spec=TensorSpec(shape=(None, ...</td>\n",
       "      <td>re_lu_63/Relu:0</td>\n",
       "      <td>(None, 3, 3, 200)</td>\n",
       "      <td>float32</td>\n",
       "      <td>80200</td>\n",
       "      <td>2</td>\n",
       "      <td>(1, 1, 400, 200)</td>\n",
       "      <td>conv2d_64/kernel:0</td>\n",
       "      <td>&lt;dtype: 'float32'&gt;</td>\n",
       "      <td>NaN</td>\n",
       "      <td>2881800</td>\n",
       "      <td>1440000</td>\n",
       "      <td>200</td>\n",
       "      <td>True</td>\n",
       "      <td>(1, 1)</td>\n",
       "      <td>(1, 1)</td>\n",
       "      <td>same</td>\n",
       "      <td>(1, 1)</td>\n",
       "      <td>2</td>\n",
       "      <td>linear</td>\n",
       "      <td>True</td>\n",
       "      <td>channels_last</td>\n",
       "      <td>NaN</td>\n",
       "      <td>NaN</td>\n",
       "      <td>NaN</td>\n",
       "      <td>(None, 3, 3, 800)</td>\n",
       "      <td>1</td>\n",
       "      <td>1</td>\n",
       "      <td>3</td>\n",
       "      <td>3</td>\n",
       "      <td>800</td>\n",
       "      <td>1</td>\n",
       "      <td>1</td>\n",
       "      <td>1</td>\n",
       "      <td>1</td>\n",
       "      <td>(None, 3, 3, 200)</td>\n",
       "      <td>1</td>\n",
       "      <td>3</td>\n",
       "      <td>3</td>\n",
       "      <td>200</td>\n",
       "      <td>7200</td>\n",
       "      <td>1800</td>\n",
       "      <td>7200</td>\n",
       "      <td>9000</td>\n",
       "      <td>875248</td>\n",
       "      <td>47218392</td>\n",
       "      <td>94895424</td>\n",
       "    </tr>\n",
       "    <tr>\n",
       "      <th>189</th>\n",
       "      <td>189</td>\n",
       "      <td>batch_normalization_95</td>\n",
       "      <td>&lt;class 'keras.layers.normalization.batch_norma...</td>\n",
       "      <td>(None, 3, 3, 200)</td>\n",
       "      <td>KerasTensor(type_spec=TensorSpec(shape=(None, ...</td>\n",
       "      <td>conv2d_64/BiasAdd:0</td>\n",
       "      <td>(None, 3, 3, 200)</td>\n",
       "      <td>float32</td>\n",
       "      <td>800</td>\n",
       "      <td>4</td>\n",
       "      <td>(200)</td>\n",
       "      <td>batch_normalization_95/gamma:0</td>\n",
       "      <td>&lt;dtype: 'float32'&gt;</td>\n",
       "      <td>NaN</td>\n",
       "      <td>0</td>\n",
       "      <td>0</td>\n",
       "      <td>0</td>\n",
       "      <td>0</td>\n",
       "      <td>0</td>\n",
       "      <td>0</td>\n",
       "      <td>0</td>\n",
       "      <td>0</td>\n",
       "      <td>0</td>\n",
       "      <td>0</td>\n",
       "      <td>0</td>\n",
       "      <td>0</td>\n",
       "      <td>NaN</td>\n",
       "      <td>NaN</td>\n",
       "      <td>NaN</td>\n",
       "      <td>(None, 3, 3, 200)</td>\n",
       "      <td>1</td>\n",
       "      <td>1</td>\n",
       "      <td>3</td>\n",
       "      <td>3</td>\n",
       "      <td>200</td>\n",
       "      <td>1</td>\n",
       "      <td>1</td>\n",
       "      <td>1</td>\n",
       "      <td>1</td>\n",
       "      <td>(None, 3, 3, 200)</td>\n",
       "      <td>1</td>\n",
       "      <td>3</td>\n",
       "      <td>3</td>\n",
       "      <td>200</td>\n",
       "      <td>1800</td>\n",
       "      <td>1800</td>\n",
       "      <td>7200</td>\n",
       "      <td>3600</td>\n",
       "      <td>876048</td>\n",
       "      <td>47218392</td>\n",
       "      <td>94895424</td>\n",
       "    </tr>\n",
       "    <tr>\n",
       "      <th>190</th>\n",
       "      <td>190</td>\n",
       "      <td>re_lu_64</td>\n",
       "      <td>&lt;class 'keras.layers.activation.relu.ReLU'&gt;</td>\n",
       "      <td>(None, 3, 3, 200)</td>\n",
       "      <td>KerasTensor(type_spec=TensorSpec(shape=(None, ...</td>\n",
       "      <td>batch_normalization_95/FusedBatchNormV3:0</td>\n",
       "      <td>(None, 3, 3, 200)</td>\n",
       "      <td>float32</td>\n",
       "      <td>0</td>\n",
       "      <td>0</td>\n",
       "      <td>0</td>\n",
       "      <td>0</td>\n",
       "      <td>0</td>\n",
       "      <td>0.0</td>\n",
       "      <td>0</td>\n",
       "      <td>0</td>\n",
       "      <td>0</td>\n",
       "      <td>0</td>\n",
       "      <td>0</td>\n",
       "      <td>0</td>\n",
       "      <td>0</td>\n",
       "      <td>0</td>\n",
       "      <td>0</td>\n",
       "      <td>0</td>\n",
       "      <td>0</td>\n",
       "      <td>0</td>\n",
       "      <td>NaN</td>\n",
       "      <td>NaN</td>\n",
       "      <td>NaN</td>\n",
       "      <td>(None, 3, 3, 200)</td>\n",
       "      <td>1</td>\n",
       "      <td>1</td>\n",
       "      <td>3</td>\n",
       "      <td>3</td>\n",
       "      <td>200</td>\n",
       "      <td>1</td>\n",
       "      <td>1</td>\n",
       "      <td>1</td>\n",
       "      <td>1</td>\n",
       "      <td>(None, 3, 3, 200)</td>\n",
       "      <td>1</td>\n",
       "      <td>3</td>\n",
       "      <td>3</td>\n",
       "      <td>200</td>\n",
       "      <td>1800</td>\n",
       "      <td>1800</td>\n",
       "      <td>7200</td>\n",
       "      <td>3600</td>\n",
       "      <td>876048</td>\n",
       "      <td>47218392</td>\n",
       "      <td>94895424</td>\n",
       "    </tr>\n",
       "    <tr>\n",
       "      <th>191</th>\n",
       "      <td>191</td>\n",
       "      <td>reshape_62</td>\n",
       "      <td>&lt;class 'keras.layers.reshaping.reshape.Reshape'&gt;</td>\n",
       "      <td>(None, 3, 3, 200)</td>\n",
       "      <td>KerasTensor(type_spec=TensorSpec(shape=(None, ...</td>\n",
       "      <td>re_lu_64/Relu:0</td>\n",
       "      <td>(None, 3, 3, 100, 2)</td>\n",
       "      <td>float32</td>\n",
       "      <td>0</td>\n",
       "      <td>0</td>\n",
       "      <td>0</td>\n",
       "      <td>0</td>\n",
       "      <td>0</td>\n",
       "      <td>0.0</td>\n",
       "      <td>0</td>\n",
       "      <td>0</td>\n",
       "      <td>0</td>\n",
       "      <td>0</td>\n",
       "      <td>0</td>\n",
       "      <td>0</td>\n",
       "      <td>0</td>\n",
       "      <td>0</td>\n",
       "      <td>0</td>\n",
       "      <td>0</td>\n",
       "      <td>0</td>\n",
       "      <td>0</td>\n",
       "      <td>NaN</td>\n",
       "      <td>NaN</td>\n",
       "      <td>NaN</td>\n",
       "      <td>(None, 3, 3, 200)</td>\n",
       "      <td>1</td>\n",
       "      <td>1</td>\n",
       "      <td>3</td>\n",
       "      <td>3</td>\n",
       "      <td>200</td>\n",
       "      <td>1</td>\n",
       "      <td>1</td>\n",
       "      <td>1</td>\n",
       "      <td>1</td>\n",
       "      <td>(None, 3, 3, 100, 2)</td>\n",
       "      <td>1</td>\n",
       "      <td>1</td>\n",
       "      <td>1</td>\n",
       "      <td>2</td>\n",
       "      <td>1800</td>\n",
       "      <td>2</td>\n",
       "      <td>7200</td>\n",
       "      <td>1802</td>\n",
       "      <td>876048</td>\n",
       "      <td>47218392</td>\n",
       "      <td>94895424</td>\n",
       "    </tr>\n",
       "    <tr>\n",
       "      <th>192</th>\n",
       "      <td>192</td>\n",
       "      <td>permute_31</td>\n",
       "      <td>&lt;class 'keras.layers.reshaping.permute.Permute'&gt;</td>\n",
       "      <td>(None, 3, 3, 100, 2)</td>\n",
       "      <td>KerasTensor(type_spec=TensorSpec(shape=(None, ...</td>\n",
       "      <td>reshape_62/Reshape:0</td>\n",
       "      <td>(None, 3, 3, 2, 100)</td>\n",
       "      <td>float32</td>\n",
       "      <td>0</td>\n",
       "      <td>0</td>\n",
       "      <td>0</td>\n",
       "      <td>0</td>\n",
       "      <td>0</td>\n",
       "      <td>0.0</td>\n",
       "      <td>0</td>\n",
       "      <td>0</td>\n",
       "      <td>0</td>\n",
       "      <td>0</td>\n",
       "      <td>0</td>\n",
       "      <td>0</td>\n",
       "      <td>0</td>\n",
       "      <td>0</td>\n",
       "      <td>0</td>\n",
       "      <td>0</td>\n",
       "      <td>0</td>\n",
       "      <td>0</td>\n",
       "      <td>NaN</td>\n",
       "      <td>NaN</td>\n",
       "      <td>NaN</td>\n",
       "      <td>(None, 3, 3, 100, 2)</td>\n",
       "      <td>1</td>\n",
       "      <td>1</td>\n",
       "      <td>1</td>\n",
       "      <td>1</td>\n",
       "      <td>2</td>\n",
       "      <td>1</td>\n",
       "      <td>1</td>\n",
       "      <td>1</td>\n",
       "      <td>1</td>\n",
       "      <td>(None, 3, 3, 2, 100)</td>\n",
       "      <td>1</td>\n",
       "      <td>1</td>\n",
       "      <td>1</td>\n",
       "      <td>100</td>\n",
       "      <td>2</td>\n",
       "      <td>100</td>\n",
       "      <td>7200</td>\n",
       "      <td>102</td>\n",
       "      <td>876048</td>\n",
       "      <td>47218392</td>\n",
       "      <td>94895424</td>\n",
       "    </tr>\n",
       "    <tr>\n",
       "      <th>193</th>\n",
       "      <td>193</td>\n",
       "      <td>reshape_63</td>\n",
       "      <td>&lt;class 'keras.layers.reshaping.reshape.Reshape'&gt;</td>\n",
       "      <td>(None, 3, 3, 2, 100)</td>\n",
       "      <td>KerasTensor(type_spec=TensorSpec(shape=(None, ...</td>\n",
       "      <td>permute_31/transpose:0</td>\n",
       "      <td>(None, 3, 3, 200)</td>\n",
       "      <td>float32</td>\n",
       "      <td>0</td>\n",
       "      <td>0</td>\n",
       "      <td>0</td>\n",
       "      <td>0</td>\n",
       "      <td>0</td>\n",
       "      <td>0.0</td>\n",
       "      <td>0</td>\n",
       "      <td>0</td>\n",
       "      <td>0</td>\n",
       "      <td>0</td>\n",
       "      <td>0</td>\n",
       "      <td>0</td>\n",
       "      <td>0</td>\n",
       "      <td>0</td>\n",
       "      <td>0</td>\n",
       "      <td>0</td>\n",
       "      <td>0</td>\n",
       "      <td>0</td>\n",
       "      <td>NaN</td>\n",
       "      <td>NaN</td>\n",
       "      <td>NaN</td>\n",
       "      <td>(None, 3, 3, 2, 100)</td>\n",
       "      <td>1</td>\n",
       "      <td>1</td>\n",
       "      <td>1</td>\n",
       "      <td>1</td>\n",
       "      <td>100</td>\n",
       "      <td>1</td>\n",
       "      <td>1</td>\n",
       "      <td>1</td>\n",
       "      <td>1</td>\n",
       "      <td>(None, 3, 3, 200)</td>\n",
       "      <td>1</td>\n",
       "      <td>3</td>\n",
       "      <td>3</td>\n",
       "      <td>200</td>\n",
       "      <td>100</td>\n",
       "      <td>1800</td>\n",
       "      <td>7200</td>\n",
       "      <td>1900</td>\n",
       "      <td>876048</td>\n",
       "      <td>47218392</td>\n",
       "      <td>94895424</td>\n",
       "    </tr>\n",
       "    <tr>\n",
       "      <th>194</th>\n",
       "      <td>194</td>\n",
       "      <td>depthwise_conv2d_31</td>\n",
       "      <td>&lt;class 'keras.layers.convolutional.depthwise_c...</td>\n",
       "      <td>(None, 3, 3, 200)</td>\n",
       "      <td>KerasTensor(type_spec=TensorSpec(shape=(None, ...</td>\n",
       "      <td>reshape_63/Reshape:0</td>\n",
       "      <td>(None, 3, 3, 200)</td>\n",
       "      <td>float32</td>\n",
       "      <td>2000</td>\n",
       "      <td>2</td>\n",
       "      <td>(3, 3, 200, 1)</td>\n",
       "      <td>depthwise_conv2d_31/depthwise_kernel:0</td>\n",
       "      <td>&lt;dtype: 'float32'&gt;</td>\n",
       "      <td>NaN</td>\n",
       "      <td>34200</td>\n",
       "      <td>16200</td>\n",
       "      <td>0</td>\n",
       "      <td>True</td>\n",
       "      <td>(3, 3)</td>\n",
       "      <td>(1, 1)</td>\n",
       "      <td>same</td>\n",
       "      <td>(1, 1)</td>\n",
       "      <td>1</td>\n",
       "      <td>linear</td>\n",
       "      <td>True</td>\n",
       "      <td>channels_last</td>\n",
       "      <td>NaN</td>\n",
       "      <td>NaN</td>\n",
       "      <td>NaN</td>\n",
       "      <td>(None, 3, 3, 200)</td>\n",
       "      <td>1</td>\n",
       "      <td>1</td>\n",
       "      <td>3</td>\n",
       "      <td>3</td>\n",
       "      <td>200</td>\n",
       "      <td>1</td>\n",
       "      <td>1</td>\n",
       "      <td>1</td>\n",
       "      <td>1</td>\n",
       "      <td>(None, 3, 3, 200)</td>\n",
       "      <td>1</td>\n",
       "      <td>3</td>\n",
       "      <td>3</td>\n",
       "      <td>200</td>\n",
       "      <td>1800</td>\n",
       "      <td>1800</td>\n",
       "      <td>7200</td>\n",
       "      <td>3600</td>\n",
       "      <td>878048</td>\n",
       "      <td>47234592</td>\n",
       "      <td>94929624</td>\n",
       "    </tr>\n",
       "    <tr>\n",
       "      <th>195</th>\n",
       "      <td>195</td>\n",
       "      <td>batch_normalization_96</td>\n",
       "      <td>&lt;class 'keras.layers.normalization.batch_norma...</td>\n",
       "      <td>(None, 3, 3, 200)</td>\n",
       "      <td>KerasTensor(type_spec=TensorSpec(shape=(None, ...</td>\n",
       "      <td>depthwise_conv2d_31/BiasAdd:0</td>\n",
       "      <td>(None, 3, 3, 200)</td>\n",
       "      <td>float32</td>\n",
       "      <td>800</td>\n",
       "      <td>4</td>\n",
       "      <td>(200)</td>\n",
       "      <td>batch_normalization_96/gamma:0</td>\n",
       "      <td>&lt;dtype: 'float32'&gt;</td>\n",
       "      <td>NaN</td>\n",
       "      <td>0</td>\n",
       "      <td>0</td>\n",
       "      <td>0</td>\n",
       "      <td>0</td>\n",
       "      <td>0</td>\n",
       "      <td>0</td>\n",
       "      <td>0</td>\n",
       "      <td>0</td>\n",
       "      <td>0</td>\n",
       "      <td>0</td>\n",
       "      <td>0</td>\n",
       "      <td>0</td>\n",
       "      <td>NaN</td>\n",
       "      <td>NaN</td>\n",
       "      <td>NaN</td>\n",
       "      <td>(None, 3, 3, 200)</td>\n",
       "      <td>1</td>\n",
       "      <td>1</td>\n",
       "      <td>3</td>\n",
       "      <td>3</td>\n",
       "      <td>200</td>\n",
       "      <td>1</td>\n",
       "      <td>1</td>\n",
       "      <td>1</td>\n",
       "      <td>1</td>\n",
       "      <td>(None, 3, 3, 200)</td>\n",
       "      <td>1</td>\n",
       "      <td>3</td>\n",
       "      <td>3</td>\n",
       "      <td>200</td>\n",
       "      <td>1800</td>\n",
       "      <td>1800</td>\n",
       "      <td>7200</td>\n",
       "      <td>3600</td>\n",
       "      <td>878848</td>\n",
       "      <td>47234592</td>\n",
       "      <td>94929624</td>\n",
       "    </tr>\n",
       "    <tr>\n",
       "      <th>196</th>\n",
       "      <td>196</td>\n",
       "      <td>conv2d_65</td>\n",
       "      <td>&lt;class 'keras.layers.convolutional.conv2d.Conv...</td>\n",
       "      <td>(None, 3, 3, 200)</td>\n",
       "      <td>KerasTensor(type_spec=TensorSpec(shape=(None, ...</td>\n",
       "      <td>batch_normalization_96/FusedBatchNormV3:0</td>\n",
       "      <td>(None, 3, 3, 800)</td>\n",
       "      <td>float32</td>\n",
       "      <td>80800</td>\n",
       "      <td>2</td>\n",
       "      <td>(1, 1, 100, 800)</td>\n",
       "      <td>conv2d_65/kernel:0</td>\n",
       "      <td>&lt;dtype: 'float32'&gt;</td>\n",
       "      <td>NaN</td>\n",
       "      <td>2887200</td>\n",
       "      <td>1440000</td>\n",
       "      <td>800</td>\n",
       "      <td>True</td>\n",
       "      <td>(1, 1)</td>\n",
       "      <td>(1, 1)</td>\n",
       "      <td>same</td>\n",
       "      <td>(1, 1)</td>\n",
       "      <td>2</td>\n",
       "      <td>linear</td>\n",
       "      <td>True</td>\n",
       "      <td>channels_last</td>\n",
       "      <td>NaN</td>\n",
       "      <td>NaN</td>\n",
       "      <td>NaN</td>\n",
       "      <td>(None, 3, 3, 200)</td>\n",
       "      <td>1</td>\n",
       "      <td>1</td>\n",
       "      <td>3</td>\n",
       "      <td>3</td>\n",
       "      <td>200</td>\n",
       "      <td>1</td>\n",
       "      <td>1</td>\n",
       "      <td>1</td>\n",
       "      <td>1</td>\n",
       "      <td>(None, 3, 3, 800)</td>\n",
       "      <td>1</td>\n",
       "      <td>3</td>\n",
       "      <td>3</td>\n",
       "      <td>800</td>\n",
       "      <td>1800</td>\n",
       "      <td>7200</td>\n",
       "      <td>7200</td>\n",
       "      <td>9000</td>\n",
       "      <td>959648</td>\n",
       "      <td>48674592</td>\n",
       "      <td>97816824</td>\n",
       "    </tr>\n",
       "    <tr>\n",
       "      <th>197</th>\n",
       "      <td>197</td>\n",
       "      <td>batch_normalization_97</td>\n",
       "      <td>&lt;class 'keras.layers.normalization.batch_norma...</td>\n",
       "      <td>(None, 3, 3, 800)</td>\n",
       "      <td>KerasTensor(type_spec=TensorSpec(shape=(None, ...</td>\n",
       "      <td>conv2d_65/BiasAdd:0</td>\n",
       "      <td>(None, 3, 3, 800)</td>\n",
       "      <td>float32</td>\n",
       "      <td>3200</td>\n",
       "      <td>4</td>\n",
       "      <td>(800)</td>\n",
       "      <td>batch_normalization_97/gamma:0</td>\n",
       "      <td>&lt;dtype: 'float32'&gt;</td>\n",
       "      <td>NaN</td>\n",
       "      <td>0</td>\n",
       "      <td>0</td>\n",
       "      <td>0</td>\n",
       "      <td>0</td>\n",
       "      <td>0</td>\n",
       "      <td>0</td>\n",
       "      <td>0</td>\n",
       "      <td>0</td>\n",
       "      <td>0</td>\n",
       "      <td>0</td>\n",
       "      <td>0</td>\n",
       "      <td>0</td>\n",
       "      <td>NaN</td>\n",
       "      <td>NaN</td>\n",
       "      <td>NaN</td>\n",
       "      <td>(None, 3, 3, 800)</td>\n",
       "      <td>1</td>\n",
       "      <td>1</td>\n",
       "      <td>3</td>\n",
       "      <td>3</td>\n",
       "      <td>800</td>\n",
       "      <td>1</td>\n",
       "      <td>1</td>\n",
       "      <td>1</td>\n",
       "      <td>1</td>\n",
       "      <td>(None, 3, 3, 800)</td>\n",
       "      <td>1</td>\n",
       "      <td>3</td>\n",
       "      <td>3</td>\n",
       "      <td>800</td>\n",
       "      <td>7200</td>\n",
       "      <td>7200</td>\n",
       "      <td>7200</td>\n",
       "      <td>14400</td>\n",
       "      <td>962848</td>\n",
       "      <td>48674592</td>\n",
       "      <td>97816824</td>\n",
       "    </tr>\n",
       "    <tr>\n",
       "      <th>198</th>\n",
       "      <td>198</td>\n",
       "      <td>add_25</td>\n",
       "      <td>&lt;class 'keras.layers.merging.add.Add'&gt;</td>\n",
       "      <td>(None, 3, 3, 800)* (None, 3, 3, 800)</td>\n",
       "      <td>[KerasTensor(type_spec=TensorSpec(shape=(None,...</td>\n",
       "      <td>batch_normalization_97</td>\n",
       "      <td>(None, 3, 3, 800)</td>\n",
       "      <td>float32</td>\n",
       "      <td>0</td>\n",
       "      <td>0</td>\n",
       "      <td>0</td>\n",
       "      <td>0</td>\n",
       "      <td>0</td>\n",
       "      <td>0.0</td>\n",
       "      <td>0</td>\n",
       "      <td>0</td>\n",
       "      <td>0</td>\n",
       "      <td>0</td>\n",
       "      <td>0</td>\n",
       "      <td>0</td>\n",
       "      <td>0</td>\n",
       "      <td>0</td>\n",
       "      <td>0</td>\n",
       "      <td>0</td>\n",
       "      <td>0</td>\n",
       "      <td>0</td>\n",
       "      <td>FusedBatchNormV3:0</td>\n",
       "      <td>re_lu_63</td>\n",
       "      <td>Relu:0</td>\n",
       "      <td>(None, 3, 3, 800)</td>\n",
       "      <td>(None, 3, 3, 800)</td>\n",
       "      <td>1</td>\n",
       "      <td>3</td>\n",
       "      <td>3</td>\n",
       "      <td>800</td>\n",
       "      <td>1</td>\n",
       "      <td>3</td>\n",
       "      <td>3</td>\n",
       "      <td>800</td>\n",
       "      <td>(None, 3, 3, 800)</td>\n",
       "      <td>1</td>\n",
       "      <td>3</td>\n",
       "      <td>3</td>\n",
       "      <td>800</td>\n",
       "      <td>7200</td>\n",
       "      <td>7200</td>\n",
       "      <td>7200</td>\n",
       "      <td>21600</td>\n",
       "      <td>962848</td>\n",
       "      <td>48674592</td>\n",
       "      <td>97816824</td>\n",
       "    </tr>\n",
       "  </tbody>\n",
       "</table>\n",
       "</div>"
      ],
      "text/plain": [
       "     index                    name  \\\n",
       "187    187                re_lu_63   \n",
       "188    188               conv2d_64   \n",
       "189    189  batch_normalization_95   \n",
       "190    190                re_lu_64   \n",
       "191    191              reshape_62   \n",
       "192    192              permute_31   \n",
       "193    193              reshape_63   \n",
       "194    194     depthwise_conv2d_31   \n",
       "195    195  batch_normalization_96   \n",
       "196    196               conv2d_65   \n",
       "197    197  batch_normalization_97   \n",
       "198    198                  add_25   \n",
       "\n",
       "                                            layer_type  \\\n",
       "187        <class 'keras.layers.activation.relu.ReLU'>   \n",
       "188  <class 'keras.layers.convolutional.conv2d.Conv...   \n",
       "189  <class 'keras.layers.normalization.batch_norma...   \n",
       "190        <class 'keras.layers.activation.relu.ReLU'>   \n",
       "191   <class 'keras.layers.reshaping.reshape.Reshape'>   \n",
       "192   <class 'keras.layers.reshaping.permute.Permute'>   \n",
       "193   <class 'keras.layers.reshaping.reshape.Reshape'>   \n",
       "194  <class 'keras.layers.convolutional.depthwise_c...   \n",
       "195  <class 'keras.layers.normalization.batch_norma...   \n",
       "196  <class 'keras.layers.convolutional.conv2d.Conv...   \n",
       "197  <class 'keras.layers.normalization.batch_norma...   \n",
       "198             <class 'keras.layers.merging.add.Add'>   \n",
       "\n",
       "                              input_shape  \\\n",
       "187                     (None, 3, 3, 800)   \n",
       "188                     (None, 3, 3, 800)   \n",
       "189                     (None, 3, 3, 200)   \n",
       "190                     (None, 3, 3, 200)   \n",
       "191                     (None, 3, 3, 200)   \n",
       "192                  (None, 3, 3, 100, 2)   \n",
       "193                  (None, 3, 3, 2, 100)   \n",
       "194                     (None, 3, 3, 200)   \n",
       "195                     (None, 3, 3, 200)   \n",
       "196                     (None, 3, 3, 200)   \n",
       "197                     (None, 3, 3, 800)   \n",
       "198  (None, 3, 3, 800)* (None, 3, 3, 800)   \n",
       "\n",
       "                                                 input  \\\n",
       "187  KerasTensor(type_spec=TensorSpec(shape=(None, ...   \n",
       "188  KerasTensor(type_spec=TensorSpec(shape=(None, ...   \n",
       "189  KerasTensor(type_spec=TensorSpec(shape=(None, ...   \n",
       "190  KerasTensor(type_spec=TensorSpec(shape=(None, ...   \n",
       "191  KerasTensor(type_spec=TensorSpec(shape=(None, ...   \n",
       "192  KerasTensor(type_spec=TensorSpec(shape=(None, ...   \n",
       "193  KerasTensor(type_spec=TensorSpec(shape=(None, ...   \n",
       "194  KerasTensor(type_spec=TensorSpec(shape=(None, ...   \n",
       "195  KerasTensor(type_spec=TensorSpec(shape=(None, ...   \n",
       "196  KerasTensor(type_spec=TensorSpec(shape=(None, ...   \n",
       "197  KerasTensor(type_spec=TensorSpec(shape=(None, ...   \n",
       "198  [KerasTensor(type_spec=TensorSpec(shape=(None,...   \n",
       "\n",
       "                                  input_node_1          output_shape    dtype  \\\n",
       "187                               add_24/add:0     (None, 3, 3, 800)  float32   \n",
       "188                            re_lu_63/Relu:0     (None, 3, 3, 200)  float32   \n",
       "189                        conv2d_64/BiasAdd:0     (None, 3, 3, 200)  float32   \n",
       "190  batch_normalization_95/FusedBatchNormV3:0     (None, 3, 3, 200)  float32   \n",
       "191                            re_lu_64/Relu:0  (None, 3, 3, 100, 2)  float32   \n",
       "192                       reshape_62/Reshape:0  (None, 3, 3, 2, 100)  float32   \n",
       "193                     permute_31/transpose:0     (None, 3, 3, 200)  float32   \n",
       "194                       reshape_63/Reshape:0     (None, 3, 3, 200)  float32   \n",
       "195              depthwise_conv2d_31/BiasAdd:0     (None, 3, 3, 200)  float32   \n",
       "196  batch_normalization_96/FusedBatchNormV3:0     (None, 3, 3, 800)  float32   \n",
       "197                        conv2d_65/BiasAdd:0     (None, 3, 3, 800)  float32   \n",
       "198                     batch_normalization_97     (None, 3, 3, 800)  float32   \n",
       "\n",
       "     params  variables     weights_shape  \\\n",
       "187       0          0                 0   \n",
       "188   80200          2  (1, 1, 400, 200)   \n",
       "189     800          4             (200)   \n",
       "190       0          0                 0   \n",
       "191       0          0                 0   \n",
       "192       0          0                 0   \n",
       "193       0          0                 0   \n",
       "194    2000          2    (3, 3, 200, 1)   \n",
       "195     800          4             (200)   \n",
       "196   80800          2  (1, 1, 100, 800)   \n",
       "197    3200          4             (800)   \n",
       "198       0          0                 0   \n",
       "\n",
       "                               weights_name       weights_dtype  \\\n",
       "187                                       0                   0   \n",
       "188                      conv2d_64/kernel:0  <dtype: 'float32'>   \n",
       "189          batch_normalization_95/gamma:0  <dtype: 'float32'>   \n",
       "190                                       0                   0   \n",
       "191                                       0                   0   \n",
       "192                                       0                   0   \n",
       "193                                       0                   0   \n",
       "194  depthwise_conv2d_31/depthwise_kernel:0  <dtype: 'float32'>   \n",
       "195          batch_normalization_96/gamma:0  <dtype: 'float32'>   \n",
       "196                      conv2d_65/kernel:0  <dtype: 'float32'>   \n",
       "197          batch_normalization_97/gamma:0  <dtype: 'float32'>   \n",
       "198                                       0                   0   \n",
       "\n",
       "     #_activations      OPS     MACS  filters trainable kernel_size strides  \\\n",
       "187            0.0        0        0        0         0           0       0   \n",
       "188            NaN  2881800  1440000      200      True      (1, 1)  (1, 1)   \n",
       "189            NaN        0        0        0         0           0       0   \n",
       "190            0.0        0        0        0         0           0       0   \n",
       "191            0.0        0        0        0         0           0       0   \n",
       "192            0.0        0        0        0         0           0       0   \n",
       "193            0.0        0        0        0         0           0       0   \n",
       "194            NaN    34200    16200        0      True      (3, 3)  (1, 1)   \n",
       "195            NaN        0        0        0         0           0       0   \n",
       "196            NaN  2887200  1440000      800      True      (1, 1)  (1, 1)   \n",
       "197            NaN        0        0        0         0           0       0   \n",
       "198            0.0        0        0        0         0           0       0   \n",
       "\n",
       "    padding dilation_rate  groups activation use_bias    data_format  \\\n",
       "187       0             0       0          0        0              0   \n",
       "188    same        (1, 1)       2     linear     True  channels_last   \n",
       "189       0             0       0          0        0              0   \n",
       "190       0             0       0          0        0              0   \n",
       "191       0             0       0          0        0              0   \n",
       "192       0             0       0          0        0              0   \n",
       "193       0             0       0          0        0              0   \n",
       "194    same        (1, 1)       1     linear     True  channels_last   \n",
       "195       0             0       0          0        0              0   \n",
       "196    same        (1, 1)       2     linear     True  channels_last   \n",
       "197       0             0       0          0        0              0   \n",
       "198       0             0       0          0        0              0   \n",
       "\n",
       "      input_node_type_1 input_node_2 input_node_type_2               input_1  \\\n",
       "187                 NaN          NaN               NaN     (None, 3, 3, 800)   \n",
       "188                 NaN          NaN               NaN     (None, 3, 3, 800)   \n",
       "189                 NaN          NaN               NaN     (None, 3, 3, 200)   \n",
       "190                 NaN          NaN               NaN     (None, 3, 3, 200)   \n",
       "191                 NaN          NaN               NaN     (None, 3, 3, 200)   \n",
       "192                 NaN          NaN               NaN  (None, 3, 3, 100, 2)   \n",
       "193                 NaN          NaN               NaN  (None, 3, 3, 2, 100)   \n",
       "194                 NaN          NaN               NaN     (None, 3, 3, 200)   \n",
       "195                 NaN          NaN               NaN     (None, 3, 3, 200)   \n",
       "196                 NaN          NaN               NaN     (None, 3, 3, 200)   \n",
       "197                 NaN          NaN               NaN     (None, 3, 3, 800)   \n",
       "198  FusedBatchNormV3:0     re_lu_63            Relu:0     (None, 3, 3, 800)   \n",
       "\n",
       "                input_2  b_i_1  h_i_1  w_i_1  c_i_1  b_i_2  h_i_2  w_i_2  \\\n",
       "187                   1      1      3      3    800      1      1      1   \n",
       "188                   1      1      3      3    800      1      1      1   \n",
       "189                   1      1      3      3    200      1      1      1   \n",
       "190                   1      1      3      3    200      1      1      1   \n",
       "191                   1      1      3      3    200      1      1      1   \n",
       "192                   1      1      1      1      2      1      1      1   \n",
       "193                   1      1      1      1    100      1      1      1   \n",
       "194                   1      1      3      3    200      1      1      1   \n",
       "195                   1      1      3      3    200      1      1      1   \n",
       "196                   1      1      3      3    200      1      1      1   \n",
       "197                   1      1      3      3    800      1      1      1   \n",
       "198   (None, 3, 3, 800)      1      3      3    800      1      3      3   \n",
       "\n",
       "     c_i_2              output_1  b_o_1  h_o_1  w_o_1  c_o_1  \\\n",
       "187      1     (None, 3, 3, 800)      1      3      3    800   \n",
       "188      1     (None, 3, 3, 200)      1      3      3    200   \n",
       "189      1     (None, 3, 3, 200)      1      3      3    200   \n",
       "190      1     (None, 3, 3, 200)      1      3      3    200   \n",
       "191      1  (None, 3, 3, 100, 2)      1      1      1      2   \n",
       "192      1  (None, 3, 3, 2, 100)      1      1      1    100   \n",
       "193      1     (None, 3, 3, 200)      1      3      3    200   \n",
       "194      1     (None, 3, 3, 200)      1      3      3    200   \n",
       "195      1     (None, 3, 3, 200)      1      3      3    200   \n",
       "196      1     (None, 3, 3, 800)      1      3      3    800   \n",
       "197      1     (None, 3, 3, 800)      1      3      3    800   \n",
       "198    800     (None, 3, 3, 800)      1      3      3    800   \n",
       "\n",
       "     #i_1_activations  #o_1_activations  #i_2_activations  peak_activations  \\\n",
       "187              7200              7200              7200             14400   \n",
       "188              7200              1800              7200              9000   \n",
       "189              1800              1800              7200              3600   \n",
       "190              1800              1800              7200              3600   \n",
       "191              1800                 2              7200              1802   \n",
       "192                 2               100              7200               102   \n",
       "193               100              1800              7200              1900   \n",
       "194              1800              1800              7200              3600   \n",
       "195              1800              1800              7200              3600   \n",
       "196              1800              7200              7200              9000   \n",
       "197              7200              7200              7200             14400   \n",
       "198              7200              7200              7200             21600   \n",
       "\n",
       "     total_params  total_MACs  total_OPS  \n",
       "187        795048    45778392   92013624  \n",
       "188        875248    47218392   94895424  \n",
       "189        876048    47218392   94895424  \n",
       "190        876048    47218392   94895424  \n",
       "191        876048    47218392   94895424  \n",
       "192        876048    47218392   94895424  \n",
       "193        876048    47218392   94895424  \n",
       "194        878048    47234592   94929624  \n",
       "195        878848    47234592   94929624  \n",
       "196        959648    48674592   97816824  \n",
       "197        962848    48674592   97816824  \n",
       "198        962848    48674592   97816824  "
      ]
     },
     "execution_count": 68,
     "metadata": {},
     "output_type": "execute_result"
    }
   ],
   "source": [
    "df[first_idx: last_idx+1]"
   ]
  },
  {
   "cell_type": "code",
   "execution_count": null,
   "metadata": {},
   "outputs": [],
   "source": []
  },
  {
   "cell_type": "code",
   "execution_count": 69,
   "metadata": {},
   "outputs": [],
   "source": [
    "# df_activations.loc[last_idx]"
   ]
  },
  {
   "cell_type": "code",
   "execution_count": 70,
   "metadata": {},
   "outputs": [],
   "source": [
    "# activations = df_activations[\"#i_2_activations\"][last_idx]\n",
    "# activations"
   ]
  },
  {
   "cell_type": "code",
   "execution_count": 71,
   "metadata": {},
   "outputs": [],
   "source": [
    "# df_activations.loc[first_idx: last_idx, \"#i_2_activations\"] = activations\n",
    "# df_activations.head(30)"
   ]
  },
  {
   "attachments": {},
   "cell_type": "markdown",
   "metadata": {},
   "source": [
    "# Save cleaned dataframe"
   ]
  },
  {
   "cell_type": "code",
   "execution_count": 72,
   "metadata": {},
   "outputs": [],
   "source": [
    "clean_df_filepath = models_dir.joinpath(f\"{model_name}/{model_name}_layers_clean.pkl\")\n",
    "\n",
    "#filepath = f\"i:/tinyml/tiny_cnn/models/{model_name}/{model_name}_layers.pkl\"\n",
    "df.to_pickle(clean_df_filepath)"
   ]
  },
  {
   "attachments": {},
   "cell_type": "markdown",
   "metadata": {},
   "source": [
    "# Load tflite model data"
   ]
  },
  {
   "cell_type": "code",
   "execution_count": 11,
   "metadata": {},
   "outputs": [
    {
     "data": {
      "text/plain": [
       "WindowsPath('i:/tinyml/tiny_cnn/models/shufflenetv1_1_96_c3_o3_000/tensor_info_df')"
      ]
     },
     "execution_count": 11,
     "metadata": {},
     "output_type": "execute_result"
    }
   ],
   "source": [
    "# Get dataframes from benchmarking tflite model \n",
    "models_peak_memory_df_path = models_dir.joinpath(model_name, \"peak_memory_df\")\n",
    "models_peak_memory_df_path\n",
    "\n",
    "tensor_info_df_path = models_dir.joinpath(model_name, \"tensor_info_df\")\n",
    "tensor_info_df_path"
   ]
  },
  {
   "cell_type": "code",
   "execution_count": 12,
   "metadata": {},
   "outputs": [
    {
     "data": {
      "text/html": [
       "<div>\n",
       "<style scoped>\n",
       "    .dataframe tbody tr th:only-of-type {\n",
       "        vertical-align: middle;\n",
       "    }\n",
       "\n",
       "    .dataframe tbody tr th {\n",
       "        vertical-align: top;\n",
       "    }\n",
       "\n",
       "    .dataframe thead th {\n",
       "        text-align: right;\n",
       "    }\n",
       "</style>\n",
       "<table border=\"1\" class=\"dataframe\">\n",
       "  <thead>\n",
       "    <tr style=\"text-align: right;\">\n",
       "      <th></th>\n",
       "      <th>tensor_id</th>\n",
       "      <th>tensor</th>\n",
       "      <th>shape</th>\n",
       "      <th>size_in_RAM_kb</th>\n",
       "    </tr>\n",
       "  </thead>\n",
       "  <tbody>\n",
       "    <tr>\n",
       "      <th>1</th>\n",
       "      <td>0</td>\n",
       "      <td>serving_default_input_2:0</td>\n",
       "      <td>(1, 96, 96, 3)</td>\n",
       "      <td>27.648</td>\n",
       "    </tr>\n",
       "    <tr>\n",
       "      <th>2</th>\n",
       "      <td>114</td>\n",
       "      <td>shufflenetv1/re_lu_33/Relu;shufflenetv.../Bias...</td>\n",
       "      <td>(1, 48, 48, 24)</td>\n",
       "      <td>55.296</td>\n",
       "    </tr>\n",
       "    <tr>\n",
       "      <th>3</th>\n",
       "      <td>115</td>\n",
       "      <td>shufflenetv1/max_pooling2d_1/MaxPool</td>\n",
       "      <td>(1, 24, 24, 24)</td>\n",
       "      <td>13.824</td>\n",
       "    </tr>\n",
       "    <tr>\n",
       "      <th>4</th>\n",
       "      <td>116</td>\n",
       "      <td>shufflenetv1/average_pooling2d_3/AvgPool</td>\n",
       "      <td>(1, 12, 12, 24)</td>\n",
       "      <td>3.456</td>\n",
       "    </tr>\n",
       "    <tr>\n",
       "      <th>5</th>\n",
       "      <td>117</td>\n",
       "      <td>shufflenetv1/re_lu_34/Relu;shufflenetv...1/dep...</td>\n",
       "      <td>(1, 24, 24, 50)</td>\n",
       "      <td>28.800</td>\n",
       "    </tr>\n",
       "    <tr>\n",
       "      <th>...</th>\n",
       "      <td>...</td>\n",
       "      <td>...</td>\n",
       "      <td>...</td>\n",
       "      <td>...</td>\n",
       "    </tr>\n",
       "    <tr>\n",
       "      <th>217</th>\n",
       "      <td>329</td>\n",
       "      <td>shufflenetv1/re_lu_65/Relu;shufflenetv1/add_25...</td>\n",
       "      <td>(1, 3, 3, 800)</td>\n",
       "      <td>7.200</td>\n",
       "    </tr>\n",
       "    <tr>\n",
       "      <th>218</th>\n",
       "      <td>330</td>\n",
       "      <td>shufflenetv1/global_average_pooling2d_1/Mean</td>\n",
       "      <td>(1, 800)</td>\n",
       "      <td>0.800</td>\n",
       "    </tr>\n",
       "    <tr>\n",
       "      <th>219</th>\n",
       "      <td>331</td>\n",
       "      <td>shufflenetv1/dense_1/MatMul;shufflenetv1/dense...</td>\n",
       "      <td>(1, 3)</td>\n",
       "      <td>0.003</td>\n",
       "    </tr>\n",
       "    <tr>\n",
       "      <th>220</th>\n",
       "      <td>332</td>\n",
       "      <td>StatefulPartitionedCall:01</td>\n",
       "      <td>(1, 3)</td>\n",
       "      <td>0.003</td>\n",
       "    </tr>\n",
       "    <tr>\n",
       "      <th>221</th>\n",
       "      <td>333</td>\n",
       "      <td>StatefulPartitionedCall:0</td>\n",
       "      <td>(1, 3)</td>\n",
       "      <td>0.012</td>\n",
       "    </tr>\n",
       "  </tbody>\n",
       "</table>\n",
       "<p>221 rows × 4 columns</p>\n",
       "</div>"
      ],
      "text/plain": [
       "    tensor_id                                             tensor  \\\n",
       "1           0                          serving_default_input_2:0   \n",
       "2         114  shufflenetv1/re_lu_33/Relu;shufflenetv.../Bias...   \n",
       "3         115               shufflenetv1/max_pooling2d_1/MaxPool   \n",
       "4         116           shufflenetv1/average_pooling2d_3/AvgPool   \n",
       "5         117  shufflenetv1/re_lu_34/Relu;shufflenetv...1/dep...   \n",
       "..        ...                                                ...   \n",
       "217       329  shufflenetv1/re_lu_65/Relu;shufflenetv1/add_25...   \n",
       "218       330       shufflenetv1/global_average_pooling2d_1/Mean   \n",
       "219       331  shufflenetv1/dense_1/MatMul;shufflenetv1/dense...   \n",
       "220       332                         StatefulPartitionedCall:01   \n",
       "221       333                          StatefulPartitionedCall:0   \n",
       "\n",
       "               shape  size_in_RAM_kb  \n",
       "1     (1, 96, 96, 3)          27.648  \n",
       "2    (1, 48, 48, 24)          55.296  \n",
       "3    (1, 24, 24, 24)          13.824  \n",
       "4    (1, 12, 12, 24)           3.456  \n",
       "5    (1, 24, 24, 50)          28.800  \n",
       "..               ...             ...  \n",
       "217   (1, 3, 3, 800)           7.200  \n",
       "218         (1, 800)           0.800  \n",
       "219           (1, 3)           0.003  \n",
       "220           (1, 3)           0.003  \n",
       "221           (1, 3)           0.012  \n",
       "\n",
       "[221 rows x 4 columns]"
      ]
     },
     "execution_count": 12,
     "metadata": {},
     "output_type": "execute_result"
    }
   ],
   "source": [
    "tensor_info_df = pd.read_pickle(tensor_info_df_path)\n",
    "tensor_info_df"
   ]
  },
  {
   "cell_type": "code",
   "execution_count": 13,
   "metadata": {},
   "outputs": [
    {
     "data": {
      "text/html": [
       "<div>\n",
       "<style scoped>\n",
       "    .dataframe tbody tr th:only-of-type {\n",
       "        vertical-align: middle;\n",
       "    }\n",
       "\n",
       "    .dataframe tbody tr th {\n",
       "        vertical-align: top;\n",
       "    }\n",
       "\n",
       "    .dataframe thead th {\n",
       "        text-align: right;\n",
       "    }\n",
       "</style>\n",
       "<table border=\"1\" class=\"dataframe\">\n",
       "  <thead>\n",
       "    <tr style=\"text-align: right;\">\n",
       "      <th></th>\n",
       "      <th>operator</th>\n",
       "      <th>tensor_ids_in_memory</th>\n",
       "      <th>peak_memory_kb</th>\n",
       "    </tr>\n",
       "  </thead>\n",
       "  <tbody>\n",
       "    <tr>\n",
       "      <th>1</th>\n",
       "      <td>shufflenetv1/re_lu_33/Relu;shufflenetv.../Bias...</td>\n",
       "      <td>[0, 114]</td>\n",
       "      <td>82.944</td>\n",
       "    </tr>\n",
       "    <tr>\n",
       "      <th>2</th>\n",
       "      <td>shufflenetv1/max_pooling2d_1/MaxPool</td>\n",
       "      <td>[114, 115]</td>\n",
       "      <td>69.120</td>\n",
       "    </tr>\n",
       "    <tr>\n",
       "      <th>3</th>\n",
       "      <td>shufflenetv1/average_pooling2d_3/AvgPool</td>\n",
       "      <td>[115, 116]</td>\n",
       "      <td>17.280</td>\n",
       "    </tr>\n",
       "    <tr>\n",
       "      <th>4</th>\n",
       "      <td>shufflenetv1/re_lu_34/Relu;shufflenetv...1/dep...</td>\n",
       "      <td>[115, 116, 117]</td>\n",
       "      <td>46.080</td>\n",
       "    </tr>\n",
       "    <tr>\n",
       "      <th>5</th>\n",
       "      <td>shufflenetv1/reshape_32/Shape</td>\n",
       "      <td>[116, 117, 118]</td>\n",
       "      <td>32.272</td>\n",
       "    </tr>\n",
       "    <tr>\n",
       "      <th>...</th>\n",
       "      <td>...</td>\n",
       "      <td>...</td>\n",
       "      <td>...</td>\n",
       "    </tr>\n",
       "    <tr>\n",
       "      <th>216</th>\n",
       "      <td>shufflenetv1/re_lu_65/Relu;shufflenetv1/add_25...</td>\n",
       "      <td>[328, 329, 316]</td>\n",
       "      <td>21.600</td>\n",
       "    </tr>\n",
       "    <tr>\n",
       "      <th>217</th>\n",
       "      <td>shufflenetv1/global_average_pooling2d_1/Mean</td>\n",
       "      <td>[329, 330]</td>\n",
       "      <td>8.000</td>\n",
       "    </tr>\n",
       "    <tr>\n",
       "      <th>218</th>\n",
       "      <td>shufflenetv1/dense_1/MatMul;shufflenetv1/dense...</td>\n",
       "      <td>[330, 331]</td>\n",
       "      <td>0.803</td>\n",
       "    </tr>\n",
       "    <tr>\n",
       "      <th>219</th>\n",
       "      <td>StatefulPartitionedCall:01</td>\n",
       "      <td>[331, 332]</td>\n",
       "      <td>0.006</td>\n",
       "    </tr>\n",
       "    <tr>\n",
       "      <th>220</th>\n",
       "      <td>StatefulPartitionedCall:0</td>\n",
       "      <td>[332, 333]</td>\n",
       "      <td>0.015</td>\n",
       "    </tr>\n",
       "  </tbody>\n",
       "</table>\n",
       "<p>220 rows × 3 columns</p>\n",
       "</div>"
      ],
      "text/plain": [
       "                                              operator tensor_ids_in_memory  \\\n",
       "1    shufflenetv1/re_lu_33/Relu;shufflenetv.../Bias...             [0, 114]   \n",
       "2                 shufflenetv1/max_pooling2d_1/MaxPool           [114, 115]   \n",
       "3             shufflenetv1/average_pooling2d_3/AvgPool           [115, 116]   \n",
       "4    shufflenetv1/re_lu_34/Relu;shufflenetv...1/dep...      [115, 116, 117]   \n",
       "5                        shufflenetv1/reshape_32/Shape      [116, 117, 118]   \n",
       "..                                                 ...                  ...   \n",
       "216  shufflenetv1/re_lu_65/Relu;shufflenetv1/add_25...      [328, 329, 316]   \n",
       "217       shufflenetv1/global_average_pooling2d_1/Mean           [329, 330]   \n",
       "218  shufflenetv1/dense_1/MatMul;shufflenetv1/dense...           [330, 331]   \n",
       "219                         StatefulPartitionedCall:01           [331, 332]   \n",
       "220                          StatefulPartitionedCall:0           [332, 333]   \n",
       "\n",
       "     peak_memory_kb  \n",
       "1            82.944  \n",
       "2            69.120  \n",
       "3            17.280  \n",
       "4            46.080  \n",
       "5            32.272  \n",
       "..              ...  \n",
       "216          21.600  \n",
       "217           8.000  \n",
       "218           0.803  \n",
       "219           0.006  \n",
       "220           0.015  \n",
       "\n",
       "[220 rows x 3 columns]"
      ]
     },
     "execution_count": 13,
     "metadata": {},
     "output_type": "execute_result"
    }
   ],
   "source": [
    "peak_memory_df = pd.read_pickle(models_peak_memory_df_path)\n",
    "peak_memory_df"
   ]
  },
  {
   "attachments": {},
   "cell_type": "markdown",
   "metadata": {},
   "source": [
    "# Visualizations"
   ]
  },
  {
   "cell_type": "code",
   "execution_count": 18,
   "metadata": {},
   "outputs": [],
   "source": [
    "# fig = px.bar(df, x=\"name\", y= [\"#i_1_activations\",\"#i_2_activations\", \"#o_1_activations\"], text_auto=\".2s\",\n",
    "# width=1400, height=500,\n",
    "#     title=f\"Peak activations per layer - {model_name}\")\n",
    "# fig.add_hline(y=256000, line_width=3, line_dash=\"dash\", line_color=\"orange\", annotation_text=\"256 kB MCU constraint\", \n",
    "#               annotation_position=\"bottom right\")\n",
    "# fig.update_layout(yaxis_range=[0,300000])\n",
    "# #fig.update_layout(showlegend=True)\n",
    "# fig.show()"
   ]
  },
  {
   "cell_type": "code",
   "execution_count": 24,
   "metadata": {},
   "outputs": [
    {
     "data": {
      "application/vnd.plotly.v1+json": {
       "config": {
        "plotlyServerURL": "https://plot.ly"
       },
       "data": [
        {
         "alignmentgroup": "True",
         "hovertemplate": "variable=peak_memory_kb<br>operator=%{x}<br>value=%{y}<extra></extra>",
         "legendgroup": "peak_memory_kb",
         "marker": {
          "color": "#636efa",
          "pattern": {
           "shape": ""
          }
         },
         "name": "peak_memory_kb",
         "offsetgroup": "peak_memory_kb",
         "orientation": "v",
         "showlegend": true,
         "textposition": "auto",
         "texttemplate": "%{y:.2s}",
         "type": "bar",
         "x": [
          "shufflenetv1/re_lu_33/Relu;shufflenetv.../BiasAdd;shufflenetv1/conv2d_33/Conv2D1",
          "shufflenetv1/max_pooling2d_1/MaxPool",
          "shufflenetv1/average_pooling2d_3/AvgPool",
          "shufflenetv1/re_lu_34/Relu;shufflenetv...1/depthwise_conv2d_19/depthwise;Conv2D1",
          "shufflenetv1/reshape_32/Shape",
          "shufflenetv1/reshape_32/strided_slice",
          "shufflenetv1/reshape_32/Reshape/shape",
          "shufflenetv1/reshape_32/Reshape",
          "shufflenetv1/permute_16/transpose",
          "shufflenetv1/reshape_33/Shape",
          "shufflenetv1/reshape_33/strided_slice",
          "shufflenetv1/reshape_33/Reshape/shape",
          "shufflenetv1/reshape_33/Reshape",
          "shufflenetv1/batch_normalization_51/Fu...flenetv1/depthwise_conv2d_19/depthwise2",
          "shufflenetv1/batch_normalization_52/Fu...p;shufflenetv1/conv2d_35/BiasAdd;Conv2D",
          "shufflenetv1/concatenate_3/concat",
          "shufflenetv1/re_lu_35/Relu",
          "shufflenetv1/re_lu_36/Relu;shufflenetv...1/depthwise_conv2d_19/depthwise;Conv2D1",
          "shufflenetv1/reshape_34/Shape",
          "shufflenetv1/reshape_34/strided_slice",
          "shufflenetv1/reshape_34/Reshape/shape",
          "shufflenetv1/reshape_34/Reshape",
          "shufflenetv1/permute_17/transpose",
          "shufflenetv1/reshape_35/Shape",
          "shufflenetv1/reshape_35/strided_slice",
          "shufflenetv1/reshape_35/Reshape/shape",
          "shufflenetv1/reshape_35/Reshape",
          "shufflenetv1/batch_normalization_54/Fu...flenetv1/depthwise_conv2d_19/depthwise2",
          "shufflenetv1/batch_normalization_55/Fu...v1/depthwise_conv2d_31/depthwise;Conv2D",
          "shufflenetv1/re_lu_37/Relu;shufflenetv1/add_13/add",
          "shufflenetv1/re_lu_38/Relu;shufflenetv...1/depthwise_conv2d_19/depthwise;Conv2D1",
          "shufflenetv1/reshape_36/Shape",
          "shufflenetv1/reshape_36/strided_slice",
          "shufflenetv1/reshape_36/Reshape/shape",
          "shufflenetv1/reshape_36/Reshape",
          "shufflenetv1/permute_18/transpose",
          "shufflenetv1/reshape_37/Shape",
          "shufflenetv1/reshape_37/strided_slice",
          "shufflenetv1/reshape_37/Reshape/shape",
          "shufflenetv1/reshape_37/Reshape",
          "shufflenetv1/batch_normalization_57/Fu...flenetv1/depthwise_conv2d_19/depthwise2",
          "shufflenetv1/batch_normalization_58/Fu...v1/depthwise_conv2d_31/depthwise;Conv2D",
          "shufflenetv1/re_lu_39/Relu;shufflenetv1/add_14/add",
          "shufflenetv1/re_lu_40/Relu;shufflenetv...v1/depthwise_conv2d_19/depthwise;Conv2D",
          "shufflenetv1/reshape_38/Shape",
          "shufflenetv1/reshape_38/strided_slice",
          "shufflenetv1/reshape_38/Reshape/shape",
          "shufflenetv1/reshape_38/Reshape",
          "shufflenetv1/permute_19/transpose",
          "shufflenetv1/reshape_39/Shape",
          "shufflenetv1/reshape_39/strided_slice",
          "shufflenetv1/reshape_39/Reshape/shape",
          "shufflenetv1/reshape_39/Reshape",
          "shufflenetv1/batch_normalization_60/Fu...ufflenetv1/depthwise_conv2d_19/BiasAdd2",
          "shufflenetv1/batch_normalization_61/Fu...v1/depthwise_conv2d_31/depthwise;Conv2D",
          "shufflenetv1/re_lu_41/Relu;shufflenetv1/add_15/add",
          "shufflenetv1/average_pooling2d_4/AvgPool",
          "shufflenetv1/re_lu_42/Relu;shufflenetv...v1/depthwise_conv2d_27/depthwise;Conv2D",
          "shufflenetv1/reshape_40/Shape",
          "shufflenetv1/reshape_40/strided_slice",
          "shufflenetv1/reshape_40/Reshape/shape",
          "shufflenetv1/reshape_40/Reshape",
          "shufflenetv1/permute_20/transpose",
          "shufflenetv1/reshape_41/Shape",
          "shufflenetv1/reshape_41/strided_slice",
          "shufflenetv1/reshape_41/Reshape/shape",
          "shufflenetv1/reshape_41/Reshape",
          "shufflenetv1/batch_normalization_63/Fu...flenetv1/depthwise_conv2d_27/depthwise2",
          "shufflenetv1/batch_normalization_64/Fu...v1/depthwise_conv2d_31/depthwise;Conv2D",
          "shufflenetv1/concatenate_4/concat",
          "shufflenetv1/re_lu_43/Relu",
          "shufflenetv1/re_lu_44/Relu;shufflenetv...1/depthwise_conv2d_27/depthwise;Conv2D1",
          "shufflenetv1/reshape_42/Shape",
          "shufflenetv1/reshape_42/strided_slice",
          "shufflenetv1/reshape_42/Reshape/shape",
          "shufflenetv1/reshape_42/Reshape",
          "shufflenetv1/permute_21/transpose",
          "shufflenetv1/reshape_43/Shape",
          "shufflenetv1/reshape_43/strided_slice",
          "shufflenetv1/reshape_43/Reshape/shape",
          "shufflenetv1/reshape_43/Reshape",
          "shufflenetv1/batch_normalization_66/Fu...flenetv1/depthwise_conv2d_27/depthwise2",
          "shufflenetv1/batch_normalization_67/Fu...lenetv1/conv2d_45/BiasAdd;Conv2D;Conv2D",
          "shufflenetv1/re_lu_45/Relu;shufflenetv1/add_16/add",
          "shufflenetv1/re_lu_46/Relu;shufflenetv...v1/depthwise_conv2d_27/depthwise;Conv2D",
          "shufflenetv1/reshape_44/Shape",
          "shufflenetv1/reshape_44/strided_slice",
          "shufflenetv1/reshape_44/Reshape/shape",
          "shufflenetv1/reshape_44/Reshape",
          "shufflenetv1/permute_22/transpose",
          "shufflenetv1/reshape_45/Shape",
          "shufflenetv1/reshape_45/strided_slice",
          "shufflenetv1/reshape_45/Reshape/shape",
          "shufflenetv1/reshape_45/Reshape",
          "shufflenetv1/batch_normalization_69/Fu...flenetv1/depthwise_conv2d_27/depthwise2",
          "shufflenetv1/batch_normalization_70/Fu...lenetv1/conv2d_47/BiasAdd;Conv2D;Conv2D",
          "shufflenetv1/re_lu_47/Relu;shufflenetv1/add_17/add",
          "shufflenetv1/re_lu_48/Relu;shufflenetv...v1/depthwise_conv2d_27/depthwise;Conv2D",
          "shufflenetv1/reshape_46/Shape",
          "shufflenetv1/reshape_46/strided_slice",
          "shufflenetv1/reshape_46/Reshape/shape",
          "shufflenetv1/reshape_46/Reshape",
          "shufflenetv1/permute_23/transpose",
          "shufflenetv1/reshape_47/Shape",
          "shufflenetv1/reshape_47/strided_slice",
          "shufflenetv1/reshape_47/Reshape/shape",
          "shufflenetv1/reshape_47/Reshape",
          "shufflenetv1/batch_normalization_72/Fu...flenetv1/depthwise_conv2d_27/depthwise2",
          "shufflenetv1/batch_normalization_73/Fu...lenetv1/conv2d_49/BiasAdd;Conv2D;Conv2D",
          "shufflenetv1/re_lu_49/Relu;shufflenetv1/add_18/add",
          "shufflenetv1/re_lu_50/Relu;shufflenetv...v1/depthwise_conv2d_27/depthwise;Conv2D",
          "shufflenetv1/reshape_48/Shape",
          "shufflenetv1/reshape_48/strided_slice",
          "shufflenetv1/reshape_48/Reshape/shape",
          "shufflenetv1/reshape_48/Reshape",
          "shufflenetv1/permute_24/transpose",
          "shufflenetv1/reshape_49/Shape",
          "shufflenetv1/reshape_49/strided_slice",
          "shufflenetv1/reshape_49/Reshape/shape",
          "shufflenetv1/reshape_49/Reshape",
          "shufflenetv1/batch_normalization_75/Fu...flenetv1/depthwise_conv2d_27/depthwise2",
          "shufflenetv1/batch_normalization_76/Fu...lenetv1/conv2d_51/BiasAdd;Conv2D;Conv2D",
          "shufflenetv1/re_lu_51/Relu;shufflenetv1/add_19/add",
          "shufflenetv1/re_lu_52/Relu;shufflenetv...v1/depthwise_conv2d_27/depthwise;Conv2D",
          "shufflenetv1/reshape_50/Shape",
          "shufflenetv1/reshape_50/strided_slice",
          "shufflenetv1/reshape_50/Reshape/shape",
          "shufflenetv1/reshape_50/Reshape",
          "shufflenetv1/permute_25/transpose",
          "shufflenetv1/reshape_51/Shape",
          "shufflenetv1/reshape_51/strided_slice",
          "shufflenetv1/reshape_51/Reshape/shape",
          "shufflenetv1/reshape_51/Reshape",
          "shufflenetv1/batch_normalization_78/Fu...flenetv1/depthwise_conv2d_27/depthwise2",
          "shufflenetv1/batch_normalization_79/Fu...lenetv1/conv2d_53/BiasAdd;Conv2D;Conv2D",
          "shufflenetv1/re_lu_53/Relu;shufflenetv1/add_20/add",
          "shufflenetv1/re_lu_54/Relu;shufflenetv...v1/depthwise_conv2d_27/depthwise;Conv2D",
          "shufflenetv1/reshape_52/Shape",
          "shufflenetv1/reshape_52/strided_slice",
          "shufflenetv1/reshape_52/Reshape/shape",
          "shufflenetv1/reshape_52/Reshape",
          "shufflenetv1/permute_26/transpose",
          "shufflenetv1/reshape_53/Shape",
          "shufflenetv1/reshape_53/strided_slice",
          "shufflenetv1/reshape_53/Reshape/shape",
          "shufflenetv1/reshape_53/Reshape",
          "shufflenetv1/batch_normalization_81/Fu...flenetv1/depthwise_conv2d_27/depthwise2",
          "shufflenetv1/batch_normalization_82/Fu...lenetv1/conv2d_55/BiasAdd;Conv2D;Conv2D",
          "shufflenetv1/re_lu_55/Relu;shufflenetv1/add_21/add",
          "shufflenetv1/re_lu_56/Relu;shufflenetv...v1/depthwise_conv2d_27/depthwise;Conv2D",
          "shufflenetv1/reshape_54/Shape",
          "shufflenetv1/reshape_54/strided_slice",
          "shufflenetv1/reshape_54/Reshape/shape",
          "shufflenetv1/reshape_54/Reshape",
          "shufflenetv1/permute_27/transpose",
          "shufflenetv1/reshape_55/Shape",
          "shufflenetv1/reshape_55/strided_slice",
          "shufflenetv1/reshape_55/Reshape/shape",
          "shufflenetv1/reshape_55/Reshape",
          "shufflenetv1/batch_normalization_84/Fu...ufflenetv1/depthwise_conv2d_27/BiasAdd2",
          "shufflenetv1/batch_normalization_85/Fu...lenetv1/conv2d_57/BiasAdd;Conv2D;Conv2D",
          "shufflenetv1/re_lu_57/Relu;shufflenetv1/add_22/add",
          "shufflenetv1/average_pooling2d_5/AvgPool",
          "shufflenetv1/re_lu_58/Relu;shufflenetv...v1/depthwise_conv2d_31/depthwise;Conv2D",
          "shufflenetv1/reshape_56/Shape",
          "shufflenetv1/reshape_56/strided_slice",
          "shufflenetv1/reshape_56/Reshape/shape",
          "shufflenetv1/reshape_56/Reshape",
          "shufflenetv1/permute_28/transpose",
          "shufflenetv1/reshape_57/Shape",
          "shufflenetv1/reshape_57/strided_slice",
          "shufflenetv1/reshape_57/Reshape/shape",
          "shufflenetv1/reshape_57/Reshape",
          "shufflenetv1/batch_normalization_87/Fu...flenetv1/depthwise_conv2d_31/depthwise2",
          "shufflenetv1/batch_normalization_88/Fu...p;shufflenetv1/conv2d_59/BiasAdd;Conv2D",
          "shufflenetv1/concatenate_5/concat",
          "shufflenetv1/re_lu_59/Relu",
          "shufflenetv1/re_lu_60/Relu;shufflenetv...v1/depthwise_conv2d_31/depthwise;Conv2D",
          "shufflenetv1/reshape_58/Shape",
          "shufflenetv1/reshape_58/strided_slice",
          "shufflenetv1/reshape_58/Reshape/shape",
          "shufflenetv1/reshape_58/Reshape",
          "shufflenetv1/permute_29/transpose",
          "shufflenetv1/reshape_59/Shape",
          "shufflenetv1/reshape_59/strided_slice",
          "shufflenetv1/reshape_59/Reshape/shape",
          "shufflenetv1/reshape_59/Reshape",
          "shufflenetv1/batch_normalization_90/Fu...flenetv1/depthwise_conv2d_31/depthwise2",
          "shufflenetv1/batch_normalization_91/Fu...lenetv1/conv2d_61/BiasAdd;Conv2D;Conv2D",
          "shufflenetv1/re_lu_61/Relu;shufflenetv1/add_23/add",
          "shufflenetv1/re_lu_62/Relu;shufflenetv...v1/depthwise_conv2d_31/depthwise;Conv2D",
          "shufflenetv1/reshape_60/Shape",
          "shufflenetv1/reshape_60/strided_slice",
          "shufflenetv1/reshape_60/Reshape/shape",
          "shufflenetv1/reshape_60/Reshape",
          "shufflenetv1/permute_30/transpose",
          "shufflenetv1/reshape_61/Shape",
          "shufflenetv1/reshape_61/strided_slice",
          "shufflenetv1/reshape_61/Reshape/shape",
          "shufflenetv1/reshape_61/Reshape",
          "shufflenetv1/batch_normalization_93/Fu...flenetv1/depthwise_conv2d_31/depthwise2",
          "shufflenetv1/batch_normalization_94/Fu...lenetv1/conv2d_63/BiasAdd;Conv2D;Conv2D",
          "shufflenetv1/re_lu_63/Relu;shufflenetv1/add_24/add",
          "shufflenetv1/re_lu_64/Relu;shufflenetv...v1/depthwise_conv2d_31/depthwise;Conv2D",
          "shufflenetv1/reshape_62/Shape",
          "shufflenetv1/reshape_62/strided_slice",
          "shufflenetv1/reshape_62/Reshape/shape",
          "shufflenetv1/reshape_62/Reshape",
          "shufflenetv1/permute_31/transpose",
          "shufflenetv1/reshape_63/Shape",
          "shufflenetv1/reshape_63/strided_slice",
          "shufflenetv1/reshape_63/Reshape/shape",
          "shufflenetv1/reshape_63/Reshape",
          "shufflenetv1/batch_normalization_96/Fu...ufflenetv1/depthwise_conv2d_31/BiasAdd2",
          "shufflenetv1/batch_normalization_97/Fu...p;shufflenetv1/conv2d_65/BiasAdd;Conv2D",
          "shufflenetv1/re_lu_65/Relu;shufflenetv1/add_25/add",
          "shufflenetv1/global_average_pooling2d_1/Mean",
          "shufflenetv1/dense_1/MatMul;shufflenetv1/dense_1/BiasAdd",
          "StatefulPartitionedCall:01",
          "StatefulPartitionedCall:0"
         ],
         "xaxis": "x",
         "y": [
          82.944,
          69.12,
          17.28,
          46.08,
          32.272,
          32.276,
          32.28,
          61.076,
          61.056,
          32.276,
          32.28,
          32.276,
          61.072,
          39.456,
          36,
          57.6,
          57.6,
          36,
          36.016,
          36.02,
          36.024,
          43.22,
          43.2,
          36.02,
          36.024,
          36.02,
          43.216,
          43.2,
          64.8,
          86.4,
          36,
          36.016,
          36.02,
          36.024,
          43.22,
          43.2,
          36.02,
          36.024,
          36.02,
          43.216,
          43.2,
          64.8,
          86.4,
          36,
          36.016,
          36.02,
          36.024,
          43.22,
          43.2,
          36.02,
          36.024,
          36.02,
          43.216,
          43.2,
          64.8,
          86.4,
          36,
          50.4,
          21.616,
          21.62,
          21.624,
          36.02,
          36,
          21.62,
          21.624,
          21.62,
          36.016,
          25.2,
          18,
          28.8,
          28.8,
          18,
          18.016,
          18.02,
          18.024,
          21.62,
          21.6,
          18.02,
          18.024,
          18.02,
          21.616,
          21.6,
          32.4,
          43.2,
          18,
          18.016,
          18.02,
          18.024,
          21.62,
          21.6,
          18.02,
          18.024,
          18.02,
          21.616,
          21.6,
          32.4,
          43.2,
          18,
          18.016,
          18.02,
          18.024,
          21.62,
          21.6,
          18.02,
          18.024,
          18.02,
          21.616,
          21.6,
          32.4,
          43.2,
          18,
          18.016,
          18.02,
          18.024,
          21.62,
          21.6,
          18.02,
          18.024,
          18.02,
          21.616,
          21.6,
          32.4,
          43.2,
          18,
          18.016,
          18.02,
          18.024,
          21.62,
          21.6,
          18.02,
          18.024,
          18.02,
          21.616,
          21.6,
          32.4,
          43.2,
          18,
          18.016,
          18.02,
          18.024,
          21.62,
          21.6,
          18.02,
          18.024,
          18.02,
          21.616,
          21.6,
          32.4,
          43.2,
          18,
          18.016,
          18.02,
          18.024,
          21.62,
          21.6,
          18.02,
          18.024,
          18.02,
          21.616,
          21.6,
          32.4,
          43.2,
          18,
          25.2,
          10.816,
          10.82,
          10.824,
          18.02,
          18,
          10.82,
          10.824,
          10.82,
          18.016,
          12.6,
          9,
          14.4,
          14.4,
          9,
          9.016,
          9.02,
          9.024,
          10.82,
          10.8,
          9.02,
          9.024,
          9.02,
          10.816,
          10.8,
          16.2,
          21.6,
          9,
          9.016,
          9.02,
          9.024,
          10.82,
          10.8,
          9.02,
          9.024,
          9.02,
          10.816,
          10.8,
          16.2,
          21.6,
          9,
          9.016,
          9.02,
          9.024,
          10.82,
          10.8,
          9.02,
          9.024,
          9.02,
          10.816,
          10.8,
          16.2,
          21.6,
          8,
          0.803,
          0.006,
          0.015
         ],
         "yaxis": "y"
        }
       ],
       "layout": {
        "annotations": [
         {
          "showarrow": false,
          "text": "256 kB MCU constraint",
          "x": 1,
          "xanchor": "right",
          "xref": "x domain",
          "y": 256,
          "yanchor": "top",
          "yref": "y"
         },
         {
          "showarrow": false,
          "text": "86.4 kB peak activation",
          "x": 0.5,
          "xanchor": "center",
          "xref": "x domain",
          "y": 86.4,
          "yanchor": "bottom",
          "yref": "y"
         }
        ],
        "barmode": "relative",
        "height": 600,
        "legend": {
         "title": {
          "text": "variable"
         },
         "tracegroupgap": 0
        },
        "shapes": [
         {
          "line": {
           "color": "orange",
           "dash": "dash",
           "width": 3
          },
          "type": "line",
          "x0": 0,
          "x1": 1,
          "xref": "x domain",
          "y0": 256,
          "y1": 256,
          "yref": "y"
         },
         {
          "line": {
           "color": "red",
           "dash": "dash",
           "width": 3
          },
          "type": "line",
          "x0": 0,
          "x1": 1,
          "xref": "x domain",
          "y0": 86.4,
          "y1": 86.4,
          "yref": "y"
         }
        ],
        "template": {
         "data": {
          "bar": [
           {
            "error_x": {
             "color": "#2a3f5f"
            },
            "error_y": {
             "color": "#2a3f5f"
            },
            "marker": {
             "line": {
              "color": "#E5ECF6",
              "width": 0.5
             },
             "pattern": {
              "fillmode": "overlay",
              "size": 10,
              "solidity": 0.2
             }
            },
            "type": "bar"
           }
          ],
          "barpolar": [
           {
            "marker": {
             "line": {
              "color": "#E5ECF6",
              "width": 0.5
             },
             "pattern": {
              "fillmode": "overlay",
              "size": 10,
              "solidity": 0.2
             }
            },
            "type": "barpolar"
           }
          ],
          "carpet": [
           {
            "aaxis": {
             "endlinecolor": "#2a3f5f",
             "gridcolor": "white",
             "linecolor": "white",
             "minorgridcolor": "white",
             "startlinecolor": "#2a3f5f"
            },
            "baxis": {
             "endlinecolor": "#2a3f5f",
             "gridcolor": "white",
             "linecolor": "white",
             "minorgridcolor": "white",
             "startlinecolor": "#2a3f5f"
            },
            "type": "carpet"
           }
          ],
          "choropleth": [
           {
            "colorbar": {
             "outlinewidth": 0,
             "ticks": ""
            },
            "type": "choropleth"
           }
          ],
          "contour": [
           {
            "colorbar": {
             "outlinewidth": 0,
             "ticks": ""
            },
            "colorscale": [
             [
              0,
              "#0d0887"
             ],
             [
              0.1111111111111111,
              "#46039f"
             ],
             [
              0.2222222222222222,
              "#7201a8"
             ],
             [
              0.3333333333333333,
              "#9c179e"
             ],
             [
              0.4444444444444444,
              "#bd3786"
             ],
             [
              0.5555555555555556,
              "#d8576b"
             ],
             [
              0.6666666666666666,
              "#ed7953"
             ],
             [
              0.7777777777777778,
              "#fb9f3a"
             ],
             [
              0.8888888888888888,
              "#fdca26"
             ],
             [
              1,
              "#f0f921"
             ]
            ],
            "type": "contour"
           }
          ],
          "contourcarpet": [
           {
            "colorbar": {
             "outlinewidth": 0,
             "ticks": ""
            },
            "type": "contourcarpet"
           }
          ],
          "heatmap": [
           {
            "colorbar": {
             "outlinewidth": 0,
             "ticks": ""
            },
            "colorscale": [
             [
              0,
              "#0d0887"
             ],
             [
              0.1111111111111111,
              "#46039f"
             ],
             [
              0.2222222222222222,
              "#7201a8"
             ],
             [
              0.3333333333333333,
              "#9c179e"
             ],
             [
              0.4444444444444444,
              "#bd3786"
             ],
             [
              0.5555555555555556,
              "#d8576b"
             ],
             [
              0.6666666666666666,
              "#ed7953"
             ],
             [
              0.7777777777777778,
              "#fb9f3a"
             ],
             [
              0.8888888888888888,
              "#fdca26"
             ],
             [
              1,
              "#f0f921"
             ]
            ],
            "type": "heatmap"
           }
          ],
          "heatmapgl": [
           {
            "colorbar": {
             "outlinewidth": 0,
             "ticks": ""
            },
            "colorscale": [
             [
              0,
              "#0d0887"
             ],
             [
              0.1111111111111111,
              "#46039f"
             ],
             [
              0.2222222222222222,
              "#7201a8"
             ],
             [
              0.3333333333333333,
              "#9c179e"
             ],
             [
              0.4444444444444444,
              "#bd3786"
             ],
             [
              0.5555555555555556,
              "#d8576b"
             ],
             [
              0.6666666666666666,
              "#ed7953"
             ],
             [
              0.7777777777777778,
              "#fb9f3a"
             ],
             [
              0.8888888888888888,
              "#fdca26"
             ],
             [
              1,
              "#f0f921"
             ]
            ],
            "type": "heatmapgl"
           }
          ],
          "histogram": [
           {
            "marker": {
             "pattern": {
              "fillmode": "overlay",
              "size": 10,
              "solidity": 0.2
             }
            },
            "type": "histogram"
           }
          ],
          "histogram2d": [
           {
            "colorbar": {
             "outlinewidth": 0,
             "ticks": ""
            },
            "colorscale": [
             [
              0,
              "#0d0887"
             ],
             [
              0.1111111111111111,
              "#46039f"
             ],
             [
              0.2222222222222222,
              "#7201a8"
             ],
             [
              0.3333333333333333,
              "#9c179e"
             ],
             [
              0.4444444444444444,
              "#bd3786"
             ],
             [
              0.5555555555555556,
              "#d8576b"
             ],
             [
              0.6666666666666666,
              "#ed7953"
             ],
             [
              0.7777777777777778,
              "#fb9f3a"
             ],
             [
              0.8888888888888888,
              "#fdca26"
             ],
             [
              1,
              "#f0f921"
             ]
            ],
            "type": "histogram2d"
           }
          ],
          "histogram2dcontour": [
           {
            "colorbar": {
             "outlinewidth": 0,
             "ticks": ""
            },
            "colorscale": [
             [
              0,
              "#0d0887"
             ],
             [
              0.1111111111111111,
              "#46039f"
             ],
             [
              0.2222222222222222,
              "#7201a8"
             ],
             [
              0.3333333333333333,
              "#9c179e"
             ],
             [
              0.4444444444444444,
              "#bd3786"
             ],
             [
              0.5555555555555556,
              "#d8576b"
             ],
             [
              0.6666666666666666,
              "#ed7953"
             ],
             [
              0.7777777777777778,
              "#fb9f3a"
             ],
             [
              0.8888888888888888,
              "#fdca26"
             ],
             [
              1,
              "#f0f921"
             ]
            ],
            "type": "histogram2dcontour"
           }
          ],
          "mesh3d": [
           {
            "colorbar": {
             "outlinewidth": 0,
             "ticks": ""
            },
            "type": "mesh3d"
           }
          ],
          "parcoords": [
           {
            "line": {
             "colorbar": {
              "outlinewidth": 0,
              "ticks": ""
             }
            },
            "type": "parcoords"
           }
          ],
          "pie": [
           {
            "automargin": true,
            "type": "pie"
           }
          ],
          "scatter": [
           {
            "fillpattern": {
             "fillmode": "overlay",
             "size": 10,
             "solidity": 0.2
            },
            "type": "scatter"
           }
          ],
          "scatter3d": [
           {
            "line": {
             "colorbar": {
              "outlinewidth": 0,
              "ticks": ""
             }
            },
            "marker": {
             "colorbar": {
              "outlinewidth": 0,
              "ticks": ""
             }
            },
            "type": "scatter3d"
           }
          ],
          "scattercarpet": [
           {
            "marker": {
             "colorbar": {
              "outlinewidth": 0,
              "ticks": ""
             }
            },
            "type": "scattercarpet"
           }
          ],
          "scattergeo": [
           {
            "marker": {
             "colorbar": {
              "outlinewidth": 0,
              "ticks": ""
             }
            },
            "type": "scattergeo"
           }
          ],
          "scattergl": [
           {
            "marker": {
             "colorbar": {
              "outlinewidth": 0,
              "ticks": ""
             }
            },
            "type": "scattergl"
           }
          ],
          "scattermapbox": [
           {
            "marker": {
             "colorbar": {
              "outlinewidth": 0,
              "ticks": ""
             }
            },
            "type": "scattermapbox"
           }
          ],
          "scatterpolar": [
           {
            "marker": {
             "colorbar": {
              "outlinewidth": 0,
              "ticks": ""
             }
            },
            "type": "scatterpolar"
           }
          ],
          "scatterpolargl": [
           {
            "marker": {
             "colorbar": {
              "outlinewidth": 0,
              "ticks": ""
             }
            },
            "type": "scatterpolargl"
           }
          ],
          "scatterternary": [
           {
            "marker": {
             "colorbar": {
              "outlinewidth": 0,
              "ticks": ""
             }
            },
            "type": "scatterternary"
           }
          ],
          "surface": [
           {
            "colorbar": {
             "outlinewidth": 0,
             "ticks": ""
            },
            "colorscale": [
             [
              0,
              "#0d0887"
             ],
             [
              0.1111111111111111,
              "#46039f"
             ],
             [
              0.2222222222222222,
              "#7201a8"
             ],
             [
              0.3333333333333333,
              "#9c179e"
             ],
             [
              0.4444444444444444,
              "#bd3786"
             ],
             [
              0.5555555555555556,
              "#d8576b"
             ],
             [
              0.6666666666666666,
              "#ed7953"
             ],
             [
              0.7777777777777778,
              "#fb9f3a"
             ],
             [
              0.8888888888888888,
              "#fdca26"
             ],
             [
              1,
              "#f0f921"
             ]
            ],
            "type": "surface"
           }
          ],
          "table": [
           {
            "cells": {
             "fill": {
              "color": "#EBF0F8"
             },
             "line": {
              "color": "white"
             }
            },
            "header": {
             "fill": {
              "color": "#C8D4E3"
             },
             "line": {
              "color": "white"
             }
            },
            "type": "table"
           }
          ]
         },
         "layout": {
          "annotationdefaults": {
           "arrowcolor": "#2a3f5f",
           "arrowhead": 0,
           "arrowwidth": 1
          },
          "autotypenumbers": "strict",
          "coloraxis": {
           "colorbar": {
            "outlinewidth": 0,
            "ticks": ""
           }
          },
          "colorscale": {
           "diverging": [
            [
             0,
             "#8e0152"
            ],
            [
             0.1,
             "#c51b7d"
            ],
            [
             0.2,
             "#de77ae"
            ],
            [
             0.3,
             "#f1b6da"
            ],
            [
             0.4,
             "#fde0ef"
            ],
            [
             0.5,
             "#f7f7f7"
            ],
            [
             0.6,
             "#e6f5d0"
            ],
            [
             0.7,
             "#b8e186"
            ],
            [
             0.8,
             "#7fbc41"
            ],
            [
             0.9,
             "#4d9221"
            ],
            [
             1,
             "#276419"
            ]
           ],
           "sequential": [
            [
             0,
             "#0d0887"
            ],
            [
             0.1111111111111111,
             "#46039f"
            ],
            [
             0.2222222222222222,
             "#7201a8"
            ],
            [
             0.3333333333333333,
             "#9c179e"
            ],
            [
             0.4444444444444444,
             "#bd3786"
            ],
            [
             0.5555555555555556,
             "#d8576b"
            ],
            [
             0.6666666666666666,
             "#ed7953"
            ],
            [
             0.7777777777777778,
             "#fb9f3a"
            ],
            [
             0.8888888888888888,
             "#fdca26"
            ],
            [
             1,
             "#f0f921"
            ]
           ],
           "sequentialminus": [
            [
             0,
             "#0d0887"
            ],
            [
             0.1111111111111111,
             "#46039f"
            ],
            [
             0.2222222222222222,
             "#7201a8"
            ],
            [
             0.3333333333333333,
             "#9c179e"
            ],
            [
             0.4444444444444444,
             "#bd3786"
            ],
            [
             0.5555555555555556,
             "#d8576b"
            ],
            [
             0.6666666666666666,
             "#ed7953"
            ],
            [
             0.7777777777777778,
             "#fb9f3a"
            ],
            [
             0.8888888888888888,
             "#fdca26"
            ],
            [
             1,
             "#f0f921"
            ]
           ]
          },
          "colorway": [
           "#636efa",
           "#EF553B",
           "#00cc96",
           "#ab63fa",
           "#FFA15A",
           "#19d3f3",
           "#FF6692",
           "#B6E880",
           "#FF97FF",
           "#FECB52"
          ],
          "font": {
           "color": "#2a3f5f"
          },
          "geo": {
           "bgcolor": "white",
           "lakecolor": "white",
           "landcolor": "#E5ECF6",
           "showlakes": true,
           "showland": true,
           "subunitcolor": "white"
          },
          "hoverlabel": {
           "align": "left"
          },
          "hovermode": "closest",
          "mapbox": {
           "style": "light"
          },
          "paper_bgcolor": "white",
          "plot_bgcolor": "#E5ECF6",
          "polar": {
           "angularaxis": {
            "gridcolor": "white",
            "linecolor": "white",
            "ticks": ""
           },
           "bgcolor": "#E5ECF6",
           "radialaxis": {
            "gridcolor": "white",
            "linecolor": "white",
            "ticks": ""
           }
          },
          "scene": {
           "xaxis": {
            "backgroundcolor": "#E5ECF6",
            "gridcolor": "white",
            "gridwidth": 2,
            "linecolor": "white",
            "showbackground": true,
            "ticks": "",
            "zerolinecolor": "white"
           },
           "yaxis": {
            "backgroundcolor": "#E5ECF6",
            "gridcolor": "white",
            "gridwidth": 2,
            "linecolor": "white",
            "showbackground": true,
            "ticks": "",
            "zerolinecolor": "white"
           },
           "zaxis": {
            "backgroundcolor": "#E5ECF6",
            "gridcolor": "white",
            "gridwidth": 2,
            "linecolor": "white",
            "showbackground": true,
            "ticks": "",
            "zerolinecolor": "white"
           }
          },
          "shapedefaults": {
           "line": {
            "color": "#2a3f5f"
           }
          },
          "ternary": {
           "aaxis": {
            "gridcolor": "white",
            "linecolor": "white",
            "ticks": ""
           },
           "baxis": {
            "gridcolor": "white",
            "linecolor": "white",
            "ticks": ""
           },
           "bgcolor": "#E5ECF6",
           "caxis": {
            "gridcolor": "white",
            "linecolor": "white",
            "ticks": ""
           }
          },
          "title": {
           "x": 0.05
          },
          "xaxis": {
           "automargin": true,
           "gridcolor": "white",
           "linecolor": "white",
           "ticks": "",
           "title": {
            "standoff": 15
           },
           "zerolinecolor": "white",
           "zerolinewidth": 2
          },
          "yaxis": {
           "automargin": true,
           "gridcolor": "white",
           "linecolor": "white",
           "ticks": "",
           "title": {
            "standoff": 15
           },
           "zerolinecolor": "white",
           "zerolinewidth": 2
          }
         }
        },
        "title": {
         "text": "Peak activations per layer - tflite shufflenetv1_1_96_c3_o3_000"
        },
        "width": 1400,
        "xaxis": {
         "anchor": "y",
         "domain": [
          0,
          1
         ],
         "title": {
          "text": "operator"
         }
        },
        "yaxis": {
         "anchor": "x",
         "domain": [
          0,
          1
         ],
         "range": [
          0,
          300
         ],
         "title": {
          "text": "value"
         }
        }
       }
      },
      "text/html": [
       "<div>                            <div id=\"07158866-ca47-4b18-8bc9-de2c1a46d736\" class=\"plotly-graph-div\" style=\"height:600px; width:1400px;\"></div>            <script type=\"text/javascript\">                require([\"plotly\"], function(Plotly) {                    window.PLOTLYENV=window.PLOTLYENV || {};                                    if (document.getElementById(\"07158866-ca47-4b18-8bc9-de2c1a46d736\")) {                    Plotly.newPlot(                        \"07158866-ca47-4b18-8bc9-de2c1a46d736\",                        [{\"alignmentgroup\":\"True\",\"hovertemplate\":\"variable=peak_memory_kb<br>operator=%{x}<br>value=%{y}<extra></extra>\",\"legendgroup\":\"peak_memory_kb\",\"marker\":{\"color\":\"#636efa\",\"pattern\":{\"shape\":\"\"}},\"name\":\"peak_memory_kb\",\"offsetgroup\":\"peak_memory_kb\",\"orientation\":\"v\",\"showlegend\":true,\"textposition\":\"auto\",\"texttemplate\":\"%{y:.2s}\",\"x\":[\"shufflenetv1/re_lu_33/Relu;shufflenetv.../BiasAdd;shufflenetv1/conv2d_33/Conv2D1\",\"shufflenetv1/max_pooling2d_1/MaxPool\",\"shufflenetv1/average_pooling2d_3/AvgPool\",\"shufflenetv1/re_lu_34/Relu;shufflenetv...1/depthwise_conv2d_19/depthwise;Conv2D1\",\"shufflenetv1/reshape_32/Shape\",\"shufflenetv1/reshape_32/strided_slice\",\"shufflenetv1/reshape_32/Reshape/shape\",\"shufflenetv1/reshape_32/Reshape\",\"shufflenetv1/permute_16/transpose\",\"shufflenetv1/reshape_33/Shape\",\"shufflenetv1/reshape_33/strided_slice\",\"shufflenetv1/reshape_33/Reshape/shape\",\"shufflenetv1/reshape_33/Reshape\",\"shufflenetv1/batch_normalization_51/Fu...flenetv1/depthwise_conv2d_19/depthwise2\",\"shufflenetv1/batch_normalization_52/Fu...p;shufflenetv1/conv2d_35/BiasAdd;Conv2D\",\"shufflenetv1/concatenate_3/concat\",\"shufflenetv1/re_lu_35/Relu\",\"shufflenetv1/re_lu_36/Relu;shufflenetv...1/depthwise_conv2d_19/depthwise;Conv2D1\",\"shufflenetv1/reshape_34/Shape\",\"shufflenetv1/reshape_34/strided_slice\",\"shufflenetv1/reshape_34/Reshape/shape\",\"shufflenetv1/reshape_34/Reshape\",\"shufflenetv1/permute_17/transpose\",\"shufflenetv1/reshape_35/Shape\",\"shufflenetv1/reshape_35/strided_slice\",\"shufflenetv1/reshape_35/Reshape/shape\",\"shufflenetv1/reshape_35/Reshape\",\"shufflenetv1/batch_normalization_54/Fu...flenetv1/depthwise_conv2d_19/depthwise2\",\"shufflenetv1/batch_normalization_55/Fu...v1/depthwise_conv2d_31/depthwise;Conv2D\",\"shufflenetv1/re_lu_37/Relu;shufflenetv1/add_13/add\",\"shufflenetv1/re_lu_38/Relu;shufflenetv...1/depthwise_conv2d_19/depthwise;Conv2D1\",\"shufflenetv1/reshape_36/Shape\",\"shufflenetv1/reshape_36/strided_slice\",\"shufflenetv1/reshape_36/Reshape/shape\",\"shufflenetv1/reshape_36/Reshape\",\"shufflenetv1/permute_18/transpose\",\"shufflenetv1/reshape_37/Shape\",\"shufflenetv1/reshape_37/strided_slice\",\"shufflenetv1/reshape_37/Reshape/shape\",\"shufflenetv1/reshape_37/Reshape\",\"shufflenetv1/batch_normalization_57/Fu...flenetv1/depthwise_conv2d_19/depthwise2\",\"shufflenetv1/batch_normalization_58/Fu...v1/depthwise_conv2d_31/depthwise;Conv2D\",\"shufflenetv1/re_lu_39/Relu;shufflenetv1/add_14/add\",\"shufflenetv1/re_lu_40/Relu;shufflenetv...v1/depthwise_conv2d_19/depthwise;Conv2D\",\"shufflenetv1/reshape_38/Shape\",\"shufflenetv1/reshape_38/strided_slice\",\"shufflenetv1/reshape_38/Reshape/shape\",\"shufflenetv1/reshape_38/Reshape\",\"shufflenetv1/permute_19/transpose\",\"shufflenetv1/reshape_39/Shape\",\"shufflenetv1/reshape_39/strided_slice\",\"shufflenetv1/reshape_39/Reshape/shape\",\"shufflenetv1/reshape_39/Reshape\",\"shufflenetv1/batch_normalization_60/Fu...ufflenetv1/depthwise_conv2d_19/BiasAdd2\",\"shufflenetv1/batch_normalization_61/Fu...v1/depthwise_conv2d_31/depthwise;Conv2D\",\"shufflenetv1/re_lu_41/Relu;shufflenetv1/add_15/add\",\"shufflenetv1/average_pooling2d_4/AvgPool\",\"shufflenetv1/re_lu_42/Relu;shufflenetv...v1/depthwise_conv2d_27/depthwise;Conv2D\",\"shufflenetv1/reshape_40/Shape\",\"shufflenetv1/reshape_40/strided_slice\",\"shufflenetv1/reshape_40/Reshape/shape\",\"shufflenetv1/reshape_40/Reshape\",\"shufflenetv1/permute_20/transpose\",\"shufflenetv1/reshape_41/Shape\",\"shufflenetv1/reshape_41/strided_slice\",\"shufflenetv1/reshape_41/Reshape/shape\",\"shufflenetv1/reshape_41/Reshape\",\"shufflenetv1/batch_normalization_63/Fu...flenetv1/depthwise_conv2d_27/depthwise2\",\"shufflenetv1/batch_normalization_64/Fu...v1/depthwise_conv2d_31/depthwise;Conv2D\",\"shufflenetv1/concatenate_4/concat\",\"shufflenetv1/re_lu_43/Relu\",\"shufflenetv1/re_lu_44/Relu;shufflenetv...1/depthwise_conv2d_27/depthwise;Conv2D1\",\"shufflenetv1/reshape_42/Shape\",\"shufflenetv1/reshape_42/strided_slice\",\"shufflenetv1/reshape_42/Reshape/shape\",\"shufflenetv1/reshape_42/Reshape\",\"shufflenetv1/permute_21/transpose\",\"shufflenetv1/reshape_43/Shape\",\"shufflenetv1/reshape_43/strided_slice\",\"shufflenetv1/reshape_43/Reshape/shape\",\"shufflenetv1/reshape_43/Reshape\",\"shufflenetv1/batch_normalization_66/Fu...flenetv1/depthwise_conv2d_27/depthwise2\",\"shufflenetv1/batch_normalization_67/Fu...lenetv1/conv2d_45/BiasAdd;Conv2D;Conv2D\",\"shufflenetv1/re_lu_45/Relu;shufflenetv1/add_16/add\",\"shufflenetv1/re_lu_46/Relu;shufflenetv...v1/depthwise_conv2d_27/depthwise;Conv2D\",\"shufflenetv1/reshape_44/Shape\",\"shufflenetv1/reshape_44/strided_slice\",\"shufflenetv1/reshape_44/Reshape/shape\",\"shufflenetv1/reshape_44/Reshape\",\"shufflenetv1/permute_22/transpose\",\"shufflenetv1/reshape_45/Shape\",\"shufflenetv1/reshape_45/strided_slice\",\"shufflenetv1/reshape_45/Reshape/shape\",\"shufflenetv1/reshape_45/Reshape\",\"shufflenetv1/batch_normalization_69/Fu...flenetv1/depthwise_conv2d_27/depthwise2\",\"shufflenetv1/batch_normalization_70/Fu...lenetv1/conv2d_47/BiasAdd;Conv2D;Conv2D\",\"shufflenetv1/re_lu_47/Relu;shufflenetv1/add_17/add\",\"shufflenetv1/re_lu_48/Relu;shufflenetv...v1/depthwise_conv2d_27/depthwise;Conv2D\",\"shufflenetv1/reshape_46/Shape\",\"shufflenetv1/reshape_46/strided_slice\",\"shufflenetv1/reshape_46/Reshape/shape\",\"shufflenetv1/reshape_46/Reshape\",\"shufflenetv1/permute_23/transpose\",\"shufflenetv1/reshape_47/Shape\",\"shufflenetv1/reshape_47/strided_slice\",\"shufflenetv1/reshape_47/Reshape/shape\",\"shufflenetv1/reshape_47/Reshape\",\"shufflenetv1/batch_normalization_72/Fu...flenetv1/depthwise_conv2d_27/depthwise2\",\"shufflenetv1/batch_normalization_73/Fu...lenetv1/conv2d_49/BiasAdd;Conv2D;Conv2D\",\"shufflenetv1/re_lu_49/Relu;shufflenetv1/add_18/add\",\"shufflenetv1/re_lu_50/Relu;shufflenetv...v1/depthwise_conv2d_27/depthwise;Conv2D\",\"shufflenetv1/reshape_48/Shape\",\"shufflenetv1/reshape_48/strided_slice\",\"shufflenetv1/reshape_48/Reshape/shape\",\"shufflenetv1/reshape_48/Reshape\",\"shufflenetv1/permute_24/transpose\",\"shufflenetv1/reshape_49/Shape\",\"shufflenetv1/reshape_49/strided_slice\",\"shufflenetv1/reshape_49/Reshape/shape\",\"shufflenetv1/reshape_49/Reshape\",\"shufflenetv1/batch_normalization_75/Fu...flenetv1/depthwise_conv2d_27/depthwise2\",\"shufflenetv1/batch_normalization_76/Fu...lenetv1/conv2d_51/BiasAdd;Conv2D;Conv2D\",\"shufflenetv1/re_lu_51/Relu;shufflenetv1/add_19/add\",\"shufflenetv1/re_lu_52/Relu;shufflenetv...v1/depthwise_conv2d_27/depthwise;Conv2D\",\"shufflenetv1/reshape_50/Shape\",\"shufflenetv1/reshape_50/strided_slice\",\"shufflenetv1/reshape_50/Reshape/shape\",\"shufflenetv1/reshape_50/Reshape\",\"shufflenetv1/permute_25/transpose\",\"shufflenetv1/reshape_51/Shape\",\"shufflenetv1/reshape_51/strided_slice\",\"shufflenetv1/reshape_51/Reshape/shape\",\"shufflenetv1/reshape_51/Reshape\",\"shufflenetv1/batch_normalization_78/Fu...flenetv1/depthwise_conv2d_27/depthwise2\",\"shufflenetv1/batch_normalization_79/Fu...lenetv1/conv2d_53/BiasAdd;Conv2D;Conv2D\",\"shufflenetv1/re_lu_53/Relu;shufflenetv1/add_20/add\",\"shufflenetv1/re_lu_54/Relu;shufflenetv...v1/depthwise_conv2d_27/depthwise;Conv2D\",\"shufflenetv1/reshape_52/Shape\",\"shufflenetv1/reshape_52/strided_slice\",\"shufflenetv1/reshape_52/Reshape/shape\",\"shufflenetv1/reshape_52/Reshape\",\"shufflenetv1/permute_26/transpose\",\"shufflenetv1/reshape_53/Shape\",\"shufflenetv1/reshape_53/strided_slice\",\"shufflenetv1/reshape_53/Reshape/shape\",\"shufflenetv1/reshape_53/Reshape\",\"shufflenetv1/batch_normalization_81/Fu...flenetv1/depthwise_conv2d_27/depthwise2\",\"shufflenetv1/batch_normalization_82/Fu...lenetv1/conv2d_55/BiasAdd;Conv2D;Conv2D\",\"shufflenetv1/re_lu_55/Relu;shufflenetv1/add_21/add\",\"shufflenetv1/re_lu_56/Relu;shufflenetv...v1/depthwise_conv2d_27/depthwise;Conv2D\",\"shufflenetv1/reshape_54/Shape\",\"shufflenetv1/reshape_54/strided_slice\",\"shufflenetv1/reshape_54/Reshape/shape\",\"shufflenetv1/reshape_54/Reshape\",\"shufflenetv1/permute_27/transpose\",\"shufflenetv1/reshape_55/Shape\",\"shufflenetv1/reshape_55/strided_slice\",\"shufflenetv1/reshape_55/Reshape/shape\",\"shufflenetv1/reshape_55/Reshape\",\"shufflenetv1/batch_normalization_84/Fu...ufflenetv1/depthwise_conv2d_27/BiasAdd2\",\"shufflenetv1/batch_normalization_85/Fu...lenetv1/conv2d_57/BiasAdd;Conv2D;Conv2D\",\"shufflenetv1/re_lu_57/Relu;shufflenetv1/add_22/add\",\"shufflenetv1/average_pooling2d_5/AvgPool\",\"shufflenetv1/re_lu_58/Relu;shufflenetv...v1/depthwise_conv2d_31/depthwise;Conv2D\",\"shufflenetv1/reshape_56/Shape\",\"shufflenetv1/reshape_56/strided_slice\",\"shufflenetv1/reshape_56/Reshape/shape\",\"shufflenetv1/reshape_56/Reshape\",\"shufflenetv1/permute_28/transpose\",\"shufflenetv1/reshape_57/Shape\",\"shufflenetv1/reshape_57/strided_slice\",\"shufflenetv1/reshape_57/Reshape/shape\",\"shufflenetv1/reshape_57/Reshape\",\"shufflenetv1/batch_normalization_87/Fu...flenetv1/depthwise_conv2d_31/depthwise2\",\"shufflenetv1/batch_normalization_88/Fu...p;shufflenetv1/conv2d_59/BiasAdd;Conv2D\",\"shufflenetv1/concatenate_5/concat\",\"shufflenetv1/re_lu_59/Relu\",\"shufflenetv1/re_lu_60/Relu;shufflenetv...v1/depthwise_conv2d_31/depthwise;Conv2D\",\"shufflenetv1/reshape_58/Shape\",\"shufflenetv1/reshape_58/strided_slice\",\"shufflenetv1/reshape_58/Reshape/shape\",\"shufflenetv1/reshape_58/Reshape\",\"shufflenetv1/permute_29/transpose\",\"shufflenetv1/reshape_59/Shape\",\"shufflenetv1/reshape_59/strided_slice\",\"shufflenetv1/reshape_59/Reshape/shape\",\"shufflenetv1/reshape_59/Reshape\",\"shufflenetv1/batch_normalization_90/Fu...flenetv1/depthwise_conv2d_31/depthwise2\",\"shufflenetv1/batch_normalization_91/Fu...lenetv1/conv2d_61/BiasAdd;Conv2D;Conv2D\",\"shufflenetv1/re_lu_61/Relu;shufflenetv1/add_23/add\",\"shufflenetv1/re_lu_62/Relu;shufflenetv...v1/depthwise_conv2d_31/depthwise;Conv2D\",\"shufflenetv1/reshape_60/Shape\",\"shufflenetv1/reshape_60/strided_slice\",\"shufflenetv1/reshape_60/Reshape/shape\",\"shufflenetv1/reshape_60/Reshape\",\"shufflenetv1/permute_30/transpose\",\"shufflenetv1/reshape_61/Shape\",\"shufflenetv1/reshape_61/strided_slice\",\"shufflenetv1/reshape_61/Reshape/shape\",\"shufflenetv1/reshape_61/Reshape\",\"shufflenetv1/batch_normalization_93/Fu...flenetv1/depthwise_conv2d_31/depthwise2\",\"shufflenetv1/batch_normalization_94/Fu...lenetv1/conv2d_63/BiasAdd;Conv2D;Conv2D\",\"shufflenetv1/re_lu_63/Relu;shufflenetv1/add_24/add\",\"shufflenetv1/re_lu_64/Relu;shufflenetv...v1/depthwise_conv2d_31/depthwise;Conv2D\",\"shufflenetv1/reshape_62/Shape\",\"shufflenetv1/reshape_62/strided_slice\",\"shufflenetv1/reshape_62/Reshape/shape\",\"shufflenetv1/reshape_62/Reshape\",\"shufflenetv1/permute_31/transpose\",\"shufflenetv1/reshape_63/Shape\",\"shufflenetv1/reshape_63/strided_slice\",\"shufflenetv1/reshape_63/Reshape/shape\",\"shufflenetv1/reshape_63/Reshape\",\"shufflenetv1/batch_normalization_96/Fu...ufflenetv1/depthwise_conv2d_31/BiasAdd2\",\"shufflenetv1/batch_normalization_97/Fu...p;shufflenetv1/conv2d_65/BiasAdd;Conv2D\",\"shufflenetv1/re_lu_65/Relu;shufflenetv1/add_25/add\",\"shufflenetv1/global_average_pooling2d_1/Mean\",\"shufflenetv1/dense_1/MatMul;shufflenetv1/dense_1/BiasAdd\",\"StatefulPartitionedCall:01\",\"StatefulPartitionedCall:0\"],\"xaxis\":\"x\",\"y\":[82.944,69.12,17.28,46.08,32.272,32.276,32.28,61.076,61.056,32.276,32.28,32.276,61.072,39.456,36.0,57.6,57.6,36.0,36.016,36.02,36.024,43.22,43.2,36.02,36.024,36.02,43.216,43.2,64.8,86.4,36.0,36.016,36.02,36.024,43.22,43.2,36.02,36.024,36.02,43.216,43.2,64.8,86.4,36.0,36.016,36.02,36.024,43.22,43.2,36.02,36.024,36.02,43.216,43.2,64.8,86.4,36.0,50.4,21.616,21.62,21.624,36.02,36.0,21.62,21.624,21.62,36.016,25.2,18.0,28.8,28.8,18.0,18.016,18.02,18.024,21.62,21.6,18.02,18.024,18.02,21.616,21.6,32.4,43.2,18.0,18.016,18.02,18.024,21.62,21.6,18.02,18.024,18.02,21.616,21.6,32.4,43.2,18.0,18.016,18.02,18.024,21.62,21.6,18.02,18.024,18.02,21.616,21.6,32.4,43.2,18.0,18.016,18.02,18.024,21.62,21.6,18.02,18.024,18.02,21.616,21.6,32.4,43.2,18.0,18.016,18.02,18.024,21.62,21.6,18.02,18.024,18.02,21.616,21.6,32.4,43.2,18.0,18.016,18.02,18.024,21.62,21.6,18.02,18.024,18.02,21.616,21.6,32.4,43.2,18.0,18.016,18.02,18.024,21.62,21.6,18.02,18.024,18.02,21.616,21.6,32.4,43.2,18.0,25.2,10.816,10.82,10.824,18.02,18.0,10.82,10.824,10.82,18.016,12.6,9.0,14.4,14.4,9.0,9.016,9.02,9.024,10.82,10.8,9.02,9.024,9.02,10.816,10.8,16.2,21.6,9.0,9.016,9.02,9.024,10.82,10.8,9.02,9.024,9.02,10.816,10.8,16.2,21.6,9.0,9.016,9.02,9.024,10.82,10.8,9.02,9.024,9.02,10.816,10.8,16.2,21.6,8.0,0.803,0.006,0.015],\"yaxis\":\"y\",\"type\":\"bar\"}],                        {\"template\":{\"data\":{\"histogram2dcontour\":[{\"type\":\"histogram2dcontour\",\"colorbar\":{\"outlinewidth\":0,\"ticks\":\"\"},\"colorscale\":[[0.0,\"#0d0887\"],[0.1111111111111111,\"#46039f\"],[0.2222222222222222,\"#7201a8\"],[0.3333333333333333,\"#9c179e\"],[0.4444444444444444,\"#bd3786\"],[0.5555555555555556,\"#d8576b\"],[0.6666666666666666,\"#ed7953\"],[0.7777777777777778,\"#fb9f3a\"],[0.8888888888888888,\"#fdca26\"],[1.0,\"#f0f921\"]]}],\"choropleth\":[{\"type\":\"choropleth\",\"colorbar\":{\"outlinewidth\":0,\"ticks\":\"\"}}],\"histogram2d\":[{\"type\":\"histogram2d\",\"colorbar\":{\"outlinewidth\":0,\"ticks\":\"\"},\"colorscale\":[[0.0,\"#0d0887\"],[0.1111111111111111,\"#46039f\"],[0.2222222222222222,\"#7201a8\"],[0.3333333333333333,\"#9c179e\"],[0.4444444444444444,\"#bd3786\"],[0.5555555555555556,\"#d8576b\"],[0.6666666666666666,\"#ed7953\"],[0.7777777777777778,\"#fb9f3a\"],[0.8888888888888888,\"#fdca26\"],[1.0,\"#f0f921\"]]}],\"heatmap\":[{\"type\":\"heatmap\",\"colorbar\":{\"outlinewidth\":0,\"ticks\":\"\"},\"colorscale\":[[0.0,\"#0d0887\"],[0.1111111111111111,\"#46039f\"],[0.2222222222222222,\"#7201a8\"],[0.3333333333333333,\"#9c179e\"],[0.4444444444444444,\"#bd3786\"],[0.5555555555555556,\"#d8576b\"],[0.6666666666666666,\"#ed7953\"],[0.7777777777777778,\"#fb9f3a\"],[0.8888888888888888,\"#fdca26\"],[1.0,\"#f0f921\"]]}],\"heatmapgl\":[{\"type\":\"heatmapgl\",\"colorbar\":{\"outlinewidth\":0,\"ticks\":\"\"},\"colorscale\":[[0.0,\"#0d0887\"],[0.1111111111111111,\"#46039f\"],[0.2222222222222222,\"#7201a8\"],[0.3333333333333333,\"#9c179e\"],[0.4444444444444444,\"#bd3786\"],[0.5555555555555556,\"#d8576b\"],[0.6666666666666666,\"#ed7953\"],[0.7777777777777778,\"#fb9f3a\"],[0.8888888888888888,\"#fdca26\"],[1.0,\"#f0f921\"]]}],\"contourcarpet\":[{\"type\":\"contourcarpet\",\"colorbar\":{\"outlinewidth\":0,\"ticks\":\"\"}}],\"contour\":[{\"type\":\"contour\",\"colorbar\":{\"outlinewidth\":0,\"ticks\":\"\"},\"colorscale\":[[0.0,\"#0d0887\"],[0.1111111111111111,\"#46039f\"],[0.2222222222222222,\"#7201a8\"],[0.3333333333333333,\"#9c179e\"],[0.4444444444444444,\"#bd3786\"],[0.5555555555555556,\"#d8576b\"],[0.6666666666666666,\"#ed7953\"],[0.7777777777777778,\"#fb9f3a\"],[0.8888888888888888,\"#fdca26\"],[1.0,\"#f0f921\"]]}],\"surface\":[{\"type\":\"surface\",\"colorbar\":{\"outlinewidth\":0,\"ticks\":\"\"},\"colorscale\":[[0.0,\"#0d0887\"],[0.1111111111111111,\"#46039f\"],[0.2222222222222222,\"#7201a8\"],[0.3333333333333333,\"#9c179e\"],[0.4444444444444444,\"#bd3786\"],[0.5555555555555556,\"#d8576b\"],[0.6666666666666666,\"#ed7953\"],[0.7777777777777778,\"#fb9f3a\"],[0.8888888888888888,\"#fdca26\"],[1.0,\"#f0f921\"]]}],\"mesh3d\":[{\"type\":\"mesh3d\",\"colorbar\":{\"outlinewidth\":0,\"ticks\":\"\"}}],\"scatter\":[{\"fillpattern\":{\"fillmode\":\"overlay\",\"size\":10,\"solidity\":0.2},\"type\":\"scatter\"}],\"parcoords\":[{\"type\":\"parcoords\",\"line\":{\"colorbar\":{\"outlinewidth\":0,\"ticks\":\"\"}}}],\"scatterpolargl\":[{\"type\":\"scatterpolargl\",\"marker\":{\"colorbar\":{\"outlinewidth\":0,\"ticks\":\"\"}}}],\"bar\":[{\"error_x\":{\"color\":\"#2a3f5f\"},\"error_y\":{\"color\":\"#2a3f5f\"},\"marker\":{\"line\":{\"color\":\"#E5ECF6\",\"width\":0.5},\"pattern\":{\"fillmode\":\"overlay\",\"size\":10,\"solidity\":0.2}},\"type\":\"bar\"}],\"scattergeo\":[{\"type\":\"scattergeo\",\"marker\":{\"colorbar\":{\"outlinewidth\":0,\"ticks\":\"\"}}}],\"scatterpolar\":[{\"type\":\"scatterpolar\",\"marker\":{\"colorbar\":{\"outlinewidth\":0,\"ticks\":\"\"}}}],\"histogram\":[{\"marker\":{\"pattern\":{\"fillmode\":\"overlay\",\"size\":10,\"solidity\":0.2}},\"type\":\"histogram\"}],\"scattergl\":[{\"type\":\"scattergl\",\"marker\":{\"colorbar\":{\"outlinewidth\":0,\"ticks\":\"\"}}}],\"scatter3d\":[{\"type\":\"scatter3d\",\"line\":{\"colorbar\":{\"outlinewidth\":0,\"ticks\":\"\"}},\"marker\":{\"colorbar\":{\"outlinewidth\":0,\"ticks\":\"\"}}}],\"scattermapbox\":[{\"type\":\"scattermapbox\",\"marker\":{\"colorbar\":{\"outlinewidth\":0,\"ticks\":\"\"}}}],\"scatterternary\":[{\"type\":\"scatterternary\",\"marker\":{\"colorbar\":{\"outlinewidth\":0,\"ticks\":\"\"}}}],\"scattercarpet\":[{\"type\":\"scattercarpet\",\"marker\":{\"colorbar\":{\"outlinewidth\":0,\"ticks\":\"\"}}}],\"carpet\":[{\"aaxis\":{\"endlinecolor\":\"#2a3f5f\",\"gridcolor\":\"white\",\"linecolor\":\"white\",\"minorgridcolor\":\"white\",\"startlinecolor\":\"#2a3f5f\"},\"baxis\":{\"endlinecolor\":\"#2a3f5f\",\"gridcolor\":\"white\",\"linecolor\":\"white\",\"minorgridcolor\":\"white\",\"startlinecolor\":\"#2a3f5f\"},\"type\":\"carpet\"}],\"table\":[{\"cells\":{\"fill\":{\"color\":\"#EBF0F8\"},\"line\":{\"color\":\"white\"}},\"header\":{\"fill\":{\"color\":\"#C8D4E3\"},\"line\":{\"color\":\"white\"}},\"type\":\"table\"}],\"barpolar\":[{\"marker\":{\"line\":{\"color\":\"#E5ECF6\",\"width\":0.5},\"pattern\":{\"fillmode\":\"overlay\",\"size\":10,\"solidity\":0.2}},\"type\":\"barpolar\"}],\"pie\":[{\"automargin\":true,\"type\":\"pie\"}]},\"layout\":{\"autotypenumbers\":\"strict\",\"colorway\":[\"#636efa\",\"#EF553B\",\"#00cc96\",\"#ab63fa\",\"#FFA15A\",\"#19d3f3\",\"#FF6692\",\"#B6E880\",\"#FF97FF\",\"#FECB52\"],\"font\":{\"color\":\"#2a3f5f\"},\"hovermode\":\"closest\",\"hoverlabel\":{\"align\":\"left\"},\"paper_bgcolor\":\"white\",\"plot_bgcolor\":\"#E5ECF6\",\"polar\":{\"bgcolor\":\"#E5ECF6\",\"angularaxis\":{\"gridcolor\":\"white\",\"linecolor\":\"white\",\"ticks\":\"\"},\"radialaxis\":{\"gridcolor\":\"white\",\"linecolor\":\"white\",\"ticks\":\"\"}},\"ternary\":{\"bgcolor\":\"#E5ECF6\",\"aaxis\":{\"gridcolor\":\"white\",\"linecolor\":\"white\",\"ticks\":\"\"},\"baxis\":{\"gridcolor\":\"white\",\"linecolor\":\"white\",\"ticks\":\"\"},\"caxis\":{\"gridcolor\":\"white\",\"linecolor\":\"white\",\"ticks\":\"\"}},\"coloraxis\":{\"colorbar\":{\"outlinewidth\":0,\"ticks\":\"\"}},\"colorscale\":{\"sequential\":[[0.0,\"#0d0887\"],[0.1111111111111111,\"#46039f\"],[0.2222222222222222,\"#7201a8\"],[0.3333333333333333,\"#9c179e\"],[0.4444444444444444,\"#bd3786\"],[0.5555555555555556,\"#d8576b\"],[0.6666666666666666,\"#ed7953\"],[0.7777777777777778,\"#fb9f3a\"],[0.8888888888888888,\"#fdca26\"],[1.0,\"#f0f921\"]],\"sequentialminus\":[[0.0,\"#0d0887\"],[0.1111111111111111,\"#46039f\"],[0.2222222222222222,\"#7201a8\"],[0.3333333333333333,\"#9c179e\"],[0.4444444444444444,\"#bd3786\"],[0.5555555555555556,\"#d8576b\"],[0.6666666666666666,\"#ed7953\"],[0.7777777777777778,\"#fb9f3a\"],[0.8888888888888888,\"#fdca26\"],[1.0,\"#f0f921\"]],\"diverging\":[[0,\"#8e0152\"],[0.1,\"#c51b7d\"],[0.2,\"#de77ae\"],[0.3,\"#f1b6da\"],[0.4,\"#fde0ef\"],[0.5,\"#f7f7f7\"],[0.6,\"#e6f5d0\"],[0.7,\"#b8e186\"],[0.8,\"#7fbc41\"],[0.9,\"#4d9221\"],[1,\"#276419\"]]},\"xaxis\":{\"gridcolor\":\"white\",\"linecolor\":\"white\",\"ticks\":\"\",\"title\":{\"standoff\":15},\"zerolinecolor\":\"white\",\"automargin\":true,\"zerolinewidth\":2},\"yaxis\":{\"gridcolor\":\"white\",\"linecolor\":\"white\",\"ticks\":\"\",\"title\":{\"standoff\":15},\"zerolinecolor\":\"white\",\"automargin\":true,\"zerolinewidth\":2},\"scene\":{\"xaxis\":{\"backgroundcolor\":\"#E5ECF6\",\"gridcolor\":\"white\",\"linecolor\":\"white\",\"showbackground\":true,\"ticks\":\"\",\"zerolinecolor\":\"white\",\"gridwidth\":2},\"yaxis\":{\"backgroundcolor\":\"#E5ECF6\",\"gridcolor\":\"white\",\"linecolor\":\"white\",\"showbackground\":true,\"ticks\":\"\",\"zerolinecolor\":\"white\",\"gridwidth\":2},\"zaxis\":{\"backgroundcolor\":\"#E5ECF6\",\"gridcolor\":\"white\",\"linecolor\":\"white\",\"showbackground\":true,\"ticks\":\"\",\"zerolinecolor\":\"white\",\"gridwidth\":2}},\"shapedefaults\":{\"line\":{\"color\":\"#2a3f5f\"}},\"annotationdefaults\":{\"arrowcolor\":\"#2a3f5f\",\"arrowhead\":0,\"arrowwidth\":1},\"geo\":{\"bgcolor\":\"white\",\"landcolor\":\"#E5ECF6\",\"subunitcolor\":\"white\",\"showland\":true,\"showlakes\":true,\"lakecolor\":\"white\"},\"title\":{\"x\":0.05},\"mapbox\":{\"style\":\"light\"}}},\"xaxis\":{\"anchor\":\"y\",\"domain\":[0.0,1.0],\"title\":{\"text\":\"operator\"}},\"yaxis\":{\"anchor\":\"x\",\"domain\":[0.0,1.0],\"title\":{\"text\":\"value\"},\"range\":[0,300]},\"legend\":{\"title\":{\"text\":\"variable\"},\"tracegroupgap\":0},\"title\":{\"text\":\"Peak activations per layer - tflite shufflenetv1_1_96_c3_o3_000\"},\"barmode\":\"relative\",\"height\":600,\"width\":1400,\"shapes\":[{\"line\":{\"color\":\"orange\",\"dash\":\"dash\",\"width\":3},\"type\":\"line\",\"x0\":0,\"x1\":1,\"xref\":\"x domain\",\"y0\":256,\"y1\":256,\"yref\":\"y\"},{\"line\":{\"color\":\"red\",\"dash\":\"dash\",\"width\":3},\"type\":\"line\",\"x0\":0,\"x1\":1,\"xref\":\"x domain\",\"y0\":86.4,\"y1\":86.4,\"yref\":\"y\"}],\"annotations\":[{\"showarrow\":false,\"text\":\"256 kB MCU constraint\",\"x\":1,\"xanchor\":\"right\",\"xref\":\"x domain\",\"y\":256,\"yanchor\":\"top\",\"yref\":\"y\"},{\"showarrow\":false,\"text\":\"86.4 kB peak activation\",\"x\":0.5,\"xanchor\":\"center\",\"xref\":\"x domain\",\"y\":86.4,\"yanchor\":\"bottom\",\"yref\":\"y\"}]},                        {\"responsive\": true}                    ).then(function(){\n",
       "                            \n",
       "var gd = document.getElementById('07158866-ca47-4b18-8bc9-de2c1a46d736');\n",
       "var x = new MutationObserver(function (mutations, observer) {{\n",
       "        var display = window.getComputedStyle(gd).display;\n",
       "        if (!display || display === 'none') {{\n",
       "            console.log([gd, 'removed!']);\n",
       "            Plotly.purge(gd);\n",
       "            observer.disconnect();\n",
       "        }}\n",
       "}});\n",
       "\n",
       "// Listen for the removal of the full notebook cells\n",
       "var notebookContainer = gd.closest('#notebook-container');\n",
       "if (notebookContainer) {{\n",
       "    x.observe(notebookContainer, {childList: true});\n",
       "}}\n",
       "\n",
       "// Listen for the clearing of the current output cell\n",
       "var outputEl = gd.closest('.output');\n",
       "if (outputEl) {{\n",
       "    x.observe(outputEl, {childList: true});\n",
       "}}\n",
       "\n",
       "                        })                };                });            </script>        </div>"
      ]
     },
     "metadata": {},
     "output_type": "display_data"
    }
   ],
   "source": [
    "tflite_fig = px.bar(peak_memory_df, x=\"operator\", y= [\"peak_memory_kb\"], text_auto=\".2s\",\n",
    "width=1400, height=600,\n",
    "    title=f\"Peak activations per layer - tflite {model_name}\")\n",
    "tflite_fig.add_hline(y=256, line_width=3, line_dash=\"dash\", line_color=\"orange\", annotation_text=\"256 kB MCU constraint\", \n",
    "              annotation_position=\"bottom right\")\n",
    "peak_memory = peak_memory_df[\"peak_memory_kb\"].max()\n",
    "tflite_fig.add_hline(y=peak_memory, line_width=3, line_dash=\"dash\", line_color=\"red\", annotation_text=f\"{peak_memory} kB peak activation\", \n",
    "              annotation_position=\"top\")\n",
    "tflite_fig.update_layout(yaxis_range=[0,300])\n",
    "#tflite_fig.update_layout(showlegend=True)\n",
    "tflite_fig.show()"
   ]
  },
  {
   "cell_type": "code",
   "execution_count": 78,
   "metadata": {},
   "outputs": [
    {
     "data": {
      "application/vnd.plotly.v1+json": {
       "config": {
        "plotlyServerURL": "https://plot.ly"
       },
       "data": [
        {
         "alignmentgroup": "True",
         "hovertemplate": "name=%{x}<br>MACS=%{y}<extra></extra>",
         "legendgroup": "",
         "marker": {
          "color": "#636efa",
          "pattern": {
           "shape": ""
          }
         },
         "name": "",
         "offsetgroup": "",
         "orientation": "v",
         "showlegend": false,
         "textposition": "auto",
         "type": "bar",
         "x": [
          "input_2",
          "conv2d_33",
          "batch_normalization_49",
          "re_lu_33",
          "max_pooling2d_1",
          "conv2d_34",
          "batch_normalization_50",
          "re_lu_34",
          "reshape_32",
          "permute_16",
          "reshape_33",
          "depthwise_conv2d_16",
          "batch_normalization_51",
          "conv2d_35",
          "batch_normalization_52",
          "average_pooling2d_3",
          "concatenate_3",
          "re_lu_35",
          "conv2d_36",
          "batch_normalization_53",
          "re_lu_36",
          "reshape_34",
          "permute_17",
          "reshape_35",
          "depthwise_conv2d_17",
          "batch_normalization_54",
          "conv2d_37",
          "batch_normalization_55",
          "add_13",
          "re_lu_37",
          "conv2d_38",
          "batch_normalization_56",
          "re_lu_38",
          "reshape_36",
          "permute_18",
          "reshape_37",
          "depthwise_conv2d_18",
          "batch_normalization_57",
          "conv2d_39",
          "batch_normalization_58",
          "add_14",
          "re_lu_39",
          "conv2d_40",
          "batch_normalization_59",
          "re_lu_40",
          "reshape_38",
          "permute_19",
          "reshape_39",
          "depthwise_conv2d_19",
          "batch_normalization_60",
          "conv2d_41",
          "batch_normalization_61",
          "add_15",
          "re_lu_41",
          "conv2d_42",
          "batch_normalization_62",
          "re_lu_42",
          "reshape_40",
          "permute_20",
          "reshape_41",
          "depthwise_conv2d_20",
          "batch_normalization_63",
          "conv2d_43",
          "batch_normalization_64",
          "average_pooling2d_4",
          "concatenate_4",
          "re_lu_43",
          "conv2d_44",
          "batch_normalization_65",
          "re_lu_44",
          "reshape_42",
          "permute_21",
          "reshape_43",
          "depthwise_conv2d_21",
          "batch_normalization_66",
          "conv2d_45",
          "batch_normalization_67",
          "add_16",
          "re_lu_45",
          "conv2d_46",
          "batch_normalization_68",
          "re_lu_46",
          "reshape_44",
          "permute_22",
          "reshape_45",
          "depthwise_conv2d_22",
          "batch_normalization_69",
          "conv2d_47",
          "batch_normalization_70",
          "add_17",
          "re_lu_47",
          "conv2d_48",
          "batch_normalization_71",
          "re_lu_48",
          "reshape_46",
          "permute_23",
          "reshape_47",
          "depthwise_conv2d_23",
          "batch_normalization_72",
          "conv2d_49",
          "batch_normalization_73",
          "add_18",
          "re_lu_49",
          "conv2d_50",
          "batch_normalization_74",
          "re_lu_50",
          "reshape_48",
          "permute_24",
          "reshape_49",
          "depthwise_conv2d_24",
          "batch_normalization_75",
          "conv2d_51",
          "batch_normalization_76",
          "add_19",
          "re_lu_51",
          "conv2d_52",
          "batch_normalization_77",
          "re_lu_52",
          "reshape_50",
          "permute_25",
          "reshape_51",
          "depthwise_conv2d_25",
          "batch_normalization_78",
          "conv2d_53",
          "batch_normalization_79",
          "add_20",
          "re_lu_53",
          "conv2d_54",
          "batch_normalization_80",
          "re_lu_54",
          "reshape_52",
          "permute_26",
          "reshape_53",
          "depthwise_conv2d_26",
          "batch_normalization_81",
          "conv2d_55",
          "batch_normalization_82",
          "add_21",
          "re_lu_55",
          "conv2d_56",
          "batch_normalization_83",
          "re_lu_56",
          "reshape_54",
          "permute_27",
          "reshape_55",
          "depthwise_conv2d_27",
          "batch_normalization_84",
          "conv2d_57",
          "batch_normalization_85",
          "add_22",
          "re_lu_57",
          "conv2d_58",
          "batch_normalization_86",
          "re_lu_58",
          "reshape_56",
          "permute_28",
          "reshape_57",
          "depthwise_conv2d_28",
          "batch_normalization_87",
          "conv2d_59",
          "batch_normalization_88",
          "average_pooling2d_5",
          "concatenate_5",
          "re_lu_59",
          "conv2d_60",
          "batch_normalization_89",
          "re_lu_60",
          "reshape_58",
          "permute_29",
          "reshape_59",
          "depthwise_conv2d_29",
          "batch_normalization_90",
          "conv2d_61",
          "batch_normalization_91",
          "add_23",
          "re_lu_61",
          "conv2d_62",
          "batch_normalization_92",
          "re_lu_62",
          "reshape_60",
          "permute_30",
          "reshape_61",
          "depthwise_conv2d_30",
          "batch_normalization_93",
          "conv2d_63",
          "batch_normalization_94",
          "add_24",
          "re_lu_63",
          "conv2d_64",
          "batch_normalization_95",
          "re_lu_64",
          "reshape_62",
          "permute_31",
          "reshape_63",
          "depthwise_conv2d_31",
          "batch_normalization_96",
          "conv2d_65",
          "batch_normalization_97",
          "add_25",
          "re_lu_65",
          "global_average_pooling2d_1",
          "dense_1"
         ],
         "xaxis": "x",
         "y": [
          0,
          1492992,
          0,
          0,
          0,
          691200,
          0,
          0,
          0,
          0,
          0,
          64800,
          0,
          1267200,
          0,
          0,
          0,
          0,
          1440000,
          0,
          0,
          0,
          0,
          0,
          64800,
          0,
          1440000,
          0,
          0,
          0,
          1440000,
          0,
          0,
          0,
          0,
          0,
          64800,
          0,
          1440000,
          0,
          0,
          0,
          1440000,
          0,
          0,
          0,
          0,
          0,
          64800,
          0,
          1440000,
          0,
          0,
          0,
          2880000,
          0,
          0,
          0,
          0,
          0,
          32400,
          0,
          720000,
          0,
          0,
          0,
          0,
          1440000,
          0,
          0,
          0,
          0,
          0,
          32400,
          0,
          1440000,
          0,
          0,
          0,
          1440000,
          0,
          0,
          0,
          0,
          0,
          32400,
          0,
          1440000,
          0,
          0,
          0,
          1440000,
          0,
          0,
          0,
          0,
          0,
          32400,
          0,
          1440000,
          0,
          0,
          0,
          1440000,
          0,
          0,
          0,
          0,
          0,
          32400,
          0,
          1440000,
          0,
          0,
          0,
          1440000,
          0,
          0,
          0,
          0,
          0,
          32400,
          0,
          1440000,
          0,
          0,
          0,
          1440000,
          0,
          0,
          0,
          0,
          0,
          32400,
          0,
          1440000,
          0,
          0,
          0,
          1440000,
          0,
          0,
          0,
          0,
          0,
          32400,
          0,
          1440000,
          0,
          0,
          0,
          2880000,
          0,
          0,
          0,
          0,
          0,
          16200,
          0,
          720000,
          0,
          0,
          0,
          0,
          1440000,
          0,
          0,
          0,
          0,
          0,
          16200,
          0,
          1440000,
          0,
          0,
          0,
          1440000,
          0,
          0,
          0,
          0,
          0,
          16200,
          0,
          1440000,
          0,
          0,
          0,
          1440000,
          0,
          0,
          0,
          0,
          0,
          16200,
          0,
          1440000,
          0,
          0,
          0,
          0,
          0
         ],
         "yaxis": "y"
        }
       ],
       "layout": {
        "barmode": "relative",
        "legend": {
         "tracegroupgap": 0
        },
        "template": {
         "data": {
          "bar": [
           {
            "error_x": {
             "color": "#2a3f5f"
            },
            "error_y": {
             "color": "#2a3f5f"
            },
            "marker": {
             "line": {
              "color": "#E5ECF6",
              "width": 0.5
             },
             "pattern": {
              "fillmode": "overlay",
              "size": 10,
              "solidity": 0.2
             }
            },
            "type": "bar"
           }
          ],
          "barpolar": [
           {
            "marker": {
             "line": {
              "color": "#E5ECF6",
              "width": 0.5
             },
             "pattern": {
              "fillmode": "overlay",
              "size": 10,
              "solidity": 0.2
             }
            },
            "type": "barpolar"
           }
          ],
          "carpet": [
           {
            "aaxis": {
             "endlinecolor": "#2a3f5f",
             "gridcolor": "white",
             "linecolor": "white",
             "minorgridcolor": "white",
             "startlinecolor": "#2a3f5f"
            },
            "baxis": {
             "endlinecolor": "#2a3f5f",
             "gridcolor": "white",
             "linecolor": "white",
             "minorgridcolor": "white",
             "startlinecolor": "#2a3f5f"
            },
            "type": "carpet"
           }
          ],
          "choropleth": [
           {
            "colorbar": {
             "outlinewidth": 0,
             "ticks": ""
            },
            "type": "choropleth"
           }
          ],
          "contour": [
           {
            "colorbar": {
             "outlinewidth": 0,
             "ticks": ""
            },
            "colorscale": [
             [
              0,
              "#0d0887"
             ],
             [
              0.1111111111111111,
              "#46039f"
             ],
             [
              0.2222222222222222,
              "#7201a8"
             ],
             [
              0.3333333333333333,
              "#9c179e"
             ],
             [
              0.4444444444444444,
              "#bd3786"
             ],
             [
              0.5555555555555556,
              "#d8576b"
             ],
             [
              0.6666666666666666,
              "#ed7953"
             ],
             [
              0.7777777777777778,
              "#fb9f3a"
             ],
             [
              0.8888888888888888,
              "#fdca26"
             ],
             [
              1,
              "#f0f921"
             ]
            ],
            "type": "contour"
           }
          ],
          "contourcarpet": [
           {
            "colorbar": {
             "outlinewidth": 0,
             "ticks": ""
            },
            "type": "contourcarpet"
           }
          ],
          "heatmap": [
           {
            "colorbar": {
             "outlinewidth": 0,
             "ticks": ""
            },
            "colorscale": [
             [
              0,
              "#0d0887"
             ],
             [
              0.1111111111111111,
              "#46039f"
             ],
             [
              0.2222222222222222,
              "#7201a8"
             ],
             [
              0.3333333333333333,
              "#9c179e"
             ],
             [
              0.4444444444444444,
              "#bd3786"
             ],
             [
              0.5555555555555556,
              "#d8576b"
             ],
             [
              0.6666666666666666,
              "#ed7953"
             ],
             [
              0.7777777777777778,
              "#fb9f3a"
             ],
             [
              0.8888888888888888,
              "#fdca26"
             ],
             [
              1,
              "#f0f921"
             ]
            ],
            "type": "heatmap"
           }
          ],
          "heatmapgl": [
           {
            "colorbar": {
             "outlinewidth": 0,
             "ticks": ""
            },
            "colorscale": [
             [
              0,
              "#0d0887"
             ],
             [
              0.1111111111111111,
              "#46039f"
             ],
             [
              0.2222222222222222,
              "#7201a8"
             ],
             [
              0.3333333333333333,
              "#9c179e"
             ],
             [
              0.4444444444444444,
              "#bd3786"
             ],
             [
              0.5555555555555556,
              "#d8576b"
             ],
             [
              0.6666666666666666,
              "#ed7953"
             ],
             [
              0.7777777777777778,
              "#fb9f3a"
             ],
             [
              0.8888888888888888,
              "#fdca26"
             ],
             [
              1,
              "#f0f921"
             ]
            ],
            "type": "heatmapgl"
           }
          ],
          "histogram": [
           {
            "marker": {
             "pattern": {
              "fillmode": "overlay",
              "size": 10,
              "solidity": 0.2
             }
            },
            "type": "histogram"
           }
          ],
          "histogram2d": [
           {
            "colorbar": {
             "outlinewidth": 0,
             "ticks": ""
            },
            "colorscale": [
             [
              0,
              "#0d0887"
             ],
             [
              0.1111111111111111,
              "#46039f"
             ],
             [
              0.2222222222222222,
              "#7201a8"
             ],
             [
              0.3333333333333333,
              "#9c179e"
             ],
             [
              0.4444444444444444,
              "#bd3786"
             ],
             [
              0.5555555555555556,
              "#d8576b"
             ],
             [
              0.6666666666666666,
              "#ed7953"
             ],
             [
              0.7777777777777778,
              "#fb9f3a"
             ],
             [
              0.8888888888888888,
              "#fdca26"
             ],
             [
              1,
              "#f0f921"
             ]
            ],
            "type": "histogram2d"
           }
          ],
          "histogram2dcontour": [
           {
            "colorbar": {
             "outlinewidth": 0,
             "ticks": ""
            },
            "colorscale": [
             [
              0,
              "#0d0887"
             ],
             [
              0.1111111111111111,
              "#46039f"
             ],
             [
              0.2222222222222222,
              "#7201a8"
             ],
             [
              0.3333333333333333,
              "#9c179e"
             ],
             [
              0.4444444444444444,
              "#bd3786"
             ],
             [
              0.5555555555555556,
              "#d8576b"
             ],
             [
              0.6666666666666666,
              "#ed7953"
             ],
             [
              0.7777777777777778,
              "#fb9f3a"
             ],
             [
              0.8888888888888888,
              "#fdca26"
             ],
             [
              1,
              "#f0f921"
             ]
            ],
            "type": "histogram2dcontour"
           }
          ],
          "mesh3d": [
           {
            "colorbar": {
             "outlinewidth": 0,
             "ticks": ""
            },
            "type": "mesh3d"
           }
          ],
          "parcoords": [
           {
            "line": {
             "colorbar": {
              "outlinewidth": 0,
              "ticks": ""
             }
            },
            "type": "parcoords"
           }
          ],
          "pie": [
           {
            "automargin": true,
            "type": "pie"
           }
          ],
          "scatter": [
           {
            "fillpattern": {
             "fillmode": "overlay",
             "size": 10,
             "solidity": 0.2
            },
            "type": "scatter"
           }
          ],
          "scatter3d": [
           {
            "line": {
             "colorbar": {
              "outlinewidth": 0,
              "ticks": ""
             }
            },
            "marker": {
             "colorbar": {
              "outlinewidth": 0,
              "ticks": ""
             }
            },
            "type": "scatter3d"
           }
          ],
          "scattercarpet": [
           {
            "marker": {
             "colorbar": {
              "outlinewidth": 0,
              "ticks": ""
             }
            },
            "type": "scattercarpet"
           }
          ],
          "scattergeo": [
           {
            "marker": {
             "colorbar": {
              "outlinewidth": 0,
              "ticks": ""
             }
            },
            "type": "scattergeo"
           }
          ],
          "scattergl": [
           {
            "marker": {
             "colorbar": {
              "outlinewidth": 0,
              "ticks": ""
             }
            },
            "type": "scattergl"
           }
          ],
          "scattermapbox": [
           {
            "marker": {
             "colorbar": {
              "outlinewidth": 0,
              "ticks": ""
             }
            },
            "type": "scattermapbox"
           }
          ],
          "scatterpolar": [
           {
            "marker": {
             "colorbar": {
              "outlinewidth": 0,
              "ticks": ""
             }
            },
            "type": "scatterpolar"
           }
          ],
          "scatterpolargl": [
           {
            "marker": {
             "colorbar": {
              "outlinewidth": 0,
              "ticks": ""
             }
            },
            "type": "scatterpolargl"
           }
          ],
          "scatterternary": [
           {
            "marker": {
             "colorbar": {
              "outlinewidth": 0,
              "ticks": ""
             }
            },
            "type": "scatterternary"
           }
          ],
          "surface": [
           {
            "colorbar": {
             "outlinewidth": 0,
             "ticks": ""
            },
            "colorscale": [
             [
              0,
              "#0d0887"
             ],
             [
              0.1111111111111111,
              "#46039f"
             ],
             [
              0.2222222222222222,
              "#7201a8"
             ],
             [
              0.3333333333333333,
              "#9c179e"
             ],
             [
              0.4444444444444444,
              "#bd3786"
             ],
             [
              0.5555555555555556,
              "#d8576b"
             ],
             [
              0.6666666666666666,
              "#ed7953"
             ],
             [
              0.7777777777777778,
              "#fb9f3a"
             ],
             [
              0.8888888888888888,
              "#fdca26"
             ],
             [
              1,
              "#f0f921"
             ]
            ],
            "type": "surface"
           }
          ],
          "table": [
           {
            "cells": {
             "fill": {
              "color": "#EBF0F8"
             },
             "line": {
              "color": "white"
             }
            },
            "header": {
             "fill": {
              "color": "#C8D4E3"
             },
             "line": {
              "color": "white"
             }
            },
            "type": "table"
           }
          ]
         },
         "layout": {
          "annotationdefaults": {
           "arrowcolor": "#2a3f5f",
           "arrowhead": 0,
           "arrowwidth": 1
          },
          "autotypenumbers": "strict",
          "coloraxis": {
           "colorbar": {
            "outlinewidth": 0,
            "ticks": ""
           }
          },
          "colorscale": {
           "diverging": [
            [
             0,
             "#8e0152"
            ],
            [
             0.1,
             "#c51b7d"
            ],
            [
             0.2,
             "#de77ae"
            ],
            [
             0.3,
             "#f1b6da"
            ],
            [
             0.4,
             "#fde0ef"
            ],
            [
             0.5,
             "#f7f7f7"
            ],
            [
             0.6,
             "#e6f5d0"
            ],
            [
             0.7,
             "#b8e186"
            ],
            [
             0.8,
             "#7fbc41"
            ],
            [
             0.9,
             "#4d9221"
            ],
            [
             1,
             "#276419"
            ]
           ],
           "sequential": [
            [
             0,
             "#0d0887"
            ],
            [
             0.1111111111111111,
             "#46039f"
            ],
            [
             0.2222222222222222,
             "#7201a8"
            ],
            [
             0.3333333333333333,
             "#9c179e"
            ],
            [
             0.4444444444444444,
             "#bd3786"
            ],
            [
             0.5555555555555556,
             "#d8576b"
            ],
            [
             0.6666666666666666,
             "#ed7953"
            ],
            [
             0.7777777777777778,
             "#fb9f3a"
            ],
            [
             0.8888888888888888,
             "#fdca26"
            ],
            [
             1,
             "#f0f921"
            ]
           ],
           "sequentialminus": [
            [
             0,
             "#0d0887"
            ],
            [
             0.1111111111111111,
             "#46039f"
            ],
            [
             0.2222222222222222,
             "#7201a8"
            ],
            [
             0.3333333333333333,
             "#9c179e"
            ],
            [
             0.4444444444444444,
             "#bd3786"
            ],
            [
             0.5555555555555556,
             "#d8576b"
            ],
            [
             0.6666666666666666,
             "#ed7953"
            ],
            [
             0.7777777777777778,
             "#fb9f3a"
            ],
            [
             0.8888888888888888,
             "#fdca26"
            ],
            [
             1,
             "#f0f921"
            ]
           ]
          },
          "colorway": [
           "#636efa",
           "#EF553B",
           "#00cc96",
           "#ab63fa",
           "#FFA15A",
           "#19d3f3",
           "#FF6692",
           "#B6E880",
           "#FF97FF",
           "#FECB52"
          ],
          "font": {
           "color": "#2a3f5f"
          },
          "geo": {
           "bgcolor": "white",
           "lakecolor": "white",
           "landcolor": "#E5ECF6",
           "showlakes": true,
           "showland": true,
           "subunitcolor": "white"
          },
          "hoverlabel": {
           "align": "left"
          },
          "hovermode": "closest",
          "mapbox": {
           "style": "light"
          },
          "paper_bgcolor": "white",
          "plot_bgcolor": "#E5ECF6",
          "polar": {
           "angularaxis": {
            "gridcolor": "white",
            "linecolor": "white",
            "ticks": ""
           },
           "bgcolor": "#E5ECF6",
           "radialaxis": {
            "gridcolor": "white",
            "linecolor": "white",
            "ticks": ""
           }
          },
          "scene": {
           "xaxis": {
            "backgroundcolor": "#E5ECF6",
            "gridcolor": "white",
            "gridwidth": 2,
            "linecolor": "white",
            "showbackground": true,
            "ticks": "",
            "zerolinecolor": "white"
           },
           "yaxis": {
            "backgroundcolor": "#E5ECF6",
            "gridcolor": "white",
            "gridwidth": 2,
            "linecolor": "white",
            "showbackground": true,
            "ticks": "",
            "zerolinecolor": "white"
           },
           "zaxis": {
            "backgroundcolor": "#E5ECF6",
            "gridcolor": "white",
            "gridwidth": 2,
            "linecolor": "white",
            "showbackground": true,
            "ticks": "",
            "zerolinecolor": "white"
           }
          },
          "shapedefaults": {
           "line": {
            "color": "#2a3f5f"
           }
          },
          "ternary": {
           "aaxis": {
            "gridcolor": "white",
            "linecolor": "white",
            "ticks": ""
           },
           "baxis": {
            "gridcolor": "white",
            "linecolor": "white",
            "ticks": ""
           },
           "bgcolor": "#E5ECF6",
           "caxis": {
            "gridcolor": "white",
            "linecolor": "white",
            "ticks": ""
           }
          },
          "title": {
           "x": 0.05
          },
          "xaxis": {
           "automargin": true,
           "gridcolor": "white",
           "linecolor": "white",
           "ticks": "",
           "title": {
            "standoff": 15
           },
           "zerolinecolor": "white",
           "zerolinewidth": 2
          },
          "yaxis": {
           "automargin": true,
           "gridcolor": "white",
           "linecolor": "white",
           "ticks": "",
           "title": {
            "standoff": 15
           },
           "zerolinecolor": "white",
           "zerolinewidth": 2
          }
         }
        },
        "title": {
         "text": "MACs per layer - shufflenetv1_1_96_c3_o3_000"
        },
        "xaxis": {
         "anchor": "y",
         "domain": [
          0,
          1
         ],
         "title": {
          "text": "name"
         }
        },
        "yaxis": {
         "anchor": "x",
         "domain": [
          0,
          1
         ],
         "title": {
          "text": "MACS"
         }
        }
       }
      },
      "text/html": [
       "<div>                            <div id=\"e1769e62-2622-4b1a-897e-ce03b29fbe67\" class=\"plotly-graph-div\" style=\"height:525px; width:100%;\"></div>            <script type=\"text/javascript\">                require([\"plotly\"], function(Plotly) {                    window.PLOTLYENV=window.PLOTLYENV || {};                                    if (document.getElementById(\"e1769e62-2622-4b1a-897e-ce03b29fbe67\")) {                    Plotly.newPlot(                        \"e1769e62-2622-4b1a-897e-ce03b29fbe67\",                        [{\"alignmentgroup\":\"True\",\"hovertemplate\":\"name=%{x}<br>MACS=%{y}<extra></extra>\",\"legendgroup\":\"\",\"marker\":{\"color\":\"#636efa\",\"pattern\":{\"shape\":\"\"}},\"name\":\"\",\"offsetgroup\":\"\",\"orientation\":\"v\",\"showlegend\":false,\"textposition\":\"auto\",\"x\":[\"input_2\",\"conv2d_33\",\"batch_normalization_49\",\"re_lu_33\",\"max_pooling2d_1\",\"conv2d_34\",\"batch_normalization_50\",\"re_lu_34\",\"reshape_32\",\"permute_16\",\"reshape_33\",\"depthwise_conv2d_16\",\"batch_normalization_51\",\"conv2d_35\",\"batch_normalization_52\",\"average_pooling2d_3\",\"concatenate_3\",\"re_lu_35\",\"conv2d_36\",\"batch_normalization_53\",\"re_lu_36\",\"reshape_34\",\"permute_17\",\"reshape_35\",\"depthwise_conv2d_17\",\"batch_normalization_54\",\"conv2d_37\",\"batch_normalization_55\",\"add_13\",\"re_lu_37\",\"conv2d_38\",\"batch_normalization_56\",\"re_lu_38\",\"reshape_36\",\"permute_18\",\"reshape_37\",\"depthwise_conv2d_18\",\"batch_normalization_57\",\"conv2d_39\",\"batch_normalization_58\",\"add_14\",\"re_lu_39\",\"conv2d_40\",\"batch_normalization_59\",\"re_lu_40\",\"reshape_38\",\"permute_19\",\"reshape_39\",\"depthwise_conv2d_19\",\"batch_normalization_60\",\"conv2d_41\",\"batch_normalization_61\",\"add_15\",\"re_lu_41\",\"conv2d_42\",\"batch_normalization_62\",\"re_lu_42\",\"reshape_40\",\"permute_20\",\"reshape_41\",\"depthwise_conv2d_20\",\"batch_normalization_63\",\"conv2d_43\",\"batch_normalization_64\",\"average_pooling2d_4\",\"concatenate_4\",\"re_lu_43\",\"conv2d_44\",\"batch_normalization_65\",\"re_lu_44\",\"reshape_42\",\"permute_21\",\"reshape_43\",\"depthwise_conv2d_21\",\"batch_normalization_66\",\"conv2d_45\",\"batch_normalization_67\",\"add_16\",\"re_lu_45\",\"conv2d_46\",\"batch_normalization_68\",\"re_lu_46\",\"reshape_44\",\"permute_22\",\"reshape_45\",\"depthwise_conv2d_22\",\"batch_normalization_69\",\"conv2d_47\",\"batch_normalization_70\",\"add_17\",\"re_lu_47\",\"conv2d_48\",\"batch_normalization_71\",\"re_lu_48\",\"reshape_46\",\"permute_23\",\"reshape_47\",\"depthwise_conv2d_23\",\"batch_normalization_72\",\"conv2d_49\",\"batch_normalization_73\",\"add_18\",\"re_lu_49\",\"conv2d_50\",\"batch_normalization_74\",\"re_lu_50\",\"reshape_48\",\"permute_24\",\"reshape_49\",\"depthwise_conv2d_24\",\"batch_normalization_75\",\"conv2d_51\",\"batch_normalization_76\",\"add_19\",\"re_lu_51\",\"conv2d_52\",\"batch_normalization_77\",\"re_lu_52\",\"reshape_50\",\"permute_25\",\"reshape_51\",\"depthwise_conv2d_25\",\"batch_normalization_78\",\"conv2d_53\",\"batch_normalization_79\",\"add_20\",\"re_lu_53\",\"conv2d_54\",\"batch_normalization_80\",\"re_lu_54\",\"reshape_52\",\"permute_26\",\"reshape_53\",\"depthwise_conv2d_26\",\"batch_normalization_81\",\"conv2d_55\",\"batch_normalization_82\",\"add_21\",\"re_lu_55\",\"conv2d_56\",\"batch_normalization_83\",\"re_lu_56\",\"reshape_54\",\"permute_27\",\"reshape_55\",\"depthwise_conv2d_27\",\"batch_normalization_84\",\"conv2d_57\",\"batch_normalization_85\",\"add_22\",\"re_lu_57\",\"conv2d_58\",\"batch_normalization_86\",\"re_lu_58\",\"reshape_56\",\"permute_28\",\"reshape_57\",\"depthwise_conv2d_28\",\"batch_normalization_87\",\"conv2d_59\",\"batch_normalization_88\",\"average_pooling2d_5\",\"concatenate_5\",\"re_lu_59\",\"conv2d_60\",\"batch_normalization_89\",\"re_lu_60\",\"reshape_58\",\"permute_29\",\"reshape_59\",\"depthwise_conv2d_29\",\"batch_normalization_90\",\"conv2d_61\",\"batch_normalization_91\",\"add_23\",\"re_lu_61\",\"conv2d_62\",\"batch_normalization_92\",\"re_lu_62\",\"reshape_60\",\"permute_30\",\"reshape_61\",\"depthwise_conv2d_30\",\"batch_normalization_93\",\"conv2d_63\",\"batch_normalization_94\",\"add_24\",\"re_lu_63\",\"conv2d_64\",\"batch_normalization_95\",\"re_lu_64\",\"reshape_62\",\"permute_31\",\"reshape_63\",\"depthwise_conv2d_31\",\"batch_normalization_96\",\"conv2d_65\",\"batch_normalization_97\",\"add_25\",\"re_lu_65\",\"global_average_pooling2d_1\",\"dense_1\"],\"xaxis\":\"x\",\"y\":[0,1492992,0,0,0,691200,0,0,0,0,0,64800,0,1267200,0,0,0,0,1440000,0,0,0,0,0,64800,0,1440000,0,0,0,1440000,0,0,0,0,0,64800,0,1440000,0,0,0,1440000,0,0,0,0,0,64800,0,1440000,0,0,0,2880000,0,0,0,0,0,32400,0,720000,0,0,0,0,1440000,0,0,0,0,0,32400,0,1440000,0,0,0,1440000,0,0,0,0,0,32400,0,1440000,0,0,0,1440000,0,0,0,0,0,32400,0,1440000,0,0,0,1440000,0,0,0,0,0,32400,0,1440000,0,0,0,1440000,0,0,0,0,0,32400,0,1440000,0,0,0,1440000,0,0,0,0,0,32400,0,1440000,0,0,0,1440000,0,0,0,0,0,32400,0,1440000,0,0,0,2880000,0,0,0,0,0,16200,0,720000,0,0,0,0,1440000,0,0,0,0,0,16200,0,1440000,0,0,0,1440000,0,0,0,0,0,16200,0,1440000,0,0,0,1440000,0,0,0,0,0,16200,0,1440000,0,0,0,0,0],\"yaxis\":\"y\",\"type\":\"bar\"}],                        {\"template\":{\"data\":{\"histogram2dcontour\":[{\"type\":\"histogram2dcontour\",\"colorbar\":{\"outlinewidth\":0,\"ticks\":\"\"},\"colorscale\":[[0.0,\"#0d0887\"],[0.1111111111111111,\"#46039f\"],[0.2222222222222222,\"#7201a8\"],[0.3333333333333333,\"#9c179e\"],[0.4444444444444444,\"#bd3786\"],[0.5555555555555556,\"#d8576b\"],[0.6666666666666666,\"#ed7953\"],[0.7777777777777778,\"#fb9f3a\"],[0.8888888888888888,\"#fdca26\"],[1.0,\"#f0f921\"]]}],\"choropleth\":[{\"type\":\"choropleth\",\"colorbar\":{\"outlinewidth\":0,\"ticks\":\"\"}}],\"histogram2d\":[{\"type\":\"histogram2d\",\"colorbar\":{\"outlinewidth\":0,\"ticks\":\"\"},\"colorscale\":[[0.0,\"#0d0887\"],[0.1111111111111111,\"#46039f\"],[0.2222222222222222,\"#7201a8\"],[0.3333333333333333,\"#9c179e\"],[0.4444444444444444,\"#bd3786\"],[0.5555555555555556,\"#d8576b\"],[0.6666666666666666,\"#ed7953\"],[0.7777777777777778,\"#fb9f3a\"],[0.8888888888888888,\"#fdca26\"],[1.0,\"#f0f921\"]]}],\"heatmap\":[{\"type\":\"heatmap\",\"colorbar\":{\"outlinewidth\":0,\"ticks\":\"\"},\"colorscale\":[[0.0,\"#0d0887\"],[0.1111111111111111,\"#46039f\"],[0.2222222222222222,\"#7201a8\"],[0.3333333333333333,\"#9c179e\"],[0.4444444444444444,\"#bd3786\"],[0.5555555555555556,\"#d8576b\"],[0.6666666666666666,\"#ed7953\"],[0.7777777777777778,\"#fb9f3a\"],[0.8888888888888888,\"#fdca26\"],[1.0,\"#f0f921\"]]}],\"heatmapgl\":[{\"type\":\"heatmapgl\",\"colorbar\":{\"outlinewidth\":0,\"ticks\":\"\"},\"colorscale\":[[0.0,\"#0d0887\"],[0.1111111111111111,\"#46039f\"],[0.2222222222222222,\"#7201a8\"],[0.3333333333333333,\"#9c179e\"],[0.4444444444444444,\"#bd3786\"],[0.5555555555555556,\"#d8576b\"],[0.6666666666666666,\"#ed7953\"],[0.7777777777777778,\"#fb9f3a\"],[0.8888888888888888,\"#fdca26\"],[1.0,\"#f0f921\"]]}],\"contourcarpet\":[{\"type\":\"contourcarpet\",\"colorbar\":{\"outlinewidth\":0,\"ticks\":\"\"}}],\"contour\":[{\"type\":\"contour\",\"colorbar\":{\"outlinewidth\":0,\"ticks\":\"\"},\"colorscale\":[[0.0,\"#0d0887\"],[0.1111111111111111,\"#46039f\"],[0.2222222222222222,\"#7201a8\"],[0.3333333333333333,\"#9c179e\"],[0.4444444444444444,\"#bd3786\"],[0.5555555555555556,\"#d8576b\"],[0.6666666666666666,\"#ed7953\"],[0.7777777777777778,\"#fb9f3a\"],[0.8888888888888888,\"#fdca26\"],[1.0,\"#f0f921\"]]}],\"surface\":[{\"type\":\"surface\",\"colorbar\":{\"outlinewidth\":0,\"ticks\":\"\"},\"colorscale\":[[0.0,\"#0d0887\"],[0.1111111111111111,\"#46039f\"],[0.2222222222222222,\"#7201a8\"],[0.3333333333333333,\"#9c179e\"],[0.4444444444444444,\"#bd3786\"],[0.5555555555555556,\"#d8576b\"],[0.6666666666666666,\"#ed7953\"],[0.7777777777777778,\"#fb9f3a\"],[0.8888888888888888,\"#fdca26\"],[1.0,\"#f0f921\"]]}],\"mesh3d\":[{\"type\":\"mesh3d\",\"colorbar\":{\"outlinewidth\":0,\"ticks\":\"\"}}],\"scatter\":[{\"fillpattern\":{\"fillmode\":\"overlay\",\"size\":10,\"solidity\":0.2},\"type\":\"scatter\"}],\"parcoords\":[{\"type\":\"parcoords\",\"line\":{\"colorbar\":{\"outlinewidth\":0,\"ticks\":\"\"}}}],\"scatterpolargl\":[{\"type\":\"scatterpolargl\",\"marker\":{\"colorbar\":{\"outlinewidth\":0,\"ticks\":\"\"}}}],\"bar\":[{\"error_x\":{\"color\":\"#2a3f5f\"},\"error_y\":{\"color\":\"#2a3f5f\"},\"marker\":{\"line\":{\"color\":\"#E5ECF6\",\"width\":0.5},\"pattern\":{\"fillmode\":\"overlay\",\"size\":10,\"solidity\":0.2}},\"type\":\"bar\"}],\"scattergeo\":[{\"type\":\"scattergeo\",\"marker\":{\"colorbar\":{\"outlinewidth\":0,\"ticks\":\"\"}}}],\"scatterpolar\":[{\"type\":\"scatterpolar\",\"marker\":{\"colorbar\":{\"outlinewidth\":0,\"ticks\":\"\"}}}],\"histogram\":[{\"marker\":{\"pattern\":{\"fillmode\":\"overlay\",\"size\":10,\"solidity\":0.2}},\"type\":\"histogram\"}],\"scattergl\":[{\"type\":\"scattergl\",\"marker\":{\"colorbar\":{\"outlinewidth\":0,\"ticks\":\"\"}}}],\"scatter3d\":[{\"type\":\"scatter3d\",\"line\":{\"colorbar\":{\"outlinewidth\":0,\"ticks\":\"\"}},\"marker\":{\"colorbar\":{\"outlinewidth\":0,\"ticks\":\"\"}}}],\"scattermapbox\":[{\"type\":\"scattermapbox\",\"marker\":{\"colorbar\":{\"outlinewidth\":0,\"ticks\":\"\"}}}],\"scatterternary\":[{\"type\":\"scatterternary\",\"marker\":{\"colorbar\":{\"outlinewidth\":0,\"ticks\":\"\"}}}],\"scattercarpet\":[{\"type\":\"scattercarpet\",\"marker\":{\"colorbar\":{\"outlinewidth\":0,\"ticks\":\"\"}}}],\"carpet\":[{\"aaxis\":{\"endlinecolor\":\"#2a3f5f\",\"gridcolor\":\"white\",\"linecolor\":\"white\",\"minorgridcolor\":\"white\",\"startlinecolor\":\"#2a3f5f\"},\"baxis\":{\"endlinecolor\":\"#2a3f5f\",\"gridcolor\":\"white\",\"linecolor\":\"white\",\"minorgridcolor\":\"white\",\"startlinecolor\":\"#2a3f5f\"},\"type\":\"carpet\"}],\"table\":[{\"cells\":{\"fill\":{\"color\":\"#EBF0F8\"},\"line\":{\"color\":\"white\"}},\"header\":{\"fill\":{\"color\":\"#C8D4E3\"},\"line\":{\"color\":\"white\"}},\"type\":\"table\"}],\"barpolar\":[{\"marker\":{\"line\":{\"color\":\"#E5ECF6\",\"width\":0.5},\"pattern\":{\"fillmode\":\"overlay\",\"size\":10,\"solidity\":0.2}},\"type\":\"barpolar\"}],\"pie\":[{\"automargin\":true,\"type\":\"pie\"}]},\"layout\":{\"autotypenumbers\":\"strict\",\"colorway\":[\"#636efa\",\"#EF553B\",\"#00cc96\",\"#ab63fa\",\"#FFA15A\",\"#19d3f3\",\"#FF6692\",\"#B6E880\",\"#FF97FF\",\"#FECB52\"],\"font\":{\"color\":\"#2a3f5f\"},\"hovermode\":\"closest\",\"hoverlabel\":{\"align\":\"left\"},\"paper_bgcolor\":\"white\",\"plot_bgcolor\":\"#E5ECF6\",\"polar\":{\"bgcolor\":\"#E5ECF6\",\"angularaxis\":{\"gridcolor\":\"white\",\"linecolor\":\"white\",\"ticks\":\"\"},\"radialaxis\":{\"gridcolor\":\"white\",\"linecolor\":\"white\",\"ticks\":\"\"}},\"ternary\":{\"bgcolor\":\"#E5ECF6\",\"aaxis\":{\"gridcolor\":\"white\",\"linecolor\":\"white\",\"ticks\":\"\"},\"baxis\":{\"gridcolor\":\"white\",\"linecolor\":\"white\",\"ticks\":\"\"},\"caxis\":{\"gridcolor\":\"white\",\"linecolor\":\"white\",\"ticks\":\"\"}},\"coloraxis\":{\"colorbar\":{\"outlinewidth\":0,\"ticks\":\"\"}},\"colorscale\":{\"sequential\":[[0.0,\"#0d0887\"],[0.1111111111111111,\"#46039f\"],[0.2222222222222222,\"#7201a8\"],[0.3333333333333333,\"#9c179e\"],[0.4444444444444444,\"#bd3786\"],[0.5555555555555556,\"#d8576b\"],[0.6666666666666666,\"#ed7953\"],[0.7777777777777778,\"#fb9f3a\"],[0.8888888888888888,\"#fdca26\"],[1.0,\"#f0f921\"]],\"sequentialminus\":[[0.0,\"#0d0887\"],[0.1111111111111111,\"#46039f\"],[0.2222222222222222,\"#7201a8\"],[0.3333333333333333,\"#9c179e\"],[0.4444444444444444,\"#bd3786\"],[0.5555555555555556,\"#d8576b\"],[0.6666666666666666,\"#ed7953\"],[0.7777777777777778,\"#fb9f3a\"],[0.8888888888888888,\"#fdca26\"],[1.0,\"#f0f921\"]],\"diverging\":[[0,\"#8e0152\"],[0.1,\"#c51b7d\"],[0.2,\"#de77ae\"],[0.3,\"#f1b6da\"],[0.4,\"#fde0ef\"],[0.5,\"#f7f7f7\"],[0.6,\"#e6f5d0\"],[0.7,\"#b8e186\"],[0.8,\"#7fbc41\"],[0.9,\"#4d9221\"],[1,\"#276419\"]]},\"xaxis\":{\"gridcolor\":\"white\",\"linecolor\":\"white\",\"ticks\":\"\",\"title\":{\"standoff\":15},\"zerolinecolor\":\"white\",\"automargin\":true,\"zerolinewidth\":2},\"yaxis\":{\"gridcolor\":\"white\",\"linecolor\":\"white\",\"ticks\":\"\",\"title\":{\"standoff\":15},\"zerolinecolor\":\"white\",\"automargin\":true,\"zerolinewidth\":2},\"scene\":{\"xaxis\":{\"backgroundcolor\":\"#E5ECF6\",\"gridcolor\":\"white\",\"linecolor\":\"white\",\"showbackground\":true,\"ticks\":\"\",\"zerolinecolor\":\"white\",\"gridwidth\":2},\"yaxis\":{\"backgroundcolor\":\"#E5ECF6\",\"gridcolor\":\"white\",\"linecolor\":\"white\",\"showbackground\":true,\"ticks\":\"\",\"zerolinecolor\":\"white\",\"gridwidth\":2},\"zaxis\":{\"backgroundcolor\":\"#E5ECF6\",\"gridcolor\":\"white\",\"linecolor\":\"white\",\"showbackground\":true,\"ticks\":\"\",\"zerolinecolor\":\"white\",\"gridwidth\":2}},\"shapedefaults\":{\"line\":{\"color\":\"#2a3f5f\"}},\"annotationdefaults\":{\"arrowcolor\":\"#2a3f5f\",\"arrowhead\":0,\"arrowwidth\":1},\"geo\":{\"bgcolor\":\"white\",\"landcolor\":\"#E5ECF6\",\"subunitcolor\":\"white\",\"showland\":true,\"showlakes\":true,\"lakecolor\":\"white\"},\"title\":{\"x\":0.05},\"mapbox\":{\"style\":\"light\"}}},\"xaxis\":{\"anchor\":\"y\",\"domain\":[0.0,1.0],\"title\":{\"text\":\"name\"}},\"yaxis\":{\"anchor\":\"x\",\"domain\":[0.0,1.0],\"title\":{\"text\":\"MACS\"}},\"legend\":{\"tracegroupgap\":0},\"title\":{\"text\":\"MACs per layer - shufflenetv1_1_96_c3_o3_000\"},\"barmode\":\"relative\"},                        {\"responsive\": true}                    ).then(function(){\n",
       "                            \n",
       "var gd = document.getElementById('e1769e62-2622-4b1a-897e-ce03b29fbe67');\n",
       "var x = new MutationObserver(function (mutations, observer) {{\n",
       "        var display = window.getComputedStyle(gd).display;\n",
       "        if (!display || display === 'none') {{\n",
       "            console.log([gd, 'removed!']);\n",
       "            Plotly.purge(gd);\n",
       "            observer.disconnect();\n",
       "        }}\n",
       "}});\n",
       "\n",
       "// Listen for the removal of the full notebook cells\n",
       "var notebookContainer = gd.closest('#notebook-container');\n",
       "if (notebookContainer) {{\n",
       "    x.observe(notebookContainer, {childList: true});\n",
       "}}\n",
       "\n",
       "// Listen for the clearing of the current output cell\n",
       "var outputEl = gd.closest('.output');\n",
       "if (outputEl) {{\n",
       "    x.observe(outputEl, {childList: true});\n",
       "}}\n",
       "\n",
       "                        })                };                });            </script>        </div>"
      ]
     },
     "metadata": {},
     "output_type": "display_data"
    }
   ],
   "source": [
    "fig6 = px.bar(df, x=\"name\", y= \"MACS\",\n",
    "    title=f\"MACs per layer - {model_name}\")\n",
    "#fig.add_hline(y=256000, line_width=3, line_dash=\"dash\", line_color=\"orange\", annotation_text=\"256 kB MCU constraint\", \n",
    "#              annotation_position=\"bottom right\")\n",
    "#fig.update_layout(showlegend=True)\n",
    "fig6.show()"
   ]
  },
  {
   "cell_type": "code",
   "execution_count": 74,
   "metadata": {},
   "outputs": [
    {
     "data": {
      "application/vnd.plotly.v1+json": {
       "config": {
        "plotlyServerURL": "https://plot.ly"
       },
       "data": [
        {
         "alignmentgroup": "True",
         "hovertemplate": "name=%{x}<br>h_i_1=%{y}<extra></extra>",
         "legendgroup": "",
         "marker": {
          "color": "#636efa",
          "pattern": {
           "shape": ""
          }
         },
         "name": "",
         "offsetgroup": "",
         "orientation": "v",
         "showlegend": false,
         "textposition": "auto",
         "texttemplate": "%{y:.2s}",
         "type": "bar",
         "x": [
          "input_2",
          "conv2d_33",
          "batch_normalization_49",
          "re_lu_33",
          "max_pooling2d_1",
          "conv2d_34",
          "batch_normalization_50",
          "re_lu_34",
          "reshape_32",
          "permute_16",
          "reshape_33",
          "depthwise_conv2d_16",
          "batch_normalization_51",
          "conv2d_35",
          "batch_normalization_52",
          "average_pooling2d_3",
          "concatenate_3",
          "re_lu_35",
          "conv2d_36",
          "batch_normalization_53",
          "re_lu_36",
          "reshape_34",
          "permute_17",
          "reshape_35",
          "depthwise_conv2d_17",
          "batch_normalization_54",
          "conv2d_37",
          "batch_normalization_55",
          "add_13",
          "re_lu_37",
          "conv2d_38",
          "batch_normalization_56",
          "re_lu_38",
          "reshape_36",
          "permute_18",
          "reshape_37",
          "depthwise_conv2d_18",
          "batch_normalization_57",
          "conv2d_39",
          "batch_normalization_58",
          "add_14",
          "re_lu_39",
          "conv2d_40",
          "batch_normalization_59",
          "re_lu_40",
          "reshape_38",
          "permute_19",
          "reshape_39",
          "depthwise_conv2d_19",
          "batch_normalization_60",
          "conv2d_41",
          "batch_normalization_61",
          "add_15",
          "re_lu_41",
          "conv2d_42",
          "batch_normalization_62",
          "re_lu_42",
          "reshape_40",
          "permute_20",
          "reshape_41",
          "depthwise_conv2d_20",
          "batch_normalization_63",
          "conv2d_43",
          "batch_normalization_64",
          "average_pooling2d_4",
          "concatenate_4",
          "re_lu_43",
          "conv2d_44",
          "batch_normalization_65",
          "re_lu_44",
          "reshape_42",
          "permute_21",
          "reshape_43",
          "depthwise_conv2d_21",
          "batch_normalization_66",
          "conv2d_45",
          "batch_normalization_67",
          "add_16",
          "re_lu_45",
          "conv2d_46",
          "batch_normalization_68",
          "re_lu_46",
          "reshape_44",
          "permute_22",
          "reshape_45",
          "depthwise_conv2d_22",
          "batch_normalization_69",
          "conv2d_47",
          "batch_normalization_70",
          "add_17",
          "re_lu_47",
          "conv2d_48",
          "batch_normalization_71",
          "re_lu_48",
          "reshape_46",
          "permute_23",
          "reshape_47",
          "depthwise_conv2d_23",
          "batch_normalization_72",
          "conv2d_49",
          "batch_normalization_73",
          "add_18",
          "re_lu_49",
          "conv2d_50",
          "batch_normalization_74",
          "re_lu_50",
          "reshape_48",
          "permute_24",
          "reshape_49",
          "depthwise_conv2d_24",
          "batch_normalization_75",
          "conv2d_51",
          "batch_normalization_76",
          "add_19",
          "re_lu_51",
          "conv2d_52",
          "batch_normalization_77",
          "re_lu_52",
          "reshape_50",
          "permute_25",
          "reshape_51",
          "depthwise_conv2d_25",
          "batch_normalization_78",
          "conv2d_53",
          "batch_normalization_79",
          "add_20",
          "re_lu_53",
          "conv2d_54",
          "batch_normalization_80",
          "re_lu_54",
          "reshape_52",
          "permute_26",
          "reshape_53",
          "depthwise_conv2d_26",
          "batch_normalization_81",
          "conv2d_55",
          "batch_normalization_82",
          "add_21",
          "re_lu_55",
          "conv2d_56",
          "batch_normalization_83",
          "re_lu_56",
          "reshape_54",
          "permute_27",
          "reshape_55",
          "depthwise_conv2d_27",
          "batch_normalization_84",
          "conv2d_57",
          "batch_normalization_85",
          "add_22",
          "re_lu_57",
          "conv2d_58",
          "batch_normalization_86",
          "re_lu_58",
          "reshape_56",
          "permute_28",
          "reshape_57",
          "depthwise_conv2d_28",
          "batch_normalization_87",
          "conv2d_59",
          "batch_normalization_88",
          "average_pooling2d_5",
          "concatenate_5",
          "re_lu_59",
          "conv2d_60",
          "batch_normalization_89",
          "re_lu_60",
          "reshape_58",
          "permute_29",
          "reshape_59",
          "depthwise_conv2d_29",
          "batch_normalization_90",
          "conv2d_61",
          "batch_normalization_91",
          "add_23",
          "re_lu_61",
          "conv2d_62",
          "batch_normalization_92",
          "re_lu_62",
          "reshape_60",
          "permute_30",
          "reshape_61",
          "depthwise_conv2d_30",
          "batch_normalization_93",
          "conv2d_63",
          "batch_normalization_94",
          "add_24",
          "re_lu_63",
          "conv2d_64",
          "batch_normalization_95",
          "re_lu_64",
          "reshape_62",
          "permute_31",
          "reshape_63",
          "depthwise_conv2d_31",
          "batch_normalization_96",
          "conv2d_65",
          "batch_normalization_97",
          "add_25",
          "re_lu_65",
          "global_average_pooling2d_1",
          "dense_1"
         ],
         "xaxis": "x",
         "y": [
          96,
          96,
          48,
          48,
          48,
          24,
          24,
          24,
          24,
          1,
          1,
          24,
          12,
          12,
          12,
          24,
          12,
          12,
          12,
          12,
          12,
          12,
          1,
          1,
          12,
          12,
          12,
          12,
          12,
          12,
          12,
          12,
          12,
          12,
          1,
          1,
          12,
          12,
          12,
          12,
          12,
          12,
          12,
          12,
          12,
          12,
          1,
          1,
          12,
          12,
          12,
          12,
          12,
          12,
          12,
          12,
          12,
          12,
          1,
          1,
          12,
          6,
          6,
          6,
          12,
          6,
          6,
          6,
          6,
          6,
          6,
          1,
          1,
          6,
          6,
          6,
          6,
          6,
          6,
          6,
          6,
          6,
          6,
          1,
          1,
          6,
          6,
          6,
          6,
          6,
          6,
          6,
          6,
          6,
          6,
          1,
          1,
          6,
          6,
          6,
          6,
          6,
          6,
          6,
          6,
          6,
          6,
          1,
          1,
          6,
          6,
          6,
          6,
          6,
          6,
          6,
          6,
          6,
          6,
          1,
          1,
          6,
          6,
          6,
          6,
          6,
          6,
          6,
          6,
          6,
          6,
          1,
          1,
          6,
          6,
          6,
          6,
          6,
          6,
          6,
          6,
          6,
          6,
          1,
          1,
          6,
          6,
          6,
          6,
          6,
          6,
          6,
          6,
          6,
          6,
          1,
          1,
          6,
          3,
          3,
          3,
          6,
          3,
          3,
          3,
          3,
          3,
          3,
          1,
          1,
          3,
          3,
          3,
          3,
          3,
          3,
          3,
          3,
          3,
          3,
          1,
          1,
          3,
          3,
          3,
          3,
          3,
          3,
          3,
          3,
          3,
          3,
          1,
          1,
          3,
          3,
          3,
          3,
          3,
          3,
          3,
          1
         ],
         "yaxis": "y"
        }
       ],
       "layout": {
        "barmode": "relative",
        "legend": {
         "tracegroupgap": 0
        },
        "template": {
         "data": {
          "bar": [
           {
            "error_x": {
             "color": "#2a3f5f"
            },
            "error_y": {
             "color": "#2a3f5f"
            },
            "marker": {
             "line": {
              "color": "#E5ECF6",
              "width": 0.5
             },
             "pattern": {
              "fillmode": "overlay",
              "size": 10,
              "solidity": 0.2
             }
            },
            "type": "bar"
           }
          ],
          "barpolar": [
           {
            "marker": {
             "line": {
              "color": "#E5ECF6",
              "width": 0.5
             },
             "pattern": {
              "fillmode": "overlay",
              "size": 10,
              "solidity": 0.2
             }
            },
            "type": "barpolar"
           }
          ],
          "carpet": [
           {
            "aaxis": {
             "endlinecolor": "#2a3f5f",
             "gridcolor": "white",
             "linecolor": "white",
             "minorgridcolor": "white",
             "startlinecolor": "#2a3f5f"
            },
            "baxis": {
             "endlinecolor": "#2a3f5f",
             "gridcolor": "white",
             "linecolor": "white",
             "minorgridcolor": "white",
             "startlinecolor": "#2a3f5f"
            },
            "type": "carpet"
           }
          ],
          "choropleth": [
           {
            "colorbar": {
             "outlinewidth": 0,
             "ticks": ""
            },
            "type": "choropleth"
           }
          ],
          "contour": [
           {
            "colorbar": {
             "outlinewidth": 0,
             "ticks": ""
            },
            "colorscale": [
             [
              0,
              "#0d0887"
             ],
             [
              0.1111111111111111,
              "#46039f"
             ],
             [
              0.2222222222222222,
              "#7201a8"
             ],
             [
              0.3333333333333333,
              "#9c179e"
             ],
             [
              0.4444444444444444,
              "#bd3786"
             ],
             [
              0.5555555555555556,
              "#d8576b"
             ],
             [
              0.6666666666666666,
              "#ed7953"
             ],
             [
              0.7777777777777778,
              "#fb9f3a"
             ],
             [
              0.8888888888888888,
              "#fdca26"
             ],
             [
              1,
              "#f0f921"
             ]
            ],
            "type": "contour"
           }
          ],
          "contourcarpet": [
           {
            "colorbar": {
             "outlinewidth": 0,
             "ticks": ""
            },
            "type": "contourcarpet"
           }
          ],
          "heatmap": [
           {
            "colorbar": {
             "outlinewidth": 0,
             "ticks": ""
            },
            "colorscale": [
             [
              0,
              "#0d0887"
             ],
             [
              0.1111111111111111,
              "#46039f"
             ],
             [
              0.2222222222222222,
              "#7201a8"
             ],
             [
              0.3333333333333333,
              "#9c179e"
             ],
             [
              0.4444444444444444,
              "#bd3786"
             ],
             [
              0.5555555555555556,
              "#d8576b"
             ],
             [
              0.6666666666666666,
              "#ed7953"
             ],
             [
              0.7777777777777778,
              "#fb9f3a"
             ],
             [
              0.8888888888888888,
              "#fdca26"
             ],
             [
              1,
              "#f0f921"
             ]
            ],
            "type": "heatmap"
           }
          ],
          "heatmapgl": [
           {
            "colorbar": {
             "outlinewidth": 0,
             "ticks": ""
            },
            "colorscale": [
             [
              0,
              "#0d0887"
             ],
             [
              0.1111111111111111,
              "#46039f"
             ],
             [
              0.2222222222222222,
              "#7201a8"
             ],
             [
              0.3333333333333333,
              "#9c179e"
             ],
             [
              0.4444444444444444,
              "#bd3786"
             ],
             [
              0.5555555555555556,
              "#d8576b"
             ],
             [
              0.6666666666666666,
              "#ed7953"
             ],
             [
              0.7777777777777778,
              "#fb9f3a"
             ],
             [
              0.8888888888888888,
              "#fdca26"
             ],
             [
              1,
              "#f0f921"
             ]
            ],
            "type": "heatmapgl"
           }
          ],
          "histogram": [
           {
            "marker": {
             "pattern": {
              "fillmode": "overlay",
              "size": 10,
              "solidity": 0.2
             }
            },
            "type": "histogram"
           }
          ],
          "histogram2d": [
           {
            "colorbar": {
             "outlinewidth": 0,
             "ticks": ""
            },
            "colorscale": [
             [
              0,
              "#0d0887"
             ],
             [
              0.1111111111111111,
              "#46039f"
             ],
             [
              0.2222222222222222,
              "#7201a8"
             ],
             [
              0.3333333333333333,
              "#9c179e"
             ],
             [
              0.4444444444444444,
              "#bd3786"
             ],
             [
              0.5555555555555556,
              "#d8576b"
             ],
             [
              0.6666666666666666,
              "#ed7953"
             ],
             [
              0.7777777777777778,
              "#fb9f3a"
             ],
             [
              0.8888888888888888,
              "#fdca26"
             ],
             [
              1,
              "#f0f921"
             ]
            ],
            "type": "histogram2d"
           }
          ],
          "histogram2dcontour": [
           {
            "colorbar": {
             "outlinewidth": 0,
             "ticks": ""
            },
            "colorscale": [
             [
              0,
              "#0d0887"
             ],
             [
              0.1111111111111111,
              "#46039f"
             ],
             [
              0.2222222222222222,
              "#7201a8"
             ],
             [
              0.3333333333333333,
              "#9c179e"
             ],
             [
              0.4444444444444444,
              "#bd3786"
             ],
             [
              0.5555555555555556,
              "#d8576b"
             ],
             [
              0.6666666666666666,
              "#ed7953"
             ],
             [
              0.7777777777777778,
              "#fb9f3a"
             ],
             [
              0.8888888888888888,
              "#fdca26"
             ],
             [
              1,
              "#f0f921"
             ]
            ],
            "type": "histogram2dcontour"
           }
          ],
          "mesh3d": [
           {
            "colorbar": {
             "outlinewidth": 0,
             "ticks": ""
            },
            "type": "mesh3d"
           }
          ],
          "parcoords": [
           {
            "line": {
             "colorbar": {
              "outlinewidth": 0,
              "ticks": ""
             }
            },
            "type": "parcoords"
           }
          ],
          "pie": [
           {
            "automargin": true,
            "type": "pie"
           }
          ],
          "scatter": [
           {
            "fillpattern": {
             "fillmode": "overlay",
             "size": 10,
             "solidity": 0.2
            },
            "type": "scatter"
           }
          ],
          "scatter3d": [
           {
            "line": {
             "colorbar": {
              "outlinewidth": 0,
              "ticks": ""
             }
            },
            "marker": {
             "colorbar": {
              "outlinewidth": 0,
              "ticks": ""
             }
            },
            "type": "scatter3d"
           }
          ],
          "scattercarpet": [
           {
            "marker": {
             "colorbar": {
              "outlinewidth": 0,
              "ticks": ""
             }
            },
            "type": "scattercarpet"
           }
          ],
          "scattergeo": [
           {
            "marker": {
             "colorbar": {
              "outlinewidth": 0,
              "ticks": ""
             }
            },
            "type": "scattergeo"
           }
          ],
          "scattergl": [
           {
            "marker": {
             "colorbar": {
              "outlinewidth": 0,
              "ticks": ""
             }
            },
            "type": "scattergl"
           }
          ],
          "scattermapbox": [
           {
            "marker": {
             "colorbar": {
              "outlinewidth": 0,
              "ticks": ""
             }
            },
            "type": "scattermapbox"
           }
          ],
          "scatterpolar": [
           {
            "marker": {
             "colorbar": {
              "outlinewidth": 0,
              "ticks": ""
             }
            },
            "type": "scatterpolar"
           }
          ],
          "scatterpolargl": [
           {
            "marker": {
             "colorbar": {
              "outlinewidth": 0,
              "ticks": ""
             }
            },
            "type": "scatterpolargl"
           }
          ],
          "scatterternary": [
           {
            "marker": {
             "colorbar": {
              "outlinewidth": 0,
              "ticks": ""
             }
            },
            "type": "scatterternary"
           }
          ],
          "surface": [
           {
            "colorbar": {
             "outlinewidth": 0,
             "ticks": ""
            },
            "colorscale": [
             [
              0,
              "#0d0887"
             ],
             [
              0.1111111111111111,
              "#46039f"
             ],
             [
              0.2222222222222222,
              "#7201a8"
             ],
             [
              0.3333333333333333,
              "#9c179e"
             ],
             [
              0.4444444444444444,
              "#bd3786"
             ],
             [
              0.5555555555555556,
              "#d8576b"
             ],
             [
              0.6666666666666666,
              "#ed7953"
             ],
             [
              0.7777777777777778,
              "#fb9f3a"
             ],
             [
              0.8888888888888888,
              "#fdca26"
             ],
             [
              1,
              "#f0f921"
             ]
            ],
            "type": "surface"
           }
          ],
          "table": [
           {
            "cells": {
             "fill": {
              "color": "#EBF0F8"
             },
             "line": {
              "color": "white"
             }
            },
            "header": {
             "fill": {
              "color": "#C8D4E3"
             },
             "line": {
              "color": "white"
             }
            },
            "type": "table"
           }
          ]
         },
         "layout": {
          "annotationdefaults": {
           "arrowcolor": "#2a3f5f",
           "arrowhead": 0,
           "arrowwidth": 1
          },
          "autotypenumbers": "strict",
          "coloraxis": {
           "colorbar": {
            "outlinewidth": 0,
            "ticks": ""
           }
          },
          "colorscale": {
           "diverging": [
            [
             0,
             "#8e0152"
            ],
            [
             0.1,
             "#c51b7d"
            ],
            [
             0.2,
             "#de77ae"
            ],
            [
             0.3,
             "#f1b6da"
            ],
            [
             0.4,
             "#fde0ef"
            ],
            [
             0.5,
             "#f7f7f7"
            ],
            [
             0.6,
             "#e6f5d0"
            ],
            [
             0.7,
             "#b8e186"
            ],
            [
             0.8,
             "#7fbc41"
            ],
            [
             0.9,
             "#4d9221"
            ],
            [
             1,
             "#276419"
            ]
           ],
           "sequential": [
            [
             0,
             "#0d0887"
            ],
            [
             0.1111111111111111,
             "#46039f"
            ],
            [
             0.2222222222222222,
             "#7201a8"
            ],
            [
             0.3333333333333333,
             "#9c179e"
            ],
            [
             0.4444444444444444,
             "#bd3786"
            ],
            [
             0.5555555555555556,
             "#d8576b"
            ],
            [
             0.6666666666666666,
             "#ed7953"
            ],
            [
             0.7777777777777778,
             "#fb9f3a"
            ],
            [
             0.8888888888888888,
             "#fdca26"
            ],
            [
             1,
             "#f0f921"
            ]
           ],
           "sequentialminus": [
            [
             0,
             "#0d0887"
            ],
            [
             0.1111111111111111,
             "#46039f"
            ],
            [
             0.2222222222222222,
             "#7201a8"
            ],
            [
             0.3333333333333333,
             "#9c179e"
            ],
            [
             0.4444444444444444,
             "#bd3786"
            ],
            [
             0.5555555555555556,
             "#d8576b"
            ],
            [
             0.6666666666666666,
             "#ed7953"
            ],
            [
             0.7777777777777778,
             "#fb9f3a"
            ],
            [
             0.8888888888888888,
             "#fdca26"
            ],
            [
             1,
             "#f0f921"
            ]
           ]
          },
          "colorway": [
           "#636efa",
           "#EF553B",
           "#00cc96",
           "#ab63fa",
           "#FFA15A",
           "#19d3f3",
           "#FF6692",
           "#B6E880",
           "#FF97FF",
           "#FECB52"
          ],
          "font": {
           "color": "#2a3f5f"
          },
          "geo": {
           "bgcolor": "white",
           "lakecolor": "white",
           "landcolor": "#E5ECF6",
           "showlakes": true,
           "showland": true,
           "subunitcolor": "white"
          },
          "hoverlabel": {
           "align": "left"
          },
          "hovermode": "closest",
          "mapbox": {
           "style": "light"
          },
          "paper_bgcolor": "white",
          "plot_bgcolor": "#E5ECF6",
          "polar": {
           "angularaxis": {
            "gridcolor": "white",
            "linecolor": "white",
            "ticks": ""
           },
           "bgcolor": "#E5ECF6",
           "radialaxis": {
            "gridcolor": "white",
            "linecolor": "white",
            "ticks": ""
           }
          },
          "scene": {
           "xaxis": {
            "backgroundcolor": "#E5ECF6",
            "gridcolor": "white",
            "gridwidth": 2,
            "linecolor": "white",
            "showbackground": true,
            "ticks": "",
            "zerolinecolor": "white"
           },
           "yaxis": {
            "backgroundcolor": "#E5ECF6",
            "gridcolor": "white",
            "gridwidth": 2,
            "linecolor": "white",
            "showbackground": true,
            "ticks": "",
            "zerolinecolor": "white"
           },
           "zaxis": {
            "backgroundcolor": "#E5ECF6",
            "gridcolor": "white",
            "gridwidth": 2,
            "linecolor": "white",
            "showbackground": true,
            "ticks": "",
            "zerolinecolor": "white"
           }
          },
          "shapedefaults": {
           "line": {
            "color": "#2a3f5f"
           }
          },
          "ternary": {
           "aaxis": {
            "gridcolor": "white",
            "linecolor": "white",
            "ticks": ""
           },
           "baxis": {
            "gridcolor": "white",
            "linecolor": "white",
            "ticks": ""
           },
           "bgcolor": "#E5ECF6",
           "caxis": {
            "gridcolor": "white",
            "linecolor": "white",
            "ticks": ""
           }
          },
          "title": {
           "x": 0.05
          },
          "xaxis": {
           "automargin": true,
           "gridcolor": "white",
           "linecolor": "white",
           "ticks": "",
           "title": {
            "standoff": 15
           },
           "zerolinecolor": "white",
           "zerolinewidth": 2
          },
          "yaxis": {
           "automargin": true,
           "gridcolor": "white",
           "linecolor": "white",
           "ticks": "",
           "title": {
            "standoff": 15
           },
           "zerolinecolor": "white",
           "zerolinewidth": 2
          }
         }
        },
        "title": {
         "text": "Input height per layer - shufflenetv1_1_96_c3_o3_000"
        },
        "xaxis": {
         "anchor": "y",
         "domain": [
          0,
          1
         ],
         "title": {
          "text": "name"
         }
        },
        "yaxis": {
         "anchor": "x",
         "domain": [
          0,
          1
         ],
         "title": {
          "text": "h_i_1"
         }
        }
       }
      },
      "text/html": [
       "<div>                            <div id=\"b5658c7f-026b-4122-8962-700852474e46\" class=\"plotly-graph-div\" style=\"height:525px; width:100%;\"></div>            <script type=\"text/javascript\">                require([\"plotly\"], function(Plotly) {                    window.PLOTLYENV=window.PLOTLYENV || {};                                    if (document.getElementById(\"b5658c7f-026b-4122-8962-700852474e46\")) {                    Plotly.newPlot(                        \"b5658c7f-026b-4122-8962-700852474e46\",                        [{\"alignmentgroup\":\"True\",\"hovertemplate\":\"name=%{x}<br>h_i_1=%{y}<extra></extra>\",\"legendgroup\":\"\",\"marker\":{\"color\":\"#636efa\",\"pattern\":{\"shape\":\"\"}},\"name\":\"\",\"offsetgroup\":\"\",\"orientation\":\"v\",\"showlegend\":false,\"textposition\":\"auto\",\"texttemplate\":\"%{y:.2s}\",\"x\":[\"input_2\",\"conv2d_33\",\"batch_normalization_49\",\"re_lu_33\",\"max_pooling2d_1\",\"conv2d_34\",\"batch_normalization_50\",\"re_lu_34\",\"reshape_32\",\"permute_16\",\"reshape_33\",\"depthwise_conv2d_16\",\"batch_normalization_51\",\"conv2d_35\",\"batch_normalization_52\",\"average_pooling2d_3\",\"concatenate_3\",\"re_lu_35\",\"conv2d_36\",\"batch_normalization_53\",\"re_lu_36\",\"reshape_34\",\"permute_17\",\"reshape_35\",\"depthwise_conv2d_17\",\"batch_normalization_54\",\"conv2d_37\",\"batch_normalization_55\",\"add_13\",\"re_lu_37\",\"conv2d_38\",\"batch_normalization_56\",\"re_lu_38\",\"reshape_36\",\"permute_18\",\"reshape_37\",\"depthwise_conv2d_18\",\"batch_normalization_57\",\"conv2d_39\",\"batch_normalization_58\",\"add_14\",\"re_lu_39\",\"conv2d_40\",\"batch_normalization_59\",\"re_lu_40\",\"reshape_38\",\"permute_19\",\"reshape_39\",\"depthwise_conv2d_19\",\"batch_normalization_60\",\"conv2d_41\",\"batch_normalization_61\",\"add_15\",\"re_lu_41\",\"conv2d_42\",\"batch_normalization_62\",\"re_lu_42\",\"reshape_40\",\"permute_20\",\"reshape_41\",\"depthwise_conv2d_20\",\"batch_normalization_63\",\"conv2d_43\",\"batch_normalization_64\",\"average_pooling2d_4\",\"concatenate_4\",\"re_lu_43\",\"conv2d_44\",\"batch_normalization_65\",\"re_lu_44\",\"reshape_42\",\"permute_21\",\"reshape_43\",\"depthwise_conv2d_21\",\"batch_normalization_66\",\"conv2d_45\",\"batch_normalization_67\",\"add_16\",\"re_lu_45\",\"conv2d_46\",\"batch_normalization_68\",\"re_lu_46\",\"reshape_44\",\"permute_22\",\"reshape_45\",\"depthwise_conv2d_22\",\"batch_normalization_69\",\"conv2d_47\",\"batch_normalization_70\",\"add_17\",\"re_lu_47\",\"conv2d_48\",\"batch_normalization_71\",\"re_lu_48\",\"reshape_46\",\"permute_23\",\"reshape_47\",\"depthwise_conv2d_23\",\"batch_normalization_72\",\"conv2d_49\",\"batch_normalization_73\",\"add_18\",\"re_lu_49\",\"conv2d_50\",\"batch_normalization_74\",\"re_lu_50\",\"reshape_48\",\"permute_24\",\"reshape_49\",\"depthwise_conv2d_24\",\"batch_normalization_75\",\"conv2d_51\",\"batch_normalization_76\",\"add_19\",\"re_lu_51\",\"conv2d_52\",\"batch_normalization_77\",\"re_lu_52\",\"reshape_50\",\"permute_25\",\"reshape_51\",\"depthwise_conv2d_25\",\"batch_normalization_78\",\"conv2d_53\",\"batch_normalization_79\",\"add_20\",\"re_lu_53\",\"conv2d_54\",\"batch_normalization_80\",\"re_lu_54\",\"reshape_52\",\"permute_26\",\"reshape_53\",\"depthwise_conv2d_26\",\"batch_normalization_81\",\"conv2d_55\",\"batch_normalization_82\",\"add_21\",\"re_lu_55\",\"conv2d_56\",\"batch_normalization_83\",\"re_lu_56\",\"reshape_54\",\"permute_27\",\"reshape_55\",\"depthwise_conv2d_27\",\"batch_normalization_84\",\"conv2d_57\",\"batch_normalization_85\",\"add_22\",\"re_lu_57\",\"conv2d_58\",\"batch_normalization_86\",\"re_lu_58\",\"reshape_56\",\"permute_28\",\"reshape_57\",\"depthwise_conv2d_28\",\"batch_normalization_87\",\"conv2d_59\",\"batch_normalization_88\",\"average_pooling2d_5\",\"concatenate_5\",\"re_lu_59\",\"conv2d_60\",\"batch_normalization_89\",\"re_lu_60\",\"reshape_58\",\"permute_29\",\"reshape_59\",\"depthwise_conv2d_29\",\"batch_normalization_90\",\"conv2d_61\",\"batch_normalization_91\",\"add_23\",\"re_lu_61\",\"conv2d_62\",\"batch_normalization_92\",\"re_lu_62\",\"reshape_60\",\"permute_30\",\"reshape_61\",\"depthwise_conv2d_30\",\"batch_normalization_93\",\"conv2d_63\",\"batch_normalization_94\",\"add_24\",\"re_lu_63\",\"conv2d_64\",\"batch_normalization_95\",\"re_lu_64\",\"reshape_62\",\"permute_31\",\"reshape_63\",\"depthwise_conv2d_31\",\"batch_normalization_96\",\"conv2d_65\",\"batch_normalization_97\",\"add_25\",\"re_lu_65\",\"global_average_pooling2d_1\",\"dense_1\"],\"xaxis\":\"x\",\"y\":[96,96,48,48,48,24,24,24,24,1,1,24,12,12,12,24,12,12,12,12,12,12,1,1,12,12,12,12,12,12,12,12,12,12,1,1,12,12,12,12,12,12,12,12,12,12,1,1,12,12,12,12,12,12,12,12,12,12,1,1,12,6,6,6,12,6,6,6,6,6,6,1,1,6,6,6,6,6,6,6,6,6,6,1,1,6,6,6,6,6,6,6,6,6,6,1,1,6,6,6,6,6,6,6,6,6,6,1,1,6,6,6,6,6,6,6,6,6,6,1,1,6,6,6,6,6,6,6,6,6,6,1,1,6,6,6,6,6,6,6,6,6,6,1,1,6,6,6,6,6,6,6,6,6,6,1,1,6,3,3,3,6,3,3,3,3,3,3,1,1,3,3,3,3,3,3,3,3,3,3,1,1,3,3,3,3,3,3,3,3,3,3,1,1,3,3,3,3,3,3,3,1],\"yaxis\":\"y\",\"type\":\"bar\"}],                        {\"template\":{\"data\":{\"histogram2dcontour\":[{\"type\":\"histogram2dcontour\",\"colorbar\":{\"outlinewidth\":0,\"ticks\":\"\"},\"colorscale\":[[0.0,\"#0d0887\"],[0.1111111111111111,\"#46039f\"],[0.2222222222222222,\"#7201a8\"],[0.3333333333333333,\"#9c179e\"],[0.4444444444444444,\"#bd3786\"],[0.5555555555555556,\"#d8576b\"],[0.6666666666666666,\"#ed7953\"],[0.7777777777777778,\"#fb9f3a\"],[0.8888888888888888,\"#fdca26\"],[1.0,\"#f0f921\"]]}],\"choropleth\":[{\"type\":\"choropleth\",\"colorbar\":{\"outlinewidth\":0,\"ticks\":\"\"}}],\"histogram2d\":[{\"type\":\"histogram2d\",\"colorbar\":{\"outlinewidth\":0,\"ticks\":\"\"},\"colorscale\":[[0.0,\"#0d0887\"],[0.1111111111111111,\"#46039f\"],[0.2222222222222222,\"#7201a8\"],[0.3333333333333333,\"#9c179e\"],[0.4444444444444444,\"#bd3786\"],[0.5555555555555556,\"#d8576b\"],[0.6666666666666666,\"#ed7953\"],[0.7777777777777778,\"#fb9f3a\"],[0.8888888888888888,\"#fdca26\"],[1.0,\"#f0f921\"]]}],\"heatmap\":[{\"type\":\"heatmap\",\"colorbar\":{\"outlinewidth\":0,\"ticks\":\"\"},\"colorscale\":[[0.0,\"#0d0887\"],[0.1111111111111111,\"#46039f\"],[0.2222222222222222,\"#7201a8\"],[0.3333333333333333,\"#9c179e\"],[0.4444444444444444,\"#bd3786\"],[0.5555555555555556,\"#d8576b\"],[0.6666666666666666,\"#ed7953\"],[0.7777777777777778,\"#fb9f3a\"],[0.8888888888888888,\"#fdca26\"],[1.0,\"#f0f921\"]]}],\"heatmapgl\":[{\"type\":\"heatmapgl\",\"colorbar\":{\"outlinewidth\":0,\"ticks\":\"\"},\"colorscale\":[[0.0,\"#0d0887\"],[0.1111111111111111,\"#46039f\"],[0.2222222222222222,\"#7201a8\"],[0.3333333333333333,\"#9c179e\"],[0.4444444444444444,\"#bd3786\"],[0.5555555555555556,\"#d8576b\"],[0.6666666666666666,\"#ed7953\"],[0.7777777777777778,\"#fb9f3a\"],[0.8888888888888888,\"#fdca26\"],[1.0,\"#f0f921\"]]}],\"contourcarpet\":[{\"type\":\"contourcarpet\",\"colorbar\":{\"outlinewidth\":0,\"ticks\":\"\"}}],\"contour\":[{\"type\":\"contour\",\"colorbar\":{\"outlinewidth\":0,\"ticks\":\"\"},\"colorscale\":[[0.0,\"#0d0887\"],[0.1111111111111111,\"#46039f\"],[0.2222222222222222,\"#7201a8\"],[0.3333333333333333,\"#9c179e\"],[0.4444444444444444,\"#bd3786\"],[0.5555555555555556,\"#d8576b\"],[0.6666666666666666,\"#ed7953\"],[0.7777777777777778,\"#fb9f3a\"],[0.8888888888888888,\"#fdca26\"],[1.0,\"#f0f921\"]]}],\"surface\":[{\"type\":\"surface\",\"colorbar\":{\"outlinewidth\":0,\"ticks\":\"\"},\"colorscale\":[[0.0,\"#0d0887\"],[0.1111111111111111,\"#46039f\"],[0.2222222222222222,\"#7201a8\"],[0.3333333333333333,\"#9c179e\"],[0.4444444444444444,\"#bd3786\"],[0.5555555555555556,\"#d8576b\"],[0.6666666666666666,\"#ed7953\"],[0.7777777777777778,\"#fb9f3a\"],[0.8888888888888888,\"#fdca26\"],[1.0,\"#f0f921\"]]}],\"mesh3d\":[{\"type\":\"mesh3d\",\"colorbar\":{\"outlinewidth\":0,\"ticks\":\"\"}}],\"scatter\":[{\"fillpattern\":{\"fillmode\":\"overlay\",\"size\":10,\"solidity\":0.2},\"type\":\"scatter\"}],\"parcoords\":[{\"type\":\"parcoords\",\"line\":{\"colorbar\":{\"outlinewidth\":0,\"ticks\":\"\"}}}],\"scatterpolargl\":[{\"type\":\"scatterpolargl\",\"marker\":{\"colorbar\":{\"outlinewidth\":0,\"ticks\":\"\"}}}],\"bar\":[{\"error_x\":{\"color\":\"#2a3f5f\"},\"error_y\":{\"color\":\"#2a3f5f\"},\"marker\":{\"line\":{\"color\":\"#E5ECF6\",\"width\":0.5},\"pattern\":{\"fillmode\":\"overlay\",\"size\":10,\"solidity\":0.2}},\"type\":\"bar\"}],\"scattergeo\":[{\"type\":\"scattergeo\",\"marker\":{\"colorbar\":{\"outlinewidth\":0,\"ticks\":\"\"}}}],\"scatterpolar\":[{\"type\":\"scatterpolar\",\"marker\":{\"colorbar\":{\"outlinewidth\":0,\"ticks\":\"\"}}}],\"histogram\":[{\"marker\":{\"pattern\":{\"fillmode\":\"overlay\",\"size\":10,\"solidity\":0.2}},\"type\":\"histogram\"}],\"scattergl\":[{\"type\":\"scattergl\",\"marker\":{\"colorbar\":{\"outlinewidth\":0,\"ticks\":\"\"}}}],\"scatter3d\":[{\"type\":\"scatter3d\",\"line\":{\"colorbar\":{\"outlinewidth\":0,\"ticks\":\"\"}},\"marker\":{\"colorbar\":{\"outlinewidth\":0,\"ticks\":\"\"}}}],\"scattermapbox\":[{\"type\":\"scattermapbox\",\"marker\":{\"colorbar\":{\"outlinewidth\":0,\"ticks\":\"\"}}}],\"scatterternary\":[{\"type\":\"scatterternary\",\"marker\":{\"colorbar\":{\"outlinewidth\":0,\"ticks\":\"\"}}}],\"scattercarpet\":[{\"type\":\"scattercarpet\",\"marker\":{\"colorbar\":{\"outlinewidth\":0,\"ticks\":\"\"}}}],\"carpet\":[{\"aaxis\":{\"endlinecolor\":\"#2a3f5f\",\"gridcolor\":\"white\",\"linecolor\":\"white\",\"minorgridcolor\":\"white\",\"startlinecolor\":\"#2a3f5f\"},\"baxis\":{\"endlinecolor\":\"#2a3f5f\",\"gridcolor\":\"white\",\"linecolor\":\"white\",\"minorgridcolor\":\"white\",\"startlinecolor\":\"#2a3f5f\"},\"type\":\"carpet\"}],\"table\":[{\"cells\":{\"fill\":{\"color\":\"#EBF0F8\"},\"line\":{\"color\":\"white\"}},\"header\":{\"fill\":{\"color\":\"#C8D4E3\"},\"line\":{\"color\":\"white\"}},\"type\":\"table\"}],\"barpolar\":[{\"marker\":{\"line\":{\"color\":\"#E5ECF6\",\"width\":0.5},\"pattern\":{\"fillmode\":\"overlay\",\"size\":10,\"solidity\":0.2}},\"type\":\"barpolar\"}],\"pie\":[{\"automargin\":true,\"type\":\"pie\"}]},\"layout\":{\"autotypenumbers\":\"strict\",\"colorway\":[\"#636efa\",\"#EF553B\",\"#00cc96\",\"#ab63fa\",\"#FFA15A\",\"#19d3f3\",\"#FF6692\",\"#B6E880\",\"#FF97FF\",\"#FECB52\"],\"font\":{\"color\":\"#2a3f5f\"},\"hovermode\":\"closest\",\"hoverlabel\":{\"align\":\"left\"},\"paper_bgcolor\":\"white\",\"plot_bgcolor\":\"#E5ECF6\",\"polar\":{\"bgcolor\":\"#E5ECF6\",\"angularaxis\":{\"gridcolor\":\"white\",\"linecolor\":\"white\",\"ticks\":\"\"},\"radialaxis\":{\"gridcolor\":\"white\",\"linecolor\":\"white\",\"ticks\":\"\"}},\"ternary\":{\"bgcolor\":\"#E5ECF6\",\"aaxis\":{\"gridcolor\":\"white\",\"linecolor\":\"white\",\"ticks\":\"\"},\"baxis\":{\"gridcolor\":\"white\",\"linecolor\":\"white\",\"ticks\":\"\"},\"caxis\":{\"gridcolor\":\"white\",\"linecolor\":\"white\",\"ticks\":\"\"}},\"coloraxis\":{\"colorbar\":{\"outlinewidth\":0,\"ticks\":\"\"}},\"colorscale\":{\"sequential\":[[0.0,\"#0d0887\"],[0.1111111111111111,\"#46039f\"],[0.2222222222222222,\"#7201a8\"],[0.3333333333333333,\"#9c179e\"],[0.4444444444444444,\"#bd3786\"],[0.5555555555555556,\"#d8576b\"],[0.6666666666666666,\"#ed7953\"],[0.7777777777777778,\"#fb9f3a\"],[0.8888888888888888,\"#fdca26\"],[1.0,\"#f0f921\"]],\"sequentialminus\":[[0.0,\"#0d0887\"],[0.1111111111111111,\"#46039f\"],[0.2222222222222222,\"#7201a8\"],[0.3333333333333333,\"#9c179e\"],[0.4444444444444444,\"#bd3786\"],[0.5555555555555556,\"#d8576b\"],[0.6666666666666666,\"#ed7953\"],[0.7777777777777778,\"#fb9f3a\"],[0.8888888888888888,\"#fdca26\"],[1.0,\"#f0f921\"]],\"diverging\":[[0,\"#8e0152\"],[0.1,\"#c51b7d\"],[0.2,\"#de77ae\"],[0.3,\"#f1b6da\"],[0.4,\"#fde0ef\"],[0.5,\"#f7f7f7\"],[0.6,\"#e6f5d0\"],[0.7,\"#b8e186\"],[0.8,\"#7fbc41\"],[0.9,\"#4d9221\"],[1,\"#276419\"]]},\"xaxis\":{\"gridcolor\":\"white\",\"linecolor\":\"white\",\"ticks\":\"\",\"title\":{\"standoff\":15},\"zerolinecolor\":\"white\",\"automargin\":true,\"zerolinewidth\":2},\"yaxis\":{\"gridcolor\":\"white\",\"linecolor\":\"white\",\"ticks\":\"\",\"title\":{\"standoff\":15},\"zerolinecolor\":\"white\",\"automargin\":true,\"zerolinewidth\":2},\"scene\":{\"xaxis\":{\"backgroundcolor\":\"#E5ECF6\",\"gridcolor\":\"white\",\"linecolor\":\"white\",\"showbackground\":true,\"ticks\":\"\",\"zerolinecolor\":\"white\",\"gridwidth\":2},\"yaxis\":{\"backgroundcolor\":\"#E5ECF6\",\"gridcolor\":\"white\",\"linecolor\":\"white\",\"showbackground\":true,\"ticks\":\"\",\"zerolinecolor\":\"white\",\"gridwidth\":2},\"zaxis\":{\"backgroundcolor\":\"#E5ECF6\",\"gridcolor\":\"white\",\"linecolor\":\"white\",\"showbackground\":true,\"ticks\":\"\",\"zerolinecolor\":\"white\",\"gridwidth\":2}},\"shapedefaults\":{\"line\":{\"color\":\"#2a3f5f\"}},\"annotationdefaults\":{\"arrowcolor\":\"#2a3f5f\",\"arrowhead\":0,\"arrowwidth\":1},\"geo\":{\"bgcolor\":\"white\",\"landcolor\":\"#E5ECF6\",\"subunitcolor\":\"white\",\"showland\":true,\"showlakes\":true,\"lakecolor\":\"white\"},\"title\":{\"x\":0.05},\"mapbox\":{\"style\":\"light\"}}},\"xaxis\":{\"anchor\":\"y\",\"domain\":[0.0,1.0],\"title\":{\"text\":\"name\"}},\"yaxis\":{\"anchor\":\"x\",\"domain\":[0.0,1.0],\"title\":{\"text\":\"h_i_1\"}},\"legend\":{\"tracegroupgap\":0},\"title\":{\"text\":\"Input height per layer - shufflenetv1_1_96_c3_o3_000\"},\"barmode\":\"relative\"},                        {\"responsive\": true}                    ).then(function(){\n",
       "                            \n",
       "var gd = document.getElementById('b5658c7f-026b-4122-8962-700852474e46');\n",
       "var x = new MutationObserver(function (mutations, observer) {{\n",
       "        var display = window.getComputedStyle(gd).display;\n",
       "        if (!display || display === 'none') {{\n",
       "            console.log([gd, 'removed!']);\n",
       "            Plotly.purge(gd);\n",
       "            observer.disconnect();\n",
       "        }}\n",
       "}});\n",
       "\n",
       "// Listen for the removal of the full notebook cells\n",
       "var notebookContainer = gd.closest('#notebook-container');\n",
       "if (notebookContainer) {{\n",
       "    x.observe(notebookContainer, {childList: true});\n",
       "}}\n",
       "\n",
       "// Listen for the clearing of the current output cell\n",
       "var outputEl = gd.closest('.output');\n",
       "if (outputEl) {{\n",
       "    x.observe(outputEl, {childList: true});\n",
       "}}\n",
       "\n",
       "                        })                };                });            </script>        </div>"
      ]
     },
     "metadata": {},
     "output_type": "display_data"
    }
   ],
   "source": [
    "fig2 = px.bar(df, x=\"name\", y= \"h_i_1\", text_auto=\".2s\",\n",
    "    title=f\"Input height per layer - {model_name}\")\n",
    "#fig2.add_hline(y=256000, line_width=3, line_dash=\"dash\", line_color=\"orange\")\n",
    "#fig2.update_yaxes(autorange=\"reversed\")\n",
    "#fig2.update_yaxes(rangemode=\"tozero\")\n",
    "fig2.show()"
   ]
  },
  {
   "cell_type": "code",
   "execution_count": 75,
   "metadata": {},
   "outputs": [
    {
     "data": {
      "application/vnd.plotly.v1+json": {
       "config": {
        "plotlyServerURL": "https://plot.ly"
       },
       "data": [
        {
         "alignmentgroup": "True",
         "hovertemplate": "name=%{x}<br>c_i_1=%{y}<extra></extra>",
         "legendgroup": "",
         "marker": {
          "color": "#636efa",
          "pattern": {
           "shape": ""
          }
         },
         "name": "",
         "offsetgroup": "",
         "orientation": "v",
         "showlegend": false,
         "textposition": "auto",
         "texttemplate": "%{y:.2s}",
         "type": "bar",
         "x": [
          "input_2",
          "conv2d_33",
          "batch_normalization_49",
          "re_lu_33",
          "max_pooling2d_1",
          "conv2d_34",
          "batch_normalization_50",
          "re_lu_34",
          "reshape_32",
          "permute_16",
          "reshape_33",
          "depthwise_conv2d_16",
          "batch_normalization_51",
          "conv2d_35",
          "batch_normalization_52",
          "average_pooling2d_3",
          "concatenate_3",
          "re_lu_35",
          "conv2d_36",
          "batch_normalization_53",
          "re_lu_36",
          "reshape_34",
          "permute_17",
          "reshape_35",
          "depthwise_conv2d_17",
          "batch_normalization_54",
          "conv2d_37",
          "batch_normalization_55",
          "add_13",
          "re_lu_37",
          "conv2d_38",
          "batch_normalization_56",
          "re_lu_38",
          "reshape_36",
          "permute_18",
          "reshape_37",
          "depthwise_conv2d_18",
          "batch_normalization_57",
          "conv2d_39",
          "batch_normalization_58",
          "add_14",
          "re_lu_39",
          "conv2d_40",
          "batch_normalization_59",
          "re_lu_40",
          "reshape_38",
          "permute_19",
          "reshape_39",
          "depthwise_conv2d_19",
          "batch_normalization_60",
          "conv2d_41",
          "batch_normalization_61",
          "add_15",
          "re_lu_41",
          "conv2d_42",
          "batch_normalization_62",
          "re_lu_42",
          "reshape_40",
          "permute_20",
          "reshape_41",
          "depthwise_conv2d_20",
          "batch_normalization_63",
          "conv2d_43",
          "batch_normalization_64",
          "average_pooling2d_4",
          "concatenate_4",
          "re_lu_43",
          "conv2d_44",
          "batch_normalization_65",
          "re_lu_44",
          "reshape_42",
          "permute_21",
          "reshape_43",
          "depthwise_conv2d_21",
          "batch_normalization_66",
          "conv2d_45",
          "batch_normalization_67",
          "add_16",
          "re_lu_45",
          "conv2d_46",
          "batch_normalization_68",
          "re_lu_46",
          "reshape_44",
          "permute_22",
          "reshape_45",
          "depthwise_conv2d_22",
          "batch_normalization_69",
          "conv2d_47",
          "batch_normalization_70",
          "add_17",
          "re_lu_47",
          "conv2d_48",
          "batch_normalization_71",
          "re_lu_48",
          "reshape_46",
          "permute_23",
          "reshape_47",
          "depthwise_conv2d_23",
          "batch_normalization_72",
          "conv2d_49",
          "batch_normalization_73",
          "add_18",
          "re_lu_49",
          "conv2d_50",
          "batch_normalization_74",
          "re_lu_50",
          "reshape_48",
          "permute_24",
          "reshape_49",
          "depthwise_conv2d_24",
          "batch_normalization_75",
          "conv2d_51",
          "batch_normalization_76",
          "add_19",
          "re_lu_51",
          "conv2d_52",
          "batch_normalization_77",
          "re_lu_52",
          "reshape_50",
          "permute_25",
          "reshape_51",
          "depthwise_conv2d_25",
          "batch_normalization_78",
          "conv2d_53",
          "batch_normalization_79",
          "add_20",
          "re_lu_53",
          "conv2d_54",
          "batch_normalization_80",
          "re_lu_54",
          "reshape_52",
          "permute_26",
          "reshape_53",
          "depthwise_conv2d_26",
          "batch_normalization_81",
          "conv2d_55",
          "batch_normalization_82",
          "add_21",
          "re_lu_55",
          "conv2d_56",
          "batch_normalization_83",
          "re_lu_56",
          "reshape_54",
          "permute_27",
          "reshape_55",
          "depthwise_conv2d_27",
          "batch_normalization_84",
          "conv2d_57",
          "batch_normalization_85",
          "add_22",
          "re_lu_57",
          "conv2d_58",
          "batch_normalization_86",
          "re_lu_58",
          "reshape_56",
          "permute_28",
          "reshape_57",
          "depthwise_conv2d_28",
          "batch_normalization_87",
          "conv2d_59",
          "batch_normalization_88",
          "average_pooling2d_5",
          "concatenate_5",
          "re_lu_59",
          "conv2d_60",
          "batch_normalization_89",
          "re_lu_60",
          "reshape_58",
          "permute_29",
          "reshape_59",
          "depthwise_conv2d_29",
          "batch_normalization_90",
          "conv2d_61",
          "batch_normalization_91",
          "add_23",
          "re_lu_61",
          "conv2d_62",
          "batch_normalization_92",
          "re_lu_62",
          "reshape_60",
          "permute_30",
          "reshape_61",
          "depthwise_conv2d_30",
          "batch_normalization_93",
          "conv2d_63",
          "batch_normalization_94",
          "add_24",
          "re_lu_63",
          "conv2d_64",
          "batch_normalization_95",
          "re_lu_64",
          "reshape_62",
          "permute_31",
          "reshape_63",
          "depthwise_conv2d_31",
          "batch_normalization_96",
          "conv2d_65",
          "batch_normalization_97",
          "add_25",
          "re_lu_65",
          "global_average_pooling2d_1",
          "dense_1"
         ],
         "xaxis": "x",
         "y": [
          3,
          3,
          24,
          24,
          24,
          24,
          50,
          50,
          50,
          2,
          25,
          50,
          50,
          50,
          176,
          24,
          176,
          200,
          200,
          50,
          50,
          50,
          2,
          25,
          50,
          50,
          50,
          200,
          200,
          200,
          200,
          50,
          50,
          50,
          2,
          25,
          50,
          50,
          50,
          200,
          200,
          200,
          200,
          50,
          50,
          50,
          2,
          25,
          50,
          50,
          50,
          200,
          200,
          200,
          200,
          100,
          100,
          100,
          2,
          50,
          100,
          100,
          100,
          200,
          200,
          200,
          400,
          400,
          100,
          100,
          100,
          2,
          50,
          100,
          100,
          100,
          400,
          400,
          400,
          400,
          100,
          100,
          100,
          2,
          50,
          100,
          100,
          100,
          400,
          400,
          400,
          400,
          100,
          100,
          100,
          2,
          50,
          100,
          100,
          100,
          400,
          400,
          400,
          400,
          100,
          100,
          100,
          2,
          50,
          100,
          100,
          100,
          400,
          400,
          400,
          400,
          100,
          100,
          100,
          2,
          50,
          100,
          100,
          100,
          400,
          400,
          400,
          400,
          100,
          100,
          100,
          2,
          50,
          100,
          100,
          100,
          400,
          400,
          400,
          400,
          100,
          100,
          100,
          2,
          50,
          100,
          100,
          100,
          400,
          400,
          400,
          400,
          200,
          200,
          200,
          2,
          100,
          200,
          200,
          200,
          400,
          400,
          400,
          800,
          800,
          200,
          200,
          200,
          2,
          100,
          200,
          200,
          200,
          800,
          800,
          800,
          800,
          200,
          200,
          200,
          2,
          100,
          200,
          200,
          200,
          800,
          800,
          800,
          800,
          200,
          200,
          200,
          2,
          100,
          200,
          200,
          200,
          800,
          800,
          800,
          800,
          800
         ],
         "yaxis": "y"
        }
       ],
       "layout": {
        "barmode": "relative",
        "legend": {
         "tracegroupgap": 0
        },
        "template": {
         "data": {
          "bar": [
           {
            "error_x": {
             "color": "#2a3f5f"
            },
            "error_y": {
             "color": "#2a3f5f"
            },
            "marker": {
             "line": {
              "color": "#E5ECF6",
              "width": 0.5
             },
             "pattern": {
              "fillmode": "overlay",
              "size": 10,
              "solidity": 0.2
             }
            },
            "type": "bar"
           }
          ],
          "barpolar": [
           {
            "marker": {
             "line": {
              "color": "#E5ECF6",
              "width": 0.5
             },
             "pattern": {
              "fillmode": "overlay",
              "size": 10,
              "solidity": 0.2
             }
            },
            "type": "barpolar"
           }
          ],
          "carpet": [
           {
            "aaxis": {
             "endlinecolor": "#2a3f5f",
             "gridcolor": "white",
             "linecolor": "white",
             "minorgridcolor": "white",
             "startlinecolor": "#2a3f5f"
            },
            "baxis": {
             "endlinecolor": "#2a3f5f",
             "gridcolor": "white",
             "linecolor": "white",
             "minorgridcolor": "white",
             "startlinecolor": "#2a3f5f"
            },
            "type": "carpet"
           }
          ],
          "choropleth": [
           {
            "colorbar": {
             "outlinewidth": 0,
             "ticks": ""
            },
            "type": "choropleth"
           }
          ],
          "contour": [
           {
            "colorbar": {
             "outlinewidth": 0,
             "ticks": ""
            },
            "colorscale": [
             [
              0,
              "#0d0887"
             ],
             [
              0.1111111111111111,
              "#46039f"
             ],
             [
              0.2222222222222222,
              "#7201a8"
             ],
             [
              0.3333333333333333,
              "#9c179e"
             ],
             [
              0.4444444444444444,
              "#bd3786"
             ],
             [
              0.5555555555555556,
              "#d8576b"
             ],
             [
              0.6666666666666666,
              "#ed7953"
             ],
             [
              0.7777777777777778,
              "#fb9f3a"
             ],
             [
              0.8888888888888888,
              "#fdca26"
             ],
             [
              1,
              "#f0f921"
             ]
            ],
            "type": "contour"
           }
          ],
          "contourcarpet": [
           {
            "colorbar": {
             "outlinewidth": 0,
             "ticks": ""
            },
            "type": "contourcarpet"
           }
          ],
          "heatmap": [
           {
            "colorbar": {
             "outlinewidth": 0,
             "ticks": ""
            },
            "colorscale": [
             [
              0,
              "#0d0887"
             ],
             [
              0.1111111111111111,
              "#46039f"
             ],
             [
              0.2222222222222222,
              "#7201a8"
             ],
             [
              0.3333333333333333,
              "#9c179e"
             ],
             [
              0.4444444444444444,
              "#bd3786"
             ],
             [
              0.5555555555555556,
              "#d8576b"
             ],
             [
              0.6666666666666666,
              "#ed7953"
             ],
             [
              0.7777777777777778,
              "#fb9f3a"
             ],
             [
              0.8888888888888888,
              "#fdca26"
             ],
             [
              1,
              "#f0f921"
             ]
            ],
            "type": "heatmap"
           }
          ],
          "heatmapgl": [
           {
            "colorbar": {
             "outlinewidth": 0,
             "ticks": ""
            },
            "colorscale": [
             [
              0,
              "#0d0887"
             ],
             [
              0.1111111111111111,
              "#46039f"
             ],
             [
              0.2222222222222222,
              "#7201a8"
             ],
             [
              0.3333333333333333,
              "#9c179e"
             ],
             [
              0.4444444444444444,
              "#bd3786"
             ],
             [
              0.5555555555555556,
              "#d8576b"
             ],
             [
              0.6666666666666666,
              "#ed7953"
             ],
             [
              0.7777777777777778,
              "#fb9f3a"
             ],
             [
              0.8888888888888888,
              "#fdca26"
             ],
             [
              1,
              "#f0f921"
             ]
            ],
            "type": "heatmapgl"
           }
          ],
          "histogram": [
           {
            "marker": {
             "pattern": {
              "fillmode": "overlay",
              "size": 10,
              "solidity": 0.2
             }
            },
            "type": "histogram"
           }
          ],
          "histogram2d": [
           {
            "colorbar": {
             "outlinewidth": 0,
             "ticks": ""
            },
            "colorscale": [
             [
              0,
              "#0d0887"
             ],
             [
              0.1111111111111111,
              "#46039f"
             ],
             [
              0.2222222222222222,
              "#7201a8"
             ],
             [
              0.3333333333333333,
              "#9c179e"
             ],
             [
              0.4444444444444444,
              "#bd3786"
             ],
             [
              0.5555555555555556,
              "#d8576b"
             ],
             [
              0.6666666666666666,
              "#ed7953"
             ],
             [
              0.7777777777777778,
              "#fb9f3a"
             ],
             [
              0.8888888888888888,
              "#fdca26"
             ],
             [
              1,
              "#f0f921"
             ]
            ],
            "type": "histogram2d"
           }
          ],
          "histogram2dcontour": [
           {
            "colorbar": {
             "outlinewidth": 0,
             "ticks": ""
            },
            "colorscale": [
             [
              0,
              "#0d0887"
             ],
             [
              0.1111111111111111,
              "#46039f"
             ],
             [
              0.2222222222222222,
              "#7201a8"
             ],
             [
              0.3333333333333333,
              "#9c179e"
             ],
             [
              0.4444444444444444,
              "#bd3786"
             ],
             [
              0.5555555555555556,
              "#d8576b"
             ],
             [
              0.6666666666666666,
              "#ed7953"
             ],
             [
              0.7777777777777778,
              "#fb9f3a"
             ],
             [
              0.8888888888888888,
              "#fdca26"
             ],
             [
              1,
              "#f0f921"
             ]
            ],
            "type": "histogram2dcontour"
           }
          ],
          "mesh3d": [
           {
            "colorbar": {
             "outlinewidth": 0,
             "ticks": ""
            },
            "type": "mesh3d"
           }
          ],
          "parcoords": [
           {
            "line": {
             "colorbar": {
              "outlinewidth": 0,
              "ticks": ""
             }
            },
            "type": "parcoords"
           }
          ],
          "pie": [
           {
            "automargin": true,
            "type": "pie"
           }
          ],
          "scatter": [
           {
            "fillpattern": {
             "fillmode": "overlay",
             "size": 10,
             "solidity": 0.2
            },
            "type": "scatter"
           }
          ],
          "scatter3d": [
           {
            "line": {
             "colorbar": {
              "outlinewidth": 0,
              "ticks": ""
             }
            },
            "marker": {
             "colorbar": {
              "outlinewidth": 0,
              "ticks": ""
             }
            },
            "type": "scatter3d"
           }
          ],
          "scattercarpet": [
           {
            "marker": {
             "colorbar": {
              "outlinewidth": 0,
              "ticks": ""
             }
            },
            "type": "scattercarpet"
           }
          ],
          "scattergeo": [
           {
            "marker": {
             "colorbar": {
              "outlinewidth": 0,
              "ticks": ""
             }
            },
            "type": "scattergeo"
           }
          ],
          "scattergl": [
           {
            "marker": {
             "colorbar": {
              "outlinewidth": 0,
              "ticks": ""
             }
            },
            "type": "scattergl"
           }
          ],
          "scattermapbox": [
           {
            "marker": {
             "colorbar": {
              "outlinewidth": 0,
              "ticks": ""
             }
            },
            "type": "scattermapbox"
           }
          ],
          "scatterpolar": [
           {
            "marker": {
             "colorbar": {
              "outlinewidth": 0,
              "ticks": ""
             }
            },
            "type": "scatterpolar"
           }
          ],
          "scatterpolargl": [
           {
            "marker": {
             "colorbar": {
              "outlinewidth": 0,
              "ticks": ""
             }
            },
            "type": "scatterpolargl"
           }
          ],
          "scatterternary": [
           {
            "marker": {
             "colorbar": {
              "outlinewidth": 0,
              "ticks": ""
             }
            },
            "type": "scatterternary"
           }
          ],
          "surface": [
           {
            "colorbar": {
             "outlinewidth": 0,
             "ticks": ""
            },
            "colorscale": [
             [
              0,
              "#0d0887"
             ],
             [
              0.1111111111111111,
              "#46039f"
             ],
             [
              0.2222222222222222,
              "#7201a8"
             ],
             [
              0.3333333333333333,
              "#9c179e"
             ],
             [
              0.4444444444444444,
              "#bd3786"
             ],
             [
              0.5555555555555556,
              "#d8576b"
             ],
             [
              0.6666666666666666,
              "#ed7953"
             ],
             [
              0.7777777777777778,
              "#fb9f3a"
             ],
             [
              0.8888888888888888,
              "#fdca26"
             ],
             [
              1,
              "#f0f921"
             ]
            ],
            "type": "surface"
           }
          ],
          "table": [
           {
            "cells": {
             "fill": {
              "color": "#EBF0F8"
             },
             "line": {
              "color": "white"
             }
            },
            "header": {
             "fill": {
              "color": "#C8D4E3"
             },
             "line": {
              "color": "white"
             }
            },
            "type": "table"
           }
          ]
         },
         "layout": {
          "annotationdefaults": {
           "arrowcolor": "#2a3f5f",
           "arrowhead": 0,
           "arrowwidth": 1
          },
          "autotypenumbers": "strict",
          "coloraxis": {
           "colorbar": {
            "outlinewidth": 0,
            "ticks": ""
           }
          },
          "colorscale": {
           "diverging": [
            [
             0,
             "#8e0152"
            ],
            [
             0.1,
             "#c51b7d"
            ],
            [
             0.2,
             "#de77ae"
            ],
            [
             0.3,
             "#f1b6da"
            ],
            [
             0.4,
             "#fde0ef"
            ],
            [
             0.5,
             "#f7f7f7"
            ],
            [
             0.6,
             "#e6f5d0"
            ],
            [
             0.7,
             "#b8e186"
            ],
            [
             0.8,
             "#7fbc41"
            ],
            [
             0.9,
             "#4d9221"
            ],
            [
             1,
             "#276419"
            ]
           ],
           "sequential": [
            [
             0,
             "#0d0887"
            ],
            [
             0.1111111111111111,
             "#46039f"
            ],
            [
             0.2222222222222222,
             "#7201a8"
            ],
            [
             0.3333333333333333,
             "#9c179e"
            ],
            [
             0.4444444444444444,
             "#bd3786"
            ],
            [
             0.5555555555555556,
             "#d8576b"
            ],
            [
             0.6666666666666666,
             "#ed7953"
            ],
            [
             0.7777777777777778,
             "#fb9f3a"
            ],
            [
             0.8888888888888888,
             "#fdca26"
            ],
            [
             1,
             "#f0f921"
            ]
           ],
           "sequentialminus": [
            [
             0,
             "#0d0887"
            ],
            [
             0.1111111111111111,
             "#46039f"
            ],
            [
             0.2222222222222222,
             "#7201a8"
            ],
            [
             0.3333333333333333,
             "#9c179e"
            ],
            [
             0.4444444444444444,
             "#bd3786"
            ],
            [
             0.5555555555555556,
             "#d8576b"
            ],
            [
             0.6666666666666666,
             "#ed7953"
            ],
            [
             0.7777777777777778,
             "#fb9f3a"
            ],
            [
             0.8888888888888888,
             "#fdca26"
            ],
            [
             1,
             "#f0f921"
            ]
           ]
          },
          "colorway": [
           "#636efa",
           "#EF553B",
           "#00cc96",
           "#ab63fa",
           "#FFA15A",
           "#19d3f3",
           "#FF6692",
           "#B6E880",
           "#FF97FF",
           "#FECB52"
          ],
          "font": {
           "color": "#2a3f5f"
          },
          "geo": {
           "bgcolor": "white",
           "lakecolor": "white",
           "landcolor": "#E5ECF6",
           "showlakes": true,
           "showland": true,
           "subunitcolor": "white"
          },
          "hoverlabel": {
           "align": "left"
          },
          "hovermode": "closest",
          "mapbox": {
           "style": "light"
          },
          "paper_bgcolor": "white",
          "plot_bgcolor": "#E5ECF6",
          "polar": {
           "angularaxis": {
            "gridcolor": "white",
            "linecolor": "white",
            "ticks": ""
           },
           "bgcolor": "#E5ECF6",
           "radialaxis": {
            "gridcolor": "white",
            "linecolor": "white",
            "ticks": ""
           }
          },
          "scene": {
           "xaxis": {
            "backgroundcolor": "#E5ECF6",
            "gridcolor": "white",
            "gridwidth": 2,
            "linecolor": "white",
            "showbackground": true,
            "ticks": "",
            "zerolinecolor": "white"
           },
           "yaxis": {
            "backgroundcolor": "#E5ECF6",
            "gridcolor": "white",
            "gridwidth": 2,
            "linecolor": "white",
            "showbackground": true,
            "ticks": "",
            "zerolinecolor": "white"
           },
           "zaxis": {
            "backgroundcolor": "#E5ECF6",
            "gridcolor": "white",
            "gridwidth": 2,
            "linecolor": "white",
            "showbackground": true,
            "ticks": "",
            "zerolinecolor": "white"
           }
          },
          "shapedefaults": {
           "line": {
            "color": "#2a3f5f"
           }
          },
          "ternary": {
           "aaxis": {
            "gridcolor": "white",
            "linecolor": "white",
            "ticks": ""
           },
           "baxis": {
            "gridcolor": "white",
            "linecolor": "white",
            "ticks": ""
           },
           "bgcolor": "#E5ECF6",
           "caxis": {
            "gridcolor": "white",
            "linecolor": "white",
            "ticks": ""
           }
          },
          "title": {
           "x": 0.05
          },
          "xaxis": {
           "automargin": true,
           "gridcolor": "white",
           "linecolor": "white",
           "ticks": "",
           "title": {
            "standoff": 15
           },
           "zerolinecolor": "white",
           "zerolinewidth": 2
          },
          "yaxis": {
           "automargin": true,
           "gridcolor": "white",
           "linecolor": "white",
           "ticks": "",
           "title": {
            "standoff": 15
           },
           "zerolinecolor": "white",
           "zerolinewidth": 2
          }
         }
        },
        "title": {
         "text": "Channels per layer - shufflenetv1_1_96_c3_o3_000"
        },
        "xaxis": {
         "anchor": "y",
         "domain": [
          0,
          1
         ],
         "title": {
          "text": "name"
         }
        },
        "yaxis": {
         "anchor": "x",
         "domain": [
          0,
          1
         ],
         "title": {
          "text": "c_i_1"
         }
        }
       }
      },
      "text/html": [
       "<div>                            <div id=\"1b4bd970-5ad4-4ce2-beb5-c3b14fcbce9a\" class=\"plotly-graph-div\" style=\"height:525px; width:100%;\"></div>            <script type=\"text/javascript\">                require([\"plotly\"], function(Plotly) {                    window.PLOTLYENV=window.PLOTLYENV || {};                                    if (document.getElementById(\"1b4bd970-5ad4-4ce2-beb5-c3b14fcbce9a\")) {                    Plotly.newPlot(                        \"1b4bd970-5ad4-4ce2-beb5-c3b14fcbce9a\",                        [{\"alignmentgroup\":\"True\",\"hovertemplate\":\"name=%{x}<br>c_i_1=%{y}<extra></extra>\",\"legendgroup\":\"\",\"marker\":{\"color\":\"#636efa\",\"pattern\":{\"shape\":\"\"}},\"name\":\"\",\"offsetgroup\":\"\",\"orientation\":\"v\",\"showlegend\":false,\"textposition\":\"auto\",\"texttemplate\":\"%{y:.2s}\",\"x\":[\"input_2\",\"conv2d_33\",\"batch_normalization_49\",\"re_lu_33\",\"max_pooling2d_1\",\"conv2d_34\",\"batch_normalization_50\",\"re_lu_34\",\"reshape_32\",\"permute_16\",\"reshape_33\",\"depthwise_conv2d_16\",\"batch_normalization_51\",\"conv2d_35\",\"batch_normalization_52\",\"average_pooling2d_3\",\"concatenate_3\",\"re_lu_35\",\"conv2d_36\",\"batch_normalization_53\",\"re_lu_36\",\"reshape_34\",\"permute_17\",\"reshape_35\",\"depthwise_conv2d_17\",\"batch_normalization_54\",\"conv2d_37\",\"batch_normalization_55\",\"add_13\",\"re_lu_37\",\"conv2d_38\",\"batch_normalization_56\",\"re_lu_38\",\"reshape_36\",\"permute_18\",\"reshape_37\",\"depthwise_conv2d_18\",\"batch_normalization_57\",\"conv2d_39\",\"batch_normalization_58\",\"add_14\",\"re_lu_39\",\"conv2d_40\",\"batch_normalization_59\",\"re_lu_40\",\"reshape_38\",\"permute_19\",\"reshape_39\",\"depthwise_conv2d_19\",\"batch_normalization_60\",\"conv2d_41\",\"batch_normalization_61\",\"add_15\",\"re_lu_41\",\"conv2d_42\",\"batch_normalization_62\",\"re_lu_42\",\"reshape_40\",\"permute_20\",\"reshape_41\",\"depthwise_conv2d_20\",\"batch_normalization_63\",\"conv2d_43\",\"batch_normalization_64\",\"average_pooling2d_4\",\"concatenate_4\",\"re_lu_43\",\"conv2d_44\",\"batch_normalization_65\",\"re_lu_44\",\"reshape_42\",\"permute_21\",\"reshape_43\",\"depthwise_conv2d_21\",\"batch_normalization_66\",\"conv2d_45\",\"batch_normalization_67\",\"add_16\",\"re_lu_45\",\"conv2d_46\",\"batch_normalization_68\",\"re_lu_46\",\"reshape_44\",\"permute_22\",\"reshape_45\",\"depthwise_conv2d_22\",\"batch_normalization_69\",\"conv2d_47\",\"batch_normalization_70\",\"add_17\",\"re_lu_47\",\"conv2d_48\",\"batch_normalization_71\",\"re_lu_48\",\"reshape_46\",\"permute_23\",\"reshape_47\",\"depthwise_conv2d_23\",\"batch_normalization_72\",\"conv2d_49\",\"batch_normalization_73\",\"add_18\",\"re_lu_49\",\"conv2d_50\",\"batch_normalization_74\",\"re_lu_50\",\"reshape_48\",\"permute_24\",\"reshape_49\",\"depthwise_conv2d_24\",\"batch_normalization_75\",\"conv2d_51\",\"batch_normalization_76\",\"add_19\",\"re_lu_51\",\"conv2d_52\",\"batch_normalization_77\",\"re_lu_52\",\"reshape_50\",\"permute_25\",\"reshape_51\",\"depthwise_conv2d_25\",\"batch_normalization_78\",\"conv2d_53\",\"batch_normalization_79\",\"add_20\",\"re_lu_53\",\"conv2d_54\",\"batch_normalization_80\",\"re_lu_54\",\"reshape_52\",\"permute_26\",\"reshape_53\",\"depthwise_conv2d_26\",\"batch_normalization_81\",\"conv2d_55\",\"batch_normalization_82\",\"add_21\",\"re_lu_55\",\"conv2d_56\",\"batch_normalization_83\",\"re_lu_56\",\"reshape_54\",\"permute_27\",\"reshape_55\",\"depthwise_conv2d_27\",\"batch_normalization_84\",\"conv2d_57\",\"batch_normalization_85\",\"add_22\",\"re_lu_57\",\"conv2d_58\",\"batch_normalization_86\",\"re_lu_58\",\"reshape_56\",\"permute_28\",\"reshape_57\",\"depthwise_conv2d_28\",\"batch_normalization_87\",\"conv2d_59\",\"batch_normalization_88\",\"average_pooling2d_5\",\"concatenate_5\",\"re_lu_59\",\"conv2d_60\",\"batch_normalization_89\",\"re_lu_60\",\"reshape_58\",\"permute_29\",\"reshape_59\",\"depthwise_conv2d_29\",\"batch_normalization_90\",\"conv2d_61\",\"batch_normalization_91\",\"add_23\",\"re_lu_61\",\"conv2d_62\",\"batch_normalization_92\",\"re_lu_62\",\"reshape_60\",\"permute_30\",\"reshape_61\",\"depthwise_conv2d_30\",\"batch_normalization_93\",\"conv2d_63\",\"batch_normalization_94\",\"add_24\",\"re_lu_63\",\"conv2d_64\",\"batch_normalization_95\",\"re_lu_64\",\"reshape_62\",\"permute_31\",\"reshape_63\",\"depthwise_conv2d_31\",\"batch_normalization_96\",\"conv2d_65\",\"batch_normalization_97\",\"add_25\",\"re_lu_65\",\"global_average_pooling2d_1\",\"dense_1\"],\"xaxis\":\"x\",\"y\":[3,3,24,24,24,24,50,50,50,2,25,50,50,50,176,24,176,200,200,50,50,50,2,25,50,50,50,200,200,200,200,50,50,50,2,25,50,50,50,200,200,200,200,50,50,50,2,25,50,50,50,200,200,200,200,100,100,100,2,50,100,100,100,200,200,200,400,400,100,100,100,2,50,100,100,100,400,400,400,400,100,100,100,2,50,100,100,100,400,400,400,400,100,100,100,2,50,100,100,100,400,400,400,400,100,100,100,2,50,100,100,100,400,400,400,400,100,100,100,2,50,100,100,100,400,400,400,400,100,100,100,2,50,100,100,100,400,400,400,400,100,100,100,2,50,100,100,100,400,400,400,400,200,200,200,2,100,200,200,200,400,400,400,800,800,200,200,200,2,100,200,200,200,800,800,800,800,200,200,200,2,100,200,200,200,800,800,800,800,200,200,200,2,100,200,200,200,800,800,800,800,800],\"yaxis\":\"y\",\"type\":\"bar\"}],                        {\"template\":{\"data\":{\"histogram2dcontour\":[{\"type\":\"histogram2dcontour\",\"colorbar\":{\"outlinewidth\":0,\"ticks\":\"\"},\"colorscale\":[[0.0,\"#0d0887\"],[0.1111111111111111,\"#46039f\"],[0.2222222222222222,\"#7201a8\"],[0.3333333333333333,\"#9c179e\"],[0.4444444444444444,\"#bd3786\"],[0.5555555555555556,\"#d8576b\"],[0.6666666666666666,\"#ed7953\"],[0.7777777777777778,\"#fb9f3a\"],[0.8888888888888888,\"#fdca26\"],[1.0,\"#f0f921\"]]}],\"choropleth\":[{\"type\":\"choropleth\",\"colorbar\":{\"outlinewidth\":0,\"ticks\":\"\"}}],\"histogram2d\":[{\"type\":\"histogram2d\",\"colorbar\":{\"outlinewidth\":0,\"ticks\":\"\"},\"colorscale\":[[0.0,\"#0d0887\"],[0.1111111111111111,\"#46039f\"],[0.2222222222222222,\"#7201a8\"],[0.3333333333333333,\"#9c179e\"],[0.4444444444444444,\"#bd3786\"],[0.5555555555555556,\"#d8576b\"],[0.6666666666666666,\"#ed7953\"],[0.7777777777777778,\"#fb9f3a\"],[0.8888888888888888,\"#fdca26\"],[1.0,\"#f0f921\"]]}],\"heatmap\":[{\"type\":\"heatmap\",\"colorbar\":{\"outlinewidth\":0,\"ticks\":\"\"},\"colorscale\":[[0.0,\"#0d0887\"],[0.1111111111111111,\"#46039f\"],[0.2222222222222222,\"#7201a8\"],[0.3333333333333333,\"#9c179e\"],[0.4444444444444444,\"#bd3786\"],[0.5555555555555556,\"#d8576b\"],[0.6666666666666666,\"#ed7953\"],[0.7777777777777778,\"#fb9f3a\"],[0.8888888888888888,\"#fdca26\"],[1.0,\"#f0f921\"]]}],\"heatmapgl\":[{\"type\":\"heatmapgl\",\"colorbar\":{\"outlinewidth\":0,\"ticks\":\"\"},\"colorscale\":[[0.0,\"#0d0887\"],[0.1111111111111111,\"#46039f\"],[0.2222222222222222,\"#7201a8\"],[0.3333333333333333,\"#9c179e\"],[0.4444444444444444,\"#bd3786\"],[0.5555555555555556,\"#d8576b\"],[0.6666666666666666,\"#ed7953\"],[0.7777777777777778,\"#fb9f3a\"],[0.8888888888888888,\"#fdca26\"],[1.0,\"#f0f921\"]]}],\"contourcarpet\":[{\"type\":\"contourcarpet\",\"colorbar\":{\"outlinewidth\":0,\"ticks\":\"\"}}],\"contour\":[{\"type\":\"contour\",\"colorbar\":{\"outlinewidth\":0,\"ticks\":\"\"},\"colorscale\":[[0.0,\"#0d0887\"],[0.1111111111111111,\"#46039f\"],[0.2222222222222222,\"#7201a8\"],[0.3333333333333333,\"#9c179e\"],[0.4444444444444444,\"#bd3786\"],[0.5555555555555556,\"#d8576b\"],[0.6666666666666666,\"#ed7953\"],[0.7777777777777778,\"#fb9f3a\"],[0.8888888888888888,\"#fdca26\"],[1.0,\"#f0f921\"]]}],\"surface\":[{\"type\":\"surface\",\"colorbar\":{\"outlinewidth\":0,\"ticks\":\"\"},\"colorscale\":[[0.0,\"#0d0887\"],[0.1111111111111111,\"#46039f\"],[0.2222222222222222,\"#7201a8\"],[0.3333333333333333,\"#9c179e\"],[0.4444444444444444,\"#bd3786\"],[0.5555555555555556,\"#d8576b\"],[0.6666666666666666,\"#ed7953\"],[0.7777777777777778,\"#fb9f3a\"],[0.8888888888888888,\"#fdca26\"],[1.0,\"#f0f921\"]]}],\"mesh3d\":[{\"type\":\"mesh3d\",\"colorbar\":{\"outlinewidth\":0,\"ticks\":\"\"}}],\"scatter\":[{\"fillpattern\":{\"fillmode\":\"overlay\",\"size\":10,\"solidity\":0.2},\"type\":\"scatter\"}],\"parcoords\":[{\"type\":\"parcoords\",\"line\":{\"colorbar\":{\"outlinewidth\":0,\"ticks\":\"\"}}}],\"scatterpolargl\":[{\"type\":\"scatterpolargl\",\"marker\":{\"colorbar\":{\"outlinewidth\":0,\"ticks\":\"\"}}}],\"bar\":[{\"error_x\":{\"color\":\"#2a3f5f\"},\"error_y\":{\"color\":\"#2a3f5f\"},\"marker\":{\"line\":{\"color\":\"#E5ECF6\",\"width\":0.5},\"pattern\":{\"fillmode\":\"overlay\",\"size\":10,\"solidity\":0.2}},\"type\":\"bar\"}],\"scattergeo\":[{\"type\":\"scattergeo\",\"marker\":{\"colorbar\":{\"outlinewidth\":0,\"ticks\":\"\"}}}],\"scatterpolar\":[{\"type\":\"scatterpolar\",\"marker\":{\"colorbar\":{\"outlinewidth\":0,\"ticks\":\"\"}}}],\"histogram\":[{\"marker\":{\"pattern\":{\"fillmode\":\"overlay\",\"size\":10,\"solidity\":0.2}},\"type\":\"histogram\"}],\"scattergl\":[{\"type\":\"scattergl\",\"marker\":{\"colorbar\":{\"outlinewidth\":0,\"ticks\":\"\"}}}],\"scatter3d\":[{\"type\":\"scatter3d\",\"line\":{\"colorbar\":{\"outlinewidth\":0,\"ticks\":\"\"}},\"marker\":{\"colorbar\":{\"outlinewidth\":0,\"ticks\":\"\"}}}],\"scattermapbox\":[{\"type\":\"scattermapbox\",\"marker\":{\"colorbar\":{\"outlinewidth\":0,\"ticks\":\"\"}}}],\"scatterternary\":[{\"type\":\"scatterternary\",\"marker\":{\"colorbar\":{\"outlinewidth\":0,\"ticks\":\"\"}}}],\"scattercarpet\":[{\"type\":\"scattercarpet\",\"marker\":{\"colorbar\":{\"outlinewidth\":0,\"ticks\":\"\"}}}],\"carpet\":[{\"aaxis\":{\"endlinecolor\":\"#2a3f5f\",\"gridcolor\":\"white\",\"linecolor\":\"white\",\"minorgridcolor\":\"white\",\"startlinecolor\":\"#2a3f5f\"},\"baxis\":{\"endlinecolor\":\"#2a3f5f\",\"gridcolor\":\"white\",\"linecolor\":\"white\",\"minorgridcolor\":\"white\",\"startlinecolor\":\"#2a3f5f\"},\"type\":\"carpet\"}],\"table\":[{\"cells\":{\"fill\":{\"color\":\"#EBF0F8\"},\"line\":{\"color\":\"white\"}},\"header\":{\"fill\":{\"color\":\"#C8D4E3\"},\"line\":{\"color\":\"white\"}},\"type\":\"table\"}],\"barpolar\":[{\"marker\":{\"line\":{\"color\":\"#E5ECF6\",\"width\":0.5},\"pattern\":{\"fillmode\":\"overlay\",\"size\":10,\"solidity\":0.2}},\"type\":\"barpolar\"}],\"pie\":[{\"automargin\":true,\"type\":\"pie\"}]},\"layout\":{\"autotypenumbers\":\"strict\",\"colorway\":[\"#636efa\",\"#EF553B\",\"#00cc96\",\"#ab63fa\",\"#FFA15A\",\"#19d3f3\",\"#FF6692\",\"#B6E880\",\"#FF97FF\",\"#FECB52\"],\"font\":{\"color\":\"#2a3f5f\"},\"hovermode\":\"closest\",\"hoverlabel\":{\"align\":\"left\"},\"paper_bgcolor\":\"white\",\"plot_bgcolor\":\"#E5ECF6\",\"polar\":{\"bgcolor\":\"#E5ECF6\",\"angularaxis\":{\"gridcolor\":\"white\",\"linecolor\":\"white\",\"ticks\":\"\"},\"radialaxis\":{\"gridcolor\":\"white\",\"linecolor\":\"white\",\"ticks\":\"\"}},\"ternary\":{\"bgcolor\":\"#E5ECF6\",\"aaxis\":{\"gridcolor\":\"white\",\"linecolor\":\"white\",\"ticks\":\"\"},\"baxis\":{\"gridcolor\":\"white\",\"linecolor\":\"white\",\"ticks\":\"\"},\"caxis\":{\"gridcolor\":\"white\",\"linecolor\":\"white\",\"ticks\":\"\"}},\"coloraxis\":{\"colorbar\":{\"outlinewidth\":0,\"ticks\":\"\"}},\"colorscale\":{\"sequential\":[[0.0,\"#0d0887\"],[0.1111111111111111,\"#46039f\"],[0.2222222222222222,\"#7201a8\"],[0.3333333333333333,\"#9c179e\"],[0.4444444444444444,\"#bd3786\"],[0.5555555555555556,\"#d8576b\"],[0.6666666666666666,\"#ed7953\"],[0.7777777777777778,\"#fb9f3a\"],[0.8888888888888888,\"#fdca26\"],[1.0,\"#f0f921\"]],\"sequentialminus\":[[0.0,\"#0d0887\"],[0.1111111111111111,\"#46039f\"],[0.2222222222222222,\"#7201a8\"],[0.3333333333333333,\"#9c179e\"],[0.4444444444444444,\"#bd3786\"],[0.5555555555555556,\"#d8576b\"],[0.6666666666666666,\"#ed7953\"],[0.7777777777777778,\"#fb9f3a\"],[0.8888888888888888,\"#fdca26\"],[1.0,\"#f0f921\"]],\"diverging\":[[0,\"#8e0152\"],[0.1,\"#c51b7d\"],[0.2,\"#de77ae\"],[0.3,\"#f1b6da\"],[0.4,\"#fde0ef\"],[0.5,\"#f7f7f7\"],[0.6,\"#e6f5d0\"],[0.7,\"#b8e186\"],[0.8,\"#7fbc41\"],[0.9,\"#4d9221\"],[1,\"#276419\"]]},\"xaxis\":{\"gridcolor\":\"white\",\"linecolor\":\"white\",\"ticks\":\"\",\"title\":{\"standoff\":15},\"zerolinecolor\":\"white\",\"automargin\":true,\"zerolinewidth\":2},\"yaxis\":{\"gridcolor\":\"white\",\"linecolor\":\"white\",\"ticks\":\"\",\"title\":{\"standoff\":15},\"zerolinecolor\":\"white\",\"automargin\":true,\"zerolinewidth\":2},\"scene\":{\"xaxis\":{\"backgroundcolor\":\"#E5ECF6\",\"gridcolor\":\"white\",\"linecolor\":\"white\",\"showbackground\":true,\"ticks\":\"\",\"zerolinecolor\":\"white\",\"gridwidth\":2},\"yaxis\":{\"backgroundcolor\":\"#E5ECF6\",\"gridcolor\":\"white\",\"linecolor\":\"white\",\"showbackground\":true,\"ticks\":\"\",\"zerolinecolor\":\"white\",\"gridwidth\":2},\"zaxis\":{\"backgroundcolor\":\"#E5ECF6\",\"gridcolor\":\"white\",\"linecolor\":\"white\",\"showbackground\":true,\"ticks\":\"\",\"zerolinecolor\":\"white\",\"gridwidth\":2}},\"shapedefaults\":{\"line\":{\"color\":\"#2a3f5f\"}},\"annotationdefaults\":{\"arrowcolor\":\"#2a3f5f\",\"arrowhead\":0,\"arrowwidth\":1},\"geo\":{\"bgcolor\":\"white\",\"landcolor\":\"#E5ECF6\",\"subunitcolor\":\"white\",\"showland\":true,\"showlakes\":true,\"lakecolor\":\"white\"},\"title\":{\"x\":0.05},\"mapbox\":{\"style\":\"light\"}}},\"xaxis\":{\"anchor\":\"y\",\"domain\":[0.0,1.0],\"title\":{\"text\":\"name\"}},\"yaxis\":{\"anchor\":\"x\",\"domain\":[0.0,1.0],\"title\":{\"text\":\"c_i_1\"}},\"legend\":{\"tracegroupgap\":0},\"title\":{\"text\":\"Channels per layer - shufflenetv1_1_96_c3_o3_000\"},\"barmode\":\"relative\"},                        {\"responsive\": true}                    ).then(function(){\n",
       "                            \n",
       "var gd = document.getElementById('1b4bd970-5ad4-4ce2-beb5-c3b14fcbce9a');\n",
       "var x = new MutationObserver(function (mutations, observer) {{\n",
       "        var display = window.getComputedStyle(gd).display;\n",
       "        if (!display || display === 'none') {{\n",
       "            console.log([gd, 'removed!']);\n",
       "            Plotly.purge(gd);\n",
       "            observer.disconnect();\n",
       "        }}\n",
       "}});\n",
       "\n",
       "// Listen for the removal of the full notebook cells\n",
       "var notebookContainer = gd.closest('#notebook-container');\n",
       "if (notebookContainer) {{\n",
       "    x.observe(notebookContainer, {childList: true});\n",
       "}}\n",
       "\n",
       "// Listen for the clearing of the current output cell\n",
       "var outputEl = gd.closest('.output');\n",
       "if (outputEl) {{\n",
       "    x.observe(outputEl, {childList: true});\n",
       "}}\n",
       "\n",
       "                        })                };                });            </script>        </div>"
      ]
     },
     "metadata": {},
     "output_type": "display_data"
    }
   ],
   "source": [
    "fig3 = px.bar(df, x=\"name\", y= \"c_i_1\", text_auto=\".2s\",\n",
    "    title=f\"Channels per layer - {model_name}\")\n",
    "#fig2.add_hline(y=256000, line_width=3, line_dash=\"dash\", line_color=\"orange\")\n",
    "#fig3.update_yaxes(autorange=\"reversed\")\n",
    "#fig3.update_yaxes(rangemode=\"tozero\")\n",
    "# fig3.update_yaxes(\n",
    "#     range=(0, 1280),\n",
    "#     constrain='domain'\n",
    "# )\n",
    "fig3.show()"
   ]
  },
  {
   "cell_type": "code",
   "execution_count": 76,
   "metadata": {},
   "outputs": [
    {
     "data": {
      "application/vnd.plotly.v1+json": {
       "config": {
        "plotlyServerURL": "https://plot.ly"
       },
       "data": [
        {
         "hovertemplate": "name=%{x}<br>total_params=%{y}<extra></extra>",
         "legendgroup": "",
         "line": {
          "color": "#636efa",
          "dash": "solid"
         },
         "marker": {
          "symbol": "circle"
         },
         "mode": "lines",
         "name": "",
         "orientation": "v",
         "showlegend": false,
         "type": "scatter",
         "x": [
          "input_2",
          "conv2d_33",
          "batch_normalization_49",
          "re_lu_33",
          "max_pooling2d_1",
          "conv2d_34",
          "batch_normalization_50",
          "re_lu_34",
          "reshape_32",
          "permute_16",
          "reshape_33",
          "depthwise_conv2d_16",
          "batch_normalization_51",
          "conv2d_35",
          "batch_normalization_52",
          "average_pooling2d_3",
          "concatenate_3",
          "re_lu_35",
          "conv2d_36",
          "batch_normalization_53",
          "re_lu_36",
          "reshape_34",
          "permute_17",
          "reshape_35",
          "depthwise_conv2d_17",
          "batch_normalization_54",
          "conv2d_37",
          "batch_normalization_55",
          "add_13",
          "re_lu_37",
          "conv2d_38",
          "batch_normalization_56",
          "re_lu_38",
          "reshape_36",
          "permute_18",
          "reshape_37",
          "depthwise_conv2d_18",
          "batch_normalization_57",
          "conv2d_39",
          "batch_normalization_58",
          "add_14",
          "re_lu_39",
          "conv2d_40",
          "batch_normalization_59",
          "re_lu_40",
          "reshape_38",
          "permute_19",
          "reshape_39",
          "depthwise_conv2d_19",
          "batch_normalization_60",
          "conv2d_41",
          "batch_normalization_61",
          "add_15",
          "re_lu_41",
          "conv2d_42",
          "batch_normalization_62",
          "re_lu_42",
          "reshape_40",
          "permute_20",
          "reshape_41",
          "depthwise_conv2d_20",
          "batch_normalization_63",
          "conv2d_43",
          "batch_normalization_64",
          "average_pooling2d_4",
          "concatenate_4",
          "re_lu_43",
          "conv2d_44",
          "batch_normalization_65",
          "re_lu_44",
          "reshape_42",
          "permute_21",
          "reshape_43",
          "depthwise_conv2d_21",
          "batch_normalization_66",
          "conv2d_45",
          "batch_normalization_67",
          "add_16",
          "re_lu_45",
          "conv2d_46",
          "batch_normalization_68",
          "re_lu_46",
          "reshape_44",
          "permute_22",
          "reshape_45",
          "depthwise_conv2d_22",
          "batch_normalization_69",
          "conv2d_47",
          "batch_normalization_70",
          "add_17",
          "re_lu_47",
          "conv2d_48",
          "batch_normalization_71",
          "re_lu_48",
          "reshape_46",
          "permute_23",
          "reshape_47",
          "depthwise_conv2d_23",
          "batch_normalization_72",
          "conv2d_49",
          "batch_normalization_73",
          "add_18",
          "re_lu_49",
          "conv2d_50",
          "batch_normalization_74",
          "re_lu_50",
          "reshape_48",
          "permute_24",
          "reshape_49",
          "depthwise_conv2d_24",
          "batch_normalization_75",
          "conv2d_51",
          "batch_normalization_76",
          "add_19",
          "re_lu_51",
          "conv2d_52",
          "batch_normalization_77",
          "re_lu_52",
          "reshape_50",
          "permute_25",
          "reshape_51",
          "depthwise_conv2d_25",
          "batch_normalization_78",
          "conv2d_53",
          "batch_normalization_79",
          "add_20",
          "re_lu_53",
          "conv2d_54",
          "batch_normalization_80",
          "re_lu_54",
          "reshape_52",
          "permute_26",
          "reshape_53",
          "depthwise_conv2d_26",
          "batch_normalization_81",
          "conv2d_55",
          "batch_normalization_82",
          "add_21",
          "re_lu_55",
          "conv2d_56",
          "batch_normalization_83",
          "re_lu_56",
          "reshape_54",
          "permute_27",
          "reshape_55",
          "depthwise_conv2d_27",
          "batch_normalization_84",
          "conv2d_57",
          "batch_normalization_85",
          "add_22",
          "re_lu_57",
          "conv2d_58",
          "batch_normalization_86",
          "re_lu_58",
          "reshape_56",
          "permute_28",
          "reshape_57",
          "depthwise_conv2d_28",
          "batch_normalization_87",
          "conv2d_59",
          "batch_normalization_88",
          "average_pooling2d_5",
          "concatenate_5",
          "re_lu_59",
          "conv2d_60",
          "batch_normalization_89",
          "re_lu_60",
          "reshape_58",
          "permute_29",
          "reshape_59",
          "depthwise_conv2d_29",
          "batch_normalization_90",
          "conv2d_61",
          "batch_normalization_91",
          "add_23",
          "re_lu_61",
          "conv2d_62",
          "batch_normalization_92",
          "re_lu_62",
          "reshape_60",
          "permute_30",
          "reshape_61",
          "depthwise_conv2d_30",
          "batch_normalization_93",
          "conv2d_63",
          "batch_normalization_94",
          "add_24",
          "re_lu_63",
          "conv2d_64",
          "batch_normalization_95",
          "re_lu_64",
          "reshape_62",
          "permute_31",
          "reshape_63",
          "depthwise_conv2d_31",
          "batch_normalization_96",
          "conv2d_65",
          "batch_normalization_97",
          "add_25",
          "re_lu_65",
          "global_average_pooling2d_1",
          "dense_1"
         ],
         "xaxis": "x",
         "y": [
          0,
          672,
          768,
          768,
          768,
          1418,
          1618,
          1618,
          1618,
          1618,
          1618,
          2118,
          2318,
          6894,
          7598,
          7598,
          7598,
          7598,
          12648,
          12848,
          12848,
          12848,
          12848,
          12848,
          13348,
          13548,
          18748,
          19548,
          19548,
          19548,
          24598,
          24798,
          24798,
          24798,
          24798,
          24798,
          25298,
          25498,
          30698,
          31498,
          31498,
          31498,
          36548,
          36748,
          36748,
          36748,
          36748,
          36748,
          37248,
          37448,
          42648,
          43448,
          43448,
          43448,
          53548,
          53948,
          53948,
          53948,
          53948,
          53948,
          54948,
          55348,
          65548,
          66348,
          66348,
          66348,
          66348,
          86448,
          86848,
          86848,
          86848,
          86848,
          86848,
          87848,
          88248,
          108648,
          110248,
          110248,
          110248,
          130348,
          130748,
          130748,
          130748,
          130748,
          130748,
          131748,
          132148,
          152548,
          154148,
          154148,
          154148,
          174248,
          174648,
          174648,
          174648,
          174648,
          174648,
          175648,
          176048,
          196448,
          198048,
          198048,
          198048,
          218148,
          218548,
          218548,
          218548,
          218548,
          218548,
          219548,
          219948,
          240348,
          241948,
          241948,
          241948,
          262048,
          262448,
          262448,
          262448,
          262448,
          262448,
          263448,
          263848,
          284248,
          285848,
          285848,
          285848,
          305948,
          306348,
          306348,
          306348,
          306348,
          306348,
          307348,
          307748,
          328148,
          329748,
          329748,
          329748,
          349848,
          350248,
          350248,
          350248,
          350248,
          350248,
          351248,
          351648,
          372048,
          373648,
          373648,
          373648,
          413848,
          414648,
          414648,
          414648,
          414648,
          414648,
          416648,
          417448,
          457848,
          459448,
          459448,
          459448,
          459448,
          539648,
          540448,
          540448,
          540448,
          540448,
          540448,
          542448,
          543248,
          624048,
          627248,
          627248,
          627248,
          707448,
          708248,
          708248,
          708248,
          708248,
          708248,
          710248,
          711048,
          791848,
          795048,
          795048,
          795048,
          875248,
          876048,
          876048,
          876048,
          876048,
          876048,
          878048,
          878848,
          959648,
          962848,
          962848,
          962848,
          962848,
          965251
         ],
         "yaxis": "y"
        }
       ],
       "layout": {
        "legend": {
         "tracegroupgap": 0
        },
        "template": {
         "data": {
          "bar": [
           {
            "error_x": {
             "color": "#2a3f5f"
            },
            "error_y": {
             "color": "#2a3f5f"
            },
            "marker": {
             "line": {
              "color": "#E5ECF6",
              "width": 0.5
             },
             "pattern": {
              "fillmode": "overlay",
              "size": 10,
              "solidity": 0.2
             }
            },
            "type": "bar"
           }
          ],
          "barpolar": [
           {
            "marker": {
             "line": {
              "color": "#E5ECF6",
              "width": 0.5
             },
             "pattern": {
              "fillmode": "overlay",
              "size": 10,
              "solidity": 0.2
             }
            },
            "type": "barpolar"
           }
          ],
          "carpet": [
           {
            "aaxis": {
             "endlinecolor": "#2a3f5f",
             "gridcolor": "white",
             "linecolor": "white",
             "minorgridcolor": "white",
             "startlinecolor": "#2a3f5f"
            },
            "baxis": {
             "endlinecolor": "#2a3f5f",
             "gridcolor": "white",
             "linecolor": "white",
             "minorgridcolor": "white",
             "startlinecolor": "#2a3f5f"
            },
            "type": "carpet"
           }
          ],
          "choropleth": [
           {
            "colorbar": {
             "outlinewidth": 0,
             "ticks": ""
            },
            "type": "choropleth"
           }
          ],
          "contour": [
           {
            "colorbar": {
             "outlinewidth": 0,
             "ticks": ""
            },
            "colorscale": [
             [
              0,
              "#0d0887"
             ],
             [
              0.1111111111111111,
              "#46039f"
             ],
             [
              0.2222222222222222,
              "#7201a8"
             ],
             [
              0.3333333333333333,
              "#9c179e"
             ],
             [
              0.4444444444444444,
              "#bd3786"
             ],
             [
              0.5555555555555556,
              "#d8576b"
             ],
             [
              0.6666666666666666,
              "#ed7953"
             ],
             [
              0.7777777777777778,
              "#fb9f3a"
             ],
             [
              0.8888888888888888,
              "#fdca26"
             ],
             [
              1,
              "#f0f921"
             ]
            ],
            "type": "contour"
           }
          ],
          "contourcarpet": [
           {
            "colorbar": {
             "outlinewidth": 0,
             "ticks": ""
            },
            "type": "contourcarpet"
           }
          ],
          "heatmap": [
           {
            "colorbar": {
             "outlinewidth": 0,
             "ticks": ""
            },
            "colorscale": [
             [
              0,
              "#0d0887"
             ],
             [
              0.1111111111111111,
              "#46039f"
             ],
             [
              0.2222222222222222,
              "#7201a8"
             ],
             [
              0.3333333333333333,
              "#9c179e"
             ],
             [
              0.4444444444444444,
              "#bd3786"
             ],
             [
              0.5555555555555556,
              "#d8576b"
             ],
             [
              0.6666666666666666,
              "#ed7953"
             ],
             [
              0.7777777777777778,
              "#fb9f3a"
             ],
             [
              0.8888888888888888,
              "#fdca26"
             ],
             [
              1,
              "#f0f921"
             ]
            ],
            "type": "heatmap"
           }
          ],
          "heatmapgl": [
           {
            "colorbar": {
             "outlinewidth": 0,
             "ticks": ""
            },
            "colorscale": [
             [
              0,
              "#0d0887"
             ],
             [
              0.1111111111111111,
              "#46039f"
             ],
             [
              0.2222222222222222,
              "#7201a8"
             ],
             [
              0.3333333333333333,
              "#9c179e"
             ],
             [
              0.4444444444444444,
              "#bd3786"
             ],
             [
              0.5555555555555556,
              "#d8576b"
             ],
             [
              0.6666666666666666,
              "#ed7953"
             ],
             [
              0.7777777777777778,
              "#fb9f3a"
             ],
             [
              0.8888888888888888,
              "#fdca26"
             ],
             [
              1,
              "#f0f921"
             ]
            ],
            "type": "heatmapgl"
           }
          ],
          "histogram": [
           {
            "marker": {
             "pattern": {
              "fillmode": "overlay",
              "size": 10,
              "solidity": 0.2
             }
            },
            "type": "histogram"
           }
          ],
          "histogram2d": [
           {
            "colorbar": {
             "outlinewidth": 0,
             "ticks": ""
            },
            "colorscale": [
             [
              0,
              "#0d0887"
             ],
             [
              0.1111111111111111,
              "#46039f"
             ],
             [
              0.2222222222222222,
              "#7201a8"
             ],
             [
              0.3333333333333333,
              "#9c179e"
             ],
             [
              0.4444444444444444,
              "#bd3786"
             ],
             [
              0.5555555555555556,
              "#d8576b"
             ],
             [
              0.6666666666666666,
              "#ed7953"
             ],
             [
              0.7777777777777778,
              "#fb9f3a"
             ],
             [
              0.8888888888888888,
              "#fdca26"
             ],
             [
              1,
              "#f0f921"
             ]
            ],
            "type": "histogram2d"
           }
          ],
          "histogram2dcontour": [
           {
            "colorbar": {
             "outlinewidth": 0,
             "ticks": ""
            },
            "colorscale": [
             [
              0,
              "#0d0887"
             ],
             [
              0.1111111111111111,
              "#46039f"
             ],
             [
              0.2222222222222222,
              "#7201a8"
             ],
             [
              0.3333333333333333,
              "#9c179e"
             ],
             [
              0.4444444444444444,
              "#bd3786"
             ],
             [
              0.5555555555555556,
              "#d8576b"
             ],
             [
              0.6666666666666666,
              "#ed7953"
             ],
             [
              0.7777777777777778,
              "#fb9f3a"
             ],
             [
              0.8888888888888888,
              "#fdca26"
             ],
             [
              1,
              "#f0f921"
             ]
            ],
            "type": "histogram2dcontour"
           }
          ],
          "mesh3d": [
           {
            "colorbar": {
             "outlinewidth": 0,
             "ticks": ""
            },
            "type": "mesh3d"
           }
          ],
          "parcoords": [
           {
            "line": {
             "colorbar": {
              "outlinewidth": 0,
              "ticks": ""
             }
            },
            "type": "parcoords"
           }
          ],
          "pie": [
           {
            "automargin": true,
            "type": "pie"
           }
          ],
          "scatter": [
           {
            "fillpattern": {
             "fillmode": "overlay",
             "size": 10,
             "solidity": 0.2
            },
            "type": "scatter"
           }
          ],
          "scatter3d": [
           {
            "line": {
             "colorbar": {
              "outlinewidth": 0,
              "ticks": ""
             }
            },
            "marker": {
             "colorbar": {
              "outlinewidth": 0,
              "ticks": ""
             }
            },
            "type": "scatter3d"
           }
          ],
          "scattercarpet": [
           {
            "marker": {
             "colorbar": {
              "outlinewidth": 0,
              "ticks": ""
             }
            },
            "type": "scattercarpet"
           }
          ],
          "scattergeo": [
           {
            "marker": {
             "colorbar": {
              "outlinewidth": 0,
              "ticks": ""
             }
            },
            "type": "scattergeo"
           }
          ],
          "scattergl": [
           {
            "marker": {
             "colorbar": {
              "outlinewidth": 0,
              "ticks": ""
             }
            },
            "type": "scattergl"
           }
          ],
          "scattermapbox": [
           {
            "marker": {
             "colorbar": {
              "outlinewidth": 0,
              "ticks": ""
             }
            },
            "type": "scattermapbox"
           }
          ],
          "scatterpolar": [
           {
            "marker": {
             "colorbar": {
              "outlinewidth": 0,
              "ticks": ""
             }
            },
            "type": "scatterpolar"
           }
          ],
          "scatterpolargl": [
           {
            "marker": {
             "colorbar": {
              "outlinewidth": 0,
              "ticks": ""
             }
            },
            "type": "scatterpolargl"
           }
          ],
          "scatterternary": [
           {
            "marker": {
             "colorbar": {
              "outlinewidth": 0,
              "ticks": ""
             }
            },
            "type": "scatterternary"
           }
          ],
          "surface": [
           {
            "colorbar": {
             "outlinewidth": 0,
             "ticks": ""
            },
            "colorscale": [
             [
              0,
              "#0d0887"
             ],
             [
              0.1111111111111111,
              "#46039f"
             ],
             [
              0.2222222222222222,
              "#7201a8"
             ],
             [
              0.3333333333333333,
              "#9c179e"
             ],
             [
              0.4444444444444444,
              "#bd3786"
             ],
             [
              0.5555555555555556,
              "#d8576b"
             ],
             [
              0.6666666666666666,
              "#ed7953"
             ],
             [
              0.7777777777777778,
              "#fb9f3a"
             ],
             [
              0.8888888888888888,
              "#fdca26"
             ],
             [
              1,
              "#f0f921"
             ]
            ],
            "type": "surface"
           }
          ],
          "table": [
           {
            "cells": {
             "fill": {
              "color": "#EBF0F8"
             },
             "line": {
              "color": "white"
             }
            },
            "header": {
             "fill": {
              "color": "#C8D4E3"
             },
             "line": {
              "color": "white"
             }
            },
            "type": "table"
           }
          ]
         },
         "layout": {
          "annotationdefaults": {
           "arrowcolor": "#2a3f5f",
           "arrowhead": 0,
           "arrowwidth": 1
          },
          "autotypenumbers": "strict",
          "coloraxis": {
           "colorbar": {
            "outlinewidth": 0,
            "ticks": ""
           }
          },
          "colorscale": {
           "diverging": [
            [
             0,
             "#8e0152"
            ],
            [
             0.1,
             "#c51b7d"
            ],
            [
             0.2,
             "#de77ae"
            ],
            [
             0.3,
             "#f1b6da"
            ],
            [
             0.4,
             "#fde0ef"
            ],
            [
             0.5,
             "#f7f7f7"
            ],
            [
             0.6,
             "#e6f5d0"
            ],
            [
             0.7,
             "#b8e186"
            ],
            [
             0.8,
             "#7fbc41"
            ],
            [
             0.9,
             "#4d9221"
            ],
            [
             1,
             "#276419"
            ]
           ],
           "sequential": [
            [
             0,
             "#0d0887"
            ],
            [
             0.1111111111111111,
             "#46039f"
            ],
            [
             0.2222222222222222,
             "#7201a8"
            ],
            [
             0.3333333333333333,
             "#9c179e"
            ],
            [
             0.4444444444444444,
             "#bd3786"
            ],
            [
             0.5555555555555556,
             "#d8576b"
            ],
            [
             0.6666666666666666,
             "#ed7953"
            ],
            [
             0.7777777777777778,
             "#fb9f3a"
            ],
            [
             0.8888888888888888,
             "#fdca26"
            ],
            [
             1,
             "#f0f921"
            ]
           ],
           "sequentialminus": [
            [
             0,
             "#0d0887"
            ],
            [
             0.1111111111111111,
             "#46039f"
            ],
            [
             0.2222222222222222,
             "#7201a8"
            ],
            [
             0.3333333333333333,
             "#9c179e"
            ],
            [
             0.4444444444444444,
             "#bd3786"
            ],
            [
             0.5555555555555556,
             "#d8576b"
            ],
            [
             0.6666666666666666,
             "#ed7953"
            ],
            [
             0.7777777777777778,
             "#fb9f3a"
            ],
            [
             0.8888888888888888,
             "#fdca26"
            ],
            [
             1,
             "#f0f921"
            ]
           ]
          },
          "colorway": [
           "#636efa",
           "#EF553B",
           "#00cc96",
           "#ab63fa",
           "#FFA15A",
           "#19d3f3",
           "#FF6692",
           "#B6E880",
           "#FF97FF",
           "#FECB52"
          ],
          "font": {
           "color": "#2a3f5f"
          },
          "geo": {
           "bgcolor": "white",
           "lakecolor": "white",
           "landcolor": "#E5ECF6",
           "showlakes": true,
           "showland": true,
           "subunitcolor": "white"
          },
          "hoverlabel": {
           "align": "left"
          },
          "hovermode": "closest",
          "mapbox": {
           "style": "light"
          },
          "paper_bgcolor": "white",
          "plot_bgcolor": "#E5ECF6",
          "polar": {
           "angularaxis": {
            "gridcolor": "white",
            "linecolor": "white",
            "ticks": ""
           },
           "bgcolor": "#E5ECF6",
           "radialaxis": {
            "gridcolor": "white",
            "linecolor": "white",
            "ticks": ""
           }
          },
          "scene": {
           "xaxis": {
            "backgroundcolor": "#E5ECF6",
            "gridcolor": "white",
            "gridwidth": 2,
            "linecolor": "white",
            "showbackground": true,
            "ticks": "",
            "zerolinecolor": "white"
           },
           "yaxis": {
            "backgroundcolor": "#E5ECF6",
            "gridcolor": "white",
            "gridwidth": 2,
            "linecolor": "white",
            "showbackground": true,
            "ticks": "",
            "zerolinecolor": "white"
           },
           "zaxis": {
            "backgroundcolor": "#E5ECF6",
            "gridcolor": "white",
            "gridwidth": 2,
            "linecolor": "white",
            "showbackground": true,
            "ticks": "",
            "zerolinecolor": "white"
           }
          },
          "shapedefaults": {
           "line": {
            "color": "#2a3f5f"
           }
          },
          "ternary": {
           "aaxis": {
            "gridcolor": "white",
            "linecolor": "white",
            "ticks": ""
           },
           "baxis": {
            "gridcolor": "white",
            "linecolor": "white",
            "ticks": ""
           },
           "bgcolor": "#E5ECF6",
           "caxis": {
            "gridcolor": "white",
            "linecolor": "white",
            "ticks": ""
           }
          },
          "title": {
           "x": 0.05
          },
          "xaxis": {
           "automargin": true,
           "gridcolor": "white",
           "linecolor": "white",
           "ticks": "",
           "title": {
            "standoff": 15
           },
           "zerolinecolor": "white",
           "zerolinewidth": 2
          },
          "yaxis": {
           "automargin": true,
           "gridcolor": "white",
           "linecolor": "white",
           "ticks": "",
           "title": {
            "standoff": 15
           },
           "zerolinecolor": "white",
           "zerolinewidth": 2
          }
         }
        },
        "title": {
         "text": "Cumulative parameters per layer - shufflenetv1_1_96_c3_o3_000"
        },
        "xaxis": {
         "anchor": "y",
         "domain": [
          0,
          1
         ],
         "title": {
          "text": "name"
         }
        },
        "yaxis": {
         "anchor": "x",
         "domain": [
          0,
          1
         ],
         "title": {
          "text": "total_params"
         }
        }
       }
      },
      "text/html": [
       "<div>                            <div id=\"b1c4f7c2-8ad3-4b07-927e-003cc9a854b3\" class=\"plotly-graph-div\" style=\"height:525px; width:100%;\"></div>            <script type=\"text/javascript\">                require([\"plotly\"], function(Plotly) {                    window.PLOTLYENV=window.PLOTLYENV || {};                                    if (document.getElementById(\"b1c4f7c2-8ad3-4b07-927e-003cc9a854b3\")) {                    Plotly.newPlot(                        \"b1c4f7c2-8ad3-4b07-927e-003cc9a854b3\",                        [{\"hovertemplate\":\"name=%{x}<br>total_params=%{y}<extra></extra>\",\"legendgroup\":\"\",\"line\":{\"color\":\"#636efa\",\"dash\":\"solid\"},\"marker\":{\"symbol\":\"circle\"},\"mode\":\"lines\",\"name\":\"\",\"orientation\":\"v\",\"showlegend\":false,\"x\":[\"input_2\",\"conv2d_33\",\"batch_normalization_49\",\"re_lu_33\",\"max_pooling2d_1\",\"conv2d_34\",\"batch_normalization_50\",\"re_lu_34\",\"reshape_32\",\"permute_16\",\"reshape_33\",\"depthwise_conv2d_16\",\"batch_normalization_51\",\"conv2d_35\",\"batch_normalization_52\",\"average_pooling2d_3\",\"concatenate_3\",\"re_lu_35\",\"conv2d_36\",\"batch_normalization_53\",\"re_lu_36\",\"reshape_34\",\"permute_17\",\"reshape_35\",\"depthwise_conv2d_17\",\"batch_normalization_54\",\"conv2d_37\",\"batch_normalization_55\",\"add_13\",\"re_lu_37\",\"conv2d_38\",\"batch_normalization_56\",\"re_lu_38\",\"reshape_36\",\"permute_18\",\"reshape_37\",\"depthwise_conv2d_18\",\"batch_normalization_57\",\"conv2d_39\",\"batch_normalization_58\",\"add_14\",\"re_lu_39\",\"conv2d_40\",\"batch_normalization_59\",\"re_lu_40\",\"reshape_38\",\"permute_19\",\"reshape_39\",\"depthwise_conv2d_19\",\"batch_normalization_60\",\"conv2d_41\",\"batch_normalization_61\",\"add_15\",\"re_lu_41\",\"conv2d_42\",\"batch_normalization_62\",\"re_lu_42\",\"reshape_40\",\"permute_20\",\"reshape_41\",\"depthwise_conv2d_20\",\"batch_normalization_63\",\"conv2d_43\",\"batch_normalization_64\",\"average_pooling2d_4\",\"concatenate_4\",\"re_lu_43\",\"conv2d_44\",\"batch_normalization_65\",\"re_lu_44\",\"reshape_42\",\"permute_21\",\"reshape_43\",\"depthwise_conv2d_21\",\"batch_normalization_66\",\"conv2d_45\",\"batch_normalization_67\",\"add_16\",\"re_lu_45\",\"conv2d_46\",\"batch_normalization_68\",\"re_lu_46\",\"reshape_44\",\"permute_22\",\"reshape_45\",\"depthwise_conv2d_22\",\"batch_normalization_69\",\"conv2d_47\",\"batch_normalization_70\",\"add_17\",\"re_lu_47\",\"conv2d_48\",\"batch_normalization_71\",\"re_lu_48\",\"reshape_46\",\"permute_23\",\"reshape_47\",\"depthwise_conv2d_23\",\"batch_normalization_72\",\"conv2d_49\",\"batch_normalization_73\",\"add_18\",\"re_lu_49\",\"conv2d_50\",\"batch_normalization_74\",\"re_lu_50\",\"reshape_48\",\"permute_24\",\"reshape_49\",\"depthwise_conv2d_24\",\"batch_normalization_75\",\"conv2d_51\",\"batch_normalization_76\",\"add_19\",\"re_lu_51\",\"conv2d_52\",\"batch_normalization_77\",\"re_lu_52\",\"reshape_50\",\"permute_25\",\"reshape_51\",\"depthwise_conv2d_25\",\"batch_normalization_78\",\"conv2d_53\",\"batch_normalization_79\",\"add_20\",\"re_lu_53\",\"conv2d_54\",\"batch_normalization_80\",\"re_lu_54\",\"reshape_52\",\"permute_26\",\"reshape_53\",\"depthwise_conv2d_26\",\"batch_normalization_81\",\"conv2d_55\",\"batch_normalization_82\",\"add_21\",\"re_lu_55\",\"conv2d_56\",\"batch_normalization_83\",\"re_lu_56\",\"reshape_54\",\"permute_27\",\"reshape_55\",\"depthwise_conv2d_27\",\"batch_normalization_84\",\"conv2d_57\",\"batch_normalization_85\",\"add_22\",\"re_lu_57\",\"conv2d_58\",\"batch_normalization_86\",\"re_lu_58\",\"reshape_56\",\"permute_28\",\"reshape_57\",\"depthwise_conv2d_28\",\"batch_normalization_87\",\"conv2d_59\",\"batch_normalization_88\",\"average_pooling2d_5\",\"concatenate_5\",\"re_lu_59\",\"conv2d_60\",\"batch_normalization_89\",\"re_lu_60\",\"reshape_58\",\"permute_29\",\"reshape_59\",\"depthwise_conv2d_29\",\"batch_normalization_90\",\"conv2d_61\",\"batch_normalization_91\",\"add_23\",\"re_lu_61\",\"conv2d_62\",\"batch_normalization_92\",\"re_lu_62\",\"reshape_60\",\"permute_30\",\"reshape_61\",\"depthwise_conv2d_30\",\"batch_normalization_93\",\"conv2d_63\",\"batch_normalization_94\",\"add_24\",\"re_lu_63\",\"conv2d_64\",\"batch_normalization_95\",\"re_lu_64\",\"reshape_62\",\"permute_31\",\"reshape_63\",\"depthwise_conv2d_31\",\"batch_normalization_96\",\"conv2d_65\",\"batch_normalization_97\",\"add_25\",\"re_lu_65\",\"global_average_pooling2d_1\",\"dense_1\"],\"xaxis\":\"x\",\"y\":[0,672,768,768,768,1418,1618,1618,1618,1618,1618,2118,2318,6894,7598,7598,7598,7598,12648,12848,12848,12848,12848,12848,13348,13548,18748,19548,19548,19548,24598,24798,24798,24798,24798,24798,25298,25498,30698,31498,31498,31498,36548,36748,36748,36748,36748,36748,37248,37448,42648,43448,43448,43448,53548,53948,53948,53948,53948,53948,54948,55348,65548,66348,66348,66348,66348,86448,86848,86848,86848,86848,86848,87848,88248,108648,110248,110248,110248,130348,130748,130748,130748,130748,130748,131748,132148,152548,154148,154148,154148,174248,174648,174648,174648,174648,174648,175648,176048,196448,198048,198048,198048,218148,218548,218548,218548,218548,218548,219548,219948,240348,241948,241948,241948,262048,262448,262448,262448,262448,262448,263448,263848,284248,285848,285848,285848,305948,306348,306348,306348,306348,306348,307348,307748,328148,329748,329748,329748,349848,350248,350248,350248,350248,350248,351248,351648,372048,373648,373648,373648,413848,414648,414648,414648,414648,414648,416648,417448,457848,459448,459448,459448,459448,539648,540448,540448,540448,540448,540448,542448,543248,624048,627248,627248,627248,707448,708248,708248,708248,708248,708248,710248,711048,791848,795048,795048,795048,875248,876048,876048,876048,876048,876048,878048,878848,959648,962848,962848,962848,962848,965251],\"yaxis\":\"y\",\"type\":\"scatter\"}],                        {\"template\":{\"data\":{\"histogram2dcontour\":[{\"type\":\"histogram2dcontour\",\"colorbar\":{\"outlinewidth\":0,\"ticks\":\"\"},\"colorscale\":[[0.0,\"#0d0887\"],[0.1111111111111111,\"#46039f\"],[0.2222222222222222,\"#7201a8\"],[0.3333333333333333,\"#9c179e\"],[0.4444444444444444,\"#bd3786\"],[0.5555555555555556,\"#d8576b\"],[0.6666666666666666,\"#ed7953\"],[0.7777777777777778,\"#fb9f3a\"],[0.8888888888888888,\"#fdca26\"],[1.0,\"#f0f921\"]]}],\"choropleth\":[{\"type\":\"choropleth\",\"colorbar\":{\"outlinewidth\":0,\"ticks\":\"\"}}],\"histogram2d\":[{\"type\":\"histogram2d\",\"colorbar\":{\"outlinewidth\":0,\"ticks\":\"\"},\"colorscale\":[[0.0,\"#0d0887\"],[0.1111111111111111,\"#46039f\"],[0.2222222222222222,\"#7201a8\"],[0.3333333333333333,\"#9c179e\"],[0.4444444444444444,\"#bd3786\"],[0.5555555555555556,\"#d8576b\"],[0.6666666666666666,\"#ed7953\"],[0.7777777777777778,\"#fb9f3a\"],[0.8888888888888888,\"#fdca26\"],[1.0,\"#f0f921\"]]}],\"heatmap\":[{\"type\":\"heatmap\",\"colorbar\":{\"outlinewidth\":0,\"ticks\":\"\"},\"colorscale\":[[0.0,\"#0d0887\"],[0.1111111111111111,\"#46039f\"],[0.2222222222222222,\"#7201a8\"],[0.3333333333333333,\"#9c179e\"],[0.4444444444444444,\"#bd3786\"],[0.5555555555555556,\"#d8576b\"],[0.6666666666666666,\"#ed7953\"],[0.7777777777777778,\"#fb9f3a\"],[0.8888888888888888,\"#fdca26\"],[1.0,\"#f0f921\"]]}],\"heatmapgl\":[{\"type\":\"heatmapgl\",\"colorbar\":{\"outlinewidth\":0,\"ticks\":\"\"},\"colorscale\":[[0.0,\"#0d0887\"],[0.1111111111111111,\"#46039f\"],[0.2222222222222222,\"#7201a8\"],[0.3333333333333333,\"#9c179e\"],[0.4444444444444444,\"#bd3786\"],[0.5555555555555556,\"#d8576b\"],[0.6666666666666666,\"#ed7953\"],[0.7777777777777778,\"#fb9f3a\"],[0.8888888888888888,\"#fdca26\"],[1.0,\"#f0f921\"]]}],\"contourcarpet\":[{\"type\":\"contourcarpet\",\"colorbar\":{\"outlinewidth\":0,\"ticks\":\"\"}}],\"contour\":[{\"type\":\"contour\",\"colorbar\":{\"outlinewidth\":0,\"ticks\":\"\"},\"colorscale\":[[0.0,\"#0d0887\"],[0.1111111111111111,\"#46039f\"],[0.2222222222222222,\"#7201a8\"],[0.3333333333333333,\"#9c179e\"],[0.4444444444444444,\"#bd3786\"],[0.5555555555555556,\"#d8576b\"],[0.6666666666666666,\"#ed7953\"],[0.7777777777777778,\"#fb9f3a\"],[0.8888888888888888,\"#fdca26\"],[1.0,\"#f0f921\"]]}],\"surface\":[{\"type\":\"surface\",\"colorbar\":{\"outlinewidth\":0,\"ticks\":\"\"},\"colorscale\":[[0.0,\"#0d0887\"],[0.1111111111111111,\"#46039f\"],[0.2222222222222222,\"#7201a8\"],[0.3333333333333333,\"#9c179e\"],[0.4444444444444444,\"#bd3786\"],[0.5555555555555556,\"#d8576b\"],[0.6666666666666666,\"#ed7953\"],[0.7777777777777778,\"#fb9f3a\"],[0.8888888888888888,\"#fdca26\"],[1.0,\"#f0f921\"]]}],\"mesh3d\":[{\"type\":\"mesh3d\",\"colorbar\":{\"outlinewidth\":0,\"ticks\":\"\"}}],\"scatter\":[{\"fillpattern\":{\"fillmode\":\"overlay\",\"size\":10,\"solidity\":0.2},\"type\":\"scatter\"}],\"parcoords\":[{\"type\":\"parcoords\",\"line\":{\"colorbar\":{\"outlinewidth\":0,\"ticks\":\"\"}}}],\"scatterpolargl\":[{\"type\":\"scatterpolargl\",\"marker\":{\"colorbar\":{\"outlinewidth\":0,\"ticks\":\"\"}}}],\"bar\":[{\"error_x\":{\"color\":\"#2a3f5f\"},\"error_y\":{\"color\":\"#2a3f5f\"},\"marker\":{\"line\":{\"color\":\"#E5ECF6\",\"width\":0.5},\"pattern\":{\"fillmode\":\"overlay\",\"size\":10,\"solidity\":0.2}},\"type\":\"bar\"}],\"scattergeo\":[{\"type\":\"scattergeo\",\"marker\":{\"colorbar\":{\"outlinewidth\":0,\"ticks\":\"\"}}}],\"scatterpolar\":[{\"type\":\"scatterpolar\",\"marker\":{\"colorbar\":{\"outlinewidth\":0,\"ticks\":\"\"}}}],\"histogram\":[{\"marker\":{\"pattern\":{\"fillmode\":\"overlay\",\"size\":10,\"solidity\":0.2}},\"type\":\"histogram\"}],\"scattergl\":[{\"type\":\"scattergl\",\"marker\":{\"colorbar\":{\"outlinewidth\":0,\"ticks\":\"\"}}}],\"scatter3d\":[{\"type\":\"scatter3d\",\"line\":{\"colorbar\":{\"outlinewidth\":0,\"ticks\":\"\"}},\"marker\":{\"colorbar\":{\"outlinewidth\":0,\"ticks\":\"\"}}}],\"scattermapbox\":[{\"type\":\"scattermapbox\",\"marker\":{\"colorbar\":{\"outlinewidth\":0,\"ticks\":\"\"}}}],\"scatterternary\":[{\"type\":\"scatterternary\",\"marker\":{\"colorbar\":{\"outlinewidth\":0,\"ticks\":\"\"}}}],\"scattercarpet\":[{\"type\":\"scattercarpet\",\"marker\":{\"colorbar\":{\"outlinewidth\":0,\"ticks\":\"\"}}}],\"carpet\":[{\"aaxis\":{\"endlinecolor\":\"#2a3f5f\",\"gridcolor\":\"white\",\"linecolor\":\"white\",\"minorgridcolor\":\"white\",\"startlinecolor\":\"#2a3f5f\"},\"baxis\":{\"endlinecolor\":\"#2a3f5f\",\"gridcolor\":\"white\",\"linecolor\":\"white\",\"minorgridcolor\":\"white\",\"startlinecolor\":\"#2a3f5f\"},\"type\":\"carpet\"}],\"table\":[{\"cells\":{\"fill\":{\"color\":\"#EBF0F8\"},\"line\":{\"color\":\"white\"}},\"header\":{\"fill\":{\"color\":\"#C8D4E3\"},\"line\":{\"color\":\"white\"}},\"type\":\"table\"}],\"barpolar\":[{\"marker\":{\"line\":{\"color\":\"#E5ECF6\",\"width\":0.5},\"pattern\":{\"fillmode\":\"overlay\",\"size\":10,\"solidity\":0.2}},\"type\":\"barpolar\"}],\"pie\":[{\"automargin\":true,\"type\":\"pie\"}]},\"layout\":{\"autotypenumbers\":\"strict\",\"colorway\":[\"#636efa\",\"#EF553B\",\"#00cc96\",\"#ab63fa\",\"#FFA15A\",\"#19d3f3\",\"#FF6692\",\"#B6E880\",\"#FF97FF\",\"#FECB52\"],\"font\":{\"color\":\"#2a3f5f\"},\"hovermode\":\"closest\",\"hoverlabel\":{\"align\":\"left\"},\"paper_bgcolor\":\"white\",\"plot_bgcolor\":\"#E5ECF6\",\"polar\":{\"bgcolor\":\"#E5ECF6\",\"angularaxis\":{\"gridcolor\":\"white\",\"linecolor\":\"white\",\"ticks\":\"\"},\"radialaxis\":{\"gridcolor\":\"white\",\"linecolor\":\"white\",\"ticks\":\"\"}},\"ternary\":{\"bgcolor\":\"#E5ECF6\",\"aaxis\":{\"gridcolor\":\"white\",\"linecolor\":\"white\",\"ticks\":\"\"},\"baxis\":{\"gridcolor\":\"white\",\"linecolor\":\"white\",\"ticks\":\"\"},\"caxis\":{\"gridcolor\":\"white\",\"linecolor\":\"white\",\"ticks\":\"\"}},\"coloraxis\":{\"colorbar\":{\"outlinewidth\":0,\"ticks\":\"\"}},\"colorscale\":{\"sequential\":[[0.0,\"#0d0887\"],[0.1111111111111111,\"#46039f\"],[0.2222222222222222,\"#7201a8\"],[0.3333333333333333,\"#9c179e\"],[0.4444444444444444,\"#bd3786\"],[0.5555555555555556,\"#d8576b\"],[0.6666666666666666,\"#ed7953\"],[0.7777777777777778,\"#fb9f3a\"],[0.8888888888888888,\"#fdca26\"],[1.0,\"#f0f921\"]],\"sequentialminus\":[[0.0,\"#0d0887\"],[0.1111111111111111,\"#46039f\"],[0.2222222222222222,\"#7201a8\"],[0.3333333333333333,\"#9c179e\"],[0.4444444444444444,\"#bd3786\"],[0.5555555555555556,\"#d8576b\"],[0.6666666666666666,\"#ed7953\"],[0.7777777777777778,\"#fb9f3a\"],[0.8888888888888888,\"#fdca26\"],[1.0,\"#f0f921\"]],\"diverging\":[[0,\"#8e0152\"],[0.1,\"#c51b7d\"],[0.2,\"#de77ae\"],[0.3,\"#f1b6da\"],[0.4,\"#fde0ef\"],[0.5,\"#f7f7f7\"],[0.6,\"#e6f5d0\"],[0.7,\"#b8e186\"],[0.8,\"#7fbc41\"],[0.9,\"#4d9221\"],[1,\"#276419\"]]},\"xaxis\":{\"gridcolor\":\"white\",\"linecolor\":\"white\",\"ticks\":\"\",\"title\":{\"standoff\":15},\"zerolinecolor\":\"white\",\"automargin\":true,\"zerolinewidth\":2},\"yaxis\":{\"gridcolor\":\"white\",\"linecolor\":\"white\",\"ticks\":\"\",\"title\":{\"standoff\":15},\"zerolinecolor\":\"white\",\"automargin\":true,\"zerolinewidth\":2},\"scene\":{\"xaxis\":{\"backgroundcolor\":\"#E5ECF6\",\"gridcolor\":\"white\",\"linecolor\":\"white\",\"showbackground\":true,\"ticks\":\"\",\"zerolinecolor\":\"white\",\"gridwidth\":2},\"yaxis\":{\"backgroundcolor\":\"#E5ECF6\",\"gridcolor\":\"white\",\"linecolor\":\"white\",\"showbackground\":true,\"ticks\":\"\",\"zerolinecolor\":\"white\",\"gridwidth\":2},\"zaxis\":{\"backgroundcolor\":\"#E5ECF6\",\"gridcolor\":\"white\",\"linecolor\":\"white\",\"showbackground\":true,\"ticks\":\"\",\"zerolinecolor\":\"white\",\"gridwidth\":2}},\"shapedefaults\":{\"line\":{\"color\":\"#2a3f5f\"}},\"annotationdefaults\":{\"arrowcolor\":\"#2a3f5f\",\"arrowhead\":0,\"arrowwidth\":1},\"geo\":{\"bgcolor\":\"white\",\"landcolor\":\"#E5ECF6\",\"subunitcolor\":\"white\",\"showland\":true,\"showlakes\":true,\"lakecolor\":\"white\"},\"title\":{\"x\":0.05},\"mapbox\":{\"style\":\"light\"}}},\"xaxis\":{\"anchor\":\"y\",\"domain\":[0.0,1.0],\"title\":{\"text\":\"name\"}},\"yaxis\":{\"anchor\":\"x\",\"domain\":[0.0,1.0],\"title\":{\"text\":\"total_params\"}},\"legend\":{\"tracegroupgap\":0},\"title\":{\"text\":\"Cumulative parameters per layer - shufflenetv1_1_96_c3_o3_000\"}},                        {\"responsive\": true}                    ).then(function(){\n",
       "                            \n",
       "var gd = document.getElementById('b1c4f7c2-8ad3-4b07-927e-003cc9a854b3');\n",
       "var x = new MutationObserver(function (mutations, observer) {{\n",
       "        var display = window.getComputedStyle(gd).display;\n",
       "        if (!display || display === 'none') {{\n",
       "            console.log([gd, 'removed!']);\n",
       "            Plotly.purge(gd);\n",
       "            observer.disconnect();\n",
       "        }}\n",
       "}});\n",
       "\n",
       "// Listen for the removal of the full notebook cells\n",
       "var notebookContainer = gd.closest('#notebook-container');\n",
       "if (notebookContainer) {{\n",
       "    x.observe(notebookContainer, {childList: true});\n",
       "}}\n",
       "\n",
       "// Listen for the clearing of the current output cell\n",
       "var outputEl = gd.closest('.output');\n",
       "if (outputEl) {{\n",
       "    x.observe(outputEl, {childList: true});\n",
       "}}\n",
       "\n",
       "                        })                };                });            </script>        </div>"
      ]
     },
     "metadata": {},
     "output_type": "display_data"
    }
   ],
   "source": [
    "fig4 = px.line(df, x=\"name\", y= \"total_params\",\n",
    "    title=f\"Cumulative parameters per layer - {model_name}\")\n",
    "#fig.add_hline(y=256000, line_width=3, line_dash=\"dash\", line_color=\"orange\", annotation_text=\"256 kB MCU constraint\", \n",
    "#              annotation_position=\"bottom right\")\n",
    "#fig.update_layout(showlegend=True)\n",
    "fig4.show()"
   ]
  },
  {
   "cell_type": "code",
   "execution_count": 77,
   "metadata": {},
   "outputs": [
    {
     "data": {
      "application/vnd.plotly.v1+json": {
       "config": {
        "plotlyServerURL": "https://plot.ly"
       },
       "data": [
        {
         "hovertemplate": "name=%{x}<br>total_MACs=%{y}<extra></extra>",
         "legendgroup": "",
         "line": {
          "color": "#636efa",
          "dash": "solid"
         },
         "marker": {
          "symbol": "circle"
         },
         "mode": "lines",
         "name": "",
         "orientation": "v",
         "showlegend": false,
         "type": "scatter",
         "x": [
          "input_2",
          "conv2d_33",
          "batch_normalization_49",
          "re_lu_33",
          "max_pooling2d_1",
          "conv2d_34",
          "batch_normalization_50",
          "re_lu_34",
          "reshape_32",
          "permute_16",
          "reshape_33",
          "depthwise_conv2d_16",
          "batch_normalization_51",
          "conv2d_35",
          "batch_normalization_52",
          "average_pooling2d_3",
          "concatenate_3",
          "re_lu_35",
          "conv2d_36",
          "batch_normalization_53",
          "re_lu_36",
          "reshape_34",
          "permute_17",
          "reshape_35",
          "depthwise_conv2d_17",
          "batch_normalization_54",
          "conv2d_37",
          "batch_normalization_55",
          "add_13",
          "re_lu_37",
          "conv2d_38",
          "batch_normalization_56",
          "re_lu_38",
          "reshape_36",
          "permute_18",
          "reshape_37",
          "depthwise_conv2d_18",
          "batch_normalization_57",
          "conv2d_39",
          "batch_normalization_58",
          "add_14",
          "re_lu_39",
          "conv2d_40",
          "batch_normalization_59",
          "re_lu_40",
          "reshape_38",
          "permute_19",
          "reshape_39",
          "depthwise_conv2d_19",
          "batch_normalization_60",
          "conv2d_41",
          "batch_normalization_61",
          "add_15",
          "re_lu_41",
          "conv2d_42",
          "batch_normalization_62",
          "re_lu_42",
          "reshape_40",
          "permute_20",
          "reshape_41",
          "depthwise_conv2d_20",
          "batch_normalization_63",
          "conv2d_43",
          "batch_normalization_64",
          "average_pooling2d_4",
          "concatenate_4",
          "re_lu_43",
          "conv2d_44",
          "batch_normalization_65",
          "re_lu_44",
          "reshape_42",
          "permute_21",
          "reshape_43",
          "depthwise_conv2d_21",
          "batch_normalization_66",
          "conv2d_45",
          "batch_normalization_67",
          "add_16",
          "re_lu_45",
          "conv2d_46",
          "batch_normalization_68",
          "re_lu_46",
          "reshape_44",
          "permute_22",
          "reshape_45",
          "depthwise_conv2d_22",
          "batch_normalization_69",
          "conv2d_47",
          "batch_normalization_70",
          "add_17",
          "re_lu_47",
          "conv2d_48",
          "batch_normalization_71",
          "re_lu_48",
          "reshape_46",
          "permute_23",
          "reshape_47",
          "depthwise_conv2d_23",
          "batch_normalization_72",
          "conv2d_49",
          "batch_normalization_73",
          "add_18",
          "re_lu_49",
          "conv2d_50",
          "batch_normalization_74",
          "re_lu_50",
          "reshape_48",
          "permute_24",
          "reshape_49",
          "depthwise_conv2d_24",
          "batch_normalization_75",
          "conv2d_51",
          "batch_normalization_76",
          "add_19",
          "re_lu_51",
          "conv2d_52",
          "batch_normalization_77",
          "re_lu_52",
          "reshape_50",
          "permute_25",
          "reshape_51",
          "depthwise_conv2d_25",
          "batch_normalization_78",
          "conv2d_53",
          "batch_normalization_79",
          "add_20",
          "re_lu_53",
          "conv2d_54",
          "batch_normalization_80",
          "re_lu_54",
          "reshape_52",
          "permute_26",
          "reshape_53",
          "depthwise_conv2d_26",
          "batch_normalization_81",
          "conv2d_55",
          "batch_normalization_82",
          "add_21",
          "re_lu_55",
          "conv2d_56",
          "batch_normalization_83",
          "re_lu_56",
          "reshape_54",
          "permute_27",
          "reshape_55",
          "depthwise_conv2d_27",
          "batch_normalization_84",
          "conv2d_57",
          "batch_normalization_85",
          "add_22",
          "re_lu_57",
          "conv2d_58",
          "batch_normalization_86",
          "re_lu_58",
          "reshape_56",
          "permute_28",
          "reshape_57",
          "depthwise_conv2d_28",
          "batch_normalization_87",
          "conv2d_59",
          "batch_normalization_88",
          "average_pooling2d_5",
          "concatenate_5",
          "re_lu_59",
          "conv2d_60",
          "batch_normalization_89",
          "re_lu_60",
          "reshape_58",
          "permute_29",
          "reshape_59",
          "depthwise_conv2d_29",
          "batch_normalization_90",
          "conv2d_61",
          "batch_normalization_91",
          "add_23",
          "re_lu_61",
          "conv2d_62",
          "batch_normalization_92",
          "re_lu_62",
          "reshape_60",
          "permute_30",
          "reshape_61",
          "depthwise_conv2d_30",
          "batch_normalization_93",
          "conv2d_63",
          "batch_normalization_94",
          "add_24",
          "re_lu_63",
          "conv2d_64",
          "batch_normalization_95",
          "re_lu_64",
          "reshape_62",
          "permute_31",
          "reshape_63",
          "depthwise_conv2d_31",
          "batch_normalization_96",
          "conv2d_65",
          "batch_normalization_97",
          "add_25",
          "re_lu_65",
          "global_average_pooling2d_1",
          "dense_1"
         ],
         "xaxis": "x",
         "y": [
          0,
          1492992,
          1492992,
          1492992,
          1492992,
          2184192,
          2184192,
          2184192,
          2184192,
          2184192,
          2184192,
          2248992,
          2248992,
          3516192,
          3516192,
          3516192,
          3516192,
          3516192,
          4956192,
          4956192,
          4956192,
          4956192,
          4956192,
          4956192,
          5020992,
          5020992,
          6460992,
          6460992,
          6460992,
          6460992,
          7900992,
          7900992,
          7900992,
          7900992,
          7900992,
          7900992,
          7965792,
          7965792,
          9405792,
          9405792,
          9405792,
          9405792,
          10845792,
          10845792,
          10845792,
          10845792,
          10845792,
          10845792,
          10910592,
          10910592,
          12350592,
          12350592,
          12350592,
          12350592,
          15230592,
          15230592,
          15230592,
          15230592,
          15230592,
          15230592,
          15262992,
          15262992,
          15982992,
          15982992,
          15982992,
          15982992,
          15982992,
          17422992,
          17422992,
          17422992,
          17422992,
          17422992,
          17422992,
          17455392,
          17455392,
          18895392,
          18895392,
          18895392,
          18895392,
          20335392,
          20335392,
          20335392,
          20335392,
          20335392,
          20335392,
          20367792,
          20367792,
          21807792,
          21807792,
          21807792,
          21807792,
          23247792,
          23247792,
          23247792,
          23247792,
          23247792,
          23247792,
          23280192,
          23280192,
          24720192,
          24720192,
          24720192,
          24720192,
          26160192,
          26160192,
          26160192,
          26160192,
          26160192,
          26160192,
          26192592,
          26192592,
          27632592,
          27632592,
          27632592,
          27632592,
          29072592,
          29072592,
          29072592,
          29072592,
          29072592,
          29072592,
          29104992,
          29104992,
          30544992,
          30544992,
          30544992,
          30544992,
          31984992,
          31984992,
          31984992,
          31984992,
          31984992,
          31984992,
          32017392,
          32017392,
          33457392,
          33457392,
          33457392,
          33457392,
          34897392,
          34897392,
          34897392,
          34897392,
          34897392,
          34897392,
          34929792,
          34929792,
          36369792,
          36369792,
          36369792,
          36369792,
          39249792,
          39249792,
          39249792,
          39249792,
          39249792,
          39249792,
          39265992,
          39265992,
          39985992,
          39985992,
          39985992,
          39985992,
          39985992,
          41425992,
          41425992,
          41425992,
          41425992,
          41425992,
          41425992,
          41442192,
          41442192,
          42882192,
          42882192,
          42882192,
          42882192,
          44322192,
          44322192,
          44322192,
          44322192,
          44322192,
          44322192,
          44338392,
          44338392,
          45778392,
          45778392,
          45778392,
          45778392,
          47218392,
          47218392,
          47218392,
          47218392,
          47218392,
          47218392,
          47234592,
          47234592,
          48674592,
          48674592,
          48674592,
          48674592,
          48674592,
          48674592
         ],
         "yaxis": "y"
        }
       ],
       "layout": {
        "legend": {
         "tracegroupgap": 0
        },
        "template": {
         "data": {
          "bar": [
           {
            "error_x": {
             "color": "#2a3f5f"
            },
            "error_y": {
             "color": "#2a3f5f"
            },
            "marker": {
             "line": {
              "color": "#E5ECF6",
              "width": 0.5
             },
             "pattern": {
              "fillmode": "overlay",
              "size": 10,
              "solidity": 0.2
             }
            },
            "type": "bar"
           }
          ],
          "barpolar": [
           {
            "marker": {
             "line": {
              "color": "#E5ECF6",
              "width": 0.5
             },
             "pattern": {
              "fillmode": "overlay",
              "size": 10,
              "solidity": 0.2
             }
            },
            "type": "barpolar"
           }
          ],
          "carpet": [
           {
            "aaxis": {
             "endlinecolor": "#2a3f5f",
             "gridcolor": "white",
             "linecolor": "white",
             "minorgridcolor": "white",
             "startlinecolor": "#2a3f5f"
            },
            "baxis": {
             "endlinecolor": "#2a3f5f",
             "gridcolor": "white",
             "linecolor": "white",
             "minorgridcolor": "white",
             "startlinecolor": "#2a3f5f"
            },
            "type": "carpet"
           }
          ],
          "choropleth": [
           {
            "colorbar": {
             "outlinewidth": 0,
             "ticks": ""
            },
            "type": "choropleth"
           }
          ],
          "contour": [
           {
            "colorbar": {
             "outlinewidth": 0,
             "ticks": ""
            },
            "colorscale": [
             [
              0,
              "#0d0887"
             ],
             [
              0.1111111111111111,
              "#46039f"
             ],
             [
              0.2222222222222222,
              "#7201a8"
             ],
             [
              0.3333333333333333,
              "#9c179e"
             ],
             [
              0.4444444444444444,
              "#bd3786"
             ],
             [
              0.5555555555555556,
              "#d8576b"
             ],
             [
              0.6666666666666666,
              "#ed7953"
             ],
             [
              0.7777777777777778,
              "#fb9f3a"
             ],
             [
              0.8888888888888888,
              "#fdca26"
             ],
             [
              1,
              "#f0f921"
             ]
            ],
            "type": "contour"
           }
          ],
          "contourcarpet": [
           {
            "colorbar": {
             "outlinewidth": 0,
             "ticks": ""
            },
            "type": "contourcarpet"
           }
          ],
          "heatmap": [
           {
            "colorbar": {
             "outlinewidth": 0,
             "ticks": ""
            },
            "colorscale": [
             [
              0,
              "#0d0887"
             ],
             [
              0.1111111111111111,
              "#46039f"
             ],
             [
              0.2222222222222222,
              "#7201a8"
             ],
             [
              0.3333333333333333,
              "#9c179e"
             ],
             [
              0.4444444444444444,
              "#bd3786"
             ],
             [
              0.5555555555555556,
              "#d8576b"
             ],
             [
              0.6666666666666666,
              "#ed7953"
             ],
             [
              0.7777777777777778,
              "#fb9f3a"
             ],
             [
              0.8888888888888888,
              "#fdca26"
             ],
             [
              1,
              "#f0f921"
             ]
            ],
            "type": "heatmap"
           }
          ],
          "heatmapgl": [
           {
            "colorbar": {
             "outlinewidth": 0,
             "ticks": ""
            },
            "colorscale": [
             [
              0,
              "#0d0887"
             ],
             [
              0.1111111111111111,
              "#46039f"
             ],
             [
              0.2222222222222222,
              "#7201a8"
             ],
             [
              0.3333333333333333,
              "#9c179e"
             ],
             [
              0.4444444444444444,
              "#bd3786"
             ],
             [
              0.5555555555555556,
              "#d8576b"
             ],
             [
              0.6666666666666666,
              "#ed7953"
             ],
             [
              0.7777777777777778,
              "#fb9f3a"
             ],
             [
              0.8888888888888888,
              "#fdca26"
             ],
             [
              1,
              "#f0f921"
             ]
            ],
            "type": "heatmapgl"
           }
          ],
          "histogram": [
           {
            "marker": {
             "pattern": {
              "fillmode": "overlay",
              "size": 10,
              "solidity": 0.2
             }
            },
            "type": "histogram"
           }
          ],
          "histogram2d": [
           {
            "colorbar": {
             "outlinewidth": 0,
             "ticks": ""
            },
            "colorscale": [
             [
              0,
              "#0d0887"
             ],
             [
              0.1111111111111111,
              "#46039f"
             ],
             [
              0.2222222222222222,
              "#7201a8"
             ],
             [
              0.3333333333333333,
              "#9c179e"
             ],
             [
              0.4444444444444444,
              "#bd3786"
             ],
             [
              0.5555555555555556,
              "#d8576b"
             ],
             [
              0.6666666666666666,
              "#ed7953"
             ],
             [
              0.7777777777777778,
              "#fb9f3a"
             ],
             [
              0.8888888888888888,
              "#fdca26"
             ],
             [
              1,
              "#f0f921"
             ]
            ],
            "type": "histogram2d"
           }
          ],
          "histogram2dcontour": [
           {
            "colorbar": {
             "outlinewidth": 0,
             "ticks": ""
            },
            "colorscale": [
             [
              0,
              "#0d0887"
             ],
             [
              0.1111111111111111,
              "#46039f"
             ],
             [
              0.2222222222222222,
              "#7201a8"
             ],
             [
              0.3333333333333333,
              "#9c179e"
             ],
             [
              0.4444444444444444,
              "#bd3786"
             ],
             [
              0.5555555555555556,
              "#d8576b"
             ],
             [
              0.6666666666666666,
              "#ed7953"
             ],
             [
              0.7777777777777778,
              "#fb9f3a"
             ],
             [
              0.8888888888888888,
              "#fdca26"
             ],
             [
              1,
              "#f0f921"
             ]
            ],
            "type": "histogram2dcontour"
           }
          ],
          "mesh3d": [
           {
            "colorbar": {
             "outlinewidth": 0,
             "ticks": ""
            },
            "type": "mesh3d"
           }
          ],
          "parcoords": [
           {
            "line": {
             "colorbar": {
              "outlinewidth": 0,
              "ticks": ""
             }
            },
            "type": "parcoords"
           }
          ],
          "pie": [
           {
            "automargin": true,
            "type": "pie"
           }
          ],
          "scatter": [
           {
            "fillpattern": {
             "fillmode": "overlay",
             "size": 10,
             "solidity": 0.2
            },
            "type": "scatter"
           }
          ],
          "scatter3d": [
           {
            "line": {
             "colorbar": {
              "outlinewidth": 0,
              "ticks": ""
             }
            },
            "marker": {
             "colorbar": {
              "outlinewidth": 0,
              "ticks": ""
             }
            },
            "type": "scatter3d"
           }
          ],
          "scattercarpet": [
           {
            "marker": {
             "colorbar": {
              "outlinewidth": 0,
              "ticks": ""
             }
            },
            "type": "scattercarpet"
           }
          ],
          "scattergeo": [
           {
            "marker": {
             "colorbar": {
              "outlinewidth": 0,
              "ticks": ""
             }
            },
            "type": "scattergeo"
           }
          ],
          "scattergl": [
           {
            "marker": {
             "colorbar": {
              "outlinewidth": 0,
              "ticks": ""
             }
            },
            "type": "scattergl"
           }
          ],
          "scattermapbox": [
           {
            "marker": {
             "colorbar": {
              "outlinewidth": 0,
              "ticks": ""
             }
            },
            "type": "scattermapbox"
           }
          ],
          "scatterpolar": [
           {
            "marker": {
             "colorbar": {
              "outlinewidth": 0,
              "ticks": ""
             }
            },
            "type": "scatterpolar"
           }
          ],
          "scatterpolargl": [
           {
            "marker": {
             "colorbar": {
              "outlinewidth": 0,
              "ticks": ""
             }
            },
            "type": "scatterpolargl"
           }
          ],
          "scatterternary": [
           {
            "marker": {
             "colorbar": {
              "outlinewidth": 0,
              "ticks": ""
             }
            },
            "type": "scatterternary"
           }
          ],
          "surface": [
           {
            "colorbar": {
             "outlinewidth": 0,
             "ticks": ""
            },
            "colorscale": [
             [
              0,
              "#0d0887"
             ],
             [
              0.1111111111111111,
              "#46039f"
             ],
             [
              0.2222222222222222,
              "#7201a8"
             ],
             [
              0.3333333333333333,
              "#9c179e"
             ],
             [
              0.4444444444444444,
              "#bd3786"
             ],
             [
              0.5555555555555556,
              "#d8576b"
             ],
             [
              0.6666666666666666,
              "#ed7953"
             ],
             [
              0.7777777777777778,
              "#fb9f3a"
             ],
             [
              0.8888888888888888,
              "#fdca26"
             ],
             [
              1,
              "#f0f921"
             ]
            ],
            "type": "surface"
           }
          ],
          "table": [
           {
            "cells": {
             "fill": {
              "color": "#EBF0F8"
             },
             "line": {
              "color": "white"
             }
            },
            "header": {
             "fill": {
              "color": "#C8D4E3"
             },
             "line": {
              "color": "white"
             }
            },
            "type": "table"
           }
          ]
         },
         "layout": {
          "annotationdefaults": {
           "arrowcolor": "#2a3f5f",
           "arrowhead": 0,
           "arrowwidth": 1
          },
          "autotypenumbers": "strict",
          "coloraxis": {
           "colorbar": {
            "outlinewidth": 0,
            "ticks": ""
           }
          },
          "colorscale": {
           "diverging": [
            [
             0,
             "#8e0152"
            ],
            [
             0.1,
             "#c51b7d"
            ],
            [
             0.2,
             "#de77ae"
            ],
            [
             0.3,
             "#f1b6da"
            ],
            [
             0.4,
             "#fde0ef"
            ],
            [
             0.5,
             "#f7f7f7"
            ],
            [
             0.6,
             "#e6f5d0"
            ],
            [
             0.7,
             "#b8e186"
            ],
            [
             0.8,
             "#7fbc41"
            ],
            [
             0.9,
             "#4d9221"
            ],
            [
             1,
             "#276419"
            ]
           ],
           "sequential": [
            [
             0,
             "#0d0887"
            ],
            [
             0.1111111111111111,
             "#46039f"
            ],
            [
             0.2222222222222222,
             "#7201a8"
            ],
            [
             0.3333333333333333,
             "#9c179e"
            ],
            [
             0.4444444444444444,
             "#bd3786"
            ],
            [
             0.5555555555555556,
             "#d8576b"
            ],
            [
             0.6666666666666666,
             "#ed7953"
            ],
            [
             0.7777777777777778,
             "#fb9f3a"
            ],
            [
             0.8888888888888888,
             "#fdca26"
            ],
            [
             1,
             "#f0f921"
            ]
           ],
           "sequentialminus": [
            [
             0,
             "#0d0887"
            ],
            [
             0.1111111111111111,
             "#46039f"
            ],
            [
             0.2222222222222222,
             "#7201a8"
            ],
            [
             0.3333333333333333,
             "#9c179e"
            ],
            [
             0.4444444444444444,
             "#bd3786"
            ],
            [
             0.5555555555555556,
             "#d8576b"
            ],
            [
             0.6666666666666666,
             "#ed7953"
            ],
            [
             0.7777777777777778,
             "#fb9f3a"
            ],
            [
             0.8888888888888888,
             "#fdca26"
            ],
            [
             1,
             "#f0f921"
            ]
           ]
          },
          "colorway": [
           "#636efa",
           "#EF553B",
           "#00cc96",
           "#ab63fa",
           "#FFA15A",
           "#19d3f3",
           "#FF6692",
           "#B6E880",
           "#FF97FF",
           "#FECB52"
          ],
          "font": {
           "color": "#2a3f5f"
          },
          "geo": {
           "bgcolor": "white",
           "lakecolor": "white",
           "landcolor": "#E5ECF6",
           "showlakes": true,
           "showland": true,
           "subunitcolor": "white"
          },
          "hoverlabel": {
           "align": "left"
          },
          "hovermode": "closest",
          "mapbox": {
           "style": "light"
          },
          "paper_bgcolor": "white",
          "plot_bgcolor": "#E5ECF6",
          "polar": {
           "angularaxis": {
            "gridcolor": "white",
            "linecolor": "white",
            "ticks": ""
           },
           "bgcolor": "#E5ECF6",
           "radialaxis": {
            "gridcolor": "white",
            "linecolor": "white",
            "ticks": ""
           }
          },
          "scene": {
           "xaxis": {
            "backgroundcolor": "#E5ECF6",
            "gridcolor": "white",
            "gridwidth": 2,
            "linecolor": "white",
            "showbackground": true,
            "ticks": "",
            "zerolinecolor": "white"
           },
           "yaxis": {
            "backgroundcolor": "#E5ECF6",
            "gridcolor": "white",
            "gridwidth": 2,
            "linecolor": "white",
            "showbackground": true,
            "ticks": "",
            "zerolinecolor": "white"
           },
           "zaxis": {
            "backgroundcolor": "#E5ECF6",
            "gridcolor": "white",
            "gridwidth": 2,
            "linecolor": "white",
            "showbackground": true,
            "ticks": "",
            "zerolinecolor": "white"
           }
          },
          "shapedefaults": {
           "line": {
            "color": "#2a3f5f"
           }
          },
          "ternary": {
           "aaxis": {
            "gridcolor": "white",
            "linecolor": "white",
            "ticks": ""
           },
           "baxis": {
            "gridcolor": "white",
            "linecolor": "white",
            "ticks": ""
           },
           "bgcolor": "#E5ECF6",
           "caxis": {
            "gridcolor": "white",
            "linecolor": "white",
            "ticks": ""
           }
          },
          "title": {
           "x": 0.05
          },
          "xaxis": {
           "automargin": true,
           "gridcolor": "white",
           "linecolor": "white",
           "ticks": "",
           "title": {
            "standoff": 15
           },
           "zerolinecolor": "white",
           "zerolinewidth": 2
          },
          "yaxis": {
           "automargin": true,
           "gridcolor": "white",
           "linecolor": "white",
           "ticks": "",
           "title": {
            "standoff": 15
           },
           "zerolinecolor": "white",
           "zerolinewidth": 2
          }
         }
        },
        "title": {
         "text": "Cumulative MACs per layer - shufflenetv1_1_96_c3_o3_000"
        },
        "xaxis": {
         "anchor": "y",
         "domain": [
          0,
          1
         ],
         "title": {
          "text": "name"
         }
        },
        "yaxis": {
         "anchor": "x",
         "domain": [
          0,
          1
         ],
         "title": {
          "text": "total_MACs"
         }
        }
       }
      },
      "text/html": [
       "<div>                            <div id=\"d55b07ff-ff97-44b1-9fa5-bfc92589323b\" class=\"plotly-graph-div\" style=\"height:525px; width:100%;\"></div>            <script type=\"text/javascript\">                require([\"plotly\"], function(Plotly) {                    window.PLOTLYENV=window.PLOTLYENV || {};                                    if (document.getElementById(\"d55b07ff-ff97-44b1-9fa5-bfc92589323b\")) {                    Plotly.newPlot(                        \"d55b07ff-ff97-44b1-9fa5-bfc92589323b\",                        [{\"hovertemplate\":\"name=%{x}<br>total_MACs=%{y}<extra></extra>\",\"legendgroup\":\"\",\"line\":{\"color\":\"#636efa\",\"dash\":\"solid\"},\"marker\":{\"symbol\":\"circle\"},\"mode\":\"lines\",\"name\":\"\",\"orientation\":\"v\",\"showlegend\":false,\"x\":[\"input_2\",\"conv2d_33\",\"batch_normalization_49\",\"re_lu_33\",\"max_pooling2d_1\",\"conv2d_34\",\"batch_normalization_50\",\"re_lu_34\",\"reshape_32\",\"permute_16\",\"reshape_33\",\"depthwise_conv2d_16\",\"batch_normalization_51\",\"conv2d_35\",\"batch_normalization_52\",\"average_pooling2d_3\",\"concatenate_3\",\"re_lu_35\",\"conv2d_36\",\"batch_normalization_53\",\"re_lu_36\",\"reshape_34\",\"permute_17\",\"reshape_35\",\"depthwise_conv2d_17\",\"batch_normalization_54\",\"conv2d_37\",\"batch_normalization_55\",\"add_13\",\"re_lu_37\",\"conv2d_38\",\"batch_normalization_56\",\"re_lu_38\",\"reshape_36\",\"permute_18\",\"reshape_37\",\"depthwise_conv2d_18\",\"batch_normalization_57\",\"conv2d_39\",\"batch_normalization_58\",\"add_14\",\"re_lu_39\",\"conv2d_40\",\"batch_normalization_59\",\"re_lu_40\",\"reshape_38\",\"permute_19\",\"reshape_39\",\"depthwise_conv2d_19\",\"batch_normalization_60\",\"conv2d_41\",\"batch_normalization_61\",\"add_15\",\"re_lu_41\",\"conv2d_42\",\"batch_normalization_62\",\"re_lu_42\",\"reshape_40\",\"permute_20\",\"reshape_41\",\"depthwise_conv2d_20\",\"batch_normalization_63\",\"conv2d_43\",\"batch_normalization_64\",\"average_pooling2d_4\",\"concatenate_4\",\"re_lu_43\",\"conv2d_44\",\"batch_normalization_65\",\"re_lu_44\",\"reshape_42\",\"permute_21\",\"reshape_43\",\"depthwise_conv2d_21\",\"batch_normalization_66\",\"conv2d_45\",\"batch_normalization_67\",\"add_16\",\"re_lu_45\",\"conv2d_46\",\"batch_normalization_68\",\"re_lu_46\",\"reshape_44\",\"permute_22\",\"reshape_45\",\"depthwise_conv2d_22\",\"batch_normalization_69\",\"conv2d_47\",\"batch_normalization_70\",\"add_17\",\"re_lu_47\",\"conv2d_48\",\"batch_normalization_71\",\"re_lu_48\",\"reshape_46\",\"permute_23\",\"reshape_47\",\"depthwise_conv2d_23\",\"batch_normalization_72\",\"conv2d_49\",\"batch_normalization_73\",\"add_18\",\"re_lu_49\",\"conv2d_50\",\"batch_normalization_74\",\"re_lu_50\",\"reshape_48\",\"permute_24\",\"reshape_49\",\"depthwise_conv2d_24\",\"batch_normalization_75\",\"conv2d_51\",\"batch_normalization_76\",\"add_19\",\"re_lu_51\",\"conv2d_52\",\"batch_normalization_77\",\"re_lu_52\",\"reshape_50\",\"permute_25\",\"reshape_51\",\"depthwise_conv2d_25\",\"batch_normalization_78\",\"conv2d_53\",\"batch_normalization_79\",\"add_20\",\"re_lu_53\",\"conv2d_54\",\"batch_normalization_80\",\"re_lu_54\",\"reshape_52\",\"permute_26\",\"reshape_53\",\"depthwise_conv2d_26\",\"batch_normalization_81\",\"conv2d_55\",\"batch_normalization_82\",\"add_21\",\"re_lu_55\",\"conv2d_56\",\"batch_normalization_83\",\"re_lu_56\",\"reshape_54\",\"permute_27\",\"reshape_55\",\"depthwise_conv2d_27\",\"batch_normalization_84\",\"conv2d_57\",\"batch_normalization_85\",\"add_22\",\"re_lu_57\",\"conv2d_58\",\"batch_normalization_86\",\"re_lu_58\",\"reshape_56\",\"permute_28\",\"reshape_57\",\"depthwise_conv2d_28\",\"batch_normalization_87\",\"conv2d_59\",\"batch_normalization_88\",\"average_pooling2d_5\",\"concatenate_5\",\"re_lu_59\",\"conv2d_60\",\"batch_normalization_89\",\"re_lu_60\",\"reshape_58\",\"permute_29\",\"reshape_59\",\"depthwise_conv2d_29\",\"batch_normalization_90\",\"conv2d_61\",\"batch_normalization_91\",\"add_23\",\"re_lu_61\",\"conv2d_62\",\"batch_normalization_92\",\"re_lu_62\",\"reshape_60\",\"permute_30\",\"reshape_61\",\"depthwise_conv2d_30\",\"batch_normalization_93\",\"conv2d_63\",\"batch_normalization_94\",\"add_24\",\"re_lu_63\",\"conv2d_64\",\"batch_normalization_95\",\"re_lu_64\",\"reshape_62\",\"permute_31\",\"reshape_63\",\"depthwise_conv2d_31\",\"batch_normalization_96\",\"conv2d_65\",\"batch_normalization_97\",\"add_25\",\"re_lu_65\",\"global_average_pooling2d_1\",\"dense_1\"],\"xaxis\":\"x\",\"y\":[0,1492992,1492992,1492992,1492992,2184192,2184192,2184192,2184192,2184192,2184192,2248992,2248992,3516192,3516192,3516192,3516192,3516192,4956192,4956192,4956192,4956192,4956192,4956192,5020992,5020992,6460992,6460992,6460992,6460992,7900992,7900992,7900992,7900992,7900992,7900992,7965792,7965792,9405792,9405792,9405792,9405792,10845792,10845792,10845792,10845792,10845792,10845792,10910592,10910592,12350592,12350592,12350592,12350592,15230592,15230592,15230592,15230592,15230592,15230592,15262992,15262992,15982992,15982992,15982992,15982992,15982992,17422992,17422992,17422992,17422992,17422992,17422992,17455392,17455392,18895392,18895392,18895392,18895392,20335392,20335392,20335392,20335392,20335392,20335392,20367792,20367792,21807792,21807792,21807792,21807792,23247792,23247792,23247792,23247792,23247792,23247792,23280192,23280192,24720192,24720192,24720192,24720192,26160192,26160192,26160192,26160192,26160192,26160192,26192592,26192592,27632592,27632592,27632592,27632592,29072592,29072592,29072592,29072592,29072592,29072592,29104992,29104992,30544992,30544992,30544992,30544992,31984992,31984992,31984992,31984992,31984992,31984992,32017392,32017392,33457392,33457392,33457392,33457392,34897392,34897392,34897392,34897392,34897392,34897392,34929792,34929792,36369792,36369792,36369792,36369792,39249792,39249792,39249792,39249792,39249792,39249792,39265992,39265992,39985992,39985992,39985992,39985992,39985992,41425992,41425992,41425992,41425992,41425992,41425992,41442192,41442192,42882192,42882192,42882192,42882192,44322192,44322192,44322192,44322192,44322192,44322192,44338392,44338392,45778392,45778392,45778392,45778392,47218392,47218392,47218392,47218392,47218392,47218392,47234592,47234592,48674592,48674592,48674592,48674592,48674592,48674592],\"yaxis\":\"y\",\"type\":\"scatter\"}],                        {\"template\":{\"data\":{\"histogram2dcontour\":[{\"type\":\"histogram2dcontour\",\"colorbar\":{\"outlinewidth\":0,\"ticks\":\"\"},\"colorscale\":[[0.0,\"#0d0887\"],[0.1111111111111111,\"#46039f\"],[0.2222222222222222,\"#7201a8\"],[0.3333333333333333,\"#9c179e\"],[0.4444444444444444,\"#bd3786\"],[0.5555555555555556,\"#d8576b\"],[0.6666666666666666,\"#ed7953\"],[0.7777777777777778,\"#fb9f3a\"],[0.8888888888888888,\"#fdca26\"],[1.0,\"#f0f921\"]]}],\"choropleth\":[{\"type\":\"choropleth\",\"colorbar\":{\"outlinewidth\":0,\"ticks\":\"\"}}],\"histogram2d\":[{\"type\":\"histogram2d\",\"colorbar\":{\"outlinewidth\":0,\"ticks\":\"\"},\"colorscale\":[[0.0,\"#0d0887\"],[0.1111111111111111,\"#46039f\"],[0.2222222222222222,\"#7201a8\"],[0.3333333333333333,\"#9c179e\"],[0.4444444444444444,\"#bd3786\"],[0.5555555555555556,\"#d8576b\"],[0.6666666666666666,\"#ed7953\"],[0.7777777777777778,\"#fb9f3a\"],[0.8888888888888888,\"#fdca26\"],[1.0,\"#f0f921\"]]}],\"heatmap\":[{\"type\":\"heatmap\",\"colorbar\":{\"outlinewidth\":0,\"ticks\":\"\"},\"colorscale\":[[0.0,\"#0d0887\"],[0.1111111111111111,\"#46039f\"],[0.2222222222222222,\"#7201a8\"],[0.3333333333333333,\"#9c179e\"],[0.4444444444444444,\"#bd3786\"],[0.5555555555555556,\"#d8576b\"],[0.6666666666666666,\"#ed7953\"],[0.7777777777777778,\"#fb9f3a\"],[0.8888888888888888,\"#fdca26\"],[1.0,\"#f0f921\"]]}],\"heatmapgl\":[{\"type\":\"heatmapgl\",\"colorbar\":{\"outlinewidth\":0,\"ticks\":\"\"},\"colorscale\":[[0.0,\"#0d0887\"],[0.1111111111111111,\"#46039f\"],[0.2222222222222222,\"#7201a8\"],[0.3333333333333333,\"#9c179e\"],[0.4444444444444444,\"#bd3786\"],[0.5555555555555556,\"#d8576b\"],[0.6666666666666666,\"#ed7953\"],[0.7777777777777778,\"#fb9f3a\"],[0.8888888888888888,\"#fdca26\"],[1.0,\"#f0f921\"]]}],\"contourcarpet\":[{\"type\":\"contourcarpet\",\"colorbar\":{\"outlinewidth\":0,\"ticks\":\"\"}}],\"contour\":[{\"type\":\"contour\",\"colorbar\":{\"outlinewidth\":0,\"ticks\":\"\"},\"colorscale\":[[0.0,\"#0d0887\"],[0.1111111111111111,\"#46039f\"],[0.2222222222222222,\"#7201a8\"],[0.3333333333333333,\"#9c179e\"],[0.4444444444444444,\"#bd3786\"],[0.5555555555555556,\"#d8576b\"],[0.6666666666666666,\"#ed7953\"],[0.7777777777777778,\"#fb9f3a\"],[0.8888888888888888,\"#fdca26\"],[1.0,\"#f0f921\"]]}],\"surface\":[{\"type\":\"surface\",\"colorbar\":{\"outlinewidth\":0,\"ticks\":\"\"},\"colorscale\":[[0.0,\"#0d0887\"],[0.1111111111111111,\"#46039f\"],[0.2222222222222222,\"#7201a8\"],[0.3333333333333333,\"#9c179e\"],[0.4444444444444444,\"#bd3786\"],[0.5555555555555556,\"#d8576b\"],[0.6666666666666666,\"#ed7953\"],[0.7777777777777778,\"#fb9f3a\"],[0.8888888888888888,\"#fdca26\"],[1.0,\"#f0f921\"]]}],\"mesh3d\":[{\"type\":\"mesh3d\",\"colorbar\":{\"outlinewidth\":0,\"ticks\":\"\"}}],\"scatter\":[{\"fillpattern\":{\"fillmode\":\"overlay\",\"size\":10,\"solidity\":0.2},\"type\":\"scatter\"}],\"parcoords\":[{\"type\":\"parcoords\",\"line\":{\"colorbar\":{\"outlinewidth\":0,\"ticks\":\"\"}}}],\"scatterpolargl\":[{\"type\":\"scatterpolargl\",\"marker\":{\"colorbar\":{\"outlinewidth\":0,\"ticks\":\"\"}}}],\"bar\":[{\"error_x\":{\"color\":\"#2a3f5f\"},\"error_y\":{\"color\":\"#2a3f5f\"},\"marker\":{\"line\":{\"color\":\"#E5ECF6\",\"width\":0.5},\"pattern\":{\"fillmode\":\"overlay\",\"size\":10,\"solidity\":0.2}},\"type\":\"bar\"}],\"scattergeo\":[{\"type\":\"scattergeo\",\"marker\":{\"colorbar\":{\"outlinewidth\":0,\"ticks\":\"\"}}}],\"scatterpolar\":[{\"type\":\"scatterpolar\",\"marker\":{\"colorbar\":{\"outlinewidth\":0,\"ticks\":\"\"}}}],\"histogram\":[{\"marker\":{\"pattern\":{\"fillmode\":\"overlay\",\"size\":10,\"solidity\":0.2}},\"type\":\"histogram\"}],\"scattergl\":[{\"type\":\"scattergl\",\"marker\":{\"colorbar\":{\"outlinewidth\":0,\"ticks\":\"\"}}}],\"scatter3d\":[{\"type\":\"scatter3d\",\"line\":{\"colorbar\":{\"outlinewidth\":0,\"ticks\":\"\"}},\"marker\":{\"colorbar\":{\"outlinewidth\":0,\"ticks\":\"\"}}}],\"scattermapbox\":[{\"type\":\"scattermapbox\",\"marker\":{\"colorbar\":{\"outlinewidth\":0,\"ticks\":\"\"}}}],\"scatterternary\":[{\"type\":\"scatterternary\",\"marker\":{\"colorbar\":{\"outlinewidth\":0,\"ticks\":\"\"}}}],\"scattercarpet\":[{\"type\":\"scattercarpet\",\"marker\":{\"colorbar\":{\"outlinewidth\":0,\"ticks\":\"\"}}}],\"carpet\":[{\"aaxis\":{\"endlinecolor\":\"#2a3f5f\",\"gridcolor\":\"white\",\"linecolor\":\"white\",\"minorgridcolor\":\"white\",\"startlinecolor\":\"#2a3f5f\"},\"baxis\":{\"endlinecolor\":\"#2a3f5f\",\"gridcolor\":\"white\",\"linecolor\":\"white\",\"minorgridcolor\":\"white\",\"startlinecolor\":\"#2a3f5f\"},\"type\":\"carpet\"}],\"table\":[{\"cells\":{\"fill\":{\"color\":\"#EBF0F8\"},\"line\":{\"color\":\"white\"}},\"header\":{\"fill\":{\"color\":\"#C8D4E3\"},\"line\":{\"color\":\"white\"}},\"type\":\"table\"}],\"barpolar\":[{\"marker\":{\"line\":{\"color\":\"#E5ECF6\",\"width\":0.5},\"pattern\":{\"fillmode\":\"overlay\",\"size\":10,\"solidity\":0.2}},\"type\":\"barpolar\"}],\"pie\":[{\"automargin\":true,\"type\":\"pie\"}]},\"layout\":{\"autotypenumbers\":\"strict\",\"colorway\":[\"#636efa\",\"#EF553B\",\"#00cc96\",\"#ab63fa\",\"#FFA15A\",\"#19d3f3\",\"#FF6692\",\"#B6E880\",\"#FF97FF\",\"#FECB52\"],\"font\":{\"color\":\"#2a3f5f\"},\"hovermode\":\"closest\",\"hoverlabel\":{\"align\":\"left\"},\"paper_bgcolor\":\"white\",\"plot_bgcolor\":\"#E5ECF6\",\"polar\":{\"bgcolor\":\"#E5ECF6\",\"angularaxis\":{\"gridcolor\":\"white\",\"linecolor\":\"white\",\"ticks\":\"\"},\"radialaxis\":{\"gridcolor\":\"white\",\"linecolor\":\"white\",\"ticks\":\"\"}},\"ternary\":{\"bgcolor\":\"#E5ECF6\",\"aaxis\":{\"gridcolor\":\"white\",\"linecolor\":\"white\",\"ticks\":\"\"},\"baxis\":{\"gridcolor\":\"white\",\"linecolor\":\"white\",\"ticks\":\"\"},\"caxis\":{\"gridcolor\":\"white\",\"linecolor\":\"white\",\"ticks\":\"\"}},\"coloraxis\":{\"colorbar\":{\"outlinewidth\":0,\"ticks\":\"\"}},\"colorscale\":{\"sequential\":[[0.0,\"#0d0887\"],[0.1111111111111111,\"#46039f\"],[0.2222222222222222,\"#7201a8\"],[0.3333333333333333,\"#9c179e\"],[0.4444444444444444,\"#bd3786\"],[0.5555555555555556,\"#d8576b\"],[0.6666666666666666,\"#ed7953\"],[0.7777777777777778,\"#fb9f3a\"],[0.8888888888888888,\"#fdca26\"],[1.0,\"#f0f921\"]],\"sequentialminus\":[[0.0,\"#0d0887\"],[0.1111111111111111,\"#46039f\"],[0.2222222222222222,\"#7201a8\"],[0.3333333333333333,\"#9c179e\"],[0.4444444444444444,\"#bd3786\"],[0.5555555555555556,\"#d8576b\"],[0.6666666666666666,\"#ed7953\"],[0.7777777777777778,\"#fb9f3a\"],[0.8888888888888888,\"#fdca26\"],[1.0,\"#f0f921\"]],\"diverging\":[[0,\"#8e0152\"],[0.1,\"#c51b7d\"],[0.2,\"#de77ae\"],[0.3,\"#f1b6da\"],[0.4,\"#fde0ef\"],[0.5,\"#f7f7f7\"],[0.6,\"#e6f5d0\"],[0.7,\"#b8e186\"],[0.8,\"#7fbc41\"],[0.9,\"#4d9221\"],[1,\"#276419\"]]},\"xaxis\":{\"gridcolor\":\"white\",\"linecolor\":\"white\",\"ticks\":\"\",\"title\":{\"standoff\":15},\"zerolinecolor\":\"white\",\"automargin\":true,\"zerolinewidth\":2},\"yaxis\":{\"gridcolor\":\"white\",\"linecolor\":\"white\",\"ticks\":\"\",\"title\":{\"standoff\":15},\"zerolinecolor\":\"white\",\"automargin\":true,\"zerolinewidth\":2},\"scene\":{\"xaxis\":{\"backgroundcolor\":\"#E5ECF6\",\"gridcolor\":\"white\",\"linecolor\":\"white\",\"showbackground\":true,\"ticks\":\"\",\"zerolinecolor\":\"white\",\"gridwidth\":2},\"yaxis\":{\"backgroundcolor\":\"#E5ECF6\",\"gridcolor\":\"white\",\"linecolor\":\"white\",\"showbackground\":true,\"ticks\":\"\",\"zerolinecolor\":\"white\",\"gridwidth\":2},\"zaxis\":{\"backgroundcolor\":\"#E5ECF6\",\"gridcolor\":\"white\",\"linecolor\":\"white\",\"showbackground\":true,\"ticks\":\"\",\"zerolinecolor\":\"white\",\"gridwidth\":2}},\"shapedefaults\":{\"line\":{\"color\":\"#2a3f5f\"}},\"annotationdefaults\":{\"arrowcolor\":\"#2a3f5f\",\"arrowhead\":0,\"arrowwidth\":1},\"geo\":{\"bgcolor\":\"white\",\"landcolor\":\"#E5ECF6\",\"subunitcolor\":\"white\",\"showland\":true,\"showlakes\":true,\"lakecolor\":\"white\"},\"title\":{\"x\":0.05},\"mapbox\":{\"style\":\"light\"}}},\"xaxis\":{\"anchor\":\"y\",\"domain\":[0.0,1.0],\"title\":{\"text\":\"name\"}},\"yaxis\":{\"anchor\":\"x\",\"domain\":[0.0,1.0],\"title\":{\"text\":\"total_MACs\"}},\"legend\":{\"tracegroupgap\":0},\"title\":{\"text\":\"Cumulative MACs per layer - shufflenetv1_1_96_c3_o3_000\"}},                        {\"responsive\": true}                    ).then(function(){\n",
       "                            \n",
       "var gd = document.getElementById('d55b07ff-ff97-44b1-9fa5-bfc92589323b');\n",
       "var x = new MutationObserver(function (mutations, observer) {{\n",
       "        var display = window.getComputedStyle(gd).display;\n",
       "        if (!display || display === 'none') {{\n",
       "            console.log([gd, 'removed!']);\n",
       "            Plotly.purge(gd);\n",
       "            observer.disconnect();\n",
       "        }}\n",
       "}});\n",
       "\n",
       "// Listen for the removal of the full notebook cells\n",
       "var notebookContainer = gd.closest('#notebook-container');\n",
       "if (notebookContainer) {{\n",
       "    x.observe(notebookContainer, {childList: true});\n",
       "}}\n",
       "\n",
       "// Listen for the clearing of the current output cell\n",
       "var outputEl = gd.closest('.output');\n",
       "if (outputEl) {{\n",
       "    x.observe(outputEl, {childList: true});\n",
       "}}\n",
       "\n",
       "                        })                };                });            </script>        </div>"
      ]
     },
     "metadata": {},
     "output_type": "display_data"
    }
   ],
   "source": [
    "fig5 = px.line(df, x=\"name\", y= \"total_MACs\",\n",
    "    title=f\"Cumulative MACs per layer - {model_name}\")\n",
    "#fig.add_hline(y=256000, line_width=3, line_dash=\"dash\", line_color=\"orange\", annotation_text=\"256 kB MCU constraint\", \n",
    "#              annotation_position=\"bottom right\")\n",
    "#fig.update_layout(showlegend=True)\n",
    "fig5.show()"
   ]
  },
  {
   "cell_type": "code",
   "execution_count": null,
   "metadata": {},
   "outputs": [],
   "source": [
    "# # Generate run ids\n",
    "# id = wandb.util.generate_id()\n",
    "\n",
    "# PROJECT = model_name.split(\"_\")[0]\n",
    "\n",
    "# run = wandb.init(\n",
    "#         # Set the project where this run will be logged\n",
    "#         project=PROJECT, \n",
    "#         name = model_name,\n",
    "#         id = id, \n",
    "#         resume=\"allow\",\n",
    "#         sync_tensorboard=True\n",
    "#         )\n",
    "# # Specify the configuration variables\n",
    "# config = wandb.config\n",
    "\n",
    "# #config.batch_size = BATCH_SIZE\n",
    "# #config.dropout =DROPOUT\n",
    "# #config.learn_rate = LR\n",
    "# #config.momentum = MOMENTUM\n",
    "# #config.decay = 1e-6\n",
    "# #config.epochs = EPOCHS\n",
    "# #config.classes = classes\n",
    "# config.id = id\n",
    "# config.architecture = model_name\n",
    "\n",
    "# # Create a table\n",
    "# table = wandb.Table(columns = [\"plotly_figure\"])\n",
    "\n",
    "# # Create path for Plotly figure\n",
    "# path_to_plotly_html = \"./plotly_figure.html\"\n",
    "\n",
    "# # Write Plotly figure to HTML\n",
    "# fig.write_html(path_to_plotly_html, auto_play = False) # Setting auto_play to False prevents animated Plotly charts from playing in the table automatically\n",
    "\n",
    "# # Add Plotly figure as HTML file into Table\n",
    "# table.add_data(wandb.Html(path_to_plotly_html))\n",
    "\n",
    "# # Log Table\n",
    "# run.log({\"Chart_table\": table})\n",
    "\n",
    "# #wandb.log({\"Peak activations chart\": fig})\n",
    "\n",
    "# wandb.finish()"
   ]
  },
  {
   "cell_type": "code",
   "execution_count": null,
   "metadata": {},
   "outputs": [],
   "source": []
  }
 ],
 "metadata": {
  "kernelspec": {
   "display_name": "tiny_cnn_5",
   "language": "python",
   "name": "python3"
  },
  "language_info": {
   "codemirror_mode": {
    "name": "ipython",
    "version": 3
   },
   "file_extension": ".py",
   "mimetype": "text/x-python",
   "name": "python",
   "nbconvert_exporter": "python",
   "pygments_lexer": "ipython3",
   "version": "3.10.6"
  },
  "toc": {
   "base_numbering": 1,
   "nav_menu": {},
   "number_sections": true,
   "sideBar": true,
   "skip_h1_title": false,
   "title_cell": "Table of Contents",
   "title_sidebar": "Contents",
   "toc_cell": false,
   "toc_position": {},
   "toc_section_display": true,
   "toc_window_display": false
  },
  "vscode": {
   "interpreter": {
    "hash": "4b362e3f7439b35b0bc0fa2e0c3a5b3cc0154c779cd4216b658aa3553d61d067"
   }
  }
 },
 "nbformat": 4,
 "nbformat_minor": 2
}
