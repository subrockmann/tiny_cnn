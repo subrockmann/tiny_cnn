{
 "cells": [
  {
   "attachments": {},
   "cell_type": "markdown",
   "metadata": {},
   "source": [
    "# Layer Visualizations\n",
    "This notebook contains code to parse a saved TensorFlow model file and generate a pandas dataframe that contains information about all the layers."
   ]
  },
  {
   "cell_type": "code",
   "execution_count": 1,
   "metadata": {},
   "outputs": [],
   "source": [
    "import pandas as pd\n",
    "import numpy as np\n",
    "import re\n",
    "from matplotlib import pyplot as plt\n",
    "import plotly.express as px\n",
    "from pathlib import Path\n",
    "\n",
    "# enable plotly in VS Studio Code\n",
    "import plotly.io as pio\n",
    "#pio.renderers.default = \"notebook_connected\"\n",
    "pio.renderers.default = \"plotly_mimetype+notebook\"\n",
    "\n",
    "import wandb\n",
    "from wandb.keras import WandbMetricsLogger, WandbModelCheckpoint\n",
    "\n",
    "from workbench.utils.utils import create_filepaths, parse_model_name, append_dict_to_csv\n",
    "from workbench.config.config import initialize\n"
   ]
  },
  {
   "cell_type": "code",
   "execution_count": 2,
   "metadata": {},
   "outputs": [],
   "source": [
    "# Configure pandas to show all columns & rows\n",
    "pd.set_option('display.max_columns', None)\n",
    "#pd.set_option('display.max_rows', None)"
   ]
  },
  {
   "cell_type": "code",
   "execution_count": 3,
   "metadata": {
    "tags": [
     "parameters"
    ]
   },
   "outputs": [],
   "source": [
    "#model_name = \"mobilenetv1_0.1_224_c3_o3_000\"\n",
    "model_name = \"mobilenetv2_0.1_96_c1_o3_keras\""
   ]
  },
  {
   "cell_type": "code",
   "execution_count": 4,
   "metadata": {},
   "outputs": [],
   "source": [
    "model_dict = {}"
   ]
  },
  {
   "cell_type": "code",
   "execution_count": 5,
   "metadata": {},
   "outputs": [
    {
     "data": {
      "text/plain": [
       "('mobilenetv2', '0.1', '96', 'c1', 'o3', 'keras')"
      ]
     },
     "execution_count": 5,
     "metadata": {},
     "output_type": "execute_result"
    }
   ],
   "source": [
    "parse_model_name(model_name)"
   ]
  },
  {
   "cell_type": "code",
   "execution_count": 6,
   "metadata": {},
   "outputs": [],
   "source": [
    "models_dir = initialize()"
   ]
  },
  {
   "cell_type": "code",
   "execution_count": 7,
   "metadata": {},
   "outputs": [
    {
     "name": "stdout",
     "output_type": "stream",
     "text": [
      "i:\\tinyml\\tiny_cnn\\models\n"
     ]
    }
   ],
   "source": [
    "models_path, models_summary_path, models_image_path, models_layer_df_path, models_tf_path, models_tflite_path, models_tflite_opt_path = create_filepaths(model_name)"
   ]
  },
  {
   "cell_type": "code",
   "execution_count": 8,
   "metadata": {},
   "outputs": [],
   "source": [
    "filepath = models_dir.joinpath(f\"{model_name}/{model_name}_layers.pkl\")\n",
    "\n",
    "#filepath = f\"i:/tinyml/tiny_cnn/models/{model_name}/{model_name}_layers.pkl\"\n",
    "df = pd.read_pickle(filepath)"
   ]
  },
  {
   "cell_type": "code",
   "execution_count": 9,
   "metadata": {},
   "outputs": [],
   "source": [
    "df_filepath = models_dir.joinpath(f\"{model_name}/{model_name}.pkl\")"
   ]
  },
  {
   "cell_type": "code",
   "execution_count": 10,
   "metadata": {},
   "outputs": [
    {
     "data": {
      "text/plain": [
       "Index(['index', 'name', 'layer_type', 'input_shape', 'input', 'input_node_1',\n",
       "       'output_shape', 'dtype', 'params', 'variables', 'weights_shape',\n",
       "       'weights_name', 'weights_dtype', '#_activations', 'OPS', 'MACS',\n",
       "       'filters', 'trainable', 'kernel_size', 'strides', 'padding',\n",
       "       'dilation_rate', 'groups', 'activation', 'use_bias', 'data_format',\n",
       "       'input_node_type_1', 'input_node_0', 'input_node_type_0'],\n",
       "      dtype='object')"
      ]
     },
     "execution_count": 10,
     "metadata": {},
     "output_type": "execute_result"
    }
   ],
   "source": [
    "df.columns"
   ]
  },
  {
   "cell_type": "code",
   "execution_count": 11,
   "metadata": {},
   "outputs": [
    {
     "data": {
      "text/html": [
       "<div>\n",
       "<style scoped>\n",
       "    .dataframe tbody tr th:only-of-type {\n",
       "        vertical-align: middle;\n",
       "    }\n",
       "\n",
       "    .dataframe tbody tr th {\n",
       "        vertical-align: top;\n",
       "    }\n",
       "\n",
       "    .dataframe thead th {\n",
       "        text-align: right;\n",
       "    }\n",
       "</style>\n",
       "<table border=\"1\" class=\"dataframe\">\n",
       "  <thead>\n",
       "    <tr style=\"text-align: right;\">\n",
       "      <th></th>\n",
       "      <th>index</th>\n",
       "      <th>name</th>\n",
       "      <th>layer_type</th>\n",
       "      <th>input_shape</th>\n",
       "      <th>input</th>\n",
       "      <th>input_node_1</th>\n",
       "      <th>output_shape</th>\n",
       "      <th>dtype</th>\n",
       "      <th>params</th>\n",
       "      <th>variables</th>\n",
       "      <th>weights_shape</th>\n",
       "      <th>weights_name</th>\n",
       "      <th>weights_dtype</th>\n",
       "      <th>#_activations</th>\n",
       "      <th>OPS</th>\n",
       "      <th>MACS</th>\n",
       "      <th>filters</th>\n",
       "      <th>trainable</th>\n",
       "      <th>kernel_size</th>\n",
       "      <th>strides</th>\n",
       "      <th>padding</th>\n",
       "      <th>dilation_rate</th>\n",
       "      <th>groups</th>\n",
       "      <th>activation</th>\n",
       "      <th>use_bias</th>\n",
       "      <th>data_format</th>\n",
       "      <th>input_node_type_1</th>\n",
       "      <th>input_node_0</th>\n",
       "      <th>input_node_type_0</th>\n",
       "    </tr>\n",
       "  </thead>\n",
       "  <tbody>\n",
       "    <tr>\n",
       "      <th>0</th>\n",
       "      <td>0</td>\n",
       "      <td>input_1</td>\n",
       "      <td>&lt;class 'keras.engine.input_layer.InputLayer'&gt;</td>\n",
       "      <td>[(None, 96, 96, 1)]</td>\n",
       "      <td>KerasTensor(type_spec=TensorSpec(shape=(None, ...</td>\n",
       "      <td>input_1</td>\n",
       "      <td>[(None, 96, 96, 1)]</td>\n",
       "      <td>float32</td>\n",
       "      <td>0</td>\n",
       "      <td>0</td>\n",
       "      <td>0</td>\n",
       "      <td>0</td>\n",
       "      <td>0</td>\n",
       "      <td>0</td>\n",
       "      <td>0</td>\n",
       "      <td>0</td>\n",
       "      <td>0</td>\n",
       "      <td>0</td>\n",
       "      <td>0</td>\n",
       "      <td>0</td>\n",
       "      <td>0</td>\n",
       "      <td>0</td>\n",
       "      <td>0</td>\n",
       "      <td>0</td>\n",
       "      <td>0</td>\n",
       "      <td>0</td>\n",
       "      <td>NaN</td>\n",
       "      <td>NaN</td>\n",
       "      <td>NaN</td>\n",
       "    </tr>\n",
       "    <tr>\n",
       "      <th>1</th>\n",
       "      <td>1</td>\n",
       "      <td>Conv1</td>\n",
       "      <td>&lt;class 'keras.layers.convolutional.conv2d.Conv...</td>\n",
       "      <td>(None, 96, 96, 1)</td>\n",
       "      <td>KerasTensor(type_spec=TensorSpec(shape=(None, ...</td>\n",
       "      <td>input_1</td>\n",
       "      <td>(None, 48, 48, 8)</td>\n",
       "      <td>float32</td>\n",
       "      <td>72</td>\n",
       "      <td>1</td>\n",
       "      <td>(3, 3, 1, 8)</td>\n",
       "      <td>Conv1/kernel:0</td>\n",
       "      <td>&lt;dtype: 'float32'&gt;</td>\n",
       "      <td>18432</td>\n",
       "      <td>331776</td>\n",
       "      <td>165888</td>\n",
       "      <td>8</td>\n",
       "      <td>True</td>\n",
       "      <td>(3, 3)</td>\n",
       "      <td>(2, 2)</td>\n",
       "      <td>same</td>\n",
       "      <td>(1, 1)</td>\n",
       "      <td>1</td>\n",
       "      <td>linear</td>\n",
       "      <td>False</td>\n",
       "      <td>channels_last</td>\n",
       "      <td>NaN</td>\n",
       "      <td>NaN</td>\n",
       "      <td>NaN</td>\n",
       "    </tr>\n",
       "    <tr>\n",
       "      <th>2</th>\n",
       "      <td>2</td>\n",
       "      <td>bn_Conv1</td>\n",
       "      <td>&lt;class 'keras.layers.normalization.batch_norma...</td>\n",
       "      <td>(None, 48, 48, 8)</td>\n",
       "      <td>KerasTensor(type_spec=TensorSpec(shape=(None, ...</td>\n",
       "      <td>Conv1</td>\n",
       "      <td>(None, 48, 48, 8)</td>\n",
       "      <td>float32</td>\n",
       "      <td>32</td>\n",
       "      <td>4</td>\n",
       "      <td>(8)</td>\n",
       "      <td>bn_Conv1/gamma:0</td>\n",
       "      <td>&lt;dtype: 'float32'&gt;</td>\n",
       "      <td>0</td>\n",
       "      <td>0</td>\n",
       "      <td>0</td>\n",
       "      <td>0</td>\n",
       "      <td>0</td>\n",
       "      <td>0</td>\n",
       "      <td>0</td>\n",
       "      <td>0</td>\n",
       "      <td>0</td>\n",
       "      <td>0</td>\n",
       "      <td>0</td>\n",
       "      <td>0</td>\n",
       "      <td>0</td>\n",
       "      <td>Conv2D:0</td>\n",
       "      <td>NaN</td>\n",
       "      <td>NaN</td>\n",
       "    </tr>\n",
       "    <tr>\n",
       "      <th>3</th>\n",
       "      <td>3</td>\n",
       "      <td>Conv1_relu</td>\n",
       "      <td>&lt;class 'keras.layers.activation.relu.ReLU'&gt;</td>\n",
       "      <td>(None, 48, 48, 8)</td>\n",
       "      <td>KerasTensor(type_spec=TensorSpec(shape=(None, ...</td>\n",
       "      <td>bn_Conv1</td>\n",
       "      <td>(None, 48, 48, 8)</td>\n",
       "      <td>float32</td>\n",
       "      <td>0</td>\n",
       "      <td>0</td>\n",
       "      <td>0</td>\n",
       "      <td>0</td>\n",
       "      <td>0</td>\n",
       "      <td>0</td>\n",
       "      <td>0</td>\n",
       "      <td>0</td>\n",
       "      <td>0</td>\n",
       "      <td>0</td>\n",
       "      <td>0</td>\n",
       "      <td>0</td>\n",
       "      <td>0</td>\n",
       "      <td>0</td>\n",
       "      <td>0</td>\n",
       "      <td>0</td>\n",
       "      <td>0</td>\n",
       "      <td>0</td>\n",
       "      <td>FusedBatchNormV3:0</td>\n",
       "      <td>NaN</td>\n",
       "      <td>NaN</td>\n",
       "    </tr>\n",
       "    <tr>\n",
       "      <th>4</th>\n",
       "      <td>4</td>\n",
       "      <td>expanded_conv_depthwise</td>\n",
       "      <td>&lt;class 'keras.layers.convolutional.depthwise_c...</td>\n",
       "      <td>(None, 48, 48, 8)</td>\n",
       "      <td>KerasTensor(type_spec=TensorSpec(shape=(None, ...</td>\n",
       "      <td>Conv1_relu</td>\n",
       "      <td>(None, 48, 48, 8)</td>\n",
       "      <td>float32</td>\n",
       "      <td>72</td>\n",
       "      <td>1</td>\n",
       "      <td>(3, 3, 8, 1)</td>\n",
       "      <td>expanded_conv_depthwise/depthwise_kernel:0</td>\n",
       "      <td>&lt;dtype: 'float32'&gt;</td>\n",
       "      <td>18432</td>\n",
       "      <td>331776</td>\n",
       "      <td>165888</td>\n",
       "      <td>0</td>\n",
       "      <td>True</td>\n",
       "      <td>(3, 3)</td>\n",
       "      <td>(1, 1)</td>\n",
       "      <td>same</td>\n",
       "      <td>(1, 1)</td>\n",
       "      <td>1</td>\n",
       "      <td>linear</td>\n",
       "      <td>False</td>\n",
       "      <td>channels_last</td>\n",
       "      <td>Relu6:0</td>\n",
       "      <td>NaN</td>\n",
       "      <td>NaN</td>\n",
       "    </tr>\n",
       "    <tr>\n",
       "      <th>5</th>\n",
       "      <td>5</td>\n",
       "      <td>expanded_conv_depthwise_BN</td>\n",
       "      <td>&lt;class 'keras.layers.normalization.batch_norma...</td>\n",
       "      <td>(None, 48, 48, 8)</td>\n",
       "      <td>KerasTensor(type_spec=TensorSpec(shape=(None, ...</td>\n",
       "      <td>expanded_conv_depthwise</td>\n",
       "      <td>(None, 48, 48, 8)</td>\n",
       "      <td>float32</td>\n",
       "      <td>32</td>\n",
       "      <td>4</td>\n",
       "      <td>(8)</td>\n",
       "      <td>expanded_conv_depthwise_BN/gamma:0</td>\n",
       "      <td>&lt;dtype: 'float32'&gt;</td>\n",
       "      <td>0</td>\n",
       "      <td>0</td>\n",
       "      <td>0</td>\n",
       "      <td>0</td>\n",
       "      <td>0</td>\n",
       "      <td>0</td>\n",
       "      <td>0</td>\n",
       "      <td>0</td>\n",
       "      <td>0</td>\n",
       "      <td>0</td>\n",
       "      <td>0</td>\n",
       "      <td>0</td>\n",
       "      <td>0</td>\n",
       "      <td>depthwise:0</td>\n",
       "      <td>NaN</td>\n",
       "      <td>NaN</td>\n",
       "    </tr>\n",
       "    <tr>\n",
       "      <th>6</th>\n",
       "      <td>6</td>\n",
       "      <td>expanded_conv_depthwise_relu</td>\n",
       "      <td>&lt;class 'keras.layers.activation.relu.ReLU'&gt;</td>\n",
       "      <td>(None, 48, 48, 8)</td>\n",
       "      <td>KerasTensor(type_spec=TensorSpec(shape=(None, ...</td>\n",
       "      <td>expanded_conv_depthwise_BN</td>\n",
       "      <td>(None, 48, 48, 8)</td>\n",
       "      <td>float32</td>\n",
       "      <td>0</td>\n",
       "      <td>0</td>\n",
       "      <td>0</td>\n",
       "      <td>0</td>\n",
       "      <td>0</td>\n",
       "      <td>0</td>\n",
       "      <td>0</td>\n",
       "      <td>0</td>\n",
       "      <td>0</td>\n",
       "      <td>0</td>\n",
       "      <td>0</td>\n",
       "      <td>0</td>\n",
       "      <td>0</td>\n",
       "      <td>0</td>\n",
       "      <td>0</td>\n",
       "      <td>0</td>\n",
       "      <td>0</td>\n",
       "      <td>0</td>\n",
       "      <td>FusedBatchNormV3:0</td>\n",
       "      <td>NaN</td>\n",
       "      <td>NaN</td>\n",
       "    </tr>\n",
       "    <tr>\n",
       "      <th>7</th>\n",
       "      <td>7</td>\n",
       "      <td>expanded_conv_project</td>\n",
       "      <td>&lt;class 'keras.layers.convolutional.conv2d.Conv...</td>\n",
       "      <td>(None, 48, 48, 8)</td>\n",
       "      <td>KerasTensor(type_spec=TensorSpec(shape=(None, ...</td>\n",
       "      <td>expanded_conv_depthwise_relu</td>\n",
       "      <td>(None, 48, 48, 8)</td>\n",
       "      <td>float32</td>\n",
       "      <td>64</td>\n",
       "      <td>1</td>\n",
       "      <td>(1, 1, 8, 8)</td>\n",
       "      <td>expanded_conv_project/kernel:0</td>\n",
       "      <td>&lt;dtype: 'float32'&gt;</td>\n",
       "      <td>18432</td>\n",
       "      <td>294912</td>\n",
       "      <td>147456</td>\n",
       "      <td>8</td>\n",
       "      <td>True</td>\n",
       "      <td>(1, 1)</td>\n",
       "      <td>(1, 1)</td>\n",
       "      <td>same</td>\n",
       "      <td>(1, 1)</td>\n",
       "      <td>1</td>\n",
       "      <td>linear</td>\n",
       "      <td>False</td>\n",
       "      <td>channels_last</td>\n",
       "      <td>Relu6:0</td>\n",
       "      <td>NaN</td>\n",
       "      <td>NaN</td>\n",
       "    </tr>\n",
       "    <tr>\n",
       "      <th>8</th>\n",
       "      <td>8</td>\n",
       "      <td>expanded_conv_project_BN</td>\n",
       "      <td>&lt;class 'keras.layers.normalization.batch_norma...</td>\n",
       "      <td>(None, 48, 48, 8)</td>\n",
       "      <td>KerasTensor(type_spec=TensorSpec(shape=(None, ...</td>\n",
       "      <td>expanded_conv_project</td>\n",
       "      <td>(None, 48, 48, 8)</td>\n",
       "      <td>float32</td>\n",
       "      <td>32</td>\n",
       "      <td>4</td>\n",
       "      <td>(8)</td>\n",
       "      <td>expanded_conv_project_BN/gamma:0</td>\n",
       "      <td>&lt;dtype: 'float32'&gt;</td>\n",
       "      <td>0</td>\n",
       "      <td>0</td>\n",
       "      <td>0</td>\n",
       "      <td>0</td>\n",
       "      <td>0</td>\n",
       "      <td>0</td>\n",
       "      <td>0</td>\n",
       "      <td>0</td>\n",
       "      <td>0</td>\n",
       "      <td>0</td>\n",
       "      <td>0</td>\n",
       "      <td>0</td>\n",
       "      <td>0</td>\n",
       "      <td>Conv2D:0</td>\n",
       "      <td>NaN</td>\n",
       "      <td>NaN</td>\n",
       "    </tr>\n",
       "    <tr>\n",
       "      <th>9</th>\n",
       "      <td>9</td>\n",
       "      <td>expanded_conv_add</td>\n",
       "      <td>&lt;class 'keras.layers.merging.add.Add'&gt;</td>\n",
       "      <td>[(None, 48, 48, 8), (None, 48, 48, 8)]</td>\n",
       "      <td>[KerasTensor(type_spec=TensorSpec(shape=(None,...</td>\n",
       "      <td>expanded_conv_project_BN</td>\n",
       "      <td>(None, 48, 48, 8)</td>\n",
       "      <td>float32</td>\n",
       "      <td>0</td>\n",
       "      <td>0</td>\n",
       "      <td>0</td>\n",
       "      <td>0</td>\n",
       "      <td>0</td>\n",
       "      <td>0</td>\n",
       "      <td>0</td>\n",
       "      <td>0</td>\n",
       "      <td>0</td>\n",
       "      <td>0</td>\n",
       "      <td>0</td>\n",
       "      <td>0</td>\n",
       "      <td>0</td>\n",
       "      <td>0</td>\n",
       "      <td>0</td>\n",
       "      <td>0</td>\n",
       "      <td>0</td>\n",
       "      <td>0</td>\n",
       "      <td>FusedBatchNormV3:0</td>\n",
       "      <td>Conv1_relu</td>\n",
       "      <td>Relu6:0</td>\n",
       "    </tr>\n",
       "  </tbody>\n",
       "</table>\n",
       "</div>"
      ],
      "text/plain": [
       "   index                          name  \\\n",
       "0      0                       input_1   \n",
       "1      1                         Conv1   \n",
       "2      2                      bn_Conv1   \n",
       "3      3                    Conv1_relu   \n",
       "4      4       expanded_conv_depthwise   \n",
       "5      5    expanded_conv_depthwise_BN   \n",
       "6      6  expanded_conv_depthwise_relu   \n",
       "7      7         expanded_conv_project   \n",
       "8      8      expanded_conv_project_BN   \n",
       "9      9             expanded_conv_add   \n",
       "\n",
       "                                          layer_type  \\\n",
       "0      <class 'keras.engine.input_layer.InputLayer'>   \n",
       "1  <class 'keras.layers.convolutional.conv2d.Conv...   \n",
       "2  <class 'keras.layers.normalization.batch_norma...   \n",
       "3        <class 'keras.layers.activation.relu.ReLU'>   \n",
       "4  <class 'keras.layers.convolutional.depthwise_c...   \n",
       "5  <class 'keras.layers.normalization.batch_norma...   \n",
       "6        <class 'keras.layers.activation.relu.ReLU'>   \n",
       "7  <class 'keras.layers.convolutional.conv2d.Conv...   \n",
       "8  <class 'keras.layers.normalization.batch_norma...   \n",
       "9             <class 'keras.layers.merging.add.Add'>   \n",
       "\n",
       "                              input_shape  \\\n",
       "0                     [(None, 96, 96, 1)]   \n",
       "1                       (None, 96, 96, 1)   \n",
       "2                       (None, 48, 48, 8)   \n",
       "3                       (None, 48, 48, 8)   \n",
       "4                       (None, 48, 48, 8)   \n",
       "5                       (None, 48, 48, 8)   \n",
       "6                       (None, 48, 48, 8)   \n",
       "7                       (None, 48, 48, 8)   \n",
       "8                       (None, 48, 48, 8)   \n",
       "9  [(None, 48, 48, 8), (None, 48, 48, 8)]   \n",
       "\n",
       "                                               input  \\\n",
       "0  KerasTensor(type_spec=TensorSpec(shape=(None, ...   \n",
       "1  KerasTensor(type_spec=TensorSpec(shape=(None, ...   \n",
       "2  KerasTensor(type_spec=TensorSpec(shape=(None, ...   \n",
       "3  KerasTensor(type_spec=TensorSpec(shape=(None, ...   \n",
       "4  KerasTensor(type_spec=TensorSpec(shape=(None, ...   \n",
       "5  KerasTensor(type_spec=TensorSpec(shape=(None, ...   \n",
       "6  KerasTensor(type_spec=TensorSpec(shape=(None, ...   \n",
       "7  KerasTensor(type_spec=TensorSpec(shape=(None, ...   \n",
       "8  KerasTensor(type_spec=TensorSpec(shape=(None, ...   \n",
       "9  [KerasTensor(type_spec=TensorSpec(shape=(None,...   \n",
       "\n",
       "                   input_node_1         output_shape    dtype  params  \\\n",
       "0                       input_1  [(None, 96, 96, 1)]  float32       0   \n",
       "1                       input_1    (None, 48, 48, 8)  float32      72   \n",
       "2                         Conv1    (None, 48, 48, 8)  float32      32   \n",
       "3                      bn_Conv1    (None, 48, 48, 8)  float32       0   \n",
       "4                    Conv1_relu    (None, 48, 48, 8)  float32      72   \n",
       "5       expanded_conv_depthwise    (None, 48, 48, 8)  float32      32   \n",
       "6    expanded_conv_depthwise_BN    (None, 48, 48, 8)  float32       0   \n",
       "7  expanded_conv_depthwise_relu    (None, 48, 48, 8)  float32      64   \n",
       "8         expanded_conv_project    (None, 48, 48, 8)  float32      32   \n",
       "9      expanded_conv_project_BN    (None, 48, 48, 8)  float32       0   \n",
       "\n",
       "   variables weights_shape                                weights_name  \\\n",
       "0          0             0                                           0   \n",
       "1          1  (3, 3, 1, 8)                              Conv1/kernel:0   \n",
       "2          4           (8)                            bn_Conv1/gamma:0   \n",
       "3          0             0                                           0   \n",
       "4          1  (3, 3, 8, 1)  expanded_conv_depthwise/depthwise_kernel:0   \n",
       "5          4           (8)          expanded_conv_depthwise_BN/gamma:0   \n",
       "6          0             0                                           0   \n",
       "7          1  (1, 1, 8, 8)              expanded_conv_project/kernel:0   \n",
       "8          4           (8)            expanded_conv_project_BN/gamma:0   \n",
       "9          0             0                                           0   \n",
       "\n",
       "        weights_dtype  #_activations     OPS    MACS  filters trainable  \\\n",
       "0                   0              0       0       0        0         0   \n",
       "1  <dtype: 'float32'>          18432  331776  165888        8      True   \n",
       "2  <dtype: 'float32'>              0       0       0        0         0   \n",
       "3                   0              0       0       0        0         0   \n",
       "4  <dtype: 'float32'>          18432  331776  165888        0      True   \n",
       "5  <dtype: 'float32'>              0       0       0        0         0   \n",
       "6                   0              0       0       0        0         0   \n",
       "7  <dtype: 'float32'>          18432  294912  147456        8      True   \n",
       "8  <dtype: 'float32'>              0       0       0        0         0   \n",
       "9                   0              0       0       0        0         0   \n",
       "\n",
       "  kernel_size strides padding dilation_rate  groups activation use_bias  \\\n",
       "0           0       0       0             0       0          0        0   \n",
       "1      (3, 3)  (2, 2)    same        (1, 1)       1     linear    False   \n",
       "2           0       0       0             0       0          0        0   \n",
       "3           0       0       0             0       0          0        0   \n",
       "4      (3, 3)  (1, 1)    same        (1, 1)       1     linear    False   \n",
       "5           0       0       0             0       0          0        0   \n",
       "6           0       0       0             0       0          0        0   \n",
       "7      (1, 1)  (1, 1)    same        (1, 1)       1     linear    False   \n",
       "8           0       0       0             0       0          0        0   \n",
       "9           0       0       0             0       0          0        0   \n",
       "\n",
       "     data_format   input_node_type_1 input_node_0 input_node_type_0  \n",
       "0              0                 NaN          NaN               NaN  \n",
       "1  channels_last                 NaN          NaN               NaN  \n",
       "2              0            Conv2D:0          NaN               NaN  \n",
       "3              0  FusedBatchNormV3:0          NaN               NaN  \n",
       "4  channels_last             Relu6:0          NaN               NaN  \n",
       "5              0         depthwise:0          NaN               NaN  \n",
       "6              0  FusedBatchNormV3:0          NaN               NaN  \n",
       "7  channels_last             Relu6:0          NaN               NaN  \n",
       "8              0            Conv2D:0          NaN               NaN  \n",
       "9              0  FusedBatchNormV3:0   Conv1_relu           Relu6:0  "
      ]
     },
     "execution_count": 11,
     "metadata": {},
     "output_type": "execute_result"
    }
   ],
   "source": [
    "df.head(10)"
   ]
  },
  {
   "cell_type": "markdown",
   "metadata": {},
   "source": [
    "## Helper functions"
   ]
  },
  {
   "cell_type": "code",
   "execution_count": 12,
   "metadata": {},
   "outputs": [],
   "source": [
    "def split_tuples(x):\n",
    "    x = str(x).strip(\"()\")\n",
    "    x = x.split(\",\")\n",
    "    return x"
   ]
  },
  {
   "cell_type": "code",
   "execution_count": 13,
   "metadata": {},
   "outputs": [],
   "source": [
    "def return_batch_size(x):\n",
    "    x = str(x).strip(\"()\")\n",
    "    split_strings = x.split(\",\")\n",
    "    #print(split_strings)\n",
    "    return split_strings[0].strip()"
   ]
  },
  {
   "cell_type": "code",
   "execution_count": 14,
   "metadata": {},
   "outputs": [],
   "source": [
    "def return_input_height(x):\n",
    "    #image_size=(img_height, img_width),\n",
    "\n",
    "    x = str(x).strip(\"()\")\n",
    "    split_strings = x.split(\",\")\n",
    "    if len(split_strings) in [3,4]:\n",
    "        return split_strings[1].strip()\n",
    "    else:\n",
    "        return \"None\"\n"
   ]
  },
  {
   "cell_type": "code",
   "execution_count": 15,
   "metadata": {},
   "outputs": [],
   "source": [
    "def return_input_width(x):\n",
    "    #image_size=(img_height, img_width),\n",
    "\n",
    "    x = str(x).strip(\"()\")\n",
    "    split_strings = x.split(\",\")\n",
    "    if len(split_strings) in [4]:\n",
    "        return split_strings[2].strip()\n",
    "    else:\n",
    "        return \"None\"\n"
   ]
  },
  {
   "cell_type": "code",
   "execution_count": 16,
   "metadata": {},
   "outputs": [],
   "source": [
    "def return_channels(x):\n",
    "    x = str(x).strip(\"()\")\n",
    "    split_strings = x.split(\",\")\n",
    "    #print(split_strings)\n",
    "\n",
    "    return split_strings[-1].strip()"
   ]
  },
  {
   "cell_type": "code",
   "execution_count": 17,
   "metadata": {},
   "outputs": [],
   "source": [
    "def split_shape_columns(df, colum_name):\n",
    "    df[colum_name] = df[colum_name].map(str)\n",
    "    df[colum_name] = df[colum_name].str.strip(\"[]\").replace('\\)\\,', ')*', regex=True)\n",
    "    df_cols = df[colum_name].str.split(\"*\", expand=True)\n",
    "    prefix = colum_name.split(\"_\")[0]\n",
    "    df_cols.columns = [f\"{prefix}_{x+1}\" for x in df_cols.columns]\n",
    "    return df_cols"
   ]
  },
  {
   "cell_type": "markdown",
   "metadata": {},
   "source": [
    "# Input shapes & activations"
   ]
  },
  {
   "cell_type": "code",
   "execution_count": 18,
   "metadata": {},
   "outputs": [
    {
     "data": {
      "text/html": [
       "<div>\n",
       "<style scoped>\n",
       "    .dataframe tbody tr th:only-of-type {\n",
       "        vertical-align: middle;\n",
       "    }\n",
       "\n",
       "    .dataframe tbody tr th {\n",
       "        vertical-align: top;\n",
       "    }\n",
       "\n",
       "    .dataframe thead th {\n",
       "        text-align: right;\n",
       "    }\n",
       "</style>\n",
       "<table border=\"1\" class=\"dataframe\">\n",
       "  <thead>\n",
       "    <tr style=\"text-align: right;\">\n",
       "      <th></th>\n",
       "      <th>input_1</th>\n",
       "      <th>input_2</th>\n",
       "    </tr>\n",
       "  </thead>\n",
       "  <tbody>\n",
       "    <tr>\n",
       "      <th>0</th>\n",
       "      <td>(None, 96, 96, 1)</td>\n",
       "      <td>None</td>\n",
       "    </tr>\n",
       "    <tr>\n",
       "      <th>1</th>\n",
       "      <td>(None, 96, 96, 1)</td>\n",
       "      <td>None</td>\n",
       "    </tr>\n",
       "    <tr>\n",
       "      <th>2</th>\n",
       "      <td>(None, 48, 48, 8)</td>\n",
       "      <td>None</td>\n",
       "    </tr>\n",
       "    <tr>\n",
       "      <th>3</th>\n",
       "      <td>(None, 48, 48, 8)</td>\n",
       "      <td>None</td>\n",
       "    </tr>\n",
       "    <tr>\n",
       "      <th>4</th>\n",
       "      <td>(None, 48, 48, 8)</td>\n",
       "      <td>None</td>\n",
       "    </tr>\n",
       "    <tr>\n",
       "      <th>...</th>\n",
       "      <td>...</td>\n",
       "      <td>...</td>\n",
       "    </tr>\n",
       "    <tr>\n",
       "      <th>152</th>\n",
       "      <td>(None, 3, 3, 32)</td>\n",
       "      <td>None</td>\n",
       "    </tr>\n",
       "    <tr>\n",
       "      <th>153</th>\n",
       "      <td>(None, 3, 3, 1280)</td>\n",
       "      <td>None</td>\n",
       "    </tr>\n",
       "    <tr>\n",
       "      <th>154</th>\n",
       "      <td>(None, 3, 3, 1280)</td>\n",
       "      <td>None</td>\n",
       "    </tr>\n",
       "    <tr>\n",
       "      <th>155</th>\n",
       "      <td>(None, 3, 3, 1280)</td>\n",
       "      <td>None</td>\n",
       "    </tr>\n",
       "    <tr>\n",
       "      <th>156</th>\n",
       "      <td>(None, 1280)</td>\n",
       "      <td>None</td>\n",
       "    </tr>\n",
       "  </tbody>\n",
       "</table>\n",
       "<p>157 rows × 2 columns</p>\n",
       "</div>"
      ],
      "text/plain": [
       "                input_1 input_2\n",
       "0     (None, 96, 96, 1)    None\n",
       "1     (None, 96, 96, 1)    None\n",
       "2     (None, 48, 48, 8)    None\n",
       "3     (None, 48, 48, 8)    None\n",
       "4     (None, 48, 48, 8)    None\n",
       "..                  ...     ...\n",
       "152    (None, 3, 3, 32)    None\n",
       "153  (None, 3, 3, 1280)    None\n",
       "154  (None, 3, 3, 1280)    None\n",
       "155  (None, 3, 3, 1280)    None\n",
       "156        (None, 1280)    None\n",
       "\n",
       "[157 rows x 2 columns]"
      ]
     },
     "execution_count": 18,
     "metadata": {},
     "output_type": "execute_result"
    }
   ],
   "source": [
    "df_input = split_shape_columns(df, \"input_shape\")\n",
    "df_input"
   ]
  },
  {
   "cell_type": "code",
   "execution_count": 19,
   "metadata": {},
   "outputs": [],
   "source": [
    "# #df[\"input_shape\"][0] =(None, None, None, None)\n",
    "# df[\"input_shape\"] = df[\"input_shape\"].map(str)\n",
    "# df[\"input_shape\"] = df[\"input_shape\"].str.strip(\"[]\").replace('\\)\\,', ')*', regex=True)\n",
    "# df_input = df[\"input_shape\"].str.split(\"*\", expand=True)\n",
    "# df_input.columns =[f\"input_{x+1}\" for x in df_input.columns]\n",
    "# no_input_cols = len(df_input.columns)\n",
    "# print(no_input_cols)\n",
    "# df_input\n"
   ]
  },
  {
   "cell_type": "code",
   "execution_count": 20,
   "metadata": {},
   "outputs": [],
   "source": [
    "#df_input[\"input_1_split\"] = df_input[\"input_1\"].apply(split_tuples)"
   ]
  },
  {
   "cell_type": "code",
   "execution_count": 21,
   "metadata": {},
   "outputs": [],
   "source": [
    "no_input_cols = len(df_input.columns)"
   ]
  },
  {
   "cell_type": "code",
   "execution_count": 22,
   "metadata": {},
   "outputs": [
    {
     "data": {
      "text/html": [
       "<div>\n",
       "<style scoped>\n",
       "    .dataframe tbody tr th:only-of-type {\n",
       "        vertical-align: middle;\n",
       "    }\n",
       "\n",
       "    .dataframe tbody tr th {\n",
       "        vertical-align: top;\n",
       "    }\n",
       "\n",
       "    .dataframe thead th {\n",
       "        text-align: right;\n",
       "    }\n",
       "</style>\n",
       "<table border=\"1\" class=\"dataframe\">\n",
       "  <thead>\n",
       "    <tr style=\"text-align: right;\">\n",
       "      <th></th>\n",
       "      <th>input_1</th>\n",
       "      <th>input_2</th>\n",
       "      <th>b_i_1</th>\n",
       "      <th>h_i_1</th>\n",
       "      <th>w_i_1</th>\n",
       "      <th>c_i_1</th>\n",
       "      <th>b_i_2</th>\n",
       "      <th>h_i_2</th>\n",
       "      <th>w_i_2</th>\n",
       "      <th>c_i_2</th>\n",
       "    </tr>\n",
       "  </thead>\n",
       "  <tbody>\n",
       "    <tr>\n",
       "      <th>0</th>\n",
       "      <td>(None, 96, 96, 1)</td>\n",
       "      <td>None</td>\n",
       "      <td>None</td>\n",
       "      <td>96</td>\n",
       "      <td>96</td>\n",
       "      <td>1</td>\n",
       "      <td>None</td>\n",
       "      <td>None</td>\n",
       "      <td>None</td>\n",
       "      <td>None</td>\n",
       "    </tr>\n",
       "    <tr>\n",
       "      <th>1</th>\n",
       "      <td>(None, 96, 96, 1)</td>\n",
       "      <td>None</td>\n",
       "      <td>None</td>\n",
       "      <td>96</td>\n",
       "      <td>96</td>\n",
       "      <td>1</td>\n",
       "      <td>None</td>\n",
       "      <td>None</td>\n",
       "      <td>None</td>\n",
       "      <td>None</td>\n",
       "    </tr>\n",
       "    <tr>\n",
       "      <th>2</th>\n",
       "      <td>(None, 48, 48, 8)</td>\n",
       "      <td>None</td>\n",
       "      <td>None</td>\n",
       "      <td>48</td>\n",
       "      <td>48</td>\n",
       "      <td>8</td>\n",
       "      <td>None</td>\n",
       "      <td>None</td>\n",
       "      <td>None</td>\n",
       "      <td>None</td>\n",
       "    </tr>\n",
       "    <tr>\n",
       "      <th>3</th>\n",
       "      <td>(None, 48, 48, 8)</td>\n",
       "      <td>None</td>\n",
       "      <td>None</td>\n",
       "      <td>48</td>\n",
       "      <td>48</td>\n",
       "      <td>8</td>\n",
       "      <td>None</td>\n",
       "      <td>None</td>\n",
       "      <td>None</td>\n",
       "      <td>None</td>\n",
       "    </tr>\n",
       "    <tr>\n",
       "      <th>4</th>\n",
       "      <td>(None, 48, 48, 8)</td>\n",
       "      <td>None</td>\n",
       "      <td>None</td>\n",
       "      <td>48</td>\n",
       "      <td>48</td>\n",
       "      <td>8</td>\n",
       "      <td>None</td>\n",
       "      <td>None</td>\n",
       "      <td>None</td>\n",
       "      <td>None</td>\n",
       "    </tr>\n",
       "    <tr>\n",
       "      <th>...</th>\n",
       "      <td>...</td>\n",
       "      <td>...</td>\n",
       "      <td>...</td>\n",
       "      <td>...</td>\n",
       "      <td>...</td>\n",
       "      <td>...</td>\n",
       "      <td>...</td>\n",
       "      <td>...</td>\n",
       "      <td>...</td>\n",
       "      <td>...</td>\n",
       "    </tr>\n",
       "    <tr>\n",
       "      <th>152</th>\n",
       "      <td>(None, 3, 3, 32)</td>\n",
       "      <td>None</td>\n",
       "      <td>None</td>\n",
       "      <td>3</td>\n",
       "      <td>3</td>\n",
       "      <td>32</td>\n",
       "      <td>None</td>\n",
       "      <td>None</td>\n",
       "      <td>None</td>\n",
       "      <td>None</td>\n",
       "    </tr>\n",
       "    <tr>\n",
       "      <th>153</th>\n",
       "      <td>(None, 3, 3, 1280)</td>\n",
       "      <td>None</td>\n",
       "      <td>None</td>\n",
       "      <td>3</td>\n",
       "      <td>3</td>\n",
       "      <td>1280</td>\n",
       "      <td>None</td>\n",
       "      <td>None</td>\n",
       "      <td>None</td>\n",
       "      <td>None</td>\n",
       "    </tr>\n",
       "    <tr>\n",
       "      <th>154</th>\n",
       "      <td>(None, 3, 3, 1280)</td>\n",
       "      <td>None</td>\n",
       "      <td>None</td>\n",
       "      <td>3</td>\n",
       "      <td>3</td>\n",
       "      <td>1280</td>\n",
       "      <td>None</td>\n",
       "      <td>None</td>\n",
       "      <td>None</td>\n",
       "      <td>None</td>\n",
       "    </tr>\n",
       "    <tr>\n",
       "      <th>155</th>\n",
       "      <td>(None, 3, 3, 1280)</td>\n",
       "      <td>None</td>\n",
       "      <td>None</td>\n",
       "      <td>3</td>\n",
       "      <td>3</td>\n",
       "      <td>1280</td>\n",
       "      <td>None</td>\n",
       "      <td>None</td>\n",
       "      <td>None</td>\n",
       "      <td>None</td>\n",
       "    </tr>\n",
       "    <tr>\n",
       "      <th>156</th>\n",
       "      <td>(None, 1280)</td>\n",
       "      <td>None</td>\n",
       "      <td>None</td>\n",
       "      <td>None</td>\n",
       "      <td>None</td>\n",
       "      <td>1280</td>\n",
       "      <td>None</td>\n",
       "      <td>None</td>\n",
       "      <td>None</td>\n",
       "      <td>None</td>\n",
       "    </tr>\n",
       "  </tbody>\n",
       "</table>\n",
       "<p>157 rows × 10 columns</p>\n",
       "</div>"
      ],
      "text/plain": [
       "                input_1 input_2 b_i_1 h_i_1 w_i_1 c_i_1 b_i_2 h_i_2 w_i_2  \\\n",
       "0     (None, 96, 96, 1)    None  None    96    96     1  None  None  None   \n",
       "1     (None, 96, 96, 1)    None  None    96    96     1  None  None  None   \n",
       "2     (None, 48, 48, 8)    None  None    48    48     8  None  None  None   \n",
       "3     (None, 48, 48, 8)    None  None    48    48     8  None  None  None   \n",
       "4     (None, 48, 48, 8)    None  None    48    48     8  None  None  None   \n",
       "..                  ...     ...   ...   ...   ...   ...   ...   ...   ...   \n",
       "152    (None, 3, 3, 32)    None  None     3     3    32  None  None  None   \n",
       "153  (None, 3, 3, 1280)    None  None     3     3  1280  None  None  None   \n",
       "154  (None, 3, 3, 1280)    None  None     3     3  1280  None  None  None   \n",
       "155  (None, 3, 3, 1280)    None  None     3     3  1280  None  None  None   \n",
       "156        (None, 1280)    None  None  None  None  1280  None  None  None   \n",
       "\n",
       "    c_i_2  \n",
       "0    None  \n",
       "1    None  \n",
       "2    None  \n",
       "3    None  \n",
       "4    None  \n",
       "..    ...  \n",
       "152  None  \n",
       "153  None  \n",
       "154  None  \n",
       "155  None  \n",
       "156  None  \n",
       "\n",
       "[157 rows x 10 columns]"
      ]
     },
     "execution_count": 22,
     "metadata": {},
     "output_type": "execute_result"
    }
   ],
   "source": [
    "for input in range(1,no_input_cols+1):\n",
    "    df_input[f\"b_i_{input}\"]= df_input[f\"input_{input}\"].apply(return_batch_size)\n",
    "    df_input[f\"h_i_{input}\"] = df_input[f\"input_{input}\"].apply(return_input_height)\n",
    "    df_input[f\"w_i_{input}\"] = df_input[f\"input_{input}\"].apply(return_input_width)\n",
    "    df_input[f\"c_i_{input}\"] = df_input[f\"input_{input}\"].apply(return_channels)\n",
    "\n",
    "df_input"
   ]
  },
  {
   "cell_type": "code",
   "execution_count": 23,
   "metadata": {},
   "outputs": [],
   "source": [
    "input_cols = df_input.columns.to_list()\n"
   ]
  },
  {
   "cell_type": "code",
   "execution_count": 24,
   "metadata": {},
   "outputs": [
    {
     "name": "stderr",
     "output_type": "stream",
     "text": [
      "C:\\Users\\Susanne\\AppData\\Local\\Temp\\ipykernel_24760\\2930390776.py:8: FutureWarning:\n",
      "\n",
      "The default value of regex will change from True to False in a future version.\n",
      "\n"
     ]
    }
   ],
   "source": [
    "#df_input[\"w_i_2\"].replace('None', np.nan, inplace=True)\n",
    "df_input[\"b_i_1\"].replace('None', np.nan, inplace=True)\n",
    "df_input[\"w_i_1\"].replace('None', np.nan, inplace=True)\n",
    "df_input[\"h_i_1\"].replace('None', np.nan, inplace=True)\n",
    "df_input[\"c_i_1\"].replace('None', np.nan, inplace=True)\n",
    "\n",
    "if \"b_i_2\" in input_cols:\n",
    "    df_input[\"b_i_2\"] = df_input[\"b_i_2\"].str.replace(\"\\(\", \"\")\n",
    "    df_input[\"b_i_2\"].replace('None', np.nan, inplace=True)\n",
    "    df_input[\"w_i_2\"].replace('None', np.nan, inplace=True)\n",
    "    df_input[\"h_i_2\"].replace('None', np.nan, inplace=True)\n",
    "    df_input[\"c_i_2\"].replace('None', np.nan, inplace=True)\n",
    "df_input.fillna(1, inplace=True)\n"
   ]
  },
  {
   "cell_type": "code",
   "execution_count": 25,
   "metadata": {},
   "outputs": [
    {
     "data": {
      "text/html": [
       "<div>\n",
       "<style scoped>\n",
       "    .dataframe tbody tr th:only-of-type {\n",
       "        vertical-align: middle;\n",
       "    }\n",
       "\n",
       "    .dataframe tbody tr th {\n",
       "        vertical-align: top;\n",
       "    }\n",
       "\n",
       "    .dataframe thead th {\n",
       "        text-align: right;\n",
       "    }\n",
       "</style>\n",
       "<table border=\"1\" class=\"dataframe\">\n",
       "  <thead>\n",
       "    <tr style=\"text-align: right;\">\n",
       "      <th></th>\n",
       "      <th>input_1</th>\n",
       "      <th>input_2</th>\n",
       "      <th>b_i_1</th>\n",
       "      <th>h_i_1</th>\n",
       "      <th>w_i_1</th>\n",
       "      <th>c_i_1</th>\n",
       "      <th>b_i_2</th>\n",
       "      <th>h_i_2</th>\n",
       "      <th>w_i_2</th>\n",
       "      <th>c_i_2</th>\n",
       "    </tr>\n",
       "  </thead>\n",
       "  <tbody>\n",
       "    <tr>\n",
       "      <th>0</th>\n",
       "      <td>(None, 96, 96, 1)</td>\n",
       "      <td>1</td>\n",
       "      <td>1.0</td>\n",
       "      <td>96</td>\n",
       "      <td>96</td>\n",
       "      <td>1</td>\n",
       "      <td>1.0</td>\n",
       "      <td>1</td>\n",
       "      <td>1</td>\n",
       "      <td>1</td>\n",
       "    </tr>\n",
       "    <tr>\n",
       "      <th>1</th>\n",
       "      <td>(None, 96, 96, 1)</td>\n",
       "      <td>1</td>\n",
       "      <td>1.0</td>\n",
       "      <td>96</td>\n",
       "      <td>96</td>\n",
       "      <td>1</td>\n",
       "      <td>1.0</td>\n",
       "      <td>1</td>\n",
       "      <td>1</td>\n",
       "      <td>1</td>\n",
       "    </tr>\n",
       "    <tr>\n",
       "      <th>2</th>\n",
       "      <td>(None, 48, 48, 8)</td>\n",
       "      <td>1</td>\n",
       "      <td>1.0</td>\n",
       "      <td>48</td>\n",
       "      <td>48</td>\n",
       "      <td>8</td>\n",
       "      <td>1.0</td>\n",
       "      <td>1</td>\n",
       "      <td>1</td>\n",
       "      <td>1</td>\n",
       "    </tr>\n",
       "    <tr>\n",
       "      <th>3</th>\n",
       "      <td>(None, 48, 48, 8)</td>\n",
       "      <td>1</td>\n",
       "      <td>1.0</td>\n",
       "      <td>48</td>\n",
       "      <td>48</td>\n",
       "      <td>8</td>\n",
       "      <td>1.0</td>\n",
       "      <td>1</td>\n",
       "      <td>1</td>\n",
       "      <td>1</td>\n",
       "    </tr>\n",
       "    <tr>\n",
       "      <th>4</th>\n",
       "      <td>(None, 48, 48, 8)</td>\n",
       "      <td>1</td>\n",
       "      <td>1.0</td>\n",
       "      <td>48</td>\n",
       "      <td>48</td>\n",
       "      <td>8</td>\n",
       "      <td>1.0</td>\n",
       "      <td>1</td>\n",
       "      <td>1</td>\n",
       "      <td>1</td>\n",
       "    </tr>\n",
       "    <tr>\n",
       "      <th>...</th>\n",
       "      <td>...</td>\n",
       "      <td>...</td>\n",
       "      <td>...</td>\n",
       "      <td>...</td>\n",
       "      <td>...</td>\n",
       "      <td>...</td>\n",
       "      <td>...</td>\n",
       "      <td>...</td>\n",
       "      <td>...</td>\n",
       "      <td>...</td>\n",
       "    </tr>\n",
       "    <tr>\n",
       "      <th>152</th>\n",
       "      <td>(None, 3, 3, 32)</td>\n",
       "      <td>1</td>\n",
       "      <td>1.0</td>\n",
       "      <td>3</td>\n",
       "      <td>3</td>\n",
       "      <td>32</td>\n",
       "      <td>1.0</td>\n",
       "      <td>1</td>\n",
       "      <td>1</td>\n",
       "      <td>1</td>\n",
       "    </tr>\n",
       "    <tr>\n",
       "      <th>153</th>\n",
       "      <td>(None, 3, 3, 1280)</td>\n",
       "      <td>1</td>\n",
       "      <td>1.0</td>\n",
       "      <td>3</td>\n",
       "      <td>3</td>\n",
       "      <td>1280</td>\n",
       "      <td>1.0</td>\n",
       "      <td>1</td>\n",
       "      <td>1</td>\n",
       "      <td>1</td>\n",
       "    </tr>\n",
       "    <tr>\n",
       "      <th>154</th>\n",
       "      <td>(None, 3, 3, 1280)</td>\n",
       "      <td>1</td>\n",
       "      <td>1.0</td>\n",
       "      <td>3</td>\n",
       "      <td>3</td>\n",
       "      <td>1280</td>\n",
       "      <td>1.0</td>\n",
       "      <td>1</td>\n",
       "      <td>1</td>\n",
       "      <td>1</td>\n",
       "    </tr>\n",
       "    <tr>\n",
       "      <th>155</th>\n",
       "      <td>(None, 3, 3, 1280)</td>\n",
       "      <td>1</td>\n",
       "      <td>1.0</td>\n",
       "      <td>3</td>\n",
       "      <td>3</td>\n",
       "      <td>1280</td>\n",
       "      <td>1.0</td>\n",
       "      <td>1</td>\n",
       "      <td>1</td>\n",
       "      <td>1</td>\n",
       "    </tr>\n",
       "    <tr>\n",
       "      <th>156</th>\n",
       "      <td>(None, 1280)</td>\n",
       "      <td>1</td>\n",
       "      <td>1.0</td>\n",
       "      <td>1</td>\n",
       "      <td>1</td>\n",
       "      <td>1280</td>\n",
       "      <td>1.0</td>\n",
       "      <td>1</td>\n",
       "      <td>1</td>\n",
       "      <td>1</td>\n",
       "    </tr>\n",
       "  </tbody>\n",
       "</table>\n",
       "<p>157 rows × 10 columns</p>\n",
       "</div>"
      ],
      "text/plain": [
       "                input_1 input_2  b_i_1 h_i_1 w_i_1 c_i_1  b_i_2 h_i_2 w_i_2  \\\n",
       "0     (None, 96, 96, 1)       1    1.0    96    96     1    1.0     1     1   \n",
       "1     (None, 96, 96, 1)       1    1.0    96    96     1    1.0     1     1   \n",
       "2     (None, 48, 48, 8)       1    1.0    48    48     8    1.0     1     1   \n",
       "3     (None, 48, 48, 8)       1    1.0    48    48     8    1.0     1     1   \n",
       "4     (None, 48, 48, 8)       1    1.0    48    48     8    1.0     1     1   \n",
       "..                  ...     ...    ...   ...   ...   ...    ...   ...   ...   \n",
       "152    (None, 3, 3, 32)       1    1.0     3     3    32    1.0     1     1   \n",
       "153  (None, 3, 3, 1280)       1    1.0     3     3  1280    1.0     1     1   \n",
       "154  (None, 3, 3, 1280)       1    1.0     3     3  1280    1.0     1     1   \n",
       "155  (None, 3, 3, 1280)       1    1.0     3     3  1280    1.0     1     1   \n",
       "156        (None, 1280)       1    1.0     1     1  1280    1.0     1     1   \n",
       "\n",
       "    c_i_2  \n",
       "0       1  \n",
       "1       1  \n",
       "2       1  \n",
       "3       1  \n",
       "4       1  \n",
       "..    ...  \n",
       "152     1  \n",
       "153     1  \n",
       "154     1  \n",
       "155     1  \n",
       "156     1  \n",
       "\n",
       "[157 rows x 10 columns]"
      ]
     },
     "execution_count": 25,
     "metadata": {},
     "output_type": "execute_result"
    }
   ],
   "source": [
    "df_input"
   ]
  },
  {
   "cell_type": "code",
   "execution_count": 26,
   "metadata": {},
   "outputs": [],
   "source": [
    "#df_input.c_i_1.value_counts()"
   ]
  },
  {
   "cell_type": "code",
   "execution_count": 27,
   "metadata": {},
   "outputs": [],
   "source": [
    "\n",
    "df_input[\"w_i_1\"] = df_input[\"w_i_1\"].map(int)\n",
    "df_input[\"h_i_1\"] = df_input[\"h_i_1\"].map(int)\n",
    "df_input[\"b_i_1\"] = df_input[\"b_i_1\"].map(int)\n",
    "df_input[\"c_i_1\"] = df_input[\"c_i_1\"].map(int)\n",
    "\n",
    "if \"b_i_2\" in input_cols:\n",
    "    df_input[\"b_i_2\"] = df_input[\"b_i_2\"].map(int)\n",
    "    df_input[\"w_i_2\"] = df_input[\"w_i_2\"].map(int)\n",
    "    df_input[\"h_i_2\"] = df_input[\"h_i_2\"].map(int)\n",
    "    df_input[\"c_i_2\"] = df_input[\"c_i_2\"].map(int)"
   ]
  },
  {
   "cell_type": "code",
   "execution_count": 28,
   "metadata": {},
   "outputs": [],
   "source": [
    "\n",
    "df_input[\"#i_1_activations\"] = df_input[\"h_i_1\"] * df_input[\"w_i_1\"] * df_input[\"c_i_1\"]\n"
   ]
  },
  {
   "cell_type": "code",
   "execution_count": 29,
   "metadata": {},
   "outputs": [],
   "source": [
    "def calculate_i_2_activations(x):\n",
    "    h_i = int(x[\"h_i_2\"])#.map(int)\n",
    "    w_i = int(x[\"w_i_2\"])#.map(int)\n",
    "    c_i = int(x[\"c_i_2\"])#.map(int)\n",
    "    out = h_i * w_i * c_i\n",
    "    if out >1:\n",
    "        return out\n",
    "    else:\n",
    "        return 0"
   ]
  },
  {
   "cell_type": "code",
   "execution_count": 30,
   "metadata": {},
   "outputs": [],
   "source": [
    "if \"b_i_2\" in input_cols:\n",
    "    df_input[\"#i_2_activations\"] = df_input.apply(calculate_i_2_activations, axis=1)"
   ]
  },
  {
   "cell_type": "code",
   "execution_count": 31,
   "metadata": {},
   "outputs": [],
   "source": [
    "\n",
    "# df_input[\"b_i_1\"] = df_input[\"b_i_1\"].map(int)\n",
    "# df_input[\"w_i_1\"] = df_input[\"w_i_1\"].map(int)\n",
    "# df_input[\"h_i_1\"] = df_input[\"h_i_1\"].map(int)\n",
    "# df_input[\"c_i_1\"] = df_input[\"c_i_1\"].map(int)\n",
    "\n",
    "# df_input[\"b_i_2\"] = df_input[\"b_i_2\"].map(int)\n",
    "# df_input[\"w_i_2\"] = df_input[\"w_i_2\"].map(int)\n",
    "# df_input[\"h_i_2\"] = df_input[\"h_i_2\"].map(int)\n",
    "# df_input[\"c_i_2\"] = df_input[\"c_i_2\"].map(int)"
   ]
  },
  {
   "cell_type": "code",
   "execution_count": 32,
   "metadata": {},
   "outputs": [
    {
     "data": {
      "text/html": [
       "<div>\n",
       "<style scoped>\n",
       "    .dataframe tbody tr th:only-of-type {\n",
       "        vertical-align: middle;\n",
       "    }\n",
       "\n",
       "    .dataframe tbody tr th {\n",
       "        vertical-align: top;\n",
       "    }\n",
       "\n",
       "    .dataframe thead th {\n",
       "        text-align: right;\n",
       "    }\n",
       "</style>\n",
       "<table border=\"1\" class=\"dataframe\">\n",
       "  <thead>\n",
       "    <tr style=\"text-align: right;\">\n",
       "      <th></th>\n",
       "      <th>input_1</th>\n",
       "      <th>input_2</th>\n",
       "      <th>b_i_1</th>\n",
       "      <th>h_i_1</th>\n",
       "      <th>w_i_1</th>\n",
       "      <th>c_i_1</th>\n",
       "      <th>b_i_2</th>\n",
       "      <th>h_i_2</th>\n",
       "      <th>w_i_2</th>\n",
       "      <th>c_i_2</th>\n",
       "      <th>#i_1_activations</th>\n",
       "      <th>#i_2_activations</th>\n",
       "    </tr>\n",
       "  </thead>\n",
       "  <tbody>\n",
       "    <tr>\n",
       "      <th>0</th>\n",
       "      <td>(None, 96, 96, 1)</td>\n",
       "      <td>1</td>\n",
       "      <td>1</td>\n",
       "      <td>96</td>\n",
       "      <td>96</td>\n",
       "      <td>1</td>\n",
       "      <td>1</td>\n",
       "      <td>1</td>\n",
       "      <td>1</td>\n",
       "      <td>1</td>\n",
       "      <td>9216</td>\n",
       "      <td>0</td>\n",
       "    </tr>\n",
       "    <tr>\n",
       "      <th>1</th>\n",
       "      <td>(None, 96, 96, 1)</td>\n",
       "      <td>1</td>\n",
       "      <td>1</td>\n",
       "      <td>96</td>\n",
       "      <td>96</td>\n",
       "      <td>1</td>\n",
       "      <td>1</td>\n",
       "      <td>1</td>\n",
       "      <td>1</td>\n",
       "      <td>1</td>\n",
       "      <td>9216</td>\n",
       "      <td>0</td>\n",
       "    </tr>\n",
       "    <tr>\n",
       "      <th>2</th>\n",
       "      <td>(None, 48, 48, 8)</td>\n",
       "      <td>1</td>\n",
       "      <td>1</td>\n",
       "      <td>48</td>\n",
       "      <td>48</td>\n",
       "      <td>8</td>\n",
       "      <td>1</td>\n",
       "      <td>1</td>\n",
       "      <td>1</td>\n",
       "      <td>1</td>\n",
       "      <td>18432</td>\n",
       "      <td>0</td>\n",
       "    </tr>\n",
       "    <tr>\n",
       "      <th>3</th>\n",
       "      <td>(None, 48, 48, 8)</td>\n",
       "      <td>1</td>\n",
       "      <td>1</td>\n",
       "      <td>48</td>\n",
       "      <td>48</td>\n",
       "      <td>8</td>\n",
       "      <td>1</td>\n",
       "      <td>1</td>\n",
       "      <td>1</td>\n",
       "      <td>1</td>\n",
       "      <td>18432</td>\n",
       "      <td>0</td>\n",
       "    </tr>\n",
       "    <tr>\n",
       "      <th>4</th>\n",
       "      <td>(None, 48, 48, 8)</td>\n",
       "      <td>1</td>\n",
       "      <td>1</td>\n",
       "      <td>48</td>\n",
       "      <td>48</td>\n",
       "      <td>8</td>\n",
       "      <td>1</td>\n",
       "      <td>1</td>\n",
       "      <td>1</td>\n",
       "      <td>1</td>\n",
       "      <td>18432</td>\n",
       "      <td>0</td>\n",
       "    </tr>\n",
       "    <tr>\n",
       "      <th>...</th>\n",
       "      <td>...</td>\n",
       "      <td>...</td>\n",
       "      <td>...</td>\n",
       "      <td>...</td>\n",
       "      <td>...</td>\n",
       "      <td>...</td>\n",
       "      <td>...</td>\n",
       "      <td>...</td>\n",
       "      <td>...</td>\n",
       "      <td>...</td>\n",
       "      <td>...</td>\n",
       "      <td>...</td>\n",
       "    </tr>\n",
       "    <tr>\n",
       "      <th>152</th>\n",
       "      <td>(None, 3, 3, 32)</td>\n",
       "      <td>1</td>\n",
       "      <td>1</td>\n",
       "      <td>3</td>\n",
       "      <td>3</td>\n",
       "      <td>32</td>\n",
       "      <td>1</td>\n",
       "      <td>1</td>\n",
       "      <td>1</td>\n",
       "      <td>1</td>\n",
       "      <td>288</td>\n",
       "      <td>0</td>\n",
       "    </tr>\n",
       "    <tr>\n",
       "      <th>153</th>\n",
       "      <td>(None, 3, 3, 1280)</td>\n",
       "      <td>1</td>\n",
       "      <td>1</td>\n",
       "      <td>3</td>\n",
       "      <td>3</td>\n",
       "      <td>1280</td>\n",
       "      <td>1</td>\n",
       "      <td>1</td>\n",
       "      <td>1</td>\n",
       "      <td>1</td>\n",
       "      <td>11520</td>\n",
       "      <td>0</td>\n",
       "    </tr>\n",
       "    <tr>\n",
       "      <th>154</th>\n",
       "      <td>(None, 3, 3, 1280)</td>\n",
       "      <td>1</td>\n",
       "      <td>1</td>\n",
       "      <td>3</td>\n",
       "      <td>3</td>\n",
       "      <td>1280</td>\n",
       "      <td>1</td>\n",
       "      <td>1</td>\n",
       "      <td>1</td>\n",
       "      <td>1</td>\n",
       "      <td>11520</td>\n",
       "      <td>0</td>\n",
       "    </tr>\n",
       "    <tr>\n",
       "      <th>155</th>\n",
       "      <td>(None, 3, 3, 1280)</td>\n",
       "      <td>1</td>\n",
       "      <td>1</td>\n",
       "      <td>3</td>\n",
       "      <td>3</td>\n",
       "      <td>1280</td>\n",
       "      <td>1</td>\n",
       "      <td>1</td>\n",
       "      <td>1</td>\n",
       "      <td>1</td>\n",
       "      <td>11520</td>\n",
       "      <td>0</td>\n",
       "    </tr>\n",
       "    <tr>\n",
       "      <th>156</th>\n",
       "      <td>(None, 1280)</td>\n",
       "      <td>1</td>\n",
       "      <td>1</td>\n",
       "      <td>1</td>\n",
       "      <td>1</td>\n",
       "      <td>1280</td>\n",
       "      <td>1</td>\n",
       "      <td>1</td>\n",
       "      <td>1</td>\n",
       "      <td>1</td>\n",
       "      <td>1280</td>\n",
       "      <td>0</td>\n",
       "    </tr>\n",
       "  </tbody>\n",
       "</table>\n",
       "<p>157 rows × 12 columns</p>\n",
       "</div>"
      ],
      "text/plain": [
       "                input_1 input_2  b_i_1  h_i_1  w_i_1  c_i_1  b_i_2  h_i_2  \\\n",
       "0     (None, 96, 96, 1)       1      1     96     96      1      1      1   \n",
       "1     (None, 96, 96, 1)       1      1     96     96      1      1      1   \n",
       "2     (None, 48, 48, 8)       1      1     48     48      8      1      1   \n",
       "3     (None, 48, 48, 8)       1      1     48     48      8      1      1   \n",
       "4     (None, 48, 48, 8)       1      1     48     48      8      1      1   \n",
       "..                  ...     ...    ...    ...    ...    ...    ...    ...   \n",
       "152    (None, 3, 3, 32)       1      1      3      3     32      1      1   \n",
       "153  (None, 3, 3, 1280)       1      1      3      3   1280      1      1   \n",
       "154  (None, 3, 3, 1280)       1      1      3      3   1280      1      1   \n",
       "155  (None, 3, 3, 1280)       1      1      3      3   1280      1      1   \n",
       "156        (None, 1280)       1      1      1      1   1280      1      1   \n",
       "\n",
       "     w_i_2  c_i_2  #i_1_activations  #i_2_activations  \n",
       "0        1      1              9216                 0  \n",
       "1        1      1              9216                 0  \n",
       "2        1      1             18432                 0  \n",
       "3        1      1             18432                 0  \n",
       "4        1      1             18432                 0  \n",
       "..     ...    ...               ...               ...  \n",
       "152      1      1               288                 0  \n",
       "153      1      1             11520                 0  \n",
       "154      1      1             11520                 0  \n",
       "155      1      1             11520                 0  \n",
       "156      1      1              1280                 0  \n",
       "\n",
       "[157 rows x 12 columns]"
      ]
     },
     "execution_count": 32,
     "metadata": {},
     "output_type": "execute_result"
    }
   ],
   "source": [
    "df_input"
   ]
  },
  {
   "cell_type": "code",
   "execution_count": 33,
   "metadata": {},
   "outputs": [
    {
     "data": {
      "text/plain": [
       "0        146\n",
       "288        3\n",
       "1152       2\n",
       "576        2\n",
       "144        2\n",
       "18432      1\n",
       "4608       1\n",
       "Name: #i_2_activations, dtype: int64"
      ]
     },
     "execution_count": 33,
     "metadata": {},
     "output_type": "execute_result"
    }
   ],
   "source": [
    "df_input[\"#i_2_activations\"].value_counts()"
   ]
  },
  {
   "cell_type": "code",
   "execution_count": 35,
   "metadata": {},
   "outputs": [
    {
     "ename": "ValueError",
     "evalue": "columns overlap but no suffix specified: Index(['input_1', 'input_2', 'b_i_1', 'h_i_1', 'w_i_1', 'c_i_1', 'b_i_2',\n       'h_i_2', 'w_i_2', 'c_i_2', '#i_1_activations', '#i_2_activations'],\n      dtype='object')",
     "output_type": "error",
     "traceback": [
      "\u001b[1;31m---------------------------------------------------------------------------\u001b[0m",
      "\u001b[1;31mValueError\u001b[0m                                Traceback (most recent call last)",
      "Cell \u001b[1;32mIn [35], line 1\u001b[0m\n\u001b[1;32m----> 1\u001b[0m df \u001b[39m=\u001b[39m df\u001b[39m.\u001b[39;49mjoin(df_input)\n",
      "File \u001b[1;32md:\\Miniconda\\envs\\tiny_cnn_5\\lib\\site-packages\\pandas\\core\\frame.py:9966\u001b[0m, in \u001b[0;36mDataFrame.join\u001b[1;34m(self, other, on, how, lsuffix, rsuffix, sort, validate)\u001b[0m\n\u001b[0;32m   9803\u001b[0m \u001b[39mdef\u001b[39;00m \u001b[39mjoin\u001b[39m(\n\u001b[0;32m   9804\u001b[0m     \u001b[39mself\u001b[39m,\n\u001b[0;32m   9805\u001b[0m     other: DataFrame \u001b[39m|\u001b[39m Series \u001b[39m|\u001b[39m \u001b[39mlist\u001b[39m[DataFrame \u001b[39m|\u001b[39m Series],\n\u001b[1;32m   (...)\u001b[0m\n\u001b[0;32m   9811\u001b[0m     validate: \u001b[39mstr\u001b[39m \u001b[39m|\u001b[39m \u001b[39mNone\u001b[39;00m \u001b[39m=\u001b[39m \u001b[39mNone\u001b[39;00m,\n\u001b[0;32m   9812\u001b[0m ) \u001b[39m-\u001b[39m\u001b[39m>\u001b[39m DataFrame:\n\u001b[0;32m   9813\u001b[0m     \u001b[39m\"\"\"\u001b[39;00m\n\u001b[0;32m   9814\u001b[0m \u001b[39m    Join columns of another DataFrame.\u001b[39;00m\n\u001b[0;32m   9815\u001b[0m \n\u001b[1;32m   (...)\u001b[0m\n\u001b[0;32m   9964\u001b[0m \u001b[39m    5  K1  A5   B1\u001b[39;00m\n\u001b[0;32m   9965\u001b[0m \u001b[39m    \"\"\"\u001b[39;00m\n\u001b[1;32m-> 9966\u001b[0m     \u001b[39mreturn\u001b[39;00m \u001b[39mself\u001b[39;49m\u001b[39m.\u001b[39;49m_join_compat(\n\u001b[0;32m   9967\u001b[0m         other,\n\u001b[0;32m   9968\u001b[0m         on\u001b[39m=\u001b[39;49mon,\n\u001b[0;32m   9969\u001b[0m         how\u001b[39m=\u001b[39;49mhow,\n\u001b[0;32m   9970\u001b[0m         lsuffix\u001b[39m=\u001b[39;49mlsuffix,\n\u001b[0;32m   9971\u001b[0m         rsuffix\u001b[39m=\u001b[39;49mrsuffix,\n\u001b[0;32m   9972\u001b[0m         sort\u001b[39m=\u001b[39;49msort,\n\u001b[0;32m   9973\u001b[0m         validate\u001b[39m=\u001b[39;49mvalidate,\n\u001b[0;32m   9974\u001b[0m     )\n",
      "File \u001b[1;32md:\\Miniconda\\envs\\tiny_cnn_5\\lib\\site-packages\\pandas\\core\\frame.py:10005\u001b[0m, in \u001b[0;36mDataFrame._join_compat\u001b[1;34m(self, other, on, how, lsuffix, rsuffix, sort, validate)\u001b[0m\n\u001b[0;32m   9995\u001b[0m     \u001b[39mif\u001b[39;00m how \u001b[39m==\u001b[39m \u001b[39m\"\u001b[39m\u001b[39mcross\u001b[39m\u001b[39m\"\u001b[39m:\n\u001b[0;32m   9996\u001b[0m         \u001b[39mreturn\u001b[39;00m merge(\n\u001b[0;32m   9997\u001b[0m             \u001b[39mself\u001b[39m,\n\u001b[0;32m   9998\u001b[0m             other,\n\u001b[1;32m   (...)\u001b[0m\n\u001b[0;32m  10003\u001b[0m             validate\u001b[39m=\u001b[39mvalidate,\n\u001b[0;32m  10004\u001b[0m         )\n\u001b[1;32m> 10005\u001b[0m     \u001b[39mreturn\u001b[39;00m merge(\n\u001b[0;32m  10006\u001b[0m         \u001b[39mself\u001b[39;49m,\n\u001b[0;32m  10007\u001b[0m         other,\n\u001b[0;32m  10008\u001b[0m         left_on\u001b[39m=\u001b[39;49mon,\n\u001b[0;32m  10009\u001b[0m         how\u001b[39m=\u001b[39;49mhow,\n\u001b[0;32m  10010\u001b[0m         left_index\u001b[39m=\u001b[39;49mon \u001b[39mis\u001b[39;49;00m \u001b[39mNone\u001b[39;49;00m,\n\u001b[0;32m  10011\u001b[0m         right_index\u001b[39m=\u001b[39;49m\u001b[39mTrue\u001b[39;49;00m,\n\u001b[0;32m  10012\u001b[0m         suffixes\u001b[39m=\u001b[39;49m(lsuffix, rsuffix),\n\u001b[0;32m  10013\u001b[0m         sort\u001b[39m=\u001b[39;49msort,\n\u001b[0;32m  10014\u001b[0m         validate\u001b[39m=\u001b[39;49mvalidate,\n\u001b[0;32m  10015\u001b[0m     )\n\u001b[0;32m  10016\u001b[0m \u001b[39melse\u001b[39;00m:\n\u001b[0;32m  10017\u001b[0m     \u001b[39mif\u001b[39;00m on \u001b[39mis\u001b[39;00m \u001b[39mnot\u001b[39;00m \u001b[39mNone\u001b[39;00m:\n",
      "File \u001b[1;32md:\\Miniconda\\envs\\tiny_cnn_5\\lib\\site-packages\\pandas\\core\\reshape\\merge.py:124\u001b[0m, in \u001b[0;36mmerge\u001b[1;34m(left, right, how, on, left_on, right_on, left_index, right_index, sort, suffixes, copy, indicator, validate)\u001b[0m\n\u001b[0;32m     93\u001b[0m \u001b[39m@Substitution\u001b[39m(\u001b[39m\"\u001b[39m\u001b[39m\\n\u001b[39;00m\u001b[39mleft : DataFrame or named Series\u001b[39m\u001b[39m\"\u001b[39m)\n\u001b[0;32m     94\u001b[0m \u001b[39m@Appender\u001b[39m(_merge_doc, indents\u001b[39m=\u001b[39m\u001b[39m0\u001b[39m)\n\u001b[0;32m     95\u001b[0m \u001b[39mdef\u001b[39;00m \u001b[39mmerge\u001b[39m(\n\u001b[1;32m   (...)\u001b[0m\n\u001b[0;32m    108\u001b[0m     validate: \u001b[39mstr\u001b[39m \u001b[39m|\u001b[39m \u001b[39mNone\u001b[39;00m \u001b[39m=\u001b[39m \u001b[39mNone\u001b[39;00m,\n\u001b[0;32m    109\u001b[0m ) \u001b[39m-\u001b[39m\u001b[39m>\u001b[39m DataFrame:\n\u001b[0;32m    110\u001b[0m     op \u001b[39m=\u001b[39m _MergeOperation(\n\u001b[0;32m    111\u001b[0m         left,\n\u001b[0;32m    112\u001b[0m         right,\n\u001b[1;32m   (...)\u001b[0m\n\u001b[0;32m    122\u001b[0m         validate\u001b[39m=\u001b[39mvalidate,\n\u001b[0;32m    123\u001b[0m     )\n\u001b[1;32m--> 124\u001b[0m     \u001b[39mreturn\u001b[39;00m op\u001b[39m.\u001b[39;49mget_result(copy\u001b[39m=\u001b[39;49mcopy)\n",
      "File \u001b[1;32md:\\Miniconda\\envs\\tiny_cnn_5\\lib\\site-packages\\pandas\\core\\reshape\\merge.py:775\u001b[0m, in \u001b[0;36m_MergeOperation.get_result\u001b[1;34m(self, copy)\u001b[0m\n\u001b[0;32m    771\u001b[0m     \u001b[39mself\u001b[39m\u001b[39m.\u001b[39mleft, \u001b[39mself\u001b[39m\u001b[39m.\u001b[39mright \u001b[39m=\u001b[39m \u001b[39mself\u001b[39m\u001b[39m.\u001b[39m_indicator_pre_merge(\u001b[39mself\u001b[39m\u001b[39m.\u001b[39mleft, \u001b[39mself\u001b[39m\u001b[39m.\u001b[39mright)\n\u001b[0;32m    773\u001b[0m join_index, left_indexer, right_indexer \u001b[39m=\u001b[39m \u001b[39mself\u001b[39m\u001b[39m.\u001b[39m_get_join_info()\n\u001b[1;32m--> 775\u001b[0m result \u001b[39m=\u001b[39m \u001b[39mself\u001b[39;49m\u001b[39m.\u001b[39;49m_reindex_and_concat(\n\u001b[0;32m    776\u001b[0m     join_index, left_indexer, right_indexer, copy\u001b[39m=\u001b[39;49mcopy\n\u001b[0;32m    777\u001b[0m )\n\u001b[0;32m    778\u001b[0m result \u001b[39m=\u001b[39m result\u001b[39m.\u001b[39m__finalize__(\u001b[39mself\u001b[39m, method\u001b[39m=\u001b[39m\u001b[39mself\u001b[39m\u001b[39m.\u001b[39m_merge_type)\n\u001b[0;32m    780\u001b[0m \u001b[39mif\u001b[39;00m \u001b[39mself\u001b[39m\u001b[39m.\u001b[39mindicator:\n",
      "File \u001b[1;32md:\\Miniconda\\envs\\tiny_cnn_5\\lib\\site-packages\\pandas\\core\\reshape\\merge.py:729\u001b[0m, in \u001b[0;36m_MergeOperation._reindex_and_concat\u001b[1;34m(self, join_index, left_indexer, right_indexer, copy)\u001b[0m\n\u001b[0;32m    726\u001b[0m left \u001b[39m=\u001b[39m \u001b[39mself\u001b[39m\u001b[39m.\u001b[39mleft[:]\n\u001b[0;32m    727\u001b[0m right \u001b[39m=\u001b[39m \u001b[39mself\u001b[39m\u001b[39m.\u001b[39mright[:]\n\u001b[1;32m--> 729\u001b[0m llabels, rlabels \u001b[39m=\u001b[39m _items_overlap_with_suffix(\n\u001b[0;32m    730\u001b[0m     \u001b[39mself\u001b[39;49m\u001b[39m.\u001b[39;49mleft\u001b[39m.\u001b[39;49m_info_axis, \u001b[39mself\u001b[39;49m\u001b[39m.\u001b[39;49mright\u001b[39m.\u001b[39;49m_info_axis, \u001b[39mself\u001b[39;49m\u001b[39m.\u001b[39;49msuffixes\n\u001b[0;32m    731\u001b[0m )\n\u001b[0;32m    733\u001b[0m \u001b[39mif\u001b[39;00m left_indexer \u001b[39mis\u001b[39;00m \u001b[39mnot\u001b[39;00m \u001b[39mNone\u001b[39;00m:\n\u001b[0;32m    734\u001b[0m     \u001b[39m# Pinning the index here (and in the right code just below) is not\u001b[39;00m\n\u001b[0;32m    735\u001b[0m     \u001b[39m#  necessary, but makes the `.take` more performant if we have e.g.\u001b[39;00m\n\u001b[0;32m    736\u001b[0m     \u001b[39m#  a MultiIndex for left.index.\u001b[39;00m\n\u001b[0;32m    737\u001b[0m     lmgr \u001b[39m=\u001b[39m left\u001b[39m.\u001b[39m_mgr\u001b[39m.\u001b[39mreindex_indexer(\n\u001b[0;32m    738\u001b[0m         join_index,\n\u001b[0;32m    739\u001b[0m         left_indexer,\n\u001b[1;32m   (...)\u001b[0m\n\u001b[0;32m    744\u001b[0m         use_na_proxy\u001b[39m=\u001b[39m\u001b[39mTrue\u001b[39;00m,\n\u001b[0;32m    745\u001b[0m     )\n",
      "File \u001b[1;32md:\\Miniconda\\envs\\tiny_cnn_5\\lib\\site-packages\\pandas\\core\\reshape\\merge.py:2458\u001b[0m, in \u001b[0;36m_items_overlap_with_suffix\u001b[1;34m(left, right, suffixes)\u001b[0m\n\u001b[0;32m   2455\u001b[0m lsuffix, rsuffix \u001b[39m=\u001b[39m suffixes\n\u001b[0;32m   2457\u001b[0m \u001b[39mif\u001b[39;00m \u001b[39mnot\u001b[39;00m lsuffix \u001b[39mand\u001b[39;00m \u001b[39mnot\u001b[39;00m rsuffix:\n\u001b[1;32m-> 2458\u001b[0m     \u001b[39mraise\u001b[39;00m \u001b[39mValueError\u001b[39;00m(\u001b[39mf\u001b[39m\u001b[39m\"\u001b[39m\u001b[39mcolumns overlap but no suffix specified: \u001b[39m\u001b[39m{\u001b[39;00mto_rename\u001b[39m}\u001b[39;00m\u001b[39m\"\u001b[39m)\n\u001b[0;32m   2460\u001b[0m \u001b[39mdef\u001b[39;00m \u001b[39mrenamer\u001b[39m(x, suffix):\n\u001b[0;32m   2461\u001b[0m     \u001b[39m\"\"\"\u001b[39;00m\n\u001b[0;32m   2462\u001b[0m \u001b[39m    Rename the left and right indices.\u001b[39;00m\n\u001b[0;32m   2463\u001b[0m \n\u001b[1;32m   (...)\u001b[0m\n\u001b[0;32m   2474\u001b[0m \u001b[39m    x : renamed column name\u001b[39;00m\n\u001b[0;32m   2475\u001b[0m \u001b[39m    \"\"\"\u001b[39;00m\n",
      "\u001b[1;31mValueError\u001b[0m: columns overlap but no suffix specified: Index(['input_1', 'input_2', 'b_i_1', 'h_i_1', 'w_i_1', 'c_i_1', 'b_i_2',\n       'h_i_2', 'w_i_2', 'c_i_2', '#i_1_activations', '#i_2_activations'],\n      dtype='object')"
     ]
    }
   ],
   "source": [
    "df = df.join(df_input)"
   ]
  },
  {
   "cell_type": "markdown",
   "metadata": {},
   "source": [
    "# Output shape and activations"
   ]
  },
  {
   "cell_type": "code",
   "execution_count": 38,
   "metadata": {},
   "outputs": [
    {
     "data": {
      "text/html": [
       "<div>\n",
       "<style scoped>\n",
       "    .dataframe tbody tr th:only-of-type {\n",
       "        vertical-align: middle;\n",
       "    }\n",
       "\n",
       "    .dataframe tbody tr th {\n",
       "        vertical-align: top;\n",
       "    }\n",
       "\n",
       "    .dataframe thead th {\n",
       "        text-align: right;\n",
       "    }\n",
       "</style>\n",
       "<table border=\"1\" class=\"dataframe\">\n",
       "  <thead>\n",
       "    <tr style=\"text-align: right;\">\n",
       "      <th></th>\n",
       "      <th>output_1</th>\n",
       "    </tr>\n",
       "  </thead>\n",
       "  <tbody>\n",
       "    <tr>\n",
       "      <th>0</th>\n",
       "      <td>(None, 96, 96, 1)</td>\n",
       "    </tr>\n",
       "    <tr>\n",
       "      <th>1</th>\n",
       "      <td>(None, 48, 48, 8)</td>\n",
       "    </tr>\n",
       "    <tr>\n",
       "      <th>2</th>\n",
       "      <td>(None, 48, 48, 8)</td>\n",
       "    </tr>\n",
       "    <tr>\n",
       "      <th>3</th>\n",
       "      <td>(None, 48, 48, 8)</td>\n",
       "    </tr>\n",
       "    <tr>\n",
       "      <th>4</th>\n",
       "      <td>(None, 48, 48, 8)</td>\n",
       "    </tr>\n",
       "    <tr>\n",
       "      <th>...</th>\n",
       "      <td>...</td>\n",
       "    </tr>\n",
       "    <tr>\n",
       "      <th>152</th>\n",
       "      <td>(None, 3, 3, 1280)</td>\n",
       "    </tr>\n",
       "    <tr>\n",
       "      <th>153</th>\n",
       "      <td>(None, 3, 3, 1280)</td>\n",
       "    </tr>\n",
       "    <tr>\n",
       "      <th>154</th>\n",
       "      <td>(None, 3, 3, 1280)</td>\n",
       "    </tr>\n",
       "    <tr>\n",
       "      <th>155</th>\n",
       "      <td>(None, 1280)</td>\n",
       "    </tr>\n",
       "    <tr>\n",
       "      <th>156</th>\n",
       "      <td>(None, 3)</td>\n",
       "    </tr>\n",
       "  </tbody>\n",
       "</table>\n",
       "<p>157 rows × 1 columns</p>\n",
       "</div>"
      ],
      "text/plain": [
       "               output_1\n",
       "0     (None, 96, 96, 1)\n",
       "1     (None, 48, 48, 8)\n",
       "2     (None, 48, 48, 8)\n",
       "3     (None, 48, 48, 8)\n",
       "4     (None, 48, 48, 8)\n",
       "..                  ...\n",
       "152  (None, 3, 3, 1280)\n",
       "153  (None, 3, 3, 1280)\n",
       "154  (None, 3, 3, 1280)\n",
       "155        (None, 1280)\n",
       "156           (None, 3)\n",
       "\n",
       "[157 rows x 1 columns]"
      ]
     },
     "execution_count": 38,
     "metadata": {},
     "output_type": "execute_result"
    }
   ],
   "source": [
    "df_output = split_shape_columns(df, \"output_shape\")\n",
    "df_output"
   ]
  },
  {
   "cell_type": "code",
   "execution_count": 39,
   "metadata": {},
   "outputs": [
    {
     "data": {
      "text/plain": [
       "1"
      ]
     },
     "execution_count": 39,
     "metadata": {},
     "output_type": "execute_result"
    }
   ],
   "source": [
    "no_output_cols = len(df_output.columns)\n",
    "no_output_cols"
   ]
  },
  {
   "cell_type": "code",
   "execution_count": 40,
   "metadata": {},
   "outputs": [
    {
     "data": {
      "text/html": [
       "<div>\n",
       "<style scoped>\n",
       "    .dataframe tbody tr th:only-of-type {\n",
       "        vertical-align: middle;\n",
       "    }\n",
       "\n",
       "    .dataframe tbody tr th {\n",
       "        vertical-align: top;\n",
       "    }\n",
       "\n",
       "    .dataframe thead th {\n",
       "        text-align: right;\n",
       "    }\n",
       "</style>\n",
       "<table border=\"1\" class=\"dataframe\">\n",
       "  <thead>\n",
       "    <tr style=\"text-align: right;\">\n",
       "      <th></th>\n",
       "      <th>output_1</th>\n",
       "      <th>b_o_1</th>\n",
       "      <th>h_o_1</th>\n",
       "      <th>w_o_1</th>\n",
       "      <th>c_o_1</th>\n",
       "    </tr>\n",
       "  </thead>\n",
       "  <tbody>\n",
       "    <tr>\n",
       "      <th>0</th>\n",
       "      <td>(None, 96, 96, 1)</td>\n",
       "      <td>None</td>\n",
       "      <td>96</td>\n",
       "      <td>96</td>\n",
       "      <td>1</td>\n",
       "    </tr>\n",
       "    <tr>\n",
       "      <th>1</th>\n",
       "      <td>(None, 48, 48, 8)</td>\n",
       "      <td>None</td>\n",
       "      <td>48</td>\n",
       "      <td>48</td>\n",
       "      <td>8</td>\n",
       "    </tr>\n",
       "    <tr>\n",
       "      <th>2</th>\n",
       "      <td>(None, 48, 48, 8)</td>\n",
       "      <td>None</td>\n",
       "      <td>48</td>\n",
       "      <td>48</td>\n",
       "      <td>8</td>\n",
       "    </tr>\n",
       "    <tr>\n",
       "      <th>3</th>\n",
       "      <td>(None, 48, 48, 8)</td>\n",
       "      <td>None</td>\n",
       "      <td>48</td>\n",
       "      <td>48</td>\n",
       "      <td>8</td>\n",
       "    </tr>\n",
       "    <tr>\n",
       "      <th>4</th>\n",
       "      <td>(None, 48, 48, 8)</td>\n",
       "      <td>None</td>\n",
       "      <td>48</td>\n",
       "      <td>48</td>\n",
       "      <td>8</td>\n",
       "    </tr>\n",
       "    <tr>\n",
       "      <th>...</th>\n",
       "      <td>...</td>\n",
       "      <td>...</td>\n",
       "      <td>...</td>\n",
       "      <td>...</td>\n",
       "      <td>...</td>\n",
       "    </tr>\n",
       "    <tr>\n",
       "      <th>152</th>\n",
       "      <td>(None, 3, 3, 1280)</td>\n",
       "      <td>None</td>\n",
       "      <td>3</td>\n",
       "      <td>3</td>\n",
       "      <td>1280</td>\n",
       "    </tr>\n",
       "    <tr>\n",
       "      <th>153</th>\n",
       "      <td>(None, 3, 3, 1280)</td>\n",
       "      <td>None</td>\n",
       "      <td>3</td>\n",
       "      <td>3</td>\n",
       "      <td>1280</td>\n",
       "    </tr>\n",
       "    <tr>\n",
       "      <th>154</th>\n",
       "      <td>(None, 3, 3, 1280)</td>\n",
       "      <td>None</td>\n",
       "      <td>3</td>\n",
       "      <td>3</td>\n",
       "      <td>1280</td>\n",
       "    </tr>\n",
       "    <tr>\n",
       "      <th>155</th>\n",
       "      <td>(None, 1280)</td>\n",
       "      <td>None</td>\n",
       "      <td>None</td>\n",
       "      <td>None</td>\n",
       "      <td>1280</td>\n",
       "    </tr>\n",
       "    <tr>\n",
       "      <th>156</th>\n",
       "      <td>(None, 3)</td>\n",
       "      <td>None</td>\n",
       "      <td>None</td>\n",
       "      <td>None</td>\n",
       "      <td>3</td>\n",
       "    </tr>\n",
       "  </tbody>\n",
       "</table>\n",
       "<p>157 rows × 5 columns</p>\n",
       "</div>"
      ],
      "text/plain": [
       "               output_1 b_o_1 h_o_1 w_o_1 c_o_1\n",
       "0     (None, 96, 96, 1)  None    96    96     1\n",
       "1     (None, 48, 48, 8)  None    48    48     8\n",
       "2     (None, 48, 48, 8)  None    48    48     8\n",
       "3     (None, 48, 48, 8)  None    48    48     8\n",
       "4     (None, 48, 48, 8)  None    48    48     8\n",
       "..                  ...   ...   ...   ...   ...\n",
       "152  (None, 3, 3, 1280)  None     3     3  1280\n",
       "153  (None, 3, 3, 1280)  None     3     3  1280\n",
       "154  (None, 3, 3, 1280)  None     3     3  1280\n",
       "155        (None, 1280)  None  None  None  1280\n",
       "156           (None, 3)  None  None  None     3\n",
       "\n",
       "[157 rows x 5 columns]"
      ]
     },
     "execution_count": 40,
     "metadata": {},
     "output_type": "execute_result"
    }
   ],
   "source": [
    "for output in range(1,no_output_cols+1):\n",
    "    df_output[f\"b_o_{output}\"]= df_output[f\"output_{output}\"].apply(return_batch_size)\n",
    "    df_output[f\"h_o_{output}\"] = df_output[f\"output_{output}\"].apply(return_input_height)\n",
    "    df_output[f\"w_o_{output}\"] = df_output[f\"output_{output}\"].apply(return_input_width)\n",
    "    df_output[f\"c_o_{output}\"] = df_output[f\"output_{output}\"].apply(return_channels)\n",
    "\n",
    "df_output"
   ]
  },
  {
   "cell_type": "code",
   "execution_count": 41,
   "metadata": {},
   "outputs": [],
   "source": [
    "df_output[\"b_o_1\"].replace('None', np.nan, inplace=True)\n",
    "df_output[\"w_o_1\"].replace('None', np.nan, inplace=True)\n",
    "df_output[\"h_o_1\"].replace('None', np.nan, inplace=True)\n",
    "df_output[\"c_o_1\"].replace('None', np.nan, inplace=True)\n",
    "df_output.fillna(1, inplace=True)"
   ]
  },
  {
   "cell_type": "code",
   "execution_count": 42,
   "metadata": {},
   "outputs": [],
   "source": [
    "df_output[\"w_o_1\"] = df_output[\"w_o_1\"].map(int)\n",
    "df_output[\"h_o_1\"] = df_output[\"h_o_1\"].map(int)\n",
    "df_output[\"b_o_1\"] = df_output[\"b_o_1\"].map(int)\n",
    "df_output[\"c_o_1\"] = df_output[\"c_o_1\"].map(int)"
   ]
  },
  {
   "cell_type": "code",
   "execution_count": 43,
   "metadata": {},
   "outputs": [],
   "source": [
    "df_output[\"#o_1_activations\"] = df_output[\"h_o_1\"] * df_output[\"w_o_1\"] * df_output[\"c_o_1\"]"
   ]
  },
  {
   "cell_type": "code",
   "execution_count": 44,
   "metadata": {},
   "outputs": [],
   "source": [
    "df = df.join(df_output)"
   ]
  },
  {
   "cell_type": "code",
   "execution_count": 45,
   "metadata": {},
   "outputs": [],
   "source": [
    "df[\"peak_activations\"] = df[\"#i_1_activations\"] + df[\"#o_1_activations\"]"
   ]
  },
  {
   "cell_type": "code",
   "execution_count": 46,
   "metadata": {},
   "outputs": [],
   "source": [
    "df[\"total_params\"] = df[\"params\"].cumsum()"
   ]
  },
  {
   "cell_type": "code",
   "execution_count": 47,
   "metadata": {},
   "outputs": [],
   "source": [
    "df[\"total_MACs\"] = df[\"MACS\"].cumsum()"
   ]
  },
  {
   "cell_type": "code",
   "execution_count": 48,
   "metadata": {},
   "outputs": [
    {
     "data": {
      "text/plain": [
       "97011"
      ]
     },
     "execution_count": 48,
     "metadata": {},
     "output_type": "execute_result"
    }
   ],
   "source": [
    "df[\"total_params\"].max()"
   ]
  },
  {
   "cell_type": "code",
   "execution_count": 49,
   "metadata": {},
   "outputs": [
    {
     "data": {
      "text/plain": [
       "13"
      ]
     },
     "execution_count": 49,
     "metadata": {},
     "output_type": "execute_result"
    }
   ],
   "source": [
    "df[\"peak_activations\"].argmax()"
   ]
  },
  {
   "cell_type": "code",
   "execution_count": 50,
   "metadata": {},
   "outputs": [],
   "source": [
    "model_dict[\"model_name\"] = model_name\n",
    "model_dict[\"total_params\"] = df[\"total_params\"].max()\n",
    "model_dict[\"total_MACs\"] = df[\"total_MACs\"].max()\n",
    "model_dict[\"peak_activations\"] = df[\"peak_activations\"].max()\n",
    "model_dict[\"index_peak_activations\"] = df[\"peak_activations\"].argmax()"
   ]
  },
  {
   "cell_type": "code",
   "execution_count": 51,
   "metadata": {},
   "outputs": [],
   "source": [
    "csv_file_name = \"model_metrics.csv\"\n",
    "csv_path = Path.cwd().joinpath(csv_file_name)\n",
    "append_dict_to_csv(csv_path, model_dict)"
   ]
  },
  {
   "cell_type": "code",
   "execution_count": 52,
   "metadata": {},
   "outputs": [],
   "source": [
    "df.to_pickle(df_filepath)"
   ]
  },
  {
   "cell_type": "code",
   "execution_count": 53,
   "metadata": {},
   "outputs": [
    {
     "data": {
      "text/plain": [
       "Index(['index', 'name', 'layer_type', 'input_shape', 'input', 'input_node_1',\n",
       "       'output_shape', 'dtype', 'params', 'variables', 'weights_shape',\n",
       "       'weights_name', 'weights_dtype', '#_activations', 'OPS', 'MACS',\n",
       "       'filters', 'trainable', 'kernel_size', 'strides', 'padding',\n",
       "       'dilation_rate', 'groups', 'activation', 'use_bias', 'data_format',\n",
       "       'input_node_type_1', 'input_node_0', 'input_node_type_0', 'input_1',\n",
       "       'input_2', 'b_i_1', 'h_i_1', 'w_i_1', 'c_i_1', 'b_i_2', 'h_i_2',\n",
       "       'w_i_2', 'c_i_2', '#i_1_activations', '#i_2_activations', 'output_1',\n",
       "       'b_o_1', 'h_o_1', 'w_o_1', 'c_o_1', '#o_1_activations',\n",
       "       'peak_activations', 'total_params', 'total_MACs'],\n",
       "      dtype='object')"
      ]
     },
     "execution_count": 53,
     "metadata": {},
     "output_type": "execute_result"
    }
   ],
   "source": [
    "df.columns"
   ]
  },
  {
   "cell_type": "code",
   "execution_count": 54,
   "metadata": {},
   "outputs": [
    {
     "data": {
      "text/html": [
       "<div>\n",
       "<style scoped>\n",
       "    .dataframe tbody tr th:only-of-type {\n",
       "        vertical-align: middle;\n",
       "    }\n",
       "\n",
       "    .dataframe tbody tr th {\n",
       "        vertical-align: top;\n",
       "    }\n",
       "\n",
       "    .dataframe thead th {\n",
       "        text-align: right;\n",
       "    }\n",
       "</style>\n",
       "<table border=\"1\" class=\"dataframe\">\n",
       "  <thead>\n",
       "    <tr style=\"text-align: right;\">\n",
       "      <th></th>\n",
       "      <th>index</th>\n",
       "      <th>name</th>\n",
       "      <th>layer_type</th>\n",
       "      <th>input_shape</th>\n",
       "      <th>input</th>\n",
       "      <th>input_node_1</th>\n",
       "      <th>output_shape</th>\n",
       "      <th>dtype</th>\n",
       "      <th>params</th>\n",
       "      <th>variables</th>\n",
       "      <th>weights_shape</th>\n",
       "      <th>weights_name</th>\n",
       "      <th>weights_dtype</th>\n",
       "      <th>#_activations</th>\n",
       "      <th>OPS</th>\n",
       "      <th>MACS</th>\n",
       "      <th>filters</th>\n",
       "      <th>trainable</th>\n",
       "      <th>kernel_size</th>\n",
       "      <th>strides</th>\n",
       "      <th>padding</th>\n",
       "      <th>dilation_rate</th>\n",
       "      <th>groups</th>\n",
       "      <th>activation</th>\n",
       "      <th>use_bias</th>\n",
       "      <th>data_format</th>\n",
       "      <th>input_node_type_1</th>\n",
       "      <th>input_node_0</th>\n",
       "      <th>input_node_type_0</th>\n",
       "      <th>input_1</th>\n",
       "      <th>input_2</th>\n",
       "      <th>b_i_1</th>\n",
       "      <th>h_i_1</th>\n",
       "      <th>w_i_1</th>\n",
       "      <th>c_i_1</th>\n",
       "      <th>b_i_2</th>\n",
       "      <th>h_i_2</th>\n",
       "      <th>w_i_2</th>\n",
       "      <th>c_i_2</th>\n",
       "      <th>#i_1_activations</th>\n",
       "      <th>#i_2_activations</th>\n",
       "      <th>output_1</th>\n",
       "      <th>b_o_1</th>\n",
       "      <th>h_o_1</th>\n",
       "      <th>w_o_1</th>\n",
       "      <th>c_o_1</th>\n",
       "      <th>#o_1_activations</th>\n",
       "      <th>peak_activations</th>\n",
       "      <th>total_params</th>\n",
       "      <th>total_MACs</th>\n",
       "    </tr>\n",
       "  </thead>\n",
       "  <tbody>\n",
       "    <tr>\n",
       "      <th>0</th>\n",
       "      <td>0</td>\n",
       "      <td>input_1</td>\n",
       "      <td>&lt;class 'keras.engine.input_layer.InputLayer'&gt;</td>\n",
       "      <td>(None, 96, 96, 1)</td>\n",
       "      <td>KerasTensor(type_spec=TensorSpec(shape=(None, ...</td>\n",
       "      <td>input_1</td>\n",
       "      <td>(None, 96, 96, 1)</td>\n",
       "      <td>float32</td>\n",
       "      <td>0</td>\n",
       "      <td>0</td>\n",
       "      <td>0</td>\n",
       "      <td>0</td>\n",
       "      <td>0</td>\n",
       "      <td>0</td>\n",
       "      <td>0</td>\n",
       "      <td>0</td>\n",
       "      <td>0</td>\n",
       "      <td>0</td>\n",
       "      <td>0</td>\n",
       "      <td>0</td>\n",
       "      <td>0</td>\n",
       "      <td>0</td>\n",
       "      <td>0</td>\n",
       "      <td>0</td>\n",
       "      <td>0</td>\n",
       "      <td>0</td>\n",
       "      <td>NaN</td>\n",
       "      <td>NaN</td>\n",
       "      <td>NaN</td>\n",
       "      <td>(None, 96, 96, 1)</td>\n",
       "      <td>1</td>\n",
       "      <td>1</td>\n",
       "      <td>96</td>\n",
       "      <td>96</td>\n",
       "      <td>1</td>\n",
       "      <td>1</td>\n",
       "      <td>1</td>\n",
       "      <td>1</td>\n",
       "      <td>1</td>\n",
       "      <td>9216</td>\n",
       "      <td>0</td>\n",
       "      <td>(None, 96, 96, 1)</td>\n",
       "      <td>1</td>\n",
       "      <td>96</td>\n",
       "      <td>96</td>\n",
       "      <td>1</td>\n",
       "      <td>9216</td>\n",
       "      <td>18432</td>\n",
       "      <td>0</td>\n",
       "      <td>0</td>\n",
       "    </tr>\n",
       "    <tr>\n",
       "      <th>1</th>\n",
       "      <td>1</td>\n",
       "      <td>Conv1</td>\n",
       "      <td>&lt;class 'keras.layers.convolutional.conv2d.Conv...</td>\n",
       "      <td>(None, 96, 96, 1)</td>\n",
       "      <td>KerasTensor(type_spec=TensorSpec(shape=(None, ...</td>\n",
       "      <td>input_1</td>\n",
       "      <td>(None, 48, 48, 8)</td>\n",
       "      <td>float32</td>\n",
       "      <td>72</td>\n",
       "      <td>1</td>\n",
       "      <td>(3, 3, 1, 8)</td>\n",
       "      <td>Conv1/kernel:0</td>\n",
       "      <td>&lt;dtype: 'float32'&gt;</td>\n",
       "      <td>18432</td>\n",
       "      <td>331776</td>\n",
       "      <td>165888</td>\n",
       "      <td>8</td>\n",
       "      <td>True</td>\n",
       "      <td>(3, 3)</td>\n",
       "      <td>(2, 2)</td>\n",
       "      <td>same</td>\n",
       "      <td>(1, 1)</td>\n",
       "      <td>1</td>\n",
       "      <td>linear</td>\n",
       "      <td>False</td>\n",
       "      <td>channels_last</td>\n",
       "      <td>NaN</td>\n",
       "      <td>NaN</td>\n",
       "      <td>NaN</td>\n",
       "      <td>(None, 96, 96, 1)</td>\n",
       "      <td>1</td>\n",
       "      <td>1</td>\n",
       "      <td>96</td>\n",
       "      <td>96</td>\n",
       "      <td>1</td>\n",
       "      <td>1</td>\n",
       "      <td>1</td>\n",
       "      <td>1</td>\n",
       "      <td>1</td>\n",
       "      <td>9216</td>\n",
       "      <td>0</td>\n",
       "      <td>(None, 48, 48, 8)</td>\n",
       "      <td>1</td>\n",
       "      <td>48</td>\n",
       "      <td>48</td>\n",
       "      <td>8</td>\n",
       "      <td>18432</td>\n",
       "      <td>27648</td>\n",
       "      <td>72</td>\n",
       "      <td>165888</td>\n",
       "    </tr>\n",
       "    <tr>\n",
       "      <th>2</th>\n",
       "      <td>2</td>\n",
       "      <td>bn_Conv1</td>\n",
       "      <td>&lt;class 'keras.layers.normalization.batch_norma...</td>\n",
       "      <td>(None, 48, 48, 8)</td>\n",
       "      <td>KerasTensor(type_spec=TensorSpec(shape=(None, ...</td>\n",
       "      <td>Conv1</td>\n",
       "      <td>(None, 48, 48, 8)</td>\n",
       "      <td>float32</td>\n",
       "      <td>32</td>\n",
       "      <td>4</td>\n",
       "      <td>(8)</td>\n",
       "      <td>bn_Conv1/gamma:0</td>\n",
       "      <td>&lt;dtype: 'float32'&gt;</td>\n",
       "      <td>0</td>\n",
       "      <td>0</td>\n",
       "      <td>0</td>\n",
       "      <td>0</td>\n",
       "      <td>0</td>\n",
       "      <td>0</td>\n",
       "      <td>0</td>\n",
       "      <td>0</td>\n",
       "      <td>0</td>\n",
       "      <td>0</td>\n",
       "      <td>0</td>\n",
       "      <td>0</td>\n",
       "      <td>0</td>\n",
       "      <td>Conv2D:0</td>\n",
       "      <td>NaN</td>\n",
       "      <td>NaN</td>\n",
       "      <td>(None, 48, 48, 8)</td>\n",
       "      <td>1</td>\n",
       "      <td>1</td>\n",
       "      <td>48</td>\n",
       "      <td>48</td>\n",
       "      <td>8</td>\n",
       "      <td>1</td>\n",
       "      <td>1</td>\n",
       "      <td>1</td>\n",
       "      <td>1</td>\n",
       "      <td>18432</td>\n",
       "      <td>0</td>\n",
       "      <td>(None, 48, 48, 8)</td>\n",
       "      <td>1</td>\n",
       "      <td>48</td>\n",
       "      <td>48</td>\n",
       "      <td>8</td>\n",
       "      <td>18432</td>\n",
       "      <td>36864</td>\n",
       "      <td>104</td>\n",
       "      <td>165888</td>\n",
       "    </tr>\n",
       "    <tr>\n",
       "      <th>3</th>\n",
       "      <td>3</td>\n",
       "      <td>Conv1_relu</td>\n",
       "      <td>&lt;class 'keras.layers.activation.relu.ReLU'&gt;</td>\n",
       "      <td>(None, 48, 48, 8)</td>\n",
       "      <td>KerasTensor(type_spec=TensorSpec(shape=(None, ...</td>\n",
       "      <td>bn_Conv1</td>\n",
       "      <td>(None, 48, 48, 8)</td>\n",
       "      <td>float32</td>\n",
       "      <td>0</td>\n",
       "      <td>0</td>\n",
       "      <td>0</td>\n",
       "      <td>0</td>\n",
       "      <td>0</td>\n",
       "      <td>0</td>\n",
       "      <td>0</td>\n",
       "      <td>0</td>\n",
       "      <td>0</td>\n",
       "      <td>0</td>\n",
       "      <td>0</td>\n",
       "      <td>0</td>\n",
       "      <td>0</td>\n",
       "      <td>0</td>\n",
       "      <td>0</td>\n",
       "      <td>0</td>\n",
       "      <td>0</td>\n",
       "      <td>0</td>\n",
       "      <td>FusedBatchNormV3:0</td>\n",
       "      <td>NaN</td>\n",
       "      <td>NaN</td>\n",
       "      <td>(None, 48, 48, 8)</td>\n",
       "      <td>1</td>\n",
       "      <td>1</td>\n",
       "      <td>48</td>\n",
       "      <td>48</td>\n",
       "      <td>8</td>\n",
       "      <td>1</td>\n",
       "      <td>1</td>\n",
       "      <td>1</td>\n",
       "      <td>1</td>\n",
       "      <td>18432</td>\n",
       "      <td>0</td>\n",
       "      <td>(None, 48, 48, 8)</td>\n",
       "      <td>1</td>\n",
       "      <td>48</td>\n",
       "      <td>48</td>\n",
       "      <td>8</td>\n",
       "      <td>18432</td>\n",
       "      <td>36864</td>\n",
       "      <td>104</td>\n",
       "      <td>165888</td>\n",
       "    </tr>\n",
       "    <tr>\n",
       "      <th>4</th>\n",
       "      <td>4</td>\n",
       "      <td>expanded_conv_depthwise</td>\n",
       "      <td>&lt;class 'keras.layers.convolutional.depthwise_c...</td>\n",
       "      <td>(None, 48, 48, 8)</td>\n",
       "      <td>KerasTensor(type_spec=TensorSpec(shape=(None, ...</td>\n",
       "      <td>Conv1_relu</td>\n",
       "      <td>(None, 48, 48, 8)</td>\n",
       "      <td>float32</td>\n",
       "      <td>72</td>\n",
       "      <td>1</td>\n",
       "      <td>(3, 3, 8, 1)</td>\n",
       "      <td>expanded_conv_depthwise/depthwise_kernel:0</td>\n",
       "      <td>&lt;dtype: 'float32'&gt;</td>\n",
       "      <td>18432</td>\n",
       "      <td>331776</td>\n",
       "      <td>165888</td>\n",
       "      <td>0</td>\n",
       "      <td>True</td>\n",
       "      <td>(3, 3)</td>\n",
       "      <td>(1, 1)</td>\n",
       "      <td>same</td>\n",
       "      <td>(1, 1)</td>\n",
       "      <td>1</td>\n",
       "      <td>linear</td>\n",
       "      <td>False</td>\n",
       "      <td>channels_last</td>\n",
       "      <td>Relu6:0</td>\n",
       "      <td>NaN</td>\n",
       "      <td>NaN</td>\n",
       "      <td>(None, 48, 48, 8)</td>\n",
       "      <td>1</td>\n",
       "      <td>1</td>\n",
       "      <td>48</td>\n",
       "      <td>48</td>\n",
       "      <td>8</td>\n",
       "      <td>1</td>\n",
       "      <td>1</td>\n",
       "      <td>1</td>\n",
       "      <td>1</td>\n",
       "      <td>18432</td>\n",
       "      <td>0</td>\n",
       "      <td>(None, 48, 48, 8)</td>\n",
       "      <td>1</td>\n",
       "      <td>48</td>\n",
       "      <td>48</td>\n",
       "      <td>8</td>\n",
       "      <td>18432</td>\n",
       "      <td>36864</td>\n",
       "      <td>176</td>\n",
       "      <td>331776</td>\n",
       "    </tr>\n",
       "    <tr>\n",
       "      <th>5</th>\n",
       "      <td>5</td>\n",
       "      <td>expanded_conv_depthwise_BN</td>\n",
       "      <td>&lt;class 'keras.layers.normalization.batch_norma...</td>\n",
       "      <td>(None, 48, 48, 8)</td>\n",
       "      <td>KerasTensor(type_spec=TensorSpec(shape=(None, ...</td>\n",
       "      <td>expanded_conv_depthwise</td>\n",
       "      <td>(None, 48, 48, 8)</td>\n",
       "      <td>float32</td>\n",
       "      <td>32</td>\n",
       "      <td>4</td>\n",
       "      <td>(8)</td>\n",
       "      <td>expanded_conv_depthwise_BN/gamma:0</td>\n",
       "      <td>&lt;dtype: 'float32'&gt;</td>\n",
       "      <td>0</td>\n",
       "      <td>0</td>\n",
       "      <td>0</td>\n",
       "      <td>0</td>\n",
       "      <td>0</td>\n",
       "      <td>0</td>\n",
       "      <td>0</td>\n",
       "      <td>0</td>\n",
       "      <td>0</td>\n",
       "      <td>0</td>\n",
       "      <td>0</td>\n",
       "      <td>0</td>\n",
       "      <td>0</td>\n",
       "      <td>depthwise:0</td>\n",
       "      <td>NaN</td>\n",
       "      <td>NaN</td>\n",
       "      <td>(None, 48, 48, 8)</td>\n",
       "      <td>1</td>\n",
       "      <td>1</td>\n",
       "      <td>48</td>\n",
       "      <td>48</td>\n",
       "      <td>8</td>\n",
       "      <td>1</td>\n",
       "      <td>1</td>\n",
       "      <td>1</td>\n",
       "      <td>1</td>\n",
       "      <td>18432</td>\n",
       "      <td>0</td>\n",
       "      <td>(None, 48, 48, 8)</td>\n",
       "      <td>1</td>\n",
       "      <td>48</td>\n",
       "      <td>48</td>\n",
       "      <td>8</td>\n",
       "      <td>18432</td>\n",
       "      <td>36864</td>\n",
       "      <td>208</td>\n",
       "      <td>331776</td>\n",
       "    </tr>\n",
       "    <tr>\n",
       "      <th>6</th>\n",
       "      <td>6</td>\n",
       "      <td>expanded_conv_depthwise_relu</td>\n",
       "      <td>&lt;class 'keras.layers.activation.relu.ReLU'&gt;</td>\n",
       "      <td>(None, 48, 48, 8)</td>\n",
       "      <td>KerasTensor(type_spec=TensorSpec(shape=(None, ...</td>\n",
       "      <td>expanded_conv_depthwise_BN</td>\n",
       "      <td>(None, 48, 48, 8)</td>\n",
       "      <td>float32</td>\n",
       "      <td>0</td>\n",
       "      <td>0</td>\n",
       "      <td>0</td>\n",
       "      <td>0</td>\n",
       "      <td>0</td>\n",
       "      <td>0</td>\n",
       "      <td>0</td>\n",
       "      <td>0</td>\n",
       "      <td>0</td>\n",
       "      <td>0</td>\n",
       "      <td>0</td>\n",
       "      <td>0</td>\n",
       "      <td>0</td>\n",
       "      <td>0</td>\n",
       "      <td>0</td>\n",
       "      <td>0</td>\n",
       "      <td>0</td>\n",
       "      <td>0</td>\n",
       "      <td>FusedBatchNormV3:0</td>\n",
       "      <td>NaN</td>\n",
       "      <td>NaN</td>\n",
       "      <td>(None, 48, 48, 8)</td>\n",
       "      <td>1</td>\n",
       "      <td>1</td>\n",
       "      <td>48</td>\n",
       "      <td>48</td>\n",
       "      <td>8</td>\n",
       "      <td>1</td>\n",
       "      <td>1</td>\n",
       "      <td>1</td>\n",
       "      <td>1</td>\n",
       "      <td>18432</td>\n",
       "      <td>0</td>\n",
       "      <td>(None, 48, 48, 8)</td>\n",
       "      <td>1</td>\n",
       "      <td>48</td>\n",
       "      <td>48</td>\n",
       "      <td>8</td>\n",
       "      <td>18432</td>\n",
       "      <td>36864</td>\n",
       "      <td>208</td>\n",
       "      <td>331776</td>\n",
       "    </tr>\n",
       "    <tr>\n",
       "      <th>7</th>\n",
       "      <td>7</td>\n",
       "      <td>expanded_conv_project</td>\n",
       "      <td>&lt;class 'keras.layers.convolutional.conv2d.Conv...</td>\n",
       "      <td>(None, 48, 48, 8)</td>\n",
       "      <td>KerasTensor(type_spec=TensorSpec(shape=(None, ...</td>\n",
       "      <td>expanded_conv_depthwise_relu</td>\n",
       "      <td>(None, 48, 48, 8)</td>\n",
       "      <td>float32</td>\n",
       "      <td>64</td>\n",
       "      <td>1</td>\n",
       "      <td>(1, 1, 8, 8)</td>\n",
       "      <td>expanded_conv_project/kernel:0</td>\n",
       "      <td>&lt;dtype: 'float32'&gt;</td>\n",
       "      <td>18432</td>\n",
       "      <td>294912</td>\n",
       "      <td>147456</td>\n",
       "      <td>8</td>\n",
       "      <td>True</td>\n",
       "      <td>(1, 1)</td>\n",
       "      <td>(1, 1)</td>\n",
       "      <td>same</td>\n",
       "      <td>(1, 1)</td>\n",
       "      <td>1</td>\n",
       "      <td>linear</td>\n",
       "      <td>False</td>\n",
       "      <td>channels_last</td>\n",
       "      <td>Relu6:0</td>\n",
       "      <td>NaN</td>\n",
       "      <td>NaN</td>\n",
       "      <td>(None, 48, 48, 8)</td>\n",
       "      <td>1</td>\n",
       "      <td>1</td>\n",
       "      <td>48</td>\n",
       "      <td>48</td>\n",
       "      <td>8</td>\n",
       "      <td>1</td>\n",
       "      <td>1</td>\n",
       "      <td>1</td>\n",
       "      <td>1</td>\n",
       "      <td>18432</td>\n",
       "      <td>0</td>\n",
       "      <td>(None, 48, 48, 8)</td>\n",
       "      <td>1</td>\n",
       "      <td>48</td>\n",
       "      <td>48</td>\n",
       "      <td>8</td>\n",
       "      <td>18432</td>\n",
       "      <td>36864</td>\n",
       "      <td>272</td>\n",
       "      <td>479232</td>\n",
       "    </tr>\n",
       "    <tr>\n",
       "      <th>8</th>\n",
       "      <td>8</td>\n",
       "      <td>expanded_conv_project_BN</td>\n",
       "      <td>&lt;class 'keras.layers.normalization.batch_norma...</td>\n",
       "      <td>(None, 48, 48, 8)</td>\n",
       "      <td>KerasTensor(type_spec=TensorSpec(shape=(None, ...</td>\n",
       "      <td>expanded_conv_project</td>\n",
       "      <td>(None, 48, 48, 8)</td>\n",
       "      <td>float32</td>\n",
       "      <td>32</td>\n",
       "      <td>4</td>\n",
       "      <td>(8)</td>\n",
       "      <td>expanded_conv_project_BN/gamma:0</td>\n",
       "      <td>&lt;dtype: 'float32'&gt;</td>\n",
       "      <td>0</td>\n",
       "      <td>0</td>\n",
       "      <td>0</td>\n",
       "      <td>0</td>\n",
       "      <td>0</td>\n",
       "      <td>0</td>\n",
       "      <td>0</td>\n",
       "      <td>0</td>\n",
       "      <td>0</td>\n",
       "      <td>0</td>\n",
       "      <td>0</td>\n",
       "      <td>0</td>\n",
       "      <td>0</td>\n",
       "      <td>Conv2D:0</td>\n",
       "      <td>NaN</td>\n",
       "      <td>NaN</td>\n",
       "      <td>(None, 48, 48, 8)</td>\n",
       "      <td>1</td>\n",
       "      <td>1</td>\n",
       "      <td>48</td>\n",
       "      <td>48</td>\n",
       "      <td>8</td>\n",
       "      <td>1</td>\n",
       "      <td>1</td>\n",
       "      <td>1</td>\n",
       "      <td>1</td>\n",
       "      <td>18432</td>\n",
       "      <td>0</td>\n",
       "      <td>(None, 48, 48, 8)</td>\n",
       "      <td>1</td>\n",
       "      <td>48</td>\n",
       "      <td>48</td>\n",
       "      <td>8</td>\n",
       "      <td>18432</td>\n",
       "      <td>36864</td>\n",
       "      <td>304</td>\n",
       "      <td>479232</td>\n",
       "    </tr>\n",
       "    <tr>\n",
       "      <th>9</th>\n",
       "      <td>9</td>\n",
       "      <td>expanded_conv_add</td>\n",
       "      <td>&lt;class 'keras.layers.merging.add.Add'&gt;</td>\n",
       "      <td>(None, 48, 48, 8)* (None, 48, 48, 8)</td>\n",
       "      <td>[KerasTensor(type_spec=TensorSpec(shape=(None,...</td>\n",
       "      <td>expanded_conv_project_BN</td>\n",
       "      <td>(None, 48, 48, 8)</td>\n",
       "      <td>float32</td>\n",
       "      <td>0</td>\n",
       "      <td>0</td>\n",
       "      <td>0</td>\n",
       "      <td>0</td>\n",
       "      <td>0</td>\n",
       "      <td>0</td>\n",
       "      <td>0</td>\n",
       "      <td>0</td>\n",
       "      <td>0</td>\n",
       "      <td>0</td>\n",
       "      <td>0</td>\n",
       "      <td>0</td>\n",
       "      <td>0</td>\n",
       "      <td>0</td>\n",
       "      <td>0</td>\n",
       "      <td>0</td>\n",
       "      <td>0</td>\n",
       "      <td>0</td>\n",
       "      <td>FusedBatchNormV3:0</td>\n",
       "      <td>Conv1_relu</td>\n",
       "      <td>Relu6:0</td>\n",
       "      <td>(None, 48, 48, 8)</td>\n",
       "      <td>(None, 48, 48, 8)</td>\n",
       "      <td>1</td>\n",
       "      <td>48</td>\n",
       "      <td>48</td>\n",
       "      <td>8</td>\n",
       "      <td>1</td>\n",
       "      <td>48</td>\n",
       "      <td>48</td>\n",
       "      <td>8</td>\n",
       "      <td>18432</td>\n",
       "      <td>18432</td>\n",
       "      <td>(None, 48, 48, 8)</td>\n",
       "      <td>1</td>\n",
       "      <td>48</td>\n",
       "      <td>48</td>\n",
       "      <td>8</td>\n",
       "      <td>18432</td>\n",
       "      <td>36864</td>\n",
       "      <td>304</td>\n",
       "      <td>479232</td>\n",
       "    </tr>\n",
       "    <tr>\n",
       "      <th>10</th>\n",
       "      <td>10</td>\n",
       "      <td>block_1_expand</td>\n",
       "      <td>&lt;class 'keras.layers.convolutional.conv2d.Conv...</td>\n",
       "      <td>(None, 48, 48, 8)</td>\n",
       "      <td>KerasTensor(type_spec=TensorSpec(shape=(None, ...</td>\n",
       "      <td>expanded_conv_add</td>\n",
       "      <td>(None, 48, 48, 48)</td>\n",
       "      <td>float32</td>\n",
       "      <td>384</td>\n",
       "      <td>1</td>\n",
       "      <td>(1, 1, 8, 48)</td>\n",
       "      <td>block_1_expand/kernel:0</td>\n",
       "      <td>&lt;dtype: 'float32'&gt;</td>\n",
       "      <td>110592</td>\n",
       "      <td>1769472</td>\n",
       "      <td>884736</td>\n",
       "      <td>48</td>\n",
       "      <td>True</td>\n",
       "      <td>(1, 1)</td>\n",
       "      <td>(1, 1)</td>\n",
       "      <td>same</td>\n",
       "      <td>(1, 1)</td>\n",
       "      <td>1</td>\n",
       "      <td>linear</td>\n",
       "      <td>False</td>\n",
       "      <td>channels_last</td>\n",
       "      <td>add:0</td>\n",
       "      <td>NaN</td>\n",
       "      <td>NaN</td>\n",
       "      <td>(None, 48, 48, 8)</td>\n",
       "      <td>1</td>\n",
       "      <td>1</td>\n",
       "      <td>48</td>\n",
       "      <td>48</td>\n",
       "      <td>8</td>\n",
       "      <td>1</td>\n",
       "      <td>1</td>\n",
       "      <td>1</td>\n",
       "      <td>1</td>\n",
       "      <td>18432</td>\n",
       "      <td>0</td>\n",
       "      <td>(None, 48, 48, 48)</td>\n",
       "      <td>1</td>\n",
       "      <td>48</td>\n",
       "      <td>48</td>\n",
       "      <td>48</td>\n",
       "      <td>110592</td>\n",
       "      <td>129024</td>\n",
       "      <td>688</td>\n",
       "      <td>1363968</td>\n",
       "    </tr>\n",
       "    <tr>\n",
       "      <th>11</th>\n",
       "      <td>11</td>\n",
       "      <td>block_1_expand_BN</td>\n",
       "      <td>&lt;class 'keras.layers.normalization.batch_norma...</td>\n",
       "      <td>(None, 48, 48, 48)</td>\n",
       "      <td>KerasTensor(type_spec=TensorSpec(shape=(None, ...</td>\n",
       "      <td>block_1_expand</td>\n",
       "      <td>(None, 48, 48, 48)</td>\n",
       "      <td>float32</td>\n",
       "      <td>192</td>\n",
       "      <td>4</td>\n",
       "      <td>(48)</td>\n",
       "      <td>block_1_expand_BN/gamma:0</td>\n",
       "      <td>&lt;dtype: 'float32'&gt;</td>\n",
       "      <td>0</td>\n",
       "      <td>0</td>\n",
       "      <td>0</td>\n",
       "      <td>0</td>\n",
       "      <td>0</td>\n",
       "      <td>0</td>\n",
       "      <td>0</td>\n",
       "      <td>0</td>\n",
       "      <td>0</td>\n",
       "      <td>0</td>\n",
       "      <td>0</td>\n",
       "      <td>0</td>\n",
       "      <td>0</td>\n",
       "      <td>Conv2D:0</td>\n",
       "      <td>NaN</td>\n",
       "      <td>NaN</td>\n",
       "      <td>(None, 48, 48, 48)</td>\n",
       "      <td>1</td>\n",
       "      <td>1</td>\n",
       "      <td>48</td>\n",
       "      <td>48</td>\n",
       "      <td>48</td>\n",
       "      <td>1</td>\n",
       "      <td>1</td>\n",
       "      <td>1</td>\n",
       "      <td>1</td>\n",
       "      <td>110592</td>\n",
       "      <td>0</td>\n",
       "      <td>(None, 48, 48, 48)</td>\n",
       "      <td>1</td>\n",
       "      <td>48</td>\n",
       "      <td>48</td>\n",
       "      <td>48</td>\n",
       "      <td>110592</td>\n",
       "      <td>221184</td>\n",
       "      <td>880</td>\n",
       "      <td>1363968</td>\n",
       "    </tr>\n",
       "  </tbody>\n",
       "</table>\n",
       "</div>"
      ],
      "text/plain": [
       "    index                          name  \\\n",
       "0       0                       input_1   \n",
       "1       1                         Conv1   \n",
       "2       2                      bn_Conv1   \n",
       "3       3                    Conv1_relu   \n",
       "4       4       expanded_conv_depthwise   \n",
       "5       5    expanded_conv_depthwise_BN   \n",
       "6       6  expanded_conv_depthwise_relu   \n",
       "7       7         expanded_conv_project   \n",
       "8       8      expanded_conv_project_BN   \n",
       "9       9             expanded_conv_add   \n",
       "10     10                block_1_expand   \n",
       "11     11             block_1_expand_BN   \n",
       "\n",
       "                                           layer_type  \\\n",
       "0       <class 'keras.engine.input_layer.InputLayer'>   \n",
       "1   <class 'keras.layers.convolutional.conv2d.Conv...   \n",
       "2   <class 'keras.layers.normalization.batch_norma...   \n",
       "3         <class 'keras.layers.activation.relu.ReLU'>   \n",
       "4   <class 'keras.layers.convolutional.depthwise_c...   \n",
       "5   <class 'keras.layers.normalization.batch_norma...   \n",
       "6         <class 'keras.layers.activation.relu.ReLU'>   \n",
       "7   <class 'keras.layers.convolutional.conv2d.Conv...   \n",
       "8   <class 'keras.layers.normalization.batch_norma...   \n",
       "9              <class 'keras.layers.merging.add.Add'>   \n",
       "10  <class 'keras.layers.convolutional.conv2d.Conv...   \n",
       "11  <class 'keras.layers.normalization.batch_norma...   \n",
       "\n",
       "                             input_shape  \\\n",
       "0                      (None, 96, 96, 1)   \n",
       "1                      (None, 96, 96, 1)   \n",
       "2                      (None, 48, 48, 8)   \n",
       "3                      (None, 48, 48, 8)   \n",
       "4                      (None, 48, 48, 8)   \n",
       "5                      (None, 48, 48, 8)   \n",
       "6                      (None, 48, 48, 8)   \n",
       "7                      (None, 48, 48, 8)   \n",
       "8                      (None, 48, 48, 8)   \n",
       "9   (None, 48, 48, 8)* (None, 48, 48, 8)   \n",
       "10                     (None, 48, 48, 8)   \n",
       "11                    (None, 48, 48, 48)   \n",
       "\n",
       "                                                input  \\\n",
       "0   KerasTensor(type_spec=TensorSpec(shape=(None, ...   \n",
       "1   KerasTensor(type_spec=TensorSpec(shape=(None, ...   \n",
       "2   KerasTensor(type_spec=TensorSpec(shape=(None, ...   \n",
       "3   KerasTensor(type_spec=TensorSpec(shape=(None, ...   \n",
       "4   KerasTensor(type_spec=TensorSpec(shape=(None, ...   \n",
       "5   KerasTensor(type_spec=TensorSpec(shape=(None, ...   \n",
       "6   KerasTensor(type_spec=TensorSpec(shape=(None, ...   \n",
       "7   KerasTensor(type_spec=TensorSpec(shape=(None, ...   \n",
       "8   KerasTensor(type_spec=TensorSpec(shape=(None, ...   \n",
       "9   [KerasTensor(type_spec=TensorSpec(shape=(None,...   \n",
       "10  KerasTensor(type_spec=TensorSpec(shape=(None, ...   \n",
       "11  KerasTensor(type_spec=TensorSpec(shape=(None, ...   \n",
       "\n",
       "                    input_node_1        output_shape    dtype  params  \\\n",
       "0                        input_1   (None, 96, 96, 1)  float32       0   \n",
       "1                        input_1   (None, 48, 48, 8)  float32      72   \n",
       "2                          Conv1   (None, 48, 48, 8)  float32      32   \n",
       "3                       bn_Conv1   (None, 48, 48, 8)  float32       0   \n",
       "4                     Conv1_relu   (None, 48, 48, 8)  float32      72   \n",
       "5        expanded_conv_depthwise   (None, 48, 48, 8)  float32      32   \n",
       "6     expanded_conv_depthwise_BN   (None, 48, 48, 8)  float32       0   \n",
       "7   expanded_conv_depthwise_relu   (None, 48, 48, 8)  float32      64   \n",
       "8          expanded_conv_project   (None, 48, 48, 8)  float32      32   \n",
       "9       expanded_conv_project_BN   (None, 48, 48, 8)  float32       0   \n",
       "10             expanded_conv_add  (None, 48, 48, 48)  float32     384   \n",
       "11                block_1_expand  (None, 48, 48, 48)  float32     192   \n",
       "\n",
       "    variables  weights_shape                                weights_name  \\\n",
       "0           0              0                                           0   \n",
       "1           1   (3, 3, 1, 8)                              Conv1/kernel:0   \n",
       "2           4            (8)                            bn_Conv1/gamma:0   \n",
       "3           0              0                                           0   \n",
       "4           1   (3, 3, 8, 1)  expanded_conv_depthwise/depthwise_kernel:0   \n",
       "5           4            (8)          expanded_conv_depthwise_BN/gamma:0   \n",
       "6           0              0                                           0   \n",
       "7           1   (1, 1, 8, 8)              expanded_conv_project/kernel:0   \n",
       "8           4            (8)            expanded_conv_project_BN/gamma:0   \n",
       "9           0              0                                           0   \n",
       "10          1  (1, 1, 8, 48)                     block_1_expand/kernel:0   \n",
       "11          4           (48)                   block_1_expand_BN/gamma:0   \n",
       "\n",
       "         weights_dtype  #_activations      OPS    MACS  filters trainable  \\\n",
       "0                    0              0        0       0        0         0   \n",
       "1   <dtype: 'float32'>          18432   331776  165888        8      True   \n",
       "2   <dtype: 'float32'>              0        0       0        0         0   \n",
       "3                    0              0        0       0        0         0   \n",
       "4   <dtype: 'float32'>          18432   331776  165888        0      True   \n",
       "5   <dtype: 'float32'>              0        0       0        0         0   \n",
       "6                    0              0        0       0        0         0   \n",
       "7   <dtype: 'float32'>          18432   294912  147456        8      True   \n",
       "8   <dtype: 'float32'>              0        0       0        0         0   \n",
       "9                    0              0        0       0        0         0   \n",
       "10  <dtype: 'float32'>         110592  1769472  884736       48      True   \n",
       "11  <dtype: 'float32'>              0        0       0        0         0   \n",
       "\n",
       "   kernel_size strides padding dilation_rate  groups activation use_bias  \\\n",
       "0            0       0       0             0       0          0        0   \n",
       "1       (3, 3)  (2, 2)    same        (1, 1)       1     linear    False   \n",
       "2            0       0       0             0       0          0        0   \n",
       "3            0       0       0             0       0          0        0   \n",
       "4       (3, 3)  (1, 1)    same        (1, 1)       1     linear    False   \n",
       "5            0       0       0             0       0          0        0   \n",
       "6            0       0       0             0       0          0        0   \n",
       "7       (1, 1)  (1, 1)    same        (1, 1)       1     linear    False   \n",
       "8            0       0       0             0       0          0        0   \n",
       "9            0       0       0             0       0          0        0   \n",
       "10      (1, 1)  (1, 1)    same        (1, 1)       1     linear    False   \n",
       "11           0       0       0             0       0          0        0   \n",
       "\n",
       "      data_format   input_node_type_1 input_node_0 input_node_type_0  \\\n",
       "0               0                 NaN          NaN               NaN   \n",
       "1   channels_last                 NaN          NaN               NaN   \n",
       "2               0            Conv2D:0          NaN               NaN   \n",
       "3               0  FusedBatchNormV3:0          NaN               NaN   \n",
       "4   channels_last             Relu6:0          NaN               NaN   \n",
       "5               0         depthwise:0          NaN               NaN   \n",
       "6               0  FusedBatchNormV3:0          NaN               NaN   \n",
       "7   channels_last             Relu6:0          NaN               NaN   \n",
       "8               0            Conv2D:0          NaN               NaN   \n",
       "9               0  FusedBatchNormV3:0   Conv1_relu           Relu6:0   \n",
       "10  channels_last               add:0          NaN               NaN   \n",
       "11              0            Conv2D:0          NaN               NaN   \n",
       "\n",
       "               input_1             input_2  b_i_1  h_i_1  w_i_1  c_i_1  b_i_2  \\\n",
       "0    (None, 96, 96, 1)                   1      1     96     96      1      1   \n",
       "1    (None, 96, 96, 1)                   1      1     96     96      1      1   \n",
       "2    (None, 48, 48, 8)                   1      1     48     48      8      1   \n",
       "3    (None, 48, 48, 8)                   1      1     48     48      8      1   \n",
       "4    (None, 48, 48, 8)                   1      1     48     48      8      1   \n",
       "5    (None, 48, 48, 8)                   1      1     48     48      8      1   \n",
       "6    (None, 48, 48, 8)                   1      1     48     48      8      1   \n",
       "7    (None, 48, 48, 8)                   1      1     48     48      8      1   \n",
       "8    (None, 48, 48, 8)                   1      1     48     48      8      1   \n",
       "9    (None, 48, 48, 8)   (None, 48, 48, 8)      1     48     48      8      1   \n",
       "10   (None, 48, 48, 8)                   1      1     48     48      8      1   \n",
       "11  (None, 48, 48, 48)                   1      1     48     48     48      1   \n",
       "\n",
       "    h_i_2  w_i_2  c_i_2  #i_1_activations  #i_2_activations  \\\n",
       "0       1      1      1              9216                 0   \n",
       "1       1      1      1              9216                 0   \n",
       "2       1      1      1             18432                 0   \n",
       "3       1      1      1             18432                 0   \n",
       "4       1      1      1             18432                 0   \n",
       "5       1      1      1             18432                 0   \n",
       "6       1      1      1             18432                 0   \n",
       "7       1      1      1             18432                 0   \n",
       "8       1      1      1             18432                 0   \n",
       "9      48     48      8             18432             18432   \n",
       "10      1      1      1             18432                 0   \n",
       "11      1      1      1            110592                 0   \n",
       "\n",
       "              output_1  b_o_1  h_o_1  w_o_1  c_o_1  #o_1_activations  \\\n",
       "0    (None, 96, 96, 1)      1     96     96      1              9216   \n",
       "1    (None, 48, 48, 8)      1     48     48      8             18432   \n",
       "2    (None, 48, 48, 8)      1     48     48      8             18432   \n",
       "3    (None, 48, 48, 8)      1     48     48      8             18432   \n",
       "4    (None, 48, 48, 8)      1     48     48      8             18432   \n",
       "5    (None, 48, 48, 8)      1     48     48      8             18432   \n",
       "6    (None, 48, 48, 8)      1     48     48      8             18432   \n",
       "7    (None, 48, 48, 8)      1     48     48      8             18432   \n",
       "8    (None, 48, 48, 8)      1     48     48      8             18432   \n",
       "9    (None, 48, 48, 8)      1     48     48      8             18432   \n",
       "10  (None, 48, 48, 48)      1     48     48     48            110592   \n",
       "11  (None, 48, 48, 48)      1     48     48     48            110592   \n",
       "\n",
       "    peak_activations  total_params  total_MACs  \n",
       "0              18432             0           0  \n",
       "1              27648            72      165888  \n",
       "2              36864           104      165888  \n",
       "3              36864           104      165888  \n",
       "4              36864           176      331776  \n",
       "5              36864           208      331776  \n",
       "6              36864           208      331776  \n",
       "7              36864           272      479232  \n",
       "8              36864           304      479232  \n",
       "9              36864           304      479232  \n",
       "10            129024           688     1363968  \n",
       "11            221184           880     1363968  "
      ]
     },
     "execution_count": 54,
     "metadata": {},
     "output_type": "execute_result"
    }
   ],
   "source": [
    "df.head(12)"
   ]
  },
  {
   "attachments": {},
   "cell_type": "markdown",
   "metadata": {},
   "source": [
    "# Working with Activations"
   ]
  },
  {
   "cell_type": "code",
   "execution_count": 223,
   "metadata": {},
   "outputs": [],
   "source": [
    "def get_unique_values_without_nan(df,col_name):\n",
    "    \"\"\"Retrieve list of unique column values, excluding nan\n",
    "\n",
    "    Args:\n",
    "        df (pd.DataFrame): pandas dataframe that contains the required column\n",
    "        col_name (string): name of a column in the pandas dataframe\n",
    "\n",
    "    Returns:\n",
    "        list: list of extracted unique values of the specified column\n",
    "    \"\"\"\n",
    "    try:\n",
    "        value_list = df[col_name].unique().tolist()\n",
    "        # exclude nan\n",
    "        value_list = [item for item in value_list if str(item) != 'nan']\n",
    "        return value_list\n",
    "    except:\n",
    "        print(f\"WARNING: Colum name {col_name} is not in this dataframe!\")\n",
    "\n",
    "        return []"
   ]
  },
  {
   "cell_type": "code",
   "execution_count": 227,
   "metadata": {},
   "outputs": [
    {
     "data": {
      "text/plain": [
       "['Conv1_relu',\n",
       " 'block_1_project_BN',\n",
       " 'block_3_project_BN',\n",
       " 'block_4_add',\n",
       " 'block_6_project_BN',\n",
       " 'block_7_add',\n",
       " 'block_8_add',\n",
       " 'block_10_project_BN',\n",
       " 'block_11_add',\n",
       " 'block_13_project_BN',\n",
       " 'block_14_add']"
      ]
     },
     "execution_count": 227,
     "metadata": {},
     "output_type": "execute_result"
    }
   ],
   "source": [
    "unique_values = get_unique_values_without_nan(df, \"input_node_0\")\n",
    "unique_values"
   ]
  },
  {
   "cell_type": "code",
   "execution_count": 233,
   "metadata": {},
   "outputs": [],
   "source": [
    "# fill activations from start node to end node\n",
    "\n",
    "for item in unique_values:\n",
    "    first_idx = df.loc[df[\"name\"] == item].index[0]\n",
    "    last_idx = df.loc[df[\"input_node_0\"] == item].index[0]\n",
    "\n",
    "    activations = df[\"#i_2_activations\"][last_idx]\n",
    "\n",
    "    # fill the corresponding rows with the extracted information\n",
    "    df.loc[first_idx: last_idx, \"#i_2_activations\"] = activations\n",
    "    #print(df[first_idx: last_idx+1])"
   ]
  },
  {
   "cell_type": "code",
   "execution_count": 56,
   "metadata": {},
   "outputs": [
    {
     "data": {
      "text/plain": [
       "Index(['index', 'name', 'layer_type', 'input_shape', 'input', 'input_node_1',\n",
       "       'output_shape', 'dtype', 'params', 'variables', 'weights_shape',\n",
       "       'weights_name', 'weights_dtype', '#_activations', 'OPS', 'MACS',\n",
       "       'filters', 'trainable', 'kernel_size', 'strides', 'padding',\n",
       "       'dilation_rate', 'groups', 'activation', 'use_bias', 'data_format',\n",
       "       'input_node_type_1', 'input_node_0', 'input_node_type_0', 'input_1',\n",
       "       'input_2', 'b_i_1', 'h_i_1', 'w_i_1', 'c_i_1', 'b_i_2', 'h_i_2',\n",
       "       'w_i_2', 'c_i_2', '#i_1_activations', '#i_2_activations', 'output_1',\n",
       "       'b_o_1', 'h_o_1', 'w_o_1', 'c_o_1', '#o_1_activations',\n",
       "       'peak_activations', 'total_params', 'total_MACs'],\n",
       "      dtype='object')"
      ]
     },
     "execution_count": 56,
     "metadata": {},
     "output_type": "execute_result"
    }
   ],
   "source": [
    "df.columns"
   ]
  },
  {
   "cell_type": "code",
   "execution_count": 204,
   "metadata": {},
   "outputs": [
    {
     "data": {
      "text/html": [
       "<div>\n",
       "<style scoped>\n",
       "    .dataframe tbody tr th:only-of-type {\n",
       "        vertical-align: middle;\n",
       "    }\n",
       "\n",
       "    .dataframe tbody tr th {\n",
       "        vertical-align: top;\n",
       "    }\n",
       "\n",
       "    .dataframe thead th {\n",
       "        text-align: right;\n",
       "    }\n",
       "</style>\n",
       "<table border=\"1\" class=\"dataframe\">\n",
       "  <thead>\n",
       "    <tr style=\"text-align: right;\">\n",
       "      <th></th>\n",
       "      <th>index</th>\n",
       "      <th>name</th>\n",
       "      <th>input_shape</th>\n",
       "      <th>input_node_1</th>\n",
       "      <th>#i_1_activations</th>\n",
       "      <th>input_node_0</th>\n",
       "      <th>#i_2_activations</th>\n",
       "      <th>input_shape</th>\n",
       "      <th>input_node_type_1</th>\n",
       "      <th>input_node_type_0</th>\n",
       "    </tr>\n",
       "  </thead>\n",
       "  <tbody>\n",
       "    <tr>\n",
       "      <th>0</th>\n",
       "      <td>0</td>\n",
       "      <td>input_1</td>\n",
       "      <td>(None, 96, 96, 1)</td>\n",
       "      <td>input_1</td>\n",
       "      <td>9216</td>\n",
       "      <td>NaN</td>\n",
       "      <td>0</td>\n",
       "      <td>(None, 96, 96, 1)</td>\n",
       "      <td>NaN</td>\n",
       "      <td>NaN</td>\n",
       "    </tr>\n",
       "    <tr>\n",
       "      <th>1</th>\n",
       "      <td>1</td>\n",
       "      <td>Conv1</td>\n",
       "      <td>(None, 96, 96, 1)</td>\n",
       "      <td>input_1</td>\n",
       "      <td>9216</td>\n",
       "      <td>NaN</td>\n",
       "      <td>0</td>\n",
       "      <td>(None, 96, 96, 1)</td>\n",
       "      <td>NaN</td>\n",
       "      <td>NaN</td>\n",
       "    </tr>\n",
       "    <tr>\n",
       "      <th>2</th>\n",
       "      <td>2</td>\n",
       "      <td>bn_Conv1</td>\n",
       "      <td>(None, 48, 48, 8)</td>\n",
       "      <td>Conv1</td>\n",
       "      <td>18432</td>\n",
       "      <td>NaN</td>\n",
       "      <td>0</td>\n",
       "      <td>(None, 48, 48, 8)</td>\n",
       "      <td>Conv2D:0</td>\n",
       "      <td>NaN</td>\n",
       "    </tr>\n",
       "    <tr>\n",
       "      <th>3</th>\n",
       "      <td>3</td>\n",
       "      <td>Conv1_relu</td>\n",
       "      <td>(None, 48, 48, 8)</td>\n",
       "      <td>bn_Conv1</td>\n",
       "      <td>18432</td>\n",
       "      <td>NaN</td>\n",
       "      <td>0</td>\n",
       "      <td>(None, 48, 48, 8)</td>\n",
       "      <td>FusedBatchNormV3:0</td>\n",
       "      <td>NaN</td>\n",
       "    </tr>\n",
       "    <tr>\n",
       "      <th>4</th>\n",
       "      <td>4</td>\n",
       "      <td>expanded_conv_depthwise</td>\n",
       "      <td>(None, 48, 48, 8)</td>\n",
       "      <td>Conv1_relu</td>\n",
       "      <td>18432</td>\n",
       "      <td>NaN</td>\n",
       "      <td>0</td>\n",
       "      <td>(None, 48, 48, 8)</td>\n",
       "      <td>Relu6:0</td>\n",
       "      <td>NaN</td>\n",
       "    </tr>\n",
       "    <tr>\n",
       "      <th>5</th>\n",
       "      <td>5</td>\n",
       "      <td>expanded_conv_depthwise_BN</td>\n",
       "      <td>(None, 48, 48, 8)</td>\n",
       "      <td>expanded_conv_depthwise</td>\n",
       "      <td>18432</td>\n",
       "      <td>NaN</td>\n",
       "      <td>0</td>\n",
       "      <td>(None, 48, 48, 8)</td>\n",
       "      <td>depthwise:0</td>\n",
       "      <td>NaN</td>\n",
       "    </tr>\n",
       "    <tr>\n",
       "      <th>6</th>\n",
       "      <td>6</td>\n",
       "      <td>expanded_conv_depthwise_relu</td>\n",
       "      <td>(None, 48, 48, 8)</td>\n",
       "      <td>expanded_conv_depthwise_BN</td>\n",
       "      <td>18432</td>\n",
       "      <td>NaN</td>\n",
       "      <td>0</td>\n",
       "      <td>(None, 48, 48, 8)</td>\n",
       "      <td>FusedBatchNormV3:0</td>\n",
       "      <td>NaN</td>\n",
       "    </tr>\n",
       "    <tr>\n",
       "      <th>7</th>\n",
       "      <td>7</td>\n",
       "      <td>expanded_conv_project</td>\n",
       "      <td>(None, 48, 48, 8)</td>\n",
       "      <td>expanded_conv_depthwise_relu</td>\n",
       "      <td>18432</td>\n",
       "      <td>NaN</td>\n",
       "      <td>0</td>\n",
       "      <td>(None, 48, 48, 8)</td>\n",
       "      <td>Relu6:0</td>\n",
       "      <td>NaN</td>\n",
       "    </tr>\n",
       "    <tr>\n",
       "      <th>8</th>\n",
       "      <td>8</td>\n",
       "      <td>expanded_conv_project_BN</td>\n",
       "      <td>(None, 48, 48, 8)</td>\n",
       "      <td>expanded_conv_project</td>\n",
       "      <td>18432</td>\n",
       "      <td>NaN</td>\n",
       "      <td>0</td>\n",
       "      <td>(None, 48, 48, 8)</td>\n",
       "      <td>Conv2D:0</td>\n",
       "      <td>NaN</td>\n",
       "    </tr>\n",
       "    <tr>\n",
       "      <th>9</th>\n",
       "      <td>9</td>\n",
       "      <td>expanded_conv_add</td>\n",
       "      <td>(None, 48, 48, 8)* (None, 48, 48, 8)</td>\n",
       "      <td>expanded_conv_project_BN</td>\n",
       "      <td>18432</td>\n",
       "      <td>Conv1_relu</td>\n",
       "      <td>18432</td>\n",
       "      <td>(None, 48, 48, 8)* (None, 48, 48, 8)</td>\n",
       "      <td>FusedBatchNormV3:0</td>\n",
       "      <td>Relu6:0</td>\n",
       "    </tr>\n",
       "    <tr>\n",
       "      <th>10</th>\n",
       "      <td>10</td>\n",
       "      <td>block_1_expand</td>\n",
       "      <td>(None, 48, 48, 8)</td>\n",
       "      <td>expanded_conv_add</td>\n",
       "      <td>18432</td>\n",
       "      <td>NaN</td>\n",
       "      <td>0</td>\n",
       "      <td>(None, 48, 48, 8)</td>\n",
       "      <td>add:0</td>\n",
       "      <td>NaN</td>\n",
       "    </tr>\n",
       "    <tr>\n",
       "      <th>11</th>\n",
       "      <td>11</td>\n",
       "      <td>block_1_expand_BN</td>\n",
       "      <td>(None, 48, 48, 48)</td>\n",
       "      <td>block_1_expand</td>\n",
       "      <td>110592</td>\n",
       "      <td>NaN</td>\n",
       "      <td>0</td>\n",
       "      <td>(None, 48, 48, 48)</td>\n",
       "      <td>Conv2D:0</td>\n",
       "      <td>NaN</td>\n",
       "    </tr>\n",
       "    <tr>\n",
       "      <th>12</th>\n",
       "      <td>12</td>\n",
       "      <td>block_1_expand_relu</td>\n",
       "      <td>(None, 48, 48, 48)</td>\n",
       "      <td>block_1_expand_BN</td>\n",
       "      <td>110592</td>\n",
       "      <td>NaN</td>\n",
       "      <td>0</td>\n",
       "      <td>(None, 48, 48, 48)</td>\n",
       "      <td>FusedBatchNormV3:0</td>\n",
       "      <td>NaN</td>\n",
       "    </tr>\n",
       "    <tr>\n",
       "      <th>13</th>\n",
       "      <td>13</td>\n",
       "      <td>block_1_pad</td>\n",
       "      <td>(None, 48, 48, 48)</td>\n",
       "      <td>block_1_expand_relu</td>\n",
       "      <td>110592</td>\n",
       "      <td>NaN</td>\n",
       "      <td>0</td>\n",
       "      <td>(None, 48, 48, 48)</td>\n",
       "      <td>Relu6:0</td>\n",
       "      <td>NaN</td>\n",
       "    </tr>\n",
       "    <tr>\n",
       "      <th>14</th>\n",
       "      <td>14</td>\n",
       "      <td>block_1_depthwise</td>\n",
       "      <td>(None, 49, 49, 48)</td>\n",
       "      <td>block_1_pad</td>\n",
       "      <td>115248</td>\n",
       "      <td>NaN</td>\n",
       "      <td>0</td>\n",
       "      <td>(None, 49, 49, 48)</td>\n",
       "      <td>Pad:0</td>\n",
       "      <td>NaN</td>\n",
       "    </tr>\n",
       "    <tr>\n",
       "      <th>15</th>\n",
       "      <td>15</td>\n",
       "      <td>block_1_depthwise_BN</td>\n",
       "      <td>(None, 24, 24, 48)</td>\n",
       "      <td>block_1_depthwise</td>\n",
       "      <td>27648</td>\n",
       "      <td>NaN</td>\n",
       "      <td>0</td>\n",
       "      <td>(None, 24, 24, 48)</td>\n",
       "      <td>depthwise:0</td>\n",
       "      <td>NaN</td>\n",
       "    </tr>\n",
       "    <tr>\n",
       "      <th>16</th>\n",
       "      <td>16</td>\n",
       "      <td>block_1_depthwise_relu</td>\n",
       "      <td>(None, 24, 24, 48)</td>\n",
       "      <td>block_1_depthwise_BN</td>\n",
       "      <td>27648</td>\n",
       "      <td>NaN</td>\n",
       "      <td>0</td>\n",
       "      <td>(None, 24, 24, 48)</td>\n",
       "      <td>FusedBatchNormV3:0</td>\n",
       "      <td>NaN</td>\n",
       "    </tr>\n",
       "    <tr>\n",
       "      <th>17</th>\n",
       "      <td>17</td>\n",
       "      <td>block_1_project</td>\n",
       "      <td>(None, 24, 24, 48)</td>\n",
       "      <td>block_1_depthwise_relu</td>\n",
       "      <td>27648</td>\n",
       "      <td>NaN</td>\n",
       "      <td>0</td>\n",
       "      <td>(None, 24, 24, 48)</td>\n",
       "      <td>Relu6:0</td>\n",
       "      <td>NaN</td>\n",
       "    </tr>\n",
       "    <tr>\n",
       "      <th>18</th>\n",
       "      <td>18</td>\n",
       "      <td>block_1_project_BN</td>\n",
       "      <td>(None, 24, 24, 8)</td>\n",
       "      <td>block_1_project</td>\n",
       "      <td>4608</td>\n",
       "      <td>NaN</td>\n",
       "      <td>0</td>\n",
       "      <td>(None, 24, 24, 8)</td>\n",
       "      <td>Conv2D:0</td>\n",
       "      <td>NaN</td>\n",
       "    </tr>\n",
       "    <tr>\n",
       "      <th>19</th>\n",
       "      <td>19</td>\n",
       "      <td>block_2_expand</td>\n",
       "      <td>(None, 24, 24, 8)</td>\n",
       "      <td>block_1_project_BN</td>\n",
       "      <td>4608</td>\n",
       "      <td>NaN</td>\n",
       "      <td>0</td>\n",
       "      <td>(None, 24, 24, 8)</td>\n",
       "      <td>FusedBatchNormV3:0</td>\n",
       "      <td>NaN</td>\n",
       "    </tr>\n",
       "  </tbody>\n",
       "</table>\n",
       "</div>"
      ],
      "text/plain": [
       "    index                          name                           input_shape  \\\n",
       "0       0                       input_1                     (None, 96, 96, 1)   \n",
       "1       1                         Conv1                     (None, 96, 96, 1)   \n",
       "2       2                      bn_Conv1                     (None, 48, 48, 8)   \n",
       "3       3                    Conv1_relu                     (None, 48, 48, 8)   \n",
       "4       4       expanded_conv_depthwise                     (None, 48, 48, 8)   \n",
       "5       5    expanded_conv_depthwise_BN                     (None, 48, 48, 8)   \n",
       "6       6  expanded_conv_depthwise_relu                     (None, 48, 48, 8)   \n",
       "7       7         expanded_conv_project                     (None, 48, 48, 8)   \n",
       "8       8      expanded_conv_project_BN                     (None, 48, 48, 8)   \n",
       "9       9             expanded_conv_add  (None, 48, 48, 8)* (None, 48, 48, 8)   \n",
       "10     10                block_1_expand                     (None, 48, 48, 8)   \n",
       "11     11             block_1_expand_BN                    (None, 48, 48, 48)   \n",
       "12     12           block_1_expand_relu                    (None, 48, 48, 48)   \n",
       "13     13                   block_1_pad                    (None, 48, 48, 48)   \n",
       "14     14             block_1_depthwise                    (None, 49, 49, 48)   \n",
       "15     15          block_1_depthwise_BN                    (None, 24, 24, 48)   \n",
       "16     16        block_1_depthwise_relu                    (None, 24, 24, 48)   \n",
       "17     17               block_1_project                    (None, 24, 24, 48)   \n",
       "18     18            block_1_project_BN                     (None, 24, 24, 8)   \n",
       "19     19                block_2_expand                     (None, 24, 24, 8)   \n",
       "\n",
       "                    input_node_1  #i_1_activations input_node_0  \\\n",
       "0                        input_1              9216          NaN   \n",
       "1                        input_1              9216          NaN   \n",
       "2                          Conv1             18432          NaN   \n",
       "3                       bn_Conv1             18432          NaN   \n",
       "4                     Conv1_relu             18432          NaN   \n",
       "5        expanded_conv_depthwise             18432          NaN   \n",
       "6     expanded_conv_depthwise_BN             18432          NaN   \n",
       "7   expanded_conv_depthwise_relu             18432          NaN   \n",
       "8          expanded_conv_project             18432          NaN   \n",
       "9       expanded_conv_project_BN             18432   Conv1_relu   \n",
       "10             expanded_conv_add             18432          NaN   \n",
       "11                block_1_expand            110592          NaN   \n",
       "12             block_1_expand_BN            110592          NaN   \n",
       "13           block_1_expand_relu            110592          NaN   \n",
       "14                   block_1_pad            115248          NaN   \n",
       "15             block_1_depthwise             27648          NaN   \n",
       "16          block_1_depthwise_BN             27648          NaN   \n",
       "17        block_1_depthwise_relu             27648          NaN   \n",
       "18               block_1_project              4608          NaN   \n",
       "19            block_1_project_BN              4608          NaN   \n",
       "\n",
       "    #i_2_activations                           input_shape  \\\n",
       "0                  0                     (None, 96, 96, 1)   \n",
       "1                  0                     (None, 96, 96, 1)   \n",
       "2                  0                     (None, 48, 48, 8)   \n",
       "3                  0                     (None, 48, 48, 8)   \n",
       "4                  0                     (None, 48, 48, 8)   \n",
       "5                  0                     (None, 48, 48, 8)   \n",
       "6                  0                     (None, 48, 48, 8)   \n",
       "7                  0                     (None, 48, 48, 8)   \n",
       "8                  0                     (None, 48, 48, 8)   \n",
       "9              18432  (None, 48, 48, 8)* (None, 48, 48, 8)   \n",
       "10                 0                     (None, 48, 48, 8)   \n",
       "11                 0                    (None, 48, 48, 48)   \n",
       "12                 0                    (None, 48, 48, 48)   \n",
       "13                 0                    (None, 48, 48, 48)   \n",
       "14                 0                    (None, 49, 49, 48)   \n",
       "15                 0                    (None, 24, 24, 48)   \n",
       "16                 0                    (None, 24, 24, 48)   \n",
       "17                 0                    (None, 24, 24, 48)   \n",
       "18                 0                     (None, 24, 24, 8)   \n",
       "19                 0                     (None, 24, 24, 8)   \n",
       "\n",
       "     input_node_type_1 input_node_type_0  \n",
       "0                  NaN               NaN  \n",
       "1                  NaN               NaN  \n",
       "2             Conv2D:0               NaN  \n",
       "3   FusedBatchNormV3:0               NaN  \n",
       "4              Relu6:0               NaN  \n",
       "5          depthwise:0               NaN  \n",
       "6   FusedBatchNormV3:0               NaN  \n",
       "7              Relu6:0               NaN  \n",
       "8             Conv2D:0               NaN  \n",
       "9   FusedBatchNormV3:0           Relu6:0  \n",
       "10               add:0               NaN  \n",
       "11            Conv2D:0               NaN  \n",
       "12  FusedBatchNormV3:0               NaN  \n",
       "13             Relu6:0               NaN  \n",
       "14               Pad:0               NaN  \n",
       "15         depthwise:0               NaN  \n",
       "16  FusedBatchNormV3:0               NaN  \n",
       "17             Relu6:0               NaN  \n",
       "18            Conv2D:0               NaN  \n",
       "19  FusedBatchNormV3:0               NaN  "
      ]
     },
     "execution_count": 204,
     "metadata": {},
     "output_type": "execute_result"
    }
   ],
   "source": [
    "activation_cols = [\"index\", \"name\", \"input_shape\", \"input_node_1\", \"#i_1_activations\" , \"input_node_0\", \"#i_2_activations\", \"input_shape\", \"input_node_type_1\", \"input_node_type_0\"]\n",
    "df_activations = df[activation_cols].copy()\n",
    "df_activations.head(20)"
   ]
  },
  {
   "cell_type": "code",
   "execution_count": 221,
   "metadata": {},
   "outputs": [],
   "source": [
    "# fill activations from start node to end node\n",
    "\n",
    "for item in second_inputs:\n",
    "    first_idx = df_activations.loc[df_activations[\"name\"] == item].index[0]\n",
    "    last_idx = df_activations.loc[df_activations[\"input_node_0\"] == item].index[0]\n",
    "\n",
    "    activations = df_activations[\"#i_2_activations\"][last_idx]\n",
    "    df_activations.loc[first_idx: last_idx, \"#i_2_activations\"] = activations\n",
    "    #print(df_activations[first_idx: last_idx+1])\n",
    "    \n",
    "\n",
    "    "
   ]
  },
  {
   "cell_type": "code",
   "execution_count": 208,
   "metadata": {},
   "outputs": [],
   "source": [
    "input_name = \"Conv1_relu\""
   ]
  },
  {
   "cell_type": "code",
   "execution_count": 209,
   "metadata": {},
   "outputs": [
    {
     "data": {
      "text/plain": [
       "9"
      ]
     },
     "execution_count": 209,
     "metadata": {},
     "output_type": "execute_result"
    }
   ],
   "source": [
    "first_idx = df_activations.loc[df_activations[\"name\"] == input_name].index[0]\n",
    "last_idx = df_activations.loc[df_activations[\"input_node_0\"] == input_name].index[0]\n",
    "last_idx"
   ]
  },
  {
   "cell_type": "code",
   "execution_count": 210,
   "metadata": {},
   "outputs": [
    {
     "data": {
      "text/html": [
       "<div>\n",
       "<style scoped>\n",
       "    .dataframe tbody tr th:only-of-type {\n",
       "        vertical-align: middle;\n",
       "    }\n",
       "\n",
       "    .dataframe tbody tr th {\n",
       "        vertical-align: top;\n",
       "    }\n",
       "\n",
       "    .dataframe thead th {\n",
       "        text-align: right;\n",
       "    }\n",
       "</style>\n",
       "<table border=\"1\" class=\"dataframe\">\n",
       "  <thead>\n",
       "    <tr style=\"text-align: right;\">\n",
       "      <th></th>\n",
       "      <th>index</th>\n",
       "      <th>name</th>\n",
       "      <th>input_shape</th>\n",
       "      <th>input_node_1</th>\n",
       "      <th>#i_1_activations</th>\n",
       "      <th>input_node_0</th>\n",
       "      <th>#i_2_activations</th>\n",
       "      <th>input_shape</th>\n",
       "      <th>input_node_type_1</th>\n",
       "      <th>input_node_type_0</th>\n",
       "    </tr>\n",
       "  </thead>\n",
       "  <tbody>\n",
       "    <tr>\n",
       "      <th>3</th>\n",
       "      <td>3</td>\n",
       "      <td>Conv1_relu</td>\n",
       "      <td>(None, 48, 48, 8)</td>\n",
       "      <td>bn_Conv1</td>\n",
       "      <td>18432</td>\n",
       "      <td>NaN</td>\n",
       "      <td>18432</td>\n",
       "      <td>(None, 48, 48, 8)</td>\n",
       "      <td>FusedBatchNormV3:0</td>\n",
       "      <td>NaN</td>\n",
       "    </tr>\n",
       "    <tr>\n",
       "      <th>4</th>\n",
       "      <td>4</td>\n",
       "      <td>expanded_conv_depthwise</td>\n",
       "      <td>(None, 48, 48, 8)</td>\n",
       "      <td>Conv1_relu</td>\n",
       "      <td>18432</td>\n",
       "      <td>NaN</td>\n",
       "      <td>18432</td>\n",
       "      <td>(None, 48, 48, 8)</td>\n",
       "      <td>Relu6:0</td>\n",
       "      <td>NaN</td>\n",
       "    </tr>\n",
       "    <tr>\n",
       "      <th>5</th>\n",
       "      <td>5</td>\n",
       "      <td>expanded_conv_depthwise_BN</td>\n",
       "      <td>(None, 48, 48, 8)</td>\n",
       "      <td>expanded_conv_depthwise</td>\n",
       "      <td>18432</td>\n",
       "      <td>NaN</td>\n",
       "      <td>18432</td>\n",
       "      <td>(None, 48, 48, 8)</td>\n",
       "      <td>depthwise:0</td>\n",
       "      <td>NaN</td>\n",
       "    </tr>\n",
       "    <tr>\n",
       "      <th>6</th>\n",
       "      <td>6</td>\n",
       "      <td>expanded_conv_depthwise_relu</td>\n",
       "      <td>(None, 48, 48, 8)</td>\n",
       "      <td>expanded_conv_depthwise_BN</td>\n",
       "      <td>18432</td>\n",
       "      <td>NaN</td>\n",
       "      <td>18432</td>\n",
       "      <td>(None, 48, 48, 8)</td>\n",
       "      <td>FusedBatchNormV3:0</td>\n",
       "      <td>NaN</td>\n",
       "    </tr>\n",
       "    <tr>\n",
       "      <th>7</th>\n",
       "      <td>7</td>\n",
       "      <td>expanded_conv_project</td>\n",
       "      <td>(None, 48, 48, 8)</td>\n",
       "      <td>expanded_conv_depthwise_relu</td>\n",
       "      <td>18432</td>\n",
       "      <td>NaN</td>\n",
       "      <td>18432</td>\n",
       "      <td>(None, 48, 48, 8)</td>\n",
       "      <td>Relu6:0</td>\n",
       "      <td>NaN</td>\n",
       "    </tr>\n",
       "    <tr>\n",
       "      <th>8</th>\n",
       "      <td>8</td>\n",
       "      <td>expanded_conv_project_BN</td>\n",
       "      <td>(None, 48, 48, 8)</td>\n",
       "      <td>expanded_conv_project</td>\n",
       "      <td>18432</td>\n",
       "      <td>NaN</td>\n",
       "      <td>18432</td>\n",
       "      <td>(None, 48, 48, 8)</td>\n",
       "      <td>Conv2D:0</td>\n",
       "      <td>NaN</td>\n",
       "    </tr>\n",
       "    <tr>\n",
       "      <th>9</th>\n",
       "      <td>9</td>\n",
       "      <td>expanded_conv_add</td>\n",
       "      <td>(None, 48, 48, 8)* (None, 48, 48, 8)</td>\n",
       "      <td>expanded_conv_project_BN</td>\n",
       "      <td>18432</td>\n",
       "      <td>Conv1_relu</td>\n",
       "      <td>18432</td>\n",
       "      <td>(None, 48, 48, 8)* (None, 48, 48, 8)</td>\n",
       "      <td>FusedBatchNormV3:0</td>\n",
       "      <td>Relu6:0</td>\n",
       "    </tr>\n",
       "  </tbody>\n",
       "</table>\n",
       "</div>"
      ],
      "text/plain": [
       "   index                          name                           input_shape  \\\n",
       "3      3                    Conv1_relu                     (None, 48, 48, 8)   \n",
       "4      4       expanded_conv_depthwise                     (None, 48, 48, 8)   \n",
       "5      5    expanded_conv_depthwise_BN                     (None, 48, 48, 8)   \n",
       "6      6  expanded_conv_depthwise_relu                     (None, 48, 48, 8)   \n",
       "7      7         expanded_conv_project                     (None, 48, 48, 8)   \n",
       "8      8      expanded_conv_project_BN                     (None, 48, 48, 8)   \n",
       "9      9             expanded_conv_add  (None, 48, 48, 8)* (None, 48, 48, 8)   \n",
       "\n",
       "                   input_node_1  #i_1_activations input_node_0  \\\n",
       "3                      bn_Conv1             18432          NaN   \n",
       "4                    Conv1_relu             18432          NaN   \n",
       "5       expanded_conv_depthwise             18432          NaN   \n",
       "6    expanded_conv_depthwise_BN             18432          NaN   \n",
       "7  expanded_conv_depthwise_relu             18432          NaN   \n",
       "8         expanded_conv_project             18432          NaN   \n",
       "9      expanded_conv_project_BN             18432   Conv1_relu   \n",
       "\n",
       "   #i_2_activations                           input_shape   input_node_type_1  \\\n",
       "3             18432                     (None, 48, 48, 8)  FusedBatchNormV3:0   \n",
       "4             18432                     (None, 48, 48, 8)             Relu6:0   \n",
       "5             18432                     (None, 48, 48, 8)         depthwise:0   \n",
       "6             18432                     (None, 48, 48, 8)  FusedBatchNormV3:0   \n",
       "7             18432                     (None, 48, 48, 8)             Relu6:0   \n",
       "8             18432                     (None, 48, 48, 8)            Conv2D:0   \n",
       "9             18432  (None, 48, 48, 8)* (None, 48, 48, 8)  FusedBatchNormV3:0   \n",
       "\n",
       "  input_node_type_0  \n",
       "3               NaN  \n",
       "4               NaN  \n",
       "5               NaN  \n",
       "6               NaN  \n",
       "7               NaN  \n",
       "8               NaN  \n",
       "9           Relu6:0  "
      ]
     },
     "execution_count": 210,
     "metadata": {},
     "output_type": "execute_result"
    }
   ],
   "source": [
    "df_activations[first_idx: last_idx+1]"
   ]
  },
  {
   "cell_type": "code",
   "execution_count": 211,
   "metadata": {},
   "outputs": [
    {
     "data": {
      "text/plain": [
       "index                                                   9\n",
       "name                                    expanded_conv_add\n",
       "input_shape          (None, 48, 48, 8)* (None, 48, 48, 8)\n",
       "input_node_1                     expanded_conv_project_BN\n",
       "#i_1_activations                                    18432\n",
       "input_node_0                                   Conv1_relu\n",
       "#i_2_activations                                    18432\n",
       "input_shape          (None, 48, 48, 8)* (None, 48, 48, 8)\n",
       "input_node_type_1                      FusedBatchNormV3:0\n",
       "input_node_type_0                                 Relu6:0\n",
       "Name: 9, dtype: object"
      ]
     },
     "execution_count": 211,
     "metadata": {},
     "output_type": "execute_result"
    }
   ],
   "source": [
    "df_activations.loc[last_idx]"
   ]
  },
  {
   "cell_type": "code",
   "execution_count": 212,
   "metadata": {},
   "outputs": [
    {
     "data": {
      "text/plain": [
       "18432"
      ]
     },
     "execution_count": 212,
     "metadata": {},
     "output_type": "execute_result"
    }
   ],
   "source": [
    "activations = df_activations[\"#i_2_activations\"][last_idx]\n",
    "activations"
   ]
  },
  {
   "cell_type": "code",
   "execution_count": 213,
   "metadata": {},
   "outputs": [],
   "source": [
    "df_activations.loc[first_idx: last_idx, \"#i_2_activations\"] = activations"
   ]
  },
  {
   "cell_type": "code",
   "execution_count": 214,
   "metadata": {},
   "outputs": [
    {
     "data": {
      "text/html": [
       "<div>\n",
       "<style scoped>\n",
       "    .dataframe tbody tr th:only-of-type {\n",
       "        vertical-align: middle;\n",
       "    }\n",
       "\n",
       "    .dataframe tbody tr th {\n",
       "        vertical-align: top;\n",
       "    }\n",
       "\n",
       "    .dataframe thead th {\n",
       "        text-align: right;\n",
       "    }\n",
       "</style>\n",
       "<table border=\"1\" class=\"dataframe\">\n",
       "  <thead>\n",
       "    <tr style=\"text-align: right;\">\n",
       "      <th></th>\n",
       "      <th>index</th>\n",
       "      <th>name</th>\n",
       "      <th>input_shape</th>\n",
       "      <th>input_node_1</th>\n",
       "      <th>#i_1_activations</th>\n",
       "      <th>input_node_0</th>\n",
       "      <th>#i_2_activations</th>\n",
       "      <th>input_shape</th>\n",
       "      <th>input_node_type_1</th>\n",
       "      <th>input_node_type_0</th>\n",
       "    </tr>\n",
       "  </thead>\n",
       "  <tbody>\n",
       "    <tr>\n",
       "      <th>0</th>\n",
       "      <td>0</td>\n",
       "      <td>input_1</td>\n",
       "      <td>(None, 96, 96, 1)</td>\n",
       "      <td>input_1</td>\n",
       "      <td>9216</td>\n",
       "      <td>NaN</td>\n",
       "      <td>0</td>\n",
       "      <td>(None, 96, 96, 1)</td>\n",
       "      <td>NaN</td>\n",
       "      <td>NaN</td>\n",
       "    </tr>\n",
       "    <tr>\n",
       "      <th>1</th>\n",
       "      <td>1</td>\n",
       "      <td>Conv1</td>\n",
       "      <td>(None, 96, 96, 1)</td>\n",
       "      <td>input_1</td>\n",
       "      <td>9216</td>\n",
       "      <td>NaN</td>\n",
       "      <td>0</td>\n",
       "      <td>(None, 96, 96, 1)</td>\n",
       "      <td>NaN</td>\n",
       "      <td>NaN</td>\n",
       "    </tr>\n",
       "    <tr>\n",
       "      <th>2</th>\n",
       "      <td>2</td>\n",
       "      <td>bn_Conv1</td>\n",
       "      <td>(None, 48, 48, 8)</td>\n",
       "      <td>Conv1</td>\n",
       "      <td>18432</td>\n",
       "      <td>NaN</td>\n",
       "      <td>0</td>\n",
       "      <td>(None, 48, 48, 8)</td>\n",
       "      <td>Conv2D:0</td>\n",
       "      <td>NaN</td>\n",
       "    </tr>\n",
       "    <tr>\n",
       "      <th>3</th>\n",
       "      <td>3</td>\n",
       "      <td>Conv1_relu</td>\n",
       "      <td>(None, 48, 48, 8)</td>\n",
       "      <td>bn_Conv1</td>\n",
       "      <td>18432</td>\n",
       "      <td>NaN</td>\n",
       "      <td>18432</td>\n",
       "      <td>(None, 48, 48, 8)</td>\n",
       "      <td>FusedBatchNormV3:0</td>\n",
       "      <td>NaN</td>\n",
       "    </tr>\n",
       "    <tr>\n",
       "      <th>4</th>\n",
       "      <td>4</td>\n",
       "      <td>expanded_conv_depthwise</td>\n",
       "      <td>(None, 48, 48, 8)</td>\n",
       "      <td>Conv1_relu</td>\n",
       "      <td>18432</td>\n",
       "      <td>NaN</td>\n",
       "      <td>18432</td>\n",
       "      <td>(None, 48, 48, 8)</td>\n",
       "      <td>Relu6:0</td>\n",
       "      <td>NaN</td>\n",
       "    </tr>\n",
       "    <tr>\n",
       "      <th>5</th>\n",
       "      <td>5</td>\n",
       "      <td>expanded_conv_depthwise_BN</td>\n",
       "      <td>(None, 48, 48, 8)</td>\n",
       "      <td>expanded_conv_depthwise</td>\n",
       "      <td>18432</td>\n",
       "      <td>NaN</td>\n",
       "      <td>18432</td>\n",
       "      <td>(None, 48, 48, 8)</td>\n",
       "      <td>depthwise:0</td>\n",
       "      <td>NaN</td>\n",
       "    </tr>\n",
       "    <tr>\n",
       "      <th>6</th>\n",
       "      <td>6</td>\n",
       "      <td>expanded_conv_depthwise_relu</td>\n",
       "      <td>(None, 48, 48, 8)</td>\n",
       "      <td>expanded_conv_depthwise_BN</td>\n",
       "      <td>18432</td>\n",
       "      <td>NaN</td>\n",
       "      <td>18432</td>\n",
       "      <td>(None, 48, 48, 8)</td>\n",
       "      <td>FusedBatchNormV3:0</td>\n",
       "      <td>NaN</td>\n",
       "    </tr>\n",
       "    <tr>\n",
       "      <th>7</th>\n",
       "      <td>7</td>\n",
       "      <td>expanded_conv_project</td>\n",
       "      <td>(None, 48, 48, 8)</td>\n",
       "      <td>expanded_conv_depthwise_relu</td>\n",
       "      <td>18432</td>\n",
       "      <td>NaN</td>\n",
       "      <td>18432</td>\n",
       "      <td>(None, 48, 48, 8)</td>\n",
       "      <td>Relu6:0</td>\n",
       "      <td>NaN</td>\n",
       "    </tr>\n",
       "    <tr>\n",
       "      <th>8</th>\n",
       "      <td>8</td>\n",
       "      <td>expanded_conv_project_BN</td>\n",
       "      <td>(None, 48, 48, 8)</td>\n",
       "      <td>expanded_conv_project</td>\n",
       "      <td>18432</td>\n",
       "      <td>NaN</td>\n",
       "      <td>18432</td>\n",
       "      <td>(None, 48, 48, 8)</td>\n",
       "      <td>Conv2D:0</td>\n",
       "      <td>NaN</td>\n",
       "    </tr>\n",
       "    <tr>\n",
       "      <th>9</th>\n",
       "      <td>9</td>\n",
       "      <td>expanded_conv_add</td>\n",
       "      <td>(None, 48, 48, 8)* (None, 48, 48, 8)</td>\n",
       "      <td>expanded_conv_project_BN</td>\n",
       "      <td>18432</td>\n",
       "      <td>Conv1_relu</td>\n",
       "      <td>18432</td>\n",
       "      <td>(None, 48, 48, 8)* (None, 48, 48, 8)</td>\n",
       "      <td>FusedBatchNormV3:0</td>\n",
       "      <td>Relu6:0</td>\n",
       "    </tr>\n",
       "    <tr>\n",
       "      <th>10</th>\n",
       "      <td>10</td>\n",
       "      <td>block_1_expand</td>\n",
       "      <td>(None, 48, 48, 8)</td>\n",
       "      <td>expanded_conv_add</td>\n",
       "      <td>18432</td>\n",
       "      <td>NaN</td>\n",
       "      <td>0</td>\n",
       "      <td>(None, 48, 48, 8)</td>\n",
       "      <td>add:0</td>\n",
       "      <td>NaN</td>\n",
       "    </tr>\n",
       "    <tr>\n",
       "      <th>11</th>\n",
       "      <td>11</td>\n",
       "      <td>block_1_expand_BN</td>\n",
       "      <td>(None, 48, 48, 48)</td>\n",
       "      <td>block_1_expand</td>\n",
       "      <td>110592</td>\n",
       "      <td>NaN</td>\n",
       "      <td>0</td>\n",
       "      <td>(None, 48, 48, 48)</td>\n",
       "      <td>Conv2D:0</td>\n",
       "      <td>NaN</td>\n",
       "    </tr>\n",
       "    <tr>\n",
       "      <th>12</th>\n",
       "      <td>12</td>\n",
       "      <td>block_1_expand_relu</td>\n",
       "      <td>(None, 48, 48, 48)</td>\n",
       "      <td>block_1_expand_BN</td>\n",
       "      <td>110592</td>\n",
       "      <td>NaN</td>\n",
       "      <td>0</td>\n",
       "      <td>(None, 48, 48, 48)</td>\n",
       "      <td>FusedBatchNormV3:0</td>\n",
       "      <td>NaN</td>\n",
       "    </tr>\n",
       "    <tr>\n",
       "      <th>13</th>\n",
       "      <td>13</td>\n",
       "      <td>block_1_pad</td>\n",
       "      <td>(None, 48, 48, 48)</td>\n",
       "      <td>block_1_expand_relu</td>\n",
       "      <td>110592</td>\n",
       "      <td>NaN</td>\n",
       "      <td>0</td>\n",
       "      <td>(None, 48, 48, 48)</td>\n",
       "      <td>Relu6:0</td>\n",
       "      <td>NaN</td>\n",
       "    </tr>\n",
       "    <tr>\n",
       "      <th>14</th>\n",
       "      <td>14</td>\n",
       "      <td>block_1_depthwise</td>\n",
       "      <td>(None, 49, 49, 48)</td>\n",
       "      <td>block_1_pad</td>\n",
       "      <td>115248</td>\n",
       "      <td>NaN</td>\n",
       "      <td>0</td>\n",
       "      <td>(None, 49, 49, 48)</td>\n",
       "      <td>Pad:0</td>\n",
       "      <td>NaN</td>\n",
       "    </tr>\n",
       "    <tr>\n",
       "      <th>15</th>\n",
       "      <td>15</td>\n",
       "      <td>block_1_depthwise_BN</td>\n",
       "      <td>(None, 24, 24, 48)</td>\n",
       "      <td>block_1_depthwise</td>\n",
       "      <td>27648</td>\n",
       "      <td>NaN</td>\n",
       "      <td>0</td>\n",
       "      <td>(None, 24, 24, 48)</td>\n",
       "      <td>depthwise:0</td>\n",
       "      <td>NaN</td>\n",
       "    </tr>\n",
       "    <tr>\n",
       "      <th>16</th>\n",
       "      <td>16</td>\n",
       "      <td>block_1_depthwise_relu</td>\n",
       "      <td>(None, 24, 24, 48)</td>\n",
       "      <td>block_1_depthwise_BN</td>\n",
       "      <td>27648</td>\n",
       "      <td>NaN</td>\n",
       "      <td>0</td>\n",
       "      <td>(None, 24, 24, 48)</td>\n",
       "      <td>FusedBatchNormV3:0</td>\n",
       "      <td>NaN</td>\n",
       "    </tr>\n",
       "    <tr>\n",
       "      <th>17</th>\n",
       "      <td>17</td>\n",
       "      <td>block_1_project</td>\n",
       "      <td>(None, 24, 24, 48)</td>\n",
       "      <td>block_1_depthwise_relu</td>\n",
       "      <td>27648</td>\n",
       "      <td>NaN</td>\n",
       "      <td>0</td>\n",
       "      <td>(None, 24, 24, 48)</td>\n",
       "      <td>Relu6:0</td>\n",
       "      <td>NaN</td>\n",
       "    </tr>\n",
       "    <tr>\n",
       "      <th>18</th>\n",
       "      <td>18</td>\n",
       "      <td>block_1_project_BN</td>\n",
       "      <td>(None, 24, 24, 8)</td>\n",
       "      <td>block_1_project</td>\n",
       "      <td>4608</td>\n",
       "      <td>NaN</td>\n",
       "      <td>4608</td>\n",
       "      <td>(None, 24, 24, 8)</td>\n",
       "      <td>Conv2D:0</td>\n",
       "      <td>NaN</td>\n",
       "    </tr>\n",
       "    <tr>\n",
       "      <th>19</th>\n",
       "      <td>19</td>\n",
       "      <td>block_2_expand</td>\n",
       "      <td>(None, 24, 24, 8)</td>\n",
       "      <td>block_1_project_BN</td>\n",
       "      <td>4608</td>\n",
       "      <td>NaN</td>\n",
       "      <td>4608</td>\n",
       "      <td>(None, 24, 24, 8)</td>\n",
       "      <td>FusedBatchNormV3:0</td>\n",
       "      <td>NaN</td>\n",
       "    </tr>\n",
       "    <tr>\n",
       "      <th>20</th>\n",
       "      <td>20</td>\n",
       "      <td>block_2_expand_BN</td>\n",
       "      <td>(None, 24, 24, 48)</td>\n",
       "      <td>block_2_expand</td>\n",
       "      <td>27648</td>\n",
       "      <td>NaN</td>\n",
       "      <td>4608</td>\n",
       "      <td>(None, 24, 24, 48)</td>\n",
       "      <td>Conv2D:0</td>\n",
       "      <td>NaN</td>\n",
       "    </tr>\n",
       "    <tr>\n",
       "      <th>21</th>\n",
       "      <td>21</td>\n",
       "      <td>block_2_expand_relu</td>\n",
       "      <td>(None, 24, 24, 48)</td>\n",
       "      <td>block_2_expand_BN</td>\n",
       "      <td>27648</td>\n",
       "      <td>NaN</td>\n",
       "      <td>4608</td>\n",
       "      <td>(None, 24, 24, 48)</td>\n",
       "      <td>FusedBatchNormV3:0</td>\n",
       "      <td>NaN</td>\n",
       "    </tr>\n",
       "    <tr>\n",
       "      <th>22</th>\n",
       "      <td>22</td>\n",
       "      <td>block_2_depthwise</td>\n",
       "      <td>(None, 24, 24, 48)</td>\n",
       "      <td>block_2_expand_relu</td>\n",
       "      <td>27648</td>\n",
       "      <td>NaN</td>\n",
       "      <td>4608</td>\n",
       "      <td>(None, 24, 24, 48)</td>\n",
       "      <td>Relu6:0</td>\n",
       "      <td>NaN</td>\n",
       "    </tr>\n",
       "    <tr>\n",
       "      <th>23</th>\n",
       "      <td>23</td>\n",
       "      <td>block_2_depthwise_BN</td>\n",
       "      <td>(None, 24, 24, 48)</td>\n",
       "      <td>block_2_depthwise</td>\n",
       "      <td>27648</td>\n",
       "      <td>NaN</td>\n",
       "      <td>4608</td>\n",
       "      <td>(None, 24, 24, 48)</td>\n",
       "      <td>depthwise:0</td>\n",
       "      <td>NaN</td>\n",
       "    </tr>\n",
       "    <tr>\n",
       "      <th>24</th>\n",
       "      <td>24</td>\n",
       "      <td>block_2_depthwise_relu</td>\n",
       "      <td>(None, 24, 24, 48)</td>\n",
       "      <td>block_2_depthwise_BN</td>\n",
       "      <td>27648</td>\n",
       "      <td>NaN</td>\n",
       "      <td>4608</td>\n",
       "      <td>(None, 24, 24, 48)</td>\n",
       "      <td>FusedBatchNormV3:0</td>\n",
       "      <td>NaN</td>\n",
       "    </tr>\n",
       "    <tr>\n",
       "      <th>25</th>\n",
       "      <td>25</td>\n",
       "      <td>block_2_project</td>\n",
       "      <td>(None, 24, 24, 48)</td>\n",
       "      <td>block_2_depthwise_relu</td>\n",
       "      <td>27648</td>\n",
       "      <td>NaN</td>\n",
       "      <td>4608</td>\n",
       "      <td>(None, 24, 24, 48)</td>\n",
       "      <td>Relu6:0</td>\n",
       "      <td>NaN</td>\n",
       "    </tr>\n",
       "    <tr>\n",
       "      <th>26</th>\n",
       "      <td>26</td>\n",
       "      <td>block_2_project_BN</td>\n",
       "      <td>(None, 24, 24, 8)</td>\n",
       "      <td>block_2_project</td>\n",
       "      <td>4608</td>\n",
       "      <td>NaN</td>\n",
       "      <td>4608</td>\n",
       "      <td>(None, 24, 24, 8)</td>\n",
       "      <td>Conv2D:0</td>\n",
       "      <td>NaN</td>\n",
       "    </tr>\n",
       "    <tr>\n",
       "      <th>27</th>\n",
       "      <td>27</td>\n",
       "      <td>block_2_add</td>\n",
       "      <td>(None, 24, 24, 8)* (None, 24, 24, 8)</td>\n",
       "      <td>block_2_project_BN</td>\n",
       "      <td>4608</td>\n",
       "      <td>block_1_project_BN</td>\n",
       "      <td>4608</td>\n",
       "      <td>(None, 24, 24, 8)* (None, 24, 24, 8)</td>\n",
       "      <td>FusedBatchNormV3:0</td>\n",
       "      <td>FusedBatchNormV3:0</td>\n",
       "    </tr>\n",
       "    <tr>\n",
       "      <th>28</th>\n",
       "      <td>28</td>\n",
       "      <td>block_3_expand</td>\n",
       "      <td>(None, 24, 24, 8)</td>\n",
       "      <td>block_2_add</td>\n",
       "      <td>4608</td>\n",
       "      <td>NaN</td>\n",
       "      <td>0</td>\n",
       "      <td>(None, 24, 24, 8)</td>\n",
       "      <td>add:0</td>\n",
       "      <td>NaN</td>\n",
       "    </tr>\n",
       "    <tr>\n",
       "      <th>29</th>\n",
       "      <td>29</td>\n",
       "      <td>block_3_expand_BN</td>\n",
       "      <td>(None, 24, 24, 48)</td>\n",
       "      <td>block_3_expand</td>\n",
       "      <td>27648</td>\n",
       "      <td>NaN</td>\n",
       "      <td>0</td>\n",
       "      <td>(None, 24, 24, 48)</td>\n",
       "      <td>Conv2D:0</td>\n",
       "      <td>NaN</td>\n",
       "    </tr>\n",
       "  </tbody>\n",
       "</table>\n",
       "</div>"
      ],
      "text/plain": [
       "    index                          name                           input_shape  \\\n",
       "0       0                       input_1                     (None, 96, 96, 1)   \n",
       "1       1                         Conv1                     (None, 96, 96, 1)   \n",
       "2       2                      bn_Conv1                     (None, 48, 48, 8)   \n",
       "3       3                    Conv1_relu                     (None, 48, 48, 8)   \n",
       "4       4       expanded_conv_depthwise                     (None, 48, 48, 8)   \n",
       "5       5    expanded_conv_depthwise_BN                     (None, 48, 48, 8)   \n",
       "6       6  expanded_conv_depthwise_relu                     (None, 48, 48, 8)   \n",
       "7       7         expanded_conv_project                     (None, 48, 48, 8)   \n",
       "8       8      expanded_conv_project_BN                     (None, 48, 48, 8)   \n",
       "9       9             expanded_conv_add  (None, 48, 48, 8)* (None, 48, 48, 8)   \n",
       "10     10                block_1_expand                     (None, 48, 48, 8)   \n",
       "11     11             block_1_expand_BN                    (None, 48, 48, 48)   \n",
       "12     12           block_1_expand_relu                    (None, 48, 48, 48)   \n",
       "13     13                   block_1_pad                    (None, 48, 48, 48)   \n",
       "14     14             block_1_depthwise                    (None, 49, 49, 48)   \n",
       "15     15          block_1_depthwise_BN                    (None, 24, 24, 48)   \n",
       "16     16        block_1_depthwise_relu                    (None, 24, 24, 48)   \n",
       "17     17               block_1_project                    (None, 24, 24, 48)   \n",
       "18     18            block_1_project_BN                     (None, 24, 24, 8)   \n",
       "19     19                block_2_expand                     (None, 24, 24, 8)   \n",
       "20     20             block_2_expand_BN                    (None, 24, 24, 48)   \n",
       "21     21           block_2_expand_relu                    (None, 24, 24, 48)   \n",
       "22     22             block_2_depthwise                    (None, 24, 24, 48)   \n",
       "23     23          block_2_depthwise_BN                    (None, 24, 24, 48)   \n",
       "24     24        block_2_depthwise_relu                    (None, 24, 24, 48)   \n",
       "25     25               block_2_project                    (None, 24, 24, 48)   \n",
       "26     26            block_2_project_BN                     (None, 24, 24, 8)   \n",
       "27     27                   block_2_add  (None, 24, 24, 8)* (None, 24, 24, 8)   \n",
       "28     28                block_3_expand                     (None, 24, 24, 8)   \n",
       "29     29             block_3_expand_BN                    (None, 24, 24, 48)   \n",
       "\n",
       "                    input_node_1  #i_1_activations        input_node_0  \\\n",
       "0                        input_1              9216                 NaN   \n",
       "1                        input_1              9216                 NaN   \n",
       "2                          Conv1             18432                 NaN   \n",
       "3                       bn_Conv1             18432                 NaN   \n",
       "4                     Conv1_relu             18432                 NaN   \n",
       "5        expanded_conv_depthwise             18432                 NaN   \n",
       "6     expanded_conv_depthwise_BN             18432                 NaN   \n",
       "7   expanded_conv_depthwise_relu             18432                 NaN   \n",
       "8          expanded_conv_project             18432                 NaN   \n",
       "9       expanded_conv_project_BN             18432          Conv1_relu   \n",
       "10             expanded_conv_add             18432                 NaN   \n",
       "11                block_1_expand            110592                 NaN   \n",
       "12             block_1_expand_BN            110592                 NaN   \n",
       "13           block_1_expand_relu            110592                 NaN   \n",
       "14                   block_1_pad            115248                 NaN   \n",
       "15             block_1_depthwise             27648                 NaN   \n",
       "16          block_1_depthwise_BN             27648                 NaN   \n",
       "17        block_1_depthwise_relu             27648                 NaN   \n",
       "18               block_1_project              4608                 NaN   \n",
       "19            block_1_project_BN              4608                 NaN   \n",
       "20                block_2_expand             27648                 NaN   \n",
       "21             block_2_expand_BN             27648                 NaN   \n",
       "22           block_2_expand_relu             27648                 NaN   \n",
       "23             block_2_depthwise             27648                 NaN   \n",
       "24          block_2_depthwise_BN             27648                 NaN   \n",
       "25        block_2_depthwise_relu             27648                 NaN   \n",
       "26               block_2_project              4608                 NaN   \n",
       "27            block_2_project_BN              4608  block_1_project_BN   \n",
       "28                   block_2_add              4608                 NaN   \n",
       "29                block_3_expand             27648                 NaN   \n",
       "\n",
       "    #i_2_activations                           input_shape  \\\n",
       "0                  0                     (None, 96, 96, 1)   \n",
       "1                  0                     (None, 96, 96, 1)   \n",
       "2                  0                     (None, 48, 48, 8)   \n",
       "3              18432                     (None, 48, 48, 8)   \n",
       "4              18432                     (None, 48, 48, 8)   \n",
       "5              18432                     (None, 48, 48, 8)   \n",
       "6              18432                     (None, 48, 48, 8)   \n",
       "7              18432                     (None, 48, 48, 8)   \n",
       "8              18432                     (None, 48, 48, 8)   \n",
       "9              18432  (None, 48, 48, 8)* (None, 48, 48, 8)   \n",
       "10                 0                     (None, 48, 48, 8)   \n",
       "11                 0                    (None, 48, 48, 48)   \n",
       "12                 0                    (None, 48, 48, 48)   \n",
       "13                 0                    (None, 48, 48, 48)   \n",
       "14                 0                    (None, 49, 49, 48)   \n",
       "15                 0                    (None, 24, 24, 48)   \n",
       "16                 0                    (None, 24, 24, 48)   \n",
       "17                 0                    (None, 24, 24, 48)   \n",
       "18              4608                     (None, 24, 24, 8)   \n",
       "19              4608                     (None, 24, 24, 8)   \n",
       "20              4608                    (None, 24, 24, 48)   \n",
       "21              4608                    (None, 24, 24, 48)   \n",
       "22              4608                    (None, 24, 24, 48)   \n",
       "23              4608                    (None, 24, 24, 48)   \n",
       "24              4608                    (None, 24, 24, 48)   \n",
       "25              4608                    (None, 24, 24, 48)   \n",
       "26              4608                     (None, 24, 24, 8)   \n",
       "27              4608  (None, 24, 24, 8)* (None, 24, 24, 8)   \n",
       "28                 0                     (None, 24, 24, 8)   \n",
       "29                 0                    (None, 24, 24, 48)   \n",
       "\n",
       "     input_node_type_1   input_node_type_0  \n",
       "0                  NaN                 NaN  \n",
       "1                  NaN                 NaN  \n",
       "2             Conv2D:0                 NaN  \n",
       "3   FusedBatchNormV3:0                 NaN  \n",
       "4              Relu6:0                 NaN  \n",
       "5          depthwise:0                 NaN  \n",
       "6   FusedBatchNormV3:0                 NaN  \n",
       "7              Relu6:0                 NaN  \n",
       "8             Conv2D:0                 NaN  \n",
       "9   FusedBatchNormV3:0             Relu6:0  \n",
       "10               add:0                 NaN  \n",
       "11            Conv2D:0                 NaN  \n",
       "12  FusedBatchNormV3:0                 NaN  \n",
       "13             Relu6:0                 NaN  \n",
       "14               Pad:0                 NaN  \n",
       "15         depthwise:0                 NaN  \n",
       "16  FusedBatchNormV3:0                 NaN  \n",
       "17             Relu6:0                 NaN  \n",
       "18            Conv2D:0                 NaN  \n",
       "19  FusedBatchNormV3:0                 NaN  \n",
       "20            Conv2D:0                 NaN  \n",
       "21  FusedBatchNormV3:0                 NaN  \n",
       "22             Relu6:0                 NaN  \n",
       "23         depthwise:0                 NaN  \n",
       "24  FusedBatchNormV3:0                 NaN  \n",
       "25             Relu6:0                 NaN  \n",
       "26            Conv2D:0                 NaN  \n",
       "27  FusedBatchNormV3:0  FusedBatchNormV3:0  \n",
       "28               add:0                 NaN  \n",
       "29            Conv2D:0                 NaN  "
      ]
     },
     "execution_count": 214,
     "metadata": {},
     "output_type": "execute_result"
    }
   ],
   "source": [
    "df_activations.head(30)"
   ]
  },
  {
   "attachments": {},
   "cell_type": "markdown",
   "metadata": {},
   "source": [
    "# Save cleaned dataframe"
   ]
  },
  {
   "cell_type": "code",
   "execution_count": 55,
   "metadata": {},
   "outputs": [],
   "source": [
    "clean_df_filepath = models_dir.joinpath(f\"{model_name}/{model_name}_layers_clean.pkl\")\n",
    "\n",
    "#filepath = f\"i:/tinyml/tiny_cnn/models/{model_name}/{model_name}_layers.pkl\"\n",
    "df.to_pickle(clean_df_filepath)"
   ]
  },
  {
   "attachments": {},
   "cell_type": "markdown",
   "metadata": {},
   "source": [
    "# Visualizations"
   ]
  },
  {
   "cell_type": "code",
   "execution_count": 234,
   "metadata": {},
   "outputs": [
    {
     "data": {
      "application/vnd.plotly.v1+json": {
       "config": {
        "plotlyServerURL": "https://plot.ly"
       },
       "data": [
        {
         "alignmentgroup": "True",
         "hovertemplate": "variable=#i_1_activations<br>name=%{x}<br>value=%{y}<extra></extra>",
         "legendgroup": "#i_1_activations",
         "marker": {
          "color": "#636efa",
          "pattern": {
           "shape": ""
          }
         },
         "name": "#i_1_activations",
         "offsetgroup": "#i_1_activations",
         "orientation": "v",
         "showlegend": true,
         "textposition": "auto",
         "texttemplate": "%{y:.2s}",
         "type": "bar",
         "x": [
          "input_1",
          "Conv1",
          "bn_Conv1",
          "Conv1_relu",
          "expanded_conv_depthwise",
          "expanded_conv_depthwise_BN",
          "expanded_conv_depthwise_relu",
          "expanded_conv_project",
          "expanded_conv_project_BN",
          "expanded_conv_add",
          "block_1_expand",
          "block_1_expand_BN",
          "block_1_expand_relu",
          "block_1_pad",
          "block_1_depthwise",
          "block_1_depthwise_BN",
          "block_1_depthwise_relu",
          "block_1_project",
          "block_1_project_BN",
          "block_2_expand",
          "block_2_expand_BN",
          "block_2_expand_relu",
          "block_2_depthwise",
          "block_2_depthwise_BN",
          "block_2_depthwise_relu",
          "block_2_project",
          "block_2_project_BN",
          "block_2_add",
          "block_3_expand",
          "block_3_expand_BN",
          "block_3_expand_relu",
          "block_3_pad",
          "block_3_depthwise",
          "block_3_depthwise_BN",
          "block_3_depthwise_relu",
          "block_3_project",
          "block_3_project_BN",
          "block_4_expand",
          "block_4_expand_BN",
          "block_4_expand_relu",
          "block_4_depthwise",
          "block_4_depthwise_BN",
          "block_4_depthwise_relu",
          "block_4_project",
          "block_4_project_BN",
          "block_4_add",
          "block_5_expand",
          "block_5_expand_BN",
          "block_5_expand_relu",
          "block_5_depthwise",
          "block_5_depthwise_BN",
          "block_5_depthwise_relu",
          "block_5_project",
          "block_5_project_BN",
          "block_5_add",
          "block_6_expand",
          "block_6_expand_BN",
          "block_6_expand_relu",
          "block_6_pad",
          "block_6_depthwise",
          "block_6_depthwise_BN",
          "block_6_depthwise_relu",
          "block_6_project",
          "block_6_project_BN",
          "block_7_expand",
          "block_7_expand_BN",
          "block_7_expand_relu",
          "block_7_depthwise",
          "block_7_depthwise_BN",
          "block_7_depthwise_relu",
          "block_7_project",
          "block_7_project_BN",
          "block_7_add",
          "block_8_expand",
          "block_8_expand_BN",
          "block_8_expand_relu",
          "block_8_depthwise",
          "block_8_depthwise_BN",
          "block_8_depthwise_relu",
          "block_8_project",
          "block_8_project_BN",
          "block_8_add",
          "block_9_expand",
          "block_9_expand_BN",
          "block_9_expand_relu",
          "block_9_depthwise",
          "block_9_depthwise_BN",
          "block_9_depthwise_relu",
          "block_9_project",
          "block_9_project_BN",
          "block_9_add",
          "block_10_expand",
          "block_10_expand_BN",
          "block_10_expand_relu",
          "block_10_depthwise",
          "block_10_depthwise_BN",
          "block_10_depthwise_relu",
          "block_10_project",
          "block_10_project_BN",
          "block_11_expand",
          "block_11_expand_BN",
          "block_11_expand_relu",
          "block_11_depthwise",
          "block_11_depthwise_BN",
          "block_11_depthwise_relu",
          "block_11_project",
          "block_11_project_BN",
          "block_11_add",
          "block_12_expand",
          "block_12_expand_BN",
          "block_12_expand_relu",
          "block_12_depthwise",
          "block_12_depthwise_BN",
          "block_12_depthwise_relu",
          "block_12_project",
          "block_12_project_BN",
          "block_12_add",
          "block_13_expand",
          "block_13_expand_BN",
          "block_13_expand_relu",
          "block_13_pad",
          "block_13_depthwise",
          "block_13_depthwise_BN",
          "block_13_depthwise_relu",
          "block_13_project",
          "block_13_project_BN",
          "block_14_expand",
          "block_14_expand_BN",
          "block_14_expand_relu",
          "block_14_depthwise",
          "block_14_depthwise_BN",
          "block_14_depthwise_relu",
          "block_14_project",
          "block_14_project_BN",
          "block_14_add",
          "block_15_expand",
          "block_15_expand_BN",
          "block_15_expand_relu",
          "block_15_depthwise",
          "block_15_depthwise_BN",
          "block_15_depthwise_relu",
          "block_15_project",
          "block_15_project_BN",
          "block_15_add",
          "block_16_expand",
          "block_16_expand_BN",
          "block_16_expand_relu",
          "block_16_depthwise",
          "block_16_depthwise_BN",
          "block_16_depthwise_relu",
          "block_16_project",
          "block_16_project_BN",
          "Conv_1",
          "Conv_1_bn",
          "out_relu",
          "global_average_pooling2d",
          "predictions"
         ],
         "xaxis": "x",
         "y": [
          9216,
          9216,
          18432,
          18432,
          18432,
          18432,
          18432,
          18432,
          18432,
          18432,
          18432,
          110592,
          110592,
          110592,
          115248,
          27648,
          27648,
          27648,
          4608,
          4608,
          27648,
          27648,
          27648,
          27648,
          27648,
          27648,
          4608,
          4608,
          4608,
          27648,
          27648,
          27648,
          30000,
          6912,
          6912,
          6912,
          1152,
          1152,
          6912,
          6912,
          6912,
          6912,
          6912,
          6912,
          1152,
          1152,
          1152,
          6912,
          6912,
          6912,
          6912,
          6912,
          6912,
          1152,
          1152,
          1152,
          6912,
          6912,
          6912,
          8112,
          1728,
          1728,
          1728,
          288,
          288,
          1728,
          1728,
          1728,
          1728,
          1728,
          1728,
          288,
          288,
          288,
          1728,
          1728,
          1728,
          1728,
          1728,
          1728,
          288,
          288,
          288,
          1728,
          1728,
          1728,
          1728,
          1728,
          1728,
          288,
          288,
          288,
          1728,
          1728,
          1728,
          1728,
          1728,
          1728,
          576,
          576,
          3456,
          3456,
          3456,
          3456,
          3456,
          3456,
          576,
          576,
          576,
          3456,
          3456,
          3456,
          3456,
          3456,
          3456,
          576,
          576,
          576,
          3456,
          3456,
          3456,
          4704,
          864,
          864,
          864,
          144,
          144,
          864,
          864,
          864,
          864,
          864,
          864,
          144,
          144,
          144,
          864,
          864,
          864,
          864,
          864,
          864,
          144,
          144,
          144,
          864,
          864,
          864,
          864,
          864,
          864,
          288,
          288,
          11520,
          11520,
          11520,
          1280
         ],
         "yaxis": "y"
        },
        {
         "alignmentgroup": "True",
         "hovertemplate": "variable=#i_2_activations<br>name=%{x}<br>value=%{y}<extra></extra>",
         "legendgroup": "#i_2_activations",
         "marker": {
          "color": "#EF553B",
          "pattern": {
           "shape": ""
          }
         },
         "name": "#i_2_activations",
         "offsetgroup": "#i_2_activations",
         "orientation": "v",
         "showlegend": true,
         "textposition": "auto",
         "texttemplate": "%{y:.2s}",
         "type": "bar",
         "x": [
          "input_1",
          "Conv1",
          "bn_Conv1",
          "Conv1_relu",
          "expanded_conv_depthwise",
          "expanded_conv_depthwise_BN",
          "expanded_conv_depthwise_relu",
          "expanded_conv_project",
          "expanded_conv_project_BN",
          "expanded_conv_add",
          "block_1_expand",
          "block_1_expand_BN",
          "block_1_expand_relu",
          "block_1_pad",
          "block_1_depthwise",
          "block_1_depthwise_BN",
          "block_1_depthwise_relu",
          "block_1_project",
          "block_1_project_BN",
          "block_2_expand",
          "block_2_expand_BN",
          "block_2_expand_relu",
          "block_2_depthwise",
          "block_2_depthwise_BN",
          "block_2_depthwise_relu",
          "block_2_project",
          "block_2_project_BN",
          "block_2_add",
          "block_3_expand",
          "block_3_expand_BN",
          "block_3_expand_relu",
          "block_3_pad",
          "block_3_depthwise",
          "block_3_depthwise_BN",
          "block_3_depthwise_relu",
          "block_3_project",
          "block_3_project_BN",
          "block_4_expand",
          "block_4_expand_BN",
          "block_4_expand_relu",
          "block_4_depthwise",
          "block_4_depthwise_BN",
          "block_4_depthwise_relu",
          "block_4_project",
          "block_4_project_BN",
          "block_4_add",
          "block_5_expand",
          "block_5_expand_BN",
          "block_5_expand_relu",
          "block_5_depthwise",
          "block_5_depthwise_BN",
          "block_5_depthwise_relu",
          "block_5_project",
          "block_5_project_BN",
          "block_5_add",
          "block_6_expand",
          "block_6_expand_BN",
          "block_6_expand_relu",
          "block_6_pad",
          "block_6_depthwise",
          "block_6_depthwise_BN",
          "block_6_depthwise_relu",
          "block_6_project",
          "block_6_project_BN",
          "block_7_expand",
          "block_7_expand_BN",
          "block_7_expand_relu",
          "block_7_depthwise",
          "block_7_depthwise_BN",
          "block_7_depthwise_relu",
          "block_7_project",
          "block_7_project_BN",
          "block_7_add",
          "block_8_expand",
          "block_8_expand_BN",
          "block_8_expand_relu",
          "block_8_depthwise",
          "block_8_depthwise_BN",
          "block_8_depthwise_relu",
          "block_8_project",
          "block_8_project_BN",
          "block_8_add",
          "block_9_expand",
          "block_9_expand_BN",
          "block_9_expand_relu",
          "block_9_depthwise",
          "block_9_depthwise_BN",
          "block_9_depthwise_relu",
          "block_9_project",
          "block_9_project_BN",
          "block_9_add",
          "block_10_expand",
          "block_10_expand_BN",
          "block_10_expand_relu",
          "block_10_depthwise",
          "block_10_depthwise_BN",
          "block_10_depthwise_relu",
          "block_10_project",
          "block_10_project_BN",
          "block_11_expand",
          "block_11_expand_BN",
          "block_11_expand_relu",
          "block_11_depthwise",
          "block_11_depthwise_BN",
          "block_11_depthwise_relu",
          "block_11_project",
          "block_11_project_BN",
          "block_11_add",
          "block_12_expand",
          "block_12_expand_BN",
          "block_12_expand_relu",
          "block_12_depthwise",
          "block_12_depthwise_BN",
          "block_12_depthwise_relu",
          "block_12_project",
          "block_12_project_BN",
          "block_12_add",
          "block_13_expand",
          "block_13_expand_BN",
          "block_13_expand_relu",
          "block_13_pad",
          "block_13_depthwise",
          "block_13_depthwise_BN",
          "block_13_depthwise_relu",
          "block_13_project",
          "block_13_project_BN",
          "block_14_expand",
          "block_14_expand_BN",
          "block_14_expand_relu",
          "block_14_depthwise",
          "block_14_depthwise_BN",
          "block_14_depthwise_relu",
          "block_14_project",
          "block_14_project_BN",
          "block_14_add",
          "block_15_expand",
          "block_15_expand_BN",
          "block_15_expand_relu",
          "block_15_depthwise",
          "block_15_depthwise_BN",
          "block_15_depthwise_relu",
          "block_15_project",
          "block_15_project_BN",
          "block_15_add",
          "block_16_expand",
          "block_16_expand_BN",
          "block_16_expand_relu",
          "block_16_depthwise",
          "block_16_depthwise_BN",
          "block_16_depthwise_relu",
          "block_16_project",
          "block_16_project_BN",
          "Conv_1",
          "Conv_1_bn",
          "out_relu",
          "global_average_pooling2d",
          "predictions"
         ],
         "xaxis": "x",
         "y": [
          0,
          0,
          0,
          18432,
          18432,
          18432,
          18432,
          18432,
          18432,
          18432,
          0,
          0,
          0,
          0,
          0,
          0,
          0,
          0,
          4608,
          4608,
          4608,
          4608,
          4608,
          4608,
          4608,
          4608,
          4608,
          4608,
          0,
          0,
          0,
          0,
          0,
          0,
          0,
          0,
          1152,
          1152,
          1152,
          1152,
          1152,
          1152,
          1152,
          1152,
          1152,
          1152,
          1152,
          1152,
          1152,
          1152,
          1152,
          1152,
          1152,
          1152,
          1152,
          0,
          0,
          0,
          0,
          0,
          0,
          0,
          0,
          288,
          288,
          288,
          288,
          288,
          288,
          288,
          288,
          288,
          288,
          288,
          288,
          288,
          288,
          288,
          288,
          288,
          288,
          288,
          288,
          288,
          288,
          288,
          288,
          288,
          288,
          288,
          288,
          0,
          0,
          0,
          0,
          0,
          0,
          0,
          576,
          576,
          576,
          576,
          576,
          576,
          576,
          576,
          576,
          576,
          576,
          576,
          576,
          576,
          576,
          576,
          576,
          576,
          576,
          0,
          0,
          0,
          0,
          0,
          0,
          0,
          0,
          144,
          144,
          144,
          144,
          144,
          144,
          144,
          144,
          144,
          144,
          144,
          144,
          144,
          144,
          144,
          144,
          144,
          144,
          144,
          0,
          0,
          0,
          0,
          0,
          0,
          0,
          0,
          0,
          0,
          0,
          0,
          0
         ],
         "yaxis": "y"
        },
        {
         "alignmentgroup": "True",
         "hovertemplate": "variable=#o_1_activations<br>name=%{x}<br>value=%{y}<extra></extra>",
         "legendgroup": "#o_1_activations",
         "marker": {
          "color": "#00cc96",
          "pattern": {
           "shape": ""
          }
         },
         "name": "#o_1_activations",
         "offsetgroup": "#o_1_activations",
         "orientation": "v",
         "showlegend": true,
         "textposition": "auto",
         "texttemplate": "%{y:.2s}",
         "type": "bar",
         "x": [
          "input_1",
          "Conv1",
          "bn_Conv1",
          "Conv1_relu",
          "expanded_conv_depthwise",
          "expanded_conv_depthwise_BN",
          "expanded_conv_depthwise_relu",
          "expanded_conv_project",
          "expanded_conv_project_BN",
          "expanded_conv_add",
          "block_1_expand",
          "block_1_expand_BN",
          "block_1_expand_relu",
          "block_1_pad",
          "block_1_depthwise",
          "block_1_depthwise_BN",
          "block_1_depthwise_relu",
          "block_1_project",
          "block_1_project_BN",
          "block_2_expand",
          "block_2_expand_BN",
          "block_2_expand_relu",
          "block_2_depthwise",
          "block_2_depthwise_BN",
          "block_2_depthwise_relu",
          "block_2_project",
          "block_2_project_BN",
          "block_2_add",
          "block_3_expand",
          "block_3_expand_BN",
          "block_3_expand_relu",
          "block_3_pad",
          "block_3_depthwise",
          "block_3_depthwise_BN",
          "block_3_depthwise_relu",
          "block_3_project",
          "block_3_project_BN",
          "block_4_expand",
          "block_4_expand_BN",
          "block_4_expand_relu",
          "block_4_depthwise",
          "block_4_depthwise_BN",
          "block_4_depthwise_relu",
          "block_4_project",
          "block_4_project_BN",
          "block_4_add",
          "block_5_expand",
          "block_5_expand_BN",
          "block_5_expand_relu",
          "block_5_depthwise",
          "block_5_depthwise_BN",
          "block_5_depthwise_relu",
          "block_5_project",
          "block_5_project_BN",
          "block_5_add",
          "block_6_expand",
          "block_6_expand_BN",
          "block_6_expand_relu",
          "block_6_pad",
          "block_6_depthwise",
          "block_6_depthwise_BN",
          "block_6_depthwise_relu",
          "block_6_project",
          "block_6_project_BN",
          "block_7_expand",
          "block_7_expand_BN",
          "block_7_expand_relu",
          "block_7_depthwise",
          "block_7_depthwise_BN",
          "block_7_depthwise_relu",
          "block_7_project",
          "block_7_project_BN",
          "block_7_add",
          "block_8_expand",
          "block_8_expand_BN",
          "block_8_expand_relu",
          "block_8_depthwise",
          "block_8_depthwise_BN",
          "block_8_depthwise_relu",
          "block_8_project",
          "block_8_project_BN",
          "block_8_add",
          "block_9_expand",
          "block_9_expand_BN",
          "block_9_expand_relu",
          "block_9_depthwise",
          "block_9_depthwise_BN",
          "block_9_depthwise_relu",
          "block_9_project",
          "block_9_project_BN",
          "block_9_add",
          "block_10_expand",
          "block_10_expand_BN",
          "block_10_expand_relu",
          "block_10_depthwise",
          "block_10_depthwise_BN",
          "block_10_depthwise_relu",
          "block_10_project",
          "block_10_project_BN",
          "block_11_expand",
          "block_11_expand_BN",
          "block_11_expand_relu",
          "block_11_depthwise",
          "block_11_depthwise_BN",
          "block_11_depthwise_relu",
          "block_11_project",
          "block_11_project_BN",
          "block_11_add",
          "block_12_expand",
          "block_12_expand_BN",
          "block_12_expand_relu",
          "block_12_depthwise",
          "block_12_depthwise_BN",
          "block_12_depthwise_relu",
          "block_12_project",
          "block_12_project_BN",
          "block_12_add",
          "block_13_expand",
          "block_13_expand_BN",
          "block_13_expand_relu",
          "block_13_pad",
          "block_13_depthwise",
          "block_13_depthwise_BN",
          "block_13_depthwise_relu",
          "block_13_project",
          "block_13_project_BN",
          "block_14_expand",
          "block_14_expand_BN",
          "block_14_expand_relu",
          "block_14_depthwise",
          "block_14_depthwise_BN",
          "block_14_depthwise_relu",
          "block_14_project",
          "block_14_project_BN",
          "block_14_add",
          "block_15_expand",
          "block_15_expand_BN",
          "block_15_expand_relu",
          "block_15_depthwise",
          "block_15_depthwise_BN",
          "block_15_depthwise_relu",
          "block_15_project",
          "block_15_project_BN",
          "block_15_add",
          "block_16_expand",
          "block_16_expand_BN",
          "block_16_expand_relu",
          "block_16_depthwise",
          "block_16_depthwise_BN",
          "block_16_depthwise_relu",
          "block_16_project",
          "block_16_project_BN",
          "Conv_1",
          "Conv_1_bn",
          "out_relu",
          "global_average_pooling2d",
          "predictions"
         ],
         "xaxis": "x",
         "y": [
          9216,
          18432,
          18432,
          18432,
          18432,
          18432,
          18432,
          18432,
          18432,
          18432,
          110592,
          110592,
          110592,
          115248,
          27648,
          27648,
          27648,
          4608,
          4608,
          27648,
          27648,
          27648,
          27648,
          27648,
          27648,
          4608,
          4608,
          4608,
          27648,
          27648,
          27648,
          30000,
          6912,
          6912,
          6912,
          1152,
          1152,
          6912,
          6912,
          6912,
          6912,
          6912,
          6912,
          1152,
          1152,
          1152,
          6912,
          6912,
          6912,
          6912,
          6912,
          6912,
          1152,
          1152,
          1152,
          6912,
          6912,
          6912,
          8112,
          1728,
          1728,
          1728,
          288,
          288,
          1728,
          1728,
          1728,
          1728,
          1728,
          1728,
          288,
          288,
          288,
          1728,
          1728,
          1728,
          1728,
          1728,
          1728,
          288,
          288,
          288,
          1728,
          1728,
          1728,
          1728,
          1728,
          1728,
          288,
          288,
          288,
          1728,
          1728,
          1728,
          1728,
          1728,
          1728,
          576,
          576,
          3456,
          3456,
          3456,
          3456,
          3456,
          3456,
          576,
          576,
          576,
          3456,
          3456,
          3456,
          3456,
          3456,
          3456,
          576,
          576,
          576,
          3456,
          3456,
          3456,
          4704,
          864,
          864,
          864,
          144,
          144,
          864,
          864,
          864,
          864,
          864,
          864,
          144,
          144,
          144,
          864,
          864,
          864,
          864,
          864,
          864,
          144,
          144,
          144,
          864,
          864,
          864,
          864,
          864,
          864,
          288,
          288,
          11520,
          11520,
          11520,
          1280,
          3
         ],
         "yaxis": "y"
        }
       ],
       "layout": {
        "annotations": [
         {
          "showarrow": false,
          "text": "256 kB MCU constraint",
          "x": 1,
          "xanchor": "right",
          "xref": "x domain",
          "y": 256000,
          "yanchor": "top",
          "yref": "y"
         }
        ],
        "barmode": "relative",
        "legend": {
         "title": {
          "text": "variable"
         },
         "tracegroupgap": 0
        },
        "shapes": [
         {
          "line": {
           "color": "orange",
           "dash": "dash",
           "width": 3
          },
          "type": "line",
          "x0": 0,
          "x1": 1,
          "xref": "x domain",
          "y0": 256000,
          "y1": 256000,
          "yref": "y"
         }
        ],
        "template": {
         "data": {
          "bar": [
           {
            "error_x": {
             "color": "#2a3f5f"
            },
            "error_y": {
             "color": "#2a3f5f"
            },
            "marker": {
             "line": {
              "color": "#E5ECF6",
              "width": 0.5
             },
             "pattern": {
              "fillmode": "overlay",
              "size": 10,
              "solidity": 0.2
             }
            },
            "type": "bar"
           }
          ],
          "barpolar": [
           {
            "marker": {
             "line": {
              "color": "#E5ECF6",
              "width": 0.5
             },
             "pattern": {
              "fillmode": "overlay",
              "size": 10,
              "solidity": 0.2
             }
            },
            "type": "barpolar"
           }
          ],
          "carpet": [
           {
            "aaxis": {
             "endlinecolor": "#2a3f5f",
             "gridcolor": "white",
             "linecolor": "white",
             "minorgridcolor": "white",
             "startlinecolor": "#2a3f5f"
            },
            "baxis": {
             "endlinecolor": "#2a3f5f",
             "gridcolor": "white",
             "linecolor": "white",
             "minorgridcolor": "white",
             "startlinecolor": "#2a3f5f"
            },
            "type": "carpet"
           }
          ],
          "choropleth": [
           {
            "colorbar": {
             "outlinewidth": 0,
             "ticks": ""
            },
            "type": "choropleth"
           }
          ],
          "contour": [
           {
            "colorbar": {
             "outlinewidth": 0,
             "ticks": ""
            },
            "colorscale": [
             [
              0,
              "#0d0887"
             ],
             [
              0.1111111111111111,
              "#46039f"
             ],
             [
              0.2222222222222222,
              "#7201a8"
             ],
             [
              0.3333333333333333,
              "#9c179e"
             ],
             [
              0.4444444444444444,
              "#bd3786"
             ],
             [
              0.5555555555555556,
              "#d8576b"
             ],
             [
              0.6666666666666666,
              "#ed7953"
             ],
             [
              0.7777777777777778,
              "#fb9f3a"
             ],
             [
              0.8888888888888888,
              "#fdca26"
             ],
             [
              1,
              "#f0f921"
             ]
            ],
            "type": "contour"
           }
          ],
          "contourcarpet": [
           {
            "colorbar": {
             "outlinewidth": 0,
             "ticks": ""
            },
            "type": "contourcarpet"
           }
          ],
          "heatmap": [
           {
            "colorbar": {
             "outlinewidth": 0,
             "ticks": ""
            },
            "colorscale": [
             [
              0,
              "#0d0887"
             ],
             [
              0.1111111111111111,
              "#46039f"
             ],
             [
              0.2222222222222222,
              "#7201a8"
             ],
             [
              0.3333333333333333,
              "#9c179e"
             ],
             [
              0.4444444444444444,
              "#bd3786"
             ],
             [
              0.5555555555555556,
              "#d8576b"
             ],
             [
              0.6666666666666666,
              "#ed7953"
             ],
             [
              0.7777777777777778,
              "#fb9f3a"
             ],
             [
              0.8888888888888888,
              "#fdca26"
             ],
             [
              1,
              "#f0f921"
             ]
            ],
            "type": "heatmap"
           }
          ],
          "heatmapgl": [
           {
            "colorbar": {
             "outlinewidth": 0,
             "ticks": ""
            },
            "colorscale": [
             [
              0,
              "#0d0887"
             ],
             [
              0.1111111111111111,
              "#46039f"
             ],
             [
              0.2222222222222222,
              "#7201a8"
             ],
             [
              0.3333333333333333,
              "#9c179e"
             ],
             [
              0.4444444444444444,
              "#bd3786"
             ],
             [
              0.5555555555555556,
              "#d8576b"
             ],
             [
              0.6666666666666666,
              "#ed7953"
             ],
             [
              0.7777777777777778,
              "#fb9f3a"
             ],
             [
              0.8888888888888888,
              "#fdca26"
             ],
             [
              1,
              "#f0f921"
             ]
            ],
            "type": "heatmapgl"
           }
          ],
          "histogram": [
           {
            "marker": {
             "pattern": {
              "fillmode": "overlay",
              "size": 10,
              "solidity": 0.2
             }
            },
            "type": "histogram"
           }
          ],
          "histogram2d": [
           {
            "colorbar": {
             "outlinewidth": 0,
             "ticks": ""
            },
            "colorscale": [
             [
              0,
              "#0d0887"
             ],
             [
              0.1111111111111111,
              "#46039f"
             ],
             [
              0.2222222222222222,
              "#7201a8"
             ],
             [
              0.3333333333333333,
              "#9c179e"
             ],
             [
              0.4444444444444444,
              "#bd3786"
             ],
             [
              0.5555555555555556,
              "#d8576b"
             ],
             [
              0.6666666666666666,
              "#ed7953"
             ],
             [
              0.7777777777777778,
              "#fb9f3a"
             ],
             [
              0.8888888888888888,
              "#fdca26"
             ],
             [
              1,
              "#f0f921"
             ]
            ],
            "type": "histogram2d"
           }
          ],
          "histogram2dcontour": [
           {
            "colorbar": {
             "outlinewidth": 0,
             "ticks": ""
            },
            "colorscale": [
             [
              0,
              "#0d0887"
             ],
             [
              0.1111111111111111,
              "#46039f"
             ],
             [
              0.2222222222222222,
              "#7201a8"
             ],
             [
              0.3333333333333333,
              "#9c179e"
             ],
             [
              0.4444444444444444,
              "#bd3786"
             ],
             [
              0.5555555555555556,
              "#d8576b"
             ],
             [
              0.6666666666666666,
              "#ed7953"
             ],
             [
              0.7777777777777778,
              "#fb9f3a"
             ],
             [
              0.8888888888888888,
              "#fdca26"
             ],
             [
              1,
              "#f0f921"
             ]
            ],
            "type": "histogram2dcontour"
           }
          ],
          "mesh3d": [
           {
            "colorbar": {
             "outlinewidth": 0,
             "ticks": ""
            },
            "type": "mesh3d"
           }
          ],
          "parcoords": [
           {
            "line": {
             "colorbar": {
              "outlinewidth": 0,
              "ticks": ""
             }
            },
            "type": "parcoords"
           }
          ],
          "pie": [
           {
            "automargin": true,
            "type": "pie"
           }
          ],
          "scatter": [
           {
            "fillpattern": {
             "fillmode": "overlay",
             "size": 10,
             "solidity": 0.2
            },
            "type": "scatter"
           }
          ],
          "scatter3d": [
           {
            "line": {
             "colorbar": {
              "outlinewidth": 0,
              "ticks": ""
             }
            },
            "marker": {
             "colorbar": {
              "outlinewidth": 0,
              "ticks": ""
             }
            },
            "type": "scatter3d"
           }
          ],
          "scattercarpet": [
           {
            "marker": {
             "colorbar": {
              "outlinewidth": 0,
              "ticks": ""
             }
            },
            "type": "scattercarpet"
           }
          ],
          "scattergeo": [
           {
            "marker": {
             "colorbar": {
              "outlinewidth": 0,
              "ticks": ""
             }
            },
            "type": "scattergeo"
           }
          ],
          "scattergl": [
           {
            "marker": {
             "colorbar": {
              "outlinewidth": 0,
              "ticks": ""
             }
            },
            "type": "scattergl"
           }
          ],
          "scattermapbox": [
           {
            "marker": {
             "colorbar": {
              "outlinewidth": 0,
              "ticks": ""
             }
            },
            "type": "scattermapbox"
           }
          ],
          "scatterpolar": [
           {
            "marker": {
             "colorbar": {
              "outlinewidth": 0,
              "ticks": ""
             }
            },
            "type": "scatterpolar"
           }
          ],
          "scatterpolargl": [
           {
            "marker": {
             "colorbar": {
              "outlinewidth": 0,
              "ticks": ""
             }
            },
            "type": "scatterpolargl"
           }
          ],
          "scatterternary": [
           {
            "marker": {
             "colorbar": {
              "outlinewidth": 0,
              "ticks": ""
             }
            },
            "type": "scatterternary"
           }
          ],
          "surface": [
           {
            "colorbar": {
             "outlinewidth": 0,
             "ticks": ""
            },
            "colorscale": [
             [
              0,
              "#0d0887"
             ],
             [
              0.1111111111111111,
              "#46039f"
             ],
             [
              0.2222222222222222,
              "#7201a8"
             ],
             [
              0.3333333333333333,
              "#9c179e"
             ],
             [
              0.4444444444444444,
              "#bd3786"
             ],
             [
              0.5555555555555556,
              "#d8576b"
             ],
             [
              0.6666666666666666,
              "#ed7953"
             ],
             [
              0.7777777777777778,
              "#fb9f3a"
             ],
             [
              0.8888888888888888,
              "#fdca26"
             ],
             [
              1,
              "#f0f921"
             ]
            ],
            "type": "surface"
           }
          ],
          "table": [
           {
            "cells": {
             "fill": {
              "color": "#EBF0F8"
             },
             "line": {
              "color": "white"
             }
            },
            "header": {
             "fill": {
              "color": "#C8D4E3"
             },
             "line": {
              "color": "white"
             }
            },
            "type": "table"
           }
          ]
         },
         "layout": {
          "annotationdefaults": {
           "arrowcolor": "#2a3f5f",
           "arrowhead": 0,
           "arrowwidth": 1
          },
          "autotypenumbers": "strict",
          "coloraxis": {
           "colorbar": {
            "outlinewidth": 0,
            "ticks": ""
           }
          },
          "colorscale": {
           "diverging": [
            [
             0,
             "#8e0152"
            ],
            [
             0.1,
             "#c51b7d"
            ],
            [
             0.2,
             "#de77ae"
            ],
            [
             0.3,
             "#f1b6da"
            ],
            [
             0.4,
             "#fde0ef"
            ],
            [
             0.5,
             "#f7f7f7"
            ],
            [
             0.6,
             "#e6f5d0"
            ],
            [
             0.7,
             "#b8e186"
            ],
            [
             0.8,
             "#7fbc41"
            ],
            [
             0.9,
             "#4d9221"
            ],
            [
             1,
             "#276419"
            ]
           ],
           "sequential": [
            [
             0,
             "#0d0887"
            ],
            [
             0.1111111111111111,
             "#46039f"
            ],
            [
             0.2222222222222222,
             "#7201a8"
            ],
            [
             0.3333333333333333,
             "#9c179e"
            ],
            [
             0.4444444444444444,
             "#bd3786"
            ],
            [
             0.5555555555555556,
             "#d8576b"
            ],
            [
             0.6666666666666666,
             "#ed7953"
            ],
            [
             0.7777777777777778,
             "#fb9f3a"
            ],
            [
             0.8888888888888888,
             "#fdca26"
            ],
            [
             1,
             "#f0f921"
            ]
           ],
           "sequentialminus": [
            [
             0,
             "#0d0887"
            ],
            [
             0.1111111111111111,
             "#46039f"
            ],
            [
             0.2222222222222222,
             "#7201a8"
            ],
            [
             0.3333333333333333,
             "#9c179e"
            ],
            [
             0.4444444444444444,
             "#bd3786"
            ],
            [
             0.5555555555555556,
             "#d8576b"
            ],
            [
             0.6666666666666666,
             "#ed7953"
            ],
            [
             0.7777777777777778,
             "#fb9f3a"
            ],
            [
             0.8888888888888888,
             "#fdca26"
            ],
            [
             1,
             "#f0f921"
            ]
           ]
          },
          "colorway": [
           "#636efa",
           "#EF553B",
           "#00cc96",
           "#ab63fa",
           "#FFA15A",
           "#19d3f3",
           "#FF6692",
           "#B6E880",
           "#FF97FF",
           "#FECB52"
          ],
          "font": {
           "color": "#2a3f5f"
          },
          "geo": {
           "bgcolor": "white",
           "lakecolor": "white",
           "landcolor": "#E5ECF6",
           "showlakes": true,
           "showland": true,
           "subunitcolor": "white"
          },
          "hoverlabel": {
           "align": "left"
          },
          "hovermode": "closest",
          "mapbox": {
           "style": "light"
          },
          "paper_bgcolor": "white",
          "plot_bgcolor": "#E5ECF6",
          "polar": {
           "angularaxis": {
            "gridcolor": "white",
            "linecolor": "white",
            "ticks": ""
           },
           "bgcolor": "#E5ECF6",
           "radialaxis": {
            "gridcolor": "white",
            "linecolor": "white",
            "ticks": ""
           }
          },
          "scene": {
           "xaxis": {
            "backgroundcolor": "#E5ECF6",
            "gridcolor": "white",
            "gridwidth": 2,
            "linecolor": "white",
            "showbackground": true,
            "ticks": "",
            "zerolinecolor": "white"
           },
           "yaxis": {
            "backgroundcolor": "#E5ECF6",
            "gridcolor": "white",
            "gridwidth": 2,
            "linecolor": "white",
            "showbackground": true,
            "ticks": "",
            "zerolinecolor": "white"
           },
           "zaxis": {
            "backgroundcolor": "#E5ECF6",
            "gridcolor": "white",
            "gridwidth": 2,
            "linecolor": "white",
            "showbackground": true,
            "ticks": "",
            "zerolinecolor": "white"
           }
          },
          "shapedefaults": {
           "line": {
            "color": "#2a3f5f"
           }
          },
          "ternary": {
           "aaxis": {
            "gridcolor": "white",
            "linecolor": "white",
            "ticks": ""
           },
           "baxis": {
            "gridcolor": "white",
            "linecolor": "white",
            "ticks": ""
           },
           "bgcolor": "#E5ECF6",
           "caxis": {
            "gridcolor": "white",
            "linecolor": "white",
            "ticks": ""
           }
          },
          "title": {
           "x": 0.05
          },
          "xaxis": {
           "automargin": true,
           "gridcolor": "white",
           "linecolor": "white",
           "ticks": "",
           "title": {
            "standoff": 15
           },
           "zerolinecolor": "white",
           "zerolinewidth": 2
          },
          "yaxis": {
           "automargin": true,
           "gridcolor": "white",
           "linecolor": "white",
           "ticks": "",
           "title": {
            "standoff": 15
           },
           "zerolinecolor": "white",
           "zerolinewidth": 2
          }
         }
        },
        "title": {
         "text": "Peak activations per layer - mobilenetv2_0.1_96_c1_o3_keras"
        },
        "xaxis": {
         "anchor": "y",
         "domain": [
          0,
          1
         ],
         "title": {
          "text": "name"
         }
        },
        "yaxis": {
         "anchor": "x",
         "domain": [
          0,
          1
         ],
         "title": {
          "text": "value"
         }
        }
       }
      },
      "text/html": [
       "<div>                            <div id=\"b91df31f-3b33-44c7-a59a-42a7dd737a06\" class=\"plotly-graph-div\" style=\"height:525px; width:100%;\"></div>            <script type=\"text/javascript\">                require([\"plotly\"], function(Plotly) {                    window.PLOTLYENV=window.PLOTLYENV || {};                                    if (document.getElementById(\"b91df31f-3b33-44c7-a59a-42a7dd737a06\")) {                    Plotly.newPlot(                        \"b91df31f-3b33-44c7-a59a-42a7dd737a06\",                        [{\"alignmentgroup\":\"True\",\"hovertemplate\":\"variable=#i_1_activations<br>name=%{x}<br>value=%{y}<extra></extra>\",\"legendgroup\":\"#i_1_activations\",\"marker\":{\"color\":\"#636efa\",\"pattern\":{\"shape\":\"\"}},\"name\":\"#i_1_activations\",\"offsetgroup\":\"#i_1_activations\",\"orientation\":\"v\",\"showlegend\":true,\"textposition\":\"auto\",\"texttemplate\":\"%{y:.2s}\",\"x\":[\"input_1\",\"Conv1\",\"bn_Conv1\",\"Conv1_relu\",\"expanded_conv_depthwise\",\"expanded_conv_depthwise_BN\",\"expanded_conv_depthwise_relu\",\"expanded_conv_project\",\"expanded_conv_project_BN\",\"expanded_conv_add\",\"block_1_expand\",\"block_1_expand_BN\",\"block_1_expand_relu\",\"block_1_pad\",\"block_1_depthwise\",\"block_1_depthwise_BN\",\"block_1_depthwise_relu\",\"block_1_project\",\"block_1_project_BN\",\"block_2_expand\",\"block_2_expand_BN\",\"block_2_expand_relu\",\"block_2_depthwise\",\"block_2_depthwise_BN\",\"block_2_depthwise_relu\",\"block_2_project\",\"block_2_project_BN\",\"block_2_add\",\"block_3_expand\",\"block_3_expand_BN\",\"block_3_expand_relu\",\"block_3_pad\",\"block_3_depthwise\",\"block_3_depthwise_BN\",\"block_3_depthwise_relu\",\"block_3_project\",\"block_3_project_BN\",\"block_4_expand\",\"block_4_expand_BN\",\"block_4_expand_relu\",\"block_4_depthwise\",\"block_4_depthwise_BN\",\"block_4_depthwise_relu\",\"block_4_project\",\"block_4_project_BN\",\"block_4_add\",\"block_5_expand\",\"block_5_expand_BN\",\"block_5_expand_relu\",\"block_5_depthwise\",\"block_5_depthwise_BN\",\"block_5_depthwise_relu\",\"block_5_project\",\"block_5_project_BN\",\"block_5_add\",\"block_6_expand\",\"block_6_expand_BN\",\"block_6_expand_relu\",\"block_6_pad\",\"block_6_depthwise\",\"block_6_depthwise_BN\",\"block_6_depthwise_relu\",\"block_6_project\",\"block_6_project_BN\",\"block_7_expand\",\"block_7_expand_BN\",\"block_7_expand_relu\",\"block_7_depthwise\",\"block_7_depthwise_BN\",\"block_7_depthwise_relu\",\"block_7_project\",\"block_7_project_BN\",\"block_7_add\",\"block_8_expand\",\"block_8_expand_BN\",\"block_8_expand_relu\",\"block_8_depthwise\",\"block_8_depthwise_BN\",\"block_8_depthwise_relu\",\"block_8_project\",\"block_8_project_BN\",\"block_8_add\",\"block_9_expand\",\"block_9_expand_BN\",\"block_9_expand_relu\",\"block_9_depthwise\",\"block_9_depthwise_BN\",\"block_9_depthwise_relu\",\"block_9_project\",\"block_9_project_BN\",\"block_9_add\",\"block_10_expand\",\"block_10_expand_BN\",\"block_10_expand_relu\",\"block_10_depthwise\",\"block_10_depthwise_BN\",\"block_10_depthwise_relu\",\"block_10_project\",\"block_10_project_BN\",\"block_11_expand\",\"block_11_expand_BN\",\"block_11_expand_relu\",\"block_11_depthwise\",\"block_11_depthwise_BN\",\"block_11_depthwise_relu\",\"block_11_project\",\"block_11_project_BN\",\"block_11_add\",\"block_12_expand\",\"block_12_expand_BN\",\"block_12_expand_relu\",\"block_12_depthwise\",\"block_12_depthwise_BN\",\"block_12_depthwise_relu\",\"block_12_project\",\"block_12_project_BN\",\"block_12_add\",\"block_13_expand\",\"block_13_expand_BN\",\"block_13_expand_relu\",\"block_13_pad\",\"block_13_depthwise\",\"block_13_depthwise_BN\",\"block_13_depthwise_relu\",\"block_13_project\",\"block_13_project_BN\",\"block_14_expand\",\"block_14_expand_BN\",\"block_14_expand_relu\",\"block_14_depthwise\",\"block_14_depthwise_BN\",\"block_14_depthwise_relu\",\"block_14_project\",\"block_14_project_BN\",\"block_14_add\",\"block_15_expand\",\"block_15_expand_BN\",\"block_15_expand_relu\",\"block_15_depthwise\",\"block_15_depthwise_BN\",\"block_15_depthwise_relu\",\"block_15_project\",\"block_15_project_BN\",\"block_15_add\",\"block_16_expand\",\"block_16_expand_BN\",\"block_16_expand_relu\",\"block_16_depthwise\",\"block_16_depthwise_BN\",\"block_16_depthwise_relu\",\"block_16_project\",\"block_16_project_BN\",\"Conv_1\",\"Conv_1_bn\",\"out_relu\",\"global_average_pooling2d\",\"predictions\"],\"xaxis\":\"x\",\"y\":[9216,9216,18432,18432,18432,18432,18432,18432,18432,18432,18432,110592,110592,110592,115248,27648,27648,27648,4608,4608,27648,27648,27648,27648,27648,27648,4608,4608,4608,27648,27648,27648,30000,6912,6912,6912,1152,1152,6912,6912,6912,6912,6912,6912,1152,1152,1152,6912,6912,6912,6912,6912,6912,1152,1152,1152,6912,6912,6912,8112,1728,1728,1728,288,288,1728,1728,1728,1728,1728,1728,288,288,288,1728,1728,1728,1728,1728,1728,288,288,288,1728,1728,1728,1728,1728,1728,288,288,288,1728,1728,1728,1728,1728,1728,576,576,3456,3456,3456,3456,3456,3456,576,576,576,3456,3456,3456,3456,3456,3456,576,576,576,3456,3456,3456,4704,864,864,864,144,144,864,864,864,864,864,864,144,144,144,864,864,864,864,864,864,144,144,144,864,864,864,864,864,864,288,288,11520,11520,11520,1280],\"yaxis\":\"y\",\"type\":\"bar\"},{\"alignmentgroup\":\"True\",\"hovertemplate\":\"variable=#i_2_activations<br>name=%{x}<br>value=%{y}<extra></extra>\",\"legendgroup\":\"#i_2_activations\",\"marker\":{\"color\":\"#EF553B\",\"pattern\":{\"shape\":\"\"}},\"name\":\"#i_2_activations\",\"offsetgroup\":\"#i_2_activations\",\"orientation\":\"v\",\"showlegend\":true,\"textposition\":\"auto\",\"texttemplate\":\"%{y:.2s}\",\"x\":[\"input_1\",\"Conv1\",\"bn_Conv1\",\"Conv1_relu\",\"expanded_conv_depthwise\",\"expanded_conv_depthwise_BN\",\"expanded_conv_depthwise_relu\",\"expanded_conv_project\",\"expanded_conv_project_BN\",\"expanded_conv_add\",\"block_1_expand\",\"block_1_expand_BN\",\"block_1_expand_relu\",\"block_1_pad\",\"block_1_depthwise\",\"block_1_depthwise_BN\",\"block_1_depthwise_relu\",\"block_1_project\",\"block_1_project_BN\",\"block_2_expand\",\"block_2_expand_BN\",\"block_2_expand_relu\",\"block_2_depthwise\",\"block_2_depthwise_BN\",\"block_2_depthwise_relu\",\"block_2_project\",\"block_2_project_BN\",\"block_2_add\",\"block_3_expand\",\"block_3_expand_BN\",\"block_3_expand_relu\",\"block_3_pad\",\"block_3_depthwise\",\"block_3_depthwise_BN\",\"block_3_depthwise_relu\",\"block_3_project\",\"block_3_project_BN\",\"block_4_expand\",\"block_4_expand_BN\",\"block_4_expand_relu\",\"block_4_depthwise\",\"block_4_depthwise_BN\",\"block_4_depthwise_relu\",\"block_4_project\",\"block_4_project_BN\",\"block_4_add\",\"block_5_expand\",\"block_5_expand_BN\",\"block_5_expand_relu\",\"block_5_depthwise\",\"block_5_depthwise_BN\",\"block_5_depthwise_relu\",\"block_5_project\",\"block_5_project_BN\",\"block_5_add\",\"block_6_expand\",\"block_6_expand_BN\",\"block_6_expand_relu\",\"block_6_pad\",\"block_6_depthwise\",\"block_6_depthwise_BN\",\"block_6_depthwise_relu\",\"block_6_project\",\"block_6_project_BN\",\"block_7_expand\",\"block_7_expand_BN\",\"block_7_expand_relu\",\"block_7_depthwise\",\"block_7_depthwise_BN\",\"block_7_depthwise_relu\",\"block_7_project\",\"block_7_project_BN\",\"block_7_add\",\"block_8_expand\",\"block_8_expand_BN\",\"block_8_expand_relu\",\"block_8_depthwise\",\"block_8_depthwise_BN\",\"block_8_depthwise_relu\",\"block_8_project\",\"block_8_project_BN\",\"block_8_add\",\"block_9_expand\",\"block_9_expand_BN\",\"block_9_expand_relu\",\"block_9_depthwise\",\"block_9_depthwise_BN\",\"block_9_depthwise_relu\",\"block_9_project\",\"block_9_project_BN\",\"block_9_add\",\"block_10_expand\",\"block_10_expand_BN\",\"block_10_expand_relu\",\"block_10_depthwise\",\"block_10_depthwise_BN\",\"block_10_depthwise_relu\",\"block_10_project\",\"block_10_project_BN\",\"block_11_expand\",\"block_11_expand_BN\",\"block_11_expand_relu\",\"block_11_depthwise\",\"block_11_depthwise_BN\",\"block_11_depthwise_relu\",\"block_11_project\",\"block_11_project_BN\",\"block_11_add\",\"block_12_expand\",\"block_12_expand_BN\",\"block_12_expand_relu\",\"block_12_depthwise\",\"block_12_depthwise_BN\",\"block_12_depthwise_relu\",\"block_12_project\",\"block_12_project_BN\",\"block_12_add\",\"block_13_expand\",\"block_13_expand_BN\",\"block_13_expand_relu\",\"block_13_pad\",\"block_13_depthwise\",\"block_13_depthwise_BN\",\"block_13_depthwise_relu\",\"block_13_project\",\"block_13_project_BN\",\"block_14_expand\",\"block_14_expand_BN\",\"block_14_expand_relu\",\"block_14_depthwise\",\"block_14_depthwise_BN\",\"block_14_depthwise_relu\",\"block_14_project\",\"block_14_project_BN\",\"block_14_add\",\"block_15_expand\",\"block_15_expand_BN\",\"block_15_expand_relu\",\"block_15_depthwise\",\"block_15_depthwise_BN\",\"block_15_depthwise_relu\",\"block_15_project\",\"block_15_project_BN\",\"block_15_add\",\"block_16_expand\",\"block_16_expand_BN\",\"block_16_expand_relu\",\"block_16_depthwise\",\"block_16_depthwise_BN\",\"block_16_depthwise_relu\",\"block_16_project\",\"block_16_project_BN\",\"Conv_1\",\"Conv_1_bn\",\"out_relu\",\"global_average_pooling2d\",\"predictions\"],\"xaxis\":\"x\",\"y\":[0,0,0,18432,18432,18432,18432,18432,18432,18432,0,0,0,0,0,0,0,0,4608,4608,4608,4608,4608,4608,4608,4608,4608,4608,0,0,0,0,0,0,0,0,1152,1152,1152,1152,1152,1152,1152,1152,1152,1152,1152,1152,1152,1152,1152,1152,1152,1152,1152,0,0,0,0,0,0,0,0,288,288,288,288,288,288,288,288,288,288,288,288,288,288,288,288,288,288,288,288,288,288,288,288,288,288,288,288,0,0,0,0,0,0,0,576,576,576,576,576,576,576,576,576,576,576,576,576,576,576,576,576,576,576,0,0,0,0,0,0,0,0,144,144,144,144,144,144,144,144,144,144,144,144,144,144,144,144,144,144,144,0,0,0,0,0,0,0,0,0,0,0,0,0],\"yaxis\":\"y\",\"type\":\"bar\"},{\"alignmentgroup\":\"True\",\"hovertemplate\":\"variable=#o_1_activations<br>name=%{x}<br>value=%{y}<extra></extra>\",\"legendgroup\":\"#o_1_activations\",\"marker\":{\"color\":\"#00cc96\",\"pattern\":{\"shape\":\"\"}},\"name\":\"#o_1_activations\",\"offsetgroup\":\"#o_1_activations\",\"orientation\":\"v\",\"showlegend\":true,\"textposition\":\"auto\",\"texttemplate\":\"%{y:.2s}\",\"x\":[\"input_1\",\"Conv1\",\"bn_Conv1\",\"Conv1_relu\",\"expanded_conv_depthwise\",\"expanded_conv_depthwise_BN\",\"expanded_conv_depthwise_relu\",\"expanded_conv_project\",\"expanded_conv_project_BN\",\"expanded_conv_add\",\"block_1_expand\",\"block_1_expand_BN\",\"block_1_expand_relu\",\"block_1_pad\",\"block_1_depthwise\",\"block_1_depthwise_BN\",\"block_1_depthwise_relu\",\"block_1_project\",\"block_1_project_BN\",\"block_2_expand\",\"block_2_expand_BN\",\"block_2_expand_relu\",\"block_2_depthwise\",\"block_2_depthwise_BN\",\"block_2_depthwise_relu\",\"block_2_project\",\"block_2_project_BN\",\"block_2_add\",\"block_3_expand\",\"block_3_expand_BN\",\"block_3_expand_relu\",\"block_3_pad\",\"block_3_depthwise\",\"block_3_depthwise_BN\",\"block_3_depthwise_relu\",\"block_3_project\",\"block_3_project_BN\",\"block_4_expand\",\"block_4_expand_BN\",\"block_4_expand_relu\",\"block_4_depthwise\",\"block_4_depthwise_BN\",\"block_4_depthwise_relu\",\"block_4_project\",\"block_4_project_BN\",\"block_4_add\",\"block_5_expand\",\"block_5_expand_BN\",\"block_5_expand_relu\",\"block_5_depthwise\",\"block_5_depthwise_BN\",\"block_5_depthwise_relu\",\"block_5_project\",\"block_5_project_BN\",\"block_5_add\",\"block_6_expand\",\"block_6_expand_BN\",\"block_6_expand_relu\",\"block_6_pad\",\"block_6_depthwise\",\"block_6_depthwise_BN\",\"block_6_depthwise_relu\",\"block_6_project\",\"block_6_project_BN\",\"block_7_expand\",\"block_7_expand_BN\",\"block_7_expand_relu\",\"block_7_depthwise\",\"block_7_depthwise_BN\",\"block_7_depthwise_relu\",\"block_7_project\",\"block_7_project_BN\",\"block_7_add\",\"block_8_expand\",\"block_8_expand_BN\",\"block_8_expand_relu\",\"block_8_depthwise\",\"block_8_depthwise_BN\",\"block_8_depthwise_relu\",\"block_8_project\",\"block_8_project_BN\",\"block_8_add\",\"block_9_expand\",\"block_9_expand_BN\",\"block_9_expand_relu\",\"block_9_depthwise\",\"block_9_depthwise_BN\",\"block_9_depthwise_relu\",\"block_9_project\",\"block_9_project_BN\",\"block_9_add\",\"block_10_expand\",\"block_10_expand_BN\",\"block_10_expand_relu\",\"block_10_depthwise\",\"block_10_depthwise_BN\",\"block_10_depthwise_relu\",\"block_10_project\",\"block_10_project_BN\",\"block_11_expand\",\"block_11_expand_BN\",\"block_11_expand_relu\",\"block_11_depthwise\",\"block_11_depthwise_BN\",\"block_11_depthwise_relu\",\"block_11_project\",\"block_11_project_BN\",\"block_11_add\",\"block_12_expand\",\"block_12_expand_BN\",\"block_12_expand_relu\",\"block_12_depthwise\",\"block_12_depthwise_BN\",\"block_12_depthwise_relu\",\"block_12_project\",\"block_12_project_BN\",\"block_12_add\",\"block_13_expand\",\"block_13_expand_BN\",\"block_13_expand_relu\",\"block_13_pad\",\"block_13_depthwise\",\"block_13_depthwise_BN\",\"block_13_depthwise_relu\",\"block_13_project\",\"block_13_project_BN\",\"block_14_expand\",\"block_14_expand_BN\",\"block_14_expand_relu\",\"block_14_depthwise\",\"block_14_depthwise_BN\",\"block_14_depthwise_relu\",\"block_14_project\",\"block_14_project_BN\",\"block_14_add\",\"block_15_expand\",\"block_15_expand_BN\",\"block_15_expand_relu\",\"block_15_depthwise\",\"block_15_depthwise_BN\",\"block_15_depthwise_relu\",\"block_15_project\",\"block_15_project_BN\",\"block_15_add\",\"block_16_expand\",\"block_16_expand_BN\",\"block_16_expand_relu\",\"block_16_depthwise\",\"block_16_depthwise_BN\",\"block_16_depthwise_relu\",\"block_16_project\",\"block_16_project_BN\",\"Conv_1\",\"Conv_1_bn\",\"out_relu\",\"global_average_pooling2d\",\"predictions\"],\"xaxis\":\"x\",\"y\":[9216,18432,18432,18432,18432,18432,18432,18432,18432,18432,110592,110592,110592,115248,27648,27648,27648,4608,4608,27648,27648,27648,27648,27648,27648,4608,4608,4608,27648,27648,27648,30000,6912,6912,6912,1152,1152,6912,6912,6912,6912,6912,6912,1152,1152,1152,6912,6912,6912,6912,6912,6912,1152,1152,1152,6912,6912,6912,8112,1728,1728,1728,288,288,1728,1728,1728,1728,1728,1728,288,288,288,1728,1728,1728,1728,1728,1728,288,288,288,1728,1728,1728,1728,1728,1728,288,288,288,1728,1728,1728,1728,1728,1728,576,576,3456,3456,3456,3456,3456,3456,576,576,576,3456,3456,3456,3456,3456,3456,576,576,576,3456,3456,3456,4704,864,864,864,144,144,864,864,864,864,864,864,144,144,144,864,864,864,864,864,864,144,144,144,864,864,864,864,864,864,288,288,11520,11520,11520,1280,3],\"yaxis\":\"y\",\"type\":\"bar\"}],                        {\"template\":{\"data\":{\"histogram2dcontour\":[{\"type\":\"histogram2dcontour\",\"colorbar\":{\"outlinewidth\":0,\"ticks\":\"\"},\"colorscale\":[[0.0,\"#0d0887\"],[0.1111111111111111,\"#46039f\"],[0.2222222222222222,\"#7201a8\"],[0.3333333333333333,\"#9c179e\"],[0.4444444444444444,\"#bd3786\"],[0.5555555555555556,\"#d8576b\"],[0.6666666666666666,\"#ed7953\"],[0.7777777777777778,\"#fb9f3a\"],[0.8888888888888888,\"#fdca26\"],[1.0,\"#f0f921\"]]}],\"choropleth\":[{\"type\":\"choropleth\",\"colorbar\":{\"outlinewidth\":0,\"ticks\":\"\"}}],\"histogram2d\":[{\"type\":\"histogram2d\",\"colorbar\":{\"outlinewidth\":0,\"ticks\":\"\"},\"colorscale\":[[0.0,\"#0d0887\"],[0.1111111111111111,\"#46039f\"],[0.2222222222222222,\"#7201a8\"],[0.3333333333333333,\"#9c179e\"],[0.4444444444444444,\"#bd3786\"],[0.5555555555555556,\"#d8576b\"],[0.6666666666666666,\"#ed7953\"],[0.7777777777777778,\"#fb9f3a\"],[0.8888888888888888,\"#fdca26\"],[1.0,\"#f0f921\"]]}],\"heatmap\":[{\"type\":\"heatmap\",\"colorbar\":{\"outlinewidth\":0,\"ticks\":\"\"},\"colorscale\":[[0.0,\"#0d0887\"],[0.1111111111111111,\"#46039f\"],[0.2222222222222222,\"#7201a8\"],[0.3333333333333333,\"#9c179e\"],[0.4444444444444444,\"#bd3786\"],[0.5555555555555556,\"#d8576b\"],[0.6666666666666666,\"#ed7953\"],[0.7777777777777778,\"#fb9f3a\"],[0.8888888888888888,\"#fdca26\"],[1.0,\"#f0f921\"]]}],\"heatmapgl\":[{\"type\":\"heatmapgl\",\"colorbar\":{\"outlinewidth\":0,\"ticks\":\"\"},\"colorscale\":[[0.0,\"#0d0887\"],[0.1111111111111111,\"#46039f\"],[0.2222222222222222,\"#7201a8\"],[0.3333333333333333,\"#9c179e\"],[0.4444444444444444,\"#bd3786\"],[0.5555555555555556,\"#d8576b\"],[0.6666666666666666,\"#ed7953\"],[0.7777777777777778,\"#fb9f3a\"],[0.8888888888888888,\"#fdca26\"],[1.0,\"#f0f921\"]]}],\"contourcarpet\":[{\"type\":\"contourcarpet\",\"colorbar\":{\"outlinewidth\":0,\"ticks\":\"\"}}],\"contour\":[{\"type\":\"contour\",\"colorbar\":{\"outlinewidth\":0,\"ticks\":\"\"},\"colorscale\":[[0.0,\"#0d0887\"],[0.1111111111111111,\"#46039f\"],[0.2222222222222222,\"#7201a8\"],[0.3333333333333333,\"#9c179e\"],[0.4444444444444444,\"#bd3786\"],[0.5555555555555556,\"#d8576b\"],[0.6666666666666666,\"#ed7953\"],[0.7777777777777778,\"#fb9f3a\"],[0.8888888888888888,\"#fdca26\"],[1.0,\"#f0f921\"]]}],\"surface\":[{\"type\":\"surface\",\"colorbar\":{\"outlinewidth\":0,\"ticks\":\"\"},\"colorscale\":[[0.0,\"#0d0887\"],[0.1111111111111111,\"#46039f\"],[0.2222222222222222,\"#7201a8\"],[0.3333333333333333,\"#9c179e\"],[0.4444444444444444,\"#bd3786\"],[0.5555555555555556,\"#d8576b\"],[0.6666666666666666,\"#ed7953\"],[0.7777777777777778,\"#fb9f3a\"],[0.8888888888888888,\"#fdca26\"],[1.0,\"#f0f921\"]]}],\"mesh3d\":[{\"type\":\"mesh3d\",\"colorbar\":{\"outlinewidth\":0,\"ticks\":\"\"}}],\"scatter\":[{\"fillpattern\":{\"fillmode\":\"overlay\",\"size\":10,\"solidity\":0.2},\"type\":\"scatter\"}],\"parcoords\":[{\"type\":\"parcoords\",\"line\":{\"colorbar\":{\"outlinewidth\":0,\"ticks\":\"\"}}}],\"scatterpolargl\":[{\"type\":\"scatterpolargl\",\"marker\":{\"colorbar\":{\"outlinewidth\":0,\"ticks\":\"\"}}}],\"bar\":[{\"error_x\":{\"color\":\"#2a3f5f\"},\"error_y\":{\"color\":\"#2a3f5f\"},\"marker\":{\"line\":{\"color\":\"#E5ECF6\",\"width\":0.5},\"pattern\":{\"fillmode\":\"overlay\",\"size\":10,\"solidity\":0.2}},\"type\":\"bar\"}],\"scattergeo\":[{\"type\":\"scattergeo\",\"marker\":{\"colorbar\":{\"outlinewidth\":0,\"ticks\":\"\"}}}],\"scatterpolar\":[{\"type\":\"scatterpolar\",\"marker\":{\"colorbar\":{\"outlinewidth\":0,\"ticks\":\"\"}}}],\"histogram\":[{\"marker\":{\"pattern\":{\"fillmode\":\"overlay\",\"size\":10,\"solidity\":0.2}},\"type\":\"histogram\"}],\"scattergl\":[{\"type\":\"scattergl\",\"marker\":{\"colorbar\":{\"outlinewidth\":0,\"ticks\":\"\"}}}],\"scatter3d\":[{\"type\":\"scatter3d\",\"line\":{\"colorbar\":{\"outlinewidth\":0,\"ticks\":\"\"}},\"marker\":{\"colorbar\":{\"outlinewidth\":0,\"ticks\":\"\"}}}],\"scattermapbox\":[{\"type\":\"scattermapbox\",\"marker\":{\"colorbar\":{\"outlinewidth\":0,\"ticks\":\"\"}}}],\"scatterternary\":[{\"type\":\"scatterternary\",\"marker\":{\"colorbar\":{\"outlinewidth\":0,\"ticks\":\"\"}}}],\"scattercarpet\":[{\"type\":\"scattercarpet\",\"marker\":{\"colorbar\":{\"outlinewidth\":0,\"ticks\":\"\"}}}],\"carpet\":[{\"aaxis\":{\"endlinecolor\":\"#2a3f5f\",\"gridcolor\":\"white\",\"linecolor\":\"white\",\"minorgridcolor\":\"white\",\"startlinecolor\":\"#2a3f5f\"},\"baxis\":{\"endlinecolor\":\"#2a3f5f\",\"gridcolor\":\"white\",\"linecolor\":\"white\",\"minorgridcolor\":\"white\",\"startlinecolor\":\"#2a3f5f\"},\"type\":\"carpet\"}],\"table\":[{\"cells\":{\"fill\":{\"color\":\"#EBF0F8\"},\"line\":{\"color\":\"white\"}},\"header\":{\"fill\":{\"color\":\"#C8D4E3\"},\"line\":{\"color\":\"white\"}},\"type\":\"table\"}],\"barpolar\":[{\"marker\":{\"line\":{\"color\":\"#E5ECF6\",\"width\":0.5},\"pattern\":{\"fillmode\":\"overlay\",\"size\":10,\"solidity\":0.2}},\"type\":\"barpolar\"}],\"pie\":[{\"automargin\":true,\"type\":\"pie\"}]},\"layout\":{\"autotypenumbers\":\"strict\",\"colorway\":[\"#636efa\",\"#EF553B\",\"#00cc96\",\"#ab63fa\",\"#FFA15A\",\"#19d3f3\",\"#FF6692\",\"#B6E880\",\"#FF97FF\",\"#FECB52\"],\"font\":{\"color\":\"#2a3f5f\"},\"hovermode\":\"closest\",\"hoverlabel\":{\"align\":\"left\"},\"paper_bgcolor\":\"white\",\"plot_bgcolor\":\"#E5ECF6\",\"polar\":{\"bgcolor\":\"#E5ECF6\",\"angularaxis\":{\"gridcolor\":\"white\",\"linecolor\":\"white\",\"ticks\":\"\"},\"radialaxis\":{\"gridcolor\":\"white\",\"linecolor\":\"white\",\"ticks\":\"\"}},\"ternary\":{\"bgcolor\":\"#E5ECF6\",\"aaxis\":{\"gridcolor\":\"white\",\"linecolor\":\"white\",\"ticks\":\"\"},\"baxis\":{\"gridcolor\":\"white\",\"linecolor\":\"white\",\"ticks\":\"\"},\"caxis\":{\"gridcolor\":\"white\",\"linecolor\":\"white\",\"ticks\":\"\"}},\"coloraxis\":{\"colorbar\":{\"outlinewidth\":0,\"ticks\":\"\"}},\"colorscale\":{\"sequential\":[[0.0,\"#0d0887\"],[0.1111111111111111,\"#46039f\"],[0.2222222222222222,\"#7201a8\"],[0.3333333333333333,\"#9c179e\"],[0.4444444444444444,\"#bd3786\"],[0.5555555555555556,\"#d8576b\"],[0.6666666666666666,\"#ed7953\"],[0.7777777777777778,\"#fb9f3a\"],[0.8888888888888888,\"#fdca26\"],[1.0,\"#f0f921\"]],\"sequentialminus\":[[0.0,\"#0d0887\"],[0.1111111111111111,\"#46039f\"],[0.2222222222222222,\"#7201a8\"],[0.3333333333333333,\"#9c179e\"],[0.4444444444444444,\"#bd3786\"],[0.5555555555555556,\"#d8576b\"],[0.6666666666666666,\"#ed7953\"],[0.7777777777777778,\"#fb9f3a\"],[0.8888888888888888,\"#fdca26\"],[1.0,\"#f0f921\"]],\"diverging\":[[0,\"#8e0152\"],[0.1,\"#c51b7d\"],[0.2,\"#de77ae\"],[0.3,\"#f1b6da\"],[0.4,\"#fde0ef\"],[0.5,\"#f7f7f7\"],[0.6,\"#e6f5d0\"],[0.7,\"#b8e186\"],[0.8,\"#7fbc41\"],[0.9,\"#4d9221\"],[1,\"#276419\"]]},\"xaxis\":{\"gridcolor\":\"white\",\"linecolor\":\"white\",\"ticks\":\"\",\"title\":{\"standoff\":15},\"zerolinecolor\":\"white\",\"automargin\":true,\"zerolinewidth\":2},\"yaxis\":{\"gridcolor\":\"white\",\"linecolor\":\"white\",\"ticks\":\"\",\"title\":{\"standoff\":15},\"zerolinecolor\":\"white\",\"automargin\":true,\"zerolinewidth\":2},\"scene\":{\"xaxis\":{\"backgroundcolor\":\"#E5ECF6\",\"gridcolor\":\"white\",\"linecolor\":\"white\",\"showbackground\":true,\"ticks\":\"\",\"zerolinecolor\":\"white\",\"gridwidth\":2},\"yaxis\":{\"backgroundcolor\":\"#E5ECF6\",\"gridcolor\":\"white\",\"linecolor\":\"white\",\"showbackground\":true,\"ticks\":\"\",\"zerolinecolor\":\"white\",\"gridwidth\":2},\"zaxis\":{\"backgroundcolor\":\"#E5ECF6\",\"gridcolor\":\"white\",\"linecolor\":\"white\",\"showbackground\":true,\"ticks\":\"\",\"zerolinecolor\":\"white\",\"gridwidth\":2}},\"shapedefaults\":{\"line\":{\"color\":\"#2a3f5f\"}},\"annotationdefaults\":{\"arrowcolor\":\"#2a3f5f\",\"arrowhead\":0,\"arrowwidth\":1},\"geo\":{\"bgcolor\":\"white\",\"landcolor\":\"#E5ECF6\",\"subunitcolor\":\"white\",\"showland\":true,\"showlakes\":true,\"lakecolor\":\"white\"},\"title\":{\"x\":0.05},\"mapbox\":{\"style\":\"light\"}}},\"xaxis\":{\"anchor\":\"y\",\"domain\":[0.0,1.0],\"title\":{\"text\":\"name\"}},\"yaxis\":{\"anchor\":\"x\",\"domain\":[0.0,1.0],\"title\":{\"text\":\"value\"}},\"legend\":{\"title\":{\"text\":\"variable\"},\"tracegroupgap\":0},\"title\":{\"text\":\"Peak activations per layer - mobilenetv2_0.1_96_c1_o3_keras\"},\"barmode\":\"relative\",\"shapes\":[{\"line\":{\"color\":\"orange\",\"dash\":\"dash\",\"width\":3},\"type\":\"line\",\"x0\":0,\"x1\":1,\"xref\":\"x domain\",\"y0\":256000,\"y1\":256000,\"yref\":\"y\"}],\"annotations\":[{\"showarrow\":false,\"text\":\"256 kB MCU constraint\",\"x\":1,\"xanchor\":\"right\",\"xref\":\"x domain\",\"y\":256000,\"yanchor\":\"top\",\"yref\":\"y\"}]},                        {\"responsive\": true}                    ).then(function(){\n",
       "                            \n",
       "var gd = document.getElementById('b91df31f-3b33-44c7-a59a-42a7dd737a06');\n",
       "var x = new MutationObserver(function (mutations, observer) {{\n",
       "        var display = window.getComputedStyle(gd).display;\n",
       "        if (!display || display === 'none') {{\n",
       "            console.log([gd, 'removed!']);\n",
       "            Plotly.purge(gd);\n",
       "            observer.disconnect();\n",
       "        }}\n",
       "}});\n",
       "\n",
       "// Listen for the removal of the full notebook cells\n",
       "var notebookContainer = gd.closest('#notebook-container');\n",
       "if (notebookContainer) {{\n",
       "    x.observe(notebookContainer, {childList: true});\n",
       "}}\n",
       "\n",
       "// Listen for the clearing of the current output cell\n",
       "var outputEl = gd.closest('.output');\n",
       "if (outputEl) {{\n",
       "    x.observe(outputEl, {childList: true});\n",
       "}}\n",
       "\n",
       "                        })                };                });            </script>        </div>"
      ]
     },
     "metadata": {},
     "output_type": "display_data"
    }
   ],
   "source": [
    "fig = px.bar(df, x=\"name\", y= [\"#i_1_activations\",\"#i_2_activations\", \"#o_1_activations\"], text_auto=\".2s\",\n",
    "    title=f\"Peak activations per layer - {model_name}\")\n",
    "fig.add_hline(y=256000, line_width=3, line_dash=\"dash\", line_color=\"orange\", annotation_text=\"256 kB MCU constraint\", \n",
    "              annotation_position=\"bottom right\")\n",
    "#fig.update_layout(showlegend=True)\n",
    "fig.show()"
   ]
  },
  {
   "cell_type": "code",
   "execution_count": 70,
   "metadata": {},
   "outputs": [
    {
     "data": {
      "application/vnd.plotly.v1+json": {
       "config": {
        "plotlyServerURL": "https://plot.ly"
       },
       "data": [
        {
         "alignmentgroup": "True",
         "hovertemplate": "name=%{x}<br>h_i_1=%{y}<extra></extra>",
         "legendgroup": "",
         "marker": {
          "color": "#636efa",
          "pattern": {
           "shape": ""
          }
         },
         "name": "",
         "offsetgroup": "",
         "orientation": "v",
         "showlegend": false,
         "textposition": "auto",
         "texttemplate": "%{y:.2s}",
         "type": "bar",
         "x": [
          "input_1",
          "Conv1",
          "bn_Conv1",
          "Conv1_relu",
          "expanded_conv_depthwise",
          "expanded_conv_depthwise_BN",
          "expanded_conv_depthwise_relu",
          "expanded_conv_project",
          "expanded_conv_project_BN",
          "expanded_conv_add",
          "block_1_expand",
          "block_1_expand_BN",
          "block_1_expand_relu",
          "block_1_pad",
          "block_1_depthwise",
          "block_1_depthwise_BN",
          "block_1_depthwise_relu",
          "block_1_project",
          "block_1_project_BN",
          "block_2_expand",
          "block_2_expand_BN",
          "block_2_expand_relu",
          "block_2_depthwise",
          "block_2_depthwise_BN",
          "block_2_depthwise_relu",
          "block_2_project",
          "block_2_project_BN",
          "block_2_add",
          "block_3_expand",
          "block_3_expand_BN",
          "block_3_expand_relu",
          "block_3_pad",
          "block_3_depthwise",
          "block_3_depthwise_BN",
          "block_3_depthwise_relu",
          "block_3_project",
          "block_3_project_BN",
          "block_4_expand",
          "block_4_expand_BN",
          "block_4_expand_relu",
          "block_4_depthwise",
          "block_4_depthwise_BN",
          "block_4_depthwise_relu",
          "block_4_project",
          "block_4_project_BN",
          "block_4_add",
          "block_5_expand",
          "block_5_expand_BN",
          "block_5_expand_relu",
          "block_5_depthwise",
          "block_5_depthwise_BN",
          "block_5_depthwise_relu",
          "block_5_project",
          "block_5_project_BN",
          "block_5_add",
          "block_6_expand",
          "block_6_expand_BN",
          "block_6_expand_relu",
          "block_6_pad",
          "block_6_depthwise",
          "block_6_depthwise_BN",
          "block_6_depthwise_relu",
          "block_6_project",
          "block_6_project_BN",
          "block_7_expand",
          "block_7_expand_BN",
          "block_7_expand_relu",
          "block_7_depthwise",
          "block_7_depthwise_BN",
          "block_7_depthwise_relu",
          "block_7_project",
          "block_7_project_BN",
          "block_7_add",
          "block_8_expand",
          "block_8_expand_BN",
          "block_8_expand_relu",
          "block_8_depthwise",
          "block_8_depthwise_BN",
          "block_8_depthwise_relu",
          "block_8_project",
          "block_8_project_BN",
          "block_8_add",
          "block_9_expand",
          "block_9_expand_BN",
          "block_9_expand_relu",
          "block_9_depthwise",
          "block_9_depthwise_BN",
          "block_9_depthwise_relu",
          "block_9_project",
          "block_9_project_BN",
          "block_9_add",
          "block_10_expand",
          "block_10_expand_BN",
          "block_10_expand_relu",
          "block_10_depthwise",
          "block_10_depthwise_BN",
          "block_10_depthwise_relu",
          "block_10_project",
          "block_10_project_BN",
          "block_11_expand",
          "block_11_expand_BN",
          "block_11_expand_relu",
          "block_11_depthwise",
          "block_11_depthwise_BN",
          "block_11_depthwise_relu",
          "block_11_project",
          "block_11_project_BN",
          "block_11_add",
          "block_12_expand",
          "block_12_expand_BN",
          "block_12_expand_relu",
          "block_12_depthwise",
          "block_12_depthwise_BN",
          "block_12_depthwise_relu",
          "block_12_project",
          "block_12_project_BN",
          "block_12_add",
          "block_13_expand",
          "block_13_expand_BN",
          "block_13_expand_relu",
          "block_13_pad",
          "block_13_depthwise",
          "block_13_depthwise_BN",
          "block_13_depthwise_relu",
          "block_13_project",
          "block_13_project_BN",
          "block_14_expand",
          "block_14_expand_BN",
          "block_14_expand_relu",
          "block_14_depthwise",
          "block_14_depthwise_BN",
          "block_14_depthwise_relu",
          "block_14_project",
          "block_14_project_BN",
          "block_14_add",
          "block_15_expand",
          "block_15_expand_BN",
          "block_15_expand_relu",
          "block_15_depthwise",
          "block_15_depthwise_BN",
          "block_15_depthwise_relu",
          "block_15_project",
          "block_15_project_BN",
          "block_15_add",
          "block_16_expand",
          "block_16_expand_BN",
          "block_16_expand_relu",
          "block_16_depthwise",
          "block_16_depthwise_BN",
          "block_16_depthwise_relu",
          "block_16_project",
          "block_16_project_BN",
          "Conv_1",
          "Conv_1_bn",
          "out_relu",
          "global_average_pooling2d",
          "predictions"
         ],
         "xaxis": "x",
         "y": [
          96,
          96,
          48,
          48,
          48,
          48,
          48,
          48,
          48,
          48,
          48,
          48,
          48,
          48,
          49,
          24,
          24,
          24,
          24,
          24,
          24,
          24,
          24,
          24,
          24,
          24,
          24,
          24,
          24,
          24,
          24,
          24,
          25,
          12,
          12,
          12,
          12,
          12,
          12,
          12,
          12,
          12,
          12,
          12,
          12,
          12,
          12,
          12,
          12,
          12,
          12,
          12,
          12,
          12,
          12,
          12,
          12,
          12,
          12,
          13,
          6,
          6,
          6,
          6,
          6,
          6,
          6,
          6,
          6,
          6,
          6,
          6,
          6,
          6,
          6,
          6,
          6,
          6,
          6,
          6,
          6,
          6,
          6,
          6,
          6,
          6,
          6,
          6,
          6,
          6,
          6,
          6,
          6,
          6,
          6,
          6,
          6,
          6,
          6,
          6,
          6,
          6,
          6,
          6,
          6,
          6,
          6,
          6,
          6,
          6,
          6,
          6,
          6,
          6,
          6,
          6,
          6,
          6,
          6,
          6,
          6,
          7,
          3,
          3,
          3,
          3,
          3,
          3,
          3,
          3,
          3,
          3,
          3,
          3,
          3,
          3,
          3,
          3,
          3,
          3,
          3,
          3,
          3,
          3,
          3,
          3,
          3,
          3,
          3,
          3,
          3,
          3,
          3,
          3,
          3,
          3,
          1
         ],
         "yaxis": "y"
        }
       ],
       "layout": {
        "barmode": "relative",
        "legend": {
         "tracegroupgap": 0
        },
        "template": {
         "data": {
          "bar": [
           {
            "error_x": {
             "color": "#2a3f5f"
            },
            "error_y": {
             "color": "#2a3f5f"
            },
            "marker": {
             "line": {
              "color": "#E5ECF6",
              "width": 0.5
             },
             "pattern": {
              "fillmode": "overlay",
              "size": 10,
              "solidity": 0.2
             }
            },
            "type": "bar"
           }
          ],
          "barpolar": [
           {
            "marker": {
             "line": {
              "color": "#E5ECF6",
              "width": 0.5
             },
             "pattern": {
              "fillmode": "overlay",
              "size": 10,
              "solidity": 0.2
             }
            },
            "type": "barpolar"
           }
          ],
          "carpet": [
           {
            "aaxis": {
             "endlinecolor": "#2a3f5f",
             "gridcolor": "white",
             "linecolor": "white",
             "minorgridcolor": "white",
             "startlinecolor": "#2a3f5f"
            },
            "baxis": {
             "endlinecolor": "#2a3f5f",
             "gridcolor": "white",
             "linecolor": "white",
             "minorgridcolor": "white",
             "startlinecolor": "#2a3f5f"
            },
            "type": "carpet"
           }
          ],
          "choropleth": [
           {
            "colorbar": {
             "outlinewidth": 0,
             "ticks": ""
            },
            "type": "choropleth"
           }
          ],
          "contour": [
           {
            "colorbar": {
             "outlinewidth": 0,
             "ticks": ""
            },
            "colorscale": [
             [
              0,
              "#0d0887"
             ],
             [
              0.1111111111111111,
              "#46039f"
             ],
             [
              0.2222222222222222,
              "#7201a8"
             ],
             [
              0.3333333333333333,
              "#9c179e"
             ],
             [
              0.4444444444444444,
              "#bd3786"
             ],
             [
              0.5555555555555556,
              "#d8576b"
             ],
             [
              0.6666666666666666,
              "#ed7953"
             ],
             [
              0.7777777777777778,
              "#fb9f3a"
             ],
             [
              0.8888888888888888,
              "#fdca26"
             ],
             [
              1,
              "#f0f921"
             ]
            ],
            "type": "contour"
           }
          ],
          "contourcarpet": [
           {
            "colorbar": {
             "outlinewidth": 0,
             "ticks": ""
            },
            "type": "contourcarpet"
           }
          ],
          "heatmap": [
           {
            "colorbar": {
             "outlinewidth": 0,
             "ticks": ""
            },
            "colorscale": [
             [
              0,
              "#0d0887"
             ],
             [
              0.1111111111111111,
              "#46039f"
             ],
             [
              0.2222222222222222,
              "#7201a8"
             ],
             [
              0.3333333333333333,
              "#9c179e"
             ],
             [
              0.4444444444444444,
              "#bd3786"
             ],
             [
              0.5555555555555556,
              "#d8576b"
             ],
             [
              0.6666666666666666,
              "#ed7953"
             ],
             [
              0.7777777777777778,
              "#fb9f3a"
             ],
             [
              0.8888888888888888,
              "#fdca26"
             ],
             [
              1,
              "#f0f921"
             ]
            ],
            "type": "heatmap"
           }
          ],
          "heatmapgl": [
           {
            "colorbar": {
             "outlinewidth": 0,
             "ticks": ""
            },
            "colorscale": [
             [
              0,
              "#0d0887"
             ],
             [
              0.1111111111111111,
              "#46039f"
             ],
             [
              0.2222222222222222,
              "#7201a8"
             ],
             [
              0.3333333333333333,
              "#9c179e"
             ],
             [
              0.4444444444444444,
              "#bd3786"
             ],
             [
              0.5555555555555556,
              "#d8576b"
             ],
             [
              0.6666666666666666,
              "#ed7953"
             ],
             [
              0.7777777777777778,
              "#fb9f3a"
             ],
             [
              0.8888888888888888,
              "#fdca26"
             ],
             [
              1,
              "#f0f921"
             ]
            ],
            "type": "heatmapgl"
           }
          ],
          "histogram": [
           {
            "marker": {
             "pattern": {
              "fillmode": "overlay",
              "size": 10,
              "solidity": 0.2
             }
            },
            "type": "histogram"
           }
          ],
          "histogram2d": [
           {
            "colorbar": {
             "outlinewidth": 0,
             "ticks": ""
            },
            "colorscale": [
             [
              0,
              "#0d0887"
             ],
             [
              0.1111111111111111,
              "#46039f"
             ],
             [
              0.2222222222222222,
              "#7201a8"
             ],
             [
              0.3333333333333333,
              "#9c179e"
             ],
             [
              0.4444444444444444,
              "#bd3786"
             ],
             [
              0.5555555555555556,
              "#d8576b"
             ],
             [
              0.6666666666666666,
              "#ed7953"
             ],
             [
              0.7777777777777778,
              "#fb9f3a"
             ],
             [
              0.8888888888888888,
              "#fdca26"
             ],
             [
              1,
              "#f0f921"
             ]
            ],
            "type": "histogram2d"
           }
          ],
          "histogram2dcontour": [
           {
            "colorbar": {
             "outlinewidth": 0,
             "ticks": ""
            },
            "colorscale": [
             [
              0,
              "#0d0887"
             ],
             [
              0.1111111111111111,
              "#46039f"
             ],
             [
              0.2222222222222222,
              "#7201a8"
             ],
             [
              0.3333333333333333,
              "#9c179e"
             ],
             [
              0.4444444444444444,
              "#bd3786"
             ],
             [
              0.5555555555555556,
              "#d8576b"
             ],
             [
              0.6666666666666666,
              "#ed7953"
             ],
             [
              0.7777777777777778,
              "#fb9f3a"
             ],
             [
              0.8888888888888888,
              "#fdca26"
             ],
             [
              1,
              "#f0f921"
             ]
            ],
            "type": "histogram2dcontour"
           }
          ],
          "mesh3d": [
           {
            "colorbar": {
             "outlinewidth": 0,
             "ticks": ""
            },
            "type": "mesh3d"
           }
          ],
          "parcoords": [
           {
            "line": {
             "colorbar": {
              "outlinewidth": 0,
              "ticks": ""
             }
            },
            "type": "parcoords"
           }
          ],
          "pie": [
           {
            "automargin": true,
            "type": "pie"
           }
          ],
          "scatter": [
           {
            "fillpattern": {
             "fillmode": "overlay",
             "size": 10,
             "solidity": 0.2
            },
            "type": "scatter"
           }
          ],
          "scatter3d": [
           {
            "line": {
             "colorbar": {
              "outlinewidth": 0,
              "ticks": ""
             }
            },
            "marker": {
             "colorbar": {
              "outlinewidth": 0,
              "ticks": ""
             }
            },
            "type": "scatter3d"
           }
          ],
          "scattercarpet": [
           {
            "marker": {
             "colorbar": {
              "outlinewidth": 0,
              "ticks": ""
             }
            },
            "type": "scattercarpet"
           }
          ],
          "scattergeo": [
           {
            "marker": {
             "colorbar": {
              "outlinewidth": 0,
              "ticks": ""
             }
            },
            "type": "scattergeo"
           }
          ],
          "scattergl": [
           {
            "marker": {
             "colorbar": {
              "outlinewidth": 0,
              "ticks": ""
             }
            },
            "type": "scattergl"
           }
          ],
          "scattermapbox": [
           {
            "marker": {
             "colorbar": {
              "outlinewidth": 0,
              "ticks": ""
             }
            },
            "type": "scattermapbox"
           }
          ],
          "scatterpolar": [
           {
            "marker": {
             "colorbar": {
              "outlinewidth": 0,
              "ticks": ""
             }
            },
            "type": "scatterpolar"
           }
          ],
          "scatterpolargl": [
           {
            "marker": {
             "colorbar": {
              "outlinewidth": 0,
              "ticks": ""
             }
            },
            "type": "scatterpolargl"
           }
          ],
          "scatterternary": [
           {
            "marker": {
             "colorbar": {
              "outlinewidth": 0,
              "ticks": ""
             }
            },
            "type": "scatterternary"
           }
          ],
          "surface": [
           {
            "colorbar": {
             "outlinewidth": 0,
             "ticks": ""
            },
            "colorscale": [
             [
              0,
              "#0d0887"
             ],
             [
              0.1111111111111111,
              "#46039f"
             ],
             [
              0.2222222222222222,
              "#7201a8"
             ],
             [
              0.3333333333333333,
              "#9c179e"
             ],
             [
              0.4444444444444444,
              "#bd3786"
             ],
             [
              0.5555555555555556,
              "#d8576b"
             ],
             [
              0.6666666666666666,
              "#ed7953"
             ],
             [
              0.7777777777777778,
              "#fb9f3a"
             ],
             [
              0.8888888888888888,
              "#fdca26"
             ],
             [
              1,
              "#f0f921"
             ]
            ],
            "type": "surface"
           }
          ],
          "table": [
           {
            "cells": {
             "fill": {
              "color": "#EBF0F8"
             },
             "line": {
              "color": "white"
             }
            },
            "header": {
             "fill": {
              "color": "#C8D4E3"
             },
             "line": {
              "color": "white"
             }
            },
            "type": "table"
           }
          ]
         },
         "layout": {
          "annotationdefaults": {
           "arrowcolor": "#2a3f5f",
           "arrowhead": 0,
           "arrowwidth": 1
          },
          "autotypenumbers": "strict",
          "coloraxis": {
           "colorbar": {
            "outlinewidth": 0,
            "ticks": ""
           }
          },
          "colorscale": {
           "diverging": [
            [
             0,
             "#8e0152"
            ],
            [
             0.1,
             "#c51b7d"
            ],
            [
             0.2,
             "#de77ae"
            ],
            [
             0.3,
             "#f1b6da"
            ],
            [
             0.4,
             "#fde0ef"
            ],
            [
             0.5,
             "#f7f7f7"
            ],
            [
             0.6,
             "#e6f5d0"
            ],
            [
             0.7,
             "#b8e186"
            ],
            [
             0.8,
             "#7fbc41"
            ],
            [
             0.9,
             "#4d9221"
            ],
            [
             1,
             "#276419"
            ]
           ],
           "sequential": [
            [
             0,
             "#0d0887"
            ],
            [
             0.1111111111111111,
             "#46039f"
            ],
            [
             0.2222222222222222,
             "#7201a8"
            ],
            [
             0.3333333333333333,
             "#9c179e"
            ],
            [
             0.4444444444444444,
             "#bd3786"
            ],
            [
             0.5555555555555556,
             "#d8576b"
            ],
            [
             0.6666666666666666,
             "#ed7953"
            ],
            [
             0.7777777777777778,
             "#fb9f3a"
            ],
            [
             0.8888888888888888,
             "#fdca26"
            ],
            [
             1,
             "#f0f921"
            ]
           ],
           "sequentialminus": [
            [
             0,
             "#0d0887"
            ],
            [
             0.1111111111111111,
             "#46039f"
            ],
            [
             0.2222222222222222,
             "#7201a8"
            ],
            [
             0.3333333333333333,
             "#9c179e"
            ],
            [
             0.4444444444444444,
             "#bd3786"
            ],
            [
             0.5555555555555556,
             "#d8576b"
            ],
            [
             0.6666666666666666,
             "#ed7953"
            ],
            [
             0.7777777777777778,
             "#fb9f3a"
            ],
            [
             0.8888888888888888,
             "#fdca26"
            ],
            [
             1,
             "#f0f921"
            ]
           ]
          },
          "colorway": [
           "#636efa",
           "#EF553B",
           "#00cc96",
           "#ab63fa",
           "#FFA15A",
           "#19d3f3",
           "#FF6692",
           "#B6E880",
           "#FF97FF",
           "#FECB52"
          ],
          "font": {
           "color": "#2a3f5f"
          },
          "geo": {
           "bgcolor": "white",
           "lakecolor": "white",
           "landcolor": "#E5ECF6",
           "showlakes": true,
           "showland": true,
           "subunitcolor": "white"
          },
          "hoverlabel": {
           "align": "left"
          },
          "hovermode": "closest",
          "mapbox": {
           "style": "light"
          },
          "paper_bgcolor": "white",
          "plot_bgcolor": "#E5ECF6",
          "polar": {
           "angularaxis": {
            "gridcolor": "white",
            "linecolor": "white",
            "ticks": ""
           },
           "bgcolor": "#E5ECF6",
           "radialaxis": {
            "gridcolor": "white",
            "linecolor": "white",
            "ticks": ""
           }
          },
          "scene": {
           "xaxis": {
            "backgroundcolor": "#E5ECF6",
            "gridcolor": "white",
            "gridwidth": 2,
            "linecolor": "white",
            "showbackground": true,
            "ticks": "",
            "zerolinecolor": "white"
           },
           "yaxis": {
            "backgroundcolor": "#E5ECF6",
            "gridcolor": "white",
            "gridwidth": 2,
            "linecolor": "white",
            "showbackground": true,
            "ticks": "",
            "zerolinecolor": "white"
           },
           "zaxis": {
            "backgroundcolor": "#E5ECF6",
            "gridcolor": "white",
            "gridwidth": 2,
            "linecolor": "white",
            "showbackground": true,
            "ticks": "",
            "zerolinecolor": "white"
           }
          },
          "shapedefaults": {
           "line": {
            "color": "#2a3f5f"
           }
          },
          "ternary": {
           "aaxis": {
            "gridcolor": "white",
            "linecolor": "white",
            "ticks": ""
           },
           "baxis": {
            "gridcolor": "white",
            "linecolor": "white",
            "ticks": ""
           },
           "bgcolor": "#E5ECF6",
           "caxis": {
            "gridcolor": "white",
            "linecolor": "white",
            "ticks": ""
           }
          },
          "title": {
           "x": 0.05
          },
          "xaxis": {
           "automargin": true,
           "gridcolor": "white",
           "linecolor": "white",
           "ticks": "",
           "title": {
            "standoff": 15
           },
           "zerolinecolor": "white",
           "zerolinewidth": 2
          },
          "yaxis": {
           "automargin": true,
           "gridcolor": "white",
           "linecolor": "white",
           "ticks": "",
           "title": {
            "standoff": 15
           },
           "zerolinecolor": "white",
           "zerolinewidth": 2
          }
         }
        },
        "title": {
         "text": "Input height per layer - mobilenetv2_0.1_96_c1_o3_keras"
        },
        "xaxis": {
         "anchor": "y",
         "domain": [
          0,
          1
         ],
         "title": {
          "text": "name"
         }
        },
        "yaxis": {
         "anchor": "x",
         "domain": [
          0,
          1
         ],
         "title": {
          "text": "h_i_1"
         }
        }
       }
      },
      "text/html": [
       "<div>                            <div id=\"3d4ae1e9-5bff-4929-a33d-2c670fba39f8\" class=\"plotly-graph-div\" style=\"height:525px; width:100%;\"></div>            <script type=\"text/javascript\">                require([\"plotly\"], function(Plotly) {                    window.PLOTLYENV=window.PLOTLYENV || {};                                    if (document.getElementById(\"3d4ae1e9-5bff-4929-a33d-2c670fba39f8\")) {                    Plotly.newPlot(                        \"3d4ae1e9-5bff-4929-a33d-2c670fba39f8\",                        [{\"alignmentgroup\":\"True\",\"hovertemplate\":\"name=%{x}<br>h_i_1=%{y}<extra></extra>\",\"legendgroup\":\"\",\"marker\":{\"color\":\"#636efa\",\"pattern\":{\"shape\":\"\"}},\"name\":\"\",\"offsetgroup\":\"\",\"orientation\":\"v\",\"showlegend\":false,\"textposition\":\"auto\",\"texttemplate\":\"%{y:.2s}\",\"x\":[\"input_1\",\"Conv1\",\"bn_Conv1\",\"Conv1_relu\",\"expanded_conv_depthwise\",\"expanded_conv_depthwise_BN\",\"expanded_conv_depthwise_relu\",\"expanded_conv_project\",\"expanded_conv_project_BN\",\"expanded_conv_add\",\"block_1_expand\",\"block_1_expand_BN\",\"block_1_expand_relu\",\"block_1_pad\",\"block_1_depthwise\",\"block_1_depthwise_BN\",\"block_1_depthwise_relu\",\"block_1_project\",\"block_1_project_BN\",\"block_2_expand\",\"block_2_expand_BN\",\"block_2_expand_relu\",\"block_2_depthwise\",\"block_2_depthwise_BN\",\"block_2_depthwise_relu\",\"block_2_project\",\"block_2_project_BN\",\"block_2_add\",\"block_3_expand\",\"block_3_expand_BN\",\"block_3_expand_relu\",\"block_3_pad\",\"block_3_depthwise\",\"block_3_depthwise_BN\",\"block_3_depthwise_relu\",\"block_3_project\",\"block_3_project_BN\",\"block_4_expand\",\"block_4_expand_BN\",\"block_4_expand_relu\",\"block_4_depthwise\",\"block_4_depthwise_BN\",\"block_4_depthwise_relu\",\"block_4_project\",\"block_4_project_BN\",\"block_4_add\",\"block_5_expand\",\"block_5_expand_BN\",\"block_5_expand_relu\",\"block_5_depthwise\",\"block_5_depthwise_BN\",\"block_5_depthwise_relu\",\"block_5_project\",\"block_5_project_BN\",\"block_5_add\",\"block_6_expand\",\"block_6_expand_BN\",\"block_6_expand_relu\",\"block_6_pad\",\"block_6_depthwise\",\"block_6_depthwise_BN\",\"block_6_depthwise_relu\",\"block_6_project\",\"block_6_project_BN\",\"block_7_expand\",\"block_7_expand_BN\",\"block_7_expand_relu\",\"block_7_depthwise\",\"block_7_depthwise_BN\",\"block_7_depthwise_relu\",\"block_7_project\",\"block_7_project_BN\",\"block_7_add\",\"block_8_expand\",\"block_8_expand_BN\",\"block_8_expand_relu\",\"block_8_depthwise\",\"block_8_depthwise_BN\",\"block_8_depthwise_relu\",\"block_8_project\",\"block_8_project_BN\",\"block_8_add\",\"block_9_expand\",\"block_9_expand_BN\",\"block_9_expand_relu\",\"block_9_depthwise\",\"block_9_depthwise_BN\",\"block_9_depthwise_relu\",\"block_9_project\",\"block_9_project_BN\",\"block_9_add\",\"block_10_expand\",\"block_10_expand_BN\",\"block_10_expand_relu\",\"block_10_depthwise\",\"block_10_depthwise_BN\",\"block_10_depthwise_relu\",\"block_10_project\",\"block_10_project_BN\",\"block_11_expand\",\"block_11_expand_BN\",\"block_11_expand_relu\",\"block_11_depthwise\",\"block_11_depthwise_BN\",\"block_11_depthwise_relu\",\"block_11_project\",\"block_11_project_BN\",\"block_11_add\",\"block_12_expand\",\"block_12_expand_BN\",\"block_12_expand_relu\",\"block_12_depthwise\",\"block_12_depthwise_BN\",\"block_12_depthwise_relu\",\"block_12_project\",\"block_12_project_BN\",\"block_12_add\",\"block_13_expand\",\"block_13_expand_BN\",\"block_13_expand_relu\",\"block_13_pad\",\"block_13_depthwise\",\"block_13_depthwise_BN\",\"block_13_depthwise_relu\",\"block_13_project\",\"block_13_project_BN\",\"block_14_expand\",\"block_14_expand_BN\",\"block_14_expand_relu\",\"block_14_depthwise\",\"block_14_depthwise_BN\",\"block_14_depthwise_relu\",\"block_14_project\",\"block_14_project_BN\",\"block_14_add\",\"block_15_expand\",\"block_15_expand_BN\",\"block_15_expand_relu\",\"block_15_depthwise\",\"block_15_depthwise_BN\",\"block_15_depthwise_relu\",\"block_15_project\",\"block_15_project_BN\",\"block_15_add\",\"block_16_expand\",\"block_16_expand_BN\",\"block_16_expand_relu\",\"block_16_depthwise\",\"block_16_depthwise_BN\",\"block_16_depthwise_relu\",\"block_16_project\",\"block_16_project_BN\",\"Conv_1\",\"Conv_1_bn\",\"out_relu\",\"global_average_pooling2d\",\"predictions\"],\"xaxis\":\"x\",\"y\":[96,96,48,48,48,48,48,48,48,48,48,48,48,48,49,24,24,24,24,24,24,24,24,24,24,24,24,24,24,24,24,24,25,12,12,12,12,12,12,12,12,12,12,12,12,12,12,12,12,12,12,12,12,12,12,12,12,12,12,13,6,6,6,6,6,6,6,6,6,6,6,6,6,6,6,6,6,6,6,6,6,6,6,6,6,6,6,6,6,6,6,6,6,6,6,6,6,6,6,6,6,6,6,6,6,6,6,6,6,6,6,6,6,6,6,6,6,6,6,6,6,7,3,3,3,3,3,3,3,3,3,3,3,3,3,3,3,3,3,3,3,3,3,3,3,3,3,3,3,3,3,3,3,3,3,3,1],\"yaxis\":\"y\",\"type\":\"bar\"}],                        {\"template\":{\"data\":{\"histogram2dcontour\":[{\"type\":\"histogram2dcontour\",\"colorbar\":{\"outlinewidth\":0,\"ticks\":\"\"},\"colorscale\":[[0.0,\"#0d0887\"],[0.1111111111111111,\"#46039f\"],[0.2222222222222222,\"#7201a8\"],[0.3333333333333333,\"#9c179e\"],[0.4444444444444444,\"#bd3786\"],[0.5555555555555556,\"#d8576b\"],[0.6666666666666666,\"#ed7953\"],[0.7777777777777778,\"#fb9f3a\"],[0.8888888888888888,\"#fdca26\"],[1.0,\"#f0f921\"]]}],\"choropleth\":[{\"type\":\"choropleth\",\"colorbar\":{\"outlinewidth\":0,\"ticks\":\"\"}}],\"histogram2d\":[{\"type\":\"histogram2d\",\"colorbar\":{\"outlinewidth\":0,\"ticks\":\"\"},\"colorscale\":[[0.0,\"#0d0887\"],[0.1111111111111111,\"#46039f\"],[0.2222222222222222,\"#7201a8\"],[0.3333333333333333,\"#9c179e\"],[0.4444444444444444,\"#bd3786\"],[0.5555555555555556,\"#d8576b\"],[0.6666666666666666,\"#ed7953\"],[0.7777777777777778,\"#fb9f3a\"],[0.8888888888888888,\"#fdca26\"],[1.0,\"#f0f921\"]]}],\"heatmap\":[{\"type\":\"heatmap\",\"colorbar\":{\"outlinewidth\":0,\"ticks\":\"\"},\"colorscale\":[[0.0,\"#0d0887\"],[0.1111111111111111,\"#46039f\"],[0.2222222222222222,\"#7201a8\"],[0.3333333333333333,\"#9c179e\"],[0.4444444444444444,\"#bd3786\"],[0.5555555555555556,\"#d8576b\"],[0.6666666666666666,\"#ed7953\"],[0.7777777777777778,\"#fb9f3a\"],[0.8888888888888888,\"#fdca26\"],[1.0,\"#f0f921\"]]}],\"heatmapgl\":[{\"type\":\"heatmapgl\",\"colorbar\":{\"outlinewidth\":0,\"ticks\":\"\"},\"colorscale\":[[0.0,\"#0d0887\"],[0.1111111111111111,\"#46039f\"],[0.2222222222222222,\"#7201a8\"],[0.3333333333333333,\"#9c179e\"],[0.4444444444444444,\"#bd3786\"],[0.5555555555555556,\"#d8576b\"],[0.6666666666666666,\"#ed7953\"],[0.7777777777777778,\"#fb9f3a\"],[0.8888888888888888,\"#fdca26\"],[1.0,\"#f0f921\"]]}],\"contourcarpet\":[{\"type\":\"contourcarpet\",\"colorbar\":{\"outlinewidth\":0,\"ticks\":\"\"}}],\"contour\":[{\"type\":\"contour\",\"colorbar\":{\"outlinewidth\":0,\"ticks\":\"\"},\"colorscale\":[[0.0,\"#0d0887\"],[0.1111111111111111,\"#46039f\"],[0.2222222222222222,\"#7201a8\"],[0.3333333333333333,\"#9c179e\"],[0.4444444444444444,\"#bd3786\"],[0.5555555555555556,\"#d8576b\"],[0.6666666666666666,\"#ed7953\"],[0.7777777777777778,\"#fb9f3a\"],[0.8888888888888888,\"#fdca26\"],[1.0,\"#f0f921\"]]}],\"surface\":[{\"type\":\"surface\",\"colorbar\":{\"outlinewidth\":0,\"ticks\":\"\"},\"colorscale\":[[0.0,\"#0d0887\"],[0.1111111111111111,\"#46039f\"],[0.2222222222222222,\"#7201a8\"],[0.3333333333333333,\"#9c179e\"],[0.4444444444444444,\"#bd3786\"],[0.5555555555555556,\"#d8576b\"],[0.6666666666666666,\"#ed7953\"],[0.7777777777777778,\"#fb9f3a\"],[0.8888888888888888,\"#fdca26\"],[1.0,\"#f0f921\"]]}],\"mesh3d\":[{\"type\":\"mesh3d\",\"colorbar\":{\"outlinewidth\":0,\"ticks\":\"\"}}],\"scatter\":[{\"fillpattern\":{\"fillmode\":\"overlay\",\"size\":10,\"solidity\":0.2},\"type\":\"scatter\"}],\"parcoords\":[{\"type\":\"parcoords\",\"line\":{\"colorbar\":{\"outlinewidth\":0,\"ticks\":\"\"}}}],\"scatterpolargl\":[{\"type\":\"scatterpolargl\",\"marker\":{\"colorbar\":{\"outlinewidth\":0,\"ticks\":\"\"}}}],\"bar\":[{\"error_x\":{\"color\":\"#2a3f5f\"},\"error_y\":{\"color\":\"#2a3f5f\"},\"marker\":{\"line\":{\"color\":\"#E5ECF6\",\"width\":0.5},\"pattern\":{\"fillmode\":\"overlay\",\"size\":10,\"solidity\":0.2}},\"type\":\"bar\"}],\"scattergeo\":[{\"type\":\"scattergeo\",\"marker\":{\"colorbar\":{\"outlinewidth\":0,\"ticks\":\"\"}}}],\"scatterpolar\":[{\"type\":\"scatterpolar\",\"marker\":{\"colorbar\":{\"outlinewidth\":0,\"ticks\":\"\"}}}],\"histogram\":[{\"marker\":{\"pattern\":{\"fillmode\":\"overlay\",\"size\":10,\"solidity\":0.2}},\"type\":\"histogram\"}],\"scattergl\":[{\"type\":\"scattergl\",\"marker\":{\"colorbar\":{\"outlinewidth\":0,\"ticks\":\"\"}}}],\"scatter3d\":[{\"type\":\"scatter3d\",\"line\":{\"colorbar\":{\"outlinewidth\":0,\"ticks\":\"\"}},\"marker\":{\"colorbar\":{\"outlinewidth\":0,\"ticks\":\"\"}}}],\"scattermapbox\":[{\"type\":\"scattermapbox\",\"marker\":{\"colorbar\":{\"outlinewidth\":0,\"ticks\":\"\"}}}],\"scatterternary\":[{\"type\":\"scatterternary\",\"marker\":{\"colorbar\":{\"outlinewidth\":0,\"ticks\":\"\"}}}],\"scattercarpet\":[{\"type\":\"scattercarpet\",\"marker\":{\"colorbar\":{\"outlinewidth\":0,\"ticks\":\"\"}}}],\"carpet\":[{\"aaxis\":{\"endlinecolor\":\"#2a3f5f\",\"gridcolor\":\"white\",\"linecolor\":\"white\",\"minorgridcolor\":\"white\",\"startlinecolor\":\"#2a3f5f\"},\"baxis\":{\"endlinecolor\":\"#2a3f5f\",\"gridcolor\":\"white\",\"linecolor\":\"white\",\"minorgridcolor\":\"white\",\"startlinecolor\":\"#2a3f5f\"},\"type\":\"carpet\"}],\"table\":[{\"cells\":{\"fill\":{\"color\":\"#EBF0F8\"},\"line\":{\"color\":\"white\"}},\"header\":{\"fill\":{\"color\":\"#C8D4E3\"},\"line\":{\"color\":\"white\"}},\"type\":\"table\"}],\"barpolar\":[{\"marker\":{\"line\":{\"color\":\"#E5ECF6\",\"width\":0.5},\"pattern\":{\"fillmode\":\"overlay\",\"size\":10,\"solidity\":0.2}},\"type\":\"barpolar\"}],\"pie\":[{\"automargin\":true,\"type\":\"pie\"}]},\"layout\":{\"autotypenumbers\":\"strict\",\"colorway\":[\"#636efa\",\"#EF553B\",\"#00cc96\",\"#ab63fa\",\"#FFA15A\",\"#19d3f3\",\"#FF6692\",\"#B6E880\",\"#FF97FF\",\"#FECB52\"],\"font\":{\"color\":\"#2a3f5f\"},\"hovermode\":\"closest\",\"hoverlabel\":{\"align\":\"left\"},\"paper_bgcolor\":\"white\",\"plot_bgcolor\":\"#E5ECF6\",\"polar\":{\"bgcolor\":\"#E5ECF6\",\"angularaxis\":{\"gridcolor\":\"white\",\"linecolor\":\"white\",\"ticks\":\"\"},\"radialaxis\":{\"gridcolor\":\"white\",\"linecolor\":\"white\",\"ticks\":\"\"}},\"ternary\":{\"bgcolor\":\"#E5ECF6\",\"aaxis\":{\"gridcolor\":\"white\",\"linecolor\":\"white\",\"ticks\":\"\"},\"baxis\":{\"gridcolor\":\"white\",\"linecolor\":\"white\",\"ticks\":\"\"},\"caxis\":{\"gridcolor\":\"white\",\"linecolor\":\"white\",\"ticks\":\"\"}},\"coloraxis\":{\"colorbar\":{\"outlinewidth\":0,\"ticks\":\"\"}},\"colorscale\":{\"sequential\":[[0.0,\"#0d0887\"],[0.1111111111111111,\"#46039f\"],[0.2222222222222222,\"#7201a8\"],[0.3333333333333333,\"#9c179e\"],[0.4444444444444444,\"#bd3786\"],[0.5555555555555556,\"#d8576b\"],[0.6666666666666666,\"#ed7953\"],[0.7777777777777778,\"#fb9f3a\"],[0.8888888888888888,\"#fdca26\"],[1.0,\"#f0f921\"]],\"sequentialminus\":[[0.0,\"#0d0887\"],[0.1111111111111111,\"#46039f\"],[0.2222222222222222,\"#7201a8\"],[0.3333333333333333,\"#9c179e\"],[0.4444444444444444,\"#bd3786\"],[0.5555555555555556,\"#d8576b\"],[0.6666666666666666,\"#ed7953\"],[0.7777777777777778,\"#fb9f3a\"],[0.8888888888888888,\"#fdca26\"],[1.0,\"#f0f921\"]],\"diverging\":[[0,\"#8e0152\"],[0.1,\"#c51b7d\"],[0.2,\"#de77ae\"],[0.3,\"#f1b6da\"],[0.4,\"#fde0ef\"],[0.5,\"#f7f7f7\"],[0.6,\"#e6f5d0\"],[0.7,\"#b8e186\"],[0.8,\"#7fbc41\"],[0.9,\"#4d9221\"],[1,\"#276419\"]]},\"xaxis\":{\"gridcolor\":\"white\",\"linecolor\":\"white\",\"ticks\":\"\",\"title\":{\"standoff\":15},\"zerolinecolor\":\"white\",\"automargin\":true,\"zerolinewidth\":2},\"yaxis\":{\"gridcolor\":\"white\",\"linecolor\":\"white\",\"ticks\":\"\",\"title\":{\"standoff\":15},\"zerolinecolor\":\"white\",\"automargin\":true,\"zerolinewidth\":2},\"scene\":{\"xaxis\":{\"backgroundcolor\":\"#E5ECF6\",\"gridcolor\":\"white\",\"linecolor\":\"white\",\"showbackground\":true,\"ticks\":\"\",\"zerolinecolor\":\"white\",\"gridwidth\":2},\"yaxis\":{\"backgroundcolor\":\"#E5ECF6\",\"gridcolor\":\"white\",\"linecolor\":\"white\",\"showbackground\":true,\"ticks\":\"\",\"zerolinecolor\":\"white\",\"gridwidth\":2},\"zaxis\":{\"backgroundcolor\":\"#E5ECF6\",\"gridcolor\":\"white\",\"linecolor\":\"white\",\"showbackground\":true,\"ticks\":\"\",\"zerolinecolor\":\"white\",\"gridwidth\":2}},\"shapedefaults\":{\"line\":{\"color\":\"#2a3f5f\"}},\"annotationdefaults\":{\"arrowcolor\":\"#2a3f5f\",\"arrowhead\":0,\"arrowwidth\":1},\"geo\":{\"bgcolor\":\"white\",\"landcolor\":\"#E5ECF6\",\"subunitcolor\":\"white\",\"showland\":true,\"showlakes\":true,\"lakecolor\":\"white\"},\"title\":{\"x\":0.05},\"mapbox\":{\"style\":\"light\"}}},\"xaxis\":{\"anchor\":\"y\",\"domain\":[0.0,1.0],\"title\":{\"text\":\"name\"}},\"yaxis\":{\"anchor\":\"x\",\"domain\":[0.0,1.0],\"title\":{\"text\":\"h_i_1\"}},\"legend\":{\"tracegroupgap\":0},\"title\":{\"text\":\"Input height per layer - mobilenetv2_0.1_96_c1_o3_keras\"},\"barmode\":\"relative\"},                        {\"responsive\": true}                    ).then(function(){\n",
       "                            \n",
       "var gd = document.getElementById('3d4ae1e9-5bff-4929-a33d-2c670fba39f8');\n",
       "var x = new MutationObserver(function (mutations, observer) {{\n",
       "        var display = window.getComputedStyle(gd).display;\n",
       "        if (!display || display === 'none') {{\n",
       "            console.log([gd, 'removed!']);\n",
       "            Plotly.purge(gd);\n",
       "            observer.disconnect();\n",
       "        }}\n",
       "}});\n",
       "\n",
       "// Listen for the removal of the full notebook cells\n",
       "var notebookContainer = gd.closest('#notebook-container');\n",
       "if (notebookContainer) {{\n",
       "    x.observe(notebookContainer, {childList: true});\n",
       "}}\n",
       "\n",
       "// Listen for the clearing of the current output cell\n",
       "var outputEl = gd.closest('.output');\n",
       "if (outputEl) {{\n",
       "    x.observe(outputEl, {childList: true});\n",
       "}}\n",
       "\n",
       "                        })                };                });            </script>        </div>"
      ]
     },
     "metadata": {},
     "output_type": "display_data"
    }
   ],
   "source": [
    "fig2 = px.bar(df, x=\"name\", y= \"h_i_1\", text_auto=\".2s\",\n",
    "    title=f\"Input height per layer - {model_name}\")\n",
    "#fig2.add_hline(y=256000, line_width=3, line_dash=\"dash\", line_color=\"orange\")\n",
    "#fig2.update_yaxes(autorange=\"reversed\")\n",
    "#fig2.update_yaxes(rangemode=\"tozero\")\n",
    "fig2.show()"
   ]
  },
  {
   "cell_type": "code",
   "execution_count": 71,
   "metadata": {},
   "outputs": [
    {
     "data": {
      "application/vnd.plotly.v1+json": {
       "config": {
        "plotlyServerURL": "https://plot.ly"
       },
       "data": [
        {
         "alignmentgroup": "True",
         "hovertemplate": "name=%{x}<br>c_i_1=%{y}<extra></extra>",
         "legendgroup": "",
         "marker": {
          "color": "#636efa",
          "pattern": {
           "shape": ""
          }
         },
         "name": "",
         "offsetgroup": "",
         "orientation": "v",
         "showlegend": false,
         "textposition": "auto",
         "texttemplate": "%{y:.2s}",
         "type": "bar",
         "x": [
          "input_1",
          "Conv1",
          "bn_Conv1",
          "Conv1_relu",
          "expanded_conv_depthwise",
          "expanded_conv_depthwise_BN",
          "expanded_conv_depthwise_relu",
          "expanded_conv_project",
          "expanded_conv_project_BN",
          "expanded_conv_add",
          "block_1_expand",
          "block_1_expand_BN",
          "block_1_expand_relu",
          "block_1_pad",
          "block_1_depthwise",
          "block_1_depthwise_BN",
          "block_1_depthwise_relu",
          "block_1_project",
          "block_1_project_BN",
          "block_2_expand",
          "block_2_expand_BN",
          "block_2_expand_relu",
          "block_2_depthwise",
          "block_2_depthwise_BN",
          "block_2_depthwise_relu",
          "block_2_project",
          "block_2_project_BN",
          "block_2_add",
          "block_3_expand",
          "block_3_expand_BN",
          "block_3_expand_relu",
          "block_3_pad",
          "block_3_depthwise",
          "block_3_depthwise_BN",
          "block_3_depthwise_relu",
          "block_3_project",
          "block_3_project_BN",
          "block_4_expand",
          "block_4_expand_BN",
          "block_4_expand_relu",
          "block_4_depthwise",
          "block_4_depthwise_BN",
          "block_4_depthwise_relu",
          "block_4_project",
          "block_4_project_BN",
          "block_4_add",
          "block_5_expand",
          "block_5_expand_BN",
          "block_5_expand_relu",
          "block_5_depthwise",
          "block_5_depthwise_BN",
          "block_5_depthwise_relu",
          "block_5_project",
          "block_5_project_BN",
          "block_5_add",
          "block_6_expand",
          "block_6_expand_BN",
          "block_6_expand_relu",
          "block_6_pad",
          "block_6_depthwise",
          "block_6_depthwise_BN",
          "block_6_depthwise_relu",
          "block_6_project",
          "block_6_project_BN",
          "block_7_expand",
          "block_7_expand_BN",
          "block_7_expand_relu",
          "block_7_depthwise",
          "block_7_depthwise_BN",
          "block_7_depthwise_relu",
          "block_7_project",
          "block_7_project_BN",
          "block_7_add",
          "block_8_expand",
          "block_8_expand_BN",
          "block_8_expand_relu",
          "block_8_depthwise",
          "block_8_depthwise_BN",
          "block_8_depthwise_relu",
          "block_8_project",
          "block_8_project_BN",
          "block_8_add",
          "block_9_expand",
          "block_9_expand_BN",
          "block_9_expand_relu",
          "block_9_depthwise",
          "block_9_depthwise_BN",
          "block_9_depthwise_relu",
          "block_9_project",
          "block_9_project_BN",
          "block_9_add",
          "block_10_expand",
          "block_10_expand_BN",
          "block_10_expand_relu",
          "block_10_depthwise",
          "block_10_depthwise_BN",
          "block_10_depthwise_relu",
          "block_10_project",
          "block_10_project_BN",
          "block_11_expand",
          "block_11_expand_BN",
          "block_11_expand_relu",
          "block_11_depthwise",
          "block_11_depthwise_BN",
          "block_11_depthwise_relu",
          "block_11_project",
          "block_11_project_BN",
          "block_11_add",
          "block_12_expand",
          "block_12_expand_BN",
          "block_12_expand_relu",
          "block_12_depthwise",
          "block_12_depthwise_BN",
          "block_12_depthwise_relu",
          "block_12_project",
          "block_12_project_BN",
          "block_12_add",
          "block_13_expand",
          "block_13_expand_BN",
          "block_13_expand_relu",
          "block_13_pad",
          "block_13_depthwise",
          "block_13_depthwise_BN",
          "block_13_depthwise_relu",
          "block_13_project",
          "block_13_project_BN",
          "block_14_expand",
          "block_14_expand_BN",
          "block_14_expand_relu",
          "block_14_depthwise",
          "block_14_depthwise_BN",
          "block_14_depthwise_relu",
          "block_14_project",
          "block_14_project_BN",
          "block_14_add",
          "block_15_expand",
          "block_15_expand_BN",
          "block_15_expand_relu",
          "block_15_depthwise",
          "block_15_depthwise_BN",
          "block_15_depthwise_relu",
          "block_15_project",
          "block_15_project_BN",
          "block_15_add",
          "block_16_expand",
          "block_16_expand_BN",
          "block_16_expand_relu",
          "block_16_depthwise",
          "block_16_depthwise_BN",
          "block_16_depthwise_relu",
          "block_16_project",
          "block_16_project_BN",
          "Conv_1",
          "Conv_1_bn",
          "out_relu",
          "global_average_pooling2d",
          "predictions"
         ],
         "xaxis": "x",
         "y": [
          1,
          1,
          8,
          8,
          8,
          8,
          8,
          8,
          8,
          8,
          8,
          48,
          48,
          48,
          48,
          48,
          48,
          48,
          8,
          8,
          48,
          48,
          48,
          48,
          48,
          48,
          8,
          8,
          8,
          48,
          48,
          48,
          48,
          48,
          48,
          48,
          8,
          8,
          48,
          48,
          48,
          48,
          48,
          48,
          8,
          8,
          8,
          48,
          48,
          48,
          48,
          48,
          48,
          8,
          8,
          8,
          48,
          48,
          48,
          48,
          48,
          48,
          48,
          8,
          8,
          48,
          48,
          48,
          48,
          48,
          48,
          8,
          8,
          8,
          48,
          48,
          48,
          48,
          48,
          48,
          8,
          8,
          8,
          48,
          48,
          48,
          48,
          48,
          48,
          8,
          8,
          8,
          48,
          48,
          48,
          48,
          48,
          48,
          16,
          16,
          96,
          96,
          96,
          96,
          96,
          96,
          16,
          16,
          16,
          96,
          96,
          96,
          96,
          96,
          96,
          16,
          16,
          16,
          96,
          96,
          96,
          96,
          96,
          96,
          96,
          16,
          16,
          96,
          96,
          96,
          96,
          96,
          96,
          16,
          16,
          16,
          96,
          96,
          96,
          96,
          96,
          96,
          16,
          16,
          16,
          96,
          96,
          96,
          96,
          96,
          96,
          32,
          32,
          1280,
          1280,
          1280,
          1280
         ],
         "yaxis": "y"
        }
       ],
       "layout": {
        "barmode": "relative",
        "legend": {
         "tracegroupgap": 0
        },
        "template": {
         "data": {
          "bar": [
           {
            "error_x": {
             "color": "#2a3f5f"
            },
            "error_y": {
             "color": "#2a3f5f"
            },
            "marker": {
             "line": {
              "color": "#E5ECF6",
              "width": 0.5
             },
             "pattern": {
              "fillmode": "overlay",
              "size": 10,
              "solidity": 0.2
             }
            },
            "type": "bar"
           }
          ],
          "barpolar": [
           {
            "marker": {
             "line": {
              "color": "#E5ECF6",
              "width": 0.5
             },
             "pattern": {
              "fillmode": "overlay",
              "size": 10,
              "solidity": 0.2
             }
            },
            "type": "barpolar"
           }
          ],
          "carpet": [
           {
            "aaxis": {
             "endlinecolor": "#2a3f5f",
             "gridcolor": "white",
             "linecolor": "white",
             "minorgridcolor": "white",
             "startlinecolor": "#2a3f5f"
            },
            "baxis": {
             "endlinecolor": "#2a3f5f",
             "gridcolor": "white",
             "linecolor": "white",
             "minorgridcolor": "white",
             "startlinecolor": "#2a3f5f"
            },
            "type": "carpet"
           }
          ],
          "choropleth": [
           {
            "colorbar": {
             "outlinewidth": 0,
             "ticks": ""
            },
            "type": "choropleth"
           }
          ],
          "contour": [
           {
            "colorbar": {
             "outlinewidth": 0,
             "ticks": ""
            },
            "colorscale": [
             [
              0,
              "#0d0887"
             ],
             [
              0.1111111111111111,
              "#46039f"
             ],
             [
              0.2222222222222222,
              "#7201a8"
             ],
             [
              0.3333333333333333,
              "#9c179e"
             ],
             [
              0.4444444444444444,
              "#bd3786"
             ],
             [
              0.5555555555555556,
              "#d8576b"
             ],
             [
              0.6666666666666666,
              "#ed7953"
             ],
             [
              0.7777777777777778,
              "#fb9f3a"
             ],
             [
              0.8888888888888888,
              "#fdca26"
             ],
             [
              1,
              "#f0f921"
             ]
            ],
            "type": "contour"
           }
          ],
          "contourcarpet": [
           {
            "colorbar": {
             "outlinewidth": 0,
             "ticks": ""
            },
            "type": "contourcarpet"
           }
          ],
          "heatmap": [
           {
            "colorbar": {
             "outlinewidth": 0,
             "ticks": ""
            },
            "colorscale": [
             [
              0,
              "#0d0887"
             ],
             [
              0.1111111111111111,
              "#46039f"
             ],
             [
              0.2222222222222222,
              "#7201a8"
             ],
             [
              0.3333333333333333,
              "#9c179e"
             ],
             [
              0.4444444444444444,
              "#bd3786"
             ],
             [
              0.5555555555555556,
              "#d8576b"
             ],
             [
              0.6666666666666666,
              "#ed7953"
             ],
             [
              0.7777777777777778,
              "#fb9f3a"
             ],
             [
              0.8888888888888888,
              "#fdca26"
             ],
             [
              1,
              "#f0f921"
             ]
            ],
            "type": "heatmap"
           }
          ],
          "heatmapgl": [
           {
            "colorbar": {
             "outlinewidth": 0,
             "ticks": ""
            },
            "colorscale": [
             [
              0,
              "#0d0887"
             ],
             [
              0.1111111111111111,
              "#46039f"
             ],
             [
              0.2222222222222222,
              "#7201a8"
             ],
             [
              0.3333333333333333,
              "#9c179e"
             ],
             [
              0.4444444444444444,
              "#bd3786"
             ],
             [
              0.5555555555555556,
              "#d8576b"
             ],
             [
              0.6666666666666666,
              "#ed7953"
             ],
             [
              0.7777777777777778,
              "#fb9f3a"
             ],
             [
              0.8888888888888888,
              "#fdca26"
             ],
             [
              1,
              "#f0f921"
             ]
            ],
            "type": "heatmapgl"
           }
          ],
          "histogram": [
           {
            "marker": {
             "pattern": {
              "fillmode": "overlay",
              "size": 10,
              "solidity": 0.2
             }
            },
            "type": "histogram"
           }
          ],
          "histogram2d": [
           {
            "colorbar": {
             "outlinewidth": 0,
             "ticks": ""
            },
            "colorscale": [
             [
              0,
              "#0d0887"
             ],
             [
              0.1111111111111111,
              "#46039f"
             ],
             [
              0.2222222222222222,
              "#7201a8"
             ],
             [
              0.3333333333333333,
              "#9c179e"
             ],
             [
              0.4444444444444444,
              "#bd3786"
             ],
             [
              0.5555555555555556,
              "#d8576b"
             ],
             [
              0.6666666666666666,
              "#ed7953"
             ],
             [
              0.7777777777777778,
              "#fb9f3a"
             ],
             [
              0.8888888888888888,
              "#fdca26"
             ],
             [
              1,
              "#f0f921"
             ]
            ],
            "type": "histogram2d"
           }
          ],
          "histogram2dcontour": [
           {
            "colorbar": {
             "outlinewidth": 0,
             "ticks": ""
            },
            "colorscale": [
             [
              0,
              "#0d0887"
             ],
             [
              0.1111111111111111,
              "#46039f"
             ],
             [
              0.2222222222222222,
              "#7201a8"
             ],
             [
              0.3333333333333333,
              "#9c179e"
             ],
             [
              0.4444444444444444,
              "#bd3786"
             ],
             [
              0.5555555555555556,
              "#d8576b"
             ],
             [
              0.6666666666666666,
              "#ed7953"
             ],
             [
              0.7777777777777778,
              "#fb9f3a"
             ],
             [
              0.8888888888888888,
              "#fdca26"
             ],
             [
              1,
              "#f0f921"
             ]
            ],
            "type": "histogram2dcontour"
           }
          ],
          "mesh3d": [
           {
            "colorbar": {
             "outlinewidth": 0,
             "ticks": ""
            },
            "type": "mesh3d"
           }
          ],
          "parcoords": [
           {
            "line": {
             "colorbar": {
              "outlinewidth": 0,
              "ticks": ""
             }
            },
            "type": "parcoords"
           }
          ],
          "pie": [
           {
            "automargin": true,
            "type": "pie"
           }
          ],
          "scatter": [
           {
            "fillpattern": {
             "fillmode": "overlay",
             "size": 10,
             "solidity": 0.2
            },
            "type": "scatter"
           }
          ],
          "scatter3d": [
           {
            "line": {
             "colorbar": {
              "outlinewidth": 0,
              "ticks": ""
             }
            },
            "marker": {
             "colorbar": {
              "outlinewidth": 0,
              "ticks": ""
             }
            },
            "type": "scatter3d"
           }
          ],
          "scattercarpet": [
           {
            "marker": {
             "colorbar": {
              "outlinewidth": 0,
              "ticks": ""
             }
            },
            "type": "scattercarpet"
           }
          ],
          "scattergeo": [
           {
            "marker": {
             "colorbar": {
              "outlinewidth": 0,
              "ticks": ""
             }
            },
            "type": "scattergeo"
           }
          ],
          "scattergl": [
           {
            "marker": {
             "colorbar": {
              "outlinewidth": 0,
              "ticks": ""
             }
            },
            "type": "scattergl"
           }
          ],
          "scattermapbox": [
           {
            "marker": {
             "colorbar": {
              "outlinewidth": 0,
              "ticks": ""
             }
            },
            "type": "scattermapbox"
           }
          ],
          "scatterpolar": [
           {
            "marker": {
             "colorbar": {
              "outlinewidth": 0,
              "ticks": ""
             }
            },
            "type": "scatterpolar"
           }
          ],
          "scatterpolargl": [
           {
            "marker": {
             "colorbar": {
              "outlinewidth": 0,
              "ticks": ""
             }
            },
            "type": "scatterpolargl"
           }
          ],
          "scatterternary": [
           {
            "marker": {
             "colorbar": {
              "outlinewidth": 0,
              "ticks": ""
             }
            },
            "type": "scatterternary"
           }
          ],
          "surface": [
           {
            "colorbar": {
             "outlinewidth": 0,
             "ticks": ""
            },
            "colorscale": [
             [
              0,
              "#0d0887"
             ],
             [
              0.1111111111111111,
              "#46039f"
             ],
             [
              0.2222222222222222,
              "#7201a8"
             ],
             [
              0.3333333333333333,
              "#9c179e"
             ],
             [
              0.4444444444444444,
              "#bd3786"
             ],
             [
              0.5555555555555556,
              "#d8576b"
             ],
             [
              0.6666666666666666,
              "#ed7953"
             ],
             [
              0.7777777777777778,
              "#fb9f3a"
             ],
             [
              0.8888888888888888,
              "#fdca26"
             ],
             [
              1,
              "#f0f921"
             ]
            ],
            "type": "surface"
           }
          ],
          "table": [
           {
            "cells": {
             "fill": {
              "color": "#EBF0F8"
             },
             "line": {
              "color": "white"
             }
            },
            "header": {
             "fill": {
              "color": "#C8D4E3"
             },
             "line": {
              "color": "white"
             }
            },
            "type": "table"
           }
          ]
         },
         "layout": {
          "annotationdefaults": {
           "arrowcolor": "#2a3f5f",
           "arrowhead": 0,
           "arrowwidth": 1
          },
          "autotypenumbers": "strict",
          "coloraxis": {
           "colorbar": {
            "outlinewidth": 0,
            "ticks": ""
           }
          },
          "colorscale": {
           "diverging": [
            [
             0,
             "#8e0152"
            ],
            [
             0.1,
             "#c51b7d"
            ],
            [
             0.2,
             "#de77ae"
            ],
            [
             0.3,
             "#f1b6da"
            ],
            [
             0.4,
             "#fde0ef"
            ],
            [
             0.5,
             "#f7f7f7"
            ],
            [
             0.6,
             "#e6f5d0"
            ],
            [
             0.7,
             "#b8e186"
            ],
            [
             0.8,
             "#7fbc41"
            ],
            [
             0.9,
             "#4d9221"
            ],
            [
             1,
             "#276419"
            ]
           ],
           "sequential": [
            [
             0,
             "#0d0887"
            ],
            [
             0.1111111111111111,
             "#46039f"
            ],
            [
             0.2222222222222222,
             "#7201a8"
            ],
            [
             0.3333333333333333,
             "#9c179e"
            ],
            [
             0.4444444444444444,
             "#bd3786"
            ],
            [
             0.5555555555555556,
             "#d8576b"
            ],
            [
             0.6666666666666666,
             "#ed7953"
            ],
            [
             0.7777777777777778,
             "#fb9f3a"
            ],
            [
             0.8888888888888888,
             "#fdca26"
            ],
            [
             1,
             "#f0f921"
            ]
           ],
           "sequentialminus": [
            [
             0,
             "#0d0887"
            ],
            [
             0.1111111111111111,
             "#46039f"
            ],
            [
             0.2222222222222222,
             "#7201a8"
            ],
            [
             0.3333333333333333,
             "#9c179e"
            ],
            [
             0.4444444444444444,
             "#bd3786"
            ],
            [
             0.5555555555555556,
             "#d8576b"
            ],
            [
             0.6666666666666666,
             "#ed7953"
            ],
            [
             0.7777777777777778,
             "#fb9f3a"
            ],
            [
             0.8888888888888888,
             "#fdca26"
            ],
            [
             1,
             "#f0f921"
            ]
           ]
          },
          "colorway": [
           "#636efa",
           "#EF553B",
           "#00cc96",
           "#ab63fa",
           "#FFA15A",
           "#19d3f3",
           "#FF6692",
           "#B6E880",
           "#FF97FF",
           "#FECB52"
          ],
          "font": {
           "color": "#2a3f5f"
          },
          "geo": {
           "bgcolor": "white",
           "lakecolor": "white",
           "landcolor": "#E5ECF6",
           "showlakes": true,
           "showland": true,
           "subunitcolor": "white"
          },
          "hoverlabel": {
           "align": "left"
          },
          "hovermode": "closest",
          "mapbox": {
           "style": "light"
          },
          "paper_bgcolor": "white",
          "plot_bgcolor": "#E5ECF6",
          "polar": {
           "angularaxis": {
            "gridcolor": "white",
            "linecolor": "white",
            "ticks": ""
           },
           "bgcolor": "#E5ECF6",
           "radialaxis": {
            "gridcolor": "white",
            "linecolor": "white",
            "ticks": ""
           }
          },
          "scene": {
           "xaxis": {
            "backgroundcolor": "#E5ECF6",
            "gridcolor": "white",
            "gridwidth": 2,
            "linecolor": "white",
            "showbackground": true,
            "ticks": "",
            "zerolinecolor": "white"
           },
           "yaxis": {
            "backgroundcolor": "#E5ECF6",
            "gridcolor": "white",
            "gridwidth": 2,
            "linecolor": "white",
            "showbackground": true,
            "ticks": "",
            "zerolinecolor": "white"
           },
           "zaxis": {
            "backgroundcolor": "#E5ECF6",
            "gridcolor": "white",
            "gridwidth": 2,
            "linecolor": "white",
            "showbackground": true,
            "ticks": "",
            "zerolinecolor": "white"
           }
          },
          "shapedefaults": {
           "line": {
            "color": "#2a3f5f"
           }
          },
          "ternary": {
           "aaxis": {
            "gridcolor": "white",
            "linecolor": "white",
            "ticks": ""
           },
           "baxis": {
            "gridcolor": "white",
            "linecolor": "white",
            "ticks": ""
           },
           "bgcolor": "#E5ECF6",
           "caxis": {
            "gridcolor": "white",
            "linecolor": "white",
            "ticks": ""
           }
          },
          "title": {
           "x": 0.05
          },
          "xaxis": {
           "automargin": true,
           "gridcolor": "white",
           "linecolor": "white",
           "ticks": "",
           "title": {
            "standoff": 15
           },
           "zerolinecolor": "white",
           "zerolinewidth": 2
          },
          "yaxis": {
           "automargin": true,
           "gridcolor": "white",
           "linecolor": "white",
           "ticks": "",
           "title": {
            "standoff": 15
           },
           "zerolinecolor": "white",
           "zerolinewidth": 2
          }
         }
        },
        "title": {
         "text": "Channels per layer - mobilenetv2_0.1_96_c1_o3_keras"
        },
        "xaxis": {
         "anchor": "y",
         "domain": [
          0,
          1
         ],
         "title": {
          "text": "name"
         }
        },
        "yaxis": {
         "anchor": "x",
         "domain": [
          0,
          1
         ],
         "title": {
          "text": "c_i_1"
         }
        }
       }
      },
      "text/html": [
       "<div>                            <div id=\"70a1f2b8-2390-4b98-b8c1-5587e4042039\" class=\"plotly-graph-div\" style=\"height:525px; width:100%;\"></div>            <script type=\"text/javascript\">                require([\"plotly\"], function(Plotly) {                    window.PLOTLYENV=window.PLOTLYENV || {};                                    if (document.getElementById(\"70a1f2b8-2390-4b98-b8c1-5587e4042039\")) {                    Plotly.newPlot(                        \"70a1f2b8-2390-4b98-b8c1-5587e4042039\",                        [{\"alignmentgroup\":\"True\",\"hovertemplate\":\"name=%{x}<br>c_i_1=%{y}<extra></extra>\",\"legendgroup\":\"\",\"marker\":{\"color\":\"#636efa\",\"pattern\":{\"shape\":\"\"}},\"name\":\"\",\"offsetgroup\":\"\",\"orientation\":\"v\",\"showlegend\":false,\"textposition\":\"auto\",\"texttemplate\":\"%{y:.2s}\",\"x\":[\"input_1\",\"Conv1\",\"bn_Conv1\",\"Conv1_relu\",\"expanded_conv_depthwise\",\"expanded_conv_depthwise_BN\",\"expanded_conv_depthwise_relu\",\"expanded_conv_project\",\"expanded_conv_project_BN\",\"expanded_conv_add\",\"block_1_expand\",\"block_1_expand_BN\",\"block_1_expand_relu\",\"block_1_pad\",\"block_1_depthwise\",\"block_1_depthwise_BN\",\"block_1_depthwise_relu\",\"block_1_project\",\"block_1_project_BN\",\"block_2_expand\",\"block_2_expand_BN\",\"block_2_expand_relu\",\"block_2_depthwise\",\"block_2_depthwise_BN\",\"block_2_depthwise_relu\",\"block_2_project\",\"block_2_project_BN\",\"block_2_add\",\"block_3_expand\",\"block_3_expand_BN\",\"block_3_expand_relu\",\"block_3_pad\",\"block_3_depthwise\",\"block_3_depthwise_BN\",\"block_3_depthwise_relu\",\"block_3_project\",\"block_3_project_BN\",\"block_4_expand\",\"block_4_expand_BN\",\"block_4_expand_relu\",\"block_4_depthwise\",\"block_4_depthwise_BN\",\"block_4_depthwise_relu\",\"block_4_project\",\"block_4_project_BN\",\"block_4_add\",\"block_5_expand\",\"block_5_expand_BN\",\"block_5_expand_relu\",\"block_5_depthwise\",\"block_5_depthwise_BN\",\"block_5_depthwise_relu\",\"block_5_project\",\"block_5_project_BN\",\"block_5_add\",\"block_6_expand\",\"block_6_expand_BN\",\"block_6_expand_relu\",\"block_6_pad\",\"block_6_depthwise\",\"block_6_depthwise_BN\",\"block_6_depthwise_relu\",\"block_6_project\",\"block_6_project_BN\",\"block_7_expand\",\"block_7_expand_BN\",\"block_7_expand_relu\",\"block_7_depthwise\",\"block_7_depthwise_BN\",\"block_7_depthwise_relu\",\"block_7_project\",\"block_7_project_BN\",\"block_7_add\",\"block_8_expand\",\"block_8_expand_BN\",\"block_8_expand_relu\",\"block_8_depthwise\",\"block_8_depthwise_BN\",\"block_8_depthwise_relu\",\"block_8_project\",\"block_8_project_BN\",\"block_8_add\",\"block_9_expand\",\"block_9_expand_BN\",\"block_9_expand_relu\",\"block_9_depthwise\",\"block_9_depthwise_BN\",\"block_9_depthwise_relu\",\"block_9_project\",\"block_9_project_BN\",\"block_9_add\",\"block_10_expand\",\"block_10_expand_BN\",\"block_10_expand_relu\",\"block_10_depthwise\",\"block_10_depthwise_BN\",\"block_10_depthwise_relu\",\"block_10_project\",\"block_10_project_BN\",\"block_11_expand\",\"block_11_expand_BN\",\"block_11_expand_relu\",\"block_11_depthwise\",\"block_11_depthwise_BN\",\"block_11_depthwise_relu\",\"block_11_project\",\"block_11_project_BN\",\"block_11_add\",\"block_12_expand\",\"block_12_expand_BN\",\"block_12_expand_relu\",\"block_12_depthwise\",\"block_12_depthwise_BN\",\"block_12_depthwise_relu\",\"block_12_project\",\"block_12_project_BN\",\"block_12_add\",\"block_13_expand\",\"block_13_expand_BN\",\"block_13_expand_relu\",\"block_13_pad\",\"block_13_depthwise\",\"block_13_depthwise_BN\",\"block_13_depthwise_relu\",\"block_13_project\",\"block_13_project_BN\",\"block_14_expand\",\"block_14_expand_BN\",\"block_14_expand_relu\",\"block_14_depthwise\",\"block_14_depthwise_BN\",\"block_14_depthwise_relu\",\"block_14_project\",\"block_14_project_BN\",\"block_14_add\",\"block_15_expand\",\"block_15_expand_BN\",\"block_15_expand_relu\",\"block_15_depthwise\",\"block_15_depthwise_BN\",\"block_15_depthwise_relu\",\"block_15_project\",\"block_15_project_BN\",\"block_15_add\",\"block_16_expand\",\"block_16_expand_BN\",\"block_16_expand_relu\",\"block_16_depthwise\",\"block_16_depthwise_BN\",\"block_16_depthwise_relu\",\"block_16_project\",\"block_16_project_BN\",\"Conv_1\",\"Conv_1_bn\",\"out_relu\",\"global_average_pooling2d\",\"predictions\"],\"xaxis\":\"x\",\"y\":[1,1,8,8,8,8,8,8,8,8,8,48,48,48,48,48,48,48,8,8,48,48,48,48,48,48,8,8,8,48,48,48,48,48,48,48,8,8,48,48,48,48,48,48,8,8,8,48,48,48,48,48,48,8,8,8,48,48,48,48,48,48,48,8,8,48,48,48,48,48,48,8,8,8,48,48,48,48,48,48,8,8,8,48,48,48,48,48,48,8,8,8,48,48,48,48,48,48,16,16,96,96,96,96,96,96,16,16,16,96,96,96,96,96,96,16,16,16,96,96,96,96,96,96,96,16,16,96,96,96,96,96,96,16,16,16,96,96,96,96,96,96,16,16,16,96,96,96,96,96,96,32,32,1280,1280,1280,1280],\"yaxis\":\"y\",\"type\":\"bar\"}],                        {\"template\":{\"data\":{\"histogram2dcontour\":[{\"type\":\"histogram2dcontour\",\"colorbar\":{\"outlinewidth\":0,\"ticks\":\"\"},\"colorscale\":[[0.0,\"#0d0887\"],[0.1111111111111111,\"#46039f\"],[0.2222222222222222,\"#7201a8\"],[0.3333333333333333,\"#9c179e\"],[0.4444444444444444,\"#bd3786\"],[0.5555555555555556,\"#d8576b\"],[0.6666666666666666,\"#ed7953\"],[0.7777777777777778,\"#fb9f3a\"],[0.8888888888888888,\"#fdca26\"],[1.0,\"#f0f921\"]]}],\"choropleth\":[{\"type\":\"choropleth\",\"colorbar\":{\"outlinewidth\":0,\"ticks\":\"\"}}],\"histogram2d\":[{\"type\":\"histogram2d\",\"colorbar\":{\"outlinewidth\":0,\"ticks\":\"\"},\"colorscale\":[[0.0,\"#0d0887\"],[0.1111111111111111,\"#46039f\"],[0.2222222222222222,\"#7201a8\"],[0.3333333333333333,\"#9c179e\"],[0.4444444444444444,\"#bd3786\"],[0.5555555555555556,\"#d8576b\"],[0.6666666666666666,\"#ed7953\"],[0.7777777777777778,\"#fb9f3a\"],[0.8888888888888888,\"#fdca26\"],[1.0,\"#f0f921\"]]}],\"heatmap\":[{\"type\":\"heatmap\",\"colorbar\":{\"outlinewidth\":0,\"ticks\":\"\"},\"colorscale\":[[0.0,\"#0d0887\"],[0.1111111111111111,\"#46039f\"],[0.2222222222222222,\"#7201a8\"],[0.3333333333333333,\"#9c179e\"],[0.4444444444444444,\"#bd3786\"],[0.5555555555555556,\"#d8576b\"],[0.6666666666666666,\"#ed7953\"],[0.7777777777777778,\"#fb9f3a\"],[0.8888888888888888,\"#fdca26\"],[1.0,\"#f0f921\"]]}],\"heatmapgl\":[{\"type\":\"heatmapgl\",\"colorbar\":{\"outlinewidth\":0,\"ticks\":\"\"},\"colorscale\":[[0.0,\"#0d0887\"],[0.1111111111111111,\"#46039f\"],[0.2222222222222222,\"#7201a8\"],[0.3333333333333333,\"#9c179e\"],[0.4444444444444444,\"#bd3786\"],[0.5555555555555556,\"#d8576b\"],[0.6666666666666666,\"#ed7953\"],[0.7777777777777778,\"#fb9f3a\"],[0.8888888888888888,\"#fdca26\"],[1.0,\"#f0f921\"]]}],\"contourcarpet\":[{\"type\":\"contourcarpet\",\"colorbar\":{\"outlinewidth\":0,\"ticks\":\"\"}}],\"contour\":[{\"type\":\"contour\",\"colorbar\":{\"outlinewidth\":0,\"ticks\":\"\"},\"colorscale\":[[0.0,\"#0d0887\"],[0.1111111111111111,\"#46039f\"],[0.2222222222222222,\"#7201a8\"],[0.3333333333333333,\"#9c179e\"],[0.4444444444444444,\"#bd3786\"],[0.5555555555555556,\"#d8576b\"],[0.6666666666666666,\"#ed7953\"],[0.7777777777777778,\"#fb9f3a\"],[0.8888888888888888,\"#fdca26\"],[1.0,\"#f0f921\"]]}],\"surface\":[{\"type\":\"surface\",\"colorbar\":{\"outlinewidth\":0,\"ticks\":\"\"},\"colorscale\":[[0.0,\"#0d0887\"],[0.1111111111111111,\"#46039f\"],[0.2222222222222222,\"#7201a8\"],[0.3333333333333333,\"#9c179e\"],[0.4444444444444444,\"#bd3786\"],[0.5555555555555556,\"#d8576b\"],[0.6666666666666666,\"#ed7953\"],[0.7777777777777778,\"#fb9f3a\"],[0.8888888888888888,\"#fdca26\"],[1.0,\"#f0f921\"]]}],\"mesh3d\":[{\"type\":\"mesh3d\",\"colorbar\":{\"outlinewidth\":0,\"ticks\":\"\"}}],\"scatter\":[{\"fillpattern\":{\"fillmode\":\"overlay\",\"size\":10,\"solidity\":0.2},\"type\":\"scatter\"}],\"parcoords\":[{\"type\":\"parcoords\",\"line\":{\"colorbar\":{\"outlinewidth\":0,\"ticks\":\"\"}}}],\"scatterpolargl\":[{\"type\":\"scatterpolargl\",\"marker\":{\"colorbar\":{\"outlinewidth\":0,\"ticks\":\"\"}}}],\"bar\":[{\"error_x\":{\"color\":\"#2a3f5f\"},\"error_y\":{\"color\":\"#2a3f5f\"},\"marker\":{\"line\":{\"color\":\"#E5ECF6\",\"width\":0.5},\"pattern\":{\"fillmode\":\"overlay\",\"size\":10,\"solidity\":0.2}},\"type\":\"bar\"}],\"scattergeo\":[{\"type\":\"scattergeo\",\"marker\":{\"colorbar\":{\"outlinewidth\":0,\"ticks\":\"\"}}}],\"scatterpolar\":[{\"type\":\"scatterpolar\",\"marker\":{\"colorbar\":{\"outlinewidth\":0,\"ticks\":\"\"}}}],\"histogram\":[{\"marker\":{\"pattern\":{\"fillmode\":\"overlay\",\"size\":10,\"solidity\":0.2}},\"type\":\"histogram\"}],\"scattergl\":[{\"type\":\"scattergl\",\"marker\":{\"colorbar\":{\"outlinewidth\":0,\"ticks\":\"\"}}}],\"scatter3d\":[{\"type\":\"scatter3d\",\"line\":{\"colorbar\":{\"outlinewidth\":0,\"ticks\":\"\"}},\"marker\":{\"colorbar\":{\"outlinewidth\":0,\"ticks\":\"\"}}}],\"scattermapbox\":[{\"type\":\"scattermapbox\",\"marker\":{\"colorbar\":{\"outlinewidth\":0,\"ticks\":\"\"}}}],\"scatterternary\":[{\"type\":\"scatterternary\",\"marker\":{\"colorbar\":{\"outlinewidth\":0,\"ticks\":\"\"}}}],\"scattercarpet\":[{\"type\":\"scattercarpet\",\"marker\":{\"colorbar\":{\"outlinewidth\":0,\"ticks\":\"\"}}}],\"carpet\":[{\"aaxis\":{\"endlinecolor\":\"#2a3f5f\",\"gridcolor\":\"white\",\"linecolor\":\"white\",\"minorgridcolor\":\"white\",\"startlinecolor\":\"#2a3f5f\"},\"baxis\":{\"endlinecolor\":\"#2a3f5f\",\"gridcolor\":\"white\",\"linecolor\":\"white\",\"minorgridcolor\":\"white\",\"startlinecolor\":\"#2a3f5f\"},\"type\":\"carpet\"}],\"table\":[{\"cells\":{\"fill\":{\"color\":\"#EBF0F8\"},\"line\":{\"color\":\"white\"}},\"header\":{\"fill\":{\"color\":\"#C8D4E3\"},\"line\":{\"color\":\"white\"}},\"type\":\"table\"}],\"barpolar\":[{\"marker\":{\"line\":{\"color\":\"#E5ECF6\",\"width\":0.5},\"pattern\":{\"fillmode\":\"overlay\",\"size\":10,\"solidity\":0.2}},\"type\":\"barpolar\"}],\"pie\":[{\"automargin\":true,\"type\":\"pie\"}]},\"layout\":{\"autotypenumbers\":\"strict\",\"colorway\":[\"#636efa\",\"#EF553B\",\"#00cc96\",\"#ab63fa\",\"#FFA15A\",\"#19d3f3\",\"#FF6692\",\"#B6E880\",\"#FF97FF\",\"#FECB52\"],\"font\":{\"color\":\"#2a3f5f\"},\"hovermode\":\"closest\",\"hoverlabel\":{\"align\":\"left\"},\"paper_bgcolor\":\"white\",\"plot_bgcolor\":\"#E5ECF6\",\"polar\":{\"bgcolor\":\"#E5ECF6\",\"angularaxis\":{\"gridcolor\":\"white\",\"linecolor\":\"white\",\"ticks\":\"\"},\"radialaxis\":{\"gridcolor\":\"white\",\"linecolor\":\"white\",\"ticks\":\"\"}},\"ternary\":{\"bgcolor\":\"#E5ECF6\",\"aaxis\":{\"gridcolor\":\"white\",\"linecolor\":\"white\",\"ticks\":\"\"},\"baxis\":{\"gridcolor\":\"white\",\"linecolor\":\"white\",\"ticks\":\"\"},\"caxis\":{\"gridcolor\":\"white\",\"linecolor\":\"white\",\"ticks\":\"\"}},\"coloraxis\":{\"colorbar\":{\"outlinewidth\":0,\"ticks\":\"\"}},\"colorscale\":{\"sequential\":[[0.0,\"#0d0887\"],[0.1111111111111111,\"#46039f\"],[0.2222222222222222,\"#7201a8\"],[0.3333333333333333,\"#9c179e\"],[0.4444444444444444,\"#bd3786\"],[0.5555555555555556,\"#d8576b\"],[0.6666666666666666,\"#ed7953\"],[0.7777777777777778,\"#fb9f3a\"],[0.8888888888888888,\"#fdca26\"],[1.0,\"#f0f921\"]],\"sequentialminus\":[[0.0,\"#0d0887\"],[0.1111111111111111,\"#46039f\"],[0.2222222222222222,\"#7201a8\"],[0.3333333333333333,\"#9c179e\"],[0.4444444444444444,\"#bd3786\"],[0.5555555555555556,\"#d8576b\"],[0.6666666666666666,\"#ed7953\"],[0.7777777777777778,\"#fb9f3a\"],[0.8888888888888888,\"#fdca26\"],[1.0,\"#f0f921\"]],\"diverging\":[[0,\"#8e0152\"],[0.1,\"#c51b7d\"],[0.2,\"#de77ae\"],[0.3,\"#f1b6da\"],[0.4,\"#fde0ef\"],[0.5,\"#f7f7f7\"],[0.6,\"#e6f5d0\"],[0.7,\"#b8e186\"],[0.8,\"#7fbc41\"],[0.9,\"#4d9221\"],[1,\"#276419\"]]},\"xaxis\":{\"gridcolor\":\"white\",\"linecolor\":\"white\",\"ticks\":\"\",\"title\":{\"standoff\":15},\"zerolinecolor\":\"white\",\"automargin\":true,\"zerolinewidth\":2},\"yaxis\":{\"gridcolor\":\"white\",\"linecolor\":\"white\",\"ticks\":\"\",\"title\":{\"standoff\":15},\"zerolinecolor\":\"white\",\"automargin\":true,\"zerolinewidth\":2},\"scene\":{\"xaxis\":{\"backgroundcolor\":\"#E5ECF6\",\"gridcolor\":\"white\",\"linecolor\":\"white\",\"showbackground\":true,\"ticks\":\"\",\"zerolinecolor\":\"white\",\"gridwidth\":2},\"yaxis\":{\"backgroundcolor\":\"#E5ECF6\",\"gridcolor\":\"white\",\"linecolor\":\"white\",\"showbackground\":true,\"ticks\":\"\",\"zerolinecolor\":\"white\",\"gridwidth\":2},\"zaxis\":{\"backgroundcolor\":\"#E5ECF6\",\"gridcolor\":\"white\",\"linecolor\":\"white\",\"showbackground\":true,\"ticks\":\"\",\"zerolinecolor\":\"white\",\"gridwidth\":2}},\"shapedefaults\":{\"line\":{\"color\":\"#2a3f5f\"}},\"annotationdefaults\":{\"arrowcolor\":\"#2a3f5f\",\"arrowhead\":0,\"arrowwidth\":1},\"geo\":{\"bgcolor\":\"white\",\"landcolor\":\"#E5ECF6\",\"subunitcolor\":\"white\",\"showland\":true,\"showlakes\":true,\"lakecolor\":\"white\"},\"title\":{\"x\":0.05},\"mapbox\":{\"style\":\"light\"}}},\"xaxis\":{\"anchor\":\"y\",\"domain\":[0.0,1.0],\"title\":{\"text\":\"name\"}},\"yaxis\":{\"anchor\":\"x\",\"domain\":[0.0,1.0],\"title\":{\"text\":\"c_i_1\"}},\"legend\":{\"tracegroupgap\":0},\"title\":{\"text\":\"Channels per layer - mobilenetv2_0.1_96_c1_o3_keras\"},\"barmode\":\"relative\"},                        {\"responsive\": true}                    ).then(function(){\n",
       "                            \n",
       "var gd = document.getElementById('70a1f2b8-2390-4b98-b8c1-5587e4042039');\n",
       "var x = new MutationObserver(function (mutations, observer) {{\n",
       "        var display = window.getComputedStyle(gd).display;\n",
       "        if (!display || display === 'none') {{\n",
       "            console.log([gd, 'removed!']);\n",
       "            Plotly.purge(gd);\n",
       "            observer.disconnect();\n",
       "        }}\n",
       "}});\n",
       "\n",
       "// Listen for the removal of the full notebook cells\n",
       "var notebookContainer = gd.closest('#notebook-container');\n",
       "if (notebookContainer) {{\n",
       "    x.observe(notebookContainer, {childList: true});\n",
       "}}\n",
       "\n",
       "// Listen for the clearing of the current output cell\n",
       "var outputEl = gd.closest('.output');\n",
       "if (outputEl) {{\n",
       "    x.observe(outputEl, {childList: true});\n",
       "}}\n",
       "\n",
       "                        })                };                });            </script>        </div>"
      ]
     },
     "metadata": {},
     "output_type": "display_data"
    }
   ],
   "source": [
    "fig3 = px.bar(df, x=\"name\", y= \"c_i_1\", text_auto=\".2s\",\n",
    "    title=f\"Channels per layer - {model_name}\")\n",
    "#fig2.add_hline(y=256000, line_width=3, line_dash=\"dash\", line_color=\"orange\")\n",
    "#fig3.update_yaxes(autorange=\"reversed\")\n",
    "#fig3.update_yaxes(rangemode=\"tozero\")\n",
    "# fig3.update_yaxes(\n",
    "#     range=(0, 1280),\n",
    "#     constrain='domain'\n",
    "# )\n",
    "fig3.show()"
   ]
  },
  {
   "cell_type": "code",
   "execution_count": 72,
   "metadata": {},
   "outputs": [
    {
     "data": {
      "application/vnd.plotly.v1+json": {
       "config": {
        "plotlyServerURL": "https://plot.ly"
       },
       "data": [
        {
         "hovertemplate": "name=%{x}<br>total_params=%{y}<extra></extra>",
         "legendgroup": "",
         "line": {
          "color": "#636efa",
          "dash": "solid"
         },
         "marker": {
          "symbol": "circle"
         },
         "mode": "lines",
         "name": "",
         "orientation": "v",
         "showlegend": false,
         "type": "scatter",
         "x": [
          "input_1",
          "Conv1",
          "bn_Conv1",
          "Conv1_relu",
          "expanded_conv_depthwise",
          "expanded_conv_depthwise_BN",
          "expanded_conv_depthwise_relu",
          "expanded_conv_project",
          "expanded_conv_project_BN",
          "expanded_conv_add",
          "block_1_expand",
          "block_1_expand_BN",
          "block_1_expand_relu",
          "block_1_pad",
          "block_1_depthwise",
          "block_1_depthwise_BN",
          "block_1_depthwise_relu",
          "block_1_project",
          "block_1_project_BN",
          "block_2_expand",
          "block_2_expand_BN",
          "block_2_expand_relu",
          "block_2_depthwise",
          "block_2_depthwise_BN",
          "block_2_depthwise_relu",
          "block_2_project",
          "block_2_project_BN",
          "block_2_add",
          "block_3_expand",
          "block_3_expand_BN",
          "block_3_expand_relu",
          "block_3_pad",
          "block_3_depthwise",
          "block_3_depthwise_BN",
          "block_3_depthwise_relu",
          "block_3_project",
          "block_3_project_BN",
          "block_4_expand",
          "block_4_expand_BN",
          "block_4_expand_relu",
          "block_4_depthwise",
          "block_4_depthwise_BN",
          "block_4_depthwise_relu",
          "block_4_project",
          "block_4_project_BN",
          "block_4_add",
          "block_5_expand",
          "block_5_expand_BN",
          "block_5_expand_relu",
          "block_5_depthwise",
          "block_5_depthwise_BN",
          "block_5_depthwise_relu",
          "block_5_project",
          "block_5_project_BN",
          "block_5_add",
          "block_6_expand",
          "block_6_expand_BN",
          "block_6_expand_relu",
          "block_6_pad",
          "block_6_depthwise",
          "block_6_depthwise_BN",
          "block_6_depthwise_relu",
          "block_6_project",
          "block_6_project_BN",
          "block_7_expand",
          "block_7_expand_BN",
          "block_7_expand_relu",
          "block_7_depthwise",
          "block_7_depthwise_BN",
          "block_7_depthwise_relu",
          "block_7_project",
          "block_7_project_BN",
          "block_7_add",
          "block_8_expand",
          "block_8_expand_BN",
          "block_8_expand_relu",
          "block_8_depthwise",
          "block_8_depthwise_BN",
          "block_8_depthwise_relu",
          "block_8_project",
          "block_8_project_BN",
          "block_8_add",
          "block_9_expand",
          "block_9_expand_BN",
          "block_9_expand_relu",
          "block_9_depthwise",
          "block_9_depthwise_BN",
          "block_9_depthwise_relu",
          "block_9_project",
          "block_9_project_BN",
          "block_9_add",
          "block_10_expand",
          "block_10_expand_BN",
          "block_10_expand_relu",
          "block_10_depthwise",
          "block_10_depthwise_BN",
          "block_10_depthwise_relu",
          "block_10_project",
          "block_10_project_BN",
          "block_11_expand",
          "block_11_expand_BN",
          "block_11_expand_relu",
          "block_11_depthwise",
          "block_11_depthwise_BN",
          "block_11_depthwise_relu",
          "block_11_project",
          "block_11_project_BN",
          "block_11_add",
          "block_12_expand",
          "block_12_expand_BN",
          "block_12_expand_relu",
          "block_12_depthwise",
          "block_12_depthwise_BN",
          "block_12_depthwise_relu",
          "block_12_project",
          "block_12_project_BN",
          "block_12_add",
          "block_13_expand",
          "block_13_expand_BN",
          "block_13_expand_relu",
          "block_13_pad",
          "block_13_depthwise",
          "block_13_depthwise_BN",
          "block_13_depthwise_relu",
          "block_13_project",
          "block_13_project_BN",
          "block_14_expand",
          "block_14_expand_BN",
          "block_14_expand_relu",
          "block_14_depthwise",
          "block_14_depthwise_BN",
          "block_14_depthwise_relu",
          "block_14_project",
          "block_14_project_BN",
          "block_14_add",
          "block_15_expand",
          "block_15_expand_BN",
          "block_15_expand_relu",
          "block_15_depthwise",
          "block_15_depthwise_BN",
          "block_15_depthwise_relu",
          "block_15_project",
          "block_15_project_BN",
          "block_15_add",
          "block_16_expand",
          "block_16_expand_BN",
          "block_16_expand_relu",
          "block_16_depthwise",
          "block_16_depthwise_BN",
          "block_16_depthwise_relu",
          "block_16_project",
          "block_16_project_BN",
          "Conv_1",
          "Conv_1_bn",
          "out_relu",
          "global_average_pooling2d",
          "predictions"
         ],
         "xaxis": "x",
         "y": [
          0,
          72,
          104,
          104,
          176,
          208,
          208,
          272,
          304,
          304,
          688,
          880,
          880,
          880,
          1312,
          1504,
          1504,
          1888,
          1920,
          2304,
          2496,
          2496,
          2928,
          3120,
          3120,
          3504,
          3536,
          3536,
          3920,
          4112,
          4112,
          4112,
          4544,
          4736,
          4736,
          5120,
          5152,
          5536,
          5728,
          5728,
          6160,
          6352,
          6352,
          6736,
          6768,
          6768,
          7152,
          7344,
          7344,
          7776,
          7968,
          7968,
          8352,
          8384,
          8384,
          8768,
          8960,
          8960,
          8960,
          9392,
          9584,
          9584,
          9968,
          10000,
          10384,
          10576,
          10576,
          11008,
          11200,
          11200,
          11584,
          11616,
          11616,
          12000,
          12192,
          12192,
          12624,
          12816,
          12816,
          13200,
          13232,
          13232,
          13616,
          13808,
          13808,
          14240,
          14432,
          14432,
          14816,
          14848,
          14848,
          15232,
          15424,
          15424,
          15856,
          16048,
          16048,
          16816,
          16880,
          18416,
          18800,
          18800,
          19664,
          20048,
          20048,
          21584,
          21648,
          21648,
          23184,
          23568,
          23568,
          24432,
          24816,
          24816,
          26352,
          26416,
          26416,
          27952,
          28336,
          28336,
          28336,
          29200,
          29584,
          29584,
          31120,
          31184,
          32720,
          33104,
          33104,
          33968,
          34352,
          34352,
          35888,
          35952,
          35952,
          37488,
          37872,
          37872,
          38736,
          39120,
          39120,
          40656,
          40720,
          40720,
          42256,
          42640,
          42640,
          43504,
          43888,
          43888,
          46960,
          47088,
          88048,
          93168,
          93168,
          93168,
          97011
         ],
         "yaxis": "y"
        }
       ],
       "layout": {
        "legend": {
         "tracegroupgap": 0
        },
        "template": {
         "data": {
          "bar": [
           {
            "error_x": {
             "color": "#2a3f5f"
            },
            "error_y": {
             "color": "#2a3f5f"
            },
            "marker": {
             "line": {
              "color": "#E5ECF6",
              "width": 0.5
             },
             "pattern": {
              "fillmode": "overlay",
              "size": 10,
              "solidity": 0.2
             }
            },
            "type": "bar"
           }
          ],
          "barpolar": [
           {
            "marker": {
             "line": {
              "color": "#E5ECF6",
              "width": 0.5
             },
             "pattern": {
              "fillmode": "overlay",
              "size": 10,
              "solidity": 0.2
             }
            },
            "type": "barpolar"
           }
          ],
          "carpet": [
           {
            "aaxis": {
             "endlinecolor": "#2a3f5f",
             "gridcolor": "white",
             "linecolor": "white",
             "minorgridcolor": "white",
             "startlinecolor": "#2a3f5f"
            },
            "baxis": {
             "endlinecolor": "#2a3f5f",
             "gridcolor": "white",
             "linecolor": "white",
             "minorgridcolor": "white",
             "startlinecolor": "#2a3f5f"
            },
            "type": "carpet"
           }
          ],
          "choropleth": [
           {
            "colorbar": {
             "outlinewidth": 0,
             "ticks": ""
            },
            "type": "choropleth"
           }
          ],
          "contour": [
           {
            "colorbar": {
             "outlinewidth": 0,
             "ticks": ""
            },
            "colorscale": [
             [
              0,
              "#0d0887"
             ],
             [
              0.1111111111111111,
              "#46039f"
             ],
             [
              0.2222222222222222,
              "#7201a8"
             ],
             [
              0.3333333333333333,
              "#9c179e"
             ],
             [
              0.4444444444444444,
              "#bd3786"
             ],
             [
              0.5555555555555556,
              "#d8576b"
             ],
             [
              0.6666666666666666,
              "#ed7953"
             ],
             [
              0.7777777777777778,
              "#fb9f3a"
             ],
             [
              0.8888888888888888,
              "#fdca26"
             ],
             [
              1,
              "#f0f921"
             ]
            ],
            "type": "contour"
           }
          ],
          "contourcarpet": [
           {
            "colorbar": {
             "outlinewidth": 0,
             "ticks": ""
            },
            "type": "contourcarpet"
           }
          ],
          "heatmap": [
           {
            "colorbar": {
             "outlinewidth": 0,
             "ticks": ""
            },
            "colorscale": [
             [
              0,
              "#0d0887"
             ],
             [
              0.1111111111111111,
              "#46039f"
             ],
             [
              0.2222222222222222,
              "#7201a8"
             ],
             [
              0.3333333333333333,
              "#9c179e"
             ],
             [
              0.4444444444444444,
              "#bd3786"
             ],
             [
              0.5555555555555556,
              "#d8576b"
             ],
             [
              0.6666666666666666,
              "#ed7953"
             ],
             [
              0.7777777777777778,
              "#fb9f3a"
             ],
             [
              0.8888888888888888,
              "#fdca26"
             ],
             [
              1,
              "#f0f921"
             ]
            ],
            "type": "heatmap"
           }
          ],
          "heatmapgl": [
           {
            "colorbar": {
             "outlinewidth": 0,
             "ticks": ""
            },
            "colorscale": [
             [
              0,
              "#0d0887"
             ],
             [
              0.1111111111111111,
              "#46039f"
             ],
             [
              0.2222222222222222,
              "#7201a8"
             ],
             [
              0.3333333333333333,
              "#9c179e"
             ],
             [
              0.4444444444444444,
              "#bd3786"
             ],
             [
              0.5555555555555556,
              "#d8576b"
             ],
             [
              0.6666666666666666,
              "#ed7953"
             ],
             [
              0.7777777777777778,
              "#fb9f3a"
             ],
             [
              0.8888888888888888,
              "#fdca26"
             ],
             [
              1,
              "#f0f921"
             ]
            ],
            "type": "heatmapgl"
           }
          ],
          "histogram": [
           {
            "marker": {
             "pattern": {
              "fillmode": "overlay",
              "size": 10,
              "solidity": 0.2
             }
            },
            "type": "histogram"
           }
          ],
          "histogram2d": [
           {
            "colorbar": {
             "outlinewidth": 0,
             "ticks": ""
            },
            "colorscale": [
             [
              0,
              "#0d0887"
             ],
             [
              0.1111111111111111,
              "#46039f"
             ],
             [
              0.2222222222222222,
              "#7201a8"
             ],
             [
              0.3333333333333333,
              "#9c179e"
             ],
             [
              0.4444444444444444,
              "#bd3786"
             ],
             [
              0.5555555555555556,
              "#d8576b"
             ],
             [
              0.6666666666666666,
              "#ed7953"
             ],
             [
              0.7777777777777778,
              "#fb9f3a"
             ],
             [
              0.8888888888888888,
              "#fdca26"
             ],
             [
              1,
              "#f0f921"
             ]
            ],
            "type": "histogram2d"
           }
          ],
          "histogram2dcontour": [
           {
            "colorbar": {
             "outlinewidth": 0,
             "ticks": ""
            },
            "colorscale": [
             [
              0,
              "#0d0887"
             ],
             [
              0.1111111111111111,
              "#46039f"
             ],
             [
              0.2222222222222222,
              "#7201a8"
             ],
             [
              0.3333333333333333,
              "#9c179e"
             ],
             [
              0.4444444444444444,
              "#bd3786"
             ],
             [
              0.5555555555555556,
              "#d8576b"
             ],
             [
              0.6666666666666666,
              "#ed7953"
             ],
             [
              0.7777777777777778,
              "#fb9f3a"
             ],
             [
              0.8888888888888888,
              "#fdca26"
             ],
             [
              1,
              "#f0f921"
             ]
            ],
            "type": "histogram2dcontour"
           }
          ],
          "mesh3d": [
           {
            "colorbar": {
             "outlinewidth": 0,
             "ticks": ""
            },
            "type": "mesh3d"
           }
          ],
          "parcoords": [
           {
            "line": {
             "colorbar": {
              "outlinewidth": 0,
              "ticks": ""
             }
            },
            "type": "parcoords"
           }
          ],
          "pie": [
           {
            "automargin": true,
            "type": "pie"
           }
          ],
          "scatter": [
           {
            "fillpattern": {
             "fillmode": "overlay",
             "size": 10,
             "solidity": 0.2
            },
            "type": "scatter"
           }
          ],
          "scatter3d": [
           {
            "line": {
             "colorbar": {
              "outlinewidth": 0,
              "ticks": ""
             }
            },
            "marker": {
             "colorbar": {
              "outlinewidth": 0,
              "ticks": ""
             }
            },
            "type": "scatter3d"
           }
          ],
          "scattercarpet": [
           {
            "marker": {
             "colorbar": {
              "outlinewidth": 0,
              "ticks": ""
             }
            },
            "type": "scattercarpet"
           }
          ],
          "scattergeo": [
           {
            "marker": {
             "colorbar": {
              "outlinewidth": 0,
              "ticks": ""
             }
            },
            "type": "scattergeo"
           }
          ],
          "scattergl": [
           {
            "marker": {
             "colorbar": {
              "outlinewidth": 0,
              "ticks": ""
             }
            },
            "type": "scattergl"
           }
          ],
          "scattermapbox": [
           {
            "marker": {
             "colorbar": {
              "outlinewidth": 0,
              "ticks": ""
             }
            },
            "type": "scattermapbox"
           }
          ],
          "scatterpolar": [
           {
            "marker": {
             "colorbar": {
              "outlinewidth": 0,
              "ticks": ""
             }
            },
            "type": "scatterpolar"
           }
          ],
          "scatterpolargl": [
           {
            "marker": {
             "colorbar": {
              "outlinewidth": 0,
              "ticks": ""
             }
            },
            "type": "scatterpolargl"
           }
          ],
          "scatterternary": [
           {
            "marker": {
             "colorbar": {
              "outlinewidth": 0,
              "ticks": ""
             }
            },
            "type": "scatterternary"
           }
          ],
          "surface": [
           {
            "colorbar": {
             "outlinewidth": 0,
             "ticks": ""
            },
            "colorscale": [
             [
              0,
              "#0d0887"
             ],
             [
              0.1111111111111111,
              "#46039f"
             ],
             [
              0.2222222222222222,
              "#7201a8"
             ],
             [
              0.3333333333333333,
              "#9c179e"
             ],
             [
              0.4444444444444444,
              "#bd3786"
             ],
             [
              0.5555555555555556,
              "#d8576b"
             ],
             [
              0.6666666666666666,
              "#ed7953"
             ],
             [
              0.7777777777777778,
              "#fb9f3a"
             ],
             [
              0.8888888888888888,
              "#fdca26"
             ],
             [
              1,
              "#f0f921"
             ]
            ],
            "type": "surface"
           }
          ],
          "table": [
           {
            "cells": {
             "fill": {
              "color": "#EBF0F8"
             },
             "line": {
              "color": "white"
             }
            },
            "header": {
             "fill": {
              "color": "#C8D4E3"
             },
             "line": {
              "color": "white"
             }
            },
            "type": "table"
           }
          ]
         },
         "layout": {
          "annotationdefaults": {
           "arrowcolor": "#2a3f5f",
           "arrowhead": 0,
           "arrowwidth": 1
          },
          "autotypenumbers": "strict",
          "coloraxis": {
           "colorbar": {
            "outlinewidth": 0,
            "ticks": ""
           }
          },
          "colorscale": {
           "diverging": [
            [
             0,
             "#8e0152"
            ],
            [
             0.1,
             "#c51b7d"
            ],
            [
             0.2,
             "#de77ae"
            ],
            [
             0.3,
             "#f1b6da"
            ],
            [
             0.4,
             "#fde0ef"
            ],
            [
             0.5,
             "#f7f7f7"
            ],
            [
             0.6,
             "#e6f5d0"
            ],
            [
             0.7,
             "#b8e186"
            ],
            [
             0.8,
             "#7fbc41"
            ],
            [
             0.9,
             "#4d9221"
            ],
            [
             1,
             "#276419"
            ]
           ],
           "sequential": [
            [
             0,
             "#0d0887"
            ],
            [
             0.1111111111111111,
             "#46039f"
            ],
            [
             0.2222222222222222,
             "#7201a8"
            ],
            [
             0.3333333333333333,
             "#9c179e"
            ],
            [
             0.4444444444444444,
             "#bd3786"
            ],
            [
             0.5555555555555556,
             "#d8576b"
            ],
            [
             0.6666666666666666,
             "#ed7953"
            ],
            [
             0.7777777777777778,
             "#fb9f3a"
            ],
            [
             0.8888888888888888,
             "#fdca26"
            ],
            [
             1,
             "#f0f921"
            ]
           ],
           "sequentialminus": [
            [
             0,
             "#0d0887"
            ],
            [
             0.1111111111111111,
             "#46039f"
            ],
            [
             0.2222222222222222,
             "#7201a8"
            ],
            [
             0.3333333333333333,
             "#9c179e"
            ],
            [
             0.4444444444444444,
             "#bd3786"
            ],
            [
             0.5555555555555556,
             "#d8576b"
            ],
            [
             0.6666666666666666,
             "#ed7953"
            ],
            [
             0.7777777777777778,
             "#fb9f3a"
            ],
            [
             0.8888888888888888,
             "#fdca26"
            ],
            [
             1,
             "#f0f921"
            ]
           ]
          },
          "colorway": [
           "#636efa",
           "#EF553B",
           "#00cc96",
           "#ab63fa",
           "#FFA15A",
           "#19d3f3",
           "#FF6692",
           "#B6E880",
           "#FF97FF",
           "#FECB52"
          ],
          "font": {
           "color": "#2a3f5f"
          },
          "geo": {
           "bgcolor": "white",
           "lakecolor": "white",
           "landcolor": "#E5ECF6",
           "showlakes": true,
           "showland": true,
           "subunitcolor": "white"
          },
          "hoverlabel": {
           "align": "left"
          },
          "hovermode": "closest",
          "mapbox": {
           "style": "light"
          },
          "paper_bgcolor": "white",
          "plot_bgcolor": "#E5ECF6",
          "polar": {
           "angularaxis": {
            "gridcolor": "white",
            "linecolor": "white",
            "ticks": ""
           },
           "bgcolor": "#E5ECF6",
           "radialaxis": {
            "gridcolor": "white",
            "linecolor": "white",
            "ticks": ""
           }
          },
          "scene": {
           "xaxis": {
            "backgroundcolor": "#E5ECF6",
            "gridcolor": "white",
            "gridwidth": 2,
            "linecolor": "white",
            "showbackground": true,
            "ticks": "",
            "zerolinecolor": "white"
           },
           "yaxis": {
            "backgroundcolor": "#E5ECF6",
            "gridcolor": "white",
            "gridwidth": 2,
            "linecolor": "white",
            "showbackground": true,
            "ticks": "",
            "zerolinecolor": "white"
           },
           "zaxis": {
            "backgroundcolor": "#E5ECF6",
            "gridcolor": "white",
            "gridwidth": 2,
            "linecolor": "white",
            "showbackground": true,
            "ticks": "",
            "zerolinecolor": "white"
           }
          },
          "shapedefaults": {
           "line": {
            "color": "#2a3f5f"
           }
          },
          "ternary": {
           "aaxis": {
            "gridcolor": "white",
            "linecolor": "white",
            "ticks": ""
           },
           "baxis": {
            "gridcolor": "white",
            "linecolor": "white",
            "ticks": ""
           },
           "bgcolor": "#E5ECF6",
           "caxis": {
            "gridcolor": "white",
            "linecolor": "white",
            "ticks": ""
           }
          },
          "title": {
           "x": 0.05
          },
          "xaxis": {
           "automargin": true,
           "gridcolor": "white",
           "linecolor": "white",
           "ticks": "",
           "title": {
            "standoff": 15
           },
           "zerolinecolor": "white",
           "zerolinewidth": 2
          },
          "yaxis": {
           "automargin": true,
           "gridcolor": "white",
           "linecolor": "white",
           "ticks": "",
           "title": {
            "standoff": 15
           },
           "zerolinecolor": "white",
           "zerolinewidth": 2
          }
         }
        },
        "title": {
         "text": "Cumulative parameters per layer - mobilenetv2_0.1_96_c1_o3_keras"
        },
        "xaxis": {
         "anchor": "y",
         "domain": [
          0,
          1
         ],
         "title": {
          "text": "name"
         }
        },
        "yaxis": {
         "anchor": "x",
         "domain": [
          0,
          1
         ],
         "title": {
          "text": "total_params"
         }
        }
       }
      },
      "text/html": [
       "<div>                            <div id=\"4d7780c5-fde3-4851-a3e7-3ea15f579e2d\" class=\"plotly-graph-div\" style=\"height:525px; width:100%;\"></div>            <script type=\"text/javascript\">                require([\"plotly\"], function(Plotly) {                    window.PLOTLYENV=window.PLOTLYENV || {};                                    if (document.getElementById(\"4d7780c5-fde3-4851-a3e7-3ea15f579e2d\")) {                    Plotly.newPlot(                        \"4d7780c5-fde3-4851-a3e7-3ea15f579e2d\",                        [{\"hovertemplate\":\"name=%{x}<br>total_params=%{y}<extra></extra>\",\"legendgroup\":\"\",\"line\":{\"color\":\"#636efa\",\"dash\":\"solid\"},\"marker\":{\"symbol\":\"circle\"},\"mode\":\"lines\",\"name\":\"\",\"orientation\":\"v\",\"showlegend\":false,\"x\":[\"input_1\",\"Conv1\",\"bn_Conv1\",\"Conv1_relu\",\"expanded_conv_depthwise\",\"expanded_conv_depthwise_BN\",\"expanded_conv_depthwise_relu\",\"expanded_conv_project\",\"expanded_conv_project_BN\",\"expanded_conv_add\",\"block_1_expand\",\"block_1_expand_BN\",\"block_1_expand_relu\",\"block_1_pad\",\"block_1_depthwise\",\"block_1_depthwise_BN\",\"block_1_depthwise_relu\",\"block_1_project\",\"block_1_project_BN\",\"block_2_expand\",\"block_2_expand_BN\",\"block_2_expand_relu\",\"block_2_depthwise\",\"block_2_depthwise_BN\",\"block_2_depthwise_relu\",\"block_2_project\",\"block_2_project_BN\",\"block_2_add\",\"block_3_expand\",\"block_3_expand_BN\",\"block_3_expand_relu\",\"block_3_pad\",\"block_3_depthwise\",\"block_3_depthwise_BN\",\"block_3_depthwise_relu\",\"block_3_project\",\"block_3_project_BN\",\"block_4_expand\",\"block_4_expand_BN\",\"block_4_expand_relu\",\"block_4_depthwise\",\"block_4_depthwise_BN\",\"block_4_depthwise_relu\",\"block_4_project\",\"block_4_project_BN\",\"block_4_add\",\"block_5_expand\",\"block_5_expand_BN\",\"block_5_expand_relu\",\"block_5_depthwise\",\"block_5_depthwise_BN\",\"block_5_depthwise_relu\",\"block_5_project\",\"block_5_project_BN\",\"block_5_add\",\"block_6_expand\",\"block_6_expand_BN\",\"block_6_expand_relu\",\"block_6_pad\",\"block_6_depthwise\",\"block_6_depthwise_BN\",\"block_6_depthwise_relu\",\"block_6_project\",\"block_6_project_BN\",\"block_7_expand\",\"block_7_expand_BN\",\"block_7_expand_relu\",\"block_7_depthwise\",\"block_7_depthwise_BN\",\"block_7_depthwise_relu\",\"block_7_project\",\"block_7_project_BN\",\"block_7_add\",\"block_8_expand\",\"block_8_expand_BN\",\"block_8_expand_relu\",\"block_8_depthwise\",\"block_8_depthwise_BN\",\"block_8_depthwise_relu\",\"block_8_project\",\"block_8_project_BN\",\"block_8_add\",\"block_9_expand\",\"block_9_expand_BN\",\"block_9_expand_relu\",\"block_9_depthwise\",\"block_9_depthwise_BN\",\"block_9_depthwise_relu\",\"block_9_project\",\"block_9_project_BN\",\"block_9_add\",\"block_10_expand\",\"block_10_expand_BN\",\"block_10_expand_relu\",\"block_10_depthwise\",\"block_10_depthwise_BN\",\"block_10_depthwise_relu\",\"block_10_project\",\"block_10_project_BN\",\"block_11_expand\",\"block_11_expand_BN\",\"block_11_expand_relu\",\"block_11_depthwise\",\"block_11_depthwise_BN\",\"block_11_depthwise_relu\",\"block_11_project\",\"block_11_project_BN\",\"block_11_add\",\"block_12_expand\",\"block_12_expand_BN\",\"block_12_expand_relu\",\"block_12_depthwise\",\"block_12_depthwise_BN\",\"block_12_depthwise_relu\",\"block_12_project\",\"block_12_project_BN\",\"block_12_add\",\"block_13_expand\",\"block_13_expand_BN\",\"block_13_expand_relu\",\"block_13_pad\",\"block_13_depthwise\",\"block_13_depthwise_BN\",\"block_13_depthwise_relu\",\"block_13_project\",\"block_13_project_BN\",\"block_14_expand\",\"block_14_expand_BN\",\"block_14_expand_relu\",\"block_14_depthwise\",\"block_14_depthwise_BN\",\"block_14_depthwise_relu\",\"block_14_project\",\"block_14_project_BN\",\"block_14_add\",\"block_15_expand\",\"block_15_expand_BN\",\"block_15_expand_relu\",\"block_15_depthwise\",\"block_15_depthwise_BN\",\"block_15_depthwise_relu\",\"block_15_project\",\"block_15_project_BN\",\"block_15_add\",\"block_16_expand\",\"block_16_expand_BN\",\"block_16_expand_relu\",\"block_16_depthwise\",\"block_16_depthwise_BN\",\"block_16_depthwise_relu\",\"block_16_project\",\"block_16_project_BN\",\"Conv_1\",\"Conv_1_bn\",\"out_relu\",\"global_average_pooling2d\",\"predictions\"],\"xaxis\":\"x\",\"y\":[0,72,104,104,176,208,208,272,304,304,688,880,880,880,1312,1504,1504,1888,1920,2304,2496,2496,2928,3120,3120,3504,3536,3536,3920,4112,4112,4112,4544,4736,4736,5120,5152,5536,5728,5728,6160,6352,6352,6736,6768,6768,7152,7344,7344,7776,7968,7968,8352,8384,8384,8768,8960,8960,8960,9392,9584,9584,9968,10000,10384,10576,10576,11008,11200,11200,11584,11616,11616,12000,12192,12192,12624,12816,12816,13200,13232,13232,13616,13808,13808,14240,14432,14432,14816,14848,14848,15232,15424,15424,15856,16048,16048,16816,16880,18416,18800,18800,19664,20048,20048,21584,21648,21648,23184,23568,23568,24432,24816,24816,26352,26416,26416,27952,28336,28336,28336,29200,29584,29584,31120,31184,32720,33104,33104,33968,34352,34352,35888,35952,35952,37488,37872,37872,38736,39120,39120,40656,40720,40720,42256,42640,42640,43504,43888,43888,46960,47088,88048,93168,93168,93168,97011],\"yaxis\":\"y\",\"type\":\"scatter\"}],                        {\"template\":{\"data\":{\"histogram2dcontour\":[{\"type\":\"histogram2dcontour\",\"colorbar\":{\"outlinewidth\":0,\"ticks\":\"\"},\"colorscale\":[[0.0,\"#0d0887\"],[0.1111111111111111,\"#46039f\"],[0.2222222222222222,\"#7201a8\"],[0.3333333333333333,\"#9c179e\"],[0.4444444444444444,\"#bd3786\"],[0.5555555555555556,\"#d8576b\"],[0.6666666666666666,\"#ed7953\"],[0.7777777777777778,\"#fb9f3a\"],[0.8888888888888888,\"#fdca26\"],[1.0,\"#f0f921\"]]}],\"choropleth\":[{\"type\":\"choropleth\",\"colorbar\":{\"outlinewidth\":0,\"ticks\":\"\"}}],\"histogram2d\":[{\"type\":\"histogram2d\",\"colorbar\":{\"outlinewidth\":0,\"ticks\":\"\"},\"colorscale\":[[0.0,\"#0d0887\"],[0.1111111111111111,\"#46039f\"],[0.2222222222222222,\"#7201a8\"],[0.3333333333333333,\"#9c179e\"],[0.4444444444444444,\"#bd3786\"],[0.5555555555555556,\"#d8576b\"],[0.6666666666666666,\"#ed7953\"],[0.7777777777777778,\"#fb9f3a\"],[0.8888888888888888,\"#fdca26\"],[1.0,\"#f0f921\"]]}],\"heatmap\":[{\"type\":\"heatmap\",\"colorbar\":{\"outlinewidth\":0,\"ticks\":\"\"},\"colorscale\":[[0.0,\"#0d0887\"],[0.1111111111111111,\"#46039f\"],[0.2222222222222222,\"#7201a8\"],[0.3333333333333333,\"#9c179e\"],[0.4444444444444444,\"#bd3786\"],[0.5555555555555556,\"#d8576b\"],[0.6666666666666666,\"#ed7953\"],[0.7777777777777778,\"#fb9f3a\"],[0.8888888888888888,\"#fdca26\"],[1.0,\"#f0f921\"]]}],\"heatmapgl\":[{\"type\":\"heatmapgl\",\"colorbar\":{\"outlinewidth\":0,\"ticks\":\"\"},\"colorscale\":[[0.0,\"#0d0887\"],[0.1111111111111111,\"#46039f\"],[0.2222222222222222,\"#7201a8\"],[0.3333333333333333,\"#9c179e\"],[0.4444444444444444,\"#bd3786\"],[0.5555555555555556,\"#d8576b\"],[0.6666666666666666,\"#ed7953\"],[0.7777777777777778,\"#fb9f3a\"],[0.8888888888888888,\"#fdca26\"],[1.0,\"#f0f921\"]]}],\"contourcarpet\":[{\"type\":\"contourcarpet\",\"colorbar\":{\"outlinewidth\":0,\"ticks\":\"\"}}],\"contour\":[{\"type\":\"contour\",\"colorbar\":{\"outlinewidth\":0,\"ticks\":\"\"},\"colorscale\":[[0.0,\"#0d0887\"],[0.1111111111111111,\"#46039f\"],[0.2222222222222222,\"#7201a8\"],[0.3333333333333333,\"#9c179e\"],[0.4444444444444444,\"#bd3786\"],[0.5555555555555556,\"#d8576b\"],[0.6666666666666666,\"#ed7953\"],[0.7777777777777778,\"#fb9f3a\"],[0.8888888888888888,\"#fdca26\"],[1.0,\"#f0f921\"]]}],\"surface\":[{\"type\":\"surface\",\"colorbar\":{\"outlinewidth\":0,\"ticks\":\"\"},\"colorscale\":[[0.0,\"#0d0887\"],[0.1111111111111111,\"#46039f\"],[0.2222222222222222,\"#7201a8\"],[0.3333333333333333,\"#9c179e\"],[0.4444444444444444,\"#bd3786\"],[0.5555555555555556,\"#d8576b\"],[0.6666666666666666,\"#ed7953\"],[0.7777777777777778,\"#fb9f3a\"],[0.8888888888888888,\"#fdca26\"],[1.0,\"#f0f921\"]]}],\"mesh3d\":[{\"type\":\"mesh3d\",\"colorbar\":{\"outlinewidth\":0,\"ticks\":\"\"}}],\"scatter\":[{\"fillpattern\":{\"fillmode\":\"overlay\",\"size\":10,\"solidity\":0.2},\"type\":\"scatter\"}],\"parcoords\":[{\"type\":\"parcoords\",\"line\":{\"colorbar\":{\"outlinewidth\":0,\"ticks\":\"\"}}}],\"scatterpolargl\":[{\"type\":\"scatterpolargl\",\"marker\":{\"colorbar\":{\"outlinewidth\":0,\"ticks\":\"\"}}}],\"bar\":[{\"error_x\":{\"color\":\"#2a3f5f\"},\"error_y\":{\"color\":\"#2a3f5f\"},\"marker\":{\"line\":{\"color\":\"#E5ECF6\",\"width\":0.5},\"pattern\":{\"fillmode\":\"overlay\",\"size\":10,\"solidity\":0.2}},\"type\":\"bar\"}],\"scattergeo\":[{\"type\":\"scattergeo\",\"marker\":{\"colorbar\":{\"outlinewidth\":0,\"ticks\":\"\"}}}],\"scatterpolar\":[{\"type\":\"scatterpolar\",\"marker\":{\"colorbar\":{\"outlinewidth\":0,\"ticks\":\"\"}}}],\"histogram\":[{\"marker\":{\"pattern\":{\"fillmode\":\"overlay\",\"size\":10,\"solidity\":0.2}},\"type\":\"histogram\"}],\"scattergl\":[{\"type\":\"scattergl\",\"marker\":{\"colorbar\":{\"outlinewidth\":0,\"ticks\":\"\"}}}],\"scatter3d\":[{\"type\":\"scatter3d\",\"line\":{\"colorbar\":{\"outlinewidth\":0,\"ticks\":\"\"}},\"marker\":{\"colorbar\":{\"outlinewidth\":0,\"ticks\":\"\"}}}],\"scattermapbox\":[{\"type\":\"scattermapbox\",\"marker\":{\"colorbar\":{\"outlinewidth\":0,\"ticks\":\"\"}}}],\"scatterternary\":[{\"type\":\"scatterternary\",\"marker\":{\"colorbar\":{\"outlinewidth\":0,\"ticks\":\"\"}}}],\"scattercarpet\":[{\"type\":\"scattercarpet\",\"marker\":{\"colorbar\":{\"outlinewidth\":0,\"ticks\":\"\"}}}],\"carpet\":[{\"aaxis\":{\"endlinecolor\":\"#2a3f5f\",\"gridcolor\":\"white\",\"linecolor\":\"white\",\"minorgridcolor\":\"white\",\"startlinecolor\":\"#2a3f5f\"},\"baxis\":{\"endlinecolor\":\"#2a3f5f\",\"gridcolor\":\"white\",\"linecolor\":\"white\",\"minorgridcolor\":\"white\",\"startlinecolor\":\"#2a3f5f\"},\"type\":\"carpet\"}],\"table\":[{\"cells\":{\"fill\":{\"color\":\"#EBF0F8\"},\"line\":{\"color\":\"white\"}},\"header\":{\"fill\":{\"color\":\"#C8D4E3\"},\"line\":{\"color\":\"white\"}},\"type\":\"table\"}],\"barpolar\":[{\"marker\":{\"line\":{\"color\":\"#E5ECF6\",\"width\":0.5},\"pattern\":{\"fillmode\":\"overlay\",\"size\":10,\"solidity\":0.2}},\"type\":\"barpolar\"}],\"pie\":[{\"automargin\":true,\"type\":\"pie\"}]},\"layout\":{\"autotypenumbers\":\"strict\",\"colorway\":[\"#636efa\",\"#EF553B\",\"#00cc96\",\"#ab63fa\",\"#FFA15A\",\"#19d3f3\",\"#FF6692\",\"#B6E880\",\"#FF97FF\",\"#FECB52\"],\"font\":{\"color\":\"#2a3f5f\"},\"hovermode\":\"closest\",\"hoverlabel\":{\"align\":\"left\"},\"paper_bgcolor\":\"white\",\"plot_bgcolor\":\"#E5ECF6\",\"polar\":{\"bgcolor\":\"#E5ECF6\",\"angularaxis\":{\"gridcolor\":\"white\",\"linecolor\":\"white\",\"ticks\":\"\"},\"radialaxis\":{\"gridcolor\":\"white\",\"linecolor\":\"white\",\"ticks\":\"\"}},\"ternary\":{\"bgcolor\":\"#E5ECF6\",\"aaxis\":{\"gridcolor\":\"white\",\"linecolor\":\"white\",\"ticks\":\"\"},\"baxis\":{\"gridcolor\":\"white\",\"linecolor\":\"white\",\"ticks\":\"\"},\"caxis\":{\"gridcolor\":\"white\",\"linecolor\":\"white\",\"ticks\":\"\"}},\"coloraxis\":{\"colorbar\":{\"outlinewidth\":0,\"ticks\":\"\"}},\"colorscale\":{\"sequential\":[[0.0,\"#0d0887\"],[0.1111111111111111,\"#46039f\"],[0.2222222222222222,\"#7201a8\"],[0.3333333333333333,\"#9c179e\"],[0.4444444444444444,\"#bd3786\"],[0.5555555555555556,\"#d8576b\"],[0.6666666666666666,\"#ed7953\"],[0.7777777777777778,\"#fb9f3a\"],[0.8888888888888888,\"#fdca26\"],[1.0,\"#f0f921\"]],\"sequentialminus\":[[0.0,\"#0d0887\"],[0.1111111111111111,\"#46039f\"],[0.2222222222222222,\"#7201a8\"],[0.3333333333333333,\"#9c179e\"],[0.4444444444444444,\"#bd3786\"],[0.5555555555555556,\"#d8576b\"],[0.6666666666666666,\"#ed7953\"],[0.7777777777777778,\"#fb9f3a\"],[0.8888888888888888,\"#fdca26\"],[1.0,\"#f0f921\"]],\"diverging\":[[0,\"#8e0152\"],[0.1,\"#c51b7d\"],[0.2,\"#de77ae\"],[0.3,\"#f1b6da\"],[0.4,\"#fde0ef\"],[0.5,\"#f7f7f7\"],[0.6,\"#e6f5d0\"],[0.7,\"#b8e186\"],[0.8,\"#7fbc41\"],[0.9,\"#4d9221\"],[1,\"#276419\"]]},\"xaxis\":{\"gridcolor\":\"white\",\"linecolor\":\"white\",\"ticks\":\"\",\"title\":{\"standoff\":15},\"zerolinecolor\":\"white\",\"automargin\":true,\"zerolinewidth\":2},\"yaxis\":{\"gridcolor\":\"white\",\"linecolor\":\"white\",\"ticks\":\"\",\"title\":{\"standoff\":15},\"zerolinecolor\":\"white\",\"automargin\":true,\"zerolinewidth\":2},\"scene\":{\"xaxis\":{\"backgroundcolor\":\"#E5ECF6\",\"gridcolor\":\"white\",\"linecolor\":\"white\",\"showbackground\":true,\"ticks\":\"\",\"zerolinecolor\":\"white\",\"gridwidth\":2},\"yaxis\":{\"backgroundcolor\":\"#E5ECF6\",\"gridcolor\":\"white\",\"linecolor\":\"white\",\"showbackground\":true,\"ticks\":\"\",\"zerolinecolor\":\"white\",\"gridwidth\":2},\"zaxis\":{\"backgroundcolor\":\"#E5ECF6\",\"gridcolor\":\"white\",\"linecolor\":\"white\",\"showbackground\":true,\"ticks\":\"\",\"zerolinecolor\":\"white\",\"gridwidth\":2}},\"shapedefaults\":{\"line\":{\"color\":\"#2a3f5f\"}},\"annotationdefaults\":{\"arrowcolor\":\"#2a3f5f\",\"arrowhead\":0,\"arrowwidth\":1},\"geo\":{\"bgcolor\":\"white\",\"landcolor\":\"#E5ECF6\",\"subunitcolor\":\"white\",\"showland\":true,\"showlakes\":true,\"lakecolor\":\"white\"},\"title\":{\"x\":0.05},\"mapbox\":{\"style\":\"light\"}}},\"xaxis\":{\"anchor\":\"y\",\"domain\":[0.0,1.0],\"title\":{\"text\":\"name\"}},\"yaxis\":{\"anchor\":\"x\",\"domain\":[0.0,1.0],\"title\":{\"text\":\"total_params\"}},\"legend\":{\"tracegroupgap\":0},\"title\":{\"text\":\"Cumulative parameters per layer - mobilenetv2_0.1_96_c1_o3_keras\"}},                        {\"responsive\": true}                    ).then(function(){\n",
       "                            \n",
       "var gd = document.getElementById('4d7780c5-fde3-4851-a3e7-3ea15f579e2d');\n",
       "var x = new MutationObserver(function (mutations, observer) {{\n",
       "        var display = window.getComputedStyle(gd).display;\n",
       "        if (!display || display === 'none') {{\n",
       "            console.log([gd, 'removed!']);\n",
       "            Plotly.purge(gd);\n",
       "            observer.disconnect();\n",
       "        }}\n",
       "}});\n",
       "\n",
       "// Listen for the removal of the full notebook cells\n",
       "var notebookContainer = gd.closest('#notebook-container');\n",
       "if (notebookContainer) {{\n",
       "    x.observe(notebookContainer, {childList: true});\n",
       "}}\n",
       "\n",
       "// Listen for the clearing of the current output cell\n",
       "var outputEl = gd.closest('.output');\n",
       "if (outputEl) {{\n",
       "    x.observe(outputEl, {childList: true});\n",
       "}}\n",
       "\n",
       "                        })                };                });            </script>        </div>"
      ]
     },
     "metadata": {},
     "output_type": "display_data"
    }
   ],
   "source": [
    "fig4 = px.line(df, x=\"name\", y= \"total_params\",\n",
    "    title=f\"Cumulative parameters per layer - {model_name}\")\n",
    "#fig.add_hline(y=256000, line_width=3, line_dash=\"dash\", line_color=\"orange\", annotation_text=\"256 kB MCU constraint\", \n",
    "#              annotation_position=\"bottom right\")\n",
    "#fig.update_layout(showlegend=True)\n",
    "fig4.show()"
   ]
  },
  {
   "cell_type": "code",
   "execution_count": 73,
   "metadata": {},
   "outputs": [
    {
     "data": {
      "application/vnd.plotly.v1+json": {
       "config": {
        "plotlyServerURL": "https://plot.ly"
       },
       "data": [
        {
         "hovertemplate": "name=%{x}<br>total_MACs=%{y}<extra></extra>",
         "legendgroup": "",
         "line": {
          "color": "#636efa",
          "dash": "solid"
         },
         "marker": {
          "symbol": "circle"
         },
         "mode": "lines",
         "name": "",
         "orientation": "v",
         "showlegend": false,
         "type": "scatter",
         "x": [
          "input_1",
          "Conv1",
          "bn_Conv1",
          "Conv1_relu",
          "expanded_conv_depthwise",
          "expanded_conv_depthwise_BN",
          "expanded_conv_depthwise_relu",
          "expanded_conv_project",
          "expanded_conv_project_BN",
          "expanded_conv_add",
          "block_1_expand",
          "block_1_expand_BN",
          "block_1_expand_relu",
          "block_1_pad",
          "block_1_depthwise",
          "block_1_depthwise_BN",
          "block_1_depthwise_relu",
          "block_1_project",
          "block_1_project_BN",
          "block_2_expand",
          "block_2_expand_BN",
          "block_2_expand_relu",
          "block_2_depthwise",
          "block_2_depthwise_BN",
          "block_2_depthwise_relu",
          "block_2_project",
          "block_2_project_BN",
          "block_2_add",
          "block_3_expand",
          "block_3_expand_BN",
          "block_3_expand_relu",
          "block_3_pad",
          "block_3_depthwise",
          "block_3_depthwise_BN",
          "block_3_depthwise_relu",
          "block_3_project",
          "block_3_project_BN",
          "block_4_expand",
          "block_4_expand_BN",
          "block_4_expand_relu",
          "block_4_depthwise",
          "block_4_depthwise_BN",
          "block_4_depthwise_relu",
          "block_4_project",
          "block_4_project_BN",
          "block_4_add",
          "block_5_expand",
          "block_5_expand_BN",
          "block_5_expand_relu",
          "block_5_depthwise",
          "block_5_depthwise_BN",
          "block_5_depthwise_relu",
          "block_5_project",
          "block_5_project_BN",
          "block_5_add",
          "block_6_expand",
          "block_6_expand_BN",
          "block_6_expand_relu",
          "block_6_pad",
          "block_6_depthwise",
          "block_6_depthwise_BN",
          "block_6_depthwise_relu",
          "block_6_project",
          "block_6_project_BN",
          "block_7_expand",
          "block_7_expand_BN",
          "block_7_expand_relu",
          "block_7_depthwise",
          "block_7_depthwise_BN",
          "block_7_depthwise_relu",
          "block_7_project",
          "block_7_project_BN",
          "block_7_add",
          "block_8_expand",
          "block_8_expand_BN",
          "block_8_expand_relu",
          "block_8_depthwise",
          "block_8_depthwise_BN",
          "block_8_depthwise_relu",
          "block_8_project",
          "block_8_project_BN",
          "block_8_add",
          "block_9_expand",
          "block_9_expand_BN",
          "block_9_expand_relu",
          "block_9_depthwise",
          "block_9_depthwise_BN",
          "block_9_depthwise_relu",
          "block_9_project",
          "block_9_project_BN",
          "block_9_add",
          "block_10_expand",
          "block_10_expand_BN",
          "block_10_expand_relu",
          "block_10_depthwise",
          "block_10_depthwise_BN",
          "block_10_depthwise_relu",
          "block_10_project",
          "block_10_project_BN",
          "block_11_expand",
          "block_11_expand_BN",
          "block_11_expand_relu",
          "block_11_depthwise",
          "block_11_depthwise_BN",
          "block_11_depthwise_relu",
          "block_11_project",
          "block_11_project_BN",
          "block_11_add",
          "block_12_expand",
          "block_12_expand_BN",
          "block_12_expand_relu",
          "block_12_depthwise",
          "block_12_depthwise_BN",
          "block_12_depthwise_relu",
          "block_12_project",
          "block_12_project_BN",
          "block_12_add",
          "block_13_expand",
          "block_13_expand_BN",
          "block_13_expand_relu",
          "block_13_pad",
          "block_13_depthwise",
          "block_13_depthwise_BN",
          "block_13_depthwise_relu",
          "block_13_project",
          "block_13_project_BN",
          "block_14_expand",
          "block_14_expand_BN",
          "block_14_expand_relu",
          "block_14_depthwise",
          "block_14_depthwise_BN",
          "block_14_depthwise_relu",
          "block_14_project",
          "block_14_project_BN",
          "block_14_add",
          "block_15_expand",
          "block_15_expand_BN",
          "block_15_expand_relu",
          "block_15_depthwise",
          "block_15_depthwise_BN",
          "block_15_depthwise_relu",
          "block_15_project",
          "block_15_project_BN",
          "block_15_add",
          "block_16_expand",
          "block_16_expand_BN",
          "block_16_expand_relu",
          "block_16_depthwise",
          "block_16_depthwise_BN",
          "block_16_depthwise_relu",
          "block_16_project",
          "block_16_project_BN",
          "Conv_1",
          "Conv_1_bn",
          "out_relu",
          "global_average_pooling2d",
          "predictions"
         ],
         "xaxis": "x",
         "y": [
          0,
          165888,
          165888,
          165888,
          331776,
          331776,
          331776,
          479232,
          479232,
          479232,
          1363968,
          1363968,
          1363968,
          1363968,
          1612800,
          1612800,
          1612800,
          1833984,
          1833984,
          2055168,
          2055168,
          2055168,
          2304000,
          2304000,
          2304000,
          2525184,
          2525184,
          2525184,
          2746368,
          2746368,
          2746368,
          2746368,
          2808576,
          2808576,
          2808576,
          2863872,
          2863872,
          2919168,
          2919168,
          2919168,
          2981376,
          2981376,
          2981376,
          3036672,
          3036672,
          3036672,
          3091968,
          3091968,
          3091968,
          3154176,
          3154176,
          3154176,
          3209472,
          3209472,
          3209472,
          3264768,
          3264768,
          3264768,
          3264768,
          3280320,
          3280320,
          3280320,
          3294144,
          3294144,
          3307968,
          3307968,
          3307968,
          3323520,
          3323520,
          3323520,
          3337344,
          3337344,
          3337344,
          3351168,
          3351168,
          3351168,
          3366720,
          3366720,
          3366720,
          3380544,
          3380544,
          3380544,
          3394368,
          3394368,
          3394368,
          3409920,
          3409920,
          3409920,
          3423744,
          3423744,
          3423744,
          3437568,
          3437568,
          3437568,
          3453120,
          3453120,
          3453120,
          3480768,
          3480768,
          3536064,
          3536064,
          3536064,
          3567168,
          3567168,
          3567168,
          3622464,
          3622464,
          3622464,
          3677760,
          3677760,
          3677760,
          3708864,
          3708864,
          3708864,
          3764160,
          3764160,
          3764160,
          3819456,
          3819456,
          3819456,
          3819456,
          3827232,
          3827232,
          3827232,
          3841056,
          3841056,
          3854880,
          3854880,
          3854880,
          3862656,
          3862656,
          3862656,
          3876480,
          3876480,
          3876480,
          3890304,
          3890304,
          3890304,
          3898080,
          3898080,
          3898080,
          3911904,
          3911904,
          3911904,
          3925728,
          3925728,
          3925728,
          3933504,
          3933504,
          3933504,
          3961152,
          3961152,
          4329792,
          4329792,
          4329792,
          4329792,
          4329792
         ],
         "yaxis": "y"
        }
       ],
       "layout": {
        "legend": {
         "tracegroupgap": 0
        },
        "template": {
         "data": {
          "bar": [
           {
            "error_x": {
             "color": "#2a3f5f"
            },
            "error_y": {
             "color": "#2a3f5f"
            },
            "marker": {
             "line": {
              "color": "#E5ECF6",
              "width": 0.5
             },
             "pattern": {
              "fillmode": "overlay",
              "size": 10,
              "solidity": 0.2
             }
            },
            "type": "bar"
           }
          ],
          "barpolar": [
           {
            "marker": {
             "line": {
              "color": "#E5ECF6",
              "width": 0.5
             },
             "pattern": {
              "fillmode": "overlay",
              "size": 10,
              "solidity": 0.2
             }
            },
            "type": "barpolar"
           }
          ],
          "carpet": [
           {
            "aaxis": {
             "endlinecolor": "#2a3f5f",
             "gridcolor": "white",
             "linecolor": "white",
             "minorgridcolor": "white",
             "startlinecolor": "#2a3f5f"
            },
            "baxis": {
             "endlinecolor": "#2a3f5f",
             "gridcolor": "white",
             "linecolor": "white",
             "minorgridcolor": "white",
             "startlinecolor": "#2a3f5f"
            },
            "type": "carpet"
           }
          ],
          "choropleth": [
           {
            "colorbar": {
             "outlinewidth": 0,
             "ticks": ""
            },
            "type": "choropleth"
           }
          ],
          "contour": [
           {
            "colorbar": {
             "outlinewidth": 0,
             "ticks": ""
            },
            "colorscale": [
             [
              0,
              "#0d0887"
             ],
             [
              0.1111111111111111,
              "#46039f"
             ],
             [
              0.2222222222222222,
              "#7201a8"
             ],
             [
              0.3333333333333333,
              "#9c179e"
             ],
             [
              0.4444444444444444,
              "#bd3786"
             ],
             [
              0.5555555555555556,
              "#d8576b"
             ],
             [
              0.6666666666666666,
              "#ed7953"
             ],
             [
              0.7777777777777778,
              "#fb9f3a"
             ],
             [
              0.8888888888888888,
              "#fdca26"
             ],
             [
              1,
              "#f0f921"
             ]
            ],
            "type": "contour"
           }
          ],
          "contourcarpet": [
           {
            "colorbar": {
             "outlinewidth": 0,
             "ticks": ""
            },
            "type": "contourcarpet"
           }
          ],
          "heatmap": [
           {
            "colorbar": {
             "outlinewidth": 0,
             "ticks": ""
            },
            "colorscale": [
             [
              0,
              "#0d0887"
             ],
             [
              0.1111111111111111,
              "#46039f"
             ],
             [
              0.2222222222222222,
              "#7201a8"
             ],
             [
              0.3333333333333333,
              "#9c179e"
             ],
             [
              0.4444444444444444,
              "#bd3786"
             ],
             [
              0.5555555555555556,
              "#d8576b"
             ],
             [
              0.6666666666666666,
              "#ed7953"
             ],
             [
              0.7777777777777778,
              "#fb9f3a"
             ],
             [
              0.8888888888888888,
              "#fdca26"
             ],
             [
              1,
              "#f0f921"
             ]
            ],
            "type": "heatmap"
           }
          ],
          "heatmapgl": [
           {
            "colorbar": {
             "outlinewidth": 0,
             "ticks": ""
            },
            "colorscale": [
             [
              0,
              "#0d0887"
             ],
             [
              0.1111111111111111,
              "#46039f"
             ],
             [
              0.2222222222222222,
              "#7201a8"
             ],
             [
              0.3333333333333333,
              "#9c179e"
             ],
             [
              0.4444444444444444,
              "#bd3786"
             ],
             [
              0.5555555555555556,
              "#d8576b"
             ],
             [
              0.6666666666666666,
              "#ed7953"
             ],
             [
              0.7777777777777778,
              "#fb9f3a"
             ],
             [
              0.8888888888888888,
              "#fdca26"
             ],
             [
              1,
              "#f0f921"
             ]
            ],
            "type": "heatmapgl"
           }
          ],
          "histogram": [
           {
            "marker": {
             "pattern": {
              "fillmode": "overlay",
              "size": 10,
              "solidity": 0.2
             }
            },
            "type": "histogram"
           }
          ],
          "histogram2d": [
           {
            "colorbar": {
             "outlinewidth": 0,
             "ticks": ""
            },
            "colorscale": [
             [
              0,
              "#0d0887"
             ],
             [
              0.1111111111111111,
              "#46039f"
             ],
             [
              0.2222222222222222,
              "#7201a8"
             ],
             [
              0.3333333333333333,
              "#9c179e"
             ],
             [
              0.4444444444444444,
              "#bd3786"
             ],
             [
              0.5555555555555556,
              "#d8576b"
             ],
             [
              0.6666666666666666,
              "#ed7953"
             ],
             [
              0.7777777777777778,
              "#fb9f3a"
             ],
             [
              0.8888888888888888,
              "#fdca26"
             ],
             [
              1,
              "#f0f921"
             ]
            ],
            "type": "histogram2d"
           }
          ],
          "histogram2dcontour": [
           {
            "colorbar": {
             "outlinewidth": 0,
             "ticks": ""
            },
            "colorscale": [
             [
              0,
              "#0d0887"
             ],
             [
              0.1111111111111111,
              "#46039f"
             ],
             [
              0.2222222222222222,
              "#7201a8"
             ],
             [
              0.3333333333333333,
              "#9c179e"
             ],
             [
              0.4444444444444444,
              "#bd3786"
             ],
             [
              0.5555555555555556,
              "#d8576b"
             ],
             [
              0.6666666666666666,
              "#ed7953"
             ],
             [
              0.7777777777777778,
              "#fb9f3a"
             ],
             [
              0.8888888888888888,
              "#fdca26"
             ],
             [
              1,
              "#f0f921"
             ]
            ],
            "type": "histogram2dcontour"
           }
          ],
          "mesh3d": [
           {
            "colorbar": {
             "outlinewidth": 0,
             "ticks": ""
            },
            "type": "mesh3d"
           }
          ],
          "parcoords": [
           {
            "line": {
             "colorbar": {
              "outlinewidth": 0,
              "ticks": ""
             }
            },
            "type": "parcoords"
           }
          ],
          "pie": [
           {
            "automargin": true,
            "type": "pie"
           }
          ],
          "scatter": [
           {
            "fillpattern": {
             "fillmode": "overlay",
             "size": 10,
             "solidity": 0.2
            },
            "type": "scatter"
           }
          ],
          "scatter3d": [
           {
            "line": {
             "colorbar": {
              "outlinewidth": 0,
              "ticks": ""
             }
            },
            "marker": {
             "colorbar": {
              "outlinewidth": 0,
              "ticks": ""
             }
            },
            "type": "scatter3d"
           }
          ],
          "scattercarpet": [
           {
            "marker": {
             "colorbar": {
              "outlinewidth": 0,
              "ticks": ""
             }
            },
            "type": "scattercarpet"
           }
          ],
          "scattergeo": [
           {
            "marker": {
             "colorbar": {
              "outlinewidth": 0,
              "ticks": ""
             }
            },
            "type": "scattergeo"
           }
          ],
          "scattergl": [
           {
            "marker": {
             "colorbar": {
              "outlinewidth": 0,
              "ticks": ""
             }
            },
            "type": "scattergl"
           }
          ],
          "scattermapbox": [
           {
            "marker": {
             "colorbar": {
              "outlinewidth": 0,
              "ticks": ""
             }
            },
            "type": "scattermapbox"
           }
          ],
          "scatterpolar": [
           {
            "marker": {
             "colorbar": {
              "outlinewidth": 0,
              "ticks": ""
             }
            },
            "type": "scatterpolar"
           }
          ],
          "scatterpolargl": [
           {
            "marker": {
             "colorbar": {
              "outlinewidth": 0,
              "ticks": ""
             }
            },
            "type": "scatterpolargl"
           }
          ],
          "scatterternary": [
           {
            "marker": {
             "colorbar": {
              "outlinewidth": 0,
              "ticks": ""
             }
            },
            "type": "scatterternary"
           }
          ],
          "surface": [
           {
            "colorbar": {
             "outlinewidth": 0,
             "ticks": ""
            },
            "colorscale": [
             [
              0,
              "#0d0887"
             ],
             [
              0.1111111111111111,
              "#46039f"
             ],
             [
              0.2222222222222222,
              "#7201a8"
             ],
             [
              0.3333333333333333,
              "#9c179e"
             ],
             [
              0.4444444444444444,
              "#bd3786"
             ],
             [
              0.5555555555555556,
              "#d8576b"
             ],
             [
              0.6666666666666666,
              "#ed7953"
             ],
             [
              0.7777777777777778,
              "#fb9f3a"
             ],
             [
              0.8888888888888888,
              "#fdca26"
             ],
             [
              1,
              "#f0f921"
             ]
            ],
            "type": "surface"
           }
          ],
          "table": [
           {
            "cells": {
             "fill": {
              "color": "#EBF0F8"
             },
             "line": {
              "color": "white"
             }
            },
            "header": {
             "fill": {
              "color": "#C8D4E3"
             },
             "line": {
              "color": "white"
             }
            },
            "type": "table"
           }
          ]
         },
         "layout": {
          "annotationdefaults": {
           "arrowcolor": "#2a3f5f",
           "arrowhead": 0,
           "arrowwidth": 1
          },
          "autotypenumbers": "strict",
          "coloraxis": {
           "colorbar": {
            "outlinewidth": 0,
            "ticks": ""
           }
          },
          "colorscale": {
           "diverging": [
            [
             0,
             "#8e0152"
            ],
            [
             0.1,
             "#c51b7d"
            ],
            [
             0.2,
             "#de77ae"
            ],
            [
             0.3,
             "#f1b6da"
            ],
            [
             0.4,
             "#fde0ef"
            ],
            [
             0.5,
             "#f7f7f7"
            ],
            [
             0.6,
             "#e6f5d0"
            ],
            [
             0.7,
             "#b8e186"
            ],
            [
             0.8,
             "#7fbc41"
            ],
            [
             0.9,
             "#4d9221"
            ],
            [
             1,
             "#276419"
            ]
           ],
           "sequential": [
            [
             0,
             "#0d0887"
            ],
            [
             0.1111111111111111,
             "#46039f"
            ],
            [
             0.2222222222222222,
             "#7201a8"
            ],
            [
             0.3333333333333333,
             "#9c179e"
            ],
            [
             0.4444444444444444,
             "#bd3786"
            ],
            [
             0.5555555555555556,
             "#d8576b"
            ],
            [
             0.6666666666666666,
             "#ed7953"
            ],
            [
             0.7777777777777778,
             "#fb9f3a"
            ],
            [
             0.8888888888888888,
             "#fdca26"
            ],
            [
             1,
             "#f0f921"
            ]
           ],
           "sequentialminus": [
            [
             0,
             "#0d0887"
            ],
            [
             0.1111111111111111,
             "#46039f"
            ],
            [
             0.2222222222222222,
             "#7201a8"
            ],
            [
             0.3333333333333333,
             "#9c179e"
            ],
            [
             0.4444444444444444,
             "#bd3786"
            ],
            [
             0.5555555555555556,
             "#d8576b"
            ],
            [
             0.6666666666666666,
             "#ed7953"
            ],
            [
             0.7777777777777778,
             "#fb9f3a"
            ],
            [
             0.8888888888888888,
             "#fdca26"
            ],
            [
             1,
             "#f0f921"
            ]
           ]
          },
          "colorway": [
           "#636efa",
           "#EF553B",
           "#00cc96",
           "#ab63fa",
           "#FFA15A",
           "#19d3f3",
           "#FF6692",
           "#B6E880",
           "#FF97FF",
           "#FECB52"
          ],
          "font": {
           "color": "#2a3f5f"
          },
          "geo": {
           "bgcolor": "white",
           "lakecolor": "white",
           "landcolor": "#E5ECF6",
           "showlakes": true,
           "showland": true,
           "subunitcolor": "white"
          },
          "hoverlabel": {
           "align": "left"
          },
          "hovermode": "closest",
          "mapbox": {
           "style": "light"
          },
          "paper_bgcolor": "white",
          "plot_bgcolor": "#E5ECF6",
          "polar": {
           "angularaxis": {
            "gridcolor": "white",
            "linecolor": "white",
            "ticks": ""
           },
           "bgcolor": "#E5ECF6",
           "radialaxis": {
            "gridcolor": "white",
            "linecolor": "white",
            "ticks": ""
           }
          },
          "scene": {
           "xaxis": {
            "backgroundcolor": "#E5ECF6",
            "gridcolor": "white",
            "gridwidth": 2,
            "linecolor": "white",
            "showbackground": true,
            "ticks": "",
            "zerolinecolor": "white"
           },
           "yaxis": {
            "backgroundcolor": "#E5ECF6",
            "gridcolor": "white",
            "gridwidth": 2,
            "linecolor": "white",
            "showbackground": true,
            "ticks": "",
            "zerolinecolor": "white"
           },
           "zaxis": {
            "backgroundcolor": "#E5ECF6",
            "gridcolor": "white",
            "gridwidth": 2,
            "linecolor": "white",
            "showbackground": true,
            "ticks": "",
            "zerolinecolor": "white"
           }
          },
          "shapedefaults": {
           "line": {
            "color": "#2a3f5f"
           }
          },
          "ternary": {
           "aaxis": {
            "gridcolor": "white",
            "linecolor": "white",
            "ticks": ""
           },
           "baxis": {
            "gridcolor": "white",
            "linecolor": "white",
            "ticks": ""
           },
           "bgcolor": "#E5ECF6",
           "caxis": {
            "gridcolor": "white",
            "linecolor": "white",
            "ticks": ""
           }
          },
          "title": {
           "x": 0.05
          },
          "xaxis": {
           "automargin": true,
           "gridcolor": "white",
           "linecolor": "white",
           "ticks": "",
           "title": {
            "standoff": 15
           },
           "zerolinecolor": "white",
           "zerolinewidth": 2
          },
          "yaxis": {
           "automargin": true,
           "gridcolor": "white",
           "linecolor": "white",
           "ticks": "",
           "title": {
            "standoff": 15
           },
           "zerolinecolor": "white",
           "zerolinewidth": 2
          }
         }
        },
        "title": {
         "text": "Cumulative MACs per layer - mobilenetv2_0.1_96_c1_o3_keras"
        },
        "xaxis": {
         "anchor": "y",
         "domain": [
          0,
          1
         ],
         "title": {
          "text": "name"
         }
        },
        "yaxis": {
         "anchor": "x",
         "domain": [
          0,
          1
         ],
         "title": {
          "text": "total_MACs"
         }
        }
       }
      },
      "text/html": [
       "<div>                            <div id=\"89e906d3-2193-42fa-9432-1ed4d4b898da\" class=\"plotly-graph-div\" style=\"height:525px; width:100%;\"></div>            <script type=\"text/javascript\">                require([\"plotly\"], function(Plotly) {                    window.PLOTLYENV=window.PLOTLYENV || {};                                    if (document.getElementById(\"89e906d3-2193-42fa-9432-1ed4d4b898da\")) {                    Plotly.newPlot(                        \"89e906d3-2193-42fa-9432-1ed4d4b898da\",                        [{\"hovertemplate\":\"name=%{x}<br>total_MACs=%{y}<extra></extra>\",\"legendgroup\":\"\",\"line\":{\"color\":\"#636efa\",\"dash\":\"solid\"},\"marker\":{\"symbol\":\"circle\"},\"mode\":\"lines\",\"name\":\"\",\"orientation\":\"v\",\"showlegend\":false,\"x\":[\"input_1\",\"Conv1\",\"bn_Conv1\",\"Conv1_relu\",\"expanded_conv_depthwise\",\"expanded_conv_depthwise_BN\",\"expanded_conv_depthwise_relu\",\"expanded_conv_project\",\"expanded_conv_project_BN\",\"expanded_conv_add\",\"block_1_expand\",\"block_1_expand_BN\",\"block_1_expand_relu\",\"block_1_pad\",\"block_1_depthwise\",\"block_1_depthwise_BN\",\"block_1_depthwise_relu\",\"block_1_project\",\"block_1_project_BN\",\"block_2_expand\",\"block_2_expand_BN\",\"block_2_expand_relu\",\"block_2_depthwise\",\"block_2_depthwise_BN\",\"block_2_depthwise_relu\",\"block_2_project\",\"block_2_project_BN\",\"block_2_add\",\"block_3_expand\",\"block_3_expand_BN\",\"block_3_expand_relu\",\"block_3_pad\",\"block_3_depthwise\",\"block_3_depthwise_BN\",\"block_3_depthwise_relu\",\"block_3_project\",\"block_3_project_BN\",\"block_4_expand\",\"block_4_expand_BN\",\"block_4_expand_relu\",\"block_4_depthwise\",\"block_4_depthwise_BN\",\"block_4_depthwise_relu\",\"block_4_project\",\"block_4_project_BN\",\"block_4_add\",\"block_5_expand\",\"block_5_expand_BN\",\"block_5_expand_relu\",\"block_5_depthwise\",\"block_5_depthwise_BN\",\"block_5_depthwise_relu\",\"block_5_project\",\"block_5_project_BN\",\"block_5_add\",\"block_6_expand\",\"block_6_expand_BN\",\"block_6_expand_relu\",\"block_6_pad\",\"block_6_depthwise\",\"block_6_depthwise_BN\",\"block_6_depthwise_relu\",\"block_6_project\",\"block_6_project_BN\",\"block_7_expand\",\"block_7_expand_BN\",\"block_7_expand_relu\",\"block_7_depthwise\",\"block_7_depthwise_BN\",\"block_7_depthwise_relu\",\"block_7_project\",\"block_7_project_BN\",\"block_7_add\",\"block_8_expand\",\"block_8_expand_BN\",\"block_8_expand_relu\",\"block_8_depthwise\",\"block_8_depthwise_BN\",\"block_8_depthwise_relu\",\"block_8_project\",\"block_8_project_BN\",\"block_8_add\",\"block_9_expand\",\"block_9_expand_BN\",\"block_9_expand_relu\",\"block_9_depthwise\",\"block_9_depthwise_BN\",\"block_9_depthwise_relu\",\"block_9_project\",\"block_9_project_BN\",\"block_9_add\",\"block_10_expand\",\"block_10_expand_BN\",\"block_10_expand_relu\",\"block_10_depthwise\",\"block_10_depthwise_BN\",\"block_10_depthwise_relu\",\"block_10_project\",\"block_10_project_BN\",\"block_11_expand\",\"block_11_expand_BN\",\"block_11_expand_relu\",\"block_11_depthwise\",\"block_11_depthwise_BN\",\"block_11_depthwise_relu\",\"block_11_project\",\"block_11_project_BN\",\"block_11_add\",\"block_12_expand\",\"block_12_expand_BN\",\"block_12_expand_relu\",\"block_12_depthwise\",\"block_12_depthwise_BN\",\"block_12_depthwise_relu\",\"block_12_project\",\"block_12_project_BN\",\"block_12_add\",\"block_13_expand\",\"block_13_expand_BN\",\"block_13_expand_relu\",\"block_13_pad\",\"block_13_depthwise\",\"block_13_depthwise_BN\",\"block_13_depthwise_relu\",\"block_13_project\",\"block_13_project_BN\",\"block_14_expand\",\"block_14_expand_BN\",\"block_14_expand_relu\",\"block_14_depthwise\",\"block_14_depthwise_BN\",\"block_14_depthwise_relu\",\"block_14_project\",\"block_14_project_BN\",\"block_14_add\",\"block_15_expand\",\"block_15_expand_BN\",\"block_15_expand_relu\",\"block_15_depthwise\",\"block_15_depthwise_BN\",\"block_15_depthwise_relu\",\"block_15_project\",\"block_15_project_BN\",\"block_15_add\",\"block_16_expand\",\"block_16_expand_BN\",\"block_16_expand_relu\",\"block_16_depthwise\",\"block_16_depthwise_BN\",\"block_16_depthwise_relu\",\"block_16_project\",\"block_16_project_BN\",\"Conv_1\",\"Conv_1_bn\",\"out_relu\",\"global_average_pooling2d\",\"predictions\"],\"xaxis\":\"x\",\"y\":[0,165888,165888,165888,331776,331776,331776,479232,479232,479232,1363968,1363968,1363968,1363968,1612800,1612800,1612800,1833984,1833984,2055168,2055168,2055168,2304000,2304000,2304000,2525184,2525184,2525184,2746368,2746368,2746368,2746368,2808576,2808576,2808576,2863872,2863872,2919168,2919168,2919168,2981376,2981376,2981376,3036672,3036672,3036672,3091968,3091968,3091968,3154176,3154176,3154176,3209472,3209472,3209472,3264768,3264768,3264768,3264768,3280320,3280320,3280320,3294144,3294144,3307968,3307968,3307968,3323520,3323520,3323520,3337344,3337344,3337344,3351168,3351168,3351168,3366720,3366720,3366720,3380544,3380544,3380544,3394368,3394368,3394368,3409920,3409920,3409920,3423744,3423744,3423744,3437568,3437568,3437568,3453120,3453120,3453120,3480768,3480768,3536064,3536064,3536064,3567168,3567168,3567168,3622464,3622464,3622464,3677760,3677760,3677760,3708864,3708864,3708864,3764160,3764160,3764160,3819456,3819456,3819456,3819456,3827232,3827232,3827232,3841056,3841056,3854880,3854880,3854880,3862656,3862656,3862656,3876480,3876480,3876480,3890304,3890304,3890304,3898080,3898080,3898080,3911904,3911904,3911904,3925728,3925728,3925728,3933504,3933504,3933504,3961152,3961152,4329792,4329792,4329792,4329792,4329792],\"yaxis\":\"y\",\"type\":\"scatter\"}],                        {\"template\":{\"data\":{\"histogram2dcontour\":[{\"type\":\"histogram2dcontour\",\"colorbar\":{\"outlinewidth\":0,\"ticks\":\"\"},\"colorscale\":[[0.0,\"#0d0887\"],[0.1111111111111111,\"#46039f\"],[0.2222222222222222,\"#7201a8\"],[0.3333333333333333,\"#9c179e\"],[0.4444444444444444,\"#bd3786\"],[0.5555555555555556,\"#d8576b\"],[0.6666666666666666,\"#ed7953\"],[0.7777777777777778,\"#fb9f3a\"],[0.8888888888888888,\"#fdca26\"],[1.0,\"#f0f921\"]]}],\"choropleth\":[{\"type\":\"choropleth\",\"colorbar\":{\"outlinewidth\":0,\"ticks\":\"\"}}],\"histogram2d\":[{\"type\":\"histogram2d\",\"colorbar\":{\"outlinewidth\":0,\"ticks\":\"\"},\"colorscale\":[[0.0,\"#0d0887\"],[0.1111111111111111,\"#46039f\"],[0.2222222222222222,\"#7201a8\"],[0.3333333333333333,\"#9c179e\"],[0.4444444444444444,\"#bd3786\"],[0.5555555555555556,\"#d8576b\"],[0.6666666666666666,\"#ed7953\"],[0.7777777777777778,\"#fb9f3a\"],[0.8888888888888888,\"#fdca26\"],[1.0,\"#f0f921\"]]}],\"heatmap\":[{\"type\":\"heatmap\",\"colorbar\":{\"outlinewidth\":0,\"ticks\":\"\"},\"colorscale\":[[0.0,\"#0d0887\"],[0.1111111111111111,\"#46039f\"],[0.2222222222222222,\"#7201a8\"],[0.3333333333333333,\"#9c179e\"],[0.4444444444444444,\"#bd3786\"],[0.5555555555555556,\"#d8576b\"],[0.6666666666666666,\"#ed7953\"],[0.7777777777777778,\"#fb9f3a\"],[0.8888888888888888,\"#fdca26\"],[1.0,\"#f0f921\"]]}],\"heatmapgl\":[{\"type\":\"heatmapgl\",\"colorbar\":{\"outlinewidth\":0,\"ticks\":\"\"},\"colorscale\":[[0.0,\"#0d0887\"],[0.1111111111111111,\"#46039f\"],[0.2222222222222222,\"#7201a8\"],[0.3333333333333333,\"#9c179e\"],[0.4444444444444444,\"#bd3786\"],[0.5555555555555556,\"#d8576b\"],[0.6666666666666666,\"#ed7953\"],[0.7777777777777778,\"#fb9f3a\"],[0.8888888888888888,\"#fdca26\"],[1.0,\"#f0f921\"]]}],\"contourcarpet\":[{\"type\":\"contourcarpet\",\"colorbar\":{\"outlinewidth\":0,\"ticks\":\"\"}}],\"contour\":[{\"type\":\"contour\",\"colorbar\":{\"outlinewidth\":0,\"ticks\":\"\"},\"colorscale\":[[0.0,\"#0d0887\"],[0.1111111111111111,\"#46039f\"],[0.2222222222222222,\"#7201a8\"],[0.3333333333333333,\"#9c179e\"],[0.4444444444444444,\"#bd3786\"],[0.5555555555555556,\"#d8576b\"],[0.6666666666666666,\"#ed7953\"],[0.7777777777777778,\"#fb9f3a\"],[0.8888888888888888,\"#fdca26\"],[1.0,\"#f0f921\"]]}],\"surface\":[{\"type\":\"surface\",\"colorbar\":{\"outlinewidth\":0,\"ticks\":\"\"},\"colorscale\":[[0.0,\"#0d0887\"],[0.1111111111111111,\"#46039f\"],[0.2222222222222222,\"#7201a8\"],[0.3333333333333333,\"#9c179e\"],[0.4444444444444444,\"#bd3786\"],[0.5555555555555556,\"#d8576b\"],[0.6666666666666666,\"#ed7953\"],[0.7777777777777778,\"#fb9f3a\"],[0.8888888888888888,\"#fdca26\"],[1.0,\"#f0f921\"]]}],\"mesh3d\":[{\"type\":\"mesh3d\",\"colorbar\":{\"outlinewidth\":0,\"ticks\":\"\"}}],\"scatter\":[{\"fillpattern\":{\"fillmode\":\"overlay\",\"size\":10,\"solidity\":0.2},\"type\":\"scatter\"}],\"parcoords\":[{\"type\":\"parcoords\",\"line\":{\"colorbar\":{\"outlinewidth\":0,\"ticks\":\"\"}}}],\"scatterpolargl\":[{\"type\":\"scatterpolargl\",\"marker\":{\"colorbar\":{\"outlinewidth\":0,\"ticks\":\"\"}}}],\"bar\":[{\"error_x\":{\"color\":\"#2a3f5f\"},\"error_y\":{\"color\":\"#2a3f5f\"},\"marker\":{\"line\":{\"color\":\"#E5ECF6\",\"width\":0.5},\"pattern\":{\"fillmode\":\"overlay\",\"size\":10,\"solidity\":0.2}},\"type\":\"bar\"}],\"scattergeo\":[{\"type\":\"scattergeo\",\"marker\":{\"colorbar\":{\"outlinewidth\":0,\"ticks\":\"\"}}}],\"scatterpolar\":[{\"type\":\"scatterpolar\",\"marker\":{\"colorbar\":{\"outlinewidth\":0,\"ticks\":\"\"}}}],\"histogram\":[{\"marker\":{\"pattern\":{\"fillmode\":\"overlay\",\"size\":10,\"solidity\":0.2}},\"type\":\"histogram\"}],\"scattergl\":[{\"type\":\"scattergl\",\"marker\":{\"colorbar\":{\"outlinewidth\":0,\"ticks\":\"\"}}}],\"scatter3d\":[{\"type\":\"scatter3d\",\"line\":{\"colorbar\":{\"outlinewidth\":0,\"ticks\":\"\"}},\"marker\":{\"colorbar\":{\"outlinewidth\":0,\"ticks\":\"\"}}}],\"scattermapbox\":[{\"type\":\"scattermapbox\",\"marker\":{\"colorbar\":{\"outlinewidth\":0,\"ticks\":\"\"}}}],\"scatterternary\":[{\"type\":\"scatterternary\",\"marker\":{\"colorbar\":{\"outlinewidth\":0,\"ticks\":\"\"}}}],\"scattercarpet\":[{\"type\":\"scattercarpet\",\"marker\":{\"colorbar\":{\"outlinewidth\":0,\"ticks\":\"\"}}}],\"carpet\":[{\"aaxis\":{\"endlinecolor\":\"#2a3f5f\",\"gridcolor\":\"white\",\"linecolor\":\"white\",\"minorgridcolor\":\"white\",\"startlinecolor\":\"#2a3f5f\"},\"baxis\":{\"endlinecolor\":\"#2a3f5f\",\"gridcolor\":\"white\",\"linecolor\":\"white\",\"minorgridcolor\":\"white\",\"startlinecolor\":\"#2a3f5f\"},\"type\":\"carpet\"}],\"table\":[{\"cells\":{\"fill\":{\"color\":\"#EBF0F8\"},\"line\":{\"color\":\"white\"}},\"header\":{\"fill\":{\"color\":\"#C8D4E3\"},\"line\":{\"color\":\"white\"}},\"type\":\"table\"}],\"barpolar\":[{\"marker\":{\"line\":{\"color\":\"#E5ECF6\",\"width\":0.5},\"pattern\":{\"fillmode\":\"overlay\",\"size\":10,\"solidity\":0.2}},\"type\":\"barpolar\"}],\"pie\":[{\"automargin\":true,\"type\":\"pie\"}]},\"layout\":{\"autotypenumbers\":\"strict\",\"colorway\":[\"#636efa\",\"#EF553B\",\"#00cc96\",\"#ab63fa\",\"#FFA15A\",\"#19d3f3\",\"#FF6692\",\"#B6E880\",\"#FF97FF\",\"#FECB52\"],\"font\":{\"color\":\"#2a3f5f\"},\"hovermode\":\"closest\",\"hoverlabel\":{\"align\":\"left\"},\"paper_bgcolor\":\"white\",\"plot_bgcolor\":\"#E5ECF6\",\"polar\":{\"bgcolor\":\"#E5ECF6\",\"angularaxis\":{\"gridcolor\":\"white\",\"linecolor\":\"white\",\"ticks\":\"\"},\"radialaxis\":{\"gridcolor\":\"white\",\"linecolor\":\"white\",\"ticks\":\"\"}},\"ternary\":{\"bgcolor\":\"#E5ECF6\",\"aaxis\":{\"gridcolor\":\"white\",\"linecolor\":\"white\",\"ticks\":\"\"},\"baxis\":{\"gridcolor\":\"white\",\"linecolor\":\"white\",\"ticks\":\"\"},\"caxis\":{\"gridcolor\":\"white\",\"linecolor\":\"white\",\"ticks\":\"\"}},\"coloraxis\":{\"colorbar\":{\"outlinewidth\":0,\"ticks\":\"\"}},\"colorscale\":{\"sequential\":[[0.0,\"#0d0887\"],[0.1111111111111111,\"#46039f\"],[0.2222222222222222,\"#7201a8\"],[0.3333333333333333,\"#9c179e\"],[0.4444444444444444,\"#bd3786\"],[0.5555555555555556,\"#d8576b\"],[0.6666666666666666,\"#ed7953\"],[0.7777777777777778,\"#fb9f3a\"],[0.8888888888888888,\"#fdca26\"],[1.0,\"#f0f921\"]],\"sequentialminus\":[[0.0,\"#0d0887\"],[0.1111111111111111,\"#46039f\"],[0.2222222222222222,\"#7201a8\"],[0.3333333333333333,\"#9c179e\"],[0.4444444444444444,\"#bd3786\"],[0.5555555555555556,\"#d8576b\"],[0.6666666666666666,\"#ed7953\"],[0.7777777777777778,\"#fb9f3a\"],[0.8888888888888888,\"#fdca26\"],[1.0,\"#f0f921\"]],\"diverging\":[[0,\"#8e0152\"],[0.1,\"#c51b7d\"],[0.2,\"#de77ae\"],[0.3,\"#f1b6da\"],[0.4,\"#fde0ef\"],[0.5,\"#f7f7f7\"],[0.6,\"#e6f5d0\"],[0.7,\"#b8e186\"],[0.8,\"#7fbc41\"],[0.9,\"#4d9221\"],[1,\"#276419\"]]},\"xaxis\":{\"gridcolor\":\"white\",\"linecolor\":\"white\",\"ticks\":\"\",\"title\":{\"standoff\":15},\"zerolinecolor\":\"white\",\"automargin\":true,\"zerolinewidth\":2},\"yaxis\":{\"gridcolor\":\"white\",\"linecolor\":\"white\",\"ticks\":\"\",\"title\":{\"standoff\":15},\"zerolinecolor\":\"white\",\"automargin\":true,\"zerolinewidth\":2},\"scene\":{\"xaxis\":{\"backgroundcolor\":\"#E5ECF6\",\"gridcolor\":\"white\",\"linecolor\":\"white\",\"showbackground\":true,\"ticks\":\"\",\"zerolinecolor\":\"white\",\"gridwidth\":2},\"yaxis\":{\"backgroundcolor\":\"#E5ECF6\",\"gridcolor\":\"white\",\"linecolor\":\"white\",\"showbackground\":true,\"ticks\":\"\",\"zerolinecolor\":\"white\",\"gridwidth\":2},\"zaxis\":{\"backgroundcolor\":\"#E5ECF6\",\"gridcolor\":\"white\",\"linecolor\":\"white\",\"showbackground\":true,\"ticks\":\"\",\"zerolinecolor\":\"white\",\"gridwidth\":2}},\"shapedefaults\":{\"line\":{\"color\":\"#2a3f5f\"}},\"annotationdefaults\":{\"arrowcolor\":\"#2a3f5f\",\"arrowhead\":0,\"arrowwidth\":1},\"geo\":{\"bgcolor\":\"white\",\"landcolor\":\"#E5ECF6\",\"subunitcolor\":\"white\",\"showland\":true,\"showlakes\":true,\"lakecolor\":\"white\"},\"title\":{\"x\":0.05},\"mapbox\":{\"style\":\"light\"}}},\"xaxis\":{\"anchor\":\"y\",\"domain\":[0.0,1.0],\"title\":{\"text\":\"name\"}},\"yaxis\":{\"anchor\":\"x\",\"domain\":[0.0,1.0],\"title\":{\"text\":\"total_MACs\"}},\"legend\":{\"tracegroupgap\":0},\"title\":{\"text\":\"Cumulative MACs per layer - mobilenetv2_0.1_96_c1_o3_keras\"}},                        {\"responsive\": true}                    ).then(function(){\n",
       "                            \n",
       "var gd = document.getElementById('89e906d3-2193-42fa-9432-1ed4d4b898da');\n",
       "var x = new MutationObserver(function (mutations, observer) {{\n",
       "        var display = window.getComputedStyle(gd).display;\n",
       "        if (!display || display === 'none') {{\n",
       "            console.log([gd, 'removed!']);\n",
       "            Plotly.purge(gd);\n",
       "            observer.disconnect();\n",
       "        }}\n",
       "}});\n",
       "\n",
       "// Listen for the removal of the full notebook cells\n",
       "var notebookContainer = gd.closest('#notebook-container');\n",
       "if (notebookContainer) {{\n",
       "    x.observe(notebookContainer, {childList: true});\n",
       "}}\n",
       "\n",
       "// Listen for the clearing of the current output cell\n",
       "var outputEl = gd.closest('.output');\n",
       "if (outputEl) {{\n",
       "    x.observe(outputEl, {childList: true});\n",
       "}}\n",
       "\n",
       "                        })                };                });            </script>        </div>"
      ]
     },
     "metadata": {},
     "output_type": "display_data"
    }
   ],
   "source": [
    "fig5 = px.line(df, x=\"name\", y= \"total_MACs\",\n",
    "    title=f\"Cumulative MACs per layer - {model_name}\")\n",
    "#fig.add_hline(y=256000, line_width=3, line_dash=\"dash\", line_color=\"orange\", annotation_text=\"256 kB MCU constraint\", \n",
    "#              annotation_position=\"bottom right\")\n",
    "#fig.update_layout(showlegend=True)\n",
    "fig5.show()"
   ]
  },
  {
   "cell_type": "code",
   "execution_count": 74,
   "metadata": {},
   "outputs": [
    {
     "data": {
      "application/vnd.plotly.v1+json": {
       "config": {
        "plotlyServerURL": "https://plot.ly"
       },
       "data": [
        {
         "alignmentgroup": "True",
         "hovertemplate": "name=%{x}<br>MACS=%{y}<extra></extra>",
         "legendgroup": "",
         "marker": {
          "color": "#636efa",
          "pattern": {
           "shape": ""
          }
         },
         "name": "",
         "offsetgroup": "",
         "orientation": "v",
         "showlegend": false,
         "textposition": "auto",
         "type": "bar",
         "x": [
          "input_1",
          "Conv1",
          "bn_Conv1",
          "Conv1_relu",
          "expanded_conv_depthwise",
          "expanded_conv_depthwise_BN",
          "expanded_conv_depthwise_relu",
          "expanded_conv_project",
          "expanded_conv_project_BN",
          "expanded_conv_add",
          "block_1_expand",
          "block_1_expand_BN",
          "block_1_expand_relu",
          "block_1_pad",
          "block_1_depthwise",
          "block_1_depthwise_BN",
          "block_1_depthwise_relu",
          "block_1_project",
          "block_1_project_BN",
          "block_2_expand",
          "block_2_expand_BN",
          "block_2_expand_relu",
          "block_2_depthwise",
          "block_2_depthwise_BN",
          "block_2_depthwise_relu",
          "block_2_project",
          "block_2_project_BN",
          "block_2_add",
          "block_3_expand",
          "block_3_expand_BN",
          "block_3_expand_relu",
          "block_3_pad",
          "block_3_depthwise",
          "block_3_depthwise_BN",
          "block_3_depthwise_relu",
          "block_3_project",
          "block_3_project_BN",
          "block_4_expand",
          "block_4_expand_BN",
          "block_4_expand_relu",
          "block_4_depthwise",
          "block_4_depthwise_BN",
          "block_4_depthwise_relu",
          "block_4_project",
          "block_4_project_BN",
          "block_4_add",
          "block_5_expand",
          "block_5_expand_BN",
          "block_5_expand_relu",
          "block_5_depthwise",
          "block_5_depthwise_BN",
          "block_5_depthwise_relu",
          "block_5_project",
          "block_5_project_BN",
          "block_5_add",
          "block_6_expand",
          "block_6_expand_BN",
          "block_6_expand_relu",
          "block_6_pad",
          "block_6_depthwise",
          "block_6_depthwise_BN",
          "block_6_depthwise_relu",
          "block_6_project",
          "block_6_project_BN",
          "block_7_expand",
          "block_7_expand_BN",
          "block_7_expand_relu",
          "block_7_depthwise",
          "block_7_depthwise_BN",
          "block_7_depthwise_relu",
          "block_7_project",
          "block_7_project_BN",
          "block_7_add",
          "block_8_expand",
          "block_8_expand_BN",
          "block_8_expand_relu",
          "block_8_depthwise",
          "block_8_depthwise_BN",
          "block_8_depthwise_relu",
          "block_8_project",
          "block_8_project_BN",
          "block_8_add",
          "block_9_expand",
          "block_9_expand_BN",
          "block_9_expand_relu",
          "block_9_depthwise",
          "block_9_depthwise_BN",
          "block_9_depthwise_relu",
          "block_9_project",
          "block_9_project_BN",
          "block_9_add",
          "block_10_expand",
          "block_10_expand_BN",
          "block_10_expand_relu",
          "block_10_depthwise",
          "block_10_depthwise_BN",
          "block_10_depthwise_relu",
          "block_10_project",
          "block_10_project_BN",
          "block_11_expand",
          "block_11_expand_BN",
          "block_11_expand_relu",
          "block_11_depthwise",
          "block_11_depthwise_BN",
          "block_11_depthwise_relu",
          "block_11_project",
          "block_11_project_BN",
          "block_11_add",
          "block_12_expand",
          "block_12_expand_BN",
          "block_12_expand_relu",
          "block_12_depthwise",
          "block_12_depthwise_BN",
          "block_12_depthwise_relu",
          "block_12_project",
          "block_12_project_BN",
          "block_12_add",
          "block_13_expand",
          "block_13_expand_BN",
          "block_13_expand_relu",
          "block_13_pad",
          "block_13_depthwise",
          "block_13_depthwise_BN",
          "block_13_depthwise_relu",
          "block_13_project",
          "block_13_project_BN",
          "block_14_expand",
          "block_14_expand_BN",
          "block_14_expand_relu",
          "block_14_depthwise",
          "block_14_depthwise_BN",
          "block_14_depthwise_relu",
          "block_14_project",
          "block_14_project_BN",
          "block_14_add",
          "block_15_expand",
          "block_15_expand_BN",
          "block_15_expand_relu",
          "block_15_depthwise",
          "block_15_depthwise_BN",
          "block_15_depthwise_relu",
          "block_15_project",
          "block_15_project_BN",
          "block_15_add",
          "block_16_expand",
          "block_16_expand_BN",
          "block_16_expand_relu",
          "block_16_depthwise",
          "block_16_depthwise_BN",
          "block_16_depthwise_relu",
          "block_16_project",
          "block_16_project_BN",
          "Conv_1",
          "Conv_1_bn",
          "out_relu",
          "global_average_pooling2d",
          "predictions"
         ],
         "xaxis": "x",
         "y": [
          0,
          165888,
          0,
          0,
          165888,
          0,
          0,
          147456,
          0,
          0,
          884736,
          0,
          0,
          0,
          248832,
          0,
          0,
          221184,
          0,
          221184,
          0,
          0,
          248832,
          0,
          0,
          221184,
          0,
          0,
          221184,
          0,
          0,
          0,
          62208,
          0,
          0,
          55296,
          0,
          55296,
          0,
          0,
          62208,
          0,
          0,
          55296,
          0,
          0,
          55296,
          0,
          0,
          62208,
          0,
          0,
          55296,
          0,
          0,
          55296,
          0,
          0,
          0,
          15552,
          0,
          0,
          13824,
          0,
          13824,
          0,
          0,
          15552,
          0,
          0,
          13824,
          0,
          0,
          13824,
          0,
          0,
          15552,
          0,
          0,
          13824,
          0,
          0,
          13824,
          0,
          0,
          15552,
          0,
          0,
          13824,
          0,
          0,
          13824,
          0,
          0,
          15552,
          0,
          0,
          27648,
          0,
          55296,
          0,
          0,
          31104,
          0,
          0,
          55296,
          0,
          0,
          55296,
          0,
          0,
          31104,
          0,
          0,
          55296,
          0,
          0,
          55296,
          0,
          0,
          0,
          7776,
          0,
          0,
          13824,
          0,
          13824,
          0,
          0,
          7776,
          0,
          0,
          13824,
          0,
          0,
          13824,
          0,
          0,
          7776,
          0,
          0,
          13824,
          0,
          0,
          13824,
          0,
          0,
          7776,
          0,
          0,
          27648,
          0,
          368640,
          0,
          0,
          0,
          0
         ],
         "yaxis": "y"
        }
       ],
       "layout": {
        "barmode": "relative",
        "legend": {
         "tracegroupgap": 0
        },
        "template": {
         "data": {
          "bar": [
           {
            "error_x": {
             "color": "#2a3f5f"
            },
            "error_y": {
             "color": "#2a3f5f"
            },
            "marker": {
             "line": {
              "color": "#E5ECF6",
              "width": 0.5
             },
             "pattern": {
              "fillmode": "overlay",
              "size": 10,
              "solidity": 0.2
             }
            },
            "type": "bar"
           }
          ],
          "barpolar": [
           {
            "marker": {
             "line": {
              "color": "#E5ECF6",
              "width": 0.5
             },
             "pattern": {
              "fillmode": "overlay",
              "size": 10,
              "solidity": 0.2
             }
            },
            "type": "barpolar"
           }
          ],
          "carpet": [
           {
            "aaxis": {
             "endlinecolor": "#2a3f5f",
             "gridcolor": "white",
             "linecolor": "white",
             "minorgridcolor": "white",
             "startlinecolor": "#2a3f5f"
            },
            "baxis": {
             "endlinecolor": "#2a3f5f",
             "gridcolor": "white",
             "linecolor": "white",
             "minorgridcolor": "white",
             "startlinecolor": "#2a3f5f"
            },
            "type": "carpet"
           }
          ],
          "choropleth": [
           {
            "colorbar": {
             "outlinewidth": 0,
             "ticks": ""
            },
            "type": "choropleth"
           }
          ],
          "contour": [
           {
            "colorbar": {
             "outlinewidth": 0,
             "ticks": ""
            },
            "colorscale": [
             [
              0,
              "#0d0887"
             ],
             [
              0.1111111111111111,
              "#46039f"
             ],
             [
              0.2222222222222222,
              "#7201a8"
             ],
             [
              0.3333333333333333,
              "#9c179e"
             ],
             [
              0.4444444444444444,
              "#bd3786"
             ],
             [
              0.5555555555555556,
              "#d8576b"
             ],
             [
              0.6666666666666666,
              "#ed7953"
             ],
             [
              0.7777777777777778,
              "#fb9f3a"
             ],
             [
              0.8888888888888888,
              "#fdca26"
             ],
             [
              1,
              "#f0f921"
             ]
            ],
            "type": "contour"
           }
          ],
          "contourcarpet": [
           {
            "colorbar": {
             "outlinewidth": 0,
             "ticks": ""
            },
            "type": "contourcarpet"
           }
          ],
          "heatmap": [
           {
            "colorbar": {
             "outlinewidth": 0,
             "ticks": ""
            },
            "colorscale": [
             [
              0,
              "#0d0887"
             ],
             [
              0.1111111111111111,
              "#46039f"
             ],
             [
              0.2222222222222222,
              "#7201a8"
             ],
             [
              0.3333333333333333,
              "#9c179e"
             ],
             [
              0.4444444444444444,
              "#bd3786"
             ],
             [
              0.5555555555555556,
              "#d8576b"
             ],
             [
              0.6666666666666666,
              "#ed7953"
             ],
             [
              0.7777777777777778,
              "#fb9f3a"
             ],
             [
              0.8888888888888888,
              "#fdca26"
             ],
             [
              1,
              "#f0f921"
             ]
            ],
            "type": "heatmap"
           }
          ],
          "heatmapgl": [
           {
            "colorbar": {
             "outlinewidth": 0,
             "ticks": ""
            },
            "colorscale": [
             [
              0,
              "#0d0887"
             ],
             [
              0.1111111111111111,
              "#46039f"
             ],
             [
              0.2222222222222222,
              "#7201a8"
             ],
             [
              0.3333333333333333,
              "#9c179e"
             ],
             [
              0.4444444444444444,
              "#bd3786"
             ],
             [
              0.5555555555555556,
              "#d8576b"
             ],
             [
              0.6666666666666666,
              "#ed7953"
             ],
             [
              0.7777777777777778,
              "#fb9f3a"
             ],
             [
              0.8888888888888888,
              "#fdca26"
             ],
             [
              1,
              "#f0f921"
             ]
            ],
            "type": "heatmapgl"
           }
          ],
          "histogram": [
           {
            "marker": {
             "pattern": {
              "fillmode": "overlay",
              "size": 10,
              "solidity": 0.2
             }
            },
            "type": "histogram"
           }
          ],
          "histogram2d": [
           {
            "colorbar": {
             "outlinewidth": 0,
             "ticks": ""
            },
            "colorscale": [
             [
              0,
              "#0d0887"
             ],
             [
              0.1111111111111111,
              "#46039f"
             ],
             [
              0.2222222222222222,
              "#7201a8"
             ],
             [
              0.3333333333333333,
              "#9c179e"
             ],
             [
              0.4444444444444444,
              "#bd3786"
             ],
             [
              0.5555555555555556,
              "#d8576b"
             ],
             [
              0.6666666666666666,
              "#ed7953"
             ],
             [
              0.7777777777777778,
              "#fb9f3a"
             ],
             [
              0.8888888888888888,
              "#fdca26"
             ],
             [
              1,
              "#f0f921"
             ]
            ],
            "type": "histogram2d"
           }
          ],
          "histogram2dcontour": [
           {
            "colorbar": {
             "outlinewidth": 0,
             "ticks": ""
            },
            "colorscale": [
             [
              0,
              "#0d0887"
             ],
             [
              0.1111111111111111,
              "#46039f"
             ],
             [
              0.2222222222222222,
              "#7201a8"
             ],
             [
              0.3333333333333333,
              "#9c179e"
             ],
             [
              0.4444444444444444,
              "#bd3786"
             ],
             [
              0.5555555555555556,
              "#d8576b"
             ],
             [
              0.6666666666666666,
              "#ed7953"
             ],
             [
              0.7777777777777778,
              "#fb9f3a"
             ],
             [
              0.8888888888888888,
              "#fdca26"
             ],
             [
              1,
              "#f0f921"
             ]
            ],
            "type": "histogram2dcontour"
           }
          ],
          "mesh3d": [
           {
            "colorbar": {
             "outlinewidth": 0,
             "ticks": ""
            },
            "type": "mesh3d"
           }
          ],
          "parcoords": [
           {
            "line": {
             "colorbar": {
              "outlinewidth": 0,
              "ticks": ""
             }
            },
            "type": "parcoords"
           }
          ],
          "pie": [
           {
            "automargin": true,
            "type": "pie"
           }
          ],
          "scatter": [
           {
            "fillpattern": {
             "fillmode": "overlay",
             "size": 10,
             "solidity": 0.2
            },
            "type": "scatter"
           }
          ],
          "scatter3d": [
           {
            "line": {
             "colorbar": {
              "outlinewidth": 0,
              "ticks": ""
             }
            },
            "marker": {
             "colorbar": {
              "outlinewidth": 0,
              "ticks": ""
             }
            },
            "type": "scatter3d"
           }
          ],
          "scattercarpet": [
           {
            "marker": {
             "colorbar": {
              "outlinewidth": 0,
              "ticks": ""
             }
            },
            "type": "scattercarpet"
           }
          ],
          "scattergeo": [
           {
            "marker": {
             "colorbar": {
              "outlinewidth": 0,
              "ticks": ""
             }
            },
            "type": "scattergeo"
           }
          ],
          "scattergl": [
           {
            "marker": {
             "colorbar": {
              "outlinewidth": 0,
              "ticks": ""
             }
            },
            "type": "scattergl"
           }
          ],
          "scattermapbox": [
           {
            "marker": {
             "colorbar": {
              "outlinewidth": 0,
              "ticks": ""
             }
            },
            "type": "scattermapbox"
           }
          ],
          "scatterpolar": [
           {
            "marker": {
             "colorbar": {
              "outlinewidth": 0,
              "ticks": ""
             }
            },
            "type": "scatterpolar"
           }
          ],
          "scatterpolargl": [
           {
            "marker": {
             "colorbar": {
              "outlinewidth": 0,
              "ticks": ""
             }
            },
            "type": "scatterpolargl"
           }
          ],
          "scatterternary": [
           {
            "marker": {
             "colorbar": {
              "outlinewidth": 0,
              "ticks": ""
             }
            },
            "type": "scatterternary"
           }
          ],
          "surface": [
           {
            "colorbar": {
             "outlinewidth": 0,
             "ticks": ""
            },
            "colorscale": [
             [
              0,
              "#0d0887"
             ],
             [
              0.1111111111111111,
              "#46039f"
             ],
             [
              0.2222222222222222,
              "#7201a8"
             ],
             [
              0.3333333333333333,
              "#9c179e"
             ],
             [
              0.4444444444444444,
              "#bd3786"
             ],
             [
              0.5555555555555556,
              "#d8576b"
             ],
             [
              0.6666666666666666,
              "#ed7953"
             ],
             [
              0.7777777777777778,
              "#fb9f3a"
             ],
             [
              0.8888888888888888,
              "#fdca26"
             ],
             [
              1,
              "#f0f921"
             ]
            ],
            "type": "surface"
           }
          ],
          "table": [
           {
            "cells": {
             "fill": {
              "color": "#EBF0F8"
             },
             "line": {
              "color": "white"
             }
            },
            "header": {
             "fill": {
              "color": "#C8D4E3"
             },
             "line": {
              "color": "white"
             }
            },
            "type": "table"
           }
          ]
         },
         "layout": {
          "annotationdefaults": {
           "arrowcolor": "#2a3f5f",
           "arrowhead": 0,
           "arrowwidth": 1
          },
          "autotypenumbers": "strict",
          "coloraxis": {
           "colorbar": {
            "outlinewidth": 0,
            "ticks": ""
           }
          },
          "colorscale": {
           "diverging": [
            [
             0,
             "#8e0152"
            ],
            [
             0.1,
             "#c51b7d"
            ],
            [
             0.2,
             "#de77ae"
            ],
            [
             0.3,
             "#f1b6da"
            ],
            [
             0.4,
             "#fde0ef"
            ],
            [
             0.5,
             "#f7f7f7"
            ],
            [
             0.6,
             "#e6f5d0"
            ],
            [
             0.7,
             "#b8e186"
            ],
            [
             0.8,
             "#7fbc41"
            ],
            [
             0.9,
             "#4d9221"
            ],
            [
             1,
             "#276419"
            ]
           ],
           "sequential": [
            [
             0,
             "#0d0887"
            ],
            [
             0.1111111111111111,
             "#46039f"
            ],
            [
             0.2222222222222222,
             "#7201a8"
            ],
            [
             0.3333333333333333,
             "#9c179e"
            ],
            [
             0.4444444444444444,
             "#bd3786"
            ],
            [
             0.5555555555555556,
             "#d8576b"
            ],
            [
             0.6666666666666666,
             "#ed7953"
            ],
            [
             0.7777777777777778,
             "#fb9f3a"
            ],
            [
             0.8888888888888888,
             "#fdca26"
            ],
            [
             1,
             "#f0f921"
            ]
           ],
           "sequentialminus": [
            [
             0,
             "#0d0887"
            ],
            [
             0.1111111111111111,
             "#46039f"
            ],
            [
             0.2222222222222222,
             "#7201a8"
            ],
            [
             0.3333333333333333,
             "#9c179e"
            ],
            [
             0.4444444444444444,
             "#bd3786"
            ],
            [
             0.5555555555555556,
             "#d8576b"
            ],
            [
             0.6666666666666666,
             "#ed7953"
            ],
            [
             0.7777777777777778,
             "#fb9f3a"
            ],
            [
             0.8888888888888888,
             "#fdca26"
            ],
            [
             1,
             "#f0f921"
            ]
           ]
          },
          "colorway": [
           "#636efa",
           "#EF553B",
           "#00cc96",
           "#ab63fa",
           "#FFA15A",
           "#19d3f3",
           "#FF6692",
           "#B6E880",
           "#FF97FF",
           "#FECB52"
          ],
          "font": {
           "color": "#2a3f5f"
          },
          "geo": {
           "bgcolor": "white",
           "lakecolor": "white",
           "landcolor": "#E5ECF6",
           "showlakes": true,
           "showland": true,
           "subunitcolor": "white"
          },
          "hoverlabel": {
           "align": "left"
          },
          "hovermode": "closest",
          "mapbox": {
           "style": "light"
          },
          "paper_bgcolor": "white",
          "plot_bgcolor": "#E5ECF6",
          "polar": {
           "angularaxis": {
            "gridcolor": "white",
            "linecolor": "white",
            "ticks": ""
           },
           "bgcolor": "#E5ECF6",
           "radialaxis": {
            "gridcolor": "white",
            "linecolor": "white",
            "ticks": ""
           }
          },
          "scene": {
           "xaxis": {
            "backgroundcolor": "#E5ECF6",
            "gridcolor": "white",
            "gridwidth": 2,
            "linecolor": "white",
            "showbackground": true,
            "ticks": "",
            "zerolinecolor": "white"
           },
           "yaxis": {
            "backgroundcolor": "#E5ECF6",
            "gridcolor": "white",
            "gridwidth": 2,
            "linecolor": "white",
            "showbackground": true,
            "ticks": "",
            "zerolinecolor": "white"
           },
           "zaxis": {
            "backgroundcolor": "#E5ECF6",
            "gridcolor": "white",
            "gridwidth": 2,
            "linecolor": "white",
            "showbackground": true,
            "ticks": "",
            "zerolinecolor": "white"
           }
          },
          "shapedefaults": {
           "line": {
            "color": "#2a3f5f"
           }
          },
          "ternary": {
           "aaxis": {
            "gridcolor": "white",
            "linecolor": "white",
            "ticks": ""
           },
           "baxis": {
            "gridcolor": "white",
            "linecolor": "white",
            "ticks": ""
           },
           "bgcolor": "#E5ECF6",
           "caxis": {
            "gridcolor": "white",
            "linecolor": "white",
            "ticks": ""
           }
          },
          "title": {
           "x": 0.05
          },
          "xaxis": {
           "automargin": true,
           "gridcolor": "white",
           "linecolor": "white",
           "ticks": "",
           "title": {
            "standoff": 15
           },
           "zerolinecolor": "white",
           "zerolinewidth": 2
          },
          "yaxis": {
           "automargin": true,
           "gridcolor": "white",
           "linecolor": "white",
           "ticks": "",
           "title": {
            "standoff": 15
           },
           "zerolinecolor": "white",
           "zerolinewidth": 2
          }
         }
        },
        "title": {
         "text": "MACs per layer - mobilenetv2_0.1_96_c1_o3_keras"
        },
        "xaxis": {
         "anchor": "y",
         "domain": [
          0,
          1
         ],
         "title": {
          "text": "name"
         }
        },
        "yaxis": {
         "anchor": "x",
         "domain": [
          0,
          1
         ],
         "title": {
          "text": "MACS"
         }
        }
       }
      },
      "text/html": [
       "<div>                            <div id=\"d91ab3a7-5078-45f9-b243-57d1df6c4fbd\" class=\"plotly-graph-div\" style=\"height:525px; width:100%;\"></div>            <script type=\"text/javascript\">                require([\"plotly\"], function(Plotly) {                    window.PLOTLYENV=window.PLOTLYENV || {};                                    if (document.getElementById(\"d91ab3a7-5078-45f9-b243-57d1df6c4fbd\")) {                    Plotly.newPlot(                        \"d91ab3a7-5078-45f9-b243-57d1df6c4fbd\",                        [{\"alignmentgroup\":\"True\",\"hovertemplate\":\"name=%{x}<br>MACS=%{y}<extra></extra>\",\"legendgroup\":\"\",\"marker\":{\"color\":\"#636efa\",\"pattern\":{\"shape\":\"\"}},\"name\":\"\",\"offsetgroup\":\"\",\"orientation\":\"v\",\"showlegend\":false,\"textposition\":\"auto\",\"x\":[\"input_1\",\"Conv1\",\"bn_Conv1\",\"Conv1_relu\",\"expanded_conv_depthwise\",\"expanded_conv_depthwise_BN\",\"expanded_conv_depthwise_relu\",\"expanded_conv_project\",\"expanded_conv_project_BN\",\"expanded_conv_add\",\"block_1_expand\",\"block_1_expand_BN\",\"block_1_expand_relu\",\"block_1_pad\",\"block_1_depthwise\",\"block_1_depthwise_BN\",\"block_1_depthwise_relu\",\"block_1_project\",\"block_1_project_BN\",\"block_2_expand\",\"block_2_expand_BN\",\"block_2_expand_relu\",\"block_2_depthwise\",\"block_2_depthwise_BN\",\"block_2_depthwise_relu\",\"block_2_project\",\"block_2_project_BN\",\"block_2_add\",\"block_3_expand\",\"block_3_expand_BN\",\"block_3_expand_relu\",\"block_3_pad\",\"block_3_depthwise\",\"block_3_depthwise_BN\",\"block_3_depthwise_relu\",\"block_3_project\",\"block_3_project_BN\",\"block_4_expand\",\"block_4_expand_BN\",\"block_4_expand_relu\",\"block_4_depthwise\",\"block_4_depthwise_BN\",\"block_4_depthwise_relu\",\"block_4_project\",\"block_4_project_BN\",\"block_4_add\",\"block_5_expand\",\"block_5_expand_BN\",\"block_5_expand_relu\",\"block_5_depthwise\",\"block_5_depthwise_BN\",\"block_5_depthwise_relu\",\"block_5_project\",\"block_5_project_BN\",\"block_5_add\",\"block_6_expand\",\"block_6_expand_BN\",\"block_6_expand_relu\",\"block_6_pad\",\"block_6_depthwise\",\"block_6_depthwise_BN\",\"block_6_depthwise_relu\",\"block_6_project\",\"block_6_project_BN\",\"block_7_expand\",\"block_7_expand_BN\",\"block_7_expand_relu\",\"block_7_depthwise\",\"block_7_depthwise_BN\",\"block_7_depthwise_relu\",\"block_7_project\",\"block_7_project_BN\",\"block_7_add\",\"block_8_expand\",\"block_8_expand_BN\",\"block_8_expand_relu\",\"block_8_depthwise\",\"block_8_depthwise_BN\",\"block_8_depthwise_relu\",\"block_8_project\",\"block_8_project_BN\",\"block_8_add\",\"block_9_expand\",\"block_9_expand_BN\",\"block_9_expand_relu\",\"block_9_depthwise\",\"block_9_depthwise_BN\",\"block_9_depthwise_relu\",\"block_9_project\",\"block_9_project_BN\",\"block_9_add\",\"block_10_expand\",\"block_10_expand_BN\",\"block_10_expand_relu\",\"block_10_depthwise\",\"block_10_depthwise_BN\",\"block_10_depthwise_relu\",\"block_10_project\",\"block_10_project_BN\",\"block_11_expand\",\"block_11_expand_BN\",\"block_11_expand_relu\",\"block_11_depthwise\",\"block_11_depthwise_BN\",\"block_11_depthwise_relu\",\"block_11_project\",\"block_11_project_BN\",\"block_11_add\",\"block_12_expand\",\"block_12_expand_BN\",\"block_12_expand_relu\",\"block_12_depthwise\",\"block_12_depthwise_BN\",\"block_12_depthwise_relu\",\"block_12_project\",\"block_12_project_BN\",\"block_12_add\",\"block_13_expand\",\"block_13_expand_BN\",\"block_13_expand_relu\",\"block_13_pad\",\"block_13_depthwise\",\"block_13_depthwise_BN\",\"block_13_depthwise_relu\",\"block_13_project\",\"block_13_project_BN\",\"block_14_expand\",\"block_14_expand_BN\",\"block_14_expand_relu\",\"block_14_depthwise\",\"block_14_depthwise_BN\",\"block_14_depthwise_relu\",\"block_14_project\",\"block_14_project_BN\",\"block_14_add\",\"block_15_expand\",\"block_15_expand_BN\",\"block_15_expand_relu\",\"block_15_depthwise\",\"block_15_depthwise_BN\",\"block_15_depthwise_relu\",\"block_15_project\",\"block_15_project_BN\",\"block_15_add\",\"block_16_expand\",\"block_16_expand_BN\",\"block_16_expand_relu\",\"block_16_depthwise\",\"block_16_depthwise_BN\",\"block_16_depthwise_relu\",\"block_16_project\",\"block_16_project_BN\",\"Conv_1\",\"Conv_1_bn\",\"out_relu\",\"global_average_pooling2d\",\"predictions\"],\"xaxis\":\"x\",\"y\":[0,165888,0,0,165888,0,0,147456,0,0,884736,0,0,0,248832,0,0,221184,0,221184,0,0,248832,0,0,221184,0,0,221184,0,0,0,62208,0,0,55296,0,55296,0,0,62208,0,0,55296,0,0,55296,0,0,62208,0,0,55296,0,0,55296,0,0,0,15552,0,0,13824,0,13824,0,0,15552,0,0,13824,0,0,13824,0,0,15552,0,0,13824,0,0,13824,0,0,15552,0,0,13824,0,0,13824,0,0,15552,0,0,27648,0,55296,0,0,31104,0,0,55296,0,0,55296,0,0,31104,0,0,55296,0,0,55296,0,0,0,7776,0,0,13824,0,13824,0,0,7776,0,0,13824,0,0,13824,0,0,7776,0,0,13824,0,0,13824,0,0,7776,0,0,27648,0,368640,0,0,0,0],\"yaxis\":\"y\",\"type\":\"bar\"}],                        {\"template\":{\"data\":{\"histogram2dcontour\":[{\"type\":\"histogram2dcontour\",\"colorbar\":{\"outlinewidth\":0,\"ticks\":\"\"},\"colorscale\":[[0.0,\"#0d0887\"],[0.1111111111111111,\"#46039f\"],[0.2222222222222222,\"#7201a8\"],[0.3333333333333333,\"#9c179e\"],[0.4444444444444444,\"#bd3786\"],[0.5555555555555556,\"#d8576b\"],[0.6666666666666666,\"#ed7953\"],[0.7777777777777778,\"#fb9f3a\"],[0.8888888888888888,\"#fdca26\"],[1.0,\"#f0f921\"]]}],\"choropleth\":[{\"type\":\"choropleth\",\"colorbar\":{\"outlinewidth\":0,\"ticks\":\"\"}}],\"histogram2d\":[{\"type\":\"histogram2d\",\"colorbar\":{\"outlinewidth\":0,\"ticks\":\"\"},\"colorscale\":[[0.0,\"#0d0887\"],[0.1111111111111111,\"#46039f\"],[0.2222222222222222,\"#7201a8\"],[0.3333333333333333,\"#9c179e\"],[0.4444444444444444,\"#bd3786\"],[0.5555555555555556,\"#d8576b\"],[0.6666666666666666,\"#ed7953\"],[0.7777777777777778,\"#fb9f3a\"],[0.8888888888888888,\"#fdca26\"],[1.0,\"#f0f921\"]]}],\"heatmap\":[{\"type\":\"heatmap\",\"colorbar\":{\"outlinewidth\":0,\"ticks\":\"\"},\"colorscale\":[[0.0,\"#0d0887\"],[0.1111111111111111,\"#46039f\"],[0.2222222222222222,\"#7201a8\"],[0.3333333333333333,\"#9c179e\"],[0.4444444444444444,\"#bd3786\"],[0.5555555555555556,\"#d8576b\"],[0.6666666666666666,\"#ed7953\"],[0.7777777777777778,\"#fb9f3a\"],[0.8888888888888888,\"#fdca26\"],[1.0,\"#f0f921\"]]}],\"heatmapgl\":[{\"type\":\"heatmapgl\",\"colorbar\":{\"outlinewidth\":0,\"ticks\":\"\"},\"colorscale\":[[0.0,\"#0d0887\"],[0.1111111111111111,\"#46039f\"],[0.2222222222222222,\"#7201a8\"],[0.3333333333333333,\"#9c179e\"],[0.4444444444444444,\"#bd3786\"],[0.5555555555555556,\"#d8576b\"],[0.6666666666666666,\"#ed7953\"],[0.7777777777777778,\"#fb9f3a\"],[0.8888888888888888,\"#fdca26\"],[1.0,\"#f0f921\"]]}],\"contourcarpet\":[{\"type\":\"contourcarpet\",\"colorbar\":{\"outlinewidth\":0,\"ticks\":\"\"}}],\"contour\":[{\"type\":\"contour\",\"colorbar\":{\"outlinewidth\":0,\"ticks\":\"\"},\"colorscale\":[[0.0,\"#0d0887\"],[0.1111111111111111,\"#46039f\"],[0.2222222222222222,\"#7201a8\"],[0.3333333333333333,\"#9c179e\"],[0.4444444444444444,\"#bd3786\"],[0.5555555555555556,\"#d8576b\"],[0.6666666666666666,\"#ed7953\"],[0.7777777777777778,\"#fb9f3a\"],[0.8888888888888888,\"#fdca26\"],[1.0,\"#f0f921\"]]}],\"surface\":[{\"type\":\"surface\",\"colorbar\":{\"outlinewidth\":0,\"ticks\":\"\"},\"colorscale\":[[0.0,\"#0d0887\"],[0.1111111111111111,\"#46039f\"],[0.2222222222222222,\"#7201a8\"],[0.3333333333333333,\"#9c179e\"],[0.4444444444444444,\"#bd3786\"],[0.5555555555555556,\"#d8576b\"],[0.6666666666666666,\"#ed7953\"],[0.7777777777777778,\"#fb9f3a\"],[0.8888888888888888,\"#fdca26\"],[1.0,\"#f0f921\"]]}],\"mesh3d\":[{\"type\":\"mesh3d\",\"colorbar\":{\"outlinewidth\":0,\"ticks\":\"\"}}],\"scatter\":[{\"fillpattern\":{\"fillmode\":\"overlay\",\"size\":10,\"solidity\":0.2},\"type\":\"scatter\"}],\"parcoords\":[{\"type\":\"parcoords\",\"line\":{\"colorbar\":{\"outlinewidth\":0,\"ticks\":\"\"}}}],\"scatterpolargl\":[{\"type\":\"scatterpolargl\",\"marker\":{\"colorbar\":{\"outlinewidth\":0,\"ticks\":\"\"}}}],\"bar\":[{\"error_x\":{\"color\":\"#2a3f5f\"},\"error_y\":{\"color\":\"#2a3f5f\"},\"marker\":{\"line\":{\"color\":\"#E5ECF6\",\"width\":0.5},\"pattern\":{\"fillmode\":\"overlay\",\"size\":10,\"solidity\":0.2}},\"type\":\"bar\"}],\"scattergeo\":[{\"type\":\"scattergeo\",\"marker\":{\"colorbar\":{\"outlinewidth\":0,\"ticks\":\"\"}}}],\"scatterpolar\":[{\"type\":\"scatterpolar\",\"marker\":{\"colorbar\":{\"outlinewidth\":0,\"ticks\":\"\"}}}],\"histogram\":[{\"marker\":{\"pattern\":{\"fillmode\":\"overlay\",\"size\":10,\"solidity\":0.2}},\"type\":\"histogram\"}],\"scattergl\":[{\"type\":\"scattergl\",\"marker\":{\"colorbar\":{\"outlinewidth\":0,\"ticks\":\"\"}}}],\"scatter3d\":[{\"type\":\"scatter3d\",\"line\":{\"colorbar\":{\"outlinewidth\":0,\"ticks\":\"\"}},\"marker\":{\"colorbar\":{\"outlinewidth\":0,\"ticks\":\"\"}}}],\"scattermapbox\":[{\"type\":\"scattermapbox\",\"marker\":{\"colorbar\":{\"outlinewidth\":0,\"ticks\":\"\"}}}],\"scatterternary\":[{\"type\":\"scatterternary\",\"marker\":{\"colorbar\":{\"outlinewidth\":0,\"ticks\":\"\"}}}],\"scattercarpet\":[{\"type\":\"scattercarpet\",\"marker\":{\"colorbar\":{\"outlinewidth\":0,\"ticks\":\"\"}}}],\"carpet\":[{\"aaxis\":{\"endlinecolor\":\"#2a3f5f\",\"gridcolor\":\"white\",\"linecolor\":\"white\",\"minorgridcolor\":\"white\",\"startlinecolor\":\"#2a3f5f\"},\"baxis\":{\"endlinecolor\":\"#2a3f5f\",\"gridcolor\":\"white\",\"linecolor\":\"white\",\"minorgridcolor\":\"white\",\"startlinecolor\":\"#2a3f5f\"},\"type\":\"carpet\"}],\"table\":[{\"cells\":{\"fill\":{\"color\":\"#EBF0F8\"},\"line\":{\"color\":\"white\"}},\"header\":{\"fill\":{\"color\":\"#C8D4E3\"},\"line\":{\"color\":\"white\"}},\"type\":\"table\"}],\"barpolar\":[{\"marker\":{\"line\":{\"color\":\"#E5ECF6\",\"width\":0.5},\"pattern\":{\"fillmode\":\"overlay\",\"size\":10,\"solidity\":0.2}},\"type\":\"barpolar\"}],\"pie\":[{\"automargin\":true,\"type\":\"pie\"}]},\"layout\":{\"autotypenumbers\":\"strict\",\"colorway\":[\"#636efa\",\"#EF553B\",\"#00cc96\",\"#ab63fa\",\"#FFA15A\",\"#19d3f3\",\"#FF6692\",\"#B6E880\",\"#FF97FF\",\"#FECB52\"],\"font\":{\"color\":\"#2a3f5f\"},\"hovermode\":\"closest\",\"hoverlabel\":{\"align\":\"left\"},\"paper_bgcolor\":\"white\",\"plot_bgcolor\":\"#E5ECF6\",\"polar\":{\"bgcolor\":\"#E5ECF6\",\"angularaxis\":{\"gridcolor\":\"white\",\"linecolor\":\"white\",\"ticks\":\"\"},\"radialaxis\":{\"gridcolor\":\"white\",\"linecolor\":\"white\",\"ticks\":\"\"}},\"ternary\":{\"bgcolor\":\"#E5ECF6\",\"aaxis\":{\"gridcolor\":\"white\",\"linecolor\":\"white\",\"ticks\":\"\"},\"baxis\":{\"gridcolor\":\"white\",\"linecolor\":\"white\",\"ticks\":\"\"},\"caxis\":{\"gridcolor\":\"white\",\"linecolor\":\"white\",\"ticks\":\"\"}},\"coloraxis\":{\"colorbar\":{\"outlinewidth\":0,\"ticks\":\"\"}},\"colorscale\":{\"sequential\":[[0.0,\"#0d0887\"],[0.1111111111111111,\"#46039f\"],[0.2222222222222222,\"#7201a8\"],[0.3333333333333333,\"#9c179e\"],[0.4444444444444444,\"#bd3786\"],[0.5555555555555556,\"#d8576b\"],[0.6666666666666666,\"#ed7953\"],[0.7777777777777778,\"#fb9f3a\"],[0.8888888888888888,\"#fdca26\"],[1.0,\"#f0f921\"]],\"sequentialminus\":[[0.0,\"#0d0887\"],[0.1111111111111111,\"#46039f\"],[0.2222222222222222,\"#7201a8\"],[0.3333333333333333,\"#9c179e\"],[0.4444444444444444,\"#bd3786\"],[0.5555555555555556,\"#d8576b\"],[0.6666666666666666,\"#ed7953\"],[0.7777777777777778,\"#fb9f3a\"],[0.8888888888888888,\"#fdca26\"],[1.0,\"#f0f921\"]],\"diverging\":[[0,\"#8e0152\"],[0.1,\"#c51b7d\"],[0.2,\"#de77ae\"],[0.3,\"#f1b6da\"],[0.4,\"#fde0ef\"],[0.5,\"#f7f7f7\"],[0.6,\"#e6f5d0\"],[0.7,\"#b8e186\"],[0.8,\"#7fbc41\"],[0.9,\"#4d9221\"],[1,\"#276419\"]]},\"xaxis\":{\"gridcolor\":\"white\",\"linecolor\":\"white\",\"ticks\":\"\",\"title\":{\"standoff\":15},\"zerolinecolor\":\"white\",\"automargin\":true,\"zerolinewidth\":2},\"yaxis\":{\"gridcolor\":\"white\",\"linecolor\":\"white\",\"ticks\":\"\",\"title\":{\"standoff\":15},\"zerolinecolor\":\"white\",\"automargin\":true,\"zerolinewidth\":2},\"scene\":{\"xaxis\":{\"backgroundcolor\":\"#E5ECF6\",\"gridcolor\":\"white\",\"linecolor\":\"white\",\"showbackground\":true,\"ticks\":\"\",\"zerolinecolor\":\"white\",\"gridwidth\":2},\"yaxis\":{\"backgroundcolor\":\"#E5ECF6\",\"gridcolor\":\"white\",\"linecolor\":\"white\",\"showbackground\":true,\"ticks\":\"\",\"zerolinecolor\":\"white\",\"gridwidth\":2},\"zaxis\":{\"backgroundcolor\":\"#E5ECF6\",\"gridcolor\":\"white\",\"linecolor\":\"white\",\"showbackground\":true,\"ticks\":\"\",\"zerolinecolor\":\"white\",\"gridwidth\":2}},\"shapedefaults\":{\"line\":{\"color\":\"#2a3f5f\"}},\"annotationdefaults\":{\"arrowcolor\":\"#2a3f5f\",\"arrowhead\":0,\"arrowwidth\":1},\"geo\":{\"bgcolor\":\"white\",\"landcolor\":\"#E5ECF6\",\"subunitcolor\":\"white\",\"showland\":true,\"showlakes\":true,\"lakecolor\":\"white\"},\"title\":{\"x\":0.05},\"mapbox\":{\"style\":\"light\"}}},\"xaxis\":{\"anchor\":\"y\",\"domain\":[0.0,1.0],\"title\":{\"text\":\"name\"}},\"yaxis\":{\"anchor\":\"x\",\"domain\":[0.0,1.0],\"title\":{\"text\":\"MACS\"}},\"legend\":{\"tracegroupgap\":0},\"title\":{\"text\":\"MACs per layer - mobilenetv2_0.1_96_c1_o3_keras\"},\"barmode\":\"relative\"},                        {\"responsive\": true}                    ).then(function(){\n",
       "                            \n",
       "var gd = document.getElementById('d91ab3a7-5078-45f9-b243-57d1df6c4fbd');\n",
       "var x = new MutationObserver(function (mutations, observer) {{\n",
       "        var display = window.getComputedStyle(gd).display;\n",
       "        if (!display || display === 'none') {{\n",
       "            console.log([gd, 'removed!']);\n",
       "            Plotly.purge(gd);\n",
       "            observer.disconnect();\n",
       "        }}\n",
       "}});\n",
       "\n",
       "// Listen for the removal of the full notebook cells\n",
       "var notebookContainer = gd.closest('#notebook-container');\n",
       "if (notebookContainer) {{\n",
       "    x.observe(notebookContainer, {childList: true});\n",
       "}}\n",
       "\n",
       "// Listen for the clearing of the current output cell\n",
       "var outputEl = gd.closest('.output');\n",
       "if (outputEl) {{\n",
       "    x.observe(outputEl, {childList: true});\n",
       "}}\n",
       "\n",
       "                        })                };                });            </script>        </div>"
      ]
     },
     "metadata": {},
     "output_type": "display_data"
    }
   ],
   "source": [
    "fig6 = px.bar(df, x=\"name\", y= \"MACS\",\n",
    "    title=f\"MACs per layer - {model_name}\")\n",
    "#fig.add_hline(y=256000, line_width=3, line_dash=\"dash\", line_color=\"orange\", annotation_text=\"256 kB MCU constraint\", \n",
    "#              annotation_position=\"bottom right\")\n",
    "#fig.update_layout(showlegend=True)\n",
    "fig6.show()"
   ]
  },
  {
   "cell_type": "code",
   "execution_count": 75,
   "metadata": {},
   "outputs": [],
   "source": [
    "# # Generate run ids\n",
    "# id = wandb.util.generate_id()\n",
    "\n",
    "# PROJECT = model_name.split(\"_\")[0]\n",
    "\n",
    "# run = wandb.init(\n",
    "#         # Set the project where this run will be logged\n",
    "#         project=PROJECT, \n",
    "#         name = model_name,\n",
    "#         id = id, \n",
    "#         resume=\"allow\",\n",
    "#         sync_tensorboard=True\n",
    "#         )\n",
    "# # Specify the configuration variables\n",
    "# config = wandb.config\n",
    "\n",
    "# #config.batch_size = BATCH_SIZE\n",
    "# #config.dropout =DROPOUT\n",
    "# #config.learn_rate = LR\n",
    "# #config.momentum = MOMENTUM\n",
    "# #config.decay = 1e-6\n",
    "# #config.epochs = EPOCHS\n",
    "# #config.classes = classes\n",
    "# config.id = id\n",
    "# config.architecture = model_name\n",
    "\n",
    "# # Create a table\n",
    "# table = wandb.Table(columns = [\"plotly_figure\"])\n",
    "\n",
    "# # Create path for Plotly figure\n",
    "# path_to_plotly_html = \"./plotly_figure.html\"\n",
    "\n",
    "# # Write Plotly figure to HTML\n",
    "# fig.write_html(path_to_plotly_html, auto_play = False) # Setting auto_play to False prevents animated Plotly charts from playing in the table automatically\n",
    "\n",
    "# # Add Plotly figure as HTML file into Table\n",
    "# table.add_data(wandb.Html(path_to_plotly_html))\n",
    "\n",
    "# # Log Table\n",
    "# run.log({\"Chart_table\": table})\n",
    "\n",
    "# #wandb.log({\"Peak activations chart\": fig})\n",
    "\n",
    "# wandb.finish()"
   ]
  },
  {
   "cell_type": "code",
   "execution_count": null,
   "metadata": {},
   "outputs": [],
   "source": []
  }
 ],
 "metadata": {
  "kernelspec": {
   "display_name": "tiny_cnn_5",
   "language": "python",
   "name": "python3"
  },
  "language_info": {
   "codemirror_mode": {
    "name": "ipython",
    "version": 3
   },
   "file_extension": ".py",
   "mimetype": "text/x-python",
   "name": "python",
   "nbconvert_exporter": "python",
   "pygments_lexer": "ipython3",
   "version": "3.10.6"
  },
  "toc": {
   "base_numbering": 1,
   "nav_menu": {},
   "number_sections": true,
   "sideBar": true,
   "skip_h1_title": false,
   "title_cell": "Table of Contents",
   "title_sidebar": "Contents",
   "toc_cell": false,
   "toc_position": {},
   "toc_section_display": true,
   "toc_window_display": false
  },
  "vscode": {
   "interpreter": {
    "hash": "4b362e3f7439b35b0bc0fa2e0c3a5b3cc0154c779cd4216b658aa3553d61d067"
   }
  }
 },
 "nbformat": 4,
 "nbformat_minor": 2
}
