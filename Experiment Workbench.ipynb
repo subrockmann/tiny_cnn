{
 "cells": [
  {
   "cell_type": "markdown",
   "metadata": {},
   "source": [
    "# Experiment Workbench"
   ]
  },
  {
   "cell_type": "code",
   "execution_count": 1,
   "metadata": {},
   "outputs": [],
   "source": [
    "import os, sys, math, datetime\n",
    "import pathlib\n",
    "from pathlib import Path\n",
    "import numpy as np\n",
    "import random\n",
    "from matplotlib import pyplot as plt\n",
    "import PIL\n",
    "import PIL.Image\n",
    "import seaborn as sns\n",
    "\n",
    "import tensorflow as tf\n",
    "import tensorflow_datasets as tfds\n",
    "from tensorflow import keras\n",
    "from tensorflow.keras.layers import Input, Dense, Flatten, Conv2D,DepthwiseConv2D, MaxPooling2D, AvgPool2D, GlobalAveragePooling2D, BatchNormalization, Concatenate\n",
    "from tensorflow.keras.layers import ReLU\n",
    "from tensorflow.keras.models import Model\n",
    "from tensorflow.keras.callbacks import ModelCheckpoint, EarlyStopping, LearningRateScheduler\n",
    " \n",
    "# Import the necessary MLTK APIs\n",
    "from mltk.core import view_model, summarize_model, profile_model\n",
    "\n",
    "# import workbench.config.config\n",
    "from workbench.config.config import initialize\n",
    "from workbench.utils.utils import create_filepaths\n",
    "from workbench.utils.utils import parse_model_name\n",
    "\n",
    "#from dotenv import load_dotenv\n",
    "import wandb\n",
    "from wandb.keras import WandbMetricsLogger, WandbModelCheckpoint\n",
    "#import deeplake\n"
   ]
  },
  {
   "cell_type": "code",
   "execution_count": 2,
   "metadata": {},
   "outputs": [
    {
     "name": "stdout",
     "output_type": "stream",
     "text": [
      "Tensorflow version 2.10.0\n",
      "Found GPU at: /device:GPU:0\n"
     ]
    }
   ],
   "source": [
    "print(\"Tensorflow version \" + tf.__version__)\n",
    "AUTOTUNE = tf.data.AUTOTUNE\n",
    "\n",
    "# Confirm that TensorFlow can access GPU\n",
    "device_name = tf.test.gpu_device_name()\n",
    "if not device_name:\n",
    "  raise SystemError('GPU device not found')\n",
    "print('Found GPU at: {}'.format(device_name))"
   ]
  },
  {
   "cell_type": "code",
   "execution_count": 3,
   "metadata": {},
   "outputs": [],
   "source": [
    "# TODO:\n",
    "\n",
    "# Add learning rate schedule\n",
    "\n",
    "# tf.compat.v1.disable_eager_execution()"
   ]
  },
  {
   "cell_type": "code",
   "execution_count": 4,
   "metadata": {},
   "outputs": [],
   "source": [
    "# DANGER ZONE: Disable warning messages\n",
    "\n",
    "import absl.logging\n",
    "absl.logging.set_verbosity(absl.logging.ERROR)"
   ]
  },
  {
   "cell_type": "code",
   "execution_count": 5,
   "metadata": {},
   "outputs": [],
   "source": [
    "\n",
    "\n",
    "# set the random seeds\n",
    "os.environ[\"TF_CUDNN_DETERMINISTIC\"]= \"1\"\n",
    "random.seed(hash(\"setting_random seeds\") % 2**32 -1)\n",
    "np.random.seed(hash(\"improves reproducibility\") % 2**32 -1)\n",
    "tf.random.set_seed(hash(\"by removing stochasticity\") %2 *32 -1 )"
   ]
  },
  {
   "cell_type": "code",
   "execution_count": 6,
   "metadata": {},
   "outputs": [],
   "source": [
    "models_dir = initialize()"
   ]
  },
  {
   "cell_type": "markdown",
   "metadata": {},
   "source": [
    "# Get the model"
   ]
  },
  {
   "cell_type": "code",
   "execution_count": 7,
   "metadata": {
    "tags": [
     "parameters"
    ]
   },
   "outputs": [],
   "source": [
    "global model_name\n",
    "#model_name = \"efficientNetB0_1_96_c3_o3_keras\"\n",
    "model_name = \"mobilenetv1_0.1_96_c3_o3_keras\"\n",
    "#model_name = \"shufflenetv1_0.1_96_c3_o3_g1\"\n",
    "#model_name = \"MobilenetV3small_1_96_c3_o3_keras\"#, \"MobilenetV3large_1_224_c3_o3_keras\"# ,\n"
   ]
  },
  {
   "cell_type": "code",
   "execution_count": 8,
   "metadata": {},
   "outputs": [
    {
     "name": "stdout",
     "output_type": "stream",
     "text": [
      "i:\\tinyml\\tiny_cnn\\models\n"
     ]
    }
   ],
   "source": [
    "models_path, models_summary_path, models_image_path, models_layer_df_path, models_tf_path, models_tflite_path, models_tflite_opt_path = create_filepaths(model_name)"
   ]
  },
  {
   "cell_type": "code",
   "execution_count": 9,
   "metadata": {},
   "outputs": [],
   "source": [
    "model = keras.models.load_model(models_tf_path)"
   ]
  },
  {
   "cell_type": "code",
   "execution_count": 10,
   "metadata": {},
   "outputs": [],
   "source": [
    "global base_model_name\n",
    "global alpha\n",
    "global resolution\n",
    "global channels\n",
    "global classes\n",
    "global variation\n",
    "global early_stopping_patience"
   ]
  },
  {
   "cell_type": "code",
   "execution_count": 11,
   "metadata": {},
   "outputs": [],
   "source": [
    "base_model_name, alpha, resolution, channels, classes, variation = model_name.split(\"_\")"
   ]
  },
  {
   "cell_type": "code",
   "execution_count": 12,
   "metadata": {},
   "outputs": [],
   "source": [
    "alpha = float(alpha)\n",
    "resolution = int(resolution)\n",
    "classes = int(classes.strip(\"o\"))"
   ]
  },
  {
   "cell_type": "code",
   "execution_count": 13,
   "metadata": {},
   "outputs": [],
   "source": [
    "# Start a Tensorboard session\n",
    "%load_ext tensorboard"
   ]
  },
  {
   "cell_type": "code",
   "execution_count": 14,
   "metadata": {
    "tags": [
     "parameters"
    ]
   },
   "outputs": [],
   "source": [
    "#os.environ['WANDB_NOTEBOOK_NAME'] = 'Experiment Workbench'\n",
    "\n",
    "IMG_HEIGHT = resolution\n",
    "IMG_WIDTH = resolution\n",
    "BATCH_SIZE = 32\n",
    "EPOCHS = 30\n",
    "#LOGGING_STEPS = 64\n",
    "MOMENTUM = 0.9\n",
    "LR = 0.01\n",
    "DROPOUT = 0.2\n",
    "early_stopping_patience = 30\n",
    "\n",
    "PROJECT = base_model_name\n",
    "#PROJECT = \"tiny_cnn troubleshooting\"\n",
    "SEED = 42\n",
    "tf.random.set_seed(SEED) # global seed for tensorflow random parts, like dropout\n",
    "shuffle_seed = 42"
   ]
  },
  {
   "cell_type": "markdown",
   "metadata": {},
   "source": [
    "# Prepare the Lemon Quality Dataset"
   ]
  },
  {
   "cell_type": "code",
   "execution_count": 15,
   "metadata": {},
   "outputs": [
    {
     "data": {
      "text/plain": [
       "True"
      ]
     },
     "execution_count": 15,
     "metadata": {},
     "output_type": "execute_result"
    }
   ],
   "source": [
    "dataset_path = Path.cwd().joinpath(\"datasets\", \"lemon_dataset\")\n",
    "dataset_path.exists()"
   ]
  },
  {
   "cell_type": "code",
   "execution_count": 16,
   "metadata": {},
   "outputs": [
    {
     "data": {
      "text/plain": [
       "WindowsPath('i:/tinyml/tiny_cnn/datasets/lemon_dataset')"
      ]
     },
     "execution_count": 16,
     "metadata": {},
     "output_type": "execute_result"
    }
   ],
   "source": [
    "dataset_path"
   ]
  },
  {
   "cell_type": "code",
   "execution_count": 143,
   "metadata": {},
   "outputs": [],
   "source": [
    "def get_lemon_quality_dataset(dataset_path, img_width, img_height, batch_size, channels, normalize=True):\n",
    "    \"\"\" Fetches the lemon quality dataset and prints dataset info. It normalizes the image data to range [0,1] by default.\n",
    "\n",
    "    Args: \n",
    "        dataset_path (Path): the file location of the dataset. Subfolders \"train\", \"test\", and \"val\" are expected.\n",
    "        normalize (boolean): Normalizes the image data to range [0, 1]. Default: True\n",
    "\n",
    "    Returns:\n",
    "        (train_ds, val_ds, test_ds, class_names) (tuple(tf.datasets)): Tensorflow datasets for train, validation and test.\n",
    "    \n",
    "    \"\"\"\n",
    "    if dataset_path.exists():\n",
    "        try:\n",
    "            train_dir = dataset_path.joinpath(\"train\")\n",
    "            val_dir = dataset_path.joinpath( \"val\")\n",
    "            test_dir = dataset_path.joinpath( \"test\")\n",
    "        except:\n",
    "            print(f\"Please check the folder structure of {dataset_path}.\")\n",
    "            raise\n",
    "\n",
    "    channels = int(channels.strip(\"c\"))\n",
    "    if channels==1:\n",
    "        color_mode = \"grayscale\"\n",
    "    else:\n",
    "        color_mode = \"rgb\" \n",
    "    print(f\"Color mode: {color_mode}\")\n",
    "\n",
    "    # create the labels list to avoid inclusion of .ipynb checkpoints\n",
    "    #labels = [\"bad_quality\", \"empty_background\", \"good_quality\"]\n",
    "\n",
    "    print(\"Preparing training dataset...\")        \n",
    "    train_ds = tf.keras.utils.image_dataset_from_directory(\n",
    "        train_dir,\n",
    "        subset=None,\n",
    "        seed=shuffle_seed,\n",
    "        image_size=((img_height, img_width)),\n",
    "        #labels=labels,\n",
    "        batch_size=batch_size,\n",
    "        #color_mode=color_mode,\n",
    "        shuffle=True\n",
    "        )\n",
    "    \n",
    "\n",
    "    class_names = train_ds.class_names\n",
    "\n",
    "\n",
    "    print(\"Preparing validation dataset...\")    \n",
    "    val_ds = tf.keras.utils.image_dataset_from_directory(\n",
    "        val_dir,\n",
    "        subset=None,\n",
    "        seed=shuffle_seed,\n",
    "        image_size=(img_height, img_width),\n",
    "        batch_size=batch_size,\n",
    "        #color_mode=color_mode,\n",
    "        shuffle=True\n",
    "        )\n",
    "    \n",
    "\n",
    "    print(\"Preparing test dataset...\")    \n",
    "    test_ds = tf.keras.utils.image_dataset_from_directory(\n",
    "        test_dir,\n",
    "        subset=None,\n",
    "        seed=shuffle_seed,\n",
    "        image_size=(img_height, img_width),\n",
    "        batch_size=1,\n",
    "        #color_mode=color_mode,\n",
    "        shuffle=False\n",
    "        )\n",
    "    \n",
    "    # Create a data augmentation stage with horizontal flipping, rotations, zooms\n",
    "    data_augmentation = keras.Sequential(\n",
    "        [\n",
    "            tf.keras.layers.RandomFlip(\"horizontal\"),\n",
    "            tf.keras.layers.RandomRotation(0.1),\n",
    "            tf.keras.layers.RandomZoom(0.1),\n",
    "        ]\n",
    "        )\n",
    "\n",
    "    #train_ds= train_ds.map(lambda x, y: (data_augmentation(x), y), num_parallel_calls=tf.data.AUTOTUNE )\n",
    "\n",
    "    \n",
    "    # Normalize the data to the range [0, 1]\n",
    "    if normalize:\n",
    "        normalization_layer = tf.keras.layers.Rescaling(1./255, offset=-1)\n",
    "\n",
    "        train_ds= train_ds.map(lambda x, y: (normalization_layer(x), y), num_parallel_calls=tf.data.AUTOTUNE)\n",
    "        val_ds= val_ds.map(lambda x, y: (normalization_layer(x), y), num_parallel_calls=tf.data.AUTOTUNE)\n",
    "        test_ds= test_ds.map(lambda x, y: (normalization_layer(x), y)) #, num_parallel_calls=tf.data.AUTOTUNE)\n",
    "    else:\n",
    "        pass\n",
    "\n",
    "    print (f\"Class names: {class_names}\")\n",
    "    print(f\"Train: {train_ds.element_spec}\")\n",
    "    print(f\"Normalize: {normalize}\")\n",
    "    return (train_ds, val_ds, test_ds, class_names)"
   ]
  },
  {
   "cell_type": "code",
   "execution_count": 144,
   "metadata": {},
   "outputs": [
    {
     "data": {
      "text/plain": [
       "'c3'"
      ]
     },
     "execution_count": 144,
     "metadata": {},
     "output_type": "execute_result"
    }
   ],
   "source": [
    "channels"
   ]
  },
  {
   "cell_type": "code",
   "execution_count": 146,
   "metadata": {},
   "outputs": [
    {
     "name": "stdout",
     "output_type": "stream",
     "text": [
      "Color mode: rgb\n",
      "Preparing training dataset...\n",
      "Found 2021 files belonging to 3 classes.\n",
      "Preparing validation dataset...\n",
      "Found 252 files belonging to 3 classes.\n",
      "Preparing test dataset...\n",
      "Found 255 files belonging to 3 classes.\n",
      "Class names: ['bad_quality', 'empty_background', 'good_quality']\n",
      "Train: (TensorSpec(shape=(None, 96, 96, 3), dtype=tf.float32, name=None), TensorSpec(shape=(None,), dtype=tf.int32, name=None))\n",
      "Normalize: True\n"
     ]
    }
   ],
   "source": [
    "train_ds, val_ds, test_ds, labels = get_lemon_quality_dataset(dataset_path, IMG_WIDTH, IMG_HEIGHT, BATCH_SIZE, channels)"
   ]
  },
  {
   "cell_type": "code",
   "execution_count": 148,
   "metadata": {},
   "outputs": [
    {
     "data": {
      "text/plain": [
       "(TensorSpec(shape=(None, 96, 96, 3), dtype=tf.float32, name=None),\n",
       " TensorSpec(shape=(None,), dtype=tf.int32, name=None))"
      ]
     },
     "execution_count": 148,
     "metadata": {},
     "output_type": "execute_result"
    }
   ],
   "source": [
    "test_ds.element_spec"
   ]
  },
  {
   "cell_type": "code",
   "execution_count": 139,
   "metadata": {},
   "outputs": [
    {
     "name": "stdout",
     "output_type": "stream",
     "text": [
      "['bad_quality', 'empty_background', 'good_quality']\n"
     ]
    },
    {
     "data": {
      "image/png": "[encoded data removed]",
      "text/plain": [
       "<Figure size 1000x1000 with 9 Axes>"
      ]
     },
     "metadata": {},
     "output_type": "display_data"
    }
   ],
   "source": [
    "class_names = labels\n",
    "print(class_names)\n",
    "\n",
    "plt.figure(figsize=(10, 10))\n",
    "for images, labels in train_ds.take(1):\n",
    "  for i in range(9):\n",
    "    ax = plt.subplot(3, 3, i + 1)\n",
    "    plt.imshow(images[i].numpy().astype(\"uint8\"))\n",
    "    plt.title(class_names[labels[i]])\n",
    "    plt.axis(\"off\")"
   ]
  },
  {
   "cell_type": "code",
   "execution_count": 140,
   "metadata": {},
   "outputs": [
    {
     "data": {
      "text/plain": [
       "<ParallelMapDataset element_spec=(TensorSpec(shape=(None, 96, 96, 3), dtype=tf.float32, name=None), TensorSpec(shape=(None,), dtype=tf.int32, name=None))>"
      ]
     },
     "execution_count": 140,
     "metadata": {},
     "output_type": "execute_result"
    }
   ],
   "source": [
    "train_ds"
   ]
  },
  {
   "cell_type": "code",
   "execution_count": 141,
   "metadata": {},
   "outputs": [
    {
     "data": {
      "text/plain": [
       "<MapDataset element_spec=(TensorSpec(shape=(None, 96, 96, 3), dtype=tf.float32, name=None), TensorSpec(shape=(None,), dtype=tf.int32, name=None))>"
      ]
     },
     "execution_count": 141,
     "metadata": {},
     "output_type": "execute_result"
    }
   ],
   "source": [
    "test_ds"
   ]
  },
  {
   "cell_type": "code",
   "execution_count": 142,
   "metadata": {},
   "outputs": [
    {
     "name": "stdout",
     "output_type": "stream",
     "text": [
      "(32, 96, 96, 3)\n",
      "(32,)\n",
      "tf.Tensor([0 2 1 0 0 2 0 0 2 0 2 0 0 1 0 1 2 0 0 0 2 1 0 2 1 0 1 0 2 2 0 0], shape=(32,), dtype=int32)\n"
     ]
    }
   ],
   "source": [
    "for image_batch, labels_batch in train_ds:\n",
    "    print(image_batch.shape)\n",
    "    print(labels_batch.shape)\n",
    "    print(labels_batch)\n",
    "    break"
   ]
  },
  {
   "cell_type": "code",
   "execution_count": 65,
   "metadata": {},
   "outputs": [],
   "source": [
    "# classes = len(labels)\n",
    "# print(f\"The dataset contains {classes } classes.\")"
   ]
  },
  {
   "cell_type": "markdown",
   "metadata": {},
   "source": [
    "# Define the model"
   ]
  },
  {
   "cell_type": "code",
   "execution_count": 66,
   "metadata": {},
   "outputs": [],
   "source": [
    "logdir = os.path.join(\"logs\", model_name, datetime.datetime.now().strftime(\"%Y%m%d-%H%M%S\"))\n",
    "root_logdir = os.getcwd()"
   ]
  },
  {
   "cell_type": "code",
   "execution_count": 67,
   "metadata": {},
   "outputs": [],
   "source": [
    "#wandb.__version__"
   ]
  },
  {
   "cell_type": "code",
   "execution_count": 68,
   "metadata": {},
   "outputs": [],
   "source": [
    "tf.keras.backend.clear_session()\n",
    "\n",
    "# optimize the data flow\n",
    "AUTOTUNE = tf.data.AUTOTUNE\n",
    "#train_ds = train_ds.cache().prefetch(AUTOTUNE)\n",
    "train_ds = train_ds.prefetch(AUTOTUNE)\n",
    "val_ds = val_ds.cache().prefetch(AUTOTUNE)"
   ]
  },
  {
   "cell_type": "code",
   "execution_count": 69,
   "metadata": {},
   "outputs": [],
   "source": [
    "#api = wandb.Api()\n",
    "api = wandb.Api(timeout=19)"
   ]
  },
  {
   "cell_type": "code",
   "execution_count": 70,
   "metadata": {},
   "outputs": [],
   "source": [
    "# code taken from https://www.tensorflow.org/guide/keras/custom_callback#examples_of_keras_callback_applications\n",
    "\n",
    "class EarlyStoppingAtMinLoss(keras.callbacks.Callback):\n",
    "    \"\"\"Stop training when the loss is at its min, i.e. the loss stops decreasing.\n",
    "\n",
    "  Arguments:\n",
    "      patience: Number of epochs to wait after min has been hit. After this\n",
    "      number of no improvement, training stops.\n",
    "  \"\"\"\n",
    "\n",
    "    def __init__(self, patience=0):\n",
    "        super(EarlyStoppingAtMinLoss, self).__init__()\n",
    "        self.patience = patience\n",
    "        # best_weights to store the weights at which the minimum loss occurs.\n",
    "        self.best_weights = None\n",
    "\n",
    "    def on_train_begin(self, logs=None):\n",
    "        # The number of epoch it has waited when loss is no longer minimum.\n",
    "        self.wait = 0\n",
    "        # The epoch the training stops at.\n",
    "        self.stopped_epoch = 0\n",
    "        # Initialize the best as infinity.\n",
    "        self.best = np.Inf\n",
    "\n",
    "    def on_epoch_end(self, epoch, logs=None):\n",
    "        current = logs.get(\"loss\")\n",
    "        if np.less(current, self.best):\n",
    "            self.best = current\n",
    "            self.wait = 0\n",
    "            # Record the best weights if current results is better (less).\n",
    "            self.best_weights = self.model.get_weights()\n",
    "        else:\n",
    "            self.wait += 1\n",
    "            if self.wait >= self.patience:\n",
    "                self.stopped_epoch = epoch\n",
    "                self.model.stop_training = True\n",
    "                print(\"Restoring model weights from the end of the best epoch.\")\n",
    "                self.model.set_weights(self.best_weights)\n",
    "\n",
    "    def on_train_end(self, logs=None):\n",
    "        if self.stopped_epoch > 0:\n",
    "            print(\"Epoch %05d: early stopping\" % (self.stopped_epoch + 1))\n"
   ]
  },
  {
   "cell_type": "code",
   "execution_count": 71,
   "metadata": {},
   "outputs": [],
   "source": [
    "class EarlyStoppingAtMaxValAccuracy(keras.callbacks.Callback):\n",
    "    \"\"\"Stop training when the loss is at its min, i.e. the loss stops decreasing.\n",
    "\n",
    "  Arguments:\n",
    "      patience: Number of epochs to wait after max has been hit. After this\n",
    "      number of no improvement, training stops.\n",
    "  \"\"\"\n",
    "\n",
    "    def __init__(self, patience=30):\n",
    "        super(EarlyStoppingAtMaxValAccuracy, self).__init__()\n",
    "        self.patience = patience\n",
    "        # best_weights to store the weights at which the minimum loss occurs.\n",
    "        self.best_weights = None\n",
    "\n",
    "    def on_train_begin(self, logs=None):\n",
    "        # The number of epoch it has waited when loss is no longer minimum.\n",
    "        self.wait = 0\n",
    "        # The epoch the training stops at.\n",
    "        self.stopped_epoch = 0\n",
    "        # Initialize the best as infinity.\n",
    "        self.best = 0\n",
    "        self.best_epoch = 0\n",
    "        self.best_epoch_loss = np.Infinity\n",
    "\n",
    "    def on_epoch_end(self, epoch, logs=None):\n",
    "        current = logs.get(\"val_accuracy\")\n",
    "        if np.greater(current, self.best):\n",
    "            self.best = current\n",
    "            self.best_epoch = epoch\n",
    "            self.best_epoch_loss = logs.get(\"val_loss\")\n",
    "            self.wait = 0\n",
    "            # Record the best weights if current results is better (less).\n",
    "            self.best_weights = self.model.get_weights()\n",
    "        else:\n",
    "            self.wait += 1\n",
    "            if self.wait >= self.patience:\n",
    "                self.stopped_epoch = epoch\n",
    "                self.model.stop_training = True\n",
    "                print(\"Restoring model weights from the end of the best epoch.\")\n",
    "                self.model.set_weights(self.best_weights)\n",
    "\n",
    "        metrics = dict()\n",
    "        metrics[\"best_epoch\"] = self.best_epoch\n",
    "        metrics[\"best_val_accuracy\"] = self.best\n",
    "        metrics[\"best_epoch_loss\"] = self.best_epoch_loss\n",
    "\n",
    "        wandb.log(metrics)\n",
    "\n",
    "\n",
    "\n",
    "    def on_train_end(self, logs=None):\n",
    "        if self.stopped_epoch > 0:\n",
    "            print(\"Epoch %05d: early stopping\" % (self.stopped_epoch + 1))\n",
    "        \n"
   ]
  },
  {
   "cell_type": "code",
   "execution_count": 72,
   "metadata": {},
   "outputs": [],
   "source": [
    "os.environ[\"WANDB_MODE\"] = \"online\"\n",
    "#os.environ[\"WANDB_MODE\"] = \"offline\"\n",
    "def train_model_wandb(model):\n",
    "\n",
    "        # solve issue from: https://github.com/wandb/wandb/issues/3536\n",
    "        if len(wandb.patched[\"tensorboard\"]) > 0:\n",
    "                wandb.tensorboard.unpatch()\n",
    "                \n",
    "        # Configure Tensorboard root log directory to read the debugging information\n",
    "        wandb.tensorboard.patch(root_logdir=root_logdir)\n",
    "        # wandb.tensorboard.patch(root_logdir=\"wandb.run.dir\")\n",
    "        \n",
    "        # Generate run ids\n",
    "        id = wandb.util.generate_id()\n",
    "\n",
    "        run = wandb.init(\n",
    "                # Set the project where this run will be logged\n",
    "                project=PROJECT, \n",
    "                id = id, \n",
    "                resume=\"allow\",\n",
    "                sync_tensorboard=True\n",
    "                )\n",
    "\n",
    "        # Specify the configuration variables\n",
    "        config = wandb.config\n",
    "        \n",
    "        config.batch_size = BATCH_SIZE\n",
    "        #config.dropout =DROPOUT\n",
    "        config.learn_rate = LR\n",
    "        config.momentum = MOMENTUM\n",
    "        #config.decay = 1e-6\n",
    "        config.epochs = EPOCHS\n",
    "        config.classes = classes\n",
    "        config.id = id\n",
    "        config.architecture = model_name\n",
    "        \n",
    "\n",
    "        # enable Tensorflow Debugging\n",
    "        #tf.debugging.experimental.enable_dump_debug_info(\"./logs/debug\", \n",
    "        #        tensor_debug_mode=\"FULL_HEALTH\", circular_buffer_size=-1)\n",
    "\n",
    "        optimizer = tf.keras.optimizers.SGD(learning_rate=LR, momentum=MOMENTUM)\n",
    "        config.optimizer = optimizer._name\n",
    "\n",
    "        model.compile(optimizer=optimizer,\n",
    "                        loss='sparse_categorical_crossentropy',\n",
    "                        metrics=['accuracy'])\n",
    "\n",
    "        logdir = os.path.join(\"logs\", datetime.datetime.now().strftime(\"%Y%m%d-%H%M%S\"))\n",
    "        tensorboard_callback = tf.keras.callbacks.TensorBoard(log_dir= wandb.run.dir, histogram_freq=10, update_freq=\"epoch\") #, profile_batch=\"10, 20\")\n",
    "        #tensorboard_callback = tf.keras.callbacks.TensorBoard(log_dir= logdir, histogram_freq=1)\n",
    "        #wandb_callback = WandbCallback()# input_type=\"image\", labels=labels) #, validation_data = val_ds.as_numpy_iterator())\n",
    "\n",
    "        def lr_schedule(epoch):\n",
    "                \"\"\"\n",
    "                Returns a custom learning rate that decreases as epochs progress.\n",
    "                \"\"\"\n",
    "                learning_rate = LR\n",
    "                if epoch > 20:\n",
    "                        learning_rate = 0.0001\n",
    "                tf.summary.scalar('learning rate', data=learning_rate, step=epoch)\n",
    "                return learning_rate\n",
    "\n",
    "        lr_callback = LearningRateScheduler(lr_schedule)\n",
    "\n",
    "        best_model_path = Path(wandb.run.dir).joinpath(f\"best_model\")\n",
    "\n",
    "        checkpoint = WandbModelCheckpoint(best_model_path,\n",
    "                monitor=\"val_accuracy\",\n",
    "                save_best_only=True,\n",
    "                save_freq=\"epoch\")\n",
    "\n",
    "        global early_stopping_patience\n",
    "        early_stopping = EarlyStopping(monitor=\"val_accuracy\", patience=early_stopping_patience)\n",
    "\n",
    "        callbacks =[\n",
    "                tensorboard_callback,\n",
    "                lr_callback,\n",
    "                #wandb_callback,\n",
    "                WandbMetricsLogger(),\n",
    "                checkpoint,\n",
    "                #early_stopping,\n",
    "                EarlyStoppingAtMaxValAccuracy()\n",
    "        ]\n",
    "\n",
    "        history = model.fit(train_ds,\n",
    "                epochs=EPOCHS, \n",
    "                validation_data=val_ds, \n",
    "                callbacks=callbacks\n",
    "        )\n",
    "\n",
    "        #wandb.save(\"last_model.h5\")\n",
    "\n",
    "\n",
    "\n",
    "\n",
    "        #best_model = keras.models.load_model(best_model_path) # not needed due to \"restore_best_weights=True\"\n",
    "\n",
    "        y_val_true = np.concatenate([y for x, y in val_ds], axis=0)\n",
    "        y_val_pred = model.predict(val_ds).argmax(axis=1)\n",
    "\n",
    "        y_test_true = np.concatenate([y for x, y in test_ds], axis=0)\n",
    "        y_test_pred = model.predict(test_ds).argmax(axis=1)\n",
    "\n",
    "        results = model.evaluate(test_ds, batch_size=BATCH_SIZE)\n",
    "        print(\"test loss, test acc:\", results)\n",
    "        wandb.log({\n",
    "                \"test_loss\" : results[0],\n",
    "                \"test_accuracy\" : results[1]\n",
    "        })\n",
    "\n",
    "        # log data for the confusion matrix\n",
    "        wandb.log({\"conf_mat\" : wandb.plot.confusion_matrix(probs=None,\n",
    "                        y_true=y_test_true, preds=y_test_pred,\n",
    "                        class_names=labels)})\n",
    "\n",
    "\n",
    "        run.finish()\n",
    "        return history, model, run.id"
   ]
  },
  {
   "cell_type": "code",
   "execution_count": 73,
   "metadata": {},
   "outputs": [
    {
     "data": {
      "text/html": [
       "wandb version 0.13.9 is available!  To upgrade, please run:\n",
       " $ pip install wandb --upgrade"
      ],
      "text/plain": [
       "<IPython.core.display.HTML object>"
      ]
     },
     "metadata": {},
     "output_type": "display_data"
    },
    {
     "data": {
      "text/html": [
       "Tracking run with wandb version 0.13.5"
      ],
      "text/plain": [
       "<IPython.core.display.HTML object>"
      ]
     },
     "metadata": {},
     "output_type": "display_data"
    },
    {
     "data": {
      "text/html": [
       "Run data is saved locally in <code>i:\\tinyml\\tiny_cnn\\wandb\\run-20230115_094640-3icpkc95</code>"
      ],
      "text/plain": [
       "<IPython.core.display.HTML object>"
      ]
     },
     "metadata": {},
     "output_type": "display_data"
    },
    {
     "data": {
      "text/html": [
       "Syncing run <strong><a href=\"https://wandb.ai/susbrock/mobilenetv1/runs/3icpkc95\" target=\"_blank\">curious-galaxy-124</a></strong> to <a href=\"https://wandb.ai/susbrock/mobilenetv1\" target=\"_blank\">Weights & Biases</a> (<a href=\"https://wandb.me/run\" target=\"_blank\">docs</a>)<br/>"
      ],
      "text/plain": [
       "<IPython.core.display.HTML object>"
      ]
     },
     "metadata": {},
     "output_type": "display_data"
    },
    {
     "name": "stdout",
     "output_type": "stream",
     "text": [
      "Epoch 1/30\n",
      " 5/64 [=>............................] - ETA: 1s - loss: 0.0290 - accuracy: 0.9937WARNING:tensorflow:Callback method `on_train_batch_end` is slow compared to the batch time (batch time: 0.0198s vs `on_train_batch_end` time: 0.0785s). Check your callbacks.\n"
     ]
    },
    {
     "name": "stderr",
     "output_type": "stream",
     "text": [
      "WARNING:tensorflow:Callback method `on_train_batch_end` is slow compared to the batch time (batch time: 0.0198s vs `on_train_batch_end` time: 0.0785s). Check your callbacks.\n"
     ]
    },
    {
     "name": "stdout",
     "output_type": "stream",
     "text": [
      "63/64 [============================>.] - ETA: 0s - loss: 0.0495 - accuracy: 0.9841INFO:tensorflow:Assets written to: i:\\tinyml\\tiny_cnn\\wandb\\run-20230115_094640-3icpkc95\\files\\best_model\\assets\n"
     ]
    },
    {
     "name": "stderr",
     "output_type": "stream",
     "text": [
      "INFO:tensorflow:Assets written to: i:\\tinyml\\tiny_cnn\\wandb\\run-20230115_094640-3icpkc95\\files\\best_model\\assets\n",
      "\u001b[34m\u001b[1mwandb\u001b[0m: Adding directory to artifact (i:\\tinyml\\tiny_cnn\\wandb\\run-20230115_094640-3icpkc95\\files\\best_model)... Done. 0.0s\n"
     ]
    },
    {
     "name": "stdout",
     "output_type": "stream",
     "text": [
      "64/64 [==============================] - 29s 412ms/step - loss: 0.0558 - accuracy: 0.9832 - val_loss: 0.0893 - val_accuracy: 0.9643 - lr: 0.0100\n",
      "Epoch 2/30\n",
      "62/64 [============================>.] - ETA: 0s - loss: 0.0808 - accuracy: 0.9748"
     ]
    },
    {
     "name": "stderr",
     "output_type": "stream",
     "text": [
      "\u001b[34m\u001b[1mwandb\u001b[0m: Adding directory to artifact (i:\\tinyml\\tiny_cnn\\wandb\\run-20230115_094640-3icpkc95\\files\\best_model)... Done. 0.0s\n"
     ]
    },
    {
     "name": "stdout",
     "output_type": "stream",
     "text": [
      "64/64 [==============================] - 3s 38ms/step - loss: 0.0848 - accuracy: 0.9743 - val_loss: 0.1892 - val_accuracy: 0.9246 - lr: 0.0100\n",
      "Epoch 3/30\n",
      "63/64 [============================>.] - ETA: 0s - loss: 0.0627 - accuracy: 0.9792INFO:tensorflow:Assets written to: i:\\tinyml\\tiny_cnn\\wandb\\run-20230115_094640-3icpkc95\\files\\best_model\\assets\n"
     ]
    },
    {
     "name": "stderr",
     "output_type": "stream",
     "text": [
      "INFO:tensorflow:Assets written to: i:\\tinyml\\tiny_cnn\\wandb\\run-20230115_094640-3icpkc95\\files\\best_model\\assets\n",
      "\u001b[34m\u001b[1mwandb\u001b[0m: Adding directory to artifact (i:\\tinyml\\tiny_cnn\\wandb\\run-20230115_094640-3icpkc95\\files\\best_model)... Done. 0.0s\n"
     ]
    },
    {
     "name": "stdout",
     "output_type": "stream",
     "text": [
      "64/64 [==============================] - 13s 198ms/step - loss: 0.0626 - accuracy: 0.9792 - val_loss: 0.0448 - val_accuracy: 0.9841 - lr: 0.0100\n",
      "Epoch 4/30\n",
      "62/64 [============================>.] - ETA: 0s - loss: 0.0455 - accuracy: 0.9859"
     ]
    },
    {
     "name": "stderr",
     "output_type": "stream",
     "text": [
      "\u001b[34m\u001b[1mwandb\u001b[0m: Adding directory to artifact (i:\\tinyml\\tiny_cnn\\wandb\\run-20230115_094640-3icpkc95\\files\\best_model)... Done. 0.0s\n"
     ]
    },
    {
     "name": "stdout",
     "output_type": "stream",
     "text": [
      "64/64 [==============================] - 3s 42ms/step - loss: 0.0516 - accuracy: 0.9847 - val_loss: 0.2647 - val_accuracy: 0.9008 - lr: 0.0100\n",
      "Epoch 5/30\n",
      "64/64 [==============================] - ETA: 0s - loss: 0.1984 - accuracy: 0.9253"
     ]
    },
    {
     "name": "stderr",
     "output_type": "stream",
     "text": [
      "\u001b[34m\u001b[1mwandb\u001b[0m: Adding directory to artifact (i:\\tinyml\\tiny_cnn\\wandb\\run-20230115_094640-3icpkc95\\files\\best_model)... Done. 0.0s\n"
     ]
    },
    {
     "name": "stdout",
     "output_type": "stream",
     "text": [
      "64/64 [==============================] - 3s 43ms/step - loss: 0.1984 - accuracy: 0.9253 - val_loss: 0.2402 - val_accuracy: 0.9206 - lr: 0.0100\n",
      "Epoch 6/30\n",
      "64/64 [==============================] - ETA: 0s - loss: 0.0950 - accuracy: 0.9644"
     ]
    },
    {
     "name": "stderr",
     "output_type": "stream",
     "text": [
      "\u001b[34m\u001b[1mwandb\u001b[0m: Adding directory to artifact (i:\\tinyml\\tiny_cnn\\wandb\\run-20230115_094640-3icpkc95\\files\\best_model)... Done. 0.0s\n"
     ]
    },
    {
     "name": "stdout",
     "output_type": "stream",
     "text": [
      "64/64 [==============================] - 3s 47ms/step - loss: 0.0950 - accuracy: 0.9644 - val_loss: 0.4850 - val_accuracy: 0.8294 - lr: 0.0100\n",
      "Epoch 7/30\n",
      "64/64 [==============================] - ETA: 0s - loss: 0.0754 - accuracy: 0.9733"
     ]
    },
    {
     "name": "stderr",
     "output_type": "stream",
     "text": [
      "\u001b[34m\u001b[1mwandb\u001b[0m: Adding directory to artifact (i:\\tinyml\\tiny_cnn\\wandb\\run-20230115_094640-3icpkc95\\files\\best_model)... Done. 0.0s\n"
     ]
    },
    {
     "name": "stdout",
     "output_type": "stream",
     "text": [
      "64/64 [==============================] - 3s 53ms/step - loss: 0.0754 - accuracy: 0.9733 - val_loss: 0.1825 - val_accuracy: 0.9365 - lr: 0.0100\n",
      "Epoch 8/30\n",
      "62/64 [============================>.] - ETA: 0s - loss: 0.0586 - accuracy: 0.9783"
     ]
    },
    {
     "name": "stderr",
     "output_type": "stream",
     "text": [
      "\u001b[34m\u001b[1mwandb\u001b[0m: Adding directory to artifact (i:\\tinyml\\tiny_cnn\\wandb\\run-20230115_094640-3icpkc95\\files\\best_model)... Done. 0.0s\n"
     ]
    },
    {
     "name": "stdout",
     "output_type": "stream",
     "text": [
      "64/64 [==============================] - 3s 48ms/step - loss: 0.0589 - accuracy: 0.9782 - val_loss: 0.1890 - val_accuracy: 0.9484 - lr: 0.0100\n",
      "Epoch 9/30\n",
      "62/64 [============================>.] - ETA: 0s - loss: 0.0477 - accuracy: 0.9849"
     ]
    },
    {
     "name": "stderr",
     "output_type": "stream",
     "text": [
      "\u001b[34m\u001b[1mwandb\u001b[0m: Adding directory to artifact (i:\\tinyml\\tiny_cnn\\wandb\\run-20230115_094640-3icpkc95\\files\\best_model)... Done. 0.0s\n"
     ]
    },
    {
     "name": "stdout",
     "output_type": "stream",
     "text": [
      "64/64 [==============================] - 4s 60ms/step - loss: 0.0479 - accuracy: 0.9852 - val_loss: 0.4552 - val_accuracy: 0.8929 - lr: 0.0100\n",
      "Epoch 10/30\n",
      "63/64 [============================>.] - ETA: 0s - loss: 0.0499 - accuracy: 0.9841"
     ]
    },
    {
     "name": "stderr",
     "output_type": "stream",
     "text": [
      "\u001b[34m\u001b[1mwandb\u001b[0m: Adding directory to artifact (i:\\tinyml\\tiny_cnn\\wandb\\run-20230115_094640-3icpkc95\\files\\best_model)... Done. 0.0s\n"
     ]
    },
    {
     "name": "stdout",
     "output_type": "stream",
     "text": [
      "64/64 [==============================] - 3s 42ms/step - loss: 0.0504 - accuracy: 0.9837 - val_loss: 0.4481 - val_accuracy: 0.8730 - lr: 0.0100\n",
      "Epoch 11/30\n",
      "64/64 [==============================] - ETA: 0s - loss: 0.0599 - accuracy: 0.9772"
     ]
    },
    {
     "name": "stderr",
     "output_type": "stream",
     "text": [
      "\u001b[34m\u001b[1mwandb\u001b[0m: Adding directory to artifact (i:\\tinyml\\tiny_cnn\\wandb\\run-20230115_094640-3icpkc95\\files\\best_model)... Done. 0.0s\n"
     ]
    },
    {
     "name": "stdout",
     "output_type": "stream",
     "text": [
      "64/64 [==============================] - 5s 74ms/step - loss: 0.0599 - accuracy: 0.9772 - val_loss: 0.1453 - val_accuracy: 0.9444 - lr: 0.0100\n",
      "Epoch 12/30\n",
      "64/64 [==============================] - ETA: 0s - loss: 0.0476 - accuracy: 0.9857"
     ]
    },
    {
     "name": "stderr",
     "output_type": "stream",
     "text": [
      "\u001b[34m\u001b[1mwandb\u001b[0m: Adding directory to artifact (i:\\tinyml\\tiny_cnn\\wandb\\run-20230115_094640-3icpkc95\\files\\best_model)... Done. 0.0s\n"
     ]
    },
    {
     "name": "stdout",
     "output_type": "stream",
     "text": [
      "64/64 [==============================] - 2s 36ms/step - loss: 0.0476 - accuracy: 0.9857 - val_loss: 0.1010 - val_accuracy: 0.9762 - lr: 0.0100\n",
      "Epoch 13/30\n",
      "63/64 [============================>.] - ETA: 0s - loss: 0.0657 - accuracy: 0.9777"
     ]
    },
    {
     "name": "stderr",
     "output_type": "stream",
     "text": [
      "\u001b[34m\u001b[1mwandb\u001b[0m: Adding directory to artifact (i:\\tinyml\\tiny_cnn\\wandb\\run-20230115_094640-3icpkc95\\files\\best_model)... Done. 0.0s\n"
     ]
    },
    {
     "name": "stdout",
     "output_type": "stream",
     "text": [
      "64/64 [==============================] - 3s 39ms/step - loss: 0.0664 - accuracy: 0.9772 - val_loss: 0.1097 - val_accuracy: 0.9484 - lr: 0.0100\n",
      "Epoch 14/30\n",
      "63/64 [============================>.] - ETA: 0s - loss: 0.0503 - accuracy: 0.9826"
     ]
    },
    {
     "name": "stderr",
     "output_type": "stream",
     "text": [
      "\u001b[34m\u001b[1mwandb\u001b[0m: Adding directory to artifact (i:\\tinyml\\tiny_cnn\\wandb\\run-20230115_094640-3icpkc95\\files\\best_model)... Done. 0.0s\n"
     ]
    },
    {
     "name": "stdout",
     "output_type": "stream",
     "text": [
      "64/64 [==============================] - 3s 43ms/step - loss: 0.0505 - accuracy: 0.9827 - val_loss: 0.2577 - val_accuracy: 0.9167 - lr: 0.0100\n",
      "Epoch 15/30\n",
      "62/64 [============================>.] - ETA: 0s - loss: 0.0447 - accuracy: 0.9844"
     ]
    },
    {
     "name": "stderr",
     "output_type": "stream",
     "text": [
      "\u001b[34m\u001b[1mwandb\u001b[0m: Adding directory to artifact (i:\\tinyml\\tiny_cnn\\wandb\\run-20230115_094640-3icpkc95\\files\\best_model)... Done. 0.0s\n"
     ]
    },
    {
     "name": "stdout",
     "output_type": "stream",
     "text": [
      "64/64 [==============================] - 4s 58ms/step - loss: 0.0441 - accuracy: 0.9847 - val_loss: 0.1354 - val_accuracy: 0.9405 - lr: 0.0100\n",
      "Epoch 16/30\n",
      "63/64 [============================>.] - ETA: 0s - loss: 0.0311 - accuracy: 0.9866"
     ]
    },
    {
     "name": "stderr",
     "output_type": "stream",
     "text": [
      "\u001b[34m\u001b[1mwandb\u001b[0m: Adding directory to artifact (i:\\tinyml\\tiny_cnn\\wandb\\run-20230115_094640-3icpkc95\\files\\best_model)... Done. 0.0s\n"
     ]
    },
    {
     "name": "stdout",
     "output_type": "stream",
     "text": [
      "64/64 [==============================] - 3s 39ms/step - loss: 0.0338 - accuracy: 0.9861 - val_loss: 0.1525 - val_accuracy: 0.9524 - lr: 0.0100\n",
      "Epoch 17/30\n",
      "64/64 [==============================] - ETA: 0s - loss: 0.0679 - accuracy: 0.9733"
     ]
    },
    {
     "name": "stderr",
     "output_type": "stream",
     "text": [
      "\u001b[34m\u001b[1mwandb\u001b[0m: Adding directory to artifact (i:\\tinyml\\tiny_cnn\\wandb\\run-20230115_094640-3icpkc95\\files\\best_model)... Done. 0.0s\n"
     ]
    },
    {
     "name": "stdout",
     "output_type": "stream",
     "text": [
      "64/64 [==============================] - 3s 50ms/step - loss: 0.0679 - accuracy: 0.9733 - val_loss: 0.0966 - val_accuracy: 0.9524 - lr: 0.0100\n",
      "Epoch 18/30\n",
      "64/64 [==============================] - ETA: 0s - loss: 0.1051 - accuracy: 0.9649"
     ]
    },
    {
     "name": "stderr",
     "output_type": "stream",
     "text": [
      "\u001b[34m\u001b[1mwandb\u001b[0m: Adding directory to artifact (i:\\tinyml\\tiny_cnn\\wandb\\run-20230115_094640-3icpkc95\\files\\best_model)... Done. 0.0s\n"
     ]
    },
    {
     "name": "stdout",
     "output_type": "stream",
     "text": [
      "64/64 [==============================] - 3s 44ms/step - loss: 0.1051 - accuracy: 0.9649 - val_loss: 0.2926 - val_accuracy: 0.9127 - lr: 0.0100\n",
      "Epoch 19/30\n",
      "64/64 [==============================] - ETA: 0s - loss: 0.0766 - accuracy: 0.9683"
     ]
    },
    {
     "name": "stderr",
     "output_type": "stream",
     "text": [
      "\u001b[34m\u001b[1mwandb\u001b[0m: Adding directory to artifact (i:\\tinyml\\tiny_cnn\\wandb\\run-20230115_094640-3icpkc95\\files\\best_model)... Done. 0.0s\n"
     ]
    },
    {
     "name": "stdout",
     "output_type": "stream",
     "text": [
      "64/64 [==============================] - 3s 40ms/step - loss: 0.0766 - accuracy: 0.9683 - val_loss: 0.1967 - val_accuracy: 0.9286 - lr: 0.0100\n",
      "Epoch 20/30\n",
      "64/64 [==============================] - ETA: 0s - loss: 0.0727 - accuracy: 0.9728"
     ]
    },
    {
     "name": "stderr",
     "output_type": "stream",
     "text": [
      "\u001b[34m\u001b[1mwandb\u001b[0m: Adding directory to artifact (i:\\tinyml\\tiny_cnn\\wandb\\run-20230115_094640-3icpkc95\\files\\best_model)... Done. 0.0s\n"
     ]
    },
    {
     "name": "stdout",
     "output_type": "stream",
     "text": [
      "64/64 [==============================] - 3s 46ms/step - loss: 0.0727 - accuracy: 0.9728 - val_loss: 1.2589 - val_accuracy: 0.7262 - lr: 0.0100\n",
      "Epoch 21/30\n",
      "64/64 [==============================] - ETA: 0s - loss: 0.0688 - accuracy: 0.9743"
     ]
    },
    {
     "name": "stderr",
     "output_type": "stream",
     "text": [
      "\u001b[34m\u001b[1mwandb\u001b[0m: Adding directory to artifact (i:\\tinyml\\tiny_cnn\\wandb\\run-20230115_094640-3icpkc95\\files\\best_model)... Done. 0.0s\n"
     ]
    },
    {
     "name": "stdout",
     "output_type": "stream",
     "text": [
      "64/64 [==============================] - 4s 58ms/step - loss: 0.0688 - accuracy: 0.9743 - val_loss: 0.1413 - val_accuracy: 0.9484 - lr: 0.0100\n",
      "Epoch 22/30\n",
      "63/64 [============================>.] - ETA: 0s - loss: 0.0687 - accuracy: 0.9757"
     ]
    },
    {
     "name": "stderr",
     "output_type": "stream",
     "text": [
      "\u001b[34m\u001b[1mwandb\u001b[0m: Adding directory to artifact (i:\\tinyml\\tiny_cnn\\wandb\\run-20230115_094640-3icpkc95\\files\\best_model)... Done. 0.0s\n"
     ]
    },
    {
     "name": "stdout",
     "output_type": "stream",
     "text": [
      "64/64 [==============================] - 3s 45ms/step - loss: 0.0686 - accuracy: 0.9758 - val_loss: 0.1108 - val_accuracy: 0.9603 - lr: 1.0000e-04\n",
      "Epoch 23/30\n",
      "63/64 [============================>.] - ETA: 0s - loss: 0.0605 - accuracy: 0.9777"
     ]
    },
    {
     "name": "stderr",
     "output_type": "stream",
     "text": [
      "\u001b[34m\u001b[1mwandb\u001b[0m: Adding directory to artifact (i:\\tinyml\\tiny_cnn\\wandb\\run-20230115_094640-3icpkc95\\files\\best_model)... Done. 0.0s\n"
     ]
    },
    {
     "name": "stdout",
     "output_type": "stream",
     "text": [
      "64/64 [==============================] - 3s 41ms/step - loss: 0.0604 - accuracy: 0.9777 - val_loss: 0.0793 - val_accuracy: 0.9683 - lr: 1.0000e-04\n",
      "Epoch 24/30\n",
      "63/64 [============================>.] - ETA: 0s - loss: 0.0484 - accuracy: 0.9826"
     ]
    },
    {
     "name": "stderr",
     "output_type": "stream",
     "text": [
      "\u001b[34m\u001b[1mwandb\u001b[0m: Adding directory to artifact (i:\\tinyml\\tiny_cnn\\wandb\\run-20230115_094640-3icpkc95\\files\\best_model)... Done. 0.0s\n"
     ]
    },
    {
     "name": "stdout",
     "output_type": "stream",
     "text": [
      "64/64 [==============================] - 3s 41ms/step - loss: 0.0483 - accuracy: 0.9827 - val_loss: 0.0848 - val_accuracy: 0.9722 - lr: 1.0000e-04\n",
      "Epoch 25/30\n",
      "63/64 [============================>.] - ETA: 0s - loss: 0.0605 - accuracy: 0.9797"
     ]
    },
    {
     "name": "stderr",
     "output_type": "stream",
     "text": [
      "\u001b[34m\u001b[1mwandb\u001b[0m: Adding directory to artifact (i:\\tinyml\\tiny_cnn\\wandb\\run-20230115_094640-3icpkc95\\files\\best_model)... Done. 0.0s\n"
     ]
    },
    {
     "name": "stdout",
     "output_type": "stream",
     "text": [
      "64/64 [==============================] - 3s 40ms/step - loss: 0.0619 - accuracy: 0.9787 - val_loss: 0.0866 - val_accuracy: 0.9762 - lr: 1.0000e-04\n",
      "Epoch 26/30\n",
      "62/64 [============================>.] - ETA: 0s - loss: 0.0601 - accuracy: 0.9773"
     ]
    },
    {
     "name": "stderr",
     "output_type": "stream",
     "text": [
      "\u001b[34m\u001b[1mwandb\u001b[0m: Adding directory to artifact (i:\\tinyml\\tiny_cnn\\wandb\\run-20230115_094640-3icpkc95\\files\\best_model)... Done. 0.0s\n"
     ]
    },
    {
     "name": "stdout",
     "output_type": "stream",
     "text": [
      "64/64 [==============================] - 3s 48ms/step - loss: 0.0596 - accuracy: 0.9777 - val_loss: 0.0847 - val_accuracy: 0.9762 - lr: 1.0000e-04\n",
      "Epoch 27/30\n",
      "64/64 [==============================] - ETA: 0s - loss: 0.0491 - accuracy: 0.9822"
     ]
    },
    {
     "name": "stderr",
     "output_type": "stream",
     "text": [
      "\u001b[34m\u001b[1mwandb\u001b[0m: Adding directory to artifact (i:\\tinyml\\tiny_cnn\\wandb\\run-20230115_094640-3icpkc95\\files\\best_model)... Done. 0.0s\n"
     ]
    },
    {
     "name": "stdout",
     "output_type": "stream",
     "text": [
      "64/64 [==============================] - 3s 38ms/step - loss: 0.0491 - accuracy: 0.9822 - val_loss: 0.0837 - val_accuracy: 0.9722 - lr: 1.0000e-04\n",
      "Epoch 28/30\n",
      "63/64 [============================>.] - ETA: 0s - loss: 0.0663 - accuracy: 0.9767"
     ]
    },
    {
     "name": "stderr",
     "output_type": "stream",
     "text": [
      "\u001b[34m\u001b[1mwandb\u001b[0m: Adding directory to artifact (i:\\tinyml\\tiny_cnn\\wandb\\run-20230115_094640-3icpkc95\\files\\best_model)... Done. 0.0s\n"
     ]
    },
    {
     "name": "stdout",
     "output_type": "stream",
     "text": [
      "64/64 [==============================] - 3s 40ms/step - loss: 0.0675 - accuracy: 0.9762 - val_loss: 0.0827 - val_accuracy: 0.9722 - lr: 1.0000e-04\n",
      "Epoch 29/30\n",
      "63/64 [============================>.] - ETA: 0s - loss: 0.0507 - accuracy: 0.9797"
     ]
    },
    {
     "name": "stderr",
     "output_type": "stream",
     "text": [
      "\u001b[34m\u001b[1mwandb\u001b[0m: Adding directory to artifact (i:\\tinyml\\tiny_cnn\\wandb\\run-20230115_094640-3icpkc95\\files\\best_model)... Done. 0.0s\n"
     ]
    },
    {
     "name": "stdout",
     "output_type": "stream",
     "text": [
      "64/64 [==============================] - 3s 45ms/step - loss: 0.0507 - accuracy: 0.9797 - val_loss: 0.0791 - val_accuracy: 0.9722 - lr: 1.0000e-04\n",
      "Epoch 30/30\n",
      "63/64 [============================>.] - ETA: 0s - loss: 0.0462 - accuracy: 0.9836"
     ]
    },
    {
     "name": "stderr",
     "output_type": "stream",
     "text": [
      "\u001b[34m\u001b[1mwandb\u001b[0m: Adding directory to artifact (i:\\tinyml\\tiny_cnn\\wandb\\run-20230115_094640-3icpkc95\\files\\best_model)... Done. 0.0s\n"
     ]
    },
    {
     "name": "stdout",
     "output_type": "stream",
     "text": [
      "64/64 [==============================] - 3s 43ms/step - loss: 0.0479 - accuracy: 0.9832 - val_loss: 0.0779 - val_accuracy: 0.9683 - lr: 1.0000e-04\n",
      "8/8 [==============================] - 1s 23ms/step\n",
      "8/8 [==============================] - 0s 13ms/step\n",
      "8/8 [==============================] - 0s 17ms/step - loss: 0.0897 - accuracy: 0.9686\n",
      "test loss, test acc: [0.08967261761426926, 0.9686274528503418]\n"
     ]
    },
    {
     "data": {
      "text/html": [
       "Waiting for W&B process to finish... <strong style=\"color:green\">(success).</strong>"
      ],
      "text/plain": [
       "<IPython.core.display.HTML object>"
      ]
     },
     "metadata": {},
     "output_type": "display_data"
    },
    {
     "data": {
      "text/html": [
       "<style>\n",
       "    table.wandb td:nth-child(1) { padding: 0 10px; text-align: left ; width: auto;} td:nth-child(2) {text-align: left ; width: 100%}\n",
       "    .wandb-row { display: flex; flex-direction: row; flex-wrap: wrap; justify-content: flex-start; width: 100% }\n",
       "    .wandb-col { display: flex; flex-direction: column; flex-basis: 100%; flex: 1; padding: 10px; }\n",
       "    </style>\n",
       "<div class=\"wandb-row\"><div class=\"wandb-col\"><h3>Run history:</h3><br/><table class=\"wandb\"><tr><td>accuracy</td><td>█▇▇█▁▅▇▇██▇█▇███▇▆▆▆▇▇▇█▇▇█▇▇█</td></tr><tr><td>best_epoch</td><td>▁▁████████████████████████████</td></tr><tr><td>best_epoch_loss</td><td>██▁▁▁▁▁▁▁▁▁▁▁▁▁▁▁▁▁▁▁▁▁▁▁▁▁▁▁▁</td></tr><tr><td>best_val_accuracy</td><td>▁▁████████████████████████████</td></tr><tr><td>epoch</td><td>▁▁▁▂▂▂▂▃▃▃▃▄▄▄▄▅▅▅▅▆▆▆▆▇▇▇▇███</td></tr><tr><td>loss</td><td>▂▃▂▂█▄▃▂▂▂▂▂▂▂▁▁▂▄▃▃▂▂▂▂▂▂▂▂▂▂</td></tr><tr><td>lr</td><td>█████████████████████▁▁▁▁▁▁▁▁▁</td></tr><tr><td>test_accuracy</td><td>▁</td></tr><tr><td>test_loss</td><td>▁</td></tr><tr><td>val_accuracy</td><td>▇▆█▆▆▄▇▇▆▅▇█▇▆▇▇▇▆▆▁▇▇████████</td></tr><tr><td>val_loss</td><td>▁▂▁▂▂▄▂▂▃▃▂▁▁▂▂▂▁▂▂█▂▁▁▁▁▁▁▁▁▁</td></tr></table><br/></div><div class=\"wandb-col\"><h3>Run summary:</h3><br/><table class=\"wandb\"><tr><td>accuracy</td><td>0.98318</td></tr><tr><td>best_epoch</td><td>2</td></tr><tr><td>best_epoch_loss</td><td>0.04484</td></tr><tr><td>best_val_accuracy</td><td>0.98413</td></tr><tr><td>epoch</td><td>29</td></tr><tr><td>loss</td><td>0.04789</td></tr><tr><td>lr</td><td>0.0001</td></tr><tr><td>test_accuracy</td><td>0.96863</td></tr><tr><td>test_loss</td><td>0.08967</td></tr><tr><td>val_accuracy</td><td>0.96825</td></tr><tr><td>val_loss</td><td>0.0779</td></tr></table><br/></div></div>"
      ],
      "text/plain": [
       "<IPython.core.display.HTML object>"
      ]
     },
     "metadata": {},
     "output_type": "display_data"
    },
    {
     "data": {
      "text/html": [
       "Synced <strong style=\"color:#cdcd00\">curious-galaxy-124</strong>: <a href=\"https://wandb.ai/susbrock/mobilenetv1/runs/3icpkc95\" target=\"_blank\">https://wandb.ai/susbrock/mobilenetv1/runs/3icpkc95</a><br/>Synced 7 W&B file(s), 1 media file(s), 8 artifact file(s) and 7 other file(s)"
      ],
      "text/plain": [
       "<IPython.core.display.HTML object>"
      ]
     },
     "metadata": {},
     "output_type": "display_data"
    },
    {
     "data": {
      "text/html": [
       "Find logs at: <code>.\\wandb\\run-20230115_094640-3icpkc95\\logs</code>"
      ],
      "text/plain": [
       "<IPython.core.display.HTML object>"
      ]
     },
     "metadata": {},
     "output_type": "display_data"
    }
   ],
   "source": [
    "wandb.finish()\n",
    "history, model, run_id = train_model_wandb(model)"
   ]
  },
  {
   "cell_type": "code",
   "execution_count": 32,
   "metadata": {},
   "outputs": [],
   "source": [
    "#!wandb sync i:\\tinyml\\tiny_cnn\\wandb\\offline-run-20221227_091238-1vzrst0a"
   ]
  },
  {
   "attachments": {},
   "cell_type": "markdown",
   "metadata": {},
   "source": [
    "# Conversion to TFLITE"
   ]
  },
  {
   "cell_type": "code",
   "execution_count": 149,
   "metadata": {},
   "outputs": [
    {
     "name": "stdout",
     "output_type": "stream",
     "text": [
      "Number of samples: 1\n"
     ]
    }
   ],
   "source": [
    "\n",
    "\n",
    "\n",
    "sample_iter = test_ds.as_numpy_iterator()\n",
    "\n",
    "for i in range(1):\n",
    "    sample = next(sample_iter)[0]\n",
    "print(\"Number of samples: {}\".format(sample.shape[0]))"
   ]
  },
  {
   "cell_type": "code",
   "execution_count": 80,
   "metadata": {},
   "outputs": [],
   "source": [
    "def representative_data_gen():\n",
    "    for i in range(100):\n",
    "      yield([test_ds[i].reshape(1, 1)])"
   ]
  },
  {
   "cell_type": "code",
   "execution_count": 83,
   "metadata": {},
   "outputs": [
    {
     "data": {
      "text/plain": [
       "<generator object representative_data_gen at 0x000001F890D66DC0>"
      ]
     },
     "execution_count": 83,
     "metadata": {},
     "output_type": "execute_result"
    }
   ],
   "source": [
    "representative_data_gen()"
   ]
  },
  {
   "cell_type": "code",
   "execution_count": 97,
   "metadata": {},
   "outputs": [
    {
     "name": "stdout",
     "output_type": "stream",
     "text": [
      "INFO:tensorflow:Assets written to: C:\\Users\\Susanne\\AppData\\Local\\Temp\\tmpt1oq3l23\\assets\n"
     ]
    },
    {
     "name": "stderr",
     "output_type": "stream",
     "text": [
      "INFO:tensorflow:Assets written to: C:\\Users\\Susanne\\AppData\\Local\\Temp\\tmpt1oq3l23\\assets\n",
      "d:\\Miniconda\\envs\\tiny_cnn_3\\lib\\site-packages\\tensorflow\\lite\\python\\convert.py:766: UserWarning: Statistics for quantized inputs were expected, but not specified; continuing anyway.\n",
      "  warnings.warn(\"Statistics for quantized inputs were expected, but not \"\n"
     ]
    }
   ],
   "source": [
    "repr_ds = test_ds.unbatch()\n",
    "\n",
    "def representative_data_gen():\n",
    "  for i_value, o_value in repr_ds.batch(1).take(48):\n",
    "    yield [i_value]\n",
    "\n",
    "\n",
    "# def representative_data_gen():\n",
    "#     for i in range(100):\n",
    "#       yield([test_ds[i].reshape(1, 1)])\n",
    "\n",
    "# def representative_data_gen():\n",
    "#   for data in test_ds.batch(1).take(100):\n",
    "#     yield [tf.dtypes.cast(data, tf.float32)]\n",
    "\n",
    "# def representative_data_gen():\n",
    "#     for i in range(BATCH_SIZE):\n",
    "#         yield([np.expand_dims(sample[i], axis=0)])\n",
    "\n",
    "# testing dataset\n",
    "# def representative_data_gen():\n",
    "#     for _ in range(100):\n",
    "#       data = np.random.rand(1, 96, 96, 3)\n",
    "#       yield [data.astype(np.float32)]\n",
    " \n",
    "    \n",
    "converter_opt = tf.lite.TFLiteConverter.from_keras_model(model)\n",
    "\n",
    "\n",
    "# set the optimization flag\n",
    "converter_opt.optimizations = [tf.lite.Optimize.DEFAULT]\n",
    "# enforce integer only quantization\n",
    "converter_opt.target_spec.supported_ops = [tf.lite.OpsSet.TFLITE_BUILTINS_INT8]\n",
    "converter_opt.inference_input_type = tf.uint8\n",
    "converter_opt.inference_output_type = tf.uint8\n",
    "\n",
    "# provide a representative dataset for quantization\n",
    "#converter_opt.representative_dataset = tf.lite.RepresentativeDataset(representative_data_gen)\n",
    "converter_opt.representative_dataset = representative_data_gen\n",
    "\n",
    "tflite_model_opt = converter_opt.convert()\n",
    "\n",
    "# Save the model.\n",
    "with open(models_tflite_opt_path, 'wb') as f:\n",
    "  f.write(tflite_model_opt)\n"
   ]
  },
  {
   "attachments": {},
   "cell_type": "markdown",
   "metadata": {},
   "source": [
    "# Run the TensorFlot Lite models\n"
   ]
  },
  {
   "cell_type": "code",
   "execution_count": 150,
   "metadata": {},
   "outputs": [
    {
     "data": {
      "text/plain": [
       "<TakeDataset element_spec=(TensorSpec(shape=(None, 96, 96, 3), dtype=tf.float32, name=None), TensorSpec(shape=(None,), dtype=tf.int32, name=None))>"
      ]
     },
     "execution_count": 150,
     "metadata": {},
     "output_type": "execute_result"
    }
   ],
   "source": [
    "test_image = test_ds.take(1)\n",
    "test_image"
   ]
  },
  {
   "cell_type": "code",
   "execution_count": 134,
   "metadata": {},
   "outputs": [
    {
     "data": {
      "text/plain": [
       "8"
      ]
     },
     "execution_count": 134,
     "metadata": {},
     "output_type": "execute_result"
    }
   ],
   "source": [
    "len(test_ds)"
   ]
  },
  {
   "cell_type": "code",
   "execution_count": 151,
   "metadata": {},
   "outputs": [
    {
     "data": {
      "text/plain": [
       "array([[[[-0.33998156, -0.33213842, -0.35174626],\n",
       "         [-0.35225183, -0.3444087 , -0.36401653],\n",
       "         [-0.36940867, -0.36156553, -0.38117337],\n",
       "         ...,\n",
       "         [-0.3047487 , -0.30222118, -0.33359373],\n",
       "         [-0.2494638 , -0.24554223, -0.27691478],\n",
       "         [-0.3516084 , -0.34768683, -0.37905937]],\n",
       "\n",
       "        [[-0.42683822, -0.42683822, -0.43468136],\n",
       "         [-0.3713541 , -0.3713541 , -0.37919724],\n",
       "         [-0.36905634, -0.36513478, -0.38474262],\n",
       "         ...,\n",
       "         [-0.30284923, -0.30284923, -0.34206492],\n",
       "         [-0.29128367, -0.28344053, -0.32657778],\n",
       "         [-0.29404104, -0.2861979 , -0.32933515]],\n",
       "\n",
       "        [[-0.51554835, -0.51554835, -0.5233915 ],\n",
       "         [-0.41674322, -0.41674322, -0.42458636],\n",
       "         [-0.3831188 , -0.3831188 , -0.39096195],\n",
       "         ...,\n",
       "         [-0.3132046 , -0.3132046 , -0.35242033],\n",
       "         [-0.309375  , -0.3039828 , -0.34589458],\n",
       "         [-0.22161454, -0.21859676, -0.2530024 ]],\n",
       "\n",
       "        ...,\n",
       "\n",
       "        [[-0.7803155 , -0.7920803 , -0.8273744 ],\n",
       "         [-0.819087  , -0.8308517 , -0.86614585],\n",
       "         [-0.8183823 , -0.830147  , -0.8654412 ],\n",
       "         ...,\n",
       "         [-0.28642768, -0.29819238, -0.3334865 ],\n",
       "         [-0.29486823, -0.30663294, -0.34192705],\n",
       "         [-0.28938413, -0.28938413, -0.3285998 ]],\n",
       "\n",
       "        [[-0.7735294 , -0.7852941 , -0.82058823],\n",
       "         [-0.8007353 , -0.8125    , -0.8477941 ],\n",
       "         [-0.78943014, -0.80119485, -0.83648896],\n",
       "         ...,\n",
       "         [-0.5060355 , -0.5178002 , -0.5530943 ],\n",
       "         [-0.3642463 , -0.376011  , -0.41130513],\n",
       "         [-0.21966904, -0.21966904, -0.2588848 ]],\n",
       "\n",
       "        [[-0.77282476, -0.78458947, -0.8198836 ],\n",
       "         [-0.76387864, -0.77564335, -0.8109375 ],\n",
       "         [-0.76741725, -0.77918196, -0.8144761 ],\n",
       "         ...,\n",
       "         [-0.45900732, -0.47077203, -0.50606614],\n",
       "         [-0.43328732, -0.44505203, -0.48034614],\n",
       "         [-0.28388476, -0.28388476, -0.32310045]]]], dtype=float32)"
      ]
     },
     "execution_count": 151,
     "metadata": {},
     "output_type": "execute_result"
    }
   ],
   "source": [
    "#test_gen = test_ds.unbatch().batch(1)\n",
    "test_gen = test_ds.as_numpy_iterator()\n",
    "#test_gen = test_gen.next() \n",
    "#test_image = test_gen.take(1)\n",
    "test_image = next(test_gen)[0]\n",
    "test_image\n"
   ]
  },
  {
   "cell_type": "code",
   "execution_count": 154,
   "metadata": {},
   "outputs": [
    {
     "data": {
      "text/plain": [
       "254"
      ]
     },
     "execution_count": 154,
     "metadata": {},
     "output_type": "execute_result"
    }
   ],
   "source": [
    "len(list(test_gen))"
   ]
  },
  {
   "cell_type": "code",
   "execution_count": 152,
   "metadata": {},
   "outputs": [
    {
     "data": {
      "text/plain": [
       "(1, 96, 96, 3)"
      ]
     },
     "execution_count": 152,
     "metadata": {},
     "output_type": "execute_result"
    }
   ],
   "source": [
    "test_image.shape"
   ]
  },
  {
   "cell_type": "code",
   "execution_count": 161,
   "metadata": {},
   "outputs": [],
   "source": [
    "def tflite_predict(model_path, test_image):\n",
    "    # Initialize the interpreter\n",
    "    interpreter = tf.lite.Interpreter(model_path=str(model_path))\n",
    "    interpreter.allocate_tensors()\n",
    "\n",
    "    input_details = interpreter.get_input_details()[0]\n",
    "    output_details = interpreter.get_output_details()[0]\n",
    "\n",
    "    # Check if the input type is quantized, then rescale input data to uint8\n",
    "    if input_details['dtype'] == np.uint8:  # was np.uint8\n",
    "        input_scale, input_zero_point = input_details[\"quantization\"]\n",
    "        test_image = test_image / input_scale + input_zero_point\n",
    "        \n",
    "    test_image = test_image.astype(input_details[\"dtype\"])\n",
    "    interpreter.set_tensor(input_details[\"index\"], test_image)\n",
    "    #interpreter.set_tensor(input_details[\"index\"], np.expand_dims(test_image[0], axis=0)) # only needed when input shape (96, 96, 3)\n",
    "    interpreter.invoke()\n",
    "    output = interpreter.get_tensor(output_details[\"index\"])[0]\n",
    "    prediction = output.argmax()\n",
    "    print(f\"Prediction: Class {prediction} derived from {output}\")\n",
    "\n",
    "    return prediction"
   ]
  },
  {
   "cell_type": "code",
   "execution_count": 163,
   "metadata": {},
   "outputs": [
    {
     "name": "stdout",
     "output_type": "stream",
     "text": [
      "Prediction: 2 derived from [  5   0 251]\n"
     ]
    }
   ],
   "source": [
    "tflite_result = tflite_predict(models_tflite_opt_path, test_image)"
   ]
  },
  {
   "cell_type": "code",
   "execution_count": 177,
   "metadata": {},
   "outputs": [
    {
     "data": {
      "text/plain": [
       "255"
      ]
     },
     "execution_count": 177,
     "metadata": {},
     "output_type": "execute_result"
    }
   ],
   "source": [
    "\n"
   ]
  },
  {
   "cell_type": "code",
   "execution_count": 189,
   "metadata": {},
   "outputs": [],
   "source": [
    "\n",
    "def tflite_predict_on_dataset(model_path, dataset):\n",
    "    # find length of dataset\n",
    "    test_gen = dataset.as_numpy_iterator()\n",
    "    num_images = len(list(test_gen))\n",
    "\n",
    "    predictions = []\n",
    "    y_trues = []\n",
    "\n",
    "    test_gen = dataset.as_numpy_iterator()\n",
    "    # iterate over the complete test_set\n",
    "    for i in range(num_images):\n",
    "        test_image, y_true = next(test_gen)\n",
    "        prediction = tflite_predict(model_path, test_image)\n",
    "        predictions.append(prediction)\n",
    "        y_trues.append(y_true[0])\n",
    "        print(f\"{i}, {test_image.shape} - true label: {y_true[0]} vs {tflite_result}\")\n",
    "\n",
    "    accuracy = (np.sum(predictions == y_trues) * 100) / num_images\n",
    "    print(f\"Accuracy: {accuracy} - (Number of test samples: {num_images})\")\n",
    "    return predictions, y_trues\n",
    "    "
   ]
  },
  {
   "cell_type": "code",
   "execution_count": 190,
   "metadata": {},
   "outputs": [
    {
     "name": "stdout",
     "output_type": "stream",
     "text": [
      "Prediction: 0 derived from [255   0   1]\n",
      "0, (1, 96, 96, 3) - true label: 0 vs 0\n",
      "Prediction: 0 derived from [255   0   1]\n",
      "1, (1, 96, 96, 3) - true label: 0 vs 0\n",
      "Prediction: 0 derived from [255   0   0]\n",
      "2, (1, 96, 96, 3) - true label: 0 vs 0\n",
      "Prediction: 0 derived from [255   0   0]\n",
      "3, (1, 96, 96, 3) - true label: 0 vs 0\n",
      "Prediction: 0 derived from [252   1   3]\n",
      "4, (1, 96, 96, 3) - true label: 0 vs 0\n",
      "Prediction: 0 derived from [249   0   7]\n",
      "5, (1, 96, 96, 3) - true label: 0 vs 0\n",
      "Prediction: 0 derived from [255   0   0]\n",
      "6, (1, 96, 96, 3) - true label: 0 vs 0\n",
      "Prediction: 0 derived from [253   0   3]\n",
      "7, (1, 96, 96, 3) - true label: 0 vs 0\n",
      "Prediction: 0 derived from [241   0  15]\n",
      "8, (1, 96, 96, 3) - true label: 0 vs 0\n",
      "Prediction: 0 derived from [255   0   0]\n",
      "9, (1, 96, 96, 3) - true label: 0 vs 0\n",
      "Prediction: 0 derived from [235   0  20]\n",
      "10, (1, 96, 96, 3) - true label: 0 vs 0\n",
      "Prediction: 0 derived from [255   0   0]\n",
      "11, (1, 96, 96, 3) - true label: 0 vs 0\n",
      "Prediction: 0 derived from [251   0   4]\n",
      "12, (1, 96, 96, 3) - true label: 0 vs 0\n",
      "Prediction: 0 derived from [255   0   0]\n",
      "13, (1, 96, 96, 3) - true label: 0 vs 0\n",
      "Prediction: 0 derived from [253   0   3]\n",
      "14, (1, 96, 96, 3) - true label: 0 vs 0\n",
      "Prediction: 0 derived from [231   1  25]\n",
      "15, (1, 96, 96, 3) - true label: 0 vs 0\n",
      "Prediction: 0 derived from [255   0   0]\n",
      "16, (1, 96, 96, 3) - true label: 0 vs 0\n",
      "Prediction: 0 derived from [254   0   2]\n",
      "17, (1, 96, 96, 3) - true label: 0 vs 0\n",
      "Prediction: 0 derived from [250   0   6]\n",
      "18, (1, 96, 96, 3) - true label: 0 vs 0\n",
      "Prediction: 0 derived from [255   0   1]\n",
      "19, (1, 96, 96, 3) - true label: 0 vs 0\n",
      "Prediction: 0 derived from [238   1  17]\n",
      "20, (1, 96, 96, 3) - true label: 0 vs 0\n",
      "Prediction: 0 derived from [251   0   5]\n",
      "21, (1, 96, 96, 3) - true label: 0 vs 0\n",
      "Prediction: 0 derived from [245   0  11]\n",
      "22, (1, 96, 96, 3) - true label: 0 vs 0\n",
      "Prediction: 0 derived from [255   0   0]\n",
      "23, (1, 96, 96, 3) - true label: 0 vs 0\n",
      "Prediction: 0 derived from [253   0   3]\n",
      "24, (1, 96, 96, 3) - true label: 0 vs 0\n",
      "Prediction: 0 derived from [255   0   1]\n",
      "25, (1, 96, 96, 3) - true label: 0 vs 0\n",
      "Prediction: 0 derived from [255   0   0]\n",
      "26, (1, 96, 96, 3) - true label: 0 vs 0\n",
      "Prediction: 0 derived from [176   1  79]\n",
      "27, (1, 96, 96, 3) - true label: 0 vs 0\n",
      "Prediction: 0 derived from [255   0   0]\n",
      "28, (1, 96, 96, 3) - true label: 0 vs 0\n",
      "Prediction: 0 derived from [255   0   0]\n",
      "29, (1, 96, 96, 3) - true label: 0 vs 0\n",
      "Prediction: 0 derived from [251   0   5]\n",
      "30, (1, 96, 96, 3) - true label: 0 vs 0\n",
      "Prediction: 0 derived from [255   0   1]\n",
      "31, (1, 96, 96, 3) - true label: 0 vs 0\n",
      "Prediction: 0 derived from [254   0   2]\n",
      "32, (1, 96, 96, 3) - true label: 0 vs 0\n",
      "Prediction: 0 derived from [145   3 108]\n",
      "33, (1, 96, 96, 3) - true label: 0 vs 0\n",
      "Prediction: 0 derived from [247   0   9]\n",
      "34, (1, 96, 96, 3) - true label: 0 vs 0\n",
      "Prediction: 0 derived from [255   0   0]\n",
      "35, (1, 96, 96, 3) - true label: 0 vs 0\n",
      "Prediction: 0 derived from [255   0   1]\n",
      "36, (1, 96, 96, 3) - true label: 0 vs 0\n",
      "Prediction: 0 derived from [255   0   1]\n",
      "37, (1, 96, 96, 3) - true label: 0 vs 0\n",
      "Prediction: 0 derived from [255   0   0]\n",
      "38, (1, 96, 96, 3) - true label: 0 vs 0\n",
      "Prediction: 0 derived from [255   0   0]\n",
      "39, (1, 96, 96, 3) - true label: 0 vs 0\n",
      "Prediction: 0 derived from [233   0  22]\n",
      "40, (1, 96, 96, 3) - true label: 0 vs 0\n",
      "Prediction: 0 derived from [228   0  28]\n",
      "41, (1, 96, 96, 3) - true label: 0 vs 0\n",
      "Prediction: 0 derived from [255   0   0]\n",
      "42, (1, 96, 96, 3) - true label: 0 vs 0\n",
      "Prediction: 0 derived from [232   0  23]\n",
      "43, (1, 96, 96, 3) - true label: 0 vs 0\n",
      "Prediction: 0 derived from [238   0  18]\n",
      "44, (1, 96, 96, 3) - true label: 0 vs 0\n",
      "Prediction: 0 derived from [252   0   3]\n",
      "45, (1, 96, 96, 3) - true label: 0 vs 0\n",
      "Prediction: 0 derived from [255   0   0]\n",
      "46, (1, 96, 96, 3) - true label: 0 vs 0\n",
      "Prediction: 0 derived from [255   0   0]\n",
      "47, (1, 96, 96, 3) - true label: 0 vs 0\n",
      "Prediction: 0 derived from [240   0  16]\n",
      "48, (1, 96, 96, 3) - true label: 0 vs 0\n",
      "Prediction: 0 derived from [255   0   0]\n",
      "49, (1, 96, 96, 3) - true label: 0 vs 0\n",
      "Prediction: 0 derived from [255   0   0]\n",
      "50, (1, 96, 96, 3) - true label: 0 vs 0\n",
      "Prediction: 0 derived from [255   0   0]\n",
      "51, (1, 96, 96, 3) - true label: 0 vs 0\n",
      "Prediction: 0 derived from [254   0   2]\n",
      "52, (1, 96, 96, 3) - true label: 0 vs 0\n",
      "Prediction: 0 derived from [255   0   0]\n",
      "53, (1, 96, 96, 3) - true label: 0 vs 0\n",
      "Prediction: 0 derived from [255   0   1]\n",
      "54, (1, 96, 96, 3) - true label: 0 vs 0\n",
      "Prediction: 0 derived from [255   0   0]\n",
      "55, (1, 96, 96, 3) - true label: 0 vs 0\n",
      "Prediction: 0 derived from [255   0   0]\n",
      "56, (1, 96, 96, 3) - true label: 0 vs 0\n",
      "Prediction: 0 derived from [255   0   0]\n",
      "57, (1, 96, 96, 3) - true label: 0 vs 0\n",
      "Prediction: 0 derived from [255   0   0]\n",
      "58, (1, 96, 96, 3) - true label: 0 vs 0\n",
      "Prediction: 0 derived from [255   0   0]\n",
      "59, (1, 96, 96, 3) - true label: 0 vs 0\n",
      "Prediction: 0 derived from [255   0   0]\n",
      "60, (1, 96, 96, 3) - true label: 0 vs 0\n",
      "Prediction: 0 derived from [220   1  35]\n",
      "61, (1, 96, 96, 3) - true label: 0 vs 0\n",
      "Prediction: 1 derived from [ 52 201   3]\n",
      "62, (1, 96, 96, 3) - true label: 0 vs 0\n",
      "Prediction: 0 derived from [254   0   2]\n",
      "63, (1, 96, 96, 3) - true label: 0 vs 0\n",
      "Prediction: 0 derived from [255   0   0]\n",
      "64, (1, 96, 96, 3) - true label: 0 vs 0\n",
      "Prediction: 0 derived from [255   0   0]\n",
      "65, (1, 96, 96, 3) - true label: 0 vs 0\n",
      "Prediction: 0 derived from [255   0   1]\n",
      "66, (1, 96, 96, 3) - true label: 0 vs 0\n",
      "Prediction: 0 derived from [255   0   0]\n",
      "67, (1, 96, 96, 3) - true label: 0 vs 0\n",
      "Prediction: 0 derived from [235   0  20]\n",
      "68, (1, 96, 96, 3) - true label: 0 vs 0\n",
      "Prediction: 0 derived from [255   0   1]\n",
      "69, (1, 96, 96, 3) - true label: 0 vs 0\n",
      "Prediction: 0 derived from [254   0   2]\n",
      "70, (1, 96, 96, 3) - true label: 0 vs 0\n",
      "Prediction: 0 derived from [255   0   1]\n",
      "71, (1, 96, 96, 3) - true label: 0 vs 0\n",
      "Prediction: 2 derived from [ 27   0 229]\n",
      "72, (1, 96, 96, 3) - true label: 0 vs 0\n",
      "Prediction: 0 derived from [255   0   1]\n",
      "73, (1, 96, 96, 3) - true label: 0 vs 0\n",
      "Prediction: 0 derived from [255   0   0]\n",
      "74, (1, 96, 96, 3) - true label: 0 vs 0\n",
      "Prediction: 0 derived from [255   0   1]\n",
      "75, (1, 96, 96, 3) - true label: 0 vs 0\n",
      "Prediction: 0 derived from [255   0   1]\n",
      "76, (1, 96, 96, 3) - true label: 0 vs 0\n",
      "Prediction: 0 derived from [255   0   1]\n",
      "77, (1, 96, 96, 3) - true label: 0 vs 0\n",
      "Prediction: 0 derived from [254   0   2]\n",
      "78, (1, 96, 96, 3) - true label: 0 vs 0\n",
      "Prediction: 0 derived from [255   0   0]\n",
      "79, (1, 96, 96, 3) - true label: 0 vs 0\n",
      "Prediction: 0 derived from [253   0   3]\n",
      "80, (1, 96, 96, 3) - true label: 0 vs 0\n",
      "Prediction: 0 derived from [253   0   3]\n",
      "81, (1, 96, 96, 3) - true label: 0 vs 0\n",
      "Prediction: 0 derived from [255   0   0]\n",
      "82, (1, 96, 96, 3) - true label: 0 vs 0\n",
      "Prediction: 0 derived from [244   0  12]\n",
      "83, (1, 96, 96, 3) - true label: 0 vs 0\n",
      "Prediction: 0 derived from [255   0   1]\n",
      "84, (1, 96, 96, 3) - true label: 0 vs 0\n",
      "Prediction: 0 derived from [244   0  12]\n",
      "85, (1, 96, 96, 3) - true label: 0 vs 0\n",
      "Prediction: 0 derived from [247   0   9]\n",
      "86, (1, 96, 96, 3) - true label: 0 vs 0\n",
      "Prediction: 0 derived from [255   0   0]\n",
      "87, (1, 96, 96, 3) - true label: 0 vs 0\n",
      "Prediction: 0 derived from [251   0   5]\n",
      "88, (1, 96, 96, 3) - true label: 0 vs 0\n",
      "Prediction: 0 derived from [255   0   1]\n",
      "89, (1, 96, 96, 3) - true label: 0 vs 0\n",
      "Prediction: 0 derived from [248   0   8]\n",
      "90, (1, 96, 96, 3) - true label: 0 vs 0\n",
      "Prediction: 0 derived from [255   0   1]\n",
      "91, (1, 96, 96, 3) - true label: 0 vs 0\n",
      "Prediction: 0 derived from [254   0   2]\n",
      "92, (1, 96, 96, 3) - true label: 0 vs 0\n",
      "Prediction: 0 derived from [255   0   0]\n",
      "93, (1, 96, 96, 3) - true label: 0 vs 0\n",
      "Prediction: 0 derived from [254   0   1]\n",
      "94, (1, 96, 96, 3) - true label: 0 vs 0\n",
      "Prediction: 0 derived from [255   0   0]\n",
      "95, (1, 96, 96, 3) - true label: 0 vs 0\n",
      "Prediction: 1 derived from [  0 255   0]\n",
      "96, (1, 96, 96, 3) - true label: 1 vs 0\n",
      "Prediction: 1 derived from [  0 255   0]\n",
      "97, (1, 96, 96, 3) - true label: 1 vs 0\n",
      "Prediction: 1 derived from [  0 255   0]\n",
      "98, (1, 96, 96, 3) - true label: 1 vs 0\n",
      "Prediction: 1 derived from [  0 255   0]\n",
      "99, (1, 96, 96, 3) - true label: 1 vs 0\n",
      "Prediction: 1 derived from [  0 255   0]\n",
      "100, (1, 96, 96, 3) - true label: 1 vs 0\n",
      "Prediction: 1 derived from [  0 255   0]\n",
      "101, (1, 96, 96, 3) - true label: 1 vs 0\n",
      "Prediction: 1 derived from [  0 255   0]\n",
      "102, (1, 96, 96, 3) - true label: 1 vs 0\n",
      "Prediction: 1 derived from [  0 255   0]\n",
      "103, (1, 96, 96, 3) - true label: 1 vs 0\n",
      "Prediction: 1 derived from [  0 255   0]\n",
      "104, (1, 96, 96, 3) - true label: 1 vs 0\n",
      "Prediction: 1 derived from [  0 255   0]\n",
      "105, (1, 96, 96, 3) - true label: 1 vs 0\n",
      "Prediction: 1 derived from [  0 255   0]\n",
      "106, (1, 96, 96, 3) - true label: 1 vs 0\n",
      "Prediction: 1 derived from [  0 255   0]\n",
      "107, (1, 96, 96, 3) - true label: 1 vs 0\n",
      "Prediction: 1 derived from [  0 255   0]\n",
      "108, (1, 96, 96, 3) - true label: 1 vs 0\n",
      "Prediction: 1 derived from [  0 255   0]\n",
      "109, (1, 96, 96, 3) - true label: 1 vs 0\n",
      "Prediction: 1 derived from [  0 255   0]\n",
      "110, (1, 96, 96, 3) - true label: 1 vs 0\n",
      "Prediction: 1 derived from [  0 255   0]\n",
      "111, (1, 96, 96, 3) - true label: 1 vs 0\n",
      "Prediction: 1 derived from [  0 255   0]\n",
      "112, (1, 96, 96, 3) - true label: 1 vs 0\n",
      "Prediction: 1 derived from [  0 255   0]\n",
      "113, (1, 96, 96, 3) - true label: 1 vs 0\n",
      "Prediction: 1 derived from [  0 255   0]\n",
      "114, (1, 96, 96, 3) - true label: 1 vs 0\n",
      "Prediction: 1 derived from [  0 255   0]\n",
      "115, (1, 96, 96, 3) - true label: 1 vs 0\n",
      "Prediction: 1 derived from [  0 255   0]\n",
      "116, (1, 96, 96, 3) - true label: 1 vs 0\n",
      "Prediction: 1 derived from [  0 255   0]\n",
      "117, (1, 96, 96, 3) - true label: 1 vs 0\n",
      "Prediction: 1 derived from [  0 255   0]\n",
      "118, (1, 96, 96, 3) - true label: 1 vs 0\n",
      "Prediction: 1 derived from [  0 255   0]\n",
      "119, (1, 96, 96, 3) - true label: 1 vs 0\n",
      "Prediction: 1 derived from [  0 255   0]\n",
      "120, (1, 96, 96, 3) - true label: 1 vs 0\n",
      "Prediction: 1 derived from [  0 255   0]\n",
      "121, (1, 96, 96, 3) - true label: 1 vs 0\n",
      "Prediction: 1 derived from [  0 255   0]\n",
      "122, (1, 96, 96, 3) - true label: 1 vs 0\n",
      "Prediction: 1 derived from [  0 255   0]\n",
      "123, (1, 96, 96, 3) - true label: 1 vs 0\n",
      "Prediction: 1 derived from [  0 255   0]\n",
      "124, (1, 96, 96, 3) - true label: 1 vs 0\n",
      "Prediction: 1 derived from [  0 255   0]\n",
      "125, (1, 96, 96, 3) - true label: 1 vs 0\n",
      "Prediction: 1 derived from [  0 255   0]\n",
      "126, (1, 96, 96, 3) - true label: 1 vs 0\n",
      "Prediction: 1 derived from [  0 255   0]\n",
      "127, (1, 96, 96, 3) - true label: 1 vs 0\n",
      "Prediction: 1 derived from [  0 255   0]\n",
      "128, (1, 96, 96, 3) - true label: 1 vs 0\n",
      "Prediction: 1 derived from [  0 255   0]\n",
      "129, (1, 96, 96, 3) - true label: 1 vs 0\n",
      "Prediction: 1 derived from [  0 255   0]\n",
      "130, (1, 96, 96, 3) - true label: 1 vs 0\n",
      "Prediction: 1 derived from [  0 255   0]\n",
      "131, (1, 96, 96, 3) - true label: 1 vs 0\n",
      "Prediction: 1 derived from [  0 255   0]\n",
      "132, (1, 96, 96, 3) - true label: 1 vs 0\n",
      "Prediction: 1 derived from [  0 255   0]\n",
      "133, (1, 96, 96, 3) - true label: 1 vs 0\n",
      "Prediction: 1 derived from [  0 255   0]\n",
      "134, (1, 96, 96, 3) - true label: 1 vs 0\n",
      "Prediction: 1 derived from [  0 255   0]\n",
      "135, (1, 96, 96, 3) - true label: 1 vs 0\n",
      "Prediction: 1 derived from [  0 255   0]\n",
      "136, (1, 96, 96, 3) - true label: 1 vs 0\n",
      "Prediction: 1 derived from [  0 255   0]\n",
      "137, (1, 96, 96, 3) - true label: 1 vs 0\n",
      "Prediction: 1 derived from [  0 255   0]\n",
      "138, (1, 96, 96, 3) - true label: 1 vs 0\n",
      "Prediction: 1 derived from [  0 255   0]\n",
      "139, (1, 96, 96, 3) - true label: 1 vs 0\n",
      "Prediction: 1 derived from [  0 255   0]\n",
      "140, (1, 96, 96, 3) - true label: 1 vs 0\n",
      "Prediction: 1 derived from [  0 255   0]\n",
      "141, (1, 96, 96, 3) - true label: 1 vs 0\n",
      "Prediction: 2 derived from [  0   0 255]\n",
      "142, (1, 96, 96, 3) - true label: 2 vs 0\n",
      "Prediction: 2 derived from [  1   0 255]\n",
      "143, (1, 96, 96, 3) - true label: 2 vs 0\n",
      "Prediction: 2 derived from [  1   0 255]\n",
      "144, (1, 96, 96, 3) - true label: 2 vs 0\n",
      "Prediction: 2 derived from [  2   0 254]\n",
      "145, (1, 96, 96, 3) - true label: 2 vs 0\n",
      "Prediction: 2 derived from [  1   0 255]\n",
      "146, (1, 96, 96, 3) - true label: 2 vs 0\n",
      "Prediction: 2 derived from [  2   0 254]\n",
      "147, (1, 96, 96, 3) - true label: 2 vs 0\n",
      "Prediction: 2 derived from [  0   0 255]\n",
      "148, (1, 96, 96, 3) - true label: 2 vs 0\n",
      "Prediction: 2 derived from [  0   0 255]\n",
      "149, (1, 96, 96, 3) - true label: 2 vs 0\n",
      "Prediction: 2 derived from [  0   0 255]\n",
      "150, (1, 96, 96, 3) - true label: 2 vs 0\n",
      "Prediction: 2 derived from [  0   0 255]\n",
      "151, (1, 96, 96, 3) - true label: 2 vs 0\n",
      "Prediction: 2 derived from [  0   0 255]\n",
      "152, (1, 96, 96, 3) - true label: 2 vs 0\n",
      "Prediction: 2 derived from [  0   0 255]\n",
      "153, (1, 96, 96, 3) - true label: 2 vs 0\n",
      "Prediction: 2 derived from [ 13   0 243]\n",
      "154, (1, 96, 96, 3) - true label: 2 vs 0\n",
      "Prediction: 2 derived from [  0   0 255]\n",
      "155, (1, 96, 96, 3) - true label: 2 vs 0\n",
      "Prediction: 2 derived from [  0   0 255]\n",
      "156, (1, 96, 96, 3) - true label: 2 vs 0\n",
      "Prediction: 2 derived from [  0   0 255]\n",
      "157, (1, 96, 96, 3) - true label: 2 vs 0\n",
      "Prediction: 2 derived from [  0   0 255]\n",
      "158, (1, 96, 96, 3) - true label: 2 vs 0\n",
      "Prediction: 2 derived from [  0   0 255]\n",
      "159, (1, 96, 96, 3) - true label: 2 vs 0\n",
      "Prediction: 0 derived from [218   9  30]\n",
      "160, (1, 96, 96, 3) - true label: 2 vs 0\n",
      "Prediction: 2 derived from [  0   0 255]\n",
      "161, (1, 96, 96, 3) - true label: 2 vs 0\n",
      "Prediction: 2 derived from [  0   0 255]\n",
      "162, (1, 96, 96, 3) - true label: 2 vs 0\n",
      "Prediction: 2 derived from [  1   0 255]\n",
      "163, (1, 96, 96, 3) - true label: 2 vs 0\n",
      "Prediction: 2 derived from [  1   0 255]\n",
      "164, (1, 96, 96, 3) - true label: 2 vs 0\n",
      "Prediction: 2 derived from [  0   0 255]\n",
      "165, (1, 96, 96, 3) - true label: 2 vs 0\n",
      "Prediction: 2 derived from [  0   0 255]\n",
      "166, (1, 96, 96, 3) - true label: 2 vs 0\n",
      "Prediction: 2 derived from [  0   0 255]\n",
      "167, (1, 96, 96, 3) - true label: 2 vs 0\n",
      "Prediction: 2 derived from [  0   0 255]\n",
      "168, (1, 96, 96, 3) - true label: 2 vs 0\n",
      "Prediction: 2 derived from [  0   0 255]\n",
      "169, (1, 96, 96, 3) - true label: 2 vs 0\n",
      "Prediction: 2 derived from [  0   0 255]\n",
      "170, (1, 96, 96, 3) - true label: 2 vs 0\n",
      "Prediction: 2 derived from [  0   0 255]\n",
      "171, (1, 96, 96, 3) - true label: 2 vs 0\n",
      "Prediction: 2 derived from [  0   0 255]\n",
      "172, (1, 96, 96, 3) - true label: 2 vs 0\n",
      "Prediction: 2 derived from [  0   0 255]\n",
      "173, (1, 96, 96, 3) - true label: 2 vs 0\n",
      "Prediction: 2 derived from [  0   0 255]\n",
      "174, (1, 96, 96, 3) - true label: 2 vs 0\n",
      "Prediction: 2 derived from [ 10   0 246]\n",
      "175, (1, 96, 96, 3) - true label: 2 vs 0\n",
      "Prediction: 2 derived from [  0   0 255]\n",
      "176, (1, 96, 96, 3) - true label: 2 vs 0\n",
      "Prediction: 2 derived from [  0   0 255]\n",
      "177, (1, 96, 96, 3) - true label: 2 vs 0\n",
      "Prediction: 2 derived from [  0   0 255]\n",
      "178, (1, 96, 96, 3) - true label: 2 vs 0\n",
      "Prediction: 2 derived from [  0   0 255]\n",
      "179, (1, 96, 96, 3) - true label: 2 vs 0\n",
      "Prediction: 2 derived from [ 57   0 199]\n",
      "180, (1, 96, 96, 3) - true label: 2 vs 0\n",
      "Prediction: 2 derived from [  0   0 255]\n",
      "181, (1, 96, 96, 3) - true label: 2 vs 0\n",
      "Prediction: 2 derived from [  0   0 255]\n",
      "182, (1, 96, 96, 3) - true label: 2 vs 0\n",
      "Prediction: 2 derived from [  0   0 255]\n",
      "183, (1, 96, 96, 3) - true label: 2 vs 0\n",
      "Prediction: 2 derived from [  0   0 255]\n",
      "184, (1, 96, 96, 3) - true label: 2 vs 0\n",
      "Prediction: 2 derived from [  0   0 255]\n",
      "185, (1, 96, 96, 3) - true label: 2 vs 0\n",
      "Prediction: 2 derived from [  8   0 247]\n",
      "186, (1, 96, 96, 3) - true label: 2 vs 0\n",
      "Prediction: 2 derived from [  2   0 254]\n",
      "187, (1, 96, 96, 3) - true label: 2 vs 0\n",
      "Prediction: 2 derived from [  0   0 255]\n",
      "188, (1, 96, 96, 3) - true label: 2 vs 0\n",
      "Prediction: 2 derived from [  0   0 255]\n",
      "189, (1, 96, 96, 3) - true label: 2 vs 0\n",
      "Prediction: 2 derived from [  2   0 254]\n",
      "190, (1, 96, 96, 3) - true label: 2 vs 0\n",
      "Prediction: 2 derived from [  1   0 255]\n",
      "191, (1, 96, 96, 3) - true label: 2 vs 0\n",
      "Prediction: 2 derived from [  0   0 255]\n",
      "192, (1, 96, 96, 3) - true label: 2 vs 0\n",
      "Prediction: 2 derived from [  1   0 254]\n",
      "193, (1, 96, 96, 3) - true label: 2 vs 0\n",
      "Prediction: 2 derived from [  0   0 255]\n",
      "194, (1, 96, 96, 3) - true label: 2 vs 0\n",
      "Prediction: 2 derived from [  0   0 255]\n",
      "195, (1, 96, 96, 3) - true label: 2 vs 0\n",
      "Prediction: 2 derived from [  0   0 255]\n",
      "196, (1, 96, 96, 3) - true label: 2 vs 0\n",
      "Prediction: 2 derived from [  0   0 255]\n",
      "197, (1, 96, 96, 3) - true label: 2 vs 0\n",
      "Prediction: 2 derived from [  0   0 255]\n",
      "198, (1, 96, 96, 3) - true label: 2 vs 0\n",
      "Prediction: 2 derived from [  1   0 255]\n",
      "199, (1, 96, 96, 3) - true label: 2 vs 0\n",
      "Prediction: 2 derived from [  0   0 255]\n",
      "200, (1, 96, 96, 3) - true label: 2 vs 0\n",
      "Prediction: 2 derived from [  0   0 255]\n",
      "201, (1, 96, 96, 3) - true label: 2 vs 0\n",
      "Prediction: 2 derived from [  1   0 255]\n",
      "202, (1, 96, 96, 3) - true label: 2 vs 0\n",
      "Prediction: 2 derived from [  1   0 255]\n",
      "203, (1, 96, 96, 3) - true label: 2 vs 0\n",
      "Prediction: 2 derived from [  0   0 255]\n",
      "204, (1, 96, 96, 3) - true label: 2 vs 0\n",
      "Prediction: 2 derived from [  0   0 255]\n",
      "205, (1, 96, 96, 3) - true label: 2 vs 0\n",
      "Prediction: 2 derived from [  0   0 255]\n",
      "206, (1, 96, 96, 3) - true label: 2 vs 0\n",
      "Prediction: 2 derived from [  0   0 255]\n",
      "207, (1, 96, 96, 3) - true label: 2 vs 0\n",
      "Prediction: 2 derived from [  0   0 255]\n",
      "208, (1, 96, 96, 3) - true label: 2 vs 0\n",
      "Prediction: 2 derived from [  0   0 255]\n",
      "209, (1, 96, 96, 3) - true label: 2 vs 0\n",
      "Prediction: 2 derived from [  0   0 255]\n",
      "210, (1, 96, 96, 3) - true label: 2 vs 0\n",
      "Prediction: 2 derived from [  0   0 255]\n",
      "211, (1, 96, 96, 3) - true label: 2 vs 0\n",
      "Prediction: 2 derived from [  0   0 255]\n",
      "212, (1, 96, 96, 3) - true label: 2 vs 0\n",
      "Prediction: 2 derived from [  0   0 255]\n",
      "213, (1, 96, 96, 3) - true label: 2 vs 0\n",
      "Prediction: 2 derived from [  0   0 255]\n",
      "214, (1, 96, 96, 3) - true label: 2 vs 0\n",
      "Prediction: 2 derived from [  0   0 255]\n",
      "215, (1, 96, 96, 3) - true label: 2 vs 0\n",
      "Prediction: 2 derived from [  0   0 255]\n",
      "216, (1, 96, 96, 3) - true label: 2 vs 0\n",
      "Prediction: 2 derived from [  0   0 255]\n",
      "217, (1, 96, 96, 3) - true label: 2 vs 0\n",
      "Prediction: 2 derived from [  2   0 254]\n",
      "218, (1, 96, 96, 3) - true label: 2 vs 0\n",
      "Prediction: 2 derived from [  0   0 255]\n",
      "219, (1, 96, 96, 3) - true label: 2 vs 0\n",
      "Prediction: 2 derived from [  0   0 255]\n",
      "220, (1, 96, 96, 3) - true label: 2 vs 0\n",
      "Prediction: 2 derived from [  0   0 255]\n",
      "221, (1, 96, 96, 3) - true label: 2 vs 0\n",
      "Prediction: 2 derived from [  0   0 255]\n",
      "222, (1, 96, 96, 3) - true label: 2 vs 0\n",
      "Prediction: 2 derived from [  0   0 255]\n",
      "223, (1, 96, 96, 3) - true label: 2 vs 0\n",
      "Prediction: 0 derived from [201   0  55]\n",
      "224, (1, 96, 96, 3) - true label: 2 vs 0\n",
      "Prediction: 2 derived from [  2   0 254]\n",
      "225, (1, 96, 96, 3) - true label: 2 vs 0\n",
      "Prediction: 2 derived from [  0   0 255]\n",
      "226, (1, 96, 96, 3) - true label: 2 vs 0\n",
      "Prediction: 2 derived from [  1   0 255]\n",
      "227, (1, 96, 96, 3) - true label: 2 vs 0\n",
      "Prediction: 2 derived from [  0   0 255]\n",
      "228, (1, 96, 96, 3) - true label: 2 vs 0\n",
      "Prediction: 2 derived from [  0   0 255]\n",
      "229, (1, 96, 96, 3) - true label: 2 vs 0\n",
      "Prediction: 2 derived from [  4   0 251]\n",
      "230, (1, 96, 96, 3) - true label: 2 vs 0\n",
      "Prediction: 2 derived from [  0   0 255]\n",
      "231, (1, 96, 96, 3) - true label: 2 vs 0\n",
      "Prediction: 2 derived from [  0   0 255]\n",
      "232, (1, 96, 96, 3) - true label: 2 vs 0\n",
      "Prediction: 2 derived from [  1   0 255]\n",
      "233, (1, 96, 96, 3) - true label: 2 vs 0\n",
      "Prediction: 2 derived from [ 38   0 218]\n",
      "234, (1, 96, 96, 3) - true label: 2 vs 0\n",
      "Prediction: 2 derived from [  2   0 254]\n",
      "235, (1, 96, 96, 3) - true label: 2 vs 0\n",
      "Prediction: 2 derived from [  0   0 255]\n",
      "236, (1, 96, 96, 3) - true label: 2 vs 0\n",
      "Prediction: 2 derived from [  1   0 255]\n",
      "237, (1, 96, 96, 3) - true label: 2 vs 0\n",
      "Prediction: 2 derived from [  5   0 251]\n",
      "238, (1, 96, 96, 3) - true label: 2 vs 0\n",
      "Prediction: 2 derived from [  0   0 255]\n",
      "239, (1, 96, 96, 3) - true label: 2 vs 0\n",
      "Prediction: 2 derived from [  0   0 255]\n",
      "240, (1, 96, 96, 3) - true label: 2 vs 0\n",
      "Prediction: 2 derived from [  0   0 255]\n",
      "241, (1, 96, 96, 3) - true label: 2 vs 0\n",
      "Prediction: 0 derived from [143   2 111]\n",
      "242, (1, 96, 96, 3) - true label: 2 vs 0\n",
      "Prediction: 2 derived from [  0   0 255]\n",
      "243, (1, 96, 96, 3) - true label: 2 vs 0\n",
      "Prediction: 2 derived from [  0   0 255]\n",
      "244, (1, 96, 96, 3) - true label: 2 vs 0\n",
      "Prediction: 2 derived from [  0   0 255]\n",
      "245, (1, 96, 96, 3) - true label: 2 vs 0\n",
      "Prediction: 2 derived from [  0   0 255]\n",
      "246, (1, 96, 96, 3) - true label: 2 vs 0\n",
      "Prediction: 0 derived from [252   0   4]\n",
      "247, (1, 96, 96, 3) - true label: 2 vs 0\n",
      "Prediction: 2 derived from [  0   0 255]\n",
      "248, (1, 96, 96, 3) - true label: 2 vs 0\n",
      "Prediction: 2 derived from [  0   0 255]\n",
      "249, (1, 96, 96, 3) - true label: 2 vs 0\n",
      "Prediction: 0 derived from [144   0 112]\n",
      "250, (1, 96, 96, 3) - true label: 2 vs 0\n",
      "Prediction: 2 derived from [  3   0 253]\n",
      "251, (1, 96, 96, 3) - true label: 2 vs 0\n",
      "Prediction: 2 derived from [  0   0 255]\n",
      "252, (1, 96, 96, 3) - true label: 2 vs 0\n",
      "Prediction: 0 derived from [201   0  55]\n",
      "253, (1, 96, 96, 3) - true label: 2 vs 0\n",
      "Prediction: 0 derived from [255   0   1]\n",
      "254, (1, 96, 96, 3) - true label: 2 vs 0\n",
      "Accuracy: 0.0 - (Number of test samples: 255)\n"
     ]
    }
   ],
   "source": [
    "preds, trues = tflite_predict_on_dataset(models_tflite_opt_path, test_ds)"
   ]
  },
  {
   "cell_type": "code",
   "execution_count": 188,
   "metadata": {},
   "outputs": [
    {
     "data": {
      "text/plain": [
       "[0,\n",
       " 0,\n",
       " 0,\n",
       " 0,\n",
       " 0,\n",
       " 0,\n",
       " 0,\n",
       " 0,\n",
       " 0,\n",
       " 0,\n",
       " 0,\n",
       " 0,\n",
       " 0,\n",
       " 0,\n",
       " 0,\n",
       " 0,\n",
       " 0,\n",
       " 0,\n",
       " 0,\n",
       " 0,\n",
       " 0,\n",
       " 0,\n",
       " 0,\n",
       " 0,\n",
       " 0,\n",
       " 0,\n",
       " 0,\n",
       " 0,\n",
       " 0,\n",
       " 0,\n",
       " 0,\n",
       " 0,\n",
       " 0,\n",
       " 0,\n",
       " 0,\n",
       " 0,\n",
       " 0,\n",
       " 0,\n",
       " 0,\n",
       " 0,\n",
       " 0,\n",
       " 0,\n",
       " 0,\n",
       " 0,\n",
       " 0,\n",
       " 0,\n",
       " 0,\n",
       " 0,\n",
       " 0,\n",
       " 0,\n",
       " 0,\n",
       " 0,\n",
       " 0,\n",
       " 0,\n",
       " 0,\n",
       " 0,\n",
       " 0,\n",
       " 0,\n",
       " 0,\n",
       " 0,\n",
       " 0,\n",
       " 0,\n",
       " 1,\n",
       " 0,\n",
       " 0,\n",
       " 0,\n",
       " 0,\n",
       " 0,\n",
       " 0,\n",
       " 0,\n",
       " 0,\n",
       " 0,\n",
       " 2,\n",
       " 0,\n",
       " 0,\n",
       " 0,\n",
       " 0,\n",
       " 0,\n",
       " 0,\n",
       " 0,\n",
       " 0,\n",
       " 0,\n",
       " 0,\n",
       " 0,\n",
       " 0,\n",
       " 0,\n",
       " 0,\n",
       " 0,\n",
       " 0,\n",
       " 0,\n",
       " 0,\n",
       " 0,\n",
       " 0,\n",
       " 0,\n",
       " 0,\n",
       " 0,\n",
       " 1,\n",
       " 1,\n",
       " 1,\n",
       " 1,\n",
       " 1,\n",
       " 1,\n",
       " 1,\n",
       " 1,\n",
       " 1,\n",
       " 1,\n",
       " 1,\n",
       " 1,\n",
       " 1,\n",
       " 1,\n",
       " 1,\n",
       " 1,\n",
       " 1,\n",
       " 1,\n",
       " 1,\n",
       " 1,\n",
       " 1,\n",
       " 1,\n",
       " 1,\n",
       " 1,\n",
       " 1,\n",
       " 1,\n",
       " 1,\n",
       " 1,\n",
       " 1,\n",
       " 1,\n",
       " 1,\n",
       " 1,\n",
       " 1,\n",
       " 1,\n",
       " 1,\n",
       " 1,\n",
       " 1,\n",
       " 1,\n",
       " 1,\n",
       " 1,\n",
       " 1,\n",
       " 1,\n",
       " 1,\n",
       " 1,\n",
       " 1,\n",
       " 1,\n",
       " 2,\n",
       " 2,\n",
       " 2,\n",
       " 2,\n",
       " 2,\n",
       " 2,\n",
       " 2,\n",
       " 2,\n",
       " 2,\n",
       " 2,\n",
       " 2,\n",
       " 2,\n",
       " 2,\n",
       " 2,\n",
       " 2,\n",
       " 2,\n",
       " 2,\n",
       " 2,\n",
       " 0,\n",
       " 2,\n",
       " 2,\n",
       " 2,\n",
       " 2,\n",
       " 2,\n",
       " 2,\n",
       " 2,\n",
       " 2,\n",
       " 2,\n",
       " 2,\n",
       " 2,\n",
       " 2,\n",
       " 2,\n",
       " 2,\n",
       " 2,\n",
       " 2,\n",
       " 2,\n",
       " 2,\n",
       " 2,\n",
       " 2,\n",
       " 2,\n",
       " 2,\n",
       " 2,\n",
       " 2,\n",
       " 2,\n",
       " 2,\n",
       " 2,\n",
       " 2,\n",
       " 2,\n",
       " 2,\n",
       " 2,\n",
       " 2,\n",
       " 2,\n",
       " 2,\n",
       " 2,\n",
       " 2,\n",
       " 2,\n",
       " 2,\n",
       " 2,\n",
       " 2,\n",
       " 2,\n",
       " 2,\n",
       " 2,\n",
       " 2,\n",
       " 2,\n",
       " 2,\n",
       " 2,\n",
       " 2,\n",
       " 2,\n",
       " 2,\n",
       " 2,\n",
       " 2,\n",
       " 2,\n",
       " 2,\n",
       " 2,\n",
       " 2,\n",
       " 2,\n",
       " 2,\n",
       " 2,\n",
       " 2,\n",
       " 2,\n",
       " 2,\n",
       " 2,\n",
       " 0,\n",
       " 2,\n",
       " 2,\n",
       " 2,\n",
       " 2,\n",
       " 2,\n",
       " 2,\n",
       " 2,\n",
       " 2,\n",
       " 2,\n",
       " 2,\n",
       " 2,\n",
       " 2,\n",
       " 2,\n",
       " 2,\n",
       " 2,\n",
       " 2,\n",
       " 2,\n",
       " 0,\n",
       " 2,\n",
       " 2,\n",
       " 2,\n",
       " 2,\n",
       " 0,\n",
       " 2,\n",
       " 2,\n",
       " 0,\n",
       " 2,\n",
       " 2,\n",
       " 0,\n",
       " 0]"
      ]
     },
     "execution_count": 188,
     "metadata": {},
     "output_type": "execute_result"
    }
   ],
   "source": [
    "preds"
   ]
  },
  {
   "cell_type": "code",
   "execution_count": null,
   "metadata": {},
   "outputs": [],
   "source": [
    "accuracy = (np.sum(preds == trues) * 100) / len(test_images)"
   ]
  },
  {
   "cell_type": "code",
   "execution_count": null,
   "metadata": {},
   "outputs": [],
   "source": [
    "# Helper function to evaluate a TFLite model on all images\n",
    "def evaluate_model(tflite_file, model_type):\n",
    "  global test_images\n",
    "  global test_labels\n",
    "\n",
    "  test_image_indices = range(test_images.shape[0])\n",
    "  predictions = run_tflite_model(tflite_file, test_image_indices)\n",
    "\n",
    "  accuracy = (np.sum(test_labels== predictions) * 100) / len(test_images)\n",
    "\n",
    "  print('%s model accuracy is %.4f%% (Number of test samples=%d)' % (\n",
    "      model_type, accuracy, len(test_images)))"
   ]
  },
  {
   "cell_type": "code",
   "execution_count": 96,
   "metadata": {},
   "outputs": [
    {
     "data": {
      "text/plain": [
       "{'name': 'serving_default_input_1:0',\n",
       " 'index': 0,\n",
       " 'shape': array([ 1, 96, 96,  3]),\n",
       " 'shape_signature': array([-1, 96, 96,  3]),\n",
       " 'dtype': numpy.int8,\n",
       " 'quantization': (0.003921568859368563, 127),\n",
       " 'quantization_parameters': {'scales': array([0.00392157], dtype=float32),\n",
       "  'zero_points': array([127]),\n",
       "  'quantized_dimension': 0},\n",
       " 'sparsity_parameters': {}}"
      ]
     },
     "execution_count": 96,
     "metadata": {},
     "output_type": "execute_result"
    }
   ],
   "source": [
    "input_details"
   ]
  },
  {
   "cell_type": "code",
   "execution_count": 89,
   "metadata": {},
   "outputs": [],
   "source": [
    "# code copied from: https://www.tensorflow.org/lite/performance/post_training_integer_quant\n",
    "\n",
    "# Helper function to run inference on a TFLite model\n",
    "def run_tflite_model(tflite_file, test_image_indices):\n",
    "  global test_images\n",
    "\n",
    "  # Initialize the interpreter\n",
    "  interpreter = tf.lite.Interpreter(model_path=str(tflite_file))\n",
    "  interpreter.allocate_tensors()\n",
    "\n",
    "  input_details = interpreter.get_input_details()[0]\n",
    "  output_details = interpreter.get_output_details()[0]\n"
   ]
  },
  {
   "cell_type": "code",
   "execution_count": null,
   "metadata": {},
   "outputs": [],
   "source": [
    "\n",
    "  predictions = np.zeros((len(test_image_indices),), dtype=int)\n",
    "  for i, test_image_index in enumerate(test_image_indices):\n",
    "    test_image = test_images[test_image_index]\n",
    "    test_label = test_labels[test_image_index]\n",
    "\n",
    "    # Check if the input type is quantized, then rescale input data to uint8\n",
    "    if input_details['dtype'] == np.uint8:\n",
    "      input_scale, input_zero_point = input_details[\"quantization\"]\n",
    "      test_image = test_image / input_scale + input_zero_point\n",
    "\n",
    "    test_image = np.expand_dims(test_image, axis=0).astype(input_details[\"dtype\"])\n",
    "    interpreter.set_tensor(input_details[\"index\"], test_image)\n",
    "    interpreter.invoke()\n",
    "    output = interpreter.get_tensor(output_details[\"index\"])[0]\n",
    "\n",
    "    predictions[i] = output.argmax()\n",
    "\n",
    "  return predictions"
   ]
  },
  {
   "attachments": {},
   "cell_type": "markdown",
   "metadata": {},
   "source": [
    "# Model evaluation"
   ]
  },
  {
   "cell_type": "code",
   "execution_count": 35,
   "metadata": {},
   "outputs": [
    {
     "name": "stdout",
     "output_type": "stream",
     "text": [
      "Evaluate on test data\n",
      "8/8 [==============================] - 0s 15ms/step - loss: 0.1044 - accuracy: 0.9490\n",
      "test loss, test acc: [0.10444378107786179, 0.9490196108818054]\n"
     ]
    }
   ],
   "source": [
    "# Evaluate the model on the test data using `evaluate`\n",
    "print(\"Evaluate on test data\")\n",
    "results = model.evaluate(test_ds, batch_size=BATCH_SIZE)\n",
    "print(\"test loss, test acc:\", results)\n",
    "\n",
    "# Generate predictions (probabilities -- the output of the last layer)\n",
    "# on new data using `predict`\n",
    "# print(\"Generate predictions for 3 samples\")\n",
    "# predictions = model.predict(x_test[:3])\n",
    "# print(\"predictions shape:\", predictions.shape)"
   ]
  },
  {
   "cell_type": "code",
   "execution_count": 36,
   "metadata": {},
   "outputs": [],
   "source": [
    "# entity = \"susbrock\"\n",
    "\n",
    "\n",
    "# run = api.run(f\"{entity}/{PROJECT}/{run_id}\")\n",
    "# run.summary[\"test_accuracy\"] = results[1]\n",
    "# run.summary[\"test_loss\"] = results[0]\n",
    "# run.summary.update()"
   ]
  },
  {
   "cell_type": "code",
   "execution_count": 37,
   "metadata": {},
   "outputs": [
    {
     "data": {
      "text/plain": [
       "[0.10444378107786179, 0.9490196108818054]"
      ]
     },
     "execution_count": 37,
     "metadata": {},
     "output_type": "execute_result"
    }
   ],
   "source": [
    "results"
   ]
  },
  {
   "cell_type": "code",
   "execution_count": 38,
   "metadata": {},
   "outputs": [],
   "source": [
    "scores = model.evaluate(test_ds, verbose=0)"
   ]
  },
  {
   "cell_type": "code",
   "execution_count": 39,
   "metadata": {},
   "outputs": [
    {
     "data": {
      "text/plain": [
       "[0.10444378107786179, 0.9490196108818054]"
      ]
     },
     "execution_count": 39,
     "metadata": {},
     "output_type": "execute_result"
    }
   ],
   "source": [
    "scores"
   ]
  },
  {
   "cell_type": "code",
   "execution_count": 40,
   "metadata": {},
   "outputs": [
    {
     "data": {
      "text/plain": [
       "['loss', 'accuracy']"
      ]
     },
     "execution_count": 40,
     "metadata": {},
     "output_type": "execute_result"
    }
   ],
   "source": [
    "model.metrics_names"
   ]
  },
  {
   "cell_type": "code",
   "execution_count": 41,
   "metadata": {},
   "outputs": [
    {
     "name": "stdout",
     "output_type": "stream",
     "text": [
      "8/8 [==============================] - 0s 14ms/step\n"
     ]
    },
    {
     "data": {
      "text/plain": [
       "array([[9.94245350e-01, 1.25133738e-04, 5.62951015e-03],\n",
       "       [9.98880327e-01, 1.68906681e-05, 1.10280362e-03],\n",
       "       [9.97094631e-01, 1.94407854e-04, 2.71096290e-03],\n",
       "       [9.96474087e-01, 5.77780665e-05, 3.46820033e-03],\n",
       "       [9.41265285e-01, 3.47004714e-03, 5.52647412e-02],\n",
       "       [9.89815831e-01, 2.57140520e-04, 9.92704183e-03],\n",
       "       [9.96301413e-01, 3.91764152e-05, 3.65940249e-03],\n",
       "       [4.99306262e-01, 5.42357098e-03, 4.95270193e-01],\n",
       "       [9.87599134e-01, 7.28574290e-04, 1.16723338e-02],\n",
       "       [9.99050558e-01, 3.10949908e-05, 9.18365025e-04],\n",
       "       [4.43278879e-01, 2.18170416e-03, 5.54539382e-01],\n",
       "       [9.88421202e-01, 3.48973786e-04, 1.12298680e-02],\n",
       "       [9.89429295e-01, 4.42296965e-04, 1.01284068e-02],\n",
       "       [9.99645829e-01, 5.85391263e-06, 3.48375994e-04],\n",
       "       [9.84614670e-01, 7.49058905e-04, 1.46362195e-02],\n",
       "       [9.66559350e-01, 7.74628716e-04, 3.26660536e-02],\n",
       "       [9.92947340e-01, 4.17776580e-04, 6.63494365e-03],\n",
       "       [8.96689057e-01, 3.41575849e-03, 9.98951197e-02],\n",
       "       [8.56521845e-01, 7.99878908e-04, 1.42678231e-01],\n",
       "       [9.60446596e-01, 8.27171782e-04, 3.87261212e-02],\n",
       "       [7.19163179e-01, 4.48951125e-03, 2.76347309e-01],\n",
       "       [9.91507113e-01, 2.69763317e-04, 8.22315179e-03],\n",
       "       [9.07712698e-01, 1.57137134e-03, 9.07158628e-02],\n",
       "       [9.98010814e-01, 2.76418541e-05, 1.96166639e-03],\n",
       "       [9.28781927e-01, 1.44395675e-03, 6.97740987e-02],\n",
       "       [9.97197270e-01, 5.71213677e-05, 2.74555152e-03],\n",
       "       [9.95608985e-01, 2.14558007e-04, 4.17640340e-03],\n",
       "       [1.93736870e-02, 5.42766706e-04, 9.80083585e-01],\n",
       "       [9.99880195e-01, 1.92678635e-06, 1.17902120e-04],\n",
       "       [9.95990694e-01, 4.55640402e-05, 3.96367256e-03],\n",
       "       [5.33699572e-01, 9.23749432e-03, 4.57062870e-01],\n",
       "       [9.90967810e-01, 2.13202933e-04, 8.81899148e-03],\n",
       "       [9.93115962e-01, 5.35157800e-04, 6.34899875e-03],\n",
       "       [9.68734145e-01, 2.10555224e-03, 2.91603021e-02],\n",
       "       [8.75004053e-01, 4.86777211e-03, 1.20128199e-01],\n",
       "       [9.97312069e-01, 2.90276130e-05, 2.65890243e-03],\n",
       "       [9.98317122e-01, 1.87856040e-05, 1.66409090e-03],\n",
       "       [9.97288227e-01, 3.60671293e-05, 2.67573935e-03],\n",
       "       [9.99221802e-01, 3.02466142e-05, 7.47922342e-04],\n",
       "       [9.92505372e-01, 4.19152668e-04, 7.07544899e-03],\n",
       "       [9.81561840e-01, 7.60725874e-04, 1.76774822e-02],\n",
       "       [4.62343901e-01, 3.40487971e-03, 5.34251213e-01],\n",
       "       [9.99221921e-01, 6.75388073e-05, 7.10563792e-04],\n",
       "       [9.62325096e-01, 9.17797349e-03, 2.84968782e-02],\n",
       "       [9.81695175e-01, 2.36342821e-04, 1.80683918e-02],\n",
       "       [8.66096437e-01, 8.90177581e-03, 1.25001878e-01],\n",
       "       [9.95730102e-01, 2.76037492e-04, 3.99384182e-03],\n",
       "       [9.98009145e-01, 4.99686212e-05, 1.94095320e-03],\n",
       "       [9.79459465e-01, 3.41286854e-04, 2.01992039e-02],\n",
       "       [9.99645948e-01, 1.07347187e-05, 3.43274703e-04],\n",
       "       [9.64389622e-01, 1.71952182e-03, 3.38909067e-02],\n",
       "       [9.99748170e-01, 1.02494250e-05, 2.41569360e-04],\n",
       "       [9.85620379e-01, 2.64426286e-04, 1.41151147e-02],\n",
       "       [9.96734917e-01, 2.31154809e-05, 3.24185053e-03],\n",
       "       [9.89323795e-01, 1.53968300e-04, 1.05222156e-02],\n",
       "       [9.95335877e-01, 1.17812357e-04, 4.54627490e-03],\n",
       "       [9.99070764e-01, 2.10577746e-05, 9.08151269e-04],\n",
       "       [9.97098565e-01, 3.64758380e-05, 2.86501693e-03],\n",
       "       [9.99531388e-01, 2.74274203e-06, 4.65914112e-04],\n",
       "       [9.75528419e-01, 8.18890112e-04, 2.36526355e-02],\n",
       "       [9.88013744e-01, 5.02845272e-04, 1.14834560e-02],\n",
       "       [8.12005162e-01, 4.94493078e-03, 1.83049887e-01],\n",
       "       [4.04434532e-01, 5.86002648e-01, 9.56287421e-03],\n",
       "       [9.90356743e-01, 3.33756790e-04, 9.30942409e-03],\n",
       "       [9.99548256e-01, 1.37369534e-05, 4.38014948e-04],\n",
       "       [9.90973651e-01, 9.77363525e-05, 8.92866030e-03],\n",
       "       [9.90029752e-01, 4.11446410e-04, 9.55885090e-03],\n",
       "       [9.99328852e-01, 1.64112116e-05, 6.54755102e-04],\n",
       "       [8.19273770e-01, 3.00215790e-03, 1.77724138e-01],\n",
       "       [9.81271684e-01, 2.44455092e-04, 1.84838288e-02],\n",
       "       [9.54595923e-01, 6.35208446e-04, 4.47688252e-02],\n",
       "       [9.56767142e-01, 1.02385571e-02, 3.29943411e-02],\n",
       "       [2.88290739e-01, 5.82451234e-03, 7.05884695e-01],\n",
       "       [9.89585936e-01, 2.70493212e-04, 1.01435930e-02],\n",
       "       [9.99844909e-01, 1.48163008e-06, 1.53631307e-04],\n",
       "       [9.98078465e-01, 2.79110427e-05, 1.89357030e-03],\n",
       "       [9.93248105e-01, 2.83875997e-04, 6.46793563e-03],\n",
       "       [9.99176204e-01, 1.18844846e-05, 8.11883423e-04],\n",
       "       [9.97605085e-01, 5.95573292e-05, 2.33535701e-03],\n",
       "       [9.97956634e-01, 4.85644014e-05, 1.99476955e-03],\n",
       "       [9.73781228e-01, 1.31984722e-04, 2.60867700e-02],\n",
       "       [9.67940509e-01, 6.18309947e-04, 3.14410925e-02],\n",
       "       [9.99868035e-01, 1.68726342e-06, 1.30302185e-04],\n",
       "       [9.34003830e-01, 7.54616573e-04, 6.52416050e-02],\n",
       "       [9.96379912e-01, 4.68586877e-05, 3.57324211e-03],\n",
       "       [7.41270781e-01, 3.89431790e-03, 2.54834920e-01],\n",
       "       [9.57613826e-01, 9.09703027e-04, 4.14765105e-02],\n",
       "       [9.95845854e-01, 1.12773530e-04, 4.04136721e-03],\n",
       "       [9.87349153e-01, 5.41113666e-04, 1.21097779e-02],\n",
       "       [9.99485493e-01, 2.92391760e-05, 4.85322758e-04],\n",
       "       [9.80435133e-01, 5.88433584e-04, 1.89763382e-02],\n",
       "       [9.99755323e-01, 2.90562002e-06, 2.41760761e-04],\n",
       "       [9.89301145e-01, 1.06694773e-04, 1.05920676e-02],\n",
       "       [9.98156488e-01, 7.00181554e-05, 1.77351641e-03],\n",
       "       [9.96533513e-01, 5.27615048e-05, 3.41372937e-03],\n",
       "       [9.60459709e-01, 7.94189633e-04, 3.87460999e-02],\n",
       "       [4.04113634e-05, 9.99922991e-01, 3.65504275e-05],\n",
       "       [1.38278221e-04, 9.99778807e-01, 8.29116034e-05],\n",
       "       [3.12212724e-05, 9.99933004e-01, 3.57619938e-05],\n",
       "       [2.60105608e-05, 9.99953151e-01, 2.08768452e-05],\n",
       "       [6.21629588e-05, 9.99894738e-01, 4.30421096e-05],\n",
       "       [6.85174891e-05, 9.99861002e-01, 7.04542108e-05],\n",
       "       [5.71049750e-05, 9.99887466e-01, 5.54576764e-05],\n",
       "       [3.26976115e-05, 9.99935508e-01, 3.17927770e-05],\n",
       "       [7.73615684e-05, 9.99848962e-01, 7.36680013e-05],\n",
       "       [3.44747095e-05, 9.99913454e-01, 5.20985195e-05],\n",
       "       [9.31488248e-05, 9.99855876e-01, 5.08829035e-05],\n",
       "       [6.09805466e-05, 9.99891639e-01, 4.73392611e-05],\n",
       "       [2.39008568e-05, 9.99956608e-01, 1.94575332e-05],\n",
       "       [2.99720559e-05, 9.99954224e-01, 1.58278199e-05],\n",
       "       [2.32941693e-05, 9.99939322e-01, 3.74679075e-05],\n",
       "       [1.07165426e-04, 9.99825776e-01, 6.70509035e-05],\n",
       "       [1.59676862e-03, 9.97830093e-01, 5.73133701e-04],\n",
       "       [9.55875512e-05, 9.99834538e-01, 6.97943688e-05],\n",
       "       [2.06833338e-05, 9.99962926e-01, 1.63158966e-05],\n",
       "       [7.51311716e-04, 9.97681737e-01, 1.56692707e-03],\n",
       "       [1.22258891e-04, 9.99760807e-01, 1.16904710e-04],\n",
       "       [3.84719424e-05, 9.99929786e-01, 3.17019185e-05],\n",
       "       [8.65376860e-05, 9.99838114e-01, 7.52945998e-05],\n",
       "       [1.02339902e-04, 9.99835134e-01, 6.24504610e-05],\n",
       "       [8.50766810e-05, 9.99851465e-01, 6.34387034e-05],\n",
       "       [5.99864434e-05, 9.99894857e-01, 4.52115382e-05],\n",
       "       [6.29960632e-05, 9.99902010e-01, 3.49634174e-05],\n",
       "       [3.62378087e-05, 9.99920845e-01, 4.29386855e-05],\n",
       "       [5.46282172e-05, 9.99905109e-01, 4.02766345e-05],\n",
       "       [2.09702106e-04, 9.99654174e-01, 1.36037750e-04],\n",
       "       [7.40780742e-05, 9.99831438e-01, 9.43477644e-05],\n",
       "       [4.60253359e-05, 9.99891281e-01, 6.27201152e-05],\n",
       "       [4.25118124e-05, 9.99909997e-01, 4.73941145e-05],\n",
       "       [1.80316674e-05, 9.99962687e-01, 1.92758398e-05],\n",
       "       [3.10778087e-05, 9.99941230e-01, 2.75954008e-05],\n",
       "       [6.74966868e-05, 9.99866128e-01, 6.63734900e-05],\n",
       "       [3.45239605e-05, 9.99937296e-01, 2.81086068e-05],\n",
       "       [2.59589524e-05, 9.99953508e-01, 2.04979078e-05],\n",
       "       [6.02487416e-05, 9.99900579e-01, 3.92110742e-05],\n",
       "       [4.65492085e-05, 9.99918699e-01, 3.47332898e-05],\n",
       "       [4.69169681e-05, 9.99891639e-01, 6.14366727e-05],\n",
       "       [2.71825265e-05, 9.99944091e-01, 2.87636376e-05],\n",
       "       [2.15606815e-05, 9.99947667e-01, 3.07365699e-05],\n",
       "       [1.26517873e-04, 9.99797165e-01, 7.63136850e-05],\n",
       "       [1.07945096e-04, 9.99794424e-01, 9.76581941e-05],\n",
       "       [7.96563181e-05, 9.99830961e-01, 8.94295954e-05],\n",
       "       [3.17599392e-03, 2.28829289e-04, 9.96595204e-01],\n",
       "       [6.37462437e-01, 4.58565354e-03, 3.57951939e-01],\n",
       "       [9.82099329e-04, 6.12710210e-05, 9.98956561e-01],\n",
       "       [6.84275932e-04, 6.10124662e-05, 9.99254644e-01],\n",
       "       [1.66755053e-03, 4.08766027e-05, 9.98291552e-01],\n",
       "       [1.06916847e-02, 2.52769183e-04, 9.89055514e-01],\n",
       "       [1.54055509e-04, 1.70261374e-05, 9.99828935e-01],\n",
       "       [7.62129866e-06, 7.75837066e-07, 9.99991655e-01],\n",
       "       [1.75489884e-04, 3.71230863e-06, 9.99820769e-01],\n",
       "       [1.10086921e-05, 5.57893600e-07, 9.99988437e-01],\n",
       "       [4.27620080e-06, 2.33818341e-07, 9.99995470e-01],\n",
       "       [1.16965666e-05, 4.45877674e-07, 9.99987841e-01],\n",
       "       [6.48421347e-02, 1.94744309e-04, 9.34963107e-01],\n",
       "       [1.70024257e-04, 4.57273200e-06, 9.99825418e-01],\n",
       "       [4.30902513e-03, 3.43727123e-04, 9.95347202e-01],\n",
       "       [5.16594760e-02, 3.13279947e-04, 9.48027253e-01],\n",
       "       [3.64043353e-06, 6.75115501e-08, 9.99996305e-01],\n",
       "       [5.55546256e-04, 6.50211132e-06, 9.99437988e-01],\n",
       "       [5.11421919e-01, 1.86353251e-02, 4.69942808e-01],\n",
       "       [7.24356578e-05, 7.42777729e-07, 9.99926805e-01],\n",
       "       [9.41364675e-08, 2.32581288e-09, 9.99999881e-01],\n",
       "       [6.92753401e-03, 9.18222577e-06, 9.93063271e-01],\n",
       "       [1.59605220e-03, 5.42076305e-05, 9.98349786e-01],\n",
       "       [1.06649146e-04, 3.43083479e-06, 9.99889851e-01],\n",
       "       [1.71312729e-06, 1.21849453e-07, 9.99998212e-01],\n",
       "       [2.22710965e-04, 5.97761828e-05, 9.99717534e-01],\n",
       "       [3.64481784e-05, 3.02850140e-06, 9.99960542e-01],\n",
       "       [1.50542728e-05, 3.36031849e-06, 9.99981642e-01],\n",
       "       [1.46663042e-05, 1.34905861e-06, 9.99984026e-01],\n",
       "       [7.01156631e-03, 5.29643323e-04, 9.92458761e-01],\n",
       "       [4.35860493e-05, 6.17980004e-06, 9.99950290e-01],\n",
       "       [3.59236728e-05, 1.63313098e-06, 9.99962449e-01],\n",
       "       [1.39251306e-05, 2.47653384e-06, 9.99983549e-01],\n",
       "       [7.94382126e-04, 1.95357334e-05, 9.99186099e-01],\n",
       "       [4.89258264e-06, 1.75782020e-07, 9.99994874e-01],\n",
       "       [6.12493750e-06, 1.55882034e-07, 9.99993682e-01],\n",
       "       [3.17083213e-05, 1.44212754e-06, 9.99966860e-01],\n",
       "       [1.94083306e-03, 1.54393713e-03, 9.96515155e-01],\n",
       "       [7.75856137e-01, 2.24226993e-03, 2.21901551e-01],\n",
       "       [1.53734727e-05, 3.38310400e-07, 9.99984264e-01],\n",
       "       [2.72450234e-05, 1.79137135e-06, 9.99970913e-01],\n",
       "       [2.66129180e-04, 4.30729051e-05, 9.99690771e-01],\n",
       "       [1.03459584e-04, 1.75127698e-05, 9.99879003e-01],\n",
       "       [1.11710047e-04, 8.72440978e-06, 9.99879599e-01],\n",
       "       [6.68308837e-03, 2.86903523e-04, 9.93030012e-01],\n",
       "       [1.36543354e-02, 1.31802444e-04, 9.86213863e-01],\n",
       "       [2.04600543e-02, 6.05775043e-04, 9.78934109e-01],\n",
       "       [9.72263570e-06, 8.75436172e-07, 9.99989390e-01],\n",
       "       [1.15406904e-02, 6.94495975e-04, 9.87764776e-01],\n",
       "       [9.79250018e-03, 1.05809078e-04, 9.90101695e-01],\n",
       "       [5.55946608e-05, 3.50724599e-06, 9.99940872e-01],\n",
       "       [5.50762974e-02, 1.96661754e-03, 9.42957044e-01],\n",
       "       [1.48252630e-05, 2.30528417e-06, 9.99982834e-01],\n",
       "       [6.22343388e-04, 1.50590504e-05, 9.99362648e-01],\n",
       "       [7.56035734e-05, 3.46958004e-05, 9.99889731e-01],\n",
       "       [3.00920874e-05, 7.26548387e-06, 9.99962687e-01],\n",
       "       [6.81904276e-05, 5.08897801e-06, 9.99926686e-01],\n",
       "       [1.35419343e-03, 7.59567638e-06, 9.98638213e-01],\n",
       "       [6.56536687e-03, 3.07642156e-04, 9.93126988e-01],\n",
       "       [9.10591771e-05, 3.50951086e-06, 9.99905467e-01],\n",
       "       [9.16804769e-04, 1.49342901e-04, 9.98933852e-01],\n",
       "       [8.49545759e-04, 1.06244979e-05, 9.99139786e-01],\n",
       "       [4.26947445e-05, 2.15098135e-06, 9.99955177e-01],\n",
       "       [3.13892679e-06, 2.69913670e-07, 9.99996543e-01],\n",
       "       [3.51706185e-05, 9.64045375e-06, 9.99955177e-01],\n",
       "       [2.71077897e-06, 2.09210739e-07, 9.99997139e-01],\n",
       "       [1.30646340e-05, 2.98691873e-07, 9.99986649e-01],\n",
       "       [2.96514954e-05, 6.78938295e-06, 9.99963522e-01],\n",
       "       [4.16681769e-06, 4.54698238e-07, 9.99995351e-01],\n",
       "       [5.04840318e-06, 1.38960240e-06, 9.99993563e-01],\n",
       "       [3.32502236e-06, 2.02217620e-08, 9.99996662e-01],\n",
       "       [2.29220313e-04, 5.28319242e-06, 9.99765456e-01],\n",
       "       [8.12316081e-04, 8.17682885e-05, 9.99105871e-01],\n",
       "       [2.72774942e-05, 3.80430060e-06, 9.99968886e-01],\n",
       "       [7.30897773e-06, 1.22572644e-07, 9.99992609e-01],\n",
       "       [7.78574872e-07, 2.25757717e-07, 9.99999046e-01],\n",
       "       [2.85793818e-03, 8.63278110e-05, 9.97055769e-01],\n",
       "       [8.73856916e-05, 6.50282391e-06, 9.99906063e-01],\n",
       "       [2.01040280e-06, 2.99912585e-07, 9.99997735e-01],\n",
       "       [3.99382589e-05, 2.14976922e-06, 9.99957919e-01],\n",
       "       [1.02935277e-01, 4.72909480e-04, 8.96591783e-01],\n",
       "       [5.58380270e-03, 7.64501456e-04, 9.93651628e-01],\n",
       "       [4.11767721e-01, 4.31800773e-03, 5.83914280e-01],\n",
       "       [4.29442502e-04, 1.34107831e-05, 9.99557078e-01],\n",
       "       [1.81135983e-05, 5.94734161e-07, 9.99981284e-01],\n",
       "       [1.53385568e-03, 2.49069308e-05, 9.98441279e-01],\n",
       "       [2.15276759e-06, 3.01256648e-07, 9.99997497e-01],\n",
       "       [1.04728527e-03, 6.28342968e-05, 9.98889863e-01],\n",
       "       [4.73937253e-03, 3.42408021e-05, 9.95226383e-01],\n",
       "       [5.84617783e-06, 7.62361253e-07, 9.99993443e-01],\n",
       "       [4.47814637e-05, 3.47562218e-06, 9.99951720e-01],\n",
       "       [2.22984483e-04, 1.66063237e-05, 9.99760449e-01],\n",
       "       [5.41020453e-01, 1.99691183e-03, 4.56982613e-01],\n",
       "       [8.01594520e-04, 6.63644314e-05, 9.99132097e-01],\n",
       "       [3.03637789e-04, 3.08197232e-05, 9.99665499e-01],\n",
       "       [1.29068689e-02, 4.72654829e-05, 9.87045884e-01],\n",
       "       [8.51028878e-03, 1.52268025e-04, 9.91337419e-01],\n",
       "       [8.40757457e-06, 1.26040021e-07, 9.99991417e-01],\n",
       "       [2.13689532e-06, 1.29213518e-07, 9.99997735e-01],\n",
       "       [1.15539751e-03, 3.83770384e-05, 9.98806238e-01],\n",
       "       [2.28256628e-01, 3.18989321e-03, 7.68553495e-01],\n",
       "       [1.60218030e-03, 7.31398859e-06, 9.98390555e-01],\n",
       "       [8.87220904e-06, 3.89626439e-06, 9.99987245e-01],\n",
       "       [2.21198352e-04, 9.72890393e-06, 9.99769032e-01],\n",
       "       [2.03277468e-05, 2.31515924e-06, 9.99977350e-01],\n",
       "       [8.72102559e-01, 9.82320751e-04, 1.26915082e-01],\n",
       "       [4.76872985e-04, 2.19553276e-05, 9.99501109e-01],\n",
       "       [9.76412965e-04, 2.16300396e-05, 9.99001920e-01],\n",
       "       [8.30118895e-01, 5.40191820e-03, 1.64479151e-01],\n",
       "       [2.55459570e-03, 5.43512542e-05, 9.97390985e-01],\n",
       "       [3.64794832e-05, 7.41082204e-07, 9.99962807e-01],\n",
       "       [8.49249899e-01, 3.16866860e-03, 1.47581413e-01],\n",
       "       [9.77422476e-01, 3.91415495e-04, 2.21861769e-02]], dtype=float32)"
      ]
     },
     "execution_count": 41,
     "metadata": {},
     "output_type": "execute_result"
    }
   ],
   "source": [
    "test_predictions = model.predict(test_ds)\n",
    "test_predictions"
   ]
  },
  {
   "cell_type": "code",
   "execution_count": 42,
   "metadata": {},
   "outputs": [
    {
     "data": {
      "text/plain": [
       "255"
      ]
     },
     "execution_count": 42,
     "metadata": {},
     "output_type": "execute_result"
    }
   ],
   "source": [
    "top_pred_ids = test_predictions.argmax(axis=1)\n",
    "len(top_pred_ids)"
   ]
  },
  {
   "cell_type": "code",
   "execution_count": 43,
   "metadata": {},
   "outputs": [
    {
     "data": {
      "text/plain": [
       "array([0, 0, 0, 0, 0, 0, 0, 0, 0, 0, 2, 0, 0, 0, 0, 0, 0, 0, 0, 0, 0, 0,\n",
       "       0, 0, 0, 0, 0, 2, 0, 0, 0, 0, 0, 0, 0, 0, 0, 0, 0, 0, 0, 2, 0, 0,\n",
       "       0, 0, 0, 0, 0, 0, 0, 0, 0, 0, 0, 0, 0, 0, 0, 0, 0, 0, 1, 0, 0, 0,\n",
       "       0, 0, 0, 0, 0, 0, 2, 0, 0, 0, 0, 0, 0, 0, 0, 0, 0, 0, 0, 0, 0, 0,\n",
       "       0, 0, 0, 0, 0, 0, 0, 0, 1, 1, 1, 1, 1, 1, 1, 1, 1, 1, 1, 1, 1, 1,\n",
       "       1, 1, 1, 1, 1, 1, 1, 1, 1, 1, 1, 1, 1, 1, 1, 1, 1, 1, 1, 1, 1, 1,\n",
       "       1, 1, 1, 1, 1, 1, 1, 1, 1, 1, 2, 0, 2, 2, 2, 2, 2, 2, 2, 2, 2, 2,\n",
       "       2, 2, 2, 2, 2, 2, 0, 2, 2, 2, 2, 2, 2, 2, 2, 2, 2, 2, 2, 2, 2, 2,\n",
       "       2, 2, 2, 2, 0, 2, 2, 2, 2, 2, 2, 2, 2, 2, 2, 2, 2, 2, 2, 2, 2, 2,\n",
       "       2, 2, 2, 2, 2, 2, 2, 2, 2, 2, 2, 2, 2, 2, 2, 2, 2, 2, 2, 2, 2, 2,\n",
       "       2, 2, 2, 2, 2, 2, 2, 2, 2, 2, 2, 2, 2, 2, 0, 2, 2, 2, 2, 2, 2, 2,\n",
       "       2, 2, 2, 2, 2, 0, 2, 2, 0, 2, 2, 0, 0], dtype=int64)"
      ]
     },
     "execution_count": 43,
     "metadata": {},
     "output_type": "execute_result"
    }
   ],
   "source": [
    "top_pred_ids"
   ]
  },
  {
   "cell_type": "code",
   "execution_count": 44,
   "metadata": {},
   "outputs": [
    {
     "data": {
      "text/plain": [
       "[<tf.Tensor: shape=(32,), dtype=int32, numpy=\n",
       " array([0, 0, 0, 0, 0, 0, 0, 0, 0, 0, 0, 0, 0, 0, 0, 0, 0, 0, 0, 0, 0, 0,\n",
       "        0, 0, 0, 0, 0, 0, 0, 0, 0, 0])>,\n",
       " <tf.Tensor: shape=(32,), dtype=int32, numpy=\n",
       " array([0, 0, 0, 0, 0, 0, 0, 0, 0, 0, 0, 0, 0, 0, 0, 0, 0, 0, 0, 0, 0, 0,\n",
       "        0, 0, 0, 0, 0, 0, 0, 0, 0, 0])>,\n",
       " <tf.Tensor: shape=(32,), dtype=int32, numpy=\n",
       " array([0, 0, 0, 0, 0, 0, 0, 0, 0, 0, 0, 0, 0, 0, 0, 0, 0, 0, 0, 0, 0, 0,\n",
       "        0, 0, 0, 0, 0, 0, 0, 0, 0, 0])>,\n",
       " <tf.Tensor: shape=(32,), dtype=int32, numpy=\n",
       " array([1, 1, 1, 1, 1, 1, 1, 1, 1, 1, 1, 1, 1, 1, 1, 1, 1, 1, 1, 1, 1, 1,\n",
       "        1, 1, 1, 1, 1, 1, 1, 1, 1, 1])>,\n",
       " <tf.Tensor: shape=(32,), dtype=int32, numpy=\n",
       " array([1, 1, 1, 1, 1, 1, 1, 1, 1, 1, 1, 1, 1, 1, 2, 2, 2, 2, 2, 2, 2, 2,\n",
       "        2, 2, 2, 2, 2, 2, 2, 2, 2, 2])>,\n",
       " <tf.Tensor: shape=(32,), dtype=int32, numpy=\n",
       " array([2, 2, 2, 2, 2, 2, 2, 2, 2, 2, 2, 2, 2, 2, 2, 2, 2, 2, 2, 2, 2, 2,\n",
       "        2, 2, 2, 2, 2, 2, 2, 2, 2, 2])>,\n",
       " <tf.Tensor: shape=(32,), dtype=int32, numpy=\n",
       " array([2, 2, 2, 2, 2, 2, 2, 2, 2, 2, 2, 2, 2, 2, 2, 2, 2, 2, 2, 2, 2, 2,\n",
       "        2, 2, 2, 2, 2, 2, 2, 2, 2, 2])>,\n",
       " <tf.Tensor: shape=(31,), dtype=int32, numpy=\n",
       " array([2, 2, 2, 2, 2, 2, 2, 2, 2, 2, 2, 2, 2, 2, 2, 2, 2, 2, 2, 2, 2, 2,\n",
       "        2, 2, 2, 2, 2, 2, 2, 2, 2])>]"
      ]
     },
     "execution_count": 44,
     "metadata": {},
     "output_type": "execute_result"
    }
   ],
   "source": [
    "y_true = [y for x, y in test_ds]\n",
    "y_true"
   ]
  },
  {
   "cell_type": "code",
   "execution_count": 45,
   "metadata": {},
   "outputs": [
    {
     "data": {
      "text/plain": [
       "255"
      ]
     },
     "execution_count": 45,
     "metadata": {},
     "output_type": "execute_result"
    }
   ],
   "source": [
    "y_true = np.concatenate([y for x, y in test_ds], axis=0)\n",
    "len(y_true)"
   ]
  },
  {
   "cell_type": "code",
   "execution_count": 46,
   "metadata": {},
   "outputs": [
    {
     "data": {
      "text/plain": [
       "<tf.Tensor: shape=(3, 3), dtype=int32, numpy=\n",
       "array([[ 91,   1,   4],\n",
       "       [  0,  46,   0],\n",
       "       [  8,   0, 105]])>"
      ]
     },
     "execution_count": 46,
     "metadata": {},
     "output_type": "execute_result"
    }
   ],
   "source": [
    "confusion_mtx = tf.math.confusion_matrix(y_true, top_pred_ids, num_classes=classes)\n",
    "    # list(ds_test.map(lambda x, y: y)),\n",
    "    # predict_class_label_number(test_data),\n",
    "    # num_classes=len(label_names))\n",
    "    \n",
    "confusion_mtx"
   ]
  },
  {
   "cell_type": "code",
   "execution_count": 47,
   "metadata": {},
   "outputs": [],
   "source": [
    "# sns.heatmap(confusion_mtx, xticklabels=labels, yticklabels=labels, \n",
    "#               annot=True, fmt='g')"
   ]
  },
  {
   "cell_type": "code",
   "execution_count": 48,
   "metadata": {},
   "outputs": [],
   "source": [
    "def show_confusion_matrix(cm, labels):\n",
    "  plt.figure(figsize=(6, 6))\n",
    "  sns.heatmap(cm, xticklabels=labels, yticklabels=labels, \n",
    "              annot=True, fmt='g')\n",
    "  plt.xlabel('Prediction')\n",
    "  plt.ylabel('Label')\n",
    "  plt.show()"
   ]
  },
  {
   "cell_type": "code",
   "execution_count": 49,
   "metadata": {},
   "outputs": [],
   "source": [
    "#show_confusion_matrix(confusion_mtx, labels)"
   ]
  },
  {
   "cell_type": "code",
   "execution_count": 50,
   "metadata": {},
   "outputs": [
    {
     "data": {
      "text/plain": [
       "array([0, 0, 0, 0, 0, 0, 0, 0, 0, 0, 2, 0, 0, 0, 0, 0, 0, 0, 0, 0, 0, 0,\n",
       "       0, 0, 0, 0, 0, 2, 0, 0, 0, 0, 0, 0, 0, 0, 0, 0, 0, 0, 0, 2, 0, 0,\n",
       "       0, 0, 0, 0, 0, 0, 0, 0, 0, 0, 0, 0, 0, 0, 0, 0, 0, 0, 1, 0, 0, 0,\n",
       "       0, 0, 0, 0, 0, 0, 2, 0, 0, 0, 0, 0, 0, 0, 0, 0, 0, 0, 0, 0, 0, 0,\n",
       "       0, 0, 0, 0, 0, 0, 0, 0, 1, 1, 1, 1, 1, 1, 1, 1, 1, 1, 1, 1, 1, 1,\n",
       "       1, 1, 1, 1, 1, 1, 1, 1, 1, 1, 1, 1, 1, 1, 1, 1, 1, 1, 1, 1, 1, 1,\n",
       "       1, 1, 1, 1, 1, 1, 1, 1, 1, 1, 2, 0, 2, 2, 2, 2, 2, 2, 2, 2, 2, 2,\n",
       "       2, 2, 2, 2, 2, 2, 0, 2, 2, 2, 2, 2, 2, 2, 2, 2, 2, 2, 2, 2, 2, 2,\n",
       "       2, 2, 2, 2, 0, 2, 2, 2, 2, 2, 2, 2, 2, 2, 2, 2, 2, 2, 2, 2, 2, 2,\n",
       "       2, 2, 2, 2, 2, 2, 2, 2, 2, 2, 2, 2, 2, 2, 2, 2, 2, 2, 2, 2, 2, 2,\n",
       "       2, 2, 2, 2, 2, 2, 2, 2, 2, 2, 2, 2, 2, 2, 0, 2, 2, 2, 2, 2, 2, 2,\n",
       "       2, 2, 2, 2, 2, 0, 2, 2, 0, 2, 2, 0, 0], dtype=int64)"
      ]
     },
     "execution_count": 50,
     "metadata": {},
     "output_type": "execute_result"
    }
   ],
   "source": [
    "top_pred_ids"
   ]
  },
  {
   "cell_type": "code",
   "execution_count": 51,
   "metadata": {},
   "outputs": [],
   "source": [
    "#val_predictions"
   ]
  },
  {
   "attachments": {},
   "cell_type": "markdown",
   "metadata": {},
   "source": [
    "## Code reserved for troubleshooting"
   ]
  },
  {
   "cell_type": "code",
   "execution_count": 52,
   "metadata": {},
   "outputs": [],
   "source": [
    "def mobilenet_v1_keras(input_shape, classes=classes, alpha=alpha):\n",
    "    model = tf.keras.applications.mobilenet.MobileNet(\n",
    "        input_shape=input_shape,\n",
    "        alpha=alpha,\n",
    "        depth_multiplier=1,\n",
    "        dropout=0.001,\n",
    "        include_top=True,\n",
    "        weights=None, #'imagenet'\n",
    "        input_tensor=None,\n",
    "        pooling=None,\n",
    "        classes=classes,\n",
    "        classifier_activation='softmax',\n",
    "        #**kwargs\n",
    "    )\n",
    "\n",
    "    #model._name = model.name + \"_keras\" # model.name cannot be overritten\n",
    "\n",
    "    return model\n",
    "    #model = mobilenet_v1_keras((IMG_WIDTH, IMG_HEIGHT, 3), classes=classes, alpha=alpha)"
   ]
  },
  {
   "cell_type": "code",
   "execution_count": 53,
   "metadata": {},
   "outputs": [],
   "source": [
    "#os.environ[\"WANDB_MODE\"] = \"online\"\n",
    "def train_model(model):\n",
    "\n",
    "        # solve issue from: https://github.com/wandb/wandb/issues/3536\n",
    "        # if len(wandb.patched[\"tensorboard\"]) > 0:\n",
    "        #         wandb.tensorboard.unpatch()\n",
    "                \n",
    "        # Configure Tensorboard root log directory to read the debugging information\n",
    "        #wandb.tensorboard.patch(root_logdir=root_logdir)\n",
    "        # wandb.tensorboard.patch(root_logdir=\"wandb.run.dir\")\n",
    "        \n",
    "        # wandb.init(\n",
    "        #         # Set the project where this run will be logged\n",
    "        #         project=PROJECT, \n",
    "        #         # Track hyperparameters and run metadata\n",
    "        #         #config={\n",
    "        #         #\"learning_rate\": LR,\n",
    "        #         #\"epochs\": EPOCHS,\n",
    "        #         #},\n",
    "        #         sync_tensorboard=True\n",
    "        #         )\n",
    "\n",
    "\n",
    "\n",
    "        # config = wandb.config\n",
    "        # # Specify the configuration variables\n",
    "        # config.batch_size = BATCH_SIZE\n",
    "        # config.dropout =DROPOUT\n",
    "        # config.learn_rate = LR\n",
    "        # #config.decay = 1e-6\n",
    "        # #config.momentum = 0.9\n",
    "        # config.epochs = EPOCHS\n",
    "        # config.classes = classes\n",
    "        \n",
    "\n",
    "        # enable Tensorflow Debugging\n",
    "        #tf.debugging.experimental.enable_dump_debug_info(\"./logs/debug\", \n",
    "        #        tensor_debug_mode=\"FULL_HEALTH\", circular_buffer_size=-1)\n",
    "\n",
    "        #model = mobilenet\n",
    "        model.compile(optimizer='adam',\n",
    "                        loss='sparse_categorical_crossentropy',\n",
    "                        metrics=['accuracy'])\n",
    "\n",
    "        logdir = os.path.join(\"logs\", datetime.datetime.now().strftime(\"%Y%m%d-%H%M%S\"))\n",
    "        #tensorboard_callback = tf.keras.callbacks.TensorBoard(log_dir= wandb.run.dir, histogram_freq=10, update_freq=\"epoch\") #, profile_batch=\"10, 20\")\n",
    "        tensorboard_callback = tf.keras.callbacks.TensorBoard(log_dir= logdir) #, histogram_freq=1)\n",
    "        #wandb_callback = WandbCallback()# input_type=\"image\", labels=labels) #, validation_data = val_ds.as_numpy_iterator())\n",
    "\n",
    "        early_stopping = EarlyStopping(monitor=\"val_accuracy\", patience=50)\n",
    "\n",
    "        #checkpoint = ModelCheckpoint(\"my_tiny_model\", save_weights_only=True)\n",
    "\n",
    "        callbacks =[\n",
    "                #tensorboard_callback,\n",
    "                #wandb_callback,\n",
    "                #WandbMetricsLogger(),\n",
    "                #checkpoint,\n",
    "                #early_stopping\n",
    "        ]\n",
    "\n",
    "        history = model.fit(train_ds,\n",
    "                epochs=EPOCHS, \n",
    "                validation_data=val_ds, \n",
    "                callbacks=callbacks\n",
    "        )\n",
    "\n",
    "        # wandb.log({\n",
    "        #         \"loss\": history.history[\"loss\"],\n",
    "        #         \"accuracy\": history.history[\"accuracy\"],\n",
    "        #         \"val_loss\": history.history[\"val_loss\"],\n",
    "        #         \"val_accuracy\": history.history[\"val_accuracy\"],                                \n",
    "        # })\n",
    "        \n",
    "        #wandb.finish()\n",
    "        return history, model\n"
   ]
  },
  {
   "cell_type": "code",
   "execution_count": 54,
   "metadata": {},
   "outputs": [],
   "source": [
    "# model.compile(optimizer='adam',\n",
    "#                 loss='sparse_categorical_crossentropy',\n",
    "#                 metrics=['accuracy'])"
   ]
  },
  {
   "cell_type": "code",
   "execution_count": null,
   "metadata": {},
   "outputs": [],
   "source": []
  }
 ],
 "metadata": {
  "kernelspec": {
   "display_name": "tiny_cnn_3",
   "language": "python",
   "name": "python3"
  },
  "language_info": {
   "codemirror_mode": {
    "name": "ipython",
    "version": 3
   },
   "file_extension": ".py",
   "mimetype": "text/x-python",
   "name": "python",
   "nbconvert_exporter": "python",
   "pygments_lexer": "ipython3",
   "version": "3.10.6"
  },
  "orig_nbformat": 4,
  "vscode": {
   "interpreter": {
    "hash": "faf61258749f39ee396d68e4f37ccf2f6c623aa999bdf06f87f249fa5d734f8f"
   }
  }
 },
 "nbformat": 4,
 "nbformat_minor": 2
}
