{
 "cells": [
  {
   "cell_type": "markdown",
   "metadata": {},
   "source": [
    "# Experiment Workbench"
   ]
  },
  {
   "cell_type": "code",
   "execution_count": 44,
   "metadata": {},
   "outputs": [],
   "source": [
    "import os, sys, math, datetime\n",
    "import pathlib\n",
    "from pathlib import Path\n",
    "import numpy as np\n",
    "import random\n",
    "from matplotlib import pyplot as plt\n",
    "import PIL\n",
    "import PIL.Image\n",
    "import seaborn as sns\n",
    "\n",
    "import tensorflow as tf\n",
    "import tensorflow_datasets as tfds\n",
    "from tensorflow import keras\n",
    "from tensorflow.keras.layers import Input, Dense, Flatten, Conv2D,DepthwiseConv2D, MaxPooling2D, AvgPool2D, GlobalAveragePooling2D, BatchNormalization, Concatenate\n",
    "from tensorflow.keras.layers import ReLU\n",
    "from tensorflow.keras.models import Model\n",
    "from tensorflow.keras.callbacks import ModelCheckpoint, EarlyStopping, LearningRateScheduler\n",
    " \n",
    "# Import the necessary MLTK APIs\n",
    "from mltk.core import view_model, summarize_model, profile_model\n",
    "\n",
    "# import workbench.config.config\n",
    "from workbench.config.config import initialize\n",
    "from workbench.utils.utils import create_filepaths\n",
    "from workbench.utils.utils import parse_model_name\n",
    "\n",
    "#from dotenv import load_dotenv\n",
    "import wandb\n",
    "from wandb.keras import WandbMetricsLogger, WandbModelCheckpoint\n",
    "#import deeplake\n"
   ]
  },
  {
   "cell_type": "code",
   "execution_count": 2,
   "metadata": {},
   "outputs": [],
   "source": [
    "\n"
   ]
  },
  {
   "cell_type": "code",
   "execution_count": 3,
   "metadata": {},
   "outputs": [
    {
     "name": "stdout",
     "output_type": "stream",
     "text": [
      "Tensorflow version 2.10.0\n",
      "Found GPU at: /device:GPU:0\n"
     ]
    }
   ],
   "source": [
    "print(\"Tensorflow version \" + tf.__version__)\n",
    "AUTOTUNE = tf.data.AUTOTUNE\n",
    "\n",
    "# Confirm that TensorFlow can access GPU\n",
    "device_name = tf.test.gpu_device_name()\n",
    "if not device_name:\n",
    "  raise SystemError('GPU device not found')\n",
    "print('Found GPU at: {}'.format(device_name))"
   ]
  },
  {
   "cell_type": "code",
   "execution_count": 4,
   "metadata": {},
   "outputs": [],
   "source": [
    "# TODO:\n",
    "\n",
    "# Add learning rate schedule\n",
    "\n",
    "# tf.compat.v1.disable_eager_execution()"
   ]
  },
  {
   "cell_type": "code",
   "execution_count": 5,
   "metadata": {},
   "outputs": [],
   "source": [
    "# DANGER ZONE: Disable warning messages\n",
    "\n",
    "import absl.logging\n",
    "absl.logging.set_verbosity(absl.logging.ERROR)"
   ]
  },
  {
   "cell_type": "code",
   "execution_count": 6,
   "metadata": {},
   "outputs": [],
   "source": [
    "\n",
    "\n",
    "# set the random seeds\n",
    "os.environ[\"TF_CUDNN_DETERMINISTIC\"]= \"1\"\n",
    "random.seed(hash(\"setting_random seeds\") % 2**32 -1)\n",
    "np.random.seed(hash(\"improves reproducibility\") % 2**32 -1)\n",
    "tf.random.set_seed(hash(\"by removing stochasticity\") %2 *32 -1 )"
   ]
  },
  {
   "cell_type": "code",
   "execution_count": 7,
   "metadata": {},
   "outputs": [],
   "source": [
    "models_dir = initialize()"
   ]
  },
  {
   "cell_type": "markdown",
   "metadata": {},
   "source": [
    "# Get the model"
   ]
  },
  {
   "cell_type": "code",
   "execution_count": 8,
   "metadata": {
    "tags": [
     "parameters"
    ]
   },
   "outputs": [],
   "source": [
    "global model_name\n",
    "model_name = \"mobilenetv1_0.25_96_c3_o3_l1\""
   ]
  },
  {
   "cell_type": "code",
   "execution_count": 9,
   "metadata": {},
   "outputs": [
    {
     "name": "stdout",
     "output_type": "stream",
     "text": [
      "i:\\tinyml\\tiny_cnn\\models\n"
     ]
    }
   ],
   "source": [
    "models_path, models_summary_path, models_image_path, models_layer_df_path, models_tf_path, models_tflite_path, models_tflite_opt_path = create_filepaths(model_name)"
   ]
  },
  {
   "cell_type": "code",
   "execution_count": 10,
   "metadata": {},
   "outputs": [],
   "source": [
    "model = keras.models.load_model(models_tf_path)"
   ]
  },
  {
   "cell_type": "code",
   "execution_count": 11,
   "metadata": {},
   "outputs": [],
   "source": [
    "global base_model_name\n",
    "global alpha\n",
    "global resolution\n",
    "global channels\n",
    "global classes\n",
    "global variation\n",
    "global early_stopping_patience"
   ]
  },
  {
   "cell_type": "code",
   "execution_count": 12,
   "metadata": {},
   "outputs": [],
   "source": [
    "base_model_name, alpha, resolution, channels, classes, variation = model_name.split(\"_\")"
   ]
  },
  {
   "cell_type": "code",
   "execution_count": 13,
   "metadata": {},
   "outputs": [],
   "source": [
    "alpha = float(alpha)\n",
    "resolution = int(resolution)\n",
    "classes = int(classes.strip(\"o\"))"
   ]
  },
  {
   "cell_type": "code",
   "execution_count": 14,
   "metadata": {},
   "outputs": [],
   "source": [
    "# Start a Tensorboard session\n",
    "%load_ext tensorboard"
   ]
  },
  {
   "cell_type": "code",
   "execution_count": 15,
   "metadata": {
    "tags": [
     "parameters"
    ]
   },
   "outputs": [],
   "source": [
    "#os.environ['WANDB_NOTEBOOK_NAME'] = 'Experiment Workbench'\n",
    "\n",
    "IMG_HEIGHT = resolution\n",
    "IMG_WIDTH = resolution\n",
    "BATCH_SIZE = 32\n",
    "EPOCHS = 30\n",
    "#LOGGING_STEPS = 64\n",
    "MOMENTUM = 0.9\n",
    "LR = 0.001\n",
    "DROPOUT = 0.5\n",
    "early_stopping_patience = 30\n",
    "\n",
    "#PROJECT = base_model_name\n",
    "PROJECT = \"tiny_cnn troubleshooting\"\n",
    "SEED = 42\n",
    "tf.random.set_seed(SEED) # global seed for tensorflow random parts, like dropout\n",
    "shuffle_seed = 42"
   ]
  },
  {
   "cell_type": "markdown",
   "metadata": {},
   "source": [
    "# Prepare the Lemon Quality Dataset"
   ]
  },
  {
   "cell_type": "code",
   "execution_count": 16,
   "metadata": {},
   "outputs": [
    {
     "data": {
      "text/plain": [
       "True"
      ]
     },
     "execution_count": 16,
     "metadata": {},
     "output_type": "execute_result"
    }
   ],
   "source": [
    "dataset_path = Path.cwd().joinpath(\"datasets\", \"lemon_dataset\")\n",
    "dataset_path.exists()"
   ]
  },
  {
   "cell_type": "code",
   "execution_count": 17,
   "metadata": {},
   "outputs": [],
   "source": [
    "def get_lemon_quality_dataset(dataset_path, img_width, img_height, batch_size, normalize=True):\n",
    "    \"\"\" Fetches the lemon quality dataset and prints dataset info. It normalizes the image data to range [0,1] by default.\n",
    "\n",
    "    Args: \n",
    "        dataset_path (Path): the file location of the dataset. Subfolders \"train\", \"test\", and \"val\" are expected.\n",
    "        normalize (boolean): Normalizes the image data to range [0, 1]. Default: True\n",
    "\n",
    "    Returns:\n",
    "        (train_ds, val_ds, test_ds, class_names) (tuple(tf.datasets)): Tensorflow datasets for train, validation and test.\n",
    "    \n",
    "    \"\"\"\n",
    "    if dataset_path.exists():\n",
    "        try:\n",
    "            train_dir = dataset_path.joinpath(\"train\")\n",
    "            val_dir = dataset_path.joinpath( \"val\")\n",
    "            test_dir = dataset_path.joinpath( \"test\")\n",
    "        except:\n",
    "            print(f\"Please check the folder structure of {dataset_path}.\")\n",
    "            raise\n",
    "\n",
    "\n",
    "\n",
    "    # create the labels list to avoid inclusion of .ipynb checkpoints\n",
    "    #labels = [\"bad_quality\", \"empty_background\", \"good_quality\"]\n",
    "\n",
    "    print(\"Preparing training dataset...\")        \n",
    "    train_ds = tf.keras.utils.image_dataset_from_directory(\n",
    "        train_dir,\n",
    "        subset=None,\n",
    "        seed=shuffle_seed,\n",
    "        image_size=((img_height, img_width)),\n",
    "        #labels=labels,\n",
    "        batch_size=batch_size)\n",
    "    \n",
    "\n",
    "    class_names = train_ds.class_names\n",
    "\n",
    "\n",
    "    print(\"Preparing validation dataset...\")    \n",
    "    val_ds = tf.keras.utils.image_dataset_from_directory(\n",
    "        val_dir,\n",
    "        subset=None,\n",
    "        seed=shuffle_seed,\n",
    "        image_size=(img_height, img_width),\n",
    "        batch_size=batch_size)\n",
    "    \n",
    "\n",
    "    print(\"Preparing test dataset...\")    \n",
    "    test_ds = tf.keras.utils.image_dataset_from_directory(\n",
    "        test_dir,\n",
    "        subset=None,\n",
    "        seed=shuffle_seed,\n",
    "        image_size=(img_height, img_width),\n",
    "        batch_size=batch_size)\n",
    "    \n",
    "    # Create a data augmentation stage with horizontal flipping, rotations, zooms\n",
    "    data_augmentation = keras.Sequential(\n",
    "        [\n",
    "            tf.keras.layers.RandomFlip(\"horizontal\"),\n",
    "            tf.keras.layers.RandomRotation(0.1),\n",
    "            tf.keras.layers.RandomZoom(0.1),\n",
    "        ]\n",
    "        )\n",
    "\n",
    "    #train_ds= train_ds.map(lambda x, y: (data_augmentation(x), y), num_parallel_calls=tf.data.AUTOTUNE )\n",
    "\n",
    "    \n",
    "    # Normalize the data to the range [0, 1]\n",
    "    if normalize:\n",
    "        normalization_layer = tf.keras.layers.Rescaling(1./255, offset=-1)\n",
    "\n",
    "        train_ds= train_ds.map(lambda x, y: (normalization_layer(x), y), num_parallel_calls=tf.data.AUTOTUNE)\n",
    "        val_ds= val_ds.map(lambda x, y: (normalization_layer(x), y), num_parallel_calls=tf.data.AUTOTUNE)\n",
    "        test_ds= test_ds.map(lambda x, y: (normalization_layer(x), y), num_parallel_calls=tf.data.AUTOTUNE)\n",
    "    else:\n",
    "        pass\n",
    "\n",
    "    print (f\"Class names: {class_names}\")\n",
    "    print(train_ds.element_spec)\n",
    "    print(f\"Normalize: {normalize}\")\n",
    "    return (train_ds, val_ds, test_ds, class_names)"
   ]
  },
  {
   "cell_type": "code",
   "execution_count": 18,
   "metadata": {},
   "outputs": [
    {
     "name": "stdout",
     "output_type": "stream",
     "text": [
      "Preparing training dataset...\n",
      "Found 2021 files belonging to 3 classes.\n",
      "Preparing validation dataset...\n",
      "Found 252 files belonging to 3 classes.\n",
      "Preparing test dataset...\n",
      "Found 255 files belonging to 3 classes.\n",
      "Class names: ['bad_quality', 'empty_background', 'good_quality']\n",
      "(TensorSpec(shape=(None, 96, 96, 3), dtype=tf.float32, name=None), TensorSpec(shape=(None,), dtype=tf.int32, name=None))\n",
      "Normalize: True\n"
     ]
    }
   ],
   "source": [
    "train_ds, val_ds, test_ds, labels = get_lemon_quality_dataset(dataset_path, IMG_WIDTH, IMG_HEIGHT, BATCH_SIZE)"
   ]
  },
  {
   "cell_type": "code",
   "execution_count": 19,
   "metadata": {},
   "outputs": [
    {
     "name": "stdout",
     "output_type": "stream",
     "text": [
      "(32, 96, 96, 3)\n",
      "(32,)\n",
      "tf.Tensor([0 2 2 0 2 2 0 1 0 2 1 2 1 1 2 2 2 0 0 0 1 0 2 1 0 0 0 2 0 1 0 0], shape=(32,), dtype=int32)\n"
     ]
    }
   ],
   "source": [
    "for image_batch, labels_batch in train_ds:\n",
    "    print(image_batch.shape)\n",
    "    print(labels_batch.shape)\n",
    "    print(labels_batch)\n",
    "    break"
   ]
  },
  {
   "cell_type": "code",
   "execution_count": 20,
   "metadata": {},
   "outputs": [
    {
     "name": "stdout",
     "output_type": "stream",
     "text": [
      "The dataset contains 3 classes.\n"
     ]
    }
   ],
   "source": [
    "classes = len(labels)\n",
    "print(f\"The dataset contains {classes } classes.\")"
   ]
  },
  {
   "cell_type": "markdown",
   "metadata": {},
   "source": [
    "# Define the model"
   ]
  },
  {
   "cell_type": "code",
   "execution_count": 21,
   "metadata": {},
   "outputs": [],
   "source": [
    "logdir = os.path.join(\"logs\", model_name, datetime.datetime.now().strftime(\"%Y%m%d-%H%M%S\"))\n",
    "root_logdir = os.getcwd()"
   ]
  },
  {
   "cell_type": "code",
   "execution_count": 22,
   "metadata": {},
   "outputs": [
    {
     "data": {
      "text/plain": [
       "'0.13.7'"
      ]
     },
     "execution_count": 22,
     "metadata": {},
     "output_type": "execute_result"
    }
   ],
   "source": [
    "wandb.__version__"
   ]
  },
  {
   "cell_type": "code",
   "execution_count": 23,
   "metadata": {},
   "outputs": [],
   "source": [
    "tf.keras.backend.clear_session()\n",
    "\n",
    "# optimize the data flow\n",
    "AUTOTUNE = tf.data.AUTOTUNE\n",
    "#train_ds = train_ds.cache().prefetch(AUTOTUNE)\n",
    "train_ds = train_ds.prefetch(AUTOTUNE)\n",
    "val_ds = val_ds.cache().prefetch(AUTOTUNE)"
   ]
  },
  {
   "cell_type": "code",
   "execution_count": 24,
   "metadata": {},
   "outputs": [],
   "source": [
    "os.environ[\"WANDB_MODE\"] = \"online\"\n",
    "def train_model_wandb(model):\n",
    "\n",
    "        # solve issue from: https://github.com/wandb/wandb/issues/3536\n",
    "        if len(wandb.patched[\"tensorboard\"]) > 0:\n",
    "                wandb.tensorboard.unpatch()\n",
    "                \n",
    "        # Configure Tensorboard root log directory to read the debugging information\n",
    "        wandb.tensorboard.patch(root_logdir=root_logdir)\n",
    "        # wandb.tensorboard.patch(root_logdir=\"wandb.run.dir\")\n",
    "        \n",
    "        # Generate run ids\n",
    "        id = wandb.util.generate_id()\n",
    "\n",
    "        run = wandb.init(\n",
    "                # Set the project where this run will be logged\n",
    "                project=PROJECT, \n",
    "                id = id, \n",
    "                resume=\"allow\",\n",
    "                sync_tensorboard=True\n",
    "                )\n",
    "\n",
    "        # Specify the configuration variables\n",
    "        config = wandb.config\n",
    "        \n",
    "        config.batch_size = BATCH_SIZE\n",
    "        #config.dropout =DROPOUT\n",
    "        config.learn_rate = LR\n",
    "        config.momentum = MOMENTUM\n",
    "        #config.decay = 1e-6\n",
    "        config.epochs = EPOCHS\n",
    "        config.classes = classes\n",
    "        config.id = id\n",
    "        config.architecture = model_name\n",
    "        \n",
    "\n",
    "        # enable Tensorflow Debugging\n",
    "        #tf.debugging.experimental.enable_dump_debug_info(\"./logs/debug\", \n",
    "        #        tensor_debug_mode=\"FULL_HEALTH\", circular_buffer_size=-1)\n",
    "\n",
    "        optimizer = tf.keras.optimizers.SGD(learning_rate=LR, momentum=MOMENTUM)\n",
    "        config.optimizer = optimizer._name\n",
    "\n",
    "        model.compile(optimizer=optimizer,\n",
    "                        loss='sparse_categorical_crossentropy',\n",
    "                        metrics=['accuracy'])\n",
    "\n",
    "        logdir = os.path.join(\"logs\", datetime.datetime.now().strftime(\"%Y%m%d-%H%M%S\"))\n",
    "        tensorboard_callback = tf.keras.callbacks.TensorBoard(log_dir= wandb.run.dir, histogram_freq=10, update_freq=\"epoch\") #, profile_batch=\"10, 20\")\n",
    "        #tensorboard_callback = tf.keras.callbacks.TensorBoard(log_dir= logdir, histogram_freq=1)\n",
    "        #wandb_callback = WandbCallback()# input_type=\"image\", labels=labels) #, validation_data = val_ds.as_numpy_iterator())\n",
    "        checkpoint = WandbModelCheckpoint(Path(wandb.run.dir).joinpath(f\"checkpoint\"),\n",
    "                monitor=\"val_accuracy\",\n",
    "                save_best_only=True,\n",
    "                save_freq=\"epoch\")\n",
    "\n",
    "        global early_stopping_patience\n",
    "        early_stopping = EarlyStopping(monitor=\"val_accuracy\", patience=early_stopping_patience)\n",
    "\n",
    "        #checkpoint = ModelCheckpoint(\"my_tiny_model\", save_weights_only=True)\n",
    "\n",
    "        callbacks =[\n",
    "                tensorboard_callback,\n",
    "                #wandb_callback,\n",
    "                WandbMetricsLogger(),\n",
    "                checkpoint,\n",
    "                early_stopping\n",
    "        ]\n",
    "\n",
    "        history = model.fit(train_ds,\n",
    "                epochs=EPOCHS, \n",
    "                validation_data=val_ds, \n",
    "                callbacks=callbacks\n",
    "        )\n",
    "\n",
    "        #scores = model.evaluate(X[test], Y[test], verbose=0)\n",
    "        wandb.save(\"last_model.h5\")\n",
    "        # wandb.log({\n",
    "        #         \"loss\": history.history[\"loss\"],\n",
    "        #         \"accuracy\": history.history[\"accuracy\"],\n",
    "        #         \"val_loss\": history.history[\"val_loss\"],\n",
    "        #         \"val_accuracy\": history.history[\"val_accuracy\"],                                \n",
    "        # })\n",
    "        \n",
    "        run.finish()\n",
    "        return history, model"
   ]
  },
  {
   "cell_type": "code",
   "execution_count": 25,
   "metadata": {},
   "outputs": [
    {
     "name": "stderr",
     "output_type": "stream",
     "text": [
      "Failed to detect the name of this notebook, you can set it manually with the WANDB_NOTEBOOK_NAME environment variable to enable code saving.\n",
      "\u001b[34m\u001b[1mwandb\u001b[0m: Currently logged in as: \u001b[33msusbrock\u001b[0m. Use \u001b[1m`wandb login --relogin`\u001b[0m to force relogin\n"
     ]
    },
    {
     "data": {
      "application/vnd.jupyter.widget-view+json": {
       "model_id": "29613288f0574905b1ecee62311c56ce",
       "version_major": 2,
       "version_minor": 0
      },
      "text/plain": [
       "VBox(children=(Label(value='Waiting for wandb.init()...\\r'), FloatProgress(value=0.016666666666666666, max=1.0…"
      ]
     },
     "metadata": {},
     "output_type": "display_data"
    },
    {
     "data": {
      "text/html": [
       "Tracking run with wandb version 0.13.7"
      ],
      "text/plain": [
       "<IPython.core.display.HTML object>"
      ]
     },
     "metadata": {},
     "output_type": "display_data"
    },
    {
     "data": {
      "text/html": [
       "Run data is saved locally in <code>i:\\tinyml\\tiny_cnn\\wandb\\run-20221217_183110-21dc65ra</code>"
      ],
      "text/plain": [
       "<IPython.core.display.HTML object>"
      ]
     },
     "metadata": {},
     "output_type": "display_data"
    },
    {
     "data": {
      "text/html": [
       "Syncing run <strong><a href=\"https://wandb.ai/susbrock/tiny_cnn%20troubleshooting/runs/21dc65ra\" target=\"_blank\">copper-haze-33</a></strong> to <a href=\"https://wandb.ai/susbrock/tiny_cnn%20troubleshooting\" target=\"_blank\">Weights & Biases</a> (<a href=\"https://wandb.me/run\" target=\"_blank\">docs</a>)<br/>"
      ],
      "text/plain": [
       "<IPython.core.display.HTML object>"
      ]
     },
     "metadata": {},
     "output_type": "display_data"
    },
    {
     "name": "stderr",
     "output_type": "stream",
     "text": [
      "\u001b[34m\u001b[1mwandb\u001b[0m: \u001b[33mWARNING\u001b[0m When using `save_best_only`, ensure that the `filepath` argument contains formatting placeholders like `{epoch:02d}` or `{batch:02d}`. This ensures correct interpretation of the logged artifacts.\n"
     ]
    },
    {
     "name": "stdout",
     "output_type": "stream",
     "text": [
      "Epoch 1/30\n",
      " 5/64 [=>............................] - ETA: 1s - loss: 1.1069 - accuracy: 0.4625 WARNING:tensorflow:Callback method `on_train_batch_end` is slow compared to the batch time (batch time: 0.0167s vs `on_train_batch_end` time: 0.0692s). Check your callbacks.\n",
      "64/64 [==============================] - ETA: 0s - loss: 1.0293 - accuracy: 0.4918INFO:tensorflow:Assets written to: i:\\tinyml\\tiny_cnn\\wandb\\run-20221217_183110-21dc65ra\\files\\checkpoint\\assets\n"
     ]
    },
    {
     "name": "stderr",
     "output_type": "stream",
     "text": [
      "INFO:tensorflow:Assets written to: i:\\tinyml\\tiny_cnn\\wandb\\run-20221217_183110-21dc65ra\\files\\checkpoint\\assets\n",
      "\u001b[34m\u001b[1mwandb\u001b[0m: Adding directory to artifact (i:\\tinyml\\tiny_cnn\\wandb\\run-20221217_183110-21dc65ra\\files\\checkpoint)... Done. 0.0s\n"
     ]
    },
    {
     "name": "stdout",
     "output_type": "stream",
     "text": [
      "64/64 [==============================] - 53s 348ms/step - loss: 1.0293 - accuracy: 0.4918 - val_loss: 1.0610 - val_accuracy: 0.3770\n",
      "Epoch 2/30\n",
      "63/64 [============================>.] - ETA: 0s - loss: 0.7172 - accuracy: 0.7083"
     ]
    },
    {
     "name": "stderr",
     "output_type": "stream",
     "text": [
      "\u001b[34m\u001b[1mwandb\u001b[0m: Adding directory to artifact (i:\\tinyml\\tiny_cnn\\wandb\\run-20221217_183110-21dc65ra\\files\\checkpoint)... Done. 0.0s\n"
     ]
    },
    {
     "name": "stdout",
     "output_type": "stream",
     "text": [
      "64/64 [==============================] - 3s 38ms/step - loss: 0.7180 - accuracy: 0.7081 - val_loss: 1.0648 - val_accuracy: 0.3770\n",
      "Epoch 3/30\n",
      "64/64 [==============================] - ETA: 0s - loss: 0.4638 - accuracy: 0.8204"
     ]
    },
    {
     "name": "stderr",
     "output_type": "stream",
     "text": [
      "\u001b[34m\u001b[1mwandb\u001b[0m: Adding directory to artifact (i:\\tinyml\\tiny_cnn\\wandb\\run-20221217_183110-21dc65ra\\files\\checkpoint)... Done. 0.0s\n"
     ]
    },
    {
     "name": "stdout",
     "output_type": "stream",
     "text": [
      "64/64 [==============================] - 3s 38ms/step - loss: 0.4638 - accuracy: 0.8204 - val_loss: 1.0874 - val_accuracy: 0.3770\n",
      "Epoch 4/30\n",
      "63/64 [============================>.] - ETA: 0s - loss: 0.3363 - accuracy: 0.8705"
     ]
    },
    {
     "name": "stderr",
     "output_type": "stream",
     "text": [
      "\u001b[34m\u001b[1mwandb\u001b[0m: Adding directory to artifact (i:\\tinyml\\tiny_cnn\\wandb\\run-20221217_183110-21dc65ra\\files\\checkpoint)... Done. 0.0s\n"
     ]
    },
    {
     "name": "stdout",
     "output_type": "stream",
     "text": [
      "64/64 [==============================] - 3s 48ms/step - loss: 0.3359 - accuracy: 0.8709 - val_loss: 1.1132 - val_accuracy: 0.3770\n",
      "Epoch 5/30\n",
      "63/64 [============================>.] - ETA: 0s - loss: 0.2357 - accuracy: 0.9162"
     ]
    },
    {
     "name": "stderr",
     "output_type": "stream",
     "text": [
      "\u001b[34m\u001b[1mwandb\u001b[0m: Adding directory to artifact (i:\\tinyml\\tiny_cnn\\wandb\\run-20221217_183110-21dc65ra\\files\\checkpoint)... Done. 0.0s\n"
     ]
    },
    {
     "name": "stdout",
     "output_type": "stream",
     "text": [
      "64/64 [==============================] - 3s 44ms/step - loss: 0.2391 - accuracy: 0.9154 - val_loss: 1.1204 - val_accuracy: 0.3770\n",
      "Epoch 6/30\n",
      "64/64 [==============================] - ETA: 0s - loss: 0.2035 - accuracy: 0.9302"
     ]
    },
    {
     "name": "stderr",
     "output_type": "stream",
     "text": [
      "\u001b[34m\u001b[1mwandb\u001b[0m: Adding directory to artifact (i:\\tinyml\\tiny_cnn\\wandb\\run-20221217_183110-21dc65ra\\files\\checkpoint)... Done. 0.0s\n"
     ]
    },
    {
     "name": "stdout",
     "output_type": "stream",
     "text": [
      "64/64 [==============================] - 2s 37ms/step - loss: 0.2035 - accuracy: 0.9302 - val_loss: 1.1704 - val_accuracy: 0.3770\n",
      "Epoch 7/30\n",
      "63/64 [============================>.] - ETA: 0s - loss: 0.1750 - accuracy: 0.9375"
     ]
    },
    {
     "name": "stderr",
     "output_type": "stream",
     "text": [
      "\u001b[34m\u001b[1mwandb\u001b[0m: Adding directory to artifact (i:\\tinyml\\tiny_cnn\\wandb\\run-20221217_183110-21dc65ra\\files\\checkpoint)... Done. 0.0s\n"
     ]
    },
    {
     "name": "stdout",
     "output_type": "stream",
     "text": [
      "64/64 [==============================] - 3s 42ms/step - loss: 0.1757 - accuracy: 0.9367 - val_loss: 1.2993 - val_accuracy: 0.3611\n",
      "Epoch 8/30\n",
      "63/64 [============================>.] - ETA: 0s - loss: 0.1497 - accuracy: 0.9494INFO:tensorflow:Assets written to: i:\\tinyml\\tiny_cnn\\wandb\\run-20221217_183110-21dc65ra\\files\\checkpoint\\assets\n"
     ]
    },
    {
     "name": "stderr",
     "output_type": "stream",
     "text": [
      "INFO:tensorflow:Assets written to: i:\\tinyml\\tiny_cnn\\wandb\\run-20221217_183110-21dc65ra\\files\\checkpoint\\assets\n",
      "\u001b[34m\u001b[1mwandb\u001b[0m: Adding directory to artifact (i:\\tinyml\\tiny_cnn\\wandb\\run-20221217_183110-21dc65ra\\files\\checkpoint)... Done. 0.0s\n"
     ]
    },
    {
     "name": "stdout",
     "output_type": "stream",
     "text": [
      "64/64 [==============================] - 14s 219ms/step - loss: 0.1494 - accuracy: 0.9495 - val_loss: 1.1988 - val_accuracy: 0.5238\n",
      "Epoch 9/30\n",
      "62/64 [============================>.] - ETA: 0s - loss: 0.1253 - accuracy: 0.9612INFO:tensorflow:Assets written to: i:\\tinyml\\tiny_cnn\\wandb\\run-20221217_183110-21dc65ra\\files\\checkpoint\\assets\n"
     ]
    },
    {
     "name": "stderr",
     "output_type": "stream",
     "text": [
      "INFO:tensorflow:Assets written to: i:\\tinyml\\tiny_cnn\\wandb\\run-20221217_183110-21dc65ra\\files\\checkpoint\\assets\n",
      "\u001b[34m\u001b[1mwandb\u001b[0m: Adding directory to artifact (i:\\tinyml\\tiny_cnn\\wandb\\run-20221217_183110-21dc65ra\\files\\checkpoint)... Done. 0.0s\n"
     ]
    },
    {
     "name": "stdout",
     "output_type": "stream",
     "text": [
      "64/64 [==============================] - 10s 164ms/step - loss: 0.1239 - accuracy: 0.9619 - val_loss: 0.5085 - val_accuracy: 0.8135\n",
      "Epoch 10/30\n",
      "62/64 [============================>.] - ETA: 0s - loss: 0.1107 - accuracy: 0.9617INFO:tensorflow:Assets written to: i:\\tinyml\\tiny_cnn\\wandb\\run-20221217_183110-21dc65ra\\files\\checkpoint\\assets\n"
     ]
    },
    {
     "name": "stderr",
     "output_type": "stream",
     "text": [
      "INFO:tensorflow:Assets written to: i:\\tinyml\\tiny_cnn\\wandb\\run-20221217_183110-21dc65ra\\files\\checkpoint\\assets\n",
      "\u001b[34m\u001b[1mwandb\u001b[0m: Adding directory to artifact (i:\\tinyml\\tiny_cnn\\wandb\\run-20221217_183110-21dc65ra\\files\\checkpoint)... Done. 0.0s\n"
     ]
    },
    {
     "name": "stdout",
     "output_type": "stream",
     "text": [
      "64/64 [==============================] - 10s 152ms/step - loss: 0.1105 - accuracy: 0.9619 - val_loss: 0.2999 - val_accuracy: 0.9048\n",
      "Epoch 11/30\n",
      "63/64 [============================>.] - ETA: 0s - loss: 0.0840 - accuracy: 0.9722INFO:tensorflow:Assets written to: i:\\tinyml\\tiny_cnn\\wandb\\run-20221217_183110-21dc65ra\\files\\checkpoint\\assets\n"
     ]
    },
    {
     "name": "stderr",
     "output_type": "stream",
     "text": [
      "INFO:tensorflow:Assets written to: i:\\tinyml\\tiny_cnn\\wandb\\run-20221217_183110-21dc65ra\\files\\checkpoint\\assets\n",
      "\u001b[34m\u001b[1mwandb\u001b[0m: Adding directory to artifact (i:\\tinyml\\tiny_cnn\\wandb\\run-20221217_183110-21dc65ra\\files\\checkpoint)... Done. 0.0s\n"
     ]
    },
    {
     "name": "stdout",
     "output_type": "stream",
     "text": [
      "64/64 [==============================] - 11s 171ms/step - loss: 0.0858 - accuracy: 0.9713 - val_loss: 0.1473 - val_accuracy: 0.9444\n",
      "Epoch 12/30\n",
      "63/64 [============================>.] - ETA: 0s - loss: 0.1013 - accuracy: 0.9633"
     ]
    },
    {
     "name": "stderr",
     "output_type": "stream",
     "text": [
      "\u001b[34m\u001b[1mwandb\u001b[0m: Adding directory to artifact (i:\\tinyml\\tiny_cnn\\wandb\\run-20221217_183110-21dc65ra\\files\\checkpoint)... Done. 0.0s\n"
     ]
    },
    {
     "name": "stdout",
     "output_type": "stream",
     "text": [
      "64/64 [==============================] - 4s 55ms/step - loss: 0.1011 - accuracy: 0.9634 - val_loss: 0.1866 - val_accuracy: 0.9206\n",
      "Epoch 13/30\n",
      "63/64 [============================>.] - ETA: 0s - loss: 0.0830 - accuracy: 0.9742"
     ]
    },
    {
     "name": "stderr",
     "output_type": "stream",
     "text": [
      "\u001b[34m\u001b[1mwandb\u001b[0m: Adding directory to artifact (i:\\tinyml\\tiny_cnn\\wandb\\run-20221217_183110-21dc65ra\\files\\checkpoint)... Done. 0.0s\n"
     ]
    },
    {
     "name": "stdout",
     "output_type": "stream",
     "text": [
      "64/64 [==============================] - 3s 42ms/step - loss: 0.0838 - accuracy: 0.9733 - val_loss: 0.3098 - val_accuracy: 0.9008\n",
      "Epoch 14/30\n",
      "63/64 [============================>.] - ETA: 0s - loss: 0.0890 - accuracy: 0.9697INFO:tensorflow:Assets written to: i:\\tinyml\\tiny_cnn\\wandb\\run-20221217_183110-21dc65ra\\files\\checkpoint\\assets\n"
     ]
    },
    {
     "name": "stderr",
     "output_type": "stream",
     "text": [
      "INFO:tensorflow:Assets written to: i:\\tinyml\\tiny_cnn\\wandb\\run-20221217_183110-21dc65ra\\files\\checkpoint\\assets\n",
      "\u001b[34m\u001b[1mwandb\u001b[0m: Adding directory to artifact (i:\\tinyml\\tiny_cnn\\wandb\\run-20221217_183110-21dc65ra\\files\\checkpoint)... Done. 0.0s\n"
     ]
    },
    {
     "name": "stdout",
     "output_type": "stream",
     "text": [
      "64/64 [==============================] - 10s 152ms/step - loss: 0.0907 - accuracy: 0.9693 - val_loss: 0.1158 - val_accuracy: 0.9524\n",
      "Epoch 15/30\n",
      "63/64 [============================>.] - ETA: 0s - loss: 0.0711 - accuracy: 0.9812"
     ]
    },
    {
     "name": "stderr",
     "output_type": "stream",
     "text": [
      "\u001b[34m\u001b[1mwandb\u001b[0m: Adding directory to artifact (i:\\tinyml\\tiny_cnn\\wandb\\run-20221217_183110-21dc65ra\\files\\checkpoint)... Done. 0.0s\n"
     ]
    },
    {
     "name": "stdout",
     "output_type": "stream",
     "text": [
      "64/64 [==============================] - 2s 36ms/step - loss: 0.0712 - accuracy: 0.9812 - val_loss: 0.1538 - val_accuracy: 0.9365\n",
      "Epoch 16/30\n",
      "63/64 [============================>.] - ETA: 0s - loss: 0.0532 - accuracy: 0.9821"
     ]
    },
    {
     "name": "stderr",
     "output_type": "stream",
     "text": [
      "\u001b[34m\u001b[1mwandb\u001b[0m: Adding directory to artifact (i:\\tinyml\\tiny_cnn\\wandb\\run-20221217_183110-21dc65ra\\files\\checkpoint)... Done. 0.0s\n"
     ]
    },
    {
     "name": "stdout",
     "output_type": "stream",
     "text": [
      "64/64 [==============================] - 3s 42ms/step - loss: 0.0535 - accuracy: 0.9822 - val_loss: 0.3659 - val_accuracy: 0.8730\n",
      "Epoch 17/30\n",
      "63/64 [============================>.] - ETA: 0s - loss: 0.0500 - accuracy: 0.9856"
     ]
    },
    {
     "name": "stderr",
     "output_type": "stream",
     "text": [
      "\u001b[34m\u001b[1mwandb\u001b[0m: Adding directory to artifact (i:\\tinyml\\tiny_cnn\\wandb\\run-20221217_183110-21dc65ra\\files\\checkpoint)... Done. 0.0s\n"
     ]
    },
    {
     "name": "stdout",
     "output_type": "stream",
     "text": [
      "64/64 [==============================] - 3s 50ms/step - loss: 0.0509 - accuracy: 0.9852 - val_loss: 0.1606 - val_accuracy: 0.9365\n",
      "Epoch 18/30\n",
      "62/64 [============================>.] - ETA: 0s - loss: 0.0639 - accuracy: 0.9788"
     ]
    },
    {
     "name": "stderr",
     "output_type": "stream",
     "text": [
      "\u001b[34m\u001b[1mwandb\u001b[0m: Adding directory to artifact (i:\\tinyml\\tiny_cnn\\wandb\\run-20221217_183110-21dc65ra\\files\\checkpoint)... Done. 0.0s\n"
     ]
    },
    {
     "name": "stdout",
     "output_type": "stream",
     "text": [
      "64/64 [==============================] - 3s 51ms/step - loss: 0.0689 - accuracy: 0.9782 - val_loss: 0.1457 - val_accuracy: 0.9444\n",
      "Epoch 19/30\n",
      "63/64 [============================>.] - ETA: 0s - loss: 0.0690 - accuracy: 0.9762"
     ]
    },
    {
     "name": "stderr",
     "output_type": "stream",
     "text": [
      "\u001b[34m\u001b[1mwandb\u001b[0m: Adding directory to artifact (i:\\tinyml\\tiny_cnn\\wandb\\run-20221217_183110-21dc65ra\\files\\checkpoint)... Done. 0.0s\n"
     ]
    },
    {
     "name": "stdout",
     "output_type": "stream",
     "text": [
      "64/64 [==============================] - 3s 50ms/step - loss: 0.0690 - accuracy: 0.9762 - val_loss: 0.1720 - val_accuracy: 0.9444\n",
      "Epoch 20/30\n",
      "62/64 [============================>.] - ETA: 0s - loss: 0.0491 - accuracy: 0.9859"
     ]
    },
    {
     "name": "stderr",
     "output_type": "stream",
     "text": [
      "\u001b[34m\u001b[1mwandb\u001b[0m: Adding directory to artifact (i:\\tinyml\\tiny_cnn\\wandb\\run-20221217_183110-21dc65ra\\files\\checkpoint)... Done. 0.0s\n"
     ]
    },
    {
     "name": "stdout",
     "output_type": "stream",
     "text": [
      "64/64 [==============================] - 5s 78ms/step - loss: 0.0514 - accuracy: 0.9852 - val_loss: 0.2142 - val_accuracy: 0.9206\n",
      "Epoch 21/30\n",
      "62/64 [============================>.] - ETA: 0s - loss: 0.0865 - accuracy: 0.9713"
     ]
    },
    {
     "name": "stderr",
     "output_type": "stream",
     "text": [
      "\u001b[34m\u001b[1mwandb\u001b[0m: Adding directory to artifact (i:\\tinyml\\tiny_cnn\\wandb\\run-20221217_183110-21dc65ra\\files\\checkpoint)... Done. 0.0s\n"
     ]
    },
    {
     "name": "stdout",
     "output_type": "stream",
     "text": [
      "64/64 [==============================] - 4s 55ms/step - loss: 0.0866 - accuracy: 0.9713 - val_loss: 0.1708 - val_accuracy: 0.9365\n",
      "Epoch 22/30\n",
      "62/64 [============================>.] - ETA: 0s - loss: 0.0523 - accuracy: 0.9829INFO:tensorflow:Assets written to: i:\\tinyml\\tiny_cnn\\wandb\\run-20221217_183110-21dc65ra\\files\\checkpoint\\assets\n"
     ]
    },
    {
     "name": "stderr",
     "output_type": "stream",
     "text": [
      "INFO:tensorflow:Assets written to: i:\\tinyml\\tiny_cnn\\wandb\\run-20221217_183110-21dc65ra\\files\\checkpoint\\assets\n",
      "\u001b[34m\u001b[1mwandb\u001b[0m: Adding directory to artifact (i:\\tinyml\\tiny_cnn\\wandb\\run-20221217_183110-21dc65ra\\files\\checkpoint)... Done. 0.0s\n"
     ]
    },
    {
     "name": "stdout",
     "output_type": "stream",
     "text": [
      "64/64 [==============================] - 11s 172ms/step - loss: 0.0523 - accuracy: 0.9827 - val_loss: 0.1185 - val_accuracy: 0.9563\n",
      "Epoch 23/30\n",
      "63/64 [============================>.] - ETA: 0s - loss: 0.0450 - accuracy: 0.9856"
     ]
    },
    {
     "name": "stderr",
     "output_type": "stream",
     "text": [
      "\u001b[34m\u001b[1mwandb\u001b[0m: Adding directory to artifact (i:\\tinyml\\tiny_cnn\\wandb\\run-20221217_183110-21dc65ra\\files\\checkpoint)... Done. 0.0s\n"
     ]
    },
    {
     "name": "stdout",
     "output_type": "stream",
     "text": [
      "64/64 [==============================] - 3s 47ms/step - loss: 0.0449 - accuracy: 0.9857 - val_loss: 0.2392 - val_accuracy: 0.9246\n",
      "Epoch 24/30\n",
      "63/64 [============================>.] - ETA: 0s - loss: 0.0329 - accuracy: 0.9926INFO:tensorflow:Assets written to: i:\\tinyml\\tiny_cnn\\wandb\\run-20221217_183110-21dc65ra\\files\\checkpoint\\assets\n"
     ]
    },
    {
     "name": "stderr",
     "output_type": "stream",
     "text": [
      "INFO:tensorflow:Assets written to: i:\\tinyml\\tiny_cnn\\wandb\\run-20221217_183110-21dc65ra\\files\\checkpoint\\assets\n",
      "\u001b[34m\u001b[1mwandb\u001b[0m: Adding directory to artifact (i:\\tinyml\\tiny_cnn\\wandb\\run-20221217_183110-21dc65ra\\files\\checkpoint)... Done. 0.0s\n"
     ]
    },
    {
     "name": "stdout",
     "output_type": "stream",
     "text": [
      "64/64 [==============================] - 9s 141ms/step - loss: 0.0332 - accuracy: 0.9926 - val_loss: 0.1399 - val_accuracy: 0.9643\n",
      "Epoch 25/30\n",
      "63/64 [============================>.] - ETA: 0s - loss: 0.0279 - accuracy: 0.9950"
     ]
    },
    {
     "name": "stderr",
     "output_type": "stream",
     "text": [
      "\u001b[34m\u001b[1mwandb\u001b[0m: Adding directory to artifact (i:\\tinyml\\tiny_cnn\\wandb\\run-20221217_183110-21dc65ra\\files\\checkpoint)... Done. 0.0s\n"
     ]
    },
    {
     "name": "stdout",
     "output_type": "stream",
     "text": [
      "64/64 [==============================] - 4s 68ms/step - loss: 0.0279 - accuracy: 0.9951 - val_loss: 0.2726 - val_accuracy: 0.9127\n",
      "Epoch 26/30\n",
      "64/64 [==============================] - ETA: 0s - loss: 0.0270 - accuracy: 0.9921"
     ]
    },
    {
     "name": "stderr",
     "output_type": "stream",
     "text": [
      "\u001b[34m\u001b[1mwandb\u001b[0m: Adding directory to artifact (i:\\tinyml\\tiny_cnn\\wandb\\run-20221217_183110-21dc65ra\\files\\checkpoint)... Done. 0.0s\n"
     ]
    },
    {
     "name": "stdout",
     "output_type": "stream",
     "text": [
      "64/64 [==============================] - 2s 37ms/step - loss: 0.0270 - accuracy: 0.9921 - val_loss: 0.3398 - val_accuracy: 0.9008\n",
      "Epoch 27/30\n",
      "62/64 [============================>.] - ETA: 0s - loss: 0.0397 - accuracy: 0.9849"
     ]
    },
    {
     "name": "stderr",
     "output_type": "stream",
     "text": [
      "\u001b[34m\u001b[1mwandb\u001b[0m: Adding directory to artifact (i:\\tinyml\\tiny_cnn\\wandb\\run-20221217_183110-21dc65ra\\files\\checkpoint)... Done. 0.0s\n"
     ]
    },
    {
     "name": "stdout",
     "output_type": "stream",
     "text": [
      "64/64 [==============================] - 4s 59ms/step - loss: 0.0391 - accuracy: 0.9852 - val_loss: 0.1161 - val_accuracy: 0.9563\n",
      "Epoch 28/30\n",
      "63/64 [============================>.] - ETA: 0s - loss: 0.0282 - accuracy: 0.9926INFO:tensorflow:Assets written to: i:\\tinyml\\tiny_cnn\\wandb\\run-20221217_183110-21dc65ra\\files\\checkpoint\\assets\n"
     ]
    },
    {
     "name": "stderr",
     "output_type": "stream",
     "text": [
      "INFO:tensorflow:Assets written to: i:\\tinyml\\tiny_cnn\\wandb\\run-20221217_183110-21dc65ra\\files\\checkpoint\\assets\n",
      "\u001b[34m\u001b[1mwandb\u001b[0m: Adding directory to artifact (i:\\tinyml\\tiny_cnn\\wandb\\run-20221217_183110-21dc65ra\\files\\checkpoint)... Done. 0.0s\n"
     ]
    },
    {
     "name": "stdout",
     "output_type": "stream",
     "text": [
      "64/64 [==============================] - 11s 166ms/step - loss: 0.0281 - accuracy: 0.9926 - val_loss: 0.0744 - val_accuracy: 0.9683\n",
      "Epoch 29/30\n",
      "62/64 [============================>.] - ETA: 0s - loss: 0.0302 - accuracy: 0.9924"
     ]
    },
    {
     "name": "stderr",
     "output_type": "stream",
     "text": [
      "\u001b[34m\u001b[1mwandb\u001b[0m: Adding directory to artifact (i:\\tinyml\\tiny_cnn\\wandb\\run-20221217_183110-21dc65ra\\files\\checkpoint)... Done. 0.0s\n"
     ]
    },
    {
     "name": "stdout",
     "output_type": "stream",
     "text": [
      "64/64 [==============================] - 3s 44ms/step - loss: 0.0298 - accuracy: 0.9926 - val_loss: 0.1654 - val_accuracy: 0.9603\n",
      "Epoch 30/30\n",
      "63/64 [============================>.] - ETA: 0s - loss: 0.0310 - accuracy: 0.9916"
     ]
    },
    {
     "name": "stderr",
     "output_type": "stream",
     "text": [
      "\u001b[34m\u001b[1mwandb\u001b[0m: Adding directory to artifact (i:\\tinyml\\tiny_cnn\\wandb\\run-20221217_183110-21dc65ra\\files\\checkpoint)... Done. 0.0s\n"
     ]
    },
    {
     "name": "stdout",
     "output_type": "stream",
     "text": [
      "64/64 [==============================] - 2s 37ms/step - loss: 0.0310 - accuracy: 0.9916 - val_loss: 0.1142 - val_accuracy: 0.9563\n"
     ]
    },
    {
     "data": {
      "text/html": [
       "Waiting for W&B process to finish... <strong style=\"color:green\">(success).</strong>"
      ],
      "text/plain": [
       "<IPython.core.display.HTML object>"
      ]
     },
     "metadata": {},
     "output_type": "display_data"
    },
    {
     "data": {
      "text/html": [
       "<style>\n",
       "    table.wandb td:nth-child(1) { padding: 0 10px; text-align: left ; width: auto;} td:nth-child(2) {text-align: left ; width: 100%}\n",
       "    .wandb-row { display: flex; flex-direction: row; flex-wrap: wrap; justify-content: flex-start; width: 100% }\n",
       "    .wandb-col { display: flex; flex-direction: column; flex-basis: 100%; flex: 1; padding: 10px; }\n",
       "    </style>\n",
       "<div class=\"wandb-row\"><div class=\"wandb-col\"><h3>Run history:</h3><br/><table class=\"wandb\"><tr><td>epoch/accuracy</td><td>▁▄▆▆▇▇▇▇██████████████████████</td></tr><tr><td>epoch/epoch</td><td>▁▁▁▂▂▂▂▃▃▃▃▄▄▄▄▅▅▅▅▆▆▆▆▇▇▇▇███</td></tr><tr><td>epoch/learning_rate</td><td>▁▁▁▁▁▁▁▁▁▁▁▁▁▁▁▁▁▁▁▁▁▁▁▁▁▁▁▁▁▁</td></tr><tr><td>epoch/loss</td><td>█▆▄▃▂▂▂▂▂▂▁▂▁▁▁▁▁▁▁▁▁▁▁▁▁▁▁▁▁▁</td></tr><tr><td>epoch/val_accuracy</td><td>▁▁▁▁▁▁▁▃▆▇█▇▇██▇███▇██▇█▇▇████</td></tr><tr><td>epoch/val_loss</td><td>▇▇▇▇▇▇█▇▃▂▁▂▂▁▁▃▁▁▂▂▂▁▂▁▂▃▁▁▂▁</td></tr></table><br/></div><div class=\"wandb-col\"><h3>Run summary:</h3><br/><table class=\"wandb\"><tr><td>epoch/accuracy</td><td>0.99159</td></tr><tr><td>epoch/epoch</td><td>29</td></tr><tr><td>epoch/learning_rate</td><td>0.001</td></tr><tr><td>epoch/loss</td><td>0.03095</td></tr><tr><td>epoch/val_accuracy</td><td>0.95635</td></tr><tr><td>epoch/val_loss</td><td>0.11418</td></tr></table><br/></div></div>"
      ],
      "text/plain": [
       "<IPython.core.display.HTML object>"
      ]
     },
     "metadata": {},
     "output_type": "display_data"
    },
    {
     "data": {
      "text/html": [
       "Synced <strong style=\"color:#cdcd00\">copper-haze-33</strong>: <a href=\"https://wandb.ai/susbrock/tiny_cnn%20troubleshooting/runs/21dc65ra\" target=\"_blank\">https://wandb.ai/susbrock/tiny_cnn%20troubleshooting/runs/21dc65ra</a><br/>Synced 7 W&B file(s), 0 media file(s), 28 artifact file(s) and 7 other file(s)"
      ],
      "text/plain": [
       "<IPython.core.display.HTML object>"
      ]
     },
     "metadata": {},
     "output_type": "display_data"
    },
    {
     "data": {
      "text/html": [
       "Find logs at: <code>.\\wandb\\run-20221217_183110-21dc65ra\\logs</code>"
      ],
      "text/plain": [
       "<IPython.core.display.HTML object>"
      ]
     },
     "metadata": {},
     "output_type": "display_data"
    }
   ],
   "source": [
    "#wandb.finish()\n",
    "history, model = train_model_wandb(model)"
   ]
  },
  {
   "cell_type": "code",
   "execution_count": 32,
   "metadata": {},
   "outputs": [],
   "source": [
    "scores = model.evaluate(val_ds, verbose=0)"
   ]
  },
  {
   "cell_type": "code",
   "execution_count": 33,
   "metadata": {},
   "outputs": [
    {
     "data": {
      "text/plain": [
       "[0.11417687684297562, 0.9563491940498352]"
      ]
     },
     "execution_count": 33,
     "metadata": {},
     "output_type": "execute_result"
    }
   ],
   "source": [
    "scores"
   ]
  },
  {
   "cell_type": "code",
   "execution_count": 35,
   "metadata": {},
   "outputs": [
    {
     "data": {
      "text/plain": [
       "['loss', 'accuracy']"
      ]
     },
     "execution_count": 35,
     "metadata": {},
     "output_type": "execute_result"
    }
   ],
   "source": [
    "model.metrics_names"
   ]
  },
  {
   "cell_type": "code",
   "execution_count": 36,
   "metadata": {},
   "outputs": [
    {
     "name": "stdout",
     "output_type": "stream",
     "text": [
      "8/8 [==============================] - 1s 6ms/step\n"
     ]
    }
   ],
   "source": [
    "val_predictions = model.predict(val_ds)"
   ]
  },
  {
   "cell_type": "code",
   "execution_count": 38,
   "metadata": {},
   "outputs": [],
   "source": [
    "top_pred_ids = val_predictions.argmax(axis=1)"
   ]
  },
  {
   "cell_type": "code",
   "execution_count": 41,
   "metadata": {},
   "outputs": [
    {
     "data": {
      "text/plain": [
       "array([0, 0, 1, 2, 0, 1, 2, 1, 2, 2, 2, 2, 2, 0, 2, 2, 2, 1, 0, 2, 0, 1,\n",
       "       1, 0, 2, 2, 2, 2, 0, 2, 0, 2, 0, 0, 0, 0, 0, 1, 1, 2, 2, 0, 2, 0,\n",
       "       2, 2, 2, 0, 1, 0, 1, 0, 0, 2, 0, 2, 0, 0, 2, 2, 0, 1, 2, 0, 2, 0,\n",
       "       2, 1, 2, 2, 1, 1, 0, 2, 1, 0, 2, 0, 1, 2, 2, 2, 0, 0, 0, 0, 0, 2,\n",
       "       0, 2, 0, 2, 0, 0, 0, 0, 0, 1, 0, 2, 2, 1, 1, 1, 1, 1, 2, 0, 0, 0,\n",
       "       2, 2, 2, 2, 2, 2, 2, 2, 0, 2, 2, 1, 0, 0, 2, 1, 0, 2, 0, 2, 1, 0,\n",
       "       0, 1, 2, 1, 2, 2, 2, 1, 1, 0, 2, 1, 2, 0, 0, 2, 1, 0, 0, 0, 2, 0,\n",
       "       0, 2, 2, 2, 2, 2, 2, 2, 0, 2, 0, 0, 0, 1, 2, 2, 2, 1, 1, 2, 0, 2,\n",
       "       1, 2, 0, 2, 2, 2, 0, 0, 0, 2, 1, 0, 0, 0, 2, 2, 0, 1, 2, 0, 2, 0,\n",
       "       1, 0, 2, 2, 2, 2, 1, 2, 0, 2, 0, 2, 0, 0, 2, 0, 2, 0, 0, 0, 0, 2,\n",
       "       2, 0, 0, 2, 1, 2, 0, 2, 0, 2, 0, 0, 2, 0, 1, 1, 2, 1, 2, 2, 0, 2,\n",
       "       2, 0, 2, 1, 2, 2, 2, 1, 2, 0])"
      ]
     },
     "execution_count": 41,
     "metadata": {},
     "output_type": "execute_result"
    }
   ],
   "source": [
    "y_true = np.concatenate([y for x, y in val_ds], axis=0)\n",
    "y_true"
   ]
  },
  {
   "cell_type": "code",
   "execution_count": 43,
   "metadata": {},
   "outputs": [
    {
     "data": {
      "text/plain": [
       "<tf.Tensor: shape=(3, 3), dtype=int32, numpy=\n",
       "array([[ 90,   0,   5],\n",
       "       [  0,  45,   0],\n",
       "       [  6,   0, 106]])>"
      ]
     },
     "execution_count": 43,
     "metadata": {},
     "output_type": "execute_result"
    }
   ],
   "source": [
    "confusion_mtx = tf.math.confusion_matrix(y_true, top_pred_ids, num_classes=classes)\n",
    "    # list(ds_test.map(lambda x, y: y)),\n",
    "    # predict_class_label_number(test_data),\n",
    "    # num_classes=len(label_names))\n",
    "    \n",
    "confusion_mtx"
   ]
  },
  {
   "cell_type": "code",
   "execution_count": 54,
   "metadata": {},
   "outputs": [],
   "source": [
    "def show_confusion_matrix(cm, labels):\n",
    "  plt.figure(figsize=(6, 6))\n",
    "  sns.heatmap(cm, xticklabels=labels, yticklabels=labels, \n",
    "              annot=True, fmt='g')\n",
    "  plt.xlabel('Prediction')\n",
    "  plt.ylabel('Label')\n",
    "  plt.show()"
   ]
  },
  {
   "cell_type": "code",
   "execution_count": 55,
   "metadata": {},
   "outputs": [
    {
     "data": {
      "image/png": "[encoded data removed]",
      "text/plain": [
       "<Figure size 600x600 with 2 Axes>"
      ]
     },
     "metadata": {},
     "output_type": "display_data"
    }
   ],
   "source": [
    "show_confusion_matrix(confusion_mtx, labels)"
   ]
  },
  {
   "cell_type": "code",
   "execution_count": 39,
   "metadata": {},
   "outputs": [
    {
     "data": {
      "text/plain": [
       "array([0, 0, 1, 2, 0, 1, 2, 1, 2, 2, 2, 2, 2, 0, 2, 0, 2, 1, 0, 2, 0, 1,\n",
       "       1, 0, 2, 2, 2, 2, 0, 2, 0, 2, 0, 0, 0, 0, 0, 1, 1, 0, 2, 0, 2, 0,\n",
       "       2, 2, 2, 0, 1, 0, 1, 0, 0, 2, 0, 2, 0, 0, 2, 2, 0, 1, 2, 0, 2, 0,\n",
       "       2, 1, 2, 2, 1, 1, 0, 2, 1, 0, 2, 0, 1, 2, 2, 2, 2, 0, 0, 0, 0, 2,\n",
       "       0, 2, 0, 2, 0, 0, 0, 0, 0, 1, 0, 2, 2, 1, 1, 1, 1, 1, 2, 0, 2, 0,\n",
       "       2, 2, 0, 2, 2, 2, 2, 2, 0, 2, 2, 1, 0, 0, 2, 1, 0, 2, 0, 2, 1, 2,\n",
       "       0, 1, 2, 1, 2, 2, 2, 1, 1, 0, 2, 1, 2, 0, 0, 2, 1, 0, 0, 0, 2, 0,\n",
       "       0, 2, 2, 2, 2, 2, 2, 2, 0, 2, 0, 0, 0, 1, 0, 2, 2, 1, 1, 2, 0, 2,\n",
       "       1, 2, 0, 0, 2, 2, 0, 0, 0, 2, 1, 0, 0, 0, 2, 2, 0, 1, 2, 0, 2, 2,\n",
       "       1, 0, 2, 2, 2, 2, 1, 2, 0, 2, 2, 2, 0, 0, 2, 0, 2, 0, 0, 0, 0, 2,\n",
       "       2, 0, 0, 0, 1, 2, 0, 2, 0, 2, 0, 0, 2, 0, 1, 1, 2, 1, 2, 2, 0, 2,\n",
       "       2, 0, 2, 1, 2, 2, 2, 1, 2, 0], dtype=int64)"
      ]
     },
     "execution_count": 39,
     "metadata": {},
     "output_type": "execute_result"
    }
   ],
   "source": [
    "top_pred_ids"
   ]
  },
  {
   "cell_type": "code",
   "execution_count": 37,
   "metadata": {},
   "outputs": [
    {
     "data": {
      "text/plain": [
       "array([[9.95561838e-01, 7.05273647e-04, 3.73282470e-03],\n",
       "       [9.98225391e-01, 5.83289773e-04, 1.19132141e-03],\n",
       "       [9.97980387e-05, 9.99885798e-01, 1.44446121e-05],\n",
       "       [1.18365183e-01, 6.67219923e-04, 8.80967617e-01],\n",
       "       [9.99765337e-01, 1.15217001e-04, 1.19466837e-04],\n",
       "       [1.70197891e-05, 9.99951959e-01, 3.10144824e-05],\n",
       "       [3.51684008e-07, 3.40556630e-06, 9.99996185e-01],\n",
       "       [2.15740351e-04, 9.99723375e-01, 6.08458031e-05],\n",
       "       [7.02340117e-07, 1.15522096e-06, 9.99998093e-01],\n",
       "       [2.92806590e-07, 5.16962302e-07, 9.99999166e-01],\n",
       "       [8.14303197e-03, 1.85876642e-03, 9.89998162e-01],\n",
       "       [4.81847644e-01, 2.98996340e-03, 5.15162349e-01],\n",
       "       [5.19866153e-05, 6.37105186e-05, 9.99884248e-01],\n",
       "       [9.88050818e-01, 3.99181386e-03, 7.95733463e-03],\n",
       "       [4.38374095e-02, 2.75948807e-03, 9.53403115e-01],\n",
       "       [7.78344870e-01, 1.92776532e-03, 2.19727397e-01],\n",
       "       [1.87569812e-01, 3.11256200e-03, 8.09317648e-01],\n",
       "       [1.59106893e-03, 9.97962832e-01, 4.46160557e-04],\n",
       "       [9.99838114e-01, 2.74857684e-05, 1.34304079e-04],\n",
       "       [4.44533134e-06, 9.03834189e-06, 9.99986529e-01],\n",
       "       [9.99882102e-01, 2.43169761e-05, 9.35213830e-05],\n",
       "       [8.24831077e-04, 9.98836458e-01, 3.38757003e-04],\n",
       "       [1.43970887e-04, 9.99831319e-01, 2.47084354e-05],\n",
       "       [9.95328307e-01, 1.69629566e-04, 4.50206222e-03],\n",
       "       [2.10849117e-04, 3.78963632e-05, 9.99751270e-01],\n",
       "       [1.17099404e-01, 2.81725638e-03, 8.80083382e-01],\n",
       "       [2.47579941e-04, 2.05787746e-05, 9.99731839e-01],\n",
       "       [5.69700031e-04, 1.69832128e-04, 9.99260485e-01],\n",
       "       [9.99342144e-01, 1.70993109e-04, 4.86920879e-04],\n",
       "       [1.41716402e-04, 1.99412738e-04, 9.99658823e-01],\n",
       "       [9.33804929e-01, 2.33213999e-03, 6.38629347e-02],\n",
       "       [6.04109140e-04, 2.94859870e-04, 9.99101043e-01],\n",
       "       [9.99310493e-01, 2.17034016e-04, 4.72436921e-04],\n",
       "       [9.99701560e-01, 2.09064947e-05, 2.77564861e-04],\n",
       "       [9.99951720e-01, 1.31285487e-05, 3.51485032e-05],\n",
       "       [9.70832825e-01, 1.40496658e-03, 2.77622212e-02],\n",
       "       [9.90849733e-01, 4.36935760e-03, 4.78095794e-03],\n",
       "       [4.37169831e-04, 9.99533415e-01, 2.93804806e-05],\n",
       "       [1.25209137e-03, 9.98120129e-01, 6.27744186e-04],\n",
       "       [7.40735352e-01, 1.80894730e-03, 2.57455707e-01],\n",
       "       [1.86626664e-06, 6.14282180e-06, 9.99992013e-01],\n",
       "       [9.99341905e-01, 2.16237153e-04, 4.41846467e-04],\n",
       "       [4.17800125e-04, 1.46901293e-04, 9.99435246e-01],\n",
       "       [9.87406433e-01, 1.68766608e-04, 1.24248359e-02],\n",
       "       [6.97631185e-06, 3.04979540e-06, 9.99989986e-01],\n",
       "       [1.64498342e-04, 5.65752707e-05, 9.99778926e-01],\n",
       "       [9.02699158e-02, 7.27884658e-03, 9.02451217e-01],\n",
       "       [9.69708502e-01, 2.57937820e-03, 2.77121849e-02],\n",
       "       [1.06650952e-03, 9.97884810e-01, 1.04869099e-03],\n",
       "       [9.97498691e-01, 1.04342740e-04, 2.39698845e-03],\n",
       "       [2.76149716e-04, 9.99694228e-01, 2.96372637e-05],\n",
       "       [9.99989748e-01, 2.82443193e-06, 7.40325504e-06],\n",
       "       [9.94122565e-01, 1.99712813e-04, 5.67776803e-03],\n",
       "       [1.48770935e-03, 9.46341606e-05, 9.98417616e-01],\n",
       "       [9.98720288e-01, 5.87751740e-04, 6.91941357e-04],\n",
       "       [9.90370972e-05, 7.41320036e-05, 9.99826849e-01],\n",
       "       [8.55651617e-01, 7.61750340e-03, 1.36730984e-01],\n",
       "       [9.99591291e-01, 7.42699849e-05, 3.34468612e-04],\n",
       "       [1.49955275e-03, 1.71041364e-04, 9.98329461e-01],\n",
       "       [3.70675400e-02, 3.19147971e-03, 9.59740937e-01],\n",
       "       [9.99165893e-01, 3.54516873e-04, 4.79616050e-04],\n",
       "       [1.09099818e-03, 9.98668432e-01, 2.40618829e-04],\n",
       "       [6.21452054e-05, 5.12619008e-05, 9.99886632e-01],\n",
       "       [9.80232477e-01, 2.61248765e-03, 1.71550382e-02],\n",
       "       [1.17466110e-03, 5.66665200e-04, 9.98258650e-01],\n",
       "       [9.99705493e-01, 1.36892515e-04, 1.57557064e-04],\n",
       "       [6.11761212e-02, 5.76723192e-04, 9.38247144e-01],\n",
       "       [1.01748237e-03, 9.98437941e-01, 5.44477312e-04],\n",
       "       [1.00683319e-04, 3.10085161e-05, 9.99868274e-01],\n",
       "       [6.46344665e-03, 1.07251795e-03, 9.92464066e-01],\n",
       "       [2.48650394e-05, 9.99877095e-01, 9.79407778e-05],\n",
       "       [2.17748247e-03, 9.97658968e-01, 1.63549179e-04],\n",
       "       [9.98351812e-01, 1.89651080e-04, 1.45855593e-03],\n",
       "       [1.13785118e-05, 2.93261110e-05, 9.99959350e-01],\n",
       "       [9.50064350e-05, 9.99855161e-01, 4.97911788e-05],\n",
       "       [9.96966183e-01, 1.87859740e-04, 2.84593645e-03],\n",
       "       [1.35646248e-03, 2.13816660e-04, 9.98429716e-01],\n",
       "       [9.91059959e-01, 1.53389783e-03, 7.40619190e-03],\n",
       "       [3.17169400e-03, 9.96562779e-01, 2.65549665e-04],\n",
       "       [9.59959725e-05, 2.77934505e-05, 9.99876142e-01],\n",
       "       [5.32123959e-05, 4.05317260e-05, 9.99906301e-01],\n",
       "       [3.60741092e-06, 3.44829859e-05, 9.99961853e-01],\n",
       "       [4.69741344e-01, 1.73678243e-04, 5.30084968e-01],\n",
       "       [9.99958038e-01, 2.16683202e-05, 2.02753490e-05],\n",
       "       [9.92722571e-01, 6.31397765e-04, 6.64603617e-03],\n",
       "       [9.97483671e-01, 7.87796162e-05, 2.43751216e-03],\n",
       "       [9.98914957e-01, 3.70179332e-04, 7.14872323e-04],\n",
       "       [2.38377252e-05, 1.02593049e-05, 9.99965906e-01],\n",
       "       [9.99684691e-01, 1.33759051e-04, 1.81558557e-04],\n",
       "       [2.88073957e-01, 6.45941496e-03, 7.05466628e-01],\n",
       "       [9.99091625e-01, 1.23147285e-04, 7.85236538e-04],\n",
       "       [1.78636191e-03, 1.21483718e-04, 9.98092115e-01],\n",
       "       [9.95118260e-01, 6.41614199e-04, 4.24008537e-03],\n",
       "       [9.99814332e-01, 6.73261675e-05, 1.18350916e-04],\n",
       "       [9.99966860e-01, 4.95670156e-06, 2.81268167e-05],\n",
       "       [9.99805629e-01, 3.24140201e-05, 1.61977994e-04],\n",
       "       [9.35157657e-01, 2.42710439e-03, 6.24152273e-02],\n",
       "       [3.91991984e-04, 9.99577224e-01, 3.07211703e-05],\n",
       "       [9.99737084e-01, 2.02562023e-05, 2.42650931e-04],\n",
       "       [1.05198342e-04, 1.76518570e-05, 9.99877095e-01],\n",
       "       [2.12083384e-02, 2.76973704e-03, 9.76021945e-01],\n",
       "       [1.18744829e-04, 9.99492288e-01, 3.88958870e-04],\n",
       "       [7.04741280e-04, 9.99264657e-01, 3.05578324e-05],\n",
       "       [8.19776142e-06, 9.99975681e-01, 1.61168391e-05],\n",
       "       [1.69857631e-05, 9.99919176e-01, 6.38342026e-05],\n",
       "       [8.11287027e-04, 9.98134732e-01, 1.05394830e-03],\n",
       "       [2.57448119e-04, 7.34535643e-05, 9.99669075e-01],\n",
       "       [9.92468536e-01, 3.65135027e-04, 7.16631766e-03],\n",
       "       [2.93173701e-01, 6.08466333e-03, 7.00741649e-01],\n",
       "       [9.98134077e-01, 1.16865919e-03, 6.97250944e-04],\n",
       "       [7.64221360e-04, 9.24163105e-05, 9.99143362e-01],\n",
       "       [2.15048017e-03, 3.28864087e-04, 9.97520626e-01],\n",
       "       [8.20832610e-01, 2.87438487e-03, 1.76293030e-01],\n",
       "       [1.49462066e-05, 1.12636162e-05, 9.99973774e-01],\n",
       "       [8.09974736e-04, 3.52937263e-04, 9.98837054e-01],\n",
       "       [4.17176485e-02, 1.34311369e-04, 9.58148003e-01],\n",
       "       [1.34257972e-01, 1.35671278e-03, 8.64385307e-01],\n",
       "       [3.93850841e-02, 2.59781419e-03, 9.58017170e-01],\n",
       "       [9.99862075e-01, 1.45000276e-05, 1.23323378e-04],\n",
       "       [3.21435764e-05, 4.91431674e-05, 9.99918699e-01],\n",
       "       [3.18987528e-04, 2.97699356e-04, 9.99383330e-01],\n",
       "       [4.55535279e-04, 9.99486089e-01, 5.83978835e-05],\n",
       "       [9.76689935e-01, 4.79662092e-04, 2.28304192e-02],\n",
       "       [9.94426131e-01, 1.81675234e-04, 5.39211836e-03],\n",
       "       [1.76739733e-04, 8.58984131e-05, 9.99737322e-01],\n",
       "       [4.68930375e-04, 9.99188721e-01, 3.42362822e-04],\n",
       "       [9.96892929e-01, 7.29920925e-04, 2.37713405e-03],\n",
       "       [2.48568540e-05, 5.34017709e-05, 9.99921679e-01],\n",
       "       [9.95231450e-01, 1.77269592e-03, 2.99577392e-03],\n",
       "       [4.29078384e-04, 3.97359428e-04, 9.99173582e-01],\n",
       "       [4.56695398e-03, 9.95029926e-01, 4.03108192e-04],\n",
       "       [4.96126175e-01, 3.56975058e-03, 5.00304103e-01],\n",
       "       [9.97822881e-01, 5.65139577e-04, 1.61197549e-03],\n",
       "       [3.02050775e-03, 9.96655941e-01, 3.23504617e-04],\n",
       "       [7.61057606e-07, 3.56989312e-06, 9.99995708e-01],\n",
       "       [8.60285363e-04, 9.99084115e-01, 5.56727719e-05],\n",
       "       [7.85013894e-04, 1.66613609e-04, 9.99048412e-01],\n",
       "       [2.08945537e-04, 1.02409060e-04, 9.99688625e-01],\n",
       "       [7.16453302e-04, 5.97266480e-04, 9.98686254e-01],\n",
       "       [1.74289232e-03, 9.97828186e-01, 4.28904546e-04],\n",
       "       [4.12054040e-04, 9.99311566e-01, 2.76400155e-04],\n",
       "       [9.99894738e-01, 5.83596920e-06, 9.94220827e-05],\n",
       "       [6.44310787e-02, 3.11827660e-03, 9.32450712e-01],\n",
       "       [3.24044668e-05, 9.99951482e-01, 1.61102234e-05],\n",
       "       [8.04026695e-06, 8.73999579e-06, 9.99983191e-01],\n",
       "       [9.99771297e-01, 4.18781819e-05, 1.86909427e-04],\n",
       "       [7.37470806e-01, 1.22663716e-03, 2.61302531e-01],\n",
       "       [1.00731310e-02, 1.74445496e-03, 9.88182366e-01],\n",
       "       [2.06720713e-03, 9.97852206e-01, 8.06299286e-05],\n",
       "       [9.99458849e-01, 6.13200682e-05, 4.79790993e-04],\n",
       "       [9.94294345e-01, 2.08120164e-03, 3.62437568e-03],\n",
       "       [9.99467313e-01, 7.83400683e-05, 4.54252789e-04],\n",
       "       [6.64343825e-03, 8.84095789e-05, 9.93268073e-01],\n",
       "       [9.62556660e-01, 1.59470597e-03, 3.58486474e-02],\n",
       "       [9.99154806e-01, 2.67241587e-04, 5.77912666e-04],\n",
       "       [5.48543504e-08, 1.48752946e-07, 9.99999762e-01],\n",
       "       [5.33817456e-06, 1.16847241e-05, 9.99982953e-01],\n",
       "       [3.01193431e-05, 9.77434684e-06, 9.99960065e-01],\n",
       "       [3.15434039e-02, 2.33103498e-03, 9.66125548e-01],\n",
       "       [3.08579896e-02, 2.41446774e-03, 9.66727555e-01],\n",
       "       [4.16840345e-01, 7.94271473e-03, 5.75216889e-01],\n",
       "       [1.54577458e-04, 2.33908941e-05, 9.99822080e-01],\n",
       "       [9.98326123e-01, 4.43576486e-04, 1.23027526e-03],\n",
       "       [5.57619896e-05, 9.09584342e-05, 9.99853253e-01],\n",
       "       [9.99835968e-01, 1.64472349e-05, 1.47607570e-04],\n",
       "       [8.57207596e-01, 1.35208841e-03, 1.41440317e-01],\n",
       "       [8.62338841e-01, 6.04666886e-04, 1.37056530e-01],\n",
       "       [1.93342799e-04, 9.99793708e-01, 1.29499867e-05],\n",
       "       [8.99315119e-01, 2.56316876e-03, 9.81216431e-02],\n",
       "       [2.50298791e-02, 1.71042304e-03, 9.73259687e-01],\n",
       "       [1.67552332e-06, 6.90745856e-06, 9.99991417e-01],\n",
       "       [1.31229899e-04, 9.99829888e-01, 3.88830413e-05],\n",
       "       [2.45191681e-04, 9.99611557e-01, 1.43242491e-04],\n",
       "       [3.98522150e-03, 1.47823663e-03, 9.94536519e-01],\n",
       "       [9.98162687e-01, 2.97483464e-04, 1.53987121e-03],\n",
       "       [5.18367524e-05, 2.15681189e-06, 9.99945998e-01],\n",
       "       [8.68683128e-06, 9.99947071e-01, 4.42066375e-05],\n",
       "       [1.70480726e-05, 1.75223522e-05, 9.99965429e-01],\n",
       "       [9.99015212e-01, 2.99958279e-04, 6.84801314e-04],\n",
       "       [8.38987589e-01, 2.48303707e-03, 1.58529356e-01],\n",
       "       [9.62082704e-05, 7.30904576e-05, 9.99830723e-01],\n",
       "       [1.53803974e-01, 1.50047950e-02, 8.31191242e-01],\n",
       "       [9.99231100e-01, 2.24053641e-04, 5.44839888e-04],\n",
       "       [9.99793231e-01, 2.24998421e-05, 1.84259436e-04],\n",
       "       [9.86510873e-01, 4.96906287e-04, 1.29922843e-02],\n",
       "       [1.60163050e-04, 4.51263099e-04, 9.99388576e-01],\n",
       "       [4.31757915e-04, 9.99500275e-01, 6.79289078e-05],\n",
       "       [9.88897383e-01, 5.37775399e-04, 1.05648339e-02],\n",
       "       [9.99433815e-01, 9.08218353e-05, 4.75419627e-04],\n",
       "       [9.99548852e-01, 5.97997350e-05, 3.91254463e-04],\n",
       "       [1.42887766e-05, 1.18050499e-04, 9.99867678e-01],\n",
       "       [1.46502543e-06, 3.64567109e-06, 9.99994874e-01],\n",
       "       [9.90804076e-01, 3.51607814e-05, 9.16075241e-03],\n",
       "       [1.60121627e-03, 9.97984886e-01, 4.13871021e-04],\n",
       "       [2.54109525e-03, 2.09485483e-03, 9.95364070e-01],\n",
       "       [9.97846365e-01, 6.95400580e-04, 1.45818805e-03],\n",
       "       [7.10763154e-04, 3.18807986e-04, 9.98970389e-01],\n",
       "       [6.80087926e-03, 3.10670515e-03, 9.90092337e-01],\n",
       "       [2.07358404e-04, 9.99734938e-01, 5.76993116e-05],\n",
       "       [8.97537410e-01, 8.61480553e-03, 9.38478336e-02],\n",
       "       [5.02485782e-03, 1.73736349e-04, 9.94801402e-01],\n",
       "       [1.56768528e-03, 2.89715070e-04, 9.98142600e-01],\n",
       "       [9.06077214e-04, 3.77947174e-04, 9.98715997e-01],\n",
       "       [5.73463126e-07, 1.99410283e-06, 9.99997377e-01],\n",
       "       [2.84072175e-05, 9.99958992e-01, 1.25876550e-05],\n",
       "       [1.29804960e-06, 4.81071220e-06, 9.99993920e-01],\n",
       "       [9.93313253e-01, 7.05442159e-04, 5.98121155e-03],\n",
       "       [2.91210681e-01, 8.68060160e-03, 7.00108767e-01],\n",
       "       [2.21696328e-02, 3.12541757e-04, 9.77517784e-01],\n",
       "       [4.78932410e-01, 5.80992317e-04, 5.20486653e-01],\n",
       "       [9.98643219e-01, 6.63563493e-04, 6.93184149e-04],\n",
       "       [9.97748911e-01, 4.41618002e-04, 1.80946058e-03],\n",
       "       [2.21841547e-04, 6.58831341e-05, 9.99712288e-01],\n",
       "       [9.99702871e-01, 4.81638708e-05, 2.49003206e-04],\n",
       "       [4.83929692e-03, 3.76943004e-04, 9.94783819e-01],\n",
       "       [7.29455113e-01, 1.54429465e-03, 2.69000679e-01],\n",
       "       [9.99166012e-01, 1.81053649e-04, 6.52923482e-04],\n",
       "       [9.99863744e-01, 2.90180469e-05, 1.07229309e-04],\n",
       "       [9.99880075e-01, 7.75089757e-06, 1.12190217e-04],\n",
       "       [1.62141964e-01, 7.91173987e-03, 8.29946280e-01],\n",
       "       [3.66893323e-06, 1.62555589e-05, 9.99980092e-01],\n",
       "       [9.99715388e-01, 4.20536126e-05, 2.42562848e-04],\n",
       "       [9.99687314e-01, 4.20588476e-05, 2.70616612e-04],\n",
       "       [9.08503115e-01, 2.12967466e-03, 8.93672258e-02],\n",
       "       [9.29458067e-04, 9.98769104e-01, 3.01511551e-04],\n",
       "       [5.22670452e-04, 7.92232750e-05, 9.99398112e-01],\n",
       "       [9.86858010e-01, 8.33007740e-04, 1.23089431e-02],\n",
       "       [1.01435978e-06, 3.38431846e-06, 9.99995589e-01],\n",
       "       [9.91821468e-01, 5.41436093e-05, 8.12438410e-03],\n",
       "       [1.46718370e-02, 5.49950462e-04, 9.84778225e-01],\n",
       "       [9.93968010e-01, 1.00082114e-04, 5.93184168e-03],\n",
       "       [9.98982608e-01, 1.73509325e-04, 8.43870861e-04],\n",
       "       [6.93435577e-05, 8.53785168e-05, 9.99845266e-01],\n",
       "       [9.98983800e-01, 2.76418636e-04, 7.39783980e-04],\n",
       "       [1.71446393e-03, 9.98047233e-01, 2.38323541e-04],\n",
       "       [4.01422242e-03, 9.95652795e-01, 3.32943688e-04],\n",
       "       [3.21966335e-02, 1.38703256e-03, 9.66416359e-01],\n",
       "       [1.81781990e-03, 9.97029305e-01, 1.15286023e-03],\n",
       "       [2.41094835e-06, 7.87147746e-06, 9.99989748e-01],\n",
       "       [3.97114642e-03, 8.65786744e-04, 9.95163083e-01],\n",
       "       [9.99608576e-01, 3.59685764e-05, 3.55415134e-04],\n",
       "       [1.73637295e-06, 6.09612925e-06, 9.99992132e-01],\n",
       "       [1.34604319e-03, 1.57591174e-04, 9.98496413e-01],\n",
       "       [9.99702752e-01, 6.85159830e-05, 2.28733203e-04],\n",
       "       [2.99586933e-02, 1.43853971e-03, 9.68602836e-01],\n",
       "       [5.05234231e-04, 9.99446571e-01, 4.80996605e-05],\n",
       "       [3.58722755e-04, 1.85265671e-05, 9.99622703e-01],\n",
       "       [2.50927564e-02, 6.69957430e-04, 9.74237323e-01],\n",
       "       [8.33714530e-02, 2.43245531e-03, 9.14196134e-01],\n",
       "       [2.70057772e-05, 9.99887466e-01, 8.54621103e-05],\n",
       "       [1.55774869e-05, 5.28781893e-05, 9.99931574e-01],\n",
       "       [9.98929083e-01, 2.42395414e-04, 8.28479708e-04]], dtype=float32)"
      ]
     },
     "execution_count": 37,
     "metadata": {},
     "output_type": "execute_result"
    }
   ],
   "source": [
    "val_predictions"
   ]
  },
  {
   "attachments": {},
   "cell_type": "markdown",
   "metadata": {},
   "source": [
    "## Code reserved for troubleshooting"
   ]
  },
  {
   "cell_type": "code",
   "execution_count": 26,
   "metadata": {},
   "outputs": [],
   "source": [
    "def mobilenet_v1_keras(input_shape, classes=classes, alpha=alpha):\n",
    "    model = tf.keras.applications.mobilenet.MobileNet(\n",
    "        input_shape=input_shape,\n",
    "        alpha=alpha,\n",
    "        depth_multiplier=1,\n",
    "        dropout=0.001,\n",
    "        include_top=True,\n",
    "        weights=None, #'imagenet'\n",
    "        input_tensor=None,\n",
    "        pooling=None,\n",
    "        classes=classes,\n",
    "        classifier_activation='softmax',\n",
    "        #**kwargs\n",
    "    )\n",
    "\n",
    "    #model._name = model.name + \"_keras\" # model.name cannot be overritten\n",
    "\n",
    "    return model\n",
    "    #model = mobilenet_v1_keras((IMG_WIDTH, IMG_HEIGHT, 3), classes=classes, alpha=alpha)"
   ]
  },
  {
   "cell_type": "code",
   "execution_count": 27,
   "metadata": {},
   "outputs": [],
   "source": [
    "#os.environ[\"WANDB_MODE\"] = \"online\"\n",
    "def train_model(model):\n",
    "\n",
    "        # solve issue from: https://github.com/wandb/wandb/issues/3536\n",
    "        # if len(wandb.patched[\"tensorboard\"]) > 0:\n",
    "        #         wandb.tensorboard.unpatch()\n",
    "                \n",
    "        # Configure Tensorboard root log directory to read the debugging information\n",
    "        #wandb.tensorboard.patch(root_logdir=root_logdir)\n",
    "        # wandb.tensorboard.patch(root_logdir=\"wandb.run.dir\")\n",
    "        \n",
    "        # wandb.init(\n",
    "        #         # Set the project where this run will be logged\n",
    "        #         project=PROJECT, \n",
    "        #         # Track hyperparameters and run metadata\n",
    "        #         #config={\n",
    "        #         #\"learning_rate\": LR,\n",
    "        #         #\"epochs\": EPOCHS,\n",
    "        #         #},\n",
    "        #         sync_tensorboard=True\n",
    "        #         )\n",
    "\n",
    "\n",
    "\n",
    "        # config = wandb.config\n",
    "        # # Specify the configuration variables\n",
    "        # config.batch_size = BATCH_SIZE\n",
    "        # config.dropout =DROPOUT\n",
    "        # config.learn_rate = LR\n",
    "        # #config.decay = 1e-6\n",
    "        # #config.momentum = 0.9\n",
    "        # config.epochs = EPOCHS\n",
    "        # config.classes = classes\n",
    "        \n",
    "\n",
    "        # enable Tensorflow Debugging\n",
    "        #tf.debugging.experimental.enable_dump_debug_info(\"./logs/debug\", \n",
    "        #        tensor_debug_mode=\"FULL_HEALTH\", circular_buffer_size=-1)\n",
    "\n",
    "        #model = mobilenet\n",
    "        model.compile(optimizer='adam',\n",
    "                        loss='sparse_categorical_crossentropy',\n",
    "                        metrics=['accuracy'])\n",
    "\n",
    "        logdir = os.path.join(\"logs\", datetime.datetime.now().strftime(\"%Y%m%d-%H%M%S\"))\n",
    "        #tensorboard_callback = tf.keras.callbacks.TensorBoard(log_dir= wandb.run.dir, histogram_freq=10, update_freq=\"epoch\") #, profile_batch=\"10, 20\")\n",
    "        tensorboard_callback = tf.keras.callbacks.TensorBoard(log_dir= logdir) #, histogram_freq=1)\n",
    "        #wandb_callback = WandbCallback()# input_type=\"image\", labels=labels) #, validation_data = val_ds.as_numpy_iterator())\n",
    "\n",
    "        early_stopping = EarlyStopping(monitor=\"val_accuracy\", patience=50)\n",
    "\n",
    "        #checkpoint = ModelCheckpoint(\"my_tiny_model\", save_weights_only=True)\n",
    "\n",
    "        callbacks =[\n",
    "                #tensorboard_callback,\n",
    "                #wandb_callback,\n",
    "                #WandbMetricsLogger(),\n",
    "                #checkpoint,\n",
    "                #early_stopping\n",
    "        ]\n",
    "\n",
    "        history = model.fit(train_ds,\n",
    "                epochs=EPOCHS, \n",
    "                validation_data=val_ds, \n",
    "                callbacks=callbacks\n",
    "        )\n",
    "\n",
    "        # wandb.log({\n",
    "        #         \"loss\": history.history[\"loss\"],\n",
    "        #         \"accuracy\": history.history[\"accuracy\"],\n",
    "        #         \"val_loss\": history.history[\"val_loss\"],\n",
    "        #         \"val_accuracy\": history.history[\"val_accuracy\"],                                \n",
    "        # })\n",
    "        \n",
    "        #wandb.finish()\n",
    "        return history, model\n"
   ]
  },
  {
   "cell_type": "code",
   "execution_count": 28,
   "metadata": {},
   "outputs": [],
   "source": [
    "# model.compile(optimizer='adam',\n",
    "#                 loss='sparse_categorical_crossentropy',\n",
    "#                 metrics=['accuracy'])"
   ]
  },
  {
   "cell_type": "code",
   "execution_count": 29,
   "metadata": {},
   "outputs": [],
   "source": [
    "# history = model.fit(train_ds,\n",
    "#                 epochs=EPOCHS, \n",
    "#                 validation_data=val_ds\n",
    "#         )"
   ]
  },
  {
   "cell_type": "code",
   "execution_count": 30,
   "metadata": {},
   "outputs": [
    {
     "data": {
      "text/plain": [
       "dict_keys(['loss', 'accuracy', 'val_loss', 'val_accuracy'])"
      ]
     },
     "execution_count": 30,
     "metadata": {},
     "output_type": "execute_result"
    }
   ],
   "source": [
    "#history.history[\"loss\"]\n",
    "history.history.keys()"
   ]
  },
  {
   "cell_type": "code",
   "execution_count": 31,
   "metadata": {},
   "outputs": [
    {
     "data": {
      "text/plain": [
       "{'verbose': 1, 'epochs': 30, 'steps': 64}"
      ]
     },
     "execution_count": 31,
     "metadata": {},
     "output_type": "execute_result"
    }
   ],
   "source": [
    "history.params"
   ]
  },
  {
   "cell_type": "code",
   "execution_count": null,
   "metadata": {},
   "outputs": [],
   "source": []
  }
 ],
 "metadata": {
  "kernelspec": {
   "display_name": "tiny_cnn_5",
   "language": "python",
   "name": "python3"
  },
  "language_info": {
   "codemirror_mode": {
    "name": "ipython",
    "version": 3
   },
   "file_extension": ".py",
   "mimetype": "text/x-python",
   "name": "python",
   "nbconvert_exporter": "python",
   "pygments_lexer": "ipython3",
   "version": "3.10.6"
  },
  "orig_nbformat": 4,
  "vscode": {
   "interpreter": {
    "hash": "4b362e3f7439b35b0bc0fa2e0c3a5b3cc0154c779cd4216b658aa3553d61d067"
   }
  }
 },
 "nbformat": 4,
 "nbformat_minor": 2
}
