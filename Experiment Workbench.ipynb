{
 "cells": [
  {
   "cell_type": "markdown",
   "metadata": {},
   "source": [
    "# Experiment Workbench"
   ]
  },
  {
   "cell_type": "code",
   "execution_count": 1,
   "metadata": {},
   "outputs": [],
   "source": [
    "import os, sys, math, datetime\n",
    "import pathlib\n",
    "import numpy as np\n",
    "import random\n",
    "from matplotlib import pyplot as plt\n",
    "import PIL\n",
    "import PIL.Image\n",
    "\n",
    "import tensorflow as tf\n",
    "import tensorflow_datasets as tfds\n",
    "from tensorflow import keras\n",
    "from tensorflow.keras.layers import Input, Dense, Flatten, Conv2D, MaxPooling2D, GlobalAveragePooling2D, BatchNormalization, Concatenate\n",
    "from tensorflow.keras.models import Model\n",
    "from tensorflow.keras.callbacks import ModelCheckpoint, EarlyStopping\n",
    "\n",
    "from dotenv import load_dotenv\n",
    "import boto3\n",
    "import wandb\n",
    "from wandb.keras import WandbCallback\n",
    "import mlflow\n"
   ]
  },
  {
   "cell_type": "code",
   "execution_count": 2,
   "metadata": {},
   "outputs": [
    {
     "name": "stdout",
     "output_type": "stream",
     "text": [
      "Tensorflow version 2.10.0\n",
      "Found GPU at: /device:GPU:0\n"
     ]
    }
   ],
   "source": [
    "\n",
    "print(\"Tensorflow version \" + tf.__version__)\n",
    "AUTOTUNE = tf.data.AUTOTUNE\n",
    "\n",
    "# Confirm that TensorFlow can access GPU\n",
    "device_name = tf.test.gpu_device_name()\n",
    "if not device_name:\n",
    "  raise SystemError('GPU device not found')\n",
    "print('Found GPU at: {}'.format(device_name))"
   ]
  },
  {
   "cell_type": "code",
   "execution_count": 3,
   "metadata": {},
   "outputs": [],
   "source": [
    "# Start a Tensorboard session\n",
    "%load_ext tensorboard"
   ]
  },
  {
   "cell_type": "code",
   "execution_count": 11,
   "metadata": {},
   "outputs": [],
   "source": [
    "os.environ['WANDB_NOTEBOOK_NAME'] = 'Experiment Workbench'\n",
    "\n",
    "\n",
    "\n",
    "BATCH_SIZE = 128\n",
    "EPOCHS = 5\n",
    "LOGGING_STEPS = 10\n",
    "LR = 0.001\n",
    "\n",
    "PROJECT = \"Tiny CNN\"\n",
    "MODELNAME = \"Simple_Net\"\n",
    "EXPERIMENT = \"MNIST\"\n",
    "RUN_NAME = \"Run_8\"\n",
    "\n",
    "logdir = os.path.join(\"logs\", MODELNAME, datetime.datetime.now().strftime(\"%Y%m%d-%H%M%S\"))"
   ]
  },
  {
   "cell_type": "markdown",
   "metadata": {},
   "source": [
    "# Preparing the data"
   ]
  },
  {
   "cell_type": "code",
   "execution_count": 4,
   "metadata": {},
   "outputs": [],
   "source": [
    "# Load some data\n",
    "(x_train, y_train), (x_test, y_test) = keras.datasets.cifar10.load_data()\n",
    "assert x_train.shape == (50000, 32, 32, 3)\n",
    "assert x_test.shape == (10000, 32, 32, 3)\n",
    "assert y_train.shape == (50000, 1)\n",
    "assert y_test.shape == (10000, 1)\n",
    "\n",
    "x_train = x_train.astype(\"float32\") / 255.0\n",
    "x_test = x_test.astype(\"float32\") / 255.0\n",
    "#y_train = keras.utils.to_categorical(y_train, 10)\n",
    "#y_test = keras.utils.to_categorical(y_test, 10)\n",
    "\n",
    "input_shape = x_train.shape[1:]\n",
    "classes = 10\n",
    "labels = [\"airplane\", \"automobile\", \"bird\", \"cat\", \"deer\", \"dog\", \"frog\", \"horse\", \"ship\", \"truck\"]"
   ]
  },
  {
   "cell_type": "code",
   "execution_count": 6,
   "metadata": {},
   "outputs": [],
   "source": [
    "def data_preprocessing(image, label):\n",
    "    # this function can be extended if any pre-processing or augmentation is needed\n",
    "    return (image, label)"
   ]
  },
  {
   "cell_type": "code",
   "execution_count": 7,
   "metadata": {},
   "outputs": [],
   "source": [
    "\n",
    "# Create a tf.data pipeline of augmented images (and their labels)\n",
    "train_dataset = tf.data.Dataset.from_tensor_slices((x_train, y_train))\n",
    "#train_dataset = train_dataset.batch(BATCH_SIZE).map(lambda x, y: (data_augmentation(x), y))\n",
    "train_dataset = train_dataset.batch(BATCH_SIZE).map(data_preprocessing).prefetch(tf.data.AUTOTUNE)\n",
    "\n",
    "val_dataset = tf.data.Dataset.from_tensor_slices((x_test, y_test))\n",
    "#train_dataset = train_dataset.batch(BATCH_SIZE).map(lambda x, y: (data_augmentation(x), y))\n",
    "val_dataset = val_dataset.batch(BATCH_SIZE).map(data_preprocessing).prefetch(tf.data.AUTOTUNE)\n"
   ]
  },
  {
   "cell_type": "markdown",
   "metadata": {},
   "source": [
    "# Define the model"
   ]
  },
  {
   "cell_type": "code",
   "execution_count": 8,
   "metadata": {},
   "outputs": [],
   "source": [
    "def create_model(input_shape, classes):\n",
    "  return tf.keras.models.Sequential([\n",
    "    tf.keras.layers.Flatten(input_shape=input_shape),\n",
    "    #tf.keras.layers.Rescaling(1.0 / 255),\n",
    "    tf.keras.layers.Dense(512, activation='relu'),\n",
    "    tf.keras.layers.Dropout(0.2),\n",
    "    tf.keras.layers.Dense(classes, activation='softmax')\n",
    "  ])"
   ]
  },
  {
   "cell_type": "code",
   "execution_count": 17,
   "metadata": {},
   "outputs": [],
   "source": [
    "def train_model():\n",
    "\n",
    "        # solve issue from: https://github.com/wandb/wandb/issues/3536\n",
    "        if len(wandb.patched[\"tensorboard\"]) > 0:\n",
    "                wandb.tensorboard.unpatch()\n",
    "                \n",
    "        # Configure Tensorboard root log directory to read the debugging information\n",
    "        \n",
    "        # wandb.tensorboard.patch(root_logdir=\"./logs/debug\")\n",
    "        # wandb.tensorboard.patch(root_logdir=\"wandb.run.dir\")\n",
    "        \n",
    "        wandb.init(\n",
    "                # Set the project where this run will be logged\n",
    "                project=PROJECT, \n",
    "                # Track hyperparameters and run metadata\n",
    "                #config={\n",
    "                #\"learning_rate\": LR,\n",
    "                #\"epochs\": EPOCHS,\n",
    "                #},\n",
    "                sync_tensorboard=True\n",
    "                )\n",
    "\n",
    "\n",
    "        config = wandb.config\n",
    "        # Specify the configuration variables\n",
    "        config.dropout = 0.2\n",
    "        #config.hidden_layer_size = 128\n",
    "        #config.layer_1_size  = 16\n",
    "        #config.layer_2_size = 32\n",
    "        config.learn_rate = LR\n",
    "        #config.decay = 1e-6\n",
    "        #config.momentum = 0.9\n",
    "        config.epochs = EPOCHS\n",
    "        config.classes = classes\n",
    "\n",
    "        # enable Tensorflow Debugging\n",
    "        #tf.debugging.experimental.enable_dump_debug_info(\"./logs/debug\", \n",
    "        #        tensor_debug_mode=\"FULL_HEALTH\", circular_buffer_size=-1)\n",
    "\n",
    "        \n",
    "        model = create_model(input_shape, classes)\n",
    "        model.compile(optimizer='adam',\n",
    "                        loss='sparse_categorical_crossentropy',\n",
    "                        metrics=['accuracy'])\n",
    "\n",
    "        logdir = os.path.join(\"logs\", datetime.datetime.now().strftime(\"%Y%m%d-%H%M%S\"))\n",
    "        tensorboard_callback = tf.keras.callbacks.TensorBoard(log_dir= wandb.run.dir, histogram_freq=1, profile_batch=\"10, 20\")\n",
    "        #tensorboard_callback = tf.keras.callbacks.TensorBoard(log_dir= logdir, histogram_freq=1)\n",
    "        wandb_callback = WandbCallback(input_type=\"image\", labels=labels)\n",
    "\n",
    "        early_stopping = EarlyStopping(monitor=\"val_accuracy\", patience=3)\n",
    "\n",
    "        checkpoint = ModelCheckpoint(\"my_tiny_model\", save_weights_only=True)\n",
    "        history = model.fit(train_dataset,\n",
    "                epochs=config.epochs, \n",
    "                validation_data=val_dataset, \n",
    "                callbacks=[tensorboard_callback, wandb_callback, checkpoint, early_stopping])\n",
    "\n",
    "        wandb.finish()\n",
    "        return history, model\n"
   ]
  },
  {
   "cell_type": "code",
   "execution_count": 18,
   "metadata": {},
   "outputs": [
    {
     "data": {
      "text/html": [
       "Tracking run with wandb version 0.13.4"
      ],
      "text/plain": [
       "<IPython.core.display.HTML object>"
      ]
     },
     "metadata": {},
     "output_type": "display_data"
    },
    {
     "data": {
      "text/html": [
       "Run data is saved locally in <code>i:\\tinyml\\tiny_cnn\\wandb\\run-20221016_221100-230352ul</code>"
      ],
      "text/plain": [
       "<IPython.core.display.HTML object>"
      ]
     },
     "metadata": {},
     "output_type": "display_data"
    },
    {
     "data": {
      "text/html": [
       "Syncing run <strong><a href=\"https://wandb.ai/susbrock/Tiny%20CNN/runs/230352ul\" target=\"_blank\">playful-shadow-22</a></strong> to <a href=\"https://wandb.ai/susbrock/Tiny%20CNN\" target=\"_blank\">Weights & Biases</a> (<a href=\"https://wandb.me/run\" target=\"_blank\">docs</a>)<br/>"
      ],
      "text/plain": [
       "<IPython.core.display.HTML object>"
      ]
     },
     "metadata": {},
     "output_type": "display_data"
    },
    {
     "name": "stdout",
     "output_type": "stream",
     "text": [
      "Epoch 1/5\n",
      "  1/391 [..............................] - ETA: 2:45 - loss: 2.4358 - accuracy: 0.0781WARNING:tensorflow:Callback method `on_train_batch_end` is slow compared to the batch time (batch time: 0.0048s vs `on_train_batch_end` time: 0.0078s). Check your callbacks.\n",
      "388/391 [============================>.] - ETA: 0s - loss: 1.9945 - accuracy: 0.2949"
     ]
    },
    {
     "name": "stderr",
     "output_type": "stream",
     "text": [
      "\u001b[34m\u001b[1mwandb\u001b[0m: \u001b[33mWARNING\u001b[0m When using several event log directories, please call `wandb.tensorboard.patch(root_logdir=\"...\")` before `wandb.init`\n"
     ]
    },
    {
     "name": "stdout",
     "output_type": "stream",
     "text": [
      "2/2 [==============================] - 0s 5ms/step\n",
      "INFO:tensorflow:Assets written to: i:\\tinyml\\tiny_cnn\\wandb\\run-20221016_221100-230352ul\\files\\model-best\\assets\n"
     ]
    },
    {
     "name": "stderr",
     "output_type": "stream",
     "text": [
      "\u001b[34m\u001b[1mwandb\u001b[0m: Adding directory to artifact (i:\\tinyml\\tiny_cnn\\wandb\\run-20221016_221100-230352ul\\files\\model-best)... Done. 0.1s\n"
     ]
    },
    {
     "name": "stdout",
     "output_type": "stream",
     "text": [
      "391/391 [==============================] - 11s 27ms/step - loss: 1.9934 - accuracy: 0.2953 - val_loss: 1.7843 - val_accuracy: 0.3692\n",
      "Epoch 2/5\n",
      "2/2 [==============================] - 0s 4ms/step - loss: 1.7951 - accuracy: 0.35\n",
      "INFO:tensorflow:Assets written to: i:\\tinyml\\tiny_cnn\\wandb\\run-20221016_221100-230352ul\\files\\model-best\\assets\n"
     ]
    },
    {
     "name": "stderr",
     "output_type": "stream",
     "text": [
      "\u001b[34m\u001b[1mwandb\u001b[0m: Adding directory to artifact (i:\\tinyml\\tiny_cnn\\wandb\\run-20221016_221100-230352ul\\files\\model-best)... Done. 0.1s\n"
     ]
    },
    {
     "name": "stdout",
     "output_type": "stream",
     "text": [
      "391/391 [==============================] - 8s 22ms/step - loss: 1.7953 - accuracy: 0.3574 - val_loss: 1.7074 - val_accuracy: 0.3961\n",
      "Epoch 3/5\n",
      "2/2 [==============================] - 0s 4ms/step - loss: 1.7398 - accuracy: 0.38\n",
      "INFO:tensorflow:Assets written to: i:\\tinyml\\tiny_cnn\\wandb\\run-20221016_221100-230352ul\\files\\model-best\\assets\n"
     ]
    },
    {
     "name": "stderr",
     "output_type": "stream",
     "text": [
      "\u001b[34m\u001b[1mwandb\u001b[0m: Adding directory to artifact (i:\\tinyml\\tiny_cnn\\wandb\\run-20221016_221100-230352ul\\files\\model-best)... Done. 0.1s\n"
     ]
    },
    {
     "name": "stdout",
     "output_type": "stream",
     "text": [
      "391/391 [==============================] - 7s 17ms/step - loss: 1.7394 - accuracy: 0.3803 - val_loss: 1.6592 - val_accuracy: 0.4161\n",
      "Epoch 4/5\n",
      "2/2 [==============================] - 0s 4ms/step - loss: 1.7054 - accuracy: 0.39\n",
      "INFO:tensorflow:Assets written to: i:\\tinyml\\tiny_cnn\\wandb\\run-20221016_221100-230352ul\\files\\model-best\\assets\n"
     ]
    },
    {
     "name": "stderr",
     "output_type": "stream",
     "text": [
      "\u001b[34m\u001b[1mwandb\u001b[0m: Adding directory to artifact (i:\\tinyml\\tiny_cnn\\wandb\\run-20221016_221100-230352ul\\files\\model-best)... Done. 0.1s\n"
     ]
    },
    {
     "name": "stdout",
     "output_type": "stream",
     "text": [
      "391/391 [==============================] - 8s 19ms/step - loss: 1.7054 - accuracy: 0.3923 - val_loss: 1.6378 - val_accuracy: 0.4167\n",
      "Epoch 5/5\n",
      "2/2 [==============================] - 0s 5ms/step - loss: 1.6790 - accuracy: 0.40\n",
      "INFO:tensorflow:Assets written to: i:\\tinyml\\tiny_cnn\\wandb\\run-20221016_221100-230352ul\\files\\model-best\\assets\n"
     ]
    },
    {
     "name": "stderr",
     "output_type": "stream",
     "text": [
      "\u001b[34m\u001b[1mwandb\u001b[0m: Adding directory to artifact (i:\\tinyml\\tiny_cnn\\wandb\\run-20221016_221100-230352ul\\files\\model-best)... Done. 0.1s\n"
     ]
    },
    {
     "name": "stdout",
     "output_type": "stream",
     "text": [
      "391/391 [==============================] - 7s 18ms/step - loss: 1.6789 - accuracy: 0.4028 - val_loss: 1.6278 - val_accuracy: 0.4185\n"
     ]
    },
    {
     "data": {
      "text/html": [
       "Waiting for W&B process to finish... <strong style=\"color:green\">(success).</strong>"
      ],
      "text/plain": [
       "<IPython.core.display.HTML object>"
      ]
     },
     "metadata": {},
     "output_type": "display_data"
    },
    {
     "data": {
      "text/html": [
       "<style>\n",
       "    table.wandb td:nth-child(1) { padding: 0 10px; text-align: left ; width: auto;} td:nth-child(2) {text-align: left ; width: 100%}\n",
       "    .wandb-row { display: flex; flex-direction: row; flex-wrap: wrap; justify-content: flex-start; width: 100% }\n",
       "    .wandb-col { display: flex; flex-direction: column; flex-basis: 100%; flex: 1; padding: 10px; }\n",
       "    </style>\n",
       "<div class=\"wandb-row\"><div class=\"wandb-col\"><h3>Run history:</h3><br/><table class=\"wandb\"><tr><td>accuracy</td><td>▁▅▇▇█</td></tr><tr><td>epoch</td><td>▁▃▅▆█</td></tr><tr><td>loss</td><td>█▄▂▂▁</td></tr><tr><td>val_accuracy</td><td>▁▅███</td></tr><tr><td>val_loss</td><td>█▅▂▁▁</td></tr></table><br/></div><div class=\"wandb-col\"><h3>Run summary:</h3><br/><table class=\"wandb\"><tr><td>accuracy</td><td>0.4028</td></tr><tr><td>best_epoch</td><td>4</td></tr><tr><td>best_val_loss</td><td>1.62782</td></tr><tr><td>epoch</td><td>4</td></tr><tr><td>loss</td><td>1.67891</td></tr><tr><td>val_accuracy</td><td>0.4185</td></tr><tr><td>val_loss</td><td>1.62782</td></tr></table><br/></div></div>"
      ],
      "text/plain": [
       "<IPython.core.display.HTML object>"
      ]
     },
     "metadata": {},
     "output_type": "display_data"
    },
    {
     "data": {
      "text/html": [
       "Synced <strong style=\"color:#cdcd00\">playful-shadow-22</strong>: <a href=\"https://wandb.ai/susbrock/Tiny%20CNN/runs/230352ul\" target=\"_blank\">https://wandb.ai/susbrock/Tiny%20CNN/runs/230352ul</a><br/>Synced 7 W&B file(s), 181 media file(s), 16 artifact file(s) and 11 other file(s)"
      ],
      "text/plain": [
       "<IPython.core.display.HTML object>"
      ]
     },
     "metadata": {},
     "output_type": "display_data"
    },
    {
     "data": {
      "text/html": [
       "Find logs at: <code>.\\wandb\\run-20221016_221100-230352ul\\logs</code>"
      ],
      "text/plain": [
       "<IPython.core.display.HTML object>"
      ]
     },
     "metadata": {},
     "output_type": "display_data"
    }
   ],
   "source": [
    "history, model = train_model()"
   ]
  },
  {
   "cell_type": "code",
   "execution_count": null,
   "metadata": {},
   "outputs": [],
   "source": []
  },
  {
   "cell_type": "code",
   "execution_count": 7,
   "metadata": {},
   "outputs": [
    {
     "name": "stdout",
     "output_type": "stream",
     "text": [
      "Training for 100 epochs with learning rate 0.1\n"
     ]
    },
    {
     "data": {
      "text/html": [
       "Changes to your `wandb` environment variables will be ignored because your `wandb` session has already started. For more information on how to modify your settings with `wandb.init()` arguments, please refer to <a href=\"https://wandb.me/wandb-init\" target=\"_blank\">the W&B docs</a>."
      ],
      "text/plain": [
       "<IPython.core.display.HTML object>"
      ]
     },
     "metadata": {},
     "output_type": "display_data"
    },
    {
     "data": {
      "text/html": [
       "Tracking run with wandb version 0.13.4"
      ],
      "text/plain": [
       "<IPython.core.display.HTML object>"
      ]
     },
     "metadata": {},
     "output_type": "display_data"
    },
    {
     "data": {
      "text/html": [
       "Run data is saved locally in <code>i:\\tinyml\\tiny_cnn\\wandb\\run-20221016_084639-bolvloj5</code>"
      ],
      "text/plain": [
       "<IPython.core.display.HTML object>"
      ]
     },
     "metadata": {},
     "output_type": "display_data"
    },
    {
     "data": {
      "text/html": [
       "Syncing run <strong><a href=\"https://wandb.ai/susbrock/example/runs/bolvloj5\" target=\"_blank\">copper-snowflake-3</a></strong> to <a href=\"https://wandb.ai/susbrock/example\" target=\"_blank\">Weights & Biases</a> (<a href=\"https://wandb.me/run\" target=\"_blank\">docs</a>)<br/>"
      ],
      "text/plain": [
       "<IPython.core.display.HTML object>"
      ]
     },
     "metadata": {},
     "output_type": "display_data"
    },
    {
     "name": "stdout",
     "output_type": "stream",
     "text": [
      "lr: 0.1\n",
      "epoch=2, acc=0.3239496078287173, loss=0.7840237407873047\n",
      "epoch=3, acc=0.4886583526039714, loss=0.5382489089033355\n",
      "epoch=4, acc=0.5946108236677674, loss=0.3062215871379621\n",
      "epoch=5, acc=0.842835687320363, loss=0.15326649102771978\n",
      "epoch=6, acc=0.841041689897303, loss=0.2773970852560576\n",
      "epoch=7, acc=0.7651799556122217, loss=0.13211731915830313\n",
      "epoch=8, acc=0.8289271781530685, loss=0.14014753902136384\n",
      "epoch=9, acc=0.87325792818547, loss=0.20998891682843918\n",
      "epoch=10, acc=0.8865158378162138, loss=0.18009344870749755\n",
      "epoch=11, acc=0.8765156790767422, loss=0.18896313900651218\n",
      "epoch=12, acc=0.846993952368912, loss=0.12943821152351473\n",
      "epoch=13, acc=0.8658211826520751, loss=0.12168794547255812\n",
      "epoch=14, acc=0.8482459514679072, loss=0.12455625352218093\n",
      "epoch=15, acc=0.8344692612820243, loss=0.15507962690026417\n",
      "epoch=16, acc=0.8574632130602637, loss=0.13816451456866294\n",
      "epoch=17, acc=0.8773946264610468, loss=0.15946654792443482\n",
      "epoch=18, acc=0.8607377277060754, loss=0.11342147994528552\n",
      "epoch=19, acc=0.8462618824301639, loss=0.15165859264574638\n",
      "epoch=20, acc=0.8680499304840155, loss=0.12648565046943758\n",
      "epoch=21, acc=0.8438539642014424, loss=0.1467932637069071\n",
      "epoch=22, acc=0.8555521499455985, loss=0.13615725726452155\n",
      "epoch=23, acc=0.8853486324429839, loss=0.15148777346539602\n",
      "epoch=24, acc=0.8687703952724134, loss=0.13334477180188295\n",
      "epoch=25, acc=0.8836963082791971, loss=0.13009068498276666\n",
      "epoch=26, acc=0.8810589446279818, loss=0.1302737200358073\n",
      "epoch=27, acc=0.8865363688582053, loss=0.11992484117360731\n",
      "epoch=28, acc=0.8642321842404271, loss=0.1196332659856693\n",
      "epoch=29, acc=0.8832998947815727, loss=0.1131290481600609\n",
      "epoch=30, acc=0.8882788586181111, loss=0.1179597864806565\n",
      "epoch=31, acc=0.881248074709149, loss=0.13814108452196197\n",
      "epoch=32, acc=0.8867842832996552, loss=0.1160900053482907\n",
      "epoch=33, acc=0.8783684275990881, loss=0.1392639561712943\n",
      "epoch=34, acc=0.8861870707163095, loss=0.11738042744483534\n",
      "epoch=35, acc=0.8716452347809602, loss=0.11444511668509337\n",
      "epoch=36, acc=0.8889103128253577, loss=0.11919978448694526\n",
      "epoch=37, acc=0.8649849704806382, loss=0.11435716446752035\n",
      "epoch=38, acc=0.8736383045741333, loss=0.12206353208951003\n",
      "epoch=39, acc=0.8670081587055817, loss=0.12083021113275876\n",
      "epoch=40, acc=0.8868255961226662, loss=0.12620912477077845\n",
      "epoch=41, acc=0.8793774608723371, loss=0.13140358896577628\n",
      "epoch=42, acc=0.872211113195074, loss=0.12819625218363281\n",
      "epoch=43, acc=0.8812869425547165, loss=0.13264700981647715\n",
      "epoch=44, acc=0.8732015983415246, loss=0.11460182487607772\n",
      "epoch=45, acc=0.8841914441855033, loss=0.12085360445297669\n",
      "epoch=46, acc=0.8810685680987295, loss=0.11778703860460174\n",
      "epoch=47, acc=0.8721178557989712, loss=0.12241685964693641\n",
      "epoch=48, acc=0.8699911307399752, loss=0.11301926300683028\n",
      "epoch=49, acc=0.887387673625469, loss=0.12219724817494447\n",
      "epoch=50, acc=0.8879851524503573, loss=0.1285583150706278\n",
      "epoch=51, acc=0.8788962524020675, loss=0.12828488332463878\n",
      "epoch=52, acc=0.8830439939828107, loss=0.12812357448409284\n",
      "epoch=53, acc=0.8887773257557262, loss=0.11215456789034864\n",
      "epoch=54, acc=0.8898825821354038, loss=0.11406282706273436\n",
      "epoch=55, acc=0.8781641689423832, loss=0.1102972307375823\n",
      "epoch=56, acc=0.8823510895448796, loss=0.11344299153225666\n",
      "epoch=57, acc=0.8832714765629252, loss=0.11047127092070126\n",
      "epoch=58, acc=0.8776117381879255, loss=0.1194055316971184\n",
      "epoch=59, acc=0.883014122352782, loss=0.12140631068831566\n",
      "epoch=60, acc=0.8772813432593275, loss=0.11578369564464622\n",
      "epoch=61, acc=0.8783521201363217, loss=0.11203022673643226\n",
      "epoch=62, acc=0.8846987914275041, loss=0.1195386032722931\n",
      "epoch=63, acc=0.8779201577091204, loss=0.11813855708277429\n",
      "epoch=64, acc=0.8757311170989067, loss=0.1146853517036737\n",
      "epoch=65, acc=0.8898676003891163, loss=0.11233268897304825\n",
      "epoch=66, acc=0.8897324347153606, loss=0.12315260150146731\n",
      "epoch=67, acc=0.8888753641737834, loss=0.12065347142868825\n",
      "epoch=68, acc=0.8781213221057383, loss=0.11010215507646236\n",
      "epoch=69, acc=0.880274932000892, loss=0.11520356242897238\n",
      "epoch=70, acc=0.8787904261737098, loss=0.12076838882609266\n",
      "epoch=71, acc=0.8798435941058991, loss=0.1155625277884916\n",
      "epoch=72, acc=0.8842023686268079, loss=0.1185555912276346\n",
      "epoch=73, acc=0.8874979694379778, loss=0.12246118046028737\n",
      "epoch=74, acc=0.8864173430812722, loss=0.11022127368060303\n",
      "epoch=75, acc=0.8873067549849014, loss=0.11601478571987382\n",
      "epoch=76, acc=0.8775079277738077, loss=0.1102986224101713\n",
      "epoch=77, acc=0.8859733978161629, loss=0.11466033919422704\n",
      "epoch=78, acc=0.8806986310237369, loss=0.11043788864249017\n",
      "epoch=79, acc=0.8854245263328309, loss=0.11723786711552019\n",
      "epoch=80, acc=0.8817906759416714, loss=0.11424711619836844\n",
      "epoch=81, acc=0.8805271832552436, loss=0.11930781814745312\n",
      "epoch=82, acc=0.8847240663301417, loss=0.11156506879774286\n",
      "epoch=83, acc=0.8863075846895409, loss=0.11399664341296178\n",
      "epoch=84, acc=0.8819619920175491, loss=0.11334813936222851\n",
      "epoch=85, acc=0.885371910677144, loss=0.11771524710160092\n",
      "epoch=86, acc=0.8885947256240984, loss=0.11102247894015953\n",
      "epoch=87, acc=0.8805457516593475, loss=0.11449306580114524\n",
      "epoch=88, acc=0.8853986462913267, loss=0.12041772836660306\n",
      "epoch=89, acc=0.8900821004050908, loss=0.10974970920071152\n",
      "epoch=90, acc=0.8894653544988163, loss=0.11411978529312274\n",
      "epoch=91, acc=0.8869921398257786, loss=0.11826830690617336\n",
      "epoch=92, acc=0.8868053342476009, loss=0.11819893640900007\n",
      "epoch=93, acc=0.8819186419556438, loss=0.11220651595134802\n",
      "epoch=94, acc=0.8843401737694563, loss=0.11084220357671783\n",
      "epoch=95, acc=0.8829526128291927, loss=0.11496118326528953\n",
      "epoch=96, acc=0.8850497066859683, loss=0.11268784102345221\n",
      "epoch=97, acc=0.8824461387496236, loss=0.11495077676076412\n",
      "epoch=98, acc=0.8851329874967934, loss=0.11225763600141497\n",
      "epoch=99, acc=0.883503633000155, loss=0.1153748506946902\n"
     ]
    },
    {
     "data": {
      "text/html": [
       "Waiting for W&B process to finish... <strong style=\"color:green\">(success).</strong>"
      ],
      "text/plain": [
       "<IPython.core.display.HTML object>"
      ]
     },
     "metadata": {},
     "output_type": "display_data"
    },
    {
     "data": {
      "text/html": [
       "<style>\n",
       "    table.wandb td:nth-child(1) { padding: 0 10px; text-align: left ; width: auto;} td:nth-child(2) {text-align: left ; width: 100%}\n",
       "    .wandb-row { display: flex; flex-direction: row; flex-wrap: wrap; justify-content: flex-start; width: 100% }\n",
       "    .wandb-col { display: flex; flex-direction: column; flex-basis: 100%; flex: 1; padding: 10px; }\n",
       "    </style>\n",
       "<div class=\"wandb-row\"><div class=\"wandb-col\"><h3>Run history:</h3><br/><table class=\"wandb\"><tr><td>acc</td><td>▁▄▇██▇█▇▇███████████████████████████████</td></tr><tr><td>loss</td><td>█▃▃▂▂▁▁▁▁▁▁▁▁▁▁▁▁▁▁▁▁▁▁▁▁▁▁▁▁▁▁▁▁▁▁▁▁▁▁▁</td></tr></table><br/></div><div class=\"wandb-col\"><h3>Run summary:</h3><br/><table class=\"wandb\"><tr><td>acc</td><td>0.8835</td></tr><tr><td>loss</td><td>0.11537</td></tr></table><br/></div></div>"
      ],
      "text/plain": [
       "<IPython.core.display.HTML object>"
      ]
     },
     "metadata": {},
     "output_type": "display_data"
    },
    {
     "data": {
      "text/html": [
       "Synced <strong style=\"color:#cdcd00\">copper-snowflake-3</strong>: <a href=\"https://wandb.ai/susbrock/example/runs/bolvloj5\" target=\"_blank\">https://wandb.ai/susbrock/example/runs/bolvloj5</a><br/>Synced 7 W&B file(s), 0 media file(s), 0 artifact file(s) and 1 other file(s)"
      ],
      "text/plain": [
       "<IPython.core.display.HTML object>"
      ]
     },
     "metadata": {},
     "output_type": "display_data"
    },
    {
     "data": {
      "text/html": [
       "Find logs at: <code>.\\wandb\\run-20221016_084639-bolvloj5\\logs</code>"
      ],
      "text/plain": [
       "<IPython.core.display.HTML object>"
      ]
     },
     "metadata": {},
     "output_type": "display_data"
    },
    {
     "name": "stdout",
     "output_type": "stream",
     "text": [
      "Training for 100 epochs with learning rate 0.01\n"
     ]
    },
    {
     "data": {
      "text/html": [
       "Changes to your `wandb` environment variables will be ignored because your `wandb` session has already started. For more information on how to modify your settings with `wandb.init()` arguments, please refer to <a href=\"https://wandb.me/wandb-init\" target=\"_blank\">the W&B docs</a>."
      ],
      "text/plain": [
       "<IPython.core.display.HTML object>"
      ]
     },
     "metadata": {},
     "output_type": "display_data"
    },
    {
     "data": {
      "application/vnd.jupyter.widget-view+json": {
       "model_id": "10b76e1ed00a4c71af588b1c88357953",
       "version_major": 2,
       "version_minor": 0
      },
      "text/plain": [
       "VBox(children=(Label(value='Waiting for wandb.init()...\\r'), FloatProgress(value=0.01693333333338766, max=1.0)…"
      ]
     },
     "metadata": {},
     "output_type": "display_data"
    },
    {
     "data": {
      "text/html": [
       "Tracking run with wandb version 0.13.4"
      ],
      "text/plain": [
       "<IPython.core.display.HTML object>"
      ]
     },
     "metadata": {},
     "output_type": "display_data"
    },
    {
     "data": {
      "text/html": [
       "Run data is saved locally in <code>i:\\tinyml\\tiny_cnn\\wandb\\run-20221016_084655-vvb95yhv</code>"
      ],
      "text/plain": [
       "<IPython.core.display.HTML object>"
      ]
     },
     "metadata": {},
     "output_type": "display_data"
    },
    {
     "data": {
      "text/html": [
       "Syncing run <strong><a href=\"https://wandb.ai/susbrock/example/runs/vvb95yhv\" target=\"_blank\">fresh-vortex-4</a></strong> to <a href=\"https://wandb.ai/susbrock/example\" target=\"_blank\">Weights & Biases</a> (<a href=\"https://wandb.me/run\" target=\"_blank\">docs</a>)<br/>"
      ],
      "text/plain": [
       "<IPython.core.display.HTML object>"
      ]
     },
     "metadata": {},
     "output_type": "display_data"
    },
    {
     "name": "stdout",
     "output_type": "stream",
     "text": [
      "lr: 0.01\n",
      "epoch=2, acc=0.29526289920347026, loss=0.8341154540113698\n",
      "epoch=3, acc=0.6755546341923118, loss=0.5446967698847112\n",
      "epoch=4, acc=0.5687387351564727, loss=0.2501680595162399\n",
      "epoch=5, acc=0.6479683009706949, loss=0.2944196200799194\n",
      "epoch=6, acc=0.7269402229238164, loss=0.17455103262257554\n",
      "epoch=7, acc=0.7479877366112375, loss=0.21084122721524995\n",
      "epoch=8, acc=0.8105065539378978, loss=0.22067878846980743\n",
      "epoch=9, acc=0.8325027806706508, loss=0.18853837829622858\n",
      "epoch=10, acc=0.8317305553182309, loss=0.2465066785958966\n",
      "epoch=11, acc=0.8257012452893249, loss=0.22432187681031196\n",
      "epoch=12, acc=0.7759824041792263, loss=0.20358038797206052\n",
      "epoch=13, acc=0.8190111966715984, loss=0.1704200023442612\n",
      "epoch=14, acc=0.8107537732866739, loss=0.20980087170856698\n",
      "epoch=15, acc=0.7875499701821629, loss=0.2168608641192949\n",
      "epoch=16, acc=0.8299655402948874, loss=0.16539888354403562\n",
      "epoch=17, acc=0.8169154295673712, loss=0.18576791821041078\n",
      "epoch=18, acc=0.8437036700100868, loss=0.18384802230941177\n",
      "epoch=19, acc=0.8082264296708153, loss=0.16759771364853668\n",
      "epoch=20, acc=0.8452754004155332, loss=0.16953791842341157\n",
      "epoch=21, acc=0.8258795036645781, loss=0.16431019823381782\n",
      "epoch=22, acc=0.8182510737897474, loss=0.16755922726714392\n",
      "epoch=23, acc=0.8297865796056347, loss=0.19086602791664092\n",
      "epoch=24, acc=0.8245611174625758, loss=0.18745476027682473\n",
      "epoch=25, acc=0.8465662115591504, loss=0.15369585000204192\n",
      "epoch=26, acc=0.8238729597103089, loss=0.18829787730968875\n",
      "epoch=27, acc=0.833507166748713, loss=0.16121179105653638\n",
      "epoch=28, acc=0.8321622796506252, loss=0.18227525393864394\n",
      "epoch=29, acc=0.8407168434441309, loss=0.15308904707641832\n",
      "epoch=30, acc=0.8254855410739083, loss=0.15807817369331412\n",
      "epoch=31, acc=0.8487435732051817, loss=0.1591675286097151\n",
      "epoch=32, acc=0.8399443549780988, loss=0.16199465070164765\n",
      "epoch=33, acc=0.8420540124726466, loss=0.17694298214266574\n",
      "epoch=34, acc=0.8334371791358888, loss=0.17378282087457927\n",
      "epoch=35, acc=0.83801680665968, loss=0.16487661093715458\n",
      "epoch=36, acc=0.8480918571657707, loss=0.1626412964893969\n",
      "epoch=37, acc=0.8334591556069261, loss=0.16500388940457253\n",
      "epoch=38, acc=0.8311866298211953, loss=0.16186807523563493\n",
      "epoch=39, acc=0.8314194011480837, loss=0.1509065753099401\n",
      "epoch=40, acc=0.8405889822631398, loss=0.1621336659243234\n",
      "epoch=41, acc=0.834158810025517, loss=0.174123414703435\n",
      "epoch=42, acc=0.8355711682743698, loss=0.16834936043387908\n",
      "epoch=43, acc=0.8380862359619763, loss=0.15641532036633526\n",
      "epoch=44, acc=0.8319128065199536, loss=0.15159510195307088\n",
      "epoch=45, acc=0.8415690282395648, loss=0.1575307122948692\n",
      "epoch=46, acc=0.8453755992517729, loss=0.15929971199111403\n",
      "epoch=47, acc=0.8344217593537749, loss=0.1514592794286296\n",
      "epoch=48, acc=0.8423810374299101, loss=0.16258382849541522\n",
      "epoch=49, acc=0.8484747220698873, loss=0.16516478810765936\n",
      "epoch=50, acc=0.8434121836342229, loss=0.16432313210473024\n",
      "epoch=51, acc=0.839428899735696, loss=0.15723734695536912\n",
      "epoch=52, acc=0.8438770941667352, loss=0.15568938454859457\n",
      "epoch=53, acc=0.833200339047514, loss=0.16357779437553654\n",
      "epoch=54, acc=0.8446360597131051, loss=0.16529187051537134\n",
      "epoch=55, acc=0.8425285856615663, loss=0.15317171736609636\n",
      "epoch=56, acc=0.8486288181902562, loss=0.16444439198300706\n",
      "epoch=57, acc=0.8380799557270975, loss=0.15283435316530483\n",
      "epoch=58, acc=0.8328569831451051, loss=0.1631443250037265\n",
      "epoch=59, acc=0.8473820709078614, loss=0.1664004306101178\n",
      "epoch=60, acc=0.842631759917699, loss=0.157951030683334\n",
      "epoch=61, acc=0.8416975474972431, loss=0.15789288852109704\n",
      "epoch=62, acc=0.8387353394914265, loss=0.16041456606841042\n",
      "epoch=63, acc=0.8401188989326235, loss=0.1536194551943063\n",
      "epoch=64, acc=0.8418045047057814, loss=0.16149726516674764\n",
      "epoch=65, acc=0.845776650688643, loss=0.16070869938173332\n",
      "epoch=66, acc=0.8395579135533418, loss=0.16512240020538133\n",
      "epoch=67, acc=0.8472133773989828, loss=0.16276427222878326\n",
      "epoch=68, acc=0.8359588575411188, loss=0.1537325572794822\n",
      "epoch=69, acc=0.8471102848067953, loss=0.160057049144527\n",
      "epoch=70, acc=0.8451869782042137, loss=0.15588622515727796\n",
      "epoch=71, acc=0.8430728047250053, loss=0.15508930697223822\n",
      "epoch=72, acc=0.8417658449816955, loss=0.1579228413690189\n",
      "epoch=73, acc=0.847036967706928, loss=0.1565229279736513\n",
      "epoch=74, acc=0.8448044890706873, loss=0.15212396812373086\n",
      "epoch=75, acc=0.8426822131217327, loss=0.15870534147299142\n",
      "epoch=76, acc=0.8430216738091054, loss=0.15856946923168552\n",
      "epoch=77, acc=0.8444621872785418, loss=0.15162007965119537\n",
      "epoch=78, acc=0.8378020379945188, loss=0.16306865427581102\n",
      "epoch=79, acc=0.8465511655926191, loss=0.15314617727746396\n",
      "epoch=80, acc=0.837888000015125, loss=0.15693016523233555\n",
      "epoch=81, acc=0.8433617951468348, loss=0.151977484077818\n",
      "epoch=82, acc=0.8487363580994389, loss=0.1536487065560157\n",
      "epoch=83, acc=0.8406849668927527, loss=0.1578725108664934\n",
      "epoch=84, acc=0.8393518750400305, loss=0.15180579485904633\n",
      "epoch=85, acc=0.8452105199151005, loss=0.15780483714401675\n",
      "epoch=86, acc=0.849021137775227, loss=0.1510223456817023\n",
      "epoch=87, acc=0.8472179411613723, loss=0.15290479654964076\n",
      "epoch=88, acc=0.8424379248230136, loss=0.15083169319981235\n",
      "epoch=89, acc=0.8468448368547012, loss=0.15112085644602685\n",
      "epoch=90, acc=0.8469724211040268, loss=0.1587085367387465\n",
      "epoch=91, acc=0.8395325750400056, loss=0.15730304853352461\n",
      "epoch=92, acc=0.8457813905373545, loss=0.1607712991555001\n",
      "epoch=93, acc=0.8448443335437271, loss=0.1534183047665112\n",
      "epoch=94, acc=0.8464322667516954, loss=0.16012799865887378\n",
      "epoch=95, acc=0.8470367692554327, loss=0.15511831432950104\n",
      "epoch=96, acc=0.8455921419971615, loss=0.15126152144093552\n",
      "epoch=97, acc=0.848954440439941, loss=0.15485673398469593\n",
      "epoch=98, acc=0.8424309361962479, loss=0.15804982490098388\n",
      "epoch=99, acc=0.848312097155972, loss=0.15711984241292812\n"
     ]
    },
    {
     "data": {
      "text/html": [
       "Waiting for W&B process to finish... <strong style=\"color:green\">(success).</strong>"
      ],
      "text/plain": [
       "<IPython.core.display.HTML object>"
      ]
     },
     "metadata": {},
     "output_type": "display_data"
    },
    {
     "data": {
      "text/html": [
       "<style>\n",
       "    table.wandb td:nth-child(1) { padding: 0 10px; text-align: left ; width: auto;} td:nth-child(2) {text-align: left ; width: 100%}\n",
       "    .wandb-row { display: flex; flex-direction: row; flex-wrap: wrap; justify-content: flex-start; width: 100% }\n",
       "    .wandb-col { display: flex; flex-direction: column; flex-basis: 100%; flex: 1; padding: 10px; }\n",
       "    </style>\n",
       "<div class=\"wandb-row\"><div class=\"wandb-col\"><h3>Run history:</h3><br/><table class=\"wandb\"><tr><td>acc</td><td>▁▄▆████▇████████████████████████████████</td></tr><tr><td>loss</td><td>█▂▁▁▂▂▁▁▁▁▁▁▁▁▁▁▁▁▁▁▁▁▁▁▁▁▁▁▁▁▁▁▁▁▁▁▁▁▁▁</td></tr></table><br/></div><div class=\"wandb-col\"><h3>Run summary:</h3><br/><table class=\"wandb\"><tr><td>acc</td><td>0.84831</td></tr><tr><td>loss</td><td>0.15712</td></tr></table><br/></div></div>"
      ],
      "text/plain": [
       "<IPython.core.display.HTML object>"
      ]
     },
     "metadata": {},
     "output_type": "display_data"
    },
    {
     "data": {
      "text/html": [
       "Synced <strong style=\"color:#cdcd00\">fresh-vortex-4</strong>: <a href=\"https://wandb.ai/susbrock/example/runs/vvb95yhv\" target=\"_blank\">https://wandb.ai/susbrock/example/runs/vvb95yhv</a><br/>Synced 7 W&B file(s), 0 media file(s), 0 artifact file(s) and 1 other file(s)"
      ],
      "text/plain": [
       "<IPython.core.display.HTML object>"
      ]
     },
     "metadata": {},
     "output_type": "display_data"
    },
    {
     "data": {
      "text/html": [
       "Find logs at: <code>.\\wandb\\run-20221016_084655-vvb95yhv\\logs</code>"
      ],
      "text/plain": [
       "<IPython.core.display.HTML object>"
      ]
     },
     "metadata": {},
     "output_type": "display_data"
    },
    {
     "name": "stdout",
     "output_type": "stream",
     "text": [
      "Training for 100 epochs with learning rate 0.001\n"
     ]
    },
    {
     "data": {
      "text/html": [
       "Changes to your `wandb` environment variables will be ignored because your `wandb` session has already started. For more information on how to modify your settings with `wandb.init()` arguments, please refer to <a href=\"https://wandb.me/wandb-init\" target=\"_blank\">the W&B docs</a>."
      ],
      "text/plain": [
       "<IPython.core.display.HTML object>"
      ]
     },
     "metadata": {},
     "output_type": "display_data"
    },
    {
     "data": {
      "application/vnd.jupyter.widget-view+json": {
       "model_id": "1e528364d92c428dae8a6333507fc7d3",
       "version_major": 2,
       "version_minor": 0
      },
      "text/plain": [
       "VBox(children=(Label(value='Waiting for wandb.init()...\\r'), FloatProgress(value=0.016666666666666666, max=1.0…"
      ]
     },
     "metadata": {},
     "output_type": "display_data"
    },
    {
     "data": {
      "text/html": [
       "Tracking run with wandb version 0.13.4"
      ],
      "text/plain": [
       "<IPython.core.display.HTML object>"
      ]
     },
     "metadata": {},
     "output_type": "display_data"
    },
    {
     "data": {
      "text/html": [
       "Run data is saved locally in <code>i:\\tinyml\\tiny_cnn\\wandb\\run-20221016_084711-2r5tk43f</code>"
      ],
      "text/plain": [
       "<IPython.core.display.HTML object>"
      ]
     },
     "metadata": {},
     "output_type": "display_data"
    },
    {
     "data": {
      "text/html": [
       "Syncing run <strong><a href=\"https://wandb.ai/susbrock/example/runs/2r5tk43f\" target=\"_blank\">robust-valley-5</a></strong> to <a href=\"https://wandb.ai/susbrock/example\" target=\"_blank\">Weights & Biases</a> (<a href=\"https://wandb.me/run\" target=\"_blank\">docs</a>)<br/>"
      ],
      "text/plain": [
       "<IPython.core.display.HTML object>"
      ]
     },
     "metadata": {},
     "output_type": "display_data"
    },
    {
     "name": "stdout",
     "output_type": "stream",
     "text": [
      "lr: 0.001\n",
      "epoch=2, acc=0.49023059965791727, loss=0.7951256739850505\n",
      "epoch=3, acc=0.4724590708617359, loss=0.49963628000712823\n",
      "epoch=4, acc=0.7374673038386697, loss=0.1493221697914005\n",
      "epoch=5, acc=0.8545835701723778, loss=0.15091582822018113\n",
      "epoch=6, acc=0.8182443511134145, loss=0.1417227329508137\n",
      "epoch=7, acc=0.902774444210284, loss=0.13326155413025065\n",
      "epoch=8, acc=0.8355646956732148, loss=0.1519489734817398\n",
      "epoch=9, acc=0.8117181654462723, loss=0.16659847706136932\n",
      "epoch=10, acc=0.8369879749503809, loss=0.15894330124225098\n",
      "epoch=11, acc=0.8608602635917489, loss=0.15084087631008788\n",
      "epoch=12, acc=0.8783521965321381, loss=0.16355929031443864\n",
      "epoch=13, acc=0.8856464333934584, loss=0.10668994023208381\n",
      "epoch=14, acc=0.8488594839238466, loss=0.10088949523177669\n",
      "epoch=15, acc=0.8737787289901271, loss=0.1248032217154126\n",
      "epoch=16, acc=0.8576386102607314, loss=0.08977802198013433\n",
      "epoch=17, acc=0.8922889542876823, loss=0.12936152329887604\n",
      "epoch=18, acc=0.8748586974194031, loss=0.12035100330140033\n",
      "epoch=19, acc=0.9128431981492773, loss=0.08432752585440943\n",
      "epoch=20, acc=0.8958919717323064, loss=0.10005173834138117\n",
      "epoch=21, acc=0.9055682368990361, loss=0.12707299033402017\n",
      "epoch=22, acc=0.9164222164458109, loss=0.08627238968358887\n",
      "epoch=23, acc=0.906844633131037, loss=0.09889006085056293\n",
      "epoch=24, acc=0.8775872970676786, loss=0.10204085090069613\n",
      "epoch=25, acc=0.912716348137791, loss=0.10982397121025957\n",
      "epoch=26, acc=0.905738318829841, loss=0.0874320338921817\n",
      "epoch=27, acc=0.8893155995547743, loss=0.10542222494906103\n",
      "epoch=28, acc=0.9052604913434994, loss=0.10712423020293943\n",
      "epoch=29, acc=0.8891430329398722, loss=0.09415310848335948\n",
      "epoch=30, acc=0.8931475373487129, loss=0.08453293859404633\n",
      "epoch=31, acc=0.8944578405122463, loss=0.08684695058138968\n",
      "epoch=32, acc=0.907836653521518, loss=0.1030476426211438\n",
      "epoch=33, acc=0.9036790077963639, loss=0.0987498483718628\n",
      "epoch=34, acc=0.9128358262359463, loss=0.08424992883426784\n",
      "epoch=35, acc=0.8963939394027346, loss=0.08629559301622192\n",
      "epoch=36, acc=0.8986634596489167, loss=0.08684915612535285\n",
      "epoch=37, acc=0.8931711879303545, loss=0.10152352312206975\n",
      "epoch=38, acc=0.8957352562057865, loss=0.1082413851936816\n",
      "epoch=39, acc=0.9135365022106234, loss=0.08486186437845147\n",
      "epoch=40, acc=0.8966265175144879, loss=0.09717677265973905\n",
      "epoch=41, acc=0.9126511189922959, loss=0.08947434744583525\n",
      "epoch=42, acc=0.9028591980762637, loss=0.0860015460225619\n",
      "epoch=43, acc=0.894480587176828, loss=0.10219117116168283\n",
      "epoch=44, acc=0.896048671228052, loss=0.09941723134551225\n",
      "epoch=45, acc=0.9085022365900215, loss=0.08819527175853256\n",
      "epoch=46, acc=0.9092969136385874, loss=0.08779692789883449\n",
      "epoch=47, acc=0.9086283297012466, loss=0.09359787935534652\n",
      "epoch=48, acc=0.916341921889901, loss=0.1033883473734143\n",
      "epoch=49, acc=0.9020281616637529, loss=0.10152540158987583\n",
      "epoch=50, acc=0.9092656665495454, loss=0.08537431389906468\n",
      "epoch=51, acc=0.9090744094971484, loss=0.10078873200973609\n",
      "epoch=52, acc=0.9064800744174819, loss=0.08787116547653737\n",
      "epoch=53, acc=0.9158503985153544, loss=0.09003446583162045\n",
      "epoch=54, acc=0.9086461349338336, loss=0.0871439279544503\n",
      "epoch=55, acc=0.9003798168830961, loss=0.0845241046377967\n",
      "epoch=56, acc=0.9113327265866453, loss=0.08607883497713836\n",
      "epoch=57, acc=0.9098054403816822, loss=0.08664533727524114\n",
      "epoch=58, acc=0.9139189646960263, loss=0.08884047058890224\n",
      "epoch=59, acc=0.9046530153105814, loss=0.09031699990338957\n",
      "epoch=60, acc=0.9116365225784594, loss=0.08688337362480242\n",
      "epoch=61, acc=0.9039325587453939, loss=0.08902641924563383\n",
      "epoch=62, acc=0.9045699197181504, loss=0.09148005634193557\n",
      "epoch=63, acc=0.9147421108416078, loss=0.0902053816027934\n",
      "epoch=64, acc=0.9156175153321896, loss=0.09061210553633794\n",
      "epoch=65, acc=0.9059529407920434, loss=0.09409888606200091\n",
      "epoch=66, acc=0.912203789109752, loss=0.08856694403673095\n",
      "epoch=67, acc=0.9144597155057784, loss=0.08727284631752898\n",
      "epoch=68, acc=0.9165302054759886, loss=0.09234489700256275\n",
      "epoch=69, acc=0.9143422551228432, loss=0.08532209813051715\n",
      "epoch=70, acc=0.9064301239569936, loss=0.08535699188579018\n",
      "epoch=71, acc=0.9075718822424975, loss=0.09489307662853776\n",
      "epoch=72, acc=0.9082240442507576, loss=0.08813287058876486\n",
      "epoch=73, acc=0.9051696721620076, loss=0.09206866293083422\n",
      "epoch=74, acc=0.9095274573562656, loss=0.09352499545655486\n",
      "epoch=75, acc=0.904197047498806, loss=0.09502652876950439\n",
      "epoch=76, acc=0.9147138605092368, loss=0.08778687495559565\n",
      "epoch=77, acc=0.9161719811362111, loss=0.08477309286053138\n",
      "epoch=78, acc=0.9049547099030794, loss=0.09153605346224518\n",
      "epoch=79, acc=0.906163961969101, loss=0.08886527412096143\n",
      "epoch=80, acc=0.9066230122516018, loss=0.09293538041176534\n",
      "epoch=81, acc=0.9074851251400862, loss=0.08375121286090773\n",
      "epoch=82, acc=0.9134338344130598, loss=0.08970325825213506\n",
      "epoch=83, acc=0.9152002305901019, loss=0.09507972645027672\n",
      "epoch=84, acc=0.9092895072673732, loss=0.08855473465568942\n",
      "epoch=85, acc=0.9062565823887098, loss=0.09004043201029589\n",
      "epoch=86, acc=0.9099942043276913, loss=0.09495271268620667\n",
      "epoch=87, acc=0.9087360269177583, loss=0.08618172802081198\n",
      "epoch=88, acc=0.9094245068329495, loss=0.0933494545731425\n",
      "epoch=89, acc=0.9138762059769849, loss=0.08814355210849818\n",
      "epoch=90, acc=0.9083843498321825, loss=0.08725937459112267\n",
      "epoch=91, acc=0.9157034875975646, loss=0.0851124206003146\n",
      "epoch=92, acc=0.9142745089604909, loss=0.08760585884470115\n",
      "epoch=93, acc=0.9114749625876198, loss=0.09175260309050051\n",
      "epoch=94, acc=0.9096988701704488, loss=0.08419161050460187\n",
      "epoch=95, acc=0.9102992946101145, loss=0.08872538021150614\n",
      "epoch=96, acc=0.9067929904882123, loss=0.08546993796661641\n",
      "epoch=97, acc=0.9077058779627885, loss=0.09243602552835616\n",
      "epoch=98, acc=0.9132157377083236, loss=0.09102833187363993\n",
      "epoch=99, acc=0.910137025139617, loss=0.0878080454916725\n"
     ]
    },
    {
     "data": {
      "text/html": [
       "Waiting for W&B process to finish... <strong style=\"color:green\">(success).</strong>"
      ],
      "text/plain": [
       "<IPython.core.display.HTML object>"
      ]
     },
     "metadata": {},
     "output_type": "display_data"
    },
    {
     "data": {
      "text/html": [
       "<style>\n",
       "    table.wandb td:nth-child(1) { padding: 0 10px; text-align: left ; width: auto;} td:nth-child(2) {text-align: left ; width: 100%}\n",
       "    .wandb-row { display: flex; flex-direction: row; flex-wrap: wrap; justify-content: flex-start; width: 100% }\n",
       "    .wandb-col { display: flex; flex-direction: column; flex-basis: 100%; flex: 1; padding: 10px; }\n",
       "    </style>\n",
       "<div class=\"wandb-row\"><div class=\"wandb-col\"><h3>Run history:</h3><br/><table class=\"wandb\"><tr><td>acc</td><td>▁▅▆▆▇▇▇██▇██████████████████████████████</td></tr><tr><td>loss</td><td>█▂▂▂▂▁▁▁▁▁▁▁▁▁▁▁▁▁▁▁▁▁▁▁▁▁▁▁▁▁▁▁▁▁▁▁▁▁▁▁</td></tr></table><br/></div><div class=\"wandb-col\"><h3>Run summary:</h3><br/><table class=\"wandb\"><tr><td>acc</td><td>0.91014</td></tr><tr><td>loss</td><td>0.08781</td></tr></table><br/></div></div>"
      ],
      "text/plain": [
       "<IPython.core.display.HTML object>"
      ]
     },
     "metadata": {},
     "output_type": "display_data"
    },
    {
     "data": {
      "text/html": [
       "Synced <strong style=\"color:#cdcd00\">robust-valley-5</strong>: <a href=\"https://wandb.ai/susbrock/example/runs/2r5tk43f\" target=\"_blank\">https://wandb.ai/susbrock/example/runs/2r5tk43f</a><br/>Synced 7 W&B file(s), 0 media file(s), 0 artifact file(s) and 1 other file(s)"
      ],
      "text/plain": [
       "<IPython.core.display.HTML object>"
      ]
     },
     "metadata": {},
     "output_type": "display_data"
    },
    {
     "data": {
      "text/html": [
       "Find logs at: <code>.\\wandb\\run-20221016_084711-2r5tk43f\\logs</code>"
      ],
      "text/plain": [
       "<IPython.core.display.HTML object>"
      ]
     },
     "metadata": {},
     "output_type": "display_data"
    },
    {
     "name": "stdout",
     "output_type": "stream",
     "text": [
      "Training for 100 epochs with learning rate 0.0001\n"
     ]
    },
    {
     "data": {
      "text/html": [
       "Changes to your `wandb` environment variables will be ignored because your `wandb` session has already started. For more information on how to modify your settings with `wandb.init()` arguments, please refer to <a href=\"https://wandb.me/wandb-init\" target=\"_blank\">the W&B docs</a>."
      ],
      "text/plain": [
       "<IPython.core.display.HTML object>"
      ]
     },
     "metadata": {},
     "output_type": "display_data"
    },
    {
     "data": {
      "application/vnd.jupyter.widget-view+json": {
       "model_id": "d9853486d3704fa4ac6be0a6d52afa8d",
       "version_major": 2,
       "version_minor": 0
      },
      "text/plain": [
       "VBox(children=(Label(value='Waiting for wandb.init()...\\r'), FloatProgress(value=0.016916666666414434, max=1.0…"
      ]
     },
     "metadata": {},
     "output_type": "display_data"
    },
    {
     "data": {
      "text/html": [
       "Tracking run with wandb version 0.13.4"
      ],
      "text/plain": [
       "<IPython.core.display.HTML object>"
      ]
     },
     "metadata": {},
     "output_type": "display_data"
    },
    {
     "data": {
      "text/html": [
       "Run data is saved locally in <code>i:\\tinyml\\tiny_cnn\\wandb\\run-20221016_084728-aj88he3w</code>"
      ],
      "text/plain": [
       "<IPython.core.display.HTML object>"
      ]
     },
     "metadata": {},
     "output_type": "display_data"
    },
    {
     "data": {
      "text/html": [
       "Syncing run <strong><a href=\"https://wandb.ai/susbrock/example/runs/aj88he3w\" target=\"_blank\">dandy-tree-6</a></strong> to <a href=\"https://wandb.ai/susbrock/example\" target=\"_blank\">Weights & Biases</a> (<a href=\"https://wandb.me/run\" target=\"_blank\">docs</a>)<br/>"
      ],
      "text/plain": [
       "<IPython.core.display.HTML object>"
      ]
     },
     "metadata": {},
     "output_type": "display_data"
    },
    {
     "name": "stdout",
     "output_type": "stream",
     "text": [
      "lr: 0.0001\n",
      "epoch=2, acc=0.1821306872821663, loss=0.904722995300532\n",
      "epoch=3, acc=0.6026529281736207, loss=0.6487868469285065\n",
      "epoch=4, acc=0.7442870263534205, loss=0.2919640937909068\n",
      "epoch=5, acc=0.688763478416366, loss=0.32347658049934136\n",
      "epoch=6, acc=0.6964857853760494, loss=0.29797771618899416\n",
      "epoch=7, acc=0.7122979089861935, loss=0.3188285042044723\n",
      "epoch=8, acc=0.7130694567251431, loss=0.27569676463390863\n",
      "epoch=9, acc=0.7223660586030064, loss=0.2516369162076786\n",
      "epoch=10, acc=0.7813286909087381, loss=0.2685712995994869\n",
      "epoch=11, acc=0.7449365215794013, loss=0.20083271952004755\n",
      "epoch=12, acc=0.7432847513424607, loss=0.211902580092994\n",
      "epoch=13, acc=0.7864864967926264, loss=0.2616834807863334\n",
      "epoch=14, acc=0.7380247313395734, loss=0.21931568618663957\n",
      "epoch=15, acc=0.7617539035403956, loss=0.2527622905235969\n",
      "epoch=16, acc=0.7476385199472937, loss=0.22376575552514316\n",
      "epoch=17, acc=0.7844387650505689, loss=0.23199520236384336\n",
      "epoch=18, acc=0.7644693334360788, loss=0.22313600699590305\n",
      "epoch=19, acc=0.7683355595498627, loss=0.238401072696741\n",
      "epoch=20, acc=0.761098427937481, loss=0.20808768717548587\n",
      "epoch=21, acc=0.7920006951858193, loss=0.2189371814095166\n",
      "epoch=22, acc=0.7854006041766669, loss=0.21419851471309403\n",
      "epoch=23, acc=0.7734521919164781, loss=0.21251250138912972\n",
      "epoch=24, acc=0.7690646591324382, loss=0.19649620663797224\n",
      "epoch=25, acc=0.8006611517076876, loss=0.20388276449016363\n",
      "epoch=26, acc=0.7701092219352942, loss=0.2284172118316067\n",
      "epoch=27, acc=0.7856590021866671, loss=0.2040209498925754\n",
      "epoch=28, acc=0.7926923242563546, loss=0.19930578706686478\n",
      "epoch=29, acc=0.7940037079421637, loss=0.19477282447298316\n",
      "epoch=30, acc=0.7763244980609542, loss=0.21305500725725396\n",
      "epoch=31, acc=0.781907493471184, loss=0.22113542440522366\n",
      "epoch=32, acc=0.7887917500492286, loss=0.20567503783273625\n",
      "epoch=33, acc=0.7895219730475873, loss=0.19709185203310622\n",
      "epoch=34, acc=0.7820160699917656, loss=0.1963486897642321\n",
      "epoch=35, acc=0.807493530711937, loss=0.1933444955875278\n",
      "epoch=36, acc=0.8078411212349477, loss=0.19538143990716692\n",
      "epoch=37, acc=0.8032948253125375, loss=0.19267725284351417\n",
      "epoch=38, acc=0.806391004698581, loss=0.21232816751084968\n",
      "epoch=39, acc=0.7994589914574993, loss=0.21717406972243972\n",
      "epoch=40, acc=0.80036204324309, loss=0.198738182399166\n",
      "epoch=41, acc=0.7956652939609886, loss=0.20327272746066388\n",
      "epoch=42, acc=0.7954564184252194, loss=0.20824302184050664\n",
      "epoch=43, acc=0.7997343860462162, loss=0.2067720167841959\n",
      "epoch=44, acc=0.7976577731139042, loss=0.20816514773554617\n",
      "epoch=45, acc=0.7895598311088446, loss=0.19287574665717863\n",
      "epoch=46, acc=0.7895298798003786, loss=0.20190401299616567\n",
      "epoch=47, acc=0.8061568764355234, loss=0.1921617277082889\n",
      "epoch=48, acc=0.7962505158673197, loss=0.20130958516983266\n",
      "epoch=49, acc=0.7890109224728262, loss=0.2068305174715897\n",
      "epoch=50, acc=0.8021515245860182, loss=0.20378498307776152\n",
      "epoch=51, acc=0.8033678791883611, loss=0.20157177060461412\n",
      "epoch=52, acc=0.8077046838940453, loss=0.19829732849447723\n",
      "epoch=53, acc=0.7932682888430326, loss=0.1919193087350091\n",
      "epoch=54, acc=0.8042426738917484, loss=0.19757925007709226\n",
      "epoch=55, acc=0.7982227794269213, loss=0.19645847272153522\n",
      "epoch=56, acc=0.8035212371796602, loss=0.20204056701078\n",
      "epoch=57, acc=0.8081902975868398, loss=0.20897527999827317\n",
      "epoch=58, acc=0.7938845878267359, loss=0.2063257296538521\n",
      "epoch=59, acc=0.8013793642447995, loss=0.1994008030187556\n",
      "epoch=60, acc=0.7982263373656371, loss=0.19827001418577003\n",
      "epoch=61, acc=0.7940342993308107, loss=0.19546395559672056\n",
      "epoch=62, acc=0.7988516488688049, loss=0.19672324686944137\n",
      "epoch=63, acc=0.8054429099365175, loss=0.20359200062613614\n",
      "epoch=64, acc=0.803571210466078, loss=0.2027627357223764\n",
      "epoch=65, acc=0.8074327618222088, loss=0.20216545594441496\n",
      "epoch=66, acc=0.7993323129880322, loss=0.19915803480032349\n",
      "epoch=67, acc=0.8064524093757022, loss=0.19907734266498653\n",
      "epoch=68, acc=0.8002376305246103, loss=0.20326235484588923\n",
      "epoch=69, acc=0.8021450211603983, loss=0.1982002489323541\n",
      "epoch=70, acc=0.7954980498919104, loss=0.19833663488967115\n",
      "epoch=71, acc=0.7942935856850821, loss=0.20299234816864695\n",
      "epoch=72, acc=0.7996579868156811, loss=0.19177165112469208\n",
      "epoch=73, acc=0.806455998638731, loss=0.1970632387100856\n",
      "epoch=74, acc=0.8082381280006169, loss=0.20470378404461348\n",
      "epoch=75, acc=0.8024390111850929, loss=0.1986036994680989\n",
      "epoch=76, acc=0.8058198434990499, loss=0.192512177912417\n",
      "epoch=77, acc=0.7989970933369098, loss=0.19194873607321938\n",
      "epoch=78, acc=0.8045067132222369, loss=0.19308639106243683\n",
      "epoch=79, acc=0.7999445275822775, loss=0.19594563961018804\n",
      "epoch=80, acc=0.798193166332162, loss=0.19479725370344075\n",
      "epoch=81, acc=0.8021239690031158, loss=0.20239083444691355\n",
      "epoch=82, acc=0.8022741881392368, loss=0.19514757582919018\n",
      "epoch=83, acc=0.8008900525142215, loss=0.19858473742851512\n",
      "epoch=84, acc=0.8004838211469599, loss=0.19462266590783248\n",
      "epoch=85, acc=0.805481839322165, loss=0.19649901526600266\n",
      "epoch=86, acc=0.8074214418143979, loss=0.19310100435862396\n",
      "epoch=87, acc=0.7993466903559446, loss=0.19850028795845642\n",
      "epoch=88, acc=0.8014803056441709, loss=0.19409324671840358\n",
      "epoch=89, acc=0.8017862684555752, loss=0.1945649053151196\n",
      "epoch=90, acc=0.8021371467970664, loss=0.1978001150007759\n",
      "epoch=91, acc=0.8064742269908096, loss=0.19812526913050169\n",
      "epoch=92, acc=0.8025490591613639, loss=0.19961913223911662\n",
      "epoch=93, acc=0.8064447140797588, loss=0.19522456343993908\n",
      "epoch=94, acc=0.8032762851963395, loss=0.1998696652733016\n",
      "epoch=95, acc=0.7986420592901564, loss=0.19695720997572735\n",
      "epoch=96, acc=0.8040793030580001, loss=0.20043978034275128\n",
      "epoch=97, acc=0.8070936658514202, loss=0.19956114831540694\n",
      "epoch=98, acc=0.8012182642198677, loss=0.19447283007553512\n",
      "epoch=99, acc=0.8072095428392502, loss=0.19994473634755772\n"
     ]
    },
    {
     "data": {
      "text/html": [
       "Waiting for W&B process to finish... <strong style=\"color:green\">(success).</strong>"
      ],
      "text/plain": [
       "<IPython.core.display.HTML object>"
      ]
     },
     "metadata": {},
     "output_type": "display_data"
    },
    {
     "data": {
      "text/html": [
       "<style>\n",
       "    table.wandb td:nth-child(1) { padding: 0 10px; text-align: left ; width: auto;} td:nth-child(2) {text-align: left ; width: 100%}\n",
       "    .wandb-row { display: flex; flex-direction: row; flex-wrap: wrap; justify-content: flex-start; width: 100% }\n",
       "    .wandb-col { display: flex; flex-direction: column; flex-basis: 100%; flex: 1; padding: 10px; }\n",
       "    </style>\n",
       "<div class=\"wandb-row\"><div class=\"wandb-col\"><h3>Run history:</h3><br/><table class=\"wandb\"><tr><td>acc</td><td>▁▇▇▇▇▇▇█████████████████████████████████</td></tr><tr><td>loss</td><td>█▂▂▂▁▁▁▁▁▁▁▁▁▁▁▁▁▁▁▁▁▁▁▁▁▁▁▁▁▁▁▁▁▁▁▁▁▁▁▁</td></tr></table><br/></div><div class=\"wandb-col\"><h3>Run summary:</h3><br/><table class=\"wandb\"><tr><td>acc</td><td>0.80721</td></tr><tr><td>loss</td><td>0.19994</td></tr></table><br/></div></div>"
      ],
      "text/plain": [
       "<IPython.core.display.HTML object>"
      ]
     },
     "metadata": {},
     "output_type": "display_data"
    },
    {
     "data": {
      "text/html": [
       "Synced <strong style=\"color:#cdcd00\">dandy-tree-6</strong>: <a href=\"https://wandb.ai/susbrock/example/runs/aj88he3w\" target=\"_blank\">https://wandb.ai/susbrock/example/runs/aj88he3w</a><br/>Synced 7 W&B file(s), 0 media file(s), 0 artifact file(s) and 1 other file(s)"
      ],
      "text/plain": [
       "<IPython.core.display.HTML object>"
      ]
     },
     "metadata": {},
     "output_type": "display_data"
    },
    {
     "data": {
      "text/html": [
       "Find logs at: <code>.\\wandb\\run-20221016_084728-aj88he3w\\logs</code>"
      ],
      "text/plain": [
       "<IPython.core.display.HTML object>"
      ]
     },
     "metadata": {},
     "output_type": "display_data"
    },
    {
     "name": "stdout",
     "output_type": "stream",
     "text": [
      "Training for 120 epochs with learning rate 0.1\n"
     ]
    },
    {
     "data": {
      "text/html": [
       "Changes to your `wandb` environment variables will be ignored because your `wandb` session has already started. For more information on how to modify your settings with `wandb.init()` arguments, please refer to <a href=\"https://wandb.me/wandb-init\" target=\"_blank\">the W&B docs</a>."
      ],
      "text/plain": [
       "<IPython.core.display.HTML object>"
      ]
     },
     "metadata": {},
     "output_type": "display_data"
    },
    {
     "data": {
      "application/vnd.jupyter.widget-view+json": {
       "model_id": "8e9053d5cfcd41d181391d25ce1883db",
       "version_major": 2,
       "version_minor": 0
      },
      "text/plain": [
       "VBox(children=(Label(value='Waiting for wandb.init()...\\r'), FloatProgress(value=0.016916666666414434, max=1.0…"
      ]
     },
     "metadata": {},
     "output_type": "display_data"
    },
    {
     "data": {
      "text/html": [
       "Tracking run with wandb version 0.13.4"
      ],
      "text/plain": [
       "<IPython.core.display.HTML object>"
      ]
     },
     "metadata": {},
     "output_type": "display_data"
    },
    {
     "data": {
      "text/html": [
       "Run data is saved locally in <code>i:\\tinyml\\tiny_cnn\\wandb\\run-20221016_084744-361p46ad</code>"
      ],
      "text/plain": [
       "<IPython.core.display.HTML object>"
      ]
     },
     "metadata": {},
     "output_type": "display_data"
    },
    {
     "data": {
      "text/html": [
       "Syncing run <strong><a href=\"https://wandb.ai/susbrock/example/runs/361p46ad\" target=\"_blank\">logical-vortex-7</a></strong> to <a href=\"https://wandb.ai/susbrock/example\" target=\"_blank\">Weights & Biases</a> (<a href=\"https://wandb.me/run\" target=\"_blank\">docs</a>)<br/>"
      ],
      "text/plain": [
       "<IPython.core.display.HTML object>"
      ]
     },
     "metadata": {},
     "output_type": "display_data"
    },
    {
     "name": "stdout",
     "output_type": "stream",
     "text": [
      "lr: 0.1\n",
      "epoch=2, acc=0.7012160399351433, loss=0.3433315689655691\n",
      "epoch=3, acc=0.715820968909804, loss=0.16779925719876382\n",
      "epoch=4, acc=0.765471327249599, loss=0.29896679344771004\n",
      "epoch=5, acc=0.8647014587648214, loss=0.21116911948462738\n",
      "epoch=6, acc=0.9078513553741416, loss=0.17496175675043368\n",
      "epoch=7, acc=0.9818261837434586, loss=0.08588062029988051\n",
      "epoch=8, acc=0.979038273535046, loss=0.06820842611578105\n",
      "epoch=9, acc=0.9410689757991395, loss=0.04300732529352277\n",
      "epoch=10, acc=0.9591182266144668, loss=0.05443863773611697\n",
      "epoch=11, acc=0.9516279272189643, loss=0.06794974219266586\n",
      "epoch=12, acc=0.9936428627835956, loss=0.007515504677145212\n",
      "epoch=13, acc=0.9929781526145449, loss=0.07598681717858805\n",
      "epoch=14, acc=0.929922503129611, loss=0.05585648491868317\n",
      "epoch=15, acc=0.972868983469147, loss=0.004183665390220511\n",
      "epoch=16, acc=0.9830967807980239, loss=0.045233490078248145\n",
      "epoch=17, acc=0.9932281188128645, loss=0.03539886641260324\n",
      "epoch=18, acc=0.9615505659185098, loss=0.012089191629911704\n",
      "epoch=19, acc=0.9915088985362954, loss=0.025599038473800496\n",
      "epoch=20, acc=0.9491545836500418, loss=0.010578770957375883\n",
      "epoch=21, acc=0.9906013964499265, loss=0.03894293234048441\n",
      "epoch=22, acc=0.9606951037467926, loss=0.03773945303064658\n",
      "epoch=23, acc=0.9584341515934621, loss=0.042760260344512406\n",
      "epoch=24, acc=0.9574007119367721, loss=0.040735114122092415\n",
      "epoch=25, acc=0.9819096139576008, loss=0.03878441180732502\n",
      "epoch=26, acc=0.989016955820016, loss=0.035880575364723416\n",
      "epoch=27, acc=0.9749675879896188, loss=0.01150692725991387\n",
      "epoch=28, acc=0.993569599073915, loss=0.0065091227554883585\n",
      "epoch=29, acc=0.9702358055928625, loss=0.015826065982732385\n",
      "epoch=30, acc=0.9845586697120616, loss=0.02456781981318238\n",
      "epoch=31, acc=0.9661480061182062, loss=0.017165586490222137\n",
      "epoch=32, acc=0.966477046322634, loss=0.005794970188122023\n",
      "epoch=33, acc=0.990381336727567, loss=0.013366409967105957\n",
      "epoch=34, acc=0.9931049847740134, loss=0.02436529081645433\n",
      "epoch=35, acc=0.9927131666634567, loss=0.011546968196871472\n",
      "epoch=36, acc=0.9919283800745776, loss=0.023735845357259852\n",
      "epoch=37, acc=0.9710244803186007, loss=0.005027412118571599\n",
      "epoch=38, acc=0.9950707762864407, loss=0.010314930447467155\n",
      "epoch=39, acc=0.9825164643491168, loss=0.025275544551550053\n",
      "epoch=40, acc=0.9756570078004416, loss=0.025413375823576074\n",
      "epoch=41, acc=0.9759001809829385, loss=0.0254837306447449\n",
      "epoch=42, acc=0.9799271462590379, loss=0.012427328147515368\n",
      "epoch=43, acc=0.9779560286427753, loss=0.014161129911438156\n",
      "epoch=44, acc=0.9877311222019436, loss=0.017818350423908124\n",
      "epoch=45, acc=0.9842938777535719, loss=0.022556987340340687\n",
      "epoch=46, acc=0.9811943105506394, loss=0.01601587850033398\n",
      "epoch=47, acc=0.9896512855948598, loss=0.004867285729031641\n",
      "epoch=48, acc=0.9832124842576713, loss=0.01296775686117788\n",
      "epoch=49, acc=0.9779697773198338, loss=0.014705249322688204\n",
      "epoch=50, acc=0.9814154896820633, loss=0.0031176861317317207\n",
      "epoch=51, acc=0.9805617981238117, loss=0.009010560938868671\n",
      "epoch=52, acc=0.992095435011793, loss=0.011467690963931472\n",
      "epoch=53, acc=0.9966226015832618, loss=0.014490731157365596\n",
      "epoch=54, acc=0.9833344454883559, loss=0.011074144645275822\n",
      "epoch=55, acc=0.991474034981107, loss=0.01139329409021743\n",
      "epoch=56, acc=0.9801233034705632, loss=0.005811609890911741\n",
      "epoch=57, acc=0.9893397553148128, loss=0.009376256684342697\n",
      "epoch=58, acc=0.9878105043732206, loss=0.010335362214346631\n",
      "epoch=59, acc=0.982861662057218, loss=0.01664294359455913\n",
      "epoch=60, acc=0.9865637525418494, loss=0.004920332908156247\n",
      "epoch=61, acc=0.9955038722732069, loss=0.00482164755614338\n",
      "epoch=62, acc=0.9874701437708723, loss=0.01587552269355874\n",
      "epoch=63, acc=0.983805938559064, loss=0.01487432242360843\n",
      "epoch=64, acc=0.9831698487713296, loss=0.009566040751608409\n",
      "epoch=65, acc=0.9909661532049892, loss=0.01728767115752226\n",
      "epoch=66, acc=0.9868750498282347, loss=0.00801628420577119\n",
      "epoch=67, acc=0.9912665706508204, loss=0.013090247148450172\n",
      "epoch=68, acc=0.9951772696991427, loss=0.016220955333180038\n",
      "epoch=69, acc=0.9963620657740131, loss=0.011401172319746777\n",
      "epoch=70, acc=0.9933184998240653, loss=0.007447344418501804\n",
      "epoch=71, acc=0.9873926764719813, loss=0.0035019537981747033\n",
      "epoch=72, acc=0.9958005555742897, loss=0.012139110386538872\n",
      "epoch=73, acc=0.9970003751852408, loss=0.013353191721231008\n",
      "epoch=74, acc=0.9934139489431447, loss=0.004811060950940179\n",
      "epoch=75, acc=0.9872371038799493, loss=0.007886990471542447\n",
      "epoch=76, acc=0.9908550635000314, loss=0.00909176788321949\n",
      "epoch=77, acc=0.9965020601046746, loss=0.0035185748801099667\n",
      "epoch=78, acc=0.9942041336616884, loss=0.005744927197761484\n",
      "epoch=79, acc=0.9925611018664627, loss=0.004678527073905597\n",
      "epoch=80, acc=0.9896368405123062, loss=0.011069607723688674\n",
      "epoch=81, acc=0.9880361465585513, loss=0.011886808943953558\n",
      "epoch=82, acc=0.9911080336062271, loss=0.005350311703429651\n",
      "epoch=83, acc=0.9897112404340587, loss=0.012709971732312902\n",
      "epoch=84, acc=0.9970977553715835, loss=0.008542478001956705\n",
      "epoch=85, acc=0.9919309095495632, loss=0.0037957166152292558\n",
      "epoch=86, acc=0.9907647461197593, loss=0.009525507880405782\n",
      "epoch=87, acc=0.9863465645239049, loss=0.007613519389043361\n",
      "epoch=88, acc=0.9924025094081493, loss=0.006527292779930915\n",
      "epoch=89, acc=0.9876473312238201, loss=0.007678660142089516\n",
      "epoch=90, acc=0.9921760733648547, loss=0.009026581254519528\n",
      "epoch=91, acc=0.9889731956501724, loss=0.009132511878412177\n",
      "epoch=92, acc=0.9878351530649551, loss=0.010282043423700517\n",
      "epoch=93, acc=0.9960002251291811, loss=0.013045949781430618\n",
      "epoch=94, acc=0.9950832128973774, loss=0.006556498346402553\n",
      "epoch=95, acc=0.9963519862794032, loss=0.008373274467832415\n",
      "epoch=96, acc=0.9876645162842295, loss=0.009875620085004842\n",
      "epoch=97, acc=0.9925705268083774, loss=0.009790657862186759\n",
      "epoch=98, acc=0.9931818946372635, loss=0.004652031995449811\n",
      "epoch=99, acc=0.9953084301702892, loss=0.005365889161470898\n",
      "epoch=100, acc=0.9874090382366126, loss=0.012109571698630523\n",
      "epoch=101, acc=0.988232721460147, loss=0.006650487837482623\n",
      "epoch=102, acc=0.9953837448318874, loss=0.004806113313629132\n",
      "epoch=103, acc=0.9911502245088167, loss=0.010350946960901735\n",
      "epoch=104, acc=0.9929755824854273, loss=0.008387935701028557\n",
      "epoch=105, acc=0.9914733890368003, loss=0.0045156323855425305\n",
      "epoch=106, acc=0.9929521469593738, loss=0.011712918002970807\n",
      "epoch=107, acc=0.9891255415032589, loss=0.009689654466051589\n",
      "epoch=108, acc=0.9904546815425805, loss=0.008205652253122865\n",
      "epoch=109, acc=0.9963030261672259, loss=0.009217763108468406\n",
      "epoch=110, acc=0.990417517624729, loss=0.009888975308091458\n",
      "epoch=111, acc=0.9929476647161317, loss=0.011568883208704575\n",
      "epoch=112, acc=0.9970679905309338, loss=0.010409118112469518\n",
      "epoch=113, acc=0.9914900008586294, loss=0.003161336880621353\n",
      "epoch=114, acc=0.9912030765347635, loss=0.011118991324241064\n",
      "epoch=115, acc=0.994138998079707, loss=0.008015666581425378\n",
      "epoch=116, acc=0.9936471384460505, loss=0.010549000240588942\n",
      "epoch=117, acc=0.9944135831825883, loss=0.0070693293410317454\n",
      "epoch=118, acc=0.991987258137114, loss=0.00334390376203793\n",
      "epoch=119, acc=0.9945457196641238, loss=0.009383851323044631\n"
     ]
    },
    {
     "data": {
      "text/html": [
       "Waiting for W&B process to finish... <strong style=\"color:green\">(success).</strong>"
      ],
      "text/plain": [
       "<IPython.core.display.HTML object>"
      ]
     },
     "metadata": {},
     "output_type": "display_data"
    },
    {
     "data": {
      "text/html": [
       "<style>\n",
       "    table.wandb td:nth-child(1) { padding: 0 10px; text-align: left ; width: auto;} td:nth-child(2) {text-align: left ; width: 100%}\n",
       "    .wandb-row { display: flex; flex-direction: row; flex-wrap: wrap; justify-content: flex-start; width: 100% }\n",
       "    .wandb-col { display: flex; flex-direction: column; flex-basis: 100%; flex: 1; padding: 10px; }\n",
       "    </style>\n",
       "<div class=\"wandb-row\"><div class=\"wandb-col\"><h3>Run history:</h3><br/><table class=\"wandb\"><tr><td>acc</td><td>▁▅█▇▆█▇▇█▇▇█████████████████████████████</td></tr><tr><td>loss</td><td>█▅▂▂▂▂▁▂▂▁▁▁▁▁▁▁▁▁▁▁▁▁▁▁▁▁▁▁▁▁▁▁▁▁▁▁▁▁▁▁</td></tr></table><br/></div><div class=\"wandb-col\"><h3>Run summary:</h3><br/><table class=\"wandb\"><tr><td>acc</td><td>0.99455</td></tr><tr><td>loss</td><td>0.00938</td></tr></table><br/></div></div>"
      ],
      "text/plain": [
       "<IPython.core.display.HTML object>"
      ]
     },
     "metadata": {},
     "output_type": "display_data"
    },
    {
     "data": {
      "text/html": [
       "Synced <strong style=\"color:#cdcd00\">logical-vortex-7</strong>: <a href=\"https://wandb.ai/susbrock/example/runs/361p46ad\" target=\"_blank\">https://wandb.ai/susbrock/example/runs/361p46ad</a><br/>Synced 7 W&B file(s), 0 media file(s), 0 artifact file(s) and 1 other file(s)"
      ],
      "text/plain": [
       "<IPython.core.display.HTML object>"
      ]
     },
     "metadata": {},
     "output_type": "display_data"
    },
    {
     "data": {
      "text/html": [
       "Find logs at: <code>.\\wandb\\run-20221016_084744-361p46ad\\logs</code>"
      ],
      "text/plain": [
       "<IPython.core.display.HTML object>"
      ]
     },
     "metadata": {},
     "output_type": "display_data"
    },
    {
     "name": "stdout",
     "output_type": "stream",
     "text": [
      "Training for 120 epochs with learning rate 0.01\n"
     ]
    },
    {
     "data": {
      "text/html": [
       "Changes to your `wandb` environment variables will be ignored because your `wandb` session has already started. For more information on how to modify your settings with `wandb.init()` arguments, please refer to <a href=\"https://wandb.me/wandb-init\" target=\"_blank\">the W&B docs</a>."
      ],
      "text/plain": [
       "<IPython.core.display.HTML object>"
      ]
     },
     "metadata": {},
     "output_type": "display_data"
    },
    {
     "data": {
      "text/html": [
       "Tracking run with wandb version 0.13.4"
      ],
      "text/plain": [
       "<IPython.core.display.HTML object>"
      ]
     },
     "metadata": {},
     "output_type": "display_data"
    },
    {
     "data": {
      "text/html": [
       "Run data is saved locally in <code>i:\\tinyml\\tiny_cnn\\wandb\\run-20221016_084805-144m3397</code>"
      ],
      "text/plain": [
       "<IPython.core.display.HTML object>"
      ]
     },
     "metadata": {},
     "output_type": "display_data"
    },
    {
     "data": {
      "text/html": [
       "Syncing run <strong><a href=\"https://wandb.ai/susbrock/example/runs/144m3397\" target=\"_blank\">silver-surf-8</a></strong> to <a href=\"https://wandb.ai/susbrock/example\" target=\"_blank\">Weights & Biases</a> (<a href=\"https://wandb.me/run\" target=\"_blank\">docs</a>)<br/>"
      ],
      "text/plain": [
       "<IPython.core.display.HTML object>"
      ]
     },
     "metadata": {},
     "output_type": "display_data"
    },
    {
     "name": "stdout",
     "output_type": "stream",
     "text": [
      "lr: 0.01\n",
      "epoch=2, acc=0.29010244856820083, loss=0.7022521282928802\n",
      "epoch=3, acc=0.41465455731100054, loss=0.3223015050794583\n",
      "epoch=4, acc=0.6153916836940836, loss=0.35742286702045356\n",
      "epoch=5, acc=0.7262415287170945, loss=0.3497422166509897\n",
      "epoch=6, acc=0.7873437308250048, loss=0.3284140954091649\n",
      "epoch=7, acc=0.6918610224401257, loss=0.28855066964309106\n",
      "epoch=8, acc=0.7869157243279455, loss=0.24954130324978618\n",
      "epoch=9, acc=0.7549301445728839, loss=0.20393467311487123\n",
      "epoch=10, acc=0.7085856887872042, loss=0.23622732098148874\n",
      "epoch=11, acc=0.7435260066434134, loss=0.22179717626661258\n",
      "epoch=12, acc=0.7414780167350048, loss=0.1983696208612845\n",
      "epoch=13, acc=0.7806649165853409, loss=0.2133593768362415\n",
      "epoch=14, acc=0.759470811814551, loss=0.23664119982149853\n",
      "epoch=15, acc=0.7967144769802496, loss=0.2541905365166584\n",
      "epoch=16, acc=0.7505094729796106, loss=0.2415811210158104\n",
      "epoch=17, acc=0.7850674133381882, loss=0.20744034939509434\n",
      "epoch=18, acc=0.7596486234980634, loss=0.22097018212305675\n",
      "epoch=19, acc=0.7669204567819161, loss=0.20902177324091312\n",
      "epoch=20, acc=0.7918957856639446, loss=0.19666411413539817\n",
      "epoch=21, acc=0.7803744317703869, loss=0.19877534533493788\n",
      "epoch=22, acc=0.7748109268603398, loss=0.23155486685419396\n",
      "epoch=23, acc=0.7882676963006544, loss=0.2167762332541726\n",
      "epoch=24, acc=0.8013815108523213, loss=0.23000729204333153\n",
      "epoch=25, acc=0.7882733206517284, loss=0.20747448986701517\n",
      "epoch=26, acc=0.777920231327357, loss=0.22292389350868297\n",
      "epoch=27, acc=0.7861995794914254, loss=0.2096493065541966\n",
      "epoch=28, acc=0.7887957240972471, loss=0.20148770042671493\n",
      "epoch=29, acc=0.7826802864447644, loss=0.2158402667420434\n",
      "epoch=30, acc=0.7980839592897605, loss=0.1969404955766258\n",
      "epoch=31, acc=0.7795372476156949, loss=0.21522065603176893\n",
      "epoch=32, acc=0.7962834870479618, loss=0.20633721039393962\n",
      "epoch=33, acc=0.7898477886230305, loss=0.22156209897586635\n",
      "epoch=34, acc=0.7805882271914767, loss=0.2202097427058804\n",
      "epoch=35, acc=0.7946619822257885, loss=0.20714828443728833\n",
      "epoch=36, acc=0.8050099958571355, loss=0.19623484458781623\n",
      "epoch=37, acc=0.8013989616173326, loss=0.2204678532737105\n",
      "epoch=38, acc=0.7862781760281785, loss=0.21383329095772077\n",
      "epoch=39, acc=0.8001499350909946, loss=0.21659182935302246\n",
      "epoch=40, acc=0.7904924390158644, loss=0.20158226898363127\n",
      "epoch=41, acc=0.7866979917199672, loss=0.19830034503199498\n",
      "epoch=42, acc=0.7970858274514208, loss=0.20370682369399515\n",
      "epoch=43, acc=0.8002766217820713, loss=0.2140507230149718\n",
      "epoch=44, acc=0.8050763916819882, loss=0.21036048793891526\n",
      "epoch=45, acc=0.8016030545916327, loss=0.20492888420075567\n",
      "epoch=46, acc=0.8026002238514346, loss=0.20524415622797995\n",
      "epoch=47, acc=0.7860440387199148, loss=0.212775558259668\n",
      "epoch=48, acc=0.7920071635812513, loss=0.2003383701463099\n",
      "epoch=49, acc=0.7933361773804792, loss=0.21201708512832396\n",
      "epoch=50, acc=0.7884552111659164, loss=0.19606342562768841\n",
      "epoch=51, acc=0.804679266214685, loss=0.21021773429301177\n",
      "epoch=52, acc=0.8032167803926018, loss=0.20851972782584838\n",
      "epoch=53, acc=0.7988554685990444, loss=0.19575797663926925\n",
      "epoch=54, acc=0.7991632716811522, loss=0.20085695456923766\n",
      "epoch=55, acc=0.7893257163687851, loss=0.1980111976242985\n",
      "epoch=56, acc=0.8014523097994506, loss=0.21008911302345257\n",
      "epoch=57, acc=0.797507479681434, loss=0.19574770098016028\n",
      "epoch=58, acc=0.7939993916778035, loss=0.21031043556937595\n",
      "epoch=59, acc=0.7933881740042866, loss=0.2057264222030366\n",
      "epoch=60, acc=0.8053728017105756, loss=0.19921363447107035\n",
      "epoch=61, acc=0.7974288022254312, loss=0.19416312562636506\n",
      "epoch=62, acc=0.8046966272002922, loss=0.19695205161648754\n",
      "epoch=63, acc=0.7915366854358761, loss=0.20671609280735065\n",
      "epoch=64, acc=0.794772409827306, loss=0.2090419972039281\n",
      "epoch=65, acc=0.7969049875131002, loss=0.2088872955682895\n",
      "epoch=66, acc=0.7941642246362755, loss=0.19833839486343866\n",
      "epoch=67, acc=0.8035375180370399, loss=0.2025639357972672\n",
      "epoch=68, acc=0.8041931524958066, loss=0.2021299677499432\n",
      "epoch=69, acc=0.8053395939668094, loss=0.196166374369933\n",
      "epoch=70, acc=0.7949467584227525, loss=0.19587754029371773\n",
      "epoch=71, acc=0.8056602852029217, loss=0.19569486325223942\n",
      "epoch=72, acc=0.7973889199268095, loss=0.1945623102192699\n",
      "epoch=73, acc=0.8006021358700871, loss=0.20257319375456825\n",
      "epoch=74, acc=0.8057342843344664, loss=0.1986176617109775\n",
      "epoch=75, acc=0.7930296838487352, loss=0.19538094026721786\n",
      "epoch=76, acc=0.8046766885933875, loss=0.20656583969773418\n",
      "epoch=77, acc=0.804190066964551, loss=0.2017220033352648\n",
      "epoch=78, acc=0.8009668575660467, loss=0.20179459621220913\n",
      "epoch=79, acc=0.7951699024732457, loss=0.20400541801576474\n",
      "epoch=80, acc=0.8004479518869466, loss=0.2033988969171254\n",
      "epoch=81, acc=0.8002741215249121, loss=0.2007169253643766\n",
      "epoch=82, acc=0.794383720763588, loss=0.20536870854029723\n",
      "epoch=83, acc=0.7945826455557576, loss=0.19937626661086025\n",
      "epoch=84, acc=0.7988374087419342, loss=0.20205972223696703\n",
      "epoch=85, acc=0.8045069718498201, loss=0.20531338392977455\n",
      "epoch=86, acc=0.7987821285933091, loss=0.20082757330755274\n",
      "epoch=87, acc=0.7963561742553655, loss=0.20241391456922736\n",
      "epoch=88, acc=0.8011520646007702, loss=0.19916184920247537\n",
      "epoch=89, acc=0.8031336770461345, loss=0.1963617256323423\n",
      "epoch=90, acc=0.8044152608042985, loss=0.2012054275413226\n",
      "epoch=91, acc=0.8049809793720847, loss=0.1983799261314317\n",
      "epoch=92, acc=0.8009735979528871, loss=0.20207808153166767\n",
      "epoch=93, acc=0.8021245816731385, loss=0.19641232121932706\n",
      "epoch=94, acc=0.8044501887083734, loss=0.19394706547838797\n",
      "epoch=95, acc=0.8033924544671673, loss=0.203035325766515\n",
      "epoch=96, acc=0.8042037521709149, loss=0.19722655373030568\n",
      "epoch=97, acc=0.8022269691280759, loss=0.2022740402844186\n",
      "epoch=98, acc=0.7998053732620237, loss=0.1965910917804404\n",
      "epoch=99, acc=0.8033012152702642, loss=0.19871556255704462\n",
      "epoch=100, acc=0.7961404485635578, loss=0.19449114371220894\n",
      "epoch=101, acc=0.8000925269809632, loss=0.1983653897055698\n",
      "epoch=102, acc=0.8009850961666273, loss=0.20165627817138493\n",
      "epoch=103, acc=0.8014690921946176, loss=0.19503875504512658\n",
      "epoch=104, acc=0.7991142526864954, loss=0.20241375917465199\n",
      "epoch=105, acc=0.7997471989441391, loss=0.1969548996086844\n",
      "epoch=106, acc=0.8035487030798193, loss=0.19669778917413644\n",
      "epoch=107, acc=0.7999183758059832, loss=0.200276472809969\n",
      "epoch=108, acc=0.7982916734231189, loss=0.20297242497418266\n",
      "epoch=109, acc=0.7970202656104642, loss=0.1997021947018693\n",
      "epoch=110, acc=0.7971856275834214, loss=0.1979438521146756\n",
      "epoch=111, acc=0.80206706155303, loss=0.19720462854508572\n",
      "epoch=112, acc=0.8017496903061131, loss=0.19847897813730656\n",
      "epoch=113, acc=0.8041910996407194, loss=0.20124521489689837\n",
      "epoch=114, acc=0.8057261340665982, loss=0.20165455172762894\n",
      "epoch=115, acc=0.7974771863533778, loss=0.19842804490504443\n",
      "epoch=116, acc=0.7982916688290499, loss=0.20043812857099053\n",
      "epoch=117, acc=0.7998452052876751, loss=0.20207422421985965\n",
      "epoch=118, acc=0.7999668548950208, loss=0.19722363527279296\n",
      "epoch=119, acc=0.8004974569855178, loss=0.19888542940637383\n"
     ]
    },
    {
     "data": {
      "text/html": [
       "Waiting for W&B process to finish... <strong style=\"color:green\">(success).</strong>"
      ],
      "text/plain": [
       "<IPython.core.display.HTML object>"
      ]
     },
     "metadata": {},
     "output_type": "display_data"
    },
    {
     "data": {
      "text/html": [
       "<style>\n",
       "    table.wandb td:nth-child(1) { padding: 0 10px; text-align: left ; width: auto;} td:nth-child(2) {text-align: left ; width: 100%}\n",
       "    .wandb-row { display: flex; flex-direction: row; flex-wrap: wrap; justify-content: flex-start; width: 100% }\n",
       "    .wandb-col { display: flex; flex-direction: column; flex-basis: 100%; flex: 1; padding: 10px; }\n",
       "    </style>\n",
       "<div class=\"wandb-row\"><div class=\"wandb-col\"><h3>Run history:</h3><br/><table class=\"wandb\"><tr><td>acc</td><td>▁▇█▇▇███████████████████████████████████</td></tr><tr><td>loss</td><td>█▃▂▁▂▁▁▁▁▁▁▁▁▁▁▁▁▁▁▁▁▁▁▁▁▁▁▁▁▁▁▁▁▁▁▁▁▁▁▁</td></tr></table><br/></div><div class=\"wandb-col\"><h3>Run summary:</h3><br/><table class=\"wandb\"><tr><td>acc</td><td>0.8005</td></tr><tr><td>loss</td><td>0.19889</td></tr></table><br/></div></div>"
      ],
      "text/plain": [
       "<IPython.core.display.HTML object>"
      ]
     },
     "metadata": {},
     "output_type": "display_data"
    },
    {
     "data": {
      "text/html": [
       "Synced <strong style=\"color:#cdcd00\">silver-surf-8</strong>: <a href=\"https://wandb.ai/susbrock/example/runs/144m3397\" target=\"_blank\">https://wandb.ai/susbrock/example/runs/144m3397</a><br/>Synced 7 W&B file(s), 0 media file(s), 0 artifact file(s) and 1 other file(s)"
      ],
      "text/plain": [
       "<IPython.core.display.HTML object>"
      ]
     },
     "metadata": {},
     "output_type": "display_data"
    },
    {
     "data": {
      "text/html": [
       "Find logs at: <code>.\\wandb\\run-20221016_084805-144m3397\\logs</code>"
      ],
      "text/plain": [
       "<IPython.core.display.HTML object>"
      ]
     },
     "metadata": {},
     "output_type": "display_data"
    },
    {
     "name": "stdout",
     "output_type": "stream",
     "text": [
      "Training for 120 epochs with learning rate 0.001\n"
     ]
    },
    {
     "data": {
      "text/html": [
       "Changes to your `wandb` environment variables will be ignored because your `wandb` session has already started. For more information on how to modify your settings with `wandb.init()` arguments, please refer to <a href=\"https://wandb.me/wandb-init\" target=\"_blank\">the W&B docs</a>."
      ],
      "text/plain": [
       "<IPython.core.display.HTML object>"
      ]
     },
     "metadata": {},
     "output_type": "display_data"
    },
    {
     "data": {
      "application/vnd.jupyter.widget-view+json": {
       "model_id": "a871a058835b4a0392f9bb1845ec9179",
       "version_major": 2,
       "version_minor": 0
      },
      "text/plain": [
       "VBox(children=(Label(value='Waiting for wandb.init()...\\r'), FloatProgress(value=0.016666666666666666, max=1.0…"
      ]
     },
     "metadata": {},
     "output_type": "display_data"
    },
    {
     "data": {
      "text/html": [
       "Tracking run with wandb version 0.13.4"
      ],
      "text/plain": [
       "<IPython.core.display.HTML object>"
      ]
     },
     "metadata": {},
     "output_type": "display_data"
    },
    {
     "data": {
      "text/html": [
       "Run data is saved locally in <code>i:\\tinyml\\tiny_cnn\\wandb\\run-20221016_084828-1ry05bas</code>"
      ],
      "text/plain": [
       "<IPython.core.display.HTML object>"
      ]
     },
     "metadata": {},
     "output_type": "display_data"
    },
    {
     "data": {
      "text/html": [
       "Syncing run <strong><a href=\"https://wandb.ai/susbrock/example/runs/1ry05bas\" target=\"_blank\">rich-universe-9</a></strong> to <a href=\"https://wandb.ai/susbrock/example\" target=\"_blank\">Weights & Biases</a> (<a href=\"https://wandb.me/run\" target=\"_blank\">docs</a>)<br/>"
      ],
      "text/plain": [
       "<IPython.core.display.HTML object>"
      ]
     },
     "metadata": {},
     "output_type": "display_data"
    },
    {
     "name": "stdout",
     "output_type": "stream",
     "text": [
      "lr: 0.001\n",
      "epoch=2, acc=0.2877633578161668, loss=0.4865111332719353\n",
      "epoch=3, acc=0.813980228364602, loss=0.17453122923252562\n",
      "epoch=4, acc=0.7383366828566348, loss=0.14409384569283964\n",
      "epoch=5, acc=0.8949771580819982, loss=0.23465251594457956\n",
      "epoch=6, acc=0.8453604071009551, loss=0.09564527385066804\n",
      "epoch=7, acc=0.8944961874866982, loss=0.06760092438165326\n",
      "epoch=8, acc=0.8992110705193573, loss=0.05201733837117432\n",
      "epoch=9, acc=0.9149802027770081, loss=0.12213451149499238\n",
      "epoch=10, acc=0.933159376761312, loss=0.10120961671845077\n",
      "epoch=11, acc=0.938723578280604, loss=0.06903188966473878\n",
      "epoch=12, acc=0.9195972906773927, loss=0.07457273502846791\n",
      "epoch=13, acc=0.980528256609375, loss=0.03326462962381888\n",
      "epoch=14, acc=0.9771041936190137, loss=0.049343485641788074\n",
      "epoch=15, acc=0.9674548893711397, loss=0.03267545793851646\n",
      "epoch=16, acc=0.9639540784217935, loss=0.042422757440020054\n",
      "epoch=17, acc=0.9528899669829114, loss=0.03427753423624586\n",
      "epoch=18, acc=0.9799876819724836, loss=0.06537014800137547\n",
      "epoch=19, acc=0.9295695391128789, loss=0.06723940692140548\n",
      "epoch=20, acc=0.9610801293945574, loss=0.06572665424806187\n",
      "epoch=21, acc=0.9688908127306144, loss=0.05858776985206471\n",
      "epoch=22, acc=0.9762694193464221, loss=0.05652119303181489\n",
      "epoch=23, acc=0.9739678252597291, loss=0.05012159854614255\n",
      "epoch=24, acc=0.9512257794557697, loss=0.03189612506296262\n",
      "epoch=25, acc=0.9675472803693759, loss=0.05405219394151122\n",
      "epoch=26, acc=0.9595188972368165, loss=0.02421998136304487\n",
      "epoch=27, acc=0.9569536694677324, loss=0.024125991714547053\n",
      "epoch=28, acc=0.9763581743361491, loss=0.042064519496214245\n",
      "epoch=29, acc=0.9709502424649288, loss=0.050444104313634955\n",
      "epoch=30, acc=0.9573723050559536, loss=0.027927168644846036\n",
      "epoch=31, acc=0.9746466047263441, loss=0.0324866029706902\n",
      "epoch=32, acc=0.9686591510065391, loss=0.046348449708980125\n",
      "epoch=33, acc=0.9519220959361462, loss=0.022860566733694968\n",
      "epoch=34, acc=0.9708934614721969, loss=0.04641326743224386\n",
      "epoch=35, acc=0.9559889131254606, loss=0.033282795832758394\n",
      "epoch=36, acc=0.9734372435077181, loss=0.03997223910091072\n",
      "epoch=37, acc=0.9598032072523931, loss=0.034763335719741155\n",
      "epoch=38, acc=0.9592309339754205, loss=0.031899220325899\n",
      "epoch=39, acc=0.9644365683440543, loss=0.022234312580289965\n",
      "epoch=40, acc=0.9597140462087111, loss=0.02425596774891326\n",
      "epoch=41, acc=0.9726816195287189, loss=0.02933651173714989\n",
      "epoch=42, acc=0.9643698817079472, loss=0.036677925974366116\n",
      "epoch=43, acc=0.9801190112702987, loss=0.02880713609767957\n",
      "epoch=44, acc=0.9697299120707338, loss=0.03413342001498306\n",
      "epoch=45, acc=0.9590077056184495, loss=0.04032176273119385\n",
      "epoch=46, acc=0.9652976464324625, loss=0.0222935201840417\n",
      "epoch=47, acc=0.9623246450900024, loss=0.033466199989072895\n",
      "epoch=48, acc=0.9610089682916472, loss=0.039042574156031684\n",
      "epoch=49, acc=0.9769770405278377, loss=0.02718844243405092\n",
      "epoch=50, acc=0.9612574632223801, loss=0.03871147151769194\n",
      "epoch=51, acc=0.9741228255745469, loss=0.024695117844069688\n",
      "epoch=52, acc=0.9674495341496204, loss=0.028231333836638287\n",
      "epoch=53, acc=0.967790633865197, loss=0.025075904448392385\n",
      "epoch=54, acc=0.9762348269335754, loss=0.03474072034207118\n",
      "epoch=55, acc=0.9763770943920324, loss=0.02663046128503676\n",
      "epoch=56, acc=0.9732895538096832, loss=0.03684324282423565\n",
      "epoch=57, acc=0.9721484555423201, loss=0.025278483885562322\n",
      "epoch=58, acc=0.9783370758986834, loss=0.023468567263898055\n",
      "epoch=59, acc=0.9793854055306074, loss=0.019394992785876204\n",
      "epoch=60, acc=0.9640379467143062, loss=0.02063397187126586\n",
      "epoch=61, acc=0.9793469494799252, loss=0.033965878271700736\n",
      "epoch=62, acc=0.9667868795562451, loss=0.028357645624952972\n",
      "epoch=63, acc=0.9743471094282533, loss=0.02342848859680699\n",
      "epoch=64, acc=0.9794744249205587, loss=0.030821758383250193\n",
      "epoch=65, acc=0.9665486078027136, loss=0.03210609091071687\n",
      "epoch=66, acc=0.9756108404997497, loss=0.024165719810790288\n",
      "epoch=67, acc=0.9698650572902303, loss=0.020316230133390543\n",
      "epoch=68, acc=0.9756360730276556, loss=0.020594340193972896\n",
      "epoch=69, acc=0.9729831749931239, loss=0.019523071097137638\n",
      "epoch=70, acc=0.9770767263515066, loss=0.020669679354853546\n",
      "epoch=71, acc=0.9750382369387838, loss=0.031171675055319786\n",
      "epoch=72, acc=0.970185916958366, loss=0.031047943544040155\n",
      "epoch=73, acc=0.9691456012642545, loss=0.02893461440348914\n",
      "epoch=74, acc=0.9701205459419718, loss=0.030950642852726747\n",
      "epoch=75, acc=0.9773558076158383, loss=0.020408306941230536\n",
      "epoch=76, acc=0.9781464463319552, loss=0.02759451899485431\n",
      "epoch=77, acc=0.9740772474421164, loss=0.023673660623461105\n",
      "epoch=78, acc=0.9771015882349736, loss=0.02617335828052478\n",
      "epoch=79, acc=0.977610333994588, loss=0.024086608640764163\n",
      "epoch=80, acc=0.9697898396170032, loss=0.024671647757987553\n",
      "epoch=81, acc=0.9792542599802482, loss=0.02553732747471566\n",
      "epoch=82, acc=0.970715975875877, loss=0.0280324170005585\n",
      "epoch=83, acc=0.9773610684665351, loss=0.028191801907688704\n",
      "epoch=84, acc=0.979825686674818, loss=0.028505129653591338\n",
      "epoch=85, acc=0.9750343476890135, loss=0.021730708268958128\n",
      "epoch=86, acc=0.9735241344328949, loss=0.030632554801681547\n",
      "epoch=87, acc=0.971715857556645, loss=0.03031128509195627\n",
      "epoch=88, acc=0.9782425929977707, loss=0.024829331717784602\n",
      "epoch=89, acc=0.976793265304511, loss=0.019872450129446613\n",
      "epoch=90, acc=0.9750684407717868, loss=0.021671179800612384\n",
      "epoch=91, acc=0.9785270409719967, loss=0.02524518798152386\n",
      "epoch=92, acc=0.9751843945370756, loss=0.02109662925014584\n",
      "epoch=93, acc=0.9799099299158484, loss=0.0290013326322104\n",
      "epoch=94, acc=0.9776535543501762, loss=0.024066624713982736\n",
      "epoch=95, acc=0.9773937141037998, loss=0.029309061348294897\n",
      "epoch=96, acc=0.9726075655873362, loss=0.024845917054218347\n",
      "epoch=97, acc=0.9757351591509869, loss=0.02553119374035317\n",
      "epoch=98, acc=0.9756323111307048, loss=0.02576443342148419\n",
      "epoch=99, acc=0.9754188601284731, loss=0.026606034922585377\n",
      "epoch=100, acc=0.9777467522633113, loss=0.025246830325369802\n",
      "epoch=101, acc=0.9790636313929012, loss=0.023372022189263632\n",
      "epoch=102, acc=0.9779300115184798, loss=0.02760285643416408\n",
      "epoch=103, acc=0.9724681944963345, loss=0.02118971852113383\n",
      "epoch=104, acc=0.975763992370641, loss=0.024826432528935363\n",
      "epoch=105, acc=0.9794544198839852, loss=0.019412044364826193\n",
      "epoch=106, acc=0.9795693719263274, loss=0.027711184616384766\n",
      "epoch=107, acc=0.9743506099412376, loss=0.020524629271850968\n",
      "epoch=108, acc=0.9765339486011483, loss=0.021567542267114374\n",
      "epoch=109, acc=0.9732987979050572, loss=0.02377537133964741\n",
      "epoch=110, acc=0.9776579523656966, loss=0.01987328012566876\n",
      "epoch=111, acc=0.980173668877514, loss=0.027780932414845874\n",
      "epoch=112, acc=0.9738369405068898, loss=0.02085265501316051\n",
      "epoch=113, acc=0.9798177258997486, loss=0.02527588986177254\n",
      "epoch=114, acc=0.9719766439534492, loss=0.025213290639754467\n",
      "epoch=115, acc=0.9784839990624316, loss=0.02674130144613097\n",
      "epoch=116, acc=0.9750384322974216, loss=0.023625810228470885\n",
      "epoch=117, acc=0.9745847843766247, loss=0.02363163939718857\n",
      "epoch=118, acc=0.9780883656159719, loss=0.023442646282663328\n",
      "epoch=119, acc=0.9793663109042363, loss=0.024837424357982068\n"
     ]
    },
    {
     "data": {
      "text/html": [
       "Waiting for W&B process to finish... <strong style=\"color:green\">(success).</strong>"
      ],
      "text/plain": [
       "<IPython.core.display.HTML object>"
      ]
     },
     "metadata": {},
     "output_type": "display_data"
    },
    {
     "data": {
      "text/html": [
       "<style>\n",
       "    table.wandb td:nth-child(1) { padding: 0 10px; text-align: left ; width: auto;} td:nth-child(2) {text-align: left ; width: 100%}\n",
       "    .wandb-row { display: flex; flex-direction: row; flex-wrap: wrap; justify-content: flex-start; width: 100% }\n",
       "    .wandb-col { display: flex; flex-direction: column; flex-basis: 100%; flex: 1; padding: 10px; }\n",
       "    </style>\n",
       "<div class=\"wandb-row\"><div class=\"wandb-col\"><h3>Run history:</h3><br/><table class=\"wandb\"><tr><td>acc</td><td>▁▇▇█████████████████████████████████████</td></tr><tr><td>loss</td><td>█▄▁▂▁▁▂▁▁▁▁▁▁▁▁▁▁▁▁▁▁▁▁▁▁▁▁▁▁▁▁▁▁▁▁▁▁▁▁▁</td></tr></table><br/></div><div class=\"wandb-col\"><h3>Run summary:</h3><br/><table class=\"wandb\"><tr><td>acc</td><td>0.97937</td></tr><tr><td>loss</td><td>0.02484</td></tr></table><br/></div></div>"
      ],
      "text/plain": [
       "<IPython.core.display.HTML object>"
      ]
     },
     "metadata": {},
     "output_type": "display_data"
    },
    {
     "data": {
      "text/html": [
       "Synced <strong style=\"color:#cdcd00\">rich-universe-9</strong>: <a href=\"https://wandb.ai/susbrock/example/runs/1ry05bas\" target=\"_blank\">https://wandb.ai/susbrock/example/runs/1ry05bas</a><br/>Synced 7 W&B file(s), 0 media file(s), 0 artifact file(s) and 1 other file(s)"
      ],
      "text/plain": [
       "<IPython.core.display.HTML object>"
      ]
     },
     "metadata": {},
     "output_type": "display_data"
    },
    {
     "data": {
      "text/html": [
       "Find logs at: <code>.\\wandb\\run-20221016_084828-1ry05bas\\logs</code>"
      ],
      "text/plain": [
       "<IPython.core.display.HTML object>"
      ]
     },
     "metadata": {},
     "output_type": "display_data"
    },
    {
     "name": "stdout",
     "output_type": "stream",
     "text": [
      "Training for 120 epochs with learning rate 0.0001\n"
     ]
    },
    {
     "data": {
      "text/html": [
       "Changes to your `wandb` environment variables will be ignored because your `wandb` session has already started. For more information on how to modify your settings with `wandb.init()` arguments, please refer to <a href=\"https://wandb.me/wandb-init\" target=\"_blank\">the W&B docs</a>."
      ],
      "text/plain": [
       "<IPython.core.display.HTML object>"
      ]
     },
     "metadata": {},
     "output_type": "display_data"
    },
    {
     "data": {
      "text/html": [
       "Tracking run with wandb version 0.13.4"
      ],
      "text/plain": [
       "<IPython.core.display.HTML object>"
      ]
     },
     "metadata": {},
     "output_type": "display_data"
    },
    {
     "data": {
      "text/html": [
       "Run data is saved locally in <code>i:\\tinyml\\tiny_cnn\\wandb\\run-20221016_084850-row6fwht</code>"
      ],
      "text/plain": [
       "<IPython.core.display.HTML object>"
      ]
     },
     "metadata": {},
     "output_type": "display_data"
    },
    {
     "data": {
      "text/html": [
       "Syncing run <strong><a href=\"https://wandb.ai/susbrock/example/runs/row6fwht\" target=\"_blank\">valiant-star-10</a></strong> to <a href=\"https://wandb.ai/susbrock/example\" target=\"_blank\">Weights & Biases</a> (<a href=\"https://wandb.me/run\" target=\"_blank\">docs</a>)<br/>"
      ],
      "text/plain": [
       "<IPython.core.display.HTML object>"
      ]
     },
     "metadata": {},
     "output_type": "display_data"
    },
    {
     "name": "stdout",
     "output_type": "stream",
     "text": [
      "lr: 0.0001\n",
      "epoch=2, acc=0.5642162521739601, loss=0.45616632598914575\n",
      "epoch=3, acc=0.5217940981628613, loss=0.5969195635246675\n",
      "epoch=4, acc=0.5147987845474207, loss=0.40461658262794786\n",
      "epoch=5, acc=0.7710610324135395, loss=0.25574720438313553\n",
      "epoch=6, acc=0.7183322695523788, loss=0.30391672925699675\n",
      "epoch=7, acc=0.6929166563533216, loss=0.27978251676476934\n",
      "epoch=8, acc=0.7922983341728052, loss=0.22733934635412195\n",
      "epoch=9, acc=0.806487642940937, loss=0.21367410821748734\n",
      "epoch=10, acc=0.7677137643653879, loss=0.20477515190139517\n",
      "epoch=11, acc=0.7563799956708676, loss=0.25422319006175453\n",
      "epoch=12, acc=0.7549735270409893, loss=0.23921181347168013\n",
      "epoch=13, acc=0.8047789380989484, loss=0.23970739540135183\n",
      "epoch=14, acc=0.78577049537631, loss=0.20223883546110294\n",
      "epoch=15, acc=0.7758414319687092, loss=0.20267854215786033\n",
      "epoch=16, acc=0.7658683688639355, loss=0.22029449679313884\n",
      "epoch=17, acc=0.793103748608234, loss=0.19842251176488393\n",
      "epoch=18, acc=0.7732613511036237, loss=0.21124073072048344\n",
      "epoch=19, acc=0.7888154272064457, loss=0.20270036706788994\n",
      "epoch=20, acc=0.7881364366386365, loss=0.19416676822578519\n",
      "epoch=21, acc=0.7968247437138909, loss=0.1888012235891716\n",
      "epoch=22, acc=0.8236070104145743, loss=0.21626068657328756\n",
      "epoch=23, acc=0.7831660323111596, loss=0.19577904421406916\n",
      "epoch=24, acc=0.8008131409809418, loss=0.18002884917150366\n",
      "epoch=25, acc=0.7933932347098587, loss=0.1923722748763449\n",
      "epoch=26, acc=0.8007222047190962, loss=0.17860384063687065\n",
      "epoch=27, acc=0.8163800169010383, loss=0.20153891941350643\n",
      "epoch=28, acc=0.8185280907464909, loss=0.1857511487176967\n",
      "epoch=29, acc=0.8101370092203316, loss=0.18144923084674694\n",
      "epoch=30, acc=0.8184569543855349, loss=0.17798649784309126\n",
      "epoch=31, acc=0.8229422809169405, loss=0.18657945289184233\n",
      "epoch=32, acc=0.8120818806926383, loss=0.19559822756875478\n",
      "epoch=33, acc=0.8061755221502765, loss=0.18114358591466967\n",
      "epoch=34, acc=0.8150178763353828, loss=0.1874664789947207\n",
      "epoch=35, acc=0.812269117139586, loss=0.20080138894519473\n",
      "epoch=36, acc=0.8182945150917642, loss=0.17591502624552796\n",
      "epoch=37, acc=0.7997663302192585, loss=0.1763370651550222\n",
      "epoch=38, acc=0.8159313792664709, loss=0.19855936461238494\n",
      "epoch=39, acc=0.8137819822205399, loss=0.19144168931958666\n",
      "epoch=40, acc=0.8212434119904318, loss=0.1940752643953359\n",
      "epoch=41, acc=0.8245744933995152, loss=0.1989987372661608\n",
      "epoch=42, acc=0.8166038079635487, loss=0.17550560182817906\n",
      "epoch=43, acc=0.8084333183281277, loss=0.19348332505762436\n",
      "epoch=44, acc=0.8236647058085473, loss=0.17766503694528474\n",
      "epoch=45, acc=0.8124217203124188, loss=0.19200262117373282\n",
      "epoch=46, acc=0.8223750916520876, loss=0.19540261823369492\n",
      "epoch=47, acc=0.8103870853177045, loss=0.17654081472172756\n",
      "epoch=48, acc=0.804817972981128, loss=0.18338249866736003\n",
      "epoch=49, acc=0.8169293766543505, loss=0.17677112094211464\n",
      "epoch=50, acc=0.8243699632297378, loss=0.1894181014561085\n",
      "epoch=51, acc=0.8246611440293301, loss=0.18590249879386192\n",
      "epoch=52, acc=0.8178536430713961, loss=0.18392484621814584\n",
      "epoch=53, acc=0.8247228875313043, loss=0.18326828717751548\n",
      "epoch=54, acc=0.8213826411705091, loss=0.18419896182561446\n",
      "epoch=55, acc=0.8165699466191606, loss=0.18955538794868146\n",
      "epoch=56, acc=0.8142233953530219, loss=0.1838482690739454\n",
      "epoch=57, acc=0.8108731444786168, loss=0.17661462966258049\n",
      "epoch=58, acc=0.8209626818330498, loss=0.17749402546078624\n",
      "epoch=59, acc=0.8128440891878604, loss=0.18047993190354822\n",
      "epoch=60, acc=0.821760553924921, loss=0.19124594027713815\n",
      "epoch=61, acc=0.8167375143227448, loss=0.1763229099250902\n",
      "epoch=62, acc=0.8244796831229667, loss=0.18674717476933572\n",
      "epoch=63, acc=0.815743259620883, loss=0.17824834120516042\n",
      "epoch=64, acc=0.8096900153576352, loss=0.1884833486088574\n",
      "epoch=65, acc=0.8213203918706345, loss=0.185984200801849\n",
      "epoch=66, acc=0.8206028791934731, loss=0.1885430949310037\n",
      "epoch=67, acc=0.8202337148368205, loss=0.18508907676034833\n",
      "epoch=68, acc=0.8112087920720175, loss=0.18896552682644524\n",
      "epoch=69, acc=0.8174324202749046, loss=0.17849796829938677\n",
      "epoch=70, acc=0.8231676926606285, loss=0.185701509895998\n",
      "epoch=71, acc=0.8130698406307452, loss=0.17705860898513545\n",
      "epoch=72, acc=0.8142732872477496, loss=0.1830805924427314\n",
      "epoch=73, acc=0.8231285395188309, loss=0.1855650675311379\n",
      "epoch=74, acc=0.8248575495468098, loss=0.1842991519415276\n",
      "epoch=75, acc=0.8235202180719444, loss=0.18020294808441814\n",
      "epoch=76, acc=0.8164630065832723, loss=0.1757763094734146\n",
      "epoch=77, acc=0.8131262719854265, loss=0.17960131668549834\n",
      "epoch=78, acc=0.8126560984192923, loss=0.1818258601183361\n",
      "epoch=79, acc=0.8243383860426928, loss=0.17940659510690643\n",
      "epoch=80, acc=0.8146582206652292, loss=0.17855146263171204\n",
      "epoch=81, acc=0.8158092713834472, loss=0.1825764952797297\n",
      "epoch=82, acc=0.8240513534458995, loss=0.18097187722172114\n",
      "epoch=83, acc=0.8195100720019369, loss=0.18296160969627362\n",
      "epoch=84, acc=0.8239431980335775, loss=0.18402492968360792\n",
      "epoch=85, acc=0.8184141563810085, loss=0.18653029053640274\n",
      "epoch=86, acc=0.8184471948283099, loss=0.17739591387473252\n",
      "epoch=87, acc=0.8230702020334915, loss=0.18617372582905486\n",
      "epoch=88, acc=0.8210718922838294, loss=0.1862621339617738\n",
      "epoch=89, acc=0.8204823246204698, loss=0.17848347842499077\n",
      "epoch=90, acc=0.8177052850902727, loss=0.17658568258165355\n",
      "epoch=91, acc=0.8173616338057866, loss=0.18273138175500508\n",
      "epoch=92, acc=0.8161732920828688, loss=0.17966077374639894\n",
      "epoch=93, acc=0.8176170104785722, loss=0.1754472970287506\n",
      "epoch=94, acc=0.8223774933143583, loss=0.1793498062593073\n",
      "epoch=95, acc=0.8229701360854932, loss=0.1772476882785287\n",
      "epoch=96, acc=0.8235735531646413, loss=0.17812814509820682\n",
      "epoch=97, acc=0.821042222987921, loss=0.1853352924108844\n",
      "epoch=98, acc=0.8184983314174531, loss=0.175253271522242\n",
      "epoch=99, acc=0.8219679642548368, loss=0.17761700788730214\n",
      "epoch=100, acc=0.817559585867979, loss=0.18310800295866983\n",
      "epoch=101, acc=0.8207801179457945, loss=0.17884857823031503\n",
      "epoch=102, acc=0.8196759147572493, loss=0.18323870779766974\n",
      "epoch=103, acc=0.8223548533217543, loss=0.18021730244881812\n",
      "epoch=104, acc=0.82023784399553, loss=0.18401759383693675\n",
      "epoch=105, acc=0.8213377960843156, loss=0.1784624171086159\n",
      "epoch=106, acc=0.8204871551160463, loss=0.1794032580327179\n",
      "epoch=107, acc=0.8221573756824615, loss=0.1761525301312424\n",
      "epoch=108, acc=0.8171479038826929, loss=0.17781537601920067\n",
      "epoch=109, acc=0.822886256766747, loss=0.175963901206242\n",
      "epoch=110, acc=0.8202264214468438, loss=0.18142381792305748\n",
      "epoch=111, acc=0.8182623032722506, loss=0.18331586891926924\n",
      "epoch=112, acc=0.8164605623978838, loss=0.178365837044609\n",
      "epoch=113, acc=0.817458008194451, loss=0.17814520875242074\n",
      "epoch=114, acc=0.8187679806272559, loss=0.1832231386104568\n",
      "epoch=115, acc=0.8183397522536028, loss=0.17603989022889455\n",
      "epoch=116, acc=0.8167564789704758, loss=0.17558019614090645\n",
      "epoch=117, acc=0.8227397792817942, loss=0.18127909527996683\n",
      "epoch=118, acc=0.822597156968421, loss=0.1816034614359188\n",
      "epoch=119, acc=0.8203558918154612, loss=0.18267302595781731\n"
     ]
    },
    {
     "data": {
      "text/html": [
       "Waiting for W&B process to finish... <strong style=\"color:green\">(success).</strong>"
      ],
      "text/plain": [
       "<IPython.core.display.HTML object>"
      ]
     },
     "metadata": {},
     "output_type": "display_data"
    },
    {
     "data": {
      "text/html": [
       "<style>\n",
       "    table.wandb td:nth-child(1) { padding: 0 10px; text-align: left ; width: auto;} td:nth-child(2) {text-align: left ; width: 100%}\n",
       "    .wandb-row { display: flex; flex-direction: row; flex-wrap: wrap; justify-content: flex-start; width: 100% }\n",
       "    .wandb-col { display: flex; flex-direction: column; flex-basis: 100%; flex: 1; padding: 10px; }\n",
       "    </style>\n",
       "<div class=\"wandb-row\"><div class=\"wandb-col\"><h3>Run history:</h3><br/><table class=\"wandb\"><tr><td>acc</td><td>▁▇▇▆▇▇▇▇▇███████████████████████████████</td></tr><tr><td>loss</td><td>█▃▂▃▂▂▁▂▁▁▂▂▂▂▁▁▁▁▁▁▁▁▁▁▁▁▁▁▁▁▁▁▁▁▁▁▁▁▁▁</td></tr></table><br/></div><div class=\"wandb-col\"><h3>Run summary:</h3><br/><table class=\"wandb\"><tr><td>acc</td><td>0.82036</td></tr><tr><td>loss</td><td>0.18267</td></tr></table><br/></div></div>"
      ],
      "text/plain": [
       "<IPython.core.display.HTML object>"
      ]
     },
     "metadata": {},
     "output_type": "display_data"
    },
    {
     "data": {
      "text/html": [
       "Synced <strong style=\"color:#cdcd00\">valiant-star-10</strong>: <a href=\"https://wandb.ai/susbrock/example/runs/row6fwht\" target=\"_blank\">https://wandb.ai/susbrock/example/runs/row6fwht</a><br/>Synced 7 W&B file(s), 0 media file(s), 0 artifact file(s) and 1 other file(s)"
      ],
      "text/plain": [
       "<IPython.core.display.HTML object>"
      ]
     },
     "metadata": {},
     "output_type": "display_data"
    },
    {
     "data": {
      "text/html": [
       "Find logs at: <code>.\\wandb\\run-20221016_084850-row6fwht\\logs</code>"
      ],
      "text/plain": [
       "<IPython.core.display.HTML object>"
      ]
     },
     "metadata": {},
     "output_type": "display_data"
    },
    {
     "name": "stdout",
     "output_type": "stream",
     "text": [
      "Training for 140 epochs with learning rate 0.1\n"
     ]
    },
    {
     "data": {
      "text/html": [
       "Changes to your `wandb` environment variables will be ignored because your `wandb` session has already started. For more information on how to modify your settings with `wandb.init()` arguments, please refer to <a href=\"https://wandb.me/wandb-init\" target=\"_blank\">the W&B docs</a>."
      ],
      "text/plain": [
       "<IPython.core.display.HTML object>"
      ]
     },
     "metadata": {},
     "output_type": "display_data"
    },
    {
     "data": {
      "application/vnd.jupyter.widget-view+json": {
       "model_id": "c5fd4815f2a24d79b761b2e9d90e500b",
       "version_major": 2,
       "version_minor": 0
      },
      "text/plain": [
       "VBox(children=(Label(value='Waiting for wandb.init()...\\r'), FloatProgress(value=0.016916666666899498, max=1.0…"
      ]
     },
     "metadata": {},
     "output_type": "display_data"
    },
    {
     "data": {
      "text/html": [
       "Tracking run with wandb version 0.13.4"
      ],
      "text/plain": [
       "<IPython.core.display.HTML object>"
      ]
     },
     "metadata": {},
     "output_type": "display_data"
    },
    {
     "data": {
      "text/html": [
       "Run data is saved locally in <code>i:\\tinyml\\tiny_cnn\\wandb\\run-20221016_084911-3euwg7jp</code>"
      ],
      "text/plain": [
       "<IPython.core.display.HTML object>"
      ]
     },
     "metadata": {},
     "output_type": "display_data"
    },
    {
     "data": {
      "text/html": [
       "Syncing run <strong><a href=\"https://wandb.ai/susbrock/example/runs/3euwg7jp\" target=\"_blank\">worldly-lion-11</a></strong> to <a href=\"https://wandb.ai/susbrock/example\" target=\"_blank\">Weights & Biases</a> (<a href=\"https://wandb.me/run\" target=\"_blank\">docs</a>)<br/>"
      ],
      "text/plain": [
       "<IPython.core.display.HTML object>"
      ]
     },
     "metadata": {},
     "output_type": "display_data"
    },
    {
     "name": "stdout",
     "output_type": "stream",
     "text": [
      "lr: 0.1\n",
      "epoch=2, acc=0.2750391841290176, loss=0.34576869596341053\n",
      "epoch=3, acc=0.6666716881120444, loss=0.5180158747947324\n",
      "epoch=4, acc=0.6954336317609878, loss=0.24255164036198582\n",
      "epoch=5, acc=0.7448764821687025, loss=0.21256874145766022\n",
      "epoch=6, acc=0.8016951290605132, loss=0.20003955598355072\n",
      "epoch=7, acc=0.8541260046184103, loss=0.12176246540674729\n",
      "epoch=8, acc=0.7992768102983813, loss=0.1723230644084054\n",
      "epoch=9, acc=0.8202192391115255, loss=0.10398890890817108\n",
      "epoch=10, acc=0.9074506559774927, loss=0.11910188751215958\n",
      "epoch=11, acc=0.8873632535373532, loss=0.10461603916929896\n",
      "epoch=12, acc=0.8920757117991372, loss=0.08970697619866763\n",
      "epoch=13, acc=0.9157065044721951, loss=0.093887738733355\n",
      "epoch=14, acc=0.8532935815930808, loss=0.1055652156273523\n",
      "epoch=15, acc=0.9006042031001231, loss=0.09183990584319668\n",
      "epoch=16, acc=0.9151228103951605, loss=0.09688377911758281\n",
      "epoch=17, acc=0.916962116646888, loss=0.08571082559884262\n",
      "epoch=18, acc=0.9066355043505829, loss=0.09197155802633543\n",
      "epoch=19, acc=0.9198010591704693, loss=0.12080679845563205\n",
      "epoch=20, acc=0.9192764217560493, loss=0.08362827231876262\n",
      "epoch=21, acc=0.9025310892307089, loss=0.08548741897164146\n",
      "epoch=22, acc=0.9151282226668037, loss=0.10010231291469104\n",
      "epoch=23, acc=0.9184160401389687, loss=0.10551090745305133\n",
      "epoch=24, acc=0.917303440709715, loss=0.10391675664014165\n",
      "epoch=25, acc=0.8969772021573198, loss=0.07854992216547162\n",
      "epoch=26, acc=0.9135500449871746, loss=0.08277962834880885\n",
      "epoch=27, acc=0.9222193701757623, loss=0.11281694406142359\n",
      "epoch=28, acc=0.914424941945473, loss=0.09199415338370712\n",
      "epoch=29, acc=0.8961078842275889, loss=0.10106265133730748\n",
      "epoch=30, acc=0.8959266100028587, loss=0.09290256511186298\n",
      "epoch=31, acc=0.903177492874163, loss=0.10713169289431543\n",
      "epoch=32, acc=0.9030406577556382, loss=0.09260707300163241\n",
      "epoch=33, acc=0.8964787207921404, loss=0.10371212904796022\n",
      "epoch=34, acc=0.9139591598273105, loss=0.10400432858554036\n",
      "epoch=35, acc=0.9081184379649425, loss=0.10138032420262308\n",
      "epoch=36, acc=0.9220729858710998, loss=0.08545296920108311\n",
      "epoch=37, acc=0.9144664299545011, loss=0.10057532484369641\n",
      "epoch=38, acc=0.9104144910355442, loss=0.09179110524446223\n",
      "epoch=39, acc=0.906852048507946, loss=0.10204520346085416\n",
      "epoch=40, acc=0.9075780359431169, loss=0.0799683856293717\n",
      "epoch=41, acc=0.9061605376318348, loss=0.0859652914070283\n",
      "epoch=42, acc=0.903336188189512, loss=0.09980406678170786\n",
      "epoch=43, acc=0.9111810268716695, loss=0.08691321538441381\n",
      "epoch=44, acc=0.9201790428859478, loss=0.09279202264832417\n",
      "epoch=45, acc=0.9232574100550365, loss=0.09290814514779883\n",
      "epoch=46, acc=0.9094568398698357, loss=0.08718952950644483\n",
      "epoch=47, acc=0.9210787788061922, loss=0.07828650967722206\n",
      "epoch=48, acc=0.9124996694155117, loss=0.08843579168198294\n",
      "epoch=49, acc=0.9165741458342987, loss=0.08064829942402674\n",
      "epoch=50, acc=0.9099013793885282, loss=0.09486492872620433\n",
      "epoch=51, acc=0.9108132478341082, loss=0.08944902694676296\n",
      "epoch=52, acc=0.9179036549969336, loss=0.0906821615667808\n",
      "epoch=53, acc=0.9159382095526536, loss=0.08688439489116505\n",
      "epoch=54, acc=0.9134073220320634, loss=0.08938530104129533\n",
      "epoch=55, acc=0.9053878513228005, loss=0.08076939800486302\n",
      "epoch=56, acc=0.9115977638659447, loss=0.08804900702270832\n",
      "epoch=57, acc=0.9118169577173555, loss=0.09177675460146552\n",
      "epoch=58, acc=0.9233330934983945, loss=0.07778639802513691\n",
      "epoch=59, acc=0.9219340448657637, loss=0.07852842873905175\n",
      "epoch=60, acc=0.9150691456715495, loss=0.08051907112271606\n",
      "epoch=61, acc=0.9212514527019693, loss=0.08808382626748887\n",
      "epoch=62, acc=0.9160170105747325, loss=0.08307445418901022\n",
      "epoch=63, acc=0.9086410716528701, loss=0.07825036315865447\n",
      "epoch=64, acc=0.9225778459527052, loss=0.08521840212258684\n",
      "epoch=65, acc=0.9099529799319082, loss=0.08032937898283232\n",
      "epoch=66, acc=0.9182957267787389, loss=0.08219443810129039\n",
      "epoch=67, acc=0.9200480354531799, loss=0.08450920802422274\n",
      "epoch=68, acc=0.9217463626880106, loss=0.09078727701935824\n",
      "epoch=69, acc=0.9184451256853429, loss=0.08523239756362906\n",
      "epoch=70, acc=0.9226546825852805, loss=0.0868998142906274\n",
      "epoch=71, acc=0.9187101602389459, loss=0.08412398328079432\n",
      "epoch=72, acc=0.9107819623464307, loss=0.08615313160106183\n",
      "epoch=73, acc=0.9208830022084119, loss=0.08049710504679042\n",
      "epoch=74, acc=0.9214570314819381, loss=0.08313405413628731\n",
      "epoch=75, acc=0.9193461166352181, loss=0.08196490059191056\n",
      "epoch=76, acc=0.9197756283868752, loss=0.08133739397017628\n",
      "epoch=77, acc=0.9124381001603956, loss=0.0872454882144773\n",
      "epoch=78, acc=0.9230416025042247, loss=0.08793419389443831\n",
      "epoch=79, acc=0.9179240626799505, loss=0.08502524606808726\n",
      "epoch=80, acc=0.9114324078659674, loss=0.07798858487793167\n",
      "epoch=81, acc=0.9111188600178792, loss=0.08444080048388873\n",
      "epoch=82, acc=0.9175438154932978, loss=0.08282400401304944\n",
      "epoch=83, acc=0.9223743792381374, loss=0.08419332386809573\n",
      "epoch=84, acc=0.9126533679795332, loss=0.08717148212415059\n",
      "epoch=85, acc=0.912637021785544, loss=0.08433489179743929\n",
      "epoch=86, acc=0.9208176701041625, loss=0.08408741770226216\n",
      "epoch=87, acc=0.921551964342256, loss=0.08360076002087936\n",
      "epoch=88, acc=0.9148834181842058, loss=0.08611165911040174\n",
      "epoch=89, acc=0.9129728412667877, loss=0.08433387092168426\n",
      "epoch=90, acc=0.9148310409816937, loss=0.08710925606386048\n",
      "epoch=91, acc=0.9186506595859552, loss=0.08605075475371385\n",
      "epoch=92, acc=0.9227785888820357, loss=0.0835593555488948\n",
      "epoch=93, acc=0.9140402836707493, loss=0.07734371575842391\n",
      "epoch=94, acc=0.9198090802515879, loss=0.0804454131766162\n",
      "epoch=95, acc=0.9164526995714419, loss=0.08105756858817288\n",
      "epoch=96, acc=0.9147810095184777, loss=0.07928676448463472\n",
      "epoch=97, acc=0.9180141146990536, loss=0.07738618094068742\n",
      "epoch=98, acc=0.9185045201032785, loss=0.0809268111452083\n",
      "epoch=99, acc=0.9191041594487399, loss=0.08497406713101499\n",
      "epoch=100, acc=0.9224697162126857, loss=0.07934061878473787\n",
      "epoch=101, acc=0.9223991091776476, loss=0.0775062812954064\n",
      "epoch=102, acc=0.9182984159129451, loss=0.08159786525771943\n",
      "epoch=103, acc=0.9191010201873353, loss=0.08398092653758814\n",
      "epoch=104, acc=0.9216971945945147, loss=0.08622500143299511\n",
      "epoch=105, acc=0.9165870073332766, loss=0.08524002744725208\n",
      "epoch=106, acc=0.9170772343786335, loss=0.08131348046770594\n",
      "epoch=107, acc=0.9177125980989093, loss=0.08009144484329633\n",
      "epoch=108, acc=0.9180031373175698, loss=0.07676828819633723\n",
      "epoch=109, acc=0.9155920452314701, loss=0.08465206013993691\n",
      "epoch=110, acc=0.9194952233172637, loss=0.08077360513931998\n",
      "epoch=111, acc=0.9175965259902528, loss=0.08553096462288114\n",
      "epoch=112, acc=0.9170673306082069, loss=0.08447726864635788\n",
      "epoch=113, acc=0.9188044599047765, loss=0.07682322992164196\n",
      "epoch=114, acc=0.9222564617759054, loss=0.08065309036219412\n",
      "epoch=115, acc=0.9150186938742032, loss=0.07959731961317461\n",
      "epoch=116, acc=0.9176252421448873, loss=0.0770672783193143\n",
      "epoch=117, acc=0.9175470553250763, loss=0.07697598847192275\n",
      "epoch=118, acc=0.9157850393137733, loss=0.08394689000009231\n",
      "epoch=119, acc=0.9226687887977351, loss=0.07768162087202729\n",
      "epoch=120, acc=0.9199456839350927, loss=0.08122431896578501\n",
      "epoch=121, acc=0.922676582761733, loss=0.08074588587660111\n",
      "epoch=122, acc=0.9226829454000964, loss=0.08076617640734113\n",
      "epoch=123, acc=0.9191119099332781, loss=0.07811373164492161\n",
      "epoch=124, acc=0.91880007440963, loss=0.08269497701833764\n",
      "epoch=125, acc=0.9232115915088047, loss=0.08163906844839275\n",
      "epoch=126, acc=0.9204320273187465, loss=0.07794732007294301\n",
      "epoch=127, acc=0.9204449582297026, loss=0.08336581032935778\n",
      "epoch=128, acc=0.9214813082354879, loss=0.08194151471439173\n",
      "epoch=129, acc=0.9160040549548325, loss=0.08302491475126192\n",
      "epoch=130, acc=0.9196616754968183, loss=0.08417014605664845\n",
      "epoch=131, acc=0.920167921370096, loss=0.07701036089912386\n",
      "epoch=132, acc=0.9216634079149372, loss=0.08317612151023786\n",
      "epoch=133, acc=0.9199795145678322, loss=0.07823679863952361\n",
      "epoch=134, acc=0.9229128491591192, loss=0.08182061350798282\n",
      "epoch=135, acc=0.922280129001969, loss=0.08212586803623118\n",
      "epoch=136, acc=0.9190269568205571, loss=0.07937850988465214\n",
      "epoch=137, acc=0.9210537689727921, loss=0.08172757420111179\n",
      "epoch=138, acc=0.9227121987800588, loss=0.07768146441136208\n",
      "epoch=139, acc=0.9210813129510604, loss=0.07995917589019433\n"
     ]
    },
    {
     "data": {
      "text/html": [
       "Waiting for W&B process to finish... <strong style=\"color:green\">(success).</strong>"
      ],
      "text/plain": [
       "<IPython.core.display.HTML object>"
      ]
     },
     "metadata": {},
     "output_type": "display_data"
    },
    {
     "data": {
      "text/html": [
       "<style>\n",
       "    table.wandb td:nth-child(1) { padding: 0 10px; text-align: left ; width: auto;} td:nth-child(2) {text-align: left ; width: 100%}\n",
       "    .wandb-row { display: flex; flex-direction: row; flex-wrap: wrap; justify-content: flex-start; width: 100% }\n",
       "    .wandb-col { display: flex; flex-direction: column; flex-basis: 100%; flex: 1; padding: 10px; }\n",
       "    </style>\n",
       "<div class=\"wandb-row\"><div class=\"wandb-col\"><h3>Run history:</h3><br/><table class=\"wandb\"><tr><td>acc</td><td>▁▃▅█▇███▇▇██████████████████████████████</td></tr><tr><td>loss</td><td>█▃▁▁▁▂▁▂▁▁▁▁▁▁▁▁▁▁▁▁▁▁▁▁▁▁▁▁▁▁▁▁▁▁▁▁▁▁▁▁</td></tr></table><br/></div><div class=\"wandb-col\"><h3>Run summary:</h3><br/><table class=\"wandb\"><tr><td>acc</td><td>0.92108</td></tr><tr><td>loss</td><td>0.07996</td></tr></table><br/></div></div>"
      ],
      "text/plain": [
       "<IPython.core.display.HTML object>"
      ]
     },
     "metadata": {},
     "output_type": "display_data"
    },
    {
     "data": {
      "text/html": [
       "Synced <strong style=\"color:#cdcd00\">worldly-lion-11</strong>: <a href=\"https://wandb.ai/susbrock/example/runs/3euwg7jp\" target=\"_blank\">https://wandb.ai/susbrock/example/runs/3euwg7jp</a><br/>Synced 7 W&B file(s), 0 media file(s), 0 artifact file(s) and 1 other file(s)"
      ],
      "text/plain": [
       "<IPython.core.display.HTML object>"
      ]
     },
     "metadata": {},
     "output_type": "display_data"
    },
    {
     "data": {
      "text/html": [
       "Find logs at: <code>.\\wandb\\run-20221016_084911-3euwg7jp\\logs</code>"
      ],
      "text/plain": [
       "<IPython.core.display.HTML object>"
      ]
     },
     "metadata": {},
     "output_type": "display_data"
    },
    {
     "name": "stdout",
     "output_type": "stream",
     "text": [
      "Training for 140 epochs with learning rate 0.01\n"
     ]
    },
    {
     "data": {
      "text/html": [
       "Changes to your `wandb` environment variables will be ignored because your `wandb` session has already started. For more information on how to modify your settings with `wandb.init()` arguments, please refer to <a href=\"https://wandb.me/wandb-init\" target=\"_blank\">the W&B docs</a>."
      ],
      "text/plain": [
       "<IPython.core.display.HTML object>"
      ]
     },
     "metadata": {},
     "output_type": "display_data"
    },
    {
     "data": {
      "application/vnd.jupyter.widget-view+json": {
       "model_id": "ba2f705583764fd8a059f152d87136d4",
       "version_major": 2,
       "version_minor": 0
      },
      "text/plain": [
       "VBox(children=(Label(value='Waiting for wandb.init()...\\r'), FloatProgress(value=0.016666666666666666, max=1.0…"
      ]
     },
     "metadata": {},
     "output_type": "display_data"
    },
    {
     "data": {
      "text/html": [
       "Tracking run with wandb version 0.13.4"
      ],
      "text/plain": [
       "<IPython.core.display.HTML object>"
      ]
     },
     "metadata": {},
     "output_type": "display_data"
    },
    {
     "data": {
      "text/html": [
       "Run data is saved locally in <code>i:\\tinyml\\tiny_cnn\\wandb\\run-20221016_084933-12o86cpx</code>"
      ],
      "text/plain": [
       "<IPython.core.display.HTML object>"
      ]
     },
     "metadata": {},
     "output_type": "display_data"
    },
    {
     "data": {
      "text/html": [
       "Syncing run <strong><a href=\"https://wandb.ai/susbrock/example/runs/12o86cpx\" target=\"_blank\">genial-sponge-12</a></strong> to <a href=\"https://wandb.ai/susbrock/example\" target=\"_blank\">Weights & Biases</a> (<a href=\"https://wandb.me/run\" target=\"_blank\">docs</a>)<br/>"
      ],
      "text/plain": [
       "<IPython.core.display.HTML object>"
      ]
     },
     "metadata": {},
     "output_type": "display_data"
    },
    {
     "name": "stdout",
     "output_type": "stream",
     "text": [
      "lr: 0.01\n",
      "epoch=2, acc=0.6786245090272841, loss=0.41313003151843514\n",
      "epoch=3, acc=0.5818403283982382, loss=0.18154188209705818\n",
      "epoch=4, acc=0.6989754056117002, loss=0.1447271030359964\n",
      "epoch=5, acc=0.8737295722198999, loss=0.2488901888865153\n",
      "epoch=6, acc=0.8315199175244283, loss=0.06263292493260575\n",
      "epoch=7, acc=0.9169682600265994, loss=0.09970228333767944\n",
      "epoch=8, acc=0.8439519677999154, loss=0.1654293040508345\n",
      "epoch=9, acc=0.8967426519730524, loss=0.04442828642215785\n",
      "epoch=10, acc=0.8662984392075955, loss=0.07656096479358523\n",
      "epoch=11, acc=0.8990636486206749, loss=0.07726698503617453\n",
      "epoch=12, acc=0.932154513500058, loss=0.06782096091726214\n",
      "epoch=13, acc=0.9085663308186108, loss=0.11266714843435408\n",
      "epoch=14, acc=0.9069738276634741, loss=0.08352543315179851\n",
      "epoch=15, acc=0.9565042978772612, loss=0.06297916806019163\n",
      "epoch=16, acc=0.937205221816895, loss=0.055979715639151766\n",
      "epoch=17, acc=0.9135159147413704, loss=0.08455781416379873\n",
      "epoch=18, acc=0.9545017127975557, loss=0.05832537631300473\n",
      "epoch=19, acc=0.924862179203536, loss=0.04521837402326962\n",
      "epoch=20, acc=0.9096760656570876, loss=0.050245469081894346\n",
      "epoch=21, acc=0.9421627675798431, loss=0.06864675409362135\n",
      "epoch=22, acc=0.9485545154131332, loss=0.056932113585609824\n",
      "epoch=23, acc=0.9194208217300508, loss=0.04129662288676947\n",
      "epoch=24, acc=0.937905016704887, loss=0.0674237756553408\n",
      "epoch=25, acc=0.9355611974319497, loss=0.06775198398491283\n",
      "epoch=26, acc=0.9489873968744538, loss=0.04533513519331307\n",
      "epoch=27, acc=0.9394132680641207, loss=0.05152761333895174\n",
      "epoch=28, acc=0.9415663141948927, loss=0.06445321490769695\n",
      "epoch=29, acc=0.9382613882155577, loss=0.052781723299497596\n",
      "epoch=30, acc=0.9382908029198659, loss=0.07134937532120819\n",
      "epoch=31, acc=0.9433598892099825, loss=0.06704395247594039\n",
      "epoch=32, acc=0.9311605427922972, loss=0.06003435584960949\n",
      "epoch=33, acc=0.9386097796927038, loss=0.05568937643949476\n",
      "epoch=34, acc=0.9496008355372507, loss=0.06727187678052837\n",
      "epoch=35, acc=0.9570262152107041, loss=0.042673658014524406\n",
      "epoch=36, acc=0.9358413406402825, loss=0.06769382411755953\n",
      "epoch=37, acc=0.9426508151009999, loss=0.06269120016614206\n",
      "epoch=38, acc=0.9433670384666833, loss=0.0669703032097626\n",
      "epoch=39, acc=0.9553366966320501, loss=0.059796515437086306\n",
      "epoch=40, acc=0.9559421767593362, loss=0.04265989312143088\n",
      "epoch=41, acc=0.9564814650626446, loss=0.06422680959852943\n",
      "epoch=42, acc=0.9488113850331903, loss=0.06268183996309357\n",
      "epoch=43, acc=0.9475279470806319, loss=0.06265920285820926\n",
      "epoch=44, acc=0.956982857584246, loss=0.042670514710729794\n",
      "epoch=45, acc=0.9453327171748729, loss=0.04175383215208859\n",
      "epoch=46, acc=0.9484670516805646, loss=0.05117763638349121\n",
      "epoch=47, acc=0.9558202350452404, loss=0.057695233561557244\n",
      "epoch=48, acc=0.9523787026124948, loss=0.045744846615092406\n",
      "epoch=49, acc=0.9529410401053036, loss=0.053344503167408124\n",
      "epoch=50, acc=0.9391042807662761, loss=0.04583678948029297\n",
      "epoch=51, acc=0.9575694793460945, loss=0.058799776452710534\n",
      "epoch=52, acc=0.9565658233922943, loss=0.05444685705871921\n",
      "epoch=53, acc=0.9471867324381914, loss=0.05933884911906352\n",
      "epoch=54, acc=0.9457168428003748, loss=0.04677025930365617\n",
      "epoch=55, acc=0.9418689289239355, loss=0.04363028185609914\n",
      "epoch=56, acc=0.9554012421298311, loss=0.0439858216112923\n",
      "epoch=57, acc=0.953481733321439, loss=0.051149822349339964\n",
      "epoch=58, acc=0.9566742215091133, loss=0.0464217815796387\n",
      "epoch=59, acc=0.9583416227179433, loss=0.05264212443098451\n",
      "epoch=60, acc=0.9535992685526604, loss=0.05164989415922367\n",
      "epoch=61, acc=0.9436725629481982, loss=0.04934002674698931\n",
      "epoch=62, acc=0.9558382705762876, loss=0.04644461892886432\n",
      "epoch=63, acc=0.948510915083941, loss=0.04943790525769984\n",
      "epoch=64, acc=0.9510699250106713, loss=0.04960120972975018\n",
      "epoch=65, acc=0.9519974667688367, loss=0.04870372220298471\n",
      "epoch=66, acc=0.9459289352370911, loss=0.046256323250778865\n",
      "epoch=67, acc=0.944648257238236, loss=0.05201146415244819\n",
      "epoch=68, acc=0.9455179577645856, loss=0.04991837470102742\n",
      "epoch=69, acc=0.9556924272844731, loss=0.04931238037717327\n",
      "epoch=70, acc=0.9531522352654117, loss=0.04168003501938285\n",
      "epoch=71, acc=0.9579687603850231, loss=0.053312041739110735\n",
      "epoch=72, acc=0.957978449598594, loss=0.04838186842589322\n",
      "epoch=73, acc=0.9571181631935767, loss=0.054704370501544586\n",
      "epoch=74, acc=0.9519726977902448, loss=0.04666745328452841\n",
      "epoch=75, acc=0.9531514933267288, loss=0.05086838249583894\n",
      "epoch=76, acc=0.956777442696359, loss=0.053050944971139595\n",
      "epoch=77, acc=0.9578164493425062, loss=0.04479358130136929\n",
      "epoch=78, acc=0.9539779018005901, loss=0.05203427951065401\n",
      "epoch=79, acc=0.955682132886829, loss=0.04939723296234772\n",
      "epoch=80, acc=0.9462989492659463, loss=0.05275853879192627\n",
      "epoch=81, acc=0.948808069723312, loss=0.048403297815212354\n",
      "epoch=82, acc=0.9544145618423437, loss=0.05039263407690012\n",
      "epoch=83, acc=0.9546582891391794, loss=0.04917022055776264\n",
      "epoch=84, acc=0.9565173090468632, loss=0.0531087912697296\n",
      "epoch=85, acc=0.9538292694418922, loss=0.05048925665236673\n",
      "epoch=86, acc=0.9502994862458841, loss=0.04514007236070162\n",
      "epoch=87, acc=0.9577193030763635, loss=0.05228115235676797\n",
      "epoch=88, acc=0.9512159635124148, loss=0.051197532315125915\n",
      "epoch=89, acc=0.9564726216728071, loss=0.0439195815554331\n",
      "epoch=90, acc=0.9508864358181174, loss=0.044100731894297335\n",
      "epoch=91, acc=0.9530935318461948, loss=0.04186452798734853\n",
      "epoch=92, acc=0.9493447717126845, loss=0.05031596204262408\n",
      "epoch=93, acc=0.9585593578452808, loss=0.044423374336452895\n",
      "epoch=94, acc=0.9563575521532028, loss=0.051268948584690735\n",
      "epoch=95, acc=0.9512674330291524, loss=0.04188654686269517\n",
      "epoch=96, acc=0.9584754928840428, loss=0.051223121132155276\n",
      "epoch=97, acc=0.9578526747206133, loss=0.04973205412536337\n",
      "epoch=98, acc=0.9565986200455981, loss=0.047227132155960624\n",
      "epoch=99, acc=0.9571195413106502, loss=0.048409098784750915\n",
      "epoch=100, acc=0.9556270885985171, loss=0.04416541988462666\n",
      "epoch=101, acc=0.956995799835586, loss=0.04644809859765495\n",
      "epoch=102, acc=0.9530623537446117, loss=0.04569878214528855\n",
      "epoch=103, acc=0.9508048705688119, loss=0.04359997128339816\n",
      "epoch=104, acc=0.9526396644392516, loss=0.04399015326584584\n",
      "epoch=105, acc=0.9572411393250805, loss=0.044810864784591946\n",
      "epoch=106, acc=0.9549765150155859, loss=0.0429973199851684\n",
      "epoch=107, acc=0.952958692215969, loss=0.047796361534811906\n",
      "epoch=108, acc=0.9535128507324606, loss=0.043347893797255926\n",
      "epoch=109, acc=0.9545653240942054, loss=0.048454853362061595\n",
      "epoch=110, acc=0.9523114396266694, loss=0.04550440876104403\n",
      "epoch=111, acc=0.9558971430887715, loss=0.04299652232144243\n",
      "epoch=112, acc=0.9579213304839043, loss=0.04179260286739993\n",
      "epoch=113, acc=0.9527277082724073, loss=0.045561537150931586\n",
      "epoch=114, acc=0.9529907132449185, loss=0.04745535742080652\n",
      "epoch=115, acc=0.9573710917725086, loss=0.048800424820497755\n",
      "epoch=116, acc=0.9541760919745216, loss=0.04957272604665163\n",
      "epoch=117, acc=0.9510398734416897, loss=0.04340708919201965\n",
      "epoch=118, acc=0.9511722983542169, loss=0.043347264366539164\n",
      "epoch=119, acc=0.9527107390628868, loss=0.04198845646969039\n",
      "epoch=120, acc=0.957763510682197, loss=0.04761846211932414\n",
      "epoch=121, acc=0.9558969763819255, loss=0.04728322915204699\n",
      "epoch=122, acc=0.9509868231628829, loss=0.04715684972005363\n",
      "epoch=123, acc=0.9516155690897584, loss=0.04147326337411417\n",
      "epoch=124, acc=0.953091014134172, loss=0.04336755918011559\n",
      "epoch=125, acc=0.9581468814269558, loss=0.0472923060566612\n",
      "epoch=126, acc=0.9540923019971155, loss=0.047331180359722454\n",
      "epoch=127, acc=0.9569165899063578, loss=0.047214705208996954\n",
      "epoch=128, acc=0.9559879873694783, loss=0.04227274483511605\n",
      "epoch=129, acc=0.9541014160902702, loss=0.04561943733755876\n",
      "epoch=130, acc=0.9573168995259395, loss=0.04678733974190892\n",
      "epoch=131, acc=0.956948557859323, loss=0.04855766290487271\n",
      "epoch=132, acc=0.9559187216978114, loss=0.04430010519954018\n",
      "epoch=133, acc=0.9547936796207104, loss=0.04554613379634922\n",
      "epoch=134, acc=0.9565232681239961, loss=0.047663730279309924\n",
      "epoch=135, acc=0.9586113086774748, loss=0.04334577076281822\n",
      "epoch=136, acc=0.9571026559853697, loss=0.043250121441690915\n",
      "epoch=137, acc=0.958161799814557, loss=0.04392309309872212\n",
      "epoch=138, acc=0.9544610156478479, loss=0.04603946106430304\n",
      "epoch=139, acc=0.9526309947061824, loss=0.048147135464931094\n"
     ]
    },
    {
     "data": {
      "text/html": [
       "Waiting for W&B process to finish... <strong style=\"color:green\">(success).</strong>"
      ],
      "text/plain": [
       "<IPython.core.display.HTML object>"
      ]
     },
     "metadata": {},
     "output_type": "display_data"
    },
    {
     "data": {
      "text/html": [
       "<style>\n",
       "    table.wandb td:nth-child(1) { padding: 0 10px; text-align: left ; width: auto;} td:nth-child(2) {text-align: left ; width: 100%}\n",
       "    .wandb-row { display: flex; flex-direction: row; flex-wrap: wrap; justify-content: flex-start; width: 100% }\n",
       "    .wandb-col { display: flex; flex-direction: column; flex-basis: 100%; flex: 1; padding: 10px; }\n",
       "    </style>\n",
       "<div class=\"wandb-row\"><div class=\"wandb-col\"><h3>Run history:</h3><br/><table class=\"wandb\"><tr><td>acc</td><td>▁▆▇▇█▇▇█████████████████████████████████</td></tr><tr><td>loss</td><td>▆█▁▃▂▁▁▁▁▁▂▂▂▂▂▁▁▁▁▁▁▁▁▁▁▁▁▁▁▁▁▁▁▁▁▁▁▁▁▁</td></tr></table><br/></div><div class=\"wandb-col\"><h3>Run summary:</h3><br/><table class=\"wandb\"><tr><td>acc</td><td>0.95263</td></tr><tr><td>loss</td><td>0.04815</td></tr></table><br/></div></div>"
      ],
      "text/plain": [
       "<IPython.core.display.HTML object>"
      ]
     },
     "metadata": {},
     "output_type": "display_data"
    },
    {
     "data": {
      "text/html": [
       "Synced <strong style=\"color:#cdcd00\">genial-sponge-12</strong>: <a href=\"https://wandb.ai/susbrock/example/runs/12o86cpx\" target=\"_blank\">https://wandb.ai/susbrock/example/runs/12o86cpx</a><br/>Synced 7 W&B file(s), 0 media file(s), 0 artifact file(s) and 1 other file(s)"
      ],
      "text/plain": [
       "<IPython.core.display.HTML object>"
      ]
     },
     "metadata": {},
     "output_type": "display_data"
    },
    {
     "data": {
      "text/html": [
       "Find logs at: <code>.\\wandb\\run-20221016_084933-12o86cpx\\logs</code>"
      ],
      "text/plain": [
       "<IPython.core.display.HTML object>"
      ]
     },
     "metadata": {},
     "output_type": "display_data"
    },
    {
     "name": "stdout",
     "output_type": "stream",
     "text": [
      "Training for 140 epochs with learning rate 0.001\n"
     ]
    },
    {
     "data": {
      "text/html": [
       "Changes to your `wandb` environment variables will be ignored because your `wandb` session has already started. For more information on how to modify your settings with `wandb.init()` arguments, please refer to <a href=\"https://wandb.me/wandb-init\" target=\"_blank\">the W&B docs</a>."
      ],
      "text/plain": [
       "<IPython.core.display.HTML object>"
      ]
     },
     "metadata": {},
     "output_type": "display_data"
    },
    {
     "data": {
      "application/vnd.jupyter.widget-view+json": {
       "model_id": "36a1c40d1d714645ade13b46e2aec876",
       "version_major": 2,
       "version_minor": 0
      },
      "text/plain": [
       "VBox(children=(Label(value='Waiting for wandb.init()...\\r'), FloatProgress(value=0.016933333332902596, max=1.0…"
      ]
     },
     "metadata": {},
     "output_type": "display_data"
    },
    {
     "data": {
      "text/html": [
       "Tracking run with wandb version 0.13.4"
      ],
      "text/plain": [
       "<IPython.core.display.HTML object>"
      ]
     },
     "metadata": {},
     "output_type": "display_data"
    },
    {
     "data": {
      "text/html": [
       "Run data is saved locally in <code>i:\\tinyml\\tiny_cnn\\wandb\\run-20221016_084954-1fatk9fu</code>"
      ],
      "text/plain": [
       "<IPython.core.display.HTML object>"
      ]
     },
     "metadata": {},
     "output_type": "display_data"
    },
    {
     "data": {
      "text/html": [
       "Syncing run <strong><a href=\"https://wandb.ai/susbrock/example/runs/1fatk9fu\" target=\"_blank\">smart-sponge-13</a></strong> to <a href=\"https://wandb.ai/susbrock/example\" target=\"_blank\">Weights & Biases</a> (<a href=\"https://wandb.me/run\" target=\"_blank\">docs</a>)<br/>"
      ],
      "text/plain": [
       "<IPython.core.display.HTML object>"
      ]
     },
     "metadata": {},
     "output_type": "display_data"
    },
    {
     "name": "stdout",
     "output_type": "stream",
     "text": [
      "lr: 0.001\n",
      "epoch=2, acc=0.28938460854729037, loss=0.44886805705386723\n",
      "epoch=3, acc=0.7354552547802814, loss=0.37732757982077375\n",
      "epoch=4, acc=0.8182746686145462, loss=0.29193159965786614\n",
      "epoch=5, acc=0.921011901108274, loss=0.20323057626193872\n",
      "epoch=6, acc=0.8793574266838373, loss=0.15046385331501033\n",
      "epoch=7, acc=0.9561086989099777, loss=0.07801182720204888\n",
      "epoch=8, acc=0.9412237153154888, loss=0.11587035446983167\n",
      "epoch=9, acc=0.8771294910264921, loss=0.06928205376738089\n",
      "epoch=10, acc=0.9299387322084643, loss=0.09097187041596023\n",
      "epoch=11, acc=0.9327730473108038, loss=0.06104266965248688\n",
      "epoch=12, acc=0.9740567740814317, loss=0.021010613986532728\n",
      "epoch=13, acc=0.9698100537388907, loss=0.021840935603716978\n",
      "epoch=14, acc=0.9807370033917441, loss=0.07851995571058865\n",
      "epoch=15, acc=0.9318311752615941, loss=0.026238196893773595\n",
      "epoch=16, acc=0.9382343313318273, loss=0.026656176833814087\n",
      "epoch=17, acc=0.9669034443518513, loss=0.03056537974425458\n",
      "epoch=18, acc=0.9701615435464694, loss=0.06007190333637083\n",
      "epoch=19, acc=0.9372839645740607, loss=0.06979381787310901\n",
      "epoch=20, acc=0.9470891681736233, loss=0.03159503833588084\n",
      "epoch=21, acc=0.9717094776174156, loss=0.028449490687141754\n",
      "epoch=22, acc=0.9430497655435089, loss=0.01890565540639185\n",
      "epoch=23, acc=0.9575774947104851, loss=0.03911041066623464\n",
      "epoch=24, acc=0.980297581921899, loss=0.05511105958721725\n",
      "epoch=25, acc=0.9541872917456715, loss=0.018937156601320726\n",
      "epoch=26, acc=0.9603584689989494, loss=0.02568093708502251\n",
      "epoch=27, acc=0.9465289066403335, loss=0.04349760768949379\n",
      "epoch=28, acc=0.9650445507944924, loss=0.05003116227607515\n",
      "epoch=29, acc=0.981347411405013, loss=0.02709766568630705\n",
      "epoch=30, acc=0.9722516029300191, loss=0.033255206873597114\n",
      "epoch=31, acc=0.9702344114571985, loss=0.036047443528777645\n",
      "epoch=32, acc=0.9601552395114089, loss=0.024162884291264633\n",
      "epoch=33, acc=0.9699357555404627, loss=0.03725350226840332\n",
      "epoch=34, acc=0.9729911526477727, loss=0.03488956016693296\n",
      "epoch=35, acc=0.963819074575136, loss=0.024713311085751113\n",
      "epoch=36, acc=0.963712738840938, loss=0.03891744069711583\n",
      "epoch=37, acc=0.9632884473339592, loss=0.02863035428878187\n",
      "epoch=38, acc=0.9769184849613761, loss=0.0335707598578254\n",
      "epoch=39, acc=0.9827733212665336, loss=0.024188351757936554\n",
      "epoch=40, acc=0.9755243304439517, loss=0.03420950775809285\n",
      "epoch=41, acc=0.9825656301055179, loss=0.041510861033811366\n",
      "epoch=42, acc=0.9658893697617522, loss=0.03920726544552782\n",
      "epoch=43, acc=0.9827331789245647, loss=0.031000172102743175\n",
      "epoch=44, acc=0.979925258575293, loss=0.023035928247674455\n",
      "epoch=45, acc=0.9803549631773995, loss=0.030338786536043168\n",
      "epoch=46, acc=0.9684233486970704, loss=0.022735250201187912\n",
      "epoch=47, acc=0.9804160475238816, loss=0.022520736390863508\n",
      "epoch=48, acc=0.9752914047253455, loss=0.02462501891565741\n",
      "epoch=49, acc=0.965819447523949, loss=0.03165788322288002\n",
      "epoch=50, acc=0.9637294689643092, loss=0.02655005800539432\n",
      "epoch=51, acc=0.9633706100287988, loss=0.020735916306118044\n",
      "epoch=52, acc=0.9730646975771963, loss=0.02984135646585001\n",
      "epoch=53, acc=0.9799855662828648, loss=0.030673551372341797\n",
      "epoch=54, acc=0.9719980190730939, loss=0.03123415013925027\n",
      "epoch=55, acc=0.9728663325868295, loss=0.033703016673711284\n",
      "epoch=56, acc=0.973900270990269, loss=0.02779578307261166\n",
      "epoch=57, acc=0.9695325744448298, loss=0.021302143672363036\n",
      "epoch=58, acc=0.9665097573885986, loss=0.022510748318383893\n",
      "epoch=59, acc=0.9703100434249873, loss=0.019249587041930104\n",
      "epoch=60, acc=0.9792671522013516, loss=0.028491984322634844\n",
      "epoch=61, acc=0.9677737686056591, loss=0.025976060951729628\n",
      "epoch=62, acc=0.9752781184059689, loss=0.01799325526615921\n",
      "epoch=63, acc=0.9709277882218325, loss=0.02564589124372054\n",
      "epoch=64, acc=0.9803574604032236, loss=0.020405056090450506\n",
      "epoch=65, acc=0.9715291083406496, loss=0.030421791382618427\n",
      "epoch=66, acc=0.9706174557532777, loss=0.021521325578588078\n",
      "epoch=67, acc=0.9688299034874227, loss=0.01992946610381601\n",
      "epoch=68, acc=0.9712517809967639, loss=0.03117448094681051\n",
      "epoch=69, acc=0.9689203272560378, loss=0.020474178051028892\n",
      "epoch=70, acc=0.9761874373708297, loss=0.025642234487466817\n",
      "epoch=71, acc=0.9780072322723472, loss=0.02803153175994571\n",
      "epoch=72, acc=0.9808478561864243, loss=0.029082933867727853\n",
      "epoch=73, acc=0.9742897795494915, loss=0.026430589017829846\n",
      "epoch=74, acc=0.981757425798707, loss=0.018331777027914803\n",
      "epoch=75, acc=0.973938660154331, loss=0.021880453944599518\n",
      "epoch=76, acc=0.982587220077056, loss=0.02449838415767103\n",
      "epoch=77, acc=0.9752982741552868, loss=0.01806766445400507\n",
      "epoch=78, acc=0.9751792812108512, loss=0.01938653563822041\n",
      "epoch=79, acc=0.9788429604982672, loss=0.020128024018178245\n",
      "epoch=80, acc=0.9738587567839456, loss=0.024003314079190936\n",
      "epoch=81, acc=0.9795644192626691, loss=0.0251218427890715\n",
      "epoch=82, acc=0.9737534254040042, loss=0.021595861948978768\n",
      "epoch=83, acc=0.9783459362399054, loss=0.025873810331366494\n",
      "epoch=84, acc=0.9826774275027724, loss=0.025552694424779178\n",
      "epoch=85, acc=0.9767605381697778, loss=0.02186792752970009\n",
      "epoch=86, acc=0.9711785318171291, loss=0.01729947258509486\n",
      "epoch=87, acc=0.9773385110257937, loss=0.02577221192149598\n",
      "epoch=88, acc=0.9731206799370234, loss=0.026147237764792483\n",
      "epoch=89, acc=0.9790514791579628, loss=0.026442929937708852\n",
      "epoch=90, acc=0.9723909338986736, loss=0.01909997278747748\n",
      "epoch=91, acc=0.975060444200567, loss=0.027392430138767285\n",
      "epoch=92, acc=0.9727798881510119, loss=0.0277801544427469\n",
      "epoch=93, acc=0.9728492180595113, loss=0.020400280068301288\n",
      "epoch=94, acc=0.9802613386567515, loss=0.01921739162153112\n",
      "epoch=95, acc=0.9752307968907407, loss=0.022531975329119228\n",
      "epoch=96, acc=0.9825278618921858, loss=0.02314455804370804\n",
      "epoch=97, acc=0.9820725618666086, loss=0.023807401002552107\n",
      "epoch=98, acc=0.9740365836025235, loss=0.022717818198066893\n",
      "epoch=99, acc=0.9773236044683152, loss=0.02445987752008035\n",
      "epoch=100, acc=0.9816187120357686, loss=0.02165083081572529\n",
      "epoch=101, acc=0.9824618199615158, loss=0.019905804361979668\n",
      "epoch=102, acc=0.9810966331261004, loss=0.026682880962865405\n",
      "epoch=103, acc=0.9811760534440519, loss=0.02549900697377217\n",
      "epoch=104, acc=0.9764507558143964, loss=0.023351638716879647\n",
      "epoch=105, acc=0.97562976813287, loss=0.02295776118164159\n",
      "epoch=106, acc=0.9759959038122799, loss=0.022027224861305192\n",
      "epoch=107, acc=0.9772047777631604, loss=0.01986296689865833\n",
      "epoch=108, acc=0.978306055148772, loss=0.018650876033744115\n",
      "epoch=109, acc=0.9794387074213646, loss=0.01751807959563697\n",
      "epoch=110, acc=0.9795166799210026, loss=0.024173072670318364\n",
      "epoch=111, acc=0.9775064444275866, loss=0.023548545932693767\n",
      "epoch=112, acc=0.9767867808880034, loss=0.018181874815386148\n",
      "epoch=113, acc=0.9799137911949477, loss=0.024607913275466128\n",
      "epoch=114, acc=0.9794124028792601, loss=0.017384345777192587\n",
      "epoch=115, acc=0.9805531842877988, loss=0.019818671286903976\n",
      "epoch=116, acc=0.9813533384165595, loss=0.023568546220572112\n",
      "epoch=117, acc=0.9781711867330791, loss=0.02052655291280905\n",
      "epoch=118, acc=0.981982321398558, loss=0.0191639965434256\n",
      "epoch=119, acc=0.9812646609047947, loss=0.02323369631033876\n",
      "epoch=120, acc=0.9815926999066009, loss=0.025077623115017614\n",
      "epoch=121, acc=0.982546249635066, loss=0.01916252358888901\n",
      "epoch=122, acc=0.9770993786028396, loss=0.02336904038917208\n",
      "epoch=123, acc=0.9805036127330687, loss=0.020630736682257306\n",
      "epoch=124, acc=0.97990589585029, loss=0.025044130210886955\n",
      "epoch=125, acc=0.979802437907464, loss=0.020072726429589426\n",
      "epoch=126, acc=0.9796223435967901, loss=0.021268851725279148\n",
      "epoch=127, acc=0.9772304653703938, loss=0.02065016216982761\n",
      "epoch=128, acc=0.9753126312339687, loss=0.024631408880189318\n",
      "epoch=129, acc=0.975932838240725, loss=0.0205189876771389\n",
      "epoch=130, acc=0.9770977511050354, loss=0.023244515555974104\n",
      "epoch=131, acc=0.9784118864783574, loss=0.022939061538954895\n",
      "epoch=132, acc=0.9793529597417948, loss=0.018616450913448542\n",
      "epoch=133, acc=0.9797999041196127, loss=0.0224497116613007\n",
      "epoch=134, acc=0.9798629908345057, loss=0.022223945768918528\n",
      "epoch=135, acc=0.9775037888402062, loss=0.022587525114281106\n",
      "epoch=136, acc=0.9779396820941408, loss=0.02424270430542971\n",
      "epoch=137, acc=0.977636548020897, loss=0.017726848794548174\n",
      "epoch=138, acc=0.9787106540856136, loss=0.02442731957526295\n",
      "epoch=139, acc=0.9772475353752774, loss=0.02112231329828286\n"
     ]
    },
    {
     "data": {
      "text/html": [
       "Waiting for W&B process to finish... <strong style=\"color:green\">(success).</strong>"
      ],
      "text/plain": [
       "<IPython.core.display.HTML object>"
      ]
     },
     "metadata": {},
     "output_type": "display_data"
    },
    {
     "data": {
      "text/html": [
       "<style>\n",
       "    table.wandb td:nth-child(1) { padding: 0 10px; text-align: left ; width: auto;} td:nth-child(2) {text-align: left ; width: 100%}\n",
       "    .wandb-row { display: flex; flex-direction: row; flex-wrap: wrap; justify-content: flex-start; width: 100% }\n",
       "    .wandb-col { display: flex; flex-direction: column; flex-basis: 100%; flex: 1; padding: 10px; }\n",
       "    </style>\n",
       "<div class=\"wandb-row\"><div class=\"wandb-col\"><h3>Run history:</h3><br/><table class=\"wandb\"><tr><td>acc</td><td>▁▆▅█▇▇▇▇██▇███▇█████████████████████████</td></tr><tr><td>loss</td><td>█▅▂▁▁▂▁▁▁▁▁▁▁▁▁▁▁▁▁▁▁▁▁▁▁▁▁▁▁▁▁▁▁▁▁▁▁▁▁▁</td></tr></table><br/></div><div class=\"wandb-col\"><h3>Run summary:</h3><br/><table class=\"wandb\"><tr><td>acc</td><td>0.97725</td></tr><tr><td>loss</td><td>0.02112</td></tr></table><br/></div></div>"
      ],
      "text/plain": [
       "<IPython.core.display.HTML object>"
      ]
     },
     "metadata": {},
     "output_type": "display_data"
    },
    {
     "data": {
      "text/html": [
       "Synced <strong style=\"color:#cdcd00\">smart-sponge-13</strong>: <a href=\"https://wandb.ai/susbrock/example/runs/1fatk9fu\" target=\"_blank\">https://wandb.ai/susbrock/example/runs/1fatk9fu</a><br/>Synced 7 W&B file(s), 0 media file(s), 0 artifact file(s) and 1 other file(s)"
      ],
      "text/plain": [
       "<IPython.core.display.HTML object>"
      ]
     },
     "metadata": {},
     "output_type": "display_data"
    },
    {
     "data": {
      "text/html": [
       "Find logs at: <code>.\\wandb\\run-20221016_084954-1fatk9fu\\logs</code>"
      ],
      "text/plain": [
       "<IPython.core.display.HTML object>"
      ]
     },
     "metadata": {},
     "output_type": "display_data"
    },
    {
     "name": "stdout",
     "output_type": "stream",
     "text": [
      "Training for 140 epochs with learning rate 0.0001\n"
     ]
    },
    {
     "data": {
      "text/html": [
       "Changes to your `wandb` environment variables will be ignored because your `wandb` session has already started. For more information on how to modify your settings with `wandb.init()` arguments, please refer to <a href=\"https://wandb.me/wandb-init\" target=\"_blank\">the W&B docs</a>."
      ],
      "text/plain": [
       "<IPython.core.display.HTML object>"
      ]
     },
     "metadata": {},
     "output_type": "display_data"
    },
    {
     "data": {
      "application/vnd.jupyter.widget-view+json": {
       "model_id": "4bfb005965cc43a3aec171d47c2b5ba0",
       "version_major": 2,
       "version_minor": 0
      },
      "text/plain": [
       "VBox(children=(Label(value='Waiting for wandb.init()...\\r'), FloatProgress(value=0.016933333332902596, max=1.0…"
      ]
     },
     "metadata": {},
     "output_type": "display_data"
    },
    {
     "data": {
      "text/html": [
       "Tracking run with wandb version 0.13.4"
      ],
      "text/plain": [
       "<IPython.core.display.HTML object>"
      ]
     },
     "metadata": {},
     "output_type": "display_data"
    },
    {
     "data": {
      "text/html": [
       "Run data is saved locally in <code>i:\\tinyml\\tiny_cnn\\wandb\\run-20221016_085018-2vbwepgw</code>"
      ],
      "text/plain": [
       "<IPython.core.display.HTML object>"
      ]
     },
     "metadata": {},
     "output_type": "display_data"
    },
    {
     "data": {
      "text/html": [
       "Syncing run <strong><a href=\"https://wandb.ai/susbrock/example/runs/2vbwepgw\" target=\"_blank\">driven-deluge-14</a></strong> to <a href=\"https://wandb.ai/susbrock/example\" target=\"_blank\">Weights & Biases</a> (<a href=\"https://wandb.me/run\" target=\"_blank\">docs</a>)<br/>"
      ],
      "text/plain": [
       "<IPython.core.display.HTML object>"
      ]
     },
     "metadata": {},
     "output_type": "display_data"
    },
    {
     "name": "stdout",
     "output_type": "stream",
     "text": [
      "lr: 0.0001\n",
      "epoch=2, acc=0.18357633028736153, loss=0.6586663198538287\n",
      "epoch=3, acc=0.49256123192114637, loss=0.5735444214888641\n",
      "epoch=4, acc=0.7202133129709583, loss=0.31401781583024824\n",
      "epoch=5, acc=0.7668549417315831, loss=0.2491586578531868\n",
      "epoch=6, acc=0.8232129491956386, loss=0.207909622275774\n",
      "epoch=7, acc=0.7993729153478095, loss=0.2713993996607026\n",
      "epoch=8, acc=0.7851404040594507, loss=0.19814035733124974\n",
      "epoch=9, acc=0.7911624848660299, loss=0.24094754450373218\n",
      "epoch=10, acc=0.8483035731205382, loss=0.15124632617492453\n",
      "epoch=11, acc=0.8337180273877249, loss=0.19795850968607978\n",
      "epoch=12, acc=0.8009205424349133, loss=0.1479611882852023\n",
      "epoch=13, acc=0.8243392898809849, loss=0.1583758122698895\n",
      "epoch=14, acc=0.8094129577464102, loss=0.14904193247462152\n",
      "epoch=15, acc=0.7972956449856028, loss=0.16052079265257607\n",
      "epoch=16, acc=0.8507626792257523, loss=0.18599703243337892\n",
      "epoch=17, acc=0.8618162751003089, loss=0.1866355702311686\n",
      "epoch=18, acc=0.842344400961329, loss=0.16660512081310017\n",
      "epoch=19, acc=0.8454898025882598, loss=0.15945028228166563\n",
      "epoch=20, acc=0.8210846202928246, loss=0.13749648539759562\n",
      "epoch=21, acc=0.8588963491112822, loss=0.14584240876098387\n",
      "epoch=22, acc=0.856243530282492, loss=0.17335662170617433\n",
      "epoch=23, acc=0.857441777199329, loss=0.16664331713069758\n",
      "epoch=24, acc=0.8210582930430557, loss=0.1491847645033479\n",
      "epoch=25, acc=0.856956087467716, loss=0.1652268020865957\n",
      "epoch=26, acc=0.8263686743597023, loss=0.1444694557912918\n",
      "epoch=27, acc=0.8360838664304606, loss=0.14672703011149368\n",
      "epoch=28, acc=0.847154954893347, loss=0.16415093102251774\n",
      "epoch=29, acc=0.8283265950548695, loss=0.17012215926966862\n",
      "epoch=30, acc=0.8420906822022616, loss=0.1535275045376045\n",
      "epoch=31, acc=0.8618355535932913, loss=0.13894377247640538\n",
      "epoch=32, acc=0.8431256647852603, loss=0.15083809370063994\n",
      "epoch=33, acc=0.8406749963958438, loss=0.14265617115723733\n",
      "epoch=34, acc=0.8365503046703902, loss=0.14727542844064825\n",
      "epoch=35, acc=0.8444428082563846, loss=0.14375557777784095\n",
      "epoch=36, acc=0.8509766496587781, loss=0.14795755879773062\n",
      "epoch=37, acc=0.8557374818459096, loss=0.15718521470963787\n",
      "epoch=38, acc=0.8479734596243103, loss=0.14355551896215793\n",
      "epoch=39, acc=0.8394283890123275, loss=0.15477974308813128\n",
      "epoch=40, acc=0.8430918573527426, loss=0.13841652055514617\n",
      "epoch=41, acc=0.8616340516465126, loss=0.13967393469237552\n",
      "epoch=42, acc=0.8451046881431095, loss=0.1489304402328922\n",
      "epoch=43, acc=0.8458414754949659, loss=0.15970145480806\n",
      "epoch=44, acc=0.8404073978182209, loss=0.13756218312233356\n",
      "epoch=45, acc=0.856170257866038, loss=0.14065408884322514\n",
      "epoch=46, acc=0.8424205831568703, loss=0.15676119908933966\n",
      "epoch=47, acc=0.8469582602779109, loss=0.14202935767406172\n",
      "epoch=48, acc=0.8529379841589761, loss=0.15245032166107314\n",
      "epoch=49, acc=0.8507029610812973, loss=0.14473693382479635\n",
      "epoch=50, acc=0.8558932051837209, loss=0.14741089045454617\n",
      "epoch=51, acc=0.8603459513538134, loss=0.14362846081596536\n",
      "epoch=52, acc=0.8442331903608258, loss=0.15178414318831818\n",
      "epoch=53, acc=0.8443350438490067, loss=0.14487869795756395\n",
      "epoch=54, acc=0.8485486735829078, loss=0.15315087686017043\n",
      "epoch=55, acc=0.8506957904139723, loss=0.13820051820095058\n",
      "epoch=56, acc=0.8602501607473938, loss=0.1449052092870447\n",
      "epoch=57, acc=0.8534192942771843, loss=0.14451771648975958\n",
      "epoch=58, acc=0.8605692699464507, loss=0.14963619554994467\n",
      "epoch=59, acc=0.8600364594590215, loss=0.15252658478753067\n",
      "epoch=60, acc=0.8611375448510612, loss=0.14083898808037956\n",
      "epoch=61, acc=0.8574288232178848, loss=0.15327273152139484\n",
      "epoch=62, acc=0.8507305706303909, loss=0.1433763987204511\n",
      "epoch=63, acc=0.848992939973735, loss=0.15016092476285026\n",
      "epoch=64, acc=0.849870121801104, loss=0.14045807031227892\n",
      "epoch=65, acc=0.8610860469844135, loss=0.14363736413784206\n",
      "epoch=66, acc=0.853895213476537, loss=0.1445877495649184\n",
      "epoch=67, acc=0.8540179734923132, loss=0.13858405380359692\n",
      "epoch=68, acc=0.8595078322014682, loss=0.13883015307752067\n",
      "epoch=69, acc=0.8487376078116644, loss=0.13848679167290948\n",
      "epoch=70, acc=0.8593330635106462, loss=0.14599537450829103\n",
      "epoch=71, acc=0.8564219337642807, loss=0.1503538389907203\n",
      "epoch=72, acc=0.8546517640841156, loss=0.1497638488738984\n",
      "epoch=73, acc=0.8615277158992822, loss=0.14695306682531184\n",
      "epoch=74, acc=0.8495481235862243, loss=0.14746259552903854\n",
      "epoch=75, acc=0.8573181047212595, loss=0.1454058556323343\n",
      "epoch=76, acc=0.8518883060127302, loss=0.1505107198165187\n",
      "epoch=77, acc=0.8602084114015758, loss=0.14216256894855234\n",
      "epoch=78, acc=0.8570588006465463, loss=0.14079866204708286\n",
      "epoch=79, acc=0.8578135431908214, loss=0.14191638572776277\n",
      "epoch=80, acc=0.8592011541310098, loss=0.1475780572045696\n",
      "epoch=81, acc=0.8565849937177759, loss=0.13919939949259044\n",
      "epoch=82, acc=0.8521426597985178, loss=0.14457806802205533\n",
      "epoch=83, acc=0.8570087015239078, loss=0.14343232018341445\n",
      "epoch=84, acc=0.8570048323696577, loss=0.1395217600435596\n",
      "epoch=85, acc=0.8598059063693364, loss=0.14856499171979945\n",
      "epoch=86, acc=0.856476668116094, loss=0.13990568166943365\n",
      "epoch=87, acc=0.8604168980382259, loss=0.1442254627471337\n",
      "epoch=88, acc=0.8519768143384203, loss=0.13810024163648932\n",
      "epoch=89, acc=0.853396894831479, loss=0.13847006657376987\n",
      "epoch=90, acc=0.8545450163169972, loss=0.13928185764888484\n",
      "epoch=91, acc=0.8574425049286993, loss=0.14334403016027902\n",
      "epoch=92, acc=0.8520470964247775, loss=0.14464048554875525\n",
      "epoch=93, acc=0.8572761530313102, loss=0.14037006690408732\n",
      "epoch=94, acc=0.8533786785376773, loss=0.14756712058058552\n",
      "epoch=95, acc=0.8581987291449096, loss=0.1472151838787656\n",
      "epoch=96, acc=0.8587822267479974, loss=0.14137460445312403\n",
      "epoch=97, acc=0.8596563992917707, loss=0.1432124049130415\n",
      "epoch=98, acc=0.8614074203806683, loss=0.13965470804612176\n",
      "epoch=99, acc=0.8560966301159278, loss=0.14616612485810287\n",
      "epoch=100, acc=0.8591910291782294, loss=0.14549742920383874\n",
      "epoch=101, acc=0.8611478550540772, loss=0.13770735738743806\n",
      "epoch=102, acc=0.8543141180532712, loss=0.1443409784126351\n",
      "epoch=103, acc=0.8567807479141869, loss=0.13931632837826602\n",
      "epoch=104, acc=0.8580637263728037, loss=0.145150978768639\n",
      "epoch=105, acc=0.858882210248856, loss=0.14270431488485993\n",
      "epoch=106, acc=0.8598614858182274, loss=0.14014030699236135\n",
      "epoch=107, acc=0.8608843757265305, loss=0.14242418977090784\n",
      "epoch=108, acc=0.8550627556505752, loss=0.14268646415070751\n",
      "epoch=109, acc=0.8540988196393173, loss=0.14451545469020183\n",
      "epoch=110, acc=0.8541027588131036, loss=0.14523015118338378\n",
      "epoch=111, acc=0.859038646937567, loss=0.1461164512558419\n",
      "epoch=112, acc=0.8585769800071632, loss=0.1412373330908252\n",
      "epoch=113, acc=0.8617308517927684, loss=0.13912239112173536\n",
      "epoch=114, acc=0.8599291403671823, loss=0.14168341646656213\n",
      "epoch=115, acc=0.8604240930004494, loss=0.14241592393525876\n",
      "epoch=116, acc=0.8577600939530925, loss=0.14206417715848746\n",
      "epoch=117, acc=0.8596631623533302, loss=0.13850098546082232\n",
      "epoch=118, acc=0.8580179771103016, loss=0.1396979452737863\n",
      "epoch=119, acc=0.8555823262835611, loss=0.13812958322417218\n",
      "epoch=120, acc=0.8566217004873031, loss=0.14032481451068116\n",
      "epoch=121, acc=0.8611386769299754, loss=0.14092755134627885\n",
      "epoch=122, acc=0.8570025354407047, loss=0.1439245907816755\n",
      "epoch=123, acc=0.8549367810652966, loss=0.13938125511474136\n",
      "epoch=124, acc=0.860615251674717, loss=0.14001136297240852\n",
      "epoch=125, acc=0.8621705693993031, loss=0.13750052155152578\n",
      "epoch=126, acc=0.8624626030905793, loss=0.145143022369862\n",
      "epoch=127, acc=0.8571973050671182, loss=0.1414506547800523\n",
      "epoch=128, acc=0.8585677226261961, loss=0.13916535810396846\n",
      "epoch=129, acc=0.8608768510807989, loss=0.13787011274222274\n",
      "epoch=130, acc=0.8562123204067149, loss=0.14002327910211484\n",
      "epoch=131, acc=0.856763223442524, loss=0.1396226064990381\n",
      "epoch=132, acc=0.86119614780348, loss=0.14369145883662376\n",
      "epoch=133, acc=0.85664230732168, loss=0.141922132259615\n",
      "epoch=134, acc=0.8566562202051067, loss=0.1432394989623726\n",
      "epoch=135, acc=0.8622968514316287, loss=0.14158058620205566\n",
      "epoch=136, acc=0.8608928688491009, loss=0.137764521424227\n",
      "epoch=137, acc=0.855530031411071, loss=0.13871697123088608\n",
      "epoch=138, acc=0.8576733387098243, loss=0.14083059563616418\n",
      "epoch=139, acc=0.860073768140043, loss=0.14459542060733577\n"
     ]
    },
    {
     "data": {
      "text/html": [
       "Waiting for W&B process to finish... <strong style=\"color:green\">(success).</strong>"
      ],
      "text/plain": [
       "<IPython.core.display.HTML object>"
      ]
     },
     "metadata": {},
     "output_type": "display_data"
    },
    {
     "data": {
      "text/html": [
       "<style>\n",
       "    table.wandb td:nth-child(1) { padding: 0 10px; text-align: left ; width: auto;} td:nth-child(2) {text-align: left ; width: 100%}\n",
       "    .wandb-row { display: flex; flex-direction: row; flex-wrap: wrap; justify-content: flex-start; width: 100% }\n",
       "    .wandb-col { display: flex; flex-direction: column; flex-basis: 100%; flex: 1; padding: 10px; }\n",
       "    </style>\n",
       "<div class=\"wandb-row\"><div class=\"wandb-col\"><h3>Run history:</h3><br/><table class=\"wandb\"><tr><td>acc</td><td>▁▆▇▇▇███▇███████████████████████████████</td></tr><tr><td>loss</td><td>█▃▃▁▁▁▁▁▂▁▁▁▁▁▁▁▁▁▁▁▁▁▁▁▁▁▁▁▁▁▁▁▁▁▁▁▁▁▁▁</td></tr></table><br/></div><div class=\"wandb-col\"><h3>Run summary:</h3><br/><table class=\"wandb\"><tr><td>acc</td><td>0.86007</td></tr><tr><td>loss</td><td>0.1446</td></tr></table><br/></div></div>"
      ],
      "text/plain": [
       "<IPython.core.display.HTML object>"
      ]
     },
     "metadata": {},
     "output_type": "display_data"
    },
    {
     "data": {
      "text/html": [
       "Synced <strong style=\"color:#cdcd00\">driven-deluge-14</strong>: <a href=\"https://wandb.ai/susbrock/example/runs/2vbwepgw\" target=\"_blank\">https://wandb.ai/susbrock/example/runs/2vbwepgw</a><br/>Synced 7 W&B file(s), 0 media file(s), 0 artifact file(s) and 1 other file(s)"
      ],
      "text/plain": [
       "<IPython.core.display.HTML object>"
      ]
     },
     "metadata": {},
     "output_type": "display_data"
    },
    {
     "data": {
      "text/html": [
       "Find logs at: <code>.\\wandb\\run-20221016_085018-2vbwepgw\\logs</code>"
      ],
      "text/plain": [
       "<IPython.core.display.HTML object>"
      ]
     },
     "metadata": {},
     "output_type": "display_data"
    }
   ],
   "source": [
    "def run_multiple_training_runs(epochs, lrs):\n",
    "    for epoch in epochs:\n",
    "        for lr in lrs:\n",
    "            run_training_run(epoch, lr)\n",
    "\n",
    "# Try different values for the learning rate\n",
    "epochs = [100, 120, 140]\n",
    "lrs = [0.1, 0.01, 0.001, 0.0001]\n",
    "run_multiple_training_runs(epochs, lrs)"
   ]
  },
  {
   "cell_type": "code",
   "execution_count": null,
   "metadata": {},
   "outputs": [],
   "source": []
  }
 ],
 "metadata": {
  "kernelspec": {
   "display_name": "tiny_cnn",
   "language": "python",
   "name": "tiny_cnn"
  },
  "language_info": {
   "codemirror_mode": {
    "name": "ipython",
    "version": 3
   },
   "file_extension": ".py",
   "mimetype": "text/x-python",
   "name": "python",
   "nbconvert_exporter": "python",
   "pygments_lexer": "ipython3",
   "version": "3.10.6"
  },
  "orig_nbformat": 4
 },
 "nbformat": 4,
 "nbformat_minor": 2
}
