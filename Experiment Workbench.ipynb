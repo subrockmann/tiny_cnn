{
 "cells": [
  {
   "cell_type": "markdown",
   "metadata": {},
   "source": [
    "# Experiment Workbench"
   ]
  },
  {
   "cell_type": "code",
   "execution_count": 2,
   "metadata": {},
   "outputs": [],
   "source": [
    "import os, sys, math, datetime\n",
    "import pathlib\n",
    "from pathlib import Path\n",
    "import numpy as np\n",
    "import random\n",
    "from matplotlib import pyplot as plt\n",
    "import PIL\n",
    "import PIL.Image\n",
    "import seaborn as sns\n",
    "\n",
    "import tensorflow as tf\n",
    "import tensorflow_datasets as tfds\n",
    "from tensorflow import keras\n",
    "from tensorflow.keras.layers import Input, Dense, Flatten, Conv2D,DepthwiseConv2D, MaxPooling2D, AvgPool2D, GlobalAveragePooling2D, BatchNormalization, Concatenate\n",
    "from tensorflow.keras.layers import ReLU\n",
    "from tensorflow.keras.models import Model\n",
    "from tensorflow.keras.callbacks import ModelCheckpoint, EarlyStopping, LearningRateScheduler\n",
    " \n",
    "# Import the necessary MLTK APIs\n",
    "from mltk.core import view_model, summarize_model, profile_model\n",
    "\n",
    "# import workbench.config.config\n",
    "from workbench.config.config import initialize\n",
    "from workbench.utils.utils import create_filepaths\n",
    "from workbench.utils.utils import parse_model_name\n",
    "\n",
    "#from dotenv import load_dotenv\n",
    "import wandb\n",
    "from wandb.keras import WandbMetricsLogger, WandbModelCheckpoint\n",
    "#import deeplake\n"
   ]
  },
  {
   "cell_type": "code",
   "execution_count": null,
   "metadata": {},
   "outputs": [],
   "source": [
    "\n"
   ]
  },
  {
   "cell_type": "code",
   "execution_count": 3,
   "metadata": {},
   "outputs": [
    {
     "name": "stdout",
     "output_type": "stream",
     "text": [
      "Tensorflow version 2.10.0\n",
      "Found GPU at: /device:GPU:0\n"
     ]
    }
   ],
   "source": [
    "print(\"Tensorflow version \" + tf.__version__)\n",
    "AUTOTUNE = tf.data.AUTOTUNE\n",
    "\n",
    "# Confirm that TensorFlow can access GPU\n",
    "device_name = tf.test.gpu_device_name()\n",
    "if not device_name:\n",
    "  raise SystemError('GPU device not found')\n",
    "print('Found GPU at: {}'.format(device_name))"
   ]
  },
  {
   "cell_type": "code",
   "execution_count": 4,
   "metadata": {},
   "outputs": [],
   "source": [
    "# TODO:\n",
    "\n",
    "# Add learning rate schedule\n",
    "\n",
    "# tf.compat.v1.disable_eager_execution()"
   ]
  },
  {
   "cell_type": "code",
   "execution_count": 5,
   "metadata": {},
   "outputs": [],
   "source": [
    "# DANGER ZONE: Disable warning messages\n",
    "\n",
    "import absl.logging\n",
    "absl.logging.set_verbosity(absl.logging.ERROR)"
   ]
  },
  {
   "cell_type": "code",
   "execution_count": 6,
   "metadata": {},
   "outputs": [],
   "source": [
    "\n",
    "\n",
    "# set the random seeds\n",
    "os.environ[\"TF_CUDNN_DETERMINISTIC\"]= \"1\"\n",
    "random.seed(hash(\"setting_random seeds\") % 2**32 -1)\n",
    "np.random.seed(hash(\"improves reproducibility\") % 2**32 -1)\n",
    "tf.random.set_seed(hash(\"by removing stochasticity\") %2 *32 -1 )"
   ]
  },
  {
   "cell_type": "code",
   "execution_count": 7,
   "metadata": {},
   "outputs": [],
   "source": [
    "models_dir = initialize()"
   ]
  },
  {
   "cell_type": "markdown",
   "metadata": {},
   "source": [
    "# Get the model"
   ]
  },
  {
   "cell_type": "code",
   "execution_count": 8,
   "metadata": {
    "tags": [
     "parameters"
    ]
   },
   "outputs": [],
   "source": [
    "global model_name\n",
    "model_name = \"mobilenetv1_0.1_96_c3_o3_l2\""
   ]
  },
  {
   "cell_type": "code",
   "execution_count": 9,
   "metadata": {},
   "outputs": [
    {
     "name": "stdout",
     "output_type": "stream",
     "text": [
      "i:\\tinyml\\tiny_cnn\\models\n"
     ]
    }
   ],
   "source": [
    "models_path, models_summary_path, models_image_path, models_layer_df_path, models_tf_path, models_tflite_path, models_tflite_opt_path = create_filepaths(model_name)"
   ]
  },
  {
   "cell_type": "code",
   "execution_count": 10,
   "metadata": {},
   "outputs": [],
   "source": [
    "model = keras.models.load_model(models_tf_path)"
   ]
  },
  {
   "cell_type": "code",
   "execution_count": 11,
   "metadata": {},
   "outputs": [],
   "source": [
    "global base_model_name\n",
    "global alpha\n",
    "global resolution\n",
    "global channels\n",
    "global classes\n",
    "global variation\n",
    "global early_stopping_patience"
   ]
  },
  {
   "cell_type": "code",
   "execution_count": 12,
   "metadata": {},
   "outputs": [],
   "source": [
    "base_model_name, alpha, resolution, channels, classes, variation = model_name.split(\"_\")"
   ]
  },
  {
   "cell_type": "code",
   "execution_count": 13,
   "metadata": {},
   "outputs": [],
   "source": [
    "alpha = float(alpha)\n",
    "resolution = int(resolution)\n",
    "classes = int(classes.strip(\"o\"))"
   ]
  },
  {
   "cell_type": "code",
   "execution_count": 14,
   "metadata": {},
   "outputs": [],
   "source": [
    "# Start a Tensorboard session\n",
    "%load_ext tensorboard"
   ]
  },
  {
   "cell_type": "code",
   "execution_count": 49,
   "metadata": {
    "tags": [
     "parameters"
    ]
   },
   "outputs": [],
   "source": [
    "#os.environ['WANDB_NOTEBOOK_NAME'] = 'Experiment Workbench'\n",
    "\n",
    "IMG_HEIGHT = resolution\n",
    "IMG_WIDTH = resolution\n",
    "BATCH_SIZE = 32\n",
    "EPOCHS = 5\n",
    "#LOGGING_STEPS = 64\n",
    "MOMENTUM = 0.9\n",
    "LR = 0.001\n",
    "DROPOUT = 0.5\n",
    "early_stopping_patience = 30\n",
    "\n",
    "PROJECT = base_model_name\n",
    "#PROJECT = \"tiny_cnn troubleshooting\"\n",
    "SEED = 42\n",
    "tf.random.set_seed(SEED) # global seed for tensorflow random parts, like dropout\n",
    "shuffle_seed = 42"
   ]
  },
  {
   "cell_type": "markdown",
   "metadata": {},
   "source": [
    "# Prepare the Lemon Quality Dataset"
   ]
  },
  {
   "cell_type": "code",
   "execution_count": 50,
   "metadata": {},
   "outputs": [
    {
     "data": {
      "text/plain": [
       "True"
      ]
     },
     "execution_count": 50,
     "metadata": {},
     "output_type": "execute_result"
    }
   ],
   "source": [
    "dataset_path = Path.cwd().joinpath(\"datasets\", \"lemon_dataset\")\n",
    "dataset_path.exists()"
   ]
  },
  {
   "cell_type": "code",
   "execution_count": 51,
   "metadata": {},
   "outputs": [],
   "source": [
    "def get_lemon_quality_dataset(dataset_path, img_width, img_height, batch_size, normalize=True):\n",
    "    \"\"\" Fetches the lemon quality dataset and prints dataset info. It normalizes the image data to range [0,1] by default.\n",
    "\n",
    "    Args: \n",
    "        dataset_path (Path): the file location of the dataset. Subfolders \"train\", \"test\", and \"val\" are expected.\n",
    "        normalize (boolean): Normalizes the image data to range [0, 1]. Default: True\n",
    "\n",
    "    Returns:\n",
    "        (train_ds, val_ds, test_ds, class_names) (tuple(tf.datasets)): Tensorflow datasets for train, validation and test.\n",
    "    \n",
    "    \"\"\"\n",
    "    if dataset_path.exists():\n",
    "        try:\n",
    "            train_dir = dataset_path.joinpath(\"train\")\n",
    "            val_dir = dataset_path.joinpath( \"val\")\n",
    "            test_dir = dataset_path.joinpath( \"test\")\n",
    "        except:\n",
    "            print(f\"Please check the folder structure of {dataset_path}.\")\n",
    "            raise\n",
    "\n",
    "\n",
    "\n",
    "    # create the labels list to avoid inclusion of .ipynb checkpoints\n",
    "    #labels = [\"bad_quality\", \"empty_background\", \"good_quality\"]\n",
    "\n",
    "    print(\"Preparing training dataset...\")        \n",
    "    train_ds = tf.keras.utils.image_dataset_from_directory(\n",
    "        train_dir,\n",
    "        subset=None,\n",
    "        seed=shuffle_seed,\n",
    "        image_size=((img_height, img_width)),\n",
    "        #labels=labels,\n",
    "        batch_size=batch_size)\n",
    "    \n",
    "\n",
    "    class_names = train_ds.class_names\n",
    "\n",
    "\n",
    "    print(\"Preparing validation dataset...\")    \n",
    "    val_ds = tf.keras.utils.image_dataset_from_directory(\n",
    "        val_dir,\n",
    "        subset=None,\n",
    "        seed=shuffle_seed,\n",
    "        image_size=(img_height, img_width),\n",
    "        batch_size=batch_size)\n",
    "    \n",
    "\n",
    "    print(\"Preparing test dataset...\")    \n",
    "    test_ds = tf.keras.utils.image_dataset_from_directory(\n",
    "        test_dir,\n",
    "        subset=None,\n",
    "        seed=shuffle_seed,\n",
    "        image_size=(img_height, img_width),\n",
    "        batch_size=batch_size)\n",
    "    \n",
    "    # Create a data augmentation stage with horizontal flipping, rotations, zooms\n",
    "    data_augmentation = keras.Sequential(\n",
    "        [\n",
    "            tf.keras.layers.RandomFlip(\"horizontal\"),\n",
    "            tf.keras.layers.RandomRotation(0.1),\n",
    "            tf.keras.layers.RandomZoom(0.1),\n",
    "        ]\n",
    "        )\n",
    "\n",
    "    #train_ds= train_ds.map(lambda x, y: (data_augmentation(x), y), num_parallel_calls=tf.data.AUTOTUNE )\n",
    "\n",
    "    \n",
    "    # Normalize the data to the range [0, 1]\n",
    "    if normalize:\n",
    "        normalization_layer = tf.keras.layers.Rescaling(1./255, offset=-1)\n",
    "\n",
    "        train_ds= train_ds.map(lambda x, y: (normalization_layer(x), y), num_parallel_calls=tf.data.AUTOTUNE)\n",
    "        val_ds= val_ds.map(lambda x, y: (normalization_layer(x), y), num_parallel_calls=tf.data.AUTOTUNE)\n",
    "        test_ds= test_ds.map(lambda x, y: (normalization_layer(x), y), num_parallel_calls=tf.data.AUTOTUNE)\n",
    "    else:\n",
    "        pass\n",
    "\n",
    "    print (f\"Class names: {class_names}\")\n",
    "    print(train_ds.element_spec)\n",
    "    print(f\"Normalize: {normalize}\")\n",
    "    return (train_ds, val_ds, test_ds, class_names)"
   ]
  },
  {
   "cell_type": "code",
   "execution_count": 52,
   "metadata": {},
   "outputs": [
    {
     "name": "stdout",
     "output_type": "stream",
     "text": [
      "Preparing training dataset...\n",
      "Found 2021 files belonging to 3 classes.\n",
      "Preparing validation dataset...\n",
      "Found 252 files belonging to 3 classes.\n",
      "Preparing test dataset...\n",
      "Found 255 files belonging to 3 classes.\n",
      "Class names: ['bad_quality', 'empty_background', 'good_quality']\n",
      "(TensorSpec(shape=(None, 96, 96, 3), dtype=tf.float32, name=None), TensorSpec(shape=(None,), dtype=tf.int32, name=None))\n",
      "Normalize: True\n"
     ]
    }
   ],
   "source": [
    "train_ds, val_ds, test_ds, labels = get_lemon_quality_dataset(dataset_path, IMG_WIDTH, IMG_HEIGHT, BATCH_SIZE)"
   ]
  },
  {
   "cell_type": "code",
   "execution_count": 53,
   "metadata": {},
   "outputs": [
    {
     "name": "stdout",
     "output_type": "stream",
     "text": [
      "(32, 96, 96, 3)\n",
      "(32,)\n",
      "tf.Tensor([0 2 2 0 2 2 0 1 0 2 1 2 1 1 2 2 2 0 0 0 1 0 2 1 0 0 0 2 0 1 0 0], shape=(32,), dtype=int32)\n"
     ]
    }
   ],
   "source": [
    "for image_batch, labels_batch in train_ds:\n",
    "    print(image_batch.shape)\n",
    "    print(labels_batch.shape)\n",
    "    print(labels_batch)\n",
    "    break"
   ]
  },
  {
   "cell_type": "code",
   "execution_count": 54,
   "metadata": {},
   "outputs": [
    {
     "name": "stdout",
     "output_type": "stream",
     "text": [
      "The dataset contains 3 classes.\n"
     ]
    }
   ],
   "source": [
    "classes = len(labels)\n",
    "print(f\"The dataset contains {classes } classes.\")"
   ]
  },
  {
   "cell_type": "markdown",
   "metadata": {},
   "source": [
    "# Define the model"
   ]
  },
  {
   "cell_type": "code",
   "execution_count": 55,
   "metadata": {},
   "outputs": [],
   "source": [
    "logdir = os.path.join(\"logs\", model_name, datetime.datetime.now().strftime(\"%Y%m%d-%H%M%S\"))\n",
    "root_logdir = os.getcwd()"
   ]
  },
  {
   "cell_type": "code",
   "execution_count": 56,
   "metadata": {},
   "outputs": [
    {
     "data": {
      "text/plain": [
       "'0.13.7'"
      ]
     },
     "execution_count": 56,
     "metadata": {},
     "output_type": "execute_result"
    }
   ],
   "source": [
    "wandb.__version__"
   ]
  },
  {
   "cell_type": "code",
   "execution_count": 57,
   "metadata": {},
   "outputs": [],
   "source": [
    "tf.keras.backend.clear_session()\n",
    "\n",
    "# optimize the data flow\n",
    "AUTOTUNE = tf.data.AUTOTUNE\n",
    "#train_ds = train_ds.cache().prefetch(AUTOTUNE)\n",
    "train_ds = train_ds.prefetch(AUTOTUNE)\n",
    "val_ds = val_ds.cache().prefetch(AUTOTUNE)"
   ]
  },
  {
   "cell_type": "code",
   "execution_count": 58,
   "metadata": {},
   "outputs": [],
   "source": [
    "api = wandb.Api()"
   ]
  },
  {
   "cell_type": "code",
   "execution_count": 59,
   "metadata": {},
   "outputs": [],
   "source": [
    "# code taken from https://www.tensorflow.org/guide/keras/custom_callback#examples_of_keras_callback_applications\n",
    "\n",
    "class EarlyStoppingAtMinLoss(keras.callbacks.Callback):\n",
    "    \"\"\"Stop training when the loss is at its min, i.e. the loss stops decreasing.\n",
    "\n",
    "  Arguments:\n",
    "      patience: Number of epochs to wait after min has been hit. After this\n",
    "      number of no improvement, training stops.\n",
    "  \"\"\"\n",
    "\n",
    "    def __init__(self, patience=0):\n",
    "        super(EarlyStoppingAtMinLoss, self).__init__()\n",
    "        self.patience = patience\n",
    "        # best_weights to store the weights at which the minimum loss occurs.\n",
    "        self.best_weights = None\n",
    "\n",
    "    def on_train_begin(self, logs=None):\n",
    "        # The number of epoch it has waited when loss is no longer minimum.\n",
    "        self.wait = 0\n",
    "        # The epoch the training stops at.\n",
    "        self.stopped_epoch = 0\n",
    "        # Initialize the best as infinity.\n",
    "        self.best = np.Inf\n",
    "\n",
    "    def on_epoch_end(self, epoch, logs=None):\n",
    "        current = logs.get(\"loss\")\n",
    "        if np.less(current, self.best):\n",
    "            self.best = current\n",
    "            self.wait = 0\n",
    "            # Record the best weights if current results is better (less).\n",
    "            self.best_weights = self.model.get_weights()\n",
    "        else:\n",
    "            self.wait += 1\n",
    "            if self.wait >= self.patience:\n",
    "                self.stopped_epoch = epoch\n",
    "                self.model.stop_training = True\n",
    "                print(\"Restoring model weights from the end of the best epoch.\")\n",
    "                self.model.set_weights(self.best_weights)\n",
    "\n",
    "    def on_train_end(self, logs=None):\n",
    "        if self.stopped_epoch > 0:\n",
    "            print(\"Epoch %05d: early stopping\" % (self.stopped_epoch + 1))\n"
   ]
  },
  {
   "cell_type": "code",
   "execution_count": 65,
   "metadata": {},
   "outputs": [],
   "source": [
    "class EarlyStoppingAtMaxValAccuracy(keras.callbacks.Callback):\n",
    "    \"\"\"Stop training when the loss is at its min, i.e. the loss stops decreasing.\n",
    "\n",
    "  Arguments:\n",
    "      patience: Number of epochs to wait after max has been hit. After this\n",
    "      number of no improvement, training stops.\n",
    "  \"\"\"\n",
    "\n",
    "    def __init__(self, patience=30):\n",
    "        super(EarlyStoppingAtMaxValAccuracy, self).__init__()\n",
    "        self.patience = patience\n",
    "        # best_weights to store the weights at which the minimum loss occurs.\n",
    "        self.best_weights = None\n",
    "\n",
    "    def on_train_begin(self, logs=None):\n",
    "        # The number of epoch it has waited when loss is no longer minimum.\n",
    "        self.wait = 0\n",
    "        # The epoch the training stops at.\n",
    "        self.stopped_epoch = 0\n",
    "        # Initialize the best as infinity.\n",
    "        self.best = 0\n",
    "        self.best_epoch = 0\n",
    "        self.best_epoch_loss = np.Infinity\n",
    "\n",
    "    def on_epoch_end(self, epoch, logs=None):\n",
    "        current = logs.get(\"val_accuracy\")\n",
    "        if np.greater(current, self.best):\n",
    "            self.best = current\n",
    "            self.best_epoch = epoch\n",
    "            self.best_epoch_loss = logs.get(\"val_loss\")\n",
    "            self.wait = 0\n",
    "            # Record the best weights if current results is better (less).\n",
    "            self.best_weights = self.model.get_weights()\n",
    "        else:\n",
    "            self.wait += 1\n",
    "            if self.wait >= self.patience:\n",
    "                self.stopped_epoch = epoch\n",
    "                self.model.stop_training = True\n",
    "                print(\"Restoring model weights from the end of the best epoch.\")\n",
    "                self.model.set_weights(self.best_weights)\n",
    "\n",
    "        metrics = dict()\n",
    "        metrics[\"best_epoch\"] = self.best_epoch\n",
    "        metrics[\"best_val_accuracy\"] = self.best\n",
    "        metrics[\"best_epoch_loss\"] = self.best_epoch_loss\n",
    "\n",
    "        wandb.log(metrics)\n",
    "\n",
    "\n",
    "\n",
    "    def on_train_end(self, logs=None):\n",
    "        if self.stopped_epoch > 0:\n",
    "            print(\"Epoch %05d: early stopping\" % (self.stopped_epoch + 1))\n",
    "        \n"
   ]
  },
  {
   "cell_type": "code",
   "execution_count": 66,
   "metadata": {},
   "outputs": [],
   "source": [
    "os.environ[\"WANDB_MODE\"] = \"online\"\n",
    "def train_model_wandb(model):\n",
    "\n",
    "        # solve issue from: https://github.com/wandb/wandb/issues/3536\n",
    "        if len(wandb.patched[\"tensorboard\"]) > 0:\n",
    "                wandb.tensorboard.unpatch()\n",
    "                \n",
    "        # Configure Tensorboard root log directory to read the debugging information\n",
    "        wandb.tensorboard.patch(root_logdir=root_logdir)\n",
    "        # wandb.tensorboard.patch(root_logdir=\"wandb.run.dir\")\n",
    "        \n",
    "        # Generate run ids\n",
    "        id = wandb.util.generate_id()\n",
    "\n",
    "        run = wandb.init(\n",
    "                # Set the project where this run will be logged\n",
    "                project=PROJECT, \n",
    "                id = id, \n",
    "                resume=\"allow\",\n",
    "                sync_tensorboard=True\n",
    "                )\n",
    "\n",
    "        # Specify the configuration variables\n",
    "        config = wandb.config\n",
    "        \n",
    "        config.batch_size = BATCH_SIZE\n",
    "        #config.dropout =DROPOUT\n",
    "        config.learn_rate = LR\n",
    "        config.momentum = MOMENTUM\n",
    "        #config.decay = 1e-6\n",
    "        config.epochs = EPOCHS\n",
    "        config.classes = classes\n",
    "        config.id = id\n",
    "        config.architecture = model_name\n",
    "        \n",
    "\n",
    "        # enable Tensorflow Debugging\n",
    "        #tf.debugging.experimental.enable_dump_debug_info(\"./logs/debug\", \n",
    "        #        tensor_debug_mode=\"FULL_HEALTH\", circular_buffer_size=-1)\n",
    "\n",
    "        optimizer = tf.keras.optimizers.SGD(learning_rate=LR, momentum=MOMENTUM)\n",
    "        config.optimizer = optimizer._name\n",
    "\n",
    "        model.compile(optimizer=optimizer,\n",
    "                        loss='sparse_categorical_crossentropy',\n",
    "                        metrics=['accuracy'])\n",
    "\n",
    "        logdir = os.path.join(\"logs\", datetime.datetime.now().strftime(\"%Y%m%d-%H%M%S\"))\n",
    "        tensorboard_callback = tf.keras.callbacks.TensorBoard(log_dir= wandb.run.dir, histogram_freq=10, update_freq=\"epoch\") #, profile_batch=\"10, 20\")\n",
    "        #tensorboard_callback = tf.keras.callbacks.TensorBoard(log_dir= logdir, histogram_freq=1)\n",
    "        #wandb_callback = WandbCallback()# input_type=\"image\", labels=labels) #, validation_data = val_ds.as_numpy_iterator())\n",
    "        checkpoint = WandbModelCheckpoint(Path(wandb.run.dir).joinpath(f\"checkpoint\"),\n",
    "                monitor=\"val_accuracy\",\n",
    "                save_best_only=True,\n",
    "                save_freq=\"epoch\")\n",
    "\n",
    "        global early_stopping_patience\n",
    "        early_stopping = EarlyStopping(monitor=\"val_accuracy\", patience=early_stopping_patience)\n",
    "\n",
    "        #checkpoint = ModelCheckpoint(\"my_tiny_model\", save_weights_only=True)\n",
    "\n",
    "        callbacks =[\n",
    "                tensorboard_callback,\n",
    "                #wandb_callback,\n",
    "                WandbMetricsLogger(),\n",
    "                checkpoint,\n",
    "                #early_stopping,\n",
    "                EarlyStoppingAtMaxValAccuracy()\n",
    "        ]\n",
    "\n",
    "        history = model.fit(train_ds,\n",
    "                epochs=EPOCHS, \n",
    "                validation_data=val_ds, \n",
    "                callbacks=callbacks\n",
    "        )\n",
    "\n",
    "        #scores = model.evaluate(X[test], Y[test], verbose=0)\n",
    "        wandb.save(\"last_model.h5\")\n",
    "        # wandb.log({\n",
    "        #         \"loss\": history.history[\"loss\"],\n",
    "        #         \"accuracy\": history.history[\"accuracy\"],\n",
    "        #         \"val_loss\": history.history[\"val_loss\"],\n",
    "        #         \"val_accuracy\": history.history[\"val_accuracy\"],                                \n",
    "        # })\n",
    "        \n",
    "\n",
    "        y_val_true = np.concatenate([y for x, y in val_ds], axis=0)\n",
    "        y_val_pred = model.predict(val_ds).argmax(axis=1)\n",
    "\n",
    "\n",
    "        wandb.log({\"conf_mat\" : wandb.plot.confusion_matrix(probs=None,\n",
    "                        y_true=y_val_true, preds=y_val_pred,\n",
    "                        class_names=labels)})\n",
    "\n",
    "\n",
    "\n",
    "\n",
    "        run.finish()\n",
    "        return history, model"
   ]
  },
  {
   "cell_type": "code",
   "execution_count": 67,
   "metadata": {},
   "outputs": [
    {
     "data": {
      "text/html": [
       "Finishing last run (ID:c8m246mq) before initializing another..."
      ],
      "text/plain": [
       "<IPython.core.display.HTML object>"
      ]
     },
     "metadata": {},
     "output_type": "display_data"
    },
    {
     "data": {
      "text/html": [
       "Waiting for W&B process to finish... <strong style=\"color:green\">(success).</strong>"
      ],
      "text/plain": [
       "<IPython.core.display.HTML object>"
      ]
     },
     "metadata": {},
     "output_type": "display_data"
    },
    {
     "data": {
      "application/vnd.jupyter.widget-view+json": {
       "model_id": "7111bccc31a34d6180bcb7d521f1b650",
       "version_major": 2,
       "version_minor": 0
      },
      "text/plain": [
       "VBox(children=(Label(value='21.736 MB of 21.736 MB uploaded (0.000 MB deduped)\\r'), FloatProgress(value=1.0, m…"
      ]
     },
     "metadata": {},
     "output_type": "display_data"
    },
    {
     "data": {
      "text/html": [
       "Synced <strong style=\"color:#cdcd00\">misunderstood-donkey-107</strong>: <a href=\"https://wandb.ai/susbrock/mobilenetv1/runs/c8m246mq\" target=\"_blank\">https://wandb.ai/susbrock/mobilenetv1/runs/c8m246mq</a><br/>Synced 6 W&B file(s), 0 media file(s), 0 artifact file(s) and 0 other file(s)"
      ],
      "text/plain": [
       "<IPython.core.display.HTML object>"
      ]
     },
     "metadata": {},
     "output_type": "display_data"
    },
    {
     "data": {
      "text/html": [
       "Find logs at: <code>.\\wandb\\run-20221222_195958-c8m246mq\\logs</code>"
      ],
      "text/plain": [
       "<IPython.core.display.HTML object>"
      ]
     },
     "metadata": {},
     "output_type": "display_data"
    },
    {
     "data": {
      "text/html": [
       "Successfully finished last run (ID:c8m246mq). Initializing new run:<br/>"
      ],
      "text/plain": [
       "<IPython.core.display.HTML object>"
      ]
     },
     "metadata": {},
     "output_type": "display_data"
    },
    {
     "data": {
      "application/vnd.jupyter.widget-view+json": {
       "model_id": "1f9f952aa9154c32968d7f7d73947c06",
       "version_major": 2,
       "version_minor": 0
      },
      "text/plain": [
       "VBox(children=(Label(value='Waiting for wandb.init()...\\r'), FloatProgress(value=0.01693333333338766, max=1.0)…"
      ]
     },
     "metadata": {},
     "output_type": "display_data"
    },
    {
     "data": {
      "text/html": [
       "Tracking run with wandb version 0.13.7"
      ],
      "text/plain": [
       "<IPython.core.display.HTML object>"
      ]
     },
     "metadata": {},
     "output_type": "display_data"
    },
    {
     "data": {
      "text/html": [
       "Run data is saved locally in <code>i:\\tinyml\\tiny_cnn\\wandb\\run-20221222_200042-356slhoi</code>"
      ],
      "text/plain": [
       "<IPython.core.display.HTML object>"
      ]
     },
     "metadata": {},
     "output_type": "display_data"
    },
    {
     "data": {
      "text/html": [
       "Syncing run <strong><a href=\"https://wandb.ai/susbrock/mobilenetv1/runs/356slhoi\" target=\"_blank\">dry-lion-108</a></strong> to <a href=\"https://wandb.ai/susbrock/mobilenetv1\" target=\"_blank\">Weights & Biases</a> (<a href=\"https://wandb.me/run\" target=\"_blank\">docs</a>)<br/>"
      ],
      "text/plain": [
       "<IPython.core.display.HTML object>"
      ]
     },
     "metadata": {},
     "output_type": "display_data"
    },
    {
     "name": "stdout",
     "output_type": "stream",
     "text": [
      "Epoch 1/5\n",
      " 4/64 [>.............................] - ETA: 1s - loss: 0.0122 - accuracy: 1.0000  WARNING:tensorflow:Callback method `on_train_batch_end` is slow compared to the batch time (batch time: 0.0153s vs `on_train_batch_end` time: 0.0380s). Check your callbacks.\n"
     ]
    },
    {
     "name": "stderr",
     "output_type": "stream",
     "text": [
      "WARNING:tensorflow:Callback method `on_train_batch_end` is slow compared to the batch time (batch time: 0.0153s vs `on_train_batch_end` time: 0.0380s). Check your callbacks.\n"
     ]
    },
    {
     "name": "stdout",
     "output_type": "stream",
     "text": [
      "64/64 [==============================] - ETA: 0s - loss: 0.0219 - accuracy: 0.9960INFO:tensorflow:Assets written to: i:\\tinyml\\tiny_cnn\\wandb\\run-20221222_200042-356slhoi\\files\\checkpoint\\assets\n"
     ]
    },
    {
     "name": "stderr",
     "output_type": "stream",
     "text": [
      "INFO:tensorflow:Assets written to: i:\\tinyml\\tiny_cnn\\wandb\\run-20221222_200042-356slhoi\\files\\checkpoint\\assets\n",
      "\u001b[34m\u001b[1mwandb\u001b[0m: Adding directory to artifact (i:\\tinyml\\tiny_cnn\\wandb\\run-20221222_200042-356slhoi\\files\\checkpoint)... Done. 0.0s\n"
     ]
    },
    {
     "name": "stdout",
     "output_type": "stream",
     "text": [
      "64/64 [==============================] - 30s 352ms/step - loss: 0.0219 - accuracy: 0.9960 - val_loss: 0.0939 - val_accuracy: 0.9722\n",
      "Epoch 2/5\n",
      "64/64 [==============================] - ETA: 0s - loss: 0.0399 - accuracy: 0.9857"
     ]
    },
    {
     "name": "stderr",
     "output_type": "stream",
     "text": [
      "\u001b[34m\u001b[1mwandb\u001b[0m: Adding directory to artifact (i:\\tinyml\\tiny_cnn\\wandb\\run-20221222_200042-356slhoi\\files\\checkpoint)... Done. 0.0s\n"
     ]
    },
    {
     "name": "stdout",
     "output_type": "stream",
     "text": [
      "64/64 [==============================] - 3s 43ms/step - loss: 0.0399 - accuracy: 0.9857 - val_loss: 0.1196 - val_accuracy: 0.9484\n",
      "Epoch 3/5\n",
      "64/64 [==============================] - ETA: 0s - loss: 0.0568 - accuracy: 0.9812"
     ]
    },
    {
     "name": "stderr",
     "output_type": "stream",
     "text": [
      "\u001b[34m\u001b[1mwandb\u001b[0m: Adding directory to artifact (i:\\tinyml\\tiny_cnn\\wandb\\run-20221222_200042-356slhoi\\files\\checkpoint)... Done. 0.0s\n"
     ]
    },
    {
     "name": "stdout",
     "output_type": "stream",
     "text": [
      "64/64 [==============================] - 2s 35ms/step - loss: 0.0568 - accuracy: 0.9812 - val_loss: 0.1075 - val_accuracy: 0.9524\n",
      "Epoch 4/5\n",
      "62/64 [============================>.] - ETA: 0s - loss: 0.0700 - accuracy: 0.9768"
     ]
    },
    {
     "name": "stderr",
     "output_type": "stream",
     "text": [
      "\u001b[34m\u001b[1mwandb\u001b[0m: Adding directory to artifact (i:\\tinyml\\tiny_cnn\\wandb\\run-20221222_200042-356slhoi\\files\\checkpoint)... Done. 0.0s\n"
     ]
    },
    {
     "name": "stdout",
     "output_type": "stream",
     "text": [
      "64/64 [==============================] - 3s 41ms/step - loss: 0.0699 - accuracy: 0.9767 - val_loss: 0.2389 - val_accuracy: 0.9048\n",
      "Epoch 5/5\n",
      "63/64 [============================>.] - ETA: 0s - loss: 0.0296 - accuracy: 0.9931"
     ]
    },
    {
     "name": "stderr",
     "output_type": "stream",
     "text": [
      "\u001b[34m\u001b[1mwandb\u001b[0m: Adding directory to artifact (i:\\tinyml\\tiny_cnn\\wandb\\run-20221222_200042-356slhoi\\files\\checkpoint)... Done. 0.0s\n"
     ]
    },
    {
     "name": "stdout",
     "output_type": "stream",
     "text": [
      "64/64 [==============================] - 3s 40ms/step - loss: 0.0358 - accuracy: 0.9921 - val_loss: 0.1524 - val_accuracy: 0.9444\n",
      "8/8 [==============================] - 0s 5ms/step\n"
     ]
    },
    {
     "data": {
      "text/html": [
       "Waiting for W&B process to finish... <strong style=\"color:green\">(success).</strong>"
      ],
      "text/plain": [
       "<IPython.core.display.HTML object>"
      ]
     },
     "metadata": {},
     "output_type": "display_data"
    },
    {
     "data": {
      "text/html": [
       "<style>\n",
       "    table.wandb td:nth-child(1) { padding: 0 10px; text-align: left ; width: auto;} td:nth-child(2) {text-align: left ; width: 100%}\n",
       "    .wandb-row { display: flex; flex-direction: row; flex-wrap: wrap; justify-content: flex-start; width: 100% }\n",
       "    .wandb-col { display: flex; flex-direction: column; flex-basis: 100%; flex: 1; padding: 10px; }\n",
       "    </style>\n",
       "<div class=\"wandb-row\"><div class=\"wandb-col\"><h3>Run history:</h3><br/><table class=\"wandb\"><tr><td>best_epoch</td><td>▁▁▁▁▁</td></tr><tr><td>best_epoch_loss</td><td>▁▁▁▁▁</td></tr><tr><td>best_val_accuracy</td><td>▁▁▁▁▁</td></tr><tr><td>epoch/accuracy</td><td>█▄▃▁▇</td></tr><tr><td>epoch/epoch</td><td>▁▃▅▆█</td></tr><tr><td>epoch/learning_rate</td><td>▁▁▁▁▁</td></tr><tr><td>epoch/loss</td><td>▁▄▆█▃</td></tr><tr><td>epoch/val_accuracy</td><td>█▆▆▁▅</td></tr><tr><td>epoch/val_loss</td><td>▁▂▂█▄</td></tr></table><br/></div><div class=\"wandb-col\"><h3>Run summary:</h3><br/><table class=\"wandb\"><tr><td>best_epoch</td><td>0</td></tr><tr><td>best_epoch_loss</td><td>0.09387</td></tr><tr><td>best_val_accuracy</td><td>0.97222</td></tr><tr><td>epoch/accuracy</td><td>0.99208</td></tr><tr><td>epoch/epoch</td><td>4</td></tr><tr><td>epoch/learning_rate</td><td>0.001</td></tr><tr><td>epoch/loss</td><td>0.03581</td></tr><tr><td>epoch/val_accuracy</td><td>0.94444</td></tr><tr><td>epoch/val_loss</td><td>0.15242</td></tr></table><br/></div></div>"
      ],
      "text/plain": [
       "<IPython.core.display.HTML object>"
      ]
     },
     "metadata": {},
     "output_type": "display_data"
    },
    {
     "data": {
      "text/html": [
       "Synced <strong style=\"color:#cdcd00\">dry-lion-108</strong>: <a href=\"https://wandb.ai/susbrock/mobilenetv1/runs/356slhoi\" target=\"_blank\">https://wandb.ai/susbrock/mobilenetv1/runs/356slhoi</a><br/>Synced 7 W&B file(s), 1 media file(s), 5 artifact file(s) and 7 other file(s)"
      ],
      "text/plain": [
       "<IPython.core.display.HTML object>"
      ]
     },
     "metadata": {},
     "output_type": "display_data"
    },
    {
     "data": {
      "text/html": [
       "Find logs at: <code>.\\wandb\\run-20221222_200042-356slhoi\\logs</code>"
      ],
      "text/plain": [
       "<IPython.core.display.HTML object>"
      ]
     },
     "metadata": {},
     "output_type": "display_data"
    }
   ],
   "source": [
    "#wandb.finish()\n",
    "history, model = train_model_wandb(model)"
   ]
  },
  {
   "cell_type": "code",
   "execution_count": 44,
   "metadata": {},
   "outputs": [],
   "source": [
    "run_id = \"1ke0yso4\""
   ]
  },
  {
   "cell_type": "code",
   "execution_count": 26,
   "metadata": {},
   "outputs": [
    {
     "name": "stdout",
     "output_type": "stream",
     "text": [
      "Evaluate on test data\n",
      "8/8 [==============================] - 2s 36ms/step - loss: 0.1419 - accuracy: 0.9647\n",
      "test loss, test acc: [0.14186856150627136, 0.9647058844566345]\n"
     ]
    }
   ],
   "source": [
    "# Evaluate the model on the test data using `evaluate`\n",
    "print(\"Evaluate on test data\")\n",
    "results = model.evaluate(test_ds, batch_size=BATCH_SIZE)\n",
    "print(\"test loss, test acc:\", results)\n",
    "\n",
    "# Generate predictions (probabilities -- the output of the last layer)\n",
    "# on new data using `predict`\n",
    "# print(\"Generate predictions for 3 samples\")\n",
    "# predictions = model.predict(x_test[:3])\n",
    "# print(\"predictions shape:\", predictions.shape)"
   ]
  },
  {
   "cell_type": "code",
   "execution_count": 48,
   "metadata": {},
   "outputs": [],
   "source": [
    "entity = \"susbrock\"\n",
    "\n",
    "\n",
    "run = api.run(f\"{entity}/{PROJECT}/{run_id}\")\n",
    "run.summary[\"test_accuracy\"] = results[1]\n",
    "run.summary[\"test_loss\"] = results[0]\n",
    "run.summary.update()"
   ]
  },
  {
   "cell_type": "code",
   "execution_count": 46,
   "metadata": {},
   "outputs": [
    {
     "data": {
      "text/plain": [
       "[0.14186856150627136, 0.9647058844566345]"
      ]
     },
     "execution_count": 46,
     "metadata": {},
     "output_type": "execute_result"
    }
   ],
   "source": [
    "results"
   ]
  },
  {
   "cell_type": "code",
   "execution_count": 27,
   "metadata": {},
   "outputs": [],
   "source": [
    "scores = model.evaluate(val_ds, verbose=0)"
   ]
  },
  {
   "cell_type": "code",
   "execution_count": 28,
   "metadata": {},
   "outputs": [
    {
     "data": {
      "text/plain": [
       "[0.07866936922073364, 0.9682539701461792]"
      ]
     },
     "execution_count": 28,
     "metadata": {},
     "output_type": "execute_result"
    }
   ],
   "source": [
    "scores"
   ]
  },
  {
   "cell_type": "code",
   "execution_count": 29,
   "metadata": {},
   "outputs": [
    {
     "data": {
      "text/plain": [
       "['loss', 'accuracy']"
      ]
     },
     "execution_count": 29,
     "metadata": {},
     "output_type": "execute_result"
    }
   ],
   "source": [
    "model.metrics_names"
   ]
  },
  {
   "cell_type": "code",
   "execution_count": 30,
   "metadata": {},
   "outputs": [
    {
     "name": "stdout",
     "output_type": "stream",
     "text": [
      "8/8 [==============================] - 0s 8ms/step\n"
     ]
    }
   ],
   "source": [
    "val_predictions = model.predict(val_ds)"
   ]
  },
  {
   "cell_type": "code",
   "execution_count": 31,
   "metadata": {},
   "outputs": [],
   "source": [
    "top_pred_ids = val_predictions.argmax(axis=1)"
   ]
  },
  {
   "cell_type": "code",
   "execution_count": 32,
   "metadata": {},
   "outputs": [
    {
     "data": {
      "text/plain": [
       "array([0, 0, 1, 2, 0, 1, 2, 1, 2, 2, 2, 2, 2, 0, 2, 2, 2, 1, 0, 2, 0, 1,\n",
       "       1, 0, 2, 2, 2, 2, 0, 2, 0, 2, 0, 0, 0, 0, 0, 1, 1, 2, 2, 0, 2, 0,\n",
       "       2, 2, 2, 0, 1, 0, 1, 0, 0, 2, 0, 2, 0, 0, 2, 2, 0, 1, 2, 0, 2, 0,\n",
       "       2, 1, 2, 2, 1, 1, 0, 2, 1, 0, 2, 0, 1, 2, 2, 2, 0, 0, 0, 0, 0, 2,\n",
       "       0, 2, 0, 2, 0, 0, 0, 0, 0, 1, 0, 2, 2, 1, 1, 1, 1, 1, 2, 0, 0, 0,\n",
       "       2, 2, 2, 2, 2, 2, 2, 2, 0, 2, 2, 1, 0, 0, 2, 1, 0, 2, 0, 2, 1, 0,\n",
       "       0, 1, 2, 1, 2, 2, 2, 1, 1, 0, 2, 1, 2, 0, 0, 2, 1, 0, 0, 0, 2, 0,\n",
       "       0, 2, 2, 2, 2, 2, 2, 2, 0, 2, 0, 0, 0, 1, 2, 2, 2, 1, 1, 2, 0, 2,\n",
       "       1, 2, 0, 2, 2, 2, 0, 0, 0, 2, 1, 0, 0, 0, 2, 2, 0, 1, 2, 0, 2, 0,\n",
       "       1, 0, 2, 2, 2, 2, 1, 2, 0, 2, 0, 2, 0, 0, 2, 0, 2, 0, 0, 0, 0, 2,\n",
       "       2, 0, 0, 2, 1, 2, 0, 2, 0, 2, 0, 0, 2, 0, 1, 1, 2, 1, 2, 2, 0, 2,\n",
       "       2, 0, 2, 1, 2, 2, 2, 1, 2, 0])"
      ]
     },
     "execution_count": 32,
     "metadata": {},
     "output_type": "execute_result"
    }
   ],
   "source": [
    "y_true = np.concatenate([y for x, y in val_ds], axis=0)\n",
    "y_true"
   ]
  },
  {
   "cell_type": "code",
   "execution_count": 33,
   "metadata": {},
   "outputs": [
    {
     "data": {
      "text/plain": [
       "<tf.Tensor: shape=(3, 3), dtype=int32, numpy=\n",
       "array([[ 93,   0,   2],\n",
       "       [  0,  44,   1],\n",
       "       [  5,   0, 107]])>"
      ]
     },
     "execution_count": 33,
     "metadata": {},
     "output_type": "execute_result"
    }
   ],
   "source": [
    "confusion_mtx = tf.math.confusion_matrix(y_true, top_pred_ids, num_classes=classes)\n",
    "    # list(ds_test.map(lambda x, y: y)),\n",
    "    # predict_class_label_number(test_data),\n",
    "    # num_classes=len(label_names))\n",
    "    \n",
    "confusion_mtx"
   ]
  },
  {
   "cell_type": "code",
   "execution_count": 34,
   "metadata": {},
   "outputs": [],
   "source": [
    "def show_confusion_matrix(cm, labels):\n",
    "  plt.figure(figsize=(6, 6))\n",
    "  sns.heatmap(cm, xticklabels=labels, yticklabels=labels, \n",
    "              annot=True, fmt='g')\n",
    "  plt.xlabel('Prediction')\n",
    "  plt.ylabel('Label')\n",
    "  plt.show()"
   ]
  },
  {
   "cell_type": "code",
   "execution_count": 35,
   "metadata": {},
   "outputs": [
    {
     "data": {
      "image/png": "[encoded data removed]",
      "text/plain": [
       "<Figure size 600x600 with 2 Axes>"
      ]
     },
     "metadata": {},
     "output_type": "display_data"
    }
   ],
   "source": [
    "show_confusion_matrix(confusion_mtx, labels)"
   ]
  },
  {
   "cell_type": "code",
   "execution_count": 36,
   "metadata": {},
   "outputs": [
    {
     "data": {
      "text/plain": [
       "array([0, 0, 1, 2, 0, 1, 2, 1, 2, 2, 2, 0, 2, 0, 2, 2, 2, 1, 0, 2, 0, 1,\n",
       "       1, 0, 2, 2, 2, 2, 0, 2, 0, 2, 0, 0, 0, 0, 0, 1, 1, 0, 2, 0, 2, 2,\n",
       "       2, 2, 2, 0, 1, 0, 1, 0, 0, 2, 0, 2, 0, 0, 2, 2, 0, 1, 2, 0, 2, 0,\n",
       "       2, 1, 2, 2, 1, 1, 0, 2, 1, 0, 2, 0, 1, 2, 2, 2, 0, 0, 2, 0, 0, 2,\n",
       "       0, 2, 0, 2, 0, 0, 0, 0, 0, 1, 0, 2, 2, 1, 1, 1, 1, 1, 2, 0, 0, 0,\n",
       "       2, 2, 2, 2, 2, 2, 2, 2, 0, 2, 2, 1, 0, 0, 2, 1, 0, 2, 0, 2, 1, 0,\n",
       "       0, 1, 2, 1, 2, 2, 2, 1, 1, 0, 2, 2, 2, 0, 0, 2, 1, 0, 0, 0, 2, 0,\n",
       "       0, 2, 2, 2, 2, 2, 2, 2, 0, 2, 0, 0, 0, 1, 2, 2, 2, 1, 1, 2, 0, 2,\n",
       "       1, 2, 0, 2, 2, 2, 0, 0, 0, 2, 1, 0, 0, 0, 2, 2, 0, 1, 0, 0, 2, 0,\n",
       "       1, 0, 2, 2, 2, 2, 1, 2, 0, 2, 0, 2, 0, 0, 2, 0, 2, 0, 0, 0, 0, 2,\n",
       "       2, 0, 0, 0, 1, 2, 0, 2, 0, 2, 0, 0, 2, 0, 1, 1, 2, 1, 2, 2, 0, 2,\n",
       "       2, 0, 2, 1, 0, 2, 2, 1, 2, 0], dtype=int64)"
      ]
     },
     "execution_count": 36,
     "metadata": {},
     "output_type": "execute_result"
    }
   ],
   "source": [
    "top_pred_ids"
   ]
  },
  {
   "cell_type": "code",
   "execution_count": 37,
   "metadata": {},
   "outputs": [
    {
     "data": {
      "text/plain": [
       "array([[9.99724805e-01, 2.56629628e-05, 2.49509292e-04],\n",
       "       [9.66359556e-01, 5.32680540e-04, 3.31077501e-02],\n",
       "       [4.99079749e-03, 9.69031572e-01, 2.59776227e-02],\n",
       "       [2.00673752e-03, 2.88397586e-03, 9.95109260e-01],\n",
       "       [9.99978662e-01, 5.58580496e-06, 1.57146951e-05],\n",
       "       [2.70153196e-05, 9.99955535e-01, 1.73654043e-05],\n",
       "       [8.47644478e-05, 2.68725416e-05, 9.99888301e-01],\n",
       "       [1.81305723e-03, 9.94672239e-01, 3.51478695e-03],\n",
       "       [5.39970472e-07, 1.45315221e-06, 9.99997973e-01],\n",
       "       [1.55519051e-02, 7.51959975e-04, 9.83696103e-01],\n",
       "       [1.26703926e-05, 2.49182485e-05, 9.99962449e-01],\n",
       "       [6.30325556e-01, 1.74072909e-03, 3.67933720e-01],\n",
       "       [4.78879112e-04, 3.02305067e-04, 9.99218822e-01],\n",
       "       [9.94696856e-01, 4.78556054e-03, 5.17547771e-04],\n",
       "       [6.11745566e-03, 5.86134614e-04, 9.93296444e-01],\n",
       "       [2.70566215e-05, 6.99158227e-06, 9.99965906e-01],\n",
       "       [1.15876501e-04, 1.44655409e-04, 9.99739468e-01],\n",
       "       [3.32196905e-05, 9.99921441e-01, 4.53237772e-05],\n",
       "       [9.99971628e-01, 9.15322835e-06, 1.92488606e-05],\n",
       "       [2.79156840e-04, 3.36122430e-05, 9.99687195e-01],\n",
       "       [9.99710381e-01, 3.74744604e-06, 2.85884336e-04],\n",
       "       [1.78580663e-07, 9.99997854e-01, 2.08492952e-06],\n",
       "       [7.65460485e-04, 9.84215438e-01, 1.50191188e-02],\n",
       "       [9.99971747e-01, 1.88671620e-05, 9.41319468e-06],\n",
       "       [1.51902277e-04, 5.55855695e-05, 9.99792516e-01],\n",
       "       [9.52951177e-06, 1.89956299e-05, 9.99971509e-01],\n",
       "       [3.58620356e-03, 3.46725516e-04, 9.96067107e-01],\n",
       "       [1.07387202e-02, 4.13451868e-04, 9.88847852e-01],\n",
       "       [9.99983072e-01, 5.02060857e-06, 1.19144242e-05],\n",
       "       [1.84781700e-02, 2.18637474e-03, 9.79335487e-01],\n",
       "       [9.98884380e-01, 1.35093229e-04, 9.80475801e-04],\n",
       "       [1.30531173e-02, 1.32821931e-03, 9.85618651e-01],\n",
       "       [9.99843597e-01, 3.23865461e-05, 1.23997423e-04],\n",
       "       [9.99609888e-01, 1.12242611e-04, 2.77905405e-04],\n",
       "       [9.99866247e-01, 7.73454231e-05, 5.63203503e-05],\n",
       "       [9.99525785e-01, 1.01808830e-04, 3.72519862e-04],\n",
       "       [9.96799707e-01, 4.19736345e-04, 2.78056948e-03],\n",
       "       [8.70617339e-04, 9.86688793e-01, 1.24405660e-02],\n",
       "       [3.34992876e-07, 9.99998331e-01, 1.29853072e-06],\n",
       "       [5.72468221e-01, 2.53458181e-03, 4.24997211e-01],\n",
       "       [1.91598556e-05, 6.16186071e-06, 9.99974728e-01],\n",
       "       [9.99673247e-01, 2.40574536e-05, 3.02738044e-04],\n",
       "       [1.38854448e-04, 1.31988281e-05, 9.99847889e-01],\n",
       "       [2.19127145e-02, 3.54698830e-04, 9.77732539e-01],\n",
       "       [3.83871848e-05, 3.91456124e-05, 9.99922514e-01],\n",
       "       [3.68516281e-04, 1.23232836e-04, 9.99508262e-01],\n",
       "       [2.11887382e-05, 2.23569423e-05, 9.99956489e-01],\n",
       "       [9.96792972e-01, 2.15238688e-04, 2.99185910e-03],\n",
       "       [1.26802679e-05, 9.99967217e-01, 2.01064177e-05],\n",
       "       [9.99793112e-01, 1.66291466e-05, 1.90262435e-04],\n",
       "       [1.46432465e-03, 9.28769112e-01, 6.97665289e-02],\n",
       "       [9.99994159e-01, 1.18288688e-06, 4.60647379e-06],\n",
       "       [9.99838352e-01, 3.36748308e-05, 1.27923209e-04],\n",
       "       [5.66364615e-05, 1.23747113e-05, 9.99930978e-01],\n",
       "       [9.94194210e-01, 6.82846876e-05, 5.73753705e-03],\n",
       "       [8.15065578e-03, 3.40595056e-04, 9.91508722e-01],\n",
       "       [9.29316163e-01, 9.26779991e-04, 6.97570145e-02],\n",
       "       [9.99052107e-01, 6.16928446e-05, 8.86159658e-04],\n",
       "       [2.21919345e-05, 3.93557493e-05, 9.99938488e-01],\n",
       "       [1.23988473e-04, 3.39315629e-05, 9.99842048e-01],\n",
       "       [9.99436557e-01, 2.83852452e-04, 2.79590837e-04],\n",
       "       [9.99502721e-04, 9.96606350e-01, 2.39420566e-03],\n",
       "       [1.34739166e-05, 1.01797195e-05, 9.99976397e-01],\n",
       "       [9.99740779e-01, 1.59599804e-05, 2.43220624e-04],\n",
       "       [5.92063252e-08, 2.56395060e-06, 9.99997377e-01],\n",
       "       [9.97684002e-01, 3.15371522e-04, 2.00057728e-03],\n",
       "       [8.26447649e-06, 3.60525119e-05, 9.99955654e-01],\n",
       "       [1.96791021e-07, 9.99994755e-01, 5.05667322e-06],\n",
       "       [1.66376940e-05, 1.30485814e-05, 9.99970317e-01],\n",
       "       [3.11469157e-05, 2.86007744e-05, 9.99940276e-01],\n",
       "       [5.04987314e-04, 9.96466637e-01, 3.02836415e-03],\n",
       "       [4.11780435e-04, 9.99204338e-01, 3.83888895e-04],\n",
       "       [9.99583542e-01, 3.90493187e-05, 3.77386750e-04],\n",
       "       [8.51511431e-04, 9.65433646e-05, 9.99051988e-01],\n",
       "       [2.88297626e-04, 9.98818696e-01, 8.93069780e-04],\n",
       "       [9.99902368e-01, 2.95235859e-05, 6.80555313e-05],\n",
       "       [5.72690042e-04, 7.67903693e-05, 9.99350488e-01],\n",
       "       [9.99593318e-01, 5.45886869e-05, 3.52128700e-04],\n",
       "       [1.12225098e-05, 9.99971151e-01, 1.76423255e-05],\n",
       "       [3.38742866e-05, 1.37682573e-05, 9.99952316e-01],\n",
       "       [3.09084106e-04, 2.23292591e-04, 9.99467671e-01],\n",
       "       [6.74562616e-05, 3.61741841e-05, 9.99896407e-01],\n",
       "       [5.34386337e-01, 1.39913440e-03, 4.64214504e-01],\n",
       "       [9.99884367e-01, 1.46933735e-05, 1.00963975e-04],\n",
       "       [2.33126014e-01, 4.94304113e-03, 7.61930943e-01],\n",
       "       [7.21374512e-01, 6.13661425e-04, 2.78011858e-01],\n",
       "       [9.99775469e-01, 3.01719647e-05, 1.94339184e-04],\n",
       "       [2.66548386e-03, 7.49551546e-05, 9.97259498e-01],\n",
       "       [9.99944091e-01, 5.32848662e-06, 5.05333373e-05],\n",
       "       [1.14311893e-04, 7.24834026e-05, 9.99813259e-01],\n",
       "       [9.99365628e-01, 6.29264905e-05, 5.71433571e-04],\n",
       "       [1.88083440e-01, 6.48582063e-04, 8.11267972e-01],\n",
       "       [9.99849319e-01, 6.39673453e-05, 8.66636037e-05],\n",
       "       [9.80384946e-01, 1.31118123e-03, 1.83038544e-02],\n",
       "       [9.94854271e-01, 6.08806266e-04, 4.53701941e-03],\n",
       "       [9.99945402e-01, 2.52722821e-05, 2.93245557e-05],\n",
       "       [9.81767833e-01, 1.63502933e-04, 1.80687308e-02],\n",
       "       [5.23908413e-04, 9.98176575e-01, 1.29954598e-03],\n",
       "       [9.99899149e-01, 1.37490115e-05, 8.71878874e-05],\n",
       "       [1.17324144e-02, 8.80378473e-04, 9.87387240e-01],\n",
       "       [8.17287639e-02, 2.38250336e-03, 9.15888667e-01],\n",
       "       [4.92646941e-04, 9.84410763e-01, 1.50965778e-02],\n",
       "       [2.84679737e-02, 6.52095675e-01, 3.19436371e-01],\n",
       "       [8.11035454e-04, 9.96722996e-01, 2.46592518e-03],\n",
       "       [2.52744644e-06, 9.99859691e-01, 1.37727402e-04],\n",
       "       [1.66621282e-06, 9.99981046e-01, 1.72581513e-05],\n",
       "       [3.94618080e-04, 3.64070911e-05, 9.99568999e-01],\n",
       "       [9.99692440e-01, 9.31603699e-06, 2.98282277e-04],\n",
       "       [9.96596992e-01, 5.30529011e-04, 2.87238415e-03],\n",
       "       [9.99107063e-01, 2.32419217e-04, 6.60590129e-04],\n",
       "       [1.23137172e-04, 2.08843157e-05, 9.99855995e-01],\n",
       "       [7.34499408e-05, 6.36970071e-05, 9.99862790e-01],\n",
       "       [3.88170406e-03, 6.04601519e-04, 9.95513737e-01],\n",
       "       [2.54478101e-02, 1.62051688e-03, 9.72931683e-01],\n",
       "       [1.37463561e-03, 2.64326838e-04, 9.98361051e-01],\n",
       "       [9.30785201e-04, 4.03661361e-05, 9.99028802e-01],\n",
       "       [4.12044232e-04, 5.71506716e-05, 9.99530792e-01],\n",
       "       [1.12727638e-02, 2.39381654e-04, 9.88487780e-01],\n",
       "       [9.99864817e-01, 8.17355976e-06, 1.26919083e-04],\n",
       "       [8.56470503e-03, 3.09581053e-04, 9.91125762e-01],\n",
       "       [9.95154187e-06, 3.66793429e-05, 9.99953389e-01],\n",
       "       [1.19182304e-03, 9.92764533e-01, 6.04356686e-03],\n",
       "       [9.78247702e-01, 7.96221488e-04, 2.09560022e-02],\n",
       "       [9.78270650e-01, 6.87867927e-04, 2.10416000e-02],\n",
       "       [2.75063235e-03, 1.73666849e-04, 9.97075677e-01],\n",
       "       [1.51639526e-07, 9.99998689e-01, 1.14540012e-06],\n",
       "       [9.99842525e-01, 4.18864402e-05, 1.15645227e-04],\n",
       "       [3.06163798e-07, 2.65327089e-05, 9.99973178e-01],\n",
       "       [9.99961257e-01, 3.53004202e-06, 3.51389172e-05],\n",
       "       [6.22841157e-03, 6.98053394e-04, 9.93073523e-01],\n",
       "       [3.34471497e-06, 9.99985099e-01, 1.15344192e-05],\n",
       "       [9.99179184e-01, 2.24518124e-04, 5.96319966e-04],\n",
       "       [9.99831200e-01, 5.16305008e-05, 1.17136711e-04],\n",
       "       [1.29319596e-04, 9.99607623e-01, 2.63067806e-04],\n",
       "       [1.12360331e-05, 4.26388906e-05, 9.99946117e-01],\n",
       "       [5.40283183e-03, 9.74541187e-01, 2.00559776e-02],\n",
       "       [5.27014360e-02, 1.44122611e-03, 9.45857286e-01],\n",
       "       [9.57024458e-04, 3.36802099e-04, 9.98706222e-01],\n",
       "       [3.30443960e-04, 8.30164572e-05, 9.99586523e-01],\n",
       "       [1.01513808e-06, 9.99993920e-01, 5.03669571e-06],\n",
       "       [1.88741694e-06, 9.99996424e-01, 1.71506781e-06],\n",
       "       [9.99982834e-01, 1.01353698e-05, 7.07608069e-06],\n",
       "       [8.27655476e-03, 6.41073624e-04, 9.91082311e-01],\n",
       "       [1.17204653e-03, 2.13719442e-01, 7.85108507e-01],\n",
       "       [1.15890931e-02, 4.77432972e-04, 9.87933457e-01],\n",
       "       [9.99261677e-01, 1.29998443e-04, 6.08297414e-04],\n",
       "       [9.98284876e-01, 6.59755460e-05, 1.64922373e-03],\n",
       "       [6.67739194e-04, 3.96287185e-04, 9.98935997e-01],\n",
       "       [4.40111180e-04, 9.96338367e-01, 3.22154071e-03],\n",
       "       [9.99599874e-01, 2.87702478e-05, 3.71452130e-04],\n",
       "       [9.99939084e-01, 1.32320074e-05, 4.77273315e-05],\n",
       "       [9.91081595e-01, 4.73463559e-04, 8.44491739e-03],\n",
       "       [4.12905792e-05, 1.19675251e-05, 9.99946713e-01],\n",
       "       [9.67863023e-01, 5.57535503e-04, 3.15794609e-02],\n",
       "       [9.99976277e-01, 9.83877453e-06, 1.38248088e-05],\n",
       "       [8.10578018e-02, 1.53636327e-03, 9.17405784e-01],\n",
       "       [1.04728148e-04, 1.16087613e-05, 9.99883652e-01],\n",
       "       [3.83696373e-04, 1.02316393e-04, 9.99513984e-01],\n",
       "       [2.03580261e-04, 4.00456847e-05, 9.99756396e-01],\n",
       "       [3.08184332e-04, 1.16321367e-04, 9.99575436e-01],\n",
       "       [7.95514188e-06, 2.00620252e-06, 9.99989986e-01],\n",
       "       [7.54216965e-03, 3.72534851e-04, 9.92085278e-01],\n",
       "       [9.97703969e-01, 2.98404950e-04, 1.99764501e-03],\n",
       "       [1.77711644e-03, 7.51165615e-04, 9.97471690e-01],\n",
       "       [9.97108996e-01, 1.17972889e-03, 1.71132793e-03],\n",
       "       [9.97429311e-01, 1.36861810e-04, 2.43383460e-03],\n",
       "       [9.99713957e-01, 2.53622529e-05, 2.60578730e-04],\n",
       "       [1.19961309e-03, 9.81761932e-01, 1.70384236e-02],\n",
       "       [6.14939164e-03, 1.73949506e-04, 9.93676603e-01],\n",
       "       [4.12436086e-04, 9.32160692e-05, 9.99494314e-01],\n",
       "       [2.35939187e-05, 9.43928171e-06, 9.99966979e-01],\n",
       "       [9.42291284e-04, 9.82290566e-01, 1.67672206e-02],\n",
       "       [5.81253055e-08, 9.99998927e-01, 1.06621519e-06],\n",
       "       [1.17046387e-04, 6.01411302e-05, 9.99822795e-01],\n",
       "       [9.99243379e-01, 1.33080495e-04, 6.23606378e-04],\n",
       "       [4.88223537e-04, 1.11871411e-03, 9.98392999e-01],\n",
       "       [6.48099667e-05, 9.99597013e-01, 3.38154583e-04],\n",
       "       [2.52223704e-02, 9.52417438e-04, 9.73825157e-01],\n",
       "       [9.99021053e-01, 4.93141357e-04, 4.85800701e-04],\n",
       "       [3.61982337e-03, 4.10378687e-02, 9.55342352e-01],\n",
       "       [5.27204829e-05, 4.52638924e-05, 9.99902010e-01],\n",
       "       [2.39993697e-05, 1.25890665e-05, 9.99963403e-01],\n",
       "       [9.97575462e-01, 1.39080948e-04, 2.28535384e-03],\n",
       "       [9.99811709e-01, 5.99359992e-05, 1.28308689e-04],\n",
       "       [9.99637485e-01, 2.40824505e-04, 1.21614743e-04],\n",
       "       [3.09825846e-05, 4.37011659e-05, 9.99925256e-01],\n",
       "       [1.05212584e-01, 8.82410467e-01, 1.23769334e-02],\n",
       "       [9.99865413e-01, 5.01273025e-05, 8.44086244e-05],\n",
       "       [9.99909520e-01, 1.89318816e-05, 7.15155256e-05],\n",
       "       [9.99252975e-01, 1.65343517e-05, 7.30476982e-04],\n",
       "       [7.79260008e-04, 6.64707259e-05, 9.99154210e-01],\n",
       "       [2.42240785e-05, 4.44540728e-06, 9.99971271e-01],\n",
       "       [9.88489926e-01, 5.21525100e-04, 1.09886061e-02],\n",
       "       [6.21673848e-07, 9.99993682e-01, 5.67152256e-06],\n",
       "       [8.91957045e-01, 2.28714407e-03, 1.05755761e-01],\n",
       "       [9.99928832e-01, 1.33687581e-05, 5.78551553e-05],\n",
       "       [1.20628522e-06, 5.58011470e-06, 9.99993205e-01],\n",
       "       [9.99745071e-01, 2.41273774e-05, 2.30792110e-04],\n",
       "       [3.37632885e-03, 9.87002909e-01, 9.62072890e-03],\n",
       "       [9.99892354e-01, 3.11214899e-05, 7.65726945e-05],\n",
       "       [3.34013203e-05, 1.70270705e-05, 9.99949574e-01],\n",
       "       [1.27823005e-05, 3.08824565e-05, 9.99956369e-01],\n",
       "       [5.66868403e-04, 5.91235403e-05, 9.99374092e-01],\n",
       "       [1.89717921e-05, 2.73489422e-05, 9.99953628e-01],\n",
       "       [1.98652083e-03, 9.85187888e-01, 1.28254835e-02],\n",
       "       [2.47302675e-03, 4.21825156e-04, 9.97105181e-01],\n",
       "       [9.97502983e-01, 3.82699145e-05, 2.45870114e-03],\n",
       "       [1.04228845e-02, 7.59544608e-04, 9.88817573e-01],\n",
       "       [8.64383340e-01, 7.29351596e-04, 1.34887338e-01],\n",
       "       [1.17657036e-02, 1.66452047e-03, 9.86569703e-01],\n",
       "       [9.99983788e-01, 3.69501186e-06, 1.24637336e-05],\n",
       "       [9.99940038e-01, 2.89680011e-05, 3.10236428e-05],\n",
       "       [1.66705115e-06, 6.85135774e-07, 9.99997616e-01],\n",
       "       [9.99977469e-01, 1.39732692e-05, 8.59558077e-06],\n",
       "       [3.67494295e-07, 2.56842850e-06, 9.99997020e-01],\n",
       "       [9.99084711e-01, 1.66958620e-04, 7.48297374e-04],\n",
       "       [9.99962449e-01, 7.40358291e-06, 3.01110849e-05],\n",
       "       [9.99834299e-01, 5.66348172e-05, 1.09012297e-04],\n",
       "       [8.27168584e-01, 2.40526628e-02, 1.48778647e-01],\n",
       "       [2.99355686e-02, 1.10556080e-03, 9.68958855e-01],\n",
       "       [7.20594617e-05, 1.41243087e-04, 9.99786675e-01],\n",
       "       [9.99993205e-01, 2.55378336e-06, 4.24373548e-06],\n",
       "       [9.99423265e-01, 2.19267949e-05, 5.54851023e-04],\n",
       "       [8.87370348e-01, 2.09059310e-03, 1.10539071e-01],\n",
       "       [4.01824508e-07, 9.99998808e-01, 8.64507740e-07],\n",
       "       [3.34898534e-04, 4.52507702e-05, 9.99619842e-01],\n",
       "       [9.99484301e-01, 9.76498850e-05, 4.17954347e-04],\n",
       "       [4.53311759e-06, 5.81013155e-05, 9.99937415e-01],\n",
       "       [9.99631166e-01, 2.12534760e-05, 3.47617519e-04],\n",
       "       [6.34387927e-03, 3.48774483e-04, 9.93307412e-01],\n",
       "       [8.76310706e-01, 2.60910811e-03, 1.21080168e-01],\n",
       "       [9.97150481e-01, 1.72828950e-04, 2.67669046e-03],\n",
       "       [2.45660485e-05, 1.16358160e-05, 9.99963760e-01],\n",
       "       [9.81090784e-01, 4.84551827e-04, 1.84246637e-02],\n",
       "       [9.11339794e-06, 9.99934673e-01, 5.62277091e-05],\n",
       "       [1.48319950e-05, 9.99962807e-01, 2.23972274e-05],\n",
       "       [5.11205234e-02, 1.01102772e-03, 9.47868407e-01],\n",
       "       [3.08155904e-07, 9.99995708e-01, 3.97992926e-06],\n",
       "       [1.20069711e-02, 8.18992790e-04, 9.87174034e-01],\n",
       "       [1.14350883e-06, 1.04394155e-06, 9.99997854e-01],\n",
       "       [9.99875665e-01, 3.25264045e-05, 9.17656362e-05],\n",
       "       [1.80214030e-07, 1.00171656e-06, 9.99998808e-01],\n",
       "       [4.12048939e-05, 1.70528074e-05, 9.99941707e-01],\n",
       "       [9.99936461e-01, 3.52456209e-06, 5.99265550e-05],\n",
       "       [1.30005079e-04, 4.65515659e-05, 9.99823511e-01],\n",
       "       [4.79900016e-04, 9.98253644e-01, 1.26638170e-03],\n",
       "       [9.53628659e-01, 2.79503199e-03, 4.35762741e-02],\n",
       "       [3.12392876e-05, 2.92126479e-05, 9.99939561e-01],\n",
       "       [1.16387434e-01, 1.58075662e-03, 8.82031858e-01],\n",
       "       [7.03059413e-05, 9.99757111e-01, 1.72547574e-04],\n",
       "       [4.61042109e-05, 2.86973063e-05, 9.99925137e-01],\n",
       "       [9.96998072e-01, 1.24035083e-04, 2.87783076e-03]], dtype=float32)"
      ]
     },
     "execution_count": 37,
     "metadata": {},
     "output_type": "execute_result"
    }
   ],
   "source": [
    "val_predictions"
   ]
  },
  {
   "attachments": {},
   "cell_type": "markdown",
   "metadata": {},
   "source": [
    "## Code reserved for troubleshooting"
   ]
  },
  {
   "cell_type": "code",
   "execution_count": 38,
   "metadata": {},
   "outputs": [],
   "source": [
    "def mobilenet_v1_keras(input_shape, classes=classes, alpha=alpha):\n",
    "    model = tf.keras.applications.mobilenet.MobileNet(\n",
    "        input_shape=input_shape,\n",
    "        alpha=alpha,\n",
    "        depth_multiplier=1,\n",
    "        dropout=0.001,\n",
    "        include_top=True,\n",
    "        weights=None, #'imagenet'\n",
    "        input_tensor=None,\n",
    "        pooling=None,\n",
    "        classes=classes,\n",
    "        classifier_activation='softmax',\n",
    "        #**kwargs\n",
    "    )\n",
    "\n",
    "    #model._name = model.name + \"_keras\" # model.name cannot be overritten\n",
    "\n",
    "    return model\n",
    "    #model = mobilenet_v1_keras((IMG_WIDTH, IMG_HEIGHT, 3), classes=classes, alpha=alpha)"
   ]
  },
  {
   "cell_type": "code",
   "execution_count": 39,
   "metadata": {},
   "outputs": [],
   "source": [
    "#os.environ[\"WANDB_MODE\"] = \"online\"\n",
    "def train_model(model):\n",
    "\n",
    "        # solve issue from: https://github.com/wandb/wandb/issues/3536\n",
    "        # if len(wandb.patched[\"tensorboard\"]) > 0:\n",
    "        #         wandb.tensorboard.unpatch()\n",
    "                \n",
    "        # Configure Tensorboard root log directory to read the debugging information\n",
    "        #wandb.tensorboard.patch(root_logdir=root_logdir)\n",
    "        # wandb.tensorboard.patch(root_logdir=\"wandb.run.dir\")\n",
    "        \n",
    "        # wandb.init(\n",
    "        #         # Set the project where this run will be logged\n",
    "        #         project=PROJECT, \n",
    "        #         # Track hyperparameters and run metadata\n",
    "        #         #config={\n",
    "        #         #\"learning_rate\": LR,\n",
    "        #         #\"epochs\": EPOCHS,\n",
    "        #         #},\n",
    "        #         sync_tensorboard=True\n",
    "        #         )\n",
    "\n",
    "\n",
    "\n",
    "        # config = wandb.config\n",
    "        # # Specify the configuration variables\n",
    "        # config.batch_size = BATCH_SIZE\n",
    "        # config.dropout =DROPOUT\n",
    "        # config.learn_rate = LR\n",
    "        # #config.decay = 1e-6\n",
    "        # #config.momentum = 0.9\n",
    "        # config.epochs = EPOCHS\n",
    "        # config.classes = classes\n",
    "        \n",
    "\n",
    "        # enable Tensorflow Debugging\n",
    "        #tf.debugging.experimental.enable_dump_debug_info(\"./logs/debug\", \n",
    "        #        tensor_debug_mode=\"FULL_HEALTH\", circular_buffer_size=-1)\n",
    "\n",
    "        #model = mobilenet\n",
    "        model.compile(optimizer='adam',\n",
    "                        loss='sparse_categorical_crossentropy',\n",
    "                        metrics=['accuracy'])\n",
    "\n",
    "        logdir = os.path.join(\"logs\", datetime.datetime.now().strftime(\"%Y%m%d-%H%M%S\"))\n",
    "        #tensorboard_callback = tf.keras.callbacks.TensorBoard(log_dir= wandb.run.dir, histogram_freq=10, update_freq=\"epoch\") #, profile_batch=\"10, 20\")\n",
    "        tensorboard_callback = tf.keras.callbacks.TensorBoard(log_dir= logdir) #, histogram_freq=1)\n",
    "        #wandb_callback = WandbCallback()# input_type=\"image\", labels=labels) #, validation_data = val_ds.as_numpy_iterator())\n",
    "\n",
    "        early_stopping = EarlyStopping(monitor=\"val_accuracy\", patience=50)\n",
    "\n",
    "        #checkpoint = ModelCheckpoint(\"my_tiny_model\", save_weights_only=True)\n",
    "\n",
    "        callbacks =[\n",
    "                #tensorboard_callback,\n",
    "                #wandb_callback,\n",
    "                #WandbMetricsLogger(),\n",
    "                #checkpoint,\n",
    "                #early_stopping\n",
    "        ]\n",
    "\n",
    "        history = model.fit(train_ds,\n",
    "                epochs=EPOCHS, \n",
    "                validation_data=val_ds, \n",
    "                callbacks=callbacks\n",
    "        )\n",
    "\n",
    "        # wandb.log({\n",
    "        #         \"loss\": history.history[\"loss\"],\n",
    "        #         \"accuracy\": history.history[\"accuracy\"],\n",
    "        #         \"val_loss\": history.history[\"val_loss\"],\n",
    "        #         \"val_accuracy\": history.history[\"val_accuracy\"],                                \n",
    "        # })\n",
    "        \n",
    "        #wandb.finish()\n",
    "        return history, model\n"
   ]
  },
  {
   "cell_type": "code",
   "execution_count": 40,
   "metadata": {},
   "outputs": [],
   "source": [
    "# model.compile(optimizer='adam',\n",
    "#                 loss='sparse_categorical_crossentropy',\n",
    "#                 metrics=['accuracy'])"
   ]
  },
  {
   "cell_type": "code",
   "execution_count": 41,
   "metadata": {},
   "outputs": [],
   "source": [
    "# history = model.fit(train_ds,\n",
    "#                 epochs=EPOCHS, \n",
    "#                 validation_data=val_ds\n",
    "#         )"
   ]
  },
  {
   "cell_type": "code",
   "execution_count": 42,
   "metadata": {},
   "outputs": [
    {
     "data": {
      "text/plain": [
       "dict_keys(['loss', 'accuracy', 'val_loss', 'val_accuracy'])"
      ]
     },
     "execution_count": 42,
     "metadata": {},
     "output_type": "execute_result"
    }
   ],
   "source": [
    "#history.history[\"loss\"]\n",
    "history.history.keys()"
   ]
  },
  {
   "cell_type": "code",
   "execution_count": 43,
   "metadata": {},
   "outputs": [
    {
     "data": {
      "text/plain": [
       "{'verbose': 1, 'epochs': 100, 'steps': 64}"
      ]
     },
     "execution_count": 43,
     "metadata": {},
     "output_type": "execute_result"
    }
   ],
   "source": [
    "history.params"
   ]
  },
  {
   "cell_type": "code",
   "execution_count": null,
   "metadata": {},
   "outputs": [],
   "source": []
  }
 ],
 "metadata": {
  "kernelspec": {
   "display_name": "tiny_cnn_5",
   "language": "python",
   "name": "python3"
  },
  "language_info": {
   "codemirror_mode": {
    "name": "ipython",
    "version": 3
   },
   "file_extension": ".py",
   "mimetype": "text/x-python",
   "name": "python",
   "nbconvert_exporter": "python",
   "pygments_lexer": "ipython3",
   "version": "3.10.6"
  },
  "orig_nbformat": 4,
  "vscode": {
   "interpreter": {
    "hash": "4b362e3f7439b35b0bc0fa2e0c3a5b3cc0154c779cd4216b658aa3553d61d067"
   }
  }
 },
 "nbformat": 4,
 "nbformat_minor": 2
}
