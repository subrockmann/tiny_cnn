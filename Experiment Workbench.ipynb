{
 "cells": [
  {
   "cell_type": "markdown",
   "metadata": {},
   "source": [
    "# Experiment Workbench"
   ]
  },
  {
   "cell_type": "code",
   "execution_count": 1,
   "metadata": {},
   "outputs": [],
   "source": [
    "import os, sys, math, datetime\n",
    "import pathlib\n",
    "from pathlib import Path\n",
    "import numpy as np\n",
    "import random\n",
    "from matplotlib import pyplot as plt\n",
    "import PIL\n",
    "import PIL.Image\n",
    "import seaborn as sns\n",
    "\n",
    "import tensorflow as tf\n",
    "import tensorflow_datasets as tfds\n",
    "from tensorflow import keras\n",
    "from tensorflow.keras.layers import Input, Dense, Flatten, Conv2D,DepthwiseConv2D, MaxPooling2D, AvgPool2D, GlobalAveragePooling2D, BatchNormalization, Concatenate\n",
    "from tensorflow.keras.layers import ReLU\n",
    "from tensorflow.keras.models import Model\n",
    "from tensorflow.keras.callbacks import ModelCheckpoint, EarlyStopping, LearningRateScheduler\n",
    " \n",
    "# Import the necessary MLTK APIs\n",
    "from mltk.core import view_model, summarize_model, profile_model\n",
    "\n",
    "# import workbench.config.config\n",
    "from workbench.config.config import initialize\n",
    "from workbench.utils.utils import create_filepaths\n",
    "from workbench.utils.utils import parse_model_name\n",
    "\n",
    "#from dotenv import load_dotenv\n",
    "import wandb\n",
    "from wandb.keras import WandbMetricsLogger, WandbModelCheckpoint\n",
    "#import deeplake\n"
   ]
  },
  {
   "cell_type": "code",
   "execution_count": null,
   "metadata": {},
   "outputs": [],
   "source": [
    "\n"
   ]
  },
  {
   "cell_type": "code",
   "execution_count": 2,
   "metadata": {},
   "outputs": [
    {
     "name": "stdout",
     "output_type": "stream",
     "text": [
      "Tensorflow version 2.10.0\n",
      "Found GPU at: /device:GPU:0\n"
     ]
    }
   ],
   "source": [
    "print(\"Tensorflow version \" + tf.__version__)\n",
    "AUTOTUNE = tf.data.AUTOTUNE\n",
    "\n",
    "# Confirm that TensorFlow can access GPU\n",
    "device_name = tf.test.gpu_device_name()\n",
    "if not device_name:\n",
    "  raise SystemError('GPU device not found')\n",
    "print('Found GPU at: {}'.format(device_name))"
   ]
  },
  {
   "cell_type": "code",
   "execution_count": 3,
   "metadata": {},
   "outputs": [],
   "source": [
    "# TODO:\n",
    "\n",
    "# Add learning rate schedule\n",
    "\n",
    "# tf.compat.v1.disable_eager_execution()"
   ]
  },
  {
   "cell_type": "code",
   "execution_count": 4,
   "metadata": {},
   "outputs": [],
   "source": [
    "# DANGER ZONE: Disable warning messages\n",
    "\n",
    "import absl.logging\n",
    "absl.logging.set_verbosity(absl.logging.ERROR)"
   ]
  },
  {
   "cell_type": "code",
   "execution_count": 5,
   "metadata": {},
   "outputs": [],
   "source": [
    "\n",
    "\n",
    "# set the random seeds\n",
    "os.environ[\"TF_CUDNN_DETERMINISTIC\"]= \"1\"\n",
    "random.seed(hash(\"setting_random seeds\") % 2**32 -1)\n",
    "np.random.seed(hash(\"improves reproducibility\") % 2**32 -1)\n",
    "tf.random.set_seed(hash(\"by removing stochasticity\") %2 *32 -1 )"
   ]
  },
  {
   "cell_type": "code",
   "execution_count": 6,
   "metadata": {},
   "outputs": [],
   "source": [
    "models_dir = initialize()"
   ]
  },
  {
   "cell_type": "markdown",
   "metadata": {},
   "source": [
    "# Get the model"
   ]
  },
  {
   "cell_type": "code",
   "execution_count": 7,
   "metadata": {
    "tags": [
     "parameters"
    ]
   },
   "outputs": [],
   "source": [
    "global model_name\n",
    "model_name = \"efficientNetB0_1_96_c1_o3_keras\"\n",
    "#model_name = \"mobilenetv1_0.1_96_c3_o3_l1\""
   ]
  },
  {
   "cell_type": "code",
   "execution_count": 8,
   "metadata": {},
   "outputs": [
    {
     "name": "stdout",
     "output_type": "stream",
     "text": [
      "i:\\tinyml\\tiny_cnn\\models\n"
     ]
    }
   ],
   "source": [
    "models_path, models_summary_path, models_image_path, models_layer_df_path, models_tf_path, models_tflite_path, models_tflite_opt_path = create_filepaths(model_name)"
   ]
  },
  {
   "cell_type": "code",
   "execution_count": 9,
   "metadata": {},
   "outputs": [],
   "source": [
    "model = keras.models.load_model(models_tf_path)"
   ]
  },
  {
   "cell_type": "code",
   "execution_count": 10,
   "metadata": {},
   "outputs": [],
   "source": [
    "global base_model_name\n",
    "global alpha\n",
    "global resolution\n",
    "global channels\n",
    "global classes\n",
    "global variation\n",
    "global early_stopping_patience"
   ]
  },
  {
   "cell_type": "code",
   "execution_count": 11,
   "metadata": {},
   "outputs": [],
   "source": [
    "base_model_name, alpha, resolution, channels, classes, variation = model_name.split(\"_\")"
   ]
  },
  {
   "cell_type": "code",
   "execution_count": 12,
   "metadata": {},
   "outputs": [],
   "source": [
    "alpha = float(alpha)\n",
    "resolution = int(resolution)\n",
    "classes = int(classes.strip(\"o\"))"
   ]
  },
  {
   "cell_type": "code",
   "execution_count": 13,
   "metadata": {},
   "outputs": [],
   "source": [
    "# Start a Tensorboard session\n",
    "%load_ext tensorboard"
   ]
  },
  {
   "cell_type": "code",
   "execution_count": 14,
   "metadata": {
    "tags": [
     "parameters"
    ]
   },
   "outputs": [],
   "source": [
    "#os.environ['WANDB_NOTEBOOK_NAME'] = 'Experiment Workbench'\n",
    "\n",
    "IMG_HEIGHT = resolution\n",
    "IMG_WIDTH = resolution\n",
    "BATCH_SIZE = 32\n",
    "EPOCHS = 100\n",
    "#LOGGING_STEPS = 64\n",
    "MOMENTUM = 0.9\n",
    "LR = 0.001\n",
    "DROPOUT = 0.5\n",
    "early_stopping_patience = 30\n",
    "\n",
    "PROJECT = base_model_name\n",
    "#PROJECT = \"tiny_cnn troubleshooting\"\n",
    "SEED = 42\n",
    "tf.random.set_seed(SEED) # global seed for tensorflow random parts, like dropout\n",
    "shuffle_seed = 42"
   ]
  },
  {
   "cell_type": "markdown",
   "metadata": {},
   "source": [
    "# Prepare the Lemon Quality Dataset"
   ]
  },
  {
   "cell_type": "code",
   "execution_count": 15,
   "metadata": {},
   "outputs": [
    {
     "data": {
      "text/plain": [
       "True"
      ]
     },
     "execution_count": 15,
     "metadata": {},
     "output_type": "execute_result"
    }
   ],
   "source": [
    "dataset_path = Path.cwd().joinpath(\"datasets\", \"lemon_dataset\")\n",
    "dataset_path.exists()"
   ]
  },
  {
   "cell_type": "code",
   "execution_count": 16,
   "metadata": {},
   "outputs": [],
   "source": [
    "def get_lemon_quality_dataset(dataset_path, img_width, img_height, batch_size, channels, normalize=True):\n",
    "    \"\"\" Fetches the lemon quality dataset and prints dataset info. It normalizes the image data to range [0,1] by default.\n",
    "\n",
    "    Args: \n",
    "        dataset_path (Path): the file location of the dataset. Subfolders \"train\", \"test\", and \"val\" are expected.\n",
    "        normalize (boolean): Normalizes the image data to range [0, 1]. Default: True\n",
    "\n",
    "    Returns:\n",
    "        (train_ds, val_ds, test_ds, class_names) (tuple(tf.datasets)): Tensorflow datasets for train, validation and test.\n",
    "    \n",
    "    \"\"\"\n",
    "    if dataset_path.exists():\n",
    "        try:\n",
    "            train_dir = dataset_path.joinpath(\"train\")\n",
    "            val_dir = dataset_path.joinpath( \"val\")\n",
    "            test_dir = dataset_path.joinpath( \"test\")\n",
    "        except:\n",
    "            print(f\"Please check the folder structure of {dataset_path}.\")\n",
    "            raise\n",
    "\n",
    "    channels = int(channels.strip(\"c\"))\n",
    "    if channels==1:\n",
    "        color_mode = \"grayscale\"\n",
    "    else:\n",
    "        color_mode = \"rgb\" \n",
    "\n",
    "    # create the labels list to avoid inclusion of .ipynb checkpoints\n",
    "    #labels = [\"bad_quality\", \"empty_background\", \"good_quality\"]\n",
    "\n",
    "    print(\"Preparing training dataset...\")        \n",
    "    train_ds = tf.keras.utils.image_dataset_from_directory(\n",
    "        train_dir,\n",
    "        subset=None,\n",
    "        seed=shuffle_seed,\n",
    "        image_size=((img_height, img_width)),\n",
    "        #labels=labels,\n",
    "        batch_size=batch_size,\n",
    "        color_mode=color_mode)\n",
    "    \n",
    "\n",
    "    class_names = train_ds.class_names\n",
    "\n",
    "\n",
    "    print(\"Preparing validation dataset...\")    \n",
    "    val_ds = tf.keras.utils.image_dataset_from_directory(\n",
    "        val_dir,\n",
    "        subset=None,\n",
    "        seed=shuffle_seed,\n",
    "        image_size=(img_height, img_width),\n",
    "        batch_size=batch_size,\n",
    "        color_mode=color_mode)\n",
    "    \n",
    "\n",
    "    print(\"Preparing test dataset...\")    \n",
    "    test_ds = tf.keras.utils.image_dataset_from_directory(\n",
    "        test_dir,\n",
    "        subset=None,\n",
    "        seed=shuffle_seed,\n",
    "        image_size=(img_height, img_width),\n",
    "        batch_size=batch_size,\n",
    "        color_mode=color_mode)\n",
    "    \n",
    "    # Create a data augmentation stage with horizontal flipping, rotations, zooms\n",
    "    data_augmentation = keras.Sequential(\n",
    "        [\n",
    "            tf.keras.layers.RandomFlip(\"horizontal\"),\n",
    "            tf.keras.layers.RandomRotation(0.1),\n",
    "            tf.keras.layers.RandomZoom(0.1),\n",
    "        ]\n",
    "        )\n",
    "\n",
    "    #train_ds= train_ds.map(lambda x, y: (data_augmentation(x), y), num_parallel_calls=tf.data.AUTOTUNE )\n",
    "\n",
    "    \n",
    "    # Normalize the data to the range [0, 1]\n",
    "    if normalize:\n",
    "        normalization_layer = tf.keras.layers.Rescaling(1./255, offset=-1)\n",
    "\n",
    "        train_ds= train_ds.map(lambda x, y: (normalization_layer(x), y), num_parallel_calls=tf.data.AUTOTUNE)\n",
    "        val_ds= val_ds.map(lambda x, y: (normalization_layer(x), y), num_parallel_calls=tf.data.AUTOTUNE)\n",
    "        test_ds= test_ds.map(lambda x, y: (normalization_layer(x), y), num_parallel_calls=tf.data.AUTOTUNE)\n",
    "    else:\n",
    "        pass\n",
    "\n",
    "    print (f\"Class names: {class_names}\")\n",
    "    print(train_ds.element_spec)\n",
    "    print(f\"Normalize: {normalize}\")\n",
    "    return (train_ds, val_ds, test_ds, class_names)"
   ]
  },
  {
   "cell_type": "code",
   "execution_count": 17,
   "metadata": {},
   "outputs": [
    {
     "data": {
      "text/plain": [
       "'c1'"
      ]
     },
     "execution_count": 17,
     "metadata": {},
     "output_type": "execute_result"
    }
   ],
   "source": [
    "channels"
   ]
  },
  {
   "cell_type": "code",
   "execution_count": 18,
   "metadata": {},
   "outputs": [
    {
     "name": "stdout",
     "output_type": "stream",
     "text": [
      "Preparing training dataset...\n",
      "Found 2021 files belonging to 3 classes.\n",
      "Preparing validation dataset...\n",
      "Found 252 files belonging to 3 classes.\n",
      "Preparing test dataset...\n",
      "Found 255 files belonging to 3 classes.\n",
      "Class names: ['bad_quality', 'empty_background', 'good_quality']\n",
      "(TensorSpec(shape=(None, 96, 96, 1), dtype=tf.float32, name=None), TensorSpec(shape=(None,), dtype=tf.int32, name=None))\n",
      "Normalize: True\n"
     ]
    }
   ],
   "source": [
    "train_ds, val_ds, test_ds, labels = get_lemon_quality_dataset(dataset_path, IMG_WIDTH, IMG_HEIGHT, BATCH_SIZE, channels)"
   ]
  },
  {
   "cell_type": "code",
   "execution_count": 19,
   "metadata": {},
   "outputs": [
    {
     "name": "stdout",
     "output_type": "stream",
     "text": [
      "['bad_quality', 'empty_background', 'good_quality']\n"
     ]
    },
    {
     "data": {
      "image/png": "[encoded data removed]",
      "text/plain": [
       "<Figure size 1000x1000 with 9 Axes>"
      ]
     },
     "metadata": {},
     "output_type": "display_data"
    }
   ],
   "source": [
    "class_names = labels\n",
    "print(class_names)\n",
    "\n",
    "plt.figure(figsize=(10, 10))\n",
    "for images, labels in train_ds.take(1):\n",
    "  for i in range(9):\n",
    "    ax = plt.subplot(3, 3, i + 1)\n",
    "    plt.imshow(images[i].numpy().astype(\"uint8\"))\n",
    "    plt.title(class_names[labels[i]])\n",
    "    plt.axis(\"off\")"
   ]
  },
  {
   "cell_type": "code",
   "execution_count": 20,
   "metadata": {},
   "outputs": [
    {
     "data": {
      "text/plain": [
       "<ParallelMapDataset element_spec=(TensorSpec(shape=(None, 96, 96, 1), dtype=tf.float32, name=None), TensorSpec(shape=(None,), dtype=tf.int32, name=None))>"
      ]
     },
     "execution_count": 20,
     "metadata": {},
     "output_type": "execute_result"
    }
   ],
   "source": [
    "train_ds"
   ]
  },
  {
   "cell_type": "code",
   "execution_count": 21,
   "metadata": {},
   "outputs": [
    {
     "name": "stdout",
     "output_type": "stream",
     "text": [
      "(32, 96, 96, 1)\n",
      "(32,)\n",
      "tf.Tensor([0 2 1 0 0 2 0 0 2 0 2 0 0 1 0 1 2 0 0 0 2 1 0 2 1 0 1 0 2 2 0 0], shape=(32,), dtype=int32)\n"
     ]
    }
   ],
   "source": [
    "for image_batch, labels_batch in train_ds:\n",
    "    print(image_batch.shape)\n",
    "    print(labels_batch.shape)\n",
    "    print(labels_batch)\n",
    "    break"
   ]
  },
  {
   "cell_type": "code",
   "execution_count": 22,
   "metadata": {},
   "outputs": [],
   "source": [
    "# classes = len(labels)\n",
    "# print(f\"The dataset contains {classes } classes.\")"
   ]
  },
  {
   "cell_type": "markdown",
   "metadata": {},
   "source": [
    "# Define the model"
   ]
  },
  {
   "cell_type": "code",
   "execution_count": 23,
   "metadata": {},
   "outputs": [],
   "source": [
    "logdir = os.path.join(\"logs\", model_name, datetime.datetime.now().strftime(\"%Y%m%d-%H%M%S\"))\n",
    "root_logdir = os.getcwd()"
   ]
  },
  {
   "cell_type": "code",
   "execution_count": 24,
   "metadata": {},
   "outputs": [],
   "source": [
    "#wandb.__version__"
   ]
  },
  {
   "cell_type": "code",
   "execution_count": 25,
   "metadata": {},
   "outputs": [],
   "source": [
    "tf.keras.backend.clear_session()\n",
    "\n",
    "# optimize the data flow\n",
    "AUTOTUNE = tf.data.AUTOTUNE\n",
    "#train_ds = train_ds.cache().prefetch(AUTOTUNE)\n",
    "train_ds = train_ds.prefetch(AUTOTUNE)\n",
    "val_ds = val_ds.cache().prefetch(AUTOTUNE)"
   ]
  },
  {
   "cell_type": "code",
   "execution_count": 26,
   "metadata": {},
   "outputs": [],
   "source": [
    "#api = wandb.Api()\n",
    "api = wandb.Api(timeout=19)"
   ]
  },
  {
   "cell_type": "code",
   "execution_count": 27,
   "metadata": {},
   "outputs": [],
   "source": [
    "# code taken from https://www.tensorflow.org/guide/keras/custom_callback#examples_of_keras_callback_applications\n",
    "\n",
    "class EarlyStoppingAtMinLoss(keras.callbacks.Callback):\n",
    "    \"\"\"Stop training when the loss is at its min, i.e. the loss stops decreasing.\n",
    "\n",
    "  Arguments:\n",
    "      patience: Number of epochs to wait after min has been hit. After this\n",
    "      number of no improvement, training stops.\n",
    "  \"\"\"\n",
    "\n",
    "    def __init__(self, patience=0):\n",
    "        super(EarlyStoppingAtMinLoss, self).__init__()\n",
    "        self.patience = patience\n",
    "        # best_weights to store the weights at which the minimum loss occurs.\n",
    "        self.best_weights = None\n",
    "\n",
    "    def on_train_begin(self, logs=None):\n",
    "        # The number of epoch it has waited when loss is no longer minimum.\n",
    "        self.wait = 0\n",
    "        # The epoch the training stops at.\n",
    "        self.stopped_epoch = 0\n",
    "        # Initialize the best as infinity.\n",
    "        self.best = np.Inf\n",
    "\n",
    "    def on_epoch_end(self, epoch, logs=None):\n",
    "        current = logs.get(\"loss\")\n",
    "        if np.less(current, self.best):\n",
    "            self.best = current\n",
    "            self.wait = 0\n",
    "            # Record the best weights if current results is better (less).\n",
    "            self.best_weights = self.model.get_weights()\n",
    "        else:\n",
    "            self.wait += 1\n",
    "            if self.wait >= self.patience:\n",
    "                self.stopped_epoch = epoch\n",
    "                self.model.stop_training = True\n",
    "                print(\"Restoring model weights from the end of the best epoch.\")\n",
    "                self.model.set_weights(self.best_weights)\n",
    "\n",
    "    def on_train_end(self, logs=None):\n",
    "        if self.stopped_epoch > 0:\n",
    "            print(\"Epoch %05d: early stopping\" % (self.stopped_epoch + 1))\n"
   ]
  },
  {
   "cell_type": "code",
   "execution_count": 28,
   "metadata": {},
   "outputs": [],
   "source": [
    "class EarlyStoppingAtMaxValAccuracy(keras.callbacks.Callback):\n",
    "    \"\"\"Stop training when the loss is at its min, i.e. the loss stops decreasing.\n",
    "\n",
    "  Arguments:\n",
    "      patience: Number of epochs to wait after max has been hit. After this\n",
    "      number of no improvement, training stops.\n",
    "  \"\"\"\n",
    "\n",
    "    def __init__(self, patience=30):\n",
    "        super(EarlyStoppingAtMaxValAccuracy, self).__init__()\n",
    "        self.patience = patience\n",
    "        # best_weights to store the weights at which the minimum loss occurs.\n",
    "        self.best_weights = None\n",
    "\n",
    "    def on_train_begin(self, logs=None):\n",
    "        # The number of epoch it has waited when loss is no longer minimum.\n",
    "        self.wait = 0\n",
    "        # The epoch the training stops at.\n",
    "        self.stopped_epoch = 0\n",
    "        # Initialize the best as infinity.\n",
    "        self.best = 0\n",
    "        self.best_epoch = 0\n",
    "        self.best_epoch_loss = np.Infinity\n",
    "\n",
    "    def on_epoch_end(self, epoch, logs=None):\n",
    "        current = logs.get(\"val_accuracy\")\n",
    "        if np.greater(current, self.best):\n",
    "            self.best = current\n",
    "            self.best_epoch = epoch\n",
    "            self.best_epoch_loss = logs.get(\"val_loss\")\n",
    "            self.wait = 0\n",
    "            # Record the best weights if current results is better (less).\n",
    "            self.best_weights = self.model.get_weights()\n",
    "        else:\n",
    "            self.wait += 1\n",
    "            if self.wait >= self.patience:\n",
    "                self.stopped_epoch = epoch\n",
    "                self.model.stop_training = True\n",
    "                print(\"Restoring model weights from the end of the best epoch.\")\n",
    "                self.model.set_weights(self.best_weights)\n",
    "\n",
    "        metrics = dict()\n",
    "        metrics[\"best_epoch\"] = self.best_epoch\n",
    "        metrics[\"best_val_accuracy\"] = self.best\n",
    "        metrics[\"best_epoch_loss\"] = self.best_epoch_loss\n",
    "\n",
    "        wandb.log(metrics)\n",
    "\n",
    "\n",
    "\n",
    "    def on_train_end(self, logs=None):\n",
    "        if self.stopped_epoch > 0:\n",
    "            print(\"Epoch %05d: early stopping\" % (self.stopped_epoch + 1))\n",
    "        \n"
   ]
  },
  {
   "cell_type": "code",
   "execution_count": 29,
   "metadata": {},
   "outputs": [],
   "source": [
    "#os.environ[\"WANDB_MODE\"] = \"online\"\n",
    "os.environ[\"WANDB_MODE\"] = \"offline\"\n",
    "def train_model_wandb(model):\n",
    "\n",
    "        # solve issue from: https://github.com/wandb/wandb/issues/3536\n",
    "        if len(wandb.patched[\"tensorboard\"]) > 0:\n",
    "                wandb.tensorboard.unpatch()\n",
    "                \n",
    "        # Configure Tensorboard root log directory to read the debugging information\n",
    "        wandb.tensorboard.patch(root_logdir=root_logdir)\n",
    "        # wandb.tensorboard.patch(root_logdir=\"wandb.run.dir\")\n",
    "        \n",
    "        # Generate run ids\n",
    "        id = wandb.util.generate_id()\n",
    "\n",
    "        run = wandb.init(\n",
    "                # Set the project where this run will be logged\n",
    "                project=PROJECT, \n",
    "                id = id, \n",
    "                resume=\"allow\",\n",
    "                sync_tensorboard=True\n",
    "                )\n",
    "\n",
    "        # Specify the configuration variables\n",
    "        config = wandb.config\n",
    "        \n",
    "        config.batch_size = BATCH_SIZE\n",
    "        #config.dropout =DROPOUT\n",
    "        config.learn_rate = LR\n",
    "        config.momentum = MOMENTUM\n",
    "        #config.decay = 1e-6\n",
    "        config.epochs = EPOCHS\n",
    "        config.classes = classes\n",
    "        config.id = id\n",
    "        config.architecture = model_name\n",
    "        \n",
    "\n",
    "        # enable Tensorflow Debugging\n",
    "        #tf.debugging.experimental.enable_dump_debug_info(\"./logs/debug\", \n",
    "        #        tensor_debug_mode=\"FULL_HEALTH\", circular_buffer_size=-1)\n",
    "\n",
    "        optimizer = tf.keras.optimizers.SGD(learning_rate=LR, momentum=MOMENTUM)\n",
    "        config.optimizer = optimizer._name\n",
    "\n",
    "        model.compile(optimizer=optimizer,\n",
    "                        loss='sparse_categorical_crossentropy',\n",
    "                        metrics=['accuracy'])\n",
    "\n",
    "        logdir = os.path.join(\"logs\", datetime.datetime.now().strftime(\"%Y%m%d-%H%M%S\"))\n",
    "        tensorboard_callback = tf.keras.callbacks.TensorBoard(log_dir= wandb.run.dir, histogram_freq=10, update_freq=\"epoch\") #, profile_batch=\"10, 20\")\n",
    "        #tensorboard_callback = tf.keras.callbacks.TensorBoard(log_dir= logdir, histogram_freq=1)\n",
    "        #wandb_callback = WandbCallback()# input_type=\"image\", labels=labels) #, validation_data = val_ds.as_numpy_iterator())\n",
    "\n",
    "        def lr_schedule(epoch):\n",
    "                \"\"\"\n",
    "                Returns a custom learning rate that decreases as epochs progress.\n",
    "                \"\"\"\n",
    "                learning_rate = LR\n",
    "                if epoch > 20:\n",
    "                        learning_rate = 0.0001\n",
    "                tf.summary.scalar('learning rate', data=learning_rate, step=epoch)\n",
    "                return learning_rate\n",
    "\n",
    "        lr_callback = LearningRateScheduler(lr_schedule)\n",
    "\n",
    "        best_model_path = Path(wandb.run.dir).joinpath(f\"best_model\")\n",
    "\n",
    "        checkpoint = WandbModelCheckpoint(best_model_path,\n",
    "                monitor=\"val_accuracy\",\n",
    "                save_best_only=True,\n",
    "                save_freq=\"epoch\")\n",
    "\n",
    "        global early_stopping_patience\n",
    "        early_stopping = EarlyStopping(monitor=\"val_accuracy\", patience=early_stopping_patience)\n",
    "\n",
    "        callbacks =[\n",
    "                tensorboard_callback,\n",
    "                lr_callback,\n",
    "                #wandb_callback,\n",
    "                WandbMetricsLogger(),\n",
    "                checkpoint,\n",
    "                #early_stopping,\n",
    "                EarlyStoppingAtMaxValAccuracy()\n",
    "        ]\n",
    "\n",
    "        history = model.fit(train_ds,\n",
    "                epochs=EPOCHS, \n",
    "                validation_data=val_ds, \n",
    "                callbacks=callbacks\n",
    "        )\n",
    "\n",
    "        #wandb.save(\"last_model.h5\")\n",
    "\n",
    "\n",
    "\n",
    "\n",
    "        #best_model = keras.models.load_model(best_model_path) # not needed due to \"restore_best_weights=True\"\n",
    "\n",
    "        y_val_true = np.concatenate([y for x, y in val_ds], axis=0)\n",
    "        y_val_pred = model.predict(val_ds).argmax(axis=1)\n",
    "\n",
    "        results = model.evaluate(test_ds, batch_size=BATCH_SIZE)\n",
    "        print(\"test loss, test acc:\", results)\n",
    "        wandb.log({\n",
    "                \"test_loss\" : results[0],\n",
    "                \"test_accuracy\" : results[1]\n",
    "        })\n",
    "\n",
    "        # log data for the confusion matrix\n",
    "        wandb.log({\"conf_mat\" : wandb.plot.confusion_matrix(probs=None,\n",
    "                        y_true=y_val_true, preds=y_val_pred,\n",
    "                        class_names=labels)})\n",
    "\n",
    "\n",
    "        run.finish()\n",
    "        return history, model, run.id"
   ]
  },
  {
   "cell_type": "code",
   "execution_count": 30,
   "metadata": {},
   "outputs": [
    {
     "name": "stderr",
     "output_type": "stream",
     "text": [
      "Failed to detect the name of this notebook, you can set it manually with the WANDB_NOTEBOOK_NAME environment variable to enable code saving.\n",
      "\u001b[34m\u001b[1mwandb\u001b[0m: Currently logged in as: \u001b[33msusbrock\u001b[0m. Use \u001b[1m`wandb login --relogin`\u001b[0m to force relogin\n"
     ]
    },
    {
     "data": {
      "application/vnd.jupyter.widget-view+json": {
       "model_id": "b9c31472456c4c04b897413531e94387",
       "version_major": 2,
       "version_minor": 0
      },
      "text/plain": [
       "VBox(children=(Label(value='Waiting for wandb.init()...\\r'), FloatProgress(value=0.016666666666666666, max=1.0…"
      ]
     },
     "metadata": {},
     "output_type": "display_data"
    },
    {
     "data": {
      "text/html": [
       "Tracking run with wandb version 0.13.7"
      ],
      "text/plain": [
       "<IPython.core.display.HTML object>"
      ]
     },
     "metadata": {},
     "output_type": "display_data"
    },
    {
     "data": {
      "text/html": [
       "Run data is saved locally in <code>i:\\tinyml\\tiny_cnn\\wandb\\run-20221227_084459-1cs4d6vn</code>"
      ],
      "text/plain": [
       "<IPython.core.display.HTML object>"
      ]
     },
     "metadata": {},
     "output_type": "display_data"
    },
    {
     "data": {
      "text/html": [
       "Syncing run <strong><a href=\"https://wandb.ai/susbrock/efficientNetB0/runs/1cs4d6vn\" target=\"_blank\">hearty-oath-9</a></strong> to <a href=\"https://wandb.ai/susbrock/efficientNetB0\" target=\"_blank\">Weights & Biases</a> (<a href=\"https://wandb.me/run\" target=\"_blank\">docs</a>)<br/>"
      ],
      "text/plain": [
       "<IPython.core.display.HTML object>"
      ]
     },
     "metadata": {},
     "output_type": "display_data"
    },
    {
     "name": "stderr",
     "output_type": "stream",
     "text": [
      "\u001b[34m\u001b[1mwandb\u001b[0m: \u001b[33mWARNING\u001b[0m When using `save_best_only`, ensure that the `filepath` argument contains formatting placeholders like `{epoch:02d}` or `{batch:02d}`. This ensures correct interpretation of the logged artifacts.\n"
     ]
    },
    {
     "name": "stdout",
     "output_type": "stream",
     "text": [
      "Epoch 1/100\n",
      " 6/64 [=>............................] - ETA: 37s - loss: 3.1287 - accuracy: 0.3385WARNING:tensorflow:Callback method `on_train_batch_end` is slow compared to the batch time (batch time: 0.2094s vs `on_train_batch_end` time: 0.5253s). Check your callbacks.\n",
      "64/64 [==============================] - ETA: 0s - loss: 1.5062 - accuracy: 0.5982INFO:tensorflow:Assets written to: i:\\tinyml\\tiny_cnn\\wandb\\run-20221227_084459-1cs4d6vn\\files\\best_model\\assets\n"
     ]
    },
    {
     "name": "stderr",
     "output_type": "stream",
     "text": [
      "INFO:tensorflow:Assets written to: i:\\tinyml\\tiny_cnn\\wandb\\run-20221227_084459-1cs4d6vn\\files\\best_model\\assets\n",
      "\u001b[34m\u001b[1mwandb\u001b[0m: Adding directory to artifact (i:\\tinyml\\tiny_cnn\\wandb\\run-20221227_084459-1cs4d6vn\\files\\best_model)... Done. 0.3s\n"
     ]
    },
    {
     "name": "stdout",
     "output_type": "stream",
     "text": [
      "64/64 [==============================] - 172s 2s/step - loss: 1.5062 - accuracy: 0.5982 - val_loss: 1.0485 - val_accuracy: 0.4444 - lr: 0.0010\n",
      "Epoch 2/100\n",
      "64/64 [==============================] - ETA: 0s - loss: 0.7685 - accuracy: 0.7412"
     ]
    },
    {
     "name": "stderr",
     "output_type": "stream",
     "text": [
      "\u001b[34m\u001b[1mwandb\u001b[0m: Adding directory to artifact (i:\\tinyml\\tiny_cnn\\wandb\\run-20221227_084459-1cs4d6vn\\files\\best_model)... Done. 0.1s\n"
     ]
    },
    {
     "name": "stdout",
     "output_type": "stream",
     "text": [
      "64/64 [==============================] - 45s 702ms/step - loss: 0.7685 - accuracy: 0.7412 - val_loss: 1.0742 - val_accuracy: 0.4444 - lr: 0.0010\n",
      "Epoch 3/100\n",
      "64/64 [==============================] - ETA: 0s - loss: 0.5101 - accuracy: 0.8318"
     ]
    },
    {
     "name": "stderr",
     "output_type": "stream",
     "text": [
      "\u001b[34m\u001b[1mwandb\u001b[0m: Adding directory to artifact (i:\\tinyml\\tiny_cnn\\wandb\\run-20221227_084459-1cs4d6vn\\files\\best_model)... Done. 0.1s\n"
     ]
    },
    {
     "name": "stdout",
     "output_type": "stream",
     "text": [
      "64/64 [==============================] - 45s 704ms/step - loss: 0.5101 - accuracy: 0.8318 - val_loss: 1.4918 - val_accuracy: 0.3770 - lr: 0.0010\n",
      "Epoch 4/100\n",
      "64/64 [==============================] - ETA: 0s - loss: 0.3922 - accuracy: 0.8684"
     ]
    },
    {
     "name": "stderr",
     "output_type": "stream",
     "text": [
      "\u001b[34m\u001b[1mwandb\u001b[0m: Adding directory to artifact (i:\\tinyml\\tiny_cnn\\wandb\\run-20221227_084459-1cs4d6vn\\files\\best_model)... Done. 0.1s\n"
     ]
    },
    {
     "name": "stdout",
     "output_type": "stream",
     "text": [
      "64/64 [==============================] - 45s 707ms/step - loss: 0.3922 - accuracy: 0.8684 - val_loss: 1.5002 - val_accuracy: 0.3770 - lr: 0.0010\n",
      "Epoch 5/100\n",
      "64/64 [==============================] - ETA: 0s - loss: 0.3676 - accuracy: 0.8699"
     ]
    },
    {
     "name": "stderr",
     "output_type": "stream",
     "text": [
      "\u001b[34m\u001b[1mwandb\u001b[0m: Adding directory to artifact (i:\\tinyml\\tiny_cnn\\wandb\\run-20221227_084459-1cs4d6vn\\files\\best_model)... Done. 0.1s\n"
     ]
    },
    {
     "name": "stdout",
     "output_type": "stream",
     "text": [
      "64/64 [==============================] - 45s 706ms/step - loss: 0.3676 - accuracy: 0.8699 - val_loss: 2.7952 - val_accuracy: 0.1786 - lr: 0.0010\n",
      "Epoch 6/100\n",
      "64/64 [==============================] - ETA: 0s - loss: 0.2656 - accuracy: 0.8991"
     ]
    },
    {
     "name": "stderr",
     "output_type": "stream",
     "text": [
      "\u001b[34m\u001b[1mwandb\u001b[0m: Adding directory to artifact (i:\\tinyml\\tiny_cnn\\wandb\\run-20221227_084459-1cs4d6vn\\files\\best_model)... Done. 0.1s\n"
     ]
    },
    {
     "name": "stdout",
     "output_type": "stream",
     "text": [
      "64/64 [==============================] - 45s 708ms/step - loss: 0.2656 - accuracy: 0.8991 - val_loss: 4.1441 - val_accuracy: 0.1786 - lr: 0.0010\n",
      "Epoch 7/100\n",
      "64/64 [==============================] - ETA: 0s - loss: 0.2016 - accuracy: 0.9263"
     ]
    },
    {
     "name": "stderr",
     "output_type": "stream",
     "text": [
      "\u001b[34m\u001b[1mwandb\u001b[0m: Adding directory to artifact (i:\\tinyml\\tiny_cnn\\wandb\\run-20221227_084459-1cs4d6vn\\files\\best_model)... Done. 0.1s\n"
     ]
    },
    {
     "name": "stdout",
     "output_type": "stream",
     "text": [
      "64/64 [==============================] - 46s 711ms/step - loss: 0.2016 - accuracy: 0.9263 - val_loss: 5.5774 - val_accuracy: 0.1786 - lr: 0.0010\n",
      "Epoch 8/100\n",
      "64/64 [==============================] - ETA: 0s - loss: 0.2062 - accuracy: 0.9273"
     ]
    },
    {
     "name": "stderr",
     "output_type": "stream",
     "text": [
      "\u001b[34m\u001b[1mwandb\u001b[0m: Adding directory to artifact (i:\\tinyml\\tiny_cnn\\wandb\\run-20221227_084459-1cs4d6vn\\files\\best_model)... Done. 0.1s\n"
     ]
    },
    {
     "name": "stdout",
     "output_type": "stream",
     "text": [
      "64/64 [==============================] - 43s 667ms/step - loss: 0.2062 - accuracy: 0.9273 - val_loss: 7.1389 - val_accuracy: 0.1786 - lr: 0.0010\n",
      "Epoch 9/100\n",
      "64/64 [==============================] - ETA: 0s - loss: 0.1755 - accuracy: 0.9436"
     ]
    },
    {
     "name": "stderr",
     "output_type": "stream",
     "text": [
      "\u001b[34m\u001b[1mwandb\u001b[0m: Adding directory to artifact (i:\\tinyml\\tiny_cnn\\wandb\\run-20221227_084459-1cs4d6vn\\files\\best_model)... Done. 0.1s\n"
     ]
    },
    {
     "name": "stdout",
     "output_type": "stream",
     "text": [
      "64/64 [==============================] - 33s 512ms/step - loss: 0.1755 - accuracy: 0.9436 - val_loss: 7.4202 - val_accuracy: 0.1786 - lr: 0.0010\n",
      "Epoch 10/100\n",
      "64/64 [==============================] - ETA: 0s - loss: 0.1415 - accuracy: 0.9426"
     ]
    },
    {
     "name": "stderr",
     "output_type": "stream",
     "text": [
      "\u001b[34m\u001b[1mwandb\u001b[0m: Adding directory to artifact (i:\\tinyml\\tiny_cnn\\wandb\\run-20221227_084459-1cs4d6vn\\files\\best_model)... Done. 0.1s\n"
     ]
    },
    {
     "name": "stdout",
     "output_type": "stream",
     "text": [
      "64/64 [==============================] - 34s 525ms/step - loss: 0.1415 - accuracy: 0.9426 - val_loss: 3.1637 - val_accuracy: 0.2381 - lr: 0.0010\n",
      "Epoch 11/100\n",
      "64/64 [==============================] - ETA: 0s - loss: 0.1733 - accuracy: 0.9332INFO:tensorflow:Assets written to: i:\\tinyml\\tiny_cnn\\wandb\\run-20221227_084459-1cs4d6vn\\files\\best_model\\assets\n"
     ]
    },
    {
     "name": "stderr",
     "output_type": "stream",
     "text": [
      "INFO:tensorflow:Assets written to: i:\\tinyml\\tiny_cnn\\wandb\\run-20221227_084459-1cs4d6vn\\files\\best_model\\assets\n",
      "\u001b[34m\u001b[1mwandb\u001b[0m: Adding directory to artifact (i:\\tinyml\\tiny_cnn\\wandb\\run-20221227_084459-1cs4d6vn\\files\\best_model)... Done. 0.2s\n"
     ]
    },
    {
     "name": "stdout",
     "output_type": "stream",
     "text": [
      "64/64 [==============================] - 104s 2s/step - loss: 0.1733 - accuracy: 0.9332 - val_loss: 0.6049 - val_accuracy: 0.7976 - lr: 0.0010\n",
      "Epoch 12/100\n",
      "64/64 [==============================] - ETA: 0s - loss: 0.1148 - accuracy: 0.9584INFO:tensorflow:Assets written to: i:\\tinyml\\tiny_cnn\\wandb\\run-20221227_084459-1cs4d6vn\\files\\best_model\\assets\n"
     ]
    },
    {
     "name": "stderr",
     "output_type": "stream",
     "text": [
      "INFO:tensorflow:Assets written to: i:\\tinyml\\tiny_cnn\\wandb\\run-20221227_084459-1cs4d6vn\\files\\best_model\\assets\n",
      "\u001b[34m\u001b[1mwandb\u001b[0m: Adding directory to artifact (i:\\tinyml\\tiny_cnn\\wandb\\run-20221227_084459-1cs4d6vn\\files\\best_model)... Done. 0.2s\n"
     ]
    },
    {
     "name": "stdout",
     "output_type": "stream",
     "text": [
      "64/64 [==============================] - 95s 1s/step - loss: 0.1148 - accuracy: 0.9584 - val_loss: 0.2157 - val_accuracy: 0.9127 - lr: 0.0010\n",
      "Epoch 13/100\n",
      "64/64 [==============================] - ETA: 0s - loss: 0.1754 - accuracy: 0.9312INFO:tensorflow:Assets written to: i:\\tinyml\\tiny_cnn\\wandb\\run-20221227_084459-1cs4d6vn\\files\\best_model\\assets\n"
     ]
    },
    {
     "name": "stderr",
     "output_type": "stream",
     "text": [
      "INFO:tensorflow:Assets written to: i:\\tinyml\\tiny_cnn\\wandb\\run-20221227_084459-1cs4d6vn\\files\\best_model\\assets\n",
      "\u001b[34m\u001b[1mwandb\u001b[0m: Adding directory to artifact (i:\\tinyml\\tiny_cnn\\wandb\\run-20221227_084459-1cs4d6vn\\files\\best_model)... Done. 0.3s\n"
     ]
    },
    {
     "name": "stdout",
     "output_type": "stream",
     "text": [
      "64/64 [==============================] - 92s 1s/step - loss: 0.1754 - accuracy: 0.9312 - val_loss: 0.2251 - val_accuracy: 0.9206 - lr: 0.0010\n",
      "Epoch 14/100\n",
      "64/64 [==============================] - ETA: 0s - loss: 0.1737 - accuracy: 0.9352"
     ]
    },
    {
     "name": "stderr",
     "output_type": "stream",
     "text": [
      "\u001b[34m\u001b[1mwandb\u001b[0m: Adding directory to artifact (i:\\tinyml\\tiny_cnn\\wandb\\run-20221227_084459-1cs4d6vn\\files\\best_model)... Done. 0.1s\n"
     ]
    },
    {
     "name": "stdout",
     "output_type": "stream",
     "text": [
      "64/64 [==============================] - 34s 531ms/step - loss: 0.1737 - accuracy: 0.9352 - val_loss: 0.2451 - val_accuracy: 0.8929 - lr: 0.0010\n",
      "Epoch 15/100\n",
      "64/64 [==============================] - ETA: 0s - loss: 0.1102 - accuracy: 0.9599INFO:tensorflow:Assets written to: i:\\tinyml\\tiny_cnn\\wandb\\run-20221227_084459-1cs4d6vn\\files\\best_model\\assets\n"
     ]
    },
    {
     "name": "stderr",
     "output_type": "stream",
     "text": [
      "INFO:tensorflow:Assets written to: i:\\tinyml\\tiny_cnn\\wandb\\run-20221227_084459-1cs4d6vn\\files\\best_model\\assets\n",
      "\u001b[34m\u001b[1mwandb\u001b[0m: Adding directory to artifact (i:\\tinyml\\tiny_cnn\\wandb\\run-20221227_084459-1cs4d6vn\\files\\best_model)... Done. 0.3s\n"
     ]
    },
    {
     "name": "stdout",
     "output_type": "stream",
     "text": [
      "64/64 [==============================] - 91s 1s/step - loss: 0.1102 - accuracy: 0.9599 - val_loss: 0.1150 - val_accuracy: 0.9484 - lr: 0.0010\n",
      "Epoch 16/100\n",
      "64/64 [==============================] - ETA: 0s - loss: 0.1337 - accuracy: 0.9540"
     ]
    },
    {
     "name": "stderr",
     "output_type": "stream",
     "text": [
      "\u001b[34m\u001b[1mwandb\u001b[0m: Adding directory to artifact (i:\\tinyml\\tiny_cnn\\wandb\\run-20221227_084459-1cs4d6vn\\files\\best_model)... Done. 0.1s\n"
     ]
    },
    {
     "name": "stdout",
     "output_type": "stream",
     "text": [
      "64/64 [==============================] - 34s 524ms/step - loss: 0.1337 - accuracy: 0.9540 - val_loss: 0.3459 - val_accuracy: 0.8810 - lr: 0.0010\n",
      "Epoch 17/100\n",
      "64/64 [==============================] - ETA: 0s - loss: 0.1247 - accuracy: 0.9550INFO:tensorflow:Assets written to: i:\\tinyml\\tiny_cnn\\wandb\\run-20221227_084459-1cs4d6vn\\files\\best_model\\assets\n"
     ]
    },
    {
     "name": "stderr",
     "output_type": "stream",
     "text": [
      "INFO:tensorflow:Assets written to: i:\\tinyml\\tiny_cnn\\wandb\\run-20221227_084459-1cs4d6vn\\files\\best_model\\assets\n",
      "\u001b[34m\u001b[1mwandb\u001b[0m: Adding directory to artifact (i:\\tinyml\\tiny_cnn\\wandb\\run-20221227_084459-1cs4d6vn\\files\\best_model)... Done. 0.1s\n",
      "\u001b[34m\u001b[1mwandb\u001b[0m: \u001b[33mWARNING\u001b[0m A graphql request initiated by the public wandb API timed out (timeout=9 sec). Create a new API with an integer timeout larger than 9, e.g., `api = wandb.Api(timeout=19)` to increase the graphql timeout.\n"
     ]
    },
    {
     "name": "stdout",
     "output_type": "stream",
     "text": [
      "64/64 [==============================] - 336s 5s/step - loss: 0.1247 - accuracy: 0.9550 - val_loss: 0.1031 - val_accuracy: 0.9563 - lr: 0.0010\n",
      "Epoch 18/100\n",
      "64/64 [==============================] - ETA: 0s - loss: 0.2092 - accuracy: 0.9312"
     ]
    },
    {
     "name": "stderr",
     "output_type": "stream",
     "text": [
      "\u001b[34m\u001b[1mwandb\u001b[0m: Adding directory to artifact (i:\\tinyml\\tiny_cnn\\wandb\\run-20221227_084459-1cs4d6vn\\files\\best_model)... Done. 0.1s\n"
     ]
    },
    {
     "name": "stdout",
     "output_type": "stream",
     "text": [
      "64/64 [==============================] - 51s 796ms/step - loss: 0.2092 - accuracy: 0.9312 - val_loss: 4.8778 - val_accuracy: 0.7619 - lr: 0.0010\n",
      "Epoch 19/100\n",
      "64/64 [==============================] - ETA: 0s - loss: 0.1640 - accuracy: 0.9500"
     ]
    },
    {
     "name": "stderr",
     "output_type": "stream",
     "text": [
      "\u001b[34m\u001b[1mwandb\u001b[0m: Adding directory to artifact (i:\\tinyml\\tiny_cnn\\wandb\\run-20221227_084459-1cs4d6vn\\files\\best_model)... Done. 0.1s\n"
     ]
    },
    {
     "name": "stdout",
     "output_type": "stream",
     "text": [
      "64/64 [==============================] - 52s 804ms/step - loss: 0.1640 - accuracy: 0.9500 - val_loss: 1.7237 - val_accuracy: 0.8571 - lr: 0.0010\n",
      "Epoch 20/100\n",
      "37/64 [================>.............] - ETA: 23s - loss: 0.1427 - accuracy: 0.9468"
     ]
    },
    {
     "ename": "KeyboardInterrupt",
     "evalue": "",
     "output_type": "error",
     "traceback": [
      "\u001b[1;31m---------------------------------------------------------------------------\u001b[0m",
      "\u001b[1;31mKeyboardInterrupt\u001b[0m                         Traceback (most recent call last)",
      "Cell \u001b[1;32mIn [30], line 2\u001b[0m\n\u001b[0;32m      1\u001b[0m wandb\u001b[39m.\u001b[39mfinish()\n\u001b[1;32m----> 2\u001b[0m history, model, run_id \u001b[39m=\u001b[39m train_model_wandb(model)\n",
      "Cell \u001b[1;32mIn [29], line 85\u001b[0m, in \u001b[0;36mtrain_model_wandb\u001b[1;34m(model)\u001b[0m\n\u001b[0;32m     73\u001b[0m early_stopping \u001b[39m=\u001b[39m EarlyStopping(monitor\u001b[39m=\u001b[39m\u001b[39m\"\u001b[39m\u001b[39mval_accuracy\u001b[39m\u001b[39m\"\u001b[39m, patience\u001b[39m=\u001b[39mearly_stopping_patience)\n\u001b[0;32m     75\u001b[0m callbacks \u001b[39m=\u001b[39m[\n\u001b[0;32m     76\u001b[0m         tensorboard_callback,\n\u001b[0;32m     77\u001b[0m         lr_callback,\n\u001b[1;32m   (...)\u001b[0m\n\u001b[0;32m     82\u001b[0m         EarlyStoppingAtMaxValAccuracy()\n\u001b[0;32m     83\u001b[0m ]\n\u001b[1;32m---> 85\u001b[0m history \u001b[39m=\u001b[39m model\u001b[39m.\u001b[39;49mfit(train_ds,\n\u001b[0;32m     86\u001b[0m         epochs\u001b[39m=\u001b[39;49mEPOCHS, \n\u001b[0;32m     87\u001b[0m         validation_data\u001b[39m=\u001b[39;49mval_ds, \n\u001b[0;32m     88\u001b[0m         callbacks\u001b[39m=\u001b[39;49mcallbacks\n\u001b[0;32m     89\u001b[0m )\n\u001b[0;32m     91\u001b[0m \u001b[39m#wandb.save(\"last_model.h5\")\u001b[39;00m\n\u001b[0;32m     92\u001b[0m \n\u001b[0;32m     93\u001b[0m \n\u001b[0;32m     94\u001b[0m \n\u001b[0;32m     95\u001b[0m \n\u001b[0;32m     96\u001b[0m \u001b[39m#best_model = keras.models.load_model(best_model_path) # not needed due to \"restore_best_weights=True\"\u001b[39;00m\n\u001b[0;32m     98\u001b[0m y_val_true \u001b[39m=\u001b[39m np\u001b[39m.\u001b[39mconcatenate([y \u001b[39mfor\u001b[39;00m x, y \u001b[39min\u001b[39;00m val_ds], axis\u001b[39m=\u001b[39m\u001b[39m0\u001b[39m)\n",
      "File \u001b[1;32md:\\Miniconda\\envs\\tiny_cnn_5\\lib\\site-packages\\wandb\\integration\\keras\\keras.py:174\u001b[0m, in \u001b[0;36mpatch_tf_keras.<locals>.new_v2\u001b[1;34m(*args, **kwargs)\u001b[0m\n\u001b[0;32m    172\u001b[0m     \u001b[39mfor\u001b[39;00m cbk \u001b[39min\u001b[39;00m cbks:\n\u001b[0;32m    173\u001b[0m         set_wandb_attrs(cbk, val_data)\n\u001b[1;32m--> 174\u001b[0m \u001b[39mreturn\u001b[39;00m old_v2(\u001b[39m*\u001b[39margs, \u001b[39m*\u001b[39m\u001b[39m*\u001b[39mkwargs)\n",
      "File \u001b[1;32md:\\Miniconda\\envs\\tiny_cnn_5\\lib\\site-packages\\wandb\\integration\\keras\\keras.py:174\u001b[0m, in \u001b[0;36mpatch_tf_keras.<locals>.new_v2\u001b[1;34m(*args, **kwargs)\u001b[0m\n\u001b[0;32m    172\u001b[0m     \u001b[39mfor\u001b[39;00m cbk \u001b[39min\u001b[39;00m cbks:\n\u001b[0;32m    173\u001b[0m         set_wandb_attrs(cbk, val_data)\n\u001b[1;32m--> 174\u001b[0m \u001b[39mreturn\u001b[39;00m old_v2(\u001b[39m*\u001b[39margs, \u001b[39m*\u001b[39m\u001b[39m*\u001b[39mkwargs)\n",
      "File \u001b[1;32md:\\Miniconda\\envs\\tiny_cnn_5\\lib\\site-packages\\wandb\\integration\\keras\\keras.py:174\u001b[0m, in \u001b[0;36mpatch_tf_keras.<locals>.new_v2\u001b[1;34m(*args, **kwargs)\u001b[0m\n\u001b[0;32m    172\u001b[0m     \u001b[39mfor\u001b[39;00m cbk \u001b[39min\u001b[39;00m cbks:\n\u001b[0;32m    173\u001b[0m         set_wandb_attrs(cbk, val_data)\n\u001b[1;32m--> 174\u001b[0m \u001b[39mreturn\u001b[39;00m old_v2(\u001b[39m*\u001b[39margs, \u001b[39m*\u001b[39m\u001b[39m*\u001b[39mkwargs)\n",
      "File \u001b[1;32md:\\Miniconda\\envs\\tiny_cnn_5\\lib\\site-packages\\keras\\utils\\traceback_utils.py:65\u001b[0m, in \u001b[0;36mfilter_traceback.<locals>.error_handler\u001b[1;34m(*args, **kwargs)\u001b[0m\n\u001b[0;32m     63\u001b[0m filtered_tb \u001b[39m=\u001b[39m \u001b[39mNone\u001b[39;00m\n\u001b[0;32m     64\u001b[0m \u001b[39mtry\u001b[39;00m:\n\u001b[1;32m---> 65\u001b[0m     \u001b[39mreturn\u001b[39;00m fn(\u001b[39m*\u001b[39margs, \u001b[39m*\u001b[39m\u001b[39m*\u001b[39mkwargs)\n\u001b[0;32m     66\u001b[0m \u001b[39mexcept\u001b[39;00m \u001b[39mException\u001b[39;00m \u001b[39mas\u001b[39;00m e:\n\u001b[0;32m     67\u001b[0m     filtered_tb \u001b[39m=\u001b[39m _process_traceback_frames(e\u001b[39m.\u001b[39m__traceback__)\n",
      "File \u001b[1;32md:\\Miniconda\\envs\\tiny_cnn_5\\lib\\site-packages\\keras\\engine\\training.py:1564\u001b[0m, in \u001b[0;36mModel.fit\u001b[1;34m(self, x, y, batch_size, epochs, verbose, callbacks, validation_split, validation_data, shuffle, class_weight, sample_weight, initial_epoch, steps_per_epoch, validation_steps, validation_batch_size, validation_freq, max_queue_size, workers, use_multiprocessing)\u001b[0m\n\u001b[0;32m   1556\u001b[0m \u001b[39mwith\u001b[39;00m tf\u001b[39m.\u001b[39mprofiler\u001b[39m.\u001b[39mexperimental\u001b[39m.\u001b[39mTrace(\n\u001b[0;32m   1557\u001b[0m     \u001b[39m\"\u001b[39m\u001b[39mtrain\u001b[39m\u001b[39m\"\u001b[39m,\n\u001b[0;32m   1558\u001b[0m     epoch_num\u001b[39m=\u001b[39mepoch,\n\u001b[1;32m   (...)\u001b[0m\n\u001b[0;32m   1561\u001b[0m     _r\u001b[39m=\u001b[39m\u001b[39m1\u001b[39m,\n\u001b[0;32m   1562\u001b[0m ):\n\u001b[0;32m   1563\u001b[0m     callbacks\u001b[39m.\u001b[39mon_train_batch_begin(step)\n\u001b[1;32m-> 1564\u001b[0m     tmp_logs \u001b[39m=\u001b[39m \u001b[39mself\u001b[39;49m\u001b[39m.\u001b[39;49mtrain_function(iterator)\n\u001b[0;32m   1565\u001b[0m     \u001b[39mif\u001b[39;00m data_handler\u001b[39m.\u001b[39mshould_sync:\n\u001b[0;32m   1566\u001b[0m         context\u001b[39m.\u001b[39masync_wait()\n",
      "File \u001b[1;32md:\\Miniconda\\envs\\tiny_cnn_5\\lib\\site-packages\\tensorflow\\python\\util\\traceback_utils.py:150\u001b[0m, in \u001b[0;36mfilter_traceback.<locals>.error_handler\u001b[1;34m(*args, **kwargs)\u001b[0m\n\u001b[0;32m    148\u001b[0m filtered_tb \u001b[39m=\u001b[39m \u001b[39mNone\u001b[39;00m\n\u001b[0;32m    149\u001b[0m \u001b[39mtry\u001b[39;00m:\n\u001b[1;32m--> 150\u001b[0m   \u001b[39mreturn\u001b[39;00m fn(\u001b[39m*\u001b[39margs, \u001b[39m*\u001b[39m\u001b[39m*\u001b[39mkwargs)\n\u001b[0;32m    151\u001b[0m \u001b[39mexcept\u001b[39;00m \u001b[39mException\u001b[39;00m \u001b[39mas\u001b[39;00m e:\n\u001b[0;32m    152\u001b[0m   filtered_tb \u001b[39m=\u001b[39m _process_traceback_frames(e\u001b[39m.\u001b[39m__traceback__)\n",
      "File \u001b[1;32md:\\Miniconda\\envs\\tiny_cnn_5\\lib\\site-packages\\tensorflow\\python\\eager\\def_function.py:915\u001b[0m, in \u001b[0;36mFunction.__call__\u001b[1;34m(self, *args, **kwds)\u001b[0m\n\u001b[0;32m    912\u001b[0m compiler \u001b[39m=\u001b[39m \u001b[39m\"\u001b[39m\u001b[39mxla\u001b[39m\u001b[39m\"\u001b[39m \u001b[39mif\u001b[39;00m \u001b[39mself\u001b[39m\u001b[39m.\u001b[39m_jit_compile \u001b[39melse\u001b[39;00m \u001b[39m\"\u001b[39m\u001b[39mnonXla\u001b[39m\u001b[39m\"\u001b[39m\n\u001b[0;32m    914\u001b[0m \u001b[39mwith\u001b[39;00m OptionalXlaContext(\u001b[39mself\u001b[39m\u001b[39m.\u001b[39m_jit_compile):\n\u001b[1;32m--> 915\u001b[0m   result \u001b[39m=\u001b[39m \u001b[39mself\u001b[39m\u001b[39m.\u001b[39m_call(\u001b[39m*\u001b[39margs, \u001b[39m*\u001b[39m\u001b[39m*\u001b[39mkwds)\n\u001b[0;32m    917\u001b[0m new_tracing_count \u001b[39m=\u001b[39m \u001b[39mself\u001b[39m\u001b[39m.\u001b[39mexperimental_get_tracing_count()\n\u001b[0;32m    918\u001b[0m without_tracing \u001b[39m=\u001b[39m (tracing_count \u001b[39m==\u001b[39m new_tracing_count)\n",
      "File \u001b[1;32md:\\Miniconda\\envs\\tiny_cnn_5\\lib\\site-packages\\tensorflow\\python\\eager\\def_function.py:947\u001b[0m, in \u001b[0;36mFunction._call\u001b[1;34m(self, *args, **kwds)\u001b[0m\n\u001b[0;32m    944\u001b[0m   \u001b[39mself\u001b[39m\u001b[39m.\u001b[39m_lock\u001b[39m.\u001b[39mrelease()\n\u001b[0;32m    945\u001b[0m   \u001b[39m# In this case we have created variables on the first call, so we run the\u001b[39;00m\n\u001b[0;32m    946\u001b[0m   \u001b[39m# defunned version which is guaranteed to never create variables.\u001b[39;00m\n\u001b[1;32m--> 947\u001b[0m   \u001b[39mreturn\u001b[39;00m \u001b[39mself\u001b[39m\u001b[39m.\u001b[39m_stateless_fn(\u001b[39m*\u001b[39margs, \u001b[39m*\u001b[39m\u001b[39m*\u001b[39mkwds)  \u001b[39m# pylint: disable=not-callable\u001b[39;00m\n\u001b[0;32m    948\u001b[0m \u001b[39melif\u001b[39;00m \u001b[39mself\u001b[39m\u001b[39m.\u001b[39m_stateful_fn \u001b[39mis\u001b[39;00m \u001b[39mnot\u001b[39;00m \u001b[39mNone\u001b[39;00m:\n\u001b[0;32m    949\u001b[0m   \u001b[39m# Release the lock early so that multiple threads can perform the call\u001b[39;00m\n\u001b[0;32m    950\u001b[0m   \u001b[39m# in parallel.\u001b[39;00m\n\u001b[0;32m    951\u001b[0m   \u001b[39mself\u001b[39m\u001b[39m.\u001b[39m_lock\u001b[39m.\u001b[39mrelease()\n",
      "File \u001b[1;32md:\\Miniconda\\envs\\tiny_cnn_5\\lib\\site-packages\\tensorflow\\python\\eager\\function.py:2496\u001b[0m, in \u001b[0;36mFunction.__call__\u001b[1;34m(self, *args, **kwargs)\u001b[0m\n\u001b[0;32m   2493\u001b[0m \u001b[39mwith\u001b[39;00m \u001b[39mself\u001b[39m\u001b[39m.\u001b[39m_lock:\n\u001b[0;32m   2494\u001b[0m   (graph_function,\n\u001b[0;32m   2495\u001b[0m    filtered_flat_args) \u001b[39m=\u001b[39m \u001b[39mself\u001b[39m\u001b[39m.\u001b[39m_maybe_define_function(args, kwargs)\n\u001b[1;32m-> 2496\u001b[0m \u001b[39mreturn\u001b[39;00m graph_function\u001b[39m.\u001b[39;49m_call_flat(\n\u001b[0;32m   2497\u001b[0m     filtered_flat_args, captured_inputs\u001b[39m=\u001b[39;49mgraph_function\u001b[39m.\u001b[39;49mcaptured_inputs)\n",
      "File \u001b[1;32md:\\Miniconda\\envs\\tiny_cnn_5\\lib\\site-packages\\tensorflow\\python\\eager\\function.py:1862\u001b[0m, in \u001b[0;36mConcreteFunction._call_flat\u001b[1;34m(self, args, captured_inputs, cancellation_manager)\u001b[0m\n\u001b[0;32m   1858\u001b[0m possible_gradient_type \u001b[39m=\u001b[39m gradients_util\u001b[39m.\u001b[39mPossibleTapeGradientTypes(args)\n\u001b[0;32m   1859\u001b[0m \u001b[39mif\u001b[39;00m (possible_gradient_type \u001b[39m==\u001b[39m gradients_util\u001b[39m.\u001b[39mPOSSIBLE_GRADIENT_TYPES_NONE\n\u001b[0;32m   1860\u001b[0m     \u001b[39mand\u001b[39;00m executing_eagerly):\n\u001b[0;32m   1861\u001b[0m   \u001b[39m# No tape is watching; skip to running the function.\u001b[39;00m\n\u001b[1;32m-> 1862\u001b[0m   \u001b[39mreturn\u001b[39;00m \u001b[39mself\u001b[39m\u001b[39m.\u001b[39m_build_call_outputs(\u001b[39mself\u001b[39;49m\u001b[39m.\u001b[39;49m_inference_function\u001b[39m.\u001b[39;49mcall(\n\u001b[0;32m   1863\u001b[0m       ctx, args, cancellation_manager\u001b[39m=\u001b[39;49mcancellation_manager))\n\u001b[0;32m   1864\u001b[0m forward_backward \u001b[39m=\u001b[39m \u001b[39mself\u001b[39m\u001b[39m.\u001b[39m_select_forward_and_backward_functions(\n\u001b[0;32m   1865\u001b[0m     args,\n\u001b[0;32m   1866\u001b[0m     possible_gradient_type,\n\u001b[0;32m   1867\u001b[0m     executing_eagerly)\n\u001b[0;32m   1868\u001b[0m forward_function, args_with_tangents \u001b[39m=\u001b[39m forward_backward\u001b[39m.\u001b[39mforward()\n",
      "File \u001b[1;32md:\\Miniconda\\envs\\tiny_cnn_5\\lib\\site-packages\\tensorflow\\python\\eager\\function.py:499\u001b[0m, in \u001b[0;36m_EagerDefinedFunction.call\u001b[1;34m(self, ctx, args, cancellation_manager)\u001b[0m\n\u001b[0;32m    497\u001b[0m \u001b[39mwith\u001b[39;00m _InterpolateFunctionError(\u001b[39mself\u001b[39m):\n\u001b[0;32m    498\u001b[0m   \u001b[39mif\u001b[39;00m cancellation_manager \u001b[39mis\u001b[39;00m \u001b[39mNone\u001b[39;00m:\n\u001b[1;32m--> 499\u001b[0m     outputs \u001b[39m=\u001b[39m execute\u001b[39m.\u001b[39;49mexecute(\n\u001b[0;32m    500\u001b[0m         \u001b[39mstr\u001b[39;49m(\u001b[39mself\u001b[39;49m\u001b[39m.\u001b[39;49msignature\u001b[39m.\u001b[39;49mname),\n\u001b[0;32m    501\u001b[0m         num_outputs\u001b[39m=\u001b[39;49m\u001b[39mself\u001b[39;49m\u001b[39m.\u001b[39;49m_num_outputs,\n\u001b[0;32m    502\u001b[0m         inputs\u001b[39m=\u001b[39;49margs,\n\u001b[0;32m    503\u001b[0m         attrs\u001b[39m=\u001b[39;49mattrs,\n\u001b[0;32m    504\u001b[0m         ctx\u001b[39m=\u001b[39;49mctx)\n\u001b[0;32m    505\u001b[0m   \u001b[39melse\u001b[39;00m:\n\u001b[0;32m    506\u001b[0m     outputs \u001b[39m=\u001b[39m execute\u001b[39m.\u001b[39mexecute_with_cancellation(\n\u001b[0;32m    507\u001b[0m         \u001b[39mstr\u001b[39m(\u001b[39mself\u001b[39m\u001b[39m.\u001b[39msignature\u001b[39m.\u001b[39mname),\n\u001b[0;32m    508\u001b[0m         num_outputs\u001b[39m=\u001b[39m\u001b[39mself\u001b[39m\u001b[39m.\u001b[39m_num_outputs,\n\u001b[1;32m   (...)\u001b[0m\n\u001b[0;32m    511\u001b[0m         ctx\u001b[39m=\u001b[39mctx,\n\u001b[0;32m    512\u001b[0m         cancellation_manager\u001b[39m=\u001b[39mcancellation_manager)\n",
      "File \u001b[1;32md:\\Miniconda\\envs\\tiny_cnn_5\\lib\\site-packages\\tensorflow\\python\\eager\\execute.py:54\u001b[0m, in \u001b[0;36mquick_execute\u001b[1;34m(op_name, num_outputs, inputs, attrs, ctx, name)\u001b[0m\n\u001b[0;32m     52\u001b[0m \u001b[39mtry\u001b[39;00m:\n\u001b[0;32m     53\u001b[0m   ctx\u001b[39m.\u001b[39mensure_initialized()\n\u001b[1;32m---> 54\u001b[0m   tensors \u001b[39m=\u001b[39m pywrap_tfe\u001b[39m.\u001b[39;49mTFE_Py_Execute(ctx\u001b[39m.\u001b[39;49m_handle, device_name, op_name,\n\u001b[0;32m     55\u001b[0m                                       inputs, attrs, num_outputs)\n\u001b[0;32m     56\u001b[0m \u001b[39mexcept\u001b[39;00m core\u001b[39m.\u001b[39m_NotOkStatusException \u001b[39mas\u001b[39;00m e:\n\u001b[0;32m     57\u001b[0m   \u001b[39mif\u001b[39;00m name \u001b[39mis\u001b[39;00m \u001b[39mnot\u001b[39;00m \u001b[39mNone\u001b[39;00m:\n",
      "\u001b[1;31mKeyboardInterrupt\u001b[0m: "
     ]
    }
   ],
   "source": [
    "wandb.finish()\n",
    "history, model, run_id = train_model_wandb(model)"
   ]
  },
  {
   "cell_type": "code",
   "execution_count": null,
   "metadata": {},
   "outputs": [],
   "source": [
    "#run_id = \"1ke0yso4\""
   ]
  },
  {
   "cell_type": "code",
   "execution_count": null,
   "metadata": {},
   "outputs": [
    {
     "name": "stdout",
     "output_type": "stream",
     "text": [
      "Evaluate on test data\n",
      "8/8 [==============================] - 0s 8ms/step - loss: 0.1677 - accuracy: 0.9412\n",
      "test loss, test acc: [0.1676630973815918, 0.9411764740943909]\n"
     ]
    }
   ],
   "source": [
    "# Evaluate the model on the test data using `evaluate`\n",
    "print(\"Evaluate on test data\")\n",
    "results = model.evaluate(test_ds, batch_size=BATCH_SIZE)\n",
    "print(\"test loss, test acc:\", results)\n",
    "\n",
    "# Generate predictions (probabilities -- the output of the last layer)\n",
    "# on new data using `predict`\n",
    "# print(\"Generate predictions for 3 samples\")\n",
    "# predictions = model.predict(x_test[:3])\n",
    "# print(\"predictions shape:\", predictions.shape)"
   ]
  },
  {
   "cell_type": "code",
   "execution_count": null,
   "metadata": {},
   "outputs": [],
   "source": [
    "# entity = \"susbrock\"\n",
    "\n",
    "\n",
    "# run = api.run(f\"{entity}/{PROJECT}/{run_id}\")\n",
    "# run.summary[\"test_accuracy\"] = results[1]\n",
    "# run.summary[\"test_loss\"] = results[0]\n",
    "# run.summary.update()"
   ]
  },
  {
   "cell_type": "code",
   "execution_count": null,
   "metadata": {},
   "outputs": [
    {
     "data": {
      "text/plain": [
       "[0.1676630973815918, 0.9411764740943909]"
      ]
     },
     "execution_count": 175,
     "metadata": {},
     "output_type": "execute_result"
    }
   ],
   "source": [
    "results"
   ]
  },
  {
   "cell_type": "code",
   "execution_count": null,
   "metadata": {},
   "outputs": [],
   "source": [
    "scores = model.evaluate(val_ds, verbose=0)"
   ]
  },
  {
   "cell_type": "code",
   "execution_count": null,
   "metadata": {},
   "outputs": [
    {
     "data": {
      "text/plain": [
       "[0.14160692691802979, 0.9404761791229248]"
      ]
     },
     "execution_count": 177,
     "metadata": {},
     "output_type": "execute_result"
    }
   ],
   "source": [
    "scores"
   ]
  },
  {
   "cell_type": "code",
   "execution_count": null,
   "metadata": {},
   "outputs": [
    {
     "data": {
      "text/plain": [
       "['loss', 'accuracy']"
      ]
     },
     "execution_count": 178,
     "metadata": {},
     "output_type": "execute_result"
    }
   ],
   "source": [
    "model.metrics_names"
   ]
  },
  {
   "cell_type": "code",
   "execution_count": null,
   "metadata": {},
   "outputs": [
    {
     "name": "stdout",
     "output_type": "stream",
     "text": [
      "8/8 [==============================] - 0s 6ms/step\n"
     ]
    }
   ],
   "source": [
    "val_predictions = model.predict(val_ds)"
   ]
  },
  {
   "cell_type": "code",
   "execution_count": null,
   "metadata": {},
   "outputs": [],
   "source": [
    "top_pred_ids = val_predictions.argmax(axis=1)"
   ]
  },
  {
   "cell_type": "code",
   "execution_count": null,
   "metadata": {},
   "outputs": [
    {
     "data": {
      "text/plain": [
       "array([0, 0, 1, 2, 0, 1, 2, 1, 2, 2, 2, 2, 2, 0, 2, 2, 2, 1, 0, 2, 0, 1,\n",
       "       1, 0, 2, 2, 2, 2, 0, 2, 0, 2, 0, 0, 0, 0, 0, 1, 1, 2, 2, 0, 2, 0,\n",
       "       2, 2, 2, 0, 1, 0, 1, 0, 0, 2, 0, 2, 0, 0, 2, 2, 0, 1, 2, 0, 2, 0,\n",
       "       2, 1, 2, 2, 1, 1, 0, 2, 1, 0, 2, 0, 1, 2, 2, 2, 0, 0, 0, 0, 0, 2,\n",
       "       0, 2, 0, 2, 0, 0, 0, 0, 0, 1, 0, 2, 2, 1, 1, 1, 1, 1, 2, 0, 0, 0,\n",
       "       2, 2, 2, 2, 2, 2, 2, 2, 0, 2, 2, 1, 0, 0, 2, 1, 0, 2, 0, 2, 1, 0,\n",
       "       0, 1, 2, 1, 2, 2, 2, 1, 1, 0, 2, 1, 2, 0, 0, 2, 1, 0, 0, 0, 2, 0,\n",
       "       0, 2, 2, 2, 2, 2, 2, 2, 0, 2, 0, 0, 0, 1, 2, 2, 2, 1, 1, 2, 0, 2,\n",
       "       1, 2, 0, 2, 2, 2, 0, 0, 0, 2, 1, 0, 0, 0, 2, 2, 0, 1, 2, 0, 2, 0,\n",
       "       1, 0, 2, 2, 2, 2, 1, 2, 0, 2, 0, 2, 0, 0, 2, 0, 2, 0, 0, 0, 0, 2,\n",
       "       2, 0, 0, 2, 1, 2, 0, 2, 0, 2, 0, 0, 2, 0, 1, 1, 2, 1, 2, 2, 0, 2,\n",
       "       2, 0, 2, 1, 2, 2, 2, 1, 2, 0])"
      ]
     },
     "execution_count": 181,
     "metadata": {},
     "output_type": "execute_result"
    }
   ],
   "source": [
    "y_true = np.concatenate([y for x, y in val_ds], axis=0)\n",
    "y_true"
   ]
  },
  {
   "cell_type": "code",
   "execution_count": null,
   "metadata": {},
   "outputs": [
    {
     "data": {
      "text/plain": [
       "<tf.Tensor: shape=(3, 3), dtype=int32, numpy=\n",
       "array([[ 87,   0,   8],\n",
       "       [  0,  45,   0],\n",
       "       [  7,   0, 105]])>"
      ]
     },
     "execution_count": 182,
     "metadata": {},
     "output_type": "execute_result"
    }
   ],
   "source": [
    "confusion_mtx = tf.math.confusion_matrix(y_true, top_pred_ids, num_classes=classes)\n",
    "    # list(ds_test.map(lambda x, y: y)),\n",
    "    # predict_class_label_number(test_data),\n",
    "    # num_classes=len(label_names))\n",
    "    \n",
    "confusion_mtx"
   ]
  },
  {
   "cell_type": "code",
   "execution_count": null,
   "metadata": {},
   "outputs": [],
   "source": [
    "def show_confusion_matrix(cm, labels):\n",
    "  plt.figure(figsize=(6, 6))\n",
    "  sns.heatmap(cm, xticklabels=labels, yticklabels=labels, \n",
    "              annot=True, fmt='g')\n",
    "  plt.xlabel('Prediction')\n",
    "  plt.ylabel('Label')\n",
    "  plt.show()"
   ]
  },
  {
   "cell_type": "code",
   "execution_count": null,
   "metadata": {},
   "outputs": [
    {
     "data": {
      "image/png": "[encoded data removed]",
      "text/plain": [
       "<Figure size 600x600 with 2 Axes>"
      ]
     },
     "metadata": {},
     "output_type": "display_data"
    }
   ],
   "source": [
    "show_confusion_matrix(confusion_mtx, labels)"
   ]
  },
  {
   "cell_type": "code",
   "execution_count": null,
   "metadata": {},
   "outputs": [
    {
     "data": {
      "text/plain": [
       "array([0, 0, 1, 0, 0, 1, 2, 1, 2, 2, 2, 0, 2, 0, 2, 2, 2, 1, 0, 2, 0, 1,\n",
       "       1, 0, 2, 2, 2, 2, 0, 0, 0, 2, 0, 0, 0, 0, 0, 1, 1, 2, 2, 0, 2, 2,\n",
       "       2, 2, 2, 0, 1, 0, 1, 0, 0, 2, 0, 2, 2, 0, 2, 2, 0, 1, 2, 0, 2, 0,\n",
       "       0, 1, 2, 2, 1, 1, 0, 2, 1, 0, 2, 0, 1, 2, 2, 2, 2, 0, 0, 0, 0, 2,\n",
       "       0, 2, 0, 0, 0, 0, 0, 0, 0, 1, 0, 2, 2, 1, 1, 1, 1, 1, 2, 0, 0, 0,\n",
       "       2, 2, 2, 2, 2, 0, 2, 2, 0, 2, 2, 1, 0, 0, 2, 1, 0, 2, 0, 2, 1, 0,\n",
       "       0, 1, 2, 1, 2, 2, 2, 1, 1, 0, 2, 1, 2, 0, 0, 2, 1, 2, 2, 0, 2, 0,\n",
       "       0, 2, 2, 2, 2, 2, 2, 2, 0, 2, 0, 0, 0, 1, 2, 2, 2, 1, 1, 2, 0, 2,\n",
       "       1, 2, 0, 2, 2, 2, 0, 0, 0, 2, 1, 0, 0, 0, 2, 2, 2, 1, 2, 0, 2, 0,\n",
       "       1, 0, 2, 2, 2, 2, 1, 2, 0, 2, 0, 0, 0, 0, 2, 0, 2, 2, 0, 0, 0, 2,\n",
       "       2, 0, 0, 2, 1, 2, 0, 2, 2, 2, 0, 0, 2, 0, 1, 1, 2, 1, 2, 2, 0, 2,\n",
       "       2, 0, 2, 1, 2, 2, 2, 1, 2, 0], dtype=int64)"
      ]
     },
     "execution_count": 185,
     "metadata": {},
     "output_type": "execute_result"
    }
   ],
   "source": [
    "top_pred_ids"
   ]
  },
  {
   "cell_type": "code",
   "execution_count": null,
   "metadata": {},
   "outputs": [
    {
     "data": {
      "text/plain": [
       "array([[9.98634875e-01, 9.70571637e-06, 1.35528960e-03],\n",
       "       [8.69496107e-01, 4.40537668e-04, 1.30063385e-01],\n",
       "       [7.81433773e-04, 9.97772396e-01, 1.44612964e-03],\n",
       "       [6.80700362e-01, 3.81848635e-03, 3.15481186e-01],\n",
       "       [9.88369346e-01, 7.42694363e-04, 1.08880112e-02],\n",
       "       [6.56643359e-04, 9.96850312e-01, 2.49302411e-03],\n",
       "       [2.74405786e-04, 5.06958633e-04, 9.99218583e-01],\n",
       "       [1.04353926e-03, 9.97477710e-01, 1.47872430e-03],\n",
       "       [3.42178321e-03, 2.30503196e-04, 9.96347725e-01],\n",
       "       [4.78224829e-03, 4.46792808e-04, 9.94770944e-01],\n",
       "       [6.82326092e-04, 2.85239337e-04, 9.99032497e-01],\n",
       "       [9.61542904e-01, 4.76013607e-04, 3.79809998e-02],\n",
       "       [5.11775771e-03, 7.97758694e-04, 9.94084537e-01],\n",
       "       [9.69432414e-01, 1.63845043e-03, 2.89291833e-02],\n",
       "       [8.24281131e-04, 2.05236356e-04, 9.98970509e-01],\n",
       "       [2.09083818e-02, 1.71040636e-04, 9.78920519e-01],\n",
       "       [7.18630385e-03, 1.15160004e-03, 9.91662145e-01],\n",
       "       [2.72379047e-03, 9.95868087e-01, 1.40805799e-03],\n",
       "       [7.71268368e-01, 1.21632626e-03, 2.27515355e-01],\n",
       "       [3.55762383e-03, 1.71518349e-03, 9.94727194e-01],\n",
       "       [9.20144320e-01, 1.87376383e-04, 7.96683282e-02],\n",
       "       [1.26945891e-03, 9.96607065e-01, 2.12351442e-03],\n",
       "       [5.29860379e-04, 9.98469770e-01, 1.00028107e-03],\n",
       "       [9.83409643e-01, 5.28563629e-04, 1.60617232e-02],\n",
       "       [4.39466350e-02, 4.05267114e-03, 9.52000678e-01],\n",
       "       [8.49248841e-03, 1.77085423e-03, 9.89736676e-01],\n",
       "       [1.27243735e-02, 5.21048671e-04, 9.86754596e-01],\n",
       "       [2.20483635e-03, 1.09582604e-03, 9.96699274e-01],\n",
       "       [9.99095440e-01, 1.57253203e-06, 9.03008622e-04],\n",
       "       [5.49490929e-01, 4.78571560e-03, 4.45723325e-01],\n",
       "       [9.95939612e-01, 4.86104800e-05, 4.01178608e-03],\n",
       "       [3.56801809e-03, 7.34737550e-04, 9.95697260e-01],\n",
       "       [9.99853134e-01, 1.53906731e-05, 1.31422566e-04],\n",
       "       [9.99960899e-01, 5.78986260e-07, 3.85022067e-05],\n",
       "       [9.88359690e-01, 2.97873979e-03, 8.66154488e-03],\n",
       "       [9.79387283e-01, 3.96718038e-04, 2.02160086e-02],\n",
       "       [9.63749528e-01, 4.64425562e-03, 3.16062383e-02],\n",
       "       [9.65578365e-04, 9.97711420e-01, 1.32301322e-03],\n",
       "       [1.43837603e-03, 9.96692777e-01, 1.86888350e-03],\n",
       "       [1.66078940e-01, 8.74997582e-03, 8.25171113e-01],\n",
       "       [9.45505593e-03, 3.15046660e-03, 9.87394452e-01],\n",
       "       [9.99793708e-01, 2.19867761e-05, 1.84397868e-04],\n",
       "       [3.34195374e-03, 4.68483515e-04, 9.96189535e-01],\n",
       "       [8.25853571e-02, 4.35300171e-03, 9.13061678e-01],\n",
       "       [2.16391589e-03, 8.19697918e-04, 9.97016430e-01],\n",
       "       [7.22247502e-03, 2.31067301e-03, 9.90466774e-01],\n",
       "       [7.22285011e-04, 2.48402474e-04, 9.99029279e-01],\n",
       "       [8.71329069e-01, 3.20751639e-03, 1.25463456e-01],\n",
       "       [5.43695781e-03, 9.93539870e-01, 1.02322281e-03],\n",
       "       [9.74052370e-01, 8.85353438e-05, 2.58591417e-02],\n",
       "       [7.66088546e-04, 9.97904658e-01, 1.32923503e-03],\n",
       "       [9.99986768e-01, 1.14924558e-06, 1.20397244e-05],\n",
       "       [9.07461643e-01, 4.44525434e-03, 8.80931243e-02],\n",
       "       [1.93429161e-02, 4.70440660e-04, 9.80186641e-01],\n",
       "       [9.98676360e-01, 1.05112840e-05, 1.31315284e-03],\n",
       "       [3.79950879e-03, 7.29909679e-03, 9.88901377e-01],\n",
       "       [2.16930974e-02, 7.79450522e-04, 9.77527499e-01],\n",
       "       [9.99423981e-01, 7.05025668e-05, 5.05543256e-04],\n",
       "       [1.15256931e-03, 1.00586520e-04, 9.98746872e-01],\n",
       "       [7.44551013e-04, 5.42144553e-05, 9.99201238e-01],\n",
       "       [9.48280096e-01, 1.55505969e-03, 5.01649119e-02],\n",
       "       [7.57487083e-04, 9.98119056e-01, 1.12342916e-03],\n",
       "       [2.33233664e-02, 1.12964204e-02, 9.65380251e-01],\n",
       "       [6.91124618e-01, 2.19588447e-03, 3.06679517e-01],\n",
       "       [5.84043656e-03, 1.77290625e-04, 9.93982255e-01],\n",
       "       [9.98403609e-01, 6.30536015e-05, 1.53327431e-03],\n",
       "       [5.86192966e-01, 4.30459436e-03, 4.09502417e-01],\n",
       "       [7.81540573e-03, 9.90061283e-01, 2.12340709e-03],\n",
       "       [5.31066395e-03, 7.51789310e-04, 9.93937492e-01],\n",
       "       [7.39023963e-04, 2.16630302e-04, 9.99044359e-01],\n",
       "       [1.25946791e-03, 9.97246623e-01, 1.49393105e-03],\n",
       "       [3.72691872e-03, 9.94316161e-01, 1.95696135e-03],\n",
       "       [9.97146666e-01, 3.38953505e-05, 2.81941588e-03],\n",
       "       [4.13876446e-03, 3.26782261e-04, 9.95534420e-01],\n",
       "       [5.19679394e-04, 9.97835934e-01, 1.64435233e-03],\n",
       "       [9.99509215e-01, 1.35713599e-05, 4.77206457e-04],\n",
       "       [5.73576130e-02, 6.00242941e-03, 9.36639905e-01],\n",
       "       [8.75486672e-01, 4.73637832e-03, 1.19776987e-01],\n",
       "       [3.18335043e-03, 9.95251179e-01, 1.56544137e-03],\n",
       "       [8.21558479e-03, 6.53998868e-04, 9.91130471e-01],\n",
       "       [2.88834621e-04, 1.21135083e-04, 9.99590099e-01],\n",
       "       [3.59495590e-03, 3.37404991e-03, 9.93030965e-01],\n",
       "       [7.26979971e-02, 1.16548408e-03, 9.26136494e-01],\n",
       "       [9.98729050e-01, 3.70788912e-05, 1.23391452e-03],\n",
       "       [6.67154133e-01, 4.24357364e-03, 3.28602254e-01],\n",
       "       [7.03136802e-01, 1.41227851e-03, 2.95450836e-01],\n",
       "       [9.60869849e-01, 7.30526634e-04, 3.83996218e-02],\n",
       "       [1.99807505e-03, 4.75091190e-04, 9.97526824e-01],\n",
       "       [9.99995112e-01, 5.92319793e-07, 4.27954865e-06],\n",
       "       [1.63675155e-02, 1.78235781e-03, 9.81850088e-01],\n",
       "       [9.81473625e-01, 1.41098071e-03, 1.71153657e-02],\n",
       "       [9.55078602e-01, 6.00076513e-04, 4.43212353e-02],\n",
       "       [9.94533896e-01, 1.61135598e-04, 5.30496426e-03],\n",
       "       [9.97873545e-01, 2.82030756e-04, 1.84437237e-03],\n",
       "       [8.54979277e-01, 2.00093887e-03, 1.43019781e-01],\n",
       "       [9.99930739e-01, 7.25724988e-07, 6.85588020e-05],\n",
       "       [5.72867393e-01, 2.63301656e-03, 4.24499571e-01],\n",
       "       [8.94962461e-04, 9.97524798e-01, 1.58027885e-03],\n",
       "       [9.99992609e-01, 1.89836875e-08, 7.36541006e-06],\n",
       "       [1.80831703e-04, 1.40542325e-04, 9.99678612e-01],\n",
       "       [6.76569790e-02, 6.66081090e-04, 9.31676984e-01],\n",
       "       [9.56925331e-04, 9.97544825e-01, 1.49822852e-03],\n",
       "       [7.55305286e-04, 9.97854888e-01, 1.38972327e-03],\n",
       "       [9.25903558e-04, 9.97179031e-01, 1.89503829e-03],\n",
       "       [1.34562119e-03, 9.93884623e-01, 4.76973830e-03],\n",
       "       [6.13859901e-03, 9.92943466e-01, 9.17914440e-04],\n",
       "       [8.71491968e-04, 3.18537961e-04, 9.98809934e-01],\n",
       "       [9.99447525e-01, 1.21327002e-05, 5.40284032e-04],\n",
       "       [8.17138612e-01, 1.49216014e-03, 1.81369215e-01],\n",
       "       [9.99956489e-01, 3.50126538e-06, 4.01015495e-05],\n",
       "       [3.73886861e-02, 1.28225482e-03, 9.61329043e-01],\n",
       "       [5.29894419e-03, 1.82014285e-03, 9.92880940e-01],\n",
       "       [1.15871001e-02, 6.08443224e-04, 9.87804413e-01],\n",
       "       [8.90694791e-04, 3.70954192e-04, 9.98738348e-01],\n",
       "       [4.97117033e-03, 1.05720501e-04, 9.94923174e-01],\n",
       "       [7.62535274e-01, 4.49663121e-03, 2.32968137e-01],\n",
       "       [2.10053012e-01, 5.25388075e-03, 7.84693122e-01],\n",
       "       [1.22730406e-02, 3.22318589e-03, 9.84503746e-01],\n",
       "       [9.96231735e-01, 1.52796376e-04, 3.61544848e-03],\n",
       "       [7.27291859e-04, 6.97309792e-04, 9.98575449e-01],\n",
       "       [3.32386320e-04, 1.44454825e-04, 9.99523163e-01],\n",
       "       [8.11049540e-04, 9.97833550e-01, 1.35548692e-03],\n",
       "       [6.65644228e-01, 4.83841263e-03, 3.29517424e-01],\n",
       "       [9.95276570e-01, 8.16994521e-04, 3.90644697e-03],\n",
       "       [2.93686194e-03, 4.74191591e-04, 9.96588945e-01],\n",
       "       [1.57859444e-03, 9.94316161e-01, 4.10522427e-03],\n",
       "       [9.69032943e-01, 4.65001119e-03, 2.63170023e-02],\n",
       "       [5.44648431e-03, 5.82698383e-04, 9.93970871e-01],\n",
       "       [9.80409384e-01, 1.10502981e-04, 1.94802172e-02],\n",
       "       [1.01066083e-01, 1.99937867e-03, 8.96934509e-01],\n",
       "       [3.30195739e-03, 9.95265603e-01, 1.43244793e-03],\n",
       "       [9.59584594e-01, 2.12595705e-03, 3.82893868e-02],\n",
       "       [6.46050513e-01, 5.11740986e-03, 3.48832071e-01],\n",
       "       [3.48914647e-03, 9.95213628e-01, 1.29715120e-03],\n",
       "       [3.76365846e-04, 2.97840365e-04, 9.99325871e-01],\n",
       "       [5.16597123e-04, 9.98283505e-01, 1.19996502e-03],\n",
       "       [3.07254697e-04, 9.33897827e-05, 9.99599397e-01],\n",
       "       [2.09160359e-03, 9.20437276e-04, 9.96987998e-01],\n",
       "       [6.15708577e-03, 3.87417190e-02, 9.55101192e-01],\n",
       "       [1.71605789e-03, 9.96861458e-01, 1.42245030e-03],\n",
       "       [2.89873756e-03, 9.95626688e-01, 1.47458387e-03],\n",
       "       [9.85078335e-01, 2.14765212e-04, 1.47068454e-02],\n",
       "       [4.16762196e-03, 1.83054392e-04, 9.95649278e-01],\n",
       "       [8.30349803e-04, 9.97977197e-01, 1.19236961e-03],\n",
       "       [4.97129513e-03, 1.72541093e-03, 9.93303239e-01],\n",
       "       [9.99968171e-01, 1.71529427e-06, 3.01211367e-05],\n",
       "       [5.08400857e-01, 3.63293886e-02, 4.55269754e-01],\n",
       "       [5.87375052e-02, 2.25859624e-03, 9.39003885e-01],\n",
       "       [8.00376409e-04, 9.98127162e-01, 1.07236905e-03],\n",
       "       [4.32198167e-01, 2.13712128e-03, 5.65664649e-01],\n",
       "       [3.85186195e-01, 6.80324109e-03, 6.08010530e-01],\n",
       "       [9.46870506e-01, 2.43789342e-04, 5.28856516e-02],\n",
       "       [6.13406999e-03, 1.50698493e-03, 9.92358983e-01],\n",
       "       [7.27074921e-01, 1.26092194e-03, 2.71664172e-01],\n",
       "       [6.14312232e-01, 1.04164863e-02, 3.75271261e-01],\n",
       "       [7.10469577e-03, 2.62405002e-03, 9.90271330e-01],\n",
       "       [1.98165298e-01, 8.95812549e-03, 7.92876601e-01],\n",
       "       [1.15049630e-03, 1.08812016e-03, 9.97761369e-01],\n",
       "       [1.49437673e-02, 1.45958131e-03, 9.83596683e-01],\n",
       "       [5.44558614e-02, 2.95238546e-03, 9.42591786e-01],\n",
       "       [2.72318944e-02, 3.12430231e-04, 9.72455680e-01],\n",
       "       [5.02403826e-02, 1.34837604e-03, 9.48411226e-01],\n",
       "       [9.99118507e-01, 1.40817328e-05, 8.67406605e-04],\n",
       "       [1.64284810e-01, 6.54895529e-02, 7.70225704e-01],\n",
       "       [9.98971581e-01, 2.26718636e-04, 8.01644230e-04],\n",
       "       [9.28252876e-01, 9.60855221e-04, 7.07863122e-02],\n",
       "       [9.05611694e-01, 1.45549211e-03, 9.29328129e-02],\n",
       "       [8.03523697e-04, 9.97663379e-01, 1.53319049e-03],\n",
       "       [6.88261390e-02, 6.63756998e-03, 9.24536288e-01],\n",
       "       [2.92985747e-03, 4.22156416e-04, 9.96648014e-01],\n",
       "       [1.05355901e-03, 7.45357305e-04, 9.98201013e-01],\n",
       "       [7.82458577e-04, 9.98182833e-01, 1.03468006e-03],\n",
       "       [1.87818287e-03, 9.93452668e-01, 4.66920994e-03],\n",
       "       [2.24518999e-02, 1.55443163e-03, 9.75993693e-01],\n",
       "       [9.22738552e-01, 1.08010985e-03, 7.61814043e-02],\n",
       "       [1.18056021e-03, 1.73875596e-04, 9.98645604e-01],\n",
       "       [8.09965481e-04, 9.97898698e-01, 1.29134161e-03],\n",
       "       [1.12455629e-03, 1.86449266e-04, 9.98688996e-01],\n",
       "       [9.99084949e-01, 1.24553044e-04, 7.90481805e-04],\n",
       "       [1.26666646e-03, 5.66164235e-05, 9.98676717e-01],\n",
       "       [6.87183638e-04, 1.60376745e-04, 9.99152422e-01],\n",
       "       [9.57340524e-02, 3.01521225e-03, 9.01250660e-01],\n",
       "       [7.56006479e-01, 2.31276732e-03, 2.41680741e-01],\n",
       "       [9.99852538e-01, 1.79092365e-06, 1.45640370e-04],\n",
       "       [9.99902725e-01, 1.99453481e-07, 9.70379988e-05],\n",
       "       [1.25827116e-03, 6.57688361e-04, 9.98084068e-01],\n",
       "       [3.98092754e-02, 9.57498312e-01, 2.69237207e-03],\n",
       "       [9.75216985e-01, 8.25113850e-04, 2.39578988e-02],\n",
       "       [9.69665706e-01, 1.10276630e-02, 1.93065442e-02],\n",
       "       [9.64004934e-01, 3.76302865e-03, 3.22320163e-02],\n",
       "       [1.99637897e-02, 1.17015396e-03, 9.78866041e-01],\n",
       "       [1.17286565e-02, 2.22866563e-03, 9.86042678e-01],\n",
       "       [4.22718257e-01, 7.95036089e-03, 5.69331467e-01],\n",
       "       [2.82455119e-03, 9.93880391e-01, 3.29506700e-03],\n",
       "       [7.93845505e-02, 2.19212025e-02, 8.98694217e-01],\n",
       "       [9.97463942e-01, 3.32268755e-05, 2.50287540e-03],\n",
       "       [5.06898249e-03, 4.17701987e-04, 9.94513273e-01],\n",
       "       [9.92872059e-01, 9.49264038e-04, 6.17872877e-03],\n",
       "       [6.13380864e-04, 9.97922242e-01, 1.46444573e-03],\n",
       "       [9.83758152e-01, 2.20232541e-04, 1.60216019e-02],\n",
       "       [4.19643102e-03, 1.12007547e-03, 9.94683564e-01],\n",
       "       [1.27052153e-02, 1.85113470e-03, 9.85443652e-01],\n",
       "       [1.07793290e-04, 1.16468233e-04, 9.99775708e-01],\n",
       "       [4.94691636e-03, 4.64681245e-04, 9.94588375e-01],\n",
       "       [1.21281145e-03, 9.97298658e-01, 1.48861785e-03],\n",
       "       [5.34540159e-04, 3.15998012e-04, 9.99149442e-01],\n",
       "       [9.63942468e-01, 1.61285468e-04, 3.58962305e-02],\n",
       "       [5.02079874e-02, 2.62125582e-03, 9.47170734e-01],\n",
       "       [9.99901772e-01, 5.01398317e-05, 4.80401322e-05],\n",
       "       [7.31884062e-01, 5.50610200e-03, 2.62609810e-01],\n",
       "       [9.99915719e-01, 2.20564880e-06, 8.19922861e-05],\n",
       "       [9.99870896e-01, 2.21811342e-06, 1.26866842e-04],\n",
       "       [2.63378192e-02, 1.95929985e-02, 9.54069138e-01],\n",
       "       [9.99735177e-01, 1.17952768e-05, 2.53042614e-04],\n",
       "       [2.47621094e-03, 5.49064949e-04, 9.96974707e-01],\n",
       "       [4.90142107e-01, 7.13294139e-03, 5.02724946e-01],\n",
       "       [5.44306815e-01, 2.94908648e-03, 4.52744156e-01],\n",
       "       [9.85878468e-01, 1.75352604e-03, 1.23680448e-02],\n",
       "       [9.99853373e-01, 2.90884418e-06, 1.43775105e-04],\n",
       "       [3.31525132e-03, 6.13314798e-04, 9.96071458e-01],\n",
       "       [2.47774366e-03, 2.03212188e-03, 9.95490134e-01],\n",
       "       [9.78858829e-01, 2.41744347e-04, 2.08993889e-02],\n",
       "       [9.91346061e-01, 2.67140364e-04, 8.38687550e-03],\n",
       "       [2.23408028e-01, 4.41151578e-03, 7.72180498e-01],\n",
       "       [7.87241326e-04, 9.94821429e-01, 4.39139036e-03],\n",
       "       [2.11220086e-02, 1.22580561e-03, 9.77652192e-01],\n",
       "       [9.84837890e-01, 4.22903220e-04, 1.47391949e-02],\n",
       "       [3.49619836e-02, 5.29780285e-03, 9.59740162e-01],\n",
       "       [3.95872086e-01, 5.50915673e-03, 5.98618686e-01],\n",
       "       [8.70253146e-03, 6.59287907e-04, 9.90638137e-01],\n",
       "       [9.08362150e-01, 7.76357774e-04, 9.08615142e-02],\n",
       "       [9.99747813e-01, 2.34776999e-05, 2.28659963e-04],\n",
       "       [2.18195771e-03, 4.77879774e-04, 9.97340143e-01],\n",
       "       [9.85328376e-01, 5.64282853e-03, 9.02886502e-03],\n",
       "       [2.63961824e-03, 9.96329367e-01, 1.03099819e-03],\n",
       "       [4.36150655e-03, 9.94113386e-01, 1.52508635e-03],\n",
       "       [5.12117483e-02, 2.02084822e-03, 9.46767390e-01],\n",
       "       [2.84899981e-03, 9.96046364e-01, 1.10467663e-03],\n",
       "       [5.58608538e-03, 4.70751635e-04, 9.93943155e-01],\n",
       "       [6.38985867e-03, 1.41901069e-03, 9.92191136e-01],\n",
       "       [9.97471988e-01, 5.38588574e-05, 2.47407658e-03],\n",
       "       [1.85089579e-04, 4.41369666e-05, 9.99770820e-01],\n",
       "       [1.22348289e-03, 2.75473663e-04, 9.98501062e-01],\n",
       "       [9.92506087e-01, 9.86724481e-05, 7.39524467e-03],\n",
       "       [4.86462191e-02, 9.01013904e-04, 9.50452805e-01],\n",
       "       [8.29330937e-04, 9.98070896e-01, 1.09979138e-03],\n",
       "       [7.57163763e-03, 1.18464843e-04, 9.92309928e-01],\n",
       "       [3.72780312e-04, 1.38357485e-04, 9.99488831e-01],\n",
       "       [1.22909725e-01, 5.89351461e-04, 8.76500905e-01],\n",
       "       [1.47129875e-03, 9.93433714e-01, 5.09497803e-03],\n",
       "       [7.87405297e-04, 4.89124155e-04, 9.98723447e-01],\n",
       "       [9.17491555e-01, 5.87003306e-04, 8.19213837e-02]], dtype=float32)"
      ]
     },
     "execution_count": 186,
     "metadata": {},
     "output_type": "execute_result"
    }
   ],
   "source": [
    "val_predictions"
   ]
  },
  {
   "attachments": {},
   "cell_type": "markdown",
   "metadata": {},
   "source": [
    "## Code reserved for troubleshooting"
   ]
  },
  {
   "cell_type": "code",
   "execution_count": null,
   "metadata": {},
   "outputs": [],
   "source": [
    "def mobilenet_v1_keras(input_shape, classes=classes, alpha=alpha):\n",
    "    model = tf.keras.applications.mobilenet.MobileNet(\n",
    "        input_shape=input_shape,\n",
    "        alpha=alpha,\n",
    "        depth_multiplier=1,\n",
    "        dropout=0.001,\n",
    "        include_top=True,\n",
    "        weights=None, #'imagenet'\n",
    "        input_tensor=None,\n",
    "        pooling=None,\n",
    "        classes=classes,\n",
    "        classifier_activation='softmax',\n",
    "        #**kwargs\n",
    "    )\n",
    "\n",
    "    #model._name = model.name + \"_keras\" # model.name cannot be overritten\n",
    "\n",
    "    return model\n",
    "    #model = mobilenet_v1_keras((IMG_WIDTH, IMG_HEIGHT, 3), classes=classes, alpha=alpha)"
   ]
  },
  {
   "cell_type": "code",
   "execution_count": null,
   "metadata": {},
   "outputs": [],
   "source": [
    "#os.environ[\"WANDB_MODE\"] = \"online\"\n",
    "def train_model(model):\n",
    "\n",
    "        # solve issue from: https://github.com/wandb/wandb/issues/3536\n",
    "        # if len(wandb.patched[\"tensorboard\"]) > 0:\n",
    "        #         wandb.tensorboard.unpatch()\n",
    "                \n",
    "        # Configure Tensorboard root log directory to read the debugging information\n",
    "        #wandb.tensorboard.patch(root_logdir=root_logdir)\n",
    "        # wandb.tensorboard.patch(root_logdir=\"wandb.run.dir\")\n",
    "        \n",
    "        # wandb.init(\n",
    "        #         # Set the project where this run will be logged\n",
    "        #         project=PROJECT, \n",
    "        #         # Track hyperparameters and run metadata\n",
    "        #         #config={\n",
    "        #         #\"learning_rate\": LR,\n",
    "        #         #\"epochs\": EPOCHS,\n",
    "        #         #},\n",
    "        #         sync_tensorboard=True\n",
    "        #         )\n",
    "\n",
    "\n",
    "\n",
    "        # config = wandb.config\n",
    "        # # Specify the configuration variables\n",
    "        # config.batch_size = BATCH_SIZE\n",
    "        # config.dropout =DROPOUT\n",
    "        # config.learn_rate = LR\n",
    "        # #config.decay = 1e-6\n",
    "        # #config.momentum = 0.9\n",
    "        # config.epochs = EPOCHS\n",
    "        # config.classes = classes\n",
    "        \n",
    "\n",
    "        # enable Tensorflow Debugging\n",
    "        #tf.debugging.experimental.enable_dump_debug_info(\"./logs/debug\", \n",
    "        #        tensor_debug_mode=\"FULL_HEALTH\", circular_buffer_size=-1)\n",
    "\n",
    "        #model = mobilenet\n",
    "        model.compile(optimizer='adam',\n",
    "                        loss='sparse_categorical_crossentropy',\n",
    "                        metrics=['accuracy'])\n",
    "\n",
    "        logdir = os.path.join(\"logs\", datetime.datetime.now().strftime(\"%Y%m%d-%H%M%S\"))\n",
    "        #tensorboard_callback = tf.keras.callbacks.TensorBoard(log_dir= wandb.run.dir, histogram_freq=10, update_freq=\"epoch\") #, profile_batch=\"10, 20\")\n",
    "        tensorboard_callback = tf.keras.callbacks.TensorBoard(log_dir= logdir) #, histogram_freq=1)\n",
    "        #wandb_callback = WandbCallback()# input_type=\"image\", labels=labels) #, validation_data = val_ds.as_numpy_iterator())\n",
    "\n",
    "        early_stopping = EarlyStopping(monitor=\"val_accuracy\", patience=50)\n",
    "\n",
    "        #checkpoint = ModelCheckpoint(\"my_tiny_model\", save_weights_only=True)\n",
    "\n",
    "        callbacks =[\n",
    "                #tensorboard_callback,\n",
    "                #wandb_callback,\n",
    "                #WandbMetricsLogger(),\n",
    "                #checkpoint,\n",
    "                #early_stopping\n",
    "        ]\n",
    "\n",
    "        history = model.fit(train_ds,\n",
    "                epochs=EPOCHS, \n",
    "                validation_data=val_ds, \n",
    "                callbacks=callbacks\n",
    "        )\n",
    "\n",
    "        # wandb.log({\n",
    "        #         \"loss\": history.history[\"loss\"],\n",
    "        #         \"accuracy\": history.history[\"accuracy\"],\n",
    "        #         \"val_loss\": history.history[\"val_loss\"],\n",
    "        #         \"val_accuracy\": history.history[\"val_accuracy\"],                                \n",
    "        # })\n",
    "        \n",
    "        #wandb.finish()\n",
    "        return history, model\n"
   ]
  },
  {
   "cell_type": "code",
   "execution_count": null,
   "metadata": {},
   "outputs": [],
   "source": [
    "# model.compile(optimizer='adam',\n",
    "#                 loss='sparse_categorical_crossentropy',\n",
    "#                 metrics=['accuracy'])"
   ]
  },
  {
   "cell_type": "code",
   "execution_count": null,
   "metadata": {},
   "outputs": [],
   "source": [
    "# history = model.fit(train_ds,\n",
    "#                 epochs=EPOCHS, \n",
    "#                 validation_data=val_ds\n",
    "#         )"
   ]
  },
  {
   "cell_type": "code",
   "execution_count": null,
   "metadata": {},
   "outputs": [
    {
     "data": {
      "text/plain": [
       "dict_keys(['loss', 'accuracy', 'val_loss', 'val_accuracy', 'lr'])"
      ]
     },
     "execution_count": 191,
     "metadata": {},
     "output_type": "execute_result"
    }
   ],
   "source": [
    "#history.history[\"loss\"]\n",
    "history.history.keys()"
   ]
  },
  {
   "cell_type": "code",
   "execution_count": null,
   "metadata": {},
   "outputs": [
    {
     "data": {
      "text/plain": [
       "{'verbose': 1, 'epochs': 100, 'steps': 64}"
      ]
     },
     "execution_count": 192,
     "metadata": {},
     "output_type": "execute_result"
    }
   ],
   "source": [
    "history.params"
   ]
  },
  {
   "cell_type": "code",
   "execution_count": null,
   "metadata": {},
   "outputs": [],
   "source": []
  }
 ],
 "metadata": {
  "kernelspec": {
   "display_name": "tiny_cnn_5",
   "language": "python",
   "name": "python3"
  },
  "language_info": {
   "codemirror_mode": {
    "name": "ipython",
    "version": 3
   },
   "file_extension": ".py",
   "mimetype": "text/x-python",
   "name": "python",
   "nbconvert_exporter": "python",
   "pygments_lexer": "ipython3",
   "version": "3.10.6"
  },
  "orig_nbformat": 4,
  "vscode": {
   "interpreter": {
    "hash": "4b362e3f7439b35b0bc0fa2e0c3a5b3cc0154c779cd4216b658aa3553d61d067"
   }
  }
 },
 "nbformat": 4,
 "nbformat_minor": 2
}
