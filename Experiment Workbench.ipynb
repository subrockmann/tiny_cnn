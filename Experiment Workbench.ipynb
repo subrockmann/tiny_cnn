{
 "cells": [
  {
   "cell_type": "markdown",
   "metadata": {},
   "source": [
    "# Experiment Workbench"
   ]
  },
  {
   "cell_type": "code",
   "execution_count": 1,
   "metadata": {},
   "outputs": [
    {
     "name": "stderr",
     "output_type": "stream",
     "text": [
      "d:\\Miniconda\\envs\\tiny_cnn\\lib\\site-packages\\deeplake\\util\\check_latest_version.py:32: UserWarning: A newer version of deeplake (3.0.13) is available. It's recommended that you update to the latest version using `pip install -U deeplake`.\n",
      "  warnings.warn(\n"
     ]
    }
   ],
   "source": [
    "import os, sys, math, datetime\n",
    "import pathlib\n",
    "from pathlib import Path\n",
    "import numpy as np\n",
    "import random\n",
    "from matplotlib import pyplot as plt\n",
    "import PIL\n",
    "import PIL.Image\n",
    "\n",
    "import tensorflow as tf\n",
    "import tensorflow_datasets as tfds\n",
    "from tensorflow import keras\n",
    "from tensorflow.keras.layers import Input, Dense, Flatten, Conv2D, MaxPooling2D, GlobalAveragePooling2D, BatchNormalization, Concatenate\n",
    "from tensorflow.keras.models import Model\n",
    "from tensorflow.keras.callbacks import ModelCheckpoint, EarlyStopping\n",
    "\n",
    "from dotenv import load_dotenv\n",
    "import boto3\n",
    "import wandb\n",
    "from wandb.keras import WandbCallback\n",
    "import mlflow\n",
    "import deeplake\n"
   ]
  },
  {
   "cell_type": "code",
   "execution_count": 2,
   "metadata": {},
   "outputs": [
    {
     "name": "stdout",
     "output_type": "stream",
     "text": [
      "Tensorflow version 2.10.0\n",
      "Found GPU at: /device:GPU:0\n"
     ]
    }
   ],
   "source": [
    "\n",
    "print(\"Tensorflow version \" + tf.__version__)\n",
    "AUTOTUNE = tf.data.AUTOTUNE\n",
    "\n",
    "# Confirm that TensorFlow can access GPU\n",
    "device_name = tf.test.gpu_device_name()\n",
    "if not device_name:\n",
    "  raise SystemError('GPU device not found')\n",
    "print('Found GPU at: {}'.format(device_name))"
   ]
  },
  {
   "cell_type": "code",
   "execution_count": 3,
   "metadata": {},
   "outputs": [],
   "source": [
    "# Start a Tensorboard session\n",
    "%load_ext tensorboard"
   ]
  },
  {
   "cell_type": "code",
   "execution_count": 4,
   "metadata": {},
   "outputs": [],
   "source": [
    "#os.environ['WANDB_NOTEBOOK_NAME'] = 'Experiment Workbench'\n",
    "\n",
    "BATCH_SIZE = 128\n",
    "EPOCHS = 100\n",
    "#LOGGING_STEPS = 64\n",
    "LR = 0.001\n",
    "\n",
    "PROJECT = \"Tiny CNN\"\n",
    "MODELNAME = \"Simple_Net\"\n",
    "EXPERIMENT = \"MNIST\"\n",
    "RUN_NAME = \"Run_8\"\n",
    "\n",
    "logdir = os.path.join(\"logs\", MODELNAME, datetime.datetime.now().strftime(\"%Y%m%d-%H%M%S\"))\n",
    "\n",
    "root_logdir = os.getcwd()"
   ]
  },
  {
   "cell_type": "markdown",
   "metadata": {},
   "source": [
    "# Preparing the data"
   ]
  },
  {
   "cell_type": "code",
   "execution_count": 5,
   "metadata": {},
   "outputs": [],
   "source": [
    "def parse_tfr_element(element):\n",
    "    #use the same structure as above; it's kinda an outline of the structure we now want to create\n",
    "    data = {\n",
    "        'image/height': tf.io.FixedLenFeature([], tf.int64),\n",
    "        'image/width':tf.io.FixedLenFeature([], tf.int64),\n",
    "        'image/class/label':tf.io.FixedLenFeature([], tf.int64),\n",
    "        'image/encoded' : tf.io.FixedLenFeature([], tf.string),\n",
    "        }\n",
    "\n",
    "    # feature_dict = {\n",
    "    #     'image/height':\n",
    "    #         dataset_utils.int64_feature(image_height),\n",
    "    #     'image/width':\n",
    "    #         dataset_utils.int64_feature(image_width),\n",
    "    #     'image/filename':\n",
    "    #         dataset_utils.bytes_feature(filename.encode('utf8')),\n",
    "    #     'image/source_id':\n",
    "    #         dataset_utils.bytes_feature(str(image_id).encode('utf8')),\n",
    "    #     'image/key/sha256':\n",
    "    #         dataset_utils.bytes_feature(key.encode('utf8')),\n",
    "    #     'image/encoded':\n",
    "    #         dataset_utils.bytes_feature(encoded_jpg),\n",
    "    #     'image/format':\n",
    "    #         dataset_utils.bytes_feature('jpeg'.encode('utf8')),\n",
    "    #     'image/class/label':\n",
    "    #         dataset_utils.int64_feature(annotations['label']),\n",
    "    #     'image/object/bbox/xmin':\n",
    "    #         dataset_utils.float_list_feature(xmin),\n",
    "    #     'image/object/bbox/xmax':\n",
    "    #         dataset_utils.float_list_feature(xmax),\n",
    "    #     'image/object/bbox/ymin':\n",
    "    #         dataset_utils.float_list_feature(ymin),\n",
    "    #     'image/object/bbox/ymax':\n",
    "    #         dataset_utils.float_list_feature(ymax),\n",
    "    #     'image/object/area':\n",
    "    #         dataset_utils.float_list_feature(area),\n",
    "    # }\n",
    "    \n",
    "\n",
    "\n",
    "    content = tf.io.parse_single_example(element, data)\n",
    "    \n",
    "    height = content['image/height']\n",
    "    width = content['image/width']\n",
    "    label = content['image/class/label']\n",
    "    raw_image = content['image/encoded']\n",
    "    \n",
    "    \n",
    "    #get our 'feature'-- our image -- and reshape it appropriately\n",
    "    feature = tf.io.parse_tensor(raw_image, out_type=tf.int16)\n",
    "    feature = tf.reshape(feature, shape=[height,width,3])\n",
    "    return (feature, label)"
   ]
  },
  {
   "cell_type": "code",
   "execution_count": 5,
   "metadata": {},
   "outputs": [
    {
     "ename": "DatasetHandlerError",
     "evalue": "A Deep Lake dataset does not exist at the given path (hub://activeloop/cifar10-test). Check the path provided or in case you want to create a new dataset, use deeplake.empty().",
     "output_type": "error",
     "traceback": [
      "\u001b[1;31m---------------------------------------------------------------------------\u001b[0m",
      "\u001b[1;31mDatasetHandlerError\u001b[0m                       Traceback (most recent call last)",
      "Cell \u001b[1;32mIn [5], line 2\u001b[0m\n\u001b[0;32m      1\u001b[0m \u001b[39m#ds_train = deeplake.load('hub://activeloop/cifar10-train')\u001b[39;00m\n\u001b[1;32m----> 2\u001b[0m ds_test \u001b[39m=\u001b[39m ds \u001b[39m=\u001b[39m deeplake\u001b[39m.\u001b[39;49mload(\u001b[39m'\u001b[39;49m\u001b[39mhub://activeloop/cifar10-test\u001b[39;49m\u001b[39m'\u001b[39;49m)\n",
      "File \u001b[1;32md:\\Miniconda\\envs\\tiny_cnn\\lib\\site-packages\\deeplake\\api\\dataset.py:410\u001b[0m, in \u001b[0;36mdataset.load\u001b[1;34m(path, read_only, memory_cache_size, local_cache_size, creds, token, verbose, access_method)\u001b[0m\n\u001b[0;32m    408\u001b[0m     \u001b[39mraise\u001b[39;00m\n\u001b[0;32m    409\u001b[0m \u001b[39mif\u001b[39;00m \u001b[39mnot\u001b[39;00m dataset_exists(cache_chain):\n\u001b[1;32m--> 410\u001b[0m     \u001b[39mraise\u001b[39;00m DatasetHandlerError(\n\u001b[0;32m    411\u001b[0m         \u001b[39mf\u001b[39m\u001b[39m\"\u001b[39m\u001b[39mA Deep Lake dataset does not exist at the given path (\u001b[39m\u001b[39m{\u001b[39;00mpath\u001b[39m}\u001b[39;00m\u001b[39m). Check the path provided or in case you want to create a new dataset, use deeplake.empty().\u001b[39m\u001b[39m\"\u001b[39m\n\u001b[0;32m    412\u001b[0m     )\n\u001b[0;32m    414\u001b[0m \u001b[39mtry\u001b[39;00m:\n\u001b[0;32m    415\u001b[0m     \u001b[39mif\u001b[39;00m access_method \u001b[39m==\u001b[39m \u001b[39m\"\u001b[39m\u001b[39mstream\u001b[39m\u001b[39m\"\u001b[39m:\n",
      "\u001b[1;31mDatasetHandlerError\u001b[0m: A Deep Lake dataset does not exist at the given path (hub://activeloop/cifar10-test). Check the path provided or in case you want to create a new dataset, use deeplake.empty()."
     ]
    }
   ],
   "source": [
    "#ds_train = deeplake.load('hub://activeloop/cifar10-train')\n",
    "ds_test = ds = deeplake.load('hub://activeloop/cifar10-test')"
   ]
  },
  {
   "cell_type": "code",
   "execution_count": 31,
   "metadata": {},
   "outputs": [],
   "source": [
    "# Load some data\n",
    "(x_train, y_train), (x_test, y_test) = keras.datasets.cifar10.load_data()\n",
    "assert x_train.shape == (50000, 32, 32, 3)\n",
    "assert x_test.shape == (10000, 32, 32, 3)\n",
    "assert y_train.shape == (50000, 1)\n",
    "assert y_test.shape == (10000, 1)\n",
    "\n",
    "x_train = x_train.astype(\"float32\") / 255.0\n",
    "x_test = x_test.astype(\"float32\") / 255.0\n",
    "#y_train = keras.utils.to_categorical(y_train, 10)\n",
    "#y_test = keras.utils.to_categorical(y_test, 10)\n"
   ]
  },
  {
   "cell_type": "code",
   "execution_count": null,
   "metadata": {},
   "outputs": [],
   "source": [
    "\n",
    "input_shape = x_train.shape[1:]\n",
    "output_shape = (96,96)\n",
    "classes = 10\n",
    "labels = [\"airplane\", \"automobile\", \"bird\", \"cat\", \"deer\", \"dog\", \"frog\", \"horse\", \"ship\", \"truck\"]\n"
   ]
  },
  {
   "cell_type": "code",
   "execution_count": 21,
   "metadata": {},
   "outputs": [
    {
     "data": {
      "text/plain": [
       "(32, 32, 3)"
      ]
     },
     "execution_count": 21,
     "metadata": {},
     "output_type": "execute_result"
    }
   ],
   "source": [
    "input_shape"
   ]
  },
  {
   "cell_type": "code",
   "execution_count": null,
   "metadata": {},
   "outputs": [],
   "source": [
    "rescale = tf.keras.layers.Rescaling(1./255, offset= -1)\n",
    "train_ds = train_ds.map(lambda x, y: (rescale(x), y))\n",
    "val_ds   = val_ds.map(lambda x, y: (rescale(x), y))"
   ]
  },
  {
   "cell_type": "code",
   "execution_count": 32,
   "metadata": {},
   "outputs": [],
   "source": [
    "def data_preprocessing(image, label):\n",
    "    # this function can be extended if any pre-processing or augmentation is needed\n",
    "    image = tf.image.resize(image, output_shape, method=\"bicubic\")\n",
    "    return (image, label)"
   ]
  },
  {
   "cell_type": "code",
   "execution_count": 33,
   "metadata": {},
   "outputs": [
    {
     "data": {
      "text/plain": [
       "(32, 32)"
      ]
     },
     "execution_count": 33,
     "metadata": {},
     "output_type": "execute_result"
    }
   ],
   "source": [
    "input_shape[:2]"
   ]
  },
  {
   "cell_type": "code",
   "execution_count": 34,
   "metadata": {},
   "outputs": [],
   "source": [
    "\n",
    "# Create a tf.data pipeline of augmented images (and their labels)\n",
    "train_dataset = tf.data.Dataset.from_tensor_slices((x_train, y_train))\n",
    "#train_dataset = train_dataset.batch(BATCH_SIZE).map(lambda x, y: (data_augmentation(x), y))\n",
    "train_dataset = train_dataset.batch(BATCH_SIZE).map(data_preprocessing).prefetch(tf.data.AUTOTUNE)\n",
    "\n",
    "val_dataset = tf.data.Dataset.from_tensor_slices((x_test, y_test))\n",
    "#train_dataset = train_dataset.batch(BATCH_SIZE).map(lambda x, y: (data_augmentation(x), y))\n",
    "val_dataset = val_dataset.batch(BATCH_SIZE).map(data_preprocessing).prefetch(tf.data.AUTOTUNE)\n"
   ]
  },
  {
   "cell_type": "markdown",
   "metadata": {},
   "source": [
    "# Prepare the Lemon Quality Dataset"
   ]
  },
  {
   "cell_type": "code",
   "execution_count": 6,
   "metadata": {},
   "outputs": [],
   "source": [
    "data_dir = Path.cwd().parent.joinpath(\"lemon_dataset\", \"docs\", \"data\")"
   ]
  },
  {
   "cell_type": "code",
   "execution_count": 7,
   "metadata": {},
   "outputs": [],
   "source": [
    "input_shape = (96,96)\n"
   ]
  },
  {
   "cell_type": "code",
   "execution_count": 8,
   "metadata": {},
   "outputs": [
    {
     "name": "stdout",
     "output_type": "stream",
     "text": [
      "Found 2528 files belonging to 3 classes.\n",
      "Using 2023 files for training.\n",
      "Found 2528 files belonging to 3 classes.\n",
      "Using 505 files for validation.\n"
     ]
    }
   ],
   "source": [
    "train_dataset = tf.keras.utils.image_dataset_from_directory(\n",
    "  data_dir,\n",
    "  validation_split=0.2,\n",
    "  subset=\"training\",\n",
    "  seed=123,\n",
    "  interpolation=\"bilinear\",\n",
    "  image_size=(input_shape),\n",
    "  batch_size=BATCH_SIZE\n",
    "  )\n",
    "\n",
    "val_dataset = tf.keras.utils.image_dataset_from_directory(\n",
    "  data_dir,\n",
    "  validation_split=0.2,\n",
    "  subset=\"validation\",\n",
    "  seed=123,\n",
    "  interpolation=\"bilinear\",\n",
    "  image_size=(input_shape),\n",
    "  batch_size=BATCH_SIZE\n",
    "  )"
   ]
  },
  {
   "cell_type": "code",
   "execution_count": 9,
   "metadata": {},
   "outputs": [],
   "source": [
    "classes = len(train_dataset.class_names)\n",
    "labels = train_dataset.class_names"
   ]
  },
  {
   "cell_type": "code",
   "execution_count": 10,
   "metadata": {},
   "outputs": [],
   "source": [
    "rescale = tf.keras.layers.Rescaling(1./255, offset= -1)\n",
    "train_dataset = train_dataset.map(lambda x, y: (rescale(x), y)).prefetch(tf.data.AUTOTUNE)\n",
    "val_dataset   = val_dataset.map(lambda x, y: (rescale(x), y)).prefetch(tf.data.AUTOTUNE)"
   ]
  },
  {
   "cell_type": "markdown",
   "metadata": {},
   "source": [
    "# Define the model"
   ]
  },
  {
   "cell_type": "markdown",
   "metadata": {},
   "source": []
  },
  {
   "cell_type": "code",
   "execution_count": 11,
   "metadata": {},
   "outputs": [],
   "source": [
    "mobilenet = tf.keras.applications.mobilenet.MobileNet(\n",
    "    input_shape=(96,96,3),\n",
    "    alpha=0.25,\n",
    "    depth_multiplier=1,\n",
    "    dropout=0.001,\n",
    "    include_top=True,\n",
    "    weights= None, #'imagenet',\n",
    "    input_tensor=None,\n",
    "    pooling=None,\n",
    "    classes=classes,\n",
    "    classifier_activation='softmax',\n",
    "    #**kwargs\n",
    ")"
   ]
  },
  {
   "cell_type": "code",
   "execution_count": 14,
   "metadata": {},
   "outputs": [],
   "source": [
    "def train_model():\n",
    "\n",
    "        # solve issue from: https://github.com/wandb/wandb/issues/3536\n",
    "        if len(wandb.patched[\"tensorboard\"]) > 0:\n",
    "                wandb.tensorboard.unpatch()\n",
    "                \n",
    "        # Configure Tensorboard root log directory to read the debugging information\n",
    "        \n",
    "        wandb.tensorboard.patch(root_logdir=root_logdir)\n",
    "        # wandb.tensorboard.patch(root_logdir=\"wandb.run.dir\")\n",
    "        \n",
    "        wandb.init(\n",
    "                # Set the project where this run will be logged\n",
    "                project=PROJECT, \n",
    "                # Track hyperparameters and run metadata\n",
    "                #config={\n",
    "                #\"learning_rate\": LR,\n",
    "                #\"epochs\": EPOCHS,\n",
    "                #},\n",
    "                sync_tensorboard=True\n",
    "                )\n",
    "\n",
    "\n",
    "        config = wandb.config\n",
    "        # Specify the configuration variables\n",
    "        config.dropout = 0.2\n",
    "        #config.hidden_layer_size = 128\n",
    "        #config.layer_1_size  = 16\n",
    "        #config.layer_2_size = 32\n",
    "        config.learn_rate = LR\n",
    "        #config.decay = 1e-6\n",
    "        #config.momentum = 0.9\n",
    "        config.epochs = EPOCHS\n",
    "        config.classes = classes\n",
    "\n",
    "        # enable Tensorflow Debugging\n",
    "        #tf.debugging.experimental.enable_dump_debug_info(\"./logs/debug\", \n",
    "        #        tensor_debug_mode=\"FULL_HEALTH\", circular_buffer_size=-1)\n",
    "\n",
    "        model = mobilenet\n",
    "        #model = create_model(input_shape, classes)\n",
    "        model.compile(optimizer='adam',\n",
    "                        loss='sparse_categorical_crossentropy',\n",
    "                        metrics=['accuracy'])\n",
    "\n",
    "        logdir = os.path.join(\"logs\", datetime.datetime.now().strftime(\"%Y%m%d-%H%M%S\"))\n",
    "        tensorboard_callback = tf.keras.callbacks.TensorBoard(log_dir= wandb.run.dir, histogram_freq=10, profile_batch=\"10, 20\")\n",
    "        #tensorboard_callback = tf.keras.callbacks.TensorBoard(log_dir= logdir, histogram_freq=1)\n",
    "        wandb_callback = WandbCallback(input_type=\"image\", labels=labels, validation_data = val_dataset)\n",
    "\n",
    "        early_stopping = EarlyStopping(monitor=\"val_accuracy\", patience=50)\n",
    "\n",
    "        checkpoint = ModelCheckpoint(\"my_tiny_model\", save_weights_only=True)\n",
    "        history = model.fit(train_dataset,\n",
    "                epochs=config.epochs, \n",
    "                validation_data=val_dataset, \n",
    "                callbacks=[tensorboard_callback,\n",
    "                #wandb_callback, \n",
    "                checkpoint, \n",
    "                early_stopping]\n",
    "        )\n",
    "\n",
    "        wandb.finish()\n",
    "        return history, model\n"
   ]
  },
  {
   "cell_type": "code",
   "execution_count": 15,
   "metadata": {},
   "outputs": [
    {
     "data": {
      "text/html": [
       "Tracking run with wandb version 0.13.4"
      ],
      "text/plain": [
       "<IPython.core.display.HTML object>"
      ]
     },
     "metadata": {},
     "output_type": "display_data"
    },
    {
     "data": {
      "text/html": [
       "Run data is saved locally in <code>i:\\tinyml\\tiny_cnn\\wandb\\run-20221030_195328-1njcjtna</code>"
      ],
      "text/plain": [
       "<IPython.core.display.HTML object>"
      ]
     },
     "metadata": {},
     "output_type": "display_data"
    },
    {
     "data": {
      "text/html": [
       "Syncing run <strong><a href=\"https://wandb.ai/susbrock/Tiny%20CNN/runs/1njcjtna\" target=\"_blank\">devilish-horseman-46</a></strong> to <a href=\"https://wandb.ai/susbrock/Tiny%20CNN\" target=\"_blank\">Weights & Biases</a> (<a href=\"https://wandb.me/run\" target=\"_blank\">docs</a>)<br/>"
      ],
      "text/plain": [
       "<IPython.core.display.HTML object>"
      ]
     },
     "metadata": {},
     "output_type": "display_data"
    },
    {
     "name": "stdout",
     "output_type": "stream",
     "text": [
      "Epoch 1/100\n",
      "16/16 [==============================] - 12s 427ms/step - loss: 0.0612 - accuracy: 0.9792 - val_loss: 2.9970 - val_accuracy: 0.4376\n",
      "Epoch 2/100\n",
      "16/16 [==============================] - 9s 548ms/step - loss: 0.0778 - accuracy: 0.9718 - val_loss: 2.8734 - val_accuracy: 0.4376\n",
      "Epoch 3/100\n",
      "16/16 [==============================] - 3s 159ms/step - loss: 0.0501 - accuracy: 0.9783 - val_loss: 2.7869 - val_accuracy: 0.4376\n",
      "Epoch 4/100\n",
      "16/16 [==============================] - 4s 209ms/step - loss: 0.0393 - accuracy: 0.9842 - val_loss: 3.0146 - val_accuracy: 0.4376\n",
      "Epoch 5/100\n",
      "16/16 [==============================] - 5s 253ms/step - loss: 0.0283 - accuracy: 0.9876 - val_loss: 3.1259 - val_accuracy: 0.4376\n",
      "Epoch 6/100\n",
      "16/16 [==============================] - 4s 202ms/step - loss: 0.0231 - accuracy: 0.9926 - val_loss: 2.9520 - val_accuracy: 0.4376\n",
      "Epoch 7/100\n",
      "16/16 [==============================] - 3s 180ms/step - loss: 0.0346 - accuracy: 0.9876 - val_loss: 3.3203 - val_accuracy: 0.4376\n",
      "Epoch 8/100\n",
      "16/16 [==============================] - 5s 291ms/step - loss: 0.0367 - accuracy: 0.9871 - val_loss: 3.0197 - val_accuracy: 0.4376\n",
      "Epoch 9/100\n",
      "16/16 [==============================] - 4s 203ms/step - loss: 0.0286 - accuracy: 0.9901 - val_loss: 2.4291 - val_accuracy: 0.4396\n",
      "Epoch 10/100\n",
      "16/16 [==============================] - 5s 278ms/step - loss: 0.0279 - accuracy: 0.9906 - val_loss: 2.5925 - val_accuracy: 0.4693\n",
      "Epoch 11/100\n",
      "16/16 [==============================] - 7s 410ms/step - loss: 0.0191 - accuracy: 0.9911 - val_loss: 2.8232 - val_accuracy: 0.5050\n",
      "Epoch 12/100\n",
      "16/16 [==============================] - 5s 255ms/step - loss: 0.0160 - accuracy: 0.9926 - val_loss: 3.1924 - val_accuracy: 0.5069\n",
      "Epoch 13/100\n",
      "16/16 [==============================] - 4s 214ms/step - loss: 0.0137 - accuracy: 0.9936 - val_loss: 2.4677 - val_accuracy: 0.5980\n",
      "Epoch 14/100\n",
      "16/16 [==============================] - 4s 248ms/step - loss: 0.0158 - accuracy: 0.9936 - val_loss: 2.6027 - val_accuracy: 0.5960\n",
      "Epoch 15/100\n",
      "16/16 [==============================] - 4s 239ms/step - loss: 0.0107 - accuracy: 0.9960 - val_loss: 2.3249 - val_accuracy: 0.6396\n",
      "Epoch 16/100\n",
      "16/16 [==============================] - 4s 237ms/step - loss: 0.0201 - accuracy: 0.9931 - val_loss: 1.5000 - val_accuracy: 0.7188\n",
      "Epoch 17/100\n",
      "16/16 [==============================] - 4s 239ms/step - loss: 0.0208 - accuracy: 0.9931 - val_loss: 0.6373 - val_accuracy: 0.8257\n",
      "Epoch 18/100\n",
      "16/16 [==============================] - 5s 296ms/step - loss: 0.0117 - accuracy: 0.9951 - val_loss: 0.6503 - val_accuracy: 0.8535\n",
      "Epoch 19/100\n",
      "16/16 [==============================] - 4s 237ms/step - loss: 0.0116 - accuracy: 0.9956 - val_loss: 0.4635 - val_accuracy: 0.8990\n",
      "Epoch 20/100\n",
      "16/16 [==============================] - 4s 237ms/step - loss: 0.0079 - accuracy: 0.9970 - val_loss: 0.3495 - val_accuracy: 0.9149\n",
      "Epoch 21/100\n",
      "16/16 [==============================] - 6s 346ms/step - loss: 0.0035 - accuracy: 1.0000 - val_loss: 0.3544 - val_accuracy: 0.9188\n",
      "Epoch 22/100\n",
      "16/16 [==============================] - 4s 244ms/step - loss: 0.0080 - accuracy: 0.9970 - val_loss: 0.3349 - val_accuracy: 0.9248\n",
      "Epoch 23/100\n",
      "16/16 [==============================] - 5s 275ms/step - loss: 0.0155 - accuracy: 0.9951 - val_loss: 0.1929 - val_accuracy: 0.9545\n",
      "Epoch 24/100\n",
      "16/16 [==============================] - 5s 275ms/step - loss: 0.0170 - accuracy: 0.9946 - val_loss: 0.8085 - val_accuracy: 0.8554\n",
      "Epoch 25/100\n",
      "16/16 [==============================] - 4s 221ms/step - loss: 0.0171 - accuracy: 0.9946 - val_loss: 0.7920 - val_accuracy: 0.8376\n",
      "Epoch 26/100\n",
      "16/16 [==============================] - 4s 200ms/step - loss: 0.0156 - accuracy: 0.9946 - val_loss: 0.8136 - val_accuracy: 0.8653\n",
      "Epoch 27/100\n",
      "16/16 [==============================] - 4s 226ms/step - loss: 0.0110 - accuracy: 0.9960 - val_loss: 1.6182 - val_accuracy: 0.7644\n",
      "Epoch 28/100\n",
      "16/16 [==============================] - 5s 287ms/step - loss: 0.0073 - accuracy: 0.9965 - val_loss: 0.5728 - val_accuracy: 0.8990\n",
      "Epoch 29/100\n",
      "16/16 [==============================] - 6s 327ms/step - loss: 0.0236 - accuracy: 0.9921 - val_loss: 0.9547 - val_accuracy: 0.8594\n",
      "Epoch 30/100\n",
      "16/16 [==============================] - 5s 266ms/step - loss: 0.0287 - accuracy: 0.9896 - val_loss: 3.4612 - val_accuracy: 0.6574\n",
      "Epoch 31/100\n",
      "16/16 [==============================] - 6s 341ms/step - loss: 0.0174 - accuracy: 0.9941 - val_loss: 2.1018 - val_accuracy: 0.7426\n",
      "Epoch 32/100\n",
      "16/16 [==============================] - 3s 165ms/step - loss: 0.0122 - accuracy: 0.9965 - val_loss: 0.5276 - val_accuracy: 0.9050\n",
      "Epoch 33/100\n",
      "16/16 [==============================] - 4s 204ms/step - loss: 0.0058 - accuracy: 0.9980 - val_loss: 0.2583 - val_accuracy: 0.9406\n",
      "Epoch 34/100\n",
      "16/16 [==============================] - 5s 245ms/step - loss: 0.0166 - accuracy: 0.9946 - val_loss: 0.2817 - val_accuracy: 0.9347\n",
      "Epoch 35/100\n",
      "16/16 [==============================] - 4s 190ms/step - loss: 0.0085 - accuracy: 0.9970 - val_loss: 0.3789 - val_accuracy: 0.9208\n",
      "Epoch 36/100\n",
      "16/16 [==============================] - 4s 206ms/step - loss: 0.0059 - accuracy: 0.9975 - val_loss: 0.2681 - val_accuracy: 0.9446\n",
      "Epoch 37/100\n",
      "16/16 [==============================] - 5s 281ms/step - loss: 0.0040 - accuracy: 0.9985 - val_loss: 0.1631 - val_accuracy: 0.9624\n",
      "Epoch 38/100\n",
      "16/16 [==============================] - 4s 245ms/step - loss: 0.0049 - accuracy: 0.9985 - val_loss: 0.2319 - val_accuracy: 0.9525\n",
      "Epoch 39/100\n",
      "16/16 [==============================] - 4s 225ms/step - loss: 0.0098 - accuracy: 0.9956 - val_loss: 0.3355 - val_accuracy: 0.9406\n",
      "Epoch 40/100\n",
      "16/16 [==============================] - 4s 236ms/step - loss: 0.0068 - accuracy: 0.9960 - val_loss: 0.3915 - val_accuracy: 0.9248\n",
      "Epoch 41/100\n",
      "16/16 [==============================] - 6s 374ms/step - loss: 0.0077 - accuracy: 0.9980 - val_loss: 0.1609 - val_accuracy: 0.9564\n",
      "Epoch 42/100\n",
      "16/16 [==============================] - 4s 217ms/step - loss: 0.0119 - accuracy: 0.9970 - val_loss: 0.3590 - val_accuracy: 0.9327\n",
      "Epoch 43/100\n",
      "16/16 [==============================] - 4s 216ms/step - loss: 0.0093 - accuracy: 0.9965 - val_loss: 0.3259 - val_accuracy: 0.9327\n",
      "Epoch 44/100\n",
      "16/16 [==============================] - 4s 209ms/step - loss: 0.0103 - accuracy: 0.9975 - val_loss: 0.7324 - val_accuracy: 0.8792\n",
      "Epoch 45/100\n",
      "16/16 [==============================] - 5s 260ms/step - loss: 0.0035 - accuracy: 0.9990 - val_loss: 0.1590 - val_accuracy: 0.9604\n",
      "Epoch 46/100\n",
      "16/16 [==============================] - 3s 179ms/step - loss: 0.0028 - accuracy: 0.9995 - val_loss: 0.1427 - val_accuracy: 0.9703\n",
      "Epoch 47/100\n",
      "16/16 [==============================] - 5s 284ms/step - loss: 0.0025 - accuracy: 0.9995 - val_loss: 0.3360 - val_accuracy: 0.9485\n",
      "Epoch 48/100\n",
      "16/16 [==============================] - 4s 198ms/step - loss: 0.0024 - accuracy: 0.9990 - val_loss: 0.1966 - val_accuracy: 0.9584\n",
      "Epoch 49/100\n",
      "16/16 [==============================] - 3s 172ms/step - loss: 0.0014 - accuracy: 1.0000 - val_loss: 0.2040 - val_accuracy: 0.9624\n",
      "Epoch 50/100\n",
      "16/16 [==============================] - 5s 254ms/step - loss: 0.0060 - accuracy: 0.9980 - val_loss: 0.5270 - val_accuracy: 0.9010\n",
      "Epoch 51/100\n",
      "16/16 [==============================] - 7s 441ms/step - loss: 0.0018 - accuracy: 0.9990 - val_loss: 0.8269 - val_accuracy: 0.8574\n",
      "Epoch 52/100\n",
      "16/16 [==============================] - 5s 260ms/step - loss: 0.0062 - accuracy: 0.9980 - val_loss: 0.9327 - val_accuracy: 0.8515\n",
      "Epoch 53/100\n",
      "16/16 [==============================] - 4s 231ms/step - loss: 0.0036 - accuracy: 0.9990 - val_loss: 0.3629 - val_accuracy: 0.9188\n",
      "Epoch 54/100\n",
      "16/16 [==============================] - 5s 267ms/step - loss: 0.0013 - accuracy: 1.0000 - val_loss: 0.3439 - val_accuracy: 0.9228\n",
      "Epoch 55/100\n",
      "16/16 [==============================] - 4s 240ms/step - loss: 0.0021 - accuracy: 0.9995 - val_loss: 0.3259 - val_accuracy: 0.9168\n",
      "Epoch 56/100\n",
      "16/16 [==============================] - 4s 226ms/step - loss: 0.0033 - accuracy: 0.9990 - val_loss: 1.1168 - val_accuracy: 0.8337\n",
      "Epoch 57/100\n",
      "16/16 [==============================] - 4s 208ms/step - loss: 0.0037 - accuracy: 0.9985 - val_loss: 0.6952 - val_accuracy: 0.8574\n",
      "Epoch 58/100\n",
      "16/16 [==============================] - 5s 265ms/step - loss: 0.0066 - accuracy: 0.9975 - val_loss: 0.4946 - val_accuracy: 0.9010\n",
      "Epoch 59/100\n",
      "16/16 [==============================] - 5s 249ms/step - loss: 0.0078 - accuracy: 0.9965 - val_loss: 0.5199 - val_accuracy: 0.8832\n",
      "Epoch 60/100\n",
      "16/16 [==============================] - 5s 260ms/step - loss: 0.0107 - accuracy: 0.9970 - val_loss: 0.6137 - val_accuracy: 0.8693\n",
      "Epoch 61/100\n",
      "16/16 [==============================] - 7s 399ms/step - loss: 0.0086 - accuracy: 0.9970 - val_loss: 0.6664 - val_accuracy: 0.8832\n",
      "Epoch 62/100\n",
      "16/16 [==============================] - 5s 254ms/step - loss: 0.0028 - accuracy: 0.9990 - val_loss: 0.7489 - val_accuracy: 0.8851\n",
      "Epoch 63/100\n",
      "16/16 [==============================] - 4s 209ms/step - loss: 0.0092 - accuracy: 0.9980 - val_loss: 0.7941 - val_accuracy: 0.8653\n",
      "Epoch 64/100\n",
      "16/16 [==============================] - 4s 190ms/step - loss: 0.0124 - accuracy: 0.9951 - val_loss: 0.3480 - val_accuracy: 0.9307\n",
      "Epoch 65/100\n",
      "16/16 [==============================] - 4s 237ms/step - loss: 0.0091 - accuracy: 0.9965 - val_loss: 0.4462 - val_accuracy: 0.9248\n",
      "Epoch 66/100\n",
      "16/16 [==============================] - 4s 223ms/step - loss: 0.0057 - accuracy: 0.9975 - val_loss: 0.2298 - val_accuracy: 0.9525\n",
      "Epoch 67/100\n",
      "16/16 [==============================] - 4s 201ms/step - loss: 0.0048 - accuracy: 0.9980 - val_loss: 0.2409 - val_accuracy: 0.9624\n",
      "Epoch 68/100\n",
      "16/16 [==============================] - 4s 225ms/step - loss: 0.0068 - accuracy: 0.9985 - val_loss: 0.1895 - val_accuracy: 0.9644\n",
      "Epoch 69/100\n",
      "16/16 [==============================] - 5s 243ms/step - loss: 0.0047 - accuracy: 0.9975 - val_loss: 0.2540 - val_accuracy: 0.9564\n",
      "Epoch 70/100\n",
      "16/16 [==============================] - 3s 156ms/step - loss: 0.0048 - accuracy: 0.9990 - val_loss: 0.8619 - val_accuracy: 0.8693\n",
      "Epoch 71/100\n",
      "16/16 [==============================] - 6s 338ms/step - loss: 5.3197e-04 - accuracy: 1.0000 - val_loss: 0.9119 - val_accuracy: 0.8634\n",
      "Epoch 72/100\n",
      "16/16 [==============================] - 4s 228ms/step - loss: 0.0015 - accuracy: 0.9995 - val_loss: 0.6019 - val_accuracy: 0.8970\n",
      "Epoch 73/100\n",
      "16/16 [==============================] - 4s 195ms/step - loss: 0.0102 - accuracy: 0.9965 - val_loss: 0.3074 - val_accuracy: 0.9366\n",
      "Epoch 74/100\n",
      "16/16 [==============================] - 4s 215ms/step - loss: 0.0109 - accuracy: 0.9960 - val_loss: 2.7683 - val_accuracy: 0.7406\n",
      "Epoch 75/100\n",
      "16/16 [==============================] - 3s 145ms/step - loss: 0.0037 - accuracy: 0.9990 - val_loss: 1.9301 - val_accuracy: 0.7624\n",
      "Epoch 76/100\n",
      "16/16 [==============================] - 5s 275ms/step - loss: 0.0048 - accuracy: 0.9985 - val_loss: 1.1783 - val_accuracy: 0.8356\n",
      "Epoch 77/100\n",
      "16/16 [==============================] - 4s 224ms/step - loss: 0.0012 - accuracy: 1.0000 - val_loss: 0.6282 - val_accuracy: 0.9089\n",
      "Epoch 78/100\n",
      "16/16 [==============================] - 4s 201ms/step - loss: 0.0058 - accuracy: 0.9975 - val_loss: 0.4682 - val_accuracy: 0.9208\n",
      "Epoch 79/100\n",
      "16/16 [==============================] - 4s 197ms/step - loss: 6.8767e-04 - accuracy: 1.0000 - val_loss: 0.6595 - val_accuracy: 0.9069\n",
      "Epoch 80/100\n",
      "16/16 [==============================] - 4s 207ms/step - loss: 0.0018 - accuracy: 0.9995 - val_loss: 0.3506 - val_accuracy: 0.9446\n",
      "Epoch 81/100\n",
      "16/16 [==============================] - 5s 299ms/step - loss: 0.0037 - accuracy: 0.9995 - val_loss: 0.1947 - val_accuracy: 0.9723\n",
      "Epoch 82/100\n",
      "16/16 [==============================] - 4s 260ms/step - loss: 0.0089 - accuracy: 0.9980 - val_loss: 0.7212 - val_accuracy: 0.8792\n",
      "Epoch 83/100\n",
      "16/16 [==============================] - 4s 236ms/step - loss: 0.0090 - accuracy: 0.9970 - val_loss: 0.4169 - val_accuracy: 0.9050\n",
      "Epoch 84/100\n",
      "16/16 [==============================] - 3s 178ms/step - loss: 0.0085 - accuracy: 0.9965 - val_loss: 0.8718 - val_accuracy: 0.8198\n",
      "Epoch 85/100\n",
      "16/16 [==============================] - 3s 178ms/step - loss: 0.0031 - accuracy: 0.9985 - val_loss: 0.9748 - val_accuracy: 0.8396\n",
      "Epoch 86/100\n",
      "16/16 [==============================] - 4s 222ms/step - loss: 0.0010 - accuracy: 1.0000 - val_loss: 0.6389 - val_accuracy: 0.8851\n",
      "Epoch 87/100\n",
      "16/16 [==============================] - 4s 197ms/step - loss: 0.0021 - accuracy: 0.9995 - val_loss: 0.5559 - val_accuracy: 0.9129\n",
      "Epoch 88/100\n",
      "16/16 [==============================] - 5s 277ms/step - loss: 0.0058 - accuracy: 0.9970 - val_loss: 0.5118 - val_accuracy: 0.8990\n",
      "Epoch 89/100\n",
      "16/16 [==============================] - 5s 280ms/step - loss: 0.0017 - accuracy: 0.9995 - val_loss: 0.3505 - val_accuracy: 0.9248\n",
      "Epoch 90/100\n",
      "16/16 [==============================] - 4s 248ms/step - loss: 0.0031 - accuracy: 0.9995 - val_loss: 0.2359 - val_accuracy: 0.9545\n",
      "Epoch 91/100\n",
      "16/16 [==============================] - 6s 356ms/step - loss: 0.0013 - accuracy: 0.9995 - val_loss: 0.2358 - val_accuracy: 0.9584\n",
      "Epoch 92/100\n",
      "16/16 [==============================] - 4s 202ms/step - loss: 2.4192e-04 - accuracy: 1.0000 - val_loss: 0.2745 - val_accuracy: 0.9446\n",
      "Epoch 93/100\n",
      "16/16 [==============================] - 3s 181ms/step - loss: 6.6731e-04 - accuracy: 1.0000 - val_loss: 0.2205 - val_accuracy: 0.9584\n",
      "Epoch 94/100\n",
      "16/16 [==============================] - 3s 163ms/step - loss: 2.3784e-04 - accuracy: 1.0000 - val_loss: 0.1846 - val_accuracy: 0.9663\n",
      "Epoch 95/100\n",
      "16/16 [==============================] - 4s 229ms/step - loss: 2.5388e-04 - accuracy: 1.0000 - val_loss: 0.1637 - val_accuracy: 0.9683\n",
      "Epoch 96/100\n",
      "16/16 [==============================] - 4s 252ms/step - loss: 6.1081e-04 - accuracy: 0.9995 - val_loss: 0.1852 - val_accuracy: 0.9703\n",
      "Epoch 97/100\n",
      "16/16 [==============================] - 5s 276ms/step - loss: 9.7402e-04 - accuracy: 0.9995 - val_loss: 0.2262 - val_accuracy: 0.9624\n",
      "Epoch 98/100\n",
      "16/16 [==============================] - 3s 166ms/step - loss: 4.8210e-04 - accuracy: 0.9995 - val_loss: 0.2290 - val_accuracy: 0.9584\n",
      "Epoch 99/100\n",
      "16/16 [==============================] - 4s 241ms/step - loss: 0.0022 - accuracy: 0.9995 - val_loss: 0.7567 - val_accuracy: 0.8733\n",
      "Epoch 100/100\n",
      "16/16 [==============================] - 4s 225ms/step - loss: 0.0014 - accuracy: 0.9995 - val_loss: 2.1412 - val_accuracy: 0.7228\n"
     ]
    },
    {
     "data": {
      "text/html": [
       "Waiting for W&B process to finish... <strong style=\"color:green\">(success).</strong>"
      ],
      "text/plain": [
       "<IPython.core.display.HTML object>"
      ]
     },
     "metadata": {},
     "output_type": "display_data"
    },
    {
     "data": {
      "text/html": [
       "Synced <strong style=\"color:#cdcd00\">devilish-horseman-46</strong>: <a href=\"https://wandb.ai/susbrock/Tiny%20CNN/runs/1njcjtna\" target=\"_blank\">https://wandb.ai/susbrock/Tiny%20CNN/runs/1njcjtna</a><br/>Synced 7 W&B file(s), 0 media file(s), 0 artifact file(s) and 10 other file(s)"
      ],
      "text/plain": [
       "<IPython.core.display.HTML object>"
      ]
     },
     "metadata": {},
     "output_type": "display_data"
    },
    {
     "data": {
      "text/html": [
       "Find logs at: <code>.\\wandb\\run-20221030_195328-1njcjtna\\logs</code>"
      ],
      "text/plain": [
       "<IPython.core.display.HTML object>"
      ]
     },
     "metadata": {},
     "output_type": "display_data"
    }
   ],
   "source": [
    "wandb.finish()\n",
    "history, model = train_model()"
   ]
  },
  {
   "cell_type": "code",
   "execution_count": null,
   "metadata": {},
   "outputs": [],
   "source": []
  },
  {
   "cell_type": "code",
   "execution_count": null,
   "metadata": {},
   "outputs": [],
   "source": [
    "def run_multiple_training_runs(epochs, lrs):\n",
    "    for epoch in epochs:\n",
    "        for lr in lrs:\n",
    "            run_training_run(epoch, lr)\n",
    "\n",
    "# Try different values for the learning rate\n",
    "epochs = [100, 120, 140]\n",
    "lrs = [0.1, 0.01, 0.001, 0.0001]\n",
    "run_multiple_training_runs(epochs, lrs)"
   ]
  },
  {
   "cell_type": "code",
   "execution_count": null,
   "metadata": {},
   "outputs": [],
   "source": []
  }
 ],
 "metadata": {
  "kernelspec": {
   "display_name": "tiny_cnn",
   "language": "python",
   "name": "tiny_cnn"
  },
  "language_info": {
   "codemirror_mode": {
    "name": "ipython",
    "version": 3
   },
   "file_extension": ".py",
   "mimetype": "text/x-python",
   "name": "python",
   "nbconvert_exporter": "python",
   "pygments_lexer": "ipython3",
   "version": "3.10.6"
  },
  "orig_nbformat": 4
 },
 "nbformat": 4,
 "nbformat_minor": 2
}
