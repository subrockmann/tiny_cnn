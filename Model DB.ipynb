{
 "cells": [
  {
   "attachments": {},
   "cell_type": "markdown",
   "metadata": {},
   "source": [
    "# Model DB"
   ]
  },
  {
   "cell_type": "code",
   "execution_count": 1,
   "metadata": {},
   "outputs": [],
   "source": [
    "import pandas as pd \n",
    "import wandb\n",
    "from pathlib import Path\n",
    "\n",
    "from workbench.wandb import wandb_model_DB, make_clickable, get_architecture_from_model_DB_run_id, get_model_DB_run_id_from_architecture\n",
    "\n",
    "\n",
    "%load_ext autoreload"
   ]
  },
  {
   "cell_type": "code",
   "execution_count": 2,
   "metadata": {},
   "outputs": [],
   "source": [
    "%reload_ext autoreload\n",
    "%autoreload"
   ]
  },
  {
   "cell_type": "code",
   "execution_count": 3,
   "metadata": {},
   "outputs": [],
   "source": [
    "# Configure pandas to show all columns & rows\n",
    "pd.set_option('display.max_columns', None)\n",
    "#pd.set_option('display.max_rows', None)"
   ]
  },
  {
   "attachments": {},
   "cell_type": "markdown",
   "metadata": {},
   "source": [
    "# Get model_DB"
   ]
  },
  {
   "cell_type": "code",
   "execution_count": 29,
   "metadata": {},
   "outputs": [
    {
     "data": {
      "text/html": [
       "<div>\n",
       "<style scoped>\n",
       "    .dataframe tbody tr th:only-of-type {\n",
       "        vertical-align: middle;\n",
       "    }\n",
       "\n",
       "    .dataframe tbody tr th {\n",
       "        vertical-align: top;\n",
       "    }\n",
       "\n",
       "    .dataframe thead th {\n",
       "        text-align: right;\n",
       "    }\n",
       "</style>\n",
       "<table border=\"1\" class=\"dataframe\">\n",
       "  <thead>\n",
       "    <tr style=\"text-align: right;\">\n",
       "      <th></th>\n",
       "      <th>id</th>\n",
       "      <th>run_name</th>\n",
       "      <th>state</th>\n",
       "      <th>MACs</th>\n",
       "      <th>url</th>\n",
       "      <th>architecture</th>\n",
       "      <th>FLOPs</th>\n",
       "      <th>alpha</th>\n",
       "      <th>classes</th>\n",
       "      <th>img_res</th>\n",
       "      <th>OPS_mltk</th>\n",
       "      <th>channels</th>\n",
       "      <th>macs_mltk</th>\n",
       "      <th>variation</th>\n",
       "      <th>energy_mltk</th>\n",
       "      <th>total_params</th>\n",
       "      <th>OPS_INT8_mltk</th>\n",
       "      <th>model_size_kb</th>\n",
       "      <th>peak_memory_b</th>\n",
       "      <th>macs_INT8_mltk</th>\n",
       "      <th>energy_INT8_mltk</th>\n",
       "      <th>trainable_params</th>\n",
       "      <th>non_trainable_params</th>\n",
       "      <th>tflite_model_size_kb</th>\n",
       "      <th>flash_model_size_b_mltk</th>\n",
       "      <th>n_unsupported_layers_mltk</th>\n",
       "      <th>tflite_model_INT8_size_kb</th>\n",
       "      <th>flash_model_size_b__INT8_mltk</th>\n",
       "      <th>RAM_runtime_memory_size_b_mltk</th>\n",
       "      <th>n_unsupported_layers_INT8_mltk</th>\n",
       "      <th>RAM_runtime_memory_size_b_INT8_mltk</th>\n",
       "      <th>tags</th>\n",
       "      <th>created_at</th>\n",
       "      <th>path</th>\n",
       "      <th>notes</th>\n",
       "      <th>test_accuracy</th>\n",
       "    </tr>\n",
       "  </thead>\n",
       "  <tbody>\n",
       "    <tr>\n",
       "      <th>0</th>\n",
       "      <td>f7cli26n</td>\n",
       "      <td>mobilenetv2_0.2_96_c3_o2_t3l128.MV1</td>\n",
       "      <td>finished</td>\n",
       "      <td>1.881 M</td>\n",
       "      <td>https://wandb.ai/susbrock/model_DB/runs/f7cli26n</td>\n",
       "      <td>mobilenetv2_0.2_96_c3_o2_t3l128.MV1</td>\n",
       "      <td>4.024 M</td>\n",
       "      <td>0.2</td>\n",
       "      <td>2</td>\n",
       "      <td>96</td>\n",
       "      <td>4169783</td>\n",
       "      <td>3</td>\n",
       "      <td>1881445</td>\n",
       "      <td>t3l128.MV1</td>\n",
       "      <td>0.003507</td>\n",
       "      <td>55730</td>\n",
       "      <td>4280383</td>\n",
       "      <td>674.406250</td>\n",
       "      <td>55296.0</td>\n",
       "      <td>1881445</td>\n",
       "      <td>0.003707</td>\n",
       "      <td>52094</td>\n",
       "      <td>3636</td>\n",
       "      <td>220.859375</td>\n",
       "      <td>226160</td>\n",
       "      <td>0</td>\n",
       "      <td>130.843750</td>\n",
       "      <td>133984</td>\n",
       "      <td>209928</td>\n",
       "      <td>0</td>\n",
       "      <td>81636</td>\n",
       "      <td>[]</td>\n",
       "      <td>2023-03-01T19:35:25</td>\n",
       "      <td>[susbrock, model_DB, f7cli26n]</td>\n",
       "      <td>None</td>\n",
       "      <td>None</td>\n",
       "    </tr>\n",
       "    <tr>\n",
       "      <th>1</th>\n",
       "      <td>le3i8f7h</td>\n",
       "      <td>mobilenetv2_0.2_96_c3_o2_t3l256.MV1</td>\n",
       "      <td>finished</td>\n",
       "      <td>1.955 M</td>\n",
       "      <td>https://wandb.ai/susbrock/model_DB/runs/le3i8f7h</td>\n",
       "      <td>mobilenetv2_0.2_96_c3_o2_t3l256.MV1</td>\n",
       "      <td>4.176 M</td>\n",
       "      <td>0.2</td>\n",
       "      <td>2</td>\n",
       "      <td>96</td>\n",
       "      <td>4322487</td>\n",
       "      <td>3</td>\n",
       "      <td>1955429</td>\n",
       "      <td>t3l256.MV1</td>\n",
       "      <td>0.003536</td>\n",
       "      <td>64690</td>\n",
       "      <td>4433087</td>\n",
       "      <td>710.429688</td>\n",
       "      <td>55296.0</td>\n",
       "      <td>1955429</td>\n",
       "      <td>0.003735</td>\n",
       "      <td>60798</td>\n",
       "      <td>3892</td>\n",
       "      <td>254.359375</td>\n",
       "      <td>260464</td>\n",
       "      <td>0</td>\n",
       "      <td>142.593750</td>\n",
       "      <td>146016</td>\n",
       "      <td>210952</td>\n",
       "      <td>0</td>\n",
       "      <td>82660</td>\n",
       "      <td>[]</td>\n",
       "      <td>2023-03-01T19:33:21</td>\n",
       "      <td>[susbrock, model_DB, le3i8f7h]</td>\n",
       "      <td>None</td>\n",
       "      <td>None</td>\n",
       "    </tr>\n",
       "    <tr>\n",
       "      <th>2</th>\n",
       "      <td>phil00x9</td>\n",
       "      <td>mobilenetv2_0.2_96_c3_o2_t3l512.MV1</td>\n",
       "      <td>finished</td>\n",
       "      <td>2.103 M</td>\n",
       "      <td>https://wandb.ai/susbrock/model_DB/runs/phil00x9</td>\n",
       "      <td>mobilenetv2_0.2_96_c3_o2_t3l512.MV1</td>\n",
       "      <td>4.479 M</td>\n",
       "      <td>0.2</td>\n",
       "      <td>2</td>\n",
       "      <td>96</td>\n",
       "      <td>4627895</td>\n",
       "      <td>3</td>\n",
       "      <td>2103397</td>\n",
       "      <td>t3l512.MV1</td>\n",
       "      <td>0.003581</td>\n",
       "      <td>82610</td>\n",
       "      <td>4738495</td>\n",
       "      <td>780.484375</td>\n",
       "      <td>55296.0</td>\n",
       "      <td>2103397</td>\n",
       "      <td>0.003781</td>\n",
       "      <td>78206</td>\n",
       "      <td>4404</td>\n",
       "      <td>321.359375</td>\n",
       "      <td>329072</td>\n",
       "      <td>0</td>\n",
       "      <td>166.093750</td>\n",
       "      <td>170080</td>\n",
       "      <td>213000</td>\n",
       "      <td>0</td>\n",
       "      <td>84708</td>\n",
       "      <td>[]</td>\n",
       "      <td>2023-03-01T19:31:18</td>\n",
       "      <td>[susbrock, model_DB, phil00x9]</td>\n",
       "      <td>None</td>\n",
       "      <td>None</td>\n",
       "    </tr>\n",
       "    <tr>\n",
       "      <th>3</th>\n",
       "      <td>pksk1h3b</td>\n",
       "      <td>mobilenetv2_0.2_96_c3_o2_t3l1024.MV1</td>\n",
       "      <td>finished</td>\n",
       "      <td>2.399 M</td>\n",
       "      <td>https://wandb.ai/susbrock/model_DB/runs/pksk1h3b</td>\n",
       "      <td>mobilenetv2_0.2_96_c3_o2_t3l1024.MV1</td>\n",
       "      <td>5.085 M</td>\n",
       "      <td>0.2</td>\n",
       "      <td>2</td>\n",
       "      <td>96</td>\n",
       "      <td>5238711</td>\n",
       "      <td>3</td>\n",
       "      <td>2399333</td>\n",
       "      <td>t3l1024.MV1</td>\n",
       "      <td>0.003571</td>\n",
       "      <td>118450</td>\n",
       "      <td>5349311</td>\n",
       "      <td>920.484375</td>\n",
       "      <td>55296.0</td>\n",
       "      <td>2399333</td>\n",
       "      <td>0.003771</td>\n",
       "      <td>113022</td>\n",
       "      <td>5428</td>\n",
       "      <td>455.359375</td>\n",
       "      <td>466288</td>\n",
       "      <td>0</td>\n",
       "      <td>213.093750</td>\n",
       "      <td>218208</td>\n",
       "      <td>217096</td>\n",
       "      <td>0</td>\n",
       "      <td>88804</td>\n",
       "      <td>[]</td>\n",
       "      <td>2023-03-01T19:29:17</td>\n",
       "      <td>[susbrock, model_DB, pksk1h3b]</td>\n",
       "      <td>None</td>\n",
       "      <td>None</td>\n",
       "    </tr>\n",
       "    <tr>\n",
       "      <th>4</th>\n",
       "      <td>a2wlivv7</td>\n",
       "      <td>mobilenetv2_0.2_96_c3_o2_t4l1024.MV1</td>\n",
       "      <td>finished</td>\n",
       "      <td>2.762 M</td>\n",
       "      <td>https://wandb.ai/susbrock/model_DB/runs/a2wlivv7</td>\n",
       "      <td>mobilenetv2_0.2_96_c3_o2_t4l1024.MV1</td>\n",
       "      <td>5.870 M</td>\n",
       "      <td>0.2</td>\n",
       "      <td>2</td>\n",
       "      <td>96</td>\n",
       "      <td>6052770</td>\n",
       "      <td>3</td>\n",
       "      <td>2762204</td>\n",
       "      <td>t4l1024.MV1</td>\n",
       "      <td>0.004026</td>\n",
       "      <td>133522</td>\n",
       "      <td>6163370</td>\n",
       "      <td>977.968750</td>\n",
       "      <td>55296.0</td>\n",
       "      <td>2762204</td>\n",
       "      <td>0.004225</td>\n",
       "      <td>127174</td>\n",
       "      <td>6348</td>\n",
       "      <td>507.332031</td>\n",
       "      <td>519508</td>\n",
       "      <td>0</td>\n",
       "      <td>237.046875</td>\n",
       "      <td>242736</td>\n",
       "      <td>220424</td>\n",
       "      <td>0</td>\n",
       "      <td>92160</td>\n",
       "      <td>[]</td>\n",
       "      <td>2023-03-01T19:27:13</td>\n",
       "      <td>[susbrock, model_DB, a2wlivv7]</td>\n",
       "      <td>None</td>\n",
       "      <td>None</td>\n",
       "    </tr>\n",
       "  </tbody>\n",
       "</table>\n",
       "</div>"
      ],
      "text/plain": [
       "         id                              run_name     state     MACs  \\\n",
       "0  f7cli26n   mobilenetv2_0.2_96_c3_o2_t3l128.MV1  finished  1.881 M   \n",
       "1  le3i8f7h   mobilenetv2_0.2_96_c3_o2_t3l256.MV1  finished  1.955 M   \n",
       "2  phil00x9   mobilenetv2_0.2_96_c3_o2_t3l512.MV1  finished  2.103 M   \n",
       "3  pksk1h3b  mobilenetv2_0.2_96_c3_o2_t3l1024.MV1  finished  2.399 M   \n",
       "4  a2wlivv7  mobilenetv2_0.2_96_c3_o2_t4l1024.MV1  finished  2.762 M   \n",
       "\n",
       "                                                url  \\\n",
       "0  https://wandb.ai/susbrock/model_DB/runs/f7cli26n   \n",
       "1  https://wandb.ai/susbrock/model_DB/runs/le3i8f7h   \n",
       "2  https://wandb.ai/susbrock/model_DB/runs/phil00x9   \n",
       "3  https://wandb.ai/susbrock/model_DB/runs/pksk1h3b   \n",
       "4  https://wandb.ai/susbrock/model_DB/runs/a2wlivv7   \n",
       "\n",
       "                           architecture    FLOPs  alpha  classes  img_res  \\\n",
       "0   mobilenetv2_0.2_96_c3_o2_t3l128.MV1  4.024 M    0.2        2       96   \n",
       "1   mobilenetv2_0.2_96_c3_o2_t3l256.MV1  4.176 M    0.2        2       96   \n",
       "2   mobilenetv2_0.2_96_c3_o2_t3l512.MV1  4.479 M    0.2        2       96   \n",
       "3  mobilenetv2_0.2_96_c3_o2_t3l1024.MV1  5.085 M    0.2        2       96   \n",
       "4  mobilenetv2_0.2_96_c3_o2_t4l1024.MV1  5.870 M    0.2        2       96   \n",
       "\n",
       "   OPS_mltk  channels  macs_mltk    variation  energy_mltk  total_params  \\\n",
       "0   4169783         3    1881445   t3l128.MV1     0.003507         55730   \n",
       "1   4322487         3    1955429   t3l256.MV1     0.003536         64690   \n",
       "2   4627895         3    2103397   t3l512.MV1     0.003581         82610   \n",
       "3   5238711         3    2399333  t3l1024.MV1     0.003571        118450   \n",
       "4   6052770         3    2762204  t4l1024.MV1     0.004026        133522   \n",
       "\n",
       "   OPS_INT8_mltk  model_size_kb  peak_memory_b  macs_INT8_mltk  \\\n",
       "0        4280383     674.406250        55296.0         1881445   \n",
       "1        4433087     710.429688        55296.0         1955429   \n",
       "2        4738495     780.484375        55296.0         2103397   \n",
       "3        5349311     920.484375        55296.0         2399333   \n",
       "4        6163370     977.968750        55296.0         2762204   \n",
       "\n",
       "   energy_INT8_mltk  trainable_params  non_trainable_params  \\\n",
       "0          0.003707             52094                  3636   \n",
       "1          0.003735             60798                  3892   \n",
       "2          0.003781             78206                  4404   \n",
       "3          0.003771            113022                  5428   \n",
       "4          0.004225            127174                  6348   \n",
       "\n",
       "   tflite_model_size_kb  flash_model_size_b_mltk  n_unsupported_layers_mltk  \\\n",
       "0            220.859375                   226160                          0   \n",
       "1            254.359375                   260464                          0   \n",
       "2            321.359375                   329072                          0   \n",
       "3            455.359375                   466288                          0   \n",
       "4            507.332031                   519508                          0   \n",
       "\n",
       "   tflite_model_INT8_size_kb  flash_model_size_b__INT8_mltk  \\\n",
       "0                 130.843750                         133984   \n",
       "1                 142.593750                         146016   \n",
       "2                 166.093750                         170080   \n",
       "3                 213.093750                         218208   \n",
       "4                 237.046875                         242736   \n",
       "\n",
       "   RAM_runtime_memory_size_b_mltk  n_unsupported_layers_INT8_mltk  \\\n",
       "0                          209928                               0   \n",
       "1                          210952                               0   \n",
       "2                          213000                               0   \n",
       "3                          217096                               0   \n",
       "4                          220424                               0   \n",
       "\n",
       "   RAM_runtime_memory_size_b_INT8_mltk tags           created_at  \\\n",
       "0                                81636   []  2023-03-01T19:35:25   \n",
       "1                                82660   []  2023-03-01T19:33:21   \n",
       "2                                84708   []  2023-03-01T19:31:18   \n",
       "3                                88804   []  2023-03-01T19:29:17   \n",
       "4                                92160   []  2023-03-01T19:27:13   \n",
       "\n",
       "                             path notes test_accuracy  \n",
       "0  [susbrock, model_DB, f7cli26n]  None          None  \n",
       "1  [susbrock, model_DB, le3i8f7h]  None          None  \n",
       "2  [susbrock, model_DB, phil00x9]  None          None  \n",
       "3  [susbrock, model_DB, pksk1h3b]  None          None  \n",
       "4  [susbrock, model_DB, a2wlivv7]  None          None  "
      ]
     },
     "execution_count": 29,
     "metadata": {},
     "output_type": "execute_result"
    }
   ],
   "source": [
    "df = wandb_model_DB()\n",
    "df.head()"
   ]
  },
  {
   "cell_type": "code",
   "execution_count": 46,
   "metadata": {},
   "outputs": [],
   "source": [
    "df.test_accuracy = df.test_accuracy.fillna(0)\n",
    "df.test_accuracy.replace(\"NaN\", 0, inplace=True)"
   ]
  },
  {
   "cell_type": "code",
   "execution_count": 47,
   "metadata": {},
   "outputs": [
    {
     "data": {
      "text/plain": [
       "array([0.        , 0.83216274, 0.83690596, 0.81574386, 0.81430137,\n",
       "       0.80598378, 0.7487914 , 0.76302105, 0.83343977, 0.83353096,\n",
       "       0.87293625, 0.79987228, 0.77123052, 0.85186535, 0.85113561,\n",
       "       0.82869655, 0.81282496, 0.85077077, 0.83891273, 0.80187905,\n",
       "       0.82577759])"
      ]
     },
     "execution_count": 47,
     "metadata": {},
     "output_type": "execute_result"
    }
   ],
   "source": [
    "df.test_accuracy.unique()"
   ]
  },
  {
   "attachments": {},
   "cell_type": "markdown",
   "metadata": {},
   "source": [
    "# Get training info\n",
    "just export run_table from wandb"
   ]
  },
  {
   "cell_type": "code",
   "execution_count": 30,
   "metadata": {},
   "outputs": [],
   "source": [
    "#def wandb_model_DB():\n",
    "api = wandb.Api()\n",
    "runs = api.runs(\"susbrock/model_DB_visual_wake_words\")\n",
    "\n",
    "config_df = pd.DataFrame()\n",
    "name = []\n",
    "tags =[]\n",
    "state = []\n",
    "url = []\n",
    "created_at = []\n",
    "path = []\n",
    "notes = []\n",
    "test_accuracies = []\n",
    "#test_losses = []\n",
    "\n",
    "for run in runs:\n",
    "    name.append(run.name)\n",
    "    tags.append(run.tags)\n",
    "    state.append(run.state)\n",
    "    url.append(run.url)\n",
    "    created_at.append(run.created_at)\n",
    "    path.append(run.path)\n",
    "    notes.append(run.notes)\n",
    "    test_accuracies.append(run.summary.get(\"test_accuracy\"))\n",
    "\n",
    "    run_df = pd.DataFrame([run.config], columns=run.config.keys())\n",
    "    config_df = pd.concat([config_df, run_df], axis=0, ignore_index=True)\n",
    "col_names = [\"run_name\", \"tags\", \"state\", \"url\", \"created_at\", \"path\", \"notes\", \"test_accuracy\"]\n",
    "attrs_df = pd.DataFrame(zip(name, tags, state, url,created_at, path, notes, test_accuracies), columns=col_names)\n",
    "\n",
    "training_df =  pd.concat([config_df, attrs_df], axis=1)\n",
    "\n",
    "training_df.insert(1,\"run_name\" , training_df.pop(\"run_name\"))\n",
    "training_df.insert(3,\"architecture\" , training_df.pop(\"architecture\"))   \n",
    "training_df.insert(2,\"state\" , training_df.pop(\"state\")) \n",
    "training_df.insert(4,\"url\" , training_df.pop(\"url\")) \n",
    "\n"
   ]
  },
  {
   "cell_type": "code",
   "execution_count": 31,
   "metadata": {},
   "outputs": [
    {
     "data": {
      "text/html": [
       "<div>\n",
       "<style scoped>\n",
       "    .dataframe tbody tr th:only-of-type {\n",
       "        vertical-align: middle;\n",
       "    }\n",
       "\n",
       "    .dataframe tbody tr th {\n",
       "        vertical-align: top;\n",
       "    }\n",
       "\n",
       "    .dataframe thead th {\n",
       "        text-align: right;\n",
       "    }\n",
       "</style>\n",
       "<table border=\"1\" class=\"dataframe\">\n",
       "  <thead>\n",
       "    <tr style=\"text-align: right;\">\n",
       "      <th></th>\n",
       "      <th>id</th>\n",
       "      <th>run_name</th>\n",
       "      <th>state</th>\n",
       "      <th>seed</th>\n",
       "      <th>url</th>\n",
       "      <th>architecture</th>\n",
       "      <th>epochs</th>\n",
       "      <th>classes</th>\n",
       "      <th>dataset</th>\n",
       "      <th>momentum</th>\n",
       "      <th>optimizer</th>\n",
       "      <th>batch_size</th>\n",
       "      <th>learn_rate</th>\n",
       "      <th>batch_norm_momentum</th>\n",
       "      <th>hostname</th>\n",
       "      <th>tags</th>\n",
       "      <th>created_at</th>\n",
       "      <th>path</th>\n",
       "      <th>notes</th>\n",
       "      <th>test_accuracy</th>\n",
       "    </tr>\n",
       "  </thead>\n",
       "  <tbody>\n",
       "    <tr>\n",
       "      <th>0</th>\n",
       "      <td>tuq3r964</td>\n",
       "      <td>mobilenetv2_0.2_96_c3_o2_t4l256.MV1</td>\n",
       "      <td>running</td>\n",
       "      <td>15</td>\n",
       "      <td>https://wandb.ai/susbrock/model_DB_visual_wake...</td>\n",
       "      <td>mobilenetv2_0.2_96_c3_o2_t4l256.MV1</td>\n",
       "      <td>50</td>\n",
       "      <td>2</td>\n",
       "      <td>vvw_minval_datagen_fix</td>\n",
       "      <td>0.9</td>\n",
       "      <td>Adam</td>\n",
       "      <td>50</td>\n",
       "      <td>0.001</td>\n",
       "      <td>0.9</td>\n",
       "      <td>NaN</td>\n",
       "      <td>[]</td>\n",
       "      <td>2023-03-01T19:09:57</td>\n",
       "      <td>[susbrock, model_DB_visual_wake_words, tuq3r964]</td>\n",
       "      <td>None</td>\n",
       "      <td>NaN</td>\n",
       "    </tr>\n",
       "    <tr>\n",
       "      <th>1</th>\n",
       "      <td>0400umu4</td>\n",
       "      <td>mobilenetv2_0.2_96_c3_o2_t4l256.MV1</td>\n",
       "      <td>finished</td>\n",
       "      <td>15</td>\n",
       "      <td>https://wandb.ai/susbrock/model_DB_visual_wake...</td>\n",
       "      <td>mobilenetv2_0.2_96_c3_o2_t4l256.MV1</td>\n",
       "      <td>50</td>\n",
       "      <td>2</td>\n",
       "      <td>vvw_minval_datagen_fix</td>\n",
       "      <td>0.9</td>\n",
       "      <td>Adam</td>\n",
       "      <td>50</td>\n",
       "      <td>0.001</td>\n",
       "      <td>0.9</td>\n",
       "      <td>NaN</td>\n",
       "      <td>[]</td>\n",
       "      <td>2023-03-01T18:27:15</td>\n",
       "      <td>[susbrock, model_DB_visual_wake_words, 0400umu4]</td>\n",
       "      <td>None</td>\n",
       "      <td>NaN</td>\n",
       "    </tr>\n",
       "    <tr>\n",
       "      <th>2</th>\n",
       "      <td>wh6k8s0w</td>\n",
       "      <td>mobilenetv2_0.2_96_c3_o2_t4l512.MV1</td>\n",
       "      <td>finished</td>\n",
       "      <td>15</td>\n",
       "      <td>https://wandb.ai/susbrock/model_DB_visual_wake...</td>\n",
       "      <td>mobilenetv2_0.2_96_c3_o2_t4l512.MV1</td>\n",
       "      <td>50</td>\n",
       "      <td>2</td>\n",
       "      <td>vvw_minval_datagen_fix</td>\n",
       "      <td>0.9</td>\n",
       "      <td>Adam</td>\n",
       "      <td>50</td>\n",
       "      <td>0.001</td>\n",
       "      <td>0.9</td>\n",
       "      <td>NaN</td>\n",
       "      <td>[]</td>\n",
       "      <td>2023-03-01T18:20:18</td>\n",
       "      <td>[susbrock, model_DB_visual_wake_words, wh6k8s0w]</td>\n",
       "      <td>None</td>\n",
       "      <td>NaN</td>\n",
       "    </tr>\n",
       "    <tr>\n",
       "      <th>3</th>\n",
       "      <td>bq8c0lhi</td>\n",
       "      <td>mobilenetv2_0.2_96_c3_o2_t4l512.MV1</td>\n",
       "      <td>finished</td>\n",
       "      <td>15</td>\n",
       "      <td>https://wandb.ai/susbrock/model_DB_visual_wake...</td>\n",
       "      <td>mobilenetv2_0.2_96_c3_o2_t4l512.MV1</td>\n",
       "      <td>50</td>\n",
       "      <td>2</td>\n",
       "      <td>vvw_minval_datagen_fix</td>\n",
       "      <td>0.9</td>\n",
       "      <td>Adam</td>\n",
       "      <td>50</td>\n",
       "      <td>0.001</td>\n",
       "      <td>0.9</td>\n",
       "      <td>NaN</td>\n",
       "      <td>[]</td>\n",
       "      <td>2023-03-01T18:13:08</td>\n",
       "      <td>[susbrock, model_DB_visual_wake_words, bq8c0lhi]</td>\n",
       "      <td>None</td>\n",
       "      <td>NaN</td>\n",
       "    </tr>\n",
       "    <tr>\n",
       "      <th>4</th>\n",
       "      <td>3x1qra2a</td>\n",
       "      <td>shufflenetv2tiny_0.2_96_c3_o2_f24l1024</td>\n",
       "      <td>crashed</td>\n",
       "      <td>15</td>\n",
       "      <td>https://wandb.ai/susbrock/model_DB_visual_wake...</td>\n",
       "      <td>shufflenetv2tiny_0.2_96_c3_o2_f24l1024</td>\n",
       "      <td>50</td>\n",
       "      <td>2</td>\n",
       "      <td>vvw_minval_datagen_fix</td>\n",
       "      <td>0.9</td>\n",
       "      <td>Adam</td>\n",
       "      <td>50</td>\n",
       "      <td>0.001</td>\n",
       "      <td>0.9</td>\n",
       "      <td>NaN</td>\n",
       "      <td>[]</td>\n",
       "      <td>2023-03-01T14:43:04</td>\n",
       "      <td>[susbrock, model_DB_visual_wake_words, 3x1qra2a]</td>\n",
       "      <td>None</td>\n",
       "      <td>NaN</td>\n",
       "    </tr>\n",
       "  </tbody>\n",
       "</table>\n",
       "</div>"
      ],
      "text/plain": [
       "         id                                run_name     state  seed  \\\n",
       "0  tuq3r964     mobilenetv2_0.2_96_c3_o2_t4l256.MV1   running    15   \n",
       "1  0400umu4     mobilenetv2_0.2_96_c3_o2_t4l256.MV1  finished    15   \n",
       "2  wh6k8s0w     mobilenetv2_0.2_96_c3_o2_t4l512.MV1  finished    15   \n",
       "3  bq8c0lhi     mobilenetv2_0.2_96_c3_o2_t4l512.MV1  finished    15   \n",
       "4  3x1qra2a  shufflenetv2tiny_0.2_96_c3_o2_f24l1024   crashed    15   \n",
       "\n",
       "                                                 url  \\\n",
       "0  https://wandb.ai/susbrock/model_DB_visual_wake...   \n",
       "1  https://wandb.ai/susbrock/model_DB_visual_wake...   \n",
       "2  https://wandb.ai/susbrock/model_DB_visual_wake...   \n",
       "3  https://wandb.ai/susbrock/model_DB_visual_wake...   \n",
       "4  https://wandb.ai/susbrock/model_DB_visual_wake...   \n",
       "\n",
       "                             architecture  epochs  classes  \\\n",
       "0     mobilenetv2_0.2_96_c3_o2_t4l256.MV1      50        2   \n",
       "1     mobilenetv2_0.2_96_c3_o2_t4l256.MV1      50        2   \n",
       "2     mobilenetv2_0.2_96_c3_o2_t4l512.MV1      50        2   \n",
       "3     mobilenetv2_0.2_96_c3_o2_t4l512.MV1      50        2   \n",
       "4  shufflenetv2tiny_0.2_96_c3_o2_f24l1024      50        2   \n",
       "\n",
       "                  dataset  momentum optimizer  batch_size  learn_rate  \\\n",
       "0  vvw_minval_datagen_fix       0.9      Adam          50       0.001   \n",
       "1  vvw_minval_datagen_fix       0.9      Adam          50       0.001   \n",
       "2  vvw_minval_datagen_fix       0.9      Adam          50       0.001   \n",
       "3  vvw_minval_datagen_fix       0.9      Adam          50       0.001   \n",
       "4  vvw_minval_datagen_fix       0.9      Adam          50       0.001   \n",
       "\n",
       "   batch_norm_momentum hostname tags           created_at  \\\n",
       "0                  0.9      NaN   []  2023-03-01T19:09:57   \n",
       "1                  0.9      NaN   []  2023-03-01T18:27:15   \n",
       "2                  0.9      NaN   []  2023-03-01T18:20:18   \n",
       "3                  0.9      NaN   []  2023-03-01T18:13:08   \n",
       "4                  0.9      NaN   []  2023-03-01T14:43:04   \n",
       "\n",
       "                                               path notes  test_accuracy  \n",
       "0  [susbrock, model_DB_visual_wake_words, tuq3r964]  None            NaN  \n",
       "1  [susbrock, model_DB_visual_wake_words, 0400umu4]  None            NaN  \n",
       "2  [susbrock, model_DB_visual_wake_words, wh6k8s0w]  None            NaN  \n",
       "3  [susbrock, model_DB_visual_wake_words, bq8c0lhi]  None            NaN  \n",
       "4  [susbrock, model_DB_visual_wake_words, 3x1qra2a]  None            NaN  "
      ]
     },
     "execution_count": 31,
     "metadata": {},
     "output_type": "execute_result"
    }
   ],
   "source": [
    "training_df.head()"
   ]
  },
  {
   "cell_type": "code",
   "execution_count": 32,
   "metadata": {},
   "outputs": [
    {
     "data": {
      "text/plain": [
       "Index(['id', 'run_name', 'state', 'MACs', 'url', 'architecture', 'FLOPs',\n",
       "       'alpha', 'classes', 'img_res', 'OPS_mltk', 'channels', 'macs_mltk',\n",
       "       'variation', 'energy_mltk', 'total_params', 'OPS_INT8_mltk',\n",
       "       'model_size_kb', 'peak_memory_b', 'macs_INT8_mltk', 'energy_INT8_mltk',\n",
       "       'trainable_params', 'non_trainable_params', 'tflite_model_size_kb',\n",
       "       'flash_model_size_b_mltk', 'n_unsupported_layers_mltk',\n",
       "       'tflite_model_INT8_size_kb', 'flash_model_size_b__INT8_mltk',\n",
       "       'RAM_runtime_memory_size_b_mltk', 'n_unsupported_layers_INT8_mltk',\n",
       "       'RAM_runtime_memory_size_b_INT8_mltk', 'tags', 'created_at', 'path',\n",
       "       'notes', 'test_accuracy'],\n",
       "      dtype='object')"
      ]
     },
     "execution_count": 32,
     "metadata": {},
     "output_type": "execute_result"
    }
   ],
   "source": [
    "df.columns"
   ]
  },
  {
   "cell_type": "code",
   "execution_count": 60,
   "metadata": {},
   "outputs": [],
   "source": [
    "def get_untrained_models():\n",
    "    df = wandb_model_DB()\n",
    "    wandb_untrained_df = df[df[\"test_accuracy\"]<0.5]\n",
    "    architectures = wandb_untrained_df[\"architecture\"].unique().tolist()\n",
    "    return architectures"
   ]
  },
  {
   "cell_type": "code",
   "execution_count": 49,
   "metadata": {},
   "outputs": [
    {
     "data": {
      "text/html": [
       "<div>\n",
       "<style scoped>\n",
       "    .dataframe tbody tr th:only-of-type {\n",
       "        vertical-align: middle;\n",
       "    }\n",
       "\n",
       "    .dataframe tbody tr th {\n",
       "        vertical-align: top;\n",
       "    }\n",
       "\n",
       "    .dataframe thead th {\n",
       "        text-align: right;\n",
       "    }\n",
       "</style>\n",
       "<table border=\"1\" class=\"dataframe\">\n",
       "  <thead>\n",
       "    <tr style=\"text-align: right;\">\n",
       "      <th></th>\n",
       "      <th>id</th>\n",
       "      <th>run_name</th>\n",
       "      <th>state</th>\n",
       "      <th>MACs</th>\n",
       "      <th>url</th>\n",
       "      <th>architecture</th>\n",
       "      <th>FLOPs</th>\n",
       "      <th>alpha</th>\n",
       "      <th>classes</th>\n",
       "      <th>img_res</th>\n",
       "      <th>OPS_mltk</th>\n",
       "      <th>channels</th>\n",
       "      <th>macs_mltk</th>\n",
       "      <th>variation</th>\n",
       "      <th>energy_mltk</th>\n",
       "      <th>total_params</th>\n",
       "      <th>OPS_INT8_mltk</th>\n",
       "      <th>model_size_kb</th>\n",
       "      <th>peak_memory_b</th>\n",
       "      <th>macs_INT8_mltk</th>\n",
       "      <th>energy_INT8_mltk</th>\n",
       "      <th>trainable_params</th>\n",
       "      <th>non_trainable_params</th>\n",
       "      <th>tflite_model_size_kb</th>\n",
       "      <th>flash_model_size_b_mltk</th>\n",
       "      <th>n_unsupported_layers_mltk</th>\n",
       "      <th>tflite_model_INT8_size_kb</th>\n",
       "      <th>flash_model_size_b__INT8_mltk</th>\n",
       "      <th>RAM_runtime_memory_size_b_mltk</th>\n",
       "      <th>n_unsupported_layers_INT8_mltk</th>\n",
       "      <th>RAM_runtime_memory_size_b_INT8_mltk</th>\n",
       "      <th>tags</th>\n",
       "      <th>created_at</th>\n",
       "      <th>path</th>\n",
       "      <th>notes</th>\n",
       "      <th>test_accuracy</th>\n",
       "    </tr>\n",
       "  </thead>\n",
       "  <tbody>\n",
       "    <tr>\n",
       "      <th>0</th>\n",
       "      <td>f7cli26n</td>\n",
       "      <td>mobilenetv2_0.2_96_c3_o2_t3l128.MV1</td>\n",
       "      <td>finished</td>\n",
       "      <td>1.881 M</td>\n",
       "      <td>https://wandb.ai/susbrock/model_DB/runs/f7cli26n</td>\n",
       "      <td>mobilenetv2_0.2_96_c3_o2_t3l128.MV1</td>\n",
       "      <td>4.024 M</td>\n",
       "      <td>0.20</td>\n",
       "      <td>2</td>\n",
       "      <td>96</td>\n",
       "      <td>4169783</td>\n",
       "      <td>3</td>\n",
       "      <td>1881445</td>\n",
       "      <td>t3l128.MV1</td>\n",
       "      <td>0.003507</td>\n",
       "      <td>55730</td>\n",
       "      <td>4280383</td>\n",
       "      <td>674.406250</td>\n",
       "      <td>55296.0</td>\n",
       "      <td>1881445</td>\n",
       "      <td>0.003707</td>\n",
       "      <td>52094</td>\n",
       "      <td>3636</td>\n",
       "      <td>220.859375</td>\n",
       "      <td>226160</td>\n",
       "      <td>0</td>\n",
       "      <td>130.843750</td>\n",
       "      <td>133984</td>\n",
       "      <td>209928</td>\n",
       "      <td>0</td>\n",
       "      <td>81636</td>\n",
       "      <td>[]</td>\n",
       "      <td>2023-03-01T19:35:25</td>\n",
       "      <td>[susbrock, model_DB, f7cli26n]</td>\n",
       "      <td>None</td>\n",
       "      <td>0.0</td>\n",
       "    </tr>\n",
       "    <tr>\n",
       "      <th>1</th>\n",
       "      <td>le3i8f7h</td>\n",
       "      <td>mobilenetv2_0.2_96_c3_o2_t3l256.MV1</td>\n",
       "      <td>finished</td>\n",
       "      <td>1.955 M</td>\n",
       "      <td>https://wandb.ai/susbrock/model_DB/runs/le3i8f7h</td>\n",
       "      <td>mobilenetv2_0.2_96_c3_o2_t3l256.MV1</td>\n",
       "      <td>4.176 M</td>\n",
       "      <td>0.20</td>\n",
       "      <td>2</td>\n",
       "      <td>96</td>\n",
       "      <td>4322487</td>\n",
       "      <td>3</td>\n",
       "      <td>1955429</td>\n",
       "      <td>t3l256.MV1</td>\n",
       "      <td>0.003536</td>\n",
       "      <td>64690</td>\n",
       "      <td>4433087</td>\n",
       "      <td>710.429688</td>\n",
       "      <td>55296.0</td>\n",
       "      <td>1955429</td>\n",
       "      <td>0.003735</td>\n",
       "      <td>60798</td>\n",
       "      <td>3892</td>\n",
       "      <td>254.359375</td>\n",
       "      <td>260464</td>\n",
       "      <td>0</td>\n",
       "      <td>142.593750</td>\n",
       "      <td>146016</td>\n",
       "      <td>210952</td>\n",
       "      <td>0</td>\n",
       "      <td>82660</td>\n",
       "      <td>[]</td>\n",
       "      <td>2023-03-01T19:33:21</td>\n",
       "      <td>[susbrock, model_DB, le3i8f7h]</td>\n",
       "      <td>None</td>\n",
       "      <td>0.0</td>\n",
       "    </tr>\n",
       "    <tr>\n",
       "      <th>2</th>\n",
       "      <td>phil00x9</td>\n",
       "      <td>mobilenetv2_0.2_96_c3_o2_t3l512.MV1</td>\n",
       "      <td>finished</td>\n",
       "      <td>2.103 M</td>\n",
       "      <td>https://wandb.ai/susbrock/model_DB/runs/phil00x9</td>\n",
       "      <td>mobilenetv2_0.2_96_c3_o2_t3l512.MV1</td>\n",
       "      <td>4.479 M</td>\n",
       "      <td>0.20</td>\n",
       "      <td>2</td>\n",
       "      <td>96</td>\n",
       "      <td>4627895</td>\n",
       "      <td>3</td>\n",
       "      <td>2103397</td>\n",
       "      <td>t3l512.MV1</td>\n",
       "      <td>0.003581</td>\n",
       "      <td>82610</td>\n",
       "      <td>4738495</td>\n",
       "      <td>780.484375</td>\n",
       "      <td>55296.0</td>\n",
       "      <td>2103397</td>\n",
       "      <td>0.003781</td>\n",
       "      <td>78206</td>\n",
       "      <td>4404</td>\n",
       "      <td>321.359375</td>\n",
       "      <td>329072</td>\n",
       "      <td>0</td>\n",
       "      <td>166.093750</td>\n",
       "      <td>170080</td>\n",
       "      <td>213000</td>\n",
       "      <td>0</td>\n",
       "      <td>84708</td>\n",
       "      <td>[]</td>\n",
       "      <td>2023-03-01T19:31:18</td>\n",
       "      <td>[susbrock, model_DB, phil00x9]</td>\n",
       "      <td>None</td>\n",
       "      <td>0.0</td>\n",
       "    </tr>\n",
       "    <tr>\n",
       "      <th>3</th>\n",
       "      <td>pksk1h3b</td>\n",
       "      <td>mobilenetv2_0.2_96_c3_o2_t3l1024.MV1</td>\n",
       "      <td>finished</td>\n",
       "      <td>2.399 M</td>\n",
       "      <td>https://wandb.ai/susbrock/model_DB/runs/pksk1h3b</td>\n",
       "      <td>mobilenetv2_0.2_96_c3_o2_t3l1024.MV1</td>\n",
       "      <td>5.085 M</td>\n",
       "      <td>0.20</td>\n",
       "      <td>2</td>\n",
       "      <td>96</td>\n",
       "      <td>5238711</td>\n",
       "      <td>3</td>\n",
       "      <td>2399333</td>\n",
       "      <td>t3l1024.MV1</td>\n",
       "      <td>0.003571</td>\n",
       "      <td>118450</td>\n",
       "      <td>5349311</td>\n",
       "      <td>920.484375</td>\n",
       "      <td>55296.0</td>\n",
       "      <td>2399333</td>\n",
       "      <td>0.003771</td>\n",
       "      <td>113022</td>\n",
       "      <td>5428</td>\n",
       "      <td>455.359375</td>\n",
       "      <td>466288</td>\n",
       "      <td>0</td>\n",
       "      <td>213.093750</td>\n",
       "      <td>218208</td>\n",
       "      <td>217096</td>\n",
       "      <td>0</td>\n",
       "      <td>88804</td>\n",
       "      <td>[]</td>\n",
       "      <td>2023-03-01T19:29:17</td>\n",
       "      <td>[susbrock, model_DB, pksk1h3b]</td>\n",
       "      <td>None</td>\n",
       "      <td>0.0</td>\n",
       "    </tr>\n",
       "    <tr>\n",
       "      <th>4</th>\n",
       "      <td>a2wlivv7</td>\n",
       "      <td>mobilenetv2_0.2_96_c3_o2_t4l1024.MV1</td>\n",
       "      <td>finished</td>\n",
       "      <td>2.762 M</td>\n",
       "      <td>https://wandb.ai/susbrock/model_DB/runs/a2wlivv7</td>\n",
       "      <td>mobilenetv2_0.2_96_c3_o2_t4l1024.MV1</td>\n",
       "      <td>5.870 M</td>\n",
       "      <td>0.20</td>\n",
       "      <td>2</td>\n",
       "      <td>96</td>\n",
       "      <td>6052770</td>\n",
       "      <td>3</td>\n",
       "      <td>2762204</td>\n",
       "      <td>t4l1024.MV1</td>\n",
       "      <td>0.004026</td>\n",
       "      <td>133522</td>\n",
       "      <td>6163370</td>\n",
       "      <td>977.968750</td>\n",
       "      <td>55296.0</td>\n",
       "      <td>2762204</td>\n",
       "      <td>0.004225</td>\n",
       "      <td>127174</td>\n",
       "      <td>6348</td>\n",
       "      <td>507.332031</td>\n",
       "      <td>519508</td>\n",
       "      <td>0</td>\n",
       "      <td>237.046875</td>\n",
       "      <td>242736</td>\n",
       "      <td>220424</td>\n",
       "      <td>0</td>\n",
       "      <td>92160</td>\n",
       "      <td>[]</td>\n",
       "      <td>2023-03-01T19:27:13</td>\n",
       "      <td>[susbrock, model_DB, a2wlivv7]</td>\n",
       "      <td>None</td>\n",
       "      <td>0.0</td>\n",
       "    </tr>\n",
       "    <tr>\n",
       "      <th>...</th>\n",
       "      <td>...</td>\n",
       "      <td>...</td>\n",
       "      <td>...</td>\n",
       "      <td>...</td>\n",
       "      <td>...</td>\n",
       "      <td>...</td>\n",
       "      <td>...</td>\n",
       "      <td>...</td>\n",
       "      <td>...</td>\n",
       "      <td>...</td>\n",
       "      <td>...</td>\n",
       "      <td>...</td>\n",
       "      <td>...</td>\n",
       "      <td>...</td>\n",
       "      <td>...</td>\n",
       "      <td>...</td>\n",
       "      <td>...</td>\n",
       "      <td>...</td>\n",
       "      <td>...</td>\n",
       "      <td>...</td>\n",
       "      <td>...</td>\n",
       "      <td>...</td>\n",
       "      <td>...</td>\n",
       "      <td>...</td>\n",
       "      <td>...</td>\n",
       "      <td>...</td>\n",
       "      <td>...</td>\n",
       "      <td>...</td>\n",
       "      <td>...</td>\n",
       "      <td>...</td>\n",
       "      <td>...</td>\n",
       "      <td>...</td>\n",
       "      <td>...</td>\n",
       "      <td>...</td>\n",
       "      <td>...</td>\n",
       "      <td>...</td>\n",
       "    </tr>\n",
       "    <tr>\n",
       "      <th>85</th>\n",
       "      <td>pnq7ad7c</td>\n",
       "      <td>mobilenetv1_0.35_96_c3_o2_l1</td>\n",
       "      <td>finished</td>\n",
       "      <td>8.950 M</td>\n",
       "      <td>https://wandb.ai/susbrock/model_DB/runs/pnq7ad7c</td>\n",
       "      <td>mobilenetv1_0.35_96_c3_o2_l1</td>\n",
       "      <td>18.706 M</td>\n",
       "      <td>0.35</td>\n",
       "      <td>2</td>\n",
       "      <td>96</td>\n",
       "      <td>18705937</td>\n",
       "      <td>3</td>\n",
       "      <td>8949947</td>\n",
       "      <td>l1</td>\n",
       "      <td>0.007999</td>\n",
       "      <td>277291</td>\n",
       "      <td>18816537</td>\n",
       "      <td>1291.246094</td>\n",
       "      <td>76032.0</td>\n",
       "      <td>8949947</td>\n",
       "      <td>0.008198</td>\n",
       "      <td>272515</td>\n",
       "      <td>4776</td>\n",
       "      <td>1053.855469</td>\n",
       "      <td>1079148</td>\n",
       "      <td>0</td>\n",
       "      <td>336.125000</td>\n",
       "      <td>344192</td>\n",
       "      <td>429332</td>\n",
       "      <td>0</td>\n",
       "      <td>125652</td>\n",
       "      <td>[]</td>\n",
       "      <td>2023-02-05T21:01:06</td>\n",
       "      <td>[susbrock, model_DB, pnq7ad7c]</td>\n",
       "      <td>None</td>\n",
       "      <td>0.0</td>\n",
       "    </tr>\n",
       "    <tr>\n",
       "      <th>86</th>\n",
       "      <td>i4nnlhl8</td>\n",
       "      <td>mobilenetv1_0.25_96_c3_o2_l5</td>\n",
       "      <td>finished</td>\n",
       "      <td>7.490 M</td>\n",
       "      <td>https://wandb.ai/susbrock/model_DB/runs/i4nnlhl8</td>\n",
       "      <td>mobilenetv1_0.25_96_c3_o2_l5</td>\n",
       "      <td>15.674 M</td>\n",
       "      <td>0.25</td>\n",
       "      <td>2</td>\n",
       "      <td>96</td>\n",
       "      <td>15673996</td>\n",
       "      <td>3</td>\n",
       "      <td>7489664</td>\n",
       "      <td>l5</td>\n",
       "      <td>0.005974</td>\n",
       "      <td>221794</td>\n",
       "      <td>15784596</td>\n",
       "      <td>1123.593750</td>\n",
       "      <td>55296.0</td>\n",
       "      <td>7489664</td>\n",
       "      <td>0.006173</td>\n",
       "      <td>216322</td>\n",
       "      <td>5472</td>\n",
       "      <td>834.507812</td>\n",
       "      <td>854536</td>\n",
       "      <td>0</td>\n",
       "      <td>294.171875</td>\n",
       "      <td>301232</td>\n",
       "      <td>322644</td>\n",
       "      <td>0</td>\n",
       "      <td>101956</td>\n",
       "      <td>[]</td>\n",
       "      <td>2023-02-05T20:59:40</td>\n",
       "      <td>[susbrock, model_DB, i4nnlhl8]</td>\n",
       "      <td>None</td>\n",
       "      <td>0.0</td>\n",
       "    </tr>\n",
       "    <tr>\n",
       "      <th>87</th>\n",
       "      <td>ylfo6y2p</td>\n",
       "      <td>mobilenetv1_0.25_96_c3_o2_l4</td>\n",
       "      <td>finished</td>\n",
       "      <td>6.858 M</td>\n",
       "      <td>https://wandb.ai/susbrock/model_DB/runs/ylfo6y2p</td>\n",
       "      <td>mobilenetv1_0.25_96_c3_o2_l4</td>\n",
       "      <td>14.384 M</td>\n",
       "      <td>0.25</td>\n",
       "      <td>2</td>\n",
       "      <td>96</td>\n",
       "      <td>14383756</td>\n",
       "      <td>3</td>\n",
       "      <td>6858368</td>\n",
       "      <td>l4</td>\n",
       "      <td>0.005664</td>\n",
       "      <td>202978</td>\n",
       "      <td>14494356</td>\n",
       "      <td>1034.257812</td>\n",
       "      <td>55296.0</td>\n",
       "      <td>6858368</td>\n",
       "      <td>0.005863</td>\n",
       "      <td>198018</td>\n",
       "      <td>4960</td>\n",
       "      <td>764.753906</td>\n",
       "      <td>783108</td>\n",
       "      <td>0</td>\n",
       "      <td>269.382812</td>\n",
       "      <td>275848</td>\n",
       "      <td>320196</td>\n",
       "      <td>0</td>\n",
       "      <td>99536</td>\n",
       "      <td>[]</td>\n",
       "      <td>2023-02-05T20:58:11</td>\n",
       "      <td>[susbrock, model_DB, ylfo6y2p]</td>\n",
       "      <td>None</td>\n",
       "      <td>0.0</td>\n",
       "    </tr>\n",
       "    <tr>\n",
       "      <th>89</th>\n",
       "      <td>b8s1tewx</td>\n",
       "      <td>mobilenetv1_0.25_96_c3_o2_l2</td>\n",
       "      <td>finished</td>\n",
       "      <td>5.596 M</td>\n",
       "      <td>https://wandb.ai/susbrock/model_DB/runs/b8s1tewx</td>\n",
       "      <td>mobilenetv1_0.25_96_c3_o2_l2</td>\n",
       "      <td>11.803 M</td>\n",
       "      <td>0.25</td>\n",
       "      <td>2</td>\n",
       "      <td>96</td>\n",
       "      <td>11803276</td>\n",
       "      <td>3</td>\n",
       "      <td>5595776</td>\n",
       "      <td>l2</td>\n",
       "      <td>0.005042</td>\n",
       "      <td>165346</td>\n",
       "      <td>11913876</td>\n",
       "      <td>850.914062</td>\n",
       "      <td>55296.0</td>\n",
       "      <td>5595776</td>\n",
       "      <td>0.005242</td>\n",
       "      <td>161410</td>\n",
       "      <td>3936</td>\n",
       "      <td>625.246094</td>\n",
       "      <td>640252</td>\n",
       "      <td>0</td>\n",
       "      <td>219.835938</td>\n",
       "      <td>225112</td>\n",
       "      <td>315428</td>\n",
       "      <td>0</td>\n",
       "      <td>94696</td>\n",
       "      <td>[]</td>\n",
       "      <td>2023-02-05T20:55:13</td>\n",
       "      <td>[susbrock, model_DB, b8s1tewx]</td>\n",
       "      <td>None</td>\n",
       "      <td>0.0</td>\n",
       "    </tr>\n",
       "    <tr>\n",
       "      <th>90</th>\n",
       "      <td>ftt6trut</td>\n",
       "      <td>mobilenetv1_0.25_96_c3_o2_l1</td>\n",
       "      <td>finished</td>\n",
       "      <td>4.964 M</td>\n",
       "      <td>https://wandb.ai/susbrock/model_DB/runs/ftt6trut</td>\n",
       "      <td>mobilenetv1_0.25_96_c3_o2_l1</td>\n",
       "      <td>10.513 M</td>\n",
       "      <td>0.25</td>\n",
       "      <td>2</td>\n",
       "      <td>96</td>\n",
       "      <td>10513036</td>\n",
       "      <td>3</td>\n",
       "      <td>4964480</td>\n",
       "      <td>l1</td>\n",
       "      <td>0.004732</td>\n",
       "      <td>146530</td>\n",
       "      <td>10623636</td>\n",
       "      <td>778.328125</td>\n",
       "      <td>55296.0</td>\n",
       "      <td>4964480</td>\n",
       "      <td>0.004931</td>\n",
       "      <td>143106</td>\n",
       "      <td>3424</td>\n",
       "      <td>555.496094</td>\n",
       "      <td>568828</td>\n",
       "      <td>0</td>\n",
       "      <td>195.070312</td>\n",
       "      <td>199752</td>\n",
       "      <td>313108</td>\n",
       "      <td>0</td>\n",
       "      <td>92276</td>\n",
       "      <td>[]</td>\n",
       "      <td>2023-02-05T20:53:36</td>\n",
       "      <td>[susbrock, model_DB, ftt6trut]</td>\n",
       "      <td>None</td>\n",
       "      <td>0.0</td>\n",
       "    </tr>\n",
       "  </tbody>\n",
       "</table>\n",
       "<p>69 rows × 36 columns</p>\n",
       "</div>"
      ],
      "text/plain": [
       "          id                              run_name     state     MACs  \\\n",
       "0   f7cli26n   mobilenetv2_0.2_96_c3_o2_t3l128.MV1  finished  1.881 M   \n",
       "1   le3i8f7h   mobilenetv2_0.2_96_c3_o2_t3l256.MV1  finished  1.955 M   \n",
       "2   phil00x9   mobilenetv2_0.2_96_c3_o2_t3l512.MV1  finished  2.103 M   \n",
       "3   pksk1h3b  mobilenetv2_0.2_96_c3_o2_t3l1024.MV1  finished  2.399 M   \n",
       "4   a2wlivv7  mobilenetv2_0.2_96_c3_o2_t4l1024.MV1  finished  2.762 M   \n",
       "..       ...                                   ...       ...      ...   \n",
       "85  pnq7ad7c          mobilenetv1_0.35_96_c3_o2_l1  finished  8.950 M   \n",
       "86  i4nnlhl8          mobilenetv1_0.25_96_c3_o2_l5  finished  7.490 M   \n",
       "87  ylfo6y2p          mobilenetv1_0.25_96_c3_o2_l4  finished  6.858 M   \n",
       "89  b8s1tewx          mobilenetv1_0.25_96_c3_o2_l2  finished  5.596 M   \n",
       "90  ftt6trut          mobilenetv1_0.25_96_c3_o2_l1  finished  4.964 M   \n",
       "\n",
       "                                                 url  \\\n",
       "0   https://wandb.ai/susbrock/model_DB/runs/f7cli26n   \n",
       "1   https://wandb.ai/susbrock/model_DB/runs/le3i8f7h   \n",
       "2   https://wandb.ai/susbrock/model_DB/runs/phil00x9   \n",
       "3   https://wandb.ai/susbrock/model_DB/runs/pksk1h3b   \n",
       "4   https://wandb.ai/susbrock/model_DB/runs/a2wlivv7   \n",
       "..                                               ...   \n",
       "85  https://wandb.ai/susbrock/model_DB/runs/pnq7ad7c   \n",
       "86  https://wandb.ai/susbrock/model_DB/runs/i4nnlhl8   \n",
       "87  https://wandb.ai/susbrock/model_DB/runs/ylfo6y2p   \n",
       "89  https://wandb.ai/susbrock/model_DB/runs/b8s1tewx   \n",
       "90  https://wandb.ai/susbrock/model_DB/runs/ftt6trut   \n",
       "\n",
       "                            architecture     FLOPs  alpha  classes  img_res  \\\n",
       "0    mobilenetv2_0.2_96_c3_o2_t3l128.MV1   4.024 M   0.20        2       96   \n",
       "1    mobilenetv2_0.2_96_c3_o2_t3l256.MV1   4.176 M   0.20        2       96   \n",
       "2    mobilenetv2_0.2_96_c3_o2_t3l512.MV1   4.479 M   0.20        2       96   \n",
       "3   mobilenetv2_0.2_96_c3_o2_t3l1024.MV1   5.085 M   0.20        2       96   \n",
       "4   mobilenetv2_0.2_96_c3_o2_t4l1024.MV1   5.870 M   0.20        2       96   \n",
       "..                                   ...       ...    ...      ...      ...   \n",
       "85          mobilenetv1_0.35_96_c3_o2_l1  18.706 M   0.35        2       96   \n",
       "86          mobilenetv1_0.25_96_c3_o2_l5  15.674 M   0.25        2       96   \n",
       "87          mobilenetv1_0.25_96_c3_o2_l4  14.384 M   0.25        2       96   \n",
       "89          mobilenetv1_0.25_96_c3_o2_l2  11.803 M   0.25        2       96   \n",
       "90          mobilenetv1_0.25_96_c3_o2_l1  10.513 M   0.25        2       96   \n",
       "\n",
       "    OPS_mltk  channels  macs_mltk    variation  energy_mltk  total_params  \\\n",
       "0    4169783         3    1881445   t3l128.MV1     0.003507         55730   \n",
       "1    4322487         3    1955429   t3l256.MV1     0.003536         64690   \n",
       "2    4627895         3    2103397   t3l512.MV1     0.003581         82610   \n",
       "3    5238711         3    2399333  t3l1024.MV1     0.003571        118450   \n",
       "4    6052770         3    2762204  t4l1024.MV1     0.004026        133522   \n",
       "..       ...       ...        ...          ...          ...           ...   \n",
       "85  18705937         3    8949947           l1     0.007999        277291   \n",
       "86  15673996         3    7489664           l5     0.005974        221794   \n",
       "87  14383756         3    6858368           l4     0.005664        202978   \n",
       "89  11803276         3    5595776           l2     0.005042        165346   \n",
       "90  10513036         3    4964480           l1     0.004732        146530   \n",
       "\n",
       "    OPS_INT8_mltk  model_size_kb  peak_memory_b  macs_INT8_mltk  \\\n",
       "0         4280383     674.406250        55296.0         1881445   \n",
       "1         4433087     710.429688        55296.0         1955429   \n",
       "2         4738495     780.484375        55296.0         2103397   \n",
       "3         5349311     920.484375        55296.0         2399333   \n",
       "4         6163370     977.968750        55296.0         2762204   \n",
       "..            ...            ...            ...             ...   \n",
       "85       18816537    1291.246094        76032.0         8949947   \n",
       "86       15784596    1123.593750        55296.0         7489664   \n",
       "87       14494356    1034.257812        55296.0         6858368   \n",
       "89       11913876     850.914062        55296.0         5595776   \n",
       "90       10623636     778.328125        55296.0         4964480   \n",
       "\n",
       "    energy_INT8_mltk  trainable_params  non_trainable_params  \\\n",
       "0           0.003707             52094                  3636   \n",
       "1           0.003735             60798                  3892   \n",
       "2           0.003781             78206                  4404   \n",
       "3           0.003771            113022                  5428   \n",
       "4           0.004225            127174                  6348   \n",
       "..               ...               ...                   ...   \n",
       "85          0.008198            272515                  4776   \n",
       "86          0.006173            216322                  5472   \n",
       "87          0.005863            198018                  4960   \n",
       "89          0.005242            161410                  3936   \n",
       "90          0.004931            143106                  3424   \n",
       "\n",
       "    tflite_model_size_kb  flash_model_size_b_mltk  n_unsupported_layers_mltk  \\\n",
       "0             220.859375                   226160                          0   \n",
       "1             254.359375                   260464                          0   \n",
       "2             321.359375                   329072                          0   \n",
       "3             455.359375                   466288                          0   \n",
       "4             507.332031                   519508                          0   \n",
       "..                   ...                      ...                        ...   \n",
       "85           1053.855469                  1079148                          0   \n",
       "86            834.507812                   854536                          0   \n",
       "87            764.753906                   783108                          0   \n",
       "89            625.246094                   640252                          0   \n",
       "90            555.496094                   568828                          0   \n",
       "\n",
       "    tflite_model_INT8_size_kb  flash_model_size_b__INT8_mltk  \\\n",
       "0                  130.843750                         133984   \n",
       "1                  142.593750                         146016   \n",
       "2                  166.093750                         170080   \n",
       "3                  213.093750                         218208   \n",
       "4                  237.046875                         242736   \n",
       "..                        ...                            ...   \n",
       "85                 336.125000                         344192   \n",
       "86                 294.171875                         301232   \n",
       "87                 269.382812                         275848   \n",
       "89                 219.835938                         225112   \n",
       "90                 195.070312                         199752   \n",
       "\n",
       "    RAM_runtime_memory_size_b_mltk  n_unsupported_layers_INT8_mltk  \\\n",
       "0                           209928                               0   \n",
       "1                           210952                               0   \n",
       "2                           213000                               0   \n",
       "3                           217096                               0   \n",
       "4                           220424                               0   \n",
       "..                             ...                             ...   \n",
       "85                          429332                               0   \n",
       "86                          322644                               0   \n",
       "87                          320196                               0   \n",
       "89                          315428                               0   \n",
       "90                          313108                               0   \n",
       "\n",
       "    RAM_runtime_memory_size_b_INT8_mltk tags           created_at  \\\n",
       "0                                 81636   []  2023-03-01T19:35:25   \n",
       "1                                 82660   []  2023-03-01T19:33:21   \n",
       "2                                 84708   []  2023-03-01T19:31:18   \n",
       "3                                 88804   []  2023-03-01T19:29:17   \n",
       "4                                 92160   []  2023-03-01T19:27:13   \n",
       "..                                  ...  ...                  ...   \n",
       "85                               125652   []  2023-02-05T21:01:06   \n",
       "86                               101956   []  2023-02-05T20:59:40   \n",
       "87                                99536   []  2023-02-05T20:58:11   \n",
       "89                                94696   []  2023-02-05T20:55:13   \n",
       "90                                92276   []  2023-02-05T20:53:36   \n",
       "\n",
       "                              path notes  test_accuracy  \n",
       "0   [susbrock, model_DB, f7cli26n]  None            0.0  \n",
       "1   [susbrock, model_DB, le3i8f7h]  None            0.0  \n",
       "2   [susbrock, model_DB, phil00x9]  None            0.0  \n",
       "3   [susbrock, model_DB, pksk1h3b]  None            0.0  \n",
       "4   [susbrock, model_DB, a2wlivv7]  None            0.0  \n",
       "..                             ...   ...            ...  \n",
       "85  [susbrock, model_DB, pnq7ad7c]  None            0.0  \n",
       "86  [susbrock, model_DB, i4nnlhl8]  None            0.0  \n",
       "87  [susbrock, model_DB, ylfo6y2p]  None            0.0  \n",
       "89  [susbrock, model_DB, b8s1tewx]  None            0.0  \n",
       "90  [susbrock, model_DB, ftt6trut]  None            0.0  \n",
       "\n",
       "[69 rows x 36 columns]"
      ]
     },
     "execution_count": 49,
     "metadata": {},
     "output_type": "execute_result"
    }
   ],
   "source": [
    "wandb_untrained_df = df[df[\"test_accuracy\"]<0.5]  #.test_accuracy==0].copy\n",
    "wandb_untrained_df"
   ]
  },
  {
   "cell_type": "code",
   "execution_count": 50,
   "metadata": {},
   "outputs": [
    {
     "data": {
      "text/plain": [
       "['mobilenetv2_0.2_96_c3_o2_t3l128.MV1',\n",
       " 'mobilenetv2_0.2_96_c3_o2_t3l256.MV1',\n",
       " 'mobilenetv2_0.2_96_c3_o2_t3l512.MV1',\n",
       " 'mobilenetv2_0.2_96_c3_o2_t3l1024.MV1',\n",
       " 'mobilenetv2_0.2_96_c3_o2_t4l1024.MV1',\n",
       " 'mobilenetv2_0.2_96_c3_o2_t4l512.MV1',\n",
       " 'mobilenetv2_0.2_96_c3_o2_t4l256.MV1',\n",
       " 'mobilenetv2_0.2_96_c3_o2_t4l128.MV1',\n",
       " 'mobilenetv2_0.25_96_c3_o2_t4l256.MV1',\n",
       " 'mobilenetv2_0.25_96_c3_o2_t4l512.MV1',\n",
       " 'mobilenetv2_0.25_96_c3_o2_t5l512.MV1',\n",
       " 'mobilenetv2_0.25_96_c3_o2_t5l256.MV1',\n",
       " 'mobilenetv2_0.25_96_c3_o2_t6l128.MV1',\n",
       " 'mobilenetv2_0.25_96_c3_o2_t6l256.MV1',\n",
       " 'mobilenetv2_0.2_96_c3_o2_t6l512.MV1',\n",
       " 'mobilenetv2_0.2_96_c3_o2_t5l128.MV1',\n",
       " 'mobilenetv2_0.2_96_c3_o2_t5l256.MV1',\n",
       " 'mobilenetv2_0.2_96_c3_o2_t5l512.MV1',\n",
       " 'mobilenetv2_0.2_96_c3_o2_t5l1024.MV1',\n",
       " 'mobilenetv2_0.2_96_c3_o2_t6l1024.MV1',\n",
       " 'mobilenetv2_0.1_96_c3_o2_t6l512.MV1',\n",
       " 'mobilenetv2_0.1_96_c3_o2_t6l256.MV1',\n",
       " 'mobilenetv2_0.1_96_c3_o2_t6l128.MV1',\n",
       " 'mobilenetv2_0.1_96_c3_o2_t3l1024.MV1',\n",
       " 'mobilenetv2_0.1_96_c3_o2_t4l1024.MV1',\n",
       " 'mobilenetv2_0.1_96_c3_o2_t5l1024.MV1',\n",
       " 'mobilenetv2_0.1_96_c3_o2_t6l1024.MV1',\n",
       " 'mobilenetv2_0.25_96_c3_o2_t1l1024.MV1',\n",
       " 'mobilenetv2_0.25_96_c3_o2_t2l1024.MV1',\n",
       " 'mobilenetv2_0.25_96_c3_o2_t3l1024.MV1',\n",
       " 'mobilenetv2_0.25_96_c3_o2_t6l1024.MV1',\n",
       " 'mobilenetv2_0.25_96_c3_o2_t6l1024.GAP',\n",
       " 'mobilenetv1_0.1_224_c3_o2_l5.GAP',\n",
       " 'mobilenetv1_0.1_224_c3_o2_l5.MV1',\n",
       " 'MobilenetV3small_1_96_c3_o3_keras',\n",
       " 'shufflenetv2tiny_0.05_96_c3_o2_f24l1024',\n",
       " 'shufflenetv2tiny_0.2_96_c3_o2_f24l1024',\n",
       " 'shufflenetv2tiny_0.35_96_c3_o2_f24l1024',\n",
       " 'shufflenetv2tiny_0.5_96_c3_o2_f24l1024',\n",
       " 'shufflenetv2_0.5_96_c3_o2_000',\n",
       " 'shufflenetv2_1_96_c3_o2_000',\n",
       " 'shufflenetv2_1_96_c3_o2_nosplit',\n",
       " 'mnasnet_1_96_c3_o2_keras',\n",
       " 'mobilenetv1vvw_0.25_96_c3_o2_vvw',\n",
       " 'mobilenetv2_0.1_96_c3_o2_l5',\n",
       " 'mobilenetv2_0.2_96_c3_o2_l5',\n",
       " 'mobilenetv2_0.5_96_c3_o2_l5',\n",
       " 'mobilenetv2_0.35_96_c3_o2_l5',\n",
       " 'mobilenetv2_0.25_96_c3_o2_l5',\n",
       " 'mobilenetv2_1_96_c3_o2_l5',\n",
       " 'mobilenetv2_1_96_c3_o2_keras',\n",
       " 'mobilenetv2_0.5_96_c3_o2_keras',\n",
       " 'mobilenetv2_0.35_96_c3_o2_keras',\n",
       " 'mobilenetv2_0.25_96_c3_o2_keras',\n",
       " 'mobilenetv1_1_96_c3_o2_l5',\n",
       " 'mobilenetv1_1_96_c3_o2_l4',\n",
       " 'mobilenetv1_1_96_c3_o2_l3',\n",
       " 'mobilenetv1_1_96_c3_o2_l2',\n",
       " 'mobilenetv1_1_96_c3_o2_l1',\n",
       " 'mobilenetv1_0.35_96_c3_o2_l5',\n",
       " 'mobilenetv1_0.35_96_c3_o2_l4',\n",
       " 'mobilenetv1_0.35_96_c3_o2_l3',\n",
       " 'mobilenetv1_0.35_96_c3_o2_l2',\n",
       " 'mobilenetv1_0.35_96_c3_o2_l1',\n",
       " 'mobilenetv1_0.25_96_c3_o2_l5',\n",
       " 'mobilenetv1_0.25_96_c3_o2_l4',\n",
       " 'mobilenetv1_0.25_96_c3_o2_l2',\n",
       " 'mobilenetv1_0.25_96_c3_o2_l1']"
      ]
     },
     "execution_count": 50,
     "metadata": {},
     "output_type": "execute_result"
    }
   ],
   "source": [
    "architectures = wandb_untrained_df[\"architecture\"].unique().tolist()\n",
    "architectures"
   ]
  },
  {
   "cell_type": "code",
   "execution_count": 34,
   "metadata": {},
   "outputs": [],
   "source": [
    "# training_csv_path = Path.cwd().joinpath(\"wand_training.csv\")\n",
    "# training_csv_path.is_file()"
   ]
  },
  {
   "cell_type": "code",
   "execution_count": 9,
   "metadata": {},
   "outputs": [],
   "source": [
    "# training_df = pd.read_csv(training_csv_path)\n",
    "# training_df.head()"
   ]
  },
  {
   "cell_type": "code",
   "execution_count": 51,
   "metadata": {},
   "outputs": [
    {
     "data": {
      "text/html": [
       "<div>\n",
       "<style scoped>\n",
       "    .dataframe tbody tr th:only-of-type {\n",
       "        vertical-align: middle;\n",
       "    }\n",
       "\n",
       "    .dataframe tbody tr th {\n",
       "        vertical-align: top;\n",
       "    }\n",
       "\n",
       "    .dataframe thead th {\n",
       "        text-align: right;\n",
       "    }\n",
       "</style>\n",
       "<table border=\"1\" class=\"dataframe\">\n",
       "  <thead>\n",
       "    <tr style=\"text-align: right;\">\n",
       "      <th></th>\n",
       "      <th>id</th>\n",
       "      <th>run_name</th>\n",
       "      <th>state</th>\n",
       "      <th>seed</th>\n",
       "      <th>url</th>\n",
       "      <th>architecture</th>\n",
       "      <th>epochs</th>\n",
       "      <th>classes</th>\n",
       "      <th>dataset</th>\n",
       "      <th>momentum</th>\n",
       "      <th>optimizer</th>\n",
       "      <th>batch_size</th>\n",
       "      <th>learn_rate</th>\n",
       "      <th>batch_norm_momentum</th>\n",
       "      <th>hostname</th>\n",
       "      <th>tags</th>\n",
       "      <th>created_at</th>\n",
       "      <th>path</th>\n",
       "      <th>notes</th>\n",
       "      <th>test_accuracy</th>\n",
       "    </tr>\n",
       "  </thead>\n",
       "  <tbody>\n",
       "    <tr>\n",
       "      <th>1</th>\n",
       "      <td>0400umu4</td>\n",
       "      <td>mobilenetv2_0.2_96_c3_o2_t4l256.MV1</td>\n",
       "      <td>finished</td>\n",
       "      <td>15</td>\n",
       "      <td>https://wandb.ai/susbrock/model_DB_visual_wake...</td>\n",
       "      <td>mobilenetv2_0.2_96_c3_o2_t4l256.MV1</td>\n",
       "      <td>50</td>\n",
       "      <td>2</td>\n",
       "      <td>vvw_minval_datagen_fix</td>\n",
       "      <td>0.9</td>\n",
       "      <td>Adam</td>\n",
       "      <td>50</td>\n",
       "      <td>0.001</td>\n",
       "      <td>0.9</td>\n",
       "      <td>NaN</td>\n",
       "      <td>[]</td>\n",
       "      <td>2023-03-01T18:27:15</td>\n",
       "      <td>[susbrock, model_DB_visual_wake_words, 0400umu4]</td>\n",
       "      <td>None</td>\n",
       "      <td>NaN</td>\n",
       "    </tr>\n",
       "    <tr>\n",
       "      <th>2</th>\n",
       "      <td>wh6k8s0w</td>\n",
       "      <td>mobilenetv2_0.2_96_c3_o2_t4l512.MV1</td>\n",
       "      <td>finished</td>\n",
       "      <td>15</td>\n",
       "      <td>https://wandb.ai/susbrock/model_DB_visual_wake...</td>\n",
       "      <td>mobilenetv2_0.2_96_c3_o2_t4l512.MV1</td>\n",
       "      <td>50</td>\n",
       "      <td>2</td>\n",
       "      <td>vvw_minval_datagen_fix</td>\n",
       "      <td>0.9</td>\n",
       "      <td>Adam</td>\n",
       "      <td>50</td>\n",
       "      <td>0.001</td>\n",
       "      <td>0.9</td>\n",
       "      <td>NaN</td>\n",
       "      <td>[]</td>\n",
       "      <td>2023-03-01T18:20:18</td>\n",
       "      <td>[susbrock, model_DB_visual_wake_words, wh6k8s0w]</td>\n",
       "      <td>None</td>\n",
       "      <td>NaN</td>\n",
       "    </tr>\n",
       "    <tr>\n",
       "      <th>3</th>\n",
       "      <td>bq8c0lhi</td>\n",
       "      <td>mobilenetv2_0.2_96_c3_o2_t4l512.MV1</td>\n",
       "      <td>finished</td>\n",
       "      <td>15</td>\n",
       "      <td>https://wandb.ai/susbrock/model_DB_visual_wake...</td>\n",
       "      <td>mobilenetv2_0.2_96_c3_o2_t4l512.MV1</td>\n",
       "      <td>50</td>\n",
       "      <td>2</td>\n",
       "      <td>vvw_minval_datagen_fix</td>\n",
       "      <td>0.9</td>\n",
       "      <td>Adam</td>\n",
       "      <td>50</td>\n",
       "      <td>0.001</td>\n",
       "      <td>0.9</td>\n",
       "      <td>NaN</td>\n",
       "      <td>[]</td>\n",
       "      <td>2023-03-01T18:13:08</td>\n",
       "      <td>[susbrock, model_DB_visual_wake_words, bq8c0lhi]</td>\n",
       "      <td>None</td>\n",
       "      <td>NaN</td>\n",
       "    </tr>\n",
       "    <tr>\n",
       "      <th>5</th>\n",
       "      <td>w4503fan</td>\n",
       "      <td>mobilenetv2_0.2_96_c3_o2_t5l1024.MV1</td>\n",
       "      <td>finished</td>\n",
       "      <td>15</td>\n",
       "      <td>https://wandb.ai/susbrock/model_DB_visual_wake...</td>\n",
       "      <td>mobilenetv2_0.2_96_c3_o2_t5l1024.MV1</td>\n",
       "      <td>50</td>\n",
       "      <td>2</td>\n",
       "      <td>vvw_minval_datagen_fix</td>\n",
       "      <td>0.9</td>\n",
       "      <td>Adam</td>\n",
       "      <td>50</td>\n",
       "      <td>0.001</td>\n",
       "      <td>0.9</td>\n",
       "      <td>HP-Omen</td>\n",
       "      <td>[]</td>\n",
       "      <td>2023-03-01T10:25:21</td>\n",
       "      <td>[susbrock, model_DB_visual_wake_words, w4503fan]</td>\n",
       "      <td>None</td>\n",
       "      <td>0.822311</td>\n",
       "    </tr>\n",
       "    <tr>\n",
       "      <th>6</th>\n",
       "      <td>v2os0h5r</td>\n",
       "      <td>mobilenetv2_0.2_96_c3_o2_t5l128.MV1</td>\n",
       "      <td>finished</td>\n",
       "      <td>15</td>\n",
       "      <td>https://wandb.ai/susbrock/model_DB_visual_wake...</td>\n",
       "      <td>mobilenetv2_0.2_96_c3_o2_t5l128.MV1</td>\n",
       "      <td>50</td>\n",
       "      <td>2</td>\n",
       "      <td>vvw_minval_datagen_fix</td>\n",
       "      <td>0.9</td>\n",
       "      <td>Adam</td>\n",
       "      <td>50</td>\n",
       "      <td>0.001</td>\n",
       "      <td>0.9</td>\n",
       "      <td>HP-Omen</td>\n",
       "      <td>[]</td>\n",
       "      <td>2023-03-01T06:04:26</td>\n",
       "      <td>[susbrock, model_DB_visual_wake_words, v2os0h5r]</td>\n",
       "      <td>None</td>\n",
       "      <td>0.817295</td>\n",
       "    </tr>\n",
       "  </tbody>\n",
       "</table>\n",
       "</div>"
      ],
      "text/plain": [
       "         id                              run_name     state  seed  \\\n",
       "1  0400umu4   mobilenetv2_0.2_96_c3_o2_t4l256.MV1  finished    15   \n",
       "2  wh6k8s0w   mobilenetv2_0.2_96_c3_o2_t4l512.MV1  finished    15   \n",
       "3  bq8c0lhi   mobilenetv2_0.2_96_c3_o2_t4l512.MV1  finished    15   \n",
       "5  w4503fan  mobilenetv2_0.2_96_c3_o2_t5l1024.MV1  finished    15   \n",
       "6  v2os0h5r   mobilenetv2_0.2_96_c3_o2_t5l128.MV1  finished    15   \n",
       "\n",
       "                                                 url  \\\n",
       "1  https://wandb.ai/susbrock/model_DB_visual_wake...   \n",
       "2  https://wandb.ai/susbrock/model_DB_visual_wake...   \n",
       "3  https://wandb.ai/susbrock/model_DB_visual_wake...   \n",
       "5  https://wandb.ai/susbrock/model_DB_visual_wake...   \n",
       "6  https://wandb.ai/susbrock/model_DB_visual_wake...   \n",
       "\n",
       "                           architecture  epochs  classes  \\\n",
       "1   mobilenetv2_0.2_96_c3_o2_t4l256.MV1      50        2   \n",
       "2   mobilenetv2_0.2_96_c3_o2_t4l512.MV1      50        2   \n",
       "3   mobilenetv2_0.2_96_c3_o2_t4l512.MV1      50        2   \n",
       "5  mobilenetv2_0.2_96_c3_o2_t5l1024.MV1      50        2   \n",
       "6   mobilenetv2_0.2_96_c3_o2_t5l128.MV1      50        2   \n",
       "\n",
       "                  dataset  momentum optimizer  batch_size  learn_rate  \\\n",
       "1  vvw_minval_datagen_fix       0.9      Adam          50       0.001   \n",
       "2  vvw_minval_datagen_fix       0.9      Adam          50       0.001   \n",
       "3  vvw_minval_datagen_fix       0.9      Adam          50       0.001   \n",
       "5  vvw_minval_datagen_fix       0.9      Adam          50       0.001   \n",
       "6  vvw_minval_datagen_fix       0.9      Adam          50       0.001   \n",
       "\n",
       "   batch_norm_momentum hostname tags           created_at  \\\n",
       "1                  0.9      NaN   []  2023-03-01T18:27:15   \n",
       "2                  0.9      NaN   []  2023-03-01T18:20:18   \n",
       "3                  0.9      NaN   []  2023-03-01T18:13:08   \n",
       "5                  0.9  HP-Omen   []  2023-03-01T10:25:21   \n",
       "6                  0.9  HP-Omen   []  2023-03-01T06:04:26   \n",
       "\n",
       "                                               path notes  test_accuracy  \n",
       "1  [susbrock, model_DB_visual_wake_words, 0400umu4]  None            NaN  \n",
       "2  [susbrock, model_DB_visual_wake_words, wh6k8s0w]  None            NaN  \n",
       "3  [susbrock, model_DB_visual_wake_words, bq8c0lhi]  None            NaN  \n",
       "5  [susbrock, model_DB_visual_wake_words, w4503fan]  None       0.822311  \n",
       "6  [susbrock, model_DB_visual_wake_words, v2os0h5r]  None       0.817295  "
      ]
     },
     "execution_count": 51,
     "metadata": {},
     "output_type": "execute_result"
    }
   ],
   "source": [
    "training_df = training_df[training_df.state == \"finished\"]\n",
    "training_df.head()"
   ]
  },
  {
   "cell_type": "code",
   "execution_count": 9,
   "metadata": {},
   "outputs": [],
   "source": [
    "#architecture = \"shufflenetv1_0.2_96_c3_o2_g4\""
   ]
  },
  {
   "cell_type": "code",
   "execution_count": 10,
   "metadata": {},
   "outputs": [
    {
     "name": "stdout",
     "output_type": "stream",
     "text": [
      "0.8220377564430237\n",
      "0.4569195806980133\n"
     ]
    }
   ],
   "source": [
    "# test_accuracy = training_df.query(f\"architecture=='{architecture}'\")[\"test_accuracy\"].values[0]\n",
    "# test_loss = training_df.query(f\"architecture=='{architecture}'\")[\"test_loss\"].values[0]\n",
    "# print(test_accuracy) \n",
    "# print(test_loss)"
   ]
  },
  {
   "cell_type": "code",
   "execution_count": 12,
   "metadata": {},
   "outputs": [],
   "source": [
    "# architectures =[\"shufflenetv2tiny_0.25_96_c3_o2_f24l512\",\n",
    "# \"shufflenetv2tiny_0.25_96_c3_o2_f24l512\",\n",
    "# \"shufflenetv2tiny_0.25_96_c3_o2_f24l128\",\n",
    "# \"shufflenetv2tiny_0.25_96_c3_o2_f24l1024\",\n",
    "# \"shufflenetv2tiny_0.1_96_c3_o2_f24l128\",\n",
    "# \"shufflenetv2tiny_0.1_96_c3_o2_f24l1024\",\n",
    "# \"shufflenetv2tiny_0.05_96_c3_o2_f24l128\",\n",
    "# \"shufflenetv2tiny_0.05_96_c3_o2_f24l128\"]\n"
   ]
  },
  {
   "cell_type": "code",
   "execution_count": 54,
   "metadata": {},
   "outputs": [
    {
     "name": "stdout",
     "output_type": "stream",
     "text": [
      "f7cli26n\n"
     ]
    },
    {
     "name": "stderr",
     "output_type": "stream",
     "text": [
      "Failed to detect the name of this notebook, you can set it manually with the WANDB_NOTEBOOK_NAME environment variable to enable code saving.\n",
      "\u001b[34m\u001b[1mwandb\u001b[0m: Currently logged in as: \u001b[33msusbrock\u001b[0m. Use \u001b[1m`wandb login --relogin`\u001b[0m to force relogin\n"
     ]
    },
    {
     "data": {
      "text/html": [
       "wandb version 0.13.10 is available!  To upgrade, please run:\n",
       " $ pip install wandb --upgrade"
      ],
      "text/plain": [
       "<IPython.core.display.HTML object>"
      ]
     },
     "metadata": {},
     "output_type": "display_data"
    },
    {
     "data": {
      "text/html": [
       "Tracking run with wandb version 0.13.9"
      ],
      "text/plain": [
       "<IPython.core.display.HTML object>"
      ]
     },
     "metadata": {},
     "output_type": "display_data"
    },
    {
     "data": {
      "text/html": [
       "Run data is saved locally in <code>i:\\tinyml\\tiny_cnn\\wandb\\run-20230301_205403-f7cli26n</code>"
      ],
      "text/plain": [
       "<IPython.core.display.HTML object>"
      ]
     },
     "metadata": {},
     "output_type": "display_data"
    },
    {
     "data": {
      "text/html": [
       "Resuming run <strong><a href=\"https://wandb.ai/susbrock/model_DB/runs/f7cli26n\" target=\"_blank\">mobilenetv2_0.2_96_c3_o2_t3l128.MV1</a></strong> to <a href=\"https://wandb.ai/susbrock/model_DB\" target=\"_blank\">Weights & Biases</a> (<a href=\"https://wandb.me/run\" target=\"_blank\">docs</a>)<br/>"
      ],
      "text/plain": [
       "<IPython.core.display.HTML object>"
      ]
     },
     "metadata": {},
     "output_type": "display_data"
    },
    {
     "data": {
      "text/html": [
       " View project at <a href=\"https://wandb.ai/susbrock/model_DB\" target=\"_blank\">https://wandb.ai/susbrock/model_DB</a>"
      ],
      "text/plain": [
       "<IPython.core.display.HTML object>"
      ]
     },
     "metadata": {},
     "output_type": "display_data"
    },
    {
     "data": {
      "text/html": [
       " View run at <a href=\"https://wandb.ai/susbrock/model_DB/runs/f7cli26n\" target=\"_blank\">https://wandb.ai/susbrock/model_DB/runs/f7cli26n</a>"
      ],
      "text/plain": [
       "<IPython.core.display.HTML object>"
      ]
     },
     "metadata": {},
     "output_type": "display_data"
    },
    {
     "name": "stdout",
     "output_type": "stream",
     "text": [
      "mobilenetv2_0.2_96_c3_o2_t3l128.MV1 has no run_id\n",
      "le3i8f7h\n"
     ]
    },
    {
     "data": {
      "text/html": [
       "Finishing last run (ID:f7cli26n) before initializing another..."
      ],
      "text/plain": [
       "<IPython.core.display.HTML object>"
      ]
     },
     "metadata": {},
     "output_type": "display_data"
    },
    {
     "data": {
      "text/html": [
       "Waiting for W&B process to finish... <strong style=\"color:green\">(success).</strong>"
      ],
      "text/plain": [
       "<IPython.core.display.HTML object>"
      ]
     },
     "metadata": {},
     "output_type": "display_data"
    },
    {
     "data": {
      "text/html": [
       "<style>\n",
       "    table.wandb td:nth-child(1) { padding: 0 10px; text-align: left ; width: auto;} td:nth-child(2) {text-align: left ; width: 100%}\n",
       "    .wandb-row { display: flex; flex-direction: row; flex-wrap: wrap; justify-content: flex-start; width: 100% }\n",
       "    .wandb-col { display: flex; flex-direction: column; flex-basis: 100%; flex: 1; padding: 10px; }\n",
       "    </style>\n",
       "<div class=\"wandb-row\"><div class=\"wandb-col\"><h3>Run summary:</h3><br/><table class=\"wandb\"><tr><td>allocate_tensors_ms_%</td><td>0.509</td></tr><tr><td>allocate_tensors_ms_avg</td><td>0.039</td></tr><tr><td>allocate_tensors_ms_first</td><td>0.039</td></tr><tr><td>arena_size</td><td>223712</td></tr><tr><td>first_inference_us</td><td>4502</td></tr><tr><td>inference_avg_us</td><td>543.907</td></tr><tr><td>init_us</td><td>148320</td></tr><tr><td>initialization_ms</td><td>148.32</td></tr><tr><td>model_size_MB</td><td>0.13398</td></tr><tr><td>modify_graph_with_delegate_mem_KB</td><td>892</td></tr><tr><td>modify_graph_with_delegate_ms_%</td><td>99.491</td></tr><tr><td>modify_graph_with_delegate_ms_avg</td><td>7.629</td></tr><tr><td>modify_graph_with_delegate_ms_first</td><td>7.629</td></tr><tr><td>warmup_avg_us</td><td>483.803</td></tr></table><br/></div></div>"
      ],
      "text/plain": [
       "<IPython.core.display.HTML object>"
      ]
     },
     "metadata": {},
     "output_type": "display_data"
    },
    {
     "data": {
      "text/html": [
       " View run <strong style=\"color:#cdcd00\">mobilenetv2_0.2_96_c3_o2_t3l128.MV1</strong> at: <a href=\"https://wandb.ai/susbrock/model_DB/runs/f7cli26n\" target=\"_blank\">https://wandb.ai/susbrock/model_DB/runs/f7cli26n</a><br/>Synced 3 W&B file(s), 0 media file(s), 0 artifact file(s) and 1 other file(s)"
      ],
      "text/plain": [
       "<IPython.core.display.HTML object>"
      ]
     },
     "metadata": {},
     "output_type": "display_data"
    },
    {
     "data": {
      "text/html": [
       "Find logs at: <code>.\\wandb\\run-20230301_205403-f7cli26n\\logs</code>"
      ],
      "text/plain": [
       "<IPython.core.display.HTML object>"
      ]
     },
     "metadata": {},
     "output_type": "display_data"
    },
    {
     "data": {
      "text/html": [
       "Successfully finished last run (ID:f7cli26n). Initializing new run:<br/>"
      ],
      "text/plain": [
       "<IPython.core.display.HTML object>"
      ]
     },
     "metadata": {},
     "output_type": "display_data"
    },
    {
     "data": {
      "application/vnd.jupyter.widget-view+json": {
       "model_id": "47f83dc9b3f646029952d5ab8dbba242",
       "version_major": 2,
       "version_minor": 0
      },
      "text/plain": [
       "VBox(children=(Label(value='Waiting for wandb.init()...\\r'), FloatProgress(value=0.016666666666666666, max=1.0…"
      ]
     },
     "metadata": {},
     "output_type": "display_data"
    },
    {
     "data": {
      "text/html": [
       "wandb version 0.13.10 is available!  To upgrade, please run:\n",
       " $ pip install wandb --upgrade"
      ],
      "text/plain": [
       "<IPython.core.display.HTML object>"
      ]
     },
     "metadata": {},
     "output_type": "display_data"
    },
    {
     "data": {
      "text/html": [
       "Tracking run with wandb version 0.13.9"
      ],
      "text/plain": [
       "<IPython.core.display.HTML object>"
      ]
     },
     "metadata": {},
     "output_type": "display_data"
    },
    {
     "data": {
      "text/html": [
       "Run data is saved locally in <code>i:\\tinyml\\tiny_cnn\\wandb\\run-20230301_205406-le3i8f7h</code>"
      ],
      "text/plain": [
       "<IPython.core.display.HTML object>"
      ]
     },
     "metadata": {},
     "output_type": "display_data"
    },
    {
     "data": {
      "text/html": [
       "Resuming run <strong><a href=\"https://wandb.ai/susbrock/model_DB/runs/le3i8f7h\" target=\"_blank\">mobilenetv2_0.2_96_c3_o2_t3l256.MV1</a></strong> to <a href=\"https://wandb.ai/susbrock/model_DB\" target=\"_blank\">Weights & Biases</a> (<a href=\"https://wandb.me/run\" target=\"_blank\">docs</a>)<br/>"
      ],
      "text/plain": [
       "<IPython.core.display.HTML object>"
      ]
     },
     "metadata": {},
     "output_type": "display_data"
    },
    {
     "data": {
      "text/html": [
       " View project at <a href=\"https://wandb.ai/susbrock/model_DB\" target=\"_blank\">https://wandb.ai/susbrock/model_DB</a>"
      ],
      "text/plain": [
       "<IPython.core.display.HTML object>"
      ]
     },
     "metadata": {},
     "output_type": "display_data"
    },
    {
     "data": {
      "text/html": [
       " View run at <a href=\"https://wandb.ai/susbrock/model_DB/runs/le3i8f7h\" target=\"_blank\">https://wandb.ai/susbrock/model_DB/runs/le3i8f7h</a>"
      ],
      "text/plain": [
       "<IPython.core.display.HTML object>"
      ]
     },
     "metadata": {},
     "output_type": "display_data"
    },
    {
     "name": "stdout",
     "output_type": "stream",
     "text": [
      "mobilenetv2_0.2_96_c3_o2_t3l256.MV1 has no run_id\n",
      "phil00x9\n"
     ]
    },
    {
     "data": {
      "text/html": [
       "Finishing last run (ID:le3i8f7h) before initializing another..."
      ],
      "text/plain": [
       "<IPython.core.display.HTML object>"
      ]
     },
     "metadata": {},
     "output_type": "display_data"
    },
    {
     "data": {
      "text/html": [
       "Waiting for W&B process to finish... <strong style=\"color:green\">(success).</strong>"
      ],
      "text/plain": [
       "<IPython.core.display.HTML object>"
      ]
     },
     "metadata": {},
     "output_type": "display_data"
    },
    {
     "data": {
      "application/vnd.jupyter.widget-view+json": {
       "model_id": "3073018ccea34c14b44820d9cce98f04",
       "version_major": 2,
       "version_minor": 0
      },
      "text/plain": [
       "VBox(children=(Label(value='0.000 MB of 0.002 MB uploaded (0.000 MB deduped)\\r'), FloatProgress(value=0.0, max…"
      ]
     },
     "metadata": {},
     "output_type": "display_data"
    },
    {
     "data": {
      "text/html": [
       "<style>\n",
       "    table.wandb td:nth-child(1) { padding: 0 10px; text-align: left ; width: auto;} td:nth-child(2) {text-align: left ; width: 100%}\n",
       "    .wandb-row { display: flex; flex-direction: row; flex-wrap: wrap; justify-content: flex-start; width: 100% }\n",
       "    .wandb-col { display: flex; flex-direction: column; flex-basis: 100%; flex: 1; padding: 10px; }\n",
       "    </style>\n",
       "<div class=\"wandb-row\"><div class=\"wandb-col\"><h3>Run summary:</h3><br/><table class=\"wandb\"><tr><td>allocate_tensors_ms_%</td><td>0.575</td></tr><tr><td>allocate_tensors_ms_avg</td><td>0.053</td></tr><tr><td>allocate_tensors_ms_first</td><td>0.053</td></tr><tr><td>arena_size</td><td>224736</td></tr><tr><td>first_inference_us</td><td>3931</td></tr><tr><td>inference_avg_us</td><td>484.571</td></tr><tr><td>init_us</td><td>145150</td></tr><tr><td>initialization_ms</td><td>145.15</td></tr><tr><td>model_size_MB</td><td>0.14602</td></tr><tr><td>modify_graph_with_delegate_mem_KB</td><td>948</td></tr><tr><td>modify_graph_with_delegate_ms_%</td><td>99.425</td></tr><tr><td>modify_graph_with_delegate_ms_avg</td><td>9.167</td></tr><tr><td>modify_graph_with_delegate_ms_first</td><td>9.167</td></tr><tr><td>warmup_avg_us</td><td>471.383</td></tr></table><br/></div></div>"
      ],
      "text/plain": [
       "<IPython.core.display.HTML object>"
      ]
     },
     "metadata": {},
     "output_type": "display_data"
    },
    {
     "data": {
      "text/html": [
       " View run <strong style=\"color:#cdcd00\">mobilenetv2_0.2_96_c3_o2_t3l256.MV1</strong> at: <a href=\"https://wandb.ai/susbrock/model_DB/runs/le3i8f7h\" target=\"_blank\">https://wandb.ai/susbrock/model_DB/runs/le3i8f7h</a><br/>Synced 3 W&B file(s), 0 media file(s), 0 artifact file(s) and 0 other file(s)"
      ],
      "text/plain": [
       "<IPython.core.display.HTML object>"
      ]
     },
     "metadata": {},
     "output_type": "display_data"
    },
    {
     "data": {
      "text/html": [
       "Find logs at: <code>.\\wandb\\run-20230301_205406-le3i8f7h\\logs</code>"
      ],
      "text/plain": [
       "<IPython.core.display.HTML object>"
      ]
     },
     "metadata": {},
     "output_type": "display_data"
    },
    {
     "data": {
      "text/html": [
       "Successfully finished last run (ID:le3i8f7h). Initializing new run:<br/>"
      ],
      "text/plain": [
       "<IPython.core.display.HTML object>"
      ]
     },
     "metadata": {},
     "output_type": "display_data"
    },
    {
     "data": {
      "application/vnd.jupyter.widget-view+json": {
       "model_id": "b252d159ecf14db58f4227309fc4afb2",
       "version_major": 2,
       "version_minor": 0
      },
      "text/plain": [
       "VBox(children=(Label(value='Waiting for wandb.init()...\\r'), FloatProgress(value=0.016666666666666666, max=1.0…"
      ]
     },
     "metadata": {},
     "output_type": "display_data"
    },
    {
     "data": {
      "text/html": [
       "wandb version 0.13.10 is available!  To upgrade, please run:\n",
       " $ pip install wandb --upgrade"
      ],
      "text/plain": [
       "<IPython.core.display.HTML object>"
      ]
     },
     "metadata": {},
     "output_type": "display_data"
    },
    {
     "data": {
      "text/html": [
       "Tracking run with wandb version 0.13.9"
      ],
      "text/plain": [
       "<IPython.core.display.HTML object>"
      ]
     },
     "metadata": {},
     "output_type": "display_data"
    },
    {
     "data": {
      "text/html": [
       "Run data is saved locally in <code>i:\\tinyml\\tiny_cnn\\wandb\\run-20230301_205415-phil00x9</code>"
      ],
      "text/plain": [
       "<IPython.core.display.HTML object>"
      ]
     },
     "metadata": {},
     "output_type": "display_data"
    },
    {
     "data": {
      "text/html": [
       "Resuming run <strong><a href=\"https://wandb.ai/susbrock/model_DB/runs/phil00x9\" target=\"_blank\">mobilenetv2_0.2_96_c3_o2_t3l512.MV1</a></strong> to <a href=\"https://wandb.ai/susbrock/model_DB\" target=\"_blank\">Weights & Biases</a> (<a href=\"https://wandb.me/run\" target=\"_blank\">docs</a>)<br/>"
      ],
      "text/plain": [
       "<IPython.core.display.HTML object>"
      ]
     },
     "metadata": {},
     "output_type": "display_data"
    },
    {
     "data": {
      "text/html": [
       " View project at <a href=\"https://wandb.ai/susbrock/model_DB\" target=\"_blank\">https://wandb.ai/susbrock/model_DB</a>"
      ],
      "text/plain": [
       "<IPython.core.display.HTML object>"
      ]
     },
     "metadata": {},
     "output_type": "display_data"
    },
    {
     "data": {
      "text/html": [
       " View run at <a href=\"https://wandb.ai/susbrock/model_DB/runs/phil00x9\" target=\"_blank\">https://wandb.ai/susbrock/model_DB/runs/phil00x9</a>"
      ],
      "text/plain": [
       "<IPython.core.display.HTML object>"
      ]
     },
     "metadata": {},
     "output_type": "display_data"
    },
    {
     "name": "stdout",
     "output_type": "stream",
     "text": [
      "mobilenetv2_0.2_96_c3_o2_t3l512.MV1 has no run_id\n",
      "pksk1h3b\n"
     ]
    },
    {
     "data": {
      "text/html": [
       "Finishing last run (ID:phil00x9) before initializing another..."
      ],
      "text/plain": [
       "<IPython.core.display.HTML object>"
      ]
     },
     "metadata": {},
     "output_type": "display_data"
    },
    {
     "data": {
      "text/html": [
       "Waiting for W&B process to finish... <strong style=\"color:green\">(success).</strong>"
      ],
      "text/plain": [
       "<IPython.core.display.HTML object>"
      ]
     },
     "metadata": {},
     "output_type": "display_data"
    },
    {
     "data": {
      "application/vnd.jupyter.widget-view+json": {
       "model_id": "ef151bf11f5b48f2902a150373cbfe83",
       "version_major": 2,
       "version_minor": 0
      },
      "text/plain": [
       "VBox(children=(Label(value='0.000 MB of 0.008 MB uploaded (0.000 MB deduped)\\r'), FloatProgress(value=0.0, max…"
      ]
     },
     "metadata": {},
     "output_type": "display_data"
    },
    {
     "data": {
      "text/html": [
       "<style>\n",
       "    table.wandb td:nth-child(1) { padding: 0 10px; text-align: left ; width: auto;} td:nth-child(2) {text-align: left ; width: 100%}\n",
       "    .wandb-row { display: flex; flex-direction: row; flex-wrap: wrap; justify-content: flex-start; width: 100% }\n",
       "    .wandb-col { display: flex; flex-direction: column; flex-basis: 100%; flex: 1; padding: 10px; }\n",
       "    </style>\n",
       "<div class=\"wandb-row\"><div class=\"wandb-col\"><h3>Run summary:</h3><br/><table class=\"wandb\"><tr><td>allocate_tensors_ms_%</td><td>0.543</td></tr><tr><td>allocate_tensors_ms_avg</td><td>0.038</td></tr><tr><td>allocate_tensors_ms_first</td><td>0.038</td></tr><tr><td>arena_size</td><td>226784</td></tr><tr><td>first_inference_us</td><td>4053</td></tr><tr><td>inference_avg_us</td><td>515.352</td></tr><tr><td>init_us</td><td>160908</td></tr><tr><td>initialization_ms</td><td>160.908</td></tr><tr><td>model_size_MB</td><td>0.17008</td></tr><tr><td>modify_graph_with_delegate_mem_KB</td><td>1068</td></tr><tr><td>modify_graph_with_delegate_ms_%</td><td>99.457</td></tr><tr><td>modify_graph_with_delegate_ms_avg</td><td>6.966</td></tr><tr><td>modify_graph_with_delegate_ms_first</td><td>6.966</td></tr><tr><td>warmup_avg_us</td><td>585.005</td></tr></table><br/></div></div>"
      ],
      "text/plain": [
       "<IPython.core.display.HTML object>"
      ]
     },
     "metadata": {},
     "output_type": "display_data"
    },
    {
     "data": {
      "text/html": [
       " View run <strong style=\"color:#cdcd00\">mobilenetv2_0.2_96_c3_o2_t3l512.MV1</strong> at: <a href=\"https://wandb.ai/susbrock/model_DB/runs/phil00x9\" target=\"_blank\">https://wandb.ai/susbrock/model_DB/runs/phil00x9</a><br/>Synced 3 W&B file(s), 0 media file(s), 0 artifact file(s) and 1 other file(s)"
      ],
      "text/plain": [
       "<IPython.core.display.HTML object>"
      ]
     },
     "metadata": {},
     "output_type": "display_data"
    },
    {
     "data": {
      "text/html": [
       "Find logs at: <code>.\\wandb\\run-20230301_205415-phil00x9\\logs</code>"
      ],
      "text/plain": [
       "<IPython.core.display.HTML object>"
      ]
     },
     "metadata": {},
     "output_type": "display_data"
    },
    {
     "data": {
      "text/html": [
       "Successfully finished last run (ID:phil00x9). Initializing new run:<br/>"
      ],
      "text/plain": [
       "<IPython.core.display.HTML object>"
      ]
     },
     "metadata": {},
     "output_type": "display_data"
    },
    {
     "data": {
      "application/vnd.jupyter.widget-view+json": {
       "model_id": "e105dce1e8ce492f97b0f35c1185dec1",
       "version_major": 2,
       "version_minor": 0
      },
      "text/plain": [
       "VBox(children=(Label(value='Waiting for wandb.init()...\\r'), FloatProgress(value=0.016666666666666666, max=1.0…"
      ]
     },
     "metadata": {},
     "output_type": "display_data"
    },
    {
     "data": {
      "text/html": [
       "wandb version 0.13.10 is available!  To upgrade, please run:\n",
       " $ pip install wandb --upgrade"
      ],
      "text/plain": [
       "<IPython.core.display.HTML object>"
      ]
     },
     "metadata": {},
     "output_type": "display_data"
    },
    {
     "data": {
      "text/html": [
       "Tracking run with wandb version 0.13.9"
      ],
      "text/plain": [
       "<IPython.core.display.HTML object>"
      ]
     },
     "metadata": {},
     "output_type": "display_data"
    },
    {
     "data": {
      "text/html": [
       "Run data is saved locally in <code>i:\\tinyml\\tiny_cnn\\wandb\\run-20230301_205422-pksk1h3b</code>"
      ],
      "text/plain": [
       "<IPython.core.display.HTML object>"
      ]
     },
     "metadata": {},
     "output_type": "display_data"
    },
    {
     "data": {
      "text/html": [
       "Resuming run <strong><a href=\"https://wandb.ai/susbrock/model_DB/runs/pksk1h3b\" target=\"_blank\">mobilenetv2_0.2_96_c3_o2_t3l1024.MV1</a></strong> to <a href=\"https://wandb.ai/susbrock/model_DB\" target=\"_blank\">Weights & Biases</a> (<a href=\"https://wandb.me/run\" target=\"_blank\">docs</a>)<br/>"
      ],
      "text/plain": [
       "<IPython.core.display.HTML object>"
      ]
     },
     "metadata": {},
     "output_type": "display_data"
    },
    {
     "data": {
      "text/html": [
       " View project at <a href=\"https://wandb.ai/susbrock/model_DB\" target=\"_blank\">https://wandb.ai/susbrock/model_DB</a>"
      ],
      "text/plain": [
       "<IPython.core.display.HTML object>"
      ]
     },
     "metadata": {},
     "output_type": "display_data"
    },
    {
     "data": {
      "text/html": [
       " View run at <a href=\"https://wandb.ai/susbrock/model_DB/runs/pksk1h3b\" target=\"_blank\">https://wandb.ai/susbrock/model_DB/runs/pksk1h3b</a>"
      ],
      "text/plain": [
       "<IPython.core.display.HTML object>"
      ]
     },
     "metadata": {},
     "output_type": "display_data"
    },
    {
     "name": "stdout",
     "output_type": "stream",
     "text": [
      "mobilenetv2_0.2_96_c3_o2_t3l1024.MV1 has no run_id\n",
      "a2wlivv7\n"
     ]
    },
    {
     "data": {
      "text/html": [
       "Finishing last run (ID:pksk1h3b) before initializing another..."
      ],
      "text/plain": [
       "<IPython.core.display.HTML object>"
      ]
     },
     "metadata": {},
     "output_type": "display_data"
    },
    {
     "data": {
      "text/html": [
       "Waiting for W&B process to finish... <strong style=\"color:green\">(success).</strong>"
      ],
      "text/plain": [
       "<IPython.core.display.HTML object>"
      ]
     },
     "metadata": {},
     "output_type": "display_data"
    },
    {
     "data": {
      "application/vnd.jupyter.widget-view+json": {
       "model_id": "5d7228cad2b94574804f0a1467770b02",
       "version_major": 2,
       "version_minor": 0
      },
      "text/plain": [
       "VBox(children=(Label(value='0.000 MB of 0.002 MB uploaded (0.000 MB deduped)\\r'), FloatProgress(value=0.0, max…"
      ]
     },
     "metadata": {},
     "output_type": "display_data"
    },
    {
     "data": {
      "text/html": [
       "<style>\n",
       "    table.wandb td:nth-child(1) { padding: 0 10px; text-align: left ; width: auto;} td:nth-child(2) {text-align: left ; width: 100%}\n",
       "    .wandb-row { display: flex; flex-direction: row; flex-wrap: wrap; justify-content: flex-start; width: 100% }\n",
       "    .wandb-col { display: flex; flex-direction: column; flex-basis: 100%; flex: 1; padding: 10px; }\n",
       "    </style>\n",
       "<div class=\"wandb-row\"><div class=\"wandb-col\"><h3>Run summary:</h3><br/><table class=\"wandb\"><tr><td>allocate_tensors_ms_%</td><td>0.56</td></tr><tr><td>allocate_tensors_ms_avg</td><td>0.042</td></tr><tr><td>allocate_tensors_ms_first</td><td>0.042</td></tr><tr><td>arena_size</td><td>230880</td></tr><tr><td>first_inference_us</td><td>4329</td></tr><tr><td>inference_avg_us</td><td>490.11</td></tr><tr><td>init_us</td><td>144404</td></tr><tr><td>initialization_ms</td><td>144.404</td></tr><tr><td>model_size_MB</td><td>0.21821</td></tr><tr><td>modify_graph_with_delegate_mem_KB</td><td>1100</td></tr><tr><td>modify_graph_with_delegate_ms_%</td><td>99.44</td></tr><tr><td>modify_graph_with_delegate_ms_avg</td><td>7.46</td></tr><tr><td>modify_graph_with_delegate_ms_first</td><td>7.46</td></tr><tr><td>warmup_avg_us</td><td>503.464</td></tr></table><br/></div></div>"
      ],
      "text/plain": [
       "<IPython.core.display.HTML object>"
      ]
     },
     "metadata": {},
     "output_type": "display_data"
    },
    {
     "data": {
      "text/html": [
       " View run <strong style=\"color:#cdcd00\">mobilenetv2_0.2_96_c3_o2_t3l1024.MV1</strong> at: <a href=\"https://wandb.ai/susbrock/model_DB/runs/pksk1h3b\" target=\"_blank\">https://wandb.ai/susbrock/model_DB/runs/pksk1h3b</a><br/>Synced 3 W&B file(s), 0 media file(s), 0 artifact file(s) and 0 other file(s)"
      ],
      "text/plain": [
       "<IPython.core.display.HTML object>"
      ]
     },
     "metadata": {},
     "output_type": "display_data"
    },
    {
     "data": {
      "text/html": [
       "Find logs at: <code>.\\wandb\\run-20230301_205422-pksk1h3b\\logs</code>"
      ],
      "text/plain": [
       "<IPython.core.display.HTML object>"
      ]
     },
     "metadata": {},
     "output_type": "display_data"
    },
    {
     "data": {
      "text/html": [
       "Successfully finished last run (ID:pksk1h3b). Initializing new run:<br/>"
      ],
      "text/plain": [
       "<IPython.core.display.HTML object>"
      ]
     },
     "metadata": {},
     "output_type": "display_data"
    },
    {
     "data": {
      "application/vnd.jupyter.widget-view+json": {
       "model_id": "11e0069001de429ab7b2d8743c9a0dde",
       "version_major": 2,
       "version_minor": 0
      },
      "text/plain": [
       "VBox(children=(Label(value='Waiting for wandb.init()...\\r'), FloatProgress(value=0.016916666666664543, max=1.0…"
      ]
     },
     "metadata": {},
     "output_type": "display_data"
    },
    {
     "data": {
      "text/html": [
       "wandb version 0.13.10 is available!  To upgrade, please run:\n",
       " $ pip install wandb --upgrade"
      ],
      "text/plain": [
       "<IPython.core.display.HTML object>"
      ]
     },
     "metadata": {},
     "output_type": "display_data"
    },
    {
     "data": {
      "text/html": [
       "Tracking run with wandb version 0.13.9"
      ],
      "text/plain": [
       "<IPython.core.display.HTML object>"
      ]
     },
     "metadata": {},
     "output_type": "display_data"
    },
    {
     "data": {
      "text/html": [
       "Run data is saved locally in <code>i:\\tinyml\\tiny_cnn\\wandb\\run-20230301_205430-a2wlivv7</code>"
      ],
      "text/plain": [
       "<IPython.core.display.HTML object>"
      ]
     },
     "metadata": {},
     "output_type": "display_data"
    },
    {
     "data": {
      "text/html": [
       "Resuming run <strong><a href=\"https://wandb.ai/susbrock/model_DB/runs/a2wlivv7\" target=\"_blank\">mobilenetv2_0.2_96_c3_o2_t4l1024.MV1</a></strong> to <a href=\"https://wandb.ai/susbrock/model_DB\" target=\"_blank\">Weights & Biases</a> (<a href=\"https://wandb.me/run\" target=\"_blank\">docs</a>)<br/>"
      ],
      "text/plain": [
       "<IPython.core.display.HTML object>"
      ]
     },
     "metadata": {},
     "output_type": "display_data"
    },
    {
     "data": {
      "text/html": [
       " View project at <a href=\"https://wandb.ai/susbrock/model_DB\" target=\"_blank\">https://wandb.ai/susbrock/model_DB</a>"
      ],
      "text/plain": [
       "<IPython.core.display.HTML object>"
      ]
     },
     "metadata": {},
     "output_type": "display_data"
    },
    {
     "data": {
      "text/html": [
       " View run at <a href=\"https://wandb.ai/susbrock/model_DB/runs/a2wlivv7\" target=\"_blank\">https://wandb.ai/susbrock/model_DB/runs/a2wlivv7</a>"
      ],
      "text/plain": [
       "<IPython.core.display.HTML object>"
      ]
     },
     "metadata": {},
     "output_type": "display_data"
    },
    {
     "name": "stdout",
     "output_type": "stream",
     "text": [
      "mobilenetv2_0.2_96_c3_o2_t4l1024.MV1 has no run_id\n",
      "d9kj05u8\n"
     ]
    },
    {
     "data": {
      "text/html": [
       "Finishing last run (ID:a2wlivv7) before initializing another..."
      ],
      "text/plain": [
       "<IPython.core.display.HTML object>"
      ]
     },
     "metadata": {},
     "output_type": "display_data"
    },
    {
     "data": {
      "text/html": [
       "Waiting for W&B process to finish... <strong style=\"color:green\">(success).</strong>"
      ],
      "text/plain": [
       "<IPython.core.display.HTML object>"
      ]
     },
     "metadata": {},
     "output_type": "display_data"
    },
    {
     "data": {
      "application/vnd.jupyter.widget-view+json": {
       "model_id": "56c57d3842a94dc6af321d579c4b31ba",
       "version_major": 2,
       "version_minor": 0
      },
      "text/plain": [
       "VBox(children=(Label(value='0.000 MB of 0.008 MB uploaded (0.000 MB deduped)\\r'), FloatProgress(value=0.0, max…"
      ]
     },
     "metadata": {},
     "output_type": "display_data"
    },
    {
     "data": {
      "text/html": [
       "<style>\n",
       "    table.wandb td:nth-child(1) { padding: 0 10px; text-align: left ; width: auto;} td:nth-child(2) {text-align: left ; width: 100%}\n",
       "    .wandb-row { display: flex; flex-direction: row; flex-wrap: wrap; justify-content: flex-start; width: 100% }\n",
       "    .wandb-col { display: flex; flex-direction: column; flex-basis: 100%; flex: 1; padding: 10px; }\n",
       "    </style>\n",
       "<div class=\"wandb-row\"><div class=\"wandb-col\"><h3>Run summary:</h3><br/><table class=\"wandb\"><tr><td>allocate_tensors_ms_%</td><td>0.517</td></tr><tr><td>allocate_tensors_ms_avg</td><td>0.049</td></tr><tr><td>allocate_tensors_ms_first</td><td>0.049</td></tr><tr><td>arena_size</td><td>234272</td></tr><tr><td>first_inference_us</td><td>5171</td></tr><tr><td>inference_avg_us</td><td>614.349</td></tr><tr><td>init_us</td><td>163864</td></tr><tr><td>initialization_ms</td><td>163.864</td></tr><tr><td>model_size_MB</td><td>0.24274</td></tr><tr><td>modify_graph_with_delegate_mem_KB</td><td>1156</td></tr><tr><td>modify_graph_with_delegate_ms_%</td><td>99.483</td></tr><tr><td>modify_graph_with_delegate_ms_avg</td><td>9.437</td></tr><tr><td>modify_graph_with_delegate_ms_first</td><td>9.437</td></tr><tr><td>warmup_avg_us</td><td>527.235</td></tr></table><br/></div></div>"
      ],
      "text/plain": [
       "<IPython.core.display.HTML object>"
      ]
     },
     "metadata": {},
     "output_type": "display_data"
    },
    {
     "data": {
      "text/html": [
       " View run <strong style=\"color:#cdcd00\">mobilenetv2_0.2_96_c3_o2_t4l1024.MV1</strong> at: <a href=\"https://wandb.ai/susbrock/model_DB/runs/a2wlivv7\" target=\"_blank\">https://wandb.ai/susbrock/model_DB/runs/a2wlivv7</a><br/>Synced 3 W&B file(s), 0 media file(s), 0 artifact file(s) and 1 other file(s)"
      ],
      "text/plain": [
       "<IPython.core.display.HTML object>"
      ]
     },
     "metadata": {},
     "output_type": "display_data"
    },
    {
     "data": {
      "text/html": [
       "Find logs at: <code>.\\wandb\\run-20230301_205430-a2wlivv7\\logs</code>"
      ],
      "text/plain": [
       "<IPython.core.display.HTML object>"
      ]
     },
     "metadata": {},
     "output_type": "display_data"
    },
    {
     "data": {
      "text/html": [
       "Successfully finished last run (ID:a2wlivv7). Initializing new run:<br/>"
      ],
      "text/plain": [
       "<IPython.core.display.HTML object>"
      ]
     },
     "metadata": {},
     "output_type": "display_data"
    },
    {
     "data": {
      "application/vnd.jupyter.widget-view+json": {
       "model_id": "30480a862a1741b1a4f5dbd19f83ac47",
       "version_major": 2,
       "version_minor": 0
      },
      "text/plain": [
       "VBox(children=(Label(value='Waiting for wandb.init()...\\r'), FloatProgress(value=0.016666666666666666, max=1.0…"
      ]
     },
     "metadata": {},
     "output_type": "display_data"
    },
    {
     "data": {
      "text/html": [
       "wandb version 0.13.10 is available!  To upgrade, please run:\n",
       " $ pip install wandb --upgrade"
      ],
      "text/plain": [
       "<IPython.core.display.HTML object>"
      ]
     },
     "metadata": {},
     "output_type": "display_data"
    },
    {
     "data": {
      "text/html": [
       "Tracking run with wandb version 0.13.9"
      ],
      "text/plain": [
       "<IPython.core.display.HTML object>"
      ]
     },
     "metadata": {},
     "output_type": "display_data"
    },
    {
     "data": {
      "text/html": [
       "Run data is saved locally in <code>i:\\tinyml\\tiny_cnn\\wandb\\run-20230301_205438-d9kj05u8</code>"
      ],
      "text/plain": [
       "<IPython.core.display.HTML object>"
      ]
     },
     "metadata": {},
     "output_type": "display_data"
    },
    {
     "data": {
      "text/html": [
       "Resuming run <strong><a href=\"https://wandb.ai/susbrock/model_DB/runs/d9kj05u8\" target=\"_blank\">mobilenetv2_0.2_96_c3_o2_t4l512.MV1</a></strong> to <a href=\"https://wandb.ai/susbrock/model_DB\" target=\"_blank\">Weights & Biases</a> (<a href=\"https://wandb.me/run\" target=\"_blank\">docs</a>)<br/>"
      ],
      "text/plain": [
       "<IPython.core.display.HTML object>"
      ]
     },
     "metadata": {},
     "output_type": "display_data"
    },
    {
     "data": {
      "text/html": [
       " View project at <a href=\"https://wandb.ai/susbrock/model_DB\" target=\"_blank\">https://wandb.ai/susbrock/model_DB</a>"
      ],
      "text/plain": [
       "<IPython.core.display.HTML object>"
      ]
     },
     "metadata": {},
     "output_type": "display_data"
    },
    {
     "data": {
      "text/html": [
       " View run at <a href=\"https://wandb.ai/susbrock/model_DB/runs/d9kj05u8\" target=\"_blank\">https://wandb.ai/susbrock/model_DB/runs/d9kj05u8</a>"
      ],
      "text/plain": [
       "<IPython.core.display.HTML object>"
      ]
     },
     "metadata": {},
     "output_type": "display_data"
    },
    {
     "name": "stdout",
     "output_type": "stream",
     "text": [
      "mobilenetv2_0.2_96_c3_o2_t4l512.MV1 has no run_id\n",
      "03clslpr\n"
     ]
    },
    {
     "data": {
      "text/html": [
       "Finishing last run (ID:d9kj05u8) before initializing another..."
      ],
      "text/plain": [
       "<IPython.core.display.HTML object>"
      ]
     },
     "metadata": {},
     "output_type": "display_data"
    },
    {
     "data": {
      "text/html": [
       "Waiting for W&B process to finish... <strong style=\"color:green\">(success).</strong>"
      ],
      "text/plain": [
       "<IPython.core.display.HTML object>"
      ]
     },
     "metadata": {},
     "output_type": "display_data"
    },
    {
     "data": {
      "application/vnd.jupyter.widget-view+json": {
       "model_id": "b821dc62858d46869e89f1ec53fe8e36",
       "version_major": 2,
       "version_minor": 0
      },
      "text/plain": [
       "VBox(children=(Label(value='0.000 MB of 0.008 MB uploaded (0.000 MB deduped)\\r'), FloatProgress(value=0.0, max…"
      ]
     },
     "metadata": {},
     "output_type": "display_data"
    },
    {
     "data": {
      "text/html": [
       "<style>\n",
       "    table.wandb td:nth-child(1) { padding: 0 10px; text-align: left ; width: auto;} td:nth-child(2) {text-align: left ; width: 100%}\n",
       "    .wandb-row { display: flex; flex-direction: row; flex-wrap: wrap; justify-content: flex-start; width: 100% }\n",
       "    .wandb-col { display: flex; flex-direction: column; flex-basis: 100%; flex: 1; padding: 10px; }\n",
       "    </style>\n",
       "<div class=\"wandb-row\"><div class=\"wandb-col\"><h3>Run summary:</h3><br/><table class=\"wandb\"><tr><td>allocate_tensors_ms_%</td><td>0.636</td></tr><tr><td>allocate_tensors_ms_avg</td><td>0.048</td></tr><tr><td>allocate_tensors_ms_first</td><td>0.048</td></tr><tr><td>arena_size</td><td>230176</td></tr><tr><td>first_inference_us</td><td>4165</td></tr><tr><td>inference_avg_us</td><td>517.568</td></tr><tr><td>init_us</td><td>144960</td></tr><tr><td>initialization_ms</td><td>144.96</td></tr><tr><td>model_size_MB</td><td>0.19461</td></tr><tr><td>modify_graph_with_delegate_mem_KB</td><td>1188</td></tr><tr><td>modify_graph_with_delegate_ms_%</td><td>99.364</td></tr><tr><td>modify_graph_with_delegate_ms_avg</td><td>7.494</td></tr><tr><td>modify_graph_with_delegate_ms_first</td><td>7.494</td></tr><tr><td>warmup_avg_us</td><td>514.93</td></tr></table><br/></div></div>"
      ],
      "text/plain": [
       "<IPython.core.display.HTML object>"
      ]
     },
     "metadata": {},
     "output_type": "display_data"
    },
    {
     "data": {
      "text/html": [
       " View run <strong style=\"color:#cdcd00\">mobilenetv2_0.2_96_c3_o2_t4l512.MV1</strong> at: <a href=\"https://wandb.ai/susbrock/model_DB/runs/d9kj05u8\" target=\"_blank\">https://wandb.ai/susbrock/model_DB/runs/d9kj05u8</a><br/>Synced 3 W&B file(s), 0 media file(s), 0 artifact file(s) and 0 other file(s)"
      ],
      "text/plain": [
       "<IPython.core.display.HTML object>"
      ]
     },
     "metadata": {},
     "output_type": "display_data"
    },
    {
     "data": {
      "text/html": [
       "Find logs at: <code>.\\wandb\\run-20230301_205438-d9kj05u8\\logs</code>"
      ],
      "text/plain": [
       "<IPython.core.display.HTML object>"
      ]
     },
     "metadata": {},
     "output_type": "display_data"
    },
    {
     "data": {
      "text/html": [
       "Successfully finished last run (ID:d9kj05u8). Initializing new run:<br/>"
      ],
      "text/plain": [
       "<IPython.core.display.HTML object>"
      ]
     },
     "metadata": {},
     "output_type": "display_data"
    },
    {
     "data": {
      "application/vnd.jupyter.widget-view+json": {
       "model_id": "fdff288e2d71409c8c6f3a467a0d608a",
       "version_major": 2,
       "version_minor": 0
      },
      "text/plain": [
       "VBox(children=(Label(value='Waiting for wandb.init()...\\r'), FloatProgress(value=0.016933333333334608, max=1.0…"
      ]
     },
     "metadata": {},
     "output_type": "display_data"
    },
    {
     "data": {
      "text/html": [
       "wandb version 0.13.10 is available!  To upgrade, please run:\n",
       " $ pip install wandb --upgrade"
      ],
      "text/plain": [
       "<IPython.core.display.HTML object>"
      ]
     },
     "metadata": {},
     "output_type": "display_data"
    },
    {
     "data": {
      "text/html": [
       "Tracking run with wandb version 0.13.9"
      ],
      "text/plain": [
       "<IPython.core.display.HTML object>"
      ]
     },
     "metadata": {},
     "output_type": "display_data"
    },
    {
     "data": {
      "text/html": [
       "Run data is saved locally in <code>i:\\tinyml\\tiny_cnn\\wandb\\run-20230301_205445-03clslpr</code>"
      ],
      "text/plain": [
       "<IPython.core.display.HTML object>"
      ]
     },
     "metadata": {},
     "output_type": "display_data"
    },
    {
     "data": {
      "text/html": [
       "Resuming run <strong><a href=\"https://wandb.ai/susbrock/model_DB/runs/03clslpr\" target=\"_blank\">mobilenetv2_0.2_96_c3_o2_t4l256.MV1</a></strong> to <a href=\"https://wandb.ai/susbrock/model_DB\" target=\"_blank\">Weights & Biases</a> (<a href=\"https://wandb.me/run\" target=\"_blank\">docs</a>)<br/>"
      ],
      "text/plain": [
       "<IPython.core.display.HTML object>"
      ]
     },
     "metadata": {},
     "output_type": "display_data"
    },
    {
     "data": {
      "text/html": [
       " View project at <a href=\"https://wandb.ai/susbrock/model_DB\" target=\"_blank\">https://wandb.ai/susbrock/model_DB</a>"
      ],
      "text/plain": [
       "<IPython.core.display.HTML object>"
      ]
     },
     "metadata": {},
     "output_type": "display_data"
    },
    {
     "data": {
      "text/html": [
       " View run at <a href=\"https://wandb.ai/susbrock/model_DB/runs/03clslpr\" target=\"_blank\">https://wandb.ai/susbrock/model_DB/runs/03clslpr</a>"
      ],
      "text/plain": [
       "<IPython.core.display.HTML object>"
      ]
     },
     "metadata": {},
     "output_type": "display_data"
    },
    {
     "name": "stdout",
     "output_type": "stream",
     "text": [
      "mobilenetv2_0.2_96_c3_o2_t4l256.MV1 has no run_id\n",
      "kovnkeiy\n"
     ]
    },
    {
     "data": {
      "text/html": [
       "Finishing last run (ID:03clslpr) before initializing another..."
      ],
      "text/plain": [
       "<IPython.core.display.HTML object>"
      ]
     },
     "metadata": {},
     "output_type": "display_data"
    },
    {
     "data": {
      "text/html": [
       "Waiting for W&B process to finish... <strong style=\"color:green\">(success).</strong>"
      ],
      "text/plain": [
       "<IPython.core.display.HTML object>"
      ]
     },
     "metadata": {},
     "output_type": "display_data"
    },
    {
     "data": {
      "application/vnd.jupyter.widget-view+json": {
       "model_id": "eceb2b0ece60471ebf1f951c82c98484",
       "version_major": 2,
       "version_minor": 0
      },
      "text/plain": [
       "VBox(children=(Label(value='0.000 MB of 0.008 MB uploaded (0.000 MB deduped)\\r'), FloatProgress(value=0.0, max…"
      ]
     },
     "metadata": {},
     "output_type": "display_data"
    },
    {
     "data": {
      "text/html": [
       "<style>\n",
       "    table.wandb td:nth-child(1) { padding: 0 10px; text-align: left ; width: auto;} td:nth-child(2) {text-align: left ; width: 100%}\n",
       "    .wandb-row { display: flex; flex-direction: row; flex-wrap: wrap; justify-content: flex-start; width: 100% }\n",
       "    .wandb-col { display: flex; flex-direction: column; flex-basis: 100%; flex: 1; padding: 10px; }\n",
       "    </style>\n",
       "<div class=\"wandb-row\"><div class=\"wandb-col\"><h3>Run summary:</h3><br/><table class=\"wandb\"><tr><td>allocate_tensors_ms_%</td><td>0.599</td></tr><tr><td>allocate_tensors_ms_avg</td><td>0.036</td></tr><tr><td>allocate_tensors_ms_first</td><td>0.036</td></tr><tr><td>arena_size</td><td>228128</td></tr><tr><td>first_inference_us</td><td>4030</td></tr><tr><td>inference_avg_us</td><td>477.701</td></tr><tr><td>init_us</td><td>137503</td></tr><tr><td>initialization_ms</td><td>137.503</td></tr><tr><td>model_size_MB</td><td>0.17054</td></tr><tr><td>modify_graph_with_delegate_mem_KB</td><td>1120</td></tr><tr><td>modify_graph_with_delegate_ms_%</td><td>99.401</td></tr><tr><td>modify_graph_with_delegate_ms_avg</td><td>5.974</td></tr><tr><td>modify_graph_with_delegate_ms_first</td><td>5.974</td></tr><tr><td>warmup_avg_us</td><td>519.149</td></tr></table><br/></div></div>"
      ],
      "text/plain": [
       "<IPython.core.display.HTML object>"
      ]
     },
     "metadata": {},
     "output_type": "display_data"
    },
    {
     "data": {
      "text/html": [
       " View run <strong style=\"color:#cdcd00\">mobilenetv2_0.2_96_c3_o2_t4l256.MV1</strong> at: <a href=\"https://wandb.ai/susbrock/model_DB/runs/03clslpr\" target=\"_blank\">https://wandb.ai/susbrock/model_DB/runs/03clslpr</a><br/>Synced 3 W&B file(s), 0 media file(s), 0 artifact file(s) and 1 other file(s)"
      ],
      "text/plain": [
       "<IPython.core.display.HTML object>"
      ]
     },
     "metadata": {},
     "output_type": "display_data"
    },
    {
     "data": {
      "text/html": [
       "Find logs at: <code>.\\wandb\\run-20230301_205445-03clslpr\\logs</code>"
      ],
      "text/plain": [
       "<IPython.core.display.HTML object>"
      ]
     },
     "metadata": {},
     "output_type": "display_data"
    },
    {
     "data": {
      "text/html": [
       "Successfully finished last run (ID:03clslpr). Initializing new run:<br/>"
      ],
      "text/plain": [
       "<IPython.core.display.HTML object>"
      ]
     },
     "metadata": {},
     "output_type": "display_data"
    },
    {
     "data": {
      "application/vnd.jupyter.widget-view+json": {
       "model_id": "706bc50b43e14b8899930afe7f450bfe",
       "version_major": 2,
       "version_minor": 0
      },
      "text/plain": [
       "VBox(children=(Label(value='Waiting for wandb.init()...\\r'), FloatProgress(value=0.016916666666664543, max=1.0…"
      ]
     },
     "metadata": {},
     "output_type": "display_data"
    },
    {
     "data": {
      "text/html": [
       "wandb version 0.13.10 is available!  To upgrade, please run:\n",
       " $ pip install wandb --upgrade"
      ],
      "text/plain": [
       "<IPython.core.display.HTML object>"
      ]
     },
     "metadata": {},
     "output_type": "display_data"
    },
    {
     "data": {
      "text/html": [
       "Tracking run with wandb version 0.13.9"
      ],
      "text/plain": [
       "<IPython.core.display.HTML object>"
      ]
     },
     "metadata": {},
     "output_type": "display_data"
    },
    {
     "data": {
      "text/html": [
       "Run data is saved locally in <code>i:\\tinyml\\tiny_cnn\\wandb\\run-20230301_205453-kovnkeiy</code>"
      ],
      "text/plain": [
       "<IPython.core.display.HTML object>"
      ]
     },
     "metadata": {},
     "output_type": "display_data"
    },
    {
     "data": {
      "text/html": [
       "Resuming run <strong><a href=\"https://wandb.ai/susbrock/model_DB/runs/kovnkeiy\" target=\"_blank\">mobilenetv2_0.2_96_c3_o2_t4l128.MV1</a></strong> to <a href=\"https://wandb.ai/susbrock/model_DB\" target=\"_blank\">Weights & Biases</a> (<a href=\"https://wandb.me/run\" target=\"_blank\">docs</a>)<br/>"
      ],
      "text/plain": [
       "<IPython.core.display.HTML object>"
      ]
     },
     "metadata": {},
     "output_type": "display_data"
    },
    {
     "data": {
      "text/html": [
       " View project at <a href=\"https://wandb.ai/susbrock/model_DB\" target=\"_blank\">https://wandb.ai/susbrock/model_DB</a>"
      ],
      "text/plain": [
       "<IPython.core.display.HTML object>"
      ]
     },
     "metadata": {},
     "output_type": "display_data"
    },
    {
     "data": {
      "text/html": [
       " View run at <a href=\"https://wandb.ai/susbrock/model_DB/runs/kovnkeiy\" target=\"_blank\">https://wandb.ai/susbrock/model_DB/runs/kovnkeiy</a>"
      ],
      "text/plain": [
       "<IPython.core.display.HTML object>"
      ]
     },
     "metadata": {},
     "output_type": "display_data"
    },
    {
     "name": "stdout",
     "output_type": "stream",
     "text": [
      "mobilenetv2_0.2_96_c3_o2_t4l128.MV1 has no run_id\n",
      "i2qmi66x\n"
     ]
    },
    {
     "data": {
      "text/html": [
       "Finishing last run (ID:kovnkeiy) before initializing another..."
      ],
      "text/plain": [
       "<IPython.core.display.HTML object>"
      ]
     },
     "metadata": {},
     "output_type": "display_data"
    },
    {
     "data": {
      "text/html": [
       "Waiting for W&B process to finish... <strong style=\"color:green\">(success).</strong>"
      ],
      "text/plain": [
       "<IPython.core.display.HTML object>"
      ]
     },
     "metadata": {},
     "output_type": "display_data"
    },
    {
     "data": {
      "application/vnd.jupyter.widget-view+json": {
       "model_id": "0ee711608fa54310b6abb7d1219a0e1f",
       "version_major": 2,
       "version_minor": 0
      },
      "text/plain": [
       "VBox(children=(Label(value='0.000 MB of 0.002 MB uploaded (0.000 MB deduped)\\r'), FloatProgress(value=0.0, max…"
      ]
     },
     "metadata": {},
     "output_type": "display_data"
    },
    {
     "data": {
      "text/html": [
       "<style>\n",
       "    table.wandb td:nth-child(1) { padding: 0 10px; text-align: left ; width: auto;} td:nth-child(2) {text-align: left ; width: 100%}\n",
       "    .wandb-row { display: flex; flex-direction: row; flex-wrap: wrap; justify-content: flex-start; width: 100% }\n",
       "    .wandb-col { display: flex; flex-direction: column; flex-basis: 100%; flex: 1; padding: 10px; }\n",
       "    </style>\n",
       "<div class=\"wandb-row\"><div class=\"wandb-col\"><h3>Run summary:</h3><br/><table class=\"wandb\"><tr><td>allocate_tensors_ms_%</td><td>0.466</td></tr><tr><td>allocate_tensors_ms_avg</td><td>0.037</td></tr><tr><td>allocate_tensors_ms_first</td><td>0.037</td></tr><tr><td>arena_size</td><td>226992</td></tr><tr><td>first_inference_us</td><td>4228</td></tr><tr><td>inference_avg_us</td><td>493.11</td></tr><tr><td>init_us</td><td>161466</td></tr><tr><td>initialization_ms</td><td>161.466</td></tr><tr><td>model_size_MB</td><td>0.15806</td></tr><tr><td>modify_graph_with_delegate_mem_KB</td><td>880</td></tr><tr><td>modify_graph_with_delegate_ms_%</td><td>99.534</td></tr><tr><td>modify_graph_with_delegate_ms_avg</td><td>7.899</td></tr><tr><td>modify_graph_with_delegate_ms_first</td><td>7.899</td></tr><tr><td>warmup_avg_us</td><td>474.557</td></tr></table><br/></div></div>"
      ],
      "text/plain": [
       "<IPython.core.display.HTML object>"
      ]
     },
     "metadata": {},
     "output_type": "display_data"
    },
    {
     "data": {
      "text/html": [
       " View run <strong style=\"color:#cdcd00\">mobilenetv2_0.2_96_c3_o2_t4l128.MV1</strong> at: <a href=\"https://wandb.ai/susbrock/model_DB/runs/kovnkeiy\" target=\"_blank\">https://wandb.ai/susbrock/model_DB/runs/kovnkeiy</a><br/>Synced 3 W&B file(s), 0 media file(s), 0 artifact file(s) and 0 other file(s)"
      ],
      "text/plain": [
       "<IPython.core.display.HTML object>"
      ]
     },
     "metadata": {},
     "output_type": "display_data"
    },
    {
     "data": {
      "text/html": [
       "Find logs at: <code>.\\wandb\\run-20230301_205453-kovnkeiy\\logs</code>"
      ],
      "text/plain": [
       "<IPython.core.display.HTML object>"
      ]
     },
     "metadata": {},
     "output_type": "display_data"
    },
    {
     "data": {
      "text/html": [
       "Successfully finished last run (ID:kovnkeiy). Initializing new run:<br/>"
      ],
      "text/plain": [
       "<IPython.core.display.HTML object>"
      ]
     },
     "metadata": {},
     "output_type": "display_data"
    },
    {
     "data": {
      "application/vnd.jupyter.widget-view+json": {
       "model_id": "beffb20d5c0a40efa01c02fdbdedb24c",
       "version_major": 2,
       "version_minor": 0
      },
      "text/plain": [
       "VBox(children=(Label(value='Waiting for wandb.init()...\\r'), FloatProgress(value=0.016666666666666666, max=1.0…"
      ]
     },
     "metadata": {},
     "output_type": "display_data"
    },
    {
     "data": {
      "text/html": [
       "wandb version 0.13.10 is available!  To upgrade, please run:\n",
       " $ pip install wandb --upgrade"
      ],
      "text/plain": [
       "<IPython.core.display.HTML object>"
      ]
     },
     "metadata": {},
     "output_type": "display_data"
    },
    {
     "data": {
      "text/html": [
       "Tracking run with wandb version 0.13.9"
      ],
      "text/plain": [
       "<IPython.core.display.HTML object>"
      ]
     },
     "metadata": {},
     "output_type": "display_data"
    },
    {
     "data": {
      "text/html": [
       "Run data is saved locally in <code>i:\\tinyml\\tiny_cnn\\wandb\\run-20230301_205501-i2qmi66x</code>"
      ],
      "text/plain": [
       "<IPython.core.display.HTML object>"
      ]
     },
     "metadata": {},
     "output_type": "display_data"
    },
    {
     "data": {
      "text/html": [
       "Resuming run <strong><a href=\"https://wandb.ai/susbrock/model_DB/runs/i2qmi66x\" target=\"_blank\">mobilenetv2_0.25_96_c3_o2_t4l256.MV1</a></strong> to <a href=\"https://wandb.ai/susbrock/model_DB\" target=\"_blank\">Weights & Biases</a> (<a href=\"https://wandb.me/run\" target=\"_blank\">docs</a>)<br/>"
      ],
      "text/plain": [
       "<IPython.core.display.HTML object>"
      ]
     },
     "metadata": {},
     "output_type": "display_data"
    },
    {
     "data": {
      "text/html": [
       " View project at <a href=\"https://wandb.ai/susbrock/model_DB\" target=\"_blank\">https://wandb.ai/susbrock/model_DB</a>"
      ],
      "text/plain": [
       "<IPython.core.display.HTML object>"
      ]
     },
     "metadata": {},
     "output_type": "display_data"
    },
    {
     "data": {
      "text/html": [
       " View run at <a href=\"https://wandb.ai/susbrock/model_DB/runs/i2qmi66x\" target=\"_blank\">https://wandb.ai/susbrock/model_DB/runs/i2qmi66x</a>"
      ],
      "text/plain": [
       "<IPython.core.display.HTML object>"
      ]
     },
     "metadata": {},
     "output_type": "display_data"
    },
    {
     "name": "stdout",
     "output_type": "stream",
     "text": [
      "mobilenetv2_0.25_96_c3_o2_t4l256.MV1 has no run_id\n",
      "73tx4utu\n"
     ]
    },
    {
     "data": {
      "text/html": [
       "Finishing last run (ID:i2qmi66x) before initializing another..."
      ],
      "text/plain": [
       "<IPython.core.display.HTML object>"
      ]
     },
     "metadata": {},
     "output_type": "display_data"
    },
    {
     "data": {
      "text/html": [
       "Waiting for W&B process to finish... <strong style=\"color:green\">(success).</strong>"
      ],
      "text/plain": [
       "<IPython.core.display.HTML object>"
      ]
     },
     "metadata": {},
     "output_type": "display_data"
    },
    {
     "data": {
      "text/html": [
       "<style>\n",
       "    table.wandb td:nth-child(1) { padding: 0 10px; text-align: left ; width: auto;} td:nth-child(2) {text-align: left ; width: 100%}\n",
       "    .wandb-row { display: flex; flex-direction: row; flex-wrap: wrap; justify-content: flex-start; width: 100% }\n",
       "    .wandb-col { display: flex; flex-direction: column; flex-basis: 100%; flex: 1; padding: 10px; }\n",
       "    </style>\n",
       "<div class=\"wandb-row\"><div class=\"wandb-col\"><h3>Run summary:</h3><br/><table class=\"wandb\"><tr><td>allocate_tensors_ms_%</td><td>0.505</td></tr><tr><td>allocate_tensors_ms_avg</td><td>0.045</td></tr><tr><td>allocate_tensors_ms_first</td><td>0.045</td></tr><tr><td>arena_size</td><td>232736</td></tr><tr><td>first_inference_us</td><td>4987</td></tr><tr><td>inference_avg_us</td><td>561.687</td></tr><tr><td>init_us</td><td>164431</td></tr><tr><td>initialization_ms</td><td>164.431</td></tr><tr><td>model_size_MB</td><td>0.21902</td></tr><tr><td>modify_graph_with_delegate_mem_KB</td><td>1300</td></tr><tr><td>modify_graph_with_delegate_ms_%</td><td>99.495</td></tr><tr><td>modify_graph_with_delegate_ms_avg</td><td>8.87</td></tr><tr><td>modify_graph_with_delegate_ms_first</td><td>8.87</td></tr><tr><td>warmup_avg_us</td><td>603.053</td></tr></table><br/></div></div>"
      ],
      "text/plain": [
       "<IPython.core.display.HTML object>"
      ]
     },
     "metadata": {},
     "output_type": "display_data"
    },
    {
     "data": {
      "text/html": [
       " View run <strong style=\"color:#cdcd00\">mobilenetv2_0.25_96_c3_o2_t4l256.MV1</strong> at: <a href=\"https://wandb.ai/susbrock/model_DB/runs/i2qmi66x\" target=\"_blank\">https://wandb.ai/susbrock/model_DB/runs/i2qmi66x</a><br/>Synced 3 W&B file(s), 0 media file(s), 0 artifact file(s) and 1 other file(s)"
      ],
      "text/plain": [
       "<IPython.core.display.HTML object>"
      ]
     },
     "metadata": {},
     "output_type": "display_data"
    },
    {
     "data": {
      "text/html": [
       "Find logs at: <code>.\\wandb\\run-20230301_205501-i2qmi66x\\logs</code>"
      ],
      "text/plain": [
       "<IPython.core.display.HTML object>"
      ]
     },
     "metadata": {},
     "output_type": "display_data"
    },
    {
     "data": {
      "text/html": [
       "Successfully finished last run (ID:i2qmi66x). Initializing new run:<br/>"
      ],
      "text/plain": [
       "<IPython.core.display.HTML object>"
      ]
     },
     "metadata": {},
     "output_type": "display_data"
    },
    {
     "data": {
      "application/vnd.jupyter.widget-view+json": {
       "model_id": "c2bb9f1aa8584292b9ac329605139fa6",
       "version_major": 2,
       "version_minor": 0
      },
      "text/plain": [
       "VBox(children=(Label(value='Waiting for wandb.init()...\\r'), FloatProgress(value=0.016666666666666666, max=1.0…"
      ]
     },
     "metadata": {},
     "output_type": "display_data"
    },
    {
     "data": {
      "text/html": [
       "wandb version 0.13.10 is available!  To upgrade, please run:\n",
       " $ pip install wandb --upgrade"
      ],
      "text/plain": [
       "<IPython.core.display.HTML object>"
      ]
     },
     "metadata": {},
     "output_type": "display_data"
    },
    {
     "data": {
      "text/html": [
       "Tracking run with wandb version 0.13.9"
      ],
      "text/plain": [
       "<IPython.core.display.HTML object>"
      ]
     },
     "metadata": {},
     "output_type": "display_data"
    },
    {
     "data": {
      "text/html": [
       "Run data is saved locally in <code>i:\\tinyml\\tiny_cnn\\wandb\\run-20230301_205508-73tx4utu</code>"
      ],
      "text/plain": [
       "<IPython.core.display.HTML object>"
      ]
     },
     "metadata": {},
     "output_type": "display_data"
    },
    {
     "data": {
      "text/html": [
       "Resuming run <strong><a href=\"https://wandb.ai/susbrock/model_DB/runs/73tx4utu\" target=\"_blank\">mobilenetv2_0.25_96_c3_o2_t4l512.MV1</a></strong> to <a href=\"https://wandb.ai/susbrock/model_DB\" target=\"_blank\">Weights & Biases</a> (<a href=\"https://wandb.me/run\" target=\"_blank\">docs</a>)<br/>"
      ],
      "text/plain": [
       "<IPython.core.display.HTML object>"
      ]
     },
     "metadata": {},
     "output_type": "display_data"
    },
    {
     "data": {
      "text/html": [
       " View project at <a href=\"https://wandb.ai/susbrock/model_DB\" target=\"_blank\">https://wandb.ai/susbrock/model_DB</a>"
      ],
      "text/plain": [
       "<IPython.core.display.HTML object>"
      ]
     },
     "metadata": {},
     "output_type": "display_data"
    },
    {
     "data": {
      "text/html": [
       " View run at <a href=\"https://wandb.ai/susbrock/model_DB/runs/73tx4utu\" target=\"_blank\">https://wandb.ai/susbrock/model_DB/runs/73tx4utu</a>"
      ],
      "text/plain": [
       "<IPython.core.display.HTML object>"
      ]
     },
     "metadata": {},
     "output_type": "display_data"
    },
    {
     "name": "stdout",
     "output_type": "stream",
     "text": [
      "mobilenetv2_0.25_96_c3_o2_t4l512.MV1 has no run_id\n",
      "7f79iiby\n"
     ]
    },
    {
     "data": {
      "text/html": [
       "Finishing last run (ID:73tx4utu) before initializing another..."
      ],
      "text/plain": [
       "<IPython.core.display.HTML object>"
      ]
     },
     "metadata": {},
     "output_type": "display_data"
    },
    {
     "data": {
      "text/html": [
       "Waiting for W&B process to finish... <strong style=\"color:green\">(success).</strong>"
      ],
      "text/plain": [
       "<IPython.core.display.HTML object>"
      ]
     },
     "metadata": {},
     "output_type": "display_data"
    },
    {
     "data": {
      "application/vnd.jupyter.widget-view+json": {
       "model_id": "aa57af080b494cb480a7672392583148",
       "version_major": 2,
       "version_minor": 0
      },
      "text/plain": [
       "VBox(children=(Label(value='0.000 MB of 0.002 MB uploaded (0.000 MB deduped)\\r'), FloatProgress(value=0.0, max…"
      ]
     },
     "metadata": {},
     "output_type": "display_data"
    },
    {
     "data": {
      "text/html": [
       "<style>\n",
       "    table.wandb td:nth-child(1) { padding: 0 10px; text-align: left ; width: auto;} td:nth-child(2) {text-align: left ; width: 100%}\n",
       "    .wandb-row { display: flex; flex-direction: row; flex-wrap: wrap; justify-content: flex-start; width: 100% }\n",
       "    .wandb-col { display: flex; flex-direction: column; flex-basis: 100%; flex: 1; padding: 10px; }\n",
       "    </style>\n",
       "<div class=\"wandb-row\"><div class=\"wandb-col\"><h3>Run summary:</h3><br/><table class=\"wandb\"><tr><td>allocate_tensors_ms_%</td><td>1.378</td></tr><tr><td>allocate_tensors_ms_avg</td><td>0.124</td></tr><tr><td>allocate_tensors_ms_first</td><td>0.124</td></tr><tr><td>arena_size</td><td>234784</td></tr><tr><td>first_inference_us</td><td>5572</td></tr><tr><td>inference_avg_us</td><td>593.95</td></tr><tr><td>init_us</td><td>169968</td></tr><tr><td>initialization_ms</td><td>169.968</td></tr><tr><td>model_size_MB</td><td>0.24718</td></tr><tr><td>modify_graph_with_delegate_mem_KB</td><td>1144</td></tr><tr><td>modify_graph_with_delegate_ms_%</td><td>98.622</td></tr><tr><td>modify_graph_with_delegate_ms_avg</td><td>8.877</td></tr><tr><td>modify_graph_with_delegate_ms_first</td><td>8.877</td></tr><tr><td>warmup_avg_us</td><td>542.362</td></tr></table><br/></div></div>"
      ],
      "text/plain": [
       "<IPython.core.display.HTML object>"
      ]
     },
     "metadata": {},
     "output_type": "display_data"
    },
    {
     "data": {
      "text/html": [
       " View run <strong style=\"color:#cdcd00\">mobilenetv2_0.25_96_c3_o2_t4l512.MV1</strong> at: <a href=\"https://wandb.ai/susbrock/model_DB/runs/73tx4utu\" target=\"_blank\">https://wandb.ai/susbrock/model_DB/runs/73tx4utu</a><br/>Synced 3 W&B file(s), 0 media file(s), 0 artifact file(s) and 0 other file(s)"
      ],
      "text/plain": [
       "<IPython.core.display.HTML object>"
      ]
     },
     "metadata": {},
     "output_type": "display_data"
    },
    {
     "data": {
      "text/html": [
       "Find logs at: <code>.\\wandb\\run-20230301_205508-73tx4utu\\logs</code>"
      ],
      "text/plain": [
       "<IPython.core.display.HTML object>"
      ]
     },
     "metadata": {},
     "output_type": "display_data"
    },
    {
     "data": {
      "text/html": [
       "Successfully finished last run (ID:73tx4utu). Initializing new run:<br/>"
      ],
      "text/plain": [
       "<IPython.core.display.HTML object>"
      ]
     },
     "metadata": {},
     "output_type": "display_data"
    },
    {
     "data": {
      "application/vnd.jupyter.widget-view+json": {
       "model_id": "b70116ecb69d4e1aa780877cc108cf23",
       "version_major": 2,
       "version_minor": 0
      },
      "text/plain": [
       "VBox(children=(Label(value='Waiting for wandb.init()...\\r'), FloatProgress(value=0.016933333333334608, max=1.0…"
      ]
     },
     "metadata": {},
     "output_type": "display_data"
    },
    {
     "data": {
      "text/html": [
       "wandb version 0.13.10 is available!  To upgrade, please run:\n",
       " $ pip install wandb --upgrade"
      ],
      "text/plain": [
       "<IPython.core.display.HTML object>"
      ]
     },
     "metadata": {},
     "output_type": "display_data"
    },
    {
     "data": {
      "text/html": [
       "Tracking run with wandb version 0.13.9"
      ],
      "text/plain": [
       "<IPython.core.display.HTML object>"
      ]
     },
     "metadata": {},
     "output_type": "display_data"
    },
    {
     "data": {
      "text/html": [
       "Run data is saved locally in <code>i:\\tinyml\\tiny_cnn\\wandb\\run-20230301_205518-7f79iiby</code>"
      ],
      "text/plain": [
       "<IPython.core.display.HTML object>"
      ]
     },
     "metadata": {},
     "output_type": "display_data"
    },
    {
     "data": {
      "text/html": [
       "Resuming run <strong><a href=\"https://wandb.ai/susbrock/model_DB/runs/7f79iiby\" target=\"_blank\">mobilenetv2_0.25_96_c3_o2_t5l512.MV1</a></strong> to <a href=\"https://wandb.ai/susbrock/model_DB\" target=\"_blank\">Weights & Biases</a> (<a href=\"https://wandb.me/run\" target=\"_blank\">docs</a>)<br/>"
      ],
      "text/plain": [
       "<IPython.core.display.HTML object>"
      ]
     },
     "metadata": {},
     "output_type": "display_data"
    },
    {
     "data": {
      "text/html": [
       " View project at <a href=\"https://wandb.ai/susbrock/model_DB\" target=\"_blank\">https://wandb.ai/susbrock/model_DB</a>"
      ],
      "text/plain": [
       "<IPython.core.display.HTML object>"
      ]
     },
     "metadata": {},
     "output_type": "display_data"
    },
    {
     "data": {
      "text/html": [
       " View run at <a href=\"https://wandb.ai/susbrock/model_DB/runs/7f79iiby\" target=\"_blank\">https://wandb.ai/susbrock/model_DB/runs/7f79iiby</a>"
      ],
      "text/plain": [
       "<IPython.core.display.HTML object>"
      ]
     },
     "metadata": {},
     "output_type": "display_data"
    },
    {
     "name": "stdout",
     "output_type": "stream",
     "text": [
      "mobilenetv2_0.25_96_c3_o2_t5l512.MV1 has no run_id\n",
      "vzkjx8vd\n"
     ]
    },
    {
     "data": {
      "text/html": [
       "Finishing last run (ID:7f79iiby) before initializing another..."
      ],
      "text/plain": [
       "<IPython.core.display.HTML object>"
      ]
     },
     "metadata": {},
     "output_type": "display_data"
    },
    {
     "data": {
      "text/html": [
       "Waiting for W&B process to finish... <strong style=\"color:green\">(success).</strong>"
      ],
      "text/plain": [
       "<IPython.core.display.HTML object>"
      ]
     },
     "metadata": {},
     "output_type": "display_data"
    },
    {
     "data": {
      "text/html": [
       "<style>\n",
       "    table.wandb td:nth-child(1) { padding: 0 10px; text-align: left ; width: auto;} td:nth-child(2) {text-align: left ; width: 100%}\n",
       "    .wandb-row { display: flex; flex-direction: row; flex-wrap: wrap; justify-content: flex-start; width: 100% }\n",
       "    .wandb-col { display: flex; flex-direction: column; flex-basis: 100%; flex: 1; padding: 10px; }\n",
       "    </style>\n",
       "<div class=\"wandb-row\"><div class=\"wandb-col\"><h3>Run summary:</h3><br/><table class=\"wandb\"><tr><td>allocate_tensors_ms_%</td><td>0.22</td></tr><tr><td>allocate_tensors_ms_avg</td><td>0.038</td></tr><tr><td>allocate_tensors_ms_first</td><td>0.038</td></tr><tr><td>arena_size</td><td>285664</td></tr><tr><td>first_inference_us</td><td>8947</td></tr><tr><td>inference_avg_us</td><td>649.666</td></tr><tr><td>init_us</td><td>375362</td></tr><tr><td>initialization_ms</td><td>375.362</td></tr><tr><td>model_size_MB</td><td>0.28214</td></tr><tr><td>modify_graph_with_delegate_mem_KB</td><td>1272</td></tr><tr><td>modify_graph_with_delegate_ms_%</td><td>99.78</td></tr><tr><td>modify_graph_with_delegate_ms_avg</td><td>17.245</td></tr><tr><td>modify_graph_with_delegate_ms_first</td><td>17.245</td></tr><tr><td>warmup_avg_us</td><td>618.794</td></tr></table><br/></div></div>"
      ],
      "text/plain": [
       "<IPython.core.display.HTML object>"
      ]
     },
     "metadata": {},
     "output_type": "display_data"
    },
    {
     "data": {
      "text/html": [
       " View run <strong style=\"color:#cdcd00\">mobilenetv2_0.25_96_c3_o2_t5l512.MV1</strong> at: <a href=\"https://wandb.ai/susbrock/model_DB/runs/7f79iiby\" target=\"_blank\">https://wandb.ai/susbrock/model_DB/runs/7f79iiby</a><br/>Synced 3 W&B file(s), 0 media file(s), 0 artifact file(s) and 1 other file(s)"
      ],
      "text/plain": [
       "<IPython.core.display.HTML object>"
      ]
     },
     "metadata": {},
     "output_type": "display_data"
    },
    {
     "data": {
      "text/html": [
       "Find logs at: <code>.\\wandb\\run-20230301_205518-7f79iiby\\logs</code>"
      ],
      "text/plain": [
       "<IPython.core.display.HTML object>"
      ]
     },
     "metadata": {},
     "output_type": "display_data"
    },
    {
     "data": {
      "text/html": [
       "Successfully finished last run (ID:7f79iiby). Initializing new run:<br/>"
      ],
      "text/plain": [
       "<IPython.core.display.HTML object>"
      ]
     },
     "metadata": {},
     "output_type": "display_data"
    },
    {
     "data": {
      "application/vnd.jupyter.widget-view+json": {
       "model_id": "aae6bc1636264ce3b66225569513da3d",
       "version_major": 2,
       "version_minor": 0
      },
      "text/plain": [
       "VBox(children=(Label(value='Waiting for wandb.init()...\\r'), FloatProgress(value=0.016666666666666666, max=1.0…"
      ]
     },
     "metadata": {},
     "output_type": "display_data"
    },
    {
     "data": {
      "text/html": [
       "wandb version 0.13.10 is available!  To upgrade, please run:\n",
       " $ pip install wandb --upgrade"
      ],
      "text/plain": [
       "<IPython.core.display.HTML object>"
      ]
     },
     "metadata": {},
     "output_type": "display_data"
    },
    {
     "data": {
      "text/html": [
       "Tracking run with wandb version 0.13.9"
      ],
      "text/plain": [
       "<IPython.core.display.HTML object>"
      ]
     },
     "metadata": {},
     "output_type": "display_data"
    },
    {
     "data": {
      "text/html": [
       "Run data is saved locally in <code>i:\\tinyml\\tiny_cnn\\wandb\\run-20230301_205526-vzkjx8vd</code>"
      ],
      "text/plain": [
       "<IPython.core.display.HTML object>"
      ]
     },
     "metadata": {},
     "output_type": "display_data"
    },
    {
     "data": {
      "text/html": [
       "Resuming run <strong><a href=\"https://wandb.ai/susbrock/model_DB/runs/vzkjx8vd\" target=\"_blank\">mobilenetv2_0.25_96_c3_o2_t5l256.MV1</a></strong> to <a href=\"https://wandb.ai/susbrock/model_DB\" target=\"_blank\">Weights & Biases</a> (<a href=\"https://wandb.me/run\" target=\"_blank\">docs</a>)<br/>"
      ],
      "text/plain": [
       "<IPython.core.display.HTML object>"
      ]
     },
     "metadata": {},
     "output_type": "display_data"
    },
    {
     "data": {
      "text/html": [
       " View project at <a href=\"https://wandb.ai/susbrock/model_DB\" target=\"_blank\">https://wandb.ai/susbrock/model_DB</a>"
      ],
      "text/plain": [
       "<IPython.core.display.HTML object>"
      ]
     },
     "metadata": {},
     "output_type": "display_data"
    },
    {
     "data": {
      "text/html": [
       " View run at <a href=\"https://wandb.ai/susbrock/model_DB/runs/vzkjx8vd\" target=\"_blank\">https://wandb.ai/susbrock/model_DB/runs/vzkjx8vd</a>"
      ],
      "text/plain": [
       "<IPython.core.display.HTML object>"
      ]
     },
     "metadata": {},
     "output_type": "display_data"
    },
    {
     "name": "stdout",
     "output_type": "stream",
     "text": [
      "mobilenetv2_0.25_96_c3_o2_t5l256.MV1 has no run_id\n",
      "exjgrqit\n"
     ]
    },
    {
     "data": {
      "text/html": [
       "Finishing last run (ID:vzkjx8vd) before initializing another..."
      ],
      "text/plain": [
       "<IPython.core.display.HTML object>"
      ]
     },
     "metadata": {},
     "output_type": "display_data"
    },
    {
     "data": {
      "text/html": [
       "Waiting for W&B process to finish... <strong style=\"color:green\">(success).</strong>"
      ],
      "text/plain": [
       "<IPython.core.display.HTML object>"
      ]
     },
     "metadata": {},
     "output_type": "display_data"
    },
    {
     "data": {
      "application/vnd.jupyter.widget-view+json": {
       "model_id": "e6c188f82f8843b3901c535dbc3a233e",
       "version_major": 2,
       "version_minor": 0
      },
      "text/plain": [
       "VBox(children=(Label(value='0.000 MB of 0.002 MB uploaded (0.000 MB deduped)\\r'), FloatProgress(value=0.0, max…"
      ]
     },
     "metadata": {},
     "output_type": "display_data"
    },
    {
     "data": {
      "text/html": [
       "<style>\n",
       "    table.wandb td:nth-child(1) { padding: 0 10px; text-align: left ; width: auto;} td:nth-child(2) {text-align: left ; width: 100%}\n",
       "    .wandb-row { display: flex; flex-direction: row; flex-wrap: wrap; justify-content: flex-start; width: 100% }\n",
       "    .wandb-col { display: flex; flex-direction: column; flex-basis: 100%; flex: 1; padding: 10px; }\n",
       "    </style>\n",
       "<div class=\"wandb-row\"><div class=\"wandb-col\"><h3>Run summary:</h3><br/><table class=\"wandb\"><tr><td>allocate_tensors_ms_%</td><td>0.73</td></tr><tr><td>allocate_tensors_ms_avg</td><td>0.102</td></tr><tr><td>allocate_tensors_ms_first</td><td>0.102</td></tr><tr><td>arena_size</td><td>283616</td></tr><tr><td>first_inference_us</td><td>7156</td></tr><tr><td>inference_avg_us</td><td>743.873</td></tr><tr><td>init_us</td><td>206782</td></tr><tr><td>initialization_ms</td><td>206.782</td></tr><tr><td>model_size_MB</td><td>0.25398</td></tr><tr><td>modify_graph_with_delegate_mem_KB</td><td>1160</td></tr><tr><td>modify_graph_with_delegate_ms_%</td><td>99.27</td></tr><tr><td>modify_graph_with_delegate_ms_avg</td><td>13.862</td></tr><tr><td>modify_graph_with_delegate_ms_first</td><td>13.862</td></tr><tr><td>test_accuracy</td><td>NaN</td></tr><tr><td>test_loss</td><td>NaN</td></tr><tr><td>warmup_avg_us</td><td>742.178</td></tr></table><br/></div></div>"
      ],
      "text/plain": [
       "<IPython.core.display.HTML object>"
      ]
     },
     "metadata": {},
     "output_type": "display_data"
    },
    {
     "data": {
      "text/html": [
       " View run <strong style=\"color:#cdcd00\">mobilenetv2_0.25_96_c3_o2_t5l256.MV1</strong> at: <a href=\"https://wandb.ai/susbrock/model_DB/runs/vzkjx8vd\" target=\"_blank\">https://wandb.ai/susbrock/model_DB/runs/vzkjx8vd</a><br/>Synced 3 W&B file(s), 0 media file(s), 0 artifact file(s) and 0 other file(s)"
      ],
      "text/plain": [
       "<IPython.core.display.HTML object>"
      ]
     },
     "metadata": {},
     "output_type": "display_data"
    },
    {
     "data": {
      "text/html": [
       "Find logs at: <code>.\\wandb\\run-20230301_205526-vzkjx8vd\\logs</code>"
      ],
      "text/plain": [
       "<IPython.core.display.HTML object>"
      ]
     },
     "metadata": {},
     "output_type": "display_data"
    },
    {
     "data": {
      "text/html": [
       "Successfully finished last run (ID:vzkjx8vd). Initializing new run:<br/>"
      ],
      "text/plain": [
       "<IPython.core.display.HTML object>"
      ]
     },
     "metadata": {},
     "output_type": "display_data"
    },
    {
     "data": {
      "application/vnd.jupyter.widget-view+json": {
       "model_id": "aaa063785dc2406a83277e54f144c662",
       "version_major": 2,
       "version_minor": 0
      },
      "text/plain": [
       "VBox(children=(Label(value='Waiting for wandb.init()...\\r'), FloatProgress(value=0.016666666666666666, max=1.0…"
      ]
     },
     "metadata": {},
     "output_type": "display_data"
    },
    {
     "data": {
      "text/html": [
       "wandb version 0.13.10 is available!  To upgrade, please run:\n",
       " $ pip install wandb --upgrade"
      ],
      "text/plain": [
       "<IPython.core.display.HTML object>"
      ]
     },
     "metadata": {},
     "output_type": "display_data"
    },
    {
     "data": {
      "text/html": [
       "Tracking run with wandb version 0.13.9"
      ],
      "text/plain": [
       "<IPython.core.display.HTML object>"
      ]
     },
     "metadata": {},
     "output_type": "display_data"
    },
    {
     "data": {
      "text/html": [
       "Run data is saved locally in <code>i:\\tinyml\\tiny_cnn\\wandb\\run-20230301_205535-exjgrqit</code>"
      ],
      "text/plain": [
       "<IPython.core.display.HTML object>"
      ]
     },
     "metadata": {},
     "output_type": "display_data"
    },
    {
     "data": {
      "text/html": [
       "Resuming run <strong><a href=\"https://wandb.ai/susbrock/model_DB/runs/exjgrqit\" target=\"_blank\">mobilenetv2_0.25_96_c3_o2_t6l128.MV1</a></strong> to <a href=\"https://wandb.ai/susbrock/model_DB\" target=\"_blank\">Weights & Biases</a> (<a href=\"https://wandb.me/run\" target=\"_blank\">docs</a>)<br/>"
      ],
      "text/plain": [
       "<IPython.core.display.HTML object>"
      ]
     },
     "metadata": {},
     "output_type": "display_data"
    },
    {
     "data": {
      "text/html": [
       " View project at <a href=\"https://wandb.ai/susbrock/model_DB\" target=\"_blank\">https://wandb.ai/susbrock/model_DB</a>"
      ],
      "text/plain": [
       "<IPython.core.display.HTML object>"
      ]
     },
     "metadata": {},
     "output_type": "display_data"
    },
    {
     "data": {
      "text/html": [
       " View run at <a href=\"https://wandb.ai/susbrock/model_DB/runs/exjgrqit\" target=\"_blank\">https://wandb.ai/susbrock/model_DB/runs/exjgrqit</a>"
      ],
      "text/plain": [
       "<IPython.core.display.HTML object>"
      ]
     },
     "metadata": {},
     "output_type": "display_data"
    },
    {
     "name": "stdout",
     "output_type": "stream",
     "text": [
      "mobilenetv2_0.25_96_c3_o2_t6l128.MV1 has no run_id\n",
      "dl8ye13s\n"
     ]
    },
    {
     "data": {
      "text/html": [
       "Finishing last run (ID:exjgrqit) before initializing another..."
      ],
      "text/plain": [
       "<IPython.core.display.HTML object>"
      ]
     },
     "metadata": {},
     "output_type": "display_data"
    },
    {
     "data": {
      "text/html": [
       "Waiting for W&B process to finish... <strong style=\"color:green\">(success).</strong>"
      ],
      "text/plain": [
       "<IPython.core.display.HTML object>"
      ]
     },
     "metadata": {},
     "output_type": "display_data"
    },
    {
     "data": {
      "application/vnd.jupyter.widget-view+json": {
       "model_id": "8f9339e7957f48e8a8a67511e17b36fb",
       "version_major": 2,
       "version_minor": 0
      },
      "text/plain": [
       "VBox(children=(Label(value='0.000 MB of 0.008 MB uploaded (0.000 MB deduped)\\r'), FloatProgress(value=0.0, max…"
      ]
     },
     "metadata": {},
     "output_type": "display_data"
    },
    {
     "data": {
      "text/html": [
       "<style>\n",
       "    table.wandb td:nth-child(1) { padding: 0 10px; text-align: left ; width: auto;} td:nth-child(2) {text-align: left ; width: 100%}\n",
       "    .wandb-row { display: flex; flex-direction: row; flex-wrap: wrap; justify-content: flex-start; width: 100% }\n",
       "    .wandb-col { display: flex; flex-direction: column; flex-basis: 100%; flex: 1; padding: 10px; }\n",
       "    </style>\n",
       "<div class=\"wandb-row\"><div class=\"wandb-col\"><h3>Run summary:</h3><br/><table class=\"wandb\"><tr><td>allocate_tensors_ms_%</td><td>0.635</td></tr><tr><td>allocate_tensors_ms_avg</td><td>0.06</td></tr><tr><td>allocate_tensors_ms_first</td><td>0.06</td></tr><tr><td>arena_size</td><td>333456</td></tr><tr><td>first_inference_us</td><td>4133</td></tr><tr><td>inference_avg_us</td><td>839.276</td></tr><tr><td>init_us</td><td>192297</td></tr><tr><td>initialization_ms</td><td>192.297</td></tr><tr><td>model_size_MB</td><td>0.27518</td></tr><tr><td>modify_graph_with_delegate_mem_KB</td><td>1124</td></tr><tr><td>modify_graph_with_delegate_ms_%</td><td>99.365</td></tr><tr><td>modify_graph_with_delegate_ms_avg</td><td>9.388</td></tr><tr><td>modify_graph_with_delegate_ms_first</td><td>9.388</td></tr><tr><td>warmup_avg_us</td><td>774.28</td></tr></table><br/></div></div>"
      ],
      "text/plain": [
       "<IPython.core.display.HTML object>"
      ]
     },
     "metadata": {},
     "output_type": "display_data"
    },
    {
     "data": {
      "text/html": [
       " View run <strong style=\"color:#cdcd00\">mobilenetv2_0.25_96_c3_o2_t6l128.MV1</strong> at: <a href=\"https://wandb.ai/susbrock/model_DB/runs/exjgrqit\" target=\"_blank\">https://wandb.ai/susbrock/model_DB/runs/exjgrqit</a><br/>Synced 3 W&B file(s), 0 media file(s), 0 artifact file(s) and 1 other file(s)"
      ],
      "text/plain": [
       "<IPython.core.display.HTML object>"
      ]
     },
     "metadata": {},
     "output_type": "display_data"
    },
    {
     "data": {
      "text/html": [
       "Find logs at: <code>.\\wandb\\run-20230301_205535-exjgrqit\\logs</code>"
      ],
      "text/plain": [
       "<IPython.core.display.HTML object>"
      ]
     },
     "metadata": {},
     "output_type": "display_data"
    },
    {
     "data": {
      "text/html": [
       "Successfully finished last run (ID:exjgrqit). Initializing new run:<br/>"
      ],
      "text/plain": [
       "<IPython.core.display.HTML object>"
      ]
     },
     "metadata": {},
     "output_type": "display_data"
    },
    {
     "data": {
      "application/vnd.jupyter.widget-view+json": {
       "model_id": "05a36f36f29f42e3bf9e721e5bb4edbf",
       "version_major": 2,
       "version_minor": 0
      },
      "text/plain": [
       "VBox(children=(Label(value='Waiting for wandb.init()...\\r'), FloatProgress(value=0.016933333333334608, max=1.0…"
      ]
     },
     "metadata": {},
     "output_type": "display_data"
    },
    {
     "data": {
      "text/html": [
       "wandb version 0.13.10 is available!  To upgrade, please run:\n",
       " $ pip install wandb --upgrade"
      ],
      "text/plain": [
       "<IPython.core.display.HTML object>"
      ]
     },
     "metadata": {},
     "output_type": "display_data"
    },
    {
     "data": {
      "text/html": [
       "Tracking run with wandb version 0.13.9"
      ],
      "text/plain": [
       "<IPython.core.display.HTML object>"
      ]
     },
     "metadata": {},
     "output_type": "display_data"
    },
    {
     "data": {
      "text/html": [
       "Run data is saved locally in <code>i:\\tinyml\\tiny_cnn\\wandb\\run-20230301_205543-dl8ye13s</code>"
      ],
      "text/plain": [
       "<IPython.core.display.HTML object>"
      ]
     },
     "metadata": {},
     "output_type": "display_data"
    },
    {
     "data": {
      "text/html": [
       "Resuming run <strong><a href=\"https://wandb.ai/susbrock/model_DB/runs/dl8ye13s\" target=\"_blank\">mobilenetv2_0.25_96_c3_o2_t6l256.MV1</a></strong> to <a href=\"https://wandb.ai/susbrock/model_DB\" target=\"_blank\">Weights & Biases</a> (<a href=\"https://wandb.me/run\" target=\"_blank\">docs</a>)<br/>"
      ],
      "text/plain": [
       "<IPython.core.display.HTML object>"
      ]
     },
     "metadata": {},
     "output_type": "display_data"
    },
    {
     "data": {
      "text/html": [
       " View project at <a href=\"https://wandb.ai/susbrock/model_DB\" target=\"_blank\">https://wandb.ai/susbrock/model_DB</a>"
      ],
      "text/plain": [
       "<IPython.core.display.HTML object>"
      ]
     },
     "metadata": {},
     "output_type": "display_data"
    },
    {
     "data": {
      "text/html": [
       " View run at <a href=\"https://wandb.ai/susbrock/model_DB/runs/dl8ye13s\" target=\"_blank\">https://wandb.ai/susbrock/model_DB/runs/dl8ye13s</a>"
      ],
      "text/plain": [
       "<IPython.core.display.HTML object>"
      ]
     },
     "metadata": {},
     "output_type": "display_data"
    },
    {
     "name": "stdout",
     "output_type": "stream",
     "text": [
      "mobilenetv2_0.25_96_c3_o2_t6l256.MV1 has no run_id\n",
      "z7yhusdp\n"
     ]
    },
    {
     "data": {
      "text/html": [
       "Finishing last run (ID:dl8ye13s) before initializing another..."
      ],
      "text/plain": [
       "<IPython.core.display.HTML object>"
      ]
     },
     "metadata": {},
     "output_type": "display_data"
    },
    {
     "data": {
      "text/html": [
       "Waiting for W&B process to finish... <strong style=\"color:green\">(success).</strong>"
      ],
      "text/plain": [
       "<IPython.core.display.HTML object>"
      ]
     },
     "metadata": {},
     "output_type": "display_data"
    },
    {
     "data": {
      "text/html": [
       "<style>\n",
       "    table.wandb td:nth-child(1) { padding: 0 10px; text-align: left ; width: auto;} td:nth-child(2) {text-align: left ; width: 100%}\n",
       "    .wandb-row { display: flex; flex-direction: row; flex-wrap: wrap; justify-content: flex-start; width: 100% }\n",
       "    .wandb-col { display: flex; flex-direction: column; flex-basis: 100%; flex: 1; padding: 10px; }\n",
       "    </style>\n",
       "<div class=\"wandb-row\"><div class=\"wandb-col\"><h3>Run summary:</h3><br/><table class=\"wandb\"><tr><td>allocate_tensors_ms_%</td><td>0.425</td></tr><tr><td>allocate_tensors_ms_avg</td><td>0.06</td></tr><tr><td>allocate_tensors_ms_first</td><td>0.06</td></tr><tr><td>arena_size</td><td>334480</td></tr><tr><td>first_inference_us</td><td>6336</td></tr><tr><td>inference_avg_us</td><td>816.278</td></tr><tr><td>init_us</td><td>201951</td></tr><tr><td>initialization_ms</td><td>201.951</td></tr><tr><td>model_size_MB</td><td>0.28926</td></tr><tr><td>modify_graph_with_delegate_mem_KB</td><td>1248</td></tr><tr><td>modify_graph_with_delegate_ms_%</td><td>99.575</td></tr><tr><td>modify_graph_with_delegate_ms_avg</td><td>14.061</td></tr><tr><td>modify_graph_with_delegate_ms_first</td><td>14.061</td></tr><tr><td>warmup_avg_us</td><td>966.786</td></tr></table><br/></div></div>"
      ],
      "text/plain": [
       "<IPython.core.display.HTML object>"
      ]
     },
     "metadata": {},
     "output_type": "display_data"
    },
    {
     "data": {
      "text/html": [
       " View run <strong style=\"color:#cdcd00\">mobilenetv2_0.25_96_c3_o2_t6l256.MV1</strong> at: <a href=\"https://wandb.ai/susbrock/model_DB/runs/dl8ye13s\" target=\"_blank\">https://wandb.ai/susbrock/model_DB/runs/dl8ye13s</a><br/>Synced 3 W&B file(s), 0 media file(s), 0 artifact file(s) and 0 other file(s)"
      ],
      "text/plain": [
       "<IPython.core.display.HTML object>"
      ]
     },
     "metadata": {},
     "output_type": "display_data"
    },
    {
     "data": {
      "text/html": [
       "Find logs at: <code>.\\wandb\\run-20230301_205543-dl8ye13s\\logs</code>"
      ],
      "text/plain": [
       "<IPython.core.display.HTML object>"
      ]
     },
     "metadata": {},
     "output_type": "display_data"
    },
    {
     "data": {
      "text/html": [
       "Successfully finished last run (ID:dl8ye13s). Initializing new run:<br/>"
      ],
      "text/plain": [
       "<IPython.core.display.HTML object>"
      ]
     },
     "metadata": {},
     "output_type": "display_data"
    },
    {
     "data": {
      "application/vnd.jupyter.widget-view+json": {
       "model_id": "5adca72469b741deb5a4ea4e70967cf6",
       "version_major": 2,
       "version_minor": 0
      },
      "text/plain": [
       "VBox(children=(Label(value='Waiting for wandb.init()...\\r'), FloatProgress(value=0.016916666666664543, max=1.0…"
      ]
     },
     "metadata": {},
     "output_type": "display_data"
    },
    {
     "data": {
      "text/html": [
       "wandb version 0.13.10 is available!  To upgrade, please run:\n",
       " $ pip install wandb --upgrade"
      ],
      "text/plain": [
       "<IPython.core.display.HTML object>"
      ]
     },
     "metadata": {},
     "output_type": "display_data"
    },
    {
     "data": {
      "text/html": [
       "Tracking run with wandb version 0.13.9"
      ],
      "text/plain": [
       "<IPython.core.display.HTML object>"
      ]
     },
     "metadata": {},
     "output_type": "display_data"
    },
    {
     "data": {
      "text/html": [
       "Run data is saved locally in <code>i:\\tinyml\\tiny_cnn\\wandb\\run-20230301_205550-z7yhusdp</code>"
      ],
      "text/plain": [
       "<IPython.core.display.HTML object>"
      ]
     },
     "metadata": {},
     "output_type": "display_data"
    },
    {
     "data": {
      "text/html": [
       "Resuming run <strong><a href=\"https://wandb.ai/susbrock/model_DB/runs/z7yhusdp\" target=\"_blank\">mobilenetv2_0.2_96_c3_o2_t6l512.MV1</a></strong> to <a href=\"https://wandb.ai/susbrock/model_DB\" target=\"_blank\">Weights & Biases</a> (<a href=\"https://wandb.me/run\" target=\"_blank\">docs</a>)<br/>"
      ],
      "text/plain": [
       "<IPython.core.display.HTML object>"
      ]
     },
     "metadata": {},
     "output_type": "display_data"
    },
    {
     "data": {
      "text/html": [
       " View project at <a href=\"https://wandb.ai/susbrock/model_DB\" target=\"_blank\">https://wandb.ai/susbrock/model_DB</a>"
      ],
      "text/plain": [
       "<IPython.core.display.HTML object>"
      ]
     },
     "metadata": {},
     "output_type": "display_data"
    },
    {
     "data": {
      "text/html": [
       " View run at <a href=\"https://wandb.ai/susbrock/model_DB/runs/z7yhusdp\" target=\"_blank\">https://wandb.ai/susbrock/model_DB/runs/z7yhusdp</a>"
      ],
      "text/plain": [
       "<IPython.core.display.HTML object>"
      ]
     },
     "metadata": {},
     "output_type": "display_data"
    },
    {
     "name": "stdout",
     "output_type": "stream",
     "text": [
      "mobilenetv2_0.2_96_c3_o2_t6l512.MV1 has no run_id\n",
      "vza09c9w\n"
     ]
    },
    {
     "data": {
      "text/html": [
       "Finishing last run (ID:z7yhusdp) before initializing another..."
      ],
      "text/plain": [
       "<IPython.core.display.HTML object>"
      ]
     },
     "metadata": {},
     "output_type": "display_data"
    },
    {
     "data": {
      "text/html": [
       "Waiting for W&B process to finish... <strong style=\"color:green\">(success).</strong>"
      ],
      "text/plain": [
       "<IPython.core.display.HTML object>"
      ]
     },
     "metadata": {},
     "output_type": "display_data"
    },
    {
     "data": {
      "application/vnd.jupyter.widget-view+json": {
       "model_id": "1cfde84c4bf248cbbc8633dcb5937ad7",
       "version_major": 2,
       "version_minor": 0
      },
      "text/plain": [
       "VBox(children=(Label(value='0.000 MB of 0.008 MB uploaded (0.000 MB deduped)\\r'), FloatProgress(value=0.0, max…"
      ]
     },
     "metadata": {},
     "output_type": "display_data"
    },
    {
     "data": {
      "text/html": [
       "<style>\n",
       "    table.wandb td:nth-child(1) { padding: 0 10px; text-align: left ; width: auto;} td:nth-child(2) {text-align: left ; width: 100%}\n",
       "    .wandb-row { display: flex; flex-direction: row; flex-wrap: wrap; justify-content: flex-start; width: 100% }\n",
       "    .wandb-col { display: flex; flex-direction: column; flex-basis: 100%; flex: 1; padding: 10px; }\n",
       "    </style>\n",
       "<div class=\"wandb-row\"><div class=\"wandb-col\"><h3>Run summary:</h3><br/><table class=\"wandb\"><tr><td>allocate_tensors_ms_%</td><td>0.443</td></tr><tr><td>allocate_tensors_ms_avg</td><td>0.04</td></tr><tr><td>allocate_tensors_ms_first</td><td>0.04</td></tr><tr><td>arena_size</td><td>260816</td></tr><tr><td>first_inference_us</td><td>5055</td></tr><tr><td>inference_avg_us</td><td>743.747</td></tr><tr><td>init_us</td><td>202136</td></tr><tr><td>initialization_ms</td><td>202.136</td></tr><tr><td>model_size_MB</td><td>0.2438</td></tr><tr><td>modify_graph_with_delegate_mem_KB</td><td>1152</td></tr><tr><td>modify_graph_with_delegate_ms_%</td><td>99.557</td></tr><tr><td>modify_graph_with_delegate_ms_avg</td><td>8.985</td></tr><tr><td>modify_graph_with_delegate_ms_first</td><td>8.985</td></tr><tr><td>warmup_avg_us</td><td>771.105</td></tr></table><br/></div></div>"
      ],
      "text/plain": [
       "<IPython.core.display.HTML object>"
      ]
     },
     "metadata": {},
     "output_type": "display_data"
    },
    {
     "data": {
      "text/html": [
       " View run <strong style=\"color:#cdcd00\">mobilenetv2_0.2_96_c3_o2_t6l512.MV1</strong> at: <a href=\"https://wandb.ai/susbrock/model_DB/runs/z7yhusdp\" target=\"_blank\">https://wandb.ai/susbrock/model_DB/runs/z7yhusdp</a><br/>Synced 3 W&B file(s), 0 media file(s), 0 artifact file(s) and 1 other file(s)"
      ],
      "text/plain": [
       "<IPython.core.display.HTML object>"
      ]
     },
     "metadata": {},
     "output_type": "display_data"
    },
    {
     "data": {
      "text/html": [
       "Find logs at: <code>.\\wandb\\run-20230301_205550-z7yhusdp\\logs</code>"
      ],
      "text/plain": [
       "<IPython.core.display.HTML object>"
      ]
     },
     "metadata": {},
     "output_type": "display_data"
    },
    {
     "data": {
      "text/html": [
       "Successfully finished last run (ID:z7yhusdp). Initializing new run:<br/>"
      ],
      "text/plain": [
       "<IPython.core.display.HTML object>"
      ]
     },
     "metadata": {},
     "output_type": "display_data"
    },
    {
     "data": {
      "application/vnd.jupyter.widget-view+json": {
       "model_id": "30a68f93e75749bd9399938477626b27",
       "version_major": 2,
       "version_minor": 0
      },
      "text/plain": [
       "VBox(children=(Label(value='Waiting for wandb.init()...\\r'), FloatProgress(value=0.016666666666666666, max=1.0…"
      ]
     },
     "metadata": {},
     "output_type": "display_data"
    },
    {
     "data": {
      "text/html": [
       "wandb version 0.13.10 is available!  To upgrade, please run:\n",
       " $ pip install wandb --upgrade"
      ],
      "text/plain": [
       "<IPython.core.display.HTML object>"
      ]
     },
     "metadata": {},
     "output_type": "display_data"
    },
    {
     "data": {
      "text/html": [
       "Tracking run with wandb version 0.13.9"
      ],
      "text/plain": [
       "<IPython.core.display.HTML object>"
      ]
     },
     "metadata": {},
     "output_type": "display_data"
    },
    {
     "data": {
      "text/html": [
       "Run data is saved locally in <code>i:\\tinyml\\tiny_cnn\\wandb\\run-20230301_205600-vza09c9w</code>"
      ],
      "text/plain": [
       "<IPython.core.display.HTML object>"
      ]
     },
     "metadata": {},
     "output_type": "display_data"
    },
    {
     "data": {
      "text/html": [
       "Resuming run <strong><a href=\"https://wandb.ai/susbrock/model_DB/runs/vza09c9w\" target=\"_blank\">mobilenetv2_0.2_96_c3_o2_t5l128.MV1</a></strong> to <a href=\"https://wandb.ai/susbrock/model_DB\" target=\"_blank\">Weights & Biases</a> (<a href=\"https://wandb.me/run\" target=\"_blank\">docs</a>)<br/>"
      ],
      "text/plain": [
       "<IPython.core.display.HTML object>"
      ]
     },
     "metadata": {},
     "output_type": "display_data"
    },
    {
     "data": {
      "text/html": [
       " View project at <a href=\"https://wandb.ai/susbrock/model_DB\" target=\"_blank\">https://wandb.ai/susbrock/model_DB</a>"
      ],
      "text/plain": [
       "<IPython.core.display.HTML object>"
      ]
     },
     "metadata": {},
     "output_type": "display_data"
    },
    {
     "data": {
      "text/html": [
       " View run at <a href=\"https://wandb.ai/susbrock/model_DB/runs/vza09c9w\" target=\"_blank\">https://wandb.ai/susbrock/model_DB/runs/vza09c9w</a>"
      ],
      "text/plain": [
       "<IPython.core.display.HTML object>"
      ]
     },
     "metadata": {},
     "output_type": "display_data"
    },
    {
     "name": "stdout",
     "output_type": "stream",
     "text": [
      "mobilenetv2_0.2_96_c3_o2_t5l128.MV1 has no run_id\n",
      "ugmcfb7n\n"
     ]
    },
    {
     "data": {
      "text/html": [
       "Finishing last run (ID:vza09c9w) before initializing another..."
      ],
      "text/plain": [
       "<IPython.core.display.HTML object>"
      ]
     },
     "metadata": {},
     "output_type": "display_data"
    },
    {
     "data": {
      "text/html": [
       "Waiting for W&B process to finish... <strong style=\"color:green\">(success).</strong>"
      ],
      "text/plain": [
       "<IPython.core.display.HTML object>"
      ]
     },
     "metadata": {},
     "output_type": "display_data"
    },
    {
     "data": {
      "text/html": [
       "<style>\n",
       "    table.wandb td:nth-child(1) { padding: 0 10px; text-align: left ; width: auto;} td:nth-child(2) {text-align: left ; width: 100%}\n",
       "    .wandb-row { display: flex; flex-direction: row; flex-wrap: wrap; justify-content: flex-start; width: 100% }\n",
       "    .wandb-col { display: flex; flex-direction: column; flex-basis: 100%; flex: 1; padding: 10px; }\n",
       "    </style>\n",
       "<div class=\"wandb-row\"><div class=\"wandb-col\"><h3>Run summary:</h3><br/><table class=\"wandb\"><tr><td>allocate_tensors_ms_%</td><td>0.506</td></tr><tr><td>allocate_tensors_ms_avg</td><td>0.037</td></tr><tr><td>allocate_tensors_ms_first</td><td>0.037</td></tr><tr><td>first_inference_us</td><td>3821</td></tr><tr><td>inference_avg_us</td><td>453.644</td></tr><tr><td>init_us</td><td>126187</td></tr><tr><td>initialization_ms</td><td>126.187</td></tr><tr><td>model_size_MB</td><td>0.18314</td></tr><tr><td>modify_graph_with_delegate_mem_KB</td><td>1164</td></tr><tr><td>modify_graph_with_delegate_ms_%</td><td>99.494</td></tr><tr><td>modify_graph_with_delegate_ms_avg</td><td>7.282</td></tr><tr><td>modify_graph_with_delegate_ms_first</td><td>7.282</td></tr><tr><td>warmup_avg_us</td><td>451.189</td></tr></table><br/></div></div>"
      ],
      "text/plain": [
       "<IPython.core.display.HTML object>"
      ]
     },
     "metadata": {},
     "output_type": "display_data"
    },
    {
     "data": {
      "text/html": [
       " View run <strong style=\"color:#cdcd00\">mobilenetv2_0.2_96_c3_o2_t5l128.MV1</strong> at: <a href=\"https://wandb.ai/susbrock/model_DB/runs/vza09c9w\" target=\"_blank\">https://wandb.ai/susbrock/model_DB/runs/vza09c9w</a><br/>Synced 3 W&B file(s), 0 media file(s), 0 artifact file(s) and 0 other file(s)"
      ],
      "text/plain": [
       "<IPython.core.display.HTML object>"
      ]
     },
     "metadata": {},
     "output_type": "display_data"
    },
    {
     "data": {
      "text/html": [
       "Find logs at: <code>.\\wandb\\run-20230301_205600-vza09c9w\\logs</code>"
      ],
      "text/plain": [
       "<IPython.core.display.HTML object>"
      ]
     },
     "metadata": {},
     "output_type": "display_data"
    },
    {
     "data": {
      "text/html": [
       "Successfully finished last run (ID:vza09c9w). Initializing new run:<br/>"
      ],
      "text/plain": [
       "<IPython.core.display.HTML object>"
      ]
     },
     "metadata": {},
     "output_type": "display_data"
    },
    {
     "data": {
      "application/vnd.jupyter.widget-view+json": {
       "model_id": "ab34f3aa8a8c4177ab2094ef73524448",
       "version_major": 2,
       "version_minor": 0
      },
      "text/plain": [
       "VBox(children=(Label(value='Waiting for wandb.init()...\\r'), FloatProgress(value=0.016916666666664543, max=1.0…"
      ]
     },
     "metadata": {},
     "output_type": "display_data"
    },
    {
     "data": {
      "text/html": [
       "wandb version 0.13.10 is available!  To upgrade, please run:\n",
       " $ pip install wandb --upgrade"
      ],
      "text/plain": [
       "<IPython.core.display.HTML object>"
      ]
     },
     "metadata": {},
     "output_type": "display_data"
    },
    {
     "data": {
      "text/html": [
       "Tracking run with wandb version 0.13.9"
      ],
      "text/plain": [
       "<IPython.core.display.HTML object>"
      ]
     },
     "metadata": {},
     "output_type": "display_data"
    },
    {
     "data": {
      "text/html": [
       "Run data is saved locally in <code>i:\\tinyml\\tiny_cnn\\wandb\\run-20230301_205608-ugmcfb7n</code>"
      ],
      "text/plain": [
       "<IPython.core.display.HTML object>"
      ]
     },
     "metadata": {},
     "output_type": "display_data"
    },
    {
     "data": {
      "text/html": [
       "Resuming run <strong><a href=\"https://wandb.ai/susbrock/model_DB/runs/ugmcfb7n\" target=\"_blank\">mobilenetv2_0.2_96_c3_o2_t5l256.MV1</a></strong> to <a href=\"https://wandb.ai/susbrock/model_DB\" target=\"_blank\">Weights & Biases</a> (<a href=\"https://wandb.me/run\" target=\"_blank\">docs</a>)<br/>"
      ],
      "text/plain": [
       "<IPython.core.display.HTML object>"
      ]
     },
     "metadata": {},
     "output_type": "display_data"
    },
    {
     "data": {
      "text/html": [
       " View project at <a href=\"https://wandb.ai/susbrock/model_DB\" target=\"_blank\">https://wandb.ai/susbrock/model_DB</a>"
      ],
      "text/plain": [
       "<IPython.core.display.HTML object>"
      ]
     },
     "metadata": {},
     "output_type": "display_data"
    },
    {
     "data": {
      "text/html": [
       " View run at <a href=\"https://wandb.ai/susbrock/model_DB/runs/ugmcfb7n\" target=\"_blank\">https://wandb.ai/susbrock/model_DB/runs/ugmcfb7n</a>"
      ],
      "text/plain": [
       "<IPython.core.display.HTML object>"
      ]
     },
     "metadata": {},
     "output_type": "display_data"
    },
    {
     "name": "stdout",
     "output_type": "stream",
     "text": [
      "mobilenetv2_0.2_96_c3_o2_t5l256.MV1 has no run_id\n",
      "plnel4j1\n"
     ]
    },
    {
     "data": {
      "text/html": [
       "Finishing last run (ID:ugmcfb7n) before initializing another..."
      ],
      "text/plain": [
       "<IPython.core.display.HTML object>"
      ]
     },
     "metadata": {},
     "output_type": "display_data"
    },
    {
     "data": {
      "text/html": [
       "Waiting for W&B process to finish... <strong style=\"color:green\">(success).</strong>"
      ],
      "text/plain": [
       "<IPython.core.display.HTML object>"
      ]
     },
     "metadata": {},
     "output_type": "display_data"
    },
    {
     "data": {
      "application/vnd.jupyter.widget-view+json": {
       "model_id": "487ee79849664357ae758296529c1990",
       "version_major": 2,
       "version_minor": 0
      },
      "text/plain": [
       "VBox(children=(Label(value='0.000 MB of 0.008 MB uploaded (0.000 MB deduped)\\r'), FloatProgress(value=0.0, max…"
      ]
     },
     "metadata": {},
     "output_type": "display_data"
    },
    {
     "data": {
      "text/html": [
       "<style>\n",
       "    table.wandb td:nth-child(1) { padding: 0 10px; text-align: left ; width: auto;} td:nth-child(2) {text-align: left ; width: 100%}\n",
       "    .wandb-row { display: flex; flex-direction: row; flex-wrap: wrap; justify-content: flex-start; width: 100% }\n",
       "    .wandb-col { display: flex; flex-direction: column; flex-basis: 100%; flex: 1; padding: 10px; }\n",
       "    </style>\n",
       "<div class=\"wandb-row\"><div class=\"wandb-col\"><h3>Run summary:</h3><br/><table class=\"wandb\"><tr><td>allocate_tensors_ms_%</td><td>0.895</td></tr><tr><td>allocate_tensors_ms_avg</td><td>0.056</td></tr><tr><td>allocate_tensors_ms_first</td><td>0.056</td></tr><tr><td>first_inference_us</td><td>3839</td></tr><tr><td>inference_avg_us</td><td>469.134</td></tr><tr><td>init_us</td><td>122214</td></tr><tr><td>initialization_ms</td><td>122.214</td></tr><tr><td>model_size_MB</td><td>0.19518</td></tr><tr><td>modify_graph_with_delegate_mem_KB</td><td>1108</td></tr><tr><td>modify_graph_with_delegate_ms_%</td><td>99.105</td></tr><tr><td>modify_graph_with_delegate_ms_avg</td><td>6.201</td></tr><tr><td>modify_graph_with_delegate_ms_first</td><td>6.201</td></tr><tr><td>warmup_avg_us</td><td>445.275</td></tr></table><br/></div></div>"
      ],
      "text/plain": [
       "<IPython.core.display.HTML object>"
      ]
     },
     "metadata": {},
     "output_type": "display_data"
    },
    {
     "data": {
      "text/html": [
       " View run <strong style=\"color:#cdcd00\">mobilenetv2_0.2_96_c3_o2_t5l256.MV1</strong> at: <a href=\"https://wandb.ai/susbrock/model_DB/runs/ugmcfb7n\" target=\"_blank\">https://wandb.ai/susbrock/model_DB/runs/ugmcfb7n</a><br/>Synced 3 W&B file(s), 0 media file(s), 0 artifact file(s) and 1 other file(s)"
      ],
      "text/plain": [
       "<IPython.core.display.HTML object>"
      ]
     },
     "metadata": {},
     "output_type": "display_data"
    },
    {
     "data": {
      "text/html": [
       "Find logs at: <code>.\\wandb\\run-20230301_205608-ugmcfb7n\\logs</code>"
      ],
      "text/plain": [
       "<IPython.core.display.HTML object>"
      ]
     },
     "metadata": {},
     "output_type": "display_data"
    },
    {
     "data": {
      "text/html": [
       "Successfully finished last run (ID:ugmcfb7n). Initializing new run:<br/>"
      ],
      "text/plain": [
       "<IPython.core.display.HTML object>"
      ]
     },
     "metadata": {},
     "output_type": "display_data"
    },
    {
     "data": {
      "application/vnd.jupyter.widget-view+json": {
       "model_id": "b1a64f9735c34ab9961cfc780731771a",
       "version_major": 2,
       "version_minor": 0
      },
      "text/plain": [
       "VBox(children=(Label(value='Waiting for wandb.init()...\\r'), FloatProgress(value=0.016666666666666666, max=1.0…"
      ]
     },
     "metadata": {},
     "output_type": "display_data"
    },
    {
     "data": {
      "text/html": [
       "wandb version 0.13.10 is available!  To upgrade, please run:\n",
       " $ pip install wandb --upgrade"
      ],
      "text/plain": [
       "<IPython.core.display.HTML object>"
      ]
     },
     "metadata": {},
     "output_type": "display_data"
    },
    {
     "data": {
      "text/html": [
       "Tracking run with wandb version 0.13.9"
      ],
      "text/plain": [
       "<IPython.core.display.HTML object>"
      ]
     },
     "metadata": {},
     "output_type": "display_data"
    },
    {
     "data": {
      "text/html": [
       "Run data is saved locally in <code>i:\\tinyml\\tiny_cnn\\wandb\\run-20230301_205617-plnel4j1</code>"
      ],
      "text/plain": [
       "<IPython.core.display.HTML object>"
      ]
     },
     "metadata": {},
     "output_type": "display_data"
    },
    {
     "data": {
      "text/html": [
       "Resuming run <strong><a href=\"https://wandb.ai/susbrock/model_DB/runs/plnel4j1\" target=\"_blank\">mobilenetv2_0.2_96_c3_o2_t5l512.MV1</a></strong> to <a href=\"https://wandb.ai/susbrock/model_DB\" target=\"_blank\">Weights & Biases</a> (<a href=\"https://wandb.me/run\" target=\"_blank\">docs</a>)<br/>"
      ],
      "text/plain": [
       "<IPython.core.display.HTML object>"
      ]
     },
     "metadata": {},
     "output_type": "display_data"
    },
    {
     "data": {
      "text/html": [
       " View project at <a href=\"https://wandb.ai/susbrock/model_DB\" target=\"_blank\">https://wandb.ai/susbrock/model_DB</a>"
      ],
      "text/plain": [
       "<IPython.core.display.HTML object>"
      ]
     },
     "metadata": {},
     "output_type": "display_data"
    },
    {
     "data": {
      "text/html": [
       " View run at <a href=\"https://wandb.ai/susbrock/model_DB/runs/plnel4j1\" target=\"_blank\">https://wandb.ai/susbrock/model_DB/runs/plnel4j1</a>"
      ],
      "text/plain": [
       "<IPython.core.display.HTML object>"
      ]
     },
     "metadata": {},
     "output_type": "display_data"
    },
    {
     "name": "stdout",
     "output_type": "stream",
     "text": [
      "mobilenetv2_0.2_96_c3_o2_t5l512.MV1 has no run_id\n",
      "961nygg8\n"
     ]
    },
    {
     "data": {
      "text/html": [
       "Finishing last run (ID:plnel4j1) before initializing another..."
      ],
      "text/plain": [
       "<IPython.core.display.HTML object>"
      ]
     },
     "metadata": {},
     "output_type": "display_data"
    },
    {
     "data": {
      "text/html": [
       "Waiting for W&B process to finish... <strong style=\"color:green\">(success).</strong>"
      ],
      "text/plain": [
       "<IPython.core.display.HTML object>"
      ]
     },
     "metadata": {},
     "output_type": "display_data"
    },
    {
     "data": {
      "application/vnd.jupyter.widget-view+json": {
       "model_id": "5abdd3ddd58a4b8cb2dcc7bc8fc55578",
       "version_major": 2,
       "version_minor": 0
      },
      "text/plain": [
       "VBox(children=(Label(value='0.000 MB of 0.000 MB uploaded (0.000 MB deduped)\\r'), FloatProgress(value=1.0, max…"
      ]
     },
     "metadata": {},
     "output_type": "display_data"
    },
    {
     "data": {
      "text/html": [
       "<style>\n",
       "    table.wandb td:nth-child(1) { padding: 0 10px; text-align: left ; width: auto;} td:nth-child(2) {text-align: left ; width: 100%}\n",
       "    .wandb-row { display: flex; flex-direction: row; flex-wrap: wrap; justify-content: flex-start; width: 100% }\n",
       "    .wandb-col { display: flex; flex-direction: column; flex-basis: 100%; flex: 1; padding: 10px; }\n",
       "    </style>\n",
       "<div class=\"wandb-row\"><div class=\"wandb-col\"><h3>Run summary:</h3><br/><table class=\"wandb\"><tr><td>allocate_tensors_ms_%</td><td>0.445</td></tr><tr><td>allocate_tensors_ms_avg</td><td>0.046</td></tr><tr><td>allocate_tensors_ms_first</td><td>0.046</td></tr><tr><td>first_inference_us</td><td>5728</td></tr><tr><td>inference_avg_us</td><td>457.299</td></tr><tr><td>init_us</td><td>175534</td></tr><tr><td>initialization_ms</td><td>175.534</td></tr><tr><td>model_size_MB</td><td>0.21924</td></tr><tr><td>modify_graph_with_delegate_mem_KB</td><td>1292</td></tr><tr><td>modify_graph_with_delegate_ms_%</td><td>99.555</td></tr><tr><td>modify_graph_with_delegate_ms_avg</td><td>10.299</td></tr><tr><td>modify_graph_with_delegate_ms_first</td><td>10.299</td></tr><tr><td>warmup_avg_us</td><td>529.39</td></tr></table><br/></div></div>"
      ],
      "text/plain": [
       "<IPython.core.display.HTML object>"
      ]
     },
     "metadata": {},
     "output_type": "display_data"
    },
    {
     "data": {
      "text/html": [
       " View run <strong style=\"color:#cdcd00\">mobilenetv2_0.2_96_c3_o2_t5l512.MV1</strong> at: <a href=\"https://wandb.ai/susbrock/model_DB/runs/plnel4j1\" target=\"_blank\">https://wandb.ai/susbrock/model_DB/runs/plnel4j1</a><br/>Synced 3 W&B file(s), 0 media file(s), 0 artifact file(s) and 0 other file(s)"
      ],
      "text/plain": [
       "<IPython.core.display.HTML object>"
      ]
     },
     "metadata": {},
     "output_type": "display_data"
    },
    {
     "data": {
      "text/html": [
       "Find logs at: <code>.\\wandb\\run-20230301_205617-plnel4j1\\logs</code>"
      ],
      "text/plain": [
       "<IPython.core.display.HTML object>"
      ]
     },
     "metadata": {},
     "output_type": "display_data"
    },
    {
     "data": {
      "text/html": [
       "Successfully finished last run (ID:plnel4j1). Initializing new run:<br/>"
      ],
      "text/plain": [
       "<IPython.core.display.HTML object>"
      ]
     },
     "metadata": {},
     "output_type": "display_data"
    },
    {
     "data": {
      "application/vnd.jupyter.widget-view+json": {
       "model_id": "74bcf53889ec4773a363492dd9ad524c",
       "version_major": 2,
       "version_minor": 0
      },
      "text/plain": [
       "VBox(children=(Label(value='Waiting for wandb.init()...\\r'), FloatProgress(value=0.016666666666666666, max=1.0…"
      ]
     },
     "metadata": {},
     "output_type": "display_data"
    },
    {
     "data": {
      "text/html": [
       "wandb version 0.13.10 is available!  To upgrade, please run:\n",
       " $ pip install wandb --upgrade"
      ],
      "text/plain": [
       "<IPython.core.display.HTML object>"
      ]
     },
     "metadata": {},
     "output_type": "display_data"
    },
    {
     "data": {
      "text/html": [
       "Tracking run with wandb version 0.13.9"
      ],
      "text/plain": [
       "<IPython.core.display.HTML object>"
      ]
     },
     "metadata": {},
     "output_type": "display_data"
    },
    {
     "data": {
      "text/html": [
       "Run data is saved locally in <code>i:\\tinyml\\tiny_cnn\\wandb\\run-20230301_205625-961nygg8</code>"
      ],
      "text/plain": [
       "<IPython.core.display.HTML object>"
      ]
     },
     "metadata": {},
     "output_type": "display_data"
    },
    {
     "data": {
      "text/html": [
       "Resuming run <strong><a href=\"https://wandb.ai/susbrock/model_DB/runs/961nygg8\" target=\"_blank\">mobilenetv2_0.2_96_c3_o2_t5l1024.MV1</a></strong> to <a href=\"https://wandb.ai/susbrock/model_DB\" target=\"_blank\">Weights & Biases</a> (<a href=\"https://wandb.me/run\" target=\"_blank\">docs</a>)<br/>"
      ],
      "text/plain": [
       "<IPython.core.display.HTML object>"
      ]
     },
     "metadata": {},
     "output_type": "display_data"
    },
    {
     "data": {
      "text/html": [
       " View project at <a href=\"https://wandb.ai/susbrock/model_DB\" target=\"_blank\">https://wandb.ai/susbrock/model_DB</a>"
      ],
      "text/plain": [
       "<IPython.core.display.HTML object>"
      ]
     },
     "metadata": {},
     "output_type": "display_data"
    },
    {
     "data": {
      "text/html": [
       " View run at <a href=\"https://wandb.ai/susbrock/model_DB/runs/961nygg8\" target=\"_blank\">https://wandb.ai/susbrock/model_DB/runs/961nygg8</a>"
      ],
      "text/plain": [
       "<IPython.core.display.HTML object>"
      ]
     },
     "metadata": {},
     "output_type": "display_data"
    },
    {
     "name": "stdout",
     "output_type": "stream",
     "text": [
      "mobilenetv2_0.2_96_c3_o2_t5l1024.MV1 has no run_id\n",
      "9sv5r00v\n"
     ]
    },
    {
     "data": {
      "text/html": [
       "Finishing last run (ID:961nygg8) before initializing another..."
      ],
      "text/plain": [
       "<IPython.core.display.HTML object>"
      ]
     },
     "metadata": {},
     "output_type": "display_data"
    },
    {
     "data": {
      "text/html": [
       "Waiting for W&B process to finish... <strong style=\"color:green\">(success).</strong>"
      ],
      "text/plain": [
       "<IPython.core.display.HTML object>"
      ]
     },
     "metadata": {},
     "output_type": "display_data"
    },
    {
     "data": {
      "text/html": [
       "<style>\n",
       "    table.wandb td:nth-child(1) { padding: 0 10px; text-align: left ; width: auto;} td:nth-child(2) {text-align: left ; width: 100%}\n",
       "    .wandb-row { display: flex; flex-direction: row; flex-wrap: wrap; justify-content: flex-start; width: 100% }\n",
       "    .wandb-col { display: flex; flex-direction: column; flex-basis: 100%; flex: 1; padding: 10px; }\n",
       "    </style>\n",
       "<div class=\"wandb-row\"><div class=\"wandb-col\"><h3>Run summary:</h3><br/><table class=\"wandb\"><tr><td>allocate_tensors_ms_%</td><td>0.545</td></tr><tr><td>allocate_tensors_ms_avg</td><td>0.037</td></tr><tr><td>allocate_tensors_ms_first</td><td>0.037</td></tr><tr><td>first_inference_us</td><td>4296</td></tr><tr><td>inference_avg_us</td><td>497.256</td></tr><tr><td>init_us</td><td>139942</td></tr><tr><td>initialization_ms</td><td>139.942</td></tr><tr><td>model_size_MB</td><td>0.26737</td></tr><tr><td>modify_graph_with_delegate_mem_KB</td><td>1160</td></tr><tr><td>modify_graph_with_delegate_ms_%</td><td>99.455</td></tr><tr><td>modify_graph_with_delegate_ms_avg</td><td>6.755</td></tr><tr><td>modify_graph_with_delegate_ms_first</td><td>6.755</td></tr><tr><td>warmup_avg_us</td><td>565.734</td></tr></table><br/></div></div>"
      ],
      "text/plain": [
       "<IPython.core.display.HTML object>"
      ]
     },
     "metadata": {},
     "output_type": "display_data"
    },
    {
     "data": {
      "text/html": [
       " View run <strong style=\"color:#cdcd00\">mobilenetv2_0.2_96_c3_o2_t5l1024.MV1</strong> at: <a href=\"https://wandb.ai/susbrock/model_DB/runs/961nygg8\" target=\"_blank\">https://wandb.ai/susbrock/model_DB/runs/961nygg8</a><br/>Synced 3 W&B file(s), 0 media file(s), 0 artifact file(s) and 1 other file(s)"
      ],
      "text/plain": [
       "<IPython.core.display.HTML object>"
      ]
     },
     "metadata": {},
     "output_type": "display_data"
    },
    {
     "data": {
      "text/html": [
       "Find logs at: <code>.\\wandb\\run-20230301_205625-961nygg8\\logs</code>"
      ],
      "text/plain": [
       "<IPython.core.display.HTML object>"
      ]
     },
     "metadata": {},
     "output_type": "display_data"
    },
    {
     "data": {
      "text/html": [
       "Successfully finished last run (ID:961nygg8). Initializing new run:<br/>"
      ],
      "text/plain": [
       "<IPython.core.display.HTML object>"
      ]
     },
     "metadata": {},
     "output_type": "display_data"
    },
    {
     "data": {
      "application/vnd.jupyter.widget-view+json": {
       "model_id": "488352e51d9845d88ce1a7ae21feb7c6",
       "version_major": 2,
       "version_minor": 0
      },
      "text/plain": [
       "VBox(children=(Label(value='Waiting for wandb.init()...\\r'), FloatProgress(value=0.016933333333334608, max=1.0…"
      ]
     },
     "metadata": {},
     "output_type": "display_data"
    },
    {
     "data": {
      "text/html": [
       "wandb version 0.13.10 is available!  To upgrade, please run:\n",
       " $ pip install wandb --upgrade"
      ],
      "text/plain": [
       "<IPython.core.display.HTML object>"
      ]
     },
     "metadata": {},
     "output_type": "display_data"
    },
    {
     "data": {
      "text/html": [
       "Tracking run with wandb version 0.13.9"
      ],
      "text/plain": [
       "<IPython.core.display.HTML object>"
      ]
     },
     "metadata": {},
     "output_type": "display_data"
    },
    {
     "data": {
      "text/html": [
       "Run data is saved locally in <code>i:\\tinyml\\tiny_cnn\\wandb\\run-20230301_205633-9sv5r00v</code>"
      ],
      "text/plain": [
       "<IPython.core.display.HTML object>"
      ]
     },
     "metadata": {},
     "output_type": "display_data"
    },
    {
     "data": {
      "text/html": [
       "Resuming run <strong><a href=\"https://wandb.ai/susbrock/model_DB/runs/9sv5r00v\" target=\"_blank\">mobilenetv2_0.2_96_c3_o2_t6l1024.MV1</a></strong> to <a href=\"https://wandb.ai/susbrock/model_DB\" target=\"_blank\">Weights & Biases</a> (<a href=\"https://wandb.me/run\" target=\"_blank\">docs</a>)<br/>"
      ],
      "text/plain": [
       "<IPython.core.display.HTML object>"
      ]
     },
     "metadata": {},
     "output_type": "display_data"
    },
    {
     "data": {
      "text/html": [
       " View project at <a href=\"https://wandb.ai/susbrock/model_DB\" target=\"_blank\">https://wandb.ai/susbrock/model_DB</a>"
      ],
      "text/plain": [
       "<IPython.core.display.HTML object>"
      ]
     },
     "metadata": {},
     "output_type": "display_data"
    },
    {
     "data": {
      "text/html": [
       " View run at <a href=\"https://wandb.ai/susbrock/model_DB/runs/9sv5r00v\" target=\"_blank\">https://wandb.ai/susbrock/model_DB/runs/9sv5r00v</a>"
      ],
      "text/plain": [
       "<IPython.core.display.HTML object>"
      ]
     },
     "metadata": {},
     "output_type": "display_data"
    },
    {
     "name": "stdout",
     "output_type": "stream",
     "text": [
      "mobilenetv2_0.2_96_c3_o2_t6l1024.MV1 has no run_id\n",
      "bifxqx73\n"
     ]
    },
    {
     "data": {
      "text/html": [
       "Finishing last run (ID:9sv5r00v) before initializing another..."
      ],
      "text/plain": [
       "<IPython.core.display.HTML object>"
      ]
     },
     "metadata": {},
     "output_type": "display_data"
    },
    {
     "data": {
      "text/html": [
       "Waiting for W&B process to finish... <strong style=\"color:green\">(success).</strong>"
      ],
      "text/plain": [
       "<IPython.core.display.HTML object>"
      ]
     },
     "metadata": {},
     "output_type": "display_data"
    },
    {
     "data": {
      "application/vnd.jupyter.widget-view+json": {
       "model_id": "8e0db27f57bd45ecb051cba0c591c52a",
       "version_major": 2,
       "version_minor": 0
      },
      "text/plain": [
       "VBox(children=(Label(value='0.000 MB of 0.008 MB uploaded (0.000 MB deduped)\\r'), FloatProgress(value=0.0, max…"
      ]
     },
     "metadata": {},
     "output_type": "display_data"
    },
    {
     "data": {
      "text/html": [
       "<style>\n",
       "    table.wandb td:nth-child(1) { padding: 0 10px; text-align: left ; width: auto;} td:nth-child(2) {text-align: left ; width: 100%}\n",
       "    .wandb-row { display: flex; flex-direction: row; flex-wrap: wrap; justify-content: flex-start; width: 100% }\n",
       "    .wandb-col { display: flex; flex-direction: column; flex-basis: 100%; flex: 1; padding: 10px; }\n",
       "    </style>\n",
       "<div class=\"wandb-row\"><div class=\"wandb-col\"><h3>Run summary:</h3><br/><table class=\"wandb\"><tr><td>allocate_tensors_ms_%</td><td>0.106</td></tr><tr><td>allocate_tensors_ms_avg</td><td>0.047</td></tr><tr><td>allocate_tensors_ms_first</td><td>0.047</td></tr><tr><td>first_inference_us</td><td>33902</td></tr><tr><td>inference_avg_us</td><td>603.257</td></tr><tr><td>init_us</td><td>3974654</td></tr><tr><td>initialization_ms</td><td>3974.65</td></tr><tr><td>model_size_MB</td><td>0.29193</td></tr><tr><td>modify_graph_with_delegate_mem_KB</td><td>1328</td></tr><tr><td>modify_graph_with_delegate_ms_%</td><td>99.894</td></tr><tr><td>modify_graph_with_delegate_ms_avg</td><td>44.168</td></tr><tr><td>modify_graph_with_delegate_ms_first</td><td>44.168</td></tr><tr><td>warmup_avg_us</td><td>631.371</td></tr></table><br/></div></div>"
      ],
      "text/plain": [
       "<IPython.core.display.HTML object>"
      ]
     },
     "metadata": {},
     "output_type": "display_data"
    },
    {
     "data": {
      "text/html": [
       " View run <strong style=\"color:#cdcd00\">mobilenetv2_0.2_96_c3_o2_t6l1024.MV1</strong> at: <a href=\"https://wandb.ai/susbrock/model_DB/runs/9sv5r00v\" target=\"_blank\">https://wandb.ai/susbrock/model_DB/runs/9sv5r00v</a><br/>Synced 3 W&B file(s), 0 media file(s), 0 artifact file(s) and 0 other file(s)"
      ],
      "text/plain": [
       "<IPython.core.display.HTML object>"
      ]
     },
     "metadata": {},
     "output_type": "display_data"
    },
    {
     "data": {
      "text/html": [
       "Find logs at: <code>.\\wandb\\run-20230301_205633-9sv5r00v\\logs</code>"
      ],
      "text/plain": [
       "<IPython.core.display.HTML object>"
      ]
     },
     "metadata": {},
     "output_type": "display_data"
    },
    {
     "data": {
      "text/html": [
       "Successfully finished last run (ID:9sv5r00v). Initializing new run:<br/>"
      ],
      "text/plain": [
       "<IPython.core.display.HTML object>"
      ]
     },
     "metadata": {},
     "output_type": "display_data"
    },
    {
     "data": {
      "application/vnd.jupyter.widget-view+json": {
       "model_id": "a422b470cda54c6fab4d060c8c88ab0b",
       "version_major": 2,
       "version_minor": 0
      },
      "text/plain": [
       "VBox(children=(Label(value='Waiting for wandb.init()...\\r'), FloatProgress(value=0.016916666666664543, max=1.0…"
      ]
     },
     "metadata": {},
     "output_type": "display_data"
    },
    {
     "data": {
      "text/html": [
       "wandb version 0.13.10 is available!  To upgrade, please run:\n",
       " $ pip install wandb --upgrade"
      ],
      "text/plain": [
       "<IPython.core.display.HTML object>"
      ]
     },
     "metadata": {},
     "output_type": "display_data"
    },
    {
     "data": {
      "text/html": [
       "Tracking run with wandb version 0.13.9"
      ],
      "text/plain": [
       "<IPython.core.display.HTML object>"
      ]
     },
     "metadata": {},
     "output_type": "display_data"
    },
    {
     "data": {
      "text/html": [
       "Run data is saved locally in <code>i:\\tinyml\\tiny_cnn\\wandb\\run-20230301_205642-bifxqx73</code>"
      ],
      "text/plain": [
       "<IPython.core.display.HTML object>"
      ]
     },
     "metadata": {},
     "output_type": "display_data"
    },
    {
     "data": {
      "text/html": [
       "Resuming run <strong><a href=\"https://wandb.ai/susbrock/model_DB/runs/bifxqx73\" target=\"_blank\">mobilenetv2_0.1_96_c3_o2_t6l512.MV1</a></strong> to <a href=\"https://wandb.ai/susbrock/model_DB\" target=\"_blank\">Weights & Biases</a> (<a href=\"https://wandb.me/run\" target=\"_blank\">docs</a>)<br/>"
      ],
      "text/plain": [
       "<IPython.core.display.HTML object>"
      ]
     },
     "metadata": {},
     "output_type": "display_data"
    },
    {
     "data": {
      "text/html": [
       " View project at <a href=\"https://wandb.ai/susbrock/model_DB\" target=\"_blank\">https://wandb.ai/susbrock/model_DB</a>"
      ],
      "text/plain": [
       "<IPython.core.display.HTML object>"
      ]
     },
     "metadata": {},
     "output_type": "display_data"
    },
    {
     "data": {
      "text/html": [
       " View run at <a href=\"https://wandb.ai/susbrock/model_DB/runs/bifxqx73\" target=\"_blank\">https://wandb.ai/susbrock/model_DB/runs/bifxqx73</a>"
      ],
      "text/plain": [
       "<IPython.core.display.HTML object>"
      ]
     },
     "metadata": {},
     "output_type": "display_data"
    },
    {
     "name": "stdout",
     "output_type": "stream",
     "text": [
      "mobilenetv2_0.1_96_c3_o2_t6l512.MV1 has no run_id\n",
      "22bzuzhv\n"
     ]
    },
    {
     "data": {
      "text/html": [
       "Finishing last run (ID:bifxqx73) before initializing another..."
      ],
      "text/plain": [
       "<IPython.core.display.HTML object>"
      ]
     },
     "metadata": {},
     "output_type": "display_data"
    },
    {
     "data": {
      "text/html": [
       "Waiting for W&B process to finish... <strong style=\"color:green\">(success).</strong>"
      ],
      "text/plain": [
       "<IPython.core.display.HTML object>"
      ]
     },
     "metadata": {},
     "output_type": "display_data"
    },
    {
     "data": {
      "application/vnd.jupyter.widget-view+json": {
       "model_id": "159ed94997574aa982d8cbe063450394",
       "version_major": 2,
       "version_minor": 0
      },
      "text/plain": [
       "VBox(children=(Label(value='0.000 MB of 0.008 MB uploaded (0.000 MB deduped)\\r'), FloatProgress(value=0.0, max…"
      ]
     },
     "metadata": {},
     "output_type": "display_data"
    },
    {
     "data": {
      "text/html": [
       "<style>\n",
       "    table.wandb td:nth-child(1) { padding: 0 10px; text-align: left ; width: auto;} td:nth-child(2) {text-align: left ; width: 100%}\n",
       "    .wandb-row { display: flex; flex-direction: row; flex-wrap: wrap; justify-content: flex-start; width: 100% }\n",
       "    .wandb-col { display: flex; flex-direction: column; flex-basis: 100%; flex: 1; padding: 10px; }\n",
       "    </style>\n",
       "<div class=\"wandb-row\"><div class=\"wandb-col\"><h3>Run summary:</h3><br/><table class=\"wandb\"><tr><td>allocate_tensors_ms_%</td><td>0.621</td></tr><tr><td>allocate_tensors_ms_avg</td><td>0.04</td></tr><tr><td>allocate_tensors_ms_first</td><td>0.04</td></tr><tr><td>first_inference_us</td><td>3765</td></tr><tr><td>inference_avg_us</td><td>446.524</td></tr><tr><td>init_us</td><td>117419</td></tr><tr><td>initialization_ms</td><td>117.419</td></tr><tr><td>model_size_MB</td><td>0.13202</td></tr><tr><td>modify_graph_with_delegate_mem_KB</td><td>784</td></tr><tr><td>modify_graph_with_delegate_ms_%</td><td>99.379</td></tr><tr><td>modify_graph_with_delegate_ms_avg</td><td>6.397</td></tr><tr><td>modify_graph_with_delegate_ms_first</td><td>6.397</td></tr><tr><td>warmup_avg_us</td><td>419.085</td></tr></table><br/></div></div>"
      ],
      "text/plain": [
       "<IPython.core.display.HTML object>"
      ]
     },
     "metadata": {},
     "output_type": "display_data"
    },
    {
     "data": {
      "text/html": [
       " View run <strong style=\"color:#cdcd00\">mobilenetv2_0.1_96_c3_o2_t6l512.MV1</strong> at: <a href=\"https://wandb.ai/susbrock/model_DB/runs/bifxqx73\" target=\"_blank\">https://wandb.ai/susbrock/model_DB/runs/bifxqx73</a><br/>Synced 3 W&B file(s), 0 media file(s), 0 artifact file(s) and 1 other file(s)"
      ],
      "text/plain": [
       "<IPython.core.display.HTML object>"
      ]
     },
     "metadata": {},
     "output_type": "display_data"
    },
    {
     "data": {
      "text/html": [
       "Find logs at: <code>.\\wandb\\run-20230301_205642-bifxqx73\\logs</code>"
      ],
      "text/plain": [
       "<IPython.core.display.HTML object>"
      ]
     },
     "metadata": {},
     "output_type": "display_data"
    },
    {
     "data": {
      "text/html": [
       "Successfully finished last run (ID:bifxqx73). Initializing new run:<br/>"
      ],
      "text/plain": [
       "<IPython.core.display.HTML object>"
      ]
     },
     "metadata": {},
     "output_type": "display_data"
    },
    {
     "data": {
      "application/vnd.jupyter.widget-view+json": {
       "model_id": "f6c6f87c53dd490894ca3e6b3fb808e3",
       "version_major": 2,
       "version_minor": 0
      },
      "text/plain": [
       "VBox(children=(Label(value='Waiting for wandb.init()...\\r'), FloatProgress(value=0.016666666666666666, max=1.0…"
      ]
     },
     "metadata": {},
     "output_type": "display_data"
    },
    {
     "data": {
      "text/html": [
       "wandb version 0.13.10 is available!  To upgrade, please run:\n",
       " $ pip install wandb --upgrade"
      ],
      "text/plain": [
       "<IPython.core.display.HTML object>"
      ]
     },
     "metadata": {},
     "output_type": "display_data"
    },
    {
     "data": {
      "text/html": [
       "Tracking run with wandb version 0.13.9"
      ],
      "text/plain": [
       "<IPython.core.display.HTML object>"
      ]
     },
     "metadata": {},
     "output_type": "display_data"
    },
    {
     "data": {
      "text/html": [
       "Run data is saved locally in <code>i:\\tinyml\\tiny_cnn\\wandb\\run-20230301_205650-22bzuzhv</code>"
      ],
      "text/plain": [
       "<IPython.core.display.HTML object>"
      ]
     },
     "metadata": {},
     "output_type": "display_data"
    },
    {
     "data": {
      "text/html": [
       "Resuming run <strong><a href=\"https://wandb.ai/susbrock/model_DB/runs/22bzuzhv\" target=\"_blank\">mobilenetv2_0.1_96_c3_o2_t6l256.MV1</a></strong> to <a href=\"https://wandb.ai/susbrock/model_DB\" target=\"_blank\">Weights & Biases</a> (<a href=\"https://wandb.me/run\" target=\"_blank\">docs</a>)<br/>"
      ],
      "text/plain": [
       "<IPython.core.display.HTML object>"
      ]
     },
     "metadata": {},
     "output_type": "display_data"
    },
    {
     "data": {
      "text/html": [
       " View project at <a href=\"https://wandb.ai/susbrock/model_DB\" target=\"_blank\">https://wandb.ai/susbrock/model_DB</a>"
      ],
      "text/plain": [
       "<IPython.core.display.HTML object>"
      ]
     },
     "metadata": {},
     "output_type": "display_data"
    },
    {
     "data": {
      "text/html": [
       " View run at <a href=\"https://wandb.ai/susbrock/model_DB/runs/22bzuzhv\" target=\"_blank\">https://wandb.ai/susbrock/model_DB/runs/22bzuzhv</a>"
      ],
      "text/plain": [
       "<IPython.core.display.HTML object>"
      ]
     },
     "metadata": {},
     "output_type": "display_data"
    },
    {
     "name": "stdout",
     "output_type": "stream",
     "text": [
      "mobilenetv2_0.1_96_c3_o2_t6l256.MV1 has no run_id\n",
      "eitbmrqm\n"
     ]
    },
    {
     "data": {
      "text/html": [
       "Finishing last run (ID:22bzuzhv) before initializing another..."
      ],
      "text/plain": [
       "<IPython.core.display.HTML object>"
      ]
     },
     "metadata": {},
     "output_type": "display_data"
    },
    {
     "data": {
      "text/html": [
       "Waiting for W&B process to finish... <strong style=\"color:green\">(success).</strong>"
      ],
      "text/plain": [
       "<IPython.core.display.HTML object>"
      ]
     },
     "metadata": {},
     "output_type": "display_data"
    },
    {
     "data": {
      "application/vnd.jupyter.widget-view+json": {
       "model_id": "ade4cc2beb7e4d1e8cf7ee036d5df66f",
       "version_major": 2,
       "version_minor": 0
      },
      "text/plain": [
       "VBox(children=(Label(value='0.000 MB of 0.002 MB uploaded (0.000 MB deduped)\\r'), FloatProgress(value=0.0, max…"
      ]
     },
     "metadata": {},
     "output_type": "display_data"
    },
    {
     "data": {
      "text/html": [
       "<style>\n",
       "    table.wandb td:nth-child(1) { padding: 0 10px; text-align: left ; width: auto;} td:nth-child(2) {text-align: left ; width: 100%}\n",
       "    .wandb-row { display: flex; flex-direction: row; flex-wrap: wrap; justify-content: flex-start; width: 100% }\n",
       "    .wandb-col { display: flex; flex-direction: column; flex-basis: 100%; flex: 1; padding: 10px; }\n",
       "    </style>\n",
       "<div class=\"wandb-row\"><div class=\"wandb-col\"><h3>Run summary:</h3><br/><table class=\"wandb\"><tr><td>allocate_tensors_ms_%</td><td>0.826</td></tr><tr><td>allocate_tensors_ms_avg</td><td>0.053</td></tr><tr><td>allocate_tensors_ms_first</td><td>0.053</td></tr><tr><td>first_inference_us</td><td>4241</td></tr><tr><td>inference_avg_us</td><td>477.327</td></tr><tr><td>init_us</td><td>127153</td></tr><tr><td>initialization_ms</td><td>127.153</td></tr><tr><td>model_size_MB</td><td>0.11614</td></tr><tr><td>modify_graph_with_delegate_mem_KB</td><td>828</td></tr><tr><td>modify_graph_with_delegate_ms_%</td><td>99.174</td></tr><tr><td>modify_graph_with_delegate_ms_avg</td><td>6.361</td></tr><tr><td>modify_graph_with_delegate_ms_first</td><td>6.361</td></tr><tr><td>warmup_avg_us</td><td>383.701</td></tr></table><br/></div></div>"
      ],
      "text/plain": [
       "<IPython.core.display.HTML object>"
      ]
     },
     "metadata": {},
     "output_type": "display_data"
    },
    {
     "data": {
      "text/html": [
       " View run <strong style=\"color:#cdcd00\">mobilenetv2_0.1_96_c3_o2_t6l256.MV1</strong> at: <a href=\"https://wandb.ai/susbrock/model_DB/runs/22bzuzhv\" target=\"_blank\">https://wandb.ai/susbrock/model_DB/runs/22bzuzhv</a><br/>Synced 3 W&B file(s), 0 media file(s), 0 artifact file(s) and 0 other file(s)"
      ],
      "text/plain": [
       "<IPython.core.display.HTML object>"
      ]
     },
     "metadata": {},
     "output_type": "display_data"
    },
    {
     "data": {
      "text/html": [
       "Find logs at: <code>.\\wandb\\run-20230301_205650-22bzuzhv\\logs</code>"
      ],
      "text/plain": [
       "<IPython.core.display.HTML object>"
      ]
     },
     "metadata": {},
     "output_type": "display_data"
    },
    {
     "data": {
      "text/html": [
       "Successfully finished last run (ID:22bzuzhv). Initializing new run:<br/>"
      ],
      "text/plain": [
       "<IPython.core.display.HTML object>"
      ]
     },
     "metadata": {},
     "output_type": "display_data"
    },
    {
     "data": {
      "application/vnd.jupyter.widget-view+json": {
       "model_id": "def5efd2f99643efa0dbe3996551d903",
       "version_major": 2,
       "version_minor": 0
      },
      "text/plain": [
       "VBox(children=(Label(value='Waiting for wandb.init()...\\r'), FloatProgress(value=0.016933333333334608, max=1.0…"
      ]
     },
     "metadata": {},
     "output_type": "display_data"
    },
    {
     "data": {
      "text/html": [
       "wandb version 0.13.10 is available!  To upgrade, please run:\n",
       " $ pip install wandb --upgrade"
      ],
      "text/plain": [
       "<IPython.core.display.HTML object>"
      ]
     },
     "metadata": {},
     "output_type": "display_data"
    },
    {
     "data": {
      "text/html": [
       "Tracking run with wandb version 0.13.9"
      ],
      "text/plain": [
       "<IPython.core.display.HTML object>"
      ]
     },
     "metadata": {},
     "output_type": "display_data"
    },
    {
     "data": {
      "text/html": [
       "Run data is saved locally in <code>i:\\tinyml\\tiny_cnn\\wandb\\run-20230301_205657-eitbmrqm</code>"
      ],
      "text/plain": [
       "<IPython.core.display.HTML object>"
      ]
     },
     "metadata": {},
     "output_type": "display_data"
    },
    {
     "data": {
      "text/html": [
       "Resuming run <strong><a href=\"https://wandb.ai/susbrock/model_DB/runs/eitbmrqm\" target=\"_blank\">mobilenetv2_0.1_96_c3_o2_t6l128.MV1</a></strong> to <a href=\"https://wandb.ai/susbrock/model_DB\" target=\"_blank\">Weights & Biases</a> (<a href=\"https://wandb.me/run\" target=\"_blank\">docs</a>)<br/>"
      ],
      "text/plain": [
       "<IPython.core.display.HTML object>"
      ]
     },
     "metadata": {},
     "output_type": "display_data"
    },
    {
     "data": {
      "text/html": [
       " View project at <a href=\"https://wandb.ai/susbrock/model_DB\" target=\"_blank\">https://wandb.ai/susbrock/model_DB</a>"
      ],
      "text/plain": [
       "<IPython.core.display.HTML object>"
      ]
     },
     "metadata": {},
     "output_type": "display_data"
    },
    {
     "data": {
      "text/html": [
       " View run at <a href=\"https://wandb.ai/susbrock/model_DB/runs/eitbmrqm\" target=\"_blank\">https://wandb.ai/susbrock/model_DB/runs/eitbmrqm</a>"
      ],
      "text/plain": [
       "<IPython.core.display.HTML object>"
      ]
     },
     "metadata": {},
     "output_type": "display_data"
    },
    {
     "name": "stdout",
     "output_type": "stream",
     "text": [
      "mobilenetv2_0.1_96_c3_o2_t6l128.MV1 has no run_id\n",
      "f8jsvkj6\n"
     ]
    },
    {
     "data": {
      "text/html": [
       "Finishing last run (ID:eitbmrqm) before initializing another..."
      ],
      "text/plain": [
       "<IPython.core.display.HTML object>"
      ]
     },
     "metadata": {},
     "output_type": "display_data"
    },
    {
     "data": {
      "text/html": [
       "Waiting for W&B process to finish... <strong style=\"color:green\">(success).</strong>"
      ],
      "text/plain": [
       "<IPython.core.display.HTML object>"
      ]
     },
     "metadata": {},
     "output_type": "display_data"
    },
    {
     "data": {
      "application/vnd.jupyter.widget-view+json": {
       "model_id": "8f8435b934cb4122881654ee0be3da07",
       "version_major": 2,
       "version_minor": 0
      },
      "text/plain": [
       "VBox(children=(Label(value='0.000 MB of 0.008 MB uploaded (0.000 MB deduped)\\r'), FloatProgress(value=0.0, max…"
      ]
     },
     "metadata": {},
     "output_type": "display_data"
    },
    {
     "data": {
      "text/html": [
       "<style>\n",
       "    table.wandb td:nth-child(1) { padding: 0 10px; text-align: left ; width: auto;} td:nth-child(2) {text-align: left ; width: 100%}\n",
       "    .wandb-row { display: flex; flex-direction: row; flex-wrap: wrap; justify-content: flex-start; width: 100% }\n",
       "    .wandb-col { display: flex; flex-direction: column; flex-basis: 100%; flex: 1; padding: 10px; }\n",
       "    </style>\n",
       "<div class=\"wandb-row\"><div class=\"wandb-col\"><h3>Run summary:</h3><br/><table class=\"wandb\"><tr><td>allocate_tensors_ms_%</td><td>0.5</td></tr><tr><td>allocate_tensors_ms_avg</td><td>0.041</td></tr><tr><td>allocate_tensors_ms_first</td><td>0.041</td></tr><tr><td>first_inference_us</td><td>5737</td></tr><tr><td>inference_avg_us</td><td>420.811</td></tr><tr><td>init_us</td><td>141252</td></tr><tr><td>initialization_ms</td><td>141.252</td></tr><tr><td>model_size_MB</td><td>0.10821</td></tr><tr><td>modify_graph_with_delegate_mem_KB</td><td>1084</td></tr><tr><td>modify_graph_with_delegate_ms_%</td><td>99.5</td></tr><tr><td>modify_graph_with_delegate_ms_avg</td><td>8.151</td></tr><tr><td>modify_graph_with_delegate_ms_first</td><td>8.151</td></tr><tr><td>warmup_avg_us</td><td>470.039</td></tr></table><br/></div></div>"
      ],
      "text/plain": [
       "<IPython.core.display.HTML object>"
      ]
     },
     "metadata": {},
     "output_type": "display_data"
    },
    {
     "data": {
      "text/html": [
       " View run <strong style=\"color:#cdcd00\">mobilenetv2_0.1_96_c3_o2_t6l128.MV1</strong> at: <a href=\"https://wandb.ai/susbrock/model_DB/runs/eitbmrqm\" target=\"_blank\">https://wandb.ai/susbrock/model_DB/runs/eitbmrqm</a><br/>Synced 3 W&B file(s), 0 media file(s), 0 artifact file(s) and 1 other file(s)"
      ],
      "text/plain": [
       "<IPython.core.display.HTML object>"
      ]
     },
     "metadata": {},
     "output_type": "display_data"
    },
    {
     "data": {
      "text/html": [
       "Find logs at: <code>.\\wandb\\run-20230301_205657-eitbmrqm\\logs</code>"
      ],
      "text/plain": [
       "<IPython.core.display.HTML object>"
      ]
     },
     "metadata": {},
     "output_type": "display_data"
    },
    {
     "data": {
      "text/html": [
       "Successfully finished last run (ID:eitbmrqm). Initializing new run:<br/>"
      ],
      "text/plain": [
       "<IPython.core.display.HTML object>"
      ]
     },
     "metadata": {},
     "output_type": "display_data"
    },
    {
     "data": {
      "application/vnd.jupyter.widget-view+json": {
       "model_id": "54ee01317833464caff7b6d00dd4f16d",
       "version_major": 2,
       "version_minor": 0
      },
      "text/plain": [
       "VBox(children=(Label(value='Waiting for wandb.init()...\\r'), FloatProgress(value=0.016666666666666666, max=1.0…"
      ]
     },
     "metadata": {},
     "output_type": "display_data"
    },
    {
     "data": {
      "text/html": [
       "wandb version 0.13.10 is available!  To upgrade, please run:\n",
       " $ pip install wandb --upgrade"
      ],
      "text/plain": [
       "<IPython.core.display.HTML object>"
      ]
     },
     "metadata": {},
     "output_type": "display_data"
    },
    {
     "data": {
      "text/html": [
       "Tracking run with wandb version 0.13.9"
      ],
      "text/plain": [
       "<IPython.core.display.HTML object>"
      ]
     },
     "metadata": {},
     "output_type": "display_data"
    },
    {
     "data": {
      "text/html": [
       "Run data is saved locally in <code>i:\\tinyml\\tiny_cnn\\wandb\\run-20230301_205705-f8jsvkj6</code>"
      ],
      "text/plain": [
       "<IPython.core.display.HTML object>"
      ]
     },
     "metadata": {},
     "output_type": "display_data"
    },
    {
     "data": {
      "text/html": [
       "Resuming run <strong><a href=\"https://wandb.ai/susbrock/model_DB/runs/f8jsvkj6\" target=\"_blank\">mobilenetv2_0.1_96_c3_o2_t3l1024.MV1</a></strong> to <a href=\"https://wandb.ai/susbrock/model_DB\" target=\"_blank\">Weights & Biases</a> (<a href=\"https://wandb.me/run\" target=\"_blank\">docs</a>)<br/>"
      ],
      "text/plain": [
       "<IPython.core.display.HTML object>"
      ]
     },
     "metadata": {},
     "output_type": "display_data"
    },
    {
     "data": {
      "text/html": [
       " View project at <a href=\"https://wandb.ai/susbrock/model_DB\" target=\"_blank\">https://wandb.ai/susbrock/model_DB</a>"
      ],
      "text/plain": [
       "<IPython.core.display.HTML object>"
      ]
     },
     "metadata": {},
     "output_type": "display_data"
    },
    {
     "data": {
      "text/html": [
       " View run at <a href=\"https://wandb.ai/susbrock/model_DB/runs/f8jsvkj6\" target=\"_blank\">https://wandb.ai/susbrock/model_DB/runs/f8jsvkj6</a>"
      ],
      "text/plain": [
       "<IPython.core.display.HTML object>"
      ]
     },
     "metadata": {},
     "output_type": "display_data"
    },
    {
     "name": "stdout",
     "output_type": "stream",
     "text": [
      "mobilenetv2_0.1_96_c3_o2_t3l1024.MV1 has no run_id\n",
      "6oq96cks\n"
     ]
    },
    {
     "data": {
      "text/html": [
       "Finishing last run (ID:f8jsvkj6) before initializing another..."
      ],
      "text/plain": [
       "<IPython.core.display.HTML object>"
      ]
     },
     "metadata": {},
     "output_type": "display_data"
    },
    {
     "data": {
      "text/html": [
       "Waiting for W&B process to finish... <strong style=\"color:green\">(success).</strong>"
      ],
      "text/plain": [
       "<IPython.core.display.HTML object>"
      ]
     },
     "metadata": {},
     "output_type": "display_data"
    },
    {
     "data": {
      "text/html": [
       "<style>\n",
       "    table.wandb td:nth-child(1) { padding: 0 10px; text-align: left ; width: auto;} td:nth-child(2) {text-align: left ; width: 100%}\n",
       "    .wandb-row { display: flex; flex-direction: row; flex-wrap: wrap; justify-content: flex-start; width: 100% }\n",
       "    .wandb-col { display: flex; flex-direction: column; flex-basis: 100%; flex: 1; padding: 10px; }\n",
       "    </style>\n",
       "<div class=\"wandb-row\"><div class=\"wandb-col\"><h3>Run summary:</h3><br/><table class=\"wandb\"><tr><td>allocate_tensors_ms_%</td><td>0.842</td></tr><tr><td>allocate_tensors_ms_avg</td><td>0.094</td></tr><tr><td>allocate_tensors_ms_first</td><td>0.094</td></tr><tr><td>first_inference_us</td><td>5231</td></tr><tr><td>inference_avg_us</td><td>504.294</td></tr><tr><td>init_us</td><td>158510</td></tr><tr><td>initialization_ms</td><td>158.51</td></tr><tr><td>model_size_MB</td><td>0.13608</td></tr><tr><td>modify_graph_with_delegate_mem_KB</td><td>808</td></tr><tr><td>modify_graph_with_delegate_ms_%</td><td>99.158</td></tr><tr><td>modify_graph_with_delegate_ms_avg</td><td>11.073</td></tr><tr><td>modify_graph_with_delegate_ms_first</td><td>11.073</td></tr><tr><td>warmup_avg_us</td><td>516.062</td></tr></table><br/></div></div>"
      ],
      "text/plain": [
       "<IPython.core.display.HTML object>"
      ]
     },
     "metadata": {},
     "output_type": "display_data"
    },
    {
     "data": {
      "text/html": [
       " View run <strong style=\"color:#cdcd00\">mobilenetv2_0.1_96_c3_o2_t3l1024.MV1</strong> at: <a href=\"https://wandb.ai/susbrock/model_DB/runs/f8jsvkj6\" target=\"_blank\">https://wandb.ai/susbrock/model_DB/runs/f8jsvkj6</a><br/>Synced 3 W&B file(s), 0 media file(s), 0 artifact file(s) and 0 other file(s)"
      ],
      "text/plain": [
       "<IPython.core.display.HTML object>"
      ]
     },
     "metadata": {},
     "output_type": "display_data"
    },
    {
     "data": {
      "text/html": [
       "Find logs at: <code>.\\wandb\\run-20230301_205705-f8jsvkj6\\logs</code>"
      ],
      "text/plain": [
       "<IPython.core.display.HTML object>"
      ]
     },
     "metadata": {},
     "output_type": "display_data"
    },
    {
     "data": {
      "text/html": [
       "Successfully finished last run (ID:f8jsvkj6). Initializing new run:<br/>"
      ],
      "text/plain": [
       "<IPython.core.display.HTML object>"
      ]
     },
     "metadata": {},
     "output_type": "display_data"
    },
    {
     "data": {
      "application/vnd.jupyter.widget-view+json": {
       "model_id": "90da78bd56b449819081cf26d5f6b53f",
       "version_major": 2,
       "version_minor": 0
      },
      "text/plain": [
       "VBox(children=(Label(value='Waiting for wandb.init()...\\r'), FloatProgress(value=0.016933333333334608, max=1.0…"
      ]
     },
     "metadata": {},
     "output_type": "display_data"
    },
    {
     "data": {
      "text/html": [
       "wandb version 0.13.10 is available!  To upgrade, please run:\n",
       " $ pip install wandb --upgrade"
      ],
      "text/plain": [
       "<IPython.core.display.HTML object>"
      ]
     },
     "metadata": {},
     "output_type": "display_data"
    },
    {
     "data": {
      "text/html": [
       "Tracking run with wandb version 0.13.9"
      ],
      "text/plain": [
       "<IPython.core.display.HTML object>"
      ]
     },
     "metadata": {},
     "output_type": "display_data"
    },
    {
     "data": {
      "text/html": [
       "Run data is saved locally in <code>i:\\tinyml\\tiny_cnn\\wandb\\run-20230301_205713-6oq96cks</code>"
      ],
      "text/plain": [
       "<IPython.core.display.HTML object>"
      ]
     },
     "metadata": {},
     "output_type": "display_data"
    },
    {
     "data": {
      "text/html": [
       "Resuming run <strong><a href=\"https://wandb.ai/susbrock/model_DB/runs/6oq96cks\" target=\"_blank\">mobilenetv2_0.1_96_c3_o2_t4l1024.MV1</a></strong> to <a href=\"https://wandb.ai/susbrock/model_DB\" target=\"_blank\">Weights & Biases</a> (<a href=\"https://wandb.me/run\" target=\"_blank\">docs</a>)<br/>"
      ],
      "text/plain": [
       "<IPython.core.display.HTML object>"
      ]
     },
     "metadata": {},
     "output_type": "display_data"
    },
    {
     "data": {
      "text/html": [
       " View project at <a href=\"https://wandb.ai/susbrock/model_DB\" target=\"_blank\">https://wandb.ai/susbrock/model_DB</a>"
      ],
      "text/plain": [
       "<IPython.core.display.HTML object>"
      ]
     },
     "metadata": {},
     "output_type": "display_data"
    },
    {
     "data": {
      "text/html": [
       " View run at <a href=\"https://wandb.ai/susbrock/model_DB/runs/6oq96cks\" target=\"_blank\">https://wandb.ai/susbrock/model_DB/runs/6oq96cks</a>"
      ],
      "text/plain": [
       "<IPython.core.display.HTML object>"
      ]
     },
     "metadata": {},
     "output_type": "display_data"
    },
    {
     "name": "stdout",
     "output_type": "stream",
     "text": [
      "mobilenetv2_0.1_96_c3_o2_t4l1024.MV1 has no run_id\n",
      "2vtocbic\n"
     ]
    },
    {
     "data": {
      "text/html": [
       "Finishing last run (ID:6oq96cks) before initializing another..."
      ],
      "text/plain": [
       "<IPython.core.display.HTML object>"
      ]
     },
     "metadata": {},
     "output_type": "display_data"
    },
    {
     "data": {
      "text/html": [
       "Waiting for W&B process to finish... <strong style=\"color:green\">(success).</strong>"
      ],
      "text/plain": [
       "<IPython.core.display.HTML object>"
      ]
     },
     "metadata": {},
     "output_type": "display_data"
    },
    {
     "data": {
      "application/vnd.jupyter.widget-view+json": {
       "model_id": "dd0f25800ab24b1a8692bc1789affa56",
       "version_major": 2,
       "version_minor": 0
      },
      "text/plain": [
       "VBox(children=(Label(value='0.000 MB of 0.008 MB uploaded (0.000 MB deduped)\\r'), FloatProgress(value=0.0, max…"
      ]
     },
     "metadata": {},
     "output_type": "display_data"
    },
    {
     "data": {
      "text/html": [
       "<style>\n",
       "    table.wandb td:nth-child(1) { padding: 0 10px; text-align: left ; width: auto;} td:nth-child(2) {text-align: left ; width: 100%}\n",
       "    .wandb-row { display: flex; flex-direction: row; flex-wrap: wrap; justify-content: flex-start; width: 100% }\n",
       "    .wandb-col { display: flex; flex-direction: column; flex-basis: 100%; flex: 1; padding: 10px; }\n",
       "    </style>\n",
       "<div class=\"wandb-row\"><div class=\"wandb-col\"><h3>Run summary:</h3><br/><table class=\"wandb\"><tr><td>allocate_tensors_ms_%</td><td>0.592</td></tr><tr><td>allocate_tensors_ms_avg</td><td>0.074</td></tr><tr><td>allocate_tensors_ms_first</td><td>0.074</td></tr><tr><td>first_inference_us</td><td>11152</td></tr><tr><td>inference_avg_us</td><td>490.063</td></tr><tr><td>init_us</td><td>154504</td></tr><tr><td>initialization_ms</td><td>154.504</td></tr><tr><td>model_size_MB</td><td>0.14511</td></tr><tr><td>modify_graph_with_delegate_mem_KB</td><td>1232</td></tr><tr><td>modify_graph_with_delegate_ms_%</td><td>99.408</td></tr><tr><td>modify_graph_with_delegate_ms_avg</td><td>12.422</td></tr><tr><td>modify_graph_with_delegate_ms_first</td><td>12.422</td></tr><tr><td>warmup_avg_us</td><td>470.859</td></tr></table><br/></div></div>"
      ],
      "text/plain": [
       "<IPython.core.display.HTML object>"
      ]
     },
     "metadata": {},
     "output_type": "display_data"
    },
    {
     "data": {
      "text/html": [
       " View run <strong style=\"color:#cdcd00\">mobilenetv2_0.1_96_c3_o2_t4l1024.MV1</strong> at: <a href=\"https://wandb.ai/susbrock/model_DB/runs/6oq96cks\" target=\"_blank\">https://wandb.ai/susbrock/model_DB/runs/6oq96cks</a><br/>Synced 3 W&B file(s), 0 media file(s), 0 artifact file(s) and 1 other file(s)"
      ],
      "text/plain": [
       "<IPython.core.display.HTML object>"
      ]
     },
     "metadata": {},
     "output_type": "display_data"
    },
    {
     "data": {
      "text/html": [
       "Find logs at: <code>.\\wandb\\run-20230301_205713-6oq96cks\\logs</code>"
      ],
      "text/plain": [
       "<IPython.core.display.HTML object>"
      ]
     },
     "metadata": {},
     "output_type": "display_data"
    },
    {
     "data": {
      "text/html": [
       "Successfully finished last run (ID:6oq96cks). Initializing new run:<br/>"
      ],
      "text/plain": [
       "<IPython.core.display.HTML object>"
      ]
     },
     "metadata": {},
     "output_type": "display_data"
    },
    {
     "data": {
      "application/vnd.jupyter.widget-view+json": {
       "model_id": "f172f34326e0443ca7558439d1c471bd",
       "version_major": 2,
       "version_minor": 0
      },
      "text/plain": [
       "VBox(children=(Label(value='Waiting for wandb.init()...\\r'), FloatProgress(value=0.016666666666666666, max=1.0…"
      ]
     },
     "metadata": {},
     "output_type": "display_data"
    },
    {
     "data": {
      "text/html": [
       "wandb version 0.13.10 is available!  To upgrade, please run:\n",
       " $ pip install wandb --upgrade"
      ],
      "text/plain": [
       "<IPython.core.display.HTML object>"
      ]
     },
     "metadata": {},
     "output_type": "display_data"
    },
    {
     "data": {
      "text/html": [
       "Tracking run with wandb version 0.13.9"
      ],
      "text/plain": [
       "<IPython.core.display.HTML object>"
      ]
     },
     "metadata": {},
     "output_type": "display_data"
    },
    {
     "data": {
      "text/html": [
       "Run data is saved locally in <code>i:\\tinyml\\tiny_cnn\\wandb\\run-20230301_205722-2vtocbic</code>"
      ],
      "text/plain": [
       "<IPython.core.display.HTML object>"
      ]
     },
     "metadata": {},
     "output_type": "display_data"
    },
    {
     "data": {
      "text/html": [
       "Resuming run <strong><a href=\"https://wandb.ai/susbrock/model_DB/runs/2vtocbic\" target=\"_blank\">mobilenetv2_0.1_96_c3_o2_t5l1024.MV1</a></strong> to <a href=\"https://wandb.ai/susbrock/model_DB\" target=\"_blank\">Weights & Biases</a> (<a href=\"https://wandb.me/run\" target=\"_blank\">docs</a>)<br/>"
      ],
      "text/plain": [
       "<IPython.core.display.HTML object>"
      ]
     },
     "metadata": {},
     "output_type": "display_data"
    },
    {
     "data": {
      "text/html": [
       " View project at <a href=\"https://wandb.ai/susbrock/model_DB\" target=\"_blank\">https://wandb.ai/susbrock/model_DB</a>"
      ],
      "text/plain": [
       "<IPython.core.display.HTML object>"
      ]
     },
     "metadata": {},
     "output_type": "display_data"
    },
    {
     "data": {
      "text/html": [
       " View run at <a href=\"https://wandb.ai/susbrock/model_DB/runs/2vtocbic\" target=\"_blank\">https://wandb.ai/susbrock/model_DB/runs/2vtocbic</a>"
      ],
      "text/plain": [
       "<IPython.core.display.HTML object>"
      ]
     },
     "metadata": {},
     "output_type": "display_data"
    },
    {
     "name": "stdout",
     "output_type": "stream",
     "text": [
      "mobilenetv2_0.1_96_c3_o2_t5l1024.MV1 has no run_id\n",
      "l2ngjsr1\n"
     ]
    },
    {
     "data": {
      "text/html": [
       "Finishing last run (ID:2vtocbic) before initializing another..."
      ],
      "text/plain": [
       "<IPython.core.display.HTML object>"
      ]
     },
     "metadata": {},
     "output_type": "display_data"
    },
    {
     "data": {
      "text/html": [
       "Waiting for W&B process to finish... <strong style=\"color:green\">(success).</strong>"
      ],
      "text/plain": [
       "<IPython.core.display.HTML object>"
      ]
     },
     "metadata": {},
     "output_type": "display_data"
    },
    {
     "data": {
      "application/vnd.jupyter.widget-view+json": {
       "model_id": "4f8e9b2d3db3469db5baf37b486f895b",
       "version_major": 2,
       "version_minor": 0
      },
      "text/plain": [
       "VBox(children=(Label(value='0.000 MB of 0.008 MB uploaded (0.000 MB deduped)\\r'), FloatProgress(value=0.0, max…"
      ]
     },
     "metadata": {},
     "output_type": "display_data"
    },
    {
     "data": {
      "text/html": [
       "<style>\n",
       "    table.wandb td:nth-child(1) { padding: 0 10px; text-align: left ; width: auto;} td:nth-child(2) {text-align: left ; width: 100%}\n",
       "    .wandb-row { display: flex; flex-direction: row; flex-wrap: wrap; justify-content: flex-start; width: 100% }\n",
       "    .wandb-col { display: flex; flex-direction: column; flex-basis: 100%; flex: 1; padding: 10px; }\n",
       "    </style>\n",
       "<div class=\"wandb-row\"><div class=\"wandb-col\"><h3>Run summary:</h3><br/><table class=\"wandb\"><tr><td>allocate_tensors_ms_%</td><td>0.483</td></tr><tr><td>allocate_tensors_ms_avg</td><td>0.044</td></tr><tr><td>allocate_tensors_ms_first</td><td>0.044</td></tr><tr><td>first_inference_us</td><td>4596</td></tr><tr><td>inference_avg_us</td><td>560.136</td></tr><tr><td>init_us</td><td>153335</td></tr><tr><td>initialization_ms</td><td>153.335</td></tr><tr><td>model_size_MB</td><td>0.1545</td></tr><tr><td>modify_graph_with_delegate_mem_KB</td><td>1184</td></tr><tr><td>modify_graph_with_delegate_ms_%</td><td>99.517</td></tr><tr><td>modify_graph_with_delegate_ms_avg</td><td>9.058</td></tr><tr><td>modify_graph_with_delegate_ms_first</td><td>9.058</td></tr><tr><td>warmup_avg_us</td><td>522.499</td></tr></table><br/></div></div>"
      ],
      "text/plain": [
       "<IPython.core.display.HTML object>"
      ]
     },
     "metadata": {},
     "output_type": "display_data"
    },
    {
     "data": {
      "text/html": [
       " View run <strong style=\"color:#cdcd00\">mobilenetv2_0.1_96_c3_o2_t5l1024.MV1</strong> at: <a href=\"https://wandb.ai/susbrock/model_DB/runs/2vtocbic\" target=\"_blank\">https://wandb.ai/susbrock/model_DB/runs/2vtocbic</a><br/>Synced 3 W&B file(s), 0 media file(s), 0 artifact file(s) and 0 other file(s)"
      ],
      "text/plain": [
       "<IPython.core.display.HTML object>"
      ]
     },
     "metadata": {},
     "output_type": "display_data"
    },
    {
     "data": {
      "text/html": [
       "Find logs at: <code>.\\wandb\\run-20230301_205722-2vtocbic\\logs</code>"
      ],
      "text/plain": [
       "<IPython.core.display.HTML object>"
      ]
     },
     "metadata": {},
     "output_type": "display_data"
    },
    {
     "data": {
      "text/html": [
       "Successfully finished last run (ID:2vtocbic). Initializing new run:<br/>"
      ],
      "text/plain": [
       "<IPython.core.display.HTML object>"
      ]
     },
     "metadata": {},
     "output_type": "display_data"
    },
    {
     "data": {
      "application/vnd.jupyter.widget-view+json": {
       "model_id": "09c05efdcbd24de388119af9474e95ea",
       "version_major": 2,
       "version_minor": 0
      },
      "text/plain": [
       "VBox(children=(Label(value='Waiting for wandb.init()...\\r'), FloatProgress(value=0.016933333333334608, max=1.0…"
      ]
     },
     "metadata": {},
     "output_type": "display_data"
    },
    {
     "data": {
      "text/html": [
       "wandb version 0.13.10 is available!  To upgrade, please run:\n",
       " $ pip install wandb --upgrade"
      ],
      "text/plain": [
       "<IPython.core.display.HTML object>"
      ]
     },
     "metadata": {},
     "output_type": "display_data"
    },
    {
     "data": {
      "text/html": [
       "Tracking run with wandb version 0.13.9"
      ],
      "text/plain": [
       "<IPython.core.display.HTML object>"
      ]
     },
     "metadata": {},
     "output_type": "display_data"
    },
    {
     "data": {
      "text/html": [
       "Run data is saved locally in <code>i:\\tinyml\\tiny_cnn\\wandb\\run-20230301_205730-l2ngjsr1</code>"
      ],
      "text/plain": [
       "<IPython.core.display.HTML object>"
      ]
     },
     "metadata": {},
     "output_type": "display_data"
    },
    {
     "data": {
      "text/html": [
       "Resuming run <strong><a href=\"https://wandb.ai/susbrock/model_DB/runs/l2ngjsr1\" target=\"_blank\">mobilenetv2_0.1_96_c3_o2_t6l1024.MV1</a></strong> to <a href=\"https://wandb.ai/susbrock/model_DB\" target=\"_blank\">Weights & Biases</a> (<a href=\"https://wandb.me/run\" target=\"_blank\">docs</a>)<br/>"
      ],
      "text/plain": [
       "<IPython.core.display.HTML object>"
      ]
     },
     "metadata": {},
     "output_type": "display_data"
    },
    {
     "data": {
      "text/html": [
       " View project at <a href=\"https://wandb.ai/susbrock/model_DB\" target=\"_blank\">https://wandb.ai/susbrock/model_DB</a>"
      ],
      "text/plain": [
       "<IPython.core.display.HTML object>"
      ]
     },
     "metadata": {},
     "output_type": "display_data"
    },
    {
     "data": {
      "text/html": [
       " View run at <a href=\"https://wandb.ai/susbrock/model_DB/runs/l2ngjsr1\" target=\"_blank\">https://wandb.ai/susbrock/model_DB/runs/l2ngjsr1</a>"
      ],
      "text/plain": [
       "<IPython.core.display.HTML object>"
      ]
     },
     "metadata": {},
     "output_type": "display_data"
    },
    {
     "name": "stdout",
     "output_type": "stream",
     "text": [
      "mobilenetv2_0.1_96_c3_o2_t6l1024.MV1 has no run_id\n",
      "t22m9r3i\n"
     ]
    },
    {
     "data": {
      "text/html": [
       "Finishing last run (ID:l2ngjsr1) before initializing another..."
      ],
      "text/plain": [
       "<IPython.core.display.HTML object>"
      ]
     },
     "metadata": {},
     "output_type": "display_data"
    },
    {
     "data": {
      "text/html": [
       "Waiting for W&B process to finish... <strong style=\"color:green\">(success).</strong>"
      ],
      "text/plain": [
       "<IPython.core.display.HTML object>"
      ]
     },
     "metadata": {},
     "output_type": "display_data"
    },
    {
     "data": {
      "text/html": [
       "<style>\n",
       "    table.wandb td:nth-child(1) { padding: 0 10px; text-align: left ; width: auto;} td:nth-child(2) {text-align: left ; width: 100%}\n",
       "    .wandb-row { display: flex; flex-direction: row; flex-wrap: wrap; justify-content: flex-start; width: 100% }\n",
       "    .wandb-col { display: flex; flex-direction: column; flex-basis: 100%; flex: 1; padding: 10px; }\n",
       "    </style>\n",
       "<div class=\"wandb-row\"><div class=\"wandb-col\"><h3>Run summary:</h3><br/><table class=\"wandb\"><tr><td>allocate_tensors_ms_%</td><td>0.59</td></tr><tr><td>allocate_tensors_ms_avg</td><td>0.034</td></tr><tr><td>allocate_tensors_ms_first</td><td>0.034</td></tr><tr><td>first_inference_us</td><td>3330</td></tr><tr><td>inference_avg_us</td><td>468.01</td></tr><tr><td>init_us</td><td>111379</td></tr><tr><td>initialization_ms</td><td>111.379</td></tr><tr><td>model_size_MB</td><td>0.16376</td></tr><tr><td>modify_graph_with_delegate_mem_KB</td><td>1244</td></tr><tr><td>modify_graph_with_delegate_ms_%</td><td>99.41</td></tr><tr><td>modify_graph_with_delegate_ms_avg</td><td>5.733</td></tr><tr><td>modify_graph_with_delegate_ms_first</td><td>5.733</td></tr><tr><td>warmup_avg_us</td><td>367.676</td></tr></table><br/></div></div>"
      ],
      "text/plain": [
       "<IPython.core.display.HTML object>"
      ]
     },
     "metadata": {},
     "output_type": "display_data"
    },
    {
     "data": {
      "text/html": [
       " View run <strong style=\"color:#cdcd00\">mobilenetv2_0.1_96_c3_o2_t6l1024.MV1</strong> at: <a href=\"https://wandb.ai/susbrock/model_DB/runs/l2ngjsr1\" target=\"_blank\">https://wandb.ai/susbrock/model_DB/runs/l2ngjsr1</a><br/>Synced 3 W&B file(s), 0 media file(s), 0 artifact file(s) and 1 other file(s)"
      ],
      "text/plain": [
       "<IPython.core.display.HTML object>"
      ]
     },
     "metadata": {},
     "output_type": "display_data"
    },
    {
     "data": {
      "text/html": [
       "Find logs at: <code>.\\wandb\\run-20230301_205730-l2ngjsr1\\logs</code>"
      ],
      "text/plain": [
       "<IPython.core.display.HTML object>"
      ]
     },
     "metadata": {},
     "output_type": "display_data"
    },
    {
     "data": {
      "text/html": [
       "Successfully finished last run (ID:l2ngjsr1). Initializing new run:<br/>"
      ],
      "text/plain": [
       "<IPython.core.display.HTML object>"
      ]
     },
     "metadata": {},
     "output_type": "display_data"
    },
    {
     "data": {
      "application/vnd.jupyter.widget-view+json": {
       "model_id": "4011ee427b3f48bd9fe44a8ad285c96f",
       "version_major": 2,
       "version_minor": 0
      },
      "text/plain": [
       "VBox(children=(Label(value='Waiting for wandb.init()...\\r'), FloatProgress(value=0.016666666666666666, max=1.0…"
      ]
     },
     "metadata": {},
     "output_type": "display_data"
    },
    {
     "data": {
      "text/html": [
       "wandb version 0.13.10 is available!  To upgrade, please run:\n",
       " $ pip install wandb --upgrade"
      ],
      "text/plain": [
       "<IPython.core.display.HTML object>"
      ]
     },
     "metadata": {},
     "output_type": "display_data"
    },
    {
     "data": {
      "text/html": [
       "Tracking run with wandb version 0.13.9"
      ],
      "text/plain": [
       "<IPython.core.display.HTML object>"
      ]
     },
     "metadata": {},
     "output_type": "display_data"
    },
    {
     "data": {
      "text/html": [
       "Run data is saved locally in <code>i:\\tinyml\\tiny_cnn\\wandb\\run-20230301_205738-t22m9r3i</code>"
      ],
      "text/plain": [
       "<IPython.core.display.HTML object>"
      ]
     },
     "metadata": {},
     "output_type": "display_data"
    },
    {
     "data": {
      "text/html": [
       "Resuming run <strong><a href=\"https://wandb.ai/susbrock/model_DB/runs/t22m9r3i\" target=\"_blank\">mobilenetv2_0.25_96_c3_o2_t1l1024.MV1</a></strong> to <a href=\"https://wandb.ai/susbrock/model_DB\" target=\"_blank\">Weights & Biases</a> (<a href=\"https://wandb.me/run\" target=\"_blank\">docs</a>)<br/>"
      ],
      "text/plain": [
       "<IPython.core.display.HTML object>"
      ]
     },
     "metadata": {},
     "output_type": "display_data"
    },
    {
     "data": {
      "text/html": [
       " View project at <a href=\"https://wandb.ai/susbrock/model_DB\" target=\"_blank\">https://wandb.ai/susbrock/model_DB</a>"
      ],
      "text/plain": [
       "<IPython.core.display.HTML object>"
      ]
     },
     "metadata": {},
     "output_type": "display_data"
    },
    {
     "data": {
      "text/html": [
       " View run at <a href=\"https://wandb.ai/susbrock/model_DB/runs/t22m9r3i\" target=\"_blank\">https://wandb.ai/susbrock/model_DB/runs/t22m9r3i</a>"
      ],
      "text/plain": [
       "<IPython.core.display.HTML object>"
      ]
     },
     "metadata": {},
     "output_type": "display_data"
    },
    {
     "name": "stdout",
     "output_type": "stream",
     "text": [
      "mobilenetv2_0.25_96_c3_o2_t1l1024.MV1 has no run_id\n",
      "e1r62enc\n"
     ]
    },
    {
     "data": {
      "text/html": [
       "Finishing last run (ID:t22m9r3i) before initializing another..."
      ],
      "text/plain": [
       "<IPython.core.display.HTML object>"
      ]
     },
     "metadata": {},
     "output_type": "display_data"
    },
    {
     "data": {
      "text/html": [
       "Waiting for W&B process to finish... <strong style=\"color:green\">(success).</strong>"
      ],
      "text/plain": [
       "<IPython.core.display.HTML object>"
      ]
     },
     "metadata": {},
     "output_type": "display_data"
    },
    {
     "data": {
      "application/vnd.jupyter.widget-view+json": {
       "model_id": "bb55bb241c6c450d800ce122e1749eb5",
       "version_major": 2,
       "version_minor": 0
      },
      "text/plain": [
       "VBox(children=(Label(value='0.000 MB of 0.002 MB uploaded (0.000 MB deduped)\\r'), FloatProgress(value=0.0, max…"
      ]
     },
     "metadata": {},
     "output_type": "display_data"
    },
    {
     "data": {
      "text/html": [
       "<style>\n",
       "    table.wandb td:nth-child(1) { padding: 0 10px; text-align: left ; width: auto;} td:nth-child(2) {text-align: left ; width: 100%}\n",
       "    .wandb-row { display: flex; flex-direction: row; flex-wrap: wrap; justify-content: flex-start; width: 100% }\n",
       "    .wandb-col { display: flex; flex-direction: column; flex-basis: 100%; flex: 1; padding: 10px; }\n",
       "    </style>\n",
       "<div class=\"wandb-row\"><div class=\"wandb-col\"><h3>Run summary:</h3><br/><table class=\"wandb\"><tr><td>allocate_tensors_ms_%</td><td>0.56</td></tr><tr><td>allocate_tensors_ms_avg</td><td>0.05</td></tr><tr><td>allocate_tensors_ms_first</td><td>0.05</td></tr><tr><td>first_inference_us</td><td>4697</td></tr><tr><td>inference_avg_us</td><td>424.226</td></tr><tr><td>init_us</td><td>141731</td></tr><tr><td>initialization_ms</td><td>141.731</td></tr><tr><td>model_size_MB</td><td>0.19777</td></tr><tr><td>modify_graph_with_delegate_mem_KB</td><td>1184</td></tr><tr><td>modify_graph_with_delegate_ms_%</td><td>99.44</td></tr><tr><td>modify_graph_with_delegate_ms_avg</td><td>8.871</td></tr><tr><td>modify_graph_with_delegate_ms_first</td><td>8.871</td></tr><tr><td>warmup_avg_us</td><td>354.257</td></tr></table><br/></div></div>"
      ],
      "text/plain": [
       "<IPython.core.display.HTML object>"
      ]
     },
     "metadata": {},
     "output_type": "display_data"
    },
    {
     "data": {
      "text/html": [
       " View run <strong style=\"color:#cdcd00\">mobilenetv2_0.25_96_c3_o2_t1l1024.MV1</strong> at: <a href=\"https://wandb.ai/susbrock/model_DB/runs/t22m9r3i\" target=\"_blank\">https://wandb.ai/susbrock/model_DB/runs/t22m9r3i</a><br/>Synced 3 W&B file(s), 0 media file(s), 0 artifact file(s) and 0 other file(s)"
      ],
      "text/plain": [
       "<IPython.core.display.HTML object>"
      ]
     },
     "metadata": {},
     "output_type": "display_data"
    },
    {
     "data": {
      "text/html": [
       "Find logs at: <code>.\\wandb\\run-20230301_205738-t22m9r3i\\logs</code>"
      ],
      "text/plain": [
       "<IPython.core.display.HTML object>"
      ]
     },
     "metadata": {},
     "output_type": "display_data"
    },
    {
     "data": {
      "text/html": [
       "Successfully finished last run (ID:t22m9r3i). Initializing new run:<br/>"
      ],
      "text/plain": [
       "<IPython.core.display.HTML object>"
      ]
     },
     "metadata": {},
     "output_type": "display_data"
    },
    {
     "data": {
      "application/vnd.jupyter.widget-view+json": {
       "model_id": "521ba879b08249598868caa9b9e15fee",
       "version_major": 2,
       "version_minor": 0
      },
      "text/plain": [
       "VBox(children=(Label(value='Waiting for wandb.init()...\\r'), FloatProgress(value=0.016666666666666666, max=1.0…"
      ]
     },
     "metadata": {},
     "output_type": "display_data"
    },
    {
     "data": {
      "text/html": [
       "wandb version 0.13.10 is available!  To upgrade, please run:\n",
       " $ pip install wandb --upgrade"
      ],
      "text/plain": [
       "<IPython.core.display.HTML object>"
      ]
     },
     "metadata": {},
     "output_type": "display_data"
    },
    {
     "data": {
      "text/html": [
       "Tracking run with wandb version 0.13.9"
      ],
      "text/plain": [
       "<IPython.core.display.HTML object>"
      ]
     },
     "metadata": {},
     "output_type": "display_data"
    },
    {
     "data": {
      "text/html": [
       "Run data is saved locally in <code>i:\\tinyml\\tiny_cnn\\wandb\\run-20230301_205747-e1r62enc</code>"
      ],
      "text/plain": [
       "<IPython.core.display.HTML object>"
      ]
     },
     "metadata": {},
     "output_type": "display_data"
    },
    {
     "data": {
      "text/html": [
       "Resuming run <strong><a href=\"https://wandb.ai/susbrock/model_DB/runs/e1r62enc\" target=\"_blank\">mobilenetv2_0.25_96_c3_o2_t2l1024.MV1</a></strong> to <a href=\"https://wandb.ai/susbrock/model_DB\" target=\"_blank\">Weights & Biases</a> (<a href=\"https://wandb.me/run\" target=\"_blank\">docs</a>)<br/>"
      ],
      "text/plain": [
       "<IPython.core.display.HTML object>"
      ]
     },
     "metadata": {},
     "output_type": "display_data"
    },
    {
     "data": {
      "text/html": [
       " View project at <a href=\"https://wandb.ai/susbrock/model_DB\" target=\"_blank\">https://wandb.ai/susbrock/model_DB</a>"
      ],
      "text/plain": [
       "<IPython.core.display.HTML object>"
      ]
     },
     "metadata": {},
     "output_type": "display_data"
    },
    {
     "data": {
      "text/html": [
       " View run at <a href=\"https://wandb.ai/susbrock/model_DB/runs/e1r62enc\" target=\"_blank\">https://wandb.ai/susbrock/model_DB/runs/e1r62enc</a>"
      ],
      "text/plain": [
       "<IPython.core.display.HTML object>"
      ]
     },
     "metadata": {},
     "output_type": "display_data"
    },
    {
     "name": "stdout",
     "output_type": "stream",
     "text": [
      "mobilenetv2_0.25_96_c3_o2_t2l1024.MV1 has no run_id\n",
      "j5k2r496\n"
     ]
    },
    {
     "data": {
      "text/html": [
       "Finishing last run (ID:e1r62enc) before initializing another..."
      ],
      "text/plain": [
       "<IPython.core.display.HTML object>"
      ]
     },
     "metadata": {},
     "output_type": "display_data"
    },
    {
     "data": {
      "text/html": [
       "Waiting for W&B process to finish... <strong style=\"color:green\">(success).</strong>"
      ],
      "text/plain": [
       "<IPython.core.display.HTML object>"
      ]
     },
     "metadata": {},
     "output_type": "display_data"
    },
    {
     "data": {
      "application/vnd.jupyter.widget-view+json": {
       "model_id": "f1a36657ddc54d2883485f0e8470c47b",
       "version_major": 2,
       "version_minor": 0
      },
      "text/plain": [
       "VBox(children=(Label(value='0.000 MB of 0.008 MB uploaded (0.000 MB deduped)\\r'), FloatProgress(value=0.0, max…"
      ]
     },
     "metadata": {},
     "output_type": "display_data"
    },
    {
     "data": {
      "text/html": [
       "<style>\n",
       "    table.wandb td:nth-child(1) { padding: 0 10px; text-align: left ; width: auto;} td:nth-child(2) {text-align: left ; width: 100%}\n",
       "    .wandb-row { display: flex; flex-direction: row; flex-wrap: wrap; justify-content: flex-start; width: 100% }\n",
       "    .wandb-col { display: flex; flex-direction: column; flex-basis: 100%; flex: 1; padding: 10px; }\n",
       "    </style>\n",
       "<div class=\"wandb-row\"><div class=\"wandb-col\"><h3>Run summary:</h3><br/><table class=\"wandb\"><tr><td>allocate_tensors_ms_%</td><td>0.506</td></tr><tr><td>allocate_tensors_ms_avg</td><td>0.063</td></tr><tr><td>allocate_tensors_ms_first</td><td>0.063</td></tr><tr><td>first_inference_us</td><td>5367</td></tr><tr><td>inference_avg_us</td><td>760.896</td></tr><tr><td>init_us</td><td>201880</td></tr><tr><td>initialization_ms</td><td>201.88</td></tr><tr><td>model_size_MB</td><td>0.233</td></tr><tr><td>modify_graph_with_delegate_mem_KB</td><td>1100</td></tr><tr><td>modify_graph_with_delegate_ms_%</td><td>99.494</td></tr><tr><td>modify_graph_with_delegate_ms_avg</td><td>12.383</td></tr><tr><td>modify_graph_with_delegate_ms_first</td><td>12.383</td></tr><tr><td>warmup_avg_us</td><td>639.048</td></tr></table><br/></div></div>"
      ],
      "text/plain": [
       "<IPython.core.display.HTML object>"
      ]
     },
     "metadata": {},
     "output_type": "display_data"
    },
    {
     "data": {
      "text/html": [
       " View run <strong style=\"color:#cdcd00\">mobilenetv2_0.25_96_c3_o2_t2l1024.MV1</strong> at: <a href=\"https://wandb.ai/susbrock/model_DB/runs/e1r62enc\" target=\"_blank\">https://wandb.ai/susbrock/model_DB/runs/e1r62enc</a><br/>Synced 3 W&B file(s), 0 media file(s), 0 artifact file(s) and 1 other file(s)"
      ],
      "text/plain": [
       "<IPython.core.display.HTML object>"
      ]
     },
     "metadata": {},
     "output_type": "display_data"
    },
    {
     "data": {
      "text/html": [
       "Find logs at: <code>.\\wandb\\run-20230301_205747-e1r62enc\\logs</code>"
      ],
      "text/plain": [
       "<IPython.core.display.HTML object>"
      ]
     },
     "metadata": {},
     "output_type": "display_data"
    },
    {
     "data": {
      "text/html": [
       "Successfully finished last run (ID:e1r62enc). Initializing new run:<br/>"
      ],
      "text/plain": [
       "<IPython.core.display.HTML object>"
      ]
     },
     "metadata": {},
     "output_type": "display_data"
    },
    {
     "data": {
      "application/vnd.jupyter.widget-view+json": {
       "model_id": "936102512fcd403889b0b5717c2cd674",
       "version_major": 2,
       "version_minor": 0
      },
      "text/plain": [
       "VBox(children=(Label(value='Waiting for wandb.init()...\\r'), FloatProgress(value=0.016933333333334608, max=1.0…"
      ]
     },
     "metadata": {},
     "output_type": "display_data"
    },
    {
     "data": {
      "text/html": [
       "wandb version 0.13.10 is available!  To upgrade, please run:\n",
       " $ pip install wandb --upgrade"
      ],
      "text/plain": [
       "<IPython.core.display.HTML object>"
      ]
     },
     "metadata": {},
     "output_type": "display_data"
    },
    {
     "data": {
      "text/html": [
       "Tracking run with wandb version 0.13.9"
      ],
      "text/plain": [
       "<IPython.core.display.HTML object>"
      ]
     },
     "metadata": {},
     "output_type": "display_data"
    },
    {
     "data": {
      "text/html": [
       "Run data is saved locally in <code>i:\\tinyml\\tiny_cnn\\wandb\\run-20230301_205754-j5k2r496</code>"
      ],
      "text/plain": [
       "<IPython.core.display.HTML object>"
      ]
     },
     "metadata": {},
     "output_type": "display_data"
    },
    {
     "data": {
      "text/html": [
       "Resuming run <strong><a href=\"https://wandb.ai/susbrock/model_DB/runs/j5k2r496\" target=\"_blank\">mobilenetv2_0.25_96_c3_o2_t3l1024.MV1</a></strong> to <a href=\"https://wandb.ai/susbrock/model_DB\" target=\"_blank\">Weights & Biases</a> (<a href=\"https://wandb.me/run\" target=\"_blank\">docs</a>)<br/>"
      ],
      "text/plain": [
       "<IPython.core.display.HTML object>"
      ]
     },
     "metadata": {},
     "output_type": "display_data"
    },
    {
     "data": {
      "text/html": [
       " View project at <a href=\"https://wandb.ai/susbrock/model_DB\" target=\"_blank\">https://wandb.ai/susbrock/model_DB</a>"
      ],
      "text/plain": [
       "<IPython.core.display.HTML object>"
      ]
     },
     "metadata": {},
     "output_type": "display_data"
    },
    {
     "data": {
      "text/html": [
       " View run at <a href=\"https://wandb.ai/susbrock/model_DB/runs/j5k2r496\" target=\"_blank\">https://wandb.ai/susbrock/model_DB/runs/j5k2r496</a>"
      ],
      "text/plain": [
       "<IPython.core.display.HTML object>"
      ]
     },
     "metadata": {},
     "output_type": "display_data"
    },
    {
     "name": "stdout",
     "output_type": "stream",
     "text": [
      "mobilenetv2_0.25_96_c3_o2_t3l1024.MV1 has no run_id\n",
      "1em4zkri\n"
     ]
    },
    {
     "data": {
      "text/html": [
       "Finishing last run (ID:j5k2r496) before initializing another..."
      ],
      "text/plain": [
       "<IPython.core.display.HTML object>"
      ]
     },
     "metadata": {},
     "output_type": "display_data"
    },
    {
     "data": {
      "text/html": [
       "Waiting for W&B process to finish... <strong style=\"color:green\">(success).</strong>"
      ],
      "text/plain": [
       "<IPython.core.display.HTML object>"
      ]
     },
     "metadata": {},
     "output_type": "display_data"
    },
    {
     "data": {
      "application/vnd.jupyter.widget-view+json": {
       "model_id": "4bbdd4d21d9b4c2abc092f5600e35aea",
       "version_major": 2,
       "version_minor": 0
      },
      "text/plain": [
       "VBox(children=(Label(value='0.000 MB of 0.008 MB uploaded (0.000 MB deduped)\\r'), FloatProgress(value=0.0, max…"
      ]
     },
     "metadata": {},
     "output_type": "display_data"
    },
    {
     "data": {
      "text/html": [
       "<style>\n",
       "    table.wandb td:nth-child(1) { padding: 0 10px; text-align: left ; width: auto;} td:nth-child(2) {text-align: left ; width: 100%}\n",
       "    .wandb-row { display: flex; flex-direction: row; flex-wrap: wrap; justify-content: flex-start; width: 100% }\n",
       "    .wandb-col { display: flex; flex-direction: column; flex-basis: 100%; flex: 1; padding: 10px; }\n",
       "    </style>\n",
       "<div class=\"wandb-row\"><div class=\"wandb-col\"><h3>Run summary:</h3><br/><table class=\"wandb\"><tr><td>allocate_tensors_ms_%</td><td>0.444</td></tr><tr><td>allocate_tensors_ms_avg</td><td>0.042</td></tr><tr><td>allocate_tensors_ms_first</td><td>0.042</td></tr><tr><td>first_inference_us</td><td>5149</td></tr><tr><td>inference_avg_us</td><td>725.378</td></tr><tr><td>init_us</td><td>157701</td></tr><tr><td>initialization_ms</td><td>157.701</td></tr><tr><td>model_size_MB</td><td>0.26848</td></tr><tr><td>modify_graph_with_delegate_mem_KB</td><td>1188</td></tr><tr><td>modify_graph_with_delegate_ms_%</td><td>99.556</td></tr><tr><td>modify_graph_with_delegate_ms_avg</td><td>9.41</td></tr><tr><td>modify_graph_with_delegate_ms_first</td><td>9.41</td></tr><tr><td>warmup_avg_us</td><td>720.839</td></tr></table><br/></div></div>"
      ],
      "text/plain": [
       "<IPython.core.display.HTML object>"
      ]
     },
     "metadata": {},
     "output_type": "display_data"
    },
    {
     "data": {
      "text/html": [
       " View run <strong style=\"color:#cdcd00\">mobilenetv2_0.25_96_c3_o2_t3l1024.MV1</strong> at: <a href=\"https://wandb.ai/susbrock/model_DB/runs/j5k2r496\" target=\"_blank\">https://wandb.ai/susbrock/model_DB/runs/j5k2r496</a><br/>Synced 3 W&B file(s), 0 media file(s), 0 artifact file(s) and 0 other file(s)"
      ],
      "text/plain": [
       "<IPython.core.display.HTML object>"
      ]
     },
     "metadata": {},
     "output_type": "display_data"
    },
    {
     "data": {
      "text/html": [
       "Find logs at: <code>.\\wandb\\run-20230301_205754-j5k2r496\\logs</code>"
      ],
      "text/plain": [
       "<IPython.core.display.HTML object>"
      ]
     },
     "metadata": {},
     "output_type": "display_data"
    },
    {
     "data": {
      "text/html": [
       "Successfully finished last run (ID:j5k2r496). Initializing new run:<br/>"
      ],
      "text/plain": [
       "<IPython.core.display.HTML object>"
      ]
     },
     "metadata": {},
     "output_type": "display_data"
    },
    {
     "data": {
      "application/vnd.jupyter.widget-view+json": {
       "model_id": "6a26315b1035402da0d6e98e812bf4b5",
       "version_major": 2,
       "version_minor": 0
      },
      "text/plain": [
       "VBox(children=(Label(value='Waiting for wandb.init()...\\r'), FloatProgress(value=0.016933333333334608, max=1.0…"
      ]
     },
     "metadata": {},
     "output_type": "display_data"
    },
    {
     "data": {
      "text/html": [
       "wandb version 0.13.10 is available!  To upgrade, please run:\n",
       " $ pip install wandb --upgrade"
      ],
      "text/plain": [
       "<IPython.core.display.HTML object>"
      ]
     },
     "metadata": {},
     "output_type": "display_data"
    },
    {
     "data": {
      "text/html": [
       "Tracking run with wandb version 0.13.9"
      ],
      "text/plain": [
       "<IPython.core.display.HTML object>"
      ]
     },
     "metadata": {},
     "output_type": "display_data"
    },
    {
     "data": {
      "text/html": [
       "Run data is saved locally in <code>i:\\tinyml\\tiny_cnn\\wandb\\run-20230301_205801-1em4zkri</code>"
      ],
      "text/plain": [
       "<IPython.core.display.HTML object>"
      ]
     },
     "metadata": {},
     "output_type": "display_data"
    },
    {
     "data": {
      "text/html": [
       "Resuming run <strong><a href=\"https://wandb.ai/susbrock/model_DB/runs/1em4zkri\" target=\"_blank\">mobilenetv2_0.25_96_c3_o2_t6l1024.MV1</a></strong> to <a href=\"https://wandb.ai/susbrock/model_DB\" target=\"_blank\">Weights & Biases</a> (<a href=\"https://wandb.me/run\" target=\"_blank\">docs</a>)<br/>"
      ],
      "text/plain": [
       "<IPython.core.display.HTML object>"
      ]
     },
     "metadata": {},
     "output_type": "display_data"
    },
    {
     "data": {
      "text/html": [
       " View project at <a href=\"https://wandb.ai/susbrock/model_DB\" target=\"_blank\">https://wandb.ai/susbrock/model_DB</a>"
      ],
      "text/plain": [
       "<IPython.core.display.HTML object>"
      ]
     },
     "metadata": {},
     "output_type": "display_data"
    },
    {
     "data": {
      "text/html": [
       " View run at <a href=\"https://wandb.ai/susbrock/model_DB/runs/1em4zkri\" target=\"_blank\">https://wandb.ai/susbrock/model_DB/runs/1em4zkri</a>"
      ],
      "text/plain": [
       "<IPython.core.display.HTML object>"
      ]
     },
     "metadata": {},
     "output_type": "display_data"
    },
    {
     "name": "stdout",
     "output_type": "stream",
     "text": [
      "mobilenetv2_0.25_96_c3_o2_t6l1024.MV1 has no run_id\n",
      "lp7d1fbn\n"
     ]
    },
    {
     "data": {
      "text/html": [
       "Finishing last run (ID:1em4zkri) before initializing another..."
      ],
      "text/plain": [
       "<IPython.core.display.HTML object>"
      ]
     },
     "metadata": {},
     "output_type": "display_data"
    },
    {
     "data": {
      "text/html": [
       "Waiting for W&B process to finish... <strong style=\"color:green\">(success).</strong>"
      ],
      "text/plain": [
       "<IPython.core.display.HTML object>"
      ]
     },
     "metadata": {},
     "output_type": "display_data"
    },
    {
     "data": {
      "application/vnd.jupyter.widget-view+json": {
       "model_id": "86344a4e43c447678c349a8550678541",
       "version_major": 2,
       "version_minor": 0
      },
      "text/plain": [
       "VBox(children=(Label(value='0.000 MB of 0.000 MB uploaded (0.000 MB deduped)\\r'), FloatProgress(value=1.0, max…"
      ]
     },
     "metadata": {},
     "output_type": "display_data"
    },
    {
     "data": {
      "text/html": [
       "<style>\n",
       "    table.wandb td:nth-child(1) { padding: 0 10px; text-align: left ; width: auto;} td:nth-child(2) {text-align: left ; width: 100%}\n",
       "    .wandb-row { display: flex; flex-direction: row; flex-wrap: wrap; justify-content: flex-start; width: 100% }\n",
       "    .wandb-col { display: flex; flex-direction: column; flex-basis: 100%; flex: 1; padding: 10px; }\n",
       "    </style>\n",
       "<div class=\"wandb-row\"><div class=\"wandb-col\"><h3>Run summary:</h3><br/><table class=\"wandb\"><tr><td>allocate_tensors_ms_%</td><td>0.543</td></tr><tr><td>allocate_tensors_ms_avg</td><td>0.037</td></tr><tr><td>allocate_tensors_ms_first</td><td>0.037</td></tr><tr><td>first_inference_us</td><td>3408</td></tr><tr><td>inference_avg_us</td><td>565.776</td></tr><tr><td>init_us</td><td>124769</td></tr><tr><td>initialization_ms</td><td>124.769</td></tr><tr><td>model_size_MB</td><td>0.37374</td></tr><tr><td>modify_graph_with_delegate_mem_KB</td><td>1464</td></tr><tr><td>modify_graph_with_delegate_ms_%</td><td>99.457</td></tr><tr><td>modify_graph_with_delegate_ms_avg</td><td>6.777</td></tr><tr><td>modify_graph_with_delegate_ms_first</td><td>6.777</td></tr><tr><td>warmup_avg_us</td><td>530.08</td></tr></table><br/></div></div>"
      ],
      "text/plain": [
       "<IPython.core.display.HTML object>"
      ]
     },
     "metadata": {},
     "output_type": "display_data"
    },
    {
     "data": {
      "text/html": [
       " View run <strong style=\"color:#cdcd00\">mobilenetv2_0.25_96_c3_o2_t6l1024.MV1</strong> at: <a href=\"https://wandb.ai/susbrock/model_DB/runs/1em4zkri\" target=\"_blank\">https://wandb.ai/susbrock/model_DB/runs/1em4zkri</a><br/>Synced 3 W&B file(s), 0 media file(s), 0 artifact file(s) and 1 other file(s)"
      ],
      "text/plain": [
       "<IPython.core.display.HTML object>"
      ]
     },
     "metadata": {},
     "output_type": "display_data"
    },
    {
     "data": {
      "text/html": [
       "Find logs at: <code>.\\wandb\\run-20230301_205801-1em4zkri\\logs</code>"
      ],
      "text/plain": [
       "<IPython.core.display.HTML object>"
      ]
     },
     "metadata": {},
     "output_type": "display_data"
    },
    {
     "data": {
      "text/html": [
       "Successfully finished last run (ID:1em4zkri). Initializing new run:<br/>"
      ],
      "text/plain": [
       "<IPython.core.display.HTML object>"
      ]
     },
     "metadata": {},
     "output_type": "display_data"
    },
    {
     "data": {
      "application/vnd.jupyter.widget-view+json": {
       "model_id": "f36baf84c8ab4492b4826938af0f7008",
       "version_major": 2,
       "version_minor": 0
      },
      "text/plain": [
       "VBox(children=(Label(value='Waiting for wandb.init()...\\r'), FloatProgress(value=0.016666666666666666, max=1.0…"
      ]
     },
     "metadata": {},
     "output_type": "display_data"
    },
    {
     "data": {
      "text/html": [
       "wandb version 0.13.10 is available!  To upgrade, please run:\n",
       " $ pip install wandb --upgrade"
      ],
      "text/plain": [
       "<IPython.core.display.HTML object>"
      ]
     },
     "metadata": {},
     "output_type": "display_data"
    },
    {
     "data": {
      "text/html": [
       "Tracking run with wandb version 0.13.9"
      ],
      "text/plain": [
       "<IPython.core.display.HTML object>"
      ]
     },
     "metadata": {},
     "output_type": "display_data"
    },
    {
     "data": {
      "text/html": [
       "Run data is saved locally in <code>i:\\tinyml\\tiny_cnn\\wandb\\run-20230301_205810-lp7d1fbn</code>"
      ],
      "text/plain": [
       "<IPython.core.display.HTML object>"
      ]
     },
     "metadata": {},
     "output_type": "display_data"
    },
    {
     "data": {
      "text/html": [
       "Resuming run <strong><a href=\"https://wandb.ai/susbrock/model_DB/runs/lp7d1fbn\" target=\"_blank\">mobilenetv2_0.25_96_c3_o2_t6l1024.GAP</a></strong> to <a href=\"https://wandb.ai/susbrock/model_DB\" target=\"_blank\">Weights & Biases</a> (<a href=\"https://wandb.me/run\" target=\"_blank\">docs</a>)<br/>"
      ],
      "text/plain": [
       "<IPython.core.display.HTML object>"
      ]
     },
     "metadata": {},
     "output_type": "display_data"
    },
    {
     "data": {
      "text/html": [
       " View project at <a href=\"https://wandb.ai/susbrock/model_DB\" target=\"_blank\">https://wandb.ai/susbrock/model_DB</a>"
      ],
      "text/plain": [
       "<IPython.core.display.HTML object>"
      ]
     },
     "metadata": {},
     "output_type": "display_data"
    },
    {
     "data": {
      "text/html": [
       " View run at <a href=\"https://wandb.ai/susbrock/model_DB/runs/lp7d1fbn\" target=\"_blank\">https://wandb.ai/susbrock/model_DB/runs/lp7d1fbn</a>"
      ],
      "text/plain": [
       "<IPython.core.display.HTML object>"
      ]
     },
     "metadata": {},
     "output_type": "display_data"
    },
    {
     "name": "stdout",
     "output_type": "stream",
     "text": [
      "mobilenetv2_0.25_96_c3_o2_t6l1024.GAP has no run_id\n",
      "lum2673e\n"
     ]
    },
    {
     "data": {
      "text/html": [
       "Finishing last run (ID:lp7d1fbn) before initializing another..."
      ],
      "text/plain": [
       "<IPython.core.display.HTML object>"
      ]
     },
     "metadata": {},
     "output_type": "display_data"
    },
    {
     "data": {
      "text/html": [
       "Waiting for W&B process to finish... <strong style=\"color:green\">(success).</strong>"
      ],
      "text/plain": [
       "<IPython.core.display.HTML object>"
      ]
     },
     "metadata": {},
     "output_type": "display_data"
    },
    {
     "data": {
      "application/vnd.jupyter.widget-view+json": {
       "model_id": "68119288e4e24079af98f06474e70e4c",
       "version_major": 2,
       "version_minor": 0
      },
      "text/plain": [
       "VBox(children=(Label(value='0.000 MB of 0.002 MB uploaded (0.000 MB deduped)\\r'), FloatProgress(value=0.0, max…"
      ]
     },
     "metadata": {},
     "output_type": "display_data"
    },
    {
     "data": {
      "text/html": [
       "<style>\n",
       "    table.wandb td:nth-child(1) { padding: 0 10px; text-align: left ; width: auto;} td:nth-child(2) {text-align: left ; width: 100%}\n",
       "    .wandb-row { display: flex; flex-direction: row; flex-wrap: wrap; justify-content: flex-start; width: 100% }\n",
       "    .wandb-col { display: flex; flex-direction: column; flex-basis: 100%; flex: 1; padding: 10px; }\n",
       "    </style>\n",
       "<div class=\"wandb-row\"><div class=\"wandb-col\"><h3>Run summary:</h3><br/><table class=\"wandb\"><tr><td>allocate_tensors_ms_%</td><td>0.231</td></tr><tr><td>allocate_tensors_ms_avg</td><td>0.035</td></tr><tr><td>allocate_tensors_ms_first</td><td>0.035</td></tr><tr><td>first_inference_us</td><td>16794</td></tr><tr><td>inference_avg_us</td><td>582.811</td></tr><tr><td>init_us</td><td>386752</td></tr><tr><td>initialization_ms</td><td>386.752</td></tr><tr><td>model_size_MB</td><td>0.3741</td></tr><tr><td>modify_graph_with_delegate_mem_KB</td><td>1380</td></tr><tr><td>modify_graph_with_delegate_ms_%</td><td>99.769</td></tr><tr><td>modify_graph_with_delegate_ms_avg</td><td>15.147</td></tr><tr><td>modify_graph_with_delegate_ms_first</td><td>15.147</td></tr><tr><td>warmup_avg_us</td><td>540.785</td></tr></table><br/></div></div>"
      ],
      "text/plain": [
       "<IPython.core.display.HTML object>"
      ]
     },
     "metadata": {},
     "output_type": "display_data"
    },
    {
     "data": {
      "text/html": [
       " View run <strong style=\"color:#cdcd00\">mobilenetv2_0.25_96_c3_o2_t6l1024.GAP</strong> at: <a href=\"https://wandb.ai/susbrock/model_DB/runs/lp7d1fbn\" target=\"_blank\">https://wandb.ai/susbrock/model_DB/runs/lp7d1fbn</a><br/>Synced 3 W&B file(s), 0 media file(s), 0 artifact file(s) and 0 other file(s)"
      ],
      "text/plain": [
       "<IPython.core.display.HTML object>"
      ]
     },
     "metadata": {},
     "output_type": "display_data"
    },
    {
     "data": {
      "text/html": [
       "Find logs at: <code>.\\wandb\\run-20230301_205810-lp7d1fbn\\logs</code>"
      ],
      "text/plain": [
       "<IPython.core.display.HTML object>"
      ]
     },
     "metadata": {},
     "output_type": "display_data"
    },
    {
     "data": {
      "text/html": [
       "Successfully finished last run (ID:lp7d1fbn). Initializing new run:<br/>"
      ],
      "text/plain": [
       "<IPython.core.display.HTML object>"
      ]
     },
     "metadata": {},
     "output_type": "display_data"
    },
    {
     "data": {
      "application/vnd.jupyter.widget-view+json": {
       "model_id": "d4b36c73e88b4a43a7c8dad15634da6f",
       "version_major": 2,
       "version_minor": 0
      },
      "text/plain": [
       "VBox(children=(Label(value='Waiting for wandb.init()...\\r'), FloatProgress(value=0.016666666666666666, max=1.0…"
      ]
     },
     "metadata": {},
     "output_type": "display_data"
    },
    {
     "data": {
      "text/html": [
       "wandb version 0.13.10 is available!  To upgrade, please run:\n",
       " $ pip install wandb --upgrade"
      ],
      "text/plain": [
       "<IPython.core.display.HTML object>"
      ]
     },
     "metadata": {},
     "output_type": "display_data"
    },
    {
     "data": {
      "text/html": [
       "Tracking run with wandb version 0.13.9"
      ],
      "text/plain": [
       "<IPython.core.display.HTML object>"
      ]
     },
     "metadata": {},
     "output_type": "display_data"
    },
    {
     "data": {
      "text/html": [
       "Run data is saved locally in <code>i:\\tinyml\\tiny_cnn\\wandb\\run-20230301_205819-lum2673e</code>"
      ],
      "text/plain": [
       "<IPython.core.display.HTML object>"
      ]
     },
     "metadata": {},
     "output_type": "display_data"
    },
    {
     "data": {
      "text/html": [
       "Resuming run <strong><a href=\"https://wandb.ai/susbrock/model_DB/runs/lum2673e\" target=\"_blank\">mobilenetv1_0.1_224_c3_o2_l5.GAP</a></strong> to <a href=\"https://wandb.ai/susbrock/model_DB\" target=\"_blank\">Weights & Biases</a> (<a href=\"https://wandb.me/run\" target=\"_blank\">docs</a>)<br/>"
      ],
      "text/plain": [
       "<IPython.core.display.HTML object>"
      ]
     },
     "metadata": {},
     "output_type": "display_data"
    },
    {
     "data": {
      "text/html": [
       " View project at <a href=\"https://wandb.ai/susbrock/model_DB\" target=\"_blank\">https://wandb.ai/susbrock/model_DB</a>"
      ],
      "text/plain": [
       "<IPython.core.display.HTML object>"
      ]
     },
     "metadata": {},
     "output_type": "display_data"
    },
    {
     "data": {
      "text/html": [
       " View run at <a href=\"https://wandb.ai/susbrock/model_DB/runs/lum2673e\" target=\"_blank\">https://wandb.ai/susbrock/model_DB/runs/lum2673e</a>"
      ],
      "text/plain": [
       "<IPython.core.display.HTML object>"
      ]
     },
     "metadata": {},
     "output_type": "display_data"
    },
    {
     "name": "stdout",
     "output_type": "stream",
     "text": [
      "mobilenetv1_0.1_224_c3_o2_l5.GAP has no run_id\n",
      "9s1mqwqn\n"
     ]
    },
    {
     "data": {
      "text/html": [
       "Finishing last run (ID:lum2673e) before initializing another..."
      ],
      "text/plain": [
       "<IPython.core.display.HTML object>"
      ]
     },
     "metadata": {},
     "output_type": "display_data"
    },
    {
     "data": {
      "text/html": [
       "Waiting for W&B process to finish... <strong style=\"color:green\">(success).</strong>"
      ],
      "text/plain": [
       "<IPython.core.display.HTML object>"
      ]
     },
     "metadata": {},
     "output_type": "display_data"
    },
    {
     "data": {
      "application/vnd.jupyter.widget-view+json": {
       "model_id": "009a35b579ad40a693b95ef0dc540cfb",
       "version_major": 2,
       "version_minor": 0
      },
      "text/plain": [
       "VBox(children=(Label(value='0.000 MB of 0.008 MB uploaded (0.000 MB deduped)\\r'), FloatProgress(value=0.0, max…"
      ]
     },
     "metadata": {},
     "output_type": "display_data"
    },
    {
     "data": {
      "text/html": [
       "<style>\n",
       "    table.wandb td:nth-child(1) { padding: 0 10px; text-align: left ; width: auto;} td:nth-child(2) {text-align: left ; width: 100%}\n",
       "    .wandb-row { display: flex; flex-direction: row; flex-wrap: wrap; justify-content: flex-start; width: 100% }\n",
       "    .wandb-col { display: flex; flex-direction: column; flex-basis: 100%; flex: 1; padding: 10px; }\n",
       "    </style>\n",
       "<div class=\"wandb-row\"><div class=\"wandb-col\"><h3>Run summary:</h3><br/><table class=\"wandb\"><tr><td>allocate_tensors_ms_%</td><td>0.526</td></tr><tr><td>allocate_tensors_ms_avg</td><td>0.028</td></tr><tr><td>allocate_tensors_ms_first</td><td>0.028</td></tr><tr><td>first_inference_us</td><td>274572</td></tr><tr><td>inference_avg_us</td><td>1729.07</td></tr><tr><td>init_us</td><td>116007</td></tr><tr><td>initialization_ms</td><td>116.007</td></tr><tr><td>model_size_MB</td><td>0.08755</td></tr><tr><td>modify_graph_with_delegate_mem_KB</td><td>864</td></tr><tr><td>modify_graph_with_delegate_ms_%</td><td>99.474</td></tr><tr><td>modify_graph_with_delegate_ms_avg</td><td>5.293</td></tr><tr><td>modify_graph_with_delegate_ms_first</td><td>5.293</td></tr><tr><td>warmup_avg_us</td><td>3791.3</td></tr></table><br/></div></div>"
      ],
      "text/plain": [
       "<IPython.core.display.HTML object>"
      ]
     },
     "metadata": {},
     "output_type": "display_data"
    },
    {
     "data": {
      "text/html": [
       " View run <strong style=\"color:#cdcd00\">mobilenetv1_0.1_224_c3_o2_l5.GAP</strong> at: <a href=\"https://wandb.ai/susbrock/model_DB/runs/lum2673e\" target=\"_blank\">https://wandb.ai/susbrock/model_DB/runs/lum2673e</a><br/>Synced 3 W&B file(s), 0 media file(s), 0 artifact file(s) and 1 other file(s)"
      ],
      "text/plain": [
       "<IPython.core.display.HTML object>"
      ]
     },
     "metadata": {},
     "output_type": "display_data"
    },
    {
     "data": {
      "text/html": [
       "Find logs at: <code>.\\wandb\\run-20230301_205819-lum2673e\\logs</code>"
      ],
      "text/plain": [
       "<IPython.core.display.HTML object>"
      ]
     },
     "metadata": {},
     "output_type": "display_data"
    },
    {
     "data": {
      "text/html": [
       "Successfully finished last run (ID:lum2673e). Initializing new run:<br/>"
      ],
      "text/plain": [
       "<IPython.core.display.HTML object>"
      ]
     },
     "metadata": {},
     "output_type": "display_data"
    },
    {
     "data": {
      "application/vnd.jupyter.widget-view+json": {
       "model_id": "90d379ad011d498c9c3477c89e2746e4",
       "version_major": 2,
       "version_minor": 0
      },
      "text/plain": [
       "VBox(children=(Label(value='Waiting for wandb.init()...\\r'), FloatProgress(value=0.016933333333334608, max=1.0…"
      ]
     },
     "metadata": {},
     "output_type": "display_data"
    },
    {
     "data": {
      "text/html": [
       "wandb version 0.13.10 is available!  To upgrade, please run:\n",
       " $ pip install wandb --upgrade"
      ],
      "text/plain": [
       "<IPython.core.display.HTML object>"
      ]
     },
     "metadata": {},
     "output_type": "display_data"
    },
    {
     "data": {
      "text/html": [
       "Tracking run with wandb version 0.13.9"
      ],
      "text/plain": [
       "<IPython.core.display.HTML object>"
      ]
     },
     "metadata": {},
     "output_type": "display_data"
    },
    {
     "data": {
      "text/html": [
       "Run data is saved locally in <code>i:\\tinyml\\tiny_cnn\\wandb\\run-20230301_205826-9s1mqwqn</code>"
      ],
      "text/plain": [
       "<IPython.core.display.HTML object>"
      ]
     },
     "metadata": {},
     "output_type": "display_data"
    },
    {
     "data": {
      "text/html": [
       "Resuming run <strong><a href=\"https://wandb.ai/susbrock/model_DB/runs/9s1mqwqn\" target=\"_blank\">mobilenetv1_0.1_224_c3_o2_l5.MV1</a></strong> to <a href=\"https://wandb.ai/susbrock/model_DB\" target=\"_blank\">Weights & Biases</a> (<a href=\"https://wandb.me/run\" target=\"_blank\">docs</a>)<br/>"
      ],
      "text/plain": [
       "<IPython.core.display.HTML object>"
      ]
     },
     "metadata": {},
     "output_type": "display_data"
    },
    {
     "data": {
      "text/html": [
       " View project at <a href=\"https://wandb.ai/susbrock/model_DB\" target=\"_blank\">https://wandb.ai/susbrock/model_DB</a>"
      ],
      "text/plain": [
       "<IPython.core.display.HTML object>"
      ]
     },
     "metadata": {},
     "output_type": "display_data"
    },
    {
     "data": {
      "text/html": [
       " View run at <a href=\"https://wandb.ai/susbrock/model_DB/runs/9s1mqwqn\" target=\"_blank\">https://wandb.ai/susbrock/model_DB/runs/9s1mqwqn</a>"
      ],
      "text/plain": [
       "<IPython.core.display.HTML object>"
      ]
     },
     "metadata": {},
     "output_type": "display_data"
    },
    {
     "name": "stdout",
     "output_type": "stream",
     "text": [
      "mobilenetv1_0.1_224_c3_o2_l5.MV1 has no run_id\n",
      "84h2pyub\n"
     ]
    },
    {
     "data": {
      "text/html": [
       "Finishing last run (ID:9s1mqwqn) before initializing another..."
      ],
      "text/plain": [
       "<IPython.core.display.HTML object>"
      ]
     },
     "metadata": {},
     "output_type": "display_data"
    },
    {
     "data": {
      "text/html": [
       "Waiting for W&B process to finish... <strong style=\"color:green\">(success).</strong>"
      ],
      "text/plain": [
       "<IPython.core.display.HTML object>"
      ]
     },
     "metadata": {},
     "output_type": "display_data"
    },
    {
     "data": {
      "application/vnd.jupyter.widget-view+json": {
       "model_id": "cbf879b482d848e6be3fa757548a27ff",
       "version_major": 2,
       "version_minor": 0
      },
      "text/plain": [
       "VBox(children=(Label(value='0.000 MB of 0.002 MB uploaded (0.000 MB deduped)\\r'), FloatProgress(value=0.0, max…"
      ]
     },
     "metadata": {},
     "output_type": "display_data"
    },
    {
     "data": {
      "text/html": [
       "<style>\n",
       "    table.wandb td:nth-child(1) { padding: 0 10px; text-align: left ; width: auto;} td:nth-child(2) {text-align: left ; width: 100%}\n",
       "    .wandb-row { display: flex; flex-direction: row; flex-wrap: wrap; justify-content: flex-start; width: 100% }\n",
       "    .wandb-col { display: flex; flex-direction: column; flex-basis: 100%; flex: 1; padding: 10px; }\n",
       "    </style>\n",
       "<div class=\"wandb-row\"><div class=\"wandb-col\"><h3>Run summary:</h3><br/><table class=\"wandb\"><tr><td>allocate_tensors_ms_%</td><td>0.047</td></tr><tr><td>allocate_tensors_ms_avg</td><td>0.05</td></tr><tr><td>allocate_tensors_ms_first</td><td>0.05</td></tr><tr><td>first_inference_us</td><td>40341</td></tr><tr><td>inference_avg_us</td><td>1703.43</td></tr><tr><td>init_us</td><td>2122445</td></tr><tr><td>initialization_ms</td><td>2122.45</td></tr><tr><td>model_size_MB</td><td>0.08718</td></tr><tr><td>modify_graph_with_delegate_mem_KB</td><td>960</td></tr><tr><td>modify_graph_with_delegate_ms_%</td><td>99.953</td></tr><tr><td>modify_graph_with_delegate_ms_avg</td><td>105.907</td></tr><tr><td>modify_graph_with_delegate_ms_first</td><td>105.907</td></tr><tr><td>warmup_avg_us</td><td>1795.39</td></tr></table><br/></div></div>"
      ],
      "text/plain": [
       "<IPython.core.display.HTML object>"
      ]
     },
     "metadata": {},
     "output_type": "display_data"
    },
    {
     "data": {
      "text/html": [
       " View run <strong style=\"color:#cdcd00\">mobilenetv1_0.1_224_c3_o2_l5.MV1</strong> at: <a href=\"https://wandb.ai/susbrock/model_DB/runs/9s1mqwqn\" target=\"_blank\">https://wandb.ai/susbrock/model_DB/runs/9s1mqwqn</a><br/>Synced 3 W&B file(s), 0 media file(s), 0 artifact file(s) and 0 other file(s)"
      ],
      "text/plain": [
       "<IPython.core.display.HTML object>"
      ]
     },
     "metadata": {},
     "output_type": "display_data"
    },
    {
     "data": {
      "text/html": [
       "Find logs at: <code>.\\wandb\\run-20230301_205826-9s1mqwqn\\logs</code>"
      ],
      "text/plain": [
       "<IPython.core.display.HTML object>"
      ]
     },
     "metadata": {},
     "output_type": "display_data"
    },
    {
     "data": {
      "text/html": [
       "Successfully finished last run (ID:9s1mqwqn). Initializing new run:<br/>"
      ],
      "text/plain": [
       "<IPython.core.display.HTML object>"
      ]
     },
     "metadata": {},
     "output_type": "display_data"
    },
    {
     "data": {
      "application/vnd.jupyter.widget-view+json": {
       "model_id": "ec582da580804432b78fbe7070bcbc18",
       "version_major": 2,
       "version_minor": 0
      },
      "text/plain": [
       "VBox(children=(Label(value='Waiting for wandb.init()...\\r'), FloatProgress(value=0.016666666666666666, max=1.0…"
      ]
     },
     "metadata": {},
     "output_type": "display_data"
    },
    {
     "data": {
      "text/html": [
       "wandb version 0.13.10 is available!  To upgrade, please run:\n",
       " $ pip install wandb --upgrade"
      ],
      "text/plain": [
       "<IPython.core.display.HTML object>"
      ]
     },
     "metadata": {},
     "output_type": "display_data"
    },
    {
     "data": {
      "text/html": [
       "Tracking run with wandb version 0.13.9"
      ],
      "text/plain": [
       "<IPython.core.display.HTML object>"
      ]
     },
     "metadata": {},
     "output_type": "display_data"
    },
    {
     "data": {
      "text/html": [
       "Run data is saved locally in <code>i:\\tinyml\\tiny_cnn\\wandb\\run-20230301_205835-84h2pyub</code>"
      ],
      "text/plain": [
       "<IPython.core.display.HTML object>"
      ]
     },
     "metadata": {},
     "output_type": "display_data"
    },
    {
     "data": {
      "text/html": [
       "Resuming run <strong><a href=\"https://wandb.ai/susbrock/model_DB/runs/84h2pyub\" target=\"_blank\">MobilenetV3small_1_96_c3_o3_keras</a></strong> to <a href=\"https://wandb.ai/susbrock/model_DB\" target=\"_blank\">Weights & Biases</a> (<a href=\"https://wandb.me/run\" target=\"_blank\">docs</a>)<br/>"
      ],
      "text/plain": [
       "<IPython.core.display.HTML object>"
      ]
     },
     "metadata": {},
     "output_type": "display_data"
    },
    {
     "data": {
      "text/html": [
       " View project at <a href=\"https://wandb.ai/susbrock/model_DB\" target=\"_blank\">https://wandb.ai/susbrock/model_DB</a>"
      ],
      "text/plain": [
       "<IPython.core.display.HTML object>"
      ]
     },
     "metadata": {},
     "output_type": "display_data"
    },
    {
     "data": {
      "text/html": [
       " View run at <a href=\"https://wandb.ai/susbrock/model_DB/runs/84h2pyub\" target=\"_blank\">https://wandb.ai/susbrock/model_DB/runs/84h2pyub</a>"
      ],
      "text/plain": [
       "<IPython.core.display.HTML object>"
      ]
     },
     "metadata": {},
     "output_type": "display_data"
    },
    {
     "name": "stdout",
     "output_type": "stream",
     "text": [
      "MobilenetV3small_1_96_c3_o3_keras has no run_id\n",
      "x4xe6px9\n"
     ]
    },
    {
     "data": {
      "text/html": [
       "Finishing last run (ID:84h2pyub) before initializing another..."
      ],
      "text/plain": [
       "<IPython.core.display.HTML object>"
      ]
     },
     "metadata": {},
     "output_type": "display_data"
    },
    {
     "data": {
      "text/html": [
       "Waiting for W&B process to finish... <strong style=\"color:green\">(success).</strong>"
      ],
      "text/plain": [
       "<IPython.core.display.HTML object>"
      ]
     },
     "metadata": {},
     "output_type": "display_data"
    },
    {
     "data": {
      "text/html": [
       "<style>\n",
       "    table.wandb td:nth-child(1) { padding: 0 10px; text-align: left ; width: auto;} td:nth-child(2) {text-align: left ; width: 100%}\n",
       "    .wandb-row { display: flex; flex-direction: row; flex-wrap: wrap; justify-content: flex-start; width: 100% }\n",
       "    .wandb-col { display: flex; flex-direction: column; flex-basis: 100%; flex: 1; padding: 10px; }\n",
       "    </style>\n",
       "<div class=\"wandb-row\"><div class=\"wandb-col\"><h3>Run summary:</h3><br/><table class=\"wandb\"><tr><td>allocate_tensors_ms_%</td><td>0.35</td></tr><tr><td>allocate_tensors_ms_avg</td><td>0.137</td></tr><tr><td>allocate_tensors_ms_first</td><td>0.137</td></tr><tr><td>first_inference_us</td><td>63865</td></tr><tr><td>inference_avg_us</td><td>2597.79</td></tr><tr><td>init_us</td><td>32043940</td></tr><tr><td>initialization_ms</td><td>32043.9</td></tr><tr><td>model_size_MB</td><td>1.82362</td></tr><tr><td>modify_graph_with_delegate_mem_KB</td><td>3112</td></tr><tr><td>modify_graph_with_delegate_ms_%</td><td>99.65</td></tr><tr><td>modify_graph_with_delegate_ms_avg</td><td>39.018</td></tr><tr><td>modify_graph_with_delegate_ms_first</td><td>39.018</td></tr><tr><td>warmup_avg_us</td><td>2907.92</td></tr></table><br/></div></div>"
      ],
      "text/plain": [
       "<IPython.core.display.HTML object>"
      ]
     },
     "metadata": {},
     "output_type": "display_data"
    },
    {
     "data": {
      "text/html": [
       " View run <strong style=\"color:#cdcd00\">MobilenetV3small_1_96_c3_o3_keras</strong> at: <a href=\"https://wandb.ai/susbrock/model_DB/runs/84h2pyub\" target=\"_blank\">https://wandb.ai/susbrock/model_DB/runs/84h2pyub</a><br/>Synced 3 W&B file(s), 0 media file(s), 0 artifact file(s) and 1 other file(s)"
      ],
      "text/plain": [
       "<IPython.core.display.HTML object>"
      ]
     },
     "metadata": {},
     "output_type": "display_data"
    },
    {
     "data": {
      "text/html": [
       "Find logs at: <code>.\\wandb\\run-20230301_205835-84h2pyub\\logs</code>"
      ],
      "text/plain": [
       "<IPython.core.display.HTML object>"
      ]
     },
     "metadata": {},
     "output_type": "display_data"
    },
    {
     "data": {
      "text/html": [
       "Successfully finished last run (ID:84h2pyub). Initializing new run:<br/>"
      ],
      "text/plain": [
       "<IPython.core.display.HTML object>"
      ]
     },
     "metadata": {},
     "output_type": "display_data"
    },
    {
     "data": {
      "application/vnd.jupyter.widget-view+json": {
       "model_id": "4295ae8aacd54175b343fef0947b0f8b",
       "version_major": 2,
       "version_minor": 0
      },
      "text/plain": [
       "VBox(children=(Label(value='Waiting for wandb.init()...\\r'), FloatProgress(value=0.016666666666666666, max=1.0…"
      ]
     },
     "metadata": {},
     "output_type": "display_data"
    },
    {
     "data": {
      "text/html": [
       "wandb version 0.13.10 is available!  To upgrade, please run:\n",
       " $ pip install wandb --upgrade"
      ],
      "text/plain": [
       "<IPython.core.display.HTML object>"
      ]
     },
     "metadata": {},
     "output_type": "display_data"
    },
    {
     "data": {
      "text/html": [
       "Tracking run with wandb version 0.13.9"
      ],
      "text/plain": [
       "<IPython.core.display.HTML object>"
      ]
     },
     "metadata": {},
     "output_type": "display_data"
    },
    {
     "data": {
      "text/html": [
       "Run data is saved locally in <code>i:\\tinyml\\tiny_cnn\\wandb\\run-20230301_205843-x4xe6px9</code>"
      ],
      "text/plain": [
       "<IPython.core.display.HTML object>"
      ]
     },
     "metadata": {},
     "output_type": "display_data"
    },
    {
     "data": {
      "text/html": [
       "Resuming run <strong><a href=\"https://wandb.ai/susbrock/model_DB/runs/x4xe6px9\" target=\"_blank\">shufflenetv2tiny_0.05_96_c3_o2_f24l1024</a></strong> to <a href=\"https://wandb.ai/susbrock/model_DB\" target=\"_blank\">Weights & Biases</a> (<a href=\"https://wandb.me/run\" target=\"_blank\">docs</a>)<br/>"
      ],
      "text/plain": [
       "<IPython.core.display.HTML object>"
      ]
     },
     "metadata": {},
     "output_type": "display_data"
    },
    {
     "data": {
      "text/html": [
       " View project at <a href=\"https://wandb.ai/susbrock/model_DB\" target=\"_blank\">https://wandb.ai/susbrock/model_DB</a>"
      ],
      "text/plain": [
       "<IPython.core.display.HTML object>"
      ]
     },
     "metadata": {},
     "output_type": "display_data"
    },
    {
     "data": {
      "text/html": [
       " View run at <a href=\"https://wandb.ai/susbrock/model_DB/runs/x4xe6px9\" target=\"_blank\">https://wandb.ai/susbrock/model_DB/runs/x4xe6px9</a>"
      ],
      "text/plain": [
       "<IPython.core.display.HTML object>"
      ]
     },
     "metadata": {},
     "output_type": "display_data"
    },
    {
     "name": "stdout",
     "output_type": "stream",
     "text": [
      "shufflenetv2tiny_0.05_96_c3_o2_f24l1024 has no run_id\n",
      "e0bbs9ge\n"
     ]
    },
    {
     "data": {
      "text/html": [
       "Finishing last run (ID:x4xe6px9) before initializing another..."
      ],
      "text/plain": [
       "<IPython.core.display.HTML object>"
      ]
     },
     "metadata": {},
     "output_type": "display_data"
    },
    {
     "data": {
      "text/html": [
       "Waiting for W&B process to finish... <strong style=\"color:green\">(success).</strong>"
      ],
      "text/plain": [
       "<IPython.core.display.HTML object>"
      ]
     },
     "metadata": {},
     "output_type": "display_data"
    },
    {
     "data": {
      "application/vnd.jupyter.widget-view+json": {
       "model_id": "046315571d0247eba594ca271100f7ef",
       "version_major": 2,
       "version_minor": 0
      },
      "text/plain": [
       "VBox(children=(Label(value='0.000 MB of 0.002 MB uploaded (0.000 MB deduped)\\r'), FloatProgress(value=0.0, max…"
      ]
     },
     "metadata": {},
     "output_type": "display_data"
    },
    {
     "data": {
      "text/html": [
       "<style>\n",
       "    table.wandb td:nth-child(1) { padding: 0 10px; text-align: left ; width: auto;} td:nth-child(2) {text-align: left ; width: 100%}\n",
       "    .wandb-row { display: flex; flex-direction: row; flex-wrap: wrap; justify-content: flex-start; width: 100% }\n",
       "    .wandb-col { display: flex; flex-direction: column; flex-basis: 100%; flex: 1; padding: 10px; }\n",
       "    </style>\n",
       "<div class=\"wandb-row\"><div class=\"wandb-col\"><h3>Run summary:</h3><br/><table class=\"wandb\"><tr><td>allocate_tensors_ms_%</td><td>46.757</td></tr><tr><td>allocate_tensors_ms_avg</td><td>0.173</td></tr><tr><td>allocate_tensors_ms_first</td><td>0.173</td></tr><tr><td>first_inference_us</td><td>13490</td></tr><tr><td>inference_avg_us</td><td>1039.41</td></tr><tr><td>init_us</td><td>153427</td></tr><tr><td>initialization_ms</td><td>153.427</td></tr><tr><td>model_size_MB</td><td>0.19176</td></tr><tr><td>modify_graph_with_delegate_mem_KB</td><td>0</td></tr><tr><td>modify_graph_with_delegate_ms_%</td><td>53.243</td></tr><tr><td>modify_graph_with_delegate_ms_avg</td><td>0.197</td></tr><tr><td>modify_graph_with_delegate_ms_first</td><td>0.197</td></tr><tr><td>warmup_avg_us</td><td>751.976</td></tr></table><br/></div></div>"
      ],
      "text/plain": [
       "<IPython.core.display.HTML object>"
      ]
     },
     "metadata": {},
     "output_type": "display_data"
    },
    {
     "data": {
      "text/html": [
       " View run <strong style=\"color:#cdcd00\">shufflenetv2tiny_0.05_96_c3_o2_f24l1024</strong> at: <a href=\"https://wandb.ai/susbrock/model_DB/runs/x4xe6px9\" target=\"_blank\">https://wandb.ai/susbrock/model_DB/runs/x4xe6px9</a><br/>Synced 3 W&B file(s), 0 media file(s), 0 artifact file(s) and 0 other file(s)"
      ],
      "text/plain": [
       "<IPython.core.display.HTML object>"
      ]
     },
     "metadata": {},
     "output_type": "display_data"
    },
    {
     "data": {
      "text/html": [
       "Find logs at: <code>.\\wandb\\run-20230301_205843-x4xe6px9\\logs</code>"
      ],
      "text/plain": [
       "<IPython.core.display.HTML object>"
      ]
     },
     "metadata": {},
     "output_type": "display_data"
    },
    {
     "data": {
      "text/html": [
       "Successfully finished last run (ID:x4xe6px9). Initializing new run:<br/>"
      ],
      "text/plain": [
       "<IPython.core.display.HTML object>"
      ]
     },
     "metadata": {},
     "output_type": "display_data"
    },
    {
     "data": {
      "application/vnd.jupyter.widget-view+json": {
       "model_id": "8aa9aa927fcf4431bce00464c0ea5164",
       "version_major": 2,
       "version_minor": 0
      },
      "text/plain": [
       "VBox(children=(Label(value='Waiting for wandb.init()...\\r'), FloatProgress(value=0.016916666666664543, max=1.0…"
      ]
     },
     "metadata": {},
     "output_type": "display_data"
    },
    {
     "data": {
      "text/html": [
       "wandb version 0.13.10 is available!  To upgrade, please run:\n",
       " $ pip install wandb --upgrade"
      ],
      "text/plain": [
       "<IPython.core.display.HTML object>"
      ]
     },
     "metadata": {},
     "output_type": "display_data"
    },
    {
     "data": {
      "text/html": [
       "Tracking run with wandb version 0.13.9"
      ],
      "text/plain": [
       "<IPython.core.display.HTML object>"
      ]
     },
     "metadata": {},
     "output_type": "display_data"
    },
    {
     "data": {
      "text/html": [
       "Run data is saved locally in <code>i:\\tinyml\\tiny_cnn\\wandb\\run-20230301_205853-e0bbs9ge</code>"
      ],
      "text/plain": [
       "<IPython.core.display.HTML object>"
      ]
     },
     "metadata": {},
     "output_type": "display_data"
    },
    {
     "data": {
      "text/html": [
       "Resuming run <strong><a href=\"https://wandb.ai/susbrock/model_DB/runs/e0bbs9ge\" target=\"_blank\">shufflenetv2tiny_0.2_96_c3_o2_f24l1024</a></strong> to <a href=\"https://wandb.ai/susbrock/model_DB\" target=\"_blank\">Weights & Biases</a> (<a href=\"https://wandb.me/run\" target=\"_blank\">docs</a>)<br/>"
      ],
      "text/plain": [
       "<IPython.core.display.HTML object>"
      ]
     },
     "metadata": {},
     "output_type": "display_data"
    },
    {
     "data": {
      "text/html": [
       " View project at <a href=\"https://wandb.ai/susbrock/model_DB\" target=\"_blank\">https://wandb.ai/susbrock/model_DB</a>"
      ],
      "text/plain": [
       "<IPython.core.display.HTML object>"
      ]
     },
     "metadata": {},
     "output_type": "display_data"
    },
    {
     "data": {
      "text/html": [
       " View run at <a href=\"https://wandb.ai/susbrock/model_DB/runs/e0bbs9ge\" target=\"_blank\">https://wandb.ai/susbrock/model_DB/runs/e0bbs9ge</a>"
      ],
      "text/plain": [
       "<IPython.core.display.HTML object>"
      ]
     },
     "metadata": {},
     "output_type": "display_data"
    },
    {
     "name": "stdout",
     "output_type": "stream",
     "text": [
      "shufflenetv2tiny_0.2_96_c3_o2_f24l1024 has no run_id\n",
      "0qwur26s\n"
     ]
    },
    {
     "data": {
      "text/html": [
       "Finishing last run (ID:e0bbs9ge) before initializing another..."
      ],
      "text/plain": [
       "<IPython.core.display.HTML object>"
      ]
     },
     "metadata": {},
     "output_type": "display_data"
    },
    {
     "data": {
      "text/html": [
       "Waiting for W&B process to finish... <strong style=\"color:green\">(success).</strong>"
      ],
      "text/plain": [
       "<IPython.core.display.HTML object>"
      ]
     },
     "metadata": {},
     "output_type": "display_data"
    },
    {
     "data": {
      "text/html": [
       "<style>\n",
       "    table.wandb td:nth-child(1) { padding: 0 10px; text-align: left ; width: auto;} td:nth-child(2) {text-align: left ; width: 100%}\n",
       "    .wandb-row { display: flex; flex-direction: row; flex-wrap: wrap; justify-content: flex-start; width: 100% }\n",
       "    .wandb-col { display: flex; flex-direction: column; flex-basis: 100%; flex: 1; padding: 10px; }\n",
       "    </style>\n",
       "<div class=\"wandb-row\"><div class=\"wandb-col\"><h3>Run summary:</h3><br/><table class=\"wandb\"><tr><td>allocate_tensors_ms_%</td><td>46.104</td></tr><tr><td>allocate_tensors_ms_avg</td><td>0.142</td></tr><tr><td>allocate_tensors_ms_first</td><td>0.142</td></tr><tr><td>first_inference_us</td><td>43474</td></tr><tr><td>inference_avg_us</td><td>1425.01</td></tr><tr><td>init_us</td><td>199429</td></tr><tr><td>initialization_ms</td><td>199.429</td></tr><tr><td>model_size_MB</td><td>0.51806</td></tr><tr><td>modify_graph_with_delegate_mem_KB</td><td>0</td></tr><tr><td>modify_graph_with_delegate_ms_%</td><td>53.896</td></tr><tr><td>modify_graph_with_delegate_ms_avg</td><td>0.166</td></tr><tr><td>modify_graph_with_delegate_ms_first</td><td>0.166</td></tr><tr><td>warmup_avg_us</td><td>1374.57</td></tr></table><br/></div></div>"
      ],
      "text/plain": [
       "<IPython.core.display.HTML object>"
      ]
     },
     "metadata": {},
     "output_type": "display_data"
    },
    {
     "data": {
      "text/html": [
       " View run <strong style=\"color:#cdcd00\">shufflenetv2tiny_0.2_96_c3_o2_f24l1024</strong> at: <a href=\"https://wandb.ai/susbrock/model_DB/runs/e0bbs9ge\" target=\"_blank\">https://wandb.ai/susbrock/model_DB/runs/e0bbs9ge</a><br/>Synced 3 W&B file(s), 0 media file(s), 0 artifact file(s) and 1 other file(s)"
      ],
      "text/plain": [
       "<IPython.core.display.HTML object>"
      ]
     },
     "metadata": {},
     "output_type": "display_data"
    },
    {
     "data": {
      "text/html": [
       "Find logs at: <code>.\\wandb\\run-20230301_205853-e0bbs9ge\\logs</code>"
      ],
      "text/plain": [
       "<IPython.core.display.HTML object>"
      ]
     },
     "metadata": {},
     "output_type": "display_data"
    },
    {
     "data": {
      "text/html": [
       "Successfully finished last run (ID:e0bbs9ge). Initializing new run:<br/>"
      ],
      "text/plain": [
       "<IPython.core.display.HTML object>"
      ]
     },
     "metadata": {},
     "output_type": "display_data"
    },
    {
     "data": {
      "application/vnd.jupyter.widget-view+json": {
       "model_id": "3a866ea1a4ba4c63b538f2350d2c5edc",
       "version_major": 2,
       "version_minor": 0
      },
      "text/plain": [
       "VBox(children=(Label(value='Waiting for wandb.init()...\\r'), FloatProgress(value=0.016916666666664543, max=1.0…"
      ]
     },
     "metadata": {},
     "output_type": "display_data"
    },
    {
     "data": {
      "text/html": [
       "wandb version 0.13.10 is available!  To upgrade, please run:\n",
       " $ pip install wandb --upgrade"
      ],
      "text/plain": [
       "<IPython.core.display.HTML object>"
      ]
     },
     "metadata": {},
     "output_type": "display_data"
    },
    {
     "data": {
      "text/html": [
       "Tracking run with wandb version 0.13.9"
      ],
      "text/plain": [
       "<IPython.core.display.HTML object>"
      ]
     },
     "metadata": {},
     "output_type": "display_data"
    },
    {
     "data": {
      "text/html": [
       "Run data is saved locally in <code>i:\\tinyml\\tiny_cnn\\wandb\\run-20230301_205901-0qwur26s</code>"
      ],
      "text/plain": [
       "<IPython.core.display.HTML object>"
      ]
     },
     "metadata": {},
     "output_type": "display_data"
    },
    {
     "data": {
      "text/html": [
       "Resuming run <strong><a href=\"https://wandb.ai/susbrock/model_DB/runs/0qwur26s\" target=\"_blank\">shufflenetv2tiny_0.35_96_c3_o2_f24l1024</a></strong> to <a href=\"https://wandb.ai/susbrock/model_DB\" target=\"_blank\">Weights & Biases</a> (<a href=\"https://wandb.me/run\" target=\"_blank\">docs</a>)<br/>"
      ],
      "text/plain": [
       "<IPython.core.display.HTML object>"
      ]
     },
     "metadata": {},
     "output_type": "display_data"
    },
    {
     "data": {
      "text/html": [
       " View project at <a href=\"https://wandb.ai/susbrock/model_DB\" target=\"_blank\">https://wandb.ai/susbrock/model_DB</a>"
      ],
      "text/plain": [
       "<IPython.core.display.HTML object>"
      ]
     },
     "metadata": {},
     "output_type": "display_data"
    },
    {
     "data": {
      "text/html": [
       " View run at <a href=\"https://wandb.ai/susbrock/model_DB/runs/0qwur26s\" target=\"_blank\">https://wandb.ai/susbrock/model_DB/runs/0qwur26s</a>"
      ],
      "text/plain": [
       "<IPython.core.display.HTML object>"
      ]
     },
     "metadata": {},
     "output_type": "display_data"
    },
    {
     "name": "stdout",
     "output_type": "stream",
     "text": [
      "shufflenetv2tiny_0.35_96_c3_o2_f24l1024 has no run_id\n",
      "fbfsftzr\n"
     ]
    },
    {
     "data": {
      "text/html": [
       "Finishing last run (ID:0qwur26s) before initializing another..."
      ],
      "text/plain": [
       "<IPython.core.display.HTML object>"
      ]
     },
     "metadata": {},
     "output_type": "display_data"
    },
    {
     "data": {
      "text/html": [
       "Waiting for W&B process to finish... <strong style=\"color:green\">(success).</strong>"
      ],
      "text/plain": [
       "<IPython.core.display.HTML object>"
      ]
     },
     "metadata": {},
     "output_type": "display_data"
    },
    {
     "data": {
      "text/html": [
       "<style>\n",
       "    table.wandb td:nth-child(1) { padding: 0 10px; text-align: left ; width: auto;} td:nth-child(2) {text-align: left ; width: 100%}\n",
       "    .wandb-row { display: flex; flex-direction: row; flex-wrap: wrap; justify-content: flex-start; width: 100% }\n",
       "    .wandb-col { display: flex; flex-direction: column; flex-basis: 100%; flex: 1; padding: 10px; }\n",
       "    </style>\n",
       "<div class=\"wandb-row\"><div class=\"wandb-col\"><h3>Run summary:</h3><br/><table class=\"wandb\"><tr><td>allocate_tensors_ms_%</td><td>46.278</td></tr><tr><td>allocate_tensors_ms_avg</td><td>0.143</td></tr><tr><td>allocate_tensors_ms_first</td><td>0.143</td></tr><tr><td>first_inference_us</td><td>35600</td></tr><tr><td>inference_avg_us</td><td>1993.47</td></tr><tr><td>init_us</td><td>192558</td></tr><tr><td>initialization_ms</td><td>192.558</td></tr><tr><td>model_size_MB</td><td>0.81434</td></tr><tr><td>modify_graph_with_delegate_mem_KB</td><td>0</td></tr><tr><td>modify_graph_with_delegate_ms_%</td><td>53.722</td></tr><tr><td>modify_graph_with_delegate_ms_avg</td><td>0.166</td></tr><tr><td>modify_graph_with_delegate_ms_first</td><td>0.166</td></tr><tr><td>warmup_avg_us</td><td>1676.2</td></tr></table><br/></div></div>"
      ],
      "text/plain": [
       "<IPython.core.display.HTML object>"
      ]
     },
     "metadata": {},
     "output_type": "display_data"
    },
    {
     "data": {
      "text/html": [
       " View run <strong style=\"color:#cdcd00\">shufflenetv2tiny_0.35_96_c3_o2_f24l1024</strong> at: <a href=\"https://wandb.ai/susbrock/model_DB/runs/0qwur26s\" target=\"_blank\">https://wandb.ai/susbrock/model_DB/runs/0qwur26s</a><br/>Synced 3 W&B file(s), 0 media file(s), 0 artifact file(s) and 0 other file(s)"
      ],
      "text/plain": [
       "<IPython.core.display.HTML object>"
      ]
     },
     "metadata": {},
     "output_type": "display_data"
    },
    {
     "data": {
      "text/html": [
       "Find logs at: <code>.\\wandb\\run-20230301_205901-0qwur26s\\logs</code>"
      ],
      "text/plain": [
       "<IPython.core.display.HTML object>"
      ]
     },
     "metadata": {},
     "output_type": "display_data"
    },
    {
     "data": {
      "text/html": [
       "Successfully finished last run (ID:0qwur26s). Initializing new run:<br/>"
      ],
      "text/plain": [
       "<IPython.core.display.HTML object>"
      ]
     },
     "metadata": {},
     "output_type": "display_data"
    },
    {
     "data": {
      "application/vnd.jupyter.widget-view+json": {
       "model_id": "956872d5243149a28a0ac9c21d21df52",
       "version_major": 2,
       "version_minor": 0
      },
      "text/plain": [
       "VBox(children=(Label(value='Waiting for wandb.init()...\\r'), FloatProgress(value=0.016933333333334608, max=1.0…"
      ]
     },
     "metadata": {},
     "output_type": "display_data"
    },
    {
     "data": {
      "text/html": [
       "wandb version 0.13.10 is available!  To upgrade, please run:\n",
       " $ pip install wandb --upgrade"
      ],
      "text/plain": [
       "<IPython.core.display.HTML object>"
      ]
     },
     "metadata": {},
     "output_type": "display_data"
    },
    {
     "data": {
      "text/html": [
       "Tracking run with wandb version 0.13.9"
      ],
      "text/plain": [
       "<IPython.core.display.HTML object>"
      ]
     },
     "metadata": {},
     "output_type": "display_data"
    },
    {
     "data": {
      "text/html": [
       "Run data is saved locally in <code>i:\\tinyml\\tiny_cnn\\wandb\\run-20230301_205911-fbfsftzr</code>"
      ],
      "text/plain": [
       "<IPython.core.display.HTML object>"
      ]
     },
     "metadata": {},
     "output_type": "display_data"
    },
    {
     "data": {
      "text/html": [
       "Resuming run <strong><a href=\"https://wandb.ai/susbrock/model_DB/runs/fbfsftzr\" target=\"_blank\">shufflenetv2tiny_0.5_96_c3_o2_f24l1024</a></strong> to <a href=\"https://wandb.ai/susbrock/model_DB\" target=\"_blank\">Weights & Biases</a> (<a href=\"https://wandb.me/run\" target=\"_blank\">docs</a>)<br/>"
      ],
      "text/plain": [
       "<IPython.core.display.HTML object>"
      ]
     },
     "metadata": {},
     "output_type": "display_data"
    },
    {
     "data": {
      "text/html": [
       " View project at <a href=\"https://wandb.ai/susbrock/model_DB\" target=\"_blank\">https://wandb.ai/susbrock/model_DB</a>"
      ],
      "text/plain": [
       "<IPython.core.display.HTML object>"
      ]
     },
     "metadata": {},
     "output_type": "display_data"
    },
    {
     "data": {
      "text/html": [
       " View run at <a href=\"https://wandb.ai/susbrock/model_DB/runs/fbfsftzr\" target=\"_blank\">https://wandb.ai/susbrock/model_DB/runs/fbfsftzr</a>"
      ],
      "text/plain": [
       "<IPython.core.display.HTML object>"
      ]
     },
     "metadata": {},
     "output_type": "display_data"
    },
    {
     "name": "stdout",
     "output_type": "stream",
     "text": [
      "shufflenetv2tiny_0.5_96_c3_o2_f24l1024 has no run_id\n",
      "i3pqszjz\n"
     ]
    },
    {
     "data": {
      "text/html": [
       "Finishing last run (ID:fbfsftzr) before initializing another..."
      ],
      "text/plain": [
       "<IPython.core.display.HTML object>"
      ]
     },
     "metadata": {},
     "output_type": "display_data"
    },
    {
     "data": {
      "text/html": [
       "Waiting for W&B process to finish... <strong style=\"color:green\">(success).</strong>"
      ],
      "text/plain": [
       "<IPython.core.display.HTML object>"
      ]
     },
     "metadata": {},
     "output_type": "display_data"
    },
    {
     "data": {
      "application/vnd.jupyter.widget-view+json": {
       "model_id": "65d54ad684c9412e9c92ca6b4b817316",
       "version_major": 2,
       "version_minor": 0
      },
      "text/plain": [
       "VBox(children=(Label(value='0.000 MB of 0.008 MB uploaded (0.000 MB deduped)\\r'), FloatProgress(value=0.0, max…"
      ]
     },
     "metadata": {},
     "output_type": "display_data"
    },
    {
     "data": {
      "text/html": [
       "<style>\n",
       "    table.wandb td:nth-child(1) { padding: 0 10px; text-align: left ; width: auto;} td:nth-child(2) {text-align: left ; width: 100%}\n",
       "    .wandb-row { display: flex; flex-direction: row; flex-wrap: wrap; justify-content: flex-start; width: 100% }\n",
       "    .wandb-col { display: flex; flex-direction: column; flex-basis: 100%; flex: 1; padding: 10px; }\n",
       "    </style>\n",
       "<div class=\"wandb-row\"><div class=\"wandb-col\"><h3>Run summary:</h3><br/><table class=\"wandb\"><tr><td>allocate_tensors_ms_%</td><td>46.556</td></tr><tr><td>allocate_tensors_ms_avg</td><td>0.169</td></tr><tr><td>allocate_tensors_ms_first</td><td>0.169</td></tr><tr><td>first_inference_us</td><td>48145</td></tr><tr><td>inference_avg_us</td><td>2513.41</td></tr><tr><td>init_us</td><td>352166</td></tr><tr><td>initialization_ms</td><td>352.166</td></tr><tr><td>model_size_MB</td><td>1.17369</td></tr><tr><td>modify_graph_with_delegate_mem_KB</td><td>0</td></tr><tr><td>modify_graph_with_delegate_ms_%</td><td>53.444</td></tr><tr><td>modify_graph_with_delegate_ms_avg</td><td>0.194</td></tr><tr><td>modify_graph_with_delegate_ms_first</td><td>0.194</td></tr><tr><td>warmup_avg_us</td><td>2222.48</td></tr></table><br/></div></div>"
      ],
      "text/plain": [
       "<IPython.core.display.HTML object>"
      ]
     },
     "metadata": {},
     "output_type": "display_data"
    },
    {
     "data": {
      "text/html": [
       " View run <strong style=\"color:#cdcd00\">shufflenetv2tiny_0.5_96_c3_o2_f24l1024</strong> at: <a href=\"https://wandb.ai/susbrock/model_DB/runs/fbfsftzr\" target=\"_blank\">https://wandb.ai/susbrock/model_DB/runs/fbfsftzr</a><br/>Synced 3 W&B file(s), 0 media file(s), 0 artifact file(s) and 1 other file(s)"
      ],
      "text/plain": [
       "<IPython.core.display.HTML object>"
      ]
     },
     "metadata": {},
     "output_type": "display_data"
    },
    {
     "data": {
      "text/html": [
       "Find logs at: <code>.\\wandb\\run-20230301_205911-fbfsftzr\\logs</code>"
      ],
      "text/plain": [
       "<IPython.core.display.HTML object>"
      ]
     },
     "metadata": {},
     "output_type": "display_data"
    },
    {
     "data": {
      "text/html": [
       "Successfully finished last run (ID:fbfsftzr). Initializing new run:<br/>"
      ],
      "text/plain": [
       "<IPython.core.display.HTML object>"
      ]
     },
     "metadata": {},
     "output_type": "display_data"
    },
    {
     "data": {
      "application/vnd.jupyter.widget-view+json": {
       "model_id": "79936a747b234b6089011e1cf1c7c2a4",
       "version_major": 2,
       "version_minor": 0
      },
      "text/plain": [
       "VBox(children=(Label(value='Waiting for wandb.init()...\\r'), FloatProgress(value=0.016666666666666666, max=1.0…"
      ]
     },
     "metadata": {},
     "output_type": "display_data"
    },
    {
     "data": {
      "text/html": [
       "wandb version 0.13.10 is available!  To upgrade, please run:\n",
       " $ pip install wandb --upgrade"
      ],
      "text/plain": [
       "<IPython.core.display.HTML object>"
      ]
     },
     "metadata": {},
     "output_type": "display_data"
    },
    {
     "data": {
      "text/html": [
       "Tracking run with wandb version 0.13.9"
      ],
      "text/plain": [
       "<IPython.core.display.HTML object>"
      ]
     },
     "metadata": {},
     "output_type": "display_data"
    },
    {
     "data": {
      "text/html": [
       "Run data is saved locally in <code>i:\\tinyml\\tiny_cnn\\wandb\\run-20230301_205920-i3pqszjz</code>"
      ],
      "text/plain": [
       "<IPython.core.display.HTML object>"
      ]
     },
     "metadata": {},
     "output_type": "display_data"
    },
    {
     "data": {
      "text/html": [
       "Resuming run <strong><a href=\"https://wandb.ai/susbrock/model_DB/runs/i3pqszjz\" target=\"_blank\">shufflenetv2_0.5_96_c3_o2_000</a></strong> to <a href=\"https://wandb.ai/susbrock/model_DB\" target=\"_blank\">Weights & Biases</a> (<a href=\"https://wandb.me/run\" target=\"_blank\">docs</a>)<br/>"
      ],
      "text/plain": [
       "<IPython.core.display.HTML object>"
      ]
     },
     "metadata": {},
     "output_type": "display_data"
    },
    {
     "data": {
      "text/html": [
       " View project at <a href=\"https://wandb.ai/susbrock/model_DB\" target=\"_blank\">https://wandb.ai/susbrock/model_DB</a>"
      ],
      "text/plain": [
       "<IPython.core.display.HTML object>"
      ]
     },
     "metadata": {},
     "output_type": "display_data"
    },
    {
     "data": {
      "text/html": [
       " View run at <a href=\"https://wandb.ai/susbrock/model_DB/runs/i3pqszjz\" target=\"_blank\">https://wandb.ai/susbrock/model_DB/runs/i3pqszjz</a>"
      ],
      "text/plain": [
       "<IPython.core.display.HTML object>"
      ]
     },
     "metadata": {},
     "output_type": "display_data"
    },
    {
     "name": "stdout",
     "output_type": "stream",
     "text": [
      "shufflenetv2_0.5_96_c3_o2_000 has no run_id\n",
      "5h5jqmtk\n"
     ]
    },
    {
     "data": {
      "text/html": [
       "Finishing last run (ID:i3pqszjz) before initializing another..."
      ],
      "text/plain": [
       "<IPython.core.display.HTML object>"
      ]
     },
     "metadata": {},
     "output_type": "display_data"
    },
    {
     "data": {
      "text/html": [
       "Waiting for W&B process to finish... <strong style=\"color:green\">(success).</strong>"
      ],
      "text/plain": [
       "<IPython.core.display.HTML object>"
      ]
     },
     "metadata": {},
     "output_type": "display_data"
    },
    {
     "data": {
      "application/vnd.jupyter.widget-view+json": {
       "model_id": "a88a4162464c49baa049972720571923",
       "version_major": 2,
       "version_minor": 0
      },
      "text/plain": [
       "VBox(children=(Label(value='0.000 MB of 0.002 MB uploaded (0.000 MB deduped)\\r'), FloatProgress(value=0.0, max…"
      ]
     },
     "metadata": {},
     "output_type": "display_data"
    },
    {
     "data": {
      "text/html": [
       "<style>\n",
       "    table.wandb td:nth-child(1) { padding: 0 10px; text-align: left ; width: auto;} td:nth-child(2) {text-align: left ; width: 100%}\n",
       "    .wandb-row { display: flex; flex-direction: row; flex-wrap: wrap; justify-content: flex-start; width: 100% }\n",
       "    .wandb-col { display: flex; flex-direction: column; flex-basis: 100%; flex: 1; padding: 10px; }\n",
       "    </style>\n",
       "<div class=\"wandb-row\"><div class=\"wandb-col\"><h3>Run summary:</h3><br/><table class=\"wandb\"><tr><td>allocate_tensors_ms_%</td><td>45.338</td></tr><tr><td>allocate_tensors_ms_avg</td><td>0.141</td></tr><tr><td>allocate_tensors_ms_first</td><td>0.141</td></tr><tr><td>first_inference_us</td><td>83323</td></tr><tr><td>inference_avg_us</td><td>2249.8</td></tr><tr><td>init_us</td><td>459635</td></tr><tr><td>initialization_ms</td><td>459.635</td></tr><tr><td>model_size_MB</td><td>1.17158</td></tr><tr><td>modify_graph_with_delegate_mem_KB</td><td>0</td></tr><tr><td>modify_graph_with_delegate_ms_%</td><td>54.662</td></tr><tr><td>modify_graph_with_delegate_ms_avg</td><td>0.17</td></tr><tr><td>modify_graph_with_delegate_ms_first</td><td>0.17</td></tr><tr><td>warmup_avg_us</td><td>2429.73</td></tr></table><br/></div></div>"
      ],
      "text/plain": [
       "<IPython.core.display.HTML object>"
      ]
     },
     "metadata": {},
     "output_type": "display_data"
    },
    {
     "data": {
      "text/html": [
       " View run <strong style=\"color:#cdcd00\">shufflenetv2_0.5_96_c3_o2_000</strong> at: <a href=\"https://wandb.ai/susbrock/model_DB/runs/i3pqszjz\" target=\"_blank\">https://wandb.ai/susbrock/model_DB/runs/i3pqszjz</a><br/>Synced 3 W&B file(s), 0 media file(s), 0 artifact file(s) and 0 other file(s)"
      ],
      "text/plain": [
       "<IPython.core.display.HTML object>"
      ]
     },
     "metadata": {},
     "output_type": "display_data"
    },
    {
     "data": {
      "text/html": [
       "Find logs at: <code>.\\wandb\\run-20230301_205920-i3pqszjz\\logs</code>"
      ],
      "text/plain": [
       "<IPython.core.display.HTML object>"
      ]
     },
     "metadata": {},
     "output_type": "display_data"
    },
    {
     "data": {
      "text/html": [
       "Successfully finished last run (ID:i3pqszjz). Initializing new run:<br/>"
      ],
      "text/plain": [
       "<IPython.core.display.HTML object>"
      ]
     },
     "metadata": {},
     "output_type": "display_data"
    },
    {
     "data": {
      "application/vnd.jupyter.widget-view+json": {
       "model_id": "b0750e10a99c4af78f01e5bb2c06d1ba",
       "version_major": 2,
       "version_minor": 0
      },
      "text/plain": [
       "VBox(children=(Label(value='Waiting for wandb.init()...\\r'), FloatProgress(value=0.016916666666664543, max=1.0…"
      ]
     },
     "metadata": {},
     "output_type": "display_data"
    },
    {
     "data": {
      "text/html": [
       "wandb version 0.13.10 is available!  To upgrade, please run:\n",
       " $ pip install wandb --upgrade"
      ],
      "text/plain": [
       "<IPython.core.display.HTML object>"
      ]
     },
     "metadata": {},
     "output_type": "display_data"
    },
    {
     "data": {
      "text/html": [
       "Tracking run with wandb version 0.13.9"
      ],
      "text/plain": [
       "<IPython.core.display.HTML object>"
      ]
     },
     "metadata": {},
     "output_type": "display_data"
    },
    {
     "data": {
      "text/html": [
       "Run data is saved locally in <code>i:\\tinyml\\tiny_cnn\\wandb\\run-20230301_205929-5h5jqmtk</code>"
      ],
      "text/plain": [
       "<IPython.core.display.HTML object>"
      ]
     },
     "metadata": {},
     "output_type": "display_data"
    },
    {
     "data": {
      "text/html": [
       "Resuming run <strong><a href=\"https://wandb.ai/susbrock/model_DB/runs/5h5jqmtk\" target=\"_blank\">shufflenetv2_1_96_c3_o2_000</a></strong> to <a href=\"https://wandb.ai/susbrock/model_DB\" target=\"_blank\">Weights & Biases</a> (<a href=\"https://wandb.me/run\" target=\"_blank\">docs</a>)<br/>"
      ],
      "text/plain": [
       "<IPython.core.display.HTML object>"
      ]
     },
     "metadata": {},
     "output_type": "display_data"
    },
    {
     "data": {
      "text/html": [
       " View project at <a href=\"https://wandb.ai/susbrock/model_DB\" target=\"_blank\">https://wandb.ai/susbrock/model_DB</a>"
      ],
      "text/plain": [
       "<IPython.core.display.HTML object>"
      ]
     },
     "metadata": {},
     "output_type": "display_data"
    },
    {
     "data": {
      "text/html": [
       " View run at <a href=\"https://wandb.ai/susbrock/model_DB/runs/5h5jqmtk\" target=\"_blank\">https://wandb.ai/susbrock/model_DB/runs/5h5jqmtk</a>"
      ],
      "text/plain": [
       "<IPython.core.display.HTML object>"
      ]
     },
     "metadata": {},
     "output_type": "display_data"
    },
    {
     "name": "stdout",
     "output_type": "stream",
     "text": [
      "shufflenetv2_1_96_c3_o2_000 has no run_id\n",
      "r5s38gxe\n"
     ]
    },
    {
     "data": {
      "text/html": [
       "Finishing last run (ID:5h5jqmtk) before initializing another..."
      ],
      "text/plain": [
       "<IPython.core.display.HTML object>"
      ]
     },
     "metadata": {},
     "output_type": "display_data"
    },
    {
     "data": {
      "text/html": [
       "Waiting for W&B process to finish... <strong style=\"color:green\">(success).</strong>"
      ],
      "text/plain": [
       "<IPython.core.display.HTML object>"
      ]
     },
     "metadata": {},
     "output_type": "display_data"
    },
    {
     "data": {
      "text/html": [
       "<style>\n",
       "    table.wandb td:nth-child(1) { padding: 0 10px; text-align: left ; width: auto;} td:nth-child(2) {text-align: left ; width: 100%}\n",
       "    .wandb-row { display: flex; flex-direction: row; flex-wrap: wrap; justify-content: flex-start; width: 100% }\n",
       "    .wandb-col { display: flex; flex-direction: column; flex-basis: 100%; flex: 1; padding: 10px; }\n",
       "    </style>\n",
       "<div class=\"wandb-row\"><div class=\"wandb-col\"><h3>Run summary:</h3><br/><table class=\"wandb\"><tr><td>allocate_tensors_ms_%</td><td>45.82</td></tr><tr><td>allocate_tensors_ms_avg</td><td>0.148</td></tr><tr><td>allocate_tensors_ms_first</td><td>0.148</td></tr><tr><td>first_inference_us</td><td>168495</td></tr><tr><td>inference_avg_us</td><td>6577.26</td></tr><tr><td>init_us</td><td>821845</td></tr><tr><td>initialization_ms</td><td>821.845</td></tr><tr><td>model_size_MB</td><td>4.39927</td></tr><tr><td>modify_graph_with_delegate_mem_KB</td><td>0</td></tr><tr><td>modify_graph_with_delegate_ms_%</td><td>54.18</td></tr><tr><td>modify_graph_with_delegate_ms_avg</td><td>0.175</td></tr><tr><td>modify_graph_with_delegate_ms_first</td><td>0.175</td></tr><tr><td>warmup_avg_us</td><td>9358.02</td></tr></table><br/></div></div>"
      ],
      "text/plain": [
       "<IPython.core.display.HTML object>"
      ]
     },
     "metadata": {},
     "output_type": "display_data"
    },
    {
     "data": {
      "text/html": [
       " View run <strong style=\"color:#cdcd00\">shufflenetv2_1_96_c3_o2_000</strong> at: <a href=\"https://wandb.ai/susbrock/model_DB/runs/5h5jqmtk\" target=\"_blank\">https://wandb.ai/susbrock/model_DB/runs/5h5jqmtk</a><br/>Synced 3 W&B file(s), 0 media file(s), 0 artifact file(s) and 1 other file(s)"
      ],
      "text/plain": [
       "<IPython.core.display.HTML object>"
      ]
     },
     "metadata": {},
     "output_type": "display_data"
    },
    {
     "data": {
      "text/html": [
       "Find logs at: <code>.\\wandb\\run-20230301_205929-5h5jqmtk\\logs</code>"
      ],
      "text/plain": [
       "<IPython.core.display.HTML object>"
      ]
     },
     "metadata": {},
     "output_type": "display_data"
    },
    {
     "data": {
      "text/html": [
       "Successfully finished last run (ID:5h5jqmtk). Initializing new run:<br/>"
      ],
      "text/plain": [
       "<IPython.core.display.HTML object>"
      ]
     },
     "metadata": {},
     "output_type": "display_data"
    },
    {
     "data": {
      "application/vnd.jupyter.widget-view+json": {
       "model_id": "229639dca6e14d96ba2a193d122cc662",
       "version_major": 2,
       "version_minor": 0
      },
      "text/plain": [
       "VBox(children=(Label(value='Waiting for wandb.init()...\\r'), FloatProgress(value=0.016666666666666666, max=1.0…"
      ]
     },
     "metadata": {},
     "output_type": "display_data"
    },
    {
     "data": {
      "text/html": [
       "wandb version 0.13.10 is available!  To upgrade, please run:\n",
       " $ pip install wandb --upgrade"
      ],
      "text/plain": [
       "<IPython.core.display.HTML object>"
      ]
     },
     "metadata": {},
     "output_type": "display_data"
    },
    {
     "data": {
      "text/html": [
       "Tracking run with wandb version 0.13.9"
      ],
      "text/plain": [
       "<IPython.core.display.HTML object>"
      ]
     },
     "metadata": {},
     "output_type": "display_data"
    },
    {
     "data": {
      "text/html": [
       "Run data is saved locally in <code>i:\\tinyml\\tiny_cnn\\wandb\\run-20230301_205937-r5s38gxe</code>"
      ],
      "text/plain": [
       "<IPython.core.display.HTML object>"
      ]
     },
     "metadata": {},
     "output_type": "display_data"
    },
    {
     "data": {
      "text/html": [
       "Resuming run <strong><a href=\"https://wandb.ai/susbrock/model_DB/runs/r5s38gxe\" target=\"_blank\">shufflenetv2_1_96_c3_o2_nosplit</a></strong> to <a href=\"https://wandb.ai/susbrock/model_DB\" target=\"_blank\">Weights & Biases</a> (<a href=\"https://wandb.me/run\" target=\"_blank\">docs</a>)<br/>"
      ],
      "text/plain": [
       "<IPython.core.display.HTML object>"
      ]
     },
     "metadata": {},
     "output_type": "display_data"
    },
    {
     "data": {
      "text/html": [
       " View project at <a href=\"https://wandb.ai/susbrock/model_DB\" target=\"_blank\">https://wandb.ai/susbrock/model_DB</a>"
      ],
      "text/plain": [
       "<IPython.core.display.HTML object>"
      ]
     },
     "metadata": {},
     "output_type": "display_data"
    },
    {
     "data": {
      "text/html": [
       " View run at <a href=\"https://wandb.ai/susbrock/model_DB/runs/r5s38gxe\" target=\"_blank\">https://wandb.ai/susbrock/model_DB/runs/r5s38gxe</a>"
      ],
      "text/plain": [
       "<IPython.core.display.HTML object>"
      ]
     },
     "metadata": {},
     "output_type": "display_data"
    },
    {
     "name": "stdout",
     "output_type": "stream",
     "text": [
      "shufflenetv2_1_96_c3_o2_nosplit has no run_id\n",
      "zhmiturf\n"
     ]
    },
    {
     "data": {
      "text/html": [
       "Finishing last run (ID:r5s38gxe) before initializing another..."
      ],
      "text/plain": [
       "<IPython.core.display.HTML object>"
      ]
     },
     "metadata": {},
     "output_type": "display_data"
    },
    {
     "data": {
      "text/html": [
       "Waiting for W&B process to finish... <strong style=\"color:green\">(success).</strong>"
      ],
      "text/plain": [
       "<IPython.core.display.HTML object>"
      ]
     },
     "metadata": {},
     "output_type": "display_data"
    },
    {
     "data": {
      "application/vnd.jupyter.widget-view+json": {
       "model_id": "4bc306747ade4089a26b4047d73ff770",
       "version_major": 2,
       "version_minor": 0
      },
      "text/plain": [
       "VBox(children=(Label(value='0.000 MB of 0.002 MB uploaded (0.000 MB deduped)\\r'), FloatProgress(value=0.0, max…"
      ]
     },
     "metadata": {},
     "output_type": "display_data"
    },
    {
     "data": {
      "text/html": [
       "<style>\n",
       "    table.wandb td:nth-child(1) { padding: 0 10px; text-align: left ; width: auto;} td:nth-child(2) {text-align: left ; width: 100%}\n",
       "    .wandb-row { display: flex; flex-direction: row; flex-wrap: wrap; justify-content: flex-start; width: 100% }\n",
       "    .wandb-col { display: flex; flex-direction: column; flex-basis: 100%; flex: 1; padding: 10px; }\n",
       "    </style>\n",
       "<div class=\"wandb-row\"><div class=\"wandb-col\"><h3>Run summary:</h3><br/><table class=\"wandb\"><tr><td>allocate_tensors_ms_%</td><td>46.194</td></tr><tr><td>allocate_tensors_ms_avg</td><td>0.176</td></tr><tr><td>allocate_tensors_ms_first</td><td>0.176</td></tr><tr><td>first_inference_us</td><td>71056</td></tr><tr><td>inference_avg_us</td><td>7332.36</td></tr><tr><td>init_us</td><td>183903</td></tr><tr><td>initialization_ms</td><td>183.903</td></tr><tr><td>model_size_MB</td><td>4.39927</td></tr><tr><td>modify_graph_with_delegate_mem_KB</td><td>0</td></tr><tr><td>modify_graph_with_delegate_ms_%</td><td>53.806</td></tr><tr><td>modify_graph_with_delegate_ms_avg</td><td>0.205</td></tr><tr><td>modify_graph_with_delegate_ms_first</td><td>0.205</td></tr><tr><td>warmup_avg_us</td><td>7606.79</td></tr></table><br/></div></div>"
      ],
      "text/plain": [
       "<IPython.core.display.HTML object>"
      ]
     },
     "metadata": {},
     "output_type": "display_data"
    },
    {
     "data": {
      "text/html": [
       " View run <strong style=\"color:#cdcd00\">shufflenetv2_1_96_c3_o2_nosplit</strong> at: <a href=\"https://wandb.ai/susbrock/model_DB/runs/r5s38gxe\" target=\"_blank\">https://wandb.ai/susbrock/model_DB/runs/r5s38gxe</a><br/>Synced 3 W&B file(s), 0 media file(s), 0 artifact file(s) and 0 other file(s)"
      ],
      "text/plain": [
       "<IPython.core.display.HTML object>"
      ]
     },
     "metadata": {},
     "output_type": "display_data"
    },
    {
     "data": {
      "text/html": [
       "Find logs at: <code>.\\wandb\\run-20230301_205937-r5s38gxe\\logs</code>"
      ],
      "text/plain": [
       "<IPython.core.display.HTML object>"
      ]
     },
     "metadata": {},
     "output_type": "display_data"
    },
    {
     "data": {
      "text/html": [
       "Successfully finished last run (ID:r5s38gxe). Initializing new run:<br/>"
      ],
      "text/plain": [
       "<IPython.core.display.HTML object>"
      ]
     },
     "metadata": {},
     "output_type": "display_data"
    },
    {
     "data": {
      "application/vnd.jupyter.widget-view+json": {
       "model_id": "c406cd76b08049258cb8c943ea6db17b",
       "version_major": 2,
       "version_minor": 0
      },
      "text/plain": [
       "VBox(children=(Label(value='Waiting for wandb.init()...\\r'), FloatProgress(value=0.016933333333334608, max=1.0…"
      ]
     },
     "metadata": {},
     "output_type": "display_data"
    },
    {
     "data": {
      "text/html": [
       "wandb version 0.13.10 is available!  To upgrade, please run:\n",
       " $ pip install wandb --upgrade"
      ],
      "text/plain": [
       "<IPython.core.display.HTML object>"
      ]
     },
     "metadata": {},
     "output_type": "display_data"
    },
    {
     "data": {
      "text/html": [
       "Tracking run with wandb version 0.13.9"
      ],
      "text/plain": [
       "<IPython.core.display.HTML object>"
      ]
     },
     "metadata": {},
     "output_type": "display_data"
    },
    {
     "data": {
      "text/html": [
       "Run data is saved locally in <code>i:\\tinyml\\tiny_cnn\\wandb\\run-20230301_205948-zhmiturf</code>"
      ],
      "text/plain": [
       "<IPython.core.display.HTML object>"
      ]
     },
     "metadata": {},
     "output_type": "display_data"
    },
    {
     "data": {
      "text/html": [
       "Resuming run <strong><a href=\"https://wandb.ai/susbrock/model_DB/runs/zhmiturf\" target=\"_blank\">mnasnet_1_96_c3_o2_keras</a></strong> to <a href=\"https://wandb.ai/susbrock/model_DB\" target=\"_blank\">Weights & Biases</a> (<a href=\"https://wandb.me/run\" target=\"_blank\">docs</a>)<br/>"
      ],
      "text/plain": [
       "<IPython.core.display.HTML object>"
      ]
     },
     "metadata": {},
     "output_type": "display_data"
    },
    {
     "data": {
      "text/html": [
       " View project at <a href=\"https://wandb.ai/susbrock/model_DB\" target=\"_blank\">https://wandb.ai/susbrock/model_DB</a>"
      ],
      "text/plain": [
       "<IPython.core.display.HTML object>"
      ]
     },
     "metadata": {},
     "output_type": "display_data"
    },
    {
     "data": {
      "text/html": [
       " View run at <a href=\"https://wandb.ai/susbrock/model_DB/runs/zhmiturf\" target=\"_blank\">https://wandb.ai/susbrock/model_DB/runs/zhmiturf</a>"
      ],
      "text/plain": [
       "<IPython.core.display.HTML object>"
      ]
     },
     "metadata": {},
     "output_type": "display_data"
    },
    {
     "name": "stdout",
     "output_type": "stream",
     "text": [
      "mnasnet_1_96_c3_o2_keras has no run_id\n",
      "pvvr30bp\n"
     ]
    },
    {
     "data": {
      "text/html": [
       "Finishing last run (ID:zhmiturf) before initializing another..."
      ],
      "text/plain": [
       "<IPython.core.display.HTML object>"
      ]
     },
     "metadata": {},
     "output_type": "display_data"
    },
    {
     "data": {
      "text/html": [
       "Waiting for W&B process to finish... <strong style=\"color:green\">(success).</strong>"
      ],
      "text/plain": [
       "<IPython.core.display.HTML object>"
      ]
     },
     "metadata": {},
     "output_type": "display_data"
    },
    {
     "data": {
      "application/vnd.jupyter.widget-view+json": {
       "model_id": "56399ecf99af40249a1ed2100a20b8d7",
       "version_major": 2,
       "version_minor": 0
      },
      "text/plain": [
       "VBox(children=(Label(value='0.000 MB of 0.008 MB uploaded (0.000 MB deduped)\\r'), FloatProgress(value=0.0, max…"
      ]
     },
     "metadata": {},
     "output_type": "display_data"
    },
    {
     "data": {
      "text/html": [
       "<style>\n",
       "    table.wandb td:nth-child(1) { padding: 0 10px; text-align: left ; width: auto;} td:nth-child(2) {text-align: left ; width: 100%}\n",
       "    .wandb-row { display: flex; flex-direction: row; flex-wrap: wrap; justify-content: flex-start; width: 100% }\n",
       "    .wandb-col { display: flex; flex-direction: column; flex-basis: 100%; flex: 1; padding: 10px; }\n",
       "    </style>\n",
       "<div class=\"wandb-row\"><div class=\"wandb-col\"><h3>Run summary:</h3><br/><table class=\"wandb\"><tr><td>allocate_tensors_ms_%</td><td>0.759</td></tr><tr><td>allocate_tensors_ms_avg</td><td>0.451</td></tr><tr><td>allocate_tensors_ms_first</td><td>0.451</td></tr><tr><td>first_inference_us</td><td>53846</td></tr><tr><td>inference_avg_us</td><td>19160.6</td></tr><tr><td>init_us</td><td>611592</td></tr><tr><td>initialization_ms</td><td>611.592</td></tr><tr><td>model_size_MB</td><td>5.27461</td></tr><tr><td>modify_graph_with_delegate_mem_KB</td><td>13068</td></tr><tr><td>modify_graph_with_delegate_ms_%</td><td>99.241</td></tr><tr><td>modify_graph_with_delegate_ms_avg</td><td>58.974</td></tr><tr><td>modify_graph_with_delegate_ms_first</td><td>58.974</td></tr><tr><td>warmup_avg_us</td><td>19548.3</td></tr></table><br/></div></div>"
      ],
      "text/plain": [
       "<IPython.core.display.HTML object>"
      ]
     },
     "metadata": {},
     "output_type": "display_data"
    },
    {
     "data": {
      "text/html": [
       " View run <strong style=\"color:#cdcd00\">mnasnet_1_96_c3_o2_keras</strong> at: <a href=\"https://wandb.ai/susbrock/model_DB/runs/zhmiturf\" target=\"_blank\">https://wandb.ai/susbrock/model_DB/runs/zhmiturf</a><br/>Synced 3 W&B file(s), 0 media file(s), 0 artifact file(s) and 1 other file(s)"
      ],
      "text/plain": [
       "<IPython.core.display.HTML object>"
      ]
     },
     "metadata": {},
     "output_type": "display_data"
    },
    {
     "data": {
      "text/html": [
       "Find logs at: <code>.\\wandb\\run-20230301_205948-zhmiturf\\logs</code>"
      ],
      "text/plain": [
       "<IPython.core.display.HTML object>"
      ]
     },
     "metadata": {},
     "output_type": "display_data"
    },
    {
     "data": {
      "text/html": [
       "Successfully finished last run (ID:zhmiturf). Initializing new run:<br/>"
      ],
      "text/plain": [
       "<IPython.core.display.HTML object>"
      ]
     },
     "metadata": {},
     "output_type": "display_data"
    },
    {
     "data": {
      "application/vnd.jupyter.widget-view+json": {
       "model_id": "a4c7496db06c48f3863d7d2e09e5f952",
       "version_major": 2,
       "version_minor": 0
      },
      "text/plain": [
       "VBox(children=(Label(value='Waiting for wandb.init()...\\r'), FloatProgress(value=0.016666666666666666, max=1.0…"
      ]
     },
     "metadata": {},
     "output_type": "display_data"
    },
    {
     "data": {
      "text/html": [
       "wandb version 0.13.10 is available!  To upgrade, please run:\n",
       " $ pip install wandb --upgrade"
      ],
      "text/plain": [
       "<IPython.core.display.HTML object>"
      ]
     },
     "metadata": {},
     "output_type": "display_data"
    },
    {
     "data": {
      "text/html": [
       "Tracking run with wandb version 0.13.9"
      ],
      "text/plain": [
       "<IPython.core.display.HTML object>"
      ]
     },
     "metadata": {},
     "output_type": "display_data"
    },
    {
     "data": {
      "text/html": [
       "Run data is saved locally in <code>i:\\tinyml\\tiny_cnn\\wandb\\run-20230301_205956-pvvr30bp</code>"
      ],
      "text/plain": [
       "<IPython.core.display.HTML object>"
      ]
     },
     "metadata": {},
     "output_type": "display_data"
    },
    {
     "data": {
      "text/html": [
       "Resuming run <strong><a href=\"https://wandb.ai/susbrock/model_DB/runs/pvvr30bp\" target=\"_blank\">mobilenetv1vvw_0.25_96_c3_o2_vvw</a></strong> to <a href=\"https://wandb.ai/susbrock/model_DB\" target=\"_blank\">Weights & Biases</a> (<a href=\"https://wandb.me/run\" target=\"_blank\">docs</a>)<br/>"
      ],
      "text/plain": [
       "<IPython.core.display.HTML object>"
      ]
     },
     "metadata": {},
     "output_type": "display_data"
    },
    {
     "data": {
      "text/html": [
       " View project at <a href=\"https://wandb.ai/susbrock/model_DB\" target=\"_blank\">https://wandb.ai/susbrock/model_DB</a>"
      ],
      "text/plain": [
       "<IPython.core.display.HTML object>"
      ]
     },
     "metadata": {},
     "output_type": "display_data"
    },
    {
     "data": {
      "text/html": [
       " View run at <a href=\"https://wandb.ai/susbrock/model_DB/runs/pvvr30bp\" target=\"_blank\">https://wandb.ai/susbrock/model_DB/runs/pvvr30bp</a>"
      ],
      "text/plain": [
       "<IPython.core.display.HTML object>"
      ]
     },
     "metadata": {},
     "output_type": "display_data"
    },
    {
     "name": "stdout",
     "output_type": "stream",
     "text": [
      "mobilenetv1vvw_0.25_96_c3_o2_vvw has no run_id\n",
      "r7tokmwg\n"
     ]
    },
    {
     "data": {
      "text/html": [
       "Finishing last run (ID:pvvr30bp) before initializing another..."
      ],
      "text/plain": [
       "<IPython.core.display.HTML object>"
      ]
     },
     "metadata": {},
     "output_type": "display_data"
    },
    {
     "data": {
      "text/html": [
       "Waiting for W&B process to finish... <strong style=\"color:green\">(success).</strong>"
      ],
      "text/plain": [
       "<IPython.core.display.HTML object>"
      ]
     },
     "metadata": {},
     "output_type": "display_data"
    },
    {
     "data": {
      "text/html": [
       " View run <strong style=\"color:#cdcd00\">mobilenetv1vvw_0.25_96_c3_o2_vvw</strong> at: <a href=\"https://wandb.ai/susbrock/model_DB/runs/pvvr30bp\" target=\"_blank\">https://wandb.ai/susbrock/model_DB/runs/pvvr30bp</a><br/>Synced 3 W&B file(s), 0 media file(s), 0 artifact file(s) and 0 other file(s)"
      ],
      "text/plain": [
       "<IPython.core.display.HTML object>"
      ]
     },
     "metadata": {},
     "output_type": "display_data"
    },
    {
     "data": {
      "text/html": [
       "Find logs at: <code>.\\wandb\\run-20230301_205956-pvvr30bp\\logs</code>"
      ],
      "text/plain": [
       "<IPython.core.display.HTML object>"
      ]
     },
     "metadata": {},
     "output_type": "display_data"
    },
    {
     "data": {
      "text/html": [
       "Successfully finished last run (ID:pvvr30bp). Initializing new run:<br/>"
      ],
      "text/plain": [
       "<IPython.core.display.HTML object>"
      ]
     },
     "metadata": {},
     "output_type": "display_data"
    },
    {
     "data": {
      "application/vnd.jupyter.widget-view+json": {
       "model_id": "4ca6f9c331c54805a7fca09d641bc4a1",
       "version_major": 2,
       "version_minor": 0
      },
      "text/plain": [
       "VBox(children=(Label(value='Waiting for wandb.init()...\\r'), FloatProgress(value=0.016916666666664543, max=1.0…"
      ]
     },
     "metadata": {},
     "output_type": "display_data"
    },
    {
     "data": {
      "text/html": [
       "wandb version 0.13.10 is available!  To upgrade, please run:\n",
       " $ pip install wandb --upgrade"
      ],
      "text/plain": [
       "<IPython.core.display.HTML object>"
      ]
     },
     "metadata": {},
     "output_type": "display_data"
    },
    {
     "data": {
      "text/html": [
       "Tracking run with wandb version 0.13.9"
      ],
      "text/plain": [
       "<IPython.core.display.HTML object>"
      ]
     },
     "metadata": {},
     "output_type": "display_data"
    },
    {
     "data": {
      "text/html": [
       "Run data is saved locally in <code>i:\\tinyml\\tiny_cnn\\wandb\\run-20230301_210005-r7tokmwg</code>"
      ],
      "text/plain": [
       "<IPython.core.display.HTML object>"
      ]
     },
     "metadata": {},
     "output_type": "display_data"
    },
    {
     "data": {
      "text/html": [
       "Resuming run <strong><a href=\"https://wandb.ai/susbrock/model_DB/runs/r7tokmwg\" target=\"_blank\">mobilenetv2_0.1_96_c3_o2_l5</a></strong> to <a href=\"https://wandb.ai/susbrock/model_DB\" target=\"_blank\">Weights & Biases</a> (<a href=\"https://wandb.me/run\" target=\"_blank\">docs</a>)<br/>"
      ],
      "text/plain": [
       "<IPython.core.display.HTML object>"
      ]
     },
     "metadata": {},
     "output_type": "display_data"
    },
    {
     "data": {
      "text/html": [
       " View project at <a href=\"https://wandb.ai/susbrock/model_DB\" target=\"_blank\">https://wandb.ai/susbrock/model_DB</a>"
      ],
      "text/plain": [
       "<IPython.core.display.HTML object>"
      ]
     },
     "metadata": {},
     "output_type": "display_data"
    },
    {
     "data": {
      "text/html": [
       " View run at <a href=\"https://wandb.ai/susbrock/model_DB/runs/r7tokmwg\" target=\"_blank\">https://wandb.ai/susbrock/model_DB/runs/r7tokmwg</a>"
      ],
      "text/plain": [
       "<IPython.core.display.HTML object>"
      ]
     },
     "metadata": {},
     "output_type": "display_data"
    },
    {
     "name": "stdout",
     "output_type": "stream",
     "text": [
      "mobilenetv2_0.1_96_c3_o2_l5 has no run_id\n",
      "8i2yq4ji\n"
     ]
    },
    {
     "data": {
      "text/html": [
       "Finishing last run (ID:r7tokmwg) before initializing another..."
      ],
      "text/plain": [
       "<IPython.core.display.HTML object>"
      ]
     },
     "metadata": {},
     "output_type": "display_data"
    },
    {
     "data": {
      "text/html": [
       "Waiting for W&B process to finish... <strong style=\"color:green\">(success).</strong>"
      ],
      "text/plain": [
       "<IPython.core.display.HTML object>"
      ]
     },
     "metadata": {},
     "output_type": "display_data"
    },
    {
     "data": {
      "application/vnd.jupyter.widget-view+json": {
       "model_id": "dff3a29626724deb98609fe73a29d350",
       "version_major": 2,
       "version_minor": 0
      },
      "text/plain": [
       "VBox(children=(Label(value='0.000 MB of 0.000 MB uploaded (0.000 MB deduped)\\r'), FloatProgress(value=1.0, max…"
      ]
     },
     "metadata": {},
     "output_type": "display_data"
    },
    {
     "data": {
      "text/html": [
       "<style>\n",
       "    table.wandb td:nth-child(1) { padding: 0 10px; text-align: left ; width: auto;} td:nth-child(2) {text-align: left ; width: 100%}\n",
       "    .wandb-row { display: flex; flex-direction: row; flex-wrap: wrap; justify-content: flex-start; width: 100% }\n",
       "    .wandb-col { display: flex; flex-direction: column; flex-basis: 100%; flex: 1; padding: 10px; }\n",
       "    </style>\n",
       "<div class=\"wandb-row\"><div class=\"wandb-col\"><h3>Run summary:</h3><br/><table class=\"wandb\"><tr><td>allocate_tensors_ms_%</td><td>38.194</td></tr><tr><td>allocate_tensors_ms_avg</td><td>0.11</td></tr><tr><td>allocate_tensors_ms_first</td><td>0.11</td></tr><tr><td>first_inference_us</td><td>4667</td></tr><tr><td>inference_avg_us</td><td>1015.37</td></tr><tr><td>init_us</td><td>125868</td></tr><tr><td>initialization_ms</td><td>125.868</td></tr><tr><td>model_size_MB</td><td>0.18073</td></tr><tr><td>modify_graph_with_delegate_mem_KB</td><td>0</td></tr><tr><td>modify_graph_with_delegate_ms_%</td><td>61.806</td></tr><tr><td>modify_graph_with_delegate_ms_avg</td><td>0.178</td></tr><tr><td>modify_graph_with_delegate_ms_first</td><td>0.178</td></tr><tr><td>warmup_avg_us</td><td>912.055</td></tr></table><br/></div></div>"
      ],
      "text/plain": [
       "<IPython.core.display.HTML object>"
      ]
     },
     "metadata": {},
     "output_type": "display_data"
    },
    {
     "data": {
      "text/html": [
       " View run <strong style=\"color:#cdcd00\">mobilenetv2_0.1_96_c3_o2_l5</strong> at: <a href=\"https://wandb.ai/susbrock/model_DB/runs/r7tokmwg\" target=\"_blank\">https://wandb.ai/susbrock/model_DB/runs/r7tokmwg</a><br/>Synced 3 W&B file(s), 0 media file(s), 0 artifact file(s) and 1 other file(s)"
      ],
      "text/plain": [
       "<IPython.core.display.HTML object>"
      ]
     },
     "metadata": {},
     "output_type": "display_data"
    },
    {
     "data": {
      "text/html": [
       "Find logs at: <code>.\\wandb\\run-20230301_210005-r7tokmwg\\logs</code>"
      ],
      "text/plain": [
       "<IPython.core.display.HTML object>"
      ]
     },
     "metadata": {},
     "output_type": "display_data"
    },
    {
     "data": {
      "text/html": [
       "Successfully finished last run (ID:r7tokmwg). Initializing new run:<br/>"
      ],
      "text/plain": [
       "<IPython.core.display.HTML object>"
      ]
     },
     "metadata": {},
     "output_type": "display_data"
    },
    {
     "data": {
      "application/vnd.jupyter.widget-view+json": {
       "model_id": "2e5e5de76387419d9a014fadd5b82f11",
       "version_major": 2,
       "version_minor": 0
      },
      "text/plain": [
       "VBox(children=(Label(value='Waiting for wandb.init()...\\r'), FloatProgress(value=0.016916666666664543, max=1.0…"
      ]
     },
     "metadata": {},
     "output_type": "display_data"
    },
    {
     "data": {
      "text/html": [
       "wandb version 0.13.10 is available!  To upgrade, please run:\n",
       " $ pip install wandb --upgrade"
      ],
      "text/plain": [
       "<IPython.core.display.HTML object>"
      ]
     },
     "metadata": {},
     "output_type": "display_data"
    },
    {
     "data": {
      "text/html": [
       "Tracking run with wandb version 0.13.9"
      ],
      "text/plain": [
       "<IPython.core.display.HTML object>"
      ]
     },
     "metadata": {},
     "output_type": "display_data"
    },
    {
     "data": {
      "text/html": [
       "Run data is saved locally in <code>i:\\tinyml\\tiny_cnn\\wandb\\run-20230301_210014-8i2yq4ji</code>"
      ],
      "text/plain": [
       "<IPython.core.display.HTML object>"
      ]
     },
     "metadata": {},
     "output_type": "display_data"
    },
    {
     "data": {
      "text/html": [
       "Resuming run <strong><a href=\"https://wandb.ai/susbrock/model_DB/runs/8i2yq4ji\" target=\"_blank\">mobilenetv2_0.2_96_c3_o2_l5</a></strong> to <a href=\"https://wandb.ai/susbrock/model_DB\" target=\"_blank\">Weights & Biases</a> (<a href=\"https://wandb.me/run\" target=\"_blank\">docs</a>)<br/>"
      ],
      "text/plain": [
       "<IPython.core.display.HTML object>"
      ]
     },
     "metadata": {},
     "output_type": "display_data"
    },
    {
     "data": {
      "text/html": [
       " View project at <a href=\"https://wandb.ai/susbrock/model_DB\" target=\"_blank\">https://wandb.ai/susbrock/model_DB</a>"
      ],
      "text/plain": [
       "<IPython.core.display.HTML object>"
      ]
     },
     "metadata": {},
     "output_type": "display_data"
    },
    {
     "data": {
      "text/html": [
       " View run at <a href=\"https://wandb.ai/susbrock/model_DB/runs/8i2yq4ji\" target=\"_blank\">https://wandb.ai/susbrock/model_DB/runs/8i2yq4ji</a>"
      ],
      "text/plain": [
       "<IPython.core.display.HTML object>"
      ]
     },
     "metadata": {},
     "output_type": "display_data"
    },
    {
     "name": "stdout",
     "output_type": "stream",
     "text": [
      "mobilenetv2_0.2_96_c3_o2_l5 has no run_id\n",
      "4vjie1qp\n"
     ]
    },
    {
     "data": {
      "text/html": [
       "Finishing last run (ID:8i2yq4ji) before initializing another..."
      ],
      "text/plain": [
       "<IPython.core.display.HTML object>"
      ]
     },
     "metadata": {},
     "output_type": "display_data"
    },
    {
     "data": {
      "text/html": [
       "Waiting for W&B process to finish... <strong style=\"color:green\">(success).</strong>"
      ],
      "text/plain": [
       "<IPython.core.display.HTML object>"
      ]
     },
     "metadata": {},
     "output_type": "display_data"
    },
    {
     "data": {
      "application/vnd.jupyter.widget-view+json": {
       "model_id": "4b2850a4caf849bbb4a1508fea0e3508",
       "version_major": 2,
       "version_minor": 0
      },
      "text/plain": [
       "VBox(children=(Label(value='0.000 MB of 0.008 MB uploaded (0.000 MB deduped)\\r'), FloatProgress(value=0.0, max…"
      ]
     },
     "metadata": {},
     "output_type": "display_data"
    },
    {
     "data": {
      "text/html": [
       "<style>\n",
       "    table.wandb td:nth-child(1) { padding: 0 10px; text-align: left ; width: auto;} td:nth-child(2) {text-align: left ; width: 100%}\n",
       "    .wandb-row { display: flex; flex-direction: row; flex-wrap: wrap; justify-content: flex-start; width: 100% }\n",
       "    .wandb-col { display: flex; flex-direction: column; flex-basis: 100%; flex: 1; padding: 10px; }\n",
       "    </style>\n",
       "<div class=\"wandb-row\"><div class=\"wandb-col\"><h3>Run summary:</h3><br/><table class=\"wandb\"><tr><td>allocate_tensors_ms_%</td><td>35.503</td></tr><tr><td>allocate_tensors_ms_avg</td><td>0.12</td></tr><tr><td>allocate_tensors_ms_first</td><td>0.12</td></tr><tr><td>first_inference_us</td><td>121886</td></tr><tr><td>inference_avg_us</td><td>1327.85</td></tr><tr><td>init_us</td><td>3665707</td></tr><tr><td>initialization_ms</td><td>3665.71</td></tr><tr><td>model_size_MB</td><td>0.31706</td></tr><tr><td>modify_graph_with_delegate_mem_KB</td><td>0</td></tr><tr><td>modify_graph_with_delegate_ms_%</td><td>64.497</td></tr><tr><td>modify_graph_with_delegate_ms_avg</td><td>0.218</td></tr><tr><td>modify_graph_with_delegate_ms_first</td><td>0.218</td></tr><tr><td>warmup_avg_us</td><td>1632.6</td></tr></table><br/></div></div>"
      ],
      "text/plain": [
       "<IPython.core.display.HTML object>"
      ]
     },
     "metadata": {},
     "output_type": "display_data"
    },
    {
     "data": {
      "text/html": [
       " View run <strong style=\"color:#cdcd00\">mobilenetv2_0.2_96_c3_o2_l5</strong> at: <a href=\"https://wandb.ai/susbrock/model_DB/runs/8i2yq4ji\" target=\"_blank\">https://wandb.ai/susbrock/model_DB/runs/8i2yq4ji</a><br/>Synced 3 W&B file(s), 0 media file(s), 0 artifact file(s) and 0 other file(s)"
      ],
      "text/plain": [
       "<IPython.core.display.HTML object>"
      ]
     },
     "metadata": {},
     "output_type": "display_data"
    },
    {
     "data": {
      "text/html": [
       "Find logs at: <code>.\\wandb\\run-20230301_210014-8i2yq4ji\\logs</code>"
      ],
      "text/plain": [
       "<IPython.core.display.HTML object>"
      ]
     },
     "metadata": {},
     "output_type": "display_data"
    },
    {
     "data": {
      "text/html": [
       "Successfully finished last run (ID:8i2yq4ji). Initializing new run:<br/>"
      ],
      "text/plain": [
       "<IPython.core.display.HTML object>"
      ]
     },
     "metadata": {},
     "output_type": "display_data"
    },
    {
     "data": {
      "application/vnd.jupyter.widget-view+json": {
       "model_id": "0b49a36477e747618ab91bf49799890c",
       "version_major": 2,
       "version_minor": 0
      },
      "text/plain": [
       "VBox(children=(Label(value='Waiting for wandb.init()...\\r'), FloatProgress(value=0.016933333333334608, max=1.0…"
      ]
     },
     "metadata": {},
     "output_type": "display_data"
    },
    {
     "data": {
      "text/html": [
       "wandb version 0.13.10 is available!  To upgrade, please run:\n",
       " $ pip install wandb --upgrade"
      ],
      "text/plain": [
       "<IPython.core.display.HTML object>"
      ]
     },
     "metadata": {},
     "output_type": "display_data"
    },
    {
     "data": {
      "text/html": [
       "Tracking run with wandb version 0.13.9"
      ],
      "text/plain": [
       "<IPython.core.display.HTML object>"
      ]
     },
     "metadata": {},
     "output_type": "display_data"
    },
    {
     "data": {
      "text/html": [
       "Run data is saved locally in <code>i:\\tinyml\\tiny_cnn\\wandb\\run-20230301_210022-4vjie1qp</code>"
      ],
      "text/plain": [
       "<IPython.core.display.HTML object>"
      ]
     },
     "metadata": {},
     "output_type": "display_data"
    },
    {
     "data": {
      "text/html": [
       "Resuming run <strong><a href=\"https://wandb.ai/susbrock/model_DB/runs/4vjie1qp\" target=\"_blank\">mobilenetv2_0.5_96_c3_o2_l5</a></strong> to <a href=\"https://wandb.ai/susbrock/model_DB\" target=\"_blank\">Weights & Biases</a> (<a href=\"https://wandb.me/run\" target=\"_blank\">docs</a>)<br/>"
      ],
      "text/plain": [
       "<IPython.core.display.HTML object>"
      ]
     },
     "metadata": {},
     "output_type": "display_data"
    },
    {
     "data": {
      "text/html": [
       " View project at <a href=\"https://wandb.ai/susbrock/model_DB\" target=\"_blank\">https://wandb.ai/susbrock/model_DB</a>"
      ],
      "text/plain": [
       "<IPython.core.display.HTML object>"
      ]
     },
     "metadata": {},
     "output_type": "display_data"
    },
    {
     "data": {
      "text/html": [
       " View run at <a href=\"https://wandb.ai/susbrock/model_DB/runs/4vjie1qp\" target=\"_blank\">https://wandb.ai/susbrock/model_DB/runs/4vjie1qp</a>"
      ],
      "text/plain": [
       "<IPython.core.display.HTML object>"
      ]
     },
     "metadata": {},
     "output_type": "display_data"
    },
    {
     "name": "stdout",
     "output_type": "stream",
     "text": [
      "mobilenetv2_0.5_96_c3_o2_l5 has no run_id\n",
      "muldcf5s\n"
     ]
    },
    {
     "data": {
      "text/html": [
       "Finishing last run (ID:4vjie1qp) before initializing another..."
      ],
      "text/plain": [
       "<IPython.core.display.HTML object>"
      ]
     },
     "metadata": {},
     "output_type": "display_data"
    },
    {
     "data": {
      "text/html": [
       "Waiting for W&B process to finish... <strong style=\"color:green\">(success).</strong>"
      ],
      "text/plain": [
       "<IPython.core.display.HTML object>"
      ]
     },
     "metadata": {},
     "output_type": "display_data"
    },
    {
     "data": {
      "text/html": [
       "<style>\n",
       "    table.wandb td:nth-child(1) { padding: 0 10px; text-align: left ; width: auto;} td:nth-child(2) {text-align: left ; width: 100%}\n",
       "    .wandb-row { display: flex; flex-direction: row; flex-wrap: wrap; justify-content: flex-start; width: 100% }\n",
       "    .wandb-col { display: flex; flex-direction: column; flex-basis: 100%; flex: 1; padding: 10px; }\n",
       "    </style>\n",
       "<div class=\"wandb-row\"><div class=\"wandb-col\"><h3>Run summary:</h3><br/><table class=\"wandb\"><tr><td>allocate_tensors_ms_%</td><td>34.011</td></tr><tr><td>allocate_tensors_ms_avg</td><td>0.184</td></tr><tr><td>allocate_tensors_ms_first</td><td>0.184</td></tr><tr><td>first_inference_us</td><td>11372</td></tr><tr><td>inference_avg_us</td><td>3135.59</td></tr><tr><td>init_us</td><td>170624</td></tr><tr><td>initialization_ms</td><td>170.624</td></tr><tr><td>model_size_MB</td><td>0.94084</td></tr><tr><td>modify_graph_with_delegate_mem_KB</td><td>0</td></tr><tr><td>modify_graph_with_delegate_ms_%</td><td>65.989</td></tr><tr><td>modify_graph_with_delegate_ms_avg</td><td>0.357</td></tr><tr><td>modify_graph_with_delegate_ms_first</td><td>0.357</td></tr><tr><td>warmup_avg_us</td><td>3108.1</td></tr></table><br/></div></div>"
      ],
      "text/plain": [
       "<IPython.core.display.HTML object>"
      ]
     },
     "metadata": {},
     "output_type": "display_data"
    },
    {
     "data": {
      "text/html": [
       " View run <strong style=\"color:#cdcd00\">mobilenetv2_0.5_96_c3_o2_l5</strong> at: <a href=\"https://wandb.ai/susbrock/model_DB/runs/4vjie1qp\" target=\"_blank\">https://wandb.ai/susbrock/model_DB/runs/4vjie1qp</a><br/>Synced 3 W&B file(s), 0 media file(s), 0 artifact file(s) and 1 other file(s)"
      ],
      "text/plain": [
       "<IPython.core.display.HTML object>"
      ]
     },
     "metadata": {},
     "output_type": "display_data"
    },
    {
     "data": {
      "text/html": [
       "Find logs at: <code>.\\wandb\\run-20230301_210022-4vjie1qp\\logs</code>"
      ],
      "text/plain": [
       "<IPython.core.display.HTML object>"
      ]
     },
     "metadata": {},
     "output_type": "display_data"
    },
    {
     "data": {
      "text/html": [
       "Successfully finished last run (ID:4vjie1qp). Initializing new run:<br/>"
      ],
      "text/plain": [
       "<IPython.core.display.HTML object>"
      ]
     },
     "metadata": {},
     "output_type": "display_data"
    },
    {
     "data": {
      "application/vnd.jupyter.widget-view+json": {
       "model_id": "6e6775b2ef384d59af62f0d06b7c5d10",
       "version_major": 2,
       "version_minor": 0
      },
      "text/plain": [
       "VBox(children=(Label(value='Waiting for wandb.init()...\\r'), FloatProgress(value=0.016916666666664543, max=1.0…"
      ]
     },
     "metadata": {},
     "output_type": "display_data"
    },
    {
     "data": {
      "text/html": [
       "wandb version 0.13.10 is available!  To upgrade, please run:\n",
       " $ pip install wandb --upgrade"
      ],
      "text/plain": [
       "<IPython.core.display.HTML object>"
      ]
     },
     "metadata": {},
     "output_type": "display_data"
    },
    {
     "data": {
      "text/html": [
       "Tracking run with wandb version 0.13.9"
      ],
      "text/plain": [
       "<IPython.core.display.HTML object>"
      ]
     },
     "metadata": {},
     "output_type": "display_data"
    },
    {
     "data": {
      "text/html": [
       "Run data is saved locally in <code>i:\\tinyml\\tiny_cnn\\wandb\\run-20230301_210031-muldcf5s</code>"
      ],
      "text/plain": [
       "<IPython.core.display.HTML object>"
      ]
     },
     "metadata": {},
     "output_type": "display_data"
    },
    {
     "data": {
      "text/html": [
       "Resuming run <strong><a href=\"https://wandb.ai/susbrock/model_DB/runs/muldcf5s\" target=\"_blank\">mobilenetv2_0.35_96_c3_o2_l5</a></strong> to <a href=\"https://wandb.ai/susbrock/model_DB\" target=\"_blank\">Weights & Biases</a> (<a href=\"https://wandb.me/run\" target=\"_blank\">docs</a>)<br/>"
      ],
      "text/plain": [
       "<IPython.core.display.HTML object>"
      ]
     },
     "metadata": {},
     "output_type": "display_data"
    },
    {
     "data": {
      "text/html": [
       " View project at <a href=\"https://wandb.ai/susbrock/model_DB\" target=\"_blank\">https://wandb.ai/susbrock/model_DB</a>"
      ],
      "text/plain": [
       "<IPython.core.display.HTML object>"
      ]
     },
     "metadata": {},
     "output_type": "display_data"
    },
    {
     "data": {
      "text/html": [
       " View run at <a href=\"https://wandb.ai/susbrock/model_DB/runs/muldcf5s\" target=\"_blank\">https://wandb.ai/susbrock/model_DB/runs/muldcf5s</a>"
      ],
      "text/plain": [
       "<IPython.core.display.HTML object>"
      ]
     },
     "metadata": {},
     "output_type": "display_data"
    },
    {
     "name": "stdout",
     "output_type": "stream",
     "text": [
      "mobilenetv2_0.35_96_c3_o2_l5 has no run_id\n",
      "to56zsaq\n"
     ]
    },
    {
     "data": {
      "text/html": [
       "Finishing last run (ID:muldcf5s) before initializing another..."
      ],
      "text/plain": [
       "<IPython.core.display.HTML object>"
      ]
     },
     "metadata": {},
     "output_type": "display_data"
    },
    {
     "data": {
      "text/html": [
       "Waiting for W&B process to finish... <strong style=\"color:green\">(success).</strong>"
      ],
      "text/plain": [
       "<IPython.core.display.HTML object>"
      ]
     },
     "metadata": {},
     "output_type": "display_data"
    },
    {
     "data": {
      "application/vnd.jupyter.widget-view+json": {
       "model_id": "e4a66a63cf8f44beb4e62f5b062fde4f",
       "version_major": 2,
       "version_minor": 0
      },
      "text/plain": [
       "VBox(children=(Label(value='0.000 MB of 0.002 MB uploaded (0.000 MB deduped)\\r'), FloatProgress(value=0.0, max…"
      ]
     },
     "metadata": {},
     "output_type": "display_data"
    },
    {
     "data": {
      "text/html": [
       "<style>\n",
       "    table.wandb td:nth-child(1) { padding: 0 10px; text-align: left ; width: auto;} td:nth-child(2) {text-align: left ; width: 100%}\n",
       "    .wandb-row { display: flex; flex-direction: row; flex-wrap: wrap; justify-content: flex-start; width: 100% }\n",
       "    .wandb-col { display: flex; flex-direction: column; flex-basis: 100%; flex: 1; padding: 10px; }\n",
       "    </style>\n",
       "<div class=\"wandb-row\"><div class=\"wandb-col\"><h3>Run summary:</h3><br/><table class=\"wandb\"><tr><td>allocate_tensors_ms_%</td><td>34.507</td></tr><tr><td>allocate_tensors_ms_avg</td><td>0.147</td></tr><tr><td>allocate_tensors_ms_first</td><td>0.147</td></tr><tr><td>first_inference_us</td><td>15173</td></tr><tr><td>inference_avg_us</td><td>2175.96</td></tr><tr><td>init_us</td><td>166234</td></tr><tr><td>initialization_ms</td><td>166.234</td></tr><tr><td>model_size_MB</td><td>0.58812</td></tr><tr><td>modify_graph_with_delegate_mem_KB</td><td>0</td></tr><tr><td>modify_graph_with_delegate_ms_%</td><td>65.493</td></tr><tr><td>modify_graph_with_delegate_ms_avg</td><td>0.279</td></tr><tr><td>modify_graph_with_delegate_ms_first</td><td>0.279</td></tr><tr><td>warmup_avg_us</td><td>2226.53</td></tr></table><br/></div></div>"
      ],
      "text/plain": [
       "<IPython.core.display.HTML object>"
      ]
     },
     "metadata": {},
     "output_type": "display_data"
    },
    {
     "data": {
      "text/html": [
       " View run <strong style=\"color:#cdcd00\">mobilenetv2_0.35_96_c3_o2_l5</strong> at: <a href=\"https://wandb.ai/susbrock/model_DB/runs/muldcf5s\" target=\"_blank\">https://wandb.ai/susbrock/model_DB/runs/muldcf5s</a><br/>Synced 3 W&B file(s), 0 media file(s), 0 artifact file(s) and 0 other file(s)"
      ],
      "text/plain": [
       "<IPython.core.display.HTML object>"
      ]
     },
     "metadata": {},
     "output_type": "display_data"
    },
    {
     "data": {
      "text/html": [
       "Find logs at: <code>.\\wandb\\run-20230301_210031-muldcf5s\\logs</code>"
      ],
      "text/plain": [
       "<IPython.core.display.HTML object>"
      ]
     },
     "metadata": {},
     "output_type": "display_data"
    },
    {
     "data": {
      "text/html": [
       "Successfully finished last run (ID:muldcf5s). Initializing new run:<br/>"
      ],
      "text/plain": [
       "<IPython.core.display.HTML object>"
      ]
     },
     "metadata": {},
     "output_type": "display_data"
    },
    {
     "data": {
      "application/vnd.jupyter.widget-view+json": {
       "model_id": "992363fe3d4c4dc4bbf5c9370626fab9",
       "version_major": 2,
       "version_minor": 0
      },
      "text/plain": [
       "VBox(children=(Label(value='Waiting for wandb.init()...\\r'), FloatProgress(value=0.016916666666664543, max=1.0…"
      ]
     },
     "metadata": {},
     "output_type": "display_data"
    },
    {
     "data": {
      "text/html": [
       "wandb version 0.13.10 is available!  To upgrade, please run:\n",
       " $ pip install wandb --upgrade"
      ],
      "text/plain": [
       "<IPython.core.display.HTML object>"
      ]
     },
     "metadata": {},
     "output_type": "display_data"
    },
    {
     "data": {
      "text/html": [
       "Tracking run with wandb version 0.13.9"
      ],
      "text/plain": [
       "<IPython.core.display.HTML object>"
      ]
     },
     "metadata": {},
     "output_type": "display_data"
    },
    {
     "data": {
      "text/html": [
       "Run data is saved locally in <code>i:\\tinyml\\tiny_cnn\\wandb\\run-20230301_210040-to56zsaq</code>"
      ],
      "text/plain": [
       "<IPython.core.display.HTML object>"
      ]
     },
     "metadata": {},
     "output_type": "display_data"
    },
    {
     "data": {
      "text/html": [
       "Resuming run <strong><a href=\"https://wandb.ai/susbrock/model_DB/runs/to56zsaq\" target=\"_blank\">mobilenetv2_0.25_96_c3_o2_l5</a></strong> to <a href=\"https://wandb.ai/susbrock/model_DB\" target=\"_blank\">Weights & Biases</a> (<a href=\"https://wandb.me/run\" target=\"_blank\">docs</a>)<br/>"
      ],
      "text/plain": [
       "<IPython.core.display.HTML object>"
      ]
     },
     "metadata": {},
     "output_type": "display_data"
    },
    {
     "data": {
      "text/html": [
       " View project at <a href=\"https://wandb.ai/susbrock/model_DB\" target=\"_blank\">https://wandb.ai/susbrock/model_DB</a>"
      ],
      "text/plain": [
       "<IPython.core.display.HTML object>"
      ]
     },
     "metadata": {},
     "output_type": "display_data"
    },
    {
     "data": {
      "text/html": [
       " View run at <a href=\"https://wandb.ai/susbrock/model_DB/runs/to56zsaq\" target=\"_blank\">https://wandb.ai/susbrock/model_DB/runs/to56zsaq</a>"
      ],
      "text/plain": [
       "<IPython.core.display.HTML object>"
      ]
     },
     "metadata": {},
     "output_type": "display_data"
    },
    {
     "name": "stdout",
     "output_type": "stream",
     "text": [
      "mobilenetv2_0.25_96_c3_o2_l5 has no run_id\n",
      "27bt3quc\n"
     ]
    },
    {
     "data": {
      "text/html": [
       "Finishing last run (ID:to56zsaq) before initializing another..."
      ],
      "text/plain": [
       "<IPython.core.display.HTML object>"
      ]
     },
     "metadata": {},
     "output_type": "display_data"
    },
    {
     "data": {
      "text/html": [
       "Waiting for W&B process to finish... <strong style=\"color:green\">(success).</strong>"
      ],
      "text/plain": [
       "<IPython.core.display.HTML object>"
      ]
     },
     "metadata": {},
     "output_type": "display_data"
    },
    {
     "data": {
      "application/vnd.jupyter.widget-view+json": {
       "model_id": "baf55ab9f95043e8adaa9f7aa304026a",
       "version_major": 2,
       "version_minor": 0
      },
      "text/plain": [
       "VBox(children=(Label(value='0.000 MB of 0.008 MB uploaded (0.000 MB deduped)\\r'), FloatProgress(value=0.0, max…"
      ]
     },
     "metadata": {},
     "output_type": "display_data"
    },
    {
     "data": {
      "text/html": [
       "<style>\n",
       "    table.wandb td:nth-child(1) { padding: 0 10px; text-align: left ; width: auto;} td:nth-child(2) {text-align: left ; width: 100%}\n",
       "    .wandb-row { display: flex; flex-direction: row; flex-wrap: wrap; justify-content: flex-start; width: 100% }\n",
       "    .wandb-col { display: flex; flex-direction: column; flex-basis: 100%; flex: 1; padding: 10px; }\n",
       "    </style>\n",
       "<div class=\"wandb-row\"><div class=\"wandb-col\"><h3>Run summary:</h3><br/><table class=\"wandb\"><tr><td>allocate_tensors_ms_%</td><td>39.478</td></tr><tr><td>allocate_tensors_ms_avg</td><td>0.227</td></tr><tr><td>allocate_tensors_ms_first</td><td>0.227</td></tr><tr><td>first_inference_us</td><td>16503</td></tr><tr><td>inference_avg_us</td><td>1488.8</td></tr><tr><td>init_us</td><td>144122</td></tr><tr><td>initialization_ms</td><td>144.122</td></tr><tr><td>model_size_MB</td><td>0.40297</td></tr><tr><td>modify_graph_with_delegate_mem_KB</td><td>0</td></tr><tr><td>modify_graph_with_delegate_ms_%</td><td>60.522</td></tr><tr><td>modify_graph_with_delegate_ms_avg</td><td>0.348</td></tr><tr><td>modify_graph_with_delegate_ms_first</td><td>0.348</td></tr><tr><td>warmup_avg_us</td><td>1534.45</td></tr></table><br/></div></div>"
      ],
      "text/plain": [
       "<IPython.core.display.HTML object>"
      ]
     },
     "metadata": {},
     "output_type": "display_data"
    },
    {
     "data": {
      "text/html": [
       " View run <strong style=\"color:#cdcd00\">mobilenetv2_0.25_96_c3_o2_l5</strong> at: <a href=\"https://wandb.ai/susbrock/model_DB/runs/to56zsaq\" target=\"_blank\">https://wandb.ai/susbrock/model_DB/runs/to56zsaq</a><br/>Synced 3 W&B file(s), 0 media file(s), 0 artifact file(s) and 1 other file(s)"
      ],
      "text/plain": [
       "<IPython.core.display.HTML object>"
      ]
     },
     "metadata": {},
     "output_type": "display_data"
    },
    {
     "data": {
      "text/html": [
       "Find logs at: <code>.\\wandb\\run-20230301_210040-to56zsaq\\logs</code>"
      ],
      "text/plain": [
       "<IPython.core.display.HTML object>"
      ]
     },
     "metadata": {},
     "output_type": "display_data"
    },
    {
     "data": {
      "text/html": [
       "Successfully finished last run (ID:to56zsaq). Initializing new run:<br/>"
      ],
      "text/plain": [
       "<IPython.core.display.HTML object>"
      ]
     },
     "metadata": {},
     "output_type": "display_data"
    },
    {
     "data": {
      "application/vnd.jupyter.widget-view+json": {
       "model_id": "84eba970b35540589f19de64fdf1527c",
       "version_major": 2,
       "version_minor": 0
      },
      "text/plain": [
       "VBox(children=(Label(value='Waiting for wandb.init()...\\r'), FloatProgress(value=0.016933333333334608, max=1.0…"
      ]
     },
     "metadata": {},
     "output_type": "display_data"
    },
    {
     "data": {
      "text/html": [
       "wandb version 0.13.10 is available!  To upgrade, please run:\n",
       " $ pip install wandb --upgrade"
      ],
      "text/plain": [
       "<IPython.core.display.HTML object>"
      ]
     },
     "metadata": {},
     "output_type": "display_data"
    },
    {
     "data": {
      "text/html": [
       "Tracking run with wandb version 0.13.9"
      ],
      "text/plain": [
       "<IPython.core.display.HTML object>"
      ]
     },
     "metadata": {},
     "output_type": "display_data"
    },
    {
     "data": {
      "text/html": [
       "Run data is saved locally in <code>i:\\tinyml\\tiny_cnn\\wandb\\run-20230301_210048-27bt3quc</code>"
      ],
      "text/plain": [
       "<IPython.core.display.HTML object>"
      ]
     },
     "metadata": {},
     "output_type": "display_data"
    },
    {
     "data": {
      "text/html": [
       "Resuming run <strong><a href=\"https://wandb.ai/susbrock/model_DB/runs/27bt3quc\" target=\"_blank\">mobilenetv2_1_96_c3_o2_l5</a></strong> to <a href=\"https://wandb.ai/susbrock/model_DB\" target=\"_blank\">Weights & Biases</a> (<a href=\"https://wandb.me/run\" target=\"_blank\">docs</a>)<br/>"
      ],
      "text/plain": [
       "<IPython.core.display.HTML object>"
      ]
     },
     "metadata": {},
     "output_type": "display_data"
    },
    {
     "data": {
      "text/html": [
       " View project at <a href=\"https://wandb.ai/susbrock/model_DB\" target=\"_blank\">https://wandb.ai/susbrock/model_DB</a>"
      ],
      "text/plain": [
       "<IPython.core.display.HTML object>"
      ]
     },
     "metadata": {},
     "output_type": "display_data"
    },
    {
     "data": {
      "text/html": [
       " View run at <a href=\"https://wandb.ai/susbrock/model_DB/runs/27bt3quc\" target=\"_blank\">https://wandb.ai/susbrock/model_DB/runs/27bt3quc</a>"
      ],
      "text/plain": [
       "<IPython.core.display.HTML object>"
      ]
     },
     "metadata": {},
     "output_type": "display_data"
    },
    {
     "name": "stdout",
     "output_type": "stream",
     "text": [
      "mobilenetv2_1_96_c3_o2_l5 has no run_id\n",
      "jprxgrm2\n"
     ]
    },
    {
     "data": {
      "text/html": [
       "Finishing last run (ID:27bt3quc) before initializing another..."
      ],
      "text/plain": [
       "<IPython.core.display.HTML object>"
      ]
     },
     "metadata": {},
     "output_type": "display_data"
    },
    {
     "data": {
      "text/html": [
       "Waiting for W&B process to finish... <strong style=\"color:green\">(success).</strong>"
      ],
      "text/plain": [
       "<IPython.core.display.HTML object>"
      ]
     },
     "metadata": {},
     "output_type": "display_data"
    },
    {
     "data": {
      "application/vnd.jupyter.widget-view+json": {
       "model_id": "bd797af4f83a436fabe4538d53711b31",
       "version_major": 2,
       "version_minor": 0
      },
      "text/plain": [
       "VBox(children=(Label(value='0.000 MB of 0.002 MB uploaded (0.000 MB deduped)\\r'), FloatProgress(value=0.0, max…"
      ]
     },
     "metadata": {},
     "output_type": "display_data"
    },
    {
     "data": {
      "text/html": [
       "<style>\n",
       "    table.wandb td:nth-child(1) { padding: 0 10px; text-align: left ; width: auto;} td:nth-child(2) {text-align: left ; width: 100%}\n",
       "    .wandb-row { display: flex; flex-direction: row; flex-wrap: wrap; justify-content: flex-start; width: 100% }\n",
       "    .wandb-col { display: flex; flex-direction: column; flex-basis: 100%; flex: 1; padding: 10px; }\n",
       "    </style>\n",
       "<div class=\"wandb-row\"><div class=\"wandb-col\"><h3>Run summary:</h3><br/><table class=\"wandb\"><tr><td>allocate_tensors_ms_%</td><td>31.808</td></tr><tr><td>allocate_tensors_ms_avg</td><td>0.271</td></tr><tr><td>allocate_tensors_ms_first</td><td>0.271</td></tr><tr><td>first_inference_us</td><td>84111</td></tr><tr><td>inference_avg_us</td><td>6426.62</td></tr><tr><td>init_us</td><td>578933</td></tr><tr><td>initialization_ms</td><td>578.933</td></tr><tr><td>model_size_MB</td><td>2.65974</td></tr><tr><td>modify_graph_with_delegate_mem_KB</td><td>0</td></tr><tr><td>modify_graph_with_delegate_ms_%</td><td>68.192</td></tr><tr><td>modify_graph_with_delegate_ms_avg</td><td>0.581</td></tr><tr><td>modify_graph_with_delegate_ms_first</td><td>0.581</td></tr><tr><td>warmup_avg_us</td><td>7740.78</td></tr></table><br/></div></div>"
      ],
      "text/plain": [
       "<IPython.core.display.HTML object>"
      ]
     },
     "metadata": {},
     "output_type": "display_data"
    },
    {
     "data": {
      "text/html": [
       " View run <strong style=\"color:#cdcd00\">mobilenetv2_1_96_c3_o2_l5</strong> at: <a href=\"https://wandb.ai/susbrock/model_DB/runs/27bt3quc\" target=\"_blank\">https://wandb.ai/susbrock/model_DB/runs/27bt3quc</a><br/>Synced 3 W&B file(s), 0 media file(s), 0 artifact file(s) and 0 other file(s)"
      ],
      "text/plain": [
       "<IPython.core.display.HTML object>"
      ]
     },
     "metadata": {},
     "output_type": "display_data"
    },
    {
     "data": {
      "text/html": [
       "Find logs at: <code>.\\wandb\\run-20230301_210048-27bt3quc\\logs</code>"
      ],
      "text/plain": [
       "<IPython.core.display.HTML object>"
      ]
     },
     "metadata": {},
     "output_type": "display_data"
    },
    {
     "data": {
      "text/html": [
       "Successfully finished last run (ID:27bt3quc). Initializing new run:<br/>"
      ],
      "text/plain": [
       "<IPython.core.display.HTML object>"
      ]
     },
     "metadata": {},
     "output_type": "display_data"
    },
    {
     "data": {
      "application/vnd.jupyter.widget-view+json": {
       "model_id": "e33ff14ba8c948a5817f01e5d6cc2a2b",
       "version_major": 2,
       "version_minor": 0
      },
      "text/plain": [
       "VBox(children=(Label(value='Waiting for wandb.init()...\\r'), FloatProgress(value=0.016933333333334608, max=1.0…"
      ]
     },
     "metadata": {},
     "output_type": "display_data"
    },
    {
     "data": {
      "text/html": [
       "wandb version 0.13.10 is available!  To upgrade, please run:\n",
       " $ pip install wandb --upgrade"
      ],
      "text/plain": [
       "<IPython.core.display.HTML object>"
      ]
     },
     "metadata": {},
     "output_type": "display_data"
    },
    {
     "data": {
      "text/html": [
       "Tracking run with wandb version 0.13.9"
      ],
      "text/plain": [
       "<IPython.core.display.HTML object>"
      ]
     },
     "metadata": {},
     "output_type": "display_data"
    },
    {
     "data": {
      "text/html": [
       "Run data is saved locally in <code>i:\\tinyml\\tiny_cnn\\wandb\\run-20230301_210056-jprxgrm2</code>"
      ],
      "text/plain": [
       "<IPython.core.display.HTML object>"
      ]
     },
     "metadata": {},
     "output_type": "display_data"
    },
    {
     "data": {
      "text/html": [
       "Resuming run <strong><a href=\"https://wandb.ai/susbrock/model_DB/runs/jprxgrm2\" target=\"_blank\">mobilenetv2_1_96_c3_o2_keras</a></strong> to <a href=\"https://wandb.ai/susbrock/model_DB\" target=\"_blank\">Weights & Biases</a> (<a href=\"https://wandb.me/run\" target=\"_blank\">docs</a>)<br/>"
      ],
      "text/plain": [
       "<IPython.core.display.HTML object>"
      ]
     },
     "metadata": {},
     "output_type": "display_data"
    },
    {
     "data": {
      "text/html": [
       " View project at <a href=\"https://wandb.ai/susbrock/model_DB\" target=\"_blank\">https://wandb.ai/susbrock/model_DB</a>"
      ],
      "text/plain": [
       "<IPython.core.display.HTML object>"
      ]
     },
     "metadata": {},
     "output_type": "display_data"
    },
    {
     "data": {
      "text/html": [
       " View run at <a href=\"https://wandb.ai/susbrock/model_DB/runs/jprxgrm2\" target=\"_blank\">https://wandb.ai/susbrock/model_DB/runs/jprxgrm2</a>"
      ],
      "text/plain": [
       "<IPython.core.display.HTML object>"
      ]
     },
     "metadata": {},
     "output_type": "display_data"
    },
    {
     "name": "stdout",
     "output_type": "stream",
     "text": [
      "mobilenetv2_1_96_c3_o2_keras has no run_id\n",
      "cmubsmv7\n"
     ]
    },
    {
     "data": {
      "text/html": [
       "Finishing last run (ID:jprxgrm2) before initializing another..."
      ],
      "text/plain": [
       "<IPython.core.display.HTML object>"
      ]
     },
     "metadata": {},
     "output_type": "display_data"
    },
    {
     "data": {
      "text/html": [
       "Waiting for W&B process to finish... <strong style=\"color:green\">(success).</strong>"
      ],
      "text/plain": [
       "<IPython.core.display.HTML object>"
      ]
     },
     "metadata": {},
     "output_type": "display_data"
    },
    {
     "data": {
      "text/html": [
       "<style>\n",
       "    table.wandb td:nth-child(1) { padding: 0 10px; text-align: left ; width: auto;} td:nth-child(2) {text-align: left ; width: 100%}\n",
       "    .wandb-row { display: flex; flex-direction: row; flex-wrap: wrap; justify-content: flex-start; width: 100% }\n",
       "    .wandb-col { display: flex; flex-direction: column; flex-basis: 100%; flex: 1; padding: 10px; }\n",
       "    </style>\n",
       "<div class=\"wandb-row\"><div class=\"wandb-col\"><h3>Run summary:</h3><br/><table class=\"wandb\"><tr><td>allocate_tensors_ms_%</td><td>1.198</td></tr><tr><td>allocate_tensors_ms_avg</td><td>0.455</td></tr><tr><td>allocate_tensors_ms_first</td><td>0.455</td></tr><tr><td>first_inference_us</td><td>14535</td></tr><tr><td>inference_avg_us</td><td>2372.96</td></tr><tr><td>init_us</td><td>235273</td></tr><tr><td>initialization_ms</td><td>235.273</td></tr><tr><td>model_size_MB</td><td>2.66354</td></tr><tr><td>modify_graph_with_delegate_mem_KB</td><td>4192</td></tr><tr><td>modify_graph_with_delegate_ms_%</td><td>98.802</td></tr><tr><td>modify_graph_with_delegate_ms_avg</td><td>37.51</td></tr><tr><td>modify_graph_with_delegate_ms_first</td><td>37.51</td></tr><tr><td>warmup_avg_us</td><td>2460.62</td></tr></table><br/></div></div>"
      ],
      "text/plain": [
       "<IPython.core.display.HTML object>"
      ]
     },
     "metadata": {},
     "output_type": "display_data"
    },
    {
     "data": {
      "text/html": [
       " View run <strong style=\"color:#cdcd00\">mobilenetv2_1_96_c3_o2_keras</strong> at: <a href=\"https://wandb.ai/susbrock/model_DB/runs/jprxgrm2\" target=\"_blank\">https://wandb.ai/susbrock/model_DB/runs/jprxgrm2</a><br/>Synced 3 W&B file(s), 0 media file(s), 0 artifact file(s) and 1 other file(s)"
      ],
      "text/plain": [
       "<IPython.core.display.HTML object>"
      ]
     },
     "metadata": {},
     "output_type": "display_data"
    },
    {
     "data": {
      "text/html": [
       "Find logs at: <code>.\\wandb\\run-20230301_210056-jprxgrm2\\logs</code>"
      ],
      "text/plain": [
       "<IPython.core.display.HTML object>"
      ]
     },
     "metadata": {},
     "output_type": "display_data"
    },
    {
     "data": {
      "text/html": [
       "Successfully finished last run (ID:jprxgrm2). Initializing new run:<br/>"
      ],
      "text/plain": [
       "<IPython.core.display.HTML object>"
      ]
     },
     "metadata": {},
     "output_type": "display_data"
    },
    {
     "data": {
      "application/vnd.jupyter.widget-view+json": {
       "model_id": "c25909cfe9ad466691ce7445f7bc4bf5",
       "version_major": 2,
       "version_minor": 0
      },
      "text/plain": [
       "VBox(children=(Label(value='Waiting for wandb.init()...\\r'), FloatProgress(value=0.016916666666664543, max=1.0…"
      ]
     },
     "metadata": {},
     "output_type": "display_data"
    },
    {
     "data": {
      "text/html": [
       "wandb version 0.13.10 is available!  To upgrade, please run:\n",
       " $ pip install wandb --upgrade"
      ],
      "text/plain": [
       "<IPython.core.display.HTML object>"
      ]
     },
     "metadata": {},
     "output_type": "display_data"
    },
    {
     "data": {
      "text/html": [
       "Tracking run with wandb version 0.13.9"
      ],
      "text/plain": [
       "<IPython.core.display.HTML object>"
      ]
     },
     "metadata": {},
     "output_type": "display_data"
    },
    {
     "data": {
      "text/html": [
       "Run data is saved locally in <code>i:\\tinyml\\tiny_cnn\\wandb\\run-20230301_210104-cmubsmv7</code>"
      ],
      "text/plain": [
       "<IPython.core.display.HTML object>"
      ]
     },
     "metadata": {},
     "output_type": "display_data"
    },
    {
     "data": {
      "text/html": [
       "Resuming run <strong><a href=\"https://wandb.ai/susbrock/model_DB/runs/cmubsmv7\" target=\"_blank\">mobilenetv2_0.5_96_c3_o2_keras</a></strong> to <a href=\"https://wandb.ai/susbrock/model_DB\" target=\"_blank\">Weights & Biases</a> (<a href=\"https://wandb.me/run\" target=\"_blank\">docs</a>)<br/>"
      ],
      "text/plain": [
       "<IPython.core.display.HTML object>"
      ]
     },
     "metadata": {},
     "output_type": "display_data"
    },
    {
     "data": {
      "text/html": [
       " View project at <a href=\"https://wandb.ai/susbrock/model_DB\" target=\"_blank\">https://wandb.ai/susbrock/model_DB</a>"
      ],
      "text/plain": [
       "<IPython.core.display.HTML object>"
      ]
     },
     "metadata": {},
     "output_type": "display_data"
    },
    {
     "data": {
      "text/html": [
       " View run at <a href=\"https://wandb.ai/susbrock/model_DB/runs/cmubsmv7\" target=\"_blank\">https://wandb.ai/susbrock/model_DB/runs/cmubsmv7</a>"
      ],
      "text/plain": [
       "<IPython.core.display.HTML object>"
      ]
     },
     "metadata": {},
     "output_type": "display_data"
    },
    {
     "name": "stdout",
     "output_type": "stream",
     "text": [
      "mobilenetv2_0.5_96_c3_o2_keras has no run_id\n",
      "rul7t9oi\n"
     ]
    },
    {
     "data": {
      "text/html": [
       "Finishing last run (ID:cmubsmv7) before initializing another..."
      ],
      "text/plain": [
       "<IPython.core.display.HTML object>"
      ]
     },
     "metadata": {},
     "output_type": "display_data"
    },
    {
     "data": {
      "text/html": [
       "Waiting for W&B process to finish... <strong style=\"color:green\">(success).</strong>"
      ],
      "text/plain": [
       "<IPython.core.display.HTML object>"
      ]
     },
     "metadata": {},
     "output_type": "display_data"
    },
    {
     "data": {
      "application/vnd.jupyter.widget-view+json": {
       "model_id": "96ba0e930dc1401d8656f8da39de25ec",
       "version_major": 2,
       "version_minor": 0
      },
      "text/plain": [
       "VBox(children=(Label(value='0.000 MB of 0.002 MB uploaded (0.000 MB deduped)\\r'), FloatProgress(value=0.0, max…"
      ]
     },
     "metadata": {},
     "output_type": "display_data"
    },
    {
     "data": {
      "text/html": [
       "<style>\n",
       "    table.wandb td:nth-child(1) { padding: 0 10px; text-align: left ; width: auto;} td:nth-child(2) {text-align: left ; width: 100%}\n",
       "    .wandb-row { display: flex; flex-direction: row; flex-wrap: wrap; justify-content: flex-start; width: 100% }\n",
       "    .wandb-col { display: flex; flex-direction: column; flex-basis: 100%; flex: 1; padding: 10px; }\n",
       "    </style>\n",
       "<div class=\"wandb-row\"><div class=\"wandb-col\"><h3>Run summary:</h3><br/><table class=\"wandb\"><tr><td>allocate_tensors_ms_%</td><td>0.388</td></tr><tr><td>allocate_tensors_ms_avg</td><td>0.041</td></tr><tr><td>allocate_tensors_ms_first</td><td>0.041</td></tr><tr><td>first_inference_us</td><td>10391</td></tr><tr><td>inference_avg_us</td><td>1134.67</td></tr><tr><td>init_us</td><td>161536</td></tr><tr><td>initialization_ms</td><td>161.536</td></tr><tr><td>model_size_MB</td><td>0.94993</td></tr><tr><td>modify_graph_with_delegate_mem_KB</td><td>1648</td></tr><tr><td>modify_graph_with_delegate_ms_%</td><td>99.612</td></tr><tr><td>modify_graph_with_delegate_ms_avg</td><td>10.513</td></tr><tr><td>modify_graph_with_delegate_ms_first</td><td>10.513</td></tr><tr><td>warmup_avg_us</td><td>1192.83</td></tr></table><br/></div></div>"
      ],
      "text/plain": [
       "<IPython.core.display.HTML object>"
      ]
     },
     "metadata": {},
     "output_type": "display_data"
    },
    {
     "data": {
      "text/html": [
       " View run <strong style=\"color:#cdcd00\">mobilenetv2_0.5_96_c3_o2_keras</strong> at: <a href=\"https://wandb.ai/susbrock/model_DB/runs/cmubsmv7\" target=\"_blank\">https://wandb.ai/susbrock/model_DB/runs/cmubsmv7</a><br/>Synced 3 W&B file(s), 0 media file(s), 0 artifact file(s) and 0 other file(s)"
      ],
      "text/plain": [
       "<IPython.core.display.HTML object>"
      ]
     },
     "metadata": {},
     "output_type": "display_data"
    },
    {
     "data": {
      "text/html": [
       "Find logs at: <code>.\\wandb\\run-20230301_210104-cmubsmv7\\logs</code>"
      ],
      "text/plain": [
       "<IPython.core.display.HTML object>"
      ]
     },
     "metadata": {},
     "output_type": "display_data"
    },
    {
     "data": {
      "text/html": [
       "Successfully finished last run (ID:cmubsmv7). Initializing new run:<br/>"
      ],
      "text/plain": [
       "<IPython.core.display.HTML object>"
      ]
     },
     "metadata": {},
     "output_type": "display_data"
    },
    {
     "data": {
      "application/vnd.jupyter.widget-view+json": {
       "model_id": "08a62c3f134e4a15bf078d3b7a7fba2b",
       "version_major": 2,
       "version_minor": 0
      },
      "text/plain": [
       "VBox(children=(Label(value='Waiting for wandb.init()...\\r'), FloatProgress(value=0.016916666666664543, max=1.0…"
      ]
     },
     "metadata": {},
     "output_type": "display_data"
    },
    {
     "data": {
      "text/html": [
       "wandb version 0.13.10 is available!  To upgrade, please run:\n",
       " $ pip install wandb --upgrade"
      ],
      "text/plain": [
       "<IPython.core.display.HTML object>"
      ]
     },
     "metadata": {},
     "output_type": "display_data"
    },
    {
     "data": {
      "text/html": [
       "Tracking run with wandb version 0.13.9"
      ],
      "text/plain": [
       "<IPython.core.display.HTML object>"
      ]
     },
     "metadata": {},
     "output_type": "display_data"
    },
    {
     "data": {
      "text/html": [
       "Run data is saved locally in <code>i:\\tinyml\\tiny_cnn\\wandb\\run-20230301_210113-rul7t9oi</code>"
      ],
      "text/plain": [
       "<IPython.core.display.HTML object>"
      ]
     },
     "metadata": {},
     "output_type": "display_data"
    },
    {
     "data": {
      "text/html": [
       "Resuming run <strong><a href=\"https://wandb.ai/susbrock/model_DB/runs/rul7t9oi\" target=\"_blank\">mobilenetv2_0.35_96_c3_o2_keras</a></strong> to <a href=\"https://wandb.ai/susbrock/model_DB\" target=\"_blank\">Weights & Biases</a> (<a href=\"https://wandb.me/run\" target=\"_blank\">docs</a>)<br/>"
      ],
      "text/plain": [
       "<IPython.core.display.HTML object>"
      ]
     },
     "metadata": {},
     "output_type": "display_data"
    },
    {
     "data": {
      "text/html": [
       " View project at <a href=\"https://wandb.ai/susbrock/model_DB\" target=\"_blank\">https://wandb.ai/susbrock/model_DB</a>"
      ],
      "text/plain": [
       "<IPython.core.display.HTML object>"
      ]
     },
     "metadata": {},
     "output_type": "display_data"
    },
    {
     "data": {
      "text/html": [
       " View run at <a href=\"https://wandb.ai/susbrock/model_DB/runs/rul7t9oi\" target=\"_blank\">https://wandb.ai/susbrock/model_DB/runs/rul7t9oi</a>"
      ],
      "text/plain": [
       "<IPython.core.display.HTML object>"
      ]
     },
     "metadata": {},
     "output_type": "display_data"
    },
    {
     "name": "stdout",
     "output_type": "stream",
     "text": [
      "mobilenetv2_0.35_96_c3_o2_keras has no run_id\n",
      "upj2bfr1\n"
     ]
    },
    {
     "data": {
      "text/html": [
       "Finishing last run (ID:rul7t9oi) before initializing another..."
      ],
      "text/plain": [
       "<IPython.core.display.HTML object>"
      ]
     },
     "metadata": {},
     "output_type": "display_data"
    },
    {
     "data": {
      "text/html": [
       "Waiting for W&B process to finish... <strong style=\"color:green\">(success).</strong>"
      ],
      "text/plain": [
       "<IPython.core.display.HTML object>"
      ]
     },
     "metadata": {},
     "output_type": "display_data"
    },
    {
     "data": {
      "application/vnd.jupyter.widget-view+json": {
       "model_id": "a119716dafe740e9ac223dd95bdf1f21",
       "version_major": 2,
       "version_minor": 0
      },
      "text/plain": [
       "VBox(children=(Label(value='0.000 MB of 0.008 MB uploaded (0.000 MB deduped)\\r'), FloatProgress(value=0.0, max…"
      ]
     },
     "metadata": {},
     "output_type": "display_data"
    },
    {
     "data": {
      "text/html": [
       "<style>\n",
       "    table.wandb td:nth-child(1) { padding: 0 10px; text-align: left ; width: auto;} td:nth-child(2) {text-align: left ; width: 100%}\n",
       "    .wandb-row { display: flex; flex-direction: row; flex-wrap: wrap; justify-content: flex-start; width: 100% }\n",
       "    .wandb-col { display: flex; flex-direction: column; flex-basis: 100%; flex: 1; padding: 10px; }\n",
       "    </style>\n",
       "<div class=\"wandb-row\"><div class=\"wandb-col\"><h3>Run summary:</h3><br/><table class=\"wandb\"><tr><td>allocate_tensors_ms_%</td><td>0.537</td></tr><tr><td>allocate_tensors_ms_avg</td><td>0.036</td></tr><tr><td>allocate_tensors_ms_first</td><td>0.036</td></tr><tr><td>first_inference_us</td><td>8889</td></tr><tr><td>inference_avg_us</td><td>832.699</td></tr><tr><td>init_us</td><td>150050</td></tr><tr><td>initialization_ms</td><td>150.05</td></tr><tr><td>model_size_MB</td><td>0.60782</td></tr><tr><td>modify_graph_with_delegate_mem_KB</td><td>1324</td></tr><tr><td>modify_graph_with_delegate_ms_%</td><td>99.463</td></tr><tr><td>modify_graph_with_delegate_ms_avg</td><td>6.665</td></tr><tr><td>modify_graph_with_delegate_ms_first</td><td>6.665</td></tr><tr><td>warmup_avg_us</td><td>819.713</td></tr></table><br/></div></div>"
      ],
      "text/plain": [
       "<IPython.core.display.HTML object>"
      ]
     },
     "metadata": {},
     "output_type": "display_data"
    },
    {
     "data": {
      "text/html": [
       " View run <strong style=\"color:#cdcd00\">mobilenetv2_0.35_96_c3_o2_keras</strong> at: <a href=\"https://wandb.ai/susbrock/model_DB/runs/rul7t9oi\" target=\"_blank\">https://wandb.ai/susbrock/model_DB/runs/rul7t9oi</a><br/>Synced 3 W&B file(s), 0 media file(s), 0 artifact file(s) and 1 other file(s)"
      ],
      "text/plain": [
       "<IPython.core.display.HTML object>"
      ]
     },
     "metadata": {},
     "output_type": "display_data"
    },
    {
     "data": {
      "text/html": [
       "Find logs at: <code>.\\wandb\\run-20230301_210113-rul7t9oi\\logs</code>"
      ],
      "text/plain": [
       "<IPython.core.display.HTML object>"
      ]
     },
     "metadata": {},
     "output_type": "display_data"
    },
    {
     "data": {
      "text/html": [
       "Successfully finished last run (ID:rul7t9oi). Initializing new run:<br/>"
      ],
      "text/plain": [
       "<IPython.core.display.HTML object>"
      ]
     },
     "metadata": {},
     "output_type": "display_data"
    },
    {
     "data": {
      "application/vnd.jupyter.widget-view+json": {
       "model_id": "96a0b93a54a04e45be4f7f67c02f772c",
       "version_major": 2,
       "version_minor": 0
      },
      "text/plain": [
       "VBox(children=(Label(value='Waiting for wandb.init()...\\r'), FloatProgress(value=0.016933333333334608, max=1.0…"
      ]
     },
     "metadata": {},
     "output_type": "display_data"
    },
    {
     "data": {
      "text/html": [
       "wandb version 0.13.10 is available!  To upgrade, please run:\n",
       " $ pip install wandb --upgrade"
      ],
      "text/plain": [
       "<IPython.core.display.HTML object>"
      ]
     },
     "metadata": {},
     "output_type": "display_data"
    },
    {
     "data": {
      "text/html": [
       "Tracking run with wandb version 0.13.9"
      ],
      "text/plain": [
       "<IPython.core.display.HTML object>"
      ]
     },
     "metadata": {},
     "output_type": "display_data"
    },
    {
     "data": {
      "text/html": [
       "Run data is saved locally in <code>i:\\tinyml\\tiny_cnn\\wandb\\run-20230301_210121-upj2bfr1</code>"
      ],
      "text/plain": [
       "<IPython.core.display.HTML object>"
      ]
     },
     "metadata": {},
     "output_type": "display_data"
    },
    {
     "data": {
      "text/html": [
       "Resuming run <strong><a href=\"https://wandb.ai/susbrock/model_DB/runs/upj2bfr1\" target=\"_blank\">mobilenetv2_0.25_96_c3_o2_keras</a></strong> to <a href=\"https://wandb.ai/susbrock/model_DB\" target=\"_blank\">Weights & Biases</a> (<a href=\"https://wandb.me/run\" target=\"_blank\">docs</a>)<br/>"
      ],
      "text/plain": [
       "<IPython.core.display.HTML object>"
      ]
     },
     "metadata": {},
     "output_type": "display_data"
    },
    {
     "data": {
      "text/html": [
       " View project at <a href=\"https://wandb.ai/susbrock/model_DB\" target=\"_blank\">https://wandb.ai/susbrock/model_DB</a>"
      ],
      "text/plain": [
       "<IPython.core.display.HTML object>"
      ]
     },
     "metadata": {},
     "output_type": "display_data"
    },
    {
     "data": {
      "text/html": [
       " View run at <a href=\"https://wandb.ai/susbrock/model_DB/runs/upj2bfr1\" target=\"_blank\">https://wandb.ai/susbrock/model_DB/runs/upj2bfr1</a>"
      ],
      "text/plain": [
       "<IPython.core.display.HTML object>"
      ]
     },
     "metadata": {},
     "output_type": "display_data"
    },
    {
     "name": "stdout",
     "output_type": "stream",
     "text": [
      "mobilenetv2_0.25_96_c3_o2_keras has no run_id\n",
      "du0odk9c\n"
     ]
    },
    {
     "data": {
      "text/html": [
       "Finishing last run (ID:upj2bfr1) before initializing another..."
      ],
      "text/plain": [
       "<IPython.core.display.HTML object>"
      ]
     },
     "metadata": {},
     "output_type": "display_data"
    },
    {
     "data": {
      "text/html": [
       "Waiting for W&B process to finish... <strong style=\"color:green\">(success).</strong>"
      ],
      "text/plain": [
       "<IPython.core.display.HTML object>"
      ]
     },
     "metadata": {},
     "output_type": "display_data"
    },
    {
     "data": {
      "text/html": [
       "<style>\n",
       "    table.wandb td:nth-child(1) { padding: 0 10px; text-align: left ; width: auto;} td:nth-child(2) {text-align: left ; width: 100%}\n",
       "    .wandb-row { display: flex; flex-direction: row; flex-wrap: wrap; justify-content: flex-start; width: 100% }\n",
       "    .wandb-col { display: flex; flex-direction: column; flex-basis: 100%; flex: 1; padding: 10px; }\n",
       "    </style>\n",
       "<div class=\"wandb-row\"><div class=\"wandb-col\"><h3>Run summary:</h3><br/><table class=\"wandb\"><tr><td>allocate_tensors_ms_%</td><td>0.386</td></tr><tr><td>allocate_tensors_ms_avg</td><td>0.034</td></tr><tr><td>allocate_tensors_ms_first</td><td>0.034</td></tr><tr><td>first_inference_us</td><td>10090</td></tr><tr><td>inference_avg_us</td><td>826.073</td></tr><tr><td>init_us</td><td>143623</td></tr><tr><td>initialization_ms</td><td>143.623</td></tr><tr><td>model_size_MB</td><td>0.41098</td></tr><tr><td>modify_graph_with_delegate_mem_KB</td><td>1540</td></tr><tr><td>modify_graph_with_delegate_ms_%</td><td>99.614</td></tr><tr><td>modify_graph_with_delegate_ms_avg</td><td>8.766</td></tr><tr><td>modify_graph_with_delegate_ms_first</td><td>8.766</td></tr><tr><td>warmup_avg_us</td><td>744.43</td></tr></table><br/></div></div>"
      ],
      "text/plain": [
       "<IPython.core.display.HTML object>"
      ]
     },
     "metadata": {},
     "output_type": "display_data"
    },
    {
     "data": {
      "text/html": [
       " View run <strong style=\"color:#cdcd00\">mobilenetv2_0.25_96_c3_o2_keras</strong> at: <a href=\"https://wandb.ai/susbrock/model_DB/runs/upj2bfr1\" target=\"_blank\">https://wandb.ai/susbrock/model_DB/runs/upj2bfr1</a><br/>Synced 3 W&B file(s), 0 media file(s), 0 artifact file(s) and 0 other file(s)"
      ],
      "text/plain": [
       "<IPython.core.display.HTML object>"
      ]
     },
     "metadata": {},
     "output_type": "display_data"
    },
    {
     "data": {
      "text/html": [
       "Find logs at: <code>.\\wandb\\run-20230301_210121-upj2bfr1\\logs</code>"
      ],
      "text/plain": [
       "<IPython.core.display.HTML object>"
      ]
     },
     "metadata": {},
     "output_type": "display_data"
    },
    {
     "data": {
      "text/html": [
       "Successfully finished last run (ID:upj2bfr1). Initializing new run:<br/>"
      ],
      "text/plain": [
       "<IPython.core.display.HTML object>"
      ]
     },
     "metadata": {},
     "output_type": "display_data"
    },
    {
     "data": {
      "application/vnd.jupyter.widget-view+json": {
       "model_id": "f760287a05a94a329f8e9183cfbf4026",
       "version_major": 2,
       "version_minor": 0
      },
      "text/plain": [
       "VBox(children=(Label(value='Waiting for wandb.init()...\\r'), FloatProgress(value=0.016933333333334608, max=1.0…"
      ]
     },
     "metadata": {},
     "output_type": "display_data"
    },
    {
     "data": {
      "text/html": [
       "wandb version 0.13.10 is available!  To upgrade, please run:\n",
       " $ pip install wandb --upgrade"
      ],
      "text/plain": [
       "<IPython.core.display.HTML object>"
      ]
     },
     "metadata": {},
     "output_type": "display_data"
    },
    {
     "data": {
      "text/html": [
       "Tracking run with wandb version 0.13.9"
      ],
      "text/plain": [
       "<IPython.core.display.HTML object>"
      ]
     },
     "metadata": {},
     "output_type": "display_data"
    },
    {
     "data": {
      "text/html": [
       "Run data is saved locally in <code>i:\\tinyml\\tiny_cnn\\wandb\\run-20230301_210128-du0odk9c</code>"
      ],
      "text/plain": [
       "<IPython.core.display.HTML object>"
      ]
     },
     "metadata": {},
     "output_type": "display_data"
    },
    {
     "data": {
      "text/html": [
       "Resuming run <strong><a href=\"https://wandb.ai/susbrock/model_DB/runs/du0odk9c\" target=\"_blank\">mobilenetv1_1_96_c3_o2_l5</a></strong> to <a href=\"https://wandb.ai/susbrock/model_DB\" target=\"_blank\">Weights & Biases</a> (<a href=\"https://wandb.me/run\" target=\"_blank\">docs</a>)<br/>"
      ],
      "text/plain": [
       "<IPython.core.display.HTML object>"
      ]
     },
     "metadata": {},
     "output_type": "display_data"
    },
    {
     "data": {
      "text/html": [
       " View project at <a href=\"https://wandb.ai/susbrock/model_DB\" target=\"_blank\">https://wandb.ai/susbrock/model_DB</a>"
      ],
      "text/plain": [
       "<IPython.core.display.HTML object>"
      ]
     },
     "metadata": {},
     "output_type": "display_data"
    },
    {
     "data": {
      "text/html": [
       " View run at <a href=\"https://wandb.ai/susbrock/model_DB/runs/du0odk9c\" target=\"_blank\">https://wandb.ai/susbrock/model_DB/runs/du0odk9c</a>"
      ],
      "text/plain": [
       "<IPython.core.display.HTML object>"
      ]
     },
     "metadata": {},
     "output_type": "display_data"
    },
    {
     "name": "stdout",
     "output_type": "stream",
     "text": [
      "mobilenetv1_1_96_c3_o2_l5 has no run_id\n",
      "y0pb3qam\n"
     ]
    },
    {
     "data": {
      "text/html": [
       "Finishing last run (ID:du0odk9c) before initializing another..."
      ],
      "text/plain": [
       "<IPython.core.display.HTML object>"
      ]
     },
     "metadata": {},
     "output_type": "display_data"
    },
    {
     "data": {
      "text/html": [
       "Waiting for W&B process to finish... <strong style=\"color:green\">(success).</strong>"
      ],
      "text/plain": [
       "<IPython.core.display.HTML object>"
      ]
     },
     "metadata": {},
     "output_type": "display_data"
    },
    {
     "data": {
      "application/vnd.jupyter.widget-view+json": {
       "model_id": "262b1814f0bd4928ada6e1368bf16a16",
       "version_major": 2,
       "version_minor": 0
      },
      "text/plain": [
       "VBox(children=(Label(value='0.000 MB of 0.008 MB uploaded (0.000 MB deduped)\\r'), FloatProgress(value=0.0, max…"
      ]
     },
     "metadata": {},
     "output_type": "display_data"
    },
    {
     "data": {
      "text/html": [
       "<style>\n",
       "    table.wandb td:nth-child(1) { padding: 0 10px; text-align: left ; width: auto;} td:nth-child(2) {text-align: left ; width: 100%}\n",
       "    .wandb-row { display: flex; flex-direction: row; flex-wrap: wrap; justify-content: flex-start; width: 100% }\n",
       "    .wandb-col { display: flex; flex-direction: column; flex-basis: 100%; flex: 1; padding: 10px; }\n",
       "    </style>\n",
       "<div class=\"wandb-row\"><div class=\"wandb-col\"><h3>Run summary:</h3><br/><table class=\"wandb\"><tr><td>allocate_tensors_ms_%</td><td>33.469</td></tr><tr><td>allocate_tensors_ms_avg</td><td>0.164</td></tr><tr><td>allocate_tensors_ms_first</td><td>0.164</td></tr><tr><td>first_inference_us</td><td>78736</td></tr><tr><td>inference_avg_us</td><td>7317.36</td></tr><tr><td>init_us</td><td>162333</td></tr><tr><td>initialization_ms</td><td>162.333</td></tr><tr><td>model_size_MB</td><td>3.4833</td></tr><tr><td>modify_graph_with_delegate_mem_KB</td><td>0</td></tr><tr><td>modify_graph_with_delegate_ms_%</td><td>66.531</td></tr><tr><td>modify_graph_with_delegate_ms_avg</td><td>0.326</td></tr><tr><td>modify_graph_with_delegate_ms_first</td><td>0.326</td></tr><tr><td>warmup_avg_us</td><td>8194.9</td></tr></table><br/></div></div>"
      ],
      "text/plain": [
       "<IPython.core.display.HTML object>"
      ]
     },
     "metadata": {},
     "output_type": "display_data"
    },
    {
     "data": {
      "text/html": [
       " View run <strong style=\"color:#cdcd00\">mobilenetv1_1_96_c3_o2_l5</strong> at: <a href=\"https://wandb.ai/susbrock/model_DB/runs/du0odk9c\" target=\"_blank\">https://wandb.ai/susbrock/model_DB/runs/du0odk9c</a><br/>Synced 3 W&B file(s), 0 media file(s), 0 artifact file(s) and 1 other file(s)"
      ],
      "text/plain": [
       "<IPython.core.display.HTML object>"
      ]
     },
     "metadata": {},
     "output_type": "display_data"
    },
    {
     "data": {
      "text/html": [
       "Find logs at: <code>.\\wandb\\run-20230301_210128-du0odk9c\\logs</code>"
      ],
      "text/plain": [
       "<IPython.core.display.HTML object>"
      ]
     },
     "metadata": {},
     "output_type": "display_data"
    },
    {
     "data": {
      "text/html": [
       "Successfully finished last run (ID:du0odk9c). Initializing new run:<br/>"
      ],
      "text/plain": [
       "<IPython.core.display.HTML object>"
      ]
     },
     "metadata": {},
     "output_type": "display_data"
    },
    {
     "data": {
      "application/vnd.jupyter.widget-view+json": {
       "model_id": "20cd5281850a4c1abbbb91cc455d90da",
       "version_major": 2,
       "version_minor": 0
      },
      "text/plain": [
       "VBox(children=(Label(value='Waiting for wandb.init()...\\r'), FloatProgress(value=0.016933333333334608, max=1.0…"
      ]
     },
     "metadata": {},
     "output_type": "display_data"
    },
    {
     "data": {
      "text/html": [
       "wandb version 0.13.10 is available!  To upgrade, please run:\n",
       " $ pip install wandb --upgrade"
      ],
      "text/plain": [
       "<IPython.core.display.HTML object>"
      ]
     },
     "metadata": {},
     "output_type": "display_data"
    },
    {
     "data": {
      "text/html": [
       "Tracking run with wandb version 0.13.9"
      ],
      "text/plain": [
       "<IPython.core.display.HTML object>"
      ]
     },
     "metadata": {},
     "output_type": "display_data"
    },
    {
     "data": {
      "text/html": [
       "Run data is saved locally in <code>i:\\tinyml\\tiny_cnn\\wandb\\run-20230301_210138-y0pb3qam</code>"
      ],
      "text/plain": [
       "<IPython.core.display.HTML object>"
      ]
     },
     "metadata": {},
     "output_type": "display_data"
    },
    {
     "data": {
      "text/html": [
       "Resuming run <strong><a href=\"https://wandb.ai/susbrock/model_DB/runs/y0pb3qam\" target=\"_blank\">mobilenetv1_1_96_c3_o2_l4</a></strong> to <a href=\"https://wandb.ai/susbrock/model_DB\" target=\"_blank\">Weights & Biases</a> (<a href=\"https://wandb.me/run\" target=\"_blank\">docs</a>)<br/>"
      ],
      "text/plain": [
       "<IPython.core.display.HTML object>"
      ]
     },
     "metadata": {},
     "output_type": "display_data"
    },
    {
     "data": {
      "text/html": [
       " View project at <a href=\"https://wandb.ai/susbrock/model_DB\" target=\"_blank\">https://wandb.ai/susbrock/model_DB</a>"
      ],
      "text/plain": [
       "<IPython.core.display.HTML object>"
      ]
     },
     "metadata": {},
     "output_type": "display_data"
    },
    {
     "data": {
      "text/html": [
       " View run at <a href=\"https://wandb.ai/susbrock/model_DB/runs/y0pb3qam\" target=\"_blank\">https://wandb.ai/susbrock/model_DB/runs/y0pb3qam</a>"
      ],
      "text/plain": [
       "<IPython.core.display.HTML object>"
      ]
     },
     "metadata": {},
     "output_type": "display_data"
    },
    {
     "name": "stdout",
     "output_type": "stream",
     "text": [
      "mobilenetv1_1_96_c3_o2_l4 has no run_id\n",
      "407blxzt\n"
     ]
    },
    {
     "data": {
      "text/html": [
       "Finishing last run (ID:y0pb3qam) before initializing another..."
      ],
      "text/plain": [
       "<IPython.core.display.HTML object>"
      ]
     },
     "metadata": {},
     "output_type": "display_data"
    },
    {
     "data": {
      "text/html": [
       "Waiting for W&B process to finish... <strong style=\"color:green\">(success).</strong>"
      ],
      "text/plain": [
       "<IPython.core.display.HTML object>"
      ]
     },
     "metadata": {},
     "output_type": "display_data"
    },
    {
     "data": {
      "application/vnd.jupyter.widget-view+json": {
       "model_id": "0837dba2f05547ba9ebad940517a52aa",
       "version_major": 2,
       "version_minor": 0
      },
      "text/plain": [
       "VBox(children=(Label(value='0.000 MB of 0.002 MB uploaded (0.000 MB deduped)\\r'), FloatProgress(value=0.0, max…"
      ]
     },
     "metadata": {},
     "output_type": "display_data"
    },
    {
     "data": {
      "text/html": [
       "<style>\n",
       "    table.wandb td:nth-child(1) { padding: 0 10px; text-align: left ; width: auto;} td:nth-child(2) {text-align: left ; width: 100%}\n",
       "    .wandb-row { display: flex; flex-direction: row; flex-wrap: wrap; justify-content: flex-start; width: 100% }\n",
       "    .wandb-col { display: flex; flex-direction: column; flex-basis: 100%; flex: 1; padding: 10px; }\n",
       "    </style>\n",
       "<div class=\"wandb-row\"><div class=\"wandb-col\"><h3>Run summary:</h3><br/><table class=\"wandb\"><tr><td>allocate_tensors_ms_%</td><td>32.444</td></tr><tr><td>allocate_tensors_ms_avg</td><td>0.146</td></tr><tr><td>allocate_tensors_ms_first</td><td>0.146</td></tr><tr><td>first_inference_us</td><td>80709</td></tr><tr><td>inference_avg_us</td><td>6755.6</td></tr><tr><td>init_us</td><td>153327</td></tr><tr><td>initialization_ms</td><td>153.327</td></tr><tr><td>model_size_MB</td><td>3.19026</td></tr><tr><td>modify_graph_with_delegate_mem_KB</td><td>0</td></tr><tr><td>modify_graph_with_delegate_ms_%</td><td>67.556</td></tr><tr><td>modify_graph_with_delegate_ms_avg</td><td>0.304</td></tr><tr><td>modify_graph_with_delegate_ms_first</td><td>0.304</td></tr><tr><td>warmup_avg_us</td><td>7718.14</td></tr></table><br/></div></div>"
      ],
      "text/plain": [
       "<IPython.core.display.HTML object>"
      ]
     },
     "metadata": {},
     "output_type": "display_data"
    },
    {
     "data": {
      "text/html": [
       " View run <strong style=\"color:#cdcd00\">mobilenetv1_1_96_c3_o2_l4</strong> at: <a href=\"https://wandb.ai/susbrock/model_DB/runs/y0pb3qam\" target=\"_blank\">https://wandb.ai/susbrock/model_DB/runs/y0pb3qam</a><br/>Synced 3 W&B file(s), 0 media file(s), 0 artifact file(s) and 0 other file(s)"
      ],
      "text/plain": [
       "<IPython.core.display.HTML object>"
      ]
     },
     "metadata": {},
     "output_type": "display_data"
    },
    {
     "data": {
      "text/html": [
       "Find logs at: <code>.\\wandb\\run-20230301_210138-y0pb3qam\\logs</code>"
      ],
      "text/plain": [
       "<IPython.core.display.HTML object>"
      ]
     },
     "metadata": {},
     "output_type": "display_data"
    },
    {
     "data": {
      "text/html": [
       "Successfully finished last run (ID:y0pb3qam). Initializing new run:<br/>"
      ],
      "text/plain": [
       "<IPython.core.display.HTML object>"
      ]
     },
     "metadata": {},
     "output_type": "display_data"
    },
    {
     "data": {
      "application/vnd.jupyter.widget-view+json": {
       "model_id": "2f7e546f02714aa78a37077b4b8dfe8b",
       "version_major": 2,
       "version_minor": 0
      },
      "text/plain": [
       "VBox(children=(Label(value='Waiting for wandb.init()...\\r'), FloatProgress(value=0.016916666666664543, max=1.0…"
      ]
     },
     "metadata": {},
     "output_type": "display_data"
    },
    {
     "data": {
      "text/html": [
       "wandb version 0.13.10 is available!  To upgrade, please run:\n",
       " $ pip install wandb --upgrade"
      ],
      "text/plain": [
       "<IPython.core.display.HTML object>"
      ]
     },
     "metadata": {},
     "output_type": "display_data"
    },
    {
     "data": {
      "text/html": [
       "Tracking run with wandb version 0.13.9"
      ],
      "text/plain": [
       "<IPython.core.display.HTML object>"
      ]
     },
     "metadata": {},
     "output_type": "display_data"
    },
    {
     "data": {
      "text/html": [
       "Run data is saved locally in <code>i:\\tinyml\\tiny_cnn\\wandb\\run-20230301_210145-407blxzt</code>"
      ],
      "text/plain": [
       "<IPython.core.display.HTML object>"
      ]
     },
     "metadata": {},
     "output_type": "display_data"
    },
    {
     "data": {
      "text/html": [
       "Resuming run <strong><a href=\"https://wandb.ai/susbrock/model_DB/runs/407blxzt\" target=\"_blank\">mobilenetv1_1_96_c3_o2_l3</a></strong> to <a href=\"https://wandb.ai/susbrock/model_DB\" target=\"_blank\">Weights & Biases</a> (<a href=\"https://wandb.me/run\" target=\"_blank\">docs</a>)<br/>"
      ],
      "text/plain": [
       "<IPython.core.display.HTML object>"
      ]
     },
     "metadata": {},
     "output_type": "display_data"
    },
    {
     "data": {
      "text/html": [
       " View project at <a href=\"https://wandb.ai/susbrock/model_DB\" target=\"_blank\">https://wandb.ai/susbrock/model_DB</a>"
      ],
      "text/plain": [
       "<IPython.core.display.HTML object>"
      ]
     },
     "metadata": {},
     "output_type": "display_data"
    },
    {
     "data": {
      "text/html": [
       " View run at <a href=\"https://wandb.ai/susbrock/model_DB/runs/407blxzt\" target=\"_blank\">https://wandb.ai/susbrock/model_DB/runs/407blxzt</a>"
      ],
      "text/plain": [
       "<IPython.core.display.HTML object>"
      ]
     },
     "metadata": {},
     "output_type": "display_data"
    },
    {
     "name": "stdout",
     "output_type": "stream",
     "text": [
      "mobilenetv1_1_96_c3_o2_l3 has no run_id\n",
      "hf4jz04b\n"
     ]
    },
    {
     "data": {
      "text/html": [
       "Finishing last run (ID:407blxzt) before initializing another..."
      ],
      "text/plain": [
       "<IPython.core.display.HTML object>"
      ]
     },
     "metadata": {},
     "output_type": "display_data"
    },
    {
     "data": {
      "text/html": [
       "Waiting for W&B process to finish... <strong style=\"color:green\">(success).</strong>"
      ],
      "text/plain": [
       "<IPython.core.display.HTML object>"
      ]
     },
     "metadata": {},
     "output_type": "display_data"
    },
    {
     "data": {
      "application/vnd.jupyter.widget-view+json": {
       "model_id": "78a7fd07626a48e994962e6e5fe6bf1f",
       "version_major": 2,
       "version_minor": 0
      },
      "text/plain": [
       "VBox(children=(Label(value='0.000 MB of 0.000 MB uploaded (0.000 MB deduped)\\r'), FloatProgress(value=1.0, max…"
      ]
     },
     "metadata": {},
     "output_type": "display_data"
    },
    {
     "data": {
      "text/html": [
       "<style>\n",
       "    table.wandb td:nth-child(1) { padding: 0 10px; text-align: left ; width: auto;} td:nth-child(2) {text-align: left ; width: 100%}\n",
       "    .wandb-row { display: flex; flex-direction: row; flex-wrap: wrap; justify-content: flex-start; width: 100% }\n",
       "    .wandb-col { display: flex; flex-direction: column; flex-basis: 100%; flex: 1; padding: 10px; }\n",
       "    </style>\n",
       "<div class=\"wandb-row\"><div class=\"wandb-col\"><h3>Run summary:</h3><br/><table class=\"wandb\"><tr><td>allocate_tensors_ms_%</td><td>30.682</td></tr><tr><td>allocate_tensors_ms_avg</td><td>0.135</td></tr><tr><td>allocate_tensors_ms_first</td><td>0.135</td></tr><tr><td>first_inference_us</td><td>75871</td></tr><tr><td>inference_avg_us</td><td>6612.47</td></tr><tr><td>init_us</td><td>145532</td></tr><tr><td>initialization_ms</td><td>145.532</td></tr><tr><td>model_size_MB</td><td>2.89724</td></tr><tr><td>modify_graph_with_delegate_mem_KB</td><td>0</td></tr><tr><td>modify_graph_with_delegate_ms_%</td><td>69.318</td></tr><tr><td>modify_graph_with_delegate_ms_avg</td><td>0.305</td></tr><tr><td>modify_graph_with_delegate_ms_first</td><td>0.305</td></tr><tr><td>warmup_avg_us</td><td>7329.68</td></tr></table><br/></div></div>"
      ],
      "text/plain": [
       "<IPython.core.display.HTML object>"
      ]
     },
     "metadata": {},
     "output_type": "display_data"
    },
    {
     "data": {
      "text/html": [
       " View run <strong style=\"color:#cdcd00\">mobilenetv1_1_96_c3_o2_l3</strong> at: <a href=\"https://wandb.ai/susbrock/model_DB/runs/407blxzt\" target=\"_blank\">https://wandb.ai/susbrock/model_DB/runs/407blxzt</a><br/>Synced 3 W&B file(s), 0 media file(s), 0 artifact file(s) and 1 other file(s)"
      ],
      "text/plain": [
       "<IPython.core.display.HTML object>"
      ]
     },
     "metadata": {},
     "output_type": "display_data"
    },
    {
     "data": {
      "text/html": [
       "Find logs at: <code>.\\wandb\\run-20230301_210145-407blxzt\\logs</code>"
      ],
      "text/plain": [
       "<IPython.core.display.HTML object>"
      ]
     },
     "metadata": {},
     "output_type": "display_data"
    },
    {
     "data": {
      "text/html": [
       "Successfully finished last run (ID:407blxzt). Initializing new run:<br/>"
      ],
      "text/plain": [
       "<IPython.core.display.HTML object>"
      ]
     },
     "metadata": {},
     "output_type": "display_data"
    },
    {
     "data": {
      "application/vnd.jupyter.widget-view+json": {
       "model_id": "2655e1aff9684ddc9d099c89b30f6e78",
       "version_major": 2,
       "version_minor": 0
      },
      "text/plain": [
       "VBox(children=(Label(value='Waiting for wandb.init()...\\r'), FloatProgress(value=0.016666666666666666, max=1.0…"
      ]
     },
     "metadata": {},
     "output_type": "display_data"
    },
    {
     "data": {
      "text/html": [
       "wandb version 0.13.10 is available!  To upgrade, please run:\n",
       " $ pip install wandb --upgrade"
      ],
      "text/plain": [
       "<IPython.core.display.HTML object>"
      ]
     },
     "metadata": {},
     "output_type": "display_data"
    },
    {
     "data": {
      "text/html": [
       "Tracking run with wandb version 0.13.9"
      ],
      "text/plain": [
       "<IPython.core.display.HTML object>"
      ]
     },
     "metadata": {},
     "output_type": "display_data"
    },
    {
     "data": {
      "text/html": [
       "Run data is saved locally in <code>i:\\tinyml\\tiny_cnn\\wandb\\run-20230301_210153-hf4jz04b</code>"
      ],
      "text/plain": [
       "<IPython.core.display.HTML object>"
      ]
     },
     "metadata": {},
     "output_type": "display_data"
    },
    {
     "data": {
      "text/html": [
       "Resuming run <strong><a href=\"https://wandb.ai/susbrock/model_DB/runs/hf4jz04b\" target=\"_blank\">mobilenetv1_1_96_c3_o2_l2</a></strong> to <a href=\"https://wandb.ai/susbrock/model_DB\" target=\"_blank\">Weights & Biases</a> (<a href=\"https://wandb.me/run\" target=\"_blank\">docs</a>)<br/>"
      ],
      "text/plain": [
       "<IPython.core.display.HTML object>"
      ]
     },
     "metadata": {},
     "output_type": "display_data"
    },
    {
     "data": {
      "text/html": [
       " View project at <a href=\"https://wandb.ai/susbrock/model_DB\" target=\"_blank\">https://wandb.ai/susbrock/model_DB</a>"
      ],
      "text/plain": [
       "<IPython.core.display.HTML object>"
      ]
     },
     "metadata": {},
     "output_type": "display_data"
    },
    {
     "data": {
      "text/html": [
       " View run at <a href=\"https://wandb.ai/susbrock/model_DB/runs/hf4jz04b\" target=\"_blank\">https://wandb.ai/susbrock/model_DB/runs/hf4jz04b</a>"
      ],
      "text/plain": [
       "<IPython.core.display.HTML object>"
      ]
     },
     "metadata": {},
     "output_type": "display_data"
    },
    {
     "name": "stdout",
     "output_type": "stream",
     "text": [
      "mobilenetv1_1_96_c3_o2_l2 has no run_id\n",
      "sx9lbvdk\n"
     ]
    },
    {
     "data": {
      "text/html": [
       "Finishing last run (ID:hf4jz04b) before initializing another..."
      ],
      "text/plain": [
       "<IPython.core.display.HTML object>"
      ]
     },
     "metadata": {},
     "output_type": "display_data"
    },
    {
     "data": {
      "text/html": [
       "Waiting for W&B process to finish... <strong style=\"color:green\">(success).</strong>"
      ],
      "text/plain": [
       "<IPython.core.display.HTML object>"
      ]
     },
     "metadata": {},
     "output_type": "display_data"
    },
    {
     "data": {
      "text/html": [
       "<style>\n",
       "    table.wandb td:nth-child(1) { padding: 0 10px; text-align: left ; width: auto;} td:nth-child(2) {text-align: left ; width: 100%}\n",
       "    .wandb-row { display: flex; flex-direction: row; flex-wrap: wrap; justify-content: flex-start; width: 100% }\n",
       "    .wandb-col { display: flex; flex-direction: column; flex-basis: 100%; flex: 1; padding: 10px; }\n",
       "    </style>\n",
       "<div class=\"wandb-row\"><div class=\"wandb-col\"><h3>Run summary:</h3><br/><table class=\"wandb\"><tr><td>allocate_tensors_ms_%</td><td>33.542</td></tr><tr><td>allocate_tensors_ms_avg</td><td>0.161</td></tr><tr><td>allocate_tensors_ms_first</td><td>0.161</td></tr><tr><td>first_inference_us</td><td>77551</td></tr><tr><td>inference_avg_us</td><td>6686.93</td></tr><tr><td>init_us</td><td>174906</td></tr><tr><td>initialization_ms</td><td>174.906</td></tr><tr><td>model_size_MB</td><td>2.60423</td></tr><tr><td>modify_graph_with_delegate_mem_KB</td><td>500</td></tr><tr><td>modify_graph_with_delegate_ms_%</td><td>66.458</td></tr><tr><td>modify_graph_with_delegate_ms_avg</td><td>0.319</td></tr><tr><td>modify_graph_with_delegate_ms_first</td><td>0.319</td></tr><tr><td>warmup_avg_us</td><td>7934.77</td></tr></table><br/></div></div>"
      ],
      "text/plain": [
       "<IPython.core.display.HTML object>"
      ]
     },
     "metadata": {},
     "output_type": "display_data"
    },
    {
     "data": {
      "text/html": [
       " View run <strong style=\"color:#cdcd00\">mobilenetv1_1_96_c3_o2_l2</strong> at: <a href=\"https://wandb.ai/susbrock/model_DB/runs/hf4jz04b\" target=\"_blank\">https://wandb.ai/susbrock/model_DB/runs/hf4jz04b</a><br/>Synced 3 W&B file(s), 0 media file(s), 0 artifact file(s) and 0 other file(s)"
      ],
      "text/plain": [
       "<IPython.core.display.HTML object>"
      ]
     },
     "metadata": {},
     "output_type": "display_data"
    },
    {
     "data": {
      "text/html": [
       "Find logs at: <code>.\\wandb\\run-20230301_210153-hf4jz04b\\logs</code>"
      ],
      "text/plain": [
       "<IPython.core.display.HTML object>"
      ]
     },
     "metadata": {},
     "output_type": "display_data"
    },
    {
     "data": {
      "text/html": [
       "Successfully finished last run (ID:hf4jz04b). Initializing new run:<br/>"
      ],
      "text/plain": [
       "<IPython.core.display.HTML object>"
      ]
     },
     "metadata": {},
     "output_type": "display_data"
    },
    {
     "data": {
      "application/vnd.jupyter.widget-view+json": {
       "model_id": "cdb7edd56b0042d3a68333e49d49b79c",
       "version_major": 2,
       "version_minor": 0
      },
      "text/plain": [
       "VBox(children=(Label(value='Waiting for wandb.init()...\\r'), FloatProgress(value=0.016666666666666666, max=1.0…"
      ]
     },
     "metadata": {},
     "output_type": "display_data"
    },
    {
     "data": {
      "text/html": [
       "wandb version 0.13.10 is available!  To upgrade, please run:\n",
       " $ pip install wandb --upgrade"
      ],
      "text/plain": [
       "<IPython.core.display.HTML object>"
      ]
     },
     "metadata": {},
     "output_type": "display_data"
    },
    {
     "data": {
      "text/html": [
       "Tracking run with wandb version 0.13.9"
      ],
      "text/plain": [
       "<IPython.core.display.HTML object>"
      ]
     },
     "metadata": {},
     "output_type": "display_data"
    },
    {
     "data": {
      "text/html": [
       "Run data is saved locally in <code>i:\\tinyml\\tiny_cnn\\wandb\\run-20230301_210204-sx9lbvdk</code>"
      ],
      "text/plain": [
       "<IPython.core.display.HTML object>"
      ]
     },
     "metadata": {},
     "output_type": "display_data"
    },
    {
     "data": {
      "text/html": [
       "Resuming run <strong><a href=\"https://wandb.ai/susbrock/model_DB/runs/sx9lbvdk\" target=\"_blank\">mobilenetv1_1_96_c3_o2_l1</a></strong> to <a href=\"https://wandb.ai/susbrock/model_DB\" target=\"_blank\">Weights & Biases</a> (<a href=\"https://wandb.me/run\" target=\"_blank\">docs</a>)<br/>"
      ],
      "text/plain": [
       "<IPython.core.display.HTML object>"
      ]
     },
     "metadata": {},
     "output_type": "display_data"
    },
    {
     "data": {
      "text/html": [
       " View project at <a href=\"https://wandb.ai/susbrock/model_DB\" target=\"_blank\">https://wandb.ai/susbrock/model_DB</a>"
      ],
      "text/plain": [
       "<IPython.core.display.HTML object>"
      ]
     },
     "metadata": {},
     "output_type": "display_data"
    },
    {
     "data": {
      "text/html": [
       " View run at <a href=\"https://wandb.ai/susbrock/model_DB/runs/sx9lbvdk\" target=\"_blank\">https://wandb.ai/susbrock/model_DB/runs/sx9lbvdk</a>"
      ],
      "text/plain": [
       "<IPython.core.display.HTML object>"
      ]
     },
     "metadata": {},
     "output_type": "display_data"
    },
    {
     "name": "stdout",
     "output_type": "stream",
     "text": [
      "mobilenetv1_1_96_c3_o2_l1 has no run_id\n",
      "dufa0261\n"
     ]
    },
    {
     "data": {
      "text/html": [
       "Finishing last run (ID:sx9lbvdk) before initializing another..."
      ],
      "text/plain": [
       "<IPython.core.display.HTML object>"
      ]
     },
     "metadata": {},
     "output_type": "display_data"
    },
    {
     "data": {
      "text/html": [
       "Waiting for W&B process to finish... <strong style=\"color:green\">(success).</strong>"
      ],
      "text/plain": [
       "<IPython.core.display.HTML object>"
      ]
     },
     "metadata": {},
     "output_type": "display_data"
    },
    {
     "data": {
      "application/vnd.jupyter.widget-view+json": {
       "model_id": "111369ac8c37464ba24d092cca339d96",
       "version_major": 2,
       "version_minor": 0
      },
      "text/plain": [
       "VBox(children=(Label(value='0.000 MB of 0.138 MB uploaded (0.000 MB deduped)\\r'), FloatProgress(value=0.0, max…"
      ]
     },
     "metadata": {},
     "output_type": "display_data"
    },
    {
     "data": {
      "text/html": [
       "<style>\n",
       "    table.wandb td:nth-child(1) { padding: 0 10px; text-align: left ; width: auto;} td:nth-child(2) {text-align: left ; width: 100%}\n",
       "    .wandb-row { display: flex; flex-direction: row; flex-wrap: wrap; justify-content: flex-start; width: 100% }\n",
       "    .wandb-col { display: flex; flex-direction: column; flex-basis: 100%; flex: 1; padding: 10px; }\n",
       "    </style>\n",
       "<div class=\"wandb-row\"><div class=\"wandb-col\"><h3>Run summary:</h3><br/><table class=\"wandb\"><tr><td>allocate_tensors_ms_%</td><td>34.305</td></tr><tr><td>allocate_tensors_ms_avg</td><td>0.153</td></tr><tr><td>allocate_tensors_ms_first</td><td>0.153</td></tr><tr><td>first_inference_us</td><td>74484</td></tr><tr><td>inference_avg_us</td><td>5842.58</td></tr><tr><td>init_us</td><td>179682</td></tr><tr><td>initialization_ms</td><td>179.682</td></tr><tr><td>model_size_MB</td><td>2.31122</td></tr><tr><td>modify_graph_with_delegate_mem_KB</td><td>0</td></tr><tr><td>modify_graph_with_delegate_ms_%</td><td>65.695</td></tr><tr><td>modify_graph_with_delegate_ms_avg</td><td>0.293</td></tr><tr><td>modify_graph_with_delegate_ms_first</td><td>0.293</td></tr><tr><td>warmup_avg_us</td><td>6752.61</td></tr></table><br/></div></div>"
      ],
      "text/plain": [
       "<IPython.core.display.HTML object>"
      ]
     },
     "metadata": {},
     "output_type": "display_data"
    },
    {
     "data": {
      "text/html": [
       " View run <strong style=\"color:#cdcd00\">mobilenetv1_1_96_c3_o2_l1</strong> at: <a href=\"https://wandb.ai/susbrock/model_DB/runs/sx9lbvdk\" target=\"_blank\">https://wandb.ai/susbrock/model_DB/runs/sx9lbvdk</a><br/>Synced 3 W&B file(s), 0 media file(s), 0 artifact file(s) and 1 other file(s)"
      ],
      "text/plain": [
       "<IPython.core.display.HTML object>"
      ]
     },
     "metadata": {},
     "output_type": "display_data"
    },
    {
     "data": {
      "text/html": [
       "Find logs at: <code>.\\wandb\\run-20230301_210204-sx9lbvdk\\logs</code>"
      ],
      "text/plain": [
       "<IPython.core.display.HTML object>"
      ]
     },
     "metadata": {},
     "output_type": "display_data"
    },
    {
     "data": {
      "text/html": [
       "Successfully finished last run (ID:sx9lbvdk). Initializing new run:<br/>"
      ],
      "text/plain": [
       "<IPython.core.display.HTML object>"
      ]
     },
     "metadata": {},
     "output_type": "display_data"
    },
    {
     "data": {
      "application/vnd.jupyter.widget-view+json": {
       "model_id": "1ad07ebcd65f440ea5d988053fda364d",
       "version_major": 2,
       "version_minor": 0
      },
      "text/plain": [
       "VBox(children=(Label(value='Waiting for wandb.init()...\\r'), FloatProgress(value=0.016933333333334608, max=1.0…"
      ]
     },
     "metadata": {},
     "output_type": "display_data"
    },
    {
     "data": {
      "text/html": [
       "wandb version 0.13.10 is available!  To upgrade, please run:\n",
       " $ pip install wandb --upgrade"
      ],
      "text/plain": [
       "<IPython.core.display.HTML object>"
      ]
     },
     "metadata": {},
     "output_type": "display_data"
    },
    {
     "data": {
      "text/html": [
       "Tracking run with wandb version 0.13.9"
      ],
      "text/plain": [
       "<IPython.core.display.HTML object>"
      ]
     },
     "metadata": {},
     "output_type": "display_data"
    },
    {
     "data": {
      "text/html": [
       "Run data is saved locally in <code>i:\\tinyml\\tiny_cnn\\wandb\\run-20230301_210215-dufa0261</code>"
      ],
      "text/plain": [
       "<IPython.core.display.HTML object>"
      ]
     },
     "metadata": {},
     "output_type": "display_data"
    },
    {
     "data": {
      "text/html": [
       "Resuming run <strong><a href=\"https://wandb.ai/susbrock/model_DB/runs/dufa0261\" target=\"_blank\">mobilenetv1_0.35_96_c3_o2_l5</a></strong> to <a href=\"https://wandb.ai/susbrock/model_DB\" target=\"_blank\">Weights & Biases</a> (<a href=\"https://wandb.me/run\" target=\"_blank\">docs</a>)<br/>"
      ],
      "text/plain": [
       "<IPython.core.display.HTML object>"
      ]
     },
     "metadata": {},
     "output_type": "display_data"
    },
    {
     "data": {
      "text/html": [
       " View project at <a href=\"https://wandb.ai/susbrock/model_DB\" target=\"_blank\">https://wandb.ai/susbrock/model_DB</a>"
      ],
      "text/plain": [
       "<IPython.core.display.HTML object>"
      ]
     },
     "metadata": {},
     "output_type": "display_data"
    },
    {
     "data": {
      "text/html": [
       " View run at <a href=\"https://wandb.ai/susbrock/model_DB/runs/dufa0261\" target=\"_blank\">https://wandb.ai/susbrock/model_DB/runs/dufa0261</a>"
      ],
      "text/plain": [
       "<IPython.core.display.HTML object>"
      ]
     },
     "metadata": {},
     "output_type": "display_data"
    },
    {
     "name": "stdout",
     "output_type": "stream",
     "text": [
      "mobilenetv1_0.35_96_c3_o2_l5 has no run_id\n",
      "24hh17gw\n"
     ]
    },
    {
     "data": {
      "text/html": [
       "Finishing last run (ID:dufa0261) before initializing another..."
      ],
      "text/plain": [
       "<IPython.core.display.HTML object>"
      ]
     },
     "metadata": {},
     "output_type": "display_data"
    },
    {
     "data": {
      "text/html": [
       "Waiting for W&B process to finish... <strong style=\"color:green\">(success).</strong>"
      ],
      "text/plain": [
       "<IPython.core.display.HTML object>"
      ]
     },
     "metadata": {},
     "output_type": "display_data"
    },
    {
     "data": {
      "application/vnd.jupyter.widget-view+json": {
       "model_id": "3671bf7daaab4527b592a8d348d53104",
       "version_major": 2,
       "version_minor": 0
      },
      "text/plain": [
       "VBox(children=(Label(value='0.000 MB of 0.002 MB uploaded (0.000 MB deduped)\\r'), FloatProgress(value=0.0, max…"
      ]
     },
     "metadata": {},
     "output_type": "display_data"
    },
    {
     "data": {
      "text/html": [
       "<style>\n",
       "    table.wandb td:nth-child(1) { padding: 0 10px; text-align: left ; width: auto;} td:nth-child(2) {text-align: left ; width: 100%}\n",
       "    .wandb-row { display: flex; flex-direction: row; flex-wrap: wrap; justify-content: flex-start; width: 100% }\n",
       "    .wandb-col { display: flex; flex-direction: column; flex-basis: 100%; flex: 1; padding: 10px; }\n",
       "    </style>\n",
       "<div class=\"wandb-row\"><div class=\"wandb-col\"><h3>Run summary:</h3><br/><table class=\"wandb\"><tr><td>allocate_tensors_ms_%</td><td>37.5</td></tr><tr><td>allocate_tensors_ms_avg</td><td>0.12</td></tr><tr><td>allocate_tensors_ms_first</td><td>0.12</td></tr><tr><td>first_inference_us</td><td>5572</td></tr><tr><td>inference_avg_us</td><td>2193.09</td></tr><tr><td>init_us</td><td>148865</td></tr><tr><td>initialization_ms</td><td>148.865</td></tr><tr><td>model_size_MB</td><td>0.51994</td></tr><tr><td>modify_graph_with_delegate_mem_KB</td><td>0</td></tr><tr><td>modify_graph_with_delegate_ms_%</td><td>62.5</td></tr><tr><td>modify_graph_with_delegate_ms_avg</td><td>0.2</td></tr><tr><td>modify_graph_with_delegate_ms_first</td><td>0.2</td></tr><tr><td>warmup_avg_us</td><td>2442.29</td></tr></table><br/></div></div>"
      ],
      "text/plain": [
       "<IPython.core.display.HTML object>"
      ]
     },
     "metadata": {},
     "output_type": "display_data"
    },
    {
     "data": {
      "text/html": [
       " View run <strong style=\"color:#cdcd00\">mobilenetv1_0.35_96_c3_o2_l5</strong> at: <a href=\"https://wandb.ai/susbrock/model_DB/runs/dufa0261\" target=\"_blank\">https://wandb.ai/susbrock/model_DB/runs/dufa0261</a><br/>Synced 3 W&B file(s), 0 media file(s), 0 artifact file(s) and 0 other file(s)"
      ],
      "text/plain": [
       "<IPython.core.display.HTML object>"
      ]
     },
     "metadata": {},
     "output_type": "display_data"
    },
    {
     "data": {
      "text/html": [
       "Find logs at: <code>.\\wandb\\run-20230301_210215-dufa0261\\logs</code>"
      ],
      "text/plain": [
       "<IPython.core.display.HTML object>"
      ]
     },
     "metadata": {},
     "output_type": "display_data"
    },
    {
     "data": {
      "text/html": [
       "Successfully finished last run (ID:dufa0261). Initializing new run:<br/>"
      ],
      "text/plain": [
       "<IPython.core.display.HTML object>"
      ]
     },
     "metadata": {},
     "output_type": "display_data"
    },
    {
     "data": {
      "application/vnd.jupyter.widget-view+json": {
       "model_id": "c57fccec370b4217b6ddc244cfa9897f",
       "version_major": 2,
       "version_minor": 0
      },
      "text/plain": [
       "VBox(children=(Label(value='Waiting for wandb.init()...\\r'), FloatProgress(value=0.016666666666666666, max=1.0…"
      ]
     },
     "metadata": {},
     "output_type": "display_data"
    },
    {
     "data": {
      "text/html": [
       "wandb version 0.13.10 is available!  To upgrade, please run:\n",
       " $ pip install wandb --upgrade"
      ],
      "text/plain": [
       "<IPython.core.display.HTML object>"
      ]
     },
     "metadata": {},
     "output_type": "display_data"
    },
    {
     "data": {
      "text/html": [
       "Tracking run with wandb version 0.13.9"
      ],
      "text/plain": [
       "<IPython.core.display.HTML object>"
      ]
     },
     "metadata": {},
     "output_type": "display_data"
    },
    {
     "data": {
      "text/html": [
       "Run data is saved locally in <code>i:\\tinyml\\tiny_cnn\\wandb\\run-20230301_210223-24hh17gw</code>"
      ],
      "text/plain": [
       "<IPython.core.display.HTML object>"
      ]
     },
     "metadata": {},
     "output_type": "display_data"
    },
    {
     "data": {
      "text/html": [
       "Resuming run <strong><a href=\"https://wandb.ai/susbrock/model_DB/runs/24hh17gw\" target=\"_blank\">mobilenetv1_0.35_96_c3_o2_l4</a></strong> to <a href=\"https://wandb.ai/susbrock/model_DB\" target=\"_blank\">Weights & Biases</a> (<a href=\"https://wandb.me/run\" target=\"_blank\">docs</a>)<br/>"
      ],
      "text/plain": [
       "<IPython.core.display.HTML object>"
      ]
     },
     "metadata": {},
     "output_type": "display_data"
    },
    {
     "data": {
      "text/html": [
       " View project at <a href=\"https://wandb.ai/susbrock/model_DB\" target=\"_blank\">https://wandb.ai/susbrock/model_DB</a>"
      ],
      "text/plain": [
       "<IPython.core.display.HTML object>"
      ]
     },
     "metadata": {},
     "output_type": "display_data"
    },
    {
     "data": {
      "text/html": [
       " View run at <a href=\"https://wandb.ai/susbrock/model_DB/runs/24hh17gw\" target=\"_blank\">https://wandb.ai/susbrock/model_DB/runs/24hh17gw</a>"
      ],
      "text/plain": [
       "<IPython.core.display.HTML object>"
      ]
     },
     "metadata": {},
     "output_type": "display_data"
    },
    {
     "name": "stdout",
     "output_type": "stream",
     "text": [
      "mobilenetv1_0.35_96_c3_o2_l4 has no run_id\n",
      "w77speon\n"
     ]
    },
    {
     "data": {
      "text/html": [
       "Finishing last run (ID:24hh17gw) before initializing another..."
      ],
      "text/plain": [
       "<IPython.core.display.HTML object>"
      ]
     },
     "metadata": {},
     "output_type": "display_data"
    },
    {
     "data": {
      "text/html": [
       "Waiting for W&B process to finish... <strong style=\"color:green\">(success).</strong>"
      ],
      "text/plain": [
       "<IPython.core.display.HTML object>"
      ]
     },
     "metadata": {},
     "output_type": "display_data"
    },
    {
     "data": {
      "application/vnd.jupyter.widget-view+json": {
       "model_id": "3bf16cdc6b3641ec93a26efb91ea6649",
       "version_major": 2,
       "version_minor": 0
      },
      "text/plain": [
       "VBox(children=(Label(value='0.000 MB of 0.008 MB uploaded (0.000 MB deduped)\\r'), FloatProgress(value=0.0, max…"
      ]
     },
     "metadata": {},
     "output_type": "display_data"
    },
    {
     "data": {
      "text/html": [
       "<style>\n",
       "    table.wandb td:nth-child(1) { padding: 0 10px; text-align: left ; width: auto;} td:nth-child(2) {text-align: left ; width: 100%}\n",
       "    .wandb-row { display: flex; flex-direction: row; flex-wrap: wrap; justify-content: flex-start; width: 100% }\n",
       "    .wandb-col { display: flex; flex-direction: column; flex-basis: 100%; flex: 1; padding: 10px; }\n",
       "    </style>\n",
       "<div class=\"wandb-row\"><div class=\"wandb-col\"><h3>Run summary:</h3><br/><table class=\"wandb\"><tr><td>allocate_tensors_ms_%</td><td>35</td></tr><tr><td>allocate_tensors_ms_avg</td><td>0.091</td></tr><tr><td>allocate_tensors_ms_first</td><td>0.091</td></tr><tr><td>first_inference_us</td><td>6320</td></tr><tr><td>inference_avg_us</td><td>2143.97</td></tr><tr><td>init_us</td><td>178962</td></tr><tr><td>initialization_ms</td><td>178.962</td></tr><tr><td>model_size_MB</td><td>0.476</td></tr><tr><td>modify_graph_with_delegate_mem_KB</td><td>0</td></tr><tr><td>modify_graph_with_delegate_ms_%</td><td>65</td></tr><tr><td>modify_graph_with_delegate_ms_avg</td><td>0.169</td></tr><tr><td>modify_graph_with_delegate_ms_first</td><td>0.169</td></tr><tr><td>warmup_avg_us</td><td>2248.86</td></tr></table><br/></div></div>"
      ],
      "text/plain": [
       "<IPython.core.display.HTML object>"
      ]
     },
     "metadata": {},
     "output_type": "display_data"
    },
    {
     "data": {
      "text/html": [
       " View run <strong style=\"color:#cdcd00\">mobilenetv1_0.35_96_c3_o2_l4</strong> at: <a href=\"https://wandb.ai/susbrock/model_DB/runs/24hh17gw\" target=\"_blank\">https://wandb.ai/susbrock/model_DB/runs/24hh17gw</a><br/>Synced 3 W&B file(s), 0 media file(s), 0 artifact file(s) and 1 other file(s)"
      ],
      "text/plain": [
       "<IPython.core.display.HTML object>"
      ]
     },
     "metadata": {},
     "output_type": "display_data"
    },
    {
     "data": {
      "text/html": [
       "Find logs at: <code>.\\wandb\\run-20230301_210223-24hh17gw\\logs</code>"
      ],
      "text/plain": [
       "<IPython.core.display.HTML object>"
      ]
     },
     "metadata": {},
     "output_type": "display_data"
    },
    {
     "data": {
      "text/html": [
       "Successfully finished last run (ID:24hh17gw). Initializing new run:<br/>"
      ],
      "text/plain": [
       "<IPython.core.display.HTML object>"
      ]
     },
     "metadata": {},
     "output_type": "display_data"
    },
    {
     "data": {
      "application/vnd.jupyter.widget-view+json": {
       "model_id": "465a918297184f59bf87812fcb4ab05d",
       "version_major": 2,
       "version_minor": 0
      },
      "text/plain": [
       "VBox(children=(Label(value='Waiting for wandb.init()...\\r'), FloatProgress(value=0.016666666666666666, max=1.0…"
      ]
     },
     "metadata": {},
     "output_type": "display_data"
    },
    {
     "data": {
      "text/html": [
       "wandb version 0.13.10 is available!  To upgrade, please run:\n",
       " $ pip install wandb --upgrade"
      ],
      "text/plain": [
       "<IPython.core.display.HTML object>"
      ]
     },
     "metadata": {},
     "output_type": "display_data"
    },
    {
     "data": {
      "text/html": [
       "Tracking run with wandb version 0.13.9"
      ],
      "text/plain": [
       "<IPython.core.display.HTML object>"
      ]
     },
     "metadata": {},
     "output_type": "display_data"
    },
    {
     "data": {
      "text/html": [
       "Run data is saved locally in <code>i:\\tinyml\\tiny_cnn\\wandb\\run-20230301_210231-w77speon</code>"
      ],
      "text/plain": [
       "<IPython.core.display.HTML object>"
      ]
     },
     "metadata": {},
     "output_type": "display_data"
    },
    {
     "data": {
      "text/html": [
       "Resuming run <strong><a href=\"https://wandb.ai/susbrock/model_DB/runs/w77speon\" target=\"_blank\">mobilenetv1_0.35_96_c3_o2_l3</a></strong> to <a href=\"https://wandb.ai/susbrock/model_DB\" target=\"_blank\">Weights & Biases</a> (<a href=\"https://wandb.me/run\" target=\"_blank\">docs</a>)<br/>"
      ],
      "text/plain": [
       "<IPython.core.display.HTML object>"
      ]
     },
     "metadata": {},
     "output_type": "display_data"
    },
    {
     "data": {
      "text/html": [
       " View project at <a href=\"https://wandb.ai/susbrock/model_DB\" target=\"_blank\">https://wandb.ai/susbrock/model_DB</a>"
      ],
      "text/plain": [
       "<IPython.core.display.HTML object>"
      ]
     },
     "metadata": {},
     "output_type": "display_data"
    },
    {
     "data": {
      "text/html": [
       " View run at <a href=\"https://wandb.ai/susbrock/model_DB/runs/w77speon\" target=\"_blank\">https://wandb.ai/susbrock/model_DB/runs/w77speon</a>"
      ],
      "text/plain": [
       "<IPython.core.display.HTML object>"
      ]
     },
     "metadata": {},
     "output_type": "display_data"
    },
    {
     "name": "stdout",
     "output_type": "stream",
     "text": [
      "mobilenetv1_0.35_96_c3_o2_l3 has no run_id\n",
      "hv72fne6\n"
     ]
    },
    {
     "data": {
      "text/html": [
       "Finishing last run (ID:w77speon) before initializing another..."
      ],
      "text/plain": [
       "<IPython.core.display.HTML object>"
      ]
     },
     "metadata": {},
     "output_type": "display_data"
    },
    {
     "data": {
      "text/html": [
       "Waiting for W&B process to finish... <strong style=\"color:green\">(success).</strong>"
      ],
      "text/plain": [
       "<IPython.core.display.HTML object>"
      ]
     },
     "metadata": {},
     "output_type": "display_data"
    },
    {
     "data": {
      "application/vnd.jupyter.widget-view+json": {
       "model_id": "8d45b7c7de724f3ab5238ded69b7cac9",
       "version_major": 2,
       "version_minor": 0
      },
      "text/plain": [
       "VBox(children=(Label(value='0.000 MB of 0.002 MB uploaded (0.000 MB deduped)\\r'), FloatProgress(value=0.0, max…"
      ]
     },
     "metadata": {},
     "output_type": "display_data"
    },
    {
     "data": {
      "text/html": [
       "<style>\n",
       "    table.wandb td:nth-child(1) { padding: 0 10px; text-align: left ; width: auto;} td:nth-child(2) {text-align: left ; width: 100%}\n",
       "    .wandb-row { display: flex; flex-direction: row; flex-wrap: wrap; justify-content: flex-start; width: 100% }\n",
       "    .wandb-col { display: flex; flex-direction: column; flex-basis: 100%; flex: 1; padding: 10px; }\n",
       "    </style>\n",
       "<div class=\"wandb-row\"><div class=\"wandb-col\"><h3>Run summary:</h3><br/><table class=\"wandb\"><tr><td>allocate_tensors_ms_%</td><td>37.017</td></tr><tr><td>allocate_tensors_ms_avg</td><td>0.134</td></tr><tr><td>allocate_tensors_ms_first</td><td>0.134</td></tr><tr><td>first_inference_us</td><td>4888</td></tr><tr><td>inference_avg_us</td><td>2185.73</td></tr><tr><td>init_us</td><td>159369</td></tr><tr><td>initialization_ms</td><td>159.369</td></tr><tr><td>model_size_MB</td><td>0.43206</td></tr><tr><td>modify_graph_with_delegate_mem_KB</td><td>0</td></tr><tr><td>modify_graph_with_delegate_ms_%</td><td>62.983</td></tr><tr><td>modify_graph_with_delegate_ms_avg</td><td>0.228</td></tr><tr><td>modify_graph_with_delegate_ms_first</td><td>0.228</td></tr><tr><td>warmup_avg_us</td><td>1985.83</td></tr></table><br/></div></div>"
      ],
      "text/plain": [
       "<IPython.core.display.HTML object>"
      ]
     },
     "metadata": {},
     "output_type": "display_data"
    },
    {
     "data": {
      "text/html": [
       " View run <strong style=\"color:#cdcd00\">mobilenetv1_0.35_96_c3_o2_l3</strong> at: <a href=\"https://wandb.ai/susbrock/model_DB/runs/w77speon\" target=\"_blank\">https://wandb.ai/susbrock/model_DB/runs/w77speon</a><br/>Synced 3 W&B file(s), 0 media file(s), 0 artifact file(s) and 0 other file(s)"
      ],
      "text/plain": [
       "<IPython.core.display.HTML object>"
      ]
     },
     "metadata": {},
     "output_type": "display_data"
    },
    {
     "data": {
      "text/html": [
       "Find logs at: <code>.\\wandb\\run-20230301_210231-w77speon\\logs</code>"
      ],
      "text/plain": [
       "<IPython.core.display.HTML object>"
      ]
     },
     "metadata": {},
     "output_type": "display_data"
    },
    {
     "data": {
      "text/html": [
       "Successfully finished last run (ID:w77speon). Initializing new run:<br/>"
      ],
      "text/plain": [
       "<IPython.core.display.HTML object>"
      ]
     },
     "metadata": {},
     "output_type": "display_data"
    },
    {
     "data": {
      "application/vnd.jupyter.widget-view+json": {
       "model_id": "253327d815ff4d9ba1e01a89c40723e4",
       "version_major": 2,
       "version_minor": 0
      },
      "text/plain": [
       "VBox(children=(Label(value='Waiting for wandb.init()...\\r'), FloatProgress(value=0.016933333333334608, max=1.0…"
      ]
     },
     "metadata": {},
     "output_type": "display_data"
    },
    {
     "data": {
      "text/html": [
       "wandb version 0.13.10 is available!  To upgrade, please run:\n",
       " $ pip install wandb --upgrade"
      ],
      "text/plain": [
       "<IPython.core.display.HTML object>"
      ]
     },
     "metadata": {},
     "output_type": "display_data"
    },
    {
     "data": {
      "text/html": [
       "Tracking run with wandb version 0.13.9"
      ],
      "text/plain": [
       "<IPython.core.display.HTML object>"
      ]
     },
     "metadata": {},
     "output_type": "display_data"
    },
    {
     "data": {
      "text/html": [
       "Run data is saved locally in <code>i:\\tinyml\\tiny_cnn\\wandb\\run-20230301_210238-hv72fne6</code>"
      ],
      "text/plain": [
       "<IPython.core.display.HTML object>"
      ]
     },
     "metadata": {},
     "output_type": "display_data"
    },
    {
     "data": {
      "text/html": [
       "Resuming run <strong><a href=\"https://wandb.ai/susbrock/model_DB/runs/hv72fne6\" target=\"_blank\">mobilenetv1_0.35_96_c3_o2_l2</a></strong> to <a href=\"https://wandb.ai/susbrock/model_DB\" target=\"_blank\">Weights & Biases</a> (<a href=\"https://wandb.me/run\" target=\"_blank\">docs</a>)<br/>"
      ],
      "text/plain": [
       "<IPython.core.display.HTML object>"
      ]
     },
     "metadata": {},
     "output_type": "display_data"
    },
    {
     "data": {
      "text/html": [
       " View project at <a href=\"https://wandb.ai/susbrock/model_DB\" target=\"_blank\">https://wandb.ai/susbrock/model_DB</a>"
      ],
      "text/plain": [
       "<IPython.core.display.HTML object>"
      ]
     },
     "metadata": {},
     "output_type": "display_data"
    },
    {
     "data": {
      "text/html": [
       " View run at <a href=\"https://wandb.ai/susbrock/model_DB/runs/hv72fne6\" target=\"_blank\">https://wandb.ai/susbrock/model_DB/runs/hv72fne6</a>"
      ],
      "text/plain": [
       "<IPython.core.display.HTML object>"
      ]
     },
     "metadata": {},
     "output_type": "display_data"
    },
    {
     "name": "stdout",
     "output_type": "stream",
     "text": [
      "mobilenetv1_0.35_96_c3_o2_l2 has no run_id\n",
      "pnq7ad7c\n"
     ]
    },
    {
     "data": {
      "text/html": [
       "Finishing last run (ID:hv72fne6) before initializing another..."
      ],
      "text/plain": [
       "<IPython.core.display.HTML object>"
      ]
     },
     "metadata": {},
     "output_type": "display_data"
    },
    {
     "data": {
      "text/html": [
       "Waiting for W&B process to finish... <strong style=\"color:green\">(success).</strong>"
      ],
      "text/plain": [
       "<IPython.core.display.HTML object>"
      ]
     },
     "metadata": {},
     "output_type": "display_data"
    },
    {
     "data": {
      "application/vnd.jupyter.widget-view+json": {
       "model_id": "0b551aa1270a4825aa8d2fb2fa7fca8c",
       "version_major": 2,
       "version_minor": 0
      },
      "text/plain": [
       "VBox(children=(Label(value='0.000 MB of 0.008 MB uploaded (0.000 MB deduped)\\r'), FloatProgress(value=0.0, max…"
      ]
     },
     "metadata": {},
     "output_type": "display_data"
    },
    {
     "data": {
      "text/html": [
       "<style>\n",
       "    table.wandb td:nth-child(1) { padding: 0 10px; text-align: left ; width: auto;} td:nth-child(2) {text-align: left ; width: 100%}\n",
       "    .wandb-row { display: flex; flex-direction: row; flex-wrap: wrap; justify-content: flex-start; width: 100% }\n",
       "    .wandb-col { display: flex; flex-direction: column; flex-basis: 100%; flex: 1; padding: 10px; }\n",
       "    </style>\n",
       "<div class=\"wandb-row\"><div class=\"wandb-col\"><h3>Run summary:</h3><br/><table class=\"wandb\"><tr><td>allocate_tensors_ms_%</td><td>36.122</td></tr><tr><td>allocate_tensors_ms_avg</td><td>0.095</td></tr><tr><td>allocate_tensors_ms_first</td><td>0.095</td></tr><tr><td>first_inference_us</td><td>5898</td></tr><tr><td>inference_avg_us</td><td>2085</td></tr><tr><td>init_us</td><td>158806</td></tr><tr><td>initialization_ms</td><td>158.806</td></tr><tr><td>model_size_MB</td><td>0.38813</td></tr><tr><td>modify_graph_with_delegate_mem_KB</td><td>0</td></tr><tr><td>modify_graph_with_delegate_ms_%</td><td>63.878</td></tr><tr><td>modify_graph_with_delegate_ms_avg</td><td>0.168</td></tr><tr><td>modify_graph_with_delegate_ms_first</td><td>0.168</td></tr><tr><td>warmup_avg_us</td><td>2184.29</td></tr></table><br/></div></div>"
      ],
      "text/plain": [
       "<IPython.core.display.HTML object>"
      ]
     },
     "metadata": {},
     "output_type": "display_data"
    },
    {
     "data": {
      "text/html": [
       " View run <strong style=\"color:#cdcd00\">mobilenetv1_0.35_96_c3_o2_l2</strong> at: <a href=\"https://wandb.ai/susbrock/model_DB/runs/hv72fne6\" target=\"_blank\">https://wandb.ai/susbrock/model_DB/runs/hv72fne6</a><br/>Synced 3 W&B file(s), 0 media file(s), 0 artifact file(s) and 1 other file(s)"
      ],
      "text/plain": [
       "<IPython.core.display.HTML object>"
      ]
     },
     "metadata": {},
     "output_type": "display_data"
    },
    {
     "data": {
      "text/html": [
       "Find logs at: <code>.\\wandb\\run-20230301_210238-hv72fne6\\logs</code>"
      ],
      "text/plain": [
       "<IPython.core.display.HTML object>"
      ]
     },
     "metadata": {},
     "output_type": "display_data"
    },
    {
     "data": {
      "text/html": [
       "Successfully finished last run (ID:hv72fne6). Initializing new run:<br/>"
      ],
      "text/plain": [
       "<IPython.core.display.HTML object>"
      ]
     },
     "metadata": {},
     "output_type": "display_data"
    },
    {
     "data": {
      "application/vnd.jupyter.widget-view+json": {
       "model_id": "38d35b30ddb64ea7b68b7f5c7badd3bc",
       "version_major": 2,
       "version_minor": 0
      },
      "text/plain": [
       "VBox(children=(Label(value='Waiting for wandb.init()...\\r'), FloatProgress(value=0.016666666666666666, max=1.0…"
      ]
     },
     "metadata": {},
     "output_type": "display_data"
    },
    {
     "data": {
      "text/html": [
       "wandb version 0.13.10 is available!  To upgrade, please run:\n",
       " $ pip install wandb --upgrade"
      ],
      "text/plain": [
       "<IPython.core.display.HTML object>"
      ]
     },
     "metadata": {},
     "output_type": "display_data"
    },
    {
     "data": {
      "text/html": [
       "Tracking run with wandb version 0.13.9"
      ],
      "text/plain": [
       "<IPython.core.display.HTML object>"
      ]
     },
     "metadata": {},
     "output_type": "display_data"
    },
    {
     "data": {
      "text/html": [
       "Run data is saved locally in <code>i:\\tinyml\\tiny_cnn\\wandb\\run-20230301_210245-pnq7ad7c</code>"
      ],
      "text/plain": [
       "<IPython.core.display.HTML object>"
      ]
     },
     "metadata": {},
     "output_type": "display_data"
    },
    {
     "data": {
      "text/html": [
       "Resuming run <strong><a href=\"https://wandb.ai/susbrock/model_DB/runs/pnq7ad7c\" target=\"_blank\">mobilenetv1_0.35_96_c3_o2_l1</a></strong> to <a href=\"https://wandb.ai/susbrock/model_DB\" target=\"_blank\">Weights & Biases</a> (<a href=\"https://wandb.me/run\" target=\"_blank\">docs</a>)<br/>"
      ],
      "text/plain": [
       "<IPython.core.display.HTML object>"
      ]
     },
     "metadata": {},
     "output_type": "display_data"
    },
    {
     "data": {
      "text/html": [
       " View project at <a href=\"https://wandb.ai/susbrock/model_DB\" target=\"_blank\">https://wandb.ai/susbrock/model_DB</a>"
      ],
      "text/plain": [
       "<IPython.core.display.HTML object>"
      ]
     },
     "metadata": {},
     "output_type": "display_data"
    },
    {
     "data": {
      "text/html": [
       " View run at <a href=\"https://wandb.ai/susbrock/model_DB/runs/pnq7ad7c\" target=\"_blank\">https://wandb.ai/susbrock/model_DB/runs/pnq7ad7c</a>"
      ],
      "text/plain": [
       "<IPython.core.display.HTML object>"
      ]
     },
     "metadata": {},
     "output_type": "display_data"
    },
    {
     "name": "stdout",
     "output_type": "stream",
     "text": [
      "mobilenetv1_0.35_96_c3_o2_l1 has no run_id\n",
      "i4nnlhl8\n"
     ]
    },
    {
     "data": {
      "text/html": [
       "Finishing last run (ID:pnq7ad7c) before initializing another..."
      ],
      "text/plain": [
       "<IPython.core.display.HTML object>"
      ]
     },
     "metadata": {},
     "output_type": "display_data"
    },
    {
     "data": {
      "text/html": [
       "Waiting for W&B process to finish... <strong style=\"color:green\">(success).</strong>"
      ],
      "text/plain": [
       "<IPython.core.display.HTML object>"
      ]
     },
     "metadata": {},
     "output_type": "display_data"
    },
    {
     "data": {
      "application/vnd.jupyter.widget-view+json": {
       "model_id": "84f7275898e843dcb5f138958456ef26",
       "version_major": 2,
       "version_minor": 0
      },
      "text/plain": [
       "VBox(children=(Label(value='0.000 MB of 0.000 MB uploaded (0.000 MB deduped)\\r'), FloatProgress(value=1.0, max…"
      ]
     },
     "metadata": {},
     "output_type": "display_data"
    },
    {
     "data": {
      "text/html": [
       "<style>\n",
       "    table.wandb td:nth-child(1) { padding: 0 10px; text-align: left ; width: auto;} td:nth-child(2) {text-align: left ; width: 100%}\n",
       "    .wandb-row { display: flex; flex-direction: row; flex-wrap: wrap; justify-content: flex-start; width: 100% }\n",
       "    .wandb-col { display: flex; flex-direction: column; flex-basis: 100%; flex: 1; padding: 10px; }\n",
       "    </style>\n",
       "<div class=\"wandb-row\"><div class=\"wandb-col\"><h3>Run summary:</h3><br/><table class=\"wandb\"><tr><td>allocate_tensors_ms_%</td><td>35.455</td></tr><tr><td>allocate_tensors_ms_avg</td><td>0.078</td></tr><tr><td>allocate_tensors_ms_first</td><td>0.078</td></tr><tr><td>first_inference_us</td><td>5883</td></tr><tr><td>inference_avg_us</td><td>1713.11</td></tr><tr><td>init_us</td><td>156903</td></tr><tr><td>initialization_ms</td><td>156.903</td></tr><tr><td>model_size_MB</td><td>0.34419</td></tr><tr><td>modify_graph_with_delegate_mem_KB</td><td>0</td></tr><tr><td>modify_graph_with_delegate_ms_%</td><td>64.545</td></tr><tr><td>modify_graph_with_delegate_ms_avg</td><td>0.142</td></tr><tr><td>modify_graph_with_delegate_ms_first</td><td>0.142</td></tr><tr><td>warmup_avg_us</td><td>1830.99</td></tr></table><br/></div></div>"
      ],
      "text/plain": [
       "<IPython.core.display.HTML object>"
      ]
     },
     "metadata": {},
     "output_type": "display_data"
    },
    {
     "data": {
      "text/html": [
       " View run <strong style=\"color:#cdcd00\">mobilenetv1_0.35_96_c3_o2_l1</strong> at: <a href=\"https://wandb.ai/susbrock/model_DB/runs/pnq7ad7c\" target=\"_blank\">https://wandb.ai/susbrock/model_DB/runs/pnq7ad7c</a><br/>Synced 3 W&B file(s), 0 media file(s), 0 artifact file(s) and 0 other file(s)"
      ],
      "text/plain": [
       "<IPython.core.display.HTML object>"
      ]
     },
     "metadata": {},
     "output_type": "display_data"
    },
    {
     "data": {
      "text/html": [
       "Find logs at: <code>.\\wandb\\run-20230301_210245-pnq7ad7c\\logs</code>"
      ],
      "text/plain": [
       "<IPython.core.display.HTML object>"
      ]
     },
     "metadata": {},
     "output_type": "display_data"
    },
    {
     "data": {
      "text/html": [
       "Successfully finished last run (ID:pnq7ad7c). Initializing new run:<br/>"
      ],
      "text/plain": [
       "<IPython.core.display.HTML object>"
      ]
     },
     "metadata": {},
     "output_type": "display_data"
    },
    {
     "data": {
      "application/vnd.jupyter.widget-view+json": {
       "model_id": "1698472b3ce24de482df8395cd178031",
       "version_major": 2,
       "version_minor": 0
      },
      "text/plain": [
       "VBox(children=(Label(value='Waiting for wandb.init()...\\r'), FloatProgress(value=0.016916666666664543, max=1.0…"
      ]
     },
     "metadata": {},
     "output_type": "display_data"
    },
    {
     "data": {
      "text/html": [
       "wandb version 0.13.10 is available!  To upgrade, please run:\n",
       " $ pip install wandb --upgrade"
      ],
      "text/plain": [
       "<IPython.core.display.HTML object>"
      ]
     },
     "metadata": {},
     "output_type": "display_data"
    },
    {
     "data": {
      "text/html": [
       "Tracking run with wandb version 0.13.9"
      ],
      "text/plain": [
       "<IPython.core.display.HTML object>"
      ]
     },
     "metadata": {},
     "output_type": "display_data"
    },
    {
     "data": {
      "text/html": [
       "Run data is saved locally in <code>i:\\tinyml\\tiny_cnn\\wandb\\run-20230301_210254-i4nnlhl8</code>"
      ],
      "text/plain": [
       "<IPython.core.display.HTML object>"
      ]
     },
     "metadata": {},
     "output_type": "display_data"
    },
    {
     "data": {
      "text/html": [
       "Resuming run <strong><a href=\"https://wandb.ai/susbrock/model_DB/runs/i4nnlhl8\" target=\"_blank\">mobilenetv1_0.25_96_c3_o2_l5</a></strong> to <a href=\"https://wandb.ai/susbrock/model_DB\" target=\"_blank\">Weights & Biases</a> (<a href=\"https://wandb.me/run\" target=\"_blank\">docs</a>)<br/>"
      ],
      "text/plain": [
       "<IPython.core.display.HTML object>"
      ]
     },
     "metadata": {},
     "output_type": "display_data"
    },
    {
     "data": {
      "text/html": [
       " View project at <a href=\"https://wandb.ai/susbrock/model_DB\" target=\"_blank\">https://wandb.ai/susbrock/model_DB</a>"
      ],
      "text/plain": [
       "<IPython.core.display.HTML object>"
      ]
     },
     "metadata": {},
     "output_type": "display_data"
    },
    {
     "data": {
      "text/html": [
       " View run at <a href=\"https://wandb.ai/susbrock/model_DB/runs/i4nnlhl8\" target=\"_blank\">https://wandb.ai/susbrock/model_DB/runs/i4nnlhl8</a>"
      ],
      "text/plain": [
       "<IPython.core.display.HTML object>"
      ]
     },
     "metadata": {},
     "output_type": "display_data"
    },
    {
     "name": "stdout",
     "output_type": "stream",
     "text": [
      "mobilenetv1_0.25_96_c3_o2_l5 has no run_id\n",
      "ylfo6y2p\n"
     ]
    },
    {
     "data": {
      "text/html": [
       "Finishing last run (ID:i4nnlhl8) before initializing another..."
      ],
      "text/plain": [
       "<IPython.core.display.HTML object>"
      ]
     },
     "metadata": {},
     "output_type": "display_data"
    },
    {
     "data": {
      "text/html": [
       "Waiting for W&B process to finish... <strong style=\"color:green\">(success).</strong>"
      ],
      "text/plain": [
       "<IPython.core.display.HTML object>"
      ]
     },
     "metadata": {},
     "output_type": "display_data"
    },
    {
     "data": {
      "text/html": [
       "<style>\n",
       "    table.wandb td:nth-child(1) { padding: 0 10px; text-align: left ; width: auto;} td:nth-child(2) {text-align: left ; width: 100%}\n",
       "    .wandb-row { display: flex; flex-direction: row; flex-wrap: wrap; justify-content: flex-start; width: 100% }\n",
       "    .wandb-col { display: flex; flex-direction: column; flex-basis: 100%; flex: 1; padding: 10px; }\n",
       "    </style>\n",
       "<div class=\"wandb-row\"><div class=\"wandb-col\"><h3>Run summary:</h3><br/><table class=\"wandb\"><tr><td>allocate_tensors_ms_%</td><td>37.234</td></tr><tr><td>allocate_tensors_ms_avg</td><td>0.105</td></tr><tr><td>allocate_tensors_ms_first</td><td>0.105</td></tr><tr><td>first_inference_us</td><td>6026</td></tr><tr><td>inference_avg_us</td><td>1549.33</td></tr><tr><td>init_us</td><td>173317</td></tr><tr><td>initialization_ms</td><td>173.317</td></tr><tr><td>model_size_MB</td><td>0.30123</td></tr><tr><td>modify_graph_with_delegate_mem_KB</td><td>0</td></tr><tr><td>modify_graph_with_delegate_ms_%</td><td>62.766</td></tr><tr><td>modify_graph_with_delegate_ms_avg</td><td>0.177</td></tr><tr><td>modify_graph_with_delegate_ms_first</td><td>0.177</td></tr><tr><td>warmup_avg_us</td><td>1463.47</td></tr></table><br/></div></div>"
      ],
      "text/plain": [
       "<IPython.core.display.HTML object>"
      ]
     },
     "metadata": {},
     "output_type": "display_data"
    },
    {
     "data": {
      "text/html": [
       " View run <strong style=\"color:#cdcd00\">mobilenetv1_0.25_96_c3_o2_l5</strong> at: <a href=\"https://wandb.ai/susbrock/model_DB/runs/i4nnlhl8\" target=\"_blank\">https://wandb.ai/susbrock/model_DB/runs/i4nnlhl8</a><br/>Synced 3 W&B file(s), 0 media file(s), 0 artifact file(s) and 1 other file(s)"
      ],
      "text/plain": [
       "<IPython.core.display.HTML object>"
      ]
     },
     "metadata": {},
     "output_type": "display_data"
    },
    {
     "data": {
      "text/html": [
       "Find logs at: <code>.\\wandb\\run-20230301_210254-i4nnlhl8\\logs</code>"
      ],
      "text/plain": [
       "<IPython.core.display.HTML object>"
      ]
     },
     "metadata": {},
     "output_type": "display_data"
    },
    {
     "data": {
      "text/html": [
       "Successfully finished last run (ID:i4nnlhl8). Initializing new run:<br/>"
      ],
      "text/plain": [
       "<IPython.core.display.HTML object>"
      ]
     },
     "metadata": {},
     "output_type": "display_data"
    },
    {
     "data": {
      "application/vnd.jupyter.widget-view+json": {
       "model_id": "6f3a6c2433634175b7e0bd70a25a8eba",
       "version_major": 2,
       "version_minor": 0
      },
      "text/plain": [
       "VBox(children=(Label(value='Waiting for wandb.init()...\\r'), FloatProgress(value=0.016933333333334608, max=1.0…"
      ]
     },
     "metadata": {},
     "output_type": "display_data"
    },
    {
     "data": {
      "text/html": [
       "wandb version 0.13.10 is available!  To upgrade, please run:\n",
       " $ pip install wandb --upgrade"
      ],
      "text/plain": [
       "<IPython.core.display.HTML object>"
      ]
     },
     "metadata": {},
     "output_type": "display_data"
    },
    {
     "data": {
      "text/html": [
       "Tracking run with wandb version 0.13.9"
      ],
      "text/plain": [
       "<IPython.core.display.HTML object>"
      ]
     },
     "metadata": {},
     "output_type": "display_data"
    },
    {
     "data": {
      "text/html": [
       "Run data is saved locally in <code>i:\\tinyml\\tiny_cnn\\wandb\\run-20230301_210304-ylfo6y2p</code>"
      ],
      "text/plain": [
       "<IPython.core.display.HTML object>"
      ]
     },
     "metadata": {},
     "output_type": "display_data"
    },
    {
     "data": {
      "text/html": [
       "Resuming run <strong><a href=\"https://wandb.ai/susbrock/model_DB/runs/ylfo6y2p\" target=\"_blank\">mobilenetv1_0.25_96_c3_o2_l4</a></strong> to <a href=\"https://wandb.ai/susbrock/model_DB\" target=\"_blank\">Weights & Biases</a> (<a href=\"https://wandb.me/run\" target=\"_blank\">docs</a>)<br/>"
      ],
      "text/plain": [
       "<IPython.core.display.HTML object>"
      ]
     },
     "metadata": {},
     "output_type": "display_data"
    },
    {
     "data": {
      "text/html": [
       " View project at <a href=\"https://wandb.ai/susbrock/model_DB\" target=\"_blank\">https://wandb.ai/susbrock/model_DB</a>"
      ],
      "text/plain": [
       "<IPython.core.display.HTML object>"
      ]
     },
     "metadata": {},
     "output_type": "display_data"
    },
    {
     "data": {
      "text/html": [
       " View run at <a href=\"https://wandb.ai/susbrock/model_DB/runs/ylfo6y2p\" target=\"_blank\">https://wandb.ai/susbrock/model_DB/runs/ylfo6y2p</a>"
      ],
      "text/plain": [
       "<IPython.core.display.HTML object>"
      ]
     },
     "metadata": {},
     "output_type": "display_data"
    },
    {
     "name": "stdout",
     "output_type": "stream",
     "text": [
      "mobilenetv1_0.25_96_c3_o2_l4 has no run_id\n",
      "b8s1tewx\n"
     ]
    },
    {
     "data": {
      "text/html": [
       "Finishing last run (ID:ylfo6y2p) before initializing another..."
      ],
      "text/plain": [
       "<IPython.core.display.HTML object>"
      ]
     },
     "metadata": {},
     "output_type": "display_data"
    },
    {
     "data": {
      "text/html": [
       "Waiting for W&B process to finish... <strong style=\"color:green\">(success).</strong>"
      ],
      "text/plain": [
       "<IPython.core.display.HTML object>"
      ]
     },
     "metadata": {},
     "output_type": "display_data"
    },
    {
     "data": {
      "application/vnd.jupyter.widget-view+json": {
       "model_id": "ef83f24047d84a2cba686887efda16fa",
       "version_major": 2,
       "version_minor": 0
      },
      "text/plain": [
       "VBox(children=(Label(value='0.000 MB of 0.002 MB uploaded (0.000 MB deduped)\\r'), FloatProgress(value=0.0, max…"
      ]
     },
     "metadata": {},
     "output_type": "display_data"
    },
    {
     "data": {
      "text/html": [
       "<style>\n",
       "    table.wandb td:nth-child(1) { padding: 0 10px; text-align: left ; width: auto;} td:nth-child(2) {text-align: left ; width: 100%}\n",
       "    .wandb-row { display: flex; flex-direction: row; flex-wrap: wrap; justify-content: flex-start; width: 100% }\n",
       "    .wandb-col { display: flex; flex-direction: column; flex-basis: 100%; flex: 1; padding: 10px; }\n",
       "    </style>\n",
       "<div class=\"wandb-row\"><div class=\"wandb-col\"><h3>Run summary:</h3><br/><table class=\"wandb\"><tr><td>allocate_tensors_ms_%</td><td>36.019</td></tr><tr><td>allocate_tensors_ms_avg</td><td>0.076</td></tr><tr><td>allocate_tensors_ms_first</td><td>0.076</td></tr><tr><td>first_inference_us</td><td>3741</td></tr><tr><td>inference_avg_us</td><td>1594.5</td></tr><tr><td>init_us</td><td>122997</td></tr><tr><td>initialization_ms</td><td>122.997</td></tr><tr><td>model_size_MB</td><td>0.27585</td></tr><tr><td>modify_graph_with_delegate_mem_KB</td><td>0</td></tr><tr><td>modify_graph_with_delegate_ms_%</td><td>63.981</td></tr><tr><td>modify_graph_with_delegate_ms_avg</td><td>0.135</td></tr><tr><td>modify_graph_with_delegate_ms_first</td><td>0.135</td></tr><tr><td>warmup_avg_us</td><td>1068.34</td></tr></table><br/></div></div>"
      ],
      "text/plain": [
       "<IPython.core.display.HTML object>"
      ]
     },
     "metadata": {},
     "output_type": "display_data"
    },
    {
     "data": {
      "text/html": [
       " View run <strong style=\"color:#cdcd00\">mobilenetv1_0.25_96_c3_o2_l4</strong> at: <a href=\"https://wandb.ai/susbrock/model_DB/runs/ylfo6y2p\" target=\"_blank\">https://wandb.ai/susbrock/model_DB/runs/ylfo6y2p</a><br/>Synced 3 W&B file(s), 0 media file(s), 0 artifact file(s) and 0 other file(s)"
      ],
      "text/plain": [
       "<IPython.core.display.HTML object>"
      ]
     },
     "metadata": {},
     "output_type": "display_data"
    },
    {
     "data": {
      "text/html": [
       "Find logs at: <code>.\\wandb\\run-20230301_210304-ylfo6y2p\\logs</code>"
      ],
      "text/plain": [
       "<IPython.core.display.HTML object>"
      ]
     },
     "metadata": {},
     "output_type": "display_data"
    },
    {
     "data": {
      "text/html": [
       "Successfully finished last run (ID:ylfo6y2p). Initializing new run:<br/>"
      ],
      "text/plain": [
       "<IPython.core.display.HTML object>"
      ]
     },
     "metadata": {},
     "output_type": "display_data"
    },
    {
     "data": {
      "application/vnd.jupyter.widget-view+json": {
       "model_id": "b71ffac2bce84e848212f4e90798e207",
       "version_major": 2,
       "version_minor": 0
      },
      "text/plain": [
       "VBox(children=(Label(value='Waiting for wandb.init()...\\r'), FloatProgress(value=0.016666666666666666, max=1.0…"
      ]
     },
     "metadata": {},
     "output_type": "display_data"
    },
    {
     "data": {
      "text/html": [
       "wandb version 0.13.10 is available!  To upgrade, please run:\n",
       " $ pip install wandb --upgrade"
      ],
      "text/plain": [
       "<IPython.core.display.HTML object>"
      ]
     },
     "metadata": {},
     "output_type": "display_data"
    },
    {
     "data": {
      "text/html": [
       "Tracking run with wandb version 0.13.9"
      ],
      "text/plain": [
       "<IPython.core.display.HTML object>"
      ]
     },
     "metadata": {},
     "output_type": "display_data"
    },
    {
     "data": {
      "text/html": [
       "Run data is saved locally in <code>i:\\tinyml\\tiny_cnn\\wandb\\run-20230301_210313-b8s1tewx</code>"
      ],
      "text/plain": [
       "<IPython.core.display.HTML object>"
      ]
     },
     "metadata": {},
     "output_type": "display_data"
    },
    {
     "data": {
      "text/html": [
       "Resuming run <strong><a href=\"https://wandb.ai/susbrock/model_DB/runs/b8s1tewx\" target=\"_blank\">mobilenetv1_0.25_96_c3_o2_l2</a></strong> to <a href=\"https://wandb.ai/susbrock/model_DB\" target=\"_blank\">Weights & Biases</a> (<a href=\"https://wandb.me/run\" target=\"_blank\">docs</a>)<br/>"
      ],
      "text/plain": [
       "<IPython.core.display.HTML object>"
      ]
     },
     "metadata": {},
     "output_type": "display_data"
    },
    {
     "data": {
      "text/html": [
       " View project at <a href=\"https://wandb.ai/susbrock/model_DB\" target=\"_blank\">https://wandb.ai/susbrock/model_DB</a>"
      ],
      "text/plain": [
       "<IPython.core.display.HTML object>"
      ]
     },
     "metadata": {},
     "output_type": "display_data"
    },
    {
     "data": {
      "text/html": [
       " View run at <a href=\"https://wandb.ai/susbrock/model_DB/runs/b8s1tewx\" target=\"_blank\">https://wandb.ai/susbrock/model_DB/runs/b8s1tewx</a>"
      ],
      "text/plain": [
       "<IPython.core.display.HTML object>"
      ]
     },
     "metadata": {},
     "output_type": "display_data"
    },
    {
     "name": "stdout",
     "output_type": "stream",
     "text": [
      "mobilenetv1_0.25_96_c3_o2_l2 has no run_id\n",
      "ftt6trut\n"
     ]
    },
    {
     "data": {
      "text/html": [
       "Finishing last run (ID:b8s1tewx) before initializing another..."
      ],
      "text/plain": [
       "<IPython.core.display.HTML object>"
      ]
     },
     "metadata": {},
     "output_type": "display_data"
    },
    {
     "data": {
      "text/html": [
       "Waiting for W&B process to finish... <strong style=\"color:green\">(success).</strong>"
      ],
      "text/plain": [
       "<IPython.core.display.HTML object>"
      ]
     },
     "metadata": {},
     "output_type": "display_data"
    },
    {
     "data": {
      "application/vnd.jupyter.widget-view+json": {
       "model_id": "1a79acb835a746c29f7ca63309e2e60f",
       "version_major": 2,
       "version_minor": 0
      },
      "text/plain": [
       "VBox(children=(Label(value='0.000 MB of 0.139 MB uploaded (0.000 MB deduped)\\r'), FloatProgress(value=0.0, max…"
      ]
     },
     "metadata": {},
     "output_type": "display_data"
    },
    {
     "data": {
      "text/html": [
       "<style>\n",
       "    table.wandb td:nth-child(1) { padding: 0 10px; text-align: left ; width: auto;} td:nth-child(2) {text-align: left ; width: 100%}\n",
       "    .wandb-row { display: flex; flex-direction: row; flex-wrap: wrap; justify-content: flex-start; width: 100% }\n",
       "    .wandb-col { display: flex; flex-direction: column; flex-basis: 100%; flex: 1; padding: 10px; }\n",
       "    </style>\n",
       "<div class=\"wandb-row\"><div class=\"wandb-col\"><h3>Run summary:</h3><br/><table class=\"wandb\"><tr><td>allocate_tensors_ms_%</td><td>36.53</td></tr><tr><td>allocate_tensors_ms_avg</td><td>0.08</td></tr><tr><td>allocate_tensors_ms_first</td><td>0.08</td></tr><tr><td>first_inference_us</td><td>6766</td></tr><tr><td>inference_avg_us</td><td>1064.44</td></tr><tr><td>init_us</td><td>134563</td></tr><tr><td>initialization_ms</td><td>134.563</td></tr><tr><td>model_size_MB</td><td>0.22511</td></tr><tr><td>modify_graph_with_delegate_mem_KB</td><td>0</td></tr><tr><td>modify_graph_with_delegate_ms_%</td><td>63.47</td></tr><tr><td>modify_graph_with_delegate_ms_avg</td><td>0.139</td></tr><tr><td>modify_graph_with_delegate_ms_first</td><td>0.139</td></tr><tr><td>warmup_avg_us</td><td>1101.57</td></tr></table><br/></div></div>"
      ],
      "text/plain": [
       "<IPython.core.display.HTML object>"
      ]
     },
     "metadata": {},
     "output_type": "display_data"
    },
    {
     "data": {
      "text/html": [
       " View run <strong style=\"color:#cdcd00\">mobilenetv1_0.25_96_c3_o2_l2</strong> at: <a href=\"https://wandb.ai/susbrock/model_DB/runs/b8s1tewx\" target=\"_blank\">https://wandb.ai/susbrock/model_DB/runs/b8s1tewx</a><br/>Synced 3 W&B file(s), 0 media file(s), 0 artifact file(s) and 1 other file(s)"
      ],
      "text/plain": [
       "<IPython.core.display.HTML object>"
      ]
     },
     "metadata": {},
     "output_type": "display_data"
    },
    {
     "data": {
      "text/html": [
       "Find logs at: <code>.\\wandb\\run-20230301_210313-b8s1tewx\\logs</code>"
      ],
      "text/plain": [
       "<IPython.core.display.HTML object>"
      ]
     },
     "metadata": {},
     "output_type": "display_data"
    },
    {
     "data": {
      "text/html": [
       "Successfully finished last run (ID:b8s1tewx). Initializing new run:<br/>"
      ],
      "text/plain": [
       "<IPython.core.display.HTML object>"
      ]
     },
     "metadata": {},
     "output_type": "display_data"
    },
    {
     "data": {
      "application/vnd.jupyter.widget-view+json": {
       "model_id": "a3eb1f835b05436d91368ad081fefdd1",
       "version_major": 2,
       "version_minor": 0
      },
      "text/plain": [
       "VBox(children=(Label(value='Waiting for wandb.init()...\\r'), FloatProgress(value=0.016666666666666666, max=1.0…"
      ]
     },
     "metadata": {},
     "output_type": "display_data"
    },
    {
     "data": {
      "text/html": [
       "wandb version 0.13.10 is available!  To upgrade, please run:\n",
       " $ pip install wandb --upgrade"
      ],
      "text/plain": [
       "<IPython.core.display.HTML object>"
      ]
     },
     "metadata": {},
     "output_type": "display_data"
    },
    {
     "data": {
      "text/html": [
       "Tracking run with wandb version 0.13.9"
      ],
      "text/plain": [
       "<IPython.core.display.HTML object>"
      ]
     },
     "metadata": {},
     "output_type": "display_data"
    },
    {
     "data": {
      "text/html": [
       "Run data is saved locally in <code>i:\\tinyml\\tiny_cnn\\wandb\\run-20230301_210321-ftt6trut</code>"
      ],
      "text/plain": [
       "<IPython.core.display.HTML object>"
      ]
     },
     "metadata": {},
     "output_type": "display_data"
    },
    {
     "data": {
      "text/html": [
       "Resuming run <strong><a href=\"https://wandb.ai/susbrock/model_DB/runs/ftt6trut\" target=\"_blank\">mobilenetv1_0.25_96_c3_o2_l1</a></strong> to <a href=\"https://wandb.ai/susbrock/model_DB\" target=\"_blank\">Weights & Biases</a> (<a href=\"https://wandb.me/run\" target=\"_blank\">docs</a>)<br/>"
      ],
      "text/plain": [
       "<IPython.core.display.HTML object>"
      ]
     },
     "metadata": {},
     "output_type": "display_data"
    },
    {
     "data": {
      "text/html": [
       " View project at <a href=\"https://wandb.ai/susbrock/model_DB\" target=\"_blank\">https://wandb.ai/susbrock/model_DB</a>"
      ],
      "text/plain": [
       "<IPython.core.display.HTML object>"
      ]
     },
     "metadata": {},
     "output_type": "display_data"
    },
    {
     "data": {
      "text/html": [
       " View run at <a href=\"https://wandb.ai/susbrock/model_DB/runs/ftt6trut\" target=\"_blank\">https://wandb.ai/susbrock/model_DB/runs/ftt6trut</a>"
      ],
      "text/plain": [
       "<IPython.core.display.HTML object>"
      ]
     },
     "metadata": {},
     "output_type": "display_data"
    },
    {
     "name": "stdout",
     "output_type": "stream",
     "text": [
      "mobilenetv1_0.25_96_c3_o2_l1 has no run_id\n"
     ]
    }
   ],
   "source": [
    "for architecture in architectures:\n",
    "    test_accuracy = training_df.query(f\"architecture=='{architecture}'\")[\"test_accuracy\"]#.values[0]\n",
    "    #test_loss = training_df.query(f\"architecture=='{architecture}'\")[\"test_loss\"]#.values[0]\n",
    "\n",
    "    try:\n",
    "        #run_id = df.query(f\"Name=='{architecture}'\")[\"id\"]#.values[0]\n",
    "        run_id = get_model_DB_run_id_from_architecture(architecture) # too slow, because of multiple API calls\n",
    "        print(run_id)\n",
    "\n",
    " \n",
    "\n",
    "        run = wandb.init(\n",
    "        # Set the project where this run will be logged\n",
    "        project=\"model_DB\", \n",
    "        id = run_id, \n",
    "        resume=\"allow\",\n",
    "        )\n",
    "\n",
    "        run.log({\"test_accuracy\" : test_accuracy,\n",
    "                 \"test_loss\" : test_loss})\n",
    "\n",
    "        wandb.finish()\n",
    "\n",
    "    except:\n",
    "        print(f\"{architecture} has no run_id\")"
   ]
  },
  {
   "cell_type": "code",
   "execution_count": 61,
   "metadata": {},
   "outputs": [
    {
     "ename": "TypeError",
     "evalue": "'<' not supported between instances of 'str' and 'float'",
     "output_type": "error",
     "traceback": [
      "\u001b[1;31m---------------------------------------------------------------------------\u001b[0m",
      "\u001b[1;31mTypeError\u001b[0m                                 Traceback (most recent call last)",
      "Cell \u001b[1;32mIn [61], line 1\u001b[0m\n\u001b[1;32m----> 1\u001b[0m untrained_models \u001b[39m=\u001b[39m get_untrained_models()\n\u001b[0;32m      2\u001b[0m untrained_models\n",
      "Cell \u001b[1;32mIn [60], line 3\u001b[0m, in \u001b[0;36mget_untrained_models\u001b[1;34m()\u001b[0m\n\u001b[0;32m      1\u001b[0m \u001b[39mdef\u001b[39;00m \u001b[39mget_untrained_models\u001b[39m():\n\u001b[0;32m      2\u001b[0m     df \u001b[39m=\u001b[39m wandb_model_DB()\n\u001b[1;32m----> 3\u001b[0m     wandb_untrained_df \u001b[39m=\u001b[39m df[df[\u001b[39m\"\u001b[39;49m\u001b[39mtest_accuracy\u001b[39;49m\u001b[39m\"\u001b[39;49m]\u001b[39m<\u001b[39;49m\u001b[39m0.5\u001b[39;49m]\n\u001b[0;32m      4\u001b[0m     architectures \u001b[39m=\u001b[39m wandb_untrained_df[\u001b[39m\"\u001b[39m\u001b[39marchitecture\u001b[39m\u001b[39m\"\u001b[39m]\u001b[39m.\u001b[39munique()\u001b[39m.\u001b[39mtolist()\n\u001b[0;32m      5\u001b[0m     \u001b[39mreturn\u001b[39;00m architectures\n",
      "File \u001b[1;32md:\\Miniconda\\envs\\tiny_cnn_6\\lib\\site-packages\\pandas\\core\\ops\\common.py:72\u001b[0m, in \u001b[0;36m_unpack_zerodim_and_defer.<locals>.new_method\u001b[1;34m(self, other)\u001b[0m\n\u001b[0;32m     68\u001b[0m             \u001b[39mreturn\u001b[39;00m \u001b[39mNotImplemented\u001b[39m\n\u001b[0;32m     70\u001b[0m other \u001b[39m=\u001b[39m item_from_zerodim(other)\n\u001b[1;32m---> 72\u001b[0m \u001b[39mreturn\u001b[39;00m method(\u001b[39mself\u001b[39;49m, other)\n",
      "File \u001b[1;32md:\\Miniconda\\envs\\tiny_cnn_6\\lib\\site-packages\\pandas\\core\\arraylike.py:50\u001b[0m, in \u001b[0;36mOpsMixin.__lt__\u001b[1;34m(self, other)\u001b[0m\n\u001b[0;32m     48\u001b[0m \u001b[39m@unpack_zerodim_and_defer\u001b[39m(\u001b[39m\"\u001b[39m\u001b[39m__lt__\u001b[39m\u001b[39m\"\u001b[39m)\n\u001b[0;32m     49\u001b[0m \u001b[39mdef\u001b[39;00m \u001b[39m__lt__\u001b[39m(\u001b[39mself\u001b[39m, other):\n\u001b[1;32m---> 50\u001b[0m     \u001b[39mreturn\u001b[39;00m \u001b[39mself\u001b[39;49m\u001b[39m.\u001b[39;49m_cmp_method(other, operator\u001b[39m.\u001b[39;49mlt)\n",
      "File \u001b[1;32md:\\Miniconda\\envs\\tiny_cnn_6\\lib\\site-packages\\pandas\\core\\series.py:6243\u001b[0m, in \u001b[0;36mSeries._cmp_method\u001b[1;34m(self, other, op)\u001b[0m\n\u001b[0;32m   6240\u001b[0m rvalues \u001b[39m=\u001b[39m extract_array(other, extract_numpy\u001b[39m=\u001b[39m\u001b[39mTrue\u001b[39;00m, extract_range\u001b[39m=\u001b[39m\u001b[39mTrue\u001b[39;00m)\n\u001b[0;32m   6242\u001b[0m \u001b[39mwith\u001b[39;00m np\u001b[39m.\u001b[39merrstate(\u001b[39mall\u001b[39m\u001b[39m=\u001b[39m\u001b[39m\"\u001b[39m\u001b[39mignore\u001b[39m\u001b[39m\"\u001b[39m):\n\u001b[1;32m-> 6243\u001b[0m     res_values \u001b[39m=\u001b[39m ops\u001b[39m.\u001b[39;49mcomparison_op(lvalues, rvalues, op)\n\u001b[0;32m   6245\u001b[0m \u001b[39mreturn\u001b[39;00m \u001b[39mself\u001b[39m\u001b[39m.\u001b[39m_construct_result(res_values, name\u001b[39m=\u001b[39mres_name)\n",
      "File \u001b[1;32md:\\Miniconda\\envs\\tiny_cnn_6\\lib\\site-packages\\pandas\\core\\ops\\array_ops.py:287\u001b[0m, in \u001b[0;36mcomparison_op\u001b[1;34m(left, right, op)\u001b[0m\n\u001b[0;32m    284\u001b[0m     \u001b[39mreturn\u001b[39;00m invalid_comparison(lvalues, rvalues, op)\n\u001b[0;32m    286\u001b[0m \u001b[39melif\u001b[39;00m is_object_dtype(lvalues\u001b[39m.\u001b[39mdtype) \u001b[39mor\u001b[39;00m \u001b[39misinstance\u001b[39m(rvalues, \u001b[39mstr\u001b[39m):\n\u001b[1;32m--> 287\u001b[0m     res_values \u001b[39m=\u001b[39m comp_method_OBJECT_ARRAY(op, lvalues, rvalues)\n\u001b[0;32m    289\u001b[0m \u001b[39melse\u001b[39;00m:\n\u001b[0;32m    290\u001b[0m     res_values \u001b[39m=\u001b[39m _na_arithmetic_op(lvalues, rvalues, op, is_cmp\u001b[39m=\u001b[39m\u001b[39mTrue\u001b[39;00m)\n",
      "File \u001b[1;32md:\\Miniconda\\envs\\tiny_cnn_6\\lib\\site-packages\\pandas\\core\\ops\\array_ops.py:75\u001b[0m, in \u001b[0;36mcomp_method_OBJECT_ARRAY\u001b[1;34m(op, x, y)\u001b[0m\n\u001b[0;32m     73\u001b[0m     result \u001b[39m=\u001b[39m libops\u001b[39m.\u001b[39mvec_compare(x\u001b[39m.\u001b[39mravel(), y\u001b[39m.\u001b[39mravel(), op)\n\u001b[0;32m     74\u001b[0m \u001b[39melse\u001b[39;00m:\n\u001b[1;32m---> 75\u001b[0m     result \u001b[39m=\u001b[39m libops\u001b[39m.\u001b[39;49mscalar_compare(x\u001b[39m.\u001b[39;49mravel(), y, op)\n\u001b[0;32m     76\u001b[0m \u001b[39mreturn\u001b[39;00m result\u001b[39m.\u001b[39mreshape(x\u001b[39m.\u001b[39mshape)\n",
      "File \u001b[1;32md:\\Miniconda\\envs\\tiny_cnn_6\\lib\\site-packages\\pandas\\_libs\\ops.pyx:107\u001b[0m, in \u001b[0;36mpandas._libs.ops.scalar_compare\u001b[1;34m()\u001b[0m\n",
      "\u001b[1;31mTypeError\u001b[0m: '<' not supported between instances of 'str' and 'float'"
     ]
    }
   ],
   "source": [
    "untrained_models = get_untrained_models()\n",
    "untrained_models"
   ]
  },
  {
   "cell_type": "code",
   "execution_count": 58,
   "metadata": {},
   "outputs": [],
   "source": [
    "def wandb_model_vww_training_DB():\n",
    "    api = wandb.Api()\n",
    "    runs = api.runs(\"susbrock/model_DB_visual_wake_words\")\n",
    "\n",
    "    config_df = pd.DataFrame()\n",
    "    name = []\n",
    "    tags =[]\n",
    "    state = []\n",
    "    url = []\n",
    "    created_at = []\n",
    "    path = []\n",
    "    notes = []\n",
    "    test_accuracies = []\n",
    "\n",
    "    for run in runs:\n",
    "        #print(run)\n",
    "        name.append(run.name)\n",
    "        tags.append(run.tags)\n",
    "        state.append(run.state)\n",
    "        url.append(run.url)\n",
    "        created_at.append(run.created_at)\n",
    "        path.append(run.path)\n",
    "        notes.append(run.notes)\n",
    "        test_accuracies.append(run.summary.get(\"test_accuracy\"))\n",
    "\n",
    "        df = pd.DataFrame([run.config], columns=run.config.keys())\n",
    "\n",
    "\n",
    "        config_df = pd.concat([config_df, df], axis=0, ignore_index=True)\n",
    "    col_names = [\"run_name\", \"tags\", \"state\", \"url\", \"created_at\", \"path\", \"notes\", \"test_accuracy\"]\n",
    "    attrs_df = pd.DataFrame(zip(name, tags, state, url,created_at, path, notes, test_accuracies), columns=col_names)\n",
    "\n",
    "    combined_df =  pd.concat([config_df, attrs_df], axis=1)\n",
    "\n",
    "    combined_df.insert(1,\"run_name\" , combined_df.pop(\"run_name\"))\n",
    "    combined_df.insert(3,\"architecture\" , combined_df.pop(\"architecture\"))   \n",
    "    combined_df.insert(2,\"state\" , combined_df.pop(\"state\")) \n",
    "    combined_df.insert(4,\"url\" , combined_df.pop(\"url\")) \n",
    "    \n",
    "    return combined_df"
   ]
  },
  {
   "cell_type": "code",
   "execution_count": 59,
   "metadata": {},
   "outputs": [
    {
     "data": {
      "text/html": [
       "<div>\n",
       "<style scoped>\n",
       "    .dataframe tbody tr th:only-of-type {\n",
       "        vertical-align: middle;\n",
       "    }\n",
       "\n",
       "    .dataframe tbody tr th {\n",
       "        vertical-align: top;\n",
       "    }\n",
       "\n",
       "    .dataframe thead th {\n",
       "        text-align: right;\n",
       "    }\n",
       "</style>\n",
       "<table border=\"1\" class=\"dataframe\">\n",
       "  <thead>\n",
       "    <tr style=\"text-align: right;\">\n",
       "      <th></th>\n",
       "      <th>id</th>\n",
       "      <th>run_name</th>\n",
       "      <th>state</th>\n",
       "      <th>seed</th>\n",
       "      <th>url</th>\n",
       "      <th>architecture</th>\n",
       "      <th>epochs</th>\n",
       "      <th>classes</th>\n",
       "      <th>dataset</th>\n",
       "      <th>momentum</th>\n",
       "      <th>optimizer</th>\n",
       "      <th>batch_size</th>\n",
       "      <th>learn_rate</th>\n",
       "      <th>batch_norm_momentum</th>\n",
       "      <th>hostname</th>\n",
       "      <th>tags</th>\n",
       "      <th>created_at</th>\n",
       "      <th>path</th>\n",
       "      <th>notes</th>\n",
       "      <th>test_accuracy</th>\n",
       "    </tr>\n",
       "  </thead>\n",
       "  <tbody>\n",
       "    <tr>\n",
       "      <th>0</th>\n",
       "      <td>0k66mw8x</td>\n",
       "      <td>mobilenetv2_0.2_96_c3_o2_t3l256.MV1</td>\n",
       "      <td>running</td>\n",
       "      <td>15</td>\n",
       "      <td>https://wandb.ai/susbrock/model_DB_visual_wake...</td>\n",
       "      <td>mobilenetv2_0.2_96_c3_o2_t3l256.MV1</td>\n",
       "      <td>50</td>\n",
       "      <td>2</td>\n",
       "      <td>vvw_minval_datagen_fix</td>\n",
       "      <td>0.9</td>\n",
       "      <td>Adam</td>\n",
       "      <td>50</td>\n",
       "      <td>0.001</td>\n",
       "      <td>0.9</td>\n",
       "      <td>NaN</td>\n",
       "      <td>[]</td>\n",
       "      <td>2023-03-01T19:56:28</td>\n",
       "      <td>[susbrock, model_DB_visual_wake_words, 0k66mw8x]</td>\n",
       "      <td>None</td>\n",
       "      <td>NaN</td>\n",
       "    </tr>\n",
       "    <tr>\n",
       "      <th>1</th>\n",
       "      <td>tuq3r964</td>\n",
       "      <td>mobilenetv2_0.2_96_c3_o2_t4l256.MV1</td>\n",
       "      <td>running</td>\n",
       "      <td>15</td>\n",
       "      <td>https://wandb.ai/susbrock/model_DB_visual_wake...</td>\n",
       "      <td>mobilenetv2_0.2_96_c3_o2_t4l256.MV1</td>\n",
       "      <td>50</td>\n",
       "      <td>2</td>\n",
       "      <td>vvw_minval_datagen_fix</td>\n",
       "      <td>0.9</td>\n",
       "      <td>Adam</td>\n",
       "      <td>50</td>\n",
       "      <td>0.001</td>\n",
       "      <td>0.9</td>\n",
       "      <td>NaN</td>\n",
       "      <td>[]</td>\n",
       "      <td>2023-03-01T19:09:57</td>\n",
       "      <td>[susbrock, model_DB_visual_wake_words, tuq3r964]</td>\n",
       "      <td>None</td>\n",
       "      <td>NaN</td>\n",
       "    </tr>\n",
       "    <tr>\n",
       "      <th>2</th>\n",
       "      <td>0400umu4</td>\n",
       "      <td>mobilenetv2_0.2_96_c3_o2_t4l256.MV1</td>\n",
       "      <td>finished</td>\n",
       "      <td>15</td>\n",
       "      <td>https://wandb.ai/susbrock/model_DB_visual_wake...</td>\n",
       "      <td>mobilenetv2_0.2_96_c3_o2_t4l256.MV1</td>\n",
       "      <td>50</td>\n",
       "      <td>2</td>\n",
       "      <td>vvw_minval_datagen_fix</td>\n",
       "      <td>0.9</td>\n",
       "      <td>Adam</td>\n",
       "      <td>50</td>\n",
       "      <td>0.001</td>\n",
       "      <td>0.9</td>\n",
       "      <td>NaN</td>\n",
       "      <td>[]</td>\n",
       "      <td>2023-03-01T18:27:15</td>\n",
       "      <td>[susbrock, model_DB_visual_wake_words, 0400umu4]</td>\n",
       "      <td>None</td>\n",
       "      <td>NaN</td>\n",
       "    </tr>\n",
       "    <tr>\n",
       "      <th>3</th>\n",
       "      <td>wh6k8s0w</td>\n",
       "      <td>mobilenetv2_0.2_96_c3_o2_t4l512.MV1</td>\n",
       "      <td>finished</td>\n",
       "      <td>15</td>\n",
       "      <td>https://wandb.ai/susbrock/model_DB_visual_wake...</td>\n",
       "      <td>mobilenetv2_0.2_96_c3_o2_t4l512.MV1</td>\n",
       "      <td>50</td>\n",
       "      <td>2</td>\n",
       "      <td>vvw_minval_datagen_fix</td>\n",
       "      <td>0.9</td>\n",
       "      <td>Adam</td>\n",
       "      <td>50</td>\n",
       "      <td>0.001</td>\n",
       "      <td>0.9</td>\n",
       "      <td>NaN</td>\n",
       "      <td>[]</td>\n",
       "      <td>2023-03-01T18:20:18</td>\n",
       "      <td>[susbrock, model_DB_visual_wake_words, wh6k8s0w]</td>\n",
       "      <td>None</td>\n",
       "      <td>NaN</td>\n",
       "    </tr>\n",
       "    <tr>\n",
       "      <th>4</th>\n",
       "      <td>bq8c0lhi</td>\n",
       "      <td>mobilenetv2_0.2_96_c3_o2_t4l512.MV1</td>\n",
       "      <td>finished</td>\n",
       "      <td>15</td>\n",
       "      <td>https://wandb.ai/susbrock/model_DB_visual_wake...</td>\n",
       "      <td>mobilenetv2_0.2_96_c3_o2_t4l512.MV1</td>\n",
       "      <td>50</td>\n",
       "      <td>2</td>\n",
       "      <td>vvw_minval_datagen_fix</td>\n",
       "      <td>0.9</td>\n",
       "      <td>Adam</td>\n",
       "      <td>50</td>\n",
       "      <td>0.001</td>\n",
       "      <td>0.9</td>\n",
       "      <td>NaN</td>\n",
       "      <td>[]</td>\n",
       "      <td>2023-03-01T18:13:08</td>\n",
       "      <td>[susbrock, model_DB_visual_wake_words, bq8c0lhi]</td>\n",
       "      <td>None</td>\n",
       "      <td>NaN</td>\n",
       "    </tr>\n",
       "  </tbody>\n",
       "</table>\n",
       "</div>"
      ],
      "text/plain": [
       "         id                             run_name     state  seed  \\\n",
       "0  0k66mw8x  mobilenetv2_0.2_96_c3_o2_t3l256.MV1   running    15   \n",
       "1  tuq3r964  mobilenetv2_0.2_96_c3_o2_t4l256.MV1   running    15   \n",
       "2  0400umu4  mobilenetv2_0.2_96_c3_o2_t4l256.MV1  finished    15   \n",
       "3  wh6k8s0w  mobilenetv2_0.2_96_c3_o2_t4l512.MV1  finished    15   \n",
       "4  bq8c0lhi  mobilenetv2_0.2_96_c3_o2_t4l512.MV1  finished    15   \n",
       "\n",
       "                                                 url  \\\n",
       "0  https://wandb.ai/susbrock/model_DB_visual_wake...   \n",
       "1  https://wandb.ai/susbrock/model_DB_visual_wake...   \n",
       "2  https://wandb.ai/susbrock/model_DB_visual_wake...   \n",
       "3  https://wandb.ai/susbrock/model_DB_visual_wake...   \n",
       "4  https://wandb.ai/susbrock/model_DB_visual_wake...   \n",
       "\n",
       "                          architecture  epochs  classes  \\\n",
       "0  mobilenetv2_0.2_96_c3_o2_t3l256.MV1      50        2   \n",
       "1  mobilenetv2_0.2_96_c3_o2_t4l256.MV1      50        2   \n",
       "2  mobilenetv2_0.2_96_c3_o2_t4l256.MV1      50        2   \n",
       "3  mobilenetv2_0.2_96_c3_o2_t4l512.MV1      50        2   \n",
       "4  mobilenetv2_0.2_96_c3_o2_t4l512.MV1      50        2   \n",
       "\n",
       "                  dataset  momentum optimizer  batch_size  learn_rate  \\\n",
       "0  vvw_minval_datagen_fix       0.9      Adam          50       0.001   \n",
       "1  vvw_minval_datagen_fix       0.9      Adam          50       0.001   \n",
       "2  vvw_minval_datagen_fix       0.9      Adam          50       0.001   \n",
       "3  vvw_minval_datagen_fix       0.9      Adam          50       0.001   \n",
       "4  vvw_minval_datagen_fix       0.9      Adam          50       0.001   \n",
       "\n",
       "   batch_norm_momentum hostname tags           created_at  \\\n",
       "0                  0.9      NaN   []  2023-03-01T19:56:28   \n",
       "1                  0.9      NaN   []  2023-03-01T19:09:57   \n",
       "2                  0.9      NaN   []  2023-03-01T18:27:15   \n",
       "3                  0.9      NaN   []  2023-03-01T18:20:18   \n",
       "4                  0.9      NaN   []  2023-03-01T18:13:08   \n",
       "\n",
       "                                               path notes  test_accuracy  \n",
       "0  [susbrock, model_DB_visual_wake_words, 0k66mw8x]  None            NaN  \n",
       "1  [susbrock, model_DB_visual_wake_words, tuq3r964]  None            NaN  \n",
       "2  [susbrock, model_DB_visual_wake_words, 0400umu4]  None            NaN  \n",
       "3  [susbrock, model_DB_visual_wake_words, wh6k8s0w]  None            NaN  \n",
       "4  [susbrock, model_DB_visual_wake_words, bq8c0lhi]  None            NaN  "
      ]
     },
     "execution_count": 59,
     "metadata": {},
     "output_type": "execute_result"
    }
   ],
   "source": [
    "combined_df = wandb_model_vww_training_DB()\n",
    "combined_df.head()"
   ]
  },
  {
   "cell_type": "code",
   "execution_count": null,
   "metadata": {},
   "outputs": [],
   "source": [
    "# api = wandb.Api()\n",
    "\n",
    "# # Project is specified by <entity/project-name>\n",
    "# #runs = api.runs(\"susbrock/mobilenetv1vvw\")\n",
    "# runs = api.runs(\"susbrock/model_DB_visual_wake_words\")\n",
    "\n",
    "# summary_list, config_list, name_list = [], [], []\n",
    "# for run in runs: \n",
    "#     # .summary contains the output keys/values for metrics like accuracy.\n",
    "#     #  We call ._json_dict to omit large files \n",
    "#     summary_list.append(run.summary._json_dict)\n",
    "\n",
    "#     # .config contains the hyperparameters.\n",
    "#     #  We remove special values that start with _.\n",
    "#     config_list.append(\n",
    "#         {k: v for k,v in run.config.items()\n",
    "#           if not k.startswith('_')})\n",
    "\n",
    "#     # .name is the human-readable name of the run.\n",
    "#     name_list.append(run.name)\n",
    "\n",
    "# runs_df = pd.DataFrame({\n",
    "#     \"summary\": summary_list,\n",
    "#     \"config\": config_list,\n",
    "#     \"name\": name_list\n",
    "#     })\n"
   ]
  },
  {
   "attachments": {},
   "cell_type": "markdown",
   "metadata": {},
   "source": [
    "# Additional data munging"
   ]
  },
  {
   "cell_type": "code",
   "execution_count": null,
   "metadata": {},
   "outputs": [],
   "source": []
  }
 ],
 "metadata": {
  "kernelspec": {
   "display_name": "tiny_cnn_6",
   "language": "python",
   "name": "python3"
  },
  "language_info": {
   "codemirror_mode": {
    "name": "ipython",
    "version": 3
   },
   "file_extension": ".py",
   "mimetype": "text/x-python",
   "name": "python",
   "nbconvert_exporter": "python",
   "pygments_lexer": "ipython3",
   "version": "3.10.6"
  },
  "orig_nbformat": 4,
  "vscode": {
   "interpreter": {
    "hash": "0faa6c31b20b8f809b81d6d7d22a84ccd9f354666f54133d1793fa4c65539801"
   }
  }
 },
 "nbformat": 4,
 "nbformat_minor": 2
}
