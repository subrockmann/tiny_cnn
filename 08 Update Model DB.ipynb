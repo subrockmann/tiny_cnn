{
 "cells": [
  {
   "attachments": {},
   "cell_type": "markdown",
   "metadata": {},
   "source": [
    "# Model DB"
   ]
  },
  {
   "cell_type": "code",
   "execution_count": 21,
   "metadata": {},
   "outputs": [
    {
     "name": "stdout",
     "output_type": "stream",
     "text": [
      "The autoreload extension is already loaded. To reload it, use:\n",
      "  %reload_ext autoreload\n"
     ]
    }
   ],
   "source": [
    "import pandas as pd \n",
    "import wandb\n",
    "from pathlib import Path\n",
    "\n",
    "from workbench.wandb import wandb_model_DB, make_clickable, get_architecture_from_model_DB_run_id, get_model_DB_run_id_from_architecture, wandb_vww_training_df, get_vww_training_run_id_from_architecture\n",
    "\n",
    "\n",
    "%load_ext autoreload"
   ]
  },
  {
   "cell_type": "code",
   "execution_count": 22,
   "metadata": {},
   "outputs": [],
   "source": [
    "%reload_ext autoreload\n",
    "%autoreload"
   ]
  },
  {
   "cell_type": "code",
   "execution_count": 23,
   "metadata": {},
   "outputs": [],
   "source": [
    "# Configure pandas to show all columns & rows\n",
    "pd.set_option('display.max_columns', None)\n",
    "#pd.set_option('display.max_rows', None)"
   ]
  },
  {
   "attachments": {},
   "cell_type": "markdown",
   "metadata": {},
   "source": [
    "# Get model_DB"
   ]
  },
  {
   "cell_type": "code",
   "execution_count": 24,
   "metadata": {},
   "outputs": [
    {
     "data": {
      "text/html": [
       "<div>\n",
       "<style scoped>\n",
       "    .dataframe tbody tr th:only-of-type {\n",
       "        vertical-align: middle;\n",
       "    }\n",
       "\n",
       "    .dataframe tbody tr th {\n",
       "        vertical-align: top;\n",
       "    }\n",
       "\n",
       "    .dataframe thead th {\n",
       "        text-align: right;\n",
       "    }\n",
       "</style>\n",
       "<table border=\"1\" class=\"dataframe\">\n",
       "  <thead>\n",
       "    <tr style=\"text-align: right;\">\n",
       "      <th></th>\n",
       "      <th>id</th>\n",
       "      <th>run_name</th>\n",
       "      <th>state</th>\n",
       "      <th>MACs</th>\n",
       "      <th>url</th>\n",
       "      <th>architecture</th>\n",
       "      <th>FLOPs</th>\n",
       "      <th>alpha</th>\n",
       "      <th>classes</th>\n",
       "      <th>img_res</th>\n",
       "      <th>OPS_mltk</th>\n",
       "      <th>channels</th>\n",
       "      <th>macs_mltk</th>\n",
       "      <th>variation</th>\n",
       "      <th>energy_mltk</th>\n",
       "      <th>total_params</th>\n",
       "      <th>OPS_INT8_mltk</th>\n",
       "      <th>model_size_kb</th>\n",
       "      <th>peak_memory_b</th>\n",
       "      <th>macs_INT8_mltk</th>\n",
       "      <th>energy_INT8_mltk</th>\n",
       "      <th>trainable_params</th>\n",
       "      <th>non_trainable_params</th>\n",
       "      <th>tflite_model_size_kb</th>\n",
       "      <th>flash_model_size_b_mltk</th>\n",
       "      <th>n_unsupported_layers_mltk</th>\n",
       "      <th>tflite_model_INT8_size_kb</th>\n",
       "      <th>flash_model_size_b__INT8_mltk</th>\n",
       "      <th>RAM_runtime_memory_size_b_mltk</th>\n",
       "      <th>n_unsupported_layers_INT8_mltk</th>\n",
       "      <th>RAM_runtime_memory_size_b_INT8_mltk</th>\n",
       "      <th>opt_RAM_mltk</th>\n",
       "      <th>opt_RAM_INT8_mltk</th>\n",
       "      <th>tags</th>\n",
       "      <th>created_at</th>\n",
       "      <th>path</th>\n",
       "      <th>notes</th>\n",
       "      <th>test_accuracy</th>\n",
       "      <th>inference_avg_us</th>\n",
       "      <th>stm32_inference_ms_INT8</th>\n",
       "    </tr>\n",
       "  </thead>\n",
       "  <tbody>\n",
       "    <tr>\n",
       "      <th>0</th>\n",
       "      <td>a9vr672c</td>\n",
       "      <td>mobilenetv2_0.25_96_c3_o2_t3l1024.MV1</td>\n",
       "      <td>finished</td>\n",
       "      <td>3.255 M</td>\n",
       "      <td>https://wandb.ai/susbrock/model_DB/runs/a9vr672c</td>\n",
       "      <td>mobilenetv2_0.25_96_c3_o2_t3l1024.MV1</td>\n",
       "      <td>6.863 M</td>\n",
       "      <td>0.25</td>\n",
       "      <td>2</td>\n",
       "      <td>96</td>\n",
       "      <td>7055946.0</td>\n",
       "      <td>3</td>\n",
       "      <td>3255152.0</td>\n",
       "      <td>t3l1024.MV1</td>\n",
       "      <td>0.004082</td>\n",
       "      <td>158630</td>\n",
       "      <td>7055946.0</td>\n",
       "      <td>1077.437500</td>\n",
       "      <td>46080.0</td>\n",
       "      <td>3255152.0</td>\n",
       "      <td>0.004082</td>\n",
       "      <td>152246</td>\n",
       "      <td>6384</td>\n",
       "      <td>605.226562</td>\n",
       "      <td>619752.0</td>\n",
       "      <td>0.0</td>\n",
       "      <td>261.718750</td>\n",
       "      <td>268000.0</td>\n",
       "      <td>220564.0</td>\n",
       "      <td>0.0</td>\n",
       "      <td>83044.0</td>\n",
       "      <td>NaN</td>\n",
       "      <td>NaN</td>\n",
       "      <td>[]</td>\n",
       "      <td>2023-06-24T04:54:57</td>\n",
       "      <td>[susbrock, model_DB, a9vr672c]</td>\n",
       "      <td>None</td>\n",
       "      <td>0.823497</td>\n",
       "      <td>NaN</td>\n",
       "      <td>NaN</td>\n",
       "    </tr>\n",
       "    <tr>\n",
       "      <th>1</th>\n",
       "      <td>jpbggb5v</td>\n",
       "      <td>mobilenetv2_0.25_96_c3_o2_t2l1024.MV1</td>\n",
       "      <td>finished</td>\n",
       "      <td>2.662 M</td>\n",
       "      <td>https://wandb.ai/susbrock/model_DB/runs/jpbggb5v</td>\n",
       "      <td>mobilenetv2_0.25_96_c3_o2_t2l1024.MV1</td>\n",
       "      <td>5.597 M</td>\n",
       "      <td>0.25</td>\n",
       "      <td>2</td>\n",
       "      <td>96</td>\n",
       "      <td>5749938.0</td>\n",
       "      <td>3</td>\n",
       "      <td>2662304.0</td>\n",
       "      <td>t2l1024.MV1</td>\n",
       "      <td>0.003514</td>\n",
       "      <td>135738</td>\n",
       "      <td>5749938.0</td>\n",
       "      <td>986.328125</td>\n",
       "      <td>46080.0</td>\n",
       "      <td>2662304.0</td>\n",
       "      <td>0.003514</td>\n",
       "      <td>130538</td>\n",
       "      <td>5200</td>\n",
       "      <td>524.222656</td>\n",
       "      <td>536804.0</td>\n",
       "      <td>0.0</td>\n",
       "      <td>227.070312</td>\n",
       "      <td>232520.0</td>\n",
       "      <td>215724.0</td>\n",
       "      <td>0.0</td>\n",
       "      <td>78316.0</td>\n",
       "      <td>NaN</td>\n",
       "      <td>NaN</td>\n",
       "      <td>[]</td>\n",
       "      <td>2023-06-24T04:52:39</td>\n",
       "      <td>[susbrock, model_DB, jpbggb5v]</td>\n",
       "      <td>None</td>\n",
       "      <td>0.808538</td>\n",
       "      <td>NaN</td>\n",
       "      <td>NaN</td>\n",
       "    </tr>\n",
       "    <tr>\n",
       "      <th>2</th>\n",
       "      <td>76rlaod2</td>\n",
       "      <td>mobilenetv2_0.25_96_c3_o2_t1l1024.MV1</td>\n",
       "      <td>finished</td>\n",
       "      <td>2.069 M</td>\n",
       "      <td>https://wandb.ai/susbrock/model_DB/runs/76rlaod2</td>\n",
       "      <td>mobilenetv2_0.25_96_c3_o2_t1l1024.MV1</td>\n",
       "      <td>4.331 M</td>\n",
       "      <td>0.25</td>\n",
       "      <td>2</td>\n",
       "      <td>96</td>\n",
       "      <td>4443930.0</td>\n",
       "      <td>3</td>\n",
       "      <td>2069456.0</td>\n",
       "      <td>t1l1024.MV1</td>\n",
       "      <td>0.003132</td>\n",
       "      <td>112846</td>\n",
       "      <td>4443930.0</td>\n",
       "      <td>898.109375</td>\n",
       "      <td>46080.0</td>\n",
       "      <td>2069456.0</td>\n",
       "      <td>0.003132</td>\n",
       "      <td>108830</td>\n",
       "      <td>4016</td>\n",
       "      <td>443.136719</td>\n",
       "      <td>453772.0</td>\n",
       "      <td>0.0</td>\n",
       "      <td>192.664062</td>\n",
       "      <td>197288.0</td>\n",
       "      <td>211024.0</td>\n",
       "      <td>0.0</td>\n",
       "      <td>73572.0</td>\n",
       "      <td>NaN</td>\n",
       "      <td>NaN</td>\n",
       "      <td>[]</td>\n",
       "      <td>2023-06-24T04:50:19</td>\n",
       "      <td>[susbrock, model_DB, 76rlaod2]</td>\n",
       "      <td>None</td>\n",
       "      <td>0.785825</td>\n",
       "      <td>NaN</td>\n",
       "      <td>NaN</td>\n",
       "    </tr>\n",
       "    <tr>\n",
       "      <th>3</th>\n",
       "      <td>z1h2une5</td>\n",
       "      <td>mobilenetv2_0.25_96_c3_o2_t5l1280.MV1</td>\n",
       "      <td>finished</td>\n",
       "      <td>4.626 M</td>\n",
       "      <td>https://wandb.ai/susbrock/model_DB/runs/z1h2une5</td>\n",
       "      <td>mobilenetv2_0.25_96_c3_o2_t5l1280.MV1</td>\n",
       "      <td>9.772 M</td>\n",
       "      <td>0.25</td>\n",
       "      <td>2</td>\n",
       "      <td>96</td>\n",
       "      <td>10047098.0</td>\n",
       "      <td>3</td>\n",
       "      <td>4625680.0</td>\n",
       "      <td>t5l1280.MV1</td>\n",
       "      <td>0.005240</td>\n",
       "      <td>226430</td>\n",
       "      <td>10047098.0</td>\n",
       "      <td>1341.320312</td>\n",
       "      <td>57600.0</td>\n",
       "      <td>4625680.0</td>\n",
       "      <td>0.005240</td>\n",
       "      <td>217166</td>\n",
       "      <td>9264</td>\n",
       "      <td>848.960938</td>\n",
       "      <td>869336.0</td>\n",
       "      <td>0.0</td>\n",
       "      <td>357.562500</td>\n",
       "      <td>366144.0</td>\n",
       "      <td>278176.0</td>\n",
       "      <td>0.0</td>\n",
       "      <td>106340.0</td>\n",
       "      <td>NaN</td>\n",
       "      <td>NaN</td>\n",
       "      <td>[]</td>\n",
       "      <td>2023-06-11T14:22:38</td>\n",
       "      <td>[susbrock, model_DB, z1h2une5]</td>\n",
       "      <td>None</td>\n",
       "      <td>None</td>\n",
       "      <td>458.326</td>\n",
       "      <td>NaN</td>\n",
       "    </tr>\n",
       "    <tr>\n",
       "      <th>4</th>\n",
       "      <td>rgk123r5</td>\n",
       "      <td>mobilenetv2_0.25_96_c3_o2_t3l1280.MV1</td>\n",
       "      <td>finished</td>\n",
       "      <td>3.440 M</td>\n",
       "      <td>https://wandb.ai/susbrock/model_DB/runs/rgk123r5</td>\n",
       "      <td>mobilenetv2_0.25_96_c3_o2_t3l1280.MV1</td>\n",
       "      <td>7.240 M</td>\n",
       "      <td>0.25</td>\n",
       "      <td>2</td>\n",
       "      <td>96</td>\n",
       "      <td>7435082.0</td>\n",
       "      <td>3</td>\n",
       "      <td>3439984.0</td>\n",
       "      <td>t3l1280.MV1</td>\n",
       "      <td>0.004130</td>\n",
       "      <td>180646</td>\n",
       "      <td>7435082.0</td>\n",
       "      <td>1163.437500</td>\n",
       "      <td>46080.0</td>\n",
       "      <td>3439984.0</td>\n",
       "      <td>0.004130</td>\n",
       "      <td>173750</td>\n",
       "      <td>6896</td>\n",
       "      <td>688.226562</td>\n",
       "      <td>704744.0</td>\n",
       "      <td>0.0</td>\n",
       "      <td>289.218750</td>\n",
       "      <td>296160.0</td>\n",
       "      <td>222612.0</td>\n",
       "      <td>0.0</td>\n",
       "      <td>85092.0</td>\n",
       "      <td>NaN</td>\n",
       "      <td>NaN</td>\n",
       "      <td>[]</td>\n",
       "      <td>2023-06-11T14:20:17</td>\n",
       "      <td>[susbrock, model_DB, rgk123r5]</td>\n",
       "      <td>None</td>\n",
       "      <td>None</td>\n",
       "      <td>330.966</td>\n",
       "      <td>NaN</td>\n",
       "    </tr>\n",
       "  </tbody>\n",
       "</table>\n",
       "</div>"
      ],
      "text/plain": [
       "         id                               run_name     state     MACs  \\\n",
       "0  a9vr672c  mobilenetv2_0.25_96_c3_o2_t3l1024.MV1  finished  3.255 M   \n",
       "1  jpbggb5v  mobilenetv2_0.25_96_c3_o2_t2l1024.MV1  finished  2.662 M   \n",
       "2  76rlaod2  mobilenetv2_0.25_96_c3_o2_t1l1024.MV1  finished  2.069 M   \n",
       "3  z1h2une5  mobilenetv2_0.25_96_c3_o2_t5l1280.MV1  finished  4.626 M   \n",
       "4  rgk123r5  mobilenetv2_0.25_96_c3_o2_t3l1280.MV1  finished  3.440 M   \n",
       "\n",
       "                                                url  \\\n",
       "0  https://wandb.ai/susbrock/model_DB/runs/a9vr672c   \n",
       "1  https://wandb.ai/susbrock/model_DB/runs/jpbggb5v   \n",
       "2  https://wandb.ai/susbrock/model_DB/runs/76rlaod2   \n",
       "3  https://wandb.ai/susbrock/model_DB/runs/z1h2une5   \n",
       "4  https://wandb.ai/susbrock/model_DB/runs/rgk123r5   \n",
       "\n",
       "                            architecture    FLOPs  alpha  classes  img_res  \\\n",
       "0  mobilenetv2_0.25_96_c3_o2_t3l1024.MV1  6.863 M   0.25        2       96   \n",
       "1  mobilenetv2_0.25_96_c3_o2_t2l1024.MV1  5.597 M   0.25        2       96   \n",
       "2  mobilenetv2_0.25_96_c3_o2_t1l1024.MV1  4.331 M   0.25        2       96   \n",
       "3  mobilenetv2_0.25_96_c3_o2_t5l1280.MV1  9.772 M   0.25        2       96   \n",
       "4  mobilenetv2_0.25_96_c3_o2_t3l1280.MV1  7.240 M   0.25        2       96   \n",
       "\n",
       "     OPS_mltk  channels  macs_mltk    variation  energy_mltk  total_params  \\\n",
       "0   7055946.0         3  3255152.0  t3l1024.MV1     0.004082        158630   \n",
       "1   5749938.0         3  2662304.0  t2l1024.MV1     0.003514        135738   \n",
       "2   4443930.0         3  2069456.0  t1l1024.MV1     0.003132        112846   \n",
       "3  10047098.0         3  4625680.0  t5l1280.MV1     0.005240        226430   \n",
       "4   7435082.0         3  3439984.0  t3l1280.MV1     0.004130        180646   \n",
       "\n",
       "   OPS_INT8_mltk  model_size_kb  peak_memory_b  macs_INT8_mltk  \\\n",
       "0      7055946.0    1077.437500        46080.0       3255152.0   \n",
       "1      5749938.0     986.328125        46080.0       2662304.0   \n",
       "2      4443930.0     898.109375        46080.0       2069456.0   \n",
       "3     10047098.0    1341.320312        57600.0       4625680.0   \n",
       "4      7435082.0    1163.437500        46080.0       3439984.0   \n",
       "\n",
       "   energy_INT8_mltk  trainable_params  non_trainable_params  \\\n",
       "0          0.004082            152246                  6384   \n",
       "1          0.003514            130538                  5200   \n",
       "2          0.003132            108830                  4016   \n",
       "3          0.005240            217166                  9264   \n",
       "4          0.004130            173750                  6896   \n",
       "\n",
       "   tflite_model_size_kb  flash_model_size_b_mltk  n_unsupported_layers_mltk  \\\n",
       "0            605.226562                 619752.0                        0.0   \n",
       "1            524.222656                 536804.0                        0.0   \n",
       "2            443.136719                 453772.0                        0.0   \n",
       "3            848.960938                 869336.0                        0.0   \n",
       "4            688.226562                 704744.0                        0.0   \n",
       "\n",
       "   tflite_model_INT8_size_kb  flash_model_size_b__INT8_mltk  \\\n",
       "0                 261.718750                       268000.0   \n",
       "1                 227.070312                       232520.0   \n",
       "2                 192.664062                       197288.0   \n",
       "3                 357.562500                       366144.0   \n",
       "4                 289.218750                       296160.0   \n",
       "\n",
       "   RAM_runtime_memory_size_b_mltk  n_unsupported_layers_INT8_mltk  \\\n",
       "0                        220564.0                             0.0   \n",
       "1                        215724.0                             0.0   \n",
       "2                        211024.0                             0.0   \n",
       "3                        278176.0                             0.0   \n",
       "4                        222612.0                             0.0   \n",
       "\n",
       "   RAM_runtime_memory_size_b_INT8_mltk  opt_RAM_mltk  opt_RAM_INT8_mltk tags  \\\n",
       "0                              83044.0           NaN                NaN   []   \n",
       "1                              78316.0           NaN                NaN   []   \n",
       "2                              73572.0           NaN                NaN   []   \n",
       "3                             106340.0           NaN                NaN   []   \n",
       "4                              85092.0           NaN                NaN   []   \n",
       "\n",
       "            created_at                            path notes test_accuracy  \\\n",
       "0  2023-06-24T04:54:57  [susbrock, model_DB, a9vr672c]  None      0.823497   \n",
       "1  2023-06-24T04:52:39  [susbrock, model_DB, jpbggb5v]  None      0.808538   \n",
       "2  2023-06-24T04:50:19  [susbrock, model_DB, 76rlaod2]  None      0.785825   \n",
       "3  2023-06-11T14:22:38  [susbrock, model_DB, z1h2une5]  None          None   \n",
       "4  2023-06-11T14:20:17  [susbrock, model_DB, rgk123r5]  None          None   \n",
       "\n",
       "   inference_avg_us  stm32_inference_ms_INT8  \n",
       "0               NaN                      NaN  \n",
       "1               NaN                      NaN  \n",
       "2               NaN                      NaN  \n",
       "3           458.326                      NaN  \n",
       "4           330.966                      NaN  "
      ]
     },
     "execution_count": 24,
     "metadata": {},
     "output_type": "execute_result"
    }
   ],
   "source": [
    "df = wandb_model_DB()\n",
    "df.head()"
   ]
  },
  {
   "cell_type": "code",
   "execution_count": 25,
   "metadata": {},
   "outputs": [],
   "source": [
    "df.test_accuracy = df.test_accuracy.fillna(0)\n",
    "df.test_accuracy.replace(\"NaN\", 0, inplace=True)"
   ]
  },
  {
   "cell_type": "code",
   "execution_count": 26,
   "metadata": {},
   "outputs": [
    {
     "data": {
      "text/plain": [
       "array([0.82349724, 0.80853778, 0.78582507, 0.        , 0.79348719,\n",
       "       0.76614374, 0.80133176, 0.88397336, 0.88160175, 0.88324362,\n",
       "       0.87986863, 0.88078082, 0.88251388, 0.8789565 , 0.88132811,\n",
       "       0.87576395, 0.87878513, 0.83891273, 0.83509666, 0.83271003,\n",
       "       0.84959871, 0.88534158, 0.88179499, 0.88415581, 0.88351727,\n",
       "       0.87904769, 0.83644986, 0.84119308, 0.83882147, 0.83809179,\n",
       "       0.84465933, 0.84803432, 0.85277754, 0.8491289 , 0.84712213,\n",
       "       0.8492201 , 0.8520478 , 0.83243638, 0.85241264, 0.80499816,\n",
       "       0.85524035, 0.7368421 , 0.86226398, 0.85387212, 0.87869388,\n",
       "       0.82003099, 0.77916628, 0.78327101, 0.85022348, 0.84294051,\n",
       "       0.86346227, 0.85835463, 0.87942356, 0.88105446, 0.87713218,\n",
       "       0.87804431, 0.89757389, 0.86828423, 0.85096681, 0.89656115,\n",
       "       0.89446318, 0.89783818, 0.90030104, 0.87531924, 0.87448692,\n",
       "       0.87787306, 0.8785004 , 0.88369972, 0.88050717, 0.88059837,\n",
       "       0.88170373, 0.87758827, 0.8796972 , 0.87722337, 0.87995988,\n",
       "       0.87694973, 0.88342607, 0.88561523, 0.88734835, 0.88515919,\n",
       "       0.88206857, 0.87767947, 0.88269633, 0.88087201, 0.87530786,\n",
       "       0.88379091, 0.88406456, 0.88133895, 0.87585515, 0.87923014,\n",
       "       0.8785916 , 0.87777066, 0.87932134, 0.88197738, 0.88169295,\n",
       "       0.81802428, 0.78929126, 0.82358843, 0.88079166, 0.87740582,\n",
       "       0.87731463, 0.8788653 , 0.87950379, 0.88023353, 0.88296998,\n",
       "       0.87284505, 0.87860268, 0.8673721 , 0.87074703, 0.86901397,\n",
       "       0.87375718, 0.84602755, 0.87331265, 0.87156802, 0.86008757,\n",
       "       0.85679102, 0.85633492, 0.85770321, 0.85624373, 0.85888898,\n",
       "       0.85186535, 0.86098695, 0.85460186, 0.84940255, 0.8463012 ,\n",
       "       0.8512404 , 0.85140926, 0.85552716, 0.85898018, 0.85961872,\n",
       "       0.86107814, 0.85432822, 0.85806805, 0.84976739, 0.85688221,\n",
       "       0.86054361, 0.84429443, 0.85651737, 0.8607133 , 0.85916263,\n",
       "       0.85251731, 0.86025721, 0.86454439, 0.84849036, 0.86627746,\n",
       "       0.86837542, 0.8611694 , 0.85606128, 0.85834169, 0.86172932,\n",
       "       0.85324699, 0.8582505 , 0.85680407, 0.85569644, 0.85414577,\n",
       "       0.85341603, 0.85715586, 0.83982486, 0.84657484, 0.84812552,\n",
       "       0.85040593, 0.84329104, 0.84210527, 0.83847135, 0.85058832,\n",
       "       0.82906139, 0.80698717, 0.73440349, 0.84475052, 0.84265256,\n",
       "       0.8429262 , 0.83499044, 0.82039589, 0.82021344, 0.80926752,\n",
       "       0.81911886, 0.82532156, 0.82440937, 0.82012224, 0.83024722,\n",
       "       0.82643193, 0.82796681, 0.82431817, 0.82050347, 0.80023718,\n",
       "       0.80379456, 0.80908513, 0.83544648, 0.84201407, 0.84164917,\n",
       "       0.83745325, 0.83800054, 0.80443311, 0.83345497, 0.87293625,\n",
       "       0.81054455, 0.80534524, 0.81537902, 0.80981481, 0.85169643,\n",
       "       0.79093313, 0.81017971, 0.82249385, 0.82450062, 0.83654112,\n",
       "       0.84374714, 0.7839095 , 0.79813921, 0.80735201, 0.81227767,\n",
       "       0.81601751, 0.80333853, 0.81547022, 0.83307487, 0.84192282,\n",
       "       0.83581138, 0.83690596, 0.8198486 , 0.81574386, 0.81430137,\n",
       "       0.80598378, 0.81729454, 0.81410199, 0.80944997, 0.8223114 ,\n",
       "       0.7487914 , 0.76302105, 0.83343977, 0.83353096, 0.79987228,\n",
       "       0.77123052, 0.85113561, 0.82869655, 0.81282496, 0.85077077,\n",
       "       0.80187905, 0.83316612, 0.86500043, 0.85843289, 0.86308491,\n",
       "       0.84985864, 0.85069317, 0.84931129, 0.84768331])"
      ]
     },
     "execution_count": 26,
     "metadata": {},
     "output_type": "execute_result"
    }
   ],
   "source": [
    "df.test_accuracy.unique()"
   ]
  },
  {
   "attachments": {},
   "cell_type": "markdown",
   "metadata": {},
   "source": [
    "# Get training info\n",
    "just export run_table from wandb"
   ]
  },
  {
   "cell_type": "code",
   "execution_count": 27,
   "metadata": {},
   "outputs": [],
   "source": [
    "training_df = wandb_vww_training_df()"
   ]
  },
  {
   "cell_type": "code",
   "execution_count": 28,
   "metadata": {},
   "outputs": [],
   "source": [
    "# training_run_id = get_vww_training_run_id_from_architecture(\"mobilenettiny_0.7_96_c3_o2_l5ll32pl32b0.25.MV1HSW\")\n",
    "# training_run_id"
   ]
  },
  {
   "cell_type": "code",
   "execution_count": 29,
   "metadata": {},
   "outputs": [
    {
     "data": {
      "text/html": [
       "<div>\n",
       "<style scoped>\n",
       "    .dataframe tbody tr th:only-of-type {\n",
       "        vertical-align: middle;\n",
       "    }\n",
       "\n",
       "    .dataframe tbody tr th {\n",
       "        vertical-align: top;\n",
       "    }\n",
       "\n",
       "    .dataframe thead th {\n",
       "        text-align: right;\n",
       "    }\n",
       "</style>\n",
       "<table border=\"1\" class=\"dataframe\">\n",
       "  <thead>\n",
       "    <tr style=\"text-align: right;\">\n",
       "      <th></th>\n",
       "      <th>id</th>\n",
       "      <th>run_name</th>\n",
       "      <th>state</th>\n",
       "      <th>seed</th>\n",
       "      <th>url</th>\n",
       "      <th>architecture</th>\n",
       "      <th>epochs</th>\n",
       "      <th>classes</th>\n",
       "      <th>dataset</th>\n",
       "      <th>hostname</th>\n",
       "      <th>momentum</th>\n",
       "      <th>optimizer</th>\n",
       "      <th>batch_size</th>\n",
       "      <th>learn_rate</th>\n",
       "      <th>batch_norm_momentum</th>\n",
       "      <th>tags</th>\n",
       "      <th>created_at</th>\n",
       "      <th>path</th>\n",
       "      <th>notes</th>\n",
       "      <th>test_accuracy</th>\n",
       "    </tr>\n",
       "  </thead>\n",
       "  <tbody>\n",
       "    <tr>\n",
       "      <th>0</th>\n",
       "      <td>221kp6pp</td>\n",
       "      <td>mobilenettiny_0.7_96_c3_o2_l4ll16pl64b0.25.MV1</td>\n",
       "      <td>finished</td>\n",
       "      <td>15.0</td>\n",
       "      <td>https://wandb.ai/susbrock/model_DB_visual_wake...</td>\n",
       "      <td>mobilenettiny_0.7_96_c3_o2_l4ll16pl64b0.25.MV1</td>\n",
       "      <td>50.0</td>\n",
       "      <td>2.0</td>\n",
       "      <td>vvw_minval_datagen_fix</td>\n",
       "      <td>HP-Omen</td>\n",
       "      <td>0.9</td>\n",
       "      <td>Adam</td>\n",
       "      <td>50.0</td>\n",
       "      <td>0.001</td>\n",
       "      <td>0.9</td>\n",
       "      <td>[]</td>\n",
       "      <td>2023-06-24T05:26:03</td>\n",
       "      <td>[susbrock, model_DB_visual_wake_words, 221kp6pp]</td>\n",
       "      <td>None</td>\n",
       "      <td>0.881419</td>\n",
       "    </tr>\n",
       "    <tr>\n",
       "      <th>1</th>\n",
       "      <td>hztea71r</td>\n",
       "      <td>mobilenetv2_0.25_96_c3_o2_t3l1024.MV1</td>\n",
       "      <td>finished</td>\n",
       "      <td>15.0</td>\n",
       "      <td>https://wandb.ai/susbrock/model_DB_visual_wake...</td>\n",
       "      <td>mobilenetv2_0.25_96_c3_o2_t3l1024.MV1</td>\n",
       "      <td>50.0</td>\n",
       "      <td>2.0</td>\n",
       "      <td>vvw_minval_datagen_fix</td>\n",
       "      <td>HP-Omen</td>\n",
       "      <td>0.9</td>\n",
       "      <td>Adam</td>\n",
       "      <td>50.0</td>\n",
       "      <td>0.001</td>\n",
       "      <td>0.9</td>\n",
       "      <td>[]</td>\n",
       "      <td>2023-06-24T00:36:33</td>\n",
       "      <td>[susbrock, model_DB_visual_wake_words, hztea71r]</td>\n",
       "      <td>None</td>\n",
       "      <td>0.823497</td>\n",
       "    </tr>\n",
       "    <tr>\n",
       "      <th>2</th>\n",
       "      <td>8g5sok4t</td>\n",
       "      <td>mobilenetv2_0.25_96_c3_o2_t2l1024.MV1</td>\n",
       "      <td>finished</td>\n",
       "      <td>15.0</td>\n",
       "      <td>https://wandb.ai/susbrock/model_DB_visual_wake...</td>\n",
       "      <td>mobilenetv2_0.25_96_c3_o2_t2l1024.MV1</td>\n",
       "      <td>50.0</td>\n",
       "      <td>2.0</td>\n",
       "      <td>vvw_minval_datagen_fix</td>\n",
       "      <td>HP-Omen</td>\n",
       "      <td>0.9</td>\n",
       "      <td>Adam</td>\n",
       "      <td>50.0</td>\n",
       "      <td>0.001</td>\n",
       "      <td>0.9</td>\n",
       "      <td>[]</td>\n",
       "      <td>2023-06-23T20:37:41</td>\n",
       "      <td>[susbrock, model_DB_visual_wake_words, 8g5sok4t]</td>\n",
       "      <td>None</td>\n",
       "      <td>0.808538</td>\n",
       "    </tr>\n",
       "    <tr>\n",
       "      <th>3</th>\n",
       "      <td>wnpfa3mk</td>\n",
       "      <td>mobilenetv2_0.25_96_c3_o2_t1l1024.MV1</td>\n",
       "      <td>finished</td>\n",
       "      <td>15.0</td>\n",
       "      <td>https://wandb.ai/susbrock/model_DB_visual_wake...</td>\n",
       "      <td>mobilenetv2_0.25_96_c3_o2_t1l1024.MV1</td>\n",
       "      <td>50.0</td>\n",
       "      <td>2.0</td>\n",
       "      <td>vvw_minval_datagen_fix</td>\n",
       "      <td>HP-Omen</td>\n",
       "      <td>0.9</td>\n",
       "      <td>Adam</td>\n",
       "      <td>50.0</td>\n",
       "      <td>0.001</td>\n",
       "      <td>0.9</td>\n",
       "      <td>[]</td>\n",
       "      <td>2023-06-23T14:35:50</td>\n",
       "      <td>[susbrock, model_DB_visual_wake_words, wnpfa3mk]</td>\n",
       "      <td>None</td>\n",
       "      <td>0.785825</td>\n",
       "    </tr>\n",
       "    <tr>\n",
       "      <th>4</th>\n",
       "      <td>y2iays89</td>\n",
       "      <td>mobilenetv2_0.25_96_c3_o2_t1l1280.MV1</td>\n",
       "      <td>finished</td>\n",
       "      <td>15.0</td>\n",
       "      <td>https://wandb.ai/susbrock/model_DB_visual_wake...</td>\n",
       "      <td>mobilenetv2_0.25_96_c3_o2_t1l1280.MV1</td>\n",
       "      <td>50.0</td>\n",
       "      <td>2.0</td>\n",
       "      <td>vvw_minval_datagen_fix</td>\n",
       "      <td>HP-Omen</td>\n",
       "      <td>0.9</td>\n",
       "      <td>Adam</td>\n",
       "      <td>50.0</td>\n",
       "      <td>0.001</td>\n",
       "      <td>0.9</td>\n",
       "      <td>[]</td>\n",
       "      <td>2023-06-23T10:17:00</td>\n",
       "      <td>[susbrock, model_DB_visual_wake_words, y2iays89]</td>\n",
       "      <td>None</td>\n",
       "      <td>0.793487</td>\n",
       "    </tr>\n",
       "    <tr>\n",
       "      <th>...</th>\n",
       "      <td>...</td>\n",
       "      <td>...</td>\n",
       "      <td>...</td>\n",
       "      <td>...</td>\n",
       "      <td>...</td>\n",
       "      <td>...</td>\n",
       "      <td>...</td>\n",
       "      <td>...</td>\n",
       "      <td>...</td>\n",
       "      <td>...</td>\n",
       "      <td>...</td>\n",
       "      <td>...</td>\n",
       "      <td>...</td>\n",
       "      <td>...</td>\n",
       "      <td>...</td>\n",
       "      <td>...</td>\n",
       "      <td>...</td>\n",
       "      <td>...</td>\n",
       "      <td>...</td>\n",
       "      <td>...</td>\n",
       "    </tr>\n",
       "    <tr>\n",
       "      <th>391</th>\n",
       "      <td>mtfe7uja</td>\n",
       "      <td>shufflenetv1_0.2_96_c3_o2_g3</td>\n",
       "      <td>finished</td>\n",
       "      <td>15.0</td>\n",
       "      <td>https://wandb.ai/susbrock/model_DB_visual_wake...</td>\n",
       "      <td>shufflenetv1_0.2_96_c3_o2_g3</td>\n",
       "      <td>50.0</td>\n",
       "      <td>2.0</td>\n",
       "      <td>vvw_minval_datagen_fix</td>\n",
       "      <td>NaN</td>\n",
       "      <td>0.9</td>\n",
       "      <td>Adam</td>\n",
       "      <td>50.0</td>\n",
       "      <td>0.001</td>\n",
       "      <td>0.9</td>\n",
       "      <td>[]</td>\n",
       "      <td>2023-02-12T20:17:56</td>\n",
       "      <td>[susbrock, model_DB_visual_wake_words, mtfe7uja]</td>\n",
       "      <td>before fix</td>\n",
       "      <td>0.829061</td>\n",
       "    </tr>\n",
       "    <tr>\n",
       "      <th>392</th>\n",
       "      <td>z01mbqbh</td>\n",
       "      <td>MobilenetV3small_0.2_96_c3_o2_keras</td>\n",
       "      <td>finished</td>\n",
       "      <td>15.0</td>\n",
       "      <td>https://wandb.ai/susbrock/model_DB_visual_wake...</td>\n",
       "      <td>MobilenetV3small_0.2_96_c3_o2_keras</td>\n",
       "      <td>50.0</td>\n",
       "      <td>2.0</td>\n",
       "      <td>vvw_minval_datagen_fix</td>\n",
       "      <td>NaN</td>\n",
       "      <td>0.9</td>\n",
       "      <td>Adam</td>\n",
       "      <td>50.0</td>\n",
       "      <td>0.001</td>\n",
       "      <td>0.9</td>\n",
       "      <td>[]</td>\n",
       "      <td>2023-02-12T16:37:37</td>\n",
       "      <td>[susbrock, model_DB_visual_wake_words, z01mbqbh]</td>\n",
       "      <td>None</td>\n",
       "      <td>0.842835</td>\n",
       "    </tr>\n",
       "    <tr>\n",
       "      <th>393</th>\n",
       "      <td>bifxvci5</td>\n",
       "      <td>MobilenetV3small_0.1_96_c3_o2_keras</td>\n",
       "      <td>finished</td>\n",
       "      <td>15.0</td>\n",
       "      <td>https://wandb.ai/susbrock/model_DB_visual_wake...</td>\n",
       "      <td>MobilenetV3small_0.1_96_c3_o2_keras</td>\n",
       "      <td>50.0</td>\n",
       "      <td>2.0</td>\n",
       "      <td>vvw_minval_datagen_fix</td>\n",
       "      <td>NaN</td>\n",
       "      <td>0.9</td>\n",
       "      <td>Adam</td>\n",
       "      <td>50.0</td>\n",
       "      <td>0.001</td>\n",
       "      <td>0.9</td>\n",
       "      <td>[]</td>\n",
       "      <td>2023-02-12T09:38:05</td>\n",
       "      <td>[susbrock, model_DB_visual_wake_words, bifxvci5]</td>\n",
       "      <td>None</td>\n",
       "      <td>0.836906</td>\n",
       "    </tr>\n",
       "    <tr>\n",
       "      <th>394</th>\n",
       "      <td>i95ulh4b</td>\n",
       "      <td>shufflenetv1_0.2_96_c3_o2_g2</td>\n",
       "      <td>finished</td>\n",
       "      <td>15.0</td>\n",
       "      <td>https://wandb.ai/susbrock/model_DB_visual_wake...</td>\n",
       "      <td>shufflenetv1_0.2_96_c3_o2_g2</td>\n",
       "      <td>50.0</td>\n",
       "      <td>2.0</td>\n",
       "      <td>vvw_minval_datagen_fix</td>\n",
       "      <td>NaN</td>\n",
       "      <td>0.9</td>\n",
       "      <td>Adam</td>\n",
       "      <td>50.0</td>\n",
       "      <td>0.001</td>\n",
       "      <td>0.9</td>\n",
       "      <td>[]</td>\n",
       "      <td>2023-02-12T09:31:40</td>\n",
       "      <td>[susbrock, model_DB_visual_wake_words, i95ulh4b]</td>\n",
       "      <td>None</td>\n",
       "      <td>0.806987</td>\n",
       "    </tr>\n",
       "    <tr>\n",
       "      <th>395</th>\n",
       "      <td>2ipboc60</td>\n",
       "      <td>shufflenetv1_0.2_96_c3_o2_g1</td>\n",
       "      <td>finished</td>\n",
       "      <td>15.0</td>\n",
       "      <td>https://wandb.ai/susbrock/model_DB_visual_wake...</td>\n",
       "      <td>shufflenetv1_0.2_96_c3_o2_g1</td>\n",
       "      <td>50.0</td>\n",
       "      <td>2.0</td>\n",
       "      <td>vvw_minval_datagen_fix</td>\n",
       "      <td>NaN</td>\n",
       "      <td>0.9</td>\n",
       "      <td>Adam</td>\n",
       "      <td>50.0</td>\n",
       "      <td>0.001</td>\n",
       "      <td>0.9</td>\n",
       "      <td>[]</td>\n",
       "      <td>2023-02-11T21:24:57</td>\n",
       "      <td>[susbrock, model_DB_visual_wake_words, 2ipboc60]</td>\n",
       "      <td>None</td>\n",
       "      <td>0.850588</td>\n",
       "    </tr>\n",
       "  </tbody>\n",
       "</table>\n",
       "<p>396 rows × 20 columns</p>\n",
       "</div>"
      ],
      "text/plain": [
       "           id                                        run_name     state  seed  \\\n",
       "0    221kp6pp  mobilenettiny_0.7_96_c3_o2_l4ll16pl64b0.25.MV1  finished  15.0   \n",
       "1    hztea71r           mobilenetv2_0.25_96_c3_o2_t3l1024.MV1  finished  15.0   \n",
       "2    8g5sok4t           mobilenetv2_0.25_96_c3_o2_t2l1024.MV1  finished  15.0   \n",
       "3    wnpfa3mk           mobilenetv2_0.25_96_c3_o2_t1l1024.MV1  finished  15.0   \n",
       "4    y2iays89           mobilenetv2_0.25_96_c3_o2_t1l1280.MV1  finished  15.0   \n",
       "..        ...                                             ...       ...   ...   \n",
       "391  mtfe7uja                    shufflenetv1_0.2_96_c3_o2_g3  finished  15.0   \n",
       "392  z01mbqbh             MobilenetV3small_0.2_96_c3_o2_keras  finished  15.0   \n",
       "393  bifxvci5             MobilenetV3small_0.1_96_c3_o2_keras  finished  15.0   \n",
       "394  i95ulh4b                    shufflenetv1_0.2_96_c3_o2_g2  finished  15.0   \n",
       "395  2ipboc60                    shufflenetv1_0.2_96_c3_o2_g1  finished  15.0   \n",
       "\n",
       "                                                   url  \\\n",
       "0    https://wandb.ai/susbrock/model_DB_visual_wake...   \n",
       "1    https://wandb.ai/susbrock/model_DB_visual_wake...   \n",
       "2    https://wandb.ai/susbrock/model_DB_visual_wake...   \n",
       "3    https://wandb.ai/susbrock/model_DB_visual_wake...   \n",
       "4    https://wandb.ai/susbrock/model_DB_visual_wake...   \n",
       "..                                                 ...   \n",
       "391  https://wandb.ai/susbrock/model_DB_visual_wake...   \n",
       "392  https://wandb.ai/susbrock/model_DB_visual_wake...   \n",
       "393  https://wandb.ai/susbrock/model_DB_visual_wake...   \n",
       "394  https://wandb.ai/susbrock/model_DB_visual_wake...   \n",
       "395  https://wandb.ai/susbrock/model_DB_visual_wake...   \n",
       "\n",
       "                                       architecture  epochs  classes  \\\n",
       "0    mobilenettiny_0.7_96_c3_o2_l4ll16pl64b0.25.MV1    50.0      2.0   \n",
       "1             mobilenetv2_0.25_96_c3_o2_t3l1024.MV1    50.0      2.0   \n",
       "2             mobilenetv2_0.25_96_c3_o2_t2l1024.MV1    50.0      2.0   \n",
       "3             mobilenetv2_0.25_96_c3_o2_t1l1024.MV1    50.0      2.0   \n",
       "4             mobilenetv2_0.25_96_c3_o2_t1l1280.MV1    50.0      2.0   \n",
       "..                                              ...     ...      ...   \n",
       "391                    shufflenetv1_0.2_96_c3_o2_g3    50.0      2.0   \n",
       "392             MobilenetV3small_0.2_96_c3_o2_keras    50.0      2.0   \n",
       "393             MobilenetV3small_0.1_96_c3_o2_keras    50.0      2.0   \n",
       "394                    shufflenetv1_0.2_96_c3_o2_g2    50.0      2.0   \n",
       "395                    shufflenetv1_0.2_96_c3_o2_g1    50.0      2.0   \n",
       "\n",
       "                    dataset hostname  momentum optimizer  batch_size  \\\n",
       "0    vvw_minval_datagen_fix  HP-Omen       0.9      Adam        50.0   \n",
       "1    vvw_minval_datagen_fix  HP-Omen       0.9      Adam        50.0   \n",
       "2    vvw_minval_datagen_fix  HP-Omen       0.9      Adam        50.0   \n",
       "3    vvw_minval_datagen_fix  HP-Omen       0.9      Adam        50.0   \n",
       "4    vvw_minval_datagen_fix  HP-Omen       0.9      Adam        50.0   \n",
       "..                      ...      ...       ...       ...         ...   \n",
       "391  vvw_minval_datagen_fix      NaN       0.9      Adam        50.0   \n",
       "392  vvw_minval_datagen_fix      NaN       0.9      Adam        50.0   \n",
       "393  vvw_minval_datagen_fix      NaN       0.9      Adam        50.0   \n",
       "394  vvw_minval_datagen_fix      NaN       0.9      Adam        50.0   \n",
       "395  vvw_minval_datagen_fix      NaN       0.9      Adam        50.0   \n",
       "\n",
       "     learn_rate  batch_norm_momentum tags           created_at  \\\n",
       "0         0.001                  0.9   []  2023-06-24T05:26:03   \n",
       "1         0.001                  0.9   []  2023-06-24T00:36:33   \n",
       "2         0.001                  0.9   []  2023-06-23T20:37:41   \n",
       "3         0.001                  0.9   []  2023-06-23T14:35:50   \n",
       "4         0.001                  0.9   []  2023-06-23T10:17:00   \n",
       "..          ...                  ...  ...                  ...   \n",
       "391       0.001                  0.9   []  2023-02-12T20:17:56   \n",
       "392       0.001                  0.9   []  2023-02-12T16:37:37   \n",
       "393       0.001                  0.9   []  2023-02-12T09:38:05   \n",
       "394       0.001                  0.9   []  2023-02-12T09:31:40   \n",
       "395       0.001                  0.9   []  2023-02-11T21:24:57   \n",
       "\n",
       "                                                 path       notes  \\\n",
       "0    [susbrock, model_DB_visual_wake_words, 221kp6pp]        None   \n",
       "1    [susbrock, model_DB_visual_wake_words, hztea71r]        None   \n",
       "2    [susbrock, model_DB_visual_wake_words, 8g5sok4t]        None   \n",
       "3    [susbrock, model_DB_visual_wake_words, wnpfa3mk]        None   \n",
       "4    [susbrock, model_DB_visual_wake_words, y2iays89]        None   \n",
       "..                                                ...         ...   \n",
       "391  [susbrock, model_DB_visual_wake_words, mtfe7uja]  before fix   \n",
       "392  [susbrock, model_DB_visual_wake_words, z01mbqbh]        None   \n",
       "393  [susbrock, model_DB_visual_wake_words, bifxvci5]        None   \n",
       "394  [susbrock, model_DB_visual_wake_words, i95ulh4b]        None   \n",
       "395  [susbrock, model_DB_visual_wake_words, 2ipboc60]        None   \n",
       "\n",
       "     test_accuracy  \n",
       "0         0.881419  \n",
       "1         0.823497  \n",
       "2         0.808538  \n",
       "3         0.785825  \n",
       "4         0.793487  \n",
       "..             ...  \n",
       "391       0.829061  \n",
       "392       0.842835  \n",
       "393       0.836906  \n",
       "394       0.806987  \n",
       "395       0.850588  \n",
       "\n",
       "[396 rows x 20 columns]"
      ]
     },
     "execution_count": 29,
     "metadata": {},
     "output_type": "execute_result"
    }
   ],
   "source": [
    "training_df"
   ]
  },
  {
   "cell_type": "code",
   "execution_count": 30,
   "metadata": {},
   "outputs": [
    {
     "data": {
      "text/plain": [
       "Index(['id', 'run_name', 'state', 'MACs', 'url', 'architecture', 'FLOPs',\n",
       "       'alpha', 'classes', 'img_res', 'OPS_mltk', 'channels', 'macs_mltk',\n",
       "       'variation', 'energy_mltk', 'total_params', 'OPS_INT8_mltk',\n",
       "       'model_size_kb', 'peak_memory_b', 'macs_INT8_mltk', 'energy_INT8_mltk',\n",
       "       'trainable_params', 'non_trainable_params', 'tflite_model_size_kb',\n",
       "       'flash_model_size_b_mltk', 'n_unsupported_layers_mltk',\n",
       "       'tflite_model_INT8_size_kb', 'flash_model_size_b__INT8_mltk',\n",
       "       'RAM_runtime_memory_size_b_mltk', 'n_unsupported_layers_INT8_mltk',\n",
       "       'RAM_runtime_memory_size_b_INT8_mltk', 'opt_RAM_mltk',\n",
       "       'opt_RAM_INT8_mltk', 'tags', 'created_at', 'path', 'notes',\n",
       "       'test_accuracy', 'inference_avg_us', 'stm32_inference_ms_INT8'],\n",
       "      dtype='object')"
      ]
     },
     "execution_count": 30,
     "metadata": {},
     "output_type": "execute_result"
    }
   ],
   "source": [
    "df.columns"
   ]
  },
  {
   "cell_type": "code",
   "execution_count": 31,
   "metadata": {},
   "outputs": [],
   "source": [
    "def get_untrained_models():\n",
    "    df = wandb_model_DB()\n",
    "    df = df.dropna()\n",
    "    wandb_untrained_df = df[df[\"test_accuracy\"]==0]\n",
    "    architectures = wandb_untrained_df[\"architecture\"].unique().tolist()\n",
    "    return architectures"
   ]
  },
  {
   "cell_type": "code",
   "execution_count": 32,
   "metadata": {},
   "outputs": [
    {
     "data": {
      "text/html": [
       "<div>\n",
       "<style scoped>\n",
       "    .dataframe tbody tr th:only-of-type {\n",
       "        vertical-align: middle;\n",
       "    }\n",
       "\n",
       "    .dataframe tbody tr th {\n",
       "        vertical-align: top;\n",
       "    }\n",
       "\n",
       "    .dataframe thead th {\n",
       "        text-align: right;\n",
       "    }\n",
       "</style>\n",
       "<table border=\"1\" class=\"dataframe\">\n",
       "  <thead>\n",
       "    <tr style=\"text-align: right;\">\n",
       "      <th></th>\n",
       "      <th>id</th>\n",
       "      <th>run_name</th>\n",
       "      <th>state</th>\n",
       "      <th>MACs</th>\n",
       "      <th>url</th>\n",
       "      <th>architecture</th>\n",
       "      <th>FLOPs</th>\n",
       "      <th>alpha</th>\n",
       "      <th>classes</th>\n",
       "      <th>img_res</th>\n",
       "      <th>OPS_mltk</th>\n",
       "      <th>channels</th>\n",
       "      <th>macs_mltk</th>\n",
       "      <th>variation</th>\n",
       "      <th>energy_mltk</th>\n",
       "      <th>total_params</th>\n",
       "      <th>OPS_INT8_mltk</th>\n",
       "      <th>model_size_kb</th>\n",
       "      <th>peak_memory_b</th>\n",
       "      <th>macs_INT8_mltk</th>\n",
       "      <th>energy_INT8_mltk</th>\n",
       "      <th>trainable_params</th>\n",
       "      <th>non_trainable_params</th>\n",
       "      <th>tflite_model_size_kb</th>\n",
       "      <th>flash_model_size_b_mltk</th>\n",
       "      <th>n_unsupported_layers_mltk</th>\n",
       "      <th>tflite_model_INT8_size_kb</th>\n",
       "      <th>flash_model_size_b__INT8_mltk</th>\n",
       "      <th>RAM_runtime_memory_size_b_mltk</th>\n",
       "      <th>n_unsupported_layers_INT8_mltk</th>\n",
       "      <th>RAM_runtime_memory_size_b_INT8_mltk</th>\n",
       "      <th>opt_RAM_mltk</th>\n",
       "      <th>opt_RAM_INT8_mltk</th>\n",
       "      <th>tags</th>\n",
       "      <th>created_at</th>\n",
       "      <th>path</th>\n",
       "      <th>notes</th>\n",
       "      <th>test_accuracy</th>\n",
       "      <th>inference_avg_us</th>\n",
       "      <th>stm32_inference_ms_INT8</th>\n",
       "    </tr>\n",
       "  </thead>\n",
       "  <tbody>\n",
       "    <tr>\n",
       "      <th>3</th>\n",
       "      <td>z1h2une5</td>\n",
       "      <td>mobilenetv2_0.25_96_c3_o2_t5l1280.MV1</td>\n",
       "      <td>finished</td>\n",
       "      <td>4.626 M</td>\n",
       "      <td>https://wandb.ai/susbrock/model_DB/runs/z1h2une5</td>\n",
       "      <td>mobilenetv2_0.25_96_c3_o2_t5l1280.MV1</td>\n",
       "      <td>9.772 M</td>\n",
       "      <td>0.25</td>\n",
       "      <td>2</td>\n",
       "      <td>96</td>\n",
       "      <td>10047098.0</td>\n",
       "      <td>3</td>\n",
       "      <td>4625680.0</td>\n",
       "      <td>t5l1280.MV1</td>\n",
       "      <td>0.005240</td>\n",
       "      <td>226430</td>\n",
       "      <td>10047098.0</td>\n",
       "      <td>1341.320312</td>\n",
       "      <td>57600.0</td>\n",
       "      <td>4625680.0</td>\n",
       "      <td>0.005240</td>\n",
       "      <td>217166</td>\n",
       "      <td>9264</td>\n",
       "      <td>848.960938</td>\n",
       "      <td>869336.0</td>\n",
       "      <td>0.0</td>\n",
       "      <td>357.562500</td>\n",
       "      <td>366144.0</td>\n",
       "      <td>278176.0</td>\n",
       "      <td>0.0</td>\n",
       "      <td>106340.0</td>\n",
       "      <td>NaN</td>\n",
       "      <td>NaN</td>\n",
       "      <td>[]</td>\n",
       "      <td>2023-06-11T14:22:38</td>\n",
       "      <td>[susbrock, model_DB, z1h2une5]</td>\n",
       "      <td>None</td>\n",
       "      <td>0.0</td>\n",
       "      <td>458.326</td>\n",
       "      <td>NaN</td>\n",
       "    </tr>\n",
       "    <tr>\n",
       "      <th>4</th>\n",
       "      <td>rgk123r5</td>\n",
       "      <td>mobilenetv2_0.25_96_c3_o2_t3l1280.MV1</td>\n",
       "      <td>finished</td>\n",
       "      <td>3.440 M</td>\n",
       "      <td>https://wandb.ai/susbrock/model_DB/runs/rgk123r5</td>\n",
       "      <td>mobilenetv2_0.25_96_c3_o2_t3l1280.MV1</td>\n",
       "      <td>7.240 M</td>\n",
       "      <td>0.25</td>\n",
       "      <td>2</td>\n",
       "      <td>96</td>\n",
       "      <td>7435082.0</td>\n",
       "      <td>3</td>\n",
       "      <td>3439984.0</td>\n",
       "      <td>t3l1280.MV1</td>\n",
       "      <td>0.004130</td>\n",
       "      <td>180646</td>\n",
       "      <td>7435082.0</td>\n",
       "      <td>1163.437500</td>\n",
       "      <td>46080.0</td>\n",
       "      <td>3439984.0</td>\n",
       "      <td>0.004130</td>\n",
       "      <td>173750</td>\n",
       "      <td>6896</td>\n",
       "      <td>688.226562</td>\n",
       "      <td>704744.0</td>\n",
       "      <td>0.0</td>\n",
       "      <td>289.218750</td>\n",
       "      <td>296160.0</td>\n",
       "      <td>222612.0</td>\n",
       "      <td>0.0</td>\n",
       "      <td>85092.0</td>\n",
       "      <td>NaN</td>\n",
       "      <td>NaN</td>\n",
       "      <td>[]</td>\n",
       "      <td>2023-06-11T14:20:17</td>\n",
       "      <td>[susbrock, model_DB, rgk123r5]</td>\n",
       "      <td>None</td>\n",
       "      <td>0.0</td>\n",
       "      <td>330.966</td>\n",
       "      <td>NaN</td>\n",
       "    </tr>\n",
       "    <tr>\n",
       "      <th>5</th>\n",
       "      <td>k5k38p1h</td>\n",
       "      <td>mobilenetv2_0.25_96_c3_o2_t2l1280.MV1</td>\n",
       "      <td>finished</td>\n",
       "      <td>2.847 M</td>\n",
       "      <td>https://wandb.ai/susbrock/model_DB/runs/k5k38p1h</td>\n",
       "      <td>mobilenetv2_0.25_96_c3_o2_t2l1280.MV1</td>\n",
       "      <td>5.974 M</td>\n",
       "      <td>0.25</td>\n",
       "      <td>2</td>\n",
       "      <td>96</td>\n",
       "      <td>6129074.0</td>\n",
       "      <td>3</td>\n",
       "      <td>2847136.0</td>\n",
       "      <td>t2l1280.MV1</td>\n",
       "      <td>0.003561</td>\n",
       "      <td>157754</td>\n",
       "      <td>6129074.0</td>\n",
       "      <td>1072.328125</td>\n",
       "      <td>46080.0</td>\n",
       "      <td>2847136.0</td>\n",
       "      <td>0.003561</td>\n",
       "      <td>152042</td>\n",
       "      <td>5712</td>\n",
       "      <td>607.222656</td>\n",
       "      <td>621796.0</td>\n",
       "      <td>0.0</td>\n",
       "      <td>254.570312</td>\n",
       "      <td>260680.0</td>\n",
       "      <td>217772.0</td>\n",
       "      <td>0.0</td>\n",
       "      <td>80364.0</td>\n",
       "      <td>NaN</td>\n",
       "      <td>NaN</td>\n",
       "      <td>[]</td>\n",
       "      <td>2023-06-11T14:17:44</td>\n",
       "      <td>[susbrock, model_DB, k5k38p1h]</td>\n",
       "      <td>None</td>\n",
       "      <td>0.0</td>\n",
       "      <td>319.540</td>\n",
       "      <td>NaN</td>\n",
       "    </tr>\n",
       "    <tr>\n",
       "      <th>9</th>\n",
       "      <td>qobcxzkd</td>\n",
       "      <td>mobilenetv2_0.2_96_c3_o2_t3l1280.MV1</td>\n",
       "      <td>finished</td>\n",
       "      <td>2.547 M</td>\n",
       "      <td>https://wandb.ai/susbrock/model_DB/runs/qobcxzkd</td>\n",
       "      <td>mobilenetv2_0.2_96_c3_o2_t3l1280.MV1</td>\n",
       "      <td>5.388 M</td>\n",
       "      <td>0.20</td>\n",
       "      <td>2</td>\n",
       "      <td>96</td>\n",
       "      <td>5544119.0</td>\n",
       "      <td>3</td>\n",
       "      <td>2547301.0</td>\n",
       "      <td>t3l1280.MV1</td>\n",
       "      <td>0.003570</td>\n",
       "      <td>136370</td>\n",
       "      <td>5544119.0</td>\n",
       "      <td>990.484375</td>\n",
       "      <td>46080.0</td>\n",
       "      <td>2547301.0</td>\n",
       "      <td>0.003570</td>\n",
       "      <td>130430</td>\n",
       "      <td>5940</td>\n",
       "      <td>522.359375</td>\n",
       "      <td>534896.0</td>\n",
       "      <td>0.0</td>\n",
       "      <td>236.125000</td>\n",
       "      <td>241792.0</td>\n",
       "      <td>219144.0</td>\n",
       "      <td>0.0</td>\n",
       "      <td>81596.0</td>\n",
       "      <td>NaN</td>\n",
       "      <td>NaN</td>\n",
       "      <td>[]</td>\n",
       "      <td>2023-06-11T06:47:58</td>\n",
       "      <td>[susbrock, model_DB, qobcxzkd]</td>\n",
       "      <td>None</td>\n",
       "      <td>0.0</td>\n",
       "      <td>557.091</td>\n",
       "      <td>NaN</td>\n",
       "    </tr>\n",
       "    <tr>\n",
       "      <th>10</th>\n",
       "      <td>qr8nexws</td>\n",
       "      <td>mobilenetv2_0.2_96_c3_o2_t4l1280.MV1</td>\n",
       "      <td>finished</td>\n",
       "      <td>2.910 M</td>\n",
       "      <td>https://wandb.ai/susbrock/model_DB/runs/qr8nexws</td>\n",
       "      <td>mobilenetv2_0.2_96_c3_o2_t4l1280.MV1</td>\n",
       "      <td>6.173 M</td>\n",
       "      <td>0.20</td>\n",
       "      <td>2</td>\n",
       "      <td>96</td>\n",
       "      <td>6358178.0</td>\n",
       "      <td>3</td>\n",
       "      <td>2910172.0</td>\n",
       "      <td>t4l1280.MV1</td>\n",
       "      <td>0.004024</td>\n",
       "      <td>151442</td>\n",
       "      <td>6358178.0</td>\n",
       "      <td>1047.968750</td>\n",
       "      <td>46080.0</td>\n",
       "      <td>2910172.0</td>\n",
       "      <td>0.004024</td>\n",
       "      <td>144582</td>\n",
       "      <td>6860</td>\n",
       "      <td>574.332031</td>\n",
       "      <td>588116.0</td>\n",
       "      <td>0.0</td>\n",
       "      <td>260.078125</td>\n",
       "      <td>266320.0</td>\n",
       "      <td>222472.0</td>\n",
       "      <td>0.0</td>\n",
       "      <td>84952.0</td>\n",
       "      <td>NaN</td>\n",
       "      <td>NaN</td>\n",
       "      <td>[]</td>\n",
       "      <td>2023-06-11T06:42:23</td>\n",
       "      <td>[susbrock, model_DB, qr8nexws]</td>\n",
       "      <td>None</td>\n",
       "      <td>0.0</td>\n",
       "      <td>666.139</td>\n",
       "      <td>NaN</td>\n",
       "    </tr>\n",
       "    <tr>\n",
       "      <th>...</th>\n",
       "      <td>...</td>\n",
       "      <td>...</td>\n",
       "      <td>...</td>\n",
       "      <td>...</td>\n",
       "      <td>...</td>\n",
       "      <td>...</td>\n",
       "      <td>...</td>\n",
       "      <td>...</td>\n",
       "      <td>...</td>\n",
       "      <td>...</td>\n",
       "      <td>...</td>\n",
       "      <td>...</td>\n",
       "      <td>...</td>\n",
       "      <td>...</td>\n",
       "      <td>...</td>\n",
       "      <td>...</td>\n",
       "      <td>...</td>\n",
       "      <td>...</td>\n",
       "      <td>...</td>\n",
       "      <td>...</td>\n",
       "      <td>...</td>\n",
       "      <td>...</td>\n",
       "      <td>...</td>\n",
       "      <td>...</td>\n",
       "      <td>...</td>\n",
       "      <td>...</td>\n",
       "      <td>...</td>\n",
       "      <td>...</td>\n",
       "      <td>...</td>\n",
       "      <td>...</td>\n",
       "      <td>...</td>\n",
       "      <td>...</td>\n",
       "      <td>...</td>\n",
       "      <td>...</td>\n",
       "      <td>...</td>\n",
       "      <td>...</td>\n",
       "      <td>...</td>\n",
       "      <td>...</td>\n",
       "      <td>...</td>\n",
       "      <td>...</td>\n",
       "    </tr>\n",
       "    <tr>\n",
       "      <th>384</th>\n",
       "      <td>du0odk9c</td>\n",
       "      <td>mobilenetv1_1_96_c3_o2_l5</td>\n",
       "      <td>finished</td>\n",
       "      <td>104.276 M</td>\n",
       "      <td>https://wandb.ai/susbrock/model_DB/runs/du0odk9c</td>\n",
       "      <td>mobilenetv1_1_96_c3_o2_l5</td>\n",
       "      <td>211.332 M</td>\n",
       "      <td>1.00</td>\n",
       "      <td>2</td>\n",
       "      <td>96</td>\n",
       "      <td>211331596.0</td>\n",
       "      <td>3</td>\n",
       "      <td>104276480.0</td>\n",
       "      <td>l5</td>\n",
       "      <td>0.038143</td>\n",
       "      <td>3241858</td>\n",
       "      <td>211442196.0</td>\n",
       "      <td>12921.484375</td>\n",
       "      <td>221184.0</td>\n",
       "      <td>104276480.0</td>\n",
       "      <td>0.038342</td>\n",
       "      <td>3219970</td>\n",
       "      <td>21888</td>\n",
       "      <td>12477.226562</td>\n",
       "      <td>12776680.0</td>\n",
       "      <td>0.0</td>\n",
       "      <td>3401.656250</td>\n",
       "      <td>3483296.0</td>\n",
       "      <td>978132.0</td>\n",
       "      <td>0.0</td>\n",
       "      <td>315076.0</td>\n",
       "      <td>NaN</td>\n",
       "      <td>NaN</td>\n",
       "      <td>[]</td>\n",
       "      <td>2023-02-05T21:14:22</td>\n",
       "      <td>[susbrock, model_DB, du0odk9c]</td>\n",
       "      <td>None</td>\n",
       "      <td>0.0</td>\n",
       "      <td>7317.360</td>\n",
       "      <td>NaN</td>\n",
       "    </tr>\n",
       "    <tr>\n",
       "      <th>385</th>\n",
       "      <td>y0pb3qam</td>\n",
       "      <td>mobilenetv1_1_96_c3_o2_l4</td>\n",
       "      <td>finished</td>\n",
       "      <td>94.673 M</td>\n",
       "      <td>https://wandb.ai/susbrock/model_DB/runs/y0pb3qam</td>\n",
       "      <td>mobilenetv1_1_96_c3_o2_l4</td>\n",
       "      <td>192.015 M</td>\n",
       "      <td>1.00</td>\n",
       "      <td>2</td>\n",
       "      <td>96</td>\n",
       "      <td>192014860.0</td>\n",
       "      <td>3</td>\n",
       "      <td>94673408.0</td>\n",
       "      <td>l4</td>\n",
       "      <td>0.036472</td>\n",
       "      <td>2969986</td>\n",
       "      <td>192125460.0</td>\n",
       "      <td>11842.484375</td>\n",
       "      <td>221184.0</td>\n",
       "      <td>94673408.0</td>\n",
       "      <td>0.036671</td>\n",
       "      <td>2950146</td>\n",
       "      <td>19840</td>\n",
       "      <td>11433.972656</td>\n",
       "      <td>11708388.0</td>\n",
       "      <td>0.0</td>\n",
       "      <td>3115.492188</td>\n",
       "      <td>3190264.0</td>\n",
       "      <td>969540.0</td>\n",
       "      <td>0.0</td>\n",
       "      <td>306512.0</td>\n",
       "      <td>NaN</td>\n",
       "      <td>NaN</td>\n",
       "      <td>[]</td>\n",
       "      <td>2023-02-05T21:12:48</td>\n",
       "      <td>[susbrock, model_DB, y0pb3qam]</td>\n",
       "      <td>None</td>\n",
       "      <td>0.0</td>\n",
       "      <td>6755.600</td>\n",
       "      <td>NaN</td>\n",
       "    </tr>\n",
       "    <tr>\n",
       "      <th>386</th>\n",
       "      <td>407blxzt</td>\n",
       "      <td>mobilenetv1_1_96_c3_o2_l3</td>\n",
       "      <td>finished</td>\n",
       "      <td>85.070 M</td>\n",
       "      <td>https://wandb.ai/susbrock/model_DB/runs/407blxzt</td>\n",
       "      <td>mobilenetv1_1_96_c3_o2_l3</td>\n",
       "      <td>172.698 M</td>\n",
       "      <td>1.00</td>\n",
       "      <td>2</td>\n",
       "      <td>96</td>\n",
       "      <td>172698124.0</td>\n",
       "      <td>3</td>\n",
       "      <td>85070336.0</td>\n",
       "      <td>l3</td>\n",
       "      <td>0.034801</td>\n",
       "      <td>2698114</td>\n",
       "      <td>172808724.0</td>\n",
       "      <td>10761.812500</td>\n",
       "      <td>221184.0</td>\n",
       "      <td>85070336.0</td>\n",
       "      <td>0.035000</td>\n",
       "      <td>2680322</td>\n",
       "      <td>17792</td>\n",
       "      <td>10390.718750</td>\n",
       "      <td>10640096.0</td>\n",
       "      <td>0.0</td>\n",
       "      <td>2829.335938</td>\n",
       "      <td>2897240.0</td>\n",
       "      <td>961076.0</td>\n",
       "      <td>0.0</td>\n",
       "      <td>297948.0</td>\n",
       "      <td>NaN</td>\n",
       "      <td>NaN</td>\n",
       "      <td>[]</td>\n",
       "      <td>2023-02-05T21:11:17</td>\n",
       "      <td>[susbrock, model_DB, 407blxzt]</td>\n",
       "      <td>None</td>\n",
       "      <td>0.0</td>\n",
       "      <td>6612.470</td>\n",
       "      <td>NaN</td>\n",
       "    </tr>\n",
       "    <tr>\n",
       "      <th>387</th>\n",
       "      <td>hf4jz04b</td>\n",
       "      <td>mobilenetv1_1_96_c3_o2_l2</td>\n",
       "      <td>finished</td>\n",
       "      <td>75.467 M</td>\n",
       "      <td>https://wandb.ai/susbrock/model_DB/runs/hf4jz04b</td>\n",
       "      <td>mobilenetv1_1_96_c3_o2_l2</td>\n",
       "      <td>153.381 M</td>\n",
       "      <td>1.00</td>\n",
       "      <td>2</td>\n",
       "      <td>96</td>\n",
       "      <td>153381388.0</td>\n",
       "      <td>3</td>\n",
       "      <td>75467264.0</td>\n",
       "      <td>l2</td>\n",
       "      <td>0.033130</td>\n",
       "      <td>2426242</td>\n",
       "      <td>153491988.0</td>\n",
       "      <td>9683.015625</td>\n",
       "      <td>221184.0</td>\n",
       "      <td>75467264.0</td>\n",
       "      <td>0.033329</td>\n",
       "      <td>2410498</td>\n",
       "      <td>15744</td>\n",
       "      <td>9347.464844</td>\n",
       "      <td>9571804.0</td>\n",
       "      <td>0.0</td>\n",
       "      <td>2543.195312</td>\n",
       "      <td>2604232.0</td>\n",
       "      <td>952484.0</td>\n",
       "      <td>0.0</td>\n",
       "      <td>289384.0</td>\n",
       "      <td>NaN</td>\n",
       "      <td>NaN</td>\n",
       "      <td>[]</td>\n",
       "      <td>2023-02-05T21:09:39</td>\n",
       "      <td>[susbrock, model_DB, hf4jz04b]</td>\n",
       "      <td>None</td>\n",
       "      <td>0.0</td>\n",
       "      <td>6686.930</td>\n",
       "      <td>NaN</td>\n",
       "    </tr>\n",
       "    <tr>\n",
       "      <th>388</th>\n",
       "      <td>sx9lbvdk</td>\n",
       "      <td>mobilenetv1_1_96_c3_o2_l1</td>\n",
       "      <td>finished</td>\n",
       "      <td>65.864 M</td>\n",
       "      <td>https://wandb.ai/susbrock/model_DB/runs/sx9lbvdk</td>\n",
       "      <td>mobilenetv1_1_96_c3_o2_l1</td>\n",
       "      <td>134.065 M</td>\n",
       "      <td>1.00</td>\n",
       "      <td>2</td>\n",
       "      <td>96</td>\n",
       "      <td>134064652.0</td>\n",
       "      <td>3</td>\n",
       "      <td>65864192.0</td>\n",
       "      <td>l1</td>\n",
       "      <td>0.031458</td>\n",
       "      <td>2154370</td>\n",
       "      <td>134175252.0</td>\n",
       "      <td>8621.843750</td>\n",
       "      <td>221184.0</td>\n",
       "      <td>65864192.0</td>\n",
       "      <td>0.031658</td>\n",
       "      <td>2140674</td>\n",
       "      <td>13696</td>\n",
       "      <td>8304.214844</td>\n",
       "      <td>8503516.0</td>\n",
       "      <td>0.0</td>\n",
       "      <td>2257.054688</td>\n",
       "      <td>2311224.0</td>\n",
       "      <td>944020.0</td>\n",
       "      <td>0.0</td>\n",
       "      <td>280820.0</td>\n",
       "      <td>NaN</td>\n",
       "      <td>NaN</td>\n",
       "      <td>[]</td>\n",
       "      <td>2023-02-05T21:08:12</td>\n",
       "      <td>[susbrock, model_DB, sx9lbvdk]</td>\n",
       "      <td>None</td>\n",
       "      <td>0.0</td>\n",
       "      <td>5842.580</td>\n",
       "      <td>NaN</td>\n",
       "    </tr>\n",
       "  </tbody>\n",
       "</table>\n",
       "<p>133 rows × 40 columns</p>\n",
       "</div>"
      ],
      "text/plain": [
       "           id                               run_name     state       MACs  \\\n",
       "3    z1h2une5  mobilenetv2_0.25_96_c3_o2_t5l1280.MV1  finished    4.626 M   \n",
       "4    rgk123r5  mobilenetv2_0.25_96_c3_o2_t3l1280.MV1  finished    3.440 M   \n",
       "5    k5k38p1h  mobilenetv2_0.25_96_c3_o2_t2l1280.MV1  finished    2.847 M   \n",
       "9    qobcxzkd   mobilenetv2_0.2_96_c3_o2_t3l1280.MV1  finished    2.547 M   \n",
       "10   qr8nexws   mobilenetv2_0.2_96_c3_o2_t4l1280.MV1  finished    2.910 M   \n",
       "..        ...                                    ...       ...        ...   \n",
       "384  du0odk9c              mobilenetv1_1_96_c3_o2_l5  finished  104.276 M   \n",
       "385  y0pb3qam              mobilenetv1_1_96_c3_o2_l4  finished   94.673 M   \n",
       "386  407blxzt              mobilenetv1_1_96_c3_o2_l3  finished   85.070 M   \n",
       "387  hf4jz04b              mobilenetv1_1_96_c3_o2_l2  finished   75.467 M   \n",
       "388  sx9lbvdk              mobilenetv1_1_96_c3_o2_l1  finished   65.864 M   \n",
       "\n",
       "                                                  url  \\\n",
       "3    https://wandb.ai/susbrock/model_DB/runs/z1h2une5   \n",
       "4    https://wandb.ai/susbrock/model_DB/runs/rgk123r5   \n",
       "5    https://wandb.ai/susbrock/model_DB/runs/k5k38p1h   \n",
       "9    https://wandb.ai/susbrock/model_DB/runs/qobcxzkd   \n",
       "10   https://wandb.ai/susbrock/model_DB/runs/qr8nexws   \n",
       "..                                                ...   \n",
       "384  https://wandb.ai/susbrock/model_DB/runs/du0odk9c   \n",
       "385  https://wandb.ai/susbrock/model_DB/runs/y0pb3qam   \n",
       "386  https://wandb.ai/susbrock/model_DB/runs/407blxzt   \n",
       "387  https://wandb.ai/susbrock/model_DB/runs/hf4jz04b   \n",
       "388  https://wandb.ai/susbrock/model_DB/runs/sx9lbvdk   \n",
       "\n",
       "                              architecture      FLOPs  alpha  classes  \\\n",
       "3    mobilenetv2_0.25_96_c3_o2_t5l1280.MV1    9.772 M   0.25        2   \n",
       "4    mobilenetv2_0.25_96_c3_o2_t3l1280.MV1    7.240 M   0.25        2   \n",
       "5    mobilenetv2_0.25_96_c3_o2_t2l1280.MV1    5.974 M   0.25        2   \n",
       "9     mobilenetv2_0.2_96_c3_o2_t3l1280.MV1    5.388 M   0.20        2   \n",
       "10    mobilenetv2_0.2_96_c3_o2_t4l1280.MV1    6.173 M   0.20        2   \n",
       "..                                     ...        ...    ...      ...   \n",
       "384              mobilenetv1_1_96_c3_o2_l5  211.332 M   1.00        2   \n",
       "385              mobilenetv1_1_96_c3_o2_l4  192.015 M   1.00        2   \n",
       "386              mobilenetv1_1_96_c3_o2_l3  172.698 M   1.00        2   \n",
       "387              mobilenetv1_1_96_c3_o2_l2  153.381 M   1.00        2   \n",
       "388              mobilenetv1_1_96_c3_o2_l1  134.065 M   1.00        2   \n",
       "\n",
       "     img_res     OPS_mltk  channels    macs_mltk    variation  energy_mltk  \\\n",
       "3         96   10047098.0         3    4625680.0  t5l1280.MV1     0.005240   \n",
       "4         96    7435082.0         3    3439984.0  t3l1280.MV1     0.004130   \n",
       "5         96    6129074.0         3    2847136.0  t2l1280.MV1     0.003561   \n",
       "9         96    5544119.0         3    2547301.0  t3l1280.MV1     0.003570   \n",
       "10        96    6358178.0         3    2910172.0  t4l1280.MV1     0.004024   \n",
       "..       ...          ...       ...          ...          ...          ...   \n",
       "384       96  211331596.0         3  104276480.0           l5     0.038143   \n",
       "385       96  192014860.0         3   94673408.0           l4     0.036472   \n",
       "386       96  172698124.0         3   85070336.0           l3     0.034801   \n",
       "387       96  153381388.0         3   75467264.0           l2     0.033130   \n",
       "388       96  134064652.0         3   65864192.0           l1     0.031458   \n",
       "\n",
       "     total_params  OPS_INT8_mltk  model_size_kb  peak_memory_b  \\\n",
       "3          226430     10047098.0    1341.320312        57600.0   \n",
       "4          180646      7435082.0    1163.437500        46080.0   \n",
       "5          157754      6129074.0    1072.328125        46080.0   \n",
       "9          136370      5544119.0     990.484375        46080.0   \n",
       "10         151442      6358178.0    1047.968750        46080.0   \n",
       "..            ...            ...            ...            ...   \n",
       "384       3241858    211442196.0   12921.484375       221184.0   \n",
       "385       2969986    192125460.0   11842.484375       221184.0   \n",
       "386       2698114    172808724.0   10761.812500       221184.0   \n",
       "387       2426242    153491988.0    9683.015625       221184.0   \n",
       "388       2154370    134175252.0    8621.843750       221184.0   \n",
       "\n",
       "     macs_INT8_mltk  energy_INT8_mltk  trainable_params  non_trainable_params  \\\n",
       "3         4625680.0          0.005240            217166                  9264   \n",
       "4         3439984.0          0.004130            173750                  6896   \n",
       "5         2847136.0          0.003561            152042                  5712   \n",
       "9         2547301.0          0.003570            130430                  5940   \n",
       "10        2910172.0          0.004024            144582                  6860   \n",
       "..              ...               ...               ...                   ...   \n",
       "384     104276480.0          0.038342           3219970                 21888   \n",
       "385      94673408.0          0.036671           2950146                 19840   \n",
       "386      85070336.0          0.035000           2680322                 17792   \n",
       "387      75467264.0          0.033329           2410498                 15744   \n",
       "388      65864192.0          0.031658           2140674                 13696   \n",
       "\n",
       "     tflite_model_size_kb  flash_model_size_b_mltk  n_unsupported_layers_mltk  \\\n",
       "3              848.960938                 869336.0                        0.0   \n",
       "4              688.226562                 704744.0                        0.0   \n",
       "5              607.222656                 621796.0                        0.0   \n",
       "9              522.359375                 534896.0                        0.0   \n",
       "10             574.332031                 588116.0                        0.0   \n",
       "..                    ...                      ...                        ...   \n",
       "384          12477.226562               12776680.0                        0.0   \n",
       "385          11433.972656               11708388.0                        0.0   \n",
       "386          10390.718750               10640096.0                        0.0   \n",
       "387           9347.464844                9571804.0                        0.0   \n",
       "388           8304.214844                8503516.0                        0.0   \n",
       "\n",
       "     tflite_model_INT8_size_kb  flash_model_size_b__INT8_mltk  \\\n",
       "3                   357.562500                       366144.0   \n",
       "4                   289.218750                       296160.0   \n",
       "5                   254.570312                       260680.0   \n",
       "9                   236.125000                       241792.0   \n",
       "10                  260.078125                       266320.0   \n",
       "..                         ...                            ...   \n",
       "384                3401.656250                      3483296.0   \n",
       "385                3115.492188                      3190264.0   \n",
       "386                2829.335938                      2897240.0   \n",
       "387                2543.195312                      2604232.0   \n",
       "388                2257.054688                      2311224.0   \n",
       "\n",
       "     RAM_runtime_memory_size_b_mltk  n_unsupported_layers_INT8_mltk  \\\n",
       "3                          278176.0                             0.0   \n",
       "4                          222612.0                             0.0   \n",
       "5                          217772.0                             0.0   \n",
       "9                          219144.0                             0.0   \n",
       "10                         222472.0                             0.0   \n",
       "..                              ...                             ...   \n",
       "384                        978132.0                             0.0   \n",
       "385                        969540.0                             0.0   \n",
       "386                        961076.0                             0.0   \n",
       "387                        952484.0                             0.0   \n",
       "388                        944020.0                             0.0   \n",
       "\n",
       "     RAM_runtime_memory_size_b_INT8_mltk  opt_RAM_mltk  opt_RAM_INT8_mltk  \\\n",
       "3                               106340.0           NaN                NaN   \n",
       "4                                85092.0           NaN                NaN   \n",
       "5                                80364.0           NaN                NaN   \n",
       "9                                81596.0           NaN                NaN   \n",
       "10                               84952.0           NaN                NaN   \n",
       "..                                   ...           ...                ...   \n",
       "384                             315076.0           NaN                NaN   \n",
       "385                             306512.0           NaN                NaN   \n",
       "386                             297948.0           NaN                NaN   \n",
       "387                             289384.0           NaN                NaN   \n",
       "388                             280820.0           NaN                NaN   \n",
       "\n",
       "    tags           created_at                            path notes  \\\n",
       "3     []  2023-06-11T14:22:38  [susbrock, model_DB, z1h2une5]  None   \n",
       "4     []  2023-06-11T14:20:17  [susbrock, model_DB, rgk123r5]  None   \n",
       "5     []  2023-06-11T14:17:44  [susbrock, model_DB, k5k38p1h]  None   \n",
       "9     []  2023-06-11T06:47:58  [susbrock, model_DB, qobcxzkd]  None   \n",
       "10    []  2023-06-11T06:42:23  [susbrock, model_DB, qr8nexws]  None   \n",
       "..   ...                  ...                             ...   ...   \n",
       "384   []  2023-02-05T21:14:22  [susbrock, model_DB, du0odk9c]  None   \n",
       "385   []  2023-02-05T21:12:48  [susbrock, model_DB, y0pb3qam]  None   \n",
       "386   []  2023-02-05T21:11:17  [susbrock, model_DB, 407blxzt]  None   \n",
       "387   []  2023-02-05T21:09:39  [susbrock, model_DB, hf4jz04b]  None   \n",
       "388   []  2023-02-05T21:08:12  [susbrock, model_DB, sx9lbvdk]  None   \n",
       "\n",
       "     test_accuracy  inference_avg_us  stm32_inference_ms_INT8  \n",
       "3              0.0           458.326                      NaN  \n",
       "4              0.0           330.966                      NaN  \n",
       "5              0.0           319.540                      NaN  \n",
       "9              0.0           557.091                      NaN  \n",
       "10             0.0           666.139                      NaN  \n",
       "..             ...               ...                      ...  \n",
       "384            0.0          7317.360                      NaN  \n",
       "385            0.0          6755.600                      NaN  \n",
       "386            0.0          6612.470                      NaN  \n",
       "387            0.0          6686.930                      NaN  \n",
       "388            0.0          5842.580                      NaN  \n",
       "\n",
       "[133 rows x 40 columns]"
      ]
     },
     "execution_count": 32,
     "metadata": {},
     "output_type": "execute_result"
    }
   ],
   "source": [
    "wandb_untrained_df = df[df[\"test_accuracy\"]<0.5]  #.test_accuracy==0].copy\n",
    "wandb_untrained_df"
   ]
  },
  {
   "cell_type": "code",
   "execution_count": 33,
   "metadata": {},
   "outputs": [
    {
     "data": {
      "text/plain": [
       "['mobilenetv2_0.25_96_c3_o2_t5l1280.MV1',\n",
       " 'mobilenetv2_0.25_96_c3_o2_t3l1280.MV1',\n",
       " 'mobilenetv2_0.25_96_c3_o2_t2l1280.MV1',\n",
       " 'mobilenetv2_0.2_96_c3_o2_t3l1280.MV1',\n",
       " 'mobilenetv2_0.2_96_c3_o2_t4l1280.MV1',\n",
       " 'mobilenetv2_0.2_96_c3_o2_t5l1280.MV1',\n",
       " 'mobilenettiny_0.7_96_c3_o2_l1ll16pl64b0.25.MV1LRE',\n",
       " 'mobilenettiny_0.7_96_c3_o2_l4ll16pl64b0.25.MV1',\n",
       " 'shufflenetv1_1_96_c3_o2_g1',\n",
       " 'shufflenetv1_1_96_c3_o2_g2',\n",
       " 'shufflenetv1_1_96_c3_o2_g3',\n",
       " 'shufflenetv1_1_96_c3_o2_g4',\n",
       " 'shufflenetv1_1_96_c3_o2_g8',\n",
       " 'shufflenetv1_0.5_96_c3_o2_g8',\n",
       " 'shufflenetv1_0.5_96_c3_o2_g3',\n",
       " 'shufflenetv1_0.5_96_c3_o2_g1',\n",
       " 'shufflenetv1_0.25_96_c3_o2_g8',\n",
       " 'mobilenettiny_0.7_96_c3_o2_l5ll32pl128b0.25.MV1LRE',\n",
       " 'mobilenettiny_0.7_96_c3_o2_l5ll32pl256b0.25.MV1LRE',\n",
       " 'shufflenetv2tiny_0.2_96_c3_o2_f12l16',\n",
       " 'shufflenetv2tiny_0.2_96_c3_o2_f12l32',\n",
       " 'shufflenetv2tiny_0.2_96_c3_o2_f12l64',\n",
       " 'shufflenetv2tiny_0.2_96_c3_o2_f24l16',\n",
       " 'shufflenetv2tiny_0.25_96_c3_o2_f24l32',\n",
       " 'shufflenetv2tiny_0.25_96_c3_o2_f24l64',\n",
       " 'mobilenetv3smallSQ_0.05_96_c3_o2_se4l64pl64.MV3',\n",
       " 'mobilenetv3smallNSQ_0.1_96_c3_o2_se4l1280pl576.MV3',\n",
       " 'mobilenetv3smallNSQ_0.05_96_c3_o2_se4l1280pl576.MV3',\n",
       " 'mobilenetv3smallNSQ_0.05_96_c3_o2_se4l64pl576.MV3',\n",
       " 'mobilenetv3smallNSQ_0.25_96_c3_o2_se4l64pl576.MV3',\n",
       " 'mobilenetv3smallNSQ_0.1_96_c3_o2_se4l64pl64.MV3',\n",
       " 'mobilenetv3smallNSQ_0.05_96_c3_o2_se4l64pl64.MV3',\n",
       " 'mobilenetv2_0.25_96_c3_o2_t4l1280.MV1',\n",
       " 'mobilenetv2_0.2_96_c3_o2_t6l1280.MV1',\n",
       " 'mobilenetv2_0.25_96_c3_o2_t6l1280.MV1',\n",
       " 'mobilenetv2_0.35_96_c3_o2_t6l1024.MV1',\n",
       " 'mobilenetv1_0.1_96_c3_o2_l5ll1024pl512.MV1',\n",
       " 'mobilenetv1_0.3_96_c3_o2_l5ll512pl512.MV1',\n",
       " 'mobilenetv1_0.3_96_c3_o2_l5ll1024.MV1',\n",
       " 'mobilenetv1_0.25_32_c1_o1000_l5ll1024pl512.MV1',\n",
       " 'mobilenetv1_0.25_32_c1_o2_l5ll1024pl512.MV1',\n",
       " 'mobilenetv1_0.25_32_c1_o10_l5ll1024pl512.MV1',\n",
       " 'mobilenetv1_0.25_96_c1_o10_l5ll1024pl512.MV1',\n",
       " 'mobilenetv1_0.25_96_c1_o1000_l5ll1024pl512.MV1',\n",
       " 'mobilenetv1_0.25_224_c1_o1000_l5ll1024pl512.MV1',\n",
       " 'mobilenetv1_0.25_224_c1_o10_l5ll1024pl512.MV1',\n",
       " 'mobilenetv1_0.25_224_c1_o2_l5ll1024pl512.MV1',\n",
       " 'mobilenetv1_0.25_96_c1_o2_l5ll1024pl512.MV1',\n",
       " 'mobilenetv1vww_0.25_96_c3_o2_',\n",
       " 'mobilenetv1_0.25_32_c3_o1000_l5ll1024pl512.MV1',\n",
       " 'mobilenetv1_0.25_224_c3_o1000_l5ll1024pl512.MV1',\n",
       " 'mobilenetv1_0.25_96_c3_o1000_l5ll1024pl512.MV1',\n",
       " 'mobilenettiny_0.7_96_c3_o2_l5ll16pl32b0.25.MV3',\n",
       " 'mobilenetv2_0.05_96_c3_o2_keras',\n",
       " 'shufflenetv2_0.5_96_c3_o2_000BIAS',\n",
       " 'mobilenext_0.1_96_c3_o2_i1st32',\n",
       " 'mobilenettiny.d_0.7_96_c3_o2_l5ll32pl64b0.25.MV1',\n",
       " 'mobilenettinyv2_0.25_96_c3_o2_l5ll16pl64b0.5.MV1',\n",
       " 'mobilenettinyv2_0.25_96_c3_o2_l5ll16pl64b0.25.MV1',\n",
       " 'mobilenettinyv2_0.25_96_c3_o2_l5ll16pl32b0.25.MV1',\n",
       " 'mobilenettinyv2_0.2_96_c3_o2_l5ll16pl64b0.25.MV1',\n",
       " 'mobilenettinyv2_0.35_96_c3_o2_l5ll16pl64b0.25.MV1',\n",
       " 'mobilenettinyv2_0.35_96_c3_o2_l5ll16pl32b0.25.MV1',\n",
       " 'mobilenettinyv2_0.5_96_c3_o2_l5ll16pl32b0.25.MV1',\n",
       " 'mobilenettinyv2_0.5_96_c3_o2_l5ll16pl64b0.25.MV1',\n",
       " 'mobilenettiny_0.7_96_c3_o2_l5ll16pl32b0.25.MV1NBNLR',\n",
       " 'mobilenettiny_0.7_96_c3_o2_l5ll64pl64b0.25.MV1NBNHS',\n",
       " 'mobilenetv1_0.25_96_c3_o1000_l5ll512pl1024b1.MV1',\n",
       " 'mobilenetv1_0.25_96_c3_o1000_l5ll512pl1024b0.25.MV1',\n",
       " 'mobilenetv1_0.25_224_c3_o1000_l5ll512pl1024b1.MV1',\n",
       " 'mobilenetv1_0.25_32_c3_o1000_l5ll512pl1024b1.MV1',\n",
       " 'mobilenetv1_1_96_c3_o2_l5ll64pl64b0.25.MV1NBN',\n",
       " 'mobilenetv1_0.35_96_c3_o2_l5ll256pl512b0.5.MV1NBN',\n",
       " 'mobilenetv1_0.25_96_c3_o2_l5ll256pl512b0.5.MV1NBN',\n",
       " 'mobilenetv1_0.25_96_c3_o2_l5ll128pl512.MV1NBN',\n",
       " 'mobilenetv1_0.35_96_c3_o2_l5ll1024pl512.MV1NBN',\n",
       " 'mobilenetv1_0.25_96_c3_o10_l5ll1024pl512.MV1',\n",
       " 'mobilenetv1_0.25_224_c3_o10_l5ll1024pl512.MV1',\n",
       " 'mobilenetv1_0.25_32_c3_o10_l5ll1024pl512.MV1',\n",
       " 'mobilenetv1_0.25_32_c3_o2_l5ll1024pl512.MV1',\n",
       " 'mobilenetv1_0.25_224_c3_o2_l5ll1024pl512.MV1',\n",
       " 'mobilenetv1_0.3_96_c3_o2_l2ll32pl128.MV1',\n",
       " 'mobilenetv1_0.3_96_c3_o2_l4ll32pl128.MV1',\n",
       " 'mobilenetv1_0.3_96_c3_o2_l3ll32pl128.MV1',\n",
       " 'mobilenetv1_0.3_96_c3_o2_l5ll256.MV1',\n",
       " 'mobilenetv1_0.3_96_c3_o2_l5ll512.MV1',\n",
       " 'mobilenext_0.1_96_c3_o2_i1st16',\n",
       " 'mobilenext_0.2_96_c3_o2_i1',\n",
       " 'mobilenetv3smallNSQ_0.25_96_c3_o2_se4l128pl128.MV3',\n",
       " 'mobilenetv3smallNSQ_0.5_96_c3_o2_se4l32.MV1',\n",
       " 'mobilenetv3small_1_224_c3_o2_000',\n",
       " 'mobilenetv2_0.1_96_c3_o2_t6l64.MV1',\n",
       " 'mobilenext_0.1_96_c3_o2_i1',\n",
       " 'shufflenetv2tiny_0.1_96_c3_o2_f8l1024',\n",
       " 'MobilenetV3small_1_224_c3_o2_keras',\n",
       " 'mobilenetv2_0.25_96_c3_o2_t5l512.MV1',\n",
       " 'mobilenetv2_0.2_96_c3_o2_t2l64.MV1',\n",
       " 'mobilenetv2_0.1_96_c3_o2_t6l512.MV1',\n",
       " 'mobilenetv2_0.1_96_c3_o2_t6l256.MV1',\n",
       " 'mobilenetv2_0.1_96_c3_o2_t6l128.MV1',\n",
       " 'mobilenetv2_0.1_96_c3_o2_t3l1024.MV1',\n",
       " 'mobilenetv2_0.1_96_c3_o2_t4l1024.MV1',\n",
       " 'mobilenetv2_0.1_96_c3_o2_t5l1024.MV1',\n",
       " 'mobilenetv2_0.25_96_c3_o2_t1l1024.MV1',\n",
       " 'mobilenetv2_0.25_96_c3_o2_t2l1024.MV1',\n",
       " 'mobilenetv2_0.25_96_c3_o2_t3l1024.MV1',\n",
       " 'mobilenetv2_0.25_96_c3_o2_t6l1024.GAP',\n",
       " 'mobilenetv1_0.1_224_c3_o2_l5.GAP',\n",
       " 'mobilenetv1_0.1_224_c3_o2_l5.MV1',\n",
       " 'MobilenetV3small_1_96_c3_o3_keras',\n",
       " 'shufflenetv2tiny_0.05_96_c3_o2_f24l1024',\n",
       " 'shufflenetv2tiny_0.2_96_c3_o2_f24l1024',\n",
       " 'shufflenetv2tiny_0.35_96_c3_o2_f24l1024',\n",
       " 'shufflenetv2tiny_0.5_96_c3_o2_f24l1024',\n",
       " 'shufflenetv2_1_96_c3_o2_000',\n",
       " 'shufflenetv2_1_96_c3_o2_nosplit',\n",
       " 'mnasnet_1_96_c3_o2_keras',\n",
       " 'mobilenetv2_0.1_96_c3_o2_l5',\n",
       " 'mobilenetv2_0.2_96_c3_o2_l5',\n",
       " 'mobilenetv2_0.5_96_c3_o2_l5',\n",
       " 'mobilenetv2_0.35_96_c3_o2_l5',\n",
       " 'mobilenetv2_1_96_c3_o2_l5',\n",
       " 'mobilenetv2_1_96_c3_o2_keras',\n",
       " 'mobilenetv2_0.5_96_c3_o2_keras',\n",
       " 'mobilenetv1_1_96_c3_o2_l5',\n",
       " 'mobilenetv1_1_96_c3_o2_l4',\n",
       " 'mobilenetv1_1_96_c3_o2_l3',\n",
       " 'mobilenetv1_1_96_c3_o2_l2',\n",
       " 'mobilenetv1_1_96_c3_o2_l1']"
      ]
     },
     "execution_count": 33,
     "metadata": {},
     "output_type": "execute_result"
    }
   ],
   "source": [
    "architectures = wandb_untrained_df[\"architecture\"].unique().tolist()\n",
    "architectures\n",
    "\n",
    "#for updating just select archtitectures uncomment the code below:\n",
    "#architectures = [\"mobilenetv2_0.25_96_c3_o2_l5\"]"
   ]
  },
  {
   "cell_type": "code",
   "execution_count": 34,
   "metadata": {},
   "outputs": [
    {
     "data": {
      "text/html": [
       "<div>\n",
       "<style scoped>\n",
       "    .dataframe tbody tr th:only-of-type {\n",
       "        vertical-align: middle;\n",
       "    }\n",
       "\n",
       "    .dataframe tbody tr th {\n",
       "        vertical-align: top;\n",
       "    }\n",
       "\n",
       "    .dataframe thead th {\n",
       "        text-align: right;\n",
       "    }\n",
       "</style>\n",
       "<table border=\"1\" class=\"dataframe\">\n",
       "  <thead>\n",
       "    <tr style=\"text-align: right;\">\n",
       "      <th></th>\n",
       "      <th>id</th>\n",
       "      <th>run_name</th>\n",
       "      <th>state</th>\n",
       "      <th>seed</th>\n",
       "      <th>url</th>\n",
       "      <th>architecture</th>\n",
       "      <th>epochs</th>\n",
       "      <th>classes</th>\n",
       "      <th>dataset</th>\n",
       "      <th>hostname</th>\n",
       "      <th>momentum</th>\n",
       "      <th>optimizer</th>\n",
       "      <th>batch_size</th>\n",
       "      <th>learn_rate</th>\n",
       "      <th>batch_norm_momentum</th>\n",
       "      <th>tags</th>\n",
       "      <th>created_at</th>\n",
       "      <th>path</th>\n",
       "      <th>notes</th>\n",
       "      <th>test_accuracy</th>\n",
       "    </tr>\n",
       "  </thead>\n",
       "  <tbody>\n",
       "    <tr>\n",
       "      <th>0</th>\n",
       "      <td>221kp6pp</td>\n",
       "      <td>mobilenettiny_0.7_96_c3_o2_l4ll16pl64b0.25.MV1</td>\n",
       "      <td>finished</td>\n",
       "      <td>15.0</td>\n",
       "      <td>https://wandb.ai/susbrock/model_DB_visual_wake...</td>\n",
       "      <td>mobilenettiny_0.7_96_c3_o2_l4ll16pl64b0.25.MV1</td>\n",
       "      <td>50.0</td>\n",
       "      <td>2.0</td>\n",
       "      <td>vvw_minval_datagen_fix</td>\n",
       "      <td>HP-Omen</td>\n",
       "      <td>0.9</td>\n",
       "      <td>Adam</td>\n",
       "      <td>50.0</td>\n",
       "      <td>0.001</td>\n",
       "      <td>0.9</td>\n",
       "      <td>[]</td>\n",
       "      <td>2023-06-24T05:26:03</td>\n",
       "      <td>[susbrock, model_DB_visual_wake_words, 221kp6pp]</td>\n",
       "      <td>None</td>\n",
       "      <td>0.881419</td>\n",
       "    </tr>\n",
       "    <tr>\n",
       "      <th>1</th>\n",
       "      <td>hztea71r</td>\n",
       "      <td>mobilenetv2_0.25_96_c3_o2_t3l1024.MV1</td>\n",
       "      <td>finished</td>\n",
       "      <td>15.0</td>\n",
       "      <td>https://wandb.ai/susbrock/model_DB_visual_wake...</td>\n",
       "      <td>mobilenetv2_0.25_96_c3_o2_t3l1024.MV1</td>\n",
       "      <td>50.0</td>\n",
       "      <td>2.0</td>\n",
       "      <td>vvw_minval_datagen_fix</td>\n",
       "      <td>HP-Omen</td>\n",
       "      <td>0.9</td>\n",
       "      <td>Adam</td>\n",
       "      <td>50.0</td>\n",
       "      <td>0.001</td>\n",
       "      <td>0.9</td>\n",
       "      <td>[]</td>\n",
       "      <td>2023-06-24T00:36:33</td>\n",
       "      <td>[susbrock, model_DB_visual_wake_words, hztea71r]</td>\n",
       "      <td>None</td>\n",
       "      <td>0.823497</td>\n",
       "    </tr>\n",
       "    <tr>\n",
       "      <th>2</th>\n",
       "      <td>8g5sok4t</td>\n",
       "      <td>mobilenetv2_0.25_96_c3_o2_t2l1024.MV1</td>\n",
       "      <td>finished</td>\n",
       "      <td>15.0</td>\n",
       "      <td>https://wandb.ai/susbrock/model_DB_visual_wake...</td>\n",
       "      <td>mobilenetv2_0.25_96_c3_o2_t2l1024.MV1</td>\n",
       "      <td>50.0</td>\n",
       "      <td>2.0</td>\n",
       "      <td>vvw_minval_datagen_fix</td>\n",
       "      <td>HP-Omen</td>\n",
       "      <td>0.9</td>\n",
       "      <td>Adam</td>\n",
       "      <td>50.0</td>\n",
       "      <td>0.001</td>\n",
       "      <td>0.9</td>\n",
       "      <td>[]</td>\n",
       "      <td>2023-06-23T20:37:41</td>\n",
       "      <td>[susbrock, model_DB_visual_wake_words, 8g5sok4t]</td>\n",
       "      <td>None</td>\n",
       "      <td>0.808538</td>\n",
       "    </tr>\n",
       "    <tr>\n",
       "      <th>3</th>\n",
       "      <td>wnpfa3mk</td>\n",
       "      <td>mobilenetv2_0.25_96_c3_o2_t1l1024.MV1</td>\n",
       "      <td>finished</td>\n",
       "      <td>15.0</td>\n",
       "      <td>https://wandb.ai/susbrock/model_DB_visual_wake...</td>\n",
       "      <td>mobilenetv2_0.25_96_c3_o2_t1l1024.MV1</td>\n",
       "      <td>50.0</td>\n",
       "      <td>2.0</td>\n",
       "      <td>vvw_minval_datagen_fix</td>\n",
       "      <td>HP-Omen</td>\n",
       "      <td>0.9</td>\n",
       "      <td>Adam</td>\n",
       "      <td>50.0</td>\n",
       "      <td>0.001</td>\n",
       "      <td>0.9</td>\n",
       "      <td>[]</td>\n",
       "      <td>2023-06-23T14:35:50</td>\n",
       "      <td>[susbrock, model_DB_visual_wake_words, wnpfa3mk]</td>\n",
       "      <td>None</td>\n",
       "      <td>0.785825</td>\n",
       "    </tr>\n",
       "    <tr>\n",
       "      <th>4</th>\n",
       "      <td>y2iays89</td>\n",
       "      <td>mobilenetv2_0.25_96_c3_o2_t1l1280.MV1</td>\n",
       "      <td>finished</td>\n",
       "      <td>15.0</td>\n",
       "      <td>https://wandb.ai/susbrock/model_DB_visual_wake...</td>\n",
       "      <td>mobilenetv2_0.25_96_c3_o2_t1l1280.MV1</td>\n",
       "      <td>50.0</td>\n",
       "      <td>2.0</td>\n",
       "      <td>vvw_minval_datagen_fix</td>\n",
       "      <td>HP-Omen</td>\n",
       "      <td>0.9</td>\n",
       "      <td>Adam</td>\n",
       "      <td>50.0</td>\n",
       "      <td>0.001</td>\n",
       "      <td>0.9</td>\n",
       "      <td>[]</td>\n",
       "      <td>2023-06-23T10:17:00</td>\n",
       "      <td>[susbrock, model_DB_visual_wake_words, y2iays89]</td>\n",
       "      <td>None</td>\n",
       "      <td>0.793487</td>\n",
       "    </tr>\n",
       "    <tr>\n",
       "      <th>...</th>\n",
       "      <td>...</td>\n",
       "      <td>...</td>\n",
       "      <td>...</td>\n",
       "      <td>...</td>\n",
       "      <td>...</td>\n",
       "      <td>...</td>\n",
       "      <td>...</td>\n",
       "      <td>...</td>\n",
       "      <td>...</td>\n",
       "      <td>...</td>\n",
       "      <td>...</td>\n",
       "      <td>...</td>\n",
       "      <td>...</td>\n",
       "      <td>...</td>\n",
       "      <td>...</td>\n",
       "      <td>...</td>\n",
       "      <td>...</td>\n",
       "      <td>...</td>\n",
       "      <td>...</td>\n",
       "      <td>...</td>\n",
       "    </tr>\n",
       "    <tr>\n",
       "      <th>391</th>\n",
       "      <td>mtfe7uja</td>\n",
       "      <td>shufflenetv1_0.2_96_c3_o2_g3</td>\n",
       "      <td>finished</td>\n",
       "      <td>15.0</td>\n",
       "      <td>https://wandb.ai/susbrock/model_DB_visual_wake...</td>\n",
       "      <td>shufflenetv1_0.2_96_c3_o2_g3</td>\n",
       "      <td>50.0</td>\n",
       "      <td>2.0</td>\n",
       "      <td>vvw_minval_datagen_fix</td>\n",
       "      <td>NaN</td>\n",
       "      <td>0.9</td>\n",
       "      <td>Adam</td>\n",
       "      <td>50.0</td>\n",
       "      <td>0.001</td>\n",
       "      <td>0.9</td>\n",
       "      <td>[]</td>\n",
       "      <td>2023-02-12T20:17:56</td>\n",
       "      <td>[susbrock, model_DB_visual_wake_words, mtfe7uja]</td>\n",
       "      <td>before fix</td>\n",
       "      <td>0.829061</td>\n",
       "    </tr>\n",
       "    <tr>\n",
       "      <th>392</th>\n",
       "      <td>z01mbqbh</td>\n",
       "      <td>MobilenetV3small_0.2_96_c3_o2_keras</td>\n",
       "      <td>finished</td>\n",
       "      <td>15.0</td>\n",
       "      <td>https://wandb.ai/susbrock/model_DB_visual_wake...</td>\n",
       "      <td>MobilenetV3small_0.2_96_c3_o2_keras</td>\n",
       "      <td>50.0</td>\n",
       "      <td>2.0</td>\n",
       "      <td>vvw_minval_datagen_fix</td>\n",
       "      <td>NaN</td>\n",
       "      <td>0.9</td>\n",
       "      <td>Adam</td>\n",
       "      <td>50.0</td>\n",
       "      <td>0.001</td>\n",
       "      <td>0.9</td>\n",
       "      <td>[]</td>\n",
       "      <td>2023-02-12T16:37:37</td>\n",
       "      <td>[susbrock, model_DB_visual_wake_words, z01mbqbh]</td>\n",
       "      <td>None</td>\n",
       "      <td>0.842835</td>\n",
       "    </tr>\n",
       "    <tr>\n",
       "      <th>393</th>\n",
       "      <td>bifxvci5</td>\n",
       "      <td>MobilenetV3small_0.1_96_c3_o2_keras</td>\n",
       "      <td>finished</td>\n",
       "      <td>15.0</td>\n",
       "      <td>https://wandb.ai/susbrock/model_DB_visual_wake...</td>\n",
       "      <td>MobilenetV3small_0.1_96_c3_o2_keras</td>\n",
       "      <td>50.0</td>\n",
       "      <td>2.0</td>\n",
       "      <td>vvw_minval_datagen_fix</td>\n",
       "      <td>NaN</td>\n",
       "      <td>0.9</td>\n",
       "      <td>Adam</td>\n",
       "      <td>50.0</td>\n",
       "      <td>0.001</td>\n",
       "      <td>0.9</td>\n",
       "      <td>[]</td>\n",
       "      <td>2023-02-12T09:38:05</td>\n",
       "      <td>[susbrock, model_DB_visual_wake_words, bifxvci5]</td>\n",
       "      <td>None</td>\n",
       "      <td>0.836906</td>\n",
       "    </tr>\n",
       "    <tr>\n",
       "      <th>394</th>\n",
       "      <td>i95ulh4b</td>\n",
       "      <td>shufflenetv1_0.2_96_c3_o2_g2</td>\n",
       "      <td>finished</td>\n",
       "      <td>15.0</td>\n",
       "      <td>https://wandb.ai/susbrock/model_DB_visual_wake...</td>\n",
       "      <td>shufflenetv1_0.2_96_c3_o2_g2</td>\n",
       "      <td>50.0</td>\n",
       "      <td>2.0</td>\n",
       "      <td>vvw_minval_datagen_fix</td>\n",
       "      <td>NaN</td>\n",
       "      <td>0.9</td>\n",
       "      <td>Adam</td>\n",
       "      <td>50.0</td>\n",
       "      <td>0.001</td>\n",
       "      <td>0.9</td>\n",
       "      <td>[]</td>\n",
       "      <td>2023-02-12T09:31:40</td>\n",
       "      <td>[susbrock, model_DB_visual_wake_words, i95ulh4b]</td>\n",
       "      <td>None</td>\n",
       "      <td>0.806987</td>\n",
       "    </tr>\n",
       "    <tr>\n",
       "      <th>395</th>\n",
       "      <td>2ipboc60</td>\n",
       "      <td>shufflenetv1_0.2_96_c3_o2_g1</td>\n",
       "      <td>finished</td>\n",
       "      <td>15.0</td>\n",
       "      <td>https://wandb.ai/susbrock/model_DB_visual_wake...</td>\n",
       "      <td>shufflenetv1_0.2_96_c3_o2_g1</td>\n",
       "      <td>50.0</td>\n",
       "      <td>2.0</td>\n",
       "      <td>vvw_minval_datagen_fix</td>\n",
       "      <td>NaN</td>\n",
       "      <td>0.9</td>\n",
       "      <td>Adam</td>\n",
       "      <td>50.0</td>\n",
       "      <td>0.001</td>\n",
       "      <td>0.9</td>\n",
       "      <td>[]</td>\n",
       "      <td>2023-02-11T21:24:57</td>\n",
       "      <td>[susbrock, model_DB_visual_wake_words, 2ipboc60]</td>\n",
       "      <td>None</td>\n",
       "      <td>0.850588</td>\n",
       "    </tr>\n",
       "  </tbody>\n",
       "</table>\n",
       "<p>326 rows × 20 columns</p>\n",
       "</div>"
      ],
      "text/plain": [
       "           id                                        run_name     state  seed  \\\n",
       "0    221kp6pp  mobilenettiny_0.7_96_c3_o2_l4ll16pl64b0.25.MV1  finished  15.0   \n",
       "1    hztea71r           mobilenetv2_0.25_96_c3_o2_t3l1024.MV1  finished  15.0   \n",
       "2    8g5sok4t           mobilenetv2_0.25_96_c3_o2_t2l1024.MV1  finished  15.0   \n",
       "3    wnpfa3mk           mobilenetv2_0.25_96_c3_o2_t1l1024.MV1  finished  15.0   \n",
       "4    y2iays89           mobilenetv2_0.25_96_c3_o2_t1l1280.MV1  finished  15.0   \n",
       "..        ...                                             ...       ...   ...   \n",
       "391  mtfe7uja                    shufflenetv1_0.2_96_c3_o2_g3  finished  15.0   \n",
       "392  z01mbqbh             MobilenetV3small_0.2_96_c3_o2_keras  finished  15.0   \n",
       "393  bifxvci5             MobilenetV3small_0.1_96_c3_o2_keras  finished  15.0   \n",
       "394  i95ulh4b                    shufflenetv1_0.2_96_c3_o2_g2  finished  15.0   \n",
       "395  2ipboc60                    shufflenetv1_0.2_96_c3_o2_g1  finished  15.0   \n",
       "\n",
       "                                                   url  \\\n",
       "0    https://wandb.ai/susbrock/model_DB_visual_wake...   \n",
       "1    https://wandb.ai/susbrock/model_DB_visual_wake...   \n",
       "2    https://wandb.ai/susbrock/model_DB_visual_wake...   \n",
       "3    https://wandb.ai/susbrock/model_DB_visual_wake...   \n",
       "4    https://wandb.ai/susbrock/model_DB_visual_wake...   \n",
       "..                                                 ...   \n",
       "391  https://wandb.ai/susbrock/model_DB_visual_wake...   \n",
       "392  https://wandb.ai/susbrock/model_DB_visual_wake...   \n",
       "393  https://wandb.ai/susbrock/model_DB_visual_wake...   \n",
       "394  https://wandb.ai/susbrock/model_DB_visual_wake...   \n",
       "395  https://wandb.ai/susbrock/model_DB_visual_wake...   \n",
       "\n",
       "                                       architecture  epochs  classes  \\\n",
       "0    mobilenettiny_0.7_96_c3_o2_l4ll16pl64b0.25.MV1    50.0      2.0   \n",
       "1             mobilenetv2_0.25_96_c3_o2_t3l1024.MV1    50.0      2.0   \n",
       "2             mobilenetv2_0.25_96_c3_o2_t2l1024.MV1    50.0      2.0   \n",
       "3             mobilenetv2_0.25_96_c3_o2_t1l1024.MV1    50.0      2.0   \n",
       "4             mobilenetv2_0.25_96_c3_o2_t1l1280.MV1    50.0      2.0   \n",
       "..                                              ...     ...      ...   \n",
       "391                    shufflenetv1_0.2_96_c3_o2_g3    50.0      2.0   \n",
       "392             MobilenetV3small_0.2_96_c3_o2_keras    50.0      2.0   \n",
       "393             MobilenetV3small_0.1_96_c3_o2_keras    50.0      2.0   \n",
       "394                    shufflenetv1_0.2_96_c3_o2_g2    50.0      2.0   \n",
       "395                    shufflenetv1_0.2_96_c3_o2_g1    50.0      2.0   \n",
       "\n",
       "                    dataset hostname  momentum optimizer  batch_size  \\\n",
       "0    vvw_minval_datagen_fix  HP-Omen       0.9      Adam        50.0   \n",
       "1    vvw_minval_datagen_fix  HP-Omen       0.9      Adam        50.0   \n",
       "2    vvw_minval_datagen_fix  HP-Omen       0.9      Adam        50.0   \n",
       "3    vvw_minval_datagen_fix  HP-Omen       0.9      Adam        50.0   \n",
       "4    vvw_minval_datagen_fix  HP-Omen       0.9      Adam        50.0   \n",
       "..                      ...      ...       ...       ...         ...   \n",
       "391  vvw_minval_datagen_fix      NaN       0.9      Adam        50.0   \n",
       "392  vvw_minval_datagen_fix      NaN       0.9      Adam        50.0   \n",
       "393  vvw_minval_datagen_fix      NaN       0.9      Adam        50.0   \n",
       "394  vvw_minval_datagen_fix      NaN       0.9      Adam        50.0   \n",
       "395  vvw_minval_datagen_fix      NaN       0.9      Adam        50.0   \n",
       "\n",
       "     learn_rate  batch_norm_momentum tags           created_at  \\\n",
       "0         0.001                  0.9   []  2023-06-24T05:26:03   \n",
       "1         0.001                  0.9   []  2023-06-24T00:36:33   \n",
       "2         0.001                  0.9   []  2023-06-23T20:37:41   \n",
       "3         0.001                  0.9   []  2023-06-23T14:35:50   \n",
       "4         0.001                  0.9   []  2023-06-23T10:17:00   \n",
       "..          ...                  ...  ...                  ...   \n",
       "391       0.001                  0.9   []  2023-02-12T20:17:56   \n",
       "392       0.001                  0.9   []  2023-02-12T16:37:37   \n",
       "393       0.001                  0.9   []  2023-02-12T09:38:05   \n",
       "394       0.001                  0.9   []  2023-02-12T09:31:40   \n",
       "395       0.001                  0.9   []  2023-02-11T21:24:57   \n",
       "\n",
       "                                                 path       notes  \\\n",
       "0    [susbrock, model_DB_visual_wake_words, 221kp6pp]        None   \n",
       "1    [susbrock, model_DB_visual_wake_words, hztea71r]        None   \n",
       "2    [susbrock, model_DB_visual_wake_words, 8g5sok4t]        None   \n",
       "3    [susbrock, model_DB_visual_wake_words, wnpfa3mk]        None   \n",
       "4    [susbrock, model_DB_visual_wake_words, y2iays89]        None   \n",
       "..                                                ...         ...   \n",
       "391  [susbrock, model_DB_visual_wake_words, mtfe7uja]  before fix   \n",
       "392  [susbrock, model_DB_visual_wake_words, z01mbqbh]        None   \n",
       "393  [susbrock, model_DB_visual_wake_words, bifxvci5]        None   \n",
       "394  [susbrock, model_DB_visual_wake_words, i95ulh4b]        None   \n",
       "395  [susbrock, model_DB_visual_wake_words, 2ipboc60]        None   \n",
       "\n",
       "     test_accuracy  \n",
       "0         0.881419  \n",
       "1         0.823497  \n",
       "2         0.808538  \n",
       "3         0.785825  \n",
       "4         0.793487  \n",
       "..             ...  \n",
       "391       0.829061  \n",
       "392       0.842835  \n",
       "393       0.836906  \n",
       "394       0.806987  \n",
       "395       0.850588  \n",
       "\n",
       "[326 rows x 20 columns]"
      ]
     },
     "execution_count": 34,
     "metadata": {},
     "output_type": "execute_result"
    }
   ],
   "source": [
    "training_df = training_df[training_df.state == \"finished\"]\n",
    "training_df"
   ]
  },
  {
   "cell_type": "code",
   "execution_count": 35,
   "metadata": {},
   "outputs": [],
   "source": [
    "# architectures = [\n",
    "#  'mobilenetv1_1_96_c3_o2_l5',\n",
    "#  'mobilenetv1_1_96_c3_o2_l4',\n",
    "#  'mobilenetv1_1_96_c3_o2_l3',\n",
    "#  'mobilenetv1_1_96_c3_o2_l2',\n",
    "#  'mobilenetv1_1_96_c3_o2_l1',\n",
    "#  'mobilenetv1_0.35_96_c3_o2_l5',\n",
    "#  'mobilenetv1_0.35_96_c3_o2_l4',\n",
    "#  'mobilenetv1_0.35_96_c3_o2_l3',\n",
    "#  'mobilenetv1_0.35_96_c3_o2_l2',\n",
    "#  'mobilenetv1_0.35_96_c3_o2_l1',\n",
    "#  'mobilenetv1_0.25_96_c3_o2_l5',\n",
    "#  'mobilenetv1_0.25_96_c3_o2_l4',\n",
    "#  'mobilenetv1_0.25_96_c3_o2_l2',\n",
    "#  'mobilenetv1_0.25_96_c3_o2_l1']"
   ]
  },
  {
   "cell_type": "code",
   "execution_count": 36,
   "metadata": {},
   "outputs": [
    {
     "name": "stdout",
     "output_type": "stream",
     "text": [
      "mobilenetv2_0.25_96_c3_o2_t5l1280.MV1\n",
      "mobilenetv2_0.25_96_c3_o2_t3l1280.MV1\n",
      "mobilenetv2_0.25_96_c3_o2_t2l1280.MV1\n",
      "mobilenetv2_0.2_96_c3_o2_t3l1280.MV1\n",
      "mobilenetv2_0.2_96_c3_o2_t4l1280.MV1\n",
      "mobilenetv2_0.2_96_c3_o2_t5l1280.MV1\n",
      "mobilenettiny_0.7_96_c3_o2_l1ll16pl64b0.25.MV1LRE\n",
      "0.88141930103302\n",
      "7ojqou6k\n"
     ]
    },
    {
     "data": {
      "text/html": [
       "wandb version 0.15.4 is available!  To upgrade, please run:\n",
       " $ pip install wandb --upgrade"
      ],
      "text/plain": [
       "<IPython.core.display.HTML object>"
      ]
     },
     "metadata": {},
     "output_type": "display_data"
    },
    {
     "data": {
      "text/html": [
       "Tracking run with wandb version 0.13.9"
      ],
      "text/plain": [
       "<IPython.core.display.HTML object>"
      ]
     },
     "metadata": {},
     "output_type": "display_data"
    },
    {
     "data": {
      "text/html": [
       "Run data is saved locally in <code>c:\\tiny_mlc\\tiny_cnn\\wandb\\run-20230624_122937-7ojqou6k</code>"
      ],
      "text/plain": [
       "<IPython.core.display.HTML object>"
      ]
     },
     "metadata": {},
     "output_type": "display_data"
    },
    {
     "data": {
      "text/html": [
       "Resuming run <strong><a href=\"https://wandb.ai/susbrock/model_DB/runs/7ojqou6k\" target=\"_blank\">mobilenettiny_0.7_96_c3_o2_l4ll16pl64b0.25.MV1</a></strong> to <a href=\"https://wandb.ai/susbrock/model_DB\" target=\"_blank\">Weights & Biases</a> (<a href=\"https://wandb.me/run\" target=\"_blank\">docs</a>)<br/>"
      ],
      "text/plain": [
       "<IPython.core.display.HTML object>"
      ]
     },
     "metadata": {},
     "output_type": "display_data"
    },
    {
     "data": {
      "text/html": [
       " View project at <a href=\"https://wandb.ai/susbrock/model_DB\" target=\"_blank\">https://wandb.ai/susbrock/model_DB</a>"
      ],
      "text/plain": [
       "<IPython.core.display.HTML object>"
      ]
     },
     "metadata": {},
     "output_type": "display_data"
    },
    {
     "data": {
      "text/html": [
       " View run at <a href=\"https://wandb.ai/susbrock/model_DB/runs/7ojqou6k\" target=\"_blank\">https://wandb.ai/susbrock/model_DB/runs/7ojqou6k</a>"
      ],
      "text/plain": [
       "<IPython.core.display.HTML object>"
      ]
     },
     "metadata": {},
     "output_type": "display_data"
    },
    {
     "data": {
      "text/html": [
       "Waiting for W&B process to finish... <strong style=\"color:green\">(success).</strong>"
      ],
      "text/plain": [
       "<IPython.core.display.HTML object>"
      ]
     },
     "metadata": {},
     "output_type": "display_data"
    },
    {
     "data": {
      "application/vnd.jupyter.widget-view+json": {
       "model_id": "e3dcafb044ba416d8afafaa36ebc6e2d",
       "version_major": 2,
       "version_minor": 0
      },
      "text/plain": [
       "VBox(children=(Label(value='0.000 MB of 0.112 MB uploaded (0.000 MB deduped)\\r'), FloatProgress(value=0.0, max…"
      ]
     },
     "metadata": {},
     "output_type": "display_data"
    },
    {
     "data": {
      "text/html": [
       "<style>\n",
       "    table.wandb td:nth-child(1) { padding: 0 10px; text-align: left ; width: auto;} td:nth-child(2) {text-align: left ; width: 100%}\n",
       "    .wandb-row { display: flex; flex-direction: row; flex-wrap: wrap; justify-content: flex-start; width: 100% }\n",
       "    .wandb-col { display: flex; flex-direction: column; flex-basis: 100%; flex: 1; padding: 10px; }\n",
       "    </style>\n",
       "<div class=\"wandb-row\"><div class=\"wandb-col\"><h3>Run history:</h3><br/><table class=\"wandb\"><tr><td>test_accuracy</td><td>▁</td></tr></table><br/></div><div class=\"wandb-col\"><h3>Run summary:</h3><br/><table class=\"wandb\"><tr><td>arena_size</td><td>638960</td></tr><tr><td>c_array_b</td><td>300832</td></tr><tr><td>test_accuracy</td><td>0.88142</td></tr></table><br/></div></div>"
      ],
      "text/plain": [
       "<IPython.core.display.HTML object>"
      ]
     },
     "metadata": {},
     "output_type": "display_data"
    },
    {
     "data": {
      "text/html": [
       " View run <strong style=\"color:#cdcd00\">mobilenettiny_0.7_96_c3_o2_l4ll16pl64b0.25.MV1</strong> at: <a href=\"https://wandb.ai/susbrock/model_DB/runs/7ojqou6k\" target=\"_blank\">https://wandb.ai/susbrock/model_DB/runs/7ojqou6k</a><br/>Synced 2 W&B file(s), 0 media file(s), 0 artifact file(s) and 1 other file(s)"
      ],
      "text/plain": [
       "<IPython.core.display.HTML object>"
      ]
     },
     "metadata": {},
     "output_type": "display_data"
    },
    {
     "data": {
      "text/html": [
       "Find logs at: <code>.\\wandb\\run-20230624_122937-7ojqou6k\\logs</code>"
      ],
      "text/plain": [
       "<IPython.core.display.HTML object>"
      ]
     },
     "metadata": {},
     "output_type": "display_data"
    },
    {
     "name": "stdout",
     "output_type": "stream",
     "text": [
      "shufflenetv1_1_96_c3_o2_g1\n",
      "shufflenetv1_1_96_c3_o2_g2\n",
      "shufflenetv1_1_96_c3_o2_g3\n",
      "shufflenetv1_1_96_c3_o2_g4\n",
      "shufflenetv1_1_96_c3_o2_g8\n",
      "shufflenetv1_0.5_96_c3_o2_g8\n",
      "shufflenetv1_0.5_96_c3_o2_g3\n",
      "shufflenetv1_0.5_96_c3_o2_g1\n",
      "0.8389127254486084\n",
      "ye19s121\n"
     ]
    },
    {
     "data": {
      "text/html": [
       "wandb version 0.15.4 is available!  To upgrade, please run:\n",
       " $ pip install wandb --upgrade"
      ],
      "text/plain": [
       "<IPython.core.display.HTML object>"
      ]
     },
     "metadata": {},
     "output_type": "display_data"
    },
    {
     "data": {
      "text/html": [
       "Tracking run with wandb version 0.13.9"
      ],
      "text/plain": [
       "<IPython.core.display.HTML object>"
      ]
     },
     "metadata": {},
     "output_type": "display_data"
    },
    {
     "data": {
      "text/html": [
       "Run data is saved locally in <code>c:\\tiny_mlc\\tiny_cnn\\wandb\\run-20230624_122948-ye19s121</code>"
      ],
      "text/plain": [
       "<IPython.core.display.HTML object>"
      ]
     },
     "metadata": {},
     "output_type": "display_data"
    },
    {
     "data": {
      "text/html": [
       "Resuming run <strong><a href=\"https://wandb.ai/susbrock/model_DB/runs/ye19s121\" target=\"_blank\">shufflenetv1_0.25_96_c3_o2_g8</a></strong> to <a href=\"https://wandb.ai/susbrock/model_DB\" target=\"_blank\">Weights & Biases</a> (<a href=\"https://wandb.me/run\" target=\"_blank\">docs</a>)<br/>"
      ],
      "text/plain": [
       "<IPython.core.display.HTML object>"
      ]
     },
     "metadata": {},
     "output_type": "display_data"
    },
    {
     "data": {
      "text/html": [
       " View project at <a href=\"https://wandb.ai/susbrock/model_DB\" target=\"_blank\">https://wandb.ai/susbrock/model_DB</a>"
      ],
      "text/plain": [
       "<IPython.core.display.HTML object>"
      ]
     },
     "metadata": {},
     "output_type": "display_data"
    },
    {
     "data": {
      "text/html": [
       " View run at <a href=\"https://wandb.ai/susbrock/model_DB/runs/ye19s121\" target=\"_blank\">https://wandb.ai/susbrock/model_DB/runs/ye19s121</a>"
      ],
      "text/plain": [
       "<IPython.core.display.HTML object>"
      ]
     },
     "metadata": {},
     "output_type": "display_data"
    },
    {
     "data": {
      "text/html": [
       "Waiting for W&B process to finish... <strong style=\"color:green\">(success).</strong>"
      ],
      "text/plain": [
       "<IPython.core.display.HTML object>"
      ]
     },
     "metadata": {},
     "output_type": "display_data"
    },
    {
     "data": {
      "application/vnd.jupyter.widget-view+json": {
       "model_id": "00562f47606f43d18ed1bd4094f4a765",
       "version_major": 2,
       "version_minor": 0
      },
      "text/plain": [
       "VBox(children=(Label(value='0.000 MB of 0.114 MB uploaded (0.000 MB deduped)\\r'), FloatProgress(value=0.0, max…"
      ]
     },
     "metadata": {},
     "output_type": "display_data"
    },
    {
     "data": {
      "text/html": [
       "<style>\n",
       "    table.wandb td:nth-child(1) { padding: 0 10px; text-align: left ; width: auto;} td:nth-child(2) {text-align: left ; width: 100%}\n",
       "    .wandb-row { display: flex; flex-direction: row; flex-wrap: wrap; justify-content: flex-start; width: 100% }\n",
       "    .wandb-col { display: flex; flex-direction: column; flex-basis: 100%; flex: 1; padding: 10px; }\n",
       "    </style>\n",
       "<div class=\"wandb-row\"><div class=\"wandb-col\"><h3>Run history:</h3><br/><table class=\"wandb\"><tr><td>test_accuracy</td><td>▁</td></tr></table><br/></div><div class=\"wandb-col\"><h3>Run summary:</h3><br/><table class=\"wandb\"><tr><td>allocate_tensors_ms_%</td><td>46.839</td></tr><tr><td>allocate_tensors_ms_avg</td><td>0.163</td></tr><tr><td>allocate_tensors_ms_first</td><td>0.163</td></tr><tr><td>arena_size</td><td>0</td></tr><tr><td>c_array_b</td><td>300832</td></tr><tr><td>first_inference_us</td><td>21226</td></tr><tr><td>inference_avg_us</td><td>5548</td></tr><tr><td>init_us</td><td>158556</td></tr><tr><td>initialization_ms</td><td>158.556</td></tr><tr><td>model_size_MB</td><td>0.25216</td></tr><tr><td>modify_graph_with_delegate_mem_KB</td><td>0</td></tr><tr><td>modify_graph_with_delegate_ms_%</td><td>53.161</td></tr><tr><td>modify_graph_with_delegate_ms_avg</td><td>0.185</td></tr><tr><td>modify_graph_with_delegate_ms_first</td><td>0.185</td></tr><tr><td>test_accuracy</td><td>0.83891</td></tr><tr><td>warmup_avg_us</td><td>5314.77</td></tr></table><br/></div></div>"
      ],
      "text/plain": [
       "<IPython.core.display.HTML object>"
      ]
     },
     "metadata": {},
     "output_type": "display_data"
    },
    {
     "data": {
      "text/html": [
       " View run <strong style=\"color:#cdcd00\">shufflenetv1_0.25_96_c3_o2_g8</strong> at: <a href=\"https://wandb.ai/susbrock/model_DB/runs/ye19s121\" target=\"_blank\">https://wandb.ai/susbrock/model_DB/runs/ye19s121</a><br/>Synced 2 W&B file(s), 0 media file(s), 0 artifact file(s) and 1 other file(s)"
      ],
      "text/plain": [
       "<IPython.core.display.HTML object>"
      ]
     },
     "metadata": {},
     "output_type": "display_data"
    },
    {
     "data": {
      "text/html": [
       "Find logs at: <code>.\\wandb\\run-20230624_122948-ye19s121\\logs</code>"
      ],
      "text/plain": [
       "<IPython.core.display.HTML object>"
      ]
     },
     "metadata": {},
     "output_type": "display_data"
    },
    {
     "name": "stdout",
     "output_type": "stream",
     "text": [
      "mobilenettiny_0.7_96_c3_o2_l5ll32pl128b0.25.MV1LRE\n",
      "mobilenettiny_0.7_96_c3_o2_l5ll32pl256b0.25.MV1LRE\n",
      "0.8411930799484253\n",
      "8cut04cb\n"
     ]
    },
    {
     "data": {
      "text/html": [
       "wandb version 0.15.4 is available!  To upgrade, please run:\n",
       " $ pip install wandb --upgrade"
      ],
      "text/plain": [
       "<IPython.core.display.HTML object>"
      ]
     },
     "metadata": {},
     "output_type": "display_data"
    },
    {
     "data": {
      "text/html": [
       "Tracking run with wandb version 0.13.9"
      ],
      "text/plain": [
       "<IPython.core.display.HTML object>"
      ]
     },
     "metadata": {},
     "output_type": "display_data"
    },
    {
     "data": {
      "text/html": [
       "Run data is saved locally in <code>c:\\tiny_mlc\\tiny_cnn\\wandb\\run-20230624_122959-8cut04cb</code>"
      ],
      "text/plain": [
       "<IPython.core.display.HTML object>"
      ]
     },
     "metadata": {},
     "output_type": "display_data"
    },
    {
     "data": {
      "text/html": [
       "Resuming run <strong><a href=\"https://wandb.ai/susbrock/model_DB/runs/8cut04cb\" target=\"_blank\">shufflenetv2tiny_0.2_96_c3_o2_f12l16</a></strong> to <a href=\"https://wandb.ai/susbrock/model_DB\" target=\"_blank\">Weights & Biases</a> (<a href=\"https://wandb.me/run\" target=\"_blank\">docs</a>)<br/>"
      ],
      "text/plain": [
       "<IPython.core.display.HTML object>"
      ]
     },
     "metadata": {},
     "output_type": "display_data"
    },
    {
     "data": {
      "text/html": [
       " View project at <a href=\"https://wandb.ai/susbrock/model_DB\" target=\"_blank\">https://wandb.ai/susbrock/model_DB</a>"
      ],
      "text/plain": [
       "<IPython.core.display.HTML object>"
      ]
     },
     "metadata": {},
     "output_type": "display_data"
    },
    {
     "data": {
      "text/html": [
       " View run at <a href=\"https://wandb.ai/susbrock/model_DB/runs/8cut04cb\" target=\"_blank\">https://wandb.ai/susbrock/model_DB/runs/8cut04cb</a>"
      ],
      "text/plain": [
       "<IPython.core.display.HTML object>"
      ]
     },
     "metadata": {},
     "output_type": "display_data"
    },
    {
     "data": {
      "text/html": [
       "Waiting for W&B process to finish... <strong style=\"color:green\">(success).</strong>"
      ],
      "text/plain": [
       "<IPython.core.display.HTML object>"
      ]
     },
     "metadata": {},
     "output_type": "display_data"
    },
    {
     "data": {
      "application/vnd.jupyter.widget-view+json": {
       "model_id": "16bb7a0fe22b449f99a18c6dabcbd19d",
       "version_major": 2,
       "version_minor": 0
      },
      "text/plain": [
       "VBox(children=(Label(value='0.000 MB of 0.114 MB uploaded (0.000 MB deduped)\\r'), FloatProgress(value=0.0, max…"
      ]
     },
     "metadata": {},
     "output_type": "display_data"
    },
    {
     "data": {
      "text/html": [
       "<style>\n",
       "    table.wandb td:nth-child(1) { padding: 0 10px; text-align: left ; width: auto;} td:nth-child(2) {text-align: left ; width: 100%}\n",
       "    .wandb-row { display: flex; flex-direction: row; flex-wrap: wrap; justify-content: flex-start; width: 100% }\n",
       "    .wandb-col { display: flex; flex-direction: column; flex-basis: 100%; flex: 1; padding: 10px; }\n",
       "    </style>\n",
       "<div class=\"wandb-row\"><div class=\"wandb-col\"><h3>Run history:</h3><br/><table class=\"wandb\"><tr><td>test_accuracy</td><td>▁</td></tr></table><br/></div><div class=\"wandb-col\"><h3>Run summary:</h3><br/><table class=\"wandb\"><tr><td>allocate_tensors_ms_%</td><td>46.731</td></tr><tr><td>allocate_tensors_ms_avg</td><td>0.243</td></tr><tr><td>allocate_tensors_ms_first</td><td>0.243</td></tr><tr><td>arena_size</td><td>0</td></tr><tr><td>first_inference_us</td><td>38259</td></tr><tr><td>inference_avg_us</td><td>2044.36</td></tr><tr><td>init_us</td><td>584530</td></tr><tr><td>initialization_ms</td><td>584.53</td></tr><tr><td>model_size_MB</td><td>0.29243</td></tr><tr><td>modify_graph_with_delegate_mem_KB</td><td>0</td></tr><tr><td>modify_graph_with_delegate_ms_%</td><td>53.269</td></tr><tr><td>modify_graph_with_delegate_ms_avg</td><td>0.277</td></tr><tr><td>modify_graph_with_delegate_ms_first</td><td>0.277</td></tr><tr><td>test_accuracy</td><td>0.84119</td></tr><tr><td>warmup_avg_us</td><td>1686.66</td></tr></table><br/></div></div>"
      ],
      "text/plain": [
       "<IPython.core.display.HTML object>"
      ]
     },
     "metadata": {},
     "output_type": "display_data"
    },
    {
     "data": {
      "text/html": [
       " View run <strong style=\"color:#cdcd00\">shufflenetv2tiny_0.2_96_c3_o2_f12l16</strong> at: <a href=\"https://wandb.ai/susbrock/model_DB/runs/8cut04cb\" target=\"_blank\">https://wandb.ai/susbrock/model_DB/runs/8cut04cb</a><br/>Synced 2 W&B file(s), 0 media file(s), 0 artifact file(s) and 1 other file(s)"
      ],
      "text/plain": [
       "<IPython.core.display.HTML object>"
      ]
     },
     "metadata": {},
     "output_type": "display_data"
    },
    {
     "data": {
      "text/html": [
       "Find logs at: <code>.\\wandb\\run-20230624_122959-8cut04cb\\logs</code>"
      ],
      "text/plain": [
       "<IPython.core.display.HTML object>"
      ]
     },
     "metadata": {},
     "output_type": "display_data"
    },
    {
     "name": "stdout",
     "output_type": "stream",
     "text": [
      "shufflenetv2tiny_0.2_96_c3_o2_f12l32\n",
      "shufflenetv2tiny_0.2_96_c3_o2_f12l64\n",
      "shufflenetv2tiny_0.2_96_c3_o2_f24l16\n",
      "shufflenetv2tiny_0.25_96_c3_o2_f24l32\n",
      "shufflenetv2tiny_0.25_96_c3_o2_f24l64\n",
      "mobilenetv3smallSQ_0.05_96_c3_o2_se4l64pl64.MV3\n",
      "mobilenetv3smallNSQ_0.1_96_c3_o2_se4l1280pl576.MV3\n",
      "mobilenetv3smallNSQ_0.05_96_c3_o2_se4l1280pl576.MV3\n",
      "mobilenetv3smallNSQ_0.05_96_c3_o2_se4l64pl576.MV3\n",
      "mobilenetv3smallNSQ_0.25_96_c3_o2_se4l64pl576.MV3\n",
      "mobilenetv3smallNSQ_0.1_96_c3_o2_se4l64pl64.MV3\n",
      "mobilenetv3smallNSQ_0.05_96_c3_o2_se4l64pl64.MV3\n",
      "mobilenetv2_0.25_96_c3_o2_t4l1280.MV1\n",
      "mobilenetv2_0.2_96_c3_o2_t6l1280.MV1\n",
      "mobilenetv2_0.25_96_c3_o2_t6l1280.MV1\n",
      "mobilenetv2_0.35_96_c3_o2_t6l1024.MV1\n",
      "mobilenetv1_0.1_96_c3_o2_l5ll1024pl512.MV1\n",
      "mobilenetv1_0.3_96_c3_o2_l5ll512pl512.MV1\n",
      "mobilenetv1_0.3_96_c3_o2_l5ll1024.MV1\n",
      "mobilenetv1_0.25_32_c1_o1000_l5ll1024pl512.MV1\n",
      "mobilenetv1_0.25_32_c1_o2_l5ll1024pl512.MV1\n",
      "mobilenetv1_0.25_32_c1_o10_l5ll1024pl512.MV1\n",
      "mobilenetv1_0.25_96_c1_o10_l5ll1024pl512.MV1\n",
      "mobilenetv1_0.25_96_c1_o1000_l5ll1024pl512.MV1\n",
      "mobilenetv1_0.25_224_c1_o1000_l5ll1024pl512.MV1\n",
      "mobilenetv1_0.25_224_c1_o10_l5ll1024pl512.MV1\n",
      "mobilenetv1_0.25_224_c1_o2_l5ll1024pl512.MV1\n",
      "mobilenetv1_0.25_96_c1_o2_l5ll1024pl512.MV1\n",
      "mobilenetv1vww_0.25_96_c3_o2_\n",
      "mobilenetv1_0.25_32_c3_o1000_l5ll1024pl512.MV1\n",
      "mobilenetv1_0.25_224_c3_o1000_l5ll1024pl512.MV1\n",
      "mobilenetv1_0.25_96_c3_o1000_l5ll1024pl512.MV1\n",
      "mobilenettiny_0.7_96_c3_o2_l5ll16pl32b0.25.MV3\n",
      "mobilenetv2_0.05_96_c3_o2_keras\n",
      "nan\n",
      "b1t65jfa\n"
     ]
    },
    {
     "data": {
      "text/html": [
       "wandb version 0.15.4 is available!  To upgrade, please run:\n",
       " $ pip install wandb --upgrade"
      ],
      "text/plain": [
       "<IPython.core.display.HTML object>"
      ]
     },
     "metadata": {},
     "output_type": "display_data"
    },
    {
     "data": {
      "text/html": [
       "Tracking run with wandb version 0.13.9"
      ],
      "text/plain": [
       "<IPython.core.display.HTML object>"
      ]
     },
     "metadata": {},
     "output_type": "display_data"
    },
    {
     "data": {
      "text/html": [
       "Run data is saved locally in <code>c:\\tiny_mlc\\tiny_cnn\\wandb\\run-20230624_123010-b1t65jfa</code>"
      ],
      "text/plain": [
       "<IPython.core.display.HTML object>"
      ]
     },
     "metadata": {},
     "output_type": "display_data"
    },
    {
     "data": {
      "text/html": [
       "Resuming run <strong><a href=\"https://wandb.ai/susbrock/model_DB/runs/b1t65jfa\" target=\"_blank\">shufflenetv2_0.5_96_c3_o2_000BIAS</a></strong> to <a href=\"https://wandb.ai/susbrock/model_DB\" target=\"_blank\">Weights & Biases</a> (<a href=\"https://wandb.me/run\" target=\"_blank\">docs</a>)<br/>"
      ],
      "text/plain": [
       "<IPython.core.display.HTML object>"
      ]
     },
     "metadata": {},
     "output_type": "display_data"
    },
    {
     "data": {
      "text/html": [
       " View project at <a href=\"https://wandb.ai/susbrock/model_DB\" target=\"_blank\">https://wandb.ai/susbrock/model_DB</a>"
      ],
      "text/plain": [
       "<IPython.core.display.HTML object>"
      ]
     },
     "metadata": {},
     "output_type": "display_data"
    },
    {
     "data": {
      "text/html": [
       " View run at <a href=\"https://wandb.ai/susbrock/model_DB/runs/b1t65jfa\" target=\"_blank\">https://wandb.ai/susbrock/model_DB/runs/b1t65jfa</a>"
      ],
      "text/plain": [
       "<IPython.core.display.HTML object>"
      ]
     },
     "metadata": {},
     "output_type": "display_data"
    },
    {
     "data": {
      "text/html": [
       "Waiting for W&B process to finish... <strong style=\"color:green\">(success).</strong>"
      ],
      "text/plain": [
       "<IPython.core.display.HTML object>"
      ]
     },
     "metadata": {},
     "output_type": "display_data"
    },
    {
     "data": {
      "application/vnd.jupyter.widget-view+json": {
       "model_id": "c246d6be31c7475eb057e20c50d3513e",
       "version_major": 2,
       "version_minor": 0
      },
      "text/plain": [
       "VBox(children=(Label(value='0.000 MB of 0.007 MB uploaded (0.000 MB deduped)\\r'), FloatProgress(value=0.0, max…"
      ]
     },
     "metadata": {},
     "output_type": "display_data"
    },
    {
     "data": {
      "text/html": [
       "<style>\n",
       "    table.wandb td:nth-child(1) { padding: 0 10px; text-align: left ; width: auto;} td:nth-child(2) {text-align: left ; width: 100%}\n",
       "    .wandb-row { display: flex; flex-direction: row; flex-wrap: wrap; justify-content: flex-start; width: 100% }\n",
       "    .wandb-col { display: flex; flex-direction: column; flex-basis: 100%; flex: 1; padding: 10px; }\n",
       "    </style>\n",
       "<div class=\"wandb-row\"><div class=\"wandb-col\"><h3>Run summary:</h3><br/><table class=\"wandb\"><tr><td>allocate_tensors_ms_%</td><td>46.799</td></tr><tr><td>allocate_tensors_ms_avg</td><td>0.212</td></tr><tr><td>allocate_tensors_ms_first</td><td>0.212</td></tr><tr><td>arena_size</td><td>0</td></tr><tr><td>c_array_b</td><td>415384</td></tr><tr><td>first_inference_us</td><td>40483</td></tr><tr><td>inference_avg_us</td><td>2717.45</td></tr><tr><td>init_us</td><td>309590</td></tr><tr><td>initialization_ms</td><td>309.59</td></tr><tr><td>model_size_MB</td><td>1.17135</td></tr><tr><td>modify_graph_with_delegate_mem_KB</td><td>0</td></tr><tr><td>modify_graph_with_delegate_ms_%</td><td>53.201</td></tr><tr><td>modify_graph_with_delegate_ms_avg</td><td>0.241</td></tr><tr><td>modify_graph_with_delegate_ms_first</td><td>0.241</td></tr><tr><td>test_accuracy</td><td>nan</td></tr><tr><td>warmup_avg_us</td><td>2684.44</td></tr></table><br/></div></div>"
      ],
      "text/plain": [
       "<IPython.core.display.HTML object>"
      ]
     },
     "metadata": {},
     "output_type": "display_data"
    },
    {
     "data": {
      "text/html": [
       " View run <strong style=\"color:#cdcd00\">shufflenetv2_0.5_96_c3_o2_000BIAS</strong> at: <a href=\"https://wandb.ai/susbrock/model_DB/runs/b1t65jfa\" target=\"_blank\">https://wandb.ai/susbrock/model_DB/runs/b1t65jfa</a><br/>Synced 2 W&B file(s), 0 media file(s), 0 artifact file(s) and 1 other file(s)"
      ],
      "text/plain": [
       "<IPython.core.display.HTML object>"
      ]
     },
     "metadata": {},
     "output_type": "display_data"
    },
    {
     "data": {
      "text/html": [
       "Find logs at: <code>.\\wandb\\run-20230624_123010-b1t65jfa\\logs</code>"
      ],
      "text/plain": [
       "<IPython.core.display.HTML object>"
      ]
     },
     "metadata": {},
     "output_type": "display_data"
    },
    {
     "name": "stdout",
     "output_type": "stream",
     "text": [
      "mobilenext_0.1_96_c3_o2_i1st32\n",
      "mobilenettiny.d_0.7_96_c3_o2_l5ll32pl64b0.25.MV1\n",
      "mobilenettinyv2_0.25_96_c3_o2_l5ll16pl64b0.5.MV1\n",
      "mobilenettinyv2_0.25_96_c3_o2_l5ll16pl64b0.25.MV1\n",
      "mobilenettinyv2_0.25_96_c3_o2_l5ll16pl32b0.25.MV1\n",
      "mobilenettinyv2_0.2_96_c3_o2_l5ll16pl64b0.25.MV1\n",
      "mobilenettinyv2_0.35_96_c3_o2_l5ll16pl64b0.25.MV1\n",
      "mobilenettinyv2_0.35_96_c3_o2_l5ll16pl32b0.25.MV1\n",
      "mobilenettinyv2_0.5_96_c3_o2_l5ll16pl32b0.25.MV1\n",
      "mobilenettinyv2_0.5_96_c3_o2_l5ll16pl64b0.25.MV1\n",
      "mobilenettiny_0.7_96_c3_o2_l5ll16pl32b0.25.MV1NBNLR\n",
      "mobilenettiny_0.7_96_c3_o2_l5ll64pl64b0.25.MV1NBNHS\n",
      "mobilenetv1_0.25_96_c3_o1000_l5ll512pl1024b1.MV1\n",
      "mobilenetv1_0.25_96_c3_o1000_l5ll512pl1024b0.25.MV1\n",
      "mobilenetv1_0.25_224_c3_o1000_l5ll512pl1024b1.MV1\n",
      "mobilenetv1_0.25_32_c3_o1000_l5ll512pl1024b1.MV1\n",
      "mobilenetv1_1_96_c3_o2_l5ll64pl64b0.25.MV1NBN\n",
      "mobilenetv1_0.35_96_c3_o2_l5ll256pl512b0.5.MV1NBN\n",
      "mobilenetv1_0.25_96_c3_o2_l5ll256pl512b0.5.MV1NBN\n",
      "mobilenetv1_0.25_96_c3_o2_l5ll128pl512.MV1NBN\n",
      "mobilenetv1_0.35_96_c3_o2_l5ll1024pl512.MV1NBN\n",
      "mobilenetv1_0.25_96_c3_o10_l5ll1024pl512.MV1\n",
      "mobilenetv1_0.25_224_c3_o10_l5ll1024pl512.MV1\n",
      "mobilenetv1_0.25_32_c3_o10_l5ll1024pl512.MV1\n",
      "mobilenetv1_0.25_32_c3_o2_l5ll1024pl512.MV1\n",
      "mobilenetv1_0.25_224_c3_o2_l5ll1024pl512.MV1\n",
      "mobilenetv1_0.3_96_c3_o2_l2ll32pl128.MV1\n",
      "mobilenetv1_0.3_96_c3_o2_l4ll32pl128.MV1\n",
      "mobilenetv1_0.3_96_c3_o2_l3ll32pl128.MV1\n",
      "mobilenetv1_0.3_96_c3_o2_l5ll256.MV1\n",
      "mobilenetv1_0.3_96_c3_o2_l5ll512.MV1\n",
      "mobilenext_0.1_96_c3_o2_i1st16\n",
      "mobilenext_0.2_96_c3_o2_i1\n",
      "nan\n",
      "4oujcu8h\n"
     ]
    },
    {
     "data": {
      "application/vnd.jupyter.widget-view+json": {
       "model_id": "ae277b726d15440ca2b4ae9518ecd20e",
       "version_major": 2,
       "version_minor": 0
      },
      "text/plain": [
       "VBox(children=(Label(value='Waiting for wandb.init()...\\r'), FloatProgress(value=0.016666666666666666, max=1.0…"
      ]
     },
     "metadata": {},
     "output_type": "display_data"
    },
    {
     "data": {
      "text/html": [
       "wandb version 0.15.4 is available!  To upgrade, please run:\n",
       " $ pip install wandb --upgrade"
      ],
      "text/plain": [
       "<IPython.core.display.HTML object>"
      ]
     },
     "metadata": {},
     "output_type": "display_data"
    },
    {
     "data": {
      "text/html": [
       "Tracking run with wandb version 0.13.9"
      ],
      "text/plain": [
       "<IPython.core.display.HTML object>"
      ]
     },
     "metadata": {},
     "output_type": "display_data"
    },
    {
     "data": {
      "text/html": [
       "Run data is saved locally in <code>c:\\tiny_mlc\\tiny_cnn\\wandb\\run-20230624_123027-4oujcu8h</code>"
      ],
      "text/plain": [
       "<IPython.core.display.HTML object>"
      ]
     },
     "metadata": {},
     "output_type": "display_data"
    },
    {
     "data": {
      "text/html": [
       "Resuming run <strong><a href=\"https://wandb.ai/susbrock/model_DB/runs/4oujcu8h\" target=\"_blank\">mobilenetv3smallNSQ_0.25_96_c3_o2_se4l128pl128.MV3</a></strong> to <a href=\"https://wandb.ai/susbrock/model_DB\" target=\"_blank\">Weights & Biases</a> (<a href=\"https://wandb.me/run\" target=\"_blank\">docs</a>)<br/>"
      ],
      "text/plain": [
       "<IPython.core.display.HTML object>"
      ]
     },
     "metadata": {},
     "output_type": "display_data"
    },
    {
     "data": {
      "text/html": [
       " View project at <a href=\"https://wandb.ai/susbrock/model_DB\" target=\"_blank\">https://wandb.ai/susbrock/model_DB</a>"
      ],
      "text/plain": [
       "<IPython.core.display.HTML object>"
      ]
     },
     "metadata": {},
     "output_type": "display_data"
    },
    {
     "data": {
      "text/html": [
       " View run at <a href=\"https://wandb.ai/susbrock/model_DB/runs/4oujcu8h\" target=\"_blank\">https://wandb.ai/susbrock/model_DB/runs/4oujcu8h</a>"
      ],
      "text/plain": [
       "<IPython.core.display.HTML object>"
      ]
     },
     "metadata": {},
     "output_type": "display_data"
    },
    {
     "data": {
      "text/html": [
       "Waiting for W&B process to finish... <strong style=\"color:green\">(success).</strong>"
      ],
      "text/plain": [
       "<IPython.core.display.HTML object>"
      ]
     },
     "metadata": {},
     "output_type": "display_data"
    },
    {
     "data": {
      "application/vnd.jupyter.widget-view+json": {
       "model_id": "a43d84ca243646639a8b75d7512b1639",
       "version_major": 2,
       "version_minor": 0
      },
      "text/plain": [
       "VBox(children=(Label(value='0.000 MB of 0.005 MB uploaded (0.000 MB deduped)\\r'), FloatProgress(value=0.0, max…"
      ]
     },
     "metadata": {},
     "output_type": "display_data"
    },
    {
     "data": {
      "text/html": [
       "<style>\n",
       "    table.wandb td:nth-child(1) { padding: 0 10px; text-align: left ; width: auto;} td:nth-child(2) {text-align: left ; width: 100%}\n",
       "    .wandb-row { display: flex; flex-direction: row; flex-wrap: wrap; justify-content: flex-start; width: 100% }\n",
       "    .wandb-col { display: flex; flex-direction: column; flex-basis: 100%; flex: 1; padding: 10px; }\n",
       "    </style>\n",
       "<div class=\"wandb-row\"><div class=\"wandb-col\"><h3>Run summary:</h3><br/><table class=\"wandb\"><tr><td>test_accuracy</td><td>nan</td></tr></table><br/></div></div>"
      ],
      "text/plain": [
       "<IPython.core.display.HTML object>"
      ]
     },
     "metadata": {},
     "output_type": "display_data"
    },
    {
     "data": {
      "text/html": [
       " View run <strong style=\"color:#cdcd00\">mobilenetv3smallNSQ_0.25_96_c3_o2_se4l128pl128.MV3</strong> at: <a href=\"https://wandb.ai/susbrock/model_DB/runs/4oujcu8h\" target=\"_blank\">https://wandb.ai/susbrock/model_DB/runs/4oujcu8h</a><br/>Synced 2 W&B file(s), 0 media file(s), 0 artifact file(s) and 1 other file(s)"
      ],
      "text/plain": [
       "<IPython.core.display.HTML object>"
      ]
     },
     "metadata": {},
     "output_type": "display_data"
    },
    {
     "data": {
      "text/html": [
       "Find logs at: <code>.\\wandb\\run-20230624_123027-4oujcu8h\\logs</code>"
      ],
      "text/plain": [
       "<IPython.core.display.HTML object>"
      ]
     },
     "metadata": {},
     "output_type": "display_data"
    },
    {
     "name": "stdout",
     "output_type": "stream",
     "text": [
      "mobilenetv3smallNSQ_0.5_96_c3_o2_se4l32.MV1\n",
      "mobilenetv3small_1_224_c3_o2_000\n",
      "mobilenetv2_0.1_96_c3_o2_t6l64.MV1\n",
      "nan\n",
      "41xhzi9z\n"
     ]
    },
    {
     "data": {
      "application/vnd.jupyter.widget-view+json": {
       "model_id": "d2004623bbc34dd8ae0fdb31047ebaa6",
       "version_major": 2,
       "version_minor": 0
      },
      "text/plain": [
       "VBox(children=(Label(value='Waiting for wandb.init()...\\r'), FloatProgress(value=0.016916666666899498, max=1.0…"
      ]
     },
     "metadata": {},
     "output_type": "display_data"
    },
    {
     "data": {
      "text/html": [
       "wandb version 0.15.4 is available!  To upgrade, please run:\n",
       " $ pip install wandb --upgrade"
      ],
      "text/plain": [
       "<IPython.core.display.HTML object>"
      ]
     },
     "metadata": {},
     "output_type": "display_data"
    },
    {
     "data": {
      "text/html": [
       "Tracking run with wandb version 0.13.9"
      ],
      "text/plain": [
       "<IPython.core.display.HTML object>"
      ]
     },
     "metadata": {},
     "output_type": "display_data"
    },
    {
     "data": {
      "text/html": [
       "Run data is saved locally in <code>c:\\tiny_mlc\\tiny_cnn\\wandb\\run-20230624_123044-41xhzi9z</code>"
      ],
      "text/plain": [
       "<IPython.core.display.HTML object>"
      ]
     },
     "metadata": {},
     "output_type": "display_data"
    },
    {
     "data": {
      "text/html": [
       "Resuming run <strong><a href=\"https://wandb.ai/susbrock/model_DB/runs/41xhzi9z\" target=\"_blank\">mobilenext_0.1_96_c3_o2_i1</a></strong> to <a href=\"https://wandb.ai/susbrock/model_DB\" target=\"_blank\">Weights & Biases</a> (<a href=\"https://wandb.me/run\" target=\"_blank\">docs</a>)<br/>"
      ],
      "text/plain": [
       "<IPython.core.display.HTML object>"
      ]
     },
     "metadata": {},
     "output_type": "display_data"
    },
    {
     "data": {
      "text/html": [
       " View project at <a href=\"https://wandb.ai/susbrock/model_DB\" target=\"_blank\">https://wandb.ai/susbrock/model_DB</a>"
      ],
      "text/plain": [
       "<IPython.core.display.HTML object>"
      ]
     },
     "metadata": {},
     "output_type": "display_data"
    },
    {
     "data": {
      "text/html": [
       " View run at <a href=\"https://wandb.ai/susbrock/model_DB/runs/41xhzi9z\" target=\"_blank\">https://wandb.ai/susbrock/model_DB/runs/41xhzi9z</a>"
      ],
      "text/plain": [
       "<IPython.core.display.HTML object>"
      ]
     },
     "metadata": {},
     "output_type": "display_data"
    },
    {
     "data": {
      "text/html": [
       "Waiting for W&B process to finish... <strong style=\"color:green\">(success).</strong>"
      ],
      "text/plain": [
       "<IPython.core.display.HTML object>"
      ]
     },
     "metadata": {},
     "output_type": "display_data"
    },
    {
     "data": {
      "application/vnd.jupyter.widget-view+json": {
       "model_id": "b1b11d78b2e34f0eb6dbc2cd6cc36993",
       "version_major": 2,
       "version_minor": 0
      },
      "text/plain": [
       "VBox(children=(Label(value='0.000 MB of 0.007 MB uploaded (0.000 MB deduped)\\r'), FloatProgress(value=0.0, max…"
      ]
     },
     "metadata": {},
     "output_type": "display_data"
    },
    {
     "data": {
      "text/html": [
       "<style>\n",
       "    table.wandb td:nth-child(1) { padding: 0 10px; text-align: left ; width: auto;} td:nth-child(2) {text-align: left ; width: 100%}\n",
       "    .wandb-row { display: flex; flex-direction: row; flex-wrap: wrap; justify-content: flex-start; width: 100% }\n",
       "    .wandb-col { display: flex; flex-direction: column; flex-basis: 100%; flex: 1; padding: 10px; }\n",
       "    </style>\n",
       "<div class=\"wandb-row\"><div class=\"wandb-col\"><h3>Run summary:</h3><br/><table class=\"wandb\"><tr><td>allocate_tensors_ms_%</td><td>39.356</td></tr><tr><td>allocate_tensors_ms_avg</td><td>0.159</td></tr><tr><td>allocate_tensors_ms_first</td><td>0.159</td></tr><tr><td>arena_size</td><td>0</td></tr><tr><td>first_inference_us</td><td>26307</td></tr><tr><td>inference_avg_us</td><td>3724.46</td></tr><tr><td>init_us</td><td>258446</td></tr><tr><td>initialization_ms</td><td>258.446</td></tr><tr><td>model_size_MB</td><td>0.15191</td></tr><tr><td>modify_graph_with_delegate_mem_KB</td><td>0</td></tr><tr><td>modify_graph_with_delegate_ms_%</td><td>60.644</td></tr><tr><td>modify_graph_with_delegate_ms_avg</td><td>0.245</td></tr><tr><td>modify_graph_with_delegate_ms_first</td><td>0.245</td></tr><tr><td>stm32_RAM_b_INT8</td><td>122668</td></tr><tr><td>stm32_activations_b_INT8</td><td>75732</td></tr><tr><td>stm32_cycles_per_macc_b_INT8</td><td>4.51</td></tr><tr><td>stm32_flash_b_INT8</td><td>141036</td></tr><tr><td>stm32_inference_ms_INT8</td><td>100.076</td></tr><tr><td>stm32_macc_b_INT8</td><td>4795933</td></tr><tr><td>stm32_weights_b_INT8</td><td>38812</td></tr><tr><td>test_accuracy</td><td>nan</td></tr><tr><td>warmup_avg_us</td><td>3532.6</td></tr></table><br/></div></div>"
      ],
      "text/plain": [
       "<IPython.core.display.HTML object>"
      ]
     },
     "metadata": {},
     "output_type": "display_data"
    },
    {
     "data": {
      "text/html": [
       " View run <strong style=\"color:#cdcd00\">mobilenext_0.1_96_c3_o2_i1</strong> at: <a href=\"https://wandb.ai/susbrock/model_DB/runs/41xhzi9z\" target=\"_blank\">https://wandb.ai/susbrock/model_DB/runs/41xhzi9z</a><br/>Synced 2 W&B file(s), 0 media file(s), 0 artifact file(s) and 1 other file(s)"
      ],
      "text/plain": [
       "<IPython.core.display.HTML object>"
      ]
     },
     "metadata": {},
     "output_type": "display_data"
    },
    {
     "data": {
      "text/html": [
       "Find logs at: <code>.\\wandb\\run-20230624_123044-41xhzi9z\\logs</code>"
      ],
      "text/plain": [
       "<IPython.core.display.HTML object>"
      ]
     },
     "metadata": {},
     "output_type": "display_data"
    },
    {
     "name": "stdout",
     "output_type": "stream",
     "text": [
      "shufflenetv2tiny_0.1_96_c3_o2_f8l1024\n",
      "MobilenetV3small_1_224_c3_o2_keras\n",
      "mobilenetv2_0.25_96_c3_o2_t5l512.MV1\n",
      "mobilenetv2_0.2_96_c3_o2_t2l64.MV1\n",
      "mobilenetv2_0.1_96_c3_o2_t6l512.MV1\n",
      "mobilenetv2_0.1_96_c3_o2_t6l256.MV1\n",
      "mobilenetv2_0.1_96_c3_o2_t6l128.MV1\n",
      "mobilenetv2_0.1_96_c3_o2_t3l1024.MV1\n",
      "mobilenetv2_0.1_96_c3_o2_t4l1024.MV1\n",
      "mobilenetv2_0.1_96_c3_o2_t5l1024.MV1\n",
      "0.7858250737190247\n",
      "76rlaod2\n"
     ]
    },
    {
     "data": {
      "application/vnd.jupyter.widget-view+json": {
       "model_id": "11892e70ac8641c99ef9728d38bd2ad9",
       "version_major": 2,
       "version_minor": 0
      },
      "text/plain": [
       "VBox(children=(Label(value='Waiting for wandb.init()...\\r'), FloatProgress(value=0.016666666666666666, max=1.0…"
      ]
     },
     "metadata": {},
     "output_type": "display_data"
    },
    {
     "data": {
      "text/html": [
       "wandb version 0.15.4 is available!  To upgrade, please run:\n",
       " $ pip install wandb --upgrade"
      ],
      "text/plain": [
       "<IPython.core.display.HTML object>"
      ]
     },
     "metadata": {},
     "output_type": "display_data"
    },
    {
     "data": {
      "text/html": [
       "Tracking run with wandb version 0.13.9"
      ],
      "text/plain": [
       "<IPython.core.display.HTML object>"
      ]
     },
     "metadata": {},
     "output_type": "display_data"
    },
    {
     "data": {
      "text/html": [
       "Run data is saved locally in <code>c:\\tiny_mlc\\tiny_cnn\\wandb\\run-20230624_123101-76rlaod2</code>"
      ],
      "text/plain": [
       "<IPython.core.display.HTML object>"
      ]
     },
     "metadata": {},
     "output_type": "display_data"
    },
    {
     "data": {
      "text/html": [
       "Resuming run <strong><a href=\"https://wandb.ai/susbrock/model_DB/runs/76rlaod2\" target=\"_blank\">mobilenetv2_0.25_96_c3_o2_t1l1024.MV1</a></strong> to <a href=\"https://wandb.ai/susbrock/model_DB\" target=\"_blank\">Weights & Biases</a> (<a href=\"https://wandb.me/run\" target=\"_blank\">docs</a>)<br/>"
      ],
      "text/plain": [
       "<IPython.core.display.HTML object>"
      ]
     },
     "metadata": {},
     "output_type": "display_data"
    },
    {
     "data": {
      "text/html": [
       " View project at <a href=\"https://wandb.ai/susbrock/model_DB\" target=\"_blank\">https://wandb.ai/susbrock/model_DB</a>"
      ],
      "text/plain": [
       "<IPython.core.display.HTML object>"
      ]
     },
     "metadata": {},
     "output_type": "display_data"
    },
    {
     "data": {
      "text/html": [
       " View run at <a href=\"https://wandb.ai/susbrock/model_DB/runs/76rlaod2\" target=\"_blank\">https://wandb.ai/susbrock/model_DB/runs/76rlaod2</a>"
      ],
      "text/plain": [
       "<IPython.core.display.HTML object>"
      ]
     },
     "metadata": {},
     "output_type": "display_data"
    },
    {
     "data": {
      "text/html": [
       "Waiting for W&B process to finish... <strong style=\"color:green\">(success).</strong>"
      ],
      "text/plain": [
       "<IPython.core.display.HTML object>"
      ]
     },
     "metadata": {},
     "output_type": "display_data"
    },
    {
     "data": {
      "application/vnd.jupyter.widget-view+json": {
       "model_id": "f96dd50baf254b088f1c038e814f3161",
       "version_major": 2,
       "version_minor": 0
      },
      "text/plain": [
       "VBox(children=(Label(value='0.000 MB of 0.005 MB uploaded (0.000 MB deduped)\\r'), FloatProgress(value=0.0, max…"
      ]
     },
     "metadata": {},
     "output_type": "display_data"
    },
    {
     "data": {
      "text/html": [
       "<style>\n",
       "    table.wandb td:nth-child(1) { padding: 0 10px; text-align: left ; width: auto;} td:nth-child(2) {text-align: left ; width: 100%}\n",
       "    .wandb-row { display: flex; flex-direction: row; flex-wrap: wrap; justify-content: flex-start; width: 100% }\n",
       "    .wandb-col { display: flex; flex-direction: column; flex-basis: 100%; flex: 1; padding: 10px; }\n",
       "    </style>\n",
       "<div class=\"wandb-row\"><div class=\"wandb-col\"><h3>Run history:</h3><br/><table class=\"wandb\"><tr><td>test_accuracy</td><td>▁</td></tr></table><br/></div><div class=\"wandb-col\"><h3>Run summary:</h3><br/><table class=\"wandb\"><tr><td>c_array_b</td><td>300832</td></tr><tr><td>test_accuracy</td><td>0.78583</td></tr></table><br/></div></div>"
      ],
      "text/plain": [
       "<IPython.core.display.HTML object>"
      ]
     },
     "metadata": {},
     "output_type": "display_data"
    },
    {
     "data": {
      "text/html": [
       " View run <strong style=\"color:#cdcd00\">mobilenetv2_0.25_96_c3_o2_t1l1024.MV1</strong> at: <a href=\"https://wandb.ai/susbrock/model_DB/runs/76rlaod2\" target=\"_blank\">https://wandb.ai/susbrock/model_DB/runs/76rlaod2</a><br/>Synced 2 W&B file(s), 0 media file(s), 0 artifact file(s) and 1 other file(s)"
      ],
      "text/plain": [
       "<IPython.core.display.HTML object>"
      ]
     },
     "metadata": {},
     "output_type": "display_data"
    },
    {
     "data": {
      "text/html": [
       "Find logs at: <code>.\\wandb\\run-20230624_123101-76rlaod2\\logs</code>"
      ],
      "text/plain": [
       "<IPython.core.display.HTML object>"
      ]
     },
     "metadata": {},
     "output_type": "display_data"
    },
    {
     "name": "stdout",
     "output_type": "stream",
     "text": [
      "0.8085377812385559\n",
      "jpbggb5v\n"
     ]
    },
    {
     "data": {
      "application/vnd.jupyter.widget-view+json": {
       "model_id": "f8878176e9464d899b5e444eee666132",
       "version_major": 2,
       "version_minor": 0
      },
      "text/plain": [
       "VBox(children=(Label(value='Waiting for wandb.init()...\\r'), FloatProgress(value=0.01693333333435779, max=1.0)…"
      ]
     },
     "metadata": {},
     "output_type": "display_data"
    },
    {
     "data": {
      "text/html": [
       "wandb version 0.15.4 is available!  To upgrade, please run:\n",
       " $ pip install wandb --upgrade"
      ],
      "text/plain": [
       "<IPython.core.display.HTML object>"
      ]
     },
     "metadata": {},
     "output_type": "display_data"
    },
    {
     "data": {
      "text/html": [
       "Tracking run with wandb version 0.13.9"
      ],
      "text/plain": [
       "<IPython.core.display.HTML object>"
      ]
     },
     "metadata": {},
     "output_type": "display_data"
    },
    {
     "data": {
      "text/html": [
       "Run data is saved locally in <code>c:\\tiny_mlc\\tiny_cnn\\wandb\\run-20230624_123117-jpbggb5v</code>"
      ],
      "text/plain": [
       "<IPython.core.display.HTML object>"
      ]
     },
     "metadata": {},
     "output_type": "display_data"
    },
    {
     "data": {
      "text/html": [
       "Resuming run <strong><a href=\"https://wandb.ai/susbrock/model_DB/runs/jpbggb5v\" target=\"_blank\">mobilenetv2_0.25_96_c3_o2_t2l1024.MV1</a></strong> to <a href=\"https://wandb.ai/susbrock/model_DB\" target=\"_blank\">Weights & Biases</a> (<a href=\"https://wandb.me/run\" target=\"_blank\">docs</a>)<br/>"
      ],
      "text/plain": [
       "<IPython.core.display.HTML object>"
      ]
     },
     "metadata": {},
     "output_type": "display_data"
    },
    {
     "data": {
      "text/html": [
       " View project at <a href=\"https://wandb.ai/susbrock/model_DB\" target=\"_blank\">https://wandb.ai/susbrock/model_DB</a>"
      ],
      "text/plain": [
       "<IPython.core.display.HTML object>"
      ]
     },
     "metadata": {},
     "output_type": "display_data"
    },
    {
     "data": {
      "text/html": [
       " View run at <a href=\"https://wandb.ai/susbrock/model_DB/runs/jpbggb5v\" target=\"_blank\">https://wandb.ai/susbrock/model_DB/runs/jpbggb5v</a>"
      ],
      "text/plain": [
       "<IPython.core.display.HTML object>"
      ]
     },
     "metadata": {},
     "output_type": "display_data"
    },
    {
     "data": {
      "text/html": [
       "Waiting for W&B process to finish... <strong style=\"color:green\">(success).</strong>"
      ],
      "text/plain": [
       "<IPython.core.display.HTML object>"
      ]
     },
     "metadata": {},
     "output_type": "display_data"
    },
    {
     "data": {
      "application/vnd.jupyter.widget-view+json": {
       "model_id": "360f10150f0d4c44b13d5cbc67782b00",
       "version_major": 2,
       "version_minor": 0
      },
      "text/plain": [
       "VBox(children=(Label(value='0.000 MB of 0.112 MB uploaded (0.000 MB deduped)\\r'), FloatProgress(value=0.0, max…"
      ]
     },
     "metadata": {},
     "output_type": "display_data"
    },
    {
     "data": {
      "text/html": [
       "<style>\n",
       "    table.wandb td:nth-child(1) { padding: 0 10px; text-align: left ; width: auto;} td:nth-child(2) {text-align: left ; width: 100%}\n",
       "    .wandb-row { display: flex; flex-direction: row; flex-wrap: wrap; justify-content: flex-start; width: 100% }\n",
       "    .wandb-col { display: flex; flex-direction: column; flex-basis: 100%; flex: 1; padding: 10px; }\n",
       "    </style>\n",
       "<div class=\"wandb-row\"><div class=\"wandb-col\"><h3>Run history:</h3><br/><table class=\"wandb\"><tr><td>test_accuracy</td><td>▁</td></tr></table><br/></div><div class=\"wandb-col\"><h3>Run summary:</h3><br/><table class=\"wandb\"><tr><td>c_array_b</td><td>300832</td></tr><tr><td>test_accuracy</td><td>0.80854</td></tr></table><br/></div></div>"
      ],
      "text/plain": [
       "<IPython.core.display.HTML object>"
      ]
     },
     "metadata": {},
     "output_type": "display_data"
    },
    {
     "data": {
      "text/html": [
       " View run <strong style=\"color:#cdcd00\">mobilenetv2_0.25_96_c3_o2_t2l1024.MV1</strong> at: <a href=\"https://wandb.ai/susbrock/model_DB/runs/jpbggb5v\" target=\"_blank\">https://wandb.ai/susbrock/model_DB/runs/jpbggb5v</a><br/>Synced 2 W&B file(s), 0 media file(s), 0 artifact file(s) and 1 other file(s)"
      ],
      "text/plain": [
       "<IPython.core.display.HTML object>"
      ]
     },
     "metadata": {},
     "output_type": "display_data"
    },
    {
     "data": {
      "text/html": [
       "Find logs at: <code>.\\wandb\\run-20230624_123117-jpbggb5v\\logs</code>"
      ],
      "text/plain": [
       "<IPython.core.display.HTML object>"
      ]
     },
     "metadata": {},
     "output_type": "display_data"
    },
    {
     "name": "stdout",
     "output_type": "stream",
     "text": [
      "0.8234972357749939\n",
      "a9vr672c\n"
     ]
    },
    {
     "data": {
      "application/vnd.jupyter.widget-view+json": {
       "model_id": "42ab82d2b92c44b693fcfb548577e904",
       "version_major": 2,
       "version_minor": 0
      },
      "text/plain": [
       "VBox(children=(Label(value='Waiting for wandb.init()...\\r'), FloatProgress(value=0.016916666666899498, max=1.0…"
      ]
     },
     "metadata": {},
     "output_type": "display_data"
    },
    {
     "data": {
      "text/html": [
       "wandb version 0.15.4 is available!  To upgrade, please run:\n",
       " $ pip install wandb --upgrade"
      ],
      "text/plain": [
       "<IPython.core.display.HTML object>"
      ]
     },
     "metadata": {},
     "output_type": "display_data"
    },
    {
     "data": {
      "text/html": [
       "Tracking run with wandb version 0.13.9"
      ],
      "text/plain": [
       "<IPython.core.display.HTML object>"
      ]
     },
     "metadata": {},
     "output_type": "display_data"
    },
    {
     "data": {
      "text/html": [
       "Run data is saved locally in <code>c:\\tiny_mlc\\tiny_cnn\\wandb\\run-20230624_123129-a9vr672c</code>"
      ],
      "text/plain": [
       "<IPython.core.display.HTML object>"
      ]
     },
     "metadata": {},
     "output_type": "display_data"
    },
    {
     "data": {
      "text/html": [
       "Resuming run <strong><a href=\"https://wandb.ai/susbrock/model_DB/runs/a9vr672c\" target=\"_blank\">mobilenetv2_0.25_96_c3_o2_t3l1024.MV1</a></strong> to <a href=\"https://wandb.ai/susbrock/model_DB\" target=\"_blank\">Weights & Biases</a> (<a href=\"https://wandb.me/run\" target=\"_blank\">docs</a>)<br/>"
      ],
      "text/plain": [
       "<IPython.core.display.HTML object>"
      ]
     },
     "metadata": {},
     "output_type": "display_data"
    },
    {
     "data": {
      "text/html": [
       " View project at <a href=\"https://wandb.ai/susbrock/model_DB\" target=\"_blank\">https://wandb.ai/susbrock/model_DB</a>"
      ],
      "text/plain": [
       "<IPython.core.display.HTML object>"
      ]
     },
     "metadata": {},
     "output_type": "display_data"
    },
    {
     "data": {
      "text/html": [
       " View run at <a href=\"https://wandb.ai/susbrock/model_DB/runs/a9vr672c\" target=\"_blank\">https://wandb.ai/susbrock/model_DB/runs/a9vr672c</a>"
      ],
      "text/plain": [
       "<IPython.core.display.HTML object>"
      ]
     },
     "metadata": {},
     "output_type": "display_data"
    },
    {
     "data": {
      "text/html": [
       "Waiting for W&B process to finish... <strong style=\"color:green\">(success).</strong>"
      ],
      "text/plain": [
       "<IPython.core.display.HTML object>"
      ]
     },
     "metadata": {},
     "output_type": "display_data"
    },
    {
     "data": {
      "application/vnd.jupyter.widget-view+json": {
       "model_id": "1a20f65a46cd4081b86f44917a24c895",
       "version_major": 2,
       "version_minor": 0
      },
      "text/plain": [
       "VBox(children=(Label(value='0.000 MB of 0.005 MB uploaded (0.000 MB deduped)\\r'), FloatProgress(value=0.0, max…"
      ]
     },
     "metadata": {},
     "output_type": "display_data"
    },
    {
     "data": {
      "text/html": [
       "<style>\n",
       "    table.wandb td:nth-child(1) { padding: 0 10px; text-align: left ; width: auto;} td:nth-child(2) {text-align: left ; width: 100%}\n",
       "    .wandb-row { display: flex; flex-direction: row; flex-wrap: wrap; justify-content: flex-start; width: 100% }\n",
       "    .wandb-col { display: flex; flex-direction: column; flex-basis: 100%; flex: 1; padding: 10px; }\n",
       "    </style>\n",
       "<div class=\"wandb-row\"><div class=\"wandb-col\"><h3>Run history:</h3><br/><table class=\"wandb\"><tr><td>test_accuracy</td><td>▁</td></tr></table><br/></div><div class=\"wandb-col\"><h3>Run summary:</h3><br/><table class=\"wandb\"><tr><td>c_array_b</td><td>300832</td></tr><tr><td>test_accuracy</td><td>0.8235</td></tr></table><br/></div></div>"
      ],
      "text/plain": [
       "<IPython.core.display.HTML object>"
      ]
     },
     "metadata": {},
     "output_type": "display_data"
    },
    {
     "data": {
      "text/html": [
       " View run <strong style=\"color:#cdcd00\">mobilenetv2_0.25_96_c3_o2_t3l1024.MV1</strong> at: <a href=\"https://wandb.ai/susbrock/model_DB/runs/a9vr672c\" target=\"_blank\">https://wandb.ai/susbrock/model_DB/runs/a9vr672c</a><br/>Synced 2 W&B file(s), 0 media file(s), 0 artifact file(s) and 1 other file(s)"
      ],
      "text/plain": [
       "<IPython.core.display.HTML object>"
      ]
     },
     "metadata": {},
     "output_type": "display_data"
    },
    {
     "data": {
      "text/html": [
       "Find logs at: <code>.\\wandb\\run-20230624_123129-a9vr672c\\logs</code>"
      ],
      "text/plain": [
       "<IPython.core.display.HTML object>"
      ]
     },
     "metadata": {},
     "output_type": "display_data"
    },
    {
     "name": "stdout",
     "output_type": "stream",
     "text": [
      "mobilenetv2_0.25_96_c3_o2_t6l1024.GAP\n",
      "mobilenetv1_0.1_224_c3_o2_l5.GAP\n",
      "mobilenetv1_0.1_224_c3_o2_l5.MV1\n",
      "MobilenetV3small_1_96_c3_o3_keras\n",
      "shufflenetv2tiny_0.05_96_c3_o2_f24l1024\n",
      "shufflenetv2tiny_0.2_96_c3_o2_f24l1024\n",
      "shufflenetv2tiny_0.35_96_c3_o2_f24l1024\n",
      "shufflenetv2tiny_0.5_96_c3_o2_f24l1024\n",
      "shufflenetv2_1_96_c3_o2_000\n",
      "shufflenetv2_1_96_c3_o2_nosplit\n",
      "nan\n",
      "zhmiturf\n"
     ]
    },
    {
     "data": {
      "text/html": [
       "wandb version 0.15.4 is available!  To upgrade, please run:\n",
       " $ pip install wandb --upgrade"
      ],
      "text/plain": [
       "<IPython.core.display.HTML object>"
      ]
     },
     "metadata": {},
     "output_type": "display_data"
    },
    {
     "data": {
      "text/html": [
       "Tracking run with wandb version 0.13.9"
      ],
      "text/plain": [
       "<IPython.core.display.HTML object>"
      ]
     },
     "metadata": {},
     "output_type": "display_data"
    },
    {
     "data": {
      "text/html": [
       "Run data is saved locally in <code>c:\\tiny_mlc\\tiny_cnn\\wandb\\run-20230624_123142-zhmiturf</code>"
      ],
      "text/plain": [
       "<IPython.core.display.HTML object>"
      ]
     },
     "metadata": {},
     "output_type": "display_data"
    },
    {
     "data": {
      "text/html": [
       "Resuming run <strong><a href=\"https://wandb.ai/susbrock/model_DB/runs/zhmiturf\" target=\"_blank\">mnasnet_1_96_c3_o2_keras</a></strong> to <a href=\"https://wandb.ai/susbrock/model_DB\" target=\"_blank\">Weights & Biases</a> (<a href=\"https://wandb.me/run\" target=\"_blank\">docs</a>)<br/>"
      ],
      "text/plain": [
       "<IPython.core.display.HTML object>"
      ]
     },
     "metadata": {},
     "output_type": "display_data"
    },
    {
     "data": {
      "text/html": [
       " View project at <a href=\"https://wandb.ai/susbrock/model_DB\" target=\"_blank\">https://wandb.ai/susbrock/model_DB</a>"
      ],
      "text/plain": [
       "<IPython.core.display.HTML object>"
      ]
     },
     "metadata": {},
     "output_type": "display_data"
    },
    {
     "data": {
      "text/html": [
       " View run at <a href=\"https://wandb.ai/susbrock/model_DB/runs/zhmiturf\" target=\"_blank\">https://wandb.ai/susbrock/model_DB/runs/zhmiturf</a>"
      ],
      "text/plain": [
       "<IPython.core.display.HTML object>"
      ]
     },
     "metadata": {},
     "output_type": "display_data"
    },
    {
     "data": {
      "text/html": [
       "Waiting for W&B process to finish... <strong style=\"color:green\">(success).</strong>"
      ],
      "text/plain": [
       "<IPython.core.display.HTML object>"
      ]
     },
     "metadata": {},
     "output_type": "display_data"
    },
    {
     "data": {
      "application/vnd.jupyter.widget-view+json": {
       "model_id": "6b466e1d69f044408b8f458264050578",
       "version_major": 2,
       "version_minor": 0
      },
      "text/plain": [
       "VBox(children=(Label(value='0.000 MB of 0.000 MB uploaded (0.000 MB deduped)\\r'), FloatProgress(value=1.0, max…"
      ]
     },
     "metadata": {},
     "output_type": "display_data"
    },
    {
     "data": {
      "text/html": [
       "<style>\n",
       "    table.wandb td:nth-child(1) { padding: 0 10px; text-align: left ; width: auto;} td:nth-child(2) {text-align: left ; width: 100%}\n",
       "    .wandb-row { display: flex; flex-direction: row; flex-wrap: wrap; justify-content: flex-start; width: 100% }\n",
       "    .wandb-col { display: flex; flex-direction: column; flex-basis: 100%; flex: 1; padding: 10px; }\n",
       "    </style>\n",
       "<div class=\"wandb-row\"><div class=\"wandb-col\"><h3>Run summary:</h3><br/><table class=\"wandb\"><tr><td>allocate_tensors_ms_%</td><td>0.759</td></tr><tr><td>allocate_tensors_ms_avg</td><td>0.451</td></tr><tr><td>allocate_tensors_ms_first</td><td>0.451</td></tr><tr><td>first_inference_us</td><td>53846</td></tr><tr><td>inference_avg_us</td><td>19160.6</td></tr><tr><td>init_us</td><td>611592</td></tr><tr><td>initialization_ms</td><td>611.592</td></tr><tr><td>model_size_MB</td><td>5.27461</td></tr><tr><td>modify_graph_with_delegate_mem_KB</td><td>13068</td></tr><tr><td>modify_graph_with_delegate_ms_%</td><td>99.241</td></tr><tr><td>modify_graph_with_delegate_ms_avg</td><td>58.974</td></tr><tr><td>modify_graph_with_delegate_ms_first</td><td>58.974</td></tr><tr><td>test_accuracy</td><td>nan</td></tr><tr><td>warmup_avg_us</td><td>19548.3</td></tr></table><br/></div></div>"
      ],
      "text/plain": [
       "<IPython.core.display.HTML object>"
      ]
     },
     "metadata": {},
     "output_type": "display_data"
    },
    {
     "data": {
      "text/html": [
       " View run <strong style=\"color:#cdcd00\">mnasnet_1_96_c3_o2_keras</strong> at: <a href=\"https://wandb.ai/susbrock/model_DB/runs/zhmiturf\" target=\"_blank\">https://wandb.ai/susbrock/model_DB/runs/zhmiturf</a><br/>Synced 2 W&B file(s), 0 media file(s), 0 artifact file(s) and 1 other file(s)"
      ],
      "text/plain": [
       "<IPython.core.display.HTML object>"
      ]
     },
     "metadata": {},
     "output_type": "display_data"
    },
    {
     "data": {
      "text/html": [
       "Find logs at: <code>.\\wandb\\run-20230624_123142-zhmiturf\\logs</code>"
      ],
      "text/plain": [
       "<IPython.core.display.HTML object>"
      ]
     },
     "metadata": {},
     "output_type": "display_data"
    },
    {
     "name": "stdout",
     "output_type": "stream",
     "text": [
      "mobilenetv2_0.1_96_c3_o2_l5\n",
      "mobilenetv2_0.2_96_c3_o2_l5\n",
      "mobilenetv2_0.5_96_c3_o2_l5\n",
      "mobilenetv2_0.35_96_c3_o2_l5\n",
      "mobilenetv2_1_96_c3_o2_l5\n",
      "mobilenetv2_1_96_c3_o2_keras\n",
      "mobilenetv2_0.5_96_c3_o2_keras\n",
      "mobilenetv1_1_96_c3_o2_l5\n",
      "mobilenetv1_1_96_c3_o2_l4\n",
      "mobilenetv1_1_96_c3_o2_l3\n",
      "mobilenetv1_1_96_c3_o2_l2\n",
      "mobilenetv1_1_96_c3_o2_l1\n"
     ]
    }
   ],
   "source": [
    "for architecture in architectures:\n",
    "    try:\n",
    "        test_accuracy = training_df.query(f\"architecture=='{architecture}'\")[\"test_accuracy\"].values[0]\n",
    "        #test_loss = training_df.query(f\"architecture=='{architecture}'\")[\"test_loss\"].values[0]\n",
    "        print(test_accuracy)\n",
    "\n",
    "        try:\n",
    "            #run_id = df.query(f\"Name=='{architecture}'\")[\"id\"]#.values[0]\n",
    "            run_id = get_model_DB_run_id_from_architecture(architecture) # too slow, because of multiple API calls\n",
    "            print(run_id)\n",
    "\n",
    "    \n",
    "\n",
    "            run = wandb.init(\n",
    "            # Set the project where this run will be logged\n",
    "            project=\"model_DB\", \n",
    "            id = run_id, \n",
    "            resume=\"allow\",\n",
    "            )\n",
    "\n",
    "            run.log({\"test_accuracy\" : test_accuracy})#,\n",
    "                    #\"test_loss\" : test_loss})\n",
    "\n",
    "            wandb.finish()\n",
    "\n",
    "        except:\n",
    "            print(f\"{architecture} has no run_id\")\n",
    "    except:\n",
    "        print(f\"{architecture}\")"
   ]
  },
  {
   "cell_type": "code",
   "execution_count": 37,
   "metadata": {},
   "outputs": [
    {
     "data": {
      "text/plain": [
       "[]"
      ]
     },
     "execution_count": 37,
     "metadata": {},
     "output_type": "execute_result"
    }
   ],
   "source": [
    "untrained_models = get_untrained_models()\n",
    "untrained_models"
   ]
  },
  {
   "cell_type": "code",
   "execution_count": 38,
   "metadata": {},
   "outputs": [],
   "source": [
    "def wandb_model_vww_training_DB():\n",
    "    api = wandb.Api()\n",
    "    runs = api.runs(\"susbrock/model_DB_visual_wake_words\")\n",
    "\n",
    "    config_df = pd.DataFrame()\n",
    "    name = []\n",
    "    tags =[]\n",
    "    state = []\n",
    "    url = []\n",
    "    created_at = []\n",
    "    path = []\n",
    "    notes = []\n",
    "    test_accuracies = []\n",
    "\n",
    "    for run in runs:\n",
    "        #print(run)\n",
    "        name.append(run.name)\n",
    "        tags.append(run.tags)\n",
    "        state.append(run.state)\n",
    "        url.append(run.url)\n",
    "        created_at.append(run.created_at)\n",
    "        path.append(run.path)\n",
    "        notes.append(run.notes)\n",
    "        test_accuracies.append(run.summary.get(\"test_accuracy\"))\n",
    "\n",
    "        df = pd.DataFrame([run.config], columns=run.config.keys())\n",
    "\n",
    "\n",
    "        config_df = pd.concat([config_df, df], axis=0, ignore_index=True)\n",
    "    col_names = [\"run_name\", \"tags\", \"state\", \"url\", \"created_at\", \"path\", \"notes\", \"test_accuracy\"]\n",
    "    attrs_df = pd.DataFrame(zip(name, tags, state, url,created_at, path, notes, test_accuracies), columns=col_names)\n",
    "\n",
    "    combined_df =  pd.concat([config_df, attrs_df], axis=1)\n",
    "\n",
    "    combined_df.insert(1,\"run_name\" , combined_df.pop(\"run_name\"))\n",
    "    combined_df.insert(3,\"architecture\" , combined_df.pop(\"architecture\"))   \n",
    "    combined_df.insert(2,\"state\" , combined_df.pop(\"state\")) \n",
    "    combined_df.insert(4,\"url\" , combined_df.pop(\"url\")) \n",
    "    \n",
    "    return combined_df"
   ]
  },
  {
   "cell_type": "code",
   "execution_count": 39,
   "metadata": {},
   "outputs": [
    {
     "data": {
      "text/html": [
       "<div>\n",
       "<style scoped>\n",
       "    .dataframe tbody tr th:only-of-type {\n",
       "        vertical-align: middle;\n",
       "    }\n",
       "\n",
       "    .dataframe tbody tr th {\n",
       "        vertical-align: top;\n",
       "    }\n",
       "\n",
       "    .dataframe thead th {\n",
       "        text-align: right;\n",
       "    }\n",
       "</style>\n",
       "<table border=\"1\" class=\"dataframe\">\n",
       "  <thead>\n",
       "    <tr style=\"text-align: right;\">\n",
       "      <th></th>\n",
       "      <th>id</th>\n",
       "      <th>run_name</th>\n",
       "      <th>state</th>\n",
       "      <th>seed</th>\n",
       "      <th>url</th>\n",
       "      <th>architecture</th>\n",
       "      <th>epochs</th>\n",
       "      <th>classes</th>\n",
       "      <th>dataset</th>\n",
       "      <th>hostname</th>\n",
       "      <th>momentum</th>\n",
       "      <th>optimizer</th>\n",
       "      <th>batch_size</th>\n",
       "      <th>learn_rate</th>\n",
       "      <th>batch_norm_momentum</th>\n",
       "      <th>tags</th>\n",
       "      <th>created_at</th>\n",
       "      <th>path</th>\n",
       "      <th>notes</th>\n",
       "      <th>test_accuracy</th>\n",
       "    </tr>\n",
       "  </thead>\n",
       "  <tbody>\n",
       "    <tr>\n",
       "      <th>0</th>\n",
       "      <td>221kp6pp</td>\n",
       "      <td>mobilenettiny_0.7_96_c3_o2_l4ll16pl64b0.25.MV1</td>\n",
       "      <td>finished</td>\n",
       "      <td>15.0</td>\n",
       "      <td>https://wandb.ai/susbrock/model_DB_visual_wake...</td>\n",
       "      <td>mobilenettiny_0.7_96_c3_o2_l4ll16pl64b0.25.MV1</td>\n",
       "      <td>50.0</td>\n",
       "      <td>2.0</td>\n",
       "      <td>vvw_minval_datagen_fix</td>\n",
       "      <td>HP-Omen</td>\n",
       "      <td>0.9</td>\n",
       "      <td>Adam</td>\n",
       "      <td>50.0</td>\n",
       "      <td>0.001</td>\n",
       "      <td>0.9</td>\n",
       "      <td>[]</td>\n",
       "      <td>2023-06-24T05:26:03</td>\n",
       "      <td>[susbrock, model_DB_visual_wake_words, 221kp6pp]</td>\n",
       "      <td>None</td>\n",
       "      <td>0.881419</td>\n",
       "    </tr>\n",
       "    <tr>\n",
       "      <th>1</th>\n",
       "      <td>hztea71r</td>\n",
       "      <td>mobilenetv2_0.25_96_c3_o2_t3l1024.MV1</td>\n",
       "      <td>finished</td>\n",
       "      <td>15.0</td>\n",
       "      <td>https://wandb.ai/susbrock/model_DB_visual_wake...</td>\n",
       "      <td>mobilenetv2_0.25_96_c3_o2_t3l1024.MV1</td>\n",
       "      <td>50.0</td>\n",
       "      <td>2.0</td>\n",
       "      <td>vvw_minval_datagen_fix</td>\n",
       "      <td>HP-Omen</td>\n",
       "      <td>0.9</td>\n",
       "      <td>Adam</td>\n",
       "      <td>50.0</td>\n",
       "      <td>0.001</td>\n",
       "      <td>0.9</td>\n",
       "      <td>[]</td>\n",
       "      <td>2023-06-24T00:36:33</td>\n",
       "      <td>[susbrock, model_DB_visual_wake_words, hztea71r]</td>\n",
       "      <td>None</td>\n",
       "      <td>0.823497</td>\n",
       "    </tr>\n",
       "    <tr>\n",
       "      <th>2</th>\n",
       "      <td>8g5sok4t</td>\n",
       "      <td>mobilenetv2_0.25_96_c3_o2_t2l1024.MV1</td>\n",
       "      <td>finished</td>\n",
       "      <td>15.0</td>\n",
       "      <td>https://wandb.ai/susbrock/model_DB_visual_wake...</td>\n",
       "      <td>mobilenetv2_0.25_96_c3_o2_t2l1024.MV1</td>\n",
       "      <td>50.0</td>\n",
       "      <td>2.0</td>\n",
       "      <td>vvw_minval_datagen_fix</td>\n",
       "      <td>HP-Omen</td>\n",
       "      <td>0.9</td>\n",
       "      <td>Adam</td>\n",
       "      <td>50.0</td>\n",
       "      <td>0.001</td>\n",
       "      <td>0.9</td>\n",
       "      <td>[]</td>\n",
       "      <td>2023-06-23T20:37:41</td>\n",
       "      <td>[susbrock, model_DB_visual_wake_words, 8g5sok4t]</td>\n",
       "      <td>None</td>\n",
       "      <td>0.808538</td>\n",
       "    </tr>\n",
       "    <tr>\n",
       "      <th>3</th>\n",
       "      <td>wnpfa3mk</td>\n",
       "      <td>mobilenetv2_0.25_96_c3_o2_t1l1024.MV1</td>\n",
       "      <td>finished</td>\n",
       "      <td>15.0</td>\n",
       "      <td>https://wandb.ai/susbrock/model_DB_visual_wake...</td>\n",
       "      <td>mobilenetv2_0.25_96_c3_o2_t1l1024.MV1</td>\n",
       "      <td>50.0</td>\n",
       "      <td>2.0</td>\n",
       "      <td>vvw_minval_datagen_fix</td>\n",
       "      <td>HP-Omen</td>\n",
       "      <td>0.9</td>\n",
       "      <td>Adam</td>\n",
       "      <td>50.0</td>\n",
       "      <td>0.001</td>\n",
       "      <td>0.9</td>\n",
       "      <td>[]</td>\n",
       "      <td>2023-06-23T14:35:50</td>\n",
       "      <td>[susbrock, model_DB_visual_wake_words, wnpfa3mk]</td>\n",
       "      <td>None</td>\n",
       "      <td>0.785825</td>\n",
       "    </tr>\n",
       "    <tr>\n",
       "      <th>4</th>\n",
       "      <td>y2iays89</td>\n",
       "      <td>mobilenetv2_0.25_96_c3_o2_t1l1280.MV1</td>\n",
       "      <td>finished</td>\n",
       "      <td>15.0</td>\n",
       "      <td>https://wandb.ai/susbrock/model_DB_visual_wake...</td>\n",
       "      <td>mobilenetv2_0.25_96_c3_o2_t1l1280.MV1</td>\n",
       "      <td>50.0</td>\n",
       "      <td>2.0</td>\n",
       "      <td>vvw_minval_datagen_fix</td>\n",
       "      <td>HP-Omen</td>\n",
       "      <td>0.9</td>\n",
       "      <td>Adam</td>\n",
       "      <td>50.0</td>\n",
       "      <td>0.001</td>\n",
       "      <td>0.9</td>\n",
       "      <td>[]</td>\n",
       "      <td>2023-06-23T10:17:00</td>\n",
       "      <td>[susbrock, model_DB_visual_wake_words, y2iays89]</td>\n",
       "      <td>None</td>\n",
       "      <td>0.793487</td>\n",
       "    </tr>\n",
       "    <tr>\n",
       "      <th>...</th>\n",
       "      <td>...</td>\n",
       "      <td>...</td>\n",
       "      <td>...</td>\n",
       "      <td>...</td>\n",
       "      <td>...</td>\n",
       "      <td>...</td>\n",
       "      <td>...</td>\n",
       "      <td>...</td>\n",
       "      <td>...</td>\n",
       "      <td>...</td>\n",
       "      <td>...</td>\n",
       "      <td>...</td>\n",
       "      <td>...</td>\n",
       "      <td>...</td>\n",
       "      <td>...</td>\n",
       "      <td>...</td>\n",
       "      <td>...</td>\n",
       "      <td>...</td>\n",
       "      <td>...</td>\n",
       "      <td>...</td>\n",
       "    </tr>\n",
       "    <tr>\n",
       "      <th>391</th>\n",
       "      <td>mtfe7uja</td>\n",
       "      <td>shufflenetv1_0.2_96_c3_o2_g3</td>\n",
       "      <td>finished</td>\n",
       "      <td>15.0</td>\n",
       "      <td>https://wandb.ai/susbrock/model_DB_visual_wake...</td>\n",
       "      <td>shufflenetv1_0.2_96_c3_o2_g3</td>\n",
       "      <td>50.0</td>\n",
       "      <td>2.0</td>\n",
       "      <td>vvw_minval_datagen_fix</td>\n",
       "      <td>NaN</td>\n",
       "      <td>0.9</td>\n",
       "      <td>Adam</td>\n",
       "      <td>50.0</td>\n",
       "      <td>0.001</td>\n",
       "      <td>0.9</td>\n",
       "      <td>[]</td>\n",
       "      <td>2023-02-12T20:17:56</td>\n",
       "      <td>[susbrock, model_DB_visual_wake_words, mtfe7uja]</td>\n",
       "      <td>before fix</td>\n",
       "      <td>0.829061</td>\n",
       "    </tr>\n",
       "    <tr>\n",
       "      <th>392</th>\n",
       "      <td>z01mbqbh</td>\n",
       "      <td>MobilenetV3small_0.2_96_c3_o2_keras</td>\n",
       "      <td>finished</td>\n",
       "      <td>15.0</td>\n",
       "      <td>https://wandb.ai/susbrock/model_DB_visual_wake...</td>\n",
       "      <td>MobilenetV3small_0.2_96_c3_o2_keras</td>\n",
       "      <td>50.0</td>\n",
       "      <td>2.0</td>\n",
       "      <td>vvw_minval_datagen_fix</td>\n",
       "      <td>NaN</td>\n",
       "      <td>0.9</td>\n",
       "      <td>Adam</td>\n",
       "      <td>50.0</td>\n",
       "      <td>0.001</td>\n",
       "      <td>0.9</td>\n",
       "      <td>[]</td>\n",
       "      <td>2023-02-12T16:37:37</td>\n",
       "      <td>[susbrock, model_DB_visual_wake_words, z01mbqbh]</td>\n",
       "      <td>None</td>\n",
       "      <td>0.842835</td>\n",
       "    </tr>\n",
       "    <tr>\n",
       "      <th>393</th>\n",
       "      <td>bifxvci5</td>\n",
       "      <td>MobilenetV3small_0.1_96_c3_o2_keras</td>\n",
       "      <td>finished</td>\n",
       "      <td>15.0</td>\n",
       "      <td>https://wandb.ai/susbrock/model_DB_visual_wake...</td>\n",
       "      <td>MobilenetV3small_0.1_96_c3_o2_keras</td>\n",
       "      <td>50.0</td>\n",
       "      <td>2.0</td>\n",
       "      <td>vvw_minval_datagen_fix</td>\n",
       "      <td>NaN</td>\n",
       "      <td>0.9</td>\n",
       "      <td>Adam</td>\n",
       "      <td>50.0</td>\n",
       "      <td>0.001</td>\n",
       "      <td>0.9</td>\n",
       "      <td>[]</td>\n",
       "      <td>2023-02-12T09:38:05</td>\n",
       "      <td>[susbrock, model_DB_visual_wake_words, bifxvci5]</td>\n",
       "      <td>None</td>\n",
       "      <td>0.836906</td>\n",
       "    </tr>\n",
       "    <tr>\n",
       "      <th>394</th>\n",
       "      <td>i95ulh4b</td>\n",
       "      <td>shufflenetv1_0.2_96_c3_o2_g2</td>\n",
       "      <td>finished</td>\n",
       "      <td>15.0</td>\n",
       "      <td>https://wandb.ai/susbrock/model_DB_visual_wake...</td>\n",
       "      <td>shufflenetv1_0.2_96_c3_o2_g2</td>\n",
       "      <td>50.0</td>\n",
       "      <td>2.0</td>\n",
       "      <td>vvw_minval_datagen_fix</td>\n",
       "      <td>NaN</td>\n",
       "      <td>0.9</td>\n",
       "      <td>Adam</td>\n",
       "      <td>50.0</td>\n",
       "      <td>0.001</td>\n",
       "      <td>0.9</td>\n",
       "      <td>[]</td>\n",
       "      <td>2023-02-12T09:31:40</td>\n",
       "      <td>[susbrock, model_DB_visual_wake_words, i95ulh4b]</td>\n",
       "      <td>None</td>\n",
       "      <td>0.806987</td>\n",
       "    </tr>\n",
       "    <tr>\n",
       "      <th>395</th>\n",
       "      <td>2ipboc60</td>\n",
       "      <td>shufflenetv1_0.2_96_c3_o2_g1</td>\n",
       "      <td>finished</td>\n",
       "      <td>15.0</td>\n",
       "      <td>https://wandb.ai/susbrock/model_DB_visual_wake...</td>\n",
       "      <td>shufflenetv1_0.2_96_c3_o2_g1</td>\n",
       "      <td>50.0</td>\n",
       "      <td>2.0</td>\n",
       "      <td>vvw_minval_datagen_fix</td>\n",
       "      <td>NaN</td>\n",
       "      <td>0.9</td>\n",
       "      <td>Adam</td>\n",
       "      <td>50.0</td>\n",
       "      <td>0.001</td>\n",
       "      <td>0.9</td>\n",
       "      <td>[]</td>\n",
       "      <td>2023-02-11T21:24:57</td>\n",
       "      <td>[susbrock, model_DB_visual_wake_words, 2ipboc60]</td>\n",
       "      <td>None</td>\n",
       "      <td>0.850588</td>\n",
       "    </tr>\n",
       "  </tbody>\n",
       "</table>\n",
       "<p>396 rows × 20 columns</p>\n",
       "</div>"
      ],
      "text/plain": [
       "           id                                        run_name     state  seed  \\\n",
       "0    221kp6pp  mobilenettiny_0.7_96_c3_o2_l4ll16pl64b0.25.MV1  finished  15.0   \n",
       "1    hztea71r           mobilenetv2_0.25_96_c3_o2_t3l1024.MV1  finished  15.0   \n",
       "2    8g5sok4t           mobilenetv2_0.25_96_c3_o2_t2l1024.MV1  finished  15.0   \n",
       "3    wnpfa3mk           mobilenetv2_0.25_96_c3_o2_t1l1024.MV1  finished  15.0   \n",
       "4    y2iays89           mobilenetv2_0.25_96_c3_o2_t1l1280.MV1  finished  15.0   \n",
       "..        ...                                             ...       ...   ...   \n",
       "391  mtfe7uja                    shufflenetv1_0.2_96_c3_o2_g3  finished  15.0   \n",
       "392  z01mbqbh             MobilenetV3small_0.2_96_c3_o2_keras  finished  15.0   \n",
       "393  bifxvci5             MobilenetV3small_0.1_96_c3_o2_keras  finished  15.0   \n",
       "394  i95ulh4b                    shufflenetv1_0.2_96_c3_o2_g2  finished  15.0   \n",
       "395  2ipboc60                    shufflenetv1_0.2_96_c3_o2_g1  finished  15.0   \n",
       "\n",
       "                                                   url  \\\n",
       "0    https://wandb.ai/susbrock/model_DB_visual_wake...   \n",
       "1    https://wandb.ai/susbrock/model_DB_visual_wake...   \n",
       "2    https://wandb.ai/susbrock/model_DB_visual_wake...   \n",
       "3    https://wandb.ai/susbrock/model_DB_visual_wake...   \n",
       "4    https://wandb.ai/susbrock/model_DB_visual_wake...   \n",
       "..                                                 ...   \n",
       "391  https://wandb.ai/susbrock/model_DB_visual_wake...   \n",
       "392  https://wandb.ai/susbrock/model_DB_visual_wake...   \n",
       "393  https://wandb.ai/susbrock/model_DB_visual_wake...   \n",
       "394  https://wandb.ai/susbrock/model_DB_visual_wake...   \n",
       "395  https://wandb.ai/susbrock/model_DB_visual_wake...   \n",
       "\n",
       "                                       architecture  epochs  classes  \\\n",
       "0    mobilenettiny_0.7_96_c3_o2_l4ll16pl64b0.25.MV1    50.0      2.0   \n",
       "1             mobilenetv2_0.25_96_c3_o2_t3l1024.MV1    50.0      2.0   \n",
       "2             mobilenetv2_0.25_96_c3_o2_t2l1024.MV1    50.0      2.0   \n",
       "3             mobilenetv2_0.25_96_c3_o2_t1l1024.MV1    50.0      2.0   \n",
       "4             mobilenetv2_0.25_96_c3_o2_t1l1280.MV1    50.0      2.0   \n",
       "..                                              ...     ...      ...   \n",
       "391                    shufflenetv1_0.2_96_c3_o2_g3    50.0      2.0   \n",
       "392             MobilenetV3small_0.2_96_c3_o2_keras    50.0      2.0   \n",
       "393             MobilenetV3small_0.1_96_c3_o2_keras    50.0      2.0   \n",
       "394                    shufflenetv1_0.2_96_c3_o2_g2    50.0      2.0   \n",
       "395                    shufflenetv1_0.2_96_c3_o2_g1    50.0      2.0   \n",
       "\n",
       "                    dataset hostname  momentum optimizer  batch_size  \\\n",
       "0    vvw_minval_datagen_fix  HP-Omen       0.9      Adam        50.0   \n",
       "1    vvw_minval_datagen_fix  HP-Omen       0.9      Adam        50.0   \n",
       "2    vvw_minval_datagen_fix  HP-Omen       0.9      Adam        50.0   \n",
       "3    vvw_minval_datagen_fix  HP-Omen       0.9      Adam        50.0   \n",
       "4    vvw_minval_datagen_fix  HP-Omen       0.9      Adam        50.0   \n",
       "..                      ...      ...       ...       ...         ...   \n",
       "391  vvw_minval_datagen_fix      NaN       0.9      Adam        50.0   \n",
       "392  vvw_minval_datagen_fix      NaN       0.9      Adam        50.0   \n",
       "393  vvw_minval_datagen_fix      NaN       0.9      Adam        50.0   \n",
       "394  vvw_minval_datagen_fix      NaN       0.9      Adam        50.0   \n",
       "395  vvw_minval_datagen_fix      NaN       0.9      Adam        50.0   \n",
       "\n",
       "     learn_rate  batch_norm_momentum tags           created_at  \\\n",
       "0         0.001                  0.9   []  2023-06-24T05:26:03   \n",
       "1         0.001                  0.9   []  2023-06-24T00:36:33   \n",
       "2         0.001                  0.9   []  2023-06-23T20:37:41   \n",
       "3         0.001                  0.9   []  2023-06-23T14:35:50   \n",
       "4         0.001                  0.9   []  2023-06-23T10:17:00   \n",
       "..          ...                  ...  ...                  ...   \n",
       "391       0.001                  0.9   []  2023-02-12T20:17:56   \n",
       "392       0.001                  0.9   []  2023-02-12T16:37:37   \n",
       "393       0.001                  0.9   []  2023-02-12T09:38:05   \n",
       "394       0.001                  0.9   []  2023-02-12T09:31:40   \n",
       "395       0.001                  0.9   []  2023-02-11T21:24:57   \n",
       "\n",
       "                                                 path       notes  \\\n",
       "0    [susbrock, model_DB_visual_wake_words, 221kp6pp]        None   \n",
       "1    [susbrock, model_DB_visual_wake_words, hztea71r]        None   \n",
       "2    [susbrock, model_DB_visual_wake_words, 8g5sok4t]        None   \n",
       "3    [susbrock, model_DB_visual_wake_words, wnpfa3mk]        None   \n",
       "4    [susbrock, model_DB_visual_wake_words, y2iays89]        None   \n",
       "..                                                ...         ...   \n",
       "391  [susbrock, model_DB_visual_wake_words, mtfe7uja]  before fix   \n",
       "392  [susbrock, model_DB_visual_wake_words, z01mbqbh]        None   \n",
       "393  [susbrock, model_DB_visual_wake_words, bifxvci5]        None   \n",
       "394  [susbrock, model_DB_visual_wake_words, i95ulh4b]        None   \n",
       "395  [susbrock, model_DB_visual_wake_words, 2ipboc60]        None   \n",
       "\n",
       "     test_accuracy  \n",
       "0         0.881419  \n",
       "1         0.823497  \n",
       "2         0.808538  \n",
       "3         0.785825  \n",
       "4         0.793487  \n",
       "..             ...  \n",
       "391       0.829061  \n",
       "392       0.842835  \n",
       "393       0.836906  \n",
       "394       0.806987  \n",
       "395       0.850588  \n",
       "\n",
       "[396 rows x 20 columns]"
      ]
     },
     "execution_count": 39,
     "metadata": {},
     "output_type": "execute_result"
    }
   ],
   "source": [
    "combined_df = wandb_model_vww_training_DB()\n",
    "combined_df"
   ]
  },
  {
   "attachments": {},
   "cell_type": "markdown",
   "metadata": {},
   "source": [
    "# Additional data munging"
   ]
  },
  {
   "cell_type": "code",
   "execution_count": 40,
   "metadata": {},
   "outputs": [],
   "source": [
    "# api = wandb.Api()\n",
    "\n",
    "# # Project is specified by <entity/project-name>\n",
    "# #runs = api.runs(\"susbrock/mobilenetv1vvw\")\n",
    "# runs = api.runs(\"susbrock/model_DB_visual_wake_words\")\n",
    "\n",
    "# summary_list, config_list, name_list = [], [], []\n",
    "# for run in runs: \n",
    "#     # .summary contains the output keys/values for metrics like accuracy.\n",
    "#     #  We call ._json_dict to omit large files \n",
    "#     summary_list.append(run.summary._json_dict)\n",
    "\n",
    "#     # .config contains the hyperparameters.\n",
    "#     #  We remove special values that start with _.\n",
    "#     config_list.append(\n",
    "#         {k: v for k,v in run.config.items()\n",
    "#           if not k.startswith('_')})\n",
    "\n",
    "#     # .name is the human-readable name of the run.\n",
    "#     name_list.append(run.name)\n",
    "\n",
    "# runs_df = pd.DataFrame({\n",
    "#     \"summary\": summary_list,\n",
    "#     \"config\": config_list,\n",
    "#     \"name\": name_list\n",
    "#     })\n"
   ]
  },
  {
   "cell_type": "code",
   "execution_count": null,
   "metadata": {},
   "outputs": [],
   "source": []
  }
 ],
 "metadata": {
  "kernelspec": {
   "display_name": "tiny_cnn_6",
   "language": "python",
   "name": "python3"
  },
  "language_info": {
   "codemirror_mode": {
    "name": "ipython",
    "version": 3
   },
   "file_extension": ".py",
   "mimetype": "text/x-python",
   "name": "python",
   "nbconvert_exporter": "python",
   "pygments_lexer": "ipython3",
   "version": "3.10.6"
  },
  "orig_nbformat": 4,
  "vscode": {
   "interpreter": {
    "hash": "0faa6c31b20b8f809b81d6d7d22a84ccd9f354666f54133d1793fa4c65539801"
   }
  }
 },
 "nbformat": 4,
 "nbformat_minor": 2
}
